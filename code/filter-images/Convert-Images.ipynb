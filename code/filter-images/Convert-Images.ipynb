{
 "metadata": {
  "name": "Convert-Images"
 },
 "nbformat": 3,
 "nbformat_minor": 0,
 "worksheets": [
  {
   "cells": [
    {
     "cell_type": "markdown",
     "metadata": {},
     "source": [
      "# Converting images #\n",
      "\n",
      "Because of library problems I need to convert all images to png\n",
      "\n",
      "To reset the folder, copy all images in the folder images/original to images/all"
     ]
    },
    {
     "cell_type": "code",
     "collapsed": false,
     "input": [
      "from os import walk, popen\n",
      "\n",
      "image_folder = \"../../images/\"\n",
      "jpg_folder = image_folder + \"all/\"\n",
      "\n",
      "for dir,_,_ in walk(jpg_folder):\n",
      "    print(dir)\n",
      "    os.popen(\"mogrify -format png \" + dir + \"/*.jpg\")\n",
      "    os.popen(\"rm \" + dir + \"/*.jpg\")\n",
      "\n",
      "    \n",
      "    "
     ],
     "language": "python",
     "metadata": {},
     "outputs": [
      {
       "output_type": "stream",
       "stream": "stdout",
       "text": [
        "../../images/all/\n",
        "../../images/all/Ernie_Grunfeld\n",
        "../../images/all/Jimmy_Carter\n",
        "../../images/all/George_Bovell\n",
        "../../images/all/Hermogenes_Ebdane_Jr\n",
        "../../images/all/George_Roy_Hill\n",
        "../../images/all/Luciano_Pavarotti\n",
        "../../images/all/David_Anderson"
       ]
      },
      {
       "output_type": "stream",
       "stream": "stdout",
       "text": [
        "\n",
        "../../images/all/Robbie_Naish\n",
        "../../images/all/Stipe_Mesic\n",
        "../../images/all/Robert_Weitzel\n",
        "../../images/all/Mark_Wahlberg\n",
        "../../images/all/Helena_Schneider\n",
        "../../images/all/Cole_Chapman\n",
        "../../images/all/Charlie_Hunnam"
       ]
      },
      {
       "output_type": "stream",
       "stream": "stdout",
       "text": [
        "\n",
        "../../images/all/Celso_Amorim\n",
        "../../images/all/Holly_Robinson_Peete\n",
        "../../images/all/Penelope_Cruz\n",
        "../../images/all/Sylvie_Guillem\n",
        "../../images/all/Nicolas_Eyzaguirre\n",
        "../../images/all/John_Scarlett\n",
        "../../images/all/Natalie_Juniardi"
       ]
      },
      {
       "output_type": "stream",
       "stream": "stdout",
       "text": [
        "\n",
        "../../images/all/William_Rosenberg\n",
        "../../images/all/Jim_Piper\n",
        "../../images/all/Maria_Burks\n",
        "../../images/all/Kay_Bailey_Hutchison\n",
        "../../images/all/Mark_Swartz\n",
        "../../images/all/Thomas_Day\n",
        "../../images/all/Ray_Lucas"
       ]
      },
      {
       "output_type": "stream",
       "stream": "stdout",
       "text": [
        "\n",
        "../../images/all/Stacey_Dales-Schuman\n",
        "../../images/all/Chris_Hernandez\n",
        "../../images/all/Shafal_Mosed\n",
        "../../images/all/Denis_Fassou-Nguesso\n",
        "../../images/all/Jake_Plummer\n",
        "../../images/all/Alejandro_Lembo\n",
        "../../images/all/Raul_Chacon\n",
        "../../images/all/Ibrahim_Haddad"
       ]
      },
      {
       "output_type": "stream",
       "stream": "stdout",
       "text": [
        "\n",
        "../../images/all/Charlie_Coles\n",
        "../../images/all/Gary_Forsee\n",
        "../../images/all/Bartosz_Kizierowski\n",
        "../../images/all/Benazir_Bhutto\n",
        "../../images/all/Jim_Jeffords\n",
        "../../images/all/Keith_Bishop_Jr\n",
        "../../images/all/Debra_Shank\n",
        "../../images/all/Evan_Marriott"
       ]
      },
      {
       "output_type": "stream",
       "stream": "stdout",
       "text": [
        "\n",
        "../../images/all/Bryan_Chui\n",
        "../../images/all/Faye_Wong\n",
        "../../images/all/Drew_Barrymore\n",
        "../../images/all/Carol_Burnett\n",
        "../../images/all/Timothy_Goebel\n",
        "../../images/all/Michael_Killeen\n",
        "../../images/all/John_Manley\n",
        "../../images/all/Stephen_Covey"
       ]
      },
      {
       "output_type": "stream",
       "stream": "stdout",
       "text": [
        "\n",
        "../../images/all/Clint_Lamebear\n",
        "../../images/all/Mohammed_Dahlan\n",
        "../../images/all/Gordana_Grubin\n",
        "../../images/all/Michael_Douglas\n",
        "../../images/all/Steve_Case\n",
        "../../images/all/Steve_Coogan\n",
        "../../images/all/Dan_Wheldon\n",
        "../../images/all/John_Jumper"
       ]
      },
      {
       "output_type": "stream",
       "stream": "stdout",
       "text": [
        "\n",
        "../../images/all/Steve_Waugh\n",
        "../../images/all/Jack_Osbourne\n",
        "../../images/all/Vincent_Brooks\n",
        "../../images/all/Philippe_Noiret\n",
        "../../images/all/Eric_Robert_Rudolph\n",
        "../../images/all/Marie_Haghal\n",
        "../../images/all/Lindsay_Benko\n",
        "../../images/all/William_McDonough\n",
        "../../images/all/Erwin_Mapasseng"
       ]
      },
      {
       "output_type": "stream",
       "stream": "stdout",
       "text": [
        "\n",
        "../../images/all/Roberto_Laratro\n",
        "../../images/all/Steven_Tyler\n",
        "../../images/all/Patti_Balgojevich\n",
        "../../images/all/Christian_Lirette\n",
        "../../images/all/Yoon_Jin-Sik\n",
        "../../images/all/Carlos_Ghosn\n",
        "../../images/all/Taku_Yamasaki\n",
        "../../images/all/Chris_Cooper"
       ]
      },
      {
       "output_type": "stream",
       "stream": "stdout",
       "text": [
        "\n",
        "../../images/all/TJ_Ford\n",
        "../../images/all/Serge_Tchuruk\n",
        "../../images/all/Johnny_Htu\n",
        "../../images/all/Michael_Shane_Jolly\n",
        "../../images/all/Pat_Cox\n",
        "../../images/all/Shannyn_Sossamon\n",
        "../../images/all/Alan_Tang_Kwong-wing\n",
        "../../images/all/Rosalie_Perkov"
       ]
      },
      {
       "output_type": "stream",
       "stream": "stdout",
       "text": [
        "\n",
        "../../images/all/Ken_Dorsey\n",
        "../../images/all/Larry_Templeton\n",
        "../../images/all/Stuart_Townsend\n",
        "../../images/all/Robert_Lee_Yates_Jr\n",
        "../../images/all/Tony_Curtis\n",
        "../../images/all/Gary_Leon_Ridgway\n",
        "../../images/all/Patrick_Bourrat\n",
        "../../images/all/Arnaud_Lagardere\n",
        "../../images/all/Earl_Campbell"
       ]
      },
      {
       "output_type": "stream",
       "stream": "stdout",
       "text": [
        "\n",
        "../../images/all/Inga_Hall\n",
        "../../images/all/Naji_Sabri\n",
        "../../images/all/Debra_Brown\n",
        "../../images/all/Intisar_Ajouri\n",
        "../../images/all/Mark_Salter\n",
        "../../images/all/Ratna_Sari_Dewi_Sukarno\n",
        "../../images/all/Rachel_Leigh_Cook\n",
        "../../images/all/Raf_Vallone"
       ]
      },
      {
       "output_type": "stream",
       "stream": "stdout",
       "text": [
        "\n",
        "../../images/all/James_Franco\n",
        "../../images/all/Roberto_Cavalli\n",
        "../../images/all/Sureyya_Ayhan\n",
        "../../images/all/Robert_Woody_Johnson\n",
        "../../images/all/Shaul_Mofaz\n",
        "../../images/all/Pa_Kou_Hang\n",
        "../../images/all/Edmund_Hillary\n",
        "../../images/all/Peter_Hunt\n",
        "../../images/all/Cora_Cambell"
       ]
      },
      {
       "output_type": "stream",
       "stream": "stdout",
       "text": [
        "\n",
        "../../images/all/Karen_Clarkson\n",
        "../../images/all/Ronaldo_Luis_Nazario_de_Lima\n",
        "../../images/all/Thomas_Klestil\n",
        "../../images/all/Rachel_Roy\n",
        "../../images/all/Elisabeth_Welch\n",
        "../../images/all/Joe_Calzaghe\n",
        "../../images/all/Babe_Ruth\n",
        "../../images/all/Tiger_Woods"
       ]
      },
      {
       "output_type": "stream",
       "stream": "stdout",
       "text": [
        "\n",
        "../../images/all/Jack_Valenti\n",
        "../../images/all/Hitomi_Soga\n",
        "../../images/all/Doug_Moe\n",
        "../../images/all/Placido_Domingo"
       ]
      },
      {
       "output_type": "stream",
       "stream": "stdout",
       "text": [
        "\n",
        "../../images/all/Dan_Morales\n",
        "../../images/all/Joseph_Biden\n",
        "../../images/all/Julien_Boutter\n",
        "../../images/all/Tom_Osborne\n",
        "../../images/all/Jimmy_Lee\n",
        "../../images/all/Horst_Koehler\n",
        "../../images/all/Anjum_Hussain"
       ]
      },
      {
       "output_type": "stream",
       "stream": "stdout",
       "text": [
        "\n",
        "../../images/all/Joshua_Harapko\n",
        "../../images/all/Kevin_James\n",
        "../../images/all/Jada_Pinkett_Smith\n",
        "../../images/all/Jerry_Regier\n",
        "../../images/all/Don_Boudria\n",
        "../../images/all/Vladimiro_Montesinos"
       ]
      },
      {
       "output_type": "stream",
       "stream": "stdout",
       "text": [
        "\n",
        "../../images/all/Phil_Cullen\n",
        "../../images/all/John_Lennon\n",
        "../../images/all/Bob_Cantrell\n",
        "../../images/all/Gabriel_Jorge_Ferreia\n",
        "../../images/all/Yoo_Jay-Kun\n",
        "../../images/all/Michael_Keaton\n",
        "../../images/all/Chris_Cornell\n",
        "../../images/all/Caroline_Dhavernas"
       ]
      },
      {
       "output_type": "stream",
       "stream": "stdout",
       "text": [
        "\n",
        "../../images/all/Leslie_Wiser_Jr\n",
        "../../images/all/Martin_Brooke\n",
        "../../images/all/Guy_Verhofstadt\n",
        "../../images/all/Abraham_Foxman\n",
        "../../images/all/John_Madden"
       ]
      },
      {
       "output_type": "stream",
       "stream": "stdout",
       "text": [
        "\n",
        "../../images/all/Barzan_al-Tikriti\n",
        "../../images/all/Mark_Kelly\n",
        "../../images/all/Renato_Soru\n",
        "../../images/all/Mauro_Viza\n",
        "../../images/all/Michael_Fitzgerald\n",
        "../../images/all/Oscar_Elias_Biscet\n",
        "../../images/all/Chakib_Khelil\n",
        "../../images/all/Ali_Ahmeti"
       ]
      },
      {
       "output_type": "stream",
       "stream": "stdout",
       "text": [
        "\n",
        "../../images/all/Sandra_Bullock\n",
        "../../images/all/David_Stern\n",
        "../../images/all/Matt_Roney\n",
        "../../images/all/Arthur_Johnson\n",
        "../../images/all/Mike_Eskew\n",
        "../../images/all/Omar_Sharif"
       ]
      },
      {
       "output_type": "stream",
       "stream": "stdout",
       "text": [
        "\n",
        "../../images/all/Agnelo_Queiroz\n",
        "../../images/all/Fatmir_Limaj\n",
        "../../images/all/Amy_Redford\n",
        "../../images/all/Leuris_Pupo\n",
        "../../images/all/Antonio_Banderas\n",
        "../../images/all/Ralph_Friedgen\n",
        "../../images/all/Robert_Mugabe"
       ]
      },
      {
       "output_type": "stream",
       "stream": "stdout",
       "text": [
        "\n",
        "../../images/all/Lucie_Lapovsky\n",
        "../../images/all/Donna_Morrissey\n",
        "../../images/all/Rhett_Warrener\n",
        "../../images/all/Evgeni_Plushenko\n",
        "../../images/all/Clark_Randt\n",
        "../../images/all/Pascal_Affi_Nguessan"
       ]
      },
      {
       "output_type": "stream",
       "stream": "stdout",
       "text": [
        "\n",
        "../../images/all/Paul_Cerjan\n",
        "../../images/all/Ian_Thorpe\n",
        "../../images/all/John_Coomber\n",
        "../../images/all/Kieran_Culkin\n",
        "../../images/all/Martin_Scorsese\n",
        "../../images/all/Hadley_Bilger\n",
        "../../images/all/James_Cunningham"
       ]
      },
      {
       "output_type": "stream",
       "stream": "stdout",
       "text": [
        "\n",
        "../../images/all/Sereyvuth_Kem\n",
        "../../images/all/Nizar_Trabelsi\n",
        "../../images/all/Gary_Marshall\n",
        "../../images/all/Quin_Snyder\n",
        "../../images/all/Marcelo_Rios\n",
        "../../images/all/Khatol_Mohammad_Zai\n",
        "../../images/all/Norman_Mineta"
       ]
      },
      {
       "output_type": "stream",
       "stream": "stdout",
       "text": [
        "\n",
        "../../images/all/Jean-Patrick_Nazon\n",
        "../../images/all/Dino_de_Laurentis\n",
        "../../images/all/Patrik_Kristiansson\n",
        "../../images/all/Amanda_Beard\n",
        "../../images/all/Nora_Bendijo\n",
        "../../images/all/Mitsou_Gelinas\n",
        "../../images/all/Theresa_Gattung\n",
        "../../images/all/Aaron_Peirsol\n",
        "../../images/all/Jakob_Kellenberger"
       ]
      },
      {
       "output_type": "stream",
       "stream": "stdout",
       "text": [
        "\n",
        "../../images/all/Richard_Fine\n",
        "../../images/all/Wayne_Brady\n",
        "../../images/all/Chris_Cirino\n",
        "../../images/all/Jessica_Simpson\n",
        "../../images/all/Lucy_Liu\n",
        "../../images/all/James_Young\n",
        "../../images/all/Saeed_Anwar"
       ]
      },
      {
       "output_type": "stream",
       "stream": "stdout",
       "text": [
        "\n",
        "../../images/all/Daryl_Sabara\n",
        "../../images/all/Paul_LeClerc\n",
        "../../images/all/Vivica_Fox\n",
        "../../images/all/Thomas_Kelly\n",
        "../../images/all/Chang_Sang\n",
        "../../images/all/Ibrahim_Jaafari\n",
        "../../images/all/Stockard_Channing"
       ]
      },
      {
       "output_type": "stream",
       "stream": "stdout",
       "text": [
        "\n",
        "../../images/all/Patrick_McEnroe\n",
        "../../images/all/Hugo_Colace\n",
        "../../images/all/Henry_Suazo\n",
        "../../images/all/Tracy_McGrady\n",
        "../../images/all/Eddie_Fenech_Adami\n",
        "../../images/all/Orrin_Hatch\n",
        "../../images/all/Hank_Bass\n",
        "../../images/all/Julia_Glass"
       ]
      },
      {
       "output_type": "stream",
       "stream": "stdout",
       "text": [
        "\n",
        "../../images/all/Thierry_Mariani\n",
        "../../images/all/Johnny_Unitas\n",
        "../../images/all/Kaisser_Bazan\n",
        "../../images/all/Hank_Stram\n",
        "../../images/all/Jose_Alencar\n",
        "../../images/all/Roy_Blunt\n",
        "../../images/all/George_Harrison\n",
        "../../images/all/Roger_Corbett"
       ]
      },
      {
       "output_type": "stream",
       "stream": "stdout",
       "text": [
        "\n",
        "../../images/all/Dick_Devine\n",
        "../../images/all/Rolandas_Paksas\n",
        "../../images/all/Paul_Krueger\n",
        "../../images/all/Chistian_Stahl\n",
        "../../images/all/Alyson_Hannigan\n",
        "../../images/all/Denise_Johnson\n",
        "../../images/all/Barbora_Strycova\n",
        "../../images/all/Julian_Fantino"
       ]
      },
      {
       "output_type": "stream",
       "stream": "stdout",
       "text": [
        "\n",
        "../../images/all/Muwafak_al-Ani\n",
        "../../images/all/Antony_Leung\n",
        "../../images/all/Bison_Dele\n",
        "../../images/all/Kurt_Busch\n",
        "../../images/all/Craig_MacTavish\n",
        "../../images/all/John_Lawrence\n",
        "../../images/all/Halbert_Fillinger\n",
        "../../images/all/William_Rehnquist"
       ]
      },
      {
       "output_type": "stream",
       "stream": "stdout",
       "text": [
        "\n",
        "../../images/all/Nasser_al-Kidwa\n",
        "../../images/all/Farida_Ragoonanan\n",
        "../../images/all/Joel_Gallen\n",
        "../../images/all/Martin_Burnham\n",
        "../../images/all/Alastair_Campbell\n",
        "../../images/all/Lesley_Coppin"
       ]
      },
      {
       "output_type": "stream",
       "stream": "stdout",
       "text": [
        "\n",
        "../../images/all/Vince_Gill\n",
        "../../images/all/Paul_Lo_Duca\n",
        "../../images/all/Miroljub\n",
        "../../images/all/AJ_Cook\n",
        "../../images/all/Michael_Lechner\n",
        "../../images/all/Phillip_Seymor_Hoffmann\n",
        "../../images/all/John_Rowland\n",
        "../../images/all/Maribel_Dominguez"
       ]
      },
      {
       "output_type": "stream",
       "stream": "stdout",
       "text": [
        "\n",
        "../../images/all/Jack_Grubman\n",
        "../../images/all/Sonia_Gandhi\n",
        "../../images/all/Laurent_Jalabert\n",
        "../../images/all/Emmanuelle_Beart\n",
        "../../images/all/Jim_Hardin\n",
        "../../images/all/Lara_Logan\n",
        "../../images/all/Antonio_Elias_Saca\n",
        "../../images/all/Alanis_Morissette"
       ]
      },
      {
       "output_type": "stream",
       "stream": "stdout",
       "text": [
        "\n",
        "../../images/all/Cheryl_Hines\n",
        "../../images/all/Yann_Martel\n",
        "../../images/all/Sahim_Alwan\n",
        "../../images/all/Brad_Gushue\n",
        "../../images/all/Mike_Helton\n",
        "../../images/all/Michael_Schumacher\n",
        "../../images/all/Jackie_Chan\n",
        "../../images/all/Carlos_Queiroz"
       ]
      },
      {
       "output_type": "stream",
       "stream": "stdout",
       "text": [
        "\n",
        "../../images/all/Michael_Diekmann\n",
        "../../images/all/Ralph_Firman\n",
        "../../images/all/Chris_Claiborne\n",
        "../../images/all/Samira_Makhmalbaf\n",
        "../../images/all/Pedro_Almodovar\n",
        "../../images/all/Beecher_Ray_Kirby\n",
        "../../images/all/Joy_Lee_Sadler"
       ]
      },
      {
       "output_type": "stream",
       "stream": "stdout",
       "text": [
        "\n",
        "../../images/all/Aaron_Pena\n",
        "../../images/all/JK_Rowling\n",
        "../../images/all/Donald_Regan\n",
        "../../images/all/Aitor_Gonzalez\n",
        "../../images/all/Jason_Clermont"
       ]
      },
      {
       "output_type": "stream",
       "stream": "stdout",
       "text": [
        "\n",
        "../../images/all/Jean-Claude_Trichet\n",
        "../../images/all/Boris_Henry\n",
        "../../images/all/Herb_Ritts\n",
        "../../images/all/Antje_Buschschulte\n",
        "../../images/all/Moon-So-ri\n",
        "../../images/all/Robert_Torricelli\n",
        "../../images/all/Mike_Tyson"
       ]
      },
      {
       "output_type": "stream",
       "stream": "stdout",
       "text": [
        "\n",
        "../../images/all/Timothy_McVeigh\n",
        "../../images/all/Alex_Cabrera\n",
        "../../images/all/Sanjay_Gupta\n",
        "../../images/all/Maria_Shkolnikova\n",
        "../../images/all/Michael_Doleac\n",
        "../../images/all/Matt_Anderson\n",
        "../../images/all/Robert_Wagner\n",
        "../../images/all/Roberto_Tovar"
       ]
      },
      {
       "output_type": "stream",
       "stream": "stdout",
       "text": [
        "\n",
        "../../images/all/Scott_Dalton\n",
        "../../images/all/Janet_Chandler\n",
        "../../images/all/Greg_Hodge\n",
        "../../images/all/Julie_Infante\n",
        "../../images/all/Mary-Kate_Olsen\n",
        "../../images/all/Ali_Khamenei\n",
        "../../images/all/Rachel_Corrie\n",
        "../../images/all/Yang_Hee_Kim"
       ]
      },
      {
       "output_type": "stream",
       "stream": "stdout",
       "text": [
        "\n",
        "../../images/all/Mary_Katherine_Smart\n",
        "../../images/all/Chris_Dodd\n",
        "../../images/all/Mariangel_Ruiz_Torrealba\n",
        "../../images/all/Keith_Tyson\n",
        "../../images/all/Diana_Silvius\n",
        "../../images/all/Ramona_Rispton\n",
        "../../images/all/Brendan_Fraser\n",
        "../../images/all/Gary_Dellaverson"
       ]
      },
      {
       "output_type": "stream",
       "stream": "stdout",
       "text": [
        "\n",
        "../../images/all/Fred_Wilpon\n",
        "../../images/all/Janet_Horvath\n",
        "../../images/all/Abdullatif_Sener\n",
        "../../images/all/Todd_MacCulloch\n",
        "../../images/all/Mikhail_Kalashnikov\n",
        "../../images/all/Cathy_Cunningham\n",
        "../../images/all/Jim_Harrick"
       ]
      },
      {
       "output_type": "stream",
       "stream": "stdout",
       "text": [
        "\n",
        "../../images/all/Narendra_Modi\n",
        "../../images/all/Roger_Lyons\n",
        "../../images/all/Jerry_Sloan\n",
        "../../images/all/Bill_Guerin\n",
        "../../images/all/Ilie_Nastase\n",
        "../../images/all/George_McCloud"
       ]
      },
      {
       "output_type": "stream",
       "stream": "stdout",
       "text": [
        "\n",
        "../../images/all/Jose_Rosado\n",
        "../../images/all/Ravan_AG_Farhadi\n",
        "../../images/all/Nawabzada_Nasrullah_Khan\n",
        "../../images/all/Zumrati_Juma\n",
        "../../images/all/Nathirah_Hussein\n",
        "../../images/all/Diego_Armando_Maradona\n",
        "../../images/all/Alex_Holmes\n",
        "../../images/all/Jo_Joong-hyon"
       ]
      },
      {
       "output_type": "stream",
       "stream": "stdout",
       "text": [
        "\n",
        "../../images/all/Sherri_Coale\n",
        "../../images/all/Kaio_Almeida\n",
        "../../images/all/Vojislav_Seselj\n",
        "../../images/all/Howard_Stern\n",
        "../../images/all/Ben_Affleck\n",
        "../../images/all/Angela_Alvarado_Rosa\n",
        "../../images/all/Pat_Rochester"
       ]
      },
      {
       "output_type": "stream",
       "stream": "stdout",
       "text": [
        "\n",
        "../../images/all/Bob_Eskridge\n",
        "../../images/all/Richard_Jefferson\n",
        "../../images/all/Surakait_Sathirathai\n",
        "../../images/all/Donna_Walker\n",
        "../../images/all/Mark_Schweiker\n",
        "../../images/all/Oliver_Stone"
       ]
      },
      {
       "output_type": "stream",
       "stream": "stdout",
       "text": [
        "\n",
        "../../images/all/Yashwant_Sinha\n",
        "../../images/all/Tom_Smothers\n",
        "../../images/all/Fred_Durst\n",
        "../../images/all/Steven_Hatfill\n",
        "../../images/all/Vernon_Forrest\n",
        "../../images/all/Yoon_Won-Sik\n",
        "../../images/all/John_Geoghan"
       ]
      },
      {
       "output_type": "stream",
       "stream": "stdout",
       "text": [
        "\n",
        "../../images/all/Jaime_Orti\n",
        "../../images/all/Scott_Wittman\n",
        "../../images/all/Mikhail_Gorbachev\n",
        "../../images/all/Atsushi_Sato\n",
        "../../images/all/John_Dallager\n",
        "../../images/all/Craig_Morgan\n",
        "../../images/all/Scott_Rolen\n",
        "../../images/all/John_Gruden"
       ]
      },
      {
       "output_type": "stream",
       "stream": "stdout",
       "text": [
        "\n",
        "../../images/all/Tim_Pawlenty\n",
        "../../images/all/Matt_Siebrandt\n",
        "../../images/all/Luis_Sanchez\n",
        "../../images/all/Chea_Sophara\n",
        "../../images/all/Christopher_Matero\n",
        "../../images/all/Robert_Tyrrell\n",
        "../../images/all/Paul_Kariya\n",
        "../../images/all/Jerry_Sexton"
       ]
      },
      {
       "output_type": "stream",
       "stream": "stdout",
       "text": [
        "\n",
        "../../images/all/Julius_Erving\n",
        "../../images/all/Tony_Bennett\n",
        "../../images/all/Nicolas_Kiefer\n",
        "../../images/all/Craig_Fitzgibbon\n",
        "../../images/all/Walter_Woods\n",
        "../../images/all/Ilham_Aliev\n",
        "../../images/all/Todd_Robbins\n",
        "../../images/all/Inocencio_Arias"
       ]
      },
      {
       "output_type": "stream",
       "stream": "stdout",
       "text": [
        "\n",
        "../../images/all/Jennette_Bradley\n",
        "../../images/all/Robert_Blackwill\n",
        "../../images/all/David_Hanson\n",
        "../../images/all/Yuvraj_Singh\n",
        "../../images/all/Albaro_Recoba\n",
        "../../images/all/Francis_George\n",
        "../../images/all/Barbara_Bodine"
       ]
      },
      {
       "output_type": "stream",
       "stream": "stdout",
       "text": [
        "\n",
        "../../images/all/Michael_Capellas\n",
        "../../images/all/Kostya_Tszyu\n",
        "../../images/all/Art_Howe\n",
        "../../images/all/Yogi_Berra\n",
        "../../images/all/Maggie_Smith\n",
        "../../images/all/Matthew_Ouimet\n",
        "../../images/all/Annie_Chaplin\n",
        "../../images/all/Koji_Uehara"
       ]
      },
      {
       "output_type": "stream",
       "stream": "stdout",
       "text": [
        "\n",
        "../../images/all/Laura_Ziskin\n",
        "../../images/all/Edgar_Savisaar\n",
        "../../images/all/Sebastien_Grosjean\n",
        "../../images/all/Francois_Pienaar\n",
        "../../images/all/Miyako_Miyazaki\n",
        "../../images/all/Kristin_Scott_Thomas\n",
        "../../images/all/Jerry_Seinfeld"
       ]
      },
      {
       "output_type": "stream",
       "stream": "stdout",
       "text": [
        "\n",
        "../../images/all/Lachlan_Murdoch\n",
        "../../images/all/Lindsey_Graham\n",
        "../../images/all/Eddie_Sutton\n",
        "../../images/all/Steve_Allee\n",
        "../../images/all/John_Allen_Muhammad\n",
        "../../images/all/El_Hadji_Diouf\n",
        "../../images/all/Mark_Warner\n",
        "../../images/all/Renee_Zellweger"
       ]
      },
      {
       "output_type": "stream",
       "stream": "stdout",
       "text": [
        "\n",
        "../../images/all/David_Obey\n",
        "../../images/all/Jason_Campbell\n",
        "../../images/all/Mekhi_Phifer\n",
        "../../images/all/John_Engler\n",
        "../../images/all/Franklin_Damann\n",
        "../../images/all/Sean_OKeefe"
       ]
      },
      {
       "output_type": "stream",
       "stream": "stdout",
       "text": [
        "\n",
        "../../images/all/Jean-Francois_Lemounier\n",
        "../../images/all/Jen_Schefft\n",
        "../../images/all/Bob_Crippen\n",
        "../../images/all/Andrew_Shutley\n",
        "../../images/all/Oswald_Gruebel\n",
        "../../images/all/Sebastian_Cuattrin\n",
        "../../images/all/Melana_Scantlin"
       ]
      },
      {
       "output_type": "stream",
       "stream": "stdout",
       "text": [
        "\n",
        "../../images/all/Marion_Fahnestock\n",
        "../../images/all/Nancy_Reagan\n",
        "../../images/all/Joe_Paterno\n",
        "../../images/all/Heather_Mills\n",
        "../../images/all/Etta_James\n",
        "../../images/all/Richard_Crenna\n",
        "../../images/all/Martin_Torrijos\n",
        "../../images/all/Meg_Wakeman"
       ]
      },
      {
       "output_type": "stream",
       "stream": "stdout",
       "text": [
        "\n",
        "../../images/all/Liu_Xiaoqing\n",
        "../../images/all/Galen_Rowell\n",
        "../../images/all/Shaun_Rusling\n",
        "../../images/all/Mario_Gallegos\n",
        "../../images/all/Roger_Grimes\n",
        "../../images/all/Anthony_Hopkins"
       ]
      },
      {
       "output_type": "stream",
       "stream": "stdout",
       "text": [
        "\n",
        "../../images/all/Dan_Guerrero\n",
        "../../images/all/Vicente_Fernandez\n",
        "../../images/all/Lena_Olin\n",
        "../../images/all/Steve_Park\n",
        "../../images/all/Victoria_Clarke\n",
        "../../images/all/Aung_San_Suu_Kyi\n",
        "../../images/all/Ben_Howland\n",
        "../../images/all/Peter_Mugyeni"
       ]
      },
      {
       "output_type": "stream",
       "stream": "stdout",
       "text": [
        "\n",
        "../../images/all/Pete_Gillen\n",
        "../../images/all/Michael_Goldrich\n",
        "../../images/all/Andres_Pastrana\n",
        "../../images/all/Colin_Powell\n",
        "../../images/all/Erika_Christensen\n",
        "../../images/all/Kevin_Gil\n",
        "../../images/all/Melissa_Joan_Hart"
       ]
      },
      {
       "output_type": "stream",
       "stream": "stdout",
       "text": [
        "\n",
        "../../images/all/Jeffrey_Jones\n",
        "../../images/all/Jamie_Carey\n",
        "../../images/all/Diana_Taylor\n",
        "../../images/all/Toshi_Izawa\n",
        "../../images/all/Antonio_Bernardo\n",
        "../../images/all/Terence_Newman\n",
        "../../images/all/Tom_McClintock\n",
        "../../images/all/Ester_Canadas"
       ]
      },
      {
       "output_type": "stream",
       "stream": "stdout",
       "text": [
        "\n",
        "../../images/all/Manijeh_Hekmat\n",
        "../../images/all/Yale_Kamisar\n",
        "../../images/all/Hu_Jintao\n",
        "../../images/all/Colleen_Atwood\n",
        "../../images/all/Kenny_Brack\n",
        "../../images/all/Kirk_Johnson"
       ]
      },
      {
       "output_type": "stream",
       "stream": "stdout",
       "text": [
        "\n",
        "../../images/all/Willie_Wilson\n",
        "../../images/all/Claudia_Coslovich\n",
        "../../images/all/Willie_Nelson\n",
        "../../images/all/David_Bisbal\n",
        "../../images/all/Coleen_Rowley\n",
        "../../images/all/Tyron_Garner"
       ]
      },
      {
       "output_type": "stream",
       "stream": "stdout",
       "text": [
        "\n",
        "../../images/all/Liliana_Cavani\n",
        "../../images/all/Karl-Heinz_Rummenigge\n",
        "../../images/all/Michel_Duclos\n",
        "../../images/all/Carol_Niedermayer\n",
        "../../images/all/James_Schultz\n",
        "../../images/all/Luke_Ridnour\n",
        "../../images/all/Kristanna_Loken"
       ]
      },
      {
       "output_type": "stream",
       "stream": "stdout",
       "text": [
        "\n",
        "../../images/all/Ben_Cahoon\n",
        "../../images/all/Javier_Solana\n",
        "../../images/all/Izzat_Ibrahim\n",
        "../../images/all/Anna_Kournikova\n",
        "../../images/all/Tom_Koenigs\n",
        "../../images/all/Habib_Rizieq"
       ]
      },
      {
       "output_type": "stream",
       "stream": "stdout",
       "text": [
        "\n",
        "../../images/all/Andrei_Nikolishin\n",
        "../../images/all/Dianne_Reeves\n",
        "../../images/all/Will_Smith\n",
        "../../images/all/Boris_Jordan\n",
        "../../images/all/Gerald_Barbarito"
       ]
      },
      {
       "output_type": "stream",
       "stream": "stdout",
       "text": [
        "\n",
        "../../images/all/John_Tyson\n",
        "../../images/all/Melissa_Etheridge\n",
        "../../images/all/Robert_Stack\n",
        "../../images/all/David_Brinkley\n",
        "../../images/all/Paola_Espinoza"
       ]
      },
      {
       "output_type": "stream",
       "stream": "stdout",
       "text": [
        "\n",
        "../../images/all/Rosalyn_Carter\n",
        "../../images/all/John_Velazquez\n",
        "../../images/all/Din_Samsudin\n",
        "../../images/all/Barry_Diller\n",
        "../../images/all/Greg_Kinsey\n",
        "../../images/all/Greg_Rusedski\n",
        "../../images/all/Larry_Hagman"
       ]
      },
      {
       "output_type": "stream",
       "stream": "stdout",
       "text": [
        "\n",
        "../../images/all/Mario_Austin\n",
        "../../images/all/Doris_Schroeder\n",
        "../../images/all/Jason_Alexander\n",
        "../../images/all/Nathan_Doudney\n",
        "../../images/all/Perri_Shaw"
       ]
      },
      {
       "output_type": "stream",
       "stream": "stdout",
       "text": [
        "\n",
        "../../images/all/Hannah_Stockbauer\n",
        "../../images/all/Bill_Clinton\n",
        "../../images/all/Frank_Murkowski\n",
        "../../images/all/Saied_Hadi_al_Mudarissi\n",
        "../../images/all/George_Brumley\n",
        "../../images/all/Junichiro_Koizumi\n",
        "../../images/all/Riek_Blanjaar"
       ]
      },
      {
       "output_type": "stream",
       "stream": "stdout",
       "text": [
        "\n",
        "../../images/all/Debbie_Reynolds\n",
        "../../images/all/Alessandra_Cerna\n",
        "../../images/all/Alexander_Lukashenko\n",
        "../../images/all/Mara_Georges\n",
        "../../images/all/Eric_Fehr"
       ]
      },
      {
       "output_type": "stream",
       "stream": "stdout",
       "text": [
        "\n",
        "../../images/all/Scott_Weiland\n",
        "../../images/all/Julius_Barnes\n",
        "../../images/all/Sohail_Abbas\n",
        "../../images/all/Goran_Zivkovic\n",
        "../../images/all/Rey_Sanchez"
       ]
      },
      {
       "output_type": "stream",
       "stream": "stdout",
       "text": [
        "\n",
        "../../images/all/Brian_Wells\n",
        "../../images/all/Max_Mayfield\n",
        "../../images/all/Anthony_Principi\n",
        "../../images/all/Igor_Ivanov\n",
        "../../images/all/Jesse_James"
       ]
      },
      {
       "output_type": "stream",
       "stream": "stdout",
       "text": [
        "\n",
        "../../images/all/Hidetoshi_Nakata\n",
        "../../images/all/Sofia_Milos\n",
        "../../images/all/Diana_Ross\n",
        "../../images/all/Duane_Lee_Chapman\n",
        "../../images/all/Scott_Dickson\n",
        "../../images/all/Curtis_Strange"
       ]
      },
      {
       "output_type": "stream",
       "stream": "stdout",
       "text": [
        "\n",
        "../../images/all/Roy_Rogers\n",
        "../../images/all/Tino_Martinez\n",
        "../../images/all/Chris_Crocker\n",
        "../../images/all/Lou_Reed\n",
        "../../images/all/Alexandra_Stevenson\n",
        "../../images/all/Maurice_Strong"
       ]
      },
      {
       "output_type": "stream",
       "stream": "stdout",
       "text": [
        "\n",
        "../../images/all/Richard_Butler\n",
        "../../images/all/Anwar_Ibrahim\n",
        "../../images/all/Jeff_Roehm\n",
        "../../images/all/Steve_Valentine\n",
        "../../images/all/Mike_Babcock\n",
        "../../images/all/Corinna_Harfouch"
       ]
      },
      {
       "output_type": "stream",
       "stream": "stdout",
       "text": [
        "\n",
        "../../images/all/Pedro_Velasquez\n",
        "../../images/all/Minnie_Mendoza\n",
        "../../images/all/Chen_Shui-bian\n",
        "../../images/all/Turner_Stevenson\n",
        "../../images/all/Supachai_Panitchpakdi\n",
        "../../images/all/Penelope_Taylor"
       ]
      },
      {
       "output_type": "stream",
       "stream": "stdout",
       "text": [
        "\n",
        "../../images/all/Elaine_Chao\n",
        "../../images/all/Roel_Campos\n",
        "../../images/all/Nelson_Shanks\n",
        "../../images/all/Tamika_Catchings\n",
        "../../images/all/Jerelle_Kraus\n",
        "../../images/all/Judith_Nathan\n",
        "../../images/all/Stephen_Silas"
       ]
      },
      {
       "output_type": "stream",
       "stream": "stdout",
       "text": [
        "\n",
        "../../images/all/Alfredo_di_Stefano\n",
        "../../images/all/Yasser_Arafat\n",
        "../../images/all/Camille_Lewis\n",
        "../../images/all/Eduard_Shevardnadze\n",
        "../../images/all/Ed_Case"
       ]
      },
      {
       "output_type": "stream",
       "stream": "stdout",
       "text": [
        "\n",
        "../../images/all/Carlos_Salinas"
       ]
      },
      {
       "output_type": "stream",
       "stream": "stdout",
       "text": [
        "\n",
        "../../images/all/Gretchen_Mol\n",
        "../../images/all/Chip_Ganassi"
       ]
      },
      {
       "output_type": "stream",
       "stream": "stdout",
       "text": [
        "\n",
        "../../images/all/Harald_Ringstorff\n",
        "../../images/all/Stephen_Keener\n",
        "../../images/all/Rodney_Dangerfield\n",
        "../../images/all/John_Taylor\n",
        "../../images/all/Philip_Zalewski\n",
        "../../images/all/Todd_Reid\n",
        "../../images/all/Rachel_Wheatley\n",
        "../../images/all/George_Foreman\n",
        "../../images/all/Adam_Ant"
       ]
      },
      {
       "output_type": "stream",
       "stream": "stdout",
       "text": [
        "\n",
        "../../images/all/Benjamin_Neulander\n",
        "../../images/all/Joanne_Duquette\n",
        "../../images/all/Johnny_Benson\n",
        "../../images/all/Jorge_Alberto_Galindo\n",
        "../../images/all/Frank_Van_Ecke\n",
        "../../images/all/Bryce_Carmine\n",
        "../../images/all/Carlos_Lordkipanitse"
       ]
      },
      {
       "output_type": "stream",
       "stream": "stdout",
       "text": [
        "\n",
        "../../images/all/Nila_Ferran\n",
        "../../images/all/Evo_Morales\n",
        "../../images/all/Bobby_Goldwater\n",
        "../../images/all/James_Butts\n",
        "../../images/all/Frank_Wycheck\n",
        "../../images/all/Steve_Spurrier\n",
        "../../images/all/Sandra_Shamas\n",
        "../../images/all/Mary_Matalin"
       ]
      },
      {
       "output_type": "stream",
       "stream": "stdout",
       "text": [
        "\n",
        "../../images/all/Oscar_De_La_Hoya\n",
        "../../images/all/Nur_Jaafar\n",
        "../../images/all/Marian_Dolan\n",
        "../../images/all/Carlos_Barra\n",
        "../../images/all/Kenneth_Branagh\n",
        "../../images/all/Patrice_Chereau\n",
        "../../images/all/Pyar_Jung_Thapa\n",
        "../../images/all/Jim_OBrien"
       ]
      },
      {
       "output_type": "stream",
       "stream": "stdout",
       "text": [
        "\n",
        "../../images/all/Bing_Crosby\n",
        "../../images/all/Miguel_Contreras\n",
        "../../images/all/Colleen_OClair\n",
        "../../images/all/Jane_Pauley\n",
        "../../images/all/Eddie_Lewis\n",
        "../../images/all/Rob_Schneider\n",
        "../../images/all/Eric_Vigouroux"
       ]
      },
      {
       "output_type": "stream",
       "stream": "stdout",
       "text": [
        "\n",
        "../../images/all/Wayne_Allard\n",
        "../../images/all/Didier_Defago\n",
        "../../images/all/David_Leahy\n",
        "../../images/all/Markus_Beyer\n",
        "../../images/all/Bart_Freundlich\n",
        "../../images/all/David_Hyde_Pierce\n",
        "../../images/all/Alan_Greenspan"
       ]
      },
      {
       "output_type": "stream",
       "stream": "stdout",
       "text": [
        "\n",
        "../../images/all/Vladimir_Voltchkov\n",
        "../../images/all/Jacques_Rogge\n",
        "../../images/all/Alex_Zanardi\n",
        "../../images/all/Tom_Curley\n",
        "../../images/all/Marco_Pantani\n",
        "../../images/all/Joe_Garner"
       ]
      },
      {
       "output_type": "stream",
       "stream": "stdout",
       "text": [
        "\n",
        "../../images/all/Ann_Morgan\n",
        "../../images/all/Maryn_McKenna\n",
        "../../images/all/Tamara_Brooks\n",
        "../../images/all/Taia_Balk\n",
        "../../images/all/Ian_Knop\n",
        "../../images/all/Tommy_Thompson\n",
        "../../images/all/Mark_Andrew"
       ]
      },
      {
       "output_type": "stream",
       "stream": "stdout",
       "text": [
        "\n",
        "../../images/all/Jeanne_Anne_Schroeder\n",
        "../../images/all/Uzi_Even\n",
        "../../images/all/Vinnie_Jones\n",
        "../../images/all/Brennon_Leighton\n",
        "../../images/all/James_Meeks\n",
        "../../images/all/Alain_Ducasse\n",
        "../../images/all/Gary_Bald\n",
        "../../images/all/Ricardo_Mayorga"
       ]
      },
      {
       "output_type": "stream",
       "stream": "stdout",
       "text": [
        "\n",
        "../../images/all/Mark_Foley\n",
        "../../images/all/Martin_Kristof\n",
        "../../images/all/Sean_Penn\n",
        "../../images/all/Tommy_Shane_Steiner\n",
        "../../images/all/Robbie_Coltrane\n",
        "../../images/all/Alicia_Keys\n",
        "../../images/all/Mike_Easley"
       ]
      },
      {
       "output_type": "stream",
       "stream": "stdout",
       "text": [
        "\n",
        "../../images/all/Jennifer_Connelly\n",
        "../../images/all/Leslie_Ann_Woodward\n",
        "../../images/all/Alan_Zemaitis\n",
        "../../images/all/Mickey_Loomis\n",
        "../../images/all/Jose_Luis_Chilavert\n",
        "../../images/all/Rio_Ferdinand\n",
        "../../images/all/Ruth_Dreifuss"
       ]
      },
      {
       "output_type": "stream",
       "stream": "stdout",
       "text": [
        "\n",
        "../../images/all/Rhina_Villatoro\n",
        "../../images/all/Ward_Cuff\n",
        "../../images/all/Micky_Ward\n",
        "../../images/all/Antonio_Trillanes\n",
        "../../images/all/Vytas_Danelius\n",
        "../../images/all/Steven_Feldman"
       ]
      },
      {
       "output_type": "stream",
       "stream": "stdout",
       "text": [
        "\n",
        "../../images/all/Brian_Lara\n",
        "../../images/all/Kim_Jong-Il\n",
        "../../images/all/Pedro_Duque\n",
        "../../images/all/Charlene_Barshefsky\n",
        "../../images/all/Teddy_Kollek\n",
        "../../images/all/Saadi_Gadhafi\n",
        "../../images/all/Patty_Duke"
       ]
      },
      {
       "output_type": "stream",
       "stream": "stdout",
       "text": [
        "\n",
        "../../images/all/Gustavo_Terrazas\n",
        "../../images/all/Steny_Hoyer\n",
        "../../images/all/Rachel_Kempson\n",
        "../../images/all/Claire_Leger\n",
        "../../images/all/Michele_Placido\n",
        "../../images/all/Rick_Stansbury\n",
        "../../images/all/Roland_Koch"
       ]
      },
      {
       "output_type": "stream",
       "stream": "stdout",
       "text": [
        "\n",
        "../../images/all/Dick_Latessa\n",
        "../../images/all/Ekaterina_Dmitriev\n",
        "../../images/all/Bob_Geldof\n",
        "../../images/all/Billy_Boyd\n",
        "../../images/all/Bixente_LIzarazu\n",
        "../../images/all/Crispin_Glover\n",
        "../../images/all/Darryl_Stingley\n",
        "../../images/all/Zoe_Ball"
       ]
      },
      {
       "output_type": "stream",
       "stream": "stdout",
       "text": [
        "\n",
        "../../images/all/Ernie_Fletcher\n",
        "../../images/all/Kevin_Tarrant\n",
        "../../images/all/Keith_Fotta\n",
        "../../images/all/Tali_Imani\n",
        "../../images/all/Juan_Antonio_Samaranch"
       ]
      },
      {
       "output_type": "stream",
       "stream": "stdout",
       "text": [
        "\n",
        "../../images/all/Hilda_Fortune\n",
        "../../images/all/Tina_Andrews\n",
        "../../images/all/Ashley_Olsen\n",
        "../../images/all/Carlos_Fasciolo\n",
        "../../images/all/Helen_Alvare\n",
        "../../images/all/Clara_Harris\n",
        "../../images/all/Laurie_Chan\n",
        "../../images/all/Andy_Hebb"
       ]
      },
      {
       "output_type": "stream",
       "stream": "stdout",
       "text": [
        "\n",
        "../../images/all/Bill_Parcells\n",
        "../../images/all/Roger_Moore\n",
        "../../images/all/Ralph_Sampson\n",
        "../../images/all/Peter_Schultz\n",
        "../../images/all/Faye_Dunaway\n",
        "../../images/all/Tom_Vilsack\n",
        "../../images/all/Natalia_Vodonova"
       ]
      },
      {
       "output_type": "stream",
       "stream": "stdout",
       "text": [
        "\n",
        "../../images/all/Leon_Barmore\n",
        "../../images/all/Dominique_Perben\n",
        "../../images/all/Steve_Largent\n",
        "../../images/all/Mark_Polansky\n",
        "../../images/all/Adam_Sandler\n",
        "../../images/all/Teresa_Heinz_Kerry\n",
        "../../images/all/Geraldo_Rivera"
       ]
      },
      {
       "output_type": "stream",
       "stream": "stdout",
       "text": [
        "\n",
        "../../images/all/Mark_Lazarus\n",
        "../../images/all/Susie_Castillo\n",
        "../../images/all/Takashi_Yamamoto\n",
        "../../images/all/Dustin_Hoffman\n",
        "../../images/all/Larry_Johnson\n",
        "../../images/all/Susan_Sarandon"
       ]
      },
      {
       "output_type": "stream",
       "stream": "stdout",
       "text": [
        "\n",
        "../../images/all/Keith_Bogans\n",
        "../../images/all/Sinead_OConnor\n",
        "../../images/all/Doug_Racine\n",
        "../../images/all/Jonathan_Arden\n",
        "../../images/all/Sergio_Vieira_De_Mello\n",
        "../../images/all/Teri_Files\n",
        "../../images/all/Butch_Davis"
       ]
      },
      {
       "output_type": "stream",
       "stream": "stdout",
       "text": [
        "\n",
        "../../images/all/Christine_Todd_Whitman\n",
        "../../images/all/Jim_Carrey\n",
        "../../images/all/Wei_Wu\n",
        "../../images/all/Barbara_Esbin\n",
        "../../images/all/Bob_Taft\n",
        "../../images/all/Bill_Callahan\n",
        "../../images/all/Chin-Hui_Tsao"
       ]
      },
      {
       "output_type": "stream",
       "stream": "stdout",
       "text": [
        "\n",
        "../../images/all/Ramiro_Goben_Reducindo\n",
        "../../images/all/Stella_Tennant\n",
        "../../images/all/Charla_Moye\n",
        "../../images/all/Carrie-Anne_Moss\n",
        "../../images/all/Raul_Ibanez\n",
        "../../images/all/Andrew_Bunner"
       ]
      },
      {
       "output_type": "stream",
       "stream": "stdout",
       "text": [
        "\n",
        "../../images/all/Gregg_Popovich\n",
        "../../images/all/Justin_Leonard\n",
        "../../images/all/Gwendal_Peizerat\n",
        "../../images/all/Christy_Turlington\n",
        "../../images/all/Arie_Haan\n",
        "../../images/all/Soon_Yi\n",
        "../../images/all/Cristina_Fernandez"
       ]
      },
      {
       "output_type": "stream",
       "stream": "stdout",
       "text": [
        "\n",
        "../../images/all/Kultida_Woods\n",
        "../../images/all/Donald_Anderson\n",
        "../../images/all/Wang_Yi\n",
        "../../images/all/Mohammad_Mustapha_Miro\n",
        "../../images/all/Thomas_Rupprath\n",
        "../../images/all/Rainer_Gut\n",
        "../../images/all/Wolfgang_Schneiderhan"
       ]
      },
      {
       "output_type": "stream",
       "stream": "stdout",
       "text": [
        "\n",
        "../../images/all/Martin_Boryczewski\n",
        "../../images/all/Lucrecia_Orozco\n",
        "../../images/all/Denise_van_Outen\n",
        "../../images/all/Nikki_Teasley\n",
        "../../images/all/Stephen_Crampton\n",
        "../../images/all/John_Belushi\n",
        "../../images/all/Jean-Marc_Olive\n",
        "../../images/all/Felipe_De_Borbon"
       ]
      },
      {
       "output_type": "stream",
       "stream": "stdout",
       "text": [
        "\n",
        "../../images/all/Donna_Barrera\n",
        "../../images/all/Pedro_Malan\n",
        "../../images/all/Dyana_Calub\n",
        "../../images/all/Bashar_Assad\n",
        "../../images/all/Darlene_Garrettson\n",
        "../../images/all/Amy_Smart\n",
        "../../images/all/Robert_Korzeniowski"
       ]
      },
      {
       "output_type": "stream",
       "stream": "stdout",
       "text": [
        "\n",
        "../../images/all/Paddy_Long\n",
        "../../images/all/Guus_Hiddink\n",
        "../../images/all/Joan_Jett\n",
        "../../images/all/Doug_Wilson\n",
        "../../images/all/Jan_van_Breda_Kolff\n",
        "../../images/all/Walid_Al-Awadi\n",
        "../../images/all/Toshihiko_Fukui"
       ]
      },
      {
       "output_type": "stream",
       "stream": "stdout",
       "text": [
        "\n",
        "../../images/all/King_Bhumibol_Adulyadej\n",
        "../../images/all/Gunter_Pleuger\n",
        "../../images/all/Mike_Flanagan\n",
        "../../images/all/Ashton_Kutcher\n",
        "../../images/all/Elsa_Zylberstein\n",
        "../../images/all/Ainsworth_Dyer\n",
        "../../images/all/Reggie_Lewis"
       ]
      },
      {
       "output_type": "stream",
       "stream": "stdout",
       "text": [
        "\n",
        "../../images/all/Filippo_Inzaghi\n",
        "../../images/all/Bertrand_Bonello\n",
        "../../images/all/Rowan_Williams\n",
        "../../images/all/Billy_Crystal\n",
        "../../images/all/Benedita_da_Silva\n",
        "../../images/all/Teresa_Worbis\n",
        "../../images/all/Viola_Davis"
       ]
      },
      {
       "output_type": "stream",
       "stream": "stdout",
       "text": [
        "\n",
        "../../images/all/Elliott_Mincberg\n",
        "../../images/all/Brad_Smith\n",
        "../../images/all/Ashlea_Talbot\n",
        "../../images/all/Diego_Colorado\n",
        "../../images/all/Brian_McIntyre\n",
        "../../images/all/Hans_Leistritz\n",
        "../../images/all/Michael_Taylor"
       ]
      },
      {
       "output_type": "stream",
       "stream": "stdout",
       "text": [
        "\n",
        "../../images/all/Hichiro_Naemura\n",
        "../../images/all/Bryant_Young\n",
        "../../images/all/Hugh_Campbell\n",
        "../../images/all/Jerry_Jones\n",
        "../../images/all/Mohammaed_Ahmad_Al_Jarallah\n",
        "../../images/all/Mark_Hurlbert\n",
        "../../images/all/Satnarine_Sharma"
       ]
      },
      {
       "output_type": "stream",
       "stream": "stdout",
       "text": [
        "\n",
        "../../images/all/Coretta_Scott_King\n",
        "../../images/all/Bill_Paxton\n",
        "../../images/all/Jason_Keep\n",
        "../../images/all/Lane_Odom\n",
        "../../images/all/Bijan_Namdar_Zangeneh\n",
        "../../images/all/Choi_Yun-yong\n",
        "../../images/all/Halle_Berry"
       ]
      },
      {
       "output_type": "stream",
       "stream": "stdout",
       "text": [
        "\n",
        "../../images/all/Karen_Allen\n",
        "../../images/all/Mary_Landrieu\n",
        "../../images/all/Roger_Etchegaray\n",
        "../../images/all/Johnny_Tapia\n",
        "../../images/all/Steffeny_Holtz\n",
        "../../images/all/Sarah_Hughes\n",
        "../../images/all/Dalia_Rabin-Pelosoff\n",
        "../../images/all/Wilbert_Foy"
       ]
      },
      {
       "output_type": "stream",
       "stream": "stdout",
       "text": [
        "\n",
        "../../images/all/Helo_Pinheiro\n",
        "../../images/all/Anthony_Pisciotti\n",
        "../../images/all/Steve_Zahn\n",
        "../../images/all/Robert_DeFraites\n",
        "../../images/all/Paul_Gascoigne\n",
        "../../images/all/Terrell_Suggs\n",
        "../../images/all/Lloyd_Novick"
       ]
      },
      {
       "output_type": "stream",
       "stream": "stdout",
       "text": [
        "\n",
        "../../images/all/Patrick_Stewart\n",
        "../../images/all/Fernando_Hierro\n",
        "../../images/all/Prakash_Hinduja\n",
        "../../images/all/Leandro_Garcia\n",
        "../../images/all/Mitchell_McLaughlin\n",
        "../../images/all/Goldie_Hawn\n",
        "../../images/all/Natanaela_Barnova"
       ]
      },
      {
       "output_type": "stream",
       "stream": "stdout",
       "text": [
        "\n",
        "../../images/all/Ron_Dittemore\n",
        "../../images/all/Greg_Gilbert\n",
        "../../images/all/Richard_Myers\n",
        "../../images/all/Abdullah_al-Attiyah\n",
        "../../images/all/Julio_De_Brun\n",
        "../../images/all/Allan_Houston"
       ]
      },
      {
       "output_type": "stream",
       "stream": "stdout",
       "text": [
        "\n",
        "../../images/all/Alexander_Downer\n",
        "../../images/all/Bob_Hope\n",
        "../../images/all/Saparmurat_Niyazov\n",
        "../../images/all/Martha_Bowen\n",
        "../../images/all/Lynne_Thigpen"
       ]
      },
      {
       "output_type": "stream",
       "stream": "stdout",
       "text": [
        "\n",
        "../../images/all/Stefano_Gabbana\n",
        "../../images/all/Emmy_Rossum\n",
        "../../images/all/AJ_Lamas\n",
        "../../images/all/Simon_Yam\n",
        "../../images/all/BB_King"
       ]
      },
      {
       "output_type": "stream",
       "stream": "stdout",
       "text": [
        "\n",
        "../../images/all/Dick_Jauron\n",
        "../../images/all/Rainer_Geulen\n",
        "../../images/all/Rafael_Bielsa\n",
        "../../images/all/Juanes\n",
        "../../images/all/Dan_LaCoutre\n",
        "../../images/all/Colin_Montgomerie\n",
        "../../images/all/Laura_Romero"
       ]
      },
      {
       "output_type": "stream",
       "stream": "stdout",
       "text": [
        "\n",
        "../../images/all/Aretha_Franklin\n",
        "../../images/all/Dawna_LoPiccolo\n",
        "../../images/all/Lucio_Angulo\n",
        "../../images/all/Nicola_Wells\n",
        "../../images/all/Chadha_Gurinder\n",
        "../../images/all/James_Coviello\n",
        "../../images/all/Arlen_Specter"
       ]
      },
      {
       "output_type": "stream",
       "stream": "stdout",
       "text": [
        "\n",
        "../../images/all/Tony_Cummo\n",
        "../../images/all/Carlos_Arroyo\n",
        "../../images/all/Norodom_Sihanouk\n",
        "../../images/all/Gao_Qiang\n",
        "../../images/all/Romario_Farias\n",
        "../../images/all/Richard_Hellfant\n",
        "../../images/all/Ralph_Nader\n",
        "../../images/all/Tsutomu_Takebe"
       ]
      },
      {
       "output_type": "stream",
       "stream": "stdout",
       "text": [
        "\n",
        "../../images/all/Tom_Amstutz\n",
        "../../images/all/Richard_Penniman\n",
        "../../images/all/Ali_Abbas\n",
        "../../images/all/Mark_Podlesny\n",
        "../../images/all/Toni_Braxton\n",
        "../../images/all/Lazaro_Castro\n",
        "../../images/all/Stellan_Skarsgard"
       ]
      },
      {
       "output_type": "stream",
       "stream": "stdout",
       "text": [
        "\n",
        "../../images/all/Meles_Zenawi\n",
        "../../images/all/John_Stallworth\n",
        "../../images/all/Lucio_Stanca\n",
        "../../images/all/Alex_Gonzalez\n",
        "../../images/all/Steve_Cox\n",
        "../../images/all/Pierre_Png"
       ]
      },
      {
       "output_type": "stream",
       "stream": "stdout",
       "text": [
        "\n",
        "../../images/all/Lauren_Killian\n",
        "../../images/all/David_Welch\n",
        "../../images/all/Yusaku_Miyazato\n",
        "../../images/all/Ramon_Ponce_de_Leon\n",
        "../../images/all/GL_Peiris\n",
        "../../images/all/Michelle_Branch\n",
        "../../images/all/Juan_Carlos_Ortega"
       ]
      },
      {
       "output_type": "stream",
       "stream": "stdout",
       "text": [
        "\n",
        "../../images/all/Will_Self\n",
        "../../images/all/Jorge_Rodolfo_Canicoba_Corral\n",
        "../../images/all/Jeb_Bush\n",
        "../../images/all/Leticia_Dolera\n",
        "../../images/all/Laurie_Hobbs\n",
        "../../images/all/Ana_Palacio\n",
        "../../images/all/Graeme_Lloyd\n",
        "../../images/all/Daryl_Jones"
       ]
      },
      {
       "output_type": "stream",
       "stream": "stdout",
       "text": [
        "\n",
        "../../images/all/Hassan_Nasrallah\n",
        "../../images/all/Tina_Brown\n",
        "../../images/all/Dave_McNealey\n",
        "../../images/all/William_Donaldson\n",
        "../../images/all/Kara_Lynn_Joyce\n",
        "../../images/all/Demetrius_Ferraciu\n",
        "../../images/all/Jennifer_Murray"
       ]
      },
      {
       "output_type": "stream",
       "stream": "stdout",
       "text": [
        "\n",
        "../../images/all/Aleksander_Kwasniewski\n",
        "../../images/all/Margaret_Okayo\n",
        "../../images/all/Bernard_Siegel\n",
        "../../images/all/Miguel_Rosseto\n",
        "../../images/all/Luis_Horna\n",
        "../../images/all/Ron_Howard\n",
        "../../images/all/Bill_Bradley\n",
        "../../images/all/Guillermo_Ruiz_Polanco"
       ]
      },
      {
       "output_type": "stream",
       "stream": "stdout",
       "text": [
        "\n",
        "../../images/all/Karin_Stoiber\n",
        "../../images/all/Marco_Archer_Cardoso_Moreira\n",
        "../../images/all/Vladimir_Meciar\n",
        "../../images/all/Francisco_Santos\n",
        "../../images/all/Iain_Anderson\n",
        "../../images/all/Darrell_Issa"
       ]
      },
      {
       "output_type": "stream",
       "stream": "stdout",
       "text": [
        "\n",
        "../../images/all/Evan_Rachel_Wood\n",
        "../../images/all/Wen_Jiabao\n",
        "../../images/all/Sada_Jacobson\n",
        "../../images/all/Gabriel_Farhi\n",
        "../../images/all/Anders_Ebbeson\n",
        "../../images/all/Cindy_Zagorski\n",
        "../../images/all/Brittany_Snow\n",
        "../../images/all/Wally_Szczerbiak"
       ]
      },
      {
       "output_type": "stream",
       "stream": "stdout",
       "text": [
        "\n",
        "../../images/all/Antonio_Palocci\n",
        "../../images/all/Toni_Jennings\n",
        "../../images/all/Chris_Terry\n",
        "../../images/all/Andy_Bryant\n",
        "../../images/all/Miguel_Cotto\n",
        "../../images/all/Eddy_Merckx"
       ]
      },
      {
       "output_type": "stream",
       "stream": "stdout",
       "text": [
        "\n",
        "../../images/all/Cathryn_Crawford\n",
        "../../images/all/Julia_Ormond\n",
        "../../images/all/James_Lockhart\n",
        "../../images/all/Lee_Soo-hyuck\n",
        "../../images/all/Jenna_Elfman\n",
        "../../images/all/Jacques_Villeneuve"
       ]
      },
      {
       "output_type": "stream",
       "stream": "stdout",
       "text": [
        "\n",
        "../../images/all/Hrithik_Roshan\n",
        "../../images/all/Janice_Goldfinger\n",
        "../../images/all/Mark_Mariscal\n",
        "../../images/all/Brook_Robinson\n",
        "../../images/all/Lennart_Johansson\n",
        "../../images/all/Jelena_Dokic\n",
        "../../images/all/Nadia_Forte"
       ]
      },
      {
       "output_type": "stream",
       "stream": "stdout",
       "text": [
        "\n",
        "../../images/all/David_Scott_Morris\n",
        "../../images/all/Imad_Khadduri\n",
        "../../images/all/Priscilla_Presley\n",
        "../../images/all/Walter_Annenberg\n",
        "../../images/all/Arianna_Huffington\n",
        "../../images/all/Ryan_Leaf\n",
        "../../images/all/Mariano_Zabaleta"
       ]
      },
      {
       "output_type": "stream",
       "stream": "stdout",
       "text": [
        "\n",
        "../../images/all/Fernando_Alonso\n",
        "../../images/all/Ian_McKellen\n",
        "../../images/all/Lin_Yi-fu\n",
        "../../images/all/Blythe_Hartley\n",
        "../../images/all/James_Hallock\n",
        "../../images/all/Ronnie_Jagday\n",
        "../../images/all/Colin_Campbell\n",
        "../../images/all/Billy_Tibbets"
       ]
      },
      {
       "output_type": "stream",
       "stream": "stdout",
       "text": [
        "\n",
        "../../images/all/Gwen_Stefani\n",
        "../../images/all/Alexandre_Daigle\n",
        "../../images/all/Annette_Lu\n",
        "../../images/all/Masamori_Tokuyama\n",
        "../../images/all/Jennifer_Garner\n",
        "../../images/all/Stephen_Friedman\n",
        "../../images/all/Donald_Fehr"
       ]
      },
      {
       "output_type": "stream",
       "stream": "stdout",
       "text": [
        "\n",
        "../../images/all/Nikolay_Davydenko\n",
        "../../images/all/Naomi_Bronstein\n",
        "../../images/all/Elizabeth_Pena\n",
        "../../images/all/Thomas_Fargo\n",
        "../../images/all/Jason_Biggs\n",
        "../../images/all/Elena_Bovina"
       ]
      },
      {
       "output_type": "stream",
       "stream": "stdout",
       "text": [
        "\n",
        "../../images/all/Eric_Schacht\n",
        "../../images/all/Arantxa_Sanchez-Vicario\n",
        "../../images/all/Jean-Rene_Fourtou\n",
        "../../images/all/Dan_Dickau\n",
        "../../images/all/Richard_Krajicek\n",
        "../../images/all/Beatriz_Merino"
       ]
      },
      {
       "output_type": "stream",
       "stream": "stdout",
       "text": [
        "\n",
        "../../images/all/Dwayne_Williams\n",
        "../../images/all/Christine_Ebersole\n",
        "../../images/all/Mickey_Gilley\n",
        "../../images/all/Claire_Tomalin\n",
        "../../images/all/George_Lopez\n",
        "../../images/all/Ari_Fleischer"
       ]
      },
      {
       "output_type": "stream",
       "stream": "stdout",
       "text": [
        "\n",
        "../../images/all/Dianne_Feinstein\n",
        "../../images/all/Bill_Carmody\n",
        "../../images/all/Jodie_Kidd\n",
        "../../images/all/Steve_Backley\n",
        "../../images/all/Casey_Mears\n",
        "../../images/all/Brian_Van_Dusen\n",
        "../../images/all/Patrick_Rafter"
       ]
      },
      {
       "output_type": "stream",
       "stream": "stdout",
       "text": [
        "\n",
        "../../images/all/Jon_Stewart\n",
        "../../images/all/Guy_Ritchie\n",
        "../../images/all/Greg_Kinnear\n",
        "../../images/all/Hong_Myung\n",
        "../../images/all/Jose_Theodore\n",
        "../../images/all/Milt_Heflin\n",
        "../../images/all/John_Sununu"
       ]
      },
      {
       "output_type": "stream",
       "stream": "stdout",
       "text": [
        "\n",
        "../../images/all/Guillermo_Canas\n",
        "../../images/all/Mitoji_Yabunaka\n",
        "../../images/all/Grant_Hackett\n",
        "../../images/all/David_Duke\n",
        "../../images/all/Chuck_Yeager\n",
        "../../images/all/Eliott_Spitzer"
       ]
      },
      {
       "output_type": "stream",
       "stream": "stdout",
       "text": [
        "\n",
        "../../images/all/Koichi_Haraguchi\n",
        "../../images/all/Hugh_Miller\n",
        "../../images/all/Carlos_Menem\n",
        "../../images/all/Rose_Linkins\n",
        "../../images/all/David_Sousa\n",
        "../../images/all/Chris_Gratton"
       ]
      },
      {
       "output_type": "stream",
       "stream": "stdout",
       "text": [
        "\n",
        "../../images/all/Goh_Kun\n",
        "../../images/all/Chok_Tong_Goh\n",
        "../../images/all/Shane_Hmiel\n",
        "../../images/all/Richard_Pennington\n",
        "../../images/all/Kevin_Millwood\n",
        "../../images/all/Clive_Woodward"
       ]
      },
      {
       "output_type": "stream",
       "stream": "stdout",
       "text": [
        "\n",
        "../../images/all/Roy_Williams\n",
        "../../images/all/Gustavo_Noboa\n",
        "../../images/all/Thomas_Cloyd\n",
        "../../images/all/Bernard_Law\n",
        "../../images/all/Daniele_Nardello\n",
        "../../images/all/Gene_Keady\n",
        "../../images/all/Catherine_Woodard"
       ]
      },
      {
       "output_type": "stream",
       "stream": "stdout",
       "text": [
        "\n",
        "../../images/all/Wang_Yingfan\n",
        "../../images/all/Silvia_Farina_Elia\n",
        "../../images/all/Nino_DAngelo\n",
        "../../images/all/Earl_Counter\n",
        "../../images/all/Retief_Goosen\n",
        "../../images/all/Colin_Jackson\n",
        "../../images/all/Pamela_Anderson"
       ]
      },
      {
       "output_type": "stream",
       "stream": "stdout",
       "text": [
        "\n",
        "../../images/all/Lleyton_Hewitt\n",
        "../../images/all/Terry_Stotts\n",
        "../../images/all/John_Salazar\n",
        "../../images/all/Abel_Pacheco\n",
        "../../images/all/Mary_Robinson\n",
        "../../images/all/Janet_Napolitano"
       ]
      },
      {
       "output_type": "stream",
       "stream": "stdout",
       "text": [
        "\n",
        "../../images/all/Landon_Donovan\n",
        "../../images/all/Gabriel_Batistuta\n",
        "../../images/all/Gore_Verbinski\n",
        "../../images/all/Karin_Pilsaeter\n",
        "../../images/all/Susan_Collins\n",
        "../../images/all/Norm_Coleman"
       ]
      },
      {
       "output_type": "stream",
       "stream": "stdout",
       "text": [
        "\n",
        "../../images/all/Sasha_Cohen\n",
        "../../images/all/Stephan_Eberharter\n",
        "../../images/all/Jeri_Ryan\n",
        "../../images/all/Paula_Abdul\n",
        "../../images/all/Kelly_Leigh\n",
        "../../images/all/Tyrone_Medley\n",
        "../../images/all/Ziwang_Xu\n",
        "../../images/all/Wycliffe_Grousbeck"
       ]
      },
      {
       "output_type": "stream",
       "stream": "stdout",
       "text": [
        "\n",
        "../../images/all/Lokendra_Bahadur_Chand\n",
        "../../images/all/Ernie_Stewart\n",
        "../../images/all/Wolfgang_Schuessel\n",
        "../../images/all/Kim_Dong-tae\n",
        "../../images/all/Kaoru_Hasuike\n",
        "../../images/all/Fernando_Gonzalez\n",
        "../../images/all/Svetislav_Pesic"
       ]
      },
      {
       "output_type": "stream",
       "stream": "stdout",
       "text": [
        "\n",
        "../../images/all/Diane_Green\n",
        "../../images/all/Iain_Duncan_Smith\n",
        "../../images/all/Mario_Cipollini\n",
        "../../images/all/Bryan_Thomas\n",
        "../../images/all/Don_Carcieri\n",
        "../../images/all/Juergen_Trittin\n",
        "../../images/all/Prince_Claus\n",
        "../../images/all/Freda_Black"
       ]
      },
      {
       "output_type": "stream",
       "stream": "stdout",
       "text": [
        "\n",
        "../../images/all/Andre_Agassi\n",
        "../../images/all/Eminem\n",
        "../../images/all/Filip_De_Winter\n",
        "../../images/all/Bill_Maher\n",
        "../../images/all/Peggy_McGuinness\n",
        "../../images/all/John_Williams\n",
        "../../images/all/Melinda_Czink"
       ]
      },
      {
       "output_type": "stream",
       "stream": "stdout",
       "text": [
        "\n",
        "../../images/all/Teresa_Graves\n",
        "../../images/all/Queen_Sofia\n",
        "../../images/all/Zulfiqar_Ahmed\n",
        "../../images/all/Alan_Greer\n",
        "../../images/all/Claudette_Robinson\n",
        "../../images/all/Jennie_Finch\n",
        "../../images/all/Fabian_Vargas\n",
        "../../images/all/Chris_Whitney"
       ]
      },
      {
       "output_type": "stream",
       "stream": "stdout",
       "text": [
        "\n",
        "../../images/all/Andrzej_Tyszkiewicz\n",
        "../../images/all/William_Shatner\n",
        "../../images/all/Paul_Vathis\n",
        "../../images/all/Hiroyuki_Yoshino\n",
        "../../images/all/Grady_Little\n",
        "../../images/all/Linda_Franklin\n",
        "../../images/all/Park_Jung_Sung"
       ]
      },
      {
       "output_type": "stream",
       "stream": "stdout",
       "text": [
        "\n",
        "../../images/all/Paul_Clark\n",
        "../../images/all/Michael_Rolinee\n",
        "../../images/all/Joanne_Woodward\n",
        "../../images/all/Rick_Santorum\n",
        "../../images/all/Charley_Armey\n",
        "../../images/all/Einars_Repse\n",
        "../../images/all/Dorothy_Lamour"
       ]
      },
      {
       "output_type": "stream",
       "stream": "stdout",
       "text": [
        "\n",
        "../../images/all/Amelia_Vega\n",
        "../../images/all/Tom_Poston\n",
        "../../images/all/Brad_Wilk\n",
        "../../images/all/Anthony_Corso\n",
        "../../images/all/Oscar_DLeon"
       ]
      },
      {
       "output_type": "stream",
       "stream": "stdout",
       "text": [
        "\n",
        "../../images/all/Mark_Gangloff\n",
        "../../images/all/Christy_Ferer\n",
        "../../images/all/Brenda_Wilson\n",
        "../../images/all/Bob_Menendez\n",
        "../../images/all/Freddy_Garcia\n",
        "../../images/all/Ron_Zook\n",
        "../../images/all/Paul_Kagame"
       ]
      },
      {
       "output_type": "stream",
       "stream": "stdout",
       "text": [
        "\n",
        "../../images/all/Gerard_de_Cortanze\n",
        "../../images/all/Heizo_Takenaka\n",
        "../../images/all/Hassan_Wirajuda\n",
        "../../images/all/Mel_Gibson\n",
        "../../images/all/Rosie_Perez\n",
        "../../images/all/John_Cruz\n",
        "../../images/all/Ion_Tiriac"
       ]
      },
      {
       "output_type": "stream",
       "stream": "stdout",
       "text": [
        "\n",
        "../../images/all/Ray_Liotta\n",
        "../../images/all/Nicole\n",
        "../../images/all/Stephen_Ambrose\n",
        "../../images/all/Ewan_McGregor\n",
        "../../images/all/Arye_Mekel\n",
        "../../images/all/Bill_Belichick\n",
        "../../images/all/Richard_Armitage"
       ]
      },
      {
       "output_type": "stream",
       "stream": "stdout",
       "text": [
        "\n",
        "../../images/all/Jason_Petty\n",
        "../../images/all/Flor_Montulo\n",
        "../../images/all/Hana_Urushima\n",
        "../../images/all/Ren_Qingjin\n",
        "../../images/all/Patrick_Coleman\n",
        "../../images/all/John_Bond"
       ]
      },
      {
       "output_type": "stream",
       "stream": "stdout",
       "text": [
        "\n",
        "../../images/all/John_Garamendi\n",
        "../../images/all/Gabriel_Valdes\n",
        "../../images/all/Mark_Butcher\n",
        "../../images/all/Abdullah_Ahmad_Badawi\n",
        "../../images/all/Wilton_Gregory\n",
        "../../images/all/Maureen_Fanning\n",
        "../../images/all/Chris_Penn\n",
        "../../images/all/Martin_Keown"
       ]
      },
      {
       "output_type": "stream",
       "stream": "stdout",
       "text": [
        "\n",
        "../../images/all/Martin_Howard\n",
        "../../images/all/Alejandro_Lerner\n",
        "../../images/all/Suzanne_Torrance\n",
        "../../images/all/Jim_Paxson\n",
        "../../images/all/Rich_Gannon\n",
        "../../images/all/Nicholas_Tse\n",
        "../../images/all/Bob_Sulkin"
       ]
      },
      {
       "output_type": "stream",
       "stream": "stdout",
       "text": [
        "\n",
        "../../images/all/Max_Biaggi\n",
        "../../images/all/Hashim_Thaci\n",
        "../../images/all/Spencer_Abraham\n",
        "../../images/all/San_Lan\n",
        "../../images/all/Rick_Reed\n",
        "../../images/all/Hikmat_al-Azzawi\n",
        "../../images/all/Bulent_Ecevit\n",
        "../../images/all/Lincoln_Chafee"
       ]
      },
      {
       "output_type": "stream",
       "stream": "stdout",
       "text": [
        "\n",
        "../../images/all/Chandrika_Kumaratunga\n",
        "../../images/all/Bertrand_Delanoe\n",
        "../../images/all/Edward_Lohn\n",
        "../../images/all/Peter_Struck\n",
        "../../images/all/Rick_Wagoner\n",
        "../../images/all/Hutomo_Mandala_Putra\n",
        "../../images/all/Travis_Rudolph"
       ]
      },
      {
       "output_type": "stream",
       "stream": "stdout",
       "text": [
        "\n",
        "../../images/all/Terri_Clark\n",
        "../../images/all/Ray_Morrough\n",
        "../../images/all/Angela_Merkel\n",
        "../../images/all/Antwun_Echols\n",
        "../../images/all/Enrica_Fico\n",
        "../../images/all/Tora_Takagi\n",
        "../../images/all/Jefferson_Perez"
       ]
      },
      {
       "output_type": "stream",
       "stream": "stdout",
       "text": [
        "\n",
        "../../images/all/Danny_Green\n",
        "../../images/all/Tom_Sizemore\n",
        "../../images/all/Franz_Fischler\n",
        "../../images/all/Mike_Samp\n",
        "../../images/all/Islam_Karimov\n",
        "../../images/all/Valeri_Bure\n",
        "../../images/all/Phil_Mickelson"
       ]
      },
      {
       "output_type": "stream",
       "stream": "stdout",
       "text": [
        "\n",
        "../../images/all/Bill_Butler\n",
        "../../images/all/Zydrunas_Ilgauskas\n",
        "../../images/all/Yevgeny_Kafelnikov\n",
        "../../images/all/John_Howard\n",
        "../../images/all/Elvis_Presley\n",
        "../../images/all/Alexandra_Vodjanikova"
       ]
      },
      {
       "output_type": "stream",
       "stream": "stdout",
       "text": [
        "\n",
        "../../images/all/Adelina_Avila\n",
        "../../images/all/Stephen_Swindal\n",
        "../../images/all/Gus_Van_Sant\n",
        "../../images/all/Greg_Hennigar\n",
        "../../images/all/Nova_Esther_Guthrie"
       ]
      },
      {
       "output_type": "stream",
       "stream": "stdout",
       "text": [
        "\n",
        "../../images/all/Jason_Sehorn\n",
        "../../images/all/Denzel_Washington\n",
        "../../images/all/Takuma_Sato\n",
        "../../images/all/Tara_Dawn_Christensen\n",
        "../../images/all/Nikki_Reed\n",
        "../../images/all/Katja_Riemann\n",
        "../../images/all/Jeffery_Hendren"
       ]
      },
      {
       "output_type": "stream",
       "stream": "stdout",
       "text": [
        "\n",
        "../../images/all/Derek_King\n",
        "../../images/all/Juan_Roman_Riquelme\n",
        "../../images/all/Cathy_Chisholm\n",
        "../../images/all/Doc_Rivers\n",
        "../../images/all/Fred_Thompson\n",
        "../../images/all/Bill_Self\n",
        "../../images/all/Pierre_Van_Hooijdonk"
       ]
      },
      {
       "output_type": "stream",
       "stream": "stdout",
       "text": [
        "\n",
        "../../images/all/Daniel_Day-Lewis\n",
        "../../images/all/Toby_Keith\n",
        "../../images/all/Garry_Alejano\n",
        "../../images/all/Susan_Walvius\n",
        "../../images/all/Jessica_Biel\n",
        "../../images/all/Jay_Garner\n",
        "../../images/all/Ricardo_Monasterio"
       ]
      },
      {
       "output_type": "stream",
       "stream": "stdout",
       "text": [
        "\n",
        "../../images/all/Colin_Cowie\n",
        "../../images/all/David_Coulthard\n",
        "../../images/all/Paul_Ebert\n",
        "../../images/all/Timbul_Silaen\n",
        "../../images/all/Mark_Heller\n",
        "../../images/all/Joseph_Galante"
       ]
      },
      {
       "output_type": "stream",
       "stream": "stdout",
       "text": [
        "\n",
        "../../images/all/Heidi_Fleiss\n",
        "../../images/all/Chris_Rock\n",
        "../../images/all/Michael_Arif\n",
        "../../images/all/Kimi_Raikkonen\n",
        "../../images/all/Manuel_Jesus\n",
        "../../images/all/Ralph_Fiennes"
       ]
      },
      {
       "output_type": "stream",
       "stream": "stdout",
       "text": [
        "\n",
        "../../images/all/Claudio_Lopez\n",
        "../../images/all/Harriet_Lessy\n",
        "../../images/all/Steve_Coterill\n",
        "../../images/all/Daisy_Fuentes\n",
        "../../images/all/Bill_Stapleton\n",
        "../../images/all/Scott_Gorelick\n",
        "../../images/all/Barry_Zito"
       ]
      },
      {
       "output_type": "stream",
       "stream": "stdout",
       "text": [
        "\n",
        "../../images/all/Helene_Eksterowicz\n",
        "../../images/all/Carlos_Ortega\n",
        "../../images/all/Cameron_Diaz\n",
        "../../images/all/Condoleezza_Rice\n",
        "../../images/all/Bill_Doba\n",
        "../../images/all/Bobby_Robson"
       ]
      },
      {
       "output_type": "stream",
       "stream": "stdout",
       "text": [
        "\n",
        "../../images/all/Habib_Hisham\n",
        "../../images/all/Edith_Masai\n",
        "../../images/all/Stefano_Basalini\n",
        "../../images/all/Vitali_Klitschko\n",
        "../../images/all/Tim_Allen\n",
        "../../images/all/Ellen_DeGeneres\n",
        "../../images/all/Anthony_Hazen\n",
        "../../images/all/Anette_Hosoi"
       ]
      },
      {
       "output_type": "stream",
       "stream": "stdout",
       "text": [
        "\n",
        "../../images/all/Jose_Woldenberg\n",
        "../../images/all/Hans-Christian_Schmid\n",
        "../../images/all/Takeo_Hiranuma\n",
        "../../images/all/Michael_Hagee\n",
        "../../images/all/Syed_Abdul_Rahman_Geelani\n",
        "../../images/all/Michelle_Pfeiffer"
       ]
      },
      {
       "output_type": "stream",
       "stream": "stdout",
       "text": [
        "\n",
        "../../images/all/Rena_Sofer\n",
        "../../images/all/Steve_Wariner\n",
        "../../images/all/Boris_Becker\n",
        "../../images/all/Christian_Olsson\n",
        "../../images/all/Randy_Ferbey\n",
        "../../images/all/Ibrahim_Al-Marashi\n",
        "../../images/all/Ornella_Muti"
       ]
      },
      {
       "output_type": "stream",
       "stream": "stdout",
       "text": [
        "\n",
        "../../images/all/Heinrich_Wolfgang\n",
        "../../images/all/Gary_Winnick\n",
        "../../images/all/James_May\n",
        "../../images/all/Tim_Curry\n",
        "../../images/all/Dereck_Whittenburg\n",
        "../../images/all/Rodrigo_de_la_Cerna\n",
        "../../images/all/Hernan_Crespo\n",
        "../../images/all/Fabiola_Zuluaga"
       ]
      },
      {
       "output_type": "stream",
       "stream": "stdout",
       "text": [
        "\n",
        "../../images/all/Joe_Darrell\n",
        "../../images/all/Dita_Von_Tesse\n",
        "../../images/all/Suh_Chung-won\n",
        "../../images/all/Abbas_Kiarostami\n",
        "../../images/all/Junko_Tabei\n",
        "../../images/all/Ann_Veneman"
       ]
      },
      {
       "output_type": "stream",
       "stream": "stdout",
       "text": [
        "\n",
        "../../images/all/Dana_Vollmer\n",
        "../../images/all/Jim_Talent\n",
        "../../images/all/Mario_Dumont\n",
        "../../images/all/Joe_Gatti\n",
        "../../images/all/Mario_Kreutzberger\n",
        "../../images/all/Lucio_Cecchinello\n",
        "../../images/all/Benjamin_Martinez"
       ]
      },
      {
       "output_type": "stream",
       "stream": "stdout",
       "text": [
        "\n",
        "../../images/all/Lisa_Stone\n",
        "../../images/all/Silvie_Cabero\n",
        "../../images/all/Kathryn_Bigelow\n",
        "../../images/all/Sue_Guevara\n",
        "../../images/all/Jay_Leno\n",
        "../../images/all/Patsy_Hardy\n",
        "../../images/all/Grady_Irvin_Jr"
       ]
      },
      {
       "output_type": "stream",
       "stream": "stdout",
       "text": [
        "\n",
        "../../images/all/Brian_Henson\n",
        "../../images/all/Patrick_Kron\n",
        "../../images/all/Adriana_Perez_Navarro\n",
        "../../images/all/Tom_Scully"
       ]
      },
      {
       "output_type": "stream",
       "stream": "stdout",
       "text": [
        "\n",
        "../../images/all/Keith_Van_Horn\n",
        "../../images/all/Gerhard_Schroeder\n",
        "../../images/all/Lee_Ann_Terlaji\n",
        "../../images/all/Barry_Nakell\n",
        "../../images/all/Victor_Garber\n",
        "../../images/all/Damon_van_Dam"
       ]
      },
      {
       "output_type": "stream",
       "stream": "stdout",
       "text": [
        "\n",
        "../../images/all/Anthony_Mazur\n",
        "../../images/all/Lenny_Wilkens\n",
        "../../images/all/Princess_Hisako\n",
        "../../images/all/Neri_Marcore\n",
        "../../images/all/Brandon_Larson\n",
        "../../images/all/Diana_Krall\n",
        "../../images/all/Christopher_Speer"
       ]
      },
      {
       "output_type": "stream",
       "stream": "stdout",
       "text": [
        "\n",
        "../../images/all/Bill_Nelson\n",
        "../../images/all/Al_Gore\n",
        "../../images/all/Tia_Mowry\n",
        "../../images/all/Shanna_Zolman\n",
        "../../images/all/Mariana_Gonzalez\n",
        "../../images/all/Stacy_Nelson"
       ]
      },
      {
       "output_type": "stream",
       "stream": "stdout",
       "text": [
        "\n",
        "../../images/all/David_Ho\n",
        "../../images/all/Ben_Kingsley\n",
        "../../images/all/Brandon_Robinson\n",
        "../../images/all/Suk_Chung_Hong\n",
        "../../images/all/Peter_Fonda\n",
        "../../images/all/Maria_Bello\n",
        "../../images/all/Devin_Harris"
       ]
      },
      {
       "output_type": "stream",
       "stream": "stdout",
       "text": [
        "\n",
        "../../images/all/Jack_Goodman\n",
        "../../images/all/Charlotte_Chambers\n",
        "../../images/all/Keira_Knightley\n",
        "../../images/all/Helio_Rubens_Garcia\n",
        "../../images/all/James_Carville\n",
        "../../images/all/Dai_Bachtiar\n",
        "../../images/all/Shawn_Marion"
       ]
      },
      {
       "output_type": "stream",
       "stream": "stdout",
       "text": [
        "\n",
        "../../images/all/Corey_Maggette\n",
        "../../images/all/William_Martin\n",
        "../../images/all/Hugh_Carey\n",
        "../../images/all/Mark_Hogan\n",
        "../../images/all/Erick_Barkley\n",
        "../../images/all/Johnny_Carson\n",
        "../../images/all/Ben_Curtis"
       ]
      },
      {
       "output_type": "stream",
       "stream": "stdout",
       "text": [
        "\n",
        "../../images/all/Juan_Roman_Carrasco\n",
        "../../images/all/Darren_Campel\n",
        "../../images/all/David_Chase\n",
        "../../images/all/Asa_Hutchinson\n",
        "../../images/all/Nathan_Lane\n",
        "../../images/all/Eve_Ensler"
       ]
      },
      {
       "output_type": "stream",
       "stream": "stdout",
       "text": [
        "\n",
        "../../images/all/Bill_Fennelly\n",
        "../../images/all/Joe_Pantoliano\n",
        "../../images/all/Boris_Trajkovski\n",
        "../../images/all/Robert_Zoellick\n",
        "../../images/all/Norman_Jewison\n",
        "../../images/all/Martin_Sheen\n",
        "../../images/all/Bertie_Ahern\n",
        "../../images/all/Daniel_Pearl"
       ]
      },
      {
       "output_type": "stream",
       "stream": "stdout",
       "text": [
        "\n",
        "../../images/all/Robert_Downey_Jr\n",
        "../../images/all/Ed_Book\n",
        "../../images/all/Frank_Sinatra\n",
        "../../images/all/Troy_Jenkins\n",
        "../../images/all/Leslie_Caldwell\n",
        "../../images/all/Zahir_Shah"
       ]
      },
      {
       "output_type": "stream",
       "stream": "stdout",
       "text": [
        "\n",
        "../../images/all/Taoufik_Mathlouthi\n",
        "../../images/all/Angie_Martinez\n",
        "../../images/all/Normand_Legault\n",
        "../../images/all/Tian_Zhuang_Zhuang\n",
        "../../images/all/Billy_Beane\n",
        "../../images/all/Peter_Greenspun"
       ]
      },
      {
       "output_type": "stream",
       "stream": "stdout",
       "text": [
        "\n",
        "../../images/all/Eric_Snow\n",
        "../../images/all/Monica_Bellucci\n",
        "../../images/all/Scott_Verplank\n",
        "../../images/all/Mauricio_Macri\n",
        "../../images/all/Robert_Beck\n",
        "../../images/all/Katherine_Harris\n",
        "../../images/all/Fernando_Leon_de_Aranoa"
       ]
      },
      {
       "output_type": "stream",
       "stream": "stdout",
       "text": [
        "\n",
        "../../images/all/Elena_de_Chavez\n",
        "../../images/all/Frank_Hilldrup\n",
        "../../images/all/Alfredo_Pena\n",
        "../../images/all/Edward_Said\n",
        "../../images/all/Brad_Banks"
       ]
      },
      {
       "output_type": "stream",
       "stream": "stdout",
       "text": [
        "\n",
        "../../images/all/Qais_al-Kazali\n",
        "../../images/all/Kim_Gandy\n",
        "../../images/all/Jane_Leeves\n",
        "../../images/all/Steve_Ballmer\n",
        "../../images/all/Alexander_Rumyantsev"
       ]
      },
      {
       "output_type": "stream",
       "stream": "stdout",
       "text": [
        "\n",
        "../../images/all/Allen_Iverson\n",
        "../../images/all/Juan_Ignacio_Chela\n",
        "../../images/all/Robert_Morvillo\n",
        "../../images/all/Uma_Thurman\n",
        "../../images/all/Dan_Bartlett\n",
        "../../images/all/Chris_Cookson\n",
        "../../images/all/Rolf_Zimmermann"
       ]
      },
      {
       "output_type": "stream",
       "stream": "stdout",
       "text": [
        "\n",
        "../../images/all/Seydou_Diarra\n",
        "../../images/all/Maritza_Macias_Furano\n",
        "../../images/all/John_Negroponte\n",
        "../../images/all/Yves_Brodeur\n",
        "../../images/all/Andy_Rooney"
       ]
      },
      {
       "output_type": "stream",
       "stream": "stdout",
       "text": [
        "\n",
        "../../images/all/Larenz_Tate\n",
        "../../images/all/Erskine_Bowles\n",
        "../../images/all/Thaksin_Shinawatra\n",
        "../../images/all/Laura_Gobai\n",
        "../../images/all/Bill_Parsons"
       ]
      },
      {
       "output_type": "stream",
       "stream": "stdout",
       "text": [
        "\n",
        "../../images/all/Richard_Parsons\n",
        "../../images/all/Zarai_Toledo\n",
        "../../images/all/Kimora_Lee\n",
        "../../images/all/Joerg_Haider\n",
        "../../images/all/Rogerio_Romero\n",
        "../../images/all/Gonzalo_Sanchez_de_Lozada"
       ]
      },
      {
       "output_type": "stream",
       "stream": "stdout",
       "text": [
        "\n",
        "../../images/all/Joy_Bryant\n",
        "../../images/all/Art_Cooper\n",
        "../../images/all/Ed_Wade\n",
        "../../images/all/Lidija_Djukanovic\n",
        "../../images/all/Kathryn_Tucker"
       ]
      },
      {
       "output_type": "stream",
       "stream": "stdout",
       "text": [
        "\n",
        "../../images/all/Cathy_Freeman\n",
        "../../images/all/Augusto_Roa_Bastos\n",
        "../../images/all/Patricia_Russo\n",
        "../../images/all/Alejandro_Fernandez\n",
        "../../images/all/Angel_Maza"
       ]
      },
      {
       "output_type": "stream",
       "stream": "stdout",
       "text": [
        "\n",
        "../../images/all/Janusz_Kaminski\n",
        "../../images/all/Vin_Diesel\n",
        "../../images/all/George_Gregan\n",
        "../../images/all/Carl_Levin\n",
        "../../images/all/Tony_Stewart"
       ]
      },
      {
       "output_type": "stream",
       "stream": "stdout",
       "text": [
        "\n",
        "../../images/all/Ruben_Sierra\n",
        "../../images/all/Mike_Sweeney\n",
        "../../images/all/Kirsten_Clark\n",
        "../../images/all/Jeff_Hornacek"
       ]
      },
      {
       "output_type": "stream",
       "stream": "stdout",
       "text": [
        "\n",
        "../../images/all/Jesse_Helms\n",
        "../../images/all/Lisa_Girman\n",
        "../../images/all/Scott_Wallach\n",
        "../../images/all/Jewel_Howard-Taylor\n",
        "../../images/all/Atal_Bihari_Vajpayee"
       ]
      },
      {
       "output_type": "stream",
       "stream": "stdout",
       "text": [
        "\n",
        "../../images/all/Shamai_Leibowitz\n",
        "../../images/all/Kim_Chinn\n",
        "../../images/all/Dan_Quayle\n",
        "../../images/all/Keith_Rodriguez\n",
        "../../images/all/Suh_Young-hoon\n",
        "../../images/all/Seymour_Cassell"
       ]
      },
      {
       "output_type": "stream",
       "stream": "stdout",
       "text": [
        "\n",
        "../../images/all/Peter_Costello\n",
        "../../images/all/Angel_Lockward\n",
        "../../images/all/Elisha_Cuthbert\n",
        "../../images/all/Richie_Adubato\n",
        "../../images/all/Janette_Husarova\n",
        "../../images/all/Ahmed_Ghazi"
       ]
      },
      {
       "output_type": "stream",
       "stream": "stdout",
       "text": [
        "\n",
        "../../images/all/Sheila_Fraser\n",
        "../../images/all/Rose_Marie\n",
        "../../images/all/Jim_Wall\n",
        "../../images/all/Demetrin_Veal\n",
        "../../images/all/Kelly_Ripa\n",
        "../../images/all/Xavier_Malisse"
       ]
      },
      {
       "output_type": "stream",
       "stream": "stdout",
       "text": [
        "\n",
        "../../images/all/Sadie_Frost\n",
        "../../images/all/William_Overlin\n",
        "../../images/all/Amer_al-Saadi\n",
        "../../images/all/Prince_Philippe\n",
        "../../images/all/Platon_Lebedev"
       ]
      },
      {
       "output_type": "stream",
       "stream": "stdout",
       "text": [
        "\n",
        "../../images/all/Ferenc_Madl\n",
        "../../images/all/Zhang_Yimou\n",
        "../../images/all/Zakia_Hakki\n",
        "../../images/all/Elena_Bereznaya"
       ]
      },
      {
       "output_type": "stream",
       "stream": "stdout",
       "text": [
        "\n",
        "../../images/all/Ray_Wasden\n",
        "../../images/all/Carla_Gugino\n",
        "../../images/all/Camilla_Parker_Bowles\n",
        "../../images/all/Henry_Castellanos\n",
        "../../images/all/Ed_Smart\n",
        "../../images/all/Gabriel_Hughes"
       ]
      },
      {
       "output_type": "stream",
       "stream": "stdout",
       "text": [
        "\n",
        "../../images/all/Wendy_Kennedy\n",
        "../../images/all/Bijan_Darvish\n",
        "../../images/all/Sarah_Michelle_Gellar\n",
        "../../images/all/Jim_Calhoun\n",
        "../../images/all/Paul_Martin\n",
        "../../images/all/Gregor_Gysi"
       ]
      },
      {
       "output_type": "stream",
       "stream": "stdout",
       "text": [
        "\n",
        "../../images/all/Javier_Vargas\n",
        "../../images/all/William_Webster\n",
        "../../images/all/Shoshana_Johnson\n",
        "../../images/all/Brian_Billick\n",
        "../../images/all/Peter_Hillary\n",
        "../../images/all/Linda_Baboolal"
       ]
      },
      {
       "output_type": "stream",
       "stream": "stdout",
       "text": [
        "\n",
        "../../images/all/Sasha_Alexander\n",
        "../../images/all/Dot_Helms\n",
        "../../images/all/Peter_Albertsen\n",
        "../../images/all/Ben_Chandler\n",
        "../../images/all/Ben_Braun\n",
        "../../images/all/David_Modell\n",
        "../../images/all/Mike_Fisher"
       ]
      },
      {
       "output_type": "stream",
       "stream": "stdout",
       "text": [
        "\n",
        "../../images/all/Kyra_Sedgwick\n",
        "../../images/all/Jean_Nagel\n",
        "../../images/all/Jane_Kaczmarek\n",
        "../../images/all/Nancy_Pelosi\n",
        "../../images/all/Irene_Kahn\n",
        "../../images/all/Clifford_Robinson"
       ]
      },
      {
       "output_type": "stream",
       "stream": "stdout",
       "text": [
        "\n",
        "../../images/all/Rachel_Wadsworth\n",
        "../../images/all/Tassos_Papadopoulos\n",
        "../../images/all/Trista_Rehn\n",
        "../../images/all/Mary_Bono\n",
        "../../images/all/Elizabeth_Dole\n",
        "../../images/all/Connie_Freydell"
       ]
      },
      {
       "output_type": "stream",
       "stream": "stdout",
       "text": [
        "\n",
        "../../images/all/James_Roberts\n",
        "../../images/all/Lima_Azimi\n",
        "../../images/all/Marion_Barry\n",
        "../../images/all/Brad_Miller\n",
        "../../images/all/Larry_Hahn"
       ]
      },
      {
       "output_type": "stream",
       "stream": "stdout",
       "text": [
        "\n",
        "../../images/all/Doug_Duncan\n",
        "../../images/all/Margaret_Hasley\n",
        "../../images/all/Jonathan_Woodgate\n",
        "../../images/all/Marieta_Chrousala\n",
        "../../images/all/Gene_Sauers\n",
        "../../images/all/Sammy_Knight\n",
        "../../images/all/Adrian_Murrell"
       ]
      },
      {
       "output_type": "stream",
       "stream": "stdout",
       "text": [
        "\n",
        "../../images/all/Julio_Toro\n",
        "../../images/all/Benito_Santiago\n",
        "../../images/all/Cecile_de_France\n",
        "../../images/all/Kellie_Greene\n",
        "../../images/all/Kurt_Russell\n",
        "../../images/all/Mikhail_Wehbe"
       ]
      },
      {
       "output_type": "stream",
       "stream": "stdout",
       "text": [
        "\n",
        "../../images/all/Albert_Costa\n",
        "../../images/all/Mukesh_Ambani\n",
        "../../images/all/Faye_Alibocus\n",
        "../../images/all/Bill_Byrne\n",
        "../../images/all/Victor_Hanescu\n",
        "../../images/all/Conan_OBrien"
       ]
      },
      {
       "output_type": "stream",
       "stream": "stdout",
       "text": [
        "\n",
        "../../images/all/Rachel_Griffiths\n",
        "../../images/all/Monique_Garbrecht-Enfeldt\n",
        "../../images/all/Luiz_Felipe_Scolari\n",
        "../../images/all/Sally_Field\n",
        "../../images/all/Nina_Pecari\n",
        "../../images/all/Vassilis_Xiros\n",
        "../../images/all/Dimitri_Perricos"
       ]
      },
      {
       "output_type": "stream",
       "stream": "stdout",
       "text": [
        "\n",
        "../../images/all/Mike_Miller\n",
        "../../images/all/Cliff_Ellis\n",
        "../../images/all/Damon_Stoudamire\n",
        "../../images/all/Richard_Gere\n",
        "../../images/all/Mariah_Carey\n",
        "../../images/all/Nicolas_Massu\n",
        "../../images/all/William_Delahunt\n",
        "../../images/all/Kyoko_Nakayama"
       ]
      },
      {
       "output_type": "stream",
       "stream": "stdout",
       "text": [
        "\n",
        "../../images/all/Keith_Urban\n",
        "../../images/all/Nona_Gaye\n",
        "../../images/all/Oleg_Romantsev\n",
        "../../images/all/Michael_Jackson\n",
        "../../images/all/Lou_Piniella\n",
        "../../images/all/John_Barnett\n",
        "../../images/all/Marcus_Allen"
       ]
      },
      {
       "output_type": "stream",
       "stream": "stdout",
       "text": [
        "\n",
        "../../images/all/Ismail_Merchant\n",
        "../../images/all/Marvan_Atapattu\n",
        "../../images/all/Iain_Richmond\n",
        "../../images/all/James_Comey\n",
        "../../images/all/Edward_Lu\n",
        "../../images/all/Alexander_Losyukov"
       ]
      },
      {
       "output_type": "stream",
       "stream": "stdout",
       "text": [
        "\n",
        "../../images/all/Mary_Blige\n",
        "../../images/all/Billy_Edelin\n",
        "../../images/all/Milton_Berle\n",
        "../../images/all/Ben_Stein\n",
        "../../images/all/Oscar_de_la_Renta\n",
        "../../images/all/Richard_Greenberg\n",
        "../../images/all/Jesse_James_Leija\n",
        "../../images/all/Rick_Carlisle"
       ]
      },
      {
       "output_type": "stream",
       "stream": "stdout",
       "text": [
        "\n",
        "../../images/all/Marina_Kuptsova\n",
        "../../images/all/Silvio_Berlusconi\n",
        "../../images/all/Marsah_Ambrosius\n",
        "../../images/all/Tony_Fernandes\n",
        "../../images/all/Gianni_Agnelli\n",
        "../../images/all/Peter_Care"
       ]
      },
      {
       "output_type": "stream",
       "stream": "stdout",
       "text": [
        "\n",
        "../../images/all/Bruce_Springsteen\n",
        "../../images/all/Ulrich_Kueperkoch\n",
        "../../images/all/Thomas_Stewart\n",
        "../../images/all/Oxana_Fedorova\n",
        "../../images/all/Mike_Webster\n",
        "../../images/all/Michael_Phelps\n",
        "../../images/all/Tocker_Pudwill"
       ]
      },
      {
       "output_type": "stream",
       "stream": "stdout",
       "text": [
        "\n",
        "../../images/all/Mike_Szymanczyk\n",
        "../../images/all/Norah_Jones\n",
        "../../images/all/Antonio_Catania\n",
        "../../images/all/Manfred_Stolpe\n",
        "../../images/all/Ed_Rosenthal\n",
        "../../images/all/Hedayat_Amin_Arsala"
       ]
      },
      {
       "output_type": "stream",
       "stream": "stdout",
       "text": [
        "\n",
        "../../images/all/Bronson_Arroyo\n",
        "../../images/all/Andrew_Jarecki\n",
        "../../images/all/Mike_Myers\n",
        "../../images/all/Hamad_Bin_Jassim\n",
        "../../images/all/Mohammad_Aktar\n",
        "../../images/all/Angelica_Romero"
       ]
      },
      {
       "output_type": "stream",
       "stream": "stdout",
       "text": [
        "\n",
        "../../images/all/James_Coburn\n",
        "../../images/all/Stefan_Holm\n",
        "../../images/all/Francis_Ford_Coppola\n",
        "../../images/all/Stan_Kroenke\n",
        "../../images/all/Georgi_Parvanov\n",
        "../../images/all/Madeleine_Albright\n",
        "../../images/all/Marc_Shaiman\n",
        "../../images/all/Perry_Compton"
       ]
      },
      {
       "output_type": "stream",
       "stream": "stdout",
       "text": [
        "\n",
        "../../images/all/Mary_Sue_Coleman\n",
        "../../images/all/Ramon_Delgado\n",
        "../../images/all/Cheryl_Tiegs\n",
        "../../images/all/Lyle_Vanclief\n",
        "../../images/all/Jerry_Pauley\n",
        "../../images/all/Denise_Locke\n",
        "../../images/all/Rohman_al-Ghozi"
       ]
      },
      {
       "output_type": "stream",
       "stream": "stdout",
       "text": [
        "\n",
        "../../images/all/William_Umbach\n",
        "../../images/all/Mary_Zorn\n",
        "../../images/all/Rodolfo_Abalos\n",
        "../../images/all/Brian_StPierre\n",
        "../../images/all/Juan_Carlos_Morales\n",
        "../../images/all/Franck_Cerutti"
       ]
      },
      {
       "output_type": "stream",
       "stream": "stdout",
       "text": [
        "\n",
        "../../images/all/Janela_Jara\n",
        "../../images/all/Steve_Cutler\n",
        "../../images/all/Vince_Dooley\n",
        "../../images/all/Choi_Sung-hong\n",
        "../../images/all/John_Perrota\n",
        "../../images/all/Paul_Newman\n",
        "../../images/all/Shane_Warne"
       ]
      },
      {
       "output_type": "stream",
       "stream": "stdout",
       "text": [
        "\n",
        "../../images/all/Miguel_Hakim\n",
        "../../images/all/Tracee_Ellis_Ross\n",
        "../../images/all/Jim_Letten\n",
        "../../images/all/Kareena_Kapoor\n",
        "../../images/all/Melchor_Cob_Castro\n",
        "../../images/all/Larry_Donald"
       ]
      },
      {
       "output_type": "stream",
       "stream": "stdout",
       "text": [
        "\n",
        "../../images/all/Stephen_Frears\n",
        "../../images/all/Carlos_Manuel_Pruneda\n",
        "../../images/all/Luis_Gonzalez_Macchi\n",
        "../../images/all/Tom_Brady\n",
        "../../images/all/Tim_Floyd\n",
        "../../images/all/Rob_Marshall\n",
        "../../images/all/Bryan_Adams\n",
        "../../images/all/Virgina_Ruano_Pascal"
       ]
      },
      {
       "output_type": "stream",
       "stream": "stdout",
       "text": [
        "\n",
        "../../images/all/Gina_Torres\n",
        "../../images/all/Skip_Prosser\n",
        "../../images/all/Rolf_Eckrodt\n",
        "../../images/all/Elijan_Ingram\n",
        "../../images/all/Melissa_Manchester\n",
        "../../images/all/Julie_Goodenough\n",
        "../../images/all/Zara_Akhmadova"
       ]
      },
      {
       "output_type": "stream",
       "stream": "stdout",
       "text": [
        "\n",
        "../../images/all/Craig_OClair\n",
        "../../images/all/Kosuke_Kitajima\n",
        "../../images/all/Joe_Crede\n",
        "../../images/all/Hilmi_Akin_Zorlu\n",
        "../../images/all/Peter_Ahearn\n",
        "../../images/all/Cristian_Barros"
       ]
      },
      {
       "output_type": "stream",
       "stream": "stdout",
       "text": [
        "\n",
        "../../images/all/Florecita_Cobian\n",
        "../../images/all/Alejandro_Toledo\n",
        "../../images/all/Venus_Williams\n",
        "../../images/all/Colin_Farrell\n",
        "../../images/all/Roger_Winter\n",
        "../../images/all/Marilyn_Monroe"
       ]
      },
      {
       "output_type": "stream",
       "stream": "stdout",
       "text": [
        "\n",
        "../../images/all/Dennis_Miller\n",
        "../../images/all/Maria_Garcia\n",
        "../../images/all/Aishwarya_Rai\n",
        "../../images/all/Mike_Montgomery\n",
        "../../images/all/Andre_Lange"
       ]
      },
      {
       "output_type": "stream",
       "stream": "stdout",
       "text": [
        "\n",
        "../../images/all/Joe_Carnahan\n",
        "../../images/all/Jayne_Yarris\n",
        "../../images/all/Larry_Campbell\n",
        "../../images/all/Saburo_Kawabuchi\n",
        "../../images/all/Kaspar_Villiger\n",
        "../../images/all/Adrien_Brody"
       ]
      },
      {
       "output_type": "stream",
       "stream": "stdout",
       "text": [
        "\n",
        "../../images/all/David_Westerfield\n",
        "../../images/all/Pier_Ferdinando_Casini\n",
        "../../images/all/Tom_Cruise\n",
        "../../images/all/Andrew_Bernard\n",
        "../../images/all/Kirk_Doerger\n",
        "../../images/all/Josh_Evans"
       ]
      },
      {
       "output_type": "stream",
       "stream": "stdout",
       "text": [
        "\n",
        "../../images/all/Tono_Suratman\n",
        "../../images/all/Peter_Hollingworth\n",
        "../../images/all/Eric_Hinske\n",
        "../../images/all/Mario_Alfaro-Lopez\n",
        "../../images/all/Leo_Mullin\n",
        "../../images/all/Talal_Keenaan\n",
        "../../images/all/Tim_Norbeck"
       ]
      },
      {
       "output_type": "stream",
       "stream": "stdout",
       "text": [
        "\n",
        "../../images/all/Polona_Bas\n",
        "../../images/all/Mark_Cuban\n",
        "../../images/all/Steve_Mariucci\n",
        "../../images/all/Charlize_Theron\n",
        "../../images/all/William_Hochul\n",
        "../../images/all/Shoshannah_Stern"
       ]
      },
      {
       "output_type": "stream",
       "stream": "stdout",
       "text": [
        "\n",
        "../../images/all/Ernest_Hollings\n",
        "../../images/all/Artieas_Shanks\n",
        "../../images/all/Florencia_Macri\n",
        "../../images/all/Kenneth_Brill\n",
        "../../images/all/Hussam_Mohammed_Amin\n",
        "../../images/all/Dinah_Turner\n",
        "../../images/all/Arnaud_Clement"
       ]
      },
      {
       "output_type": "stream",
       "stream": "stdout",
       "text": [
        "\n",
        "../../images/all/Mile_Mrksic\n",
        "../../images/all/Derrick_Taylor\n",
        "../../images/all/Al_Leiter\n",
        "../../images/all/Cho_Myung-kyun\n",
        "../../images/all/Rafeeuddin_Ahmed\n",
        "../../images/all/David_Wolf"
       ]
      },
      {
       "output_type": "stream",
       "stream": "stdout",
       "text": [
        "\n",
        "../../images/all/Frank_Dunham_Jr\n",
        "../../images/all/Amy_Cotton\n",
        "../../images/all/Abdul_Majeed_Shobokshi\n",
        "../../images/all/Mike_Richter\n",
        "../../images/all/George_Robertson\n",
        "../../images/all/Paul_Celluci"
       ]
      },
      {
       "output_type": "stream",
       "stream": "stdout",
       "text": [
        "\n",
        "../../images/all/Fayssal_Mekdad\n",
        "../../images/all/David_Tornberg\n",
        "../../images/all/Tomas_Malik\n",
        "../../images/all/Richard_Naughton\n",
        "../../images/all/Omar_el-Heib\n",
        "../../images/all/Lim_Dong-won"
       ]
      },
      {
       "output_type": "stream",
       "stream": "stdout",
       "text": [
        "\n",
        "../../images/all/Hans_Peter_Briegel\n",
        "../../images/all/Toshimitsu_Motegi\n",
        "../../images/all/Sanja_Papic\n",
        "../../images/all/Carlos_Quintanilla_Schmidt\n",
        "../../images/all/Mark_Mulder"
       ]
      },
      {
       "output_type": "stream",
       "stream": "stdout",
       "text": [
        "\n",
        "../../images/all/Michael_Donovan\n",
        "../../images/all/Igor_Trunov\n",
        "../../images/all/JP_Suarez\n",
        "../../images/all/Michael_Kirby\n",
        "../../images/all/Roberto_Carlos\n",
        "../../images/all/Roberto_Robaina\n",
        "../../images/all/Mike_OConnell"
       ]
      },
      {
       "output_type": "stream",
       "stream": "stdout",
       "text": [
        "\n",
        "../../images/all/Bruno_Junquiera\n",
        "../../images/all/Gala_Leon_Garcia\n",
        "../../images/all/Tracy_Wyle\n",
        "../../images/all/Sim_Yong\n",
        "../../images/all/Georgina_Papin\n",
        "../../images/all/Tim_Chapman\n",
        "../../images/all/John_Paul_II"
       ]
      },
      {
       "output_type": "stream",
       "stream": "stdout",
       "text": [
        "\n",
        "../../images/all/Mike_Krzyzewski\n",
        "../../images/all/Tom_Miller\n",
        "../../images/all/Lee_Ann_Womack\n",
        "../../images/all/Horace_Donovan_Reid\n",
        "../../images/all/Ruano_Pascual\n",
        "../../images/all/Henk_Bekedam\n",
        "../../images/all/Martie_Maguire"
       ]
      },
      {
       "output_type": "stream",
       "stream": "stdout",
       "text": [
        "\n",
        "../../images/all/James_Kelly\n",
        "../../images/all/Bill_Duffey\n",
        "../../images/all/Sedigh_Barmak\n",
        "../../images/all/Gordon_Lightfoot\n",
        "../../images/all/Eduard_Limonov"
       ]
      },
      {
       "output_type": "stream",
       "stream": "stdout",
       "text": [
        "\n",
        "../../images/all/Jeffrey_Immelt\n",
        "../../images/all/Hisham_Halawi\n",
        "../../images/all/Sharon_Robinson\n",
        "../../images/all/Mark_Hamister\n",
        "../../images/all/Anatoliy_Kinakh\n",
        "../../images/all/Linda_Dano\n",
        "../../images/all/Tony_Blair"
       ]
      },
      {
       "output_type": "stream",
       "stream": "stdout",
       "text": [
        "\n",
        "../../images/all/Gary_Stevens\n",
        "../../images/all/Michael_Richards\n",
        "../../images/all/Patti_Smith\n",
        "../../images/all/Gregorio_Rosal\n",
        "../../images/all/Curt_Weldon\n",
        "../../images/all/Sid_Caesar"
       ]
      },
      {
       "output_type": "stream",
       "stream": "stdout",
       "text": [
        "\n",
        "../../images/all/Thomas_Bjorn\n",
        "../../images/all/Flavia_Delaroli\n",
        "../../images/all/Bob_Wright\n",
        "../../images/all/Sarah_Price\n",
        "../../images/all/Nabil_Shaath\n",
        "../../images/all/Hamid_Reza_Asefi"
       ]
      },
      {
       "output_type": "stream",
       "stream": "stdout",
       "text": [
        "\n",
        "../../images/all/Michael_Olowokandi\n",
        "../../images/all/Ray_Young\n",
        "../../images/all/Luis_Berrondo\n",
        "../../images/all/Alex_Popov\n",
        "../../images/all/Francois_Ozon\n",
        "../../images/all/Lionel_Chalmers\n",
        "../../images/all/Michelle_Lecky"
       ]
      },
      {
       "output_type": "stream",
       "stream": "stdout",
       "text": [
        "\n",
        "../../images/all/Catherine_Donkers\n",
        "../../images/all/Michael_Kahn\n",
        "../../images/all/Bo_Ryan\n",
        "../../images/all/Jesse_Ventura\n",
        "../../images/all/Monte_Kiffin\n",
        "../../images/all/Paul_Brandt\n",
        "../../images/all/Robert_McKee"
       ]
      },
      {
       "output_type": "stream",
       "stream": "stdout",
       "text": [
        "\n",
        "../../images/all/Fann_Wong\n",
        "../../images/all/Stephen_Arigbabu\n",
        "../../images/all/Teresa_Williams\n",
        "../../images/all/Jason_Priestley\n",
        "../../images/all/Franz_Gsell\n",
        "../../images/all/Raag_Singhal\n",
        "../../images/all/Cheryl_Ford"
       ]
      },
      {
       "output_type": "stream",
       "stream": "stdout",
       "text": [
        "\n",
        "../../images/all/George_Galloway\n",
        "../../images/all/Ronald_Young_Jr\n",
        "../../images/all/Jessica_Capshaw\n",
        "../../images/all/Aleksander_Voloshin"
       ]
      },
      {
       "output_type": "stream",
       "stream": "stdout",
       "text": [
        "\n",
        "../../images/all/Rupert_Murdoch\n",
        "../../images/all/Jamie_Kellner\n",
        "../../images/all/Nate_Blackwell\n",
        "../../images/all/Luc_Montagnier\n",
        "../../images/all/Penny_Dupuie\n",
        "../../images/all/Dan_Ackroyd"
       ]
      },
      {
       "output_type": "stream",
       "stream": "stdout",
       "text": [
        "\n",
        "../../images/all/Olympia_Dukakis\n",
        "../../images/all/Desiree_McKenzie\n",
        "../../images/all/Guido_Westerwelle\n",
        "../../images/all/Leah_Remini\n",
        "../../images/all/Michael_Jordan\n",
        "../../images/all/Mikhail_Kasyanov\n",
        "../../images/all/Robin_Cook"
       ]
      },
      {
       "output_type": "stream",
       "stream": "stdout",
       "text": [
        "\n",
        "../../images/all/Richard_Lugar\n",
        "../../images/all/Andy_Griggs\n",
        "../../images/all/Michael_Weiss\n",
        "../../images/all/Vicente_Fox\n",
        "../../images/all/Oleksandr_Moroz\n",
        "../../images/all/Chris_Klein"
       ]
      },
      {
       "output_type": "stream",
       "stream": "stdout",
       "text": [
        "\n",
        "../../images/all/Raul_Cubas\n",
        "../../images/all/Randy_Brown\n",
        "../../images/all/Giulio_Andreotti\n",
        "../../images/all/Michael_Lopez-Alegria\n",
        "../../images/all/Tonya_Payne\n",
        "../../images/all/Jason_White\n",
        "../../images/all/Claudia_Cardinale"
       ]
      },
      {
       "output_type": "stream",
       "stream": "stdout",
       "text": [
        "\n",
        "../../images/all/Jong_Wook_Lee\n",
        "../../images/all/Chang_Dae-whan\n",
        "../../images/all/Phil_Gramm\n",
        "../../images/all/Mike_Weir\n",
        "../../images/all/Ludivine_Sagnier\n",
        "../../images/all/Nicola_Bono"
       ]
      },
      {
       "output_type": "stream",
       "stream": "stdout",
       "text": [
        "\n",
        "../../images/all/Masja_Juel\n",
        "../../images/all/Gary_Gitnick\n",
        "../../images/all/Hisao_Oguchi\n",
        "../../images/all/Lane_Bryant\n",
        "../../images/all/Mary_McCarty\n",
        "../../images/all/Trudi_Lacey"
       ]
      },
      {
       "output_type": "stream",
       "stream": "stdout",
       "text": [
        "\n",
        "../../images/all/Imelda_Marcos\n",
        "../../images/all/Elgin_Baylor\n",
        "../../images/all/Roger_Daltrey\n",
        "../../images/all/Danny_Elfman\n",
        "../../images/all/Elizabeth_Hurley\n",
        "../../images/all/Jason_Vale"
       ]
      },
      {
       "output_type": "stream",
       "stream": "stdout",
       "text": [
        "\n",
        "../../images/all/Bob_Ferguson\n",
        "../../images/all/John_Fenn\n",
        "../../images/all/Kurt_Tanabe\n",
        "../../images/all/Branko_Crvenkovski\n",
        "../../images/all/Katalin_Kollat\n",
        "../../images/all/Bruce_Gebhardt"
       ]
      },
      {
       "output_type": "stream",
       "stream": "stdout",
       "text": [
        "\n",
        "../../images/all/Lorraine_Fenton\n",
        "../../images/all/Giannina_Facio\n",
        "../../images/all/Patsy_Kensit\n",
        "../../images/all/Cynthia_Nixon\n",
        "../../images/all/Sandra_Banning\n",
        "../../images/all/Will_Young\n",
        "../../images/all/Dariusz_Michalczewski"
       ]
      },
      {
       "output_type": "stream",
       "stream": "stdout",
       "text": [
        "\n",
        "../../images/all/Kim_Clijsters\n",
        "../../images/all/Dave_Lewis\n",
        "../../images/all/Carol_Carmody\n",
        "../../images/all/Lisa_Marie_Presley\n",
        "../../images/all/Sergey_Lavrov\n",
        "../../images/all/Spike_Helmick"
       ]
      },
      {
       "output_type": "stream",
       "stream": "stdout",
       "text": [
        "\n",
        "../../images/all/Michael_McNeely\n",
        "../../images/all/Madonna\n",
        "../../images/all/Bryan_Murray\n",
        "../../images/all/Christian_Longo\n",
        "../../images/all/Gianna_Angelopoulos-Daskalaki\n",
        "../../images/all/Raja_Qureshi"
       ]
      },
      {
       "output_type": "stream",
       "stream": "stdout",
       "text": [
        "\n",
        "../../images/all/Luis_Rosario_Huertas\n",
        "../../images/all/Ismael_Miranda\n",
        "../../images/all/Derrick_Rodgers\n",
        "../../images/all/Felicity_Huffman\n",
        "../../images/all/Juan_Francisco_Palencia"
       ]
      },
      {
       "output_type": "stream",
       "stream": "stdout",
       "text": [
        "\n",
        "../../images/all/Norm_Macdonald\n",
        "../../images/all/Columba_Bush\n",
        "../../images/all/Mehmet_Ali_Sahin\n",
        "../../images/all/David_Bell\n",
        "../../images/all/Juan_Jose_Lucas\n",
        "../../images/all/Sargis_Sargsian\n",
        "../../images/all/Richard_Rodriguez"
       ]
      },
      {
       "output_type": "stream",
       "stream": "stdout",
       "text": [
        "\n",
        "../../images/all/Charlie_Zaa\n",
        "../../images/all/Darrell_Dickey\n",
        "../../images/all/Naoto_Kan\n",
        "../../images/all/Michel_Temer\n",
        "../../images/all/Jana_Henke\n",
        "../../images/all/Ontario_Lett"
       ]
      },
      {
       "output_type": "stream",
       "stream": "stdout",
       "text": [
        "\n",
        "../../images/all/LeAnn_Rimes\n",
        "../../images/all/Ringo_Starr\n",
        "../../images/all/Russell_Crowe\n",
        "../../images/all/Laura_Schlessinger\n",
        "../../images/all/Gilberto_Simoni\n",
        "../../images/all/Thomas_Scavone\n",
        "../../images/all/Shobha_De"
       ]
      },
      {
       "output_type": "stream",
       "stream": "stdout",
       "text": [
        "\n",
        "../../images/all/Jamir_Miller\n",
        "../../images/all/Robert_Flodquist\n",
        "../../images/all/Leander_Paes\n",
        "../../images/all/Mian_Khursheed_Mehmood_Kasuri\n",
        "../../images/all/Robin_McLaurin_Williams\n",
        "../../images/all/Linda_Lingle"
       ]
      },
      {
       "output_type": "stream",
       "stream": "stdout",
       "text": [
        "\n",
        "../../images/all/Peter_Mansbridge\n",
        "../../images/all/Paul_Byrd\n",
        "../../images/all/Lawrence_MacAulay\n",
        "../../images/all/Elias_Attallah\n",
        "../../images/all/Joan_Collins\n",
        "../../images/all/Peter_Shaw\n",
        "../../images/all/Masaru_Hayami"
       ]
      },
      {
       "output_type": "stream",
       "stream": "stdout",
       "text": [
        "\n",
        "../../images/all/Tabare_Vazquez\n",
        "../../images/all/Jeff_Schiffner\n",
        "../../images/all/Kurt_Warner\n",
        "../../images/all/Demi_Moore\n",
        "../../images/all/Lee_Jun\n",
        "../../images/all/Jake_Gyllenhaal\n",
        "../../images/all/Don_Henley"
       ]
      },
      {
       "output_type": "stream",
       "stream": "stdout",
       "text": [
        "\n",
        "../../images/all/Mark_Stuart\n",
        "../../images/all/Tomomi_Morita\n",
        "../../images/all/Steve_Pagliuca\n",
        "../../images/all/Imre_Kertasz\n",
        "../../images/all/Nicolas_Sarkozy\n",
        "../../images/all/Gen_Meredith"
       ]
      },
      {
       "output_type": "stream",
       "stream": "stdout",
       "text": [
        "\n",
        "../../images/all/David_Arquette\n",
        "../../images/all/Kristin_Chenoweth\n",
        "../../images/all/Mitchell_Daniels\n",
        "../../images/all/Steve_Blake\n",
        "../../images/all/Harvey_Weinstein\n",
        "../../images/all/Jonathan_Fine\n",
        "../../images/all/Asif_Ali_Zardari"
       ]
      },
      {
       "output_type": "stream",
       "stream": "stdout",
       "text": [
        "\n",
        "../../images/all/Peter_Greenaway\n",
        "../../images/all/Liu_Mingkang\n",
        "../../images/all/Al_Davis\n",
        "../../images/all/Jessica_Lange\n",
        "../../images/all/Jimmy_Iovine\n",
        "../../images/all/Aline_Chretien"
       ]
      },
      {
       "output_type": "stream",
       "stream": "stdout",
       "text": [
        "\n",
        "../../images/all/Pele\n",
        "../../images/all/Hamid_Karzai\n",
        "../../images/all/Neil_Goldman\n",
        "../../images/all/Rich_Brooks\n",
        "../../images/all/Jimmy_Gobble\n",
        "../../images/all/Paul_Wolfowitz\n",
        "../../images/all/Alan_Dershowitz"
       ]
      },
      {
       "output_type": "stream",
       "stream": "stdout",
       "text": [
        "\n",
        "../../images/all/Valorie_Brabazon\n",
        "../../images/all/Buck_Rodgers\n",
        "../../images/all/Paula_Dobriansky\n",
        "../../images/all/Alice_Fisher\n",
        "../../images/all/Joaquin_Sanchez\n",
        "../../images/all/Lindsay_Davenport"
       ]
      },
      {
       "output_type": "stream",
       "stream": "stdout",
       "text": [
        "\n",
        "../../images/all/Jamie_Martin\n",
        "../../images/all/Daniell_Sunjata\n",
        "../../images/all/Suzanne_Somers\n",
        "../../images/all/Bill_OReilly\n",
        "../../images/all/Chuck_Hagel"
       ]
      },
      {
       "output_type": "stream",
       "stream": "stdout",
       "text": [
        "\n",
        "../../images/all/Juliette_Binoche\n",
        "../../images/all/Laila_Ali\n",
        "../../images/all/Mirela_Manjani\n",
        "../../images/all/King_Gyanendra\n",
        "../../images/all/Jorge_Enrique_Jimenez\n",
        "../../images/all/Suzanne_Haik_Terrell\n",
        "../../images/all/Rand_Beers"
       ]
      },
      {
       "output_type": "stream",
       "stream": "stdout",
       "text": [
        "\n",
        "../../images/all/Nicklas_Lidstrom\n",
        "../../images/all/Robert_Ehrlich\n",
        "../../images/all/Naomi_Hayashi\n",
        "../../images/all/Thomas_Watjen\n",
        "../../images/all/Barbara_Boxer\n",
        "../../images/all/Frank_Cassell"
       ]
      },
      {
       "output_type": "stream",
       "stream": "stdout",
       "text": [
        "\n",
        "../../images/all/Pierre_Gagnon\n",
        "../../images/all/Marcus_Gronholm\n",
        "../../images/all/Hee-Won_Han\n",
        "../../images/all/Giancarlo_Fisichella\n",
        "../../images/all/Judy_Spreckels"
       ]
      },
      {
       "output_type": "stream",
       "stream": "stdout",
       "text": [
        "\n",
        "../../images/all/Peter_OToole\n",
        "../../images/all/John_Cornyn\n",
        "../../images/all/Carla_Gay_Balingit\n",
        "../../images/all/Francis_Mer\n",
        "../../images/all/Mamdouh_Habib\n",
        "../../images/all/Mike_Farrar\n",
        "../../images/all/Prospero_Pichay"
       ]
      },
      {
       "output_type": "stream",
       "stream": "stdout",
       "text": [
        "\n",
        "../../images/all/Allyson_Felix\n",
        "../../images/all/Milt_Palacio\n",
        "../../images/all/Michael_Piuze\n",
        "../../images/all/Alistair_MacDonald\n",
        "../../images/all/Rulon_Gardner\n",
        "../../images/all/Yekaterina_Guseva"
       ]
      },
      {
       "output_type": "stream",
       "stream": "stdout",
       "text": [
        "\n",
        "../../images/all/Baburam_Bhattari\n",
        "../../images/all/John_Anderson\n",
        "../../images/all/Johnny_Hallyday\n",
        "../../images/all/Edwina_Currie\n",
        "../../images/all/Billy_Andrade\n",
        "../../images/all/Ethan_Hawke\n",
        "../../images/all/Chang_Jae_On"
       ]
      },
      {
       "output_type": "stream",
       "stream": "stdout",
       "text": [
        "\n",
        "../../images/all/Paul_Luvera\n",
        "../../images/all/Kevin_Hearn\n",
        "../../images/all/Stefaan_Declerk\n",
        "../../images/all/Kjell_Magne_Bondevik\n",
        "../../images/all/Emily_Robison\n",
        "../../images/all/Pat_Riley"
       ]
      },
      {
       "output_type": "stream",
       "stream": "stdout",
       "text": [
        "\n",
        "../../images/all/Jean-Francois_Pontal\n",
        "../../images/all/William_Cocksedge\n",
        "../../images/all/Thomas_OBrien\n",
        "../../images/all/Wolfgang_Becker\n",
        "../../images/all/Ali_Bin_Hussein\n",
        "../../images/all/John_Goold\n",
        "../../images/all/Bustam_A_Zedan_Aljanabi"
       ]
      },
      {
       "output_type": "stream",
       "stream": "stdout",
       "text": [
        "\n",
        "../../images/all/Val_Ackerman\n",
        "../../images/all/Shinya_Taniguchi\n",
        "../../images/all/Maha_Habib\n",
        "../../images/all/Ranil_Wickremasinghe\n",
        "../../images/all/Tatiana_Kennedy_Schlossberg\n",
        "../../images/all/Alicia_Silverstone"
       ]
      },
      {
       "output_type": "stream",
       "stream": "stdout",
       "text": [
        "\n",
        "../../images/all/Tom_Daschle\n",
        "../../images/all/David_Hilt\n",
        "../../images/all/Brian_Clemens\n",
        "../../images/all/Junichi_Inamoto"
       ]
      },
      {
       "output_type": "stream",
       "stream": "stdout",
       "text": [
        "\n",
        "../../images/all/Isaiah_Washington\n",
        "../../images/all/Pat_Wharton\n",
        "../../images/all/Jose_Cevallos\n",
        "../../images/all/Paul_Michael_Daniels\n",
        "../../images/all/Mark_Everson\n",
        "../../images/all/Rollie_Massimino\n",
        "../../images/all/Paul_Walker\n",
        "../../images/all/Nick_Reilly"
       ]
      },
      {
       "output_type": "stream",
       "stream": "stdout",
       "text": [
        "\n",
        "../../images/all/Nebojsa_Pavkovic\n",
        "../../images/all/Lindsay_Lohan\n",
        "../../images/all/Mark_Sacco\n",
        "../../images/all/Eric_Taino\n",
        "../../images/all/Bud_Selig\n",
        "../../images/all/Luther_Htu"
       ]
      },
      {
       "output_type": "stream",
       "stream": "stdout",
       "text": [
        "\n",
        "../../images/all/David_McCullough\n",
        "../../images/all/Jennie_Garth\n",
        "../../images/all/Thomas_Wilkens\n",
        "../../images/all/Yoon_Jeong_Cho\n",
        "../../images/all/Jerry_Lewis\n",
        "../../images/all/Paul_William_Hurley"
       ]
      },
      {
       "output_type": "stream",
       "stream": "stdout",
       "text": [
        "\n",
        "../../images/all/Magui_Serna\n",
        "../../images/all/Keanu_Reeves\n",
        "../../images/all/Tomoko_Hagiwara\n",
        "../../images/all/Jose_Santos\n",
        "../../images/all/Theodore_Tweed_Roosevelt\n",
        "../../images/all/Jonathan_Byrd"
       ]
      },
      {
       "output_type": "stream",
       "stream": "stdout",
       "text": [
        "\n",
        "../../images/all/Ali_Hammoud\n",
        "../../images/all/Daniel_Montenegro\n",
        "../../images/all/Lino_Oviedo\n",
        "../../images/all/Harry_Schmidt\n",
        "../../images/all/Armand_Sargen\n",
        "../../images/all/Tammy_Lynn_Michaels"
       ]
      },
      {
       "output_type": "stream",
       "stream": "stdout",
       "text": [
        "\n",
        "../../images/all/Keith_Brown\n",
        "../../images/all/Dimitar_Berbatov\n",
        "../../images/all/Rick_Caruso\n",
        "../../images/all/Sammy_Sosa\n",
        "../../images/all/David_Gest\n",
        "../../images/all/Eric_Wedge\n",
        "../../images/all/James_Wattana"
       ]
      },
      {
       "output_type": "stream",
       "stream": "stdout",
       "text": [
        "\n",
        "../../images/all/Tommy_Amaker\n",
        "../../images/all/Stephen_Thompson\n",
        "../../images/all/Santiago_Botero\n",
        "../../images/all/Bobby_Bowden\n",
        "../../images/all/Gary_Barnett"
       ]
      },
      {
       "output_type": "stream",
       "stream": "stdout",
       "text": [
        "\n",
        "../../images/all/Cherie_Blair\n",
        "../../images/all/Paddy_Torsney\n",
        "../../images/all/Barbara_Brezigar\n",
        "../../images/all/Lin_Yung_Hsi\n",
        "../../images/all/Jim_Bollman\n",
        "../../images/all/Grace_Brinell\n",
        "../../images/all/Meghann_Shaughnessy"
       ]
      },
      {
       "output_type": "stream",
       "stream": "stdout",
       "text": [
        "\n",
        "../../images/all/Shigeo_Nagashima\n",
        "../../images/all/Marianne_Stanley\n",
        "../../images/all/Darrell_Porter\n",
        "../../images/all/Martina_Hingis\n",
        "../../images/all/Gary_Bettman\n",
        "../../images/all/Justin_Timberlake"
       ]
      },
      {
       "output_type": "stream",
       "stream": "stdout",
       "text": [
        "\n",
        "../../images/all/Alan_Stonecipher\n",
        "../../images/all/Coco_dEste\n",
        "../../images/all/Zelma_Novelo\n",
        "../../images/all/Nicolas_Latorre\n",
        "../../images/all/Robert_Blake"
       ]
      },
      {
       "output_type": "stream",
       "stream": "stdout",
       "text": [
        "\n",
        "../../images/all/Carlos_Mesa\n",
        "../../images/all/Paulina_Rodriguez_Davila\n",
        "../../images/all/Frank_Zappa\n",
        "../../images/all/Ellen_Barkin\n",
        "../../images/all/Freddy_Vasques_Kinchokpe\n",
        "../../images/all/Sharon_Stone\n",
        "../../images/all/Ramon_Cardenas"
       ]
      },
      {
       "output_type": "stream",
       "stream": "stdout",
       "text": [
        "\n",
        "../../images/all/Paulie_Ayala\n",
        "../../images/all/Catherine_Bell\n",
        "../../images/all/Paige_Fitzgerald\n",
        "../../images/all/Hank_Aaron\n",
        "../../images/all/Chip_Knight"
       ]
      },
      {
       "output_type": "stream",
       "stream": "stdout",
       "text": [
        "\n",
        "../../images/all/Lela_Rochon\n",
        "../../images/all/Jason_Sorens\n",
        "../../images/all/Kelly_Clarkson\n",
        "../../images/all/Beatrice_Dalle\n",
        "../../images/all/Adolfo_Rodriguez_Saa\n",
        "../../images/all/Derek_Lowe\n",
        "../../images/all/Michael_Linscott"
       ]
      },
      {
       "output_type": "stream",
       "stream": "stdout",
       "text": [
        "\n",
        "../../images/all/Salman_Rushdie\n",
        "../../images/all/Pete_Carroll\n",
        "../../images/all/Liza_Minnelli\n",
        "../../images/all/Donny_Osmond\n",
        "../../images/all/Katrin_Susi\n",
        "../../images/all/Norbert_van_Heyst"
       ]
      },
      {
       "output_type": "stream",
       "stream": "stdout",
       "text": [
        "\n",
        "../../images/all/William_Burns\n",
        "../../images/all/Ray_Halbritter\n",
        "../../images/all/Katie_Couric\n",
        "../../images/all/Monica_Serra\n",
        "../../images/all/Uthai_Pimchaichon"
       ]
      },
      {
       "output_type": "stream",
       "stream": "stdout",
       "text": [
        "\n",
        "../../images/all/Ray_Lewis\n",
        "../../images/all/Michael_Sheehan\n",
        "../../images/all/Alvaro_Silva_Calderon\n",
        "../../images/all/Jeff_Dederian\n",
        "../../images/all/Taylor_Twellman"
       ]
      },
      {
       "output_type": "stream",
       "stream": "stdout",
       "text": [
        "\n",
        "../../images/all/Roger_Clemens\n",
        "../../images/all/Xiang_Huaicheng\n",
        "../../images/all/Shane_Phillips\n",
        "../../images/all/Humberto_Coelho\n",
        "../../images/all/Uzi_Landau"
       ]
      },
      {
       "output_type": "stream",
       "stream": "stdout",
       "text": [
        "\n",
        "../../images/all/Mark_Shapiro\n",
        "../../images/all/Jo_Dee_Messina\n",
        "../../images/all/Leigh_Winchell\n",
        "../../images/all/Martin_Luther_King_III"
       ]
      },
      {
       "output_type": "stream",
       "stream": "stdout",
       "text": [
        "\n",
        "../../images/all/Francisco_Garcia\n",
        "../../images/all/Damarius_Bilbo\n",
        "../../images/all/William_Macy\n",
        "../../images/all/Clemente_de_la_Vega\n",
        "../../images/all/Gabrielle_Union\n",
        "../../images/all/Piers_Sellers"
       ]
      },
      {
       "output_type": "stream",
       "stream": "stdout",
       "text": [
        "\n",
        "../../images/all/Donald_Keyser\n",
        "../../images/all/Stephane_Rousseau\n",
        "../../images/all/Ruben_Studdard\n",
        "../../images/all/Jim_Greenwood\n",
        "../../images/all/Wilson_Alvarez"
       ]
      },
      {
       "output_type": "stream",
       "stream": "stdout",
       "text": [
        "\n",
        "../../images/all/Jorge_Castaneda\n",
        "../../images/all/Janet_Thorpe\n",
        "../../images/all/Claudine_Farrell\n",
        "../../images/all/Mickey_Sherman\n",
        "../../images/all/Hermes_Gamonal\n",
        "../../images/all/Steve_Nash"
       ]
      },
      {
       "output_type": "stream",
       "stream": "stdout",
       "text": [
        "\n",
        "../../images/all/Larry_Beinfest\n",
        "../../images/all/Debra_Yang\n",
        "../../images/all/Isabella_Rossellini\n",
        "../../images/all/Arturo_Gatti\n",
        "../../images/all/Michael_Clarke_Duncan\n",
        "../../images/all/Rod_Bryden"
       ]
      },
      {
       "output_type": "stream",
       "stream": "stdout",
       "text": [
        "\n",
        "../../images/all/Martin_ONeill\n",
        "../../images/all/Yossi_Beilin\n",
        "../../images/all/Nathalia_Gillot\n",
        "../../images/all/Javier_Delgado\n",
        "../../images/all/Jeremy_Gompertz\n",
        "../../images/all/Mahima_Chaudhari"
       ]
      },
      {
       "output_type": "stream",
       "stream": "stdout",
       "text": [
        "\n",
        "../../images/all/Melvin_Talbert\n",
        "../../images/all/Donna_Ralston\n",
        "../../images/all/Mercedes_Amor\n",
        "../../images/all/Larry_Harris\n",
        "../../images/all/Filippo_Volandri\n",
        "../../images/all/Kenneth_Reichert"
       ]
      },
      {
       "output_type": "stream",
       "stream": "stdout",
       "text": [
        "\n",
        "../../images/all/David_Dewhurst\n",
        "../../images/all/Scott_Peterson\n",
        "../../images/all/Stefanie_De_Roux\n",
        "../../images/all/Irv_Nathan\n",
        "../../images/all/Benjamin_Bratt\n",
        "../../images/all/Candice_Beatty\n",
        "../../images/all/Daniela_Hantuchova\n",
        "../../images/all/Sergei_Yushenkov"
       ]
      },
      {
       "output_type": "stream",
       "stream": "stdout",
       "text": [
        "\n",
        "../../images/all/Patrick_Ewing\n",
        "../../images/all/Abdel_Madi_Shabneh\n",
        "../../images/all/Deepa_Mehta\n",
        "../../images/all/Thomas_Enqvist\n",
        "../../images/all/Askar_Akayev"
       ]
      },
      {
       "output_type": "stream",
       "stream": "stdout",
       "text": [
        "\n",
        "../../images/all/Gro_Harlem_Brundtland\n",
        "../../images/all/Hanan_Ashrawi\n",
        "../../images/all/Anna_Nicole_Smith\n",
        "../../images/all/George_Allen\n",
        "../../images/all/Nikki_Cascone\n",
        "../../images/all/Kevin_Satterfield"
       ]
      },
      {
       "output_type": "stream",
       "stream": "stdout",
       "text": [
        "\n",
        "../../images/all/Priscilla_Owen\n",
        "../../images/all/Glen_DaSilva\n",
        "../../images/all/Stephane_Rochon\n",
        "../../images/all/Johnny_Depp\n",
        "../../images/all/Jim_Haslett\n",
        "../../images/all/Marisol_Breton\n",
        "../../images/all/Lee_Hyung-taik"
       ]
      },
      {
       "output_type": "stream",
       "stream": "stdout",
       "text": [
        "\n",
        "../../images/all/Rudi_Voeller\n",
        "../../images/all/Peter_Harrison\n",
        "../../images/all/Jesse_Harris\n",
        "../../images/all/Don_Lake\n",
        "../../images/all/Charlotte_Church\n",
        "../../images/all/Paul_Reiser"
       ]
      },
      {
       "output_type": "stream",
       "stream": "stdout",
       "text": [
        "\n",
        "../../images/all/Jamie_Dimon\n",
        "../../images/all/Howard_Ross\n",
        "../../images/all/T_Boone_Pickens\n",
        "../../images/all/Ivana_Trump\n",
        "../../images/all/Marissa_Jaret_Winokur\n",
        "../../images/all/Dean_Jacek"
       ]
      },
      {
       "output_type": "stream",
       "stream": "stdout",
       "text": [
        "\n",
        "../../images/all/Joey_Mantia\n",
        "../../images/all/Stephen_Funk\n",
        "../../images/all/James_Traficant\n",
        "../../images/all/Sushma_Swaraj\n",
        "../../images/all/Mitchell_Potter"
       ]
      },
      {
       "output_type": "stream",
       "stream": "stdout",
       "text": [
        "\n",
        "../../images/all/Stephanie_Moore\n",
        "../../images/all/Hunter_Bates\n",
        "../../images/all/Patti_Labelle\n",
        "../../images/all/Glenn_Rivers\n",
        "../../images/all/Hector_Babenco\n",
        "../../images/all/Luke_Smith"
       ]
      },
      {
       "output_type": "stream",
       "stream": "stdout",
       "text": [
        "\n",
        "../../images/all/Wu_Yi\n",
        "../../images/all/Peter_Chan\n",
        "../../images/all/Aaron_Guiel\n",
        "../../images/all/Liam_Neeson\n",
        "../../images/all/Rick_Dinse\n",
        "../../images/all/Nicole_Kidman\n",
        "../../images/all/David_Montoya"
       ]
      },
      {
       "output_type": "stream",
       "stream": "stdout",
       "text": [
        "\n",
        "../../images/all/Annie-Jeanne_Reynaud\n",
        "../../images/all/Antonio_Cassano\n",
        "../../images/all/Iveta_Benesova\n",
        "../../images/all/Rudolph_Holton\n",
        "../../images/all/JC_Chasez\n",
        "../../images/all/Franklin_Brown"
       ]
      },
      {
       "output_type": "stream",
       "stream": "stdout",
       "text": [
        "\n",
        "../../images/all/Betty_Williams\n",
        "../../images/all/Manfred_Reyes_Villa\n",
        "../../images/all/Hermando_Harton\n",
        "../../images/all/Leonardo_Fernandez\n",
        "../../images/all/Lou_Lang\n",
        "../../images/all/Philippe_Gagnon"
       ]
      },
      {
       "output_type": "stream",
       "stream": "stdout",
       "text": [
        "\n",
        "../../images/all/Laura_Morante\n",
        "../../images/all/Adisai_Bodharamik\n",
        "../../images/all/Prince_Naruhito\n",
        "../../images/all/Gavyn_Davies\n",
        "../../images/all/Princess_Masako\n",
        "../../images/all/Camille_Colvin\n",
        "../../images/all/Robbie_Fowler"
       ]
      },
      {
       "output_type": "stream",
       "stream": "stdout",
       "text": [
        "\n",
        "../../images/all/Bernard_Lord\n",
        "../../images/all/Robby_Ginepri\n",
        "../../images/all/Raul_Mondesi\n",
        "../../images/all/Andrew_Fastow\n",
        "../../images/all/Mario_Puzo"
       ]
      },
      {
       "output_type": "stream",
       "stream": "stdout",
       "text": [
        "\n",
        "../../images/all/Roy_Romanow\n",
        "../../images/all/Angela_Lansbury\n",
        "../../images/all/Brajesh_Mishra\n",
        "../../images/all/Tina_Conner\n",
        "../../images/all/John_Brady\n",
        "../../images/all/Martin_McGuinness"
       ]
      },
      {
       "output_type": "stream",
       "stream": "stdout",
       "text": [
        "\n",
        "../../images/all/Emily_Mortimer\n",
        "../../images/all/Ray_Sherman\n",
        "../../images/all/Michael_Peat\n",
        "../../images/all/Chris_Noth\n",
        "../../images/all/Rodney_Rempt\n",
        "../../images/all/Joaquim_Levy"
       ]
      },
      {
       "output_type": "stream",
       "stream": "stdout",
       "text": [
        "\n",
        "../../images/all/Donatella_Versace\n",
        "../../images/all/Nastia_Liukin\n",
        "../../images/all/Tom_Tunney\n",
        "../../images/all/Lisa_Raymond\n",
        "../../images/all/Anne_Heche"
       ]
      },
      {
       "output_type": "stream",
       "stream": "stdout",
       "text": [
        "\n",
        "../../images/all/John_Fox\n",
        "../../images/all/Brian_Grazier\n",
        "../../images/all/Tanya_Holyk\n",
        "../../images/all/Kathleen_Abernathy\n",
        "../../images/all/Buddy_Ryan\n",
        "../../images/all/Alan_Jackson"
       ]
      },
      {
       "output_type": "stream",
       "stream": "stdout",
       "text": [
        "\n",
        "../../images/all/Infanta_Cristina\n",
        "../../images/all/Scott_OGrady\n",
        "../../images/all/Francois_Botha\n",
        "../../images/all/Brian_Williams\n",
        "../../images/all/Anne_ONeil\n",
        "../../images/all/Joe_Dicaro\n",
        "../../images/all/Marcos_Daniel_Jimenez"
       ]
      },
      {
       "output_type": "stream",
       "stream": "stdout",
       "text": [
        "\n",
        "../../images/all/Arsinee_Khanjian\n",
        "../../images/all/Terry_McAuliffe\n",
        "../../images/all/Barbara_Felt-Miller\n",
        "../../images/all/Micheal_Jourdain_Jr\n",
        "../../images/all/Pascal_Rheaume\n",
        "../../images/all/Matt_Walters"
       ]
      },
      {
       "output_type": "stream",
       "stream": "stdout",
       "text": [
        "\n",
        "../../images/all/Christian_Lacroix\n",
        "../../images/all/Jennifer_Love_Hewitt\n",
        "../../images/all/Koichiro_Matsuura\n",
        "../../images/all/Larry_Tanenbaum\n",
        "../../images/all/Manuela_Montebrun\n",
        "../../images/all/Marsha_Sharp"
       ]
      },
      {
       "output_type": "stream",
       "stream": "stdout",
       "text": [
        "\n",
        "../../images/all/LeRoy_Millette_Jr\n",
        "../../images/all/Vladimir_Spidla\n",
        "../../images/all/Sandy_Wise\n",
        "../../images/all/Kai-Uwe_Ricke\n",
        "../../images/all/Carla_Myers\n",
        "../../images/all/Alberto_Ruiz_Gallardon\n",
        "../../images/all/Candice_Bergen"
       ]
      },
      {
       "output_type": "stream",
       "stream": "stdout",
       "text": [
        "\n",
        "../../images/all/Dustan_Mohr\n",
        "../../images/all/Mariana_Ohata\n",
        "../../images/all/Mireya_Moscoso\n",
        "../../images/all/Tom_Hanusik\n",
        "../../images/all/Richard_Shelby"
       ]
      },
      {
       "output_type": "stream",
       "stream": "stdout",
       "text": [
        "\n",
        "../../images/all/Conchita_Martinez\n",
        "../../images/all/Dieter_Holzer\n",
        "../../images/all/Francis_Collins\n",
        "../../images/all/Frank_Keating\n",
        "../../images/all/Barry_Collier\n",
        "../../images/all/Jon_Voight"
       ]
      },
      {
       "output_type": "stream",
       "stream": "stdout",
       "text": [
        "\n",
        "../../images/all/Tommy_Maddox\n",
        "../../images/all/Estelle_Morris\n",
        "../../images/all/Terry_Gilliam\n",
        "../../images/all/Lonnie_Donegan"
       ]
      },
      {
       "output_type": "stream",
       "stream": "stdout",
       "text": [
        "\n",
        "../../images/all/Brenda_Magana\n",
        "../../images/all/John_Marburger\n",
        "../../images/all/Thomas_Birmingham\n",
        "../../images/all/Svend_Robinson\n",
        "../../images/all/Carlos_Vives\n",
        "../../images/all/Susan_Whelan"
       ]
      },
      {
       "output_type": "stream",
       "stream": "stdout",
       "text": [
        "\n",
        "../../images/all/Trevor_Watson\n",
        "../../images/all/Agbani_Darego\n",
        "../../images/all/Brendan_Hansen\n",
        "../../images/all/David_Millar\n",
        "../../images/all/Douglas_Gansler"
       ]
      },
      {
       "output_type": "stream",
       "stream": "stdout",
       "text": [
        "\n",
        "../../images/all/Kent_McCord\n",
        "../../images/all/Dario_Franchitti\n",
        "../../images/all/Robert_Hanssen\n",
        "../../images/all/Kevin_Costner\n",
        "../../images/all/Tom_Welch\n",
        "../../images/all/Ken_Macha"
       ]
      },
      {
       "output_type": "stream",
       "stream": "stdout",
       "text": [
        "\n",
        "../../images/all/James_Sensenbrenner\n",
        "../../images/all/Daniel_Montgomery\n",
        "../../images/all/Karen_Pereiras\n",
        "../../images/all/Ms_Dynamite\n",
        "../../images/all/Joe_Mantello\n",
        "../../images/all/Daniel_Ortega"
       ]
      },
      {
       "output_type": "stream",
       "stream": "stdout",
       "text": [
        "\n",
        "../../images/all/Frederique_van_der_Wal\n",
        "../../images/all/Wes_Craven\n",
        "../../images/all/Cindy_Moll\n",
        "../../images/all/Eric_Shinseki\n",
        "../../images/all/Ian_Huntley\n",
        "../../images/all/Della_Clara"
       ]
      },
      {
       "output_type": "stream",
       "stream": "stdout",
       "text": [
        "\n",
        "../../images/all/Steve_Lenard\n",
        "../../images/all/Raquel_Welch\n",
        "../../images/all/Felix_Mantilla\n",
        "../../images/all/Patrick_Dennehy\n",
        "../../images/all/Xiang_Liu\n",
        "../../images/all/Celia_Cruz"
       ]
      },
      {
       "output_type": "stream",
       "stream": "stdout",
       "text": [
        "\n",
        "../../images/all/Flavia_Pennetta\n",
        "../../images/all/Yusuf_Misbac\n",
        "../../images/all/Bob_Guccione\n",
        "../../images/all/Glafcos_Clerides\n",
        "../../images/all/Shia_LaBeouf\n",
        "../../images/all/Luiz_Inacio_Lula_da_Silva"
       ]
      },
      {
       "output_type": "stream",
       "stream": "stdout",
       "text": [
        "\n",
        "../../images/all/Cori_Enghusen\n",
        "../../images/all/Jacqueline_Gold\n",
        "../../images/all/Kifah_Ajouri\n",
        "../../images/all/Jim_Schwarz\n",
        "../../images/all/Luis_Gonzalez\n",
        "../../images/all/Carl_Pope"
       ]
      },
      {
       "output_type": "stream",
       "stream": "stdout",
       "text": [
        "\n",
        "../../images/all/Ken_Balk\n",
        "../../images/all/Mike_Stefanik\n",
        "../../images/all/Wang_Hailan\n",
        "../../images/all/Robin_Wagner\n",
        "../../images/all/Michael_Boyce\n",
        "../../images/all/Guangdong_Ou_Guangyuan"
       ]
      },
      {
       "output_type": "stream",
       "stream": "stdout",
       "text": [
        "\n",
        "../../images/all/Daniele_Bergamin\n",
        "../../images/all/Jimmy_Gurule\n",
        "../../images/all/John_Hartson\n",
        "../../images/all/Monique_Ferreira\n",
        "../../images/all/Bob_Bowlsby\n",
        "../../images/all/Melissa_Mulloy"
       ]
      },
      {
       "output_type": "stream",
       "stream": "stdout",
       "text": [
        "\n",
        "../../images/all/Dwayne_Johnson\n",
        "../../images/all/Steve_Alford\n",
        "../../images/all/Sachin_Tendulkar\n",
        "../../images/all/Huan_Chung_Yi\n",
        "../../images/all/Donald_Trump\n",
        "../../images/all/James_Layug\n",
        "../../images/all/Ellen_Engleman"
       ]
      },
      {
       "output_type": "stream",
       "stream": "stdout",
       "text": [
        "\n",
        "../../images/all/Deena_Burnett\n",
        "../../images/all/Brandon_Knight\n",
        "../../images/all/Jose_Miguel_Aleman\n",
        "../../images/all/Donnie_Brennan\n",
        "../../images/all/Willis_Roberts\n",
        "../../images/all/Jean_Todt\n",
        "../../images/all/Yory_Boy_Campas"
       ]
      },
      {
       "output_type": "stream",
       "stream": "stdout",
       "text": [
        "\n",
        "../../images/all/Lawrence_Foley\n",
        "../../images/all/Andre_Smith\n",
        "../../images/all/Russ_Ortiz\n",
        "../../images/all/Miguel_Angel_Rodriguez\n",
        "../../images/all/Stacy_Dragila\n",
        "../../images/all/Robert_Horan"
       ]
      },
      {
       "output_type": "stream",
       "stream": "stdout",
       "text": [
        "\n",
        "../../images/all/Mohammed_Mehdi_Saleh\n",
        "../../images/all/Paul_Coppin\n",
        "../../images/all/Mark_Richt\n",
        "../../images/all/Griffin_Colvin\n",
        "../../images/all/LK_Advani\n",
        "../../images/all/Michelle_Chiklis\n",
        "../../images/all/James_McMahon"
       ]
      },
      {
       "output_type": "stream",
       "stream": "stdout",
       "text": [
        "\n",
        "../../images/all/John_Malkovich\n",
        "../../images/all/Sila_Calderon\n",
        "../../images/all/Celso_Lafer\n",
        "../../images/all/Jamie_Cooke\n",
        "../../images/all/Brawley_King\n",
        "../../images/all/Robin_McGraw"
       ]
      },
      {
       "output_type": "stream",
       "stream": "stdout",
       "text": [
        "\n",
        "../../images/all/Bill_Mauldin\n",
        "../../images/all/Cabas\n",
        "../../images/all/Carlton_Baugh\n",
        "../../images/all/Albert_Montanes\n",
        "../../images/all/Eladio_Larez\n",
        "../../images/all/Scott_Hoch"
       ]
      },
      {
       "output_type": "stream",
       "stream": "stdout",
       "text": [
        "\n",
        "../../images/all/Kevin_Borseth\n",
        "../../images/all/Hermann_Maier\n",
        "../../images/all/Hector_Grullon\n",
        "../../images/all/Clare_Latimer\n",
        "../../images/all/Federico_Castelan_Sayre\n",
        "../../images/all/Jan-Michael_Gambill"
       ]
      },
      {
       "output_type": "stream",
       "stream": "stdout",
       "text": [
        "\n",
        "../../images/all/Mia_Mottley\n",
        "../../images/all/Jason_Lezak\n",
        "../../images/all/Tangra_Riggle"
       ]
      },
      {
       "output_type": "stream",
       "stream": "stdout",
       "text": [
        "\n",
        "../../images/all/Linda_Mason\n",
        "../../images/all/Yoelbi_Quesada\n",
        "../../images/all/Kamal_Kharrazi\n",
        "../../images/all/Jimmy_Jimenez\n",
        "../../images/all/Jim_Parque"
       ]
      },
      {
       "output_type": "stream",
       "stream": "stdout",
       "text": [
        "\n",
        "../../images/all/Tatiana_Gratcheva\n",
        "../../images/all/Joe_DeLamielleure\n",
        "../../images/all/Hideki_Sato\n",
        "../../images/all/Joaquin_Phoenix\n",
        "../../images/all/Clare_Short\n",
        "../../images/all/Dennis_Johnson"
       ]
      },
      {
       "output_type": "stream",
       "stream": "stdout",
       "text": [
        "\n",
        "../../images/all/Leonardo_DiCaprio\n",
        "../../images/all/Anthony_Ervin\n",
        "../../images/all/Tom_Glavine\n",
        "../../images/all/George_W_Bush\n",
        "../../images/all/Leo_Ramirez"
       ]
      },
      {
       "output_type": "stream",
       "stream": "stdout",
       "text": [
        "\n",
        "../../images/all/David_Hannay\n",
        "../../images/all/Gordon_Campbell\n",
        "../../images/all/Katharine_Hepburn\n",
        "../../images/all/Natasha_Lyonne"
       ]
      },
      {
       "output_type": "stream",
       "stream": "stdout",
       "text": [
        "\n",
        "../../images/all/Ann_Landers\n",
        "../../images/all/Jan_Paul_Miller\n",
        "../../images/all/Festus_Mogae\n",
        "../../images/all/Claudia_Pechstein"
       ]
      },
      {
       "output_type": "stream",
       "stream": "stdout",
       "text": [
        "\n",
        "../../images/all/Pham_Sy_Chien\n",
        "../../images/all/Nora_Ephron\n",
        "../../images/all/Nia_Vardalos\n",
        "../../images/all/Sally_Ride\n",
        "../../images/all/Carolyn_Dawn_Johnson"
       ]
      },
      {
       "output_type": "stream",
       "stream": "stdout",
       "text": [
        "\n",
        "../../images/all/Jon_Constance\n",
        "../../images/all/Eileen_Coparropa\n",
        "../../images/all/Marina_Silva\n",
        "../../images/all/Jim_Spinoza\n",
        "../../images/all/Anja_Paerson\n",
        "../../images/all/Brian_Olson"
       ]
      },
      {
       "output_type": "stream",
       "stream": "stdout",
       "text": [
        "\n",
        "../../images/all/Alan_Trammell\n",
        "../../images/all/Dave_Williams\n",
        "../../images/all/Jan_De_Bont\n",
        "../../images/all/Marty_Mornhinweg"
       ]
      },
      {
       "output_type": "stream",
       "stream": "stdout",
       "text": [
        "\n",
        "../../images/all/Jens_Lehmann\n",
        "../../images/all/David_Myers\n",
        "../../images/all/Stanislas_Wawrinka\n",
        "../../images/all/Ajit_Agarkar\n",
        "../../images/all/Eglis_Yaima_Cruz"
       ]
      },
      {
       "output_type": "stream",
       "stream": "stdout",
       "text": [
        "\n",
        "../../images/all/Jim_Furyk\n",
        "../../images/all/Dick_Posthumus\n",
        "../../images/all/Jerome_Jenkins\n",
        "../../images/all/Elena_Likhovtseva"
       ]
      },
      {
       "output_type": "stream",
       "stream": "stdout",
       "text": [
        "\n",
        "../../images/all/Gerald_Fitch\n",
        "../../images/all/John_Wolf\n",
        "../../images/all/Michelle_Hofland\n",
        "../../images/all/Francesco_Totti\n",
        "../../images/all/Kathleen_Kennedy_Townsend"
       ]
      },
      {
       "output_type": "stream",
       "stream": "stdout",
       "text": [
        "\n",
        "../../images/all/Tom_Craddick\n",
        "../../images/all/Troy_Hudson\n",
        "../../images/all/Isabela_Moraes\n",
        "../../images/all/Kang_Gum-sil\n",
        "../../images/all/Tian_Liang"
       ]
      },
      {
       "output_type": "stream",
       "stream": "stdout",
       "text": [
        "\n",
        "../../images/all/Mikhail_Youzhny\n",
        "../../images/all/Jack_Straw\n",
        "../../images/all/Natasha_McElhone\n",
        "../../images/all/Michael_Haneke\n",
        "../../images/all/Lesia_Burlak"
       ]
      },
      {
       "output_type": "stream",
       "stream": "stdout",
       "text": [
        "\n",
        "../../images/all/Evelyn_Lauder\n",
        "../../images/all/Bob_Hartley\n",
        "../../images/all/Helen_Clark\n",
        "../../images/all/Martha_Burk"
       ]
      },
      {
       "output_type": "stream",
       "stream": "stdout",
       "text": [
        "\n",
        "../../images/all/S_Jayakumar\n",
        "../../images/all/Denys_Arcand\n",
        "../../images/all/Armando_Calderon_Sol\n",
        "../../images/all/Marricia_Tate\n",
        "../../images/all/Joshua_Davey"
       ]
      },
      {
       "output_type": "stream",
       "stream": "stdout",
       "text": [
        "\n",
        "../../images/all/Gloria_Gaynor\n",
        "../../images/all/Queen_Beatrix\n",
        "../../images/all/Kenneth_Evans\n",
        "../../images/all/Jody_Richards"
       ]
      },
      {
       "output_type": "stream",
       "stream": "stdout",
       "text": [
        "\n",
        "../../images/all/Zhang_Wenkang\n",
        "../../images/all/Bill_Stein\n",
        "../../images/all/Wolfgang_Schwarz\n",
        "../../images/all/Jimmy_Smits\n",
        "../../images/all/Simon_Cowell"
       ]
      },
      {
       "output_type": "stream",
       "stream": "stdout",
       "text": [
        "\n",
        "../../images/all/Astrid_Betancourt\n",
        "../../images/all/Mo_Elleithee\n",
        "../../images/all/Mark_McClellan\n",
        "../../images/all/Zhong_Nanshan\n",
        "../../images/all/Rita_Moreno\n",
        "../../images/all/Grace_Kelly"
       ]
      },
      {
       "output_type": "stream",
       "stream": "stdout",
       "text": [
        "\n",
        "../../images/all/Albert_Pujols\n",
        "../../images/all/Amanda_Bynes\n",
        "../../images/all/Aaron_Eckhart\n",
        "../../images/all/James_Cameron"
       ]
      },
      {
       "output_type": "stream",
       "stream": "stdout",
       "text": [
        "\n",
        "../../images/all/Lea_Fastow\n",
        "../../images/all/Jude_Law\n",
        "../../images/all/Mahendra_Chaudhry\n",
        "../../images/all/Brett_Hawke"
       ]
      },
      {
       "output_type": "stream",
       "stream": "stdout",
       "text": [
        "\n",
        "../../images/all/Sam_Bith\n",
        "../../images/all/John_Cusack\n",
        "../../images/all/Marwan_Barghouthi\n",
        "../../images/all/Thomas_Weston"
       ]
      },
      {
       "output_type": "stream",
       "stream": "stdout",
       "text": [
        "\n",
        "../../images/all/Danny_Morgan\n",
        "../../images/all/Chen_Tsai-chin\n",
        "../../images/all/Sharess_Harrell\n",
        "../../images/all/Ray_Evernham\n",
        "../../images/all/Tom_Brennan"
       ]
      },
      {
       "output_type": "stream",
       "stream": "stdout",
       "text": [
        "\n",
        "../../images/all/Bernard_Kerik\n",
        "../../images/all/Harold_Scott\n",
        "../../images/all/Kemal_Dervis\n",
        "../../images/all/Thomas_Ferguson\n",
        "../../images/all/Billy_Rork"
       ]
      },
      {
       "output_type": "stream",
       "stream": "stdout",
       "text": [
        "\n",
        "../../images/all/Tony_LaRussa\n",
        "../../images/all/Patrick_Clawsen\n",
        "../../images/all/Phil_Vassar\n",
        "../../images/all/Chita_Rivera\n",
        "../../images/all/Arnold_Palmer"
       ]
      },
      {
       "output_type": "stream",
       "stream": "stdout",
       "text": [
        "\n",
        "../../images/all/John_McCain\n",
        "../../images/all/Jerry_Bruckheimer\n",
        "../../images/all/Chawki_Armali\n",
        "../../images/all/Ari_Bousbib\n",
        "../../images/all/John_Leguizamo"
       ]
      },
      {
       "output_type": "stream",
       "stream": "stdout",
       "text": [
        "\n",
        "../../images/all/Justin_Gatlin\n",
        "../../images/all/Chuck_Amato\n",
        "../../images/all/Linus_Roache\n",
        "../../images/all/Paul_Shanley\n",
        "../../images/all/Terrence_Kiel\n",
        "../../images/all/Rafidah_Aziz"
       ]
      },
      {
       "output_type": "stream",
       "stream": "stdout",
       "text": [
        "\n",
        "../../images/all/Kenny_Chesney\n",
        "../../images/all/Kelli_White\n",
        "../../images/all/Jaqueline_Godoy\n",
        "../../images/all/Liu_Ye"
       ]
      },
      {
       "output_type": "stream",
       "stream": "stdout",
       "text": [
        "\n",
        "../../images/all/Bob_Holden\n",
        "../../images/all/Natalie_Imbruglia\n",
        "../../images/all/Hugh_Grant\n",
        "../../images/all/Mike_Cunning\n",
        "../../images/all/Mladen_Naletilic\n",
        "../../images/all/Louis_Van_Gaal"
       ]
      },
      {
       "output_type": "stream",
       "stream": "stdout",
       "text": [
        "\n",
        "../../images/all/Jerry_Rice\n",
        "../../images/all/Marina_Hands\n",
        "../../images/all/Mark_Geragos\n",
        "../../images/all/Tab_Turner\n",
        "../../images/all/Adam_Rich\n",
        "../../images/all/Mick_Jagger"
       ]
      },
      {
       "output_type": "stream",
       "stream": "stdout",
       "text": [
        "\n",
        "../../images/all/Jim_Kelly\n",
        "../../images/all/Dwain_Kyles\n",
        "../../images/all/John_Ferguson\n",
        "../../images/all/Markus_Naslund\n",
        "../../images/all/Joseph_Safra\n",
        "../../images/all/Raul_Gonzalez"
       ]
      },
      {
       "output_type": "stream",
       "stream": "stdout",
       "text": [
        "\n",
        "../../images/all/Jeff_Bridges\n",
        "../../images/all/Michelle_Kwan\n",
        "../../images/all/Sean_Hayes\n",
        "../../images/all/Ahmed_Lopez\n",
        "../../images/all/Rani_Mukherjee"
       ]
      },
      {
       "output_type": "stream",
       "stream": "stdout",
       "text": [
        "\n",
        "../../images/all/Shingo_Suetsugu\n",
        "../../images/all/Saeb_Erekat\n",
        "../../images/all/Tommy_Haas\n",
        "../../images/all/Akiko_Morigami\n",
        "../../images/all/Svend_Aage_Jensby\n",
        "../../images/all/Geraldine_Chaplin\n",
        "../../images/all/Herb_Brooks"
       ]
      },
      {
       "output_type": "stream",
       "stream": "stdout",
       "text": [
        "\n",
        "../../images/all/Randall_Terry\n",
        "../../images/all/Maureen_Kanka\n",
        "../../images/all/Mario_Lemieux\n",
        "../../images/all/Milo_Maestrecampo\n",
        "../../images/all/James_McPherson\n",
        "../../images/all/Cedric_Benson"
       ]
      },
      {
       "output_type": "stream",
       "stream": "stdout",
       "text": [
        "\n",
        "../../images/all/Jon_Corzine\n",
        "../../images/all/Mike_Holmgren\n",
        "../../images/all/Keith_Olbermann\n",
        "../../images/all/Richard_Lennon"
       ]
      },
      {
       "output_type": "stream",
       "stream": "stdout",
       "text": [
        "\n",
        "../../images/all/Micky_Arison\n",
        "../../images/all/Bridget_Fonda\n",
        "../../images/all/Carlos_Paternina\n",
        "../../images/all/Calista_Flockhart\n",
        "../../images/all/John_Henry"
       ]
      },
      {
       "output_type": "stream",
       "stream": "stdout",
       "text": [
        "\n",
        "../../images/all/Gideon_Yago\n",
        "../../images/all/Martin_Landau\n",
        "../../images/all/Bernice_Wong\n",
        "../../images/all/Princess_Diana\n",
        "../../images/all/Woodrow_Stanley"
       ]
      },
      {
       "output_type": "stream",
       "stream": "stdout",
       "text": [
        "\n",
        "../../images/all/Peter_Goldmark\n",
        "../../images/all/Dick_Clark\n",
        "../../images/all/Zach_Pillar\n",
        "../../images/all/Steve_Allan\n",
        "../../images/all/Tom_Kelly"
       ]
      },
      {
       "output_type": "stream",
       "stream": "stdout",
       "text": [
        "\n",
        "../../images/all/Peter_Mackay\n",
        "../../images/all/Carlos_Ruckauf\n",
        "../../images/all/Rob_Morrow\n",
        "../../images/all/Pinar_del_Rio\n",
        "../../images/all/Daniel_Radcliffe\n",
        "../../images/all/Charlie_Sheen"
       ]
      },
      {
       "output_type": "stream",
       "stream": "stdout",
       "text": [
        "\n",
        "../../images/all/Glen_Clark\n",
        "../../images/all/Lubomir_Zaoralek\n",
        "../../images/all/Mikhail_Khodorkovsky\n",
        "../../images/all/Rainer_Schuettler\n",
        "../../images/all/Ascencion_Barajas\n",
        "../../images/all/Thanongsak_Tuvinan"
       ]
      },
      {
       "output_type": "stream",
       "stream": "stdout",
       "text": [
        "\n",
        "../../images/all/Hilary_Duff\n",
        "../../images/all/Eric_Bana\n",
        "../../images/all/Robert_Witt\n",
        "../../images/all/Kate_Hudson\n",
        "../../images/all/Johannes_Rau\n",
        "../../images/all/Janica_Kostelic\n",
        "../../images/all/Heather_Whitestone_McCallum"
       ]
      },
      {
       "output_type": "stream",
       "stream": "stdout",
       "text": [
        "\n",
        "../../images/all/James_Gibson\n",
        "../../images/all/Jack_Knowlton\n",
        "../../images/all/Jeanette_Stauffer\n",
        "../../images/all/Ian_Gillan\n",
        "../../images/all/Ahmad_Jbarah"
       ]
      },
      {
       "output_type": "stream",
       "stream": "stdout",
       "text": [
        "\n",
        "../../images/all/John_Ruiz\n",
        "../../images/all/Wen_Ho_Lee\n",
        "../../images/all/Richard_Daley\n",
        "../../images/all/Estella_Warren\n",
        "../../images/all/Amber_Tamblyn\n",
        "../../images/all/Masatoshi_Koshiba\n",
        "../../images/all/Chris_Andrews\n",
        "../../images/all/Tatiana_Shchegoleva"
       ]
      },
      {
       "output_type": "stream",
       "stream": "stdout",
       "text": [
        "\n",
        "../../images/all/Rick_Perry\n",
        "../../images/all/Mark_Hanson\n",
        "../../images/all/Andy_Dick\n",
        "../../images/all/Maria_Wetterstrand\n",
        "../../images/all/Kamel_Morjane\n",
        "../../images/all/Max_von_Sydow"
       ]
      },
      {
       "output_type": "stream",
       "stream": "stdout",
       "text": [
        "\n",
        "../../images/all/Noer_Moeis\n",
        "../../images/all/Shane_Loux\n",
        "../../images/all/Anthony_Carter\n",
        "../../images/all/Michael_Dell\n",
        "../../images/all/Romain_Duris"
       ]
      },
      {
       "output_type": "stream",
       "stream": "stdout",
       "text": [
        "\n",
        "../../images/all/David_Kelly\n",
        "../../images/all/Theresa_May\n",
        "../../images/all/Yuri_Luzhkov\n",
        "../../images/all/Emilio_Azcarraga_Jean\n",
        "../../images/all/Sheikh_Ahmed_Yassin\n",
        "../../images/all/James_Hakett"
       ]
      },
      {
       "output_type": "stream",
       "stream": "stdout",
       "text": [
        "\n",
        "../../images/all/Rita_Wilson\n",
        "../../images/all/Stuart_Knoll\n",
        "../../images/all/William_Swor\n",
        "../../images/all/Spike_Jonze\n",
        "../../images/all/John_Prescott\n",
        "../../images/all/Steve_Kerr\n",
        "../../images/all/Carroll_Weimer"
       ]
      },
      {
       "output_type": "stream",
       "stream": "stdout",
       "text": [
        "\n",
        "../../images/all/Peter_Holmberg\n",
        "../../images/all/Eriko_Tamura\n",
        "../../images/all/Azmi_Bishara\n",
        "../../images/all/Nicolas_Escude\n",
        "../../images/all/Paul_Pierce\n",
        "../../images/all/Martin_McCauley"
       ]
      },
      {
       "output_type": "stream",
       "stream": "stdout",
       "text": [
        "\n",
        "../../images/all/Gordon_Cooper\n",
        "../../images/all/Michael_Ballack\n",
        "../../images/all/Lawrence_Vito\n",
        "../../images/all/Pablo_Latras\n",
        "../../images/all/Du_Qinglin\n",
        "../../images/all/Hasan_Wirayuda"
       ]
      },
      {
       "output_type": "stream",
       "stream": "stdout",
       "text": [
        "\n",
        "../../images/all/Scott_Yates\n",
        "../../images/all/Daniel_Coats\n",
        "../../images/all/Fernando_Valenzuela\n",
        "../../images/all/Michael_J_Sheehan\n",
        "../../images/all/Ronald_Perelman\n",
        "../../images/all/Dennis_Hastert"
       ]
      },
      {
       "output_type": "stream",
       "stream": "stdout",
       "text": [
        "\n",
        "../../images/all/Kelvin_Sampson\n",
        "../../images/all/Charles_Grassley\n",
        "../../images/all/Richard_Branson\n",
        "../../images/all/Lemuel_Montulo\n",
        "../../images/all/Pringe_Ernst_August\n",
        "../../images/all/Bob_Curtis"
       ]
      },
      {
       "output_type": "stream",
       "stream": "stdout",
       "text": [
        "\n",
        "../../images/all/Brett_Boone\n",
        "../../images/all/Hu_Maoyuan\n",
        "../../images/all/Idi_Amin\n",
        "../../images/all/Chyung_Dai-chul\n",
        "../../images/all/Eve_Pelletier"
       ]
      },
      {
       "output_type": "stream",
       "stream": "stdout",
       "text": [
        "\n",
        "../../images/all/Jimmy_Szymanski\n",
        "../../images/all/Basdeo_Panday\n",
        "../../images/all/Chhouk_Rin\n",
        "../../images/all/Mike_Duke\n",
        "../../images/all/Nicolas_Lapentti\n",
        "../../images/all/Yingfan_Wang"
       ]
      },
      {
       "output_type": "stream",
       "stream": "stdout",
       "text": [
        "\n",
        "../../images/all/Derek_Jeter\n",
        "../../images/all/Abdullah\n",
        "../../images/all/Sherry_Irving\n",
        "../../images/all/Laurie_Laychak\n",
        "../../images/all/Abdel_Aziz_Al-Hakim\n",
        "../../images/all/Tanya_Lindenmuth"
       ]
      },
      {
       "output_type": "stream",
       "stream": "stdout",
       "text": [
        "\n",
        "../../images/all/Andres_DAlessandro\n",
        "../../images/all/Paul_Farley\n",
        "../../images/all/Dale_Bosworth\n",
        "../../images/all/Chris_Kolanas\n",
        "../../images/all/Matt_Braker\n",
        "../../images/all/Russell_Simmons"
       ]
      },
      {
       "output_type": "stream",
       "stream": "stdout",
       "text": [
        "\n",
        "../../images/all/Joe_Metz\n",
        "../../images/all/Michael_Deutsch\n",
        "../../images/all/Khader_Rashid_Rahim\n",
        "../../images/all/Joseph_Salgado\n",
        "../../images/all/Ryan_Nyquist\n",
        "../../images/all/Paula_Radcliffe"
       ]
      },
      {
       "output_type": "stream",
       "stream": "stdout",
       "text": [
        "\n",
        "../../images/all/Yolanda_King\n",
        "../../images/all/Guillaume_Depardieu\n",
        "../../images/all/Rohinton_Mistry\n",
        "../../images/all/Malcolm_Jamal_Warner\n",
        "../../images/all/Alina_Kabaeva"
       ]
      },
      {
       "output_type": "stream",
       "stream": "stdout",
       "text": [
        "\n",
        "../../images/all/Jane_Riley\n",
        "../../images/all/John_Reilly\n",
        "../../images/all/Jason_Kapono\n",
        "../../images/all/Adrian_Nastase\n",
        "../../images/all/Enrique_Iglesias\n",
        "../../images/all/Philip_Murtaugh"
       ]
      },
      {
       "output_type": "stream",
       "stream": "stdout",
       "text": [
        "\n",
        "../../images/all/Kieran_Prendergast\n",
        "../../images/all/Li_Ka-shing\n",
        "../../images/all/Kathryn_Grayson\n",
        "../../images/all/Olivia_Newton-John\n",
        "../../images/all/Julio_Cesar_Chavez"
       ]
      },
      {
       "output_type": "stream",
       "stream": "stdout",
       "text": [
        "\n",
        "../../images/all/Yang_Pao-yu\n",
        "../../images/all/Dennis_Franchione\n",
        "../../images/all/Elmar_Brok\n",
        "../../images/all/Saddam_Hussein\n",
        "../../images/all/Pat_DAmuro\n",
        "../../images/all/Nanni_Moretti\n",
        "../../images/all/Paul_Bettany"
       ]
      },
      {
       "output_type": "stream",
       "stream": "stdout",
       "text": [
        "\n",
        "../../images/all/Nelson_Mandela\n",
        "../../images/all/Pak_Gil_Yon\n",
        "../../images/all/Jim_Bunning\n",
        "../../images/all/Brandon_Lloyd\n",
        "../../images/all/Calvin_Harrison\n",
        "../../images/all/Rene_Portland"
       ]
      },
      {
       "output_type": "stream",
       "stream": "stdout",
       "text": [
        "\n",
        "../../images/all/Kathy_Baker\n",
        "../../images/all/Jeannette_Biedermann\n",
        "../../images/all/Lloyd_Richards\n",
        "../../images/all/Kathy_Bates\n",
        "../../images/all/Phil_Jackson"
       ]
      },
      {
       "output_type": "stream",
       "stream": "stdout",
       "text": [
        "\n",
        "../../images/all/Frank_Bell\n",
        "../../images/all/Wilma_McNabb\n",
        "../../images/all/Joey_Harrington\n",
        "../../images/all/Pieter_Bouw\n",
        "../../images/all/Terunobu_Maeda\n",
        "../../images/all/David_Ballantyne\n",
        "../../images/all/John_Thune"
       ]
      },
      {
       "output_type": "stream",
       "stream": "stdout",
       "text": [
        "\n",
        "../../images/all/Jose_Luis_Santiago_Vasconcelos\n",
        "../../images/all/Gerard_Depardieu\n",
        "../../images/all/Chen_Liang_Yu\n",
        "../../images/all/Frank_Abagnale_Jr\n",
        "../../images/all/Paul_Tracy\n",
        "../../images/all/Lou_Ye"
       ]
      },
      {
       "output_type": "stream",
       "stream": "stdout",
       "text": [
        "\n",
        "../../images/all/Dolma_Tsering\n",
        "../../images/all/Mikhail_Shvydkoi\n",
        "../../images/all/Warren_Truss\n",
        "../../images/all/Mohammad_Khatami\n",
        "../../images/all/Jim_Doyle\n",
        "../../images/all/Caroline_Link"
       ]
      },
      {
       "output_type": "stream",
       "stream": "stdout",
       "text": [
        "\n",
        "../../images/all/Samantha_Ledster\n",
        "../../images/all/Prince_Charles\n",
        "../../images/all/Jean-Claude_Braquet\n",
        "../../images/all/Tammy_Helm\n",
        "../../images/all/David_Collenette\n",
        "../../images/all/James_Phelps"
       ]
      },
      {
       "output_type": "stream",
       "stream": "stdout",
       "text": [
        "\n",
        "../../images/all/Viktor_Yushchenko\n",
        "../../images/all/Mary_Hill\n",
        "../../images/all/Yukio_Hatoyama\n",
        "../../images/all/Ray_Romano\n",
        "../../images/all/Gennifer_Flowers\n",
        "../../images/all/Yukiko_Okudo\n",
        "../../images/all/Edie_Falco"
       ]
      },
      {
       "output_type": "stream",
       "stream": "stdout",
       "text": [
        "\n",
        "../../images/all/Paul_Gannon\n",
        "../../images/all/Michael_Sullivan\n",
        "../../images/all/Paula_Locke\n",
        "../../images/all/Thad_Matta\n",
        "../../images/all/Brian_Florence\n",
        "../../images/all/Phan_Van_Khai"
       ]
      },
      {
       "output_type": "stream",
       "stream": "stdout",
       "text": [
        "\n",
        "../../images/all/Amy_Yasbeck\n",
        "../../images/all/Robert_De_Niro\n",
        "../../images/all/Scott_Hamilton\n",
        "../../images/all/Bernardo_Segura\n",
        "../../images/all/Iran_Brown\n",
        "../../images/all/Vince_Vaughan"
       ]
      },
      {
       "output_type": "stream",
       "stream": "stdout",
       "text": [
        "\n",
        "../../images/all/Bak_Chang-Ryun\n",
        "../../images/all/Adrian_Annus\n",
        "../../images/all/Carla_Del_Ponte\n",
        "../../images/all/Carlos_Savedra\n",
        "../../images/all/Cindy_Klassen\n",
        "../../images/all/Iban_Mayo\n",
        "../../images/all/Joey_Buttafuoco"
       ]
      },
      {
       "output_type": "stream",
       "stream": "stdout",
       "text": [
        "\n",
        "../../images/all/Nursultan_Nazarbayev\n",
        "../../images/all/McGuire_Gibson\n",
        "../../images/all/Ronnie_Musgrove\n",
        "../../images/all/Marie-Josee_Croze\n",
        "../../images/all/Martha_Beatriz_Roque\n",
        "../../images/all/Kelly_Santos"
       ]
      },
      {
       "output_type": "stream",
       "stream": "stdout",
       "text": [
        "\n",
        "../../images/all/James_McGreevey\n",
        "../../images/all/Hernan_Diaz\n",
        "../../images/all/Roy_Moore\n",
        "../../images/all/Steve_Stirling"
       ]
      },
      {
       "output_type": "stream",
       "stream": "stdout",
       "text": [
        "\n",
        "../../images/all/Pedro_Solbes\n",
        "../../images/all/Ronald_White\n",
        "../../images/all/Pilar_Montenegro\n",
        "../../images/all/Jose_Lopez_Beltran\n",
        "../../images/all/Janice_Abreu\n",
        "../../images/all/Robin_Tunney"
       ]
      },
      {
       "output_type": "stream",
       "stream": "stdout",
       "text": [
        "\n",
        "../../images/all/Chelsea_Clinton\n",
        "../../images/all/Daniela_Cicarelli\n",
        "../../images/all/Jerry_Angelo\n",
        "../../images/all/Linda_Sanchez\n",
        "../../images/all/Pedro_Martinez\n",
        "../../images/all/Michael_Bolton"
       ]
      },
      {
       "output_type": "stream",
       "stream": "stdout",
       "text": [
        "\n",
        "../../images/all/Judi_Dench\n",
        "../../images/all/Eddie_Murray\n",
        "../../images/all/Paul_ONeill\n",
        "../../images/all/Gracia_Burnham\n",
        "../../images/all/Cha_Yung-gu"
       ]
      },
      {
       "output_type": "stream",
       "stream": "stdout",
       "text": [
        "\n",
        "../../images/all/Don_Flanagan\n",
        "../../images/all/James_Morris\n",
        "../../images/all/Richard_Langille\n",
        "../../images/all/William_Harrison\n",
        "../../images/all/Hal_Sutton\n",
        "../../images/all/Ahmad_Masood\n",
        "../../images/all/John_Travolta"
       ]
      },
      {
       "output_type": "stream",
       "stream": "stdout",
       "text": [
        "\n",
        "../../images/all/Saman_Shali\n",
        "../../images/all/Fruit_Chan\n",
        "../../images/all/Ruth_Bader_Ginsburg\n",
        "../../images/all/Olivier_Boulay\n",
        "../../images/all/Mahmoud_Diyab_al-Ahmed\n",
        "../../images/all/Kristin_Scott"
       ]
      },
      {
       "output_type": "stream",
       "stream": "stdout",
       "text": [
        "\n",
        "../../images/all/George_Clooney\n",
        "../../images/all/Lyle_Lovett\n",
        "../../images/all/Ellen_Pompeo\n",
        "../../images/all/Oprah_Winfrey\n",
        "../../images/all/Andy_Benes\n",
        "../../images/all/Meg_Mallon"
       ]
      },
      {
       "output_type": "stream",
       "stream": "stdout",
       "text": [
        "\n",
        "../../images/all/Melina_Kanakaredes\n",
        "../../images/all/Yuri_Fedotov\n",
        "../../images/all/Diego_Diego_Lerman\n",
        "../../images/all/Wang_Fei\n",
        "../../images/all/Cesar_Gaviria\n",
        "../../images/all/Cristina_Saralegui"
       ]
      },
      {
       "output_type": "stream",
       "stream": "stdout",
       "text": [
        "\n",
        "../../images/all/Alexa_Vega\n",
        "../../images/all/Romeo_Gigli\n",
        "../../images/all/Darko_Milicic\n",
        "../../images/all/Victor_Kraatz\n",
        "../../images/all/Gene_Robinson"
       ]
      },
      {
       "output_type": "stream",
       "stream": "stdout",
       "text": [
        "\n",
        "../../images/all/Erin_Brockovich\n",
        "../../images/all/Stanley_Nelson\n",
        "../../images/all/James_Hughes\n",
        "../../images/all/Li_Peng\n",
        "../../images/all/Margerry_Bakley"
       ]
      },
      {
       "output_type": "stream",
       "stream": "stdout",
       "text": [
        "\n",
        "../../images/all/Dora_Bakoyianni\n",
        "../../images/all/Lawrence_Di_Rita\n",
        "../../images/all/Mireya_Elisa_Moscoso_Rodriguez\n",
        "../../images/all/Mstislav_Rostropovich\n",
        "../../images/all/Jennifer_Gratz\n",
        "../../images/all/George_Karl"
       ]
      },
      {
       "output_type": "stream",
       "stream": "stdout",
       "text": [
        "\n",
        "../../images/all/Jaouad_Gharib\n",
        "../../images/all/Alek_Wek\n",
        "../../images/all/Phillip_Fulmer\n",
        "../../images/all/Clay_Aiken\n",
        "../../images/all/Robin_Johansen\n",
        "../../images/all/Peter_Rasch"
       ]
      },
      {
       "output_type": "stream",
       "stream": "stdout",
       "text": [
        "\n",
        "../../images/all/Tom_Ridge\n",
        "../../images/all/Michael_Moore\n",
        "../../images/all/Armando_Carrillo\n",
        "../../images/all/David_Siegel\n",
        "../../images/all/Phil_Johnson\n",
        "../../images/all/Joseph_Estrada\n",
        "../../images/all/Shannon_OBrien"
       ]
      },
      {
       "output_type": "stream",
       "stream": "stdout",
       "text": [
        "\n",
        "../../images/all/Tim_Salmon\n",
        "../../images/all/Mona_Locke\n",
        "../../images/all/Iva_Majoli\n",
        "../../images/all/Alejandro_Gonzalez_Inarritu\n",
        "../../images/all/Luo_Linquan"
       ]
      },
      {
       "output_type": "stream",
       "stream": "stdout",
       "text": [
        "\n",
        "../../images/all/Kay_Behrensmeyer\n",
        "../../images/all/Alastair_Johnston\n",
        "../../images/all/DAngelo_Jimenez\n",
        "../../images/all/Stefan_Tafrov\n",
        "../../images/all/Marie-Reine_Le_Gougne"
       ]
      },
      {
       "output_type": "stream",
       "stream": "stdout",
       "text": [
        "\n",
        "../../images/all/Lorne_Michaels\n",
        "../../images/all/Brad_Alexander_Smith\n",
        "../../images/all/Nate_Hybl\n",
        "../../images/all/Reggie_Miller\n",
        "../../images/all/Alexa_Loren\n",
        "../../images/all/Tatjana_Gsell"
       ]
      },
      {
       "output_type": "stream",
       "stream": "stdout",
       "text": [
        "\n",
        "../../images/all/Humberto_Espinoza\n",
        "../../images/all/Bill_Walton\n",
        "../../images/all/Tony_Clement\n",
        "../../images/all/Maxim_Afinogenov\n",
        "../../images/all/Billy_Graham\n",
        "../../images/all/Ahmet_Necdet_Sezer\n",
        "../../images/all/Sonja_Kesselschlager"
       ]
      },
      {
       "output_type": "stream",
       "stream": "stdout",
       "text": [
        "\n",
        "../../images/all/Charles_Ingram\n",
        "../../images/all/Darin_Erstad\n",
        "../../images/all/Tim_Curley\n",
        "../../images/all/Michael_Shelby\n",
        "../../images/all/Carly_Fiorina"
       ]
      },
      {
       "output_type": "stream",
       "stream": "stdout",
       "text": [
        "\n",
        "../../images/all/Urmila_Matondkar\n",
        "../../images/all/Andy_Wisecarver\n",
        "../../images/all/Thomas_Manger\n",
        "../../images/all/Jose_Carlo_Fernandez\n",
        "../../images/all/Kristy_Curry\n",
        "../../images/all/Lynne_Cheney"
       ]
      },
      {
       "output_type": "stream",
       "stream": "stdout",
       "text": [
        "\n",
        "../../images/all/Bob_Beauprez\n",
        "../../images/all/Johan_Bruyneel\n",
        "../../images/all/Wallace_Capel\n",
        "../../images/all/Gregorio_Honasan\n",
        "../../images/all/Robbie_Mc_Ewen"
       ]
      },
      {
       "output_type": "stream",
       "stream": "stdout",
       "text": [
        "\n",
        "../../images/all/Jim_Ahern\n",
        "../../images/all/Tom_Schnackenberg\n",
        "../../images/all/Dennis_Kucinich\n",
        "../../images/all/James_Barksdale\n",
        "../../images/all/Eileen_Spina\n",
        "../../images/all/Rudy_Tomjanovich"
       ]
      },
      {
       "output_type": "stream",
       "stream": "stdout",
       "text": [
        "\n",
        "../../images/all/Christopher_Conyers\n",
        "../../images/all/Anton_Balasingham\n",
        "../../images/all/Anibal_Ibarra\n",
        "../../images/all/Andy_Roddick\n",
        "../../images/all/Shaukat_Aziz\n",
        "../../images/all/Elvis_Stojko"
       ]
      },
      {
       "output_type": "stream",
       "stream": "stdout",
       "text": [
        "\n",
        "../../images/all/Jorge_Batlle\n",
        "../../images/all/Rick_Pitino\n",
        "../../images/all/Loretta_Lynn_Harper\n",
        "../../images/all/Dorthy_Moxley"
       ]
      },
      {
       "output_type": "stream",
       "stream": "stdout",
       "text": [
        "\n",
        "../../images/all/Alex_Barros\n",
        "../../images/all/John_Eder\n",
        "../../images/all/Laurence_Tribe\n",
        "../../images/all/JT_Snow\n",
        "../../images/all/Alonzo_Mourning\n",
        "../../images/all/Recep_Tayyip_Erdogan\n",
        "../../images/all/Max_Baucus"
       ]
      },
      {
       "output_type": "stream",
       "stream": "stdout",
       "text": [
        "\n",
        "../../images/all/Allison_Janney\n",
        "../../images/all/Paul_Bremer\n",
        "../../images/all/Steve_Austin\n",
        "../../images/all/Bruce_Van_De_Velde\n",
        "../../images/all/Takashi_Sorimachi\n",
        "../../images/all/Hamzah_Haz"
       ]
      },
      {
       "output_type": "stream",
       "stream": "stdout",
       "text": [
        "\n",
        "../../images/all/Mira_Sorvino\n",
        "../../images/all/Oswaldo_Paya\n",
        "../../images/all/Odai_Hussein\n",
        "../../images/all/Sherry_Fisher\n",
        "../../images/all/Gary_Williams\n",
        "../../images/all/Terry_Hoeppner\n",
        "../../images/all/Dave_Barr"
       ]
      },
      {
       "output_type": "stream",
       "stream": "stdout",
       "text": [
        "\n",
        "../../images/all/Vidar_Helgesen\n",
        "../../images/all/Emma_Watson\n",
        "../../images/all/Kate_Starbird\n",
        "../../images/all/Jeffrey_Archer\n",
        "../../images/all/Jean-Pierre_Raffarin\n",
        "../../images/all/Joseph_Fiennes"
       ]
      },
      {
       "output_type": "stream",
       "stream": "stdout",
       "text": [
        "\n",
        "../../images/all/Mary_Catherine_Correll\n",
        "../../images/all/Al_Sharpton\n",
        "../../images/all/Chris_Reitsma\n",
        "../../images/all/Marisol_Martinez_Sambran\n",
        "../../images/all/Joe_Plumeri\n",
        "../../images/all/Dan_Boyle"
       ]
      },
      {
       "output_type": "stream",
       "stream": "stdout",
       "text": [
        "\n",
        "../../images/all/Bill_Hughes\n",
        "../../images/all/Mohammad_Hasanein\n",
        "../../images/all/Eli_Stutsman\n",
        "../../images/all/Tim_Lopes\n",
        "../../images/all/Sandy_Smith"
       ]
      },
      {
       "output_type": "stream",
       "stream": "stdout",
       "text": [
        "\n",
        "../../images/all/Gael_Garcia_Bermal\n",
        "../../images/all/Dominik_Hrbaty\n",
        "../../images/all/Tim_Duncan\n",
        "../../images/all/Martha_Smith\n",
        "../../images/all/John_Bolton\n",
        "../../images/all/Robert_Gordon_Card\n",
        "../../images/all/Richard_Barry"
       ]
      },
      {
       "output_type": "stream",
       "stream": "stdout",
       "text": [
        "\n",
        "../../images/all/Barry_Hinson\n",
        "../../images/all/Zeng_Qinghong\n",
        "../../images/all/Edward_Arsenault\n",
        "../../images/all/Federico_Fellini\n",
        "../../images/all/Hana_Sadiq\n",
        "../../images/all/Luca_Cordero_di_Montezemolo\n",
        "../../images/all/Jose_Sarney"
       ]
      },
      {
       "output_type": "stream",
       "stream": "stdout",
       "text": [
        "\n",
        "../../images/all/Michael_Milton\n",
        "../../images/all/John_Blaney\n",
        "../../images/all/John_Gordnick\n",
        "../../images/all/Fran_Drescher"
       ]
      },
      {
       "output_type": "stream",
       "stream": "stdout",
       "text": [
        "\n",
        "../../images/all/BJ_Habibie\n",
        "../../images/all/Theo_Epstein\n",
        "../../images/all/Janet_Leigh\n",
        "../../images/all/Rodrigo_Borja"
       ]
      },
      {
       "output_type": "stream",
       "stream": "stdout",
       "text": [
        "\n",
        "../../images/all/Luciano_Bovicelli\n",
        "../../images/all/Sean_Patrick_OMalley\n",
        "../../images/all/Mary_Maddux\n",
        "../../images/all/Miranda_Gaddis\n",
        "../../images/all/Sigourney_Weaver\n",
        "../../images/all/Alfonso_Cuaron"
       ]
      },
      {
       "output_type": "stream",
       "stream": "stdout",
       "text": [
        "\n",
        "../../images/all/Osrat_Iosef\n",
        "../../images/all/Alison_Lohman\n",
        "../../images/all/Scott_McNealy\n",
        "../../images/all/Daja_Bedanova\n",
        "../../images/all/Ann_Godbehere\n",
        "../../images/all/Federico_Trillo"
       ]
      },
      {
       "output_type": "stream",
       "stream": "stdout",
       "text": [
        "\n",
        "../../images/all/Poala_Suarez\n",
        "../../images/all/Christina_Aguilera\n",
        "../../images/all/Erwin_Abdullah\n",
        "../../images/all/Arminio_Fraga\n",
        "../../images/all/Brian_Cook\n",
        "../../images/all/Michael_Munoz"
       ]
      },
      {
       "output_type": "stream",
       "stream": "stdout",
       "text": [
        "\n",
        "../../images/all/Kenneth_Carlsen\n",
        "../../images/all/Tayshaun_Prince\n",
        "../../images/all/Carson_Palmer\n",
        "../../images/all/John_Reid\n",
        "../../images/all/Thor_Pedersen\n",
        "../../images/all/Kent_Rominger"
       ]
      },
      {
       "output_type": "stream",
       "stream": "stdout",
       "text": [
        "\n",
        "../../images/all/Patrick_Leahy\n",
        "../../images/all/Albert_Brooks\n",
        "../../images/all/Kate_Capshaw\n",
        "../../images/all/Kim_Ryong-sung\n",
        "../../images/all/Takahiro_Mori\n",
        "../../images/all/Ted_Williams"
       ]
      },
      {
       "output_type": "stream",
       "stream": "stdout",
       "text": [
        "\n",
        "../../images/all/Noelle_Bush\n",
        "../../images/all/Kurt_Hellstrom\n",
        "../../images/all/David_Heyman\n",
        "../../images/all/Richard_Cohen\n",
        "../../images/all/Shi_Guangsheng"
       ]
      },
      {
       "output_type": "stream",
       "stream": "stdout",
       "text": [
        "\n",
        "../../images/all/Juan_Carlos\n",
        "../../images/all/Helio_Castroneves\n",
        "../../images/all/Gorden_Tallis\n",
        "../../images/all/Agnes_Bruckner\n",
        "../../images/all/Ilan_Goldfajn\n",
        "../../images/all/Thomas_Haeggstroem"
       ]
      },
      {
       "output_type": "stream",
       "stream": "stdout",
       "text": [
        "\n",
        "../../images/all/Alex_Sink\n",
        "../../images/all/Sok_An\n",
        "../../images/all/Shavon_Earp\n",
        "../../images/all/Natalie_Stewart\n",
        "../../images/all/James_Harris"
       ]
      },
      {
       "output_type": "stream",
       "stream": "stdout",
       "text": [
        "\n",
        "../../images/all/James_Parker\n",
        "../../images/all/Betsy_Coffin\n",
        "../../images/all/Gregory_Geoffroy\n",
        "../../images/all/Nuon_Chea\n",
        "../../images/all/David_Sibleyk"
       ]
      },
      {
       "output_type": "stream",
       "stream": "stdout",
       "text": [
        "\n",
        "../../images/all/John_Starks\n",
        "../../images/all/Arnold_Scott\n",
        "../../images/all/Hilary_McKay\n",
        "../../images/all/Eva_Dimas\n",
        "../../images/all/John_Nimmo"
       ]
      },
      {
       "output_type": "stream",
       "stream": "stdout",
       "text": [
        "\n",
        "../../images/all/Yao_Ming\n",
        "../../images/all/Aparna_Pillai\n",
        "../../images/all/Tina_Fey\n",
        "../../images/all/Michael_Patrick_King\n",
        "../../images/all/Des_Brown\n",
        "../../images/all/Antanas_Valionis"
       ]
      },
      {
       "output_type": "stream",
       "stream": "stdout",
       "text": [
        "\n",
        "../../images/all/Jacob_Frenkel\n",
        "../../images/all/Robert_Gallo\n",
        "../../images/all/Sharon_Osbourne\n",
        "../../images/all/Henrique_Meirelles\n",
        "../../images/all/Edward_Flynn\n",
        "../../images/all/Surya_Bahadur_Thapa"
       ]
      },
      {
       "output_type": "stream",
       "stream": "stdout",
       "text": [
        "\n",
        "../../images/all/Munir_Akram\n",
        "../../images/all/Sharon_Davis\n",
        "../../images/all/Christine_Rau\n",
        "../../images/all/Matthew_Broderick\n",
        "../../images/all/Franco_Dragone\n",
        "../../images/all/Sheldon_Silver"
       ]
      },
      {
       "output_type": "stream",
       "stream": "stdout",
       "text": [
        "\n",
        "../../images/all/Mayumi_Moriyama\n",
        "../../images/all/Charlotte_Rampling\n",
        "../../images/all/Sourav_Ganguly\n",
        "../../images/all/Jennifer_Renee_Short\n",
        "../../images/all/John_Duprey"
       ]
      },
      {
       "output_type": "stream",
       "stream": "stdout",
       "text": [
        "\n",
        "../../images/all/Jason_Gardner\n",
        "../../images/all/Rick_Rickert\n",
        "../../images/all/William_Joppy\n",
        "../../images/all/Gholamreza_Aghazadeh\n",
        "../../images/all/James_Jones\n",
        "../../images/all/Earl_Scruggs"
       ]
      },
      {
       "output_type": "stream",
       "stream": "stdout",
       "text": [
        "\n",
        "../../images/all/Mahmoud_Al_Zhar\n",
        "../../images/all/Almeida_Baptista\n",
        "../../images/all/Adam_Freier\n",
        "../../images/all/Cheryl_Little\n",
        "../../images/all/Tristan_Gretzky\n",
        "../../images/all/Martha_Lucia_Ramirez\n",
        "../../images/all/Justine_Henin"
       ]
      },
      {
       "output_type": "stream",
       "stream": "stdout",
       "text": [
        "\n",
        "../../images/all/Malcolm_Glazer\n",
        "../../images/all/Emmanuel_Milingo\n",
        "../../images/all/Gary_Locke\n",
        "../../images/all/Ruth_Stubbs\n",
        "../../images/all/Paul_Greengrass\n",
        "../../images/all/Hitoshi_Oshitani"
       ]
      },
      {
       "output_type": "stream",
       "stream": "stdout",
       "text": [
        "\n",
        "../../images/all/Anne_Donovan\n",
        "../../images/all/Isidro_Pastor\n",
        "../../images/all/Robert_Nillson\n",
        "../../images/all/Peter_Sejna\n",
        "../../images/all/Caroline_Kennedy\n",
        "../../images/all/Hiroki_Gomi"
       ]
      },
      {
       "output_type": "stream",
       "stream": "stdout",
       "text": [
        "\n",
        "../../images/all/Gillian_Anderson\n",
        "../../images/all/Lisa_Murkowski\n",
        "../../images/all/Harry_Kalas\n",
        "../../images/all/Vagit_Alekperov\n",
        "../../images/all/Richard_Levin"
       ]
      },
      {
       "output_type": "stream",
       "stream": "stdout",
       "text": [
        "\n",
        "../../images/all/Mary_Steenburgen\n",
        "../../images/all/Eli_Broad\n",
        "../../images/all/Olivier_Rochus\n",
        "../../images/all/Ali_Adbul_Karim_Madani\n",
        "../../images/all/Ali_Fallahian\n",
        "../../images/all/Jason_Bentley"
       ]
      },
      {
       "output_type": "stream",
       "stream": "stdout",
       "text": [
        "\n",
        "../../images/all/Sepp_Blatter\n",
        "../../images/all/Jolanta_Kwasniewski\n",
        "../../images/all/Mick_McCarthy\n",
        "../../images/all/Kevin_Garnett\n",
        "../../images/all/Alex_Corretja\n",
        "../../images/all/Tom_Jones"
       ]
      },
      {
       "output_type": "stream",
       "stream": "stdout",
       "text": [
        "\n",
        "../../images/all/Terry_Bradshaw\n",
        "../../images/all/George_P_Bush\n",
        "../../images/all/Rod_Stewart\n",
        "../../images/all/Roger_Machado\n",
        "../../images/all/Gabrielle_Rose"
       ]
      },
      {
       "output_type": "stream",
       "stream": "stdout",
       "text": [
        "\n",
        "../../images/all/Jiang_Zemin\n",
        "../../images/all/Brock_Berlin\n",
        "../../images/all/Kathie_Louise_Saunders\n",
        "../../images/all/Bob_Colvin\n",
        "../../images/all/Nadia_Petrova\n",
        "../../images/all/Newton_Carlton_Slawson"
       ]
      },
      {
       "output_type": "stream",
       "stream": "stdout",
       "text": [
        "\n",
        "../../images/all/Bill_Elliott\n",
        "../../images/all/Paul-Henri_Mathieu\n",
        "../../images/all/Brian_Meadors\n",
        "../../images/all/Lars_Burgsmuller\n",
        "../../images/all/Ignatius_Wang"
       ]
      },
      {
       "output_type": "stream",
       "stream": "stdout",
       "text": [
        "\n",
        "../../images/all/Hipolito_Mejia\n",
        "../../images/all/Jeff_George\n",
        "../../images/all/Peter_Arnett\n",
        "../../images/all/John_Edwards\n",
        "../../images/all/Mitch_Kupchak\n",
        "../../images/all/Jessica_Brungo"
       ]
      },
      {
       "output_type": "stream",
       "stream": "stdout",
       "text": [
        "\n",
        "../../images/all/Felix_Trinidad\n",
        "../../images/all/Jeremy_Greenstock\n",
        "../../images/all/Roger_Toussaint\n",
        "../../images/all/Oracene_Williams\n",
        "../../images/all/Niall_Connolly"
       ]
      },
      {
       "output_type": "stream",
       "stream": "stdout",
       "text": [
        "\n",
        "../../images/all/Fujio_Mitarai\n",
        "../../images/all/Goran_Persson\n",
        "../../images/all/Jean-Claude_Juncker\n",
        "../../images/all/Lon_Kruger\n",
        "../../images/all/Mitchell_Crooks"
       ]
      },
      {
       "output_type": "stream",
       "stream": "stdout",
       "text": [
        "\n",
        "../../images/all/Ashanti\n",
        "../../images/all/Ben_Cohen\n",
        "../../images/all/Joe_Lieberman\n",
        "../../images/all/Park_Jie-won\n",
        "../../images/all/Henning_Scherf"
       ]
      },
      {
       "output_type": "stream",
       "stream": "stdout",
       "text": [
        "\n",
        "../../images/all/Eva_Herzigova\n",
        "../../images/all/Ricardo_Lopez_Murphy\n",
        "../../images/all/Dieter_Zetsche\n",
        "../../images/all/Eugene_Melnyk\n",
        "../../images/all/Shawn_Kemp\n",
        "../../images/all/Padraig_Harrington"
       ]
      },
      {
       "output_type": "stream",
       "stream": "stdout",
       "text": [
        "\n",
        "../../images/all/Sam_Torrance\n",
        "../../images/all/Octavio_Lara\n",
        "../../images/all/Saeed_Mortazavi\n",
        "../../images/all/Joseph_Hoy\n",
        "../../images/all/Nelson_Acosta\n",
        "../../images/all/Paul_Wollnough"
       ]
      },
      {
       "output_type": "stream",
       "stream": "stdout",
       "text": [
        "\n",
        "../../images/all/Gene_Autry\n",
        "../../images/all/Deece_Eckstein\n",
        "../../images/all/Marcelo_Ebrard\n",
        "../../images/all/John_Rigas\n",
        "../../images/all/Steve_Rush\n",
        "../../images/all/Derrick_Battie"
       ]
      },
      {
       "output_type": "stream",
       "stream": "stdout",
       "text": [
        "\n",
        "../../images/all/Guillaume_Soro\n",
        "../../images/all/Amanda_Marsh\n",
        "../../images/all/Kirby_Puckett\n",
        "../../images/all/Maria_Sanchez_Lorenzo\n",
        "../../images/all/Amelie_Mauresmo"
       ]
      },
      {
       "output_type": "stream",
       "stream": "stdout",
       "text": [
        "\n",
        "../../images/all/Ricky_Ponting\n",
        "../../images/all/Paul_Hogan\n",
        "../../images/all/Mark_Sisk\n",
        "../../images/all/Kurt_Suzuki\n",
        "../../images/all/Ana_Isabel_Sanchez"
       ]
      },
      {
       "output_type": "stream",
       "stream": "stdout",
       "text": [
        "\n",
        "../../images/all/Rudolph_Giuliani\n",
        "../../images/all/Dan_Kellner\n",
        "../../images/all/Eduardo_Romero\n",
        "../../images/all/Javier_Camara\n",
        "../../images/all/Erika_Reyes"
       ]
      },
      {
       "output_type": "stream",
       "stream": "stdout",
       "text": [
        "\n",
        "../../images/all/Itzhak_Perlman\n",
        "../../images/all/Elvis_Costello\n",
        "../../images/all/Bo_Pelini\n",
        "../../images/all/Ian_Moran\n",
        "../../images/all/Paul_Otellini\n",
        "../../images/all/Monica_Lewinsky"
       ]
      },
      {
       "output_type": "stream",
       "stream": "stdout",
       "text": [
        "\n",
        "../../images/all/Judd_Davies\n",
        "../../images/all/Pharrell_Williams\n",
        "../../images/all/Edward_Greenspan\n",
        "../../images/all/Kate_Winslet\n",
        "../../images/all/SJ_Twu\n",
        "../../images/all/Gerard_Tronche"
       ]
      },
      {
       "output_type": "stream",
       "stream": "stdout",
       "text": [
        "\n",
        "../../images/all/Chris_Tucker\n",
        "../../images/all/Parthiv_Patel\n",
        "../../images/all/Timothy_Coughlin\n",
        "../../images/all/Qian_Qichen\n",
        "../../images/all/John_Kerr\n",
        "../../images/all/Fernando_Henrique_Cardoso"
       ]
      },
      {
       "output_type": "stream",
       "stream": "stdout",
       "text": [
        "\n",
        "../../images/all/Masum_Turker\n",
        "../../images/all/Morris_Watts\n",
        "../../images/all/Tatiana_Panova\n",
        "../../images/all/Alfred_Ford\n",
        "../../images/all/Marc_Racicot"
       ]
      },
      {
       "output_type": "stream",
       "stream": "stdout",
       "text": [
        "\n",
        "../../images/all/James_W_Kennedy\n",
        "../../images/all/Kalpana_Chawla\n",
        "../../images/all/Alvaro_Uribe\n",
        "../../images/all/Kim_Dong-hwa\n",
        "../../images/all/Fiona_Milne"
       ]
      },
      {
       "output_type": "stream",
       "stream": "stdout",
       "text": [
        "\n",
        "../../images/all/Jessica_Alba\n",
        "../../images/all/Hugh_Hefner\n",
        "../../images/all/Frank_Shea\n",
        "../../images/all/Kate_Richardson\n",
        "../../images/all/Afton_Smith\n",
        "../../images/all/Mike_Bryan"
       ]
      },
      {
       "output_type": "stream",
       "stream": "stdout",
       "text": [
        "\n",
        "../../images/all/Carlos_Alberto\n",
        "../../images/all/Dean_Sheremet\n",
        "../../images/all/Marcelo_Bielsa\n",
        "../../images/all/Larry_Greene\n",
        "../../images/all/Ignacio_Antonio_Velasco\n",
        "../../images/all/Lance_Armstrong"
       ]
      },
      {
       "output_type": "stream",
       "stream": "stdout",
       "text": [
        "\n",
        "../../images/all/Marwan_Muasher\n",
        "../../images/all/George_Murphy\n",
        "../../images/all/JJ_Redick\n",
        "../../images/all/Paul_Murphy\n",
        "../../images/all/Michael_Hoffa\n",
        "../../images/all/Pat_Summitt"
       ]
      },
      {
       "output_type": "stream",
       "stream": "stdout",
       "text": [
        "\n",
        "../../images/all/Cristina_Kirchner\n",
        "../../images/all/Kim_Su_Nam\n",
        "../../images/all/Michelangelo_Antonioni\n",
        "../../images/all/Al_Pacino\n",
        "../../images/all/Newt_Gingrich"
       ]
      },
      {
       "output_type": "stream",
       "stream": "stdout",
       "text": [
        "\n",
        "../../images/all/Tim_Jones\n",
        "../../images/all/David_Caraway\n",
        "../../images/all/Roberto_Cercelletta\n",
        "../../images/all/Candie_Kung\n",
        "../../images/all/Brian_Jordan\n",
        "../../images/all/Takeo_Fukui"
       ]
      },
      {
       "output_type": "stream",
       "stream": "stdout",
       "text": [
        "\n",
        "../../images/all/Suzanne_Mubarak\n",
        "../../images/all/Nestor_Santillan\n",
        "../../images/all/Sylvia_Plachy\n",
        "../../images/all/John_Mabry\n",
        "../../images/all/Lena_Katina\n",
        "../../images/all/Madge_Overhouse\n",
        "../../images/all/Francis_Crick"
       ]
      },
      {
       "output_type": "stream",
       "stream": "stdout",
       "text": [
        "\n",
        "../../images/all/Betsy_Smith\n",
        "../../images/all/Bryan_Cooley\n",
        "../../images/all/Mark_Komara\n",
        "../../images/all/Roger_Mahony\n",
        "../../images/all/Kong_Quan\n",
        "../../images/all/Feliciano_Lopez"
       ]
      },
      {
       "output_type": "stream",
       "stream": "stdout",
       "text": [
        "\n",
        "../../images/all/Odilia_Collazo\n",
        "../../images/all/Lee_Baca\n",
        "../../images/all/Gerardo_Gambala\n",
        "../../images/all/Veronica_Lake\n",
        "../../images/all/Nobuyuki_Idei\n",
        "../../images/all/Zeljko_Rebraca"
       ]
      },
      {
       "output_type": "stream",
       "stream": "stdout",
       "text": [
        "\n",
        "../../images/all/Irina_Lobacheva\n",
        "../../images/all/Tyler_Grillo\n",
        "../../images/all/Douglas_Faneuil\n",
        "../../images/all/James_Ballenger"
       ]
      },
      {
       "output_type": "stream",
       "stream": "stdout",
       "text": [
        "\n",
        "../../images/all/Andy_Lau\n",
        "../../images/all/Richard_Sterner\n",
        "../../images/all/John_Swofford\n",
        "../../images/all/Terje_Roed-Larsen\n",
        "../../images/all/Gil_de_Ferran"
       ]
      },
      {
       "output_type": "stream",
       "stream": "stdout",
       "text": [
        "\n",
        "../../images/all/Rupert_Grint\n",
        "../../images/all/Mary_Anne_Souza\n",
        "../../images/all/Raymond_Arthurs\n",
        "../../images/all/James_Wallack\n",
        "../../images/all/Emma_Thompson"
       ]
      },
      {
       "output_type": "stream",
       "stream": "stdout",
       "text": [
        "\n",
        "../../images/all/Spike_Lee\n",
        "../../images/all/Cate_Blanchett\n",
        "../../images/all/Gus_Frerotte\n",
        "../../images/all/Dirk_Kempthorne\n",
        "../../images/all/Keiko_Sofia_Fujimori"
       ]
      },
      {
       "output_type": "stream",
       "stream": "stdout",
       "text": [
        "\n",
        "../../images/all/Scott_Wolf\n",
        "../../images/all/Najib_al-Salhi\n",
        "../../images/all/Millicent_Martin\n",
        "../../images/all/Charlie_Deane\n",
        "../../images/all/Roy_Jones_Jr\n",
        "../../images/all/Carlos_Juarez"
       ]
      },
      {
       "output_type": "stream",
       "stream": "stdout",
       "text": [
        "\n",
        "../../images/all/Akmal_Taher\n",
        "../../images/all/Bill_Frist\n",
        "../../images/all/Emyr_Jones_Parry\n",
        "../../images/all/Juergen_Braehmer\n",
        "../../images/all/Sam_Brownback"
       ]
      },
      {
       "output_type": "stream",
       "stream": "stdout",
       "text": [
        "\n",
        "../../images/all/Lee_Chang-dong\n",
        "../../images/all/Mike_Leach\n",
        "../../images/all/Lesley_McCulloch\n",
        "../../images/all/Sterling_Hitchcock\n",
        "../../images/all/Maria_Callas"
       ]
      },
      {
       "output_type": "stream",
       "stream": "stdout",
       "text": [
        "\n",
        "../../images/all/Martha_Stewart\n",
        "../../images/all/Tessa_Jowell\n",
        "../../images/all/Hugo_Chavez\n",
        "../../images/all/Chuck_Bednarik\n",
        "../../images/all/Jamie_Olis"
       ]
      },
      {
       "output_type": "stream",
       "stream": "stdout",
       "text": [
        "\n",
        "../../images/all/Sue_Wicks\n",
        "../../images/all/Robert_Evans\n",
        "../../images/all/Terrence_Trammell"
       ]
      },
      {
       "output_type": "stream",
       "stream": "stdout",
       "text": [
        "\n",
        "../../images/all/Fernando_Velardez\n",
        "../../images/all/Debra_Rose\n",
        "../../images/all/Makiya_Ali_Hassan\n",
        "../../images/all/William_Perry\n",
        "../../images/all/Joe_Vandever"
       ]
      },
      {
       "output_type": "stream",
       "stream": "stdout",
       "text": [
        "\n",
        "../../images/all/Ambrose_Lee\n",
        "../../images/all/Elinor_Caplan\n",
        "../../images/all/Vicente_Fox_de_la_Concha\n",
        "../../images/all/James_Brosnahan\n",
        "../../images/all/Steve-O\n",
        "../../images/all/Howard_Schultz"
       ]
      },
      {
       "output_type": "stream",
       "stream": "stdout",
       "text": [
        "\n",
        "../../images/all/Gisele_Bundchen\n",
        "../../images/all/Ozzy_Osbourne\n",
        "../../images/all/Khalid_Khannouchi\n",
        "../../images/all/Lars_Von_Trier"
       ]
      },
      {
       "output_type": "stream",
       "stream": "stdout",
       "text": [
        "\n",
        "../../images/all/Ray_Allen\n",
        "../../images/all/Rob_Moore\n",
        "../../images/all/Fabricio_Oberto\n",
        "../../images/all/Jim_Thome\n",
        "../../images/all/Byron_Scott\n",
        "../../images/all/Pat_Burns"
       ]
      },
      {
       "output_type": "stream",
       "stream": "stdout",
       "text": [
        "\n",
        "../../images/all/Javier_Bardem\n",
        "../../images/all/Van_Hilley\n",
        "../../images/all/Javier_Vazquez\n",
        "../../images/all/David_Wells\n",
        "../../images/all/Marta_Dominguz\n",
        "../../images/all/Duane_Barber"
       ]
      },
      {
       "output_type": "stream",
       "stream": "stdout",
       "text": [
        "\n",
        "../../images/all/Tamara_Stokes\n",
        "../../images/all/Enos_Slaughter\n",
        "../../images/all/Hal_McCoy\n",
        "../../images/all/Eduardo_Fischer\n",
        "../../images/all/Jeff_Bzdelik"
       ]
      },
      {
       "output_type": "stream",
       "stream": "stdout",
       "text": [
        "\n",
        "../../images/all/George_Maxwell_Richards\n",
        "../../images/all/Tara_Reid\n",
        "../../images/all/Tina_Pisnik\n",
        "../../images/all/Ivo_Dubs\n",
        "../../images/all/Brady_Rodgers"
       ]
      },
      {
       "output_type": "stream",
       "stream": "stdout",
       "text": [
        "\n",
        "../../images/all/Pio_Laghi\n",
        "../../images/all/Larry_Flynt\n",
        "../../images/all/Ken_Watanabe\n",
        "../../images/all/Abdullah_Gul\n",
        "../../images/all/Harvey_Wachsman"
       ]
      },
      {
       "output_type": "stream",
       "stream": "stdout",
       "text": [
        "\n",
        "../../images/all/Elena_Dementieva\n",
        "../../images/all/Brooke_Adams\n",
        "../../images/all/Anthony_Pico\n",
        "../../images/all/Miguel_Aldana_Ibarra\n",
        "../../images/all/Larry_Thompson\n",
        "../../images/all/Bill_McBride"
       ]
      },
      {
       "output_type": "stream",
       "stream": "stdout",
       "text": [
        "\n",
        "../../images/all/Rick_Barnes\n",
        "../../images/all/Alberto_Fujimori\n",
        "../../images/all/Garry_Kasparov\n",
        "../../images/all/Kwame_Kilpatrick\n",
        "../../images/all/Marcella_Anderson"
       ]
      },
      {
       "output_type": "stream",
       "stream": "stdout",
       "text": [
        "\n",
        "../../images/all/Melissa_Gilbert\n",
        "../../images/all/Robert_Bonner\n",
        "../../images/all/Sheila_Wellstone\n",
        "../../images/all/Eloy_Gutierrez\n",
        "../../images/all/Alan_Ball"
       ]
      },
      {
       "output_type": "stream",
       "stream": "stdout",
       "text": [
        "\n",
        "../../images/all/Steve_Patterson\n",
        "../../images/all/Charlton_Heston\n",
        "../../images/all/Diana_Munz\n",
        "../../images/all/Paul_Kelleher\n",
        "../../images/all/Carlos_Moya"
       ]
      },
      {
       "output_type": "stream",
       "stream": "stdout",
       "text": [
        "\n",
        "../../images/all/Tonga\n",
        "../../images/all/Chuck_Woolery\n",
        "../../images/all/Olene_Walker\n",
        "../../images/all/Jaap_de_Hoop_Scheffer\n",
        "../../images/all/Imran_Khan"
       ]
      },
      {
       "output_type": "stream",
       "stream": "stdout",
       "text": [
        "\n",
        "../../images/all/Martin_Bandier\n",
        "../../images/all/Amanda_Plumer\n",
        "../../images/all/Elizabeth_Smart\n",
        "../../images/all/Zavad_Zarif\n",
        "../../images/all/Andy_Griffith"
       ]
      },
      {
       "output_type": "stream",
       "stream": "stdout",
       "text": [
        "\n",
        "../../images/all/Mitt_Romney\n",
        "../../images/all/Max_Mosley\n",
        "../../images/all/Cecilia_Bolocco\n",
        "../../images/all/Leticia_Van_de_Putte\n",
        "../../images/all/Ray_Price"
       ]
      },
      {
       "output_type": "stream",
       "stream": "stdout",
       "text": [
        "\n",
        "../../images/all/Rod_Paige\n",
        "../../images/all/Adriana_Lima\n",
        "../../images/all/David_Eldon\n",
        "../../images/all/John_Wright\n",
        "../../images/all/Jennifer_Reilly"
       ]
      },
      {
       "output_type": "stream",
       "stream": "stdout",
       "text": [
        "\n",
        "../../images/all/Nikki_McKibbin\n",
        "../../images/all/Mahmoud_Abbas\n",
        "../../images/all/Itamar_Franco\n",
        "../../images/all/Kim_Dae-jung\n",
        "../../images/all/Frank_Pallone\n",
        "../../images/all/Gustavo_Franco"
       ]
      },
      {
       "output_type": "stream",
       "stream": "stdout",
       "text": [
        "\n",
        "../../images/all/Laura_Bozzo\n",
        "../../images/all/Carlos_Beltran\n",
        "../../images/all/David_Spade\n",
        "../../images/all/Bonnie_Fuller"
       ]
      },
      {
       "output_type": "stream",
       "stream": "stdout",
       "text": [
        "\n",
        "../../images/all/Matthew_McConaughey\n",
        "../../images/all/Brian_Kerr\n",
        "../../images/all/Perry_Farrell\n",
        "../../images/all/Edward_Belvin\n",
        "../../images/all/Slobodan_Milosevic\n",
        "../../images/all/Jennifer_Thompson"
       ]
      },
      {
       "output_type": "stream",
       "stream": "stdout",
       "text": [
        "\n",
        "../../images/all/Josh_Childress\n",
        "../../images/all/Scott_McClellan\n",
        "../../images/all/Amporn_Falise\n",
        "../../images/all/Eli_Rosenbaum"
       ]
      },
      {
       "output_type": "stream",
       "stream": "stdout",
       "text": [
        "\n",
        "../../images/all/Stan_Kasten\n",
        "../../images/all/James_Dingemans\n",
        "../../images/all/Efrain_Rios_Montt\n",
        "../../images/all/Andrew_Firestone"
       ]
      },
      {
       "output_type": "stream",
       "stream": "stdout",
       "text": [
        "\n",
        "../../images/all/Brendan_Stai\n",
        "../../images/all/Guenter_Verheugen\n",
        "../../images/all/Nick_Turner\n",
        "../../images/all/Marc_Gold\n",
        "../../images/all/David_Heymann\n",
        "../../images/all/Claude_Jorda"
       ]
      },
      {
       "output_type": "stream",
       "stream": "stdout",
       "text": [
        "\n",
        "../../images/all/Katie_Boone\n",
        "../../images/all/Jeffrey_Katzenberg\n",
        "../../images/all/Steven_Seagal\n",
        "../../images/all/Jamie_Villafane"
       ]
      },
      {
       "output_type": "stream",
       "stream": "stdout",
       "text": [
        "\n",
        "../../images/all/Robert_Duvall\n",
        "../../images/all/Adam_Mair\n",
        "../../images/all/Raymond_Odierno\n",
        "../../images/all/Oliver_Phelps\n",
        "../../images/all/Latrell_Sprewell"
       ]
      },
      {
       "output_type": "stream",
       "stream": "stdout",
       "text": [
        "\n",
        "../../images/all/Gustavo_Cisneros\n",
        "../../images/all/Charles_Schumer\n",
        "../../images/all/Robert_Hyatt\n",
        "../../images/all/Red_Auerbach\n",
        "../../images/all/Osama_bin_Laden"
       ]
      },
      {
       "output_type": "stream",
       "stream": "stdout",
       "text": [
        "\n",
        "../../images/all/Ernie_Harwell\n",
        "../../images/all/Raja_Ramani\n",
        "../../images/all/Tubby_Smith\n",
        "../../images/all/Florencia_Kirchner"
       ]
      },
      {
       "output_type": "stream",
       "stream": "stdout",
       "text": [
        "\n",
        "../../images/all/Cherry_Jones\n",
        "../../images/all/Luis_Guzman\n",
        "../../images/all/Bobo_Balde\n",
        "../../images/all/Paul_Burrell\n",
        "../../images/all/Brooke_Gordon"
       ]
      },
      {
       "output_type": "stream",
       "stream": "stdout",
       "text": [
        "\n",
        "../../images/all/Cosmo_Iacavazzi\n",
        "../../images/all/Christian_Patino\n",
        "../../images/all/Mohamed_Seineldin\n",
        "../../images/all/Morgan_Freeman\n",
        "../../images/all/Charles_Pickering"
       ]
      },
      {
       "output_type": "stream",
       "stream": "stdout",
       "text": [
        "\n",
        "../../images/all/Manuel_Rosendo\n",
        "../../images/all/Carina_Lau_Ka-ling\n",
        "../../images/all/David_Alpay\n",
        "../../images/all/Pablo_Khulental\n",
        "../../images/all/Edward_Burns"
       ]
      },
      {
       "output_type": "stream",
       "stream": "stdout",
       "text": [
        "\n",
        "../../images/all/Roman_Polanski\n",
        "../../images/all/Jose_Vicente_Rangel\n",
        "../../images/all/Gore_Vidal\n",
        "../../images/all/Talisa_Bratt\n",
        "../../images/all/Daniel_Patrick_Moynihan\n",
        "../../images/all/Abba_Eban"
       ]
      },
      {
       "output_type": "stream",
       "stream": "stdout",
       "text": [
        "\n",
        "../../images/all/Wayne_Newton\n",
        "../../images/all/David_Carradine\n",
        "../../images/all/Laura_Flessel\n",
        "../../images/all/Edwin_Edwards\n",
        "../../images/all/Thomas_Daily"
       ]
      },
      {
       "output_type": "stream",
       "stream": "stdout",
       "text": [
        "\n",
        "../../images/all/Pierre_Lacroix\n",
        "../../images/all/Anderson_Varejao\n",
        "../../images/all/Billy_Donovan\n",
        "../../images/all/Corinne_Coman\n",
        "../../images/all/Keizo_Yamada"
       ]
      },
      {
       "output_type": "stream",
       "stream": "stdout",
       "text": [
        "\n",
        "../../images/all/Bob_Hayes\n",
        "../../images/all/George_Plimpton\n",
        "../../images/all/Dionne_Warwick\n",
        "../../images/all/Maria_Shriver\n",
        "../../images/all/Pete_Sampras\n",
        "../../images/all/Paul_Henderson"
       ]
      },
      {
       "output_type": "stream",
       "stream": "stdout",
       "text": [
        "\n",
        "../../images/all/Chris_Columbus\n",
        "../../images/all/Garry_Trudeau\n",
        "../../images/all/Michael_Wayne\n",
        "../../images/all/Dean_Barkley\n",
        "../../images/all/Jim_Otto"
       ]
      },
      {
       "output_type": "stream",
       "stream": "stdout",
       "text": [
        "\n",
        "../../images/all/Franco_Cangele\n",
        "../../images/all/Jim_Abbott\n",
        "../../images/all/Herb_Dhaliwal\n",
        "../../images/all/David_Donohue\n",
        "../../images/all/Naomi_Campbell"
       ]
      },
      {
       "output_type": "stream",
       "stream": "stdout",
       "text": [
        "\n",
        "../../images/all/Anastasia_Myskina\n",
        "../../images/all/Barry_Williams\n",
        "../../images/all/Tim_Howard\n",
        "../../images/all/Jonathan_Horton\n",
        "../../images/all/Larry_Ralston\n",
        "../../images/all/Astou_Ndiaye-Diatta\n",
        "../../images/all/Chris_Byrd"
       ]
      },
      {
       "output_type": "stream",
       "stream": "stdout",
       "text": [
        "\n",
        "../../images/all/Ricardo_Maduro\n",
        "../../images/all/Jennifer_Furminger\n",
        "../../images/all/Earl_Fritts\n",
        "../../images/all/Stephen_Joseph\n",
        "../../images/all/Richard_Dreyfuss\n",
        "../../images/all/Carl_Reiner"
       ]
      },
      {
       "output_type": "stream",
       "stream": "stdout",
       "text": [
        "\n",
        "../../images/all/Gabi_Zimmer\n",
        "../../images/all/Joseph_Lopez\n",
        "../../images/all/Ernie_Eves\n",
        "../../images/all/Alex_King\n",
        "../../images/all/Malcolm_Wild\n",
        "../../images/all/David_Rivkin_Jr\n",
        "../../images/all/Todd_Petit"
       ]
      },
      {
       "output_type": "stream",
       "stream": "stdout",
       "text": [
        "\n",
        "../../images/all/Ilan_Ramon\n",
        "../../images/all/Joe_Finley\n",
        "../../images/all/Paul_Li_Calsi\n",
        "../../images/all/Kyle_McLaren\n",
        "../../images/all/Claire_Hentzen\n",
        "../../images/all/Makhdoom_Amin_Fahim"
       ]
      },
      {
       "output_type": "stream",
       "stream": "stdout",
       "text": [
        "\n",
        "../../images/all/Aaron_Sorkin\n",
        "../../images/all/Mark_Broxmeyer\n",
        "../../images/all/Herbert_Haupt\n",
        "../../images/all/Eric_Lindros\n",
        "../../images/all/Norodom_Chakrapong"
       ]
      },
      {
       "output_type": "stream",
       "stream": "stdout",
       "text": [
        "\n",
        "../../images/all/Barbara_Becker\n",
        "../../images/all/Michelle_Yeoh\n",
        "../../images/all/Horacio_Julio_Pina\n",
        "../../images/all/Phillips_Idowu\n",
        "../../images/all/Danis_Tanovic\n",
        "../../images/all/Sam_Rockwell"
       ]
      },
      {
       "output_type": "stream",
       "stream": "stdout",
       "text": [
        "\n",
        "../../images/all/Angie_Arzola\n",
        "../../images/all/Ron_Kirk\n",
        "../../images/all/Inam-ul-Haq\n",
        "../../images/all/Francisco_Urenda\n",
        "../../images/all/Pedro_Alvarez\n",
        "../../images/all/Eliane_Karp"
       ]
      },
      {
       "output_type": "stream",
       "stream": "stdout",
       "text": [
        "\n",
        "../../images/all/Stephen_Ebberharter\n",
        "../../images/all/Esteban_Cordoba-Velazquez\n",
        "../../images/all/Sofyan_Dawood\n",
        "../../images/all/Robin_Williams\n",
        "../../images/all/Vadim_Devyatovskiy\n",
        "../../images/all/Lyudmila_Putin"
       ]
      },
      {
       "output_type": "stream",
       "stream": "stdout",
       "text": [
        "\n",
        "../../images/all/Vladimir_Putin\n",
        "../../images/all/Matt_Morris\n",
        "../../images/all/Javier_Zanetti\n",
        "../../images/all/Klaus_Zwickel\n",
        "../../images/all/Marcos_Milinkovic\n",
        "../../images/all/Assad_Ahmadi"
       ]
      },
      {
       "output_type": "stream",
       "stream": "stdout",
       "text": [
        "\n",
        "../../images/all/Ted_Turner\n",
        "../../images/all/Daniel_Comisso_Urdaneta\n",
        "../../images/all/Princess_Caroline\n",
        "../../images/all/Bill_Lerach\n",
        "../../images/all/Ricky_Cottrill\n",
        "../../images/all/Vanessa_Redgrave"
       ]
      },
      {
       "output_type": "stream",
       "stream": "stdout",
       "text": [
        "\n",
        "../../images/all/Aly_Wagner\n",
        "../../images/all/Geoff_Dixon\n",
        "../../images/all/Mitchell_Garabedian\n",
        "../../images/all/Pete_Aldridge\n",
        "../../images/all/Stephen_Daldry"
       ]
      },
      {
       "output_type": "stream",
       "stream": "stdout",
       "text": [
        "\n",
        "../../images/all/Lawrence_Roberts\n",
        "../../images/all/Stuart_Whitman\n",
        "../../images/all/James_Wolfensohn\n",
        "../../images/all/Jalal_Talabani\n",
        "../../images/all/Avril_Lavigne\n",
        "../../images/all/Dusty_Baker"
       ]
      },
      {
       "output_type": "stream",
       "stream": "stdout",
       "text": [
        "\n",
        "../../images/all/Audrey_Sauret\n",
        "../../images/all/Matt_LeBlanc\n",
        "../../images/all/Karen_Lynn_Gorney\n",
        "../../images/all/Abdullah_Nasseef\n",
        "../../images/all/Petro_Symonenko"
       ]
      },
      {
       "output_type": "stream",
       "stream": "stdout",
       "text": [
        "\n",
        "../../images/all/Eva_Mendes\n",
        "../../images/all/Alfred_Sant\n",
        "../../images/all/Manuel_Pellegrini\n",
        "../../images/all/Monica_Gabrielle\n",
        "../../images/all/Martha_Sahagun_de_Fox\n",
        "../../images/all/Natalya_Sazanovich"
       ]
      },
      {
       "output_type": "stream",
       "stream": "stdout",
       "text": [
        "\n",
        "../../images/all/Lloyd_Mudiwa\n",
        "../../images/all/Jim_Sterk\n",
        "../../images/all/Ai_Sugiyama\n",
        "../../images/all/Christopher_Amolsch\n",
        "../../images/all/Pascal_Lamy"
       ]
      },
      {
       "output_type": "stream",
       "stream": "stdout",
       "text": [
        "\n",
        "../../images/all/Lech_Walesa\n",
        "../../images/all/Aileen_Riggin_Soule\n",
        "../../images/all/Elizabeth_Regan\n",
        "../../images/all/Kathy_Gannon\n",
        "../../images/all/Charles_Bronson\n",
        "../../images/all/Pauline_Phillips\n",
        "../../images/all/Sylvester_Stallone"
       ]
      },
      {
       "output_type": "stream",
       "stream": "stdout",
       "text": [
        "\n",
        "../../images/all/Larry_Nichols\n",
        "../../images/all/Ken_Wharfe\n",
        "../../images/all/Peter_Hartz\n",
        "../../images/all/Zorica_Radovic\n",
        "../../images/all/Chloe_Sevigny\n",
        "../../images/all/Eric_Dubin"
       ]
      },
      {
       "output_type": "stream",
       "stream": "stdout",
       "text": [
        "\n",
        "../../images/all/Jim_Hendry\n",
        "../../images/all/Taylyn_Solomon\n",
        "../../images/all/Laszlo_Kovacs\n",
        "../../images/all/Patricia_Garone\n",
        "../../images/all/Jacques_Kallis\n",
        "../../images/all/LeBron_James"
       ]
      },
      {
       "output_type": "stream",
       "stream": "stdout",
       "text": [
        "\n",
        "../../images/all/Elva_Hsiao\n",
        "../../images/all/Cindy_Crawford\n",
        "../../images/all/Jeremy_Shockey\n",
        "../../images/all/Vadim_Strogalev\n",
        "../../images/all/Anne_Krueger"
       ]
      },
      {
       "output_type": "stream",
       "stream": "stdout",
       "text": [
        "\n",
        "../../images/all/Alison_Krauss\n",
        "../../images/all/Minnie_Driver\n",
        "../../images/all/Janis_Ruth_Coulter\n",
        "../../images/all/Timothy_Rigas\n",
        "../../images/all/Bill_Kong"
       ]
      },
      {
       "output_type": "stream",
       "stream": "stdout",
       "text": [
        "\n",
        "../../images/all/Tina_Sinatra\n",
        "../../images/all/Zhu_Rongji\n",
        "../../images/all/Molly_Sims\n",
        "../../images/all/Richard_Sambrook\n",
        "../../images/all/Marcos_Cafu"
       ]
      },
      {
       "output_type": "stream",
       "stream": "stdout",
       "text": [
        "\n",
        "../../images/all/Robert_Pollack\n",
        "../../images/all/Steve_McManaman\n",
        "../../images/all/Erin_Runnion\n",
        "../../images/all/Dave_McNally\n",
        "../../images/all/Gideon_Black"
       ]
      },
      {
       "output_type": "stream",
       "stream": "stdout",
       "text": [
        "\n",
        "../../images/all/Clint_Howard\n",
        "../../images/all/Ellen_Saracini\n",
        "../../images/all/Henri_Proglio\n",
        "../../images/all/Bill_Graham\n",
        "../../images/all/Abdoulaye_Wade"
       ]
      },
      {
       "output_type": "stream",
       "stream": "stdout",
       "text": [
        "\n",
        "../../images/all/Mickey_Rooney\n",
        "../../images/all/Stacey_Jones\n",
        "../../images/all/Svetlana_Belousova\n",
        "../../images/all/Craig_Wilson\n",
        "../../images/all/Kevin_Nealon\n",
        "../../images/all/Eddie_Lucio"
       ]
      },
      {
       "output_type": "stream",
       "stream": "stdout",
       "text": [
        "\n",
        "../../images/all/Barry_Bonds\n",
        "../../images/all/Hunter_Kemper\n",
        "../../images/all/Jessica_Lynch\n",
        "../../images/all/Michel_Minard\n",
        "../../images/all/Teruaki_Masumoto"
       ]
      },
      {
       "output_type": "stream",
       "stream": "stdout",
       "text": [
        "\n",
        "../../images/all/Augustin_Calleri\n",
        "../../images/all/Michael_Pfleger\n",
        "../../images/all/Gerry_Kelly\n",
        "../../images/all/Eric_Christian_Olsen\n",
        "../../images/all/Diana_Renee_Valdivieso_Dubon"
       ]
      },
      {
       "output_type": "stream",
       "stream": "stdout",
       "text": [
        "\n",
        "../../images/all/John_Lynch\n",
        "../../images/all/Peter_Bacanovic\n",
        "../../images/all/Matthew_Vaughan\n",
        "../../images/all/Sven_Goran_Eriksson\n",
        "../../images/all/Jalen_Rose\n",
        "../../images/all/Nick_Price"
       ]
      },
      {
       "output_type": "stream",
       "stream": "stdout",
       "text": [
        "\n",
        "../../images/all/Enrique_Haroldo_Gorriaran_Merlo\n",
        "../../images/all/Ralf_Schumacher\n",
        "../../images/all/Jack_Welch\n",
        "../../images/all/Rustu_Recber\n",
        "../../images/all/Lauren_Hutton\n",
        "../../images/all/Chuck_Finley"
       ]
      },
      {
       "output_type": "stream",
       "stream": "stdout",
       "text": [
        "\n",
        "../../images/all/Diane_Lane\n",
        "../../images/all/Sachiko_Yamada\n",
        "../../images/all/Ian_Campbell\n",
        "../../images/all/Ben_Broussard\n",
        "../../images/all/Gerry_Adams"
       ]
      },
      {
       "output_type": "stream",
       "stream": "stdout",
       "text": [
        "\n",
        "../../images/all/Ashley_Postell\n",
        "../../images/all/Sue_Grafton\n",
        "../../images/all/Sam_Gerald\n",
        "../../images/all/Katerina_Smrzova\n",
        "../../images/all/Brandon_Jones\n",
        "../../images/all/John_McCormack"
       ]
      },
      {
       "output_type": "stream",
       "stream": "stdout",
       "text": [
        "\n",
        "../../images/all/Alisha_Richman\n",
        "../../images/all/Robert_Douglas\n",
        "../../images/all/Jack_Smith\n",
        "../../images/all/Barbara_Walters\n",
        "../../images/all/Myung_Yang\n",
        "../../images/all/Richard_Norton-Taylor"
       ]
      },
      {
       "output_type": "stream",
       "stream": "stdout",
       "text": [
        "\n",
        "../../images/all/Derek_Bond\n",
        "../../images/all/Tom_Reilly\n",
        "../../images/all/Felipe_Fernandez\n",
        "../../images/all/Gerhard_Boekel\n",
        "../../images/all/Costas_Simitis\n",
        "../../images/all/Javier_Weber"
       ]
      },
      {
       "output_type": "stream",
       "stream": "stdout",
       "text": [
        "\n",
        "../../images/all/Anthony_Fauci\n",
        "../../images/all/Megan_Mullally\n",
        "../../images/all/Angelo_Reyes\n",
        "../../images/all/Roger_Cook\n",
        "../../images/all/Emily_Stevens\n",
        "../../images/all/John_Banko"
       ]
      },
      {
       "output_type": "stream",
       "stream": "stdout",
       "text": [
        "\n",
        "../../images/all/Thalia\n",
        "../../images/all/Roger_Suarez\n",
        "../../images/all/Art_Hoffmann\n",
        "../../images/all/Aaron_Tippin\n",
        "../../images/all/Edward_Albee\n",
        "../../images/all/Colin_Prescot"
       ]
      },
      {
       "output_type": "stream",
       "stream": "stdout",
       "text": [
        "\n",
        "../../images/all/Marc_Grossman\n",
        "../../images/all/Jeff_Van_Gundy\n",
        "../../images/all/Craig_Burley\n",
        "../../images/all/Rahul_Dravid"
       ]
      },
      {
       "output_type": "stream",
       "stream": "stdout",
       "text": [
        "\n",
        "../../images/all/Barry_Alvarez\n",
        "../../images/all/Zalmay_Khalilzad\n",
        "../../images/all/Morgan_Fairchild\n",
        "../../images/all/Tom_Lantos\n",
        "../../images/all/Dexter_Jackson"
       ]
      },
      {
       "output_type": "stream",
       "stream": "stdout",
       "text": [
        "\n",
        "../../images/all/Adam_Kennedy\n",
        "../../images/all/Vicki_Zhao_Wei\n",
        "../../images/all/Pauley_Perrette\n",
        "../../images/all/Laura_Linney"
       ]
      },
      {
       "output_type": "stream",
       "stream": "stdout",
       "text": [
        "\n",
        "../../images/all/Natalie_Maines\n",
        "../../images/all/Jose_Viegas_Filho\n",
        "../../images/all/John_Lisowski\n",
        "../../images/all/Dave_Ragone\n",
        "../../images/all/Stephane_Delajoux\n",
        "../../images/all/Bill_Sizemore"
       ]
      },
      {
       "output_type": "stream",
       "stream": "stdout",
       "text": [
        "\n",
        "../../images/all/Raaf_Schefter\n",
        "../../images/all/Omar_Khan_Sharif\n",
        "../../images/all/Lana_Clarkson\n",
        "../../images/all/Vincent_Sombrotto\n",
        "../../images/all/Roger_Penske\n",
        "../../images/all/Jose_Mourinho\n",
        "../../images/all/Adrian_Fernandez"
       ]
      },
      {
       "output_type": "stream",
       "stream": "stdout",
       "text": [
        "\n",
        "../../images/all/Derek_Abney\n",
        "../../images/all/Nancy_Greenlaw\n",
        "../../images/all/Bruce_Paltrow\n",
        "../../images/all/Francisco_Maturana\n",
        "../../images/all/Jim_Zorn"
       ]
      },
      {
       "output_type": "stream",
       "stream": "stdout",
       "text": [
        "\n",
        "../../images/all/Dan_Prinster\n",
        "../../images/all/Zoran_Djindjic\n",
        "../../images/all/Sheila_Taormina\n",
        "../../images/all/Calbert_Cheaney\n",
        "../../images/all/Michael_Adams\n",
        "../../images/all/Frank_Marshall"
       ]
      },
      {
       "output_type": "stream",
       "stream": "stdout",
       "text": [
        "\n",
        "../../images/all/Bob_Melvin\n",
        "../../images/all/Ron_Lantz\n",
        "../../images/all/Martin_Gecht\n",
        "../../images/all/Svetoslav_Todorov\n",
        "../../images/all/Mukhtar_Alytnbayev\n",
        "../../images/all/Brad_Russ"
       ]
      },
      {
       "output_type": "stream",
       "stream": "stdout",
       "text": [
        "\n",
        "../../images/all/Fatma_Kusibeh\n",
        "../../images/all/Jim_Cantalupo\n",
        "../../images/all/Szu_Yu_Chen\n",
        "../../images/all/Marquis_Estill\n",
        "../../images/all/Joe_Cravens"
       ]
      },
      {
       "output_type": "stream",
       "stream": "stdout",
       "text": [
        "\n",
        "../../images/all/Lope_Mendoza\n",
        "../../images/all/Baz_Luhrmann\n",
        "../../images/all/Faisal_Iqbal\n",
        "../../images/all/Tung_Chee-hwa\n",
        "../../images/all/Svetlana_Koroleva\n",
        "../../images/all/Patti_Lank"
       ]
      },
      {
       "output_type": "stream",
       "stream": "stdout",
       "text": [
        "\n",
        "../../images/all/Lisa_Stansfield\n",
        "../../images/all/Bill_Simon\n",
        "../../images/all/Carin_Koch\n",
        "../../images/all/Chan_Ho_Park\n",
        "../../images/all/Thierry_Falise\n",
        "../../images/all/Cuba_Gooding_Jr"
       ]
      },
      {
       "output_type": "stream",
       "stream": "stdout",
       "text": [
        "\n",
        "../../images/all/Rien_Long\n",
        "../../images/all/Chan_Gailey\n",
        "../../images/all/Hwang_Doo-yun\n",
        "../../images/all/Mahathir_Mohamad\n",
        "../../images/all/Oliver_Neuville"
       ]
      },
      {
       "output_type": "stream",
       "stream": "stdout",
       "text": [
        "\n",
        "../../images/all/Don_Hewitt\n",
        "../../images/all/Ciro_Gomes\n",
        "../../images/all/Catherine_Ndereba\n",
        "../../images/all/Ricardo_Sanchez\n",
        "../../images/all/Prem_Kumar_Nair\n",
        "../../images/all/Christopher_Whittle"
       ]
      },
      {
       "output_type": "stream",
       "stream": "stdout",
       "text": [
        "\n",
        "../../images/all/Miguel_Estrada\n",
        "../../images/all/Mohammad_Al-Sharief\n",
        "../../images/all/Milan_Kucan\n",
        "../../images/all/Ken_Kutaragi\n",
        "../../images/all/Wan_Yanhai"
       ]
      },
      {
       "output_type": "stream",
       "stream": "stdout",
       "text": [
        "\n",
        "../../images/all/James_Brazelton\n",
        "../../images/all/Tommy_Tubberville\n",
        "../../images/all/Boutros_Boutros_Ghali\n",
        "../../images/all/Betty_Garrison\n",
        "../../images/all/Louisa_Baileche"
       ]
      },
      {
       "output_type": "stream",
       "stream": "stdout",
       "text": [
        "\n",
        "../../images/all/Ruth_Christofferson\n",
        "../../images/all/Severino_Antinori\n",
        "../../images/all/Lee_Yuan-tseh\n",
        "../../images/all/Anthony_Scott_Miller\n",
        "../../images/all/Paradorn_Srichaphan\n",
        "../../images/all/Sonya_Walger"
       ]
      },
      {
       "output_type": "stream",
       "stream": "stdout",
       "text": [
        "\n",
        "../../images/all/Susilo_Bambang_Yudhoyono\n",
        "../../images/all/Roberto_Guaterroma\n",
        "../../images/all/John_Eastman\n",
        "../../images/all/Andy_Perez"
       ]
      },
      {
       "output_type": "stream",
       "stream": "stdout",
       "text": [
        "\n",
        "../../images/all/Sebastian_Porto\n",
        "../../images/all/Jim_Wessling\n",
        "../../images/all/Prince_Rainier_III\n",
        "../../images/all/Masahiko_Nagasawa\n",
        "../../images/all/Huang_Suey-Sheng\n",
        "../../images/all/Jennifer_Granholm"
       ]
      },
      {
       "output_type": "stream",
       "stream": "stdout",
       "text": [
        "\n",
        "../../images/all/Tom_Coughlin\n",
        "../../images/all/Alexandre_Despatie\n",
        "../../images/all/Mike_Johanns\n",
        "../../images/all/Jason_Kidd"
       ]
      },
      {
       "output_type": "stream",
       "stream": "stdout",
       "text": [
        "\n",
        "../../images/all/Alexandre_Herchcovitch\n",
        "../../images/all/Jose_Canseco\n",
        "../../images/all/Carla_Sullivan\n",
        "../../images/all/John_Petty\n",
        "../../images/all/Bob_Iger"
       ]
      },
      {
       "output_type": "stream",
       "stream": "stdout",
       "text": [
        "\n",
        "../../images/all/Radovan_Karadzic\n",
        "../../images/all/Nong_Duc_Manh\n",
        "../../images/all/Rina_Lazo\n",
        "../../images/all/Robbie_Williams\n",
        "../../images/all/Andrei_Mikhnevich"
       ]
      },
      {
       "output_type": "stream",
       "stream": "stdout",
       "text": [
        "\n",
        "../../images/all/Irwan_Fadzi_Idris\n",
        "../../images/all/Natalie_Coughlin\n",
        "../../images/all/Garry_McCoy\n",
        "../../images/all/Allan_Wagner\n",
        "../../images/all/Abdel_Nasser_Assidi"
       ]
      },
      {
       "output_type": "stream",
       "stream": "stdout",
       "text": [
        "\n",
        "../../images/all/Charles_Kartman\n",
        "../../images/all/Mary_Jo_Myers\n",
        "../../images/all/Rick_Romley\n",
        "../../images/all/Tom_DeLay\n",
        "../../images/all/Ahmed_Ahmed\n",
        "../../images/all/John_Sweeney"
       ]
      },
      {
       "output_type": "stream",
       "stream": "stdout",
       "text": [
        "\n",
        "../../images/all/Brian_De_Palma\n",
        "../../images/all/Ismail_Khan\n",
        "../../images/all/Ross_Verba\n",
        "../../images/all/Harland_Braun\n",
        "../../images/all/Kweisi_Mfume\n",
        "../../images/all/Jim_Anderson\n",
        "../../images/all/Gilles_Panizzi"
       ]
      },
      {
       "output_type": "stream",
       "stream": "stdout",
       "text": [
        "\n",
        "../../images/all/Leandrinho_Barbosa\n",
        "../../images/all/Vanessa_Incontrada\n",
        "../../images/all/Razali_Ismail\n",
        "../../images/all/Patricia_Heaton\n",
        "../../images/all/Alexandra_Spann"
       ]
      },
      {
       "output_type": "stream",
       "stream": "stdout",
       "text": [
        "\n",
        "../../images/all/James_Watt\n",
        "../../images/all/Serge_Melac\n",
        "../../images/all/Jean-Luc_Bideau\n",
        "../../images/all/Martin_Lawrence\n",
        "../../images/all/Daniel_Bruehl"
       ]
      },
      {
       "output_type": "stream",
       "stream": "stdout",
       "text": [
        "\n",
        "../../images/all/Phil_Donahue\n",
        "../../images/all/Wang_Nan\n",
        "../../images/all/Hubie_Brown\n",
        "../../images/all/Bob_Newhart\n",
        "../../images/all/Parris_Glendening"
       ]
      },
      {
       "output_type": "stream",
       "stream": "stdout",
       "text": [
        "\n",
        "../../images/all/Michael_Kostelnik\n",
        "../../images/all/Karen_Sharpe_Kramer\n",
        "../../images/all/John_Daly_Jr\n",
        "../../images/all/Talisa_Soto\n",
        "../../images/all/Tim_Henman"
       ]
      },
      {
       "output_type": "stream",
       "stream": "stdout",
       "text": [
        "\n",
        "../../images/all/Heather_Locklear\n",
        "../../images/all/Richard_Jewell\n",
        "../../images/all/Patrick_Eaves\n",
        "../../images/all/Ahmet_Demir\n",
        "../../images/all/Queen_Silvia"
       ]
      },
      {
       "output_type": "stream",
       "stream": "stdout",
       "text": [
        "\n",
        "../../images/all/David_Kelley\n",
        "../../images/all/Porter_Goss\n",
        "../../images/all/Stephen_Glassroth\n",
        "../../images/all/Serge_Klarsfeld\n",
        "../../images/all/Silvan_Shalom\n",
        "../../images/all/Mark_Philippoussis"
       ]
      },
      {
       "output_type": "stream",
       "stream": "stdout",
       "text": [
        "\n",
        "../../images/all/Joseph_Nacchio\n",
        "../../images/all/Mohammed_Baqir_al-Hakim\n",
        "../../images/all/Esther_Macklin\n",
        "../../images/all/Catherine_Deneuve\n",
        "../../images/all/John_McEnroe"
       ]
      },
      {
       "output_type": "stream",
       "stream": "stdout",
       "text": [
        "\n",
        "../../images/all/Manuel_Poggiali\n",
        "../../images/all/Mark_Rosenbaum\n",
        "../../images/all/Yasein_Taher\n",
        "../../images/all/Piotr_Anderszewski\n",
        "../../images/all/Job_Cohen\n",
        "../../images/all/Felipe_Perez_Roque"
       ]
      },
      {
       "output_type": "stream",
       "stream": "stdout",
       "text": [
        "\n",
        "../../images/all/Charles_Richardson\n",
        "../../images/all/Rick_Bland\n",
        "../../images/all/David_Przybyszewski\n",
        "../../images/all/Bobby_Jackson\n",
        "../../images/all/Eric_Daze\n",
        "../../images/all/Micah_Knorr"
       ]
      },
      {
       "output_type": "stream",
       "stream": "stdout",
       "text": [
        "\n",
        "../../images/all/Darrell_Royal\n",
        "../../images/all/Ryan_Drese\n",
        "../../images/all/Kate_Lee\n",
        "../../images/all/Na_Na_Keum"
       ]
      },
      {
       "output_type": "stream",
       "stream": "stdout",
       "text": [
        "\n",
        "../../images/all/Mufti_Mohammad_Syed\n",
        "../../images/all/Jiri_Novak\n",
        "../../images/all/John_Moe\n",
        "../../images/all/Kirsten_Dunst\n",
        "../../images/all/Missy_Crider\n",
        "../../images/all/Mariam_Ali_Hassan"
       ]
      },
      {
       "output_type": "stream",
       "stream": "stdout",
       "text": [
        "\n",
        "../../images/all/Kevin_Marshall\n",
        "../../images/all/Dan_Duquette\n",
        "../../images/all/Jason_Mewes\n",
        "../../images/all/Marina_Anissina\n",
        "../../images/all/Geoffrey_Davis\n",
        "../../images/all/David_McCallum"
       ]
      },
      {
       "output_type": "stream",
       "stream": "stdout",
       "text": [
        "\n",
        "../../images/all/Raul_Castaneda\n",
        "../../images/all/Qusai_Hussein\n",
        "../../images/all/Zafarullah_Khan_Jamali\n",
        "../../images/all/Cari_Davis\n",
        "../../images/all/Aiysha_Smith\n",
        "../../images/all/Kirk_Douglas"
       ]
      },
      {
       "output_type": "stream",
       "stream": "stdout",
       "text": [
        "\n",
        "../../images/all/Buzz_Hargrove\n",
        "../../images/all/Michel_Therrien\n",
        "../../images/all/David_Bowie\n",
        "../../images/all/Natasa_Micic\n",
        "../../images/all/David_Dorfman\n",
        "../../images/all/Emelie_Loit"
       ]
      },
      {
       "output_type": "stream",
       "stream": "stdout",
       "text": [
        "\n",
        "../../images/all/Andy_Madikians\n",
        "../../images/all/Jack_LaLanne\n",
        "../../images/all/Ruth_Harlow\n",
        "../../images/all/Noel_Niell\n",
        "../../images/all/Djabir_Said-Guerni\n",
        "../../images/all/Charles_Cope"
       ]
      },
      {
       "output_type": "stream",
       "stream": "stdout",
       "text": [
        "\n",
        "../../images/all/Anthony_Garotinho\n",
        "../../images/all/Mario_Jardel\n",
        "../../images/all/Juergen_Peters\n",
        "../../images/all/Jane_Krakowski\n",
        "../../images/all/Franz_Beckenbauer"
       ]
      },
      {
       "output_type": "stream",
       "stream": "stdout",
       "text": [
        "\n",
        "../../images/all/Martin_Hoellwarth\n",
        "../../images/all/Rosa_Haywa_de_Condori\n",
        "../../images/all/Patricia_Hearst\n",
        "../../images/all/Leon_LaPorte\n",
        "../../images/all/Eliza_Manningham-Buller\n",
        "../../images/all/Erika_Harold"
       ]
      },
      {
       "output_type": "stream",
       "stream": "stdout",
       "text": [
        "\n",
        "../../images/all/Joseph_Ganim\n",
        "../../images/all/Kim_Weeks\n",
        "../../images/all/Marc_Anthony\n",
        "../../images/all/Chang_Tso\n",
        "../../images/all/Giuseppe_Gibilisco"
       ]
      },
      {
       "output_type": "stream",
       "stream": "stdout",
       "text": [
        "\n",
        "../../images/all/Barbara_Roberts\n",
        "../../images/all/Shane_Mosley\n",
        "../../images/all/Tom_Rouen\n",
        "../../images/all/Franz_Muentefering\n",
        "../../images/all/Mike_Gable"
       ]
      },
      {
       "output_type": "stream",
       "stream": "stdout",
       "text": [
        "\n",
        "../../images/all/Scott_Blum\n",
        "../../images/all/Jennifer_Keller\n",
        "../../images/all/Helmut_Panke\n",
        "../../images/all/Luis_Ernesto_Derbez_Bautista\n",
        "../../images/all/Lester_Holt"
       ]
      },
      {
       "output_type": "stream",
       "stream": "stdout",
       "text": [
        "\n",
        "../../images/all/Don_Matthews\n",
        "../../images/all/Laura_Pausini\n",
        "../../images/all/Jerry_Falwell\n",
        "../../images/all/Franco_Frattini\n",
        "../../images/all/Mark_Redman\n",
        "../../images/all/Steve_Redgrave"
       ]
      },
      {
       "output_type": "stream",
       "stream": "stdout",
       "text": [
        "\n",
        "../../images/all/Dionyssis_Georgiadis\n",
        "../../images/all/Ronald_Brower\n",
        "../../images/all/Roger_King\n",
        "../../images/all/Juan_Sanchez\n",
        "../../images/all/Anders_Fogh_Rasmussen\n",
        "../../images/all/John_Warner"
       ]
      },
      {
       "output_type": "stream",
       "stream": "stdout",
       "text": [
        "\n",
        "../../images/all/Kenenisa_Bekele\n",
        "../../images/all/Wendy_Selig\n",
        "../../images/all/Barbra_Streisand\n",
        "../../images/all/Joe_Friedberg\n",
        "../../images/all/Carmen_Electra"
       ]
      },
      {
       "output_type": "stream",
       "stream": "stdout",
       "text": [
        "\n",
        "../../images/all/Emma_Nicholson\n",
        "../../images/all/Gabriella_Bo\n",
        "../../images/all/Jean-Marc_de_La_Sabliere\n",
        "../../images/all/Mary_Tyler_Moore\n",
        "../../images/all/Lisa_Leslie\n",
        "../../images/all/Picabo_Street\n",
        "../../images/all/Jean_Brumley"
       ]
      },
      {
       "output_type": "stream",
       "stream": "stdout",
       "text": [
        "\n",
        "../../images/all/Hatsui_Hasuike\n",
        "../../images/all/John_Sidgmore\n",
        "../../images/all/Stephanie_Zimbalist\n",
        "../../images/all/Terry_Semel\n",
        "../../images/all/Mike_Sherman"
       ]
      },
      {
       "output_type": "stream",
       "stream": "stdout",
       "text": [
        "\n",
        "../../images/all/Bill_Clancy\n",
        "../../images/all/Ken_Loach\n",
        "../../images/all/Donna_Brazile\n",
        "../../images/all/Fred_Huff\n",
        "../../images/all/Chick_Hearn"
       ]
      },
      {
       "output_type": "stream",
       "stream": "stdout",
       "text": [
        "\n",
        "../../images/all/Gina_Lollobrigida\n",
        "../../images/all/Ralph_Lauren\n",
        "../../images/all/Jane_Fonda\n",
        "../../images/all/Janet_Crawford\n",
        "../../images/all/Lee_Byung-woong\n",
        "../../images/all/Gerrit_Zalm"
       ]
      },
      {
       "output_type": "stream",
       "stream": "stdout",
       "text": [
        "\n",
        "../../images/all/Kurt_Budke\n",
        "../../images/all/Sam_Mendes\n",
        "../../images/all/Benjamin_McKenzie\n",
        "../../images/all/Strom_Thurmond"
       ]
      },
      {
       "output_type": "stream",
       "stream": "stdout",
       "text": [
        "\n",
        "../../images/all/Kevin_Spacey\n",
        "../../images/all/Lee_Nam-shin\n",
        "../../images/all/Luis_Fonsi\n",
        "../../images/all/Kofi_Annan\n",
        "../../images/all/Steve_Blankenship\n",
        "../../images/all/Lew_Rywin"
       ]
      },
      {
       "output_type": "stream",
       "stream": "stdout",
       "text": [
        "\n",
        "../../images/all/Judy_Vassar\n",
        "../../images/all/Robert_Wiener\n",
        "../../images/all/Jeffrey_Scott_Postell\n",
        "../../images/all/Vaclav_Havel\n",
        "../../images/all/Aram_Adler"
       ]
      },
      {
       "output_type": "stream",
       "stream": "stdout",
       "text": [
        "\n",
        "../../images/all/Hilmi_Ozkok\n",
        "../../images/all/Irina_Framtsova"
       ]
      },
      {
       "output_type": "stream",
       "stream": "stdout",
       "text": [
        "\n",
        "../../images/all/James_Smith\n",
        "../../images/all/Cemil_Cicek\n",
        "../../images/all/Petria_Thomas"
       ]
      },
      {
       "output_type": "stream",
       "stream": "stdout",
       "text": [
        "\n",
        "../../images/all/Debra_Messing\n",
        "../../images/all/Ingrid_Betancourt\n",
        "../../images/all/Nick_Rimando\n",
        "../../images/all/Harry_Belafonte"
       ]
      },
      {
       "output_type": "stream",
       "stream": "stdout",
       "text": [
        "\n",
        "../../images/all/Kiki_Vandeweghe\n",
        "../../images/all/Trent_Lott\n",
        "../../images/all/Colleen_Ryan\n",
        "../../images/all/Andrew_Sabey\n",
        "../../images/all/Paul_Schrader\n",
        "../../images/all/Sarah_Weddington"
       ]
      },
      {
       "output_type": "stream",
       "stream": "stdout",
       "text": [
        "\n",
        "../../images/all/Daniel_Scioli\n",
        "../../images/all/Matt_Herden\n",
        "../../images/all/Roberto_Benigni\n",
        "../../images/all/Fernando_Sanz"
       ]
      },
      {
       "output_type": "stream",
       "stream": "stdout",
       "text": [
        "\n",
        "../../images/all/Mohammed_Abulhasan\n",
        "../../images/all/Vojislav_Kostunica\n",
        "../../images/all/George_Pataki\n",
        "../../images/all/Hector_Mitelman"
       ]
      },
      {
       "output_type": "stream",
       "stream": "stdout",
       "text": [
        "\n",
        "../../images/all/Todd_Parrott\n",
        "../../images/all/Eliza_Dushku\n",
        "../../images/all/Jose_Lina\n",
        "../../images/all/Peter_Fitzgerald"
       ]
      },
      {
       "output_type": "stream",
       "stream": "stdout",
       "text": [
        "\n",
        "../../images/all/Dave_Wannstedt\n",
        "../../images/all/Jackie_Dennis\n",
        "../../images/all/Eric_Idle\n",
        "../../images/all/Misty_Dawn_Clymer\n",
        "../../images/all/Collis_Temple_III"
       ]
      },
      {
       "output_type": "stream",
       "stream": "stdout",
       "text": [
        "\n",
        "../../images/all/William_Morrow\n",
        "../../images/all/Michelle_Bachelet\n",
        "../../images/all/Alicia_Witt\n",
        "../../images/all/Kathy_Winters\n",
        "../../images/all/Ariel_Sharon\n",
        "../../images/all/Jerome_Golmard"
       ]
      },
      {
       "output_type": "stream",
       "stream": "stdout",
       "text": [
        "\n",
        "../../images/all/Charles_Lebois\n",
        "../../images/all/David_Oh\n",
        "../../images/all/Andrea_Yates\n",
        "../../images/all/Margaret_Caruso"
       ]
      },
      {
       "output_type": "stream",
       "stream": "stdout",
       "text": [
        "\n",
        "../../images/all/Fred_Eckhard\n",
        "../../images/all/Paul_McCartney\n",
        "../../images/all/Casey_Crowder\n",
        "../../images/all/Hank_Azaria\n",
        "../../images/all/Natasha_Henstridge"
       ]
      },
      {
       "output_type": "stream",
       "stream": "stdout",
       "text": [
        "\n",
        "../../images/all/Doug_Melvin\n",
        "../../images/all/Stacey_Yamaguchi\n",
        "../../images/all/Larry_Wilmore\n",
        "../../images/all/Namuddu_Florence\n",
        "../../images/all/John_Rowe"
       ]
      },
      {
       "output_type": "stream",
       "stream": "stdout",
       "text": [
        "\n",
        "../../images/all/Desiree_Lemosi\n",
        "../../images/all/Carly_Gullickson\n",
        "../../images/all/Stephanie_Cohen_Aloro\n",
        "../../images/all/Abdul_Rahman"
       ]
      },
      {
       "output_type": "stream",
       "stream": "stdout",
       "text": [
        "\n",
        "../../images/all/Dewayne_White\n",
        "../../images/all/Tariq_Aziz\n",
        "../../images/all/Jim_Freudenberg\n",
        "../../images/all/John_McCallum\n",
        "../../images/all/Lydia_Shum"
       ]
      },
      {
       "output_type": "stream",
       "stream": "stdout",
       "text": [
        "\n",
        "../../images/all/Jana_Pittman\n",
        "../../images/all/Dave_Matthews\n",
        "../../images/all/Roman_Tam\n",
        "../../images/all/Donna_Shalala\n",
        "../../images/all/Shingo_Katayama\n",
        "../../images/all/Peter_Caruana"
       ]
      },
      {
       "output_type": "stream",
       "stream": "stdout",
       "text": [
        "\n",
        "../../images/all/Silvio_Fernandez\n",
        "../../images/all/Ivan_Shvedoff\n",
        "../../images/all/Rodrigo_Rato\n",
        "../../images/all/Tom_Christerson"
       ]
      },
      {
       "output_type": "stream",
       "stream": "stdout",
       "text": [
        "\n",
        "../../images/all/Khaled_Sawalhi\n",
        "../../images/all/Floyd_Mayweather\n",
        "../../images/all/Julian_Battle\n",
        "../../images/all/Chin-Feng_Chen\n",
        "../../images/all/Jonathan_Mostow"
       ]
      },
      {
       "output_type": "stream",
       "stream": "stdout",
       "text": [
        "\n",
        "../../images/all/Robert_Schuller\n",
        "../../images/all/Annika_Sorenstam\n",
        "../../images/all/Patty_Sheehan\n",
        "../../images/all/Benicio_Del_Toro\n",
        "../../images/all/Donald_Carty\n",
        "../../images/all/Gil_Cates"
       ]
      },
      {
       "output_type": "stream",
       "stream": "stdout",
       "text": [
        "\n",
        "../../images/all/Grant_Rossenmeyer\n",
        "../../images/all/Perry_Gibbs\n",
        "../../images/all/Rene_Antonio_Leon_Rodriguez\n",
        "../../images/all/Danielle_Spencer"
       ]
      },
      {
       "output_type": "stream",
       "stream": "stdout",
       "text": [
        "\n",
        "../../images/all/Laurent_Woulzy\n",
        "../../images/all/Farouk_al-Sharaa\n",
        "../../images/all/Mike_Matthews\n",
        "../../images/all/Li_Changchun\n",
        "../../images/all/Richard_Ward"
       ]
      },
      {
       "output_type": "stream",
       "stream": "stdout",
       "text": [
        "\n",
        "../../images/all/Francisco_Flores\n",
        "../../images/all/Massoud_Barzani\n",
        "../../images/all/Scott_Rudin\n",
        "../../images/all/Roseanne_Barr\n",
        "../../images/all/Lisa_Ling"
       ]
      },
      {
       "output_type": "stream",
       "stream": "stdout",
       "text": [
        "\n",
        "../../images/all/Stella_McCartney\n",
        "../../images/all/Tiffany_Limos\n",
        "../../images/all/Jennifer_Pena\n",
        "../../images/all/Kristen_Rivera\n",
        "../../images/all/Takenori_Kanzaki"
       ]
      },
      {
       "output_type": "stream",
       "stream": "stdout",
       "text": [
        "\n",
        "../../images/all/Dennis_Oswald\n",
        "../../images/all/Richard_Harris\n",
        "../../images/all/Hank_McKinnell\n",
        "../../images/all/Frances_Fisher\n",
        "../../images/all/Gary_Sayler\n",
        "../../images/all/John_Timoney"
       ]
      },
      {
       "output_type": "stream",
       "stream": "stdout",
       "text": [
        "\n",
        "../../images/all/Robert_Kipkoech_Cheruiyot\n",
        "../../images/all/Clifford_Etienne\n",
        "../../images/all/Pete_Beaudrault\n",
        "../../images/all/Valerie_Thwaites\n",
        "../../images/all/Barry_Ford\n",
        "../../images/all/Luis_Pujols"
       ]
      },
      {
       "output_type": "stream",
       "stream": "stdout",
       "text": [
        "\n",
        "../../images/all/Jose_Maria_Aznar\n",
        "../../images/all/Alan_Dreher\n",
        "../../images/all/Carla_Tricoli\n",
        "../../images/all/Geovani_Lapentti"
       ]
      },
      {
       "output_type": "stream",
       "stream": "stdout",
       "text": [
        "\n",
        "../../images/all/Bridgette_Wilson-Sampras\n",
        "../../images/all/Pierre_Boulanger\n",
        "../../images/all/Naomi_Watts\n",
        "../../images/all/Cecilia_Chang\n",
        "../../images/all/Cindy_Taylor"
       ]
      },
      {
       "output_type": "stream",
       "stream": "stdout",
       "text": [
        "\n",
        "../../images/all/Boris_Yeltsin\n",
        "../../images/all/Dennis_Kozlowski\n",
        "../../images/all/Jerry_Springer\n",
        "../../images/all/Mohammed_Abu_Sharia\n",
        "../../images/all/Morris_Dees"
       ]
      },
      {
       "output_type": "stream",
       "stream": "stdout",
       "text": [
        "\n",
        "../../images/all/Roberto_Marinho\n",
        "../../images/all/Katie_Holmes\n",
        "../../images/all/Matt_Dillon\n",
        "../../images/all/Jose_Carreras\n",
        "../../images/all/Drew_Bledsoe"
       ]
      },
      {
       "output_type": "stream",
       "stream": "stdout",
       "text": [
        "\n",
        "../../images/all/Fred_Rogers\n",
        "../../images/all/James_Robertson_Jr\n",
        "../../images/all/Mireille_Jospin-Dandieu\n",
        "../../images/all/Joshua_Perper\n",
        "../../images/all/Marco_Irizarry\n",
        "../../images/all/Jayson_Williams"
       ]
      },
      {
       "output_type": "stream",
       "stream": "stdout",
       "text": [
        "\n",
        "../../images/all/Larry_Eustachy\n",
        "../../images/all/Daniel_Zelman\n",
        "../../images/all/Judy_Dean\n",
        "../../images/all/Lisa_Gottsegen"
       ]
      },
      {
       "output_type": "stream",
       "stream": "stdout",
       "text": [
        "\n",
        "../../images/all/Richard_Gephardt\n",
        "../../images/all/Jung_Bong\n",
        "../../images/all/Doug_Collins\n",
        "../../images/all/Nancy_Humbert\n",
        "../../images/all/Bob_Stoops"
       ]
      },
      {
       "output_type": "stream",
       "stream": "stdout",
       "text": [
        "\n",
        "../../images/all/Andres_Manuel_Lopez_Obrador\n",
        "../../images/all/Dale_Earnhardt\n",
        "../../images/all/Mohamed_ElBaradei\n",
        "../../images/all/Evie_Lazarou\n",
        "../../images/all/Amanda_Coetzer"
       ]
      },
      {
       "output_type": "stream",
       "stream": "stdout",
       "text": [
        "\n",
        "../../images/all/Ronald_Harwood\n",
        "../../images/all/Elodie_Bouchez\n",
        "../../images/all/Dave_Potter\n",
        "../../images/all/Shigeru_Ishiba\n",
        "../../images/all/Alain_Cervantes"
       ]
      },
      {
       "output_type": "stream",
       "stream": "stdout",
       "text": [
        "\n",
        "../../images/all/Rod_Thorn\n",
        "../../images/all/Edward_Seaga\n",
        "../../images/all/Darcy_Regier\n",
        "../../images/all/Ally_Sheedy\n",
        "../../images/all/Holly_Hunter\n",
        "../../images/all/Katrin_Cartlidge"
       ]
      },
      {
       "output_type": "stream",
       "stream": "stdout",
       "text": [
        "\n",
        "../../images/all/Steve_Lavin\n",
        "../../images/all/David_Provost\n",
        "../../images/all/Bill_King\n",
        "../../images/all/Muffet_McGraw\n",
        "../../images/all/Matt_Doherty\n",
        "../../images/all/Wesley_Clark"
       ]
      },
      {
       "output_type": "stream",
       "stream": "stdout",
       "text": [
        "\n",
        "../../images/all/Mitar_Rasevic\n",
        "../../images/all/James_Murdoch\n",
        "../../images/all/Samuel_Waksal\n",
        "../../images/all/Natalie_Williams\n",
        "../../images/all/Audrey_Lacroix\n",
        "../../images/all/Thomas_Van_Essen"
       ]
      },
      {
       "output_type": "stream",
       "stream": "stdout",
       "text": [
        "\n",
        "../../images/all/Alexis_Dennisoff\n",
        "../../images/all/Raja_Zafar-ul-Haq\n",
        "../../images/all/Carolyn_Kuhl\n",
        "../../images/all/Giuseppe_Morchio\n",
        "../../images/all/Cass_Ballenger"
       ]
      },
      {
       "output_type": "stream",
       "stream": "stdout",
       "text": [
        "\n",
        "../../images/all/James_Collinson\n",
        "../../images/all/Johnson_Panjaitan\n",
        "../../images/all/Henry_Hilow\n",
        "../../images/all/John_Darby\n",
        "../../images/all/Larry_Lucchino\n",
        "../../images/all/Barry_Switzer"
       ]
      },
      {
       "output_type": "stream",
       "stream": "stdout",
       "text": [
        "\n",
        "../../images/all/Eric_Benet\n",
        "../../images/all/Eric_Lloyd\n",
        "../../images/all/Danny_Avalon\n",
        "../../images/all/Magda_Kertasz\n",
        "../../images/all/Kenneth_Bowersox\n",
        "../../images/all/Syed_Ibrahim"
       ]
      },
      {
       "output_type": "stream",
       "stream": "stdout",
       "text": [
        "\n",
        "../../images/all/Scott_Sullivan\n",
        "../../images/all/King_Abdullah_II\n",
        "../../images/all/Takaloo\n",
        "../../images/all/Justin_Guarini\n",
        "../../images/all/Robert_Towne\n",
        "../../images/all/Greg_Owen"
       ]
      },
      {
       "output_type": "stream",
       "stream": "stdout",
       "text": [
        "\n",
        "../../images/all/James_Caan\n",
        "../../images/all/Helen_Darling\n",
        "../../images/all/Drew_Gooden\n",
        "../../images/all/Lily_Tomlin\n",
        "../../images/all/Joe_Mantegna"
       ]
      },
      {
       "output_type": "stream",
       "stream": "stdout",
       "text": [
        "\n",
        "../../images/all/Erik_Morales\n",
        "../../images/all/Meryl_Streep\n",
        "../../images/all/Gavin_Degraw\n",
        "../../images/all/Lynn_Redgrave\n",
        "../../images/all/Alberto_Gonzales\n",
        "../../images/all/Tom_Harkin"
       ]
      },
      {
       "output_type": "stream",
       "stream": "stdout",
       "text": [
        "\n",
        "../../images/all/Herman_Edwards\n",
        "../../images/all/David_Glenn\n",
        "../../images/all/Len_Jenoff\n",
        "../../images/all/Stephen_Push\n",
        "../../images/all/Todd_Wike"
       ]
      },
      {
       "output_type": "stream",
       "stream": "stdout",
       "text": [
        "\n",
        "../../images/all/Michael_J_Fox\n",
        "../../images/all/Bill_Readdy\n",
        "../../images/all/Rafael_Vinoly\n",
        "../../images/all/Kevin_Crane\n",
        "../../images/all/Anneli_Jaatteenmaki\n",
        "../../images/all/Yana_Klochkova"
       ]
      },
      {
       "output_type": "stream",
       "stream": "stdout",
       "text": [
        "\n",
        "../../images/all/Andrew_Niccol\n",
        "../../images/all/Nathalie_Dechy\n",
        "../../images/all/Alejandro_Atchugarry\n",
        "../../images/all/Roger_Staubach\n",
        "../../images/all/Brett_Perry"
       ]
      },
      {
       "output_type": "stream",
       "stream": "stdout",
       "text": [
        "\n",
        "../../images/all/Craig_Doblin\n",
        "../../images/all/Robinson_Stevenin\n",
        "../../images/all/Scott_Hubbard\n",
        "../../images/all/Douglas_Paal\n",
        "../../images/all/Vincent_Gallo\n",
        "../../images/all/Ana_Sebastiao"
       ]
      },
      {
       "output_type": "stream",
       "stream": "stdout",
       "text": [
        "\n",
        "../../images/all/Steve_Peace\n",
        "../../images/all/Ali_Mohammed_Maher\n",
        "../../images/all/Guennadi_Chipouline\n",
        "../../images/all/Francis_Ricciardone\n",
        "../../images/all/Daniele_Hypolito\n",
        "../../images/all/Robert_Redford"
       ]
      },
      {
       "output_type": "stream",
       "stream": "stdout",
       "text": [
        "\n",
        "../../images/all/Michael_Winterbottom\n",
        "../../images/all/Armando_Avila_Panchame\n",
        "../../images/all/Charlie_Williams\n",
        "../../images/all/Wendell_Bryant\n",
        "../../images/all/Viara_Vike-Freiberga\n",
        "../../images/all/Olivera_Labus"
       ]
      },
      {
       "output_type": "stream",
       "stream": "stdout",
       "text": [
        "\n",
        "../../images/all/Christian_Bale\n",
        "../../images/all/Timothy_Wirth\n",
        "../../images/all/Peter_Harvey\n",
        "../../images/all/Milo_Djukanovic\n",
        "../../images/all/Vincent_Spadea\n",
        "../../images/all/Eric_Staal"
       ]
      },
      {
       "output_type": "stream",
       "stream": "stdout",
       "text": [
        "\n",
        "../../images/all/Christian_Von_Wernich\n",
        "../../images/all/Jamie_King\n",
        "../../images/all/Henry_Kissinger\n",
        "../../images/all/Alberto_Acosta\n",
        "../../images/all/Trisha_Meili\n",
        "../../images/all/John_Connolly"
       ]
      },
      {
       "output_type": "stream",
       "stream": "stdout",
       "text": [
        "\n",
        "../../images/all/Elton_John\n",
        "../../images/all/Hugh_Jessiman\n",
        "../../images/all/Dany_Heatley\n",
        "../../images/all/James_Brown\n",
        "../../images/all/Hisashi_Owada\n",
        "../../images/all/Catriona_Le_May_Doan\n",
        "../../images/all/Fidel_Castro"
       ]
      },
      {
       "output_type": "stream",
       "stream": "stdout",
       "text": [
        "\n",
        "../../images/all/Amber_Frey\n",
        "../../images/all/Michael_Kors\n",
        "../../images/all/Catherine_Zeta-Jones\n",
        "../../images/all/Marisa_Tomei\n",
        "../../images/all/Ed_Sullivan"
       ]
      },
      {
       "output_type": "stream",
       "stream": "stdout",
       "text": [
        "\n",
        "../../images/all/Nicoletta_Braschi\n",
        "../../images/all/Gina_Gershon\n",
        "../../images/all/John_Moxley\n",
        "../../images/all/Laurence_Fishburne\n",
        "../../images/all/Mohammed_Salmane"
       ]
      },
      {
       "output_type": "stream",
       "stream": "stdout",
       "text": [
        "\n",
        "../../images/all/Zinedine_Zidane\n",
        "../../images/all/Tayyeb_Abdel_Rahim\n",
        "../../images/all/Ryan_Goodman\n",
        "../../images/all/Leon_Silver\n",
        "../../images/all/Tom_Gamboa\n",
        "../../images/all/Bruce_Lunsford"
       ]
      },
      {
       "output_type": "stream",
       "stream": "stdout",
       "text": [
        "\n",
        "../../images/all/Leonard_Schrank\n",
        "../../images/all/Martin_Cauchon\n",
        "../../images/all/Carlo_Azeglio_Ciampi\n",
        "../../images/all/Hassanal_Bolkiah\n",
        "../../images/all/Eddy_Hartenstein\n",
        "../../images/all/Russell_Coutts"
       ]
      },
      {
       "output_type": "stream",
       "stream": "stdout",
       "text": [
        "\n",
        "../../images/all/Noor_Mohammed\n",
        "../../images/all/Hootie_Johnson\n",
        "../../images/all/Christian_Wulff\n",
        "../../images/all/Bernadette_Peters\n",
        "../../images/all/Natalie_Cole\n",
        "../../images/all/Winona_Ryder\n",
        "../../images/all/Claudio_Ranieri"
       ]
      },
      {
       "output_type": "stream",
       "stream": "stdout",
       "text": [
        "\n",
        "../../images/all/Paul_Johnson\n",
        "../../images/all/Jean-Sebastien_Giguere\n",
        "../../images/all/Wu_Peng\n",
        "../../images/all/Raza_Rabbani\n",
        "../../images/all/Troy_Aikman\n",
        "../../images/all/Marcelo_Salas"
       ]
      },
      {
       "output_type": "stream",
       "stream": "stdout",
       "text": [
        "\n",
        "../../images/all/Simon_Chalk\n",
        "../../images/all/Michael_Bouchard\n",
        "../../images/all/Jim_Fassel\n",
        "../../images/all/Wolfgang_Clement\n",
        "../../images/all/Bob_Huggins\n",
        "../../images/all/Bettina_Rheims"
       ]
      },
      {
       "output_type": "stream",
       "stream": "stdout",
       "text": [
        "\n",
        "../../images/all/Mohammad_Fares\n",
        "../../images/all/Enrik_Vendt\n",
        "../../images/all/Lewis_Booth\n",
        "../../images/all/Mehdi_Baala\n",
        "../../images/all/Howard_Stringer"
       ]
      },
      {
       "output_type": "stream",
       "stream": "stdout",
       "text": [
        "\n",
        "../../images/all/Reese_Witherspoon\n",
        "../../images/all/Lee_Hong-ki\n",
        "../../images/all/Hamza_Atiya_Muhsen\n",
        "../../images/all/Michelle_Collins\n",
        "../../images/all/Asif_Hanif\n",
        "../../images/all/Shae-Lynn_Bourne"
       ]
      },
      {
       "output_type": "stream",
       "stream": "stdout",
       "text": [
        "\n",
        "../../images/all/Jeremy_Fogel\n",
        "../../images/all/John_Baldacci\n",
        "../../images/all/Richard_Chamberlain\n",
        "../../images/all/Joxel_Garcia"
       ]
      },
      {
       "output_type": "stream",
       "stream": "stdout",
       "text": [
        "\n",
        "../../images/all/Georgia_Giddings\n",
        "../../images/all/Michael_Stark\n",
        "../../images/all/Kenneth_Cooper\n",
        "../../images/all/John_Robbins\n",
        "../../images/all/Tom_Izzo\n",
        "../../images/all/Eric_Clapton\n",
        "../../images/all/Heather_Chinnock\n"
       ]
      },
      {
       "output_type": "stream",
       "stream": "stdout",
       "text": [
        "../../images/all/Steven_Craig\n",
        "../../images/all/Mike_Carona\n",
        "../../images/all/Adolfo_Aguilar_Zinser\n",
        "../../images/all/Dean_Barker\n",
        "../../images/all/Carlos_De_Abreu\n",
        "../../images/all/Abdulaziz_Kamilov\n",
        "../../images/all/Hayley_Tullett"
       ]
      },
      {
       "output_type": "stream",
       "stream": "stdout",
       "text": [
        "\n",
        "../../images/all/David_Beckham\n",
        "../../images/all/Melanie_Griffith\n",
        "../../images/all/Kalid_Kaid\n",
        "../../images/all/Jerry_McEntee\n",
        "../../images/all/Sophie"
       ]
      },
      {
       "output_type": "stream",
       "stream": "stdout",
       "text": [
        "\n",
        "../../images/all/Jeff_Weaver\n",
        "../../images/all/Hillary_Clinton\n",
        "../../images/all/Tirunesh_Dibaba\n",
        "../../images/all/Kirk_Ferentz\n",
        "../../images/all/James_Mathis\n",
        "../../images/all/Frank_Coraci"
       ]
      },
      {
       "output_type": "stream",
       "stream": "stdout",
       "text": [
        "\n",
        "../../images/all/Bob_Alper\n",
        "../../images/all/Asmaa_Assad\n",
        "../../images/all/Ralph_Goodale\n",
        "../../images/all/Corliss_Williamson\n",
        "../../images/all/David_Blaine"
       ]
      },
      {
       "output_type": "stream",
       "stream": "stdout",
       "text": [
        "\n",
        "../../images/all/John_Nash\n",
        "../../images/all/Nate_Huffman\n",
        "../../images/all/Simon_Larose\n",
        "../../images/all/Orlando_Bloom\n",
        "../../images/all/George_Tenet\n",
        "../../images/all/Danny_Glover\n",
        "../../images/all/Rebecca_Romijn-Stamos"
       ]
      },
      {
       "output_type": "stream",
       "stream": "stdout",
       "text": [
        "\n",
        "../../images/all/Shimon_Peres\n",
        "../../images/all/Donald_Evans\n",
        "../../images/all/Dyab_Abou_Jahjah\n",
        "../../images/all/Andreas_Vinciguerra\n",
        "../../images/all/Mel_Brooks\n",
        "../../images/all/Charles_Mathews"
       ]
      },
      {
       "output_type": "stream",
       "stream": "stdout",
       "text": [
        "\n",
        "../../images/all/Grace_Dodd\n",
        "../../images/all/Claudio_Abbado\n",
        "../../images/all/Adel_Al-Jubeir\n",
        "../../images/all/Sidney_Poitier\n",
        "../../images/all/Charles_Pouty"
       ]
      },
      {
       "output_type": "stream",
       "stream": "stdout",
       "text": [
        "\n",
        "../../images/all/William_Ragland\n",
        "../../images/all/Michael_Denzel\n",
        "../../images/all/Tiago_Splitter\n",
        "../../images/all/Claudia_Schiffer\n",
        "../../images/all/Torri_Edwards\n",
        "../../images/all/Greg_Frers"
       ]
      },
      {
       "output_type": "stream",
       "stream": "stdout",
       "text": [
        "\n",
        "../../images/all/Daniel_Chin\n",
        "../../images/all/John_Rosa\n",
        "../../images/all/Mark_Martin\n",
        "../../images/all/Ty_Votaw\n",
        "../../images/all/Cassandra_Heise\n",
        "../../images/all/Candace_Sutton"
       ]
      },
      {
       "output_type": "stream",
       "stream": "stdout",
       "text": [
        "\n",
        "../../images/all/Larry_Ellison\n",
        "../../images/all/Jim_Edmonds\n",
        "../../images/all/Maria_Luisa_Mendonca\n",
        "../../images/all/Peter_Lundgren\n",
        "../../images/all/Sivan_Klein"
       ]
      },
      {
       "output_type": "stream",
       "stream": "stdout",
       "text": [
        "\n",
        "../../images/all/Stephen_Cooper\n",
        "../../images/all/Martin_Frost\n",
        "../../images/all/Julianna_Margulies\n",
        "../../images/all/Stanley_Ho\n",
        "../../images/all/Robert_Bullock\n",
        "../../images/all/Seth_Gorney\n",
        "../../images/all/Kim_Yun-kyu"
       ]
      },
      {
       "output_type": "stream",
       "stream": "stdout",
       "text": [
        "\n",
        "../../images/all/German_Khan\n",
        "../../images/all/Nida_Blanca\n",
        "../../images/all/Manuel_Gehring\n",
        "../../images/all/Isabel_Orellana\n",
        "../../images/all/Amr_Moussa"
       ]
      },
      {
       "output_type": "stream",
       "stream": "stdout",
       "text": [
        "\n",
        "../../images/all/Justine_Pasek\n",
        "../../images/all/Nan_Wang\n",
        "../../images/all/Ham_Pong-sil\n",
        "../../images/all/Laurie_Pirtle\n",
        "../../images/all/Art_Lopez\n",
        "../../images/all/Giulietta_Masina"
       ]
      },
      {
       "output_type": "stream",
       "stream": "stdout",
       "text": [
        "\n",
        "../../images/all/Dawn_Staley\n",
        "../../images/all/Jim_Flaherty\n",
        "../../images/all/Sheila_Copps"
       ]
      },
      {
       "output_type": "stream",
       "stream": "stdout",
       "text": [
        "\n",
        "../../images/all/Dinora_Rosales\n",
        "../../images/all/Joanna_Poitier\n",
        "../../images/all/Omar_Vizquel\n",
        "../../images/all/Tom_Crean\n",
        "../../images/all/Rosny_Desroches"
       ]
      },
      {
       "output_type": "stream",
       "stream": "stdout",
       "text": [
        "\n",
        "../../images/all/Bob_Riley\n",
        "../../images/all/Tom_Moss\n",
        "../../images/all/Austin_Kearns\n",
        "../../images/all/Michael_Chiklis\n",
        "../../images/all/Gray_Davis"
       ]
      },
      {
       "output_type": "stream",
       "stream": "stdout",
       "text": [
        "\n",
        "../../images/all/Mark_Bellhorn\n",
        "../../images/all/Paul_Sarbanes\n",
        "../../images/all/Fabrice_Santoro\n",
        "../../images/all/Samantha_Daniels\n",
        "../../images/all/Tavis_Smiley"
       ]
      },
      {
       "output_type": "stream",
       "stream": "stdout",
       "text": [
        "\n",
        "../../images/all/John_Burkett\n",
        "../../images/all/Steve_Phillips\n",
        "../../images/all/Ricky_Ray\n",
        "../../images/all/Ali_Naimi\n",
        "../../images/all/James_Blake"
       ]
      },
      {
       "output_type": "stream",
       "stream": "stdout",
       "text": [
        "\n",
        "../../images/all/Heinz_Feldmann\n",
        "../../images/all/Charles_Rogers\n",
        "../../images/all/Ana_Claudia_Talancon\n",
        "../../images/all/Joe_Glover\n",
        "../../images/all/Bill_Rainer"
       ]
      },
      {
       "output_type": "stream",
       "stream": "stdout",
       "text": [
        "\n",
        "../../images/all/Chance_Mock\n",
        "../../images/all/Khum_Bahadur_Khadka\n",
        "../../images/all/Stefano_Accorsi\n",
        "../../images/all/Dominik_Garcia-Lorido\n",
        "../../images/all/Chung_Mong-hun\n",
        "../../images/all/Boris_Berezovsky"
       ]
      },
      {
       "output_type": "stream",
       "stream": "stdout",
       "text": [
        "\n",
        "../../images/all/Brian_Mulroney\n",
        "../../images/all/Allen_Rock\n",
        "../../images/all/Tatyana_Tomashova\n",
        "../../images/all/Arif_Mardin"
       ]
      },
      {
       "output_type": "stream",
       "stream": "stdout",
       "text": [
        "\n",
        "../../images/all/Steven_Curtis_Chapman\n",
        "../../images/all/Steve_Fehr\n",
        "../../images/all/Sandra_Ceccarelli\n",
        "../../images/all/Michael_Smith_Foster\n",
        "../../images/all/Steven_Spielberg"
       ]
      },
      {
       "output_type": "stream",
       "stream": "stdout",
       "text": [
        "\n",
        "../../images/all/Ana_Paula_Gerard\n",
        "../../images/all/Wayne_Ferreira\n",
        "../../images/all/Bobby_Kielty\n",
        "../../images/all/Dustin_Brown\n",
        "../../images/all/Rogelio_Montemayor"
       ]
      },
      {
       "output_type": "stream",
       "stream": "stdout",
       "text": [
        "\n",
        "../../images/all/Cruz_Bustamante\n",
        "../../images/all/Andrew_Luster\n",
        "../../images/all/Christine_Gregoire\n",
        "../../images/all/Lionel_Hampton\n",
        "../../images/all/Sybille_Schmid"
       ]
      },
      {
       "output_type": "stream",
       "stream": "stdout",
       "text": [
        "\n",
        "../../images/all/Momcilo_Perisic\n",
        "../../images/all/Gregg_Berhalter\n",
        "../../images/all/Melissa_Stark\n",
        "../../images/all/Jean_Chretien\n",
        "../../images/all/Kimberly_Bruckner\n",
        "../../images/all/Donald_Rumsfeld"
       ]
      },
      {
       "output_type": "stream",
       "stream": "stdout",
       "text": [
        "\n",
        "../../images/all/Alessandro_Nesta\n",
        "../../images/all/Andrea_Kiser\n",
        "../../images/all/Leonardo_Del_Vecchio\n",
        "../../images/all/Brian_Scalabrine\n",
        "../../images/all/Colin_Phillips"
       ]
      },
      {
       "output_type": "stream",
       "stream": "stdout",
       "text": [
        "\n",
        "../../images/all/Taha_Yassin_Ramadan\n",
        "../../images/all/Don_Nickles\n",
        "../../images/all/Horacio_de_Jesus_Montoya\n",
        "../../images/all/Leonard_Hamilton\n",
        "../../images/all/Nick_Nolte"
       ]
      },
      {
       "output_type": "stream",
       "stream": "stdout",
       "text": [
        "\n",
        "../../images/all/Tony_Parker\n",
        "../../images/all/Stella_Keitel\n",
        "../../images/all/Michael_Jasny\n",
        "../../images/all/Randall_Tobias\n",
        "../../images/all/Marcus_Garrettson\n",
        "../../images/all/Brandon_Spann"
       ]
      },
      {
       "output_type": "stream",
       "stream": "stdout",
       "text": [
        "\n",
        "../../images/all/Mona_Ayoub\n",
        "../../images/all/Sami_Al-Arian\n",
        "../../images/all/Ian_Smith\n",
        "../../images/all/Stan_Heath\n",
        "../../images/all/Owen_Wilson"
       ]
      },
      {
       "output_type": "stream",
       "stream": "stdout",
       "text": [
        "\n",
        "../../images/all/Marc_Leger\n",
        "../../images/all/Alejandro_Lopez\n",
        "../../images/all/Ahmed_Ibrahim_Bilal\n",
        "../../images/all/Heather_Willson\n",
        "../../images/all/Amy_Gale\n",
        "../../images/all/Rashid_Qureshi\n",
        "../../images/all/Juergen_Schrempp"
       ]
      },
      {
       "output_type": "stream",
       "stream": "stdout",
       "text": [
        "\n",
        "../../images/all/Beyonce_Knowles\n",
        "../../images/all/Karol_Kucera\n",
        "../../images/all/Jose_Jose\n",
        "../../images/all/George_Ryan\n",
        "../../images/all/Natalia_Dmitrieva\n",
        "../../images/all/Frank_Schmoekel"
       ]
      },
      {
       "output_type": "stream",
       "stream": "stdout",
       "text": [
        "\n",
        "../../images/all/Pamela_Melroy\n",
        "../../images/all/Vaclav_Klaus\n",
        "../../images/all/Michael_Powell\n",
        "../../images/all/Edmund_Stoiber\n",
        "../../images/all/Juan_Fernandez\n",
        "../../images/all/Tuncay_Sanli"
       ]
      },
      {
       "output_type": "stream",
       "stream": "stdout",
       "text": [
        "\n",
        "../../images/all/Jennifer_Aniston\n",
        "../../images/all/Mike_Maroth\n",
        "../../images/all/Laura_Elena_Harring\n",
        "../../images/all/Ivan_Lee\n",
        "../../images/all/Darla_Moore\n",
        "../../images/all/Lynn_Abraham"
       ]
      },
      {
       "output_type": "stream",
       "stream": "stdout",
       "text": [
        "\n",
        "../../images/all/Eddie_Jordan\n",
        "../../images/all/Hussein_Malik\n",
        "../../images/all/Sonia_Lopez\n",
        "../../images/all/Lina_Krasnoroutskaya\n",
        "../../images/all/Crandall_Bowles\n",
        "../../images/all/Christopher_Russell\n",
        "../../images/all/Leni_Bjorklund"
       ]
      },
      {
       "output_type": "stream",
       "stream": "stdout",
       "text": [
        "\n",
        "../../images/all/Christopher_Reeve\n",
        "../../images/all/Carlton_Dotson\n",
        "../../images/all/Roman_Coppola\n",
        "../../images/all/Rob_Ramsay\n",
        "../../images/all/Kevin_Stallings"
       ]
      },
      {
       "output_type": "stream",
       "stream": "stdout",
       "text": [
        "\n",
        "../../images/all/Soenarno\n",
        "../../images/all/Anne_Cavers\n",
        "../../images/all/Mel_Karmazin\n",
        "../../images/all/Chang_Saio-yue\n",
        "../../images/all/Muhammad_Ali\n",
        "../../images/all/Andrew_Wetzler\n",
        "../../images/all/Brooke_Shields"
       ]
      },
      {
       "output_type": "stream",
       "stream": "stdout",
       "text": [
        "\n",
        "../../images/all/Hung_Wan-ting\n",
        "../../images/all/Mathias_Reichhold\n",
        "../../images/all/Nicanor_Duarte_Frutos\n",
        "../../images/all/Michael_Guiler\n",
        "../../images/all/Floyd_Keith"
       ]
      },
      {
       "output_type": "stream",
       "stream": "stdout",
       "text": [
        "\n",
        "../../images/all/Linn_Thornton\n",
        "../../images/all/Greg_Ostertag\n",
        "../../images/all/Wilbert_Elki_Meza_Majino\n",
        "../../images/all/Cheryl_James\n",
        "../../images/all/David_Nalbandian"
       ]
      },
      {
       "output_type": "stream",
       "stream": "stdout",
       "text": [
        "\n",
        "../../images/all/Alanna_Ubach\n",
        "../../images/all/David_Brent\n",
        "../../images/all/Shawn_Bradley\n",
        "../../images/all/Hubert_Green"
       ]
      },
      {
       "output_type": "stream",
       "stream": "stdout",
       "text": [
        "\n",
        "../../images/all/Jeong_Se-hyun\n",
        "../../images/all/Andy_Garcia\n",
        "../../images/all/Fernando_Vargas\n",
        "../../images/all/Billy_Joel\n",
        "../../images/all/Matthias_Sammer"
       ]
      },
      {
       "output_type": "stream",
       "stream": "stdout",
       "text": [
        "\n",
        "../../images/all/Reina_Hayes\n",
        "../../images/all/Jan_Ullrich\n",
        "../../images/all/Michael_Bloomberg\n",
        "../../images/all/Jean-Claude_Van_Damme\n",
        "../../images/all/Davey_Johnson"
       ]
      },
      {
       "output_type": "stream",
       "stream": "stdout",
       "text": [
        "\n",
        "../../images/all/Peter_Camejo\n",
        "../../images/all/Alan_Mulally\n",
        "../../images/all/Rebekah_Chantay_Revels\n",
        "../../images/all/John_Mayer\n",
        "../../images/all/Xiang_Xu"
       ]
      },
      {
       "output_type": "stream",
       "stream": "stdout",
       "text": [
        "\n",
        "../../images/all/Nathalie_Gagnon\n",
        "../../images/all/Paul_McNulty\n",
        "../../images/all/John_Ashcroft\n",
        "../../images/all/Werner_Schlager"
       ]
      },
      {
       "output_type": "stream",
       "stream": "stdout",
       "text": [
        "\n",
        "../../images/all/Penelope_Ann_Miller\n",
        "../../images/all/Courtney_Cox\n",
        "../../images/all/Chris_Bell\n",
        "../../images/all/Donald_Hays"
       ]
      },
      {
       "output_type": "stream",
       "stream": "stdout",
       "text": [
        "\n",
        "../../images/all/Clint_Eastwood\n",
        "../../images/all/Steve_Nesbitt\n",
        "../../images/all/Uri_Lopolianski\n",
        "../../images/all/Koichi_Tanaka\n",
        "../../images/all/Tim_Lobinger\n",
        "../../images/all/Brandon_Hammond"
       ]
      },
      {
       "output_type": "stream",
       "stream": "stdout",
       "text": [
        "\n",
        "../../images/all/Andy_Graves\n",
        "../../images/all/Vecdi_Gonul\n",
        "../../images/all/Winston_Churchill\n",
        "../../images/all/Chris_Neil\n",
        "../../images/all/Michael_Brandon\n",
        "../../images/all/Alexander_Payne\n",
        "../../images/all/Brandon_Webb"
       ]
      },
      {
       "output_type": "stream",
       "stream": "stdout",
       "text": [
        "\n",
        "../../images/all/Mehmet_Okur\n",
        "../../images/all/Nick_Markakis\n",
        "../../images/all/Ralph_Klein\n",
        "../../images/all/Adrian_McPherson\n",
        "../../images/all/Jorge_Arce"
       ]
      },
      {
       "output_type": "stream",
       "stream": "stdout",
       "text": [
        "\n",
        "../../images/all/Mary_Carey\n",
        "../../images/all/Suzanne_Fox\n",
        "../../images/all/Janine_Pietsch\n",
        "../../images/all/Jake_Brace\n",
        "../../images/all/Don_Siegelman"
       ]
      },
      {
       "output_type": "stream",
       "stream": "stdout",
       "text": [
        "\n",
        "../../images/all/Mitzi_Gaynor\n",
        "../../images/all/Roy_Halladay\n",
        "../../images/all/Herta_Daeubler-Gmelin\n",
        "../../images/all/Reinhard_Buetikofer\n",
        "../../images/all/Joseph_Kabila\n",
        "../../images/all/Brad_Garrett"
       ]
      },
      {
       "output_type": "stream",
       "stream": "stdout",
       "text": [
        "\n",
        "../../images/all/Craig_David\n",
        "../../images/all/Pete_Rose\n",
        "../../images/all/Roberto_Arguelles\n",
        "../../images/all/Warren_Buffett\n",
        "../../images/all/AnFernce_Negron"
       ]
      },
      {
       "output_type": "stream",
       "stream": "stdout",
       "text": [
        "\n",
        "../../images/all/Carlos_Alberto_Parreira\n",
        "../../images/all/Enrique_Medina_Gomez\n",
        "../../images/all/Jacqueline_Edwards\n",
        "../../images/all/Alfonso_Portillo\n",
        "../../images/all/Barbara_Bach"
       ]
      },
      {
       "output_type": "stream",
       "stream": "stdout",
       "text": [
        "\n",
        "../../images/all/Lene_Espersen\n",
        "../../images/all/Sarah_Jessica_Parker\n",
        "../../images/all/Ronald_Kessler\n",
        "../../images/all/Juljia_Vysotskij\n",
        "../../images/all/Lili_Marinho\n",
        "../../images/all/Arthur_Martinez"
       ]
      },
      {
       "output_type": "stream",
       "stream": "stdout",
       "text": [
        "\n",
        "../../images/all/Eugene_Teslovic\n",
        "../../images/all/Ruben_Wolkowyski\n",
        "../../images/all/Kevin_Sorbo\n",
        "../../images/all/Thomas_Malchow\n",
        "../../images/all/Walt_Harris\n",
        "../../images/all/Jacqueline_Obradors"
       ]
      },
      {
       "output_type": "stream",
       "stream": "stdout",
       "text": [
        "\n",
        "../../images/all/Alberto_Sordi\n",
        "../../images/all/Rosario_Dawson\n",
        "../../images/all/Frank_Solich\n",
        "../../images/all/Andre_Bucher\n",
        "../../images/all/test\n",
        "../../images/all/test/aaron"
       ]
      },
      {
       "output_type": "stream",
       "stream": "stdout",
       "text": [
        "\n",
        "../../images/all/Dave_McGinnis\n",
        "../../images/all/Bob_Herz\n",
        "../../images/all/Jeffery_Strelzin\n",
        "../../images/all/Peter_Max\n",
        "../../images/all/John_Paul_DeJoria\n",
        "../../images/all/Jim_Ryan"
       ]
      },
      {
       "output_type": "stream",
       "stream": "stdout",
       "text": [
        "\n",
        "../../images/all/Nestor_Gonzalez\n",
        "../../images/all/Michelle_Rodriguez\n",
        "../../images/all/Gordon_Brown\n",
        "../../images/all/Young_Kim\n",
        "../../images/all/Jesse_Jackson"
       ]
      },
      {
       "output_type": "stream",
       "stream": "stdout",
       "text": [
        "\n",
        "../../images/all/Ernesto_Zedillo\n",
        "../../images/all/Jane_Menelaus\n",
        "../../images/all/Doug_Christie\n",
        "../../images/all/Juan_Carlos_Ferrero\n",
        "../../images/all/Steven_Briggs\n",
        "../../images/all/Queen_Noor"
       ]
      },
      {
       "output_type": "stream",
       "stream": "stdout",
       "text": [
        "\n",
        "../../images/all/Andrea_De_Cruz\n",
        "../../images/all/Bernard_Landry\n",
        "../../images/all/Adoor_Gopalakarishnan\n",
        "../../images/all/Emanuel_Ginobili\n",
        "../../images/all/George_Lucas\n",
        "../../images/all/Paul_Patton"
       ]
      },
      {
       "output_type": "stream",
       "stream": "stdout",
       "text": [
        "\n",
        "../../images/all/Ivan_Helguera\n",
        "../../images/all/Gerard_Kleisterlee\n",
        "../../images/all/Tim_Blake_Nelson\n",
        "../../images/all/Martha_Martinez_Flores\n",
        "../../images/all/Rafael_Ramirez"
       ]
      },
      {
       "output_type": "stream",
       "stream": "stdout",
       "text": [
        "\n",
        "../../images/all/Brian_Cowen\n",
        "../../images/all/Carolina_Barco\n",
        "../../images/all/Diane_Ladd\n",
        "../../images/all/William_Hyde\n",
        "../../images/all/Angela_Mascia-Frye\n",
        "../../images/all/Nancy_Powell"
       ]
      },
      {
       "output_type": "stream",
       "stream": "stdout",
       "text": [
        "\n",
        "../../images/all/Judi_Patton\n",
        "../../images/all/Mark_Leno\n",
        "../../images/all/Robert_Vowler\n",
        "../../images/all/Shane_Reynolds\n",
        "../../images/all/Nicolas_Macrozonaris\n",
        "../../images/all/Akbar_Al_Baker"
       ]
      },
      {
       "output_type": "stream",
       "stream": "stdout",
       "text": [
        "\n",
        "../../images/all/Alexandra_Jackson\n",
        "../../images/all/Chuanyun_Li\n",
        "../../images/all/Jorge_Valdano\n",
        "../../images/all/Guy_Hemmings\n",
        "../../images/all/Frank_Taylor\n",
        "../../images/all/Annie_Machon"
       ]
      },
      {
       "output_type": "stream",
       "stream": "stdout",
       "text": [
        "\n",
        "../../images/all/Esad_Landzo\n",
        "../../images/all/Lorraine_Bracco\n",
        "../../images/all/Jerry_Colangelo\n",
        "../../images/all/Dennis_Powell\n",
        "../../images/all/Sue_Slavec"
       ]
      },
      {
       "output_type": "stream",
       "stream": "stdout",
       "text": [
        "\n",
        "../../images/all/Joe_Torre\n",
        "../../images/all/Joseph_LePore\n",
        "../../images/all/Joan_Dangerfield\n",
        "../../images/all/Frank_Beamer\n",
        "../../images/all/Caio_Blat\n",
        "../../images/all/Fazal-ur-Rehman"
       ]
      },
      {
       "output_type": "stream",
       "stream": "stdout",
       "text": [
        "\n",
        "../../images/all/Yuri_Malenchenko\n",
        "../../images/all/Gene_Hackman\n",
        "../../images/all/Vince_Carter\n",
        "../../images/all/Chris_Thomas\n",
        "../../images/all/Geno_Auriemma\n",
        "../../images/all/Brian_Gregory"
       ]
      },
      {
       "output_type": "stream",
       "stream": "stdout",
       "text": [
        "\n",
        "../../images/all/Rita_Grande\n",
        "../../images/all/Richard_Carl\n",
        "../../images/all/Nicolas_Cage\n",
        "../../images/all/Keith_Snyder\n",
        "../../images/all/Alexandra_Rozovskaya"
       ]
      },
      {
       "output_type": "stream",
       "stream": "stdout",
       "text": [
        "\n",
        "../../images/all/Matt_Welsh\n",
        "../../images/all/Ashley_Judd\n",
        "../../images/all/Mohammed_Ashraf_Hafiz\n",
        "../../images/all/Malik_Mahmud\n",
        "../../images/all/Khin_Nyunt\n",
        "../../images/all/Colleen_Jones"
       ]
      },
      {
       "output_type": "stream",
       "stream": "stdout",
       "text": [
        "\n",
        "../../images/all/Hal_Gehman\n",
        "../../images/all/Leandro_Andrade\n",
        "../../images/all/Kelly_Osbourne\n",
        "../../images/all/Edward_James_Olmos\n",
        "../../images/all/Julia_Tymoshenko"
       ]
      },
      {
       "output_type": "stream",
       "stream": "stdout",
       "text": [
        "\n",
        "../../images/all/William_Jackson\n",
        "../../images/all/Robert_Kocharian\n",
        "../../images/all/Tim_Matheson\n",
        "../../images/all/Tommy_Franks\n",
        "../../images/all/Alejandro_Avila"
       ]
      },
      {
       "output_type": "stream",
       "stream": "stdout",
       "text": [
        "\n",
        "../../images/all/Kit_Bond\n",
        "../../images/all/Klaus_Schwab\n",
        "../../images/all/Heath_Ledger\n",
        "../../images/all/Carolina_Moraes\n",
        "../../images/all/Johnnie_Lynn"
       ]
      },
      {
       "output_type": "stream",
       "stream": "stdout",
       "text": [
        "\n",
        "../../images/all/Annette_Bening\n",
        "../../images/all/Howard_Wilkinson\n",
        "../../images/all/Patricia_Clarkson\n",
        "../../images/all/Enola_Rice\n",
        "../../images/all/Benjamin_Netanyahu"
       ]
      },
      {
       "output_type": "stream",
       "stream": "stdout",
       "text": [
        "\n",
        "../../images/all/Mark_Gottfried\n",
        "../../images/all/Farouk_Kaddoumi\n",
        "../../images/all/Jennifer_McCoy\n",
        "../../images/all/Mike_Scioscia\n",
        "../../images/all/Jawad_Boulus\n",
        "../../images/all/Douglas_Meester"
       ]
      },
      {
       "output_type": "stream",
       "stream": "stdout",
       "text": [
        "\n",
        "../../images/all/Ira_Einhorn\n",
        "../../images/all/Karin_Viard\n",
        "../../images/all/Kim_Hong-gul\n",
        "../../images/all/Jodie_Foster\n",
        "../../images/all/Will_Ferrell\n",
        "../../images/all/Constance_Marie"
       ]
      },
      {
       "output_type": "stream",
       "stream": "stdout",
       "text": [
        "\n",
        "../../images/all/James_Hoffa\n",
        "../../images/all/Roberto_Canessa\n",
        "../../images/all/Christian_Malcolm\n",
        "../../images/all/Thomas_Franklin\n",
        "../../images/all/John_McKay"
       ]
      },
      {
       "output_type": "stream",
       "stream": "stdout",
       "text": [
        "\n",
        "../../images/all/Leonard_Glick\n",
        "../../images/all/Kajsa_Bergqvist\n",
        "../../images/all/Bode_Miller\n",
        "../../images/all/Pervez_Musharraf\n",
        "../../images/all/Li_Ruihuan\n",
        "../../images/all/Jeffrey_Donaldson"
       ]
      },
      {
       "output_type": "stream",
       "stream": "stdout",
       "text": [
        "\n",
        "../../images/all/Lucas_Wysocki\n",
        "../../images/all/Bob_Petrino\n",
        "../../images/all/Michael_Broad\n",
        "../../images/all/Robert_Lange\n",
        "../../images/all/Sally_Kirkland\n",
        "../../images/all/Peter_Gilmour"
       ]
      },
      {
       "output_type": "stream",
       "stream": "stdout",
       "text": [
        "\n",
        "../../images/all/Marsha_Thomason\n",
        "../../images/all/Ricky_Martin\n",
        "../../images/all/Monica_Vergara\n",
        "../../images/all/Benjamin_Franklin\n",
        "../../images/all/Alexis_Bledel\n",
        "../../images/all/Laurel_Clark"
       ]
      },
      {
       "output_type": "stream",
       "stream": "stdout",
       "text": [
        "\n",
        "../../images/all/Hans_Corell\n",
        "../../images/all/Julie_Andrews\n",
        "../../images/all/Gary_Paer\n",
        "../../images/all/Stepan_Demirchian\n",
        "../../images/all/Jenny_Romero\n",
        "../../images/all/Kitin_Munoz\n",
        "../../images/all/Alfonso_Soriano"
       ]
      },
      {
       "output_type": "stream",
       "stream": "stdout",
       "text": [
        "\n",
        "../../images/all/Malak_Habbak\n",
        "../../images/all/Jerry_Hall\n",
        "../../images/all/Valentina_Tereshkova\n",
        "../../images/all/Chen_Kaige\n",
        "../../images/all/Jacqueline_Marris\n",
        "../../images/all/Marlon_Devonish"
       ]
      },
      {
       "output_type": "stream",
       "stream": "stdout",
       "text": [
        "\n",
        "../../images/all/Jeffrey_Ashby\n",
        "../../images/all/Brad_Brownell\n",
        "../../images/all/Jacky_Cheung\n",
        "../../images/all/Masao_Azuma\n",
        "../../images/all/Maria_Soledad_Alvear_Valenzuela\n",
        "../../images/all/John_Stockton"
       ]
      },
      {
       "output_type": "stream",
       "stream": "stdout",
       "text": [
        "\n",
        "../../images/all/Giselle_Estefania_Tavarelli\n",
        "../../images/all/Hugo_Conte\n",
        "../../images/all/Morgan_Hentzen\n",
        "../../images/all/Joschka_Fischer\n",
        "../../images/all/Andy_North"
       ]
      },
      {
       "output_type": "stream",
       "stream": "stdout",
       "text": [
        "\n",
        "../../images/all/Jose_Acasuso\n",
        "../../images/all/Romano_Prodi\n",
        "../../images/all/Gian_Marco\n",
        "../../images/all/Ronald_Ito\n",
        "../../images/all/Brad_Johnson\n",
        "../../images/all/Howard_Dean"
       ]
      },
      {
       "output_type": "stream",
       "stream": "stdout",
       "text": [
        "\n",
        "../../images/all/Begum_Khaleda_Zia\n",
        "../../images/all/Lloyd_Ward\n",
        "../../images/all/Dion_Glover\n",
        "../../images/all/Chante_Jawan_Mallard\n",
        "../../images/all/Graeme_Smith\n",
        "../../images/all/Jack_Nicholson"
       ]
      },
      {
       "output_type": "stream",
       "stream": "stdout",
       "text": [
        "\n",
        "../../images/all/Zhang_Ziyi\n",
        "../../images/all/Ricky_Quick\n",
        "../../images/all/Kevin_Keegan\n",
        "../../images/all/Emile_Lahoud\n",
        "../../images/all/Jane_Walker_Wood"
       ]
      },
      {
       "output_type": "stream",
       "stream": "stdout",
       "text": [
        "\n",
        "../../images/all/Richard_Perle\n",
        "../../images/all/Ibrahim_Hilal\n",
        "../../images/all/Delphine_Chuillot\n",
        "../../images/all/John_White\n",
        "../../images/all/Xanana_Gusmao\n",
        "../../images/all/Binyamin_Ben-Eliezer"
       ]
      },
      {
       "output_type": "stream",
       "stream": "stdout",
       "text": [
        "\n",
        "../../images/all/John_Abizaid\n",
        "../../images/all/Curtis_Joseph\n",
        "../../images/all/Yoriko_Kawaguchi\n",
        "../../images/all/Norman_Mailer\n",
        "../../images/all/Tony_Elias"
       ]
      },
      {
       "output_type": "stream",
       "stream": "stdout",
       "text": [
        "\n",
        "../../images/all/Tom_Watson\n",
        "../../images/all/Dragan_Covic\n",
        "../../images/all/Pedro_Pauleta\n",
        "../../images/all/Stephen_Oake\n",
        "../../images/all/Darren_Clarke"
       ]
      },
      {
       "output_type": "stream",
       "stream": "stdout",
       "text": [
        "\n",
        "../../images/all/Juliette_Lewis\n",
        "../../images/all/Joe_Strummer\n",
        "../../images/all/Mario_Dominguez\n",
        "../../images/all/Eduardo_Duhalde\n",
        "../../images/all/Jim_Hahn"
       ]
      },
      {
       "output_type": "stream",
       "stream": "stdout",
       "text": [
        "\n",
        "../../images/all/Jaymon_Crabb\n",
        "../../images/all/Joao_Rocha\n",
        "../../images/all/Ryan_Newman\n",
        "../../images/all/Quincy_Jones\n",
        "../../images/all/Allison_Searing\n",
        "../../images/all/Yang_Jianli"
       ]
      },
      {
       "output_type": "stream",
       "stream": "stdout",
       "text": [
        "\n",
        "../../images/all/Paul_Wilson\n",
        "../../images/all/Gloria_Macapagal_Arroyo\n",
        "../../images/all/Ana_Guevara\n",
        "../../images/all/Alfredo_Moreno\n",
        "../../images/all/Nadine_Vinzens"
       ]
      },
      {
       "output_type": "stream",
       "stream": "stdout",
       "text": [
        "\n",
        "../../images/all/Jonathan_Edwards\n",
        "../../images/all/Richard_Tubb\n",
        "../../images/all/Osama_Al_Baz\n",
        "../../images/all/Ruth_Pearce\n",
        "../../images/all/Selma_Phoenix"
       ]
      },
      {
       "output_type": "stream",
       "stream": "stdout",
       "text": [
        "\n",
        "../../images/all/Adam_Herbert\n",
        "../../images/all/Martin_Brodeur\n",
        "../../images/all/Sean_Astin\n",
        "../../images/all/Budd_Schulberg\n",
        "../../images/all/Valentina_Cervi\n",
        "../../images/all/Gerald_Ford"
       ]
      },
      {
       "output_type": "stream",
       "stream": "stdout",
       "text": [
        "\n",
        "../../images/all/Daniel_Kurtzer\n",
        "../../images/all/Jerry_Tarkanian\n",
        "../../images/all/Sarah_Canale\n",
        "../../images/all/Nathan_Powell\n",
        "../../images/all/Chuck_Eidson\n",
        "../../images/all/Frank_Hsieh\n",
        "../../images/all/Peter_Ueberroth"
       ]
      },
      {
       "output_type": "stream",
       "stream": "stdout",
       "text": [
        "\n",
        "../../images/all/Dick_Cheney\n",
        "../../images/all/Nancy_Kerrigan\n",
        "../../images/all/Dave_Tucker\n",
        "../../images/all/John_Rusnak\n",
        "../../images/all/Gonzalo_Barrientos"
       ]
      },
      {
       "output_type": "stream",
       "stream": "stdout",
       "text": [
        "\n",
        "../../images/all/Gary_Doer\n",
        "../../images/all/Ted_Maher\n",
        "../../images/all/Brendan_Gaughan\n",
        "../../images/all/Ronald_Kadish\n",
        "../../images/all/Phil_Bredesen\n",
        "../../images/all/Ian_Wilmut"
       ]
      },
      {
       "output_type": "stream",
       "stream": "stdout",
       "text": [
        "\n",
        "../../images/all/Whoopi_Goldberg\n",
        "../../images/all/Zdravko_Mucic\n",
        "../../images/all/Mike_Thibault\n",
        "../../images/all/Darvis_Patton\n",
        "../../images/all/Gong_Li\n",
        "../../images/all/Lutz_Freitag\n",
        "../../images/all/Danny_Ainge"
       ]
      },
      {
       "output_type": "stream",
       "stream": "stdout",
       "text": [
        "\n",
        "../../images/all/Tom_Hanks\n",
        "../../images/all/Jennifer_Rodriguez\n",
        "../../images/all/Nigel_Redden\n",
        "../../images/all/Abel_Aguilar\n",
        "../../images/all/Vijay_Nambiar\n",
        "../../images/all/Mary_Elizabeth_Mastrantonio"
       ]
      },
      {
       "output_type": "stream",
       "stream": "stdout",
       "text": [
        "\n",
        "../../images/all/Yoko_Ono\n",
        "../../images/all/Sara_Elisabeth_Ahmad\n",
        "../../images/all/Javier_Saviola\n",
        "../../images/all/Zach_Parise\n",
        "../../images/all/Kim_Jin-sun\n",
        "../../images/all/Atiabet_Ijan_Amabel\n",
        "../../images/all/Teri_Garr"
       ]
      },
      {
       "output_type": "stream",
       "stream": "stdout",
       "text": [
        "\n",
        "../../images/all/Jimmy_Kimmel\n",
        "../../images/all/Mathilda_Karel_Spak\n",
        "../../images/all/Connie_Chung\n",
        "../../images/all/Bill_Pryor\n",
        "../../images/all/Michael_Frayn\n",
        "../../images/all/Laura_Marlow"
       ]
      },
      {
       "output_type": "stream",
       "stream": "stdout",
       "text": [
        "\n",
        "../../images/all/Felix_Doh\n",
        "../../images/all/James_Ivory\n",
        "../../images/all/Prince_Edward\n",
        "../../images/all/Woody_Allen\n",
        "../../images/all/Portia_de_Rossi\n",
        "../../images/all/Mario_Lobo_Zagallo"
       ]
      },
      {
       "output_type": "stream",
       "stream": "stdout",
       "text": [
        "\n",
        "../../images/all/Martina_McBride\n",
        "../../images/all/Dorothy_Wilson\n",
        "../../images/all/Gerard_Butler\n",
        "../../images/all/Aldo_Paredes\n",
        "../../images/all/Michel_Charles_Chretien\n",
        "../../images/all/Jonathan_Schroeder"
       ]
      },
      {
       "output_type": "stream",
       "stream": "stdout",
       "text": [
        "\n",
        "../../images/all/Lili_Taylor\n",
        "../../images/all/Ben_Betts\n",
        "../../images/all/Clive_Lloyd\n",
        "../../images/all/Tommy_Lewis\n",
        "../../images/all/Christina_Sawaya"
       ]
      },
      {
       "output_type": "stream",
       "stream": "stdout",
       "text": [
        "\n",
        "../../images/all/Trevor_McDonald\n",
        "../../images/all/Ben_Wallace\n",
        "../../images/all/Rick_Husband\n",
        "../../images/all/Bruce_Arena\n",
        "../../images/all/Sheryl_Crow\n",
        "../../images/all/David_Braley\n",
        "../../images/all/Gordon_McDonald"
       ]
      },
      {
       "output_type": "stream",
       "stream": "stdout",
       "text": [
        "\n",
        "../../images/all/Phil_Cline\n",
        "../../images/all/Serena_Williams\n",
        "../../images/all/Paul_Wellstone\n",
        "../../images/all/Maura_Tierney\n",
        "../../images/all/Dominic_Monaghan"
       ]
      },
      {
       "output_type": "stream",
       "stream": "stdout",
       "text": [
        "\n",
        "../../images/all/Noer_Muis\n",
        "../../images/all/Jonathan_Karsh\n",
        "../../images/all/Leon_Lai\n",
        "../../images/all/Paul_Lockhart\n",
        "../../images/all/Bob_Goldman"
       ]
      },
      {
       "output_type": "stream",
       "stream": "stdout",
       "text": [
        "\n",
        "../../images/all/Bilal_Erdogan\n",
        "../../images/all/Dave_Johnson\n",
        "../../images/all/Jane_Clayson\n",
        "../../images/all/Glenn_Plummer\n",
        "../../images/all/Deniz_Baykal\n",
        "../../images/all/Felix_Sanchez\n",
        "../../images/all/Ghassan_Elashi"
       ]
      },
      {
       "output_type": "stream",
       "stream": "stdout",
       "text": [
        "\n",
        "../../images/all/Paul_Tagliabue\n",
        "../../images/all/Scott_Ritter\n",
        "../../images/all/Otto_Reich\n",
        "../../images/all/Georgina_Bardach\n",
        "../../images/all/Kristen_Breitweiser\n",
        "../../images/all/Emily_Mason"
       ]
      },
      {
       "output_type": "stream",
       "stream": "stdout",
       "text": [
        "\n",
        "../../images/all/Zaini_Abdullah\n",
        "../../images/all/Gary_Sinise\n",
        "../../images/all/Miranda_Otto\n",
        "../../images/all/Rod_Blagojevich\n",
        "../../images/all/Jackie_Sherrill"
       ]
      },
      {
       "output_type": "stream",
       "stream": "stdout",
       "text": [
        "\n",
        "../../images/all/Milton_Wynants\n",
        "../../images/all/Mohamed_Benaissa\n",
        "../../images/all/Ridley_Scott\n",
        "../../images/all/Alexandre_Vinokourov\n",
        "../../images/all/Jose_Bove\n",
        "../../images/all/Roman_Abramovich"
       ]
      },
      {
       "output_type": "stream",
       "stream": "stdout",
       "text": [
        "\n",
        "../../images/all/Magdalena_Maleeva\n",
        "../../images/all/Jim_Wong\n",
        "../../images/all/Rudolf_Schuster\n",
        "../../images/all/Kwon_Young-gil\n",
        "../../images/all/John_Snow\n",
        "../../images/all/Pierre_Pettigrew\n",
        "../../images/all/Carlos_Ruiz"
       ]
      },
      {
       "output_type": "stream",
       "stream": "stdout",
       "text": [
        "\n",
        "../../images/all/Imad_Moustapha\n",
        "../../images/all/Mike_Brey\n",
        "../../images/all/Pupi_Avati\n",
        "../../images/all/Otto_Schily\n",
        "../../images/all/Larry_Lindsey\n",
        "../../images/all/Jean_Charest"
       ]
      },
      {
       "output_type": "stream",
       "stream": "stdout",
       "text": [
        "\n",
        "../../images/all/Gaston_Gaudio\n",
        "../../images/all/Hestrie_Cloette\n",
        "../../images/all/Teri_ORourke\n",
        "../../images/all/Terry_Lynn_Barton\n",
        "../../images/all/Maria_Simon"
       ]
      },
      {
       "output_type": "stream",
       "stream": "stdout",
       "text": [
        "\n",
        "../../images/all/Lois_Smart\n",
        "../../images/all/Joseph_Blatter\n",
        "../../images/all/Jean-Pierre_Bemba\n",
        "../../images/all/Carolina_Kluft\n",
        "../../images/all/Lee_Tae-sik\n",
        "../../images/all/Elijah_Wood"
       ]
      },
      {
       "output_type": "stream",
       "stream": "stdout",
       "text": [
        "\n",
        "../../images/all/Aidan_Quinn\n",
        "../../images/all/Fidel_Castro_Daiz-Balart\n",
        "../../images/all/Lily_Safra\n",
        "../../images/all/Anthony_LaPaglia\n",
        "../../images/all/Jim_Nochols\n",
        "../../images/all/Michael_Chertoff\n",
        "../../images/all/Mohammed_Al_Hindi\n",
        "../../images/all/Andrew_Weissmann"
       ]
      },
      {
       "output_type": "stream",
       "stream": "stdout",
       "text": [
        "\n",
        "../../images/all/Bernard_Ebbers\n",
        "../../images/all/Colleen_Donovan\n",
        "../../images/all/Christian_Fittipaldi\n",
        "../../images/all/Britney_Spears\n",
        "../../images/all/David_Trimble\n",
        "../../images/all/Tippi_Hedren"
       ]
      },
      {
       "output_type": "stream",
       "stream": "stdout",
       "text": [
        "\n",
        "../../images/all/Julien_Varlet\n",
        "../../images/all/Jason_Statham\n",
        "../../images/all/Tara_Kirk\n",
        "../../images/all/Ozzie_Smith\n",
        "../../images/all/Mike_Davis\n",
        "../../images/all/Derek_Parra"
       ]
      },
      {
       "output_type": "stream",
       "stream": "stdout",
       "text": [
        "\n",
        "../../images/all/Howard_Smith\n",
        "../../images/all/Rand_Miller\n",
        "../../images/all/Tim_Robbins\n",
        "../../images/all/Charlie_Garner\n",
        "../../images/all/Katie_Wagner\n",
        "../../images/all/Billy_Sollie\n",
        "../../images/all/Joshua_Gracin"
       ]
      },
      {
       "output_type": "stream",
       "stream": "stdout",
       "text": [
        "\n",
        "../../images/all/Julio_Cesar_Franco\n",
        "../../images/all/Gary_Bauer\n",
        "../../images/all/Brett_Hull\n",
        "../../images/all/Princess_Elisabeth\n",
        "../../images/all/Brian_Schneider\n",
        "../../images/all/Sergei_Alexandrovitch_Ordzhonikidze"
       ]
      },
      {
       "output_type": "stream",
       "stream": "stdout",
       "text": [
        "\n",
        "../../images/all/Richard_Regenhard\n",
        "../../images/all/Gloria_Allred\n",
        "../../images/all/Steve_Avery\n",
        "../../images/all/Sophia_Loren\n",
        "../../images/all/Marc-Andre_Fleury\n",
        "../../images/all/Gary_Bergeron\n",
        "../../images/all/Tatsuya_Fuji"
       ]
      },
      {
       "output_type": "stream",
       "stream": "stdout",
       "text": [
        "\n",
        "../../images/all/Heidi_Klum\n",
        "../../images/all/Ibrahim_Rugova\n",
        "../../images/all/Ray_Bradbury\n",
        "../../images/all/Courtney_Love\n",
        "../../images/all/Sebastian_Saja"
       ]
      },
      {
       "output_type": "stream",
       "stream": "stdout",
       "text": [
        "\n",
        "../../images/all/Aron_Ralston\n",
        "../../images/all/Hayden_Panettiere\n",
        "../../images/all/Stanley_Tong\n",
        "../../images/all/Miles_Stewart"
       ]
      },
      {
       "output_type": "stream",
       "stream": "stdout",
       "text": [
        "\n",
        "../../images/all/Norio_Ohga\n",
        "../../images/all/Billy_Gilman\n",
        "../../images/all/Frank_Stallone\n",
        "../../images/all/Luis_Figo\n",
        "../../images/all/Jose_Luis_Rodriguez_Zapatero\n",
        "../../images/all/Elena_Tihomirova"
       ]
      },
      {
       "output_type": "stream",
       "stream": "stdout",
       "text": [
        "\n",
        "../../images/all/Mike_Alden\n",
        "../../images/all/Juan_Pablo_Montoya\n",
        "../../images/all/Robert_Altman\n",
        "../../images/all/Sun_Myung_Moon\n",
        "../../images/all/Compay_Segundo\n",
        "../../images/all/Eduardo_Chillida"
       ]
      },
      {
       "output_type": "stream",
       "stream": "stdout",
       "text": [
        "\n",
        "../../images/all/Vincent_Cianci_Jr\n",
        "../../images/all/Ronald_Reagan\n",
        "../../images/all/Hitoshi_Tanaka\n",
        "../../images/all/Sergei_Yastrzhembsky\n",
        "../../images/all/Amram_Mitzna\n",
        "../../images/all/Anna_Chicherova"
       ]
      },
      {
       "output_type": "stream",
       "stream": "stdout",
       "text": [
        "\n",
        "../../images/all/Maria_Conchita_Alonso\n",
        "../../images/all/Mohammed_Al-Douri\n",
        "../../images/all/Cindy_Margolis\n",
        "../../images/all/Taufik_Hidayat\n",
        "../../images/all/Tang_Jiaxuan\n",
        "../../images/all/Khalid_Qazi\n",
        "../../images/all/David_Dodge"
       ]
      },
      {
       "output_type": "stream",
       "stream": "stdout",
       "text": [
        "\n",
        "../../images/all/Akhmed_Zakayev\n",
        "../../images/all/Irfan_Ahmed\n",
        "../../images/all/Camryn_Manheim\n",
        "../../images/all/Bill_Curry\n",
        "../../images/all/David_Hasselhoff\n",
        "../../images/all/Peter_Fisher"
       ]
      },
      {
       "output_type": "stream",
       "stream": "stdout",
       "text": [
        "\n",
        "../../images/all/Leisel_Jones\n",
        "../../images/all/John_Kerry\n",
        "../../images/all/Katie_Smith\n",
        "../../images/all/Alma_Powell\n",
        "../../images/all/Mike_Bair\n",
        "../../images/all/Jean_Carnahan"
       ]
      },
      {
       "output_type": "stream",
       "stream": "stdout",
       "text": [
        "\n",
        "../../images/all/William_Pryor_Jr\n",
        "../../images/all/Jesper_Parnevik\n",
        "../../images/all/Celine_Dion\n",
        "../../images/all/Richard_Haass\n",
        "../../images/all/Sultan_Qaboos\n",
        "../../images/all/Ion_Iliescu"
       ]
      },
      {
       "output_type": "stream",
       "stream": "stdout",
       "text": [
        "\n",
        "../../images/all/Pham_Thi_Mai_Phuong\n",
        "../../images/all/Nina_Jacobson\n",
        "../../images/all/Sean_Patrick_Thomas\n",
        "../../images/all/Saoud_Al_Faisal\n",
        "../../images/all/Ted_Nolan\n",
        "../../images/all/Bob_Dole\n",
        "../../images/all/Hoda_Asfor"
       ]
      },
      {
       "output_type": "stream",
       "stream": "stdout",
       "text": [
        "\n",
        "../../images/all/Ricardo_Lagos\n",
        "../../images/all/Dan_Reeves\n",
        "../../images/all/Charles_Bell\n",
        "../../images/all/Tamara_Mowry\n",
        "../../images/all/Billy_Crawford\n",
        "../../images/all/Raja_Ibrahim"
       ]
      },
      {
       "output_type": "stream",
       "stream": "stdout",
       "text": [
        "\n",
        "../../images/all/Bart_Hendricks\n",
        "../../images/all/William_Ford_Jr\n",
        "../../images/all/Moby\n",
        "../../images/all/Edward_Kennedy\n",
        "../../images/all/Nick_Cassavetes\n",
        "../../images/all/Alicia_Hollowell\n",
        "../../images/all/Cyndi_Thompson"
       ]
      },
      {
       "output_type": "stream",
       "stream": "stdout",
       "text": [
        "\n",
        "../../images/all/Jan_Petersen\n",
        "../../images/all/David_Surrett\n",
        "../../images/all/Maggie_Cheung\n",
        "../../images/all/Nastassia_Kinski\n",
        "../../images/all/Curtis_Rodriguez\n",
        "../../images/all/Matthew_Perry"
       ]
      },
      {
       "output_type": "stream",
       "stream": "stdout",
       "text": [
        "\n",
        "../../images/all/Victoria_Beckham\n",
        "../../images/all/Kelsey_Grammer\n",
        "../../images/all/Eurico_Guterres\n",
        "../../images/all/Judy_Genshaft\n",
        "../../images/all/Tyler_Hamilton\n",
        "../../images/all/Amy_Brenneman\n",
        "../../images/all/Cecilia_Cheung"
       ]
      },
      {
       "output_type": "stream",
       "stream": "stdout",
       "text": [
        "\n",
        "../../images/all/Brian_Campbell\n",
        "../../images/all/Dario_Camuffo\n",
        "../../images/all/David_Canary\n",
        "../../images/all/Reggie_Sanders\n",
        "../../images/all/Jim_Beattie\n",
        "../../images/all/Queen_Elizabeth_II"
       ]
      },
      {
       "output_type": "stream",
       "stream": "stdout",
       "text": [
        "\n",
        "../../images/all/Bill_Gates\n",
        "../../images/all/Nancy_Demme\n",
        "../../images/all/Linda_Amicangioli\n",
        "../../images/all/Lynne_Slepian\n",
        "../../images/all/Michael_Friedman\n",
        "../../images/all/Lesley_Flood"
       ]
      },
      {
       "output_type": "stream",
       "stream": "stdout",
       "text": [
        "\n",
        "../../images/all/John_Franco\n",
        "../../images/all/Han_Sung_Joo\n",
        "../../images/all/Jia_Qinglin\n",
        "../../images/all/Jafar_Umar_Thalib\n",
        "../../images/all/Fred_Swan\n",
        "../../images/all/Andrew_Gilligan"
       ]
      },
      {
       "output_type": "stream",
       "stream": "stdout",
       "text": [
        "\n",
        "../../images/all/Kathleen_Glynn\n",
        "../../images/all/James_Meredeth\n",
        "../../images/all/Hideki_Matsui\n",
        "../../images/all/Sergio_Garcia\n",
        "../../images/all/Michael_Michele\n",
        "../../images/all/David_Zeplowitz"
       ]
      },
      {
       "output_type": "stream",
       "stream": "stdout",
       "text": [
        "\n",
        "../../images/all/Marina_Canetti\n",
        "../../images/all/Herb_Sendek\n",
        "../../images/all/Bono\n",
        "../../images/all/Graham_Bentley\n",
        "../../images/all/Roh_Moo-hyun\n",
        "../../images/all/MC_Hammer"
       ]
      },
      {
       "output_type": "stream",
       "stream": "stdout",
       "text": [
        "\n",
        "../../images/all/Jay_Rasulo\n",
        "../../images/all/Nick_Rahall\n",
        "../../images/all/Pascal_Quignard\n",
        "../../images/all/Sanjay_Chawla\n",
        "../../images/all/Princess_Stephanie"
       ]
      },
      {
       "output_type": "stream",
       "stream": "stdout",
       "text": [
        "\n",
        "../../images/all/Gene_Orza\n",
        "../../images/all/Suzie_McConnell_Serio\n",
        "../../images/all/Yasushi_Chimura\n",
        "../../images/all/Emilio_Botin\n",
        "../../images/all/Bernard_Giraudeau\n",
        "../../images/all/John_Danforth"
       ]
      },
      {
       "output_type": "stream",
       "stream": "stdout",
       "text": [
        "\n",
        "../../images/all/David_Caruso\n",
        "../../images/all/Tom_Foy\n",
        "../../images/all/Dule_Hill\n",
        "../../images/all/Andy_Warhol\n",
        "../../images/all/Anita_DeFrantz\n",
        "../../images/all/Brad_Pitt"
       ]
      },
      {
       "output_type": "stream",
       "stream": "stdout",
       "text": [
        "\n",
        "../../images/all/Charles_Moose\n",
        "../../images/all/Evander_Holyfield\n",
        "../../images/all/Gerald_Riley\n",
        "../../images/all/Alec_Baldwin\n",
        "../../images/all/Ben_Glisan\n",
        "../../images/all/Lenny_Kravitz"
       ]
      },
      {
       "output_type": "stream",
       "stream": "stdout",
       "text": [
        "\n",
        "../../images/all/Neil_Moritz\n",
        "../../images/all/Elin_Nordegren\n",
        "../../images/all/Raghad_Saddam_Hussein\n",
        "../../images/all/Steffi_Graf\n",
        "../../images/all/David_Duval\n",
        "../../images/all/Leszek_Miller"
       ]
      },
      {
       "output_type": "stream",
       "stream": "stdout",
       "text": [
        "\n",
        "../../images/all/Mona_Rishmawi\n",
        "../../images/all/John_Spencer\n",
        "../../images/all/Priyanka_Chopra\n",
        "../../images/all/Gary_Condit\n",
        "../../images/all/Gary_Carter"
       ]
      },
      {
       "output_type": "stream",
       "stream": "stdout",
       "text": [
        "\n",
        "../../images/all/Yasar_Yakis\n",
        "../../images/all/Liane_Janda\n",
        "../../images/all/Irina_Yatchenko\n",
        "../../images/all/Gong_Ruina\n",
        "../../images/all/Giovanny_Cordoba\n",
        "../../images/all/Sue_Johnston"
       ]
      },
      {
       "output_type": "stream",
       "stream": "stdout",
       "text": [
        "\n",
        "../../images/all/Carla_Moreno\n",
        "../../images/all/Tyra_Banks\n",
        "../../images/all/Natalia_Verbeke\n",
        "../../images/all/Ataollah_Mohajerani\n",
        "../../images/all/Jan_Pronk\n",
        "../../images/all/Kwon_Yang-sook"
       ]
      },
      {
       "output_type": "stream",
       "stream": "stdout",
       "text": [
        "\n",
        "../../images/all/Don_King\n",
        "../../images/all/Yishan_Zhang\n",
        "../../images/all/Wanda_Ilene_Barzee\n",
        "../../images/all/Chung_Mong-joon\n",
        "../../images/all/Edward_Egan"
       ]
      },
      {
       "output_type": "stream",
       "stream": "stdout",
       "text": [
        "\n",
        "../../images/all/Chris_Forsyth\n",
        "../../images/all/Shireen_Amir_Begum\n",
        "../../images/all/Laura_Bush\n",
        "../../images/all/Dave_Robertson\n",
        "../../images/all/Natalia_Motuziuk\n",
        "../../images/all/Kevin_Harvick"
       ]
      },
      {
       "output_type": "stream",
       "stream": "stdout",
       "text": [
        "\n",
        "../../images/all/Thomas_Mesereau_Jr\n",
        "../../images/all/Andrew_Caldecott\n",
        "../../images/all/Ashraf_Alasmar\n",
        "../../images/all/Muhammad_Saeed_al-Sahhaf\n",
        "../../images/all/Owen_Nolan\n",
        "../../images/all/Blas_Ople"
       ]
      },
      {
       "output_type": "stream",
       "stream": "stdout",
       "text": [
        "\n",
        "../../images/all/Henry_Hyde\n",
        "../../images/all/Billy_Bob_Thornton\n",
        "../../images/all/Carlo_Ancelotti\n",
        "../../images/all/David_Suazo\n",
        "../../images/all/Troy_Garity\n",
        "../../images/all/Azra_Akin"
       ]
      },
      {
       "output_type": "stream",
       "stream": "stdout",
       "text": [
        "\n",
        "../../images/all/Ron_Gonzales\n",
        "../../images/all/Jorge_Moreno\n",
        "../../images/all/Mike_Smith\n",
        "../../images/all/Elaine_Stritch\n",
        "../../images/all/Ahmed_Chalabi\n",
        "../../images/all/Wilfredo_Moreno"
       ]
      },
      {
       "output_type": "stream",
       "stream": "stdout",
       "text": [
        "\n",
        "../../images/all/Andre_Techine\n",
        "../../images/all/Sharon_Frey\n",
        "../../images/all/Charles_Chandler_IV\n",
        "../../images/all/Horace_Newcomb\n",
        "../../images/all/Pat_Summerall\n",
        "../../images/all/Julianne_Moore"
       ]
      },
      {
       "output_type": "stream",
       "stream": "stdout",
       "text": [
        "\n",
        "../../images/all/Martin_Verkerk\n",
        "../../images/all/Joan_Laporta\n",
        "../../images/all/Makiko_Tanaka\n",
        "../../images/all/Kyle_Shewfelt\n",
        "../../images/all/Dudley_Rogers\n",
        "../../images/all/David_McKiernan"
       ]
      },
      {
       "output_type": "stream",
       "stream": "stdout",
       "text": [
        "\n",
        "../../images/all/Glen_Sather\n",
        "../../images/all/Tatiana_Paus\n",
        "../../images/all/Mika_Hakkinen\n",
        "../../images/all/Jorge_Quiroga\n",
        "../../images/all/Marat_Safin\n",
        "../../images/all/Ronde_Barber\n",
        "../../images/all/Harrison_Ford"
       ]
      },
      {
       "output_type": "stream",
       "stream": "stdout",
       "text": [
        "\n",
        "../../images/all/Lee_Ann_Knight\n",
        "../../images/all/Bruna_Colosio\n",
        "../../images/all/Megawati_Sukarnoputri\n",
        "../../images/all/Phil_Bennett\n",
        "../../images/all/Haydar_Aliyev\n",
        "../../images/all/Tim_Welsh"
       ]
      },
      {
       "output_type": "stream",
       "stream": "stdout",
       "text": [
        "\n",
        "../../images/all/Solomon_Passy\n",
        "../../images/all/Mike_Slive\n",
        "../../images/all/Thomas_Wyman\n",
        "../../images/all/Jonathan_Tiomkin\n",
        "../../images/all/Maurice_Cheeks\n",
        "../../images/all/Eunice_Barber\n",
        "../../images/all/Gerald_Calabrese"
       ]
      },
      {
       "output_type": "stream",
       "stream": "stdout",
       "text": [
        "\n",
        "../../images/all/Christopher_Patten\n",
        "../../images/all/Anne_McLellan\n",
        "../../images/all/Mario_Vasquez_Rana\n",
        "../../images/all/Dolly_Parton\n",
        "../../images/all/Ain_Seppik\n",
        "../../images/all/Robin_Wright_Penn"
       ]
      },
      {
       "output_type": "stream",
       "stream": "stdout",
       "text": [
        "\n",
        "../../images/all/Kristin_Davis\n",
        "../../images/all/Brigitte_Boisselier\n",
        "../../images/all/Margie_Puente\n",
        "../../images/all/Mary_Descenza\n",
        "../../images/all/Tori_Amos\n",
        "../../images/all/Eddie_Compass\n",
        "../../images/all/Julie_Taymor"
       ]
      },
      {
       "output_type": "stream",
       "stream": "stdout",
       "text": [
        "\n",
        "../../images/all/Ben_Lee\n",
        "../../images/all/Jose_Dirceu\n",
        "../../images/all/Bill_Cartwright\n",
        "../../images/all/Zach_Safrin\n",
        "../../images/all/Miguel_Jimenez\n",
        "../../images/all/Ted_Washington"
       ]
      },
      {
       "output_type": "stream",
       "stream": "stdout",
       "text": [
        "\n",
        "../../images/all/Tommy_Robredo\n",
        "../../images/all/Leslie_Moonves\n",
        "../../images/all/Richard_Paul_Evans\n",
        "../../images/all/Paul_Wals\n",
        "../../images/all/James_Maguire\n",
        "../../images/all/Alex_Penelas\n",
        "../../images/all/Brian_Heidik"
       ]
      },
      {
       "output_type": "stream",
       "stream": "stdout",
       "text": [
        "\n",
        "../../images/all/Harbhajan_Singh\n",
        "../../images/all/Philip_Cummings\n",
        "../../images/all/Todd_Haynes\n",
        "../../images/all/Guillaume_Cannet\n",
        "../../images/all/Ekke_Hard_Forberg\n",
        "../../images/all/Alecos_Markides"
       ]
      },
      {
       "output_type": "stream",
       "stream": "stdout",
       "text": [
        "\n",
        "../../images/all/Kate_Moss\n",
        "../../images/all/Joan_Claybrook\n",
        "../../images/all/Ludwig_Ovalle\n",
        "../../images/all/Jeff_Feldman\n",
        "../../images/all/Robert_F_Kennedy_Jr\n",
        "../../images/all/Marlene_Weingartner"
       ]
      },
      {
       "output_type": "stream",
       "stream": "stdout",
       "text": [
        "\n",
        "../../images/all/Sven_Ottke\n",
        "../../images/all/Garth_Drabinsky\n",
        "../../images/all/Gerry_Parsky\n",
        "../../images/all/Marquier_Montano_Contreras\n",
        "../../images/all/Lee_Hoi-chang\n",
        "../../images/all/Tony_Shalhoub\n",
        "../../images/all/Angelina_Jolie"
       ]
      },
      {
       "output_type": "stream",
       "stream": "stdout",
       "text": [
        "\n",
        "../../images/all/Michael_Andretti\n",
        "../../images/all/Narayan_Singh_Pun\n",
        "../../images/all/Adam_Scott\n",
        "../../images/all/Diana_Taurasi\n",
        "../../images/all/Rachel_Hunter\n",
        "../../images/all/Ellen_MacArthur"
       ]
      },
      {
       "output_type": "stream",
       "stream": "stdout",
       "text": [
        "\n",
        "../../images/all/Jose_Canseco_Sr\n",
        "../../images/all/Nathalie_Baye\n",
        "../../images/all/Scott_Fawell\n",
        "../../images/all/Garry_Witherall\n",
        "../../images/all/Anthony_Rackauckas"
       ]
      },
      {
       "output_type": "stream",
       "stream": "stdout",
       "text": [
        "\n",
        "../../images/all/Mary_Lou_Retton\n",
        "../../images/all/Krishna_Bhadur_Mahara\n",
        "../../images/all/Emmanuelle_Jagodsinski\n",
        "../../images/all/Matt_Damon\n",
        "../../images/all/Shania_Twain\n",
        "../../images/all/Kenneth_Dam"
       ]
      },
      {
       "output_type": "stream",
       "stream": "stdout",
       "text": [
        "\n",
        "../../images/all/Dennis_Archer\n",
        "../../images/all/Julio_Iglesias_Jr\n",
        "../../images/all/Tom_Coverdale\n",
        "../../images/all/Herbie_Hancock\n",
        "../../images/all/Julie_Gerberding\n",
        "../../images/all/Princess_Maxima"
       ]
      },
      {
       "output_type": "stream",
       "stream": "stdout",
       "text": [
        "\n",
        "../../images/all/Joseph_Ralston\n",
        "../../images/all/Ramon_Santana\n",
        "../../images/all/Chan_Choi\n",
        "../../images/all/Sara_Silverman\n",
        "../../images/all/Conrad_Black"
       ]
      },
      {
       "output_type": "stream",
       "stream": "stdout",
       "text": [
        "\n",
        "../../images/all/Hana_Makhmalbaf\n",
        "../../images/all/Yoon_Young-kwan\n",
        "../../images/all/Roberto_Lavagna\n",
        "../../images/all/Stanley_McChrystal\n",
        "../../images/all/Prince_Willem-Alexander\n",
        "../../images/all/Olesya_Bonabarenko\n",
        "../../images/all/Valdas_Adamkus"
       ]
      },
      {
       "output_type": "stream",
       "stream": "stdout",
       "text": [
        "\n",
        "../../images/all/Kimberly_Stewart\n",
        "../../images/all/Mike_Price\n",
        "../../images/all/Salman_Khan\n",
        "../../images/all/Zico\n",
        "../../images/all/Gerhard_Schmid\n",
        "../../images/all/Faisal_Saleh_Hayat"
       ]
      },
      {
       "output_type": "stream",
       "stream": "stdout",
       "text": [
        "\n",
        "../../images/all/Christine_Arron\n",
        "../../images/all/Dai_Chul_Chyung\n",
        "../../images/all/Osmond_Smith\n",
        "../../images/all/Charles_Tannok\n",
        "../../images/all/Milan_Milutinovic\n",
        "../../images/all/Margaret_Hoelzer"
       ]
      },
      {
       "output_type": "stream",
       "stream": "stdout",
       "text": [
        "\n",
        "../../images/all/Lee_Yeo-jin\n",
        "../../images/all/Rafiq_Hariri\n",
        "../../images/all/Sandra_Day_OConner\n",
        "../../images/all/Carol_Williams\n",
        "../../images/all/Eva_Amurri\n",
        "../../images/all/Chanda_Rubin\n",
        "../../images/all/Warren_Granados"
       ]
      },
      {
       "output_type": "stream",
       "stream": "stdout",
       "text": [
        "\n",
        "../../images/all/Liv_Tyler\n",
        "../../images/all/Kobe_Bryant\n",
        "../../images/all/Katie_Harman\n",
        "../../images/all/Theo_Angelopoulos\n",
        "../../images/all/Christoph_Daum"
       ]
      },
      {
       "output_type": "stream",
       "stream": "stdout",
       "text": [
        "\n",
        "../../images/all/Andrew_Cuomo\n",
        "../../images/all/Wanda_de_la_Jesus\n",
        "../../images/all/Gloria_Trevi\n",
        "../../images/all/Gina_Centrello\n",
        "../../images/all/Rubens_Barrichello\n",
        "../../images/all/Raoul_Ruiz"
       ]
      },
      {
       "output_type": "stream",
       "stream": "stdout",
       "text": [
        "\n",
        "../../images/all/Leland_Chapman\n",
        "../../images/all/Mark_Mishkin\n",
        "../../images/all/Troy_Polamalu\n",
        "../../images/all/Queen_Latifah\n",
        "../../images/all/John_Walsh\n",
        "../../images/all/Penny_Lancaster"
       ]
      },
      {
       "output_type": "stream",
       "stream": "stdout",
       "text": [
        "\n",
        "../../images/all/William_Bulger\n",
        "../../images/all/Muhammad_Ibrahim_Bilal\n",
        "../../images/all/John_Herrington\n",
        "../../images/all/Franko_Simatovic\n",
        "../../images/all/Raul_Rivero\n",
        "../../images/all/Bill_Richardson\n",
        "../../images/all/Mauricio_Pochetino"
       ]
      },
      {
       "output_type": "stream",
       "stream": "stdout",
       "text": [
        "\n",
        "../../images/all/John_Elway\n",
        "../../images/all/Bonnie_Hunt\n",
        "../../images/all/Stefan_Koubek\n",
        "../../images/all/Guillermo_Coria\n",
        "../../images/all/Nicole_Hiltz\n",
        "../../images/all/Gilberto_Rodriguez_Orejuela"
       ]
      },
      {
       "output_type": "stream",
       "stream": "stdout",
       "text": [
        "\n",
        "../../images/all/Bill_Kollar\n",
        "../../images/all/Michael_Chang\n",
        "../../images/all/David_Howard\n",
        "../../images/all/Jose_Manuel_Durao_Barroso\n",
        "../../images/all/David_Dewayne_Williams\n",
        "../../images/all/Jeanette_Gray"
       ]
      },
      {
       "output_type": "stream",
       "stream": "stdout",
       "text": [
        "\n",
        "../../images/all/Will_Ofenheusle\n",
        "../../images/all/Jerry_Oliver\n",
        "../../images/all/Martin_Short\n",
        "../../images/all/Albrecht_Mentz"
       ]
      },
      {
       "output_type": "stream",
       "stream": "stdout",
       "text": [
        "\n",
        "../../images/all/George_Brumley_III\n",
        "../../images/all/Robert_Marshall\n",
        "../../images/all/Robert_Nardelli\n",
        "../../images/all/Mike_Martz\n",
        "../../images/all/Jason_Jennings\n",
        "../../images/all/Sabah_Al-Ahmad_Al-Jaber_Al-Sabah"
       ]
      },
      {
       "output_type": "stream",
       "stream": "stdout",
       "text": [
        "\n",
        "../../images/all/Fred_Funk\n",
        "../../images/all/Tzipora_Obziler\n",
        "../../images/all/Peter_Mullan\n",
        "../../images/all/Damon_Dash\n",
        "../../images/all/Richard_Palmer\n",
        "../../images/all/Jeffrey_Pfeffer"
       ]
      },
      {
       "output_type": "stream",
       "stream": "stdout",
       "text": [
        "\n",
        "../../images/all/Kim_Yong-il\n",
        "../../images/all/Tara_VanDerveer\n",
        "../../images/all/Phoenix_Chang\n",
        "../../images/all/Hanns_Schumacher\n",
        "../../images/all/Aaron_Patterson\n",
        "../../images/all/John_Lithgow"
       ]
      },
      {
       "output_type": "stream",
       "stream": "stdout",
       "text": [
        "\n",
        "../../images/all/Jane_Rooney\n",
        "../../images/all/Jamling_Norgay\n",
        "../../images/all/Takeshi_Kitano\n",
        "../../images/all/Angela_Bassett\n",
        "../../images/all/Brian_Weaver\n",
        "../../images/all/Mitchell_Swartz"
       ]
      },
      {
       "output_type": "stream",
       "stream": "stdout",
       "text": [
        "\n",
        "../../images/all/Nancy_Smith\n",
        "../../images/all/Queen_Rania\n",
        "../../images/all/Ismail_Cem\n",
        "../../images/all/Juergen_Chrobog\n",
        "../../images/all/Daryl_Parks\n",
        "../../images/all/Bob_Krueger"
       ]
      },
      {
       "output_type": "stream",
       "stream": "stdout",
       "text": [
        "\n",
        "../../images/all/Clay_Campbell\n",
        "../../images/all/Dave_Campo\n",
        "../../images/all/Guillermo_Monroy\n",
        "../../images/all/Joel_Todd\n",
        "../../images/all/Rosemarie_Stack\n",
        "../../images/all/William_Hurt"
       ]
      },
      {
       "output_type": "stream",
       "stream": "stdout",
       "text": [
        "\n",
        "../../images/all/Justin_Wilson\n",
        "../../images/all/Jules_Asner\n",
        "../../images/all/Lionel_Richie\n",
        "../../images/all/Jade_Jagger\n",
        "../../images/all/Noel_Forgeard\n",
        "../../images/all/Reyyan_Uzuner"
       ]
      },
      {
       "output_type": "stream",
       "stream": "stdout",
       "text": [
        "\n",
        "../../images/all/Dan_Monson\n",
        "../../images/all/Allan_Kemakeza\n",
        "../../images/all/Fredric_Seaman\n",
        "../../images/all/Paulo_Cesar_Pinheiro\n",
        "../../images/all/Ted_Christopher"
       ]
      },
      {
       "output_type": "stream",
       "stream": "stdout",
       "text": [
        "\n",
        "../../images/all/Christine_Baumgartner\n",
        "../../images/all/Richard_Hamilton\n",
        "../../images/all/Alvaro_Noboa\n",
        "../../images/all/Hal_Sellers\n",
        "../../images/all/Charmaine_Crooks\n",
        "../../images/all/Win_Aung"
       ]
      },
      {
       "output_type": "stream",
       "stream": "stdout",
       "text": [
        "\n",
        "../../images/all/Adrianna_Zuzic\n",
        "../../images/all/Pernilla_Bjorn\n",
        "../../images/all/Anthony_Lee_Johnson\n",
        "../../images/all/Patrick_Roy\n",
        "../../images/all/Keith_Lowen\n",
        "../../images/all/Yoshiyuki_Kamei"
       ]
      },
      {
       "output_type": "stream",
       "stream": "stdout",
       "text": [
        "\n",
        "../../images/all/Jeremy_Wotherspoon\n",
        "../../images/all/Ahmed_Qureia\n",
        "../../images/all/Wayne_Gretzky\n",
        "../../images/all/Eva_Marie_Saint\n",
        "../../images/all/Rick_Bragg\n",
        "../../images/all/Denis_Coderre\n",
        "../../images/all/Hartmut_Mehdorn"
       ]
      },
      {
       "output_type": "stream",
       "stream": "stdout",
       "text": [
        "\n",
        "../../images/all/James_Kopp\n",
        "../../images/all/Monique_Gagnon-Tremblay\n",
        "../../images/all/William_Genego\n",
        "../../images/all/Jose_Genoino\n",
        "../../images/all/Laurent_Gbagbo\n",
        "../../images/all/George_Voinovich\n",
        "../../images/all/Hosni_Mubarak"
       ]
      },
      {
       "output_type": "stream",
       "stream": "stdout",
       "text": [
        "\n",
        "../../images/all/David_Shayler\n",
        "../../images/all/Pauline_Landers\n",
        "../../images/all/Kirk_Franklin\n",
        "../../images/all/Justin_Marshall\n",
        "../../images/all/Peter_Rasmussen\n",
        "../../images/all/George_HW_Bush"
       ]
      },
      {
       "output_type": "stream",
       "stream": "stdout",
       "text": [
        "\n",
        "../../images/all/Luke_Walton\n",
        "../../images/all/Ray_Nagin\n",
        "../../images/all/Ishaq_Shahryar\n",
        "../../images/all/Anastasia_Kelesidou\n",
        "../../images/all/Jeanne_Moreau\n",
        "../../images/all/Al_Cardenas\n",
        "../../images/all/Yu_Shyi-kun"
       ]
      },
      {
       "output_type": "stream",
       "stream": "stdout",
       "text": [
        "\n",
        "../../images/all/Lord_Hutton\n",
        "../../images/all/Dominick_Dunne\n",
        "../../images/all/Keith_Lockhart\n",
        "../../images/all/Rogelio_Ramos\n",
        "../../images/all/Jennifer_Tilly\n",
        "../../images/all/E_Clay_Shaw"
       ]
      },
      {
       "output_type": "stream",
       "stream": "stdout",
       "text": [
        "\n",
        "../../images/all/Jamie_Lee_Curtis\n",
        "../../images/all/Larry_Coker\n",
        "../../images/all/Yasushi_Akashi\n",
        "../../images/all/Robert_Fico\n",
        "../../images/all/Chris_Matthews\n",
        "../../images/all/Carson_Daly"
       ]
      },
      {
       "output_type": "stream",
       "stream": "stdout",
       "text": [
        "\n",
        "../../images/all/Guillermo_Ortiz\n",
        "../../images/all/Daniel_Osorno\n",
        "../../images/all/Paula_Prentiss\n",
        "../../images/all/Joseph_Deiss\n",
        "../../images/all/Chris_Swecker\n",
        "../../images/all/Ed_Rendell"
       ]
      },
      {
       "output_type": "stream",
       "stream": "stdout",
       "text": [
        "\n",
        "../../images/all/Dick_Bennett\n",
        "../../images/all/Dorothy_Loudon\n",
        "../../images/all/Hamad_Bin_Isa_al-Khalifa\n",
        "../../images/all/Larry_Brown\n",
        "../../images/all/Ricky_Barnes"
       ]
      },
      {
       "output_type": "stream",
       "stream": "stdout",
       "text": [
        "\n",
        "../../images/all/Larry_Anderson\n",
        "../../images/all/Mae_Jemison\n",
        "../../images/all/Gary_Coleman\n",
        "../../images/all/Randy_Johnson\n",
        "../../images/all/Christiane_Wulff\n",
        "../../images/all/Robert_Mueller"
       ]
      },
      {
       "output_type": "stream",
       "stream": "stdout",
       "text": [
        "\n",
        "../../images/all/Alicia_Molik\n",
        "../../images/all/Walter_Mondale\n",
        "../../images/all/Arnie_Boehm\n",
        "../../images/all/Jennifer_Lopez\n",
        "../../images/all/Hamid_Efendi\n",
        "../../images/all/Riccardo_Muti\n",
        "../../images/all/Desmon_Farmer"
       ]
      },
      {
       "output_type": "stream",
       "stream": "stdout",
       "text": [
        "\n",
        "../../images/all/Cynthia_Rowley\n",
        "../../images/all/Jaime_Pressly\n",
        "../../images/all/Glenn_Tilton\n",
        "../../images/all/Alex_Cejka\n",
        "../../images/all/Steven_Van_Zandt"
       ]
      },
      {
       "output_type": "stream",
       "stream": "stdout",
       "text": [
        "\n",
        "../../images/all/Joe_Cocker\n",
        "../../images/all/Taufik_Kiemas\n",
        "../../images/all/Michael_DeMinico\n",
        "../../images/all/Alberta_Lee\n",
        "../../images/all/Darryl_McDaniels\n",
        "../../images/all/Juan_Manuel_Marquez"
       ]
      },
      {
       "output_type": "stream",
       "stream": "stdout",
       "text": [
        "\n",
        "../../images/all/Mike_Matheny\n",
        "../../images/all/Ali_Abdullah_Saleh\n",
        "../../images/all/Tracee_Treadwell\n",
        "../../images/all/William_Bratton\n",
        "../../images/all/Michalis_Chrisohoides\n",
        "../../images/all/Andrei_Konchalovsky\n",
        "../../images/all/Dunn_Lampton"
       ]
      },
      {
       "output_type": "stream",
       "stream": "stdout",
       "text": [
        "\n",
        "../../images/all/Emmanuel_Filiberto\n",
        "../../images/all/Joe_Mendes\n",
        "../../images/all/Laura_Hernandez\n",
        "../../images/all/Sarah_Wynter\n",
        "../../images/all/Lance_Bass"
       ]
      },
      {
       "output_type": "stream",
       "stream": "stdout",
       "text": [
        "\n",
        "../../images/all/Geoff_Hoon\n",
        "../../images/all/Uday_Hussein\n",
        "../../images/all/Matthew_During\n",
        "../../images/all/Emmit_Smith\n",
        "../../images/all/Li_Zhaoxing\n",
        "../../images/all/Dwayne_Wade"
       ]
      },
      {
       "output_type": "stream",
       "stream": "stdout",
       "text": [
        "\n",
        "../../images/all/Margaret_Thatcher\n",
        "../../images/all/Dick_Vermeil\n",
        "../../images/all/Ed_Mekertichian\n",
        "../../images/all/Tab_Baldwin\n",
        "../../images/all/Brandon_Inge\n",
        "../../images/all/James_Williams"
       ]
      },
      {
       "output_type": "stream",
       "stream": "stdout",
       "text": [
        "\n",
        "../../images/all/Abid_Hamid_Mahmud_Al-Tikriti\n",
        "../../images/all/Don_Meredith\n",
        "../../images/all/Frank_Lautenberg\n",
        "../../images/all/Herman_Moore\n",
        "../../images/all/Roberta_Combs"
       ]
      },
      {
       "output_type": "stream",
       "stream": "stdout",
       "text": [
        "\n",
        "../../images/all/Atom_Egoyan\n",
        "../../images/all/Bruce_Weber\n",
        "../../images/all/James_Gandolfini\n",
        "../../images/all/Simona_Hradil\n",
        "../../images/all/Alyse_Beaupre"
       ]
      },
      {
       "output_type": "stream",
       "stream": "stdout",
       "text": [
        "\n",
        "../../images/all/William_Murabito\n",
        "../../images/all/Sergio_Castellitto\n",
        "../../images/all/Jim_Taylor\n",
        "../../images/all/Monica_Seles\n",
        "../../images/all/Mary_Frances_Seiter\n",
        "../../images/all/Thomas_Gottschalk\n",
        "../../images/all/Geoffrey_Rush"
       ]
      },
      {
       "output_type": "stream",
       "stream": "stdout",
       "text": [
        "\n",
        "../../images/all/Ben_Davis\n",
        "../../images/all/Chris_Pronger\n",
        "../../images/all/Valery_Giscard_dEstaing\n",
        "../../images/all/Ernie_Preate\n",
        "../../images/all/Beth_Jones\n",
        "../../images/all/Daryl_Smith"
       ]
      },
      {
       "output_type": "stream",
       "stream": "stdout",
       "text": [
        "\n",
        "../../images/all/Mary_Lou_Markakis\n",
        "../../images/all/Meirion_Evans\n",
        "../../images/all/Anil_Ramsook\n",
        "../../images/all/Noah_Wyle\n",
        "../../images/all/Christian_Gimenez"
       ]
      },
      {
       "output_type": "stream",
       "stream": "stdout",
       "text": [
        "\n",
        "../../images/all/Linda_Ham\n",
        "../../images/all/Larry_Pleau\n",
        "../../images/all/Jane_Russell\n",
        "../../images/all/Mahdi_Al_Bassam\n",
        "../../images/all/George_Papandreou\n",
        "../../images/all/Amy_Pascal\n",
        "../../images/all/Aby_Har-Even\n",
        "../../images/all/Dalai_Lama"
       ]
      },
      {
       "output_type": "stream",
       "stream": "stdout",
       "text": [
        "\n",
        "../../images/all/Madeleine_Webber\n",
        "../../images/all/Kurt_Schottenheimer\n",
        "../../images/all/Alexandra_Pelosi\n",
        "../../images/all/Jose_Serra\n",
        "../../images/all/Jon_Gruden\n",
        "../../images/all/Jeane_Kirkpatrick"
       ]
      },
      {
       "output_type": "stream",
       "stream": "stdout",
       "text": [
        "\n",
        "../../images/all/Dan_Bylsma\n",
        "../../images/all/Nestor_Kirchner\n",
        "../../images/all/Daniel_Rouse\n",
        "../../images/all/Patricia_Medina\n",
        "../../images/all/Gary_Gero"
       ]
      },
      {
       "output_type": "stream",
       "stream": "stdout",
       "text": [
        "\n",
        "../../images/all/Daniel_Darnell\n",
        "../../images/all/Donald_Pettit\n",
        "../../images/all/Julio_Rossi\n",
        "../../images/all/Ellen_Martin\n",
        "../../images/all/Bill_Herrion\n",
        "../../images/all/Hans_Eichel"
       ]
      },
      {
       "output_type": "stream",
       "stream": "stdout",
       "text": [
        "\n",
        "../../images/all/Paek_Nam_Sun\n",
        "../../images/all/Nicholoas_DiMarzio\n",
        "../../images/all/Jen_Bice\n",
        "../../images/all/Turner_Gill\n",
        "../../images/all/Rod_Jong-il\n",
        "../../images/all/Marc_Bulger"
       ]
      },
      {
       "output_type": "stream",
       "stream": "stdout",
       "text": [
        "\n",
        "../../images/all/Kirsten_Gilham\n",
        "../../images/all/Muammar_Gaddafi\n",
        "../../images/all/Wim_Duisenberg\n",
        "../../images/all/Michael_Caine\n",
        "../../images/all/Richard_Reid\n",
        "../../images/all/Jean-David_Levitte\n",
        "../../images/all/Oscar_Bolanos"
       ]
      },
      {
       "output_type": "stream",
       "stream": "stdout",
       "text": [
        "\n",
        "../../images/all/James_Becker\n",
        "../../images/all/Josh_Kronfeld\n",
        "../../images/all/Qazi_Afzal\n",
        "../../images/all/Mikulas_Dzurinda\n",
        "../../images/all/Lennox_Lewis\n",
        "../../images/all/Lucio_Gutierrez"
       ]
      },
      {
       "output_type": "stream",
       "stream": "stdout",
       "text": [
        "\n",
        "../../images/all/Jorma_Huhtala\n",
        "../../images/all/Carlos_Bianchi\n",
        "../../images/all/Frank_Griswold\n",
        "../../images/all/Joe_Leonard\n",
        "../../images/all/Randy_Travis"
       ]
      },
      {
       "output_type": "stream",
       "stream": "stdout",
       "text": [
        "\n",
        "../../images/all/Duncan_Fletcher\n",
        "../../images/all/James_Hill\n",
        "../../images/all/Jorge_Marquez-Ruarte\n",
        "../../images/all/Pierce_Brosnan\n",
        "../../images/all/Paula_Zahn\n",
        "../../images/all/Ciaran_Hinds"
       ]
      },
      {
       "output_type": "stream",
       "stream": "stdout",
       "text": [
        "\n",
        "../../images/all/Elizabeth_Berkeley\n",
        "../../images/all/Sananda_Maitreya\n",
        "../../images/all/Charles_Holzner\n",
        "../../images/all/Aicha_El_Ouafi\n",
        "../../images/all/Jan_Bjoerklund\n",
        "../../images/all/Momir_Nikolic"
       ]
      },
      {
       "output_type": "stream",
       "stream": "stdout",
       "text": [
        "\n",
        "../../images/all/Brenda_van_Dam\n",
        "../../images/all/Larry_Bowa\n",
        "../../images/all/Randy_Dryer\n",
        "../../images/all/Casy_Preslar\n",
        "../../images/all/Valentino_Rossi\n",
        "../../images/all/Princess_Anne"
       ]
      },
      {
       "output_type": "stream",
       "stream": "stdout",
       "text": [
        "\n",
        "../../images/all/Kent_Robinson\n",
        "../../images/all/Ivan_Stambolic\n",
        "../../images/all/Prince_William\n",
        "../../images/all/Nicole_Parker\n",
        "../../images/all/Regina_Ip"
       ]
      },
      {
       "output_type": "stream",
       "stream": "stdout",
       "text": [
        "\n",
        "../../images/all/Kate_Burton\n",
        "../../images/all/Tex_Ritter\n",
        "../../images/all/Brian_Griese\n",
        "../../images/all/Gunilla_Backman\n",
        "../../images/all/Cristina_Torrens_Valero\n",
        "../../images/all/Steve_Karsay"
       ]
      },
      {
       "output_type": "stream",
       "stream": "stdout",
       "text": [
        "\n",
        "../../images/all/Zurab_Tsereteli\n",
        "../../images/all/Phil_McGraw\n",
        "../../images/all/Alex_Ferguson\n",
        "../../images/all/Patricia_Johnson\n",
        "../../images/all/Mesut_Yilmaz\n",
        "../../images/all/Graciano_Rocchigiani"
       ]
      },
      {
       "output_type": "stream",
       "stream": "stdout",
       "text": [
        "\n",
        "../../images/all/Jong_Thae_Hwa\n",
        "../../images/all/Michael_Leavitt\n",
        "../../images/all/Brian_Cashman\n",
        "../../images/all/Paul_Crake\n",
        "../../images/all/Joe_Dumars\n",
        "../../images/all/Phillipe_Comtois\n",
        "../../images/all/Paul_Desmarais"
       ]
      },
      {
       "output_type": "stream",
       "stream": "stdout",
       "text": [
        "\n",
        "../../images/all/Nicholas_Byron\n",
        "../../images/all/Vyacheslav_Fetisov\n",
        "../../images/all/Donald_Keck\n",
        "../../images/all/Isabelle_Huppert\n",
        "../../images/all/Augusto_Pinochet\n",
        "../../images/all/Bob_Graham"
       ]
      },
      {
       "output_type": "stream",
       "stream": "stdout",
       "text": [
        "\n",
        "../../images/all/Sung_Hong_Choi\n",
        "../../images/all/Maria_Guida\n",
        "../../images/all/Doris_Roberts\n",
        "../../images/all/Karen_Mok\n",
        "../../images/all/Se_Hyuk_Joo\n",
        "../../images/all/Toutai_Kefu"
       ]
      },
      {
       "output_type": "stream",
       "stream": "stdout",
       "text": [
        "\n",
        "../../images/all/Dominique_de_Villepin\n",
        "../../images/all/Jacques_Chirac\n",
        "../../images/all/Ted_Costa\n",
        "../../images/all/Patty_Schnyder\n",
        "../../images/all/Edina_Batar"
       ]
      },
      {
       "output_type": "stream",
       "stream": "stdout",
       "text": [
        "\n",
        "../../images/all/Martin_Rodriguez\n",
        "../../images/all/Thabo_Mbeki\n",
        "../../images/all/John_Philip_Elkann\n",
        "../../images/all/Randy_Jackson\n",
        "../../images/all/Debbie_Allen"
       ]
      },
      {
       "output_type": "stream",
       "stream": "stdout",
       "text": [
        "\n",
        "../../images/all/Stephen_Webster\n",
        "../../images/all/Dagmar_Dunlevy\n",
        "../../images/all/Davis_Love_III\n",
        "../../images/all/Janet_Ecker\n",
        "../../images/all/Princess_Victoria\n",
        "../../images/all/Brandon_Boyd"
       ]
      },
      {
       "output_type": "stream",
       "stream": "stdout",
       "text": [
        "\n",
        "../../images/all/Kurt_Thomas\n",
        "../../images/all/Valerie_Harper\n",
        "../../images/all/Manuel_Llorente\n",
        "../../images/all/Ernie_Els\n",
        "../../images/all/Harvey_Fierstein\n",
        "../../images/all/Serena_Karlan"
       ]
      },
      {
       "output_type": "stream",
       "stream": "stdout",
       "text": [
        "\n",
        "../../images/all/Gregory_Peck\n",
        "../../images/all/Bela_Karolyi\n",
        "../../images/all/Tom_OBrien\n",
        "../../images/all/Christopher_Walken\n",
        "../../images/all/Alex_Wallau"
       ]
      },
      {
       "output_type": "stream",
       "stream": "stdout",
       "text": [
        "\n",
        "../../images/all/OJ_Simpson\n",
        "../../images/all/Hashan_Tillakaratne\n",
        "../../images/all/Biljana_Plavsic\n",
        "../../images/all/Lori_Berenson\n",
        "../../images/all/Vanessa_Williams\n",
        "../../images/all/Kim_Hong-up"
       ]
      },
      {
       "output_type": "stream",
       "stream": "stdout",
       "text": [
        "\n",
        "../../images/all/Harold_Brown\n",
        "../../images/all/Himmler_Rebu\n",
        "../../images/all/Carol_Moseley_Braun\n",
        "../../images/all/Enrique_Bolanos\n",
        "../../images/all/Tomas_Enge\n",
        "../../images/all/Alimzhan_Tokhtakhounov"
       ]
      },
      {
       "output_type": "stream",
       "stream": "stdout",
       "text": [
        "\n",
        "../../images/all/Sally_Clark\n",
        "../../images/all/Patsy_Mink\n",
        "../../images/all/Steven_Kinlock\n",
        "../../images/all/Bruce_Willis\n",
        "../../images/all/Pedro_Mahecha\n",
        "../../images/all/Marco_Antonio_Barrera"
       ]
      },
      {
       "output_type": "stream",
       "stream": "stdout",
       "text": [
        "\n",
        "../../images/all/Lucia_Kenny_Anthony\n",
        "../../images/all/Blythe_Danner\n",
        "../../images/all/Anna_Faris\n",
        "../../images/all/Vanessa_Laine\n",
        "../../images/all/Nancy_Sinatra"
       ]
      },
      {
       "output_type": "stream",
       "stream": "stdout",
       "text": [
        "\n",
        "../../images/all/Chris_Simon\n",
        "../../images/all/Elizabeth_Taylor\n",
        "../../images/all/Shaun_Pollock\n",
        "../../images/all/Juan_Valencia_Osorio\n",
        "../../images/all/Sean_Townsend\n",
        "../../images/all/Hama_Arba_Diallo"
       ]
      },
      {
       "output_type": "stream",
       "stream": "stdout",
       "text": [
        "\n",
        "../../images/all/Peter_Medgyessy\n",
        "../../images/all/Eric_Rosser\n",
        "../../images/all/TA_McLendon\n",
        "../../images/all/Ashraf_Ghani\n",
        "../../images/all/Sergei_Ivanov\n",
        "../../images/all/Erin_Hershey_Presley"
       ]
      },
      {
       "output_type": "stream",
       "stream": "stdout",
       "text": [
        "\n",
        "../../images/all/James_Spalding\n",
        "../../images/all/Maurice_Papon\n",
        "../../images/all/Gregory_Hines\n",
        "../../images/all/Jaromir_Jagr\n",
        "../../images/all/Thomas_Ulrich"
       ]
      },
      {
       "output_type": "stream",
       "stream": "stdout",
       "text": [
        "\n",
        "../../images/all/Percy_Gibson\n",
        "../../images/all/Angelo_Genova\n",
        "../../images/all/John_Burnett\n",
        "../../images/all/Abner_Martinez\n",
        "../../images/all/Suzanne_Gaudet\n",
        "../../images/all/James_Baker\n",
        "../../images/all/Judy_Locy"
       ]
      },
      {
       "output_type": "stream",
       "stream": "stdout",
       "text": [
        "\n",
        "../../images/all/Nathan_Smith\n",
        "../../images/all/Princess_Aiko\n",
        "../../images/all/Kaye_Young\n",
        "../../images/all/Derian_Hatcher\n",
        "../../images/all/Brandon_Fails\n",
        "../../images/all/Mike_Tice"
       ]
      },
      {
       "output_type": "stream",
       "stream": "stdout",
       "text": [
        "\n",
        "../../images/all/Hushiar_Zebari\n",
        "../../images/all/Shirley_Jones\n",
        "../../images/all/Barbara_De_Brun\n",
        "../../images/all/Brian_Pavlich\n",
        "../../images/all/Steve_Shiver\n",
        "../../images/all/Claire_Danes"
       ]
      },
      {
       "output_type": "stream",
       "stream": "stdout",
       "text": [
        "\n",
        "../../images/all/Salma_Hayek\n",
        "../../images/all/Beth_Blough\n",
        "../../images/all/Kathryn_Morris\n",
        "../../images/all/Anna_Jones\n",
        "../../images/all/Robert_Durst\n",
        "../../images/all/Rob_Lowe"
       ]
      },
      {
       "output_type": "stream",
       "stream": "stdout",
       "text": [
        "\n",
        "../../images/all/Imam_Samudra\n",
        "../../images/all/Reginald_Hudlin\n",
        "../../images/all/Edward_Johnson\n",
        "../../images/all/Ronald_Post\n",
        "../../images/all/Brent_Coles\n",
        "../../images/all/Jim_Tressel"
       ]
      },
      {
       "output_type": "stream",
       "stream": "stdout",
       "text": [
        "\n",
        "../../images/all/Buford_Blount\n",
        "../../images/all/Lindy_Ruff\n",
        "../../images/all/Janez_Drnovsek\n",
        "../../images/all/Cristiano_da_Matta\n",
        "../../images/all/Qazi_Hussain_Ahmed"
       ]
      },
      {
       "output_type": "stream",
       "stream": "stdout",
       "text": [
        "\n",
        "../../images/all/Moshe_Katsav\n",
        "../../images/all/Shinzo_Abe\n",
        "../../images/all/Jesus_Cardenal\n",
        "../../images/all/Leonid_Kuchma\n",
        "../../images/all/Mariana_Pollack\n",
        "../../images/all/Rick_Lu"
       ]
      },
      {
       "output_type": "stream",
       "stream": "stdout",
       "text": [
        "\n",
        "../../images/all/Sandra_Milo\n",
        "../../images/all/John_Richardson\n",
        "../../images/all/Edward_Norton\n",
        "../../images/all/Joe_Nichols\n",
        "../../images/all/Gustavo_Kuerten\n",
        "../../images/all/Chip_Burrus"
       ]
      },
      {
       "output_type": "stream",
       "stream": "stdout",
       "text": [
        "\n",
        "../../images/all/Roy_Chaderton\n",
        "../../images/all/Roger_Federer\n",
        "../../images/all/Peri_Gilpin\n",
        "../../images/all/Dan_Snyder\n",
        "../../images/all/Chris_Moore\n",
        "../../images/all/Frederick_Madden"
       ]
      },
      {
       "output_type": "stream",
       "stream": "stdout",
       "text": [
        "\n",
        "../../images/all/Dino_Risi\n",
        "../../images/all/Dave_Odom\n",
        "../../images/all/Dick_Armey\n",
        "../../images/all/Charlotte_Casiraghi\n",
        "../../images/all/Sadam_Hassan\n",
        "../../images/all/Mark_Dacey"
       ]
      },
      {
       "output_type": "stream",
       "stream": "stdout",
       "text": [
        "\n",
        "../../images/all/Sidney_Kimmel\n",
        "../../images/all/John_Norquist\n",
        "../../images/all/William_Nessen\n",
        "../../images/all/Anzori_Kikalishvili\n",
        "../../images/all/John_Jones\n",
        "../../images/all/Dale_Earnhardt_Jr\n",
        "../../images/all/Elizabeth_Hill"
       ]
      },
      {
       "output_type": "stream",
       "stream": "stdout",
       "text": [
        "\n",
        "../../images/all/Jon_Kitna\n",
        "../../images/all/Richard_Virenque\n",
        "../../images/all/Tim_Conway\n",
        "../../images/all/Dennis_Erickson\n",
        "../../images/all/Enrique_Oliu"
       ]
      },
      {
       "output_type": "stream",
       "stream": "stdout",
       "text": [
        "\n",
        "../../images/all/David_Brown\n",
        "../../images/all/Hans_Blix\n",
        "../../images/all/Daniel_Barenboim\n",
        "../../images/all/Patricia_Phillips\n",
        "../../images/all/Daryl_Hannah\n",
        "../../images/all/Elisabeth_Schumacher"
       ]
      },
      {
       "output_type": "stream",
       "stream": "stdout",
       "text": [
        "\n",
        "../../images/all/Keith_Foulke\n",
        "../../images/all/Yannos_Papantoniou\n",
        "../../images/all/Jodie_Henry\n",
        "../../images/all/Astrid_Eyzaguirre\n",
        "../../images/all/Tonino_Guerra\n",
        "../../images/all/Park_Na-kyong"
       ]
      },
      {
       "output_type": "stream",
       "stream": "stdout",
       "text": [
        "\n",
        "../../images/all/Charles_Taylor\n",
        "../../images/all/Ismail_Abu_Shanab\n",
        "../../images/all/Jan_Peter_Balkenende\n",
        "../../images/all/Vladimir_Ustinov\n",
        "../../images/all/John_Wayne\n",
        "../../images/all/Bianca_Jagger"
       ]
      },
      {
       "output_type": "stream",
       "stream": "stdout",
       "text": [
        "\n",
        "../../images/all/Jim_Leach\n",
        "../../images/all/Prince_Harry\n",
        "../../images/all/Peter_Gabriel\n",
        "../../images/all/Jennifer_Capriati"
       ]
      },
      {
       "output_type": "stream",
       "stream": "stdout",
       "text": [
        "\n",
        "../../images/all/Mother_Teresa\n",
        "../../images/all/Carlos_Iturgaitz\n",
        "../../images/all/Prince_Felipe\n",
        "../../images/all/Eric_Ryan_Donnelly\n",
        "../../images/all/John_F_Kennedy_Jr\n",
        "../../images/all/Edouard_Michelin\n",
        "../../images/all/Kellie_Coffey"
       ]
      },
      {
       "output_type": "stream",
       "stream": "stdout",
       "text": [
        "\n",
        "../../images/all/Arnoldo_Aleman\n",
        "../../images/all/Vladimir_Golovlyov\n",
        "../../images/all/Rob_Niedermayer\n",
        "../../images/all/Warren_Beatty\n",
        "../../images/all/Joaquim_Rodriguez"
       ]
      },
      {
       "output_type": "stream",
       "stream": "stdout",
       "text": [
        "\n",
        "../../images/all/Kim_Cattrall\n",
        "../../images/all/Tommy_Lasorda\n",
        "../../images/all/Carey_Lowell\n",
        "../../images/all/Keith_Osik\n",
        "../../images/all/Ximena_Bohorquez\n",
        "../../images/all/Carlos_Barragan"
       ]
      },
      {
       "output_type": "stream",
       "stream": "stdout",
       "text": [
        "\n",
        "../../images/all/Phil_Morris\n",
        "../../images/all/Rocco_Buttiglione\n",
        "../../images/all/Fujio_Cho\n",
        "../../images/all/George_Blaney\n",
        "../../images/all/Cesar_Maia\n",
        "../../images/all/Arnold_Schwarzenegger\n",
        "../../images/all/Dionigi_Tettamanzi"
       ]
      },
      {
       "output_type": "stream",
       "stream": "stdout",
       "text": [
        "\n",
        "../../images/all/Gavyn_Arthur\n",
        "../../images/all/Michel_Kratochvil\n",
        "../../images/all/Dick_Smothers\n",
        "../../images/all/Miguel_Juarez_Perez\n",
        "../../images/all/Barrett_Jackman\n",
        "../../images/all/Calvin_Joseph_Coleman"
       ]
      },
      {
       "output_type": "stream",
       "stream": "stdout",
       "text": [
        "\n",
        "../../images/all/Mack_Brown\n",
        "../../images/all/Deb_Santos\n",
        "../../images/all/Hun_Sen\n",
        "../../images/all/Akbar_Hashemi_Rafsanjani\n",
        "../../images/all/Paris_Hilton"
       ]
      },
      {
       "output_type": "stream",
       "stream": "stdout",
       "text": [
        "\n",
        "../../images/all/James_Kirtley\n",
        "../../images/all/Mohamed_Hammam\n",
        "../../images/all/Sean_Combs\n",
        "../../images/all/Elizabeth_Shue\n",
        "../../images/all/Gwyneth_Paltrow\n",
        "../../images/all/Patricia_Wartusch"
       ]
      },
      {
       "output_type": "stream",
       "stream": "stdout",
       "text": [
        "\n",
        "../../images/all/Claire_De_Gryse\n",
        "../../images/all/Marcio_de_Souza\n",
        "../../images/all/Andrea_Bocelli\n"
       ]
      }
     ],
     "prompt_number": 34
    },
    {
     "cell_type": "code",
     "collapsed": false,
     "input": [],
     "language": "python",
     "metadata": {},
     "outputs": [],
     "prompt_number": 10
    },
    {
     "cell_type": "code",
     "collapsed": false,
     "input": [],
     "language": "python",
     "metadata": {},
     "outputs": []
    }
   ],
   "metadata": {}
  }
 ]
}
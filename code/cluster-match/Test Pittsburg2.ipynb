{
 "metadata": {
  "name": "Test Pittsburg2"
 },
 "nbformat": 3,
 "nbformat_minor": 0,
 "worksheets": [
  {
   "cells": [
    {
     "cell_type": "code",
     "collapsed": false,
     "input": [
      "#Stupid hack to load files from sibling dir\n",
      "import sys; import os\n",
      "sys.path.insert(0, os.path.abspath('..'))\n",
      "\n",
      "%load_ext autoreload\n",
      "%autoreload 2"
     ],
     "language": "python",
     "metadata": {},
     "outputs": [],
     "prompt_number": 67
    },
    {
     "cell_type": "code",
     "collapsed": false,
     "input": [
      "import fnmatch\n",
      "import os\n",
      "import matching\n",
      "import weightMatrix\n",
      "import display\n",
      "import itertools"
     ],
     "language": "python",
     "metadata": {},
     "outputs": [],
     "prompt_number": 68
    },
    {
     "cell_type": "code",
     "collapsed": false,
     "input": [
      "dt = 5"
     ],
     "language": "python",
     "metadata": {},
     "outputs": [],
     "prompt_number": 69
    },
    {
     "cell_type": "code",
     "collapsed": false,
     "input": [
      "# Load all files\n",
      "def getImagePairs(directory) :\n",
      "    dir_path = \"../../images/testsets/%s/\" % directory\n",
      "    pairs = [dir_path + p for p in os.listdir(dir_path) if len(p) <= 6]\n",
      "    homographies = [matching.getHomography(p) for p in pairs]\n",
      "    return [([p + \"_1.jpg\", p + \"_2.jpg\"], h) for (p,h) in zip(pairs, homographies)]"
     ],
     "language": "python",
     "metadata": {},
     "outputs": [],
     "prompt_number": 70
    },
    {
     "cell_type": "code",
     "collapsed": false,
     "input": [
      "def matchFolder(imagePairs, match_fun) :\n",
      "\n",
      "    # Get matches\n",
      "    matches_t, distances_t, distances_distinct_t = zip(*[match_fun(p, h) for p, h in imagePairs])\n",
      "    \n",
      "    #print(matches_distinct)\n",
      "    distances = list(itertools.chain.from_iterable(distances_t))\n",
      "    distances_distinct = list(itertools.chain.from_iterable(distances_distinct_t))\n",
      "    \n",
      "    # display result\n",
      "    display.distHist(distances, dt, distances_distinct)\n",
      "    \n",
      "    return distances"
     ],
     "language": "python",
     "metadata": {},
     "outputs": [],
     "prompt_number": 71
    },
    {
     "cell_type": "code",
     "collapsed": false,
     "input": [
      "def clusterMatchBRIEF(paths, homography) :\n",
      "    return matching.testMatch(\n",
      "        paths, \n",
      "        homography, \n",
      "        matching.clusterMatch,\n",
      "        verbose = False,\n",
      "        options = {\n",
      "            \"prune_fun\" : weightMatrix.pruneTreshold, \n",
      "            \"prune_limit\" : 3,\n",
      "            \"min_edges\": 1,\n",
      "            \"min_coherence\" : 0.02,\n",
      "            \"verbose\" : False,\n",
      "            \"prune\" : False,\n",
      "            \"split_limit\" : 10,\n",
      "            \"cluster_prune_limit\" : 1.5,\n",
      "            \"distance_treshold\" : dt,\n",
      "            \"descriptor_type\" : \"BRIEF\",\n",
      "            \"keypoint_type\" : \"ORB\",\n",
      "        })"
     ],
     "language": "python",
     "metadata": {},
     "outputs": [],
     "prompt_number": 72
    },
    {
     "cell_type": "code",
     "collapsed": false,
     "input": [
      "def clusterMatchSIFT(paths, homography) :\n",
      "    return matching.testMatch(\n",
      "        paths, \n",
      "        homography, \n",
      "        matching.clusterMatch,\n",
      "        verbose = False,\n",
      "        options = {\n",
      "            \"prune_fun\" : weightMatrix.pruneRows, \n",
      "            \"prune_limit\" : 0.1,\n",
      "            \"min_edges\": 1,\n",
      "            \"min_coherence\" : 0.3,\n",
      "            \"verbose\" : False,\n",
      "            \"prune\" : False,\n",
      "            \"split_limit\" : 10000,\n",
      "            \"cluster_prune_limit\" : 1.5,\n",
      "            \"distance_treshold\" : dt,\n",
      "            \"descriptor_type\" : \"SIFT\",\n",
      "            \"keypoint_type\" : \"SIFT\",\n",
      "        })"
     ],
     "language": "python",
     "metadata": {},
     "outputs": [],
     "prompt_number": 73
    },
    {
     "cell_type": "code",
     "collapsed": false,
     "input": [
      "def uniqueMatchBRIEF(paths, homography) :\n",
      "    return matching.testMatch(\n",
      "        paths,\n",
      "        homography, \n",
      "        matching.standardMatch,\n",
      "        verbose = False,\n",
      "        options = {\n",
      "            \"match_limit\" : 400,\n",
      "            \"unique_treshold\": 0.8,\n",
      "            \"prune\" : False,\n",
      "            \"distance_treshold\" : dt,\n",
      "            \"descriptor_type\" : \"BRIEF\",\n",
      "            \"keypoint_type\" : \"ORB\",\n",
      "            #\"verbose\" : True\n",
      "        })"
     ],
     "language": "python",
     "metadata": {},
     "outputs": [],
     "prompt_number": 74
    },
    {
     "cell_type": "code",
     "collapsed": false,
     "input": [
      "def uniqueMatchSIFT(paths, homography) :\n",
      "    return matching.testMatch(\n",
      "        paths,\n",
      "        homography, \n",
      "        matching.standardMatch,\n",
      "        verbose = False,\n",
      "        options = {\n",
      "            \"match_limit\" : 400,\n",
      "            \"unique_treshold\": 0.4,\n",
      "            \"prune\" : False,\n",
      "            \"distance_treshold\" : dt,\n",
      "            \"descriptor_type\" : \"SIFT\",\n",
      "            \"keypoint_type\" : \"SIFT\",\n",
      "            #\"verbose\" : True\n",
      "        })"
     ],
     "language": "python",
     "metadata": {},
     "outputs": [],
     "prompt_number": 81
    },
    {
     "cell_type": "code",
     "collapsed": false,
     "input": [
      "pairs = getImagePairs(\"Pittsburg2\")"
     ],
     "language": "python",
     "metadata": {},
     "outputs": [],
     "prompt_number": 76
    },
    {
     "cell_type": "code",
     "collapsed": false,
     "input": [
      "distances = matchFolder(pairs, clusterMatchBRIEF)"
     ],
     "language": "python",
     "metadata": {},
     "outputs": [
      {
       "output_type": "stream",
       "stream": "stdout",
       "text": [
        "Number of matches:\t50\t(distinct: 50)\n",
        "Correct matches:\t6\t(distinct: 6)\t\t[under 5px error]\n",
        "Success Rate:\t\t12.00%\t(distinct: 12.00%)\n"
       ]
      },
      {
       "output_type": "display_data",
       "png": "[encoded data removed]"
      }
     ],
     "prompt_number": 77
    },
    {
     "cell_type": "code",
     "collapsed": false,
     "input": [
      "distances = matchFolder(pairs, uniqueMatchBRIEF)"
     ],
     "language": "python",
     "metadata": {},
     "outputs": [
      {
       "output_type": "stream",
       "stream": "stdout",
       "text": [
        "Number of matches:\t229\t(distinct: 110)\n",
        "Correct matches:\t9\t(distinct: 4)\t\t[under 5px error]\n",
        "Success Rate:\t\t3.93%\t(distinct: 3.64%)\n"
       ]
      },
      {
       "output_type": "display_data",
       "png": "[encoded data removed]"
      }
     ],
     "prompt_number": 78
    },
    {
     "cell_type": "code",
     "collapsed": false,
     "input": [
      "distances = matchFolder(pairs, clusterMatchSIFT)"
     ],
     "language": "python",
     "metadata": {},
     "outputs": [
      {
       "output_type": "stream",
       "stream": "stdout",
       "text": [
        "Number of matches:\t222\t(distinct: 187)\n",
        "Correct matches:\t174\t(distinct: 141)\t\t[under 5px error]\n",
        "Success Rate:\t\t78.38%\t(distinct: 75.40%)\n"
       ]
      },
      {
       "output_type": "display_data",
       "png": "[encoded data removed]"
      }
     ],
     "prompt_number": 79
    },
    {
     "cell_type": "code",
     "collapsed": false,
     "input": [
      "distances = matchFolder(pairs, uniqueMatchSIFT)"
     ],
     "language": "python",
     "metadata": {},
     "outputs": [
      {
       "output_type": "stream",
       "stream": "stdout",
       "text": [
        "Number of matches:\t212\t(distinct: 154)\n",
        "Correct matches:\t210\t(distinct: 152)\t\t[under 5px error]\n",
        "Success Rate:\t\t99.06%\t(distinct: 98.70%)\n"
       ]
      },
      {
       "output_type": "display_data",
       "png": "[encoded data removed]"
      }
     ],
     "prompt_number": 82
    },
    {
     "cell_type": "code",
     "collapsed": false,
     "input": [],
     "language": "python",
     "metadata": {},
     "outputs": [],
     "prompt_number": 80
    }
   ],
   "metadata": {}
  }
 ]
}
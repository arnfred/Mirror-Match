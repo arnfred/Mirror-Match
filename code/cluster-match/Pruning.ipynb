{
 "metadata": {
  "name": "Pruning"
 },
 "nbformat": 3,
 "nbformat_minor": 0,
 "worksheets": [
  {
   "cells": [
    {
     "cell_type": "code",
     "collapsed": false,
     "input": [
      "#Stupid hack to load files from sibling dir\n",
      "import sys; import os\n",
      "sys.path.insert(0, os.path.abspath('..'))"
     ],
     "language": "python",
     "metadata": {},
     "outputs": [],
     "prompt_number": 1
    },
    {
     "cell_type": "code",
     "collapsed": false,
     "input": [
      "import os\n",
      "import fnmatch\n",
      "import features\n",
      "import cluster\n",
      "import display\n",
      "import numpy\n",
      "import preprocessing\n",
      "from random import sample\n",
      "import graph_tool.all as gt\n",
      "\n",
      "# testset = \"../../images/testsets/WC818C/\"\n",
      "testset = \"../../images/testsets/Gallagher_small/\"\n",
      "\n",
      "# Get a list of all images\n",
      "all_paths = [testset + f for (_,_,filenames) in os.walk(testset) for f in fnmatch.filter(filenames, \"*.jpg\")]\n",
      "paths = sample(all_paths, 2)\n",
      "#while features.getLabel(paths[0]) != features.getLabel(paths[1]) :\n",
      "#    paths = sample(all_paths, 2)\n",
      "print(paths)"
     ],
     "language": "python",
     "metadata": {},
     "outputs": [
      {
       "output_type": "stream",
       "stream": "stdout",
       "text": [
        "['../../images/testsets/Gallagher_small_unresized/16_164.jpg', '../../images/testsets/Gallagher_small_unresized/29_553.jpg']\n"
       ]
      }
     ],
     "prompt_number": 2
    },
    {
     "cell_type": "code",
     "collapsed": false,
     "input": [
      "indices, keypoints, descriptors = cluster.getDescriptors(paths)\n",
      "print(\"Number of keypoints: %i\" % (len(keypoints)))\n",
      "images = map(features.loadImage, paths)\n",
      "labels = map(features.getLabel, paths)\n",
      "print(labels)\n",
      "\n",
      "connected, weights = cluster.initGraph(descriptors, indices, dampening=1)"
     ],
     "language": "python",
     "metadata": {},
     "outputs": [
      {
       "output_type": "stream",
       "stream": "stdout",
       "text": [
        "Number of keypoints: 142\n",
        "['16', '29']\n"
       ]
      }
     ],
     "prompt_number": 3
    },
    {
     "cell_type": "code",
     "collapsed": false,
     "input": [
      "def pruneVertices(graph, weights, edges_per_vertex) :\n",
      "    new_weights = zeros(weights.shape)\n",
      "    for i,row in enumerate(weights) :\n",
      "        indices = row.argsort()[-edges_per_vertex:]\n",
      "        new_weights[i,indices] = row[indices]\n",
      "    return new_weights\n",
      "\n",
      "    \n",
      "     \n",
      "pruneVertices(connected, weights, 5)"
     ],
     "language": "python",
     "metadata": {},
     "outputs": [
      {
       "output_type": "pyout",
       "prompt_number": 13,
       "text": [
        "array([[ 0.        ,  0.8317757 ,  0.71495327, ...,  0.        ,\n",
        "         0.        ,  0.        ],\n",
        "       [ 0.8317757 ,  0.        ,  0.86448598, ...,  0.        ,\n",
        "         0.        ,  0.        ],\n",
        "       [ 0.71495327,  0.86448598,  0.        , ...,  0.        ,\n",
        "         0.        ,  0.        ],\n",
        "       ..., \n",
        "       [ 0.        ,  0.        ,  0.        , ...,  0.        ,\n",
        "         0.        ,  0.        ],\n",
        "       [ 0.        ,  0.        ,  0.        , ...,  0.        ,\n",
        "         0.        ,  0.        ],\n",
        "       [ 0.        ,  0.        ,  0.        , ...,  0.        ,\n",
        "         0.        ,  0.        ]])"
       ]
      }
     ],
     "prompt_number": 13
    }
   ],
   "metadata": {}
  }
 ]
}
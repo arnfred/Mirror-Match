{
 "metadata": {
  "name": "isodata"
 },
 "nbformat": 3,
 "nbformat_minor": 0,
 "worksheets": [
  {
   "cells": [
    {
     "cell_type": "code",
     "collapsed": false,
     "input": [
      "#Stupid hack to load files from sibling dir\n",
      "import sys; import os\n",
      "sys.path.insert(0, os.path.abspath('..'))\n",
      "\n",
      "%load_ext autoreload\n",
      "%autoreload 2"
     ],
     "language": "python",
     "metadata": {},
     "outputs": [],
     "prompt_number": 237
    },
    {
     "cell_type": "code",
     "collapsed": false,
     "input": [
      "import features\n",
      "import display\n",
      "import weightMatrix\n",
      "import matching"
     ],
     "language": "python",
     "metadata": {},
     "outputs": [],
     "prompt_number": 238
    },
    {
     "cell_type": "code",
     "collapsed": false,
     "input": [
      "def pickCenter(centers, points) :\n",
      "    \n",
      "    def closestCenter(centers, p) :\n",
      "        ds = [numpy.linalg.norm(c - p) for c in centers]\n",
      "        return numpy.argmin(ds)\n",
      "    \n",
      "    return numpy.array([closestCenter(centers, p) for p in points])\n",
      "\n",
      "pickCenter(numpy.array([[0,0],[1,1]]), numpy.array([[1,1],[0,0],[1,0.1]]))"
     ],
     "language": "python",
     "metadata": {},
     "outputs": [
      {
       "output_type": "pyout",
       "prompt_number": 239,
       "text": [
        "array([1, 0, 1])"
       ]
      }
     ],
     "prompt_number": 239
    },
    {
     "cell_type": "code",
     "collapsed": false,
     "input": [
      "def removePartitions(partitioning, treshold) :\n",
      "    # Counter for how many partitions where removed\n",
      "    removed = 0\n",
      "    \n",
      "    # Check for partitions that are too small\n",
      "    for p in set(partitioning) :\n",
      "        if numpy.sum(partitioning == p) < treshold :\n",
      "            partitioning[partitioning == p] = -1\n",
      "            removed += 1\n",
      "    \n",
      "    return removed"
     ],
     "language": "python",
     "metadata": {},
     "outputs": [],
     "prompt_number": 240
    },
    {
     "cell_type": "code",
     "collapsed": false,
     "input": [
      "def getCenters(partitioning, points) :\n",
      "    def getCenter(p) : return numpy.mean(points[partitioning == p], axis=0)\n",
      "    return numpy.array([getCenter(p) for p in set(partitioning) if p != -1])\n",
      "\n",
      "getCenters(array([1,0,1]), numpy.array([[1,1],[0,0],[1,0.1]]))"
     ],
     "language": "python",
     "metadata": {},
     "outputs": [
      {
       "output_type": "pyout",
       "prompt_number": 241,
       "text": [
        "array([[ 0.  ,  0.  ],\n",
        "       [ 1.  ,  0.55]])"
       ]
      }
     ],
     "prompt_number": 241
    },
    {
     "cell_type": "code",
     "collapsed": false,
     "input": [
      "def getPartitionSpread(partitioning, centers, points) :\n",
      "    def getDists(rows) : return [numpy.linalg.norm(row) for row in rows]\n",
      "    spread = [numpy.mean(getDists(points[partitioning == p] - centers[p])) for p in set(partitioning)]\n",
      "    return numpy.array(spread)\n",
      "\n",
      "print(set(array([1, 0, 1])))\n",
      "getPartitionSpread(array([1, 0, 1]), array([[ 0.  ,  0.  ],[ 1.  ,  0.55]]), numpy.array([[1,1],[0,0],[1,0.1]]))"
     ],
     "language": "python",
     "metadata": {},
     "outputs": [
      {
       "output_type": "stream",
       "stream": "stdout",
       "text": [
        "set([0, 1])\n"
       ]
      },
      {
       "output_type": "pyout",
       "prompt_number": 242,
       "text": [
        "array([ 0.  ,  0.45])"
       ]
      }
     ],
     "prompt_number": 242
    },
    {
     "cell_type": "code",
     "collapsed": false,
     "input": [
      "def getSD(partitioning, centers, points) :\n",
      "    def sd(points, center) : return numpy.sqrt(numpy.var(points - center, axis = 0))\n",
      "    sds = [sd(points[partitioning == p], centers[p]) for p in set(partitioning)]\n",
      "    return numpy.array(sds)\n",
      "\n",
      "sds = getSD(array([1, 0, 0, 0, 1]), array([[ 0.  ,  0.  ],[ 1.  ,  0.55]]), numpy.array([[1,1],[0,0],[0.1, 0], [0, 0.1], [1,0.1]]))\n",
      "sds"
     ],
     "language": "python",
     "metadata": {},
     "outputs": [
      {
       "output_type": "pyout",
       "prompt_number": 243,
       "text": [
        "array([[ 0.04714045,  0.04714045],\n",
        "       [ 0.        ,  0.45      ]])"
       ]
      }
     ],
     "prompt_number": 243
    },
    {
     "cell_type": "code",
     "collapsed": false,
     "input": [
      "def splitTest(j, sd_j, max_sd, spread, n_j, min_partition_size, k, k_init) :\n",
      "    avg_spread = numpy.mean(spread)\n",
      "    test_1 = numpy.max(sd_j) > max_sd\n",
      "    test_2_1 = spread[j] > avg_spread\n",
      "    test_2_2 = n_j > 2*(min_partition_size + 1)\n",
      "    test_2 = test_2_1 and test_2_2\n",
      "    test_3 = k <= (k_init / 2.0)\n",
      "    return test_1 and (test_2 or test_3)"
     ],
     "language": "python",
     "metadata": {},
     "outputs": [],
     "prompt_number": 244
    },
    {
     "cell_type": "code",
     "collapsed": false,
     "input": [
      "def splitPartition(centers, sd, j, k) :\n",
      "    # Find the delta vector to add and subtract from the old center\n",
      "    delta = numpy.zeros(sd.shape)\n",
      "    delta[numpy.argmax(sd)] = numpy.max(sd)\n",
      "    # Remove the old center and add the two new ones\n",
      "    centers_old = centers[numpy.arange(k) != j]\n",
      "    print(\"Delta:\")\n",
      "    print(delta)\n",
      "    \n",
      "    centers_new = numpy.array([centers[j] + delta, centers[j] - delta])\n",
      "    return numpy.concatenate((centers_old, centers_new))\n",
      "\n",
      "#splitPartition(array([[ 0.  ,  0.  ],[ 1.  ,  0.55]]), array([0, 1]), 0, 2)"
     ],
     "language": "python",
     "metadata": {},
     "outputs": [],
     "prompt_number": 245
    },
    {
     "cell_type": "code",
     "collapsed": false,
     "input": [
      "from itertools import combinations\n",
      "def partitionDist(centers) :\n",
      "    k = centers.shape[0]\n",
      "    def d(i,j) : return numpy.linalg.norm(centers[i] - centers[j])\n",
      "    return sorted([(d(i,j), (i,j)) for i,j in combinations(range(k),2)])\n",
      "\n",
      "partitionDist(array([[ 1. ,  0.55 ], [ 0. , 0.04714045], [ 0. , -0.04714045]]))"
     ],
     "language": "python",
     "metadata": {},
     "outputs": [
      {
       "output_type": "pyout",
       "prompt_number": 246,
       "text": [
        "[(0.094280900000000001, (1, 2)),\n",
        " (1.1193157405424987, (0, 1)),\n",
        " (1.1647217337313676, (0, 2))]"
       ]
      }
     ],
     "prompt_number": 246
    },
    {
     "cell_type": "code",
     "collapsed": false,
     "input": [
      "def mergePartitions(ds_pairs, centers, partitioning, min_distance, max_mergers) :\n",
      "    \n",
      "    # Check if i and j are already in the set and add them to the set\n",
      "    def hasMerged(s, i, j) :\n",
      "        has_already = i in s or j in s\n",
      "        s.add(i)\n",
      "        s.add(j)\n",
      "        return has_already\n",
      "    \n",
      "    def mergeCenters(i,j) :\n",
      "        n_i = numpy.sum(partitioning == i)\n",
      "        n_j = numpy.sum(partitioning == j)\n",
      "        centers_old = centers[(numpy.arange(k) != j) & (numpy.arange(k) != i)]\n",
      "        centers_new = numpy.array([(1.0 / (n_i + n_j)) * (n_i * centers[i] + n_j * centers[j])])\n",
      "        return numpy.concatenate((centers_old, centers_new))\n",
      "    \n",
      "    # Find m (= max_mergers) partitions that are within min_distance of each other\n",
      "    merge_init = [d for i,d in enumerate(ds_pairs) if d[0] < min_distance and i < max_mergers]\n",
      "    \n",
      "    # Make sure we don't merge any group twice\n",
      "    merge_set = set()\n",
      "    merge_pairs = [(d,(i,j)) for (d,(i,j)) in merge_init if hasMerged(merge_set, i, j)]\n",
      "    \n",
      "    # Now merge the remaining partitions\n",
      "    mergers = 0\n",
      "    for (d, (i,j)) in merge_pairs : \n",
      "        mergeCenters(i,j)\n",
      "        mergers += 1\n",
      "    \n",
      "    return mergers"
     ],
     "language": "python",
     "metadata": {},
     "outputs": [],
     "prompt_number": 247
    },
    {
     "cell_type": "code",
     "collapsed": false,
     "input": [
      "# From http://www.cs.umd.edu/~mount/Projects/ISODATA/\n",
      "# http://www.cs.umd.edu/~mount/Projects/ISODATA/ijcga07-isodata.pdf (page 5-6)\n",
      "\n",
      "# n_min = min_partition_size\n",
      "# I_max = max_iterations\n",
      "# rho_max = max_sd\n",
      "\n",
      "from random import sample\n",
      "from itertools import takewhile\n",
      "\n",
      "def isodata(points, k_init=None, max_iterations=100, min_partition_size=5, max_sd=10, min_distance=20, max_mergers=10) :\n",
      "    \n",
      "    # Set a sensible k_init if it wasn't specified\n",
      "    if k_init == None:\n",
      "        k_init = points.shape[0] / (min_partition_size * 2)\n",
      "    \n",
      "    # Sample nb_partitions points as initial guess\n",
      "    centers = numpy.array(sample(points, k_init))\n",
      "    \n",
      "    # Iterate\n",
      "    for i in range(max_iterations) :\n",
      "        print(\"Starting iteration %i\" % i)\n",
      "        # As long as we remove clusters, we should reassign points\n",
      "        removed = 1\n",
      "        while (removed > 0) :\n",
      "            \n",
      "            print(\"Initial assignment with %i centers\" % (centers.shape[0]))\n",
      "            #[Step 2] Get partitioning according to centers\n",
      "            partitioning = pickCenter(centers, points)\n",
      "            k = len(set(partitioning))\n",
      "            \n",
      "            #[Step 3] Remove partitions that are too small\n",
      "            removed = removePartitions(partitioning, min_partition_size)\n",
      "            \n",
      "            #[Step 4] Recalculate center\n",
      "            centers = getCenters(partitioning, points)\n",
      "        \n",
      "        \n",
      "        # [Step 5] Find average distances\n",
      "        spread = getPartitionSpread(partitioning, centers, points)\n",
      "        \n",
      "        # [Step 6] Test if we should do step 8 and 9:\n",
      "        # I quote: \"If this is the last iteration, then set Lmin = 0 \n",
      "        #           and go to Step 9. Also, if 2k > k_init and it is \n",
      "        #           either an even numbered iteration or k \u2265 2*k_init , \n",
      "        #           then go to Step 9\"\n",
      "        test_1 = i == (max_iterations-1)\n",
      "        test_2 = 2 * k > k_init and (i % 2 == 0)\n",
      "        test_3 = k >= 2 * k_init\n",
      "        \n",
      "        if not (test_1 or test_2 or test_3) :\n",
      "            \n",
      "            # [Step 7] Measure the standard deviation of each dimension for each cluster\n",
      "            sds = getSD(partitioning, centers, points)\n",
      "            \n",
      "            # Count how many splits we perform\n",
      "            split = 0\n",
      "            \n",
      "            # [Step 8] For each partition check if it should be split\n",
      "            for j, p in enumerate(set(partitioning)) :\n",
      "                \n",
      "                if splitTest(j, sds[j], max_sd, spread, numpy.sum(partitioning == p), min_partition_size, k, k_init) :\n",
      "                    # Split the partition according to the highest sd direction\n",
      "                    split += 1\n",
      "                    centers = splitPartition(centers, sds[j], j, k)\n",
      "                    print(centers)\n",
      "            \n",
      "            # If we split up any partitions, go back to step 2\n",
      "            if split != 0 : break\n",
      "        \n",
      "        # Only merge if this isn't the last iteration (see [Step 6])\n",
      "        if i != (max_iterations-1) :\n",
      "            \n",
      "            # [Step 9] Get distances between all clusters\n",
      "            ds_pairs = partitionDist(centers)\n",
      "            \n",
      "            # [Step 10] Merge pairs that are below a certain treshold\n",
      "            mergers = mergePartitions(ds_pairs, centers, partitioning, min_distance, max_mergers)\n",
      "    \n",
      "    # [Step 11] Eventually when all iterations have been completed, return the partitions\n",
      "    return partitioning\n"
     ],
     "language": "python",
     "metadata": {},
     "outputs": [],
     "prompt_number": 248
    },
    {
     "cell_type": "code",
     "collapsed": false,
     "input": [
      "# Code for displaying points\n",
      "\n",
      "import display\n",
      "import colors\n",
      "def showPartitions(points, partitioning) :\n",
      "    max_x = numpy.max(points[:,0])\n",
      "    max_y = numpy.max(points[:,1])\n",
      "    cs = colors.get()\n",
      "    pylab.gray()\n",
      "    fig = pylab.figure()\n",
      "    ax = fig.add_subplot(1,1,1)\n",
      "    pylab.xlim(0,max_y*1.1)\n",
      "    pylab.ylim(0,max_x*1.1)\n",
      "          \n",
      "    for pos,p in zip(points, partitioning) :\n",
      "        ax.plot(pos[1], pos[0], color=cs[p], marker='o')\n",
      "        \n",
      "    display.removeDecoration()\n",
      "\n",
      "#showPartitions(numpy.array([[10,10],[20,10],[10,20],[20,30]]), numpy.array([1, 0, 0, 1]))"
     ],
     "language": "python",
     "metadata": {},
     "outputs": [],
     "prompt_number": 254
    },
    {
     "cell_type": "code",
     "collapsed": false,
     "input": [
      "# Get points for an image to test out if it works\n",
      "import features\n",
      "\n",
      "indices, keypoints, descriptors = features.getFeatures([\"../../images/acr/boat/img1.pgm\"])\n",
      "pos = features.getPositions(keypoints)\n",
      "positions = numpy.array(pos)"
     ],
     "language": "python",
     "metadata": {},
     "outputs": [],
     "prompt_number": 250
    },
    {
     "cell_type": "code",
     "collapsed": false,
     "input": [
      "showPartitions(positions, isodata(positions, k_init=20, max_iterations=1))"
     ],
     "language": "python",
     "metadata": {},
     "outputs": [
      {
       "output_type": "stream",
       "stream": "stdout",
       "text": [
        "Starting iteration 0\n",
        "Initial assignment with 20 centers\n",
        "Initial assignment with 18 centers"
       ]
      },
      {
       "output_type": "stream",
       "stream": "stdout",
       "text": [
        "\n"
       ]
      },
      {
       "output_type": "display_data",
       "png": "[encoded data removed]"
      }
     ],
     "prompt_number": 251
    },
    {
     "cell_type": "code",
     "collapsed": false,
     "input": [
      "showPartitions(positions, isodata(positions, k_init=20, max_iterations=2))"
     ],
     "language": "python",
     "metadata": {},
     "outputs": [
      {
       "output_type": "stream",
       "stream": "stdout",
       "text": [
        "Starting iteration 0\n",
        "Initial assignment with 20 centers\n",
        "Initial assignment with 19 centers"
       ]
      },
      {
       "output_type": "stream",
       "stream": "stdout",
       "text": [
        "\n",
        "Starting iteration 1"
       ]
      },
      {
       "output_type": "stream",
       "stream": "stdout",
       "text": [
        "\n",
        "Initial assignment with 19 centers\n"
       ]
      },
      {
       "output_type": "display_data",
       "png": "[encoded data removed]"
      }
     ],
     "prompt_number": 252
    },
    {
     "cell_type": "code",
     "collapsed": false,
     "input": [
      "part = isodata(positions, k_init=3, max_iterations=20, min_partition_size=10, max_sd=60, min_distance=50)\n",
      "print(\"%i partitions\" % len(set(part)))\n",
      "showPartitions(positions, part)"
     ],
     "language": "python",
     "metadata": {},
     "outputs": [
      {
       "output_type": "stream",
       "stream": "stdout",
       "text": [
        "Starting iteration 0\n",
        "Initial assignment with 3 centers\n",
        "Starting iteration 1\n",
        "Initial assignment with 3 centers\n",
        "Delta:\n",
        "[  0.         84.8066058]\n",
        "[[ 521.09141096  460.31334656]\n",
        " [ 332.98069291  329.20984287]\n",
        " [ 669.40154766  366.20937982]\n",
        " [ 669.40154766  196.59616822]]\n",
        "Delta:\n",
        "[ 100.34088697    0.        ]\n",
        "[[ 521.09141096  460.31334656]\n",
        " [ 332.98069291  329.20984287]\n",
        " [ 769.74243463  366.20937982]\n",
        " [ 569.06066069  366.20937982]]\n",
        "3 partitions"
       ]
      },
      {
       "output_type": "stream",
       "stream": "stdout",
       "text": [
        "\n"
       ]
      },
      {
       "output_type": "display_data",
       "png": "[encoded data removed]"
      }
     ],
     "prompt_number": 253
    }
   ],
   "metadata": {}
  }
 ]
}
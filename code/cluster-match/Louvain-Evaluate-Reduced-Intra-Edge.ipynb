{
 "metadata": {
  "name": "Louvain-Evaluate-Reduced-Intra-Edge"
 },
 "nbformat": 3,
 "nbformat_minor": 0,
 "worksheets": [
  {
   "cells": [
    {
     "cell_type": "code",
     "collapsed": false,
     "input": [
      "#Stupid hack to load files from sibling dir\n",
      "import sys; import os\n",
      "sys.path.insert(0, os.path.abspath('..'))"
     ],
     "language": "python",
     "metadata": {},
     "outputs": [],
     "prompt_number": 8
    },
    {
     "cell_type": "code",
     "collapsed": false,
     "input": [
      "import os\n",
      "import fnmatch\n",
      "import features\n",
      "import cluster\n",
      "import display\n",
      "import louvain\n",
      "from itertools import combinations\n",
      "\n",
      "# testset = \"../../images/testsets/WC818C/\"\n",
      "testset = \"../../images/testsets/small_test/\"\n",
      "\n",
      "# Get a list of all image pairs\n",
      "all_paths = [testset + f for (_,_,filenames) in os.walk(testset) for f in fnmatch.filter(filenames, \"*.png\")]\n",
      "path_pairs = list(combinations(all_paths, 2))\n",
      "label_pairs = list(combinations(map(features.getLabel,all_paths), 2))"
     ],
     "language": "python",
     "metadata": {},
     "outputs": [],
     "prompt_number": 9
    },
    {
     "cell_type": "code",
     "collapsed": false,
     "input": [
      "# Define dampening\n",
      "dampening = 1.01\n",
      "\n",
      "#cluster.scoreImagePair(pairs.next())\n",
      "result = [((l1 == l2), cluster.scoreImagePair([p1, p2], louvain.cluster, dampening = dampening))\n",
      "        for ((p1, p2), (l1, l2), i) \n",
      "        in zip(path_pairs, label_pairs, range(len(list(label_pairs))) )]\n",
      "\n",
      "display.scoreHist(result)"
     ],
     "language": "python",
     "metadata": {},
     "outputs": [
      {
       "output_type": "stream",
       "stream": "stdout",
       "text": [
        "['../../images/testsets/small_test/Anna_Kournikova_0005.png', '../../images/testsets/small_test/Bill_Gates_0003.png']\n",
        "Score: 0.0728 for Anna Kournikova and Bill Gates"
       ]
      },
      {
       "output_type": "stream",
       "stream": "stdout",
       "text": [
        "\n",
        "['../../images/testsets/small_test/Anna_Kournikova_0005.png', '../../images/testsets/small_test/Anna_Kournikova_0009.png']\n",
        "Score: 0.0718 for Anna Kournikova and Anna Kournikova"
       ]
      },
      {
       "output_type": "stream",
       "stream": "stdout",
       "text": [
        "\n",
        "['../../images/testsets/small_test/Anna_Kournikova_0005.png', '../../images/testsets/small_test/Ann_Veneman_0005.png']\n",
        "Score: -0.1000 for Anna Kournikova and Ann Veneman (Less than two matches)"
       ]
      },
      {
       "output_type": "stream",
       "stream": "stdout",
       "text": [
        "\n",
        "['../../images/testsets/small_test/Anna_Kournikova_0005.png', '../../images/testsets/small_test/Bill_Gates_0002.png']\n",
        "Score: -0.1000 for Anna Kournikova and Bill Gates (Less than two matches)"
       ]
      },
      {
       "output_type": "stream",
       "stream": "stdout",
       "text": [
        "\n",
        "['../../images/testsets/small_test/Anna_Kournikova_0005.png', '../../images/testsets/small_test/Bill_Gates_0004.png']\n",
        "Score: -0.1000 for Anna Kournikova and Bill Gates (Less than two matches)"
       ]
      },
      {
       "output_type": "stream",
       "stream": "stdout",
       "text": [
        "\n",
        "['../../images/testsets/small_test/Anna_Kournikova_0005.png', '../../images/testsets/small_test/Ann_Veneman_0002.png']\n",
        "Score: -0.1000 for Anna Kournikova and Ann Veneman (Less than two matches)"
       ]
      },
      {
       "output_type": "stream",
       "stream": "stdout",
       "text": [
        "\n",
        "['../../images/testsets/small_test/Anna_Kournikova_0005.png', '../../images/testsets/small_test/Bill_Gates_0006.png']\n",
        "Score: 0.0494 for Anna Kournikova and Bill Gates"
       ]
      },
      {
       "output_type": "stream",
       "stream": "stdout",
       "text": [
        "\n",
        "['../../images/testsets/small_test/Anna_Kournikova_0005.png', '../../images/testsets/small_test/Ann_Veneman_0009.png']\n",
        "Score: -0.0270 for Anna Kournikova and Ann Veneman"
       ]
      },
      {
       "output_type": "stream",
       "stream": "stdout",
       "text": [
        "\n",
        "['../../images/testsets/small_test/Anna_Kournikova_0005.png', '../../images/testsets/small_test/Bill_Gates_0016.png']\n",
        "Score: 0.0448 for Anna Kournikova and Bill Gates"
       ]
      },
      {
       "output_type": "stream",
       "stream": "stdout",
       "text": [
        "\n",
        "['../../images/testsets/small_test/Anna_Kournikova_0005.png', '../../images/testsets/small_test/Bill_Gates_0008.png']\n",
        "Score: 0.0081 for Anna Kournikova and Bill Gates"
       ]
      },
      {
       "output_type": "stream",
       "stream": "stdout",
       "text": [
        "\n",
        "['../../images/testsets/small_test/Anna_Kournikova_0005.png', '../../images/testsets/small_test/Bill_Gates_0007.png']\n",
        "Score: 0.0476 for Anna Kournikova and Bill Gates"
       ]
      },
      {
       "output_type": "stream",
       "stream": "stdout",
       "text": [
        "\n",
        "['../../images/testsets/small_test/Anna_Kournikova_0005.png', '../../images/testsets/small_test/Anna_Kournikova_0003.png']\n",
        "Score: 0.0665 for Anna Kournikova and Anna Kournikova"
       ]
      },
      {
       "output_type": "stream",
       "stream": "stdout",
       "text": [
        "\n",
        "['../../images/testsets/small_test/Anna_Kournikova_0005.png', '../../images/testsets/small_test/Bill_Gates_0013.png']\n",
        "Score: 0.0773 for Anna Kournikova and Bill Gates"
       ]
      },
      {
       "output_type": "stream",
       "stream": "stdout",
       "text": [
        "\n",
        "['../../images/testsets/small_test/Anna_Kournikova_0005.png', '../../images/testsets/small_test/Anna_Kournikova_0006.png']\n",
        "Score: -0.1000 for Anna Kournikova and Anna Kournikova (Less than two matches)"
       ]
      },
      {
       "output_type": "stream",
       "stream": "stdout",
       "text": [
        "\n",
        "['../../images/testsets/small_test/Anna_Kournikova_0005.png', '../../images/testsets/small_test/Ann_Veneman_0010.png']\n",
        "Score: -0.1000 for Anna Kournikova and Ann Veneman (Less than two matches)"
       ]
      },
      {
       "output_type": "stream",
       "stream": "stdout",
       "text": [
        "\n",
        "['../../images/testsets/small_test/Anna_Kournikova_0005.png', '../../images/testsets/small_test/Ann_Veneman_0004.png']\n",
        "Score: 0.0520 for Anna Kournikova and Ann Veneman"
       ]
      },
      {
       "output_type": "stream",
       "stream": "stdout",
       "text": [
        "\n",
        "['../../images/testsets/small_test/Anna_Kournikova_0005.png', '../../images/testsets/small_test/Anna_Kournikova_0010.png']\n",
        "Score: -0.1000 for Anna Kournikova and Anna Kournikova (Less than two matches)"
       ]
      },
      {
       "output_type": "stream",
       "stream": "stdout",
       "text": [
        "\n",
        "['../../images/testsets/small_test/Anna_Kournikova_0005.png', '../../images/testsets/small_test/Ann_Veneman_0011.png']\n",
        "Score: 0.0459 for Anna Kournikova and Ann Veneman"
       ]
      },
      {
       "output_type": "stream",
       "stream": "stdout",
       "text": [
        "\n",
        "['../../images/testsets/small_test/Anna_Kournikova_0005.png', '../../images/testsets/small_test/Anna_Kournikova_0001.png']\n",
        "Score: 0.1086 for Anna Kournikova and Anna Kournikova"
       ]
      },
      {
       "output_type": "stream",
       "stream": "stdout",
       "text": [
        "\n",
        "['../../images/testsets/small_test/Anna_Kournikova_0005.png', '../../images/testsets/small_test/Ann_Veneman_0006.png']\n",
        "Score: -0.1000 for Anna Kournikova and Ann Veneman (Less than two matches)"
       ]
      },
      {
       "output_type": "stream",
       "stream": "stdout",
       "text": [
        "\n",
        "['../../images/testsets/small_test/Anna_Kournikova_0005.png', '../../images/testsets/small_test/Anna_Kournikova_0012.png']\n",
        "Score: 0.0448 for Anna Kournikova and Anna Kournikova"
       ]
      },
      {
       "output_type": "stream",
       "stream": "stdout",
       "text": [
        "\n",
        "['../../images/testsets/small_test/Anna_Kournikova_0005.png', '../../images/testsets/small_test/Bill_Gates_0015.png']\n",
        "Score: -0.0241 for Anna Kournikova and Bill Gates"
       ]
      },
      {
       "output_type": "stream",
       "stream": "stdout",
       "text": [
        "\n",
        "['../../images/testsets/small_test/Anna_Kournikova_0005.png', '../../images/testsets/small_test/Anna_Kournikova_0004.png']\n",
        "Score: 0.0905 for Anna Kournikova and Anna Kournikova"
       ]
      },
      {
       "output_type": "stream",
       "stream": "stdout",
       "text": [
        "\n",
        "['../../images/testsets/small_test/Anna_Kournikova_0005.png', '../../images/testsets/small_test/Anna_Kournikova_0011.png']\n",
        "Score: -0.1000 for Anna Kournikova and Anna Kournikova (Less than two matches)"
       ]
      },
      {
       "output_type": "stream",
       "stream": "stdout",
       "text": [
        "\n",
        "['../../images/testsets/small_test/Anna_Kournikova_0005.png', '../../images/testsets/small_test/Anna_Kournikova_0008.png']\n",
        "Score: 0.1136 for Anna Kournikova and Anna Kournikova"
       ]
      },
      {
       "output_type": "stream",
       "stream": "stdout",
       "text": [
        "\n",
        "['../../images/testsets/small_test/Anna_Kournikova_0005.png', '../../images/testsets/small_test/Bill_Gates_0005.png']\n",
        "Score: 0.0209 for Anna Kournikova and Bill Gates"
       ]
      },
      {
       "output_type": "stream",
       "stream": "stdout",
       "text": [
        "\n",
        "['../../images/testsets/small_test/Anna_Kournikova_0005.png', '../../images/testsets/small_test/Ann_Veneman_0001.png']\n",
        "Score: -0.0338 for Anna Kournikova and Ann Veneman"
       ]
      },
      {
       "output_type": "stream",
       "stream": "stdout",
       "text": [
        "\n",
        "['../../images/testsets/small_test/Anna_Kournikova_0005.png', '../../images/testsets/small_test/Ann_Veneman_0008.png']\n",
        "Score: 0.0559 for Anna Kournikova and Ann Veneman"
       ]
      },
      {
       "output_type": "stream",
       "stream": "stdout",
       "text": [
        "\n",
        "['../../images/testsets/small_test/Anna_Kournikova_0005.png', '../../images/testsets/small_test/Ann_Veneman_0003.png']\n",
        "Score: 0.0444 for Anna Kournikova and Ann Veneman"
       ]
      },
      {
       "output_type": "stream",
       "stream": "stdout",
       "text": [
        "\n",
        "['../../images/testsets/small_test/Bill_Gates_0003.png', '../../images/testsets/small_test/Anna_Kournikova_0009.png']\n",
        "Score: -0.0377 for Bill Gates and Anna Kournikova"
       ]
      },
      {
       "output_type": "stream",
       "stream": "stdout",
       "text": [
        "\n",
        "['../../images/testsets/small_test/Bill_Gates_0003.png', '../../images/testsets/small_test/Ann_Veneman_0005.png']\n",
        "Score: 0.0985 for Bill Gates and Ann Veneman"
       ]
      },
      {
       "output_type": "stream",
       "stream": "stdout",
       "text": [
        "\n",
        "['../../images/testsets/small_test/Bill_Gates_0003.png', '../../images/testsets/small_test/Bill_Gates_0002.png']\n",
        "Score: -0.1000 for Bill Gates and Bill Gates (Less than two matches)"
       ]
      },
      {
       "output_type": "stream",
       "stream": "stdout",
       "text": [
        "\n",
        "['../../images/testsets/small_test/Bill_Gates_0003.png', '../../images/testsets/small_test/Bill_Gates_0004.png']\n",
        "Score: 0.0516 for Bill Gates and Bill Gates"
       ]
      },
      {
       "output_type": "stream",
       "stream": "stdout",
       "text": [
        "\n",
        "['../../images/testsets/small_test/Bill_Gates_0003.png', '../../images/testsets/small_test/Ann_Veneman_0002.png']\n",
        "Score: 0.0528 for Bill Gates and Ann Veneman"
       ]
      },
      {
       "output_type": "stream",
       "stream": "stdout",
       "text": [
        "\n",
        "['../../images/testsets/small_test/Bill_Gates_0003.png', '../../images/testsets/small_test/Bill_Gates_0006.png']\n",
        "Score: -0.0368 for Bill Gates and Bill Gates"
       ]
      },
      {
       "output_type": "stream",
       "stream": "stdout",
       "text": [
        "\n",
        "['../../images/testsets/small_test/Bill_Gates_0003.png', '../../images/testsets/small_test/Ann_Veneman_0009.png']\n",
        "Score: 0.0027 for Bill Gates and Ann Veneman"
       ]
      },
      {
       "output_type": "stream",
       "stream": "stdout",
       "text": [
        "\n",
        "['../../images/testsets/small_test/Bill_Gates_0003.png', '../../images/testsets/small_test/Bill_Gates_0016.png']\n",
        "Score: 0.1278 for Bill Gates and Bill Gates"
       ]
      },
      {
       "output_type": "stream",
       "stream": "stdout",
       "text": [
        "\n",
        "['../../images/testsets/small_test/Bill_Gates_0003.png', '../../images/testsets/small_test/Bill_Gates_0008.png']\n",
        "Score: 0.1070 for Bill Gates and Bill Gates"
       ]
      },
      {
       "output_type": "stream",
       "stream": "stdout",
       "text": [
        "\n",
        "['../../images/testsets/small_test/Bill_Gates_0003.png', '../../images/testsets/small_test/Bill_Gates_0007.png']\n",
        "Score: 0.0659 for Bill Gates and Bill Gates"
       ]
      },
      {
       "output_type": "stream",
       "stream": "stdout",
       "text": [
        "\n",
        "['../../images/testsets/small_test/Bill_Gates_0003.png', '../../images/testsets/small_test/Anna_Kournikova_0003.png']\n",
        "Score: -0.0037 for Bill Gates and Anna Kournikova"
       ]
      },
      {
       "output_type": "stream",
       "stream": "stdout",
       "text": [
        "\n",
        "['../../images/testsets/small_test/Bill_Gates_0003.png', '../../images/testsets/small_test/Bill_Gates_0013.png']\n",
        "Score: 0.1268 for Bill Gates and Bill Gates"
       ]
      },
      {
       "output_type": "stream",
       "stream": "stdout",
       "text": [
        "\n",
        "['../../images/testsets/small_test/Bill_Gates_0003.png', '../../images/testsets/small_test/Anna_Kournikova_0006.png']\n",
        "Score: 0.0693 for Bill Gates and Anna Kournikova"
       ]
      },
      {
       "output_type": "stream",
       "stream": "stdout",
       "text": [
        "\n",
        "['../../images/testsets/small_test/Bill_Gates_0003.png', '../../images/testsets/small_test/Ann_Veneman_0010.png']\n",
        "Score: 0.0416 for Bill Gates and Ann Veneman"
       ]
      },
      {
       "output_type": "stream",
       "stream": "stdout",
       "text": [
        "\n",
        "['../../images/testsets/small_test/Bill_Gates_0003.png', '../../images/testsets/small_test/Ann_Veneman_0004.png']\n",
        "Score: 0.0216 for Bill Gates and Ann Veneman"
       ]
      },
      {
       "output_type": "stream",
       "stream": "stdout",
       "text": [
        "\n",
        "['../../images/testsets/small_test/Bill_Gates_0003.png', '../../images/testsets/small_test/Anna_Kournikova_0010.png']\n",
        "Score: 0.0937 for Bill Gates and Anna Kournikova"
       ]
      },
      {
       "output_type": "stream",
       "stream": "stdout",
       "text": [
        "\n",
        "['../../images/testsets/small_test/Bill_Gates_0003.png', '../../images/testsets/small_test/Ann_Veneman_0011.png']\n",
        "Score: 0.0559 for Bill Gates and Ann Veneman"
       ]
      },
      {
       "output_type": "stream",
       "stream": "stdout",
       "text": [
        "\n",
        "['../../images/testsets/small_test/Bill_Gates_0003.png', '../../images/testsets/small_test/Anna_Kournikova_0001.png']\n",
        "Score: 0.0669 for Bill Gates and Anna Kournikova"
       ]
      },
      {
       "output_type": "stream",
       "stream": "stdout",
       "text": [
        "\n",
        "['../../images/testsets/small_test/Bill_Gates_0003.png', '../../images/testsets/small_test/Ann_Veneman_0006.png']\n",
        "Score: -0.0113 for Bill Gates and Ann Veneman"
       ]
      },
      {
       "output_type": "stream",
       "stream": "stdout",
       "text": [
        "\n",
        "['../../images/testsets/small_test/Bill_Gates_0003.png', '../../images/testsets/small_test/Anna_Kournikova_0012.png']\n",
        "Score: 0.0483 for Bill Gates and Anna Kournikova"
       ]
      },
      {
       "output_type": "stream",
       "stream": "stdout",
       "text": [
        "\n",
        "['../../images/testsets/small_test/Bill_Gates_0003.png', '../../images/testsets/small_test/Bill_Gates_0015.png']\n",
        "Score: 0.1528 for Bill Gates and Bill Gates"
       ]
      },
      {
       "output_type": "stream",
       "stream": "stdout",
       "text": [
        "\n",
        "['../../images/testsets/small_test/Bill_Gates_0003.png', '../../images/testsets/small_test/Anna_Kournikova_0004.png']\n",
        "Score: 0.0292 for Bill Gates and Anna Kournikova"
       ]
      },
      {
       "output_type": "stream",
       "stream": "stdout",
       "text": [
        "\n",
        "['../../images/testsets/small_test/Bill_Gates_0003.png', '../../images/testsets/small_test/Anna_Kournikova_0011.png']\n",
        "Score: -0.1000 for Bill Gates and Anna Kournikova (Less than two matches)"
       ]
      },
      {
       "output_type": "stream",
       "stream": "stdout",
       "text": [
        "\n",
        "['../../images/testsets/small_test/Bill_Gates_0003.png', '../../images/testsets/small_test/Anna_Kournikova_0008.png']\n",
        "Score: 0.0351 for Bill Gates and Anna Kournikova"
       ]
      },
      {
       "output_type": "stream",
       "stream": "stdout",
       "text": [
        "\n",
        "['../../images/testsets/small_test/Bill_Gates_0003.png', '../../images/testsets/small_test/Bill_Gates_0005.png']\n",
        "Score: 0.0097 for Bill Gates and Bill Gates"
       ]
      },
      {
       "output_type": "stream",
       "stream": "stdout",
       "text": [
        "\n",
        "['../../images/testsets/small_test/Bill_Gates_0003.png', '../../images/testsets/small_test/Ann_Veneman_0001.png']\n",
        "Score: -0.0111 for Bill Gates and Ann Veneman"
       ]
      },
      {
       "output_type": "stream",
       "stream": "stdout",
       "text": [
        "\n",
        "['../../images/testsets/small_test/Bill_Gates_0003.png', '../../images/testsets/small_test/Ann_Veneman_0008.png']\n",
        "Score: -0.0118 for Bill Gates and Ann Veneman"
       ]
      },
      {
       "output_type": "stream",
       "stream": "stdout",
       "text": [
        "\n",
        "['../../images/testsets/small_test/Bill_Gates_0003.png', '../../images/testsets/small_test/Ann_Veneman_0003.png']\n",
        "Score: 0.0664 for Bill Gates and Ann Veneman"
       ]
      },
      {
       "output_type": "stream",
       "stream": "stdout",
       "text": [
        "\n",
        "['../../images/testsets/small_test/Anna_Kournikova_0009.png', '../../images/testsets/small_test/Ann_Veneman_0005.png']\n",
        "Score: 0.0518 for Anna Kournikova and Ann Veneman"
       ]
      },
      {
       "output_type": "stream",
       "stream": "stdout",
       "text": [
        "\n",
        "['../../images/testsets/small_test/Anna_Kournikova_0009.png', '../../images/testsets/small_test/Bill_Gates_0002.png']\n",
        "Score: -0.1000 for Anna Kournikova and Bill Gates (Less than two matches)"
       ]
      },
      {
       "output_type": "stream",
       "stream": "stdout",
       "text": [
        "\n",
        "['../../images/testsets/small_test/Anna_Kournikova_0009.png', '../../images/testsets/small_test/Bill_Gates_0004.png']\n",
        "Score: 0.0159 for Anna Kournikova and Bill Gates"
       ]
      },
      {
       "output_type": "stream",
       "stream": "stdout",
       "text": [
        "\n",
        "['../../images/testsets/small_test/Anna_Kournikova_0009.png', '../../images/testsets/small_test/Ann_Veneman_0002.png']\n",
        "Score: 0.1002 for Anna Kournikova and Ann Veneman"
       ]
      },
      {
       "output_type": "stream",
       "stream": "stdout",
       "text": [
        "\n",
        "['../../images/testsets/small_test/Anna_Kournikova_0009.png', '../../images/testsets/small_test/Bill_Gates_0006.png']\n",
        "Score: 0.0175 for Anna Kournikova and Bill Gates"
       ]
      },
      {
       "output_type": "stream",
       "stream": "stdout",
       "text": [
        "\n",
        "['../../images/testsets/small_test/Anna_Kournikova_0009.png', '../../images/testsets/small_test/Ann_Veneman_0009.png']\n",
        "Score: 0.0316 for Anna Kournikova and Ann Veneman"
       ]
      },
      {
       "output_type": "stream",
       "stream": "stdout",
       "text": [
        "\n",
        "['../../images/testsets/small_test/Anna_Kournikova_0009.png', '../../images/testsets/small_test/Bill_Gates_0016.png']\n",
        "Score: -0.1000 for Anna Kournikova and Bill Gates (Less than two matches)"
       ]
      },
      {
       "output_type": "stream",
       "stream": "stdout",
       "text": [
        "\n",
        "['../../images/testsets/small_test/Anna_Kournikova_0009.png', '../../images/testsets/small_test/Bill_Gates_0008.png']\n",
        "Score: -0.0402 for Anna Kournikova and Bill Gates"
       ]
      },
      {
       "output_type": "stream",
       "stream": "stdout",
       "text": [
        "\n",
        "['../../images/testsets/small_test/Anna_Kournikova_0009.png', '../../images/testsets/small_test/Bill_Gates_0007.png']\n",
        "Score: 0.0375 for Anna Kournikova and Bill Gates"
       ]
      },
      {
       "output_type": "stream",
       "stream": "stdout",
       "text": [
        "\n",
        "['../../images/testsets/small_test/Anna_Kournikova_0009.png', '../../images/testsets/small_test/Anna_Kournikova_0003.png']\n",
        "Score: 0.0817 for Anna Kournikova and Anna Kournikova"
       ]
      },
      {
       "output_type": "stream",
       "stream": "stdout",
       "text": [
        "\n",
        "['../../images/testsets/small_test/Anna_Kournikova_0009.png', '../../images/testsets/small_test/Bill_Gates_0013.png']\n",
        "Score: -0.1000 for Anna Kournikova and Bill Gates (Less than two matches)"
       ]
      },
      {
       "output_type": "stream",
       "stream": "stdout",
       "text": [
        "\n",
        "['../../images/testsets/small_test/Anna_Kournikova_0009.png', '../../images/testsets/small_test/Anna_Kournikova_0006.png']\n",
        "Score: -0.1000 for Anna Kournikova and Anna Kournikova (Less than two matches)"
       ]
      },
      {
       "output_type": "stream",
       "stream": "stdout",
       "text": [
        "\n",
        "['../../images/testsets/small_test/Anna_Kournikova_0009.png', '../../images/testsets/small_test/Ann_Veneman_0010.png']\n",
        "Score: -0.1000 for Anna Kournikova and Ann Veneman (Less than two matches)"
       ]
      },
      {
       "output_type": "stream",
       "stream": "stdout",
       "text": [
        "\n",
        "['../../images/testsets/small_test/Anna_Kournikova_0009.png', '../../images/testsets/small_test/Ann_Veneman_0004.png']\n",
        "Score: 0.0859 for Anna Kournikova and Ann Veneman"
       ]
      },
      {
       "output_type": "stream",
       "stream": "stdout",
       "text": [
        "\n",
        "['../../images/testsets/small_test/Anna_Kournikova_0009.png', '../../images/testsets/small_test/Anna_Kournikova_0010.png']\n",
        "Score: 0.1158 for Anna Kournikova and Anna Kournikova"
       ]
      },
      {
       "output_type": "stream",
       "stream": "stdout",
       "text": [
        "\n",
        "['../../images/testsets/small_test/Anna_Kournikova_0009.png', '../../images/testsets/small_test/Ann_Veneman_0011.png']\n",
        "Score: -0.1000 for Anna Kournikova and Ann Veneman (Less than two matches)"
       ]
      },
      {
       "output_type": "stream",
       "stream": "stdout",
       "text": [
        "\n",
        "['../../images/testsets/small_test/Anna_Kournikova_0009.png', '../../images/testsets/small_test/Anna_Kournikova_0001.png']\n",
        "Score: 0.0939 for Anna Kournikova and Anna Kournikova"
       ]
      },
      {
       "output_type": "stream",
       "stream": "stdout",
       "text": [
        "\n",
        "['../../images/testsets/small_test/Anna_Kournikova_0009.png', '../../images/testsets/small_test/Ann_Veneman_0006.png']\n",
        "Score: -0.1000 for Anna Kournikova and Ann Veneman (Less than two matches)"
       ]
      },
      {
       "output_type": "stream",
       "stream": "stdout",
       "text": [
        "\n",
        "['../../images/testsets/small_test/Anna_Kournikova_0009.png', '../../images/testsets/small_test/Anna_Kournikova_0012.png']\n",
        "Score: 0.0542 for Anna Kournikova and Anna Kournikova"
       ]
      },
      {
       "output_type": "stream",
       "stream": "stdout",
       "text": [
        "\n",
        "['../../images/testsets/small_test/Anna_Kournikova_0009.png', '../../images/testsets/small_test/Bill_Gates_0015.png']\n",
        "Score: 0.1470 for Anna Kournikova and Bill Gates"
       ]
      },
      {
       "output_type": "stream",
       "stream": "stdout",
       "text": [
        "\n",
        "['../../images/testsets/small_test/Anna_Kournikova_0009.png', '../../images/testsets/small_test/Anna_Kournikova_0004.png']\n",
        "Score: 0.1678 for Anna Kournikova and Anna Kournikova"
       ]
      },
      {
       "output_type": "stream",
       "stream": "stdout",
       "text": [
        "\n",
        "['../../images/testsets/small_test/Anna_Kournikova_0009.png', '../../images/testsets/small_test/Anna_Kournikova_0011.png']\n",
        "Score: 0.0101 for Anna Kournikova and Anna Kournikova"
       ]
      },
      {
       "output_type": "stream",
       "stream": "stdout",
       "text": [
        "\n",
        "['../../images/testsets/small_test/Anna_Kournikova_0009.png', '../../images/testsets/small_test/Anna_Kournikova_0008.png']\n",
        "Score: 0.1176 for Anna Kournikova and Anna Kournikova"
       ]
      },
      {
       "output_type": "stream",
       "stream": "stdout",
       "text": [
        "\n",
        "['../../images/testsets/small_test/Anna_Kournikova_0009.png', '../../images/testsets/small_test/Bill_Gates_0005.png']\n",
        "Score: -0.1000 for Anna Kournikova and Bill Gates (Less than two matches)"
       ]
      },
      {
       "output_type": "stream",
       "stream": "stdout",
       "text": [
        "\n",
        "['../../images/testsets/small_test/Anna_Kournikova_0009.png', '../../images/testsets/small_test/Ann_Veneman_0001.png']\n",
        "Score: -0.0284 for Anna Kournikova and Ann Veneman"
       ]
      },
      {
       "output_type": "stream",
       "stream": "stdout",
       "text": [
        "\n",
        "['../../images/testsets/small_test/Anna_Kournikova_0009.png', '../../images/testsets/small_test/Ann_Veneman_0008.png']\n",
        "Score: 0.0423 for Anna Kournikova and Ann Veneman"
       ]
      },
      {
       "output_type": "stream",
       "stream": "stdout",
       "text": [
        "\n",
        "['../../images/testsets/small_test/Anna_Kournikova_0009.png', '../../images/testsets/small_test/Ann_Veneman_0003.png']\n",
        "Score: 0.0682 for Anna Kournikova and Ann Veneman"
       ]
      },
      {
       "output_type": "stream",
       "stream": "stdout",
       "text": [
        "\n",
        "['../../images/testsets/small_test/Ann_Veneman_0005.png', '../../images/testsets/small_test/Bill_Gates_0002.png']\n",
        "Score: -0.1000 for Ann Veneman and Bill Gates (Less than two matches)"
       ]
      },
      {
       "output_type": "stream",
       "stream": "stdout",
       "text": [
        "\n",
        "['../../images/testsets/small_test/Ann_Veneman_0005.png', '../../images/testsets/small_test/Bill_Gates_0004.png']\n",
        "Score: -0.1000 for Ann Veneman and Bill Gates (Less than two matches)"
       ]
      },
      {
       "output_type": "stream",
       "stream": "stdout",
       "text": [
        "\n",
        "['../../images/testsets/small_test/Ann_Veneman_0005.png', '../../images/testsets/small_test/Ann_Veneman_0002.png']\n",
        "Score: 0.0874 for Ann Veneman and Ann Veneman"
       ]
      },
      {
       "output_type": "stream",
       "stream": "stdout",
       "text": [
        "\n",
        "['../../images/testsets/small_test/Ann_Veneman_0005.png', '../../images/testsets/small_test/Bill_Gates_0006.png']\n",
        "Score: -0.0042 for Ann Veneman and Bill Gates"
       ]
      },
      {
       "output_type": "stream",
       "stream": "stdout",
       "text": [
        "\n",
        "['../../images/testsets/small_test/Ann_Veneman_0005.png', '../../images/testsets/small_test/Ann_Veneman_0009.png']\n",
        "Score: 0.1218 for Ann Veneman and Ann Veneman"
       ]
      },
      {
       "output_type": "stream",
       "stream": "stdout",
       "text": [
        "\n",
        "['../../images/testsets/small_test/Ann_Veneman_0005.png', '../../images/testsets/small_test/Bill_Gates_0016.png']\n",
        "Score: 0.0843 for Ann Veneman and Bill Gates"
       ]
      },
      {
       "output_type": "stream",
       "stream": "stdout",
       "text": [
        "\n",
        "['../../images/testsets/small_test/Ann_Veneman_0005.png', '../../images/testsets/small_test/Bill_Gates_0008.png']\n",
        "Score: 0.0308 for Ann Veneman and Bill Gates"
       ]
      },
      {
       "output_type": "stream",
       "stream": "stdout",
       "text": [
        "\n",
        "['../../images/testsets/small_test/Ann_Veneman_0005.png', '../../images/testsets/small_test/Bill_Gates_0007.png']\n",
        "Score: 0.0952 for Ann Veneman and Bill Gates"
       ]
      },
      {
       "output_type": "stream",
       "stream": "stdout",
       "text": [
        "\n",
        "['../../images/testsets/small_test/Ann_Veneman_0005.png', '../../images/testsets/small_test/Anna_Kournikova_0003.png']\n",
        "Score: -0.1000 for Ann Veneman and Anna Kournikova (Less than two matches)"
       ]
      },
      {
       "output_type": "stream",
       "stream": "stdout",
       "text": [
        "\n",
        "['../../images/testsets/small_test/Ann_Veneman_0005.png', '../../images/testsets/small_test/Bill_Gates_0013.png']\n",
        "Score: -0.1000 for Ann Veneman and Bill Gates (Less than two matches)"
       ]
      },
      {
       "output_type": "stream",
       "stream": "stdout",
       "text": [
        "\n",
        "['../../images/testsets/small_test/Ann_Veneman_0005.png', '../../images/testsets/small_test/Anna_Kournikova_0006.png']\n",
        "Score: -0.1000 for Ann Veneman and Anna Kournikova (Less than two matches)"
       ]
      },
      {
       "output_type": "stream",
       "stream": "stdout",
       "text": [
        "\n",
        "['../../images/testsets/small_test/Ann_Veneman_0005.png', '../../images/testsets/small_test/Ann_Veneman_0010.png']\n",
        "Score: 0.0317 for Ann Veneman and Ann Veneman"
       ]
      },
      {
       "output_type": "stream",
       "stream": "stdout",
       "text": [
        "\n",
        "['../../images/testsets/small_test/Ann_Veneman_0005.png', '../../images/testsets/small_test/Ann_Veneman_0004.png']\n",
        "Score: 0.0754 for Ann Veneman and Ann Veneman"
       ]
      },
      {
       "output_type": "stream",
       "stream": "stdout",
       "text": [
        "\n",
        "['../../images/testsets/small_test/Ann_Veneman_0005.png', '../../images/testsets/small_test/Anna_Kournikova_0010.png']\n",
        "Score: 0.0630 for Ann Veneman and Anna Kournikova"
       ]
      },
      {
       "output_type": "stream",
       "stream": "stdout",
       "text": [
        "\n",
        "['../../images/testsets/small_test/Ann_Veneman_0005.png', '../../images/testsets/small_test/Ann_Veneman_0011.png']\n",
        "Score: 0.1107 for Ann Veneman and Ann Veneman"
       ]
      },
      {
       "output_type": "stream",
       "stream": "stdout",
       "text": [
        "\n",
        "['../../images/testsets/small_test/Ann_Veneman_0005.png', '../../images/testsets/small_test/Anna_Kournikova_0001.png']\n",
        "Score: 0.1072 for Ann Veneman and Anna Kournikova"
       ]
      },
      {
       "output_type": "stream",
       "stream": "stdout",
       "text": [
        "\n",
        "['../../images/testsets/small_test/Ann_Veneman_0005.png', '../../images/testsets/small_test/Ann_Veneman_0006.png']\n",
        "Score: 0.0851 for Ann Veneman and Ann Veneman"
       ]
      },
      {
       "output_type": "stream",
       "stream": "stdout",
       "text": [
        "\n",
        "['../../images/testsets/small_test/Ann_Veneman_0005.png', '../../images/testsets/small_test/Anna_Kournikova_0012.png']\n",
        "Score: 0.0744 for Ann Veneman and Anna Kournikova"
       ]
      },
      {
       "output_type": "stream",
       "stream": "stdout",
       "text": [
        "\n",
        "['../../images/testsets/small_test/Ann_Veneman_0005.png', '../../images/testsets/small_test/Bill_Gates_0015.png']\n",
        "Score: 0.0803 for Ann Veneman and Bill Gates"
       ]
      },
      {
       "output_type": "stream",
       "stream": "stdout",
       "text": [
        "\n",
        "['../../images/testsets/small_test/Ann_Veneman_0005.png', '../../images/testsets/small_test/Anna_Kournikova_0004.png']\n",
        "Score: -0.1000 for Ann Veneman and Anna Kournikova (Less than two matches)"
       ]
      },
      {
       "output_type": "stream",
       "stream": "stdout",
       "text": [
        "\n",
        "['../../images/testsets/small_test/Ann_Veneman_0005.png', '../../images/testsets/small_test/Anna_Kournikova_0011.png']\n",
        "Score: -0.1000 for Ann Veneman and Anna Kournikova (Less than two matches)"
       ]
      },
      {
       "output_type": "stream",
       "stream": "stdout",
       "text": [
        "\n",
        "['../../images/testsets/small_test/Ann_Veneman_0005.png', '../../images/testsets/small_test/Anna_Kournikova_0008.png']\n",
        "Score: 0.1023 for Ann Veneman and Anna Kournikova"
       ]
      },
      {
       "output_type": "stream",
       "stream": "stdout",
       "text": [
        "\n",
        "['../../images/testsets/small_test/Ann_Veneman_0005.png', '../../images/testsets/small_test/Bill_Gates_0005.png']\n",
        "Score: 0.0637 for Ann Veneman and Bill Gates"
       ]
      },
      {
       "output_type": "stream",
       "stream": "stdout",
       "text": [
        "\n",
        "['../../images/testsets/small_test/Ann_Veneman_0005.png', '../../images/testsets/small_test/Ann_Veneman_0001.png']\n",
        "Score: 0.0683 for Ann Veneman and Ann Veneman"
       ]
      },
      {
       "output_type": "stream",
       "stream": "stdout",
       "text": [
        "\n",
        "['../../images/testsets/small_test/Ann_Veneman_0005.png', '../../images/testsets/small_test/Ann_Veneman_0008.png']\n",
        "Score: 0.0428 for Ann Veneman and Ann Veneman"
       ]
      },
      {
       "output_type": "stream",
       "stream": "stdout",
       "text": [
        "\n",
        "['../../images/testsets/small_test/Ann_Veneman_0005.png', '../../images/testsets/small_test/Ann_Veneman_0003.png']\n",
        "Score: 0.1184 for Ann Veneman and Ann Veneman"
       ]
      },
      {
       "output_type": "stream",
       "stream": "stdout",
       "text": [
        "\n",
        "['../../images/testsets/small_test/Bill_Gates_0002.png', '../../images/testsets/small_test/Bill_Gates_0004.png']\n",
        "Score: -0.1000 for Bill Gates and Bill Gates (Less than two matches)"
       ]
      },
      {
       "output_type": "stream",
       "stream": "stdout",
       "text": [
        "\n",
        "['../../images/testsets/small_test/Bill_Gates_0002.png', '../../images/testsets/small_test/Ann_Veneman_0002.png']\n",
        "Score: -0.1000 for Bill Gates and Ann Veneman (Less than two matches)"
       ]
      },
      {
       "output_type": "stream",
       "stream": "stdout",
       "text": [
        "\n",
        "['../../images/testsets/small_test/Bill_Gates_0002.png', '../../images/testsets/small_test/Bill_Gates_0006.png']\n",
        "Score: -0.1000 for Bill Gates and Bill Gates (Less than two matches)"
       ]
      },
      {
       "output_type": "stream",
       "stream": "stdout",
       "text": [
        "\n",
        "['../../images/testsets/small_test/Bill_Gates_0002.png', '../../images/testsets/small_test/Ann_Veneman_0009.png']\n",
        "Score: -0.1000 for Bill Gates and Ann Veneman (Less than two matches)"
       ]
      },
      {
       "output_type": "stream",
       "stream": "stdout",
       "text": [
        "\n",
        "['../../images/testsets/small_test/Bill_Gates_0002.png', '../../images/testsets/small_test/Bill_Gates_0016.png']\n",
        "Score: -0.1000 for Bill Gates and Bill Gates (Less than two matches)"
       ]
      },
      {
       "output_type": "stream",
       "stream": "stdout",
       "text": [
        "\n",
        "['../../images/testsets/small_test/Bill_Gates_0002.png', '../../images/testsets/small_test/Bill_Gates_0008.png']\n",
        "Score: -0.0057 for Bill Gates and Bill Gates"
       ]
      },
      {
       "output_type": "stream",
       "stream": "stdout",
       "text": [
        "\n",
        "['../../images/testsets/small_test/Bill_Gates_0002.png', '../../images/testsets/small_test/Bill_Gates_0007.png']\n",
        "Score: -0.1000 for Bill Gates and Bill Gates (Less than two matches)"
       ]
      },
      {
       "output_type": "stream",
       "stream": "stdout",
       "text": [
        "\n",
        "['../../images/testsets/small_test/Bill_Gates_0002.png', '../../images/testsets/small_test/Anna_Kournikova_0003.png']\n",
        "Score: -0.1000 for Bill Gates and Anna Kournikova (Less than two matches)"
       ]
      },
      {
       "output_type": "stream",
       "stream": "stdout",
       "text": [
        "\n",
        "['../../images/testsets/small_test/Bill_Gates_0002.png', '../../images/testsets/small_test/Bill_Gates_0013.png']\n",
        "Score: -0.1000 for Bill Gates and Bill Gates (Less than two matches)"
       ]
      },
      {
       "output_type": "stream",
       "stream": "stdout",
       "text": [
        "\n",
        "['../../images/testsets/small_test/Bill_Gates_0002.png', '../../images/testsets/small_test/Anna_Kournikova_0006.png']\n",
        "Score: -0.1000 for Bill Gates and Anna Kournikova (Less than two matches)"
       ]
      },
      {
       "output_type": "stream",
       "stream": "stdout",
       "text": [
        "\n",
        "['../../images/testsets/small_test/Bill_Gates_0002.png', '../../images/testsets/small_test/Ann_Veneman_0010.png']\n",
        "Score: -0.1000 for Bill Gates and Ann Veneman (Less than two matches)"
       ]
      },
      {
       "output_type": "stream",
       "stream": "stdout",
       "text": [
        "\n",
        "['../../images/testsets/small_test/Bill_Gates_0002.png', '../../images/testsets/small_test/Ann_Veneman_0004.png']\n",
        "Score: -0.1000 for Bill Gates and Ann Veneman (Less than two matches)"
       ]
      },
      {
       "output_type": "stream",
       "stream": "stdout",
       "text": [
        "\n",
        "['../../images/testsets/small_test/Bill_Gates_0002.png', '../../images/testsets/small_test/Anna_Kournikova_0010.png']\n",
        "Score: -0.1000 for Bill Gates and Anna Kournikova (Less than two matches)"
       ]
      },
      {
       "output_type": "stream",
       "stream": "stdout",
       "text": [
        "\n",
        "['../../images/testsets/small_test/Bill_Gates_0002.png', '../../images/testsets/small_test/Ann_Veneman_0011.png']\n",
        "Score: -0.1000 for Bill Gates and Ann Veneman (Less than two matches)"
       ]
      },
      {
       "output_type": "stream",
       "stream": "stdout",
       "text": [
        "\n",
        "['../../images/testsets/small_test/Bill_Gates_0002.png', '../../images/testsets/small_test/Anna_Kournikova_0001.png']\n",
        "Score: -0.1000 for Bill Gates and Anna Kournikova (Less than two matches)"
       ]
      },
      {
       "output_type": "stream",
       "stream": "stdout",
       "text": [
        "\n",
        "['../../images/testsets/small_test/Bill_Gates_0002.png', '../../images/testsets/small_test/Ann_Veneman_0006.png']\n",
        "Score: -0.1000 for Bill Gates and Ann Veneman (Less than two matches)"
       ]
      },
      {
       "output_type": "stream",
       "stream": "stdout",
       "text": [
        "\n",
        "['../../images/testsets/small_test/Bill_Gates_0002.png', '../../images/testsets/small_test/Anna_Kournikova_0012.png']\n",
        "Score: -0.1000 for Bill Gates and Anna Kournikova (Less than two matches)"
       ]
      },
      {
       "output_type": "stream",
       "stream": "stdout",
       "text": [
        "\n",
        "['../../images/testsets/small_test/Bill_Gates_0002.png', '../../images/testsets/small_test/Bill_Gates_0015.png']\n",
        "Score: -0.1000 for Bill Gates and Bill Gates (Less than two matches)"
       ]
      },
      {
       "output_type": "stream",
       "stream": "stdout",
       "text": [
        "\n",
        "['../../images/testsets/small_test/Bill_Gates_0002.png', '../../images/testsets/small_test/Anna_Kournikova_0004.png']\n",
        "Score: -0.1000 for Bill Gates and Anna Kournikova (Less than two matches)"
       ]
      },
      {
       "output_type": "stream",
       "stream": "stdout",
       "text": [
        "\n",
        "['../../images/testsets/small_test/Bill_Gates_0002.png', '../../images/testsets/small_test/Anna_Kournikova_0011.png']\n",
        "Score: -0.1000 for Bill Gates and Anna Kournikova (Less than two matches)"
       ]
      },
      {
       "output_type": "stream",
       "stream": "stdout",
       "text": [
        "\n",
        "['../../images/testsets/small_test/Bill_Gates_0002.png', '../../images/testsets/small_test/Anna_Kournikova_0008.png']\n",
        "Score: -0.1000 for Bill Gates and Anna Kournikova (Less than two matches)"
       ]
      },
      {
       "output_type": "stream",
       "stream": "stdout",
       "text": [
        "\n",
        "['../../images/testsets/small_test/Bill_Gates_0002.png', '../../images/testsets/small_test/Bill_Gates_0005.png']\n",
        "Score: -0.1000 for Bill Gates and Bill Gates (Less than two matches)"
       ]
      },
      {
       "output_type": "stream",
       "stream": "stdout",
       "text": [
        "\n",
        "['../../images/testsets/small_test/Bill_Gates_0002.png', '../../images/testsets/small_test/Ann_Veneman_0001.png']\n",
        "Score: -0.1000 for Bill Gates and Ann Veneman (Less than two matches)"
       ]
      },
      {
       "output_type": "stream",
       "stream": "stdout",
       "text": [
        "\n",
        "['../../images/testsets/small_test/Bill_Gates_0002.png', '../../images/testsets/small_test/Ann_Veneman_0008.png']\n",
        "Score: -0.1000 for Bill Gates and Ann Veneman (Less than two matches)"
       ]
      },
      {
       "output_type": "stream",
       "stream": "stdout",
       "text": [
        "\n",
        "['../../images/testsets/small_test/Bill_Gates_0002.png', '../../images/testsets/small_test/Ann_Veneman_0003.png']\n",
        "Score: -0.1000 for Bill Gates and Ann Veneman (Less than two matches)"
       ]
      },
      {
       "output_type": "stream",
       "stream": "stdout",
       "text": [
        "\n",
        "['../../images/testsets/small_test/Bill_Gates_0004.png', '../../images/testsets/small_test/Ann_Veneman_0002.png']\n",
        "Score: -0.1000 for Bill Gates and Ann Veneman (Less than two matches)"
       ]
      },
      {
       "output_type": "stream",
       "stream": "stdout",
       "text": [
        "\n",
        "['../../images/testsets/small_test/Bill_Gates_0004.png', '../../images/testsets/small_test/Bill_Gates_0006.png']\n",
        "Score: -0.1000 for Bill Gates and Bill Gates (Less than two matches)"
       ]
      },
      {
       "output_type": "stream",
       "stream": "stdout",
       "text": [
        "\n",
        "['../../images/testsets/small_test/Bill_Gates_0004.png', '../../images/testsets/small_test/Ann_Veneman_0009.png']\n",
        "Score: -0.1000 for Bill Gates and Ann Veneman (Less than two matches)"
       ]
      },
      {
       "output_type": "stream",
       "stream": "stdout",
       "text": [
        "\n",
        "['../../images/testsets/small_test/Bill_Gates_0004.png', '../../images/testsets/small_test/Bill_Gates_0016.png']\n",
        "Score: -0.1000 for Bill Gates and Bill Gates (Less than two matches)"
       ]
      },
      {
       "output_type": "stream",
       "stream": "stdout",
       "text": [
        "\n",
        "['../../images/testsets/small_test/Bill_Gates_0004.png', '../../images/testsets/small_test/Bill_Gates_0008.png']\n",
        "Score: 0.0118 for Bill Gates and Bill Gates"
       ]
      },
      {
       "output_type": "stream",
       "stream": "stdout",
       "text": [
        "\n",
        "['../../images/testsets/small_test/Bill_Gates_0004.png', '../../images/testsets/small_test/Bill_Gates_0007.png']\n",
        "Score: 0.0882 for Bill Gates and Bill Gates"
       ]
      },
      {
       "output_type": "stream",
       "stream": "stdout",
       "text": [
        "\n",
        "['../../images/testsets/small_test/Bill_Gates_0004.png', '../../images/testsets/small_test/Anna_Kournikova_0003.png']\n",
        "Score: 0.0737 for Bill Gates and Anna Kournikova"
       ]
      },
      {
       "output_type": "stream",
       "stream": "stdout",
       "text": [
        "\n",
        "['../../images/testsets/small_test/Bill_Gates_0004.png', '../../images/testsets/small_test/Bill_Gates_0013.png']\n",
        "Score: 0.0443 for Bill Gates and Bill Gates"
       ]
      },
      {
       "output_type": "stream",
       "stream": "stdout",
       "text": [
        "\n",
        "['../../images/testsets/small_test/Bill_Gates_0004.png', '../../images/testsets/small_test/Anna_Kournikova_0006.png']\n",
        "Score: -0.1000 for Bill Gates and Anna Kournikova (Less than two matches)"
       ]
      },
      {
       "output_type": "stream",
       "stream": "stdout",
       "text": [
        "\n",
        "['../../images/testsets/small_test/Bill_Gates_0004.png', '../../images/testsets/small_test/Ann_Veneman_0010.png']\n",
        "Score: -0.1000 for Bill Gates and Ann Veneman (Less than two matches)"
       ]
      },
      {
       "output_type": "stream",
       "stream": "stdout",
       "text": [
        "\n",
        "['../../images/testsets/small_test/Bill_Gates_0004.png', '../../images/testsets/small_test/Ann_Veneman_0004.png']\n",
        "Score: -0.1000 for Bill Gates and Ann Veneman (Less than two matches)"
       ]
      },
      {
       "output_type": "stream",
       "stream": "stdout",
       "text": [
        "\n",
        "['../../images/testsets/small_test/Bill_Gates_0004.png', '../../images/testsets/small_test/Anna_Kournikova_0010.png']\n",
        "Score: 0.0534 for Bill Gates and Anna Kournikova"
       ]
      },
      {
       "output_type": "stream",
       "stream": "stdout",
       "text": [
        "\n",
        "['../../images/testsets/small_test/Bill_Gates_0004.png', '../../images/testsets/small_test/Ann_Veneman_0011.png']\n",
        "Score: -0.1000 for Bill Gates and Ann Veneman (Less than two matches)"
       ]
      },
      {
       "output_type": "stream",
       "stream": "stdout",
       "text": [
        "\n",
        "['../../images/testsets/small_test/Bill_Gates_0004.png', '../../images/testsets/small_test/Anna_Kournikova_0001.png']\n",
        "Score: 0.0614 for Bill Gates and Anna Kournikova"
       ]
      },
      {
       "output_type": "stream",
       "stream": "stdout",
       "text": [
        "\n",
        "['../../images/testsets/small_test/Bill_Gates_0004.png', '../../images/testsets/small_test/Ann_Veneman_0006.png']\n",
        "Score: -0.1000 for Bill Gates and Ann Veneman (Less than two matches)"
       ]
      },
      {
       "output_type": "stream",
       "stream": "stdout",
       "text": [
        "\n",
        "['../../images/testsets/small_test/Bill_Gates_0004.png', '../../images/testsets/small_test/Anna_Kournikova_0012.png']\n",
        "Score: 0.0450 for Bill Gates and Anna Kournikova"
       ]
      },
      {
       "output_type": "stream",
       "stream": "stdout",
       "text": [
        "\n",
        "['../../images/testsets/small_test/Bill_Gates_0004.png', '../../images/testsets/small_test/Bill_Gates_0015.png']\n",
        "Score: -0.1000 for Bill Gates and Bill Gates (Less than two matches)"
       ]
      },
      {
       "output_type": "stream",
       "stream": "stdout",
       "text": [
        "\n",
        "['../../images/testsets/small_test/Bill_Gates_0004.png', '../../images/testsets/small_test/Anna_Kournikova_0004.png']\n",
        "Score: 0.1010 for Bill Gates and Anna Kournikova"
       ]
      },
      {
       "output_type": "stream",
       "stream": "stdout",
       "text": [
        "\n",
        "['../../images/testsets/small_test/Bill_Gates_0004.png', '../../images/testsets/small_test/Anna_Kournikova_0011.png']\n",
        "Score: -0.1000 for Bill Gates and Anna Kournikova (Less than two matches)"
       ]
      },
      {
       "output_type": "stream",
       "stream": "stdout",
       "text": [
        "\n",
        "['../../images/testsets/small_test/Bill_Gates_0004.png', '../../images/testsets/small_test/Anna_Kournikova_0008.png']\n",
        "Score: -0.1000 for Bill Gates and Anna Kournikova (Less than two matches)"
       ]
      },
      {
       "output_type": "stream",
       "stream": "stdout",
       "text": [
        "\n",
        "['../../images/testsets/small_test/Bill_Gates_0004.png', '../../images/testsets/small_test/Bill_Gates_0005.png']\n",
        "Score: -0.1000 for Bill Gates and Bill Gates (Less than two matches)"
       ]
      },
      {
       "output_type": "stream",
       "stream": "stdout",
       "text": [
        "\n",
        "['../../images/testsets/small_test/Bill_Gates_0004.png', '../../images/testsets/small_test/Ann_Veneman_0001.png']\n",
        "Score: 0.0824 for Bill Gates and Ann Veneman"
       ]
      },
      {
       "output_type": "stream",
       "stream": "stdout",
       "text": [
        "\n",
        "['../../images/testsets/small_test/Bill_Gates_0004.png', '../../images/testsets/small_test/Ann_Veneman_0008.png']\n",
        "Score: 0.0627 for Bill Gates and Ann Veneman"
       ]
      },
      {
       "output_type": "stream",
       "stream": "stdout",
       "text": [
        "\n",
        "['../../images/testsets/small_test/Bill_Gates_0004.png', '../../images/testsets/small_test/Ann_Veneman_0003.png']\n",
        "Score: -0.0481 for Bill Gates and Ann Veneman"
       ]
      },
      {
       "output_type": "stream",
       "stream": "stdout",
       "text": [
        "\n",
        "['../../images/testsets/small_test/Ann_Veneman_0002.png', '../../images/testsets/small_test/Bill_Gates_0006.png']\n",
        "Score: 0.0103 for Ann Veneman and Bill Gates"
       ]
      },
      {
       "output_type": "stream",
       "stream": "stdout",
       "text": [
        "\n",
        "['../../images/testsets/small_test/Ann_Veneman_0002.png', '../../images/testsets/small_test/Ann_Veneman_0009.png']\n",
        "Score: 0.1081 for Ann Veneman and Ann Veneman"
       ]
      },
      {
       "output_type": "stream",
       "stream": "stdout",
       "text": [
        "\n",
        "['../../images/testsets/small_test/Ann_Veneman_0002.png', '../../images/testsets/small_test/Bill_Gates_0016.png']\n",
        "Score: 0.0287 for Ann Veneman and Bill Gates"
       ]
      },
      {
       "output_type": "stream",
       "stream": "stdout",
       "text": [
        "\n",
        "['../../images/testsets/small_test/Ann_Veneman_0002.png', '../../images/testsets/small_test/Bill_Gates_0008.png']\n",
        "Score: 0.0040 for Ann Veneman and Bill Gates"
       ]
      },
      {
       "output_type": "stream",
       "stream": "stdout",
       "text": [
        "\n",
        "['../../images/testsets/small_test/Ann_Veneman_0002.png', '../../images/testsets/small_test/Bill_Gates_0007.png']\n",
        "Score: 0.0581 for Ann Veneman and Bill Gates"
       ]
      },
      {
       "output_type": "stream",
       "stream": "stdout",
       "text": [
        "\n",
        "['../../images/testsets/small_test/Ann_Veneman_0002.png', '../../images/testsets/small_test/Anna_Kournikova_0003.png']\n",
        "Score: -0.1000 for Ann Veneman and Anna Kournikova (Less than two matches)"
       ]
      },
      {
       "output_type": "stream",
       "stream": "stdout",
       "text": [
        "\n",
        "['../../images/testsets/small_test/Ann_Veneman_0002.png', '../../images/testsets/small_test/Bill_Gates_0013.png']\n",
        "Score: 0.0396 for Ann Veneman and Bill Gates"
       ]
      },
      {
       "output_type": "stream",
       "stream": "stdout",
       "text": [
        "\n",
        "['../../images/testsets/small_test/Ann_Veneman_0002.png', '../../images/testsets/small_test/Anna_Kournikova_0006.png']\n",
        "Score: 0.0603 for Ann Veneman and Anna Kournikova"
       ]
      },
      {
       "output_type": "stream",
       "stream": "stdout",
       "text": [
        "\n",
        "['../../images/testsets/small_test/Ann_Veneman_0002.png', '../../images/testsets/small_test/Ann_Veneman_0010.png']\n",
        "Score: 0.0282 for Ann Veneman and Ann Veneman"
       ]
      },
      {
       "output_type": "stream",
       "stream": "stdout",
       "text": [
        "\n",
        "['../../images/testsets/small_test/Ann_Veneman_0002.png', '../../images/testsets/small_test/Ann_Veneman_0004.png']\n",
        "Score: 0.0165 for Ann Veneman and Ann Veneman"
       ]
      },
      {
       "output_type": "stream",
       "stream": "stdout",
       "text": [
        "\n",
        "['../../images/testsets/small_test/Ann_Veneman_0002.png', '../../images/testsets/small_test/Anna_Kournikova_0010.png']\n",
        "Score: -0.0625 for Ann Veneman and Anna Kournikova"
       ]
      },
      {
       "output_type": "stream",
       "stream": "stdout",
       "text": [
        "\n",
        "['../../images/testsets/small_test/Ann_Veneman_0002.png', '../../images/testsets/small_test/Ann_Veneman_0011.png']\n",
        "Score: 0.0483 for Ann Veneman and Ann Veneman"
       ]
      },
      {
       "output_type": "stream",
       "stream": "stdout",
       "text": [
        "\n",
        "['../../images/testsets/small_test/Ann_Veneman_0002.png', '../../images/testsets/small_test/Anna_Kournikova_0001.png']\n",
        "Score: -0.1000 for Ann Veneman and Anna Kournikova (Less than two matches)"
       ]
      },
      {
       "output_type": "stream",
       "stream": "stdout",
       "text": [
        "\n",
        "['../../images/testsets/small_test/Ann_Veneman_0002.png', '../../images/testsets/small_test/Ann_Veneman_0006.png']\n",
        "Score: 0.0619 for Ann Veneman and Ann Veneman"
       ]
      },
      {
       "output_type": "stream",
       "stream": "stdout",
       "text": [
        "\n",
        "['../../images/testsets/small_test/Ann_Veneman_0002.png', '../../images/testsets/small_test/Anna_Kournikova_0012.png']\n",
        "Score: 0.0523 for Ann Veneman and Anna Kournikova"
       ]
      },
      {
       "output_type": "stream",
       "stream": "stdout",
       "text": [
        "\n",
        "['../../images/testsets/small_test/Ann_Veneman_0002.png', '../../images/testsets/small_test/Bill_Gates_0015.png']\n",
        "Score: -0.0928 for Ann Veneman and Bill Gates"
       ]
      },
      {
       "output_type": "stream",
       "stream": "stdout",
       "text": [
        "\n",
        "['../../images/testsets/small_test/Ann_Veneman_0002.png', '../../images/testsets/small_test/Anna_Kournikova_0004.png']\n",
        "Score: -0.1000 for Ann Veneman and Anna Kournikova (Less than two matches)"
       ]
      },
      {
       "output_type": "stream",
       "stream": "stdout",
       "text": [
        "\n",
        "['../../images/testsets/small_test/Ann_Veneman_0002.png', '../../images/testsets/small_test/Anna_Kournikova_0011.png']\n",
        "Score: -0.1000 for Ann Veneman and Anna Kournikova (Less than two matches)"
       ]
      },
      {
       "output_type": "stream",
       "stream": "stdout",
       "text": [
        "\n",
        "['../../images/testsets/small_test/Ann_Veneman_0002.png', '../../images/testsets/small_test/Anna_Kournikova_0008.png']\n",
        "Score: -0.1000 for Ann Veneman and Anna Kournikova (Less than two matches)"
       ]
      },
      {
       "output_type": "stream",
       "stream": "stdout",
       "text": [
        "\n",
        "['../../images/testsets/small_test/Ann_Veneman_0002.png', '../../images/testsets/small_test/Bill_Gates_0005.png']\n",
        "Score: 0.0137 for Ann Veneman and Bill Gates"
       ]
      },
      {
       "output_type": "stream",
       "stream": "stdout",
       "text": [
        "\n",
        "['../../images/testsets/small_test/Ann_Veneman_0002.png', '../../images/testsets/small_test/Ann_Veneman_0001.png']\n",
        "Score: 0.0435 for Ann Veneman and Ann Veneman"
       ]
      },
      {
       "output_type": "stream",
       "stream": "stdout",
       "text": [
        "\n",
        "['../../images/testsets/small_test/Ann_Veneman_0002.png', '../../images/testsets/small_test/Ann_Veneman_0008.png']\n",
        "Score: 0.0427 for Ann Veneman and Ann Veneman"
       ]
      },
      {
       "output_type": "stream",
       "stream": "stdout",
       "text": [
        "\n",
        "['../../images/testsets/small_test/Ann_Veneman_0002.png', '../../images/testsets/small_test/Ann_Veneman_0003.png']\n",
        "Score: 0.0879 for Ann Veneman and Ann Veneman"
       ]
      },
      {
       "output_type": "stream",
       "stream": "stdout",
       "text": [
        "\n",
        "['../../images/testsets/small_test/Bill_Gates_0006.png', '../../images/testsets/small_test/Ann_Veneman_0009.png']\n",
        "Score: 0.0668 for Bill Gates and Ann Veneman"
       ]
      },
      {
       "output_type": "stream",
       "stream": "stdout",
       "text": [
        "\n",
        "['../../images/testsets/small_test/Bill_Gates_0006.png', '../../images/testsets/small_test/Bill_Gates_0016.png']\n",
        "Score: 0.0251 for Bill Gates and Bill Gates"
       ]
      },
      {
       "output_type": "stream",
       "stream": "stdout",
       "text": [
        "\n",
        "['../../images/testsets/small_test/Bill_Gates_0006.png', '../../images/testsets/small_test/Bill_Gates_0008.png']\n",
        "Score: -0.1490 for Bill Gates and Bill Gates"
       ]
      },
      {
       "output_type": "stream",
       "stream": "stdout",
       "text": [
        "\n",
        "['../../images/testsets/small_test/Bill_Gates_0006.png', '../../images/testsets/small_test/Bill_Gates_0007.png']\n",
        "Score: 0.0183 for Bill Gates and Bill Gates"
       ]
      },
      {
       "output_type": "stream",
       "stream": "stdout",
       "text": [
        "\n",
        "['../../images/testsets/small_test/Bill_Gates_0006.png', '../../images/testsets/small_test/Anna_Kournikova_0003.png']\n",
        "Score: -0.1000 for Bill Gates and Anna Kournikova (Less than two matches)"
       ]
      },
      {
       "output_type": "stream",
       "stream": "stdout",
       "text": [
        "\n",
        "['../../images/testsets/small_test/Bill_Gates_0006.png', '../../images/testsets/small_test/Bill_Gates_0013.png']\n",
        "Score: 0.0405 for Bill Gates and Bill Gates"
       ]
      },
      {
       "output_type": "stream",
       "stream": "stdout",
       "text": [
        "\n",
        "['../../images/testsets/small_test/Bill_Gates_0006.png', '../../images/testsets/small_test/Anna_Kournikova_0006.png']\n",
        "Score: 0.0381 for Bill Gates and Anna Kournikova"
       ]
      },
      {
       "output_type": "stream",
       "stream": "stdout",
       "text": [
        "\n",
        "['../../images/testsets/small_test/Bill_Gates_0006.png', '../../images/testsets/small_test/Ann_Veneman_0010.png']\n",
        "Score: -0.0198 for Bill Gates and Ann Veneman"
       ]
      },
      {
       "output_type": "stream",
       "stream": "stdout",
       "text": [
        "\n",
        "['../../images/testsets/small_test/Bill_Gates_0006.png', '../../images/testsets/small_test/Ann_Veneman_0004.png']\n",
        "Score: 0.0357 for Bill Gates and Ann Veneman"
       ]
      },
      {
       "output_type": "stream",
       "stream": "stdout",
       "text": [
        "\n",
        "['../../images/testsets/small_test/Bill_Gates_0006.png', '../../images/testsets/small_test/Anna_Kournikova_0010.png']\n",
        "Score: -0.1000 for Bill Gates and Anna Kournikova (Less than two matches)"
       ]
      },
      {
       "output_type": "stream",
       "stream": "stdout",
       "text": [
        "\n",
        "['../../images/testsets/small_test/Bill_Gates_0006.png', '../../images/testsets/small_test/Ann_Veneman_0011.png']\n",
        "Score: 0.0771 for Bill Gates and Ann Veneman"
       ]
      },
      {
       "output_type": "stream",
       "stream": "stdout",
       "text": [
        "\n",
        "['../../images/testsets/small_test/Bill_Gates_0006.png', '../../images/testsets/small_test/Anna_Kournikova_0001.png']\n",
        "Score: 0.0382 for Bill Gates and Anna Kournikova"
       ]
      },
      {
       "output_type": "stream",
       "stream": "stdout",
       "text": [
        "\n",
        "['../../images/testsets/small_test/Bill_Gates_0006.png', '../../images/testsets/small_test/Ann_Veneman_0006.png']\n",
        "Score: -0.0253 for Bill Gates and Ann Veneman"
       ]
      },
      {
       "output_type": "stream",
       "stream": "stdout",
       "text": [
        "\n",
        "['../../images/testsets/small_test/Bill_Gates_0006.png', '../../images/testsets/small_test/Anna_Kournikova_0012.png']\n",
        "Score: 0.0439 for Bill Gates and Anna Kournikova"
       ]
      },
      {
       "output_type": "stream",
       "stream": "stdout",
       "text": [
        "\n",
        "['../../images/testsets/small_test/Bill_Gates_0006.png', '../../images/testsets/small_test/Bill_Gates_0015.png']\n",
        "Score: 0.0158 for Bill Gates and Bill Gates"
       ]
      },
      {
       "output_type": "stream",
       "stream": "stdout",
       "text": [
        "\n",
        "['../../images/testsets/small_test/Bill_Gates_0006.png', '../../images/testsets/small_test/Anna_Kournikova_0004.png']\n",
        "Score: -0.1000 for Bill Gates and Anna Kournikova (Less than two matches)"
       ]
      },
      {
       "output_type": "stream",
       "stream": "stdout",
       "text": [
        "\n",
        "['../../images/testsets/small_test/Bill_Gates_0006.png', '../../images/testsets/small_test/Anna_Kournikova_0011.png']\n",
        "Score: -0.1000 for Bill Gates and Anna Kournikova (Less than two matches)"
       ]
      },
      {
       "output_type": "stream",
       "stream": "stdout",
       "text": [
        "\n",
        "['../../images/testsets/small_test/Bill_Gates_0006.png', '../../images/testsets/small_test/Anna_Kournikova_0008.png']\n",
        "Score: -0.1000 for Bill Gates and Anna Kournikova (Less than two matches)"
       ]
      },
      {
       "output_type": "stream",
       "stream": "stdout",
       "text": [
        "\n",
        "['../../images/testsets/small_test/Bill_Gates_0006.png', '../../images/testsets/small_test/Bill_Gates_0005.png']\n",
        "Score: 0.0178 for Bill Gates and Bill Gates"
       ]
      },
      {
       "output_type": "stream",
       "stream": "stdout",
       "text": [
        "\n",
        "['../../images/testsets/small_test/Bill_Gates_0006.png', '../../images/testsets/small_test/Ann_Veneman_0001.png']\n",
        "Score: 0.0065 for Bill Gates and Ann Veneman"
       ]
      },
      {
       "output_type": "stream",
       "stream": "stdout",
       "text": [
        "\n",
        "['../../images/testsets/small_test/Bill_Gates_0006.png', '../../images/testsets/small_test/Ann_Veneman_0008.png']\n",
        "Score: -0.0633 for Bill Gates and Ann Veneman"
       ]
      },
      {
       "output_type": "stream",
       "stream": "stdout",
       "text": [
        "\n",
        "['../../images/testsets/small_test/Bill_Gates_0006.png', '../../images/testsets/small_test/Ann_Veneman_0003.png']\n",
        "Score: 0.0245 for Bill Gates and Ann Veneman"
       ]
      },
      {
       "output_type": "stream",
       "stream": "stdout",
       "text": [
        "\n",
        "['../../images/testsets/small_test/Ann_Veneman_0009.png', '../../images/testsets/small_test/Bill_Gates_0016.png']\n",
        "Score: -0.0366 for Ann Veneman and Bill Gates"
       ]
      },
      {
       "output_type": "stream",
       "stream": "stdout",
       "text": [
        "\n",
        "['../../images/testsets/small_test/Ann_Veneman_0009.png', '../../images/testsets/small_test/Bill_Gates_0008.png']\n",
        "Score: -0.0263 for Ann Veneman and Bill Gates"
       ]
      },
      {
       "output_type": "stream",
       "stream": "stdout",
       "text": [
        "\n",
        "['../../images/testsets/small_test/Ann_Veneman_0009.png', '../../images/testsets/small_test/Bill_Gates_0007.png']\n",
        "Score: 0.0287 for Ann Veneman and Bill Gates"
       ]
      },
      {
       "output_type": "stream",
       "stream": "stdout",
       "text": [
        "\n",
        "['../../images/testsets/small_test/Ann_Veneman_0009.png', '../../images/testsets/small_test/Anna_Kournikova_0003.png']\n",
        "Score: 0.0474 for Ann Veneman and Anna Kournikova"
       ]
      },
      {
       "output_type": "stream",
       "stream": "stdout",
       "text": [
        "\n",
        "['../../images/testsets/small_test/Ann_Veneman_0009.png', '../../images/testsets/small_test/Bill_Gates_0013.png']\n",
        "Score: -0.0635 for Ann Veneman and Bill Gates"
       ]
      },
      {
       "output_type": "stream",
       "stream": "stdout",
       "text": [
        "\n",
        "['../../images/testsets/small_test/Ann_Veneman_0009.png', '../../images/testsets/small_test/Anna_Kournikova_0006.png']\n",
        "Score: 0.0750 for Ann Veneman and Anna Kournikova"
       ]
      },
      {
       "output_type": "stream",
       "stream": "stdout",
       "text": [
        "\n",
        "['../../images/testsets/small_test/Ann_Veneman_0009.png', '../../images/testsets/small_test/Ann_Veneman_0010.png']\n",
        "Score: 0.0729 for Ann Veneman and Ann Veneman"
       ]
      },
      {
       "output_type": "stream",
       "stream": "stdout",
       "text": [
        "\n",
        "['../../images/testsets/small_test/Ann_Veneman_0009.png', '../../images/testsets/small_test/Ann_Veneman_0004.png']\n",
        "Score: -0.1018 for Ann Veneman and Ann Veneman"
       ]
      },
      {
       "output_type": "stream",
       "stream": "stdout",
       "text": [
        "\n",
        "['../../images/testsets/small_test/Ann_Veneman_0009.png', '../../images/testsets/small_test/Anna_Kournikova_0010.png']\n",
        "Score: -0.1000 for Ann Veneman and Anna Kournikova (Less than two matches)"
       ]
      },
      {
       "output_type": "stream",
       "stream": "stdout",
       "text": [
        "\n",
        "['../../images/testsets/small_test/Ann_Veneman_0009.png', '../../images/testsets/small_test/Ann_Veneman_0011.png']\n",
        "Score: 0.0608 for Ann Veneman and Ann Veneman"
       ]
      },
      {
       "output_type": "stream",
       "stream": "stdout",
       "text": [
        "\n",
        "['../../images/testsets/small_test/Ann_Veneman_0009.png', '../../images/testsets/small_test/Anna_Kournikova_0001.png']\n",
        "Score: 0.0586 for Ann Veneman and Anna Kournikova"
       ]
      },
      {
       "output_type": "stream",
       "stream": "stdout",
       "text": [
        "\n",
        "['../../images/testsets/small_test/Ann_Veneman_0009.png', '../../images/testsets/small_test/Ann_Veneman_0006.png']\n",
        "Score: 0.0724 for Ann Veneman and Ann Veneman"
       ]
      },
      {
       "output_type": "stream",
       "stream": "stdout",
       "text": [
        "\n",
        "['../../images/testsets/small_test/Ann_Veneman_0009.png', '../../images/testsets/small_test/Anna_Kournikova_0012.png']\n",
        "Score: 0.0084 for Ann Veneman and Anna Kournikova"
       ]
      },
      {
       "output_type": "stream",
       "stream": "stdout",
       "text": [
        "\n",
        "['../../images/testsets/small_test/Ann_Veneman_0009.png', '../../images/testsets/small_test/Bill_Gates_0015.png']\n",
        "Score: 0.0464 for Ann Veneman and Bill Gates"
       ]
      },
      {
       "output_type": "stream",
       "stream": "stdout",
       "text": [
        "\n",
        "['../../images/testsets/small_test/Ann_Veneman_0009.png', '../../images/testsets/small_test/Anna_Kournikova_0004.png']\n",
        "Score: 0.0677 for Ann Veneman and Anna Kournikova"
       ]
      },
      {
       "output_type": "stream",
       "stream": "stdout",
       "text": [
        "\n",
        "['../../images/testsets/small_test/Ann_Veneman_0009.png', '../../images/testsets/small_test/Anna_Kournikova_0011.png']\n",
        "Score: 0.0255 for Ann Veneman and Anna Kournikova"
       ]
      },
      {
       "output_type": "stream",
       "stream": "stdout",
       "text": [
        "\n",
        "['../../images/testsets/small_test/Ann_Veneman_0009.png', '../../images/testsets/small_test/Anna_Kournikova_0008.png']\n",
        "Score: 0.0491 for Ann Veneman and Anna Kournikova"
       ]
      },
      {
       "output_type": "stream",
       "stream": "stdout",
       "text": [
        "\n",
        "['../../images/testsets/small_test/Ann_Veneman_0009.png', '../../images/testsets/small_test/Bill_Gates_0005.png']\n",
        "Score: -0.0764 for Ann Veneman and Bill Gates"
       ]
      },
      {
       "output_type": "stream",
       "stream": "stdout",
       "text": [
        "\n",
        "['../../images/testsets/small_test/Ann_Veneman_0009.png', '../../images/testsets/small_test/Ann_Veneman_0001.png']\n",
        "Score: -0.0256 for Ann Veneman and Ann Veneman"
       ]
      },
      {
       "output_type": "stream",
       "stream": "stdout",
       "text": [
        "\n",
        "['../../images/testsets/small_test/Ann_Veneman_0009.png', '../../images/testsets/small_test/Ann_Veneman_0008.png']\n",
        "Score: 0.1183 for Ann Veneman and Ann Veneman"
       ]
      },
      {
       "output_type": "stream",
       "stream": "stdout",
       "text": [
        "\n",
        "['../../images/testsets/small_test/Ann_Veneman_0009.png', '../../images/testsets/small_test/Ann_Veneman_0003.png']\n",
        "Score: 0.0337 for Ann Veneman and Ann Veneman"
       ]
      },
      {
       "output_type": "stream",
       "stream": "stdout",
       "text": [
        "\n",
        "['../../images/testsets/small_test/Bill_Gates_0016.png', '../../images/testsets/small_test/Bill_Gates_0008.png']\n",
        "Score: 0.0719 for Bill Gates and Bill Gates"
       ]
      },
      {
       "output_type": "stream",
       "stream": "stdout",
       "text": [
        "\n",
        "['../../images/testsets/small_test/Bill_Gates_0016.png', '../../images/testsets/small_test/Bill_Gates_0007.png']\n",
        "Score: 0.1074 for Bill Gates and Bill Gates"
       ]
      },
      {
       "output_type": "stream",
       "stream": "stdout",
       "text": [
        "\n",
        "['../../images/testsets/small_test/Bill_Gates_0016.png', '../../images/testsets/small_test/Anna_Kournikova_0003.png']\n",
        "Score: -0.1000 for Bill Gates and Anna Kournikova (Less than two matches)"
       ]
      },
      {
       "output_type": "stream",
       "stream": "stdout",
       "text": [
        "\n",
        "['../../images/testsets/small_test/Bill_Gates_0016.png', '../../images/testsets/small_test/Bill_Gates_0013.png']\n",
        "Score: 0.0719 for Bill Gates and Bill Gates"
       ]
      },
      {
       "output_type": "stream",
       "stream": "stdout",
       "text": [
        "\n",
        "['../../images/testsets/small_test/Bill_Gates_0016.png', '../../images/testsets/small_test/Anna_Kournikova_0006.png']\n",
        "Score: -0.1000 for Bill Gates and Anna Kournikova (Less than two matches)"
       ]
      },
      {
       "output_type": "stream",
       "stream": "stdout",
       "text": [
        "\n",
        "['../../images/testsets/small_test/Bill_Gates_0016.png', '../../images/testsets/small_test/Ann_Veneman_0010.png']\n",
        "Score: 0.0218 for Bill Gates and Ann Veneman"
       ]
      },
      {
       "output_type": "stream",
       "stream": "stdout",
       "text": [
        "\n",
        "['../../images/testsets/small_test/Bill_Gates_0016.png', '../../images/testsets/small_test/Ann_Veneman_0004.png']\n",
        "Score: -0.1000 for Bill Gates and Ann Veneman (Less than two matches)"
       ]
      },
      {
       "output_type": "stream",
       "stream": "stdout",
       "text": [
        "\n",
        "['../../images/testsets/small_test/Bill_Gates_0016.png', '../../images/testsets/small_test/Anna_Kournikova_0010.png']\n",
        "Score: -0.1000 for Bill Gates and Anna Kournikova (Less than two matches)"
       ]
      },
      {
       "output_type": "stream",
       "stream": "stdout",
       "text": [
        "\n",
        "['../../images/testsets/small_test/Bill_Gates_0016.png', '../../images/testsets/small_test/Ann_Veneman_0011.png']\n",
        "Score: 0.0424 for Bill Gates and Ann Veneman"
       ]
      },
      {
       "output_type": "stream",
       "stream": "stdout",
       "text": [
        "\n",
        "['../../images/testsets/small_test/Bill_Gates_0016.png', '../../images/testsets/small_test/Anna_Kournikova_0001.png']\n",
        "Score: 0.0854 for Bill Gates and Anna Kournikova"
       ]
      },
      {
       "output_type": "stream",
       "stream": "stdout",
       "text": [
        "\n",
        "['../../images/testsets/small_test/Bill_Gates_0016.png', '../../images/testsets/small_test/Ann_Veneman_0006.png']\n",
        "Score: 0.0446 for Bill Gates and Ann Veneman"
       ]
      },
      {
       "output_type": "stream",
       "stream": "stdout",
       "text": [
        "\n",
        "['../../images/testsets/small_test/Bill_Gates_0016.png', '../../images/testsets/small_test/Anna_Kournikova_0012.png']\n",
        "Score: -0.0632 for Bill Gates and Anna Kournikova"
       ]
      },
      {
       "output_type": "stream",
       "stream": "stdout",
       "text": [
        "\n",
        "['../../images/testsets/small_test/Bill_Gates_0016.png', '../../images/testsets/small_test/Bill_Gates_0015.png']\n",
        "Score: 0.1494 for Bill Gates and Bill Gates"
       ]
      },
      {
       "output_type": "stream",
       "stream": "stdout",
       "text": [
        "\n",
        "['../../images/testsets/small_test/Bill_Gates_0016.png', '../../images/testsets/small_test/Anna_Kournikova_0004.png']\n",
        "Score: -0.1000 for Bill Gates and Anna Kournikova (Less than two matches)"
       ]
      },
      {
       "output_type": "stream",
       "stream": "stdout",
       "text": [
        "\n",
        "['../../images/testsets/small_test/Bill_Gates_0016.png', '../../images/testsets/small_test/Anna_Kournikova_0011.png']\n",
        "Score: -0.1000 for Bill Gates and Anna Kournikova (Less than two matches)"
       ]
      },
      {
       "output_type": "stream",
       "stream": "stdout",
       "text": [
        "\n",
        "['../../images/testsets/small_test/Bill_Gates_0016.png', '../../images/testsets/small_test/Anna_Kournikova_0008.png']\n",
        "Score: 0.0997 for Bill Gates and Anna Kournikova"
       ]
      },
      {
       "output_type": "stream",
       "stream": "stdout",
       "text": [
        "\n",
        "['../../images/testsets/small_test/Bill_Gates_0016.png', '../../images/testsets/small_test/Bill_Gates_0005.png']\n",
        "Score: 0.0813 for Bill Gates and Bill Gates"
       ]
      },
      {
       "output_type": "stream",
       "stream": "stdout",
       "text": [
        "\n",
        "['../../images/testsets/small_test/Bill_Gates_0016.png', '../../images/testsets/small_test/Ann_Veneman_0001.png']\n",
        "Score: -0.0515 for Bill Gates and Ann Veneman"
       ]
      },
      {
       "output_type": "stream",
       "stream": "stdout",
       "text": [
        "\n",
        "['../../images/testsets/small_test/Bill_Gates_0016.png', '../../images/testsets/small_test/Ann_Veneman_0008.png']\n",
        "Score: 0.0552 for Bill Gates and Ann Veneman"
       ]
      },
      {
       "output_type": "stream",
       "stream": "stdout",
       "text": [
        "\n",
        "['../../images/testsets/small_test/Bill_Gates_0016.png', '../../images/testsets/small_test/Ann_Veneman_0003.png']\n",
        "Score: -0.0279 for Bill Gates and Ann Veneman"
       ]
      },
      {
       "output_type": "stream",
       "stream": "stdout",
       "text": [
        "\n",
        "['../../images/testsets/small_test/Bill_Gates_0008.png', '../../images/testsets/small_test/Bill_Gates_0007.png']\n",
        "Score: -0.0082 for Bill Gates and Bill Gates"
       ]
      },
      {
       "output_type": "stream",
       "stream": "stdout",
       "text": [
        "\n",
        "['../../images/testsets/small_test/Bill_Gates_0008.png', '../../images/testsets/small_test/Anna_Kournikova_0003.png']\n",
        "Score: -0.0241 for Bill Gates and Anna Kournikova"
       ]
      },
      {
       "output_type": "stream",
       "stream": "stdout",
       "text": [
        "\n",
        "['../../images/testsets/small_test/Bill_Gates_0008.png', '../../images/testsets/small_test/Bill_Gates_0013.png']\n",
        "Score: -0.1000 for Bill Gates and Bill Gates (Less than two matches)"
       ]
      },
      {
       "output_type": "stream",
       "stream": "stdout",
       "text": [
        "\n",
        "['../../images/testsets/small_test/Bill_Gates_0008.png', '../../images/testsets/small_test/Anna_Kournikova_0006.png']\n",
        "Score: -0.1000 for Bill Gates and Anna Kournikova (Less than two matches)"
       ]
      },
      {
       "output_type": "stream",
       "stream": "stdout",
       "text": [
        "\n",
        "['../../images/testsets/small_test/Bill_Gates_0008.png', '../../images/testsets/small_test/Ann_Veneman_0010.png']\n",
        "Score: -0.1000 for Bill Gates and Ann Veneman (Less than two matches)"
       ]
      },
      {
       "output_type": "stream",
       "stream": "stdout",
       "text": [
        "\n",
        "['../../images/testsets/small_test/Bill_Gates_0008.png', '../../images/testsets/small_test/Ann_Veneman_0004.png']\n",
        "Score: 0.0942 for Bill Gates and Ann Veneman"
       ]
      },
      {
       "output_type": "stream",
       "stream": "stdout",
       "text": [
        "\n",
        "['../../images/testsets/small_test/Bill_Gates_0008.png', '../../images/testsets/small_test/Anna_Kournikova_0010.png']\n",
        "Score: -0.1000 for Bill Gates and Anna Kournikova (Less than two matches)"
       ]
      },
      {
       "output_type": "stream",
       "stream": "stdout",
       "text": [
        "\n",
        "['../../images/testsets/small_test/Bill_Gates_0008.png', '../../images/testsets/small_test/Ann_Veneman_0011.png']\n",
        "Score: 0.0089 for Bill Gates and Ann Veneman"
       ]
      },
      {
       "output_type": "stream",
       "stream": "stdout",
       "text": [
        "\n",
        "['../../images/testsets/small_test/Bill_Gates_0008.png', '../../images/testsets/small_test/Anna_Kournikova_0001.png']\n",
        "Score: -0.1699 for Bill Gates and Anna Kournikova"
       ]
      },
      {
       "output_type": "stream",
       "stream": "stdout",
       "text": [
        "\n",
        "['../../images/testsets/small_test/Bill_Gates_0008.png', '../../images/testsets/small_test/Ann_Veneman_0006.png']\n",
        "Score: 0.0316 for Bill Gates and Ann Veneman"
       ]
      },
      {
       "output_type": "stream",
       "stream": "stdout",
       "text": [
        "\n",
        "['../../images/testsets/small_test/Bill_Gates_0008.png', '../../images/testsets/small_test/Anna_Kournikova_0012.png']\n",
        "Score: 0.0581 for Bill Gates and Anna Kournikova"
       ]
      },
      {
       "output_type": "stream",
       "stream": "stdout",
       "text": [
        "\n",
        "['../../images/testsets/small_test/Bill_Gates_0008.png', '../../images/testsets/small_test/Bill_Gates_0015.png']\n",
        "Score: -0.0547 for Bill Gates and Bill Gates"
       ]
      },
      {
       "output_type": "stream",
       "stream": "stdout",
       "text": [
        "\n",
        "['../../images/testsets/small_test/Bill_Gates_0008.png', '../../images/testsets/small_test/Anna_Kournikova_0004.png']\n",
        "Score: -0.1000 for Bill Gates and Anna Kournikova (Less than two matches)"
       ]
      },
      {
       "output_type": "stream",
       "stream": "stdout",
       "text": [
        "\n",
        "['../../images/testsets/small_test/Bill_Gates_0008.png', '../../images/testsets/small_test/Anna_Kournikova_0011.png']\n",
        "Score: -0.1000 for Bill Gates and Anna Kournikova (Less than two matches)"
       ]
      },
      {
       "output_type": "stream",
       "stream": "stdout",
       "text": [
        "\n",
        "['../../images/testsets/small_test/Bill_Gates_0008.png', '../../images/testsets/small_test/Anna_Kournikova_0008.png']\n",
        "Score: 0.0552 for Bill Gates and Anna Kournikova"
       ]
      },
      {
       "output_type": "stream",
       "stream": "stdout",
       "text": [
        "\n",
        "['../../images/testsets/small_test/Bill_Gates_0008.png', '../../images/testsets/small_test/Bill_Gates_0005.png']\n",
        "Score: 0.0601 for Bill Gates and Bill Gates"
       ]
      },
      {
       "output_type": "stream",
       "stream": "stdout",
       "text": [
        "\n",
        "['../../images/testsets/small_test/Bill_Gates_0008.png', '../../images/testsets/small_test/Ann_Veneman_0001.png']\n",
        "Score: -0.0852 for Bill Gates and Ann Veneman"
       ]
      },
      {
       "output_type": "stream",
       "stream": "stdout",
       "text": [
        "\n",
        "['../../images/testsets/small_test/Bill_Gates_0008.png', '../../images/testsets/small_test/Ann_Veneman_0008.png']\n",
        "Score: 0.0624 for Bill Gates and Ann Veneman"
       ]
      },
      {
       "output_type": "stream",
       "stream": "stdout",
       "text": [
        "\n",
        "['../../images/testsets/small_test/Bill_Gates_0008.png', '../../images/testsets/small_test/Ann_Veneman_0003.png']\n",
        "Score: -0.1000 for Bill Gates and Ann Veneman (Less than two matches)"
       ]
      },
      {
       "output_type": "stream",
       "stream": "stdout",
       "text": [
        "\n",
        "['../../images/testsets/small_test/Bill_Gates_0007.png', '../../images/testsets/small_test/Anna_Kournikova_0003.png']\n",
        "Score: 0.0271 for Bill Gates and Anna Kournikova"
       ]
      },
      {
       "output_type": "stream",
       "stream": "stdout",
       "text": [
        "\n",
        "['../../images/testsets/small_test/Bill_Gates_0007.png', '../../images/testsets/small_test/Bill_Gates_0013.png']\n",
        "Score: 0.0775 for Bill Gates and Bill Gates"
       ]
      },
      {
       "output_type": "stream",
       "stream": "stdout",
       "text": [
        "\n",
        "['../../images/testsets/small_test/Bill_Gates_0007.png', '../../images/testsets/small_test/Anna_Kournikova_0006.png']\n",
        "Score: -0.0654 for Bill Gates and Anna Kournikova"
       ]
      },
      {
       "output_type": "stream",
       "stream": "stdout",
       "text": [
        "\n",
        "['../../images/testsets/small_test/Bill_Gates_0007.png', '../../images/testsets/small_test/Ann_Veneman_0010.png']\n",
        "Score: 0.0549 for Bill Gates and Ann Veneman"
       ]
      },
      {
       "output_type": "stream",
       "stream": "stdout",
       "text": [
        "\n",
        "['../../images/testsets/small_test/Bill_Gates_0007.png', '../../images/testsets/small_test/Ann_Veneman_0004.png']\n",
        "Score: 0.0835 for Bill Gates and Ann Veneman"
       ]
      },
      {
       "output_type": "stream",
       "stream": "stdout",
       "text": [
        "\n",
        "['../../images/testsets/small_test/Bill_Gates_0007.png', '../../images/testsets/small_test/Anna_Kournikova_0010.png']\n",
        "Score: 0.0823 for Bill Gates and Anna Kournikova"
       ]
      },
      {
       "output_type": "stream",
       "stream": "stdout",
       "text": [
        "\n",
        "['../../images/testsets/small_test/Bill_Gates_0007.png', '../../images/testsets/small_test/Ann_Veneman_0011.png']\n",
        "Score: 0.0061 for Bill Gates and Ann Veneman"
       ]
      },
      {
       "output_type": "stream",
       "stream": "stdout",
       "text": [
        "\n",
        "['../../images/testsets/small_test/Bill_Gates_0007.png', '../../images/testsets/small_test/Anna_Kournikova_0001.png']\n",
        "Score: 0.0545 for Bill Gates and Anna Kournikova"
       ]
      },
      {
       "output_type": "stream",
       "stream": "stdout",
       "text": [
        "\n",
        "['../../images/testsets/small_test/Bill_Gates_0007.png', '../../images/testsets/small_test/Ann_Veneman_0006.png']\n",
        "Score: 0.0159 for Bill Gates and Ann Veneman"
       ]
      },
      {
       "output_type": "stream",
       "stream": "stdout",
       "text": [
        "\n",
        "['../../images/testsets/small_test/Bill_Gates_0007.png', '../../images/testsets/small_test/Anna_Kournikova_0012.png']\n",
        "Score: 0.0197 for Bill Gates and Anna Kournikova"
       ]
      },
      {
       "output_type": "stream",
       "stream": "stdout",
       "text": [
        "\n",
        "['../../images/testsets/small_test/Bill_Gates_0007.png', '../../images/testsets/small_test/Bill_Gates_0015.png']\n",
        "Score: 0.1015 for Bill Gates and Bill Gates"
       ]
      },
      {
       "output_type": "stream",
       "stream": "stdout",
       "text": [
        "\n",
        "['../../images/testsets/small_test/Bill_Gates_0007.png', '../../images/testsets/small_test/Anna_Kournikova_0004.png']\n",
        "Score: -0.1000 for Bill Gates and Anna Kournikova (Less than two matches)"
       ]
      },
      {
       "output_type": "stream",
       "stream": "stdout",
       "text": [
        "\n",
        "['../../images/testsets/small_test/Bill_Gates_0007.png', '../../images/testsets/small_test/Anna_Kournikova_0011.png']\n",
        "Score: -0.1000 for Bill Gates and Anna Kournikova (Less than two matches)"
       ]
      },
      {
       "output_type": "stream",
       "stream": "stdout",
       "text": [
        "\n",
        "['../../images/testsets/small_test/Bill_Gates_0007.png', '../../images/testsets/small_test/Anna_Kournikova_0008.png']\n",
        "Score: 0.0115 for Bill Gates and Anna Kournikova"
       ]
      },
      {
       "output_type": "stream",
       "stream": "stdout",
       "text": [
        "\n",
        "['../../images/testsets/small_test/Bill_Gates_0007.png', '../../images/testsets/small_test/Bill_Gates_0005.png']\n",
        "Score: 0.0723 for Bill Gates and Bill Gates"
       ]
      },
      {
       "output_type": "stream",
       "stream": "stdout",
       "text": [
        "\n",
        "['../../images/testsets/small_test/Bill_Gates_0007.png', '../../images/testsets/small_test/Ann_Veneman_0001.png']\n",
        "Score: -0.1126 for Bill Gates and Ann Veneman"
       ]
      },
      {
       "output_type": "stream",
       "stream": "stdout",
       "text": [
        "\n",
        "['../../images/testsets/small_test/Bill_Gates_0007.png', '../../images/testsets/small_test/Ann_Veneman_0008.png']\n",
        "Score: 0.0183 for Bill Gates and Ann Veneman"
       ]
      },
      {
       "output_type": "stream",
       "stream": "stdout",
       "text": [
        "\n",
        "['../../images/testsets/small_test/Bill_Gates_0007.png', '../../images/testsets/small_test/Ann_Veneman_0003.png']\n",
        "Score: -0.0578 for Bill Gates and Ann Veneman"
       ]
      },
      {
       "output_type": "stream",
       "stream": "stdout",
       "text": [
        "\n",
        "['../../images/testsets/small_test/Anna_Kournikova_0003.png', '../../images/testsets/small_test/Bill_Gates_0013.png']\n",
        "Score: 0.0557 for Anna Kournikova and Bill Gates"
       ]
      },
      {
       "output_type": "stream",
       "stream": "stdout",
       "text": [
        "\n",
        "['../../images/testsets/small_test/Anna_Kournikova_0003.png', '../../images/testsets/small_test/Anna_Kournikova_0006.png']\n",
        "Score: -0.1000 for Anna Kournikova and Anna Kournikova (Less than two matches)"
       ]
      },
      {
       "output_type": "stream",
       "stream": "stdout",
       "text": [
        "\n",
        "['../../images/testsets/small_test/Anna_Kournikova_0003.png', '../../images/testsets/small_test/Ann_Veneman_0010.png']\n",
        "Score: -0.1000 for Anna Kournikova and Ann Veneman (Less than two matches)"
       ]
      },
      {
       "output_type": "stream",
       "stream": "stdout",
       "text": [
        "\n",
        "['../../images/testsets/small_test/Anna_Kournikova_0003.png', '../../images/testsets/small_test/Ann_Veneman_0004.png']\n",
        "Score: -0.1000 for Anna Kournikova and Ann Veneman (Less than two matches)"
       ]
      },
      {
       "output_type": "stream",
       "stream": "stdout",
       "text": [
        "\n",
        "['../../images/testsets/small_test/Anna_Kournikova_0003.png', '../../images/testsets/small_test/Anna_Kournikova_0010.png']\n",
        "Score: -0.0050 for Anna Kournikova and Anna Kournikova"
       ]
      },
      {
       "output_type": "stream",
       "stream": "stdout",
       "text": [
        "\n",
        "['../../images/testsets/small_test/Anna_Kournikova_0003.png', '../../images/testsets/small_test/Ann_Veneman_0011.png']\n",
        "Score: -0.1000 for Anna Kournikova and Ann Veneman (Less than two matches)"
       ]
      },
      {
       "output_type": "stream",
       "stream": "stdout",
       "text": [
        "\n",
        "['../../images/testsets/small_test/Anna_Kournikova_0003.png', '../../images/testsets/small_test/Anna_Kournikova_0001.png']\n",
        "Score: 0.0192 for Anna Kournikova and Anna Kournikova"
       ]
      },
      {
       "output_type": "stream",
       "stream": "stdout",
       "text": [
        "\n",
        "['../../images/testsets/small_test/Anna_Kournikova_0003.png', '../../images/testsets/small_test/Ann_Veneman_0006.png']\n",
        "Score: -0.1000 for Anna Kournikova and Ann Veneman (Less than two matches)"
       ]
      },
      {
       "output_type": "stream",
       "stream": "stdout",
       "text": [
        "\n",
        "['../../images/testsets/small_test/Anna_Kournikova_0003.png', '../../images/testsets/small_test/Anna_Kournikova_0012.png']\n",
        "Score: -0.0817 for Anna Kournikova and Anna Kournikova"
       ]
      },
      {
       "output_type": "stream",
       "stream": "stdout",
       "text": [
        "\n",
        "['../../images/testsets/small_test/Anna_Kournikova_0003.png', '../../images/testsets/small_test/Bill_Gates_0015.png']\n",
        "Score: 0.0537 for Anna Kournikova and Bill Gates"
       ]
      },
      {
       "output_type": "stream",
       "stream": "stdout",
       "text": [
        "\n",
        "['../../images/testsets/small_test/Anna_Kournikova_0003.png', '../../images/testsets/small_test/Anna_Kournikova_0004.png']\n",
        "Score: 0.0633 for Anna Kournikova and Anna Kournikova"
       ]
      },
      {
       "output_type": "stream",
       "stream": "stdout",
       "text": [
        "\n",
        "['../../images/testsets/small_test/Anna_Kournikova_0003.png', '../../images/testsets/small_test/Anna_Kournikova_0011.png']\n",
        "Score: -0.1000 for Anna Kournikova and Anna Kournikova (Less than two matches)"
       ]
      },
      {
       "output_type": "stream",
       "stream": "stdout",
       "text": [
        "\n",
        "['../../images/testsets/small_test/Anna_Kournikova_0003.png', '../../images/testsets/small_test/Anna_Kournikova_0008.png']\n",
        "Score: 0.1460 for Anna Kournikova and Anna Kournikova"
       ]
      },
      {
       "output_type": "stream",
       "stream": "stdout",
       "text": [
        "\n",
        "['../../images/testsets/small_test/Anna_Kournikova_0003.png', '../../images/testsets/small_test/Bill_Gates_0005.png']\n",
        "Score: -0.1000 for Anna Kournikova and Bill Gates (Less than two matches)"
       ]
      },
      {
       "output_type": "stream",
       "stream": "stdout",
       "text": [
        "\n",
        "['../../images/testsets/small_test/Anna_Kournikova_0003.png', '../../images/testsets/small_test/Ann_Veneman_0001.png']\n",
        "Score: 0.0581 for Anna Kournikova and Ann Veneman"
       ]
      },
      {
       "output_type": "stream",
       "stream": "stdout",
       "text": [
        "\n",
        "['../../images/testsets/small_test/Anna_Kournikova_0003.png', '../../images/testsets/small_test/Ann_Veneman_0008.png']\n",
        "Score: -0.0510 for Anna Kournikova and Ann Veneman"
       ]
      },
      {
       "output_type": "stream",
       "stream": "stdout",
       "text": [
        "\n",
        "['../../images/testsets/small_test/Anna_Kournikova_0003.png', '../../images/testsets/small_test/Ann_Veneman_0003.png']\n",
        "Score: -0.1000 for Anna Kournikova and Ann Veneman (Less than two matches)"
       ]
      },
      {
       "output_type": "stream",
       "stream": "stdout",
       "text": [
        "\n",
        "['../../images/testsets/small_test/Bill_Gates_0013.png', '../../images/testsets/small_test/Anna_Kournikova_0006.png']\n",
        "Score: 0.0535 for Bill Gates and Anna Kournikova"
       ]
      },
      {
       "output_type": "stream",
       "stream": "stdout",
       "text": [
        "\n",
        "['../../images/testsets/small_test/Bill_Gates_0013.png', '../../images/testsets/small_test/Ann_Veneman_0010.png']\n",
        "Score: -0.1000 for Bill Gates and Ann Veneman (Less than two matches)"
       ]
      },
      {
       "output_type": "stream",
       "stream": "stdout",
       "text": [
        "\n",
        "['../../images/testsets/small_test/Bill_Gates_0013.png', '../../images/testsets/small_test/Ann_Veneman_0004.png']\n",
        "Score: 0.0536 for Bill Gates and Ann Veneman"
       ]
      },
      {
       "output_type": "stream",
       "stream": "stdout",
       "text": [
        "\n",
        "['../../images/testsets/small_test/Bill_Gates_0013.png', '../../images/testsets/small_test/Anna_Kournikova_0010.png']\n",
        "Score: 0.0800 for Bill Gates and Anna Kournikova"
       ]
      },
      {
       "output_type": "stream",
       "stream": "stdout",
       "text": [
        "\n",
        "['../../images/testsets/small_test/Bill_Gates_0013.png', '../../images/testsets/small_test/Ann_Veneman_0011.png']\n",
        "Score: -0.1000 for Bill Gates and Ann Veneman (Less than two matches)"
       ]
      },
      {
       "output_type": "stream",
       "stream": "stdout",
       "text": [
        "\n",
        "['../../images/testsets/small_test/Bill_Gates_0013.png', '../../images/testsets/small_test/Anna_Kournikova_0001.png']\n",
        "Score: -0.1000 for Bill Gates and Anna Kournikova (Less than two matches)"
       ]
      },
      {
       "output_type": "stream",
       "stream": "stdout",
       "text": [
        "\n",
        "['../../images/testsets/small_test/Bill_Gates_0013.png', '../../images/testsets/small_test/Ann_Veneman_0006.png']\n",
        "Score: -0.0745 for Bill Gates and Ann Veneman"
       ]
      },
      {
       "output_type": "stream",
       "stream": "stdout",
       "text": [
        "\n",
        "['../../images/testsets/small_test/Bill_Gates_0013.png', '../../images/testsets/small_test/Anna_Kournikova_0012.png']\n",
        "Score: 0.1785 for Bill Gates and Anna Kournikova"
       ]
      },
      {
       "output_type": "stream",
       "stream": "stdout",
       "text": [
        "\n",
        "['../../images/testsets/small_test/Bill_Gates_0013.png', '../../images/testsets/small_test/Bill_Gates_0015.png']\n",
        "Score: 0.0822 for Bill Gates and Bill Gates"
       ]
      },
      {
       "output_type": "stream",
       "stream": "stdout",
       "text": [
        "\n",
        "['../../images/testsets/small_test/Bill_Gates_0013.png', '../../images/testsets/small_test/Anna_Kournikova_0004.png']\n",
        "Score: -0.1000 for Bill Gates and Anna Kournikova (Less than two matches)"
       ]
      },
      {
       "output_type": "stream",
       "stream": "stdout",
       "text": [
        "\n",
        "['../../images/testsets/small_test/Bill_Gates_0013.png', '../../images/testsets/small_test/Anna_Kournikova_0011.png']\n",
        "Score: -0.1000 for Bill Gates and Anna Kournikova (Less than two matches)"
       ]
      },
      {
       "output_type": "stream",
       "stream": "stdout",
       "text": [
        "\n",
        "['../../images/testsets/small_test/Bill_Gates_0013.png', '../../images/testsets/small_test/Anna_Kournikova_0008.png']\n",
        "Score: -0.1000 for Bill Gates and Anna Kournikova (Less than two matches)"
       ]
      },
      {
       "output_type": "stream",
       "stream": "stdout",
       "text": [
        "\n",
        "['../../images/testsets/small_test/Bill_Gates_0013.png', '../../images/testsets/small_test/Bill_Gates_0005.png']\n",
        "Score: -0.0027 for Bill Gates and Bill Gates"
       ]
      },
      {
       "output_type": "stream",
       "stream": "stdout",
       "text": [
        "\n",
        "['../../images/testsets/small_test/Bill_Gates_0013.png', '../../images/testsets/small_test/Ann_Veneman_0001.png']\n",
        "Score: 0.0507 for Bill Gates and Ann Veneman"
       ]
      },
      {
       "output_type": "stream",
       "stream": "stdout",
       "text": [
        "\n",
        "['../../images/testsets/small_test/Bill_Gates_0013.png', '../../images/testsets/small_test/Ann_Veneman_0008.png']\n",
        "Score: 0.0624 for Bill Gates and Ann Veneman"
       ]
      },
      {
       "output_type": "stream",
       "stream": "stdout",
       "text": [
        "\n",
        "['../../images/testsets/small_test/Bill_Gates_0013.png', '../../images/testsets/small_test/Ann_Veneman_0003.png']\n",
        "Score: 0.0767 for Bill Gates and Ann Veneman"
       ]
      },
      {
       "output_type": "stream",
       "stream": "stdout",
       "text": [
        "\n",
        "['../../images/testsets/small_test/Anna_Kournikova_0006.png', '../../images/testsets/small_test/Ann_Veneman_0010.png']\n",
        "Score: -0.1000 for Anna Kournikova and Ann Veneman (Less than two matches)"
       ]
      },
      {
       "output_type": "stream",
       "stream": "stdout",
       "text": [
        "\n",
        "['../../images/testsets/small_test/Anna_Kournikova_0006.png', '../../images/testsets/small_test/Ann_Veneman_0004.png']\n",
        "Score: -0.1000 for Anna Kournikova and Ann Veneman (Less than two matches)"
       ]
      },
      {
       "output_type": "stream",
       "stream": "stdout",
       "text": [
        "\n",
        "['../../images/testsets/small_test/Anna_Kournikova_0006.png', '../../images/testsets/small_test/Anna_Kournikova_0010.png']\n",
        "Score: -0.1000 for Anna Kournikova and Anna Kournikova (Less than two matches)"
       ]
      },
      {
       "output_type": "stream",
       "stream": "stdout",
       "text": [
        "\n",
        "['../../images/testsets/small_test/Anna_Kournikova_0006.png', '../../images/testsets/small_test/Ann_Veneman_0011.png']\n",
        "Score: 0.0182 for Anna Kournikova and Ann Veneman"
       ]
      },
      {
       "output_type": "stream",
       "stream": "stdout",
       "text": [
        "\n",
        "['../../images/testsets/small_test/Anna_Kournikova_0006.png', '../../images/testsets/small_test/Anna_Kournikova_0001.png']\n",
        "Score: 0.0609 for Anna Kournikova and Anna Kournikova"
       ]
      },
      {
       "output_type": "stream",
       "stream": "stdout",
       "text": [
        "\n",
        "['../../images/testsets/small_test/Anna_Kournikova_0006.png', '../../images/testsets/small_test/Ann_Veneman_0006.png']\n",
        "Score: -0.1455 for Anna Kournikova and Ann Veneman"
       ]
      },
      {
       "output_type": "stream",
       "stream": "stdout",
       "text": [
        "\n",
        "['../../images/testsets/small_test/Anna_Kournikova_0006.png', '../../images/testsets/small_test/Anna_Kournikova_0012.png']\n",
        "Score: -0.1315 for Anna Kournikova and Anna Kournikova"
       ]
      },
      {
       "output_type": "stream",
       "stream": "stdout",
       "text": [
        "\n",
        "['../../images/testsets/small_test/Anna_Kournikova_0006.png', '../../images/testsets/small_test/Bill_Gates_0015.png']\n",
        "Score: -0.1000 for Anna Kournikova and Bill Gates (Less than two matches)"
       ]
      },
      {
       "output_type": "stream",
       "stream": "stdout",
       "text": [
        "\n",
        "['../../images/testsets/small_test/Anna_Kournikova_0006.png', '../../images/testsets/small_test/Anna_Kournikova_0004.png']\n",
        "Score: 0.0671 for Anna Kournikova and Anna Kournikova"
       ]
      },
      {
       "output_type": "stream",
       "stream": "stdout",
       "text": [
        "\n",
        "['../../images/testsets/small_test/Anna_Kournikova_0006.png', '../../images/testsets/small_test/Anna_Kournikova_0011.png']\n",
        "Score: 0.1104 for Anna Kournikova and Anna Kournikova"
       ]
      },
      {
       "output_type": "stream",
       "stream": "stdout",
       "text": [
        "\n",
        "['../../images/testsets/small_test/Anna_Kournikova_0006.png', '../../images/testsets/small_test/Anna_Kournikova_0008.png']\n",
        "Score: -0.1000 for Anna Kournikova and Anna Kournikova (Less than two matches)"
       ]
      },
      {
       "output_type": "stream",
       "stream": "stdout",
       "text": [
        "\n",
        "['../../images/testsets/small_test/Anna_Kournikova_0006.png', '../../images/testsets/small_test/Bill_Gates_0005.png']\n",
        "Score: -0.1000 for Anna Kournikova and Bill Gates (Less than two matches)"
       ]
      },
      {
       "output_type": "stream",
       "stream": "stdout",
       "text": [
        "\n",
        "['../../images/testsets/small_test/Anna_Kournikova_0006.png', '../../images/testsets/small_test/Ann_Veneman_0001.png']\n",
        "Score: -0.1000 for Anna Kournikova and Ann Veneman (Less than two matches)"
       ]
      },
      {
       "output_type": "stream",
       "stream": "stdout",
       "text": [
        "\n",
        "['../../images/testsets/small_test/Anna_Kournikova_0006.png', '../../images/testsets/small_test/Ann_Veneman_0008.png']\n",
        "Score: 0.0163 for Anna Kournikova and Ann Veneman"
       ]
      },
      {
       "output_type": "stream",
       "stream": "stdout",
       "text": [
        "\n",
        "['../../images/testsets/small_test/Anna_Kournikova_0006.png', '../../images/testsets/small_test/Ann_Veneman_0003.png']\n",
        "Score: -0.1555 for Anna Kournikova and Ann Veneman"
       ]
      },
      {
       "output_type": "stream",
       "stream": "stdout",
       "text": [
        "\n",
        "['../../images/testsets/small_test/Ann_Veneman_0010.png', '../../images/testsets/small_test/Ann_Veneman_0004.png']\n",
        "Score: 0.0572 for Ann Veneman and Ann Veneman"
       ]
      },
      {
       "output_type": "stream",
       "stream": "stdout",
       "text": [
        "\n",
        "['../../images/testsets/small_test/Ann_Veneman_0010.png', '../../images/testsets/small_test/Anna_Kournikova_0010.png']\n",
        "Score: -0.1000 for Ann Veneman and Anna Kournikova (Less than two matches)"
       ]
      },
      {
       "output_type": "stream",
       "stream": "stdout",
       "text": [
        "\n",
        "['../../images/testsets/small_test/Ann_Veneman_0010.png', '../../images/testsets/small_test/Ann_Veneman_0011.png']\n",
        "Score: 0.0617 for Ann Veneman and Ann Veneman"
       ]
      },
      {
       "output_type": "stream",
       "stream": "stdout",
       "text": [
        "\n",
        "['../../images/testsets/small_test/Ann_Veneman_0010.png', '../../images/testsets/small_test/Anna_Kournikova_0001.png']\n",
        "Score: -0.0317 for Ann Veneman and Anna Kournikova"
       ]
      },
      {
       "output_type": "stream",
       "stream": "stdout",
       "text": [
        "\n",
        "['../../images/testsets/small_test/Ann_Veneman_0010.png', '../../images/testsets/small_test/Ann_Veneman_0006.png']\n",
        "Score: -0.0211 for Ann Veneman and Ann Veneman"
       ]
      },
      {
       "output_type": "stream",
       "stream": "stdout",
       "text": [
        "\n",
        "['../../images/testsets/small_test/Ann_Veneman_0010.png', '../../images/testsets/small_test/Anna_Kournikova_0012.png']\n",
        "Score: 0.0489 for Ann Veneman and Anna Kournikova"
       ]
      },
      {
       "output_type": "stream",
       "stream": "stdout",
       "text": [
        "\n",
        "['../../images/testsets/small_test/Ann_Veneman_0010.png', '../../images/testsets/small_test/Bill_Gates_0015.png']\n",
        "Score: 0.0018 for Ann Veneman and Bill Gates"
       ]
      },
      {
       "output_type": "stream",
       "stream": "stdout",
       "text": [
        "\n",
        "['../../images/testsets/small_test/Ann_Veneman_0010.png', '../../images/testsets/small_test/Anna_Kournikova_0004.png']\n",
        "Score: -0.1000 for Ann Veneman and Anna Kournikova (Less than two matches)"
       ]
      },
      {
       "output_type": "stream",
       "stream": "stdout",
       "text": [
        "\n",
        "['../../images/testsets/small_test/Ann_Veneman_0010.png', '../../images/testsets/small_test/Anna_Kournikova_0011.png']\n",
        "Score: -0.0202 for Ann Veneman and Anna Kournikova"
       ]
      },
      {
       "output_type": "stream",
       "stream": "stdout",
       "text": [
        "\n",
        "['../../images/testsets/small_test/Ann_Veneman_0010.png', '../../images/testsets/small_test/Anna_Kournikova_0008.png']\n",
        "Score: 0.0583 for Ann Veneman and Anna Kournikova"
       ]
      },
      {
       "output_type": "stream",
       "stream": "stdout",
       "text": [
        "\n",
        "['../../images/testsets/small_test/Ann_Veneman_0010.png', '../../images/testsets/small_test/Bill_Gates_0005.png']\n",
        "Score: -0.1000 for Ann Veneman and Bill Gates (Less than two matches)"
       ]
      },
      {
       "output_type": "stream",
       "stream": "stdout",
       "text": [
        "\n",
        "['../../images/testsets/small_test/Ann_Veneman_0010.png', '../../images/testsets/small_test/Ann_Veneman_0001.png']\n",
        "Score: -0.0765 for Ann Veneman and Ann Veneman"
       ]
      },
      {
       "output_type": "stream",
       "stream": "stdout",
       "text": [
        "\n",
        "['../../images/testsets/small_test/Ann_Veneman_0010.png', '../../images/testsets/small_test/Ann_Veneman_0008.png']\n",
        "Score: 0.0120 for Ann Veneman and Ann Veneman"
       ]
      },
      {
       "output_type": "stream",
       "stream": "stdout",
       "text": [
        "\n",
        "['../../images/testsets/small_test/Ann_Veneman_0010.png', '../../images/testsets/small_test/Ann_Veneman_0003.png']\n",
        "Score: -0.0052 for Ann Veneman and Ann Veneman"
       ]
      },
      {
       "output_type": "stream",
       "stream": "stdout",
       "text": [
        "\n",
        "['../../images/testsets/small_test/Ann_Veneman_0004.png', '../../images/testsets/small_test/Anna_Kournikova_0010.png']\n",
        "Score: -0.1000 for Ann Veneman and Anna Kournikova (Less than two matches)"
       ]
      },
      {
       "output_type": "stream",
       "stream": "stdout",
       "text": [
        "\n",
        "['../../images/testsets/small_test/Ann_Veneman_0004.png', '../../images/testsets/small_test/Ann_Veneman_0011.png']\n",
        "Score: -0.1000 for Ann Veneman and Ann Veneman (Less than two matches)"
       ]
      },
      {
       "output_type": "stream",
       "stream": "stdout",
       "text": [
        "\n",
        "['../../images/testsets/small_test/Ann_Veneman_0004.png', '../../images/testsets/small_test/Anna_Kournikova_0001.png']\n",
        "Score: -0.1000 for Ann Veneman and Anna Kournikova (Less than two matches)"
       ]
      },
      {
       "output_type": "stream",
       "stream": "stdout",
       "text": [
        "\n",
        "['../../images/testsets/small_test/Ann_Veneman_0004.png', '../../images/testsets/small_test/Ann_Veneman_0006.png']\n",
        "Score: 0.0526 for Ann Veneman and Ann Veneman"
       ]
      },
      {
       "output_type": "stream",
       "stream": "stdout",
       "text": [
        "\n",
        "['../../images/testsets/small_test/Ann_Veneman_0004.png', '../../images/testsets/small_test/Anna_Kournikova_0012.png']\n",
        "Score: 0.0543 for Ann Veneman and Anna Kournikova"
       ]
      },
      {
       "output_type": "stream",
       "stream": "stdout",
       "text": [
        "\n",
        "['../../images/testsets/small_test/Ann_Veneman_0004.png', '../../images/testsets/small_test/Bill_Gates_0015.png']\n",
        "Score: -0.1000 for Ann Veneman and Bill Gates (Less than two matches)"
       ]
      },
      {
       "output_type": "stream",
       "stream": "stdout",
       "text": [
        "\n",
        "['../../images/testsets/small_test/Ann_Veneman_0004.png', '../../images/testsets/small_test/Anna_Kournikova_0004.png']\n",
        "Score: -0.1000 for Ann Veneman and Anna Kournikova (Less than two matches)"
       ]
      },
      {
       "output_type": "stream",
       "stream": "stdout",
       "text": [
        "\n",
        "['../../images/testsets/small_test/Ann_Veneman_0004.png', '../../images/testsets/small_test/Anna_Kournikova_0011.png']\n",
        "Score: -0.1000 for Ann Veneman and Anna Kournikova (Less than two matches)"
       ]
      },
      {
       "output_type": "stream",
       "stream": "stdout",
       "text": [
        "\n",
        "['../../images/testsets/small_test/Ann_Veneman_0004.png', '../../images/testsets/small_test/Anna_Kournikova_0008.png']\n",
        "Score: -0.1000 for Ann Veneman and Anna Kournikova (Less than two matches)"
       ]
      },
      {
       "output_type": "stream",
       "stream": "stdout",
       "text": [
        "\n",
        "['../../images/testsets/small_test/Ann_Veneman_0004.png', '../../images/testsets/small_test/Bill_Gates_0005.png']\n",
        "Score: -0.1000 for Ann Veneman and Bill Gates (Less than two matches)"
       ]
      },
      {
       "output_type": "stream",
       "stream": "stdout",
       "text": [
        "\n",
        "['../../images/testsets/small_test/Ann_Veneman_0004.png', '../../images/testsets/small_test/Ann_Veneman_0001.png']\n",
        "Score: 0.0939 for Ann Veneman and Ann Veneman"
       ]
      },
      {
       "output_type": "stream",
       "stream": "stdout",
       "text": [
        "\n",
        "['../../images/testsets/small_test/Ann_Veneman_0004.png', '../../images/testsets/small_test/Ann_Veneman_0008.png']\n",
        "Score: 0.0689 for Ann Veneman and Ann Veneman"
       ]
      },
      {
       "output_type": "stream",
       "stream": "stdout",
       "text": [
        "\n",
        "['../../images/testsets/small_test/Ann_Veneman_0004.png', '../../images/testsets/small_test/Ann_Veneman_0003.png']\n",
        "Score: 0.0877 for Ann Veneman and Ann Veneman"
       ]
      },
      {
       "output_type": "stream",
       "stream": "stdout",
       "text": [
        "\n",
        "['../../images/testsets/small_test/Anna_Kournikova_0010.png', '../../images/testsets/small_test/Ann_Veneman_0011.png']\n",
        "Score: -0.0848 for Anna Kournikova and Ann Veneman"
       ]
      },
      {
       "output_type": "stream",
       "stream": "stdout",
       "text": [
        "\n",
        "['../../images/testsets/small_test/Anna_Kournikova_0010.png', '../../images/testsets/small_test/Anna_Kournikova_0001.png']\n",
        "Score: -0.0907 for Anna Kournikova and Anna Kournikova"
       ]
      },
      {
       "output_type": "stream",
       "stream": "stdout",
       "text": [
        "\n",
        "['../../images/testsets/small_test/Anna_Kournikova_0010.png', '../../images/testsets/small_test/Ann_Veneman_0006.png']\n",
        "Score: -0.1000 for Anna Kournikova and Ann Veneman (Less than two matches)"
       ]
      },
      {
       "output_type": "stream",
       "stream": "stdout",
       "text": [
        "\n",
        "['../../images/testsets/small_test/Anna_Kournikova_0010.png', '../../images/testsets/small_test/Anna_Kournikova_0012.png']\n",
        "Score: 0.0468 for Anna Kournikova and Anna Kournikova"
       ]
      },
      {
       "output_type": "stream",
       "stream": "stdout",
       "text": [
        "\n",
        "['../../images/testsets/small_test/Anna_Kournikova_0010.png', '../../images/testsets/small_test/Bill_Gates_0015.png']\n",
        "Score: 0.0593 for Anna Kournikova and Bill Gates"
       ]
      },
      {
       "output_type": "stream",
       "stream": "stdout",
       "text": [
        "\n",
        "['../../images/testsets/small_test/Anna_Kournikova_0010.png', '../../images/testsets/small_test/Anna_Kournikova_0004.png']\n",
        "Score: -0.1000 for Anna Kournikova and Anna Kournikova (Less than two matches)"
       ]
      },
      {
       "output_type": "stream",
       "stream": "stdout",
       "text": [
        "\n",
        "['../../images/testsets/small_test/Anna_Kournikova_0010.png', '../../images/testsets/small_test/Anna_Kournikova_0011.png']\n",
        "Score: -0.1000 for Anna Kournikova and Anna Kournikova (Less than two matches)"
       ]
      },
      {
       "output_type": "stream",
       "stream": "stdout",
       "text": [
        "\n",
        "['../../images/testsets/small_test/Anna_Kournikova_0010.png', '../../images/testsets/small_test/Anna_Kournikova_0008.png']\n",
        "Score: 0.0701 for Anna Kournikova and Anna Kournikova"
       ]
      },
      {
       "output_type": "stream",
       "stream": "stdout",
       "text": [
        "\n",
        "['../../images/testsets/small_test/Anna_Kournikova_0010.png', '../../images/testsets/small_test/Bill_Gates_0005.png']\n",
        "Score: -0.1000 for Anna Kournikova and Bill Gates (Less than two matches)"
       ]
      },
      {
       "output_type": "stream",
       "stream": "stdout",
       "text": [
        "\n",
        "['../../images/testsets/small_test/Anna_Kournikova_0010.png', '../../images/testsets/small_test/Ann_Veneman_0001.png']\n",
        "Score: -0.1000 for Anna Kournikova and Ann Veneman (Less than two matches)"
       ]
      },
      {
       "output_type": "stream",
       "stream": "stdout",
       "text": [
        "\n",
        "['../../images/testsets/small_test/Anna_Kournikova_0010.png', '../../images/testsets/small_test/Ann_Veneman_0008.png']\n",
        "Score: 0.0290 for Anna Kournikova and Ann Veneman"
       ]
      },
      {
       "output_type": "stream",
       "stream": "stdout",
       "text": [
        "\n",
        "['../../images/testsets/small_test/Anna_Kournikova_0010.png', '../../images/testsets/small_test/Ann_Veneman_0003.png']\n",
        "Score: 0.0936 for Anna Kournikova and Ann Veneman"
       ]
      },
      {
       "output_type": "stream",
       "stream": "stdout",
       "text": [
        "\n",
        "['../../images/testsets/small_test/Ann_Veneman_0011.png', '../../images/testsets/small_test/Anna_Kournikova_0001.png']\n",
        "Score: 0.0646 for Ann Veneman and Anna Kournikova"
       ]
      },
      {
       "output_type": "stream",
       "stream": "stdout",
       "text": [
        "\n",
        "['../../images/testsets/small_test/Ann_Veneman_0011.png', '../../images/testsets/small_test/Ann_Veneman_0006.png']\n",
        "Score: 0.0217 for Ann Veneman and Ann Veneman"
       ]
      },
      {
       "output_type": "stream",
       "stream": "stdout",
       "text": [
        "\n",
        "['../../images/testsets/small_test/Ann_Veneman_0011.png', '../../images/testsets/small_test/Anna_Kournikova_0012.png']\n",
        "Score: 0.0476 for Ann Veneman and Anna Kournikova"
       ]
      },
      {
       "output_type": "stream",
       "stream": "stdout",
       "text": [
        "\n",
        "['../../images/testsets/small_test/Ann_Veneman_0011.png', '../../images/testsets/small_test/Bill_Gates_0015.png']\n",
        "Score: 0.0287 for Ann Veneman and Bill Gates"
       ]
      },
      {
       "output_type": "stream",
       "stream": "stdout",
       "text": [
        "\n",
        "['../../images/testsets/small_test/Ann_Veneman_0011.png', '../../images/testsets/small_test/Anna_Kournikova_0004.png']\n",
        "Score: -0.1000 for Ann Veneman and Anna Kournikova (Less than two matches)"
       ]
      },
      {
       "output_type": "stream",
       "stream": "stdout",
       "text": [
        "\n",
        "['../../images/testsets/small_test/Ann_Veneman_0011.png', '../../images/testsets/small_test/Anna_Kournikova_0011.png']\n",
        "Score: 0.0138 for Ann Veneman and Anna Kournikova"
       ]
      },
      {
       "output_type": "stream",
       "stream": "stdout",
       "text": [
        "\n",
        "['../../images/testsets/small_test/Ann_Veneman_0011.png', '../../images/testsets/small_test/Anna_Kournikova_0008.png']\n",
        "Score: -0.1000 for Ann Veneman and Anna Kournikova (Less than two matches)"
       ]
      },
      {
       "output_type": "stream",
       "stream": "stdout",
       "text": [
        "\n",
        "['../../images/testsets/small_test/Ann_Veneman_0011.png', '../../images/testsets/small_test/Bill_Gates_0005.png']\n",
        "Score: -0.1000 for Ann Veneman and Bill Gates (Less than two matches)"
       ]
      },
      {
       "output_type": "stream",
       "stream": "stdout",
       "text": [
        "\n",
        "['../../images/testsets/small_test/Ann_Veneman_0011.png', '../../images/testsets/small_test/Ann_Veneman_0001.png']\n",
        "Score: -0.0500 for Ann Veneman and Ann Veneman"
       ]
      },
      {
       "output_type": "stream",
       "stream": "stdout",
       "text": [
        "\n",
        "['../../images/testsets/small_test/Ann_Veneman_0011.png', '../../images/testsets/small_test/Ann_Veneman_0008.png']\n",
        "Score: 0.0928 for Ann Veneman and Ann Veneman"
       ]
      },
      {
       "output_type": "stream",
       "stream": "stdout",
       "text": [
        "\n",
        "['../../images/testsets/small_test/Ann_Veneman_0011.png', '../../images/testsets/small_test/Ann_Veneman_0003.png']\n",
        "Score: 0.0892 for Ann Veneman and Ann Veneman"
       ]
      },
      {
       "output_type": "stream",
       "stream": "stdout",
       "text": [
        "\n",
        "['../../images/testsets/small_test/Anna_Kournikova_0001.png', '../../images/testsets/small_test/Ann_Veneman_0006.png']\n",
        "Score: 0.0413 for Anna Kournikova and Ann Veneman"
       ]
      },
      {
       "output_type": "stream",
       "stream": "stdout",
       "text": [
        "\n",
        "['../../images/testsets/small_test/Anna_Kournikova_0001.png', '../../images/testsets/small_test/Anna_Kournikova_0012.png']\n",
        "Score: 0.0325 for Anna Kournikova and Anna Kournikova"
       ]
      },
      {
       "output_type": "stream",
       "stream": "stdout",
       "text": [
        "\n",
        "['../../images/testsets/small_test/Anna_Kournikova_0001.png', '../../images/testsets/small_test/Bill_Gates_0015.png']\n",
        "Score: 0.0352 for Anna Kournikova and Bill Gates"
       ]
      },
      {
       "output_type": "stream",
       "stream": "stdout",
       "text": [
        "\n",
        "['../../images/testsets/small_test/Anna_Kournikova_0001.png', '../../images/testsets/small_test/Anna_Kournikova_0004.png']\n",
        "Score: -0.1000 for Anna Kournikova and Anna Kournikova (Less than two matches)"
       ]
      },
      {
       "output_type": "stream",
       "stream": "stdout",
       "text": [
        "\n",
        "['../../images/testsets/small_test/Anna_Kournikova_0001.png', '../../images/testsets/small_test/Anna_Kournikova_0011.png']\n",
        "Score: 0.0814 for Anna Kournikova and Anna Kournikova"
       ]
      },
      {
       "output_type": "stream",
       "stream": "stdout",
       "text": [
        "\n",
        "['../../images/testsets/small_test/Anna_Kournikova_0001.png', '../../images/testsets/small_test/Anna_Kournikova_0008.png']\n",
        "Score: 0.0871 for Anna Kournikova and Anna Kournikova"
       ]
      },
      {
       "output_type": "stream",
       "stream": "stdout",
       "text": [
        "\n",
        "['../../images/testsets/small_test/Anna_Kournikova_0001.png', '../../images/testsets/small_test/Bill_Gates_0005.png']\n",
        "Score: -0.1000 for Anna Kournikova and Bill Gates (Less than two matches)"
       ]
      },
      {
       "output_type": "stream",
       "stream": "stdout",
       "text": [
        "\n",
        "['../../images/testsets/small_test/Anna_Kournikova_0001.png', '../../images/testsets/small_test/Ann_Veneman_0001.png']\n",
        "Score: 0.0521 for Anna Kournikova and Ann Veneman"
       ]
      },
      {
       "output_type": "stream",
       "stream": "stdout",
       "text": [
        "\n",
        "['../../images/testsets/small_test/Anna_Kournikova_0001.png', '../../images/testsets/small_test/Ann_Veneman_0008.png']\n",
        "Score: -0.1000 for Anna Kournikova and Ann Veneman (Less than two matches)"
       ]
      },
      {
       "output_type": "stream",
       "stream": "stdout",
       "text": [
        "\n",
        "['../../images/testsets/small_test/Anna_Kournikova_0001.png', '../../images/testsets/small_test/Ann_Veneman_0003.png']\n",
        "Score: -0.1000 for Anna Kournikova and Ann Veneman (Less than two matches)"
       ]
      },
      {
       "output_type": "stream",
       "stream": "stdout",
       "text": [
        "\n",
        "['../../images/testsets/small_test/Ann_Veneman_0006.png', '../../images/testsets/small_test/Anna_Kournikova_0012.png']\n",
        "Score: 0.0079 for Ann Veneman and Anna Kournikova"
       ]
      },
      {
       "output_type": "stream",
       "stream": "stdout",
       "text": [
        "\n",
        "['../../images/testsets/small_test/Ann_Veneman_0006.png', '../../images/testsets/small_test/Bill_Gates_0015.png']\n",
        "Score: 0.0907 for Ann Veneman and Bill Gates"
       ]
      },
      {
       "output_type": "stream",
       "stream": "stdout",
       "text": [
        "\n",
        "['../../images/testsets/small_test/Ann_Veneman_0006.png', '../../images/testsets/small_test/Anna_Kournikova_0004.png']\n",
        "Score: -0.1000 for Ann Veneman and Anna Kournikova (Less than two matches)"
       ]
      },
      {
       "output_type": "stream",
       "stream": "stdout",
       "text": [
        "\n",
        "['../../images/testsets/small_test/Ann_Veneman_0006.png', '../../images/testsets/small_test/Anna_Kournikova_0011.png']\n",
        "Score: -0.1816 for Ann Veneman and Anna Kournikova"
       ]
      },
      {
       "output_type": "stream",
       "stream": "stdout",
       "text": [
        "\n",
        "['../../images/testsets/small_test/Ann_Veneman_0006.png', '../../images/testsets/small_test/Anna_Kournikova_0008.png']\n",
        "Score: -0.1000 for Ann Veneman and Anna Kournikova (Less than two matches)"
       ]
      },
      {
       "output_type": "stream",
       "stream": "stdout",
       "text": [
        "\n",
        "['../../images/testsets/small_test/Ann_Veneman_0006.png', '../../images/testsets/small_test/Bill_Gates_0005.png']\n",
        "Score: -0.1000 for Ann Veneman and Bill Gates (Less than two matches)"
       ]
      },
      {
       "output_type": "stream",
       "stream": "stdout",
       "text": [
        "\n",
        "['../../images/testsets/small_test/Ann_Veneman_0006.png', '../../images/testsets/small_test/Ann_Veneman_0001.png']\n",
        "Score: -0.0153 for Ann Veneman and Ann Veneman"
       ]
      },
      {
       "output_type": "stream",
       "stream": "stdout",
       "text": [
        "\n",
        "['../../images/testsets/small_test/Ann_Veneman_0006.png', '../../images/testsets/small_test/Ann_Veneman_0008.png']\n",
        "Score: 0.0537 for Ann Veneman and Ann Veneman"
       ]
      },
      {
       "output_type": "stream",
       "stream": "stdout",
       "text": [
        "\n",
        "['../../images/testsets/small_test/Ann_Veneman_0006.png', '../../images/testsets/small_test/Ann_Veneman_0003.png']\n",
        "Score: 0.0470 for Ann Veneman and Ann Veneman"
       ]
      },
      {
       "output_type": "stream",
       "stream": "stdout",
       "text": [
        "\n",
        "['../../images/testsets/small_test/Anna_Kournikova_0012.png', '../../images/testsets/small_test/Bill_Gates_0015.png']\n",
        "Score: -0.1106 for Anna Kournikova and Bill Gates"
       ]
      },
      {
       "output_type": "stream",
       "stream": "stdout",
       "text": [
        "\n",
        "['../../images/testsets/small_test/Anna_Kournikova_0012.png', '../../images/testsets/small_test/Anna_Kournikova_0004.png']\n",
        "Score: 0.0778 for Anna Kournikova and Anna Kournikova"
       ]
      },
      {
       "output_type": "stream",
       "stream": "stdout",
       "text": [
        "\n",
        "['../../images/testsets/small_test/Anna_Kournikova_0012.png', '../../images/testsets/small_test/Anna_Kournikova_0011.png']\n",
        "Score: -0.1000 for Anna Kournikova and Anna Kournikova (Less than two matches)"
       ]
      },
      {
       "output_type": "stream",
       "stream": "stdout",
       "text": [
        "\n",
        "['../../images/testsets/small_test/Anna_Kournikova_0012.png', '../../images/testsets/small_test/Anna_Kournikova_0008.png']\n",
        "Score: -0.0076 for Anna Kournikova and Anna Kournikova"
       ]
      },
      {
       "output_type": "stream",
       "stream": "stdout",
       "text": [
        "\n",
        "['../../images/testsets/small_test/Anna_Kournikova_0012.png', '../../images/testsets/small_test/Bill_Gates_0005.png']\n",
        "Score: -0.1000 for Anna Kournikova and Bill Gates (Less than two matches)"
       ]
      },
      {
       "output_type": "stream",
       "stream": "stdout",
       "text": [
        "\n",
        "['../../images/testsets/small_test/Anna_Kournikova_0012.png', '../../images/testsets/small_test/Ann_Veneman_0001.png']\n",
        "Score: -0.0457 for Anna Kournikova and Ann Veneman"
       ]
      },
      {
       "output_type": "stream",
       "stream": "stdout",
       "text": [
        "\n",
        "['../../images/testsets/small_test/Anna_Kournikova_0012.png', '../../images/testsets/small_test/Ann_Veneman_0008.png']\n",
        "Score: 0.0540 for Anna Kournikova and Ann Veneman"
       ]
      },
      {
       "output_type": "stream",
       "stream": "stdout",
       "text": [
        "\n",
        "['../../images/testsets/small_test/Anna_Kournikova_0012.png', '../../images/testsets/small_test/Ann_Veneman_0003.png']\n",
        "Score: 0.0122 for Anna Kournikova and Ann Veneman"
       ]
      },
      {
       "output_type": "stream",
       "stream": "stdout",
       "text": [
        "\n",
        "['../../images/testsets/small_test/Bill_Gates_0015.png', '../../images/testsets/small_test/Anna_Kournikova_0004.png']\n",
        "Score: -0.1075 for Bill Gates and Anna Kournikova"
       ]
      },
      {
       "output_type": "stream",
       "stream": "stdout",
       "text": [
        "\n",
        "['../../images/testsets/small_test/Bill_Gates_0015.png', '../../images/testsets/small_test/Anna_Kournikova_0011.png']\n",
        "Score: 0.0461 for Bill Gates and Anna Kournikova"
       ]
      },
      {
       "output_type": "stream",
       "stream": "stdout",
       "text": [
        "\n",
        "['../../images/testsets/small_test/Bill_Gates_0015.png', '../../images/testsets/small_test/Anna_Kournikova_0008.png']\n",
        "Score: -0.0412 for Bill Gates and Anna Kournikova"
       ]
      },
      {
       "output_type": "stream",
       "stream": "stdout",
       "text": [
        "\n",
        "['../../images/testsets/small_test/Bill_Gates_0015.png', '../../images/testsets/small_test/Bill_Gates_0005.png']\n",
        "Score: -0.0154 for Bill Gates and Bill Gates"
       ]
      },
      {
       "output_type": "stream",
       "stream": "stdout",
       "text": [
        "\n",
        "['../../images/testsets/small_test/Bill_Gates_0015.png', '../../images/testsets/small_test/Ann_Veneman_0001.png']\n",
        "Score: -0.1533 for Bill Gates and Ann Veneman"
       ]
      },
      {
       "output_type": "stream",
       "stream": "stdout",
       "text": [
        "\n",
        "['../../images/testsets/small_test/Bill_Gates_0015.png', '../../images/testsets/small_test/Ann_Veneman_0008.png']\n",
        "Score: 0.0498 for Bill Gates and Ann Veneman"
       ]
      },
      {
       "output_type": "stream",
       "stream": "stdout",
       "text": [
        "\n",
        "['../../images/testsets/small_test/Bill_Gates_0015.png', '../../images/testsets/small_test/Ann_Veneman_0003.png']\n",
        "Score: -0.0058 for Bill Gates and Ann Veneman"
       ]
      },
      {
       "output_type": "stream",
       "stream": "stdout",
       "text": [
        "\n",
        "['../../images/testsets/small_test/Anna_Kournikova_0004.png', '../../images/testsets/small_test/Anna_Kournikova_0011.png']\n",
        "Score: -0.1000 for Anna Kournikova and Anna Kournikova (Less than two matches)"
       ]
      },
      {
       "output_type": "stream",
       "stream": "stdout",
       "text": [
        "\n",
        "['../../images/testsets/small_test/Anna_Kournikova_0004.png', '../../images/testsets/small_test/Anna_Kournikova_0008.png']\n",
        "Score: 0.0568 for Anna Kournikova and Anna Kournikova"
       ]
      },
      {
       "output_type": "stream",
       "stream": "stdout",
       "text": [
        "\n",
        "['../../images/testsets/small_test/Anna_Kournikova_0004.png', '../../images/testsets/small_test/Bill_Gates_0005.png']\n",
        "Score: 0.0177 for Anna Kournikova and Bill Gates"
       ]
      },
      {
       "output_type": "stream",
       "stream": "stdout",
       "text": [
        "\n",
        "['../../images/testsets/small_test/Anna_Kournikova_0004.png', '../../images/testsets/small_test/Ann_Veneman_0001.png']\n",
        "Score: -0.1000 for Anna Kournikova and Ann Veneman (Less than two matches)"
       ]
      },
      {
       "output_type": "stream",
       "stream": "stdout",
       "text": [
        "\n",
        "['../../images/testsets/small_test/Anna_Kournikova_0004.png', '../../images/testsets/small_test/Ann_Veneman_0008.png']\n",
        "Score: 0.0899 for Anna Kournikova and Ann Veneman"
       ]
      },
      {
       "output_type": "stream",
       "stream": "stdout",
       "text": [
        "\n",
        "['../../images/testsets/small_test/Anna_Kournikova_0004.png', '../../images/testsets/small_test/Ann_Veneman_0003.png']\n",
        "Score: 0.0204 for Anna Kournikova and Ann Veneman"
       ]
      },
      {
       "output_type": "stream",
       "stream": "stdout",
       "text": [
        "\n",
        "['../../images/testsets/small_test/Anna_Kournikova_0011.png', '../../images/testsets/small_test/Anna_Kournikova_0008.png']\n",
        "Score: -0.1000 for Anna Kournikova and Anna Kournikova (Less than two matches)"
       ]
      },
      {
       "output_type": "stream",
       "stream": "stdout",
       "text": [
        "\n",
        "['../../images/testsets/small_test/Anna_Kournikova_0011.png', '../../images/testsets/small_test/Bill_Gates_0005.png']\n",
        "Score: -0.1000 for Anna Kournikova and Bill Gates (Less than two matches)"
       ]
      },
      {
       "output_type": "stream",
       "stream": "stdout",
       "text": [
        "\n",
        "['../../images/testsets/small_test/Anna_Kournikova_0011.png', '../../images/testsets/small_test/Ann_Veneman_0001.png']\n",
        "Score: 0.0526 for Anna Kournikova and Ann Veneman"
       ]
      },
      {
       "output_type": "stream",
       "stream": "stdout",
       "text": [
        "\n",
        "['../../images/testsets/small_test/Anna_Kournikova_0011.png', '../../images/testsets/small_test/Ann_Veneman_0008.png']\n",
        "Score: 0.0559 for Anna Kournikova and Ann Veneman"
       ]
      },
      {
       "output_type": "stream",
       "stream": "stdout",
       "text": [
        "\n",
        "['../../images/testsets/small_test/Anna_Kournikova_0011.png', '../../images/testsets/small_test/Ann_Veneman_0003.png']\n",
        "Score: -0.1000 for Anna Kournikova and Ann Veneman (Less than two matches)"
       ]
      },
      {
       "output_type": "stream",
       "stream": "stdout",
       "text": [
        "\n",
        "['../../images/testsets/small_test/Anna_Kournikova_0008.png', '../../images/testsets/small_test/Bill_Gates_0005.png']\n",
        "Score: 0.0282 for Anna Kournikova and Bill Gates"
       ]
      },
      {
       "output_type": "stream",
       "stream": "stdout",
       "text": [
        "\n",
        "['../../images/testsets/small_test/Anna_Kournikova_0008.png', '../../images/testsets/small_test/Ann_Veneman_0001.png']\n",
        "Score: -0.0308 for Anna Kournikova and Ann Veneman"
       ]
      },
      {
       "output_type": "stream",
       "stream": "stdout",
       "text": [
        "\n",
        "['../../images/testsets/small_test/Anna_Kournikova_0008.png', '../../images/testsets/small_test/Ann_Veneman_0008.png']\n",
        "Score: -0.1000 for Anna Kournikova and Ann Veneman (Less than two matches)"
       ]
      },
      {
       "output_type": "stream",
       "stream": "stdout",
       "text": [
        "\n",
        "['../../images/testsets/small_test/Anna_Kournikova_0008.png', '../../images/testsets/small_test/Ann_Veneman_0003.png']\n",
        "Score: 0.1042 for Anna Kournikova and Ann Veneman"
       ]
      },
      {
       "output_type": "stream",
       "stream": "stdout",
       "text": [
        "\n",
        "['../../images/testsets/small_test/Bill_Gates_0005.png', '../../images/testsets/small_test/Ann_Veneman_0001.png']\n",
        "Score: -0.1605 for Bill Gates and Ann Veneman"
       ]
      },
      {
       "output_type": "stream",
       "stream": "stdout",
       "text": [
        "\n",
        "['../../images/testsets/small_test/Bill_Gates_0005.png', '../../images/testsets/small_test/Ann_Veneman_0008.png']\n",
        "Score: 0.0573 for Bill Gates and Ann Veneman"
       ]
      },
      {
       "output_type": "stream",
       "stream": "stdout",
       "text": [
        "\n",
        "['../../images/testsets/small_test/Bill_Gates_0005.png', '../../images/testsets/small_test/Ann_Veneman_0003.png']\n",
        "Score: -0.0022 for Bill Gates and Ann Veneman"
       ]
      },
      {
       "output_type": "stream",
       "stream": "stdout",
       "text": [
        "\n",
        "['../../images/testsets/small_test/Ann_Veneman_0001.png', '../../images/testsets/small_test/Ann_Veneman_0008.png']\n",
        "Score: 0.1068 for Ann Veneman and Ann Veneman"
       ]
      },
      {
       "output_type": "stream",
       "stream": "stdout",
       "text": [
        "\n",
        "['../../images/testsets/small_test/Ann_Veneman_0001.png', '../../images/testsets/small_test/Ann_Veneman_0003.png']\n",
        "Score: 0.0174 for Ann Veneman and Ann Veneman"
       ]
      },
      {
       "output_type": "stream",
       "stream": "stdout",
       "text": [
        "\n",
        "['../../images/testsets/small_test/Ann_Veneman_0008.png', '../../images/testsets/small_test/Ann_Veneman_0003.png']\n",
        "Score: 0.0497 for Ann Veneman and Ann Veneman"
       ]
      },
      {
       "output_type": "stream",
       "stream": "stdout",
       "text": [
        "\n",
        "Mean(same):\t\t0.019\n",
        "Mean(diff):\t\t-0.024\n",
        "Diff of means:\t\t0.044\n",
        "Standard deviation:\t0.078\n",
        "# of sd's:\t\t0.558\n"
       ]
      },
      {
       "output_type": "display_data",
       "png": "[encoded data removed]"
      }
     ],
     "prompt_number": 10
    },
    {
     "cell_type": "code",
     "collapsed": false,
     "input": [
      "# Define dampening\n",
      "dampening = 1.02\n",
      "\n",
      "#cluster.scoreImagePair(pairs.next())\n",
      "result = [((l1 == l2), cluster.scoreImagePair([p1, p2], louvain.cluster, dampening))\n",
      "        for ((p1, p2), (l1, l2), i) \n",
      "        in zip(path_pairs, label_pairs, range(len(list(label_pairs))) )]\n",
      "\n",
      "display.scoreHist(result)"
     ],
     "language": "python",
     "metadata": {},
     "outputs": [
      {
       "output_type": "stream",
       "stream": "stdout",
       "text": [
        "['../../images/testsets/small_test/Anna_Kournikova_0005.png', '../../images/testsets/small_test/Bill_Gates_0003.png']\n",
        "Score: 0.0772 for Anna Kournikova and Bill Gates"
       ]
      },
      {
       "output_type": "stream",
       "stream": "stdout",
       "text": [
        "\n",
        "['../../images/testsets/small_test/Anna_Kournikova_0005.png', '../../images/testsets/small_test/Anna_Kournikova_0009.png']\n",
        "Score: 0.0852 for Anna Kournikova and Anna Kournikova"
       ]
      },
      {
       "output_type": "stream",
       "stream": "stdout",
       "text": [
        "\n",
        "['../../images/testsets/small_test/Anna_Kournikova_0005.png', '../../images/testsets/small_test/Ann_Veneman_0005.png']\n",
        "Score: -0.1000 for Anna Kournikova and Ann Veneman (Less than two matches)"
       ]
      },
      {
       "output_type": "stream",
       "stream": "stdout",
       "text": [
        "\n",
        "['../../images/testsets/small_test/Anna_Kournikova_0005.png', '../../images/testsets/small_test/Bill_Gates_0002.png']\n",
        "Score: -0.1000 for Anna Kournikova and Bill Gates (Less than two matches)"
       ]
      },
      {
       "output_type": "stream",
       "stream": "stdout",
       "text": [
        "\n",
        "['../../images/testsets/small_test/Anna_Kournikova_0005.png', '../../images/testsets/small_test/Bill_Gates_0004.png']\n",
        "Score: -0.1000 for Anna Kournikova and Bill Gates (Less than two matches)"
       ]
      },
      {
       "output_type": "stream",
       "stream": "stdout",
       "text": [
        "\n",
        "['../../images/testsets/small_test/Anna_Kournikova_0005.png', '../../images/testsets/small_test/Ann_Veneman_0002.png']\n",
        "Score: 0.0578 for Anna Kournikova and Ann Veneman"
       ]
      },
      {
       "output_type": "stream",
       "stream": "stdout",
       "text": [
        "\n",
        "['../../images/testsets/small_test/Anna_Kournikova_0005.png', '../../images/testsets/small_test/Bill_Gates_0006.png']\n",
        "Score: 0.0463 for Anna Kournikova and Bill Gates"
       ]
      },
      {
       "output_type": "stream",
       "stream": "stdout",
       "text": [
        "\n",
        "['../../images/testsets/small_test/Anna_Kournikova_0005.png', '../../images/testsets/small_test/Ann_Veneman_0009.png']\n",
        "Score: -0.0426 for Anna Kournikova and Ann Veneman"
       ]
      },
      {
       "output_type": "stream",
       "stream": "stdout",
       "text": [
        "\n",
        "['../../images/testsets/small_test/Anna_Kournikova_0005.png', '../../images/testsets/small_test/Bill_Gates_0016.png']\n",
        "Score: 0.0388 for Anna Kournikova and Bill Gates"
       ]
      },
      {
       "output_type": "stream",
       "stream": "stdout",
       "text": [
        "\n",
        "['../../images/testsets/small_test/Anna_Kournikova_0005.png', '../../images/testsets/small_test/Bill_Gates_0008.png']\n",
        "Score: 0.0181 for Anna Kournikova and Bill Gates"
       ]
      },
      {
       "output_type": "stream",
       "stream": "stdout",
       "text": [
        "\n",
        "['../../images/testsets/small_test/Anna_Kournikova_0005.png', '../../images/testsets/small_test/Bill_Gates_0007.png']\n",
        "Score: -0.0947 for Anna Kournikova and Bill Gates"
       ]
      },
      {
       "output_type": "stream",
       "stream": "stdout",
       "text": [
        "\n",
        "['../../images/testsets/small_test/Anna_Kournikova_0005.png', '../../images/testsets/small_test/Anna_Kournikova_0003.png']\n",
        "Score: 0.0943 for Anna Kournikova and Anna Kournikova"
       ]
      },
      {
       "output_type": "stream",
       "stream": "stdout",
       "text": [
        "\n",
        "['../../images/testsets/small_test/Anna_Kournikova_0005.png', '../../images/testsets/small_test/Bill_Gates_0013.png']\n",
        "Score: 0.0778 for Anna Kournikova and Bill Gates"
       ]
      },
      {
       "output_type": "stream",
       "stream": "stdout",
       "text": [
        "\n",
        "['../../images/testsets/small_test/Anna_Kournikova_0005.png', '../../images/testsets/small_test/Anna_Kournikova_0006.png']\n",
        "Score: -0.1000 for Anna Kournikova and Anna Kournikova (Less than two matches)"
       ]
      },
      {
       "output_type": "stream",
       "stream": "stdout",
       "text": [
        "\n",
        "['../../images/testsets/small_test/Anna_Kournikova_0005.png', '../../images/testsets/small_test/Ann_Veneman_0010.png']\n",
        "Score: -0.1000 for Anna Kournikova and Ann Veneman (Less than two matches)"
       ]
      },
      {
       "output_type": "stream",
       "stream": "stdout",
       "text": [
        "\n",
        "['../../images/testsets/small_test/Anna_Kournikova_0005.png', '../../images/testsets/small_test/Ann_Veneman_0004.png']\n",
        "Score: 0.0661 for Anna Kournikova and Ann Veneman"
       ]
      },
      {
       "output_type": "stream",
       "stream": "stdout",
       "text": [
        "\n",
        "['../../images/testsets/small_test/Anna_Kournikova_0005.png', '../../images/testsets/small_test/Anna_Kournikova_0010.png']\n",
        "Score: -0.1000 for Anna Kournikova and Anna Kournikova (Less than two matches)"
       ]
      },
      {
       "output_type": "stream",
       "stream": "stdout",
       "text": [
        "\n",
        "['../../images/testsets/small_test/Anna_Kournikova_0005.png', '../../images/testsets/small_test/Ann_Veneman_0011.png']\n",
        "Score: 0.0425 for Anna Kournikova and Ann Veneman"
       ]
      },
      {
       "output_type": "stream",
       "stream": "stdout",
       "text": [
        "\n",
        "['../../images/testsets/small_test/Anna_Kournikova_0005.png', '../../images/testsets/small_test/Anna_Kournikova_0001.png']\n",
        "Score: 0.1112 for Anna Kournikova and Anna Kournikova"
       ]
      },
      {
       "output_type": "stream",
       "stream": "stdout",
       "text": [
        "\n",
        "['../../images/testsets/small_test/Anna_Kournikova_0005.png', '../../images/testsets/small_test/Ann_Veneman_0006.png']\n",
        "Score: -0.1000 for Anna Kournikova and Ann Veneman (Less than two matches)"
       ]
      },
      {
       "output_type": "stream",
       "stream": "stdout",
       "text": [
        "\n",
        "['../../images/testsets/small_test/Anna_Kournikova_0005.png', '../../images/testsets/small_test/Anna_Kournikova_0012.png']\n",
        "Score: 0.0256 for Anna Kournikova and Anna Kournikova"
       ]
      },
      {
       "output_type": "stream",
       "stream": "stdout",
       "text": [
        "\n",
        "['../../images/testsets/small_test/Anna_Kournikova_0005.png', '../../images/testsets/small_test/Bill_Gates_0015.png']\n",
        "Score: -0.0159 for Anna Kournikova and Bill Gates"
       ]
      },
      {
       "output_type": "stream",
       "stream": "stdout",
       "text": [
        "\n",
        "['../../images/testsets/small_test/Anna_Kournikova_0005.png', '../../images/testsets/small_test/Anna_Kournikova_0004.png']\n",
        "Score: 0.0734 for Anna Kournikova and Anna Kournikova"
       ]
      },
      {
       "output_type": "stream",
       "stream": "stdout",
       "text": [
        "\n",
        "['../../images/testsets/small_test/Anna_Kournikova_0005.png', '../../images/testsets/small_test/Anna_Kournikova_0011.png']\n",
        "Score: -0.1000 for Anna Kournikova and Anna Kournikova (Less than two matches)"
       ]
      },
      {
       "output_type": "stream",
       "stream": "stdout",
       "text": [
        "\n",
        "['../../images/testsets/small_test/Anna_Kournikova_0005.png', '../../images/testsets/small_test/Anna_Kournikova_0008.png']\n",
        "Score: 0.0593 for Anna Kournikova and Anna Kournikova"
       ]
      },
      {
       "output_type": "stream",
       "stream": "stdout",
       "text": [
        "\n",
        "['../../images/testsets/small_test/Anna_Kournikova_0005.png', '../../images/testsets/small_test/Bill_Gates_0005.png']\n",
        "Score: -0.1000 for Anna Kournikova and Bill Gates (Less than two matches)"
       ]
      },
      {
       "output_type": "stream",
       "stream": "stdout",
       "text": [
        "\n",
        "['../../images/testsets/small_test/Anna_Kournikova_0005.png', '../../images/testsets/small_test/Ann_Veneman_0001.png']\n",
        "Score: -0.0308 for Anna Kournikova and Ann Veneman"
       ]
      },
      {
       "output_type": "stream",
       "stream": "stdout",
       "text": [
        "\n",
        "['../../images/testsets/small_test/Anna_Kournikova_0005.png', '../../images/testsets/small_test/Ann_Veneman_0008.png']\n",
        "Score: 0.0572 for Anna Kournikova and Ann Veneman"
       ]
      },
      {
       "output_type": "stream",
       "stream": "stdout",
       "text": [
        "\n",
        "['../../images/testsets/small_test/Anna_Kournikova_0005.png', '../../images/testsets/small_test/Ann_Veneman_0003.png']\n",
        "Score: 0.0475 for Anna Kournikova and Ann Veneman"
       ]
      },
      {
       "output_type": "stream",
       "stream": "stdout",
       "text": [
        "\n",
        "['../../images/testsets/small_test/Bill_Gates_0003.png', '../../images/testsets/small_test/Anna_Kournikova_0009.png']\n",
        "Score: -0.0305 for Bill Gates and Anna Kournikova"
       ]
      },
      {
       "output_type": "stream",
       "stream": "stdout",
       "text": [
        "\n",
        "['../../images/testsets/small_test/Bill_Gates_0003.png', '../../images/testsets/small_test/Ann_Veneman_0005.png']\n",
        "Score: 0.0980 for Bill Gates and Ann Veneman"
       ]
      },
      {
       "output_type": "stream",
       "stream": "stdout",
       "text": [
        "\n",
        "['../../images/testsets/small_test/Bill_Gates_0003.png', '../../images/testsets/small_test/Bill_Gates_0002.png']\n",
        "Score: 0.0430 for Bill Gates and Bill Gates"
       ]
      },
      {
       "output_type": "stream",
       "stream": "stdout",
       "text": [
        "\n",
        "['../../images/testsets/small_test/Bill_Gates_0003.png', '../../images/testsets/small_test/Bill_Gates_0004.png']\n",
        "Score: 0.0563 for Bill Gates and Bill Gates"
       ]
      },
      {
       "output_type": "stream",
       "stream": "stdout",
       "text": [
        "\n",
        "['../../images/testsets/small_test/Bill_Gates_0003.png', '../../images/testsets/small_test/Ann_Veneman_0002.png']\n",
        "Score: 0.0289 for Bill Gates and Ann Veneman"
       ]
      },
      {
       "output_type": "stream",
       "stream": "stdout",
       "text": [
        "\n",
        "['../../images/testsets/small_test/Bill_Gates_0003.png', '../../images/testsets/small_test/Bill_Gates_0006.png']\n",
        "Score: -0.0402 for Bill Gates and Bill Gates"
       ]
      },
      {
       "output_type": "stream",
       "stream": "stdout",
       "text": [
        "\n",
        "['../../images/testsets/small_test/Bill_Gates_0003.png', '../../images/testsets/small_test/Ann_Veneman_0009.png']\n",
        "Score: 0.0141 for Bill Gates and Ann Veneman"
       ]
      },
      {
       "output_type": "stream",
       "stream": "stdout",
       "text": [
        "\n",
        "['../../images/testsets/small_test/Bill_Gates_0003.png', '../../images/testsets/small_test/Bill_Gates_0016.png']\n",
        "Score: 0.1350 for Bill Gates and Bill Gates"
       ]
      },
      {
       "output_type": "stream",
       "stream": "stdout",
       "text": [
        "\n",
        "['../../images/testsets/small_test/Bill_Gates_0003.png', '../../images/testsets/small_test/Bill_Gates_0008.png']\n",
        "Score: 0.1129 for Bill Gates and Bill Gates"
       ]
      },
      {
       "output_type": "stream",
       "stream": "stdout",
       "text": [
        "\n",
        "['../../images/testsets/small_test/Bill_Gates_0003.png', '../../images/testsets/small_test/Bill_Gates_0007.png']\n",
        "Score: 0.0631 for Bill Gates and Bill Gates"
       ]
      },
      {
       "output_type": "stream",
       "stream": "stdout",
       "text": [
        "\n",
        "['../../images/testsets/small_test/Bill_Gates_0003.png', '../../images/testsets/small_test/Anna_Kournikova_0003.png']\n",
        "Score: 0.0398 for Bill Gates and Anna Kournikova"
       ]
      },
      {
       "output_type": "stream",
       "stream": "stdout",
       "text": [
        "\n",
        "['../../images/testsets/small_test/Bill_Gates_0003.png', '../../images/testsets/small_test/Bill_Gates_0013.png']\n",
        "Score: 0.1297 for Bill Gates and Bill Gates"
       ]
      },
      {
       "output_type": "stream",
       "stream": "stdout",
       "text": [
        "\n",
        "['../../images/testsets/small_test/Bill_Gates_0003.png', '../../images/testsets/small_test/Anna_Kournikova_0006.png']\n",
        "Score: 0.1004 for Bill Gates and Anna Kournikova"
       ]
      },
      {
       "output_type": "stream",
       "stream": "stdout",
       "text": [
        "\n",
        "['../../images/testsets/small_test/Bill_Gates_0003.png', '../../images/testsets/small_test/Ann_Veneman_0010.png']\n",
        "Score: 0.0494 for Bill Gates and Ann Veneman"
       ]
      },
      {
       "output_type": "stream",
       "stream": "stdout",
       "text": [
        "\n",
        "['../../images/testsets/small_test/Bill_Gates_0003.png', '../../images/testsets/small_test/Ann_Veneman_0004.png']\n",
        "Score: 0.0485 for Bill Gates and Ann Veneman"
       ]
      },
      {
       "output_type": "stream",
       "stream": "stdout",
       "text": [
        "\n",
        "['../../images/testsets/small_test/Bill_Gates_0003.png', '../../images/testsets/small_test/Anna_Kournikova_0010.png']\n",
        "Score: 0.0907 for Bill Gates and Anna Kournikova"
       ]
      },
      {
       "output_type": "stream",
       "stream": "stdout",
       "text": [
        "\n",
        "['../../images/testsets/small_test/Bill_Gates_0003.png', '../../images/testsets/small_test/Ann_Veneman_0011.png']\n",
        "Score: 0.0557 for Bill Gates and Ann Veneman"
       ]
      },
      {
       "output_type": "stream",
       "stream": "stdout",
       "text": [
        "\n",
        "['../../images/testsets/small_test/Bill_Gates_0003.png', '../../images/testsets/small_test/Anna_Kournikova_0001.png']\n",
        "Score: 0.0590 for Bill Gates and Anna Kournikova"
       ]
      },
      {
       "output_type": "stream",
       "stream": "stdout",
       "text": [
        "\n",
        "['../../images/testsets/small_test/Bill_Gates_0003.png', '../../images/testsets/small_test/Ann_Veneman_0006.png']\n",
        "Score: -0.0200 for Bill Gates and Ann Veneman"
       ]
      },
      {
       "output_type": "stream",
       "stream": "stdout",
       "text": [
        "\n",
        "['../../images/testsets/small_test/Bill_Gates_0003.png', '../../images/testsets/small_test/Anna_Kournikova_0012.png']\n",
        "Score: 0.0688 for Bill Gates and Anna Kournikova"
       ]
      },
      {
       "output_type": "stream",
       "stream": "stdout",
       "text": [
        "\n",
        "['../../images/testsets/small_test/Bill_Gates_0003.png', '../../images/testsets/small_test/Bill_Gates_0015.png']\n",
        "Score: 0.1618 for Bill Gates and Bill Gates"
       ]
      },
      {
       "output_type": "stream",
       "stream": "stdout",
       "text": [
        "\n",
        "['../../images/testsets/small_test/Bill_Gates_0003.png', '../../images/testsets/small_test/Anna_Kournikova_0004.png']\n",
        "Score: 0.0369 for Bill Gates and Anna Kournikova"
       ]
      },
      {
       "output_type": "stream",
       "stream": "stdout",
       "text": [
        "\n",
        "['../../images/testsets/small_test/Bill_Gates_0003.png', '../../images/testsets/small_test/Anna_Kournikova_0011.png']\n",
        "Score: -0.0298 for Bill Gates and Anna Kournikova"
       ]
      },
      {
       "output_type": "stream",
       "stream": "stdout",
       "text": [
        "\n",
        "['../../images/testsets/small_test/Bill_Gates_0003.png', '../../images/testsets/small_test/Anna_Kournikova_0008.png']\n",
        "Score: 0.0454 for Bill Gates and Anna Kournikova"
       ]
      },
      {
       "output_type": "stream",
       "stream": "stdout",
       "text": [
        "\n",
        "['../../images/testsets/small_test/Bill_Gates_0003.png', '../../images/testsets/small_test/Bill_Gates_0005.png']\n",
        "Score: 0.0703 for Bill Gates and Bill Gates"
       ]
      },
      {
       "output_type": "stream",
       "stream": "stdout",
       "text": [
        "\n",
        "['../../images/testsets/small_test/Bill_Gates_0003.png', '../../images/testsets/small_test/Ann_Veneman_0001.png']\n",
        "Score: 0.0457 for Bill Gates and Ann Veneman"
       ]
      },
      {
       "output_type": "stream",
       "stream": "stdout",
       "text": [
        "\n",
        "['../../images/testsets/small_test/Bill_Gates_0003.png', '../../images/testsets/small_test/Ann_Veneman_0008.png']\n",
        "Score: -0.0072 for Bill Gates and Ann Veneman"
       ]
      },
      {
       "output_type": "stream",
       "stream": "stdout",
       "text": [
        "\n",
        "['../../images/testsets/small_test/Bill_Gates_0003.png', '../../images/testsets/small_test/Ann_Veneman_0003.png']\n",
        "Score: 0.0899 for Bill Gates and Ann Veneman"
       ]
      },
      {
       "output_type": "stream",
       "stream": "stdout",
       "text": [
        "\n",
        "['../../images/testsets/small_test/Anna_Kournikova_0009.png', '../../images/testsets/small_test/Ann_Veneman_0005.png']\n",
        "Score: 0.0510 for Anna Kournikova and Ann Veneman"
       ]
      },
      {
       "output_type": "stream",
       "stream": "stdout",
       "text": [
        "\n",
        "['../../images/testsets/small_test/Anna_Kournikova_0009.png', '../../images/testsets/small_test/Bill_Gates_0002.png']\n",
        "Score: -0.1000 for Anna Kournikova and Bill Gates (Less than two matches)"
       ]
      },
      {
       "output_type": "stream",
       "stream": "stdout",
       "text": [
        "\n",
        "['../../images/testsets/small_test/Anna_Kournikova_0009.png', '../../images/testsets/small_test/Bill_Gates_0004.png']\n",
        "Score: 0.0201 for Anna Kournikova and Bill Gates"
       ]
      },
      {
       "output_type": "stream",
       "stream": "stdout",
       "text": [
        "\n",
        "['../../images/testsets/small_test/Anna_Kournikova_0009.png', '../../images/testsets/small_test/Ann_Veneman_0002.png']\n",
        "Score: 0.1005 for Anna Kournikova and Ann Veneman"
       ]
      },
      {
       "output_type": "stream",
       "stream": "stdout",
       "text": [
        "\n",
        "['../../images/testsets/small_test/Anna_Kournikova_0009.png', '../../images/testsets/small_test/Bill_Gates_0006.png']\n",
        "Score: -0.1000 for Anna Kournikova and Bill Gates (Less than two matches)"
       ]
      },
      {
       "output_type": "stream",
       "stream": "stdout",
       "text": [
        "\n",
        "['../../images/testsets/small_test/Anna_Kournikova_0009.png', '../../images/testsets/small_test/Ann_Veneman_0009.png']\n",
        "Score: 0.0464 for Anna Kournikova and Ann Veneman"
       ]
      },
      {
       "output_type": "stream",
       "stream": "stdout",
       "text": [
        "\n",
        "['../../images/testsets/small_test/Anna_Kournikova_0009.png', '../../images/testsets/small_test/Bill_Gates_0016.png']\n",
        "Score: -0.1000 for Anna Kournikova and Bill Gates (Less than two matches)"
       ]
      },
      {
       "output_type": "stream",
       "stream": "stdout",
       "text": [
        "\n",
        "['../../images/testsets/small_test/Anna_Kournikova_0009.png', '../../images/testsets/small_test/Bill_Gates_0008.png']\n",
        "Score: -0.0138 for Anna Kournikova and Bill Gates"
       ]
      },
      {
       "output_type": "stream",
       "stream": "stdout",
       "text": [
        "\n",
        "['../../images/testsets/small_test/Anna_Kournikova_0009.png', '../../images/testsets/small_test/Bill_Gates_0007.png']\n",
        "Score: 0.0754 for Anna Kournikova and Bill Gates"
       ]
      },
      {
       "output_type": "stream",
       "stream": "stdout",
       "text": [
        "\n",
        "['../../images/testsets/small_test/Anna_Kournikova_0009.png', '../../images/testsets/small_test/Anna_Kournikova_0003.png']\n",
        "Score: 0.0725 for Anna Kournikova and Anna Kournikova"
       ]
      },
      {
       "output_type": "stream",
       "stream": "stdout",
       "text": [
        "\n",
        "['../../images/testsets/small_test/Anna_Kournikova_0009.png', '../../images/testsets/small_test/Bill_Gates_0013.png']\n",
        "Score: 0.0476 for Anna Kournikova and Bill Gates"
       ]
      },
      {
       "output_type": "stream",
       "stream": "stdout",
       "text": [
        "\n",
        "['../../images/testsets/small_test/Anna_Kournikova_0009.png', '../../images/testsets/small_test/Anna_Kournikova_0006.png']\n",
        "Score: -0.1000 for Anna Kournikova and Anna Kournikova (Less than two matches)"
       ]
      },
      {
       "output_type": "stream",
       "stream": "stdout",
       "text": [
        "\n",
        "['../../images/testsets/small_test/Anna_Kournikova_0009.png', '../../images/testsets/small_test/Ann_Veneman_0010.png']\n",
        "Score: -0.1000 for Anna Kournikova and Ann Veneman (Less than two matches)"
       ]
      },
      {
       "output_type": "stream",
       "stream": "stdout",
       "text": [
        "\n",
        "['../../images/testsets/small_test/Anna_Kournikova_0009.png', '../../images/testsets/small_test/Ann_Veneman_0004.png']\n",
        "Score: 0.0841 for Anna Kournikova and Ann Veneman"
       ]
      },
      {
       "output_type": "stream",
       "stream": "stdout",
       "text": [
        "\n",
        "['../../images/testsets/small_test/Anna_Kournikova_0009.png', '../../images/testsets/small_test/Anna_Kournikova_0010.png']\n",
        "Score: 0.1231 for Anna Kournikova and Anna Kournikova"
       ]
      },
      {
       "output_type": "stream",
       "stream": "stdout",
       "text": [
        "\n",
        "['../../images/testsets/small_test/Anna_Kournikova_0009.png', '../../images/testsets/small_test/Ann_Veneman_0011.png']\n",
        "Score: 0.0830 for Anna Kournikova and Ann Veneman"
       ]
      },
      {
       "output_type": "stream",
       "stream": "stdout",
       "text": [
        "\n",
        "['../../images/testsets/small_test/Anna_Kournikova_0009.png', '../../images/testsets/small_test/Anna_Kournikova_0001.png']\n",
        "Score: 0.0993 for Anna Kournikova and Anna Kournikova"
       ]
      },
      {
       "output_type": "stream",
       "stream": "stdout",
       "text": [
        "\n",
        "['../../images/testsets/small_test/Anna_Kournikova_0009.png', '../../images/testsets/small_test/Ann_Veneman_0006.png']\n",
        "Score: -0.1000 for Anna Kournikova and Ann Veneman (Less than two matches)"
       ]
      },
      {
       "output_type": "stream",
       "stream": "stdout",
       "text": [
        "\n",
        "['../../images/testsets/small_test/Anna_Kournikova_0009.png', '../../images/testsets/small_test/Anna_Kournikova_0012.png']\n",
        "Score: 0.0215 for Anna Kournikova and Anna Kournikova"
       ]
      },
      {
       "output_type": "stream",
       "stream": "stdout",
       "text": [
        "\n",
        "['../../images/testsets/small_test/Anna_Kournikova_0009.png', '../../images/testsets/small_test/Bill_Gates_0015.png']\n",
        "Score: 0.1492 for Anna Kournikova and Bill Gates"
       ]
      },
      {
       "output_type": "stream",
       "stream": "stdout",
       "text": [
        "\n",
        "['../../images/testsets/small_test/Anna_Kournikova_0009.png', '../../images/testsets/small_test/Anna_Kournikova_0004.png']\n",
        "Score: 0.1720 for Anna Kournikova and Anna Kournikova"
       ]
      },
      {
       "output_type": "stream",
       "stream": "stdout",
       "text": [
        "\n",
        "['../../images/testsets/small_test/Anna_Kournikova_0009.png', '../../images/testsets/small_test/Anna_Kournikova_0011.png']\n",
        "Score: -0.0036 for Anna Kournikova and Anna Kournikova"
       ]
      },
      {
       "output_type": "stream",
       "stream": "stdout",
       "text": [
        "\n",
        "['../../images/testsets/small_test/Anna_Kournikova_0009.png', '../../images/testsets/small_test/Anna_Kournikova_0008.png']\n",
        "Score: 0.1174 for Anna Kournikova and Anna Kournikova"
       ]
      },
      {
       "output_type": "stream",
       "stream": "stdout",
       "text": [
        "\n",
        "['../../images/testsets/small_test/Anna_Kournikova_0009.png', '../../images/testsets/small_test/Bill_Gates_0005.png']\n",
        "Score: -0.1000 for Anna Kournikova and Bill Gates (Less than two matches)"
       ]
      },
      {
       "output_type": "stream",
       "stream": "stdout",
       "text": [
        "\n",
        "['../../images/testsets/small_test/Anna_Kournikova_0009.png', '../../images/testsets/small_test/Ann_Veneman_0001.png']\n",
        "Score: -0.0162 for Anna Kournikova and Ann Veneman"
       ]
      },
      {
       "output_type": "stream",
       "stream": "stdout",
       "text": [
        "\n",
        "['../../images/testsets/small_test/Anna_Kournikova_0009.png', '../../images/testsets/small_test/Ann_Veneman_0008.png']\n",
        "Score: 0.0437 for Anna Kournikova and Ann Veneman"
       ]
      },
      {
       "output_type": "stream",
       "stream": "stdout",
       "text": [
        "\n",
        "['../../images/testsets/small_test/Anna_Kournikova_0009.png', '../../images/testsets/small_test/Ann_Veneman_0003.png']\n",
        "Score: 0.0703 for Anna Kournikova and Ann Veneman"
       ]
      },
      {
       "output_type": "stream",
       "stream": "stdout",
       "text": [
        "\n",
        "['../../images/testsets/small_test/Ann_Veneman_0005.png', '../../images/testsets/small_test/Bill_Gates_0002.png']\n",
        "Score: -0.1000 for Ann Veneman and Bill Gates (Less than two matches)"
       ]
      },
      {
       "output_type": "stream",
       "stream": "stdout",
       "text": [
        "\n",
        "['../../images/testsets/small_test/Ann_Veneman_0005.png', '../../images/testsets/small_test/Bill_Gates_0004.png']\n",
        "Score: -0.1000 for Ann Veneman and Bill Gates (Less than two matches)"
       ]
      },
      {
       "output_type": "stream",
       "stream": "stdout",
       "text": [
        "\n",
        "['../../images/testsets/small_test/Ann_Veneman_0005.png', '../../images/testsets/small_test/Ann_Veneman_0002.png']\n",
        "Score: 0.0890 for Ann Veneman and Ann Veneman"
       ]
      },
      {
       "output_type": "stream",
       "stream": "stdout",
       "text": [
        "\n",
        "['../../images/testsets/small_test/Ann_Veneman_0005.png', '../../images/testsets/small_test/Bill_Gates_0006.png']\n",
        "Score: 0.0093 for Ann Veneman and Bill Gates"
       ]
      },
      {
       "output_type": "stream",
       "stream": "stdout",
       "text": [
        "\n",
        "['../../images/testsets/small_test/Ann_Veneman_0005.png', '../../images/testsets/small_test/Ann_Veneman_0009.png']\n",
        "Score: 0.1248 for Ann Veneman and Ann Veneman"
       ]
      },
      {
       "output_type": "stream",
       "stream": "stdout",
       "text": [
        "\n",
        "['../../images/testsets/small_test/Ann_Veneman_0005.png', '../../images/testsets/small_test/Bill_Gates_0016.png']\n",
        "Score: 0.0892 for Ann Veneman and Bill Gates"
       ]
      },
      {
       "output_type": "stream",
       "stream": "stdout",
       "text": [
        "\n",
        "['../../images/testsets/small_test/Ann_Veneman_0005.png', '../../images/testsets/small_test/Bill_Gates_0008.png']\n",
        "Score: 0.0714 for Ann Veneman and Bill Gates"
       ]
      },
      {
       "output_type": "stream",
       "stream": "stdout",
       "text": [
        "\n",
        "['../../images/testsets/small_test/Ann_Veneman_0005.png', '../../images/testsets/small_test/Bill_Gates_0007.png']\n",
        "Score: 0.0641 for Ann Veneman and Bill Gates"
       ]
      },
      {
       "output_type": "stream",
       "stream": "stdout",
       "text": [
        "\n",
        "['../../images/testsets/small_test/Ann_Veneman_0005.png', '../../images/testsets/small_test/Anna_Kournikova_0003.png']\n",
        "Score: -0.1000 for Ann Veneman and Anna Kournikova (Less than two matches)"
       ]
      },
      {
       "output_type": "stream",
       "stream": "stdout",
       "text": [
        "\n",
        "['../../images/testsets/small_test/Ann_Veneman_0005.png', '../../images/testsets/small_test/Bill_Gates_0013.png']\n",
        "Score: -0.1000 for Ann Veneman and Bill Gates (Less than two matches)"
       ]
      },
      {
       "output_type": "stream",
       "stream": "stdout",
       "text": [
        "\n",
        "['../../images/testsets/small_test/Ann_Veneman_0005.png', '../../images/testsets/small_test/Anna_Kournikova_0006.png']\n",
        "Score: -0.1000 for Ann Veneman and Anna Kournikova (Less than two matches)"
       ]
      },
      {
       "output_type": "stream",
       "stream": "stdout",
       "text": [
        "\n",
        "['../../images/testsets/small_test/Ann_Veneman_0005.png', '../../images/testsets/small_test/Ann_Veneman_0010.png']\n",
        "Score: 0.0818 for Ann Veneman and Ann Veneman"
       ]
      },
      {
       "output_type": "stream",
       "stream": "stdout",
       "text": [
        "\n",
        "['../../images/testsets/small_test/Ann_Veneman_0005.png', '../../images/testsets/small_test/Ann_Veneman_0004.png']\n",
        "Score: 0.0818 for Ann Veneman and Ann Veneman"
       ]
      },
      {
       "output_type": "stream",
       "stream": "stdout",
       "text": [
        "\n",
        "['../../images/testsets/small_test/Ann_Veneman_0005.png', '../../images/testsets/small_test/Anna_Kournikova_0010.png']\n",
        "Score: 0.0961 for Ann Veneman and Anna Kournikova"
       ]
      },
      {
       "output_type": "stream",
       "stream": "stdout",
       "text": [
        "\n",
        "['../../images/testsets/small_test/Ann_Veneman_0005.png', '../../images/testsets/small_test/Ann_Veneman_0011.png']\n",
        "Score: 0.1054 for Ann Veneman and Ann Veneman"
       ]
      },
      {
       "output_type": "stream",
       "stream": "stdout",
       "text": [
        "\n",
        "['../../images/testsets/small_test/Ann_Veneman_0005.png', '../../images/testsets/small_test/Anna_Kournikova_0001.png']\n",
        "Score: 0.1227 for Ann Veneman and Anna Kournikova"
       ]
      },
      {
       "output_type": "stream",
       "stream": "stdout",
       "text": [
        "\n",
        "['../../images/testsets/small_test/Ann_Veneman_0005.png', '../../images/testsets/small_test/Ann_Veneman_0006.png']\n",
        "Score: 0.0801 for Ann Veneman and Ann Veneman"
       ]
      },
      {
       "output_type": "stream",
       "stream": "stdout",
       "text": [
        "\n",
        "['../../images/testsets/small_test/Ann_Veneman_0005.png', '../../images/testsets/small_test/Anna_Kournikova_0012.png']\n",
        "Score: 0.0991 for Ann Veneman and Anna Kournikova"
       ]
      },
      {
       "output_type": "stream",
       "stream": "stdout",
       "text": [
        "\n",
        "['../../images/testsets/small_test/Ann_Veneman_0005.png', '../../images/testsets/small_test/Bill_Gates_0015.png']\n",
        "Score: 0.0890 for Ann Veneman and Bill Gates"
       ]
      },
      {
       "output_type": "stream",
       "stream": "stdout",
       "text": [
        "\n",
        "['../../images/testsets/small_test/Ann_Veneman_0005.png', '../../images/testsets/small_test/Anna_Kournikova_0004.png']\n",
        "Score: -0.1000 for Ann Veneman and Anna Kournikova (Less than two matches)"
       ]
      },
      {
       "output_type": "stream",
       "stream": "stdout",
       "text": [
        "\n",
        "['../../images/testsets/small_test/Ann_Veneman_0005.png', '../../images/testsets/small_test/Anna_Kournikova_0011.png']\n",
        "Score: -0.1000 for Ann Veneman and Anna Kournikova (Less than two matches)"
       ]
      },
      {
       "output_type": "stream",
       "stream": "stdout",
       "text": [
        "\n",
        "['../../images/testsets/small_test/Ann_Veneman_0005.png', '../../images/testsets/small_test/Anna_Kournikova_0008.png']\n",
        "Score: 0.0642 for Ann Veneman and Anna Kournikova"
       ]
      },
      {
       "output_type": "stream",
       "stream": "stdout",
       "text": [
        "\n",
        "['../../images/testsets/small_test/Ann_Veneman_0005.png', '../../images/testsets/small_test/Bill_Gates_0005.png']\n",
        "Score: 0.0639 for Ann Veneman and Bill Gates"
       ]
      },
      {
       "output_type": "stream",
       "stream": "stdout",
       "text": [
        "\n",
        "['../../images/testsets/small_test/Ann_Veneman_0005.png', '../../images/testsets/small_test/Ann_Veneman_0001.png']\n",
        "Score: 0.0554 for Ann Veneman and Ann Veneman"
       ]
      },
      {
       "output_type": "stream",
       "stream": "stdout",
       "text": [
        "\n",
        "['../../images/testsets/small_test/Ann_Veneman_0005.png', '../../images/testsets/small_test/Ann_Veneman_0008.png']\n",
        "Score: 0.0674 for Ann Veneman and Ann Veneman"
       ]
      },
      {
       "output_type": "stream",
       "stream": "stdout",
       "text": [
        "\n",
        "['../../images/testsets/small_test/Ann_Veneman_0005.png', '../../images/testsets/small_test/Ann_Veneman_0003.png']\n",
        "Score: 0.1066 for Ann Veneman and Ann Veneman"
       ]
      },
      {
       "output_type": "stream",
       "stream": "stdout",
       "text": [
        "\n",
        "['../../images/testsets/small_test/Bill_Gates_0002.png', '../../images/testsets/small_test/Bill_Gates_0004.png']\n",
        "Score: -0.1000 for Bill Gates and Bill Gates (Less than two matches)"
       ]
      },
      {
       "output_type": "stream",
       "stream": "stdout",
       "text": [
        "\n",
        "['../../images/testsets/small_test/Bill_Gates_0002.png', '../../images/testsets/small_test/Ann_Veneman_0002.png']\n",
        "Score: -0.1000 for Bill Gates and Ann Veneman (Less than two matches)"
       ]
      },
      {
       "output_type": "stream",
       "stream": "stdout",
       "text": [
        "\n",
        "['../../images/testsets/small_test/Bill_Gates_0002.png', '../../images/testsets/small_test/Bill_Gates_0006.png']\n",
        "Score: -0.1000 for Bill Gates and Bill Gates (Less than two matches)"
       ]
      },
      {
       "output_type": "stream",
       "stream": "stdout",
       "text": [
        "\n",
        "['../../images/testsets/small_test/Bill_Gates_0002.png', '../../images/testsets/small_test/Ann_Veneman_0009.png']\n",
        "Score: -0.1000 for Bill Gates and Ann Veneman (Less than two matches)"
       ]
      },
      {
       "output_type": "stream",
       "stream": "stdout",
       "text": [
        "\n",
        "['../../images/testsets/small_test/Bill_Gates_0002.png', '../../images/testsets/small_test/Bill_Gates_0016.png']\n",
        "Score: -0.1000 for Bill Gates and Bill Gates (Less than two matches)"
       ]
      },
      {
       "output_type": "stream",
       "stream": "stdout",
       "text": [
        "\n",
        "['../../images/testsets/small_test/Bill_Gates_0002.png', '../../images/testsets/small_test/Bill_Gates_0008.png']\n",
        "Score: 0.0065 for Bill Gates and Bill Gates"
       ]
      },
      {
       "output_type": "stream",
       "stream": "stdout",
       "text": [
        "\n",
        "['../../images/testsets/small_test/Bill_Gates_0002.png', '../../images/testsets/small_test/Bill_Gates_0007.png']\n",
        "Score: -0.1000 for Bill Gates and Bill Gates (Less than two matches)"
       ]
      },
      {
       "output_type": "stream",
       "stream": "stdout",
       "text": [
        "\n",
        "['../../images/testsets/small_test/Bill_Gates_0002.png', '../../images/testsets/small_test/Anna_Kournikova_0003.png']\n",
        "Score: 0.1437 for Bill Gates and Anna Kournikova"
       ]
      },
      {
       "output_type": "stream",
       "stream": "stdout",
       "text": [
        "\n",
        "['../../images/testsets/small_test/Bill_Gates_0002.png', '../../images/testsets/small_test/Bill_Gates_0013.png']\n",
        "Score: -0.1000 for Bill Gates and Bill Gates (Less than two matches)"
       ]
      },
      {
       "output_type": "stream",
       "stream": "stdout",
       "text": [
        "\n",
        "['../../images/testsets/small_test/Bill_Gates_0002.png', '../../images/testsets/small_test/Anna_Kournikova_0006.png']\n",
        "Score: -0.1000 for Bill Gates and Anna Kournikova (Less than two matches)"
       ]
      },
      {
       "output_type": "stream",
       "stream": "stdout",
       "text": [
        "\n",
        "['../../images/testsets/small_test/Bill_Gates_0002.png', '../../images/testsets/small_test/Ann_Veneman_0010.png']\n",
        "Score: -0.1000 for Bill Gates and Ann Veneman (Less than two matches)"
       ]
      },
      {
       "output_type": "stream",
       "stream": "stdout",
       "text": [
        "\n",
        "['../../images/testsets/small_test/Bill_Gates_0002.png', '../../images/testsets/small_test/Ann_Veneman_0004.png']\n",
        "Score: -0.1000 for Bill Gates and Ann Veneman (Less than two matches)"
       ]
      },
      {
       "output_type": "stream",
       "stream": "stdout",
       "text": [
        "\n",
        "['../../images/testsets/small_test/Bill_Gates_0002.png', '../../images/testsets/small_test/Anna_Kournikova_0010.png']\n",
        "Score: -0.1000 for Bill Gates and Anna Kournikova (Less than two matches)"
       ]
      },
      {
       "output_type": "stream",
       "stream": "stdout",
       "text": [
        "\n",
        "['../../images/testsets/small_test/Bill_Gates_0002.png', '../../images/testsets/small_test/Ann_Veneman_0011.png']\n",
        "Score: -0.1000 for Bill Gates and Ann Veneman (Less than two matches)"
       ]
      },
      {
       "output_type": "stream",
       "stream": "stdout",
       "text": [
        "\n",
        "['../../images/testsets/small_test/Bill_Gates_0002.png', '../../images/testsets/small_test/Anna_Kournikova_0001.png']\n",
        "Score: -0.1000 for Bill Gates and Anna Kournikova (Less than two matches)"
       ]
      },
      {
       "output_type": "stream",
       "stream": "stdout",
       "text": [
        "\n",
        "['../../images/testsets/small_test/Bill_Gates_0002.png', '../../images/testsets/small_test/Ann_Veneman_0006.png']\n",
        "Score: -0.1000 for Bill Gates and Ann Veneman (Less than two matches)"
       ]
      },
      {
       "output_type": "stream",
       "stream": "stdout",
       "text": [
        "\n",
        "['../../images/testsets/small_test/Bill_Gates_0002.png', '../../images/testsets/small_test/Anna_Kournikova_0012.png']\n",
        "Score: 0.0618 for Bill Gates and Anna Kournikova"
       ]
      },
      {
       "output_type": "stream",
       "stream": "stdout",
       "text": [
        "\n",
        "['../../images/testsets/small_test/Bill_Gates_0002.png', '../../images/testsets/small_test/Bill_Gates_0015.png']\n",
        "Score: -0.1000 for Bill Gates and Bill Gates (Less than two matches)"
       ]
      },
      {
       "output_type": "stream",
       "stream": "stdout",
       "text": [
        "\n",
        "['../../images/testsets/small_test/Bill_Gates_0002.png', '../../images/testsets/small_test/Anna_Kournikova_0004.png']\n",
        "Score: -0.1000 for Bill Gates and Anna Kournikova (Less than two matches)"
       ]
      },
      {
       "output_type": "stream",
       "stream": "stdout",
       "text": [
        "\n",
        "['../../images/testsets/small_test/Bill_Gates_0002.png', '../../images/testsets/small_test/Anna_Kournikova_0011.png']\n",
        "Score: -0.1000 for Bill Gates and Anna Kournikova (Less than two matches)"
       ]
      },
      {
       "output_type": "stream",
       "stream": "stdout",
       "text": [
        "\n",
        "['../../images/testsets/small_test/Bill_Gates_0002.png', '../../images/testsets/small_test/Anna_Kournikova_0008.png']\n",
        "Score: -0.1000 for Bill Gates and Anna Kournikova (Less than two matches)"
       ]
      },
      {
       "output_type": "stream",
       "stream": "stdout",
       "text": [
        "\n",
        "['../../images/testsets/small_test/Bill_Gates_0002.png', '../../images/testsets/small_test/Bill_Gates_0005.png']\n",
        "Score: -0.1000 for Bill Gates and Bill Gates (Less than two matches)"
       ]
      },
      {
       "output_type": "stream",
       "stream": "stdout",
       "text": [
        "\n",
        "['../../images/testsets/small_test/Bill_Gates_0002.png', '../../images/testsets/small_test/Ann_Veneman_0001.png']\n",
        "Score: -0.1000 for Bill Gates and Ann Veneman (Less than two matches)"
       ]
      },
      {
       "output_type": "stream",
       "stream": "stdout",
       "text": [
        "\n",
        "['../../images/testsets/small_test/Bill_Gates_0002.png', '../../images/testsets/small_test/Ann_Veneman_0008.png']\n",
        "Score: -0.1000 for Bill Gates and Ann Veneman (Less than two matches)"
       ]
      },
      {
       "output_type": "stream",
       "stream": "stdout",
       "text": [
        "\n",
        "['../../images/testsets/small_test/Bill_Gates_0002.png', '../../images/testsets/small_test/Ann_Veneman_0003.png']\n",
        "Score: -0.1000 for Bill Gates and Ann Veneman (Less than two matches)"
       ]
      },
      {
       "output_type": "stream",
       "stream": "stdout",
       "text": [
        "\n",
        "['../../images/testsets/small_test/Bill_Gates_0004.png', '../../images/testsets/small_test/Ann_Veneman_0002.png']\n",
        "Score: -0.1000 for Bill Gates and Ann Veneman (Less than two matches)"
       ]
      },
      {
       "output_type": "stream",
       "stream": "stdout",
       "text": [
        "\n",
        "['../../images/testsets/small_test/Bill_Gates_0004.png', '../../images/testsets/small_test/Bill_Gates_0006.png']\n",
        "Score: -0.1000 for Bill Gates and Bill Gates (Less than two matches)"
       ]
      },
      {
       "output_type": "stream",
       "stream": "stdout",
       "text": [
        "\n",
        "['../../images/testsets/small_test/Bill_Gates_0004.png', '../../images/testsets/small_test/Ann_Veneman_0009.png']\n",
        "Score: 0.0304 for Bill Gates and Ann Veneman"
       ]
      },
      {
       "output_type": "stream",
       "stream": "stdout",
       "text": [
        "\n",
        "['../../images/testsets/small_test/Bill_Gates_0004.png', '../../images/testsets/small_test/Bill_Gates_0016.png']\n",
        "Score: -0.1000 for Bill Gates and Bill Gates (Less than two matches)"
       ]
      },
      {
       "output_type": "stream",
       "stream": "stdout",
       "text": [
        "\n",
        "['../../images/testsets/small_test/Bill_Gates_0004.png', '../../images/testsets/small_test/Bill_Gates_0008.png']\n",
        "Score: 0.0086 for Bill Gates and Bill Gates"
       ]
      },
      {
       "output_type": "stream",
       "stream": "stdout",
       "text": [
        "\n",
        "['../../images/testsets/small_test/Bill_Gates_0004.png', '../../images/testsets/small_test/Bill_Gates_0007.png']\n",
        "Score: 0.0907 for Bill Gates and Bill Gates"
       ]
      },
      {
       "output_type": "stream",
       "stream": "stdout",
       "text": [
        "\n",
        "['../../images/testsets/small_test/Bill_Gates_0004.png', '../../images/testsets/small_test/Anna_Kournikova_0003.png']\n",
        "Score: 0.0963 for Bill Gates and Anna Kournikova"
       ]
      },
      {
       "output_type": "stream",
       "stream": "stdout",
       "text": [
        "\n",
        "['../../images/testsets/small_test/Bill_Gates_0004.png', '../../images/testsets/small_test/Bill_Gates_0013.png']\n",
        "Score: 0.0429 for Bill Gates and Bill Gates"
       ]
      },
      {
       "output_type": "stream",
       "stream": "stdout",
       "text": [
        "\n",
        "['../../images/testsets/small_test/Bill_Gates_0004.png', '../../images/testsets/small_test/Anna_Kournikova_0006.png']\n",
        "Score: -0.1000 for Bill Gates and Anna Kournikova (Less than two matches)"
       ]
      },
      {
       "output_type": "stream",
       "stream": "stdout",
       "text": [
        "\n",
        "['../../images/testsets/small_test/Bill_Gates_0004.png', '../../images/testsets/small_test/Ann_Veneman_0010.png']\n",
        "Score: 0.0604 for Bill Gates and Ann Veneman"
       ]
      },
      {
       "output_type": "stream",
       "stream": "stdout",
       "text": [
        "\n",
        "['../../images/testsets/small_test/Bill_Gates_0004.png', '../../images/testsets/small_test/Ann_Veneman_0004.png']\n",
        "Score: -0.1000 for Bill Gates and Ann Veneman (Less than two matches)"
       ]
      },
      {
       "output_type": "stream",
       "stream": "stdout",
       "text": [
        "\n",
        "['../../images/testsets/small_test/Bill_Gates_0004.png', '../../images/testsets/small_test/Anna_Kournikova_0010.png']\n",
        "Score: 0.0517 for Bill Gates and Anna Kournikova"
       ]
      },
      {
       "output_type": "stream",
       "stream": "stdout",
       "text": [
        "\n",
        "['../../images/testsets/small_test/Bill_Gates_0004.png', '../../images/testsets/small_test/Ann_Veneman_0011.png']\n",
        "Score: -0.1000 for Bill Gates and Ann Veneman (Less than two matches)"
       ]
      },
      {
       "output_type": "stream",
       "stream": "stdout",
       "text": [
        "\n",
        "['../../images/testsets/small_test/Bill_Gates_0004.png', '../../images/testsets/small_test/Anna_Kournikova_0001.png']\n",
        "Score: 0.0875 for Bill Gates and Anna Kournikova"
       ]
      },
      {
       "output_type": "stream",
       "stream": "stdout",
       "text": [
        "\n",
        "['../../images/testsets/small_test/Bill_Gates_0004.png', '../../images/testsets/small_test/Ann_Veneman_0006.png']\n",
        "Score: -0.1000 for Bill Gates and Ann Veneman (Less than two matches)"
       ]
      },
      {
       "output_type": "stream",
       "stream": "stdout",
       "text": [
        "\n",
        "['../../images/testsets/small_test/Bill_Gates_0004.png', '../../images/testsets/small_test/Anna_Kournikova_0012.png']\n",
        "Score: 0.0315 for Bill Gates and Anna Kournikova"
       ]
      },
      {
       "output_type": "stream",
       "stream": "stdout",
       "text": [
        "\n",
        "['../../images/testsets/small_test/Bill_Gates_0004.png', '../../images/testsets/small_test/Bill_Gates_0015.png']\n",
        "Score: -0.1000 for Bill Gates and Bill Gates (Less than two matches)"
       ]
      },
      {
       "output_type": "stream",
       "stream": "stdout",
       "text": [
        "\n",
        "['../../images/testsets/small_test/Bill_Gates_0004.png', '../../images/testsets/small_test/Anna_Kournikova_0004.png']\n",
        "Score: -0.1000 for Bill Gates and Anna Kournikova (Less than two matches)"
       ]
      },
      {
       "output_type": "stream",
       "stream": "stdout",
       "text": [
        "\n",
        "['../../images/testsets/small_test/Bill_Gates_0004.png', '../../images/testsets/small_test/Anna_Kournikova_0011.png']\n",
        "Score: -0.1000 for Bill Gates and Anna Kournikova (Less than two matches)"
       ]
      },
      {
       "output_type": "stream",
       "stream": "stdout",
       "text": [
        "\n",
        "['../../images/testsets/small_test/Bill_Gates_0004.png', '../../images/testsets/small_test/Anna_Kournikova_0008.png']\n",
        "Score: 0.0284 for Bill Gates and Anna Kournikova"
       ]
      },
      {
       "output_type": "stream",
       "stream": "stdout",
       "text": [
        "\n",
        "['../../images/testsets/small_test/Bill_Gates_0004.png', '../../images/testsets/small_test/Bill_Gates_0005.png']\n",
        "Score: 0.0873 for Bill Gates and Bill Gates"
       ]
      },
      {
       "output_type": "stream",
       "stream": "stdout",
       "text": [
        "\n",
        "['../../images/testsets/small_test/Bill_Gates_0004.png', '../../images/testsets/small_test/Ann_Veneman_0001.png']\n",
        "Score: 0.0809 for Bill Gates and Ann Veneman"
       ]
      },
      {
       "output_type": "stream",
       "stream": "stdout",
       "text": [
        "\n",
        "['../../images/testsets/small_test/Bill_Gates_0004.png', '../../images/testsets/small_test/Ann_Veneman_0008.png']\n",
        "Score: 0.0679 for Bill Gates and Ann Veneman"
       ]
      },
      {
       "output_type": "stream",
       "stream": "stdout",
       "text": [
        "\n",
        "['../../images/testsets/small_test/Bill_Gates_0004.png', '../../images/testsets/small_test/Ann_Veneman_0003.png']\n",
        "Score: 0.0419 for Bill Gates and Ann Veneman"
       ]
      },
      {
       "output_type": "stream",
       "stream": "stdout",
       "text": [
        "\n",
        "['../../images/testsets/small_test/Ann_Veneman_0002.png', '../../images/testsets/small_test/Bill_Gates_0006.png']\n",
        "Score: 0.0485 for Ann Veneman and Bill Gates"
       ]
      },
      {
       "output_type": "stream",
       "stream": "stdout",
       "text": [
        "\n",
        "['../../images/testsets/small_test/Ann_Veneman_0002.png', '../../images/testsets/small_test/Ann_Veneman_0009.png']\n",
        "Score: 0.1210 for Ann Veneman and Ann Veneman"
       ]
      },
      {
       "output_type": "stream",
       "stream": "stdout",
       "text": [
        "\n",
        "['../../images/testsets/small_test/Ann_Veneman_0002.png', '../../images/testsets/small_test/Bill_Gates_0016.png']\n",
        "Score: 0.0282 for Ann Veneman and Bill Gates"
       ]
      },
      {
       "output_type": "stream",
       "stream": "stdout",
       "text": [
        "\n",
        "['../../images/testsets/small_test/Ann_Veneman_0002.png', '../../images/testsets/small_test/Bill_Gates_0008.png']\n",
        "Score: -0.0470 for Ann Veneman and Bill Gates"
       ]
      },
      {
       "output_type": "stream",
       "stream": "stdout",
       "text": [
        "\n",
        "['../../images/testsets/small_test/Ann_Veneman_0002.png', '../../images/testsets/small_test/Bill_Gates_0007.png']\n",
        "Score: 0.0628 for Ann Veneman and Bill Gates"
       ]
      },
      {
       "output_type": "stream",
       "stream": "stdout",
       "text": [
        "\n",
        "['../../images/testsets/small_test/Ann_Veneman_0002.png', '../../images/testsets/small_test/Anna_Kournikova_0003.png']\n",
        "Score: -0.1514 for Ann Veneman and Anna Kournikova"
       ]
      },
      {
       "output_type": "stream",
       "stream": "stdout",
       "text": [
        "\n",
        "['../../images/testsets/small_test/Ann_Veneman_0002.png', '../../images/testsets/small_test/Bill_Gates_0013.png']\n",
        "Score: 0.0543 for Ann Veneman and Bill Gates"
       ]
      },
      {
       "output_type": "stream",
       "stream": "stdout",
       "text": [
        "\n",
        "['../../images/testsets/small_test/Ann_Veneman_0002.png', '../../images/testsets/small_test/Anna_Kournikova_0006.png']\n",
        "Score: 0.0569 for Ann Veneman and Anna Kournikova"
       ]
      },
      {
       "output_type": "stream",
       "stream": "stdout",
       "text": [
        "\n",
        "['../../images/testsets/small_test/Ann_Veneman_0002.png', '../../images/testsets/small_test/Ann_Veneman_0010.png']\n",
        "Score: 0.0208 for Ann Veneman and Ann Veneman"
       ]
      },
      {
       "output_type": "stream",
       "stream": "stdout",
       "text": [
        "\n",
        "['../../images/testsets/small_test/Ann_Veneman_0002.png', '../../images/testsets/small_test/Ann_Veneman_0004.png']\n",
        "Score: 0.0187 for Ann Veneman and Ann Veneman"
       ]
      },
      {
       "output_type": "stream",
       "stream": "stdout",
       "text": [
        "\n",
        "['../../images/testsets/small_test/Ann_Veneman_0002.png', '../../images/testsets/small_test/Anna_Kournikova_0010.png']\n",
        "Score: -0.0721 for Ann Veneman and Anna Kournikova"
       ]
      },
      {
       "output_type": "stream",
       "stream": "stdout",
       "text": [
        "\n",
        "['../../images/testsets/small_test/Ann_Veneman_0002.png', '../../images/testsets/small_test/Ann_Veneman_0011.png']\n",
        "Score: 0.0553 for Ann Veneman and Ann Veneman"
       ]
      },
      {
       "output_type": "stream",
       "stream": "stdout",
       "text": [
        "\n",
        "['../../images/testsets/small_test/Ann_Veneman_0002.png', '../../images/testsets/small_test/Anna_Kournikova_0001.png']\n",
        "Score: -0.1000 for Ann Veneman and Anna Kournikova (Less than two matches)"
       ]
      },
      {
       "output_type": "stream",
       "stream": "stdout",
       "text": [
        "\n",
        "['../../images/testsets/small_test/Ann_Veneman_0002.png', '../../images/testsets/small_test/Ann_Veneman_0006.png']\n",
        "Score: 0.0906 for Ann Veneman and Ann Veneman"
       ]
      },
      {
       "output_type": "stream",
       "stream": "stdout",
       "text": [
        "\n",
        "['../../images/testsets/small_test/Ann_Veneman_0002.png', '../../images/testsets/small_test/Anna_Kournikova_0012.png']\n",
        "Score: 0.0541 for Ann Veneman and Anna Kournikova"
       ]
      },
      {
       "output_type": "stream",
       "stream": "stdout",
       "text": [
        "\n",
        "['../../images/testsets/small_test/Ann_Veneman_0002.png', '../../images/testsets/small_test/Bill_Gates_0015.png']\n",
        "Score: -0.0617 for Ann Veneman and Bill Gates"
       ]
      },
      {
       "output_type": "stream",
       "stream": "stdout",
       "text": [
        "\n",
        "['../../images/testsets/small_test/Ann_Veneman_0002.png', '../../images/testsets/small_test/Anna_Kournikova_0004.png']\n",
        "Score: -0.1000 for Ann Veneman and Anna Kournikova (Less than two matches)"
       ]
      },
      {
       "output_type": "stream",
       "stream": "stdout",
       "text": [
        "\n",
        "['../../images/testsets/small_test/Ann_Veneman_0002.png', '../../images/testsets/small_test/Anna_Kournikova_0011.png']\n",
        "Score: -0.1000 for Ann Veneman and Anna Kournikova (Less than two matches)"
       ]
      },
      {
       "output_type": "stream",
       "stream": "stdout",
       "text": [
        "\n",
        "['../../images/testsets/small_test/Ann_Veneman_0002.png', '../../images/testsets/small_test/Anna_Kournikova_0008.png']\n",
        "Score: -0.1000 for Ann Veneman and Anna Kournikova (Less than two matches)"
       ]
      },
      {
       "output_type": "stream",
       "stream": "stdout",
       "text": [
        "\n",
        "['../../images/testsets/small_test/Ann_Veneman_0002.png', '../../images/testsets/small_test/Bill_Gates_0005.png']\n",
        "Score: -0.0071 for Ann Veneman and Bill Gates"
       ]
      },
      {
       "output_type": "stream",
       "stream": "stdout",
       "text": [
        "\n",
        "['../../images/testsets/small_test/Ann_Veneman_0002.png', '../../images/testsets/small_test/Ann_Veneman_0001.png']\n",
        "Score: 0.0648 for Ann Veneman and Ann Veneman"
       ]
      },
      {
       "output_type": "stream",
       "stream": "stdout",
       "text": [
        "\n",
        "['../../images/testsets/small_test/Ann_Veneman_0002.png', '../../images/testsets/small_test/Ann_Veneman_0008.png']\n",
        "Score: 0.0471 for Ann Veneman and Ann Veneman"
       ]
      },
      {
       "output_type": "stream",
       "stream": "stdout",
       "text": [
        "\n",
        "['../../images/testsets/small_test/Ann_Veneman_0002.png', '../../images/testsets/small_test/Ann_Veneman_0003.png']\n",
        "Score: 0.0936 for Ann Veneman and Ann Veneman"
       ]
      },
      {
       "output_type": "stream",
       "stream": "stdout",
       "text": [
        "\n",
        "['../../images/testsets/small_test/Bill_Gates_0006.png', '../../images/testsets/small_test/Ann_Veneman_0009.png']\n",
        "Score: 0.0546 for Bill Gates and Ann Veneman"
       ]
      },
      {
       "output_type": "stream",
       "stream": "stdout",
       "text": [
        "\n",
        "['../../images/testsets/small_test/Bill_Gates_0006.png', '../../images/testsets/small_test/Bill_Gates_0016.png']\n",
        "Score: 0.0262 for Bill Gates and Bill Gates"
       ]
      },
      {
       "output_type": "stream",
       "stream": "stdout",
       "text": [
        "\n",
        "['../../images/testsets/small_test/Bill_Gates_0006.png', '../../images/testsets/small_test/Bill_Gates_0008.png']\n",
        "Score: -0.1148 for Bill Gates and Bill Gates"
       ]
      },
      {
       "output_type": "stream",
       "stream": "stdout",
       "text": [
        "\n",
        "['../../images/testsets/small_test/Bill_Gates_0006.png', '../../images/testsets/small_test/Bill_Gates_0007.png']\n",
        "Score: -0.0376 for Bill Gates and Bill Gates"
       ]
      },
      {
       "output_type": "stream",
       "stream": "stdout",
       "text": [
        "\n",
        "['../../images/testsets/small_test/Bill_Gates_0006.png', '../../images/testsets/small_test/Anna_Kournikova_0003.png']\n",
        "Score: -0.1000 for Bill Gates and Anna Kournikova (Less than two matches)"
       ]
      },
      {
       "output_type": "stream",
       "stream": "stdout",
       "text": [
        "\n",
        "['../../images/testsets/small_test/Bill_Gates_0006.png', '../../images/testsets/small_test/Bill_Gates_0013.png']\n",
        "Score: 0.0017 for Bill Gates and Bill Gates"
       ]
      },
      {
       "output_type": "stream",
       "stream": "stdout",
       "text": [
        "\n",
        "['../../images/testsets/small_test/Bill_Gates_0006.png', '../../images/testsets/small_test/Anna_Kournikova_0006.png']\n",
        "Score: 0.0394 for Bill Gates and Anna Kournikova"
       ]
      },
      {
       "output_type": "stream",
       "stream": "stdout",
       "text": [
        "\n",
        "['../../images/testsets/small_test/Bill_Gates_0006.png', '../../images/testsets/small_test/Ann_Veneman_0010.png']\n",
        "Score: -0.0550 for Bill Gates and Ann Veneman"
       ]
      },
      {
       "output_type": "stream",
       "stream": "stdout",
       "text": [
        "\n",
        "['../../images/testsets/small_test/Bill_Gates_0006.png', '../../images/testsets/small_test/Ann_Veneman_0004.png']\n",
        "Score: 0.0379 for Bill Gates and Ann Veneman"
       ]
      },
      {
       "output_type": "stream",
       "stream": "stdout",
       "text": [
        "\n",
        "['../../images/testsets/small_test/Bill_Gates_0006.png', '../../images/testsets/small_test/Anna_Kournikova_0010.png']\n",
        "Score: -0.1000 for Bill Gates and Anna Kournikova (Less than two matches)"
       ]
      },
      {
       "output_type": "stream",
       "stream": "stdout",
       "text": [
        "\n",
        "['../../images/testsets/small_test/Bill_Gates_0006.png', '../../images/testsets/small_test/Ann_Veneman_0011.png']\n",
        "Score: 0.0795 for Bill Gates and Ann Veneman"
       ]
      },
      {
       "output_type": "stream",
       "stream": "stdout",
       "text": [
        "\n",
        "['../../images/testsets/small_test/Bill_Gates_0006.png', '../../images/testsets/small_test/Anna_Kournikova_0001.png']\n",
        "Score: 0.0331 for Bill Gates and Anna Kournikova"
       ]
      },
      {
       "output_type": "stream",
       "stream": "stdout",
       "text": [
        "\n",
        "['../../images/testsets/small_test/Bill_Gates_0006.png', '../../images/testsets/small_test/Ann_Veneman_0006.png']\n",
        "Score: -0.0145 for Bill Gates and Ann Veneman"
       ]
      },
      {
       "output_type": "stream",
       "stream": "stdout",
       "text": [
        "\n",
        "['../../images/testsets/small_test/Bill_Gates_0006.png', '../../images/testsets/small_test/Anna_Kournikova_0012.png']\n",
        "Score: 0.0054 for Bill Gates and Anna Kournikova"
       ]
      },
      {
       "output_type": "stream",
       "stream": "stdout",
       "text": [
        "\n",
        "['../../images/testsets/small_test/Bill_Gates_0006.png', '../../images/testsets/small_test/Bill_Gates_0015.png']\n",
        "Score: 0.0377 for Bill Gates and Bill Gates"
       ]
      },
      {
       "output_type": "stream",
       "stream": "stdout",
       "text": [
        "\n",
        "['../../images/testsets/small_test/Bill_Gates_0006.png', '../../images/testsets/small_test/Anna_Kournikova_0004.png']\n",
        "Score: -0.1000 for Bill Gates and Anna Kournikova (Less than two matches)"
       ]
      },
      {
       "output_type": "stream",
       "stream": "stdout",
       "text": [
        "\n",
        "['../../images/testsets/small_test/Bill_Gates_0006.png', '../../images/testsets/small_test/Anna_Kournikova_0011.png']\n",
        "Score: 0.0580 for Bill Gates and Anna Kournikova"
       ]
      },
      {
       "output_type": "stream",
       "stream": "stdout",
       "text": [
        "\n",
        "['../../images/testsets/small_test/Bill_Gates_0006.png', '../../images/testsets/small_test/Anna_Kournikova_0008.png']\n",
        "Score: -0.1000 for Bill Gates and Anna Kournikova (Less than two matches)"
       ]
      },
      {
       "output_type": "stream",
       "stream": "stdout",
       "text": [
        "\n",
        "['../../images/testsets/small_test/Bill_Gates_0006.png', '../../images/testsets/small_test/Bill_Gates_0005.png']\n",
        "Score: 0.0147 for Bill Gates and Bill Gates"
       ]
      },
      {
       "output_type": "stream",
       "stream": "stdout",
       "text": [
        "\n",
        "['../../images/testsets/small_test/Bill_Gates_0006.png', '../../images/testsets/small_test/Ann_Veneman_0001.png']\n",
        "Score: 0.0205 for Bill Gates and Ann Veneman"
       ]
      },
      {
       "output_type": "stream",
       "stream": "stdout",
       "text": [
        "\n",
        "['../../images/testsets/small_test/Bill_Gates_0006.png', '../../images/testsets/small_test/Ann_Veneman_0008.png']\n",
        "Score: -0.0451 for Bill Gates and Ann Veneman"
       ]
      },
      {
       "output_type": "stream",
       "stream": "stdout",
       "text": [
        "\n",
        "['../../images/testsets/small_test/Bill_Gates_0006.png', '../../images/testsets/small_test/Ann_Veneman_0003.png']\n",
        "Score: 0.0334 for Bill Gates and Ann Veneman"
       ]
      },
      {
       "output_type": "stream",
       "stream": "stdout",
       "text": [
        "\n",
        "['../../images/testsets/small_test/Ann_Veneman_0009.png', '../../images/testsets/small_test/Bill_Gates_0016.png']\n",
        "Score: -0.0555 for Ann Veneman and Bill Gates"
       ]
      },
      {
       "output_type": "stream",
       "stream": "stdout",
       "text": [
        "\n",
        "['../../images/testsets/small_test/Ann_Veneman_0009.png', '../../images/testsets/small_test/Bill_Gates_0008.png']\n",
        "Score: -0.0135 for Ann Veneman and Bill Gates"
       ]
      },
      {
       "output_type": "stream",
       "stream": "stdout",
       "text": [
        "\n",
        "['../../images/testsets/small_test/Ann_Veneman_0009.png', '../../images/testsets/small_test/Bill_Gates_0007.png']\n",
        "Score: 0.0434 for Ann Veneman and Bill Gates"
       ]
      },
      {
       "output_type": "stream",
       "stream": "stdout",
       "text": [
        "\n",
        "['../../images/testsets/small_test/Ann_Veneman_0009.png', '../../images/testsets/small_test/Anna_Kournikova_0003.png']\n",
        "Score: 0.0479 for Ann Veneman and Anna Kournikova"
       ]
      },
      {
       "output_type": "stream",
       "stream": "stdout",
       "text": [
        "\n",
        "['../../images/testsets/small_test/Ann_Veneman_0009.png', '../../images/testsets/small_test/Bill_Gates_0013.png']\n",
        "Score: 0.0725 for Ann Veneman and Bill Gates"
       ]
      },
      {
       "output_type": "stream",
       "stream": "stdout",
       "text": [
        "\n",
        "['../../images/testsets/small_test/Ann_Veneman_0009.png', '../../images/testsets/small_test/Anna_Kournikova_0006.png']\n",
        "Score: 0.0767 for Ann Veneman and Anna Kournikova"
       ]
      },
      {
       "output_type": "stream",
       "stream": "stdout",
       "text": [
        "\n",
        "['../../images/testsets/small_test/Ann_Veneman_0009.png', '../../images/testsets/small_test/Ann_Veneman_0010.png']\n",
        "Score: 0.0870 for Ann Veneman and Ann Veneman"
       ]
      },
      {
       "output_type": "stream",
       "stream": "stdout",
       "text": [
        "\n",
        "['../../images/testsets/small_test/Ann_Veneman_0009.png', '../../images/testsets/small_test/Ann_Veneman_0004.png']\n",
        "Score: -0.1117 for Ann Veneman and Ann Veneman"
       ]
      },
      {
       "output_type": "stream",
       "stream": "stdout",
       "text": [
        "\n",
        "['../../images/testsets/small_test/Ann_Veneman_0009.png', '../../images/testsets/small_test/Anna_Kournikova_0010.png']\n",
        "Score: -0.1000 for Ann Veneman and Anna Kournikova (Less than two matches)"
       ]
      },
      {
       "output_type": "stream",
       "stream": "stdout",
       "text": [
        "\n",
        "['../../images/testsets/small_test/Ann_Veneman_0009.png', '../../images/testsets/small_test/Ann_Veneman_0011.png']\n",
        "Score: 0.0530 for Ann Veneman and Ann Veneman"
       ]
      },
      {
       "output_type": "stream",
       "stream": "stdout",
       "text": [
        "\n",
        "['../../images/testsets/small_test/Ann_Veneman_0009.png', '../../images/testsets/small_test/Anna_Kournikova_0001.png']\n",
        "Score: 0.0281 for Ann Veneman and Anna Kournikova"
       ]
      },
      {
       "output_type": "stream",
       "stream": "stdout",
       "text": [
        "\n",
        "['../../images/testsets/small_test/Ann_Veneman_0009.png', '../../images/testsets/small_test/Ann_Veneman_0006.png']\n",
        "Score: 0.0945 for Ann Veneman and Ann Veneman"
       ]
      },
      {
       "output_type": "stream",
       "stream": "stdout",
       "text": [
        "\n",
        "['../../images/testsets/small_test/Ann_Veneman_0009.png', '../../images/testsets/small_test/Anna_Kournikova_0012.png']\n",
        "Score: 0.0491 for Ann Veneman and Anna Kournikova"
       ]
      },
      {
       "output_type": "stream",
       "stream": "stdout",
       "text": [
        "\n",
        "['../../images/testsets/small_test/Ann_Veneman_0009.png', '../../images/testsets/small_test/Bill_Gates_0015.png']\n",
        "Score: 0.0550 for Ann Veneman and Bill Gates"
       ]
      },
      {
       "output_type": "stream",
       "stream": "stdout",
       "text": [
        "\n",
        "['../../images/testsets/small_test/Ann_Veneman_0009.png', '../../images/testsets/small_test/Anna_Kournikova_0004.png']\n",
        "Score: 0.0680 for Ann Veneman and Anna Kournikova"
       ]
      },
      {
       "output_type": "stream",
       "stream": "stdout",
       "text": [
        "\n",
        "['../../images/testsets/small_test/Ann_Veneman_0009.png', '../../images/testsets/small_test/Anna_Kournikova_0011.png']\n",
        "Score: 0.0852 for Ann Veneman and Anna Kournikova"
       ]
      },
      {
       "output_type": "stream",
       "stream": "stdout",
       "text": [
        "\n",
        "['../../images/testsets/small_test/Ann_Veneman_0009.png', '../../images/testsets/small_test/Anna_Kournikova_0008.png']\n",
        "Score: 0.0395 for Ann Veneman and Anna Kournikova"
       ]
      },
      {
       "output_type": "stream",
       "stream": "stdout",
       "text": [
        "\n",
        "['../../images/testsets/small_test/Ann_Veneman_0009.png', '../../images/testsets/small_test/Bill_Gates_0005.png']\n",
        "Score: -0.1125 for Ann Veneman and Bill Gates"
       ]
      },
      {
       "output_type": "stream",
       "stream": "stdout",
       "text": [
        "\n",
        "['../../images/testsets/small_test/Ann_Veneman_0009.png', '../../images/testsets/small_test/Ann_Veneman_0001.png']\n",
        "Score: 0.0349 for Ann Veneman and Ann Veneman"
       ]
      },
      {
       "output_type": "stream",
       "stream": "stdout",
       "text": [
        "\n",
        "['../../images/testsets/small_test/Ann_Veneman_0009.png', '../../images/testsets/small_test/Ann_Veneman_0008.png']\n",
        "Score: 0.1208 for Ann Veneman and Ann Veneman"
       ]
      },
      {
       "output_type": "stream",
       "stream": "stdout",
       "text": [
        "\n",
        "['../../images/testsets/small_test/Ann_Veneman_0009.png', '../../images/testsets/small_test/Ann_Veneman_0003.png']\n",
        "Score: 0.0354 for Ann Veneman and Ann Veneman"
       ]
      },
      {
       "output_type": "stream",
       "stream": "stdout",
       "text": [
        "\n",
        "['../../images/testsets/small_test/Bill_Gates_0016.png', '../../images/testsets/small_test/Bill_Gates_0008.png']\n",
        "Score: 0.0781 for Bill Gates and Bill Gates"
       ]
      },
      {
       "output_type": "stream",
       "stream": "stdout",
       "text": [
        "\n",
        "['../../images/testsets/small_test/Bill_Gates_0016.png', '../../images/testsets/small_test/Bill_Gates_0007.png']\n",
        "Score: 0.1150 for Bill Gates and Bill Gates"
       ]
      },
      {
       "output_type": "stream",
       "stream": "stdout",
       "text": [
        "\n",
        "['../../images/testsets/small_test/Bill_Gates_0016.png', '../../images/testsets/small_test/Anna_Kournikova_0003.png']\n",
        "Score: -0.1000 for Bill Gates and Anna Kournikova (Less than two matches)"
       ]
      },
      {
       "output_type": "stream",
       "stream": "stdout",
       "text": [
        "\n",
        "['../../images/testsets/small_test/Bill_Gates_0016.png', '../../images/testsets/small_test/Bill_Gates_0013.png']\n",
        "Score: 0.0710 for Bill Gates and Bill Gates"
       ]
      },
      {
       "output_type": "stream",
       "stream": "stdout",
       "text": [
        "\n",
        "['../../images/testsets/small_test/Bill_Gates_0016.png', '../../images/testsets/small_test/Anna_Kournikova_0006.png']\n",
        "Score: -0.1000 for Bill Gates and Anna Kournikova (Less than two matches)"
       ]
      },
      {
       "output_type": "stream",
       "stream": "stdout",
       "text": [
        "\n",
        "['../../images/testsets/small_test/Bill_Gates_0016.png', '../../images/testsets/small_test/Ann_Veneman_0010.png']\n",
        "Score: 0.0324 for Bill Gates and Ann Veneman"
       ]
      },
      {
       "output_type": "stream",
       "stream": "stdout",
       "text": [
        "\n",
        "['../../images/testsets/small_test/Bill_Gates_0016.png', '../../images/testsets/small_test/Ann_Veneman_0004.png']\n",
        "Score: -0.1000 for Bill Gates and Ann Veneman (Less than two matches)"
       ]
      },
      {
       "output_type": "stream",
       "stream": "stdout",
       "text": [
        "\n",
        "['../../images/testsets/small_test/Bill_Gates_0016.png', '../../images/testsets/small_test/Anna_Kournikova_0010.png']\n",
        "Score: -0.1000 for Bill Gates and Anna Kournikova (Less than two matches)"
       ]
      },
      {
       "output_type": "stream",
       "stream": "stdout",
       "text": [
        "\n",
        "['../../images/testsets/small_test/Bill_Gates_0016.png', '../../images/testsets/small_test/Ann_Veneman_0011.png']\n",
        "Score: 0.0501 for Bill Gates and Ann Veneman"
       ]
      },
      {
       "output_type": "stream",
       "stream": "stdout",
       "text": [
        "\n",
        "['../../images/testsets/small_test/Bill_Gates_0016.png', '../../images/testsets/small_test/Anna_Kournikova_0001.png']\n",
        "Score: 0.0826 for Bill Gates and Anna Kournikova"
       ]
      },
      {
       "output_type": "stream",
       "stream": "stdout",
       "text": [
        "\n",
        "['../../images/testsets/small_test/Bill_Gates_0016.png', '../../images/testsets/small_test/Ann_Veneman_0006.png']\n",
        "Score: 0.0451 for Bill Gates and Ann Veneman"
       ]
      },
      {
       "output_type": "stream",
       "stream": "stdout",
       "text": [
        "\n",
        "['../../images/testsets/small_test/Bill_Gates_0016.png', '../../images/testsets/small_test/Anna_Kournikova_0012.png']\n",
        "Score: -0.0578 for Bill Gates and Anna Kournikova"
       ]
      },
      {
       "output_type": "stream",
       "stream": "stdout",
       "text": [
        "\n",
        "['../../images/testsets/small_test/Bill_Gates_0016.png', '../../images/testsets/small_test/Bill_Gates_0015.png']\n",
        "Score: 0.1509 for Bill Gates and Bill Gates"
       ]
      },
      {
       "output_type": "stream",
       "stream": "stdout",
       "text": [
        "\n",
        "['../../images/testsets/small_test/Bill_Gates_0016.png', '../../images/testsets/small_test/Anna_Kournikova_0004.png']\n",
        "Score: -0.1000 for Bill Gates and Anna Kournikova (Less than two matches)"
       ]
      },
      {
       "output_type": "stream",
       "stream": "stdout",
       "text": [
        "\n",
        "['../../images/testsets/small_test/Bill_Gates_0016.png', '../../images/testsets/small_test/Anna_Kournikova_0011.png']\n",
        "Score: -0.1000 for Bill Gates and Anna Kournikova (Less than two matches)"
       ]
      },
      {
       "output_type": "stream",
       "stream": "stdout",
       "text": [
        "\n",
        "['../../images/testsets/small_test/Bill_Gates_0016.png', '../../images/testsets/small_test/Anna_Kournikova_0008.png']\n",
        "Score: 0.0972 for Bill Gates and Anna Kournikova"
       ]
      },
      {
       "output_type": "stream",
       "stream": "stdout",
       "text": [
        "\n",
        "['../../images/testsets/small_test/Bill_Gates_0016.png', '../../images/testsets/small_test/Bill_Gates_0005.png']\n",
        "Score: 0.1045 for Bill Gates and Bill Gates"
       ]
      },
      {
       "output_type": "stream",
       "stream": "stdout",
       "text": [
        "\n",
        "['../../images/testsets/small_test/Bill_Gates_0016.png', '../../images/testsets/small_test/Ann_Veneman_0001.png']\n",
        "Score: -0.0600 for Bill Gates and Ann Veneman"
       ]
      },
      {
       "output_type": "stream",
       "stream": "stdout",
       "text": [
        "\n",
        "['../../images/testsets/small_test/Bill_Gates_0016.png', '../../images/testsets/small_test/Ann_Veneman_0008.png']\n",
        "Score: 0.0373 for Bill Gates and Ann Veneman"
       ]
      },
      {
       "output_type": "stream",
       "stream": "stdout",
       "text": [
        "\n",
        "['../../images/testsets/small_test/Bill_Gates_0016.png', '../../images/testsets/small_test/Ann_Veneman_0003.png']\n",
        "Score: -0.0265 for Bill Gates and Ann Veneman"
       ]
      },
      {
       "output_type": "stream",
       "stream": "stdout",
       "text": [
        "\n",
        "['../../images/testsets/small_test/Bill_Gates_0008.png', '../../images/testsets/small_test/Bill_Gates_0007.png']\n",
        "Score: 0.0341 for Bill Gates and Bill Gates"
       ]
      },
      {
       "output_type": "stream",
       "stream": "stdout",
       "text": [
        "\n",
        "['../../images/testsets/small_test/Bill_Gates_0008.png', '../../images/testsets/small_test/Anna_Kournikova_0003.png']\n",
        "Score: -0.0061 for Bill Gates and Anna Kournikova"
       ]
      },
      {
       "output_type": "stream",
       "stream": "stdout",
       "text": [
        "\n",
        "['../../images/testsets/small_test/Bill_Gates_0008.png', '../../images/testsets/small_test/Bill_Gates_0013.png']\n",
        "Score: -0.1000 for Bill Gates and Bill Gates (Less than two matches)"
       ]
      },
      {
       "output_type": "stream",
       "stream": "stdout",
       "text": [
        "\n",
        "['../../images/testsets/small_test/Bill_Gates_0008.png', '../../images/testsets/small_test/Anna_Kournikova_0006.png']\n",
        "Score: -0.1000 for Bill Gates and Anna Kournikova (Less than two matches)"
       ]
      },
      {
       "output_type": "stream",
       "stream": "stdout",
       "text": [
        "\n",
        "['../../images/testsets/small_test/Bill_Gates_0008.png', '../../images/testsets/small_test/Ann_Veneman_0010.png']\n",
        "Score: -0.1000 for Bill Gates and Ann Veneman (Less than two matches)"
       ]
      },
      {
       "output_type": "stream",
       "stream": "stdout",
       "text": [
        "\n",
        "['../../images/testsets/small_test/Bill_Gates_0008.png', '../../images/testsets/small_test/Ann_Veneman_0004.png']\n",
        "Score: 0.0473 for Bill Gates and Ann Veneman"
       ]
      },
      {
       "output_type": "stream",
       "stream": "stdout",
       "text": [
        "\n",
        "['../../images/testsets/small_test/Bill_Gates_0008.png', '../../images/testsets/small_test/Anna_Kournikova_0010.png']\n",
        "Score: -0.1000 for Bill Gates and Anna Kournikova (Less than two matches)"
       ]
      },
      {
       "output_type": "stream",
       "stream": "stdout",
       "text": [
        "\n",
        "['../../images/testsets/small_test/Bill_Gates_0008.png', '../../images/testsets/small_test/Ann_Veneman_0011.png']\n",
        "Score: 0.0094 for Bill Gates and Ann Veneman"
       ]
      },
      {
       "output_type": "stream",
       "stream": "stdout",
       "text": [
        "\n",
        "['../../images/testsets/small_test/Bill_Gates_0008.png', '../../images/testsets/small_test/Anna_Kournikova_0001.png']\n",
        "Score: -0.1492 for Bill Gates and Anna Kournikova"
       ]
      },
      {
       "output_type": "stream",
       "stream": "stdout",
       "text": [
        "\n",
        "['../../images/testsets/small_test/Bill_Gates_0008.png', '../../images/testsets/small_test/Ann_Veneman_0006.png']\n",
        "Score: 0.0336 for Bill Gates and Ann Veneman"
       ]
      },
      {
       "output_type": "stream",
       "stream": "stdout",
       "text": [
        "\n",
        "['../../images/testsets/small_test/Bill_Gates_0008.png', '../../images/testsets/small_test/Anna_Kournikova_0012.png']\n",
        "Score: 0.0648 for Bill Gates and Anna Kournikova"
       ]
      },
      {
       "output_type": "stream",
       "stream": "stdout",
       "text": [
        "\n",
        "['../../images/testsets/small_test/Bill_Gates_0008.png', '../../images/testsets/small_test/Bill_Gates_0015.png']\n",
        "Score: 0.0355 for Bill Gates and Bill Gates"
       ]
      },
      {
       "output_type": "stream",
       "stream": "stdout",
       "text": [
        "\n",
        "['../../images/testsets/small_test/Bill_Gates_0008.png', '../../images/testsets/small_test/Anna_Kournikova_0004.png']\n",
        "Score: -0.1000 for Bill Gates and Anna Kournikova (Less than two matches)"
       ]
      },
      {
       "output_type": "stream",
       "stream": "stdout",
       "text": [
        "\n",
        "['../../images/testsets/small_test/Bill_Gates_0008.png', '../../images/testsets/small_test/Anna_Kournikova_0011.png']\n",
        "Score: 0.0501 for Bill Gates and Anna Kournikova"
       ]
      },
      {
       "output_type": "stream",
       "stream": "stdout",
       "text": [
        "\n",
        "['../../images/testsets/small_test/Bill_Gates_0008.png', '../../images/testsets/small_test/Anna_Kournikova_0008.png']\n",
        "Score: 0.0704 for Bill Gates and Anna Kournikova"
       ]
      },
      {
       "output_type": "stream",
       "stream": "stdout",
       "text": [
        "\n",
        "['../../images/testsets/small_test/Bill_Gates_0008.png', '../../images/testsets/small_test/Bill_Gates_0005.png']\n",
        "Score: 0.0611 for Bill Gates and Bill Gates"
       ]
      },
      {
       "output_type": "stream",
       "stream": "stdout",
       "text": [
        "\n",
        "['../../images/testsets/small_test/Bill_Gates_0008.png', '../../images/testsets/small_test/Ann_Veneman_0001.png']\n",
        "Score: -0.1138 for Bill Gates and Ann Veneman"
       ]
      },
      {
       "output_type": "stream",
       "stream": "stdout",
       "text": [
        "\n",
        "['../../images/testsets/small_test/Bill_Gates_0008.png', '../../images/testsets/small_test/Ann_Veneman_0008.png']\n",
        "Score: 0.0485 for Bill Gates and Ann Veneman"
       ]
      },
      {
       "output_type": "stream",
       "stream": "stdout",
       "text": [
        "\n",
        "['../../images/testsets/small_test/Bill_Gates_0008.png', '../../images/testsets/small_test/Ann_Veneman_0003.png']\n",
        "Score: -0.1000 for Bill Gates and Ann Veneman (Less than two matches)"
       ]
      },
      {
       "output_type": "stream",
       "stream": "stdout",
       "text": [
        "\n",
        "['../../images/testsets/small_test/Bill_Gates_0007.png', '../../images/testsets/small_test/Anna_Kournikova_0003.png']\n",
        "Score: 0.0068 for Bill Gates and Anna Kournikova"
       ]
      },
      {
       "output_type": "stream",
       "stream": "stdout",
       "text": [
        "\n",
        "['../../images/testsets/small_test/Bill_Gates_0007.png', '../../images/testsets/small_test/Bill_Gates_0013.png']\n",
        "Score: 0.0758 for Bill Gates and Bill Gates"
       ]
      },
      {
       "output_type": "stream",
       "stream": "stdout",
       "text": [
        "\n",
        "['../../images/testsets/small_test/Bill_Gates_0007.png', '../../images/testsets/small_test/Anna_Kournikova_0006.png']\n",
        "Score: -0.0295 for Bill Gates and Anna Kournikova"
       ]
      },
      {
       "output_type": "stream",
       "stream": "stdout",
       "text": [
        "\n",
        "['../../images/testsets/small_test/Bill_Gates_0007.png', '../../images/testsets/small_test/Ann_Veneman_0010.png']\n",
        "Score: 0.0513 for Bill Gates and Ann Veneman"
       ]
      },
      {
       "output_type": "stream",
       "stream": "stdout",
       "text": [
        "\n",
        "['../../images/testsets/small_test/Bill_Gates_0007.png', '../../images/testsets/small_test/Ann_Veneman_0004.png']\n",
        "Score: 0.0589 for Bill Gates and Ann Veneman"
       ]
      },
      {
       "output_type": "stream",
       "stream": "stdout",
       "text": [
        "\n",
        "['../../images/testsets/small_test/Bill_Gates_0007.png', '../../images/testsets/small_test/Anna_Kournikova_0010.png']\n",
        "Score: 0.0449 for Bill Gates and Anna Kournikova"
       ]
      },
      {
       "output_type": "stream",
       "stream": "stdout",
       "text": [
        "\n",
        "['../../images/testsets/small_test/Bill_Gates_0007.png', '../../images/testsets/small_test/Ann_Veneman_0011.png']\n",
        "Score: 0.0216 for Bill Gates and Ann Veneman"
       ]
      },
      {
       "output_type": "stream",
       "stream": "stdout",
       "text": [
        "\n",
        "['../../images/testsets/small_test/Bill_Gates_0007.png', '../../images/testsets/small_test/Anna_Kournikova_0001.png']\n",
        "Score: 0.0550 for Bill Gates and Anna Kournikova"
       ]
      },
      {
       "output_type": "stream",
       "stream": "stdout",
       "text": [
        "\n",
        "['../../images/testsets/small_test/Bill_Gates_0007.png', '../../images/testsets/small_test/Ann_Veneman_0006.png']\n",
        "Score: 0.0272 for Bill Gates and Ann Veneman"
       ]
      },
      {
       "output_type": "stream",
       "stream": "stdout",
       "text": [
        "\n",
        "['../../images/testsets/small_test/Bill_Gates_0007.png', '../../images/testsets/small_test/Anna_Kournikova_0012.png']\n",
        "Score: 0.0044 for Bill Gates and Anna Kournikova"
       ]
      },
      {
       "output_type": "stream",
       "stream": "stdout",
       "text": [
        "\n",
        "['../../images/testsets/small_test/Bill_Gates_0007.png', '../../images/testsets/small_test/Bill_Gates_0015.png']\n",
        "Score: 0.1211 for Bill Gates and Bill Gates"
       ]
      },
      {
       "output_type": "stream",
       "stream": "stdout",
       "text": [
        "\n",
        "['../../images/testsets/small_test/Bill_Gates_0007.png', '../../images/testsets/small_test/Anna_Kournikova_0004.png']\n",
        "Score: -0.1000 for Bill Gates and Anna Kournikova (Less than two matches)"
       ]
      },
      {
       "output_type": "stream",
       "stream": "stdout",
       "text": [
        "\n",
        "['../../images/testsets/small_test/Bill_Gates_0007.png', '../../images/testsets/small_test/Anna_Kournikova_0011.png']\n",
        "Score: -0.1000 for Bill Gates and Anna Kournikova (Less than two matches)"
       ]
      },
      {
       "output_type": "stream",
       "stream": "stdout",
       "text": [
        "\n",
        "['../../images/testsets/small_test/Bill_Gates_0007.png', '../../images/testsets/small_test/Anna_Kournikova_0008.png']\n",
        "Score: 0.0094 for Bill Gates and Anna Kournikova"
       ]
      },
      {
       "output_type": "stream",
       "stream": "stdout",
       "text": [
        "\n",
        "['../../images/testsets/small_test/Bill_Gates_0007.png', '../../images/testsets/small_test/Bill_Gates_0005.png']\n",
        "Score: 0.0776 for Bill Gates and Bill Gates"
       ]
      },
      {
       "output_type": "stream",
       "stream": "stdout",
       "text": [
        "\n",
        "['../../images/testsets/small_test/Bill_Gates_0007.png', '../../images/testsets/small_test/Ann_Veneman_0001.png']\n",
        "Score: -0.1009 for Bill Gates and Ann Veneman"
       ]
      },
      {
       "output_type": "stream",
       "stream": "stdout",
       "text": [
        "\n",
        "['../../images/testsets/small_test/Bill_Gates_0007.png', '../../images/testsets/small_test/Ann_Veneman_0008.png']\n",
        "Score: 0.0431 for Bill Gates and Ann Veneman"
       ]
      },
      {
       "output_type": "stream",
       "stream": "stdout",
       "text": [
        "\n",
        "['../../images/testsets/small_test/Bill_Gates_0007.png', '../../images/testsets/small_test/Ann_Veneman_0003.png']\n",
        "Score: -0.0047 for Bill Gates and Ann Veneman"
       ]
      },
      {
       "output_type": "stream",
       "stream": "stdout",
       "text": [
        "\n",
        "['../../images/testsets/small_test/Anna_Kournikova_0003.png', '../../images/testsets/small_test/Bill_Gates_0013.png']\n",
        "Score: 0.0489 for Anna Kournikova and Bill Gates"
       ]
      },
      {
       "output_type": "stream",
       "stream": "stdout",
       "text": [
        "\n",
        "['../../images/testsets/small_test/Anna_Kournikova_0003.png', '../../images/testsets/small_test/Anna_Kournikova_0006.png']\n",
        "Score: -0.1000 for Anna Kournikova and Anna Kournikova (Less than two matches)"
       ]
      },
      {
       "output_type": "stream",
       "stream": "stdout",
       "text": [
        "\n",
        "['../../images/testsets/small_test/Anna_Kournikova_0003.png', '../../images/testsets/small_test/Ann_Veneman_0010.png']\n",
        "Score: -0.1000 for Anna Kournikova and Ann Veneman (Less than two matches)"
       ]
      },
      {
       "output_type": "stream",
       "stream": "stdout",
       "text": [
        "\n",
        "['../../images/testsets/small_test/Anna_Kournikova_0003.png', '../../images/testsets/small_test/Ann_Veneman_0004.png']\n",
        "Score: -0.1000 for Anna Kournikova and Ann Veneman (Less than two matches)"
       ]
      },
      {
       "output_type": "stream",
       "stream": "stdout",
       "text": [
        "\n",
        "['../../images/testsets/small_test/Anna_Kournikova_0003.png', '../../images/testsets/small_test/Anna_Kournikova_0010.png']\n",
        "Score: 0.0350 for Anna Kournikova and Anna Kournikova"
       ]
      },
      {
       "output_type": "stream",
       "stream": "stdout",
       "text": [
        "\n",
        "['../../images/testsets/small_test/Anna_Kournikova_0003.png', '../../images/testsets/small_test/Ann_Veneman_0011.png']\n",
        "Score: -0.1000 for Anna Kournikova and Ann Veneman (Less than two matches)"
       ]
      },
      {
       "output_type": "stream",
       "stream": "stdout",
       "text": [
        "\n",
        "['../../images/testsets/small_test/Anna_Kournikova_0003.png', '../../images/testsets/small_test/Anna_Kournikova_0001.png']\n",
        "Score: 0.0384 for Anna Kournikova and Anna Kournikova"
       ]
      },
      {
       "output_type": "stream",
       "stream": "stdout",
       "text": [
        "\n",
        "['../../images/testsets/small_test/Anna_Kournikova_0003.png', '../../images/testsets/small_test/Ann_Veneman_0006.png']\n",
        "Score: -0.1000 for Anna Kournikova and Ann Veneman (Less than two matches)"
       ]
      },
      {
       "output_type": "stream",
       "stream": "stdout",
       "text": [
        "\n",
        "['../../images/testsets/small_test/Anna_Kournikova_0003.png', '../../images/testsets/small_test/Anna_Kournikova_0012.png']\n",
        "Score: -0.1000 for Anna Kournikova and Anna Kournikova (Less than two matches)"
       ]
      },
      {
       "output_type": "stream",
       "stream": "stdout",
       "text": [
        "\n",
        "['../../images/testsets/small_test/Anna_Kournikova_0003.png', '../../images/testsets/small_test/Bill_Gates_0015.png']\n",
        "Score: 0.0835 for Anna Kournikova and Bill Gates"
       ]
      },
      {
       "output_type": "stream",
       "stream": "stdout",
       "text": [
        "\n",
        "['../../images/testsets/small_test/Anna_Kournikova_0003.png', '../../images/testsets/small_test/Anna_Kournikova_0004.png']\n",
        "Score: 0.0639 for Anna Kournikova and Anna Kournikova"
       ]
      },
      {
       "output_type": "stream",
       "stream": "stdout",
       "text": [
        "\n",
        "['../../images/testsets/small_test/Anna_Kournikova_0003.png', '../../images/testsets/small_test/Anna_Kournikova_0011.png']\n",
        "Score: -0.1000 for Anna Kournikova and Anna Kournikova (Less than two matches)"
       ]
      },
      {
       "output_type": "stream",
       "stream": "stdout",
       "text": [
        "\n",
        "['../../images/testsets/small_test/Anna_Kournikova_0003.png', '../../images/testsets/small_test/Anna_Kournikova_0008.png']\n",
        "Score: 0.1883 for Anna Kournikova and Anna Kournikova"
       ]
      },
      {
       "output_type": "stream",
       "stream": "stdout",
       "text": [
        "\n",
        "['../../images/testsets/small_test/Anna_Kournikova_0003.png', '../../images/testsets/small_test/Bill_Gates_0005.png']\n",
        "Score: -0.1000 for Anna Kournikova and Bill Gates (Less than two matches)"
       ]
      },
      {
       "output_type": "stream",
       "stream": "stdout",
       "text": [
        "\n",
        "['../../images/testsets/small_test/Anna_Kournikova_0003.png', '../../images/testsets/small_test/Ann_Veneman_0001.png']\n",
        "Score: 0.0992 for Anna Kournikova and Ann Veneman"
       ]
      },
      {
       "output_type": "stream",
       "stream": "stdout",
       "text": [
        "\n",
        "['../../images/testsets/small_test/Anna_Kournikova_0003.png', '../../images/testsets/small_test/Ann_Veneman_0008.png']\n",
        "Score: 0.0145 for Anna Kournikova and Ann Veneman"
       ]
      },
      {
       "output_type": "stream",
       "stream": "stdout",
       "text": [
        "\n",
        "['../../images/testsets/small_test/Anna_Kournikova_0003.png', '../../images/testsets/small_test/Ann_Veneman_0003.png']\n",
        "Score: -0.1000 for Anna Kournikova and Ann Veneman (Less than two matches)"
       ]
      },
      {
       "output_type": "stream",
       "stream": "stdout",
       "text": [
        "\n",
        "['../../images/testsets/small_test/Bill_Gates_0013.png', '../../images/testsets/small_test/Anna_Kournikova_0006.png']\n",
        "Score: 0.0699 for Bill Gates and Anna Kournikova"
       ]
      },
      {
       "output_type": "stream",
       "stream": "stdout",
       "text": [
        "\n",
        "['../../images/testsets/small_test/Bill_Gates_0013.png', '../../images/testsets/small_test/Ann_Veneman_0010.png']\n",
        "Score: 0.0953 for Bill Gates and Ann Veneman"
       ]
      },
      {
       "output_type": "stream",
       "stream": "stdout",
       "text": [
        "\n",
        "['../../images/testsets/small_test/Bill_Gates_0013.png', '../../images/testsets/small_test/Ann_Veneman_0004.png']\n",
        "Score: 0.0555 for Bill Gates and Ann Veneman"
       ]
      },
      {
       "output_type": "stream",
       "stream": "stdout",
       "text": [
        "\n",
        "['../../images/testsets/small_test/Bill_Gates_0013.png', '../../images/testsets/small_test/Anna_Kournikova_0010.png']\n",
        "Score: -0.1000 for Bill Gates and Anna Kournikova (Less than two matches)"
       ]
      },
      {
       "output_type": "stream",
       "stream": "stdout",
       "text": [
        "\n",
        "['../../images/testsets/small_test/Bill_Gates_0013.png', '../../images/testsets/small_test/Ann_Veneman_0011.png']\n",
        "Score: -0.1000 for Bill Gates and Ann Veneman (Less than two matches)"
       ]
      },
      {
       "output_type": "stream",
       "stream": "stdout",
       "text": [
        "\n",
        "['../../images/testsets/small_test/Bill_Gates_0013.png', '../../images/testsets/small_test/Anna_Kournikova_0001.png']\n",
        "Score: -0.1000 for Bill Gates and Anna Kournikova (Less than two matches)"
       ]
      },
      {
       "output_type": "stream",
       "stream": "stdout",
       "text": [
        "\n",
        "['../../images/testsets/small_test/Bill_Gates_0013.png', '../../images/testsets/small_test/Ann_Veneman_0006.png']\n",
        "Score: 0.0029 for Bill Gates and Ann Veneman"
       ]
      },
      {
       "output_type": "stream",
       "stream": "stdout",
       "text": [
        "\n",
        "['../../images/testsets/small_test/Bill_Gates_0013.png', '../../images/testsets/small_test/Anna_Kournikova_0012.png']\n",
        "Score: 0.1207 for Bill Gates and Anna Kournikova"
       ]
      },
      {
       "output_type": "stream",
       "stream": "stdout",
       "text": [
        "\n",
        "['../../images/testsets/small_test/Bill_Gates_0013.png', '../../images/testsets/small_test/Bill_Gates_0015.png']\n",
        "Score: 0.1105 for Bill Gates and Bill Gates"
       ]
      },
      {
       "output_type": "stream",
       "stream": "stdout",
       "text": [
        "\n",
        "['../../images/testsets/small_test/Bill_Gates_0013.png', '../../images/testsets/small_test/Anna_Kournikova_0004.png']\n",
        "Score: -0.1000 for Bill Gates and Anna Kournikova (Less than two matches)"
       ]
      },
      {
       "output_type": "stream",
       "stream": "stdout",
       "text": [
        "\n",
        "['../../images/testsets/small_test/Bill_Gates_0013.png', '../../images/testsets/small_test/Anna_Kournikova_0011.png']\n",
        "Score: 0.0898 for Bill Gates and Anna Kournikova"
       ]
      },
      {
       "output_type": "stream",
       "stream": "stdout",
       "text": [
        "\n",
        "['../../images/testsets/small_test/Bill_Gates_0013.png', '../../images/testsets/small_test/Anna_Kournikova_0008.png']\n",
        "Score: -0.1000 for Bill Gates and Anna Kournikova (Less than two matches)"
       ]
      },
      {
       "output_type": "stream",
       "stream": "stdout",
       "text": [
        "\n",
        "['../../images/testsets/small_test/Bill_Gates_0013.png', '../../images/testsets/small_test/Bill_Gates_0005.png']\n",
        "Score: 0.0089 for Bill Gates and Bill Gates"
       ]
      },
      {
       "output_type": "stream",
       "stream": "stdout",
       "text": [
        "\n",
        "['../../images/testsets/small_test/Bill_Gates_0013.png', '../../images/testsets/small_test/Ann_Veneman_0001.png']\n",
        "Score: 0.0575 for Bill Gates and Ann Veneman"
       ]
      },
      {
       "output_type": "stream",
       "stream": "stdout",
       "text": [
        "\n",
        "['../../images/testsets/small_test/Bill_Gates_0013.png', '../../images/testsets/small_test/Ann_Veneman_0008.png']\n",
        "Score: 0.0820 for Bill Gates and Ann Veneman"
       ]
      },
      {
       "output_type": "stream",
       "stream": "stdout",
       "text": [
        "\n",
        "['../../images/testsets/small_test/Bill_Gates_0013.png', '../../images/testsets/small_test/Ann_Veneman_0003.png']\n",
        "Score: 0.0728 for Bill Gates and Ann Veneman"
       ]
      },
      {
       "output_type": "stream",
       "stream": "stdout",
       "text": [
        "\n",
        "['../../images/testsets/small_test/Anna_Kournikova_0006.png', '../../images/testsets/small_test/Ann_Veneman_0010.png']\n",
        "Score: -0.1000 for Anna Kournikova and Ann Veneman (Less than two matches)"
       ]
      },
      {
       "output_type": "stream",
       "stream": "stdout",
       "text": [
        "\n",
        "['../../images/testsets/small_test/Anna_Kournikova_0006.png', '../../images/testsets/small_test/Ann_Veneman_0004.png']\n",
        "Score: -0.1000 for Anna Kournikova and Ann Veneman (Less than two matches)"
       ]
      },
      {
       "output_type": "stream",
       "stream": "stdout",
       "text": [
        "\n",
        "['../../images/testsets/small_test/Anna_Kournikova_0006.png', '../../images/testsets/small_test/Anna_Kournikova_0010.png']\n",
        "Score: -0.1000 for Anna Kournikova and Anna Kournikova (Less than two matches)"
       ]
      },
      {
       "output_type": "stream",
       "stream": "stdout",
       "text": [
        "\n",
        "['../../images/testsets/small_test/Anna_Kournikova_0006.png', '../../images/testsets/small_test/Ann_Veneman_0011.png']\n",
        "Score: 0.0842 for Anna Kournikova and Ann Veneman"
       ]
      },
      {
       "output_type": "stream",
       "stream": "stdout",
       "text": [
        "\n",
        "['../../images/testsets/small_test/Anna_Kournikova_0006.png', '../../images/testsets/small_test/Anna_Kournikova_0001.png']\n",
        "Score: 0.0560 for Anna Kournikova and Anna Kournikova"
       ]
      },
      {
       "output_type": "stream",
       "stream": "stdout",
       "text": [
        "\n",
        "['../../images/testsets/small_test/Anna_Kournikova_0006.png', '../../images/testsets/small_test/Ann_Veneman_0006.png']\n",
        "Score: -0.1000 for Anna Kournikova and Ann Veneman (Less than two matches)"
       ]
      },
      {
       "output_type": "stream",
       "stream": "stdout",
       "text": [
        "\n",
        "['../../images/testsets/small_test/Anna_Kournikova_0006.png', '../../images/testsets/small_test/Anna_Kournikova_0012.png']\n",
        "Score: 0.0309 for Anna Kournikova and Anna Kournikova"
       ]
      },
      {
       "output_type": "stream",
       "stream": "stdout",
       "text": [
        "\n",
        "['../../images/testsets/small_test/Anna_Kournikova_0006.png', '../../images/testsets/small_test/Bill_Gates_0015.png']\n",
        "Score: -0.1000 for Anna Kournikova and Bill Gates (Less than two matches)"
       ]
      },
      {
       "output_type": "stream",
       "stream": "stdout",
       "text": [
        "\n",
        "['../../images/testsets/small_test/Anna_Kournikova_0006.png', '../../images/testsets/small_test/Anna_Kournikova_0004.png']\n",
        "Score: 0.0689 for Anna Kournikova and Anna Kournikova"
       ]
      },
      {
       "output_type": "stream",
       "stream": "stdout",
       "text": [
        "\n",
        "['../../images/testsets/small_test/Anna_Kournikova_0006.png', '../../images/testsets/small_test/Anna_Kournikova_0011.png']\n",
        "Score: 0.1150 for Anna Kournikova and Anna Kournikova"
       ]
      },
      {
       "output_type": "stream",
       "stream": "stdout",
       "text": [
        "\n",
        "['../../images/testsets/small_test/Anna_Kournikova_0006.png', '../../images/testsets/small_test/Anna_Kournikova_0008.png']\n",
        "Score: -0.1000 for Anna Kournikova and Anna Kournikova (Less than two matches)"
       ]
      },
      {
       "output_type": "stream",
       "stream": "stdout",
       "text": [
        "\n",
        "['../../images/testsets/small_test/Anna_Kournikova_0006.png', '../../images/testsets/small_test/Bill_Gates_0005.png']\n",
        "Score: -0.1000 for Anna Kournikova and Bill Gates (Less than two matches)"
       ]
      },
      {
       "output_type": "stream",
       "stream": "stdout",
       "text": [
        "\n",
        "['../../images/testsets/small_test/Anna_Kournikova_0006.png', '../../images/testsets/small_test/Ann_Veneman_0001.png']\n",
        "Score: -0.1000 for Anna Kournikova and Ann Veneman (Less than two matches)"
       ]
      },
      {
       "output_type": "stream",
       "stream": "stdout",
       "text": [
        "\n",
        "['../../images/testsets/small_test/Anna_Kournikova_0006.png', '../../images/testsets/small_test/Ann_Veneman_0008.png']\n",
        "Score: 0.0189 for Anna Kournikova and Ann Veneman"
       ]
      },
      {
       "output_type": "stream",
       "stream": "stdout",
       "text": [
        "\n",
        "['../../images/testsets/small_test/Anna_Kournikova_0006.png', '../../images/testsets/small_test/Ann_Veneman_0003.png']\n",
        "Score: -0.1340 for Anna Kournikova and Ann Veneman"
       ]
      },
      {
       "output_type": "stream",
       "stream": "stdout",
       "text": [
        "\n",
        "['../../images/testsets/small_test/Ann_Veneman_0010.png', '../../images/testsets/small_test/Ann_Veneman_0004.png']\n",
        "Score: 0.0625 for Ann Veneman and Ann Veneman"
       ]
      },
      {
       "output_type": "stream",
       "stream": "stdout",
       "text": [
        "\n",
        "['../../images/testsets/small_test/Ann_Veneman_0010.png', '../../images/testsets/small_test/Anna_Kournikova_0010.png']\n",
        "Score: -0.1000 for Ann Veneman and Anna Kournikova (Less than two matches)"
       ]
      },
      {
       "output_type": "stream",
       "stream": "stdout",
       "text": [
        "\n",
        "['../../images/testsets/small_test/Ann_Veneman_0010.png', '../../images/testsets/small_test/Ann_Veneman_0011.png']\n",
        "Score: 0.0629 for Ann Veneman and Ann Veneman"
       ]
      },
      {
       "output_type": "stream",
       "stream": "stdout",
       "text": [
        "\n",
        "['../../images/testsets/small_test/Ann_Veneman_0010.png', '../../images/testsets/small_test/Anna_Kournikova_0001.png']\n",
        "Score: -0.1000 for Ann Veneman and Anna Kournikova (Less than two matches)"
       ]
      },
      {
       "output_type": "stream",
       "stream": "stdout",
       "text": [
        "\n",
        "['../../images/testsets/small_test/Ann_Veneman_0010.png', '../../images/testsets/small_test/Ann_Veneman_0006.png']\n",
        "Score: 0.0184 for Ann Veneman and Ann Veneman"
       ]
      },
      {
       "output_type": "stream",
       "stream": "stdout",
       "text": [
        "\n",
        "['../../images/testsets/small_test/Ann_Veneman_0010.png', '../../images/testsets/small_test/Anna_Kournikova_0012.png']\n",
        "Score: 0.0123 for Ann Veneman and Anna Kournikova"
       ]
      },
      {
       "output_type": "stream",
       "stream": "stdout",
       "text": [
        "\n",
        "['../../images/testsets/small_test/Ann_Veneman_0010.png', '../../images/testsets/small_test/Bill_Gates_0015.png']\n",
        "Score: 0.0026 for Ann Veneman and Bill Gates"
       ]
      },
      {
       "output_type": "stream",
       "stream": "stdout",
       "text": [
        "\n",
        "['../../images/testsets/small_test/Ann_Veneman_0010.png', '../../images/testsets/small_test/Anna_Kournikova_0004.png']\n",
        "Score: -0.1000 for Ann Veneman and Anna Kournikova (Less than two matches)"
       ]
      },
      {
       "output_type": "stream",
       "stream": "stdout",
       "text": [
        "\n",
        "['../../images/testsets/small_test/Ann_Veneman_0010.png', '../../images/testsets/small_test/Anna_Kournikova_0011.png']\n",
        "Score: -0.0245 for Ann Veneman and Anna Kournikova"
       ]
      },
      {
       "output_type": "stream",
       "stream": "stdout",
       "text": [
        "\n",
        "['../../images/testsets/small_test/Ann_Veneman_0010.png', '../../images/testsets/small_test/Anna_Kournikova_0008.png']\n",
        "Score: 0.0513 for Ann Veneman and Anna Kournikova"
       ]
      },
      {
       "output_type": "stream",
       "stream": "stdout",
       "text": [
        "\n",
        "['../../images/testsets/small_test/Ann_Veneman_0010.png', '../../images/testsets/small_test/Bill_Gates_0005.png']\n",
        "Score: -0.1000 for Ann Veneman and Bill Gates (Less than two matches)"
       ]
      },
      {
       "output_type": "stream",
       "stream": "stdout",
       "text": [
        "\n",
        "['../../images/testsets/small_test/Ann_Veneman_0010.png', '../../images/testsets/small_test/Ann_Veneman_0001.png']\n",
        "Score: 0.0451 for Ann Veneman and Ann Veneman"
       ]
      },
      {
       "output_type": "stream",
       "stream": "stdout",
       "text": [
        "\n",
        "['../../images/testsets/small_test/Ann_Veneman_0010.png', '../../images/testsets/small_test/Ann_Veneman_0008.png']\n",
        "Score: 0.0129 for Ann Veneman and Ann Veneman"
       ]
      },
      {
       "output_type": "stream",
       "stream": "stdout",
       "text": [
        "\n",
        "['../../images/testsets/small_test/Ann_Veneman_0010.png', '../../images/testsets/small_test/Ann_Veneman_0003.png']\n",
        "Score: 0.0207 for Ann Veneman and Ann Veneman"
       ]
      },
      {
       "output_type": "stream",
       "stream": "stdout",
       "text": [
        "\n",
        "['../../images/testsets/small_test/Ann_Veneman_0004.png', '../../images/testsets/small_test/Anna_Kournikova_0010.png']\n",
        "Score: -0.1000 for Ann Veneman and Anna Kournikova (Less than two matches)"
       ]
      },
      {
       "output_type": "stream",
       "stream": "stdout",
       "text": [
        "\n",
        "['../../images/testsets/small_test/Ann_Veneman_0004.png', '../../images/testsets/small_test/Ann_Veneman_0011.png']\n",
        "Score: -0.1000 for Ann Veneman and Ann Veneman (Less than two matches)"
       ]
      },
      {
       "output_type": "stream",
       "stream": "stdout",
       "text": [
        "\n",
        "['../../images/testsets/small_test/Ann_Veneman_0004.png', '../../images/testsets/small_test/Anna_Kournikova_0001.png']\n",
        "Score: -0.1000 for Ann Veneman and Anna Kournikova (Less than two matches)"
       ]
      },
      {
       "output_type": "stream",
       "stream": "stdout",
       "text": [
        "\n",
        "['../../images/testsets/small_test/Ann_Veneman_0004.png', '../../images/testsets/small_test/Ann_Veneman_0006.png']\n",
        "Score: 0.0412 for Ann Veneman and Ann Veneman"
       ]
      },
      {
       "output_type": "stream",
       "stream": "stdout",
       "text": [
        "\n",
        "['../../images/testsets/small_test/Ann_Veneman_0004.png', '../../images/testsets/small_test/Anna_Kournikova_0012.png']\n",
        "Score: 0.0559 for Ann Veneman and Anna Kournikova"
       ]
      },
      {
       "output_type": "stream",
       "stream": "stdout",
       "text": [
        "\n",
        "['../../images/testsets/small_test/Ann_Veneman_0004.png', '../../images/testsets/small_test/Bill_Gates_0015.png']\n",
        "Score: -0.1000 for Ann Veneman and Bill Gates (Less than two matches)"
       ]
      },
      {
       "output_type": "stream",
       "stream": "stdout",
       "text": [
        "\n",
        "['../../images/testsets/small_test/Ann_Veneman_0004.png', '../../images/testsets/small_test/Anna_Kournikova_0004.png']\n",
        "Score: -0.1000 for Ann Veneman and Anna Kournikova (Less than two matches)"
       ]
      },
      {
       "output_type": "stream",
       "stream": "stdout",
       "text": [
        "\n",
        "['../../images/testsets/small_test/Ann_Veneman_0004.png', '../../images/testsets/small_test/Anna_Kournikova_0011.png']\n",
        "Score: -0.1000 for Ann Veneman and Anna Kournikova (Less than two matches)"
       ]
      },
      {
       "output_type": "stream",
       "stream": "stdout",
       "text": [
        "\n",
        "['../../images/testsets/small_test/Ann_Veneman_0004.png', '../../images/testsets/small_test/Anna_Kournikova_0008.png']\n",
        "Score: -0.1000 for Ann Veneman and Anna Kournikova (Less than two matches)"
       ]
      },
      {
       "output_type": "stream",
       "stream": "stdout",
       "text": [
        "\n",
        "['../../images/testsets/small_test/Ann_Veneman_0004.png', '../../images/testsets/small_test/Bill_Gates_0005.png']\n",
        "Score: -0.1000 for Ann Veneman and Bill Gates (Less than two matches)"
       ]
      },
      {
       "output_type": "stream",
       "stream": "stdout",
       "text": [
        "\n",
        "['../../images/testsets/small_test/Ann_Veneman_0004.png', '../../images/testsets/small_test/Ann_Veneman_0001.png']\n",
        "Score: 0.0757 for Ann Veneman and Ann Veneman"
       ]
      },
      {
       "output_type": "stream",
       "stream": "stdout",
       "text": [
        "\n",
        "['../../images/testsets/small_test/Ann_Veneman_0004.png', '../../images/testsets/small_test/Ann_Veneman_0008.png']\n",
        "Score: 0.0764 for Ann Veneman and Ann Veneman"
       ]
      },
      {
       "output_type": "stream",
       "stream": "stdout",
       "text": [
        "\n",
        "['../../images/testsets/small_test/Ann_Veneman_0004.png', '../../images/testsets/small_test/Ann_Veneman_0003.png']\n",
        "Score: 0.0918 for Ann Veneman and Ann Veneman"
       ]
      },
      {
       "output_type": "stream",
       "stream": "stdout",
       "text": [
        "\n",
        "['../../images/testsets/small_test/Anna_Kournikova_0010.png', '../../images/testsets/small_test/Ann_Veneman_0011.png']\n",
        "Score: -0.0228 for Anna Kournikova and Ann Veneman"
       ]
      },
      {
       "output_type": "stream",
       "stream": "stdout",
       "text": [
        "\n",
        "['../../images/testsets/small_test/Anna_Kournikova_0010.png', '../../images/testsets/small_test/Anna_Kournikova_0001.png']\n",
        "Score: -0.1405 for Anna Kournikova and Anna Kournikova"
       ]
      },
      {
       "output_type": "stream",
       "stream": "stdout",
       "text": [
        "\n",
        "['../../images/testsets/small_test/Anna_Kournikova_0010.png', '../../images/testsets/small_test/Ann_Veneman_0006.png']\n",
        "Score: -0.1000 for Anna Kournikova and Ann Veneman (Less than two matches)"
       ]
      },
      {
       "output_type": "stream",
       "stream": "stdout",
       "text": [
        "\n",
        "['../../images/testsets/small_test/Anna_Kournikova_0010.png', '../../images/testsets/small_test/Anna_Kournikova_0012.png']\n",
        "Score: 0.0452 for Anna Kournikova and Anna Kournikova"
       ]
      },
      {
       "output_type": "stream",
       "stream": "stdout",
       "text": [
        "\n",
        "['../../images/testsets/small_test/Anna_Kournikova_0010.png', '../../images/testsets/small_test/Bill_Gates_0015.png']\n",
        "Score: 0.0558 for Anna Kournikova and Bill Gates"
       ]
      },
      {
       "output_type": "stream",
       "stream": "stdout",
       "text": [
        "\n",
        "['../../images/testsets/small_test/Anna_Kournikova_0010.png', '../../images/testsets/small_test/Anna_Kournikova_0004.png']\n",
        "Score: -0.1000 for Anna Kournikova and Anna Kournikova (Less than two matches)"
       ]
      },
      {
       "output_type": "stream",
       "stream": "stdout",
       "text": [
        "\n",
        "['../../images/testsets/small_test/Anna_Kournikova_0010.png', '../../images/testsets/small_test/Anna_Kournikova_0011.png']\n",
        "Score: -0.1000 for Anna Kournikova and Anna Kournikova (Less than two matches)"
       ]
      },
      {
       "output_type": "stream",
       "stream": "stdout",
       "text": [
        "\n",
        "['../../images/testsets/small_test/Anna_Kournikova_0010.png', '../../images/testsets/small_test/Anna_Kournikova_0008.png']\n",
        "Score: 0.0487 for Anna Kournikova and Anna Kournikova"
       ]
      },
      {
       "output_type": "stream",
       "stream": "stdout",
       "text": [
        "\n",
        "['../../images/testsets/small_test/Anna_Kournikova_0010.png', '../../images/testsets/small_test/Bill_Gates_0005.png']\n",
        "Score: -0.1000 for Anna Kournikova and Bill Gates (Less than two matches)"
       ]
      },
      {
       "output_type": "stream",
       "stream": "stdout",
       "text": [
        "\n",
        "['../../images/testsets/small_test/Anna_Kournikova_0010.png', '../../images/testsets/small_test/Ann_Veneman_0001.png']\n",
        "Score: -0.1000 for Anna Kournikova and Ann Veneman (Less than two matches)"
       ]
      },
      {
       "output_type": "stream",
       "stream": "stdout",
       "text": [
        "\n",
        "['../../images/testsets/small_test/Anna_Kournikova_0010.png', '../../images/testsets/small_test/Ann_Veneman_0008.png']\n",
        "Score: 0.2093 for Anna Kournikova and Ann Veneman"
       ]
      },
      {
       "output_type": "stream",
       "stream": "stdout",
       "text": [
        "\n",
        "['../../images/testsets/small_test/Anna_Kournikova_0010.png', '../../images/testsets/small_test/Ann_Veneman_0003.png']\n",
        "Score: -0.1000 for Anna Kournikova and Ann Veneman (Less than two matches)"
       ]
      },
      {
       "output_type": "stream",
       "stream": "stdout",
       "text": [
        "\n",
        "['../../images/testsets/small_test/Ann_Veneman_0011.png', '../../images/testsets/small_test/Anna_Kournikova_0001.png']\n",
        "Score: 0.0662 for Ann Veneman and Anna Kournikova"
       ]
      },
      {
       "output_type": "stream",
       "stream": "stdout",
       "text": [
        "\n",
        "['../../images/testsets/small_test/Ann_Veneman_0011.png', '../../images/testsets/small_test/Ann_Veneman_0006.png']\n",
        "Score: 0.0128 for Ann Veneman and Ann Veneman"
       ]
      },
      {
       "output_type": "stream",
       "stream": "stdout",
       "text": [
        "\n",
        "['../../images/testsets/small_test/Ann_Veneman_0011.png', '../../images/testsets/small_test/Anna_Kournikova_0012.png']\n",
        "Score: 0.0201 for Ann Veneman and Anna Kournikova"
       ]
      },
      {
       "output_type": "stream",
       "stream": "stdout",
       "text": [
        "\n",
        "['../../images/testsets/small_test/Ann_Veneman_0011.png', '../../images/testsets/small_test/Bill_Gates_0015.png']\n",
        "Score: 0.0287 for Ann Veneman and Bill Gates"
       ]
      },
      {
       "output_type": "stream",
       "stream": "stdout",
       "text": [
        "\n",
        "['../../images/testsets/small_test/Ann_Veneman_0011.png', '../../images/testsets/small_test/Anna_Kournikova_0004.png']\n",
        "Score: -0.1007 for Ann Veneman and Anna Kournikova"
       ]
      },
      {
       "output_type": "stream",
       "stream": "stdout",
       "text": [
        "\n",
        "['../../images/testsets/small_test/Ann_Veneman_0011.png', '../../images/testsets/small_test/Anna_Kournikova_0011.png']\n",
        "Score: 0.0179 for Ann Veneman and Anna Kournikova"
       ]
      },
      {
       "output_type": "stream",
       "stream": "stdout",
       "text": [
        "\n",
        "['../../images/testsets/small_test/Ann_Veneman_0011.png', '../../images/testsets/small_test/Anna_Kournikova_0008.png']\n",
        "Score: -0.1000 for Ann Veneman and Anna Kournikova (Less than two matches)"
       ]
      },
      {
       "output_type": "stream",
       "stream": "stdout",
       "text": [
        "\n",
        "['../../images/testsets/small_test/Ann_Veneman_0011.png', '../../images/testsets/small_test/Bill_Gates_0005.png']\n",
        "Score: -0.1000 for Ann Veneman and Bill Gates (Less than two matches)"
       ]
      },
      {
       "output_type": "stream",
       "stream": "stdout",
       "text": [
        "\n",
        "['../../images/testsets/small_test/Ann_Veneman_0011.png', '../../images/testsets/small_test/Ann_Veneman_0001.png']\n",
        "Score: -0.0168 for Ann Veneman and Ann Veneman"
       ]
      },
      {
       "output_type": "stream",
       "stream": "stdout",
       "text": [
        "\n",
        "['../../images/testsets/small_test/Ann_Veneman_0011.png', '../../images/testsets/small_test/Ann_Veneman_0008.png']\n",
        "Score: 0.1077 for Ann Veneman and Ann Veneman"
       ]
      },
      {
       "output_type": "stream",
       "stream": "stdout",
       "text": [
        "\n",
        "['../../images/testsets/small_test/Ann_Veneman_0011.png', '../../images/testsets/small_test/Ann_Veneman_0003.png']\n",
        "Score: 0.0874 for Ann Veneman and Ann Veneman"
       ]
      },
      {
       "output_type": "stream",
       "stream": "stdout",
       "text": [
        "\n",
        "['../../images/testsets/small_test/Anna_Kournikova_0001.png', '../../images/testsets/small_test/Ann_Veneman_0006.png']\n",
        "Score: 0.0506 for Anna Kournikova and Ann Veneman"
       ]
      },
      {
       "output_type": "stream",
       "stream": "stdout",
       "text": [
        "\n",
        "['../../images/testsets/small_test/Anna_Kournikova_0001.png', '../../images/testsets/small_test/Anna_Kournikova_0012.png']\n",
        "Score: 0.0250 for Anna Kournikova and Anna Kournikova"
       ]
      },
      {
       "output_type": "stream",
       "stream": "stdout",
       "text": [
        "\n",
        "['../../images/testsets/small_test/Anna_Kournikova_0001.png', '../../images/testsets/small_test/Bill_Gates_0015.png']\n",
        "Score: 0.0329 for Anna Kournikova and Bill Gates"
       ]
      },
      {
       "output_type": "stream",
       "stream": "stdout",
       "text": [
        "\n",
        "['../../images/testsets/small_test/Anna_Kournikova_0001.png', '../../images/testsets/small_test/Anna_Kournikova_0004.png']\n",
        "Score: -0.1000 for Anna Kournikova and Anna Kournikova (Less than two matches)"
       ]
      },
      {
       "output_type": "stream",
       "stream": "stdout",
       "text": [
        "\n",
        "['../../images/testsets/small_test/Anna_Kournikova_0001.png', '../../images/testsets/small_test/Anna_Kournikova_0011.png']\n",
        "Score: 0.0818 for Anna Kournikova and Anna Kournikova"
       ]
      },
      {
       "output_type": "stream",
       "stream": "stdout",
       "text": [
        "\n",
        "['../../images/testsets/small_test/Anna_Kournikova_0001.png', '../../images/testsets/small_test/Anna_Kournikova_0008.png']\n",
        "Score: 0.0844 for Anna Kournikova and Anna Kournikova"
       ]
      },
      {
       "output_type": "stream",
       "stream": "stdout",
       "text": [
        "\n",
        "['../../images/testsets/small_test/Anna_Kournikova_0001.png', '../../images/testsets/small_test/Bill_Gates_0005.png']\n",
        "Score: -0.1000 for Anna Kournikova and Bill Gates (Less than two matches)"
       ]
      },
      {
       "output_type": "stream",
       "stream": "stdout",
       "text": [
        "\n",
        "['../../images/testsets/small_test/Anna_Kournikova_0001.png', '../../images/testsets/small_test/Ann_Veneman_0001.png']\n",
        "Score: -0.1000 for Anna Kournikova and Ann Veneman (Less than two matches)"
       ]
      },
      {
       "output_type": "stream",
       "stream": "stdout",
       "text": [
        "\n",
        "['../../images/testsets/small_test/Anna_Kournikova_0001.png', '../../images/testsets/small_test/Ann_Veneman_0008.png']\n",
        "Score: -0.1000 for Anna Kournikova and Ann Veneman (Less than two matches)"
       ]
      },
      {
       "output_type": "stream",
       "stream": "stdout",
       "text": [
        "\n",
        "['../../images/testsets/small_test/Anna_Kournikova_0001.png', '../../images/testsets/small_test/Ann_Veneman_0003.png']\n",
        "Score: 0.0342 for Anna Kournikova and Ann Veneman"
       ]
      },
      {
       "output_type": "stream",
       "stream": "stdout",
       "text": [
        "\n",
        "['../../images/testsets/small_test/Ann_Veneman_0006.png', '../../images/testsets/small_test/Anna_Kournikova_0012.png']\n",
        "Score: 0.0382 for Ann Veneman and Anna Kournikova"
       ]
      },
      {
       "output_type": "stream",
       "stream": "stdout",
       "text": [
        "\n",
        "['../../images/testsets/small_test/Ann_Veneman_0006.png', '../../images/testsets/small_test/Bill_Gates_0015.png']\n",
        "Score: 0.0084 for Ann Veneman and Bill Gates"
       ]
      },
      {
       "output_type": "stream",
       "stream": "stdout",
       "text": [
        "\n",
        "['../../images/testsets/small_test/Ann_Veneman_0006.png', '../../images/testsets/small_test/Anna_Kournikova_0004.png']\n",
        "Score: -0.1000 for Ann Veneman and Anna Kournikova (Less than two matches)"
       ]
      },
      {
       "output_type": "stream",
       "stream": "stdout",
       "text": [
        "\n",
        "['../../images/testsets/small_test/Ann_Veneman_0006.png', '../../images/testsets/small_test/Anna_Kournikova_0011.png']\n",
        "Score: -0.1398 for Ann Veneman and Anna Kournikova"
       ]
      },
      {
       "output_type": "stream",
       "stream": "stdout",
       "text": [
        "\n",
        "['../../images/testsets/small_test/Ann_Veneman_0006.png', '../../images/testsets/small_test/Anna_Kournikova_0008.png']\n",
        "Score: -0.1000 for Ann Veneman and Anna Kournikova (Less than two matches)"
       ]
      },
      {
       "output_type": "stream",
       "stream": "stdout",
       "text": [
        "\n",
        "['../../images/testsets/small_test/Ann_Veneman_0006.png', '../../images/testsets/small_test/Bill_Gates_0005.png']\n",
        "Score: -0.1000 for Ann Veneman and Bill Gates (Less than two matches)"
       ]
      },
      {
       "output_type": "stream",
       "stream": "stdout",
       "text": [
        "\n",
        "['../../images/testsets/small_test/Ann_Veneman_0006.png', '../../images/testsets/small_test/Ann_Veneman_0001.png']\n",
        "Score: 0.0179 for Ann Veneman and Ann Veneman"
       ]
      },
      {
       "output_type": "stream",
       "stream": "stdout",
       "text": [
        "\n",
        "['../../images/testsets/small_test/Ann_Veneman_0006.png', '../../images/testsets/small_test/Ann_Veneman_0008.png']\n",
        "Score: 0.0515 for Ann Veneman and Ann Veneman"
       ]
      },
      {
       "output_type": "stream",
       "stream": "stdout",
       "text": [
        "\n",
        "['../../images/testsets/small_test/Ann_Veneman_0006.png', '../../images/testsets/small_test/Ann_Veneman_0003.png']\n",
        "Score: 0.0502 for Ann Veneman and Ann Veneman"
       ]
      },
      {
       "output_type": "stream",
       "stream": "stdout",
       "text": [
        "\n",
        "['../../images/testsets/small_test/Anna_Kournikova_0012.png', '../../images/testsets/small_test/Bill_Gates_0015.png']\n",
        "Score: -0.0096 for Anna Kournikova and Bill Gates"
       ]
      },
      {
       "output_type": "stream",
       "stream": "stdout",
       "text": [
        "\n",
        "['../../images/testsets/small_test/Anna_Kournikova_0012.png', '../../images/testsets/small_test/Anna_Kournikova_0004.png']\n",
        "Score: 0.0478 for Anna Kournikova and Anna Kournikova"
       ]
      },
      {
       "output_type": "stream",
       "stream": "stdout",
       "text": [
        "\n",
        "['../../images/testsets/small_test/Anna_Kournikova_0012.png', '../../images/testsets/small_test/Anna_Kournikova_0011.png']\n",
        "Score: -0.1000 for Anna Kournikova and Anna Kournikova (Less than two matches)"
       ]
      },
      {
       "output_type": "stream",
       "stream": "stdout",
       "text": [
        "\n",
        "['../../images/testsets/small_test/Anna_Kournikova_0012.png', '../../images/testsets/small_test/Anna_Kournikova_0008.png']\n",
        "Score: -0.0497 for Anna Kournikova and Anna Kournikova"
       ]
      },
      {
       "output_type": "stream",
       "stream": "stdout",
       "text": [
        "\n",
        "['../../images/testsets/small_test/Anna_Kournikova_0012.png', '../../images/testsets/small_test/Bill_Gates_0005.png']\n",
        "Score: -0.1000 for Anna Kournikova and Bill Gates (Less than two matches)"
       ]
      },
      {
       "output_type": "stream",
       "stream": "stdout",
       "text": [
        "\n",
        "['../../images/testsets/small_test/Anna_Kournikova_0012.png', '../../images/testsets/small_test/Ann_Veneman_0001.png']\n",
        "Score: -0.0324 for Anna Kournikova and Ann Veneman"
       ]
      },
      {
       "output_type": "stream",
       "stream": "stdout",
       "text": [
        "\n",
        "['../../images/testsets/small_test/Anna_Kournikova_0012.png', '../../images/testsets/small_test/Ann_Veneman_0008.png']\n",
        "Score: 0.0597 for Anna Kournikova and Ann Veneman"
       ]
      },
      {
       "output_type": "stream",
       "stream": "stdout",
       "text": [
        "\n",
        "['../../images/testsets/small_test/Anna_Kournikova_0012.png', '../../images/testsets/small_test/Ann_Veneman_0003.png']\n",
        "Score: 0.0325 for Anna Kournikova and Ann Veneman"
       ]
      },
      {
       "output_type": "stream",
       "stream": "stdout",
       "text": [
        "\n",
        "['../../images/testsets/small_test/Bill_Gates_0015.png', '../../images/testsets/small_test/Anna_Kournikova_0004.png']\n",
        "Score: -0.0549 for Bill Gates and Anna Kournikova"
       ]
      },
      {
       "output_type": "stream",
       "stream": "stdout",
       "text": [
        "\n",
        "['../../images/testsets/small_test/Bill_Gates_0015.png', '../../images/testsets/small_test/Anna_Kournikova_0011.png']\n",
        "Score: 0.0466 for Bill Gates and Anna Kournikova"
       ]
      },
      {
       "output_type": "stream",
       "stream": "stdout",
       "text": [
        "\n",
        "['../../images/testsets/small_test/Bill_Gates_0015.png', '../../images/testsets/small_test/Anna_Kournikova_0008.png']\n",
        "Score: -0.0439 for Bill Gates and Anna Kournikova"
       ]
      },
      {
       "output_type": "stream",
       "stream": "stdout",
       "text": [
        "\n",
        "['../../images/testsets/small_test/Bill_Gates_0015.png', '../../images/testsets/small_test/Bill_Gates_0005.png']\n",
        "Score: 0.0239 for Bill Gates and Bill Gates"
       ]
      },
      {
       "output_type": "stream",
       "stream": "stdout",
       "text": [
        "\n",
        "['../../images/testsets/small_test/Bill_Gates_0015.png', '../../images/testsets/small_test/Ann_Veneman_0001.png']\n",
        "Score: -0.1244 for Bill Gates and Ann Veneman"
       ]
      },
      {
       "output_type": "stream",
       "stream": "stdout",
       "text": [
        "\n",
        "['../../images/testsets/small_test/Bill_Gates_0015.png', '../../images/testsets/small_test/Ann_Veneman_0008.png']\n",
        "Score: 0.0665 for Bill Gates and Ann Veneman"
       ]
      },
      {
       "output_type": "stream",
       "stream": "stdout",
       "text": [
        "\n",
        "['../../images/testsets/small_test/Bill_Gates_0015.png', '../../images/testsets/small_test/Ann_Veneman_0003.png']\n",
        "Score: -0.0040 for Bill Gates and Ann Veneman"
       ]
      },
      {
       "output_type": "stream",
       "stream": "stdout",
       "text": [
        "\n",
        "['../../images/testsets/small_test/Anna_Kournikova_0004.png', '../../images/testsets/small_test/Anna_Kournikova_0011.png']\n",
        "Score: -0.1000 for Anna Kournikova and Anna Kournikova (Less than two matches)"
       ]
      },
      {
       "output_type": "stream",
       "stream": "stdout",
       "text": [
        "\n",
        "['../../images/testsets/small_test/Anna_Kournikova_0004.png', '../../images/testsets/small_test/Anna_Kournikova_0008.png']\n",
        "Score: 0.0470 for Anna Kournikova and Anna Kournikova"
       ]
      },
      {
       "output_type": "stream",
       "stream": "stdout",
       "text": [
        "\n",
        "['../../images/testsets/small_test/Anna_Kournikova_0004.png', '../../images/testsets/small_test/Bill_Gates_0005.png']\n",
        "Score: 0.0270 for Anna Kournikova and Bill Gates"
       ]
      },
      {
       "output_type": "stream",
       "stream": "stdout",
       "text": [
        "\n",
        "['../../images/testsets/small_test/Anna_Kournikova_0004.png', '../../images/testsets/small_test/Ann_Veneman_0001.png']\n",
        "Score: 0.0550 for Anna Kournikova and Ann Veneman"
       ]
      },
      {
       "output_type": "stream",
       "stream": "stdout",
       "text": [
        "\n",
        "['../../images/testsets/small_test/Anna_Kournikova_0004.png', '../../images/testsets/small_test/Ann_Veneman_0008.png']\n",
        "Score: 0.0862 for Anna Kournikova and Ann Veneman"
       ]
      },
      {
       "output_type": "stream",
       "stream": "stdout",
       "text": [
        "\n",
        "['../../images/testsets/small_test/Anna_Kournikova_0004.png', '../../images/testsets/small_test/Ann_Veneman_0003.png']\n",
        "Score: 0.0179 for Anna Kournikova and Ann Veneman"
       ]
      },
      {
       "output_type": "stream",
       "stream": "stdout",
       "text": [
        "\n",
        "['../../images/testsets/small_test/Anna_Kournikova_0011.png', '../../images/testsets/small_test/Anna_Kournikova_0008.png']\n",
        "Score: -0.1000 for Anna Kournikova and Anna Kournikova (Less than two matches)"
       ]
      },
      {
       "output_type": "stream",
       "stream": "stdout",
       "text": [
        "\n",
        "['../../images/testsets/small_test/Anna_Kournikova_0011.png', '../../images/testsets/small_test/Bill_Gates_0005.png']\n",
        "Score: -0.1000 for Anna Kournikova and Bill Gates (Less than two matches)"
       ]
      },
      {
       "output_type": "stream",
       "stream": "stdout",
       "text": [
        "\n",
        "['../../images/testsets/small_test/Anna_Kournikova_0011.png', '../../images/testsets/small_test/Ann_Veneman_0001.png']\n",
        "Score: 0.0536 for Anna Kournikova and Ann Veneman"
       ]
      },
      {
       "output_type": "stream",
       "stream": "stdout",
       "text": [
        "\n",
        "['../../images/testsets/small_test/Anna_Kournikova_0011.png', '../../images/testsets/small_test/Ann_Veneman_0008.png']\n",
        "Score: -0.1140 for Anna Kournikova and Ann Veneman"
       ]
      },
      {
       "output_type": "stream",
       "stream": "stdout",
       "text": [
        "\n",
        "['../../images/testsets/small_test/Anna_Kournikova_0011.png', '../../images/testsets/small_test/Ann_Veneman_0003.png']\n",
        "Score: -0.1000 for Anna Kournikova and Ann Veneman (Less than two matches)"
       ]
      },
      {
       "output_type": "stream",
       "stream": "stdout",
       "text": [
        "\n",
        "['../../images/testsets/small_test/Anna_Kournikova_0008.png', '../../images/testsets/small_test/Bill_Gates_0005.png']\n",
        "Score: 0.0327 for Anna Kournikova and Bill Gates"
       ]
      },
      {
       "output_type": "stream",
       "stream": "stdout",
       "text": [
        "\n",
        "['../../images/testsets/small_test/Anna_Kournikova_0008.png', '../../images/testsets/small_test/Ann_Veneman_0001.png']\n",
        "Score: -0.0276 for Anna Kournikova and Ann Veneman"
       ]
      },
      {
       "output_type": "stream",
       "stream": "stdout",
       "text": [
        "\n",
        "['../../images/testsets/small_test/Anna_Kournikova_0008.png', '../../images/testsets/small_test/Ann_Veneman_0008.png']\n",
        "Score: -0.0600 for Anna Kournikova and Ann Veneman"
       ]
      },
      {
       "output_type": "stream",
       "stream": "stdout",
       "text": [
        "\n",
        "['../../images/testsets/small_test/Anna_Kournikova_0008.png', '../../images/testsets/small_test/Ann_Veneman_0003.png']\n",
        "Score: 0.0879 for Anna Kournikova and Ann Veneman"
       ]
      },
      {
       "output_type": "stream",
       "stream": "stdout",
       "text": [
        "\n",
        "['../../images/testsets/small_test/Bill_Gates_0005.png', '../../images/testsets/small_test/Ann_Veneman_0001.png']\n",
        "Score: -0.1678 for Bill Gates and Ann Veneman"
       ]
      },
      {
       "output_type": "stream",
       "stream": "stdout",
       "text": [
        "\n",
        "['../../images/testsets/small_test/Bill_Gates_0005.png', '../../images/testsets/small_test/Ann_Veneman_0008.png']\n",
        "Score: 0.0696 for Bill Gates and Ann Veneman"
       ]
      },
      {
       "output_type": "stream",
       "stream": "stdout",
       "text": [
        "\n",
        "['../../images/testsets/small_test/Bill_Gates_0005.png', '../../images/testsets/small_test/Ann_Veneman_0003.png']\n",
        "Score: -0.0001 for Bill Gates and Ann Veneman"
       ]
      },
      {
       "output_type": "stream",
       "stream": "stdout",
       "text": [
        "\n",
        "['../../images/testsets/small_test/Ann_Veneman_0001.png', '../../images/testsets/small_test/Ann_Veneman_0008.png']\n",
        "Score: 0.0967 for Ann Veneman and Ann Veneman"
       ]
      },
      {
       "output_type": "stream",
       "stream": "stdout",
       "text": [
        "\n",
        "['../../images/testsets/small_test/Ann_Veneman_0001.png', '../../images/testsets/small_test/Ann_Veneman_0003.png']\n",
        "Score: 0.0432 for Ann Veneman and Ann Veneman"
       ]
      },
      {
       "output_type": "stream",
       "stream": "stdout",
       "text": [
        "\n",
        "['../../images/testsets/small_test/Ann_Veneman_0008.png', '../../images/testsets/small_test/Ann_Veneman_0003.png']\n",
        "Score: 0.0299 for Ann Veneman and Ann Veneman"
       ]
      },
      {
       "output_type": "stream",
       "stream": "stdout",
       "text": [
        "\n",
        "Mean(same):\t\t0.027\n",
        "Mean(diff):\t\t-0.016\n",
        "Diff of means:\t\t0.044\n",
        "Standard deviation:\t0.079\n",
        "# of sd's:\t\t0.556\n"
       ]
      },
      {
       "output_type": "display_data",
       "png": "[encoded data removed]"
      }
     ],
     "prompt_number": 11
    }
   ],
   "metadata": {}
  }
 ]
}
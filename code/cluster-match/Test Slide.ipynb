{
 "metadata": {
  "name": "Test Slide"
 },
 "nbformat": 3,
 "nbformat_minor": 0,
 "worksheets": [
  {
   "cells": [
    {
     "cell_type": "code",
     "collapsed": false,
     "input": [
      "#Stupid hack to load files from sibling dir\n",
      "import sys; import os\n",
      "sys.path.insert(0, os.path.abspath('..'))\n",
      "\n",
      "%load_ext autoreload\n",
      "%autoreload 2"
     ],
     "language": "python",
     "metadata": {},
     "outputs": [],
     "prompt_number": 1
    },
    {
     "cell_type": "code",
     "collapsed": false,
     "input": [
      "import fnmatch\n",
      "import os\n",
      "import matching\n",
      "import weightMatrix\n",
      "import display\n",
      "import itertools"
     ],
     "language": "python",
     "metadata": {},
     "outputs": [],
     "prompt_number": 2
    },
    {
     "cell_type": "code",
     "collapsed": false,
     "input": [
      "dt = 5"
     ],
     "language": "python",
     "metadata": {},
     "outputs": [],
     "prompt_number": 3
    },
    {
     "cell_type": "code",
     "collapsed": false,
     "input": [
      "# Load all files\n",
      "def getImagePairs(directory) :\n",
      "    dir_path = \"../../images/testsets/%s/\" % directory\n",
      "    pairs = [dir_path + p for p in os.listdir(dir_path) if len(p) <= 6]\n",
      "    homographies = [matching.getHomography(p) for p in pairs]\n",
      "    return [([p + \"_1.jpg\", p + \"_2.jpg\"], h) for (p,h) in zip(pairs, homographies)]"
     ],
     "language": "python",
     "metadata": {},
     "outputs": [],
     "prompt_number": 4
    },
    {
     "cell_type": "code",
     "collapsed": false,
     "input": [
      "def matchFolder(imagePairs, match_fun) :\n",
      "\n",
      "    # Get matches\n",
      "    matches_t, distances_t, distances_distinct_t = zip(*[match_fun(p, h) for p, h in imagePairs])\n",
      "    \n",
      "    #print(matches_distinct)\n",
      "    distances = list(itertools.chain.from_iterable(distances_t))\n",
      "    distances_distinct = list(itertools.chain.from_iterable(distances_distinct_t))\n",
      "    \n",
      "    # display result\n",
      "    display.distHist(distances, dt, distances_distinct)\n",
      "    \n",
      "    return distances"
     ],
     "language": "python",
     "metadata": {},
     "outputs": [],
     "prompt_number": 5
    },
    {
     "cell_type": "code",
     "collapsed": false,
     "input": [
      "def clusterMatchBRIEF(paths, homography) :\n",
      "    return matching.testMatch(\n",
      "        paths, \n",
      "        homography, \n",
      "        matching.clusterMatch,\n",
      "        verbose = False,\n",
      "        options = {\n",
      "            \"prune_fun\" : weightMatrix.pruneTreshold, \n",
      "            \"prune_limit\" : 3,\n",
      "            \"min_edges\": 1,\n",
      "            \"min_coherence\" : 0.02,\n",
      "            \"verbose\" : False,\n",
      "            \"prune\" : False,\n",
      "            \"split_limit\" : 10,\n",
      "            \"cluster_prune_limit\" : 1.5,\n",
      "            \"distance_treshold\" : dt,\n",
      "            \"descriptor_type\" : \"BRIEF\",\n",
      "            \"keypoint_type\" : \"ORB\",\n",
      "        })"
     ],
     "language": "python",
     "metadata": {},
     "outputs": [],
     "prompt_number": 6
    },
    {
     "cell_type": "code",
     "collapsed": false,
     "input": [
      "def clusterMatchSIFT(paths, homography) :\n",
      "    return matching.testMatch(\n",
      "        paths, \n",
      "        homography, \n",
      "        matching.clusterMatch,\n",
      "        verbose = False,\n",
      "        options = {\n",
      "            \"prune_fun\" : weightMatrix.pruneRows, \n",
      "            \"prune_limit\" : 0.1,\n",
      "            \"min_edges\": 1,\n",
      "            \"min_coherence\" : 0.3,\n",
      "            \"verbose\" : False,\n",
      "            \"prune\" : False,\n",
      "            \"split_limit\" : 10000,\n",
      "            \"cluster_prune_limit\" : 1.5,\n",
      "            \"distance_treshold\" : dt,\n",
      "            \"descriptor_type\" : \"SIFT\",\n",
      "            \"keypoint_type\" : \"SIFT\",\n",
      "        })"
     ],
     "language": "python",
     "metadata": {},
     "outputs": [],
     "prompt_number": 7
    },
    {
     "cell_type": "code",
     "collapsed": false,
     "input": [
      "def uniqueMatchBRIEF(paths, homography) :\n",
      "    return matching.testMatch(\n",
      "        paths,\n",
      "        homography, \n",
      "        matching.standardMatch,\n",
      "        verbose = False,\n",
      "        options = {\n",
      "            \"match_limit\" : 400,\n",
      "            \"unique_treshold\": 0.8,\n",
      "            \"prune\" : False,\n",
      "            \"distance_treshold\" : dt,\n",
      "            \"descriptor_type\" : \"BRIEF\",\n",
      "            \"keypoint_type\" : \"ORB\",\n",
      "            #\"verbose\" : True\n",
      "        })"
     ],
     "language": "python",
     "metadata": {},
     "outputs": [],
     "prompt_number": 8
    },
    {
     "cell_type": "code",
     "collapsed": false,
     "input": [
      "def uniqueMatchSIFT(paths, homography) :\n",
      "    return matching.testMatch(\n",
      "        paths,\n",
      "        homography, \n",
      "        matching.standardMatch,\n",
      "        verbose = False,\n",
      "        options = {\n",
      "            \"match_limit\" : 400,\n",
      "            \"unique_treshold\": 0.5,\n",
      "            \"prune\" : False,\n",
      "            \"distance_treshold\" : dt,\n",
      "            \"descriptor_type\" : \"SIFT\",\n",
      "            \"keypoint_type\" : \"SIFT\",\n",
      "            #\"verbose\" : True\n",
      "        })"
     ],
     "language": "python",
     "metadata": {},
     "outputs": [],
     "prompt_number": 15
    },
    {
     "cell_type": "code",
     "collapsed": false,
     "input": [
      "pairs = getImagePairs(\"Slide\")"
     ],
     "language": "python",
     "metadata": {},
     "outputs": [],
     "prompt_number": 10
    },
    {
     "cell_type": "code",
     "collapsed": false,
     "input": [
      "distances = matchFolder(pairs, clusterMatchBRIEF)"
     ],
     "language": "python",
     "metadata": {},
     "outputs": [
      {
       "output_type": "stream",
       "stream": "stdout",
       "text": [
        "Number of matches:\t57\t(distinct: 53)\n",
        "Correct matches:\t6\t(distinct: 4)\t\t[under 5px error]\n",
        "Success Rate:\t\t10.53%\t(distinct: 7.55%)\n"
       ]
      },
      {
       "output_type": "display_data",
       "png": "[encoded data removed]"
      }
     ],
     "prompt_number": 11
    },
    {
     "cell_type": "code",
     "collapsed": false,
     "input": [
      "distances = matchFolder(pairs, uniqueMatchBRIEF)"
     ],
     "language": "python",
     "metadata": {},
     "outputs": [
      {
       "output_type": "stream",
       "stream": "stdout",
       "text": [
        "Number of matches:\t348\t(distinct: 170)\n",
        "Correct matches:\t18\t(distinct: 4)\t\t[under 5px error]\n",
        "Success Rate:\t\t5.17%\t(distinct: 2.35%)\n"
       ]
      },
      {
       "output_type": "display_data",
       "png": "[encoded data removed]"
      }
     ],
     "prompt_number": 12
    },
    {
     "cell_type": "code",
     "collapsed": false,
     "input": [
      "distances = matchFolder(pairs, clusterMatchSIFT)"
     ],
     "language": "python",
     "metadata": {},
     "outputs": [
      {
       "output_type": "stream",
       "stream": "stdout",
       "text": [
        "Number of matches:\t126\t(distinct: 121)\n",
        "Correct matches:\t17\t(distinct: 16)\t\t[under 5px error]\n",
        "Success Rate:\t\t13.49%\t(distinct: 13.22%)\n"
       ]
      },
      {
       "output_type": "display_data",
       "png": "[encoded data removed]"
      }
     ],
     "prompt_number": 13
    },
    {
     "cell_type": "code",
     "collapsed": false,
     "input": [
      "distances = matchFolder(pairs, uniqueMatchSIFT)"
     ],
     "language": "python",
     "metadata": {},
     "outputs": [
      {
       "output_type": "stream",
       "stream": "stdout",
       "text": [
        "Number of matches:\t13\t(distinct: 13)\n",
        "Correct matches:\t8\t(distinct: 8)\t\t[under 5px error]\n",
        "Success Rate:\t\t61.54%\t(distinct: 61.54%)\n"
       ]
      },
      {
       "output_type": "display_data",
       "png": "[encoded data removed]"
      }
     ],
     "prompt_number": 16
    },
    {
     "cell_type": "code",
     "collapsed": false,
     "input": [],
     "language": "python",
     "metadata": {},
     "outputs": [],
     "prompt_number": 14
    }
   ],
   "metadata": {}
  }
 ]
}
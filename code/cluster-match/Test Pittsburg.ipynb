{
 "metadata": {
  "name": "Test Pittsburg"
 },
 "nbformat": 3,
 "nbformat_minor": 0,
 "worksheets": [
  {
   "cells": [
    {
     "cell_type": "code",
     "collapsed": false,
     "input": [
      "#Stupid hack to load files from sibling dir\n",
      "import sys; import os\n",
      "sys.path.insert(0, os.path.abspath('..'))\n",
      "\n",
      "%load_ext autoreload\n",
      "%autoreload 2"
     ],
     "language": "python",
     "metadata": {},
     "outputs": [],
     "prompt_number": 29
    },
    {
     "cell_type": "code",
     "collapsed": false,
     "input": [
      "import fnmatch\n",
      "import os\n",
      "import matching\n",
      "import weightMatrix\n",
      "import display\n",
      "import itertools"
     ],
     "language": "python",
     "metadata": {},
     "outputs": [],
     "prompt_number": 30
    },
    {
     "cell_type": "code",
     "collapsed": false,
     "input": [
      "dt = 10"
     ],
     "language": "python",
     "metadata": {},
     "outputs": [],
     "prompt_number": 31
    },
    {
     "cell_type": "code",
     "collapsed": false,
     "input": [
      "# Load all files\n",
      "def getImagePairs(directory) :\n",
      "    dir_path = \"../../images/testsets/%s/\" % directory\n",
      "    pairs = [dir_path + p for p in os.listdir(dir_path) if len(p) <= 6]\n",
      "    homographies = [matching.getHomography(p) for p in pairs]\n",
      "    return [([p + \"_1.jpg\", p + \"_2.jpg\"], h) for (p,h) in zip(pairs, homographies)]"
     ],
     "language": "python",
     "metadata": {},
     "outputs": [],
     "prompt_number": 32
    },
    {
     "cell_type": "code",
     "collapsed": false,
     "input": [
      "def matchFolder(imagePairs, match_fun) :\n",
      "\n",
      "    # Get matches\n",
      "    matches_t, distances_t, distances_distinct_t = zip(*[match_fun(p, h) for p, h in imagePairs])\n",
      "    \n",
      "    #print(matches_distinct)\n",
      "    distances = list(itertools.chain.from_iterable(distances_t))\n",
      "    distances_distinct = list(itertools.chain.from_iterable(distances_distinct_t))\n",
      "    \n",
      "    # display result\n",
      "    display.distHist(distances, dt, distances_distinct)\n",
      "    \n",
      "    return distances"
     ],
     "language": "python",
     "metadata": {},
     "outputs": [],
     "prompt_number": 33
    },
    {
     "cell_type": "code",
     "collapsed": false,
     "input": [
      "def clusterMatchBRIEF(paths, homography) :\n",
      "    return matching.testMatch(\n",
      "        paths, \n",
      "        homography, \n",
      "        matching.clusterMatch,\n",
      "        verbose = False,\n",
      "        options = {\n",
      "            \"prune_fun\" : weightMatrix.pruneTreshold, \n",
      "            \"prune_limit\" : 3,\n",
      "            \"min_edges\": 1,\n",
      "            \"min_coherence\" : 0.03,\n",
      "            \"verbose\" : False,\n",
      "            \"prune\" : False,\n",
      "            \"split_limit\" : 10,\n",
      "            \"cluster_prune_limit\" : 1.5,\n",
      "            \"distance_treshold\" : dt,\n",
      "            \"descriptor_type\" : \"BRIEF\",\n",
      "            \"keypoint_type\" : \"ORB\",\n",
      "        })"
     ],
     "language": "python",
     "metadata": {},
     "outputs": [],
     "prompt_number": 34
    },
    {
     "cell_type": "code",
     "collapsed": false,
     "input": [
      "def clusterMatchSIFT(paths, homography) :\n",
      "    return matching.testMatch(\n",
      "        paths, \n",
      "        homography, \n",
      "        matching.clusterMatch,\n",
      "        verbose = False,\n",
      "        options = {\n",
      "            \"prune_fun\" : weightMatrix.pruneRows, \n",
      "            \"prune_limit\" : 0.15,\n",
      "            \"min_edges\": 1,\n",
      "            \"min_coherence\" : 0.3,\n",
      "            \"verbose\" : False,\n",
      "            \"prune\" : False,\n",
      "            \"split_limit\" : 10000,\n",
      "            \"cluster_prune_limit\" : 1.5,\n",
      "            \"distance_treshold\" : dt,\n",
      "            \"descriptor_type\" : \"SIFT\",\n",
      "            \"keypoint_type\" : \"SIFT\",\n",
      "        })"
     ],
     "language": "python",
     "metadata": {},
     "outputs": [],
     "prompt_number": 35
    },
    {
     "cell_type": "code",
     "collapsed": false,
     "input": [
      "def uniqueMatchBRIEF(paths, homography) :\n",
      "    return matching.testMatch(\n",
      "        paths,\n",
      "        homography, \n",
      "        matching.standardMatch,\n",
      "        verbose = False,\n",
      "        options = {\n",
      "            \"match_limit\" : 400,\n",
      "            \"unique_treshold\": 0.8,\n",
      "            \"prune\" : False,\n",
      "            \"distance_treshold\" : dt,\n",
      "            \"descriptor_type\" : \"BRIEF\",\n",
      "            \"keypoint_type\" : \"ORB\",\n",
      "            #\"verbose\" : True\n",
      "        })"
     ],
     "language": "python",
     "metadata": {},
     "outputs": [],
     "prompt_number": 36
    },
    {
     "cell_type": "code",
     "collapsed": false,
     "input": [
      "def uniqueMatchSIFT(paths, homography) :\n",
      "    return matching.testMatch(\n",
      "        paths,\n",
      "        homography, \n",
      "        matching.standardMatch,\n",
      "        verbose = False,\n",
      "        options = {\n",
      "            \"match_limit\" : 400,\n",
      "            \"unique_treshold\": 0.4,\n",
      "            \"prune\" : False,\n",
      "            \"distance_treshold\" : dt,\n",
      "            \"descriptor_type\" : \"SIFT\",\n",
      "            \"keypoint_type\" : \"SIFT\",\n",
      "            #\"verbose\" : True\n",
      "        })"
     ],
     "language": "python",
     "metadata": {},
     "outputs": [],
     "prompt_number": 37
    },
    {
     "cell_type": "code",
     "collapsed": false,
     "input": [
      "pairs = getImagePairs(\"Pittsburg\")"
     ],
     "language": "python",
     "metadata": {},
     "outputs": [],
     "prompt_number": 38
    },
    {
     "cell_type": "code",
     "collapsed": false,
     "input": [
      "distances = matchFolder(pairs, clusterMatchBRIEF)"
     ],
     "language": "python",
     "metadata": {},
     "outputs": [
      {
       "output_type": "stream",
       "stream": "stdout",
       "text": [
        "Number of matches:\t205\t(distinct: 140)\n",
        "Correct matches:\t137\t(distinct: 75)\t\t[under 10px error]\n",
        "Success Rate:\t\t66.83%\t(distinct: 53.57%)\n"
       ]
      },
      {
       "output_type": "display_data",
       "png": "[encoded data removed]"
      }
     ],
     "prompt_number": 39
    },
    {
     "cell_type": "code",
     "collapsed": false,
     "input": [
      "distances = matchFolder(pairs, uniqueMatchBRIEF)"
     ],
     "language": "python",
     "metadata": {},
     "outputs": [
      {
       "output_type": "stream",
       "stream": "stdout",
       "text": [
        "Number of matches:\t662\t(distinct: 231)\n",
        "Correct matches:\t232\t(distinct: 90)\t\t[under 10px error]\n",
        "Success Rate:\t\t35.05%\t(distinct: 38.96%)\n"
       ]
      },
      {
       "output_type": "display_data",
       "png": "[encoded data removed]"
      }
     ],
     "prompt_number": 40
    },
    {
     "cell_type": "code",
     "collapsed": false,
     "input": [
      "distances = matchFolder(pairs, clusterMatchSIFT)"
     ],
     "language": "python",
     "metadata": {},
     "outputs": [
      {
       "output_type": "stream",
       "stream": "stdout",
       "text": [
        "Number of matches:\t357\t(distinct: 254)\n",
        "Correct matches:\t241\t(distinct: 158)\t\t[under 10px error]\n",
        "Success Rate:\t\t67.51%\t(distinct: 62.20%)\n"
       ]
      },
      {
       "output_type": "display_data",
       "png": "[encoded data removed]"
      }
     ],
     "prompt_number": 41
    },
    {
     "cell_type": "code",
     "collapsed": false,
     "input": [
      "distances = matchFolder(pairs, uniqueMatchSIFT)"
     ],
     "language": "python",
     "metadata": {},
     "outputs": [
      {
       "output_type": "stream",
       "stream": "stdout",
       "text": [
        "Number of matches:\t233\t(distinct: 179)\n",
        "Correct matches:\t164\t(distinct: 124)\t\t[under 10px error]\n",
        "Success Rate:\t\t70.39%\t(distinct: 69.27%)\n"
       ]
      },
      {
       "output_type": "display_data",
       "png": "[encoded data removed]"
      }
     ],
     "prompt_number": 42
    },
    {
     "cell_type": "code",
     "collapsed": false,
     "input": [],
     "language": "python",
     "metadata": {},
     "outputs": [],
     "prompt_number": 42
    }
   ],
   "metadata": {}
  }
 ]
}
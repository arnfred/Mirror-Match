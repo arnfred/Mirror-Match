{
 "metadata": {
  "name": "Test Pittsburg"
 },
 "nbformat": 3,
 "nbformat_minor": 0,
 "worksheets": [
  {
   "cells": [
    {
     "cell_type": "code",
     "collapsed": false,
     "input": [
      "#Stupid hack to load files from sibling dir\n",
      "import sys; import os\n",
      "sys.path.insert(0, os.path.abspath('..'))\n",
      "\n",
      "%load_ext autoreload\n",
      "%autoreload 2"
     ],
     "language": "python",
     "metadata": {},
     "outputs": [],
     "prompt_number": 1
    },
    {
     "cell_type": "code",
     "collapsed": false,
     "input": [
      "import fnmatch\n",
      "import os\n",
      "import matching\n",
      "import weightMatrix\n",
      "import display\n",
      "import itertools"
     ],
     "language": "python",
     "metadata": {},
     "outputs": [],
     "prompt_number": 2
    },
    {
     "cell_type": "code",
     "collapsed": false,
     "input": [
      "dt = 5\n",
      "nb_thresholds = 50\n",
      "thresholds_cluster = numpy.linspace(0.8,1.0, nb_thresholds)\n",
      "thresholds_nocluster = numpy.linspace(0.3,0.8, nb_thresholds)\n",
      "thresholds_iso = numpy.linspace(0.0,1.0, nb_thresholds)\n",
      "thresholds_spectral = numpy.linspace(0.3, 0.8, nb_thresholds)\n",
      "thresholds_spectralMMC = numpy.linspace(0.3,1.0, nb_thresholds)\n",
      "\n",
      "#tresholds_cluster = numpy.linspace(0.92,1.0, 1)\n",
      "#tresholds_nocluster = numpy.linspace(0.6,0.8, 1)\n",
      "directory = \"Pittsburg\"\n",
      "keypoint = \"SIFT\"\n",
      "descriptor = \"SIFT\"\n",
      "verbose = True"
     ],
     "language": "python",
     "metadata": {},
     "outputs": [],
     "prompt_number": 3
    },
    {
     "cell_type": "code",
     "collapsed": false,
     "input": [
      "correspondences = matching.folderCorrespondences(directory, dt, keypoint, descriptor)\n",
      "nb_correspondences = sum(correspondences)"
     ],
     "language": "python",
     "metadata": {},
     "outputs": [
      {
       "output_type": "stream",
       "stream": "stdout",
       "text": [
        "8XTMAJ  "
       ]
      },
      {
       "output_type": "stream",
       "stream": "stdout",
       "text": [
        "0WU2WR  "
       ]
      },
      {
       "output_type": "stream",
       "stream": "stdout",
       "text": [
        "AG3EJA  "
       ]
      },
      {
       "output_type": "stream",
       "stream": "stdout",
       "text": [
        "7YLUG1  "
       ]
      },
      {
       "output_type": "stream",
       "stream": "stdout",
       "text": [
        "QUWNA2  "
       ]
      },
      {
       "output_type": "stream",
       "stream": "stdout",
       "text": [
        "IKTFB5  "
       ]
      },
      {
       "output_type": "stream",
       "stream": "stdout",
       "text": [
        "02KF9U  "
       ]
      },
      {
       "output_type": "stream",
       "stream": "stdout",
       "text": [
        "JU615M  "
       ]
      },
      {
       "output_type": "stream",
       "stream": "stdout",
       "text": [
        "93WHIB  "
       ]
      },
      {
       "output_type": "stream",
       "stream": "stdout",
       "text": [
        "ZMV313  "
       ]
      },
      {
       "output_type": "stream",
       "stream": "stdout",
       "text": [
        "L7NHVF  "
       ]
      },
      {
       "output_type": "stream",
       "stream": "stdout",
       "text": [
        "36HUXB  "
       ]
      },
      {
       "output_type": "stream",
       "stream": "stdout",
       "text": [
        "OVM0I1  "
       ]
      },
      {
       "output_type": "stream",
       "stream": "stdout",
       "text": [
        "PBF5LB  "
       ]
      },
      {
       "output_type": "stream",
       "stream": "stdout",
       "text": [
        "WN0C9X  "
       ]
      },
      {
       "output_type": "stream",
       "stream": "stdout",
       "text": [
        "S42QH4  "
       ]
      },
      {
       "output_type": "stream",
       "stream": "stdout",
       "text": [
        "1F9CEL  "
       ]
      },
      {
       "output_type": "stream",
       "stream": "stdout",
       "text": [
        "L5A2HM  "
       ]
      },
      {
       "output_type": "stream",
       "stream": "stdout",
       "text": [
        "5GNOOU  "
       ]
      },
      {
       "output_type": "stream",
       "stream": "stdout",
       "text": [
        "D3627D  "
       ]
      },
      {
       "output_type": "stream",
       "stream": "stdout",
       "text": [
        "8K6WF5  "
       ]
      },
      {
       "output_type": "stream",
       "stream": "stdout",
       "text": [
        "6Y4ZHK  "
       ]
      },
      {
       "output_type": "stream",
       "stream": "stdout",
       "text": [
        "657DAA  "
       ]
      },
      {
       "output_type": "stream",
       "stream": "stdout",
       "text": [
        "888O4E  "
       ]
      },
      {
       "output_type": "stream",
       "stream": "stdout",
       "text": [
        "P4UQQV  "
       ]
      },
      {
       "output_type": "stream",
       "stream": "stdout",
       "text": [
        "POD0TO  "
       ]
      },
      {
       "output_type": "stream",
       "stream": "stdout",
       "text": [
        "NWLM4P  "
       ]
      },
      {
       "output_type": "stream",
       "stream": "stdout",
       "text": [
        "KQLYNM  "
       ]
      },
      {
       "output_type": "stream",
       "stream": "stdout",
       "text": [
        "T9B240  "
       ]
      },
      {
       "output_type": "stream",
       "stream": "stdout",
       "text": [
        "Q8IMGQ  "
       ]
      },
      {
       "output_type": "stream",
       "stream": "stdout",
       "text": [
        "BNMTY6  "
       ]
      },
      {
       "output_type": "stream",
       "stream": "stdout",
       "text": [
        "17UZK4  "
       ]
      },
      {
       "output_type": "stream",
       "stream": "stdout",
       "text": [
        "7T1T4X  "
       ]
      },
      {
       "output_type": "stream",
       "stream": "stdout",
       "text": [
        "A2V75H  "
       ]
      },
      {
       "output_type": "stream",
       "stream": "stdout",
       "text": [
        "PYUK4R  "
       ]
      },
      {
       "output_type": "stream",
       "stream": "stdout",
       "text": [
        "75X6W6  "
       ]
      },
      {
       "output_type": "stream",
       "stream": "stdout",
       "text": [
        "ASTEG5  "
       ]
      },
      {
       "output_type": "stream",
       "stream": "stdout",
       "text": [
        "ETBDXL  "
       ]
      },
      {
       "output_type": "stream",
       "stream": "stdout",
       "text": [
        "QFWLIL  "
       ]
      },
      {
       "output_type": "stream",
       "stream": "stdout",
       "text": [
        "9ENXKX  "
       ]
      },
      {
       "output_type": "stream",
       "stream": "stdout",
       "text": [
        "QKCQVS  "
       ]
      },
      {
       "output_type": "stream",
       "stream": "stdout",
       "text": [
        "3TWE3P  "
       ]
      },
      {
       "output_type": "stream",
       "stream": "stdout",
       "text": [
        "UOBILW  "
       ]
      },
      {
       "output_type": "stream",
       "stream": "stdout",
       "text": [
        "ILBSK7  "
       ]
      },
      {
       "output_type": "stream",
       "stream": "stdout",
       "text": [
        "QM6IZX  "
       ]
      },
      {
       "output_type": "stream",
       "stream": "stdout",
       "text": [
        "Y0U4B6  "
       ]
      },
      {
       "output_type": "stream",
       "stream": "stdout",
       "text": [
        "IX1TK3  "
       ]
      },
      {
       "output_type": "stream",
       "stream": "stdout",
       "text": [
        "LCO0E3  "
       ]
      },
      {
       "output_type": "stream",
       "stream": "stdout",
       "text": [
        "ZTKR4Q  "
       ]
      },
      {
       "output_type": "stream",
       "stream": "stdout",
       "text": [
        "CRJIZU  "
       ]
      },
      {
       "output_type": "stream",
       "stream": "stdout",
       "text": [
        "3S4JIK  "
       ]
      },
      {
       "output_type": "stream",
       "stream": "stdout",
       "text": [
        "UCZZEI  "
       ]
      },
      {
       "output_type": "stream",
       "stream": "stdout",
       "text": [
        "K2CGTU  "
       ]
      },
      {
       "output_type": "stream",
       "stream": "stdout",
       "text": [
        "IGQIVH  "
       ]
      },
      {
       "output_type": "stream",
       "stream": "stdout",
       "text": [
        "PFRSHQ  "
       ]
      },
      {
       "output_type": "stream",
       "stream": "stdout",
       "text": [
        "5ABFIV  "
       ]
      },
      {
       "output_type": "stream",
       "stream": "stdout",
       "text": [
        "N9Q3OJ  "
       ]
      },
      {
       "output_type": "stream",
       "stream": "stdout",
       "text": [
        "PCVLVO  "
       ]
      },
      {
       "output_type": "stream",
       "stream": "stdout",
       "text": [
        "5NIR1L  "
       ]
      },
      {
       "output_type": "stream",
       "stream": "stdout",
       "text": [
        "H0LZLF  "
       ]
      },
      {
       "output_type": "stream",
       "stream": "stdout",
       "text": [
        "CH0IMY  "
       ]
      },
      {
       "output_type": "stream",
       "stream": "stdout",
       "text": [
        "NKJ6S5  "
       ]
      },
      {
       "output_type": "stream",
       "stream": "stdout",
       "text": [
        "YDOMQZ  "
       ]
      },
      {
       "output_type": "stream",
       "stream": "stdout",
       "text": [
        "E2SGCS  "
       ]
      },
      {
       "output_type": "stream",
       "stream": "stdout",
       "text": [
        "2T4LV2  "
       ]
      },
      {
       "output_type": "stream",
       "stream": "stdout",
       "text": [
        "R92RGI  "
       ]
      },
      {
       "output_type": "stream",
       "stream": "stdout",
       "text": [
        "JU7OCQ  "
       ]
      },
      {
       "output_type": "stream",
       "stream": "stdout",
       "text": [
        "OH4YCH  "
       ]
      },
      {
       "output_type": "stream",
       "stream": "stdout",
       "text": [
        "QNHHL6  "
       ]
      },
      {
       "output_type": "stream",
       "stream": "stdout",
       "text": [
        "6P4RFK  "
       ]
      },
      {
       "output_type": "stream",
       "stream": "stdout",
       "text": [
        "D82X04  "
       ]
      },
      {
       "output_type": "stream",
       "stream": "stdout",
       "text": [
        "19CPN8  "
       ]
      },
      {
       "output_type": "stream",
       "stream": "stdout",
       "text": [
        "ZIGFMM  "
       ]
      },
      {
       "output_type": "stream",
       "stream": "stdout",
       "text": [
        "TZDP73  "
       ]
      },
      {
       "output_type": "stream",
       "stream": "stdout",
       "text": [
        "NK2SEL  "
       ]
      },
      {
       "output_type": "stream",
       "stream": "stdout",
       "text": [
        "JX0CW5  "
       ]
      },
      {
       "output_type": "stream",
       "stream": "stdout",
       "text": [
        "QZMOCY  "
       ]
      },
      {
       "output_type": "stream",
       "stream": "stdout",
       "text": [
        "ZX2V17  "
       ]
      },
      {
       "output_type": "stream",
       "stream": "stdout",
       "text": [
        "N7LG3U  "
       ]
      },
      {
       "output_type": "stream",
       "stream": "stdout",
       "text": [
        "HRY4HI  "
       ]
      },
      {
       "output_type": "stream",
       "stream": "stdout",
       "text": [
        "BLPO1W  "
       ]
      },
      {
       "output_type": "stream",
       "stream": "stdout",
       "text": [
        "W6HNZP  "
       ]
      },
      {
       "output_type": "stream",
       "stream": "stdout",
       "text": [
        "NSMVX7  "
       ]
      },
      {
       "output_type": "stream",
       "stream": "stdout",
       "text": [
        "MVSIRL  "
       ]
      },
      {
       "output_type": "stream",
       "stream": "stdout",
       "text": [
        "KCVK5T  "
       ]
      },
      {
       "output_type": "stream",
       "stream": "stdout",
       "text": [
        "9Y4MNR  "
       ]
      },
      {
       "output_type": "stream",
       "stream": "stdout",
       "text": [
        "G3DNTF  "
       ]
      },
      {
       "output_type": "stream",
       "stream": "stdout",
       "text": [
        "0KEFY0  "
       ]
      },
      {
       "output_type": "stream",
       "stream": "stdout",
       "text": [
        "MIS5ZX  "
       ]
      },
      {
       "output_type": "stream",
       "stream": "stdout",
       "text": [
        "LE47EG  "
       ]
      },
      {
       "output_type": "stream",
       "stream": "stdout",
       "text": [
        "2PLPV0  "
       ]
      },
      {
       "output_type": "stream",
       "stream": "stdout",
       "text": [
        "PFJF0B  "
       ]
      },
      {
       "output_type": "stream",
       "stream": "stdout",
       "text": [
        "EM55FM  "
       ]
      },
      {
       "output_type": "stream",
       "stream": "stdout",
       "text": [
        "M3HANA  "
       ]
      },
      {
       "output_type": "stream",
       "stream": "stdout",
       "text": [
        "0YABMF  "
       ]
      },
      {
       "output_type": "stream",
       "stream": "stdout",
       "text": [
        "7FOSEF  "
       ]
      },
      {
       "output_type": "stream",
       "stream": "stdout",
       "text": [
        "I1PRFB  "
       ]
      },
      {
       "output_type": "stream",
       "stream": "stdout",
       "text": [
        "58O848  "
       ]
      },
      {
       "output_type": "stream",
       "stream": "stdout",
       "text": [
        "ZEG7XN  "
       ]
      },
      {
       "output_type": "stream",
       "stream": "stdout",
       "text": [
        "H7G61F \n"
       ]
      }
     ],
     "prompt_number": 9
    },
    {
     "cell_type": "code",
     "collapsed": false,
     "input": [
      "correct_us, total_us = matching.folderMatch(directory, dt, matching.ratioMatch, thresholds_nocluster, keypoint, descriptor)"
     ],
     "language": "python",
     "metadata": {},
     "outputs": [
      {
       "output_type": "stream",
       "stream": "stdout",
       "text": [
        "8XTMAJ  "
       ]
      },
      {
       "output_type": "stream",
       "stream": "stdout",
       "text": [
        "0WU2WR  "
       ]
      },
      {
       "output_type": "stream",
       "stream": "stdout",
       "text": [
        "AG3EJA  "
       ]
      },
      {
       "output_type": "stream",
       "stream": "stdout",
       "text": [
        "7YLUG1  "
       ]
      },
      {
       "output_type": "stream",
       "stream": "stdout",
       "text": [
        "QUWNA2  "
       ]
      },
      {
       "output_type": "stream",
       "stream": "stdout",
       "text": [
        "IKTFB5  "
       ]
      },
      {
       "output_type": "stream",
       "stream": "stdout",
       "text": [
        "02KF9U  "
       ]
      },
      {
       "output_type": "stream",
       "stream": "stdout",
       "text": [
        "JU615M  "
       ]
      },
      {
       "output_type": "stream",
       "stream": "stdout",
       "text": [
        "93WHIB  "
       ]
      },
      {
       "output_type": "stream",
       "stream": "stdout",
       "text": [
        "ZMV313  "
       ]
      },
      {
       "output_type": "stream",
       "stream": "stdout",
       "text": [
        "L7NHVF  "
       ]
      },
      {
       "output_type": "stream",
       "stream": "stdout",
       "text": [
        "36HUXB  "
       ]
      },
      {
       "output_type": "stream",
       "stream": "stdout",
       "text": [
        "OVM0I1  "
       ]
      },
      {
       "output_type": "stream",
       "stream": "stdout",
       "text": [
        "PBF5LB  "
       ]
      },
      {
       "output_type": "stream",
       "stream": "stdout",
       "text": [
        "WN0C9X  "
       ]
      },
      {
       "output_type": "stream",
       "stream": "stdout",
       "text": [
        "S42QH4  "
       ]
      },
      {
       "output_type": "stream",
       "stream": "stdout",
       "text": [
        "1F9CEL  "
       ]
      },
      {
       "output_type": "stream",
       "stream": "stdout",
       "text": [
        "L5A2HM  "
       ]
      },
      {
       "output_type": "stream",
       "stream": "stdout",
       "text": [
        "5GNOOU  "
       ]
      },
      {
       "output_type": "stream",
       "stream": "stdout",
       "text": [
        "D3627D  "
       ]
      },
      {
       "output_type": "stream",
       "stream": "stdout",
       "text": [
        "8K6WF5  "
       ]
      },
      {
       "output_type": "stream",
       "stream": "stdout",
       "text": [
        "6Y4ZHK  "
       ]
      },
      {
       "output_type": "stream",
       "stream": "stdout",
       "text": [
        "657DAA  "
       ]
      },
      {
       "output_type": "stream",
       "stream": "stdout",
       "text": [
        "888O4E  "
       ]
      },
      {
       "output_type": "stream",
       "stream": "stdout",
       "text": [
        "P4UQQV  "
       ]
      },
      {
       "output_type": "stream",
       "stream": "stdout",
       "text": [
        "POD0TO  "
       ]
      },
      {
       "output_type": "stream",
       "stream": "stdout",
       "text": [
        "NWLM4P  "
       ]
      },
      {
       "output_type": "stream",
       "stream": "stdout",
       "text": [
        "KQLYNM  "
       ]
      },
      {
       "output_type": "stream",
       "stream": "stdout",
       "text": [
        "T9B240  "
       ]
      },
      {
       "output_type": "stream",
       "stream": "stdout",
       "text": [
        "Q8IMGQ  "
       ]
      },
      {
       "output_type": "stream",
       "stream": "stdout",
       "text": [
        "BNMTY6  "
       ]
      },
      {
       "output_type": "stream",
       "stream": "stdout",
       "text": [
        "17UZK4  "
       ]
      },
      {
       "output_type": "stream",
       "stream": "stdout",
       "text": [
        "7T1T4X  "
       ]
      },
      {
       "output_type": "stream",
       "stream": "stdout",
       "text": [
        "A2V75H  "
       ]
      },
      {
       "output_type": "stream",
       "stream": "stdout",
       "text": [
        "PYUK4R  "
       ]
      },
      {
       "output_type": "stream",
       "stream": "stdout",
       "text": [
        "75X6W6  "
       ]
      },
      {
       "output_type": "stream",
       "stream": "stdout",
       "text": [
        "ASTEG5  "
       ]
      },
      {
       "output_type": "stream",
       "stream": "stdout",
       "text": [
        "ETBDXL  "
       ]
      },
      {
       "output_type": "stream",
       "stream": "stdout",
       "text": [
        "QFWLIL  "
       ]
      },
      {
       "output_type": "stream",
       "stream": "stdout",
       "text": [
        "9ENXKX  "
       ]
      },
      {
       "output_type": "stream",
       "stream": "stdout",
       "text": [
        "QKCQVS  "
       ]
      },
      {
       "output_type": "stream",
       "stream": "stdout",
       "text": [
        "3TWE3P  "
       ]
      },
      {
       "output_type": "stream",
       "stream": "stdout",
       "text": [
        "UOBILW  "
       ]
      },
      {
       "output_type": "stream",
       "stream": "stdout",
       "text": [
        "ILBSK7  "
       ]
      },
      {
       "output_type": "stream",
       "stream": "stdout",
       "text": [
        "QM6IZX  "
       ]
      },
      {
       "output_type": "stream",
       "stream": "stdout",
       "text": [
        "Y0U4B6  "
       ]
      },
      {
       "output_type": "stream",
       "stream": "stdout",
       "text": [
        "IX1TK3  "
       ]
      },
      {
       "output_type": "stream",
       "stream": "stdout",
       "text": [
        "LCO0E3  "
       ]
      },
      {
       "output_type": "stream",
       "stream": "stdout",
       "text": [
        "ZTKR4Q  "
       ]
      },
      {
       "output_type": "stream",
       "stream": "stdout",
       "text": [
        "CRJIZU  "
       ]
      },
      {
       "output_type": "stream",
       "stream": "stdout",
       "text": [
        "3S4JIK  "
       ]
      },
      {
       "output_type": "stream",
       "stream": "stdout",
       "text": [
        "UCZZEI  "
       ]
      },
      {
       "output_type": "stream",
       "stream": "stdout",
       "text": [
        "K2CGTU  "
       ]
      },
      {
       "output_type": "stream",
       "stream": "stdout",
       "text": [
        "IGQIVH  "
       ]
      },
      {
       "output_type": "stream",
       "stream": "stdout",
       "text": [
        "PFRSHQ  "
       ]
      },
      {
       "output_type": "stream",
       "stream": "stdout",
       "text": [
        "5ABFIV  "
       ]
      },
      {
       "output_type": "stream",
       "stream": "stdout",
       "text": [
        "N9Q3OJ  "
       ]
      },
      {
       "output_type": "stream",
       "stream": "stdout",
       "text": [
        "PCVLVO  "
       ]
      },
      {
       "output_type": "stream",
       "stream": "stdout",
       "text": [
        "5NIR1L  "
       ]
      },
      {
       "output_type": "stream",
       "stream": "stdout",
       "text": [
        "H0LZLF  "
       ]
      },
      {
       "output_type": "stream",
       "stream": "stdout",
       "text": [
        "CH0IMY  "
       ]
      },
      {
       "output_type": "stream",
       "stream": "stdout",
       "text": [
        "NKJ6S5  "
       ]
      },
      {
       "output_type": "stream",
       "stream": "stdout",
       "text": [
        "YDOMQZ  "
       ]
      },
      {
       "output_type": "stream",
       "stream": "stdout",
       "text": [
        "E2SGCS  "
       ]
      },
      {
       "output_type": "stream",
       "stream": "stdout",
       "text": [
        "2T4LV2  "
       ]
      },
      {
       "output_type": "stream",
       "stream": "stdout",
       "text": [
        "R92RGI  "
       ]
      },
      {
       "output_type": "stream",
       "stream": "stdout",
       "text": [
        "JU7OCQ  "
       ]
      },
      {
       "output_type": "stream",
       "stream": "stdout",
       "text": [
        "OH4YCH  "
       ]
      },
      {
       "output_type": "stream",
       "stream": "stdout",
       "text": [
        "QNHHL6  "
       ]
      },
      {
       "output_type": "stream",
       "stream": "stdout",
       "text": [
        "6P4RFK  "
       ]
      },
      {
       "output_type": "stream",
       "stream": "stdout",
       "text": [
        "D82X04  "
       ]
      },
      {
       "output_type": "stream",
       "stream": "stdout",
       "text": [
        "19CPN8  "
       ]
      },
      {
       "output_type": "stream",
       "stream": "stdout",
       "text": [
        "ZIGFMM  "
       ]
      },
      {
       "output_type": "stream",
       "stream": "stdout",
       "text": [
        "TZDP73  "
       ]
      },
      {
       "output_type": "stream",
       "stream": "stdout",
       "text": [
        "NK2SEL  "
       ]
      },
      {
       "output_type": "stream",
       "stream": "stdout",
       "text": [
        "JX0CW5  "
       ]
      },
      {
       "output_type": "stream",
       "stream": "stdout",
       "text": [
        "QZMOCY  "
       ]
      },
      {
       "output_type": "stream",
       "stream": "stdout",
       "text": [
        "ZX2V17  "
       ]
      },
      {
       "output_type": "stream",
       "stream": "stdout",
       "text": [
        "N7LG3U  "
       ]
      },
      {
       "output_type": "stream",
       "stream": "stdout",
       "text": [
        "HRY4HI  "
       ]
      },
      {
       "output_type": "stream",
       "stream": "stdout",
       "text": [
        "BLPO1W  "
       ]
      },
      {
       "output_type": "stream",
       "stream": "stdout",
       "text": [
        "W6HNZP  "
       ]
      },
      {
       "output_type": "stream",
       "stream": "stdout",
       "text": [
        "NSMVX7  "
       ]
      },
      {
       "output_type": "stream",
       "stream": "stdout",
       "text": [
        "MVSIRL  "
       ]
      },
      {
       "output_type": "stream",
       "stream": "stdout",
       "text": [
        "KCVK5T  "
       ]
      },
      {
       "output_type": "stream",
       "stream": "stdout",
       "text": [
        "9Y4MNR  "
       ]
      },
      {
       "output_type": "stream",
       "stream": "stdout",
       "text": [
        "G3DNTF  "
       ]
      },
      {
       "output_type": "stream",
       "stream": "stdout",
       "text": [
        "0KEFY0  "
       ]
      },
      {
       "output_type": "stream",
       "stream": "stdout",
       "text": [
        "MIS5ZX  "
       ]
      },
      {
       "output_type": "stream",
       "stream": "stdout",
       "text": [
        "LE47EG  "
       ]
      },
      {
       "output_type": "stream",
       "stream": "stdout",
       "text": [
        "2PLPV0  "
       ]
      },
      {
       "output_type": "stream",
       "stream": "stdout",
       "text": [
        "PFJF0B  "
       ]
      },
      {
       "output_type": "stream",
       "stream": "stdout",
       "text": [
        "EM55FM  "
       ]
      },
      {
       "output_type": "stream",
       "stream": "stdout",
       "text": [
        "M3HANA  "
       ]
      },
      {
       "output_type": "stream",
       "stream": "stdout",
       "text": [
        "0YABMF  "
       ]
      },
      {
       "output_type": "stream",
       "stream": "stdout",
       "text": [
        "7FOSEF  "
       ]
      },
      {
       "output_type": "stream",
       "stream": "stdout",
       "text": [
        "I1PRFB  "
       ]
      },
      {
       "output_type": "stream",
       "stream": "stdout",
       "text": [
        "58O848  "
       ]
      },
      {
       "output_type": "stream",
       "stream": "stdout",
       "text": [
        "ZEG7XN  "
       ]
      },
      {
       "output_type": "stream",
       "stream": "stdout",
       "text": [
        "H7G61F \n"
       ]
      }
     ],
     "prompt_number": 10
    },
    {
     "cell_type": "code",
     "collapsed": false,
     "input": [
      "correct_us.T[7]"
     ],
     "language": "python",
     "metadata": {},
     "outputs": [
      {
       "output_type": "pyout",
       "prompt_number": 63,
       "text": [
        "array([ 0,  0,  0,  0,  0,  0,  3,  4,  4,  4,  5,  7,  7,  8,  8,  8,  8,\n",
        "        8,  8,  8,  8,  8,  8,  8,  9,  9,  9,  9,  9,  9,  9,  9,  9,  9,\n",
        "        9,  9,  9,  9,  9,  9,  9, 11, 11, 11, 11, 11, 11, 11, 11, 11])"
       ]
      }
     ],
     "prompt_number": 63
    },
    {
     "cell_type": "code",
     "collapsed": false,
     "input": [
      "correct_ms, total_ms = matching.folderMatch(directory, dt, matching.mirrorMatch, thresholds_nocluster, keypoint, descriptor)"
     ],
     "language": "python",
     "metadata": {},
     "outputs": [
      {
       "output_type": "stream",
       "stream": "stdout",
       "text": [
        "8XTMAJ  "
       ]
      },
      {
       "output_type": "stream",
       "stream": "stdout",
       "text": [
        "0WU2WR  "
       ]
      },
      {
       "output_type": "stream",
       "stream": "stdout",
       "text": [
        "AG3EJA  "
       ]
      },
      {
       "output_type": "stream",
       "stream": "stdout",
       "text": [
        "7YLUG1  "
       ]
      },
      {
       "output_type": "stream",
       "stream": "stdout",
       "text": [
        "QUWNA2  "
       ]
      },
      {
       "output_type": "stream",
       "stream": "stdout",
       "text": [
        "IKTFB5  "
       ]
      },
      {
       "output_type": "stream",
       "stream": "stdout",
       "text": [
        "02KF9U  "
       ]
      },
      {
       "output_type": "stream",
       "stream": "stdout",
       "text": [
        "JU615M  "
       ]
      },
      {
       "output_type": "stream",
       "stream": "stdout",
       "text": [
        "93WHIB  "
       ]
      },
      {
       "output_type": "stream",
       "stream": "stdout",
       "text": [
        "ZMV313  "
       ]
      },
      {
       "output_type": "stream",
       "stream": "stdout",
       "text": [
        "L7NHVF  "
       ]
      },
      {
       "output_type": "stream",
       "stream": "stdout",
       "text": [
        "36HUXB  "
       ]
      },
      {
       "output_type": "stream",
       "stream": "stdout",
       "text": [
        "OVM0I1  "
       ]
      },
      {
       "output_type": "stream",
       "stream": "stdout",
       "text": [
        "PBF5LB  "
       ]
      },
      {
       "output_type": "stream",
       "stream": "stdout",
       "text": [
        "WN0C9X  "
       ]
      },
      {
       "output_type": "stream",
       "stream": "stdout",
       "text": [
        "S42QH4  "
       ]
      },
      {
       "output_type": "stream",
       "stream": "stdout",
       "text": [
        "1F9CEL  "
       ]
      },
      {
       "output_type": "stream",
       "stream": "stdout",
       "text": [
        "L5A2HM  "
       ]
      },
      {
       "output_type": "stream",
       "stream": "stdout",
       "text": [
        "5GNOOU  "
       ]
      },
      {
       "output_type": "stream",
       "stream": "stdout",
       "text": [
        "D3627D  "
       ]
      },
      {
       "output_type": "stream",
       "stream": "stdout",
       "text": [
        "8K6WF5  "
       ]
      },
      {
       "output_type": "stream",
       "stream": "stdout",
       "text": [
        "6Y4ZHK  "
       ]
      },
      {
       "output_type": "stream",
       "stream": "stdout",
       "text": [
        "657DAA  "
       ]
      },
      {
       "output_type": "stream",
       "stream": "stdout",
       "text": [
        "888O4E  "
       ]
      },
      {
       "output_type": "stream",
       "stream": "stdout",
       "text": [
        "P4UQQV  "
       ]
      },
      {
       "output_type": "stream",
       "stream": "stdout",
       "text": [
        "POD0TO  "
       ]
      },
      {
       "output_type": "stream",
       "stream": "stdout",
       "text": [
        "NWLM4P  "
       ]
      },
      {
       "output_type": "stream",
       "stream": "stdout",
       "text": [
        "KQLYNM  "
       ]
      },
      {
       "output_type": "stream",
       "stream": "stdout",
       "text": [
        "T9B240  "
       ]
      },
      {
       "output_type": "stream",
       "stream": "stdout",
       "text": [
        "Q8IMGQ  "
       ]
      },
      {
       "output_type": "stream",
       "stream": "stdout",
       "text": [
        "BNMTY6  "
       ]
      },
      {
       "output_type": "stream",
       "stream": "stdout",
       "text": [
        "17UZK4  "
       ]
      },
      {
       "output_type": "stream",
       "stream": "stdout",
       "text": [
        "7T1T4X  "
       ]
      },
      {
       "output_type": "stream",
       "stream": "stdout",
       "text": [
        "A2V75H  "
       ]
      },
      {
       "output_type": "stream",
       "stream": "stdout",
       "text": [
        "PYUK4R  "
       ]
      },
      {
       "output_type": "stream",
       "stream": "stdout",
       "text": [
        "75X6W6  "
       ]
      },
      {
       "output_type": "stream",
       "stream": "stdout",
       "text": [
        "ASTEG5  "
       ]
      },
      {
       "output_type": "stream",
       "stream": "stdout",
       "text": [
        "ETBDXL  "
       ]
      },
      {
       "output_type": "stream",
       "stream": "stdout",
       "text": [
        "QFWLIL  "
       ]
      },
      {
       "output_type": "stream",
       "stream": "stdout",
       "text": [
        "9ENXKX  "
       ]
      },
      {
       "output_type": "stream",
       "stream": "stdout",
       "text": [
        "QKCQVS  "
       ]
      },
      {
       "output_type": "stream",
       "stream": "stdout",
       "text": [
        "3TWE3P  "
       ]
      },
      {
       "output_type": "stream",
       "stream": "stdout",
       "text": [
        "UOBILW  "
       ]
      },
      {
       "output_type": "stream",
       "stream": "stdout",
       "text": [
        "ILBSK7  "
       ]
      },
      {
       "output_type": "stream",
       "stream": "stdout",
       "text": [
        "QM6IZX  "
       ]
      },
      {
       "output_type": "stream",
       "stream": "stdout",
       "text": [
        "Y0U4B6  "
       ]
      },
      {
       "output_type": "stream",
       "stream": "stdout",
       "text": [
        "IX1TK3  "
       ]
      },
      {
       "output_type": "stream",
       "stream": "stdout",
       "text": [
        "LCO0E3  "
       ]
      },
      {
       "output_type": "stream",
       "stream": "stdout",
       "text": [
        "ZTKR4Q  "
       ]
      },
      {
       "output_type": "stream",
       "stream": "stdout",
       "text": [
        "CRJIZU  "
       ]
      },
      {
       "output_type": "stream",
       "stream": "stdout",
       "text": [
        "3S4JIK  "
       ]
      },
      {
       "output_type": "stream",
       "stream": "stdout",
       "text": [
        "UCZZEI  "
       ]
      },
      {
       "output_type": "stream",
       "stream": "stdout",
       "text": [
        "K2CGTU  "
       ]
      },
      {
       "output_type": "stream",
       "stream": "stdout",
       "text": [
        "IGQIVH  "
       ]
      },
      {
       "output_type": "stream",
       "stream": "stdout",
       "text": [
        "PFRSHQ  "
       ]
      },
      {
       "output_type": "stream",
       "stream": "stdout",
       "text": [
        "5ABFIV  "
       ]
      },
      {
       "output_type": "stream",
       "stream": "stdout",
       "text": [
        "N9Q3OJ  "
       ]
      },
      {
       "output_type": "stream",
       "stream": "stdout",
       "text": [
        "PCVLVO  "
       ]
      },
      {
       "output_type": "stream",
       "stream": "stdout",
       "text": [
        "5NIR1L  "
       ]
      },
      {
       "output_type": "stream",
       "stream": "stdout",
       "text": [
        "H0LZLF  "
       ]
      },
      {
       "output_type": "stream",
       "stream": "stdout",
       "text": [
        "CH0IMY  "
       ]
      },
      {
       "output_type": "stream",
       "stream": "stdout",
       "text": [
        "NKJ6S5  "
       ]
      },
      {
       "output_type": "stream",
       "stream": "stdout",
       "text": [
        "YDOMQZ  "
       ]
      },
      {
       "output_type": "stream",
       "stream": "stdout",
       "text": [
        "E2SGCS  "
       ]
      },
      {
       "output_type": "stream",
       "stream": "stdout",
       "text": [
        "2T4LV2  "
       ]
      },
      {
       "output_type": "stream",
       "stream": "stdout",
       "text": [
        "R92RGI  "
       ]
      },
      {
       "output_type": "stream",
       "stream": "stdout",
       "text": [
        "JU7OCQ  "
       ]
      },
      {
       "output_type": "stream",
       "stream": "stdout",
       "text": [
        "OH4YCH  "
       ]
      },
      {
       "output_type": "stream",
       "stream": "stdout",
       "text": [
        "QNHHL6  "
       ]
      },
      {
       "output_type": "stream",
       "stream": "stdout",
       "text": [
        "6P4RFK  "
       ]
      },
      {
       "output_type": "stream",
       "stream": "stdout",
       "text": [
        "D82X04  "
       ]
      },
      {
       "output_type": "stream",
       "stream": "stdout",
       "text": [
        "19CPN8  "
       ]
      },
      {
       "output_type": "stream",
       "stream": "stdout",
       "text": [
        "ZIGFMM  "
       ]
      },
      {
       "output_type": "stream",
       "stream": "stdout",
       "text": [
        "TZDP73  "
       ]
      },
      {
       "output_type": "stream",
       "stream": "stdout",
       "text": [
        "NK2SEL  "
       ]
      },
      {
       "output_type": "stream",
       "stream": "stdout",
       "text": [
        "JX0CW5  "
       ]
      },
      {
       "output_type": "stream",
       "stream": "stdout",
       "text": [
        "QZMOCY  "
       ]
      },
      {
       "output_type": "stream",
       "stream": "stdout",
       "text": [
        "ZX2V17  "
       ]
      },
      {
       "output_type": "stream",
       "stream": "stdout",
       "text": [
        "N7LG3U  "
       ]
      },
      {
       "output_type": "stream",
       "stream": "stdout",
       "text": [
        "HRY4HI  "
       ]
      },
      {
       "output_type": "stream",
       "stream": "stdout",
       "text": [
        "BLPO1W  "
       ]
      },
      {
       "output_type": "stream",
       "stream": "stdout",
       "text": [
        "W6HNZP  "
       ]
      },
      {
       "output_type": "stream",
       "stream": "stdout",
       "text": [
        "NSMVX7  "
       ]
      },
      {
       "output_type": "stream",
       "stream": "stdout",
       "text": [
        "MVSIRL  "
       ]
      },
      {
       "output_type": "stream",
       "stream": "stdout",
       "text": [
        "KCVK5T  "
       ]
      },
      {
       "output_type": "stream",
       "stream": "stdout",
       "text": [
        "9Y4MNR  "
       ]
      },
      {
       "output_type": "stream",
       "stream": "stdout",
       "text": [
        "G3DNTF  "
       ]
      },
      {
       "output_type": "stream",
       "stream": "stdout",
       "text": [
        "0KEFY0  "
       ]
      },
      {
       "output_type": "stream",
       "stream": "stdout",
       "text": [
        "MIS5ZX  "
       ]
      },
      {
       "output_type": "stream",
       "stream": "stdout",
       "text": [
        "LE47EG  "
       ]
      },
      {
       "output_type": "stream",
       "stream": "stdout",
       "text": [
        "2PLPV0  "
       ]
      },
      {
       "output_type": "stream",
       "stream": "stdout",
       "text": [
        "PFJF0B  "
       ]
      },
      {
       "output_type": "stream",
       "stream": "stdout",
       "text": [
        "EM55FM  "
       ]
      },
      {
       "output_type": "stream",
       "stream": "stdout",
       "text": [
        "M3HANA  "
       ]
      },
      {
       "output_type": "stream",
       "stream": "stdout",
       "text": [
        "0YABMF  "
       ]
      },
      {
       "output_type": "stream",
       "stream": "stdout",
       "text": [
        "7FOSEF  "
       ]
      },
      {
       "output_type": "stream",
       "stream": "stdout",
       "text": [
        "I1PRFB  "
       ]
      },
      {
       "output_type": "stream",
       "stream": "stdout",
       "text": [
        "58O848  "
       ]
      },
      {
       "output_type": "stream",
       "stream": "stdout",
       "text": [
        "ZEG7XN  "
       ]
      },
      {
       "output_type": "stream",
       "stream": "stdout",
       "text": [
        "H7G61F \n"
       ]
      }
     ],
     "prompt_number": 11
    },
    {
     "cell_type": "code",
     "collapsed": false,
     "input": [
      "correct_cs, total_cs = matching.folderMatch(directory, dt, matching.clusterMatch, thresholds_cluster, keypoint, descriptor)"
     ],
     "language": "python",
     "metadata": {},
     "outputs": [
      {
       "output_type": "stream",
       "stream": "stdout",
       "text": [
        "8XTMAJ  "
       ]
      },
      {
       "output_type": "stream",
       "stream": "stdout",
       "text": [
        "0WU2WR  "
       ]
      },
      {
       "output_type": "stream",
       "stream": "stdout",
       "text": [
        "AG3EJA  "
       ]
      },
      {
       "output_type": "stream",
       "stream": "stdout",
       "text": [
        "7YLUG1  "
       ]
      },
      {
       "output_type": "stream",
       "stream": "stdout",
       "text": [
        "QUWNA2  "
       ]
      },
      {
       "output_type": "stream",
       "stream": "stdout",
       "text": [
        "IKTFB5  "
       ]
      },
      {
       "output_type": "stream",
       "stream": "stdout",
       "text": [
        "02KF9U  "
       ]
      },
      {
       "output_type": "stream",
       "stream": "stdout",
       "text": [
        "JU615M  "
       ]
      },
      {
       "output_type": "stream",
       "stream": "stdout",
       "text": [
        "93WHIB  "
       ]
      },
      {
       "output_type": "stream",
       "stream": "stdout",
       "text": [
        "ZMV313  "
       ]
      },
      {
       "output_type": "stream",
       "stream": "stdout",
       "text": [
        "L7NHVF  "
       ]
      },
      {
       "output_type": "stream",
       "stream": "stdout",
       "text": [
        "36HUXB  "
       ]
      },
      {
       "output_type": "stream",
       "stream": "stdout",
       "text": [
        "OVM0I1  "
       ]
      },
      {
       "output_type": "stream",
       "stream": "stdout",
       "text": [
        "PBF5LB  "
       ]
      },
      {
       "output_type": "stream",
       "stream": "stdout",
       "text": [
        "WN0C9X  "
       ]
      },
      {
       "output_type": "stream",
       "stream": "stdout",
       "text": [
        "S42QH4  "
       ]
      },
      {
       "output_type": "stream",
       "stream": "stdout",
       "text": [
        "1F9CEL  "
       ]
      },
      {
       "output_type": "stream",
       "stream": "stdout",
       "text": [
        "L5A2HM  "
       ]
      },
      {
       "output_type": "stream",
       "stream": "stdout",
       "text": [
        "5GNOOU  "
       ]
      },
      {
       "output_type": "stream",
       "stream": "stdout",
       "text": [
        "D3627D  "
       ]
      },
      {
       "output_type": "stream",
       "stream": "stdout",
       "text": [
        "8K6WF5  "
       ]
      },
      {
       "output_type": "stream",
       "stream": "stdout",
       "text": [
        "6Y4ZHK  "
       ]
      },
      {
       "output_type": "stream",
       "stream": "stdout",
       "text": [
        "657DAA  "
       ]
      },
      {
       "output_type": "stream",
       "stream": "stdout",
       "text": [
        "888O4E  "
       ]
      },
      {
       "output_type": "stream",
       "stream": "stdout",
       "text": [
        "P4UQQV  "
       ]
      },
      {
       "output_type": "stream",
       "stream": "stdout",
       "text": [
        "POD0TO  "
       ]
      },
      {
       "output_type": "stream",
       "stream": "stdout",
       "text": [
        "NWLM4P  "
       ]
      },
      {
       "output_type": "stream",
       "stream": "stdout",
       "text": [
        "KQLYNM  "
       ]
      },
      {
       "output_type": "stream",
       "stream": "stdout",
       "text": [
        "T9B240  "
       ]
      },
      {
       "output_type": "stream",
       "stream": "stdout",
       "text": [
        "Q8IMGQ  "
       ]
      },
      {
       "output_type": "stream",
       "stream": "stdout",
       "text": [
        "BNMTY6  "
       ]
      },
      {
       "output_type": "stream",
       "stream": "stdout",
       "text": [
        "17UZK4  "
       ]
      },
      {
       "output_type": "stream",
       "stream": "stdout",
       "text": [
        "7T1T4X  "
       ]
      },
      {
       "output_type": "stream",
       "stream": "stdout",
       "text": [
        "A2V75H  "
       ]
      },
      {
       "output_type": "stream",
       "stream": "stdout",
       "text": [
        "PYUK4R  "
       ]
      },
      {
       "output_type": "stream",
       "stream": "stdout",
       "text": [
        "75X6W6  "
       ]
      },
      {
       "output_type": "stream",
       "stream": "stdout",
       "text": [
        "ASTEG5  "
       ]
      },
      {
       "output_type": "stream",
       "stream": "stdout",
       "text": [
        "ETBDXL  "
       ]
      },
      {
       "output_type": "stream",
       "stream": "stdout",
       "text": [
        "QFWLIL  "
       ]
      },
      {
       "output_type": "stream",
       "stream": "stdout",
       "text": [
        "9ENXKX  "
       ]
      },
      {
       "output_type": "stream",
       "stream": "stdout",
       "text": [
        "QKCQVS  "
       ]
      },
      {
       "output_type": "stream",
       "stream": "stdout",
       "text": [
        "3TWE3P  "
       ]
      },
      {
       "output_type": "stream",
       "stream": "stdout",
       "text": [
        "UOBILW  "
       ]
      },
      {
       "output_type": "stream",
       "stream": "stdout",
       "text": [
        "ILBSK7  "
       ]
      },
      {
       "output_type": "stream",
       "stream": "stdout",
       "text": [
        "QM6IZX  "
       ]
      },
      {
       "output_type": "stream",
       "stream": "stdout",
       "text": [
        "Y0U4B6  "
       ]
      },
      {
       "output_type": "stream",
       "stream": "stdout",
       "text": [
        "IX1TK3  "
       ]
      },
      {
       "output_type": "stream",
       "stream": "stdout",
       "text": [
        "LCO0E3  "
       ]
      },
      {
       "output_type": "stream",
       "stream": "stdout",
       "text": [
        "ZTKR4Q  "
       ]
      },
      {
       "output_type": "stream",
       "stream": "stdout",
       "text": [
        "CRJIZU  "
       ]
      },
      {
       "output_type": "stream",
       "stream": "stdout",
       "text": [
        "3S4JIK  "
       ]
      },
      {
       "output_type": "stream",
       "stream": "stdout",
       "text": [
        "UCZZEI  "
       ]
      },
      {
       "output_type": "stream",
       "stream": "stdout",
       "text": [
        "K2CGTU  "
       ]
      },
      {
       "output_type": "stream",
       "stream": "stdout",
       "text": [
        "IGQIVH  "
       ]
      },
      {
       "output_type": "stream",
       "stream": "stdout",
       "text": [
        "PFRSHQ  "
       ]
      },
      {
       "output_type": "stream",
       "stream": "stdout",
       "text": [
        "5ABFIV  "
       ]
      },
      {
       "output_type": "stream",
       "stream": "stdout",
       "text": [
        "N9Q3OJ  "
       ]
      },
      {
       "output_type": "stream",
       "stream": "stdout",
       "text": [
        "PCVLVO  "
       ]
      },
      {
       "output_type": "stream",
       "stream": "stdout",
       "text": [
        "5NIR1L  "
       ]
      },
      {
       "output_type": "stream",
       "stream": "stdout",
       "text": [
        "H0LZLF  "
       ]
      },
      {
       "output_type": "stream",
       "stream": "stdout",
       "text": [
        "CH0IMY  "
       ]
      },
      {
       "output_type": "stream",
       "stream": "stdout",
       "text": [
        "NKJ6S5  "
       ]
      },
      {
       "output_type": "stream",
       "stream": "stdout",
       "text": [
        "YDOMQZ  "
       ]
      },
      {
       "output_type": "stream",
       "stream": "stdout",
       "text": [
        "E2SGCS  "
       ]
      },
      {
       "output_type": "stream",
       "stream": "stdout",
       "text": [
        "2T4LV2  "
       ]
      },
      {
       "output_type": "stream",
       "stream": "stdout",
       "text": [
        "R92RGI  "
       ]
      },
      {
       "output_type": "stream",
       "stream": "stdout",
       "text": [
        "JU7OCQ  "
       ]
      },
      {
       "output_type": "stream",
       "stream": "stdout",
       "text": [
        "OH4YCH  "
       ]
      },
      {
       "output_type": "stream",
       "stream": "stdout",
       "text": [
        "QNHHL6  "
       ]
      },
      {
       "output_type": "stream",
       "stream": "stdout",
       "text": [
        "6P4RFK  "
       ]
      },
      {
       "output_type": "stream",
       "stream": "stdout",
       "text": [
        "D82X04  "
       ]
      },
      {
       "output_type": "stream",
       "stream": "stdout",
       "text": [
        "19CPN8  "
       ]
      },
      {
       "output_type": "stream",
       "stream": "stdout",
       "text": [
        "ZIGFMM  "
       ]
      },
      {
       "output_type": "stream",
       "stream": "stdout",
       "text": [
        "TZDP73  "
       ]
      },
      {
       "output_type": "stream",
       "stream": "stdout",
       "text": [
        "NK2SEL  "
       ]
      },
      {
       "output_type": "stream",
       "stream": "stdout",
       "text": [
        "JX0CW5  "
       ]
      },
      {
       "output_type": "stream",
       "stream": "stdout",
       "text": [
        "QZMOCY  "
       ]
      },
      {
       "output_type": "stream",
       "stream": "stdout",
       "text": [
        "ZX2V17  "
       ]
      },
      {
       "output_type": "stream",
       "stream": "stdout",
       "text": [
        "N7LG3U  "
       ]
      },
      {
       "output_type": "stream",
       "stream": "stdout",
       "text": [
        "HRY4HI  "
       ]
      },
      {
       "output_type": "stream",
       "stream": "stdout",
       "text": [
        "BLPO1W  "
       ]
      },
      {
       "output_type": "stream",
       "stream": "stdout",
       "text": [
        "W6HNZP  "
       ]
      },
      {
       "output_type": "stream",
       "stream": "stdout",
       "text": [
        "NSMVX7  "
       ]
      },
      {
       "output_type": "stream",
       "stream": "stdout",
       "text": [
        "MVSIRL  "
       ]
      },
      {
       "output_type": "stream",
       "stream": "stdout",
       "text": [
        "KCVK5T  "
       ]
      },
      {
       "output_type": "stream",
       "stream": "stdout",
       "text": [
        "9Y4MNR  "
       ]
      },
      {
       "output_type": "stream",
       "stream": "stdout",
       "text": [
        "G3DNTF  "
       ]
      },
      {
       "output_type": "stream",
       "stream": "stdout",
       "text": [
        "0KEFY0  "
       ]
      },
      {
       "output_type": "stream",
       "stream": "stdout",
       "text": [
        "MIS5ZX  "
       ]
      },
      {
       "output_type": "stream",
       "stream": "stdout",
       "text": [
        "LE47EG  "
       ]
      },
      {
       "output_type": "stream",
       "stream": "stdout",
       "text": [
        "2PLPV0  "
       ]
      },
      {
       "output_type": "stream",
       "stream": "stdout",
       "text": [
        "PFJF0B  "
       ]
      },
      {
       "output_type": "stream",
       "stream": "stdout",
       "text": [
        "EM55FM  "
       ]
      },
      {
       "output_type": "stream",
       "stream": "stdout",
       "text": [
        "M3HANA  "
       ]
      },
      {
       "output_type": "stream",
       "stream": "stdout",
       "text": [
        "0YABMF  "
       ]
      },
      {
       "output_type": "stream",
       "stream": "stdout",
       "text": [
        "7FOSEF  "
       ]
      },
      {
       "output_type": "stream",
       "stream": "stdout",
       "text": [
        "I1PRFB  "
       ]
      },
      {
       "output_type": "stream",
       "stream": "stdout",
       "text": [
        "58O848  "
       ]
      },
      {
       "output_type": "stream",
       "stream": "stdout",
       "text": [
        "ZEG7XN  "
       ]
      },
      {
       "output_type": "stream",
       "stream": "stdout",
       "text": [
        "H7G61F \n"
       ]
      },
      {
       "output_type": "stream",
       "stream": "stderr",
       "text": [
        "/home/arnfred/Thesis/code/clustermatch.py:81: RuntimeWarning: invalid value encountered in divide\n",
        "  u = row[s[-2]] / float(row[s[-1]])\n"
       ]
      }
     ],
     "prompt_number": 12
    },
    {
     "cell_type": "code",
     "collapsed": false,
     "input": [
      "correct_is, total_is = matching.folderMatch(directory, dt, matching.isoMatch, thresholds_iso, keypoint, descriptor)"
     ],
     "language": "python",
     "metadata": {},
     "outputs": [
      {
       "output_type": "stream",
       "stream": "stdout",
       "text": [
        "8XTMAJ  "
       ]
      },
      {
       "output_type": "stream",
       "stream": "stdout",
       "text": [
        "0WU2WR  "
       ]
      },
      {
       "output_type": "stream",
       "stream": "stdout",
       "text": [
        "AG3EJA  "
       ]
      },
      {
       "output_type": "stream",
       "stream": "stdout",
       "text": [
        "7YLUG1  "
       ]
      },
      {
       "output_type": "stream",
       "stream": "stdout",
       "text": [
        "QUWNA2  "
       ]
      },
      {
       "output_type": "stream",
       "stream": "stdout",
       "text": [
        "IKTFB5  "
       ]
      },
      {
       "output_type": "stream",
       "stream": "stdout",
       "text": [
        "02KF9U  "
       ]
      },
      {
       "output_type": "stream",
       "stream": "stdout",
       "text": [
        "JU615M  "
       ]
      },
      {
       "output_type": "stream",
       "stream": "stdout",
       "text": [
        "93WHIB  "
       ]
      },
      {
       "output_type": "stream",
       "stream": "stdout",
       "text": [
        "ZMV313  "
       ]
      },
      {
       "output_type": "stream",
       "stream": "stdout",
       "text": [
        "L7NHVF  "
       ]
      },
      {
       "output_type": "stream",
       "stream": "stdout",
       "text": [
        "36HUXB  "
       ]
      },
      {
       "output_type": "stream",
       "stream": "stdout",
       "text": [
        "OVM0I1  "
       ]
      },
      {
       "output_type": "stream",
       "stream": "stdout",
       "text": [
        "PBF5LB  "
       ]
      },
      {
       "output_type": "stream",
       "stream": "stdout",
       "text": [
        "WN0C9X  "
       ]
      },
      {
       "output_type": "stream",
       "stream": "stdout",
       "text": [
        "S42QH4  "
       ]
      },
      {
       "output_type": "stream",
       "stream": "stdout",
       "text": [
        "1F9CEL  "
       ]
      },
      {
       "output_type": "stream",
       "stream": "stdout",
       "text": [
        "L5A2HM  "
       ]
      },
      {
       "output_type": "stream",
       "stream": "stdout",
       "text": [
        "5GNOOU  "
       ]
      },
      {
       "output_type": "stream",
       "stream": "stdout",
       "text": [
        "D3627D  "
       ]
      },
      {
       "output_type": "stream",
       "stream": "stdout",
       "text": [
        "8K6WF5  "
       ]
      },
      {
       "output_type": "stream",
       "stream": "stdout",
       "text": [
        "6Y4ZHK  "
       ]
      },
      {
       "output_type": "stream",
       "stream": "stdout",
       "text": [
        "657DAA  "
       ]
      },
      {
       "output_type": "stream",
       "stream": "stdout",
       "text": [
        "888O4E  "
       ]
      },
      {
       "output_type": "stream",
       "stream": "stdout",
       "text": [
        "P4UQQV  "
       ]
      },
      {
       "output_type": "stream",
       "stream": "stdout",
       "text": [
        "POD0TO  "
       ]
      },
      {
       "output_type": "stream",
       "stream": "stdout",
       "text": [
        "NWLM4P  "
       ]
      },
      {
       "output_type": "stream",
       "stream": "stdout",
       "text": [
        "KQLYNM  "
       ]
      },
      {
       "output_type": "stream",
       "stream": "stdout",
       "text": [
        "T9B240  "
       ]
      },
      {
       "output_type": "stream",
       "stream": "stdout",
       "text": [
        "Q8IMGQ  "
       ]
      },
      {
       "output_type": "stream",
       "stream": "stdout",
       "text": [
        "BNMTY6  "
       ]
      },
      {
       "output_type": "stream",
       "stream": "stdout",
       "text": [
        "17UZK4  "
       ]
      },
      {
       "output_type": "stream",
       "stream": "stdout",
       "text": [
        "7T1T4X  "
       ]
      },
      {
       "output_type": "stream",
       "stream": "stdout",
       "text": [
        "A2V75H  "
       ]
      },
      {
       "output_type": "stream",
       "stream": "stdout",
       "text": [
        "PYUK4R  "
       ]
      },
      {
       "output_type": "stream",
       "stream": "stdout",
       "text": [
        "75X6W6  "
       ]
      },
      {
       "output_type": "stream",
       "stream": "stdout",
       "text": [
        "ASTEG5  "
       ]
      },
      {
       "output_type": "stream",
       "stream": "stdout",
       "text": [
        "ETBDXL  "
       ]
      },
      {
       "output_type": "stream",
       "stream": "stdout",
       "text": [
        "QFWLIL  "
       ]
      },
      {
       "output_type": "stream",
       "stream": "stdout",
       "text": [
        "9ENXKX  "
       ]
      },
      {
       "output_type": "stream",
       "stream": "stdout",
       "text": [
        "QKCQVS  "
       ]
      },
      {
       "output_type": "stream",
       "stream": "stdout",
       "text": [
        "3TWE3P  "
       ]
      },
      {
       "output_type": "stream",
       "stream": "stdout",
       "text": [
        "UOBILW  "
       ]
      },
      {
       "output_type": "stream",
       "stream": "stdout",
       "text": [
        "ILBSK7  "
       ]
      },
      {
       "output_type": "stream",
       "stream": "stdout",
       "text": [
        "QM6IZX  "
       ]
      },
      {
       "output_type": "stream",
       "stream": "stdout",
       "text": [
        "Y0U4B6  "
       ]
      },
      {
       "output_type": "stream",
       "stream": "stdout",
       "text": [
        "IX1TK3  "
       ]
      },
      {
       "output_type": "stream",
       "stream": "stdout",
       "text": [
        "LCO0E3  "
       ]
      },
      {
       "output_type": "stream",
       "stream": "stdout",
       "text": [
        "ZTKR4Q  "
       ]
      },
      {
       "output_type": "stream",
       "stream": "stdout",
       "text": [
        "CRJIZU  "
       ]
      },
      {
       "output_type": "stream",
       "stream": "stdout",
       "text": [
        "3S4JIK  "
       ]
      },
      {
       "output_type": "stream",
       "stream": "stdout",
       "text": [
        "UCZZEI  "
       ]
      },
      {
       "output_type": "stream",
       "stream": "stdout",
       "text": [
        "K2CGTU  "
       ]
      },
      {
       "output_type": "stream",
       "stream": "stdout",
       "text": [
        "IGQIVH  "
       ]
      },
      {
       "output_type": "stream",
       "stream": "stdout",
       "text": [
        "PFRSHQ  "
       ]
      },
      {
       "output_type": "stream",
       "stream": "stdout",
       "text": [
        "5ABFIV  "
       ]
      },
      {
       "output_type": "stream",
       "stream": "stdout",
       "text": [
        "N9Q3OJ  "
       ]
      },
      {
       "output_type": "stream",
       "stream": "stdout",
       "text": [
        "PCVLVO  "
       ]
      },
      {
       "output_type": "stream",
       "stream": "stdout",
       "text": [
        "5NIR1L  "
       ]
      },
      {
       "output_type": "stream",
       "stream": "stdout",
       "text": [
        "H0LZLF  "
       ]
      },
      {
       "output_type": "stream",
       "stream": "stdout",
       "text": [
        "CH0IMY  "
       ]
      },
      {
       "output_type": "stream",
       "stream": "stdout",
       "text": [
        "NKJ6S5  "
       ]
      },
      {
       "output_type": "stream",
       "stream": "stdout",
       "text": [
        "YDOMQZ  "
       ]
      },
      {
       "output_type": "stream",
       "stream": "stdout",
       "text": [
        "E2SGCS  "
       ]
      },
      {
       "output_type": "stream",
       "stream": "stdout",
       "text": [
        "2T4LV2  "
       ]
      },
      {
       "output_type": "stream",
       "stream": "stdout",
       "text": [
        "R92RGI  "
       ]
      },
      {
       "output_type": "stream",
       "stream": "stdout",
       "text": [
        "JU7OCQ  "
       ]
      },
      {
       "output_type": "stream",
       "stream": "stdout",
       "text": [
        "OH4YCH  "
       ]
      },
      {
       "output_type": "stream",
       "stream": "stdout",
       "text": [
        "QNHHL6  "
       ]
      },
      {
       "output_type": "stream",
       "stream": "stdout",
       "text": [
        "6P4RFK  "
       ]
      },
      {
       "output_type": "stream",
       "stream": "stdout",
       "text": [
        "D82X04  "
       ]
      },
      {
       "output_type": "stream",
       "stream": "stdout",
       "text": [
        "19CPN8  "
       ]
      },
      {
       "output_type": "stream",
       "stream": "stdout",
       "text": [
        "ZIGFMM  "
       ]
      },
      {
       "output_type": "stream",
       "stream": "stdout",
       "text": [
        "TZDP73  "
       ]
      },
      {
       "output_type": "stream",
       "stream": "stdout",
       "text": [
        "NK2SEL  "
       ]
      },
      {
       "output_type": "stream",
       "stream": "stdout",
       "text": [
        "JX0CW5  "
       ]
      },
      {
       "output_type": "stream",
       "stream": "stdout",
       "text": [
        "QZMOCY  "
       ]
      },
      {
       "output_type": "stream",
       "stream": "stdout",
       "text": [
        "ZX2V17  "
       ]
      },
      {
       "output_type": "stream",
       "stream": "stdout",
       "text": [
        "N7LG3U  "
       ]
      },
      {
       "output_type": "stream",
       "stream": "stdout",
       "text": [
        "HRY4HI  "
       ]
      },
      {
       "output_type": "stream",
       "stream": "stdout",
       "text": [
        "BLPO1W  "
       ]
      },
      {
       "output_type": "stream",
       "stream": "stdout",
       "text": [
        "W6HNZP  "
       ]
      },
      {
       "output_type": "stream",
       "stream": "stdout",
       "text": [
        "NSMVX7  "
       ]
      },
      {
       "output_type": "stream",
       "stream": "stdout",
       "text": [
        "MVSIRL  "
       ]
      },
      {
       "output_type": "stream",
       "stream": "stdout",
       "text": [
        "KCVK5T  "
       ]
      },
      {
       "output_type": "stream",
       "stream": "stdout",
       "text": [
        "9Y4MNR  "
       ]
      },
      {
       "output_type": "stream",
       "stream": "stdout",
       "text": [
        "G3DNTF  "
       ]
      },
      {
       "output_type": "stream",
       "stream": "stdout",
       "text": [
        "0KEFY0  "
       ]
      },
      {
       "output_type": "stream",
       "stream": "stdout",
       "text": [
        "MIS5ZX  "
       ]
      },
      {
       "output_type": "stream",
       "stream": "stdout",
       "text": [
        "LE47EG  "
       ]
      },
      {
       "output_type": "stream",
       "stream": "stdout",
       "text": [
        "2PLPV0  "
       ]
      },
      {
       "output_type": "stream",
       "stream": "stdout",
       "text": [
        "PFJF0B  "
       ]
      },
      {
       "output_type": "stream",
       "stream": "stdout",
       "text": [
        "EM55FM  "
       ]
      },
      {
       "output_type": "stream",
       "stream": "stdout",
       "text": [
        "M3HANA  "
       ]
      },
      {
       "output_type": "stream",
       "stream": "stdout",
       "text": [
        "0YABMF  "
       ]
      },
      {
       "output_type": "stream",
       "stream": "stdout",
       "text": [
        "7FOSEF  "
       ]
      },
      {
       "output_type": "stream",
       "stream": "stdout",
       "text": [
        "I1PRFB  "
       ]
      },
      {
       "output_type": "stream",
       "stream": "stdout",
       "text": [
        "58O848  "
       ]
      },
      {
       "output_type": "stream",
       "stream": "stdout",
       "text": [
        "ZEG7XN  "
       ]
      },
      {
       "output_type": "stream",
       "stream": "stdout",
       "text": [
        "H7G61F \n"
       ]
      }
     ],
     "prompt_number": 13
    },
    {
     "cell_type": "code",
     "collapsed": false,
     "input": [
      "correct_ss, total_ss = matching.folderMatch(directory, dt, matching.spectralMatch, thresholds_spectral, keypoint, descriptor)"
     ],
     "language": "python",
     "metadata": {},
     "outputs": [
      {
       "output_type": "stream",
       "stream": "stdout",
       "text": [
        "8XTMAJ  "
       ]
      },
      {
       "output_type": "stream",
       "stream": "stdout",
       "text": [
        "0WU2WR  "
       ]
      },
      {
       "output_type": "stream",
       "stream": "stdout",
       "text": [
        "AG3EJA  "
       ]
      },
      {
       "output_type": "stream",
       "stream": "stdout",
       "text": [
        "7YLUG1  "
       ]
      },
      {
       "output_type": "stream",
       "stream": "stdout",
       "text": [
        "QUWNA2  "
       ]
      },
      {
       "output_type": "stream",
       "stream": "stdout",
       "text": [
        "IKTFB5  "
       ]
      },
      {
       "output_type": "stream",
       "stream": "stdout",
       "text": [
        "02KF9U  "
       ]
      },
      {
       "output_type": "stream",
       "stream": "stdout",
       "text": [
        "JU615M  "
       ]
      },
      {
       "output_type": "stream",
       "stream": "stdout",
       "text": [
        "93WHIB  "
       ]
      },
      {
       "output_type": "stream",
       "stream": "stdout",
       "text": [
        "ZMV313  "
       ]
      },
      {
       "output_type": "stream",
       "stream": "stdout",
       "text": [
        "L7NHVF  "
       ]
      },
      {
       "output_type": "stream",
       "stream": "stdout",
       "text": [
        "36HUXB  "
       ]
      },
      {
       "output_type": "stream",
       "stream": "stdout",
       "text": [
        "OVM0I1  "
       ]
      },
      {
       "output_type": "stream",
       "stream": "stdout",
       "text": [
        "PBF5LB  "
       ]
      },
      {
       "output_type": "stream",
       "stream": "stdout",
       "text": [
        "WN0C9X  "
       ]
      },
      {
       "output_type": "stream",
       "stream": "stdout",
       "text": [
        "S42QH4  "
       ]
      },
      {
       "output_type": "stream",
       "stream": "stdout",
       "text": [
        "1F9CEL  "
       ]
      },
      {
       "output_type": "stream",
       "stream": "stdout",
       "text": [
        "L5A2HM  "
       ]
      },
      {
       "output_type": "stream",
       "stream": "stdout",
       "text": [
        "5GNOOU  "
       ]
      },
      {
       "output_type": "stream",
       "stream": "stdout",
       "text": [
        "D3627D  "
       ]
      },
      {
       "output_type": "stream",
       "stream": "stdout",
       "text": [
        "8K6WF5  "
       ]
      },
      {
       "output_type": "stream",
       "stream": "stdout",
       "text": [
        "6Y4ZHK  "
       ]
      },
      {
       "output_type": "stream",
       "stream": "stdout",
       "text": [
        "657DAA  "
       ]
      },
      {
       "output_type": "stream",
       "stream": "stdout",
       "text": [
        "888O4E  "
       ]
      },
      {
       "output_type": "stream",
       "stream": "stdout",
       "text": [
        "P4UQQV  "
       ]
      },
      {
       "output_type": "stream",
       "stream": "stdout",
       "text": [
        "POD0TO  "
       ]
      },
      {
       "output_type": "stream",
       "stream": "stdout",
       "text": [
        "NWLM4P  "
       ]
      },
      {
       "output_type": "stream",
       "stream": "stdout",
       "text": [
        "KQLYNM  "
       ]
      },
      {
       "output_type": "stream",
       "stream": "stdout",
       "text": [
        "T9B240  "
       ]
      },
      {
       "output_type": "stream",
       "stream": "stdout",
       "text": [
        "Q8IMGQ  "
       ]
      },
      {
       "output_type": "stream",
       "stream": "stdout",
       "text": [
        "BNMTY6  "
       ]
      },
      {
       "output_type": "stream",
       "stream": "stdout",
       "text": [
        "17UZK4  "
       ]
      },
      {
       "output_type": "stream",
       "stream": "stdout",
       "text": [
        "7T1T4X  "
       ]
      },
      {
       "output_type": "stream",
       "stream": "stdout",
       "text": [
        "A2V75H  "
       ]
      },
      {
       "output_type": "stream",
       "stream": "stdout",
       "text": [
        "PYUK4R  "
       ]
      },
      {
       "output_type": "stream",
       "stream": "stdout",
       "text": [
        "75X6W6  "
       ]
      },
      {
       "output_type": "stream",
       "stream": "stdout",
       "text": [
        "ASTEG5  "
       ]
      },
      {
       "output_type": "stream",
       "stream": "stdout",
       "text": [
        "ETBDXL  "
       ]
      },
      {
       "output_type": "stream",
       "stream": "stdout",
       "text": [
        "QFWLIL  "
       ]
      },
      {
       "output_type": "stream",
       "stream": "stdout",
       "text": [
        "9ENXKX  "
       ]
      },
      {
       "output_type": "stream",
       "stream": "stdout",
       "text": [
        "QKCQVS  "
       ]
      },
      {
       "output_type": "stream",
       "stream": "stdout",
       "text": [
        "3TWE3P  "
       ]
      },
      {
       "output_type": "stream",
       "stream": "stdout",
       "text": [
        "UOBILW  "
       ]
      },
      {
       "output_type": "stream",
       "stream": "stdout",
       "text": [
        "ILBSK7  "
       ]
      },
      {
       "output_type": "stream",
       "stream": "stdout",
       "text": [
        "QM6IZX  "
       ]
      },
      {
       "output_type": "stream",
       "stream": "stdout",
       "text": [
        "Y0U4B6  "
       ]
      },
      {
       "output_type": "stream",
       "stream": "stdout",
       "text": [
        "IX1TK3  "
       ]
      },
      {
       "output_type": "stream",
       "stream": "stdout",
       "text": [
        "LCO0E3  "
       ]
      },
      {
       "output_type": "stream",
       "stream": "stdout",
       "text": [
        "ZTKR4Q  "
       ]
      },
      {
       "output_type": "stream",
       "stream": "stdout",
       "text": [
        "CRJIZU  "
       ]
      },
      {
       "output_type": "stream",
       "stream": "stdout",
       "text": [
        "3S4JIK  "
       ]
      },
      {
       "output_type": "stream",
       "stream": "stdout",
       "text": [
        "UCZZEI  "
       ]
      },
      {
       "output_type": "stream",
       "stream": "stdout",
       "text": [
        "K2CGTU  "
       ]
      },
      {
       "output_type": "stream",
       "stream": "stdout",
       "text": [
        "IGQIVH  "
       ]
      },
      {
       "output_type": "stream",
       "stream": "stdout",
       "text": [
        "PFRSHQ  "
       ]
      },
      {
       "output_type": "stream",
       "stream": "stdout",
       "text": [
        "5ABFIV  "
       ]
      },
      {
       "output_type": "stream",
       "stream": "stdout",
       "text": [
        "N9Q3OJ  "
       ]
      },
      {
       "output_type": "stream",
       "stream": "stdout",
       "text": [
        "PCVLVO  "
       ]
      },
      {
       "output_type": "stream",
       "stream": "stdout",
       "text": [
        "5NIR1L  "
       ]
      },
      {
       "output_type": "stream",
       "stream": "stdout",
       "text": [
        "H0LZLF  "
       ]
      },
      {
       "output_type": "stream",
       "stream": "stdout",
       "text": [
        "CH0IMY  "
       ]
      },
      {
       "output_type": "stream",
       "stream": "stdout",
       "text": [
        "NKJ6S5  "
       ]
      },
      {
       "output_type": "stream",
       "stream": "stdout",
       "text": [
        "YDOMQZ  "
       ]
      },
      {
       "output_type": "stream",
       "stream": "stdout",
       "text": [
        "E2SGCS  "
       ]
      },
      {
       "output_type": "stream",
       "stream": "stdout",
       "text": [
        "2T4LV2  "
       ]
      },
      {
       "output_type": "stream",
       "stream": "stdout",
       "text": [
        "R92RGI  "
       ]
      },
      {
       "output_type": "stream",
       "stream": "stdout",
       "text": [
        "JU7OCQ  "
       ]
      },
      {
       "output_type": "stream",
       "stream": "stdout",
       "text": [
        "OH4YCH  "
       ]
      },
      {
       "output_type": "stream",
       "stream": "stdout",
       "text": [
        "QNHHL6  "
       ]
      },
      {
       "output_type": "stream",
       "stream": "stdout",
       "text": [
        "6P4RFK  "
       ]
      },
      {
       "output_type": "stream",
       "stream": "stdout",
       "text": [
        "D82X04  "
       ]
      },
      {
       "output_type": "stream",
       "stream": "stdout",
       "text": [
        "19CPN8  "
       ]
      },
      {
       "output_type": "stream",
       "stream": "stdout",
       "text": [
        "ZIGFMM  "
       ]
      },
      {
       "output_type": "stream",
       "stream": "stdout",
       "text": [
        "TZDP73  "
       ]
      },
      {
       "output_type": "stream",
       "stream": "stdout",
       "text": [
        "NK2SEL  "
       ]
      },
      {
       "output_type": "stream",
       "stream": "stdout",
       "text": [
        "JX0CW5  "
       ]
      },
      {
       "output_type": "stream",
       "stream": "stdout",
       "text": [
        "QZMOCY  "
       ]
      },
      {
       "output_type": "stream",
       "stream": "stdout",
       "text": [
        "ZX2V17  "
       ]
      },
      {
       "output_type": "stream",
       "stream": "stdout",
       "text": [
        "N7LG3U  "
       ]
      },
      {
       "output_type": "stream",
       "stream": "stdout",
       "text": [
        "HRY4HI  "
       ]
      },
      {
       "output_type": "stream",
       "stream": "stdout",
       "text": [
        "BLPO1W  "
       ]
      },
      {
       "output_type": "stream",
       "stream": "stdout",
       "text": [
        "W6HNZP  "
       ]
      },
      {
       "output_type": "stream",
       "stream": "stdout",
       "text": [
        "NSMVX7  "
       ]
      },
      {
       "output_type": "stream",
       "stream": "stdout",
       "text": [
        "MVSIRL  "
       ]
      },
      {
       "output_type": "stream",
       "stream": "stdout",
       "text": [
        "KCVK5T  "
       ]
      },
      {
       "output_type": "stream",
       "stream": "stdout",
       "text": [
        "9Y4MNR  "
       ]
      },
      {
       "output_type": "stream",
       "stream": "stdout",
       "text": [
        "G3DNTF  "
       ]
      },
      {
       "output_type": "stream",
       "stream": "stdout",
       "text": [
        "0KEFY0  "
       ]
      },
      {
       "output_type": "stream",
       "stream": "stdout",
       "text": [
        "MIS5ZX  "
       ]
      },
      {
       "output_type": "stream",
       "stream": "stdout",
       "text": [
        "LE47EG  "
       ]
      },
      {
       "output_type": "stream",
       "stream": "stdout",
       "text": [
        "2PLPV0  "
       ]
      },
      {
       "output_type": "stream",
       "stream": "stdout",
       "text": [
        "PFJF0B  "
       ]
      },
      {
       "output_type": "stream",
       "stream": "stdout",
       "text": [
        "EM55FM  "
       ]
      },
      {
       "output_type": "stream",
       "stream": "stdout",
       "text": [
        "M3HANA  "
       ]
      },
      {
       "output_type": "stream",
       "stream": "stdout",
       "text": [
        "0YABMF  "
       ]
      },
      {
       "output_type": "stream",
       "stream": "stdout",
       "text": [
        "7FOSEF  "
       ]
      },
      {
       "output_type": "stream",
       "stream": "stdout",
       "text": [
        "I1PRFB  "
       ]
      },
      {
       "output_type": "stream",
       "stream": "stdout",
       "text": [
        "58O848  "
       ]
      },
      {
       "output_type": "stream",
       "stream": "stdout",
       "text": [
        "ZEG7XN  "
       ]
      },
      {
       "output_type": "stream",
       "stream": "stdout",
       "text": [
        "H7G61F \n"
       ]
      }
     ],
     "prompt_number": 51
    },
    {
     "cell_type": "code",
     "collapsed": false,
     "input": [
      "correct_ssm, total_ssm = matching.folderMatch(directory, dt, matching.spectralMatchMMC, thresholds_spectralMMC, keypoint, descriptor)"
     ],
     "language": "python",
     "metadata": {},
     "outputs": [
      {
       "output_type": "stream",
       "stream": "stdout",
       "text": [
        "8XTMAJ  "
       ]
      },
      {
       "output_type": "stream",
       "stream": "stdout",
       "text": [
        "0WU2WR  "
       ]
      },
      {
       "output_type": "stream",
       "stream": "stdout",
       "text": [
        "AG3EJA  "
       ]
      },
      {
       "output_type": "stream",
       "stream": "stdout",
       "text": [
        "7YLUG1  "
       ]
      },
      {
       "output_type": "stream",
       "stream": "stdout",
       "text": [
        "QUWNA2  "
       ]
      },
      {
       "output_type": "stream",
       "stream": "stdout",
       "text": [
        "IKTFB5  "
       ]
      },
      {
       "output_type": "stream",
       "stream": "stdout",
       "text": [
        "02KF9U  "
       ]
      },
      {
       "output_type": "stream",
       "stream": "stdout",
       "text": [
        "JU615M  "
       ]
      },
      {
       "output_type": "stream",
       "stream": "stdout",
       "text": [
        "93WHIB  "
       ]
      },
      {
       "output_type": "stream",
       "stream": "stdout",
       "text": [
        "ZMV313  "
       ]
      },
      {
       "output_type": "stream",
       "stream": "stdout",
       "text": [
        "L7NHVF  "
       ]
      },
      {
       "output_type": "stream",
       "stream": "stdout",
       "text": [
        "36HUXB  "
       ]
      },
      {
       "output_type": "stream",
       "stream": "stdout",
       "text": [
        "OVM0I1  "
       ]
      },
      {
       "output_type": "stream",
       "stream": "stdout",
       "text": [
        "PBF5LB  "
       ]
      },
      {
       "output_type": "stream",
       "stream": "stdout",
       "text": [
        "WN0C9X  "
       ]
      },
      {
       "output_type": "stream",
       "stream": "stdout",
       "text": [
        "S42QH4  "
       ]
      },
      {
       "output_type": "stream",
       "stream": "stdout",
       "text": [
        "1F9CEL  "
       ]
      },
      {
       "output_type": "stream",
       "stream": "stdout",
       "text": [
        "L5A2HM  "
       ]
      },
      {
       "output_type": "stream",
       "stream": "stdout",
       "text": [
        "5GNOOU  "
       ]
      },
      {
       "output_type": "stream",
       "stream": "stdout",
       "text": [
        "D3627D  "
       ]
      },
      {
       "output_type": "stream",
       "stream": "stdout",
       "text": [
        "8K6WF5  "
       ]
      },
      {
       "output_type": "stream",
       "stream": "stdout",
       "text": [
        "6Y4ZHK  "
       ]
      },
      {
       "output_type": "stream",
       "stream": "stdout",
       "text": [
        "657DAA  "
       ]
      },
      {
       "output_type": "stream",
       "stream": "stdout",
       "text": [
        "888O4E  "
       ]
      },
      {
       "output_type": "stream",
       "stream": "stdout",
       "text": [
        "P4UQQV  "
       ]
      },
      {
       "output_type": "stream",
       "stream": "stdout",
       "text": [
        "POD0TO  "
       ]
      },
      {
       "output_type": "stream",
       "stream": "stdout",
       "text": [
        "NWLM4P  "
       ]
      },
      {
       "output_type": "stream",
       "stream": "stdout",
       "text": [
        "KQLYNM  "
       ]
      },
      {
       "output_type": "stream",
       "stream": "stdout",
       "text": [
        "T9B240  "
       ]
      },
      {
       "output_type": "stream",
       "stream": "stdout",
       "text": [
        "Q8IMGQ  "
       ]
      },
      {
       "output_type": "stream",
       "stream": "stdout",
       "text": [
        "BNMTY6  "
       ]
      },
      {
       "output_type": "stream",
       "stream": "stdout",
       "text": [
        "17UZK4  "
       ]
      },
      {
       "output_type": "stream",
       "stream": "stdout",
       "text": [
        "7T1T4X  "
       ]
      },
      {
       "output_type": "stream",
       "stream": "stdout",
       "text": [
        "A2V75H  "
       ]
      },
      {
       "output_type": "stream",
       "stream": "stdout",
       "text": [
        "PYUK4R  "
       ]
      },
      {
       "output_type": "stream",
       "stream": "stdout",
       "text": [
        "75X6W6  "
       ]
      },
      {
       "output_type": "stream",
       "stream": "stdout",
       "text": [
        "ASTEG5  "
       ]
      },
      {
       "output_type": "stream",
       "stream": "stdout",
       "text": [
        "ETBDXL  "
       ]
      },
      {
       "output_type": "stream",
       "stream": "stdout",
       "text": [
        "QFWLIL  "
       ]
      },
      {
       "output_type": "stream",
       "stream": "stdout",
       "text": [
        "9ENXKX  "
       ]
      },
      {
       "output_type": "stream",
       "stream": "stdout",
       "text": [
        "QKCQVS  "
       ]
      },
      {
       "output_type": "stream",
       "stream": "stdout",
       "text": [
        "3TWE3P  "
       ]
      },
      {
       "output_type": "stream",
       "stream": "stdout",
       "text": [
        "UOBILW  "
       ]
      },
      {
       "output_type": "stream",
       "stream": "stdout",
       "text": [
        "ILBSK7  "
       ]
      },
      {
       "output_type": "stream",
       "stream": "stdout",
       "text": [
        "QM6IZX  "
       ]
      },
      {
       "output_type": "stream",
       "stream": "stdout",
       "text": [
        "Y0U4B6  "
       ]
      },
      {
       "output_type": "stream",
       "stream": "stdout",
       "text": [
        "IX1TK3  "
       ]
      },
      {
       "output_type": "stream",
       "stream": "stdout",
       "text": [
        "LCO0E3  "
       ]
      },
      {
       "output_type": "stream",
       "stream": "stdout",
       "text": [
        "ZTKR4Q  "
       ]
      },
      {
       "output_type": "stream",
       "stream": "stdout",
       "text": [
        "CRJIZU  "
       ]
      },
      {
       "output_type": "stream",
       "stream": "stdout",
       "text": [
        "3S4JIK  "
       ]
      },
      {
       "output_type": "stream",
       "stream": "stdout",
       "text": [
        "UCZZEI  "
       ]
      },
      {
       "output_type": "stream",
       "stream": "stdout",
       "text": [
        "K2CGTU  "
       ]
      },
      {
       "output_type": "stream",
       "stream": "stdout",
       "text": [
        "IGQIVH  "
       ]
      },
      {
       "output_type": "stream",
       "stream": "stdout",
       "text": [
        "PFRSHQ  "
       ]
      },
      {
       "output_type": "stream",
       "stream": "stdout",
       "text": [
        "5ABFIV  "
       ]
      },
      {
       "output_type": "stream",
       "stream": "stdout",
       "text": [
        "N9Q3OJ  "
       ]
      },
      {
       "output_type": "stream",
       "stream": "stdout",
       "text": [
        "PCVLVO  "
       ]
      },
      {
       "output_type": "stream",
       "stream": "stdout",
       "text": [
        "5NIR1L  "
       ]
      },
      {
       "output_type": "stream",
       "stream": "stdout",
       "text": [
        "H0LZLF  "
       ]
      },
      {
       "output_type": "stream",
       "stream": "stdout",
       "text": [
        "CH0IMY  "
       ]
      },
      {
       "output_type": "stream",
       "stream": "stdout",
       "text": [
        "NKJ6S5  "
       ]
      },
      {
       "output_type": "stream",
       "stream": "stdout",
       "text": [
        "YDOMQZ  "
       ]
      },
      {
       "output_type": "stream",
       "stream": "stdout",
       "text": [
        "E2SGCS  "
       ]
      },
      {
       "output_type": "stream",
       "stream": "stdout",
       "text": [
        "2T4LV2  "
       ]
      },
      {
       "output_type": "stream",
       "stream": "stdout",
       "text": [
        "R92RGI  "
       ]
      },
      {
       "output_type": "stream",
       "stream": "stdout",
       "text": [
        "JU7OCQ  "
       ]
      },
      {
       "output_type": "stream",
       "stream": "stdout",
       "text": [
        "OH4YCH  "
       ]
      },
      {
       "output_type": "stream",
       "stream": "stdout",
       "text": [
        "QNHHL6  "
       ]
      },
      {
       "output_type": "stream",
       "stream": "stdout",
       "text": [
        "6P4RFK  "
       ]
      },
      {
       "output_type": "stream",
       "stream": "stdout",
       "text": [
        "D82X04  "
       ]
      },
      {
       "output_type": "stream",
       "stream": "stdout",
       "text": [
        "19CPN8  "
       ]
      },
      {
       "output_type": "stream",
       "stream": "stdout",
       "text": [
        "ZIGFMM  "
       ]
      },
      {
       "output_type": "stream",
       "stream": "stdout",
       "text": [
        "TZDP73  "
       ]
      },
      {
       "output_type": "stream",
       "stream": "stdout",
       "text": [
        "NK2SEL  "
       ]
      },
      {
       "output_type": "stream",
       "stream": "stdout",
       "text": [
        "JX0CW5  "
       ]
      },
      {
       "output_type": "stream",
       "stream": "stdout",
       "text": [
        "QZMOCY  "
       ]
      },
      {
       "output_type": "stream",
       "stream": "stdout",
       "text": [
        "ZX2V17  "
       ]
      },
      {
       "output_type": "stream",
       "stream": "stdout",
       "text": [
        "N7LG3U  "
       ]
      },
      {
       "output_type": "stream",
       "stream": "stdout",
       "text": [
        "HRY4HI  "
       ]
      },
      {
       "output_type": "stream",
       "stream": "stdout",
       "text": [
        "BLPO1W  "
       ]
      },
      {
       "output_type": "stream",
       "stream": "stdout",
       "text": [
        "W6HNZP  "
       ]
      },
      {
       "output_type": "stream",
       "stream": "stdout",
       "text": [
        "NSMVX7  "
       ]
      },
      {
       "output_type": "stream",
       "stream": "stdout",
       "text": [
        "MVSIRL  "
       ]
      },
      {
       "output_type": "stream",
       "stream": "stdout",
       "text": [
        "KCVK5T  "
       ]
      },
      {
       "output_type": "stream",
       "stream": "stdout",
       "text": [
        "9Y4MNR  "
       ]
      },
      {
       "output_type": "stream",
       "stream": "stdout",
       "text": [
        "G3DNTF  "
       ]
      },
      {
       "output_type": "stream",
       "stream": "stdout",
       "text": [
        "0KEFY0  "
       ]
      },
      {
       "output_type": "stream",
       "stream": "stdout",
       "text": [
        "MIS5ZX  "
       ]
      },
      {
       "output_type": "stream",
       "stream": "stdout",
       "text": [
        "LE47EG  "
       ]
      },
      {
       "output_type": "stream",
       "stream": "stdout",
       "text": [
        "2PLPV0  "
       ]
      },
      {
       "output_type": "stream",
       "stream": "stdout",
       "text": [
        "PFJF0B  "
       ]
      },
      {
       "output_type": "stream",
       "stream": "stdout",
       "text": [
        "EM55FM  "
       ]
      },
      {
       "output_type": "stream",
       "stream": "stdout",
       "text": [
        "M3HANA  "
       ]
      },
      {
       "output_type": "stream",
       "stream": "stdout",
       "text": [
        "0YABMF  "
       ]
      },
      {
       "output_type": "stream",
       "stream": "stdout",
       "text": [
        "7FOSEF  "
       ]
      },
      {
       "output_type": "stream",
       "stream": "stdout",
       "text": [
        "I1PRFB  "
       ]
      },
      {
       "output_type": "stream",
       "stream": "stdout",
       "text": [
        "58O848  "
       ]
      },
      {
       "output_type": "stream",
       "stream": "stdout",
       "text": [
        "ZEG7XN  "
       ]
      },
      {
       "output_type": "stream",
       "stream": "stdout",
       "text": [
        "H7G61F \n"
       ]
      }
     ],
     "prompt_number": 15
    },
    {
     "cell_type": "code",
     "collapsed": false,
     "input": [
      "# Save data\n",
      "numpy.savez(directory + \"data\", \n",
      "            NN_Ratio = (correct_us, total_us), \n",
      "            MM = (correct_ms, total_ms), \n",
      "            MMC = (correct_cs, total_cs), \n",
      "            Isodata = (correct_is, total_is), \n",
      "            Spectral = (correct_ss, total_ss), \n",
      "            SpectralMMC = (correct_ssm, total_ssm),\n",
      "            correspondences = nb_correspondences)"
     ],
     "language": "python",
     "metadata": {},
     "outputs": [],
     "prompt_number": 71
    },
    {
     "cell_type": "code",
     "collapsed": false,
     "input": [
      "# Load data\n",
      "data = numpy.load(directory + \"data.npz\")\n",
      "correct_us, total_us = data['NN_Ratio']\n",
      "correct_ms, total_ms = data['MM']\n",
      "correct_cs, total_cs = data['MMC']\n",
      "correct_is, total_is = data['Isodata']\n",
      "correct_ss, total_ss = data['Spectral']\n",
      "correct_ssm, total_ssm = data['SpectralMMC']\n",
      "nb_correspondences = data['correspondences']"
     ],
     "language": "python",
     "metadata": {},
     "outputs": [],
     "prompt_number": 4
    },
    {
     "cell_type": "code",
     "collapsed": false,
     "input": [
      "display.accuPlot(\n",
      "    [correct_cs, correct_ms, correct_is, correct_ss, correct_us], \n",
      "    [total_cs, total_ms, total_is, total_ss, total_us], \n",
      "    [\"MMC\", \"MM\", \"Isodata\", \"Spectral\", \"NN-Ratio\"],\n",
      "    colors = [\"green\", \"red\", \"orange\" ,\"maroon\", \"blue\"],\n",
      "    nb_correspondences = nb_correspondences, \n",
      "    size=(7,3), ylim=(0.5,1.01), xlim=0.05,\n",
      "    output = \"result_pitts.pdf\")"
     ],
     "language": "python",
     "metadata": {},
     "outputs": [
      {
       "output_type": "display_data",
       "png": "[encoded data removed]"
      }
     ],
     "prompt_number": 5
    },
    {
     "cell_type": "code",
     "collapsed": false,
     "input": [
      "display.accuPlot(\n",
      "    [correct_ss, correct_ssm, correct_cs], \n",
      "    [total_ss, total_ssm, total_cs],\n",
      "    [\"Spectral\", \"Spectral MMC\", \"MMC\"],\n",
      "    nb_correspondences = nb_correspondences,\n",
      "    colors = [\"maroon\", \"purple\", \"green\", \"orange\", \"purple\"], \n",
      "    size=(5,4), ylim=(0.5,1.01), xlim=0.05)"
     ],
     "language": "python",
     "metadata": {},
     "outputs": [
      {
       "output_type": "display_data",
       "png": "[encoded data removed]"
      }
     ],
     "prompt_number": 42
    }
   ],
   "metadata": {}
  }
 ]
}
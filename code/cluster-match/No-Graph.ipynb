{
 "metadata": {
  "name": "No-Graph"
 },
 "nbformat": 3,
 "nbformat_minor": 0,
 "worksheets": [
  {
   "cells": [
    {
     "cell_type": "code",
     "collapsed": false,
     "input": [
      "#Stupid hack to load files from sibling dir\n",
      "import sys; import os\n",
      "sys.path.insert(0, os.path.abspath('..'))"
     ],
     "language": "python",
     "metadata": {},
     "outputs": [],
     "prompt_number": 1
    },
    {
     "cell_type": "code",
     "collapsed": false,
     "input": [
      "import os\n",
      "import fnmatch\n",
      "import features\n",
      "import featureGraph\n",
      "import weightMatrix\n",
      "import scoring\n",
      "import display\n",
      "import numpy\n",
      "import preprocessing\n",
      "from random import sample\n",
      "import graph_tool.all as gt\n",
      "\n",
      "testset = \"../../images/testsets/small_test/\"\n",
      "#testset = \"../../images/testsets/Gallagher_small_unresized/\"\n",
      "\n",
      "# Get a list of all images\n",
      "all_paths = [testset + f for (_,_,filenames) in os.walk(testset) for f in fnmatch.filter(filenames, \"*.png\")]\n",
      "paths = sample(all_paths, 2)\n",
      "#while features.getLabel(paths[0]) != features.getLabel(paths[1]) :\n",
      "#    paths = sample(all_paths, 2)\n",
      "print(paths)"
     ],
     "language": "python",
     "metadata": {},
     "outputs": [
      {
       "output_type": "stream",
       "stream": "stdout",
       "text": [
        "['../../images/testsets/small_test/Bill_Gates_0004.png', '../../images/testsets/small_test/Anna_Kournikova_0010.png']\n"
       ]
      }
     ],
     "prompt_number": 2
    },
    {
     "cell_type": "code",
     "collapsed": false,
     "input": [
      "indices, keypoints, descriptors = featureGraph.getDescriptors(paths)\n",
      "print(\"Number of keypoints: %i\" % (len(keypoints)))\n",
      "images = map(features.loadImage, paths)\n",
      "labels = map(features.getLabel, paths)\n",
      "print(labels)\n",
      "from scipy.sparse import *\n",
      "\n",
      "# Get weights\n",
      "full_weights = weightMatrix.init(descriptors)\n",
      "score_weights = weightMatrix.pruneTreshold(full_weights, 20)\n",
      "cluster_weights = weightMatrix.pruneHighest(score_weights, 3)\n",
      "\n",
      "cluster_graph = featureGraph.init(cluster_weights)"
     ],
     "language": "python",
     "metadata": {},
     "outputs": [
      {
       "output_type": "stream",
       "stream": "stdout",
       "text": [
        "Number of keypoints: 380\n",
        "['Bill Gates', 'Anna Kournikova']\n"
       ]
      }
     ],
     "prompt_number": 9
    },
    {
     "cell_type": "code",
     "collapsed": false,
     "input": [
      "def louvain(weights, verbose=False) :\n",
      "    indices = numpy.arange(0, weights.shape[0])\n",
      "    partitions = indices.copy()\n",
      "    K = weights.sum()\n",
      "    moved = 1\n",
      "    while (moved > 0) :\n",
      "        moved = sum([move(weights, i, partitions, K) for i in indices])\n",
      "        if verbose : print(\"Moved %i vertices\" % moved)\n",
      "    return partitions\n",
      "\n",
      "\n",
      "def move(weights, index, partitions, K) :\n",
      "    # Move out of partition\n",
      "    old_partition = partitions[index]\n",
      "    partitions[index] = -1\n",
      "    # See how much we would gain from moving p back to orig_partition\n",
      "    lost_Q = deltaQ(weights, index, (old_partition == partitions), K)\n",
      "    # What is the best gain elsewhere?\n",
      "    prospects = set(partitions[numpy.nonzero(weights[index])])\n",
      "    prospect_Q = [(deltaQ(weights, index, (p == partitions), K), p) for p in prospects]\n",
      "    max_gained_Q = max(prospect_Q) if (len(prospect_Q) > 0) else (-1,-1)\n",
      "    # Is it worth moving?\n",
      "    delta = max_gained_Q[0] - lost_Q\n",
      "    if (delta > 0) : \n",
      "        partitions[index] = max_gained_Q[1]\n",
      "        return 1\n",
      "    else : \n",
      "        partitions[index] = old_partition\n",
      "        return 0\n",
      "\n",
      "def prospect_set(weights, index, partitions) :\n",
      "    return set(partitions[weights[index] != 0])\n",
      "\n",
      "# Gain in Q from moving index to new_partition\n",
      "def deltaQ(weights, index, partition_mask, K) :\n",
      "    v_edges = weights[index]\n",
      "    v_weight = 2.0 * v_edges[partition_mask].sum()\n",
      "    k_neighbours = weights[partition_mask,:].sum()\n",
      "    k_v = v_edges.sum()\n",
      "    return 1.0/K * (v_weight - (k_v * k_neighbours) / K)\n",
      "\n",
      "    \n",
      "    \n",
      "partition = louvain(cluster_weights, verbose=True)\n",
      "print(partition)\n",
      "#louvain.cluster(cluster_graph, verbose=True)"
     ],
     "language": "python",
     "metadata": {},
     "outputs": [
      {
       "output_type": "stream",
       "stream": "stdout",
       "text": [
        "Moved 310 vertices\n",
        "Moved 91 vertices"
       ]
      },
      {
       "output_type": "stream",
       "stream": "stdout",
       "text": [
        "\n",
        "Moved 22 vertices"
       ]
      },
      {
       "output_type": "stream",
       "stream": "stdout",
       "text": [
        "\n",
        "Moved 9 vertices"
       ]
      },
      {
       "output_type": "stream",
       "stream": "stdout",
       "text": [
        "\n",
        "Moved 3 vertices"
       ]
      },
      {
       "output_type": "stream",
       "stream": "stdout",
       "text": [
        "\n",
        "Moved 1 vertices"
       ]
      },
      {
       "output_type": "stream",
       "stream": "stdout",
       "text": [
        "\n",
        "Moved 0 vertices"
       ]
      },
      {
       "output_type": "stream",
       "stream": "stdout",
       "text": [
        "\n",
        "[ 48 241  48 241 226 185 243 129  98  55  55 262 190 106 230 106 103 230\n",
        " 190 106  66  21  66 140  66 142  69 235 114 265 147 235 236 147 265  75\n",
        "  76 220 180 224 155 155 156  86  87  87  87 241  48 129 226 185 243  98\n",
        "  55  55 190 262  86 230 106 230  66 140  66 140  66 142 256  69 265 147\n",
        "  69 235 236  75  76 221 220 180 180 155 224 155 156 155  86  87  86  48\n",
        "  48 241 129 226 185 243 129 207  98  55 190 106  87 103 230 190 106 140\n",
        "  66 142 256  69 265 147 114 235 147 236  75  76 221 220 180 224 155  86\n",
        "  87  48 241 129 226 185 243  98 190  66  87 230 230  66 140  66 142  66\n",
        " 147 114 235 147 236  75  76 221 220 221 180 155 156 155  87 226 185 243\n",
        " 207 262 190  86 230 140  66 142 256 114 265 147 114 235 236  76 221 220\n",
        " 180 224 155 156 226 185 243 224 262 190 190 230 140 142 265 147 235 236\n",
        " 237 220 221 180 224 155 226 185 129 207 243 262 190 230 140 142 256 265\n",
        " 147 235 236 237 220 221 180 180 224  48 226 185 243 190 230 142 256 265\n",
        " 147 235 236 237 220 180 180 241 226 243  98 243 142 265 235 236  76 235\n",
        " 262 190 230 142 256 235 147 235 236 220 262 190 256 265 237 235 236  98\n",
        " 190 256 237 236 325 361 351 376 351 325 361 351 376 376 355 329 374 140\n",
        " 140 312 312 325 325 325 325 312 236 361 376 351 376 361 351 376 329 376\n",
        " 355 140 312 351 325 325 312 376 351 361 376  98 329 376 355 140 351 325\n",
        " 312 325 376 351 361 329 376 374 140 325 351 325 325 376 351 376 361 329\n",
        " 376 355 374 140 376 351 325 325 376 351 376 361 329 355 376 374 140 376\n",
        " 351 361 376 376 378 351 376 378 374 351 376 378 374 351 374 351 376 351\n",
        " 378 374]\n"
       ]
      }
     ],
     "prompt_number": 12
    },
    {
     "cell_type": "code",
     "collapsed": false,
     "input": [
      "def modularity(weights, mask) :\n",
      "    K = weights.sum()\n",
      "    indices = numpy.arange(0,weights.shape[0])\n",
      "    internal_sum = weights[mask][:, mask].sum()\n",
      "    external_sum = weights[mask].sum()\n",
      "    fraction = (internal_sum / (K))\n",
      "    E_fraction = (external_sum / (K)) ** 2\n",
      "    return fraction - E_fraction\n",
      "\n",
      "print(modularity(cluster_weights, partition == 98))\n",
      "\n"
     ],
     "language": "python",
     "metadata": {},
     "outputs": [
      {
       "output_type": "stream",
       "stream": "stdout",
       "text": [
        "0.0102042954673\n"
       ]
      }
     ],
     "prompt_number": 78
    },
    {
     "cell_type": "code",
     "collapsed": false,
     "input": [
      "def scoreCluster(weights, partition_mask, image_indices, weight, scoring = lambda m,c : m + c if c > 0 else 0.0, verbose=False) : \n",
      "    def s(m,c,w) : return scoring(m,c) * w\n",
      "    \n",
      "    partition_weights = weights[partition_mask][:, partition_mask]\n",
      "    im_mask1 = image_indices[partition_mask] == 1\n",
      "    im_mask0 = image_indices[partition_mask] == 0\n",
      "    \n",
      "    if (im_mask1.sum() == 0 or im_mask0.sum() == 0) : return 0.0\n",
      "    \n",
      "\n",
      "    \n",
      "    if verbose : printResult(m,c,weight)\n",
      "    return scoring(m,c) * weight\n",
      "\n",
      "scoreCluster(cluster_weights, partition == 98, numpy.array(ind), 1.0, verbose=True)"
     ],
     "language": "python",
     "metadata": {},
     "outputs": [
      {
       "output_type": "stream",
       "stream": "stdout",
       "text": [
        "[ True  True  True  True  True  True False]\n",
        "[False False False False False False  True]\n",
        "[48]\tm: +0.0102, c: +0.0109, u_s: +0.0211, s: +0.0211, w: 1.00\n"
       ]
      },
      {
       "output_type": "pyout",
       "prompt_number": 77,
       "text": [
        "0.021086071763750977"
       ]
      }
     ],
     "prompt_number": 77
    },
    {
     "cell_type": "code",
     "collapsed": false,
     "input": [
      "def scoreWeights(weights, partitions, image_indices, scoring = lambda m,c : m + c if c > 0 else 0.0, verbose=False) :\n",
      "\n",
      "    def printResult(i, m, c, w) : \n",
      "        print(\"[%i]\" % i + \"\\tm: %+0.4f\" % m + \", c: %+0.4f\" % c + \", u_s: %+0.4f\" % scoring(m,c) + \", s: %+0.4f\" % (scoring(m,c) * w) + \", w: %0.2f\" % w)\n",
      "    \n",
      "    def in_range(partition_mask, image_masks) :\n",
      "        return (image_masks[1].sum() != 0 and image_masks[0].sum() != 0)\n",
      "    \n",
      "    def score(index, im_masks, partition_mask, weight) :\n",
      "        \n",
      "        partition_weights = weights[partition_mask][:, partition_mask]\n",
      "        m = modularity(weights, partition_mask)\n",
      "        c = -1 * (modularity(partition_weights, im_masks[1]) + modularity(partition_weights, im_masks[0]))\n",
      "        if verbose : printResult(index, m,c,weight)\n",
      "        return scoring(m,c) * weight\n",
      "    \n",
      "    # Define range and precalculate modularity\n",
      "    partition_set = set(partitions)\n",
      "    \n",
      "    # Define masks\n",
      "    p_masks = [(p, partitions == p) for p in partition_set]\n",
      "    i_masks = [(image_indices[p] == 0,image_indices[p] == 1) for (i,p) in p_masks]\n",
      "    \n",
      "    # Create list of data\n",
      "    data = [(p_index, modularity(weights, p), p, im) for (p_index,p),im in zip(p_masks, i_masks) if in_range(p,im)]\n",
      "    mods_sum = numpy.sum([m for i, m, p, im in data])\n",
      "    data_norm = [(i, m/mods_sum, p, im) for i, m, p, im in data]\n",
      "    scores = [score(i, im, p, m) for i, m, p, im in data_norm]\n",
      "    partition_indices = [i for i, m, p, im in data]\n",
      "    \n",
      "    return scores, partition_indices\n",
      "\n",
      "scoreWeights(cluster_weights, partition, numpy.array(ind), verbose=True)"
     ],
     "language": "python",
     "metadata": {},
     "outputs": [
      {
       "output_type": "stream",
       "stream": "stdout",
       "text": [
        "[140]\tm: +0.0303, c: -0.3984, u_s: +0.0000, s: +0.0000, w: 0.42\n",
        "[98]\tm: +0.0102, c: +0.0109, u_s: +0.0211, s: +0.0030, w: 0.14\n",
        "[236]\tm: +0.0309, c: -0.0440, u_s: +0.0000, s: +0.0000, w: 0.43\n"
       ]
      },
      {
       "output_type": "pyout",
       "prompt_number": 95,
       "text": [
        "([0.0, 0.0030115679057830568, 0.0], [140, 98, 236])"
       ]
      }
     ],
     "prompt_number": 95
    },
    {
     "cell_type": "code",
     "collapsed": false,
     "input": [],
     "language": "python",
     "metadata": {},
     "outputs": [
      {
       "output_type": "pyout",
       "prompt_number": 47,
       "text": [
        "array([2])"
       ]
      }
     ],
     "prompt_number": 47
    },
    {
     "cell_type": "code",
     "collapsed": false,
     "input": [
      "%load_ext autoreload\n",
      "%autoreload 2"
     ],
     "language": "python",
     "metadata": {},
     "outputs": [],
     "prompt_number": 7
    }
   ],
   "metadata": {}
  }
 ]
}
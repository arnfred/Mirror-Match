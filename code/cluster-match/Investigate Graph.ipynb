{
 "metadata": {
  "name": "Investigate Graph"
 },
 "nbformat": 3,
 "nbformat_minor": 0,
 "worksheets": [
  {
   "cells": [
    {
     "cell_type": "code",
     "collapsed": false,
     "input": [
      "#Stupid hack to load files from sibling dir\n",
      "import sys; import os\n",
      "sys.path.insert(0, os.path.abspath('..'))\n",
      "\n",
      "%load_ext autoreload\n",
      "%autoreload 2"
     ],
     "language": "python",
     "metadata": {},
     "outputs": [],
     "prompt_number": 1063
    },
    {
     "cell_type": "code",
     "collapsed": false,
     "input": [
      "import display\n",
      "import weightMatrix\n",
      "import matching\n",
      "import clustermatch\n",
      "import featureGraph\n",
      "import louvain\n",
      "import features\n",
      "import numpy\n",
      "import scoring\n",
      "import cv2\n",
      "from itertools import combinations"
     ],
     "language": "python",
     "metadata": {},
     "outputs": [],
     "prompt_number": 1064
    },
    {
     "cell_type": "code",
     "collapsed": false,
     "input": [
      "#paths = ['../../images/gallagher/partial_match/100_1941.jpg', '../../images/gallagher/partial_match/100_1942.jpg']\n",
      "#paths = ['../../images/gallagher/partial_match/100_1951.jpg', '../../images/gallagher/partial_match/100_1952.jpg']\n",
      "#paths = ['../../images/gallagher/partial_match/100_1998.jpg', '../../images/gallagher/partial_match/100_1999.jpg']\n",
      "#paths = ['../../images/gallagher/partial_match/slide_2.jpg', '../../images/gallagher/partial_match/slide_1.jpg']\n",
      "#paths = ['../../images/gallagher/partial_match/boat_2.pgm', '../../images/gallagher/partial_match/boat_1.pgm']\n",
      "#paths = ['../../images/gallagher/partial_match/boat_3.pgm', '../../images/gallagher/partial_match/boat_1.pgm']\n",
      "#paths = ['../../images/gallagher/partial_match/boat_4.pgm', '../../images/gallagher/partial_match/boat_1.pgm']\n",
      "#paths = ['../../images/gallagher/partial_match/skyline_2.jpg', '../../images/gallagher/partial_match/skyline_1.jpg']\n",
      "#paths = ['../../images/gallagher/partial_match/stairs_2.jpg', '../../images/gallagher/partial_match/stairs_1.jpg']\n",
      "#paths = ['../../images/gallagher/partial_match/slide2_2.jpg', '../../images/gallagher/partial_match/slide2_1.jpg']\n",
      "paths = ['../../images/gallagher/partial_match/100_2151_small.jpg', '../../images/gallagher/partial_match/100_2154_small.jpg']\n",
      "#paths = ['../../images/gallagher/partial_match/100_1941_small.jpg', '../../images/gallagher/partial_match/100_1942_small.jpg']\n",
      "#paths = ['../../images/gallagher/partial_match/100_1951_small.jpg', '../../images/gallagher/partial_match/100_1952_small.jpg']\n",
      "#paths = ['../../images/gallagher/partial_match/100_1998_small.jpg', '../../images/gallagher/partial_match/100_1999_small.jpg']\n",
      "#paths = ['../../images/gallagher/partial_match/100_2151_vert.jpg', '../../images/gallagher/partial_match/100_2155_vert.jpg']\n",
      "#paths = ['../../images/gallagher/partial_match/skyline3_2.jpg', '../../images/gallagher/partial_match/skyline2_1.jpg']\n",
      "#paths = ['../../images/florian/3a.jpg', '../../images/florian/3b.jpg']\n",
      "#paths = ['../../images/florian/6a.jpg', '../../images/florian/6b.jpg']\n",
      "#paths = ['../../images/florian/freddy_2.jpg', '../../images/florian/freddy_1.jpg']\n",
      "#paths = ['../../images/gallagher/partial_match/boat_3.pgm', '../../images/gallagher/partial_match/boat_1.pgm']\n",
      "#paths = ['../../images/gallagher/partial_match/boat_2.pgm', '../../images/gallagher/partial_match/boat_1.pgm']\n",
      "#paths = ['../../images/gallaghr/partial_match/boat_4.pgm', '../../images/gallagher/partial_match/boat_1.pgm']"
     ],
     "language": "python",
     "metadata": {},
     "outputs": [],
     "prompt_number": 1065
    },
    {
     "cell_type": "code",
     "collapsed": false,
     "input": [
      "def getHomographyPath(paths) :\n",
      "    d = \"/\".join(paths[0].split('/')[0:-1])\n",
      "    p1 = paths[0].split('/')[-1].split(\".\")[0]\n",
      "    p2 = paths[1].split('/')[-1].split(\".\")[0]\n",
      "    return \"%s/%s_%s_hom.npy\" % (d, p1, p2)"
     ],
     "language": "python",
     "metadata": {},
     "outputs": [],
     "prompt_number": 1066
    },
    {
     "cell_type": "code",
     "collapsed": false,
     "input": [
      "#paths, homography = matching.getACRPaths(2,6,\"wall\")\n",
      "paths, homography = matching.getTestsetPaths(\"Scharf\",13)"
     ],
     "language": "python",
     "metadata": {},
     "outputs": [],
     "prompt_number": "*"
    },
    {
     "cell_type": "code",
     "collapsed": false,
     "input": [
      "# Get images\n",
      "images = map(features.loadImage, paths)\n",
      "keypoint_type = \"SIFT\"\n",
      "descriptor_type = \"SIFT\"\n",
      "\n",
      "# Get keypoints\n",
      "indices, ks, ds = features.getFeatures(paths, keypoint_type, descriptor_type)\n",
      "pos = features.getPositions(ks)\n",
      "positions = numpy.array(pos)"
     ],
     "language": "python",
     "metadata": {},
     "outputs": [],
     "prompt_number": "*"
    },
    {
     "cell_type": "code",
     "collapsed": false,
     "input": [
      "try :\n",
      "    homography_path = getHomographyPath(paths)\n",
      "    with open(homography_path) :\n",
      "        homography = numpy.loadtxt(homography_path)\n",
      "# In case the file doesn't exist, try to estimate something\n",
      "except IOError :\n",
      "    print(\"No homography found\")\n",
      "    #match_1, match_2 = zip(*matches)\n",
      "    #homography, blup = cv2.findHomography(numpy.array(match_1), numpy.array(match_2), cv2.RANSAC)\n",
      "print(homography)"
     ],
     "language": "python",
     "metadata": {},
     "outputs": [],
     "prompt_number": "*"
    },
    {
     "cell_type": "code",
     "collapsed": false,
     "input": [
      "# Calculate weight matrix\n",
      "weights = weightMatrix.init(ds, descriptor_type)"
     ],
     "language": "python",
     "metadata": {},
     "outputs": [],
     "prompt_number": "*"
    },
    {
     "cell_type": "code",
     "collapsed": false,
     "input": [
      "# display keypoints\n",
      "pos = numpy.array(features.getPositions(ks))\n",
      "display.compareKeypoints(images[0], images[1], pos[indices == 0], pos[indices == 1])"
     ],
     "language": "python",
     "metadata": {},
     "outputs": [],
     "prompt_number": "*"
    },
    {
     "cell_type": "code",
     "collapsed": false,
     "input": [
      "# Prune weights\n",
      "cluster_weights = weightMatrix.pruneTreshold(weights, 2.5)\n",
      "\n",
      "# Cluster weights\n",
      "partitions = clustermatch.cluster(cluster_weights, indices, split_limit = 500, prune_limit = 1.5, verbose = True)"
     ],
     "language": "python",
     "metadata": {},
     "outputs": [],
     "prompt_number": "*"
    },
    {
     "cell_type": "code",
     "collapsed": false,
     "input": [
      "# Create graph\n",
      "#g = featureGraph.init(cluster_weights)\n",
      "#featureGraph.setFeatureIndices(g, indices)\n",
      "#p = featureGraph.setPartition(g, partitions)\n",
      "\n",
      "# Print graph\n",
      "#display.draw_graph(g,p,size=(2000,2000))"
     ],
     "language": "python",
     "metadata": {},
     "outputs": [],
     "prompt_number": "*"
    },
    {
     "cell_type": "code",
     "collapsed": false,
     "input": [
      "# List matches\n",
      "treshold = 0.94\n",
      "matches = list(clustermatch.getPartitionMatches(\n",
      "    partitions, \n",
      "    cluster_weights, \n",
      "    weights, \n",
      "    indices, \n",
      "    treshold,   \n",
      "    verbose = True, \n",
      "    ks= ks, \n",
      "    homography = homography))\n",
      "\n",
      "distances = [matching.matchDistance(ks[i].pt, ks[j].pt, homography) for i,j in matches]\n",
      "\n",
      "nb_correct = numpy.sum([1 for d in distances if d < 10])\n",
      "correct = nb_correct / float(len(matches))\n",
      "print(\"Correct: %.3f%% (%i of %i)\" % (correct*100, nb_correct, len(matches)))"
     ],
     "language": "python",
     "metadata": {},
     "outputs": [],
     "prompt_number": "*"
    },
    {
     "cell_type": "code",
     "collapsed": false,
     "input": [
      "match_pos = [(features.getPosition(ks[i]), features.getPosition(ks[j])) for i,j in matches]\n",
      "display.matchPoints(images[0], images[1], match_pos, distances, filename=\"investigate-matches.png\")"
     ],
     "language": "python",
     "metadata": {},
     "outputs": [],
     "prompt_number": "*"
    },
    {
     "cell_type": "code",
     "collapsed": false,
     "input": [
      "# Get particular partition\n",
      "#cluster = featureGraph.getPartition(g, p, 3749)\n",
      "#cluster = featureGraph.setPositions(cluster, ks)\n",
      "#display.graph_on_images(cluster, images)"
     ],
     "language": "python",
     "metadata": {},
     "outputs": [],
     "prompt_number": "*"
    },
    {
     "cell_type": "code",
     "collapsed": false,
     "input": [],
     "language": "python",
     "metadata": {},
     "outputs": [],
     "prompt_number": "*"
    }
   ],
   "metadata": {}
  }
 ]
}
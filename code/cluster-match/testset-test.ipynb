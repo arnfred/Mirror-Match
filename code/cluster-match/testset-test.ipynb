{
 "metadata": {
  "name": "testset-test"
 },
 "nbformat": 3,
 "nbformat_minor": 0,
 "worksheets": [
  {
   "cells": [
    {
     "cell_type": "code",
     "collapsed": false,
     "input": [
      "#Stupid hack to load files from sibling dir\n",
      "import sys; import os\n",
      "sys.path.insert(0, os.path.abspath('..'))\n",
      "\n",
      "%load_ext autoreload\n",
      "%autoreload 2"
     ],
     "language": "python",
     "metadata": {},
     "outputs": [],
     "prompt_number": 1
    },
    {
     "cell_type": "code",
     "collapsed": false,
     "input": [
      "import features\n",
      "import display\n",
      "import weightMatrix\n",
      "import mirrormatch\n",
      "import matching"
     ],
     "language": "python",
     "metadata": {},
     "outputs": [],
     "prompt_number": 2
    },
    {
     "cell_type": "code",
     "collapsed": false,
     "input": [
      "paths, homography = matching.getTestsetPaths(\"Fairey Artwar\",0)"
     ],
     "language": "python",
     "metadata": {},
     "outputs": [],
     "prompt_number": 3
    },
    {
     "cell_type": "code",
     "collapsed": false,
     "input": [
      "dt = 10\n",
      "keypoint_type = \"SIFT\"\n",
      "descriptor_type = \"SIFT\""
     ],
     "language": "python",
     "metadata": {},
     "outputs": [],
     "prompt_number": 4
    },
    {
     "cell_type": "code",
     "collapsed": false,
     "input": [
      "dist_4 = matching.testMatch(paths, \n",
      "                             homography, \n",
      "                             matching.standardMatch,\n",
      "                             verbose = True,\n",
      "                             options = {\n",
      "                                 \"match_limit\" : 4000,\n",
      "                                 \"tresholds\" : [0.6],\n",
      "                                 \"unique_treshold\": 0.6,\n",
      "                                 \"prune\" : False,\n",
      "                                 \"distance_treshold\" : dt,\n",
      "                                 \"descriptor_type\" : descriptor_type,\n",
      "                                 \"keypoint_type\" : keypoint_type,\n",
      "                                 #\"verbose\" : True\n",
      "                             })"
     ],
     "language": "python",
     "metadata": {},
     "outputs": [
      {
       "output_type": "stream",
       "stream": "stdout",
       "text": [
        "Number of matches:\t6\n",
        "Correct matches:\t0\t[under 0px error]\n",
        "Under 0px error:\t0.00%\n"
       ]
      },
      {
       "output_type": "display_data",
       "png": "[encoded data removed]"
      }
     ],
     "prompt_number": 5
    },
    {
     "cell_type": "code",
     "collapsed": false,
     "input": [
      "dist_5 = matching.testMatch(paths, \n",
      "                             homography, \n",
      "                             mirrormatch.match,\n",
      "                             verbose=True,\n",
      "                             options = {\n",
      "                                 \"match_limit\" : 4000,\n",
      "                                 \"tresholds\" : [0.7],\n",
      "                                 \"prune\" : False,\n",
      "                                 \"distance_treshold\" : dt,\n",
      "                                 \"descriptor_type\" : descriptor_type,\n",
      "                                 \"keypoint_type\" : keypoint_type,\n",
      "                                 #\"verbose\" : True\n",
      "                             })"
     ],
     "language": "python",
     "metadata": {},
     "outputs": [
      {
       "output_type": "stream",
       "stream": "stdout",
       "text": [
        "Number of matches:\t2\n",
        "Correct matches:\t0\t[under 0px error]\n",
        "Under 0px error:\t0.00%\n"
       ]
      },
      {
       "output_type": "display_data",
       "png": "[encoded data removed]"
      }
     ],
     "prompt_number": 6
    },
    {
     "cell_type": "code",
     "collapsed": false,
     "input": [
      "pf = weightMatrix.pruneTreshold\n",
      "def cm() : return matching.testMatch(paths, \n",
      "                             homography, \n",
      "                             matching.clusterMatch,\n",
      "                             options = {\n",
      "                                 \"prune_fun\" : pf, \n",
      "                                 \"prune_limit\" : 3,\n",
      "                                 \"min_edges\": 1,\n",
      "                                 \"min_coherence\" : 0.02,\n",
      "                                 \"verbose\" : False,\n",
      "                                 \"prune\" : False,\n",
      "                                 \"split_limit\" : 10,\n",
      "                                 \"cluster_prune_limit\" : 1.5,\n",
      "                             })\n",
      "#dist_1 = cm()"
     ],
     "language": "python",
     "metadata": {},
     "outputs": [],
     "prompt_number": 7
    },
    {
     "cell_type": "code",
     "collapsed": false,
     "input": [
      "images = map(features.loadImage, paths)\n",
      "#display.matchPoints(images[0], images[1], matches_1, dist_1, filename=\"louvain-matching.png\")"
     ],
     "language": "python",
     "metadata": {},
     "outputs": [],
     "prompt_number": 8
    },
    {
     "cell_type": "code",
     "collapsed": false,
     "input": [
      "#display.matchPoints(images[0], images[1], matches_4, dist_4, filename=\"unique-matching.png\")"
     ],
     "language": "python",
     "metadata": {},
     "outputs": [],
     "prompt_number": 9
    },
    {
     "cell_type": "code",
     "collapsed": false,
     "input": [
      "#display.matchPoints(images[0], images[1], matches_5, dist_5, filename=\"both-matching.png\")"
     ],
     "language": "python",
     "metadata": {},
     "outputs": [],
     "prompt_number": 10
    }
   ],
   "metadata": {}
  }
 ]
}
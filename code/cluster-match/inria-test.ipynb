{
 "metadata": {
  "name": "inria-test"
 },
 "nbformat": 3,
 "nbformat_minor": 0,
 "worksheets": [
  {
   "cells": [
    {
     "cell_type": "code",
     "collapsed": false,
     "input": [
      "#Stupid hack to load files from sibling dir\n",
      "import sys; import os\n",
      "sys.path.insert(0, os.path.abspath('..'))\n",
      "\n",
      "%load_ext autoreload\n",
      "%autoreload 2"
     ],
     "language": "python",
     "metadata": {},
     "outputs": [],
     "prompt_number": 138
    },
    {
     "cell_type": "code",
     "collapsed": false,
     "input": [
      "import features\n",
      "import display\n",
      "import weightMatrix\n",
      "import matching"
     ],
     "language": "python",
     "metadata": {},
     "outputs": [],
     "prompt_number": 139
    },
    {
     "cell_type": "code",
     "collapsed": false,
     "input": [
      "paths, homography = matching.getACRPaths(6,\"bikes\")\n",
      "paths"
     ],
     "language": "python",
     "metadata": {},
     "outputs": [
      {
       "output_type": "pyout",
       "prompt_number": 140,
       "text": [
        "['../../images/acr/bikes/img1.ppm', '../../images/acr/bikes/img6.ppm']"
       ]
      }
     ],
     "prompt_number": 140
    },
    {
     "cell_type": "code",
     "collapsed": false,
     "input": [
      "pf = weightMatrix.pruneTreshold\n",
      "matches_1, dist_1 = matching.testMatch(paths, \n",
      "                             homography, \n",
      "                             matching.clusterMatch,\n",
      "                             options = {\n",
      "                                 \"prune_fun\" : pf, \n",
      "                                 \"prune_limit\" : 3,\n",
      "                                 \"min_edges\": 1,\n",
      "                                 \"min_coherence\" : 0.02,\n",
      "                                 \"verbose\" : False,\n",
      "                                 \"prune\" : False,\n",
      "                                 \"split_limit\" : 10,\n",
      "                                 \"cluster_prune_limit\" : 1.5,\n",
      "                             })"
     ],
     "language": "python",
     "metadata": {},
     "outputs": [
      {
       "output_type": "stream",
       "stream": "stdout",
       "text": [
        "255 partitions\n",
        "Number of matches:\t46\t(distinct: 35)"
       ]
      },
      {
       "output_type": "stream",
       "stream": "stdout",
       "text": [
        "\n",
        "Correct matches:\t44\t(distinct: 33)\t\t[under 5px error]\n",
        "Success Rate:\t\t95.65%\t(distinct: 94.29%)\n"
       ]
      },
      {
       "output_type": "display_data",
       "png": "[encoded data removed]"
      }
     ],
     "prompt_number": "*"
    },
    {
     "cell_type": "code",
     "collapsed": false,
     "input": [
      "matches_2, dist_2 = matching.testMatch(paths, \n",
      "                             homography, \n",
      "                             matching.isodataMatch,\n",
      "                             options = {\n",
      "                                 \"k_init\" : 10,\n",
      "                                 \"max_iterations\" : 20,\n",
      "                                 \"min_partition_size\" : 10,\n",
      "                                 \"max_sd\" : 40,\n",
      "                                 \"min_distance\" : 25,\n",
      "                                 \"prune\" : False,\n",
      "                                 #\"verbose\" : True\n",
      "                             })"
     ],
     "language": "python",
     "metadata": {},
     "outputs": [],
     "prompt_number": "*"
    },
    {
     "cell_type": "code",
     "collapsed": false,
     "input": [
      "matches_3, dist_3 = matching.testMatch(paths, \n",
      "                             homography, \n",
      "                             matching.standardMatch,\n",
      "                             options = {\n",
      "                                 \"match_limit\" : 500,\n",
      "                                 \"prune\" : False\n",
      "                                 #\"verbose\" : True\n",
      "                             })"
     ],
     "language": "python",
     "metadata": {},
     "outputs": [],
     "prompt_number": "*"
    },
    {
     "cell_type": "code",
     "collapsed": false,
     "input": [
      "matches_4, dist_4 = matching.testMatch(paths, \n",
      "                             homography, \n",
      "                             matching.standardMatch,\n",
      "                             options = {\n",
      "                                 \"match_limit\" : 400,\n",
      "                                 \"unique_treshold\": 0.8,\n",
      "                                 \"prune\" : False,\n",
      "                                 #\"verbose\" : True\n",
      "                             })"
     ],
     "language": "python",
     "metadata": {},
     "outputs": [],
     "prompt_number": "*"
    },
    {
     "cell_type": "code",
     "collapsed": false,
     "input": [
      "images = map(features.loadImage, paths)\n",
      "display.matchPoints(images[0], images[1], matches_1, dist_1, filename=\"louvain-matching.png\")"
     ],
     "language": "python",
     "metadata": {},
     "outputs": [],
     "prompt_number": "*"
    },
    {
     "cell_type": "code",
     "collapsed": false,
     "input": [
      "display.matchPoints(images[0], images[1], matches_2, dist_2, filename=\"isodata-matching.png\")"
     ],
     "language": "python",
     "metadata": {},
     "outputs": [],
     "prompt_number": "*"
    },
    {
     "cell_type": "code",
     "collapsed": false,
     "input": [
      "display.matchPoints(images[0], images[1], matches_3, dist_3, filename=\"standard-matching.png\")"
     ],
     "language": "python",
     "metadata": {},
     "outputs": [],
     "prompt_number": "*"
    },
    {
     "cell_type": "code",
     "collapsed": false,
     "input": [
      "display.matchPoints(images[0], images[1], matches_4, dist_4, filename=\"unique-matching.png\")"
     ],
     "language": "python",
     "metadata": {},
     "outputs": [],
     "prompt_number": "*"
    },
    {
     "cell_type": "code",
     "collapsed": false,
     "input": [],
     "language": "python",
     "metadata": {},
     "outputs": [],
     "prompt_number": "*"
    }
   ],
   "metadata": {}
  }
 ]
}
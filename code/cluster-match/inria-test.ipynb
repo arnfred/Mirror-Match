{
 "metadata": {
  "name": "inria-test"
 },
 "nbformat": 3,
 "nbformat_minor": 0,
 "worksheets": [
  {
   "cells": [
    {
     "cell_type": "code",
     "collapsed": false,
     "input": [
      "#Stupid hack to load files from sibling dir\n",
      "import sys; import os\n",
      "sys.path.insert(0, os.path.abspath('..'))\n",
      "\n",
      "%load_ext autoreload\n",
      "%autoreload 2"
     ],
     "language": "python",
     "metadata": {},
     "outputs": [],
     "prompt_number": 14
    },
    {
     "cell_type": "code",
     "collapsed": false,
     "input": [
      "import features\n",
      "import display\n",
      "import weightMatrix\n",
      "import matching"
     ],
     "language": "python",
     "metadata": {},
     "outputs": [],
     "prompt_number": 15
    },
    {
     "cell_type": "code",
     "collapsed": false,
     "input": [
      "paths, homography = matching.getACRPaths(1,6,\"bikes\")\n",
      "paths"
     ],
     "language": "python",
     "metadata": {},
     "outputs": [
      {
       "output_type": "pyout",
       "prompt_number": 16,
       "text": [
        "['../../images/acr/bikes/img1.ppm', '../../images/acr/bikes/img6.ppm']"
       ]
      }
     ],
     "prompt_number": 16
    },
    {
     "cell_type": "code",
     "collapsed": false,
     "input": [
      "dt = 20\n",
      "keypoint_type = \"SIFT\"\n",
      "descriptor_type = \"SIFT\""
     ],
     "language": "python",
     "metadata": {},
     "outputs": [],
     "prompt_number": 17
    },
    {
     "cell_type": "code",
     "collapsed": false,
     "input": [
      "pf = weightMatrix.pruneTreshold\n",
      "def cm() : return matching.testMatch(paths, \n",
      "                             homography, \n",
      "                             matching.clusterMatch,\n",
      "                             options = {\n",
      "                                 \"prune_fun\" : pf, \n",
      "                                 \"prune_limit\" : 3,\n",
      "                                 \"min_edges\": 1,\n",
      "                                 \"min_coherence\" : 0.02,\n",
      "                                 \"verbose\" : False,\n",
      "                                 \"prune\" : False,\n",
      "                                 \"split_limit\" : 10,\n",
      "                                 \"cluster_prune_limit\" : 1.5,\n",
      "                             })\n",
      "#matches_1, dist_1 = cm()"
     ],
     "language": "python",
     "metadata": {},
     "outputs": [],
     "prompt_number": 18
    },
    {
     "cell_type": "code",
     "collapsed": false,
     "input": [
      "def im() : return matching.testMatch(paths, \n",
      "                             homography, \n",
      "                             matching.isodataMatch,\n",
      "                             options = {\n",
      "                                 \"k_init\" : 10,\n",
      "                                 \"max_iterations\" : 20,\n",
      "                                 \"min_partition_size\" : 10,\n",
      "                                 \"max_sd\" : 40,\n",
      "                                 \"min_distance\" : 5,\n",
      "                                 \"prune\" : False,\n",
      "                                 \"distance_treshold\" : dt,\n",
      "                                 \"descriptor_type\" : descriptor_type,\n",
      "                                 \"keypoint_type\" : keypoint_type,\n",
      "                                 #\"verbose\" : True\n",
      "                             })\n",
      "#matches_2, dist_2 = im()"
     ],
     "language": "python",
     "metadata": {},
     "outputs": [],
     "prompt_number": 19
    },
    {
     "cell_type": "code",
     "collapsed": false,
     "input": [
      "matches_3, dist_3, dd = matching.testMatch(paths, \n",
      "                             homography, \n",
      "                             matching.standardMatch,\n",
      "                             options = {\n",
      "                                 \"match_limit\" : 500,\n",
      "                                 \"prune\" : False,\n",
      "                                 \"distance_treshold\" : dt,\n",
      "                                 \"descriptor_type\" : descriptor_type,\n",
      "                                 \"keypoint_type\" : keypoint_type,\n",
      "                                 #\"verbose\" : True\n",
      "                             })"
     ],
     "language": "python",
     "metadata": {},
     "outputs": [
      {
       "ename": "ValueError",
       "evalue": "too many values to unpack",
       "output_type": "pyerr",
       "traceback": [
        "\u001b[0;31m---------------------------------------------------------------------------\u001b[0m\n\u001b[0;31mValueError\u001b[0m                                Traceback (most recent call last)",
        "\u001b[0;32m<ipython-input-20-7577beed1a1b>\u001b[0m in \u001b[0;36m<module>\u001b[0;34m()\u001b[0m\n\u001b[1;32m      7\u001b[0m                                  \u001b[0;34m\"distance_treshold\"\u001b[0m \u001b[0;34m:\u001b[0m \u001b[0mdt\u001b[0m\u001b[0;34m,\u001b[0m\u001b[0;34m\u001b[0m\u001b[0m\n\u001b[1;32m      8\u001b[0m                                  \u001b[0;34m\"descriptor_type\"\u001b[0m \u001b[0;34m:\u001b[0m \u001b[0mdescriptor_type\u001b[0m\u001b[0;34m,\u001b[0m\u001b[0;34m\u001b[0m\u001b[0m\n\u001b[0;32m----> 9\u001b[0;31m                                  \u001b[0;34m\"keypoint_type\"\u001b[0m \u001b[0;34m:\u001b[0m \u001b[0mkeypoint_type\u001b[0m\u001b[0;34m,\u001b[0m\u001b[0;34m\u001b[0m\u001b[0m\n\u001b[0m\u001b[1;32m     10\u001b[0m                                  \u001b[0;31m#\"verbose\" : True\u001b[0m\u001b[0;34m\u001b[0m\u001b[0;34m\u001b[0m\u001b[0m\n\u001b[1;32m     11\u001b[0m                              })\n",
        "\u001b[0;31mValueError\u001b[0m: too many values to unpack"
       ]
      },
      {
       "output_type": "stream",
       "stream": "stdout",
       "text": [
        "Number of matches:\t500\t(distinct: 194)\n",
        "Correct matches:\t183\t(distinct: 164)\t\t[under 20px error]\n",
        "Success Rate:\t\t36.60%\t(distinct: 84.54%)\n"
       ]
      },
      {
       "output_type": "display_data",
       "png": "[encoded data removed]"
      }
     ],
     "prompt_number": 20
    },
    {
     "cell_type": "code",
     "collapsed": false,
     "input": [
      "matches_4, dist_4, dd = matching.testMatch(paths, \n",
      "                             homography, \n",
      "                             matching.standardMatch,\n",
      "                             options = {\n",
      "                                 \"match_limit\" : 400,\n",
      "                                 \"unique_treshold\": 0.8,\n",
      "                                 \"prune\" : False,\n",
      "                                 \"distance_treshold\" : dt,\n",
      "                                 \"descriptor_type\" : descriptor_type,\n",
      "                                 \"keypoint_type\" : keypoint_type,\n",
      "                                 #\"verbose\" : True\n",
      "                             })"
     ],
     "language": "python",
     "metadata": {},
     "outputs": []
    },
    {
     "cell_type": "code",
     "collapsed": false,
     "input": [
      "matches_5, dist_5, dd = matching.testMatch(paths, \n",
      "                             homography, \n",
      "                             matching.bothMatch,\n",
      "                             options = {\n",
      "                                 \"match_limit\" : 400,\n",
      "                                 \"unique_treshold\": 0.8,\n",
      "                                 \"prune\" : False,\n",
      "                                 \"distance_treshold\" : dt,\n",
      "                                 \"descriptor_type\" : descriptor_type,\n",
      "                                 \"keypoint_type\" : keypoint_type,\n",
      "                                 #\"verbose\" : True\n",
      "                             })"
     ],
     "language": "python",
     "metadata": {},
     "outputs": []
    },
    {
     "cell_type": "code",
     "collapsed": false,
     "input": [
      "images = map(features.loadImage, paths)\n",
      "#display.matchPoints(images[0], images[1], matches_1, dist_1, filename=\"louvain-matching.png\")"
     ],
     "language": "python",
     "metadata": {},
     "outputs": []
    },
    {
     "cell_type": "code",
     "collapsed": false,
     "input": [
      "#display.matchPoints(images[0], images[1], matches_2, dist_2, filename=\"isodata-matching.png\")"
     ],
     "language": "python",
     "metadata": {},
     "outputs": []
    },
    {
     "cell_type": "code",
     "collapsed": false,
     "input": [
      "display.matchPoints(images[0], images[1], matches_3, dist_3, filename=\"standard-matching.png\")"
     ],
     "language": "python",
     "metadata": {},
     "outputs": []
    },
    {
     "cell_type": "code",
     "collapsed": false,
     "input": [
      "display.matchPoints(images[0], images[1], matches_4, dist_4, filename=\"unique-matching.png\")"
     ],
     "language": "python",
     "metadata": {},
     "outputs": []
    },
    {
     "cell_type": "code",
     "collapsed": false,
     "input": [
      "display.matchPoints(images[0], images[1], matches_5, dist_5, filename=\"both-matching.png\")"
     ],
     "language": "python",
     "metadata": {},
     "outputs": []
    }
   ],
   "metadata": {}
  }
 ]
}
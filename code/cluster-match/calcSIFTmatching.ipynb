{
 "metadata": {
  "name": "calcSIFTmatching"
 },
 "nbformat": 3,
 "nbformat_minor": 0,
 "worksheets": [
  {
   "cells": [
    {
     "cell_type": "code",
     "collapsed": false,
     "input": [
      "#Stupid hack to load files from sibling dir\n",
      "import sys; import os\n",
      "sys.path.insert(0, os.path.abspath('..'))\n",
      "\n",
      "%load_ext autoreload\n",
      "%autoreload 2"
     ],
     "language": "python",
     "metadata": {},
     "outputs": [],
     "prompt_number": 3
    },
    {
     "cell_type": "code",
     "collapsed": false,
     "input": [
      "import fnmatch\n",
      "import os\n",
      "import matching\n",
      "import weightMatrix\n",
      "import features\n",
      "import display\n",
      "import itertools\n",
      "import mm"
     ],
     "language": "python",
     "metadata": {},
     "outputs": [],
     "prompt_number": 15
    },
    {
     "cell_type": "code",
     "collapsed": false,
     "input": [
      "path = \"graf\"\n",
      "paths, homography = matching.getTestsetPaths(\"Graf12\",6)\n",
      "indices, ks, ds = features.getFeatures(paths, keypoint_type = \"SIFT\", descriptor_type = \"SIFT\")\n",
      "\n",
      "ds_a, ds_b = (ds[indices == 0], ds[indices == 1])\n",
      "d_array_a = numpy.concatenate((ds_a, numpy.zeros((ds_a.shape[0],3))), axis=1)\n",
      "d_array_b = numpy.concatenate((ds_b, numpy.zeros((ds_b.shape[0],3))), axis=1)\n",
      "\n",
      "r = mm.calcSIFTmatching(d_array_a, d_array_b, options = { \"verbose\" : False })\n",
      "#r = mmc.calcSIFTmatching(ds_a, ds_b, options = { \"verbose\" : True })\n",
      "print(r)"
     ],
     "language": "python",
     "metadata": {},
     "outputs": [
      {
       "output_type": "stream",
       "stream": "stdout",
       "text": [
        "0.0277777777778\n"
       ]
      }
     ],
     "prompt_number": 18
    }
   ],
   "metadata": {}
  }
 ]
}
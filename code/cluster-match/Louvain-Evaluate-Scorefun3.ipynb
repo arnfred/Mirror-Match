{
 "metadata": {
  "name": "Louvain-Evaluate-Scorefun3"
 },
 "nbformat": 3,
 "nbformat_minor": 0,
 "worksheets": [
  {
   "cells": [
    {
     "cell_type": "code",
     "collapsed": false,
     "input": [
      "#Stupid hack to load files from sibling dir\n",
      "import sys; import os\n",
      "sys.path.insert(0, os.path.abspath('..'))\n",
      "\n",
      "%load_ext autoreload\n",
      "%autoreload 2"
     ],
     "language": "python",
     "metadata": {},
     "outputs": [],
     "prompt_number": 6
    },
    {
     "cell_type": "code",
     "collapsed": false,
     "input": [
      "import os\n",
      "import fnmatch\n",
      "import features\n",
      "import cluster\n",
      "import display\n",
      "import louvain\n",
      "from itertools import combinations\n",
      "from itertools import izip\n",
      "from itertools import imap\n",
      "\n",
      "# testset = \"../../images/testsets/WC818C/\"\n",
      "testset = \"../../images/testsets/small_test/\"\n",
      "\n",
      "# Define scoring functions\n",
      "scoring_fun1 = lambda m,c : 1*m+3*c if 1*m+3*c > 0 else 0\n",
      "scoring_fun2 = lambda m,c : 1*m+3*c\n",
      "scoring_fun3 = lambda m,c : 1*m+1*c if 1*m+3*c > 0 else 0\n",
      "scoring_fun4 = lambda m,c : 1*m+1*c if c > 0 else 0\n",
      "\n",
      "# Get a list of all image pairs\n",
      "all_paths = [testset + f for (_,_,filenames) in os.walk(testset) for f in fnmatch.filter(filenames, \"*.png\")]\n",
      "path_pairs = combinations(all_paths, 2)\n",
      "label_pairs = combinations(imap(features.getLabel,all_paths), 2)"
     ],
     "language": "python",
     "metadata": {},
     "outputs": [],
     "prompt_number": 2
    },
    {
     "cell_type": "code",
     "collapsed": false,
     "input": [
      "#cluster.scoreImagePair(pairs.next())\n",
      "result = [((l1 == l2), cluster.scoreImagePair(paths=[p1, p2], scoring=scoring_fun3, default_val=0), (p1, p2))\n",
      "        for ((p1, p2), (l1, l2)) \n",
      "        in izip(path_pairs, label_pairs)]"
     ],
     "language": "python",
     "metadata": {},
     "outputs": [
      {
       "output_type": "stream",
       "stream": "stdout",
       "text": [
        "Score: 0.0180 for Anna Kournikova and Bill Gates\n",
        "Score: 0.0263 for Anna Kournikova and Anna Kournikova"
       ]
      },
      {
       "output_type": "stream",
       "stream": "stdout",
       "text": [
        "\n",
        "Score: 0.0000 for Anna Kournikova and Ann Veneman (Less than four matches)"
       ]
      },
      {
       "output_type": "stream",
       "stream": "stdout",
       "text": [
        "\n",
        "Score: 0.0270 for Anna Kournikova and Bill Gates"
       ]
      },
      {
       "output_type": "stream",
       "stream": "stdout",
       "text": [
        "\n",
        "Score: 0.0251 for Anna Kournikova and Bill Gates"
       ]
      },
      {
       "output_type": "stream",
       "stream": "stdout",
       "text": [
        "\n",
        "Score: 0.0151 for Anna Kournikova and Ann Veneman"
       ]
      },
      {
       "output_type": "stream",
       "stream": "stdout",
       "text": [
        "\n",
        "Score: 0.0225 for Anna Kournikova and Bill Gates"
       ]
      },
      {
       "output_type": "stream",
       "stream": "stdout",
       "text": [
        "\n",
        "Score: 0.0197 for Anna Kournikova and Ann Veneman"
       ]
      },
      {
       "output_type": "stream",
       "stream": "stdout",
       "text": [
        "\n",
        "Score: 0.0051 for Anna Kournikova and Bill Gates"
       ]
      },
      {
       "output_type": "stream",
       "stream": "stdout",
       "text": [
        "\n",
        "Score: 0.0221 for Anna Kournikova and Bill Gates"
       ]
      },
      {
       "output_type": "stream",
       "stream": "stdout",
       "text": [
        "\n",
        "Score: 0.0254 for Anna Kournikova and Bill Gates"
       ]
      },
      {
       "output_type": "stream",
       "stream": "stdout",
       "text": [
        "\n",
        "Score: 0.0266 for Anna Kournikova and Anna Kournikova"
       ]
      },
      {
       "output_type": "stream",
       "stream": "stdout",
       "text": [
        "\n",
        "Score: 0.0345 for Anna Kournikova and Bill Gates"
       ]
      },
      {
       "output_type": "stream",
       "stream": "stdout",
       "text": [
        "\n",
        "Score: 0.0165 for Anna Kournikova and Anna Kournikova"
       ]
      },
      {
       "output_type": "stream",
       "stream": "stdout",
       "text": [
        "\n",
        "Score: 0.0169 for Anna Kournikova and Ann Veneman"
       ]
      },
      {
       "output_type": "stream",
       "stream": "stdout",
       "text": [
        "\n",
        "Score: 0.0000 for Anna Kournikova and Ann Veneman (Less than four matches)"
       ]
      },
      {
       "output_type": "stream",
       "stream": "stdout",
       "text": [
        "\n",
        "Score: 0.0244 for Anna Kournikova and Anna Kournikova"
       ]
      },
      {
       "output_type": "stream",
       "stream": "stdout",
       "text": [
        "\n",
        "Score: 0.0398 for Anna Kournikova and Ann Veneman"
       ]
      },
      {
       "output_type": "stream",
       "stream": "stdout",
       "text": [
        "\n",
        "Score: 0.0335 for Anna Kournikova and Anna Kournikova"
       ]
      },
      {
       "output_type": "stream",
       "stream": "stdout",
       "text": [
        "\n",
        "Score: 0.0297 for Anna Kournikova and Ann Veneman"
       ]
      },
      {
       "output_type": "stream",
       "stream": "stdout",
       "text": [
        "\n",
        "Score: 0.0074 for Anna Kournikova and Anna Kournikova"
       ]
      },
      {
       "output_type": "stream",
       "stream": "stdout",
       "text": [
        "\n",
        "Score: 0.0171 for Anna Kournikova and Bill Gates"
       ]
      },
      {
       "output_type": "stream",
       "stream": "stdout",
       "text": [
        "\n",
        "Score: 0.0369 for Anna Kournikova and Anna Kournikova"
       ]
      },
      {
       "output_type": "stream",
       "stream": "stdout",
       "text": [
        "\n",
        "Score: 0.0307 for Anna Kournikova and Anna Kournikova"
       ]
      },
      {
       "output_type": "stream",
       "stream": "stdout",
       "text": [
        "\n",
        "Score: 0.0180 for Anna Kournikova and Anna Kournikova"
       ]
      },
      {
       "output_type": "stream",
       "stream": "stdout",
       "text": [
        "\n",
        "Score: 0.0233 for Anna Kournikova and Bill Gates"
       ]
      },
      {
       "output_type": "stream",
       "stream": "stdout",
       "text": [
        "\n",
        "Score: 0.0163 for Anna Kournikova and Ann Veneman"
       ]
      },
      {
       "output_type": "stream",
       "stream": "stdout",
       "text": [
        "\n",
        "Score: 0.0173 for Anna Kournikova and Ann Veneman"
       ]
      },
      {
       "output_type": "stream",
       "stream": "stdout",
       "text": [
        "\n",
        "Score: 0.0294 for Anna Kournikova and Ann Veneman"
       ]
      },
      {
       "output_type": "stream",
       "stream": "stdout",
       "text": [
        "\n",
        "Score: 0.0207 for Bill Gates and Anna Kournikova"
       ]
      },
      {
       "output_type": "stream",
       "stream": "stdout",
       "text": [
        "\n",
        "Score: 0.0149 for Bill Gates and Ann Veneman"
       ]
      },
      {
       "output_type": "stream",
       "stream": "stdout",
       "text": [
        "\n",
        "Score: 0.0141 for Bill Gates and Bill Gates"
       ]
      },
      {
       "output_type": "stream",
       "stream": "stdout",
       "text": [
        "\n",
        "Score: 0.0139 for Bill Gates and Bill Gates"
       ]
      },
      {
       "output_type": "stream",
       "stream": "stdout",
       "text": [
        "\n",
        "Score: 0.0400 for Bill Gates and Ann Veneman"
       ]
      },
      {
       "output_type": "stream",
       "stream": "stdout",
       "text": [
        "\n",
        "Score: 0.0120 for Bill Gates and Bill Gates"
       ]
      },
      {
       "output_type": "stream",
       "stream": "stdout",
       "text": [
        "\n",
        "Score: 0.0281 for Bill Gates and Ann Veneman"
       ]
      },
      {
       "output_type": "stream",
       "stream": "stdout",
       "text": [
        "\n",
        "Score: 0.0510 for Bill Gates and Bill Gates"
       ]
      },
      {
       "output_type": "stream",
       "stream": "stdout",
       "text": [
        "\n",
        "Score: 0.0217 for Bill Gates and Bill Gates"
       ]
      },
      {
       "output_type": "stream",
       "stream": "stdout",
       "text": [
        "\n",
        "Score: 0.0384 for Bill Gates and Bill Gates"
       ]
      },
      {
       "output_type": "stream",
       "stream": "stdout",
       "text": [
        "\n",
        "Score: 0.0277 for Bill Gates and Anna Kournikova"
       ]
      },
      {
       "output_type": "stream",
       "stream": "stdout",
       "text": [
        "\n",
        "Score: 0.0382 for Bill Gates and Bill Gates"
       ]
      },
      {
       "output_type": "stream",
       "stream": "stdout",
       "text": [
        "\n",
        "Score: 0.0305 for Bill Gates and Anna Kournikova"
       ]
      },
      {
       "output_type": "stream",
       "stream": "stdout",
       "text": [
        "\n",
        "Score: 0.0169 for Bill Gates and Ann Veneman"
       ]
      },
      {
       "output_type": "stream",
       "stream": "stdout",
       "text": [
        "\n",
        "Score: 0.0262 for Bill Gates and Ann Veneman"
       ]
      },
      {
       "output_type": "stream",
       "stream": "stdout",
       "text": [
        "\n",
        "Score: 0.0367 for Bill Gates and Anna Kournikova"
       ]
      },
      {
       "output_type": "stream",
       "stream": "stdout",
       "text": [
        "\n",
        "Score: 0.0202 for Bill Gates and Ann Veneman"
       ]
      },
      {
       "output_type": "stream",
       "stream": "stdout",
       "text": [
        "\n",
        "Score: 0.0279 for Bill Gates and Anna Kournikova"
       ]
      },
      {
       "output_type": "stream",
       "stream": "stdout",
       "text": [
        "\n",
        "Score: 0.0241 for Bill Gates and Ann Veneman"
       ]
      },
      {
       "output_type": "stream",
       "stream": "stdout",
       "text": [
        "\n",
        "Score: 0.0182 for Bill Gates and Anna Kournikova"
       ]
      },
      {
       "output_type": "stream",
       "stream": "stdout",
       "text": [
        "\n",
        "Score: 0.0601 for Bill Gates and Bill Gates"
       ]
      },
      {
       "output_type": "stream",
       "stream": "stdout",
       "text": [
        "\n",
        "Score: 0.0429 for Bill Gates and Anna Kournikova"
       ]
      },
      {
       "output_type": "stream",
       "stream": "stdout",
       "text": [
        "\n",
        "Score: 0.0256 for Bill Gates and Anna Kournikova"
       ]
      },
      {
       "output_type": "stream",
       "stream": "stdout",
       "text": [
        "\n",
        "Score: 0.0282 for Bill Gates and Anna Kournikova"
       ]
      },
      {
       "output_type": "stream",
       "stream": "stdout",
       "text": [
        "\n",
        "Score: 0.0267 for Bill Gates and Bill Gates"
       ]
      },
      {
       "output_type": "stream",
       "stream": "stdout",
       "text": [
        "\n",
        "Score: 0.0147 for Bill Gates and Ann Veneman"
       ]
      },
      {
       "output_type": "stream",
       "stream": "stdout",
       "text": [
        "\n",
        "Score: 0.0392 for Bill Gates and Ann Veneman"
       ]
      },
      {
       "output_type": "stream",
       "stream": "stdout",
       "text": [
        "\n",
        "Score: 0.0181 for Bill Gates and Ann Veneman"
       ]
      },
      {
       "output_type": "stream",
       "stream": "stdout",
       "text": [
        "\n",
        "Score: 0.0473 for Anna Kournikova and Ann Veneman"
       ]
      },
      {
       "output_type": "stream",
       "stream": "stdout",
       "text": [
        "\n",
        "Score: 0.0185 for Anna Kournikova and Bill Gates"
       ]
      },
      {
       "output_type": "stream",
       "stream": "stdout",
       "text": [
        "\n",
        "Score: 0.0179 for Anna Kournikova and Bill Gates"
       ]
      },
      {
       "output_type": "stream",
       "stream": "stdout",
       "text": [
        "\n",
        "Score: 0.0191 for Anna Kournikova and Ann Veneman"
       ]
      },
      {
       "output_type": "stream",
       "stream": "stdout",
       "text": [
        "\n",
        "Score: 0.0177 for Anna Kournikova and Bill Gates"
       ]
      },
      {
       "output_type": "stream",
       "stream": "stdout",
       "text": [
        "\n",
        "Score: 0.0429 for Anna Kournikova and Ann Veneman"
       ]
      },
      {
       "output_type": "stream",
       "stream": "stdout",
       "text": [
        "\n",
        "Score: 0.0126 for Anna Kournikova and Bill Gates"
       ]
      },
      {
       "output_type": "stream",
       "stream": "stdout",
       "text": [
        "\n",
        "Score: 0.0148 for Anna Kournikova and Bill Gates"
       ]
      },
      {
       "output_type": "stream",
       "stream": "stdout",
       "text": [
        "\n",
        "Score: 0.0298 for Anna Kournikova and Bill Gates"
       ]
      },
      {
       "output_type": "stream",
       "stream": "stdout",
       "text": [
        "\n",
        "Score: 0.0377 for Anna Kournikova and Anna Kournikova"
       ]
      },
      {
       "output_type": "stream",
       "stream": "stdout",
       "text": [
        "\n",
        "Score: 0.0171 for Anna Kournikova and Bill Gates"
       ]
      },
      {
       "output_type": "stream",
       "stream": "stdout",
       "text": [
        "\n",
        "Score: 0.0321 for Anna Kournikova and Anna Kournikova"
       ]
      },
      {
       "output_type": "stream",
       "stream": "stdout",
       "text": [
        "\n",
        "Score: 0.0129 for Anna Kournikova and Ann Veneman"
       ]
      },
      {
       "output_type": "stream",
       "stream": "stdout",
       "text": [
        "\n",
        "Score: 0.0266 for Anna Kournikova and Ann Veneman"
       ]
      },
      {
       "output_type": "stream",
       "stream": "stdout",
       "text": [
        "\n",
        "Score: 0.0451 for Anna Kournikova and Anna Kournikova"
       ]
      },
      {
       "output_type": "stream",
       "stream": "stdout",
       "text": [
        "\n",
        "Score: 0.0045 for Anna Kournikova and Ann Veneman"
       ]
      },
      {
       "output_type": "stream",
       "stream": "stdout",
       "text": [
        "\n",
        "Score: 0.0586 for Anna Kournikova and Anna Kournikova"
       ]
      },
      {
       "output_type": "stream",
       "stream": "stdout",
       "text": [
        "\n",
        "Score: 0.0259 for Anna Kournikova and Ann Veneman"
       ]
      },
      {
       "output_type": "stream",
       "stream": "stdout",
       "text": [
        "\n",
        "Score: 0.0320 for Anna Kournikova and Anna Kournikova"
       ]
      },
      {
       "output_type": "stream",
       "stream": "stdout",
       "text": [
        "\n",
        "Score: 0.0210 for Anna Kournikova and Bill Gates"
       ]
      },
      {
       "output_type": "stream",
       "stream": "stdout",
       "text": [
        "\n",
        "Score: 0.0586 for Anna Kournikova and Anna Kournikova"
       ]
      },
      {
       "output_type": "stream",
       "stream": "stdout",
       "text": [
        "\n",
        "Score: 0.0196 for Anna Kournikova and Anna Kournikova"
       ]
      },
      {
       "output_type": "stream",
       "stream": "stdout",
       "text": [
        "\n",
        "Score: 0.0397 for Anna Kournikova and Anna Kournikova"
       ]
      },
      {
       "output_type": "stream",
       "stream": "stdout",
       "text": [
        "\n",
        "Score: 0.0000 for Anna Kournikova and Bill Gates (Less than four matches)"
       ]
      },
      {
       "output_type": "stream",
       "stream": "stdout",
       "text": [
        "\n",
        "Score: 0.0270 for Anna Kournikova and Ann Veneman"
       ]
      },
      {
       "output_type": "stream",
       "stream": "stdout",
       "text": [
        "\n",
        "Score: 0.0252 for Anna Kournikova and Ann Veneman"
       ]
      },
      {
       "output_type": "stream",
       "stream": "stdout",
       "text": [
        "\n",
        "Score: 0.0000 for Anna Kournikova and Ann Veneman (Less than four matches)"
       ]
      },
      {
       "output_type": "stream",
       "stream": "stdout",
       "text": [
        "\n",
        "Score: 0.0249 for Ann Veneman and Bill Gates"
       ]
      },
      {
       "output_type": "stream",
       "stream": "stdout",
       "text": [
        "\n",
        "Score: 0.0440 for Ann Veneman and Bill Gates"
       ]
      },
      {
       "output_type": "stream",
       "stream": "stdout",
       "text": [
        "\n",
        "Score: 0.0462 for Ann Veneman and Ann Veneman"
       ]
      },
      {
       "output_type": "stream",
       "stream": "stdout",
       "text": [
        "\n",
        "Score: 0.0505 for Ann Veneman and Bill Gates"
       ]
      },
      {
       "output_type": "stream",
       "stream": "stdout",
       "text": [
        "\n",
        "Score: 0.0559 for Ann Veneman and Ann Veneman"
       ]
      },
      {
       "output_type": "stream",
       "stream": "stdout",
       "text": [
        "\n",
        "Score: 0.0203 for Ann Veneman and Bill Gates"
       ]
      },
      {
       "output_type": "stream",
       "stream": "stdout",
       "text": [
        "\n",
        "Score: 0.0197 for Ann Veneman and Bill Gates"
       ]
      },
      {
       "output_type": "stream",
       "stream": "stdout",
       "text": [
        "\n",
        "Score: 0.0512 for Ann Veneman and Bill Gates"
       ]
      },
      {
       "output_type": "stream",
       "stream": "stdout",
       "text": [
        "\n",
        "Score: 0.0484 for Ann Veneman and Anna Kournikova"
       ]
      },
      {
       "output_type": "stream",
       "stream": "stdout",
       "text": [
        "\n",
        "Score: 0.0390 for Ann Veneman and Bill Gates"
       ]
      },
      {
       "output_type": "stream",
       "stream": "stdout",
       "text": [
        "\n",
        "Score: 0.0387 for Ann Veneman and Anna Kournikova"
       ]
      },
      {
       "output_type": "stream",
       "stream": "stdout",
       "text": [
        "\n",
        "Score: 0.0555 for Ann Veneman and Ann Veneman"
       ]
      },
      {
       "output_type": "stream",
       "stream": "stdout",
       "text": [
        "\n",
        "Score: 0.0237 for Ann Veneman and Ann Veneman"
       ]
      },
      {
       "output_type": "stream",
       "stream": "stdout",
       "text": [
        "\n",
        "Score: 0.0418 for Ann Veneman and Anna Kournikova"
       ]
      },
      {
       "output_type": "stream",
       "stream": "stdout",
       "text": [
        "\n",
        "Score: 0.0441 for Ann Veneman and Ann Veneman"
       ]
      },
      {
       "output_type": "stream",
       "stream": "stdout",
       "text": [
        "\n",
        "Score: 0.0302 for Ann Veneman and Anna Kournikova"
       ]
      },
      {
       "output_type": "stream",
       "stream": "stdout",
       "text": [
        "\n",
        "Score: 0.0418 for Ann Veneman and Ann Veneman"
       ]
      },
      {
       "output_type": "stream",
       "stream": "stdout",
       "text": [
        "\n",
        "Score: 0.0487 for Ann Veneman and Anna Kournikova"
       ]
      },
      {
       "output_type": "stream",
       "stream": "stdout",
       "text": [
        "\n",
        "Score: 0.0390 for Ann Veneman and Bill Gates"
       ]
      },
      {
       "output_type": "stream",
       "stream": "stdout",
       "text": [
        "\n",
        "Score: 0.0432 for Ann Veneman and Anna Kournikova"
       ]
      },
      {
       "output_type": "stream",
       "stream": "stdout",
       "text": [
        "\n",
        "Score: 0.0000 for Ann Veneman and Anna Kournikova (Less than four matches)"
       ]
      },
      {
       "output_type": "stream",
       "stream": "stdout",
       "text": [
        "\n",
        "Score: 0.0697 for Ann Veneman and Anna Kournikova"
       ]
      },
      {
       "output_type": "stream",
       "stream": "stdout",
       "text": [
        "\n",
        "Score: 0.0324 for Ann Veneman and Bill Gates"
       ]
      },
      {
       "output_type": "stream",
       "stream": "stdout",
       "text": [
        "\n",
        "Score: 0.0548 for Ann Veneman and Ann Veneman"
       ]
      },
      {
       "output_type": "stream",
       "stream": "stdout",
       "text": [
        "\n",
        "Score: 0.0292 for Ann Veneman and Ann Veneman"
       ]
      },
      {
       "output_type": "stream",
       "stream": "stdout",
       "text": [
        "\n",
        "Score: 0.0567 for Ann Veneman and Ann Veneman"
       ]
      },
      {
       "output_type": "stream",
       "stream": "stdout",
       "text": [
        "\n",
        "Score: 0.0208 for Bill Gates and Bill Gates"
       ]
      },
      {
       "output_type": "stream",
       "stream": "stdout",
       "text": [
        "\n",
        "Score: 0.0143 for Bill Gates and Ann Veneman"
       ]
      },
      {
       "output_type": "stream",
       "stream": "stdout",
       "text": [
        "\n",
        "Score: 0.0045 for Bill Gates and Bill Gates"
       ]
      },
      {
       "output_type": "stream",
       "stream": "stdout",
       "text": [
        "\n",
        "Score: 0.0237 for Bill Gates and Ann Veneman"
       ]
      },
      {
       "output_type": "stream",
       "stream": "stdout",
       "text": [
        "\n",
        "Score: 0.0173 for Bill Gates and Bill Gates"
       ]
      },
      {
       "output_type": "stream",
       "stream": "stdout",
       "text": [
        "\n",
        "Score: 0.0328 for Bill Gates and Bill Gates"
       ]
      },
      {
       "output_type": "stream",
       "stream": "stdout",
       "text": [
        "\n",
        "Score: 0.0177 for Bill Gates and Bill Gates"
       ]
      },
      {
       "output_type": "stream",
       "stream": "stdout",
       "text": [
        "\n",
        "Score: 0.0232 for Bill Gates and Anna Kournikova"
       ]
      },
      {
       "output_type": "stream",
       "stream": "stdout",
       "text": [
        "\n",
        "Score: 0.0295 for Bill Gates and Bill Gates"
       ]
      },
      {
       "output_type": "stream",
       "stream": "stdout",
       "text": [
        "\n",
        "Score: 0.0117 for Bill Gates and Anna Kournikova"
       ]
      },
      {
       "output_type": "stream",
       "stream": "stdout",
       "text": [
        "\n",
        "Score: 0.0081 for Bill Gates and Ann Veneman"
       ]
      },
      {
       "output_type": "stream",
       "stream": "stdout",
       "text": [
        "\n",
        "Score: 0.0018 for Bill Gates and Ann Veneman"
       ]
      },
      {
       "output_type": "stream",
       "stream": "stdout",
       "text": [
        "\n",
        "Score: 0.0000 for Bill Gates and Anna Kournikova (Less than four matches)"
       ]
      },
      {
       "output_type": "stream",
       "stream": "stdout",
       "text": [
        "\n",
        "Score: 0.0000 for Bill Gates and Ann Veneman (Less than four matches)"
       ]
      },
      {
       "output_type": "stream",
       "stream": "stdout",
       "text": [
        "\n",
        "Score: 0.0121 for Bill Gates and Anna Kournikova"
       ]
      },
      {
       "output_type": "stream",
       "stream": "stdout",
       "text": [
        "\n",
        "Score: 0.0112 for Bill Gates and Ann Veneman"
       ]
      },
      {
       "output_type": "stream",
       "stream": "stdout",
       "text": [
        "\n",
        "Score: 0.0136 for Bill Gates and Anna Kournikova"
       ]
      },
      {
       "output_type": "stream",
       "stream": "stdout",
       "text": [
        "\n",
        "Score: 0.0159 for Bill Gates and Bill Gates"
       ]
      },
      {
       "output_type": "stream",
       "stream": "stdout",
       "text": [
        "\n",
        "Score: 0.0115 for Bill Gates and Anna Kournikova"
       ]
      },
      {
       "output_type": "stream",
       "stream": "stdout",
       "text": [
        "\n",
        "Score: 0.0035 for Bill Gates and Anna Kournikova"
       ]
      },
      {
       "output_type": "stream",
       "stream": "stdout",
       "text": [
        "\n",
        "Score: 0.0096 for Bill Gates and Anna Kournikova"
       ]
      },
      {
       "output_type": "stream",
       "stream": "stdout",
       "text": [
        "\n",
        "Score: 0.0191 for Bill Gates and Bill Gates"
       ]
      },
      {
       "output_type": "stream",
       "stream": "stdout",
       "text": [
        "\n",
        "Score: 0.0152 for Bill Gates and Ann Veneman"
       ]
      },
      {
       "output_type": "stream",
       "stream": "stdout",
       "text": [
        "\n",
        "Score: 0.0000 for Bill Gates and Ann Veneman (Less than four matches)"
       ]
      },
      {
       "output_type": "stream",
       "stream": "stdout",
       "text": [
        "\n",
        "Score: 0.0000 for Bill Gates and Ann Veneman (Less than four matches)"
       ]
      },
      {
       "output_type": "stream",
       "stream": "stdout",
       "text": [
        "\n",
        "Score: 0.0053 for Bill Gates and Ann Veneman"
       ]
      },
      {
       "output_type": "stream",
       "stream": "stdout",
       "text": [
        "\n",
        "Score: 0.0066 for Bill Gates and Bill Gates"
       ]
      },
      {
       "output_type": "stream",
       "stream": "stdout",
       "text": [
        "\n",
        "Score: 0.0225 for Bill Gates and Ann Veneman"
       ]
      },
      {
       "output_type": "stream",
       "stream": "stdout",
       "text": [
        "\n",
        "Score: 0.0264 for Bill Gates and Bill Gates"
       ]
      },
      {
       "output_type": "stream",
       "stream": "stdout",
       "text": [
        "\n",
        "Score: 0.0082 for Bill Gates and Bill Gates"
       ]
      },
      {
       "output_type": "stream",
       "stream": "stdout",
       "text": [
        "\n",
        "Score: 0.0106 for Bill Gates and Bill Gates"
       ]
      },
      {
       "output_type": "stream",
       "stream": "stdout",
       "text": [
        "\n",
        "Score: 0.0243 for Bill Gates and Anna Kournikova"
       ]
      },
      {
       "output_type": "stream",
       "stream": "stdout",
       "text": [
        "\n",
        "Score: 0.0193 for Bill Gates and Bill Gates"
       ]
      },
      {
       "output_type": "stream",
       "stream": "stdout",
       "text": [
        "\n",
        "Score: 0.0242 for Bill Gates and Anna Kournikova"
       ]
      },
      {
       "output_type": "stream",
       "stream": "stdout",
       "text": [
        "\n",
        "Score: 0.0061 for Bill Gates and Ann Veneman"
       ]
      },
      {
       "output_type": "stream",
       "stream": "stdout",
       "text": [
        "\n",
        "Score: 0.0186 for Bill Gates and Ann Veneman"
       ]
      },
      {
       "output_type": "stream",
       "stream": "stdout",
       "text": [
        "\n",
        "Score: 0.0000 for Bill Gates and Anna Kournikova (Less than four matches)"
       ]
      },
      {
       "output_type": "stream",
       "stream": "stdout",
       "text": [
        "\n",
        "Score: 0.0000 for Bill Gates and Ann Veneman (Less than four matches)"
       ]
      },
      {
       "output_type": "stream",
       "stream": "stdout",
       "text": [
        "\n",
        "Score: 0.0000 for Bill Gates and Anna Kournikova (Less than four matches)"
       ]
      },
      {
       "output_type": "stream",
       "stream": "stdout",
       "text": [
        "\n",
        "Score: 0.0061 for Bill Gates and Ann Veneman"
       ]
      },
      {
       "output_type": "stream",
       "stream": "stdout",
       "text": [
        "\n",
        "Score: 0.0031 for Bill Gates and Anna Kournikova"
       ]
      },
      {
       "output_type": "stream",
       "stream": "stdout",
       "text": [
        "\n",
        "Score: 0.0176 for Bill Gates and Bill Gates"
       ]
      },
      {
       "output_type": "stream",
       "stream": "stdout",
       "text": [
        "\n",
        "Score: 0.0304 for Bill Gates and Anna Kournikova"
       ]
      },
      {
       "output_type": "stream",
       "stream": "stdout",
       "text": [
        "\n",
        "Score: 0.0000 for Bill Gates and Anna Kournikova (Less than four matches)"
       ]
      },
      {
       "output_type": "stream",
       "stream": "stdout",
       "text": [
        "\n",
        "Score: 0.0074 for Bill Gates and Anna Kournikova"
       ]
      },
      {
       "output_type": "stream",
       "stream": "stdout",
       "text": [
        "\n",
        "Score: 0.0110 for Bill Gates and Bill Gates"
       ]
      },
      {
       "output_type": "stream",
       "stream": "stdout",
       "text": [
        "\n",
        "Score: 0.0197 for Bill Gates and Ann Veneman"
       ]
      },
      {
       "output_type": "stream",
       "stream": "stdout",
       "text": [
        "\n",
        "Score: 0.0131 for Bill Gates and Ann Veneman"
       ]
      },
      {
       "output_type": "stream",
       "stream": "stdout",
       "text": [
        "\n",
        "Score: 0.0204 for Bill Gates and Ann Veneman"
       ]
      },
      {
       "output_type": "stream",
       "stream": "stdout",
       "text": [
        "\n",
        "Score: 0.0173 for Ann Veneman and Bill Gates"
       ]
      },
      {
       "output_type": "stream",
       "stream": "stdout",
       "text": [
        "\n",
        "Score: 0.0288 for Ann Veneman and Ann Veneman"
       ]
      },
      {
       "output_type": "stream",
       "stream": "stdout",
       "text": [
        "\n",
        "Score: 0.0288 for Ann Veneman and Bill Gates"
       ]
      },
      {
       "output_type": "stream",
       "stream": "stdout",
       "text": [
        "\n",
        "Score: 0.0198 for Ann Veneman and Bill Gates"
       ]
      },
      {
       "output_type": "stream",
       "stream": "stdout",
       "text": [
        "\n",
        "Score: 0.0185 for Ann Veneman and Bill Gates"
       ]
      },
      {
       "output_type": "stream",
       "stream": "stdout",
       "text": [
        "\n",
        "Score: 0.0176 for Ann Veneman and Anna Kournikova"
       ]
      },
      {
       "output_type": "stream",
       "stream": "stdout",
       "text": [
        "\n",
        "Score: 0.0244 for Ann Veneman and Bill Gates"
       ]
      },
      {
       "output_type": "stream",
       "stream": "stdout",
       "text": [
        "\n",
        "Score: 0.0344 for Ann Veneman and Anna Kournikova"
       ]
      },
      {
       "output_type": "stream",
       "stream": "stdout",
       "text": [
        "\n",
        "Score: 0.0152 for Ann Veneman and Ann Veneman"
       ]
      },
      {
       "output_type": "stream",
       "stream": "stdout",
       "text": [
        "\n",
        "Score: 0.0133 for Ann Veneman and Ann Veneman"
       ]
      },
      {
       "output_type": "stream",
       "stream": "stdout",
       "text": [
        "\n",
        "Score: 0.0242 for Ann Veneman and Anna Kournikova"
       ]
      },
      {
       "output_type": "stream",
       "stream": "stdout",
       "text": [
        "\n",
        "Score: 0.0214 for Ann Veneman and Ann Veneman"
       ]
      },
      {
       "output_type": "stream",
       "stream": "stdout",
       "text": [
        "\n",
        "Score: 0.0251 for Ann Veneman and Anna Kournikova"
       ]
      },
      {
       "output_type": "stream",
       "stream": "stdout",
       "text": [
        "\n",
        "Score: 0.0397 for Ann Veneman and Ann Veneman"
       ]
      },
      {
       "output_type": "stream",
       "stream": "stdout",
       "text": [
        "\n",
        "Score: 0.0036 for Ann Veneman and Anna Kournikova"
       ]
      },
      {
       "output_type": "stream",
       "stream": "stdout",
       "text": [
        "\n",
        "Score: 0.0265 for Ann Veneman and Bill Gates"
       ]
      },
      {
       "output_type": "stream",
       "stream": "stdout",
       "text": [
        "\n",
        "Score: 0.0100 for Ann Veneman and Anna Kournikova"
       ]
      },
      {
       "output_type": "stream",
       "stream": "stdout",
       "text": [
        "\n",
        "Score: 0.0168 for Ann Veneman and Anna Kournikova"
       ]
      },
      {
       "output_type": "stream",
       "stream": "stdout",
       "text": [
        "\n",
        "Score: 0.0102 for Ann Veneman and Anna Kournikova"
       ]
      },
      {
       "output_type": "stream",
       "stream": "stdout",
       "text": [
        "\n",
        "Score: 0.0000 for Ann Veneman and Bill Gates (Less than four matches)"
       ]
      },
      {
       "output_type": "stream",
       "stream": "stdout",
       "text": [
        "\n",
        "Score: 0.0253 for Ann Veneman and Ann Veneman"
       ]
      },
      {
       "output_type": "stream",
       "stream": "stdout",
       "text": [
        "\n",
        "Score: 0.0208 for Ann Veneman and Ann Veneman"
       ]
      },
      {
       "output_type": "stream",
       "stream": "stdout",
       "text": [
        "\n",
        "Score: 0.0306 for Ann Veneman and Ann Veneman"
       ]
      },
      {
       "output_type": "stream",
       "stream": "stdout",
       "text": [
        "\n",
        "Score: 0.0295 for Bill Gates and Ann Veneman"
       ]
      },
      {
       "output_type": "stream",
       "stream": "stdout",
       "text": [
        "\n",
        "Score: 0.0265 for Bill Gates and Bill Gates"
       ]
      },
      {
       "output_type": "stream",
       "stream": "stdout",
       "text": [
        "\n",
        "Score: 0.0511 for Bill Gates and Bill Gates"
       ]
      },
      {
       "output_type": "stream",
       "stream": "stdout",
       "text": [
        "\n",
        "Score: 0.0191 for Bill Gates and Bill Gates"
       ]
      },
      {
       "output_type": "stream",
       "stream": "stdout",
       "text": [
        "\n",
        "Score: 0.0063 for Bill Gates and Anna Kournikova"
       ]
      },
      {
       "output_type": "stream",
       "stream": "stdout",
       "text": [
        "\n",
        "Score: 0.0152 for Bill Gates and Bill Gates"
       ]
      },
      {
       "output_type": "stream",
       "stream": "stdout",
       "text": [
        "\n",
        "Score: 0.0182 for Bill Gates and Anna Kournikova"
       ]
      },
      {
       "output_type": "stream",
       "stream": "stdout",
       "text": [
        "\n",
        "Score: 0.0201 for Bill Gates and Ann Veneman"
       ]
      },
      {
       "output_type": "stream",
       "stream": "stdout",
       "text": [
        "\n",
        "Score: 0.0164 for Bill Gates and Ann Veneman"
       ]
      },
      {
       "output_type": "stream",
       "stream": "stdout",
       "text": [
        "\n",
        "Score: 0.0168 for Bill Gates and Anna Kournikova"
       ]
      },
      {
       "output_type": "stream",
       "stream": "stdout",
       "text": [
        "\n",
        "Score: 0.0117 for Bill Gates and Ann Veneman"
       ]
      },
      {
       "output_type": "stream",
       "stream": "stdout",
       "text": [
        "\n",
        "Score: 0.0248 for Bill Gates and Anna Kournikova"
       ]
      },
      {
       "output_type": "stream",
       "stream": "stdout",
       "text": [
        "\n",
        "Score: 0.0123 for Bill Gates and Ann Veneman"
       ]
      },
      {
       "output_type": "stream",
       "stream": "stdout",
       "text": [
        "\n",
        "Score: 0.0242 for Bill Gates and Anna Kournikova"
       ]
      },
      {
       "output_type": "stream",
       "stream": "stdout",
       "text": [
        "\n",
        "Score: 0.0332 for Bill Gates and Bill Gates"
       ]
      },
      {
       "output_type": "stream",
       "stream": "stdout",
       "text": [
        "\n",
        "Score: 0.0135 for Bill Gates and Anna Kournikova"
       ]
      },
      {
       "output_type": "stream",
       "stream": "stdout",
       "text": [
        "\n",
        "Score: 0.0304 for Bill Gates and Anna Kournikova"
       ]
      },
      {
       "output_type": "stream",
       "stream": "stdout",
       "text": [
        "\n",
        "Score: 0.0000 for Bill Gates and Anna Kournikova (Less than four matches)"
       ]
      },
      {
       "output_type": "stream",
       "stream": "stdout",
       "text": [
        "\n",
        "Score: 0.0212 for Bill Gates and Bill Gates"
       ]
      },
      {
       "output_type": "stream",
       "stream": "stdout",
       "text": [
        "\n",
        "Score: 0.0050 for Bill Gates and Ann Veneman"
       ]
      },
      {
       "output_type": "stream",
       "stream": "stdout",
       "text": [
        "\n",
        "Score: 0.0210 for Bill Gates and Ann Veneman"
       ]
      },
      {
       "output_type": "stream",
       "stream": "stdout",
       "text": [
        "\n",
        "Score: 0.0260 for Bill Gates and Ann Veneman"
       ]
      },
      {
       "output_type": "stream",
       "stream": "stdout",
       "text": [
        "\n",
        "Score: 0.0359 for Ann Veneman and Bill Gates"
       ]
      },
      {
       "output_type": "stream",
       "stream": "stdout",
       "text": [
        "\n",
        "Score: 0.0166 for Ann Veneman and Bill Gates"
       ]
      },
      {
       "output_type": "stream",
       "stream": "stdout",
       "text": [
        "\n",
        "Score: 0.0203 for Ann Veneman and Bill Gates"
       ]
      },
      {
       "output_type": "stream",
       "stream": "stdout",
       "text": [
        "\n",
        "Score: 0.0215 for Ann Veneman and Anna Kournikova"
       ]
      },
      {
       "output_type": "stream",
       "stream": "stdout",
       "text": [
        "\n",
        "Score: 0.0292 for Ann Veneman and Bill Gates"
       ]
      },
      {
       "output_type": "stream",
       "stream": "stdout",
       "text": [
        "\n",
        "Score: 0.0474 for Ann Veneman and Anna Kournikova"
       ]
      },
      {
       "output_type": "stream",
       "stream": "stdout",
       "text": [
        "\n",
        "Score: 0.0260 for Ann Veneman and Ann Veneman"
       ]
      },
      {
       "output_type": "stream",
       "stream": "stdout",
       "text": [
        "\n",
        "Score: 0.0145 for Ann Veneman and Ann Veneman"
       ]
      },
      {
       "output_type": "stream",
       "stream": "stdout",
       "text": [
        "\n",
        "Score: 0.0220 for Ann Veneman and Anna Kournikova"
       ]
      },
      {
       "output_type": "stream",
       "stream": "stdout",
       "text": [
        "\n",
        "Score: 0.0228 for Ann Veneman and Ann Veneman"
       ]
      },
      {
       "output_type": "stream",
       "stream": "stdout",
       "text": [
        "\n",
        "Score: 0.0250 for Ann Veneman and Anna Kournikova"
       ]
      },
      {
       "output_type": "stream",
       "stream": "stdout",
       "text": [
        "\n",
        "Score: 0.0463 for Ann Veneman and Ann Veneman"
       ]
      },
      {
       "output_type": "stream",
       "stream": "stdout",
       "text": [
        "\n",
        "Score: 0.0250 for Ann Veneman and Anna Kournikova"
       ]
      },
      {
       "output_type": "stream",
       "stream": "stdout",
       "text": [
        "\n",
        "Score: 0.0369 for Ann Veneman and Bill Gates"
       ]
      },
      {
       "output_type": "stream",
       "stream": "stdout",
       "text": [
        "\n",
        "Score: 0.0224 for Ann Veneman and Anna Kournikova"
       ]
      },
      {
       "output_type": "stream",
       "stream": "stdout",
       "text": [
        "\n",
        "Score: 0.0273 for Ann Veneman and Anna Kournikova"
       ]
      },
      {
       "output_type": "stream",
       "stream": "stdout",
       "text": [
        "\n",
        "Score: 0.0332 for Ann Veneman and Anna Kournikova"
       ]
      },
      {
       "output_type": "stream",
       "stream": "stdout",
       "text": [
        "\n",
        "Score: 0.0269 for Ann Veneman and Bill Gates"
       ]
      },
      {
       "output_type": "stream",
       "stream": "stdout",
       "text": [
        "\n",
        "Score: 0.0236 for Ann Veneman and Ann Veneman"
       ]
      },
      {
       "output_type": "stream",
       "stream": "stdout",
       "text": [
        "\n",
        "Score: 0.0372 for Ann Veneman and Ann Veneman"
       ]
      },
      {
       "output_type": "stream",
       "stream": "stdout",
       "text": [
        "\n",
        "Score: 0.0385 for Ann Veneman and Ann Veneman"
       ]
      },
      {
       "output_type": "stream",
       "stream": "stdout",
       "text": [
        "\n",
        "Score: 0.0469 for Bill Gates and Bill Gates"
       ]
      },
      {
       "output_type": "stream",
       "stream": "stdout",
       "text": [
        "\n",
        "Score: 0.0405 for Bill Gates and Bill Gates"
       ]
      },
      {
       "output_type": "stream",
       "stream": "stdout",
       "text": [
        "\n",
        "Score: 0.0139 for Bill Gates and Anna Kournikova"
       ]
      },
      {
       "output_type": "stream",
       "stream": "stdout",
       "text": [
        "\n",
        "Score: 0.0326 for Bill Gates and Bill Gates"
       ]
      },
      {
       "output_type": "stream",
       "stream": "stdout",
       "text": [
        "\n",
        "Score: 0.0368 for Bill Gates and Anna Kournikova"
       ]
      },
      {
       "output_type": "stream",
       "stream": "stdout",
       "text": [
        "\n",
        "Score: 0.0257 for Bill Gates and Ann Veneman"
       ]
      },
      {
       "output_type": "stream",
       "stream": "stdout",
       "text": [
        "\n",
        "Score: 0.0224 for Bill Gates and Ann Veneman"
       ]
      },
      {
       "output_type": "stream",
       "stream": "stdout",
       "text": [
        "\n",
        "Score: 0.0199 for Bill Gates and Anna Kournikova"
       ]
      },
      {
       "output_type": "stream",
       "stream": "stdout",
       "text": [
        "\n",
        "Score: 0.0375 for Bill Gates and Ann Veneman"
       ]
      },
      {
       "output_type": "stream",
       "stream": "stdout",
       "text": [
        "\n",
        "Score: 0.0322 for Bill Gates and Anna Kournikova"
       ]
      },
      {
       "output_type": "stream",
       "stream": "stdout",
       "text": [
        "\n",
        "Score: 0.0200 for Bill Gates and Ann Veneman"
       ]
      },
      {
       "output_type": "stream",
       "stream": "stdout",
       "text": [
        "\n",
        "Score: 0.0180 for Bill Gates and Anna Kournikova"
       ]
      },
      {
       "output_type": "stream",
       "stream": "stdout",
       "text": [
        "\n",
        "Score: 0.0642 for Bill Gates and Bill Gates"
       ]
      },
      {
       "output_type": "stream",
       "stream": "stdout",
       "text": [
        "\n",
        "Score: 0.0192 for Bill Gates and Anna Kournikova"
       ]
      },
      {
       "output_type": "stream",
       "stream": "stdout",
       "text": [
        "\n",
        "Score: 0.0193 for Bill Gates and Anna Kournikova"
       ]
      },
      {
       "output_type": "stream",
       "stream": "stdout",
       "text": [
        "\n",
        "Score: 0.0351 for Bill Gates and Anna Kournikova"
       ]
      },
      {
       "output_type": "stream",
       "stream": "stdout",
       "text": [
        "\n",
        "Score: 0.0247 for Bill Gates and Bill Gates"
       ]
      },
      {
       "output_type": "stream",
       "stream": "stdout",
       "text": [
        "\n",
        "Score: 0.0290 for Bill Gates and Ann Veneman"
       ]
      },
      {
       "output_type": "stream",
       "stream": "stdout",
       "text": [
        "\n",
        "Score: 0.0239 for Bill Gates and Ann Veneman"
       ]
      },
      {
       "output_type": "stream",
       "stream": "stdout",
       "text": [
        "\n",
        "Score: 0.0156 for Bill Gates and Ann Veneman"
       ]
      },
      {
       "output_type": "stream",
       "stream": "stdout",
       "text": [
        "\n",
        "Score: 0.0102 for Bill Gates and Bill Gates"
       ]
      },
      {
       "output_type": "stream",
       "stream": "stdout",
       "text": [
        "\n",
        "Score: 0.0180 for Bill Gates and Anna Kournikova"
       ]
      },
      {
       "output_type": "stream",
       "stream": "stdout",
       "text": [
        "\n",
        "Score: 0.0249 for Bill Gates and Bill Gates"
       ]
      },
      {
       "output_type": "stream",
       "stream": "stdout",
       "text": [
        "\n",
        "Score: 0.0000 for Bill Gates and Anna Kournikova (Less than four matches)"
       ]
      },
      {
       "output_type": "stream",
       "stream": "stdout",
       "text": [
        "\n",
        "Score: 0.0189 for Bill Gates and Ann Veneman"
       ]
      },
      {
       "output_type": "stream",
       "stream": "stdout",
       "text": [
        "\n",
        "Score: 0.0195 for Bill Gates and Ann Veneman"
       ]
      },
      {
       "output_type": "stream",
       "stream": "stdout",
       "text": [
        "\n",
        "Score: 0.0483 for Bill Gates and Anna Kournikova"
       ]
      },
      {
       "output_type": "stream",
       "stream": "stdout",
       "text": [
        "\n",
        "Score: 0.0183 for Bill Gates and Ann Veneman"
       ]
      },
      {
       "output_type": "stream",
       "stream": "stdout",
       "text": [
        "\n",
        "Score: 0.0232 for Bill Gates and Anna Kournikova"
       ]
      },
      {
       "output_type": "stream",
       "stream": "stdout",
       "text": [
        "\n",
        "Score: 0.0261 for Bill Gates and Ann Veneman"
       ]
      },
      {
       "output_type": "stream",
       "stream": "stdout",
       "text": [
        "\n",
        "Score: 0.0228 for Bill Gates and Anna Kournikova"
       ]
      },
      {
       "output_type": "stream",
       "stream": "stdout",
       "text": [
        "\n",
        "Score: 0.0091 for Bill Gates and Bill Gates"
       ]
      },
      {
       "output_type": "stream",
       "stream": "stdout",
       "text": [
        "\n",
        "Score: 0.0183 for Bill Gates and Anna Kournikova"
       ]
      },
      {
       "output_type": "stream",
       "stream": "stdout",
       "text": [
        "\n",
        "Score: 0.0154 for Bill Gates and Anna Kournikova"
       ]
      },
      {
       "output_type": "stream",
       "stream": "stdout",
       "text": [
        "\n",
        "Score: 0.0452 for Bill Gates and Anna Kournikova"
       ]
      },
      {
       "output_type": "stream",
       "stream": "stdout",
       "text": [
        "\n",
        "Score: 0.0337 for Bill Gates and Bill Gates"
       ]
      },
      {
       "output_type": "stream",
       "stream": "stdout",
       "text": [
        "\n",
        "Score: 0.0170 for Bill Gates and Ann Veneman"
       ]
      },
      {
       "output_type": "stream",
       "stream": "stdout",
       "text": [
        "\n",
        "Score: 0.0291 for Bill Gates and Ann Veneman"
       ]
      },
      {
       "output_type": "stream",
       "stream": "stdout",
       "text": [
        "\n",
        "Score: 0.0112 for Bill Gates and Ann Veneman"
       ]
      },
      {
       "output_type": "stream",
       "stream": "stdout",
       "text": [
        "\n",
        "Score: 0.0150 for Bill Gates and Anna Kournikova"
       ]
      },
      {
       "output_type": "stream",
       "stream": "stdout",
       "text": [
        "\n",
        "Score: 0.0267 for Bill Gates and Bill Gates"
       ]
      },
      {
       "output_type": "stream",
       "stream": "stdout",
       "text": [
        "\n",
        "Score: 0.0195 for Bill Gates and Anna Kournikova"
       ]
      },
      {
       "output_type": "stream",
       "stream": "stdout",
       "text": [
        "\n",
        "Score: 0.0248 for Bill Gates and Ann Veneman"
       ]
      },
      {
       "output_type": "stream",
       "stream": "stdout",
       "text": [
        "\n",
        "Score: 0.0257 for Bill Gates and Ann Veneman"
       ]
      },
      {
       "output_type": "stream",
       "stream": "stdout",
       "text": [
        "\n",
        "Score: 0.0158 for Bill Gates and Anna Kournikova"
       ]
      },
      {
       "output_type": "stream",
       "stream": "stdout",
       "text": [
        "\n",
        "Score: 0.0194 for Bill Gates and Ann Veneman"
       ]
      },
      {
       "output_type": "stream",
       "stream": "stdout",
       "text": [
        "\n",
        "Score: 0.0133 for Bill Gates and Anna Kournikova"
       ]
      },
      {
       "output_type": "stream",
       "stream": "stdout",
       "text": [
        "\n",
        "Score: 0.0278 for Bill Gates and Ann Veneman"
       ]
      },
      {
       "output_type": "stream",
       "stream": "stdout",
       "text": [
        "\n",
        "Score: 0.0137 for Bill Gates and Anna Kournikova"
       ]
      },
      {
       "output_type": "stream",
       "stream": "stdout",
       "text": [
        "\n",
        "Score: 0.0314 for Bill Gates and Bill Gates"
       ]
      },
      {
       "output_type": "stream",
       "stream": "stdout",
       "text": [
        "\n",
        "Score: 0.0320 for Bill Gates and Anna Kournikova"
       ]
      },
      {
       "output_type": "stream",
       "stream": "stdout",
       "text": [
        "\n",
        "Score: 0.0115 for Bill Gates and Anna Kournikova"
       ]
      },
      {
       "output_type": "stream",
       "stream": "stdout",
       "text": [
        "\n",
        "Score: 0.0322 for Bill Gates and Anna Kournikova"
       ]
      },
      {
       "output_type": "stream",
       "stream": "stdout",
       "text": [
        "\n",
        "Score: 0.0408 for Bill Gates and Bill Gates"
       ]
      },
      {
       "output_type": "stream",
       "stream": "stdout",
       "text": [
        "\n",
        "Score: 0.0135 for Bill Gates and Ann Veneman"
       ]
      },
      {
       "output_type": "stream",
       "stream": "stdout",
       "text": [
        "\n",
        "Score: 0.0257 for Bill Gates and Ann Veneman"
       ]
      },
      {
       "output_type": "stream",
       "stream": "stdout",
       "text": [
        "\n",
        "Score: 0.0252 for Bill Gates and Ann Veneman"
       ]
      },
      {
       "output_type": "stream",
       "stream": "stdout",
       "text": [
        "\n",
        "Score: 0.0000 for Anna Kournikova and Bill Gates (Less than four matches)"
       ]
      },
      {
       "output_type": "stream",
       "stream": "stdout",
       "text": [
        "\n",
        "Score: 0.0431 for Anna Kournikova and Anna Kournikova"
       ]
      },
      {
       "output_type": "stream",
       "stream": "stdout",
       "text": [
        "\n",
        "Score: 0.0169 for Anna Kournikova and Ann Veneman"
       ]
      },
      {
       "output_type": "stream",
       "stream": "stdout",
       "text": [
        "\n",
        "Score: 0.0000 for Anna Kournikova and Ann Veneman (Less than four matches)"
       ]
      },
      {
       "output_type": "stream",
       "stream": "stdout",
       "text": [
        "\n",
        "Score: 0.0488 for Anna Kournikova and Anna Kournikova"
       ]
      },
      {
       "output_type": "stream",
       "stream": "stdout",
       "text": [
        "\n",
        "Score: 0.0230 for Anna Kournikova and Ann Veneman"
       ]
      },
      {
       "output_type": "stream",
       "stream": "stdout",
       "text": [
        "\n",
        "Score: 0.0458 for Anna Kournikova and Anna Kournikova"
       ]
      },
      {
       "output_type": "stream",
       "stream": "stdout",
       "text": [
        "\n",
        "Score: 0.0053 for Anna Kournikova and Ann Veneman"
       ]
      },
      {
       "output_type": "stream",
       "stream": "stdout",
       "text": [
        "\n",
        "Score: 0.0102 for Anna Kournikova and Anna Kournikova"
       ]
      },
      {
       "output_type": "stream",
       "stream": "stdout",
       "text": [
        "\n",
        "Score: 0.0137 for Anna Kournikova and Bill Gates"
       ]
      },
      {
       "output_type": "stream",
       "stream": "stdout",
       "text": [
        "\n",
        "Score: 0.0347 for Anna Kournikova and Anna Kournikova"
       ]
      },
      {
       "output_type": "stream",
       "stream": "stdout",
       "text": [
        "\n",
        "Score: 0.0000 for Anna Kournikova and Anna Kournikova (Less than four matches)"
       ]
      },
      {
       "output_type": "stream",
       "stream": "stdout",
       "text": [
        "\n",
        "Score: 0.0381 for Anna Kournikova and Anna Kournikova"
       ]
      },
      {
       "output_type": "stream",
       "stream": "stdout",
       "text": [
        "\n",
        "Score: 0.0000 for Anna Kournikova and Bill Gates (Less than four matches)"
       ]
      },
      {
       "output_type": "stream",
       "stream": "stdout",
       "text": [
        "\n",
        "Score: 0.0000 for Anna Kournikova and Ann Veneman (Less than four matches)"
       ]
      },
      {
       "output_type": "stream",
       "stream": "stdout",
       "text": [
        "\n",
        "Score: 0.0000 for Anna Kournikova and Ann Veneman (Less than four matches)"
       ]
      },
      {
       "output_type": "stream",
       "stream": "stdout",
       "text": [
        "\n",
        "Score: 0.0138 for Anna Kournikova and Ann Veneman"
       ]
      },
      {
       "output_type": "stream",
       "stream": "stdout",
       "text": [
        "\n",
        "Score: 0.0160 for Bill Gates and Anna Kournikova"
       ]
      },
      {
       "output_type": "stream",
       "stream": "stdout",
       "text": [
        "\n",
        "Score: 0.0287 for Bill Gates and Ann Veneman"
       ]
      },
      {
       "output_type": "stream",
       "stream": "stdout",
       "text": [
        "\n",
        "Score: 0.0198 for Bill Gates and Ann Veneman"
       ]
      },
      {
       "output_type": "stream",
       "stream": "stdout",
       "text": [
        "\n",
        "Score: 0.0349 for Bill Gates and Anna Kournikova"
       ]
      },
      {
       "output_type": "stream",
       "stream": "stdout",
       "text": [
        "\n",
        "Score: 0.0377 for Bill Gates and Ann Veneman"
       ]
      },
      {
       "output_type": "stream",
       "stream": "stdout",
       "text": [
        "\n",
        "Score: 0.0169 for Bill Gates and Anna Kournikova"
       ]
      },
      {
       "output_type": "stream",
       "stream": "stdout",
       "text": [
        "\n",
        "Score: 0.0258 for Bill Gates and Ann Veneman"
       ]
      },
      {
       "output_type": "stream",
       "stream": "stdout",
       "text": [
        "\n",
        "Score: 0.0353 for Bill Gates and Anna Kournikova"
       ]
      },
      {
       "output_type": "stream",
       "stream": "stdout",
       "text": [
        "\n",
        "Score: 0.0181 for Bill Gates and Bill Gates"
       ]
      },
      {
       "output_type": "stream",
       "stream": "stdout",
       "text": [
        "\n",
        "Score: 0.0124 for Bill Gates and Anna Kournikova"
       ]
      },
      {
       "output_type": "stream",
       "stream": "stdout",
       "text": [
        "\n",
        "Score: 0.0190 for Bill Gates and Anna Kournikova"
       ]
      },
      {
       "output_type": "stream",
       "stream": "stdout",
       "text": [
        "\n",
        "Score: 0.0220 for Bill Gates and Anna Kournikova"
       ]
      },
      {
       "output_type": "stream",
       "stream": "stdout",
       "text": [
        "\n",
        "Score: 0.0307 for Bill Gates and Bill Gates"
       ]
      },
      {
       "output_type": "stream",
       "stream": "stdout",
       "text": [
        "\n",
        "Score: 0.0310 for Bill Gates and Ann Veneman"
       ]
      },
      {
       "output_type": "stream",
       "stream": "stdout",
       "text": [
        "\n",
        "Score: 0.0417 for Bill Gates and Ann Veneman"
       ]
      },
      {
       "output_type": "stream",
       "stream": "stdout",
       "text": [
        "\n",
        "Score: 0.0238 for Bill Gates and Ann Veneman"
       ]
      },
      {
       "output_type": "stream",
       "stream": "stdout",
       "text": [
        "\n",
        "Score: 0.0109 for Anna Kournikova and Ann Veneman"
       ]
      },
      {
       "output_type": "stream",
       "stream": "stdout",
       "text": [
        "\n",
        "Score: 0.0073 for Anna Kournikova and Ann Veneman"
       ]
      },
      {
       "output_type": "stream",
       "stream": "stdout",
       "text": [
        "\n",
        "Score: 0.0230 for Anna Kournikova and Anna Kournikova"
       ]
      },
      {
       "output_type": "stream",
       "stream": "stdout",
       "text": [
        "\n",
        "Score: 0.0312 for Anna Kournikova and Ann Veneman"
       ]
      },
      {
       "output_type": "stream",
       "stream": "stdout",
       "text": [
        "\n",
        "Score: 0.0190 for Anna Kournikova and Anna Kournikova"
       ]
      },
      {
       "output_type": "stream",
       "stream": "stdout",
       "text": [
        "\n",
        "Score: 0.0121 for Anna Kournikova and Ann Veneman"
       ]
      },
      {
       "output_type": "stream",
       "stream": "stdout",
       "text": [
        "\n",
        "Score: 0.0165 for Anna Kournikova and Anna Kournikova"
       ]
      },
      {
       "output_type": "stream",
       "stream": "stdout",
       "text": [
        "\n",
        "Score: 0.0064 for Anna Kournikova and Bill Gates"
       ]
      },
      {
       "output_type": "stream",
       "stream": "stdout",
       "text": [
        "\n",
        "Score: 0.0254 for Anna Kournikova and Anna Kournikova"
       ]
      },
      {
       "output_type": "stream",
       "stream": "stdout",
       "text": [
        "\n",
        "Score: 0.0000 for Anna Kournikova and Anna Kournikova (Less than four matches)"
       ]
      },
      {
       "output_type": "stream",
       "stream": "stdout",
       "text": [
        "\n",
        "Score: 0.0136 for Anna Kournikova and Anna Kournikova"
       ]
      },
      {
       "output_type": "stream",
       "stream": "stdout",
       "text": [
        "\n",
        "Score: 0.0053 for Anna Kournikova and Bill Gates"
       ]
      },
      {
       "output_type": "stream",
       "stream": "stdout",
       "text": [
        "\n",
        "Score: 0.0330 for Anna Kournikova and Ann Veneman"
       ]
      },
      {
       "output_type": "stream",
       "stream": "stdout",
       "text": [
        "\n",
        "Score: 0.0234 for Anna Kournikova and Ann Veneman"
       ]
      },
      {
       "output_type": "stream",
       "stream": "stdout",
       "text": [
        "\n",
        "Score: 0.0187 for Anna Kournikova and Ann Veneman"
       ]
      },
      {
       "output_type": "stream",
       "stream": "stdout",
       "text": [
        "\n",
        "Score: 0.0196 for Ann Veneman and Ann Veneman"
       ]
      },
      {
       "output_type": "stream",
       "stream": "stdout",
       "text": [
        "\n",
        "Score: 0.0203 for Ann Veneman and Anna Kournikova"
       ]
      },
      {
       "output_type": "stream",
       "stream": "stdout",
       "text": [
        "\n",
        "Score: 0.0261 for Ann Veneman and Ann Veneman"
       ]
      },
      {
       "output_type": "stream",
       "stream": "stdout",
       "text": [
        "\n",
        "Score: 0.0248 for Ann Veneman and Anna Kournikova"
       ]
      },
      {
       "output_type": "stream",
       "stream": "stdout",
       "text": [
        "\n",
        "Score: 0.0223 for Ann Veneman and Ann Veneman"
       ]
      },
      {
       "output_type": "stream",
       "stream": "stdout",
       "text": [
        "\n",
        "Score: 0.0061 for Ann Veneman and Anna Kournikova"
       ]
      },
      {
       "output_type": "stream",
       "stream": "stdout",
       "text": [
        "\n",
        "Score: 0.0150 for Ann Veneman and Bill Gates"
       ]
      },
      {
       "output_type": "stream",
       "stream": "stdout",
       "text": [
        "\n",
        "Score: 0.0212 for Ann Veneman and Anna Kournikova"
       ]
      },
      {
       "output_type": "stream",
       "stream": "stdout",
       "text": [
        "\n",
        "Score: 0.0311 for Ann Veneman and Anna Kournikova"
       ]
      },
      {
       "output_type": "stream",
       "stream": "stdout",
       "text": [
        "\n",
        "Score: 0.0267 for Ann Veneman and Anna Kournikova"
       ]
      },
      {
       "output_type": "stream",
       "stream": "stdout",
       "text": [
        "\n",
        "Score: 0.0165 for Ann Veneman and Bill Gates"
       ]
      },
      {
       "output_type": "stream",
       "stream": "stdout",
       "text": [
        "\n",
        "Score: 0.0262 for Ann Veneman and Ann Veneman"
       ]
      },
      {
       "output_type": "stream",
       "stream": "stdout",
       "text": [
        "\n",
        "Score: 0.0056 for Ann Veneman and Ann Veneman"
       ]
      },
      {
       "output_type": "stream",
       "stream": "stdout",
       "text": [
        "\n",
        "Score: 0.0124 for Ann Veneman and Ann Veneman"
       ]
      },
      {
       "output_type": "stream",
       "stream": "stdout",
       "text": [
        "\n",
        "Score: 0.0196 for Ann Veneman and Anna Kournikova"
       ]
      },
      {
       "output_type": "stream",
       "stream": "stdout",
       "text": [
        "\n",
        "Score: 0.0170 for Ann Veneman and Ann Veneman"
       ]
      },
      {
       "output_type": "stream",
       "stream": "stdout",
       "text": [
        "\n",
        "Score: 0.0090 for Ann Veneman and Anna Kournikova"
       ]
      },
      {
       "output_type": "stream",
       "stream": "stdout",
       "text": [
        "\n",
        "Score: 0.0165 for Ann Veneman and Ann Veneman"
       ]
      },
      {
       "output_type": "stream",
       "stream": "stdout",
       "text": [
        "\n",
        "Score: 0.0100 for Ann Veneman and Anna Kournikova"
       ]
      },
      {
       "output_type": "stream",
       "stream": "stdout",
       "text": [
        "\n",
        "Score: 0.0153 for Ann Veneman and Bill Gates"
       ]
      },
      {
       "output_type": "stream",
       "stream": "stdout",
       "text": [
        "\n",
        "Score: 0.0195 for Ann Veneman and Anna Kournikova"
       ]
      },
      {
       "output_type": "stream",
       "stream": "stdout",
       "text": [
        "\n",
        "Score: 0.0369 for Ann Veneman and Anna Kournikova"
       ]
      },
      {
       "output_type": "stream",
       "stream": "stdout",
       "text": [
        "\n",
        "Score: 0.0047 for Ann Veneman and Anna Kournikova"
       ]
      },
      {
       "output_type": "stream",
       "stream": "stdout",
       "text": [
        "\n",
        "Score: 0.0215 for Ann Veneman and Bill Gates"
       ]
      },
      {
       "output_type": "stream",
       "stream": "stdout",
       "text": [
        "\n",
        "Score: 0.0228 for Ann Veneman and Ann Veneman"
       ]
      },
      {
       "output_type": "stream",
       "stream": "stdout",
       "text": [
        "\n",
        "Score: 0.0298 for Ann Veneman and Ann Veneman"
       ]
      },
      {
       "output_type": "stream",
       "stream": "stdout",
       "text": [
        "\n",
        "Score: 0.0162 for Ann Veneman and Ann Veneman"
       ]
      },
      {
       "output_type": "stream",
       "stream": "stdout",
       "text": [
        "\n",
        "Score: 0.0363 for Anna Kournikova and Ann Veneman"
       ]
      },
      {
       "output_type": "stream",
       "stream": "stdout",
       "text": [
        "\n",
        "Score: 0.0309 for Anna Kournikova and Anna Kournikova"
       ]
      },
      {
       "output_type": "stream",
       "stream": "stdout",
       "text": [
        "\n",
        "Score: 0.0002 for Anna Kournikova and Ann Veneman"
       ]
      },
      {
       "output_type": "stream",
       "stream": "stdout",
       "text": [
        "\n",
        "Score: 0.0380 for Anna Kournikova and Anna Kournikova"
       ]
      },
      {
       "output_type": "stream",
       "stream": "stdout",
       "text": [
        "\n",
        "Score: 0.0214 for Anna Kournikova and Bill Gates"
       ]
      },
      {
       "output_type": "stream",
       "stream": "stdout",
       "text": [
        "\n",
        "Score: 0.0190 for Anna Kournikova and Anna Kournikova"
       ]
      },
      {
       "output_type": "stream",
       "stream": "stdout",
       "text": [
        "\n",
        "Score: 0.0286 for Anna Kournikova and Anna Kournikova"
       ]
      },
      {
       "output_type": "stream",
       "stream": "stdout",
       "text": [
        "\n",
        "Score: 0.0444 for Anna Kournikova and Anna Kournikova"
       ]
      },
      {
       "output_type": "stream",
       "stream": "stdout",
       "text": [
        "\n",
        "Score: 0.0266 for Anna Kournikova and Bill Gates"
       ]
      },
      {
       "output_type": "stream",
       "stream": "stdout",
       "text": [
        "\n",
        "Score: 0.0000 for Anna Kournikova and Ann Veneman (Less than four matches)"
       ]
      },
      {
       "output_type": "stream",
       "stream": "stdout",
       "text": [
        "\n",
        "Score: 0.0247 for Anna Kournikova and Ann Veneman"
       ]
      },
      {
       "output_type": "stream",
       "stream": "stdout",
       "text": [
        "\n",
        "Score: 0.0320 for Anna Kournikova and Ann Veneman"
       ]
      },
      {
       "output_type": "stream",
       "stream": "stdout",
       "text": [
        "\n",
        "Score: 0.0586 for Ann Veneman and Anna Kournikova"
       ]
      },
      {
       "output_type": "stream",
       "stream": "stdout",
       "text": [
        "\n",
        "Score: 0.0357 for Ann Veneman and Ann Veneman"
       ]
      },
      {
       "output_type": "stream",
       "stream": "stdout",
       "text": [
        "\n",
        "Score: 0.0165 for Ann Veneman and Anna Kournikova"
       ]
      },
      {
       "output_type": "stream",
       "stream": "stdout",
       "text": [
        "\n",
        "Score: 0.0259 for Ann Veneman and Bill Gates"
       ]
      },
      {
       "output_type": "stream",
       "stream": "stdout",
       "text": [
        "\n",
        "Score: 0.0000 for Ann Veneman and Anna Kournikova (Less than four matches)"
       ]
      },
      {
       "output_type": "stream",
       "stream": "stdout",
       "text": [
        "\n",
        "Score: 0.0270 for Ann Veneman and Anna Kournikova"
       ]
      },
      {
       "output_type": "stream",
       "stream": "stdout",
       "text": [
        "\n",
        "Score: 0.0182 for Ann Veneman and Anna Kournikova"
       ]
      },
      {
       "output_type": "stream",
       "stream": "stdout",
       "text": [
        "\n",
        "Score: 0.0058 for Ann Veneman and Bill Gates"
       ]
      },
      {
       "output_type": "stream",
       "stream": "stdout",
       "text": [
        "\n",
        "Score: 0.0195 for Ann Veneman and Ann Veneman"
       ]
      },
      {
       "output_type": "stream",
       "stream": "stdout",
       "text": [
        "\n",
        "Score: 0.0432 for Ann Veneman and Ann Veneman"
       ]
      },
      {
       "output_type": "stream",
       "stream": "stdout",
       "text": [
        "\n",
        "Score: 0.0194 for Ann Veneman and Ann Veneman"
       ]
      },
      {
       "output_type": "stream",
       "stream": "stdout",
       "text": [
        "\n",
        "Score: 0.0161 for Anna Kournikova and Ann Veneman"
       ]
      },
      {
       "output_type": "stream",
       "stream": "stdout",
       "text": [
        "\n",
        "Score: 0.0000 for Anna Kournikova and Anna Kournikova (Less than four matches)"
       ]
      },
      {
       "output_type": "stream",
       "stream": "stdout",
       "text": [
        "\n",
        "Score: 0.0289 for Anna Kournikova and Bill Gates"
       ]
      },
      {
       "output_type": "stream",
       "stream": "stdout",
       "text": [
        "\n",
        "Score: 0.0366 for Anna Kournikova and Anna Kournikova"
       ]
      },
      {
       "output_type": "stream",
       "stream": "stdout",
       "text": [
        "\n",
        "Score: 0.0144 for Anna Kournikova and Anna Kournikova"
       ]
      },
      {
       "output_type": "stream",
       "stream": "stdout",
       "text": [
        "\n",
        "Score: 0.0352 for Anna Kournikova and Anna Kournikova"
       ]
      },
      {
       "output_type": "stream",
       "stream": "stdout",
       "text": [
        "\n",
        "Score: 0.0293 for Anna Kournikova and Bill Gates"
       ]
      },
      {
       "output_type": "stream",
       "stream": "stdout",
       "text": [
        "\n",
        "Score: 0.0185 for Anna Kournikova and Ann Veneman"
       ]
      },
      {
       "output_type": "stream",
       "stream": "stdout",
       "text": [
        "\n",
        "Score: 0.0069 for Anna Kournikova and Ann Veneman"
       ]
      },
      {
       "output_type": "stream",
       "stream": "stdout",
       "text": [
        "\n",
        "Score: 0.0187 for Anna Kournikova and Ann Veneman"
       ]
      },
      {
       "output_type": "stream",
       "stream": "stdout",
       "text": [
        "\n",
        "Score: 0.0183 for Ann Veneman and Anna Kournikova"
       ]
      },
      {
       "output_type": "stream",
       "stream": "stdout",
       "text": [
        "\n",
        "Score: 0.0277 for Ann Veneman and Bill Gates"
       ]
      },
      {
       "output_type": "stream",
       "stream": "stdout",
       "text": [
        "\n",
        "Score: 0.0147 for Ann Veneman and Anna Kournikova"
       ]
      },
      {
       "output_type": "stream",
       "stream": "stdout",
       "text": [
        "\n",
        "Score: 0.0116 for Ann Veneman and Anna Kournikova"
       ]
      },
      {
       "output_type": "stream",
       "stream": "stdout",
       "text": [
        "\n",
        "Score: 0.0159 for Ann Veneman and Anna Kournikova"
       ]
      },
      {
       "output_type": "stream",
       "stream": "stdout",
       "text": [
        "\n",
        "Score: 0.0171 for Ann Veneman and Bill Gates"
       ]
      },
      {
       "output_type": "stream",
       "stream": "stdout",
       "text": [
        "\n",
        "Score: 0.0269 for Ann Veneman and Ann Veneman"
       ]
      },
      {
       "output_type": "stream",
       "stream": "stdout",
       "text": [
        "\n",
        "Score: 0.0194 for Ann Veneman and Ann Veneman"
       ]
      },
      {
       "output_type": "stream",
       "stream": "stdout",
       "text": [
        "\n",
        "Score: 0.0228 for Ann Veneman and Ann Veneman"
       ]
      },
      {
       "output_type": "stream",
       "stream": "stdout",
       "text": [
        "\n",
        "Score: 0.0267 for Anna Kournikova and Bill Gates"
       ]
      },
      {
       "output_type": "stream",
       "stream": "stdout",
       "text": [
        "\n",
        "Score: 0.0108 for Anna Kournikova and Anna Kournikova"
       ]
      },
      {
       "output_type": "stream",
       "stream": "stdout",
       "text": [
        "\n",
        "Score: 0.0120 for Anna Kournikova and Anna Kournikova"
       ]
      },
      {
       "output_type": "stream",
       "stream": "stdout",
       "text": [
        "\n",
        "Score: 0.0236 for Anna Kournikova and Anna Kournikova"
       ]
      },
      {
       "output_type": "stream",
       "stream": "stdout",
       "text": [
        "\n",
        "Score: 0.0096 for Anna Kournikova and Bill Gates"
       ]
      },
      {
       "output_type": "stream",
       "stream": "stdout",
       "text": [
        "\n",
        "Score: 0.0076 for Anna Kournikova and Ann Veneman"
       ]
      },
      {
       "output_type": "stream",
       "stream": "stdout",
       "text": [
        "\n",
        "Score: 0.0152 for Anna Kournikova and Ann Veneman"
       ]
      },
      {
       "output_type": "stream",
       "stream": "stdout",
       "text": [
        "\n",
        "Score: 0.0164 for Anna Kournikova and Ann Veneman"
       ]
      },
      {
       "output_type": "stream",
       "stream": "stdout",
       "text": [
        "\n",
        "Score: 0.0172 for Bill Gates and Anna Kournikova"
       ]
      },
      {
       "output_type": "stream",
       "stream": "stdout",
       "text": [
        "\n",
        "Score: 0.0244 for Bill Gates and Anna Kournikova"
       ]
      },
      {
       "output_type": "stream",
       "stream": "stdout",
       "text": [
        "\n",
        "Score: 0.0373 for Bill Gates and Anna Kournikova"
       ]
      },
      {
       "output_type": "stream",
       "stream": "stdout",
       "text": [
        "\n",
        "Score: 0.0305 for Bill Gates and Bill Gates"
       ]
      },
      {
       "output_type": "stream",
       "stream": "stdout",
       "text": [
        "\n",
        "Score: 0.0159 for Bill Gates and Ann Veneman"
       ]
      },
      {
       "output_type": "stream",
       "stream": "stdout",
       "text": [
        "\n",
        "Score: 0.0367 for Bill Gates and Ann Veneman"
       ]
      },
      {
       "output_type": "stream",
       "stream": "stdout",
       "text": [
        "\n",
        "Score: 0.0338 for Bill Gates and Ann Veneman"
       ]
      },
      {
       "output_type": "stream",
       "stream": "stdout",
       "text": [
        "\n",
        "Score: 0.0179 for Anna Kournikova and Anna Kournikova"
       ]
      },
      {
       "output_type": "stream",
       "stream": "stdout",
       "text": [
        "\n",
        "Score: 0.0229 for Anna Kournikova and Anna Kournikova"
       ]
      },
      {
       "output_type": "stream",
       "stream": "stdout",
       "text": [
        "\n",
        "Score: 0.0377 for Anna Kournikova and Bill Gates"
       ]
      },
      {
       "output_type": "stream",
       "stream": "stdout",
       "text": [
        "\n",
        "Score: 0.0184 for Anna Kournikova and Ann Veneman"
       ]
      },
      {
       "output_type": "stream",
       "stream": "stdout",
       "text": [
        "\n",
        "Score: 0.0189 for Anna Kournikova and Ann Veneman"
       ]
      },
      {
       "output_type": "stream",
       "stream": "stdout",
       "text": [
        "\n",
        "Score: 0.0107 for Anna Kournikova and Ann Veneman"
       ]
      },
      {
       "output_type": "stream",
       "stream": "stdout",
       "text": [
        "\n",
        "Score: 0.0030 for Anna Kournikova and Anna Kournikova"
       ]
      },
      {
       "output_type": "stream",
       "stream": "stdout",
       "text": [
        "\n",
        "Score: 0.0000 for Anna Kournikova and Bill Gates (Less than four matches)"
       ]
      },
      {
       "output_type": "stream",
       "stream": "stdout",
       "text": [
        "\n",
        "Score: 0.0415 for Anna Kournikova and Ann Veneman"
       ]
      },
      {
       "output_type": "stream",
       "stream": "stdout",
       "text": [
        "\n",
        "Score: 0.0151 for Anna Kournikova and Ann Veneman"
       ]
      },
      {
       "output_type": "stream",
       "stream": "stdout",
       "text": [
        "\n",
        "Score: 0.0000 for Anna Kournikova and Ann Veneman (Less than four matches)"
       ]
      },
      {
       "output_type": "stream",
       "stream": "stdout",
       "text": [
        "\n",
        "Score: 0.0160 for Anna Kournikova and Bill Gates"
       ]
      },
      {
       "output_type": "stream",
       "stream": "stdout",
       "text": [
        "\n",
        "Score: 0.0191 for Anna Kournikova and Ann Veneman"
       ]
      },
      {
       "output_type": "stream",
       "stream": "stdout",
       "text": [
        "\n",
        "Score: 0.0000 for Anna Kournikova and Ann Veneman (Less than four matches)"
       ]
      },
      {
       "output_type": "stream",
       "stream": "stdout",
       "text": [
        "\n",
        "Score: 0.0253 for Anna Kournikova and Ann Veneman"
       ]
      },
      {
       "output_type": "stream",
       "stream": "stdout",
       "text": [
        "\n",
        "Score: 0.0220 for Bill Gates and Ann Veneman"
       ]
      },
      {
       "output_type": "stream",
       "stream": "stdout",
       "text": [
        "\n",
        "Score: 0.0242 for Bill Gates and Ann Veneman"
       ]
      },
      {
       "output_type": "stream",
       "stream": "stdout",
       "text": [
        "\n",
        "Score: 0.0269 for Bill Gates and Ann Veneman"
       ]
      },
      {
       "output_type": "stream",
       "stream": "stdout",
       "text": [
        "\n",
        "Score: 0.0133 for Ann Veneman and Ann Veneman"
       ]
      },
      {
       "output_type": "stream",
       "stream": "stdout",
       "text": [
        "\n",
        "Score: 0.0359 for Ann Veneman and Ann Veneman"
       ]
      },
      {
       "output_type": "stream",
       "stream": "stdout",
       "text": [
        "\n",
        "Score: 0.0311 for Ann Veneman and Ann Veneman"
       ]
      },
      {
       "output_type": "stream",
       "stream": "stdout",
       "text": [
        "\n"
       ]
      }
     ],
     "prompt_number": 3
    },
    {
     "cell_type": "code",
     "collapsed": false,
     "input": [
      "display.scoreHist(result)"
     ],
     "language": "python",
     "metadata": {},
     "outputs": [
      {
       "output_type": "stream",
       "stream": "stdout",
       "text": [
        "Mean(same):\t\t0.027\n",
        "Mean(diff):\t\t0.021\n",
        "Diff of means:\t\t0.007\n",
        "Standard deviation:\t0.013\n",
        "# of sd's:\t\t0.506\n"
       ]
      },
      {
       "output_type": "display_data",
       "png": "[encoded data removed]"
      }
     ],
     "prompt_number": 8
    },
    {
     "cell_type": "code",
     "collapsed": false,
     "input": [
      "display.farPlot(result)"
     ],
     "language": "python",
     "metadata": {},
     "outputs": [
      {
       "ename": "AttributeError",
       "evalue": "'module' object has no attribute 'farPlot'",
       "output_type": "pyerr",
       "traceback": [
        "\u001b[0;31m---------------------------------------------------------------------------\u001b[0m\n\u001b[0;31mAttributeError\u001b[0m                            Traceback (most recent call last)",
        "\u001b[0;32m<ipython-input-7-f23281181a78>\u001b[0m in \u001b[0;36m<module>\u001b[0;34m()\u001b[0m\n\u001b[0;32m----> 1\u001b[0;31m \u001b[0mdisplay\u001b[0m\u001b[0;34m.\u001b[0m\u001b[0mfarPlot\u001b[0m\u001b[0;34m(\u001b[0m\u001b[0mresult\u001b[0m\u001b[0;34m)\u001b[0m\u001b[0;34m\u001b[0m\u001b[0m\n\u001b[0m",
        "\u001b[0;31mAttributeError\u001b[0m: 'module' object has no attribute 'farPlot'"
       ]
      }
     ],
     "prompt_number": 7
    }
   ],
   "metadata": {}
  }
 ]
}
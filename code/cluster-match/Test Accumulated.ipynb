{
 "metadata": {
  "name": "Test Accumulated"
 },
 "nbformat": 3,
 "nbformat_minor": 0,
 "worksheets": [
  {
   "cells": [
    {
     "cell_type": "code",
     "collapsed": false,
     "input": [
      "#Stupid hack to load files from sibling dir\n",
      "import sys; import os\n",
      "sys.path.insert(0, os.path.abspath('..'))\n",
      "\n",
      "%load_ext autoreload\n",
      "%autoreload 2"
     ],
     "language": "python",
     "metadata": {},
     "outputs": [],
     "prompt_number": 1
    },
    {
     "cell_type": "code",
     "collapsed": false,
     "input": [
      "import fnmatch\n",
      "import os\n",
      "import matching\n",
      "import weightMatrix\n",
      "import display\n",
      "import itertools"
     ],
     "language": "python",
     "metadata": {},
     "outputs": [],
     "prompt_number": 2
    },
    {
     "cell_type": "code",
     "collapsed": false,
     "input": [
      "dt = 5\n",
      "nb_thresholds = 50\n",
      "thresholds_cluster = numpy.linspace(0.8,1.0, nb_thresholds)\n",
      "thresholds_nocluster = numpy.linspace(0.3,0.8, nb_thresholds)\n",
      "thresholds_iso = numpy.linspace(0.4,0.9, nb_thresholds)\n",
      "thresholds_spectral = numpy.linspace(0.3,0.8, nb_thresholds)\n",
      "thresholds_spectralMMC = numpy.linspace(0.3,1.0, nb_thresholds)\n",
      "\n",
      "directory = \"Accumulated\"\n",
      "keypoint = \"SIFT\"\n",
      "descriptor = \"SIFT\""
     ],
     "language": "python",
     "metadata": {},
     "outputs": [],
     "prompt_number": 3
    },
    {
     "cell_type": "code",
     "collapsed": false,
     "input": [
      "correspondences = matching.folderCorrespondences(directory, dt, keypoint, descriptor)\n",
      "nb_correspondences = sum(correspondences)"
     ],
     "language": "python",
     "metadata": {},
     "outputs": [
      {
       "output_type": "stream",
       "stream": "stdout",
       "text": [
        "2Z1K6C  "
       ]
      },
      {
       "output_type": "stream",
       "stream": "stdout",
       "text": [
        "1G8ML7  "
       ]
      },
      {
       "output_type": "stream",
       "stream": "stdout",
       "text": [
        "N8ZL5S  "
       ]
      },
      {
       "output_type": "stream",
       "stream": "stdout",
       "text": [
        "80WQUR  "
       ]
      },
      {
       "output_type": "stream",
       "stream": "stdout",
       "text": [
        "FZ7Y7P  "
       ]
      },
      {
       "output_type": "stream",
       "stream": "stdout",
       "text": [
        "DQD1SV  "
       ]
      },
      {
       "output_type": "stream",
       "stream": "stdout",
       "text": [
        "3A4O9O  "
       ]
      },
      {
       "output_type": "stream",
       "stream": "stdout",
       "text": [
        "KWBC3Y  "
       ]
      },
      {
       "output_type": "stream",
       "stream": "stdout",
       "text": [
        "8H5ZWL  "
       ]
      },
      {
       "output_type": "stream",
       "stream": "stdout",
       "text": [
        "LTTDP3  "
       ]
      },
      {
       "output_type": "stream",
       "stream": "stdout",
       "text": [
        "LMX1E1  "
       ]
      },
      {
       "output_type": "stream",
       "stream": "stdout",
       "text": [
        "TISHXN  "
       ]
      },
      {
       "output_type": "stream",
       "stream": "stdout",
       "text": [
        "EM5ACH  "
       ]
      },
      {
       "output_type": "stream",
       "stream": "stdout",
       "text": [
        "9OIRPZ  "
       ]
      },
      {
       "output_type": "stream",
       "stream": "stdout",
       "text": [
        "4E2RRN  "
       ]
      },
      {
       "output_type": "stream",
       "stream": "stdout",
       "text": [
        "QMRBV3  "
       ]
      },
      {
       "output_type": "stream",
       "stream": "stdout",
       "text": [
        "PTY26L  "
       ]
      },
      {
       "output_type": "stream",
       "stream": "stdout",
       "text": [
        "O5KS4T  "
       ]
      },
      {
       "output_type": "stream",
       "stream": "stdout",
       "text": [
        "R0646X  "
       ]
      },
      {
       "output_type": "stream",
       "stream": "stdout",
       "text": [
        "40VXKM  "
       ]
      },
      {
       "output_type": "stream",
       "stream": "stdout",
       "text": [
        "TQWDXL  "
       ]
      },
      {
       "output_type": "stream",
       "stream": "stdout",
       "text": [
        "7E75DI  "
       ]
      },
      {
       "output_type": "stream",
       "stream": "stdout",
       "text": [
        "HTTBV4  "
       ]
      },
      {
       "output_type": "stream",
       "stream": "stdout",
       "text": [
        "M4SDMI  "
       ]
      },
      {
       "output_type": "stream",
       "stream": "stdout",
       "text": [
        "ZDLKYP  "
       ]
      },
      {
       "output_type": "stream",
       "stream": "stdout",
       "text": [
        "RSX4C0  "
       ]
      },
      {
       "output_type": "stream",
       "stream": "stdout",
       "text": [
        "2RWBM5  "
       ]
      },
      {
       "output_type": "stream",
       "stream": "stdout",
       "text": [
        "ABDX1R  "
       ]
      },
      {
       "output_type": "stream",
       "stream": "stdout",
       "text": [
        "5JXEBK  "
       ]
      },
      {
       "output_type": "stream",
       "stream": "stdout",
       "text": [
        "JTWQ0P  "
       ]
      },
      {
       "output_type": "stream",
       "stream": "stdout",
       "text": [
        "QMQO7I  "
       ]
      },
      {
       "output_type": "stream",
       "stream": "stdout",
       "text": [
        "XV9FBA  "
       ]
      },
      {
       "output_type": "stream",
       "stream": "stdout",
       "text": [
        "C59YBW  "
       ]
      },
      {
       "output_type": "stream",
       "stream": "stdout",
       "text": [
        "73I4OJ  "
       ]
      },
      {
       "output_type": "stream",
       "stream": "stdout",
       "text": [
        "4DRQ8W  "
       ]
      },
      {
       "output_type": "stream",
       "stream": "stdout",
       "text": [
        "30GRRM  "
       ]
      },
      {
       "output_type": "stream",
       "stream": "stdout",
       "text": [
        "GYU94F  "
       ]
      },
      {
       "output_type": "stream",
       "stream": "stdout",
       "text": [
        "RXSATM  "
       ]
      },
      {
       "output_type": "stream",
       "stream": "stdout",
       "text": [
        "ON8XNZ  "
       ]
      },
      {
       "output_type": "stream",
       "stream": "stdout",
       "text": [
        "UYO3FK  "
       ]
      },
      {
       "output_type": "stream",
       "stream": "stdout",
       "text": [
        "U8VD2L  "
       ]
      },
      {
       "output_type": "stream",
       "stream": "stdout",
       "text": [
        "Z4OJVA  "
       ]
      },
      {
       "output_type": "stream",
       "stream": "stdout",
       "text": [
        "DISHQG  "
       ]
      },
      {
       "output_type": "stream",
       "stream": "stdout",
       "text": [
        "GXIP8V  "
       ]
      },
      {
       "output_type": "stream",
       "stream": "stdout",
       "text": [
        "0LY95L  "
       ]
      },
      {
       "output_type": "stream",
       "stream": "stdout",
       "text": [
        "ZLI3NJ  "
       ]
      },
      {
       "output_type": "stream",
       "stream": "stdout",
       "text": [
        "506NNA  "
       ]
      },
      {
       "output_type": "stream",
       "stream": "stdout",
       "text": [
        "9GR9LR  "
       ]
      },
      {
       "output_type": "stream",
       "stream": "stdout",
       "text": [
        "HKC7GO  "
       ]
      },
      {
       "output_type": "stream",
       "stream": "stdout",
       "text": [
        "NR1A0E  "
       ]
      },
      {
       "output_type": "stream",
       "stream": "stdout",
       "text": [
        "C990P0  "
       ]
      },
      {
       "output_type": "stream",
       "stream": "stdout",
       "text": [
        "5MMNGA  "
       ]
      },
      {
       "output_type": "stream",
       "stream": "stdout",
       "text": [
        "IU0ZJX  "
       ]
      },
      {
       "output_type": "stream",
       "stream": "stdout",
       "text": [
        "DX4VR8  "
       ]
      },
      {
       "output_type": "stream",
       "stream": "stdout",
       "text": [
        "4VYIZG  "
       ]
      },
      {
       "output_type": "stream",
       "stream": "stdout",
       "text": [
        "2X3EKZ  "
       ]
      },
      {
       "output_type": "stream",
       "stream": "stdout",
       "text": [
        "1AG0DK  "
       ]
      },
      {
       "output_type": "stream",
       "stream": "stdout",
       "text": [
        "UYC6W4  "
       ]
      },
      {
       "output_type": "stream",
       "stream": "stdout",
       "text": [
        "O0MD4E  "
       ]
      },
      {
       "output_type": "stream",
       "stream": "stdout",
       "text": [
        "5EPS6U  "
       ]
      },
      {
       "output_type": "stream",
       "stream": "stdout",
       "text": [
        "OZJV1X  "
       ]
      },
      {
       "output_type": "stream",
       "stream": "stdout",
       "text": [
        "027XAS  "
       ]
      },
      {
       "output_type": "stream",
       "stream": "stdout",
       "text": [
        "6GQH93  "
       ]
      },
      {
       "output_type": "stream",
       "stream": "stdout",
       "text": [
        "9DUE6Z  "
       ]
      },
      {
       "output_type": "stream",
       "stream": "stdout",
       "text": [
        "Z2DT1R  "
       ]
      },
      {
       "output_type": "stream",
       "stream": "stdout",
       "text": [
        "RVN6CE  "
       ]
      },
      {
       "output_type": "stream",
       "stream": "stdout",
       "text": [
        "L4GZX3  "
       ]
      },
      {
       "output_type": "stream",
       "stream": "stdout",
       "text": [
        "X7RNOZ  "
       ]
      },
      {
       "output_type": "stream",
       "stream": "stdout",
       "text": [
        "Z5V44Y  "
       ]
      },
      {
       "output_type": "stream",
       "stream": "stdout",
       "text": [
        "ZJVEE5  "
       ]
      },
      {
       "output_type": "stream",
       "stream": "stdout",
       "text": [
        "562WAS  "
       ]
      },
      {
       "output_type": "stream",
       "stream": "stdout",
       "text": [
        "OYTGYJ  "
       ]
      },
      {
       "output_type": "stream",
       "stream": "stdout",
       "text": [
        "FVQKXZ  "
       ]
      },
      {
       "output_type": "stream",
       "stream": "stdout",
       "text": [
        "EWNOIH  "
       ]
      },
      {
       "output_type": "stream",
       "stream": "stdout",
       "text": [
        "K65L9N  "
       ]
      },
      {
       "output_type": "stream",
       "stream": "stdout",
       "text": [
        "UCR3N5  "
       ]
      },
      {
       "output_type": "stream",
       "stream": "stdout",
       "text": [
        "E66R8I  "
       ]
      },
      {
       "output_type": "stream",
       "stream": "stdout",
       "text": [
        "R6XGWO  "
       ]
      },
      {
       "output_type": "stream",
       "stream": "stdout",
       "text": [
        "V5PMW7  "
       ]
      },
      {
       "output_type": "stream",
       "stream": "stdout",
       "text": [
        "K9H1ZQ  "
       ]
      },
      {
       "output_type": "stream",
       "stream": "stdout",
       "text": [
        "GFVQHI  "
       ]
      },
      {
       "output_type": "stream",
       "stream": "stdout",
       "text": [
        "K3XUTE  "
       ]
      },
      {
       "output_type": "stream",
       "stream": "stdout",
       "text": [
        "WKXL4H  "
       ]
      },
      {
       "output_type": "stream",
       "stream": "stdout",
       "text": [
        "NR22QM  "
       ]
      },
      {
       "output_type": "stream",
       "stream": "stdout",
       "text": [
        "MFUEHH  "
       ]
      },
      {
       "output_type": "stream",
       "stream": "stdout",
       "text": [
        "V8FD6F  "
       ]
      },
      {
       "output_type": "stream",
       "stream": "stdout",
       "text": [
        "A7SRQB  "
       ]
      },
      {
       "output_type": "stream",
       "stream": "stdout",
       "text": [
        "497LZC  "
       ]
      },
      {
       "output_type": "stream",
       "stream": "stdout",
       "text": [
        "WRAOHB  "
       ]
      },
      {
       "output_type": "stream",
       "stream": "stdout",
       "text": [
        "Z1JVRT  "
       ]
      },
      {
       "output_type": "stream",
       "stream": "stdout",
       "text": [
        "S82EMR  "
       ]
      },
      {
       "output_type": "stream",
       "stream": "stdout",
       "text": [
        "390GUN  "
       ]
      },
      {
       "output_type": "stream",
       "stream": "stdout",
       "text": [
        "O9CB81  "
       ]
      },
      {
       "output_type": "stream",
       "stream": "stdout",
       "text": [
        "1LXD7T  "
       ]
      },
      {
       "output_type": "stream",
       "stream": "stdout",
       "text": [
        "AY34K3  "
       ]
      },
      {
       "output_type": "stream",
       "stream": "stdout",
       "text": [
        "TSWGO2  "
       ]
      },
      {
       "output_type": "stream",
       "stream": "stdout",
       "text": [
        "C2IRR5  "
       ]
      },
      {
       "output_type": "stream",
       "stream": "stdout",
       "text": [
        "FC25UA  "
       ]
      },
      {
       "output_type": "stream",
       "stream": "stdout",
       "text": [
        "3OB719  "
       ]
      },
      {
       "output_type": "stream",
       "stream": "stdout",
       "text": [
        "96TCQ8  "
       ]
      },
      {
       "output_type": "stream",
       "stream": "stdout",
       "text": [
        "CTT9O7  "
       ]
      },
      {
       "output_type": "stream",
       "stream": "stdout",
       "text": [
        "JWKZ6F  "
       ]
      },
      {
       "output_type": "stream",
       "stream": "stdout",
       "text": [
        "LHD8CQ  "
       ]
      },
      {
       "output_type": "stream",
       "stream": "stdout",
       "text": [
        "99IZJG  "
       ]
      },
      {
       "output_type": "stream",
       "stream": "stdout",
       "text": [
        "02U4EY  "
       ]
      },
      {
       "output_type": "stream",
       "stream": "stdout",
       "text": [
        "YJ0V36  "
       ]
      },
      {
       "output_type": "stream",
       "stream": "stdout",
       "text": [
        "GAUWCW  "
       ]
      },
      {
       "output_type": "stream",
       "stream": "stdout",
       "text": [
        "OG7M3L  "
       ]
      },
      {
       "output_type": "stream",
       "stream": "stdout",
       "text": [
        "GC2YIY  "
       ]
      },
      {
       "output_type": "stream",
       "stream": "stdout",
       "text": [
        "BOU48K  "
       ]
      },
      {
       "output_type": "stream",
       "stream": "stdout",
       "text": [
        "6M5CE1  "
       ]
      },
      {
       "output_type": "stream",
       "stream": "stdout",
       "text": [
        "8TKX44  "
       ]
      },
      {
       "output_type": "stream",
       "stream": "stdout",
       "text": [
        "2F9Y0I  "
       ]
      },
      {
       "output_type": "stream",
       "stream": "stdout",
       "text": [
        "NKKDD1  "
       ]
      },
      {
       "output_type": "stream",
       "stream": "stdout",
       "text": [
        "6BPO0Z  "
       ]
      },
      {
       "output_type": "stream",
       "stream": "stdout",
       "text": [
        "5QP2CW  "
       ]
      },
      {
       "output_type": "stream",
       "stream": "stdout",
       "text": [
        "VKRCBU  "
       ]
      },
      {
       "output_type": "stream",
       "stream": "stdout",
       "text": [
        "CR84HK  "
       ]
      },
      {
       "output_type": "stream",
       "stream": "stdout",
       "text": [
        "SU6QSW  "
       ]
      },
      {
       "output_type": "stream",
       "stream": "stdout",
       "text": [
        "3H7MQB  "
       ]
      },
      {
       "output_type": "stream",
       "stream": "stdout",
       "text": [
        "WG1F1C  "
       ]
      },
      {
       "output_type": "stream",
       "stream": "stdout",
       "text": [
        "C0KFH9  "
       ]
      },
      {
       "output_type": "stream",
       "stream": "stdout",
       "text": [
        "VBPEBC  "
       ]
      },
      {
       "output_type": "stream",
       "stream": "stdout",
       "text": [
        "JYM95A  "
       ]
      },
      {
       "output_type": "stream",
       "stream": "stdout",
       "text": [
        "6AMKG9  "
       ]
      },
      {
       "output_type": "stream",
       "stream": "stdout",
       "text": [
        "88ZM7V  "
       ]
      },
      {
       "output_type": "stream",
       "stream": "stdout",
       "text": [
        "5T4CVX  "
       ]
      },
      {
       "output_type": "stream",
       "stream": "stdout",
       "text": [
        "H945QK  "
       ]
      },
      {
       "output_type": "stream",
       "stream": "stdout",
       "text": [
        "R2TGES  "
       ]
      },
      {
       "output_type": "stream",
       "stream": "stdout",
       "text": [
        "NV83UC  "
       ]
      },
      {
       "output_type": "stream",
       "stream": "stdout",
       "text": [
        "N15IEM  "
       ]
      },
      {
       "output_type": "stream",
       "stream": "stdout",
       "text": [
        "4NIA8P  "
       ]
      },
      {
       "output_type": "stream",
       "stream": "stdout",
       "text": [
        "88VB3K  "
       ]
      },
      {
       "output_type": "stream",
       "stream": "stdout",
       "text": [
        "J1M6N1  "
       ]
      },
      {
       "output_type": "stream",
       "stream": "stdout",
       "text": [
        "Q85NVQ  "
       ]
      },
      {
       "output_type": "stream",
       "stream": "stdout",
       "text": [
        "KHD6GV  "
       ]
      },
      {
       "output_type": "stream",
       "stream": "stdout",
       "text": [
        "MH3YHA  "
       ]
      },
      {
       "output_type": "stream",
       "stream": "stdout",
       "text": [
        "UMZKOZ  "
       ]
      },
      {
       "output_type": "stream",
       "stream": "stdout",
       "text": [
        "Y6QT0C  "
       ]
      },
      {
       "output_type": "stream",
       "stream": "stdout",
       "text": [
        "P92G0U  "
       ]
      },
      {
       "output_type": "stream",
       "stream": "stdout",
       "text": [
        "ONOFO1  "
       ]
      },
      {
       "output_type": "stream",
       "stream": "stdout",
       "text": [
        "9OZS6Y  "
       ]
      },
      {
       "output_type": "stream",
       "stream": "stdout",
       "text": [
        "BCR72R  "
       ]
      },
      {
       "output_type": "stream",
       "stream": "stdout",
       "text": [
        "DYHAHI  "
       ]
      },
      {
       "output_type": "stream",
       "stream": "stdout",
       "text": [
        "ZCC15V  "
       ]
      },
      {
       "output_type": "stream",
       "stream": "stdout",
       "text": [
        "I9ZVM2  "
       ]
      },
      {
       "output_type": "stream",
       "stream": "stdout",
       "text": [
        "FTNBIY  "
       ]
      },
      {
       "output_type": "stream",
       "stream": "stdout",
       "text": [
        "RFJ848  "
       ]
      },
      {
       "output_type": "stream",
       "stream": "stdout",
       "text": [
        "TI5IGD  "
       ]
      },
      {
       "output_type": "stream",
       "stream": "stdout",
       "text": [
        "EWAA43  "
       ]
      },
      {
       "output_type": "stream",
       "stream": "stdout",
       "text": [
        "AG5R8C  "
       ]
      },
      {
       "output_type": "stream",
       "stream": "stdout",
       "text": [
        "6PQOII  "
       ]
      },
      {
       "output_type": "stream",
       "stream": "stdout",
       "text": [
        "C41ICC  "
       ]
      },
      {
       "output_type": "stream",
       "stream": "stdout",
       "text": [
        "B3511Y  "
       ]
      },
      {
       "output_type": "stream",
       "stream": "stdout",
       "text": [
        "SD2G0W  "
       ]
      },
      {
       "output_type": "stream",
       "stream": "stdout",
       "text": [
        "JSR3EY  "
       ]
      },
      {
       "output_type": "stream",
       "stream": "stdout",
       "text": [
        "Y48RCM  "
       ]
      },
      {
       "output_type": "stream",
       "stream": "stdout",
       "text": [
        "DUMA3G  "
       ]
      },
      {
       "output_type": "stream",
       "stream": "stdout",
       "text": [
        "OBNVV9  "
       ]
      },
      {
       "output_type": "stream",
       "stream": "stdout",
       "text": [
        "1MQKGP  "
       ]
      },
      {
       "output_type": "stream",
       "stream": "stdout",
       "text": [
        "XOG8XE  "
       ]
      },
      {
       "output_type": "stream",
       "stream": "stdout",
       "text": [
        "OC5OBJ  "
       ]
      },
      {
       "output_type": "stream",
       "stream": "stdout",
       "text": [
        "J8WBWW  "
       ]
      },
      {
       "output_type": "stream",
       "stream": "stdout",
       "text": [
        "K0M6ZE  "
       ]
      },
      {
       "output_type": "stream",
       "stream": "stdout",
       "text": [
        "MJEIE5  "
       ]
      },
      {
       "output_type": "stream",
       "stream": "stdout",
       "text": [
        "ED4A0S  "
       ]
      },
      {
       "output_type": "stream",
       "stream": "stdout",
       "text": [
        "IY3Y5O  "
       ]
      },
      {
       "output_type": "stream",
       "stream": "stdout",
       "text": [
        "M11916  "
       ]
      },
      {
       "output_type": "stream",
       "stream": "stdout",
       "text": [
        "4BN1ES  "
       ]
      },
      {
       "output_type": "stream",
       "stream": "stdout",
       "text": [
        "PDI14T  "
       ]
      },
      {
       "output_type": "stream",
       "stream": "stdout",
       "text": [
        "WT1AO2  "
       ]
      },
      {
       "output_type": "stream",
       "stream": "stdout",
       "text": [
        "FCEDNV  "
       ]
      },
      {
       "output_type": "stream",
       "stream": "stdout",
       "text": [
        "XCX2CD  "
       ]
      },
      {
       "output_type": "stream",
       "stream": "stdout",
       "text": [
        "Y0UL7L  "
       ]
      },
      {
       "output_type": "stream",
       "stream": "stdout",
       "text": [
        "9RLQ3P  "
       ]
      },
      {
       "output_type": "stream",
       "stream": "stdout",
       "text": [
        "3IDQXO  "
       ]
      },
      {
       "output_type": "stream",
       "stream": "stdout",
       "text": [
        "FWHY5W  "
       ]
      },
      {
       "output_type": "stream",
       "stream": "stdout",
       "text": [
        "RQOWCQ  "
       ]
      },
      {
       "output_type": "stream",
       "stream": "stdout",
       "text": [
        "HTZFJ8  "
       ]
      },
      {
       "output_type": "stream",
       "stream": "stdout",
       "text": [
        "PKFE3V  "
       ]
      },
      {
       "output_type": "stream",
       "stream": "stdout",
       "text": [
        "BB6WUJ  "
       ]
      },
      {
       "output_type": "stream",
       "stream": "stdout",
       "text": [
        "Q2VUI6  "
       ]
      },
      {
       "output_type": "stream",
       "stream": "stdout",
       "text": [
        "U85EUV  "
       ]
      },
      {
       "output_type": "stream",
       "stream": "stdout",
       "text": [
        "7THEDW  "
       ]
      },
      {
       "output_type": "stream",
       "stream": "stdout",
       "text": [
        "3GXGVG  "
       ]
      },
      {
       "output_type": "stream",
       "stream": "stdout",
       "text": [
        "BTCSFU  "
       ]
      },
      {
       "output_type": "stream",
       "stream": "stdout",
       "text": [
        "WGI5OO  "
       ]
      },
      {
       "output_type": "stream",
       "stream": "stdout",
       "text": [
        "GGRDSR  "
       ]
      },
      {
       "output_type": "stream",
       "stream": "stdout",
       "text": [
        "4HS2P7  "
       ]
      },
      {
       "output_type": "stream",
       "stream": "stdout",
       "text": [
        "DYY6BX  "
       ]
      },
      {
       "output_type": "stream",
       "stream": "stdout",
       "text": [
        "CT6JD6  "
       ]
      },
      {
       "output_type": "stream",
       "stream": "stdout",
       "text": [
        "74SBU7  "
       ]
      },
      {
       "output_type": "stream",
       "stream": "stdout",
       "text": [
        "O15TRA  "
       ]
      },
      {
       "output_type": "stream",
       "stream": "stdout",
       "text": [
        "QFDDX8  "
       ]
      },
      {
       "output_type": "stream",
       "stream": "stdout",
       "text": [
        "BBVWGK  "
       ]
      },
      {
       "output_type": "stream",
       "stream": "stdout",
       "text": [
        "XJ9KKK  "
       ]
      },
      {
       "output_type": "stream",
       "stream": "stdout",
       "text": [
        "DU42D0  "
       ]
      },
      {
       "output_type": "stream",
       "stream": "stdout",
       "text": [
        "VD8QRW  "
       ]
      },
      {
       "output_type": "stream",
       "stream": "stdout",
       "text": [
        "AXBJ6A  "
       ]
      },
      {
       "output_type": "stream",
       "stream": "stdout",
       "text": [
        "EW9Z3B  "
       ]
      },
      {
       "output_type": "stream",
       "stream": "stdout",
       "text": [
        "ILYYLP  "
       ]
      },
      {
       "output_type": "stream",
       "stream": "stdout",
       "text": [
        "02N338  "
       ]
      },
      {
       "output_type": "stream",
       "stream": "stdout",
       "text": [
        "GHEC7B  "
       ]
      },
      {
       "output_type": "stream",
       "stream": "stdout",
       "text": [
        "ZCEHP5  "
       ]
      },
      {
       "output_type": "stream",
       "stream": "stdout",
       "text": [
        "FAQYNX  "
       ]
      },
      {
       "output_type": "stream",
       "stream": "stdout",
       "text": [
        "EJGC2Z  "
       ]
      },
      {
       "output_type": "stream",
       "stream": "stdout",
       "text": [
        "OMIVKH  "
       ]
      },
      {
       "output_type": "stream",
       "stream": "stdout",
       "text": [
        "1S3O4K  "
       ]
      },
      {
       "output_type": "stream",
       "stream": "stdout",
       "text": [
        "MM7OGI  "
       ]
      },
      {
       "output_type": "stream",
       "stream": "stdout",
       "text": [
        "2KCN8N  "
       ]
      },
      {
       "output_type": "stream",
       "stream": "stdout",
       "text": [
        "Q098UC  "
       ]
      },
      {
       "output_type": "stream",
       "stream": "stdout",
       "text": [
        "542PL1  "
       ]
      },
      {
       "output_type": "stream",
       "stream": "stdout",
       "text": [
        "90QSSN  "
       ]
      },
      {
       "output_type": "stream",
       "stream": "stdout",
       "text": [
        "9U7142  "
       ]
      },
      {
       "output_type": "stream",
       "stream": "stdout",
       "text": [
        "685PWY  "
       ]
      },
      {
       "output_type": "stream",
       "stream": "stdout",
       "text": [
        "M0CTCU  "
       ]
      },
      {
       "output_type": "stream",
       "stream": "stdout",
       "text": [
        "CZCLEF  "
       ]
      },
      {
       "output_type": "stream",
       "stream": "stdout",
       "text": [
        "7JNC7P  "
       ]
      },
      {
       "output_type": "stream",
       "stream": "stdout",
       "text": [
        "WA7Q6U  "
       ]
      },
      {
       "output_type": "stream",
       "stream": "stdout",
       "text": [
        "Q4PETF  "
       ]
      },
      {
       "output_type": "stream",
       "stream": "stdout",
       "text": [
        "Z3TKIJ  "
       ]
      },
      {
       "output_type": "stream",
       "stream": "stdout",
       "text": [
        "4UBI8S  "
       ]
      },
      {
       "output_type": "stream",
       "stream": "stdout",
       "text": [
        "8SHHD1  "
       ]
      },
      {
       "output_type": "stream",
       "stream": "stdout",
       "text": [
        "IGZ4IN  "
       ]
      },
      {
       "output_type": "stream",
       "stream": "stdout",
       "text": [
        "Q5NG72  "
       ]
      },
      {
       "output_type": "stream",
       "stream": "stdout",
       "text": [
        "DVSDM0  "
       ]
      },
      {
       "output_type": "stream",
       "stream": "stdout",
       "text": [
        "TDYH87  "
       ]
      },
      {
       "output_type": "stream",
       "stream": "stdout",
       "text": [
        "FB3NJV  "
       ]
      },
      {
       "output_type": "stream",
       "stream": "stdout",
       "text": [
        "WQJPMT  "
       ]
      },
      {
       "output_type": "stream",
       "stream": "stdout",
       "text": [
        "VW85AV  "
       ]
      },
      {
       "output_type": "stream",
       "stream": "stdout",
       "text": [
        "9AXAHP  "
       ]
      },
      {
       "output_type": "stream",
       "stream": "stdout",
       "text": [
        "RVAJ7N  "
       ]
      },
      {
       "output_type": "stream",
       "stream": "stdout",
       "text": [
        "NT19D9  "
       ]
      },
      {
       "output_type": "stream",
       "stream": "stdout",
       "text": [
        "3WTEAD  "
       ]
      },
      {
       "output_type": "stream",
       "stream": "stdout",
       "text": [
        "QCYTF4  "
       ]
      },
      {
       "output_type": "stream",
       "stream": "stdout",
       "text": [
        "ZMZFBZ  "
       ]
      },
      {
       "output_type": "stream",
       "stream": "stdout",
       "text": [
        "6BFZI1  "
       ]
      },
      {
       "output_type": "stream",
       "stream": "stdout",
       "text": [
        "RQ0PLL  "
       ]
      },
      {
       "output_type": "stream",
       "stream": "stdout",
       "text": [
        "NIWQAO  "
       ]
      },
      {
       "output_type": "stream",
       "stream": "stdout",
       "text": [
        "UR58E8  "
       ]
      },
      {
       "output_type": "stream",
       "stream": "stdout",
       "text": [
        "0VDSK6  "
       ]
      },
      {
       "output_type": "stream",
       "stream": "stdout",
       "text": [
        "91X3OE  "
       ]
      },
      {
       "output_type": "stream",
       "stream": "stdout",
       "text": [
        "7RHZUB  "
       ]
      },
      {
       "output_type": "stream",
       "stream": "stdout",
       "text": [
        "EATAYM  "
       ]
      },
      {
       "output_type": "stream",
       "stream": "stdout",
       "text": [
        "J5U1TJ  "
       ]
      },
      {
       "output_type": "stream",
       "stream": "stdout",
       "text": [
        "WCDJ2D  "
       ]
      },
      {
       "output_type": "stream",
       "stream": "stdout",
       "text": [
        "SY3CJP  "
       ]
      },
      {
       "output_type": "stream",
       "stream": "stdout",
       "text": [
        "6UD57H  "
       ]
      },
      {
       "output_type": "stream",
       "stream": "stdout",
       "text": [
        "IHYDF1  "
       ]
      },
      {
       "output_type": "stream",
       "stream": "stdout",
       "text": [
        "AZXLB0  "
       ]
      },
      {
       "output_type": "stream",
       "stream": "stdout",
       "text": [
        "HCYTCP  "
       ]
      },
      {
       "output_type": "stream",
       "stream": "stdout",
       "text": [
        "5PDN4S  "
       ]
      },
      {
       "output_type": "stream",
       "stream": "stdout",
       "text": [
        "9WVAUI  "
       ]
      },
      {
       "output_type": "stream",
       "stream": "stdout",
       "text": [
        "IJDPCW  "
       ]
      },
      {
       "output_type": "stream",
       "stream": "stdout",
       "text": [
        "YKUXZ6  "
       ]
      },
      {
       "output_type": "stream",
       "stream": "stdout",
       "text": [
        "T699T2  "
       ]
      },
      {
       "output_type": "stream",
       "stream": "stdout",
       "text": [
        "3HDPFG  "
       ]
      },
      {
       "output_type": "stream",
       "stream": "stdout",
       "text": [
        "0Y9E84  "
       ]
      },
      {
       "output_type": "stream",
       "stream": "stdout",
       "text": [
        "P42D01  "
       ]
      },
      {
       "output_type": "stream",
       "stream": "stdout",
       "text": [
        "SRGAP7  "
       ]
      },
      {
       "output_type": "stream",
       "stream": "stdout",
       "text": [
        "8LFL5E  "
       ]
      },
      {
       "output_type": "stream",
       "stream": "stdout",
       "text": [
        "FUVQJP  "
       ]
      },
      {
       "output_type": "stream",
       "stream": "stdout",
       "text": [
        "FFJDQ8  "
       ]
      },
      {
       "output_type": "stream",
       "stream": "stdout",
       "text": [
        "BZSCQY  "
       ]
      },
      {
       "output_type": "stream",
       "stream": "stdout",
       "text": [
        "YRFM7D  "
       ]
      },
      {
       "output_type": "stream",
       "stream": "stdout",
       "text": [
        "WQTXXP  "
       ]
      },
      {
       "output_type": "stream",
       "stream": "stdout",
       "text": [
        "N78G9O  "
       ]
      },
      {
       "output_type": "stream",
       "stream": "stdout",
       "text": [
        "KV1RZC  "
       ]
      },
      {
       "output_type": "stream",
       "stream": "stdout",
       "text": [
        "6ZAO8P  "
       ]
      },
      {
       "output_type": "stream",
       "stream": "stdout",
       "text": [
        "1CAHX5  "
       ]
      },
      {
       "output_type": "stream",
       "stream": "stdout",
       "text": [
        "U7UYD3  "
       ]
      },
      {
       "output_type": "stream",
       "stream": "stdout",
       "text": [
        "ZGDZ94  "
       ]
      },
      {
       "output_type": "stream",
       "stream": "stdout",
       "text": [
        "1KYI1O  "
       ]
      },
      {
       "output_type": "stream",
       "stream": "stdout",
       "text": [
        "0IJTYB  "
       ]
      },
      {
       "output_type": "stream",
       "stream": "stdout",
       "text": [
        "7MH68M  "
       ]
      },
      {
       "output_type": "stream",
       "stream": "stdout",
       "text": [
        "CMLYOQ  "
       ]
      },
      {
       "output_type": "stream",
       "stream": "stdout",
       "text": [
        "LVOMJG  "
       ]
      },
      {
       "output_type": "stream",
       "stream": "stdout",
       "text": [
        "8NRQBO  "
       ]
      },
      {
       "output_type": "stream",
       "stream": "stdout",
       "text": [
        "WFKC72  "
       ]
      },
      {
       "output_type": "stream",
       "stream": "stdout",
       "text": [
        "PYS8GA  "
       ]
      },
      {
       "output_type": "stream",
       "stream": "stdout",
       "text": [
        "WL3O9Z  "
       ]
      },
      {
       "output_type": "stream",
       "stream": "stdout",
       "text": [
        "0DLYOG  "
       ]
      },
      {
       "output_type": "stream",
       "stream": "stdout",
       "text": [
        "26O19D  "
       ]
      },
      {
       "output_type": "stream",
       "stream": "stdout",
       "text": [
        "V6Z3UY  "
       ]
      },
      {
       "output_type": "stream",
       "stream": "stdout",
       "text": [
        "MW3K3B  "
       ]
      },
      {
       "output_type": "stream",
       "stream": "stdout",
       "text": [
        "CPSDET  "
       ]
      },
      {
       "output_type": "stream",
       "stream": "stdout",
       "text": [
        "S8SRID  "
       ]
      },
      {
       "output_type": "stream",
       "stream": "stdout",
       "text": [
        "NT6MLP  "
       ]
      },
      {
       "output_type": "stream",
       "stream": "stdout",
       "text": [
        "TLI6BX  "
       ]
      },
      {
       "output_type": "stream",
       "stream": "stdout",
       "text": [
        "ST8RP3  "
       ]
      },
      {
       "output_type": "stream",
       "stream": "stdout",
       "text": [
        "PJCFDH  "
       ]
      },
      {
       "output_type": "stream",
       "stream": "stdout",
       "text": [
        "0FCAL8  "
       ]
      },
      {
       "output_type": "stream",
       "stream": "stdout",
       "text": [
        "2E7IC0  "
       ]
      },
      {
       "output_type": "stream",
       "stream": "stdout",
       "text": [
        "C2EQ15  "
       ]
      },
      {
       "output_type": "stream",
       "stream": "stdout",
       "text": [
        "SIVGHS  "
       ]
      },
      {
       "output_type": "stream",
       "stream": "stdout",
       "text": [
        "MW4PJG  "
       ]
      },
      {
       "output_type": "stream",
       "stream": "stdout",
       "text": [
        "ZIMM2E  "
       ]
      },
      {
       "output_type": "stream",
       "stream": "stdout",
       "text": [
        "QH1XZG  "
       ]
      },
      {
       "output_type": "stream",
       "stream": "stdout",
       "text": [
        "HCBWVE  "
       ]
      },
      {
       "output_type": "stream",
       "stream": "stdout",
       "text": [
        "HIRN8Q  "
       ]
      },
      {
       "output_type": "stream",
       "stream": "stdout",
       "text": [
        "855VGP  "
       ]
      },
      {
       "output_type": "stream",
       "stream": "stdout",
       "text": [
        "KR4D81  "
       ]
      },
      {
       "output_type": "stream",
       "stream": "stdout",
       "text": [
        "XIBB4S  "
       ]
      },
      {
       "output_type": "stream",
       "stream": "stdout",
       "text": [
        "5NQPNM  "
       ]
      },
      {
       "output_type": "stream",
       "stream": "stdout",
       "text": [
        "DNW9CV  "
       ]
      },
      {
       "output_type": "stream",
       "stream": "stdout",
       "text": [
        "HUZXMQ  "
       ]
      },
      {
       "output_type": "stream",
       "stream": "stdout",
       "text": [
        "I5W4FB  "
       ]
      },
      {
       "output_type": "stream",
       "stream": "stdout",
       "text": [
        "8HPVAS  "
       ]
      },
      {
       "output_type": "stream",
       "stream": "stdout",
       "text": [
        "1IOXJJ  "
       ]
      },
      {
       "output_type": "stream",
       "stream": "stdout",
       "text": [
        "ED2O2W  "
       ]
      },
      {
       "output_type": "stream",
       "stream": "stdout",
       "text": [
        "H3MOGG  "
       ]
      },
      {
       "output_type": "stream",
       "stream": "stdout",
       "text": [
        "L8YOY4  "
       ]
      },
      {
       "output_type": "stream",
       "stream": "stdout",
       "text": [
        "Y1KTQP  "
       ]
      },
      {
       "output_type": "stream",
       "stream": "stdout",
       "text": [
        "44PKWJ  "
       ]
      },
      {
       "output_type": "stream",
       "stream": "stdout",
       "text": [
        "EZSIRJ  "
       ]
      },
      {
       "output_type": "stream",
       "stream": "stdout",
       "text": [
        "F2OJWN  "
       ]
      },
      {
       "output_type": "stream",
       "stream": "stdout",
       "text": [
        "DUE4OC  "
       ]
      },
      {
       "output_type": "stream",
       "stream": "stdout",
       "text": [
        "WBJIXH  "
       ]
      },
      {
       "output_type": "stream",
       "stream": "stdout",
       "text": [
        "YGM230  "
       ]
      },
      {
       "output_type": "stream",
       "stream": "stdout",
       "text": [
        "SKHPK4  "
       ]
      },
      {
       "output_type": "stream",
       "stream": "stdout",
       "text": [
        "ERO719  "
       ]
      },
      {
       "output_type": "stream",
       "stream": "stdout",
       "text": [
        "EWAH3B  "
       ]
      },
      {
       "output_type": "stream",
       "stream": "stdout",
       "text": [
        "B9MJAN  "
       ]
      },
      {
       "output_type": "stream",
       "stream": "stdout",
       "text": [
        "5JRFFD  "
       ]
      },
      {
       "output_type": "stream",
       "stream": "stdout",
       "text": [
        "2WYK0P  "
       ]
      },
      {
       "output_type": "stream",
       "stream": "stdout",
       "text": [
        "37F4YL  "
       ]
      },
      {
       "output_type": "stream",
       "stream": "stdout",
       "text": [
        "FZ6GCA  "
       ]
      },
      {
       "output_type": "stream",
       "stream": "stdout",
       "text": [
        "0JJJIL  "
       ]
      },
      {
       "output_type": "stream",
       "stream": "stdout",
       "text": [
        "2XVYIO  "
       ]
      },
      {
       "output_type": "stream",
       "stream": "stdout",
       "text": [
        "5A50NX  "
       ]
      },
      {
       "output_type": "stream",
       "stream": "stdout",
       "text": [
        "X0KLFU  "
       ]
      },
      {
       "output_type": "stream",
       "stream": "stdout",
       "text": [
        "2Q8NDH  "
       ]
      },
      {
       "output_type": "stream",
       "stream": "stdout",
       "text": [
        "PIDOH9  "
       ]
      },
      {
       "output_type": "stream",
       "stream": "stdout",
       "text": [
        "1BX3BP  "
       ]
      },
      {
       "output_type": "stream",
       "stream": "stdout",
       "text": [
        "KX2B18  "
       ]
      },
      {
       "output_type": "stream",
       "stream": "stdout",
       "text": [
        "OBJDTM  "
       ]
      },
      {
       "output_type": "stream",
       "stream": "stdout",
       "text": [
        "YPLLEN  "
       ]
      },
      {
       "output_type": "stream",
       "stream": "stdout",
       "text": [
        "J7CWIS  "
       ]
      },
      {
       "output_type": "stream",
       "stream": "stdout",
       "text": [
        "Z1WRB5  "
       ]
      },
      {
       "output_type": "stream",
       "stream": "stdout",
       "text": [
        "SWH1E7  "
       ]
      },
      {
       "output_type": "stream",
       "stream": "stdout",
       "text": [
        "ABTUYK  "
       ]
      },
      {
       "output_type": "stream",
       "stream": "stdout",
       "text": [
        "ZF1D6Y  "
       ]
      },
      {
       "output_type": "stream",
       "stream": "stdout",
       "text": [
        "5R59Y7  "
       ]
      },
      {
       "output_type": "stream",
       "stream": "stdout",
       "text": [
        "3HBKLB  "
       ]
      },
      {
       "output_type": "stream",
       "stream": "stdout",
       "text": [
        "7N0YJ7  "
       ]
      },
      {
       "output_type": "stream",
       "stream": "stdout",
       "text": [
        "HDO93G  "
       ]
      },
      {
       "output_type": "stream",
       "stream": "stdout",
       "text": [
        "7TMZU6  "
       ]
      },
      {
       "output_type": "stream",
       "stream": "stdout",
       "text": [
        "540HKP  "
       ]
      },
      {
       "output_type": "stream",
       "stream": "stdout",
       "text": [
        "11EJJI  "
       ]
      },
      {
       "output_type": "stream",
       "stream": "stdout",
       "text": [
        "XLXBSL  "
       ]
      },
      {
       "output_type": "stream",
       "stream": "stdout",
       "text": [
        "1YN18Z  "
       ]
      },
      {
       "output_type": "stream",
       "stream": "stdout",
       "text": [
        "D4RXRZ  "
       ]
      },
      {
       "output_type": "stream",
       "stream": "stdout",
       "text": [
        "AKJSKF  "
       ]
      },
      {
       "output_type": "stream",
       "stream": "stdout",
       "text": [
        "KWFZCM  "
       ]
      },
      {
       "output_type": "stream",
       "stream": "stdout",
       "text": [
        "TVXR3O  "
       ]
      },
      {
       "output_type": "stream",
       "stream": "stdout",
       "text": [
        "Q2LP5G  "
       ]
      },
      {
       "output_type": "stream",
       "stream": "stdout",
       "text": [
        "PIRGK5  "
       ]
      },
      {
       "output_type": "stream",
       "stream": "stdout",
       "text": [
        "LMLLN8  "
       ]
      },
      {
       "output_type": "stream",
       "stream": "stdout",
       "text": [
        "FWH98M  "
       ]
      },
      {
       "output_type": "stream",
       "stream": "stdout",
       "text": [
        "DBP4P6  "
       ]
      },
      {
       "output_type": "stream",
       "stream": "stdout",
       "text": [
        "S09YBZ  "
       ]
      },
      {
       "output_type": "stream",
       "stream": "stdout",
       "text": [
        "QGO4JC  "
       ]
      },
      {
       "output_type": "stream",
       "stream": "stdout",
       "text": [
        "1MV80L  "
       ]
      },
      {
       "output_type": "stream",
       "stream": "stdout",
       "text": [
        "FYWEX9  "
       ]
      },
      {
       "output_type": "stream",
       "stream": "stdout",
       "text": [
        "UBCWF5  "
       ]
      },
      {
       "output_type": "stream",
       "stream": "stdout",
       "text": [
        "GHJOPL  "
       ]
      },
      {
       "output_type": "stream",
       "stream": "stdout",
       "text": [
        "HYEW9W  "
       ]
      },
      {
       "output_type": "stream",
       "stream": "stdout",
       "text": [
        "J5OMPV  "
       ]
      },
      {
       "output_type": "stream",
       "stream": "stdout",
       "text": [
        "GKD82X  "
       ]
      },
      {
       "output_type": "stream",
       "stream": "stdout",
       "text": [
        "I6THBZ  "
       ]
      },
      {
       "output_type": "stream",
       "stream": "stdout",
       "text": [
        "E9E44X  "
       ]
      },
      {
       "output_type": "stream",
       "stream": "stdout",
       "text": [
        "E1NY79  "
       ]
      },
      {
       "output_type": "stream",
       "stream": "stdout",
       "text": [
        "46SU88  "
       ]
      },
      {
       "output_type": "stream",
       "stream": "stdout",
       "text": [
        "BT935E  "
       ]
      },
      {
       "output_type": "stream",
       "stream": "stdout",
       "text": [
        "UA8FGC  "
       ]
      },
      {
       "output_type": "stream",
       "stream": "stdout",
       "text": [
        "7NRDF7  "
       ]
      },
      {
       "output_type": "stream",
       "stream": "stdout",
       "text": [
        "UJD3P5  "
       ]
      },
      {
       "output_type": "stream",
       "stream": "stdout",
       "text": [
        "03AMSI  "
       ]
      },
      {
       "output_type": "stream",
       "stream": "stdout",
       "text": [
        "0EURL9  "
       ]
      },
      {
       "output_type": "stream",
       "stream": "stdout",
       "text": [
        "UF3LS3  "
       ]
      },
      {
       "output_type": "stream",
       "stream": "stdout",
       "text": [
        "XGN2ML  "
       ]
      },
      {
       "output_type": "stream",
       "stream": "stdout",
       "text": [
        "5YJUL0  "
       ]
      },
      {
       "output_type": "stream",
       "stream": "stdout",
       "text": [
        "H3HEUH  "
       ]
      },
      {
       "output_type": "stream",
       "stream": "stdout",
       "text": [
        "35X2IT  "
       ]
      },
      {
       "output_type": "stream",
       "stream": "stdout",
       "text": [
        "YBKOB4  "
       ]
      },
      {
       "output_type": "stream",
       "stream": "stdout",
       "text": [
        "F7JD2L  "
       ]
      },
      {
       "output_type": "stream",
       "stream": "stdout",
       "text": [
        "06YDBR  "
       ]
      },
      {
       "output_type": "stream",
       "stream": "stdout",
       "text": [
        "JHOQAX  "
       ]
      },
      {
       "output_type": "stream",
       "stream": "stdout",
       "text": [
        "QKHEWB  "
       ]
      },
      {
       "output_type": "stream",
       "stream": "stdout",
       "text": [
        "HAUVGX  "
       ]
      },
      {
       "output_type": "stream",
       "stream": "stdout",
       "text": [
        "UA5X9M  "
       ]
      },
      {
       "output_type": "stream",
       "stream": "stdout",
       "text": [
        "8QOXKY  "
       ]
      },
      {
       "output_type": "stream",
       "stream": "stdout",
       "text": [
        "ISHKAX  "
       ]
      },
      {
       "output_type": "stream",
       "stream": "stdout",
       "text": [
        "O4L308  "
       ]
      },
      {
       "output_type": "stream",
       "stream": "stdout",
       "text": [
        "PGWZ5R  "
       ]
      },
      {
       "output_type": "stream",
       "stream": "stdout",
       "text": [
        "4NJTKT  "
       ]
      },
      {
       "output_type": "stream",
       "stream": "stdout",
       "text": [
        "87VJLR  "
       ]
      },
      {
       "output_type": "stream",
       "stream": "stdout",
       "text": [
        "UKVLEY  "
       ]
      },
      {
       "output_type": "stream",
       "stream": "stdout",
       "text": [
        "6DGR59  "
       ]
      },
      {
       "output_type": "stream",
       "stream": "stdout",
       "text": [
        "C0A1GN  "
       ]
      },
      {
       "output_type": "stream",
       "stream": "stdout",
       "text": [
        "J62Z9R  "
       ]
      },
      {
       "output_type": "stream",
       "stream": "stdout",
       "text": [
        "BZOK6R  "
       ]
      },
      {
       "output_type": "stream",
       "stream": "stdout",
       "text": [
        "X003KY  "
       ]
      },
      {
       "output_type": "stream",
       "stream": "stdout",
       "text": [
        "I1Y5EC  "
       ]
      },
      {
       "output_type": "stream",
       "stream": "stdout",
       "text": [
        "5CK6H2  "
       ]
      },
      {
       "output_type": "stream",
       "stream": "stdout",
       "text": [
        "L9236E  "
       ]
      },
      {
       "output_type": "stream",
       "stream": "stdout",
       "text": [
        "U8A1W2  "
       ]
      },
      {
       "output_type": "stream",
       "stream": "stdout",
       "text": [
        "4TRRXZ  "
       ]
      },
      {
       "output_type": "stream",
       "stream": "stdout",
       "text": [
        "8BK4R4  "
       ]
      },
      {
       "output_type": "stream",
       "stream": "stdout",
       "text": [
        "0T5DYX  "
       ]
      },
      {
       "output_type": "stream",
       "stream": "stdout",
       "text": [
        "1QFSGA  "
       ]
      },
      {
       "output_type": "stream",
       "stream": "stdout",
       "text": [
        "TLICFY  "
       ]
      },
      {
       "output_type": "stream",
       "stream": "stdout",
       "text": [
        "5E0M47  "
       ]
      },
      {
       "output_type": "stream",
       "stream": "stdout",
       "text": [
        "P8TFDP  "
       ]
      },
      {
       "output_type": "stream",
       "stream": "stdout",
       "text": [
        "QEIYZN  "
       ]
      },
      {
       "output_type": "stream",
       "stream": "stdout",
       "text": [
        "N86E73  "
       ]
      },
      {
       "output_type": "stream",
       "stream": "stdout",
       "text": [
        "5S9JFF  "
       ]
      },
      {
       "output_type": "stream",
       "stream": "stdout",
       "text": [
        "XNO7NL  "
       ]
      },
      {
       "output_type": "stream",
       "stream": "stdout",
       "text": [
        "WM1V12  "
       ]
      },
      {
       "output_type": "stream",
       "stream": "stdout",
       "text": [
        "D99JAH  "
       ]
      },
      {
       "output_type": "stream",
       "stream": "stdout",
       "text": [
        "UB3L9X  "
       ]
      },
      {
       "output_type": "stream",
       "stream": "stdout",
       "text": [
        "9DRAWG  "
       ]
      },
      {
       "output_type": "stream",
       "stream": "stdout",
       "text": [
        "K0116G  "
       ]
      },
      {
       "output_type": "stream",
       "stream": "stdout",
       "text": [
        "YY60FS  "
       ]
      },
      {
       "output_type": "stream",
       "stream": "stdout",
       "text": [
        "1E4ADQ  "
       ]
      },
      {
       "output_type": "stream",
       "stream": "stdout",
       "text": [
        "AAUNNQ  "
       ]
      },
      {
       "output_type": "stream",
       "stream": "stdout",
       "text": [
        "KJRAFN  "
       ]
      },
      {
       "output_type": "stream",
       "stream": "stdout",
       "text": [
        "A0MQ0Q  "
       ]
      },
      {
       "output_type": "stream",
       "stream": "stdout",
       "text": [
        "XNVCCY  "
       ]
      },
      {
       "output_type": "stream",
       "stream": "stdout",
       "text": [
        "OG16W5  "
       ]
      },
      {
       "output_type": "stream",
       "stream": "stdout",
       "text": [
        "KVXL5M  "
       ]
      },
      {
       "output_type": "stream",
       "stream": "stdout",
       "text": [
        "ANNPXL  "
       ]
      },
      {
       "output_type": "stream",
       "stream": "stdout",
       "text": [
        "31CAYN  "
       ]
      },
      {
       "output_type": "stream",
       "stream": "stdout",
       "text": [
        "V5KOBM  "
       ]
      },
      {
       "output_type": "stream",
       "stream": "stdout",
       "text": [
        "SLGEUU  "
       ]
      },
      {
       "output_type": "stream",
       "stream": "stdout",
       "text": [
        "HUJOUZ  "
       ]
      },
      {
       "output_type": "stream",
       "stream": "stdout",
       "text": [
        "RQ69TW  "
       ]
      },
      {
       "output_type": "stream",
       "stream": "stdout",
       "text": [
        "2FI6WZ  "
       ]
      },
      {
       "output_type": "stream",
       "stream": "stdout",
       "text": [
        "XUDLLH  "
       ]
      },
      {
       "output_type": "stream",
       "stream": "stdout",
       "text": [
        "5UBFPD  "
       ]
      },
      {
       "output_type": "stream",
       "stream": "stdout",
       "text": [
        "998XUO  "
       ]
      },
      {
       "output_type": "stream",
       "stream": "stdout",
       "text": [
        "D2IQAD  "
       ]
      },
      {
       "output_type": "stream",
       "stream": "stdout",
       "text": [
        "0B8QBY  "
       ]
      },
      {
       "output_type": "stream",
       "stream": "stdout",
       "text": [
        "3T8ZC0  "
       ]
      },
      {
       "output_type": "stream",
       "stream": "stdout",
       "text": [
        "HKTSSB  "
       ]
      },
      {
       "output_type": "stream",
       "stream": "stdout",
       "text": [
        "V9XQYM  "
       ]
      },
      {
       "output_type": "stream",
       "stream": "stdout",
       "text": [
        "WL57YF  "
       ]
      },
      {
       "output_type": "stream",
       "stream": "stdout",
       "text": [
        "VHUZZ1  "
       ]
      },
      {
       "output_type": "stream",
       "stream": "stdout",
       "text": [
        "D448D5  "
       ]
      },
      {
       "output_type": "stream",
       "stream": "stdout",
       "text": [
        "C1CQUR  "
       ]
      },
      {
       "output_type": "stream",
       "stream": "stdout",
       "text": [
        "JY3V97  "
       ]
      },
      {
       "output_type": "stream",
       "stream": "stdout",
       "text": [
        "AXNMS5  "
       ]
      },
      {
       "output_type": "stream",
       "stream": "stdout",
       "text": [
        "QX3YJ3  "
       ]
      },
      {
       "output_type": "stream",
       "stream": "stdout",
       "text": [
        "6VKT3U  "
       ]
      },
      {
       "output_type": "stream",
       "stream": "stdout",
       "text": [
        "5YNF02  "
       ]
      },
      {
       "output_type": "stream",
       "stream": "stdout",
       "text": [
        "ZCVH2X  "
       ]
      },
      {
       "output_type": "stream",
       "stream": "stdout",
       "text": [
        "7HVWL4  "
       ]
      },
      {
       "output_type": "stream",
       "stream": "stdout",
       "text": [
        "SQ0VA8  "
       ]
      },
      {
       "output_type": "stream",
       "stream": "stdout",
       "text": [
        "HNR30V  "
       ]
      },
      {
       "output_type": "stream",
       "stream": "stdout",
       "text": [
        "KYFF3B  "
       ]
      },
      {
       "output_type": "stream",
       "stream": "stdout",
       "text": [
        "SPA3L0  "
       ]
      },
      {
       "output_type": "stream",
       "stream": "stdout",
       "text": [
        "76JMKM  "
       ]
      },
      {
       "output_type": "stream",
       "stream": "stdout",
       "text": [
        "P19103  "
       ]
      },
      {
       "output_type": "stream",
       "stream": "stdout",
       "text": [
        "Q4WBRX  "
       ]
      },
      {
       "output_type": "stream",
       "stream": "stdout",
       "text": [
        "TPD3LK  "
       ]
      },
      {
       "output_type": "stream",
       "stream": "stdout",
       "text": [
        "46BCXM  "
       ]
      },
      {
       "output_type": "stream",
       "stream": "stdout",
       "text": [
        "H1TCS2  "
       ]
      },
      {
       "output_type": "stream",
       "stream": "stdout",
       "text": [
        "ZOISPD  "
       ]
      },
      {
       "output_type": "stream",
       "stream": "stdout",
       "text": [
        "RN0CCB  "
       ]
      },
      {
       "output_type": "stream",
       "stream": "stdout",
       "text": [
        "4H6JJR  "
       ]
      },
      {
       "output_type": "stream",
       "stream": "stdout",
       "text": [
        "E1XXB8  "
       ]
      },
      {
       "output_type": "stream",
       "stream": "stdout",
       "text": [
        "CBVQK0  "
       ]
      },
      {
       "output_type": "stream",
       "stream": "stdout",
       "text": [
        "OC37BZ  "
       ]
      },
      {
       "output_type": "stream",
       "stream": "stdout",
       "text": [
        "JLCP9Q  "
       ]
      },
      {
       "output_type": "stream",
       "stream": "stdout",
       "text": [
        "C0VUL6  "
       ]
      },
      {
       "output_type": "stream",
       "stream": "stdout",
       "text": [
        "58VMQB  "
       ]
      },
      {
       "output_type": "stream",
       "stream": "stdout",
       "text": [
        "URDQ5O  "
       ]
      },
      {
       "output_type": "stream",
       "stream": "stdout",
       "text": [
        "HYVXZ1  "
       ]
      },
      {
       "output_type": "stream",
       "stream": "stdout",
       "text": [
        "9UEBZV  "
       ]
      },
      {
       "output_type": "stream",
       "stream": "stdout",
       "text": [
        "4J4OL8  "
       ]
      },
      {
       "output_type": "stream",
       "stream": "stdout",
       "text": [
        "Z8VVFG  "
       ]
      },
      {
       "output_type": "stream",
       "stream": "stdout",
       "text": [
        "COEEF3  "
       ]
      },
      {
       "output_type": "stream",
       "stream": "stdout",
       "text": [
        "E8A4J8  "
       ]
      },
      {
       "output_type": "stream",
       "stream": "stdout",
       "text": [
        "GY0XCT  "
       ]
      },
      {
       "output_type": "stream",
       "stream": "stdout",
       "text": [
        "OOA3ZR  "
       ]
      },
      {
       "output_type": "stream",
       "stream": "stdout",
       "text": [
        "RDOVWB  "
       ]
      },
      {
       "output_type": "stream",
       "stream": "stdout",
       "text": [
        "V5DYSH  "
       ]
      },
      {
       "output_type": "stream",
       "stream": "stdout",
       "text": [
        "OUZFTZ  "
       ]
      },
      {
       "output_type": "stream",
       "stream": "stdout",
       "text": [
        "RCCP03  "
       ]
      },
      {
       "output_type": "stream",
       "stream": "stdout",
       "text": [
        "82LG03  "
       ]
      },
      {
       "output_type": "stream",
       "stream": "stdout",
       "text": [
        "J17NHX  "
       ]
      },
      {
       "output_type": "stream",
       "stream": "stdout",
       "text": [
        "483C70  "
       ]
      },
      {
       "output_type": "stream",
       "stream": "stdout",
       "text": [
        "GP4BUB  "
       ]
      },
      {
       "output_type": "stream",
       "stream": "stdout",
       "text": [
        "57J40H  "
       ]
      },
      {
       "output_type": "stream",
       "stream": "stdout",
       "text": [
        "Q9MXYP  "
       ]
      },
      {
       "output_type": "stream",
       "stream": "stdout",
       "text": [
        "MSADUB  "
       ]
      },
      {
       "output_type": "stream",
       "stream": "stdout",
       "text": [
        "6GGL4D  "
       ]
      },
      {
       "output_type": "stream",
       "stream": "stdout",
       "text": [
        "RHMC90  "
       ]
      },
      {
       "output_type": "stream",
       "stream": "stdout",
       "text": [
        "K7JPV6  "
       ]
      },
      {
       "output_type": "stream",
       "stream": "stdout",
       "text": [
        "F8U6CT  "
       ]
      },
      {
       "output_type": "stream",
       "stream": "stdout",
       "text": [
        "2J97FA  "
       ]
      },
      {
       "output_type": "stream",
       "stream": "stdout",
       "text": [
        "MW1RDS  "
       ]
      },
      {
       "output_type": "stream",
       "stream": "stdout",
       "text": [
        "CGNG38  "
       ]
      },
      {
       "output_type": "stream",
       "stream": "stdout",
       "text": [
        "G40O6B  "
       ]
      },
      {
       "output_type": "stream",
       "stream": "stdout",
       "text": [
        "6R1RXH  "
       ]
      },
      {
       "output_type": "stream",
       "stream": "stdout",
       "text": [
        "56WV46  "
       ]
      },
      {
       "output_type": "stream",
       "stream": "stdout",
       "text": [
        "TJP9D5  "
       ]
      },
      {
       "output_type": "stream",
       "stream": "stdout",
       "text": [
        "EDJ1KC  "
       ]
      },
      {
       "output_type": "stream",
       "stream": "stdout",
       "text": [
        "JPDUJB  "
       ]
      },
      {
       "output_type": "stream",
       "stream": "stdout",
       "text": [
        "S4OJLO  "
       ]
      },
      {
       "output_type": "stream",
       "stream": "stdout",
       "text": [
        "HGDR50  "
       ]
      },
      {
       "output_type": "stream",
       "stream": "stdout",
       "text": [
        "8U402S  "
       ]
      },
      {
       "output_type": "stream",
       "stream": "stdout",
       "text": [
        "9KU0H3  "
       ]
      },
      {
       "output_type": "stream",
       "stream": "stdout",
       "text": [
        "Y9X56H  "
       ]
      },
      {
       "output_type": "stream",
       "stream": "stdout",
       "text": [
        "387A9M  "
       ]
      },
      {
       "output_type": "stream",
       "stream": "stdout",
       "text": [
        "QFM9J3  "
       ]
      },
      {
       "output_type": "stream",
       "stream": "stdout",
       "text": [
        "WDFC0Y  "
       ]
      },
      {
       "output_type": "stream",
       "stream": "stdout",
       "text": [
        "4WR9O9  "
       ]
      },
      {
       "output_type": "stream",
       "stream": "stdout",
       "text": [
        "UZXONY  "
       ]
      },
      {
       "output_type": "stream",
       "stream": "stdout",
       "text": [
        "OAE679  "
       ]
      },
      {
       "output_type": "stream",
       "stream": "stdout",
       "text": [
        "T92T7T  "
       ]
      },
      {
       "output_type": "stream",
       "stream": "stdout",
       "text": [
        "R2LSY9  "
       ]
      },
      {
       "output_type": "stream",
       "stream": "stdout",
       "text": [
        "GOKUKB  "
       ]
      },
      {
       "output_type": "stream",
       "stream": "stdout",
       "text": [
        "L4F072  "
       ]
      },
      {
       "output_type": "stream",
       "stream": "stdout",
       "text": [
        "ABY1I6  "
       ]
      },
      {
       "output_type": "stream",
       "stream": "stdout",
       "text": [
        "CZTP6M  "
       ]
      },
      {
       "output_type": "stream",
       "stream": "stdout",
       "text": [
        "9XYLO6  "
       ]
      },
      {
       "output_type": "stream",
       "stream": "stdout",
       "text": [
        "SMKZHE  "
       ]
      },
      {
       "output_type": "stream",
       "stream": "stdout",
       "text": [
        "MHBMBK  "
       ]
      },
      {
       "output_type": "stream",
       "stream": "stdout",
       "text": [
        "EZG8O2  "
       ]
      },
      {
       "output_type": "stream",
       "stream": "stdout",
       "text": [
        "MZFLCH  "
       ]
      },
      {
       "output_type": "stream",
       "stream": "stdout",
       "text": [
        "UMVVPO  "
       ]
      },
      {
       "output_type": "stream",
       "stream": "stdout",
       "text": [
        "310AA1  "
       ]
      },
      {
       "output_type": "stream",
       "stream": "stdout",
       "text": [
        "XIYGGS  "
       ]
      },
      {
       "output_type": "stream",
       "stream": "stdout",
       "text": [
        "16DJRO  "
       ]
      },
      {
       "output_type": "stream",
       "stream": "stdout",
       "text": [
        "R6H1YK  "
       ]
      },
      {
       "output_type": "stream",
       "stream": "stdout",
       "text": [
        "GPVZQ7  "
       ]
      },
      {
       "output_type": "stream",
       "stream": "stdout",
       "text": [
        "QFM9XC  "
       ]
      },
      {
       "output_type": "stream",
       "stream": "stdout",
       "text": [
        "QYYDFO  "
       ]
      },
      {
       "output_type": "stream",
       "stream": "stdout",
       "text": [
        "EW5WVD  "
       ]
      },
      {
       "output_type": "stream",
       "stream": "stdout",
       "text": [
        "3LSGHZ  "
       ]
      },
      {
       "output_type": "stream",
       "stream": "stdout",
       "text": [
        "XW0QIP  "
       ]
      },
      {
       "output_type": "stream",
       "stream": "stdout",
       "text": [
        "FTX0TV  "
       ]
      },
      {
       "output_type": "stream",
       "stream": "stdout",
       "text": [
        "DGAQU4  "
       ]
      },
      {
       "output_type": "stream",
       "stream": "stdout",
       "text": [
        "RIPSA1  "
       ]
      },
      {
       "output_type": "stream",
       "stream": "stdout",
       "text": [
        "PK0JPU  "
       ]
      },
      {
       "output_type": "stream",
       "stream": "stdout",
       "text": [
        "5OOR0U  "
       ]
      },
      {
       "output_type": "stream",
       "stream": "stdout",
       "text": [
        "38QOT5  "
       ]
      },
      {
       "output_type": "stream",
       "stream": "stdout",
       "text": [
        "CTI6BA  "
       ]
      },
      {
       "output_type": "stream",
       "stream": "stdout",
       "text": [
        "FYTJWW  "
       ]
      },
      {
       "output_type": "stream",
       "stream": "stdout",
       "text": [
        "T5RJTJ  "
       ]
      },
      {
       "output_type": "stream",
       "stream": "stdout",
       "text": [
        "JZZN5K  "
       ]
      },
      {
       "output_type": "stream",
       "stream": "stdout",
       "text": [
        "2AZV6Z  "
       ]
      },
      {
       "output_type": "stream",
       "stream": "stdout",
       "text": [
        "URSMKW  "
       ]
      },
      {
       "output_type": "stream",
       "stream": "stdout",
       "text": [
        "8EUDNJ  "
       ]
      },
      {
       "output_type": "stream",
       "stream": "stdout",
       "text": [
        "AHDIW2  "
       ]
      },
      {
       "output_type": "stream",
       "stream": "stdout",
       "text": [
        "PYYI23  "
       ]
      },
      {
       "output_type": "stream",
       "stream": "stdout",
       "text": [
        "GY2SR6  "
       ]
      },
      {
       "output_type": "stream",
       "stream": "stdout",
       "text": [
        "NU0ARO  "
       ]
      },
      {
       "output_type": "stream",
       "stream": "stdout",
       "text": [
        "6QG12M  "
       ]
      },
      {
       "output_type": "stream",
       "stream": "stdout",
       "text": [
        "NCVRJ3  "
       ]
      },
      {
       "output_type": "stream",
       "stream": "stdout",
       "text": [
        "YSY73T  "
       ]
      },
      {
       "output_type": "stream",
       "stream": "stdout",
       "text": [
        "HFD76X  "
       ]
      },
      {
       "output_type": "stream",
       "stream": "stdout",
       "text": [
        "CQ3R94  "
       ]
      },
      {
       "output_type": "stream",
       "stream": "stdout",
       "text": [
        "XQSU93  "
       ]
      },
      {
       "output_type": "stream",
       "stream": "stdout",
       "text": [
        "L1KF0H  "
       ]
      },
      {
       "output_type": "stream",
       "stream": "stdout",
       "text": [
        "CZKIVG  "
       ]
      },
      {
       "output_type": "stream",
       "stream": "stdout",
       "text": [
        "VIZV8S  "
       ]
      },
      {
       "output_type": "stream",
       "stream": "stdout",
       "text": [
        "Q5I58T  "
       ]
      },
      {
       "output_type": "stream",
       "stream": "stdout",
       "text": [
        "O6HAJN  "
       ]
      },
      {
       "output_type": "stream",
       "stream": "stdout",
       "text": [
        "T8L1EG  "
       ]
      },
      {
       "output_type": "stream",
       "stream": "stdout",
       "text": [
        "U3CJNX  "
       ]
      },
      {
       "output_type": "stream",
       "stream": "stdout",
       "text": [
        "PS7UGI  "
       ]
      },
      {
       "output_type": "stream",
       "stream": "stdout",
       "text": [
        "SK4IE4  "
       ]
      },
      {
       "output_type": "stream",
       "stream": "stdout",
       "text": [
        "CGL3SS  "
       ]
      },
      {
       "output_type": "stream",
       "stream": "stdout",
       "text": [
        "421FUW  "
       ]
      },
      {
       "output_type": "stream",
       "stream": "stdout",
       "text": [
        "SD1ZPI  "
       ]
      },
      {
       "output_type": "stream",
       "stream": "stdout",
       "text": [
        "OEO1O7  "
       ]
      },
      {
       "output_type": "stream",
       "stream": "stdout",
       "text": [
        "KLC40J  "
       ]
      },
      {
       "output_type": "stream",
       "stream": "stdout",
       "text": [
        "7CMU00  "
       ]
      },
      {
       "output_type": "stream",
       "stream": "stdout",
       "text": [
        "A60YCR  "
       ]
      },
      {
       "output_type": "stream",
       "stream": "stdout",
       "text": [
        "HOY0KD  "
       ]
      },
      {
       "output_type": "stream",
       "stream": "stdout",
       "text": [
        "98JDAT  "
       ]
      },
      {
       "output_type": "stream",
       "stream": "stdout",
       "text": [
        "9XRCPP  "
       ]
      },
      {
       "output_type": "stream",
       "stream": "stdout",
       "text": [
        "UHO0MY  "
       ]
      },
      {
       "output_type": "stream",
       "stream": "stdout",
       "text": [
        "KZHU5Q  "
       ]
      },
      {
       "output_type": "stream",
       "stream": "stdout",
       "text": [
        "QL0NHR  "
       ]
      },
      {
       "output_type": "stream",
       "stream": "stdout",
       "text": [
        "HMLZZZ  "
       ]
      },
      {
       "output_type": "stream",
       "stream": "stdout",
       "text": [
        "LU2D0X  "
       ]
      },
      {
       "output_type": "stream",
       "stream": "stdout",
       "text": [
        "G2GHUX  "
       ]
      },
      {
       "output_type": "stream",
       "stream": "stdout",
       "text": [
        "R3NH1L  "
       ]
      },
      {
       "output_type": "stream",
       "stream": "stdout",
       "text": [
        "PDS6GS  "
       ]
      },
      {
       "output_type": "stream",
       "stream": "stdout",
       "text": [
        "KPCHGM  "
       ]
      },
      {
       "output_type": "stream",
       "stream": "stdout",
       "text": [
        "KLZG82  "
       ]
      },
      {
       "output_type": "stream",
       "stream": "stdout",
       "text": [
        "57WJWD  "
       ]
      },
      {
       "output_type": "stream",
       "stream": "stdout",
       "text": [
        "GL1GMW  "
       ]
      },
      {
       "output_type": "stream",
       "stream": "stdout",
       "text": [
        "DLRC5E  "
       ]
      },
      {
       "output_type": "stream",
       "stream": "stdout",
       "text": [
        "30J6SB  "
       ]
      },
      {
       "output_type": "stream",
       "stream": "stdout",
       "text": [
        "CX0C6R  "
       ]
      },
      {
       "output_type": "stream",
       "stream": "stdout",
       "text": [
        "MXV0X5  "
       ]
      },
      {
       "output_type": "stream",
       "stream": "stdout",
       "text": [
        "P5RJ42  "
       ]
      },
      {
       "output_type": "stream",
       "stream": "stdout",
       "text": [
        "4HDTOF  "
       ]
      },
      {
       "output_type": "stream",
       "stream": "stdout",
       "text": [
        "O9BRDI  "
       ]
      },
      {
       "output_type": "stream",
       "stream": "stdout",
       "text": [
        "2L6DM0  "
       ]
      },
      {
       "output_type": "stream",
       "stream": "stdout",
       "text": [
        "JPWX6G  "
       ]
      },
      {
       "output_type": "stream",
       "stream": "stdout",
       "text": [
        "YDEGJQ  "
       ]
      },
      {
       "output_type": "stream",
       "stream": "stdout",
       "text": [
        "JF0YXH  "
       ]
      },
      {
       "output_type": "stream",
       "stream": "stdout",
       "text": [
        "BP86FR  "
       ]
      },
      {
       "output_type": "stream",
       "stream": "stdout",
       "text": [
        "4HWUV0  "
       ]
      },
      {
       "output_type": "stream",
       "stream": "stdout",
       "text": [
        "QUQUTL  "
       ]
      },
      {
       "output_type": "stream",
       "stream": "stdout",
       "text": [
        "OMA55N  "
       ]
      },
      {
       "output_type": "stream",
       "stream": "stdout",
       "text": [
        "N6RPHP  "
       ]
      },
      {
       "output_type": "stream",
       "stream": "stdout",
       "text": [
        "P04ZAN  "
       ]
      },
      {
       "output_type": "stream",
       "stream": "stdout",
       "text": [
        "IQT139  "
       ]
      },
      {
       "output_type": "stream",
       "stream": "stdout",
       "text": [
        "M7S00E  "
       ]
      },
      {
       "output_type": "stream",
       "stream": "stdout",
       "text": [
        "A6TJO8  "
       ]
      },
      {
       "output_type": "stream",
       "stream": "stdout",
       "text": [
        "O7OOVG  "
       ]
      },
      {
       "output_type": "stream",
       "stream": "stdout",
       "text": [
        "BAY8G4  "
       ]
      },
      {
       "output_type": "stream",
       "stream": "stdout",
       "text": [
        "H32IRN  "
       ]
      },
      {
       "output_type": "stream",
       "stream": "stdout",
       "text": [
        "UAM75G  "
       ]
      },
      {
       "output_type": "stream",
       "stream": "stdout",
       "text": [
        "FWAFM1  "
       ]
      },
      {
       "output_type": "stream",
       "stream": "stdout",
       "text": [
        "U1C5NT  "
       ]
      },
      {
       "output_type": "stream",
       "stream": "stdout",
       "text": [
        "J44W5S  "
       ]
      },
      {
       "output_type": "stream",
       "stream": "stdout",
       "text": [
        "43WK4S  "
       ]
      },
      {
       "output_type": "stream",
       "stream": "stdout",
       "text": [
        "4734AQ  "
       ]
      },
      {
       "output_type": "stream",
       "stream": "stdout",
       "text": [
        "ZY2U8A  "
       ]
      },
      {
       "output_type": "stream",
       "stream": "stdout",
       "text": [
        "LPRAEZ  "
       ]
      },
      {
       "output_type": "stream",
       "stream": "stdout",
       "text": [
        "JNS313  "
       ]
      },
      {
       "output_type": "stream",
       "stream": "stdout",
       "text": [
        "MEEAWT  "
       ]
      },
      {
       "output_type": "stream",
       "stream": "stdout",
       "text": [
        "5TYUBM  "
       ]
      },
      {
       "output_type": "stream",
       "stream": "stdout",
       "text": [
        "V8TX9L  "
       ]
      },
      {
       "output_type": "stream",
       "stream": "stdout",
       "text": [
        "Q1M3E7  "
       ]
      },
      {
       "output_type": "stream",
       "stream": "stdout",
       "text": [
        "7CVW2Q  "
       ]
      },
      {
       "output_type": "stream",
       "stream": "stdout",
       "text": [
        "VAHDAO  "
       ]
      },
      {
       "output_type": "stream",
       "stream": "stdout",
       "text": [
        "O50CYC  "
       ]
      },
      {
       "output_type": "stream",
       "stream": "stdout",
       "text": [
        "1C7RWW  "
       ]
      },
      {
       "output_type": "stream",
       "stream": "stdout",
       "text": [
        "5PEZPU  "
       ]
      },
      {
       "output_type": "stream",
       "stream": "stdout",
       "text": [
        "271D3U  "
       ]
      },
      {
       "output_type": "stream",
       "stream": "stdout",
       "text": [
        "41YD65  "
       ]
      },
      {
       "output_type": "stream",
       "stream": "stdout",
       "text": [
        "8XLLJQ  "
       ]
      },
      {
       "output_type": "stream",
       "stream": "stdout",
       "text": [
        "XHUH5A  "
       ]
      },
      {
       "output_type": "stream",
       "stream": "stdout",
       "text": [
        "44WAOF  "
       ]
      },
      {
       "output_type": "stream",
       "stream": "stdout",
       "text": [
        "QQBOHP  "
       ]
      },
      {
       "output_type": "stream",
       "stream": "stdout",
       "text": [
        "BGRTKE  "
       ]
      },
      {
       "output_type": "stream",
       "stream": "stdout",
       "text": [
        "T8IXZF  "
       ]
      },
      {
       "output_type": "stream",
       "stream": "stdout",
       "text": [
        "AIJ12N  "
       ]
      },
      {
       "output_type": "stream",
       "stream": "stdout",
       "text": [
        "3CDFKV  "
       ]
      },
      {
       "output_type": "stream",
       "stream": "stdout",
       "text": [
        "TVKRF6  "
       ]
      },
      {
       "output_type": "stream",
       "stream": "stdout",
       "text": [
        "STELNJ  "
       ]
      },
      {
       "output_type": "stream",
       "stream": "stdout",
       "text": [
        "RFAOD8  "
       ]
      },
      {
       "output_type": "stream",
       "stream": "stdout",
       "text": [
        "KGTEE3  "
       ]
      },
      {
       "output_type": "stream",
       "stream": "stdout",
       "text": [
        "48VMWS  "
       ]
      },
      {
       "output_type": "stream",
       "stream": "stdout",
       "text": [
        "LDZAX3  "
       ]
      },
      {
       "output_type": "stream",
       "stream": "stdout",
       "text": [
        "XGTXKE  "
       ]
      },
      {
       "output_type": "stream",
       "stream": "stdout",
       "text": [
        "CKDBIW  "
       ]
      },
      {
       "output_type": "stream",
       "stream": "stdout",
       "text": [
        "F4M06Z  "
       ]
      },
      {
       "output_type": "stream",
       "stream": "stdout",
       "text": [
        "3RP6HV  "
       ]
      },
      {
       "output_type": "stream",
       "stream": "stdout",
       "text": [
        "X8I9KB  "
       ]
      },
      {
       "output_type": "stream",
       "stream": "stdout",
       "text": [
        "457YRZ  "
       ]
      },
      {
       "output_type": "stream",
       "stream": "stdout",
       "text": [
        "24K2IU  "
       ]
      },
      {
       "output_type": "stream",
       "stream": "stdout",
       "text": [
        "N4KBWJ  "
       ]
      },
      {
       "output_type": "stream",
       "stream": "stdout",
       "text": [
        "GI9A17  "
       ]
      },
      {
       "output_type": "stream",
       "stream": "stdout",
       "text": [
        "QA0PSN  "
       ]
      },
      {
       "output_type": "stream",
       "stream": "stdout",
       "text": [
        "6FCGAX  "
       ]
      },
      {
       "output_type": "stream",
       "stream": "stdout",
       "text": [
        "VAR7NP  "
       ]
      },
      {
       "output_type": "stream",
       "stream": "stdout",
       "text": [
        "3DKJUD  "
       ]
      },
      {
       "output_type": "stream",
       "stream": "stdout",
       "text": [
        "671D8Q  "
       ]
      },
      {
       "output_type": "stream",
       "stream": "stdout",
       "text": [
        "O9CE10  "
       ]
      },
      {
       "output_type": "stream",
       "stream": "stdout",
       "text": [
        "RRQ61X  "
       ]
      },
      {
       "output_type": "stream",
       "stream": "stdout",
       "text": [
        "85WJTV  "
       ]
      },
      {
       "output_type": "stream",
       "stream": "stdout",
       "text": [
        "AJ6I80  "
       ]
      },
      {
       "output_type": "stream",
       "stream": "stdout",
       "text": [
        "UK7VVQ  "
       ]
      },
      {
       "output_type": "stream",
       "stream": "stdout",
       "text": [
        "0Z6VQA  "
       ]
      },
      {
       "output_type": "stream",
       "stream": "stdout",
       "text": [
        "N6B8NY  "
       ]
      },
      {
       "output_type": "stream",
       "stream": "stdout",
       "text": [
        "MJ61HQ  "
       ]
      },
      {
       "output_type": "stream",
       "stream": "stdout",
       "text": [
        "GLTBBW  "
       ]
      },
      {
       "output_type": "stream",
       "stream": "stdout",
       "text": [
        "HKF38K  "
       ]
      },
      {
       "output_type": "stream",
       "stream": "stdout",
       "text": [
        "9G2VMU  "
       ]
      },
      {
       "output_type": "stream",
       "stream": "stdout",
       "text": [
        "282ZQ9  "
       ]
      },
      {
       "output_type": "stream",
       "stream": "stdout",
       "text": [
        "ZEZV88  "
       ]
      },
      {
       "output_type": "stream",
       "stream": "stdout",
       "text": [
        "FYRZ3Y  "
       ]
      },
      {
       "output_type": "stream",
       "stream": "stdout",
       "text": [
        "AEVUY0  "
       ]
      },
      {
       "output_type": "stream",
       "stream": "stdout",
       "text": [
        "8MF743  "
       ]
      },
      {
       "output_type": "stream",
       "stream": "stdout",
       "text": [
        "K0A8G7  "
       ]
      },
      {
       "output_type": "stream",
       "stream": "stdout",
       "text": [
        "J30ZMJ  "
       ]
      },
      {
       "output_type": "stream",
       "stream": "stdout",
       "text": [
        "78RPAK  "
       ]
      },
      {
       "output_type": "stream",
       "stream": "stdout",
       "text": [
        "GMFABT  "
       ]
      },
      {
       "output_type": "stream",
       "stream": "stdout",
       "text": [
        "MARI3T  "
       ]
      },
      {
       "output_type": "stream",
       "stream": "stdout",
       "text": [
        "6ZDNC2  "
       ]
      },
      {
       "output_type": "stream",
       "stream": "stdout",
       "text": [
        "X0Z8XM  "
       ]
      },
      {
       "output_type": "stream",
       "stream": "stdout",
       "text": [
        "T7L1NV  "
       ]
      },
      {
       "output_type": "stream",
       "stream": "stdout",
       "text": [
        "7JDPK2  "
       ]
      },
      {
       "output_type": "stream",
       "stream": "stdout",
       "text": [
        "GFD2NX  "
       ]
      },
      {
       "output_type": "stream",
       "stream": "stdout",
       "text": [
        "37ETW2  "
       ]
      },
      {
       "output_type": "stream",
       "stream": "stdout",
       "text": [
        "6VD0AT  "
       ]
      },
      {
       "output_type": "stream",
       "stream": "stdout",
       "text": [
        "1QZJ9F  "
       ]
      },
      {
       "output_type": "stream",
       "stream": "stdout",
       "text": [
        "6PN139  "
       ]
      },
      {
       "output_type": "stream",
       "stream": "stdout",
       "text": [
        "NWNEGW  "
       ]
      },
      {
       "output_type": "stream",
       "stream": "stdout",
       "text": [
        "7CKT0K  "
       ]
      },
      {
       "output_type": "stream",
       "stream": "stdout",
       "text": [
        "QEA6XX  "
       ]
      },
      {
       "output_type": "stream",
       "stream": "stdout",
       "text": [
        "8V96NX  "
       ]
      },
      {
       "output_type": "stream",
       "stream": "stdout",
       "text": [
        "OF2SMI  "
       ]
      },
      {
       "output_type": "stream",
       "stream": "stdout",
       "text": [
        "4D5XHR  "
       ]
      },
      {
       "output_type": "stream",
       "stream": "stdout",
       "text": [
        "W387GA  "
       ]
      },
      {
       "output_type": "stream",
       "stream": "stdout",
       "text": [
        "LV761W  "
       ]
      },
      {
       "output_type": "stream",
       "stream": "stdout",
       "text": [
        "3M4UKY  "
       ]
      },
      {
       "output_type": "stream",
       "stream": "stdout",
       "text": [
        "CYHIMO  "
       ]
      },
      {
       "output_type": "stream",
       "stream": "stdout",
       "text": [
        "HMEO0B  "
       ]
      },
      {
       "output_type": "stream",
       "stream": "stdout",
       "text": [
        "LQQ2HZ  "
       ]
      },
      {
       "output_type": "stream",
       "stream": "stdout",
       "text": [
        "ZQ568T  "
       ]
      },
      {
       "output_type": "stream",
       "stream": "stdout",
       "text": [
        "F8ASE6  "
       ]
      },
      {
       "output_type": "stream",
       "stream": "stdout",
       "text": [
        "4CO29X  "
       ]
      },
      {
       "output_type": "stream",
       "stream": "stdout",
       "text": [
        "YO77QK  "
       ]
      },
      {
       "output_type": "stream",
       "stream": "stdout",
       "text": [
        "J7K42S  "
       ]
      },
      {
       "output_type": "stream",
       "stream": "stdout",
       "text": [
        "1YEYQ6  "
       ]
      },
      {
       "output_type": "stream",
       "stream": "stdout",
       "text": [
        "X8M6GO  "
       ]
      },
      {
       "output_type": "stream",
       "stream": "stdout",
       "text": [
        "5C2N5A  "
       ]
      },
      {
       "output_type": "stream",
       "stream": "stdout",
       "text": [
        "72P2UE  "
       ]
      },
      {
       "output_type": "stream",
       "stream": "stdout",
       "text": [
        "RHKD3F  "
       ]
      },
      {
       "output_type": "stream",
       "stream": "stdout",
       "text": [
        "9FWAJZ  "
       ]
      },
      {
       "output_type": "stream",
       "stream": "stdout",
       "text": [
        "POL750  "
       ]
      },
      {
       "output_type": "stream",
       "stream": "stdout",
       "text": [
        "6LGEMN  "
       ]
      },
      {
       "output_type": "stream",
       "stream": "stdout",
       "text": [
        "UNFCNK  "
       ]
      },
      {
       "output_type": "stream",
       "stream": "stdout",
       "text": [
        "M457F4  "
       ]
      },
      {
       "output_type": "stream",
       "stream": "stdout",
       "text": [
        "PUH7DV  "
       ]
      },
      {
       "output_type": "stream",
       "stream": "stdout",
       "text": [
        "78OF3Q  "
       ]
      },
      {
       "output_type": "stream",
       "stream": "stdout",
       "text": [
        "D5REWT  "
       ]
      },
      {
       "output_type": "stream",
       "stream": "stdout",
       "text": [
        "A8DU9Y  "
       ]
      },
      {
       "output_type": "stream",
       "stream": "stdout",
       "text": [
        "VAY8CK  "
       ]
      },
      {
       "output_type": "stream",
       "stream": "stdout",
       "text": [
        "VQ60DZ  "
       ]
      },
      {
       "output_type": "stream",
       "stream": "stdout",
       "text": [
        "9H2OY0  "
       ]
      },
      {
       "output_type": "stream",
       "stream": "stdout",
       "text": [
        "HQAFIN  "
       ]
      },
      {
       "output_type": "stream",
       "stream": "stdout",
       "text": [
        "RU1MXC  "
       ]
      },
      {
       "output_type": "stream",
       "stream": "stdout",
       "text": [
        "0VSXRN  "
       ]
      },
      {
       "output_type": "stream",
       "stream": "stdout",
       "text": [
        "57NDOR  "
       ]
      },
      {
       "output_type": "stream",
       "stream": "stdout",
       "text": [
        "ABR97Z  "
       ]
      },
      {
       "output_type": "stream",
       "stream": "stdout",
       "text": [
        "GXSRD4  "
       ]
      },
      {
       "output_type": "stream",
       "stream": "stdout",
       "text": [
        "ZJ1UF7  "
       ]
      },
      {
       "output_type": "stream",
       "stream": "stdout",
       "text": [
        "QKIWAF  "
       ]
      },
      {
       "output_type": "stream",
       "stream": "stdout",
       "text": [
        "4GYH18  "
       ]
      },
      {
       "output_type": "stream",
       "stream": "stdout",
       "text": [
        "GS20HV  "
       ]
      },
      {
       "output_type": "stream",
       "stream": "stdout",
       "text": [
        "FAXX85  "
       ]
      },
      {
       "output_type": "stream",
       "stream": "stdout",
       "text": [
        "RFCPGP  "
       ]
      },
      {
       "output_type": "stream",
       "stream": "stdout",
       "text": [
        "Y28E6R  "
       ]
      },
      {
       "output_type": "stream",
       "stream": "stdout",
       "text": [
        "I4V5BV  "
       ]
      },
      {
       "output_type": "stream",
       "stream": "stdout",
       "text": [
        "VS0EZC  "
       ]
      },
      {
       "output_type": "stream",
       "stream": "stdout",
       "text": [
        "WQQ8X2  "
       ]
      },
      {
       "output_type": "stream",
       "stream": "stdout",
       "text": [
        "VTP45N  "
       ]
      },
      {
       "output_type": "stream",
       "stream": "stdout",
       "text": [
        "95W94D  "
       ]
      },
      {
       "output_type": "stream",
       "stream": "stdout",
       "text": [
        "1UL9LV  "
       ]
      },
      {
       "output_type": "stream",
       "stream": "stdout",
       "text": [
        "6HNTZ4  "
       ]
      },
      {
       "output_type": "stream",
       "stream": "stdout",
       "text": [
        "3O5H9R  "
       ]
      },
      {
       "output_type": "stream",
       "stream": "stdout",
       "text": [
        "HLQJTF  "
       ]
      },
      {
       "output_type": "stream",
       "stream": "stdout",
       "text": [
        "DQOGTG  "
       ]
      },
      {
       "output_type": "stream",
       "stream": "stdout",
       "text": [
        "K11RBB  "
       ]
      },
      {
       "output_type": "stream",
       "stream": "stdout",
       "text": [
        "KB3CO0  "
       ]
      },
      {
       "output_type": "stream",
       "stream": "stdout",
       "text": [
        "4J7TD2  "
       ]
      },
      {
       "output_type": "stream",
       "stream": "stdout",
       "text": [
        "3HIU8N  "
       ]
      },
      {
       "output_type": "stream",
       "stream": "stdout",
       "text": [
        "RA6517  "
       ]
      },
      {
       "output_type": "stream",
       "stream": "stdout",
       "text": [
        "15C5XU  "
       ]
      },
      {
       "output_type": "stream",
       "stream": "stdout",
       "text": [
        "2YJU9G  "
       ]
      },
      {
       "output_type": "stream",
       "stream": "stdout",
       "text": [
        "UD8N1D  "
       ]
      },
      {
       "output_type": "stream",
       "stream": "stdout",
       "text": [
        "JFIYBH  "
       ]
      },
      {
       "output_type": "stream",
       "stream": "stdout",
       "text": [
        "UNFA2M  "
       ]
      },
      {
       "output_type": "stream",
       "stream": "stdout",
       "text": [
        "XS38I0  "
       ]
      },
      {
       "output_type": "stream",
       "stream": "stdout",
       "text": [
        "LONEN5  "
       ]
      },
      {
       "output_type": "stream",
       "stream": "stdout",
       "text": [
        "WPGU3A  "
       ]
      },
      {
       "output_type": "stream",
       "stream": "stdout",
       "text": [
        "XXK1FC  "
       ]
      },
      {
       "output_type": "stream",
       "stream": "stdout",
       "text": [
        "E07SRS  "
       ]
      },
      {
       "output_type": "stream",
       "stream": "stdout",
       "text": [
        "R9FV94  "
       ]
      },
      {
       "output_type": "stream",
       "stream": "stdout",
       "text": [
        "UPB0Q8  "
       ]
      },
      {
       "output_type": "stream",
       "stream": "stdout",
       "text": [
        "1MQ3NL  "
       ]
      },
      {
       "output_type": "stream",
       "stream": "stdout",
       "text": [
        "P4YFVA  "
       ]
      },
      {
       "output_type": "stream",
       "stream": "stdout",
       "text": [
        "J0I29A  "
       ]
      },
      {
       "output_type": "stream",
       "stream": "stdout",
       "text": [
        "32T6ZK  "
       ]
      },
      {
       "output_type": "stream",
       "stream": "stdout",
       "text": [
        "9424OC  "
       ]
      },
      {
       "output_type": "stream",
       "stream": "stdout",
       "text": [
        "E2KKJ8  "
       ]
      },
      {
       "output_type": "stream",
       "stream": "stdout",
       "text": [
        "6H6JEI  "
       ]
      },
      {
       "output_type": "stream",
       "stream": "stdout",
       "text": [
        "M6YSA9  "
       ]
      },
      {
       "output_type": "stream",
       "stream": "stdout",
       "text": [
        "6GV7M7  "
       ]
      },
      {
       "output_type": "stream",
       "stream": "stdout",
       "text": [
        "DNL9IV  "
       ]
      },
      {
       "output_type": "stream",
       "stream": "stdout",
       "text": [
        "APEEA2  "
       ]
      },
      {
       "output_type": "stream",
       "stream": "stdout",
       "text": [
        "BRMLOE  "
       ]
      },
      {
       "output_type": "stream",
       "stream": "stdout",
       "text": [
        "IDWCCD  "
       ]
      },
      {
       "output_type": "stream",
       "stream": "stdout",
       "text": [
        "ZCWE4G  "
       ]
      },
      {
       "output_type": "stream",
       "stream": "stdout",
       "text": [
        "MZUM0G  "
       ]
      },
      {
       "output_type": "stream",
       "stream": "stdout",
       "text": [
        "K6L3E1  "
       ]
      },
      {
       "output_type": "stream",
       "stream": "stdout",
       "text": [
        "GG5QN6  "
       ]
      },
      {
       "output_type": "stream",
       "stream": "stdout",
       "text": [
        "BAJYQU  "
       ]
      },
      {
       "output_type": "stream",
       "stream": "stdout",
       "text": [
        "OYV6SY  "
       ]
      },
      {
       "output_type": "stream",
       "stream": "stdout",
       "text": [
        "LAPGW2  "
       ]
      },
      {
       "output_type": "stream",
       "stream": "stdout",
       "text": [
        "PN721N  "
       ]
      },
      {
       "output_type": "stream",
       "stream": "stdout",
       "text": [
        "5M2EVF  "
       ]
      },
      {
       "output_type": "stream",
       "stream": "stdout",
       "text": [
        "IWKSDP  "
       ]
      },
      {
       "output_type": "stream",
       "stream": "stdout",
       "text": [
        "32MOYT  "
       ]
      },
      {
       "output_type": "stream",
       "stream": "stdout",
       "text": [
        "7Z7UJE  "
       ]
      },
      {
       "output_type": "stream",
       "stream": "stdout",
       "text": [
        "6L925B  "
       ]
      },
      {
       "output_type": "stream",
       "stream": "stdout",
       "text": [
        "N4GI02  "
       ]
      },
      {
       "output_type": "stream",
       "stream": "stdout",
       "text": [
        "AAX99V  "
       ]
      },
      {
       "output_type": "stream",
       "stream": "stdout",
       "text": [
        "FTYIP9  "
       ]
      },
      {
       "output_type": "stream",
       "stream": "stdout",
       "text": [
        "PKSCVF  "
       ]
      },
      {
       "output_type": "stream",
       "stream": "stdout",
       "text": [
        "WWKJCR  "
       ]
      },
      {
       "output_type": "stream",
       "stream": "stdout",
       "text": [
        "UC9CH4  "
       ]
      },
      {
       "output_type": "stream",
       "stream": "stdout",
       "text": [
        "79KPO8  "
       ]
      },
      {
       "output_type": "stream",
       "stream": "stdout",
       "text": [
        "VRFWV7  "
       ]
      },
      {
       "output_type": "stream",
       "stream": "stdout",
       "text": [
        "SJP2Z0  "
       ]
      },
      {
       "output_type": "stream",
       "stream": "stdout",
       "text": [
        "7A9PII  "
       ]
      },
      {
       "output_type": "stream",
       "stream": "stdout",
       "text": [
        "PGQ3QF  "
       ]
      },
      {
       "output_type": "stream",
       "stream": "stdout",
       "text": [
        "P6MH6P  "
       ]
      },
      {
       "output_type": "stream",
       "stream": "stdout",
       "text": [
        "RYQ2LN  "
       ]
      },
      {
       "output_type": "stream",
       "stream": "stdout",
       "text": [
        "SATVRN  "
       ]
      },
      {
       "output_type": "stream",
       "stream": "stdout",
       "text": [
        "1JO672  "
       ]
      },
      {
       "output_type": "stream",
       "stream": "stdout",
       "text": [
        "SURPHD  "
       ]
      },
      {
       "output_type": "stream",
       "stream": "stdout",
       "text": [
        "H65BIY  "
       ]
      },
      {
       "output_type": "stream",
       "stream": "stdout",
       "text": [
        "9WYYWW  "
       ]
      },
      {
       "output_type": "stream",
       "stream": "stdout",
       "text": [
        "0KSFNY  "
       ]
      },
      {
       "output_type": "stream",
       "stream": "stdout",
       "text": [
        "BS3SS5  "
       ]
      },
      {
       "output_type": "stream",
       "stream": "stdout",
       "text": [
        "WZPC68  "
       ]
      },
      {
       "output_type": "stream",
       "stream": "stdout",
       "text": [
        "5APQEV  "
       ]
      },
      {
       "output_type": "stream",
       "stream": "stdout",
       "text": [
        "4ETFWE  "
       ]
      },
      {
       "output_type": "stream",
       "stream": "stdout",
       "text": [
        "59OWDV  "
       ]
      },
      {
       "output_type": "stream",
       "stream": "stdout",
       "text": [
        "5HGE55  "
       ]
      },
      {
       "output_type": "stream",
       "stream": "stdout",
       "text": [
        "1TVY0E  "
       ]
      },
      {
       "output_type": "stream",
       "stream": "stdout",
       "text": [
        "1L7BYR  "
       ]
      },
      {
       "output_type": "stream",
       "stream": "stdout",
       "text": [
        "IYHO8Q  "
       ]
      },
      {
       "output_type": "stream",
       "stream": "stdout",
       "text": [
        "JA0W6U  "
       ]
      },
      {
       "output_type": "stream",
       "stream": "stdout",
       "text": [
        "HK5XRB  "
       ]
      },
      {
       "output_type": "stream",
       "stream": "stdout",
       "text": [
        "LABEUD  "
       ]
      },
      {
       "output_type": "stream",
       "stream": "stdout",
       "text": [
        "Z6OSUK  "
       ]
      },
      {
       "output_type": "stream",
       "stream": "stdout",
       "text": [
        "LGQX2W  "
       ]
      },
      {
       "output_type": "stream",
       "stream": "stdout",
       "text": [
        "GWKE7K  "
       ]
      },
      {
       "output_type": "stream",
       "stream": "stdout",
       "text": [
        "7G6ESK  "
       ]
      },
      {
       "output_type": "stream",
       "stream": "stdout",
       "text": [
        "7OUCY5  "
       ]
      },
      {
       "output_type": "stream",
       "stream": "stdout",
       "text": [
        "VPKT9E  "
       ]
      },
      {
       "output_type": "stream",
       "stream": "stdout",
       "text": [
        "G2ADE5  "
       ]
      },
      {
       "output_type": "stream",
       "stream": "stdout",
       "text": [
        "1OJC9X  "
       ]
      },
      {
       "output_type": "stream",
       "stream": "stdout",
       "text": [
        "G9CVWM  "
       ]
      },
      {
       "output_type": "stream",
       "stream": "stdout",
       "text": [
        "FOI97S  "
       ]
      },
      {
       "output_type": "stream",
       "stream": "stdout",
       "text": [
        "52F1G1  "
       ]
      },
      {
       "output_type": "stream",
       "stream": "stdout",
       "text": [
        "58I178  "
       ]
      },
      {
       "output_type": "stream",
       "stream": "stdout",
       "text": [
        "7SAXG0  "
       ]
      },
      {
       "output_type": "stream",
       "stream": "stdout",
       "text": [
        "K2LD18  "
       ]
      },
      {
       "output_type": "stream",
       "stream": "stdout",
       "text": [
        "UI3NG5  "
       ]
      },
      {
       "output_type": "stream",
       "stream": "stdout",
       "text": [
        "3RWQTB  "
       ]
      },
      {
       "output_type": "stream",
       "stream": "stdout",
       "text": [
        "WZBUM6  "
       ]
      },
      {
       "output_type": "stream",
       "stream": "stdout",
       "text": [
        "SYZRQF  "
       ]
      },
      {
       "output_type": "stream",
       "stream": "stdout",
       "text": [
        "X87L2Q  "
       ]
      },
      {
       "output_type": "stream",
       "stream": "stdout",
       "text": [
        "WJ63I4  "
       ]
      },
      {
       "output_type": "stream",
       "stream": "stdout",
       "text": [
        "H6BEQR  "
       ]
      },
      {
       "output_type": "stream",
       "stream": "stdout",
       "text": [
        "Q5FHO2  "
       ]
      },
      {
       "output_type": "stream",
       "stream": "stdout",
       "text": [
        "LUKYIY  "
       ]
      },
      {
       "output_type": "stream",
       "stream": "stdout",
       "text": [
        "RH7XQX  "
       ]
      },
      {
       "output_type": "stream",
       "stream": "stdout",
       "text": [
        "ZEMCF0  "
       ]
      },
      {
       "output_type": "stream",
       "stream": "stdout",
       "text": [
        "TYA0K9  "
       ]
      },
      {
       "output_type": "stream",
       "stream": "stdout",
       "text": [
        "VUJNS1  "
       ]
      },
      {
       "output_type": "stream",
       "stream": "stdout",
       "text": [
        "WDWYD5  "
       ]
      },
      {
       "output_type": "stream",
       "stream": "stdout",
       "text": [
        "V38F22  "
       ]
      },
      {
       "output_type": "stream",
       "stream": "stdout",
       "text": [
        "P5ZA1L  "
       ]
      },
      {
       "output_type": "stream",
       "stream": "stdout",
       "text": [
        "EGIXGE  "
       ]
      },
      {
       "output_type": "stream",
       "stream": "stdout",
       "text": [
        "Z0V18H  "
       ]
      },
      {
       "output_type": "stream",
       "stream": "stdout",
       "text": [
        "PJQB3Z  "
       ]
      },
      {
       "output_type": "stream",
       "stream": "stdout",
       "text": [
        "7EM22G  "
       ]
      },
      {
       "output_type": "stream",
       "stream": "stdout",
       "text": [
        "3DSYC4  "
       ]
      },
      {
       "output_type": "stream",
       "stream": "stdout",
       "text": [
        "VVOQP5  "
       ]
      },
      {
       "output_type": "stream",
       "stream": "stdout",
       "text": [
        "K3WHRE  "
       ]
      },
      {
       "output_type": "stream",
       "stream": "stdout",
       "text": [
        "GP5YG4  "
       ]
      },
      {
       "output_type": "stream",
       "stream": "stdout",
       "text": [
        "JR24ZV  "
       ]
      },
      {
       "output_type": "stream",
       "stream": "stdout",
       "text": [
        "HBGXWE  "
       ]
      },
      {
       "output_type": "stream",
       "stream": "stdout",
       "text": [
        "RJZH8D  "
       ]
      },
      {
       "output_type": "stream",
       "stream": "stdout",
       "text": [
        "6ZXI1S  "
       ]
      },
      {
       "output_type": "stream",
       "stream": "stdout",
       "text": [
        "DC6VJ3  "
       ]
      },
      {
       "output_type": "stream",
       "stream": "stdout",
       "text": [
        "DWNJKF  "
       ]
      },
      {
       "output_type": "stream",
       "stream": "stdout",
       "text": [
        "UP8BGT  "
       ]
      },
      {
       "output_type": "stream",
       "stream": "stdout",
       "text": [
        "CM916B  "
       ]
      },
      {
       "output_type": "stream",
       "stream": "stdout",
       "text": [
        "6OKSTO  "
       ]
      },
      {
       "output_type": "stream",
       "stream": "stdout",
       "text": [
        "62AMVG  "
       ]
      },
      {
       "output_type": "stream",
       "stream": "stdout",
       "text": [
        "MU55EQ  "
       ]
      },
      {
       "output_type": "stream",
       "stream": "stdout",
       "text": [
        "TKKOM7  "
       ]
      },
      {
       "output_type": "stream",
       "stream": "stdout",
       "text": [
        "L6JOID  "
       ]
      },
      {
       "output_type": "stream",
       "stream": "stdout",
       "text": [
        "XWLUWQ  "
       ]
      },
      {
       "output_type": "stream",
       "stream": "stdout",
       "text": [
        "ZU21U2  "
       ]
      },
      {
       "output_type": "stream",
       "stream": "stdout",
       "text": [
        "GWYFYH  "
       ]
      },
      {
       "output_type": "stream",
       "stream": "stdout",
       "text": [
        "P14QZR  "
       ]
      },
      {
       "output_type": "stream",
       "stream": "stdout",
       "text": [
        "GSHL1A  "
       ]
      },
      {
       "output_type": "stream",
       "stream": "stdout",
       "text": [
        "29T247  "
       ]
      },
      {
       "output_type": "stream",
       "stream": "stdout",
       "text": [
        "UQ317B  "
       ]
      },
      {
       "output_type": "stream",
       "stream": "stdout",
       "text": [
        "MMT3NT  "
       ]
      },
      {
       "output_type": "stream",
       "stream": "stdout",
       "text": [
        "54S2I4  "
       ]
      },
      {
       "output_type": "stream",
       "stream": "stdout",
       "text": [
        "QJZ6RF  "
       ]
      },
      {
       "output_type": "stream",
       "stream": "stdout",
       "text": [
        "KKXXWR  "
       ]
      },
      {
       "output_type": "stream",
       "stream": "stdout",
       "text": [
        "2JM3GW  "
       ]
      },
      {
       "output_type": "stream",
       "stream": "stdout",
       "text": [
        "N9X8EA  "
       ]
      },
      {
       "output_type": "stream",
       "stream": "stdout",
       "text": [
        "I00949  "
       ]
      },
      {
       "output_type": "stream",
       "stream": "stdout",
       "text": [
        "T76CHZ  "
       ]
      },
      {
       "output_type": "stream",
       "stream": "stdout",
       "text": [
        "3UG5DQ  "
       ]
      },
      {
       "output_type": "stream",
       "stream": "stdout",
       "text": [
        "BMWS4I  "
       ]
      },
      {
       "output_type": "stream",
       "stream": "stdout",
       "text": [
        "6DIEN5  "
       ]
      },
      {
       "output_type": "stream",
       "stream": "stdout",
       "text": [
        "VVCOOB  "
       ]
      },
      {
       "output_type": "stream",
       "stream": "stdout",
       "text": [
        "ANOQG6  "
       ]
      },
      {
       "output_type": "stream",
       "stream": "stdout",
       "text": [
        "4WXB4T \n"
       ]
      }
     ],
     "prompt_number": 11
    },
    {
     "cell_type": "code",
     "collapsed": false,
     "input": [
      "correct_us, total_us = matching.folderMatch(directory, dt, matching.ratioMatch, thresholds_nocluster, keypoint, descriptor)"
     ],
     "language": "python",
     "metadata": {},
     "outputs": [
      {
       "output_type": "stream",
       "stream": "stdout",
       "text": [
        "2Z1K6C  "
       ]
      },
      {
       "output_type": "stream",
       "stream": "stdout",
       "text": [
        "1G8ML7  "
       ]
      },
      {
       "output_type": "stream",
       "stream": "stdout",
       "text": [
        "N8ZL5S  "
       ]
      },
      {
       "output_type": "stream",
       "stream": "stdout",
       "text": [
        "80WQUR  "
       ]
      },
      {
       "output_type": "stream",
       "stream": "stdout",
       "text": [
        "FZ7Y7P  "
       ]
      },
      {
       "output_type": "stream",
       "stream": "stdout",
       "text": [
        "DQD1SV  "
       ]
      },
      {
       "output_type": "stream",
       "stream": "stdout",
       "text": [
        "3A4O9O  "
       ]
      },
      {
       "output_type": "stream",
       "stream": "stdout",
       "text": [
        "KWBC3Y  "
       ]
      },
      {
       "output_type": "stream",
       "stream": "stdout",
       "text": [
        "8H5ZWL  "
       ]
      },
      {
       "output_type": "stream",
       "stream": "stdout",
       "text": [
        "LTTDP3  "
       ]
      },
      {
       "output_type": "stream",
       "stream": "stdout",
       "text": [
        "LMX1E1  "
       ]
      },
      {
       "output_type": "stream",
       "stream": "stdout",
       "text": [
        "TISHXN  "
       ]
      },
      {
       "output_type": "stream",
       "stream": "stdout",
       "text": [
        "EM5ACH  "
       ]
      },
      {
       "output_type": "stream",
       "stream": "stdout",
       "text": [
        "9OIRPZ  "
       ]
      },
      {
       "output_type": "stream",
       "stream": "stdout",
       "text": [
        "4E2RRN  "
       ]
      },
      {
       "output_type": "stream",
       "stream": "stdout",
       "text": [
        "QMRBV3  "
       ]
      },
      {
       "output_type": "stream",
       "stream": "stdout",
       "text": [
        "PTY26L  "
       ]
      },
      {
       "output_type": "stream",
       "stream": "stdout",
       "text": [
        "O5KS4T  "
       ]
      },
      {
       "output_type": "stream",
       "stream": "stdout",
       "text": [
        "R0646X  "
       ]
      },
      {
       "output_type": "stream",
       "stream": "stdout",
       "text": [
        "40VXKM  "
       ]
      },
      {
       "output_type": "stream",
       "stream": "stdout",
       "text": [
        "TQWDXL  "
       ]
      },
      {
       "output_type": "stream",
       "stream": "stdout",
       "text": [
        "7E75DI  "
       ]
      },
      {
       "output_type": "stream",
       "stream": "stdout",
       "text": [
        "HTTBV4  "
       ]
      },
      {
       "output_type": "stream",
       "stream": "stdout",
       "text": [
        "M4SDMI  "
       ]
      },
      {
       "output_type": "stream",
       "stream": "stdout",
       "text": [
        "ZDLKYP  "
       ]
      },
      {
       "output_type": "stream",
       "stream": "stdout",
       "text": [
        "RSX4C0  "
       ]
      },
      {
       "output_type": "stream",
       "stream": "stdout",
       "text": [
        "2RWBM5  "
       ]
      },
      {
       "output_type": "stream",
       "stream": "stdout",
       "text": [
        "ABDX1R  "
       ]
      },
      {
       "output_type": "stream",
       "stream": "stdout",
       "text": [
        "5JXEBK  "
       ]
      },
      {
       "output_type": "stream",
       "stream": "stdout",
       "text": [
        "JTWQ0P  "
       ]
      },
      {
       "output_type": "stream",
       "stream": "stdout",
       "text": [
        "QMQO7I  "
       ]
      },
      {
       "output_type": "stream",
       "stream": "stdout",
       "text": [
        "XV9FBA  "
       ]
      },
      {
       "output_type": "stream",
       "stream": "stdout",
       "text": [
        "C59YBW  "
       ]
      },
      {
       "output_type": "stream",
       "stream": "stdout",
       "text": [
        "73I4OJ  "
       ]
      },
      {
       "output_type": "stream",
       "stream": "stdout",
       "text": [
        "4DRQ8W  "
       ]
      },
      {
       "output_type": "stream",
       "stream": "stdout",
       "text": [
        "30GRRM  "
       ]
      },
      {
       "output_type": "stream",
       "stream": "stdout",
       "text": [
        "GYU94F  "
       ]
      },
      {
       "output_type": "stream",
       "stream": "stdout",
       "text": [
        "RXSATM  "
       ]
      },
      {
       "output_type": "stream",
       "stream": "stdout",
       "text": [
        "ON8XNZ  "
       ]
      },
      {
       "output_type": "stream",
       "stream": "stdout",
       "text": [
        "UYO3FK  "
       ]
      },
      {
       "output_type": "stream",
       "stream": "stdout",
       "text": [
        "U8VD2L  "
       ]
      },
      {
       "output_type": "stream",
       "stream": "stdout",
       "text": [
        "Z4OJVA  "
       ]
      },
      {
       "output_type": "stream",
       "stream": "stdout",
       "text": [
        "DISHQG  "
       ]
      },
      {
       "output_type": "stream",
       "stream": "stdout",
       "text": [
        "GXIP8V  "
       ]
      },
      {
       "output_type": "stream",
       "stream": "stdout",
       "text": [
        "0LY95L  "
       ]
      },
      {
       "output_type": "stream",
       "stream": "stdout",
       "text": [
        "ZLI3NJ  "
       ]
      },
      {
       "output_type": "stream",
       "stream": "stdout",
       "text": [
        "506NNA  "
       ]
      },
      {
       "output_type": "stream",
       "stream": "stdout",
       "text": [
        "9GR9LR  "
       ]
      },
      {
       "output_type": "stream",
       "stream": "stdout",
       "text": [
        "HKC7GO  "
       ]
      },
      {
       "output_type": "stream",
       "stream": "stdout",
       "text": [
        "NR1A0E  "
       ]
      },
      {
       "output_type": "stream",
       "stream": "stdout",
       "text": [
        "C990P0  "
       ]
      },
      {
       "output_type": "stream",
       "stream": "stdout",
       "text": [
        "5MMNGA  "
       ]
      },
      {
       "output_type": "stream",
       "stream": "stdout",
       "text": [
        "IU0ZJX  "
       ]
      },
      {
       "output_type": "stream",
       "stream": "stdout",
       "text": [
        "DX4VR8  "
       ]
      },
      {
       "output_type": "stream",
       "stream": "stdout",
       "text": [
        "4VYIZG  "
       ]
      },
      {
       "output_type": "stream",
       "stream": "stdout",
       "text": [
        "2X3EKZ  "
       ]
      },
      {
       "output_type": "stream",
       "stream": "stdout",
       "text": [
        "1AG0DK  "
       ]
      },
      {
       "output_type": "stream",
       "stream": "stdout",
       "text": [
        "UYC6W4  "
       ]
      },
      {
       "output_type": "stream",
       "stream": "stdout",
       "text": [
        "O0MD4E  "
       ]
      },
      {
       "output_type": "stream",
       "stream": "stdout",
       "text": [
        "5EPS6U  "
       ]
      },
      {
       "output_type": "stream",
       "stream": "stdout",
       "text": [
        "OZJV1X  "
       ]
      },
      {
       "output_type": "stream",
       "stream": "stdout",
       "text": [
        "027XAS  "
       ]
      },
      {
       "output_type": "stream",
       "stream": "stdout",
       "text": [
        "6GQH93  "
       ]
      },
      {
       "output_type": "stream",
       "stream": "stdout",
       "text": [
        "9DUE6Z  "
       ]
      },
      {
       "output_type": "stream",
       "stream": "stdout",
       "text": [
        "Z2DT1R  "
       ]
      },
      {
       "output_type": "stream",
       "stream": "stdout",
       "text": [
        "RVN6CE  "
       ]
      },
      {
       "output_type": "stream",
       "stream": "stdout",
       "text": [
        "L4GZX3  "
       ]
      },
      {
       "output_type": "stream",
       "stream": "stdout",
       "text": [
        "X7RNOZ  "
       ]
      },
      {
       "output_type": "stream",
       "stream": "stdout",
       "text": [
        "Z5V44Y  "
       ]
      },
      {
       "output_type": "stream",
       "stream": "stdout",
       "text": [
        "ZJVEE5  "
       ]
      },
      {
       "output_type": "stream",
       "stream": "stdout",
       "text": [
        "562WAS  "
       ]
      },
      {
       "output_type": "stream",
       "stream": "stdout",
       "text": [
        "OYTGYJ  "
       ]
      },
      {
       "output_type": "stream",
       "stream": "stdout",
       "text": [
        "FVQKXZ  "
       ]
      },
      {
       "output_type": "stream",
       "stream": "stdout",
       "text": [
        "EWNOIH  "
       ]
      },
      {
       "output_type": "stream",
       "stream": "stdout",
       "text": [
        "K65L9N  "
       ]
      },
      {
       "output_type": "stream",
       "stream": "stdout",
       "text": [
        "UCR3N5  "
       ]
      },
      {
       "output_type": "stream",
       "stream": "stdout",
       "text": [
        "E66R8I  "
       ]
      },
      {
       "output_type": "stream",
       "stream": "stdout",
       "text": [
        "R6XGWO  "
       ]
      },
      {
       "output_type": "stream",
       "stream": "stdout",
       "text": [
        "V5PMW7  "
       ]
      },
      {
       "output_type": "stream",
       "stream": "stdout",
       "text": [
        "K9H1ZQ  "
       ]
      },
      {
       "output_type": "stream",
       "stream": "stdout",
       "text": [
        "GFVQHI  "
       ]
      },
      {
       "output_type": "stream",
       "stream": "stdout",
       "text": [
        "K3XUTE  "
       ]
      },
      {
       "output_type": "stream",
       "stream": "stdout",
       "text": [
        "WKXL4H  "
       ]
      },
      {
       "output_type": "stream",
       "stream": "stdout",
       "text": [
        "NR22QM  "
       ]
      },
      {
       "output_type": "stream",
       "stream": "stdout",
       "text": [
        "MFUEHH  "
       ]
      },
      {
       "output_type": "stream",
       "stream": "stdout",
       "text": [
        "V8FD6F  "
       ]
      },
      {
       "output_type": "stream",
       "stream": "stdout",
       "text": [
        "A7SRQB  "
       ]
      },
      {
       "output_type": "stream",
       "stream": "stdout",
       "text": [
        "497LZC  "
       ]
      },
      {
       "output_type": "stream",
       "stream": "stdout",
       "text": [
        "WRAOHB  "
       ]
      },
      {
       "output_type": "stream",
       "stream": "stdout",
       "text": [
        "Z1JVRT  "
       ]
      },
      {
       "output_type": "stream",
       "stream": "stdout",
       "text": [
        "S82EMR  "
       ]
      },
      {
       "output_type": "stream",
       "stream": "stdout",
       "text": [
        "390GUN  "
       ]
      },
      {
       "output_type": "stream",
       "stream": "stdout",
       "text": [
        "O9CB81  "
       ]
      },
      {
       "output_type": "stream",
       "stream": "stdout",
       "text": [
        "1LXD7T  "
       ]
      },
      {
       "output_type": "stream",
       "stream": "stdout",
       "text": [
        "AY34K3  "
       ]
      },
      {
       "output_type": "stream",
       "stream": "stdout",
       "text": [
        "TSWGO2  "
       ]
      },
      {
       "output_type": "stream",
       "stream": "stdout",
       "text": [
        "C2IRR5  "
       ]
      },
      {
       "output_type": "stream",
       "stream": "stdout",
       "text": [
        "FC25UA  "
       ]
      },
      {
       "output_type": "stream",
       "stream": "stdout",
       "text": [
        "3OB719  "
       ]
      },
      {
       "output_type": "stream",
       "stream": "stdout",
       "text": [
        "96TCQ8  "
       ]
      },
      {
       "output_type": "stream",
       "stream": "stdout",
       "text": [
        "CTT9O7  "
       ]
      },
      {
       "output_type": "stream",
       "stream": "stdout",
       "text": [
        "JWKZ6F  "
       ]
      },
      {
       "output_type": "stream",
       "stream": "stdout",
       "text": [
        "LHD8CQ  "
       ]
      },
      {
       "output_type": "stream",
       "stream": "stdout",
       "text": [
        "99IZJG  "
       ]
      },
      {
       "output_type": "stream",
       "stream": "stdout",
       "text": [
        "02U4EY  "
       ]
      },
      {
       "output_type": "stream",
       "stream": "stdout",
       "text": [
        "YJ0V36  "
       ]
      },
      {
       "output_type": "stream",
       "stream": "stdout",
       "text": [
        "GAUWCW  "
       ]
      },
      {
       "output_type": "stream",
       "stream": "stdout",
       "text": [
        "OG7M3L  "
       ]
      },
      {
       "output_type": "stream",
       "stream": "stdout",
       "text": [
        "GC2YIY  "
       ]
      },
      {
       "output_type": "stream",
       "stream": "stdout",
       "text": [
        "BOU48K  "
       ]
      },
      {
       "output_type": "stream",
       "stream": "stdout",
       "text": [
        "6M5CE1  "
       ]
      },
      {
       "output_type": "stream",
       "stream": "stdout",
       "text": [
        "8TKX44  "
       ]
      },
      {
       "output_type": "stream",
       "stream": "stdout",
       "text": [
        "2F9Y0I  "
       ]
      },
      {
       "output_type": "stream",
       "stream": "stdout",
       "text": [
        "NKKDD1  "
       ]
      },
      {
       "output_type": "stream",
       "stream": "stdout",
       "text": [
        "6BPO0Z  "
       ]
      },
      {
       "output_type": "stream",
       "stream": "stdout",
       "text": [
        "5QP2CW  "
       ]
      },
      {
       "output_type": "stream",
       "stream": "stdout",
       "text": [
        "VKRCBU  "
       ]
      },
      {
       "output_type": "stream",
       "stream": "stdout",
       "text": [
        "CR84HK  "
       ]
      },
      {
       "output_type": "stream",
       "stream": "stdout",
       "text": [
        "SU6QSW  "
       ]
      },
      {
       "output_type": "stream",
       "stream": "stdout",
       "text": [
        "3H7MQB  "
       ]
      },
      {
       "output_type": "stream",
       "stream": "stdout",
       "text": [
        "WG1F1C  "
       ]
      },
      {
       "output_type": "stream",
       "stream": "stdout",
       "text": [
        "C0KFH9  "
       ]
      },
      {
       "output_type": "stream",
       "stream": "stdout",
       "text": [
        "VBPEBC  "
       ]
      },
      {
       "output_type": "stream",
       "stream": "stdout",
       "text": [
        "JYM95A  "
       ]
      },
      {
       "output_type": "stream",
       "stream": "stdout",
       "text": [
        "6AMKG9  "
       ]
      },
      {
       "output_type": "stream",
       "stream": "stdout",
       "text": [
        "88ZM7V  "
       ]
      },
      {
       "output_type": "stream",
       "stream": "stdout",
       "text": [
        "5T4CVX  "
       ]
      },
      {
       "output_type": "stream",
       "stream": "stdout",
       "text": [
        "H945QK  "
       ]
      },
      {
       "output_type": "stream",
       "stream": "stdout",
       "text": [
        "R2TGES  "
       ]
      },
      {
       "output_type": "stream",
       "stream": "stdout",
       "text": [
        "NV83UC  "
       ]
      },
      {
       "output_type": "stream",
       "stream": "stdout",
       "text": [
        "N15IEM  "
       ]
      },
      {
       "output_type": "stream",
       "stream": "stdout",
       "text": [
        "4NIA8P  "
       ]
      },
      {
       "output_type": "stream",
       "stream": "stdout",
       "text": [
        "88VB3K  "
       ]
      },
      {
       "output_type": "stream",
       "stream": "stdout",
       "text": [
        "J1M6N1  "
       ]
      },
      {
       "output_type": "stream",
       "stream": "stdout",
       "text": [
        "Q85NVQ  "
       ]
      },
      {
       "output_type": "stream",
       "stream": "stdout",
       "text": [
        "KHD6GV  "
       ]
      },
      {
       "output_type": "stream",
       "stream": "stdout",
       "text": [
        "MH3YHA  "
       ]
      },
      {
       "output_type": "stream",
       "stream": "stdout",
       "text": [
        "UMZKOZ  "
       ]
      },
      {
       "output_type": "stream",
       "stream": "stdout",
       "text": [
        "Y6QT0C  "
       ]
      },
      {
       "output_type": "stream",
       "stream": "stdout",
       "text": [
        "P92G0U  "
       ]
      },
      {
       "output_type": "stream",
       "stream": "stdout",
       "text": [
        "ONOFO1  "
       ]
      },
      {
       "output_type": "stream",
       "stream": "stdout",
       "text": [
        "9OZS6Y  "
       ]
      },
      {
       "output_type": "stream",
       "stream": "stdout",
       "text": [
        "BCR72R  "
       ]
      },
      {
       "output_type": "stream",
       "stream": "stdout",
       "text": [
        "DYHAHI  "
       ]
      },
      {
       "output_type": "stream",
       "stream": "stdout",
       "text": [
        "ZCC15V  "
       ]
      },
      {
       "output_type": "stream",
       "stream": "stdout",
       "text": [
        "I9ZVM2  "
       ]
      },
      {
       "output_type": "stream",
       "stream": "stdout",
       "text": [
        "FTNBIY  "
       ]
      },
      {
       "output_type": "stream",
       "stream": "stdout",
       "text": [
        "RFJ848  "
       ]
      },
      {
       "output_type": "stream",
       "stream": "stdout",
       "text": [
        "TI5IGD  "
       ]
      },
      {
       "output_type": "stream",
       "stream": "stdout",
       "text": [
        "EWAA43  "
       ]
      },
      {
       "output_type": "stream",
       "stream": "stdout",
       "text": [
        "AG5R8C  "
       ]
      },
      {
       "output_type": "stream",
       "stream": "stdout",
       "text": [
        "6PQOII  "
       ]
      },
      {
       "output_type": "stream",
       "stream": "stdout",
       "text": [
        "C41ICC  "
       ]
      },
      {
       "output_type": "stream",
       "stream": "stdout",
       "text": [
        "B3511Y  "
       ]
      },
      {
       "output_type": "stream",
       "stream": "stdout",
       "text": [
        "SD2G0W  "
       ]
      },
      {
       "output_type": "stream",
       "stream": "stdout",
       "text": [
        "JSR3EY  "
       ]
      },
      {
       "output_type": "stream",
       "stream": "stdout",
       "text": [
        "Y48RCM  "
       ]
      },
      {
       "output_type": "stream",
       "stream": "stdout",
       "text": [
        "DUMA3G  "
       ]
      },
      {
       "output_type": "stream",
       "stream": "stdout",
       "text": [
        "OBNVV9  "
       ]
      },
      {
       "output_type": "stream",
       "stream": "stdout",
       "text": [
        "1MQKGP  "
       ]
      },
      {
       "output_type": "stream",
       "stream": "stdout",
       "text": [
        "XOG8XE  "
       ]
      },
      {
       "output_type": "stream",
       "stream": "stdout",
       "text": [
        "OC5OBJ  "
       ]
      },
      {
       "output_type": "stream",
       "stream": "stdout",
       "text": [
        "J8WBWW  "
       ]
      },
      {
       "output_type": "stream",
       "stream": "stdout",
       "text": [
        "K0M6ZE  "
       ]
      },
      {
       "output_type": "stream",
       "stream": "stdout",
       "text": [
        "MJEIE5  "
       ]
      },
      {
       "output_type": "stream",
       "stream": "stdout",
       "text": [
        "ED4A0S  "
       ]
      },
      {
       "output_type": "stream",
       "stream": "stdout",
       "text": [
        "IY3Y5O  "
       ]
      },
      {
       "output_type": "stream",
       "stream": "stdout",
       "text": [
        "M11916  "
       ]
      },
      {
       "output_type": "stream",
       "stream": "stdout",
       "text": [
        "4BN1ES  "
       ]
      },
      {
       "output_type": "stream",
       "stream": "stdout",
       "text": [
        "PDI14T  "
       ]
      },
      {
       "output_type": "stream",
       "stream": "stdout",
       "text": [
        "WT1AO2  "
       ]
      },
      {
       "output_type": "stream",
       "stream": "stdout",
       "text": [
        "FCEDNV  "
       ]
      },
      {
       "output_type": "stream",
       "stream": "stdout",
       "text": [
        "XCX2CD  "
       ]
      },
      {
       "output_type": "stream",
       "stream": "stdout",
       "text": [
        "Y0UL7L  "
       ]
      },
      {
       "output_type": "stream",
       "stream": "stdout",
       "text": [
        "9RLQ3P  "
       ]
      },
      {
       "output_type": "stream",
       "stream": "stdout",
       "text": [
        "3IDQXO  "
       ]
      },
      {
       "output_type": "stream",
       "stream": "stdout",
       "text": [
        "FWHY5W  "
       ]
      },
      {
       "output_type": "stream",
       "stream": "stdout",
       "text": [
        "RQOWCQ  "
       ]
      },
      {
       "output_type": "stream",
       "stream": "stdout",
       "text": [
        "HTZFJ8  "
       ]
      },
      {
       "output_type": "stream",
       "stream": "stdout",
       "text": [
        "PKFE3V  "
       ]
      },
      {
       "output_type": "stream",
       "stream": "stdout",
       "text": [
        "BB6WUJ  "
       ]
      },
      {
       "output_type": "stream",
       "stream": "stdout",
       "text": [
        "Q2VUI6  "
       ]
      },
      {
       "output_type": "stream",
       "stream": "stdout",
       "text": [
        "U85EUV  "
       ]
      },
      {
       "output_type": "stream",
       "stream": "stdout",
       "text": [
        "7THEDW  "
       ]
      },
      {
       "output_type": "stream",
       "stream": "stdout",
       "text": [
        "3GXGVG  "
       ]
      },
      {
       "output_type": "stream",
       "stream": "stdout",
       "text": [
        "BTCSFU  "
       ]
      },
      {
       "output_type": "stream",
       "stream": "stdout",
       "text": [
        "WGI5OO  "
       ]
      },
      {
       "output_type": "stream",
       "stream": "stdout",
       "text": [
        "GGRDSR  "
       ]
      },
      {
       "output_type": "stream",
       "stream": "stdout",
       "text": [
        "4HS2P7  "
       ]
      },
      {
       "output_type": "stream",
       "stream": "stdout",
       "text": [
        "DYY6BX  "
       ]
      },
      {
       "output_type": "stream",
       "stream": "stdout",
       "text": [
        "CT6JD6  "
       ]
      },
      {
       "output_type": "stream",
       "stream": "stdout",
       "text": [
        "74SBU7  "
       ]
      },
      {
       "output_type": "stream",
       "stream": "stdout",
       "text": [
        "O15TRA  "
       ]
      },
      {
       "output_type": "stream",
       "stream": "stdout",
       "text": [
        "QFDDX8  "
       ]
      },
      {
       "output_type": "stream",
       "stream": "stdout",
       "text": [
        "BBVWGK  "
       ]
      },
      {
       "output_type": "stream",
       "stream": "stdout",
       "text": [
        "XJ9KKK  "
       ]
      },
      {
       "output_type": "stream",
       "stream": "stdout",
       "text": [
        "DU42D0  "
       ]
      },
      {
       "output_type": "stream",
       "stream": "stdout",
       "text": [
        "VD8QRW  "
       ]
      },
      {
       "output_type": "stream",
       "stream": "stdout",
       "text": [
        "AXBJ6A  "
       ]
      },
      {
       "output_type": "stream",
       "stream": "stdout",
       "text": [
        "EW9Z3B  "
       ]
      },
      {
       "output_type": "stream",
       "stream": "stdout",
       "text": [
        "ILYYLP  "
       ]
      },
      {
       "output_type": "stream",
       "stream": "stdout",
       "text": [
        "02N338  "
       ]
      },
      {
       "output_type": "stream",
       "stream": "stdout",
       "text": [
        "GHEC7B  "
       ]
      },
      {
       "output_type": "stream",
       "stream": "stdout",
       "text": [
        "ZCEHP5  "
       ]
      },
      {
       "output_type": "stream",
       "stream": "stdout",
       "text": [
        "FAQYNX  "
       ]
      },
      {
       "output_type": "stream",
       "stream": "stdout",
       "text": [
        "EJGC2Z  "
       ]
      },
      {
       "output_type": "stream",
       "stream": "stdout",
       "text": [
        "OMIVKH  "
       ]
      },
      {
       "output_type": "stream",
       "stream": "stdout",
       "text": [
        "1S3O4K  "
       ]
      },
      {
       "output_type": "stream",
       "stream": "stdout",
       "text": [
        "MM7OGI  "
       ]
      },
      {
       "output_type": "stream",
       "stream": "stdout",
       "text": [
        "2KCN8N  "
       ]
      },
      {
       "output_type": "stream",
       "stream": "stdout",
       "text": [
        "Q098UC  "
       ]
      },
      {
       "output_type": "stream",
       "stream": "stdout",
       "text": [
        "542PL1  "
       ]
      },
      {
       "output_type": "stream",
       "stream": "stdout",
       "text": [
        "90QSSN  "
       ]
      },
      {
       "output_type": "stream",
       "stream": "stdout",
       "text": [
        "9U7142  "
       ]
      },
      {
       "output_type": "stream",
       "stream": "stdout",
       "text": [
        "685PWY  "
       ]
      },
      {
       "output_type": "stream",
       "stream": "stdout",
       "text": [
        "M0CTCU  "
       ]
      },
      {
       "output_type": "stream",
       "stream": "stdout",
       "text": [
        "CZCLEF  "
       ]
      },
      {
       "output_type": "stream",
       "stream": "stdout",
       "text": [
        "7JNC7P  "
       ]
      },
      {
       "output_type": "stream",
       "stream": "stdout",
       "text": [
        "WA7Q6U  "
       ]
      },
      {
       "output_type": "stream",
       "stream": "stdout",
       "text": [
        "Q4PETF  "
       ]
      },
      {
       "output_type": "stream",
       "stream": "stdout",
       "text": [
        "Z3TKIJ  "
       ]
      },
      {
       "output_type": "stream",
       "stream": "stdout",
       "text": [
        "4UBI8S  "
       ]
      },
      {
       "output_type": "stream",
       "stream": "stdout",
       "text": [
        "8SHHD1  "
       ]
      },
      {
       "output_type": "stream",
       "stream": "stdout",
       "text": [
        "IGZ4IN  "
       ]
      },
      {
       "output_type": "stream",
       "stream": "stdout",
       "text": [
        "Q5NG72  "
       ]
      },
      {
       "output_type": "stream",
       "stream": "stdout",
       "text": [
        "DVSDM0  "
       ]
      },
      {
       "output_type": "stream",
       "stream": "stdout",
       "text": [
        "TDYH87  "
       ]
      },
      {
       "output_type": "stream",
       "stream": "stdout",
       "text": [
        "FB3NJV  "
       ]
      },
      {
       "output_type": "stream",
       "stream": "stdout",
       "text": [
        "WQJPMT  "
       ]
      },
      {
       "output_type": "stream",
       "stream": "stdout",
       "text": [
        "VW85AV  "
       ]
      },
      {
       "output_type": "stream",
       "stream": "stdout",
       "text": [
        "9AXAHP  "
       ]
      },
      {
       "output_type": "stream",
       "stream": "stdout",
       "text": [
        "RVAJ7N  "
       ]
      },
      {
       "output_type": "stream",
       "stream": "stdout",
       "text": [
        "NT19D9  "
       ]
      },
      {
       "output_type": "stream",
       "stream": "stdout",
       "text": [
        "3WTEAD  "
       ]
      },
      {
       "output_type": "stream",
       "stream": "stdout",
       "text": [
        "QCYTF4  "
       ]
      },
      {
       "output_type": "stream",
       "stream": "stdout",
       "text": [
        "ZMZFBZ  "
       ]
      },
      {
       "output_type": "stream",
       "stream": "stdout",
       "text": [
        "6BFZI1  "
       ]
      },
      {
       "output_type": "stream",
       "stream": "stdout",
       "text": [
        "RQ0PLL  "
       ]
      },
      {
       "output_type": "stream",
       "stream": "stdout",
       "text": [
        "NIWQAO  "
       ]
      },
      {
       "output_type": "stream",
       "stream": "stdout",
       "text": [
        "UR58E8  "
       ]
      },
      {
       "output_type": "stream",
       "stream": "stdout",
       "text": [
        "0VDSK6  "
       ]
      },
      {
       "output_type": "stream",
       "stream": "stdout",
       "text": [
        "91X3OE  "
       ]
      },
      {
       "output_type": "stream",
       "stream": "stdout",
       "text": [
        "7RHZUB  "
       ]
      },
      {
       "output_type": "stream",
       "stream": "stdout",
       "text": [
        "EATAYM  "
       ]
      },
      {
       "output_type": "stream",
       "stream": "stdout",
       "text": [
        "J5U1TJ  "
       ]
      },
      {
       "output_type": "stream",
       "stream": "stdout",
       "text": [
        "WCDJ2D  "
       ]
      },
      {
       "output_type": "stream",
       "stream": "stdout",
       "text": [
        "SY3CJP  "
       ]
      },
      {
       "output_type": "stream",
       "stream": "stdout",
       "text": [
        "6UD57H  "
       ]
      },
      {
       "output_type": "stream",
       "stream": "stdout",
       "text": [
        "IHYDF1  "
       ]
      },
      {
       "output_type": "stream",
       "stream": "stdout",
       "text": [
        "AZXLB0  "
       ]
      },
      {
       "output_type": "stream",
       "stream": "stdout",
       "text": [
        "HCYTCP  "
       ]
      },
      {
       "output_type": "stream",
       "stream": "stdout",
       "text": [
        "5PDN4S  "
       ]
      },
      {
       "output_type": "stream",
       "stream": "stdout",
       "text": [
        "9WVAUI  "
       ]
      },
      {
       "output_type": "stream",
       "stream": "stdout",
       "text": [
        "IJDPCW  "
       ]
      },
      {
       "output_type": "stream",
       "stream": "stdout",
       "text": [
        "YKUXZ6  "
       ]
      },
      {
       "output_type": "stream",
       "stream": "stdout",
       "text": [
        "T699T2  "
       ]
      },
      {
       "output_type": "stream",
       "stream": "stdout",
       "text": [
        "3HDPFG  "
       ]
      },
      {
       "output_type": "stream",
       "stream": "stdout",
       "text": [
        "0Y9E84  "
       ]
      },
      {
       "output_type": "stream",
       "stream": "stdout",
       "text": [
        "P42D01  "
       ]
      },
      {
       "output_type": "stream",
       "stream": "stdout",
       "text": [
        "SRGAP7  "
       ]
      },
      {
       "output_type": "stream",
       "stream": "stdout",
       "text": [
        "8LFL5E  "
       ]
      },
      {
       "output_type": "stream",
       "stream": "stdout",
       "text": [
        "FUVQJP  "
       ]
      },
      {
       "output_type": "stream",
       "stream": "stdout",
       "text": [
        "FFJDQ8  "
       ]
      },
      {
       "output_type": "stream",
       "stream": "stdout",
       "text": [
        "BZSCQY  "
       ]
      },
      {
       "output_type": "stream",
       "stream": "stdout",
       "text": [
        "YRFM7D  "
       ]
      },
      {
       "output_type": "stream",
       "stream": "stdout",
       "text": [
        "WQTXXP  "
       ]
      },
      {
       "output_type": "stream",
       "stream": "stdout",
       "text": [
        "N78G9O  "
       ]
      },
      {
       "output_type": "stream",
       "stream": "stdout",
       "text": [
        "KV1RZC  "
       ]
      },
      {
       "output_type": "stream",
       "stream": "stdout",
       "text": [
        "6ZAO8P  "
       ]
      },
      {
       "output_type": "stream",
       "stream": "stdout",
       "text": [
        "1CAHX5  "
       ]
      },
      {
       "output_type": "stream",
       "stream": "stdout",
       "text": [
        "U7UYD3  "
       ]
      },
      {
       "output_type": "stream",
       "stream": "stdout",
       "text": [
        "ZGDZ94  "
       ]
      },
      {
       "output_type": "stream",
       "stream": "stdout",
       "text": [
        "1KYI1O  "
       ]
      },
      {
       "output_type": "stream",
       "stream": "stdout",
       "text": [
        "0IJTYB  "
       ]
      },
      {
       "output_type": "stream",
       "stream": "stdout",
       "text": [
        "7MH68M  "
       ]
      },
      {
       "output_type": "stream",
       "stream": "stdout",
       "text": [
        "CMLYOQ  "
       ]
      },
      {
       "output_type": "stream",
       "stream": "stdout",
       "text": [
        "LVOMJG  "
       ]
      },
      {
       "output_type": "stream",
       "stream": "stdout",
       "text": [
        "8NRQBO  "
       ]
      },
      {
       "output_type": "stream",
       "stream": "stdout",
       "text": [
        "WFKC72  "
       ]
      },
      {
       "output_type": "stream",
       "stream": "stdout",
       "text": [
        "PYS8GA  "
       ]
      },
      {
       "output_type": "stream",
       "stream": "stdout",
       "text": [
        "WL3O9Z  "
       ]
      },
      {
       "output_type": "stream",
       "stream": "stdout",
       "text": [
        "0DLYOG  "
       ]
      },
      {
       "output_type": "stream",
       "stream": "stdout",
       "text": [
        "26O19D  "
       ]
      },
      {
       "output_type": "stream",
       "stream": "stdout",
       "text": [
        "V6Z3UY  "
       ]
      },
      {
       "output_type": "stream",
       "stream": "stdout",
       "text": [
        "MW3K3B  "
       ]
      },
      {
       "output_type": "stream",
       "stream": "stdout",
       "text": [
        "CPSDET  "
       ]
      },
      {
       "output_type": "stream",
       "stream": "stdout",
       "text": [
        "S8SRID  "
       ]
      },
      {
       "output_type": "stream",
       "stream": "stdout",
       "text": [
        "NT6MLP  "
       ]
      },
      {
       "output_type": "stream",
       "stream": "stdout",
       "text": [
        "TLI6BX  "
       ]
      },
      {
       "output_type": "stream",
       "stream": "stdout",
       "text": [
        "ST8RP3  "
       ]
      },
      {
       "output_type": "stream",
       "stream": "stdout",
       "text": [
        "PJCFDH  "
       ]
      },
      {
       "output_type": "stream",
       "stream": "stdout",
       "text": [
        "0FCAL8  "
       ]
      },
      {
       "output_type": "stream",
       "stream": "stdout",
       "text": [
        "2E7IC0  "
       ]
      },
      {
       "output_type": "stream",
       "stream": "stdout",
       "text": [
        "C2EQ15  "
       ]
      },
      {
       "output_type": "stream",
       "stream": "stdout",
       "text": [
        "SIVGHS  "
       ]
      },
      {
       "output_type": "stream",
       "stream": "stdout",
       "text": [
        "MW4PJG  "
       ]
      },
      {
       "output_type": "stream",
       "stream": "stdout",
       "text": [
        "ZIMM2E  "
       ]
      },
      {
       "output_type": "stream",
       "stream": "stdout",
       "text": [
        "QH1XZG  "
       ]
      },
      {
       "output_type": "stream",
       "stream": "stdout",
       "text": [
        "HCBWVE  "
       ]
      },
      {
       "output_type": "stream",
       "stream": "stdout",
       "text": [
        "HIRN8Q  "
       ]
      },
      {
       "output_type": "stream",
       "stream": "stdout",
       "text": [
        "855VGP  "
       ]
      },
      {
       "output_type": "stream",
       "stream": "stdout",
       "text": [
        "KR4D81  "
       ]
      },
      {
       "output_type": "stream",
       "stream": "stdout",
       "text": [
        "XIBB4S  "
       ]
      },
      {
       "output_type": "stream",
       "stream": "stdout",
       "text": [
        "5NQPNM  "
       ]
      },
      {
       "output_type": "stream",
       "stream": "stdout",
       "text": [
        "DNW9CV  "
       ]
      },
      {
       "output_type": "stream",
       "stream": "stdout",
       "text": [
        "HUZXMQ  "
       ]
      },
      {
       "output_type": "stream",
       "stream": "stdout",
       "text": [
        "I5W4FB  "
       ]
      },
      {
       "output_type": "stream",
       "stream": "stdout",
       "text": [
        "8HPVAS  "
       ]
      },
      {
       "output_type": "stream",
       "stream": "stdout",
       "text": [
        "1IOXJJ  "
       ]
      },
      {
       "output_type": "stream",
       "stream": "stdout",
       "text": [
        "ED2O2W  "
       ]
      },
      {
       "output_type": "stream",
       "stream": "stdout",
       "text": [
        "H3MOGG  "
       ]
      },
      {
       "output_type": "stream",
       "stream": "stdout",
       "text": [
        "L8YOY4  "
       ]
      },
      {
       "output_type": "stream",
       "stream": "stdout",
       "text": [
        "Y1KTQP  "
       ]
      },
      {
       "output_type": "stream",
       "stream": "stdout",
       "text": [
        "44PKWJ  "
       ]
      },
      {
       "output_type": "stream",
       "stream": "stdout",
       "text": [
        "EZSIRJ  "
       ]
      },
      {
       "output_type": "stream",
       "stream": "stdout",
       "text": [
        "F2OJWN  "
       ]
      },
      {
       "output_type": "stream",
       "stream": "stdout",
       "text": [
        "DUE4OC  "
       ]
      },
      {
       "output_type": "stream",
       "stream": "stdout",
       "text": [
        "WBJIXH  "
       ]
      },
      {
       "output_type": "stream",
       "stream": "stdout",
       "text": [
        "YGM230  "
       ]
      },
      {
       "output_type": "stream",
       "stream": "stdout",
       "text": [
        "SKHPK4  "
       ]
      },
      {
       "output_type": "stream",
       "stream": "stdout",
       "text": [
        "ERO719  "
       ]
      },
      {
       "output_type": "stream",
       "stream": "stdout",
       "text": [
        "EWAH3B  "
       ]
      },
      {
       "output_type": "stream",
       "stream": "stdout",
       "text": [
        "B9MJAN  "
       ]
      },
      {
       "output_type": "stream",
       "stream": "stdout",
       "text": [
        "5JRFFD  "
       ]
      },
      {
       "output_type": "stream",
       "stream": "stdout",
       "text": [
        "2WYK0P  "
       ]
      },
      {
       "output_type": "stream",
       "stream": "stdout",
       "text": [
        "37F4YL  "
       ]
      },
      {
       "output_type": "stream",
       "stream": "stdout",
       "text": [
        "FZ6GCA  "
       ]
      },
      {
       "output_type": "stream",
       "stream": "stdout",
       "text": [
        "0JJJIL  "
       ]
      },
      {
       "output_type": "stream",
       "stream": "stdout",
       "text": [
        "2XVYIO  "
       ]
      },
      {
       "output_type": "stream",
       "stream": "stdout",
       "text": [
        "5A50NX  "
       ]
      },
      {
       "output_type": "stream",
       "stream": "stdout",
       "text": [
        "X0KLFU  "
       ]
      },
      {
       "output_type": "stream",
       "stream": "stdout",
       "text": [
        "2Q8NDH  "
       ]
      },
      {
       "output_type": "stream",
       "stream": "stdout",
       "text": [
        "PIDOH9  "
       ]
      },
      {
       "output_type": "stream",
       "stream": "stdout",
       "text": [
        "1BX3BP  "
       ]
      },
      {
       "output_type": "stream",
       "stream": "stdout",
       "text": [
        "KX2B18  "
       ]
      },
      {
       "output_type": "stream",
       "stream": "stdout",
       "text": [
        "OBJDTM  "
       ]
      },
      {
       "output_type": "stream",
       "stream": "stdout",
       "text": [
        "YPLLEN  "
       ]
      },
      {
       "output_type": "stream",
       "stream": "stdout",
       "text": [
        "J7CWIS  "
       ]
      },
      {
       "output_type": "stream",
       "stream": "stdout",
       "text": [
        "Z1WRB5  "
       ]
      },
      {
       "output_type": "stream",
       "stream": "stdout",
       "text": [
        "SWH1E7  "
       ]
      },
      {
       "output_type": "stream",
       "stream": "stdout",
       "text": [
        "ABTUYK  "
       ]
      },
      {
       "output_type": "stream",
       "stream": "stdout",
       "text": [
        "ZF1D6Y  "
       ]
      },
      {
       "output_type": "stream",
       "stream": "stdout",
       "text": [
        "5R59Y7  "
       ]
      },
      {
       "output_type": "stream",
       "stream": "stdout",
       "text": [
        "3HBKLB  "
       ]
      },
      {
       "output_type": "stream",
       "stream": "stdout",
       "text": [
        "7N0YJ7  "
       ]
      },
      {
       "output_type": "stream",
       "stream": "stdout",
       "text": [
        "HDO93G  "
       ]
      },
      {
       "output_type": "stream",
       "stream": "stdout",
       "text": [
        "7TMZU6  "
       ]
      },
      {
       "output_type": "stream",
       "stream": "stdout",
       "text": [
        "540HKP  "
       ]
      },
      {
       "output_type": "stream",
       "stream": "stdout",
       "text": [
        "11EJJI  "
       ]
      },
      {
       "output_type": "stream",
       "stream": "stdout",
       "text": [
        "XLXBSL  "
       ]
      },
      {
       "output_type": "stream",
       "stream": "stdout",
       "text": [
        "1YN18Z  "
       ]
      },
      {
       "output_type": "stream",
       "stream": "stdout",
       "text": [
        "D4RXRZ  "
       ]
      },
      {
       "output_type": "stream",
       "stream": "stdout",
       "text": [
        "AKJSKF  "
       ]
      },
      {
       "output_type": "stream",
       "stream": "stdout",
       "text": [
        "KWFZCM  "
       ]
      },
      {
       "output_type": "stream",
       "stream": "stdout",
       "text": [
        "TVXR3O  "
       ]
      },
      {
       "output_type": "stream",
       "stream": "stdout",
       "text": [
        "Q2LP5G  "
       ]
      },
      {
       "output_type": "stream",
       "stream": "stdout",
       "text": [
        "PIRGK5  "
       ]
      },
      {
       "output_type": "stream",
       "stream": "stdout",
       "text": [
        "LMLLN8  "
       ]
      },
      {
       "output_type": "stream",
       "stream": "stdout",
       "text": [
        "FWH98M  "
       ]
      },
      {
       "output_type": "stream",
       "stream": "stdout",
       "text": [
        "DBP4P6  "
       ]
      },
      {
       "output_type": "stream",
       "stream": "stdout",
       "text": [
        "S09YBZ  "
       ]
      },
      {
       "output_type": "stream",
       "stream": "stdout",
       "text": [
        "QGO4JC  "
       ]
      },
      {
       "output_type": "stream",
       "stream": "stdout",
       "text": [
        "1MV80L  "
       ]
      },
      {
       "output_type": "stream",
       "stream": "stdout",
       "text": [
        "FYWEX9  "
       ]
      },
      {
       "output_type": "stream",
       "stream": "stdout",
       "text": [
        "UBCWF5  "
       ]
      },
      {
       "output_type": "stream",
       "stream": "stdout",
       "text": [
        "GHJOPL  "
       ]
      },
      {
       "output_type": "stream",
       "stream": "stdout",
       "text": [
        "HYEW9W  "
       ]
      },
      {
       "output_type": "stream",
       "stream": "stdout",
       "text": [
        "J5OMPV  "
       ]
      },
      {
       "output_type": "stream",
       "stream": "stdout",
       "text": [
        "GKD82X  "
       ]
      },
      {
       "output_type": "stream",
       "stream": "stdout",
       "text": [
        "I6THBZ  "
       ]
      },
      {
       "output_type": "stream",
       "stream": "stdout",
       "text": [
        "E9E44X  "
       ]
      },
      {
       "output_type": "stream",
       "stream": "stdout",
       "text": [
        "E1NY79  "
       ]
      },
      {
       "output_type": "stream",
       "stream": "stdout",
       "text": [
        "46SU88  "
       ]
      },
      {
       "output_type": "stream",
       "stream": "stdout",
       "text": [
        "BT935E  "
       ]
      },
      {
       "output_type": "stream",
       "stream": "stdout",
       "text": [
        "UA8FGC  "
       ]
      },
      {
       "output_type": "stream",
       "stream": "stdout",
       "text": [
        "7NRDF7  "
       ]
      },
      {
       "output_type": "stream",
       "stream": "stdout",
       "text": [
        "UJD3P5  "
       ]
      },
      {
       "output_type": "stream",
       "stream": "stdout",
       "text": [
        "03AMSI  "
       ]
      },
      {
       "output_type": "stream",
       "stream": "stdout",
       "text": [
        "0EURL9  "
       ]
      },
      {
       "output_type": "stream",
       "stream": "stdout",
       "text": [
        "UF3LS3  "
       ]
      },
      {
       "output_type": "stream",
       "stream": "stdout",
       "text": [
        "XGN2ML  "
       ]
      },
      {
       "output_type": "stream",
       "stream": "stdout",
       "text": [
        "5YJUL0  "
       ]
      },
      {
       "output_type": "stream",
       "stream": "stdout",
       "text": [
        "H3HEUH  "
       ]
      },
      {
       "output_type": "stream",
       "stream": "stdout",
       "text": [
        "35X2IT  "
       ]
      },
      {
       "output_type": "stream",
       "stream": "stdout",
       "text": [
        "YBKOB4  "
       ]
      },
      {
       "output_type": "stream",
       "stream": "stdout",
       "text": [
        "F7JD2L  "
       ]
      },
      {
       "output_type": "stream",
       "stream": "stdout",
       "text": [
        "06YDBR  "
       ]
      },
      {
       "output_type": "stream",
       "stream": "stdout",
       "text": [
        "JHOQAX  "
       ]
      },
      {
       "output_type": "stream",
       "stream": "stdout",
       "text": [
        "QKHEWB  "
       ]
      },
      {
       "output_type": "stream",
       "stream": "stdout",
       "text": [
        "HAUVGX  "
       ]
      },
      {
       "output_type": "stream",
       "stream": "stdout",
       "text": [
        "UA5X9M  "
       ]
      },
      {
       "output_type": "stream",
       "stream": "stdout",
       "text": [
        "8QOXKY  "
       ]
      },
      {
       "output_type": "stream",
       "stream": "stdout",
       "text": [
        "ISHKAX  "
       ]
      },
      {
       "output_type": "stream",
       "stream": "stdout",
       "text": [
        "O4L308  "
       ]
      },
      {
       "output_type": "stream",
       "stream": "stdout",
       "text": [
        "PGWZ5R  "
       ]
      },
      {
       "output_type": "stream",
       "stream": "stdout",
       "text": [
        "4NJTKT  "
       ]
      },
      {
       "output_type": "stream",
       "stream": "stdout",
       "text": [
        "87VJLR  "
       ]
      },
      {
       "output_type": "stream",
       "stream": "stdout",
       "text": [
        "UKVLEY  "
       ]
      },
      {
       "output_type": "stream",
       "stream": "stdout",
       "text": [
        "6DGR59  "
       ]
      },
      {
       "output_type": "stream",
       "stream": "stdout",
       "text": [
        "C0A1GN  "
       ]
      },
      {
       "output_type": "stream",
       "stream": "stdout",
       "text": [
        "J62Z9R  "
       ]
      },
      {
       "output_type": "stream",
       "stream": "stdout",
       "text": [
        "BZOK6R  "
       ]
      },
      {
       "output_type": "stream",
       "stream": "stdout",
       "text": [
        "X003KY  "
       ]
      },
      {
       "output_type": "stream",
       "stream": "stdout",
       "text": [
        "I1Y5EC  "
       ]
      },
      {
       "output_type": "stream",
       "stream": "stdout",
       "text": [
        "5CK6H2  "
       ]
      },
      {
       "output_type": "stream",
       "stream": "stdout",
       "text": [
        "L9236E  "
       ]
      },
      {
       "output_type": "stream",
       "stream": "stdout",
       "text": [
        "U8A1W2  "
       ]
      },
      {
       "output_type": "stream",
       "stream": "stdout",
       "text": [
        "4TRRXZ  "
       ]
      },
      {
       "output_type": "stream",
       "stream": "stdout",
       "text": [
        "8BK4R4  "
       ]
      },
      {
       "output_type": "stream",
       "stream": "stdout",
       "text": [
        "0T5DYX  "
       ]
      },
      {
       "output_type": "stream",
       "stream": "stdout",
       "text": [
        "1QFSGA  "
       ]
      },
      {
       "output_type": "stream",
       "stream": "stdout",
       "text": [
        "TLICFY  "
       ]
      },
      {
       "output_type": "stream",
       "stream": "stdout",
       "text": [
        "5E0M47  "
       ]
      },
      {
       "output_type": "stream",
       "stream": "stdout",
       "text": [
        "P8TFDP  "
       ]
      },
      {
       "output_type": "stream",
       "stream": "stdout",
       "text": [
        "QEIYZN  "
       ]
      },
      {
       "output_type": "stream",
       "stream": "stdout",
       "text": [
        "N86E73  "
       ]
      },
      {
       "output_type": "stream",
       "stream": "stdout",
       "text": [
        "5S9JFF  "
       ]
      },
      {
       "output_type": "stream",
       "stream": "stdout",
       "text": [
        "XNO7NL  "
       ]
      },
      {
       "output_type": "stream",
       "stream": "stdout",
       "text": [
        "WM1V12  "
       ]
      },
      {
       "output_type": "stream",
       "stream": "stdout",
       "text": [
        "D99JAH  "
       ]
      },
      {
       "output_type": "stream",
       "stream": "stdout",
       "text": [
        "UB3L9X  "
       ]
      },
      {
       "output_type": "stream",
       "stream": "stdout",
       "text": [
        "9DRAWG  "
       ]
      },
      {
       "output_type": "stream",
       "stream": "stdout",
       "text": [
        "K0116G  "
       ]
      },
      {
       "output_type": "stream",
       "stream": "stdout",
       "text": [
        "YY60FS  "
       ]
      },
      {
       "output_type": "stream",
       "stream": "stdout",
       "text": [
        "1E4ADQ  "
       ]
      },
      {
       "output_type": "stream",
       "stream": "stdout",
       "text": [
        "AAUNNQ  "
       ]
      },
      {
       "output_type": "stream",
       "stream": "stdout",
       "text": [
        "KJRAFN  "
       ]
      },
      {
       "output_type": "stream",
       "stream": "stdout",
       "text": [
        "A0MQ0Q  "
       ]
      },
      {
       "output_type": "stream",
       "stream": "stdout",
       "text": [
        "XNVCCY  "
       ]
      },
      {
       "output_type": "stream",
       "stream": "stdout",
       "text": [
        "OG16W5  "
       ]
      },
      {
       "output_type": "stream",
       "stream": "stdout",
       "text": [
        "KVXL5M  "
       ]
      },
      {
       "output_type": "stream",
       "stream": "stdout",
       "text": [
        "ANNPXL  "
       ]
      },
      {
       "output_type": "stream",
       "stream": "stdout",
       "text": [
        "31CAYN  "
       ]
      },
      {
       "output_type": "stream",
       "stream": "stdout",
       "text": [
        "V5KOBM  "
       ]
      },
      {
       "output_type": "stream",
       "stream": "stdout",
       "text": [
        "SLGEUU  "
       ]
      },
      {
       "output_type": "stream",
       "stream": "stdout",
       "text": [
        "HUJOUZ  "
       ]
      },
      {
       "output_type": "stream",
       "stream": "stdout",
       "text": [
        "RQ69TW  "
       ]
      },
      {
       "output_type": "stream",
       "stream": "stdout",
       "text": [
        "2FI6WZ  "
       ]
      },
      {
       "output_type": "stream",
       "stream": "stdout",
       "text": [
        "XUDLLH  "
       ]
      },
      {
       "output_type": "stream",
       "stream": "stdout",
       "text": [
        "5UBFPD  "
       ]
      },
      {
       "output_type": "stream",
       "stream": "stdout",
       "text": [
        "998XUO  "
       ]
      },
      {
       "output_type": "stream",
       "stream": "stdout",
       "text": [
        "D2IQAD  "
       ]
      },
      {
       "output_type": "stream",
       "stream": "stdout",
       "text": [
        "0B8QBY  "
       ]
      },
      {
       "output_type": "stream",
       "stream": "stdout",
       "text": [
        "3T8ZC0  "
       ]
      },
      {
       "output_type": "stream",
       "stream": "stdout",
       "text": [
        "HKTSSB  "
       ]
      },
      {
       "output_type": "stream",
       "stream": "stdout",
       "text": [
        "V9XQYM  "
       ]
      },
      {
       "output_type": "stream",
       "stream": "stdout",
       "text": [
        "WL57YF  "
       ]
      },
      {
       "output_type": "stream",
       "stream": "stdout",
       "text": [
        "VHUZZ1  "
       ]
      },
      {
       "output_type": "stream",
       "stream": "stdout",
       "text": [
        "D448D5  "
       ]
      },
      {
       "output_type": "stream",
       "stream": "stdout",
       "text": [
        "C1CQUR  "
       ]
      },
      {
       "output_type": "stream",
       "stream": "stdout",
       "text": [
        "JY3V97  "
       ]
      },
      {
       "output_type": "stream",
       "stream": "stdout",
       "text": [
        "AXNMS5  "
       ]
      },
      {
       "output_type": "stream",
       "stream": "stdout",
       "text": [
        "QX3YJ3  "
       ]
      },
      {
       "output_type": "stream",
       "stream": "stdout",
       "text": [
        "6VKT3U  "
       ]
      },
      {
       "output_type": "stream",
       "stream": "stdout",
       "text": [
        "5YNF02  "
       ]
      },
      {
       "output_type": "stream",
       "stream": "stdout",
       "text": [
        "ZCVH2X  "
       ]
      },
      {
       "output_type": "stream",
       "stream": "stdout",
       "text": [
        "7HVWL4  "
       ]
      },
      {
       "output_type": "stream",
       "stream": "stdout",
       "text": [
        "SQ0VA8  "
       ]
      },
      {
       "output_type": "stream",
       "stream": "stdout",
       "text": [
        "HNR30V  "
       ]
      },
      {
       "output_type": "stream",
       "stream": "stdout",
       "text": [
        "KYFF3B  "
       ]
      },
      {
       "output_type": "stream",
       "stream": "stdout",
       "text": [
        "SPA3L0  "
       ]
      },
      {
       "output_type": "stream",
       "stream": "stdout",
       "text": [
        "76JMKM  "
       ]
      },
      {
       "output_type": "stream",
       "stream": "stdout",
       "text": [
        "P19103  "
       ]
      },
      {
       "output_type": "stream",
       "stream": "stdout",
       "text": [
        "Q4WBRX  "
       ]
      },
      {
       "output_type": "stream",
       "stream": "stdout",
       "text": [
        "TPD3LK  "
       ]
      },
      {
       "output_type": "stream",
       "stream": "stdout",
       "text": [
        "46BCXM  "
       ]
      },
      {
       "output_type": "stream",
       "stream": "stdout",
       "text": [
        "H1TCS2  "
       ]
      },
      {
       "output_type": "stream",
       "stream": "stdout",
       "text": [
        "ZOISPD  "
       ]
      },
      {
       "output_type": "stream",
       "stream": "stdout",
       "text": [
        "RN0CCB  "
       ]
      },
      {
       "output_type": "stream",
       "stream": "stdout",
       "text": [
        "4H6JJR  "
       ]
      },
      {
       "output_type": "stream",
       "stream": "stdout",
       "text": [
        "E1XXB8  "
       ]
      },
      {
       "output_type": "stream",
       "stream": "stdout",
       "text": [
        "CBVQK0  "
       ]
      },
      {
       "output_type": "stream",
       "stream": "stdout",
       "text": [
        "OC37BZ  "
       ]
      },
      {
       "output_type": "stream",
       "stream": "stdout",
       "text": [
        "JLCP9Q  "
       ]
      },
      {
       "output_type": "stream",
       "stream": "stdout",
       "text": [
        "C0VUL6  "
       ]
      },
      {
       "output_type": "stream",
       "stream": "stdout",
       "text": [
        "58VMQB  "
       ]
      },
      {
       "output_type": "stream",
       "stream": "stdout",
       "text": [
        "URDQ5O  "
       ]
      },
      {
       "output_type": "stream",
       "stream": "stdout",
       "text": [
        "HYVXZ1  "
       ]
      },
      {
       "output_type": "stream",
       "stream": "stdout",
       "text": [
        "9UEBZV  "
       ]
      },
      {
       "output_type": "stream",
       "stream": "stdout",
       "text": [
        "4J4OL8  "
       ]
      },
      {
       "output_type": "stream",
       "stream": "stdout",
       "text": [
        "Z8VVFG  "
       ]
      },
      {
       "output_type": "stream",
       "stream": "stdout",
       "text": [
        "COEEF3  "
       ]
      },
      {
       "output_type": "stream",
       "stream": "stdout",
       "text": [
        "E8A4J8  "
       ]
      },
      {
       "output_type": "stream",
       "stream": "stdout",
       "text": [
        "GY0XCT  "
       ]
      },
      {
       "output_type": "stream",
       "stream": "stdout",
       "text": [
        "OOA3ZR  "
       ]
      },
      {
       "output_type": "stream",
       "stream": "stdout",
       "text": [
        "RDOVWB  "
       ]
      },
      {
       "output_type": "stream",
       "stream": "stdout",
       "text": [
        "V5DYSH  "
       ]
      },
      {
       "output_type": "stream",
       "stream": "stdout",
       "text": [
        "OUZFTZ  "
       ]
      },
      {
       "output_type": "stream",
       "stream": "stdout",
       "text": [
        "RCCP03  "
       ]
      },
      {
       "output_type": "stream",
       "stream": "stdout",
       "text": [
        "82LG03  "
       ]
      },
      {
       "output_type": "stream",
       "stream": "stdout",
       "text": [
        "J17NHX  "
       ]
      },
      {
       "output_type": "stream",
       "stream": "stdout",
       "text": [
        "483C70  "
       ]
      },
      {
       "output_type": "stream",
       "stream": "stdout",
       "text": [
        "GP4BUB  "
       ]
      },
      {
       "output_type": "stream",
       "stream": "stdout",
       "text": [
        "57J40H  "
       ]
      },
      {
       "output_type": "stream",
       "stream": "stdout",
       "text": [
        "Q9MXYP  "
       ]
      },
      {
       "output_type": "stream",
       "stream": "stdout",
       "text": [
        "MSADUB  "
       ]
      },
      {
       "output_type": "stream",
       "stream": "stdout",
       "text": [
        "6GGL4D  "
       ]
      },
      {
       "output_type": "stream",
       "stream": "stdout",
       "text": [
        "RHMC90  "
       ]
      },
      {
       "output_type": "stream",
       "stream": "stdout",
       "text": [
        "K7JPV6  "
       ]
      },
      {
       "output_type": "stream",
       "stream": "stdout",
       "text": [
        "F8U6CT  "
       ]
      },
      {
       "output_type": "stream",
       "stream": "stdout",
       "text": [
        "2J97FA  "
       ]
      },
      {
       "output_type": "stream",
       "stream": "stdout",
       "text": [
        "MW1RDS  "
       ]
      },
      {
       "output_type": "stream",
       "stream": "stdout",
       "text": [
        "CGNG38  "
       ]
      },
      {
       "output_type": "stream",
       "stream": "stdout",
       "text": [
        "G40O6B  "
       ]
      },
      {
       "output_type": "stream",
       "stream": "stdout",
       "text": [
        "6R1RXH  "
       ]
      },
      {
       "output_type": "stream",
       "stream": "stdout",
       "text": [
        "56WV46  "
       ]
      },
      {
       "output_type": "stream",
       "stream": "stdout",
       "text": [
        "TJP9D5  "
       ]
      },
      {
       "output_type": "stream",
       "stream": "stdout",
       "text": [
        "EDJ1KC  "
       ]
      },
      {
       "output_type": "stream",
       "stream": "stdout",
       "text": [
        "JPDUJB  "
       ]
      },
      {
       "output_type": "stream",
       "stream": "stdout",
       "text": [
        "S4OJLO  "
       ]
      },
      {
       "output_type": "stream",
       "stream": "stdout",
       "text": [
        "HGDR50  "
       ]
      },
      {
       "output_type": "stream",
       "stream": "stdout",
       "text": [
        "8U402S  "
       ]
      },
      {
       "output_type": "stream",
       "stream": "stdout",
       "text": [
        "9KU0H3  "
       ]
      },
      {
       "output_type": "stream",
       "stream": "stdout",
       "text": [
        "Y9X56H  "
       ]
      },
      {
       "output_type": "stream",
       "stream": "stdout",
       "text": [
        "387A9M  "
       ]
      },
      {
       "output_type": "stream",
       "stream": "stdout",
       "text": [
        "QFM9J3  "
       ]
      },
      {
       "output_type": "stream",
       "stream": "stdout",
       "text": [
        "WDFC0Y  "
       ]
      },
      {
       "output_type": "stream",
       "stream": "stdout",
       "text": [
        "4WR9O9  "
       ]
      },
      {
       "output_type": "stream",
       "stream": "stdout",
       "text": [
        "UZXONY  "
       ]
      },
      {
       "output_type": "stream",
       "stream": "stdout",
       "text": [
        "OAE679  "
       ]
      },
      {
       "output_type": "stream",
       "stream": "stdout",
       "text": [
        "T92T7T  "
       ]
      },
      {
       "output_type": "stream",
       "stream": "stdout",
       "text": [
        "R2LSY9  "
       ]
      },
      {
       "output_type": "stream",
       "stream": "stdout",
       "text": [
        "GOKUKB  "
       ]
      },
      {
       "output_type": "stream",
       "stream": "stdout",
       "text": [
        "L4F072  "
       ]
      },
      {
       "output_type": "stream",
       "stream": "stdout",
       "text": [
        "ABY1I6  "
       ]
      },
      {
       "output_type": "stream",
       "stream": "stdout",
       "text": [
        "CZTP6M  "
       ]
      },
      {
       "output_type": "stream",
       "stream": "stdout",
       "text": [
        "9XYLO6  "
       ]
      },
      {
       "output_type": "stream",
       "stream": "stdout",
       "text": [
        "SMKZHE  "
       ]
      },
      {
       "output_type": "stream",
       "stream": "stdout",
       "text": [
        "MHBMBK  "
       ]
      },
      {
       "output_type": "stream",
       "stream": "stdout",
       "text": [
        "EZG8O2  "
       ]
      },
      {
       "output_type": "stream",
       "stream": "stdout",
       "text": [
        "MZFLCH  "
       ]
      },
      {
       "output_type": "stream",
       "stream": "stdout",
       "text": [
        "UMVVPO  "
       ]
      },
      {
       "output_type": "stream",
       "stream": "stdout",
       "text": [
        "310AA1  "
       ]
      },
      {
       "output_type": "stream",
       "stream": "stdout",
       "text": [
        "XIYGGS  "
       ]
      },
      {
       "output_type": "stream",
       "stream": "stdout",
       "text": [
        "16DJRO  "
       ]
      },
      {
       "output_type": "stream",
       "stream": "stdout",
       "text": [
        "R6H1YK  "
       ]
      },
      {
       "output_type": "stream",
       "stream": "stdout",
       "text": [
        "GPVZQ7  "
       ]
      },
      {
       "output_type": "stream",
       "stream": "stdout",
       "text": [
        "QFM9XC  "
       ]
      },
      {
       "output_type": "stream",
       "stream": "stdout",
       "text": [
        "QYYDFO  "
       ]
      },
      {
       "output_type": "stream",
       "stream": "stdout",
       "text": [
        "EW5WVD  "
       ]
      },
      {
       "output_type": "stream",
       "stream": "stdout",
       "text": [
        "3LSGHZ  "
       ]
      },
      {
       "output_type": "stream",
       "stream": "stdout",
       "text": [
        "XW0QIP  "
       ]
      },
      {
       "output_type": "stream",
       "stream": "stdout",
       "text": [
        "FTX0TV  "
       ]
      },
      {
       "output_type": "stream",
       "stream": "stdout",
       "text": [
        "DGAQU4  "
       ]
      },
      {
       "output_type": "stream",
       "stream": "stdout",
       "text": [
        "RIPSA1  "
       ]
      },
      {
       "output_type": "stream",
       "stream": "stdout",
       "text": [
        "PK0JPU  "
       ]
      },
      {
       "output_type": "stream",
       "stream": "stdout",
       "text": [
        "5OOR0U  "
       ]
      },
      {
       "output_type": "stream",
       "stream": "stdout",
       "text": [
        "38QOT5  "
       ]
      },
      {
       "output_type": "stream",
       "stream": "stdout",
       "text": [
        "CTI6BA  "
       ]
      },
      {
       "output_type": "stream",
       "stream": "stdout",
       "text": [
        "FYTJWW  "
       ]
      },
      {
       "output_type": "stream",
       "stream": "stdout",
       "text": [
        "T5RJTJ  "
       ]
      },
      {
       "output_type": "stream",
       "stream": "stdout",
       "text": [
        "JZZN5K  "
       ]
      },
      {
       "output_type": "stream",
       "stream": "stdout",
       "text": [
        "2AZV6Z  "
       ]
      },
      {
       "output_type": "stream",
       "stream": "stdout",
       "text": [
        "URSMKW  "
       ]
      },
      {
       "output_type": "stream",
       "stream": "stdout",
       "text": [
        "8EUDNJ  "
       ]
      },
      {
       "output_type": "stream",
       "stream": "stdout",
       "text": [
        "AHDIW2  "
       ]
      },
      {
       "output_type": "stream",
       "stream": "stdout",
       "text": [
        "PYYI23  "
       ]
      },
      {
       "output_type": "stream",
       "stream": "stdout",
       "text": [
        "GY2SR6  "
       ]
      },
      {
       "output_type": "stream",
       "stream": "stdout",
       "text": [
        "NU0ARO  "
       ]
      },
      {
       "output_type": "stream",
       "stream": "stdout",
       "text": [
        "6QG12M  "
       ]
      },
      {
       "output_type": "stream",
       "stream": "stdout",
       "text": [
        "NCVRJ3  "
       ]
      },
      {
       "output_type": "stream",
       "stream": "stdout",
       "text": [
        "YSY73T  "
       ]
      },
      {
       "output_type": "stream",
       "stream": "stdout",
       "text": [
        "HFD76X  "
       ]
      },
      {
       "output_type": "stream",
       "stream": "stdout",
       "text": [
        "CQ3R94  "
       ]
      },
      {
       "output_type": "stream",
       "stream": "stdout",
       "text": [
        "XQSU93  "
       ]
      },
      {
       "output_type": "stream",
       "stream": "stdout",
       "text": [
        "L1KF0H  "
       ]
      },
      {
       "output_type": "stream",
       "stream": "stdout",
       "text": [
        "CZKIVG  "
       ]
      },
      {
       "output_type": "stream",
       "stream": "stdout",
       "text": [
        "VIZV8S  "
       ]
      },
      {
       "output_type": "stream",
       "stream": "stdout",
       "text": [
        "Q5I58T  "
       ]
      },
      {
       "output_type": "stream",
       "stream": "stdout",
       "text": [
        "O6HAJN  "
       ]
      },
      {
       "output_type": "stream",
       "stream": "stdout",
       "text": [
        "T8L1EG  "
       ]
      },
      {
       "output_type": "stream",
       "stream": "stdout",
       "text": [
        "U3CJNX  "
       ]
      },
      {
       "output_type": "stream",
       "stream": "stdout",
       "text": [
        "PS7UGI  "
       ]
      },
      {
       "output_type": "stream",
       "stream": "stdout",
       "text": [
        "SK4IE4  "
       ]
      },
      {
       "output_type": "stream",
       "stream": "stdout",
       "text": [
        "CGL3SS  "
       ]
      },
      {
       "output_type": "stream",
       "stream": "stdout",
       "text": [
        "421FUW  "
       ]
      },
      {
       "output_type": "stream",
       "stream": "stdout",
       "text": [
        "SD1ZPI  "
       ]
      },
      {
       "output_type": "stream",
       "stream": "stdout",
       "text": [
        "OEO1O7  "
       ]
      },
      {
       "output_type": "stream",
       "stream": "stdout",
       "text": [
        "KLC40J  "
       ]
      },
      {
       "output_type": "stream",
       "stream": "stdout",
       "text": [
        "7CMU00  "
       ]
      },
      {
       "output_type": "stream",
       "stream": "stdout",
       "text": [
        "A60YCR  "
       ]
      },
      {
       "output_type": "stream",
       "stream": "stdout",
       "text": [
        "HOY0KD  "
       ]
      },
      {
       "output_type": "stream",
       "stream": "stdout",
       "text": [
        "98JDAT  "
       ]
      },
      {
       "output_type": "stream",
       "stream": "stdout",
       "text": [
        "9XRCPP  "
       ]
      },
      {
       "output_type": "stream",
       "stream": "stdout",
       "text": [
        "UHO0MY  "
       ]
      },
      {
       "output_type": "stream",
       "stream": "stdout",
       "text": [
        "KZHU5Q  "
       ]
      },
      {
       "output_type": "stream",
       "stream": "stdout",
       "text": [
        "QL0NHR  "
       ]
      },
      {
       "output_type": "stream",
       "stream": "stdout",
       "text": [
        "HMLZZZ  "
       ]
      },
      {
       "output_type": "stream",
       "stream": "stdout",
       "text": [
        "LU2D0X  "
       ]
      },
      {
       "output_type": "stream",
       "stream": "stdout",
       "text": [
        "G2GHUX  "
       ]
      },
      {
       "output_type": "stream",
       "stream": "stdout",
       "text": [
        "R3NH1L  "
       ]
      },
      {
       "output_type": "stream",
       "stream": "stdout",
       "text": [
        "PDS6GS  "
       ]
      },
      {
       "output_type": "stream",
       "stream": "stdout",
       "text": [
        "KPCHGM  "
       ]
      },
      {
       "output_type": "stream",
       "stream": "stdout",
       "text": [
        "KLZG82  "
       ]
      },
      {
       "output_type": "stream",
       "stream": "stdout",
       "text": [
        "57WJWD  "
       ]
      },
      {
       "output_type": "stream",
       "stream": "stdout",
       "text": [
        "GL1GMW  "
       ]
      },
      {
       "output_type": "stream",
       "stream": "stdout",
       "text": [
        "DLRC5E  "
       ]
      },
      {
       "output_type": "stream",
       "stream": "stdout",
       "text": [
        "30J6SB  "
       ]
      },
      {
       "output_type": "stream",
       "stream": "stdout",
       "text": [
        "CX0C6R  "
       ]
      },
      {
       "output_type": "stream",
       "stream": "stdout",
       "text": [
        "MXV0X5  "
       ]
      },
      {
       "output_type": "stream",
       "stream": "stdout",
       "text": [
        "P5RJ42  "
       ]
      },
      {
       "output_type": "stream",
       "stream": "stdout",
       "text": [
        "4HDTOF  "
       ]
      },
      {
       "output_type": "stream",
       "stream": "stdout",
       "text": [
        "O9BRDI  "
       ]
      },
      {
       "output_type": "stream",
       "stream": "stdout",
       "text": [
        "2L6DM0  "
       ]
      },
      {
       "output_type": "stream",
       "stream": "stdout",
       "text": [
        "JPWX6G  "
       ]
      },
      {
       "output_type": "stream",
       "stream": "stdout",
       "text": [
        "YDEGJQ  "
       ]
      },
      {
       "output_type": "stream",
       "stream": "stdout",
       "text": [
        "JF0YXH  "
       ]
      },
      {
       "output_type": "stream",
       "stream": "stdout",
       "text": [
        "BP86FR  "
       ]
      },
      {
       "output_type": "stream",
       "stream": "stdout",
       "text": [
        "4HWUV0  "
       ]
      },
      {
       "output_type": "stream",
       "stream": "stdout",
       "text": [
        "QUQUTL  "
       ]
      },
      {
       "output_type": "stream",
       "stream": "stdout",
       "text": [
        "OMA55N  "
       ]
      },
      {
       "output_type": "stream",
       "stream": "stdout",
       "text": [
        "N6RPHP  "
       ]
      },
      {
       "output_type": "stream",
       "stream": "stdout",
       "text": [
        "P04ZAN  "
       ]
      },
      {
       "output_type": "stream",
       "stream": "stdout",
       "text": [
        "IQT139  "
       ]
      },
      {
       "output_type": "stream",
       "stream": "stdout",
       "text": [
        "M7S00E  "
       ]
      },
      {
       "output_type": "stream",
       "stream": "stdout",
       "text": [
        "A6TJO8  "
       ]
      },
      {
       "output_type": "stream",
       "stream": "stdout",
       "text": [
        "O7OOVG  "
       ]
      },
      {
       "output_type": "stream",
       "stream": "stdout",
       "text": [
        "BAY8G4  "
       ]
      },
      {
       "output_type": "stream",
       "stream": "stdout",
       "text": [
        "H32IRN  "
       ]
      },
      {
       "output_type": "stream",
       "stream": "stdout",
       "text": [
        "UAM75G  "
       ]
      },
      {
       "output_type": "stream",
       "stream": "stdout",
       "text": [
        "FWAFM1  "
       ]
      },
      {
       "output_type": "stream",
       "stream": "stdout",
       "text": [
        "U1C5NT  "
       ]
      },
      {
       "output_type": "stream",
       "stream": "stdout",
       "text": [
        "J44W5S  "
       ]
      },
      {
       "output_type": "stream",
       "stream": "stdout",
       "text": [
        "43WK4S  "
       ]
      },
      {
       "output_type": "stream",
       "stream": "stdout",
       "text": [
        "4734AQ  "
       ]
      },
      {
       "output_type": "stream",
       "stream": "stdout",
       "text": [
        "ZY2U8A  "
       ]
      },
      {
       "output_type": "stream",
       "stream": "stdout",
       "text": [
        "LPRAEZ  "
       ]
      },
      {
       "output_type": "stream",
       "stream": "stdout",
       "text": [
        "JNS313  "
       ]
      },
      {
       "output_type": "stream",
       "stream": "stdout",
       "text": [
        "MEEAWT  "
       ]
      },
      {
       "output_type": "stream",
       "stream": "stdout",
       "text": [
        "5TYUBM  "
       ]
      },
      {
       "output_type": "stream",
       "stream": "stdout",
       "text": [
        "V8TX9L  "
       ]
      },
      {
       "output_type": "stream",
       "stream": "stdout",
       "text": [
        "Q1M3E7  "
       ]
      },
      {
       "output_type": "stream",
       "stream": "stdout",
       "text": [
        "7CVW2Q  "
       ]
      },
      {
       "output_type": "stream",
       "stream": "stdout",
       "text": [
        "VAHDAO  "
       ]
      },
      {
       "output_type": "stream",
       "stream": "stdout",
       "text": [
        "O50CYC  "
       ]
      },
      {
       "output_type": "stream",
       "stream": "stdout",
       "text": [
        "1C7RWW  "
       ]
      },
      {
       "output_type": "stream",
       "stream": "stdout",
       "text": [
        "5PEZPU  "
       ]
      },
      {
       "output_type": "stream",
       "stream": "stdout",
       "text": [
        "271D3U  "
       ]
      },
      {
       "output_type": "stream",
       "stream": "stdout",
       "text": [
        "41YD65  "
       ]
      },
      {
       "output_type": "stream",
       "stream": "stdout",
       "text": [
        "8XLLJQ  "
       ]
      },
      {
       "output_type": "stream",
       "stream": "stdout",
       "text": [
        "XHUH5A  "
       ]
      },
      {
       "output_type": "stream",
       "stream": "stdout",
       "text": [
        "44WAOF  "
       ]
      },
      {
       "output_type": "stream",
       "stream": "stdout",
       "text": [
        "QQBOHP  "
       ]
      },
      {
       "output_type": "stream",
       "stream": "stdout",
       "text": [
        "BGRTKE  "
       ]
      },
      {
       "output_type": "stream",
       "stream": "stdout",
       "text": [
        "T8IXZF  "
       ]
      },
      {
       "output_type": "stream",
       "stream": "stdout",
       "text": [
        "AIJ12N  "
       ]
      },
      {
       "output_type": "stream",
       "stream": "stdout",
       "text": [
        "3CDFKV  "
       ]
      },
      {
       "output_type": "stream",
       "stream": "stdout",
       "text": [
        "TVKRF6  "
       ]
      },
      {
       "output_type": "stream",
       "stream": "stdout",
       "text": [
        "STELNJ  "
       ]
      },
      {
       "output_type": "stream",
       "stream": "stdout",
       "text": [
        "RFAOD8  "
       ]
      },
      {
       "output_type": "stream",
       "stream": "stdout",
       "text": [
        "KGTEE3  "
       ]
      },
      {
       "output_type": "stream",
       "stream": "stdout",
       "text": [
        "48VMWS  "
       ]
      },
      {
       "output_type": "stream",
       "stream": "stdout",
       "text": [
        "LDZAX3  "
       ]
      },
      {
       "output_type": "stream",
       "stream": "stdout",
       "text": [
        "XGTXKE  "
       ]
      },
      {
       "output_type": "stream",
       "stream": "stdout",
       "text": [
        "CKDBIW  "
       ]
      },
      {
       "output_type": "stream",
       "stream": "stdout",
       "text": [
        "F4M06Z  "
       ]
      },
      {
       "output_type": "stream",
       "stream": "stdout",
       "text": [
        "3RP6HV  "
       ]
      },
      {
       "output_type": "stream",
       "stream": "stdout",
       "text": [
        "X8I9KB  "
       ]
      },
      {
       "output_type": "stream",
       "stream": "stdout",
       "text": [
        "457YRZ  "
       ]
      },
      {
       "output_type": "stream",
       "stream": "stdout",
       "text": [
        "24K2IU  "
       ]
      },
      {
       "output_type": "stream",
       "stream": "stdout",
       "text": [
        "N4KBWJ  "
       ]
      },
      {
       "output_type": "stream",
       "stream": "stdout",
       "text": [
        "GI9A17  "
       ]
      },
      {
       "output_type": "stream",
       "stream": "stdout",
       "text": [
        "QA0PSN  "
       ]
      },
      {
       "output_type": "stream",
       "stream": "stdout",
       "text": [
        "6FCGAX  "
       ]
      },
      {
       "output_type": "stream",
       "stream": "stdout",
       "text": [
        "VAR7NP  "
       ]
      },
      {
       "output_type": "stream",
       "stream": "stdout",
       "text": [
        "3DKJUD  "
       ]
      },
      {
       "output_type": "stream",
       "stream": "stdout",
       "text": [
        "671D8Q  "
       ]
      },
      {
       "output_type": "stream",
       "stream": "stdout",
       "text": [
        "O9CE10  "
       ]
      },
      {
       "output_type": "stream",
       "stream": "stdout",
       "text": [
        "RRQ61X  "
       ]
      },
      {
       "output_type": "stream",
       "stream": "stdout",
       "text": [
        "85WJTV  "
       ]
      },
      {
       "output_type": "stream",
       "stream": "stdout",
       "text": [
        "AJ6I80  "
       ]
      },
      {
       "output_type": "stream",
       "stream": "stdout",
       "text": [
        "UK7VVQ  "
       ]
      },
      {
       "output_type": "stream",
       "stream": "stdout",
       "text": [
        "0Z6VQA  "
       ]
      },
      {
       "output_type": "stream",
       "stream": "stdout",
       "text": [
        "N6B8NY  "
       ]
      },
      {
       "output_type": "stream",
       "stream": "stdout",
       "text": [
        "MJ61HQ  "
       ]
      },
      {
       "output_type": "stream",
       "stream": "stdout",
       "text": [
        "GLTBBW  "
       ]
      },
      {
       "output_type": "stream",
       "stream": "stdout",
       "text": [
        "HKF38K  "
       ]
      },
      {
       "output_type": "stream",
       "stream": "stdout",
       "text": [
        "9G2VMU  "
       ]
      },
      {
       "output_type": "stream",
       "stream": "stdout",
       "text": [
        "282ZQ9  "
       ]
      },
      {
       "output_type": "stream",
       "stream": "stdout",
       "text": [
        "ZEZV88  "
       ]
      },
      {
       "output_type": "stream",
       "stream": "stdout",
       "text": [
        "FYRZ3Y  "
       ]
      },
      {
       "output_type": "stream",
       "stream": "stdout",
       "text": [
        "AEVUY0  "
       ]
      },
      {
       "output_type": "stream",
       "stream": "stdout",
       "text": [
        "8MF743  "
       ]
      },
      {
       "output_type": "stream",
       "stream": "stdout",
       "text": [
        "K0A8G7  "
       ]
      },
      {
       "output_type": "stream",
       "stream": "stdout",
       "text": [
        "J30ZMJ  "
       ]
      },
      {
       "output_type": "stream",
       "stream": "stdout",
       "text": [
        "78RPAK  "
       ]
      },
      {
       "output_type": "stream",
       "stream": "stdout",
       "text": [
        "GMFABT  "
       ]
      },
      {
       "output_type": "stream",
       "stream": "stdout",
       "text": [
        "MARI3T  "
       ]
      },
      {
       "output_type": "stream",
       "stream": "stdout",
       "text": [
        "6ZDNC2  "
       ]
      },
      {
       "output_type": "stream",
       "stream": "stdout",
       "text": [
        "X0Z8XM  "
       ]
      },
      {
       "output_type": "stream",
       "stream": "stdout",
       "text": [
        "T7L1NV  "
       ]
      },
      {
       "output_type": "stream",
       "stream": "stdout",
       "text": [
        "7JDPK2  "
       ]
      },
      {
       "output_type": "stream",
       "stream": "stdout",
       "text": [
        "GFD2NX  "
       ]
      },
      {
       "output_type": "stream",
       "stream": "stdout",
       "text": [
        "37ETW2  "
       ]
      },
      {
       "output_type": "stream",
       "stream": "stdout",
       "text": [
        "6VD0AT  "
       ]
      },
      {
       "output_type": "stream",
       "stream": "stdout",
       "text": [
        "1QZJ9F  "
       ]
      },
      {
       "output_type": "stream",
       "stream": "stdout",
       "text": [
        "6PN139  "
       ]
      },
      {
       "output_type": "stream",
       "stream": "stdout",
       "text": [
        "NWNEGW  "
       ]
      },
      {
       "output_type": "stream",
       "stream": "stdout",
       "text": [
        "7CKT0K  "
       ]
      },
      {
       "output_type": "stream",
       "stream": "stdout",
       "text": [
        "QEA6XX  "
       ]
      },
      {
       "output_type": "stream",
       "stream": "stdout",
       "text": [
        "8V96NX  "
       ]
      },
      {
       "output_type": "stream",
       "stream": "stdout",
       "text": [
        "OF2SMI  "
       ]
      },
      {
       "output_type": "stream",
       "stream": "stdout",
       "text": [
        "4D5XHR  "
       ]
      },
      {
       "output_type": "stream",
       "stream": "stdout",
       "text": [
        "W387GA  "
       ]
      },
      {
       "output_type": "stream",
       "stream": "stdout",
       "text": [
        "LV761W  "
       ]
      },
      {
       "output_type": "stream",
       "stream": "stdout",
       "text": [
        "3M4UKY  "
       ]
      },
      {
       "output_type": "stream",
       "stream": "stdout",
       "text": [
        "CYHIMO  "
       ]
      },
      {
       "output_type": "stream",
       "stream": "stdout",
       "text": [
        "HMEO0B  "
       ]
      },
      {
       "output_type": "stream",
       "stream": "stdout",
       "text": [
        "LQQ2HZ  "
       ]
      },
      {
       "output_type": "stream",
       "stream": "stdout",
       "text": [
        "ZQ568T  "
       ]
      },
      {
       "output_type": "stream",
       "stream": "stdout",
       "text": [
        "F8ASE6  "
       ]
      },
      {
       "output_type": "stream",
       "stream": "stdout",
       "text": [
        "4CO29X  "
       ]
      },
      {
       "output_type": "stream",
       "stream": "stdout",
       "text": [
        "YO77QK  "
       ]
      },
      {
       "output_type": "stream",
       "stream": "stdout",
       "text": [
        "J7K42S  "
       ]
      },
      {
       "output_type": "stream",
       "stream": "stdout",
       "text": [
        "1YEYQ6  "
       ]
      },
      {
       "output_type": "stream",
       "stream": "stdout",
       "text": [
        "X8M6GO  "
       ]
      },
      {
       "output_type": "stream",
       "stream": "stdout",
       "text": [
        "5C2N5A  "
       ]
      },
      {
       "output_type": "stream",
       "stream": "stdout",
       "text": [
        "72P2UE  "
       ]
      },
      {
       "output_type": "stream",
       "stream": "stdout",
       "text": [
        "RHKD3F  "
       ]
      },
      {
       "output_type": "stream",
       "stream": "stdout",
       "text": [
        "9FWAJZ  "
       ]
      },
      {
       "output_type": "stream",
       "stream": "stdout",
       "text": [
        "POL750  "
       ]
      },
      {
       "output_type": "stream",
       "stream": "stdout",
       "text": [
        "6LGEMN  "
       ]
      },
      {
       "output_type": "stream",
       "stream": "stdout",
       "text": [
        "UNFCNK  "
       ]
      },
      {
       "output_type": "stream",
       "stream": "stdout",
       "text": [
        "M457F4  "
       ]
      },
      {
       "output_type": "stream",
       "stream": "stdout",
       "text": [
        "PUH7DV  "
       ]
      },
      {
       "output_type": "stream",
       "stream": "stdout",
       "text": [
        "78OF3Q  "
       ]
      },
      {
       "output_type": "stream",
       "stream": "stdout",
       "text": [
        "D5REWT  "
       ]
      },
      {
       "output_type": "stream",
       "stream": "stdout",
       "text": [
        "A8DU9Y  "
       ]
      },
      {
       "output_type": "stream",
       "stream": "stdout",
       "text": [
        "VAY8CK  "
       ]
      },
      {
       "output_type": "stream",
       "stream": "stdout",
       "text": [
        "VQ60DZ  "
       ]
      },
      {
       "output_type": "stream",
       "stream": "stdout",
       "text": [
        "9H2OY0  "
       ]
      },
      {
       "output_type": "stream",
       "stream": "stdout",
       "text": [
        "HQAFIN  "
       ]
      },
      {
       "output_type": "stream",
       "stream": "stdout",
       "text": [
        "RU1MXC  "
       ]
      },
      {
       "output_type": "stream",
       "stream": "stdout",
       "text": [
        "0VSXRN  "
       ]
      },
      {
       "output_type": "stream",
       "stream": "stdout",
       "text": [
        "57NDOR  "
       ]
      },
      {
       "output_type": "stream",
       "stream": "stdout",
       "text": [
        "ABR97Z  "
       ]
      },
      {
       "output_type": "stream",
       "stream": "stdout",
       "text": [
        "GXSRD4  "
       ]
      },
      {
       "output_type": "stream",
       "stream": "stdout",
       "text": [
        "ZJ1UF7  "
       ]
      },
      {
       "output_type": "stream",
       "stream": "stdout",
       "text": [
        "QKIWAF  "
       ]
      },
      {
       "output_type": "stream",
       "stream": "stdout",
       "text": [
        "4GYH18  "
       ]
      },
      {
       "output_type": "stream",
       "stream": "stdout",
       "text": [
        "GS20HV  "
       ]
      },
      {
       "output_type": "stream",
       "stream": "stdout",
       "text": [
        "FAXX85  "
       ]
      },
      {
       "output_type": "stream",
       "stream": "stdout",
       "text": [
        "RFCPGP  "
       ]
      },
      {
       "output_type": "stream",
       "stream": "stdout",
       "text": [
        "Y28E6R  "
       ]
      },
      {
       "output_type": "stream",
       "stream": "stdout",
       "text": [
        "I4V5BV  "
       ]
      },
      {
       "output_type": "stream",
       "stream": "stdout",
       "text": [
        "VS0EZC  "
       ]
      },
      {
       "output_type": "stream",
       "stream": "stdout",
       "text": [
        "WQQ8X2  "
       ]
      },
      {
       "output_type": "stream",
       "stream": "stdout",
       "text": [
        "VTP45N  "
       ]
      },
      {
       "output_type": "stream",
       "stream": "stdout",
       "text": [
        "95W94D  "
       ]
      },
      {
       "output_type": "stream",
       "stream": "stdout",
       "text": [
        "1UL9LV  "
       ]
      },
      {
       "output_type": "stream",
       "stream": "stdout",
       "text": [
        "6HNTZ4  "
       ]
      },
      {
       "output_type": "stream",
       "stream": "stdout",
       "text": [
        "3O5H9R  "
       ]
      },
      {
       "output_type": "stream",
       "stream": "stdout",
       "text": [
        "HLQJTF  "
       ]
      },
      {
       "output_type": "stream",
       "stream": "stdout",
       "text": [
        "DQOGTG  "
       ]
      },
      {
       "output_type": "stream",
       "stream": "stdout",
       "text": [
        "K11RBB  "
       ]
      },
      {
       "output_type": "stream",
       "stream": "stdout",
       "text": [
        "KB3CO0  "
       ]
      },
      {
       "output_type": "stream",
       "stream": "stdout",
       "text": [
        "4J7TD2  "
       ]
      },
      {
       "output_type": "stream",
       "stream": "stdout",
       "text": [
        "3HIU8N  "
       ]
      },
      {
       "output_type": "stream",
       "stream": "stdout",
       "text": [
        "RA6517  "
       ]
      },
      {
       "output_type": "stream",
       "stream": "stdout",
       "text": [
        "15C5XU  "
       ]
      },
      {
       "output_type": "stream",
       "stream": "stdout",
       "text": [
        "2YJU9G  "
       ]
      },
      {
       "output_type": "stream",
       "stream": "stdout",
       "text": [
        "UD8N1D  "
       ]
      },
      {
       "output_type": "stream",
       "stream": "stdout",
       "text": [
        "JFIYBH  "
       ]
      },
      {
       "output_type": "stream",
       "stream": "stdout",
       "text": [
        "UNFA2M  "
       ]
      },
      {
       "output_type": "stream",
       "stream": "stdout",
       "text": [
        "XS38I0  "
       ]
      },
      {
       "output_type": "stream",
       "stream": "stdout",
       "text": [
        "LONEN5  "
       ]
      },
      {
       "output_type": "stream",
       "stream": "stdout",
       "text": [
        "WPGU3A  "
       ]
      },
      {
       "output_type": "stream",
       "stream": "stdout",
       "text": [
        "XXK1FC  "
       ]
      },
      {
       "output_type": "stream",
       "stream": "stdout",
       "text": [
        "E07SRS  "
       ]
      },
      {
       "output_type": "stream",
       "stream": "stdout",
       "text": [
        "R9FV94  "
       ]
      },
      {
       "output_type": "stream",
       "stream": "stdout",
       "text": [
        "UPB0Q8  "
       ]
      },
      {
       "output_type": "stream",
       "stream": "stdout",
       "text": [
        "1MQ3NL  "
       ]
      },
      {
       "output_type": "stream",
       "stream": "stdout",
       "text": [
        "P4YFVA  "
       ]
      },
      {
       "output_type": "stream",
       "stream": "stdout",
       "text": [
        "J0I29A  "
       ]
      },
      {
       "output_type": "stream",
       "stream": "stdout",
       "text": [
        "32T6ZK  "
       ]
      },
      {
       "output_type": "stream",
       "stream": "stdout",
       "text": [
        "9424OC  "
       ]
      },
      {
       "output_type": "stream",
       "stream": "stdout",
       "text": [
        "E2KKJ8  "
       ]
      },
      {
       "output_type": "stream",
       "stream": "stdout",
       "text": [
        "6H6JEI  "
       ]
      },
      {
       "output_type": "stream",
       "stream": "stdout",
       "text": [
        "M6YSA9  "
       ]
      },
      {
       "output_type": "stream",
       "stream": "stdout",
       "text": [
        "6GV7M7  "
       ]
      },
      {
       "output_type": "stream",
       "stream": "stdout",
       "text": [
        "DNL9IV  "
       ]
      },
      {
       "output_type": "stream",
       "stream": "stdout",
       "text": [
        "APEEA2  "
       ]
      },
      {
       "output_type": "stream",
       "stream": "stdout",
       "text": [
        "BRMLOE  "
       ]
      },
      {
       "output_type": "stream",
       "stream": "stdout",
       "text": [
        "IDWCCD  "
       ]
      },
      {
       "output_type": "stream",
       "stream": "stdout",
       "text": [
        "ZCWE4G  "
       ]
      },
      {
       "output_type": "stream",
       "stream": "stdout",
       "text": [
        "MZUM0G  "
       ]
      },
      {
       "output_type": "stream",
       "stream": "stdout",
       "text": [
        "K6L3E1  "
       ]
      },
      {
       "output_type": "stream",
       "stream": "stdout",
       "text": [
        "GG5QN6  "
       ]
      },
      {
       "output_type": "stream",
       "stream": "stdout",
       "text": [
        "BAJYQU  "
       ]
      },
      {
       "output_type": "stream",
       "stream": "stdout",
       "text": [
        "OYV6SY  "
       ]
      },
      {
       "output_type": "stream",
       "stream": "stdout",
       "text": [
        "LAPGW2  "
       ]
      },
      {
       "output_type": "stream",
       "stream": "stdout",
       "text": [
        "PN721N  "
       ]
      },
      {
       "output_type": "stream",
       "stream": "stdout",
       "text": [
        "5M2EVF  "
       ]
      },
      {
       "output_type": "stream",
       "stream": "stdout",
       "text": [
        "IWKSDP  "
       ]
      },
      {
       "output_type": "stream",
       "stream": "stdout",
       "text": [
        "32MOYT  "
       ]
      },
      {
       "output_type": "stream",
       "stream": "stdout",
       "text": [
        "7Z7UJE  "
       ]
      },
      {
       "output_type": "stream",
       "stream": "stdout",
       "text": [
        "6L925B  "
       ]
      },
      {
       "output_type": "stream",
       "stream": "stdout",
       "text": [
        "N4GI02  "
       ]
      },
      {
       "output_type": "stream",
       "stream": "stdout",
       "text": [
        "AAX99V  "
       ]
      },
      {
       "output_type": "stream",
       "stream": "stdout",
       "text": [
        "FTYIP9  "
       ]
      },
      {
       "output_type": "stream",
       "stream": "stdout",
       "text": [
        "PKSCVF  "
       ]
      },
      {
       "output_type": "stream",
       "stream": "stdout",
       "text": [
        "WWKJCR  "
       ]
      },
      {
       "output_type": "stream",
       "stream": "stdout",
       "text": [
        "UC9CH4  "
       ]
      },
      {
       "output_type": "stream",
       "stream": "stdout",
       "text": [
        "79KPO8  "
       ]
      },
      {
       "output_type": "stream",
       "stream": "stdout",
       "text": [
        "VRFWV7  "
       ]
      },
      {
       "output_type": "stream",
       "stream": "stdout",
       "text": [
        "SJP2Z0  "
       ]
      },
      {
       "output_type": "stream",
       "stream": "stdout",
       "text": [
        "7A9PII  "
       ]
      },
      {
       "output_type": "stream",
       "stream": "stdout",
       "text": [
        "PGQ3QF  "
       ]
      },
      {
       "output_type": "stream",
       "stream": "stdout",
       "text": [
        "P6MH6P  "
       ]
      },
      {
       "output_type": "stream",
       "stream": "stdout",
       "text": [
        "RYQ2LN  "
       ]
      },
      {
       "output_type": "stream",
       "stream": "stdout",
       "text": [
        "SATVRN  "
       ]
      },
      {
       "output_type": "stream",
       "stream": "stdout",
       "text": [
        "1JO672  "
       ]
      },
      {
       "output_type": "stream",
       "stream": "stdout",
       "text": [
        "SURPHD  "
       ]
      },
      {
       "output_type": "stream",
       "stream": "stdout",
       "text": [
        "H65BIY  "
       ]
      },
      {
       "output_type": "stream",
       "stream": "stdout",
       "text": [
        "9WYYWW  "
       ]
      },
      {
       "output_type": "stream",
       "stream": "stdout",
       "text": [
        "0KSFNY  "
       ]
      },
      {
       "output_type": "stream",
       "stream": "stdout",
       "text": [
        "BS3SS5  "
       ]
      },
      {
       "output_type": "stream",
       "stream": "stdout",
       "text": [
        "WZPC68  "
       ]
      },
      {
       "output_type": "stream",
       "stream": "stdout",
       "text": [
        "5APQEV  "
       ]
      },
      {
       "output_type": "stream",
       "stream": "stdout",
       "text": [
        "4ETFWE  "
       ]
      },
      {
       "output_type": "stream",
       "stream": "stdout",
       "text": [
        "59OWDV  "
       ]
      },
      {
       "output_type": "stream",
       "stream": "stdout",
       "text": [
        "5HGE55  "
       ]
      },
      {
       "output_type": "stream",
       "stream": "stdout",
       "text": [
        "1TVY0E  "
       ]
      },
      {
       "output_type": "stream",
       "stream": "stdout",
       "text": [
        "1L7BYR  "
       ]
      },
      {
       "output_type": "stream",
       "stream": "stdout",
       "text": [
        "IYHO8Q  "
       ]
      },
      {
       "output_type": "stream",
       "stream": "stdout",
       "text": [
        "JA0W6U  "
       ]
      },
      {
       "output_type": "stream",
       "stream": "stdout",
       "text": [
        "HK5XRB  "
       ]
      },
      {
       "output_type": "stream",
       "stream": "stdout",
       "text": [
        "LABEUD  "
       ]
      },
      {
       "output_type": "stream",
       "stream": "stdout",
       "text": [
        "Z6OSUK  "
       ]
      },
      {
       "output_type": "stream",
       "stream": "stdout",
       "text": [
        "LGQX2W  "
       ]
      },
      {
       "output_type": "stream",
       "stream": "stdout",
       "text": [
        "GWKE7K  "
       ]
      },
      {
       "output_type": "stream",
       "stream": "stdout",
       "text": [
        "7G6ESK  "
       ]
      },
      {
       "output_type": "stream",
       "stream": "stdout",
       "text": [
        "7OUCY5  "
       ]
      },
      {
       "output_type": "stream",
       "stream": "stdout",
       "text": [
        "VPKT9E  "
       ]
      },
      {
       "output_type": "stream",
       "stream": "stdout",
       "text": [
        "G2ADE5  "
       ]
      },
      {
       "output_type": "stream",
       "stream": "stdout",
       "text": [
        "1OJC9X  "
       ]
      },
      {
       "output_type": "stream",
       "stream": "stdout",
       "text": [
        "G9CVWM  "
       ]
      },
      {
       "output_type": "stream",
       "stream": "stdout",
       "text": [
        "FOI97S  "
       ]
      },
      {
       "output_type": "stream",
       "stream": "stdout",
       "text": [
        "52F1G1  "
       ]
      },
      {
       "output_type": "stream",
       "stream": "stdout",
       "text": [
        "58I178  "
       ]
      },
      {
       "output_type": "stream",
       "stream": "stdout",
       "text": [
        "7SAXG0  "
       ]
      },
      {
       "output_type": "stream",
       "stream": "stdout",
       "text": [
        "K2LD18  "
       ]
      },
      {
       "output_type": "stream",
       "stream": "stdout",
       "text": [
        "UI3NG5  "
       ]
      },
      {
       "output_type": "stream",
       "stream": "stdout",
       "text": [
        "3RWQTB  "
       ]
      },
      {
       "output_type": "stream",
       "stream": "stdout",
       "text": [
        "WZBUM6  "
       ]
      },
      {
       "output_type": "stream",
       "stream": "stdout",
       "text": [
        "SYZRQF  "
       ]
      },
      {
       "output_type": "stream",
       "stream": "stdout",
       "text": [
        "X87L2Q  "
       ]
      },
      {
       "output_type": "stream",
       "stream": "stdout",
       "text": [
        "WJ63I4  "
       ]
      },
      {
       "output_type": "stream",
       "stream": "stdout",
       "text": [
        "H6BEQR  "
       ]
      },
      {
       "output_type": "stream",
       "stream": "stdout",
       "text": [
        "Q5FHO2  "
       ]
      },
      {
       "output_type": "stream",
       "stream": "stdout",
       "text": [
        "LUKYIY  "
       ]
      },
      {
       "output_type": "stream",
       "stream": "stdout",
       "text": [
        "RH7XQX  "
       ]
      },
      {
       "output_type": "stream",
       "stream": "stdout",
       "text": [
        "ZEMCF0  "
       ]
      },
      {
       "output_type": "stream",
       "stream": "stdout",
       "text": [
        "TYA0K9  "
       ]
      },
      {
       "output_type": "stream",
       "stream": "stdout",
       "text": [
        "VUJNS1  "
       ]
      },
      {
       "output_type": "stream",
       "stream": "stdout",
       "text": [
        "WDWYD5  "
       ]
      },
      {
       "output_type": "stream",
       "stream": "stdout",
       "text": [
        "V38F22  "
       ]
      },
      {
       "output_type": "stream",
       "stream": "stdout",
       "text": [
        "P5ZA1L  "
       ]
      },
      {
       "output_type": "stream",
       "stream": "stdout",
       "text": [
        "EGIXGE  "
       ]
      },
      {
       "output_type": "stream",
       "stream": "stdout",
       "text": [
        "Z0V18H  "
       ]
      },
      {
       "output_type": "stream",
       "stream": "stdout",
       "text": [
        "PJQB3Z  "
       ]
      },
      {
       "output_type": "stream",
       "stream": "stdout",
       "text": [
        "7EM22G  "
       ]
      },
      {
       "output_type": "stream",
       "stream": "stdout",
       "text": [
        "3DSYC4  "
       ]
      },
      {
       "output_type": "stream",
       "stream": "stdout",
       "text": [
        "VVOQP5  "
       ]
      },
      {
       "output_type": "stream",
       "stream": "stdout",
       "text": [
        "K3WHRE  "
       ]
      },
      {
       "output_type": "stream",
       "stream": "stdout",
       "text": [
        "GP5YG4  "
       ]
      },
      {
       "output_type": "stream",
       "stream": "stdout",
       "text": [
        "JR24ZV  "
       ]
      },
      {
       "output_type": "stream",
       "stream": "stdout",
       "text": [
        "HBGXWE  "
       ]
      },
      {
       "output_type": "stream",
       "stream": "stdout",
       "text": [
        "RJZH8D  "
       ]
      },
      {
       "output_type": "stream",
       "stream": "stdout",
       "text": [
        "6ZXI1S  "
       ]
      },
      {
       "output_type": "stream",
       "stream": "stdout",
       "text": [
        "DC6VJ3  "
       ]
      },
      {
       "output_type": "stream",
       "stream": "stdout",
       "text": [
        "DWNJKF  "
       ]
      },
      {
       "output_type": "stream",
       "stream": "stdout",
       "text": [
        "UP8BGT  "
       ]
      },
      {
       "output_type": "stream",
       "stream": "stdout",
       "text": [
        "CM916B  "
       ]
      },
      {
       "output_type": "stream",
       "stream": "stdout",
       "text": [
        "6OKSTO  "
       ]
      },
      {
       "output_type": "stream",
       "stream": "stdout",
       "text": [
        "62AMVG  "
       ]
      },
      {
       "output_type": "stream",
       "stream": "stdout",
       "text": [
        "MU55EQ  "
       ]
      },
      {
       "output_type": "stream",
       "stream": "stdout",
       "text": [
        "TKKOM7  "
       ]
      },
      {
       "output_type": "stream",
       "stream": "stdout",
       "text": [
        "L6JOID  "
       ]
      },
      {
       "output_type": "stream",
       "stream": "stdout",
       "text": [
        "XWLUWQ  "
       ]
      },
      {
       "output_type": "stream",
       "stream": "stdout",
       "text": [
        "ZU21U2  "
       ]
      },
      {
       "output_type": "stream",
       "stream": "stdout",
       "text": [
        "GWYFYH  "
       ]
      },
      {
       "output_type": "stream",
       "stream": "stdout",
       "text": [
        "P14QZR  "
       ]
      },
      {
       "output_type": "stream",
       "stream": "stdout",
       "text": [
        "GSHL1A  "
       ]
      },
      {
       "output_type": "stream",
       "stream": "stdout",
       "text": [
        "29T247  "
       ]
      },
      {
       "output_type": "stream",
       "stream": "stdout",
       "text": [
        "UQ317B  "
       ]
      },
      {
       "output_type": "stream",
       "stream": "stdout",
       "text": [
        "MMT3NT  "
       ]
      },
      {
       "output_type": "stream",
       "stream": "stdout",
       "text": [
        "54S2I4  "
       ]
      },
      {
       "output_type": "stream",
       "stream": "stdout",
       "text": [
        "QJZ6RF  "
       ]
      },
      {
       "output_type": "stream",
       "stream": "stdout",
       "text": [
        "KKXXWR  "
       ]
      },
      {
       "output_type": "stream",
       "stream": "stdout",
       "text": [
        "2JM3GW  "
       ]
      },
      {
       "output_type": "stream",
       "stream": "stdout",
       "text": [
        "N9X8EA  "
       ]
      },
      {
       "output_type": "stream",
       "stream": "stdout",
       "text": [
        "I00949  "
       ]
      },
      {
       "output_type": "stream",
       "stream": "stdout",
       "text": [
        "T76CHZ  "
       ]
      },
      {
       "output_type": "stream",
       "stream": "stdout",
       "text": [
        "3UG5DQ  "
       ]
      },
      {
       "output_type": "stream",
       "stream": "stdout",
       "text": [
        "BMWS4I  "
       ]
      },
      {
       "output_type": "stream",
       "stream": "stdout",
       "text": [
        "6DIEN5  "
       ]
      },
      {
       "output_type": "stream",
       "stream": "stdout",
       "text": [
        "VVCOOB  "
       ]
      },
      {
       "output_type": "stream",
       "stream": "stdout",
       "text": [
        "ANOQG6  "
       ]
      },
      {
       "output_type": "stream",
       "stream": "stdout",
       "text": [
        "4WXB4T \n"
       ]
      }
     ],
     "prompt_number": 8
    },
    {
     "cell_type": "code",
     "collapsed": false,
     "input": [
      "correct_ms, total_ms = matching.folderMatch(directory, dt, matching.mirrorMatch, thresholds_nocluster, keypoint, descriptor)"
     ],
     "language": "python",
     "metadata": {},
     "outputs": [
      {
       "output_type": "stream",
       "stream": "stdout",
       "text": [
        "2Z1K6C  "
       ]
      },
      {
       "output_type": "stream",
       "stream": "stdout",
       "text": [
        "1G8ML7  "
       ]
      },
      {
       "output_type": "stream",
       "stream": "stdout",
       "text": [
        "N8ZL5S  "
       ]
      },
      {
       "output_type": "stream",
       "stream": "stdout",
       "text": [
        "80WQUR  "
       ]
      },
      {
       "output_type": "stream",
       "stream": "stdout",
       "text": [
        "FZ7Y7P  "
       ]
      },
      {
       "output_type": "stream",
       "stream": "stdout",
       "text": [
        "DQD1SV  "
       ]
      },
      {
       "output_type": "stream",
       "stream": "stdout",
       "text": [
        "3A4O9O  "
       ]
      },
      {
       "output_type": "stream",
       "stream": "stdout",
       "text": [
        "KWBC3Y  "
       ]
      },
      {
       "output_type": "stream",
       "stream": "stdout",
       "text": [
        "8H5ZWL  "
       ]
      },
      {
       "output_type": "stream",
       "stream": "stdout",
       "text": [
        "LTTDP3  "
       ]
      },
      {
       "output_type": "stream",
       "stream": "stdout",
       "text": [
        "LMX1E1  "
       ]
      },
      {
       "output_type": "stream",
       "stream": "stdout",
       "text": [
        "TISHXN  "
       ]
      },
      {
       "output_type": "stream",
       "stream": "stdout",
       "text": [
        "EM5ACH  "
       ]
      },
      {
       "output_type": "stream",
       "stream": "stdout",
       "text": [
        "9OIRPZ  "
       ]
      },
      {
       "output_type": "stream",
       "stream": "stdout",
       "text": [
        "4E2RRN  "
       ]
      },
      {
       "output_type": "stream",
       "stream": "stdout",
       "text": [
        "QMRBV3  "
       ]
      },
      {
       "output_type": "stream",
       "stream": "stdout",
       "text": [
        "PTY26L  "
       ]
      },
      {
       "output_type": "stream",
       "stream": "stdout",
       "text": [
        "O5KS4T  "
       ]
      },
      {
       "output_type": "stream",
       "stream": "stdout",
       "text": [
        "R0646X  "
       ]
      },
      {
       "output_type": "stream",
       "stream": "stdout",
       "text": [
        "40VXKM  "
       ]
      },
      {
       "output_type": "stream",
       "stream": "stdout",
       "text": [
        "TQWDXL  "
       ]
      },
      {
       "output_type": "stream",
       "stream": "stdout",
       "text": [
        "7E75DI  "
       ]
      },
      {
       "output_type": "stream",
       "stream": "stdout",
       "text": [
        "HTTBV4  "
       ]
      },
      {
       "output_type": "stream",
       "stream": "stdout",
       "text": [
        "M4SDMI  "
       ]
      },
      {
       "output_type": "stream",
       "stream": "stdout",
       "text": [
        "ZDLKYP  "
       ]
      },
      {
       "output_type": "stream",
       "stream": "stdout",
       "text": [
        "RSX4C0  "
       ]
      },
      {
       "output_type": "stream",
       "stream": "stdout",
       "text": [
        "2RWBM5  "
       ]
      },
      {
       "output_type": "stream",
       "stream": "stdout",
       "text": [
        "ABDX1R  "
       ]
      },
      {
       "output_type": "stream",
       "stream": "stdout",
       "text": [
        "5JXEBK  "
       ]
      },
      {
       "output_type": "stream",
       "stream": "stdout",
       "text": [
        "JTWQ0P  "
       ]
      },
      {
       "output_type": "stream",
       "stream": "stdout",
       "text": [
        "QMQO7I  "
       ]
      },
      {
       "output_type": "stream",
       "stream": "stdout",
       "text": [
        "XV9FBA  "
       ]
      },
      {
       "output_type": "stream",
       "stream": "stdout",
       "text": [
        "C59YBW  "
       ]
      },
      {
       "output_type": "stream",
       "stream": "stdout",
       "text": [
        "73I4OJ  "
       ]
      },
      {
       "output_type": "stream",
       "stream": "stdout",
       "text": [
        "4DRQ8W  "
       ]
      },
      {
       "output_type": "stream",
       "stream": "stdout",
       "text": [
        "30GRRM  "
       ]
      },
      {
       "output_type": "stream",
       "stream": "stdout",
       "text": [
        "GYU94F  "
       ]
      },
      {
       "output_type": "stream",
       "stream": "stdout",
       "text": [
        "RXSATM  "
       ]
      },
      {
       "output_type": "stream",
       "stream": "stdout",
       "text": [
        "ON8XNZ  "
       ]
      },
      {
       "output_type": "stream",
       "stream": "stdout",
       "text": [
        "UYO3FK  "
       ]
      },
      {
       "output_type": "stream",
       "stream": "stdout",
       "text": [
        "U8VD2L  "
       ]
      },
      {
       "output_type": "stream",
       "stream": "stdout",
       "text": [
        "Z4OJVA  "
       ]
      },
      {
       "output_type": "stream",
       "stream": "stdout",
       "text": [
        "DISHQG  "
       ]
      },
      {
       "output_type": "stream",
       "stream": "stdout",
       "text": [
        "GXIP8V  "
       ]
      },
      {
       "output_type": "stream",
       "stream": "stdout",
       "text": [
        "0LY95L  "
       ]
      },
      {
       "output_type": "stream",
       "stream": "stdout",
       "text": [
        "ZLI3NJ  "
       ]
      },
      {
       "output_type": "stream",
       "stream": "stdout",
       "text": [
        "506NNA  "
       ]
      },
      {
       "output_type": "stream",
       "stream": "stdout",
       "text": [
        "9GR9LR  "
       ]
      },
      {
       "output_type": "stream",
       "stream": "stdout",
       "text": [
        "HKC7GO  "
       ]
      },
      {
       "output_type": "stream",
       "stream": "stdout",
       "text": [
        "NR1A0E  "
       ]
      },
      {
       "output_type": "stream",
       "stream": "stdout",
       "text": [
        "C990P0  "
       ]
      },
      {
       "output_type": "stream",
       "stream": "stdout",
       "text": [
        "5MMNGA  "
       ]
      },
      {
       "output_type": "stream",
       "stream": "stdout",
       "text": [
        "IU0ZJX  "
       ]
      },
      {
       "output_type": "stream",
       "stream": "stdout",
       "text": [
        "DX4VR8  "
       ]
      },
      {
       "output_type": "stream",
       "stream": "stdout",
       "text": [
        "4VYIZG  "
       ]
      },
      {
       "output_type": "stream",
       "stream": "stdout",
       "text": [
        "2X3EKZ  "
       ]
      },
      {
       "output_type": "stream",
       "stream": "stdout",
       "text": [
        "1AG0DK  "
       ]
      },
      {
       "output_type": "stream",
       "stream": "stdout",
       "text": [
        "UYC6W4  "
       ]
      },
      {
       "output_type": "stream",
       "stream": "stdout",
       "text": [
        "O0MD4E  "
       ]
      },
      {
       "output_type": "stream",
       "stream": "stdout",
       "text": [
        "5EPS6U  "
       ]
      },
      {
       "output_type": "stream",
       "stream": "stdout",
       "text": [
        "OZJV1X  "
       ]
      },
      {
       "output_type": "stream",
       "stream": "stdout",
       "text": [
        "027XAS  "
       ]
      },
      {
       "output_type": "stream",
       "stream": "stdout",
       "text": [
        "6GQH93  "
       ]
      },
      {
       "output_type": "stream",
       "stream": "stdout",
       "text": [
        "9DUE6Z  "
       ]
      },
      {
       "output_type": "stream",
       "stream": "stdout",
       "text": [
        "Z2DT1R  "
       ]
      },
      {
       "output_type": "stream",
       "stream": "stdout",
       "text": [
        "RVN6CE  "
       ]
      },
      {
       "output_type": "stream",
       "stream": "stdout",
       "text": [
        "L4GZX3  "
       ]
      },
      {
       "output_type": "stream",
       "stream": "stdout",
       "text": [
        "X7RNOZ  "
       ]
      },
      {
       "output_type": "stream",
       "stream": "stdout",
       "text": [
        "Z5V44Y  "
       ]
      },
      {
       "output_type": "stream",
       "stream": "stdout",
       "text": [
        "ZJVEE5  "
       ]
      },
      {
       "output_type": "stream",
       "stream": "stdout",
       "text": [
        "562WAS  "
       ]
      },
      {
       "output_type": "stream",
       "stream": "stdout",
       "text": [
        "OYTGYJ  "
       ]
      },
      {
       "output_type": "stream",
       "stream": "stdout",
       "text": [
        "FVQKXZ  "
       ]
      },
      {
       "output_type": "stream",
       "stream": "stdout",
       "text": [
        "EWNOIH  "
       ]
      },
      {
       "output_type": "stream",
       "stream": "stdout",
       "text": [
        "K65L9N  "
       ]
      },
      {
       "output_type": "stream",
       "stream": "stdout",
       "text": [
        "UCR3N5  "
       ]
      },
      {
       "output_type": "stream",
       "stream": "stdout",
       "text": [
        "E66R8I  "
       ]
      },
      {
       "output_type": "stream",
       "stream": "stdout",
       "text": [
        "R6XGWO  "
       ]
      },
      {
       "output_type": "stream",
       "stream": "stdout",
       "text": [
        "V5PMW7  "
       ]
      },
      {
       "output_type": "stream",
       "stream": "stdout",
       "text": [
        "K9H1ZQ  "
       ]
      },
      {
       "output_type": "stream",
       "stream": "stdout",
       "text": [
        "GFVQHI  "
       ]
      },
      {
       "output_type": "stream",
       "stream": "stdout",
       "text": [
        "K3XUTE  "
       ]
      },
      {
       "output_type": "stream",
       "stream": "stdout",
       "text": [
        "WKXL4H  "
       ]
      },
      {
       "output_type": "stream",
       "stream": "stdout",
       "text": [
        "NR22QM  "
       ]
      },
      {
       "output_type": "stream",
       "stream": "stdout",
       "text": [
        "MFUEHH  "
       ]
      },
      {
       "output_type": "stream",
       "stream": "stdout",
       "text": [
        "V8FD6F  "
       ]
      },
      {
       "output_type": "stream",
       "stream": "stdout",
       "text": [
        "A7SRQB  "
       ]
      },
      {
       "output_type": "stream",
       "stream": "stdout",
       "text": [
        "497LZC  "
       ]
      },
      {
       "output_type": "stream",
       "stream": "stdout",
       "text": [
        "WRAOHB  "
       ]
      },
      {
       "output_type": "stream",
       "stream": "stdout",
       "text": [
        "Z1JVRT  "
       ]
      },
      {
       "output_type": "stream",
       "stream": "stdout",
       "text": [
        "S82EMR  "
       ]
      },
      {
       "output_type": "stream",
       "stream": "stdout",
       "text": [
        "390GUN  "
       ]
      },
      {
       "output_type": "stream",
       "stream": "stdout",
       "text": [
        "O9CB81  "
       ]
      },
      {
       "output_type": "stream",
       "stream": "stdout",
       "text": [
        "1LXD7T  "
       ]
      },
      {
       "output_type": "stream",
       "stream": "stdout",
       "text": [
        "AY34K3  "
       ]
      },
      {
       "output_type": "stream",
       "stream": "stdout",
       "text": [
        "TSWGO2  "
       ]
      },
      {
       "output_type": "stream",
       "stream": "stdout",
       "text": [
        "C2IRR5  "
       ]
      },
      {
       "output_type": "stream",
       "stream": "stdout",
       "text": [
        "FC25UA  "
       ]
      },
      {
       "output_type": "stream",
       "stream": "stdout",
       "text": [
        "3OB719  "
       ]
      },
      {
       "output_type": "stream",
       "stream": "stdout",
       "text": [
        "96TCQ8  "
       ]
      },
      {
       "output_type": "stream",
       "stream": "stdout",
       "text": [
        "CTT9O7  "
       ]
      },
      {
       "output_type": "stream",
       "stream": "stdout",
       "text": [
        "JWKZ6F  "
       ]
      },
      {
       "output_type": "stream",
       "stream": "stdout",
       "text": [
        "LHD8CQ  "
       ]
      },
      {
       "output_type": "stream",
       "stream": "stdout",
       "text": [
        "99IZJG  "
       ]
      },
      {
       "output_type": "stream",
       "stream": "stdout",
       "text": [
        "02U4EY  "
       ]
      },
      {
       "output_type": "stream",
       "stream": "stdout",
       "text": [
        "YJ0V36  "
       ]
      },
      {
       "output_type": "stream",
       "stream": "stdout",
       "text": [
        "GAUWCW  "
       ]
      },
      {
       "output_type": "stream",
       "stream": "stdout",
       "text": [
        "OG7M3L  "
       ]
      },
      {
       "output_type": "stream",
       "stream": "stdout",
       "text": [
        "GC2YIY  "
       ]
      },
      {
       "output_type": "stream",
       "stream": "stdout",
       "text": [
        "BOU48K  "
       ]
      },
      {
       "output_type": "stream",
       "stream": "stdout",
       "text": [
        "6M5CE1  "
       ]
      },
      {
       "output_type": "stream",
       "stream": "stdout",
       "text": [
        "8TKX44  "
       ]
      },
      {
       "output_type": "stream",
       "stream": "stdout",
       "text": [
        "2F9Y0I  "
       ]
      },
      {
       "output_type": "stream",
       "stream": "stdout",
       "text": [
        "NKKDD1  "
       ]
      },
      {
       "output_type": "stream",
       "stream": "stdout",
       "text": [
        "6BPO0Z  "
       ]
      },
      {
       "output_type": "stream",
       "stream": "stdout",
       "text": [
        "5QP2CW  "
       ]
      },
      {
       "output_type": "stream",
       "stream": "stdout",
       "text": [
        "VKRCBU  "
       ]
      },
      {
       "output_type": "stream",
       "stream": "stdout",
       "text": [
        "CR84HK  "
       ]
      },
      {
       "output_type": "stream",
       "stream": "stdout",
       "text": [
        "SU6QSW  "
       ]
      },
      {
       "output_type": "stream",
       "stream": "stdout",
       "text": [
        "3H7MQB  "
       ]
      },
      {
       "output_type": "stream",
       "stream": "stdout",
       "text": [
        "WG1F1C  "
       ]
      },
      {
       "output_type": "stream",
       "stream": "stdout",
       "text": [
        "C0KFH9  "
       ]
      },
      {
       "output_type": "stream",
       "stream": "stdout",
       "text": [
        "VBPEBC  "
       ]
      },
      {
       "output_type": "stream",
       "stream": "stdout",
       "text": [
        "JYM95A  "
       ]
      },
      {
       "output_type": "stream",
       "stream": "stdout",
       "text": [
        "6AMKG9  "
       ]
      },
      {
       "output_type": "stream",
       "stream": "stdout",
       "text": [
        "88ZM7V  "
       ]
      },
      {
       "output_type": "stream",
       "stream": "stdout",
       "text": [
        "5T4CVX  "
       ]
      },
      {
       "output_type": "stream",
       "stream": "stdout",
       "text": [
        "H945QK  "
       ]
      },
      {
       "output_type": "stream",
       "stream": "stdout",
       "text": [
        "R2TGES  "
       ]
      },
      {
       "output_type": "stream",
       "stream": "stdout",
       "text": [
        "NV83UC  "
       ]
      },
      {
       "output_type": "stream",
       "stream": "stdout",
       "text": [
        "N15IEM  "
       ]
      },
      {
       "output_type": "stream",
       "stream": "stdout",
       "text": [
        "4NIA8P  "
       ]
      },
      {
       "output_type": "stream",
       "stream": "stdout",
       "text": [
        "88VB3K  "
       ]
      },
      {
       "output_type": "stream",
       "stream": "stdout",
       "text": [
        "J1M6N1  "
       ]
      },
      {
       "output_type": "stream",
       "stream": "stdout",
       "text": [
        "Q85NVQ  "
       ]
      },
      {
       "output_type": "stream",
       "stream": "stdout",
       "text": [
        "KHD6GV  "
       ]
      },
      {
       "output_type": "stream",
       "stream": "stdout",
       "text": [
        "MH3YHA  "
       ]
      },
      {
       "output_type": "stream",
       "stream": "stdout",
       "text": [
        "UMZKOZ  "
       ]
      },
      {
       "output_type": "stream",
       "stream": "stdout",
       "text": [
        "Y6QT0C  "
       ]
      },
      {
       "output_type": "stream",
       "stream": "stdout",
       "text": [
        "P92G0U  "
       ]
      },
      {
       "output_type": "stream",
       "stream": "stdout",
       "text": [
        "ONOFO1  "
       ]
      },
      {
       "output_type": "stream",
       "stream": "stdout",
       "text": [
        "9OZS6Y  "
       ]
      },
      {
       "output_type": "stream",
       "stream": "stdout",
       "text": [
        "BCR72R  "
       ]
      },
      {
       "output_type": "stream",
       "stream": "stdout",
       "text": [
        "DYHAHI  "
       ]
      },
      {
       "output_type": "stream",
       "stream": "stdout",
       "text": [
        "ZCC15V  "
       ]
      },
      {
       "output_type": "stream",
       "stream": "stdout",
       "text": [
        "I9ZVM2  "
       ]
      },
      {
       "output_type": "stream",
       "stream": "stdout",
       "text": [
        "FTNBIY  "
       ]
      },
      {
       "output_type": "stream",
       "stream": "stdout",
       "text": [
        "RFJ848  "
       ]
      },
      {
       "output_type": "stream",
       "stream": "stdout",
       "text": [
        "TI5IGD  "
       ]
      },
      {
       "output_type": "stream",
       "stream": "stdout",
       "text": [
        "EWAA43  "
       ]
      },
      {
       "output_type": "stream",
       "stream": "stdout",
       "text": [
        "AG5R8C  "
       ]
      },
      {
       "output_type": "stream",
       "stream": "stdout",
       "text": [
        "6PQOII  "
       ]
      },
      {
       "output_type": "stream",
       "stream": "stdout",
       "text": [
        "C41ICC  "
       ]
      },
      {
       "output_type": "stream",
       "stream": "stdout",
       "text": [
        "B3511Y  "
       ]
      },
      {
       "output_type": "stream",
       "stream": "stdout",
       "text": [
        "SD2G0W  "
       ]
      },
      {
       "output_type": "stream",
       "stream": "stdout",
       "text": [
        "JSR3EY  "
       ]
      },
      {
       "output_type": "stream",
       "stream": "stdout",
       "text": [
        "Y48RCM  "
       ]
      },
      {
       "output_type": "stream",
       "stream": "stdout",
       "text": [
        "DUMA3G  "
       ]
      },
      {
       "output_type": "stream",
       "stream": "stdout",
       "text": [
        "OBNVV9  "
       ]
      },
      {
       "output_type": "stream",
       "stream": "stdout",
       "text": [
        "1MQKGP  "
       ]
      },
      {
       "output_type": "stream",
       "stream": "stdout",
       "text": [
        "XOG8XE  "
       ]
      },
      {
       "output_type": "stream",
       "stream": "stdout",
       "text": [
        "OC5OBJ  "
       ]
      },
      {
       "output_type": "stream",
       "stream": "stdout",
       "text": [
        "J8WBWW  "
       ]
      },
      {
       "output_type": "stream",
       "stream": "stdout",
       "text": [
        "K0M6ZE  "
       ]
      },
      {
       "output_type": "stream",
       "stream": "stdout",
       "text": [
        "MJEIE5  "
       ]
      },
      {
       "output_type": "stream",
       "stream": "stdout",
       "text": [
        "ED4A0S  "
       ]
      },
      {
       "output_type": "stream",
       "stream": "stdout",
       "text": [
        "IY3Y5O  "
       ]
      },
      {
       "output_type": "stream",
       "stream": "stdout",
       "text": [
        "M11916  "
       ]
      },
      {
       "output_type": "stream",
       "stream": "stdout",
       "text": [
        "4BN1ES  "
       ]
      },
      {
       "output_type": "stream",
       "stream": "stdout",
       "text": [
        "PDI14T  "
       ]
      },
      {
       "output_type": "stream",
       "stream": "stdout",
       "text": [
        "WT1AO2  "
       ]
      },
      {
       "output_type": "stream",
       "stream": "stdout",
       "text": [
        "FCEDNV  "
       ]
      },
      {
       "output_type": "stream",
       "stream": "stdout",
       "text": [
        "XCX2CD  "
       ]
      },
      {
       "output_type": "stream",
       "stream": "stdout",
       "text": [
        "Y0UL7L  "
       ]
      },
      {
       "output_type": "stream",
       "stream": "stdout",
       "text": [
        "9RLQ3P  "
       ]
      },
      {
       "output_type": "stream",
       "stream": "stdout",
       "text": [
        "3IDQXO  "
       ]
      },
      {
       "output_type": "stream",
       "stream": "stdout",
       "text": [
        "FWHY5W  "
       ]
      },
      {
       "output_type": "stream",
       "stream": "stdout",
       "text": [
        "RQOWCQ  "
       ]
      },
      {
       "output_type": "stream",
       "stream": "stdout",
       "text": [
        "HTZFJ8  "
       ]
      },
      {
       "output_type": "stream",
       "stream": "stdout",
       "text": [
        "PKFE3V  "
       ]
      },
      {
       "output_type": "stream",
       "stream": "stdout",
       "text": [
        "BB6WUJ  "
       ]
      },
      {
       "output_type": "stream",
       "stream": "stdout",
       "text": [
        "Q2VUI6  "
       ]
      },
      {
       "output_type": "stream",
       "stream": "stdout",
       "text": [
        "U85EUV  "
       ]
      },
      {
       "output_type": "stream",
       "stream": "stdout",
       "text": [
        "7THEDW  "
       ]
      },
      {
       "output_type": "stream",
       "stream": "stdout",
       "text": [
        "3GXGVG  "
       ]
      },
      {
       "output_type": "stream",
       "stream": "stdout",
       "text": [
        "BTCSFU  "
       ]
      },
      {
       "output_type": "stream",
       "stream": "stdout",
       "text": [
        "WGI5OO  "
       ]
      },
      {
       "output_type": "stream",
       "stream": "stdout",
       "text": [
        "GGRDSR  "
       ]
      },
      {
       "output_type": "stream",
       "stream": "stdout",
       "text": [
        "4HS2P7  "
       ]
      },
      {
       "output_type": "stream",
       "stream": "stdout",
       "text": [
        "DYY6BX  "
       ]
      },
      {
       "output_type": "stream",
       "stream": "stdout",
       "text": [
        "CT6JD6  "
       ]
      },
      {
       "output_type": "stream",
       "stream": "stdout",
       "text": [
        "74SBU7  "
       ]
      },
      {
       "output_type": "stream",
       "stream": "stdout",
       "text": [
        "O15TRA  "
       ]
      },
      {
       "output_type": "stream",
       "stream": "stdout",
       "text": [
        "QFDDX8  "
       ]
      },
      {
       "output_type": "stream",
       "stream": "stdout",
       "text": [
        "BBVWGK  "
       ]
      },
      {
       "output_type": "stream",
       "stream": "stdout",
       "text": [
        "XJ9KKK  "
       ]
      },
      {
       "output_type": "stream",
       "stream": "stdout",
       "text": [
        "DU42D0  "
       ]
      },
      {
       "output_type": "stream",
       "stream": "stdout",
       "text": [
        "VD8QRW  "
       ]
      },
      {
       "output_type": "stream",
       "stream": "stdout",
       "text": [
        "AXBJ6A  "
       ]
      },
      {
       "output_type": "stream",
       "stream": "stdout",
       "text": [
        "EW9Z3B  "
       ]
      },
      {
       "output_type": "stream",
       "stream": "stdout",
       "text": [
        "ILYYLP  "
       ]
      },
      {
       "output_type": "stream",
       "stream": "stdout",
       "text": [
        "02N338  "
       ]
      },
      {
       "output_type": "stream",
       "stream": "stdout",
       "text": [
        "GHEC7B  "
       ]
      },
      {
       "output_type": "stream",
       "stream": "stdout",
       "text": [
        "ZCEHP5  "
       ]
      },
      {
       "output_type": "stream",
       "stream": "stdout",
       "text": [
        "FAQYNX  "
       ]
      },
      {
       "output_type": "stream",
       "stream": "stdout",
       "text": [
        "EJGC2Z  "
       ]
      },
      {
       "output_type": "stream",
       "stream": "stdout",
       "text": [
        "OMIVKH  "
       ]
      },
      {
       "output_type": "stream",
       "stream": "stdout",
       "text": [
        "1S3O4K  "
       ]
      },
      {
       "output_type": "stream",
       "stream": "stdout",
       "text": [
        "MM7OGI  "
       ]
      },
      {
       "output_type": "stream",
       "stream": "stdout",
       "text": [
        "2KCN8N  "
       ]
      },
      {
       "output_type": "stream",
       "stream": "stdout",
       "text": [
        "Q098UC  "
       ]
      },
      {
       "output_type": "stream",
       "stream": "stdout",
       "text": [
        "542PL1  "
       ]
      },
      {
       "output_type": "stream",
       "stream": "stdout",
       "text": [
        "90QSSN  "
       ]
      },
      {
       "output_type": "stream",
       "stream": "stdout",
       "text": [
        "9U7142  "
       ]
      },
      {
       "output_type": "stream",
       "stream": "stdout",
       "text": [
        "685PWY  "
       ]
      },
      {
       "output_type": "stream",
       "stream": "stdout",
       "text": [
        "M0CTCU  "
       ]
      },
      {
       "output_type": "stream",
       "stream": "stdout",
       "text": [
        "CZCLEF  "
       ]
      },
      {
       "output_type": "stream",
       "stream": "stdout",
       "text": [
        "7JNC7P  "
       ]
      },
      {
       "output_type": "stream",
       "stream": "stdout",
       "text": [
        "WA7Q6U  "
       ]
      },
      {
       "output_type": "stream",
       "stream": "stdout",
       "text": [
        "Q4PETF  "
       ]
      },
      {
       "output_type": "stream",
       "stream": "stdout",
       "text": [
        "Z3TKIJ  "
       ]
      },
      {
       "output_type": "stream",
       "stream": "stdout",
       "text": [
        "4UBI8S  "
       ]
      },
      {
       "output_type": "stream",
       "stream": "stdout",
       "text": [
        "8SHHD1  "
       ]
      },
      {
       "output_type": "stream",
       "stream": "stdout",
       "text": [
        "IGZ4IN  "
       ]
      },
      {
       "output_type": "stream",
       "stream": "stdout",
       "text": [
        "Q5NG72  "
       ]
      },
      {
       "output_type": "stream",
       "stream": "stdout",
       "text": [
        "DVSDM0  "
       ]
      },
      {
       "output_type": "stream",
       "stream": "stdout",
       "text": [
        "TDYH87  "
       ]
      },
      {
       "output_type": "stream",
       "stream": "stdout",
       "text": [
        "FB3NJV  "
       ]
      },
      {
       "output_type": "stream",
       "stream": "stdout",
       "text": [
        "WQJPMT  "
       ]
      },
      {
       "output_type": "stream",
       "stream": "stdout",
       "text": [
        "VW85AV  "
       ]
      },
      {
       "output_type": "stream",
       "stream": "stdout",
       "text": [
        "9AXAHP  "
       ]
      },
      {
       "output_type": "stream",
       "stream": "stdout",
       "text": [
        "RVAJ7N  "
       ]
      },
      {
       "output_type": "stream",
       "stream": "stdout",
       "text": [
        "NT19D9  "
       ]
      },
      {
       "output_type": "stream",
       "stream": "stdout",
       "text": [
        "3WTEAD  "
       ]
      },
      {
       "output_type": "stream",
       "stream": "stdout",
       "text": [
        "QCYTF4  "
       ]
      },
      {
       "output_type": "stream",
       "stream": "stdout",
       "text": [
        "ZMZFBZ  "
       ]
      },
      {
       "output_type": "stream",
       "stream": "stdout",
       "text": [
        "6BFZI1  "
       ]
      },
      {
       "output_type": "stream",
       "stream": "stdout",
       "text": [
        "RQ0PLL  "
       ]
      },
      {
       "output_type": "stream",
       "stream": "stdout",
       "text": [
        "NIWQAO  "
       ]
      },
      {
       "output_type": "stream",
       "stream": "stdout",
       "text": [
        "UR58E8  "
       ]
      },
      {
       "output_type": "stream",
       "stream": "stdout",
       "text": [
        "0VDSK6  "
       ]
      },
      {
       "output_type": "stream",
       "stream": "stdout",
       "text": [
        "91X3OE  "
       ]
      },
      {
       "output_type": "stream",
       "stream": "stdout",
       "text": [
        "7RHZUB  "
       ]
      },
      {
       "output_type": "stream",
       "stream": "stdout",
       "text": [
        "EATAYM  "
       ]
      },
      {
       "output_type": "stream",
       "stream": "stdout",
       "text": [
        "J5U1TJ  "
       ]
      },
      {
       "output_type": "stream",
       "stream": "stdout",
       "text": [
        "WCDJ2D  "
       ]
      },
      {
       "output_type": "stream",
       "stream": "stdout",
       "text": [
        "SY3CJP  "
       ]
      },
      {
       "output_type": "stream",
       "stream": "stdout",
       "text": [
        "6UD57H  "
       ]
      },
      {
       "output_type": "stream",
       "stream": "stdout",
       "text": [
        "IHYDF1  "
       ]
      },
      {
       "output_type": "stream",
       "stream": "stdout",
       "text": [
        "AZXLB0  "
       ]
      },
      {
       "output_type": "stream",
       "stream": "stdout",
       "text": [
        "HCYTCP  "
       ]
      },
      {
       "output_type": "stream",
       "stream": "stdout",
       "text": [
        "5PDN4S  "
       ]
      },
      {
       "output_type": "stream",
       "stream": "stdout",
       "text": [
        "9WVAUI  "
       ]
      },
      {
       "output_type": "stream",
       "stream": "stdout",
       "text": [
        "IJDPCW  "
       ]
      },
      {
       "output_type": "stream",
       "stream": "stdout",
       "text": [
        "YKUXZ6  "
       ]
      },
      {
       "output_type": "stream",
       "stream": "stdout",
       "text": [
        "T699T2  "
       ]
      },
      {
       "output_type": "stream",
       "stream": "stdout",
       "text": [
        "3HDPFG  "
       ]
      },
      {
       "output_type": "stream",
       "stream": "stdout",
       "text": [
        "0Y9E84  "
       ]
      },
      {
       "output_type": "stream",
       "stream": "stdout",
       "text": [
        "P42D01  "
       ]
      },
      {
       "output_type": "stream",
       "stream": "stdout",
       "text": [
        "SRGAP7  "
       ]
      },
      {
       "output_type": "stream",
       "stream": "stdout",
       "text": [
        "8LFL5E  "
       ]
      },
      {
       "output_type": "stream",
       "stream": "stdout",
       "text": [
        "FUVQJP  "
       ]
      },
      {
       "output_type": "stream",
       "stream": "stdout",
       "text": [
        "FFJDQ8  "
       ]
      },
      {
       "output_type": "stream",
       "stream": "stdout",
       "text": [
        "BZSCQY  "
       ]
      },
      {
       "output_type": "stream",
       "stream": "stdout",
       "text": [
        "YRFM7D  "
       ]
      },
      {
       "output_type": "stream",
       "stream": "stdout",
       "text": [
        "WQTXXP  "
       ]
      },
      {
       "output_type": "stream",
       "stream": "stdout",
       "text": [
        "N78G9O  "
       ]
      },
      {
       "output_type": "stream",
       "stream": "stdout",
       "text": [
        "KV1RZC  "
       ]
      },
      {
       "output_type": "stream",
       "stream": "stdout",
       "text": [
        "6ZAO8P  "
       ]
      },
      {
       "output_type": "stream",
       "stream": "stdout",
       "text": [
        "1CAHX5  "
       ]
      },
      {
       "output_type": "stream",
       "stream": "stdout",
       "text": [
        "U7UYD3  "
       ]
      },
      {
       "output_type": "stream",
       "stream": "stdout",
       "text": [
        "ZGDZ94  "
       ]
      },
      {
       "output_type": "stream",
       "stream": "stdout",
       "text": [
        "1KYI1O  "
       ]
      },
      {
       "output_type": "stream",
       "stream": "stdout",
       "text": [
        "0IJTYB  "
       ]
      },
      {
       "output_type": "stream",
       "stream": "stdout",
       "text": [
        "7MH68M  "
       ]
      },
      {
       "output_type": "stream",
       "stream": "stdout",
       "text": [
        "CMLYOQ  "
       ]
      },
      {
       "output_type": "stream",
       "stream": "stdout",
       "text": [
        "LVOMJG  "
       ]
      },
      {
       "output_type": "stream",
       "stream": "stdout",
       "text": [
        "8NRQBO  "
       ]
      },
      {
       "output_type": "stream",
       "stream": "stdout",
       "text": [
        "WFKC72  "
       ]
      },
      {
       "output_type": "stream",
       "stream": "stdout",
       "text": [
        "PYS8GA  "
       ]
      },
      {
       "output_type": "stream",
       "stream": "stdout",
       "text": [
        "WL3O9Z  "
       ]
      },
      {
       "output_type": "stream",
       "stream": "stdout",
       "text": [
        "0DLYOG  "
       ]
      },
      {
       "output_type": "stream",
       "stream": "stdout",
       "text": [
        "26O19D  "
       ]
      },
      {
       "output_type": "stream",
       "stream": "stdout",
       "text": [
        "V6Z3UY  "
       ]
      },
      {
       "output_type": "stream",
       "stream": "stdout",
       "text": [
        "MW3K3B  "
       ]
      },
      {
       "output_type": "stream",
       "stream": "stdout",
       "text": [
        "CPSDET  "
       ]
      },
      {
       "output_type": "stream",
       "stream": "stdout",
       "text": [
        "S8SRID  "
       ]
      },
      {
       "output_type": "stream",
       "stream": "stdout",
       "text": [
        "NT6MLP  "
       ]
      },
      {
       "output_type": "stream",
       "stream": "stdout",
       "text": [
        "TLI6BX  "
       ]
      },
      {
       "output_type": "stream",
       "stream": "stdout",
       "text": [
        "ST8RP3  "
       ]
      },
      {
       "output_type": "stream",
       "stream": "stdout",
       "text": [
        "PJCFDH  "
       ]
      },
      {
       "output_type": "stream",
       "stream": "stdout",
       "text": [
        "0FCAL8  "
       ]
      },
      {
       "output_type": "stream",
       "stream": "stdout",
       "text": [
        "2E7IC0  "
       ]
      },
      {
       "output_type": "stream",
       "stream": "stdout",
       "text": [
        "C2EQ15  "
       ]
      },
      {
       "output_type": "stream",
       "stream": "stdout",
       "text": [
        "SIVGHS  "
       ]
      },
      {
       "output_type": "stream",
       "stream": "stdout",
       "text": [
        "MW4PJG  "
       ]
      },
      {
       "output_type": "stream",
       "stream": "stdout",
       "text": [
        "ZIMM2E  "
       ]
      },
      {
       "output_type": "stream",
       "stream": "stdout",
       "text": [
        "QH1XZG  "
       ]
      },
      {
       "output_type": "stream",
       "stream": "stdout",
       "text": [
        "HCBWVE  "
       ]
      },
      {
       "output_type": "stream",
       "stream": "stdout",
       "text": [
        "HIRN8Q  "
       ]
      },
      {
       "output_type": "stream",
       "stream": "stdout",
       "text": [
        "855VGP  "
       ]
      },
      {
       "output_type": "stream",
       "stream": "stdout",
       "text": [
        "KR4D81  "
       ]
      },
      {
       "output_type": "stream",
       "stream": "stdout",
       "text": [
        "XIBB4S  "
       ]
      },
      {
       "output_type": "stream",
       "stream": "stdout",
       "text": [
        "5NQPNM  "
       ]
      },
      {
       "output_type": "stream",
       "stream": "stdout",
       "text": [
        "DNW9CV  "
       ]
      },
      {
       "output_type": "stream",
       "stream": "stdout",
       "text": [
        "HUZXMQ  "
       ]
      },
      {
       "output_type": "stream",
       "stream": "stdout",
       "text": [
        "I5W4FB  "
       ]
      },
      {
       "output_type": "stream",
       "stream": "stdout",
       "text": [
        "8HPVAS  "
       ]
      },
      {
       "output_type": "stream",
       "stream": "stdout",
       "text": [
        "1IOXJJ  "
       ]
      },
      {
       "output_type": "stream",
       "stream": "stdout",
       "text": [
        "ED2O2W  "
       ]
      },
      {
       "output_type": "stream",
       "stream": "stdout",
       "text": [
        "H3MOGG  "
       ]
      },
      {
       "output_type": "stream",
       "stream": "stdout",
       "text": [
        "L8YOY4  "
       ]
      },
      {
       "output_type": "stream",
       "stream": "stdout",
       "text": [
        "Y1KTQP  "
       ]
      },
      {
       "output_type": "stream",
       "stream": "stdout",
       "text": [
        "44PKWJ  "
       ]
      },
      {
       "output_type": "stream",
       "stream": "stdout",
       "text": [
        "EZSIRJ  "
       ]
      },
      {
       "output_type": "stream",
       "stream": "stdout",
       "text": [
        "F2OJWN  "
       ]
      },
      {
       "output_type": "stream",
       "stream": "stdout",
       "text": [
        "DUE4OC  "
       ]
      },
      {
       "output_type": "stream",
       "stream": "stdout",
       "text": [
        "WBJIXH  "
       ]
      },
      {
       "output_type": "stream",
       "stream": "stdout",
       "text": [
        "YGM230  "
       ]
      },
      {
       "output_type": "stream",
       "stream": "stdout",
       "text": [
        "SKHPK4  "
       ]
      },
      {
       "output_type": "stream",
       "stream": "stdout",
       "text": [
        "ERO719  "
       ]
      },
      {
       "output_type": "stream",
       "stream": "stdout",
       "text": [
        "EWAH3B  "
       ]
      },
      {
       "output_type": "stream",
       "stream": "stdout",
       "text": [
        "B9MJAN  "
       ]
      },
      {
       "output_type": "stream",
       "stream": "stdout",
       "text": [
        "5JRFFD  "
       ]
      },
      {
       "output_type": "stream",
       "stream": "stdout",
       "text": [
        "2WYK0P  "
       ]
      },
      {
       "output_type": "stream",
       "stream": "stdout",
       "text": [
        "37F4YL  "
       ]
      },
      {
       "output_type": "stream",
       "stream": "stdout",
       "text": [
        "FZ6GCA  "
       ]
      },
      {
       "output_type": "stream",
       "stream": "stdout",
       "text": [
        "0JJJIL  "
       ]
      },
      {
       "output_type": "stream",
       "stream": "stdout",
       "text": [
        "2XVYIO  "
       ]
      },
      {
       "output_type": "stream",
       "stream": "stdout",
       "text": [
        "5A50NX  "
       ]
      },
      {
       "output_type": "stream",
       "stream": "stdout",
       "text": [
        "X0KLFU  "
       ]
      },
      {
       "output_type": "stream",
       "stream": "stdout",
       "text": [
        "2Q8NDH  "
       ]
      },
      {
       "output_type": "stream",
       "stream": "stdout",
       "text": [
        "PIDOH9  "
       ]
      },
      {
       "output_type": "stream",
       "stream": "stdout",
       "text": [
        "1BX3BP  "
       ]
      },
      {
       "output_type": "stream",
       "stream": "stdout",
       "text": [
        "KX2B18  "
       ]
      },
      {
       "output_type": "stream",
       "stream": "stdout",
       "text": [
        "OBJDTM  "
       ]
      },
      {
       "output_type": "stream",
       "stream": "stdout",
       "text": [
        "YPLLEN  "
       ]
      },
      {
       "output_type": "stream",
       "stream": "stdout",
       "text": [
        "J7CWIS  "
       ]
      },
      {
       "output_type": "stream",
       "stream": "stdout",
       "text": [
        "Z1WRB5  "
       ]
      },
      {
       "output_type": "stream",
       "stream": "stdout",
       "text": [
        "SWH1E7  "
       ]
      },
      {
       "output_type": "stream",
       "stream": "stdout",
       "text": [
        "ABTUYK  "
       ]
      },
      {
       "output_type": "stream",
       "stream": "stdout",
       "text": [
        "ZF1D6Y  "
       ]
      },
      {
       "output_type": "stream",
       "stream": "stdout",
       "text": [
        "5R59Y7  "
       ]
      },
      {
       "output_type": "stream",
       "stream": "stdout",
       "text": [
        "3HBKLB  "
       ]
      },
      {
       "output_type": "stream",
       "stream": "stdout",
       "text": [
        "7N0YJ7  "
       ]
      },
      {
       "output_type": "stream",
       "stream": "stdout",
       "text": [
        "HDO93G  "
       ]
      },
      {
       "output_type": "stream",
       "stream": "stdout",
       "text": [
        "7TMZU6  "
       ]
      },
      {
       "output_type": "stream",
       "stream": "stdout",
       "text": [
        "540HKP  "
       ]
      },
      {
       "output_type": "stream",
       "stream": "stdout",
       "text": [
        "11EJJI  "
       ]
      },
      {
       "output_type": "stream",
       "stream": "stdout",
       "text": [
        "XLXBSL  "
       ]
      },
      {
       "output_type": "stream",
       "stream": "stdout",
       "text": [
        "1YN18Z  "
       ]
      },
      {
       "output_type": "stream",
       "stream": "stdout",
       "text": [
        "D4RXRZ  "
       ]
      },
      {
       "output_type": "stream",
       "stream": "stdout",
       "text": [
        "AKJSKF  "
       ]
      },
      {
       "output_type": "stream",
       "stream": "stdout",
       "text": [
        "KWFZCM  "
       ]
      },
      {
       "output_type": "stream",
       "stream": "stdout",
       "text": [
        "TVXR3O  "
       ]
      },
      {
       "output_type": "stream",
       "stream": "stdout",
       "text": [
        "Q2LP5G  "
       ]
      },
      {
       "output_type": "stream",
       "stream": "stdout",
       "text": [
        "PIRGK5  "
       ]
      },
      {
       "output_type": "stream",
       "stream": "stdout",
       "text": [
        "LMLLN8  "
       ]
      },
      {
       "output_type": "stream",
       "stream": "stdout",
       "text": [
        "FWH98M  "
       ]
      },
      {
       "output_type": "stream",
       "stream": "stdout",
       "text": [
        "DBP4P6  "
       ]
      },
      {
       "output_type": "stream",
       "stream": "stdout",
       "text": [
        "S09YBZ  "
       ]
      },
      {
       "output_type": "stream",
       "stream": "stdout",
       "text": [
        "QGO4JC  "
       ]
      },
      {
       "output_type": "stream",
       "stream": "stdout",
       "text": [
        "1MV80L  "
       ]
      },
      {
       "output_type": "stream",
       "stream": "stdout",
       "text": [
        "FYWEX9  "
       ]
      },
      {
       "output_type": "stream",
       "stream": "stdout",
       "text": [
        "UBCWF5  "
       ]
      },
      {
       "output_type": "stream",
       "stream": "stdout",
       "text": [
        "GHJOPL  "
       ]
      },
      {
       "output_type": "stream",
       "stream": "stdout",
       "text": [
        "HYEW9W  "
       ]
      },
      {
       "output_type": "stream",
       "stream": "stdout",
       "text": [
        "J5OMPV  "
       ]
      },
      {
       "output_type": "stream",
       "stream": "stdout",
       "text": [
        "GKD82X  "
       ]
      },
      {
       "output_type": "stream",
       "stream": "stdout",
       "text": [
        "I6THBZ  "
       ]
      },
      {
       "output_type": "stream",
       "stream": "stdout",
       "text": [
        "E9E44X  "
       ]
      },
      {
       "output_type": "stream",
       "stream": "stdout",
       "text": [
        "E1NY79  "
       ]
      },
      {
       "output_type": "stream",
       "stream": "stdout",
       "text": [
        "46SU88  "
       ]
      },
      {
       "output_type": "stream",
       "stream": "stdout",
       "text": [
        "BT935E  "
       ]
      },
      {
       "output_type": "stream",
       "stream": "stdout",
       "text": [
        "UA8FGC  "
       ]
      },
      {
       "output_type": "stream",
       "stream": "stdout",
       "text": [
        "7NRDF7  "
       ]
      },
      {
       "output_type": "stream",
       "stream": "stdout",
       "text": [
        "UJD3P5  "
       ]
      },
      {
       "output_type": "stream",
       "stream": "stdout",
       "text": [
        "03AMSI  "
       ]
      },
      {
       "output_type": "stream",
       "stream": "stdout",
       "text": [
        "0EURL9  "
       ]
      },
      {
       "output_type": "stream",
       "stream": "stdout",
       "text": [
        "UF3LS3  "
       ]
      },
      {
       "output_type": "stream",
       "stream": "stdout",
       "text": [
        "XGN2ML  "
       ]
      },
      {
       "output_type": "stream",
       "stream": "stdout",
       "text": [
        "5YJUL0  "
       ]
      },
      {
       "output_type": "stream",
       "stream": "stdout",
       "text": [
        "H3HEUH  "
       ]
      },
      {
       "output_type": "stream",
       "stream": "stdout",
       "text": [
        "35X2IT  "
       ]
      },
      {
       "output_type": "stream",
       "stream": "stdout",
       "text": [
        "YBKOB4  "
       ]
      },
      {
       "output_type": "stream",
       "stream": "stdout",
       "text": [
        "F7JD2L  "
       ]
      },
      {
       "output_type": "stream",
       "stream": "stdout",
       "text": [
        "06YDBR  "
       ]
      },
      {
       "output_type": "stream",
       "stream": "stdout",
       "text": [
        "JHOQAX  "
       ]
      },
      {
       "output_type": "stream",
       "stream": "stdout",
       "text": [
        "QKHEWB  "
       ]
      },
      {
       "output_type": "stream",
       "stream": "stdout",
       "text": [
        "HAUVGX  "
       ]
      },
      {
       "output_type": "stream",
       "stream": "stdout",
       "text": [
        "UA5X9M  "
       ]
      },
      {
       "output_type": "stream",
       "stream": "stdout",
       "text": [
        "8QOXKY  "
       ]
      },
      {
       "output_type": "stream",
       "stream": "stdout",
       "text": [
        "ISHKAX  "
       ]
      },
      {
       "output_type": "stream",
       "stream": "stdout",
       "text": [
        "O4L308  "
       ]
      },
      {
       "output_type": "stream",
       "stream": "stdout",
       "text": [
        "PGWZ5R  "
       ]
      },
      {
       "output_type": "stream",
       "stream": "stdout",
       "text": [
        "4NJTKT  "
       ]
      },
      {
       "output_type": "stream",
       "stream": "stdout",
       "text": [
        "87VJLR  "
       ]
      },
      {
       "output_type": "stream",
       "stream": "stdout",
       "text": [
        "UKVLEY  "
       ]
      },
      {
       "output_type": "stream",
       "stream": "stdout",
       "text": [
        "6DGR59  "
       ]
      },
      {
       "output_type": "stream",
       "stream": "stdout",
       "text": [
        "C0A1GN  "
       ]
      },
      {
       "output_type": "stream",
       "stream": "stdout",
       "text": [
        "J62Z9R  "
       ]
      },
      {
       "output_type": "stream",
       "stream": "stdout",
       "text": [
        "BZOK6R  "
       ]
      },
      {
       "output_type": "stream",
       "stream": "stdout",
       "text": [
        "X003KY  "
       ]
      },
      {
       "output_type": "stream",
       "stream": "stdout",
       "text": [
        "I1Y5EC  "
       ]
      },
      {
       "output_type": "stream",
       "stream": "stdout",
       "text": [
        "5CK6H2  "
       ]
      },
      {
       "output_type": "stream",
       "stream": "stdout",
       "text": [
        "L9236E  "
       ]
      },
      {
       "output_type": "stream",
       "stream": "stdout",
       "text": [
        "U8A1W2  "
       ]
      },
      {
       "output_type": "stream",
       "stream": "stdout",
       "text": [
        "4TRRXZ  "
       ]
      },
      {
       "output_type": "stream",
       "stream": "stdout",
       "text": [
        "8BK4R4  "
       ]
      },
      {
       "output_type": "stream",
       "stream": "stdout",
       "text": [
        "0T5DYX  "
       ]
      },
      {
       "output_type": "stream",
       "stream": "stdout",
       "text": [
        "1QFSGA  "
       ]
      },
      {
       "output_type": "stream",
       "stream": "stdout",
       "text": [
        "TLICFY  "
       ]
      },
      {
       "output_type": "stream",
       "stream": "stdout",
       "text": [
        "5E0M47  "
       ]
      },
      {
       "output_type": "stream",
       "stream": "stdout",
       "text": [
        "P8TFDP  "
       ]
      },
      {
       "output_type": "stream",
       "stream": "stdout",
       "text": [
        "QEIYZN  "
       ]
      },
      {
       "output_type": "stream",
       "stream": "stdout",
       "text": [
        "N86E73  "
       ]
      },
      {
       "output_type": "stream",
       "stream": "stdout",
       "text": [
        "5S9JFF  "
       ]
      },
      {
       "output_type": "stream",
       "stream": "stdout",
       "text": [
        "XNO7NL  "
       ]
      },
      {
       "output_type": "stream",
       "stream": "stdout",
       "text": [
        "WM1V12  "
       ]
      },
      {
       "output_type": "stream",
       "stream": "stdout",
       "text": [
        "D99JAH  "
       ]
      },
      {
       "output_type": "stream",
       "stream": "stdout",
       "text": [
        "UB3L9X  "
       ]
      },
      {
       "output_type": "stream",
       "stream": "stdout",
       "text": [
        "9DRAWG  "
       ]
      },
      {
       "output_type": "stream",
       "stream": "stdout",
       "text": [
        "K0116G  "
       ]
      },
      {
       "output_type": "stream",
       "stream": "stdout",
       "text": [
        "YY60FS  "
       ]
      },
      {
       "output_type": "stream",
       "stream": "stdout",
       "text": [
        "1E4ADQ  "
       ]
      },
      {
       "output_type": "stream",
       "stream": "stdout",
       "text": [
        "AAUNNQ  "
       ]
      },
      {
       "output_type": "stream",
       "stream": "stdout",
       "text": [
        "KJRAFN  "
       ]
      },
      {
       "output_type": "stream",
       "stream": "stdout",
       "text": [
        "A0MQ0Q  "
       ]
      },
      {
       "output_type": "stream",
       "stream": "stdout",
       "text": [
        "XNVCCY  "
       ]
      },
      {
       "output_type": "stream",
       "stream": "stdout",
       "text": [
        "OG16W5  "
       ]
      },
      {
       "output_type": "stream",
       "stream": "stdout",
       "text": [
        "KVXL5M  "
       ]
      },
      {
       "output_type": "stream",
       "stream": "stdout",
       "text": [
        "ANNPXL  "
       ]
      },
      {
       "output_type": "stream",
       "stream": "stdout",
       "text": [
        "31CAYN  "
       ]
      },
      {
       "output_type": "stream",
       "stream": "stdout",
       "text": [
        "V5KOBM  "
       ]
      },
      {
       "output_type": "stream",
       "stream": "stdout",
       "text": [
        "SLGEUU  "
       ]
      },
      {
       "output_type": "stream",
       "stream": "stdout",
       "text": [
        "HUJOUZ  "
       ]
      },
      {
       "output_type": "stream",
       "stream": "stdout",
       "text": [
        "RQ69TW  "
       ]
      },
      {
       "output_type": "stream",
       "stream": "stdout",
       "text": [
        "2FI6WZ  "
       ]
      },
      {
       "output_type": "stream",
       "stream": "stdout",
       "text": [
        "XUDLLH  "
       ]
      },
      {
       "output_type": "stream",
       "stream": "stdout",
       "text": [
        "5UBFPD  "
       ]
      },
      {
       "output_type": "stream",
       "stream": "stdout",
       "text": [
        "998XUO  "
       ]
      },
      {
       "output_type": "stream",
       "stream": "stdout",
       "text": [
        "D2IQAD  "
       ]
      },
      {
       "output_type": "stream",
       "stream": "stdout",
       "text": [
        "0B8QBY  "
       ]
      },
      {
       "output_type": "stream",
       "stream": "stdout",
       "text": [
        "3T8ZC0  "
       ]
      },
      {
       "output_type": "stream",
       "stream": "stdout",
       "text": [
        "HKTSSB  "
       ]
      },
      {
       "output_type": "stream",
       "stream": "stdout",
       "text": [
        "V9XQYM  "
       ]
      },
      {
       "output_type": "stream",
       "stream": "stdout",
       "text": [
        "WL57YF  "
       ]
      },
      {
       "output_type": "stream",
       "stream": "stdout",
       "text": [
        "VHUZZ1  "
       ]
      },
      {
       "output_type": "stream",
       "stream": "stdout",
       "text": [
        "D448D5  "
       ]
      },
      {
       "output_type": "stream",
       "stream": "stdout",
       "text": [
        "C1CQUR  "
       ]
      },
      {
       "output_type": "stream",
       "stream": "stdout",
       "text": [
        "JY3V97  "
       ]
      },
      {
       "output_type": "stream",
       "stream": "stdout",
       "text": [
        "AXNMS5  "
       ]
      },
      {
       "output_type": "stream",
       "stream": "stdout",
       "text": [
        "QX3YJ3  "
       ]
      },
      {
       "output_type": "stream",
       "stream": "stdout",
       "text": [
        "6VKT3U  "
       ]
      },
      {
       "output_type": "stream",
       "stream": "stdout",
       "text": [
        "5YNF02  "
       ]
      },
      {
       "output_type": "stream",
       "stream": "stdout",
       "text": [
        "ZCVH2X  "
       ]
      },
      {
       "output_type": "stream",
       "stream": "stdout",
       "text": [
        "7HVWL4  "
       ]
      },
      {
       "output_type": "stream",
       "stream": "stdout",
       "text": [
        "SQ0VA8  "
       ]
      },
      {
       "output_type": "stream",
       "stream": "stdout",
       "text": [
        "HNR30V  "
       ]
      },
      {
       "output_type": "stream",
       "stream": "stdout",
       "text": [
        "KYFF3B  "
       ]
      },
      {
       "output_type": "stream",
       "stream": "stdout",
       "text": [
        "SPA3L0  "
       ]
      },
      {
       "output_type": "stream",
       "stream": "stdout",
       "text": [
        "76JMKM  "
       ]
      },
      {
       "output_type": "stream",
       "stream": "stdout",
       "text": [
        "P19103  "
       ]
      },
      {
       "output_type": "stream",
       "stream": "stdout",
       "text": [
        "Q4WBRX  "
       ]
      },
      {
       "output_type": "stream",
       "stream": "stdout",
       "text": [
        "TPD3LK  "
       ]
      },
      {
       "output_type": "stream",
       "stream": "stdout",
       "text": [
        "46BCXM  "
       ]
      },
      {
       "output_type": "stream",
       "stream": "stdout",
       "text": [
        "H1TCS2  "
       ]
      },
      {
       "output_type": "stream",
       "stream": "stdout",
       "text": [
        "ZOISPD  "
       ]
      },
      {
       "output_type": "stream",
       "stream": "stdout",
       "text": [
        "RN0CCB  "
       ]
      },
      {
       "output_type": "stream",
       "stream": "stdout",
       "text": [
        "4H6JJR  "
       ]
      },
      {
       "output_type": "stream",
       "stream": "stdout",
       "text": [
        "E1XXB8  "
       ]
      },
      {
       "output_type": "stream",
       "stream": "stdout",
       "text": [
        "CBVQK0  "
       ]
      },
      {
       "output_type": "stream",
       "stream": "stdout",
       "text": [
        "OC37BZ  "
       ]
      },
      {
       "output_type": "stream",
       "stream": "stdout",
       "text": [
        "JLCP9Q  "
       ]
      },
      {
       "output_type": "stream",
       "stream": "stdout",
       "text": [
        "C0VUL6  "
       ]
      },
      {
       "output_type": "stream",
       "stream": "stdout",
       "text": [
        "58VMQB  "
       ]
      },
      {
       "output_type": "stream",
       "stream": "stdout",
       "text": [
        "URDQ5O  "
       ]
      },
      {
       "output_type": "stream",
       "stream": "stdout",
       "text": [
        "HYVXZ1  "
       ]
      },
      {
       "output_type": "stream",
       "stream": "stdout",
       "text": [
        "9UEBZV  "
       ]
      },
      {
       "output_type": "stream",
       "stream": "stdout",
       "text": [
        "4J4OL8  "
       ]
      },
      {
       "output_type": "stream",
       "stream": "stdout",
       "text": [
        "Z8VVFG  "
       ]
      },
      {
       "output_type": "stream",
       "stream": "stdout",
       "text": [
        "COEEF3  "
       ]
      },
      {
       "output_type": "stream",
       "stream": "stdout",
       "text": [
        "E8A4J8  "
       ]
      },
      {
       "output_type": "stream",
       "stream": "stdout",
       "text": [
        "GY0XCT  "
       ]
      },
      {
       "output_type": "stream",
       "stream": "stdout",
       "text": [
        "OOA3ZR  "
       ]
      },
      {
       "output_type": "stream",
       "stream": "stdout",
       "text": [
        "RDOVWB  "
       ]
      },
      {
       "output_type": "stream",
       "stream": "stdout",
       "text": [
        "V5DYSH  "
       ]
      },
      {
       "output_type": "stream",
       "stream": "stdout",
       "text": [
        "OUZFTZ  "
       ]
      },
      {
       "output_type": "stream",
       "stream": "stdout",
       "text": [
        "RCCP03  "
       ]
      },
      {
       "output_type": "stream",
       "stream": "stdout",
       "text": [
        "82LG03  "
       ]
      },
      {
       "output_type": "stream",
       "stream": "stdout",
       "text": [
        "J17NHX  "
       ]
      },
      {
       "output_type": "stream",
       "stream": "stdout",
       "text": [
        "483C70  "
       ]
      },
      {
       "output_type": "stream",
       "stream": "stdout",
       "text": [
        "GP4BUB  "
       ]
      },
      {
       "output_type": "stream",
       "stream": "stdout",
       "text": [
        "57J40H  "
       ]
      },
      {
       "output_type": "stream",
       "stream": "stdout",
       "text": [
        "Q9MXYP  "
       ]
      },
      {
       "output_type": "stream",
       "stream": "stdout",
       "text": [
        "MSADUB  "
       ]
      },
      {
       "output_type": "stream",
       "stream": "stdout",
       "text": [
        "6GGL4D  "
       ]
      },
      {
       "output_type": "stream",
       "stream": "stdout",
       "text": [
        "RHMC90  "
       ]
      },
      {
       "output_type": "stream",
       "stream": "stdout",
       "text": [
        "K7JPV6  "
       ]
      },
      {
       "output_type": "stream",
       "stream": "stdout",
       "text": [
        "F8U6CT  "
       ]
      },
      {
       "output_type": "stream",
       "stream": "stdout",
       "text": [
        "2J97FA  "
       ]
      },
      {
       "output_type": "stream",
       "stream": "stdout",
       "text": [
        "MW1RDS  "
       ]
      },
      {
       "output_type": "stream",
       "stream": "stdout",
       "text": [
        "CGNG38  "
       ]
      },
      {
       "output_type": "stream",
       "stream": "stdout",
       "text": [
        "G40O6B  "
       ]
      },
      {
       "output_type": "stream",
       "stream": "stdout",
       "text": [
        "6R1RXH  "
       ]
      },
      {
       "output_type": "stream",
       "stream": "stdout",
       "text": [
        "56WV46  "
       ]
      },
      {
       "output_type": "stream",
       "stream": "stdout",
       "text": [
        "TJP9D5  "
       ]
      },
      {
       "output_type": "stream",
       "stream": "stdout",
       "text": [
        "EDJ1KC  "
       ]
      },
      {
       "output_type": "stream",
       "stream": "stdout",
       "text": [
        "JPDUJB  "
       ]
      },
      {
       "output_type": "stream",
       "stream": "stdout",
       "text": [
        "S4OJLO  "
       ]
      },
      {
       "output_type": "stream",
       "stream": "stdout",
       "text": [
        "HGDR50  "
       ]
      },
      {
       "output_type": "stream",
       "stream": "stdout",
       "text": [
        "8U402S  "
       ]
      },
      {
       "output_type": "stream",
       "stream": "stdout",
       "text": [
        "9KU0H3  "
       ]
      },
      {
       "output_type": "stream",
       "stream": "stdout",
       "text": [
        "Y9X56H  "
       ]
      },
      {
       "output_type": "stream",
       "stream": "stdout",
       "text": [
        "387A9M  "
       ]
      },
      {
       "output_type": "stream",
       "stream": "stdout",
       "text": [
        "QFM9J3  "
       ]
      },
      {
       "output_type": "stream",
       "stream": "stdout",
       "text": [
        "WDFC0Y  "
       ]
      },
      {
       "output_type": "stream",
       "stream": "stdout",
       "text": [
        "4WR9O9  "
       ]
      },
      {
       "output_type": "stream",
       "stream": "stdout",
       "text": [
        "UZXONY  "
       ]
      },
      {
       "output_type": "stream",
       "stream": "stdout",
       "text": [
        "OAE679  "
       ]
      },
      {
       "output_type": "stream",
       "stream": "stdout",
       "text": [
        "T92T7T  "
       ]
      },
      {
       "output_type": "stream",
       "stream": "stdout",
       "text": [
        "R2LSY9  "
       ]
      },
      {
       "output_type": "stream",
       "stream": "stdout",
       "text": [
        "GOKUKB  "
       ]
      },
      {
       "output_type": "stream",
       "stream": "stdout",
       "text": [
        "L4F072  "
       ]
      },
      {
       "output_type": "stream",
       "stream": "stdout",
       "text": [
        "ABY1I6  "
       ]
      },
      {
       "output_type": "stream",
       "stream": "stdout",
       "text": [
        "CZTP6M  "
       ]
      },
      {
       "output_type": "stream",
       "stream": "stdout",
       "text": [
        "9XYLO6  "
       ]
      },
      {
       "output_type": "stream",
       "stream": "stdout",
       "text": [
        "SMKZHE  "
       ]
      },
      {
       "output_type": "stream",
       "stream": "stdout",
       "text": [
        "MHBMBK  "
       ]
      },
      {
       "output_type": "stream",
       "stream": "stdout",
       "text": [
        "EZG8O2  "
       ]
      },
      {
       "output_type": "stream",
       "stream": "stdout",
       "text": [
        "MZFLCH  "
       ]
      },
      {
       "output_type": "stream",
       "stream": "stdout",
       "text": [
        "UMVVPO  "
       ]
      },
      {
       "output_type": "stream",
       "stream": "stdout",
       "text": [
        "310AA1  "
       ]
      },
      {
       "output_type": "stream",
       "stream": "stdout",
       "text": [
        "XIYGGS  "
       ]
      },
      {
       "output_type": "stream",
       "stream": "stdout",
       "text": [
        "16DJRO  "
       ]
      },
      {
       "output_type": "stream",
       "stream": "stdout",
       "text": [
        "R6H1YK  "
       ]
      },
      {
       "output_type": "stream",
       "stream": "stdout",
       "text": [
        "GPVZQ7  "
       ]
      },
      {
       "output_type": "stream",
       "stream": "stdout",
       "text": [
        "QFM9XC  "
       ]
      },
      {
       "output_type": "stream",
       "stream": "stdout",
       "text": [
        "QYYDFO  "
       ]
      },
      {
       "output_type": "stream",
       "stream": "stdout",
       "text": [
        "EW5WVD  "
       ]
      },
      {
       "output_type": "stream",
       "stream": "stdout",
       "text": [
        "3LSGHZ  "
       ]
      },
      {
       "output_type": "stream",
       "stream": "stdout",
       "text": [
        "XW0QIP  "
       ]
      },
      {
       "output_type": "stream",
       "stream": "stdout",
       "text": [
        "FTX0TV  "
       ]
      },
      {
       "output_type": "stream",
       "stream": "stdout",
       "text": [
        "DGAQU4  "
       ]
      },
      {
       "output_type": "stream",
       "stream": "stdout",
       "text": [
        "RIPSA1  "
       ]
      },
      {
       "output_type": "stream",
       "stream": "stdout",
       "text": [
        "PK0JPU  "
       ]
      },
      {
       "output_type": "stream",
       "stream": "stdout",
       "text": [
        "5OOR0U  "
       ]
      },
      {
       "output_type": "stream",
       "stream": "stdout",
       "text": [
        "38QOT5  "
       ]
      },
      {
       "output_type": "stream",
       "stream": "stdout",
       "text": [
        "CTI6BA  "
       ]
      },
      {
       "output_type": "stream",
       "stream": "stdout",
       "text": [
        "FYTJWW  "
       ]
      },
      {
       "output_type": "stream",
       "stream": "stdout",
       "text": [
        "T5RJTJ  "
       ]
      },
      {
       "output_type": "stream",
       "stream": "stdout",
       "text": [
        "JZZN5K  "
       ]
      },
      {
       "output_type": "stream",
       "stream": "stdout",
       "text": [
        "2AZV6Z  "
       ]
      },
      {
       "output_type": "stream",
       "stream": "stdout",
       "text": [
        "URSMKW  "
       ]
      },
      {
       "output_type": "stream",
       "stream": "stdout",
       "text": [
        "8EUDNJ  "
       ]
      },
      {
       "output_type": "stream",
       "stream": "stdout",
       "text": [
        "AHDIW2  "
       ]
      },
      {
       "output_type": "stream",
       "stream": "stdout",
       "text": [
        "PYYI23  "
       ]
      },
      {
       "output_type": "stream",
       "stream": "stdout",
       "text": [
        "GY2SR6  "
       ]
      },
      {
       "output_type": "stream",
       "stream": "stdout",
       "text": [
        "NU0ARO  "
       ]
      },
      {
       "output_type": "stream",
       "stream": "stdout",
       "text": [
        "6QG12M  "
       ]
      },
      {
       "output_type": "stream",
       "stream": "stdout",
       "text": [
        "NCVRJ3  "
       ]
      },
      {
       "output_type": "stream",
       "stream": "stdout",
       "text": [
        "YSY73T  "
       ]
      },
      {
       "output_type": "stream",
       "stream": "stdout",
       "text": [
        "HFD76X  "
       ]
      },
      {
       "output_type": "stream",
       "stream": "stdout",
       "text": [
        "CQ3R94  "
       ]
      },
      {
       "output_type": "stream",
       "stream": "stdout",
       "text": [
        "XQSU93  "
       ]
      },
      {
       "output_type": "stream",
       "stream": "stdout",
       "text": [
        "L1KF0H  "
       ]
      },
      {
       "output_type": "stream",
       "stream": "stdout",
       "text": [
        "CZKIVG  "
       ]
      },
      {
       "output_type": "stream",
       "stream": "stdout",
       "text": [
        "VIZV8S  "
       ]
      },
      {
       "output_type": "stream",
       "stream": "stdout",
       "text": [
        "Q5I58T  "
       ]
      },
      {
       "output_type": "stream",
       "stream": "stdout",
       "text": [
        "O6HAJN  "
       ]
      },
      {
       "output_type": "stream",
       "stream": "stdout",
       "text": [
        "T8L1EG  "
       ]
      },
      {
       "output_type": "stream",
       "stream": "stdout",
       "text": [
        "U3CJNX  "
       ]
      },
      {
       "output_type": "stream",
       "stream": "stdout",
       "text": [
        "PS7UGI  "
       ]
      },
      {
       "output_type": "stream",
       "stream": "stdout",
       "text": [
        "SK4IE4  "
       ]
      },
      {
       "output_type": "stream",
       "stream": "stdout",
       "text": [
        "CGL3SS  "
       ]
      },
      {
       "output_type": "stream",
       "stream": "stdout",
       "text": [
        "421FUW  "
       ]
      },
      {
       "output_type": "stream",
       "stream": "stdout",
       "text": [
        "SD1ZPI  "
       ]
      },
      {
       "output_type": "stream",
       "stream": "stdout",
       "text": [
        "OEO1O7  "
       ]
      },
      {
       "output_type": "stream",
       "stream": "stdout",
       "text": [
        "KLC40J  "
       ]
      },
      {
       "output_type": "stream",
       "stream": "stdout",
       "text": [
        "7CMU00  "
       ]
      },
      {
       "output_type": "stream",
       "stream": "stdout",
       "text": [
        "A60YCR  "
       ]
      },
      {
       "output_type": "stream",
       "stream": "stdout",
       "text": [
        "HOY0KD  "
       ]
      },
      {
       "output_type": "stream",
       "stream": "stdout",
       "text": [
        "98JDAT  "
       ]
      },
      {
       "output_type": "stream",
       "stream": "stdout",
       "text": [
        "9XRCPP  "
       ]
      },
      {
       "output_type": "stream",
       "stream": "stdout",
       "text": [
        "UHO0MY  "
       ]
      },
      {
       "output_type": "stream",
       "stream": "stdout",
       "text": [
        "KZHU5Q  "
       ]
      },
      {
       "output_type": "stream",
       "stream": "stdout",
       "text": [
        "QL0NHR  "
       ]
      },
      {
       "output_type": "stream",
       "stream": "stdout",
       "text": [
        "HMLZZZ  "
       ]
      },
      {
       "output_type": "stream",
       "stream": "stdout",
       "text": [
        "LU2D0X  "
       ]
      },
      {
       "output_type": "stream",
       "stream": "stdout",
       "text": [
        "G2GHUX  "
       ]
      },
      {
       "output_type": "stream",
       "stream": "stdout",
       "text": [
        "R3NH1L  "
       ]
      },
      {
       "output_type": "stream",
       "stream": "stdout",
       "text": [
        "PDS6GS  "
       ]
      },
      {
       "output_type": "stream",
       "stream": "stdout",
       "text": [
        "KPCHGM  "
       ]
      },
      {
       "output_type": "stream",
       "stream": "stdout",
       "text": [
        "KLZG82  "
       ]
      },
      {
       "output_type": "stream",
       "stream": "stdout",
       "text": [
        "57WJWD  "
       ]
      },
      {
       "output_type": "stream",
       "stream": "stdout",
       "text": [
        "GL1GMW  "
       ]
      },
      {
       "output_type": "stream",
       "stream": "stdout",
       "text": [
        "DLRC5E  "
       ]
      },
      {
       "output_type": "stream",
       "stream": "stdout",
       "text": [
        "30J6SB  "
       ]
      },
      {
       "output_type": "stream",
       "stream": "stdout",
       "text": [
        "CX0C6R  "
       ]
      },
      {
       "output_type": "stream",
       "stream": "stdout",
       "text": [
        "MXV0X5  "
       ]
      },
      {
       "output_type": "stream",
       "stream": "stdout",
       "text": [
        "P5RJ42  "
       ]
      },
      {
       "output_type": "stream",
       "stream": "stdout",
       "text": [
        "4HDTOF  "
       ]
      },
      {
       "output_type": "stream",
       "stream": "stdout",
       "text": [
        "O9BRDI  "
       ]
      },
      {
       "output_type": "stream",
       "stream": "stdout",
       "text": [
        "2L6DM0  "
       ]
      },
      {
       "output_type": "stream",
       "stream": "stdout",
       "text": [
        "JPWX6G  "
       ]
      },
      {
       "output_type": "stream",
       "stream": "stdout",
       "text": [
        "YDEGJQ  "
       ]
      },
      {
       "output_type": "stream",
       "stream": "stdout",
       "text": [
        "JF0YXH  "
       ]
      },
      {
       "output_type": "stream",
       "stream": "stdout",
       "text": [
        "BP86FR  "
       ]
      },
      {
       "output_type": "stream",
       "stream": "stdout",
       "text": [
        "4HWUV0  "
       ]
      },
      {
       "output_type": "stream",
       "stream": "stdout",
       "text": [
        "QUQUTL  "
       ]
      },
      {
       "output_type": "stream",
       "stream": "stdout",
       "text": [
        "OMA55N  "
       ]
      },
      {
       "output_type": "stream",
       "stream": "stdout",
       "text": [
        "N6RPHP  "
       ]
      },
      {
       "output_type": "stream",
       "stream": "stdout",
       "text": [
        "P04ZAN  "
       ]
      },
      {
       "output_type": "stream",
       "stream": "stdout",
       "text": [
        "IQT139  "
       ]
      },
      {
       "output_type": "stream",
       "stream": "stdout",
       "text": [
        "M7S00E  "
       ]
      },
      {
       "output_type": "stream",
       "stream": "stdout",
       "text": [
        "A6TJO8  "
       ]
      },
      {
       "output_type": "stream",
       "stream": "stdout",
       "text": [
        "O7OOVG  "
       ]
      },
      {
       "output_type": "stream",
       "stream": "stdout",
       "text": [
        "BAY8G4  "
       ]
      },
      {
       "output_type": "stream",
       "stream": "stdout",
       "text": [
        "H32IRN  "
       ]
      },
      {
       "output_type": "stream",
       "stream": "stdout",
       "text": [
        "UAM75G  "
       ]
      },
      {
       "output_type": "stream",
       "stream": "stdout",
       "text": [
        "FWAFM1  "
       ]
      },
      {
       "output_type": "stream",
       "stream": "stdout",
       "text": [
        "U1C5NT  "
       ]
      },
      {
       "output_type": "stream",
       "stream": "stdout",
       "text": [
        "J44W5S  "
       ]
      },
      {
       "output_type": "stream",
       "stream": "stdout",
       "text": [
        "43WK4S  "
       ]
      },
      {
       "output_type": "stream",
       "stream": "stdout",
       "text": [
        "4734AQ  "
       ]
      },
      {
       "output_type": "stream",
       "stream": "stdout",
       "text": [
        "ZY2U8A  "
       ]
      },
      {
       "output_type": "stream",
       "stream": "stdout",
       "text": [
        "LPRAEZ  "
       ]
      },
      {
       "output_type": "stream",
       "stream": "stdout",
       "text": [
        "JNS313  "
       ]
      },
      {
       "output_type": "stream",
       "stream": "stdout",
       "text": [
        "MEEAWT  "
       ]
      },
      {
       "output_type": "stream",
       "stream": "stdout",
       "text": [
        "5TYUBM  "
       ]
      },
      {
       "output_type": "stream",
       "stream": "stdout",
       "text": [
        "V8TX9L  "
       ]
      },
      {
       "output_type": "stream",
       "stream": "stdout",
       "text": [
        "Q1M3E7  "
       ]
      },
      {
       "output_type": "stream",
       "stream": "stdout",
       "text": [
        "7CVW2Q  "
       ]
      },
      {
       "output_type": "stream",
       "stream": "stdout",
       "text": [
        "VAHDAO  "
       ]
      },
      {
       "output_type": "stream",
       "stream": "stdout",
       "text": [
        "O50CYC  "
       ]
      },
      {
       "output_type": "stream",
       "stream": "stdout",
       "text": [
        "1C7RWW  "
       ]
      },
      {
       "output_type": "stream",
       "stream": "stdout",
       "text": [
        "5PEZPU  "
       ]
      },
      {
       "output_type": "stream",
       "stream": "stdout",
       "text": [
        "271D3U  "
       ]
      },
      {
       "output_type": "stream",
       "stream": "stdout",
       "text": [
        "41YD65  "
       ]
      },
      {
       "output_type": "stream",
       "stream": "stdout",
       "text": [
        "8XLLJQ  "
       ]
      },
      {
       "output_type": "stream",
       "stream": "stdout",
       "text": [
        "XHUH5A  "
       ]
      },
      {
       "output_type": "stream",
       "stream": "stdout",
       "text": [
        "44WAOF  "
       ]
      },
      {
       "output_type": "stream",
       "stream": "stdout",
       "text": [
        "QQBOHP  "
       ]
      },
      {
       "output_type": "stream",
       "stream": "stdout",
       "text": [
        "BGRTKE  "
       ]
      },
      {
       "output_type": "stream",
       "stream": "stdout",
       "text": [
        "T8IXZF  "
       ]
      },
      {
       "output_type": "stream",
       "stream": "stdout",
       "text": [
        "AIJ12N  "
       ]
      },
      {
       "output_type": "stream",
       "stream": "stdout",
       "text": [
        "3CDFKV  "
       ]
      },
      {
       "output_type": "stream",
       "stream": "stdout",
       "text": [
        "TVKRF6  "
       ]
      },
      {
       "output_type": "stream",
       "stream": "stdout",
       "text": [
        "STELNJ  "
       ]
      },
      {
       "output_type": "stream",
       "stream": "stdout",
       "text": [
        "RFAOD8  "
       ]
      },
      {
       "output_type": "stream",
       "stream": "stdout",
       "text": [
        "KGTEE3  "
       ]
      },
      {
       "output_type": "stream",
       "stream": "stdout",
       "text": [
        "48VMWS  "
       ]
      },
      {
       "output_type": "stream",
       "stream": "stdout",
       "text": [
        "LDZAX3  "
       ]
      },
      {
       "output_type": "stream",
       "stream": "stdout",
       "text": [
        "XGTXKE  "
       ]
      },
      {
       "output_type": "stream",
       "stream": "stdout",
       "text": [
        "CKDBIW  "
       ]
      },
      {
       "output_type": "stream",
       "stream": "stdout",
       "text": [
        "F4M06Z  "
       ]
      },
      {
       "output_type": "stream",
       "stream": "stdout",
       "text": [
        "3RP6HV  "
       ]
      },
      {
       "output_type": "stream",
       "stream": "stdout",
       "text": [
        "X8I9KB  "
       ]
      },
      {
       "output_type": "stream",
       "stream": "stdout",
       "text": [
        "457YRZ  "
       ]
      },
      {
       "output_type": "stream",
       "stream": "stdout",
       "text": [
        "24K2IU  "
       ]
      },
      {
       "output_type": "stream",
       "stream": "stdout",
       "text": [
        "N4KBWJ  "
       ]
      },
      {
       "output_type": "stream",
       "stream": "stdout",
       "text": [
        "GI9A17  "
       ]
      },
      {
       "output_type": "stream",
       "stream": "stdout",
       "text": [
        "QA0PSN  "
       ]
      },
      {
       "output_type": "stream",
       "stream": "stdout",
       "text": [
        "6FCGAX  "
       ]
      },
      {
       "output_type": "stream",
       "stream": "stdout",
       "text": [
        "VAR7NP  "
       ]
      },
      {
       "output_type": "stream",
       "stream": "stdout",
       "text": [
        "3DKJUD  "
       ]
      },
      {
       "output_type": "stream",
       "stream": "stdout",
       "text": [
        "671D8Q  "
       ]
      },
      {
       "output_type": "stream",
       "stream": "stdout",
       "text": [
        "O9CE10  "
       ]
      },
      {
       "output_type": "stream",
       "stream": "stdout",
       "text": [
        "RRQ61X  "
       ]
      },
      {
       "output_type": "stream",
       "stream": "stdout",
       "text": [
        "85WJTV  "
       ]
      },
      {
       "output_type": "stream",
       "stream": "stdout",
       "text": [
        "AJ6I80  "
       ]
      },
      {
       "output_type": "stream",
       "stream": "stdout",
       "text": [
        "UK7VVQ  "
       ]
      },
      {
       "output_type": "stream",
       "stream": "stdout",
       "text": [
        "0Z6VQA  "
       ]
      },
      {
       "output_type": "stream",
       "stream": "stdout",
       "text": [
        "N6B8NY  "
       ]
      },
      {
       "output_type": "stream",
       "stream": "stdout",
       "text": [
        "MJ61HQ  "
       ]
      },
      {
       "output_type": "stream",
       "stream": "stdout",
       "text": [
        "GLTBBW  "
       ]
      },
      {
       "output_type": "stream",
       "stream": "stdout",
       "text": [
        "HKF38K  "
       ]
      },
      {
       "output_type": "stream",
       "stream": "stdout",
       "text": [
        "9G2VMU  "
       ]
      },
      {
       "output_type": "stream",
       "stream": "stdout",
       "text": [
        "282ZQ9  "
       ]
      },
      {
       "output_type": "stream",
       "stream": "stdout",
       "text": [
        "ZEZV88  "
       ]
      },
      {
       "output_type": "stream",
       "stream": "stdout",
       "text": [
        "FYRZ3Y  "
       ]
      },
      {
       "output_type": "stream",
       "stream": "stdout",
       "text": [
        "AEVUY0  "
       ]
      },
      {
       "output_type": "stream",
       "stream": "stdout",
       "text": [
        "8MF743  "
       ]
      },
      {
       "output_type": "stream",
       "stream": "stdout",
       "text": [
        "K0A8G7  "
       ]
      },
      {
       "output_type": "stream",
       "stream": "stdout",
       "text": [
        "J30ZMJ  "
       ]
      },
      {
       "output_type": "stream",
       "stream": "stdout",
       "text": [
        "78RPAK  "
       ]
      },
      {
       "output_type": "stream",
       "stream": "stdout",
       "text": [
        "GMFABT  "
       ]
      },
      {
       "output_type": "stream",
       "stream": "stdout",
       "text": [
        "MARI3T  "
       ]
      },
      {
       "output_type": "stream",
       "stream": "stdout",
       "text": [
        "6ZDNC2  "
       ]
      },
      {
       "output_type": "stream",
       "stream": "stdout",
       "text": [
        "X0Z8XM  "
       ]
      },
      {
       "output_type": "stream",
       "stream": "stdout",
       "text": [
        "T7L1NV  "
       ]
      },
      {
       "output_type": "stream",
       "stream": "stdout",
       "text": [
        "7JDPK2  "
       ]
      },
      {
       "output_type": "stream",
       "stream": "stdout",
       "text": [
        "GFD2NX  "
       ]
      },
      {
       "output_type": "stream",
       "stream": "stdout",
       "text": [
        "37ETW2  "
       ]
      },
      {
       "output_type": "stream",
       "stream": "stdout",
       "text": [
        "6VD0AT  "
       ]
      },
      {
       "output_type": "stream",
       "stream": "stdout",
       "text": [
        "1QZJ9F  "
       ]
      },
      {
       "output_type": "stream",
       "stream": "stdout",
       "text": [
        "6PN139  "
       ]
      },
      {
       "output_type": "stream",
       "stream": "stdout",
       "text": [
        "NWNEGW  "
       ]
      },
      {
       "output_type": "stream",
       "stream": "stdout",
       "text": [
        "7CKT0K  "
       ]
      },
      {
       "output_type": "stream",
       "stream": "stdout",
       "text": [
        "QEA6XX  "
       ]
      },
      {
       "output_type": "stream",
       "stream": "stdout",
       "text": [
        "8V96NX  "
       ]
      },
      {
       "output_type": "stream",
       "stream": "stdout",
       "text": [
        "OF2SMI  "
       ]
      },
      {
       "output_type": "stream",
       "stream": "stdout",
       "text": [
        "4D5XHR  "
       ]
      },
      {
       "output_type": "stream",
       "stream": "stdout",
       "text": [
        "W387GA  "
       ]
      },
      {
       "output_type": "stream",
       "stream": "stdout",
       "text": [
        "LV761W  "
       ]
      },
      {
       "output_type": "stream",
       "stream": "stdout",
       "text": [
        "3M4UKY  "
       ]
      },
      {
       "output_type": "stream",
       "stream": "stdout",
       "text": [
        "CYHIMO  "
       ]
      },
      {
       "output_type": "stream",
       "stream": "stdout",
       "text": [
        "HMEO0B  "
       ]
      },
      {
       "output_type": "stream",
       "stream": "stdout",
       "text": [
        "LQQ2HZ  "
       ]
      },
      {
       "output_type": "stream",
       "stream": "stdout",
       "text": [
        "ZQ568T  "
       ]
      },
      {
       "output_type": "stream",
       "stream": "stdout",
       "text": [
        "F8ASE6  "
       ]
      },
      {
       "output_type": "stream",
       "stream": "stdout",
       "text": [
        "4CO29X  "
       ]
      },
      {
       "output_type": "stream",
       "stream": "stdout",
       "text": [
        "YO77QK  "
       ]
      },
      {
       "output_type": "stream",
       "stream": "stdout",
       "text": [
        "J7K42S  "
       ]
      },
      {
       "output_type": "stream",
       "stream": "stdout",
       "text": [
        "1YEYQ6  "
       ]
      },
      {
       "output_type": "stream",
       "stream": "stdout",
       "text": [
        "X8M6GO  "
       ]
      },
      {
       "output_type": "stream",
       "stream": "stdout",
       "text": [
        "5C2N5A  "
       ]
      },
      {
       "output_type": "stream",
       "stream": "stdout",
       "text": [
        "72P2UE  "
       ]
      },
      {
       "output_type": "stream",
       "stream": "stdout",
       "text": [
        "RHKD3F  "
       ]
      },
      {
       "output_type": "stream",
       "stream": "stdout",
       "text": [
        "9FWAJZ  "
       ]
      },
      {
       "output_type": "stream",
       "stream": "stdout",
       "text": [
        "POL750  "
       ]
      },
      {
       "output_type": "stream",
       "stream": "stdout",
       "text": [
        "6LGEMN  "
       ]
      },
      {
       "output_type": "stream",
       "stream": "stdout",
       "text": [
        "UNFCNK  "
       ]
      },
      {
       "output_type": "stream",
       "stream": "stdout",
       "text": [
        "M457F4  "
       ]
      },
      {
       "output_type": "stream",
       "stream": "stdout",
       "text": [
        "PUH7DV  "
       ]
      },
      {
       "output_type": "stream",
       "stream": "stdout",
       "text": [
        "78OF3Q  "
       ]
      },
      {
       "output_type": "stream",
       "stream": "stdout",
       "text": [
        "D5REWT  "
       ]
      },
      {
       "output_type": "stream",
       "stream": "stdout",
       "text": [
        "A8DU9Y  "
       ]
      },
      {
       "output_type": "stream",
       "stream": "stdout",
       "text": [
        "VAY8CK  "
       ]
      },
      {
       "output_type": "stream",
       "stream": "stdout",
       "text": [
        "VQ60DZ  "
       ]
      },
      {
       "output_type": "stream",
       "stream": "stdout",
       "text": [
        "9H2OY0  "
       ]
      },
      {
       "output_type": "stream",
       "stream": "stdout",
       "text": [
        "HQAFIN  "
       ]
      },
      {
       "output_type": "stream",
       "stream": "stdout",
       "text": [
        "RU1MXC  "
       ]
      },
      {
       "output_type": "stream",
       "stream": "stdout",
       "text": [
        "0VSXRN  "
       ]
      },
      {
       "output_type": "stream",
       "stream": "stdout",
       "text": [
        "57NDOR  "
       ]
      },
      {
       "output_type": "stream",
       "stream": "stdout",
       "text": [
        "ABR97Z  "
       ]
      },
      {
       "output_type": "stream",
       "stream": "stdout",
       "text": [
        "GXSRD4  "
       ]
      },
      {
       "output_type": "stream",
       "stream": "stdout",
       "text": [
        "ZJ1UF7  "
       ]
      },
      {
       "output_type": "stream",
       "stream": "stdout",
       "text": [
        "QKIWAF  "
       ]
      },
      {
       "output_type": "stream",
       "stream": "stdout",
       "text": [
        "4GYH18  "
       ]
      },
      {
       "output_type": "stream",
       "stream": "stdout",
       "text": [
        "GS20HV  "
       ]
      },
      {
       "output_type": "stream",
       "stream": "stdout",
       "text": [
        "FAXX85  "
       ]
      },
      {
       "output_type": "stream",
       "stream": "stdout",
       "text": [
        "RFCPGP  "
       ]
      },
      {
       "output_type": "stream",
       "stream": "stdout",
       "text": [
        "Y28E6R  "
       ]
      },
      {
       "output_type": "stream",
       "stream": "stdout",
       "text": [
        "I4V5BV  "
       ]
      },
      {
       "output_type": "stream",
       "stream": "stdout",
       "text": [
        "VS0EZC  "
       ]
      },
      {
       "output_type": "stream",
       "stream": "stdout",
       "text": [
        "WQQ8X2  "
       ]
      },
      {
       "output_type": "stream",
       "stream": "stdout",
       "text": [
        "VTP45N  "
       ]
      },
      {
       "output_type": "stream",
       "stream": "stdout",
       "text": [
        "95W94D  "
       ]
      },
      {
       "output_type": "stream",
       "stream": "stdout",
       "text": [
        "1UL9LV  "
       ]
      },
      {
       "output_type": "stream",
       "stream": "stdout",
       "text": [
        "6HNTZ4  "
       ]
      },
      {
       "output_type": "stream",
       "stream": "stdout",
       "text": [
        "3O5H9R  "
       ]
      },
      {
       "output_type": "stream",
       "stream": "stdout",
       "text": [
        "HLQJTF  "
       ]
      },
      {
       "output_type": "stream",
       "stream": "stdout",
       "text": [
        "DQOGTG  "
       ]
      },
      {
       "output_type": "stream",
       "stream": "stdout",
       "text": [
        "K11RBB  "
       ]
      },
      {
       "output_type": "stream",
       "stream": "stdout",
       "text": [
        "KB3CO0  "
       ]
      },
      {
       "output_type": "stream",
       "stream": "stdout",
       "text": [
        "4J7TD2  "
       ]
      },
      {
       "output_type": "stream",
       "stream": "stdout",
       "text": [
        "3HIU8N  "
       ]
      },
      {
       "output_type": "stream",
       "stream": "stdout",
       "text": [
        "RA6517  "
       ]
      },
      {
       "output_type": "stream",
       "stream": "stdout",
       "text": [
        "15C5XU  "
       ]
      },
      {
       "output_type": "stream",
       "stream": "stdout",
       "text": [
        "2YJU9G  "
       ]
      },
      {
       "output_type": "stream",
       "stream": "stdout",
       "text": [
        "UD8N1D  "
       ]
      },
      {
       "output_type": "stream",
       "stream": "stdout",
       "text": [
        "JFIYBH  "
       ]
      },
      {
       "output_type": "stream",
       "stream": "stdout",
       "text": [
        "UNFA2M  "
       ]
      },
      {
       "output_type": "stream",
       "stream": "stdout",
       "text": [
        "XS38I0  "
       ]
      },
      {
       "output_type": "stream",
       "stream": "stdout",
       "text": [
        "LONEN5  "
       ]
      },
      {
       "output_type": "stream",
       "stream": "stdout",
       "text": [
        "WPGU3A  "
       ]
      },
      {
       "output_type": "stream",
       "stream": "stdout",
       "text": [
        "XXK1FC  "
       ]
      },
      {
       "output_type": "stream",
       "stream": "stdout",
       "text": [
        "E07SRS  "
       ]
      },
      {
       "output_type": "stream",
       "stream": "stdout",
       "text": [
        "R9FV94  "
       ]
      },
      {
       "output_type": "stream",
       "stream": "stdout",
       "text": [
        "UPB0Q8  "
       ]
      },
      {
       "output_type": "stream",
       "stream": "stdout",
       "text": [
        "1MQ3NL  "
       ]
      },
      {
       "output_type": "stream",
       "stream": "stdout",
       "text": [
        "P4YFVA  "
       ]
      },
      {
       "output_type": "stream",
       "stream": "stdout",
       "text": [
        "J0I29A  "
       ]
      },
      {
       "output_type": "stream",
       "stream": "stdout",
       "text": [
        "32T6ZK  "
       ]
      },
      {
       "output_type": "stream",
       "stream": "stdout",
       "text": [
        "9424OC  "
       ]
      },
      {
       "output_type": "stream",
       "stream": "stdout",
       "text": [
        "E2KKJ8  "
       ]
      },
      {
       "output_type": "stream",
       "stream": "stdout",
       "text": [
        "6H6JEI  "
       ]
      },
      {
       "output_type": "stream",
       "stream": "stdout",
       "text": [
        "M6YSA9  "
       ]
      },
      {
       "output_type": "stream",
       "stream": "stdout",
       "text": [
        "6GV7M7  "
       ]
      },
      {
       "output_type": "stream",
       "stream": "stdout",
       "text": [
        "DNL9IV  "
       ]
      },
      {
       "output_type": "stream",
       "stream": "stdout",
       "text": [
        "APEEA2  "
       ]
      },
      {
       "output_type": "stream",
       "stream": "stdout",
       "text": [
        "BRMLOE  "
       ]
      },
      {
       "output_type": "stream",
       "stream": "stdout",
       "text": [
        "IDWCCD  "
       ]
      },
      {
       "output_type": "stream",
       "stream": "stdout",
       "text": [
        "ZCWE4G  "
       ]
      },
      {
       "output_type": "stream",
       "stream": "stdout",
       "text": [
        "MZUM0G  "
       ]
      },
      {
       "output_type": "stream",
       "stream": "stdout",
       "text": [
        "K6L3E1  "
       ]
      },
      {
       "output_type": "stream",
       "stream": "stdout",
       "text": [
        "GG5QN6  "
       ]
      },
      {
       "output_type": "stream",
       "stream": "stdout",
       "text": [
        "BAJYQU  "
       ]
      },
      {
       "output_type": "stream",
       "stream": "stdout",
       "text": [
        "OYV6SY  "
       ]
      },
      {
       "output_type": "stream",
       "stream": "stdout",
       "text": [
        "LAPGW2  "
       ]
      },
      {
       "output_type": "stream",
       "stream": "stdout",
       "text": [
        "PN721N  "
       ]
      },
      {
       "output_type": "stream",
       "stream": "stdout",
       "text": [
        "5M2EVF  "
       ]
      },
      {
       "output_type": "stream",
       "stream": "stdout",
       "text": [
        "IWKSDP  "
       ]
      },
      {
       "output_type": "stream",
       "stream": "stdout",
       "text": [
        "32MOYT  "
       ]
      },
      {
       "output_type": "stream",
       "stream": "stdout",
       "text": [
        "7Z7UJE  "
       ]
      },
      {
       "output_type": "stream",
       "stream": "stdout",
       "text": [
        "6L925B  "
       ]
      },
      {
       "output_type": "stream",
       "stream": "stdout",
       "text": [
        "N4GI02  "
       ]
      },
      {
       "output_type": "stream",
       "stream": "stdout",
       "text": [
        "AAX99V  "
       ]
      },
      {
       "output_type": "stream",
       "stream": "stdout",
       "text": [
        "FTYIP9  "
       ]
      },
      {
       "output_type": "stream",
       "stream": "stdout",
       "text": [
        "PKSCVF  "
       ]
      },
      {
       "output_type": "stream",
       "stream": "stdout",
       "text": [
        "WWKJCR  "
       ]
      },
      {
       "output_type": "stream",
       "stream": "stdout",
       "text": [
        "UC9CH4  "
       ]
      },
      {
       "output_type": "stream",
       "stream": "stdout",
       "text": [
        "79KPO8  "
       ]
      },
      {
       "output_type": "stream",
       "stream": "stdout",
       "text": [
        "VRFWV7  "
       ]
      },
      {
       "output_type": "stream",
       "stream": "stdout",
       "text": [
        "SJP2Z0  "
       ]
      },
      {
       "output_type": "stream",
       "stream": "stdout",
       "text": [
        "7A9PII  "
       ]
      },
      {
       "output_type": "stream",
       "stream": "stdout",
       "text": [
        "PGQ3QF  "
       ]
      },
      {
       "output_type": "stream",
       "stream": "stdout",
       "text": [
        "P6MH6P  "
       ]
      },
      {
       "output_type": "stream",
       "stream": "stdout",
       "text": [
        "RYQ2LN  "
       ]
      },
      {
       "output_type": "stream",
       "stream": "stdout",
       "text": [
        "SATVRN  "
       ]
      },
      {
       "output_type": "stream",
       "stream": "stdout",
       "text": [
        "1JO672  "
       ]
      },
      {
       "output_type": "stream",
       "stream": "stdout",
       "text": [
        "SURPHD  "
       ]
      },
      {
       "output_type": "stream",
       "stream": "stdout",
       "text": [
        "H65BIY  "
       ]
      },
      {
       "output_type": "stream",
       "stream": "stdout",
       "text": [
        "9WYYWW  "
       ]
      },
      {
       "output_type": "stream",
       "stream": "stdout",
       "text": [
        "0KSFNY  "
       ]
      },
      {
       "output_type": "stream",
       "stream": "stdout",
       "text": [
        "BS3SS5  "
       ]
      },
      {
       "output_type": "stream",
       "stream": "stdout",
       "text": [
        "WZPC68  "
       ]
      },
      {
       "output_type": "stream",
       "stream": "stdout",
       "text": [
        "5APQEV  "
       ]
      },
      {
       "output_type": "stream",
       "stream": "stdout",
       "text": [
        "4ETFWE  "
       ]
      },
      {
       "output_type": "stream",
       "stream": "stdout",
       "text": [
        "59OWDV  "
       ]
      },
      {
       "output_type": "stream",
       "stream": "stdout",
       "text": [
        "5HGE55  "
       ]
      },
      {
       "output_type": "stream",
       "stream": "stdout",
       "text": [
        "1TVY0E  "
       ]
      },
      {
       "output_type": "stream",
       "stream": "stdout",
       "text": [
        "1L7BYR  "
       ]
      },
      {
       "output_type": "stream",
       "stream": "stdout",
       "text": [
        "IYHO8Q  "
       ]
      },
      {
       "output_type": "stream",
       "stream": "stdout",
       "text": [
        "JA0W6U  "
       ]
      },
      {
       "output_type": "stream",
       "stream": "stdout",
       "text": [
        "HK5XRB  "
       ]
      },
      {
       "output_type": "stream",
       "stream": "stdout",
       "text": [
        "LABEUD  "
       ]
      },
      {
       "output_type": "stream",
       "stream": "stdout",
       "text": [
        "Z6OSUK  "
       ]
      },
      {
       "output_type": "stream",
       "stream": "stdout",
       "text": [
        "LGQX2W  "
       ]
      },
      {
       "output_type": "stream",
       "stream": "stdout",
       "text": [
        "GWKE7K  "
       ]
      },
      {
       "output_type": "stream",
       "stream": "stdout",
       "text": [
        "7G6ESK  "
       ]
      },
      {
       "output_type": "stream",
       "stream": "stdout",
       "text": [
        "7OUCY5  "
       ]
      },
      {
       "output_type": "stream",
       "stream": "stdout",
       "text": [
        "VPKT9E  "
       ]
      },
      {
       "output_type": "stream",
       "stream": "stdout",
       "text": [
        "G2ADE5  "
       ]
      },
      {
       "output_type": "stream",
       "stream": "stdout",
       "text": [
        "1OJC9X  "
       ]
      },
      {
       "output_type": "stream",
       "stream": "stdout",
       "text": [
        "G9CVWM  "
       ]
      },
      {
       "output_type": "stream",
       "stream": "stdout",
       "text": [
        "FOI97S  "
       ]
      },
      {
       "output_type": "stream",
       "stream": "stdout",
       "text": [
        "52F1G1  "
       ]
      },
      {
       "output_type": "stream",
       "stream": "stdout",
       "text": [
        "58I178  "
       ]
      },
      {
       "output_type": "stream",
       "stream": "stdout",
       "text": [
        "7SAXG0  "
       ]
      },
      {
       "output_type": "stream",
       "stream": "stdout",
       "text": [
        "K2LD18  "
       ]
      },
      {
       "output_type": "stream",
       "stream": "stdout",
       "text": [
        "UI3NG5  "
       ]
      },
      {
       "output_type": "stream",
       "stream": "stdout",
       "text": [
        "3RWQTB  "
       ]
      },
      {
       "output_type": "stream",
       "stream": "stdout",
       "text": [
        "WZBUM6  "
       ]
      },
      {
       "output_type": "stream",
       "stream": "stdout",
       "text": [
        "SYZRQF  "
       ]
      },
      {
       "output_type": "stream",
       "stream": "stdout",
       "text": [
        "X87L2Q  "
       ]
      },
      {
       "output_type": "stream",
       "stream": "stdout",
       "text": [
        "WJ63I4  "
       ]
      },
      {
       "output_type": "stream",
       "stream": "stdout",
       "text": [
        "H6BEQR  "
       ]
      },
      {
       "output_type": "stream",
       "stream": "stdout",
       "text": [
        "Q5FHO2  "
       ]
      },
      {
       "output_type": "stream",
       "stream": "stdout",
       "text": [
        "LUKYIY  "
       ]
      },
      {
       "output_type": "stream",
       "stream": "stdout",
       "text": [
        "RH7XQX  "
       ]
      },
      {
       "output_type": "stream",
       "stream": "stdout",
       "text": [
        "ZEMCF0  "
       ]
      },
      {
       "output_type": "stream",
       "stream": "stdout",
       "text": [
        "TYA0K9  "
       ]
      },
      {
       "output_type": "stream",
       "stream": "stdout",
       "text": [
        "VUJNS1  "
       ]
      },
      {
       "output_type": "stream",
       "stream": "stdout",
       "text": [
        "WDWYD5  "
       ]
      },
      {
       "output_type": "stream",
       "stream": "stdout",
       "text": [
        "V38F22  "
       ]
      },
      {
       "output_type": "stream",
       "stream": "stdout",
       "text": [
        "P5ZA1L  "
       ]
      },
      {
       "output_type": "stream",
       "stream": "stdout",
       "text": [
        "EGIXGE  "
       ]
      },
      {
       "output_type": "stream",
       "stream": "stdout",
       "text": [
        "Z0V18H  "
       ]
      },
      {
       "output_type": "stream",
       "stream": "stdout",
       "text": [
        "PJQB3Z  "
       ]
      },
      {
       "output_type": "stream",
       "stream": "stdout",
       "text": [
        "7EM22G  "
       ]
      },
      {
       "output_type": "stream",
       "stream": "stdout",
       "text": [
        "3DSYC4  "
       ]
      },
      {
       "output_type": "stream",
       "stream": "stdout",
       "text": [
        "VVOQP5  "
       ]
      },
      {
       "output_type": "stream",
       "stream": "stdout",
       "text": [
        "K3WHRE  "
       ]
      },
      {
       "output_type": "stream",
       "stream": "stdout",
       "text": [
        "GP5YG4  "
       ]
      },
      {
       "output_type": "stream",
       "stream": "stdout",
       "text": [
        "JR24ZV  "
       ]
      },
      {
       "output_type": "stream",
       "stream": "stdout",
       "text": [
        "HBGXWE  "
       ]
      },
      {
       "output_type": "stream",
       "stream": "stdout",
       "text": [
        "RJZH8D  "
       ]
      },
      {
       "output_type": "stream",
       "stream": "stdout",
       "text": [
        "6ZXI1S  "
       ]
      },
      {
       "output_type": "stream",
       "stream": "stdout",
       "text": [
        "DC6VJ3  "
       ]
      },
      {
       "output_type": "stream",
       "stream": "stdout",
       "text": [
        "DWNJKF  "
       ]
      },
      {
       "output_type": "stream",
       "stream": "stdout",
       "text": [
        "UP8BGT  "
       ]
      },
      {
       "output_type": "stream",
       "stream": "stdout",
       "text": [
        "CM916B  "
       ]
      },
      {
       "output_type": "stream",
       "stream": "stdout",
       "text": [
        "6OKSTO  "
       ]
      },
      {
       "output_type": "stream",
       "stream": "stdout",
       "text": [
        "62AMVG  "
       ]
      },
      {
       "output_type": "stream",
       "stream": "stdout",
       "text": [
        "MU55EQ  "
       ]
      },
      {
       "output_type": "stream",
       "stream": "stdout",
       "text": [
        "TKKOM7  "
       ]
      },
      {
       "output_type": "stream",
       "stream": "stdout",
       "text": [
        "L6JOID  "
       ]
      },
      {
       "output_type": "stream",
       "stream": "stdout",
       "text": [
        "XWLUWQ  "
       ]
      },
      {
       "output_type": "stream",
       "stream": "stdout",
       "text": [
        "ZU21U2  "
       ]
      },
      {
       "output_type": "stream",
       "stream": "stdout",
       "text": [
        "GWYFYH  "
       ]
      },
      {
       "output_type": "stream",
       "stream": "stdout",
       "text": [
        "P14QZR  "
       ]
      },
      {
       "output_type": "stream",
       "stream": "stdout",
       "text": [
        "GSHL1A  "
       ]
      },
      {
       "output_type": "stream",
       "stream": "stdout",
       "text": [
        "29T247  "
       ]
      },
      {
       "output_type": "stream",
       "stream": "stdout",
       "text": [
        "UQ317B  "
       ]
      },
      {
       "output_type": "stream",
       "stream": "stdout",
       "text": [
        "MMT3NT  "
       ]
      },
      {
       "output_type": "stream",
       "stream": "stdout",
       "text": [
        "54S2I4  "
       ]
      },
      {
       "output_type": "stream",
       "stream": "stdout",
       "text": [
        "QJZ6RF  "
       ]
      },
      {
       "output_type": "stream",
       "stream": "stdout",
       "text": [
        "KKXXWR  "
       ]
      },
      {
       "output_type": "stream",
       "stream": "stdout",
       "text": [
        "2JM3GW  "
       ]
      },
      {
       "output_type": "stream",
       "stream": "stdout",
       "text": [
        "N9X8EA  "
       ]
      },
      {
       "output_type": "stream",
       "stream": "stdout",
       "text": [
        "I00949  "
       ]
      },
      {
       "output_type": "stream",
       "stream": "stdout",
       "text": [
        "T76CHZ  "
       ]
      },
      {
       "output_type": "stream",
       "stream": "stdout",
       "text": [
        "3UG5DQ  "
       ]
      },
      {
       "output_type": "stream",
       "stream": "stdout",
       "text": [
        "BMWS4I  "
       ]
      },
      {
       "output_type": "stream",
       "stream": "stdout",
       "text": [
        "6DIEN5  "
       ]
      },
      {
       "output_type": "stream",
       "stream": "stdout",
       "text": [
        "VVCOOB  "
       ]
      },
      {
       "output_type": "stream",
       "stream": "stdout",
       "text": [
        "ANOQG6  "
       ]
      },
      {
       "output_type": "stream",
       "stream": "stdout",
       "text": [
        "4WXB4T \n"
       ]
      }
     ],
     "prompt_number": "*"
    },
    {
     "cell_type": "code",
     "collapsed": false,
     "input": [
      "correct_cs, total_cs = matching.folderMatch(directory, dt, matching.clusterMatch, thresholds_cluster, keypoint, descriptor)"
     ],
     "language": "python",
     "metadata": {},
     "outputs": [
      {
       "output_type": "stream",
       "stream": "stdout",
       "text": [
        "2Z1K6C  "
       ]
      },
      {
       "output_type": "stream",
       "stream": "stdout",
       "text": [
        "1G8ML7  "
       ]
      },
      {
       "output_type": "stream",
       "stream": "stdout",
       "text": [
        "N8ZL5S  "
       ]
      },
      {
       "output_type": "stream",
       "stream": "stdout",
       "text": [
        "80WQUR  "
       ]
      },
      {
       "output_type": "stream",
       "stream": "stdout",
       "text": [
        "FZ7Y7P  "
       ]
      },
      {
       "output_type": "stream",
       "stream": "stdout",
       "text": [
        "DQD1SV  "
       ]
      },
      {
       "output_type": "stream",
       "stream": "stdout",
       "text": [
        "3A4O9O  "
       ]
      },
      {
       "output_type": "stream",
       "stream": "stdout",
       "text": [
        "KWBC3Y  "
       ]
      },
      {
       "output_type": "stream",
       "stream": "stdout",
       "text": [
        "8H5ZWL  "
       ]
      },
      {
       "output_type": "stream",
       "stream": "stdout",
       "text": [
        "LTTDP3  "
       ]
      },
      {
       "output_type": "stream",
       "stream": "stdout",
       "text": [
        "LMX1E1  "
       ]
      },
      {
       "output_type": "stream",
       "stream": "stdout",
       "text": [
        "TISHXN  "
       ]
      },
      {
       "output_type": "stream",
       "stream": "stdout",
       "text": [
        "EM5ACH  "
       ]
      },
      {
       "output_type": "stream",
       "stream": "stdout",
       "text": [
        "9OIRPZ  "
       ]
      },
      {
       "output_type": "stream",
       "stream": "stdout",
       "text": [
        "4E2RRN  "
       ]
      },
      {
       "output_type": "stream",
       "stream": "stdout",
       "text": [
        "QMRBV3  "
       ]
      },
      {
       "output_type": "stream",
       "stream": "stdout",
       "text": [
        "PTY26L  "
       ]
      },
      {
       "output_type": "stream",
       "stream": "stdout",
       "text": [
        "O5KS4T  "
       ]
      },
      {
       "output_type": "stream",
       "stream": "stdout",
       "text": [
        "R0646X  "
       ]
      },
      {
       "output_type": "stream",
       "stream": "stdout",
       "text": [
        "40VXKM  "
       ]
      },
      {
       "output_type": "stream",
       "stream": "stdout",
       "text": [
        "TQWDXL  "
       ]
      },
      {
       "output_type": "stream",
       "stream": "stdout",
       "text": [
        "7E75DI  "
       ]
      },
      {
       "output_type": "stream",
       "stream": "stdout",
       "text": [
        "HTTBV4  "
       ]
      },
      {
       "output_type": "stream",
       "stream": "stdout",
       "text": [
        "M4SDMI  "
       ]
      },
      {
       "output_type": "stream",
       "stream": "stdout",
       "text": [
        "ZDLKYP  "
       ]
      },
      {
       "output_type": "stream",
       "stream": "stdout",
       "text": [
        "RSX4C0  "
       ]
      },
      {
       "output_type": "stream",
       "stream": "stdout",
       "text": [
        "2RWBM5  "
       ]
      },
      {
       "output_type": "stream",
       "stream": "stdout",
       "text": [
        "ABDX1R  "
       ]
      },
      {
       "output_type": "stream",
       "stream": "stdout",
       "text": [
        "5JXEBK  "
       ]
      },
      {
       "output_type": "stream",
       "stream": "stdout",
       "text": [
        "JTWQ0P  "
       ]
      },
      {
       "output_type": "stream",
       "stream": "stdout",
       "text": [
        "QMQO7I  "
       ]
      },
      {
       "output_type": "stream",
       "stream": "stdout",
       "text": [
        "XV9FBA  "
       ]
      },
      {
       "output_type": "stream",
       "stream": "stdout",
       "text": [
        "C59YBW  "
       ]
      },
      {
       "output_type": "stream",
       "stream": "stdout",
       "text": [
        "73I4OJ  "
       ]
      },
      {
       "output_type": "stream",
       "stream": "stdout",
       "text": [
        "4DRQ8W  "
       ]
      },
      {
       "output_type": "stream",
       "stream": "stdout",
       "text": [
        "30GRRM  "
       ]
      },
      {
       "output_type": "stream",
       "stream": "stdout",
       "text": [
        "GYU94F  "
       ]
      },
      {
       "output_type": "stream",
       "stream": "stdout",
       "text": [
        "RXSATM  "
       ]
      },
      {
       "output_type": "stream",
       "stream": "stdout",
       "text": [
        "ON8XNZ  "
       ]
      },
      {
       "output_type": "stream",
       "stream": "stdout",
       "text": [
        "UYO3FK  "
       ]
      },
      {
       "output_type": "stream",
       "stream": "stdout",
       "text": [
        "U8VD2L  "
       ]
      },
      {
       "output_type": "stream",
       "stream": "stdout",
       "text": [
        "Z4OJVA  "
       ]
      },
      {
       "output_type": "stream",
       "stream": "stdout",
       "text": [
        "DISHQG  "
       ]
      },
      {
       "output_type": "stream",
       "stream": "stdout",
       "text": [
        "GXIP8V  "
       ]
      },
      {
       "output_type": "stream",
       "stream": "stdout",
       "text": [
        "0LY95L  "
       ]
      },
      {
       "output_type": "stream",
       "stream": "stdout",
       "text": [
        "ZLI3NJ  "
       ]
      },
      {
       "output_type": "stream",
       "stream": "stdout",
       "text": [
        "506NNA  "
       ]
      },
      {
       "output_type": "stream",
       "stream": "stdout",
       "text": [
        "9GR9LR  "
       ]
      },
      {
       "output_type": "stream",
       "stream": "stdout",
       "text": [
        "HKC7GO  "
       ]
      },
      {
       "output_type": "stream",
       "stream": "stdout",
       "text": [
        "NR1A0E  "
       ]
      },
      {
       "output_type": "stream",
       "stream": "stdout",
       "text": [
        "C990P0  "
       ]
      },
      {
       "output_type": "stream",
       "stream": "stdout",
       "text": [
        "5MMNGA  "
       ]
      },
      {
       "output_type": "stream",
       "stream": "stdout",
       "text": [
        "IU0ZJX  "
       ]
      },
      {
       "output_type": "stream",
       "stream": "stdout",
       "text": [
        "DX4VR8  "
       ]
      },
      {
       "output_type": "stream",
       "stream": "stdout",
       "text": [
        "4VYIZG  "
       ]
      },
      {
       "output_type": "stream",
       "stream": "stdout",
       "text": [
        "2X3EKZ  "
       ]
      },
      {
       "output_type": "stream",
       "stream": "stdout",
       "text": [
        "1AG0DK  "
       ]
      },
      {
       "output_type": "stream",
       "stream": "stdout",
       "text": [
        "UYC6W4  "
       ]
      },
      {
       "output_type": "stream",
       "stream": "stdout",
       "text": [
        "O0MD4E  "
       ]
      },
      {
       "output_type": "stream",
       "stream": "stdout",
       "text": [
        "5EPS6U  "
       ]
      },
      {
       "output_type": "stream",
       "stream": "stdout",
       "text": [
        "OZJV1X  "
       ]
      },
      {
       "output_type": "stream",
       "stream": "stdout",
       "text": [
        "027XAS  "
       ]
      },
      {
       "output_type": "stream",
       "stream": "stdout",
       "text": [
        "6GQH93  "
       ]
      },
      {
       "output_type": "stream",
       "stream": "stdout",
       "text": [
        "9DUE6Z  "
       ]
      },
      {
       "output_type": "stream",
       "stream": "stdout",
       "text": [
        "Z2DT1R  "
       ]
      },
      {
       "output_type": "stream",
       "stream": "stdout",
       "text": [
        "RVN6CE  "
       ]
      },
      {
       "output_type": "stream",
       "stream": "stdout",
       "text": [
        "L4GZX3  "
       ]
      },
      {
       "output_type": "stream",
       "stream": "stdout",
       "text": [
        "X7RNOZ  "
       ]
      },
      {
       "output_type": "stream",
       "stream": "stdout",
       "text": [
        "Z5V44Y  "
       ]
      },
      {
       "output_type": "stream",
       "stream": "stdout",
       "text": [
        "ZJVEE5  "
       ]
      },
      {
       "output_type": "stream",
       "stream": "stdout",
       "text": [
        "562WAS  "
       ]
      },
      {
       "output_type": "stream",
       "stream": "stdout",
       "text": [
        "OYTGYJ  "
       ]
      },
      {
       "output_type": "stream",
       "stream": "stdout",
       "text": [
        "FVQKXZ  "
       ]
      },
      {
       "output_type": "stream",
       "stream": "stdout",
       "text": [
        "EWNOIH  "
       ]
      },
      {
       "output_type": "stream",
       "stream": "stdout",
       "text": [
        "K65L9N  "
       ]
      },
      {
       "output_type": "stream",
       "stream": "stdout",
       "text": [
        "UCR3N5  "
       ]
      },
      {
       "output_type": "stream",
       "stream": "stdout",
       "text": [
        "E66R8I  "
       ]
      },
      {
       "output_type": "stream",
       "stream": "stdout",
       "text": [
        "R6XGWO  "
       ]
      },
      {
       "output_type": "stream",
       "stream": "stdout",
       "text": [
        "V5PMW7  "
       ]
      },
      {
       "output_type": "stream",
       "stream": "stdout",
       "text": [
        "K9H1ZQ  "
       ]
      },
      {
       "output_type": "stream",
       "stream": "stdout",
       "text": [
        "GFVQHI  "
       ]
      },
      {
       "output_type": "stream",
       "stream": "stdout",
       "text": [
        "K3XUTE  "
       ]
      },
      {
       "output_type": "stream",
       "stream": "stdout",
       "text": [
        "WKXL4H  "
       ]
      },
      {
       "output_type": "stream",
       "stream": "stdout",
       "text": [
        "NR22QM  "
       ]
      },
      {
       "output_type": "stream",
       "stream": "stdout",
       "text": [
        "MFUEHH  "
       ]
      },
      {
       "output_type": "stream",
       "stream": "stdout",
       "text": [
        "V8FD6F  "
       ]
      },
      {
       "output_type": "stream",
       "stream": "stdout",
       "text": [
        "A7SRQB  "
       ]
      },
      {
       "output_type": "stream",
       "stream": "stdout",
       "text": [
        "497LZC  "
       ]
      },
      {
       "output_type": "stream",
       "stream": "stdout",
       "text": [
        "WRAOHB  "
       ]
      },
      {
       "output_type": "stream",
       "stream": "stdout",
       "text": [
        "Z1JVRT  "
       ]
      },
      {
       "output_type": "stream",
       "stream": "stdout",
       "text": [
        "S82EMR  "
       ]
      },
      {
       "output_type": "stream",
       "stream": "stdout",
       "text": [
        "390GUN  "
       ]
      },
      {
       "output_type": "stream",
       "stream": "stdout",
       "text": [
        "O9CB81  "
       ]
      },
      {
       "output_type": "stream",
       "stream": "stdout",
       "text": [
        "1LXD7T  "
       ]
      },
      {
       "output_type": "stream",
       "stream": "stdout",
       "text": [
        "AY34K3  "
       ]
      },
      {
       "output_type": "stream",
       "stream": "stdout",
       "text": [
        "TSWGO2  "
       ]
      },
      {
       "output_type": "stream",
       "stream": "stdout",
       "text": [
        "C2IRR5  "
       ]
      },
      {
       "output_type": "stream",
       "stream": "stdout",
       "text": [
        "FC25UA  "
       ]
      },
      {
       "output_type": "stream",
       "stream": "stdout",
       "text": [
        "3OB719  "
       ]
      },
      {
       "output_type": "stream",
       "stream": "stdout",
       "text": [
        "96TCQ8  "
       ]
      },
      {
       "output_type": "stream",
       "stream": "stdout",
       "text": [
        "CTT9O7  "
       ]
      },
      {
       "output_type": "stream",
       "stream": "stdout",
       "text": [
        "JWKZ6F  "
       ]
      },
      {
       "output_type": "stream",
       "stream": "stdout",
       "text": [
        "LHD8CQ  "
       ]
      },
      {
       "output_type": "stream",
       "stream": "stdout",
       "text": [
        "99IZJG  "
       ]
      },
      {
       "output_type": "stream",
       "stream": "stdout",
       "text": [
        "02U4EY  "
       ]
      },
      {
       "output_type": "stream",
       "stream": "stdout",
       "text": [
        "YJ0V36  "
       ]
      },
      {
       "output_type": "stream",
       "stream": "stdout",
       "text": [
        "GAUWCW  "
       ]
      },
      {
       "output_type": "stream",
       "stream": "stdout",
       "text": [
        "OG7M3L  "
       ]
      },
      {
       "output_type": "stream",
       "stream": "stdout",
       "text": [
        "GC2YIY  "
       ]
      },
      {
       "output_type": "stream",
       "stream": "stdout",
       "text": [
        "BOU48K  "
       ]
      },
      {
       "output_type": "stream",
       "stream": "stdout",
       "text": [
        "6M5CE1  "
       ]
      },
      {
       "output_type": "stream",
       "stream": "stdout",
       "text": [
        "8TKX44  "
       ]
      },
      {
       "output_type": "stream",
       "stream": "stdout",
       "text": [
        "2F9Y0I  "
       ]
      },
      {
       "output_type": "stream",
       "stream": "stdout",
       "text": [
        "NKKDD1  "
       ]
      },
      {
       "output_type": "stream",
       "stream": "stdout",
       "text": [
        "6BPO0Z  "
       ]
      },
      {
       "output_type": "stream",
       "stream": "stdout",
       "text": [
        "5QP2CW  "
       ]
      },
      {
       "output_type": "stream",
       "stream": "stdout",
       "text": [
        "VKRCBU  "
       ]
      },
      {
       "output_type": "stream",
       "stream": "stdout",
       "text": [
        "CR84HK  "
       ]
      },
      {
       "output_type": "stream",
       "stream": "stdout",
       "text": [
        "SU6QSW  "
       ]
      },
      {
       "output_type": "stream",
       "stream": "stdout",
       "text": [
        "3H7MQB  "
       ]
      },
      {
       "output_type": "stream",
       "stream": "stdout",
       "text": [
        "WG1F1C  "
       ]
      },
      {
       "output_type": "stream",
       "stream": "stdout",
       "text": [
        "C0KFH9  "
       ]
      },
      {
       "output_type": "stream",
       "stream": "stdout",
       "text": [
        "VBPEBC  "
       ]
      },
      {
       "output_type": "stream",
       "stream": "stdout",
       "text": [
        "JYM95A  "
       ]
      },
      {
       "output_type": "stream",
       "stream": "stdout",
       "text": [
        "6AMKG9  "
       ]
      },
      {
       "output_type": "stream",
       "stream": "stdout",
       "text": [
        "88ZM7V  "
       ]
      },
      {
       "output_type": "stream",
       "stream": "stdout",
       "text": [
        "5T4CVX  "
       ]
      },
      {
       "output_type": "stream",
       "stream": "stdout",
       "text": [
        "H945QK  "
       ]
      },
      {
       "output_type": "stream",
       "stream": "stdout",
       "text": [
        "R2TGES  "
       ]
      },
      {
       "output_type": "stream",
       "stream": "stdout",
       "text": [
        "NV83UC  "
       ]
      },
      {
       "output_type": "stream",
       "stream": "stdout",
       "text": [
        "N15IEM  "
       ]
      },
      {
       "output_type": "stream",
       "stream": "stdout",
       "text": [
        "4NIA8P  "
       ]
      },
      {
       "output_type": "stream",
       "stream": "stdout",
       "text": [
        "88VB3K  "
       ]
      },
      {
       "output_type": "stream",
       "stream": "stdout",
       "text": [
        "J1M6N1  "
       ]
      },
      {
       "output_type": "stream",
       "stream": "stdout",
       "text": [
        "Q85NVQ  "
       ]
      },
      {
       "output_type": "stream",
       "stream": "stdout",
       "text": [
        "KHD6GV  "
       ]
      },
      {
       "output_type": "stream",
       "stream": "stdout",
       "text": [
        "MH3YHA  "
       ]
      },
      {
       "output_type": "stream",
       "stream": "stdout",
       "text": [
        "UMZKOZ  "
       ]
      },
      {
       "output_type": "stream",
       "stream": "stdout",
       "text": [
        "Y6QT0C  "
       ]
      },
      {
       "output_type": "stream",
       "stream": "stdout",
       "text": [
        "P92G0U  "
       ]
      },
      {
       "output_type": "stream",
       "stream": "stdout",
       "text": [
        "ONOFO1  "
       ]
      },
      {
       "output_type": "stream",
       "stream": "stdout",
       "text": [
        "9OZS6Y  "
       ]
      },
      {
       "output_type": "stream",
       "stream": "stdout",
       "text": [
        "BCR72R  "
       ]
      },
      {
       "output_type": "stream",
       "stream": "stdout",
       "text": [
        "DYHAHI  "
       ]
      },
      {
       "output_type": "stream",
       "stream": "stdout",
       "text": [
        "ZCC15V  "
       ]
      },
      {
       "output_type": "stream",
       "stream": "stdout",
       "text": [
        "I9ZVM2  "
       ]
      },
      {
       "output_type": "stream",
       "stream": "stdout",
       "text": [
        "FTNBIY  "
       ]
      },
      {
       "output_type": "stream",
       "stream": "stdout",
       "text": [
        "RFJ848  "
       ]
      },
      {
       "output_type": "stream",
       "stream": "stdout",
       "text": [
        "TI5IGD  "
       ]
      },
      {
       "output_type": "stream",
       "stream": "stdout",
       "text": [
        "EWAA43  "
       ]
      },
      {
       "output_type": "stream",
       "stream": "stdout",
       "text": [
        "AG5R8C  "
       ]
      },
      {
       "output_type": "stream",
       "stream": "stdout",
       "text": [
        "6PQOII  "
       ]
      },
      {
       "output_type": "stream",
       "stream": "stdout",
       "text": [
        "C41ICC  "
       ]
      },
      {
       "output_type": "stream",
       "stream": "stdout",
       "text": [
        "B3511Y  "
       ]
      },
      {
       "output_type": "stream",
       "stream": "stdout",
       "text": [
        "SD2G0W  "
       ]
      },
      {
       "output_type": "stream",
       "stream": "stdout",
       "text": [
        "JSR3EY  "
       ]
      },
      {
       "output_type": "stream",
       "stream": "stdout",
       "text": [
        "Y48RCM  "
       ]
      },
      {
       "output_type": "stream",
       "stream": "stdout",
       "text": [
        "DUMA3G  "
       ]
      },
      {
       "output_type": "stream",
       "stream": "stdout",
       "text": [
        "OBNVV9  "
       ]
      },
      {
       "output_type": "stream",
       "stream": "stdout",
       "text": [
        "1MQKGP  "
       ]
      },
      {
       "output_type": "stream",
       "stream": "stdout",
       "text": [
        "XOG8XE  "
       ]
      },
      {
       "output_type": "stream",
       "stream": "stdout",
       "text": [
        "OC5OBJ  "
       ]
      },
      {
       "output_type": "stream",
       "stream": "stdout",
       "text": [
        "J8WBWW  "
       ]
      },
      {
       "output_type": "stream",
       "stream": "stdout",
       "text": [
        "K0M6ZE  "
       ]
      },
      {
       "output_type": "stream",
       "stream": "stdout",
       "text": [
        "MJEIE5  "
       ]
      },
      {
       "output_type": "stream",
       "stream": "stdout",
       "text": [
        "ED4A0S  "
       ]
      },
      {
       "output_type": "stream",
       "stream": "stdout",
       "text": [
        "IY3Y5O  "
       ]
      },
      {
       "output_type": "stream",
       "stream": "stdout",
       "text": [
        "M11916  "
       ]
      },
      {
       "output_type": "stream",
       "stream": "stdout",
       "text": [
        "4BN1ES  "
       ]
      },
      {
       "output_type": "stream",
       "stream": "stdout",
       "text": [
        "PDI14T  "
       ]
      },
      {
       "output_type": "stream",
       "stream": "stdout",
       "text": [
        "WT1AO2  "
       ]
      },
      {
       "output_type": "stream",
       "stream": "stdout",
       "text": [
        "FCEDNV  "
       ]
      },
      {
       "output_type": "stream",
       "stream": "stdout",
       "text": [
        "XCX2CD  "
       ]
      },
      {
       "output_type": "stream",
       "stream": "stdout",
       "text": [
        "Y0UL7L  "
       ]
      },
      {
       "output_type": "stream",
       "stream": "stdout",
       "text": [
        "9RLQ3P  "
       ]
      },
      {
       "output_type": "stream",
       "stream": "stdout",
       "text": [
        "3IDQXO  "
       ]
      },
      {
       "output_type": "stream",
       "stream": "stdout",
       "text": [
        "FWHY5W  "
       ]
      },
      {
       "output_type": "stream",
       "stream": "stdout",
       "text": [
        "RQOWCQ  "
       ]
      },
      {
       "output_type": "stream",
       "stream": "stdout",
       "text": [
        "HTZFJ8  "
       ]
      },
      {
       "output_type": "stream",
       "stream": "stdout",
       "text": [
        "PKFE3V  "
       ]
      },
      {
       "output_type": "stream",
       "stream": "stdout",
       "text": [
        "BB6WUJ  "
       ]
      },
      {
       "output_type": "stream",
       "stream": "stdout",
       "text": [
        "Q2VUI6  "
       ]
      },
      {
       "output_type": "stream",
       "stream": "stdout",
       "text": [
        "U85EUV  "
       ]
      },
      {
       "output_type": "stream",
       "stream": "stdout",
       "text": [
        "7THEDW  "
       ]
      },
      {
       "output_type": "stream",
       "stream": "stdout",
       "text": [
        "3GXGVG  "
       ]
      },
      {
       "output_type": "stream",
       "stream": "stdout",
       "text": [
        "BTCSFU  "
       ]
      },
      {
       "output_type": "stream",
       "stream": "stdout",
       "text": [
        "WGI5OO  "
       ]
      },
      {
       "output_type": "stream",
       "stream": "stdout",
       "text": [
        "GGRDSR  "
       ]
      },
      {
       "output_type": "stream",
       "stream": "stdout",
       "text": [
        "4HS2P7  "
       ]
      },
      {
       "output_type": "stream",
       "stream": "stdout",
       "text": [
        "DYY6BX  "
       ]
      },
      {
       "output_type": "stream",
       "stream": "stdout",
       "text": [
        "CT6JD6  "
       ]
      },
      {
       "output_type": "stream",
       "stream": "stdout",
       "text": [
        "74SBU7  "
       ]
      },
      {
       "output_type": "stream",
       "stream": "stdout",
       "text": [
        "O15TRA  "
       ]
      },
      {
       "output_type": "stream",
       "stream": "stdout",
       "text": [
        "QFDDX8  "
       ]
      },
      {
       "output_type": "stream",
       "stream": "stdout",
       "text": [
        "BBVWGK  "
       ]
      },
      {
       "output_type": "stream",
       "stream": "stdout",
       "text": [
        "XJ9KKK  "
       ]
      },
      {
       "output_type": "stream",
       "stream": "stdout",
       "text": [
        "DU42D0  "
       ]
      },
      {
       "output_type": "stream",
       "stream": "stdout",
       "text": [
        "VD8QRW  "
       ]
      },
      {
       "output_type": "stream",
       "stream": "stdout",
       "text": [
        "AXBJ6A  "
       ]
      },
      {
       "output_type": "stream",
       "stream": "stdout",
       "text": [
        "EW9Z3B  "
       ]
      },
      {
       "output_type": "stream",
       "stream": "stdout",
       "text": [
        "ILYYLP  "
       ]
      },
      {
       "output_type": "stream",
       "stream": "stdout",
       "text": [
        "02N338  "
       ]
      },
      {
       "output_type": "stream",
       "stream": "stdout",
       "text": [
        "GHEC7B  "
       ]
      },
      {
       "output_type": "stream",
       "stream": "stdout",
       "text": [
        "ZCEHP5  "
       ]
      },
      {
       "output_type": "stream",
       "stream": "stdout",
       "text": [
        "FAQYNX  "
       ]
      },
      {
       "output_type": "stream",
       "stream": "stdout",
       "text": [
        "EJGC2Z  "
       ]
      },
      {
       "output_type": "stream",
       "stream": "stdout",
       "text": [
        "OMIVKH  "
       ]
      },
      {
       "output_type": "stream",
       "stream": "stdout",
       "text": [
        "1S3O4K  "
       ]
      },
      {
       "output_type": "stream",
       "stream": "stdout",
       "text": [
        "MM7OGI  "
       ]
      },
      {
       "output_type": "stream",
       "stream": "stdout",
       "text": [
        "2KCN8N  "
       ]
      },
      {
       "output_type": "stream",
       "stream": "stdout",
       "text": [
        "Q098UC  "
       ]
      },
      {
       "output_type": "stream",
       "stream": "stdout",
       "text": [
        "542PL1  "
       ]
      },
      {
       "output_type": "stream",
       "stream": "stdout",
       "text": [
        "90QSSN  "
       ]
      },
      {
       "output_type": "stream",
       "stream": "stdout",
       "text": [
        "9U7142  "
       ]
      },
      {
       "output_type": "stream",
       "stream": "stdout",
       "text": [
        "685PWY  "
       ]
      },
      {
       "output_type": "stream",
       "stream": "stdout",
       "text": [
        "M0CTCU  "
       ]
      },
      {
       "output_type": "stream",
       "stream": "stdout",
       "text": [
        "CZCLEF  "
       ]
      },
      {
       "output_type": "stream",
       "stream": "stdout",
       "text": [
        "7JNC7P  "
       ]
      },
      {
       "output_type": "stream",
       "stream": "stdout",
       "text": [
        "WA7Q6U  "
       ]
      },
      {
       "output_type": "stream",
       "stream": "stdout",
       "text": [
        "Q4PETF  "
       ]
      },
      {
       "output_type": "stream",
       "stream": "stdout",
       "text": [
        "Z3TKIJ  "
       ]
      },
      {
       "output_type": "stream",
       "stream": "stdout",
       "text": [
        "4UBI8S  "
       ]
      },
      {
       "output_type": "stream",
       "stream": "stdout",
       "text": [
        "8SHHD1  "
       ]
      },
      {
       "output_type": "stream",
       "stream": "stdout",
       "text": [
        "IGZ4IN  "
       ]
      },
      {
       "output_type": "stream",
       "stream": "stdout",
       "text": [
        "Q5NG72  "
       ]
      },
      {
       "output_type": "stream",
       "stream": "stdout",
       "text": [
        "DVSDM0  "
       ]
      },
      {
       "output_type": "stream",
       "stream": "stdout",
       "text": [
        "TDYH87  "
       ]
      },
      {
       "output_type": "stream",
       "stream": "stdout",
       "text": [
        "FB3NJV  "
       ]
      },
      {
       "output_type": "stream",
       "stream": "stdout",
       "text": [
        "WQJPMT  "
       ]
      },
      {
       "output_type": "stream",
       "stream": "stdout",
       "text": [
        "VW85AV  "
       ]
      },
      {
       "output_type": "stream",
       "stream": "stdout",
       "text": [
        "9AXAHP  "
       ]
      },
      {
       "output_type": "stream",
       "stream": "stdout",
       "text": [
        "RVAJ7N  "
       ]
      },
      {
       "output_type": "stream",
       "stream": "stdout",
       "text": [
        "NT19D9  "
       ]
      },
      {
       "output_type": "stream",
       "stream": "stdout",
       "text": [
        "3WTEAD  "
       ]
      },
      {
       "output_type": "stream",
       "stream": "stdout",
       "text": [
        "QCYTF4  "
       ]
      },
      {
       "output_type": "stream",
       "stream": "stdout",
       "text": [
        "ZMZFBZ  "
       ]
      },
      {
       "output_type": "stream",
       "stream": "stdout",
       "text": [
        "6BFZI1  "
       ]
      },
      {
       "output_type": "stream",
       "stream": "stdout",
       "text": [
        "RQ0PLL  "
       ]
      },
      {
       "output_type": "stream",
       "stream": "stdout",
       "text": [
        "NIWQAO  "
       ]
      },
      {
       "output_type": "stream",
       "stream": "stdout",
       "text": [
        "UR58E8  "
       ]
      },
      {
       "output_type": "stream",
       "stream": "stdout",
       "text": [
        "0VDSK6  "
       ]
      },
      {
       "output_type": "stream",
       "stream": "stdout",
       "text": [
        "91X3OE  "
       ]
      },
      {
       "output_type": "stream",
       "stream": "stdout",
       "text": [
        "7RHZUB  "
       ]
      },
      {
       "output_type": "stream",
       "stream": "stdout",
       "text": [
        "EATAYM  "
       ]
      },
      {
       "output_type": "stream",
       "stream": "stdout",
       "text": [
        "J5U1TJ  "
       ]
      },
      {
       "output_type": "stream",
       "stream": "stdout",
       "text": [
        "WCDJ2D  "
       ]
      },
      {
       "output_type": "stream",
       "stream": "stdout",
       "text": [
        "SY3CJP  "
       ]
      },
      {
       "output_type": "stream",
       "stream": "stdout",
       "text": [
        "6UD57H  "
       ]
      },
      {
       "output_type": "stream",
       "stream": "stdout",
       "text": [
        "IHYDF1  "
       ]
      },
      {
       "output_type": "stream",
       "stream": "stdout",
       "text": [
        "AZXLB0  "
       ]
      },
      {
       "output_type": "stream",
       "stream": "stdout",
       "text": [
        "HCYTCP  "
       ]
      },
      {
       "output_type": "stream",
       "stream": "stdout",
       "text": [
        "5PDN4S  "
       ]
      },
      {
       "output_type": "stream",
       "stream": "stdout",
       "text": [
        "9WVAUI  "
       ]
      },
      {
       "output_type": "stream",
       "stream": "stdout",
       "text": [
        "IJDPCW  "
       ]
      },
      {
       "output_type": "stream",
       "stream": "stdout",
       "text": [
        "YKUXZ6  "
       ]
      },
      {
       "output_type": "stream",
       "stream": "stdout",
       "text": [
        "T699T2  "
       ]
      },
      {
       "output_type": "stream",
       "stream": "stdout",
       "text": [
        "3HDPFG  "
       ]
      },
      {
       "output_type": "stream",
       "stream": "stdout",
       "text": [
        "0Y9E84  "
       ]
      },
      {
       "output_type": "stream",
       "stream": "stdout",
       "text": [
        "P42D01  "
       ]
      },
      {
       "output_type": "stream",
       "stream": "stdout",
       "text": [
        "SRGAP7  "
       ]
      },
      {
       "output_type": "stream",
       "stream": "stdout",
       "text": [
        "8LFL5E  "
       ]
      },
      {
       "output_type": "stream",
       "stream": "stdout",
       "text": [
        "FUVQJP  "
       ]
      },
      {
       "output_type": "stream",
       "stream": "stdout",
       "text": [
        "FFJDQ8  "
       ]
      },
      {
       "output_type": "stream",
       "stream": "stdout",
       "text": [
        "BZSCQY  "
       ]
      },
      {
       "output_type": "stream",
       "stream": "stdout",
       "text": [
        "YRFM7D  "
       ]
      },
      {
       "output_type": "stream",
       "stream": "stdout",
       "text": [
        "WQTXXP  "
       ]
      },
      {
       "output_type": "stream",
       "stream": "stdout",
       "text": [
        "N78G9O  "
       ]
      },
      {
       "output_type": "stream",
       "stream": "stdout",
       "text": [
        "KV1RZC  "
       ]
      },
      {
       "output_type": "stream",
       "stream": "stdout",
       "text": [
        "6ZAO8P  "
       ]
      },
      {
       "output_type": "stream",
       "stream": "stdout",
       "text": [
        "1CAHX5  "
       ]
      },
      {
       "output_type": "stream",
       "stream": "stdout",
       "text": [
        "U7UYD3  "
       ]
      },
      {
       "output_type": "stream",
       "stream": "stdout",
       "text": [
        "ZGDZ94  "
       ]
      },
      {
       "output_type": "stream",
       "stream": "stdout",
       "text": [
        "1KYI1O  "
       ]
      },
      {
       "output_type": "stream",
       "stream": "stdout",
       "text": [
        "0IJTYB  "
       ]
      },
      {
       "output_type": "stream",
       "stream": "stdout",
       "text": [
        "7MH68M  "
       ]
      },
      {
       "output_type": "stream",
       "stream": "stdout",
       "text": [
        "CMLYOQ  "
       ]
      },
      {
       "output_type": "stream",
       "stream": "stdout",
       "text": [
        "LVOMJG  "
       ]
      },
      {
       "output_type": "stream",
       "stream": "stdout",
       "text": [
        "8NRQBO  "
       ]
      },
      {
       "output_type": "stream",
       "stream": "stdout",
       "text": [
        "WFKC72  "
       ]
      },
      {
       "output_type": "stream",
       "stream": "stdout",
       "text": [
        "PYS8GA  "
       ]
      },
      {
       "output_type": "stream",
       "stream": "stdout",
       "text": [
        "WL3O9Z  "
       ]
      },
      {
       "output_type": "stream",
       "stream": "stdout",
       "text": [
        "0DLYOG  "
       ]
      },
      {
       "output_type": "stream",
       "stream": "stdout",
       "text": [
        "26O19D  "
       ]
      },
      {
       "output_type": "stream",
       "stream": "stdout",
       "text": [
        "V6Z3UY  "
       ]
      },
      {
       "output_type": "stream",
       "stream": "stdout",
       "text": [
        "MW3K3B  "
       ]
      },
      {
       "output_type": "stream",
       "stream": "stdout",
       "text": [
        "CPSDET  "
       ]
      },
      {
       "output_type": "stream",
       "stream": "stdout",
       "text": [
        "S8SRID  "
       ]
      },
      {
       "output_type": "stream",
       "stream": "stdout",
       "text": [
        "NT6MLP  "
       ]
      },
      {
       "output_type": "stream",
       "stream": "stdout",
       "text": [
        "TLI6BX  "
       ]
      },
      {
       "output_type": "stream",
       "stream": "stdout",
       "text": [
        "ST8RP3  "
       ]
      },
      {
       "output_type": "stream",
       "stream": "stdout",
       "text": [
        "PJCFDH  "
       ]
      },
      {
       "output_type": "stream",
       "stream": "stdout",
       "text": [
        "0FCAL8  "
       ]
      },
      {
       "output_type": "stream",
       "stream": "stdout",
       "text": [
        "2E7IC0  "
       ]
      },
      {
       "output_type": "stream",
       "stream": "stdout",
       "text": [
        "C2EQ15  "
       ]
      },
      {
       "output_type": "stream",
       "stream": "stdout",
       "text": [
        "SIVGHS  "
       ]
      },
      {
       "output_type": "stream",
       "stream": "stdout",
       "text": [
        "MW4PJG  "
       ]
      },
      {
       "output_type": "stream",
       "stream": "stdout",
       "text": [
        "ZIMM2E  "
       ]
      },
      {
       "output_type": "stream",
       "stream": "stdout",
       "text": [
        "QH1XZG  "
       ]
      },
      {
       "output_type": "stream",
       "stream": "stdout",
       "text": [
        "HCBWVE  "
       ]
      },
      {
       "output_type": "stream",
       "stream": "stdout",
       "text": [
        "HIRN8Q  "
       ]
      },
      {
       "output_type": "stream",
       "stream": "stdout",
       "text": [
        "855VGP  "
       ]
      },
      {
       "output_type": "stream",
       "stream": "stdout",
       "text": [
        "KR4D81  "
       ]
      },
      {
       "output_type": "stream",
       "stream": "stdout",
       "text": [
        "XIBB4S  "
       ]
      },
      {
       "output_type": "stream",
       "stream": "stdout",
       "text": [
        "5NQPNM  "
       ]
      },
      {
       "output_type": "stream",
       "stream": "stdout",
       "text": [
        "DNW9CV  "
       ]
      },
      {
       "output_type": "stream",
       "stream": "stdout",
       "text": [
        "HUZXMQ  "
       ]
      },
      {
       "output_type": "stream",
       "stream": "stdout",
       "text": [
        "I5W4FB  "
       ]
      },
      {
       "output_type": "stream",
       "stream": "stdout",
       "text": [
        "8HPVAS  "
       ]
      },
      {
       "output_type": "stream",
       "stream": "stdout",
       "text": [
        "1IOXJJ  "
       ]
      },
      {
       "output_type": "stream",
       "stream": "stdout",
       "text": [
        "ED2O2W  "
       ]
      },
      {
       "output_type": "stream",
       "stream": "stdout",
       "text": [
        "H3MOGG  "
       ]
      },
      {
       "output_type": "stream",
       "stream": "stdout",
       "text": [
        "L8YOY4  "
       ]
      },
      {
       "output_type": "stream",
       "stream": "stdout",
       "text": [
        "Y1KTQP  "
       ]
      },
      {
       "output_type": "stream",
       "stream": "stdout",
       "text": [
        "44PKWJ  "
       ]
      },
      {
       "output_type": "stream",
       "stream": "stdout",
       "text": [
        "EZSIRJ  "
       ]
      },
      {
       "output_type": "stream",
       "stream": "stdout",
       "text": [
        "F2OJWN  "
       ]
      },
      {
       "output_type": "stream",
       "stream": "stdout",
       "text": [
        "DUE4OC  "
       ]
      },
      {
       "output_type": "stream",
       "stream": "stdout",
       "text": [
        "WBJIXH  "
       ]
      },
      {
       "output_type": "stream",
       "stream": "stdout",
       "text": [
        "YGM230  "
       ]
      },
      {
       "output_type": "stream",
       "stream": "stdout",
       "text": [
        "SKHPK4  "
       ]
      },
      {
       "output_type": "stream",
       "stream": "stdout",
       "text": [
        "ERO719  "
       ]
      },
      {
       "output_type": "stream",
       "stream": "stdout",
       "text": [
        "EWAH3B  "
       ]
      },
      {
       "output_type": "stream",
       "stream": "stdout",
       "text": [
        "B9MJAN  "
       ]
      },
      {
       "output_type": "stream",
       "stream": "stdout",
       "text": [
        "5JRFFD  "
       ]
      },
      {
       "output_type": "stream",
       "stream": "stdout",
       "text": [
        "2WYK0P  "
       ]
      },
      {
       "output_type": "stream",
       "stream": "stdout",
       "text": [
        "37F4YL  "
       ]
      },
      {
       "output_type": "stream",
       "stream": "stdout",
       "text": [
        "FZ6GCA  "
       ]
      },
      {
       "output_type": "stream",
       "stream": "stdout",
       "text": [
        "0JJJIL  "
       ]
      },
      {
       "output_type": "stream",
       "stream": "stdout",
       "text": [
        "2XVYIO  "
       ]
      },
      {
       "output_type": "stream",
       "stream": "stdout",
       "text": [
        "5A50NX  "
       ]
      },
      {
       "output_type": "stream",
       "stream": "stdout",
       "text": [
        "X0KLFU  "
       ]
      },
      {
       "output_type": "stream",
       "stream": "stdout",
       "text": [
        "2Q8NDH  "
       ]
      },
      {
       "output_type": "stream",
       "stream": "stdout",
       "text": [
        "PIDOH9  "
       ]
      },
      {
       "output_type": "stream",
       "stream": "stdout",
       "text": [
        "1BX3BP  "
       ]
      },
      {
       "output_type": "stream",
       "stream": "stdout",
       "text": [
        "KX2B18  "
       ]
      },
      {
       "output_type": "stream",
       "stream": "stdout",
       "text": [
        "OBJDTM  "
       ]
      },
      {
       "output_type": "stream",
       "stream": "stdout",
       "text": [
        "YPLLEN  "
       ]
      },
      {
       "output_type": "stream",
       "stream": "stdout",
       "text": [
        "J7CWIS  "
       ]
      },
      {
       "output_type": "stream",
       "stream": "stdout",
       "text": [
        "Z1WRB5  "
       ]
      },
      {
       "output_type": "stream",
       "stream": "stdout",
       "text": [
        "SWH1E7  "
       ]
      },
      {
       "output_type": "stream",
       "stream": "stdout",
       "text": [
        "ABTUYK  "
       ]
      },
      {
       "output_type": "stream",
       "stream": "stdout",
       "text": [
        "ZF1D6Y  "
       ]
      },
      {
       "output_type": "stream",
       "stream": "stdout",
       "text": [
        "5R59Y7  "
       ]
      },
      {
       "output_type": "stream",
       "stream": "stdout",
       "text": [
        "3HBKLB  "
       ]
      },
      {
       "output_type": "stream",
       "stream": "stdout",
       "text": [
        "7N0YJ7  "
       ]
      },
      {
       "output_type": "stream",
       "stream": "stdout",
       "text": [
        "HDO93G  "
       ]
      },
      {
       "output_type": "stream",
       "stream": "stdout",
       "text": [
        "7TMZU6  "
       ]
      },
      {
       "output_type": "stream",
       "stream": "stdout",
       "text": [
        "540HKP  "
       ]
      },
      {
       "output_type": "stream",
       "stream": "stdout",
       "text": [
        "11EJJI  "
       ]
      },
      {
       "output_type": "stream",
       "stream": "stdout",
       "text": [
        "XLXBSL  "
       ]
      },
      {
       "output_type": "stream",
       "stream": "stdout",
       "text": [
        "1YN18Z  "
       ]
      },
      {
       "output_type": "stream",
       "stream": "stdout",
       "text": [
        "D4RXRZ  "
       ]
      },
      {
       "output_type": "stream",
       "stream": "stdout",
       "text": [
        "AKJSKF  "
       ]
      },
      {
       "output_type": "stream",
       "stream": "stdout",
       "text": [
        "KWFZCM  "
       ]
      },
      {
       "output_type": "stream",
       "stream": "stdout",
       "text": [
        "TVXR3O  "
       ]
      },
      {
       "output_type": "stream",
       "stream": "stdout",
       "text": [
        "Q2LP5G  "
       ]
      },
      {
       "output_type": "stream",
       "stream": "stdout",
       "text": [
        "PIRGK5  "
       ]
      },
      {
       "output_type": "stream",
       "stream": "stdout",
       "text": [
        "LMLLN8  "
       ]
      },
      {
       "output_type": "stream",
       "stream": "stdout",
       "text": [
        "FWH98M  "
       ]
      },
      {
       "output_type": "stream",
       "stream": "stdout",
       "text": [
        "DBP4P6  "
       ]
      },
      {
       "output_type": "stream",
       "stream": "stdout",
       "text": [
        "S09YBZ  "
       ]
      },
      {
       "output_type": "stream",
       "stream": "stdout",
       "text": [
        "QGO4JC  "
       ]
      },
      {
       "output_type": "stream",
       "stream": "stdout",
       "text": [
        "1MV80L  "
       ]
      },
      {
       "output_type": "stream",
       "stream": "stdout",
       "text": [
        "FYWEX9  "
       ]
      },
      {
       "output_type": "stream",
       "stream": "stdout",
       "text": [
        "UBCWF5  "
       ]
      },
      {
       "output_type": "stream",
       "stream": "stdout",
       "text": [
        "GHJOPL  "
       ]
      },
      {
       "output_type": "stream",
       "stream": "stdout",
       "text": [
        "HYEW9W  "
       ]
      },
      {
       "output_type": "stream",
       "stream": "stdout",
       "text": [
        "J5OMPV  "
       ]
      },
      {
       "output_type": "stream",
       "stream": "stdout",
       "text": [
        "GKD82X  "
       ]
      },
      {
       "output_type": "stream",
       "stream": "stdout",
       "text": [
        "I6THBZ  "
       ]
      },
      {
       "output_type": "stream",
       "stream": "stdout",
       "text": [
        "E9E44X  "
       ]
      },
      {
       "output_type": "stream",
       "stream": "stdout",
       "text": [
        "E1NY79  "
       ]
      },
      {
       "output_type": "stream",
       "stream": "stdout",
       "text": [
        "46SU88  "
       ]
      },
      {
       "output_type": "stream",
       "stream": "stdout",
       "text": [
        "BT935E  "
       ]
      },
      {
       "output_type": "stream",
       "stream": "stdout",
       "text": [
        "UA8FGC  "
       ]
      },
      {
       "output_type": "stream",
       "stream": "stdout",
       "text": [
        "7NRDF7  "
       ]
      },
      {
       "output_type": "stream",
       "stream": "stdout",
       "text": [
        "UJD3P5  "
       ]
      },
      {
       "output_type": "stream",
       "stream": "stdout",
       "text": [
        "03AMSI  "
       ]
      },
      {
       "output_type": "stream",
       "stream": "stdout",
       "text": [
        "0EURL9  "
       ]
      },
      {
       "output_type": "stream",
       "stream": "stdout",
       "text": [
        "UF3LS3  "
       ]
      },
      {
       "output_type": "stream",
       "stream": "stdout",
       "text": [
        "XGN2ML  "
       ]
      },
      {
       "output_type": "stream",
       "stream": "stdout",
       "text": [
        "5YJUL0  "
       ]
      },
      {
       "output_type": "stream",
       "stream": "stdout",
       "text": [
        "H3HEUH  "
       ]
      },
      {
       "output_type": "stream",
       "stream": "stdout",
       "text": [
        "35X2IT  "
       ]
      },
      {
       "output_type": "stream",
       "stream": "stdout",
       "text": [
        "YBKOB4  "
       ]
      },
      {
       "output_type": "stream",
       "stream": "stdout",
       "text": [
        "F7JD2L  "
       ]
      },
      {
       "output_type": "stream",
       "stream": "stdout",
       "text": [
        "06YDBR  "
       ]
      },
      {
       "output_type": "stream",
       "stream": "stdout",
       "text": [
        "JHOQAX  "
       ]
      },
      {
       "output_type": "stream",
       "stream": "stdout",
       "text": [
        "QKHEWB  "
       ]
      },
      {
       "output_type": "stream",
       "stream": "stdout",
       "text": [
        "HAUVGX  "
       ]
      },
      {
       "output_type": "stream",
       "stream": "stdout",
       "text": [
        "UA5X9M  "
       ]
      },
      {
       "output_type": "stream",
       "stream": "stdout",
       "text": [
        "8QOXKY  "
       ]
      },
      {
       "output_type": "stream",
       "stream": "stdout",
       "text": [
        "ISHKAX  "
       ]
      },
      {
       "output_type": "stream",
       "stream": "stdout",
       "text": [
        "O4L308  "
       ]
      },
      {
       "output_type": "stream",
       "stream": "stdout",
       "text": [
        "PGWZ5R  "
       ]
      },
      {
       "output_type": "stream",
       "stream": "stdout",
       "text": [
        "4NJTKT  "
       ]
      },
      {
       "output_type": "stream",
       "stream": "stdout",
       "text": [
        "87VJLR  "
       ]
      },
      {
       "output_type": "stream",
       "stream": "stdout",
       "text": [
        "UKVLEY  "
       ]
      },
      {
       "output_type": "stream",
       "stream": "stdout",
       "text": [
        "6DGR59  "
       ]
      },
      {
       "output_type": "stream",
       "stream": "stdout",
       "text": [
        "C0A1GN  "
       ]
      },
      {
       "output_type": "stream",
       "stream": "stdout",
       "text": [
        "J62Z9R  "
       ]
      },
      {
       "output_type": "stream",
       "stream": "stdout",
       "text": [
        "BZOK6R  "
       ]
      },
      {
       "output_type": "stream",
       "stream": "stdout",
       "text": [
        "X003KY  "
       ]
      },
      {
       "output_type": "stream",
       "stream": "stdout",
       "text": [
        "I1Y5EC  "
       ]
      },
      {
       "output_type": "stream",
       "stream": "stdout",
       "text": [
        "5CK6H2  "
       ]
      },
      {
       "output_type": "stream",
       "stream": "stdout",
       "text": [
        "L9236E  "
       ]
      },
      {
       "output_type": "stream",
       "stream": "stdout",
       "text": [
        "U8A1W2  "
       ]
      },
      {
       "output_type": "stream",
       "stream": "stdout",
       "text": [
        "4TRRXZ  "
       ]
      },
      {
       "output_type": "stream",
       "stream": "stdout",
       "text": [
        "8BK4R4  "
       ]
      },
      {
       "output_type": "stream",
       "stream": "stdout",
       "text": [
        "0T5DYX  "
       ]
      },
      {
       "output_type": "stream",
       "stream": "stdout",
       "text": [
        "1QFSGA  "
       ]
      },
      {
       "output_type": "stream",
       "stream": "stdout",
       "text": [
        "TLICFY  "
       ]
      },
      {
       "output_type": "stream",
       "stream": "stdout",
       "text": [
        "5E0M47  "
       ]
      },
      {
       "output_type": "stream",
       "stream": "stdout",
       "text": [
        "P8TFDP  "
       ]
      },
      {
       "output_type": "stream",
       "stream": "stdout",
       "text": [
        "QEIYZN  "
       ]
      },
      {
       "output_type": "stream",
       "stream": "stdout",
       "text": [
        "N86E73  "
       ]
      },
      {
       "output_type": "stream",
       "stream": "stdout",
       "text": [
        "5S9JFF  "
       ]
      },
      {
       "output_type": "stream",
       "stream": "stdout",
       "text": [
        "XNO7NL  "
       ]
      },
      {
       "output_type": "stream",
       "stream": "stdout",
       "text": [
        "WM1V12  "
       ]
      },
      {
       "output_type": "stream",
       "stream": "stdout",
       "text": [
        "D99JAH  "
       ]
      },
      {
       "output_type": "stream",
       "stream": "stdout",
       "text": [
        "UB3L9X  "
       ]
      },
      {
       "output_type": "stream",
       "stream": "stdout",
       "text": [
        "9DRAWG  "
       ]
      },
      {
       "output_type": "stream",
       "stream": "stdout",
       "text": [
        "K0116G  "
       ]
      },
      {
       "output_type": "stream",
       "stream": "stdout",
       "text": [
        "YY60FS  "
       ]
      },
      {
       "output_type": "stream",
       "stream": "stdout",
       "text": [
        "1E4ADQ  "
       ]
      },
      {
       "output_type": "stream",
       "stream": "stdout",
       "text": [
        "AAUNNQ  "
       ]
      },
      {
       "output_type": "stream",
       "stream": "stdout",
       "text": [
        "KJRAFN  "
       ]
      },
      {
       "output_type": "stream",
       "stream": "stdout",
       "text": [
        "A0MQ0Q  "
       ]
      },
      {
       "output_type": "stream",
       "stream": "stdout",
       "text": [
        "XNVCCY  "
       ]
      },
      {
       "output_type": "stream",
       "stream": "stdout",
       "text": [
        "OG16W5  "
       ]
      },
      {
       "output_type": "stream",
       "stream": "stdout",
       "text": [
        "KVXL5M  "
       ]
      },
      {
       "output_type": "stream",
       "stream": "stdout",
       "text": [
        "ANNPXL  "
       ]
      },
      {
       "output_type": "stream",
       "stream": "stdout",
       "text": [
        "31CAYN  "
       ]
      },
      {
       "output_type": "stream",
       "stream": "stdout",
       "text": [
        "V5KOBM  "
       ]
      },
      {
       "output_type": "stream",
       "stream": "stdout",
       "text": [
        "SLGEUU  "
       ]
      },
      {
       "output_type": "stream",
       "stream": "stdout",
       "text": [
        "HUJOUZ  "
       ]
      },
      {
       "output_type": "stream",
       "stream": "stdout",
       "text": [
        "RQ69TW  "
       ]
      },
      {
       "output_type": "stream",
       "stream": "stdout",
       "text": [
        "2FI6WZ  "
       ]
      },
      {
       "output_type": "stream",
       "stream": "stdout",
       "text": [
        "XUDLLH  "
       ]
      },
      {
       "output_type": "stream",
       "stream": "stdout",
       "text": [
        "5UBFPD  "
       ]
      },
      {
       "output_type": "stream",
       "stream": "stdout",
       "text": [
        "998XUO  "
       ]
      },
      {
       "output_type": "stream",
       "stream": "stdout",
       "text": [
        "D2IQAD  "
       ]
      },
      {
       "output_type": "stream",
       "stream": "stdout",
       "text": [
        "0B8QBY  "
       ]
      },
      {
       "output_type": "stream",
       "stream": "stdout",
       "text": [
        "3T8ZC0  "
       ]
      },
      {
       "output_type": "stream",
       "stream": "stdout",
       "text": [
        "HKTSSB  "
       ]
      },
      {
       "output_type": "stream",
       "stream": "stdout",
       "text": [
        "V9XQYM  "
       ]
      },
      {
       "output_type": "stream",
       "stream": "stdout",
       "text": [
        "WL57YF  "
       ]
      },
      {
       "output_type": "stream",
       "stream": "stdout",
       "text": [
        "VHUZZ1  "
       ]
      },
      {
       "output_type": "stream",
       "stream": "stdout",
       "text": [
        "D448D5  "
       ]
      },
      {
       "output_type": "stream",
       "stream": "stdout",
       "text": [
        "C1CQUR  "
       ]
      },
      {
       "output_type": "stream",
       "stream": "stdout",
       "text": [
        "JY3V97  "
       ]
      },
      {
       "output_type": "stream",
       "stream": "stdout",
       "text": [
        "AXNMS5  "
       ]
      },
      {
       "output_type": "stream",
       "stream": "stdout",
       "text": [
        "QX3YJ3  "
       ]
      },
      {
       "output_type": "stream",
       "stream": "stdout",
       "text": [
        "6VKT3U  "
       ]
      },
      {
       "output_type": "stream",
       "stream": "stdout",
       "text": [
        "5YNF02  "
       ]
      },
      {
       "output_type": "stream",
       "stream": "stdout",
       "text": [
        "ZCVH2X  "
       ]
      },
      {
       "output_type": "stream",
       "stream": "stdout",
       "text": [
        "7HVWL4  "
       ]
      },
      {
       "output_type": "stream",
       "stream": "stdout",
       "text": [
        "SQ0VA8  "
       ]
      },
      {
       "output_type": "stream",
       "stream": "stdout",
       "text": [
        "HNR30V  "
       ]
      },
      {
       "output_type": "stream",
       "stream": "stdout",
       "text": [
        "KYFF3B  "
       ]
      },
      {
       "output_type": "stream",
       "stream": "stdout",
       "text": [
        "SPA3L0  "
       ]
      },
      {
       "output_type": "stream",
       "stream": "stdout",
       "text": [
        "76JMKM  "
       ]
      },
      {
       "output_type": "stream",
       "stream": "stdout",
       "text": [
        "P19103  "
       ]
      },
      {
       "output_type": "stream",
       "stream": "stdout",
       "text": [
        "Q4WBRX  "
       ]
      },
      {
       "output_type": "stream",
       "stream": "stdout",
       "text": [
        "TPD3LK  "
       ]
      },
      {
       "output_type": "stream",
       "stream": "stdout",
       "text": [
        "46BCXM  "
       ]
      },
      {
       "output_type": "stream",
       "stream": "stdout",
       "text": [
        "H1TCS2  "
       ]
      },
      {
       "output_type": "stream",
       "stream": "stdout",
       "text": [
        "ZOISPD  "
       ]
      },
      {
       "output_type": "stream",
       "stream": "stdout",
       "text": [
        "RN0CCB  "
       ]
      },
      {
       "output_type": "stream",
       "stream": "stdout",
       "text": [
        "4H6JJR  "
       ]
      },
      {
       "output_type": "stream",
       "stream": "stdout",
       "text": [
        "E1XXB8  "
       ]
      },
      {
       "output_type": "stream",
       "stream": "stdout",
       "text": [
        "CBVQK0  "
       ]
      },
      {
       "output_type": "stream",
       "stream": "stdout",
       "text": [
        "OC37BZ  "
       ]
      },
      {
       "output_type": "stream",
       "stream": "stdout",
       "text": [
        "JLCP9Q  "
       ]
      },
      {
       "output_type": "stream",
       "stream": "stdout",
       "text": [
        "C0VUL6  "
       ]
      },
      {
       "output_type": "stream",
       "stream": "stdout",
       "text": [
        "58VMQB  "
       ]
      },
      {
       "output_type": "stream",
       "stream": "stdout",
       "text": [
        "URDQ5O  "
       ]
      },
      {
       "output_type": "stream",
       "stream": "stdout",
       "text": [
        "HYVXZ1  "
       ]
      },
      {
       "output_type": "stream",
       "stream": "stdout",
       "text": [
        "9UEBZV  "
       ]
      },
      {
       "output_type": "stream",
       "stream": "stdout",
       "text": [
        "4J4OL8  "
       ]
      },
      {
       "output_type": "stream",
       "stream": "stdout",
       "text": [
        "Z8VVFG  "
       ]
      },
      {
       "output_type": "stream",
       "stream": "stdout",
       "text": [
        "COEEF3  "
       ]
      },
      {
       "output_type": "stream",
       "stream": "stdout",
       "text": [
        "E8A4J8  "
       ]
      },
      {
       "output_type": "stream",
       "stream": "stdout",
       "text": [
        "GY0XCT  "
       ]
      },
      {
       "output_type": "stream",
       "stream": "stdout",
       "text": [
        "OOA3ZR  "
       ]
      },
      {
       "output_type": "stream",
       "stream": "stdout",
       "text": [
        "RDOVWB  "
       ]
      },
      {
       "output_type": "stream",
       "stream": "stdout",
       "text": [
        "V5DYSH  "
       ]
      },
      {
       "output_type": "stream",
       "stream": "stdout",
       "text": [
        "OUZFTZ  "
       ]
      },
      {
       "output_type": "stream",
       "stream": "stdout",
       "text": [
        "RCCP03  "
       ]
      },
      {
       "output_type": "stream",
       "stream": "stdout",
       "text": [
        "82LG03  "
       ]
      },
      {
       "output_type": "stream",
       "stream": "stdout",
       "text": [
        "J17NHX  "
       ]
      },
      {
       "output_type": "stream",
       "stream": "stdout",
       "text": [
        "483C70  "
       ]
      },
      {
       "output_type": "stream",
       "stream": "stdout",
       "text": [
        "GP4BUB  "
       ]
      },
      {
       "output_type": "stream",
       "stream": "stdout",
       "text": [
        "57J40H  "
       ]
      },
      {
       "output_type": "stream",
       "stream": "stdout",
       "text": [
        "Q9MXYP  "
       ]
      },
      {
       "output_type": "stream",
       "stream": "stdout",
       "text": [
        "MSADUB  "
       ]
      },
      {
       "output_type": "stream",
       "stream": "stdout",
       "text": [
        "6GGL4D  "
       ]
      },
      {
       "output_type": "stream",
       "stream": "stdout",
       "text": [
        "RHMC90  "
       ]
      },
      {
       "output_type": "stream",
       "stream": "stdout",
       "text": [
        "K7JPV6  "
       ]
      },
      {
       "output_type": "stream",
       "stream": "stdout",
       "text": [
        "F8U6CT  "
       ]
      },
      {
       "output_type": "stream",
       "stream": "stdout",
       "text": [
        "2J97FA  "
       ]
      },
      {
       "output_type": "stream",
       "stream": "stdout",
       "text": [
        "MW1RDS  "
       ]
      },
      {
       "output_type": "stream",
       "stream": "stdout",
       "text": [
        "CGNG38  "
       ]
      },
      {
       "output_type": "stream",
       "stream": "stdout",
       "text": [
        "G40O6B  "
       ]
      },
      {
       "output_type": "stream",
       "stream": "stdout",
       "text": [
        "6R1RXH  "
       ]
      },
      {
       "output_type": "stream",
       "stream": "stdout",
       "text": [
        "56WV46  "
       ]
      },
      {
       "output_type": "stream",
       "stream": "stdout",
       "text": [
        "TJP9D5  "
       ]
      },
      {
       "output_type": "stream",
       "stream": "stdout",
       "text": [
        "EDJ1KC  "
       ]
      },
      {
       "output_type": "stream",
       "stream": "stdout",
       "text": [
        "JPDUJB  "
       ]
      },
      {
       "output_type": "stream",
       "stream": "stdout",
       "text": [
        "S4OJLO  "
       ]
      },
      {
       "output_type": "stream",
       "stream": "stdout",
       "text": [
        "HGDR50  "
       ]
      },
      {
       "output_type": "stream",
       "stream": "stdout",
       "text": [
        "8U402S  "
       ]
      },
      {
       "output_type": "stream",
       "stream": "stdout",
       "text": [
        "9KU0H3  "
       ]
      },
      {
       "output_type": "stream",
       "stream": "stdout",
       "text": [
        "Y9X56H  "
       ]
      },
      {
       "output_type": "stream",
       "stream": "stdout",
       "text": [
        "387A9M  "
       ]
      },
      {
       "output_type": "stream",
       "stream": "stdout",
       "text": [
        "QFM9J3  "
       ]
      },
      {
       "output_type": "stream",
       "stream": "stdout",
       "text": [
        "WDFC0Y  "
       ]
      },
      {
       "output_type": "stream",
       "stream": "stdout",
       "text": [
        "4WR9O9  "
       ]
      },
      {
       "output_type": "stream",
       "stream": "stdout",
       "text": [
        "UZXONY  "
       ]
      },
      {
       "output_type": "stream",
       "stream": "stdout",
       "text": [
        "OAE679  "
       ]
      },
      {
       "output_type": "stream",
       "stream": "stdout",
       "text": [
        "T92T7T  "
       ]
      },
      {
       "output_type": "stream",
       "stream": "stdout",
       "text": [
        "R2LSY9  "
       ]
      },
      {
       "output_type": "stream",
       "stream": "stdout",
       "text": [
        "GOKUKB  "
       ]
      },
      {
       "output_type": "stream",
       "stream": "stdout",
       "text": [
        "L4F072  "
       ]
      },
      {
       "output_type": "stream",
       "stream": "stdout",
       "text": [
        "ABY1I6  "
       ]
      },
      {
       "output_type": "stream",
       "stream": "stdout",
       "text": [
        "CZTP6M  "
       ]
      },
      {
       "output_type": "stream",
       "stream": "stdout",
       "text": [
        "9XYLO6  "
       ]
      },
      {
       "output_type": "stream",
       "stream": "stdout",
       "text": [
        "SMKZHE  "
       ]
      },
      {
       "output_type": "stream",
       "stream": "stdout",
       "text": [
        "MHBMBK  "
       ]
      },
      {
       "output_type": "stream",
       "stream": "stdout",
       "text": [
        "EZG8O2  "
       ]
      },
      {
       "output_type": "stream",
       "stream": "stdout",
       "text": [
        "MZFLCH  "
       ]
      },
      {
       "output_type": "stream",
       "stream": "stdout",
       "text": [
        "UMVVPO  "
       ]
      },
      {
       "output_type": "stream",
       "stream": "stdout",
       "text": [
        "310AA1  "
       ]
      },
      {
       "output_type": "stream",
       "stream": "stdout",
       "text": [
        "XIYGGS  "
       ]
      },
      {
       "output_type": "stream",
       "stream": "stdout",
       "text": [
        "16DJRO  "
       ]
      },
      {
       "output_type": "stream",
       "stream": "stdout",
       "text": [
        "R6H1YK  "
       ]
      },
      {
       "output_type": "stream",
       "stream": "stdout",
       "text": [
        "GPVZQ7  "
       ]
      },
      {
       "output_type": "stream",
       "stream": "stdout",
       "text": [
        "QFM9XC  "
       ]
      },
      {
       "output_type": "stream",
       "stream": "stdout",
       "text": [
        "QYYDFO  "
       ]
      },
      {
       "output_type": "stream",
       "stream": "stdout",
       "text": [
        "EW5WVD  "
       ]
      },
      {
       "output_type": "stream",
       "stream": "stdout",
       "text": [
        "3LSGHZ  "
       ]
      },
      {
       "output_type": "stream",
       "stream": "stdout",
       "text": [
        "XW0QIP  "
       ]
      },
      {
       "output_type": "stream",
       "stream": "stdout",
       "text": [
        "FTX0TV  "
       ]
      },
      {
       "output_type": "stream",
       "stream": "stdout",
       "text": [
        "DGAQU4  "
       ]
      },
      {
       "output_type": "stream",
       "stream": "stdout",
       "text": [
        "RIPSA1  "
       ]
      },
      {
       "output_type": "stream",
       "stream": "stdout",
       "text": [
        "PK0JPU  "
       ]
      },
      {
       "output_type": "stream",
       "stream": "stdout",
       "text": [
        "5OOR0U  "
       ]
      },
      {
       "output_type": "stream",
       "stream": "stdout",
       "text": [
        "38QOT5  "
       ]
      },
      {
       "output_type": "stream",
       "stream": "stdout",
       "text": [
        "CTI6BA  "
       ]
      },
      {
       "output_type": "stream",
       "stream": "stdout",
       "text": [
        "FYTJWW  "
       ]
      },
      {
       "output_type": "stream",
       "stream": "stdout",
       "text": [
        "T5RJTJ  "
       ]
      },
      {
       "output_type": "stream",
       "stream": "stdout",
       "text": [
        "JZZN5K  "
       ]
      },
      {
       "output_type": "stream",
       "stream": "stdout",
       "text": [
        "2AZV6Z  "
       ]
      },
      {
       "output_type": "stream",
       "stream": "stdout",
       "text": [
        "URSMKW  "
       ]
      },
      {
       "output_type": "stream",
       "stream": "stdout",
       "text": [
        "8EUDNJ  "
       ]
      },
      {
       "output_type": "stream",
       "stream": "stdout",
       "text": [
        "AHDIW2  "
       ]
      },
      {
       "output_type": "stream",
       "stream": "stdout",
       "text": [
        "PYYI23  "
       ]
      },
      {
       "output_type": "stream",
       "stream": "stdout",
       "text": [
        "GY2SR6  "
       ]
      },
      {
       "output_type": "stream",
       "stream": "stdout",
       "text": [
        "NU0ARO  "
       ]
      },
      {
       "output_type": "stream",
       "stream": "stdout",
       "text": [
        "6QG12M  "
       ]
      },
      {
       "output_type": "stream",
       "stream": "stdout",
       "text": [
        "NCVRJ3  "
       ]
      },
      {
       "output_type": "stream",
       "stream": "stdout",
       "text": [
        "YSY73T  "
       ]
      },
      {
       "output_type": "stream",
       "stream": "stdout",
       "text": [
        "HFD76X  "
       ]
      },
      {
       "output_type": "stream",
       "stream": "stdout",
       "text": [
        "CQ3R94  "
       ]
      },
      {
       "output_type": "stream",
       "stream": "stdout",
       "text": [
        "XQSU93  "
       ]
      },
      {
       "output_type": "stream",
       "stream": "stdout",
       "text": [
        "L1KF0H  "
       ]
      },
      {
       "output_type": "stream",
       "stream": "stdout",
       "text": [
        "CZKIVG  "
       ]
      },
      {
       "output_type": "stream",
       "stream": "stdout",
       "text": [
        "VIZV8S  "
       ]
      },
      {
       "output_type": "stream",
       "stream": "stdout",
       "text": [
        "Q5I58T  "
       ]
      },
      {
       "output_type": "stream",
       "stream": "stdout",
       "text": [
        "O6HAJN  "
       ]
      },
      {
       "output_type": "stream",
       "stream": "stdout",
       "text": [
        "T8L1EG  "
       ]
      },
      {
       "output_type": "stream",
       "stream": "stdout",
       "text": [
        "U3CJNX  "
       ]
      },
      {
       "output_type": "stream",
       "stream": "stdout",
       "text": [
        "PS7UGI  "
       ]
      },
      {
       "output_type": "stream",
       "stream": "stdout",
       "text": [
        "SK4IE4  "
       ]
      },
      {
       "output_type": "stream",
       "stream": "stdout",
       "text": [
        "CGL3SS  "
       ]
      },
      {
       "output_type": "stream",
       "stream": "stdout",
       "text": [
        "421FUW  "
       ]
      },
      {
       "output_type": "stream",
       "stream": "stdout",
       "text": [
        "SD1ZPI  "
       ]
      },
      {
       "output_type": "stream",
       "stream": "stdout",
       "text": [
        "OEO1O7  "
       ]
      },
      {
       "output_type": "stream",
       "stream": "stdout",
       "text": [
        "KLC40J  "
       ]
      },
      {
       "output_type": "stream",
       "stream": "stdout",
       "text": [
        "7CMU00  "
       ]
      },
      {
       "output_type": "stream",
       "stream": "stdout",
       "text": [
        "A60YCR  "
       ]
      },
      {
       "output_type": "stream",
       "stream": "stdout",
       "text": [
        "HOY0KD  "
       ]
      },
      {
       "output_type": "stream",
       "stream": "stdout",
       "text": [
        "98JDAT  "
       ]
      },
      {
       "output_type": "stream",
       "stream": "stdout",
       "text": [
        "9XRCPP  "
       ]
      },
      {
       "output_type": "stream",
       "stream": "stdout",
       "text": [
        "UHO0MY  "
       ]
      },
      {
       "output_type": "stream",
       "stream": "stdout",
       "text": [
        "KZHU5Q  "
       ]
      },
      {
       "output_type": "stream",
       "stream": "stdout",
       "text": [
        "QL0NHR  "
       ]
      },
      {
       "output_type": "stream",
       "stream": "stdout",
       "text": [
        "HMLZZZ  "
       ]
      },
      {
       "output_type": "stream",
       "stream": "stdout",
       "text": [
        "LU2D0X  "
       ]
      },
      {
       "output_type": "stream",
       "stream": "stdout",
       "text": [
        "G2GHUX  "
       ]
      },
      {
       "output_type": "stream",
       "stream": "stdout",
       "text": [
        "R3NH1L  "
       ]
      },
      {
       "output_type": "stream",
       "stream": "stdout",
       "text": [
        "PDS6GS  "
       ]
      },
      {
       "output_type": "stream",
       "stream": "stdout",
       "text": [
        "KPCHGM  "
       ]
      },
      {
       "output_type": "stream",
       "stream": "stdout",
       "text": [
        "KLZG82  "
       ]
      },
      {
       "output_type": "stream",
       "stream": "stdout",
       "text": [
        "57WJWD  "
       ]
      },
      {
       "output_type": "stream",
       "stream": "stdout",
       "text": [
        "GL1GMW  "
       ]
      },
      {
       "output_type": "stream",
       "stream": "stdout",
       "text": [
        "DLRC5E  "
       ]
      },
      {
       "output_type": "stream",
       "stream": "stdout",
       "text": [
        "30J6SB  "
       ]
      },
      {
       "output_type": "stream",
       "stream": "stdout",
       "text": [
        "CX0C6R  "
       ]
      },
      {
       "output_type": "stream",
       "stream": "stdout",
       "text": [
        "MXV0X5  "
       ]
      },
      {
       "output_type": "stream",
       "stream": "stdout",
       "text": [
        "P5RJ42  "
       ]
      },
      {
       "output_type": "stream",
       "stream": "stdout",
       "text": [
        "4HDTOF  "
       ]
      },
      {
       "output_type": "stream",
       "stream": "stdout",
       "text": [
        "O9BRDI  "
       ]
      },
      {
       "output_type": "stream",
       "stream": "stdout",
       "text": [
        "2L6DM0  "
       ]
      },
      {
       "output_type": "stream",
       "stream": "stdout",
       "text": [
        "JPWX6G  "
       ]
      },
      {
       "output_type": "stream",
       "stream": "stdout",
       "text": [
        "YDEGJQ  "
       ]
      },
      {
       "output_type": "stream",
       "stream": "stdout",
       "text": [
        "JF0YXH  "
       ]
      }
     ],
     "prompt_number": "*"
    },
    {
     "cell_type": "code",
     "collapsed": false,
     "input": [
      "correct_is, total_is = matching.folderMatch(directory, dt, matching.isoMatch, thresholds_iso, keypoint, descriptor)"
     ],
     "language": "python",
     "metadata": {},
     "outputs": [],
     "prompt_number": "*"
    },
    {
     "cell_type": "code",
     "collapsed": false,
     "input": [
      "correct_ss, total_ss = matching.folderMatch(directory, dt, matching.spectralMatch, thresholds_spectral, keypoint, descriptor)"
     ],
     "language": "python",
     "metadata": {},
     "outputs": [
      {
       "output_type": "stream",
       "stream": "stdout",
       "text": [
        "2Z1K6C  "
       ]
      },
      {
       "output_type": "stream",
       "stream": "stdout",
       "text": [
        "1G8ML7  "
       ]
      },
      {
       "output_type": "stream",
       "stream": "stdout",
       "text": [
        "N8ZL5S  "
       ]
      },
      {
       "output_type": "stream",
       "stream": "stdout",
       "text": [
        "80WQUR  "
       ]
      },
      {
       "output_type": "stream",
       "stream": "stdout",
       "text": [
        "FZ7Y7P  "
       ]
      },
      {
       "output_type": "stream",
       "stream": "stdout",
       "text": [
        "DQD1SV  "
       ]
      },
      {
       "output_type": "stream",
       "stream": "stdout",
       "text": [
        "3A4O9O  "
       ]
      },
      {
       "output_type": "stream",
       "stream": "stdout",
       "text": [
        "KWBC3Y  "
       ]
      },
      {
       "output_type": "stream",
       "stream": "stdout",
       "text": [
        "8H5ZWL  "
       ]
      },
      {
       "output_type": "stream",
       "stream": "stdout",
       "text": [
        "LTTDP3  "
       ]
      },
      {
       "output_type": "stream",
       "stream": "stdout",
       "text": [
        "LMX1E1  "
       ]
      },
      {
       "output_type": "stream",
       "stream": "stdout",
       "text": [
        "TISHXN  "
       ]
      },
      {
       "output_type": "stream",
       "stream": "stdout",
       "text": [
        "EM5ACH  "
       ]
      },
      {
       "output_type": "stream",
       "stream": "stdout",
       "text": [
        "9OIRPZ  "
       ]
      },
      {
       "output_type": "stream",
       "stream": "stdout",
       "text": [
        "4E2RRN  "
       ]
      },
      {
       "output_type": "stream",
       "stream": "stdout",
       "text": [
        "QMRBV3  "
       ]
      },
      {
       "output_type": "stream",
       "stream": "stdout",
       "text": [
        "PTY26L  "
       ]
      },
      {
       "output_type": "stream",
       "stream": "stdout",
       "text": [
        "O5KS4T  "
       ]
      },
      {
       "output_type": "stream",
       "stream": "stdout",
       "text": [
        "R0646X  "
       ]
      },
      {
       "output_type": "stream",
       "stream": "stdout",
       "text": [
        "40VXKM  "
       ]
      },
      {
       "output_type": "stream",
       "stream": "stdout",
       "text": [
        "TQWDXL  "
       ]
      },
      {
       "output_type": "stream",
       "stream": "stdout",
       "text": [
        "7E75DI  "
       ]
      },
      {
       "output_type": "stream",
       "stream": "stdout",
       "text": [
        "HTTBV4  "
       ]
      },
      {
       "output_type": "stream",
       "stream": "stdout",
       "text": [
        "M4SDMI  "
       ]
      },
      {
       "output_type": "stream",
       "stream": "stdout",
       "text": [
        "ZDLKYP  "
       ]
      },
      {
       "output_type": "stream",
       "stream": "stdout",
       "text": [
        "RSX4C0  "
       ]
      },
      {
       "output_type": "stream",
       "stream": "stdout",
       "text": [
        "2RWBM5  "
       ]
      },
      {
       "output_type": "stream",
       "stream": "stdout",
       "text": [
        "ABDX1R  "
       ]
      },
      {
       "output_type": "stream",
       "stream": "stdout",
       "text": [
        "5JXEBK  "
       ]
      },
      {
       "output_type": "stream",
       "stream": "stdout",
       "text": [
        "JTWQ0P  "
       ]
      },
      {
       "output_type": "stream",
       "stream": "stdout",
       "text": [
        "QMQO7I  "
       ]
      },
      {
       "output_type": "stream",
       "stream": "stdout",
       "text": [
        "XV9FBA  "
       ]
      },
      {
       "output_type": "stream",
       "stream": "stdout",
       "text": [
        "C59YBW  "
       ]
      },
      {
       "output_type": "stream",
       "stream": "stdout",
       "text": [
        "73I4OJ  "
       ]
      },
      {
       "output_type": "stream",
       "stream": "stdout",
       "text": [
        "4DRQ8W  "
       ]
      },
      {
       "output_type": "stream",
       "stream": "stdout",
       "text": [
        "30GRRM  "
       ]
      },
      {
       "output_type": "stream",
       "stream": "stdout",
       "text": [
        "GYU94F  "
       ]
      },
      {
       "output_type": "stream",
       "stream": "stdout",
       "text": [
        "RXSATM  "
       ]
      },
      {
       "output_type": "stream",
       "stream": "stdout",
       "text": [
        "ON8XNZ  "
       ]
      },
      {
       "output_type": "stream",
       "stream": "stdout",
       "text": [
        "UYO3FK  "
       ]
      },
      {
       "output_type": "stream",
       "stream": "stdout",
       "text": [
        "U8VD2L  "
       ]
      },
      {
       "output_type": "stream",
       "stream": "stdout",
       "text": [
        "Z4OJVA  "
       ]
      },
      {
       "output_type": "stream",
       "stream": "stdout",
       "text": [
        "DISHQG  "
       ]
      },
      {
       "output_type": "stream",
       "stream": "stdout",
       "text": [
        "GXIP8V  "
       ]
      },
      {
       "output_type": "stream",
       "stream": "stdout",
       "text": [
        "0LY95L  "
       ]
      },
      {
       "output_type": "stream",
       "stream": "stdout",
       "text": [
        "ZLI3NJ  "
       ]
      },
      {
       "output_type": "stream",
       "stream": "stdout",
       "text": [
        "506NNA  "
       ]
      },
      {
       "output_type": "stream",
       "stream": "stdout",
       "text": [
        "9GR9LR  "
       ]
      },
      {
       "output_type": "stream",
       "stream": "stdout",
       "text": [
        "HKC7GO  "
       ]
      },
      {
       "output_type": "stream",
       "stream": "stdout",
       "text": [
        "NR1A0E  "
       ]
      },
      {
       "output_type": "stream",
       "stream": "stdout",
       "text": [
        "C990P0  "
       ]
      },
      {
       "output_type": "stream",
       "stream": "stdout",
       "text": [
        "5MMNGA  "
       ]
      },
      {
       "output_type": "stream",
       "stream": "stdout",
       "text": [
        "IU0ZJX  "
       ]
      },
      {
       "output_type": "stream",
       "stream": "stdout",
       "text": [
        "DX4VR8  "
       ]
      },
      {
       "output_type": "stream",
       "stream": "stdout",
       "text": [
        "4VYIZG  "
       ]
      },
      {
       "output_type": "stream",
       "stream": "stdout",
       "text": [
        "2X3EKZ  "
       ]
      },
      {
       "output_type": "stream",
       "stream": "stdout",
       "text": [
        "1AG0DK  "
       ]
      },
      {
       "output_type": "stream",
       "stream": "stdout",
       "text": [
        "UYC6W4  "
       ]
      },
      {
       "output_type": "stream",
       "stream": "stdout",
       "text": [
        "O0MD4E  "
       ]
      },
      {
       "output_type": "stream",
       "stream": "stdout",
       "text": [
        "5EPS6U  "
       ]
      },
      {
       "output_type": "stream",
       "stream": "stdout",
       "text": [
        "OZJV1X  "
       ]
      },
      {
       "output_type": "stream",
       "stream": "stdout",
       "text": [
        "027XAS  "
       ]
      },
      {
       "output_type": "stream",
       "stream": "stdout",
       "text": [
        "6GQH93  "
       ]
      },
      {
       "output_type": "stream",
       "stream": "stdout",
       "text": [
        "9DUE6Z  "
       ]
      },
      {
       "output_type": "stream",
       "stream": "stdout",
       "text": [
        "Z2DT1R  "
       ]
      },
      {
       "output_type": "stream",
       "stream": "stdout",
       "text": [
        "RVN6CE  "
       ]
      },
      {
       "output_type": "stream",
       "stream": "stdout",
       "text": [
        "L4GZX3  "
       ]
      },
      {
       "output_type": "stream",
       "stream": "stdout",
       "text": [
        "X7RNOZ  "
       ]
      },
      {
       "output_type": "stream",
       "stream": "stdout",
       "text": [
        "Z5V44Y  "
       ]
      },
      {
       "output_type": "stream",
       "stream": "stdout",
       "text": [
        "ZJVEE5  "
       ]
      },
      {
       "output_type": "stream",
       "stream": "stdout",
       "text": [
        "562WAS  "
       ]
      },
      {
       "output_type": "stream",
       "stream": "stdout",
       "text": [
        "OYTGYJ  "
       ]
      },
      {
       "output_type": "stream",
       "stream": "stdout",
       "text": [
        "FVQKXZ  "
       ]
      },
      {
       "output_type": "stream",
       "stream": "stdout",
       "text": [
        "EWNOIH  "
       ]
      },
      {
       "output_type": "stream",
       "stream": "stdout",
       "text": [
        "K65L9N  "
       ]
      },
      {
       "output_type": "stream",
       "stream": "stdout",
       "text": [
        "UCR3N5  "
       ]
      },
      {
       "output_type": "stream",
       "stream": "stdout",
       "text": [
        "E66R8I  "
       ]
      },
      {
       "output_type": "stream",
       "stream": "stdout",
       "text": [
        "R6XGWO  "
       ]
      },
      {
       "output_type": "stream",
       "stream": "stdout",
       "text": [
        "V5PMW7  "
       ]
      },
      {
       "output_type": "stream",
       "stream": "stdout",
       "text": [
        "K9H1ZQ  "
       ]
      },
      {
       "output_type": "stream",
       "stream": "stdout",
       "text": [
        "GFVQHI  "
       ]
      },
      {
       "output_type": "stream",
       "stream": "stdout",
       "text": [
        "K3XUTE  "
       ]
      },
      {
       "output_type": "stream",
       "stream": "stdout",
       "text": [
        "WKXL4H  "
       ]
      },
      {
       "output_type": "stream",
       "stream": "stdout",
       "text": [
        "NR22QM  "
       ]
      },
      {
       "output_type": "stream",
       "stream": "stdout",
       "text": [
        "MFUEHH  "
       ]
      },
      {
       "output_type": "stream",
       "stream": "stdout",
       "text": [
        "V8FD6F  "
       ]
      },
      {
       "output_type": "stream",
       "stream": "stdout",
       "text": [
        "A7SRQB  "
       ]
      },
      {
       "output_type": "stream",
       "stream": "stdout",
       "text": [
        "497LZC  "
       ]
      },
      {
       "output_type": "stream",
       "stream": "stdout",
       "text": [
        "WRAOHB  "
       ]
      },
      {
       "output_type": "stream",
       "stream": "stdout",
       "text": [
        "Z1JVRT  "
       ]
      },
      {
       "output_type": "stream",
       "stream": "stdout",
       "text": [
        "S82EMR  "
       ]
      },
      {
       "output_type": "stream",
       "stream": "stdout",
       "text": [
        "390GUN  "
       ]
      },
      {
       "output_type": "stream",
       "stream": "stdout",
       "text": [
        "O9CB81  "
       ]
      },
      {
       "output_type": "stream",
       "stream": "stdout",
       "text": [
        "1LXD7T  "
       ]
      },
      {
       "output_type": "stream",
       "stream": "stdout",
       "text": [
        "AY34K3  "
       ]
      },
      {
       "output_type": "stream",
       "stream": "stdout",
       "text": [
        "TSWGO2  "
       ]
      },
      {
       "output_type": "stream",
       "stream": "stdout",
       "text": [
        "C2IRR5  "
       ]
      },
      {
       "output_type": "stream",
       "stream": "stdout",
       "text": [
        "FC25UA  "
       ]
      },
      {
       "output_type": "stream",
       "stream": "stdout",
       "text": [
        "3OB719  "
       ]
      },
      {
       "output_type": "stream",
       "stream": "stdout",
       "text": [
        "96TCQ8  "
       ]
      },
      {
       "output_type": "stream",
       "stream": "stdout",
       "text": [
        "CTT9O7  "
       ]
      },
      {
       "output_type": "stream",
       "stream": "stdout",
       "text": [
        "JWKZ6F  "
       ]
      },
      {
       "output_type": "stream",
       "stream": "stdout",
       "text": [
        "LHD8CQ  "
       ]
      },
      {
       "output_type": "stream",
       "stream": "stdout",
       "text": [
        "99IZJG  "
       ]
      },
      {
       "output_type": "stream",
       "stream": "stdout",
       "text": [
        "02U4EY  "
       ]
      },
      {
       "output_type": "stream",
       "stream": "stdout",
       "text": [
        "YJ0V36  "
       ]
      },
      {
       "output_type": "stream",
       "stream": "stdout",
       "text": [
        "GAUWCW  "
       ]
      },
      {
       "output_type": "stream",
       "stream": "stdout",
       "text": [
        "OG7M3L  "
       ]
      },
      {
       "output_type": "stream",
       "stream": "stdout",
       "text": [
        "GC2YIY  "
       ]
      },
      {
       "output_type": "stream",
       "stream": "stdout",
       "text": [
        "BOU48K  "
       ]
      },
      {
       "output_type": "stream",
       "stream": "stdout",
       "text": [
        "6M5CE1  "
       ]
      },
      {
       "output_type": "stream",
       "stream": "stdout",
       "text": [
        "8TKX44  "
       ]
      },
      {
       "output_type": "stream",
       "stream": "stdout",
       "text": [
        "2F9Y0I  "
       ]
      },
      {
       "output_type": "stream",
       "stream": "stdout",
       "text": [
        "NKKDD1  "
       ]
      },
      {
       "output_type": "stream",
       "stream": "stdout",
       "text": [
        "6BPO0Z  "
       ]
      },
      {
       "output_type": "stream",
       "stream": "stdout",
       "text": [
        "5QP2CW  "
       ]
      },
      {
       "output_type": "stream",
       "stream": "stdout",
       "text": [
        "VKRCBU  "
       ]
      },
      {
       "output_type": "stream",
       "stream": "stdout",
       "text": [
        "CR84HK  "
       ]
      },
      {
       "output_type": "stream",
       "stream": "stdout",
       "text": [
        "SU6QSW  "
       ]
      },
      {
       "output_type": "stream",
       "stream": "stdout",
       "text": [
        "3H7MQB  "
       ]
      },
      {
       "output_type": "stream",
       "stream": "stdout",
       "text": [
        "WG1F1C  "
       ]
      },
      {
       "output_type": "stream",
       "stream": "stdout",
       "text": [
        "C0KFH9  "
       ]
      },
      {
       "output_type": "stream",
       "stream": "stdout",
       "text": [
        "VBPEBC  "
       ]
      },
      {
       "output_type": "stream",
       "stream": "stdout",
       "text": [
        "JYM95A  "
       ]
      },
      {
       "output_type": "stream",
       "stream": "stdout",
       "text": [
        "6AMKG9  "
       ]
      },
      {
       "output_type": "stream",
       "stream": "stdout",
       "text": [
        "88ZM7V  "
       ]
      },
      {
       "output_type": "stream",
       "stream": "stdout",
       "text": [
        "5T4CVX  "
       ]
      },
      {
       "output_type": "stream",
       "stream": "stdout",
       "text": [
        "H945QK  "
       ]
      },
      {
       "output_type": "stream",
       "stream": "stdout",
       "text": [
        "R2TGES  "
       ]
      },
      {
       "output_type": "stream",
       "stream": "stdout",
       "text": [
        "NV83UC  "
       ]
      },
      {
       "output_type": "stream",
       "stream": "stdout",
       "text": [
        "N15IEM  "
       ]
      },
      {
       "output_type": "stream",
       "stream": "stdout",
       "text": [
        "4NIA8P  "
       ]
      },
      {
       "output_type": "stream",
       "stream": "stdout",
       "text": [
        "88VB3K  "
       ]
      },
      {
       "output_type": "stream",
       "stream": "stdout",
       "text": [
        "J1M6N1  "
       ]
      },
      {
       "output_type": "stream",
       "stream": "stdout",
       "text": [
        "Q85NVQ  "
       ]
      },
      {
       "output_type": "stream",
       "stream": "stdout",
       "text": [
        "KHD6GV  "
       ]
      },
      {
       "output_type": "stream",
       "stream": "stdout",
       "text": [
        "MH3YHA  "
       ]
      },
      {
       "output_type": "stream",
       "stream": "stdout",
       "text": [
        "UMZKOZ  "
       ]
      },
      {
       "output_type": "stream",
       "stream": "stdout",
       "text": [
        "Y6QT0C  "
       ]
      },
      {
       "output_type": "stream",
       "stream": "stdout",
       "text": [
        "P92G0U  "
       ]
      },
      {
       "output_type": "stream",
       "stream": "stdout",
       "text": [
        "ONOFO1  "
       ]
      },
      {
       "output_type": "stream",
       "stream": "stdout",
       "text": [
        "9OZS6Y  "
       ]
      },
      {
       "output_type": "stream",
       "stream": "stdout",
       "text": [
        "BCR72R  "
       ]
      },
      {
       "output_type": "stream",
       "stream": "stdout",
       "text": [
        "DYHAHI  "
       ]
      },
      {
       "output_type": "stream",
       "stream": "stdout",
       "text": [
        "ZCC15V  "
       ]
      },
      {
       "output_type": "stream",
       "stream": "stdout",
       "text": [
        "I9ZVM2  "
       ]
      },
      {
       "output_type": "stream",
       "stream": "stdout",
       "text": [
        "FTNBIY  "
       ]
      },
      {
       "output_type": "stream",
       "stream": "stdout",
       "text": [
        "RFJ848  "
       ]
      },
      {
       "output_type": "stream",
       "stream": "stdout",
       "text": [
        "TI5IGD  "
       ]
      },
      {
       "output_type": "stream",
       "stream": "stdout",
       "text": [
        "EWAA43  "
       ]
      },
      {
       "output_type": "stream",
       "stream": "stdout",
       "text": [
        "AG5R8C  "
       ]
      },
      {
       "output_type": "stream",
       "stream": "stdout",
       "text": [
        "6PQOII  "
       ]
      },
      {
       "output_type": "stream",
       "stream": "stdout",
       "text": [
        "C41ICC  "
       ]
      },
      {
       "output_type": "stream",
       "stream": "stdout",
       "text": [
        "B3511Y  "
       ]
      },
      {
       "output_type": "stream",
       "stream": "stdout",
       "text": [
        "SD2G0W  "
       ]
      },
      {
       "output_type": "stream",
       "stream": "stdout",
       "text": [
        "JSR3EY  "
       ]
      },
      {
       "output_type": "stream",
       "stream": "stdout",
       "text": [
        "Y48RCM  "
       ]
      },
      {
       "output_type": "stream",
       "stream": "stdout",
       "text": [
        "DUMA3G  "
       ]
      },
      {
       "output_type": "stream",
       "stream": "stdout",
       "text": [
        "OBNVV9  "
       ]
      },
      {
       "output_type": "stream",
       "stream": "stdout",
       "text": [
        "1MQKGP  "
       ]
      },
      {
       "output_type": "stream",
       "stream": "stdout",
       "text": [
        "XOG8XE  "
       ]
      },
      {
       "output_type": "stream",
       "stream": "stdout",
       "text": [
        "OC5OBJ  "
       ]
      },
      {
       "output_type": "stream",
       "stream": "stdout",
       "text": [
        "J8WBWW  "
       ]
      },
      {
       "output_type": "stream",
       "stream": "stdout",
       "text": [
        "K0M6ZE  "
       ]
      },
      {
       "output_type": "stream",
       "stream": "stdout",
       "text": [
        "MJEIE5  "
       ]
      },
      {
       "output_type": "stream",
       "stream": "stdout",
       "text": [
        "ED4A0S  "
       ]
      },
      {
       "output_type": "stream",
       "stream": "stdout",
       "text": [
        "IY3Y5O  "
       ]
      },
      {
       "output_type": "stream",
       "stream": "stdout",
       "text": [
        "M11916  "
       ]
      },
      {
       "output_type": "stream",
       "stream": "stdout",
       "text": [
        "4BN1ES  "
       ]
      },
      {
       "output_type": "stream",
       "stream": "stdout",
       "text": [
        "PDI14T  "
       ]
      },
      {
       "output_type": "stream",
       "stream": "stdout",
       "text": [
        "WT1AO2  "
       ]
      },
      {
       "output_type": "stream",
       "stream": "stdout",
       "text": [
        "FCEDNV  "
       ]
      },
      {
       "output_type": "stream",
       "stream": "stdout",
       "text": [
        "XCX2CD  "
       ]
      },
      {
       "output_type": "stream",
       "stream": "stdout",
       "text": [
        "Y0UL7L  "
       ]
      },
      {
       "output_type": "stream",
       "stream": "stdout",
       "text": [
        "9RLQ3P  "
       ]
      },
      {
       "output_type": "stream",
       "stream": "stdout",
       "text": [
        "3IDQXO  "
       ]
      },
      {
       "output_type": "stream",
       "stream": "stdout",
       "text": [
        "FWHY5W  "
       ]
      },
      {
       "output_type": "stream",
       "stream": "stdout",
       "text": [
        "RQOWCQ  "
       ]
      },
      {
       "output_type": "stream",
       "stream": "stdout",
       "text": [
        "HTZFJ8  "
       ]
      },
      {
       "output_type": "stream",
       "stream": "stdout",
       "text": [
        "PKFE3V  "
       ]
      },
      {
       "output_type": "stream",
       "stream": "stdout",
       "text": [
        "BB6WUJ  "
       ]
      },
      {
       "output_type": "stream",
       "stream": "stdout",
       "text": [
        "Q2VUI6  "
       ]
      },
      {
       "output_type": "stream",
       "stream": "stdout",
       "text": [
        "U85EUV  "
       ]
      },
      {
       "output_type": "stream",
       "stream": "stdout",
       "text": [
        "7THEDW  "
       ]
      },
      {
       "output_type": "stream",
       "stream": "stdout",
       "text": [
        "3GXGVG  "
       ]
      },
      {
       "output_type": "stream",
       "stream": "stdout",
       "text": [
        "BTCSFU  "
       ]
      },
      {
       "output_type": "stream",
       "stream": "stdout",
       "text": [
        "WGI5OO  "
       ]
      },
      {
       "output_type": "stream",
       "stream": "stdout",
       "text": [
        "GGRDSR  "
       ]
      },
      {
       "output_type": "stream",
       "stream": "stdout",
       "text": [
        "4HS2P7  "
       ]
      },
      {
       "output_type": "stream",
       "stream": "stdout",
       "text": [
        "DYY6BX  "
       ]
      },
      {
       "output_type": "stream",
       "stream": "stdout",
       "text": [
        "CT6JD6  "
       ]
      },
      {
       "output_type": "stream",
       "stream": "stdout",
       "text": [
        "74SBU7  "
       ]
      },
      {
       "output_type": "stream",
       "stream": "stdout",
       "text": [
        "O15TRA  "
       ]
      },
      {
       "output_type": "stream",
       "stream": "stdout",
       "text": [
        "QFDDX8  "
       ]
      },
      {
       "output_type": "stream",
       "stream": "stdout",
       "text": [
        "BBVWGK  "
       ]
      },
      {
       "output_type": "stream",
       "stream": "stdout",
       "text": [
        "XJ9KKK  "
       ]
      },
      {
       "output_type": "stream",
       "stream": "stdout",
       "text": [
        "DU42D0  "
       ]
      },
      {
       "output_type": "stream",
       "stream": "stdout",
       "text": [
        "VD8QRW  "
       ]
      },
      {
       "output_type": "stream",
       "stream": "stdout",
       "text": [
        "AXBJ6A  "
       ]
      },
      {
       "output_type": "stream",
       "stream": "stdout",
       "text": [
        "EW9Z3B  "
       ]
      },
      {
       "output_type": "stream",
       "stream": "stdout",
       "text": [
        "ILYYLP  "
       ]
      },
      {
       "output_type": "stream",
       "stream": "stdout",
       "text": [
        "02N338  "
       ]
      },
      {
       "output_type": "stream",
       "stream": "stdout",
       "text": [
        "GHEC7B  "
       ]
      },
      {
       "output_type": "stream",
       "stream": "stdout",
       "text": [
        "ZCEHP5  "
       ]
      },
      {
       "output_type": "stream",
       "stream": "stdout",
       "text": [
        "FAQYNX  "
       ]
      },
      {
       "output_type": "stream",
       "stream": "stdout",
       "text": [
        "EJGC2Z  "
       ]
      },
      {
       "output_type": "stream",
       "stream": "stdout",
       "text": [
        "OMIVKH  "
       ]
      },
      {
       "output_type": "stream",
       "stream": "stdout",
       "text": [
        "1S3O4K  "
       ]
      },
      {
       "output_type": "stream",
       "stream": "stdout",
       "text": [
        "MM7OGI  "
       ]
      },
      {
       "output_type": "stream",
       "stream": "stdout",
       "text": [
        "2KCN8N  "
       ]
      },
      {
       "output_type": "stream",
       "stream": "stdout",
       "text": [
        "Q098UC  "
       ]
      },
      {
       "output_type": "stream",
       "stream": "stdout",
       "text": [
        "542PL1  "
       ]
      },
      {
       "output_type": "stream",
       "stream": "stdout",
       "text": [
        "90QSSN  "
       ]
      },
      {
       "output_type": "stream",
       "stream": "stdout",
       "text": [
        "9U7142  "
       ]
      },
      {
       "output_type": "stream",
       "stream": "stdout",
       "text": [
        "685PWY  "
       ]
      },
      {
       "output_type": "stream",
       "stream": "stdout",
       "text": [
        "M0CTCU  "
       ]
      },
      {
       "output_type": "stream",
       "stream": "stdout",
       "text": [
        "CZCLEF  "
       ]
      },
      {
       "output_type": "stream",
       "stream": "stdout",
       "text": [
        "7JNC7P  "
       ]
      },
      {
       "output_type": "stream",
       "stream": "stdout",
       "text": [
        "WA7Q6U  "
       ]
      },
      {
       "output_type": "stream",
       "stream": "stdout",
       "text": [
        "Q4PETF  "
       ]
      },
      {
       "output_type": "stream",
       "stream": "stdout",
       "text": [
        "Z3TKIJ  "
       ]
      },
      {
       "output_type": "stream",
       "stream": "stdout",
       "text": [
        "4UBI8S  "
       ]
      },
      {
       "output_type": "stream",
       "stream": "stdout",
       "text": [
        "8SHHD1  "
       ]
      },
      {
       "output_type": "stream",
       "stream": "stdout",
       "text": [
        "IGZ4IN  "
       ]
      },
      {
       "output_type": "stream",
       "stream": "stdout",
       "text": [
        "Q5NG72  "
       ]
      },
      {
       "output_type": "stream",
       "stream": "stdout",
       "text": [
        "DVSDM0  "
       ]
      },
      {
       "output_type": "stream",
       "stream": "stdout",
       "text": [
        "TDYH87  "
       ]
      },
      {
       "output_type": "stream",
       "stream": "stdout",
       "text": [
        "FB3NJV  "
       ]
      },
      {
       "output_type": "stream",
       "stream": "stdout",
       "text": [
        "WQJPMT  "
       ]
      },
      {
       "output_type": "stream",
       "stream": "stdout",
       "text": [
        "VW85AV  "
       ]
      },
      {
       "output_type": "stream",
       "stream": "stdout",
       "text": [
        "9AXAHP  "
       ]
      },
      {
       "output_type": "stream",
       "stream": "stdout",
       "text": [
        "RVAJ7N  "
       ]
      },
      {
       "output_type": "stream",
       "stream": "stdout",
       "text": [
        "NT19D9  "
       ]
      },
      {
       "output_type": "stream",
       "stream": "stdout",
       "text": [
        "3WTEAD  "
       ]
      },
      {
       "output_type": "stream",
       "stream": "stdout",
       "text": [
        "QCYTF4  "
       ]
      },
      {
       "output_type": "stream",
       "stream": "stdout",
       "text": [
        "ZMZFBZ  "
       ]
      },
      {
       "output_type": "stream",
       "stream": "stdout",
       "text": [
        "6BFZI1  "
       ]
      },
      {
       "output_type": "stream",
       "stream": "stdout",
       "text": [
        "RQ0PLL  "
       ]
      },
      {
       "output_type": "stream",
       "stream": "stdout",
       "text": [
        "NIWQAO  "
       ]
      },
      {
       "output_type": "stream",
       "stream": "stdout",
       "text": [
        "UR58E8  "
       ]
      },
      {
       "output_type": "stream",
       "stream": "stdout",
       "text": [
        "0VDSK6  "
       ]
      },
      {
       "output_type": "stream",
       "stream": "stdout",
       "text": [
        "91X3OE  "
       ]
      },
      {
       "output_type": "stream",
       "stream": "stdout",
       "text": [
        "7RHZUB  "
       ]
      },
      {
       "output_type": "stream",
       "stream": "stdout",
       "text": [
        "EATAYM  "
       ]
      },
      {
       "output_type": "stream",
       "stream": "stdout",
       "text": [
        "J5U1TJ  "
       ]
      },
      {
       "output_type": "stream",
       "stream": "stdout",
       "text": [
        "WCDJ2D  "
       ]
      },
      {
       "output_type": "stream",
       "stream": "stdout",
       "text": [
        "SY3CJP  "
       ]
      },
      {
       "output_type": "stream",
       "stream": "stdout",
       "text": [
        "6UD57H  "
       ]
      },
      {
       "output_type": "stream",
       "stream": "stdout",
       "text": [
        "IHYDF1  "
       ]
      },
      {
       "output_type": "stream",
       "stream": "stdout",
       "text": [
        "AZXLB0  "
       ]
      },
      {
       "output_type": "stream",
       "stream": "stdout",
       "text": [
        "HCYTCP  "
       ]
      },
      {
       "output_type": "stream",
       "stream": "stdout",
       "text": [
        "5PDN4S  "
       ]
      },
      {
       "output_type": "stream",
       "stream": "stdout",
       "text": [
        "9WVAUI  "
       ]
      },
      {
       "output_type": "stream",
       "stream": "stdout",
       "text": [
        "IJDPCW  "
       ]
      },
      {
       "output_type": "stream",
       "stream": "stdout",
       "text": [
        "YKUXZ6  "
       ]
      },
      {
       "output_type": "stream",
       "stream": "stdout",
       "text": [
        "T699T2  "
       ]
      },
      {
       "output_type": "stream",
       "stream": "stdout",
       "text": [
        "3HDPFG  "
       ]
      },
      {
       "output_type": "stream",
       "stream": "stdout",
       "text": [
        "0Y9E84  "
       ]
      },
      {
       "output_type": "stream",
       "stream": "stdout",
       "text": [
        "P42D01  "
       ]
      },
      {
       "output_type": "stream",
       "stream": "stdout",
       "text": [
        "SRGAP7  "
       ]
      },
      {
       "output_type": "stream",
       "stream": "stdout",
       "text": [
        "8LFL5E  "
       ]
      },
      {
       "output_type": "stream",
       "stream": "stdout",
       "text": [
        "FUVQJP  "
       ]
      },
      {
       "output_type": "stream",
       "stream": "stdout",
       "text": [
        "FFJDQ8  "
       ]
      },
      {
       "output_type": "stream",
       "stream": "stdout",
       "text": [
        "BZSCQY  "
       ]
      },
      {
       "output_type": "stream",
       "stream": "stdout",
       "text": [
        "YRFM7D  "
       ]
      },
      {
       "output_type": "stream",
       "stream": "stdout",
       "text": [
        "WQTXXP  "
       ]
      },
      {
       "output_type": "stream",
       "stream": "stdout",
       "text": [
        "N78G9O  "
       ]
      },
      {
       "output_type": "stream",
       "stream": "stdout",
       "text": [
        "KV1RZC  "
       ]
      },
      {
       "output_type": "stream",
       "stream": "stdout",
       "text": [
        "6ZAO8P  "
       ]
      },
      {
       "output_type": "stream",
       "stream": "stdout",
       "text": [
        "1CAHX5  "
       ]
      },
      {
       "output_type": "stream",
       "stream": "stdout",
       "text": [
        "U7UYD3  "
       ]
      },
      {
       "output_type": "stream",
       "stream": "stdout",
       "text": [
        "ZGDZ94  "
       ]
      },
      {
       "output_type": "stream",
       "stream": "stdout",
       "text": [
        "1KYI1O  "
       ]
      },
      {
       "output_type": "stream",
       "stream": "stdout",
       "text": [
        "0IJTYB  "
       ]
      },
      {
       "output_type": "stream",
       "stream": "stdout",
       "text": [
        "7MH68M  "
       ]
      },
      {
       "output_type": "stream",
       "stream": "stdout",
       "text": [
        "CMLYOQ  "
       ]
      },
      {
       "output_type": "stream",
       "stream": "stdout",
       "text": [
        "LVOMJG  "
       ]
      },
      {
       "output_type": "stream",
       "stream": "stdout",
       "text": [
        "8NRQBO  "
       ]
      },
      {
       "output_type": "stream",
       "stream": "stdout",
       "text": [
        "WFKC72  "
       ]
      },
      {
       "output_type": "stream",
       "stream": "stdout",
       "text": [
        "PYS8GA  "
       ]
      },
      {
       "output_type": "stream",
       "stream": "stdout",
       "text": [
        "WL3O9Z  "
       ]
      },
      {
       "output_type": "stream",
       "stream": "stdout",
       "text": [
        "0DLYOG  "
       ]
      },
      {
       "output_type": "stream",
       "stream": "stdout",
       "text": [
        "26O19D  "
       ]
      },
      {
       "output_type": "stream",
       "stream": "stdout",
       "text": [
        "V6Z3UY  "
       ]
      },
      {
       "output_type": "stream",
       "stream": "stdout",
       "text": [
        "MW3K3B  "
       ]
      },
      {
       "output_type": "stream",
       "stream": "stdout",
       "text": [
        "CPSDET  "
       ]
      },
      {
       "output_type": "stream",
       "stream": "stdout",
       "text": [
        "S8SRID  "
       ]
      },
      {
       "output_type": "stream",
       "stream": "stdout",
       "text": [
        "NT6MLP  "
       ]
      },
      {
       "output_type": "stream",
       "stream": "stdout",
       "text": [
        "TLI6BX  "
       ]
      },
      {
       "output_type": "stream",
       "stream": "stdout",
       "text": [
        "ST8RP3  "
       ]
      },
      {
       "output_type": "stream",
       "stream": "stdout",
       "text": [
        "PJCFDH  "
       ]
      },
      {
       "output_type": "stream",
       "stream": "stdout",
       "text": [
        "0FCAL8  "
       ]
      },
      {
       "output_type": "stream",
       "stream": "stdout",
       "text": [
        "2E7IC0  "
       ]
      },
      {
       "output_type": "stream",
       "stream": "stdout",
       "text": [
        "C2EQ15  "
       ]
      },
      {
       "output_type": "stream",
       "stream": "stdout",
       "text": [
        "SIVGHS  "
       ]
      },
      {
       "output_type": "stream",
       "stream": "stdout",
       "text": [
        "MW4PJG  "
       ]
      },
      {
       "output_type": "stream",
       "stream": "stdout",
       "text": [
        "ZIMM2E  "
       ]
      },
      {
       "output_type": "stream",
       "stream": "stdout",
       "text": [
        "QH1XZG  "
       ]
      },
      {
       "output_type": "stream",
       "stream": "stdout",
       "text": [
        "HCBWVE  "
       ]
      },
      {
       "output_type": "stream",
       "stream": "stdout",
       "text": [
        "HIRN8Q  "
       ]
      },
      {
       "output_type": "stream",
       "stream": "stdout",
       "text": [
        "855VGP  "
       ]
      },
      {
       "output_type": "stream",
       "stream": "stdout",
       "text": [
        "KR4D81  "
       ]
      },
      {
       "output_type": "stream",
       "stream": "stdout",
       "text": [
        "XIBB4S  "
       ]
      },
      {
       "output_type": "stream",
       "stream": "stdout",
       "text": [
        "5NQPNM  "
       ]
      },
      {
       "output_type": "stream",
       "stream": "stdout",
       "text": [
        "DNW9CV  "
       ]
      },
      {
       "output_type": "stream",
       "stream": "stdout",
       "text": [
        "HUZXMQ  "
       ]
      },
      {
       "output_type": "stream",
       "stream": "stdout",
       "text": [
        "I5W4FB  "
       ]
      },
      {
       "output_type": "stream",
       "stream": "stdout",
       "text": [
        "8HPVAS  "
       ]
      },
      {
       "output_type": "stream",
       "stream": "stdout",
       "text": [
        "1IOXJJ  "
       ]
      },
      {
       "output_type": "stream",
       "stream": "stdout",
       "text": [
        "ED2O2W  "
       ]
      },
      {
       "output_type": "stream",
       "stream": "stdout",
       "text": [
        "H3MOGG  "
       ]
      },
      {
       "output_type": "stream",
       "stream": "stdout",
       "text": [
        "L8YOY4  "
       ]
      },
      {
       "output_type": "stream",
       "stream": "stdout",
       "text": [
        "Y1KTQP  "
       ]
      },
      {
       "output_type": "stream",
       "stream": "stdout",
       "text": [
        "44PKWJ  "
       ]
      },
      {
       "output_type": "stream",
       "stream": "stdout",
       "text": [
        "EZSIRJ  "
       ]
      },
      {
       "output_type": "stream",
       "stream": "stdout",
       "text": [
        "F2OJWN  "
       ]
      },
      {
       "output_type": "stream",
       "stream": "stdout",
       "text": [
        "DUE4OC  "
       ]
      },
      {
       "output_type": "stream",
       "stream": "stdout",
       "text": [
        "WBJIXH  "
       ]
      },
      {
       "output_type": "stream",
       "stream": "stdout",
       "text": [
        "YGM230  "
       ]
      },
      {
       "output_type": "stream",
       "stream": "stdout",
       "text": [
        "SKHPK4  "
       ]
      },
      {
       "output_type": "stream",
       "stream": "stdout",
       "text": [
        "ERO719  "
       ]
      },
      {
       "output_type": "stream",
       "stream": "stdout",
       "text": [
        "EWAH3B  "
       ]
      },
      {
       "output_type": "stream",
       "stream": "stdout",
       "text": [
        "B9MJAN  "
       ]
      },
      {
       "output_type": "stream",
       "stream": "stdout",
       "text": [
        "5JRFFD  "
       ]
      },
      {
       "output_type": "stream",
       "stream": "stdout",
       "text": [
        "2WYK0P  "
       ]
      },
      {
       "output_type": "stream",
       "stream": "stdout",
       "text": [
        "37F4YL  "
       ]
      },
      {
       "output_type": "stream",
       "stream": "stdout",
       "text": [
        "FZ6GCA  "
       ]
      },
      {
       "output_type": "stream",
       "stream": "stdout",
       "text": [
        "0JJJIL  "
       ]
      },
      {
       "output_type": "stream",
       "stream": "stdout",
       "text": [
        "2XVYIO  "
       ]
      },
      {
       "output_type": "stream",
       "stream": "stdout",
       "text": [
        "5A50NX  "
       ]
      },
      {
       "output_type": "stream",
       "stream": "stdout",
       "text": [
        "X0KLFU  "
       ]
      },
      {
       "output_type": "stream",
       "stream": "stdout",
       "text": [
        "2Q8NDH  "
       ]
      },
      {
       "output_type": "stream",
       "stream": "stdout",
       "text": [
        "PIDOH9  "
       ]
      },
      {
       "output_type": "stream",
       "stream": "stdout",
       "text": [
        "1BX3BP  "
       ]
      },
      {
       "output_type": "stream",
       "stream": "stdout",
       "text": [
        "KX2B18  "
       ]
      },
      {
       "output_type": "stream",
       "stream": "stdout",
       "text": [
        "OBJDTM  "
       ]
      },
      {
       "output_type": "stream",
       "stream": "stdout",
       "text": [
        "YPLLEN  "
       ]
      },
      {
       "output_type": "stream",
       "stream": "stdout",
       "text": [
        "J7CWIS  "
       ]
      },
      {
       "output_type": "stream",
       "stream": "stdout",
       "text": [
        "Z1WRB5  "
       ]
      },
      {
       "output_type": "stream",
       "stream": "stdout",
       "text": [
        "SWH1E7  "
       ]
      },
      {
       "output_type": "stream",
       "stream": "stdout",
       "text": [
        "ABTUYK  "
       ]
      },
      {
       "output_type": "stream",
       "stream": "stdout",
       "text": [
        "ZF1D6Y  "
       ]
      },
      {
       "output_type": "stream",
       "stream": "stdout",
       "text": [
        "5R59Y7  "
       ]
      },
      {
       "output_type": "stream",
       "stream": "stdout",
       "text": [
        "3HBKLB  "
       ]
      },
      {
       "output_type": "stream",
       "stream": "stdout",
       "text": [
        "7N0YJ7  "
       ]
      },
      {
       "output_type": "stream",
       "stream": "stdout",
       "text": [
        "HDO93G  "
       ]
      },
      {
       "output_type": "stream",
       "stream": "stdout",
       "text": [
        "7TMZU6  "
       ]
      },
      {
       "output_type": "stream",
       "stream": "stdout",
       "text": [
        "540HKP  "
       ]
      },
      {
       "output_type": "stream",
       "stream": "stdout",
       "text": [
        "11EJJI  "
       ]
      },
      {
       "output_type": "stream",
       "stream": "stdout",
       "text": [
        "XLXBSL  "
       ]
      },
      {
       "output_type": "stream",
       "stream": "stdout",
       "text": [
        "1YN18Z  "
       ]
      },
      {
       "output_type": "stream",
       "stream": "stdout",
       "text": [
        "D4RXRZ  "
       ]
      },
      {
       "output_type": "stream",
       "stream": "stdout",
       "text": [
        "AKJSKF  "
       ]
      },
      {
       "output_type": "stream",
       "stream": "stdout",
       "text": [
        "KWFZCM  "
       ]
      },
      {
       "output_type": "stream",
       "stream": "stdout",
       "text": [
        "TVXR3O  "
       ]
      },
      {
       "output_type": "stream",
       "stream": "stdout",
       "text": [
        "Q2LP5G  "
       ]
      },
      {
       "output_type": "stream",
       "stream": "stdout",
       "text": [
        "PIRGK5  "
       ]
      },
      {
       "output_type": "stream",
       "stream": "stdout",
       "text": [
        "LMLLN8  "
       ]
      },
      {
       "output_type": "stream",
       "stream": "stdout",
       "text": [
        "FWH98M  "
       ]
      },
      {
       "output_type": "stream",
       "stream": "stdout",
       "text": [
        "DBP4P6  "
       ]
      },
      {
       "output_type": "stream",
       "stream": "stdout",
       "text": [
        "S09YBZ  "
       ]
      },
      {
       "output_type": "stream",
       "stream": "stdout",
       "text": [
        "QGO4JC  "
       ]
      },
      {
       "output_type": "stream",
       "stream": "stdout",
       "text": [
        "1MV80L  "
       ]
      },
      {
       "output_type": "stream",
       "stream": "stdout",
       "text": [
        "FYWEX9  "
       ]
      },
      {
       "output_type": "stream",
       "stream": "stdout",
       "text": [
        "UBCWF5  "
       ]
      },
      {
       "output_type": "stream",
       "stream": "stdout",
       "text": [
        "GHJOPL  "
       ]
      },
      {
       "output_type": "stream",
       "stream": "stdout",
       "text": [
        "HYEW9W  "
       ]
      },
      {
       "output_type": "stream",
       "stream": "stdout",
       "text": [
        "J5OMPV  "
       ]
      },
      {
       "output_type": "stream",
       "stream": "stdout",
       "text": [
        "GKD82X  "
       ]
      },
      {
       "output_type": "stream",
       "stream": "stdout",
       "text": [
        "I6THBZ  "
       ]
      },
      {
       "output_type": "stream",
       "stream": "stdout",
       "text": [
        "E9E44X  "
       ]
      },
      {
       "output_type": "stream",
       "stream": "stdout",
       "text": [
        "E1NY79  "
       ]
      },
      {
       "output_type": "stream",
       "stream": "stdout",
       "text": [
        "46SU88  "
       ]
      },
      {
       "output_type": "stream",
       "stream": "stdout",
       "text": [
        "BT935E  "
       ]
      },
      {
       "output_type": "stream",
       "stream": "stdout",
       "text": [
        "UA8FGC  "
       ]
      },
      {
       "output_type": "stream",
       "stream": "stdout",
       "text": [
        "7NRDF7  "
       ]
      },
      {
       "output_type": "stream",
       "stream": "stdout",
       "text": [
        "UJD3P5  "
       ]
      },
      {
       "output_type": "stream",
       "stream": "stdout",
       "text": [
        "03AMSI  "
       ]
      },
      {
       "output_type": "stream",
       "stream": "stdout",
       "text": [
        "0EURL9  "
       ]
      },
      {
       "output_type": "stream",
       "stream": "stdout",
       "text": [
        "UF3LS3  "
       ]
      },
      {
       "output_type": "stream",
       "stream": "stdout",
       "text": [
        "XGN2ML  "
       ]
      },
      {
       "output_type": "stream",
       "stream": "stdout",
       "text": [
        "5YJUL0  "
       ]
      },
      {
       "output_type": "stream",
       "stream": "stdout",
       "text": [
        "H3HEUH  "
       ]
      },
      {
       "output_type": "stream",
       "stream": "stdout",
       "text": [
        "35X2IT  "
       ]
      },
      {
       "output_type": "stream",
       "stream": "stdout",
       "text": [
        "YBKOB4  "
       ]
      },
      {
       "output_type": "stream",
       "stream": "stdout",
       "text": [
        "F7JD2L  "
       ]
      },
      {
       "output_type": "stream",
       "stream": "stdout",
       "text": [
        "06YDBR  "
       ]
      },
      {
       "output_type": "stream",
       "stream": "stdout",
       "text": [
        "JHOQAX  "
       ]
      },
      {
       "output_type": "stream",
       "stream": "stdout",
       "text": [
        "QKHEWB  "
       ]
      },
      {
       "output_type": "stream",
       "stream": "stdout",
       "text": [
        "HAUVGX  "
       ]
      },
      {
       "output_type": "stream",
       "stream": "stdout",
       "text": [
        "UA5X9M  "
       ]
      },
      {
       "output_type": "stream",
       "stream": "stdout",
       "text": [
        "8QOXKY  "
       ]
      },
      {
       "output_type": "stream",
       "stream": "stdout",
       "text": [
        "ISHKAX  "
       ]
      },
      {
       "output_type": "stream",
       "stream": "stdout",
       "text": [
        "O4L308  "
       ]
      },
      {
       "output_type": "stream",
       "stream": "stdout",
       "text": [
        "PGWZ5R  "
       ]
      },
      {
       "output_type": "stream",
       "stream": "stdout",
       "text": [
        "4NJTKT  "
       ]
      },
      {
       "output_type": "stream",
       "stream": "stdout",
       "text": [
        "87VJLR  "
       ]
      },
      {
       "output_type": "stream",
       "stream": "stdout",
       "text": [
        "UKVLEY  "
       ]
      },
      {
       "output_type": "stream",
       "stream": "stdout",
       "text": [
        "6DGR59  "
       ]
      },
      {
       "output_type": "stream",
       "stream": "stdout",
       "text": [
        "C0A1GN  "
       ]
      },
      {
       "output_type": "stream",
       "stream": "stdout",
       "text": [
        "J62Z9R  "
       ]
      },
      {
       "output_type": "stream",
       "stream": "stdout",
       "text": [
        "BZOK6R  "
       ]
      },
      {
       "output_type": "stream",
       "stream": "stdout",
       "text": [
        "X003KY  "
       ]
      },
      {
       "output_type": "stream",
       "stream": "stdout",
       "text": [
        "I1Y5EC  "
       ]
      },
      {
       "output_type": "stream",
       "stream": "stdout",
       "text": [
        "5CK6H2  "
       ]
      },
      {
       "output_type": "stream",
       "stream": "stdout",
       "text": [
        "L9236E  "
       ]
      },
      {
       "output_type": "stream",
       "stream": "stdout",
       "text": [
        "U8A1W2  "
       ]
      },
      {
       "output_type": "stream",
       "stream": "stdout",
       "text": [
        "4TRRXZ  "
       ]
      },
      {
       "output_type": "stream",
       "stream": "stdout",
       "text": [
        "8BK4R4  "
       ]
      },
      {
       "output_type": "stream",
       "stream": "stdout",
       "text": [
        "0T5DYX  "
       ]
      },
      {
       "output_type": "stream",
       "stream": "stdout",
       "text": [
        "1QFSGA  "
       ]
      },
      {
       "output_type": "stream",
       "stream": "stdout",
       "text": [
        "TLICFY  "
       ]
      },
      {
       "output_type": "stream",
       "stream": "stdout",
       "text": [
        "5E0M47  "
       ]
      },
      {
       "output_type": "stream",
       "stream": "stdout",
       "text": [
        "P8TFDP  "
       ]
      },
      {
       "output_type": "stream",
       "stream": "stdout",
       "text": [
        "QEIYZN  "
       ]
      },
      {
       "output_type": "stream",
       "stream": "stdout",
       "text": [
        "N86E73  "
       ]
      },
      {
       "output_type": "stream",
       "stream": "stdout",
       "text": [
        "5S9JFF  "
       ]
      },
      {
       "output_type": "stream",
       "stream": "stdout",
       "text": [
        "XNO7NL  "
       ]
      },
      {
       "output_type": "stream",
       "stream": "stdout",
       "text": [
        "WM1V12  "
       ]
      },
      {
       "output_type": "stream",
       "stream": "stdout",
       "text": [
        "D99JAH  "
       ]
      },
      {
       "output_type": "stream",
       "stream": "stdout",
       "text": [
        "UB3L9X  "
       ]
      },
      {
       "output_type": "stream",
       "stream": "stdout",
       "text": [
        "9DRAWG  "
       ]
      },
      {
       "output_type": "stream",
       "stream": "stdout",
       "text": [
        "K0116G  "
       ]
      },
      {
       "output_type": "stream",
       "stream": "stdout",
       "text": [
        "YY60FS  "
       ]
      },
      {
       "output_type": "stream",
       "stream": "stdout",
       "text": [
        "1E4ADQ  "
       ]
      },
      {
       "output_type": "stream",
       "stream": "stdout",
       "text": [
        "AAUNNQ  "
       ]
      },
      {
       "output_type": "stream",
       "stream": "stdout",
       "text": [
        "KJRAFN  "
       ]
      },
      {
       "output_type": "stream",
       "stream": "stdout",
       "text": [
        "A0MQ0Q  "
       ]
      },
      {
       "output_type": "stream",
       "stream": "stdout",
       "text": [
        "XNVCCY  "
       ]
      },
      {
       "output_type": "stream",
       "stream": "stdout",
       "text": [
        "OG16W5  "
       ]
      },
      {
       "output_type": "stream",
       "stream": "stdout",
       "text": [
        "KVXL5M  "
       ]
      },
      {
       "output_type": "stream",
       "stream": "stdout",
       "text": [
        "ANNPXL  "
       ]
      },
      {
       "output_type": "stream",
       "stream": "stdout",
       "text": [
        "31CAYN  "
       ]
      },
      {
       "output_type": "stream",
       "stream": "stdout",
       "text": [
        "V5KOBM  "
       ]
      },
      {
       "output_type": "stream",
       "stream": "stdout",
       "text": [
        "SLGEUU  "
       ]
      },
      {
       "output_type": "stream",
       "stream": "stdout",
       "text": [
        "HUJOUZ  "
       ]
      },
      {
       "output_type": "stream",
       "stream": "stdout",
       "text": [
        "RQ69TW  "
       ]
      },
      {
       "output_type": "stream",
       "stream": "stdout",
       "text": [
        "2FI6WZ  "
       ]
      },
      {
       "output_type": "stream",
       "stream": "stdout",
       "text": [
        "XUDLLH  "
       ]
      },
      {
       "output_type": "stream",
       "stream": "stdout",
       "text": [
        "5UBFPD  "
       ]
      },
      {
       "output_type": "stream",
       "stream": "stdout",
       "text": [
        "998XUO  "
       ]
      },
      {
       "output_type": "stream",
       "stream": "stdout",
       "text": [
        "D2IQAD  "
       ]
      },
      {
       "output_type": "stream",
       "stream": "stdout",
       "text": [
        "0B8QBY  "
       ]
      },
      {
       "output_type": "stream",
       "stream": "stdout",
       "text": [
        "3T8ZC0  "
       ]
      },
      {
       "output_type": "stream",
       "stream": "stdout",
       "text": [
        "HKTSSB  "
       ]
      },
      {
       "output_type": "stream",
       "stream": "stdout",
       "text": [
        "V9XQYM  "
       ]
      },
      {
       "output_type": "stream",
       "stream": "stdout",
       "text": [
        "WL57YF  "
       ]
      },
      {
       "output_type": "stream",
       "stream": "stdout",
       "text": [
        "VHUZZ1  "
       ]
      },
      {
       "output_type": "stream",
       "stream": "stdout",
       "text": [
        "D448D5  "
       ]
      },
      {
       "output_type": "stream",
       "stream": "stdout",
       "text": [
        "C1CQUR  "
       ]
      },
      {
       "output_type": "stream",
       "stream": "stdout",
       "text": [
        "JY3V97  "
       ]
      },
      {
       "output_type": "stream",
       "stream": "stdout",
       "text": [
        "AXNMS5  "
       ]
      },
      {
       "output_type": "stream",
       "stream": "stdout",
       "text": [
        "QX3YJ3  "
       ]
      },
      {
       "output_type": "stream",
       "stream": "stdout",
       "text": [
        "6VKT3U  "
       ]
      },
      {
       "output_type": "stream",
       "stream": "stdout",
       "text": [
        "5YNF02  "
       ]
      },
      {
       "output_type": "stream",
       "stream": "stdout",
       "text": [
        "ZCVH2X  "
       ]
      },
      {
       "output_type": "stream",
       "stream": "stdout",
       "text": [
        "7HVWL4  "
       ]
      },
      {
       "output_type": "stream",
       "stream": "stdout",
       "text": [
        "SQ0VA8  "
       ]
      },
      {
       "output_type": "stream",
       "stream": "stdout",
       "text": [
        "HNR30V  "
       ]
      },
      {
       "output_type": "stream",
       "stream": "stdout",
       "text": [
        "KYFF3B  "
       ]
      },
      {
       "output_type": "stream",
       "stream": "stdout",
       "text": [
        "SPA3L0  "
       ]
      },
      {
       "output_type": "stream",
       "stream": "stdout",
       "text": [
        "76JMKM  "
       ]
      },
      {
       "output_type": "stream",
       "stream": "stdout",
       "text": [
        "P19103  "
       ]
      },
      {
       "output_type": "stream",
       "stream": "stdout",
       "text": [
        "Q4WBRX  "
       ]
      },
      {
       "output_type": "stream",
       "stream": "stdout",
       "text": [
        "TPD3LK  "
       ]
      },
      {
       "output_type": "stream",
       "stream": "stdout",
       "text": [
        "46BCXM  "
       ]
      },
      {
       "output_type": "stream",
       "stream": "stdout",
       "text": [
        "H1TCS2  "
       ]
      },
      {
       "output_type": "stream",
       "stream": "stdout",
       "text": [
        "ZOISPD  "
       ]
      },
      {
       "output_type": "stream",
       "stream": "stdout",
       "text": [
        "RN0CCB  "
       ]
      },
      {
       "output_type": "stream",
       "stream": "stdout",
       "text": [
        "4H6JJR  "
       ]
      },
      {
       "output_type": "stream",
       "stream": "stdout",
       "text": [
        "E1XXB8  "
       ]
      },
      {
       "output_type": "stream",
       "stream": "stdout",
       "text": [
        "CBVQK0  "
       ]
      },
      {
       "output_type": "stream",
       "stream": "stdout",
       "text": [
        "OC37BZ  "
       ]
      },
      {
       "output_type": "stream",
       "stream": "stdout",
       "text": [
        "JLCP9Q  "
       ]
      },
      {
       "output_type": "stream",
       "stream": "stdout",
       "text": [
        "C0VUL6  "
       ]
      },
      {
       "output_type": "stream",
       "stream": "stdout",
       "text": [
        "58VMQB  "
       ]
      },
      {
       "output_type": "stream",
       "stream": "stdout",
       "text": [
        "URDQ5O  "
       ]
      },
      {
       "output_type": "stream",
       "stream": "stdout",
       "text": [
        "HYVXZ1  "
       ]
      },
      {
       "output_type": "stream",
       "stream": "stdout",
       "text": [
        "9UEBZV  "
       ]
      },
      {
       "output_type": "stream",
       "stream": "stdout",
       "text": [
        "4J4OL8  "
       ]
      },
      {
       "output_type": "stream",
       "stream": "stdout",
       "text": [
        "Z8VVFG  "
       ]
      },
      {
       "output_type": "stream",
       "stream": "stdout",
       "text": [
        "COEEF3  "
       ]
      },
      {
       "output_type": "stream",
       "stream": "stdout",
       "text": [
        "E8A4J8  "
       ]
      },
      {
       "output_type": "stream",
       "stream": "stdout",
       "text": [
        "GY0XCT  "
       ]
      },
      {
       "output_type": "stream",
       "stream": "stdout",
       "text": [
        "OOA3ZR  "
       ]
      },
      {
       "output_type": "stream",
       "stream": "stdout",
       "text": [
        "RDOVWB  "
       ]
      },
      {
       "output_type": "stream",
       "stream": "stdout",
       "text": [
        "V5DYSH  "
       ]
      },
      {
       "output_type": "stream",
       "stream": "stdout",
       "text": [
        "OUZFTZ  "
       ]
      },
      {
       "output_type": "stream",
       "stream": "stdout",
       "text": [
        "RCCP03  "
       ]
      },
      {
       "output_type": "stream",
       "stream": "stdout",
       "text": [
        "82LG03  "
       ]
      },
      {
       "output_type": "stream",
       "stream": "stdout",
       "text": [
        "J17NHX  "
       ]
      },
      {
       "output_type": "stream",
       "stream": "stdout",
       "text": [
        "483C70  "
       ]
      },
      {
       "output_type": "stream",
       "stream": "stdout",
       "text": [
        "GP4BUB  "
       ]
      },
      {
       "output_type": "stream",
       "stream": "stdout",
       "text": [
        "57J40H  "
       ]
      },
      {
       "output_type": "stream",
       "stream": "stdout",
       "text": [
        "Q9MXYP  "
       ]
      },
      {
       "output_type": "stream",
       "stream": "stdout",
       "text": [
        "MSADUB  "
       ]
      },
      {
       "output_type": "stream",
       "stream": "stdout",
       "text": [
        "6GGL4D  "
       ]
      },
      {
       "output_type": "stream",
       "stream": "stdout",
       "text": [
        "RHMC90  "
       ]
      },
      {
       "output_type": "stream",
       "stream": "stdout",
       "text": [
        "K7JPV6  "
       ]
      },
      {
       "output_type": "stream",
       "stream": "stdout",
       "text": [
        "F8U6CT  "
       ]
      },
      {
       "output_type": "stream",
       "stream": "stdout",
       "text": [
        "2J97FA  "
       ]
      },
      {
       "output_type": "stream",
       "stream": "stdout",
       "text": [
        "MW1RDS  "
       ]
      },
      {
       "output_type": "stream",
       "stream": "stdout",
       "text": [
        "CGNG38  "
       ]
      },
      {
       "output_type": "stream",
       "stream": "stdout",
       "text": [
        "G40O6B  "
       ]
      },
      {
       "output_type": "stream",
       "stream": "stdout",
       "text": [
        "6R1RXH  "
       ]
      },
      {
       "output_type": "stream",
       "stream": "stdout",
       "text": [
        "56WV46  "
       ]
      },
      {
       "output_type": "stream",
       "stream": "stdout",
       "text": [
        "TJP9D5  "
       ]
      },
      {
       "output_type": "stream",
       "stream": "stdout",
       "text": [
        "EDJ1KC  "
       ]
      },
      {
       "output_type": "stream",
       "stream": "stdout",
       "text": [
        "JPDUJB  "
       ]
      },
      {
       "output_type": "stream",
       "stream": "stdout",
       "text": [
        "S4OJLO  "
       ]
      },
      {
       "output_type": "stream",
       "stream": "stdout",
       "text": [
        "HGDR50  "
       ]
      },
      {
       "output_type": "stream",
       "stream": "stdout",
       "text": [
        "8U402S  "
       ]
      },
      {
       "output_type": "stream",
       "stream": "stdout",
       "text": [
        "9KU0H3  "
       ]
      },
      {
       "output_type": "stream",
       "stream": "stdout",
       "text": [
        "Y9X56H  "
       ]
      },
      {
       "output_type": "stream",
       "stream": "stdout",
       "text": [
        "387A9M  "
       ]
      },
      {
       "output_type": "stream",
       "stream": "stdout",
       "text": [
        "QFM9J3  "
       ]
      },
      {
       "output_type": "stream",
       "stream": "stdout",
       "text": [
        "WDFC0Y  "
       ]
      },
      {
       "output_type": "stream",
       "stream": "stdout",
       "text": [
        "4WR9O9  "
       ]
      },
      {
       "output_type": "stream",
       "stream": "stdout",
       "text": [
        "UZXONY  "
       ]
      },
      {
       "output_type": "stream",
       "stream": "stdout",
       "text": [
        "OAE679  "
       ]
      },
      {
       "output_type": "stream",
       "stream": "stdout",
       "text": [
        "T92T7T  "
       ]
      },
      {
       "output_type": "stream",
       "stream": "stdout",
       "text": [
        "R2LSY9  "
       ]
      },
      {
       "output_type": "stream",
       "stream": "stdout",
       "text": [
        "GOKUKB  "
       ]
      },
      {
       "output_type": "stream",
       "stream": "stdout",
       "text": [
        "L4F072  "
       ]
      },
      {
       "output_type": "stream",
       "stream": "stdout",
       "text": [
        "ABY1I6  "
       ]
      },
      {
       "output_type": "stream",
       "stream": "stdout",
       "text": [
        "CZTP6M  "
       ]
      },
      {
       "output_type": "stream",
       "stream": "stdout",
       "text": [
        "9XYLO6  "
       ]
      },
      {
       "output_type": "stream",
       "stream": "stdout",
       "text": [
        "SMKZHE  "
       ]
      },
      {
       "output_type": "stream",
       "stream": "stdout",
       "text": [
        "MHBMBK  "
       ]
      },
      {
       "output_type": "stream",
       "stream": "stdout",
       "text": [
        "EZG8O2  "
       ]
      },
      {
       "output_type": "stream",
       "stream": "stdout",
       "text": [
        "MZFLCH  "
       ]
      },
      {
       "output_type": "stream",
       "stream": "stdout",
       "text": [
        "UMVVPO  "
       ]
      },
      {
       "output_type": "stream",
       "stream": "stdout",
       "text": [
        "310AA1  "
       ]
      },
      {
       "output_type": "stream",
       "stream": "stdout",
       "text": [
        "XIYGGS  "
       ]
      },
      {
       "output_type": "stream",
       "stream": "stdout",
       "text": [
        "16DJRO  "
       ]
      },
      {
       "output_type": "stream",
       "stream": "stdout",
       "text": [
        "R6H1YK  "
       ]
      },
      {
       "output_type": "stream",
       "stream": "stdout",
       "text": [
        "GPVZQ7  "
       ]
      },
      {
       "output_type": "stream",
       "stream": "stdout",
       "text": [
        "QFM9XC  "
       ]
      },
      {
       "output_type": "stream",
       "stream": "stdout",
       "text": [
        "QYYDFO  "
       ]
      },
      {
       "output_type": "stream",
       "stream": "stdout",
       "text": [
        "EW5WVD  "
       ]
      },
      {
       "output_type": "stream",
       "stream": "stdout",
       "text": [
        "3LSGHZ  "
       ]
      },
      {
       "output_type": "stream",
       "stream": "stdout",
       "text": [
        "XW0QIP  "
       ]
      },
      {
       "output_type": "stream",
       "stream": "stdout",
       "text": [
        "FTX0TV  "
       ]
      },
      {
       "output_type": "stream",
       "stream": "stdout",
       "text": [
        "DGAQU4  "
       ]
      },
      {
       "output_type": "stream",
       "stream": "stdout",
       "text": [
        "RIPSA1  "
       ]
      },
      {
       "output_type": "stream",
       "stream": "stdout",
       "text": [
        "PK0JPU  "
       ]
      },
      {
       "output_type": "stream",
       "stream": "stdout",
       "text": [
        "5OOR0U  "
       ]
      },
      {
       "output_type": "stream",
       "stream": "stdout",
       "text": [
        "38QOT5  "
       ]
      },
      {
       "output_type": "stream",
       "stream": "stdout",
       "text": [
        "CTI6BA  "
       ]
      },
      {
       "output_type": "stream",
       "stream": "stdout",
       "text": [
        "FYTJWW  "
       ]
      },
      {
       "output_type": "stream",
       "stream": "stdout",
       "text": [
        "T5RJTJ  "
       ]
      },
      {
       "output_type": "stream",
       "stream": "stdout",
       "text": [
        "JZZN5K  "
       ]
      },
      {
       "output_type": "stream",
       "stream": "stdout",
       "text": [
        "2AZV6Z  "
       ]
      },
      {
       "output_type": "stream",
       "stream": "stdout",
       "text": [
        "URSMKW  "
       ]
      },
      {
       "output_type": "stream",
       "stream": "stdout",
       "text": [
        "8EUDNJ  "
       ]
      },
      {
       "output_type": "stream",
       "stream": "stdout",
       "text": [
        "AHDIW2  "
       ]
      },
      {
       "output_type": "stream",
       "stream": "stdout",
       "text": [
        "PYYI23  "
       ]
      },
      {
       "output_type": "stream",
       "stream": "stdout",
       "text": [
        "GY2SR6  "
       ]
      },
      {
       "output_type": "stream",
       "stream": "stdout",
       "text": [
        "NU0ARO  "
       ]
      },
      {
       "output_type": "stream",
       "stream": "stdout",
       "text": [
        "6QG12M  "
       ]
      },
      {
       "output_type": "stream",
       "stream": "stdout",
       "text": [
        "NCVRJ3  "
       ]
      },
      {
       "output_type": "stream",
       "stream": "stdout",
       "text": [
        "YSY73T  "
       ]
      },
      {
       "output_type": "stream",
       "stream": "stdout",
       "text": [
        "HFD76X  "
       ]
      },
      {
       "output_type": "stream",
       "stream": "stdout",
       "text": [
        "CQ3R94  "
       ]
      },
      {
       "output_type": "stream",
       "stream": "stdout",
       "text": [
        "XQSU93  "
       ]
      },
      {
       "output_type": "stream",
       "stream": "stdout",
       "text": [
        "L1KF0H  "
       ]
      },
      {
       "output_type": "stream",
       "stream": "stdout",
       "text": [
        "CZKIVG  "
       ]
      },
      {
       "output_type": "stream",
       "stream": "stdout",
       "text": [
        "VIZV8S  "
       ]
      },
      {
       "output_type": "stream",
       "stream": "stdout",
       "text": [
        "Q5I58T  "
       ]
      },
      {
       "output_type": "stream",
       "stream": "stdout",
       "text": [
        "O6HAJN  "
       ]
      },
      {
       "output_type": "stream",
       "stream": "stdout",
       "text": [
        "T8L1EG  "
       ]
      },
      {
       "output_type": "stream",
       "stream": "stdout",
       "text": [
        "U3CJNX  "
       ]
      },
      {
       "output_type": "stream",
       "stream": "stdout",
       "text": [
        "PS7UGI  "
       ]
      },
      {
       "output_type": "stream",
       "stream": "stdout",
       "text": [
        "SK4IE4  "
       ]
      },
      {
       "output_type": "stream",
       "stream": "stdout",
       "text": [
        "CGL3SS  "
       ]
      },
      {
       "output_type": "stream",
       "stream": "stdout",
       "text": [
        "421FUW  "
       ]
      },
      {
       "output_type": "stream",
       "stream": "stdout",
       "text": [
        "SD1ZPI  "
       ]
      },
      {
       "output_type": "stream",
       "stream": "stdout",
       "text": [
        "OEO1O7  "
       ]
      },
      {
       "output_type": "stream",
       "stream": "stdout",
       "text": [
        "KLC40J  "
       ]
      },
      {
       "output_type": "stream",
       "stream": "stdout",
       "text": [
        "7CMU00  "
       ]
      },
      {
       "output_type": "stream",
       "stream": "stdout",
       "text": [
        "A60YCR  "
       ]
      },
      {
       "output_type": "stream",
       "stream": "stdout",
       "text": [
        "HOY0KD  "
       ]
      },
      {
       "output_type": "stream",
       "stream": "stdout",
       "text": [
        "98JDAT  "
       ]
      },
      {
       "output_type": "stream",
       "stream": "stdout",
       "text": [
        "9XRCPP  "
       ]
      },
      {
       "output_type": "stream",
       "stream": "stdout",
       "text": [
        "UHO0MY  "
       ]
      },
      {
       "output_type": "stream",
       "stream": "stdout",
       "text": [
        "KZHU5Q  "
       ]
      },
      {
       "output_type": "stream",
       "stream": "stdout",
       "text": [
        "QL0NHR  "
       ]
      },
      {
       "output_type": "stream",
       "stream": "stdout",
       "text": [
        "HMLZZZ  "
       ]
      },
      {
       "output_type": "stream",
       "stream": "stdout",
       "text": [
        "LU2D0X  "
       ]
      },
      {
       "output_type": "stream",
       "stream": "stdout",
       "text": [
        "G2GHUX  "
       ]
      },
      {
       "output_type": "stream",
       "stream": "stdout",
       "text": [
        "R3NH1L  "
       ]
      },
      {
       "output_type": "stream",
       "stream": "stdout",
       "text": [
        "PDS6GS  "
       ]
      },
      {
       "output_type": "stream",
       "stream": "stdout",
       "text": [
        "KPCHGM  "
       ]
      },
      {
       "output_type": "stream",
       "stream": "stdout",
       "text": [
        "KLZG82  "
       ]
      },
      {
       "output_type": "stream",
       "stream": "stdout",
       "text": [
        "57WJWD  "
       ]
      },
      {
       "output_type": "stream",
       "stream": "stdout",
       "text": [
        "GL1GMW  "
       ]
      },
      {
       "output_type": "stream",
       "stream": "stdout",
       "text": [
        "DLRC5E  "
       ]
      },
      {
       "output_type": "stream",
       "stream": "stdout",
       "text": [
        "30J6SB  "
       ]
      },
      {
       "output_type": "stream",
       "stream": "stdout",
       "text": [
        "CX0C6R  "
       ]
      },
      {
       "output_type": "stream",
       "stream": "stdout",
       "text": [
        "MXV0X5  "
       ]
      },
      {
       "output_type": "stream",
       "stream": "stdout",
       "text": [
        "P5RJ42  "
       ]
      },
      {
       "output_type": "stream",
       "stream": "stdout",
       "text": [
        "4HDTOF  "
       ]
      },
      {
       "output_type": "stream",
       "stream": "stdout",
       "text": [
        "O9BRDI  "
       ]
      },
      {
       "output_type": "stream",
       "stream": "stdout",
       "text": [
        "2L6DM0  "
       ]
      },
      {
       "output_type": "stream",
       "stream": "stdout",
       "text": [
        "JPWX6G  "
       ]
      },
      {
       "output_type": "stream",
       "stream": "stdout",
       "text": [
        "YDEGJQ  "
       ]
      },
      {
       "output_type": "stream",
       "stream": "stdout",
       "text": [
        "JF0YXH  "
       ]
      },
      {
       "output_type": "stream",
       "stream": "stdout",
       "text": [
        "BP86FR  "
       ]
      },
      {
       "output_type": "stream",
       "stream": "stdout",
       "text": [
        "4HWUV0  "
       ]
      },
      {
       "output_type": "stream",
       "stream": "stdout",
       "text": [
        "QUQUTL  "
       ]
      },
      {
       "output_type": "stream",
       "stream": "stdout",
       "text": [
        "OMA55N  "
       ]
      },
      {
       "output_type": "stream",
       "stream": "stdout",
       "text": [
        "N6RPHP  "
       ]
      },
      {
       "output_type": "stream",
       "stream": "stdout",
       "text": [
        "P04ZAN  "
       ]
      },
      {
       "output_type": "stream",
       "stream": "stdout",
       "text": [
        "IQT139  "
       ]
      },
      {
       "output_type": "stream",
       "stream": "stdout",
       "text": [
        "M7S00E  "
       ]
      },
      {
       "output_type": "stream",
       "stream": "stdout",
       "text": [
        "A6TJO8  "
       ]
      },
      {
       "output_type": "stream",
       "stream": "stdout",
       "text": [
        "O7OOVG  "
       ]
      },
      {
       "output_type": "stream",
       "stream": "stdout",
       "text": [
        "BAY8G4  "
       ]
      },
      {
       "output_type": "stream",
       "stream": "stdout",
       "text": [
        "H32IRN  "
       ]
      },
      {
       "output_type": "stream",
       "stream": "stdout",
       "text": [
        "UAM75G  "
       ]
      },
      {
       "output_type": "stream",
       "stream": "stdout",
       "text": [
        "FWAFM1  "
       ]
      },
      {
       "output_type": "stream",
       "stream": "stdout",
       "text": [
        "U1C5NT  "
       ]
      },
      {
       "output_type": "stream",
       "stream": "stdout",
       "text": [
        "J44W5S  "
       ]
      },
      {
       "output_type": "stream",
       "stream": "stdout",
       "text": [
        "43WK4S  "
       ]
      },
      {
       "output_type": "stream",
       "stream": "stdout",
       "text": [
        "4734AQ  "
       ]
      },
      {
       "output_type": "stream",
       "stream": "stdout",
       "text": [
        "ZY2U8A  "
       ]
      },
      {
       "output_type": "stream",
       "stream": "stdout",
       "text": [
        "LPRAEZ  "
       ]
      },
      {
       "output_type": "stream",
       "stream": "stdout",
       "text": [
        "JNS313  "
       ]
      },
      {
       "output_type": "stream",
       "stream": "stdout",
       "text": [
        "MEEAWT  "
       ]
      },
      {
       "output_type": "stream",
       "stream": "stdout",
       "text": [
        "5TYUBM  "
       ]
      },
      {
       "output_type": "stream",
       "stream": "stdout",
       "text": [
        "V8TX9L  "
       ]
      },
      {
       "output_type": "stream",
       "stream": "stdout",
       "text": [
        "Q1M3E7  "
       ]
      },
      {
       "output_type": "stream",
       "stream": "stdout",
       "text": [
        "7CVW2Q  "
       ]
      },
      {
       "output_type": "stream",
       "stream": "stdout",
       "text": [
        "VAHDAO  "
       ]
      },
      {
       "output_type": "stream",
       "stream": "stdout",
       "text": [
        "O50CYC  "
       ]
      },
      {
       "output_type": "stream",
       "stream": "stdout",
       "text": [
        "1C7RWW  "
       ]
      },
      {
       "output_type": "stream",
       "stream": "stdout",
       "text": [
        "5PEZPU  "
       ]
      },
      {
       "output_type": "stream",
       "stream": "stdout",
       "text": [
        "271D3U  "
       ]
      },
      {
       "output_type": "stream",
       "stream": "stdout",
       "text": [
        "41YD65  "
       ]
      },
      {
       "output_type": "stream",
       "stream": "stdout",
       "text": [
        "8XLLJQ  "
       ]
      },
      {
       "output_type": "stream",
       "stream": "stdout",
       "text": [
        "XHUH5A  "
       ]
      },
      {
       "output_type": "stream",
       "stream": "stdout",
       "text": [
        "44WAOF  "
       ]
      },
      {
       "output_type": "stream",
       "stream": "stdout",
       "text": [
        "QQBOHP  "
       ]
      },
      {
       "output_type": "stream",
       "stream": "stdout",
       "text": [
        "BGRTKE  "
       ]
      },
      {
       "output_type": "stream",
       "stream": "stdout",
       "text": [
        "T8IXZF  "
       ]
      },
      {
       "output_type": "stream",
       "stream": "stdout",
       "text": [
        "AIJ12N  "
       ]
      },
      {
       "output_type": "stream",
       "stream": "stdout",
       "text": [
        "3CDFKV  "
       ]
      },
      {
       "output_type": "stream",
       "stream": "stdout",
       "text": [
        "TVKRF6  "
       ]
      },
      {
       "output_type": "stream",
       "stream": "stdout",
       "text": [
        "STELNJ  "
       ]
      },
      {
       "output_type": "stream",
       "stream": "stdout",
       "text": [
        "RFAOD8  "
       ]
      },
      {
       "output_type": "stream",
       "stream": "stdout",
       "text": [
        "KGTEE3  "
       ]
      },
      {
       "output_type": "stream",
       "stream": "stdout",
       "text": [
        "48VMWS  "
       ]
      },
      {
       "output_type": "stream",
       "stream": "stdout",
       "text": [
        "LDZAX3  "
       ]
      },
      {
       "output_type": "stream",
       "stream": "stdout",
       "text": [
        "XGTXKE  "
       ]
      },
      {
       "output_type": "stream",
       "stream": "stdout",
       "text": [
        "CKDBIW  "
       ]
      },
      {
       "output_type": "stream",
       "stream": "stdout",
       "text": [
        "F4M06Z  "
       ]
      },
      {
       "output_type": "stream",
       "stream": "stdout",
       "text": [
        "3RP6HV  "
       ]
      },
      {
       "output_type": "stream",
       "stream": "stdout",
       "text": [
        "X8I9KB  "
       ]
      },
      {
       "output_type": "stream",
       "stream": "stdout",
       "text": [
        "457YRZ  "
       ]
      },
      {
       "output_type": "stream",
       "stream": "stdout",
       "text": [
        "24K2IU  "
       ]
      },
      {
       "output_type": "stream",
       "stream": "stdout",
       "text": [
        "N4KBWJ  "
       ]
      },
      {
       "output_type": "stream",
       "stream": "stdout",
       "text": [
        "GI9A17  "
       ]
      },
      {
       "output_type": "stream",
       "stream": "stdout",
       "text": [
        "QA0PSN  "
       ]
      },
      {
       "output_type": "stream",
       "stream": "stdout",
       "text": [
        "6FCGAX  "
       ]
      },
      {
       "output_type": "stream",
       "stream": "stdout",
       "text": [
        "VAR7NP  "
       ]
      },
      {
       "output_type": "stream",
       "stream": "stdout",
       "text": [
        "3DKJUD  "
       ]
      },
      {
       "output_type": "stream",
       "stream": "stdout",
       "text": [
        "671D8Q  "
       ]
      },
      {
       "output_type": "stream",
       "stream": "stdout",
       "text": [
        "O9CE10  "
       ]
      },
      {
       "output_type": "stream",
       "stream": "stdout",
       "text": [
        "RRQ61X  "
       ]
      },
      {
       "output_type": "stream",
       "stream": "stdout",
       "text": [
        "85WJTV  "
       ]
      },
      {
       "output_type": "stream",
       "stream": "stdout",
       "text": [
        "AJ6I80  "
       ]
      },
      {
       "output_type": "stream",
       "stream": "stdout",
       "text": [
        "UK7VVQ  "
       ]
      },
      {
       "output_type": "stream",
       "stream": "stdout",
       "text": [
        "0Z6VQA  "
       ]
      },
      {
       "output_type": "stream",
       "stream": "stdout",
       "text": [
        "N6B8NY  "
       ]
      },
      {
       "output_type": "stream",
       "stream": "stdout",
       "text": [
        "MJ61HQ  "
       ]
      },
      {
       "output_type": "stream",
       "stream": "stdout",
       "text": [
        "GLTBBW  "
       ]
      },
      {
       "output_type": "stream",
       "stream": "stdout",
       "text": [
        "HKF38K  "
       ]
      },
      {
       "output_type": "stream",
       "stream": "stdout",
       "text": [
        "9G2VMU  "
       ]
      },
      {
       "output_type": "stream",
       "stream": "stdout",
       "text": [
        "282ZQ9  "
       ]
      },
      {
       "output_type": "stream",
       "stream": "stdout",
       "text": [
        "ZEZV88  "
       ]
      },
      {
       "output_type": "stream",
       "stream": "stdout",
       "text": [
        "FYRZ3Y  "
       ]
      },
      {
       "output_type": "stream",
       "stream": "stdout",
       "text": [
        "AEVUY0  "
       ]
      },
      {
       "output_type": "stream",
       "stream": "stdout",
       "text": [
        "8MF743  "
       ]
      },
      {
       "output_type": "stream",
       "stream": "stdout",
       "text": [
        "K0A8G7  "
       ]
      },
      {
       "output_type": "stream",
       "stream": "stdout",
       "text": [
        "J30ZMJ  "
       ]
      },
      {
       "output_type": "stream",
       "stream": "stdout",
       "text": [
        "78RPAK  "
       ]
      },
      {
       "output_type": "stream",
       "stream": "stdout",
       "text": [
        "GMFABT  "
       ]
      },
      {
       "output_type": "stream",
       "stream": "stdout",
       "text": [
        "MARI3T  "
       ]
      },
      {
       "output_type": "stream",
       "stream": "stdout",
       "text": [
        "6ZDNC2  "
       ]
      },
      {
       "output_type": "stream",
       "stream": "stdout",
       "text": [
        "X0Z8XM  "
       ]
      },
      {
       "output_type": "stream",
       "stream": "stdout",
       "text": [
        "T7L1NV  "
       ]
      },
      {
       "output_type": "stream",
       "stream": "stdout",
       "text": [
        "7JDPK2  "
       ]
      },
      {
       "output_type": "stream",
       "stream": "stdout",
       "text": [
        "GFD2NX  "
       ]
      },
      {
       "output_type": "stream",
       "stream": "stdout",
       "text": [
        "37ETW2  "
       ]
      },
      {
       "output_type": "stream",
       "stream": "stdout",
       "text": [
        "6VD0AT  "
       ]
      },
      {
       "output_type": "stream",
       "stream": "stdout",
       "text": [
        "1QZJ9F  "
       ]
      },
      {
       "output_type": "stream",
       "stream": "stdout",
       "text": [
        "6PN139  "
       ]
      },
      {
       "output_type": "stream",
       "stream": "stdout",
       "text": [
        "NWNEGW  "
       ]
      },
      {
       "output_type": "stream",
       "stream": "stdout",
       "text": [
        "7CKT0K  "
       ]
      },
      {
       "output_type": "stream",
       "stream": "stdout",
       "text": [
        "QEA6XX  "
       ]
      },
      {
       "output_type": "stream",
       "stream": "stdout",
       "text": [
        "8V96NX  "
       ]
      },
      {
       "output_type": "stream",
       "stream": "stdout",
       "text": [
        "OF2SMI  "
       ]
      },
      {
       "output_type": "stream",
       "stream": "stdout",
       "text": [
        "4D5XHR  "
       ]
      },
      {
       "output_type": "stream",
       "stream": "stdout",
       "text": [
        "W387GA  "
       ]
      },
      {
       "output_type": "stream",
       "stream": "stdout",
       "text": [
        "LV761W  "
       ]
      },
      {
       "output_type": "stream",
       "stream": "stdout",
       "text": [
        "3M4UKY  "
       ]
      },
      {
       "output_type": "stream",
       "stream": "stdout",
       "text": [
        "CYHIMO  "
       ]
      },
      {
       "output_type": "stream",
       "stream": "stdout",
       "text": [
        "HMEO0B  "
       ]
      },
      {
       "output_type": "stream",
       "stream": "stdout",
       "text": [
        "LQQ2HZ  "
       ]
      },
      {
       "output_type": "stream",
       "stream": "stdout",
       "text": [
        "ZQ568T  "
       ]
      },
      {
       "output_type": "stream",
       "stream": "stdout",
       "text": [
        "F8ASE6  "
       ]
      },
      {
       "output_type": "stream",
       "stream": "stdout",
       "text": [
        "4CO29X  "
       ]
      },
      {
       "output_type": "stream",
       "stream": "stdout",
       "text": [
        "YO77QK  "
       ]
      },
      {
       "output_type": "stream",
       "stream": "stdout",
       "text": [
        "J7K42S  "
       ]
      },
      {
       "output_type": "stream",
       "stream": "stdout",
       "text": [
        "1YEYQ6  "
       ]
      },
      {
       "output_type": "stream",
       "stream": "stdout",
       "text": [
        "X8M6GO  "
       ]
      },
      {
       "output_type": "stream",
       "stream": "stdout",
       "text": [
        "5C2N5A  "
       ]
      },
      {
       "output_type": "stream",
       "stream": "stdout",
       "text": [
        "72P2UE  "
       ]
      },
      {
       "output_type": "stream",
       "stream": "stdout",
       "text": [
        "RHKD3F  "
       ]
      },
      {
       "output_type": "stream",
       "stream": "stdout",
       "text": [
        "9FWAJZ  "
       ]
      },
      {
       "output_type": "stream",
       "stream": "stdout",
       "text": [
        "POL750  "
       ]
      },
      {
       "output_type": "stream",
       "stream": "stdout",
       "text": [
        "6LGEMN  "
       ]
      },
      {
       "output_type": "stream",
       "stream": "stdout",
       "text": [
        "UNFCNK  "
       ]
      },
      {
       "output_type": "stream",
       "stream": "stdout",
       "text": [
        "M457F4  "
       ]
      },
      {
       "output_type": "stream",
       "stream": "stdout",
       "text": [
        "PUH7DV  "
       ]
      },
      {
       "output_type": "stream",
       "stream": "stdout",
       "text": [
        "78OF3Q  "
       ]
      },
      {
       "output_type": "stream",
       "stream": "stdout",
       "text": [
        "D5REWT  "
       ]
      },
      {
       "output_type": "stream",
       "stream": "stdout",
       "text": [
        "A8DU9Y  "
       ]
      },
      {
       "output_type": "stream",
       "stream": "stdout",
       "text": [
        "VAY8CK  "
       ]
      },
      {
       "output_type": "stream",
       "stream": "stdout",
       "text": [
        "VQ60DZ  "
       ]
      },
      {
       "output_type": "stream",
       "stream": "stdout",
       "text": [
        "9H2OY0  "
       ]
      },
      {
       "output_type": "stream",
       "stream": "stdout",
       "text": [
        "HQAFIN  "
       ]
      },
      {
       "output_type": "stream",
       "stream": "stdout",
       "text": [
        "RU1MXC  "
       ]
      },
      {
       "output_type": "stream",
       "stream": "stdout",
       "text": [
        "0VSXRN  "
       ]
      },
      {
       "output_type": "stream",
       "stream": "stdout",
       "text": [
        "57NDOR  "
       ]
      },
      {
       "output_type": "stream",
       "stream": "stdout",
       "text": [
        "ABR97Z  "
       ]
      },
      {
       "output_type": "stream",
       "stream": "stdout",
       "text": [
        "GXSRD4  "
       ]
      },
      {
       "output_type": "stream",
       "stream": "stdout",
       "text": [
        "ZJ1UF7  "
       ]
      },
      {
       "output_type": "stream",
       "stream": "stdout",
       "text": [
        "QKIWAF  "
       ]
      },
      {
       "output_type": "stream",
       "stream": "stdout",
       "text": [
        "4GYH18  "
       ]
      },
      {
       "output_type": "stream",
       "stream": "stdout",
       "text": [
        "GS20HV  "
       ]
      },
      {
       "output_type": "stream",
       "stream": "stdout",
       "text": [
        "FAXX85  "
       ]
      },
      {
       "output_type": "stream",
       "stream": "stdout",
       "text": [
        "RFCPGP  "
       ]
      },
      {
       "output_type": "stream",
       "stream": "stdout",
       "text": [
        "Y28E6R  "
       ]
      },
      {
       "output_type": "stream",
       "stream": "stdout",
       "text": [
        "I4V5BV  "
       ]
      },
      {
       "output_type": "stream",
       "stream": "stdout",
       "text": [
        "VS0EZC  "
       ]
      },
      {
       "output_type": "stream",
       "stream": "stdout",
       "text": [
        "WQQ8X2  "
       ]
      },
      {
       "output_type": "stream",
       "stream": "stdout",
       "text": [
        "VTP45N  "
       ]
      },
      {
       "output_type": "stream",
       "stream": "stdout",
       "text": [
        "95W94D  "
       ]
      },
      {
       "output_type": "stream",
       "stream": "stdout",
       "text": [
        "1UL9LV  "
       ]
      },
      {
       "output_type": "stream",
       "stream": "stdout",
       "text": [
        "6HNTZ4  "
       ]
      },
      {
       "output_type": "stream",
       "stream": "stdout",
       "text": [
        "3O5H9R  "
       ]
      },
      {
       "output_type": "stream",
       "stream": "stdout",
       "text": [
        "HLQJTF  "
       ]
      },
      {
       "output_type": "stream",
       "stream": "stdout",
       "text": [
        "DQOGTG  "
       ]
      },
      {
       "output_type": "stream",
       "stream": "stdout",
       "text": [
        "K11RBB  "
       ]
      },
      {
       "output_type": "stream",
       "stream": "stdout",
       "text": [
        "KB3CO0  "
       ]
      },
      {
       "output_type": "stream",
       "stream": "stdout",
       "text": [
        "4J7TD2  "
       ]
      },
      {
       "output_type": "stream",
       "stream": "stdout",
       "text": [
        "3HIU8N  "
       ]
      },
      {
       "output_type": "stream",
       "stream": "stdout",
       "text": [
        "RA6517  "
       ]
      },
      {
       "output_type": "stream",
       "stream": "stdout",
       "text": [
        "15C5XU  "
       ]
      },
      {
       "output_type": "stream",
       "stream": "stdout",
       "text": [
        "2YJU9G  "
       ]
      },
      {
       "output_type": "stream",
       "stream": "stdout",
       "text": [
        "UD8N1D  "
       ]
      },
      {
       "output_type": "stream",
       "stream": "stdout",
       "text": [
        "JFIYBH  "
       ]
      },
      {
       "output_type": "stream",
       "stream": "stdout",
       "text": [
        "UNFA2M  "
       ]
      },
      {
       "output_type": "stream",
       "stream": "stdout",
       "text": [
        "XS38I0  "
       ]
      },
      {
       "output_type": "stream",
       "stream": "stdout",
       "text": [
        "LONEN5  "
       ]
      },
      {
       "output_type": "stream",
       "stream": "stdout",
       "text": [
        "WPGU3A  "
       ]
      },
      {
       "output_type": "stream",
       "stream": "stdout",
       "text": [
        "XXK1FC  "
       ]
      },
      {
       "output_type": "stream",
       "stream": "stdout",
       "text": [
        "E07SRS  "
       ]
      },
      {
       "output_type": "stream",
       "stream": "stdout",
       "text": [
        "R9FV94  "
       ]
      },
      {
       "output_type": "stream",
       "stream": "stdout",
       "text": [
        "UPB0Q8  "
       ]
      },
      {
       "output_type": "stream",
       "stream": "stdout",
       "text": [
        "1MQ3NL  "
       ]
      },
      {
       "output_type": "stream",
       "stream": "stdout",
       "text": [
        "P4YFVA  "
       ]
      },
      {
       "output_type": "stream",
       "stream": "stdout",
       "text": [
        "J0I29A  "
       ]
      },
      {
       "output_type": "stream",
       "stream": "stdout",
       "text": [
        "32T6ZK  "
       ]
      },
      {
       "output_type": "stream",
       "stream": "stdout",
       "text": [
        "9424OC  "
       ]
      },
      {
       "output_type": "stream",
       "stream": "stdout",
       "text": [
        "E2KKJ8  "
       ]
      },
      {
       "output_type": "stream",
       "stream": "stdout",
       "text": [
        "6H6JEI  "
       ]
      },
      {
       "output_type": "stream",
       "stream": "stdout",
       "text": [
        "M6YSA9  "
       ]
      },
      {
       "output_type": "stream",
       "stream": "stdout",
       "text": [
        "6GV7M7  "
       ]
      },
      {
       "output_type": "stream",
       "stream": "stdout",
       "text": [
        "DNL9IV  "
       ]
      },
      {
       "output_type": "stream",
       "stream": "stdout",
       "text": [
        "APEEA2  "
       ]
      },
      {
       "output_type": "stream",
       "stream": "stdout",
       "text": [
        "BRMLOE  "
       ]
      },
      {
       "output_type": "stream",
       "stream": "stdout",
       "text": [
        "IDWCCD  "
       ]
      },
      {
       "output_type": "stream",
       "stream": "stdout",
       "text": [
        "ZCWE4G  "
       ]
      },
      {
       "output_type": "stream",
       "stream": "stdout",
       "text": [
        "MZUM0G  "
       ]
      },
      {
       "output_type": "stream",
       "stream": "stdout",
       "text": [
        "K6L3E1  "
       ]
      },
      {
       "output_type": "stream",
       "stream": "stdout",
       "text": [
        "GG5QN6  "
       ]
      },
      {
       "output_type": "stream",
       "stream": "stdout",
       "text": [
        "BAJYQU  "
       ]
      },
      {
       "output_type": "stream",
       "stream": "stdout",
       "text": [
        "OYV6SY  "
       ]
      },
      {
       "output_type": "stream",
       "stream": "stdout",
       "text": [
        "LAPGW2  "
       ]
      },
      {
       "output_type": "stream",
       "stream": "stdout",
       "text": [
        "PN721N  "
       ]
      },
      {
       "output_type": "stream",
       "stream": "stdout",
       "text": [
        "5M2EVF  "
       ]
      },
      {
       "output_type": "stream",
       "stream": "stdout",
       "text": [
        "IWKSDP  "
       ]
      },
      {
       "output_type": "stream",
       "stream": "stdout",
       "text": [
        "32MOYT  "
       ]
      },
      {
       "output_type": "stream",
       "stream": "stdout",
       "text": [
        "7Z7UJE  "
       ]
      },
      {
       "output_type": "stream",
       "stream": "stdout",
       "text": [
        "6L925B  "
       ]
      },
      {
       "output_type": "stream",
       "stream": "stdout",
       "text": [
        "N4GI02  "
       ]
      },
      {
       "output_type": "stream",
       "stream": "stdout",
       "text": [
        "AAX99V  "
       ]
      },
      {
       "output_type": "stream",
       "stream": "stdout",
       "text": [
        "FTYIP9  "
       ]
      },
      {
       "output_type": "stream",
       "stream": "stdout",
       "text": [
        "PKSCVF  "
       ]
      },
      {
       "output_type": "stream",
       "stream": "stdout",
       "text": [
        "WWKJCR  "
       ]
      },
      {
       "output_type": "stream",
       "stream": "stdout",
       "text": [
        "UC9CH4  "
       ]
      },
      {
       "output_type": "stream",
       "stream": "stdout",
       "text": [
        "79KPO8  "
       ]
      },
      {
       "output_type": "stream",
       "stream": "stdout",
       "text": [
        "VRFWV7  "
       ]
      },
      {
       "output_type": "stream",
       "stream": "stdout",
       "text": [
        "SJP2Z0  "
       ]
      },
      {
       "output_type": "stream",
       "stream": "stdout",
       "text": [
        "7A9PII  "
       ]
      },
      {
       "output_type": "stream",
       "stream": "stdout",
       "text": [
        "PGQ3QF  "
       ]
      },
      {
       "output_type": "stream",
       "stream": "stdout",
       "text": [
        "P6MH6P  "
       ]
      },
      {
       "output_type": "stream",
       "stream": "stdout",
       "text": [
        "RYQ2LN  "
       ]
      },
      {
       "output_type": "stream",
       "stream": "stdout",
       "text": [
        "SATVRN  "
       ]
      },
      {
       "output_type": "stream",
       "stream": "stdout",
       "text": [
        "1JO672  "
       ]
      },
      {
       "output_type": "stream",
       "stream": "stdout",
       "text": [
        "SURPHD  "
       ]
      },
      {
       "output_type": "stream",
       "stream": "stdout",
       "text": [
        "H65BIY  "
       ]
      },
      {
       "output_type": "stream",
       "stream": "stdout",
       "text": [
        "9WYYWW  "
       ]
      },
      {
       "output_type": "stream",
       "stream": "stdout",
       "text": [
        "0KSFNY  "
       ]
      },
      {
       "output_type": "stream",
       "stream": "stdout",
       "text": [
        "BS3SS5  "
       ]
      },
      {
       "output_type": "stream",
       "stream": "stdout",
       "text": [
        "WZPC68  "
       ]
      },
      {
       "output_type": "stream",
       "stream": "stdout",
       "text": [
        "5APQEV  "
       ]
      },
      {
       "output_type": "stream",
       "stream": "stdout",
       "text": [
        "4ETFWE  "
       ]
      },
      {
       "output_type": "stream",
       "stream": "stdout",
       "text": [
        "59OWDV  "
       ]
      },
      {
       "output_type": "stream",
       "stream": "stdout",
       "text": [
        "5HGE55  "
       ]
      },
      {
       "output_type": "stream",
       "stream": "stdout",
       "text": [
        "1TVY0E  "
       ]
      },
      {
       "output_type": "stream",
       "stream": "stdout",
       "text": [
        "1L7BYR  "
       ]
      },
      {
       "output_type": "stream",
       "stream": "stdout",
       "text": [
        "IYHO8Q  "
       ]
      },
      {
       "output_type": "stream",
       "stream": "stdout",
       "text": [
        "JA0W6U  "
       ]
      },
      {
       "output_type": "stream",
       "stream": "stdout",
       "text": [
        "HK5XRB  "
       ]
      },
      {
       "output_type": "stream",
       "stream": "stdout",
       "text": [
        "LABEUD  "
       ]
      },
      {
       "output_type": "stream",
       "stream": "stdout",
       "text": [
        "Z6OSUK  "
       ]
      },
      {
       "output_type": "stream",
       "stream": "stdout",
       "text": [
        "LGQX2W  "
       ]
      },
      {
       "output_type": "stream",
       "stream": "stdout",
       "text": [
        "GWKE7K  "
       ]
      },
      {
       "output_type": "stream",
       "stream": "stdout",
       "text": [
        "7G6ESK  "
       ]
      },
      {
       "output_type": "stream",
       "stream": "stdout",
       "text": [
        "7OUCY5  "
       ]
      },
      {
       "output_type": "stream",
       "stream": "stdout",
       "text": [
        "VPKT9E  "
       ]
      },
      {
       "output_type": "stream",
       "stream": "stdout",
       "text": [
        "G2ADE5  "
       ]
      },
      {
       "output_type": "stream",
       "stream": "stdout",
       "text": [
        "1OJC9X  "
       ]
      },
      {
       "output_type": "stream",
       "stream": "stdout",
       "text": [
        "G9CVWM  "
       ]
      },
      {
       "output_type": "stream",
       "stream": "stdout",
       "text": [
        "FOI97S  "
       ]
      },
      {
       "output_type": "stream",
       "stream": "stdout",
       "text": [
        "52F1G1  "
       ]
      },
      {
       "output_type": "stream",
       "stream": "stdout",
       "text": [
        "58I178  "
       ]
      },
      {
       "output_type": "stream",
       "stream": "stdout",
       "text": [
        "7SAXG0  "
       ]
      },
      {
       "output_type": "stream",
       "stream": "stdout",
       "text": [
        "K2LD18  "
       ]
      },
      {
       "output_type": "stream",
       "stream": "stdout",
       "text": [
        "UI3NG5  "
       ]
      },
      {
       "output_type": "stream",
       "stream": "stdout",
       "text": [
        "3RWQTB  "
       ]
      },
      {
       "output_type": "stream",
       "stream": "stdout",
       "text": [
        "WZBUM6  "
       ]
      },
      {
       "output_type": "stream",
       "stream": "stdout",
       "text": [
        "SYZRQF  "
       ]
      },
      {
       "output_type": "stream",
       "stream": "stdout",
       "text": [
        "X87L2Q  "
       ]
      },
      {
       "output_type": "stream",
       "stream": "stdout",
       "text": [
        "WJ63I4  "
       ]
      },
      {
       "output_type": "stream",
       "stream": "stdout",
       "text": [
        "H6BEQR  "
       ]
      },
      {
       "output_type": "stream",
       "stream": "stdout",
       "text": [
        "Q5FHO2  "
       ]
      },
      {
       "output_type": "stream",
       "stream": "stdout",
       "text": [
        "LUKYIY  "
       ]
      },
      {
       "output_type": "stream",
       "stream": "stdout",
       "text": [
        "RH7XQX  "
       ]
      },
      {
       "output_type": "stream",
       "stream": "stdout",
       "text": [
        "ZEMCF0  "
       ]
      },
      {
       "output_type": "stream",
       "stream": "stdout",
       "text": [
        "TYA0K9  "
       ]
      },
      {
       "output_type": "stream",
       "stream": "stdout",
       "text": [
        "VUJNS1  "
       ]
      },
      {
       "output_type": "stream",
       "stream": "stdout",
       "text": [
        "WDWYD5  "
       ]
      },
      {
       "output_type": "stream",
       "stream": "stdout",
       "text": [
        "V38F22  "
       ]
      },
      {
       "output_type": "stream",
       "stream": "stdout",
       "text": [
        "P5ZA1L  "
       ]
      },
      {
       "output_type": "stream",
       "stream": "stdout",
       "text": [
        "EGIXGE  "
       ]
      },
      {
       "output_type": "stream",
       "stream": "stdout",
       "text": [
        "Z0V18H  "
       ]
      },
      {
       "output_type": "stream",
       "stream": "stdout",
       "text": [
        "PJQB3Z  "
       ]
      },
      {
       "output_type": "stream",
       "stream": "stdout",
       "text": [
        "7EM22G  "
       ]
      },
      {
       "output_type": "stream",
       "stream": "stdout",
       "text": [
        "3DSYC4  "
       ]
      },
      {
       "output_type": "stream",
       "stream": "stdout",
       "text": [
        "VVOQP5  "
       ]
      },
      {
       "output_type": "stream",
       "stream": "stdout",
       "text": [
        "K3WHRE  "
       ]
      },
      {
       "output_type": "stream",
       "stream": "stdout",
       "text": [
        "GP5YG4  "
       ]
      },
      {
       "output_type": "stream",
       "stream": "stdout",
       "text": [
        "JR24ZV  "
       ]
      },
      {
       "output_type": "stream",
       "stream": "stdout",
       "text": [
        "HBGXWE  "
       ]
      },
      {
       "output_type": "stream",
       "stream": "stdout",
       "text": [
        "RJZH8D  "
       ]
      },
      {
       "output_type": "stream",
       "stream": "stdout",
       "text": [
        "6ZXI1S  "
       ]
      },
      {
       "output_type": "stream",
       "stream": "stdout",
       "text": [
        "DC6VJ3  "
       ]
      },
      {
       "output_type": "stream",
       "stream": "stdout",
       "text": [
        "DWNJKF  "
       ]
      },
      {
       "output_type": "stream",
       "stream": "stdout",
       "text": [
        "UP8BGT  "
       ]
      },
      {
       "output_type": "stream",
       "stream": "stdout",
       "text": [
        "CM916B  "
       ]
      },
      {
       "output_type": "stream",
       "stream": "stdout",
       "text": [
        "6OKSTO  "
       ]
      },
      {
       "output_type": "stream",
       "stream": "stdout",
       "text": [
        "62AMVG  "
       ]
      },
      {
       "output_type": "stream",
       "stream": "stdout",
       "text": [
        "MU55EQ  "
       ]
      },
      {
       "output_type": "stream",
       "stream": "stdout",
       "text": [
        "TKKOM7  "
       ]
      },
      {
       "output_type": "stream",
       "stream": "stdout",
       "text": [
        "L6JOID  "
       ]
      },
      {
       "output_type": "stream",
       "stream": "stdout",
       "text": [
        "XWLUWQ  "
       ]
      },
      {
       "output_type": "stream",
       "stream": "stdout",
       "text": [
        "ZU21U2  "
       ]
      },
      {
       "output_type": "stream",
       "stream": "stdout",
       "text": [
        "GWYFYH  "
       ]
      },
      {
       "output_type": "stream",
       "stream": "stdout",
       "text": [
        "P14QZR  "
       ]
      },
      {
       "output_type": "stream",
       "stream": "stdout",
       "text": [
        "GSHL1A  "
       ]
      },
      {
       "output_type": "stream",
       "stream": "stdout",
       "text": [
        "29T247  "
       ]
      },
      {
       "output_type": "stream",
       "stream": "stdout",
       "text": [
        "UQ317B  "
       ]
      },
      {
       "output_type": "stream",
       "stream": "stdout",
       "text": [
        "MMT3NT  "
       ]
      },
      {
       "output_type": "stream",
       "stream": "stdout",
       "text": [
        "54S2I4  "
       ]
      },
      {
       "output_type": "stream",
       "stream": "stdout",
       "text": [
        "QJZ6RF  "
       ]
      },
      {
       "output_type": "stream",
       "stream": "stdout",
       "text": [
        "KKXXWR  "
       ]
      },
      {
       "output_type": "stream",
       "stream": "stdout",
       "text": [
        "2JM3GW  "
       ]
      },
      {
       "output_type": "stream",
       "stream": "stdout",
       "text": [
        "N9X8EA  "
       ]
      },
      {
       "output_type": "stream",
       "stream": "stdout",
       "text": [
        "I00949  "
       ]
      },
      {
       "output_type": "stream",
       "stream": "stdout",
       "text": [
        "T76CHZ  "
       ]
      },
      {
       "output_type": "stream",
       "stream": "stdout",
       "text": [
        "3UG5DQ  "
       ]
      },
      {
       "output_type": "stream",
       "stream": "stdout",
       "text": [
        "BMWS4I  "
       ]
      },
      {
       "output_type": "stream",
       "stream": "stdout",
       "text": [
        "6DIEN5  "
       ]
      },
      {
       "output_type": "stream",
       "stream": "stdout",
       "text": [
        "VVCOOB  "
       ]
      },
      {
       "output_type": "stream",
       "stream": "stdout",
       "text": [
        "ANOQG6  "
       ]
      },
      {
       "output_type": "stream",
       "stream": "stdout",
       "text": [
        "4WXB4T \n"
       ]
      }
     ],
     "prompt_number": 14
    },
    {
     "cell_type": "code",
     "collapsed": false,
     "input": [
      "correct_ssm, total_ssm = matching.folderMatch(directory, dt, matching.spectralMatchMMC, thresholds_spectralMMC, keypoint, descriptor)"
     ],
     "language": "python",
     "metadata": {},
     "outputs": [],
     "prompt_number": "*"
    },
    {
     "cell_type": "code",
     "collapsed": false,
     "input": [
      "# Save data\n",
      "numpy.savez(directory + \"data\", \n",
      "            NN_Ratio = (correct_us, total_us), \n",
      "            MM = (correct_ms, total_ms), \n",
      "            MMC = (correct_cs, total_cs), \n",
      "            Isodata = (correct_is, total_is), \n",
      "            Spectral = (correct_ss, total_ss), \n",
      "            SpectralMMC = (correct_ssm, total_ssm),\n",
      "            nb_correspondences = nb_correspondences)"
     ],
     "language": "python",
     "metadata": {},
     "outputs": [],
     "prompt_number": 35
    },
    {
     "cell_type": "code",
     "collapsed": false,
     "input": [
      "# Load data\n",
      "data = numpy.load(directory + \"data.npz\")\n",
      "correct_us, total_us = data['NN_Ratio']\n",
      "correct_ms, total_ms = data['MM']\n",
      "correct_cs, total_cs = data['MMC']\n",
      "correct_is, total_is = data['Isodata']\n",
      "correct_ss, total_ss = data['Spectral']\n",
      "correct_ssm, total_ssm = data['SpectralMMC']\n",
      "nb_correspondences = data[\"nb_correspondences\"]"
     ],
     "language": "python",
     "metadata": {},
     "outputs": [],
     "prompt_number": 4
    },
    {
     "cell_type": "code",
     "collapsed": false,
     "input": [
      "display.accuPlot(\n",
      "    [correct_cs, correct_ms, correct_is, correct_ss, correct_us], \n",
      "    [total_cs, total_ms, total_is, total_ss, total_us], \n",
      "    [\"MMC\", \"MM\", \"Isodata\", \"Spectral\", \"NN-Ratio\"],\n",
      "    colors = [\"green\", \"red\", \"orange\" ,\"maroon\", \"blue\"], \n",
      "    nb_correspondences = nb_correspondences,\n",
      "    size=(10,3.5), ylim=(0.35,0.8), xlim=0.26,\n",
      "    output = \"result_accumulated.pdf\")"
     ],
     "language": "python",
     "metadata": {},
     "outputs": [
      {
       "output_type": "display_data",
       "png": "[encoded data removed]"
      }
     ],
     "prompt_number": 5
    },
    {
     "cell_type": "code",
     "collapsed": false,
     "input": [
      "display.accuPlot(\n",
      "    [correct_ssm, correct_ms, correct_ss], \n",
      "    [total_ssm, total_ms, total_ss], \n",
      "    [\"Spectral MMC\", \"MMC\", \"Spectral\"],\n",
      "    nb_correspondences = nb_correspondences,\n",
      "    colors = [\"purple\", \"green\", \"brown\", \"orange\", \"purple\"], \n",
      "    size=(10,3.5), ylim=(0.4,0.8), xlim=0.25,\n",
      "    output = \"result_spectral-mmc.pdf\"\n",
      ")"
     ],
     "language": "python",
     "metadata": {},
     "outputs": [
      {
       "output_type": "display_data",
       "png": "[encoded data removed]"
      }
     ],
     "prompt_number": 7
    },
    {
     "cell_type": "code",
     "collapsed": false,
     "input": [],
     "language": "python",
     "metadata": {},
     "outputs": []
    }
   ],
   "metadata": {}
  }
 ]
}
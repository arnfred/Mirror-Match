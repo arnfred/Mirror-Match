{
 "metadata": {
  "name": "Create Testset"
 },
 "nbformat": 3,
 "nbformat_minor": 0,
 "worksheets": [
  {
   "cells": [
    {
     "cell_type": "code",
     "collapsed": false,
     "input": [
      "#Stupid hack to load files from sibling dir\n",
      "import sys; import os\n",
      "sys.path.insert(0, os.path.abspath('..'))\n",
      "\n",
      "%load_ext autoreload\n",
      "%autoreload 2"
     ],
     "language": "python",
     "metadata": {},
     "outputs": [],
     "prompt_number": 1
    },
    {
     "cell_type": "code",
     "collapsed": false,
     "input": [
      "import random\n",
      "import features\n",
      "import matching\n",
      "import display\n",
      "from string import ascii_uppercase, digits\n",
      "from os.path import isdir, dirname, exists\n",
      "from os import makedirs\n",
      "from scipy.misc import imresize"
     ],
     "language": "python",
     "metadata": {},
     "outputs": [],
     "prompt_number": 2
    },
    {
     "cell_type": "code",
     "collapsed": false,
     "input": [
      "def getRandPath(folder, size=6, chars=ascii_uppercase + digits) :\n",
      "    condition = True\n",
      "    while condition:\n",
      "        name = ''.join(random.choice(chars) for x in range(size))\n",
      "        condition = isdir(folder + name)\n",
      "    return folder + name"
     ],
     "language": "python",
     "metadata": {},
     "outputs": [],
     "prompt_number": 3
    },
    {
     "cell_type": "code",
     "collapsed": false,
     "input": [
      "def makeTestPair(paths, homography, collection, width=250, height=250, scale = 1.0) :\n",
      "    \n",
      "    images = map(features.loadImage, paths)\n",
      "    \n",
      "    # Crop part of first image and part of second image:\n",
      "    (top_o, left_o) = (random.randint(0, images[0].shape[0]-height), random.randint(0, images[0].shape[1]-width))\n",
      "    (top_n, left_n) = (random.randint(0, images[1].shape[0]-height), random.randint(0, images[1].shape[1]-width))\n",
      "    \n",
      "    # Get two file names\n",
      "    c_path = getRandPath(\"../../images/testsets/%s/\" % collection)\n",
      "    if not exists(dirname(c_path)) : makedirs(dirname(c_path))\n",
      "        \n",
      "    # Make sure we save as gray\n",
      "    gray()\n",
      "    \n",
      "    im1 = images[0][top_o: top_o + height, left_o: left_o + width]\n",
      "    im2 = images[1][top_n: top_n + height, left_n: left_n + width]\n",
      "    im1_scaled = imresize(im1, size=float(scale), interp='bicubic')\n",
      "    im2_scaled = imresize(im2, size=float(scale), interp='bicubic')\n",
      "    imsave(c_path + \"_1.jpg\", im1_scaled)\n",
      "    imsave(c_path + \"_2.jpg\", im2_scaled)\n",
      "    #imsave(c_path + \"_1.jpg\", im1)\n",
      "    #imsave(c_path + \"_2.jpg\", im2)\n",
      "    \n",
      "    T1 = numpy.identity(3)\n",
      "    T1[0,2] = left_o\n",
      "    T1[1,2] = top_o\n",
      "    \n",
      "    T2 = numpy.identity(3)\n",
      "    T2[0,2] = -1*left_n# * scale\n",
      "    T2[1,2] = -1*top_n# * scale\n",
      "    \n",
      "    Ts = numpy.identity(3)\n",
      "    Ts[0,0] = scale\n",
      "    Ts[1,1] = scale\n",
      "    \n",
      "    Tsinv = numpy.identity(3)\n",
      "    Tsinv[0,0] = 1.0/scale\n",
      "    Tsinv[1,1] = 1.0/scale\n",
      "    \n",
      "    hom = Ts.dot(T2).dot(homography).dot(T1).dot(Tsinv)\n",
      "    hom = hom / hom[2,2]\n",
      "    numpy.savetxt(c_path, hom)\n",
      "    \n",
      "    return c_path"
     ],
     "language": "python",
     "metadata": {},
     "outputs": [],
     "prompt_number": 4
    },
    {
     "cell_type": "code",
     "collapsed": false,
     "input": [
      "def getSavedHomography(paths) :\n",
      "    def getHomographyPath(paths) :\n",
      "        d = \"/\".join(paths[0].split('/')[0:-1])\n",
      "        p1 = paths[0].split('/')[-1].split(\".\")[0]\n",
      "        p2 = paths[1].split('/')[-1].split(\".\")[0]\n",
      "        return \"%s/%s_%s_hom.npy\" % (d, p1, p2)\n",
      "    \n",
      "    try :\n",
      "        homography_path = getHomographyPath(paths)\n",
      "        print(homography_path)\n",
      "        with open(homography_path) :\n",
      "            homography = numpy.loadtxt(homography_path)\n",
      "    # In case the file doesn't exist, try to estimate something\n",
      "    except IOError :\n",
      "        print(\"no such homography\")\n",
      "        homography = None\n",
      "    \n",
      "    return homography"
     ],
     "language": "python",
     "metadata": {},
     "outputs": [],
     "prompt_number": 5
    },
    {
     "cell_type": "code",
     "collapsed": false,
     "input": [
      "# Water\n",
      "#paths = ['../../images/gallagher/partial_match/100_2151_vert.jpg', '../../images/gallagher/partial_match/100_2155_vert.jpg']\n",
      "\n",
      "# Pittsburg\n",
      "#paths = ['../../images/gallagher/partial_match/100_2151_small.jpg', '../../images/gallagher/partial_match/100_2154_small.jpg']\n",
      "\n",
      "# Pittsburg2\n",
      "#paths = ['../../images/gallagher/partial_match/100_1941_small.jpg', '../../images/gallagher/partial_match/100_1942_small.jpg']\n",
      "\n",
      "# Slide\n",
      "#paths = ['../../images/gallagher/partial_match/100_1998_small.jpg', '../../images/gallagher/partial_match/100_1999_small.jpg']\n",
      "paths = ['../../images/murals/fairey_artwar_1.jpg', '../../images/murals/fairey_artwar_2.jpg']\n",
      "collection = \"Fairey Artwar\"\n",
      "homography = getSavedHomography(paths)\n",
      "print(homography)\n",
      "test_path = [makeTestPair(paths, homography, collection, scale = 1.0) for _ in range(100)][0]"
     ],
     "language": "python",
     "metadata": {},
     "outputs": [
      {
       "output_type": "stream",
       "stream": "stderr",
       "text": [
        "/usr/lib/python2.7/dist-packages/scipy/misc/pilutil.py:210: DeprecationWarning: fromstring() is deprecated. Please call frombytes() instead.\n",
        "  image = Image.fromstring('L',shape,bytedata.tostring())\n",
        "/usr/lib/python2.7/dist-packages/scipy/misc/pilutil.py:210: DeprecationWarning: fromstring() is deprecated. Please call frombytes() instead.\n",
        "  image = Image.fromstring('L',shape,bytedata.tostring())\n",
        "/usr/lib/python2.7/dist-packages/scipy/misc/pilutil.py:210: DeprecationWarning: fromstring() is deprecated. Please call frombytes() instead.\n",
        "  image = Image.fromstring('L',shape,bytedata.tostring())\n"
       ]
      },
      {
       "output_type": "stream",
       "stream": "stderr",
       "text": [
        "/usr/lib/python2.7/dist-packages/scipy/misc/pilutil.py:210: DeprecationWarning: fromstring() is deprecated. Please call frombytes() instead.\n",
        "  image = Image.fromstring('L',shape,bytedata.tostring())\n",
        "/usr/lib/python2.7/dist-packages/scipy/misc/pilutil.py:210: DeprecationWarning: fromstring() is deprecated. Please call frombytes() instead.\n",
        "  image = Image.fromstring('L',shape,bytedata.tostring())\n"
       ]
      },
      {
       "output_type": "stream",
       "stream": "stderr",
       "text": [
        "/usr/lib/python2.7/dist-packages/scipy/misc/pilutil.py:210: DeprecationWarning: fromstring() is deprecated. Please call frombytes() instead.\n",
        "  image = Image.fromstring('L',shape,bytedata.tostring())\n",
        "/usr/lib/python2.7/dist-packages/scipy/misc/pilutil.py:210: DeprecationWarning: fromstring() is deprecated. Please call frombytes() instead.\n",
        "  image = Image.fromstring('L',shape,bytedata.tostring())\n"
       ]
      },
      {
       "output_type": "stream",
       "stream": "stderr",
       "text": [
        "/usr/lib/python2.7/dist-packages/scipy/misc/pilutil.py:210: DeprecationWarning: fromstring() is deprecated. Please call frombytes() instead.\n",
        "  image = Image.fromstring('L',shape,bytedata.tostring())\n",
        "/usr/lib/python2.7/dist-packages/scipy/misc/pilutil.py:210: DeprecationWarning: fromstring() is deprecated. Please call frombytes() instead.\n",
        "  image = Image.fromstring('L',shape,bytedata.tostring())\n"
       ]
      },
      {
       "output_type": "stream",
       "stream": "stderr",
       "text": [
        "/usr/lib/python2.7/dist-packages/scipy/misc/pilutil.py:210: DeprecationWarning: fromstring() is deprecated. Please call frombytes() instead.\n",
        "  image = Image.fromstring('L',shape,bytedata.tostring())\n",
        "/usr/lib/python2.7/dist-packages/scipy/misc/pilutil.py:210: DeprecationWarning: fromstring() is deprecated. Please call frombytes() instead.\n",
        "  image = Image.fromstring('L',shape,bytedata.tostring())\n"
       ]
      },
      {
       "output_type": "stream",
       "stream": "stderr",
       "text": [
        "/usr/lib/python2.7/dist-packages/scipy/misc/pilutil.py:210: DeprecationWarning: fromstring() is deprecated. Please call frombytes() instead.\n",
        "  image = Image.fromstring('L',shape,bytedata.tostring())\n",
        "/usr/lib/python2.7/dist-packages/scipy/misc/pilutil.py:210: DeprecationWarning: fromstring() is deprecated. Please call frombytes() instead.\n",
        "  image = Image.fromstring('L',shape,bytedata.tostring())\n"
       ]
      },
      {
       "output_type": "stream",
       "stream": "stderr",
       "text": [
        "/usr/lib/python2.7/dist-packages/scipy/misc/pilutil.py:210: DeprecationWarning: fromstring() is deprecated. Please call frombytes() instead.\n",
        "  image = Image.fromstring('L',shape,bytedata.tostring())\n",
        "/usr/lib/python2.7/dist-packages/scipy/misc/pilutil.py:210: DeprecationWarning: fromstring() is deprecated. Please call frombytes() instead.\n",
        "  image = Image.fromstring('L',shape,bytedata.tostring())\n"
       ]
      },
      {
       "output_type": "stream",
       "stream": "stderr",
       "text": [
        "/usr/lib/python2.7/dist-packages/scipy/misc/pilutil.py:210: DeprecationWarning: fromstring() is deprecated. Please call frombytes() instead.\n",
        "  image = Image.fromstring('L',shape,bytedata.tostring())\n",
        "/usr/lib/python2.7/dist-packages/scipy/misc/pilutil.py:210: DeprecationWarning: fromstring() is deprecated. Please call frombytes() instead.\n",
        "  image = Image.fromstring('L',shape,bytedata.tostring())\n"
       ]
      },
      {
       "output_type": "stream",
       "stream": "stderr",
       "text": [
        "/usr/lib/python2.7/dist-packages/scipy/misc/pilutil.py:210: DeprecationWarning: fromstring() is deprecated. Please call frombytes() instead.\n",
        "  image = Image.fromstring('L',shape,bytedata.tostring())\n",
        "/usr/lib/python2.7/dist-packages/scipy/misc/pilutil.py:210: DeprecationWarning: fromstring() is deprecated. Please call frombytes() instead.\n",
        "  image = Image.fromstring('L',shape,bytedata.tostring())\n"
       ]
      },
      {
       "output_type": "stream",
       "stream": "stderr",
       "text": [
        "/usr/lib/python2.7/dist-packages/scipy/misc/pilutil.py:210: DeprecationWarning: fromstring() is deprecated. Please call frombytes() instead.\n",
        "  image = Image.fromstring('L',shape,bytedata.tostring())\n",
        "/usr/lib/python2.7/dist-packages/scipy/misc/pilutil.py:210: DeprecationWarning: fromstring() is deprecated. Please call frombytes() instead.\n",
        "  image = Image.fromstring('L',shape,bytedata.tostring())\n"
       ]
      },
      {
       "output_type": "stream",
       "stream": "stderr",
       "text": [
        "/usr/lib/python2.7/dist-packages/scipy/misc/pilutil.py:210: DeprecationWarning: fromstring() is deprecated. Please call frombytes() instead.\n",
        "  image = Image.fromstring('L',shape,bytedata.tostring())\n",
        "/usr/lib/python2.7/dist-packages/scipy/misc/pilutil.py:210: DeprecationWarning: fromstring() is deprecated. Please call frombytes() instead.\n",
        "  image = Image.fromstring('L',shape,bytedata.tostring())\n"
       ]
      },
      {
       "output_type": "stream",
       "stream": "stderr",
       "text": [
        "/usr/lib/python2.7/dist-packages/scipy/misc/pilutil.py:210: DeprecationWarning: fromstring() is deprecated. Please call frombytes() instead.\n",
        "  image = Image.fromstring('L',shape,bytedata.tostring())\n",
        "/usr/lib/python2.7/dist-packages/scipy/misc/pilutil.py:210: DeprecationWarning: fromstring() is deprecated. Please call frombytes() instead.\n",
        "  image = Image.fromstring('L',shape,bytedata.tostring())\n"
       ]
      },
      {
       "output_type": "stream",
       "stream": "stderr",
       "text": [
        "/usr/lib/python2.7/dist-packages/scipy/misc/pilutil.py:210: DeprecationWarning: fromstring() is deprecated. Please call frombytes() instead.\n",
        "  image = Image.fromstring('L',shape,bytedata.tostring())\n",
        "/usr/lib/python2.7/dist-packages/scipy/misc/pilutil.py:210: DeprecationWarning: fromstring() is deprecated. Please call frombytes() instead.\n",
        "  image = Image.fromstring('L',shape,bytedata.tostring())\n"
       ]
      },
      {
       "output_type": "stream",
       "stream": "stderr",
       "text": [
        "/usr/lib/python2.7/dist-packages/scipy/misc/pilutil.py:210: DeprecationWarning: fromstring() is deprecated. Please call frombytes() instead.\n",
        "  image = Image.fromstring('L',shape,bytedata.tostring())\n",
        "/usr/lib/python2.7/dist-packages/scipy/misc/pilutil.py:210: DeprecationWarning: fromstring() is deprecated. Please call frombytes() instead.\n",
        "  image = Image.fromstring('L',shape,bytedata.tostring())\n"
       ]
      },
      {
       "output_type": "stream",
       "stream": "stderr",
       "text": [
        "/usr/lib/python2.7/dist-packages/scipy/misc/pilutil.py:210: DeprecationWarning: fromstring() is deprecated. Please call frombytes() instead.\n",
        "  image = Image.fromstring('L',shape,bytedata.tostring())\n",
        "/usr/lib/python2.7/dist-packages/scipy/misc/pilutil.py:210: DeprecationWarning: fromstring() is deprecated. Please call frombytes() instead.\n",
        "  image = Image.fromstring('L',shape,bytedata.tostring())\n"
       ]
      },
      {
       "output_type": "stream",
       "stream": "stderr",
       "text": [
        "/usr/lib/python2.7/dist-packages/scipy/misc/pilutil.py:210: DeprecationWarning: fromstring() is deprecated. Please call frombytes() instead.\n",
        "  image = Image.fromstring('L',shape,bytedata.tostring())\n",
        "/usr/lib/python2.7/dist-packages/scipy/misc/pilutil.py:210: DeprecationWarning: fromstring() is deprecated. Please call frombytes() instead.\n",
        "  image = Image.fromstring('L',shape,bytedata.tostring())\n"
       ]
      },
      {
       "output_type": "stream",
       "stream": "stderr",
       "text": [
        "/usr/lib/python2.7/dist-packages/scipy/misc/pilutil.py:210: DeprecationWarning: fromstring() is deprecated. Please call frombytes() instead.\n",
        "  image = Image.fromstring('L',shape,bytedata.tostring())\n",
        "/usr/lib/python2.7/dist-packages/scipy/misc/pilutil.py:210: DeprecationWarning: fromstring() is deprecated. Please call frombytes() instead.\n",
        "  image = Image.fromstring('L',shape,bytedata.tostring())\n"
       ]
      },
      {
       "output_type": "stream",
       "stream": "stderr",
       "text": [
        "/usr/lib/python2.7/dist-packages/scipy/misc/pilutil.py:210: DeprecationWarning: fromstring() is deprecated. Please call frombytes() instead.\n",
        "  image = Image.fromstring('L',shape,bytedata.tostring())\n",
        "/usr/lib/python2.7/dist-packages/scipy/misc/pilutil.py:210: DeprecationWarning: fromstring() is deprecated. Please call frombytes() instead.\n",
        "  image = Image.fromstring('L',shape,bytedata.tostring())\n"
       ]
      },
      {
       "output_type": "stream",
       "stream": "stderr",
       "text": [
        "/usr/lib/python2.7/dist-packages/scipy/misc/pilutil.py:210: DeprecationWarning: fromstring() is deprecated. Please call frombytes() instead.\n",
        "  image = Image.fromstring('L',shape,bytedata.tostring())\n",
        "/usr/lib/python2.7/dist-packages/scipy/misc/pilutil.py:210: DeprecationWarning: fromstring() is deprecated. Please call frombytes() instead.\n",
        "  image = Image.fromstring('L',shape,bytedata.tostring())\n"
       ]
      },
      {
       "output_type": "stream",
       "stream": "stderr",
       "text": [
        "/usr/lib/python2.7/dist-packages/scipy/misc/pilutil.py:210: DeprecationWarning: fromstring() is deprecated. Please call frombytes() instead.\n",
        "  image = Image.fromstring('L',shape,bytedata.tostring())\n",
        "/usr/lib/python2.7/dist-packages/scipy/misc/pilutil.py:210: DeprecationWarning: fromstring() is deprecated. Please call frombytes() instead.\n",
        "  image = Image.fromstring('L',shape,bytedata.tostring())\n"
       ]
      },
      {
       "output_type": "stream",
       "stream": "stderr",
       "text": [
        "/usr/lib/python2.7/dist-packages/scipy/misc/pilutil.py:210: DeprecationWarning: fromstring() is deprecated. Please call frombytes() instead.\n",
        "  image = Image.fromstring('L',shape,bytedata.tostring())\n",
        "/usr/lib/python2.7/dist-packages/scipy/misc/pilutil.py:210: DeprecationWarning: fromstring() is deprecated. Please call frombytes() instead.\n",
        "  image = Image.fromstring('L',shape,bytedata.tostring())\n"
       ]
      },
      {
       "output_type": "stream",
       "stream": "stderr",
       "text": [
        "/usr/lib/python2.7/dist-packages/scipy/misc/pilutil.py:210: DeprecationWarning: fromstring() is deprecated. Please call frombytes() instead.\n",
        "  image = Image.fromstring('L',shape,bytedata.tostring())\n",
        "/usr/lib/python2.7/dist-packages/scipy/misc/pilutil.py:210: DeprecationWarning: fromstring() is deprecated. Please call frombytes() instead.\n",
        "  image = Image.fromstring('L',shape,bytedata.tostring())\n"
       ]
      },
      {
       "output_type": "stream",
       "stream": "stderr",
       "text": [
        "/usr/lib/python2.7/dist-packages/scipy/misc/pilutil.py:210: DeprecationWarning: fromstring() is deprecated. Please call frombytes() instead.\n",
        "  image = Image.fromstring('L',shape,bytedata.tostring())\n",
        "/usr/lib/python2.7/dist-packages/scipy/misc/pilutil.py:210: DeprecationWarning: fromstring() is deprecated. Please call frombytes() instead.\n",
        "  image = Image.fromstring('L',shape,bytedata.tostring())\n"
       ]
      },
      {
       "output_type": "stream",
       "stream": "stderr",
       "text": [
        "/usr/lib/python2.7/dist-packages/scipy/misc/pilutil.py:210: DeprecationWarning: fromstring() is deprecated. Please call frombytes() instead.\n",
        "  image = Image.fromstring('L',shape,bytedata.tostring())\n",
        "/usr/lib/python2.7/dist-packages/scipy/misc/pilutil.py:210: DeprecationWarning: fromstring() is deprecated. Please call frombytes() instead.\n",
        "  image = Image.fromstring('L',shape,bytedata.tostring())\n"
       ]
      },
      {
       "output_type": "stream",
       "stream": "stderr",
       "text": [
        "/usr/lib/python2.7/dist-packages/scipy/misc/pilutil.py:210: DeprecationWarning: fromstring() is deprecated. Please call frombytes() instead.\n",
        "  image = Image.fromstring('L',shape,bytedata.tostring())\n",
        "/usr/lib/python2.7/dist-packages/scipy/misc/pilutil.py:210: DeprecationWarning: fromstring() is deprecated. Please call frombytes() instead.\n",
        "  image = Image.fromstring('L',shape,bytedata.tostring())\n"
       ]
      },
      {
       "output_type": "stream",
       "stream": "stderr",
       "text": [
        "/usr/lib/python2.7/dist-packages/scipy/misc/pilutil.py:210: DeprecationWarning: fromstring() is deprecated. Please call frombytes() instead.\n",
        "  image = Image.fromstring('L',shape,bytedata.tostring())\n",
        "/usr/lib/python2.7/dist-packages/scipy/misc/pilutil.py:210: DeprecationWarning: fromstring() is deprecated. Please call frombytes() instead.\n",
        "  image = Image.fromstring('L',shape,bytedata.tostring())\n"
       ]
      },
      {
       "output_type": "stream",
       "stream": "stderr",
       "text": [
        "/usr/lib/python2.7/dist-packages/scipy/misc/pilutil.py:210: DeprecationWarning: fromstring() is deprecated. Please call frombytes() instead.\n",
        "  image = Image.fromstring('L',shape,bytedata.tostring())\n",
        "/usr/lib/python2.7/dist-packages/scipy/misc/pilutil.py:210: DeprecationWarning: fromstring() is deprecated. Please call frombytes() instead.\n",
        "  image = Image.fromstring('L',shape,bytedata.tostring())\n"
       ]
      },
      {
       "output_type": "stream",
       "stream": "stderr",
       "text": [
        "/usr/lib/python2.7/dist-packages/scipy/misc/pilutil.py:210: DeprecationWarning: fromstring() is deprecated. Please call frombytes() instead.\n",
        "  image = Image.fromstring('L',shape,bytedata.tostring())\n",
        "/usr/lib/python2.7/dist-packages/scipy/misc/pilutil.py:210: DeprecationWarning: fromstring() is deprecated. Please call frombytes() instead.\n",
        "  image = Image.fromstring('L',shape,bytedata.tostring())\n"
       ]
      },
      {
       "output_type": "stream",
       "stream": "stderr",
       "text": [
        "/usr/lib/python2.7/dist-packages/scipy/misc/pilutil.py:210: DeprecationWarning: fromstring() is deprecated. Please call frombytes() instead.\n",
        "  image = Image.fromstring('L',shape,bytedata.tostring())\n",
        "/usr/lib/python2.7/dist-packages/scipy/misc/pilutil.py:210: DeprecationWarning: fromstring() is deprecated. Please call frombytes() instead.\n",
        "  image = Image.fromstring('L',shape,bytedata.tostring())\n"
       ]
      },
      {
       "output_type": "stream",
       "stream": "stderr",
       "text": [
        "/usr/lib/python2.7/dist-packages/scipy/misc/pilutil.py:210: DeprecationWarning: fromstring() is deprecated. Please call frombytes() instead.\n",
        "  image = Image.fromstring('L',shape,bytedata.tostring())\n",
        "/usr/lib/python2.7/dist-packages/scipy/misc/pilutil.py:210: DeprecationWarning: fromstring() is deprecated. Please call frombytes() instead.\n",
        "  image = Image.fromstring('L',shape,bytedata.tostring())\n"
       ]
      },
      {
       "output_type": "stream",
       "stream": "stderr",
       "text": [
        "/usr/lib/python2.7/dist-packages/scipy/misc/pilutil.py:210: DeprecationWarning: fromstring() is deprecated. Please call frombytes() instead.\n",
        "  image = Image.fromstring('L',shape,bytedata.tostring())\n",
        "/usr/lib/python2.7/dist-packages/scipy/misc/pilutil.py:210: DeprecationWarning: fromstring() is deprecated. Please call frombytes() instead.\n",
        "  image = Image.fromstring('L',shape,bytedata.tostring())\n"
       ]
      },
      {
       "output_type": "stream",
       "stream": "stderr",
       "text": [
        "/usr/lib/python2.7/dist-packages/scipy/misc/pilutil.py:210: DeprecationWarning: fromstring() is deprecated. Please call frombytes() instead.\n",
        "  image = Image.fromstring('L',shape,bytedata.tostring())\n",
        "/usr/lib/python2.7/dist-packages/scipy/misc/pilutil.py:210: DeprecationWarning: fromstring() is deprecated. Please call frombytes() instead.\n",
        "  image = Image.fromstring('L',shape,bytedata.tostring())\n"
       ]
      },
      {
       "output_type": "stream",
       "stream": "stderr",
       "text": [
        "/usr/lib/python2.7/dist-packages/scipy/misc/pilutil.py:210: DeprecationWarning: fromstring() is deprecated. Please call frombytes() instead.\n",
        "  image = Image.fromstring('L',shape,bytedata.tostring())\n",
        "/usr/lib/python2.7/dist-packages/scipy/misc/pilutil.py:210: DeprecationWarning: fromstring() is deprecated. Please call frombytes() instead.\n",
        "  image = Image.fromstring('L',shape,bytedata.tostring())\n"
       ]
      },
      {
       "output_type": "stream",
       "stream": "stderr",
       "text": [
        "/usr/lib/python2.7/dist-packages/scipy/misc/pilutil.py:210: DeprecationWarning: fromstring() is deprecated. Please call frombytes() instead.\n",
        "  image = Image.fromstring('L',shape,bytedata.tostring())\n",
        "/usr/lib/python2.7/dist-packages/scipy/misc/pilutil.py:210: DeprecationWarning: fromstring() is deprecated. Please call frombytes() instead.\n",
        "  image = Image.fromstring('L',shape,bytedata.tostring())\n"
       ]
      },
      {
       "output_type": "stream",
       "stream": "stderr",
       "text": [
        "/usr/lib/python2.7/dist-packages/scipy/misc/pilutil.py:210: DeprecationWarning: fromstring() is deprecated. Please call frombytes() instead.\n",
        "  image = Image.fromstring('L',shape,bytedata.tostring())\n",
        "/usr/lib/python2.7/dist-packages/scipy/misc/pilutil.py:210: DeprecationWarning: fromstring() is deprecated. Please call frombytes() instead.\n",
        "  image = Image.fromstring('L',shape,bytedata.tostring())\n"
       ]
      },
      {
       "output_type": "stream",
       "stream": "stderr",
       "text": [
        "/usr/lib/python2.7/dist-packages/scipy/misc/pilutil.py:210: DeprecationWarning: fromstring() is deprecated. Please call frombytes() instead.\n",
        "  image = Image.fromstring('L',shape,bytedata.tostring())\n",
        "/usr/lib/python2.7/dist-packages/scipy/misc/pilutil.py:210: DeprecationWarning: fromstring() is deprecated. Please call frombytes() instead.\n",
        "  image = Image.fromstring('L',shape,bytedata.tostring())\n"
       ]
      },
      {
       "output_type": "stream",
       "stream": "stderr",
       "text": [
        "/usr/lib/python2.7/dist-packages/scipy/misc/pilutil.py:210: DeprecationWarning: fromstring() is deprecated. Please call frombytes() instead.\n",
        "  image = Image.fromstring('L',shape,bytedata.tostring())\n",
        "/usr/lib/python2.7/dist-packages/scipy/misc/pilutil.py:210: DeprecationWarning: fromstring() is deprecated. Please call frombytes() instead.\n",
        "  image = Image.fromstring('L',shape,bytedata.tostring())\n"
       ]
      },
      {
       "output_type": "stream",
       "stream": "stderr",
       "text": [
        "/usr/lib/python2.7/dist-packages/scipy/misc/pilutil.py:210: DeprecationWarning: fromstring() is deprecated. Please call frombytes() instead.\n",
        "  image = Image.fromstring('L',shape,bytedata.tostring())\n",
        "/usr/lib/python2.7/dist-packages/scipy/misc/pilutil.py:210: DeprecationWarning: fromstring() is deprecated. Please call frombytes() instead.\n",
        "  image = Image.fromstring('L',shape,bytedata.tostring())\n"
       ]
      },
      {
       "output_type": "stream",
       "stream": "stderr",
       "text": [
        "/usr/lib/python2.7/dist-packages/scipy/misc/pilutil.py:210: DeprecationWarning: fromstring() is deprecated. Please call frombytes() instead.\n",
        "  image = Image.fromstring('L',shape,bytedata.tostring())\n",
        "/usr/lib/python2.7/dist-packages/scipy/misc/pilutil.py:210: DeprecationWarning: fromstring() is deprecated. Please call frombytes() instead.\n",
        "  image = Image.fromstring('L',shape,bytedata.tostring())\n"
       ]
      },
      {
       "output_type": "stream",
       "stream": "stderr",
       "text": [
        "/usr/lib/python2.7/dist-packages/scipy/misc/pilutil.py:210: DeprecationWarning: fromstring() is deprecated. Please call frombytes() instead.\n",
        "  image = Image.fromstring('L',shape,bytedata.tostring())\n",
        "/usr/lib/python2.7/dist-packages/scipy/misc/pilutil.py:210: DeprecationWarning: fromstring() is deprecated. Please call frombytes() instead.\n",
        "  image = Image.fromstring('L',shape,bytedata.tostring())\n"
       ]
      },
      {
       "output_type": "stream",
       "stream": "stderr",
       "text": [
        "/usr/lib/python2.7/dist-packages/scipy/misc/pilutil.py:210: DeprecationWarning: fromstring() is deprecated. Please call frombytes() instead.\n",
        "  image = Image.fromstring('L',shape,bytedata.tostring())\n",
        "/usr/lib/python2.7/dist-packages/scipy/misc/pilutil.py:210: DeprecationWarning: fromstring() is deprecated. Please call frombytes() instead.\n",
        "  image = Image.fromstring('L',shape,bytedata.tostring())\n"
       ]
      },
      {
       "output_type": "stream",
       "stream": "stderr",
       "text": [
        "/usr/lib/python2.7/dist-packages/scipy/misc/pilutil.py:210: DeprecationWarning: fromstring() is deprecated. Please call frombytes() instead.\n",
        "  image = Image.fromstring('L',shape,bytedata.tostring())\n",
        "/usr/lib/python2.7/dist-packages/scipy/misc/pilutil.py:210: DeprecationWarning: fromstring() is deprecated. Please call frombytes() instead.\n",
        "  image = Image.fromstring('L',shape,bytedata.tostring())\n"
       ]
      },
      {
       "output_type": "stream",
       "stream": "stderr",
       "text": [
        "/usr/lib/python2.7/dist-packages/scipy/misc/pilutil.py:210: DeprecationWarning: fromstring() is deprecated. Please call frombytes() instead.\n",
        "  image = Image.fromstring('L',shape,bytedata.tostring())\n",
        "/usr/lib/python2.7/dist-packages/scipy/misc/pilutil.py:210: DeprecationWarning: fromstring() is deprecated. Please call frombytes() instead.\n",
        "  image = Image.fromstring('L',shape,bytedata.tostring())\n"
       ]
      },
      {
       "output_type": "stream",
       "stream": "stderr",
       "text": [
        "/usr/lib/python2.7/dist-packages/scipy/misc/pilutil.py:210: DeprecationWarning: fromstring() is deprecated. Please call frombytes() instead.\n",
        "  image = Image.fromstring('L',shape,bytedata.tostring())\n",
        "/usr/lib/python2.7/dist-packages/scipy/misc/pilutil.py:210: DeprecationWarning: fromstring() is deprecated. Please call frombytes() instead.\n",
        "  image = Image.fromstring('L',shape,bytedata.tostring())\n"
       ]
      },
      {
       "output_type": "stream",
       "stream": "stderr",
       "text": [
        "/usr/lib/python2.7/dist-packages/scipy/misc/pilutil.py:210: DeprecationWarning: fromstring() is deprecated. Please call frombytes() instead.\n",
        "  image = Image.fromstring('L',shape,bytedata.tostring())\n",
        "/usr/lib/python2.7/dist-packages/scipy/misc/pilutil.py:210: DeprecationWarning: fromstring() is deprecated. Please call frombytes() instead.\n",
        "  image = Image.fromstring('L',shape,bytedata.tostring())\n"
       ]
      },
      {
       "output_type": "stream",
       "stream": "stderr",
       "text": [
        "/usr/lib/python2.7/dist-packages/scipy/misc/pilutil.py:210: DeprecationWarning: fromstring() is deprecated. Please call frombytes() instead.\n",
        "  image = Image.fromstring('L',shape,bytedata.tostring())\n",
        "/usr/lib/python2.7/dist-packages/scipy/misc/pilutil.py:210: DeprecationWarning: fromstring() is deprecated. Please call frombytes() instead.\n",
        "  image = Image.fromstring('L',shape,bytedata.tostring())\n"
       ]
      },
      {
       "output_type": "stream",
       "stream": "stderr",
       "text": [
        "/usr/lib/python2.7/dist-packages/scipy/misc/pilutil.py:210: DeprecationWarning: fromstring() is deprecated. Please call frombytes() instead.\n",
        "  image = Image.fromstring('L',shape,bytedata.tostring())\n",
        "/usr/lib/python2.7/dist-packages/scipy/misc/pilutil.py:210: DeprecationWarning: fromstring() is deprecated. Please call frombytes() instead.\n",
        "  image = Image.fromstring('L',shape,bytedata.tostring())\n"
       ]
      },
      {
       "output_type": "stream",
       "stream": "stderr",
       "text": [
        "/usr/lib/python2.7/dist-packages/scipy/misc/pilutil.py:210: DeprecationWarning: fromstring() is deprecated. Please call frombytes() instead.\n",
        "  image = Image.fromstring('L',shape,bytedata.tostring())\n",
        "/usr/lib/python2.7/dist-packages/scipy/misc/pilutil.py:210: DeprecationWarning: fromstring() is deprecated. Please call frombytes() instead.\n",
        "  image = Image.fromstring('L',shape,bytedata.tostring())\n"
       ]
      },
      {
       "output_type": "stream",
       "stream": "stderr",
       "text": [
        "/usr/lib/python2.7/dist-packages/scipy/misc/pilutil.py:210: DeprecationWarning: fromstring() is deprecated. Please call frombytes() instead.\n",
        "  image = Image.fromstring('L',shape,bytedata.tostring())\n",
        "/usr/lib/python2.7/dist-packages/scipy/misc/pilutil.py:210: DeprecationWarning: fromstring() is deprecated. Please call frombytes() instead.\n",
        "  image = Image.fromstring('L',shape,bytedata.tostring())\n"
       ]
      },
      {
       "output_type": "stream",
       "stream": "stderr",
       "text": [
        "/usr/lib/python2.7/dist-packages/scipy/misc/pilutil.py:210: DeprecationWarning: fromstring() is deprecated. Please call frombytes() instead.\n",
        "  image = Image.fromstring('L',shape,bytedata.tostring())\n",
        "/usr/lib/python2.7/dist-packages/scipy/misc/pilutil.py:210: DeprecationWarning: fromstring() is deprecated. Please call frombytes() instead.\n",
        "  image = Image.fromstring('L',shape,bytedata.tostring())\n"
       ]
      },
      {
       "output_type": "stream",
       "stream": "stderr",
       "text": [
        "/usr/lib/python2.7/dist-packages/scipy/misc/pilutil.py:210: DeprecationWarning: fromstring() is deprecated. Please call frombytes() instead.\n",
        "  image = Image.fromstring('L',shape,bytedata.tostring())\n",
        "/usr/lib/python2.7/dist-packages/scipy/misc/pilutil.py:210: DeprecationWarning: fromstring() is deprecated. Please call frombytes() instead.\n",
        "  image = Image.fromstring('L',shape,bytedata.tostring())\n"
       ]
      },
      {
       "output_type": "stream",
       "stream": "stderr",
       "text": [
        "/usr/lib/python2.7/dist-packages/scipy/misc/pilutil.py:210: DeprecationWarning: fromstring() is deprecated. Please call frombytes() instead.\n",
        "  image = Image.fromstring('L',shape,bytedata.tostring())\n",
        "/usr/lib/python2.7/dist-packages/scipy/misc/pilutil.py:210: DeprecationWarning: fromstring() is deprecated. Please call frombytes() instead.\n",
        "  image = Image.fromstring('L',shape,bytedata.tostring())\n"
       ]
      },
      {
       "output_type": "stream",
       "stream": "stderr",
       "text": [
        "/usr/lib/python2.7/dist-packages/scipy/misc/pilutil.py:210: DeprecationWarning: fromstring() is deprecated. Please call frombytes() instead.\n",
        "  image = Image.fromstring('L',shape,bytedata.tostring())\n",
        "/usr/lib/python2.7/dist-packages/scipy/misc/pilutil.py:210: DeprecationWarning: fromstring() is deprecated. Please call frombytes() instead.\n",
        "  image = Image.fromstring('L',shape,bytedata.tostring())\n"
       ]
      },
      {
       "output_type": "stream",
       "stream": "stderr",
       "text": [
        "/usr/lib/python2.7/dist-packages/scipy/misc/pilutil.py:210: DeprecationWarning: fromstring() is deprecated. Please call frombytes() instead.\n",
        "  image = Image.fromstring('L',shape,bytedata.tostring())\n",
        "/usr/lib/python2.7/dist-packages/scipy/misc/pilutil.py:210: DeprecationWarning: fromstring() is deprecated. Please call frombytes() instead.\n",
        "  image = Image.fromstring('L',shape,bytedata.tostring())\n"
       ]
      },
      {
       "output_type": "stream",
       "stream": "stderr",
       "text": [
        "/usr/lib/python2.7/dist-packages/scipy/misc/pilutil.py:210: DeprecationWarning: fromstring() is deprecated. Please call frombytes() instead.\n",
        "  image = Image.fromstring('L',shape,bytedata.tostring())\n",
        "/usr/lib/python2.7/dist-packages/scipy/misc/pilutil.py:210: DeprecationWarning: fromstring() is deprecated. Please call frombytes() instead.\n",
        "  image = Image.fromstring('L',shape,bytedata.tostring())\n"
       ]
      },
      {
       "output_type": "stream",
       "stream": "stderr",
       "text": [
        "/usr/lib/python2.7/dist-packages/scipy/misc/pilutil.py:210: DeprecationWarning: fromstring() is deprecated. Please call frombytes() instead.\n",
        "  image = Image.fromstring('L',shape,bytedata.tostring())\n",
        "/usr/lib/python2.7/dist-packages/scipy/misc/pilutil.py:210: DeprecationWarning: fromstring() is deprecated. Please call frombytes() instead.\n",
        "  image = Image.fromstring('L',shape,bytedata.tostring())\n"
       ]
      },
      {
       "output_type": "stream",
       "stream": "stderr",
       "text": [
        "/usr/lib/python2.7/dist-packages/scipy/misc/pilutil.py:210: DeprecationWarning: fromstring() is deprecated. Please call frombytes() instead.\n",
        "  image = Image.fromstring('L',shape,bytedata.tostring())\n",
        "/usr/lib/python2.7/dist-packages/scipy/misc/pilutil.py:210: DeprecationWarning: fromstring() is deprecated. Please call frombytes() instead.\n",
        "  image = Image.fromstring('L',shape,bytedata.tostring())\n"
       ]
      },
      {
       "output_type": "stream",
       "stream": "stderr",
       "text": [
        "/usr/lib/python2.7/dist-packages/scipy/misc/pilutil.py:210: DeprecationWarning: fromstring() is deprecated. Please call frombytes() instead.\n",
        "  image = Image.fromstring('L',shape,bytedata.tostring())\n",
        "/usr/lib/python2.7/dist-packages/scipy/misc/pilutil.py:210: DeprecationWarning: fromstring() is deprecated. Please call frombytes() instead.\n",
        "  image = Image.fromstring('L',shape,bytedata.tostring())\n"
       ]
      },
      {
       "output_type": "stream",
       "stream": "stderr",
       "text": [
        "/usr/lib/python2.7/dist-packages/scipy/misc/pilutil.py:210: DeprecationWarning: fromstring() is deprecated. Please call frombytes() instead.\n",
        "  image = Image.fromstring('L',shape,bytedata.tostring())\n",
        "/usr/lib/python2.7/dist-packages/scipy/misc/pilutil.py:210: DeprecationWarning: fromstring() is deprecated. Please call frombytes() instead.\n",
        "  image = Image.fromstring('L',shape,bytedata.tostring())\n"
       ]
      },
      {
       "output_type": "stream",
       "stream": "stderr",
       "text": [
        "/usr/lib/python2.7/dist-packages/scipy/misc/pilutil.py:210: DeprecationWarning: fromstring() is deprecated. Please call frombytes() instead.\n",
        "  image = Image.fromstring('L',shape,bytedata.tostring())\n",
        "/usr/lib/python2.7/dist-packages/scipy/misc/pilutil.py:210: DeprecationWarning: fromstring() is deprecated. Please call frombytes() instead.\n",
        "  image = Image.fromstring('L',shape,bytedata.tostring())\n"
       ]
      },
      {
       "output_type": "stream",
       "stream": "stderr",
       "text": [
        "/usr/lib/python2.7/dist-packages/scipy/misc/pilutil.py:210: DeprecationWarning: fromstring() is deprecated. Please call frombytes() instead.\n",
        "  image = Image.fromstring('L',shape,bytedata.tostring())\n",
        "/usr/lib/python2.7/dist-packages/scipy/misc/pilutil.py:210: DeprecationWarning: fromstring() is deprecated. Please call frombytes() instead.\n",
        "  image = Image.fromstring('L',shape,bytedata.tostring())\n"
       ]
      },
      {
       "output_type": "stream",
       "stream": "stderr",
       "text": [
        "/usr/lib/python2.7/dist-packages/scipy/misc/pilutil.py:210: DeprecationWarning: fromstring() is deprecated. Please call frombytes() instead.\n",
        "  image = Image.fromstring('L',shape,bytedata.tostring())\n",
        "/usr/lib/python2.7/dist-packages/scipy/misc/pilutil.py:210: DeprecationWarning: fromstring() is deprecated. Please call frombytes() instead.\n",
        "  image = Image.fromstring('L',shape,bytedata.tostring())\n"
       ]
      },
      {
       "output_type": "stream",
       "stream": "stderr",
       "text": [
        "/usr/lib/python2.7/dist-packages/scipy/misc/pilutil.py:210: DeprecationWarning: fromstring() is deprecated. Please call frombytes() instead.\n",
        "  image = Image.fromstring('L',shape,bytedata.tostring())\n",
        "/usr/lib/python2.7/dist-packages/scipy/misc/pilutil.py:210: DeprecationWarning: fromstring() is deprecated. Please call frombytes() instead.\n",
        "  image = Image.fromstring('L',shape,bytedata.tostring())\n"
       ]
      },
      {
       "output_type": "stream",
       "stream": "stderr",
       "text": [
        "/usr/lib/python2.7/dist-packages/scipy/misc/pilutil.py:210: DeprecationWarning: fromstring() is deprecated. Please call frombytes() instead.\n",
        "  image = Image.fromstring('L',shape,bytedata.tostring())\n",
        "/usr/lib/python2.7/dist-packages/scipy/misc/pilutil.py:210: DeprecationWarning: fromstring() is deprecated. Please call frombytes() instead.\n",
        "  image = Image.fromstring('L',shape,bytedata.tostring())\n"
       ]
      },
      {
       "output_type": "stream",
       "stream": "stderr",
       "text": [
        "/usr/lib/python2.7/dist-packages/scipy/misc/pilutil.py:210: DeprecationWarning: fromstring() is deprecated. Please call frombytes() instead.\n",
        "  image = Image.fromstring('L',shape,bytedata.tostring())\n",
        "/usr/lib/python2.7/dist-packages/scipy/misc/pilutil.py:210: DeprecationWarning: fromstring() is deprecated. Please call frombytes() instead.\n",
        "  image = Image.fromstring('L',shape,bytedata.tostring())\n"
       ]
      },
      {
       "output_type": "stream",
       "stream": "stderr",
       "text": [
        "/usr/lib/python2.7/dist-packages/scipy/misc/pilutil.py:210: DeprecationWarning: fromstring() is deprecated. Please call frombytes() instead.\n",
        "  image = Image.fromstring('L',shape,bytedata.tostring())\n",
        "/usr/lib/python2.7/dist-packages/scipy/misc/pilutil.py:210: DeprecationWarning: fromstring() is deprecated. Please call frombytes() instead.\n",
        "  image = Image.fromstring('L',shape,bytedata.tostring())\n"
       ]
      },
      {
       "output_type": "stream",
       "stream": "stderr",
       "text": [
        "/usr/lib/python2.7/dist-packages/scipy/misc/pilutil.py:210: DeprecationWarning: fromstring() is deprecated. Please call frombytes() instead.\n",
        "  image = Image.fromstring('L',shape,bytedata.tostring())\n",
        "/usr/lib/python2.7/dist-packages/scipy/misc/pilutil.py:210: DeprecationWarning: fromstring() is deprecated. Please call frombytes() instead.\n",
        "  image = Image.fromstring('L',shape,bytedata.tostring())\n"
       ]
      },
      {
       "output_type": "stream",
       "stream": "stderr",
       "text": [
        "/usr/lib/python2.7/dist-packages/scipy/misc/pilutil.py:210: DeprecationWarning: fromstring() is deprecated. Please call frombytes() instead.\n",
        "  image = Image.fromstring('L',shape,bytedata.tostring())\n",
        "/usr/lib/python2.7/dist-packages/scipy/misc/pilutil.py:210: DeprecationWarning: fromstring() is deprecated. Please call frombytes() instead.\n",
        "  image = Image.fromstring('L',shape,bytedata.tostring())\n"
       ]
      },
      {
       "output_type": "stream",
       "stream": "stderr",
       "text": [
        "/usr/lib/python2.7/dist-packages/scipy/misc/pilutil.py:210: DeprecationWarning: fromstring() is deprecated. Please call frombytes() instead.\n",
        "  image = Image.fromstring('L',shape,bytedata.tostring())\n",
        "/usr/lib/python2.7/dist-packages/scipy/misc/pilutil.py:210: DeprecationWarning: fromstring() is deprecated. Please call frombytes() instead.\n",
        "  image = Image.fromstring('L',shape,bytedata.tostring())\n"
       ]
      },
      {
       "output_type": "stream",
       "stream": "stderr",
       "text": [
        "/usr/lib/python2.7/dist-packages/scipy/misc/pilutil.py:210: DeprecationWarning: fromstring() is deprecated. Please call frombytes() instead.\n",
        "  image = Image.fromstring('L',shape,bytedata.tostring())\n",
        "/usr/lib/python2.7/dist-packages/scipy/misc/pilutil.py:210: DeprecationWarning: fromstring() is deprecated. Please call frombytes() instead.\n",
        "  image = Image.fromstring('L',shape,bytedata.tostring())\n"
       ]
      },
      {
       "output_type": "stream",
       "stream": "stderr",
       "text": [
        "/usr/lib/python2.7/dist-packages/scipy/misc/pilutil.py:210: DeprecationWarning: fromstring() is deprecated. Please call frombytes() instead.\n",
        "  image = Image.fromstring('L',shape,bytedata.tostring())\n",
        "/usr/lib/python2.7/dist-packages/scipy/misc/pilutil.py:210: DeprecationWarning: fromstring() is deprecated. Please call frombytes() instead.\n",
        "  image = Image.fromstring('L',shape,bytedata.tostring())\n"
       ]
      },
      {
       "output_type": "stream",
       "stream": "stderr",
       "text": [
        "/usr/lib/python2.7/dist-packages/scipy/misc/pilutil.py:210: DeprecationWarning: fromstring() is deprecated. Please call frombytes() instead.\n",
        "  image = Image.fromstring('L',shape,bytedata.tostring())\n",
        "/usr/lib/python2.7/dist-packages/scipy/misc/pilutil.py:210: DeprecationWarning: fromstring() is deprecated. Please call frombytes() instead.\n",
        "  image = Image.fromstring('L',shape,bytedata.tostring())\n"
       ]
      },
      {
       "output_type": "stream",
       "stream": "stderr",
       "text": [
        "/usr/lib/python2.7/dist-packages/scipy/misc/pilutil.py:210: DeprecationWarning: fromstring() is deprecated. Please call frombytes() instead.\n",
        "  image = Image.fromstring('L',shape,bytedata.tostring())\n",
        "/usr/lib/python2.7/dist-packages/scipy/misc/pilutil.py:210: DeprecationWarning: fromstring() is deprecated. Please call frombytes() instead.\n",
        "  image = Image.fromstring('L',shape,bytedata.tostring())\n"
       ]
      },
      {
       "output_type": "stream",
       "stream": "stderr",
       "text": [
        "/usr/lib/python2.7/dist-packages/scipy/misc/pilutil.py:210: DeprecationWarning: fromstring() is deprecated. Please call frombytes() instead.\n",
        "  image = Image.fromstring('L',shape,bytedata.tostring())\n",
        "/usr/lib/python2.7/dist-packages/scipy/misc/pilutil.py:210: DeprecationWarning: fromstring() is deprecated. Please call frombytes() instead.\n",
        "  image = Image.fromstring('L',shape,bytedata.tostring())\n"
       ]
      },
      {
       "output_type": "stream",
       "stream": "stderr",
       "text": [
        "/usr/lib/python2.7/dist-packages/scipy/misc/pilutil.py:210: DeprecationWarning: fromstring() is deprecated. Please call frombytes() instead.\n",
        "  image = Image.fromstring('L',shape,bytedata.tostring())\n",
        "/usr/lib/python2.7/dist-packages/scipy/misc/pilutil.py:210: DeprecationWarning: fromstring() is deprecated. Please call frombytes() instead.\n",
        "  image = Image.fromstring('L',shape,bytedata.tostring())\n"
       ]
      },
      {
       "output_type": "stream",
       "stream": "stderr",
       "text": [
        "/usr/lib/python2.7/dist-packages/scipy/misc/pilutil.py:210: DeprecationWarning: fromstring() is deprecated. Please call frombytes() instead.\n",
        "  image = Image.fromstring('L',shape,bytedata.tostring())\n",
        "/usr/lib/python2.7/dist-packages/scipy/misc/pilutil.py:210: DeprecationWarning: fromstring() is deprecated. Please call frombytes() instead.\n",
        "  image = Image.fromstring('L',shape,bytedata.tostring())\n"
       ]
      },
      {
       "output_type": "stream",
       "stream": "stderr",
       "text": [
        "/usr/lib/python2.7/dist-packages/scipy/misc/pilutil.py:210: DeprecationWarning: fromstring() is deprecated. Please call frombytes() instead.\n",
        "  image = Image.fromstring('L',shape,bytedata.tostring())\n",
        "/usr/lib/python2.7/dist-packages/scipy/misc/pilutil.py:210: DeprecationWarning: fromstring() is deprecated. Please call frombytes() instead.\n",
        "  image = Image.fromstring('L',shape,bytedata.tostring())\n"
       ]
      },
      {
       "output_type": "stream",
       "stream": "stderr",
       "text": [
        "/usr/lib/python2.7/dist-packages/scipy/misc/pilutil.py:210: DeprecationWarning: fromstring() is deprecated. Please call frombytes() instead.\n",
        "  image = Image.fromstring('L',shape,bytedata.tostring())\n",
        "/usr/lib/python2.7/dist-packages/scipy/misc/pilutil.py:210: DeprecationWarning: fromstring() is deprecated. Please call frombytes() instead.\n",
        "  image = Image.fromstring('L',shape,bytedata.tostring())\n"
       ]
      },
      {
       "output_type": "stream",
       "stream": "stderr",
       "text": [
        "/usr/lib/python2.7/dist-packages/scipy/misc/pilutil.py:210: DeprecationWarning: fromstring() is deprecated. Please call frombytes() instead.\n",
        "  image = Image.fromstring('L',shape,bytedata.tostring())\n",
        "/usr/lib/python2.7/dist-packages/scipy/misc/pilutil.py:210: DeprecationWarning: fromstring() is deprecated. Please call frombytes() instead.\n",
        "  image = Image.fromstring('L',shape,bytedata.tostring())\n"
       ]
      },
      {
       "output_type": "stream",
       "stream": "stderr",
       "text": [
        "/usr/lib/python2.7/dist-packages/scipy/misc/pilutil.py:210: DeprecationWarning: fromstring() is deprecated. Please call frombytes() instead.\n",
        "  image = Image.fromstring('L',shape,bytedata.tostring())\n",
        "/usr/lib/python2.7/dist-packages/scipy/misc/pilutil.py:210: DeprecationWarning: fromstring() is deprecated. Please call frombytes() instead.\n",
        "  image = Image.fromstring('L',shape,bytedata.tostring())\n"
       ]
      },
      {
       "output_type": "stream",
       "stream": "stderr",
       "text": [
        "/usr/lib/python2.7/dist-packages/scipy/misc/pilutil.py:210: DeprecationWarning: fromstring() is deprecated. Please call frombytes() instead.\n",
        "  image = Image.fromstring('L',shape,bytedata.tostring())\n",
        "/usr/lib/python2.7/dist-packages/scipy/misc/pilutil.py:210: DeprecationWarning: fromstring() is deprecated. Please call frombytes() instead.\n",
        "  image = Image.fromstring('L',shape,bytedata.tostring())\n"
       ]
      },
      {
       "output_type": "stream",
       "stream": "stderr",
       "text": [
        "/usr/lib/python2.7/dist-packages/scipy/misc/pilutil.py:210: DeprecationWarning: fromstring() is deprecated. Please call frombytes() instead.\n",
        "  image = Image.fromstring('L',shape,bytedata.tostring())\n",
        "/usr/lib/python2.7/dist-packages/scipy/misc/pilutil.py:210: DeprecationWarning: fromstring() is deprecated. Please call frombytes() instead.\n",
        "  image = Image.fromstring('L',shape,bytedata.tostring())\n"
       ]
      },
      {
       "output_type": "stream",
       "stream": "stderr",
       "text": [
        "/usr/lib/python2.7/dist-packages/scipy/misc/pilutil.py:210: DeprecationWarning: fromstring() is deprecated. Please call frombytes() instead.\n",
        "  image = Image.fromstring('L',shape,bytedata.tostring())\n",
        "/usr/lib/python2.7/dist-packages/scipy/misc/pilutil.py:210: DeprecationWarning: fromstring() is deprecated. Please call frombytes() instead.\n",
        "  image = Image.fromstring('L',shape,bytedata.tostring())\n"
       ]
      },
      {
       "output_type": "stream",
       "stream": "stderr",
       "text": [
        "/usr/lib/python2.7/dist-packages/scipy/misc/pilutil.py:210: DeprecationWarning: fromstring() is deprecated. Please call frombytes() instead.\n",
        "  image = Image.fromstring('L',shape,bytedata.tostring())\n",
        "/usr/lib/python2.7/dist-packages/scipy/misc/pilutil.py:210: DeprecationWarning: fromstring() is deprecated. Please call frombytes() instead.\n",
        "  image = Image.fromstring('L',shape,bytedata.tostring())\n"
       ]
      },
      {
       "output_type": "stream",
       "stream": "stderr",
       "text": [
        "/usr/lib/python2.7/dist-packages/scipy/misc/pilutil.py:210: DeprecationWarning: fromstring() is deprecated. Please call frombytes() instead.\n",
        "  image = Image.fromstring('L',shape,bytedata.tostring())\n",
        "/usr/lib/python2.7/dist-packages/scipy/misc/pilutil.py:210: DeprecationWarning: fromstring() is deprecated. Please call frombytes() instead.\n",
        "  image = Image.fromstring('L',shape,bytedata.tostring())\n"
       ]
      },
      {
       "output_type": "stream",
       "stream": "stderr",
       "text": [
        "/usr/lib/python2.7/dist-packages/scipy/misc/pilutil.py:210: DeprecationWarning: fromstring() is deprecated. Please call frombytes() instead.\n",
        "  image = Image.fromstring('L',shape,bytedata.tostring())\n",
        "/usr/lib/python2.7/dist-packages/scipy/misc/pilutil.py:210: DeprecationWarning: fromstring() is deprecated. Please call frombytes() instead.\n",
        "  image = Image.fromstring('L',shape,bytedata.tostring())\n"
       ]
      },
      {
       "output_type": "stream",
       "stream": "stderr",
       "text": [
        "/usr/lib/python2.7/dist-packages/scipy/misc/pilutil.py:210: DeprecationWarning: fromstring() is deprecated. Please call frombytes() instead.\n",
        "  image = Image.fromstring('L',shape,bytedata.tostring())\n",
        "/usr/lib/python2.7/dist-packages/scipy/misc/pilutil.py:210: DeprecationWarning: fromstring() is deprecated. Please call frombytes() instead.\n",
        "  image = Image.fromstring('L',shape,bytedata.tostring())\n"
       ]
      },
      {
       "output_type": "stream",
       "stream": "stderr",
       "text": [
        "/usr/lib/python2.7/dist-packages/scipy/misc/pilutil.py:210: DeprecationWarning: fromstring() is deprecated. Please call frombytes() instead.\n",
        "  image = Image.fromstring('L',shape,bytedata.tostring())\n",
        "/usr/lib/python2.7/dist-packages/scipy/misc/pilutil.py:210: DeprecationWarning: fromstring() is deprecated. Please call frombytes() instead.\n",
        "  image = Image.fromstring('L',shape,bytedata.tostring())\n"
       ]
      },
      {
       "output_type": "stream",
       "stream": "stderr",
       "text": [
        "/usr/lib/python2.7/dist-packages/scipy/misc/pilutil.py:210: DeprecationWarning: fromstring() is deprecated. Please call frombytes() instead.\n",
        "  image = Image.fromstring('L',shape,bytedata.tostring())\n",
        "/usr/lib/python2.7/dist-packages/scipy/misc/pilutil.py:210: DeprecationWarning: fromstring() is deprecated. Please call frombytes() instead.\n",
        "  image = Image.fromstring('L',shape,bytedata.tostring())\n"
       ]
      },
      {
       "output_type": "stream",
       "stream": "stderr",
       "text": [
        "/usr/lib/python2.7/dist-packages/scipy/misc/pilutil.py:210: DeprecationWarning: fromstring() is deprecated. Please call frombytes() instead.\n",
        "  image = Image.fromstring('L',shape,bytedata.tostring())\n",
        "/usr/lib/python2.7/dist-packages/scipy/misc/pilutil.py:210: DeprecationWarning: fromstring() is deprecated. Please call frombytes() instead.\n",
        "  image = Image.fromstring('L',shape,bytedata.tostring())\n"
       ]
      },
      {
       "output_type": "stream",
       "stream": "stderr",
       "text": [
        "/usr/lib/python2.7/dist-packages/scipy/misc/pilutil.py:210: DeprecationWarning: fromstring() is deprecated. Please call frombytes() instead.\n",
        "  image = Image.fromstring('L',shape,bytedata.tostring())\n",
        "/usr/lib/python2.7/dist-packages/scipy/misc/pilutil.py:210: DeprecationWarning: fromstring() is deprecated. Please call frombytes() instead.\n",
        "  image = Image.fromstring('L',shape,bytedata.tostring())\n"
       ]
      },
      {
       "output_type": "stream",
       "stream": "stderr",
       "text": [
        "/usr/lib/python2.7/dist-packages/scipy/misc/pilutil.py:210: DeprecationWarning: fromstring() is deprecated. Please call frombytes() instead.\n",
        "  image = Image.fromstring('L',shape,bytedata.tostring())\n",
        "/usr/lib/python2.7/dist-packages/scipy/misc/pilutil.py:210: DeprecationWarning: fromstring() is deprecated. Please call frombytes() instead.\n",
        "  image = Image.fromstring('L',shape,bytedata.tostring())\n"
       ]
      },
      {
       "output_type": "stream",
       "stream": "stderr",
       "text": [
        "/usr/lib/python2.7/dist-packages/scipy/misc/pilutil.py:210: DeprecationWarning: fromstring() is deprecated. Please call frombytes() instead.\n",
        "  image = Image.fromstring('L',shape,bytedata.tostring())\n",
        "/usr/lib/python2.7/dist-packages/scipy/misc/pilutil.py:210: DeprecationWarning: fromstring() is deprecated. Please call frombytes() instead.\n",
        "  image = Image.fromstring('L',shape,bytedata.tostring())\n"
       ]
      },
      {
       "output_type": "stream",
       "stream": "stderr",
       "text": [
        "/usr/lib/python2.7/dist-packages/scipy/misc/pilutil.py:210: DeprecationWarning: fromstring() is deprecated. Please call frombytes() instead.\n",
        "  image = Image.fromstring('L',shape,bytedata.tostring())\n",
        "/usr/lib/python2.7/dist-packages/scipy/misc/pilutil.py:210: DeprecationWarning: fromstring() is deprecated. Please call frombytes() instead.\n",
        "  image = Image.fromstring('L',shape,bytedata.tostring())\n"
       ]
      },
      {
       "output_type": "stream",
       "stream": "stderr",
       "text": [
        "/usr/lib/python2.7/dist-packages/scipy/misc/pilutil.py:210: DeprecationWarning: fromstring() is deprecated. Please call frombytes() instead.\n",
        "  image = Image.fromstring('L',shape,bytedata.tostring())\n",
        "/usr/lib/python2.7/dist-packages/scipy/misc/pilutil.py:210: DeprecationWarning: fromstring() is deprecated. Please call frombytes() instead.\n",
        "  image = Image.fromstring('L',shape,bytedata.tostring())\n"
       ]
      },
      {
       "output_type": "stream",
       "stream": "stderr",
       "text": [
        "/usr/lib/python2.7/dist-packages/scipy/misc/pilutil.py:210: DeprecationWarning: fromstring() is deprecated. Please call frombytes() instead.\n",
        "  image = Image.fromstring('L',shape,bytedata.tostring())\n",
        "/usr/lib/python2.7/dist-packages/scipy/misc/pilutil.py:210: DeprecationWarning: fromstring() is deprecated. Please call frombytes() instead.\n",
        "  image = Image.fromstring('L',shape,bytedata.tostring())\n"
       ]
      },
      {
       "output_type": "stream",
       "stream": "stderr",
       "text": [
        "/usr/lib/python2.7/dist-packages/scipy/misc/pilutil.py:210: DeprecationWarning: fromstring() is deprecated. Please call frombytes() instead.\n",
        "  image = Image.fromstring('L',shape,bytedata.tostring())\n",
        "/usr/lib/python2.7/dist-packages/scipy/misc/pilutil.py:210: DeprecationWarning: fromstring() is deprecated. Please call frombytes() instead.\n",
        "  image = Image.fromstring('L',shape,bytedata.tostring())\n"
       ]
      },
      {
       "output_type": "stream",
       "stream": "stderr",
       "text": [
        "/usr/lib/python2.7/dist-packages/scipy/misc/pilutil.py:210: DeprecationWarning: fromstring() is deprecated. Please call frombytes() instead.\n",
        "  image = Image.fromstring('L',shape,bytedata.tostring())\n",
        "/usr/lib/python2.7/dist-packages/scipy/misc/pilutil.py:210: DeprecationWarning: fromstring() is deprecated. Please call frombytes() instead.\n",
        "  image = Image.fromstring('L',shape,bytedata.tostring())\n"
       ]
      },
      {
       "output_type": "stream",
       "stream": "stderr",
       "text": [
        "/usr/lib/python2.7/dist-packages/scipy/misc/pilutil.py:210: DeprecationWarning: fromstring() is deprecated. Please call frombytes() instead.\n",
        "  image = Image.fromstring('L',shape,bytedata.tostring())\n",
        "/usr/lib/python2.7/dist-packages/scipy/misc/pilutil.py:210: DeprecationWarning: fromstring() is deprecated. Please call frombytes() instead.\n",
        "  image = Image.fromstring('L',shape,bytedata.tostring())\n"
       ]
      },
      {
       "output_type": "stream",
       "stream": "stdout",
       "text": [
        "../../images/murals/fairey_artwar_1_fairey_artwar_2_hom.npy\n",
        "[[  1.37702061e+00  -1.60929190e-03   1.03580449e+02]\n",
        " [  8.58166981e-01   1.89628851e+00  -6.49386378e+02]\n",
        " [  1.29923562e-03  -1.16920403e-04   1.00000000e+00]]\n"
       ]
      },
      {
       "output_type": "stream",
       "stream": "stderr",
       "text": [
        "/usr/lib/python2.7/dist-packages/scipy/misc/pilutil.py:210: DeprecationWarning: fromstring() is deprecated. Please call frombytes() instead.\n",
        "  image = Image.fromstring('L',shape,bytedata.tostring())\n"
       ]
      }
     ],
     "prompt_number": 7
    },
    {
     "cell_type": "code",
     "collapsed": false,
     "input": [
      "# Take 10 images from the NEWYORK collection\n",
      "path = \"GRAFFITI6\"\n",
      "collection = \"Graf\"\n",
      "paths, homography = matching.getPaths(1, 3, path)\n",
      "test_path = [makeTestPair(paths, homography, collection, width=300, height=300,scale=0.75) for _ in range(100)][0]\n",
      "test_path"
     ],
     "language": "python",
     "metadata": {},
     "outputs": [
      {
       "output_type": "stream",
       "stream": "stderr",
       "text": [
        "/usr/lib/python2.7/dist-packages/scipy/misc/pilutil.py:210: DeprecationWarning: fromstring() is deprecated. Please call frombytes() instead.\n",
        "  image = Image.fromstring('L',shape,bytedata.tostring())\n",
        "/usr/lib/python2.7/dist-packages/scipy/misc/pilutil.py:210: DeprecationWarning: fromstring() is deprecated. Please call frombytes() instead.\n",
        "  image = Image.fromstring('L',shape,bytedata.tostring())\n",
        "/usr/lib/python2.7/dist-packages/scipy/misc/pilutil.py:210: DeprecationWarning: fromstring() is deprecated. Please call frombytes() instead.\n",
        "  image = Image.fromstring('L',shape,bytedata.tostring())\n",
        "/usr/lib/python2.7/dist-packages/scipy/misc/pilutil.py:210: DeprecationWarning: fromstring() is deprecated. Please call frombytes() instead.\n",
        "  image = Image.fromstring('L',shape,bytedata.tostring())\n",
        "/usr/lib/python2.7/dist-packages/scipy/misc/pilutil.py:210: DeprecationWarning: fromstring() is deprecated. Please call frombytes() instead.\n",
        "  image = Image.fromstring('L',shape,bytedata.tostring())\n"
       ]
      },
      {
       "output_type": "stream",
       "stream": "stderr",
       "text": [
        "/usr/lib/python2.7/dist-packages/scipy/misc/pilutil.py:210: DeprecationWarning: fromstring() is deprecated. Please call frombytes() instead.\n",
        "  image = Image.fromstring('L',shape,bytedata.tostring())\n",
        "/usr/lib/python2.7/dist-packages/scipy/misc/pilutil.py:210: DeprecationWarning: fromstring() is deprecated. Please call frombytes() instead.\n",
        "  image = Image.fromstring('L',shape,bytedata.tostring())\n",
        "/usr/lib/python2.7/dist-packages/scipy/misc/pilutil.py:210: DeprecationWarning: fromstring() is deprecated. Please call frombytes() instead.\n",
        "  image = Image.fromstring('L',shape,bytedata.tostring())\n",
        "/usr/lib/python2.7/dist-packages/scipy/misc/pilutil.py:210: DeprecationWarning: fromstring() is deprecated. Please call frombytes() instead.\n",
        "  image = Image.fromstring('L',shape,bytedata.tostring())\n"
       ]
      },
      {
       "output_type": "stream",
       "stream": "stderr",
       "text": [
        "/usr/lib/python2.7/dist-packages/scipy/misc/pilutil.py:210: DeprecationWarning: fromstring() is deprecated. Please call frombytes() instead.\n",
        "  image = Image.fromstring('L',shape,bytedata.tostring())\n",
        "/usr/lib/python2.7/dist-packages/scipy/misc/pilutil.py:210: DeprecationWarning: fromstring() is deprecated. Please call frombytes() instead.\n",
        "  image = Image.fromstring('L',shape,bytedata.tostring())\n",
        "/usr/lib/python2.7/dist-packages/scipy/misc/pilutil.py:210: DeprecationWarning: fromstring() is deprecated. Please call frombytes() instead.\n",
        "  image = Image.fromstring('L',shape,bytedata.tostring())\n",
        "/usr/lib/python2.7/dist-packages/scipy/misc/pilutil.py:210: DeprecationWarning: fromstring() is deprecated. Please call frombytes() instead.\n",
        "  image = Image.fromstring('L',shape,bytedata.tostring())\n"
       ]
      },
      {
       "output_type": "stream",
       "stream": "stderr",
       "text": [
        "/usr/lib/python2.7/dist-packages/scipy/misc/pilutil.py:210: DeprecationWarning: fromstring() is deprecated. Please call frombytes() instead.\n",
        "  image = Image.fromstring('L',shape,bytedata.tostring())\n",
        "/usr/lib/python2.7/dist-packages/scipy/misc/pilutil.py:210: DeprecationWarning: fromstring() is deprecated. Please call frombytes() instead.\n",
        "  image = Image.fromstring('L',shape,bytedata.tostring())\n",
        "/usr/lib/python2.7/dist-packages/scipy/misc/pilutil.py:210: DeprecationWarning: fromstring() is deprecated. Please call frombytes() instead.\n",
        "  image = Image.fromstring('L',shape,bytedata.tostring())\n",
        "/usr/lib/python2.7/dist-packages/scipy/misc/pilutil.py:210: DeprecationWarning: fromstring() is deprecated. Please call frombytes() instead.\n",
        "  image = Image.fromstring('L',shape,bytedata.tostring())\n"
       ]
      },
      {
       "output_type": "stream",
       "stream": "stderr",
       "text": [
        "/usr/lib/python2.7/dist-packages/scipy/misc/pilutil.py:210: DeprecationWarning: fromstring() is deprecated. Please call frombytes() instead.\n",
        "  image = Image.fromstring('L',shape,bytedata.tostring())\n",
        "/usr/lib/python2.7/dist-packages/scipy/misc/pilutil.py:210: DeprecationWarning: fromstring() is deprecated. Please call frombytes() instead.\n",
        "  image = Image.fromstring('L',shape,bytedata.tostring())\n",
        "/usr/lib/python2.7/dist-packages/scipy/misc/pilutil.py:210: DeprecationWarning: fromstring() is deprecated. Please call frombytes() instead.\n",
        "  image = Image.fromstring('L',shape,bytedata.tostring())\n",
        "/usr/lib/python2.7/dist-packages/scipy/misc/pilutil.py:210: DeprecationWarning: fromstring() is deprecated. Please call frombytes() instead.\n",
        "  image = Image.fromstring('L',shape,bytedata.tostring())\n"
       ]
      },
      {
       "output_type": "stream",
       "stream": "stderr",
       "text": [
        "/usr/lib/python2.7/dist-packages/scipy/misc/pilutil.py:210: DeprecationWarning: fromstring() is deprecated. Please call frombytes() instead.\n",
        "  image = Image.fromstring('L',shape,bytedata.tostring())\n",
        "/usr/lib/python2.7/dist-packages/scipy/misc/pilutil.py:210: DeprecationWarning: fromstring() is deprecated. Please call frombytes() instead.\n",
        "  image = Image.fromstring('L',shape,bytedata.tostring())\n",
        "/usr/lib/python2.7/dist-packages/scipy/misc/pilutil.py:210: DeprecationWarning: fromstring() is deprecated. Please call frombytes() instead.\n",
        "  image = Image.fromstring('L',shape,bytedata.tostring())\n",
        "/usr/lib/python2.7/dist-packages/scipy/misc/pilutil.py:210: DeprecationWarning: fromstring() is deprecated. Please call frombytes() instead.\n",
        "  image = Image.fromstring('L',shape,bytedata.tostring())\n"
       ]
      },
      {
       "output_type": "stream",
       "stream": "stderr",
       "text": [
        "/usr/lib/python2.7/dist-packages/scipy/misc/pilutil.py:210: DeprecationWarning: fromstring() is deprecated. Please call frombytes() instead.\n",
        "  image = Image.fromstring('L',shape,bytedata.tostring())\n",
        "/usr/lib/python2.7/dist-packages/scipy/misc/pilutil.py:210: DeprecationWarning: fromstring() is deprecated. Please call frombytes() instead.\n",
        "  image = Image.fromstring('L',shape,bytedata.tostring())\n",
        "/usr/lib/python2.7/dist-packages/scipy/misc/pilutil.py:210: DeprecationWarning: fromstring() is deprecated. Please call frombytes() instead.\n",
        "  image = Image.fromstring('L',shape,bytedata.tostring())\n",
        "/usr/lib/python2.7/dist-packages/scipy/misc/pilutil.py:210: DeprecationWarning: fromstring() is deprecated. Please call frombytes() instead.\n",
        "  image = Image.fromstring('L',shape,bytedata.tostring())\n"
       ]
      },
      {
       "output_type": "stream",
       "stream": "stderr",
       "text": [
        "/usr/lib/python2.7/dist-packages/scipy/misc/pilutil.py:210: DeprecationWarning: fromstring() is deprecated. Please call frombytes() instead.\n",
        "  image = Image.fromstring('L',shape,bytedata.tostring())\n",
        "/usr/lib/python2.7/dist-packages/scipy/misc/pilutil.py:210: DeprecationWarning: fromstring() is deprecated. Please call frombytes() instead.\n",
        "  image = Image.fromstring('L',shape,bytedata.tostring())\n",
        "/usr/lib/python2.7/dist-packages/scipy/misc/pilutil.py:210: DeprecationWarning: fromstring() is deprecated. Please call frombytes() instead.\n",
        "  image = Image.fromstring('L',shape,bytedata.tostring())\n",
        "/usr/lib/python2.7/dist-packages/scipy/misc/pilutil.py:210: DeprecationWarning: fromstring() is deprecated. Please call frombytes() instead.\n",
        "  image = Image.fromstring('L',shape,bytedata.tostring())\n"
       ]
      },
      {
       "output_type": "stream",
       "stream": "stderr",
       "text": [
        "/usr/lib/python2.7/dist-packages/scipy/misc/pilutil.py:210: DeprecationWarning: fromstring() is deprecated. Please call frombytes() instead.\n",
        "  image = Image.fromstring('L',shape,bytedata.tostring())\n",
        "/usr/lib/python2.7/dist-packages/scipy/misc/pilutil.py:210: DeprecationWarning: fromstring() is deprecated. Please call frombytes() instead.\n",
        "  image = Image.fromstring('L',shape,bytedata.tostring())\n",
        "/usr/lib/python2.7/dist-packages/scipy/misc/pilutil.py:210: DeprecationWarning: fromstring() is deprecated. Please call frombytes() instead.\n",
        "  image = Image.fromstring('L',shape,bytedata.tostring())\n",
        "/usr/lib/python2.7/dist-packages/scipy/misc/pilutil.py:210: DeprecationWarning: fromstring() is deprecated. Please call frombytes() instead.\n",
        "  image = Image.fromstring('L',shape,bytedata.tostring())\n"
       ]
      },
      {
       "output_type": "stream",
       "stream": "stderr",
       "text": [
        "/usr/lib/python2.7/dist-packages/scipy/misc/pilutil.py:210: DeprecationWarning: fromstring() is deprecated. Please call frombytes() instead.\n",
        "  image = Image.fromstring('L',shape,bytedata.tostring())\n",
        "/usr/lib/python2.7/dist-packages/scipy/misc/pilutil.py:210: DeprecationWarning: fromstring() is deprecated. Please call frombytes() instead.\n",
        "  image = Image.fromstring('L',shape,bytedata.tostring())\n",
        "/usr/lib/python2.7/dist-packages/scipy/misc/pilutil.py:210: DeprecationWarning: fromstring() is deprecated. Please call frombytes() instead.\n",
        "  image = Image.fromstring('L',shape,bytedata.tostring())\n",
        "/usr/lib/python2.7/dist-packages/scipy/misc/pilutil.py:210: DeprecationWarning: fromstring() is deprecated. Please call frombytes() instead.\n",
        "  image = Image.fromstring('L',shape,bytedata.tostring())\n"
       ]
      },
      {
       "output_type": "stream",
       "stream": "stderr",
       "text": [
        "/usr/lib/python2.7/dist-packages/scipy/misc/pilutil.py:210: DeprecationWarning: fromstring() is deprecated. Please call frombytes() instead.\n",
        "  image = Image.fromstring('L',shape,bytedata.tostring())\n",
        "/usr/lib/python2.7/dist-packages/scipy/misc/pilutil.py:210: DeprecationWarning: fromstring() is deprecated. Please call frombytes() instead.\n",
        "  image = Image.fromstring('L',shape,bytedata.tostring())\n",
        "/usr/lib/python2.7/dist-packages/scipy/misc/pilutil.py:210: DeprecationWarning: fromstring() is deprecated. Please call frombytes() instead.\n",
        "  image = Image.fromstring('L',shape,bytedata.tostring())\n",
        "/usr/lib/python2.7/dist-packages/scipy/misc/pilutil.py:210: DeprecationWarning: fromstring() is deprecated. Please call frombytes() instead.\n",
        "  image = Image.fromstring('L',shape,bytedata.tostring())\n"
       ]
      },
      {
       "output_type": "stream",
       "stream": "stderr",
       "text": [
        "/usr/lib/python2.7/dist-packages/scipy/misc/pilutil.py:210: DeprecationWarning: fromstring() is deprecated. Please call frombytes() instead.\n",
        "  image = Image.fromstring('L',shape,bytedata.tostring())\n",
        "/usr/lib/python2.7/dist-packages/scipy/misc/pilutil.py:210: DeprecationWarning: fromstring() is deprecated. Please call frombytes() instead.\n",
        "  image = Image.fromstring('L',shape,bytedata.tostring())\n",
        "/usr/lib/python2.7/dist-packages/scipy/misc/pilutil.py:210: DeprecationWarning: fromstring() is deprecated. Please call frombytes() instead.\n",
        "  image = Image.fromstring('L',shape,bytedata.tostring())\n",
        "/usr/lib/python2.7/dist-packages/scipy/misc/pilutil.py:210: DeprecationWarning: fromstring() is deprecated. Please call frombytes() instead.\n",
        "  image = Image.fromstring('L',shape,bytedata.tostring())\n"
       ]
      },
      {
       "output_type": "stream",
       "stream": "stderr",
       "text": [
        "/usr/lib/python2.7/dist-packages/scipy/misc/pilutil.py:210: DeprecationWarning: fromstring() is deprecated. Please call frombytes() instead.\n",
        "  image = Image.fromstring('L',shape,bytedata.tostring())\n",
        "/usr/lib/python2.7/dist-packages/scipy/misc/pilutil.py:210: DeprecationWarning: fromstring() is deprecated. Please call frombytes() instead.\n",
        "  image = Image.fromstring('L',shape,bytedata.tostring())\n",
        "/usr/lib/python2.7/dist-packages/scipy/misc/pilutil.py:210: DeprecationWarning: fromstring() is deprecated. Please call frombytes() instead.\n",
        "  image = Image.fromstring('L',shape,bytedata.tostring())\n",
        "/usr/lib/python2.7/dist-packages/scipy/misc/pilutil.py:210: DeprecationWarning: fromstring() is deprecated. Please call frombytes() instead.\n",
        "  image = Image.fromstring('L',shape,bytedata.tostring())\n"
       ]
      },
      {
       "output_type": "stream",
       "stream": "stderr",
       "text": [
        "/usr/lib/python2.7/dist-packages/scipy/misc/pilutil.py:210: DeprecationWarning: fromstring() is deprecated. Please call frombytes() instead.\n",
        "  image = Image.fromstring('L',shape,bytedata.tostring())\n",
        "/usr/lib/python2.7/dist-packages/scipy/misc/pilutil.py:210: DeprecationWarning: fromstring() is deprecated. Please call frombytes() instead.\n",
        "  image = Image.fromstring('L',shape,bytedata.tostring())\n",
        "/usr/lib/python2.7/dist-packages/scipy/misc/pilutil.py:210: DeprecationWarning: fromstring() is deprecated. Please call frombytes() instead.\n",
        "  image = Image.fromstring('L',shape,bytedata.tostring())\n",
        "/usr/lib/python2.7/dist-packages/scipy/misc/pilutil.py:210: DeprecationWarning: fromstring() is deprecated. Please call frombytes() instead.\n",
        "  image = Image.fromstring('L',shape,bytedata.tostring())\n"
       ]
      },
      {
       "output_type": "stream",
       "stream": "stderr",
       "text": [
        "/usr/lib/python2.7/dist-packages/scipy/misc/pilutil.py:210: DeprecationWarning: fromstring() is deprecated. Please call frombytes() instead.\n",
        "  image = Image.fromstring('L',shape,bytedata.tostring())\n",
        "/usr/lib/python2.7/dist-packages/scipy/misc/pilutil.py:210: DeprecationWarning: fromstring() is deprecated. Please call frombytes() instead.\n",
        "  image = Image.fromstring('L',shape,bytedata.tostring())\n",
        "/usr/lib/python2.7/dist-packages/scipy/misc/pilutil.py:210: DeprecationWarning: fromstring() is deprecated. Please call frombytes() instead.\n",
        "  image = Image.fromstring('L',shape,bytedata.tostring())\n",
        "/usr/lib/python2.7/dist-packages/scipy/misc/pilutil.py:210: DeprecationWarning: fromstring() is deprecated. Please call frombytes() instead.\n",
        "  image = Image.fromstring('L',shape,bytedata.tostring())\n"
       ]
      },
      {
       "output_type": "stream",
       "stream": "stderr",
       "text": [
        "/usr/lib/python2.7/dist-packages/scipy/misc/pilutil.py:210: DeprecationWarning: fromstring() is deprecated. Please call frombytes() instead.\n",
        "  image = Image.fromstring('L',shape,bytedata.tostring())\n",
        "/usr/lib/python2.7/dist-packages/scipy/misc/pilutil.py:210: DeprecationWarning: fromstring() is deprecated. Please call frombytes() instead.\n",
        "  image = Image.fromstring('L',shape,bytedata.tostring())\n",
        "/usr/lib/python2.7/dist-packages/scipy/misc/pilutil.py:210: DeprecationWarning: fromstring() is deprecated. Please call frombytes() instead.\n",
        "  image = Image.fromstring('L',shape,bytedata.tostring())\n",
        "/usr/lib/python2.7/dist-packages/scipy/misc/pilutil.py:210: DeprecationWarning: fromstring() is deprecated. Please call frombytes() instead.\n",
        "  image = Image.fromstring('L',shape,bytedata.tostring())\n"
       ]
      },
      {
       "output_type": "stream",
       "stream": "stderr",
       "text": [
        "/usr/lib/python2.7/dist-packages/scipy/misc/pilutil.py:210: DeprecationWarning: fromstring() is deprecated. Please call frombytes() instead.\n",
        "  image = Image.fromstring('L',shape,bytedata.tostring())\n",
        "/usr/lib/python2.7/dist-packages/scipy/misc/pilutil.py:210: DeprecationWarning: fromstring() is deprecated. Please call frombytes() instead.\n",
        "  image = Image.fromstring('L',shape,bytedata.tostring())\n",
        "/usr/lib/python2.7/dist-packages/scipy/misc/pilutil.py:210: DeprecationWarning: fromstring() is deprecated. Please call frombytes() instead.\n",
        "  image = Image.fromstring('L',shape,bytedata.tostring())\n",
        "/usr/lib/python2.7/dist-packages/scipy/misc/pilutil.py:210: DeprecationWarning: fromstring() is deprecated. Please call frombytes() instead.\n",
        "  image = Image.fromstring('L',shape,bytedata.tostring())\n"
       ]
      },
      {
       "output_type": "stream",
       "stream": "stderr",
       "text": [
        "/usr/lib/python2.7/dist-packages/scipy/misc/pilutil.py:210: DeprecationWarning: fromstring() is deprecated. Please call frombytes() instead.\n",
        "  image = Image.fromstring('L',shape,bytedata.tostring())\n",
        "/usr/lib/python2.7/dist-packages/scipy/misc/pilutil.py:210: DeprecationWarning: fromstring() is deprecated. Please call frombytes() instead.\n",
        "  image = Image.fromstring('L',shape,bytedata.tostring())\n",
        "/usr/lib/python2.7/dist-packages/scipy/misc/pilutil.py:210: DeprecationWarning: fromstring() is deprecated. Please call frombytes() instead.\n",
        "  image = Image.fromstring('L',shape,bytedata.tostring())\n",
        "/usr/lib/python2.7/dist-packages/scipy/misc/pilutil.py:210: DeprecationWarning: fromstring() is deprecated. Please call frombytes() instead.\n",
        "  image = Image.fromstring('L',shape,bytedata.tostring())\n"
       ]
      },
      {
       "output_type": "stream",
       "stream": "stderr",
       "text": [
        "/usr/lib/python2.7/dist-packages/scipy/misc/pilutil.py:210: DeprecationWarning: fromstring() is deprecated. Please call frombytes() instead.\n",
        "  image = Image.fromstring('L',shape,bytedata.tostring())\n",
        "/usr/lib/python2.7/dist-packages/scipy/misc/pilutil.py:210: DeprecationWarning: fromstring() is deprecated. Please call frombytes() instead.\n",
        "  image = Image.fromstring('L',shape,bytedata.tostring())\n",
        "/usr/lib/python2.7/dist-packages/scipy/misc/pilutil.py:210: DeprecationWarning: fromstring() is deprecated. Please call frombytes() instead.\n",
        "  image = Image.fromstring('L',shape,bytedata.tostring())\n",
        "/usr/lib/python2.7/dist-packages/scipy/misc/pilutil.py:210: DeprecationWarning: fromstring() is deprecated. Please call frombytes() instead.\n",
        "  image = Image.fromstring('L',shape,bytedata.tostring())\n"
       ]
      },
      {
       "output_type": "stream",
       "stream": "stderr",
       "text": [
        "/usr/lib/python2.7/dist-packages/scipy/misc/pilutil.py:210: DeprecationWarning: fromstring() is deprecated. Please call frombytes() instead.\n",
        "  image = Image.fromstring('L',shape,bytedata.tostring())\n",
        "/usr/lib/python2.7/dist-packages/scipy/misc/pilutil.py:210: DeprecationWarning: fromstring() is deprecated. Please call frombytes() instead.\n",
        "  image = Image.fromstring('L',shape,bytedata.tostring())\n",
        "/usr/lib/python2.7/dist-packages/scipy/misc/pilutil.py:210: DeprecationWarning: fromstring() is deprecated. Please call frombytes() instead.\n",
        "  image = Image.fromstring('L',shape,bytedata.tostring())\n",
        "/usr/lib/python2.7/dist-packages/scipy/misc/pilutil.py:210: DeprecationWarning: fromstring() is deprecated. Please call frombytes() instead.\n",
        "  image = Image.fromstring('L',shape,bytedata.tostring())\n"
       ]
      },
      {
       "output_type": "stream",
       "stream": "stderr",
       "text": [
        "/usr/lib/python2.7/dist-packages/scipy/misc/pilutil.py:210: DeprecationWarning: fromstring() is deprecated. Please call frombytes() instead.\n",
        "  image = Image.fromstring('L',shape,bytedata.tostring())\n",
        "/usr/lib/python2.7/dist-packages/scipy/misc/pilutil.py:210: DeprecationWarning: fromstring() is deprecated. Please call frombytes() instead.\n",
        "  image = Image.fromstring('L',shape,bytedata.tostring())\n",
        "/usr/lib/python2.7/dist-packages/scipy/misc/pilutil.py:210: DeprecationWarning: fromstring() is deprecated. Please call frombytes() instead.\n",
        "  image = Image.fromstring('L',shape,bytedata.tostring())\n",
        "/usr/lib/python2.7/dist-packages/scipy/misc/pilutil.py:210: DeprecationWarning: fromstring() is deprecated. Please call frombytes() instead.\n",
        "  image = Image.fromstring('L',shape,bytedata.tostring())\n"
       ]
      },
      {
       "output_type": "stream",
       "stream": "stderr",
       "text": [
        "/usr/lib/python2.7/dist-packages/scipy/misc/pilutil.py:210: DeprecationWarning: fromstring() is deprecated. Please call frombytes() instead.\n",
        "  image = Image.fromstring('L',shape,bytedata.tostring())\n",
        "/usr/lib/python2.7/dist-packages/scipy/misc/pilutil.py:210: DeprecationWarning: fromstring() is deprecated. Please call frombytes() instead.\n",
        "  image = Image.fromstring('L',shape,bytedata.tostring())\n",
        "/usr/lib/python2.7/dist-packages/scipy/misc/pilutil.py:210: DeprecationWarning: fromstring() is deprecated. Please call frombytes() instead.\n",
        "  image = Image.fromstring('L',shape,bytedata.tostring())\n",
        "/usr/lib/python2.7/dist-packages/scipy/misc/pilutil.py:210: DeprecationWarning: fromstring() is deprecated. Please call frombytes() instead.\n",
        "  image = Image.fromstring('L',shape,bytedata.tostring())\n"
       ]
      },
      {
       "output_type": "stream",
       "stream": "stderr",
       "text": [
        "/usr/lib/python2.7/dist-packages/scipy/misc/pilutil.py:210: DeprecationWarning: fromstring() is deprecated. Please call frombytes() instead.\n",
        "  image = Image.fromstring('L',shape,bytedata.tostring())\n",
        "/usr/lib/python2.7/dist-packages/scipy/misc/pilutil.py:210: DeprecationWarning: fromstring() is deprecated. Please call frombytes() instead.\n",
        "  image = Image.fromstring('L',shape,bytedata.tostring())\n",
        "/usr/lib/python2.7/dist-packages/scipy/misc/pilutil.py:210: DeprecationWarning: fromstring() is deprecated. Please call frombytes() instead.\n",
        "  image = Image.fromstring('L',shape,bytedata.tostring())\n",
        "/usr/lib/python2.7/dist-packages/scipy/misc/pilutil.py:210: DeprecationWarning: fromstring() is deprecated. Please call frombytes() instead.\n",
        "  image = Image.fromstring('L',shape,bytedata.tostring())\n"
       ]
      },
      {
       "output_type": "stream",
       "stream": "stderr",
       "text": [
        "/usr/lib/python2.7/dist-packages/scipy/misc/pilutil.py:210: DeprecationWarning: fromstring() is deprecated. Please call frombytes() instead.\n",
        "  image = Image.fromstring('L',shape,bytedata.tostring())\n",
        "/usr/lib/python2.7/dist-packages/scipy/misc/pilutil.py:210: DeprecationWarning: fromstring() is deprecated. Please call frombytes() instead.\n",
        "  image = Image.fromstring('L',shape,bytedata.tostring())\n",
        "/usr/lib/python2.7/dist-packages/scipy/misc/pilutil.py:210: DeprecationWarning: fromstring() is deprecated. Please call frombytes() instead.\n",
        "  image = Image.fromstring('L',shape,bytedata.tostring())\n",
        "/usr/lib/python2.7/dist-packages/scipy/misc/pilutil.py:210: DeprecationWarning: fromstring() is deprecated. Please call frombytes() instead.\n",
        "  image = Image.fromstring('L',shape,bytedata.tostring())\n"
       ]
      },
      {
       "output_type": "stream",
       "stream": "stderr",
       "text": [
        "/usr/lib/python2.7/dist-packages/scipy/misc/pilutil.py:210: DeprecationWarning: fromstring() is deprecated. Please call frombytes() instead.\n",
        "  image = Image.fromstring('L',shape,bytedata.tostring())\n",
        "/usr/lib/python2.7/dist-packages/scipy/misc/pilutil.py:210: DeprecationWarning: fromstring() is deprecated. Please call frombytes() instead.\n",
        "  image = Image.fromstring('L',shape,bytedata.tostring())\n",
        "/usr/lib/python2.7/dist-packages/scipy/misc/pilutil.py:210: DeprecationWarning: fromstring() is deprecated. Please call frombytes() instead.\n",
        "  image = Image.fromstring('L',shape,bytedata.tostring())\n",
        "/usr/lib/python2.7/dist-packages/scipy/misc/pilutil.py:210: DeprecationWarning: fromstring() is deprecated. Please call frombytes() instead.\n",
        "  image = Image.fromstring('L',shape,bytedata.tostring())\n"
       ]
      },
      {
       "output_type": "stream",
       "stream": "stderr",
       "text": [
        "/usr/lib/python2.7/dist-packages/scipy/misc/pilutil.py:210: DeprecationWarning: fromstring() is deprecated. Please call frombytes() instead.\n",
        "  image = Image.fromstring('L',shape,bytedata.tostring())\n",
        "/usr/lib/python2.7/dist-packages/scipy/misc/pilutil.py:210: DeprecationWarning: fromstring() is deprecated. Please call frombytes() instead.\n",
        "  image = Image.fromstring('L',shape,bytedata.tostring())\n",
        "/usr/lib/python2.7/dist-packages/scipy/misc/pilutil.py:210: DeprecationWarning: fromstring() is deprecated. Please call frombytes() instead.\n",
        "  image = Image.fromstring('L',shape,bytedata.tostring())\n",
        "/usr/lib/python2.7/dist-packages/scipy/misc/pilutil.py:210: DeprecationWarning: fromstring() is deprecated. Please call frombytes() instead.\n",
        "  image = Image.fromstring('L',shape,bytedata.tostring())\n"
       ]
      },
      {
       "output_type": "stream",
       "stream": "stderr",
       "text": [
        "/usr/lib/python2.7/dist-packages/scipy/misc/pilutil.py:210: DeprecationWarning: fromstring() is deprecated. Please call frombytes() instead.\n",
        "  image = Image.fromstring('L',shape,bytedata.tostring())\n",
        "/usr/lib/python2.7/dist-packages/scipy/misc/pilutil.py:210: DeprecationWarning: fromstring() is deprecated. Please call frombytes() instead.\n",
        "  image = Image.fromstring('L',shape,bytedata.tostring())\n",
        "/usr/lib/python2.7/dist-packages/scipy/misc/pilutil.py:210: DeprecationWarning: fromstring() is deprecated. Please call frombytes() instead.\n",
        "  image = Image.fromstring('L',shape,bytedata.tostring())\n",
        "/usr/lib/python2.7/dist-packages/scipy/misc/pilutil.py:210: DeprecationWarning: fromstring() is deprecated. Please call frombytes() instead.\n",
        "  image = Image.fromstring('L',shape,bytedata.tostring())\n"
       ]
      },
      {
       "output_type": "stream",
       "stream": "stderr",
       "text": [
        "/usr/lib/python2.7/dist-packages/scipy/misc/pilutil.py:210: DeprecationWarning: fromstring() is deprecated. Please call frombytes() instead.\n",
        "  image = Image.fromstring('L',shape,bytedata.tostring())\n",
        "/usr/lib/python2.7/dist-packages/scipy/misc/pilutil.py:210: DeprecationWarning: fromstring() is deprecated. Please call frombytes() instead.\n",
        "  image = Image.fromstring('L',shape,bytedata.tostring())\n",
        "/usr/lib/python2.7/dist-packages/scipy/misc/pilutil.py:210: DeprecationWarning: fromstring() is deprecated. Please call frombytes() instead.\n",
        "  image = Image.fromstring('L',shape,bytedata.tostring())\n",
        "/usr/lib/python2.7/dist-packages/scipy/misc/pilutil.py:210: DeprecationWarning: fromstring() is deprecated. Please call frombytes() instead.\n",
        "  image = Image.fromstring('L',shape,bytedata.tostring())\n"
       ]
      },
      {
       "output_type": "stream",
       "stream": "stderr",
       "text": [
        "/usr/lib/python2.7/dist-packages/scipy/misc/pilutil.py:210: DeprecationWarning: fromstring() is deprecated. Please call frombytes() instead.\n",
        "  image = Image.fromstring('L',shape,bytedata.tostring())\n",
        "/usr/lib/python2.7/dist-packages/scipy/misc/pilutil.py:210: DeprecationWarning: fromstring() is deprecated. Please call frombytes() instead.\n",
        "  image = Image.fromstring('L',shape,bytedata.tostring())\n",
        "/usr/lib/python2.7/dist-packages/scipy/misc/pilutil.py:210: DeprecationWarning: fromstring() is deprecated. Please call frombytes() instead.\n",
        "  image = Image.fromstring('L',shape,bytedata.tostring())\n",
        "/usr/lib/python2.7/dist-packages/scipy/misc/pilutil.py:210: DeprecationWarning: fromstring() is deprecated. Please call frombytes() instead.\n",
        "  image = Image.fromstring('L',shape,bytedata.tostring())\n"
       ]
      },
      {
       "output_type": "stream",
       "stream": "stderr",
       "text": [
        "/usr/lib/python2.7/dist-packages/scipy/misc/pilutil.py:210: DeprecationWarning: fromstring() is deprecated. Please call frombytes() instead.\n",
        "  image = Image.fromstring('L',shape,bytedata.tostring())\n",
        "/usr/lib/python2.7/dist-packages/scipy/misc/pilutil.py:210: DeprecationWarning: fromstring() is deprecated. Please call frombytes() instead.\n",
        "  image = Image.fromstring('L',shape,bytedata.tostring())\n",
        "/usr/lib/python2.7/dist-packages/scipy/misc/pilutil.py:210: DeprecationWarning: fromstring() is deprecated. Please call frombytes() instead.\n",
        "  image = Image.fromstring('L',shape,bytedata.tostring())\n",
        "/usr/lib/python2.7/dist-packages/scipy/misc/pilutil.py:210: DeprecationWarning: fromstring() is deprecated. Please call frombytes() instead.\n",
        "  image = Image.fromstring('L',shape,bytedata.tostring())\n"
       ]
      },
      {
       "output_type": "stream",
       "stream": "stderr",
       "text": [
        "/usr/lib/python2.7/dist-packages/scipy/misc/pilutil.py:210: DeprecationWarning: fromstring() is deprecated. Please call frombytes() instead.\n",
        "  image = Image.fromstring('L',shape,bytedata.tostring())\n",
        "/usr/lib/python2.7/dist-packages/scipy/misc/pilutil.py:210: DeprecationWarning: fromstring() is deprecated. Please call frombytes() instead.\n",
        "  image = Image.fromstring('L',shape,bytedata.tostring())\n",
        "/usr/lib/python2.7/dist-packages/scipy/misc/pilutil.py:210: DeprecationWarning: fromstring() is deprecated. Please call frombytes() instead.\n",
        "  image = Image.fromstring('L',shape,bytedata.tostring())\n",
        "/usr/lib/python2.7/dist-packages/scipy/misc/pilutil.py:210: DeprecationWarning: fromstring() is deprecated. Please call frombytes() instead.\n",
        "  image = Image.fromstring('L',shape,bytedata.tostring())\n"
       ]
      },
      {
       "output_type": "stream",
       "stream": "stderr",
       "text": [
        "/usr/lib/python2.7/dist-packages/scipy/misc/pilutil.py:210: DeprecationWarning: fromstring() is deprecated. Please call frombytes() instead.\n",
        "  image = Image.fromstring('L',shape,bytedata.tostring())\n",
        "/usr/lib/python2.7/dist-packages/scipy/misc/pilutil.py:210: DeprecationWarning: fromstring() is deprecated. Please call frombytes() instead.\n",
        "  image = Image.fromstring('L',shape,bytedata.tostring())\n",
        "/usr/lib/python2.7/dist-packages/scipy/misc/pilutil.py:210: DeprecationWarning: fromstring() is deprecated. Please call frombytes() instead.\n",
        "  image = Image.fromstring('L',shape,bytedata.tostring())\n",
        "/usr/lib/python2.7/dist-packages/scipy/misc/pilutil.py:210: DeprecationWarning: fromstring() is deprecated. Please call frombytes() instead.\n",
        "  image = Image.fromstring('L',shape,bytedata.tostring())\n"
       ]
      },
      {
       "output_type": "stream",
       "stream": "stderr",
       "text": [
        "/usr/lib/python2.7/dist-packages/scipy/misc/pilutil.py:210: DeprecationWarning: fromstring() is deprecated. Please call frombytes() instead.\n",
        "  image = Image.fromstring('L',shape,bytedata.tostring())\n",
        "/usr/lib/python2.7/dist-packages/scipy/misc/pilutil.py:210: DeprecationWarning: fromstring() is deprecated. Please call frombytes() instead.\n",
        "  image = Image.fromstring('L',shape,bytedata.tostring())\n",
        "/usr/lib/python2.7/dist-packages/scipy/misc/pilutil.py:210: DeprecationWarning: fromstring() is deprecated. Please call frombytes() instead.\n",
        "  image = Image.fromstring('L',shape,bytedata.tostring())\n",
        "/usr/lib/python2.7/dist-packages/scipy/misc/pilutil.py:210: DeprecationWarning: fromstring() is deprecated. Please call frombytes() instead.\n",
        "  image = Image.fromstring('L',shape,bytedata.tostring())\n"
       ]
      },
      {
       "output_type": "stream",
       "stream": "stderr",
       "text": [
        "/usr/lib/python2.7/dist-packages/scipy/misc/pilutil.py:210: DeprecationWarning: fromstring() is deprecated. Please call frombytes() instead.\n",
        "  image = Image.fromstring('L',shape,bytedata.tostring())\n",
        "/usr/lib/python2.7/dist-packages/scipy/misc/pilutil.py:210: DeprecationWarning: fromstring() is deprecated. Please call frombytes() instead.\n",
        "  image = Image.fromstring('L',shape,bytedata.tostring())\n",
        "/usr/lib/python2.7/dist-packages/scipy/misc/pilutil.py:210: DeprecationWarning: fromstring() is deprecated. Please call frombytes() instead.\n",
        "  image = Image.fromstring('L',shape,bytedata.tostring())\n",
        "/usr/lib/python2.7/dist-packages/scipy/misc/pilutil.py:210: DeprecationWarning: fromstring() is deprecated. Please call frombytes() instead.\n",
        "  image = Image.fromstring('L',shape,bytedata.tostring())\n"
       ]
      },
      {
       "output_type": "stream",
       "stream": "stderr",
       "text": [
        "/usr/lib/python2.7/dist-packages/scipy/misc/pilutil.py:210: DeprecationWarning: fromstring() is deprecated. Please call frombytes() instead.\n",
        "  image = Image.fromstring('L',shape,bytedata.tostring())\n",
        "/usr/lib/python2.7/dist-packages/scipy/misc/pilutil.py:210: DeprecationWarning: fromstring() is deprecated. Please call frombytes() instead.\n",
        "  image = Image.fromstring('L',shape,bytedata.tostring())\n",
        "/usr/lib/python2.7/dist-packages/scipy/misc/pilutil.py:210: DeprecationWarning: fromstring() is deprecated. Please call frombytes() instead.\n",
        "  image = Image.fromstring('L',shape,bytedata.tostring())\n",
        "/usr/lib/python2.7/dist-packages/scipy/misc/pilutil.py:210: DeprecationWarning: fromstring() is deprecated. Please call frombytes() instead.\n",
        "  image = Image.fromstring('L',shape,bytedata.tostring())\n"
       ]
      },
      {
       "output_type": "stream",
       "stream": "stderr",
       "text": [
        "/usr/lib/python2.7/dist-packages/scipy/misc/pilutil.py:210: DeprecationWarning: fromstring() is deprecated. Please call frombytes() instead.\n",
        "  image = Image.fromstring('L',shape,bytedata.tostring())\n",
        "/usr/lib/python2.7/dist-packages/scipy/misc/pilutil.py:210: DeprecationWarning: fromstring() is deprecated. Please call frombytes() instead.\n",
        "  image = Image.fromstring('L',shape,bytedata.tostring())\n",
        "/usr/lib/python2.7/dist-packages/scipy/misc/pilutil.py:210: DeprecationWarning: fromstring() is deprecated. Please call frombytes() instead.\n",
        "  image = Image.fromstring('L',shape,bytedata.tostring())\n",
        "/usr/lib/python2.7/dist-packages/scipy/misc/pilutil.py:210: DeprecationWarning: fromstring() is deprecated. Please call frombytes() instead.\n",
        "  image = Image.fromstring('L',shape,bytedata.tostring())\n"
       ]
      },
      {
       "output_type": "stream",
       "stream": "stderr",
       "text": [
        "/usr/lib/python2.7/dist-packages/scipy/misc/pilutil.py:210: DeprecationWarning: fromstring() is deprecated. Please call frombytes() instead.\n",
        "  image = Image.fromstring('L',shape,bytedata.tostring())\n",
        "/usr/lib/python2.7/dist-packages/scipy/misc/pilutil.py:210: DeprecationWarning: fromstring() is deprecated. Please call frombytes() instead.\n",
        "  image = Image.fromstring('L',shape,bytedata.tostring())\n",
        "/usr/lib/python2.7/dist-packages/scipy/misc/pilutil.py:210: DeprecationWarning: fromstring() is deprecated. Please call frombytes() instead.\n",
        "  image = Image.fromstring('L',shape,bytedata.tostring())\n",
        "/usr/lib/python2.7/dist-packages/scipy/misc/pilutil.py:210: DeprecationWarning: fromstring() is deprecated. Please call frombytes() instead.\n",
        "  image = Image.fromstring('L',shape,bytedata.tostring())\n"
       ]
      },
      {
       "output_type": "stream",
       "stream": "stderr",
       "text": [
        "/usr/lib/python2.7/dist-packages/scipy/misc/pilutil.py:210: DeprecationWarning: fromstring() is deprecated. Please call frombytes() instead.\n",
        "  image = Image.fromstring('L',shape,bytedata.tostring())\n",
        "/usr/lib/python2.7/dist-packages/scipy/misc/pilutil.py:210: DeprecationWarning: fromstring() is deprecated. Please call frombytes() instead.\n",
        "  image = Image.fromstring('L',shape,bytedata.tostring())\n",
        "/usr/lib/python2.7/dist-packages/scipy/misc/pilutil.py:210: DeprecationWarning: fromstring() is deprecated. Please call frombytes() instead.\n",
        "  image = Image.fromstring('L',shape,bytedata.tostring())\n",
        "/usr/lib/python2.7/dist-packages/scipy/misc/pilutil.py:210: DeprecationWarning: fromstring() is deprecated. Please call frombytes() instead.\n",
        "  image = Image.fromstring('L',shape,bytedata.tostring())\n"
       ]
      },
      {
       "output_type": "stream",
       "stream": "stderr",
       "text": [
        "/usr/lib/python2.7/dist-packages/scipy/misc/pilutil.py:210: DeprecationWarning: fromstring() is deprecated. Please call frombytes() instead.\n",
        "  image = Image.fromstring('L',shape,bytedata.tostring())\n",
        "/usr/lib/python2.7/dist-packages/scipy/misc/pilutil.py:210: DeprecationWarning: fromstring() is deprecated. Please call frombytes() instead.\n",
        "  image = Image.fromstring('L',shape,bytedata.tostring())\n",
        "/usr/lib/python2.7/dist-packages/scipy/misc/pilutil.py:210: DeprecationWarning: fromstring() is deprecated. Please call frombytes() instead.\n",
        "  image = Image.fromstring('L',shape,bytedata.tostring())\n",
        "/usr/lib/python2.7/dist-packages/scipy/misc/pilutil.py:210: DeprecationWarning: fromstring() is deprecated. Please call frombytes() instead.\n",
        "  image = Image.fromstring('L',shape,bytedata.tostring())\n"
       ]
      },
      {
       "output_type": "stream",
       "stream": "stderr",
       "text": [
        "/usr/lib/python2.7/dist-packages/scipy/misc/pilutil.py:210: DeprecationWarning: fromstring() is deprecated. Please call frombytes() instead.\n",
        "  image = Image.fromstring('L',shape,bytedata.tostring())\n",
        "/usr/lib/python2.7/dist-packages/scipy/misc/pilutil.py:210: DeprecationWarning: fromstring() is deprecated. Please call frombytes() instead.\n",
        "  image = Image.fromstring('L',shape,bytedata.tostring())\n",
        "/usr/lib/python2.7/dist-packages/scipy/misc/pilutil.py:210: DeprecationWarning: fromstring() is deprecated. Please call frombytes() instead.\n",
        "  image = Image.fromstring('L',shape,bytedata.tostring())\n",
        "/usr/lib/python2.7/dist-packages/scipy/misc/pilutil.py:210: DeprecationWarning: fromstring() is deprecated. Please call frombytes() instead.\n",
        "  image = Image.fromstring('L',shape,bytedata.tostring())\n"
       ]
      },
      {
       "output_type": "stream",
       "stream": "stderr",
       "text": [
        "/usr/lib/python2.7/dist-packages/scipy/misc/pilutil.py:210: DeprecationWarning: fromstring() is deprecated. Please call frombytes() instead.\n",
        "  image = Image.fromstring('L',shape,bytedata.tostring())\n",
        "/usr/lib/python2.7/dist-packages/scipy/misc/pilutil.py:210: DeprecationWarning: fromstring() is deprecated. Please call frombytes() instead.\n",
        "  image = Image.fromstring('L',shape,bytedata.tostring())\n",
        "/usr/lib/python2.7/dist-packages/scipy/misc/pilutil.py:210: DeprecationWarning: fromstring() is deprecated. Please call frombytes() instead.\n",
        "  image = Image.fromstring('L',shape,bytedata.tostring())\n",
        "/usr/lib/python2.7/dist-packages/scipy/misc/pilutil.py:210: DeprecationWarning: fromstring() is deprecated. Please call frombytes() instead.\n",
        "  image = Image.fromstring('L',shape,bytedata.tostring())\n"
       ]
      },
      {
       "output_type": "stream",
       "stream": "stderr",
       "text": [
        "/usr/lib/python2.7/dist-packages/scipy/misc/pilutil.py:210: DeprecationWarning: fromstring() is deprecated. Please call frombytes() instead.\n",
        "  image = Image.fromstring('L',shape,bytedata.tostring())\n",
        "/usr/lib/python2.7/dist-packages/scipy/misc/pilutil.py:210: DeprecationWarning: fromstring() is deprecated. Please call frombytes() instead.\n",
        "  image = Image.fromstring('L',shape,bytedata.tostring())\n",
        "/usr/lib/python2.7/dist-packages/scipy/misc/pilutil.py:210: DeprecationWarning: fromstring() is deprecated. Please call frombytes() instead.\n",
        "  image = Image.fromstring('L',shape,bytedata.tostring())\n",
        "/usr/lib/python2.7/dist-packages/scipy/misc/pilutil.py:210: DeprecationWarning: fromstring() is deprecated. Please call frombytes() instead.\n",
        "  image = Image.fromstring('L',shape,bytedata.tostring())\n"
       ]
      },
      {
       "output_type": "stream",
       "stream": "stderr",
       "text": [
        "/usr/lib/python2.7/dist-packages/scipy/misc/pilutil.py:210: DeprecationWarning: fromstring() is deprecated. Please call frombytes() instead.\n",
        "  image = Image.fromstring('L',shape,bytedata.tostring())\n",
        "/usr/lib/python2.7/dist-packages/scipy/misc/pilutil.py:210: DeprecationWarning: fromstring() is deprecated. Please call frombytes() instead.\n",
        "  image = Image.fromstring('L',shape,bytedata.tostring())\n",
        "/usr/lib/python2.7/dist-packages/scipy/misc/pilutil.py:210: DeprecationWarning: fromstring() is deprecated. Please call frombytes() instead.\n",
        "  image = Image.fromstring('L',shape,bytedata.tostring())\n",
        "/usr/lib/python2.7/dist-packages/scipy/misc/pilutil.py:210: DeprecationWarning: fromstring() is deprecated. Please call frombytes() instead.\n",
        "  image = Image.fromstring('L',shape,bytedata.tostring())\n"
       ]
      },
      {
       "output_type": "stream",
       "stream": "stderr",
       "text": [
        "/usr/lib/python2.7/dist-packages/scipy/misc/pilutil.py:210: DeprecationWarning: fromstring() is deprecated. Please call frombytes() instead.\n",
        "  image = Image.fromstring('L',shape,bytedata.tostring())\n",
        "/usr/lib/python2.7/dist-packages/scipy/misc/pilutil.py:210: DeprecationWarning: fromstring() is deprecated. Please call frombytes() instead.\n",
        "  image = Image.fromstring('L',shape,bytedata.tostring())\n",
        "/usr/lib/python2.7/dist-packages/scipy/misc/pilutil.py:210: DeprecationWarning: fromstring() is deprecated. Please call frombytes() instead.\n",
        "  image = Image.fromstring('L',shape,bytedata.tostring())\n",
        "/usr/lib/python2.7/dist-packages/scipy/misc/pilutil.py:210: DeprecationWarning: fromstring() is deprecated. Please call frombytes() instead.\n",
        "  image = Image.fromstring('L',shape,bytedata.tostring())\n"
       ]
      },
      {
       "output_type": "stream",
       "stream": "stderr",
       "text": [
        "/usr/lib/python2.7/dist-packages/scipy/misc/pilutil.py:210: DeprecationWarning: fromstring() is deprecated. Please call frombytes() instead.\n",
        "  image = Image.fromstring('L',shape,bytedata.tostring())\n",
        "/usr/lib/python2.7/dist-packages/scipy/misc/pilutil.py:210: DeprecationWarning: fromstring() is deprecated. Please call frombytes() instead.\n",
        "  image = Image.fromstring('L',shape,bytedata.tostring())\n",
        "/usr/lib/python2.7/dist-packages/scipy/misc/pilutil.py:210: DeprecationWarning: fromstring() is deprecated. Please call frombytes() instead.\n",
        "  image = Image.fromstring('L',shape,bytedata.tostring())\n",
        "/usr/lib/python2.7/dist-packages/scipy/misc/pilutil.py:210: DeprecationWarning: fromstring() is deprecated. Please call frombytes() instead.\n",
        "  image = Image.fromstring('L',shape,bytedata.tostring())\n"
       ]
      },
      {
       "output_type": "stream",
       "stream": "stderr",
       "text": [
        "/usr/lib/python2.7/dist-packages/scipy/misc/pilutil.py:210: DeprecationWarning: fromstring() is deprecated. Please call frombytes() instead.\n",
        "  image = Image.fromstring('L',shape,bytedata.tostring())\n",
        "/usr/lib/python2.7/dist-packages/scipy/misc/pilutil.py:210: DeprecationWarning: fromstring() is deprecated. Please call frombytes() instead.\n",
        "  image = Image.fromstring('L',shape,bytedata.tostring())\n",
        "/usr/lib/python2.7/dist-packages/scipy/misc/pilutil.py:210: DeprecationWarning: fromstring() is deprecated. Please call frombytes() instead.\n",
        "  image = Image.fromstring('L',shape,bytedata.tostring())\n",
        "/usr/lib/python2.7/dist-packages/scipy/misc/pilutil.py:210: DeprecationWarning: fromstring() is deprecated. Please call frombytes() instead.\n",
        "  image = Image.fromstring('L',shape,bytedata.tostring())\n"
       ]
      },
      {
       "output_type": "stream",
       "stream": "stderr",
       "text": [
        "/usr/lib/python2.7/dist-packages/scipy/misc/pilutil.py:210: DeprecationWarning: fromstring() is deprecated. Please call frombytes() instead.\n",
        "  image = Image.fromstring('L',shape,bytedata.tostring())\n",
        "/usr/lib/python2.7/dist-packages/scipy/misc/pilutil.py:210: DeprecationWarning: fromstring() is deprecated. Please call frombytes() instead.\n",
        "  image = Image.fromstring('L',shape,bytedata.tostring())\n",
        "/usr/lib/python2.7/dist-packages/scipy/misc/pilutil.py:210: DeprecationWarning: fromstring() is deprecated. Please call frombytes() instead.\n",
        "  image = Image.fromstring('L',shape,bytedata.tostring())\n",
        "/usr/lib/python2.7/dist-packages/scipy/misc/pilutil.py:210: DeprecationWarning: fromstring() is deprecated. Please call frombytes() instead.\n",
        "  image = Image.fromstring('L',shape,bytedata.tostring())\n"
       ]
      },
      {
       "output_type": "stream",
       "stream": "stderr",
       "text": [
        "/usr/lib/python2.7/dist-packages/scipy/misc/pilutil.py:210: DeprecationWarning: fromstring() is deprecated. Please call frombytes() instead.\n",
        "  image = Image.fromstring('L',shape,bytedata.tostring())\n",
        "/usr/lib/python2.7/dist-packages/scipy/misc/pilutil.py:210: DeprecationWarning: fromstring() is deprecated. Please call frombytes() instead.\n",
        "  image = Image.fromstring('L',shape,bytedata.tostring())\n",
        "/usr/lib/python2.7/dist-packages/scipy/misc/pilutil.py:210: DeprecationWarning: fromstring() is deprecated. Please call frombytes() instead.\n",
        "  image = Image.fromstring('L',shape,bytedata.tostring())\n",
        "/usr/lib/python2.7/dist-packages/scipy/misc/pilutil.py:210: DeprecationWarning: fromstring() is deprecated. Please call frombytes() instead.\n",
        "  image = Image.fromstring('L',shape,bytedata.tostring())\n"
       ]
      },
      {
       "output_type": "stream",
       "stream": "stderr",
       "text": [
        "/usr/lib/python2.7/dist-packages/scipy/misc/pilutil.py:210: DeprecationWarning: fromstring() is deprecated. Please call frombytes() instead.\n",
        "  image = Image.fromstring('L',shape,bytedata.tostring())\n",
        "/usr/lib/python2.7/dist-packages/scipy/misc/pilutil.py:210: DeprecationWarning: fromstring() is deprecated. Please call frombytes() instead.\n",
        "  image = Image.fromstring('L',shape,bytedata.tostring())\n",
        "/usr/lib/python2.7/dist-packages/scipy/misc/pilutil.py:210: DeprecationWarning: fromstring() is deprecated. Please call frombytes() instead.\n",
        "  image = Image.fromstring('L',shape,bytedata.tostring())\n",
        "/usr/lib/python2.7/dist-packages/scipy/misc/pilutil.py:210: DeprecationWarning: fromstring() is deprecated. Please call frombytes() instead.\n",
        "  image = Image.fromstring('L',shape,bytedata.tostring())\n"
       ]
      },
      {
       "output_type": "stream",
       "stream": "stderr",
       "text": [
        "/usr/lib/python2.7/dist-packages/scipy/misc/pilutil.py:210: DeprecationWarning: fromstring() is deprecated. Please call frombytes() instead.\n",
        "  image = Image.fromstring('L',shape,bytedata.tostring())\n",
        "/usr/lib/python2.7/dist-packages/scipy/misc/pilutil.py:210: DeprecationWarning: fromstring() is deprecated. Please call frombytes() instead.\n",
        "  image = Image.fromstring('L',shape,bytedata.tostring())\n",
        "/usr/lib/python2.7/dist-packages/scipy/misc/pilutil.py:210: DeprecationWarning: fromstring() is deprecated. Please call frombytes() instead.\n",
        "  image = Image.fromstring('L',shape,bytedata.tostring())\n"
       ]
      },
      {
       "output_type": "pyout",
       "prompt_number": 32,
       "text": [
        "'../../images/testsets/Graf/NR22QM'"
       ]
      }
     ],
     "prompt_number": 32
    },
    {
     "cell_type": "code",
     "collapsed": false,
     "input": [
      "def transform(p, hom) :\n",
      "    p_n = hom.dot(numpy.array([p[0], p[1], 1]))\n",
      "    return p_n[0:2]/float(p_n[2])"
     ],
     "language": "python",
     "metadata": {},
     "outputs": [],
     "prompt_number": 12
    },
    {
     "cell_type": "code",
     "collapsed": false,
     "input": [
      "cropped_paths = [test_path + \"_1.jpg\", test_path + \"_2.jpg\"]\n",
      "im1, im2 = map(features.loadImage, cropped_paths)\n",
      "hom = matching.getHomography(test_path)\n",
      "print(hom)\n",
      "indices, ks, ds = features.getFeatures(cropped_paths, \"HARRIS\", \"BRIEF\")\n",
      "pos = numpy.array(features.getPositions(ks))\n",
      "pos_n = array([transform(p, hom) for p in pos[indices == 0]])\n",
      "display.compareKeypoints(im1, im2, pos[indices == 0], pos_n)"
     ],
     "language": "python",
     "metadata": {},
     "outputs": [
      {
       "output_type": "stream",
       "stream": "stdout",
       "text": [
        "[[  7.24522968e-01  -2.94785673e-01   4.91836626e+01]\n",
        " [  2.57200544e-01   1.01472161e+00   1.12461942e+01]\n",
        " [  4.65041388e-04   1.12528229e-05   1.00000000e+00]]\n"
       ]
      },
      {
       "output_type": "display_data",
       "png": "[encoded data removed]"
      }
     ],
     "prompt_number": 148
    },
    {
     "cell_type": "code",
     "collapsed": false,
     "input": [
      "homography/4"
     ],
     "language": "python",
     "metadata": {},
     "outputs": []
    },
    {
     "cell_type": "code",
     "collapsed": false,
     "input": [
      "def isAbove(l, p) :\n",
      "    return l[0]*p[0] + l[1] - p[1] <= 0"
     ],
     "language": "python",
     "metadata": {},
     "outputs": []
    },
    {
     "cell_type": "code",
     "collapsed": false,
     "input": [
      "def reorder(corners) : \n",
      "    xs = [x for x,y in corners]\n",
      "    ys = [y for x,y in corners]\n",
      "    y_sort = numpy.argsort(ys)\n",
      "    x_sort = numpy.argsort(xs)\n",
      "    \n",
      "    fst_y = y_sort[-1]\n",
      "    snd_y = y_sort[-2]\n",
      "    fst_x = x_sort[-1]\n",
      "    snd_x = x_sort[-2]\n",
      "    \n",
      "    if ys[fst_y] == ys[snd_y] :\n",
      "        if xs[fst_y] < xs[snd_y] :\n",
      "            top_left = (xs[fst_y], ys[fst_y])\n",
      "            top_right = (xs[snd_y], ys[snd_y])\n",
      "        else :\n",
      "            top_right = (xs[fst_y], ys[fst_y])\n",
      "            top_left = (xs[snd_y], ys[snd_y])\n",
      "    \n",
      "    elif xs[fst_y] == xs[snd_y] :\n",
      "        top_left = (xs[snd_y], ys[snd_y])\n",
      "        top_right = (xs[fst_y], ys[fst_y])\n",
      "    \n",
      "    elif xs[fst_y] < xs[snd_y] :\n",
      "        top_left = (xs[fst_y], ys[fst_y])\n",
      "        top_right = (xs[snd_y], ys[snd_y])\n",
      "    \n",
      "    else :\n",
      "        top_right = (xs[fst_y], ys[fst_y])\n",
      "        top_left = (xs[snd_y], ys[snd_y])\n",
      "        \n",
      "    fst_y = y_sort[0]\n",
      "    snd_y = y_sort[1]\n",
      "    fst_x = x_sort[0]\n",
      "    snd_x = x_sort[1]\n",
      "        \n",
      "    if ys[fst_y] == ys[snd_y] :\n",
      "        if xs[fst_y] < xs[snd_y] :\n",
      "            bot_left = (xs[fst_y], ys[fst_y])\n",
      "            bot_right = (xs[snd_y], ys[snd_y])\n",
      "        else :\n",
      "            bot_right = (xs[fst_y], ys[fst_y])\n",
      "            bot_left = (xs[snd_y], ys[snd_y])\n",
      "       \n",
      "    elif xs[fst_y] == xs[snd_y] :\n",
      "        bot_right = (xs[snd_y], ys[snd_y])\n",
      "        bot_left = (xs[fst_y], ys[fst_y])\n",
      "    \n",
      "    elif xs[fst_y] < xs[snd_y] :\n",
      "        bot_left = (xs[fst_y], ys[fst_y])\n",
      "        bot_right = (xs[snd_y], ys[snd_y])\n",
      "    \n",
      "    else :\n",
      "        bot_right = (xs[fst_y], ys[fst_y])\n",
      "        bot_left = (xs[snd_y], ys[snd_y])\n",
      "    \n",
      "    return [top_left, top_right, bot_right, bot_left]\n",
      "    \n",
      "reorder([(2,0),(2,-1),(0,1),(0,2)])\n",
      "            \n",
      "            "
     ],
     "language": "python",
     "metadata": {},
     "outputs": []
    },
    {
     "cell_type": "code",
     "collapsed": false,
     "input": [
      "def above(a,b) :\n",
      "    b_v = array([-1*b[1], b[0]])\n",
      "    B = numpy.array([b, b_v]).T\n",
      "    a_n = numpy.linalg.inv(B).dot(a)\n",
      "    return a_n[1] > 0\n",
      "\n",
      "# assumes corners following each other clockwise starting with the topmost\n",
      "def isWithin(corners, point) :\n",
      "    cs = reorder(corners)\n",
      "    def isAbove(i,j) :\n",
      "        base = corners[j] - corners[i]\n",
      "        p = corners[j] - point\n",
      "        return above(p, base)\n",
      "        \n",
      "    return isAbove(0,1) and isAbove(1,2) and isAbove(2,3) and isAbove(3,0)\n",
      "\n",
      "isWithin(map(array,[(1,2),(2,1),(1,0),(0,1)]), (1.09,0.1))"
     ],
     "language": "python",
     "metadata": {},
     "outputs": []
    },
    {
     "cell_type": "code",
     "collapsed": false,
     "input": [
      "def getRandCoord(top_left, width, height) :\n",
      "    return (random.randint(top_left[0],width), random.randint(top_left[1],height))\n",
      "getRandCoord((top,left), width, height)"
     ],
     "language": "python",
     "metadata": {},
     "outputs": []
    },
    {
     "cell_type": "code",
     "collapsed": false,
     "input": [
      "points = [getRandCoord((top,left), width, height) for i in range(1000)]\n",
      "#print(points)\n",
      "print(corners_t)\n",
      "estimate = [isWithin(corners_t, p) for p in points]\n",
      "ratio = numpy.sum(estimate)/float(len(estimate))\n",
      "print(ratio)\n",
      "             "
     ],
     "language": "python",
     "metadata": {},
     "outputs": []
    },
    {
     "cell_type": "code",
     "collapsed": false,
     "input": [
      "from os.path import dirname\n",
      "\n",
      "dirname(\"/blah/blup\")"
     ],
     "language": "python",
     "metadata": {},
     "outputs": []
    },
    {
     "cell_type": "code",
     "collapsed": false,
     "input": [
      "l = [[1,2,3,4]]\n",
      "l[0:1] = l[0]\n",
      "l"
     ],
     "language": "python",
     "metadata": {},
     "outputs": []
    }
   ],
   "metadata": {}
  }
 ]
}
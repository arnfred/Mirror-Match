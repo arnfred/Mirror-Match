{
 "metadata": {
  "name": "Louvain-Auto-Size-ClusterHighest-4-Gallagher"
 },
 "nbformat": 3,
 "nbformat_minor": 0,
 "worksheets": [
  {
   "cells": [
    {
     "cell_type": "code",
     "collapsed": false,
     "input": [
      "#Stupid hack to load files from sibling dir\n",
      "import sys; import os\n",
      "sys.path.insert(0, os.path.abspath('..'))\n",
      "\n",
      "%load_ext autoreload\n",
      "%autoreload 2"
     ],
     "language": "python",
     "metadata": {},
     "outputs": [],
     "prompt_number": 1
    },
    {
     "cell_type": "code",
     "collapsed": false,
     "input": [
      "import os\n",
      "import fnmatch\n",
      "import features\n",
      "import scoring\n",
      "import display\n",
      "import louvain\n",
      "import weightMatrix as wm\n",
      "from itertools import combinations\n",
      "from itertools import izip\n",
      "from itertools import imap\n",
      "\n",
      "# testset = \"../../images/testsets/WC818C/\"\n",
      "#testset = \"../../images/testsets/small_test/\"\n",
      "testset = \"../../images/testsets/Gallagher_small_unresized/\"\n",
      "\n",
      "# Get a list of all image pairs\n",
      "all_paths = [testset + f for (_,_,filenames) in os.walk(testset) for f in fnmatch.filter(filenames, \"*.jpg\")]\n",
      "all_labels = map(features.getLabel,all_paths)\n",
      "path_pairs = combinations(all_paths, 2)\n",
      "label_pairs = combinations(all_labels, 2)"
     ],
     "language": "python",
     "metadata": {},
     "outputs": [],
     "prompt_number": 2
    },
    {
     "cell_type": "code",
     "collapsed": false,
     "input": [
      "#cluster.scoreImagePair(pairs.next())\n",
      "result = [((l1 == l2), scoring.scoreImages(paths=[p1, p2], cluster_prune=wm.pruneHighest, score_edges=20, cluster_edges=4), (p1, p2))\n",
      "        for ((p1, p2), (l1, l2)) \n",
      "        in izip(path_pairs, label_pairs)]"
     ],
     "language": "python",
     "metadata": {},
     "outputs": [
      {
       "output_type": "stream",
       "stream": "stdout",
       "text": [
        "Score: 0.0075 for 32 and 27 (certainty: 0.51)\n",
        "Score: 0.0137 for 32 and 23 (certainty: 0.91)"
       ]
      },
      {
       "output_type": "stream",
       "stream": "stdout",
       "text": [
        "\n",
        "Score: 0.0197 for 32 and 21 (certainty: 0.91)"
       ]
      },
      {
       "output_type": "stream",
       "stream": "stdout",
       "text": [
        "\n",
        "Score: 0.0133 for 32 and 25 (certainty: 0.75)"
       ]
      },
      {
       "output_type": "stream",
       "stream": "stdout",
       "text": [
        "\n",
        "Score: 0.0105 for 32 and 23 (certainty: 0.96)"
       ]
      },
      {
       "output_type": "stream",
       "stream": "stdout",
       "text": [
        "\n",
        "Score: 0.0128 for 32 and 25 (certainty: 0.84)"
       ]
      },
      {
       "output_type": "stream",
       "stream": "stdout",
       "text": [
        "\n",
        "Score: 0.0213 for 32 and 26 (certainty: 0.75)"
       ]
      },
      {
       "output_type": "stream",
       "stream": "stdout",
       "text": [
        "\n",
        "Score: 0.0004 for 32 and 18 (certainty: 0.36)\n",
        "['../../images/testsets/Gallagher_small_unresized/32_842.jpg', '../../images/testsets/Gallagher_small_unresized/19_190.jpg']\n",
        "No descriptors found. Returning score 0\n",
        "Score: 0.0038 for 32 and 15 (certainty: 0.51)"
       ]
      },
      {
       "output_type": "stream",
       "stream": "stdout",
       "text": [
        "\n",
        "Score: 0.0153 for 32 and 14 (certainty: 0.64)"
       ]
      },
      {
       "output_type": "stream",
       "stream": "stdout",
       "text": [
        "\n",
        "Score: 0.0088 for 32 and 25 (certainty: 1.00)"
       ]
      },
      {
       "output_type": "stream",
       "stream": "stdout",
       "text": [
        "\n",
        "Score: 0.0162 for 32 and 25 (certainty: 0.91)"
       ]
      },
      {
       "output_type": "stream",
       "stream": "stdout",
       "text": [
        "\n",
        "Score: 0.0186 for 32 and 32 (certainty: 0.96)"
       ]
      },
      {
       "output_type": "stream",
       "stream": "stdout",
       "text": [
        "\n",
        "Score: 0.0129 for 32 and 30 (certainty: 0.64)"
       ]
      },
      {
       "output_type": "stream",
       "stream": "stdout",
       "text": [
        "\n",
        "Score: 0.0075 for 32 and 28 (certainty: 0.36)"
       ]
      },
      {
       "output_type": "stream",
       "stream": "stdout",
       "text": [
        "\n",
        "Score: 0.0316 for 32 and 30 (certainty: 0.64)"
       ]
      },
      {
       "output_type": "stream",
       "stream": "stdout",
       "text": [
        "\n",
        "Score: 0.0074 for 32 and 26 (certainty: 0.84)"
       ]
      },
      {
       "output_type": "stream",
       "stream": "stdout",
       "text": [
        "\n",
        "Score: 0.0065 for 32 and 15 (certainty: 0.75)"
       ]
      },
      {
       "output_type": "stream",
       "stream": "stdout",
       "text": [
        "\n",
        "Score: 0.0195 for 32 and 21 (certainty: 0.84)"
       ]
      },
      {
       "output_type": "stream",
       "stream": "stdout",
       "text": [
        "\n",
        "Score: 0.0132 for 32 and 24 (certainty: 0.64)"
       ]
      },
      {
       "output_type": "stream",
       "stream": "stdout",
       "text": [
        "\n",
        "Score: 0.0041 for 32 and 17 (certainty: 0.75)"
       ]
      },
      {
       "output_type": "stream",
       "stream": "stdout",
       "text": [
        "\n",
        "Score: 0.0034 for 32 and 14 (certainty: 0.36)"
       ]
      },
      {
       "output_type": "stream",
       "stream": "stdout",
       "text": [
        "\n",
        "Score: 0.0022 for 32 and 28 (certainty: 0.64)"
       ]
      },
      {
       "output_type": "stream",
       "stream": "stdout",
       "text": [
        "\n",
        "Score: 0.0063 for 32 and 27 (certainty: 0.51)"
       ]
      },
      {
       "output_type": "stream",
       "stream": "stdout",
       "text": [
        "\n",
        "Score: 0.0185 for 32 and 22 (certainty: 0.64)\n",
        "Score: 0.0133 for 32 and 29 (certainty: 0.75)"
       ]
      },
      {
       "output_type": "stream",
       "stream": "stdout",
       "text": [
        "\n",
        "Score: 0.0128 for 32 and 15 (certainty: 0.75)"
       ]
      },
      {
       "output_type": "stream",
       "stream": "stdout",
       "text": [
        "\n",
        "Score: 0.0125 for 32 and 25 (certainty: 0.91)"
       ]
      },
      {
       "output_type": "stream",
       "stream": "stdout",
       "text": [
        "\n",
        "Score: 0.0133 for 32 and 23 (certainty: 0.99)"
       ]
      },
      {
       "output_type": "stream",
       "stream": "stdout",
       "text": [
        "\n",
        "Score: 0.0051 for 32 and 16 (certainty: 0.51)"
       ]
      },
      {
       "output_type": "stream",
       "stream": "stdout",
       "text": [
        "\n",
        "Score: 0.0060 for 32 and 18 (certainty: 0.36)"
       ]
      },
      {
       "output_type": "stream",
       "stream": "stdout",
       "text": [
        "\n",
        "Score: 0.0067 for 32 and 25 (certainty: 0.75)"
       ]
      },
      {
       "output_type": "stream",
       "stream": "stdout",
       "text": [
        "\n",
        "Score: 0.0129 for 32 and 32 (certainty: 0.99)"
       ]
      },
      {
       "output_type": "stream",
       "stream": "stdout",
       "text": [
        "\n",
        "Score: 0.0214 for 32 and 19 (certainty: 0.96)"
       ]
      },
      {
       "output_type": "stream",
       "stream": "stdout",
       "text": [
        "\n",
        "Score: 0.0175 for 32 and 21 (certainty: 0.75)"
       ]
      },
      {
       "output_type": "stream",
       "stream": "stdout",
       "text": [
        "\n",
        "Score: 0.0205 for 32 and 14 (certainty: 0.84)"
       ]
      },
      {
       "output_type": "stream",
       "stream": "stdout",
       "text": [
        "\n",
        "Score: 0.0097 for 32 and 26 (certainty: 0.19)"
       ]
      },
      {
       "output_type": "stream",
       "stream": "stdout",
       "text": [
        "\n",
        "Score: 0.0098 for 32 and 22 (certainty: 0.51)\n",
        "Score: 0.0079 for 32 and 29 (certainty: 0.51)"
       ]
      },
      {
       "output_type": "stream",
       "stream": "stdout",
       "text": [
        "\n",
        "Score: 0.0117 for 32 and 13 (certainty: 0.91)"
       ]
      },
      {
       "output_type": "stream",
       "stream": "stdout",
       "text": [
        "\n",
        "Score: 0.0053 for 32 and 28 (certainty: 0.75)"
       ]
      },
      {
       "output_type": "stream",
       "stream": "stdout",
       "text": [
        "\n",
        "Score: 0.0034 for 32 and 13 (certainty: 0.51)"
       ]
      },
      {
       "output_type": "stream",
       "stream": "stdout",
       "text": [
        "\n",
        "Score: 0.0205 for 32 and 14 (certainty: 0.84)"
       ]
      },
      {
       "output_type": "stream",
       "stream": "stdout",
       "text": [
        "\n",
        "Score: 0.0220 for 32 and 14 (certainty: 0.91)"
       ]
      },
      {
       "output_type": "stream",
       "stream": "stdout",
       "text": [
        "\n",
        "Score: 0.0096 for 32 and 27 (certainty: 0.91)"
       ]
      },
      {
       "output_type": "stream",
       "stream": "stdout",
       "text": [
        "\n",
        "Score: 0.0063 for 32 and 17 (certainty: 0.75)"
       ]
      },
      {
       "output_type": "stream",
       "stream": "stdout",
       "text": [
        "\n",
        "Score: 0.0054 for 32 and 19 (certainty: 0.51)"
       ]
      },
      {
       "output_type": "stream",
       "stream": "stdout",
       "text": [
        "\n",
        "Score: 0.0130 for 32 and 31 (certainty: 0.75)"
       ]
      },
      {
       "output_type": "stream",
       "stream": "stdout",
       "text": [
        "\n",
        "Score: 0.0106 for 32 and 21 (certainty: 0.64)"
       ]
      },
      {
       "output_type": "stream",
       "stream": "stdout",
       "text": [
        "\n",
        "Score: 0.0131 for 32 and 23 (certainty: 0.96)"
       ]
      },
      {
       "output_type": "stream",
       "stream": "stdout",
       "text": [
        "\n",
        "Score: 0.0260 for 32 and 25 (certainty: 0.51)"
       ]
      },
      {
       "output_type": "stream",
       "stream": "stdout",
       "text": [
        "\n",
        "Score: 0.0020 for 32 and 23 (certainty: 0.19)\n",
        "Score: 0.0070 for 32 and 31 (certainty: 0.51)"
       ]
      },
      {
       "output_type": "stream",
       "stream": "stdout",
       "text": [
        "\n",
        "Score: 0.0039 for 32 and 15 (certainty: 0.51)"
       ]
      },
      {
       "output_type": "stream",
       "stream": "stdout",
       "text": [
        "\n",
        "Score: 0.0122 for 32 and 23 (certainty: 0.64)"
       ]
      },
      {
       "output_type": "stream",
       "stream": "stdout",
       "text": [
        "\n",
        "Score: 0.0072 for 32 and 18 (certainty: 0.84)"
       ]
      },
      {
       "output_type": "stream",
       "stream": "stdout",
       "text": [
        "\n",
        "Score: 0.0117 for 32 and 15 (certainty: 0.91)"
       ]
      },
      {
       "output_type": "stream",
       "stream": "stdout",
       "text": [
        "\n",
        "Score: 0.0042 for 32 and 16 (certainty: 0.75)"
       ]
      },
      {
       "output_type": "stream",
       "stream": "stdout",
       "text": [
        "\n",
        "Score: 0.0080 for 32 and 23 (certainty: 0.64)"
       ]
      },
      {
       "output_type": "stream",
       "stream": "stdout",
       "text": [
        "\n",
        "Score: 0.0008 for 32 and 23 (certainty: 0.75)"
       ]
      },
      {
       "output_type": "stream",
       "stream": "stdout",
       "text": [
        "\n",
        "Score: 0.0016 for 32 and 32 (certainty: 0.51)\n",
        "Score: 0.0186 for 32 and 15 (certainty: 0.75)"
       ]
      },
      {
       "output_type": "stream",
       "stream": "stdout",
       "text": [
        "\n",
        "Score: 0.0042 for 32 and 24 (certainty: 0.75)"
       ]
      },
      {
       "output_type": "stream",
       "stream": "stdout",
       "text": [
        "\n",
        "Score: 0.0141 for 32 and 25 (certainty: 0.64)"
       ]
      },
      {
       "output_type": "stream",
       "stream": "stdout",
       "text": [
        "\n",
        "Score: 0.0104 for 32 and 30 (certainty: 0.51)"
       ]
      },
      {
       "output_type": "stream",
       "stream": "stdout",
       "text": [
        "\n",
        "Score: 0.0099 for 32 and 32 (certainty: 0.75)"
       ]
      },
      {
       "output_type": "stream",
       "stream": "stdout",
       "text": [
        "\n",
        "['../../images/testsets/Gallagher_small_unresized/32_842.jpg', '../../images/testsets/Gallagher_small_unresized/29_538.jpg']\n",
        "No descriptors found. Returning score 0\n",
        "Score: 0.0052 for 32 and 21 (certainty: 0.75)"
       ]
      },
      {
       "output_type": "stream",
       "stream": "stdout",
       "text": [
        "\n",
        "Score: 0.0156 for 32 and 20 (certainty: 0.84)"
       ]
      },
      {
       "output_type": "stream",
       "stream": "stdout",
       "text": [
        "\n",
        "Score: 0.0110 for 32 and 15 (certainty: 0.75)"
       ]
      },
      {
       "output_type": "stream",
       "stream": "stdout",
       "text": [
        "\n",
        "Score: 0.0065 for 32 and 15 (certainty: 0.96)"
       ]
      },
      {
       "output_type": "stream",
       "stream": "stdout",
       "text": [
        "\n",
        "Score: 0.0117 for 32 and 19 (certainty: 0.64)"
       ]
      },
      {
       "output_type": "stream",
       "stream": "stdout",
       "text": [
        "\n",
        "Score: 0.0198 for 32 and 19 (certainty: 0.91)"
       ]
      },
      {
       "output_type": "stream",
       "stream": "stdout",
       "text": [
        "\n",
        "Score: 0.0229 for 32 and 21 (certainty: 0.84)"
       ]
      },
      {
       "output_type": "stream",
       "stream": "stdout",
       "text": [
        "\n",
        "Score: 0.0100 for 32 and 26 (certainty: 0.75)"
       ]
      },
      {
       "output_type": "stream",
       "stream": "stdout",
       "text": [
        "\n",
        "Score: 0.0261 for 32 and 27 (certainty: 0.75)"
       ]
      },
      {
       "output_type": "stream",
       "stream": "stdout",
       "text": [
        "\n",
        "Score: 0.0358 for 32 and 15 (certainty: 0.84)"
       ]
      },
      {
       "output_type": "stream",
       "stream": "stdout",
       "text": [
        "\n",
        "Score: 0.0200 for 32 and 15 (certainty: 0.84)"
       ]
      },
      {
       "output_type": "stream",
       "stream": "stdout",
       "text": [
        "\n",
        "Score: 0.0181 for 32 and 21 (certainty: 0.75)"
       ]
      },
      {
       "output_type": "stream",
       "stream": "stdout",
       "text": [
        "\n",
        "Score: 0.0078 for 32 and 15 (certainty: 0.19)\n",
        "Score: 0.0159 for 32 and 16 (certainty: 0.64)"
       ]
      },
      {
       "output_type": "stream",
       "stream": "stdout",
       "text": [
        "\n",
        "Score: 0.0171 for 32 and 17 (certainty: 0.64)\n",
        "Score: 0.0033 for 32 and 28 (certainty: 0.36)"
       ]
      },
      {
       "output_type": "stream",
       "stream": "stdout",
       "text": [
        "\n",
        "Score: 0.0132 for 32 and 27 (certainty: 0.75)"
       ]
      },
      {
       "output_type": "stream",
       "stream": "stdout",
       "text": [
        "\n",
        "Score: 0.0075 for 32 and 13 (certainty: 0.64)"
       ]
      },
      {
       "output_type": "stream",
       "stream": "stdout",
       "text": [
        "\n",
        "Score: 0.0077 for 32 and 23 (certainty: 0.96)"
       ]
      },
      {
       "output_type": "stream",
       "stream": "stdout",
       "text": [
        "\n",
        "Score: 0.0000 for 27 and 23 (certainty: 0.36)"
       ]
      },
      {
       "output_type": "stream",
       "stream": "stdout",
       "text": [
        "\n",
        "Score: 0.0044 for 27 and 21 (certainty: 0.36)"
       ]
      },
      {
       "output_type": "stream",
       "stream": "stdout",
       "text": [
        "\n",
        "Score: 0.0000 for 27 and 25 (certainty: 0.19)"
       ]
      },
      {
       "output_type": "stream",
       "stream": "stdout",
       "text": [
        "\n",
        "Score: 0.0047 for 27 and 23 (certainty: 0.64)"
       ]
      },
      {
       "output_type": "stream",
       "stream": "stdout",
       "text": [
        "\n",
        "Score: 0.0053 for 27 and 25 (certainty: 0.51)"
       ]
      },
      {
       "output_type": "stream",
       "stream": "stdout",
       "text": [
        "\n",
        "Score: 0.0043 for 27 and 26 (certainty: 0.64)"
       ]
      },
      {
       "output_type": "stream",
       "stream": "stdout",
       "text": [
        "\n",
        "Score: 0.0035 for 27 and 18 (certainty: 0.19)\n",
        "['../../images/testsets/Gallagher_small_unresized/27_536.jpg', '../../images/testsets/Gallagher_small_unresized/19_190.jpg']\n",
        "No descriptors found. Returning score 0\n",
        "Score: 0.0050 for 27 and 15 (certainty: 0.36)"
       ]
      },
      {
       "output_type": "stream",
       "stream": "stdout",
       "text": [
        "\n",
        "Score: 0.0000 for 27 and 14 (certainty: 0.36)"
       ]
      },
      {
       "output_type": "stream",
       "stream": "stdout",
       "text": [
        "\n",
        "Score: 0.0025 for 27 and 25 (certainty: 0.51)"
       ]
      },
      {
       "output_type": "stream",
       "stream": "stdout",
       "text": [
        "\n",
        "Score: 0.0013 for 27 and 25 (certainty: 0.51)"
       ]
      },
      {
       "output_type": "stream",
       "stream": "stdout",
       "text": [
        "\n",
        "Score: 0.0042 for 27 and 32 (certainty: 0.36)"
       ]
      },
      {
       "output_type": "stream",
       "stream": "stdout",
       "text": [
        "\n",
        "Score: 0.0000 for 27 and 30 (certainty: 0.19)"
       ]
      },
      {
       "output_type": "stream",
       "stream": "stdout",
       "text": [
        "\n",
        "Score: 0.0114 for 27 and 28 (certainty: 0.64)"
       ]
      },
      {
       "output_type": "stream",
       "stream": "stdout",
       "text": [
        "\n",
        "Score: 0.0011 for 27 and 30 (certainty: 0.36)\n",
        "Score: 0.0031 for 27 and 26 (certainty: 0.51)"
       ]
      },
      {
       "output_type": "stream",
       "stream": "stdout",
       "text": [
        "\n",
        "Score: 0.0034 for 27 and 15 (certainty: 0.51)"
       ]
      },
      {
       "output_type": "stream",
       "stream": "stdout",
       "text": [
        "\n",
        "Score: 0.0088 for 27 and 21 (certainty: 0.51)"
       ]
      },
      {
       "output_type": "stream",
       "stream": "stdout",
       "text": [
        "\n",
        "Score: 0.0015 for 27 and 24 (certainty: 0.36)"
       ]
      },
      {
       "output_type": "stream",
       "stream": "stdout",
       "text": [
        "\n",
        "Score: 0.0019 for 27 and 17 (certainty: 0.51)"
       ]
      },
      {
       "output_type": "stream",
       "stream": "stdout",
       "text": [
        "\n",
        "Score: 0.0025 for 27 and 14 (certainty: 0.19)\n",
        "Score: 0.0053 for 27 and 28 (certainty: 0.36)"
       ]
      },
      {
       "output_type": "stream",
       "stream": "stdout",
       "text": [
        "\n",
        "Score: 0.0352 for 27 and 27 (certainty: 0.75)\n",
        "Score: 0.0064 for 27 and 22 (certainty: 0.36)"
       ]
      },
      {
       "output_type": "stream",
       "stream": "stdout",
       "text": [
        "\n",
        "Score: 0.0107 for 27 and 29 (certainty: 0.51)"
       ]
      },
      {
       "output_type": "stream",
       "stream": "stdout",
       "text": [
        "\n",
        "Score: 0.0011 for 27 and 15 (certainty: 0.19)"
       ]
      },
      {
       "output_type": "stream",
       "stream": "stdout",
       "text": [
        "\n",
        "Score: 0.0013 for 27 and 25 (certainty: 0.36)"
       ]
      },
      {
       "output_type": "stream",
       "stream": "stdout",
       "text": [
        "\n",
        "Score: 0.0044 for 27 and 23 (certainty: 0.51)"
       ]
      },
      {
       "output_type": "stream",
       "stream": "stdout",
       "text": [
        "\n",
        "Score: 0.0052 for 27 and 16 (certainty: 0.51)\n",
        "Score: 0.0135 for 27 and 18 (certainty: 0.51)"
       ]
      },
      {
       "output_type": "stream",
       "stream": "stdout",
       "text": [
        "\n",
        "Score: 0.0083 for 27 and 25 (certainty: 0.51)"
       ]
      },
      {
       "output_type": "stream",
       "stream": "stdout",
       "text": [
        "\n",
        "Score: 0.0039 for 27 and 32 (certainty: 0.51)"
       ]
      },
      {
       "output_type": "stream",
       "stream": "stdout",
       "text": [
        "\n",
        "Score: 0.0012 for 27 and 19 (certainty: 0.51)\n",
        "Score: 0.0113 for 27 and 21 (certainty: 0.36)"
       ]
      },
      {
       "output_type": "stream",
       "stream": "stdout",
       "text": [
        "\n",
        "Score: 0.0018 for 27 and 14 (certainty: 0.51)"
       ]
      },
      {
       "output_type": "stream",
       "stream": "stdout",
       "text": [
        "\n",
        "Score: 0.0139 for 27 and 26 (certainty: 0.64)\n",
        "Score: 0.0030 for 27 and 22 (certainty: 0.36)"
       ]
      },
      {
       "output_type": "stream",
       "stream": "stdout",
       "text": [
        "\n",
        "Score: 0.0002 for 27 and 29 (certainty: 0.51)"
       ]
      },
      {
       "output_type": "stream",
       "stream": "stdout",
       "text": [
        "\n",
        "Score: 0.0006 for 27 and 13 (certainty: 0.36)"
       ]
      },
      {
       "output_type": "stream",
       "stream": "stdout",
       "text": [
        "\n",
        "Score: 0.0006 for 27 and 28 (certainty: 0.36)"
       ]
      },
      {
       "output_type": "stream",
       "stream": "stdout",
       "text": [
        "\n",
        "Score: 0.0022 for 27 and 13 (certainty: 0.51)\n",
        "Score: 0.0065 for 27 and 14 (certainty: 0.51)"
       ]
      },
      {
       "output_type": "stream",
       "stream": "stdout",
       "text": [
        "\n",
        "Score: 0.0000 for 27 and 14 (certainty: 0.36)"
       ]
      },
      {
       "output_type": "stream",
       "stream": "stdout",
       "text": [
        "\n",
        "Score: 0.0217 for 27 and 27 (certainty: 0.64)"
       ]
      },
      {
       "output_type": "stream",
       "stream": "stdout",
       "text": [
        "\n",
        "Score: 0.0000 for 27 and 17 (certainty: 0.51)"
       ]
      },
      {
       "output_type": "stream",
       "stream": "stdout",
       "text": [
        "\n",
        "Score: 0.0048 for 27 and 19 (certainty: 0.36)\n",
        "Score: 0.0099 for 27 and 31 (certainty: 0.51)"
       ]
      },
      {
       "output_type": "stream",
       "stream": "stdout",
       "text": [
        "\n",
        "Score: 0.0023 for 27 and 21 (certainty: 0.51)"
       ]
      },
      {
       "output_type": "stream",
       "stream": "stdout",
       "text": [
        "\n",
        "Score: 0.0038 for 27 and 23 (certainty: 0.36)"
       ]
      },
      {
       "output_type": "stream",
       "stream": "stdout",
       "text": [
        "\n",
        "Score: 0.0081 for 27 and 25 (certainty: 0.64)"
       ]
      },
      {
       "output_type": "stream",
       "stream": "stdout",
       "text": [
        "\n",
        "Score: 0.0022 for 27 and 23 (certainty: 0.19)\n",
        "Score: 0.0015 for 27 and 31 (certainty: 0.36)"
       ]
      },
      {
       "output_type": "stream",
       "stream": "stdout",
       "text": [
        "\n",
        "Score: 0.0028 for 27 and 15 (certainty: 0.19)\n",
        "Score: 0.0035 for 27 and 23 (certainty: 0.51)"
       ]
      },
      {
       "output_type": "stream",
       "stream": "stdout",
       "text": [
        "\n",
        "Score: 0.0032 for 27 and 18 (certainty: 0.51)"
       ]
      },
      {
       "output_type": "stream",
       "stream": "stdout",
       "text": [
        "\n",
        "Score: 0.0034 for 27 and 15 (certainty: 0.36)"
       ]
      },
      {
       "output_type": "stream",
       "stream": "stdout",
       "text": [
        "\n",
        "Score: 0.0016 for 27 and 16 (certainty: 0.19)"
       ]
      },
      {
       "output_type": "stream",
       "stream": "stdout",
       "text": [
        "\n",
        "Score: 0.0081 for 27 and 23 (certainty: 0.51)\n",
        "Score: 0.0093 for 27 and 23 (certainty: 0.36)"
       ]
      },
      {
       "output_type": "stream",
       "stream": "stdout",
       "text": [
        "\n",
        "Score: 0.0030 for 27 and 32 (certainty: 0.19)\n",
        "Score: 0.0003 for 27 and 15 (certainty: 0.36)"
       ]
      },
      {
       "output_type": "stream",
       "stream": "stdout",
       "text": [
        "\n",
        "Score: 0.0051 for 27 and 24 (certainty: 0.51)\n",
        "Score: 0.0007 for 27 and 25 (certainty: 0.36)"
       ]
      },
      {
       "output_type": "stream",
       "stream": "stdout",
       "text": [
        "\n",
        "Score: 0.0061 for 27 and 30 (certainty: 0.36)"
       ]
      },
      {
       "output_type": "stream",
       "stream": "stdout",
       "text": [
        "\n",
        "Score: 0.0135 for 27 and 32 (certainty: 0.51)"
       ]
      },
      {
       "output_type": "stream",
       "stream": "stdout",
       "text": [
        "\n",
        "['../../images/testsets/Gallagher_small_unresized/27_536.jpg', '../../images/testsets/Gallagher_small_unresized/29_538.jpg']\n",
        "No descriptors found. Returning score 0\n",
        "Score: 0.0121 for 27 and 21 (certainty: 0.51)"
       ]
      },
      {
       "output_type": "stream",
       "stream": "stdout",
       "text": [
        "\n",
        "Score: 0.0139 for 27 and 20 (certainty: 0.51)"
       ]
      },
      {
       "output_type": "stream",
       "stream": "stdout",
       "text": [
        "\n",
        "Score: 0.0001 for 27 and 15 (certainty: 0.51)"
       ]
      },
      {
       "output_type": "stream",
       "stream": "stdout",
       "text": [
        "\n",
        "Score: 0.0000 for 27 and 15 (certainty: 0.36)"
       ]
      },
      {
       "output_type": "stream",
       "stream": "stdout",
       "text": [
        "\n",
        "Score: 0.0023 for 27 and 19 (certainty: 0.36)"
       ]
      },
      {
       "output_type": "stream",
       "stream": "stdout",
       "text": [
        "\n",
        "Score: 0.0096 for 27 and 19 (certainty: 0.51)"
       ]
      },
      {
       "output_type": "stream",
       "stream": "stdout",
       "text": [
        "\n",
        "Score: 0.0048 for 27 and 21 (certainty: 0.51)"
       ]
      },
      {
       "output_type": "stream",
       "stream": "stdout",
       "text": [
        "\n",
        "Score: 0.0018 for 27 and 26 (certainty: 0.36)"
       ]
      },
      {
       "output_type": "stream",
       "stream": "stdout",
       "text": [
        "\n",
        "Score: 0.0048 for 27 and 27 (certainty: 0.36)\n",
        "Score: 0.0080 for 27 and 15 (certainty: 0.51)"
       ]
      },
      {
       "output_type": "stream",
       "stream": "stdout",
       "text": [
        "\n",
        "Score: 0.0088 for 27 and 15 (certainty: 0.51)"
       ]
      },
      {
       "output_type": "stream",
       "stream": "stdout",
       "text": [
        "\n",
        "Score: 0.0112 for 27 and 21 (certainty: 0.36)\n",
        "Score: 0.0059 for 27 and 15 (certainty: 0.19)\n",
        "Score: 0.0017 for 27 and 16 (certainty: 0.36)"
       ]
      },
      {
       "output_type": "stream",
       "stream": "stdout",
       "text": [
        "\n",
        "Score: 0.0042 for 27 and 17 (certainty: 0.19)\n",
        "Score: 0.0082 for 27 and 28 (certainty: 0.36)\n",
        "Score: 0.0128 for 27 and 27 (certainty: 0.64)"
       ]
      },
      {
       "output_type": "stream",
       "stream": "stdout",
       "text": [
        "\n",
        "Score: 0.0082 for 27 and 13 (certainty: 0.51)\n",
        "Score: 0.0040 for 27 and 23 (certainty: 0.64)"
       ]
      },
      {
       "output_type": "stream",
       "stream": "stdout",
       "text": [
        "\n",
        "Score: 0.0187 for 23 and 21 (certainty: 1.00)"
       ]
      },
      {
       "output_type": "stream",
       "stream": "stdout",
       "text": [
        "\n",
        "Score: 0.0174 for 23 and 25 (certainty: 0.91)"
       ]
      },
      {
       "output_type": "stream",
       "stream": "stdout",
       "text": [
        "\n",
        "Score: 0.0204 for 23 and 23 (certainty: 1.00)"
       ]
      },
      {
       "output_type": "stream",
       "stream": "stdout",
       "text": [
        "\n",
        "Score: 0.0182 for 23 and 25 (certainty: 1.00)"
       ]
      },
      {
       "output_type": "stream",
       "stream": "stdout",
       "text": [
        "\n",
        "Score: 0.0162 for 23 and 26 (certainty: 0.96)"
       ]
      },
      {
       "output_type": "stream",
       "stream": "stdout",
       "text": [
        "\n",
        "Score: 0.0136 for 23 and 18 (certainty: 0.51)"
       ]
      },
      {
       "output_type": "stream",
       "stream": "stdout",
       "text": [
        "\n",
        "['../../images/testsets/Gallagher_small_unresized/23_523.jpg', '../../images/testsets/Gallagher_small_unresized/19_190.jpg']\n",
        "No descriptors found. Returning score 0\n",
        "Score: 0.0107 for 23 and 15 (certainty: 0.75)"
       ]
      },
      {
       "output_type": "stream",
       "stream": "stdout",
       "text": [
        "\n",
        "Score: 0.0142 for 23 and 14 (certainty: 0.91)"
       ]
      },
      {
       "output_type": "stream",
       "stream": "stdout",
       "text": [
        "\n",
        "Score: 0.0177 for 23 and 25 (certainty: 1.00)"
       ]
      },
      {
       "output_type": "stream",
       "stream": "stdout",
       "text": [
        "\n",
        "Score: 0.0170 for 23 and 25 (certainty: 1.00)"
       ]
      },
      {
       "output_type": "stream",
       "stream": "stdout",
       "text": [
        "\n",
        "Score: 0.0149 for 23 and 32 (certainty: 0.91)"
       ]
      },
      {
       "output_type": "stream",
       "stream": "stdout",
       "text": [
        "\n",
        "Score: 0.0069 for 23 and 30 (certainty: 0.96)"
       ]
      },
      {
       "output_type": "stream",
       "stream": "stdout",
       "text": [
        "\n",
        "Score: 0.0173 for 23 and 28 (certainty: 0.96)"
       ]
      },
      {
       "output_type": "stream",
       "stream": "stdout",
       "text": [
        "\n",
        "Score: 0.0000 for 23 and 30 (certainty: 0.36)"
       ]
      },
      {
       "output_type": "stream",
       "stream": "stdout",
       "text": [
        "\n",
        "Score: 0.0077 for 23 and 26 (certainty: 1.00)"
       ]
      },
      {
       "output_type": "stream",
       "stream": "stdout",
       "text": [
        "\n",
        "Score: 0.0209 for 23 and 15 (certainty: 1.00)"
       ]
      },
      {
       "output_type": "stream",
       "stream": "stdout",
       "text": [
        "\n",
        "Score: 0.0126 for 23 and 21 (certainty: 0.99)"
       ]
      },
      {
       "output_type": "stream",
       "stream": "stdout",
       "text": [
        "\n",
        "Score: 0.0171 for 23 and 24 (certainty: 1.00)"
       ]
      },
      {
       "output_type": "stream",
       "stream": "stdout",
       "text": [
        "\n",
        "Score: 0.0222 for 23 and 17 (certainty: 0.84)"
       ]
      },
      {
       "output_type": "stream",
       "stream": "stdout",
       "text": [
        "\n",
        "Score: 0.0086 for 23 and 14 (certainty: 0.64)"
       ]
      },
      {
       "output_type": "stream",
       "stream": "stdout",
       "text": [
        "\n",
        "Score: 0.0214 for 23 and 28 (certainty: 0.99)"
       ]
      },
      {
       "output_type": "stream",
       "stream": "stdout",
       "text": [
        "\n",
        "Score: 0.0085 for 23 and 27 (certainty: 0.91)"
       ]
      },
      {
       "output_type": "stream",
       "stream": "stdout",
       "text": [
        "\n",
        "Score: 0.0183 for 23 and 22 (certainty: 0.64)"
       ]
      },
      {
       "output_type": "stream",
       "stream": "stdout",
       "text": [
        "\n",
        "Score: 0.0034 for 23 and 29 (certainty: 0.91)"
       ]
      },
      {
       "output_type": "stream",
       "stream": "stdout",
       "text": [
        "\n",
        "Score: 0.0039 for 23 and 15 (certainty: 1.00)"
       ]
      },
      {
       "output_type": "stream",
       "stream": "stdout",
       "text": [
        "\n",
        "Score: 0.0066 for 23 and 25 (certainty: 0.99)"
       ]
      },
      {
       "output_type": "stream",
       "stream": "stdout",
       "text": [
        "\n",
        "Score: 0.0034 for 23 and 23 (certainty: 0.96)"
       ]
      },
      {
       "output_type": "stream",
       "stream": "stdout",
       "text": [
        "\n",
        "Score: 0.0198 for 23 and 16 (certainty: 0.84)"
       ]
      },
      {
       "output_type": "stream",
       "stream": "stdout",
       "text": [
        "\n",
        "Score: 0.0019 for 23 and 18 (certainty: 0.51)"
       ]
      },
      {
       "output_type": "stream",
       "stream": "stdout",
       "text": [
        "\n",
        "Score: 0.0221 for 23 and 25 (certainty: 1.00)"
       ]
      },
      {
       "output_type": "stream",
       "stream": "stdout",
       "text": [
        "\n",
        "Score: 0.0212 for 23 and 32 (certainty: 1.00)"
       ]
      },
      {
       "output_type": "stream",
       "stream": "stdout",
       "text": [
        "\n",
        "Score: 0.0171 for 23 and 19 (certainty: 0.84)"
       ]
      },
      {
       "output_type": "stream",
       "stream": "stdout",
       "text": [
        "\n",
        "Score: 0.0219 for 23 and 21 (certainty: 0.96)"
       ]
      },
      {
       "output_type": "stream",
       "stream": "stdout",
       "text": [
        "\n",
        "Score: 0.0043 for 23 and 14 (certainty: 0.75)"
       ]
      },
      {
       "output_type": "stream",
       "stream": "stdout",
       "text": [
        "\n",
        "Score: 0.0100 for 23 and 26 (certainty: 0.36)"
       ]
      },
      {
       "output_type": "stream",
       "stream": "stdout",
       "text": [
        "\n",
        "Score: 0.0101 for 23 and 22 (certainty: 0.64)"
       ]
      },
      {
       "output_type": "stream",
       "stream": "stdout",
       "text": [
        "\n",
        "Score: 0.0058 for 23 and 29 (certainty: 0.96)"
       ]
      },
      {
       "output_type": "stream",
       "stream": "stdout",
       "text": [
        "\n",
        "Score: 0.0075 for 23 and 13 (certainty: 0.99)"
       ]
      },
      {
       "output_type": "stream",
       "stream": "stdout",
       "text": [
        "\n",
        "Score: 0.0094 for 23 and 28 (certainty: 0.91)"
       ]
      },
      {
       "output_type": "stream",
       "stream": "stdout",
       "text": [
        "\n",
        "Score: 0.0028 for 23 and 13 (certainty: 0.36)"
       ]
      },
      {
       "output_type": "stream",
       "stream": "stdout",
       "text": [
        "\n",
        "Score: 0.0248 for 23 and 14 (certainty: 0.91)"
       ]
      },
      {
       "output_type": "stream",
       "stream": "stdout",
       "text": [
        "\n",
        "Score: 0.0111 for 23 and 14 (certainty: 1.00)"
       ]
      },
      {
       "output_type": "stream",
       "stream": "stdout",
       "text": [
        "\n",
        "Score: 0.0177 for 23 and 27 (certainty: 0.96)"
       ]
      },
      {
       "output_type": "stream",
       "stream": "stdout",
       "text": [
        "\n",
        "Score: 0.0090 for 23 and 17 (certainty: 1.00)"
       ]
      },
      {
       "output_type": "stream",
       "stream": "stdout",
       "text": [
        "\n",
        "Score: 0.0036 for 23 and 19 (certainty: 0.64)"
       ]
      },
      {
       "output_type": "stream",
       "stream": "stdout",
       "text": [
        "\n",
        "Score: 0.0130 for 23 and 31 (certainty: 0.96)"
       ]
      },
      {
       "output_type": "stream",
       "stream": "stdout",
       "text": [
        "\n",
        "Score: 0.0140 for 23 and 21 (certainty: 0.75)"
       ]
      },
      {
       "output_type": "stream",
       "stream": "stdout",
       "text": [
        "\n",
        "Score: 0.0067 for 23 and 23 (certainty: 1.00)"
       ]
      },
      {
       "output_type": "stream",
       "stream": "stdout",
       "text": [
        "\n",
        "Score: 0.0222 for 23 and 25 (certainty: 0.99)"
       ]
      },
      {
       "output_type": "stream",
       "stream": "stdout",
       "text": [
        "\n",
        "Score: 0.0015 for 23 and 23 (certainty: 0.19)"
       ]
      },
      {
       "output_type": "stream",
       "stream": "stdout",
       "text": [
        "\n",
        "Score: 0.0144 for 23 and 31 (certainty: 0.96)"
       ]
      },
      {
       "output_type": "stream",
       "stream": "stdout",
       "text": [
        "\n",
        "Score: 0.0151 for 23 and 15 (certainty: 0.84)"
       ]
      },
      {
       "output_type": "stream",
       "stream": "stdout",
       "text": [
        "\n",
        "Score: 0.0372 for 23 and 23 (certainty: 1.00)"
       ]
      },
      {
       "output_type": "stream",
       "stream": "stdout",
       "text": [
        "\n",
        "Score: 0.0193 for 23 and 18 (certainty: 0.64)"
       ]
      },
      {
       "output_type": "stream",
       "stream": "stdout",
       "text": [
        "\n",
        "Score: 0.0115 for 23 and 15 (certainty: 0.99)"
       ]
      },
      {
       "output_type": "stream",
       "stream": "stdout",
       "text": [
        "\n",
        "Score: 0.0065 for 23 and 16 (certainty: 0.91)"
       ]
      },
      {
       "output_type": "stream",
       "stream": "stdout",
       "text": [
        "\n",
        "Score: 0.0093 for 23 and 23 (certainty: 0.96)"
       ]
      },
      {
       "output_type": "stream",
       "stream": "stdout",
       "text": [
        "\n",
        "Score: 0.0154 for 23 and 23 (certainty: 0.96)"
       ]
      },
      {
       "output_type": "stream",
       "stream": "stdout",
       "text": [
        "\n",
        "Score: 0.0122 for 23 and 32 (certainty: 0.64)"
       ]
      },
      {
       "output_type": "stream",
       "stream": "stdout",
       "text": [
        "\n",
        "Score: 0.0092 for 23 and 15 (certainty: 0.96)"
       ]
      },
      {
       "output_type": "stream",
       "stream": "stdout",
       "text": [
        "\n",
        "Score: 0.0188 for 23 and 24 (certainty: 0.96)"
       ]
      },
      {
       "output_type": "stream",
       "stream": "stdout",
       "text": [
        "\n",
        "Score: 0.0193 for 23 and 25 (certainty: 0.99)"
       ]
      },
      {
       "output_type": "stream",
       "stream": "stdout",
       "text": [
        "\n",
        "Score: 0.0155 for 23 and 30 (certainty: 1.00)"
       ]
      },
      {
       "output_type": "stream",
       "stream": "stdout",
       "text": [
        "\n",
        "Score: 0.0039 for 23 and 32 (certainty: 0.75)"
       ]
      },
      {
       "output_type": "stream",
       "stream": "stdout",
       "text": [
        "\n",
        "['../../images/testsets/Gallagher_small_unresized/23_523.jpg', '../../images/testsets/Gallagher_small_unresized/29_538.jpg']\n",
        "No descriptors found. Returning score 0\n",
        "Score: 0.0082 for 23 and 21 (certainty: 1.00)"
       ]
      },
      {
       "output_type": "stream",
       "stream": "stdout",
       "text": [
        "\n",
        "Score: 0.0437 for 23 and 20 (certainty: 1.00)"
       ]
      },
      {
       "output_type": "stream",
       "stream": "stdout",
       "text": [
        "\n",
        "Score: 0.0132 for 23 and 15 (certainty: 0.96)"
       ]
      },
      {
       "output_type": "stream",
       "stream": "stdout",
       "text": [
        "\n",
        "Score: 0.0093 for 23 and 15 (certainty: 1.00)"
       ]
      },
      {
       "output_type": "stream",
       "stream": "stdout",
       "text": [
        "\n",
        "Score: 0.0202 for 23 and 19 (certainty: 0.96)"
       ]
      },
      {
       "output_type": "stream",
       "stream": "stdout",
       "text": [
        "\n",
        "Score: 0.0153 for 23 and 19 (certainty: 0.96)"
       ]
      },
      {
       "output_type": "stream",
       "stream": "stdout",
       "text": [
        "\n",
        "Score: 0.0175 for 23 and 21 (certainty: 0.99)"
       ]
      },
      {
       "output_type": "stream",
       "stream": "stdout",
       "text": [
        "\n",
        "Score: 0.0124 for 23 and 26 (certainty: 1.00)"
       ]
      },
      {
       "output_type": "stream",
       "stream": "stdout",
       "text": [
        "\n",
        "Score: 0.0227 for 23 and 27 (certainty: 0.99)"
       ]
      },
      {
       "output_type": "stream",
       "stream": "stdout",
       "text": [
        "\n",
        "Score: 0.0267 for 23 and 15 (certainty: 0.99)"
       ]
      },
      {
       "output_type": "stream",
       "stream": "stdout",
       "text": [
        "\n",
        "Score: 0.0346 for 23 and 15 (certainty: 1.00)"
       ]
      },
      {
       "output_type": "stream",
       "stream": "stdout",
       "text": [
        "\n",
        "Score: 0.0087 for 23 and 21 (certainty: 0.64)"
       ]
      },
      {
       "output_type": "stream",
       "stream": "stdout",
       "text": [
        "\n",
        "Score: 0.0032 for 23 and 15 (certainty: 0.19)"
       ]
      },
      {
       "output_type": "stream",
       "stream": "stdout",
       "text": [
        "\n",
        "Score: 0.0218 for 23 and 16 (certainty: 0.96)"
       ]
      },
      {
       "output_type": "stream",
       "stream": "stdout",
       "text": [
        "\n",
        "Score: 0.0052 for 23 and 17 (certainty: 0.64)"
       ]
      },
      {
       "output_type": "stream",
       "stream": "stdout",
       "text": [
        "\n",
        "Score: 0.0092 for 23 and 28 (certainty: 0.36)"
       ]
      },
      {
       "output_type": "stream",
       "stream": "stdout",
       "text": [
        "\n",
        "Score: 0.0134 for 23 and 27 (certainty: 0.91)"
       ]
      },
      {
       "output_type": "stream",
       "stream": "stdout",
       "text": [
        "\n",
        "Score: 0.0189 for 23 and 13 (certainty: 0.91)"
       ]
      },
      {
       "output_type": "stream",
       "stream": "stdout",
       "text": [
        "\n",
        "Score: 0.0122 for 23 and 23 (certainty: 1.00)"
       ]
      },
      {
       "output_type": "stream",
       "stream": "stdout",
       "text": [
        "\n",
        "Score: 0.0079 for 21 and 25 (certainty: 0.84)"
       ]
      },
      {
       "output_type": "stream",
       "stream": "stdout",
       "text": [
        "\n",
        "Score: 0.0133 for 21 and 23 (certainty: 0.75)"
       ]
      },
      {
       "output_type": "stream",
       "stream": "stdout",
       "text": [
        "\n",
        "Score: 0.0069 for 21 and 25 (certainty: 0.84)"
       ]
      },
      {
       "output_type": "stream",
       "stream": "stdout",
       "text": [
        "\n",
        "Score: 0.0142 for 21 and 26 (certainty: 0.84)"
       ]
      },
      {
       "output_type": "stream",
       "stream": "stdout",
       "text": [
        "\n",
        "Score: 0.0000 for 21 and 18 (certainty: 0.36)"
       ]
      },
      {
       "output_type": "stream",
       "stream": "stdout",
       "text": [
        "\n",
        "['../../images/testsets/Gallagher_small_unresized/21_585.jpg', '../../images/testsets/Gallagher_small_unresized/19_190.jpg']\n",
        "No descriptors found. Returning score 0\n",
        "Score: 0.0039 for 21 and 15 (certainty: 0.64)"
       ]
      },
      {
       "output_type": "stream",
       "stream": "stdout",
       "text": [
        "\n",
        "Score: 0.0116 for 21 and 14 (certainty: 0.75)"
       ]
      },
      {
       "output_type": "stream",
       "stream": "stdout",
       "text": [
        "\n",
        "Score: 0.0130 for 21 and 25 (certainty: 0.91)"
       ]
      },
      {
       "output_type": "stream",
       "stream": "stdout",
       "text": [
        "\n",
        "Score: 0.0148 for 21 and 25 (certainty: 0.91)"
       ]
      },
      {
       "output_type": "stream",
       "stream": "stdout",
       "text": [
        "\n",
        "Score: 0.0033 for 21 and 32 (certainty: 0.84)"
       ]
      },
      {
       "output_type": "stream",
       "stream": "stdout",
       "text": [
        "\n",
        "Score: 0.0054 for 21 and 30 (certainty: 0.64)"
       ]
      },
      {
       "output_type": "stream",
       "stream": "stdout",
       "text": [
        "\n",
        "Score: 0.0091 for 21 and 28 (certainty: 1.00)"
       ]
      },
      {
       "output_type": "stream",
       "stream": "stdout",
       "text": [
        "\n",
        "Score: 0.0004 for 21 and 30 (certainty: 0.64)"
       ]
      },
      {
       "output_type": "stream",
       "stream": "stdout",
       "text": [
        "\n",
        "Score: 0.0021 for 21 and 26 (certainty: 0.64)"
       ]
      },
      {
       "output_type": "stream",
       "stream": "stdout",
       "text": [
        "\n",
        "Score: 0.0175 for 21 and 15 (certainty: 0.99)"
       ]
      },
      {
       "output_type": "stream",
       "stream": "stdout",
       "text": [
        "\n",
        "Score: 0.0278 for 21 and 21 (certainty: 0.96)"
       ]
      },
      {
       "output_type": "stream",
       "stream": "stdout",
       "text": [
        "\n",
        "Score: 0.0078 for 21 and 24 (certainty: 1.00)"
       ]
      },
      {
       "output_type": "stream",
       "stream": "stdout",
       "text": [
        "\n",
        "Score: 0.0066 for 21 and 17 (certainty: 0.75)"
       ]
      },
      {
       "output_type": "stream",
       "stream": "stdout",
       "text": [
        "\n",
        "Score: 0.0054 for 21 and 14 (certainty: 0.36)"
       ]
      },
      {
       "output_type": "stream",
       "stream": "stdout",
       "text": [
        "\n",
        "Score: 0.0193 for 21 and 28 (certainty: 0.91)"
       ]
      },
      {
       "output_type": "stream",
       "stream": "stdout",
       "text": [
        "\n",
        "Score: 0.0192 for 21 and 27 (certainty: 0.75)"
       ]
      },
      {
       "output_type": "stream",
       "stream": "stdout",
       "text": [
        "\n",
        "Score: 0.0202 for 21 and 22 (certainty: 0.64)"
       ]
      },
      {
       "output_type": "stream",
       "stream": "stdout",
       "text": [
        "\n",
        "Score: 0.0099 for 21 and 29 (certainty: 0.96)"
       ]
      },
      {
       "output_type": "stream",
       "stream": "stdout",
       "text": [
        "\n",
        "Score: 0.0314 for 21 and 15 (certainty: 0.91)"
       ]
      },
      {
       "output_type": "stream",
       "stream": "stdout",
       "text": [
        "\n",
        "Score: 0.0076 for 21 and 25 (certainty: 0.75)"
       ]
      },
      {
       "output_type": "stream",
       "stream": "stdout",
       "text": [
        "\n",
        "Score: 0.0043 for 21 and 23 (certainty: 0.96)"
       ]
      },
      {
       "output_type": "stream",
       "stream": "stdout",
       "text": [
        "\n",
        "Score: 0.0058 for 21 and 16 (certainty: 0.75)"
       ]
      },
      {
       "output_type": "stream",
       "stream": "stdout",
       "text": [
        "\n",
        "Score: 0.0066 for 21 and 18 (certainty: 0.51)"
       ]
      },
      {
       "output_type": "stream",
       "stream": "stdout",
       "text": [
        "\n",
        "Score: 0.0010 for 21 and 25 (certainty: 0.91)"
       ]
      },
      {
       "output_type": "stream",
       "stream": "stdout",
       "text": [
        "\n",
        "Score: 0.0189 for 21 and 32 (certainty: 0.84)"
       ]
      },
      {
       "output_type": "stream",
       "stream": "stdout",
       "text": [
        "\n",
        "Score: 0.0142 for 21 and 19 (certainty: 0.91)"
       ]
      },
      {
       "output_type": "stream",
       "stream": "stdout",
       "text": [
        "\n",
        "Score: 0.0154 for 21 and 21 (certainty: 0.99)"
       ]
      },
      {
       "output_type": "stream",
       "stream": "stdout",
       "text": [
        "\n",
        "Score: 0.0110 for 21 and 14 (certainty: 0.91)"
       ]
      },
      {
       "output_type": "stream",
       "stream": "stdout",
       "text": [
        "\n",
        "Score: 0.0000 for 21 and 26 (certainty: 0.19)"
       ]
      },
      {
       "output_type": "stream",
       "stream": "stdout",
       "text": [
        "\n",
        "Score: 0.0166 for 21 and 22 (certainty: 0.64)"
       ]
      },
      {
       "output_type": "stream",
       "stream": "stdout",
       "text": [
        "\n",
        "Score: 0.0091 for 21 and 29 (certainty: 0.64)"
       ]
      },
      {
       "output_type": "stream",
       "stream": "stdout",
       "text": [
        "\n",
        "Score: 0.0030 for 21 and 13 (certainty: 0.84)"
       ]
      },
      {
       "output_type": "stream",
       "stream": "stdout",
       "text": [
        "\n",
        "Score: 0.0044 for 21 and 28 (certainty: 0.91)"
       ]
      },
      {
       "output_type": "stream",
       "stream": "stdout",
       "text": [
        "\n",
        "Score: 0.0006 for 21 and 13 (certainty: 0.51)"
       ]
      },
      {
       "output_type": "stream",
       "stream": "stdout",
       "text": [
        "\n",
        "Score: 0.0056 for 21 and 14 (certainty: 0.91)"
       ]
      },
      {
       "output_type": "stream",
       "stream": "stdout",
       "text": [
        "\n",
        "Score: 0.0165 for 21 and 14 (certainty: 0.64)"
       ]
      },
      {
       "output_type": "stream",
       "stream": "stdout",
       "text": [
        "\n",
        "Score: 0.0032 for 21 and 27 (certainty: 0.84)"
       ]
      },
      {
       "output_type": "stream",
       "stream": "stdout",
       "text": [
        "\n",
        "Score: 0.0164 for 21 and 17 (certainty: 0.91)"
       ]
      },
      {
       "output_type": "stream",
       "stream": "stdout",
       "text": [
        "\n",
        "Score: 0.0042 for 21 and 19 (certainty: 0.51)"
       ]
      },
      {
       "output_type": "stream",
       "stream": "stdout",
       "text": [
        "\n",
        "Score: 0.0055 for 21 and 31 (certainty: 0.91)"
       ]
      },
      {
       "output_type": "stream",
       "stream": "stdout",
       "text": [
        "\n",
        "Score: 0.0137 for 21 and 21 (certainty: 0.64)"
       ]
      },
      {
       "output_type": "stream",
       "stream": "stdout",
       "text": [
        "\n",
        "Score: 0.0093 for 21 and 23 (certainty: 0.84)"
       ]
      },
      {
       "output_type": "stream",
       "stream": "stdout",
       "text": [
        "\n",
        "Score: 0.0006 for 21 and 25 (certainty: 0.64)"
       ]
      },
      {
       "output_type": "stream",
       "stream": "stdout",
       "text": [
        "\n",
        "Score: 0.0028 for 21 and 23 (certainty: 0.19)"
       ]
      },
      {
       "output_type": "stream",
       "stream": "stdout",
       "text": [
        "\n",
        "Score: 0.0214 for 21 and 31 (certainty: 0.99)"
       ]
      },
      {
       "output_type": "stream",
       "stream": "stdout",
       "text": [
        "\n",
        "Score: 0.0177 for 21 and 15 (certainty: 0.64)"
       ]
      },
      {
       "output_type": "stream",
       "stream": "stdout",
       "text": [
        "\n",
        "Score: 0.0213 for 21 and 23 (certainty: 0.91)"
       ]
      },
      {
       "output_type": "stream",
       "stream": "stdout",
       "text": [
        "\n",
        "Score: 0.0019 for 21 and 18 (certainty: 0.84)"
       ]
      },
      {
       "output_type": "stream",
       "stream": "stdout",
       "text": [
        "\n",
        "Score: 0.0137 for 21 and 15 (certainty: 0.84)"
       ]
      },
      {
       "output_type": "stream",
       "stream": "stdout",
       "text": [
        "\n",
        "Score: 0.0159 for 21 and 16 (certainty: 0.96)"
       ]
      },
      {
       "output_type": "stream",
       "stream": "stdout",
       "text": [
        "\n",
        "Score: 0.0229 for 21 and 23 (certainty: 0.96)"
       ]
      },
      {
       "output_type": "stream",
       "stream": "stdout",
       "text": [
        "\n",
        "Score: 0.0024 for 21 and 23 (certainty: 0.75)"
       ]
      },
      {
       "output_type": "stream",
       "stream": "stdout",
       "text": [
        "\n",
        "Score: 0.0141 for 21 and 32 (certainty: 0.64)"
       ]
      },
      {
       "output_type": "stream",
       "stream": "stdout",
       "text": [
        "\n",
        "Score: 0.0302 for 21 and 15 (certainty: 0.96)"
       ]
      },
      {
       "output_type": "stream",
       "stream": "stdout",
       "text": [
        "\n",
        "Score: 0.0190 for 21 and 24 (certainty: 0.84)"
       ]
      },
      {
       "output_type": "stream",
       "stream": "stdout",
       "text": [
        "\n",
        "Score: 0.0021 for 21 and 25 (certainty: 0.75)"
       ]
      },
      {
       "output_type": "stream",
       "stream": "stdout",
       "text": [
        "\n",
        "Score: 0.0070 for 21 and 30 (certainty: 0.75)"
       ]
      },
      {
       "output_type": "stream",
       "stream": "stdout",
       "text": [
        "\n",
        "Score: 0.0060 for 21 and 32 (certainty: 0.75)"
       ]
      },
      {
       "output_type": "stream",
       "stream": "stdout",
       "text": [
        "\n",
        "['../../images/testsets/Gallagher_small_unresized/21_585.jpg', '../../images/testsets/Gallagher_small_unresized/29_538.jpg']\n",
        "No descriptors found. Returning score 0\n",
        "Score: 0.0236 for 21 and 21 (certainty: 0.99)"
       ]
      },
      {
       "output_type": "stream",
       "stream": "stdout",
       "text": [
        "\n",
        "Score: 0.0218 for 21 and 20 (certainty: 0.91)"
       ]
      },
      {
       "output_type": "stream",
       "stream": "stdout",
       "text": [
        "\n",
        "Score: 0.0128 for 21 and 15 (certainty: 0.91)"
       ]
      },
      {
       "output_type": "stream",
       "stream": "stdout",
       "text": [
        "\n",
        "Score: 0.0251 for 21 and 15 (certainty: 0.91)"
       ]
      },
      {
       "output_type": "stream",
       "stream": "stdout",
       "text": [
        "\n",
        "Score: 0.0088 for 21 and 19 (certainty: 0.84)"
       ]
      },
      {
       "output_type": "stream",
       "stream": "stdout",
       "text": [
        "\n",
        "Score: 0.0127 for 21 and 19 (certainty: 0.84)"
       ]
      },
      {
       "output_type": "stream",
       "stream": "stdout",
       "text": [
        "\n",
        "Score: 0.0230 for 21 and 21 (certainty: 0.91)"
       ]
      },
      {
       "output_type": "stream",
       "stream": "stdout",
       "text": [
        "\n",
        "Score: 0.0181 for 21 and 26 (certainty: 0.96)"
       ]
      },
      {
       "output_type": "stream",
       "stream": "stdout",
       "text": [
        "\n",
        "Score: 0.0048 for 21 and 27 (certainty: 0.84)"
       ]
      },
      {
       "output_type": "stream",
       "stream": "stdout",
       "text": [
        "\n",
        "Score: 0.0102 for 21 and 15 (certainty: 0.96)"
       ]
      },
      {
       "output_type": "stream",
       "stream": "stdout",
       "text": [
        "\n",
        "Score: 0.0139 for 21 and 15 (certainty: 0.91)"
       ]
      },
      {
       "output_type": "stream",
       "stream": "stdout",
       "text": [
        "\n",
        "Score: 0.0023 for 21 and 21 (certainty: 0.75)"
       ]
      },
      {
       "output_type": "stream",
       "stream": "stdout",
       "text": [
        "\n",
        "Score: 0.0014 for 21 and 15 (certainty: 0.19)"
       ]
      },
      {
       "output_type": "stream",
       "stream": "stdout",
       "text": [
        "\n",
        "Score: 0.0233 for 21 and 16 (certainty: 0.84)"
       ]
      },
      {
       "output_type": "stream",
       "stream": "stdout",
       "text": [
        "\n",
        "Score: 0.0105 for 21 and 17 (certainty: 0.51)"
       ]
      },
      {
       "output_type": "stream",
       "stream": "stdout",
       "text": [
        "\n",
        "Score: 0.0057 for 21 and 28 (certainty: 0.51)"
       ]
      },
      {
       "output_type": "stream",
       "stream": "stdout",
       "text": [
        "\n",
        "Score: 0.0122 for 21 and 27 (certainty: 0.75)"
       ]
      },
      {
       "output_type": "stream",
       "stream": "stdout",
       "text": [
        "\n",
        "Score: 0.0000 for 21 and 13 (certainty: 0.36)"
       ]
      },
      {
       "output_type": "stream",
       "stream": "stdout",
       "text": [
        "\n",
        "Score: 0.0054 for 21 and 23 (certainty: 0.84)"
       ]
      },
      {
       "output_type": "stream",
       "stream": "stdout",
       "text": [
        "\n",
        "Score: 0.0082 for 25 and 23 (certainty: 0.84)"
       ]
      },
      {
       "output_type": "stream",
       "stream": "stdout",
       "text": [
        "\n",
        "Score: 0.0127 for 25 and 25 (certainty: 0.75)"
       ]
      },
      {
       "output_type": "stream",
       "stream": "stdout",
       "text": [
        "\n",
        "Score: 0.0065 for 25 and 26 (certainty: 0.64)"
       ]
      },
      {
       "output_type": "stream",
       "stream": "stdout",
       "text": [
        "\n",
        "Score: 0.0132 for 25 and 18 (certainty: 0.51)"
       ]
      },
      {
       "output_type": "stream",
       "stream": "stdout",
       "text": [
        "\n",
        "['../../images/testsets/Gallagher_small_unresized/25_924.jpg', '../../images/testsets/Gallagher_small_unresized/19_190.jpg']\n",
        "No descriptors found. Returning score 0\n",
        "Score: 0.0066 for 25 and 15 (certainty: 0.51)"
       ]
      },
      {
       "output_type": "stream",
       "stream": "stdout",
       "text": [
        "\n",
        "Score: 0.0094 for 25 and 14 (certainty: 0.84)"
       ]
      },
      {
       "output_type": "stream",
       "stream": "stdout",
       "text": [
        "\n",
        "Score: 0.0101 for 25 and 25 (certainty: 0.75)"
       ]
      },
      {
       "output_type": "stream",
       "stream": "stdout",
       "text": [
        "\n",
        "Score: 0.0246 for 25 and 25 (certainty: 0.75)"
       ]
      },
      {
       "output_type": "stream",
       "stream": "stdout",
       "text": [
        "\n",
        "Score: 0.0002 for 25 and 32 (certainty: 0.36)"
       ]
      },
      {
       "output_type": "stream",
       "stream": "stdout",
       "text": [
        "\n",
        "Score: 0.0000 for 25 and 30 (certainty: 0.64)"
       ]
      },
      {
       "output_type": "stream",
       "stream": "stdout",
       "text": [
        "\n",
        "Score: 0.0216 for 25 and 28 (certainty: 0.75)"
       ]
      },
      {
       "output_type": "stream",
       "stream": "stdout",
       "text": [
        "\n",
        "Score: 0.0157 for 25 and 30 (certainty: 0.51)"
       ]
      },
      {
       "output_type": "stream",
       "stream": "stdout",
       "text": [
        "\n",
        "Score: 0.0076 for 25 and 26 (certainty: 0.84)"
       ]
      },
      {
       "output_type": "stream",
       "stream": "stdout",
       "text": [
        "\n",
        "Score: 0.0079 for 25 and 15 (certainty: 0.51)"
       ]
      },
      {
       "output_type": "stream",
       "stream": "stdout",
       "text": [
        "\n",
        "Score: 0.0123 for 25 and 21 (certainty: 0.64)"
       ]
      },
      {
       "output_type": "stream",
       "stream": "stdout",
       "text": [
        "\n",
        "Score: 0.0049 for 25 and 24 (certainty: 0.36)"
       ]
      },
      {
       "output_type": "stream",
       "stream": "stdout",
       "text": [
        "\n",
        "Score: 0.0012 for 25 and 17 (certainty: 0.75)"
       ]
      },
      {
       "output_type": "stream",
       "stream": "stdout",
       "text": [
        "\n",
        "Score: 0.0216 for 25 and 14 (certainty: 0.64)"
       ]
      },
      {
       "output_type": "stream",
       "stream": "stdout",
       "text": [
        "\n",
        "Score: 0.0222 for 25 and 28 (certainty: 0.91)"
       ]
      },
      {
       "output_type": "stream",
       "stream": "stdout",
       "text": [
        "\n",
        "Score: 0.0236 for 25 and 27 (certainty: 0.64)"
       ]
      },
      {
       "output_type": "stream",
       "stream": "stdout",
       "text": [
        "\n",
        "Score: 0.0039 for 25 and 22 (certainty: 0.64)"
       ]
      },
      {
       "output_type": "stream",
       "stream": "stdout",
       "text": [
        "\n",
        "Score: 0.0114 for 25 and 29 (certainty: 0.75)"
       ]
      },
      {
       "output_type": "stream",
       "stream": "stdout",
       "text": [
        "\n",
        "Score: 0.0025 for 25 and 15 (certainty: 0.51)"
       ]
      },
      {
       "output_type": "stream",
       "stream": "stdout",
       "text": [
        "\n",
        "Score: 0.0099 for 25 and 25 (certainty: 0.64)"
       ]
      },
      {
       "output_type": "stream",
       "stream": "stdout",
       "text": [
        "\n",
        "Score: 0.0027 for 25 and 23 (certainty: 0.51)"
       ]
      },
      {
       "output_type": "stream",
       "stream": "stdout",
       "text": [
        "\n",
        "Score: 0.0219 for 25 and 16 (certainty: 0.51)"
       ]
      },
      {
       "output_type": "stream",
       "stream": "stdout",
       "text": [
        "\n",
        "Score: 0.0147 for 25 and 18 (certainty: 0.64)"
       ]
      },
      {
       "output_type": "stream",
       "stream": "stdout",
       "text": [
        "\n",
        "Score: 0.0215 for 25 and 25 (certainty: 0.96)"
       ]
      },
      {
       "output_type": "stream",
       "stream": "stdout",
       "text": [
        "\n",
        "Score: 0.0023 for 25 and 32 (certainty: 0.75)"
       ]
      },
      {
       "output_type": "stream",
       "stream": "stdout",
       "text": [
        "\n",
        "Score: 0.0000 for 25 and 19 (certainty: 0.36)"
       ]
      },
      {
       "output_type": "stream",
       "stream": "stdout",
       "text": [
        "\n",
        "Score: 0.0110 for 25 and 21 (certainty: 0.64)"
       ]
      },
      {
       "output_type": "stream",
       "stream": "stdout",
       "text": [
        "\n",
        "Score: 0.0192 for 25 and 14 (certainty: 0.64)"
       ]
      },
      {
       "output_type": "stream",
       "stream": "stdout",
       "text": [
        "\n",
        "Score: 0.0022 for 25 and 26 (certainty: 0.51)"
       ]
      },
      {
       "output_type": "stream",
       "stream": "stdout",
       "text": [
        "\n",
        "Score: 0.0212 for 25 and 22 (certainty: 0.36)"
       ]
      },
      {
       "output_type": "stream",
       "stream": "stdout",
       "text": [
        "\n",
        "Score: 0.0229 for 25 and 29 (certainty: 0.75)"
       ]
      },
      {
       "output_type": "stream",
       "stream": "stdout",
       "text": [
        "\n",
        "Score: 0.0119 for 25 and 13 (certainty: 0.51)"
       ]
      },
      {
       "output_type": "stream",
       "stream": "stdout",
       "text": [
        "\n",
        "Score: 0.0267 for 25 and 28 (certainty: 0.84)"
       ]
      },
      {
       "output_type": "stream",
       "stream": "stdout",
       "text": [
        "\n",
        "Score: 0.0000 for 25 and 13 (certainty: 0.00)"
       ]
      },
      {
       "output_type": "stream",
       "stream": "stdout",
       "text": [
        "\n",
        "Score: 0.0060 for 25 and 14 (certainty: 0.64)"
       ]
      },
      {
       "output_type": "stream",
       "stream": "stdout",
       "text": [
        "\n",
        "Score: 0.0114 for 25 and 14 (certainty: 0.51)"
       ]
      },
      {
       "output_type": "stream",
       "stream": "stdout",
       "text": [
        "\n",
        "Score: 0.0101 for 25 and 27 (certainty: 0.91)"
       ]
      },
      {
       "output_type": "stream",
       "stream": "stdout",
       "text": [
        "\n",
        "Score: 0.0000 for 25 and 17 (certainty: 0.51)"
       ]
      },
      {
       "output_type": "stream",
       "stream": "stdout",
       "text": [
        "\n",
        "Score: 0.0252 for 25 and 19 (certainty: 0.36)"
       ]
      },
      {
       "output_type": "stream",
       "stream": "stdout",
       "text": [
        "\n",
        "Score: 0.0181 for 25 and 31 (certainty: 0.51)"
       ]
      },
      {
       "output_type": "stream",
       "stream": "stdout",
       "text": [
        "\n",
        "Score: 0.0033 for 25 and 21 (certainty: 0.36)"
       ]
      },
      {
       "output_type": "stream",
       "stream": "stdout",
       "text": [
        "\n",
        "Score: 0.0035 for 25 and 23 (certainty: 0.51)"
       ]
      },
      {
       "output_type": "stream",
       "stream": "stdout",
       "text": [
        "\n",
        "Score: 0.0468 for 25 and 25 (certainty: 0.84)"
       ]
      },
      {
       "output_type": "stream",
       "stream": "stdout",
       "text": [
        "\n",
        "Score: 0.0034 for 25 and 23 (certainty: 0.19)\n",
        "Score: 0.0171 for 25 and 31 (certainty: 0.91)"
       ]
      },
      {
       "output_type": "stream",
       "stream": "stdout",
       "text": [
        "\n",
        "Score: 0.0163 for 25 and 15 (certainty: 0.64)"
       ]
      },
      {
       "output_type": "stream",
       "stream": "stdout",
       "text": [
        "\n",
        "Score: 0.0047 for 25 and 23 (certainty: 0.84)"
       ]
      },
      {
       "output_type": "stream",
       "stream": "stdout",
       "text": [
        "\n",
        "Score: 0.0127 for 25 and 18 (certainty: 0.64)"
       ]
      },
      {
       "output_type": "stream",
       "stream": "stdout",
       "text": [
        "\n",
        "Score: 0.0000 for 25 and 15 (certainty: 0.36)"
       ]
      },
      {
       "output_type": "stream",
       "stream": "stdout",
       "text": [
        "\n",
        "Score: 0.0007 for 25 and 16 (certainty: 0.75)"
       ]
      },
      {
       "output_type": "stream",
       "stream": "stdout",
       "text": [
        "\n",
        "Score: 0.0383 for 25 and 23 (certainty: 0.96)"
       ]
      },
      {
       "output_type": "stream",
       "stream": "stdout",
       "text": [
        "\n",
        "Score: 0.0047 for 25 and 23 (certainty: 0.51)"
       ]
      },
      {
       "output_type": "stream",
       "stream": "stdout",
       "text": [
        "\n",
        "Score: 0.0110 for 25 and 32 (certainty: 0.36)"
       ]
      },
      {
       "output_type": "stream",
       "stream": "stdout",
       "text": [
        "\n",
        "Score: 0.0155 for 25 and 15 (certainty: 0.36)"
       ]
      },
      {
       "output_type": "stream",
       "stream": "stdout",
       "text": [
        "\n",
        "Score: 0.0147 for 25 and 24 (certainty: 0.64)"
       ]
      },
      {
       "output_type": "stream",
       "stream": "stdout",
       "text": [
        "\n",
        "Score: 0.0550 for 25 and 25 (certainty: 0.84)"
       ]
      },
      {
       "output_type": "stream",
       "stream": "stdout",
       "text": [
        "\n",
        "Score: 0.0041 for 25 and 30 (certainty: 0.91)"
       ]
      },
      {
       "output_type": "stream",
       "stream": "stdout",
       "text": [
        "\n",
        "Score: 0.0000 for 25 and 32 (certainty: 0.19)"
       ]
      },
      {
       "output_type": "stream",
       "stream": "stdout",
       "text": [
        "\n",
        "['../../images/testsets/Gallagher_small_unresized/25_924.jpg', '../../images/testsets/Gallagher_small_unresized/29_538.jpg']\n",
        "No descriptors found. Returning score 0\n",
        "Score: 0.0096 for 25 and 21 (certainty: 0.75)"
       ]
      },
      {
       "output_type": "stream",
       "stream": "stdout",
       "text": [
        "\n",
        "Score: 0.0210 for 25 and 20 (certainty: 0.64)"
       ]
      },
      {
       "output_type": "stream",
       "stream": "stdout",
       "text": [
        "\n",
        "Score: 0.0026 for 25 and 15 (certainty: 0.64)"
       ]
      },
      {
       "output_type": "stream",
       "stream": "stdout",
       "text": [
        "\n",
        "Score: 0.0156 for 25 and 15 (certainty: 0.64)"
       ]
      },
      {
       "output_type": "stream",
       "stream": "stdout",
       "text": [
        "\n",
        "Score: 0.0087 for 25 and 19 (certainty: 0.36)"
       ]
      },
      {
       "output_type": "stream",
       "stream": "stdout",
       "text": [
        "\n",
        "Score: 0.0061 for 25 and 19 (certainty: 0.96)"
       ]
      },
      {
       "output_type": "stream",
       "stream": "stdout",
       "text": [
        "\n",
        "Score: 0.0022 for 25 and 21 (certainty: 0.51)"
       ]
      },
      {
       "output_type": "stream",
       "stream": "stdout",
       "text": [
        "\n",
        "Score: 0.0052 for 25 and 26 (certainty: 0.84)"
       ]
      },
      {
       "output_type": "stream",
       "stream": "stdout",
       "text": [
        "\n",
        "Score: 0.0211 for 25 and 27 (certainty: 0.84)"
       ]
      },
      {
       "output_type": "stream",
       "stream": "stdout",
       "text": [
        "\n",
        "Score: 0.0196 for 25 and 15 (certainty: 0.84)"
       ]
      },
      {
       "output_type": "stream",
       "stream": "stdout",
       "text": [
        "\n",
        "Score: 0.0044 for 25 and 15 (certainty: 0.36)"
       ]
      },
      {
       "output_type": "stream",
       "stream": "stdout",
       "text": [
        "\n",
        "Score: 0.0129 for 25 and 21 (certainty: 0.75)"
       ]
      },
      {
       "output_type": "stream",
       "stream": "stdout",
       "text": [
        "\n",
        "Score: 0.0156 for 25 and 15 (certainty: 0.19)\n",
        "Score: 0.0062 for 25 and 16 (certainty: 0.19)"
       ]
      },
      {
       "output_type": "stream",
       "stream": "stdout",
       "text": [
        "\n",
        "Score: 0.0212 for 25 and 17 (certainty: 0.36)"
       ]
      },
      {
       "output_type": "stream",
       "stream": "stdout",
       "text": [
        "\n",
        "Score: 0.0320 for 25 and 28 (certainty: 0.51)\n",
        "Score: 0.0136 for 25 and 27 (certainty: 0.64)"
       ]
      },
      {
       "output_type": "stream",
       "stream": "stdout",
       "text": [
        "\n",
        "Score: 0.0009 for 25 and 13 (certainty: 0.51)"
       ]
      },
      {
       "output_type": "stream",
       "stream": "stdout",
       "text": [
        "\n",
        "Score: 0.0077 for 25 and 23 (certainty: 0.64)"
       ]
      },
      {
       "output_type": "stream",
       "stream": "stdout",
       "text": [
        "\n",
        "Score: 0.0239 for 23 and 25 (certainty: 1.00)"
       ]
      },
      {
       "output_type": "stream",
       "stream": "stdout",
       "text": [
        "\n",
        "Score: 0.0115 for 23 and 26 (certainty: 0.91)"
       ]
      },
      {
       "output_type": "stream",
       "stream": "stdout",
       "text": [
        "\n",
        "Score: 0.0025 for 23 and 18 (certainty: 0.19)"
       ]
      },
      {
       "output_type": "stream",
       "stream": "stdout",
       "text": [
        "\n",
        "['../../images/testsets/Gallagher_small_unresized/23_564.jpg', '../../images/testsets/Gallagher_small_unresized/19_190.jpg']\n",
        "No descriptors found. Returning score 0\n",
        "Score: 0.0040 for 23 and 15 (certainty: 0.64)"
       ]
      },
      {
       "output_type": "stream",
       "stream": "stdout",
       "text": [
        "\n",
        "Score: 0.0044 for 23 and 14 (certainty: 0.91)"
       ]
      },
      {
       "output_type": "stream",
       "stream": "stdout",
       "text": [
        "\n",
        "Score: 0.0148 for 23 and 25 (certainty: 1.00)"
       ]
      },
      {
       "output_type": "stream",
       "stream": "stdout",
       "text": [
        "\n",
        "Score: 0.0304 for 23 and 25 (certainty: 0.96)"
       ]
      },
      {
       "output_type": "stream",
       "stream": "stdout",
       "text": [
        "\n",
        "Score: 0.0111 for 23 and 32 (certainty: 0.91)"
       ]
      },
      {
       "output_type": "stream",
       "stream": "stdout",
       "text": [
        "\n",
        "Score: 0.0297 for 23 and 30 (certainty: 0.91)"
       ]
      },
      {
       "output_type": "stream",
       "stream": "stdout",
       "text": [
        "\n",
        "Score: 0.0097 for 23 and 28 (certainty: 0.91)"
       ]
      },
      {
       "output_type": "stream",
       "stream": "stdout",
       "text": [
        "\n",
        "Score: 0.0067 for 23 and 30 (certainty: 0.51)"
       ]
      },
      {
       "output_type": "stream",
       "stream": "stdout",
       "text": [
        "\n",
        "Score: 0.0081 for 23 and 26 (certainty: 0.84)"
       ]
      },
      {
       "output_type": "stream",
       "stream": "stdout",
       "text": [
        "\n",
        "Score: 0.0195 for 23 and 15 (certainty: 0.84)"
       ]
      },
      {
       "output_type": "stream",
       "stream": "stdout",
       "text": [
        "\n",
        "Score: 0.0025 for 23 and 21 (certainty: 0.64)"
       ]
      },
      {
       "output_type": "stream",
       "stream": "stdout",
       "text": [
        "\n",
        "Score: 0.0185 for 23 and 24 (certainty: 1.00)"
       ]
      },
      {
       "output_type": "stream",
       "stream": "stdout",
       "text": [
        "\n",
        "Score: 0.0080 for 23 and 17 (certainty: 0.84)"
       ]
      },
      {
       "output_type": "stream",
       "stream": "stdout",
       "text": [
        "\n",
        "Score: 0.0319 for 23 and 14 (certainty: 0.84)"
       ]
      },
      {
       "output_type": "stream",
       "stream": "stdout",
       "text": [
        "\n",
        "Score: 0.0161 for 23 and 28 (certainty: 1.00)"
       ]
      },
      {
       "output_type": "stream",
       "stream": "stdout",
       "text": [
        "\n",
        "Score: 0.0130 for 23 and 27 (certainty: 0.84)"
       ]
      },
      {
       "output_type": "stream",
       "stream": "stdout",
       "text": [
        "\n",
        "Score: 0.0077 for 23 and 22 (certainty: 0.51)"
       ]
      },
      {
       "output_type": "stream",
       "stream": "stdout",
       "text": [
        "\n",
        "Score: 0.0064 for 23 and 29 (certainty: 0.91)"
       ]
      },
      {
       "output_type": "stream",
       "stream": "stdout",
       "text": [
        "\n",
        "Score: 0.0164 for 23 and 15 (certainty: 0.99)"
       ]
      },
      {
       "output_type": "stream",
       "stream": "stdout",
       "text": [
        "\n",
        "Score: 0.0173 for 23 and 25 (certainty: 0.91)"
       ]
      },
      {
       "output_type": "stream",
       "stream": "stdout",
       "text": [
        "\n",
        "Score: 0.0090 for 23 and 23 (certainty: 1.00)"
       ]
      },
      {
       "output_type": "stream",
       "stream": "stdout",
       "text": [
        "\n",
        "Score: 0.0076 for 23 and 16 (certainty: 0.51)"
       ]
      },
      {
       "output_type": "stream",
       "stream": "stdout",
       "text": [
        "\n",
        "Score: 0.0075 for 23 and 18 (certainty: 0.75)"
       ]
      },
      {
       "output_type": "stream",
       "stream": "stdout",
       "text": [
        "\n",
        "Score: 0.0149 for 23 and 25 (certainty: 0.91)"
       ]
      },
      {
       "output_type": "stream",
       "stream": "stdout",
       "text": [
        "\n",
        "Score: 0.0040 for 23 and 32 (certainty: 0.96)"
       ]
      },
      {
       "output_type": "stream",
       "stream": "stdout",
       "text": [
        "\n",
        "Score: 0.0058 for 23 and 19 (certainty: 0.96)"
       ]
      },
      {
       "output_type": "stream",
       "stream": "stdout",
       "text": [
        "\n",
        "Score: 0.0063 for 23 and 21 (certainty: 0.64)"
       ]
      },
      {
       "output_type": "stream",
       "stream": "stdout",
       "text": [
        "\n",
        "Score: 0.0161 for 23 and 14 (certainty: 0.96)"
       ]
      },
      {
       "output_type": "stream",
       "stream": "stdout",
       "text": [
        "\n",
        "Score: 0.0018 for 23 and 26 (certainty: 0.64)"
       ]
      },
      {
       "output_type": "stream",
       "stream": "stdout",
       "text": [
        "\n",
        "Score: 0.0021 for 23 and 22 (certainty: 0.51)"
       ]
      },
      {
       "output_type": "stream",
       "stream": "stdout",
       "text": [
        "\n",
        "Score: 0.0025 for 23 and 29 (certainty: 0.64)"
       ]
      },
      {
       "output_type": "stream",
       "stream": "stdout",
       "text": [
        "\n",
        "Score: 0.0136 for 23 and 13 (certainty: 0.96)"
       ]
      },
      {
       "output_type": "stream",
       "stream": "stdout",
       "text": [
        "\n",
        "Score: 0.0292 for 23 and 28 (certainty: 0.99)"
       ]
      },
      {
       "output_type": "stream",
       "stream": "stdout",
       "text": [
        "\n",
        "Score: 0.0055 for 23 and 13 (certainty: 0.51)"
       ]
      },
      {
       "output_type": "stream",
       "stream": "stdout",
       "text": [
        "\n",
        "Score: 0.0076 for 23 and 14 (certainty: 1.00)"
       ]
      },
      {
       "output_type": "stream",
       "stream": "stdout",
       "text": [
        "\n",
        "Score: 0.0049 for 23 and 14 (certainty: 0.84)"
       ]
      },
      {
       "output_type": "stream",
       "stream": "stdout",
       "text": [
        "\n",
        "Score: 0.0095 for 23 and 27 (certainty: 0.91)"
       ]
      },
      {
       "output_type": "stream",
       "stream": "stdout",
       "text": [
        "\n",
        "Score: 0.0079 for 23 and 17 (certainty: 1.00)"
       ]
      },
      {
       "output_type": "stream",
       "stream": "stdout",
       "text": [
        "\n",
        "Score: 0.0127 for 23 and 19 (certainty: 0.51)"
       ]
      },
      {
       "output_type": "stream",
       "stream": "stdout",
       "text": [
        "\n",
        "Score: 0.0153 for 23 and 31 (certainty: 0.96)"
       ]
      },
      {
       "output_type": "stream",
       "stream": "stdout",
       "text": [
        "\n",
        "Score: 0.0145 for 23 and 21 (certainty: 0.96)"
       ]
      },
      {
       "output_type": "stream",
       "stream": "stdout",
       "text": [
        "\n",
        "Score: 0.0075 for 23 and 23 (certainty: 1.00)"
       ]
      },
      {
       "output_type": "stream",
       "stream": "stdout",
       "text": [
        "\n",
        "Score: 0.0153 for 23 and 25 (certainty: 0.99)"
       ]
      },
      {
       "output_type": "stream",
       "stream": "stdout",
       "text": [
        "\n",
        "Score: 0.0039 for 23 and 23 (certainty: 0.19)"
       ]
      },
      {
       "output_type": "stream",
       "stream": "stdout",
       "text": [
        "\n",
        "Score: 0.0108 for 23 and 31 (certainty: 0.91)"
       ]
      },
      {
       "output_type": "stream",
       "stream": "stdout",
       "text": [
        "\n",
        "Score: 0.0137 for 23 and 15 (certainty: 0.75)"
       ]
      },
      {
       "output_type": "stream",
       "stream": "stdout",
       "text": [
        "\n",
        "Score: 0.0479 for 23 and 23 (certainty: 1.00)"
       ]
      },
      {
       "output_type": "stream",
       "stream": "stdout",
       "text": [
        "\n",
        "Score: 0.0080 for 23 and 18 (certainty: 0.64)"
       ]
      },
      {
       "output_type": "stream",
       "stream": "stdout",
       "text": [
        "\n",
        "Score: 0.0169 for 23 and 15 (certainty: 1.00)"
       ]
      },
      {
       "output_type": "stream",
       "stream": "stdout",
       "text": [
        "\n",
        "Score: 0.0045 for 23 and 16 (certainty: 1.00)"
       ]
      },
      {
       "output_type": "stream",
       "stream": "stdout",
       "text": [
        "\n",
        "Score: 0.0400 for 23 and 23 (certainty: 1.00)"
       ]
      },
      {
       "output_type": "stream",
       "stream": "stdout",
       "text": [
        "\n",
        "Score: 0.0519 for 23 and 23 (certainty: 1.00)"
       ]
      },
      {
       "output_type": "stream",
       "stream": "stdout",
       "text": [
        "\n",
        "Score: 0.0184 for 23 and 32 (certainty: 0.75)"
       ]
      },
      {
       "output_type": "stream",
       "stream": "stdout",
       "text": [
        "\n",
        "Score: 0.0045 for 23 and 15 (certainty: 0.75)"
       ]
      },
      {
       "output_type": "stream",
       "stream": "stdout",
       "text": [
        "\n",
        "Score: 0.0170 for 23 and 24 (certainty: 0.84)"
       ]
      },
      {
       "output_type": "stream",
       "stream": "stdout",
       "text": [
        "\n",
        "Score: 0.0291 for 23 and 25 (certainty: 0.99)"
       ]
      },
      {
       "output_type": "stream",
       "stream": "stdout",
       "text": [
        "\n",
        "Score: 0.0120 for 23 and 30 (certainty: 1.00)"
       ]
      },
      {
       "output_type": "stream",
       "stream": "stdout",
       "text": [
        "\n",
        "Score: 0.0072 for 23 and 32 (certainty: 0.75)"
       ]
      },
      {
       "output_type": "stream",
       "stream": "stdout",
       "text": [
        "\n",
        "['../../images/testsets/Gallagher_small_unresized/23_564.jpg', '../../images/testsets/Gallagher_small_unresized/29_538.jpg']\n",
        "No descriptors found. Returning score 0\n",
        "Score: 0.0099 for 23 and 21 (certainty: 1.00)"
       ]
      },
      {
       "output_type": "stream",
       "stream": "stdout",
       "text": [
        "\n",
        "Score: 0.0153 for 23 and 20 (certainty: 1.00)"
       ]
      },
      {
       "output_type": "stream",
       "stream": "stdout",
       "text": [
        "\n",
        "Score: 0.0129 for 23 and 15 (certainty: 0.96)"
       ]
      },
      {
       "output_type": "stream",
       "stream": "stdout",
       "text": [
        "\n",
        "Score: 0.0184 for 23 and 15 (certainty: 0.96)"
       ]
      },
      {
       "output_type": "stream",
       "stream": "stdout",
       "text": [
        "\n",
        "Score: 0.0093 for 23 and 19 (certainty: 0.84)"
       ]
      },
      {
       "output_type": "stream",
       "stream": "stdout",
       "text": [
        "\n",
        "Score: 0.0270 for 23 and 19 (certainty: 0.99)"
       ]
      },
      {
       "output_type": "stream",
       "stream": "stdout",
       "text": [
        "\n",
        "Score: 0.0160 for 23 and 21 (certainty: 0.75)"
       ]
      },
      {
       "output_type": "stream",
       "stream": "stdout",
       "text": [
        "\n",
        "Score: 0.0094 for 23 and 26 (certainty: 0.91)"
       ]
      },
      {
       "output_type": "stream",
       "stream": "stdout",
       "text": [
        "\n",
        "Score: 0.0366 for 23 and 27 (certainty: 0.96)"
       ]
      },
      {
       "output_type": "stream",
       "stream": "stdout",
       "text": [
        "\n",
        "Score: 0.0244 for 23 and 15 (certainty: 0.96)"
       ]
      },
      {
       "output_type": "stream",
       "stream": "stdout",
       "text": [
        "\n",
        "Score: 0.0174 for 23 and 15 (certainty: 0.84)"
       ]
      },
      {
       "output_type": "stream",
       "stream": "stdout",
       "text": [
        "\n",
        "Score: 0.0212 for 23 and 21 (certainty: 0.51)"
       ]
      },
      {
       "output_type": "stream",
       "stream": "stdout",
       "text": [
        "\n",
        "Score: 0.0012 for 23 and 15 (certainty: 0.19)\n",
        "Score: 0.0217 for 23 and 16 (certainty: 0.64)"
       ]
      },
      {
       "output_type": "stream",
       "stream": "stdout",
       "text": [
        "\n",
        "Score: 0.0082 for 23 and 17 (certainty: 0.51)"
       ]
      },
      {
       "output_type": "stream",
       "stream": "stdout",
       "text": [
        "\n",
        "Score: 0.0048 for 23 and 28 (certainty: 0.36)"
       ]
      },
      {
       "output_type": "stream",
       "stream": "stdout",
       "text": [
        "\n",
        "Score: 0.0198 for 23 and 27 (certainty: 0.96)"
       ]
      },
      {
       "output_type": "stream",
       "stream": "stdout",
       "text": [
        "\n",
        "Score: 0.0027 for 23 and 13 (certainty: 0.64)"
       ]
      },
      {
       "output_type": "stream",
       "stream": "stdout",
       "text": [
        "\n",
        "Score: 0.0136 for 23 and 23 (certainty: 1.00)"
       ]
      },
      {
       "output_type": "stream",
       "stream": "stdout",
       "text": [
        "\n",
        "Score: 0.0458 for 25 and 26 (certainty: 0.99)"
       ]
      },
      {
       "output_type": "stream",
       "stream": "stdout",
       "text": [
        "\n",
        "Score: 0.0141 for 25 and 18 (certainty: 0.64)"
       ]
      },
      {
       "output_type": "stream",
       "stream": "stdout",
       "text": [
        "\n",
        "['../../images/testsets/Gallagher_small_unresized/25_757.jpg', '../../images/testsets/Gallagher_small_unresized/19_190.jpg']\n",
        "No descriptors found. Returning score 0\n",
        "Score: 0.0139 for 25 and 15 (certainty: 0.75)"
       ]
      },
      {
       "output_type": "stream",
       "stream": "stdout",
       "text": [
        "\n",
        "Score: 0.0165 for 25 and 14 (certainty: 0.96)"
       ]
      },
      {
       "output_type": "stream",
       "stream": "stdout",
       "text": [
        "\n",
        "Score: 0.0398 for 25 and 25 (certainty: 1.00)"
       ]
      },
      {
       "output_type": "stream",
       "stream": "stdout",
       "text": [
        "\n",
        "Score: 0.0249 for 25 and 25 (certainty: 1.00)"
       ]
      },
      {
       "output_type": "stream",
       "stream": "stdout",
       "text": [
        "\n",
        "Score: 0.0155 for 25 and 32 (certainty: 1.00)"
       ]
      },
      {
       "output_type": "stream",
       "stream": "stdout",
       "text": [
        "\n",
        "Score: 0.0230 for 25 and 30 (certainty: 1.00)"
       ]
      },
      {
       "output_type": "stream",
       "stream": "stdout",
       "text": [
        "\n",
        "Score: 0.0655 for 25 and 28 (certainty: 1.00)"
       ]
      },
      {
       "output_type": "stream",
       "stream": "stdout",
       "text": [
        "\n",
        "Score: 0.0155 for 25 and 30 (certainty: 0.51)"
       ]
      },
      {
       "output_type": "stream",
       "stream": "stdout",
       "text": [
        "\n",
        "Score: 0.0111 for 25 and 26 (certainty: 0.99)"
       ]
      },
      {
       "output_type": "stream",
       "stream": "stdout",
       "text": [
        "\n",
        "Score: 0.0296 for 25 and 15 (certainty: 1.00)"
       ]
      },
      {
       "output_type": "stream",
       "stream": "stdout",
       "text": [
        "\n",
        "Score: 0.0096 for 25 and 21 (certainty: 0.75)"
       ]
      },
      {
       "output_type": "stream",
       "stream": "stdout",
       "text": [
        "\n",
        "Score: 0.0216 for 25 and 24 (certainty: 1.00)"
       ]
      },
      {
       "output_type": "stream",
       "stream": "stdout",
       "text": [
        "\n",
        "Score: 0.0070 for 25 and 17 (certainty: 0.64)"
       ]
      },
      {
       "output_type": "stream",
       "stream": "stdout",
       "text": [
        "\n",
        "Score: 0.0060 for 25 and 14 (certainty: 0.36)"
       ]
      },
      {
       "output_type": "stream",
       "stream": "stdout",
       "text": [
        "\n",
        "Score: 0.0338 for 25 and 28 (certainty: 1.00)"
       ]
      },
      {
       "output_type": "stream",
       "stream": "stdout",
       "text": [
        "\n",
        "Score: 0.0042 for 25 and 27 (certainty: 0.64)"
       ]
      },
      {
       "output_type": "stream",
       "stream": "stdout",
       "text": [
        "\n",
        "Score: 0.0174 for 25 and 22 (certainty: 0.64)"
       ]
      },
      {
       "output_type": "stream",
       "stream": "stdout",
       "text": [
        "\n",
        "Score: 0.0149 for 25 and 29 (certainty: 0.96)"
       ]
      },
      {
       "output_type": "stream",
       "stream": "stdout",
       "text": [
        "\n",
        "Score: 0.0337 for 25 and 15 (certainty: 1.00)"
       ]
      },
      {
       "output_type": "stream",
       "stream": "stdout",
       "text": [
        "\n",
        "Score: 0.0206 for 25 and 25 (certainty: 0.91)"
       ]
      },
      {
       "output_type": "stream",
       "stream": "stdout",
       "text": [
        "\n",
        "Score: 0.0110 for 25 and 23 (certainty: 0.96)"
       ]
      },
      {
       "output_type": "stream",
       "stream": "stdout",
       "text": [
        "\n",
        "Score: 0.0223 for 25 and 16 (certainty: 0.91)"
       ]
      },
      {
       "output_type": "stream",
       "stream": "stdout",
       "text": [
        "\n",
        "Score: 0.0272 for 25 and 18 (certainty: 0.75)"
       ]
      },
      {
       "output_type": "stream",
       "stream": "stdout",
       "text": [
        "\n",
        "Score: 0.0214 for 25 and 25 (certainty: 1.00)"
       ]
      },
      {
       "output_type": "stream",
       "stream": "stdout",
       "text": [
        "\n",
        "Score: 0.0240 for 25 and 32 (certainty: 0.91)"
       ]
      },
      {
       "output_type": "stream",
       "stream": "stdout",
       "text": [
        "\n",
        "Score: 0.0127 for 25 and 19 (certainty: 0.96)"
       ]
      },
      {
       "output_type": "stream",
       "stream": "stdout",
       "text": [
        "\n",
        "Score: 0.0212 for 25 and 21 (certainty: 0.99)"
       ]
      },
      {
       "output_type": "stream",
       "stream": "stdout",
       "text": [
        "\n",
        "Score: 0.0251 for 25 and 14 (certainty: 1.00)"
       ]
      },
      {
       "output_type": "stream",
       "stream": "stdout",
       "text": [
        "\n",
        "Score: 0.0156 for 25 and 26 (certainty: 0.36)"
       ]
      },
      {
       "output_type": "stream",
       "stream": "stdout",
       "text": [
        "\n",
        "Score: 0.0110 for 25 and 22 (certainty: 0.64)"
       ]
      },
      {
       "output_type": "stream",
       "stream": "stdout",
       "text": [
        "\n",
        "Score: 0.0338 for 25 and 29 (certainty: 0.84)"
       ]
      },
      {
       "output_type": "stream",
       "stream": "stdout",
       "text": [
        "\n",
        "Score: 0.0200 for 25 and 13 (certainty: 0.91)"
       ]
      },
      {
       "output_type": "stream",
       "stream": "stdout",
       "text": [
        "\n",
        "Score: 0.0344 for 25 and 28 (certainty: 0.99)"
       ]
      },
      {
       "output_type": "stream",
       "stream": "stdout",
       "text": [
        "\n",
        "Score: 0.0156 for 25 and 13 (certainty: 0.64)"
       ]
      },
      {
       "output_type": "stream",
       "stream": "stdout",
       "text": [
        "\n",
        "Score: 0.0339 for 25 and 14 (certainty: 0.96)"
       ]
      },
      {
       "output_type": "stream",
       "stream": "stdout",
       "text": [
        "\n",
        "Score: 0.0144 for 25 and 14 (certainty: 0.91)"
       ]
      },
      {
       "output_type": "stream",
       "stream": "stdout",
       "text": [
        "\n",
        "Score: 0.0083 for 25 and 27 (certainty: 0.84)"
       ]
      },
      {
       "output_type": "stream",
       "stream": "stdout",
       "text": [
        "\n",
        "Score: 0.0116 for 25 and 17 (certainty: 0.96)"
       ]
      },
      {
       "output_type": "stream",
       "stream": "stdout",
       "text": [
        "\n",
        "Score: 0.0173 for 25 and 19 (certainty: 0.91)"
       ]
      },
      {
       "output_type": "stream",
       "stream": "stdout",
       "text": [
        "\n",
        "Score: 0.0025 for 25 and 31 (certainty: 0.96)"
       ]
      },
      {
       "output_type": "stream",
       "stream": "stdout",
       "text": [
        "\n",
        "Score: 0.0157 for 25 and 21 (certainty: 0.84)"
       ]
      },
      {
       "output_type": "stream",
       "stream": "stdout",
       "text": [
        "\n",
        "Score: 0.0191 for 25 and 23 (certainty: 0.99)"
       ]
      },
      {
       "output_type": "stream",
       "stream": "stdout",
       "text": [
        "\n",
        "Score: 0.0592 for 25 and 25 (certainty: 1.00)"
       ]
      },
      {
       "output_type": "stream",
       "stream": "stdout",
       "text": [
        "\n",
        "Score: 0.0022 for 25 and 23 (certainty: 0.19)\n",
        "Score: 0.0113 for 25 and 31 (certainty: 0.91)"
       ]
      },
      {
       "output_type": "stream",
       "stream": "stdout",
       "text": [
        "\n",
        "Score: 0.0139 for 25 and 15 (certainty: 0.75)"
       ]
      },
      {
       "output_type": "stream",
       "stream": "stdout",
       "text": [
        "\n",
        "Score: 0.0260 for 25 and 23 (certainty: 1.00)"
       ]
      },
      {
       "output_type": "stream",
       "stream": "stdout",
       "text": [
        "\n",
        "Score: 0.0063 for 25 and 18 (certainty: 0.96)"
       ]
      },
      {
       "output_type": "stream",
       "stream": "stdout",
       "text": [
        "\n",
        "Score: 0.0176 for 25 and 15 (certainty: 0.96)"
       ]
      },
      {
       "output_type": "stream",
       "stream": "stdout",
       "text": [
        "\n",
        "Score: 0.0135 for 25 and 16 (certainty: 1.00)"
       ]
      },
      {
       "output_type": "stream",
       "stream": "stdout",
       "text": [
        "\n",
        "Score: 0.0255 for 25 and 23 (certainty: 0.99)"
       ]
      },
      {
       "output_type": "stream",
       "stream": "stdout",
       "text": [
        "\n",
        "Score: 0.0295 for 25 and 23 (certainty: 0.91)"
       ]
      },
      {
       "output_type": "stream",
       "stream": "stdout",
       "text": [
        "\n",
        "Score: 0.0172 for 25 and 32 (certainty: 0.84)"
       ]
      },
      {
       "output_type": "stream",
       "stream": "stdout",
       "text": [
        "\n",
        "Score: 0.0344 for 25 and 15 (certainty: 1.00)"
       ]
      },
      {
       "output_type": "stream",
       "stream": "stdout",
       "text": [
        "\n",
        "Score: 0.0076 for 25 and 24 (certainty: 0.99)"
       ]
      },
      {
       "output_type": "stream",
       "stream": "stdout",
       "text": [
        "\n",
        "Score: 0.0510 for 25 and 25 (certainty: 1.00)"
       ]
      },
      {
       "output_type": "stream",
       "stream": "stdout",
       "text": [
        "\n",
        "Score: 0.0140 for 25 and 30 (certainty: 1.00)"
       ]
      },
      {
       "output_type": "stream",
       "stream": "stdout",
       "text": [
        "\n",
        "Score: 0.0110 for 25 and 32 (certainty: 0.84)"
       ]
      },
      {
       "output_type": "stream",
       "stream": "stdout",
       "text": [
        "\n",
        "['../../images/testsets/Gallagher_small_unresized/25_757.jpg', '../../images/testsets/Gallagher_small_unresized/29_538.jpg']\n",
        "No descriptors found. Returning score 0\n",
        "Score: 0.0235 for 25 and 21 (certainty: 0.96)"
       ]
      },
      {
       "output_type": "stream",
       "stream": "stdout",
       "text": [
        "\n",
        "Score: 0.0282 for 25 and 20 (certainty: 1.00)"
       ]
      },
      {
       "output_type": "stream",
       "stream": "stdout",
       "text": [
        "\n",
        "Score: 0.0148 for 25 and 15 (certainty: 0.96)"
       ]
      },
      {
       "output_type": "stream",
       "stream": "stdout",
       "text": [
        "\n",
        "Score: 0.0183 for 25 and 15 (certainty: 0.84)"
       ]
      },
      {
       "output_type": "stream",
       "stream": "stdout",
       "text": [
        "\n",
        "Score: 0.0174 for 25 and 19 (certainty: 1.00)"
       ]
      },
      {
       "output_type": "stream",
       "stream": "stdout",
       "text": [
        "\n",
        "Score: 0.0311 for 25 and 19 (certainty: 0.96)"
       ]
      },
      {
       "output_type": "stream",
       "stream": "stdout",
       "text": [
        "\n",
        "Score: 0.0274 for 25 and 21 (certainty: 0.99)"
       ]
      },
      {
       "output_type": "stream",
       "stream": "stdout",
       "text": [
        "\n",
        "Score: 0.0350 for 25 and 26 (certainty: 0.96)"
       ]
      },
      {
       "output_type": "stream",
       "stream": "stdout",
       "text": [
        "\n",
        "Score: 0.0110 for 25 and 27 (certainty: 0.96)"
       ]
      },
      {
       "output_type": "stream",
       "stream": "stdout",
       "text": [
        "\n",
        "Score: 0.0148 for 25 and 15 (certainty: 0.91)"
       ]
      },
      {
       "output_type": "stream",
       "stream": "stdout",
       "text": [
        "\n",
        "Score: 0.0181 for 25 and 15 (certainty: 0.84)"
       ]
      },
      {
       "output_type": "stream",
       "stream": "stdout",
       "text": [
        "\n",
        "Score: 0.0196 for 25 and 21 (certainty: 0.84)"
       ]
      },
      {
       "output_type": "stream",
       "stream": "stdout",
       "text": [
        "\n",
        "Score: 0.0061 for 25 and 15 (certainty: 0.19)\n",
        "Score: 0.0326 for 25 and 16 (certainty: 0.96)"
       ]
      },
      {
       "output_type": "stream",
       "stream": "stdout",
       "text": [
        "\n",
        "Score: 0.0084 for 25 and 17 (certainty: 0.51)"
       ]
      },
      {
       "output_type": "stream",
       "stream": "stdout",
       "text": [
        "\n",
        "Score: 0.0084 for 25 and 28 (certainty: 0.36)"
       ]
      },
      {
       "output_type": "stream",
       "stream": "stdout",
       "text": [
        "\n",
        "Score: 0.0065 for 25 and 27 (certainty: 0.91)"
       ]
      },
      {
       "output_type": "stream",
       "stream": "stdout",
       "text": [
        "\n",
        "Score: 0.0270 for 25 and 13 (certainty: 0.91)"
       ]
      },
      {
       "output_type": "stream",
       "stream": "stdout",
       "text": [
        "\n",
        "Score: 0.0271 for 25 and 23 (certainty: 1.00)"
       ]
      },
      {
       "output_type": "stream",
       "stream": "stdout",
       "text": [
        "\n",
        "Score: 0.0113 for 26 and 18 (certainty: 0.75)"
       ]
      },
      {
       "output_type": "stream",
       "stream": "stdout",
       "text": [
        "\n",
        "['../../images/testsets/Gallagher_small_unresized/26_878.jpg', '../../images/testsets/Gallagher_small_unresized/19_190.jpg']\n",
        "No descriptors found. Returning score 0\n",
        "Score: 0.0089 for 26 and 15 (certainty: 0.64)"
       ]
      },
      {
       "output_type": "stream",
       "stream": "stdout",
       "text": [
        "\n",
        "Score: 0.0076 for 26 and 14 (certainty: 0.84)"
       ]
      },
      {
       "output_type": "stream",
       "stream": "stdout",
       "text": [
        "\n",
        "Score: 0.0236 for 26 and 25 (certainty: 1.00)"
       ]
      },
      {
       "output_type": "stream",
       "stream": "stdout",
       "text": [
        "\n",
        "Score: 0.0147 for 26 and 25 (certainty: 1.00)"
       ]
      },
      {
       "output_type": "stream",
       "stream": "stdout",
       "text": [
        "\n",
        "Score: 0.0125 for 26 and 32 (certainty: 0.96)"
       ]
      },
      {
       "output_type": "stream",
       "stream": "stdout",
       "text": [
        "\n",
        "Score: 0.0386 for 26 and 30 (certainty: 0.99)"
       ]
      },
      {
       "output_type": "stream",
       "stream": "stdout",
       "text": [
        "\n",
        "Score: 0.0081 for 26 and 28 (certainty: 1.00)"
       ]
      },
      {
       "output_type": "stream",
       "stream": "stdout",
       "text": [
        "\n",
        "Score: 0.0089 for 26 and 30 (certainty: 0.36)"
       ]
      },
      {
       "output_type": "stream",
       "stream": "stdout",
       "text": [
        "\n",
        "Score: 0.0092 for 26 and 26 (certainty: 1.00)"
       ]
      },
      {
       "output_type": "stream",
       "stream": "stdout",
       "text": [
        "\n",
        "Score: 0.0287 for 26 and 15 (certainty: 1.00)"
       ]
      },
      {
       "output_type": "stream",
       "stream": "stdout",
       "text": [
        "\n",
        "Score: 0.0139 for 26 and 21 (certainty: 0.91)"
       ]
      },
      {
       "output_type": "stream",
       "stream": "stdout",
       "text": [
        "\n",
        "Score: 0.0049 for 26 and 24 (certainty: 0.96)"
       ]
      },
      {
       "output_type": "stream",
       "stream": "stdout",
       "text": [
        "\n",
        "Score: 0.0105 for 26 and 17 (certainty: 0.96)"
       ]
      },
      {
       "output_type": "stream",
       "stream": "stdout",
       "text": [
        "\n",
        "Score: 0.0099 for 26 and 14 (certainty: 0.64)"
       ]
      },
      {
       "output_type": "stream",
       "stream": "stdout",
       "text": [
        "\n",
        "Score: 0.0071 for 26 and 28 (certainty: 1.00)"
       ]
      },
      {
       "output_type": "stream",
       "stream": "stdout",
       "text": [
        "\n",
        "Score: 0.0202 for 26 and 27 (certainty: 0.64)"
       ]
      },
      {
       "output_type": "stream",
       "stream": "stdout",
       "text": [
        "\n",
        "Score: 0.0084 for 26 and 22 (certainty: 0.64)"
       ]
      },
      {
       "output_type": "stream",
       "stream": "stdout",
       "text": [
        "\n",
        "Score: 0.0087 for 26 and 29 (certainty: 1.00)"
       ]
      },
      {
       "output_type": "stream",
       "stream": "stdout",
       "text": [
        "\n",
        "Score: 0.0232 for 26 and 15 (certainty: 0.96)"
       ]
      },
      {
       "output_type": "stream",
       "stream": "stdout",
       "text": [
        "\n",
        "Score: 0.0220 for 26 and 25 (certainty: 0.91)"
       ]
      },
      {
       "output_type": "stream",
       "stream": "stdout",
       "text": [
        "\n",
        "Score: 0.0029 for 26 and 23 (certainty: 0.99)"
       ]
      },
      {
       "output_type": "stream",
       "stream": "stdout",
       "text": [
        "\n",
        "Score: 0.0023 for 26 and 16 (certainty: 0.64)"
       ]
      },
      {
       "output_type": "stream",
       "stream": "stdout",
       "text": [
        "\n",
        "Score: 0.0079 for 26 and 18 (certainty: 0.84)"
       ]
      },
      {
       "output_type": "stream",
       "stream": "stdout",
       "text": [
        "\n",
        "Score: 0.0044 for 26 and 25 (certainty: 0.91)"
       ]
      },
      {
       "output_type": "stream",
       "stream": "stdout",
       "text": [
        "\n",
        "Score: 0.0056 for 26 and 32 (certainty: 0.75)"
       ]
      },
      {
       "output_type": "stream",
       "stream": "stdout",
       "text": [
        "\n",
        "Score: 0.0141 for 26 and 19 (certainty: 0.96)"
       ]
      },
      {
       "output_type": "stream",
       "stream": "stdout",
       "text": [
        "\n",
        "Score: 0.0242 for 26 and 21 (certainty: 0.99)"
       ]
      },
      {
       "output_type": "stream",
       "stream": "stdout",
       "text": [
        "\n",
        "Score: 0.0077 for 26 and 14 (certainty: 0.84)"
       ]
      },
      {
       "output_type": "stream",
       "stream": "stdout",
       "text": [
        "\n",
        "Score: 0.0155 for 26 and 26 (certainty: 0.64)"
       ]
      },
      {
       "output_type": "stream",
       "stream": "stdout",
       "text": [
        "\n",
        "Score: 0.0095 for 26 and 22 (certainty: 0.75)"
       ]
      },
      {
       "output_type": "stream",
       "stream": "stdout",
       "text": [
        "\n",
        "Score: 0.0056 for 26 and 29 (certainty: 0.99)"
       ]
      },
      {
       "output_type": "stream",
       "stream": "stdout",
       "text": [
        "\n",
        "Score: 0.0047 for 26 and 13 (certainty: 0.96)"
       ]
      },
      {
       "output_type": "stream",
       "stream": "stdout",
       "text": [
        "\n",
        "Score: 0.0153 for 26 and 28 (certainty: 1.00)"
       ]
      },
      {
       "output_type": "stream",
       "stream": "stdout",
       "text": [
        "\n",
        "Score: 0.0075 for 26 and 13 (certainty: 0.64)"
       ]
      },
      {
       "output_type": "stream",
       "stream": "stdout",
       "text": [
        "\n",
        "Score: 0.0142 for 26 and 14 (certainty: 1.00)"
       ]
      },
      {
       "output_type": "stream",
       "stream": "stdout",
       "text": [
        "\n",
        "Score: 0.0184 for 26 and 14 (certainty: 0.84)"
       ]
      },
      {
       "output_type": "stream",
       "stream": "stdout",
       "text": [
        "\n",
        "Score: 0.0170 for 26 and 27 (certainty: 0.99)"
       ]
      },
      {
       "output_type": "stream",
       "stream": "stdout",
       "text": [
        "\n",
        "Score: 0.0044 for 26 and 17 (certainty: 1.00)"
       ]
      },
      {
       "output_type": "stream",
       "stream": "stdout",
       "text": [
        "\n",
        "Score: 0.0111 for 26 and 19 (certainty: 0.64)"
       ]
      },
      {
       "output_type": "stream",
       "stream": "stdout",
       "text": [
        "\n",
        "Score: 0.0099 for 26 and 31 (certainty: 0.64)"
       ]
      },
      {
       "output_type": "stream",
       "stream": "stdout",
       "text": [
        "\n",
        "Score: 0.0186 for 26 and 21 (certainty: 0.84)"
       ]
      },
      {
       "output_type": "stream",
       "stream": "stdout",
       "text": [
        "\n",
        "Score: 0.0157 for 26 and 23 (certainty: 1.00)"
       ]
      },
      {
       "output_type": "stream",
       "stream": "stdout",
       "text": [
        "\n",
        "Score: 0.0252 for 26 and 25 (certainty: 1.00)"
       ]
      },
      {
       "output_type": "stream",
       "stream": "stdout",
       "text": [
        "\n",
        "Score: 0.0066 for 26 and 23 (certainty: 0.19)"
       ]
      },
      {
       "output_type": "stream",
       "stream": "stdout",
       "text": [
        "\n",
        "Score: 0.0138 for 26 and 31 (certainty: 0.64)"
       ]
      },
      {
       "output_type": "stream",
       "stream": "stdout",
       "text": [
        "\n",
        "Score: 0.0128 for 26 and 15 (certainty: 0.36)"
       ]
      },
      {
       "output_type": "stream",
       "stream": "stdout",
       "text": [
        "\n",
        "Score: 0.0159 for 26 and 23 (certainty: 1.00)"
       ]
      },
      {
       "output_type": "stream",
       "stream": "stdout",
       "text": [
        "\n",
        "Score: 0.0215 for 26 and 18 (certainty: 1.00)"
       ]
      },
      {
       "output_type": "stream",
       "stream": "stdout",
       "text": [
        "\n",
        "Score: 0.0094 for 26 and 15 (certainty: 0.84)"
       ]
      },
      {
       "output_type": "stream",
       "stream": "stdout",
       "text": [
        "\n",
        "Score: 0.0091 for 26 and 16 (certainty: 1.00)"
       ]
      },
      {
       "output_type": "stream",
       "stream": "stdout",
       "text": [
        "\n",
        "Score: 0.0040 for 26 and 23 (certainty: 0.84)"
       ]
      },
      {
       "output_type": "stream",
       "stream": "stdout",
       "text": [
        "\n",
        "Score: 0.0171 for 26 and 23 (certainty: 0.91)"
       ]
      },
      {
       "output_type": "stream",
       "stream": "stdout",
       "text": [
        "\n",
        "Score: 0.0118 for 26 and 32 (certainty: 0.51)"
       ]
      },
      {
       "output_type": "stream",
       "stream": "stdout",
       "text": [
        "\n",
        "Score: 0.0018 for 26 and 15 (certainty: 0.91)"
       ]
      },
      {
       "output_type": "stream",
       "stream": "stdout",
       "text": [
        "\n",
        "Score: 0.0034 for 26 and 24 (certainty: 0.75)"
       ]
      },
      {
       "output_type": "stream",
       "stream": "stdout",
       "text": [
        "\n",
        "Score: 0.0327 for 26 and 25 (certainty: 1.00)"
       ]
      },
      {
       "output_type": "stream",
       "stream": "stdout",
       "text": [
        "\n",
        "Score: 0.0259 for 26 and 30 (certainty: 1.00)"
       ]
      },
      {
       "output_type": "stream",
       "stream": "stdout",
       "text": [
        "\n",
        "Score: 0.0179 for 26 and 32 (certainty: 0.99)"
       ]
      },
      {
       "output_type": "stream",
       "stream": "stdout",
       "text": [
        "\n",
        "['../../images/testsets/Gallagher_small_unresized/26_878.jpg', '../../images/testsets/Gallagher_small_unresized/29_538.jpg']\n",
        "No descriptors found. Returning score 0\n",
        "Score: 0.0097 for 26 and 21 (certainty: 1.00)"
       ]
      },
      {
       "output_type": "stream",
       "stream": "stdout",
       "text": [
        "\n",
        "Score: 0.0306 for 26 and 20 (certainty: 1.00)"
       ]
      },
      {
       "output_type": "stream",
       "stream": "stdout",
       "text": [
        "\n",
        "Score: 0.0153 for 26 and 15 (certainty: 0.91)"
       ]
      },
      {
       "output_type": "stream",
       "stream": "stdout",
       "text": [
        "\n",
        "Score: 0.0121 for 26 and 15 (certainty: 0.84)"
       ]
      },
      {
       "output_type": "stream",
       "stream": "stdout",
       "text": [
        "\n",
        "Score: 0.0233 for 26 and 19 (certainty: 1.00)"
       ]
      },
      {
       "output_type": "stream",
       "stream": "stdout",
       "text": [
        "\n",
        "Score: 0.0190 for 26 and 19 (certainty: 0.91)"
       ]
      },
      {
       "output_type": "stream",
       "stream": "stdout",
       "text": [
        "\n",
        "Score: 0.0182 for 26 and 21 (certainty: 0.99)"
       ]
      },
      {
       "output_type": "stream",
       "stream": "stdout",
       "text": [
        "\n",
        "Score: 0.0132 for 26 and 26 (certainty: 1.00)"
       ]
      },
      {
       "output_type": "stream",
       "stream": "stdout",
       "text": [
        "\n",
        "Score: 0.0282 for 26 and 27 (certainty: 0.96)"
       ]
      },
      {
       "output_type": "stream",
       "stream": "stdout",
       "text": [
        "\n",
        "Score: 0.0134 for 26 and 15 (certainty: 0.75)"
       ]
      },
      {
       "output_type": "stream",
       "stream": "stdout",
       "text": [
        "\n",
        "Score: 0.0227 for 26 and 15 (certainty: 0.99)"
       ]
      },
      {
       "output_type": "stream",
       "stream": "stdout",
       "text": [
        "\n",
        "Score: 0.0088 for 26 and 21 (certainty: 0.84)"
       ]
      },
      {
       "output_type": "stream",
       "stream": "stdout",
       "text": [
        "\n",
        "Score: 0.0041 for 26 and 15 (certainty: 0.19)"
       ]
      },
      {
       "output_type": "stream",
       "stream": "stdout",
       "text": [
        "\n",
        "Score: 0.0176 for 26 and 16 (certainty: 0.84)"
       ]
      },
      {
       "output_type": "stream",
       "stream": "stdout",
       "text": [
        "\n",
        "Score: 0.0150 for 26 and 17 (certainty: 0.75)"
       ]
      },
      {
       "output_type": "stream",
       "stream": "stdout",
       "text": [
        "\n",
        "Score: 0.0158 for 26 and 28 (certainty: 0.51)"
       ]
      },
      {
       "output_type": "stream",
       "stream": "stdout",
       "text": [
        "\n",
        "Score: 0.0358 for 26 and 27 (certainty: 1.00)"
       ]
      },
      {
       "output_type": "stream",
       "stream": "stdout",
       "text": [
        "\n",
        "Score: 0.0095 for 26 and 13 (certainty: 0.96)"
       ]
      },
      {
       "output_type": "stream",
       "stream": "stdout",
       "text": [
        "\n",
        "Score: 0.0127 for 26 and 23 (certainty: 1.00)"
       ]
      },
      {
       "output_type": "stream",
       "stream": "stdout",
       "text": [
        "\n",
        "['../../images/testsets/Gallagher_small_unresized/18_216.jpg', '../../images/testsets/Gallagher_small_unresized/19_190.jpg']\n",
        "No descriptors found. Returning score 0\n",
        "Score: 0.0192 for 18 and 15 (certainty: 0.36)\n",
        "Score: 0.0000 for 18 and 14 (certainty: 0.19)"
       ]
      },
      {
       "output_type": "stream",
       "stream": "stdout",
       "text": [
        "\n",
        "Score: 0.0034 for 18 and 25 (certainty: 0.64)"
       ]
      },
      {
       "output_type": "stream",
       "stream": "stdout",
       "text": [
        "\n",
        "Score: 0.0070 for 18 and 25 (certainty: 0.36)"
       ]
      },
      {
       "output_type": "stream",
       "stream": "stdout",
       "text": [
        "\n",
        "Score: 0.0010 for 18 and 32 (certainty: 0.19)"
       ]
      },
      {
       "output_type": "stream",
       "stream": "stdout",
       "text": [
        "\n",
        "Score: 0.0000 for 18 and 30 (certainty: 0.36)"
       ]
      },
      {
       "output_type": "stream",
       "stream": "stdout",
       "text": [
        "\n",
        "Score: 0.0106 for 18 and 28 (certainty: 0.51)"
       ]
      },
      {
       "output_type": "stream",
       "stream": "stdout",
       "text": [
        "\n",
        "Score: 0.0000 for 18 and 30 (certainty: 0.19)\n",
        "Score: 0.0025 for 18 and 26 (certainty: 0.36)"
       ]
      },
      {
       "output_type": "stream",
       "stream": "stdout",
       "text": [
        "\n",
        "Score: 0.0019 for 18 and 15 (certainty: 0.19)"
       ]
      },
      {
       "output_type": "stream",
       "stream": "stdout",
       "text": [
        "\n",
        "Score: 0.0096 for 18 and 21 (certainty: 0.51)"
       ]
      },
      {
       "output_type": "stream",
       "stream": "stdout",
       "text": [
        "\n",
        "Score: 0.0000 for 18 and 24 (certainty: 0.36)"
       ]
      },
      {
       "output_type": "stream",
       "stream": "stdout",
       "text": [
        "\n",
        "Score: 0.0000 for 18 and 17 (certainty: 0.19)"
       ]
      },
      {
       "output_type": "stream",
       "stream": "stdout",
       "text": [
        "\n",
        "Score: 0.0000 for 18 and 14 (certainty: 0.00)\n",
        "Score: 0.0048 for 18 and 28 (certainty: 0.51)"
       ]
      },
      {
       "output_type": "stream",
       "stream": "stdout",
       "text": [
        "\n",
        "Score: 0.0000 for 18 and 27 (certainty: 0.19)"
       ]
      },
      {
       "output_type": "stream",
       "stream": "stdout",
       "text": [
        "\n",
        "Score: 0.0047 for 18 and 22 (certainty: 0.19)\n",
        "Score: 0.0081 for 18 and 29 (certainty: 0.51)"
       ]
      },
      {
       "output_type": "stream",
       "stream": "stdout",
       "text": [
        "\n",
        "Score: 0.0138 for 18 and 15 (certainty: 0.19)"
       ]
      },
      {
       "output_type": "stream",
       "stream": "stdout",
       "text": [
        "\n",
        "Score: 0.0238 for 18 and 25 (certainty: 0.64)"
       ]
      },
      {
       "output_type": "stream",
       "stream": "stdout",
       "text": [
        "\n",
        "Score: 0.0020 for 18 and 23 (certainty: 0.19)"
       ]
      },
      {
       "output_type": "stream",
       "stream": "stdout",
       "text": [
        "\n",
        "Score: 0.0000 for 18 and 16 (certainty: 0.19)\n",
        "Score: 0.0019 for 18 and 18 (certainty: 0.36)"
       ]
      },
      {
       "output_type": "stream",
       "stream": "stdout",
       "text": [
        "\n",
        "Score: 0.0165 for 18 and 25 (certainty: 0.19)"
       ]
      },
      {
       "output_type": "stream",
       "stream": "stdout",
       "text": [
        "\n",
        "Score: 0.0058 for 18 and 32 (certainty: 0.36)"
       ]
      },
      {
       "output_type": "stream",
       "stream": "stdout",
       "text": [
        "\n",
        "Score: 0.0026 for 18 and 19 (certainty: 0.19)"
       ]
      },
      {
       "output_type": "stream",
       "stream": "stdout",
       "text": [
        "\n",
        "Score: 0.0105 for 18 and 21 (certainty: 0.51)"
       ]
      },
      {
       "output_type": "stream",
       "stream": "stdout",
       "text": [
        "\n",
        "Score: 0.0058 for 18 and 14 (certainty: 0.51)"
       ]
      },
      {
       "output_type": "stream",
       "stream": "stdout",
       "text": [
        "\n",
        "Score: 0.0010 for 18 and 26 (certainty: 0.36)\n",
        "Score: 0.0011 for 18 and 22 (certainty: 0.19)"
       ]
      },
      {
       "output_type": "stream",
       "stream": "stdout",
       "text": [
        "\n",
        "Score: 0.0229 for 18 and 29 (certainty: 0.36)"
       ]
      },
      {
       "output_type": "stream",
       "stream": "stdout",
       "text": [
        "\n",
        "Score: 0.0149 for 18 and 13 (certainty: 0.36)"
       ]
      },
      {
       "output_type": "stream",
       "stream": "stdout",
       "text": [
        "\n",
        "Score: 0.0006 for 18 and 28 (certainty: 0.36)"
       ]
      },
      {
       "output_type": "stream",
       "stream": "stdout",
       "text": [
        "\n",
        "Score: 0.0153 for 18 and 13 (certainty: 0.51)\n",
        "Score: 0.0026 for 18 and 14 (certainty: 0.36)"
       ]
      },
      {
       "output_type": "stream",
       "stream": "stdout",
       "text": [
        "\n",
        "Score: 0.0000 for 18 and 14 (certainty: 0.19)"
       ]
      },
      {
       "output_type": "stream",
       "stream": "stdout",
       "text": [
        "\n",
        "Score: 0.0133 for 18 and 27 (certainty: 0.36)"
       ]
      },
      {
       "output_type": "stream",
       "stream": "stdout",
       "text": [
        "\n",
        "Score: 0.0024 for 18 and 17 (certainty: 0.36)"
       ]
      },
      {
       "output_type": "stream",
       "stream": "stdout",
       "text": [
        "\n",
        "Score: 0.0119 for 18 and 19 (certainty: 0.36)\n",
        "Score: 0.0116 for 18 and 31 (certainty: 0.36)"
       ]
      },
      {
       "output_type": "stream",
       "stream": "stdout",
       "text": [
        "\n",
        "Score: 0.0022 for 18 and 21 (certainty: 0.36)"
       ]
      },
      {
       "output_type": "stream",
       "stream": "stdout",
       "text": [
        "\n",
        "Score: 0.0218 for 18 and 23 (certainty: 0.36)"
       ]
      },
      {
       "output_type": "stream",
       "stream": "stdout",
       "text": [
        "\n",
        "Score: 0.0137 for 18 and 25 (certainty: 0.51)\n",
        "Score: 0.0000 for 18 and 23 (certainty: 0.00)"
       ]
      },
      {
       "output_type": "stream",
       "stream": "stdout",
       "text": [
        "\n",
        "Score: 0.0000 for 18 and 31 (certainty: 0.19)\n",
        "Score: 0.0048 for 18 and 15 (certainty: 0.19)"
       ]
      },
      {
       "output_type": "stream",
       "stream": "stdout",
       "text": [
        "\n",
        "Score: 0.0148 for 18 and 23 (certainty: 0.51)"
       ]
      },
      {
       "output_type": "stream",
       "stream": "stdout",
       "text": [
        "\n",
        "Score: 0.0121 for 18 and 18 (certainty: 0.51)"
       ]
      },
      {
       "output_type": "stream",
       "stream": "stdout",
       "text": [
        "\n",
        "Score: 0.0034 for 18 and 15 (certainty: 0.51)"
       ]
      },
      {
       "output_type": "stream",
       "stream": "stdout",
       "text": [
        "\n",
        "Score: 0.0011 for 18 and 16 (certainty: 0.36)"
       ]
      },
      {
       "output_type": "stream",
       "stream": "stdout",
       "text": [
        "\n",
        "Score: 0.0000 for 18 and 23 (certainty: 0.19)\n",
        "Score: 0.0014 for 18 and 23 (certainty: 0.19)"
       ]
      },
      {
       "output_type": "stream",
       "stream": "stdout",
       "text": [
        "\n",
        "Score: 0.0000 for 18 and 32 (certainty: 0.19)\n",
        "Score: 0.0060 for 18 and 15 (certainty: 0.51)"
       ]
      },
      {
       "output_type": "stream",
       "stream": "stdout",
       "text": [
        "\n",
        "Score: 0.0045 for 18 and 24 (certainty: 0.19)"
       ]
      },
      {
       "output_type": "stream",
       "stream": "stdout",
       "text": [
        "\n",
        "Score: 0.0000 for 18 and 25 (certainty: 0.00)"
       ]
      },
      {
       "output_type": "stream",
       "stream": "stdout",
       "text": [
        "\n",
        "Score: 0.0000 for 18 and 30 (certainty: 0.19)"
       ]
      },
      {
       "output_type": "stream",
       "stream": "stdout",
       "text": [
        "\n",
        "Score: 0.0223 for 18 and 32 (certainty: 0.51)"
       ]
      },
      {
       "output_type": "stream",
       "stream": "stdout",
       "text": [
        "\n",
        "['../../images/testsets/Gallagher_small_unresized/18_216.jpg', '../../images/testsets/Gallagher_small_unresized/29_538.jpg']\n",
        "No descriptors found. Returning score 0\n",
        "Score: 0.0137 for 18 and 21 (certainty: 0.64)"
       ]
      },
      {
       "output_type": "stream",
       "stream": "stdout",
       "text": [
        "\n",
        "Score: 0.0000 for 18 and 20 (certainty: 0.19)"
       ]
      },
      {
       "output_type": "stream",
       "stream": "stdout",
       "text": [
        "\n",
        "Score: 0.0000 for 18 and 15 (certainty: 0.19)"
       ]
      },
      {
       "output_type": "stream",
       "stream": "stdout",
       "text": [
        "\n",
        "Score: 0.0098 for 18 and 15 (certainty: 0.36)"
       ]
      },
      {
       "output_type": "stream",
       "stream": "stdout",
       "text": [
        "\n",
        "Score: 0.0017 for 18 and 19 (certainty: 0.51)"
       ]
      },
      {
       "output_type": "stream",
       "stream": "stdout",
       "text": [
        "\n",
        "Score: 0.0210 for 18 and 19 (certainty: 0.36)"
       ]
      },
      {
       "output_type": "stream",
       "stream": "stdout",
       "text": [
        "\n",
        "Score: 0.0020 for 18 and 21 (certainty: 0.19)"
       ]
      },
      {
       "output_type": "stream",
       "stream": "stdout",
       "text": [
        "\n",
        "Score: 0.0074 for 18 and 26 (certainty: 0.36)"
       ]
      },
      {
       "output_type": "stream",
       "stream": "stdout",
       "text": [
        "\n",
        "Score: 0.0185 for 18 and 27 (certainty: 0.36)\n",
        "Score: 0.0000 for 18 and 15 (certainty: 0.19)"
       ]
      },
      {
       "output_type": "stream",
       "stream": "stdout",
       "text": [
        "\n",
        "Score: 0.0022 for 18 and 15 (certainty: 0.19)"
       ]
      },
      {
       "output_type": "stream",
       "stream": "stdout",
       "text": [
        "\n",
        "Score: 0.0287 for 18 and 21 (certainty: 0.51)\n",
        "Score: 0.0180 for 18 and 15 (certainty: 0.19)\n",
        "Score: 0.0044 for 18 and 16 (certainty: 0.36)"
       ]
      },
      {
       "output_type": "stream",
       "stream": "stdout",
       "text": [
        "\n",
        "Score: 0.0035 for 18 and 17 (certainty: 0.19)\n",
        "Score: 0.0076 for 18 and 28 (certainty: 0.36)\n",
        "Score: 0.0000 for 18 and 27 (certainty: 0.36)"
       ]
      },
      {
       "output_type": "stream",
       "stream": "stdout",
       "text": [
        "\n",
        "Score: 0.0052 for 18 and 13 (certainty: 0.36)\n",
        "Score: 0.0059 for 18 and 23 (certainty: 0.51)"
       ]
      },
      {
       "output_type": "stream",
       "stream": "stdout",
       "text": [
        "\n",
        "['../../images/testsets/Gallagher_small_unresized/19_190.jpg', '../../images/testsets/Gallagher_small_unresized/15_160.jpg']\n",
        "No descriptors found. Returning score 0\n",
        "['../../images/testsets/Gallagher_small_unresized/19_190.jpg', '../../images/testsets/Gallagher_small_unresized/14_180.jpg']\n",
        "No descriptors found. Returning score 0\n",
        "['../../images/testsets/Gallagher_small_unresized/19_190.jpg', '../../images/testsets/Gallagher_small_unresized/25_694.jpg']\n",
        "No descriptors found. Returning score 0\n",
        "['../../images/testsets/Gallagher_small_unresized/19_190.jpg', '../../images/testsets/Gallagher_small_unresized/25_696.jpg']\n",
        "No descriptors found. Returning score 0\n",
        "['../../images/testsets/Gallagher_small_unresized/19_190.jpg', '../../images/testsets/Gallagher_small_unresized/32_639.jpg']\n",
        "No descriptors found. Returning score 0\n",
        "['../../images/testsets/Gallagher_small_unresized/19_190.jpg', '../../images/testsets/Gallagher_small_unresized/30_554.jpg']\n",
        "No descriptors found. Returning score 0\n",
        "['../../images/testsets/Gallagher_small_unresized/19_190.jpg', '../../images/testsets/Gallagher_small_unresized/28_525.jpg']\n",
        "No descriptors found. Returning score 0\n",
        "['../../images/testsets/Gallagher_small_unresized/19_190.jpg', '../../images/testsets/Gallagher_small_unresized/30_539.jpg']\n",
        "No descriptors found. Returning score 0\n",
        "['../../images/testsets/Gallagher_small_unresized/19_190.jpg', '../../images/testsets/Gallagher_small_unresized/26_550.jpg']\n",
        "No descriptors found. Returning score 0\n",
        "['../../images/testsets/Gallagher_small_unresized/19_190.jpg', '../../images/testsets/Gallagher_small_unresized/15_170.jpg']\n",
        "No descriptors found. Returning score 0\n",
        "['../../images/testsets/Gallagher_small_unresized/19_190.jpg', '../../images/testsets/Gallagher_small_unresized/21_293.jpg']\n",
        "No descriptors found. Returning score 0\n",
        "['../../images/testsets/Gallagher_small_unresized/19_190.jpg', '../../images/testsets/Gallagher_small_unresized/24_379.jpg']\n",
        "No descriptors found. Returning score 0\n",
        "['../../images/testsets/Gallagher_small_unresized/19_190.jpg', '../../images/testsets/Gallagher_small_unresized/17_212.jpg']\n",
        "No descriptors found. Returning score 0\n",
        "['../../images/testsets/Gallagher_small_unresized/19_190.jpg', '../../images/testsets/Gallagher_small_unresized/14_699.jpg']\n",
        "No descriptors found. Returning score 0\n",
        "['../../images/testsets/Gallagher_small_unresized/19_190.jpg', '../../images/testsets/Gallagher_small_unresized/28_567.jpg']\n",
        "No descriptors found. Returning score 0\n",
        "['../../images/testsets/Gallagher_small_unresized/19_190.jpg', '../../images/testsets/Gallagher_small_unresized/27_551.jpg']\n",
        "No descriptors found. Returning score 0\n",
        "['../../images/testsets/Gallagher_small_unresized/19_190.jpg', '../../images/testsets/Gallagher_small_unresized/22_254.jpg']\n",
        "No descriptors found. Returning score 0\n",
        "['../../images/testsets/Gallagher_small_unresized/19_190.jpg', '../../images/testsets/Gallagher_small_unresized/29_568.jpg']\n",
        "No descriptors found. Returning score 0\n",
        "['../../images/testsets/Gallagher_small_unresized/19_190.jpg', '../../images/testsets/Gallagher_small_unresized/15_154.jpg']"
       ]
      },
      {
       "output_type": "stream",
       "stream": "stdout",
       "text": [
        "\n",
        "No descriptors found. Returning score 0\n",
        "['../../images/testsets/Gallagher_small_unresized/19_190.jpg', '../../images/testsets/Gallagher_small_unresized/25_431.jpg']\n",
        "No descriptors found. Returning score 0\n",
        "['../../images/testsets/Gallagher_small_unresized/19_190.jpg', '../../images/testsets/Gallagher_small_unresized/23_305.jpg']\n",
        "No descriptors found. Returning score 0\n",
        "['../../images/testsets/Gallagher_small_unresized/19_190.jpg', '../../images/testsets/Gallagher_small_unresized/16_164.jpg']\n",
        "No descriptors found. Returning score 0\n",
        "['../../images/testsets/Gallagher_small_unresized/19_190.jpg', '../../images/testsets/Gallagher_small_unresized/18_166.jpg']\n",
        "No descriptors found. Returning score 0\n",
        "['../../images/testsets/Gallagher_small_unresized/19_190.jpg', '../../images/testsets/Gallagher_small_unresized/25_770.jpg']\n",
        "No descriptors found. Returning score 0\n",
        "['../../images/testsets/Gallagher_small_unresized/19_190.jpg', '../../images/testsets/Gallagher_small_unresized/32_642.jpg']\n",
        "No descriptors found. Returning score 0\n",
        "['../../images/testsets/Gallagher_small_unresized/19_190.jpg', '../../images/testsets/Gallagher_small_unresized/19_198.jpg']\n",
        "No descriptors found. Returning score 0\n",
        "['../../images/testsets/Gallagher_small_unresized/19_190.jpg', '../../images/testsets/Gallagher_small_unresized/21_294.jpg']\n",
        "No descriptors found. Returning score 0\n",
        "['../../images/testsets/Gallagher_small_unresized/19_190.jpg', '../../images/testsets/Gallagher_small_unresized/14_206.jpg']\n",
        "No descriptors found. Returning score 0\n",
        "['../../images/testsets/Gallagher_small_unresized/19_190.jpg', '../../images/testsets/Gallagher_small_unresized/26_535.jpg']\n",
        "No descriptors found. Returning score 0\n",
        "['../../images/testsets/Gallagher_small_unresized/19_190.jpg', '../../images/testsets/Gallagher_small_unresized/22_255.jpg']\n",
        "No descriptors found. Returning score 0\n",
        "['../../images/testsets/Gallagher_small_unresized/19_190.jpg', '../../images/testsets/Gallagher_small_unresized/29_553.jpg']\n",
        "No descriptors found. Returning score 0\n",
        "['../../images/testsets/Gallagher_small_unresized/19_190.jpg', '../../images/testsets/Gallagher_small_unresized/13_168.jpg']\n",
        "No descriptors found. Returning score 0\n",
        "['../../images/testsets/Gallagher_small_unresized/19_190.jpg', '../../images/testsets/Gallagher_small_unresized/28_552.jpg']\n",
        "No descriptors found. Returning score 0\n",
        "['../../images/testsets/Gallagher_small_unresized/19_190.jpg', '../../images/testsets/Gallagher_small_unresized/13_145.jpg']\n",
        "No descriptors found. Returning score 0\n",
        "['../../images/testsets/Gallagher_small_unresized/19_190.jpg', '../../images/testsets/Gallagher_small_unresized/14_207.jpg']\n",
        "No descriptors found. Returning score 0\n",
        "['../../images/testsets/Gallagher_small_unresized/19_190.jpg', '../../images/testsets/Gallagher_small_unresized/14_150.jpg']\n",
        "No descriptors found. Returning score 0\n",
        "['../../images/testsets/Gallagher_small_unresized/19_190.jpg', '../../images/testsets/Gallagher_small_unresized/27_566.jpg']\n",
        "No descriptors found. Returning score 0\n",
        "['../../images/testsets/Gallagher_small_unresized/19_190.jpg', '../../images/testsets/Gallagher_small_unresized/17_183.jpg']"
       ]
      },
      {
       "output_type": "stream",
       "stream": "stdout",
       "text": [
        "\n",
        "No descriptors found. Returning score 0\n",
        "['../../images/testsets/Gallagher_small_unresized/19_190.jpg', '../../images/testsets/Gallagher_small_unresized/19_187.jpg']\n",
        "No descriptors found. Returning score 0\n",
        "['../../images/testsets/Gallagher_small_unresized/19_190.jpg', '../../images/testsets/Gallagher_small_unresized/31_580.jpg']\n",
        "No descriptors found. Returning score 0\n",
        "['../../images/testsets/Gallagher_small_unresized/19_190.jpg', '../../images/testsets/Gallagher_small_unresized/21_872.jpg']\n",
        "No descriptors found. Returning score 0\n",
        "['../../images/testsets/Gallagher_small_unresized/19_190.jpg', '../../images/testsets/Gallagher_small_unresized/23_307.jpg']\n",
        "No descriptors found. Returning score 0\n",
        "['../../images/testsets/Gallagher_small_unresized/19_190.jpg', '../../images/testsets/Gallagher_small_unresized/25_462.jpg']\n",
        "No descriptors found. Returning score 0\n",
        "['../../images/testsets/Gallagher_small_unresized/19_190.jpg', '../../images/testsets/Gallagher_small_unresized/23_534.jpg']\n",
        "No descriptors found. Returning score 0\n",
        "['../../images/testsets/Gallagher_small_unresized/19_190.jpg', '../../images/testsets/Gallagher_small_unresized/31_582.jpg']\n",
        "No descriptors found. Returning score 0\n",
        "['../../images/testsets/Gallagher_small_unresized/19_190.jpg', '../../images/testsets/Gallagher_small_unresized/15_224.jpg']\n",
        "No descriptors found. Returning score 0\n",
        "['../../images/testsets/Gallagher_small_unresized/19_190.jpg', '../../images/testsets/Gallagher_small_unresized/23_508.jpg']\n",
        "No descriptors found. Returning score 0\n",
        "['../../images/testsets/Gallagher_small_unresized/19_190.jpg', '../../images/testsets/Gallagher_small_unresized/18_220.jpg']\n",
        "No descriptors found. Returning score 0\n",
        "['../../images/testsets/Gallagher_small_unresized/19_190.jpg', '../../images/testsets/Gallagher_small_unresized/15_151.jpg']\n",
        "No descriptors found. Returning score 0\n",
        "['../../images/testsets/Gallagher_small_unresized/19_190.jpg', '../../images/testsets/Gallagher_small_unresized/16_182.jpg']\n",
        "No descriptors found. Returning score 0\n",
        "['../../images/testsets/Gallagher_small_unresized/19_190.jpg', '../../images/testsets/Gallagher_small_unresized/23_875.jpg']\n",
        "No descriptors found. Returning score 0\n",
        "['../../images/testsets/Gallagher_small_unresized/19_190.jpg', '../../images/testsets/Gallagher_small_unresized/23_549.jpg']\n",
        "No descriptors found. Returning score 0\n",
        "['../../images/testsets/Gallagher_small_unresized/19_190.jpg', '../../images/testsets/Gallagher_small_unresized/32_648.jpg']\n",
        "No descriptors found. Returning score 0\n",
        "['../../images/testsets/Gallagher_small_unresized/19_190.jpg', '../../images/testsets/Gallagher_small_unresized/15_171.jpg']\n",
        "No descriptors found. Returning score 0\n",
        "['../../images/testsets/Gallagher_small_unresized/19_190.jpg', '../../images/testsets/Gallagher_small_unresized/24_358.jpg']\n",
        "No descriptors found. Returning score 0\n",
        "['../../images/testsets/Gallagher_small_unresized/19_190.jpg', '../../images/testsets/Gallagher_small_unresized/25_458.jpg']\n",
        "No descriptors found. Returning score 0\n",
        "['../../images/testsets/Gallagher_small_unresized/19_190.jpg', '../../images/testsets/Gallagher_small_unresized/30_569.jpg']"
       ]
      },
      {
       "output_type": "stream",
       "stream": "stdout",
       "text": [
        "\n",
        "No descriptors found. Returning score 0\n",
        "['../../images/testsets/Gallagher_small_unresized/19_190.jpg', '../../images/testsets/Gallagher_small_unresized/32_645.jpg']\n",
        "No descriptors found. Returning score 0\n",
        "['../../images/testsets/Gallagher_small_unresized/19_190.jpg', '../../images/testsets/Gallagher_small_unresized/29_538.jpg']\n",
        "No descriptors found. Returning score 0\n",
        "['../../images/testsets/Gallagher_small_unresized/19_190.jpg', '../../images/testsets/Gallagher_small_unresized/21_251.jpg']\n",
        "No descriptors found. Returning score 0\n",
        "['../../images/testsets/Gallagher_small_unresized/19_190.jpg', '../../images/testsets/Gallagher_small_unresized/20_249.jpg']\n",
        "No descriptors found. Returning score 0\n",
        "['../../images/testsets/Gallagher_small_unresized/19_190.jpg', '../../images/testsets/Gallagher_small_unresized/15_181.jpg']\n",
        "No descriptors found. Returning score 0\n",
        "['../../images/testsets/Gallagher_small_unresized/19_190.jpg', '../../images/testsets/Gallagher_small_unresized/15_158.jpg']\n",
        "No descriptors found. Returning score 0\n",
        "['../../images/testsets/Gallagher_small_unresized/19_190.jpg', '../../images/testsets/Gallagher_small_unresized/19_195.jpg']\n",
        "No descriptors found. Returning score 0\n",
        "['../../images/testsets/Gallagher_small_unresized/19_190.jpg', '../../images/testsets/Gallagher_small_unresized/19_193.jpg']\n",
        "No descriptors found. Returning score 0\n",
        "['../../images/testsets/Gallagher_small_unresized/19_190.jpg', '../../images/testsets/Gallagher_small_unresized/21_287.jpg']\n",
        "No descriptors found. Returning score 0\n",
        "['../../images/testsets/Gallagher_small_unresized/19_190.jpg', '../../images/testsets/Gallagher_small_unresized/26_565.jpg']\n",
        "No descriptors found. Returning score 0\n",
        "['../../images/testsets/Gallagher_small_unresized/19_190.jpg', '../../images/testsets/Gallagher_small_unresized/27_509.jpg']\n",
        "No descriptors found. Returning score 0\n",
        "['../../images/testsets/Gallagher_small_unresized/19_190.jpg', '../../images/testsets/Gallagher_small_unresized/15_169.jpg']\n",
        "No descriptors found. Returning score 0\n",
        "['../../images/testsets/Gallagher_small_unresized/19_190.jpg', '../../images/testsets/Gallagher_small_unresized/15_167.jpg']\n",
        "No descriptors found. Returning score 0\n",
        "['../../images/testsets/Gallagher_small_unresized/19_190.jpg', '../../images/testsets/Gallagher_small_unresized/21_587.jpg']\n",
        "No descriptors found. Returning score 0\n",
        "['../../images/testsets/Gallagher_small_unresized/19_190.jpg', '../../images/testsets/Gallagher_small_unresized/15_222.jpg']\n",
        "No descriptors found. Returning score 0\n",
        "['../../images/testsets/Gallagher_small_unresized/19_190.jpg', '../../images/testsets/Gallagher_small_unresized/16_178.jpg']\n",
        "No descriptors found. Returning score 0\n",
        "['../../images/testsets/Gallagher_small_unresized/19_190.jpg', '../../images/testsets/Gallagher_small_unresized/17_165.jpg']\n",
        "No descriptors found. Returning score 0\n",
        "['../../images/testsets/Gallagher_small_unresized/19_190.jpg', '../../images/testsets/Gallagher_small_unresized/28_537.jpg']\n",
        "No descriptors found. Returning score 0\n",
        "['../../images/testsets/Gallagher_small_unresized/19_190.jpg', '../../images/testsets/Gallagher_small_unresized/27_524.jpg']"
       ]
      },
      {
       "output_type": "stream",
       "stream": "stdout",
       "text": [
        "\n",
        "No descriptors found. Returning score 0\n",
        "['../../images/testsets/Gallagher_small_unresized/19_190.jpg', '../../images/testsets/Gallagher_small_unresized/13_163.jpg']\n",
        "No descriptors found. Returning score 0\n",
        "['../../images/testsets/Gallagher_small_unresized/19_190.jpg', '../../images/testsets/Gallagher_small_unresized/23_302.jpg']\n",
        "No descriptors found. Returning score 0\n",
        "Score: 0.0134 for 15 and 14 (certainty: 0.84)"
       ]
      },
      {
       "output_type": "stream",
       "stream": "stdout",
       "text": [
        "\n",
        "Score: 0.0218 for 15 and 25 (certainty: 0.84)"
       ]
      },
      {
       "output_type": "stream",
       "stream": "stdout",
       "text": [
        "\n",
        "Score: 0.0111 for 15 and 25 (certainty: 0.75)"
       ]
      },
      {
       "output_type": "stream",
       "stream": "stdout",
       "text": [
        "\n",
        "Score: 0.0054 for 15 and 32 (certainty: 0.64)"
       ]
      },
      {
       "output_type": "stream",
       "stream": "stdout",
       "text": [
        "\n",
        "Score: 0.0217 for 15 and 30 (certainty: 0.75)"
       ]
      },
      {
       "output_type": "stream",
       "stream": "stdout",
       "text": [
        "\n",
        "Score: 0.0066 for 15 and 28 (certainty: 0.64)"
       ]
      },
      {
       "output_type": "stream",
       "stream": "stdout",
       "text": [
        "\n",
        "Score: 0.0131 for 15 and 30 (certainty: 0.36)\n",
        "Score: 0.0052 for 15 and 26 (certainty: 0.51)"
       ]
      },
      {
       "output_type": "stream",
       "stream": "stdout",
       "text": [
        "\n",
        "Score: 0.0120 for 15 and 15 (certainty: 0.64)"
       ]
      },
      {
       "output_type": "stream",
       "stream": "stdout",
       "text": [
        "\n",
        "Score: 0.0152 for 15 and 21 (certainty: 0.64)"
       ]
      },
      {
       "output_type": "stream",
       "stream": "stdout",
       "text": [
        "\n",
        "Score: 0.0022 for 15 and 24 (certainty: 0.64)"
       ]
      },
      {
       "output_type": "stream",
       "stream": "stdout",
       "text": [
        "\n",
        "Score: 0.0000 for 15 and 17 (certainty: 0.51)"
       ]
      },
      {
       "output_type": "stream",
       "stream": "stdout",
       "text": [
        "\n",
        "Score: 0.0145 for 15 and 14 (certainty: 0.51)\n",
        "Score: 0.0014 for 15 and 28 (certainty: 0.51)"
       ]
      },
      {
       "output_type": "stream",
       "stream": "stdout",
       "text": [
        "\n",
        "Score: 0.0094 for 15 and 27 (certainty: 0.51)"
       ]
      },
      {
       "output_type": "stream",
       "stream": "stdout",
       "text": [
        "\n",
        "Score: 0.0084 for 15 and 22 (certainty: 0.36)\n",
        "Score: 0.0005 for 15 and 29 (certainty: 0.36)"
       ]
      },
      {
       "output_type": "stream",
       "stream": "stdout",
       "text": [
        "\n",
        "Score: 0.0416 for 15 and 15 (certainty: 0.84)"
       ]
      },
      {
       "output_type": "stream",
       "stream": "stdout",
       "text": [
        "\n",
        "Score: 0.0073 for 15 and 25 (certainty: 0.64)"
       ]
      },
      {
       "output_type": "stream",
       "stream": "stdout",
       "text": [
        "\n",
        "Score: 0.0074 for 15 and 23 (certainty: 0.75)"
       ]
      },
      {
       "output_type": "stream",
       "stream": "stdout",
       "text": [
        "\n",
        "Score: 0.0014 for 15 and 16 (certainty: 0.64)\n",
        "Score: 0.0192 for 15 and 18 (certainty: 0.51)"
       ]
      },
      {
       "output_type": "stream",
       "stream": "stdout",
       "text": [
        "\n",
        "Score: 0.0031 for 15 and 25 (certainty: 0.51)"
       ]
      },
      {
       "output_type": "stream",
       "stream": "stdout",
       "text": [
        "\n",
        "Score: 0.0119 for 15 and 32 (certainty: 0.64)"
       ]
      },
      {
       "output_type": "stream",
       "stream": "stdout",
       "text": [
        "\n",
        "Score: 0.0157 for 15 and 19 (certainty: 0.64)"
       ]
      },
      {
       "output_type": "stream",
       "stream": "stdout",
       "text": [
        "\n",
        "Score: 0.0142 for 15 and 21 (certainty: 0.91)"
       ]
      },
      {
       "output_type": "stream",
       "stream": "stdout",
       "text": [
        "\n",
        "Score: 0.0233 for 15 and 14 (certainty: 0.75)"
       ]
      },
      {
       "output_type": "stream",
       "stream": "stdout",
       "text": [
        "\n",
        "Score: 0.0045 for 15 and 26 (certainty: 0.51)\n",
        "Score: 0.0105 for 15 and 22 (certainty: 0.51)"
       ]
      },
      {
       "output_type": "stream",
       "stream": "stdout",
       "text": [
        "\n",
        "Score: 0.0039 for 15 and 29 (certainty: 0.64)"
       ]
      },
      {
       "output_type": "stream",
       "stream": "stdout",
       "text": [
        "\n",
        "Score: 0.0057 for 15 and 13 (certainty: 0.84)"
       ]
      },
      {
       "output_type": "stream",
       "stream": "stdout",
       "text": [
        "\n",
        "Score: 0.0044 for 15 and 28 (certainty: 0.75)"
       ]
      },
      {
       "output_type": "stream",
       "stream": "stdout",
       "text": [
        "\n",
        "Score: 0.0198 for 15 and 13 (certainty: 0.75)\n",
        "Score: 0.0125 for 15 and 14 (certainty: 0.75)"
       ]
      },
      {
       "output_type": "stream",
       "stream": "stdout",
       "text": [
        "\n",
        "Score: 0.0062 for 15 and 14 (certainty: 0.51)"
       ]
      },
      {
       "output_type": "stream",
       "stream": "stdout",
       "text": [
        "\n",
        "Score: 0.0061 for 15 and 27 (certainty: 0.75)"
       ]
      },
      {
       "output_type": "stream",
       "stream": "stdout",
       "text": [
        "\n",
        "Score: 0.0209 for 15 and 17 (certainty: 0.64)"
       ]
      },
      {
       "output_type": "stream",
       "stream": "stdout",
       "text": [
        "\n",
        "Score: 0.0103 for 15 and 19 (certainty: 0.51)"
       ]
      },
      {
       "output_type": "stream",
       "stream": "stdout",
       "text": [
        "\n",
        "Score: 0.0080 for 15 and 31 (certainty: 0.64)"
       ]
      },
      {
       "output_type": "stream",
       "stream": "stdout",
       "text": [
        "\n",
        "Score: 0.0053 for 15 and 21 (certainty: 0.64)"
       ]
      },
      {
       "output_type": "stream",
       "stream": "stdout",
       "text": [
        "\n",
        "Score: 0.0145 for 15 and 23 (certainty: 0.84)"
       ]
      },
      {
       "output_type": "stream",
       "stream": "stdout",
       "text": [
        "\n",
        "Score: 0.0091 for 15 and 25 (certainty: 0.51)"
       ]
      },
      {
       "output_type": "stream",
       "stream": "stdout",
       "text": [
        "\n",
        "Score: 0.0047 for 15 and 23 (certainty: 0.19)\n",
        "Score: 0.0126 for 15 and 31 (certainty: 0.64)"
       ]
      },
      {
       "output_type": "stream",
       "stream": "stdout",
       "text": [
        "\n",
        "Score: 0.0096 for 15 and 15 (certainty: 0.36)\n",
        "Score: 0.0028 for 15 and 23 (certainty: 0.51)"
       ]
      },
      {
       "output_type": "stream",
       "stream": "stdout",
       "text": [
        "\n",
        "Score: 0.0213 for 15 and 18 (certainty: 0.91)"
       ]
      },
      {
       "output_type": "stream",
       "stream": "stdout",
       "text": [
        "\n",
        "Score: 0.0114 for 15 and 15 (certainty: 0.75)"
       ]
      },
      {
       "output_type": "stream",
       "stream": "stdout",
       "text": [
        "\n",
        "Score: 0.0102 for 15 and 16 (certainty: 0.64)"
       ]
      },
      {
       "output_type": "stream",
       "stream": "stdout",
       "text": [
        "\n",
        "Score: 0.0127 for 15 and 23 (certainty: 0.64)"
       ]
      },
      {
       "output_type": "stream",
       "stream": "stdout",
       "text": [
        "\n",
        "Score: 0.0159 for 15 and 23 (certainty: 0.64)"
       ]
      },
      {
       "output_type": "stream",
       "stream": "stdout",
       "text": [
        "\n",
        "Score: 0.0047 for 15 and 32 (certainty: 0.51)\n",
        "Score: 0.0279 for 15 and 15 (certainty: 0.84)"
       ]
      },
      {
       "output_type": "stream",
       "stream": "stdout",
       "text": [
        "\n",
        "Score: 0.0122 for 15 and 24 (certainty: 0.51)"
       ]
      },
      {
       "output_type": "stream",
       "stream": "stdout",
       "text": [
        "\n",
        "Score: 0.0073 for 15 and 25 (certainty: 0.51)"
       ]
      },
      {
       "output_type": "stream",
       "stream": "stdout",
       "text": [
        "\n",
        "Score: 0.0137 for 15 and 30 (certainty: 0.64)"
       ]
      },
      {
       "output_type": "stream",
       "stream": "stdout",
       "text": [
        "\n",
        "Score: 0.0081 for 15 and 32 (certainty: 0.75)"
       ]
      },
      {
       "output_type": "stream",
       "stream": "stdout",
       "text": [
        "\n",
        "['../../images/testsets/Gallagher_small_unresized/15_160.jpg', '../../images/testsets/Gallagher_small_unresized/29_538.jpg']\n",
        "No descriptors found. Returning score 0\n",
        "Score: 0.0151 for 15 and 21 (certainty: 0.84)"
       ]
      },
      {
       "output_type": "stream",
       "stream": "stdout",
       "text": [
        "\n",
        "Score: 0.0096 for 15 and 20 (certainty: 0.64)"
       ]
      },
      {
       "output_type": "stream",
       "stream": "stdout",
       "text": [
        "\n",
        "Score: 0.0101 for 15 and 15 (certainty: 0.64)"
       ]
      },
      {
       "output_type": "stream",
       "stream": "stdout",
       "text": [
        "\n",
        "Score: 0.0138 for 15 and 15 (certainty: 0.64)"
       ]
      },
      {
       "output_type": "stream",
       "stream": "stdout",
       "text": [
        "\n",
        "Score: 0.0124 for 15 and 19 (certainty: 0.64)"
       ]
      },
      {
       "output_type": "stream",
       "stream": "stdout",
       "text": [
        "\n",
        "Score: 0.0138 for 15 and 19 (certainty: 0.51)"
       ]
      },
      {
       "output_type": "stream",
       "stream": "stdout",
       "text": [
        "\n",
        "Score: 0.0063 for 15 and 21 (certainty: 0.51)"
       ]
      },
      {
       "output_type": "stream",
       "stream": "stdout",
       "text": [
        "\n",
        "Score: 0.0105 for 15 and 26 (certainty: 0.75)"
       ]
      },
      {
       "output_type": "stream",
       "stream": "stdout",
       "text": [
        "\n",
        "Score: 0.0136 for 15 and 27 (certainty: 0.75)"
       ]
      },
      {
       "output_type": "stream",
       "stream": "stdout",
       "text": [
        "\n",
        "Score: 0.0193 for 15 and 15 (certainty: 0.75)"
       ]
      },
      {
       "output_type": "stream",
       "stream": "stdout",
       "text": [
        "\n",
        "Score: 0.0077 for 15 and 15 (certainty: 0.51)"
       ]
      },
      {
       "output_type": "stream",
       "stream": "stdout",
       "text": [
        "\n",
        "Score: 0.0182 for 15 and 21 (certainty: 0.51)"
       ]
      },
      {
       "output_type": "stream",
       "stream": "stdout",
       "text": [
        "\n",
        "Score: 0.0043 for 15 and 15 (certainty: 0.19)\n",
        "Score: 0.0201 for 15 and 16 (certainty: 0.64)"
       ]
      },
      {
       "output_type": "stream",
       "stream": "stdout",
       "text": [
        "\n",
        "Score: 0.0062 for 15 and 17 (certainty: 0.36)\n",
        "Score: 0.0093 for 15 and 28 (certainty: 0.36)\n",
        "Score: 0.0054 for 15 and 27 (certainty: 0.36)"
       ]
      },
      {
       "output_type": "stream",
       "stream": "stdout",
       "text": [
        "\n",
        "Score: 0.0051 for 15 and 13 (certainty: 0.51)\n",
        "Score: 0.0090 for 15 and 23 (certainty: 0.84)"
       ]
      },
      {
       "output_type": "stream",
       "stream": "stdout",
       "text": [
        "\n",
        "Score: 0.0150 for 14 and 25 (certainty: 0.75)"
       ]
      },
      {
       "output_type": "stream",
       "stream": "stdout",
       "text": [
        "\n",
        "Score: 0.0046 for 14 and 25 (certainty: 0.75)"
       ]
      },
      {
       "output_type": "stream",
       "stream": "stdout",
       "text": [
        "\n",
        "Score: 0.0091 for 14 and 32 (certainty: 0.84)"
       ]
      },
      {
       "output_type": "stream",
       "stream": "stdout",
       "text": [
        "\n",
        "Score: 0.0095 for 14 and 30 (certainty: 0.64)"
       ]
      },
      {
       "output_type": "stream",
       "stream": "stdout",
       "text": [
        "\n",
        "Score: 0.0054 for 14 and 28 (certainty: 0.51)"
       ]
      },
      {
       "output_type": "stream",
       "stream": "stdout",
       "text": [
        "\n",
        "Score: 0.0023 for 14 and 30 (certainty: 0.19)"
       ]
      },
      {
       "output_type": "stream",
       "stream": "stdout",
       "text": [
        "\n",
        "Score: 0.0060 for 14 and 26 (certainty: 0.75)"
       ]
      },
      {
       "output_type": "stream",
       "stream": "stdout",
       "text": [
        "\n",
        "Score: 0.0000 for 14 and 15 (certainty: 0.19)"
       ]
      },
      {
       "output_type": "stream",
       "stream": "stdout",
       "text": [
        "\n",
        "Score: 0.0287 for 14 and 21 (certainty: 0.96)"
       ]
      },
      {
       "output_type": "stream",
       "stream": "stdout",
       "text": [
        "\n",
        "Score: 0.0134 for 14 and 24 (certainty: 1.00)"
       ]
      },
      {
       "output_type": "stream",
       "stream": "stdout",
       "text": [
        "\n",
        "Score: 0.0072 for 14 and 17 (certainty: 0.75)"
       ]
      },
      {
       "output_type": "stream",
       "stream": "stdout",
       "text": [
        "\n",
        "Score: 0.0117 for 14 and 14 (certainty: 0.75)"
       ]
      },
      {
       "output_type": "stream",
       "stream": "stdout",
       "text": [
        "\n",
        "Score: 0.0023 for 14 and 28 (certainty: 0.36)"
       ]
      },
      {
       "output_type": "stream",
       "stream": "stdout",
       "text": [
        "\n",
        "Score: 0.0061 for 14 and 27 (certainty: 0.51)"
       ]
      },
      {
       "output_type": "stream",
       "stream": "stdout",
       "text": [
        "\n",
        "Score: 0.0106 for 14 and 22 (certainty: 0.64)"
       ]
      },
      {
       "output_type": "stream",
       "stream": "stdout",
       "text": [
        "\n",
        "Score: 0.0012 for 14 and 29 (certainty: 0.64)"
       ]
      },
      {
       "output_type": "stream",
       "stream": "stdout",
       "text": [
        "\n",
        "Score: 0.0198 for 14 and 15 (certainty: 0.51)"
       ]
      },
      {
       "output_type": "stream",
       "stream": "stdout",
       "text": [
        "\n",
        "Score: 0.0091 for 14 and 25 (certainty: 0.64)"
       ]
      },
      {
       "output_type": "stream",
       "stream": "stdout",
       "text": [
        "\n",
        "Score: 0.0062 for 14 and 23 (certainty: 0.75)"
       ]
      },
      {
       "output_type": "stream",
       "stream": "stdout",
       "text": [
        "\n",
        "Score: 0.0021 for 14 and 16 (certainty: 0.64)"
       ]
      },
      {
       "output_type": "stream",
       "stream": "stdout",
       "text": [
        "\n",
        "Score: 0.0025 for 14 and 18 (certainty: 0.19)"
       ]
      },
      {
       "output_type": "stream",
       "stream": "stdout",
       "text": [
        "\n",
        "Score: 0.0050 for 14 and 25 (certainty: 0.84)"
       ]
      },
      {
       "output_type": "stream",
       "stream": "stdout",
       "text": [
        "\n",
        "Score: 0.0159 for 14 and 32 (certainty: 0.91)"
       ]
      },
      {
       "output_type": "stream",
       "stream": "stdout",
       "text": [
        "\n",
        "Score: 0.0065 for 14 and 19 (certainty: 0.75)"
       ]
      },
      {
       "output_type": "stream",
       "stream": "stdout",
       "text": [
        "\n",
        "Score: 0.0334 for 14 and 21 (certainty: 1.00)"
       ]
      },
      {
       "output_type": "stream",
       "stream": "stdout",
       "text": [
        "\n",
        "Score: 0.0246 for 14 and 14 (certainty: 0.84)"
       ]
      },
      {
       "output_type": "stream",
       "stream": "stdout",
       "text": [
        "\n",
        "Score: 0.0000 for 14 and 26 (certainty: 0.36)"
       ]
      },
      {
       "output_type": "stream",
       "stream": "stdout",
       "text": [
        "\n",
        "Score: 0.0055 for 14 and 22 (certainty: 0.36)"
       ]
      },
      {
       "output_type": "stream",
       "stream": "stdout",
       "text": [
        "\n",
        "Score: 0.0086 for 14 and 29 (certainty: 0.64)"
       ]
      },
      {
       "output_type": "stream",
       "stream": "stdout",
       "text": [
        "\n",
        "Score: 0.0016 for 14 and 13 (certainty: 0.75)"
       ]
      },
      {
       "output_type": "stream",
       "stream": "stdout",
       "text": [
        "\n",
        "Score: 0.0101 for 14 and 28 (certainty: 0.51)"
       ]
      },
      {
       "output_type": "stream",
       "stream": "stdout",
       "text": [
        "\n",
        "Score: 0.0000 for 14 and 13 (certainty: 0.19)"
       ]
      },
      {
       "output_type": "stream",
       "stream": "stdout",
       "text": [
        "\n",
        "Score: 0.0050 for 14 and 14 (certainty: 0.64)"
       ]
      },
      {
       "output_type": "stream",
       "stream": "stdout",
       "text": [
        "\n",
        "Score: 0.0138 for 14 and 14 (certainty: 0.96)"
       ]
      },
      {
       "output_type": "stream",
       "stream": "stdout",
       "text": [
        "\n",
        "Score: 0.0118 for 14 and 27 (certainty: 1.00)"
       ]
      },
      {
       "output_type": "stream",
       "stream": "stdout",
       "text": [
        "\n",
        "Score: 0.0084 for 14 and 17 (certainty: 0.96)"
       ]
      },
      {
       "output_type": "stream",
       "stream": "stdout",
       "text": [
        "\n",
        "Score: 0.0070 for 14 and 19 (certainty: 0.36)"
       ]
      },
      {
       "output_type": "stream",
       "stream": "stdout",
       "text": [
        "\n",
        "Score: 0.0118 for 14 and 31 (certainty: 0.64)"
       ]
      },
      {
       "output_type": "stream",
       "stream": "stdout",
       "text": [
        "\n",
        "Score: 0.0018 for 14 and 21 (certainty: 0.19)"
       ]
      },
      {
       "output_type": "stream",
       "stream": "stdout",
       "text": [
        "\n",
        "Score: 0.0083 for 14 and 23 (certainty: 0.75)"
       ]
      },
      {
       "output_type": "stream",
       "stream": "stdout",
       "text": [
        "\n",
        "Score: 0.0063 for 14 and 25 (certainty: 0.64)"
       ]
      },
      {
       "output_type": "stream",
       "stream": "stdout",
       "text": [
        "\n",
        "Score: 0.0015 for 14 and 23 (certainty: 0.19)"
       ]
      },
      {
       "output_type": "stream",
       "stream": "stdout",
       "text": [
        "\n",
        "Score: 0.0104 for 14 and 31 (certainty: 0.64)"
       ]
      },
      {
       "output_type": "stream",
       "stream": "stdout",
       "text": [
        "\n",
        "Score: 0.0089 for 14 and 15 (certainty: 0.64)"
       ]
      },
      {
       "output_type": "stream",
       "stream": "stdout",
       "text": [
        "\n",
        "Score: 0.0051 for 14 and 23 (certainty: 0.36)"
       ]
      },
      {
       "output_type": "stream",
       "stream": "stdout",
       "text": [
        "\n",
        "Score: 0.0020 for 14 and 18 (certainty: 0.51)"
       ]
      },
      {
       "output_type": "stream",
       "stream": "stdout",
       "text": [
        "\n",
        "Score: 0.0079 for 14 and 15 (certainty: 0.51)"
       ]
      },
      {
       "output_type": "stream",
       "stream": "stdout",
       "text": [
        "\n",
        "Score: 0.0069 for 14 and 16 (certainty: 0.99)"
       ]
      },
      {
       "output_type": "stream",
       "stream": "stdout",
       "text": [
        "\n",
        "Score: 0.0044 for 14 and 23 (certainty: 0.51)"
       ]
      },
      {
       "output_type": "stream",
       "stream": "stdout",
       "text": [
        "\n",
        "Score: 0.0000 for 14 and 23 (certainty: 0.51)"
       ]
      },
      {
       "output_type": "stream",
       "stream": "stdout",
       "text": [
        "\n",
        "Score: 0.0021 for 14 and 32 (certainty: 0.36)"
       ]
      },
      {
       "output_type": "stream",
       "stream": "stdout",
       "text": [
        "\n",
        "Score: 0.0116 for 14 and 15 (certainty: 0.75)"
       ]
      },
      {
       "output_type": "stream",
       "stream": "stdout",
       "text": [
        "\n",
        "Score: 0.0066 for 14 and 24 (certainty: 0.51)"
       ]
      },
      {
       "output_type": "stream",
       "stream": "stdout",
       "text": [
        "\n",
        "Score: 0.0032 for 14 and 25 (certainty: 0.36)"
       ]
      },
      {
       "output_type": "stream",
       "stream": "stdout",
       "text": [
        "\n",
        "Score: 0.0039 for 14 and 30 (certainty: 0.75)"
       ]
      },
      {
       "output_type": "stream",
       "stream": "stdout",
       "text": [
        "\n",
        "Score: 0.0033 for 14 and 32 (certainty: 0.36)"
       ]
      },
      {
       "output_type": "stream",
       "stream": "stdout",
       "text": [
        "\n",
        "['../../images/testsets/Gallagher_small_unresized/14_180.jpg', '../../images/testsets/Gallagher_small_unresized/29_538.jpg']\n",
        "No descriptors found. Returning score 0\n",
        "Score: 0.0214 for 14 and 21 (certainty: 1.00)"
       ]
      },
      {
       "output_type": "stream",
       "stream": "stdout",
       "text": [
        "\n",
        "Score: 0.0055 for 14 and 20 (certainty: 0.91)"
       ]
      },
      {
       "output_type": "stream",
       "stream": "stdout",
       "text": [
        "\n",
        "Score: 0.0213 for 14 and 15 (certainty: 1.00)"
       ]
      },
      {
       "output_type": "stream",
       "stream": "stdout",
       "text": [
        "\n",
        "Score: 0.0111 for 14 and 15 (certainty: 0.75)"
       ]
      },
      {
       "output_type": "stream",
       "stream": "stdout",
       "text": [
        "\n",
        "Score: 0.0099 for 14 and 19 (certainty: 0.75)"
       ]
      },
      {
       "output_type": "stream",
       "stream": "stdout",
       "text": [
        "\n",
        "Score: 0.0035 for 14 and 19 (certainty: 0.36)"
       ]
      },
      {
       "output_type": "stream",
       "stream": "stdout",
       "text": [
        "\n",
        "Score: 0.0191 for 14 and 21 (certainty: 0.84)"
       ]
      },
      {
       "output_type": "stream",
       "stream": "stdout",
       "text": [
        "\n",
        "Score: 0.0026 for 14 and 26 (certainty: 0.51)"
       ]
      },
      {
       "output_type": "stream",
       "stream": "stdout",
       "text": [
        "\n",
        "Score: 0.0100 for 14 and 27 (certainty: 0.75)"
       ]
      },
      {
       "output_type": "stream",
       "stream": "stdout",
       "text": [
        "\n",
        "Score: 0.0144 for 14 and 15 (certainty: 0.75)"
       ]
      },
      {
       "output_type": "stream",
       "stream": "stdout",
       "text": [
        "\n",
        "Score: 0.0048 for 14 and 15 (certainty: 0.64)"
       ]
      },
      {
       "output_type": "stream",
       "stream": "stdout",
       "text": [
        "\n",
        "Score: 0.0026 for 14 and 21 (certainty: 0.36)"
       ]
      },
      {
       "output_type": "stream",
       "stream": "stdout",
       "text": [
        "\n",
        "Score: 0.0013 for 14 and 15 (certainty: 0.19)"
       ]
      },
      {
       "output_type": "stream",
       "stream": "stdout",
       "text": [
        "\n",
        "Score: 0.0033 for 14 and 16 (certainty: 0.19)"
       ]
      },
      {
       "output_type": "stream",
       "stream": "stdout",
       "text": [
        "\n",
        "Score: 0.0000 for 14 and 17 (certainty: 0.00)"
       ]
      },
      {
       "output_type": "stream",
       "stream": "stdout",
       "text": [
        "\n",
        "Score: 0.0045 for 14 and 28 (certainty: 0.36)"
       ]
      },
      {
       "output_type": "stream",
       "stream": "stdout",
       "text": [
        "\n",
        "Score: 0.0117 for 14 and 27 (certainty: 0.75)"
       ]
      },
      {
       "output_type": "stream",
       "stream": "stdout",
       "text": [
        "\n",
        "Score: 0.0095 for 14 and 13 (certainty: 0.75)"
       ]
      },
      {
       "output_type": "stream",
       "stream": "stdout",
       "text": [
        "\n",
        "Score: 0.0059 for 14 and 23 (certainty: 0.75)"
       ]
      },
      {
       "output_type": "stream",
       "stream": "stdout",
       "text": [
        "\n",
        "Score: 0.0405 for 25 and 25 (certainty: 1.00)"
       ]
      },
      {
       "output_type": "stream",
       "stream": "stdout",
       "text": [
        "\n",
        "Score: 0.0158 for 25 and 32 (certainty: 0.99)"
       ]
      },
      {
       "output_type": "stream",
       "stream": "stdout",
       "text": [
        "\n",
        "Score: 0.0076 for 25 and 30 (certainty: 0.84)"
       ]
      },
      {
       "output_type": "stream",
       "stream": "stdout",
       "text": [
        "\n",
        "Score: 0.0094 for 25 and 28 (certainty: 0.91)"
       ]
      },
      {
       "output_type": "stream",
       "stream": "stdout",
       "text": [
        "\n",
        "Score: 0.0097 for 25 and 30 (certainty: 0.36)"
       ]
      },
      {
       "output_type": "stream",
       "stream": "stdout",
       "text": [
        "\n",
        "Score: 0.0075 for 25 and 26 (certainty: 0.64)"
       ]
      },
      {
       "output_type": "stream",
       "stream": "stdout",
       "text": [
        "\n",
        "Score: 0.0259 for 25 and 15 (certainty: 1.00)"
       ]
      },
      {
       "output_type": "stream",
       "stream": "stdout",
       "text": [
        "\n",
        "Score: 0.0133 for 25 and 21 (certainty: 0.84)"
       ]
      },
      {
       "output_type": "stream",
       "stream": "stdout",
       "text": [
        "\n",
        "Score: 0.0146 for 25 and 24 (certainty: 0.99)"
       ]
      },
      {
       "output_type": "stream",
       "stream": "stdout",
       "text": [
        "\n",
        "Score: 0.0048 for 25 and 17 (certainty: 0.75)"
       ]
      },
      {
       "output_type": "stream",
       "stream": "stdout",
       "text": [
        "\n",
        "Score: 0.0169 for 25 and 14 (certainty: 0.64)"
       ]
      },
      {
       "output_type": "stream",
       "stream": "stdout",
       "text": [
        "\n",
        "Score: 0.0072 for 25 and 28 (certainty: 0.51)"
       ]
      },
      {
       "output_type": "stream",
       "stream": "stdout",
       "text": [
        "\n",
        "Score: 0.0045 for 25 and 27 (certainty: 0.75)"
       ]
      },
      {
       "output_type": "stream",
       "stream": "stdout",
       "text": [
        "\n",
        "Score: 0.0075 for 25 and 22 (certainty: 0.51)"
       ]
      },
      {
       "output_type": "stream",
       "stream": "stdout",
       "text": [
        "\n",
        "Score: 0.0193 for 25 and 29 (certainty: 0.96)"
       ]
      },
      {
       "output_type": "stream",
       "stream": "stdout",
       "text": [
        "\n",
        "Score: 0.0243 for 25 and 15 (certainty: 0.96)"
       ]
      },
      {
       "output_type": "stream",
       "stream": "stdout",
       "text": [
        "\n",
        "Score: 0.0105 for 25 and 25 (certainty: 1.00)"
       ]
      },
      {
       "output_type": "stream",
       "stream": "stdout",
       "text": [
        "\n",
        "Score: 0.0025 for 25 and 23 (certainty: 0.91)"
       ]
      },
      {
       "output_type": "stream",
       "stream": "stdout",
       "text": [
        "\n",
        "Score: 0.0038 for 25 and 16 (certainty: 0.75)"
       ]
      },
      {
       "output_type": "stream",
       "stream": "stdout",
       "text": [
        "\n",
        "Score: 0.0082 for 25 and 18 (certainty: 0.64)"
       ]
      },
      {
       "output_type": "stream",
       "stream": "stdout",
       "text": [
        "\n",
        "Score: 0.0242 for 25 and 25 (certainty: 0.64)"
       ]
      },
      {
       "output_type": "stream",
       "stream": "stdout",
       "text": [
        "\n",
        "Score: 0.0123 for 25 and 32 (certainty: 0.91)"
       ]
      },
      {
       "output_type": "stream",
       "stream": "stdout",
       "text": [
        "\n",
        "Score: 0.0208 for 25 and 19 (certainty: 0.99)"
       ]
      },
      {
       "output_type": "stream",
       "stream": "stdout",
       "text": [
        "\n",
        "Score: 0.0162 for 25 and 21 (certainty: 0.84)"
       ]
      },
      {
       "output_type": "stream",
       "stream": "stdout",
       "text": [
        "\n",
        "Score: 0.0385 for 25 and 14 (certainty: 0.96)"
       ]
      },
      {
       "output_type": "stream",
       "stream": "stdout",
       "text": [
        "\n",
        "Score: 0.0000 for 25 and 26 (certainty: 0.19)"
       ]
      },
      {
       "output_type": "stream",
       "stream": "stdout",
       "text": [
        "\n",
        "Score: 0.0155 for 25 and 22 (certainty: 0.84)"
       ]
      },
      {
       "output_type": "stream",
       "stream": "stdout",
       "text": [
        "\n",
        "Score: 0.0231 for 25 and 29 (certainty: 0.91)"
       ]
      },
      {
       "output_type": "stream",
       "stream": "stdout",
       "text": [
        "\n",
        "Score: 0.0035 for 25 and 13 (certainty: 0.75)"
       ]
      },
      {
       "output_type": "stream",
       "stream": "stdout",
       "text": [
        "\n",
        "Score: 0.0032 for 25 and 28 (certainty: 0.36)"
       ]
      },
      {
       "output_type": "stream",
       "stream": "stdout",
       "text": [
        "\n",
        "Score: 0.0119 for 25 and 13 (certainty: 0.64)"
       ]
      },
      {
       "output_type": "stream",
       "stream": "stdout",
       "text": [
        "\n",
        "Score: 0.0236 for 25 and 14 (certainty: 1.00)"
       ]
      },
      {
       "output_type": "stream",
       "stream": "stdout",
       "text": [
        "\n",
        "Score: 0.0341 for 25 and 14 (certainty: 0.84)"
       ]
      },
      {
       "output_type": "stream",
       "stream": "stdout",
       "text": [
        "\n",
        "Score: 0.0168 for 25 and 27 (certainty: 0.75)"
       ]
      },
      {
       "output_type": "stream",
       "stream": "stdout",
       "text": [
        "\n",
        "Score: 0.0190 for 25 and 17 (certainty: 0.99)"
       ]
      },
      {
       "output_type": "stream",
       "stream": "stdout",
       "text": [
        "\n",
        "Score: 0.0106 for 25 and 19 (certainty: 0.96)"
       ]
      },
      {
       "output_type": "stream",
       "stream": "stdout",
       "text": [
        "\n",
        "Score: 0.0115 for 25 and 31 (certainty: 0.91)"
       ]
      },
      {
       "output_type": "stream",
       "stream": "stdout",
       "text": [
        "\n",
        "Score: 0.0305 for 25 and 21 (certainty: 0.99)"
       ]
      },
      {
       "output_type": "stream",
       "stream": "stdout",
       "text": [
        "\n",
        "Score: 0.0103 for 25 and 23 (certainty: 0.91)"
       ]
      },
      {
       "output_type": "stream",
       "stream": "stdout",
       "text": [
        "\n",
        "Score: 0.0248 for 25 and 25 (certainty: 0.84)"
       ]
      },
      {
       "output_type": "stream",
       "stream": "stdout",
       "text": [
        "\n",
        "Score: 0.0084 for 25 and 23 (certainty: 0.19)"
       ]
      },
      {
       "output_type": "stream",
       "stream": "stdout",
       "text": [
        "\n",
        "Score: 0.0102 for 25 and 31 (certainty: 0.75)"
       ]
      },
      {
       "output_type": "stream",
       "stream": "stdout",
       "text": [
        "\n",
        "Score: 0.0160 for 25 and 15 (certainty: 0.75)"
       ]
      },
      {
       "output_type": "stream",
       "stream": "stdout",
       "text": [
        "\n",
        "Score: 0.0162 for 25 and 23 (certainty: 0.96)"
       ]
      },
      {
       "output_type": "stream",
       "stream": "stdout",
       "text": [
        "\n",
        "Score: 0.0200 for 25 and 18 (certainty: 0.91)"
       ]
      },
      {
       "output_type": "stream",
       "stream": "stdout",
       "text": [
        "\n",
        "Score: 0.0180 for 25 and 15 (certainty: 1.00)"
       ]
      },
      {
       "output_type": "stream",
       "stream": "stdout",
       "text": [
        "\n",
        "Score: 0.0149 for 25 and 16 (certainty: 0.96)"
       ]
      },
      {
       "output_type": "stream",
       "stream": "stdout",
       "text": [
        "\n",
        "Score: 0.0148 for 25 and 23 (certainty: 0.84)"
       ]
      },
      {
       "output_type": "stream",
       "stream": "stdout",
       "text": [
        "\n",
        "Score: 0.0067 for 25 and 23 (certainty: 0.75)"
       ]
      },
      {
       "output_type": "stream",
       "stream": "stdout",
       "text": [
        "\n",
        "Score: 0.0158 for 25 and 32 (certainty: 0.91)"
       ]
      },
      {
       "output_type": "stream",
       "stream": "stdout",
       "text": [
        "\n",
        "Score: 0.0509 for 25 and 15 (certainty: 1.00)"
       ]
      },
      {
       "output_type": "stream",
       "stream": "stdout",
       "text": [
        "\n",
        "Score: 0.0174 for 25 and 24 (certainty: 0.84)"
       ]
      },
      {
       "output_type": "stream",
       "stream": "stdout",
       "text": [
        "\n",
        "Score: 0.0073 for 25 and 25 (certainty: 0.84)"
       ]
      },
      {
       "output_type": "stream",
       "stream": "stdout",
       "text": [
        "\n",
        "Score: 0.0103 for 25 and 30 (certainty: 0.91)"
       ]
      },
      {
       "output_type": "stream",
       "stream": "stdout",
       "text": [
        "\n",
        "Score: 0.0219 for 25 and 32 (certainty: 1.00)"
       ]
      },
      {
       "output_type": "stream",
       "stream": "stdout",
       "text": [
        "\n",
        "['../../images/testsets/Gallagher_small_unresized/25_694.jpg', '../../images/testsets/Gallagher_small_unresized/29_538.jpg']\n",
        "No descriptors found. Returning score 0\n",
        "Score: 0.0120 for 25 and 21 (certainty: 0.99)"
       ]
      },
      {
       "output_type": "stream",
       "stream": "stdout",
       "text": [
        "\n",
        "Score: 0.0470 for 25 and 20 (certainty: 1.00)"
       ]
      },
      {
       "output_type": "stream",
       "stream": "stdout",
       "text": [
        "\n",
        "Score: 0.0173 for 25 and 15 (certainty: 1.00)"
       ]
      },
      {
       "output_type": "stream",
       "stream": "stdout",
       "text": [
        "\n",
        "Score: 0.0184 for 25 and 15 (certainty: 0.91)"
       ]
      },
      {
       "output_type": "stream",
       "stream": "stdout",
       "text": [
        "\n",
        "Score: 0.0368 for 25 and 19 (certainty: 1.00)"
       ]
      },
      {
       "output_type": "stream",
       "stream": "stdout",
       "text": [
        "\n",
        "Score: 0.0106 for 25 and 19 (certainty: 0.75)"
       ]
      },
      {
       "output_type": "stream",
       "stream": "stdout",
       "text": [
        "\n",
        "Score: 0.0228 for 25 and 21 (certainty: 0.99)"
       ]
      },
      {
       "output_type": "stream",
       "stream": "stdout",
       "text": [
        "\n",
        "Score: 0.0077 for 25 and 26 (certainty: 0.91)"
       ]
      },
      {
       "output_type": "stream",
       "stream": "stdout",
       "text": [
        "\n",
        "Score: 0.0188 for 25 and 27 (certainty: 0.75)"
       ]
      },
      {
       "output_type": "stream",
       "stream": "stdout",
       "text": [
        "\n",
        "Score: 0.0109 for 25 and 15 (certainty: 0.91)"
       ]
      },
      {
       "output_type": "stream",
       "stream": "stdout",
       "text": [
        "\n",
        "Score: 0.0140 for 25 and 15 (certainty: 0.84)"
       ]
      },
      {
       "output_type": "stream",
       "stream": "stdout",
       "text": [
        "\n",
        "Score: 0.0154 for 25 and 21 (certainty: 0.51)"
       ]
      },
      {
       "output_type": "stream",
       "stream": "stdout",
       "text": [
        "\n",
        "Score: 0.0033 for 25 and 15 (certainty: 0.19)"
       ]
      },
      {
       "output_type": "stream",
       "stream": "stdout",
       "text": [
        "\n",
        "Score: 0.0183 for 25 and 16 (certainty: 0.91)"
       ]
      },
      {
       "output_type": "stream",
       "stream": "stdout",
       "text": [
        "\n",
        "Score: 0.0034 for 25 and 17 (certainty: 0.36)"
       ]
      },
      {
       "output_type": "stream",
       "stream": "stdout",
       "text": [
        "\n",
        "Score: 0.0132 for 25 and 28 (certainty: 0.51)"
       ]
      },
      {
       "output_type": "stream",
       "stream": "stdout",
       "text": [
        "\n",
        "Score: 0.0151 for 25 and 27 (certainty: 0.75)"
       ]
      },
      {
       "output_type": "stream",
       "stream": "stdout",
       "text": [
        "\n",
        "Score: 0.0096 for 25 and 13 (certainty: 0.64)"
       ]
      },
      {
       "output_type": "stream",
       "stream": "stdout",
       "text": [
        "\n",
        "Score: 0.0109 for 25 and 23 (certainty: 0.91)"
       ]
      },
      {
       "output_type": "stream",
       "stream": "stdout",
       "text": [
        "\n",
        "Score: 0.0152 for 25 and 32 (certainty: 0.99)"
       ]
      },
      {
       "output_type": "stream",
       "stream": "stdout",
       "text": [
        "\n",
        "Score: 0.0042 for 25 and 30 (certainty: 0.64)"
       ]
      },
      {
       "output_type": "stream",
       "stream": "stdout",
       "text": [
        "\n",
        "Score: 0.0051 for 25 and 28 (certainty: 0.51)"
       ]
      },
      {
       "output_type": "stream",
       "stream": "stdout",
       "text": [
        "\n",
        "Score: 0.0053 for 25 and 30 (certainty: 0.51)"
       ]
      },
      {
       "output_type": "stream",
       "stream": "stdout",
       "text": [
        "\n",
        "Score: 0.0073 for 25 and 26 (certainty: 0.75)"
       ]
      },
      {
       "output_type": "stream",
       "stream": "stdout",
       "text": [
        "\n",
        "Score: 0.0234 for 25 and 15 (certainty: 0.96)"
       ]
      },
      {
       "output_type": "stream",
       "stream": "stdout",
       "text": [
        "\n",
        "Score: 0.0062 for 25 and 21 (certainty: 0.64)"
       ]
      },
      {
       "output_type": "stream",
       "stream": "stdout",
       "text": [
        "\n",
        "Score: 0.0099 for 25 and 24 (certainty: 1.00)"
       ]
      },
      {
       "output_type": "stream",
       "stream": "stdout",
       "text": [
        "\n",
        "Score: 0.0018 for 25 and 17 (certainty: 0.51)"
       ]
      },
      {
       "output_type": "stream",
       "stream": "stdout",
       "text": [
        "\n",
        "Score: 0.0086 for 25 and 14 (certainty: 0.51)"
       ]
      },
      {
       "output_type": "stream",
       "stream": "stdout",
       "text": [
        "\n",
        "Score: 0.0025 for 25 and 28 (certainty: 0.51)"
       ]
      },
      {
       "output_type": "stream",
       "stream": "stdout",
       "text": [
        "\n",
        "Score: 0.0099 for 25 and 27 (certainty: 0.51)"
       ]
      },
      {
       "output_type": "stream",
       "stream": "stdout",
       "text": [
        "\n",
        "Score: 0.0074 for 25 and 22 (certainty: 0.51)"
       ]
      },
      {
       "output_type": "stream",
       "stream": "stdout",
       "text": [
        "\n",
        "Score: 0.0106 for 25 and 29 (certainty: 0.91)"
       ]
      },
      {
       "output_type": "stream",
       "stream": "stdout",
       "text": [
        "\n",
        "Score: 0.0403 for 25 and 15 (certainty: 0.99)"
       ]
      },
      {
       "output_type": "stream",
       "stream": "stdout",
       "text": [
        "\n",
        "Score: 0.0117 for 25 and 25 (certainty: 0.99)"
       ]
      },
      {
       "output_type": "stream",
       "stream": "stdout",
       "text": [
        "\n",
        "Score: 0.0040 for 25 and 23 (certainty: 0.91)"
       ]
      },
      {
       "output_type": "stream",
       "stream": "stdout",
       "text": [
        "\n",
        "Score: 0.0119 for 25 and 16 (certainty: 0.75)"
       ]
      },
      {
       "output_type": "stream",
       "stream": "stdout",
       "text": [
        "\n",
        "Score: 0.0105 for 25 and 18 (certainty: 0.36)"
       ]
      },
      {
       "output_type": "stream",
       "stream": "stdout",
       "text": [
        "\n",
        "Score: 0.0068 for 25 and 25 (certainty: 0.84)"
       ]
      },
      {
       "output_type": "stream",
       "stream": "stdout",
       "text": [
        "\n",
        "Score: 0.0085 for 25 and 32 (certainty: 0.96)"
       ]
      },
      {
       "output_type": "stream",
       "stream": "stdout",
       "text": [
        "\n",
        "Score: 0.0199 for 25 and 19 (certainty: 0.84)"
       ]
      },
      {
       "output_type": "stream",
       "stream": "stdout",
       "text": [
        "\n",
        "Score: 0.0191 for 25 and 21 (certainty: 0.84)"
       ]
      },
      {
       "output_type": "stream",
       "stream": "stdout",
       "text": [
        "\n",
        "Score: 0.0215 for 25 and 14 (certainty: 0.96)"
       ]
      },
      {
       "output_type": "stream",
       "stream": "stdout",
       "text": [
        "\n",
        "Score: 0.0000 for 25 and 26 (certainty: 0.00)"
       ]
      },
      {
       "output_type": "stream",
       "stream": "stdout",
       "text": [
        "\n",
        "Score: 0.0163 for 25 and 22 (certainty: 0.75)"
       ]
      },
      {
       "output_type": "stream",
       "stream": "stdout",
       "text": [
        "\n",
        "Score: 0.0028 for 25 and 29 (certainty: 0.84)"
       ]
      },
      {
       "output_type": "stream",
       "stream": "stdout",
       "text": [
        "\n",
        "Score: 0.0067 for 25 and 13 (certainty: 0.91)"
       ]
      },
      {
       "output_type": "stream",
       "stream": "stdout",
       "text": [
        "\n",
        "Score: 0.0010 for 25 and 28 (certainty: 0.64)"
       ]
      },
      {
       "output_type": "stream",
       "stream": "stdout",
       "text": [
        "\n",
        "Score: 0.0080 for 25 and 13 (certainty: 0.75)"
       ]
      },
      {
       "output_type": "stream",
       "stream": "stdout",
       "text": [
        "\n",
        "Score: 0.0225 for 25 and 14 (certainty: 0.91)"
       ]
      },
      {
       "output_type": "stream",
       "stream": "stdout",
       "text": [
        "\n",
        "Score: 0.0069 for 25 and 14 (certainty: 0.75)"
       ]
      },
      {
       "output_type": "stream",
       "stream": "stdout",
       "text": [
        "\n",
        "Score: 0.0106 for 25 and 27 (certainty: 0.84)"
       ]
      },
      {
       "output_type": "stream",
       "stream": "stdout",
       "text": [
        "\n",
        "Score: 0.0126 for 25 and 17 (certainty: 0.91)"
       ]
      },
      {
       "output_type": "stream",
       "stream": "stdout",
       "text": [
        "\n",
        "Score: 0.0126 for 25 and 19 (certainty: 0.84)"
       ]
      },
      {
       "output_type": "stream",
       "stream": "stdout",
       "text": [
        "\n",
        "Score: 0.0180 for 25 and 31 (certainty: 0.96)"
       ]
      },
      {
       "output_type": "stream",
       "stream": "stdout",
       "text": [
        "\n",
        "Score: 0.0376 for 25 and 21 (certainty: 0.96)"
       ]
      },
      {
       "output_type": "stream",
       "stream": "stdout",
       "text": [
        "\n",
        "Score: 0.0080 for 25 and 23 (certainty: 0.75)"
       ]
      },
      {
       "output_type": "stream",
       "stream": "stdout",
       "text": [
        "\n",
        "Score: 0.0199 for 25 and 25 (certainty: 0.96)"
       ]
      },
      {
       "output_type": "stream",
       "stream": "stdout",
       "text": [
        "\n",
        "Score: 0.0017 for 25 and 23 (certainty: 0.19)"
       ]
      },
      {
       "output_type": "stream",
       "stream": "stdout",
       "text": [
        "\n",
        "Score: 0.0104 for 25 and 31 (certainty: 0.75)"
       ]
      },
      {
       "output_type": "stream",
       "stream": "stdout",
       "text": [
        "\n",
        "Score: 0.0159 for 25 and 15 (certainty: 0.64)"
       ]
      },
      {
       "output_type": "stream",
       "stream": "stdout",
       "text": [
        "\n",
        "Score: 0.0114 for 25 and 23 (certainty: 0.99)"
       ]
      },
      {
       "output_type": "stream",
       "stream": "stdout",
       "text": [
        "\n",
        "Score: 0.0170 for 25 and 18 (certainty: 0.75)"
       ]
      },
      {
       "output_type": "stream",
       "stream": "stdout",
       "text": [
        "\n",
        "Score: 0.0081 for 25 and 15 (certainty: 0.84)"
       ]
      },
      {
       "output_type": "stream",
       "stream": "stdout",
       "text": [
        "\n",
        "Score: 0.0025 for 25 and 16 (certainty: 0.91)"
       ]
      },
      {
       "output_type": "stream",
       "stream": "stdout",
       "text": [
        "\n",
        "Score: 0.0271 for 25 and 23 (certainty: 0.84)"
       ]
      },
      {
       "output_type": "stream",
       "stream": "stdout",
       "text": [
        "\n",
        "Score: 0.0112 for 25 and 23 (certainty: 0.91)"
       ]
      },
      {
       "output_type": "stream",
       "stream": "stdout",
       "text": [
        "\n",
        "Score: 0.0137 for 25 and 32 (certainty: 0.64)"
       ]
      },
      {
       "output_type": "stream",
       "stream": "stdout",
       "text": [
        "\n",
        "Score: 0.0086 for 25 and 15 (certainty: 0.99)"
       ]
      },
      {
       "output_type": "stream",
       "stream": "stdout",
       "text": [
        "\n",
        "Score: 0.0049 for 25 and 24 (certainty: 0.75)"
       ]
      },
      {
       "output_type": "stream",
       "stream": "stdout",
       "text": [
        "\n",
        "Score: 0.0084 for 25 and 25 (certainty: 0.75)"
       ]
      },
      {
       "output_type": "stream",
       "stream": "stdout",
       "text": [
        "\n",
        "Score: 0.0185 for 25 and 30 (certainty: 0.64)"
       ]
      },
      {
       "output_type": "stream",
       "stream": "stdout",
       "text": [
        "\n",
        "Score: 0.0149 for 25 and 32 (certainty: 0.91)"
       ]
      },
      {
       "output_type": "stream",
       "stream": "stdout",
       "text": [
        "\n",
        "['../../images/testsets/Gallagher_small_unresized/25_696.jpg', '../../images/testsets/Gallagher_small_unresized/29_538.jpg']\n",
        "No descriptors found. Returning score 0\n",
        "Score: 0.0055 for 25 and 21 (certainty: 0.84)"
       ]
      },
      {
       "output_type": "stream",
       "stream": "stdout",
       "text": [
        "\n",
        "Score: 0.0232 for 25 and 20 (certainty: 1.00)"
       ]
      },
      {
       "output_type": "stream",
       "stream": "stdout",
       "text": [
        "\n",
        "Score: 0.0104 for 25 and 15 (certainty: 0.91)"
       ]
      },
      {
       "output_type": "stream",
       "stream": "stdout",
       "text": [
        "\n",
        "Score: 0.0109 for 25 and 15 (certainty: 0.91)"
       ]
      },
      {
       "output_type": "stream",
       "stream": "stdout",
       "text": [
        "\n",
        "Score: 0.0214 for 25 and 19 (certainty: 0.99)"
       ]
      },
      {
       "output_type": "stream",
       "stream": "stdout",
       "text": [
        "\n",
        "Score: 0.0128 for 25 and 19 (certainty: 0.84)"
       ]
      },
      {
       "output_type": "stream",
       "stream": "stdout",
       "text": [
        "\n",
        "Score: 0.0083 for 25 and 21 (certainty: 0.64)"
       ]
      },
      {
       "output_type": "stream",
       "stream": "stdout",
       "text": [
        "\n",
        "Score: 0.0081 for 25 and 26 (certainty: 0.96)"
       ]
      },
      {
       "output_type": "stream",
       "stream": "stdout",
       "text": [
        "\n",
        "Score: 0.0135 for 25 and 27 (certainty: 0.84)"
       ]
      },
      {
       "output_type": "stream",
       "stream": "stdout",
       "text": [
        "\n",
        "Score: 0.0235 for 25 and 15 (certainty: 0.96)"
       ]
      },
      {
       "output_type": "stream",
       "stream": "stdout",
       "text": [
        "\n",
        "Score: 0.0052 for 25 and 15 (certainty: 0.84)"
       ]
      },
      {
       "output_type": "stream",
       "stream": "stdout",
       "text": [
        "\n",
        "Score: 0.0251 for 25 and 21 (certainty: 0.51)"
       ]
      },
      {
       "output_type": "stream",
       "stream": "stdout",
       "text": [
        "\n",
        "Score: 0.0014 for 25 and 15 (certainty: 0.19)"
       ]
      },
      {
       "output_type": "stream",
       "stream": "stdout",
       "text": [
        "\n",
        "Score: 0.0091 for 25 and 16 (certainty: 0.84)"
       ]
      },
      {
       "output_type": "stream",
       "stream": "stdout",
       "text": [
        "\n",
        "Score: 0.0086 for 25 and 17 (certainty: 0.36)"
       ]
      },
      {
       "output_type": "stream",
       "stream": "stdout",
       "text": [
        "\n",
        "Score: 0.0197 for 25 and 28 (certainty: 0.51)"
       ]
      },
      {
       "output_type": "stream",
       "stream": "stdout",
       "text": [
        "\n",
        "Score: 0.0061 for 25 and 27 (certainty: 0.75)"
       ]
      },
      {
       "output_type": "stream",
       "stream": "stdout",
       "text": [
        "\n",
        "Score: 0.0041 for 25 and 13 (certainty: 0.64)"
       ]
      },
      {
       "output_type": "stream",
       "stream": "stdout",
       "text": [
        "\n",
        "Score: 0.0163 for 25 and 23 (certainty: 1.00)"
       ]
      },
      {
       "output_type": "stream",
       "stream": "stdout",
       "text": [
        "\n",
        "Score: 0.0050 for 32 and 30 (certainty: 0.64)"
       ]
      },
      {
       "output_type": "stream",
       "stream": "stdout",
       "text": [
        "\n",
        "Score: 0.0093 for 32 and 28 (certainty: 0.75)"
       ]
      },
      {
       "output_type": "stream",
       "stream": "stdout",
       "text": [
        "\n",
        "Score: 0.0008 for 32 and 30 (certainty: 0.51)"
       ]
      },
      {
       "output_type": "stream",
       "stream": "stdout",
       "text": [
        "\n",
        "Score: 0.0036 for 32 and 26 (certainty: 0.84)"
       ]
      },
      {
       "output_type": "stream",
       "stream": "stdout",
       "text": [
        "\n",
        "Score: 0.0199 for 32 and 15 (certainty: 0.96)"
       ]
      },
      {
       "output_type": "stream",
       "stream": "stdout",
       "text": [
        "\n",
        "Score: 0.0004 for 32 and 21 (certainty: 0.75)"
       ]
      },
      {
       "output_type": "stream",
       "stream": "stdout",
       "text": [
        "\n",
        "Score: 0.0153 for 32 and 24 (certainty: 1.00)"
       ]
      },
      {
       "output_type": "stream",
       "stream": "stdout",
       "text": [
        "\n",
        "Score: 0.0039 for 32 and 17 (certainty: 0.84)"
       ]
      },
      {
       "output_type": "stream",
       "stream": "stdout",
       "text": [
        "\n",
        "Score: 0.0117 for 32 and 14 (certainty: 0.75)"
       ]
      },
      {
       "output_type": "stream",
       "stream": "stdout",
       "text": [
        "\n",
        "Score: 0.0111 for 32 and 28 (certainty: 0.64)"
       ]
      },
      {
       "output_type": "stream",
       "stream": "stdout",
       "text": [
        "\n",
        "Score: 0.0042 for 32 and 27 (certainty: 0.19)"
       ]
      },
      {
       "output_type": "stream",
       "stream": "stdout",
       "text": [
        "\n",
        "Score: 0.0089 for 32 and 22 (certainty: 0.75)"
       ]
      },
      {
       "output_type": "stream",
       "stream": "stdout",
       "text": [
        "\n",
        "Score: 0.0071 for 32 and 29 (certainty: 0.91)"
       ]
      },
      {
       "output_type": "stream",
       "stream": "stdout",
       "text": [
        "\n",
        "Score: 0.0055 for 32 and 15 (certainty: 0.99)"
       ]
      },
      {
       "output_type": "stream",
       "stream": "stdout",
       "text": [
        "\n",
        "Score: 0.0274 for 32 and 25 (certainty: 1.00)"
       ]
      },
      {
       "output_type": "stream",
       "stream": "stdout",
       "text": [
        "\n",
        "Score: 0.0069 for 32 and 23 (certainty: 1.00)"
       ]
      },
      {
       "output_type": "stream",
       "stream": "stdout",
       "text": [
        "\n",
        "Score: 0.0107 for 32 and 16 (certainty: 0.84)"
       ]
      },
      {
       "output_type": "stream",
       "stream": "stdout",
       "text": [
        "\n",
        "Score: 0.0016 for 32 and 18 (certainty: 0.51)"
       ]
      },
      {
       "output_type": "stream",
       "stream": "stdout",
       "text": [
        "\n",
        "Score: 0.0025 for 32 and 25 (certainty: 0.96)"
       ]
      },
      {
       "output_type": "stream",
       "stream": "stdout",
       "text": [
        "\n",
        "Score: 0.0288 for 32 and 32 (certainty: 1.00)"
       ]
      },
      {
       "output_type": "stream",
       "stream": "stdout",
       "text": [
        "\n",
        "Score: 0.0152 for 32 and 19 (certainty: 0.96)"
       ]
      },
      {
       "output_type": "stream",
       "stream": "stdout",
       "text": [
        "\n",
        "Score: 0.0338 for 32 and 21 (certainty: 0.84)"
       ]
      },
      {
       "output_type": "stream",
       "stream": "stdout",
       "text": [
        "\n",
        "Score: 0.0153 for 32 and 14 (certainty: 0.91)"
       ]
      },
      {
       "output_type": "stream",
       "stream": "stdout",
       "text": [
        "\n",
        "Score: 0.0000 for 32 and 26 (certainty: 0.19)"
       ]
      },
      {
       "output_type": "stream",
       "stream": "stdout",
       "text": [
        "\n",
        "Score: 0.0064 for 32 and 22 (certainty: 0.64)"
       ]
      },
      {
       "output_type": "stream",
       "stream": "stdout",
       "text": [
        "\n",
        "Score: 0.0043 for 32 and 29 (certainty: 0.36)"
       ]
      },
      {
       "output_type": "stream",
       "stream": "stdout",
       "text": [
        "\n",
        "Score: 0.0044 for 32 and 13 (certainty: 0.96)"
       ]
      },
      {
       "output_type": "stream",
       "stream": "stdout",
       "text": [
        "\n",
        "Score: 0.0000 for 32 and 28 (certainty: 0.19)"
       ]
      },
      {
       "output_type": "stream",
       "stream": "stdout",
       "text": [
        "\n",
        "Score: 0.0073 for 32 and 13 (certainty: 0.51)"
       ]
      },
      {
       "output_type": "stream",
       "stream": "stdout",
       "text": [
        "\n",
        "Score: 0.0074 for 32 and 14 (certainty: 0.84)"
       ]
      },
      {
       "output_type": "stream",
       "stream": "stdout",
       "text": [
        "\n",
        "Score: 0.0076 for 32 and 14 (certainty: 0.75)"
       ]
      },
      {
       "output_type": "stream",
       "stream": "stdout",
       "text": [
        "\n",
        "Score: 0.0054 for 32 and 27 (certainty: 0.84)"
       ]
      },
      {
       "output_type": "stream",
       "stream": "stdout",
       "text": [
        "\n",
        "Score: 0.0127 for 32 and 17 (certainty: 0.96)"
       ]
      },
      {
       "output_type": "stream",
       "stream": "stdout",
       "text": [
        "\n",
        "Score: 0.0172 for 32 and 19 (certainty: 0.84)"
       ]
      },
      {
       "output_type": "stream",
       "stream": "stdout",
       "text": [
        "\n",
        "Score: 0.0101 for 32 and 31 (certainty: 0.99)"
       ]
      },
      {
       "output_type": "stream",
       "stream": "stdout",
       "text": [
        "\n",
        "Score: 0.0071 for 32 and 21 (certainty: 0.84)"
       ]
      },
      {
       "output_type": "stream",
       "stream": "stdout",
       "text": [
        "\n",
        "Score: 0.0078 for 32 and 23 (certainty: 0.99)"
       ]
      },
      {
       "output_type": "stream",
       "stream": "stdout",
       "text": [
        "\n",
        "Score: 0.0072 for 32 and 25 (certainty: 0.51)"
       ]
      },
      {
       "output_type": "stream",
       "stream": "stdout",
       "text": [
        "\n",
        "Score: 0.0067 for 32 and 23 (certainty: 0.19)"
       ]
      },
      {
       "output_type": "stream",
       "stream": "stdout",
       "text": [
        "\n",
        "Score: 0.0062 for 32 and 31 (certainty: 0.99)"
       ]
      },
      {
       "output_type": "stream",
       "stream": "stdout",
       "text": [
        "\n",
        "Score: 0.0065 for 32 and 15 (certainty: 0.51)"
       ]
      },
      {
       "output_type": "stream",
       "stream": "stdout",
       "text": [
        "\n",
        "Score: 0.0025 for 32 and 23 (certainty: 0.91)"
       ]
      },
      {
       "output_type": "stream",
       "stream": "stdout",
       "text": [
        "\n",
        "Score: 0.0090 for 32 and 18 (certainty: 0.91)"
       ]
      },
      {
       "output_type": "stream",
       "stream": "stdout",
       "text": [
        "\n",
        "Score: 0.0058 for 32 and 15 (certainty: 0.99)"
       ]
      },
      {
       "output_type": "stream",
       "stream": "stdout",
       "text": [
        "\n",
        "Score: 0.0124 for 32 and 16 (certainty: 0.99)"
       ]
      },
      {
       "output_type": "stream",
       "stream": "stdout",
       "text": [
        "\n",
        "Score: 0.0077 for 32 and 23 (certainty: 0.64)"
       ]
      },
      {
       "output_type": "stream",
       "stream": "stdout",
       "text": [
        "\n",
        "Score: 0.0033 for 32 and 23 (certainty: 0.64)"
       ]
      },
      {
       "output_type": "stream",
       "stream": "stdout",
       "text": [
        "\n",
        "Score: 0.0117 for 32 and 32 (certainty: 0.64)"
       ]
      },
      {
       "output_type": "stream",
       "stream": "stdout",
       "text": [
        "\n",
        "Score: 0.0057 for 32 and 15 (certainty: 1.00)"
       ]
      },
      {
       "output_type": "stream",
       "stream": "stdout",
       "text": [
        "\n",
        "Score: 0.0022 for 32 and 24 (certainty: 0.64)"
       ]
      },
      {
       "output_type": "stream",
       "stream": "stdout",
       "text": [
        "\n",
        "Score: 0.0052 for 32 and 25 (certainty: 0.64)"
       ]
      },
      {
       "output_type": "stream",
       "stream": "stdout",
       "text": [
        "\n",
        "Score: 0.0047 for 32 and 30 (certainty: 0.84)"
       ]
      },
      {
       "output_type": "stream",
       "stream": "stdout",
       "text": [
        "\n",
        "Score: 0.0067 for 32 and 32 (certainty: 0.91)"
       ]
      },
      {
       "output_type": "stream",
       "stream": "stdout",
       "text": [
        "\n",
        "['../../images/testsets/Gallagher_small_unresized/32_639.jpg', '../../images/testsets/Gallagher_small_unresized/29_538.jpg']\n",
        "No descriptors found. Returning score 0\n",
        "Score: 0.0047 for 32 and 21 (certainty: 1.00)"
       ]
      },
      {
       "output_type": "stream",
       "stream": "stdout",
       "text": [
        "\n",
        "Score: 0.0043 for 32 and 20 (certainty: 0.84)"
       ]
      },
      {
       "output_type": "stream",
       "stream": "stdout",
       "text": [
        "\n",
        "Score: 0.0144 for 32 and 15 (certainty: 1.00)"
       ]
      },
      {
       "output_type": "stream",
       "stream": "stdout",
       "text": [
        "\n",
        "Score: 0.0168 for 32 and 15 (certainty: 0.84)"
       ]
      },
      {
       "output_type": "stream",
       "stream": "stdout",
       "text": [
        "\n",
        "Score: 0.0208 for 32 and 19 (certainty: 1.00)"
       ]
      },
      {
       "output_type": "stream",
       "stream": "stdout",
       "text": [
        "\n",
        "Score: 0.0089 for 32 and 19 (certainty: 0.91)"
       ]
      },
      {
       "output_type": "stream",
       "stream": "stdout",
       "text": [
        "\n",
        "Score: 0.0056 for 32 and 21 (certainty: 0.84)"
       ]
      },
      {
       "output_type": "stream",
       "stream": "stdout",
       "text": [
        "\n",
        "Score: 0.0032 for 32 and 26 (certainty: 0.91)"
       ]
      },
      {
       "output_type": "stream",
       "stream": "stdout",
       "text": [
        "\n",
        "Score: 0.0062 for 32 and 27 (certainty: 0.84)"
       ]
      },
      {
       "output_type": "stream",
       "stream": "stdout",
       "text": [
        "\n",
        "Score: 0.0034 for 32 and 15 (certainty: 0.51)"
       ]
      },
      {
       "output_type": "stream",
       "stream": "stdout",
       "text": [
        "\n",
        "Score: 0.0036 for 32 and 15 (certainty: 0.64)"
       ]
      },
      {
       "output_type": "stream",
       "stream": "stdout",
       "text": [
        "\n",
        "Score: 0.0033 for 32 and 21 (certainty: 0.64)"
       ]
      },
      {
       "output_type": "stream",
       "stream": "stdout",
       "text": [
        "\n",
        "Score: 0.0011 for 32 and 15 (certainty: 0.19)"
       ]
      },
      {
       "output_type": "stream",
       "stream": "stdout",
       "text": [
        "\n",
        "Score: 0.0116 for 32 and 16 (certainty: 0.51)"
       ]
      },
      {
       "output_type": "stream",
       "stream": "stdout",
       "text": [
        "\n",
        "Score: 0.0012 for 32 and 17 (certainty: 0.36)"
       ]
      },
      {
       "output_type": "stream",
       "stream": "stdout",
       "text": [
        "\n",
        "Score: 0.0056 for 32 and 28 (certainty: 0.51)"
       ]
      },
      {
       "output_type": "stream",
       "stream": "stdout",
       "text": [
        "\n",
        "Score: 0.0003 for 32 and 27 (certainty: 0.64)"
       ]
      },
      {
       "output_type": "stream",
       "stream": "stdout",
       "text": [
        "\n",
        "Score: 0.0103 for 32 and 13 (certainty: 0.75)"
       ]
      },
      {
       "output_type": "stream",
       "stream": "stdout",
       "text": [
        "\n",
        "Score: 0.0067 for 32 and 23 (certainty: 1.00)"
       ]
      },
      {
       "output_type": "stream",
       "stream": "stdout",
       "text": [
        "\n",
        "Score: 0.0129 for 30 and 28 (certainty: 1.00)"
       ]
      },
      {
       "output_type": "stream",
       "stream": "stdout",
       "text": [
        "\n",
        "Score: 0.0090 for 30 and 30 (certainty: 0.75)"
       ]
      },
      {
       "output_type": "stream",
       "stream": "stdout",
       "text": [
        "\n",
        "Score: 0.0155 for 30 and 26 (certainty: 0.99)"
       ]
      },
      {
       "output_type": "stream",
       "stream": "stdout",
       "text": [
        "\n",
        "Score: 0.0254 for 30 and 15 (certainty: 0.99)"
       ]
      },
      {
       "output_type": "stream",
       "stream": "stdout",
       "text": [
        "\n",
        "Score: 0.0230 for 30 and 21 (certainty: 0.91)"
       ]
      },
      {
       "output_type": "stream",
       "stream": "stdout",
       "text": [
        "\n",
        "Score: 0.0064 for 30 and 24 (certainty: 0.75)"
       ]
      },
      {
       "output_type": "stream",
       "stream": "stdout",
       "text": [
        "\n",
        "Score: 0.0114 for 30 and 17 (certainty: 0.99)"
       ]
      },
      {
       "output_type": "stream",
       "stream": "stdout",
       "text": [
        "\n",
        "Score: 0.0226 for 30 and 14 (certainty: 0.64)"
       ]
      },
      {
       "output_type": "stream",
       "stream": "stdout",
       "text": [
        "\n",
        "Score: 0.0196 for 30 and 28 (certainty: 1.00)"
       ]
      },
      {
       "output_type": "stream",
       "stream": "stdout",
       "text": [
        "\n",
        "Score: 0.0270 for 30 and 27 (certainty: 1.00)"
       ]
      },
      {
       "output_type": "stream",
       "stream": "stdout",
       "text": [
        "\n",
        "Score: 0.0092 for 30 and 22 (certainty: 0.51)"
       ]
      },
      {
       "output_type": "stream",
       "stream": "stdout",
       "text": [
        "\n",
        "Score: 0.0145 for 30 and 29 (certainty: 0.96)"
       ]
      },
      {
       "output_type": "stream",
       "stream": "stdout",
       "text": [
        "\n",
        "Score: 0.0260 for 30 and 15 (certainty: 0.99)"
       ]
      },
      {
       "output_type": "stream",
       "stream": "stdout",
       "text": [
        "\n",
        "Score: 0.0082 for 30 and 25 (certainty: 0.99)"
       ]
      },
      {
       "output_type": "stream",
       "stream": "stdout",
       "text": [
        "\n",
        "Score: 0.0114 for 30 and 23 (certainty: 0.96)"
       ]
      },
      {
       "output_type": "stream",
       "stream": "stdout",
       "text": [
        "\n",
        "Score: 0.0017 for 30 and 16 (certainty: 0.84)"
       ]
      },
      {
       "output_type": "stream",
       "stream": "stdout",
       "text": [
        "\n",
        "Score: 0.0107 for 30 and 18 (certainty: 0.75)"
       ]
      },
      {
       "output_type": "stream",
       "stream": "stdout",
       "text": [
        "\n",
        "Score: 0.0217 for 30 and 25 (certainty: 0.96)"
       ]
      },
      {
       "output_type": "stream",
       "stream": "stdout",
       "text": [
        "\n",
        "Score: 0.0047 for 30 and 32 (certainty: 0.84)"
       ]
      },
      {
       "output_type": "stream",
       "stream": "stdout",
       "text": [
        "\n",
        "Score: 0.0075 for 30 and 19 (certainty: 0.64)"
       ]
      },
      {
       "output_type": "stream",
       "stream": "stdout",
       "text": [
        "\n",
        "Score: 0.0215 for 30 and 21 (certainty: 1.00)"
       ]
      },
      {
       "output_type": "stream",
       "stream": "stdout",
       "text": [
        "\n",
        "Score: 0.0115 for 30 and 14 (certainty: 0.84)"
       ]
      },
      {
       "output_type": "stream",
       "stream": "stdout",
       "text": [
        "\n",
        "Score: 0.0051 for 30 and 26 (certainty: 0.51)"
       ]
      },
      {
       "output_type": "stream",
       "stream": "stdout",
       "text": [
        "\n",
        "Score: 0.0105 for 30 and 22 (certainty: 0.51)"
       ]
      },
      {
       "output_type": "stream",
       "stream": "stdout",
       "text": [
        "\n",
        "Score: 0.0164 for 30 and 29 (certainty: 0.96)"
       ]
      },
      {
       "output_type": "stream",
       "stream": "stdout",
       "text": [
        "\n",
        "Score: 0.0048 for 30 and 13 (certainty: 0.99)"
       ]
      },
      {
       "output_type": "stream",
       "stream": "stdout",
       "text": [
        "\n",
        "Score: 0.0098 for 30 and 28 (certainty: 1.00)"
       ]
      },
      {
       "output_type": "stream",
       "stream": "stdout",
       "text": [
        "\n",
        "Score: 0.0115 for 30 and 13 (certainty: 0.75)"
       ]
      },
      {
       "output_type": "stream",
       "stream": "stdout",
       "text": [
        "\n",
        "Score: 0.0180 for 30 and 14 (certainty: 0.75)"
       ]
      },
      {
       "output_type": "stream",
       "stream": "stdout",
       "text": [
        "\n",
        "Score: 0.0021 for 30 and 14 (certainty: 0.75)"
       ]
      },
      {
       "output_type": "stream",
       "stream": "stdout",
       "text": [
        "\n",
        "Score: 0.0195 for 30 and 27 (certainty: 1.00)"
       ]
      },
      {
       "output_type": "stream",
       "stream": "stdout",
       "text": [
        "\n",
        "Score: 0.0122 for 30 and 17 (certainty: 1.00)"
       ]
      },
      {
       "output_type": "stream",
       "stream": "stdout",
       "text": [
        "\n",
        "Score: 0.0166 for 30 and 19 (certainty: 0.64)"
       ]
      },
      {
       "output_type": "stream",
       "stream": "stdout",
       "text": [
        "\n",
        "Score: 0.0068 for 30 and 31 (certainty: 0.96)"
       ]
      },
      {
       "output_type": "stream",
       "stream": "stdout",
       "text": [
        "\n",
        "Score: 0.0178 for 30 and 21 (certainty: 0.84)"
       ]
      },
      {
       "output_type": "stream",
       "stream": "stdout",
       "text": [
        "\n",
        "Score: 0.0212 for 30 and 23 (certainty: 1.00)"
       ]
      },
      {
       "output_type": "stream",
       "stream": "stdout",
       "text": [
        "\n",
        "Score: 0.0292 for 30 and 25 (certainty: 0.96)"
       ]
      },
      {
       "output_type": "stream",
       "stream": "stdout",
       "text": [
        "\n",
        "Score: 0.0015 for 30 and 23 (certainty: 0.19)\n",
        "Score: 0.0159 for 30 and 31 (certainty: 0.84)"
       ]
      },
      {
       "output_type": "stream",
       "stream": "stdout",
       "text": [
        "\n",
        "Score: 0.0142 for 30 and 15 (certainty: 0.64)"
       ]
      },
      {
       "output_type": "stream",
       "stream": "stdout",
       "text": [
        "\n",
        "Score: 0.0179 for 30 and 23 (certainty: 1.00)"
       ]
      },
      {
       "output_type": "stream",
       "stream": "stdout",
       "text": [
        "\n",
        "Score: 0.0081 for 30 and 18 (certainty: 0.75)"
       ]
      },
      {
       "output_type": "stream",
       "stream": "stdout",
       "text": [
        "\n",
        "Score: 0.0065 for 30 and 15 (certainty: 0.99)"
       ]
      },
      {
       "output_type": "stream",
       "stream": "stdout",
       "text": [
        "\n",
        "Score: 0.0077 for 30 and 16 (certainty: 0.99)"
       ]
      },
      {
       "output_type": "stream",
       "stream": "stdout",
       "text": [
        "\n",
        "Score: 0.0135 for 30 and 23 (certainty: 0.96)"
       ]
      },
      {
       "output_type": "stream",
       "stream": "stdout",
       "text": [
        "\n",
        "Score: 0.0124 for 30 and 23 (certainty: 1.00)"
       ]
      },
      {
       "output_type": "stream",
       "stream": "stdout",
       "text": [
        "\n",
        "Score: 0.0096 for 30 and 32 (certainty: 0.64)"
       ]
      },
      {
       "output_type": "stream",
       "stream": "stdout",
       "text": [
        "\n",
        "Score: 0.0196 for 30 and 15 (certainty: 1.00)"
       ]
      },
      {
       "output_type": "stream",
       "stream": "stdout",
       "text": [
        "\n",
        "Score: 0.0122 for 30 and 24 (certainty: 0.84)"
       ]
      },
      {
       "output_type": "stream",
       "stream": "stdout",
       "text": [
        "\n",
        "Score: 0.0206 for 30 and 25 (certainty: 0.91)"
       ]
      },
      {
       "output_type": "stream",
       "stream": "stdout",
       "text": [
        "\n",
        "Score: 0.0497 for 30 and 30 (certainty: 1.00)"
       ]
      },
      {
       "output_type": "stream",
       "stream": "stdout",
       "text": [
        "\n",
        "Score: 0.0049 for 30 and 32 (certainty: 0.64)"
       ]
      },
      {
       "output_type": "stream",
       "stream": "stdout",
       "text": [
        "\n",
        "['../../images/testsets/Gallagher_small_unresized/30_554.jpg', '../../images/testsets/Gallagher_small_unresized/29_538.jpg']\n",
        "No descriptors found. Returning score 0\n",
        "Score: 0.0203 for 30 and 21 (certainty: 0.99)"
       ]
      },
      {
       "output_type": "stream",
       "stream": "stdout",
       "text": [
        "\n",
        "Score: 0.0114 for 30 and 20 (certainty: 1.00)"
       ]
      },
      {
       "output_type": "stream",
       "stream": "stdout",
       "text": [
        "\n",
        "Score: 0.0109 for 30 and 15 (certainty: 0.96)"
       ]
      },
      {
       "output_type": "stream",
       "stream": "stdout",
       "text": [
        "\n",
        "Score: 0.0147 for 30 and 15 (certainty: 0.96)"
       ]
      },
      {
       "output_type": "stream",
       "stream": "stdout",
       "text": [
        "\n",
        "Score: 0.0061 for 30 and 19 (certainty: 0.84)"
       ]
      },
      {
       "output_type": "stream",
       "stream": "stdout",
       "text": [
        "\n",
        "Score: 0.0114 for 30 and 19 (certainty: 0.75)"
       ]
      },
      {
       "output_type": "stream",
       "stream": "stdout",
       "text": [
        "\n",
        "Score: 0.0196 for 30 and 21 (certainty: 0.84)"
       ]
      },
      {
       "output_type": "stream",
       "stream": "stdout",
       "text": [
        "\n",
        "Score: 0.0171 for 30 and 26 (certainty: 1.00)"
       ]
      },
      {
       "output_type": "stream",
       "stream": "stdout",
       "text": [
        "\n",
        "Score: 0.0258 for 30 and 27 (certainty: 0.91)"
       ]
      },
      {
       "output_type": "stream",
       "stream": "stdout",
       "text": [
        "\n",
        "Score: 0.0242 for 30 and 15 (certainty: 1.00)"
       ]
      },
      {
       "output_type": "stream",
       "stream": "stdout",
       "text": [
        "\n",
        "Score: 0.0173 for 30 and 15 (certainty: 0.99)"
       ]
      },
      {
       "output_type": "stream",
       "stream": "stdout",
       "text": [
        "\n",
        "Score: 0.0146 for 30 and 21 (certainty: 0.51)"
       ]
      },
      {
       "output_type": "stream",
       "stream": "stdout",
       "text": [
        "\n",
        "Score: 0.0007 for 30 and 15 (certainty: 0.19)\n",
        "Score: 0.0094 for 30 and 16 (certainty: 0.51)"
       ]
      },
      {
       "output_type": "stream",
       "stream": "stdout",
       "text": [
        "\n",
        "Score: 0.0197 for 30 and 17 (certainty: 0.51)"
       ]
      },
      {
       "output_type": "stream",
       "stream": "stdout",
       "text": [
        "\n",
        "Score: 0.0107 for 30 and 28 (certainty: 0.51)"
       ]
      },
      {
       "output_type": "stream",
       "stream": "stdout",
       "text": [
        "\n",
        "Score: 0.0209 for 30 and 27 (certainty: 1.00)"
       ]
      },
      {
       "output_type": "stream",
       "stream": "stdout",
       "text": [
        "\n",
        "Score: 0.0107 for 30 and 13 (certainty: 0.84)"
       ]
      },
      {
       "output_type": "stream",
       "stream": "stdout",
       "text": [
        "\n",
        "Score: 0.0178 for 30 and 23 (certainty: 0.96)"
       ]
      },
      {
       "output_type": "stream",
       "stream": "stdout",
       "text": [
        "\n",
        "Score: 0.0116 for 28 and 30 (certainty: 0.64)"
       ]
      },
      {
       "output_type": "stream",
       "stream": "stdout",
       "text": [
        "\n",
        "Score: 0.0096 for 28 and 26 (certainty: 0.99)"
       ]
      },
      {
       "output_type": "stream",
       "stream": "stdout",
       "text": [
        "\n",
        "Score: 0.0022 for 28 and 15 (certainty: 0.91)"
       ]
      },
      {
       "output_type": "stream",
       "stream": "stdout",
       "text": [
        "\n",
        "Score: 0.0174 for 28 and 21 (certainty: 0.96)"
       ]
      },
      {
       "output_type": "stream",
       "stream": "stdout",
       "text": [
        "\n",
        "Score: 0.0054 for 28 and 24 (certainty: 0.91)"
       ]
      },
      {
       "output_type": "stream",
       "stream": "stdout",
       "text": [
        "\n",
        "Score: 0.0058 for 28 and 17 (certainty: 0.84)"
       ]
      },
      {
       "output_type": "stream",
       "stream": "stdout",
       "text": [
        "\n",
        "Score: 0.0009 for 28 and 14 (certainty: 0.36)"
       ]
      },
      {
       "output_type": "stream",
       "stream": "stdout",
       "text": [
        "\n",
        "Score: 0.0742 for 28 and 28 (certainty: 1.00)"
       ]
      },
      {
       "output_type": "stream",
       "stream": "stdout",
       "text": [
        "\n",
        "Score: 0.0054 for 28 and 27 (certainty: 0.36)"
       ]
      },
      {
       "output_type": "stream",
       "stream": "stdout",
       "text": [
        "\n",
        "Score: 0.0146 for 28 and 22 (certainty: 0.64)"
       ]
      },
      {
       "output_type": "stream",
       "stream": "stdout",
       "text": [
        "\n",
        "Score: 0.0140 for 28 and 29 (certainty: 1.00)"
       ]
      },
      {
       "output_type": "stream",
       "stream": "stdout",
       "text": [
        "\n",
        "Score: 0.0102 for 28 and 15 (certainty: 0.64)"
       ]
      },
      {
       "output_type": "stream",
       "stream": "stdout",
       "text": [
        "\n",
        "Score: 0.0080 for 28 and 25 (certainty: 0.91)"
       ]
      },
      {
       "output_type": "stream",
       "stream": "stdout",
       "text": [
        "\n",
        "Score: 0.0020 for 28 and 23 (certainty: 0.75)"
       ]
      },
      {
       "output_type": "stream",
       "stream": "stdout",
       "text": [
        "\n",
        "Score: 0.0066 for 28 and 16 (certainty: 0.64)"
       ]
      },
      {
       "output_type": "stream",
       "stream": "stdout",
       "text": [
        "\n",
        "Score: 0.0113 for 28 and 18 (certainty: 0.84)"
       ]
      },
      {
       "output_type": "stream",
       "stream": "stdout",
       "text": [
        "\n",
        "Score: 0.0062 for 28 and 25 (certainty: 0.91)"
       ]
      },
      {
       "output_type": "stream",
       "stream": "stdout",
       "text": [
        "\n",
        "Score: 0.0003 for 28 and 32 (certainty: 0.84)"
       ]
      },
      {
       "output_type": "stream",
       "stream": "stdout",
       "text": [
        "\n",
        "Score: 0.0059 for 28 and 19 (certainty: 0.91)"
       ]
      },
      {
       "output_type": "stream",
       "stream": "stdout",
       "text": [
        "\n",
        "Score: 0.0172 for 28 and 21 (certainty: 0.84)"
       ]
      },
      {
       "output_type": "stream",
       "stream": "stdout",
       "text": [
        "\n",
        "Score: 0.0175 for 28 and 14 (certainty: 0.64)"
       ]
      },
      {
       "output_type": "stream",
       "stream": "stdout",
       "text": [
        "\n",
        "Score: 0.0035 for 28 and 26 (certainty: 0.51)"
       ]
      },
      {
       "output_type": "stream",
       "stream": "stdout",
       "text": [
        "\n",
        "Score: 0.0048 for 28 and 22 (certainty: 0.75)"
       ]
      },
      {
       "output_type": "stream",
       "stream": "stdout",
       "text": [
        "\n",
        "Score: 0.0198 for 28 and 29 (certainty: 0.99)"
       ]
      },
      {
       "output_type": "stream",
       "stream": "stdout",
       "text": [
        "\n",
        "Score: 0.0040 for 28 and 13 (certainty: 0.99)"
       ]
      },
      {
       "output_type": "stream",
       "stream": "stdout",
       "text": [
        "\n",
        "Score: 0.0529 for 28 and 28 (certainty: 1.00)"
       ]
      },
      {
       "output_type": "stream",
       "stream": "stdout",
       "text": [
        "\n",
        "Score: 0.0019 for 28 and 13 (certainty: 0.64)"
       ]
      },
      {
       "output_type": "stream",
       "stream": "stdout",
       "text": [
        "\n",
        "Score: 0.0120 for 28 and 14 (certainty: 0.64)"
       ]
      },
      {
       "output_type": "stream",
       "stream": "stdout",
       "text": [
        "\n",
        "Score: 0.0063 for 28 and 14 (certainty: 0.75)"
       ]
      },
      {
       "output_type": "stream",
       "stream": "stdout",
       "text": [
        "\n",
        "Score: 0.0133 for 28 and 27 (certainty: 0.96)"
       ]
      },
      {
       "output_type": "stream",
       "stream": "stdout",
       "text": [
        "\n",
        "Score: 0.0085 for 28 and 17 (certainty: 1.00)"
       ]
      },
      {
       "output_type": "stream",
       "stream": "stdout",
       "text": [
        "\n",
        "Score: 0.0000 for 28 and 19 (certainty: 0.51)"
       ]
      },
      {
       "output_type": "stream",
       "stream": "stdout",
       "text": [
        "\n",
        "Score: 0.0214 for 28 and 31 (certainty: 0.91)"
       ]
      },
      {
       "output_type": "stream",
       "stream": "stdout",
       "text": [
        "\n",
        "Score: 0.0061 for 28 and 21 (certainty: 0.64)"
       ]
      },
      {
       "output_type": "stream",
       "stream": "stdout",
       "text": [
        "\n",
        "Score: 0.0011 for 28 and 23 (certainty: 0.75)"
       ]
      },
      {
       "output_type": "stream",
       "stream": "stdout",
       "text": [
        "\n",
        "Score: 0.0273 for 28 and 25 (certainty: 1.00)"
       ]
      },
      {
       "output_type": "stream",
       "stream": "stdout",
       "text": [
        "\n",
        "Score: 0.0116 for 28 and 23 (certainty: 0.19)"
       ]
      },
      {
       "output_type": "stream",
       "stream": "stdout",
       "text": [
        "\n",
        "Score: 0.0121 for 28 and 31 (certainty: 0.91)"
       ]
      },
      {
       "output_type": "stream",
       "stream": "stdout",
       "text": [
        "\n",
        "Score: 0.0150 for 28 and 15 (certainty: 0.64)"
       ]
      },
      {
       "output_type": "stream",
       "stream": "stdout",
       "text": [
        "\n",
        "Score: 0.0089 for 28 and 23 (certainty: 1.00)"
       ]
      },
      {
       "output_type": "stream",
       "stream": "stdout",
       "text": [
        "\n",
        "Score: 0.0247 for 28 and 18 (certainty: 1.00)"
       ]
      },
      {
       "output_type": "stream",
       "stream": "stdout",
       "text": [
        "\n",
        "Score: 0.0013 for 28 and 15 (certainty: 0.64)"
       ]
      },
      {
       "output_type": "stream",
       "stream": "stdout",
       "text": [
        "\n",
        "Score: 0.0046 for 28 and 16 (certainty: 0.91)"
       ]
      },
      {
       "output_type": "stream",
       "stream": "stdout",
       "text": [
        "\n",
        "Score: 0.0171 for 28 and 23 (certainty: 1.00)"
       ]
      },
      {
       "output_type": "stream",
       "stream": "stdout",
       "text": [
        "\n",
        "Score: 0.0037 for 28 and 23 (certainty: 0.64)"
       ]
      },
      {
       "output_type": "stream",
       "stream": "stdout",
       "text": [
        "\n",
        "Score: 0.0341 for 28 and 32 (certainty: 0.64)"
       ]
      },
      {
       "output_type": "stream",
       "stream": "stdout",
       "text": [
        "\n",
        "Score: 0.0011 for 28 and 15 (certainty: 0.36)"
       ]
      },
      {
       "output_type": "stream",
       "stream": "stdout",
       "text": [
        "\n",
        "Score: 0.0071 for 28 and 24 (certainty: 0.51)"
       ]
      },
      {
       "output_type": "stream",
       "stream": "stdout",
       "text": [
        "\n",
        "Score: 0.0290 for 28 and 25 (certainty: 1.00)"
       ]
      },
      {
       "output_type": "stream",
       "stream": "stdout",
       "text": [
        "\n",
        "Score: 0.0141 for 28 and 30 (certainty: 1.00)"
       ]
      },
      {
       "output_type": "stream",
       "stream": "stdout",
       "text": [
        "\n",
        "Score: 0.0023 for 28 and 32 (certainty: 0.64)"
       ]
      },
      {
       "output_type": "stream",
       "stream": "stdout",
       "text": [
        "\n",
        "['../../images/testsets/Gallagher_small_unresized/28_525.jpg', '../../images/testsets/Gallagher_small_unresized/29_538.jpg']\n",
        "No descriptors found. Returning score 0\n",
        "Score: 0.0054 for 28 and 21 (certainty: 0.91)"
       ]
      },
      {
       "output_type": "stream",
       "stream": "stdout",
       "text": [
        "\n",
        "Score: 0.0168 for 28 and 20 (certainty: 0.96)"
       ]
      },
      {
       "output_type": "stream",
       "stream": "stdout",
       "text": [
        "\n",
        "Score: 0.0044 for 28 and 15 (certainty: 0.91)"
       ]
      },
      {
       "output_type": "stream",
       "stream": "stdout",
       "text": [
        "\n",
        "Score: 0.0082 for 28 and 15 (certainty: 0.75)"
       ]
      },
      {
       "output_type": "stream",
       "stream": "stdout",
       "text": [
        "\n",
        "Score: 0.0062 for 28 and 19 (certainty: 0.75)"
       ]
      },
      {
       "output_type": "stream",
       "stream": "stdout",
       "text": [
        "\n",
        "Score: 0.0138 for 28 and 19 (certainty: 0.99)"
       ]
      },
      {
       "output_type": "stream",
       "stream": "stdout",
       "text": [
        "\n",
        "Score: 0.0229 for 28 and 21 (certainty: 0.96)"
       ]
      },
      {
       "output_type": "stream",
       "stream": "stdout",
       "text": [
        "\n",
        "Score: 0.0083 for 28 and 26 (certainty: 0.96)"
       ]
      },
      {
       "output_type": "stream",
       "stream": "stdout",
       "text": [
        "\n",
        "Score: 0.0171 for 28 and 27 (certainty: 0.91)"
       ]
      },
      {
       "output_type": "stream",
       "stream": "stdout",
       "text": [
        "\n",
        "Score: 0.0244 for 28 and 15 (certainty: 0.99)"
       ]
      },
      {
       "output_type": "stream",
       "stream": "stdout",
       "text": [
        "\n",
        "Score: 0.0046 for 28 and 15 (certainty: 0.64)"
       ]
      },
      {
       "output_type": "stream",
       "stream": "stdout",
       "text": [
        "\n",
        "Score: 0.0285 for 28 and 21 (certainty: 0.91)"
       ]
      },
      {
       "output_type": "stream",
       "stream": "stdout",
       "text": [
        "\n",
        "Score: 0.0026 for 28 and 15 (certainty: 0.19)"
       ]
      },
      {
       "output_type": "stream",
       "stream": "stdout",
       "text": [
        "\n",
        "Score: 0.0244 for 28 and 16 (certainty: 0.84)"
       ]
      },
      {
       "output_type": "stream",
       "stream": "stdout",
       "text": [
        "\n",
        "Score: 0.0054 for 28 and 17 (certainty: 0.64)"
       ]
      },
      {
       "output_type": "stream",
       "stream": "stdout",
       "text": [
        "\n",
        "Score: 0.0122 for 28 and 28 (certainty: 0.51)"
       ]
      },
      {
       "output_type": "stream",
       "stream": "stdout",
       "text": [
        "\n",
        "Score: 0.0148 for 28 and 27 (certainty: 0.91)"
       ]
      },
      {
       "output_type": "stream",
       "stream": "stdout",
       "text": [
        "\n",
        "Score: 0.0135 for 28 and 13 (certainty: 0.84)"
       ]
      },
      {
       "output_type": "stream",
       "stream": "stdout",
       "text": [
        "\n",
        "Score: 0.0008 for 28 and 23 (certainty: 0.75)"
       ]
      },
      {
       "output_type": "stream",
       "stream": "stdout",
       "text": [
        "\n",
        "Score: 0.0049 for 30 and 26 (certainty: 0.64)"
       ]
      },
      {
       "output_type": "stream",
       "stream": "stdout",
       "text": [
        "\n",
        "Score: 0.0093 for 30 and 15 (certainty: 0.64)"
       ]
      },
      {
       "output_type": "stream",
       "stream": "stdout",
       "text": [
        "\n",
        "Score: 0.0193 for 30 and 21 (certainty: 0.51)"
       ]
      },
      {
       "output_type": "stream",
       "stream": "stdout",
       "text": [
        "\n",
        "Score: 0.0088 for 30 and 24 (certainty: 0.51)"
       ]
      },
      {
       "output_type": "stream",
       "stream": "stdout",
       "text": [
        "\n",
        "Score: 0.0083 for 30 and 17 (certainty: 0.36)"
       ]
      },
      {
       "output_type": "stream",
       "stream": "stdout",
       "text": [
        "\n",
        "Score: 0.0299 for 30 and 14 (certainty: 0.51)\n",
        "Score: 0.0125 for 30 and 28 (certainty: 0.64)"
       ]
      },
      {
       "output_type": "stream",
       "stream": "stdout",
       "text": [
        "\n",
        "Score: 0.0257 for 30 and 27 (certainty: 0.64)"
       ]
      },
      {
       "output_type": "stream",
       "stream": "stdout",
       "text": [
        "\n",
        "Score: 0.0159 for 30 and 22 (certainty: 0.64)\n",
        "Score: 0.0017 for 30 and 29 (certainty: 0.36)"
       ]
      },
      {
       "output_type": "stream",
       "stream": "stdout",
       "text": [
        "\n",
        "Score: 0.0035 for 30 and 15 (certainty: 0.36)"
       ]
      },
      {
       "output_type": "stream",
       "stream": "stdout",
       "text": [
        "\n",
        "Score: 0.0007 for 30 and 25 (certainty: 0.36)"
       ]
      },
      {
       "output_type": "stream",
       "stream": "stdout",
       "text": [
        "\n",
        "Score: 0.0187 for 30 and 23 (certainty: 0.64)"
       ]
      },
      {
       "output_type": "stream",
       "stream": "stdout",
       "text": [
        "\n",
        "Score: 0.0011 for 30 and 16 (certainty: 0.51)"
       ]
      },
      {
       "output_type": "stream",
       "stream": "stdout",
       "text": [
        "\n",
        "Score: 0.0084 for 30 and 18 (certainty: 0.36)\n",
        "Score: 0.0115 for 30 and 25 (certainty: 0.51)"
       ]
      },
      {
       "output_type": "stream",
       "stream": "stdout",
       "text": [
        "\n",
        "Score: 0.0015 for 30 and 32 (certainty: 0.51)"
       ]
      },
      {
       "output_type": "stream",
       "stream": "stdout",
       "text": [
        "\n",
        "Score: 0.0205 for 30 and 19 (certainty: 0.64)"
       ]
      },
      {
       "output_type": "stream",
       "stream": "stdout",
       "text": [
        "\n",
        "Score: 0.0064 for 30 and 21 (certainty: 0.51)"
       ]
      },
      {
       "output_type": "stream",
       "stream": "stdout",
       "text": [
        "\n",
        "Score: 0.0052 for 30 and 14 (certainty: 0.64)"
       ]
      },
      {
       "output_type": "stream",
       "stream": "stdout",
       "text": [
        "\n",
        "Score: 0.0237 for 30 and 26 (certainty: 0.51)"
       ]
      },
      {
       "output_type": "stream",
       "stream": "stdout",
       "text": [
        "\n",
        "Score: 0.0261 for 30 and 22 (certainty: 0.36)\n",
        "Score: 0.0092 for 30 and 29 (certainty: 0.51)"
       ]
      },
      {
       "output_type": "stream",
       "stream": "stdout",
       "text": [
        "\n",
        "Score: 0.0107 for 30 and 13 (certainty: 0.75)"
       ]
      },
      {
       "output_type": "stream",
       "stream": "stdout",
       "text": [
        "\n",
        "Score: 0.0000 for 30 and 28 (certainty: 0.36)"
       ]
      },
      {
       "output_type": "stream",
       "stream": "stdout",
       "text": [
        "\n",
        "Score: 0.0021 for 30 and 13 (certainty: 0.51)\n",
        "Score: 0.0302 for 30 and 14 (certainty: 0.51)"
       ]
      },
      {
       "output_type": "stream",
       "stream": "stdout",
       "text": [
        "\n",
        "Score: 0.0029 for 30 and 14 (certainty: 0.36)"
       ]
      },
      {
       "output_type": "stream",
       "stream": "stdout",
       "text": [
        "\n",
        "Score: 0.0020 for 30 and 27 (certainty: 0.64)"
       ]
      },
      {
       "output_type": "stream",
       "stream": "stdout",
       "text": [
        "\n",
        "Score: 0.0057 for 30 and 17 (certainty: 0.75)"
       ]
      },
      {
       "output_type": "stream",
       "stream": "stdout",
       "text": [
        "\n",
        "Score: 0.0117 for 30 and 19 (certainty: 0.64)\n",
        "Score: 0.0109 for 30 and 31 (certainty: 0.51)"
       ]
      },
      {
       "output_type": "stream",
       "stream": "stdout",
       "text": [
        "\n",
        "Score: 0.0172 for 30 and 21 (certainty: 0.51)"
       ]
      },
      {
       "output_type": "stream",
       "stream": "stdout",
       "text": [
        "\n",
        "Score: 0.0110 for 30 and 23 (certainty: 0.51)"
       ]
      },
      {
       "output_type": "stream",
       "stream": "stdout",
       "text": [
        "\n",
        "Score: 0.0096 for 30 and 25 (certainty: 0.51)"
       ]
      },
      {
       "output_type": "stream",
       "stream": "stdout",
       "text": [
        "\n",
        "Score: 0.0045 for 30 and 23 (certainty: 0.19)\n",
        "Score: 0.0151 for 30 and 31 (certainty: 0.36)"
       ]
      },
      {
       "output_type": "stream",
       "stream": "stdout",
       "text": [
        "\n",
        "Score: 0.0018 for 30 and 15 (certainty: 0.51)\n",
        "Score: 0.0049 for 30 and 23 (certainty: 0.64)"
       ]
      },
      {
       "output_type": "stream",
       "stream": "stdout",
       "text": [
        "\n",
        "Score: 0.0194 for 30 and 18 (certainty: 0.51)"
       ]
      },
      {
       "output_type": "stream",
       "stream": "stdout",
       "text": [
        "\n",
        "Score: 0.0047 for 30 and 15 (certainty: 0.51)"
       ]
      },
      {
       "output_type": "stream",
       "stream": "stdout",
       "text": [
        "\n",
        "Score: 0.0008 for 30 and 16 (certainty: 0.36)"
       ]
      },
      {
       "output_type": "stream",
       "stream": "stdout",
       "text": [
        "\n",
        "Score: 0.0233 for 30 and 23 (certainty: 0.64)"
       ]
      },
      {
       "output_type": "stream",
       "stream": "stdout",
       "text": [
        "\n",
        "Score: 0.0075 for 30 and 23 (certainty: 0.64)"
       ]
      },
      {
       "output_type": "stream",
       "stream": "stdout",
       "text": [
        "\n",
        "Score: 0.0114 for 30 and 32 (certainty: 0.51)\n",
        "Score: 0.0085 for 30 and 15 (certainty: 0.64)"
       ]
      },
      {
       "output_type": "stream",
       "stream": "stdout",
       "text": [
        "\n",
        "Score: 0.0315 for 30 and 24 (certainty: 0.51)"
       ]
      },
      {
       "output_type": "stream",
       "stream": "stdout",
       "text": [
        "\n",
        "Score: 0.0103 for 30 and 25 (certainty: 0.64)"
       ]
      },
      {
       "output_type": "stream",
       "stream": "stdout",
       "text": [
        "\n",
        "Score: 0.0254 for 30 and 30 (certainty: 0.64)"
       ]
      },
      {
       "output_type": "stream",
       "stream": "stdout",
       "text": [
        "\n",
        "Score: 0.0036 for 30 and 32 (certainty: 0.51)"
       ]
      },
      {
       "output_type": "stream",
       "stream": "stdout",
       "text": [
        "\n",
        "['../../images/testsets/Gallagher_small_unresized/30_539.jpg', '../../images/testsets/Gallagher_small_unresized/29_538.jpg']\n",
        "No descriptors found. Returning score 0\n",
        "Score: 0.0083 for 30 and 21 (certainty: 0.75)"
       ]
      },
      {
       "output_type": "stream",
       "stream": "stdout",
       "text": [
        "\n",
        "Score: 0.0279 for 30 and 20 (certainty: 0.64)"
       ]
      },
      {
       "output_type": "stream",
       "stream": "stdout",
       "text": [
        "\n",
        "Score: 0.0154 for 30 and 15 (certainty: 0.51)"
       ]
      },
      {
       "output_type": "stream",
       "stream": "stdout",
       "text": [
        "\n",
        "Score: 0.0023 for 30 and 15 (certainty: 0.36)"
       ]
      },
      {
       "output_type": "stream",
       "stream": "stdout",
       "text": [
        "\n",
        "Score: 0.0048 for 30 and 19 (certainty: 0.51)"
       ]
      },
      {
       "output_type": "stream",
       "stream": "stdout",
       "text": [
        "\n",
        "Score: 0.0231 for 30 and 19 (certainty: 0.51)"
       ]
      },
      {
       "output_type": "stream",
       "stream": "stdout",
       "text": [
        "\n",
        "Score: 0.0184 for 30 and 21 (certainty: 0.51)"
       ]
      },
      {
       "output_type": "stream",
       "stream": "stdout",
       "text": [
        "\n",
        "Score: 0.0080 for 30 and 26 (certainty: 0.75)"
       ]
      },
      {
       "output_type": "stream",
       "stream": "stdout",
       "text": [
        "\n",
        "Score: 0.0244 for 30 and 27 (certainty: 0.51)"
       ]
      },
      {
       "output_type": "stream",
       "stream": "stdout",
       "text": [
        "\n",
        "Score: 0.0186 for 30 and 15 (certainty: 0.64)"
       ]
      },
      {
       "output_type": "stream",
       "stream": "stdout",
       "text": [
        "\n",
        "Score: 0.0030 for 30 and 15 (certainty: 0.36)"
       ]
      },
      {
       "output_type": "stream",
       "stream": "stdout",
       "text": [
        "\n",
        "Score: 0.0343 for 30 and 21 (certainty: 0.51)\n",
        "Score: 0.0177 for 30 and 15 (certainty: 0.19)"
       ]
      },
      {
       "output_type": "stream",
       "stream": "stdout",
       "text": [
        "\n",
        "Score: 0.0093 for 30 and 16 (certainty: 0.51)"
       ]
      },
      {
       "output_type": "stream",
       "stream": "stdout",
       "text": [
        "\n",
        "Score: 0.0131 for 30 and 17 (certainty: 0.19)"
       ]
      },
      {
       "output_type": "stream",
       "stream": "stdout",
       "text": [
        "\n",
        "Score: 0.0285 for 30 and 28 (certainty: 0.36)\n",
        "Score: 0.0140 for 30 and 27 (certainty: 0.64)"
       ]
      },
      {
       "output_type": "stream",
       "stream": "stdout",
       "text": [
        "\n",
        "Score: 0.0059 for 30 and 13 (certainty: 0.51)"
       ]
      },
      {
       "output_type": "stream",
       "stream": "stdout",
       "text": [
        "\n",
        "Score: 0.0117 for 30 and 23 (certainty: 0.75)"
       ]
      },
      {
       "output_type": "stream",
       "stream": "stdout",
       "text": [
        "\n",
        "Score: 0.0072 for 26 and 15 (certainty: 0.96)"
       ]
      },
      {
       "output_type": "stream",
       "stream": "stdout",
       "text": [
        "\n",
        "Score: 0.0210 for 26 and 21 (certainty: 0.99)"
       ]
      },
      {
       "output_type": "stream",
       "stream": "stdout",
       "text": [
        "\n",
        "Score: 0.0044 for 26 and 24 (certainty: 0.96)"
       ]
      },
      {
       "output_type": "stream",
       "stream": "stdout",
       "text": [
        "\n",
        "Score: 0.0047 for 26 and 17 (certainty: 0.84)"
       ]
      },
      {
       "output_type": "stream",
       "stream": "stdout",
       "text": [
        "\n",
        "Score: 0.0119 for 26 and 14 (certainty: 0.64)"
       ]
      },
      {
       "output_type": "stream",
       "stream": "stdout",
       "text": [
        "\n",
        "Score: 0.0120 for 26 and 28 (certainty: 1.00)"
       ]
      },
      {
       "output_type": "stream",
       "stream": "stdout",
       "text": [
        "\n",
        "Score: 0.0150 for 26 and 27 (certainty: 0.84)"
       ]
      },
      {
       "output_type": "stream",
       "stream": "stdout",
       "text": [
        "\n",
        "Score: 0.0124 for 26 and 22 (certainty: 0.64)"
       ]
      },
      {
       "output_type": "stream",
       "stream": "stdout",
       "text": [
        "\n",
        "Score: 0.0103 for 26 and 29 (certainty: 1.00)"
       ]
      },
      {
       "output_type": "stream",
       "stream": "stdout",
       "text": [
        "\n",
        "Score: 0.0209 for 26 and 15 (certainty: 0.91)"
       ]
      },
      {
       "output_type": "stream",
       "stream": "stdout",
       "text": [
        "\n",
        "Score: 0.0062 for 26 and 25 (certainty: 0.84)"
       ]
      },
      {
       "output_type": "stream",
       "stream": "stdout",
       "text": [
        "\n",
        "Score: 0.0046 for 26 and 23 (certainty: 0.96)"
       ]
      },
      {
       "output_type": "stream",
       "stream": "stdout",
       "text": [
        "\n",
        "Score: 0.0026 for 26 and 16 (certainty: 0.64)"
       ]
      },
      {
       "output_type": "stream",
       "stream": "stdout",
       "text": [
        "\n",
        "Score: 0.0114 for 26 and 18 (certainty: 0.75)"
       ]
      },
      {
       "output_type": "stream",
       "stream": "stdout",
       "text": [
        "\n",
        "Score: 0.0183 for 26 and 25 (certainty: 1.00)"
       ]
      },
      {
       "output_type": "stream",
       "stream": "stdout",
       "text": [
        "\n",
        "Score: 0.0064 for 26 and 32 (certainty: 0.99)"
       ]
      },
      {
       "output_type": "stream",
       "stream": "stdout",
       "text": [
        "\n",
        "Score: 0.0156 for 26 and 19 (certainty: 0.91)"
       ]
      },
      {
       "output_type": "stream",
       "stream": "stdout",
       "text": [
        "\n",
        "Score: 0.0139 for 26 and 21 (certainty: 1.00)"
       ]
      },
      {
       "output_type": "stream",
       "stream": "stdout",
       "text": [
        "\n",
        "Score: 0.0196 for 26 and 14 (certainty: 0.91)"
       ]
      },
      {
       "output_type": "stream",
       "stream": "stdout",
       "text": [
        "\n",
        "Score: 0.0136 for 26 and 26 (certainty: 0.64)"
       ]
      },
      {
       "output_type": "stream",
       "stream": "stdout",
       "text": [
        "\n",
        "Score: 0.0039 for 26 and 22 (certainty: 0.64)"
       ]
      },
      {
       "output_type": "stream",
       "stream": "stdout",
       "text": [
        "\n",
        "Score: 0.0128 for 26 and 29 (certainty: 0.91)"
       ]
      },
      {
       "output_type": "stream",
       "stream": "stdout",
       "text": [
        "\n",
        "Score: 0.0108 for 26 and 13 (certainty: 1.00)"
       ]
      },
      {
       "output_type": "stream",
       "stream": "stdout",
       "text": [
        "\n",
        "Score: 0.0185 for 26 and 28 (certainty: 0.99)"
       ]
      },
      {
       "output_type": "stream",
       "stream": "stdout",
       "text": [
        "\n",
        "Score: 0.0107 for 26 and 13 (certainty: 0.91)"
       ]
      },
      {
       "output_type": "stream",
       "stream": "stdout",
       "text": [
        "\n",
        "Score: 0.0106 for 26 and 14 (certainty: 0.91)"
       ]
      },
      {
       "output_type": "stream",
       "stream": "stdout",
       "text": [
        "\n",
        "Score: 0.0036 for 26 and 14 (certainty: 0.84)"
       ]
      },
      {
       "output_type": "stream",
       "stream": "stdout",
       "text": [
        "\n",
        "Score: 0.0219 for 26 and 27 (certainty: 0.99)"
       ]
      },
      {
       "output_type": "stream",
       "stream": "stdout",
       "text": [
        "\n",
        "Score: 0.0090 for 26 and 17 (certainty: 1.00)"
       ]
      },
      {
       "output_type": "stream",
       "stream": "stdout",
       "text": [
        "\n",
        "Score: 0.0008 for 26 and 19 (certainty: 0.64)"
       ]
      },
      {
       "output_type": "stream",
       "stream": "stdout",
       "text": [
        "\n",
        "Score: 0.0153 for 26 and 31 (certainty: 0.96)"
       ]
      },
      {
       "output_type": "stream",
       "stream": "stdout",
       "text": [
        "\n",
        "Score: 0.0158 for 26 and 21 (certainty: 0.91)"
       ]
      },
      {
       "output_type": "stream",
       "stream": "stdout",
       "text": [
        "\n",
        "Score: 0.0107 for 26 and 23 (certainty: 1.00)"
       ]
      },
      {
       "output_type": "stream",
       "stream": "stdout",
       "text": [
        "\n",
        "Score: 0.0081 for 26 and 25 (certainty: 0.75)"
       ]
      },
      {
       "output_type": "stream",
       "stream": "stdout",
       "text": [
        "\n",
        "Score: 0.0033 for 26 and 23 (certainty: 0.19)"
       ]
      },
      {
       "output_type": "stream",
       "stream": "stdout",
       "text": [
        "\n",
        "Score: 0.0142 for 26 and 31 (certainty: 0.96)"
       ]
      },
      {
       "output_type": "stream",
       "stream": "stdout",
       "text": [
        "\n",
        "Score: 0.0118 for 26 and 15 (certainty: 0.75)"
       ]
      },
      {
       "output_type": "stream",
       "stream": "stdout",
       "text": [
        "\n",
        "Score: 0.0048 for 26 and 23 (certainty: 0.96)"
       ]
      },
      {
       "output_type": "stream",
       "stream": "stdout",
       "text": [
        "\n",
        "Score: 0.0056 for 26 and 18 (certainty: 0.84)"
       ]
      },
      {
       "output_type": "stream",
       "stream": "stdout",
       "text": [
        "\n",
        "Score: 0.0103 for 26 and 15 (certainty: 0.91)"
       ]
      },
      {
       "output_type": "stream",
       "stream": "stdout",
       "text": [
        "\n",
        "Score: 0.0024 for 26 and 16 (certainty: 0.91)"
       ]
      },
      {
       "output_type": "stream",
       "stream": "stdout",
       "text": [
        "\n",
        "Score: 0.0233 for 26 and 23 (certainty: 0.96)"
       ]
      },
      {
       "output_type": "stream",
       "stream": "stdout",
       "text": [
        "\n",
        "Score: 0.0027 for 26 and 23 (certainty: 0.91)"
       ]
      },
      {
       "output_type": "stream",
       "stream": "stdout",
       "text": [
        "\n",
        "Score: 0.0000 for 26 and 32 (certainty: 0.51)"
       ]
      },
      {
       "output_type": "stream",
       "stream": "stdout",
       "text": [
        "\n",
        "Score: 0.0127 for 26 and 15 (certainty: 1.00)"
       ]
      },
      {
       "output_type": "stream",
       "stream": "stdout",
       "text": [
        "\n",
        "Score: 0.0036 for 26 and 24 (certainty: 0.91)"
       ]
      },
      {
       "output_type": "stream",
       "stream": "stdout",
       "text": [
        "\n",
        "Score: 0.0086 for 26 and 25 (certainty: 0.84)"
       ]
      },
      {
       "output_type": "stream",
       "stream": "stdout",
       "text": [
        "\n",
        "Score: 0.0126 for 26 and 30 (certainty: 1.00)"
       ]
      },
      {
       "output_type": "stream",
       "stream": "stdout",
       "text": [
        "\n",
        "Score: 0.0033 for 26 and 32 (certainty: 0.64)"
       ]
      },
      {
       "output_type": "stream",
       "stream": "stdout",
       "text": [
        "\n",
        "['../../images/testsets/Gallagher_small_unresized/26_550.jpg', '../../images/testsets/Gallagher_small_unresized/29_538.jpg']\n",
        "No descriptors found. Returning score 0\n",
        "Score: 0.0091 for 26 and 21 (certainty: 0.99)"
       ]
      },
      {
       "output_type": "stream",
       "stream": "stdout",
       "text": [
        "\n",
        "Score: 0.0126 for 26 and 20 (certainty: 1.00)"
       ]
      },
      {
       "output_type": "stream",
       "stream": "stdout",
       "text": [
        "\n",
        "Score: 0.0140 for 26 and 15 (certainty: 0.99)"
       ]
      },
      {
       "output_type": "stream",
       "stream": "stdout",
       "text": [
        "\n",
        "Score: 0.0084 for 26 and 15 (certainty: 0.91)"
       ]
      },
      {
       "output_type": "stream",
       "stream": "stdout",
       "text": [
        "\n",
        "Score: 0.0031 for 26 and 19 (certainty: 0.91)"
       ]
      },
      {
       "output_type": "stream",
       "stream": "stdout",
       "text": [
        "\n",
        "Score: 0.0067 for 26 and 19 (certainty: 0.84)"
       ]
      },
      {
       "output_type": "stream",
       "stream": "stdout",
       "text": [
        "\n",
        "Score: 0.0161 for 26 and 21 (certainty: 0.96)"
       ]
      },
      {
       "output_type": "stream",
       "stream": "stdout",
       "text": [
        "\n",
        "Score: 0.0466 for 26 and 26 (certainty: 1.00)"
       ]
      },
      {
       "output_type": "stream",
       "stream": "stdout",
       "text": [
        "\n",
        "Score: 0.0244 for 26 and 27 (certainty: 1.00)"
       ]
      },
      {
       "output_type": "stream",
       "stream": "stdout",
       "text": [
        "\n",
        "Score: 0.0095 for 26 and 15 (certainty: 0.99)"
       ]
      },
      {
       "output_type": "stream",
       "stream": "stdout",
       "text": [
        "\n",
        "Score: 0.0193 for 26 and 15 (certainty: 0.96)"
       ]
      },
      {
       "output_type": "stream",
       "stream": "stdout",
       "text": [
        "\n",
        "Score: 0.0096 for 26 and 21 (certainty: 0.64)"
       ]
      },
      {
       "output_type": "stream",
       "stream": "stdout",
       "text": [
        "\n",
        "Score: 0.0030 for 26 and 15 (certainty: 0.19)"
       ]
      },
      {
       "output_type": "stream",
       "stream": "stdout",
       "text": [
        "\n",
        "Score: 0.0171 for 26 and 16 (certainty: 0.75)"
       ]
      },
      {
       "output_type": "stream",
       "stream": "stdout",
       "text": [
        "\n",
        "Score: 0.0034 for 26 and 17 (certainty: 0.51)"
       ]
      },
      {
       "output_type": "stream",
       "stream": "stdout",
       "text": [
        "\n",
        "Score: 0.0054 for 26 and 28 (certainty: 0.51)"
       ]
      },
      {
       "output_type": "stream",
       "stream": "stdout",
       "text": [
        "\n",
        "Score: 0.0085 for 26 and 27 (certainty: 1.00)"
       ]
      },
      {
       "output_type": "stream",
       "stream": "stdout",
       "text": [
        "\n",
        "Score: 0.0041 for 26 and 13 (certainty: 0.84)"
       ]
      },
      {
       "output_type": "stream",
       "stream": "stdout",
       "text": [
        "\n",
        "Score: 0.0047 for 26 and 23 (certainty: 1.00)"
       ]
      },
      {
       "output_type": "stream",
       "stream": "stdout",
       "text": [
        "\n",
        "Score: 0.0130 for 15 and 21 (certainty: 0.96)"
       ]
      },
      {
       "output_type": "stream",
       "stream": "stdout",
       "text": [
        "\n",
        "Score: 0.0232 for 15 and 24 (certainty: 0.91)"
       ]
      },
      {
       "output_type": "stream",
       "stream": "stdout",
       "text": [
        "\n",
        "Score: 0.0036 for 15 and 17 (certainty: 0.51)"
       ]
      },
      {
       "output_type": "stream",
       "stream": "stdout",
       "text": [
        "\n",
        "Score: 0.0142 for 15 and 14 (certainty: 0.64)"
       ]
      },
      {
       "output_type": "stream",
       "stream": "stdout",
       "text": [
        "\n",
        "Score: 0.0007 for 15 and 28 (certainty: 0.64)"
       ]
      },
      {
       "output_type": "stream",
       "stream": "stdout",
       "text": [
        "\n",
        "Score: 0.0066 for 15 and 27 (certainty: 0.75)"
       ]
      },
      {
       "output_type": "stream",
       "stream": "stdout",
       "text": [
        "\n",
        "Score: 0.0143 for 15 and 22 (certainty: 0.75)"
       ]
      },
      {
       "output_type": "stream",
       "stream": "stdout",
       "text": [
        "\n",
        "Score: 0.0021 for 15 and 29 (certainty: 0.64)"
       ]
      },
      {
       "output_type": "stream",
       "stream": "stdout",
       "text": [
        "\n",
        "Score: 0.0435 for 15 and 15 (certainty: 0.99)"
       ]
      },
      {
       "output_type": "stream",
       "stream": "stdout",
       "text": [
        "\n",
        "Score: 0.0165 for 15 and 25 (certainty: 0.84)"
       ]
      },
      {
       "output_type": "stream",
       "stream": "stdout",
       "text": [
        "\n",
        "Score: 0.0134 for 15 and 23 (certainty: 1.00)"
       ]
      },
      {
       "output_type": "stream",
       "stream": "stdout",
       "text": [
        "\n",
        "Score: 0.0032 for 15 and 16 (certainty: 0.75)"
       ]
      },
      {
       "output_type": "stream",
       "stream": "stdout",
       "text": [
        "\n",
        "Score: 0.0100 for 15 and 18 (certainty: 0.64)"
       ]
      },
      {
       "output_type": "stream",
       "stream": "stdout",
       "text": [
        "\n",
        "Score: 0.0116 for 15 and 25 (certainty: 0.75)"
       ]
      },
      {
       "output_type": "stream",
       "stream": "stdout",
       "text": [
        "\n",
        "Score: 0.0188 for 15 and 32 (certainty: 1.00)"
       ]
      },
      {
       "output_type": "stream",
       "stream": "stdout",
       "text": [
        "\n",
        "Score: 0.0409 for 15 and 19 (certainty: 0.99)"
       ]
      },
      {
       "output_type": "stream",
       "stream": "stdout",
       "text": [
        "\n",
        "Score: 0.0161 for 15 and 21 (certainty: 0.84)"
       ]
      },
      {
       "output_type": "stream",
       "stream": "stdout",
       "text": [
        "\n",
        "Score: 0.0365 for 15 and 14 (certainty: 0.99)"
       ]
      },
      {
       "output_type": "stream",
       "stream": "stdout",
       "text": [
        "\n",
        "Score: 0.0013 for 15 and 26 (certainty: 0.51)"
       ]
      },
      {
       "output_type": "stream",
       "stream": "stdout",
       "text": [
        "\n",
        "Score: 0.0222 for 15 and 22 (certainty: 0.84)"
       ]
      },
      {
       "output_type": "stream",
       "stream": "stdout",
       "text": [
        "\n",
        "Score: 0.0055 for 15 and 29 (certainty: 0.64)"
       ]
      },
      {
       "output_type": "stream",
       "stream": "stdout",
       "text": [
        "\n",
        "Score: 0.0066 for 15 and 13 (certainty: 0.84)"
       ]
      },
      {
       "output_type": "stream",
       "stream": "stdout",
       "text": [
        "\n",
        "Score: 0.0064 for 15 and 28 (certainty: 0.64)"
       ]
      },
      {
       "output_type": "stream",
       "stream": "stdout",
       "text": [
        "\n",
        "Score: 0.0031 for 15 and 13 (certainty: 0.75)"
       ]
      },
      {
       "output_type": "stream",
       "stream": "stdout",
       "text": [
        "\n",
        "Score: 0.0099 for 15 and 14 (certainty: 0.99)"
       ]
      },
      {
       "output_type": "stream",
       "stream": "stdout",
       "text": [
        "\n",
        "Score: 0.0183 for 15 and 14 (certainty: 0.84)"
       ]
      },
      {
       "output_type": "stream",
       "stream": "stdout",
       "text": [
        "\n",
        "Score: 0.0293 for 15 and 27 (certainty: 0.91)"
       ]
      },
      {
       "output_type": "stream",
       "stream": "stdout",
       "text": [
        "\n",
        "Score: 0.0057 for 15 and 17 (certainty: 1.00)"
       ]
      },
      {
       "output_type": "stream",
       "stream": "stdout",
       "text": [
        "\n",
        "Score: 0.0301 for 15 and 19 (certainty: 0.91)"
       ]
      },
      {
       "output_type": "stream",
       "stream": "stdout",
       "text": [
        "\n",
        "Score: 0.0109 for 15 and 31 (certainty: 0.84)"
       ]
      },
      {
       "output_type": "stream",
       "stream": "stdout",
       "text": [
        "\n",
        "Score: 0.0096 for 15 and 21 (certainty: 0.64)"
       ]
      },
      {
       "output_type": "stream",
       "stream": "stdout",
       "text": [
        "\n",
        "Score: 0.0065 for 15 and 23 (certainty: 1.00)"
       ]
      },
      {
       "output_type": "stream",
       "stream": "stdout",
       "text": [
        "\n",
        "Score: 0.0622 for 15 and 25 (certainty: 0.84)"
       ]
      },
      {
       "output_type": "stream",
       "stream": "stdout",
       "text": [
        "\n",
        "Score: 0.0075 for 15 and 23 (certainty: 0.19)"
       ]
      },
      {
       "output_type": "stream",
       "stream": "stdout",
       "text": [
        "\n",
        "Score: 0.0122 for 15 and 31 (certainty: 0.96)"
       ]
      },
      {
       "output_type": "stream",
       "stream": "stdout",
       "text": [
        "\n",
        "Score: 0.0162 for 15 and 15 (certainty: 0.64)"
       ]
      },
      {
       "output_type": "stream",
       "stream": "stdout",
       "text": [
        "\n",
        "Score: 0.0192 for 15 and 23 (certainty: 1.00)"
       ]
      },
      {
       "output_type": "stream",
       "stream": "stdout",
       "text": [
        "\n",
        "Score: 0.0119 for 15 and 18 (certainty: 0.75)"
       ]
      },
      {
       "output_type": "stream",
       "stream": "stdout",
       "text": [
        "\n",
        "Score: 0.0053 for 15 and 15 (certainty: 0.75)"
       ]
      },
      {
       "output_type": "stream",
       "stream": "stdout",
       "text": [
        "\n",
        "Score: 0.0122 for 15 and 16 (certainty: 0.99)"
       ]
      },
      {
       "output_type": "stream",
       "stream": "stdout",
       "text": [
        "\n",
        "Score: 0.0179 for 15 and 23 (certainty: 0.96)"
       ]
      },
      {
       "output_type": "stream",
       "stream": "stdout",
       "text": [
        "\n",
        "Score: 0.0055 for 15 and 23 (certainty: 0.75)"
       ]
      },
      {
       "output_type": "stream",
       "stream": "stdout",
       "text": [
        "\n",
        "Score: 0.0331 for 15 and 32 (certainty: 0.91)"
       ]
      },
      {
       "output_type": "stream",
       "stream": "stdout",
       "text": [
        "\n",
        "Score: 0.0385 for 15 and 15 (certainty: 1.00)"
       ]
      },
      {
       "output_type": "stream",
       "stream": "stdout",
       "text": [
        "\n",
        "Score: 0.0065 for 15 and 24 (certainty: 0.75)"
       ]
      },
      {
       "output_type": "stream",
       "stream": "stdout",
       "text": [
        "\n",
        "Score: 0.0581 for 15 and 25 (certainty: 0.96)"
       ]
      },
      {
       "output_type": "stream",
       "stream": "stdout",
       "text": [
        "\n",
        "Score: 0.0222 for 15 and 30 (certainty: 0.91)"
       ]
      },
      {
       "output_type": "stream",
       "stream": "stdout",
       "text": [
        "\n",
        "Score: 0.0154 for 15 and 32 (certainty: 0.75)"
       ]
      },
      {
       "output_type": "stream",
       "stream": "stdout",
       "text": [
        "\n",
        "['../../images/testsets/Gallagher_small_unresized/15_170.jpg', '../../images/testsets/Gallagher_small_unresized/29_538.jpg']\n",
        "No descriptors found. Returning score 0\n",
        "Score: 0.0119 for 15 and 21 (certainty: 1.00)"
       ]
      },
      {
       "output_type": "stream",
       "stream": "stdout",
       "text": [
        "\n",
        "Score: 0.0341 for 15 and 20 (certainty: 1.00)"
       ]
      },
      {
       "output_type": "stream",
       "stream": "stdout",
       "text": [
        "\n",
        "Score: 0.0131 for 15 and 15 (certainty: 0.91)"
       ]
      },
      {
       "output_type": "stream",
       "stream": "stdout",
       "text": [
        "\n",
        "Score: 0.0222 for 15 and 15 (certainty: 0.96)"
       ]
      },
      {
       "output_type": "stream",
       "stream": "stdout",
       "text": [
        "\n",
        "Score: 0.0409 for 15 and 19 (certainty: 1.00)"
       ]
      },
      {
       "output_type": "stream",
       "stream": "stdout",
       "text": [
        "\n",
        "Score: 0.0119 for 15 and 19 (certainty: 0.84)"
       ]
      },
      {
       "output_type": "stream",
       "stream": "stdout",
       "text": [
        "\n",
        "Score: 0.0060 for 15 and 21 (certainty: 0.91)"
       ]
      },
      {
       "output_type": "stream",
       "stream": "stdout",
       "text": [
        "\n",
        "Score: 0.0025 for 15 and 26 (certainty: 0.99)"
       ]
      },
      {
       "output_type": "stream",
       "stream": "stdout",
       "text": [
        "\n",
        "Score: 0.0162 for 15 and 27 (certainty: 0.99)"
       ]
      },
      {
       "output_type": "stream",
       "stream": "stdout",
       "text": [
        "\n",
        "Score: 0.0259 for 15 and 15 (certainty: 1.00)"
       ]
      },
      {
       "output_type": "stream",
       "stream": "stdout",
       "text": [
        "\n",
        "Score: 0.0168 for 15 and 15 (certainty: 0.75)"
       ]
      },
      {
       "output_type": "stream",
       "stream": "stdout",
       "text": [
        "\n",
        "Score: 0.0071 for 15 and 21 (certainty: 0.51)"
       ]
      },
      {
       "output_type": "stream",
       "stream": "stdout",
       "text": [
        "\n",
        "Score: 0.0034 for 15 and 15 (certainty: 0.19)"
       ]
      },
      {
       "output_type": "stream",
       "stream": "stdout",
       "text": [
        "\n",
        "Score: 0.0094 for 15 and 16 (certainty: 0.84)"
       ]
      },
      {
       "output_type": "stream",
       "stream": "stdout",
       "text": [
        "\n",
        "Score: 0.0051 for 15 and 17 (certainty: 0.51)"
       ]
      },
      {
       "output_type": "stream",
       "stream": "stdout",
       "text": [
        "\n",
        "Score: 0.0070 for 15 and 28 (certainty: 0.36)"
       ]
      },
      {
       "output_type": "stream",
       "stream": "stdout",
       "text": [
        "\n",
        "Score: 0.0152 for 15 and 27 (certainty: 1.00)"
       ]
      },
      {
       "output_type": "stream",
       "stream": "stdout",
       "text": [
        "\n",
        "Score: 0.0110 for 15 and 13 (certainty: 0.96)"
       ]
      },
      {
       "output_type": "stream",
       "stream": "stdout",
       "text": [
        "\n",
        "Score: 0.0130 for 15 and 23 (certainty: 0.96)"
       ]
      },
      {
       "output_type": "stream",
       "stream": "stdout",
       "text": [
        "\n",
        "Score: 0.0141 for 21 and 24 (certainty: 0.91)"
       ]
      },
      {
       "output_type": "stream",
       "stream": "stdout",
       "text": [
        "\n",
        "Score: 0.0009 for 21 and 17 (certainty: 0.36)"
       ]
      },
      {
       "output_type": "stream",
       "stream": "stdout",
       "text": [
        "\n",
        "Score: 0.0035 for 21 and 14 (certainty: 0.36)"
       ]
      },
      {
       "output_type": "stream",
       "stream": "stdout",
       "text": [
        "\n",
        "Score: 0.0183 for 21 and 28 (certainty: 0.75)"
       ]
      },
      {
       "output_type": "stream",
       "stream": "stdout",
       "text": [
        "\n",
        "Score: 0.0071 for 21 and 27 (certainty: 0.51)"
       ]
      },
      {
       "output_type": "stream",
       "stream": "stdout",
       "text": [
        "\n",
        "Score: 0.0049 for 21 and 22 (certainty: 0.64)"
       ]
      },
      {
       "output_type": "stream",
       "stream": "stdout",
       "text": [
        "\n",
        "Score: 0.0028 for 21 and 29 (certainty: 0.51)"
       ]
      },
      {
       "output_type": "stream",
       "stream": "stdout",
       "text": [
        "\n",
        "Score: 0.0488 for 21 and 15 (certainty: 0.91)"
       ]
      },
      {
       "output_type": "stream",
       "stream": "stdout",
       "text": [
        "\n",
        "Score: 0.0197 for 21 and 25 (certainty: 0.91)"
       ]
      },
      {
       "output_type": "stream",
       "stream": "stdout",
       "text": [
        "\n",
        "Score: 0.0047 for 21 and 23 (certainty: 0.75)"
       ]
      },
      {
       "output_type": "stream",
       "stream": "stdout",
       "text": [
        "\n",
        "Score: 0.0291 for 21 and 16 (certainty: 0.75)"
       ]
      },
      {
       "output_type": "stream",
       "stream": "stdout",
       "text": [
        "\n",
        "Score: 0.0303 for 21 and 18 (certainty: 0.64)"
       ]
      },
      {
       "output_type": "stream",
       "stream": "stdout",
       "text": [
        "\n",
        "Score: 0.0046 for 21 and 25 (certainty: 0.64)"
       ]
      },
      {
       "output_type": "stream",
       "stream": "stdout",
       "text": [
        "\n",
        "Score: 0.0012 for 21 and 32 (certainty: 0.75)"
       ]
      },
      {
       "output_type": "stream",
       "stream": "stdout",
       "text": [
        "\n",
        "Score: 0.0174 for 21 and 19 (certainty: 0.64)"
       ]
      },
      {
       "output_type": "stream",
       "stream": "stdout",
       "text": [
        "\n",
        "Score: 0.0432 for 21 and 21 (certainty: 1.00)"
       ]
      },
      {
       "output_type": "stream",
       "stream": "stdout",
       "text": [
        "\n",
        "Score: 0.0107 for 21 and 14 (certainty: 0.64)"
       ]
      },
      {
       "output_type": "stream",
       "stream": "stdout",
       "text": [
        "\n",
        "Score: 0.0114 for 21 and 26 (certainty: 0.19)"
       ]
      },
      {
       "output_type": "stream",
       "stream": "stdout",
       "text": [
        "\n",
        "Score: 0.0129 for 21 and 22 (certainty: 0.64)"
       ]
      },
      {
       "output_type": "stream",
       "stream": "stdout",
       "text": [
        "\n",
        "Score: 0.0047 for 21 and 29 (certainty: 0.64)"
       ]
      },
      {
       "output_type": "stream",
       "stream": "stdout",
       "text": [
        "\n",
        "Score: 0.0124 for 21 and 13 (certainty: 0.75)"
       ]
      },
      {
       "output_type": "stream",
       "stream": "stdout",
       "text": [
        "\n",
        "Score: 0.0047 for 21 and 28 (certainty: 0.51)"
       ]
      },
      {
       "output_type": "stream",
       "stream": "stdout",
       "text": [
        "\n",
        "Score: 0.0000 for 21 and 13 (certainty: 0.00)"
       ]
      },
      {
       "output_type": "stream",
       "stream": "stdout",
       "text": [
        "\n",
        "Score: 0.0104 for 21 and 14 (certainty: 0.64)"
       ]
      },
      {
       "output_type": "stream",
       "stream": "stdout",
       "text": [
        "\n",
        "Score: 0.0172 for 21 and 14 (certainty: 0.75)"
       ]
      },
      {
       "output_type": "stream",
       "stream": "stdout",
       "text": [
        "\n",
        "Score: 0.0256 for 21 and 27 (certainty: 0.75)"
       ]
      },
      {
       "output_type": "stream",
       "stream": "stdout",
       "text": [
        "\n",
        "Score: 0.0013 for 21 and 17 (certainty: 0.64)"
       ]
      },
      {
       "output_type": "stream",
       "stream": "stdout",
       "text": [
        "\n",
        "Score: 0.0013 for 21 and 19 (certainty: 0.51)"
       ]
      },
      {
       "output_type": "stream",
       "stream": "stdout",
       "text": [
        "\n",
        "Score: 0.0226 for 21 and 31 (certainty: 0.75)"
       ]
      },
      {
       "output_type": "stream",
       "stream": "stdout",
       "text": [
        "\n",
        "Score: 0.0159 for 21 and 21 (certainty: 0.64)"
       ]
      },
      {
       "output_type": "stream",
       "stream": "stdout",
       "text": [
        "\n",
        "Score: 0.0064 for 21 and 23 (certainty: 0.91)"
       ]
      },
      {
       "output_type": "stream",
       "stream": "stdout",
       "text": [
        "\n",
        "Score: 0.0050 for 21 and 25 (certainty: 0.36)"
       ]
      },
      {
       "output_type": "stream",
       "stream": "stdout",
       "text": [
        "\n",
        "Score: 0.0093 for 21 and 23 (certainty: 0.19)"
       ]
      },
      {
       "output_type": "stream",
       "stream": "stdout",
       "text": [
        "\n",
        "Score: 0.0086 for 21 and 31 (certainty: 0.51)"
       ]
      },
      {
       "output_type": "stream",
       "stream": "stdout",
       "text": [
        "\n",
        "Score: 0.0179 for 21 and 15 (certainty: 0.64)"
       ]
      },
      {
       "output_type": "stream",
       "stream": "stdout",
       "text": [
        "\n",
        "Score: 0.0027 for 21 and 23 (certainty: 0.64)"
       ]
      },
      {
       "output_type": "stream",
       "stream": "stdout",
       "text": [
        "\n",
        "Score: 0.0215 for 21 and 18 (certainty: 0.99)"
       ]
      },
      {
       "output_type": "stream",
       "stream": "stdout",
       "text": [
        "\n",
        "Score: 0.0232 for 21 and 15 (certainty: 0.75)"
       ]
      },
      {
       "output_type": "stream",
       "stream": "stdout",
       "text": [
        "\n",
        "Score: 0.0141 for 21 and 16 (certainty: 0.99)"
       ]
      },
      {
       "output_type": "stream",
       "stream": "stdout",
       "text": [
        "\n",
        "Score: 0.0084 for 21 and 23 (certainty: 0.64)"
       ]
      },
      {
       "output_type": "stream",
       "stream": "stdout",
       "text": [
        "\n",
        "Score: 0.0005 for 21 and 23 (certainty: 0.36)"
       ]
      },
      {
       "output_type": "stream",
       "stream": "stdout",
       "text": [
        "\n",
        "Score: 0.0008 for 21 and 32 (certainty: 0.36)"
       ]
      },
      {
       "output_type": "stream",
       "stream": "stdout",
       "text": [
        "\n",
        "Score: 0.0144 for 21 and 15 (certainty: 0.75)"
       ]
      },
      {
       "output_type": "stream",
       "stream": "stdout",
       "text": [
        "\n",
        "Score: 0.0193 for 21 and 24 (certainty: 0.91)"
       ]
      },
      {
       "output_type": "stream",
       "stream": "stdout",
       "text": [
        "\n",
        "Score: 0.0094 for 21 and 25 (certainty: 0.36)"
       ]
      },
      {
       "output_type": "stream",
       "stream": "stdout",
       "text": [
        "\n",
        "Score: 0.0000 for 21 and 30 (certainty: 0.64)"
       ]
      },
      {
       "output_type": "stream",
       "stream": "stdout",
       "text": [
        "\n",
        "Score: 0.0136 for 21 and 32 (certainty: 0.36)"
       ]
      },
      {
       "output_type": "stream",
       "stream": "stdout",
       "text": [
        "\n",
        "['../../images/testsets/Gallagher_small_unresized/21_293.jpg', '../../images/testsets/Gallagher_small_unresized/29_538.jpg']\n",
        "No descriptors found. Returning score 0\n",
        "Score: 0.0046 for 21 and 21 (certainty: 0.99)"
       ]
      },
      {
       "output_type": "stream",
       "stream": "stdout",
       "text": [
        "\n",
        "Score: 0.0118 for 21 and 20 (certainty: 0.51)"
       ]
      },
      {
       "output_type": "stream",
       "stream": "stdout",
       "text": [
        "\n",
        "Score: 0.0036 for 21 and 15 (certainty: 0.96)"
       ]
      },
      {
       "output_type": "stream",
       "stream": "stdout",
       "text": [
        "\n",
        "Score: 0.0068 for 21 and 15 (certainty: 0.75)"
       ]
      },
      {
       "output_type": "stream",
       "stream": "stdout",
       "text": [
        "\n",
        "Score: 0.0118 for 21 and 19 (certainty: 0.84)"
       ]
      },
      {
       "output_type": "stream",
       "stream": "stdout",
       "text": [
        "\n",
        "Score: 0.0069 for 21 and 19 (certainty: 0.75)"
       ]
      },
      {
       "output_type": "stream",
       "stream": "stdout",
       "text": [
        "\n",
        "Score: 0.0265 for 21 and 21 (certainty: 0.99)"
       ]
      },
      {
       "output_type": "stream",
       "stream": "stdout",
       "text": [
        "\n",
        "Score: 0.0100 for 21 and 26 (certainty: 0.75)"
       ]
      },
      {
       "output_type": "stream",
       "stream": "stdout",
       "text": [
        "\n",
        "Score: 0.0063 for 21 and 27 (certainty: 0.84)"
       ]
      },
      {
       "output_type": "stream",
       "stream": "stdout",
       "text": [
        "\n",
        "Score: 0.0175 for 21 and 15 (certainty: 0.64)"
       ]
      },
      {
       "output_type": "stream",
       "stream": "stdout",
       "text": [
        "\n",
        "Score: 0.0045 for 21 and 15 (certainty: 0.75)"
       ]
      },
      {
       "output_type": "stream",
       "stream": "stdout",
       "text": [
        "\n",
        "Score: 0.0244 for 21 and 21 (certainty: 0.75)"
       ]
      },
      {
       "output_type": "stream",
       "stream": "stdout",
       "text": [
        "\n",
        "Score: 0.0027 for 21 and 15 (certainty: 0.19)"
       ]
      },
      {
       "output_type": "stream",
       "stream": "stdout",
       "text": [
        "\n",
        "Score: 0.0211 for 21 and 16 (certainty: 0.36)"
       ]
      },
      {
       "output_type": "stream",
       "stream": "stdout",
       "text": [
        "\n",
        "Score: 0.0227 for 21 and 17 (certainty: 0.51)"
       ]
      },
      {
       "output_type": "stream",
       "stream": "stdout",
       "text": [
        "\n",
        "Score: 0.0143 for 21 and 28 (certainty: 0.36)"
       ]
      },
      {
       "output_type": "stream",
       "stream": "stdout",
       "text": [
        "\n",
        "Score: 0.0017 for 21 and 27 (certainty: 0.75)"
       ]
      },
      {
       "output_type": "stream",
       "stream": "stdout",
       "text": [
        "\n",
        "Score: 0.0046 for 21 and 13 (certainty: 0.51)"
       ]
      },
      {
       "output_type": "stream",
       "stream": "stdout",
       "text": [
        "\n",
        "Score: 0.0091 for 21 and 23 (certainty: 0.51)"
       ]
      },
      {
       "output_type": "stream",
       "stream": "stdout",
       "text": [
        "\n",
        "Score: 0.0022 for 24 and 17 (certainty: 0.51)"
       ]
      },
      {
       "output_type": "stream",
       "stream": "stdout",
       "text": [
        "\n",
        "Score: 0.0168 for 24 and 14 (certainty: 0.64)"
       ]
      },
      {
       "output_type": "stream",
       "stream": "stdout",
       "text": [
        "\n",
        "Score: 0.0098 for 24 and 28 (certainty: 0.64)"
       ]
      },
      {
       "output_type": "stream",
       "stream": "stdout",
       "text": [
        "\n",
        "Score: 0.0038 for 24 and 27 (certainty: 0.75)"
       ]
      },
      {
       "output_type": "stream",
       "stream": "stdout",
       "text": [
        "\n",
        "Score: 0.0186 for 24 and 22 (certainty: 0.84)"
       ]
      },
      {
       "output_type": "stream",
       "stream": "stdout",
       "text": [
        "\n",
        "Score: 0.0049 for 24 and 29 (certainty: 0.36)"
       ]
      },
      {
       "output_type": "stream",
       "stream": "stdout",
       "text": [
        "\n",
        "Score: 0.0108 for 24 and 15 (certainty: 0.99)"
       ]
      },
      {
       "output_type": "stream",
       "stream": "stdout",
       "text": [
        "\n",
        "Score: 0.0104 for 24 and 25 (certainty: 0.91)"
       ]
      },
      {
       "output_type": "stream",
       "stream": "stdout",
       "text": [
        "\n",
        "Score: 0.0029 for 24 and 23 (certainty: 0.91)"
       ]
      },
      {
       "output_type": "stream",
       "stream": "stdout",
       "text": [
        "\n",
        "Score: 0.0184 for 24 and 16 (certainty: 0.96)"
       ]
      },
      {
       "output_type": "stream",
       "stream": "stdout",
       "text": [
        "\n",
        "Score: 0.0083 for 24 and 18 (certainty: 0.51)"
       ]
      },
      {
       "output_type": "stream",
       "stream": "stdout",
       "text": [
        "\n",
        "Score: 0.0075 for 24 and 25 (certainty: 0.91)"
       ]
      },
      {
       "output_type": "stream",
       "stream": "stdout",
       "text": [
        "\n",
        "Score: 0.0366 for 24 and 32 (certainty: 1.00)"
       ]
      },
      {
       "output_type": "stream",
       "stream": "stdout",
       "text": [
        "\n",
        "Score: 0.0062 for 24 and 19 (certainty: 0.84)"
       ]
      },
      {
       "output_type": "stream",
       "stream": "stdout",
       "text": [
        "\n",
        "Score: 0.0321 for 24 and 21 (certainty: 0.99)"
       ]
      },
      {
       "output_type": "stream",
       "stream": "stdout",
       "text": [
        "\n",
        "Score: 0.0102 for 24 and 14 (certainty: 0.84)"
       ]
      },
      {
       "output_type": "stream",
       "stream": "stdout",
       "text": [
        "\n",
        "Score: 0.0059 for 24 and 26 (certainty: 0.36)"
       ]
      },
      {
       "output_type": "stream",
       "stream": "stdout",
       "text": [
        "\n",
        "Score: 0.0053 for 24 and 22 (certainty: 0.84)"
       ]
      },
      {
       "output_type": "stream",
       "stream": "stdout",
       "text": [
        "\n",
        "Score: 0.0065 for 24 and 29 (certainty: 0.51)"
       ]
      },
      {
       "output_type": "stream",
       "stream": "stdout",
       "text": [
        "\n",
        "Score: 0.0085 for 24 and 13 (certainty: 0.96)"
       ]
      },
      {
       "output_type": "stream",
       "stream": "stdout",
       "text": [
        "\n",
        "Score: 0.0094 for 24 and 28 (certainty: 0.84)"
       ]
      },
      {
       "output_type": "stream",
       "stream": "stdout",
       "text": [
        "\n",
        "Score: 0.0048 for 24 and 13 (certainty: 0.36)"
       ]
      },
      {
       "output_type": "stream",
       "stream": "stdout",
       "text": [
        "\n",
        "Score: 0.0094 for 24 and 14 (certainty: 0.75)"
       ]
      },
      {
       "output_type": "stream",
       "stream": "stdout",
       "text": [
        "\n",
        "Score: 0.0058 for 24 and 14 (certainty: 0.84)"
       ]
      },
      {
       "output_type": "stream",
       "stream": "stdout",
       "text": [
        "\n",
        "Score: 0.0190 for 24 and 27 (certainty: 0.96)"
       ]
      },
      {
       "output_type": "stream",
       "stream": "stdout",
       "text": [
        "\n",
        "Score: 0.0129 for 24 and 17 (certainty: 0.96)"
       ]
      },
      {
       "output_type": "stream",
       "stream": "stdout",
       "text": [
        "\n",
        "Score: 0.0039 for 24 and 19 (certainty: 0.64)"
       ]
      },
      {
       "output_type": "stream",
       "stream": "stdout",
       "text": [
        "\n",
        "Score: 0.0125 for 24 and 31 (certainty: 0.84)"
       ]
      },
      {
       "output_type": "stream",
       "stream": "stdout",
       "text": [
        "\n",
        "Score: 0.0127 for 24 and 21 (certainty: 0.64)"
       ]
      },
      {
       "output_type": "stream",
       "stream": "stdout",
       "text": [
        "\n",
        "Score: 0.0121 for 24 and 23 (certainty: 0.99)"
       ]
      },
      {
       "output_type": "stream",
       "stream": "stdout",
       "text": [
        "\n",
        "Score: 0.0077 for 24 and 25 (certainty: 0.36)"
       ]
      },
      {
       "output_type": "stream",
       "stream": "stdout",
       "text": [
        "\n",
        "Score: 0.0014 for 24 and 23 (certainty: 0.19)"
       ]
      },
      {
       "output_type": "stream",
       "stream": "stdout",
       "text": [
        "\n",
        "Score: 0.0080 for 24 and 31 (certainty: 0.75)"
       ]
      },
      {
       "output_type": "stream",
       "stream": "stdout",
       "text": [
        "\n",
        "Score: 0.0085 for 24 and 15 (certainty: 0.64)"
       ]
      },
      {
       "output_type": "stream",
       "stream": "stdout",
       "text": [
        "\n",
        "Score: 0.0088 for 24 and 23 (certainty: 0.99)"
       ]
      },
      {
       "output_type": "stream",
       "stream": "stdout",
       "text": [
        "\n",
        "Score: 0.0073 for 24 and 18 (certainty: 0.84)"
       ]
      },
      {
       "output_type": "stream",
       "stream": "stdout",
       "text": [
        "\n",
        "Score: 0.0037 for 24 and 15 (certainty: 0.75)"
       ]
      },
      {
       "output_type": "stream",
       "stream": "stdout",
       "text": [
        "\n",
        "Score: 0.0205 for 24 and 16 (certainty: 1.00)"
       ]
      },
      {
       "output_type": "stream",
       "stream": "stdout",
       "text": [
        "\n",
        "Score: 0.0092 for 24 and 23 (certainty: 0.75)"
       ]
      },
      {
       "output_type": "stream",
       "stream": "stdout",
       "text": [
        "\n",
        "Score: 0.0054 for 24 and 23 (certainty: 0.91)"
       ]
      },
      {
       "output_type": "stream",
       "stream": "stdout",
       "text": [
        "\n",
        "Score: 0.0059 for 24 and 32 (certainty: 0.36)"
       ]
      },
      {
       "output_type": "stream",
       "stream": "stdout",
       "text": [
        "\n",
        "Score: 0.0069 for 24 and 15 (certainty: 0.64)"
       ]
      },
      {
       "output_type": "stream",
       "stream": "stdout",
       "text": [
        "\n",
        "Score: 0.0444 for 24 and 24 (certainty: 0.91)"
       ]
      },
      {
       "output_type": "stream",
       "stream": "stdout",
       "text": [
        "\n",
        "Score: 0.0059 for 24 and 25 (certainty: 0.64)"
       ]
      },
      {
       "output_type": "stream",
       "stream": "stdout",
       "text": [
        "\n",
        "Score: 0.0322 for 24 and 30 (certainty: 0.91)"
       ]
      },
      {
       "output_type": "stream",
       "stream": "stdout",
       "text": [
        "\n",
        "Score: 0.0058 for 24 and 32 (certainty: 0.64)"
       ]
      },
      {
       "output_type": "stream",
       "stream": "stdout",
       "text": [
        "\n",
        "['../../images/testsets/Gallagher_small_unresized/24_379.jpg', '../../images/testsets/Gallagher_small_unresized/29_538.jpg']\n",
        "No descriptors found. Returning score 0\n",
        "Score: 0.0156 for 24 and 21 (certainty: 1.00)"
       ]
      },
      {
       "output_type": "stream",
       "stream": "stdout",
       "text": [
        "\n",
        "Score: 0.0142 for 24 and 20 (certainty: 0.84)"
       ]
      },
      {
       "output_type": "stream",
       "stream": "stdout",
       "text": [
        "\n",
        "Score: 0.0289 for 24 and 15 (certainty: 1.00)"
       ]
      },
      {
       "output_type": "stream",
       "stream": "stdout",
       "text": [
        "\n",
        "Score: 0.0155 for 24 and 15 (certainty: 1.00)"
       ]
      },
      {
       "output_type": "stream",
       "stream": "stdout",
       "text": [
        "\n",
        "Score: 0.0091 for 24 and 19 (certainty: 0.84)"
       ]
      },
      {
       "output_type": "stream",
       "stream": "stdout",
       "text": [
        "\n",
        "Score: 0.0061 for 24 and 19 (certainty: 0.51)"
       ]
      },
      {
       "output_type": "stream",
       "stream": "stdout",
       "text": [
        "\n",
        "Score: 0.0397 for 24 and 21 (certainty: 0.91)"
       ]
      },
      {
       "output_type": "stream",
       "stream": "stdout",
       "text": [
        "\n",
        "Score: 0.0061 for 24 and 26 (certainty: 0.75)"
       ]
      },
      {
       "output_type": "stream",
       "stream": "stdout",
       "text": [
        "\n",
        "Score: 0.0119 for 24 and 27 (certainty: 0.84)"
       ]
      },
      {
       "output_type": "stream",
       "stream": "stdout",
       "text": [
        "\n",
        "Score: 0.0230 for 24 and 15 (certainty: 0.91)"
       ]
      },
      {
       "output_type": "stream",
       "stream": "stdout",
       "text": [
        "\n",
        "Score: 0.0181 for 24 and 15 (certainty: 0.84)"
       ]
      },
      {
       "output_type": "stream",
       "stream": "stdout",
       "text": [
        "\n",
        "Score: 0.0055 for 24 and 21 (certainty: 0.51)"
       ]
      },
      {
       "output_type": "stream",
       "stream": "stdout",
       "text": [
        "\n",
        "Score: 0.0951 for 24 and 15 (certainty: 0.19)"
       ]
      },
      {
       "output_type": "stream",
       "stream": "stdout",
       "text": [
        "\n",
        "Score: 0.0096 for 24 and 16 (certainty: 0.75)"
       ]
      },
      {
       "output_type": "stream",
       "stream": "stdout",
       "text": [
        "\n",
        "Score: 0.0070 for 24 and 17 (certainty: 0.36)"
       ]
      },
      {
       "output_type": "stream",
       "stream": "stdout",
       "text": [
        "\n",
        "Score: 0.0065 for 24 and 28 (certainty: 0.51)"
       ]
      },
      {
       "output_type": "stream",
       "stream": "stdout",
       "text": [
        "\n",
        "Score: 0.0165 for 24 and 27 (certainty: 0.51)"
       ]
      },
      {
       "output_type": "stream",
       "stream": "stdout",
       "text": [
        "\n",
        "Score: 0.0038 for 24 and 13 (certainty: 0.75)"
       ]
      },
      {
       "output_type": "stream",
       "stream": "stdout",
       "text": [
        "\n",
        "Score: 0.0132 for 24 and 23 (certainty: 0.99)"
       ]
      },
      {
       "output_type": "stream",
       "stream": "stdout",
       "text": [
        "\n",
        "Score: 0.0044 for 17 and 14 (certainty: 0.64)"
       ]
      },
      {
       "output_type": "stream",
       "stream": "stdout",
       "text": [
        "\n",
        "Score: 0.0037 for 17 and 28 (certainty: 0.75)"
       ]
      },
      {
       "output_type": "stream",
       "stream": "stdout",
       "text": [
        "\n",
        "Score: 0.0078 for 17 and 27 (certainty: 0.51)"
       ]
      },
      {
       "output_type": "stream",
       "stream": "stdout",
       "text": [
        "\n",
        "Score: 0.0000 for 17 and 22 (certainty: 0.19)"
       ]
      },
      {
       "output_type": "stream",
       "stream": "stdout",
       "text": [
        "\n",
        "Score: 0.0039 for 17 and 29 (certainty: 0.75)"
       ]
      },
      {
       "output_type": "stream",
       "stream": "stdout",
       "text": [
        "\n",
        "Score: 0.0000 for 17 and 15 (certainty: 0.51)"
       ]
      },
      {
       "output_type": "stream",
       "stream": "stdout",
       "text": [
        "\n",
        "Score: 0.0040 for 17 and 25 (certainty: 0.36)"
       ]
      },
      {
       "output_type": "stream",
       "stream": "stdout",
       "text": [
        "\n",
        "Score: 0.0007 for 17 and 23 (certainty: 0.51)"
       ]
      },
      {
       "output_type": "stream",
       "stream": "stdout",
       "text": [
        "\n",
        "Score: 0.0137 for 17 and 16 (certainty: 0.64)"
       ]
      },
      {
       "output_type": "stream",
       "stream": "stdout",
       "text": [
        "\n",
        "Score: 0.0075 for 17 and 18 (certainty: 0.51)"
       ]
      },
      {
       "output_type": "stream",
       "stream": "stdout",
       "text": [
        "\n",
        "Score: 0.0067 for 17 and 25 (certainty: 0.91)"
       ]
      },
      {
       "output_type": "stream",
       "stream": "stdout",
       "text": [
        "\n",
        "Score: 0.0083 for 17 and 32 (certainty: 0.51)"
       ]
      },
      {
       "output_type": "stream",
       "stream": "stdout",
       "text": [
        "\n",
        "Score: 0.0029 for 17 and 19 (certainty: 0.51)"
       ]
      },
      {
       "output_type": "stream",
       "stream": "stdout",
       "text": [
        "\n",
        "Score: 0.0052 for 17 and 21 (certainty: 0.64)"
       ]
      },
      {
       "output_type": "stream",
       "stream": "stdout",
       "text": [
        "\n",
        "Score: 0.0000 for 17 and 14 (certainty: 0.36)"
       ]
      },
      {
       "output_type": "stream",
       "stream": "stdout",
       "text": [
        "\n",
        "Score: 0.0000 for 17 and 26 (certainty: 0.00)"
       ]
      },
      {
       "output_type": "stream",
       "stream": "stdout",
       "text": [
        "\n",
        "Score: 0.0050 for 17 and 22 (certainty: 0.19)"
       ]
      },
      {
       "output_type": "stream",
       "stream": "stdout",
       "text": [
        "\n",
        "Score: 0.0094 for 17 and 29 (certainty: 0.36)"
       ]
      },
      {
       "output_type": "stream",
       "stream": "stdout",
       "text": [
        "\n",
        "Score: 0.0070 for 17 and 13 (certainty: 0.36)"
       ]
      },
      {
       "output_type": "stream",
       "stream": "stdout",
       "text": [
        "\n",
        "Score: 0.0003 for 17 and 28 (certainty: 0.75)"
       ]
      },
      {
       "output_type": "stream",
       "stream": "stdout",
       "text": [
        "\n",
        "Score: 0.0005 for 17 and 13 (certainty: 0.36)"
       ]
      },
      {
       "output_type": "stream",
       "stream": "stdout",
       "text": [
        "\n",
        "Score: 0.0068 for 17 and 14 (certainty: 0.75)"
       ]
      },
      {
       "output_type": "stream",
       "stream": "stdout",
       "text": [
        "\n",
        "Score: 0.0024 for 17 and 14 (certainty: 0.64)"
       ]
      },
      {
       "output_type": "stream",
       "stream": "stdout",
       "text": [
        "\n",
        "Score: 0.0028 for 17 and 27 (certainty: 0.64)"
       ]
      },
      {
       "output_type": "stream",
       "stream": "stdout",
       "text": [
        "\n",
        "Score: 0.0102 for 17 and 17 (certainty: 0.75)"
       ]
      },
      {
       "output_type": "stream",
       "stream": "stdout",
       "text": [
        "\n",
        "Score: 0.0098 for 17 and 19 (certainty: 0.36)"
       ]
      },
      {
       "output_type": "stream",
       "stream": "stdout",
       "text": [
        "\n",
        "Score: 0.0029 for 17 and 31 (certainty: 0.51)"
       ]
      },
      {
       "output_type": "stream",
       "stream": "stdout",
       "text": [
        "\n",
        "Score: 0.0054 for 17 and 21 (certainty: 0.51)"
       ]
      },
      {
       "output_type": "stream",
       "stream": "stdout",
       "text": [
        "\n",
        "Score: 0.0090 for 17 and 23 (certainty: 0.64)"
       ]
      },
      {
       "output_type": "stream",
       "stream": "stdout",
       "text": [
        "\n",
        "Score: 0.0036 for 17 and 25 (certainty: 0.64)"
       ]
      },
      {
       "output_type": "stream",
       "stream": "stdout",
       "text": [
        "\n",
        "Score: 0.0022 for 17 and 23 (certainty: 0.19)"
       ]
      },
      {
       "output_type": "stream",
       "stream": "stdout",
       "text": [
        "\n",
        "Score: 0.0151 for 17 and 31 (certainty: 0.75)"
       ]
      },
      {
       "output_type": "stream",
       "stream": "stdout",
       "text": [
        "\n",
        "Score: 0.0100 for 17 and 15 (certainty: 0.64)"
       ]
      },
      {
       "output_type": "stream",
       "stream": "stdout",
       "text": [
        "\n",
        "Score: 0.0000 for 17 and 23 (certainty: 0.00)"
       ]
      },
      {
       "output_type": "stream",
       "stream": "stdout",
       "text": [
        "\n",
        "Score: 0.0044 for 17 and 18 (certainty: 0.64)"
       ]
      },
      {
       "output_type": "stream",
       "stream": "stdout",
       "text": [
        "\n",
        "Score: 0.0046 for 17 and 15 (certainty: 0.64)"
       ]
      },
      {
       "output_type": "stream",
       "stream": "stdout",
       "text": [
        "\n",
        "Score: 0.0014 for 17 and 16 (certainty: 0.51)"
       ]
      },
      {
       "output_type": "stream",
       "stream": "stdout",
       "text": [
        "\n",
        "Score: 0.0012 for 17 and 23 (certainty: 0.36)"
       ]
      },
      {
       "output_type": "stream",
       "stream": "stdout",
       "text": [
        "\n",
        "Score: 0.0000 for 17 and 23 (certainty: 0.51)"
       ]
      },
      {
       "output_type": "stream",
       "stream": "stdout",
       "text": [
        "\n",
        "Score: 0.0000 for 17 and 32 (certainty: 0.19)"
       ]
      },
      {
       "output_type": "stream",
       "stream": "stdout",
       "text": [
        "\n",
        "Score: 0.0062 for 17 and 15 (certainty: 0.51)"
       ]
      },
      {
       "output_type": "stream",
       "stream": "stdout",
       "text": [
        "\n",
        "Score: 0.0017 for 17 and 24 (certainty: 0.51)"
       ]
      },
      {
       "output_type": "stream",
       "stream": "stdout",
       "text": [
        "\n",
        "Score: 0.0064 for 17 and 25 (certainty: 0.84)"
       ]
      },
      {
       "output_type": "stream",
       "stream": "stdout",
       "text": [
        "\n",
        "Score: 0.0012 for 17 and 30 (certainty: 0.36)"
       ]
      },
      {
       "output_type": "stream",
       "stream": "stdout",
       "text": [
        "\n",
        "Score: 0.0015 for 17 and 32 (certainty: 0.51)"
       ]
      },
      {
       "output_type": "stream",
       "stream": "stdout",
       "text": [
        "\n",
        "['../../images/testsets/Gallagher_small_unresized/17_212.jpg', '../../images/testsets/Gallagher_small_unresized/29_538.jpg']\n",
        "No descriptors found. Returning score 0\n",
        "Score: 0.0043 for 17 and 21 (certainty: 0.64)"
       ]
      },
      {
       "output_type": "stream",
       "stream": "stdout",
       "text": [
        "\n",
        "Score: 0.0118 for 17 and 20 (certainty: 0.64)"
       ]
      },
      {
       "output_type": "stream",
       "stream": "stdout",
       "text": [
        "\n",
        "Score: 0.0037 for 17 and 15 (certainty: 0.51)"
       ]
      },
      {
       "output_type": "stream",
       "stream": "stdout",
       "text": [
        "\n",
        "Score: 0.0179 for 17 and 15 (certainty: 0.84)"
       ]
      },
      {
       "output_type": "stream",
       "stream": "stdout",
       "text": [
        "\n",
        "Score: 0.0106 for 17 and 19 (certainty: 0.51)"
       ]
      },
      {
       "output_type": "stream",
       "stream": "stdout",
       "text": [
        "\n",
        "Score: 0.0026 for 17 and 19 (certainty: 0.51)"
       ]
      },
      {
       "output_type": "stream",
       "stream": "stdout",
       "text": [
        "\n",
        "Score: 0.0038 for 17 and 21 (certainty: 0.64)"
       ]
      },
      {
       "output_type": "stream",
       "stream": "stdout",
       "text": [
        "\n",
        "Score: 0.0060 for 17 and 26 (certainty: 0.51)"
       ]
      },
      {
       "output_type": "stream",
       "stream": "stdout",
       "text": [
        "\n",
        "Score: 0.0000 for 17 and 27 (certainty: 0.19)"
       ]
      },
      {
       "output_type": "stream",
       "stream": "stdout",
       "text": [
        "\n",
        "Score: 0.0046 for 17 and 15 (certainty: 0.36)"
       ]
      },
      {
       "output_type": "stream",
       "stream": "stdout",
       "text": [
        "\n",
        "Score: 0.0044 for 17 and 15 (certainty: 0.51)"
       ]
      },
      {
       "output_type": "stream",
       "stream": "stdout",
       "text": [
        "\n",
        "Score: 0.0106 for 17 and 21 (certainty: 0.75)"
       ]
      },
      {
       "output_type": "stream",
       "stream": "stdout",
       "text": [
        "\n",
        "Score: 0.0018 for 17 and 15 (certainty: 0.19)"
       ]
      },
      {
       "output_type": "stream",
       "stream": "stdout",
       "text": [
        "\n",
        "Score: 0.0081 for 17 and 16 (certainty: 0.36)"
       ]
      },
      {
       "output_type": "stream",
       "stream": "stdout",
       "text": [
        "\n",
        "Score: 0.0117 for 17 and 17 (certainty: 0.36)"
       ]
      },
      {
       "output_type": "stream",
       "stream": "stdout",
       "text": [
        "\n",
        "Score: 0.0073 for 17 and 28 (certainty: 0.51)"
       ]
      },
      {
       "output_type": "stream",
       "stream": "stdout",
       "text": [
        "\n",
        "Score: 0.0047 for 17 and 27 (certainty: 0.64)"
       ]
      },
      {
       "output_type": "stream",
       "stream": "stdout",
       "text": [
        "\n",
        "Score: 0.0031 for 17 and 13 (certainty: 0.51)"
       ]
      },
      {
       "output_type": "stream",
       "stream": "stdout",
       "text": [
        "\n",
        "Score: 0.0057 for 17 and 23 (certainty: 0.51)"
       ]
      },
      {
       "output_type": "stream",
       "stream": "stdout",
       "text": [
        "\n",
        "Score: 0.0071 for 14 and 28 (certainty: 0.51)"
       ]
      },
      {
       "output_type": "stream",
       "stream": "stdout",
       "text": [
        "\n",
        "Score: 0.0108 for 14 and 27 (certainty: 0.64)"
       ]
      },
      {
       "output_type": "stream",
       "stream": "stdout",
       "text": [
        "\n",
        "Score: 0.0094 for 14 and 22 (certainty: 0.51)\n",
        "Score: 0.0034 for 14 and 29 (certainty: 0.51)"
       ]
      },
      {
       "output_type": "stream",
       "stream": "stdout",
       "text": [
        "\n",
        "Score: 0.0359 for 14 and 15 (certainty: 0.51)"
       ]
      },
      {
       "output_type": "stream",
       "stream": "stdout",
       "text": [
        "\n",
        "Score: 0.0024 for 14 and 25 (certainty: 0.51)"
       ]
      },
      {
       "output_type": "stream",
       "stream": "stdout",
       "text": [
        "\n",
        "Score: 0.0067 for 14 and 23 (certainty: 0.64)"
       ]
      },
      {
       "output_type": "stream",
       "stream": "stdout",
       "text": [
        "\n",
        "Score: 0.0129 for 14 and 16 (certainty: 0.51)\n",
        "Score: 0.0100 for 14 and 18 (certainty: 0.36)"
       ]
      },
      {
       "output_type": "stream",
       "stream": "stdout",
       "text": [
        "\n",
        "Score: 0.0092 for 14 and 25 (certainty: 0.64)"
       ]
      },
      {
       "output_type": "stream",
       "stream": "stdout",
       "text": [
        "\n",
        "Score: 0.0248 for 14 and 32 (certainty: 0.84)"
       ]
      },
      {
       "output_type": "stream",
       "stream": "stdout",
       "text": [
        "\n",
        "Score: 0.0609 for 14 and 19 (certainty: 0.64)"
       ]
      },
      {
       "output_type": "stream",
       "stream": "stdout",
       "text": [
        "\n",
        "Score: 0.0197 for 14 and 21 (certainty: 0.64)"
       ]
      },
      {
       "output_type": "stream",
       "stream": "stdout",
       "text": [
        "\n",
        "Score: 0.0128 for 14 and 14 (certainty: 0.64)"
       ]
      },
      {
       "output_type": "stream",
       "stream": "stdout",
       "text": [
        "\n",
        "Score: 0.0000 for 14 and 26 (certainty: 0.00)\n",
        "Score: 0.0071 for 14 and 22 (certainty: 0.36)"
       ]
      },
      {
       "output_type": "stream",
       "stream": "stdout",
       "text": [
        "\n",
        "Score: 0.0156 for 14 and 29 (certainty: 0.51)"
       ]
      },
      {
       "output_type": "stream",
       "stream": "stdout",
       "text": [
        "\n",
        "Score: 0.0138 for 14 and 13 (certainty: 0.51)"
       ]
      },
      {
       "output_type": "stream",
       "stream": "stdout",
       "text": [
        "\n",
        "Score: 0.0159 for 14 and 28 (certainty: 0.51)"
       ]
      },
      {
       "output_type": "stream",
       "stream": "stdout",
       "text": [
        "\n",
        "Score: 0.0000 for 14 and 13 (certainty: 0.19)\n",
        "Score: 0.0022 for 14 and 14 (certainty: 0.51)"
       ]
      },
      {
       "output_type": "stream",
       "stream": "stdout",
       "text": [
        "\n",
        "Score: 0.0341 for 14 and 14 (certainty: 0.96)"
       ]
      },
      {
       "output_type": "stream",
       "stream": "stdout",
       "text": [
        "\n",
        "Score: 0.0223 for 14 and 27 (certainty: 0.75)"
       ]
      },
      {
       "output_type": "stream",
       "stream": "stdout",
       "text": [
        "\n",
        "Score: 0.0088 for 14 and 17 (certainty: 0.64)"
       ]
      },
      {
       "output_type": "stream",
       "stream": "stdout",
       "text": [
        "\n",
        "Score: 0.0107 for 14 and 19 (certainty: 0.51)\n",
        "Score: 0.0037 for 14 and 31 (certainty: 0.51)"
       ]
      },
      {
       "output_type": "stream",
       "stream": "stdout",
       "text": [
        "\n",
        "Score: 0.0027 for 14 and 21 (certainty: 0.36)"
       ]
      },
      {
       "output_type": "stream",
       "stream": "stdout",
       "text": [
        "\n",
        "Score: 0.0132 for 14 and 23 (certainty: 0.75)"
       ]
      },
      {
       "output_type": "stream",
       "stream": "stdout",
       "text": [
        "\n",
        "Score: 0.0104 for 14 and 25 (certainty: 0.64)"
       ]
      },
      {
       "output_type": "stream",
       "stream": "stdout",
       "text": [
        "\n",
        "Score: 0.0012 for 14 and 23 (certainty: 0.19)\n",
        "Score: 0.0404 for 14 and 31 (certainty: 0.64)"
       ]
      },
      {
       "output_type": "stream",
       "stream": "stdout",
       "text": [
        "\n",
        "Score: 0.0180 for 14 and 15 (certainty: 0.51)\n",
        "Score: 0.0107 for 14 and 23 (certainty: 0.64)"
       ]
      },
      {
       "output_type": "stream",
       "stream": "stdout",
       "text": [
        "\n",
        "Score: 0.0039 for 14 and 18 (certainty: 0.36)"
       ]
      },
      {
       "output_type": "stream",
       "stream": "stdout",
       "text": [
        "\n",
        "Score: 0.0148 for 14 and 15 (certainty: 0.75)"
       ]
      },
      {
       "output_type": "stream",
       "stream": "stdout",
       "text": [
        "\n",
        "Score: 0.0198 for 14 and 16 (certainty: 0.64)"
       ]
      },
      {
       "output_type": "stream",
       "stream": "stdout",
       "text": [
        "\n",
        "Score: 0.0282 for 14 and 23 (certainty: 0.64)\n",
        "Score: 0.0055 for 14 and 23 (certainty: 0.51)"
       ]
      },
      {
       "output_type": "stream",
       "stream": "stdout",
       "text": [
        "\n",
        "Score: 0.0037 for 14 and 32 (certainty: 0.36)\n",
        "Score: 0.0176 for 14 and 15 (certainty: 0.64)"
       ]
      },
      {
       "output_type": "stream",
       "stream": "stdout",
       "text": [
        "\n",
        "Score: 0.0193 for 14 and 24 (certainty: 0.64)"
       ]
      },
      {
       "output_type": "stream",
       "stream": "stdout",
       "text": [
        "\n",
        "Score: 0.0103 for 14 and 25 (certainty: 0.64)"
       ]
      },
      {
       "output_type": "stream",
       "stream": "stdout",
       "text": [
        "\n",
        "Score: 0.0285 for 14 and 30 (certainty: 0.51)"
       ]
      },
      {
       "output_type": "stream",
       "stream": "stdout",
       "text": [
        "\n",
        "Score: 0.0065 for 14 and 32 (certainty: 0.36)"
       ]
      },
      {
       "output_type": "stream",
       "stream": "stdout",
       "text": [
        "\n",
        "['../../images/testsets/Gallagher_small_unresized/14_699.jpg', '../../images/testsets/Gallagher_small_unresized/29_538.jpg']\n",
        "No descriptors found. Returning score 0\n",
        "Score: 0.0140 for 14 and 21 (certainty: 0.64)"
       ]
      },
      {
       "output_type": "stream",
       "stream": "stdout",
       "text": [
        "\n",
        "Score: 0.0081 for 14 and 20 (certainty: 0.51)"
       ]
      },
      {
       "output_type": "stream",
       "stream": "stdout",
       "text": [
        "\n",
        "Score: 0.0445 for 14 and 15 (certainty: 0.91)"
       ]
      },
      {
       "output_type": "stream",
       "stream": "stdout",
       "text": [
        "\n",
        "Score: 0.0357 for 14 and 15 (certainty: 0.75)"
       ]
      },
      {
       "output_type": "stream",
       "stream": "stdout",
       "text": [
        "\n",
        "Score: 0.0151 for 14 and 19 (certainty: 0.75)"
       ]
      },
      {
       "output_type": "stream",
       "stream": "stdout",
       "text": [
        "\n",
        "Score: 0.0132 for 14 and 19 (certainty: 0.51)"
       ]
      },
      {
       "output_type": "stream",
       "stream": "stdout",
       "text": [
        "\n",
        "Score: 0.0184 for 14 and 21 (certainty: 0.75)"
       ]
      },
      {
       "output_type": "stream",
       "stream": "stdout",
       "text": [
        "\n",
        "Score: 0.0077 for 14 and 26 (certainty: 0.64)"
       ]
      },
      {
       "output_type": "stream",
       "stream": "stdout",
       "text": [
        "\n",
        "Score: 0.0312 for 14 and 27 (certainty: 0.84)"
       ]
      },
      {
       "output_type": "stream",
       "stream": "stdout",
       "text": [
        "\n",
        "Score: 0.0522 for 14 and 15 (certainty: 0.96)"
       ]
      },
      {
       "output_type": "stream",
       "stream": "stdout",
       "text": [
        "\n",
        "Score: 0.0130 for 14 and 15 (certainty: 0.51)"
       ]
      },
      {
       "output_type": "stream",
       "stream": "stdout",
       "text": [
        "\n",
        "Score: 0.0081 for 14 and 21 (certainty: 0.19)"
       ]
      },
      {
       "output_type": "stream",
       "stream": "stdout",
       "text": [
        "\n",
        "Score: -0.0002 for 14 and 15 (certainty: 0.19)\n",
        "Score: 0.0157 for 14 and 16 (certainty: 0.36)"
       ]
      },
      {
       "output_type": "stream",
       "stream": "stdout",
       "text": [
        "\n",
        "Score: 0.0270 for 14 and 17 (certainty: 0.19)\n",
        "Score: 0.0010 for 14 and 28 (certainty: 0.19)\n",
        "Score: 0.0077 for 14 and 27 (certainty: 0.64)"
       ]
      },
      {
       "output_type": "stream",
       "stream": "stdout",
       "text": [
        "\n",
        "Score: 0.0123 for 14 and 13 (certainty: 0.51)\n",
        "Score: 0.0397 for 14 and 23 (certainty: 0.51)"
       ]
      },
      {
       "output_type": "stream",
       "stream": "stdout",
       "text": [
        "\n",
        "Score: 0.0080 for 28 and 27 (certainty: 0.19)"
       ]
      },
      {
       "output_type": "stream",
       "stream": "stdout",
       "text": [
        "\n",
        "Score: 0.0063 for 28 and 22 (certainty: 0.64)"
       ]
      },
      {
       "output_type": "stream",
       "stream": "stdout",
       "text": [
        "\n",
        "Score: 0.0089 for 28 and 29 (certainty: 0.91)"
       ]
      },
      {
       "output_type": "stream",
       "stream": "stdout",
       "text": [
        "\n",
        "Score: 0.0066 for 28 and 15 (certainty: 0.51)"
       ]
      },
      {
       "output_type": "stream",
       "stream": "stdout",
       "text": [
        "\n",
        "Score: 0.0041 for 28 and 25 (certainty: 0.64)"
       ]
      },
      {
       "output_type": "stream",
       "stream": "stdout",
       "text": [
        "\n",
        "Score: 0.0014 for 28 and 23 (certainty: 0.75)"
       ]
      },
      {
       "output_type": "stream",
       "stream": "stdout",
       "text": [
        "\n",
        "Score: 0.0021 for 28 and 16 (certainty: 0.51)"
       ]
      },
      {
       "output_type": "stream",
       "stream": "stdout",
       "text": [
        "\n",
        "Score: 0.0149 for 28 and 18 (certainty: 0.64)"
       ]
      },
      {
       "output_type": "stream",
       "stream": "stdout",
       "text": [
        "\n",
        "Score: 0.0099 for 28 and 25 (certainty: 0.91)"
       ]
      },
      {
       "output_type": "stream",
       "stream": "stdout",
       "text": [
        "\n",
        "Score: 0.0057 for 28 and 32 (certainty: 0.84)"
       ]
      },
      {
       "output_type": "stream",
       "stream": "stdout",
       "text": [
        "\n",
        "Score: 0.0015 for 28 and 19 (certainty: 0.84)"
       ]
      },
      {
       "output_type": "stream",
       "stream": "stdout",
       "text": [
        "\n",
        "Score: 0.0148 for 28 and 21 (certainty: 0.91)"
       ]
      },
      {
       "output_type": "stream",
       "stream": "stdout",
       "text": [
        "\n",
        "Score: 0.0026 for 28 and 14 (certainty: 0.51)"
       ]
      },
      {
       "output_type": "stream",
       "stream": "stdout",
       "text": [
        "\n",
        "Score: 0.0000 for 28 and 26 (certainty: 0.19)"
       ]
      },
      {
       "output_type": "stream",
       "stream": "stdout",
       "text": [
        "\n",
        "Score: 0.0106 for 28 and 22 (certainty: 0.64)"
       ]
      },
      {
       "output_type": "stream",
       "stream": "stdout",
       "text": [
        "\n",
        "Score: 0.0193 for 28 and 29 (certainty: 0.96)"
       ]
      },
      {
       "output_type": "stream",
       "stream": "stdout",
       "text": [
        "\n",
        "Score: 0.0000 for 28 and 13 (certainty: 0.51)"
       ]
      },
      {
       "output_type": "stream",
       "stream": "stdout",
       "text": [
        "\n",
        "Score: 0.0710 for 28 and 28 (certainty: 1.00)"
       ]
      },
      {
       "output_type": "stream",
       "stream": "stdout",
       "text": [
        "\n",
        "Score: 0.0000 for 28 and 13 (certainty: 0.19)"
       ]
      },
      {
       "output_type": "stream",
       "stream": "stdout",
       "text": [
        "\n",
        "Score: 0.0033 for 28 and 14 (certainty: 0.51)"
       ]
      },
      {
       "output_type": "stream",
       "stream": "stdout",
       "text": [
        "\n",
        "Score: 0.0139 for 28 and 14 (certainty: 0.75)"
       ]
      },
      {
       "output_type": "stream",
       "stream": "stdout",
       "text": [
        "\n",
        "Score: 0.0090 for 28 and 27 (certainty: 0.91)"
       ]
      },
      {
       "output_type": "stream",
       "stream": "stdout",
       "text": [
        "\n",
        "Score: 0.0037 for 28 and 17 (certainty: 0.99)"
       ]
      },
      {
       "output_type": "stream",
       "stream": "stdout",
       "text": [
        "\n",
        "Score: 0.0031 for 28 and 19 (certainty: 0.36)"
       ]
      },
      {
       "output_type": "stream",
       "stream": "stdout",
       "text": [
        "\n",
        "Score: 0.0066 for 28 and 31 (certainty: 0.75)"
       ]
      },
      {
       "output_type": "stream",
       "stream": "stdout",
       "text": [
        "\n",
        "Score: 0.0024 for 28 and 21 (certainty: 0.51)"
       ]
      },
      {
       "output_type": "stream",
       "stream": "stdout",
       "text": [
        "\n",
        "Score: 0.0026 for 28 and 23 (certainty: 0.91)"
       ]
      },
      {
       "output_type": "stream",
       "stream": "stdout",
       "text": [
        "\n",
        "Score: 0.0286 for 28 and 25 (certainty: 0.99)"
       ]
      },
      {
       "output_type": "stream",
       "stream": "stdout",
       "text": [
        "\n",
        "Score: 0.0051 for 28 and 23 (certainty: 0.19)"
       ]
      },
      {
       "output_type": "stream",
       "stream": "stdout",
       "text": [
        "\n",
        "Score: 0.0072 for 28 and 31 (certainty: 0.91)"
       ]
      },
      {
       "output_type": "stream",
       "stream": "stdout",
       "text": [
        "\n",
        "Score: 0.0083 for 28 and 15 (certainty: 0.64)"
       ]
      },
      {
       "output_type": "stream",
       "stream": "stdout",
       "text": [
        "\n",
        "Score: 0.0226 for 28 and 23 (certainty: 1.00)"
       ]
      },
      {
       "output_type": "stream",
       "stream": "stdout",
       "text": [
        "\n",
        "Score: 0.0195 for 28 and 18 (certainty: 0.91)"
       ]
      },
      {
       "output_type": "stream",
       "stream": "stdout",
       "text": [
        "\n",
        "Score: 0.0020 for 28 and 15 (certainty: 0.51)"
       ]
      },
      {
       "output_type": "stream",
       "stream": "stdout",
       "text": [
        "\n",
        "Score: 0.0109 for 28 and 16 (certainty: 0.96)"
       ]
      },
      {
       "output_type": "stream",
       "stream": "stdout",
       "text": [
        "\n",
        "Score: 0.0285 for 28 and 23 (certainty: 1.00)"
       ]
      },
      {
       "output_type": "stream",
       "stream": "stdout",
       "text": [
        "\n",
        "Score: 0.0082 for 28 and 23 (certainty: 0.75)"
       ]
      },
      {
       "output_type": "stream",
       "stream": "stdout",
       "text": [
        "\n",
        "Score: 0.0000 for 28 and 32 (certainty: 0.51)"
       ]
      },
      {
       "output_type": "stream",
       "stream": "stdout",
       "text": [
        "\n",
        "Score: 0.0000 for 28 and 15 (certainty: 0.19)"
       ]
      },
      {
       "output_type": "stream",
       "stream": "stdout",
       "text": [
        "\n",
        "Score: 0.0020 for 28 and 24 (certainty: 0.51)"
       ]
      },
      {
       "output_type": "stream",
       "stream": "stdout",
       "text": [
        "\n",
        "Score: 0.0292 for 28 and 25 (certainty: 1.00)"
       ]
      },
      {
       "output_type": "stream",
       "stream": "stdout",
       "text": [
        "\n",
        "Score: 0.0136 for 28 and 30 (certainty: 0.96)"
       ]
      },
      {
       "output_type": "stream",
       "stream": "stdout",
       "text": [
        "\n",
        "Score: 0.0008 for 28 and 32 (certainty: 0.36)"
       ]
      },
      {
       "output_type": "stream",
       "stream": "stdout",
       "text": [
        "\n",
        "['../../images/testsets/Gallagher_small_unresized/28_567.jpg', '../../images/testsets/Gallagher_small_unresized/29_538.jpg']\n",
        "No descriptors found. Returning score 0\n",
        "Score: 0.0103 for 28 and 21 (certainty: 1.00)"
       ]
      },
      {
       "output_type": "stream",
       "stream": "stdout",
       "text": [
        "\n",
        "Score: 0.0153 for 28 and 20 (certainty: 1.00)"
       ]
      },
      {
       "output_type": "stream",
       "stream": "stdout",
       "text": [
        "\n",
        "Score: 0.0111 for 28 and 15 (certainty: 0.75)"
       ]
      },
      {
       "output_type": "stream",
       "stream": "stdout",
       "text": [
        "\n",
        "Score: 0.0006 for 28 and 15 (certainty: 0.64)"
       ]
      },
      {
       "output_type": "stream",
       "stream": "stdout",
       "text": [
        "\n",
        "Score: 0.0091 for 28 and 19 (certainty: 0.51)"
       ]
      },
      {
       "output_type": "stream",
       "stream": "stdout",
       "text": [
        "\n",
        "Score: 0.0063 for 28 and 19 (certainty: 0.91)"
       ]
      },
      {
       "output_type": "stream",
       "stream": "stdout",
       "text": [
        "\n",
        "Score: 0.0113 for 28 and 21 (certainty: 0.91)"
       ]
      },
      {
       "output_type": "stream",
       "stream": "stdout",
       "text": [
        "\n",
        "Score: 0.0115 for 28 and 26 (certainty: 0.84)"
       ]
      },
      {
       "output_type": "stream",
       "stream": "stdout",
       "text": [
        "\n",
        "Score: 0.0085 for 28 and 27 (certainty: 0.96)"
       ]
      },
      {
       "output_type": "stream",
       "stream": "stdout",
       "text": [
        "\n",
        "Score: 0.0097 for 28 and 15 (certainty: 1.00)"
       ]
      },
      {
       "output_type": "stream",
       "stream": "stdout",
       "text": [
        "\n",
        "Score: 0.0009 for 28 and 15 (certainty: 0.75)"
       ]
      },
      {
       "output_type": "stream",
       "stream": "stdout",
       "text": [
        "\n",
        "Score: 0.0340 for 28 and 21 (certainty: 0.84)"
       ]
      },
      {
       "output_type": "stream",
       "stream": "stdout",
       "text": [
        "\n",
        "Score: 0.0053 for 28 and 15 (certainty: 0.19)"
       ]
      },
      {
       "output_type": "stream",
       "stream": "stdout",
       "text": [
        "\n",
        "Score: 0.0025 for 28 and 16 (certainty: 0.51)"
       ]
      },
      {
       "output_type": "stream",
       "stream": "stdout",
       "text": [
        "\n",
        "Score: 0.0070 for 28 and 17 (certainty: 0.51)"
       ]
      },
      {
       "output_type": "stream",
       "stream": "stdout",
       "text": [
        "\n",
        "Score: 0.0157 for 28 and 28 (certainty: 0.51)"
       ]
      },
      {
       "output_type": "stream",
       "stream": "stdout",
       "text": [
        "\n",
        "Score: 0.0190 for 28 and 27 (certainty: 0.96)"
       ]
      },
      {
       "output_type": "stream",
       "stream": "stdout",
       "text": [
        "\n",
        "Score: 0.0038 for 28 and 13 (certainty: 0.84)"
       ]
      },
      {
       "output_type": "stream",
       "stream": "stdout",
       "text": [
        "\n",
        "Score: 0.0078 for 28 and 23 (certainty: 0.84)"
       ]
      },
      {
       "output_type": "stream",
       "stream": "stdout",
       "text": [
        "\n",
        "Score: 0.0104 for 27 and 22 (certainty: 0.51)"
       ]
      },
      {
       "output_type": "stream",
       "stream": "stdout",
       "text": [
        "\n",
        "Score: 0.0034 for 27 and 29 (certainty: 0.51)"
       ]
      },
      {
       "output_type": "stream",
       "stream": "stdout",
       "text": [
        "\n",
        "Score: 0.0021 for 27 and 15 (certainty: 0.51)"
       ]
      },
      {
       "output_type": "stream",
       "stream": "stdout",
       "text": [
        "\n",
        "Score: 0.0142 for 27 and 25 (certainty: 0.51)"
       ]
      },
      {
       "output_type": "stream",
       "stream": "stdout",
       "text": [
        "\n",
        "Score: 0.0051 for 27 and 23 (certainty: 0.84)"
       ]
      },
      {
       "output_type": "stream",
       "stream": "stdout",
       "text": [
        "\n",
        "Score: 0.0049 for 27 and 16 (certainty: 0.51)"
       ]
      },
      {
       "output_type": "stream",
       "stream": "stdout",
       "text": [
        "\n",
        "Score: 0.0130 for 27 and 18 (certainty: 0.36)"
       ]
      },
      {
       "output_type": "stream",
       "stream": "stdout",
       "text": [
        "\n",
        "Score: 0.0246 for 27 and 25 (certainty: 0.91)"
       ]
      },
      {
       "output_type": "stream",
       "stream": "stdout",
       "text": [
        "\n",
        "Score: 0.0054 for 27 and 32 (certainty: 0.84)"
       ]
      },
      {
       "output_type": "stream",
       "stream": "stdout",
       "text": [
        "\n",
        "Score: 0.0109 for 27 and 19 (certainty: 0.75)"
       ]
      },
      {
       "output_type": "stream",
       "stream": "stdout",
       "text": [
        "\n",
        "Score: 0.0136 for 27 and 21 (certainty: 0.64)"
       ]
      },
      {
       "output_type": "stream",
       "stream": "stdout",
       "text": [
        "\n",
        "Score: 0.0181 for 27 and 14 (certainty: 0.84)"
       ]
      },
      {
       "output_type": "stream",
       "stream": "stdout",
       "text": [
        "\n",
        "Score: 0.0000 for 27 and 26 (certainty: 0.19)"
       ]
      },
      {
       "output_type": "stream",
       "stream": "stdout",
       "text": [
        "\n",
        "Score: 0.0063 for 27 and 22 (certainty: 0.36)"
       ]
      },
      {
       "output_type": "stream",
       "stream": "stdout",
       "text": [
        "\n",
        "Score: 0.0011 for 27 and 29 (certainty: 0.36)"
       ]
      },
      {
       "output_type": "stream",
       "stream": "stdout",
       "text": [
        "\n",
        "Score: 0.0107 for 27 and 13 (certainty: 0.91)"
       ]
      },
      {
       "output_type": "stream",
       "stream": "stdout",
       "text": [
        "\n",
        "Score: 0.0118 for 27 and 28 (certainty: 0.51)"
       ]
      },
      {
       "output_type": "stream",
       "stream": "stdout",
       "text": [
        "\n",
        "Score: 0.0092 for 27 and 13 (certainty: 0.36)"
       ]
      },
      {
       "output_type": "stream",
       "stream": "stdout",
       "text": [
        "\n",
        "Score: 0.0084 for 27 and 14 (certainty: 0.75)"
       ]
      },
      {
       "output_type": "stream",
       "stream": "stdout",
       "text": [
        "\n",
        "Score: 0.0065 for 27 and 14 (certainty: 0.75)"
       ]
      },
      {
       "output_type": "stream",
       "stream": "stdout",
       "text": [
        "\n",
        "Score: 0.0579 for 27 and 27 (certainty: 1.00)"
       ]
      },
      {
       "output_type": "stream",
       "stream": "stdout",
       "text": [
        "\n",
        "Score: 0.0076 for 27 and 17 (certainty: 0.91)"
       ]
      },
      {
       "output_type": "stream",
       "stream": "stdout",
       "text": [
        "\n",
        "Score: 0.0190 for 27 and 19 (certainty: 0.51)"
       ]
      },
      {
       "output_type": "stream",
       "stream": "stdout",
       "text": [
        "\n",
        "Score: 0.0180 for 27 and 31 (certainty: 0.51)"
       ]
      },
      {
       "output_type": "stream",
       "stream": "stdout",
       "text": [
        "\n",
        "Score: 0.0113 for 27 and 21 (certainty: 0.75)"
       ]
      },
      {
       "output_type": "stream",
       "stream": "stdout",
       "text": [
        "\n",
        "Score: 0.0073 for 27 and 23 (certainty: 0.91)"
       ]
      },
      {
       "output_type": "stream",
       "stream": "stdout",
       "text": [
        "\n",
        "Score: 0.0208 for 27 and 25 (certainty: 0.51)"
       ]
      },
      {
       "output_type": "stream",
       "stream": "stdout",
       "text": [
        "\n",
        "Score: 0.0008 for 27 and 23 (certainty: 0.19)\n",
        "Score: 0.0059 for 27 and 31 (certainty: 0.64)"
       ]
      },
      {
       "output_type": "stream",
       "stream": "stdout",
       "text": [
        "\n",
        "Score: 0.0031 for 27 and 15 (certainty: 0.51)"
       ]
      },
      {
       "output_type": "stream",
       "stream": "stdout",
       "text": [
        "\n",
        "Score: 0.0097 for 27 and 23 (certainty: 0.64)"
       ]
      },
      {
       "output_type": "stream",
       "stream": "stdout",
       "text": [
        "\n",
        "Score: 0.0001 for 27 and 18 (certainty: 0.36)"
       ]
      },
      {
       "output_type": "stream",
       "stream": "stdout",
       "text": [
        "\n",
        "Score: 0.0230 for 27 and 15 (certainty: 0.51)"
       ]
      },
      {
       "output_type": "stream",
       "stream": "stdout",
       "text": [
        "\n",
        "Score: 0.0131 for 27 and 16 (certainty: 0.91)"
       ]
      },
      {
       "output_type": "stream",
       "stream": "stdout",
       "text": [
        "\n",
        "Score: 0.0050 for 27 and 23 (certainty: 0.51)"
       ]
      },
      {
       "output_type": "stream",
       "stream": "stdout",
       "text": [
        "\n",
        "Score: 0.0020 for 27 and 23 (certainty: 0.36)"
       ]
      },
      {
       "output_type": "stream",
       "stream": "stdout",
       "text": [
        "\n",
        "Score: 0.0070 for 27 and 32 (certainty: 0.64)"
       ]
      },
      {
       "output_type": "stream",
       "stream": "stdout",
       "text": [
        "\n",
        "Score: 0.0157 for 27 and 15 (certainty: 0.64)"
       ]
      },
      {
       "output_type": "stream",
       "stream": "stdout",
       "text": [
        "\n",
        "Score: 0.0062 for 27 and 24 (certainty: 0.64)"
       ]
      },
      {
       "output_type": "stream",
       "stream": "stdout",
       "text": [
        "\n",
        "Score: 0.0174 for 27 and 25 (certainty: 0.36)"
       ]
      },
      {
       "output_type": "stream",
       "stream": "stdout",
       "text": [
        "\n",
        "Score: 0.0023 for 27 and 30 (certainty: 0.36)"
       ]
      },
      {
       "output_type": "stream",
       "stream": "stdout",
       "text": [
        "\n",
        "Score: 0.0334 for 27 and 32 (certainty: 0.51)"
       ]
      },
      {
       "output_type": "stream",
       "stream": "stdout",
       "text": [
        "\n",
        "['../../images/testsets/Gallagher_small_unresized/27_551.jpg', '../../images/testsets/Gallagher_small_unresized/29_538.jpg']\n",
        "No descriptors found. Returning score 0\n",
        "Score: 0.0071 for 27 and 21 (certainty: 0.75)"
       ]
      },
      {
       "output_type": "stream",
       "stream": "stdout",
       "text": [
        "\n",
        "Score: 0.0134 for 27 and 20 (certainty: 0.64)"
       ]
      },
      {
       "output_type": "stream",
       "stream": "stdout",
       "text": [
        "\n",
        "Score: 0.0071 for 27 and 15 (certainty: 0.75)"
       ]
      },
      {
       "output_type": "stream",
       "stream": "stdout",
       "text": [
        "\n",
        "Score: 0.0186 for 27 and 15 (certainty: 0.84)"
       ]
      },
      {
       "output_type": "stream",
       "stream": "stdout",
       "text": [
        "\n",
        "Score: 0.0101 for 27 and 19 (certainty: 0.75)"
       ]
      },
      {
       "output_type": "stream",
       "stream": "stdout",
       "text": [
        "\n",
        "Score: 0.0192 for 27 and 19 (certainty: 0.64)"
       ]
      },
      {
       "output_type": "stream",
       "stream": "stdout",
       "text": [
        "\n",
        "Score: 0.0029 for 27 and 21 (certainty: 0.36)"
       ]
      },
      {
       "output_type": "stream",
       "stream": "stdout",
       "text": [
        "\n",
        "Score: 0.0071 for 27 and 26 (certainty: 0.64)"
       ]
      },
      {
       "output_type": "stream",
       "stream": "stdout",
       "text": [
        "\n",
        "Score: 0.0435 for 27 and 27 (certainty: 0.91)"
       ]
      },
      {
       "output_type": "stream",
       "stream": "stdout",
       "text": [
        "\n",
        "Score: 0.0434 for 27 and 15 (certainty: 0.75)"
       ]
      },
      {
       "output_type": "stream",
       "stream": "stdout",
       "text": [
        "\n",
        "Score: 0.0007 for 27 and 15 (certainty: 0.51)"
       ]
      },
      {
       "output_type": "stream",
       "stream": "stdout",
       "text": [
        "\n",
        "Score: 0.0044 for 27 and 21 (certainty: 0.36)"
       ]
      },
      {
       "output_type": "stream",
       "stream": "stdout",
       "text": [
        "\n",
        "Score: 0.0046 for 27 and 15 (certainty: 0.19)\n",
        "Score: 0.0015 for 27 and 16 (certainty: 0.51)"
       ]
      },
      {
       "output_type": "stream",
       "stream": "stdout",
       "text": [
        "\n",
        "Score: 0.0000 for 27 and 17 (certainty: 0.00)"
       ]
      },
      {
       "output_type": "stream",
       "stream": "stdout",
       "text": [
        "\n",
        "Score: 0.0092 for 27 and 28 (certainty: 0.36)\n",
        "Score: 0.0261 for 27 and 27 (certainty: 0.99)"
       ]
      },
      {
       "output_type": "stream",
       "stream": "stdout",
       "text": [
        "\n",
        "Score: 0.0043 for 27 and 13 (certainty: 0.64)"
       ]
      },
      {
       "output_type": "stream",
       "stream": "stdout",
       "text": [
        "\n",
        "Score: 0.0097 for 27 and 23 (certainty: 0.51)"
       ]
      },
      {
       "output_type": "stream",
       "stream": "stdout",
       "text": [
        "\n",
        "Score: 0.0080 for 22 and 29 (certainty: 0.64)"
       ]
      },
      {
       "output_type": "stream",
       "stream": "stdout",
       "text": [
        "\n",
        "Score: 0.0000 for 22 and 15 (certainty: 0.19)"
       ]
      },
      {
       "output_type": "stream",
       "stream": "stdout",
       "text": [
        "\n",
        "Score: 0.0081 for 22 and 25 (certainty: 0.64)"
       ]
      },
      {
       "output_type": "stream",
       "stream": "stdout",
       "text": [
        "\n",
        "Score: 0.0004 for 22 and 23 (certainty: 0.51)"
       ]
      },
      {
       "output_type": "stream",
       "stream": "stdout",
       "text": [
        "\n",
        "Score: 0.0021 for 22 and 16 (certainty: 0.51)\n",
        "Score: 0.0105 for 22 and 18 (certainty: 0.36)"
       ]
      },
      {
       "output_type": "stream",
       "stream": "stdout",
       "text": [
        "\n",
        "Score: 0.0120 for 22 and 25 (certainty: 0.64)"
       ]
      },
      {
       "output_type": "stream",
       "stream": "stdout",
       "text": [
        "\n",
        "Score: 0.0276 for 22 and 32 (certainty: 0.84)"
       ]
      },
      {
       "output_type": "stream",
       "stream": "stdout",
       "text": [
        "\n",
        "Score: 0.0092 for 22 and 19 (certainty: 0.75)"
       ]
      },
      {
       "output_type": "stream",
       "stream": "stdout",
       "text": [
        "\n",
        "Score: 0.0063 for 22 and 21 (certainty: 0.51)"
       ]
      },
      {
       "output_type": "stream",
       "stream": "stdout",
       "text": [
        "\n",
        "Score: 0.0142 for 22 and 14 (certainty: 0.75)\n",
        "Score: 0.0185 for 22 and 26 (certainty: 0.36)"
       ]
      },
      {
       "output_type": "stream",
       "stream": "stdout",
       "text": [
        "\n",
        "Score: 0.0126 for 22 and 22 (certainty: 0.64)\n",
        "Score: 0.0036 for 22 and 29 (certainty: 0.51)"
       ]
      },
      {
       "output_type": "stream",
       "stream": "stdout",
       "text": [
        "\n",
        "Score: 0.0051 for 22 and 13 (certainty: 0.64)"
       ]
      },
      {
       "output_type": "stream",
       "stream": "stdout",
       "text": [
        "\n",
        "Score: 0.0014 for 22 and 28 (certainty: 0.19)"
       ]
      },
      {
       "output_type": "stream",
       "stream": "stdout",
       "text": [
        "\n",
        "Score: 0.0002 for 22 and 13 (certainty: 0.19)\n",
        "Score: 0.0034 for 22 and 14 (certainty: 0.51)"
       ]
      },
      {
       "output_type": "stream",
       "stream": "stdout",
       "text": [
        "\n",
        "Score: 0.0252 for 22 and 14 (certainty: 0.75)"
       ]
      },
      {
       "output_type": "stream",
       "stream": "stdout",
       "text": [
        "\n",
        "Score: 0.0180 for 22 and 27 (certainty: 0.75)"
       ]
      },
      {
       "output_type": "stream",
       "stream": "stdout",
       "text": [
        "\n",
        "Score: 0.0076 for 22 and 17 (certainty: 0.64)"
       ]
      },
      {
       "output_type": "stream",
       "stream": "stdout",
       "text": [
        "\n",
        "Score: 0.0035 for 22 and 19 (certainty: 0.36)\n",
        "Score: 0.0053 for 22 and 31 (certainty: 0.51)"
       ]
      },
      {
       "output_type": "stream",
       "stream": "stdout",
       "text": [
        "\n",
        "Score: 0.0019 for 22 and 21 (certainty: 0.19)"
       ]
      },
      {
       "output_type": "stream",
       "stream": "stdout",
       "text": [
        "\n",
        "Score: 0.0044 for 22 and 23 (certainty: 0.64)"
       ]
      },
      {
       "output_type": "stream",
       "stream": "stdout",
       "text": [
        "\n",
        "Score: 0.0170 for 22 and 25 (certainty: 0.75)"
       ]
      },
      {
       "output_type": "stream",
       "stream": "stdout",
       "text": [
        "\n",
        "Score: 0.0027 for 22 and 23 (certainty: 0.19)\n",
        "Score: 0.0465 for 22 and 31 (certainty: 0.75)"
       ]
      },
      {
       "output_type": "stream",
       "stream": "stdout",
       "text": [
        "\n",
        "Score: 0.0257 for 22 and 15 (certainty: 0.51)\n",
        "Score: 0.0067 for 22 and 23 (certainty: 0.64)"
       ]
      },
      {
       "output_type": "stream",
       "stream": "stdout",
       "text": [
        "\n",
        "Score: 0.0078 for 22 and 18 (certainty: 0.19)"
       ]
      },
      {
       "output_type": "stream",
       "stream": "stdout",
       "text": [
        "\n",
        "Score: 0.0003 for 22 and 15 (certainty: 0.51)"
       ]
      },
      {
       "output_type": "stream",
       "stream": "stdout",
       "text": [
        "\n",
        "Score: 0.0235 for 22 and 16 (certainty: 0.75)"
       ]
      },
      {
       "output_type": "stream",
       "stream": "stdout",
       "text": [
        "\n",
        "Score: 0.0050 for 22 and 23 (certainty: 0.36)"
       ]
      },
      {
       "output_type": "stream",
       "stream": "stdout",
       "text": [
        "\n",
        "Score: 0.0081 for 22 and 23 (certainty: 0.75)"
       ]
      },
      {
       "output_type": "stream",
       "stream": "stdout",
       "text": [
        "\n",
        "Score: 0.0115 for 22 and 32 (certainty: 0.64)\n",
        "Score: 0.0064 for 22 and 15 (certainty: 0.51)"
       ]
      },
      {
       "output_type": "stream",
       "stream": "stdout",
       "text": [
        "\n",
        "Score: 0.0215 for 22 and 24 (certainty: 0.51)\n",
        "Score: 0.0209 for 22 and 25 (certainty: 0.75)"
       ]
      },
      {
       "output_type": "stream",
       "stream": "stdout",
       "text": [
        "\n",
        "Score: 0.0057 for 22 and 30 (certainty: 0.51)"
       ]
      },
      {
       "output_type": "stream",
       "stream": "stdout",
       "text": [
        "\n",
        "Score: 0.0051 for 22 and 32 (certainty: 0.51)"
       ]
      },
      {
       "output_type": "stream",
       "stream": "stdout",
       "text": [
        "\n",
        "['../../images/testsets/Gallagher_small_unresized/22_254.jpg', '../../images/testsets/Gallagher_small_unresized/29_538.jpg']\n",
        "No descriptors found. Returning score 0\n",
        "Score: 0.0066 for 22 and 21 (certainty: 0.64)"
       ]
      },
      {
       "output_type": "stream",
       "stream": "stdout",
       "text": [
        "\n",
        "Score: 0.0113 for 22 and 20 (certainty: 0.75)"
       ]
      },
      {
       "output_type": "stream",
       "stream": "stdout",
       "text": [
        "\n",
        "Score: 0.0131 for 22 and 15 (certainty: 0.84)"
       ]
      },
      {
       "output_type": "stream",
       "stream": "stdout",
       "text": [
        "\n",
        "Score: 0.0008 for 22 and 15 (certainty: 0.19)"
       ]
      },
      {
       "output_type": "stream",
       "stream": "stdout",
       "text": [
        "\n",
        "Score: 0.0059 for 22 and 19 (certainty: 0.64)"
       ]
      },
      {
       "output_type": "stream",
       "stream": "stdout",
       "text": [
        "\n",
        "Score: 0.0127 for 22 and 19 (certainty: 0.64)"
       ]
      },
      {
       "output_type": "stream",
       "stream": "stdout",
       "text": [
        "\n",
        "Score: 0.0076 for 22 and 21 (certainty: 0.36)"
       ]
      },
      {
       "output_type": "stream",
       "stream": "stdout",
       "text": [
        "\n",
        "Score: 0.0035 for 22 and 26 (certainty: 0.51)"
       ]
      },
      {
       "output_type": "stream",
       "stream": "stdout",
       "text": [
        "\n",
        "Score: 0.0298 for 22 and 27 (certainty: 0.75)\n",
        "Score: 0.0087 for 22 and 15 (certainty: 0.64)"
       ]
      },
      {
       "output_type": "stream",
       "stream": "stdout",
       "text": [
        "\n",
        "Score: 0.0061 for 22 and 15 (certainty: 0.51)"
       ]
      },
      {
       "output_type": "stream",
       "stream": "stdout",
       "text": [
        "\n",
        "Score: 0.0011 for 22 and 21 (certainty: 0.51)\n",
        "Score: 0.0971 for 22 and 15 (certainty: 0.19)"
       ]
      },
      {
       "output_type": "stream",
       "stream": "stdout",
       "text": [
        "\n",
        "Score: 0.0016 for 22 and 16 (certainty: 0.36)\n",
        "Score: 0.0656 for 22 and 17 (certainty: 0.36)"
       ]
      },
      {
       "output_type": "stream",
       "stream": "stdout",
       "text": [
        "\n",
        "Score: 0.0036 for 22 and 28 (certainty: 0.36)\n",
        "Score: 0.0063 for 22 and 27 (certainty: 0.51)"
       ]
      },
      {
       "output_type": "stream",
       "stream": "stdout",
       "text": [
        "\n",
        "Score: 0.0071 for 22 and 13 (certainty: 0.36)"
       ]
      },
      {
       "output_type": "stream",
       "stream": "stdout",
       "text": [
        "\n",
        "Score: 0.0022 for 22 and 23 (certainty: 0.51)"
       ]
      },
      {
       "output_type": "stream",
       "stream": "stdout",
       "text": [
        "\n",
        "Score: 0.0149 for 29 and 15 (certainty: 0.64)"
       ]
      },
      {
       "output_type": "stream",
       "stream": "stdout",
       "text": [
        "\n",
        "Score: 0.0103 for 29 and 25 (certainty: 0.64)"
       ]
      },
      {
       "output_type": "stream",
       "stream": "stdout",
       "text": [
        "\n",
        "Score: 0.0027 for 29 and 23 (certainty: 0.91)"
       ]
      },
      {
       "output_type": "stream",
       "stream": "stdout",
       "text": [
        "\n",
        "Score: 0.0014 for 29 and 16 (certainty: 0.51)"
       ]
      },
      {
       "output_type": "stream",
       "stream": "stdout",
       "text": [
        "\n",
        "Score: 0.0228 for 29 and 18 (certainty: 0.64)"
       ]
      },
      {
       "output_type": "stream",
       "stream": "stdout",
       "text": [
        "\n",
        "Score: 0.0214 for 29 and 25 (certainty: 0.84)"
       ]
      },
      {
       "output_type": "stream",
       "stream": "stdout",
       "text": [
        "\n",
        "Score: 0.0082 for 29 and 32 (certainty: 0.36)"
       ]
      },
      {
       "output_type": "stream",
       "stream": "stdout",
       "text": [
        "\n",
        "Score: 0.0052 for 29 and 19 (certainty: 0.64)"
       ]
      },
      {
       "output_type": "stream",
       "stream": "stdout",
       "text": [
        "\n",
        "Score: 0.0175 for 29 and 21 (certainty: 0.64)"
       ]
      },
      {
       "output_type": "stream",
       "stream": "stdout",
       "text": [
        "\n",
        "Score: 0.0021 for 29 and 14 (certainty: 0.75)"
       ]
      },
      {
       "output_type": "stream",
       "stream": "stdout",
       "text": [
        "\n",
        "Score: 0.0056 for 29 and 26 (certainty: 0.51)"
       ]
      },
      {
       "output_type": "stream",
       "stream": "stdout",
       "text": [
        "\n",
        "Score: 0.0084 for 29 and 22 (certainty: 0.51)"
       ]
      },
      {
       "output_type": "stream",
       "stream": "stdout",
       "text": [
        "\n",
        "Score: 0.0828 for 29 and 29 (certainty: 1.00)"
       ]
      },
      {
       "output_type": "stream",
       "stream": "stdout",
       "text": [
        "\n",
        "Score: 0.0105 for 29 and 13 (certainty: 0.99)"
       ]
      },
      {
       "output_type": "stream",
       "stream": "stdout",
       "text": [
        "\n",
        "Score: 0.0000 for 29 and 28 (certainty: 0.84)"
       ]
      },
      {
       "output_type": "stream",
       "stream": "stdout",
       "text": [
        "\n",
        "Score: 0.0037 for 29 and 13 (certainty: 0.51)"
       ]
      },
      {
       "output_type": "stream",
       "stream": "stdout",
       "text": [
        "\n",
        "Score: 0.0170 for 29 and 14 (certainty: 0.51)"
       ]
      },
      {
       "output_type": "stream",
       "stream": "stdout",
       "text": [
        "\n",
        "Score: 0.0047 for 29 and 14 (certainty: 0.19)"
       ]
      },
      {
       "output_type": "stream",
       "stream": "stdout",
       "text": [
        "\n",
        "Score: 0.0015 for 29 and 27 (certainty: 0.36)"
       ]
      },
      {
       "output_type": "stream",
       "stream": "stdout",
       "text": [
        "\n",
        "Score: 0.0020 for 29 and 17 (certainty: 0.51)"
       ]
      },
      {
       "output_type": "stream",
       "stream": "stdout",
       "text": [
        "\n",
        "Score: 0.0000 for 29 and 19 (certainty: 0.36)"
       ]
      },
      {
       "output_type": "stream",
       "stream": "stdout",
       "text": [
        "\n",
        "Score: 0.0074 for 29 and 31 (certainty: 0.51)"
       ]
      },
      {
       "output_type": "stream",
       "stream": "stdout",
       "text": [
        "\n",
        "Score: 0.0074 for 29 and 21 (certainty: 0.75)"
       ]
      },
      {
       "output_type": "stream",
       "stream": "stdout",
       "text": [
        "\n",
        "Score: 0.0031 for 29 and 23 (certainty: 0.51)"
       ]
      },
      {
       "output_type": "stream",
       "stream": "stdout",
       "text": [
        "\n",
        "Score: 0.0021 for 29 and 25 (certainty: 0.75)"
       ]
      },
      {
       "output_type": "stream",
       "stream": "stdout",
       "text": [
        "\n",
        "Score: 0.0097 for 29 and 23 (certainty: 0.19)"
       ]
      },
      {
       "output_type": "stream",
       "stream": "stdout",
       "text": [
        "\n",
        "Score: 0.0007 for 29 and 31 (certainty: 0.51)"
       ]
      },
      {
       "output_type": "stream",
       "stream": "stdout",
       "text": [
        "\n",
        "Score: 0.0025 for 29 and 15 (certainty: 0.51)"
       ]
      },
      {
       "output_type": "stream",
       "stream": "stdout",
       "text": [
        "\n",
        "Score: 0.0004 for 29 and 23 (certainty: 0.75)"
       ]
      },
      {
       "output_type": "stream",
       "stream": "stdout",
       "text": [
        "\n",
        "Score: 0.0085 for 29 and 18 (certainty: 0.91)"
       ]
      },
      {
       "output_type": "stream",
       "stream": "stdout",
       "text": [
        "\n",
        "Score: 0.0220 for 29 and 15 (certainty: 0.91)"
       ]
      },
      {
       "output_type": "stream",
       "stream": "stdout",
       "text": [
        "\n",
        "Score: 0.0000 for 29 and 16 (certainty: 0.19)"
       ]
      },
      {
       "output_type": "stream",
       "stream": "stdout",
       "text": [
        "\n",
        "Score: 0.0063 for 29 and 23 (certainty: 0.84)"
       ]
      },
      {
       "output_type": "stream",
       "stream": "stdout",
       "text": [
        "\n",
        "Score: 0.0014 for 29 and 23 (certainty: 0.64)"
       ]
      },
      {
       "output_type": "stream",
       "stream": "stdout",
       "text": [
        "\n",
        "Score: 0.0026 for 29 and 32 (certainty: 0.51)"
       ]
      },
      {
       "output_type": "stream",
       "stream": "stdout",
       "text": [
        "\n",
        "Score: 0.0027 for 29 and 15 (certainty: 0.99)"
       ]
      },
      {
       "output_type": "stream",
       "stream": "stdout",
       "text": [
        "\n",
        "Score: 0.0162 for 29 and 24 (certainty: 0.64)"
       ]
      },
      {
       "output_type": "stream",
       "stream": "stdout",
       "text": [
        "\n",
        "Score: 0.0238 for 29 and 25 (certainty: 0.91)"
       ]
      },
      {
       "output_type": "stream",
       "stream": "stdout",
       "text": [
        "\n",
        "Score: 0.0035 for 29 and 30 (certainty: 0.84)"
       ]
      },
      {
       "output_type": "stream",
       "stream": "stdout",
       "text": [
        "\n",
        "Score: 0.0043 for 29 and 32 (certainty: 0.36)"
       ]
      },
      {
       "output_type": "stream",
       "stream": "stdout",
       "text": [
        "\n",
        "['../../images/testsets/Gallagher_small_unresized/29_568.jpg', '../../images/testsets/Gallagher_small_unresized/29_538.jpg']\n",
        "No descriptors found. Returning score 0\n",
        "Score: 0.0058 for 29 and 21 (certainty: 0.75)"
       ]
      },
      {
       "output_type": "stream",
       "stream": "stdout",
       "text": [
        "\n",
        "Score: 0.0165 for 29 and 20 (certainty: 1.00)"
       ]
      },
      {
       "output_type": "stream",
       "stream": "stdout",
       "text": [
        "\n",
        "Score: 0.0018 for 29 and 15 (certainty: 0.19)"
       ]
      },
      {
       "output_type": "stream",
       "stream": "stdout",
       "text": [
        "\n",
        "Score: 0.0014 for 29 and 15 (certainty: 0.36)"
       ]
      },
      {
       "output_type": "stream",
       "stream": "stdout",
       "text": [
        "\n",
        "Score: 0.0289 for 29 and 19 (certainty: 0.51)"
       ]
      },
      {
       "output_type": "stream",
       "stream": "stdout",
       "text": [
        "\n",
        "Score: 0.0000 for 29 and 19 (certainty: 0.00)"
       ]
      },
      {
       "output_type": "stream",
       "stream": "stdout",
       "text": [
        "\n",
        "Score: 0.0153 for 29 and 21 (certainty: 0.84)"
       ]
      },
      {
       "output_type": "stream",
       "stream": "stdout",
       "text": [
        "\n",
        "Score: 0.0048 for 29 and 26 (certainty: 0.96)"
       ]
      },
      {
       "output_type": "stream",
       "stream": "stdout",
       "text": [
        "\n",
        "Score: 0.0078 for 29 and 27 (certainty: 0.19)"
       ]
      },
      {
       "output_type": "stream",
       "stream": "stdout",
       "text": [
        "\n",
        "Score: 0.0055 for 29 and 15 (certainty: 0.51)"
       ]
      },
      {
       "output_type": "stream",
       "stream": "stdout",
       "text": [
        "\n",
        "Score: 0.0021 for 29 and 15 (certainty: 0.75)"
       ]
      },
      {
       "output_type": "stream",
       "stream": "stdout",
       "text": [
        "\n",
        "Score: 0.0035 for 29 and 21 (certainty: 0.64)"
       ]
      },
      {
       "output_type": "stream",
       "stream": "stdout",
       "text": [
        "\n",
        "Score: 0.0046 for 29 and 15 (certainty: 0.19)"
       ]
      },
      {
       "output_type": "stream",
       "stream": "stdout",
       "text": [
        "\n",
        "Score: 0.0087 for 29 and 16 (certainty: 0.84)"
       ]
      },
      {
       "output_type": "stream",
       "stream": "stdout",
       "text": [
        "\n",
        "Score: 0.0115 for 29 and 17 (certainty: 0.51)"
       ]
      },
      {
       "output_type": "stream",
       "stream": "stdout",
       "text": [
        "\n",
        "Score: 0.0086 for 29 and 28 (certainty: 0.36)"
       ]
      },
      {
       "output_type": "stream",
       "stream": "stdout",
       "text": [
        "\n",
        "Score: 0.0135 for 29 and 27 (certainty: 0.64)"
       ]
      },
      {
       "output_type": "stream",
       "stream": "stdout",
       "text": [
        "\n",
        "Score: 0.0046 for 29 and 13 (certainty: 0.84)"
       ]
      },
      {
       "output_type": "stream",
       "stream": "stdout",
       "text": [
        "\n",
        "Score: 0.0122 for 29 and 23 (certainty: 0.99)"
       ]
      },
      {
       "output_type": "stream",
       "stream": "stdout",
       "text": [
        "\n",
        "Score: 0.0335 for 15 and 25 (certainty: 0.64)"
       ]
      },
      {
       "output_type": "stream",
       "stream": "stdout",
       "text": [
        "\n",
        "Score: 0.0080 for 15 and 23 (certainty: 0.75)"
       ]
      },
      {
       "output_type": "stream",
       "stream": "stdout",
       "text": [
        "\n",
        "Score: 0.0087 for 15 and 16 (certainty: 0.64)"
       ]
      },
      {
       "output_type": "stream",
       "stream": "stdout",
       "text": [
        "\n",
        "Score: 0.0027 for 15 and 18 (certainty: 0.51)"
       ]
      },
      {
       "output_type": "stream",
       "stream": "stdout",
       "text": [
        "\n",
        "Score: 0.0162 for 15 and 25 (certainty: 0.51)"
       ]
      },
      {
       "output_type": "stream",
       "stream": "stdout",
       "text": [
        "\n",
        "Score: 0.0193 for 15 and 32 (certainty: 0.75)"
       ]
      },
      {
       "output_type": "stream",
       "stream": "stdout",
       "text": [
        "\n",
        "Score: 0.0086 for 15 and 19 (certainty: 0.64)"
       ]
      },
      {
       "output_type": "stream",
       "stream": "stdout",
       "text": [
        "\n",
        "Score: 0.0202 for 15 and 21 (certainty: 0.91)"
       ]
      },
      {
       "output_type": "stream",
       "stream": "stdout",
       "text": [
        "\n",
        "Score: 0.0148 for 15 and 14 (certainty: 0.91)"
       ]
      },
      {
       "output_type": "stream",
       "stream": "stdout",
       "text": [
        "\n",
        "Score: 0.0013 for 15 and 26 (certainty: 0.36)"
       ]
      },
      {
       "output_type": "stream",
       "stream": "stdout",
       "text": [
        "\n",
        "Score: 0.0090 for 15 and 22 (certainty: 0.51)"
       ]
      },
      {
       "output_type": "stream",
       "stream": "stdout",
       "text": [
        "\n",
        "Score: 0.0034 for 15 and 29 (certainty: 0.36)"
       ]
      },
      {
       "output_type": "stream",
       "stream": "stdout",
       "text": [
        "\n",
        "Score: 0.0125 for 15 and 13 (certainty: 0.84)"
       ]
      },
      {
       "output_type": "stream",
       "stream": "stdout",
       "text": [
        "\n",
        "Score: 0.0104 for 15 and 28 (certainty: 0.36)"
       ]
      },
      {
       "output_type": "stream",
       "stream": "stdout",
       "text": [
        "\n",
        "Score: 0.0070 for 15 and 13 (certainty: 0.36)"
       ]
      },
      {
       "output_type": "stream",
       "stream": "stdout",
       "text": [
        "\n",
        "Score: 0.0258 for 15 and 14 (certainty: 1.00)"
       ]
      },
      {
       "output_type": "stream",
       "stream": "stdout",
       "text": [
        "\n",
        "Score: 0.0151 for 15 and 14 (certainty: 0.91)"
       ]
      },
      {
       "output_type": "stream",
       "stream": "stdout",
       "text": [
        "\n",
        "Score: 0.0190 for 15 and 27 (certainty: 0.84)"
       ]
      },
      {
       "output_type": "stream",
       "stream": "stdout",
       "text": [
        "\n",
        "Score: 0.0007 for 15 and 17 (certainty: 0.51)"
       ]
      },
      {
       "output_type": "stream",
       "stream": "stdout",
       "text": [
        "\n",
        "Score: 0.0106 for 15 and 19 (certainty: 0.84)"
       ]
      },
      {
       "output_type": "stream",
       "stream": "stdout",
       "text": [
        "\n",
        "Score: 0.0032 for 15 and 31 (certainty: 0.64)"
       ]
      },
      {
       "output_type": "stream",
       "stream": "stdout",
       "text": [
        "\n",
        "Score: 0.0131 for 15 and 21 (certainty: 0.64)"
       ]
      },
      {
       "output_type": "stream",
       "stream": "stdout",
       "text": [
        "\n",
        "Score: 0.0073 for 15 and 23 (certainty: 0.84)"
       ]
      },
      {
       "output_type": "stream",
       "stream": "stdout",
       "text": [
        "\n",
        "Score: 0.0165 for 15 and 25 (certainty: 0.75)"
       ]
      },
      {
       "output_type": "stream",
       "stream": "stdout",
       "text": [
        "\n",
        "Score: 0.0060 for 15 and 23 (certainty: 0.19)\n",
        "Score: 0.0119 for 15 and 31 (certainty: 0.64)"
       ]
      },
      {
       "output_type": "stream",
       "stream": "stdout",
       "text": [
        "\n",
        "Score: 0.0152 for 15 and 15 (certainty: 0.51)"
       ]
      },
      {
       "output_type": "stream",
       "stream": "stdout",
       "text": [
        "\n",
        "Score: 0.0166 for 15 and 23 (certainty: 0.84)"
       ]
      },
      {
       "output_type": "stream",
       "stream": "stdout",
       "text": [
        "\n",
        "Score: 0.0327 for 15 and 18 (certainty: 0.75)"
       ]
      },
      {
       "output_type": "stream",
       "stream": "stdout",
       "text": [
        "\n",
        "Score: 0.0161 for 15 and 15 (certainty: 0.96)"
       ]
      },
      {
       "output_type": "stream",
       "stream": "stdout",
       "text": [
        "\n",
        "Score: 0.0257 for 15 and 16 (certainty: 0.84)"
       ]
      },
      {
       "output_type": "stream",
       "stream": "stdout",
       "text": [
        "\n",
        "Score: 0.0041 for 15 and 23 (certainty: 0.36)"
       ]
      },
      {
       "output_type": "stream",
       "stream": "stdout",
       "text": [
        "\n",
        "Score: 0.0425 for 15 and 23 (certainty: 0.19)"
       ]
      },
      {
       "output_type": "stream",
       "stream": "stdout",
       "text": [
        "\n",
        "Score: 0.0105 for 15 and 32 (certainty: 0.64)"
       ]
      },
      {
       "output_type": "stream",
       "stream": "stdout",
       "text": [
        "\n",
        "Score: 0.0296 for 15 and 15 (certainty: 0.99)"
       ]
      },
      {
       "output_type": "stream",
       "stream": "stdout",
       "text": [
        "\n",
        "Score: 0.0038 for 15 and 24 (certainty: 0.64)"
       ]
      },
      {
       "output_type": "stream",
       "stream": "stdout",
       "text": [
        "\n",
        "Score: 0.0061 for 15 and 25 (certainty: 0.64)"
       ]
      },
      {
       "output_type": "stream",
       "stream": "stdout",
       "text": [
        "\n",
        "Score: 0.0116 for 15 and 30 (certainty: 0.75)"
       ]
      },
      {
       "output_type": "stream",
       "stream": "stdout",
       "text": [
        "\n",
        "Score: 0.0009 for 15 and 32 (certainty: 0.64)"
       ]
      },
      {
       "output_type": "stream",
       "stream": "stdout",
       "text": [
        "\n",
        "['../../images/testsets/Gallagher_small_unresized/15_154.jpg', '../../images/testsets/Gallagher_small_unresized/29_538.jpg']\n",
        "No descriptors found. Returning score 0\n",
        "Score: 0.0144 for 15 and 21 (certainty: 0.84)"
       ]
      },
      {
       "output_type": "stream",
       "stream": "stdout",
       "text": [
        "\n",
        "Score: 0.0427 for 15 and 20 (certainty: 0.91)"
       ]
      },
      {
       "output_type": "stream",
       "stream": "stdout",
       "text": [
        "\n",
        "Score: 0.0184 for 15 and 15 (certainty: 0.75)"
       ]
      },
      {
       "output_type": "stream",
       "stream": "stdout",
       "text": [
        "\n",
        "Score: 0.0710 for 15 and 15 (certainty: 1.00)"
       ]
      },
      {
       "output_type": "stream",
       "stream": "stdout",
       "text": [
        "\n",
        "Score: 0.0226 for 15 and 19 (certainty: 0.99)"
       ]
      },
      {
       "output_type": "stream",
       "stream": "stdout",
       "text": [
        "\n",
        "Score: 0.0014 for 15 and 19 (certainty: 0.51)"
       ]
      },
      {
       "output_type": "stream",
       "stream": "stdout",
       "text": [
        "\n",
        "Score: 0.0153 for 15 and 21 (certainty: 0.91)"
       ]
      },
      {
       "output_type": "stream",
       "stream": "stdout",
       "text": [
        "\n",
        "Score: 0.0164 for 15 and 26 (certainty: 0.84)"
       ]
      },
      {
       "output_type": "stream",
       "stream": "stdout",
       "text": [
        "\n",
        "Score: 0.0032 for 15 and 27 (certainty: 0.75)"
       ]
      },
      {
       "output_type": "stream",
       "stream": "stdout",
       "text": [
        "\n",
        "Score: 0.0078 for 15 and 15 (certainty: 0.84)"
       ]
      },
      {
       "output_type": "stream",
       "stream": "stdout",
       "text": [
        "\n",
        "Score: 0.0178 for 15 and 15 (certainty: 0.84)"
       ]
      },
      {
       "output_type": "stream",
       "stream": "stdout",
       "text": [
        "\n",
        "Score: 0.0140 for 15 and 21 (certainty: 0.64)"
       ]
      },
      {
       "output_type": "stream",
       "stream": "stdout",
       "text": [
        "\n",
        "Score: 0.0302 for 15 and 15 (certainty: 0.19)\n",
        "Score: 0.0089 for 15 and 16 (certainty: 0.64)"
       ]
      },
      {
       "output_type": "stream",
       "stream": "stdout",
       "text": [
        "\n",
        "Score: 0.0023 for 15 and 17 (certainty: 0.36)"
       ]
      },
      {
       "output_type": "stream",
       "stream": "stdout",
       "text": [
        "\n",
        "Score: 0.0073 for 15 and 28 (certainty: 0.36)\n",
        "Score: 0.0139 for 15 and 27 (certainty: 0.64)"
       ]
      },
      {
       "output_type": "stream",
       "stream": "stdout",
       "text": [
        "\n",
        "Score: 0.0037 for 15 and 13 (certainty: 0.75)"
       ]
      },
      {
       "output_type": "stream",
       "stream": "stdout",
       "text": [
        "\n",
        "Score: 0.0158 for 15 and 23 (certainty: 0.96)"
       ]
      },
      {
       "output_type": "stream",
       "stream": "stdout",
       "text": [
        "\n",
        "Score: 0.0114 for 25 and 23 (certainty: 1.00)"
       ]
      },
      {
       "output_type": "stream",
       "stream": "stdout",
       "text": [
        "\n",
        "Score: 0.0050 for 25 and 16 (certainty: 0.64)"
       ]
      },
      {
       "output_type": "stream",
       "stream": "stdout",
       "text": [
        "\n",
        "Score: 0.0085 for 25 and 18 (certainty: 0.36)"
       ]
      },
      {
       "output_type": "stream",
       "stream": "stdout",
       "text": [
        "\n",
        "Score: 0.0082 for 25 and 25 (certainty: 0.91)"
       ]
      },
      {
       "output_type": "stream",
       "stream": "stdout",
       "text": [
        "\n",
        "Score: 0.0205 for 25 and 32 (certainty: 0.96)"
       ]
      },
      {
       "output_type": "stream",
       "stream": "stdout",
       "text": [
        "\n",
        "Score: 0.0135 for 25 and 19 (certainty: 0.91)"
       ]
      },
      {
       "output_type": "stream",
       "stream": "stdout",
       "text": [
        "\n",
        "Score: 0.0128 for 25 and 21 (certainty: 0.96)"
       ]
      },
      {
       "output_type": "stream",
       "stream": "stdout",
       "text": [
        "\n",
        "Score: 0.0079 for 25 and 14 (certainty: 0.64)"
       ]
      },
      {
       "output_type": "stream",
       "stream": "stdout",
       "text": [
        "\n",
        "Score: 0.0037 for 25 and 26 (certainty: 0.19)"
       ]
      },
      {
       "output_type": "stream",
       "stream": "stdout",
       "text": [
        "\n",
        "Score: 0.0148 for 25 and 22 (certainty: 0.51)"
       ]
      },
      {
       "output_type": "stream",
       "stream": "stdout",
       "text": [
        "\n",
        "Score: 0.0001 for 25 and 29 (certainty: 0.51)"
       ]
      },
      {
       "output_type": "stream",
       "stream": "stdout",
       "text": [
        "\n",
        "Score: 0.0038 for 25 and 13 (certainty: 0.91)"
       ]
      },
      {
       "output_type": "stream",
       "stream": "stdout",
       "text": [
        "\n",
        "Score: 0.0046 for 25 and 28 (certainty: 0.84)"
       ]
      },
      {
       "output_type": "stream",
       "stream": "stdout",
       "text": [
        "\n",
        "Score: 0.0135 for 25 and 13 (certainty: 0.84)"
       ]
      },
      {
       "output_type": "stream",
       "stream": "stdout",
       "text": [
        "\n",
        "Score: 0.0189 for 25 and 14 (certainty: 0.99)"
       ]
      },
      {
       "output_type": "stream",
       "stream": "stdout",
       "text": [
        "\n",
        "Score: 0.0096 for 25 and 14 (certainty: 0.75)"
       ]
      },
      {
       "output_type": "stream",
       "stream": "stdout",
       "text": [
        "\n",
        "Score: 0.0116 for 25 and 27 (certainty: 0.91)"
       ]
      },
      {
       "output_type": "stream",
       "stream": "stdout",
       "text": [
        "\n",
        "Score: 0.0123 for 25 and 17 (certainty: 0.96)"
       ]
      },
      {
       "output_type": "stream",
       "stream": "stdout",
       "text": [
        "\n",
        "Score: 0.0192 for 25 and 19 (certainty: 0.84)"
       ]
      },
      {
       "output_type": "stream",
       "stream": "stdout",
       "text": [
        "\n",
        "Score: 0.0246 for 25 and 31 (certainty: 0.91)"
       ]
      },
      {
       "output_type": "stream",
       "stream": "stdout",
       "text": [
        "\n",
        "Score: 0.0184 for 25 and 21 (certainty: 0.96)"
       ]
      },
      {
       "output_type": "stream",
       "stream": "stdout",
       "text": [
        "\n",
        "Score: 0.0187 for 25 and 23 (certainty: 0.96)"
       ]
      },
      {
       "output_type": "stream",
       "stream": "stdout",
       "text": [
        "\n",
        "Score: 0.0181 for 25 and 25 (certainty: 0.75)"
       ]
      },
      {
       "output_type": "stream",
       "stream": "stdout",
       "text": [
        "\n",
        "Score: 0.0014 for 25 and 23 (certainty: 0.19)"
       ]
      },
      {
       "output_type": "stream",
       "stream": "stdout",
       "text": [
        "\n",
        "Score: 0.0048 for 25 and 31 (certainty: 0.75)"
       ]
      },
      {
       "output_type": "stream",
       "stream": "stdout",
       "text": [
        "\n",
        "Score: 0.0056 for 25 and 15 (certainty: 0.51)"
       ]
      },
      {
       "output_type": "stream",
       "stream": "stdout",
       "text": [
        "\n",
        "Score: 0.0059 for 25 and 23 (certainty: 0.75)"
       ]
      },
      {
       "output_type": "stream",
       "stream": "stdout",
       "text": [
        "\n",
        "Score: 0.0018 for 25 and 18 (certainty: 0.64)"
       ]
      },
      {
       "output_type": "stream",
       "stream": "stdout",
       "text": [
        "\n",
        "Score: 0.0059 for 25 and 15 (certainty: 0.96)"
       ]
      },
      {
       "output_type": "stream",
       "stream": "stdout",
       "text": [
        "\n",
        "Score: 0.0143 for 25 and 16 (certainty: 0.64)"
       ]
      },
      {
       "output_type": "stream",
       "stream": "stdout",
       "text": [
        "\n",
        "Score: 0.0210 for 25 and 23 (certainty: 0.84)"
       ]
      },
      {
       "output_type": "stream",
       "stream": "stdout",
       "text": [
        "\n",
        "Score: 0.0026 for 25 and 23 (certainty: 0.64)"
       ]
      },
      {
       "output_type": "stream",
       "stream": "stdout",
       "text": [
        "\n",
        "Score: 0.0213 for 25 and 32 (certainty: 0.64)"
       ]
      },
      {
       "output_type": "stream",
       "stream": "stdout",
       "text": [
        "\n",
        "Score: 0.0229 for 25 and 15 (certainty: 0.91)"
       ]
      },
      {
       "output_type": "stream",
       "stream": "stdout",
       "text": [
        "\n",
        "Score: 0.0276 for 25 and 24 (certainty: 0.75)"
       ]
      },
      {
       "output_type": "stream",
       "stream": "stdout",
       "text": [
        "\n",
        "Score: 0.0169 for 25 and 25 (certainty: 0.75)"
       ]
      },
      {
       "output_type": "stream",
       "stream": "stdout",
       "text": [
        "\n",
        "Score: 0.0124 for 25 and 30 (certainty: 0.84)"
       ]
      },
      {
       "output_type": "stream",
       "stream": "stdout",
       "text": [
        "\n",
        "Score: 0.0056 for 25 and 32 (certainty: 0.64)"
       ]
      },
      {
       "output_type": "stream",
       "stream": "stdout",
       "text": [
        "\n",
        "['../../images/testsets/Gallagher_small_unresized/25_431.jpg', '../../images/testsets/Gallagher_small_unresized/29_538.jpg']\n",
        "No descriptors found. Returning score 0\n",
        "Score: 0.0136 for 25 and 21 (certainty: 0.99)"
       ]
      },
      {
       "output_type": "stream",
       "stream": "stdout",
       "text": [
        "\n",
        "Score: 0.0392 for 25 and 20 (certainty: 0.91)"
       ]
      },
      {
       "output_type": "stream",
       "stream": "stdout",
       "text": [
        "\n",
        "Score: 0.0195 for 25 and 15 (certainty: 0.91)"
       ]
      },
      {
       "output_type": "stream",
       "stream": "stdout",
       "text": [
        "\n",
        "Score: 0.0066 for 25 and 15 (certainty: 0.91)"
       ]
      },
      {
       "output_type": "stream",
       "stream": "stdout",
       "text": [
        "\n",
        "Score: 0.0155 for 25 and 19 (certainty: 0.99)"
       ]
      },
      {
       "output_type": "stream",
       "stream": "stdout",
       "text": [
        "\n",
        "Score: 0.0057 for 25 and 19 (certainty: 0.84)"
       ]
      },
      {
       "output_type": "stream",
       "stream": "stdout",
       "text": [
        "\n",
        "Score: 0.0208 for 25 and 21 (certainty: 0.84)"
       ]
      },
      {
       "output_type": "stream",
       "stream": "stdout",
       "text": [
        "\n",
        "Score: 0.0007 for 25 and 26 (certainty: 0.84)"
       ]
      },
      {
       "output_type": "stream",
       "stream": "stdout",
       "text": [
        "\n",
        "Score: 0.0072 for 25 and 27 (certainty: 0.75)"
       ]
      },
      {
       "output_type": "stream",
       "stream": "stdout",
       "text": [
        "\n",
        "Score: 0.0298 for 25 and 15 (certainty: 0.96)"
       ]
      },
      {
       "output_type": "stream",
       "stream": "stdout",
       "text": [
        "\n",
        "Score: 0.0098 for 25 and 15 (certainty: 0.84)"
       ]
      },
      {
       "output_type": "stream",
       "stream": "stdout",
       "text": [
        "\n",
        "Score: 0.0069 for 25 and 21 (certainty: 0.51)"
       ]
      },
      {
       "output_type": "stream",
       "stream": "stdout",
       "text": [
        "\n",
        "Score: 0.0014 for 25 and 15 (certainty: 0.19)"
       ]
      },
      {
       "output_type": "stream",
       "stream": "stdout",
       "text": [
        "\n",
        "Score: 0.0184 for 25 and 16 (certainty: 0.75)"
       ]
      },
      {
       "output_type": "stream",
       "stream": "stdout",
       "text": [
        "\n",
        "Score: 0.0072 for 25 and 17 (certainty: 0.51)"
       ]
      },
      {
       "output_type": "stream",
       "stream": "stdout",
       "text": [
        "\n",
        "Score: 0.0078 for 25 and 28 (certainty: 0.51)"
       ]
      },
      {
       "output_type": "stream",
       "stream": "stdout",
       "text": [
        "\n",
        "Score: 0.0063 for 25 and 27 (certainty: 0.75)"
       ]
      },
      {
       "output_type": "stream",
       "stream": "stdout",
       "text": [
        "\n",
        "Score: 0.0041 for 25 and 13 (certainty: 0.64)"
       ]
      },
      {
       "output_type": "stream",
       "stream": "stdout",
       "text": [
        "\n",
        "Score: 0.0225 for 25 and 23 (certainty: 1.00)"
       ]
      },
      {
       "output_type": "stream",
       "stream": "stdout",
       "text": [
        "\n",
        "Score: 0.0095 for 23 and 16 (certainty: 0.84)"
       ]
      },
      {
       "output_type": "stream",
       "stream": "stdout",
       "text": [
        "\n",
        "Score: 0.0061 for 23 and 18 (certainty: 0.51)"
       ]
      },
      {
       "output_type": "stream",
       "stream": "stdout",
       "text": [
        "\n",
        "Score: 0.0038 for 23 and 25 (certainty: 0.91)"
       ]
      },
      {
       "output_type": "stream",
       "stream": "stdout",
       "text": [
        "\n",
        "Score: 0.0074 for 23 and 32 (certainty: 0.84)"
       ]
      },
      {
       "output_type": "stream",
       "stream": "stdout",
       "text": [
        "\n",
        "Score: 0.0054 for 23 and 19 (certainty: 0.64)"
       ]
      },
      {
       "output_type": "stream",
       "stream": "stdout",
       "text": [
        "\n",
        "Score: 0.0087 for 23 and 21 (certainty: 0.75)"
       ]
      },
      {
       "output_type": "stream",
       "stream": "stdout",
       "text": [
        "\n",
        "Score: 0.0012 for 23 and 14 (certainty: 0.75)"
       ]
      },
      {
       "output_type": "stream",
       "stream": "stdout",
       "text": [
        "\n",
        "Score: 0.0013 for 23 and 26 (certainty: 0.51)"
       ]
      },
      {
       "output_type": "stream",
       "stream": "stdout",
       "text": [
        "\n",
        "Score: 0.0000 for 23 and 22 (certainty: 0.51)"
       ]
      },
      {
       "output_type": "stream",
       "stream": "stdout",
       "text": [
        "\n",
        "Score: 0.0120 for 23 and 29 (certainty: 0.75)"
       ]
      },
      {
       "output_type": "stream",
       "stream": "stdout",
       "text": [
        "\n",
        "Score: 0.0070 for 23 and 13 (certainty: 1.00)"
       ]
      },
      {
       "output_type": "stream",
       "stream": "stdout",
       "text": [
        "\n",
        "Score: 0.0032 for 23 and 28 (certainty: 0.64)"
       ]
      },
      {
       "output_type": "stream",
       "stream": "stdout",
       "text": [
        "\n",
        "Score: 0.0023 for 23 and 13 (certainty: 0.75)"
       ]
      },
      {
       "output_type": "stream",
       "stream": "stdout",
       "text": [
        "\n",
        "Score: 0.0133 for 23 and 14 (certainty: 0.99)"
       ]
      },
      {
       "output_type": "stream",
       "stream": "stdout",
       "text": [
        "\n",
        "Score: 0.0034 for 23 and 14 (certainty: 0.75)"
       ]
      },
      {
       "output_type": "stream",
       "stream": "stdout",
       "text": [
        "\n",
        "Score: 0.0016 for 23 and 27 (certainty: 0.64)"
       ]
      },
      {
       "output_type": "stream",
       "stream": "stdout",
       "text": [
        "\n",
        "Score: 0.0022 for 23 and 17 (certainty: 1.00)"
       ]
      },
      {
       "output_type": "stream",
       "stream": "stdout",
       "text": [
        "\n",
        "Score: 0.0026 for 23 and 19 (certainty: 0.64)"
       ]
      },
      {
       "output_type": "stream",
       "stream": "stdout",
       "text": [
        "\n",
        "Score: 0.0067 for 23 and 31 (certainty: 0.96)"
       ]
      },
      {
       "output_type": "stream",
       "stream": "stdout",
       "text": [
        "\n",
        "Score: 0.0096 for 23 and 21 (certainty: 0.84)"
       ]
      },
      {
       "output_type": "stream",
       "stream": "stdout",
       "text": [
        "\n",
        "Score: 0.0402 for 23 and 23 (certainty: 1.00)"
       ]
      },
      {
       "output_type": "stream",
       "stream": "stdout",
       "text": [
        "\n",
        "Score: 0.0052 for 23 and 25 (certainty: 0.51)"
       ]
      },
      {
       "output_type": "stream",
       "stream": "stdout",
       "text": [
        "\n",
        "Score: 0.0030 for 23 and 23 (certainty: 0.19)"
       ]
      },
      {
       "output_type": "stream",
       "stream": "stdout",
       "text": [
        "\n",
        "Score: 0.0025 for 23 and 31 (certainty: 0.36)"
       ]
      },
      {
       "output_type": "stream",
       "stream": "stdout",
       "text": [
        "\n",
        "Score: 0.0062 for 23 and 15 (certainty: 0.51)"
       ]
      },
      {
       "output_type": "stream",
       "stream": "stdout",
       "text": [
        "\n",
        "Score: 0.0042 for 23 and 23 (certainty: 0.75)"
       ]
      },
      {
       "output_type": "stream",
       "stream": "stdout",
       "text": [
        "\n",
        "Score: 0.0100 for 23 and 18 (certainty: 0.84)"
       ]
      },
      {
       "output_type": "stream",
       "stream": "stdout",
       "text": [
        "\n",
        "Score: 0.0057 for 23 and 15 (certainty: 0.96)"
       ]
      },
      {
       "output_type": "stream",
       "stream": "stdout",
       "text": [
        "\n",
        "Score: 0.0047 for 23 and 16 (certainty: 0.99)"
       ]
      },
      {
       "output_type": "stream",
       "stream": "stdout",
       "text": [
        "\n",
        "Score: 0.0013 for 23 and 23 (certainty: 0.51)"
       ]
      },
      {
       "output_type": "stream",
       "stream": "stdout",
       "text": [
        "\n",
        "Score: 0.0072 for 23 and 23 (certainty: 0.84)"
       ]
      },
      {
       "output_type": "stream",
       "stream": "stdout",
       "text": [
        "\n",
        "Score: 0.0072 for 23 and 32 (certainty: 0.51)"
       ]
      },
      {
       "output_type": "stream",
       "stream": "stdout",
       "text": [
        "\n",
        "Score: 0.0052 for 23 and 15 (certainty: 0.99)"
       ]
      },
      {
       "output_type": "stream",
       "stream": "stdout",
       "text": [
        "\n",
        "Score: 0.0110 for 23 and 24 (certainty: 0.75)"
       ]
      },
      {
       "output_type": "stream",
       "stream": "stdout",
       "text": [
        "\n",
        "Score: 0.0075 for 23 and 25 (certainty: 0.75)"
       ]
      },
      {
       "output_type": "stream",
       "stream": "stdout",
       "text": [
        "\n",
        "Score: 0.0074 for 23 and 30 (certainty: 0.91)"
       ]
      },
      {
       "output_type": "stream",
       "stream": "stdout",
       "text": [
        "\n",
        "Score: 0.0101 for 23 and 32 (certainty: 0.75)"
       ]
      },
      {
       "output_type": "stream",
       "stream": "stdout",
       "text": [
        "\n",
        "['../../images/testsets/Gallagher_small_unresized/23_305.jpg', '../../images/testsets/Gallagher_small_unresized/29_538.jpg']\n",
        "No descriptors found. Returning score 0\n",
        "Score: 0.0025 for 23 and 21 (certainty: 0.64)"
       ]
      },
      {
       "output_type": "stream",
       "stream": "stdout",
       "text": [
        "\n",
        "Score: 0.0119 for 23 and 20 (certainty: 0.64)"
       ]
      },
      {
       "output_type": "stream",
       "stream": "stdout",
       "text": [
        "\n",
        "Score: 0.0131 for 23 and 15 (certainty: 1.00)"
       ]
      },
      {
       "output_type": "stream",
       "stream": "stdout",
       "text": [
        "\n",
        "Score: 0.0064 for 23 and 15 (certainty: 0.91)"
       ]
      },
      {
       "output_type": "stream",
       "stream": "stdout",
       "text": [
        "\n",
        "Score: 0.0061 for 23 and 19 (certainty: 0.96)"
       ]
      },
      {
       "output_type": "stream",
       "stream": "stdout",
       "text": [
        "\n",
        "Score: 0.0036 for 23 and 19 (certainty: 0.51)"
       ]
      },
      {
       "output_type": "stream",
       "stream": "stdout",
       "text": [
        "\n",
        "Score: 0.0094 for 23 and 21 (certainty: 0.96)"
       ]
      },
      {
       "output_type": "stream",
       "stream": "stdout",
       "text": [
        "\n",
        "Score: 0.0034 for 23 and 26 (certainty: 0.91)"
       ]
      },
      {
       "output_type": "stream",
       "stream": "stdout",
       "text": [
        "\n",
        "Score: 0.0058 for 23 and 27 (certainty: 0.64)"
       ]
      },
      {
       "output_type": "stream",
       "stream": "stdout",
       "text": [
        "\n",
        "Score: 0.0026 for 23 and 15 (certainty: 0.51)"
       ]
      },
      {
       "output_type": "stream",
       "stream": "stdout",
       "text": [
        "\n",
        "Score: 0.0060 for 23 and 15 (certainty: 0.91)"
       ]
      },
      {
       "output_type": "stream",
       "stream": "stdout",
       "text": [
        "\n",
        "Score: 0.0081 for 23 and 21 (certainty: 0.51)"
       ]
      },
      {
       "output_type": "stream",
       "stream": "stdout",
       "text": [
        "\n",
        "Score: 0.0018 for 23 and 15 (certainty: 0.19)"
       ]
      },
      {
       "output_type": "stream",
       "stream": "stdout",
       "text": [
        "\n",
        "Score: 0.0079 for 23 and 16 (certainty: 0.75)"
       ]
      },
      {
       "output_type": "stream",
       "stream": "stdout",
       "text": [
        "\n",
        "Score: 0.0020 for 23 and 17 (certainty: 0.19)"
       ]
      },
      {
       "output_type": "stream",
       "stream": "stdout",
       "text": [
        "\n",
        "Score: 0.0061 for 23 and 28 (certainty: 0.36)"
       ]
      },
      {
       "output_type": "stream",
       "stream": "stdout",
       "text": [
        "\n",
        "Score: 0.0046 for 23 and 27 (certainty: 0.99)"
       ]
      },
      {
       "output_type": "stream",
       "stream": "stdout",
       "text": [
        "\n",
        "Score: 0.0068 for 23 and 13 (certainty: 0.75)"
       ]
      },
      {
       "output_type": "stream",
       "stream": "stdout",
       "text": [
        "\n",
        "Score: 0.0190 for 23 and 23 (certainty: 1.00)"
       ]
      },
      {
       "output_type": "stream",
       "stream": "stdout",
       "text": [
        "\n",
        "Score: 0.0065 for 16 and 18 (certainty: 0.36)"
       ]
      },
      {
       "output_type": "stream",
       "stream": "stdout",
       "text": [
        "\n",
        "Score: 0.0190 for 16 and 25 (certainty: 1.00)"
       ]
      },
      {
       "output_type": "stream",
       "stream": "stdout",
       "text": [
        "\n",
        "Score: 0.0245 for 16 and 32 (certainty: 0.75)"
       ]
      },
      {
       "output_type": "stream",
       "stream": "stdout",
       "text": [
        "\n",
        "Score: 0.0076 for 16 and 19 (certainty: 0.64)"
       ]
      },
      {
       "output_type": "stream",
       "stream": "stdout",
       "text": [
        "\n",
        "Score: 0.0327 for 16 and 21 (certainty: 0.91)"
       ]
      },
      {
       "output_type": "stream",
       "stream": "stdout",
       "text": [
        "\n",
        "Score: 0.0046 for 16 and 14 (certainty: 0.64)"
       ]
      },
      {
       "output_type": "stream",
       "stream": "stdout",
       "text": [
        "\n",
        "Score: 0.0080 for 16 and 26 (certainty: 0.64)"
       ]
      },
      {
       "output_type": "stream",
       "stream": "stdout",
       "text": [
        "\n",
        "Score: 0.0204 for 16 and 22 (certainty: 0.51)\n",
        "Score: 0.0048 for 16 and 29 (certainty: 0.75)"
       ]
      },
      {
       "output_type": "stream",
       "stream": "stdout",
       "text": [
        "\n",
        "Score: 0.0057 for 16 and 13 (certainty: 0.91)"
       ]
      },
      {
       "output_type": "stream",
       "stream": "stdout",
       "text": [
        "\n",
        "Score: 0.0000 for 16 and 28 (certainty: 0.36)"
       ]
      },
      {
       "output_type": "stream",
       "stream": "stdout",
       "text": [
        "\n",
        "Score: 0.0055 for 16 and 13 (certainty: 0.36)"
       ]
      },
      {
       "output_type": "stream",
       "stream": "stdout",
       "text": [
        "\n",
        "Score: 0.0036 for 16 and 14 (certainty: 0.75)"
       ]
      },
      {
       "output_type": "stream",
       "stream": "stdout",
       "text": [
        "\n",
        "Score: 0.0037 for 16 and 14 (certainty: 0.75)"
       ]
      },
      {
       "output_type": "stream",
       "stream": "stdout",
       "text": [
        "\n",
        "Score: 0.0138 for 16 and 27 (certainty: 0.96)"
       ]
      },
      {
       "output_type": "stream",
       "stream": "stdout",
       "text": [
        "\n",
        "Score: 0.0135 for 16 and 17 (certainty: 0.91)"
       ]
      },
      {
       "output_type": "stream",
       "stream": "stdout",
       "text": [
        "\n",
        "Score: 0.0060 for 16 and 19 (certainty: 0.64)"
       ]
      },
      {
       "output_type": "stream",
       "stream": "stdout",
       "text": [
        "\n",
        "Score: 0.0184 for 16 and 31 (certainty: 0.96)"
       ]
      },
      {
       "output_type": "stream",
       "stream": "stdout",
       "text": [
        "\n",
        "Score: 0.0145 for 16 and 21 (certainty: 0.75)"
       ]
      },
      {
       "output_type": "stream",
       "stream": "stdout",
       "text": [
        "\n",
        "Score: 0.0103 for 16 and 23 (certainty: 0.84)"
       ]
      },
      {
       "output_type": "stream",
       "stream": "stdout",
       "text": [
        "\n",
        "Score: 0.0109 for 16 and 25 (certainty: 0.64)"
       ]
      },
      {
       "output_type": "stream",
       "stream": "stdout",
       "text": [
        "\n",
        "Score: 0.0130 for 16 and 23 (certainty: 0.19)\n",
        "Score: 0.0024 for 16 and 31 (certainty: 0.64)"
       ]
      },
      {
       "output_type": "stream",
       "stream": "stdout",
       "text": [
        "\n",
        "Score: 0.0057 for 16 and 15 (certainty: 0.64)\n",
        "Score: 0.0017 for 16 and 23 (certainty: 0.75)"
       ]
      },
      {
       "output_type": "stream",
       "stream": "stdout",
       "text": [
        "\n",
        "Score: 0.0424 for 16 and 18 (certainty: 0.96)"
       ]
      },
      {
       "output_type": "stream",
       "stream": "stdout",
       "text": [
        "\n",
        "Score: 0.0166 for 16 and 15 (certainty: 0.84)"
       ]
      },
      {
       "output_type": "stream",
       "stream": "stdout",
       "text": [
        "\n",
        "Score: 0.0068 for 16 and 16 (certainty: 0.96)"
       ]
      },
      {
       "output_type": "stream",
       "stream": "stdout",
       "text": [
        "\n",
        "Score: 0.0071 for 16 and 23 (certainty: 0.64)"
       ]
      },
      {
       "output_type": "stream",
       "stream": "stdout",
       "text": [
        "\n",
        "Score: 0.0016 for 16 and 23 (certainty: 0.51)"
       ]
      },
      {
       "output_type": "stream",
       "stream": "stdout",
       "text": [
        "\n",
        "Score: 0.0007 for 16 and 32 (certainty: 0.36)\n",
        "Score: 0.0058 for 16 and 15 (certainty: 0.99)"
       ]
      },
      {
       "output_type": "stream",
       "stream": "stdout",
       "text": [
        "\n",
        "Score: 0.0175 for 16 and 24 (certainty: 0.75)"
       ]
      },
      {
       "output_type": "stream",
       "stream": "stdout",
       "text": [
        "\n",
        "Score: 0.0192 for 16 and 25 (certainty: 0.64)"
       ]
      },
      {
       "output_type": "stream",
       "stream": "stdout",
       "text": [
        "\n",
        "Score: 0.0127 for 16 and 30 (certainty: 0.91)"
       ]
      },
      {
       "output_type": "stream",
       "stream": "stdout",
       "text": [
        "\n",
        "Score: 0.0027 for 16 and 32 (certainty: 0.64)"
       ]
      },
      {
       "output_type": "stream",
       "stream": "stdout",
       "text": [
        "\n",
        "['../../images/testsets/Gallagher_small_unresized/16_164.jpg', '../../images/testsets/Gallagher_small_unresized/29_538.jpg']\n",
        "No descriptors found. Returning score 0\n",
        "Score: 0.0065 for 16 and 21 (certainty: 0.84)"
       ]
      },
      {
       "output_type": "stream",
       "stream": "stdout",
       "text": [
        "\n",
        "Score: 0.0050 for 16 and 20 (certainty: 0.84)"
       ]
      },
      {
       "output_type": "stream",
       "stream": "stdout",
       "text": [
        "\n",
        "Score: 0.0233 for 16 and 15 (certainty: 0.84)"
       ]
      },
      {
       "output_type": "stream",
       "stream": "stdout",
       "text": [
        "\n",
        "Score: 0.0124 for 16 and 15 (certainty: 0.96)"
       ]
      },
      {
       "output_type": "stream",
       "stream": "stdout",
       "text": [
        "\n",
        "Score: 0.0119 for 16 and 19 (certainty: 0.84)"
       ]
      },
      {
       "output_type": "stream",
       "stream": "stdout",
       "text": [
        "\n",
        "Score: 0.0185 for 16 and 19 (certainty: 0.84)"
       ]
      },
      {
       "output_type": "stream",
       "stream": "stdout",
       "text": [
        "\n",
        "Score: 0.0141 for 16 and 21 (certainty: 0.91)"
       ]
      },
      {
       "output_type": "stream",
       "stream": "stdout",
       "text": [
        "\n",
        "Score: 0.0082 for 16 and 26 (certainty: 0.75)"
       ]
      },
      {
       "output_type": "stream",
       "stream": "stdout",
       "text": [
        "\n",
        "Score: 0.0054 for 16 and 27 (certainty: 0.36)"
       ]
      },
      {
       "output_type": "stream",
       "stream": "stdout",
       "text": [
        "\n",
        "Score: 0.0155 for 16 and 15 (certainty: 0.91)"
       ]
      },
      {
       "output_type": "stream",
       "stream": "stdout",
       "text": [
        "\n",
        "Score: 0.0224 for 16 and 15 (certainty: 0.84)"
       ]
      },
      {
       "output_type": "stream",
       "stream": "stdout",
       "text": [
        "\n",
        "Score: 0.0054 for 16 and 21 (certainty: 0.51)"
       ]
      },
      {
       "output_type": "stream",
       "stream": "stdout",
       "text": [
        "\n",
        "Score: 0.0030 for 16 and 15 (certainty: 0.19)\n",
        "Score: 0.0254 for 16 and 16 (certainty: 0.91)"
       ]
      },
      {
       "output_type": "stream",
       "stream": "stdout",
       "text": [
        "\n",
        "Score: 0.0016 for 16 and 17 (certainty: 0.36)\n",
        "Score: 0.0040 for 16 and 28 (certainty: 0.36)"
       ]
      },
      {
       "output_type": "stream",
       "stream": "stdout",
       "text": [
        "\n",
        "Score: 0.0211 for 16 and 27 (certainty: 0.84)"
       ]
      },
      {
       "output_type": "stream",
       "stream": "stdout",
       "text": [
        "\n",
        "Score: 0.0034 for 16 and 13 (certainty: 0.51)"
       ]
      },
      {
       "output_type": "stream",
       "stream": "stdout",
       "text": [
        "\n",
        "Score: 0.0110 for 16 and 23 (certainty: 0.91)"
       ]
      },
      {
       "output_type": "stream",
       "stream": "stdout",
       "text": [
        "\n",
        "Score: 0.0218 for 18 and 25 (certainty: 0.75)"
       ]
      },
      {
       "output_type": "stream",
       "stream": "stdout",
       "text": [
        "\n",
        "Score: 0.0111 for 18 and 32 (certainty: 0.64)"
       ]
      },
      {
       "output_type": "stream",
       "stream": "stdout",
       "text": [
        "\n",
        "Score: 0.0092 for 18 and 19 (certainty: 0.51)"
       ]
      },
      {
       "output_type": "stream",
       "stream": "stdout",
       "text": [
        "\n",
        "Score: 0.0297 for 18 and 21 (certainty: 0.91)"
       ]
      },
      {
       "output_type": "stream",
       "stream": "stdout",
       "text": [
        "\n",
        "Score: 0.0242 for 18 and 14 (certainty: 0.51)"
       ]
      },
      {
       "output_type": "stream",
       "stream": "stdout",
       "text": [
        "\n",
        "Score: 0.0057 for 18 and 26 (certainty: 0.36)\n",
        "Score: 0.0083 for 18 and 22 (certainty: 0.51)"
       ]
      },
      {
       "output_type": "stream",
       "stream": "stdout",
       "text": [
        "\n",
        "Score: 0.0006 for 18 and 29 (certainty: 0.51)"
       ]
      },
      {
       "output_type": "stream",
       "stream": "stdout",
       "text": [
        "\n",
        "Score: 0.0066 for 18 and 13 (certainty: 0.64)"
       ]
      },
      {
       "output_type": "stream",
       "stream": "stdout",
       "text": [
        "\n",
        "Score: 0.0074 for 18 and 28 (certainty: 0.91)"
       ]
      },
      {
       "output_type": "stream",
       "stream": "stdout",
       "text": [
        "\n",
        "Score: 0.0048 for 18 and 13 (certainty: 0.51)"
       ]
      },
      {
       "output_type": "stream",
       "stream": "stdout",
       "text": [
        "\n",
        "Score: 0.0060 for 18 and 14 (certainty: 0.36)"
       ]
      },
      {
       "output_type": "stream",
       "stream": "stdout",
       "text": [
        "\n",
        "Score: 0.0019 for 18 and 14 (certainty: 0.36)"
       ]
      },
      {
       "output_type": "stream",
       "stream": "stdout",
       "text": [
        "\n",
        "Score: 0.0316 for 18 and 27 (certainty: 0.75)"
       ]
      },
      {
       "output_type": "stream",
       "stream": "stdout",
       "text": [
        "\n",
        "Score: 0.0115 for 18 and 17 (certainty: 0.75)"
       ]
      },
      {
       "output_type": "stream",
       "stream": "stdout",
       "text": [
        "\n",
        "Score: 0.0105 for 18 and 19 (certainty: 0.36)"
       ]
      },
      {
       "output_type": "stream",
       "stream": "stdout",
       "text": [
        "\n",
        "Score: 0.0176 for 18 and 31 (certainty: 0.75)"
       ]
      },
      {
       "output_type": "stream",
       "stream": "stdout",
       "text": [
        "\n",
        "Score: 0.0175 for 18 and 21 (certainty: 0.64)"
       ]
      },
      {
       "output_type": "stream",
       "stream": "stdout",
       "text": [
        "\n",
        "Score: 0.0079 for 18 and 23 (certainty: 0.51)"
       ]
      },
      {
       "output_type": "stream",
       "stream": "stdout",
       "text": [
        "\n",
        "Score: 0.0065 for 18 and 25 (certainty: 0.51)"
       ]
      },
      {
       "output_type": "stream",
       "stream": "stdout",
       "text": [
        "\n",
        "Score: 0.0132 for 18 and 23 (certainty: 0.19)\n",
        "Score: 0.0039 for 18 and 31 (certainty: 0.36)"
       ]
      },
      {
       "output_type": "stream",
       "stream": "stdout",
       "text": [
        "\n",
        "Score: 0.0026 for 18 and 15 (certainty: 0.51)\n",
        "Score: 0.0102 for 18 and 23 (certainty: 0.51)"
       ]
      },
      {
       "output_type": "stream",
       "stream": "stdout",
       "text": [
        "\n",
        "Score: 0.0140 for 18 and 18 (certainty: 0.75)"
       ]
      },
      {
       "output_type": "stream",
       "stream": "stdout",
       "text": [
        "\n",
        "Score: 0.0041 for 18 and 15 (certainty: 0.36)"
       ]
      },
      {
       "output_type": "stream",
       "stream": "stdout",
       "text": [
        "\n",
        "Score: 0.0135 for 18 and 16 (certainty: 0.84)"
       ]
      },
      {
       "output_type": "stream",
       "stream": "stdout",
       "text": [
        "\n",
        "Score: 0.0141 for 18 and 23 (certainty: 0.84)"
       ]
      },
      {
       "output_type": "stream",
       "stream": "stdout",
       "text": [
        "\n",
        "Score: 0.0028 for 18 and 23 (certainty: 0.51)"
       ]
      },
      {
       "output_type": "stream",
       "stream": "stdout",
       "text": [
        "\n",
        "Score: 0.0103 for 18 and 32 (certainty: 0.51)\n",
        "Score: 0.0304 for 18 and 15 (certainty: 0.64)"
       ]
      },
      {
       "output_type": "stream",
       "stream": "stdout",
       "text": [
        "\n",
        "Score: 0.0144 for 18 and 24 (certainty: 0.75)"
       ]
      },
      {
       "output_type": "stream",
       "stream": "stdout",
       "text": [
        "\n",
        "Score: 0.0055 for 18 and 25 (certainty: 0.64)"
       ]
      },
      {
       "output_type": "stream",
       "stream": "stdout",
       "text": [
        "\n",
        "Score: 0.0315 for 18 and 30 (certainty: 0.64)"
       ]
      },
      {
       "output_type": "stream",
       "stream": "stdout",
       "text": [
        "\n",
        "Score: 0.0056 for 18 and 32 (certainty: 0.51)"
       ]
      },
      {
       "output_type": "stream",
       "stream": "stdout",
       "text": [
        "\n",
        "['../../images/testsets/Gallagher_small_unresized/18_166.jpg', '../../images/testsets/Gallagher_small_unresized/29_538.jpg']\n",
        "No descriptors found. Returning score 0\n",
        "Score: 0.0066 for 18 and 21 (certainty: 0.91)"
       ]
      },
      {
       "output_type": "stream",
       "stream": "stdout",
       "text": [
        "\n",
        "Score: 0.0150 for 18 and 20 (certainty: 0.51)"
       ]
      },
      {
       "output_type": "stream",
       "stream": "stdout",
       "text": [
        "\n",
        "Score: 0.0110 for 18 and 15 (certainty: 0.64)"
       ]
      },
      {
       "output_type": "stream",
       "stream": "stdout",
       "text": [
        "\n",
        "Score: 0.0129 for 18 and 15 (certainty: 0.51)"
       ]
      },
      {
       "output_type": "stream",
       "stream": "stdout",
       "text": [
        "\n",
        "Score: 0.0060 for 18 and 19 (certainty: 0.51)"
       ]
      },
      {
       "output_type": "stream",
       "stream": "stdout",
       "text": [
        "\n",
        "Score: 0.0089 for 18 and 19 (certainty: 0.51)"
       ]
      },
      {
       "output_type": "stream",
       "stream": "stdout",
       "text": [
        "\n",
        "Score: 0.0118 for 18 and 21 (certainty: 0.51)"
       ]
      },
      {
       "output_type": "stream",
       "stream": "stdout",
       "text": [
        "\n",
        "Score: 0.0163 for 18 and 26 (certainty: 0.75)"
       ]
      },
      {
       "output_type": "stream",
       "stream": "stdout",
       "text": [
        "\n",
        "Score: 0.0042 for 18 and 27 (certainty: 0.51)"
       ]
      },
      {
       "output_type": "stream",
       "stream": "stdout",
       "text": [
        "\n",
        "Score: 0.0057 for 18 and 15 (certainty: 0.51)"
       ]
      },
      {
       "output_type": "stream",
       "stream": "stdout",
       "text": [
        "\n",
        "Score: 0.0026 for 18 and 15 (certainty: 0.64)"
       ]
      },
      {
       "output_type": "stream",
       "stream": "stdout",
       "text": [
        "\n",
        "Score: 0.0119 for 18 and 21 (certainty: 0.75)"
       ]
      },
      {
       "output_type": "stream",
       "stream": "stdout",
       "text": [
        "\n",
        "Score: 0.0139 for 18 and 15 (certainty: 0.19)\n",
        "Score: 0.0246 for 18 and 16 (certainty: 0.75)"
       ]
      },
      {
       "output_type": "stream",
       "stream": "stdout",
       "text": [
        "\n",
        "Score: 0.0374 for 18 and 17 (certainty: 0.51)\n",
        "Score: 0.0047 for 18 and 28 (certainty: 0.36)"
       ]
      },
      {
       "output_type": "stream",
       "stream": "stdout",
       "text": [
        "\n",
        "Score: 0.0119 for 18 and 27 (certainty: 0.51)"
       ]
      },
      {
       "output_type": "stream",
       "stream": "stdout",
       "text": [
        "\n",
        "Score: 0.0164 for 18 and 13 (certainty: 0.75)"
       ]
      },
      {
       "output_type": "stream",
       "stream": "stdout",
       "text": [
        "\n",
        "Score: 0.0232 for 18 and 23 (certainty: 0.64)"
       ]
      },
      {
       "output_type": "stream",
       "stream": "stdout",
       "text": [
        "\n",
        "Score: 0.0172 for 25 and 32 (certainty: 0.99)"
       ]
      },
      {
       "output_type": "stream",
       "stream": "stdout",
       "text": [
        "\n",
        "Score: 0.0064 for 25 and 19 (certainty: 0.84)"
       ]
      },
      {
       "output_type": "stream",
       "stream": "stdout",
       "text": [
        "\n",
        "Score: 0.0169 for 25 and 21 (certainty: 1.00)"
       ]
      },
      {
       "output_type": "stream",
       "stream": "stdout",
       "text": [
        "\n",
        "Score: 0.0075 for 25 and 14 (certainty: 0.84)"
       ]
      },
      {
       "output_type": "stream",
       "stream": "stdout",
       "text": [
        "\n",
        "Score: 0.0105 for 25 and 26 (certainty: 0.51)"
       ]
      },
      {
       "output_type": "stream",
       "stream": "stdout",
       "text": [
        "\n",
        "Score: 0.0078 for 25 and 22 (certainty: 0.36)"
       ]
      },
      {
       "output_type": "stream",
       "stream": "stdout",
       "text": [
        "\n",
        "Score: 0.0132 for 25 and 29 (certainty: 0.75)"
       ]
      },
      {
       "output_type": "stream",
       "stream": "stdout",
       "text": [
        "\n",
        "Score: 0.0101 for 25 and 13 (certainty: 1.00)"
       ]
      },
      {
       "output_type": "stream",
       "stream": "stdout",
       "text": [
        "\n",
        "Score: 0.0055 for 25 and 28 (certainty: 0.84)"
       ]
      },
      {
       "output_type": "stream",
       "stream": "stdout",
       "text": [
        "\n",
        "Score: 0.0061 for 25 and 13 (certainty: 0.36)"
       ]
      },
      {
       "output_type": "stream",
       "stream": "stdout",
       "text": [
        "\n",
        "Score: 0.0093 for 25 and 14 (certainty: 0.75)"
       ]
      },
      {
       "output_type": "stream",
       "stream": "stdout",
       "text": [
        "\n",
        "Score: 0.0192 for 25 and 14 (certainty: 1.00)"
       ]
      },
      {
       "output_type": "stream",
       "stream": "stdout",
       "text": [
        "\n",
        "Score: 0.0177 for 25 and 27 (certainty: 1.00)"
       ]
      },
      {
       "output_type": "stream",
       "stream": "stdout",
       "text": [
        "\n",
        "Score: 0.0147 for 25 and 17 (certainty: 1.00)"
       ]
      },
      {
       "output_type": "stream",
       "stream": "stdout",
       "text": [
        "\n",
        "Score: 0.0020 for 25 and 19 (certainty: 0.51)"
       ]
      },
      {
       "output_type": "stream",
       "stream": "stdout",
       "text": [
        "\n",
        "Score: 0.0118 for 25 and 31 (certainty: 0.91)"
       ]
      },
      {
       "output_type": "stream",
       "stream": "stdout",
       "text": [
        "\n",
        "Score: 0.0081 for 25 and 21 (certainty: 0.51)"
       ]
      },
      {
       "output_type": "stream",
       "stream": "stdout",
       "text": [
        "\n",
        "Score: 0.0157 for 25 and 23 (certainty: 1.00)"
       ]
      },
      {
       "output_type": "stream",
       "stream": "stdout",
       "text": [
        "\n",
        "Score: 0.0031 for 25 and 25 (certainty: 0.75)"
       ]
      },
      {
       "output_type": "stream",
       "stream": "stdout",
       "text": [
        "\n",
        "Score: 0.0011 for 25 and 23 (certainty: 0.19)"
       ]
      },
      {
       "output_type": "stream",
       "stream": "stdout",
       "text": [
        "\n",
        "Score: 0.0115 for 25 and 31 (certainty: 0.84)"
       ]
      },
      {
       "output_type": "stream",
       "stream": "stdout",
       "text": [
        "\n",
        "Score: 0.0066 for 25 and 15 (certainty: 0.75)"
       ]
      },
      {
       "output_type": "stream",
       "stream": "stdout",
       "text": [
        "\n",
        "Score: 0.0146 for 25 and 23 (certainty: 1.00)"
       ]
      },
      {
       "output_type": "stream",
       "stream": "stdout",
       "text": [
        "\n",
        "Score: 0.0045 for 25 and 18 (certainty: 0.75)"
       ]
      },
      {
       "output_type": "stream",
       "stream": "stdout",
       "text": [
        "\n",
        "Score: 0.0049 for 25 and 15 (certainty: 0.84)"
       ]
      },
      {
       "output_type": "stream",
       "stream": "stdout",
       "text": [
        "\n",
        "Score: 0.0015 for 25 and 16 (certainty: 0.96)"
       ]
      },
      {
       "output_type": "stream",
       "stream": "stdout",
       "text": [
        "\n",
        "Score: 0.0221 for 25 and 23 (certainty: 0.91)"
       ]
      },
      {
       "output_type": "stream",
       "stream": "stdout",
       "text": [
        "\n",
        "Score: 0.0101 for 25 and 23 (certainty: 0.84)"
       ]
      },
      {
       "output_type": "stream",
       "stream": "stdout",
       "text": [
        "\n",
        "Score: 0.0091 for 25 and 32 (certainty: 0.51)"
       ]
      },
      {
       "output_type": "stream",
       "stream": "stdout",
       "text": [
        "\n",
        "Score: 0.0019 for 25 and 15 (certainty: 0.64)"
       ]
      },
      {
       "output_type": "stream",
       "stream": "stdout",
       "text": [
        "\n",
        "Score: 0.0162 for 25 and 24 (certainty: 0.99)"
       ]
      },
      {
       "output_type": "stream",
       "stream": "stdout",
       "text": [
        "\n",
        "Score: 0.0030 for 25 and 25 (certainty: 0.75)"
       ]
      },
      {
       "output_type": "stream",
       "stream": "stdout",
       "text": [
        "\n",
        "Score: 0.0154 for 25 and 30 (certainty: 0.96)"
       ]
      },
      {
       "output_type": "stream",
       "stream": "stdout",
       "text": [
        "\n",
        "Score: 0.0050 for 25 and 32 (certainty: 0.51)"
       ]
      },
      {
       "output_type": "stream",
       "stream": "stdout",
       "text": [
        "\n",
        "['../../images/testsets/Gallagher_small_unresized/25_770.jpg', '../../images/testsets/Gallagher_small_unresized/29_538.jpg']\n",
        "No descriptors found. Returning score 0\n",
        "Score: 0.0134 for 25 and 21 (certainty: 1.00)"
       ]
      },
      {
       "output_type": "stream",
       "stream": "stdout",
       "text": [
        "\n",
        "Score: 0.0122 for 25 and 20 (certainty: 0.96)"
       ]
      },
      {
       "output_type": "stream",
       "stream": "stdout",
       "text": [
        "\n",
        "Score: 0.0135 for 25 and 15 (certainty: 1.00)"
       ]
      },
      {
       "output_type": "stream",
       "stream": "stdout",
       "text": [
        "\n",
        "Score: 0.0046 for 25 and 15 (certainty: 0.84)"
       ]
      },
      {
       "output_type": "stream",
       "stream": "stdout",
       "text": [
        "\n",
        "Score: 0.0069 for 25 and 19 (certainty: 0.84)"
       ]
      },
      {
       "output_type": "stream",
       "stream": "stdout",
       "text": [
        "\n",
        "Score: 0.0058 for 25 and 19 (certainty: 0.84)"
       ]
      },
      {
       "output_type": "stream",
       "stream": "stdout",
       "text": [
        "\n",
        "Score: 0.0181 for 25 and 21 (certainty: 0.84)"
       ]
      },
      {
       "output_type": "stream",
       "stream": "stdout",
       "text": [
        "\n",
        "Score: 0.0027 for 25 and 26 (certainty: 0.64)"
       ]
      },
      {
       "output_type": "stream",
       "stream": "stdout",
       "text": [
        "\n",
        "Score: 0.0042 for 25 and 27 (certainty: 0.75)"
       ]
      },
      {
       "output_type": "stream",
       "stream": "stdout",
       "text": [
        "\n",
        "Score: 0.0164 for 25 and 15 (certainty: 1.00)"
       ]
      },
      {
       "output_type": "stream",
       "stream": "stdout",
       "text": [
        "\n",
        "Score: 0.0102 for 25 and 15 (certainty: 0.75)"
       ]
      },
      {
       "output_type": "stream",
       "stream": "stdout",
       "text": [
        "\n",
        "Score: 0.0157 for 25 and 21 (certainty: 0.64)"
       ]
      },
      {
       "output_type": "stream",
       "stream": "stdout",
       "text": [
        "\n",
        "Score: 0.0031 for 25 and 15 (certainty: 0.19)"
       ]
      },
      {
       "output_type": "stream",
       "stream": "stdout",
       "text": [
        "\n",
        "Score: 0.0179 for 25 and 16 (certainty: 0.64)"
       ]
      },
      {
       "output_type": "stream",
       "stream": "stdout",
       "text": [
        "\n",
        "Score: 0.0072 for 25 and 17 (certainty: 0.64)"
       ]
      },
      {
       "output_type": "stream",
       "stream": "stdout",
       "text": [
        "\n",
        "Score: 0.0068 for 25 and 28 (certainty: 0.36)"
       ]
      },
      {
       "output_type": "stream",
       "stream": "stdout",
       "text": [
        "\n",
        "Score: 0.0171 for 25 and 27 (certainty: 0.84)"
       ]
      },
      {
       "output_type": "stream",
       "stream": "stdout",
       "text": [
        "\n",
        "Score: 0.0179 for 25 and 13 (certainty: 1.00)"
       ]
      },
      {
       "output_type": "stream",
       "stream": "stdout",
       "text": [
        "\n",
        "Score: 0.0085 for 25 and 23 (certainty: 0.91)"
       ]
      },
      {
       "output_type": "stream",
       "stream": "stdout",
       "text": [
        "\n",
        "Score: 0.0170 for 32 and 19 (certainty: 0.96)"
       ]
      },
      {
       "output_type": "stream",
       "stream": "stdout",
       "text": [
        "\n",
        "Score: 0.0207 for 32 and 21 (certainty: 0.96)"
       ]
      },
      {
       "output_type": "stream",
       "stream": "stdout",
       "text": [
        "\n",
        "Score: 0.0159 for 32 and 14 (certainty: 0.84)"
       ]
      },
      {
       "output_type": "stream",
       "stream": "stdout",
       "text": [
        "\n",
        "Score: 0.0000 for 32 and 26 (certainty: 0.00)"
       ]
      },
      {
       "output_type": "stream",
       "stream": "stdout",
       "text": [
        "\n",
        "Score: 0.0236 for 32 and 22 (certainty: 0.84)"
       ]
      },
      {
       "output_type": "stream",
       "stream": "stdout",
       "text": [
        "\n",
        "Score: 0.0055 for 32 and 29 (certainty: 0.51)"
       ]
      },
      {
       "output_type": "stream",
       "stream": "stdout",
       "text": [
        "\n",
        "Score: 0.0151 for 32 and 13 (certainty: 0.91)"
       ]
      },
      {
       "output_type": "stream",
       "stream": "stdout",
       "text": [
        "\n",
        "Score: 0.0099 for 32 and 28 (certainty: 0.64)"
       ]
      },
      {
       "output_type": "stream",
       "stream": "stdout",
       "text": [
        "\n",
        "Score: 0.0124 for 32 and 13 (certainty: 0.64)"
       ]
      },
      {
       "output_type": "stream",
       "stream": "stdout",
       "text": [
        "\n",
        "Score: 0.0156 for 32 and 14 (certainty: 0.96)"
       ]
      },
      {
       "output_type": "stream",
       "stream": "stdout",
       "text": [
        "\n",
        "Score: 0.0110 for 32 and 14 (certainty: 0.75)"
       ]
      },
      {
       "output_type": "stream",
       "stream": "stdout",
       "text": [
        "\n",
        "Score: 0.0099 for 32 and 27 (certainty: 0.99)"
       ]
      },
      {
       "output_type": "stream",
       "stream": "stdout",
       "text": [
        "\n",
        "Score: 0.0213 for 32 and 17 (certainty: 1.00)"
       ]
      },
      {
       "output_type": "stream",
       "stream": "stdout",
       "text": [
        "\n",
        "Score: 0.0093 for 32 and 19 (certainty: 0.84)"
       ]
      },
      {
       "output_type": "stream",
       "stream": "stdout",
       "text": [
        "\n",
        "Score: 0.0209 for 32 and 31 (certainty: 0.84)"
       ]
      },
      {
       "output_type": "stream",
       "stream": "stdout",
       "text": [
        "\n",
        "Score: 0.0080 for 32 and 21 (certainty: 0.75)"
       ]
      },
      {
       "output_type": "stream",
       "stream": "stdout",
       "text": [
        "\n",
        "Score: 0.0113 for 32 and 23 (certainty: 0.96)"
       ]
      },
      {
       "output_type": "stream",
       "stream": "stdout",
       "text": [
        "\n",
        "Score: 0.0068 for 32 and 25 (certainty: 0.75)"
       ]
      },
      {
       "output_type": "stream",
       "stream": "stdout",
       "text": [
        "\n",
        "Score: 0.0038 for 32 and 23 (certainty: 0.19)"
       ]
      },
      {
       "output_type": "stream",
       "stream": "stdout",
       "text": [
        "\n",
        "Score: 0.0049 for 32 and 31 (certainty: 0.64)"
       ]
      },
      {
       "output_type": "stream",
       "stream": "stdout",
       "text": [
        "\n",
        "Score: 0.0054 for 32 and 15 (certainty: 0.51)"
       ]
      },
      {
       "output_type": "stream",
       "stream": "stdout",
       "text": [
        "\n",
        "Score: 0.0020 for 32 and 23 (certainty: 0.75)"
       ]
      },
      {
       "output_type": "stream",
       "stream": "stdout",
       "text": [
        "\n",
        "Score: 0.0162 for 32 and 18 (certainty: 0.51)"
       ]
      },
      {
       "output_type": "stream",
       "stream": "stdout",
       "text": [
        "\n",
        "Score: 0.0146 for 32 and 15 (certainty: 0.75)"
       ]
      },
      {
       "output_type": "stream",
       "stream": "stdout",
       "text": [
        "\n",
        "Score: 0.0169 for 32 and 16 (certainty: 0.91)"
       ]
      },
      {
       "output_type": "stream",
       "stream": "stdout",
       "text": [
        "\n",
        "Score: 0.0132 for 32 and 23 (certainty: 0.75)"
       ]
      },
      {
       "output_type": "stream",
       "stream": "stdout",
       "text": [
        "\n",
        "Score: 0.0018 for 32 and 23 (certainty: 0.51)"
       ]
      },
      {
       "output_type": "stream",
       "stream": "stdout",
       "text": [
        "\n",
        "Score: 0.0201 for 32 and 32 (certainty: 0.75)"
       ]
      },
      {
       "output_type": "stream",
       "stream": "stdout",
       "text": [
        "\n",
        "Score: 0.0244 for 32 and 15 (certainty: 1.00)"
       ]
      },
      {
       "output_type": "stream",
       "stream": "stdout",
       "text": [
        "\n",
        "Score: 0.0033 for 32 and 24 (certainty: 0.75)"
       ]
      },
      {
       "output_type": "stream",
       "stream": "stdout",
       "text": [
        "\n",
        "Score: 0.0166 for 32 and 25 (certainty: 0.91)"
       ]
      },
      {
       "output_type": "stream",
       "stream": "stdout",
       "text": [
        "\n",
        "Score: 0.0140 for 32 and 30 (certainty: 0.64)"
       ]
      },
      {
       "output_type": "stream",
       "stream": "stdout",
       "text": [
        "\n",
        "Score: 0.0113 for 32 and 32 (certainty: 0.91)"
       ]
      },
      {
       "output_type": "stream",
       "stream": "stdout",
       "text": [
        "\n",
        "['../../images/testsets/Gallagher_small_unresized/32_642.jpg', '../../images/testsets/Gallagher_small_unresized/29_538.jpg']\n",
        "No descriptors found. Returning score 0\n",
        "Score: 0.0321 for 32 and 21 (certainty: 1.00)"
       ]
      },
      {
       "output_type": "stream",
       "stream": "stdout",
       "text": [
        "\n",
        "Score: 0.0209 for 32 and 20 (certainty: 0.91)"
       ]
      },
      {
       "output_type": "stream",
       "stream": "stdout",
       "text": [
        "\n",
        "Score: 0.0345 for 32 and 15 (certainty: 1.00)"
       ]
      },
      {
       "output_type": "stream",
       "stream": "stdout",
       "text": [
        "\n",
        "Score: 0.0227 for 32 and 15 (certainty: 0.91)"
       ]
      },
      {
       "output_type": "stream",
       "stream": "stdout",
       "text": [
        "\n",
        "Score: 0.0102 for 32 and 19 (certainty: 0.84)"
       ]
      },
      {
       "output_type": "stream",
       "stream": "stdout",
       "text": [
        "\n",
        "Score: 0.0176 for 32 and 19 (certainty: 0.91)"
       ]
      },
      {
       "output_type": "stream",
       "stream": "stdout",
       "text": [
        "\n",
        "Score: 0.0178 for 32 and 21 (certainty: 0.96)"
       ]
      },
      {
       "output_type": "stream",
       "stream": "stdout",
       "text": [
        "\n",
        "Score: 0.0049 for 32 and 26 (certainty: 0.64)"
       ]
      },
      {
       "output_type": "stream",
       "stream": "stdout",
       "text": [
        "\n",
        "Score: 0.0155 for 32 and 27 (certainty: 0.75)"
       ]
      },
      {
       "output_type": "stream",
       "stream": "stdout",
       "text": [
        "\n",
        "Score: 0.0273 for 32 and 15 (certainty: 0.91)"
       ]
      },
      {
       "output_type": "stream",
       "stream": "stdout",
       "text": [
        "\n",
        "Score: 0.0119 for 32 and 15 (certainty: 0.64)"
       ]
      },
      {
       "output_type": "stream",
       "stream": "stdout",
       "text": [
        "\n",
        "Score: 0.0117 for 32 and 21 (certainty: 0.64)"
       ]
      },
      {
       "output_type": "stream",
       "stream": "stdout",
       "text": [
        "\n",
        "Score: 0.0010 for 32 and 15 (certainty: 0.19)"
       ]
      },
      {
       "output_type": "stream",
       "stream": "stdout",
       "text": [
        "\n",
        "Score: 0.0036 for 32 and 16 (certainty: 0.64)"
       ]
      },
      {
       "output_type": "stream",
       "stream": "stdout",
       "text": [
        "\n",
        "Score: 0.0016 for 32 and 17 (certainty: 0.19)"
       ]
      },
      {
       "output_type": "stream",
       "stream": "stdout",
       "text": [
        "\n",
        "Score: 0.0057 for 32 and 28 (certainty: 0.51)"
       ]
      },
      {
       "output_type": "stream",
       "stream": "stdout",
       "text": [
        "\n",
        "Score: 0.0190 for 32 and 27 (certainty: 0.64)"
       ]
      },
      {
       "output_type": "stream",
       "stream": "stdout",
       "text": [
        "\n",
        "Score: 0.0120 for 32 and 13 (certainty: 0.75)"
       ]
      },
      {
       "output_type": "stream",
       "stream": "stdout",
       "text": [
        "\n",
        "Score: 0.0126 for 32 and 23 (certainty: 0.96)"
       ]
      },
      {
       "output_type": "stream",
       "stream": "stdout",
       "text": [
        "\n",
        "Score: 0.0011 for 19 and 21 (certainty: 0.51)"
       ]
      },
      {
       "output_type": "stream",
       "stream": "stdout",
       "text": [
        "\n",
        "Score: 0.0262 for 19 and 14 (certainty: 0.84)"
       ]
      },
      {
       "output_type": "stream",
       "stream": "stdout",
       "text": [
        "\n",
        "Score: 0.0012 for 19 and 26 (certainty: 0.19)"
       ]
      },
      {
       "output_type": "stream",
       "stream": "stdout",
       "text": [
        "\n",
        "Score: 0.0147 for 19 and 22 (certainty: 0.64)"
       ]
      },
      {
       "output_type": "stream",
       "stream": "stdout",
       "text": [
        "\n",
        "Score: 0.0026 for 19 and 29 (certainty: 0.64)"
       ]
      },
      {
       "output_type": "stream",
       "stream": "stdout",
       "text": [
        "\n",
        "Score: 0.0062 for 19 and 13 (certainty: 0.75)"
       ]
      },
      {
       "output_type": "stream",
       "stream": "stdout",
       "text": [
        "\n",
        "Score: 0.0110 for 19 and 28 (certainty: 0.84)"
       ]
      },
      {
       "output_type": "stream",
       "stream": "stdout",
       "text": [
        "\n",
        "Score: 0.0041 for 19 and 13 (certainty: 0.36)"
       ]
      },
      {
       "output_type": "stream",
       "stream": "stdout",
       "text": [
        "\n",
        "Score: 0.0043 for 19 and 14 (certainty: 0.75)"
       ]
      },
      {
       "output_type": "stream",
       "stream": "stdout",
       "text": [
        "\n",
        "Score: 0.0203 for 19 and 14 (certainty: 0.91)"
       ]
      },
      {
       "output_type": "stream",
       "stream": "stdout",
       "text": [
        "\n",
        "Score: 0.0023 for 19 and 27 (certainty: 0.51)"
       ]
      },
      {
       "output_type": "stream",
       "stream": "stdout",
       "text": [
        "\n",
        "Score: 0.0028 for 19 and 17 (certainty: 0.64)"
       ]
      },
      {
       "output_type": "stream",
       "stream": "stdout",
       "text": [
        "\n",
        "Score: 0.0156 for 19 and 19 (certainty: 0.51)"
       ]
      },
      {
       "output_type": "stream",
       "stream": "stdout",
       "text": [
        "\n",
        "Score: 0.0139 for 19 and 31 (certainty: 0.91)"
       ]
      },
      {
       "output_type": "stream",
       "stream": "stdout",
       "text": [
        "\n",
        "Score: 0.0111 for 19 and 21 (certainty: 0.84)"
       ]
      },
      {
       "output_type": "stream",
       "stream": "stdout",
       "text": [
        "\n",
        "Score: 0.0117 for 19 and 23 (certainty: 0.84)"
       ]
      },
      {
       "output_type": "stream",
       "stream": "stdout",
       "text": [
        "\n",
        "Score: 0.0130 for 19 and 25 (certainty: 0.84)"
       ]
      },
      {
       "output_type": "stream",
       "stream": "stdout",
       "text": [
        "\n",
        "Score: 0.0203 for 19 and 23 (certainty: 0.19)\n",
        "Score: 0.0105 for 19 and 31 (certainty: 0.84)"
       ]
      },
      {
       "output_type": "stream",
       "stream": "stdout",
       "text": [
        "\n",
        "Score: 0.0094 for 19 and 15 (certainty: 0.51)"
       ]
      },
      {
       "output_type": "stream",
       "stream": "stdout",
       "text": [
        "\n",
        "Score: 0.0093 for 19 and 23 (certainty: 0.84)"
       ]
      },
      {
       "output_type": "stream",
       "stream": "stdout",
       "text": [
        "\n",
        "Score: 0.0051 for 19 and 18 (certainty: 0.51)"
       ]
      },
      {
       "output_type": "stream",
       "stream": "stdout",
       "text": [
        "\n",
        "Score: 0.0053 for 19 and 15 (certainty: 0.84)"
       ]
      },
      {
       "output_type": "stream",
       "stream": "stdout",
       "text": [
        "\n",
        "Score: 0.0045 for 19 and 16 (certainty: 0.75)"
       ]
      },
      {
       "output_type": "stream",
       "stream": "stdout",
       "text": [
        "\n",
        "Score: 0.0093 for 19 and 23 (certainty: 0.64)"
       ]
      },
      {
       "output_type": "stream",
       "stream": "stdout",
       "text": [
        "\n",
        "Score: 0.0066 for 19 and 23 (certainty: 0.51)"
       ]
      },
      {
       "output_type": "stream",
       "stream": "stdout",
       "text": [
        "\n",
        "Score: 0.0273 for 19 and 32 (certainty: 0.75)"
       ]
      },
      {
       "output_type": "stream",
       "stream": "stdout",
       "text": [
        "\n",
        "Score: 0.0141 for 19 and 15 (certainty: 0.84)"
       ]
      },
      {
       "output_type": "stream",
       "stream": "stdout",
       "text": [
        "\n",
        "Score: 0.0094 for 19 and 24 (certainty: 0.64)"
       ]
      },
      {
       "output_type": "stream",
       "stream": "stdout",
       "text": [
        "\n",
        "Score: 0.0151 for 19 and 25 (certainty: 0.84)"
       ]
      },
      {
       "output_type": "stream",
       "stream": "stdout",
       "text": [
        "\n",
        "Score: 0.0126 for 19 and 30 (certainty: 0.91)"
       ]
      },
      {
       "output_type": "stream",
       "stream": "stdout",
       "text": [
        "\n",
        "Score: 0.0000 for 19 and 32 (certainty: 0.51)"
       ]
      },
      {
       "output_type": "stream",
       "stream": "stdout",
       "text": [
        "\n",
        "['../../images/testsets/Gallagher_small_unresized/19_198.jpg', '../../images/testsets/Gallagher_small_unresized/29_538.jpg']\n",
        "No descriptors found. Returning score 0\n",
        "Score: 0.0024 for 19 and 21 (certainty: 0.84)"
       ]
      },
      {
       "output_type": "stream",
       "stream": "stdout",
       "text": [
        "\n",
        "Score: 0.0246 for 19 and 20 (certainty: 0.99)"
       ]
      },
      {
       "output_type": "stream",
       "stream": "stdout",
       "text": [
        "\n",
        "Score: 0.0102 for 19 and 15 (certainty: 0.84)"
       ]
      },
      {
       "output_type": "stream",
       "stream": "stdout",
       "text": [
        "\n",
        "Score: 0.0140 for 19 and 15 (certainty: 0.75)"
       ]
      },
      {
       "output_type": "stream",
       "stream": "stdout",
       "text": [
        "\n",
        "Score: 0.0511 for 19 and 19 (certainty: 1.00)"
       ]
      },
      {
       "output_type": "stream",
       "stream": "stdout",
       "text": [
        "\n",
        "Score: 0.0550 for 19 and 19 (certainty: 1.00)"
       ]
      },
      {
       "output_type": "stream",
       "stream": "stdout",
       "text": [
        "\n",
        "Score: 0.0061 for 19 and 21 (certainty: 0.75)"
       ]
      },
      {
       "output_type": "stream",
       "stream": "stdout",
       "text": [
        "\n",
        "Score: 0.0026 for 19 and 26 (certainty: 0.75)"
       ]
      },
      {
       "output_type": "stream",
       "stream": "stdout",
       "text": [
        "\n",
        "Score: 0.0087 for 19 and 27 (certainty: 0.64)"
       ]
      },
      {
       "output_type": "stream",
       "stream": "stdout",
       "text": [
        "\n",
        "Score: 0.0033 for 19 and 15 (certainty: 0.64)"
       ]
      },
      {
       "output_type": "stream",
       "stream": "stdout",
       "text": [
        "\n",
        "Score: 0.0056 for 19 and 15 (certainty: 0.64)"
       ]
      },
      {
       "output_type": "stream",
       "stream": "stdout",
       "text": [
        "\n",
        "Score: 0.0026 for 19 and 21 (certainty: 0.36)"
       ]
      },
      {
       "output_type": "stream",
       "stream": "stdout",
       "text": [
        "\n",
        "Score: 0.0057 for 19 and 15 (certainty: 0.19)\n",
        "Score: 0.0042 for 19 and 16 (certainty: 0.75)"
       ]
      },
      {
       "output_type": "stream",
       "stream": "stdout",
       "text": [
        "\n",
        "Score: 0.0092 for 19 and 17 (certainty: 0.36)"
       ]
      },
      {
       "output_type": "stream",
       "stream": "stdout",
       "text": [
        "\n",
        "Score: 0.0028 for 19 and 28 (certainty: 0.36)\n",
        "Score: 0.0139 for 19 and 27 (certainty: 0.75)"
       ]
      },
      {
       "output_type": "stream",
       "stream": "stdout",
       "text": [
        "\n",
        "Score: 0.0027 for 19 and 13 (certainty: 0.64)"
       ]
      },
      {
       "output_type": "stream",
       "stream": "stdout",
       "text": [
        "\n",
        "Score: 0.0098 for 19 and 23 (certainty: 0.84)"
       ]
      },
      {
       "output_type": "stream",
       "stream": "stdout",
       "text": [
        "\n",
        "Score: 0.0059 for 21 and 14 (certainty: 0.75)"
       ]
      },
      {
       "output_type": "stream",
       "stream": "stdout",
       "text": [
        "\n",
        "Score: 0.0053 for 21 and 26 (certainty: 0.51)"
       ]
      },
      {
       "output_type": "stream",
       "stream": "stdout",
       "text": [
        "\n",
        "Score: 0.0079 for 21 and 22 (certainty: 0.36)"
       ]
      },
      {
       "output_type": "stream",
       "stream": "stdout",
       "text": [
        "\n",
        "Score: 0.0110 for 21 and 29 (certainty: 0.91)"
       ]
      },
      {
       "output_type": "stream",
       "stream": "stdout",
       "text": [
        "\n",
        "Score: 0.0084 for 21 and 13 (certainty: 0.91)"
       ]
      },
      {
       "output_type": "stream",
       "stream": "stdout",
       "text": [
        "\n",
        "Score: 0.0005 for 21 and 28 (certainty: 0.75)"
       ]
      },
      {
       "output_type": "stream",
       "stream": "stdout",
       "text": [
        "\n",
        "Score: 0.0007 for 21 and 13 (certainty: 0.51)"
       ]
      },
      {
       "output_type": "stream",
       "stream": "stdout",
       "text": [
        "\n",
        "Score: 0.0144 for 21 and 14 (certainty: 0.36)"
       ]
      },
      {
       "output_type": "stream",
       "stream": "stdout",
       "text": [
        "\n",
        "Score: 0.0265 for 21 and 14 (certainty: 0.99)"
       ]
      },
      {
       "output_type": "stream",
       "stream": "stdout",
       "text": [
        "\n",
        "Score: 0.0346 for 21 and 27 (certainty: 0.96)"
       ]
      },
      {
       "output_type": "stream",
       "stream": "stdout",
       "text": [
        "\n",
        "Score: 0.0065 for 21 and 17 (certainty: 0.99)"
       ]
      },
      {
       "output_type": "stream",
       "stream": "stdout",
       "text": [
        "\n",
        "Score: 0.0078 for 21 and 19 (certainty: 0.36)"
       ]
      },
      {
       "output_type": "stream",
       "stream": "stdout",
       "text": [
        "\n",
        "Score: 0.0218 for 21 and 31 (certainty: 0.75)"
       ]
      },
      {
       "output_type": "stream",
       "stream": "stdout",
       "text": [
        "\n",
        "Score: 0.0061 for 21 and 21 (certainty: 0.36)"
       ]
      },
      {
       "output_type": "stream",
       "stream": "stdout",
       "text": [
        "\n",
        "Score: 0.0059 for 21 and 23 (certainty: 0.99)"
       ]
      },
      {
       "output_type": "stream",
       "stream": "stdout",
       "text": [
        "\n",
        "Score: 0.0214 for 21 and 25 (certainty: 0.75)"
       ]
      },
      {
       "output_type": "stream",
       "stream": "stdout",
       "text": [
        "\n",
        "Score: 0.0052 for 21 and 23 (certainty: 0.19)"
       ]
      },
      {
       "output_type": "stream",
       "stream": "stdout",
       "text": [
        "\n",
        "Score: 0.0363 for 21 and 31 (certainty: 0.91)"
       ]
      },
      {
       "output_type": "stream",
       "stream": "stdout",
       "text": [
        "\n",
        "Score: 0.0048 for 21 and 15 (certainty: 0.64)"
       ]
      },
      {
       "output_type": "stream",
       "stream": "stdout",
       "text": [
        "\n",
        "Score: 0.0058 for 21 and 23 (certainty: 0.75)"
       ]
      },
      {
       "output_type": "stream",
       "stream": "stdout",
       "text": [
        "\n",
        "Score: 0.0046 for 21 and 18 (certainty: 0.96)"
       ]
      },
      {
       "output_type": "stream",
       "stream": "stdout",
       "text": [
        "\n",
        "Score: 0.0041 for 21 and 15 (certainty: 0.51)"
       ]
      },
      {
       "output_type": "stream",
       "stream": "stdout",
       "text": [
        "\n",
        "Score: 0.0070 for 21 and 16 (certainty: 0.91)"
       ]
      },
      {
       "output_type": "stream",
       "stream": "stdout",
       "text": [
        "\n",
        "Score: 0.0142 for 21 and 23 (certainty: 0.51)"
       ]
      },
      {
       "output_type": "stream",
       "stream": "stdout",
       "text": [
        "\n",
        "Score: 0.0032 for 21 and 23 (certainty: 0.36)"
       ]
      },
      {
       "output_type": "stream",
       "stream": "stdout",
       "text": [
        "\n",
        "Score: 0.0170 for 21 and 32 (certainty: 0.64)"
       ]
      },
      {
       "output_type": "stream",
       "stream": "stdout",
       "text": [
        "\n",
        "Score: 0.0010 for 21 and 15 (certainty: 0.64)"
       ]
      },
      {
       "output_type": "stream",
       "stream": "stdout",
       "text": [
        "\n",
        "Score: 0.0119 for 21 and 24 (certainty: 0.64)"
       ]
      },
      {
       "output_type": "stream",
       "stream": "stdout",
       "text": [
        "\n",
        "Score: 0.0005 for 21 and 25 (certainty: 0.64)"
       ]
      },
      {
       "output_type": "stream",
       "stream": "stdout",
       "text": [
        "\n",
        "Score: 0.0221 for 21 and 30 (certainty: 0.96)"
       ]
      },
      {
       "output_type": "stream",
       "stream": "stdout",
       "text": [
        "\n",
        "Score: 0.0039 for 21 and 32 (certainty: 0.36)"
       ]
      },
      {
       "output_type": "stream",
       "stream": "stdout",
       "text": [
        "\n",
        "['../../images/testsets/Gallagher_small_unresized/21_294.jpg', '../../images/testsets/Gallagher_small_unresized/29_538.jpg']\n",
        "No descriptors found. Returning score 0\n",
        "Score: 0.0138 for 21 and 21 (certainty: 1.00)"
       ]
      },
      {
       "output_type": "stream",
       "stream": "stdout",
       "text": [
        "\n",
        "Score: 0.0339 for 21 and 20 (certainty: 0.75)"
       ]
      },
      {
       "output_type": "stream",
       "stream": "stdout",
       "text": [
        "\n",
        "Score: 0.0242 for 21 and 15 (certainty: 1.00)"
       ]
      },
      {
       "output_type": "stream",
       "stream": "stdout",
       "text": [
        "\n",
        "Score: 0.0321 for 21 and 15 (certainty: 0.75)"
       ]
      },
      {
       "output_type": "stream",
       "stream": "stdout",
       "text": [
        "\n",
        "Score: 0.0117 for 21 and 19 (certainty: 0.75)"
       ]
      },
      {
       "output_type": "stream",
       "stream": "stdout",
       "text": [
        "\n",
        "Score: 0.0197 for 21 and 19 (certainty: 0.84)"
       ]
      },
      {
       "output_type": "stream",
       "stream": "stdout",
       "text": [
        "\n",
        "Score: 0.0497 for 21 and 21 (certainty: 1.00)"
       ]
      },
      {
       "output_type": "stream",
       "stream": "stdout",
       "text": [
        "\n",
        "Score: 0.0031 for 21 and 26 (certainty: 0.84)"
       ]
      },
      {
       "output_type": "stream",
       "stream": "stdout",
       "text": [
        "\n",
        "Score: 0.0196 for 21 and 27 (certainty: 0.75)"
       ]
      },
      {
       "output_type": "stream",
       "stream": "stdout",
       "text": [
        "\n",
        "Score: 0.0089 for 21 and 15 (certainty: 0.91)"
       ]
      },
      {
       "output_type": "stream",
       "stream": "stdout",
       "text": [
        "\n",
        "Score: 0.0089 for 21 and 15 (certainty: 0.75)"
       ]
      },
      {
       "output_type": "stream",
       "stream": "stdout",
       "text": [
        "\n",
        "Score: 0.0143 for 21 and 21 (certainty: 0.64)"
       ]
      },
      {
       "output_type": "stream",
       "stream": "stdout",
       "text": [
        "\n",
        "Score: 0.0009 for 21 and 15 (certainty: 0.19)"
       ]
      },
      {
       "output_type": "stream",
       "stream": "stdout",
       "text": [
        "\n",
        "Score: 0.0108 for 21 and 16 (certainty: 0.75)"
       ]
      },
      {
       "output_type": "stream",
       "stream": "stdout",
       "text": [
        "\n",
        "Score: 0.0083 for 21 and 17 (certainty: 0.36)"
       ]
      },
      {
       "output_type": "stream",
       "stream": "stdout",
       "text": [
        "\n",
        "Score: 0.0068 for 21 and 28 (certainty: 0.36)"
       ]
      },
      {
       "output_type": "stream",
       "stream": "stdout",
       "text": [
        "\n",
        "Score: 0.0183 for 21 and 27 (certainty: 0.91)"
       ]
      },
      {
       "output_type": "stream",
       "stream": "stdout",
       "text": [
        "\n",
        "Score: 0.0186 for 21 and 13 (certainty: 0.84)"
       ]
      },
      {
       "output_type": "stream",
       "stream": "stdout",
       "text": [
        "\n",
        "Score: 0.0092 for 21 and 23 (certainty: 0.51)"
       ]
      },
      {
       "output_type": "stream",
       "stream": "stdout",
       "text": [
        "\n",
        "Score: 0.0017 for 14 and 26 (certainty: 0.51)"
       ]
      },
      {
       "output_type": "stream",
       "stream": "stdout",
       "text": [
        "\n",
        "Score: 0.0210 for 14 and 22 (certainty: 0.84)"
       ]
      },
      {
       "output_type": "stream",
       "stream": "stdout",
       "text": [
        "\n",
        "Score: 0.0003 for 14 and 29 (certainty: 0.36)"
       ]
      },
      {
       "output_type": "stream",
       "stream": "stdout",
       "text": [
        "\n",
        "Score: 0.0085 for 14 and 13 (certainty: 0.64)"
       ]
      },
      {
       "output_type": "stream",
       "stream": "stdout",
       "text": [
        "\n",
        "Score: 0.0032 for 14 and 28 (certainty: 0.64)"
       ]
      },
      {
       "output_type": "stream",
       "stream": "stdout",
       "text": [
        "\n",
        "Score: 0.0055 for 14 and 13 (certainty: 0.51)"
       ]
      },
      {
       "output_type": "stream",
       "stream": "stdout",
       "text": [
        "\n",
        "Score: 0.0175 for 14 and 14 (certainty: 0.91)"
       ]
      },
      {
       "output_type": "stream",
       "stream": "stdout",
       "text": [
        "\n",
        "Score: 0.0187 for 14 and 14 (certainty: 0.84)"
       ]
      },
      {
       "output_type": "stream",
       "stream": "stdout",
       "text": [
        "\n",
        "Score: 0.0192 for 14 and 27 (certainty: 0.64)"
       ]
      },
      {
       "output_type": "stream",
       "stream": "stdout",
       "text": [
        "\n",
        "Score: 0.0041 for 14 and 17 (certainty: 0.64)"
       ]
      },
      {
       "output_type": "stream",
       "stream": "stdout",
       "text": [
        "\n",
        "Score: 0.0267 for 14 and 19 (certainty: 0.75)"
       ]
      },
      {
       "output_type": "stream",
       "stream": "stdout",
       "text": [
        "\n",
        "Score: 0.0294 for 14 and 31 (certainty: 0.75)"
       ]
      },
      {
       "output_type": "stream",
       "stream": "stdout",
       "text": [
        "\n",
        "Score: 0.0146 for 14 and 21 (certainty: 0.75)"
       ]
      },
      {
       "output_type": "stream",
       "stream": "stdout",
       "text": [
        "\n",
        "Score: 0.0071 for 14 and 23 (certainty: 0.84)"
       ]
      },
      {
       "output_type": "stream",
       "stream": "stdout",
       "text": [
        "\n",
        "Score: 0.0119 for 14 and 25 (certainty: 0.64)"
       ]
      },
      {
       "output_type": "stream",
       "stream": "stdout",
       "text": [
        "\n",
        "Score: 0.0068 for 14 and 23 (certainty: 0.19)\n",
        "Score: 0.0136 for 14 and 31 (certainty: 0.64)"
       ]
      },
      {
       "output_type": "stream",
       "stream": "stdout",
       "text": [
        "\n",
        "Score: 0.0035 for 14 and 15 (certainty: 0.36)"
       ]
      },
      {
       "output_type": "stream",
       "stream": "stdout",
       "text": [
        "\n",
        "Score: 0.0092 for 14 and 23 (certainty: 0.51)"
       ]
      },
      {
       "output_type": "stream",
       "stream": "stdout",
       "text": [
        "\n",
        "Score: 0.0160 for 14 and 18 (certainty: 0.84)"
       ]
      },
      {
       "output_type": "stream",
       "stream": "stdout",
       "text": [
        "\n",
        "Score: 0.0227 for 14 and 15 (certainty: 0.64)"
       ]
      },
      {
       "output_type": "stream",
       "stream": "stdout",
       "text": [
        "\n",
        "Score: 0.0056 for 14 and 16 (certainty: 0.84)"
       ]
      },
      {
       "output_type": "stream",
       "stream": "stdout",
       "text": [
        "\n",
        "Score: 0.0015 for 14 and 23 (certainty: 0.51)"
       ]
      },
      {
       "output_type": "stream",
       "stream": "stdout",
       "text": [
        "\n",
        "Score: 0.0053 for 14 and 23 (certainty: 0.36)"
       ]
      },
      {
       "output_type": "stream",
       "stream": "stdout",
       "text": [
        "\n",
        "Score: 0.0158 for 14 and 32 (certainty: 0.51)"
       ]
      },
      {
       "output_type": "stream",
       "stream": "stdout",
       "text": [
        "\n",
        "Score: 0.0527 for 14 and 15 (certainty: 1.00)"
       ]
      },
      {
       "output_type": "stream",
       "stream": "stdout",
       "text": [
        "\n",
        "Score: 0.0080 for 14 and 24 (certainty: 0.64)"
       ]
      },
      {
       "output_type": "stream",
       "stream": "stdout",
       "text": [
        "\n",
        "Score: 0.0124 for 14 and 25 (certainty: 0.64)"
       ]
      },
      {
       "output_type": "stream",
       "stream": "stdout",
       "text": [
        "\n",
        "Score: 0.0035 for 14 and 30 (certainty: 0.19)"
       ]
      },
      {
       "output_type": "stream",
       "stream": "stdout",
       "text": [
        "\n",
        "Score: 0.0221 for 14 and 32 (certainty: 0.91)"
       ]
      },
      {
       "output_type": "stream",
       "stream": "stdout",
       "text": [
        "\n",
        "['../../images/testsets/Gallagher_small_unresized/14_206.jpg', '../../images/testsets/Gallagher_small_unresized/29_538.jpg']\n",
        "No descriptors found. Returning score 0\n",
        "Score: 0.0118 for 14 and 21 (certainty: 0.75)"
       ]
      },
      {
       "output_type": "stream",
       "stream": "stdout",
       "text": [
        "\n",
        "Score: 0.0410 for 14 and 20 (certainty: 0.99)"
       ]
      },
      {
       "output_type": "stream",
       "stream": "stdout",
       "text": [
        "\n",
        "Score: 0.0110 for 14 and 15 (certainty: 0.84)"
       ]
      },
      {
       "output_type": "stream",
       "stream": "stdout",
       "text": [
        "\n",
        "Score: 0.0161 for 14 and 15 (certainty: 0.91)"
       ]
      },
      {
       "output_type": "stream",
       "stream": "stdout",
       "text": [
        "\n",
        "Score: 0.0368 for 14 and 19 (certainty: 0.91)"
       ]
      },
      {
       "output_type": "stream",
       "stream": "stdout",
       "text": [
        "\n",
        "Score: 0.0101 for 14 and 19 (certainty: 0.51)"
       ]
      },
      {
       "output_type": "stream",
       "stream": "stdout",
       "text": [
        "\n",
        "Score: 0.0223 for 14 and 21 (certainty: 0.91)"
       ]
      },
      {
       "output_type": "stream",
       "stream": "stdout",
       "text": [
        "\n",
        "Score: 0.0122 for 14 and 26 (certainty: 0.84)"
       ]
      },
      {
       "output_type": "stream",
       "stream": "stdout",
       "text": [
        "\n",
        "Score: 0.0134 for 14 and 27 (certainty: 0.75)"
       ]
      },
      {
       "output_type": "stream",
       "stream": "stdout",
       "text": [
        "\n",
        "Score: 0.0225 for 14 and 15 (certainty: 0.51)"
       ]
      },
      {
       "output_type": "stream",
       "stream": "stdout",
       "text": [
        "\n",
        "Score: 0.0148 for 14 and 15 (certainty: 0.75)"
       ]
      },
      {
       "output_type": "stream",
       "stream": "stdout",
       "text": [
        "\n",
        "Score: 0.0141 for 14 and 21 (certainty: 0.64)"
       ]
      },
      {
       "output_type": "stream",
       "stream": "stdout",
       "text": [
        "\n",
        "Score: 0.0030 for 14 and 15 (certainty: 0.19)\n",
        "Score: 0.0311 for 14 and 16 (certainty: 0.91)"
       ]
      },
      {
       "output_type": "stream",
       "stream": "stdout",
       "text": [
        "\n",
        "Score: 0.0191 for 14 and 17 (certainty: 0.75)"
       ]
      },
      {
       "output_type": "stream",
       "stream": "stdout",
       "text": [
        "\n",
        "Score: 0.0105 for 14 and 28 (certainty: 0.36)"
       ]
      },
      {
       "output_type": "stream",
       "stream": "stdout",
       "text": [
        "\n",
        "Score: 0.0121 for 14 and 27 (certainty: 0.75)"
       ]
      },
      {
       "output_type": "stream",
       "stream": "stdout",
       "text": [
        "\n",
        "Score: 0.0113 for 14 and 13 (certainty: 0.84)"
       ]
      },
      {
       "output_type": "stream",
       "stream": "stdout",
       "text": [
        "\n",
        "Score: 0.0082 for 14 and 23 (certainty: 0.75)"
       ]
      },
      {
       "output_type": "stream",
       "stream": "stdout",
       "text": [
        "\n",
        "Score: 0.0000 for 26 and 22 (certainty: 0.19)\n",
        "Score: 0.0010 for 26 and 29 (certainty: 0.36)"
       ]
      },
      {
       "output_type": "stream",
       "stream": "stdout",
       "text": [
        "\n",
        "Score: 0.0145 for 26 and 13 (certainty: 0.64)"
       ]
      },
      {
       "output_type": "stream",
       "stream": "stdout",
       "text": [
        "\n",
        "Score: 0.0000 for 26 and 28 (certainty: 0.19)"
       ]
      },
      {
       "output_type": "stream",
       "stream": "stdout",
       "text": [
        "\n",
        "Score: 0.0053 for 26 and 13 (certainty: 0.19)"
       ]
      },
      {
       "output_type": "stream",
       "stream": "stdout",
       "text": [
        "\n",
        "Score: 0.0185 for 26 and 14 (certainty: 0.19)"
       ]
      },
      {
       "output_type": "stream",
       "stream": "stdout",
       "text": [
        "\n",
        "Score: 0.0202 for 26 and 14 (certainty: 0.19)"
       ]
      },
      {
       "output_type": "stream",
       "stream": "stdout",
       "text": [
        "\n",
        "Score: 0.0000 for 26 and 27 (certainty: 0.00)"
       ]
      },
      {
       "output_type": "stream",
       "stream": "stdout",
       "text": [
        "\n",
        "Score: 0.0018 for 26 and 17 (certainty: 0.36)"
       ]
      },
      {
       "output_type": "stream",
       "stream": "stdout",
       "text": [
        "\n",
        "Score: 0.0000 for 26 and 19 (certainty: 0.00)"
       ]
      },
      {
       "output_type": "stream",
       "stream": "stdout",
       "text": [
        "\n",
        "Score: 0.0000 for 26 and 31 (certainty: 0.19)"
       ]
      },
      {
       "output_type": "stream",
       "stream": "stdout",
       "text": [
        "\n",
        "Score: 0.0000 for 26 and 21 (certainty: 0.00)"
       ]
      },
      {
       "output_type": "stream",
       "stream": "stdout",
       "text": [
        "\n",
        "Score: 0.0000 for 26 and 23 (certainty: 0.00)"
       ]
      },
      {
       "output_type": "stream",
       "stream": "stdout",
       "text": [
        "\n",
        "Score: 0.0008 for 26 and 25 (certainty: 0.36)"
       ]
      },
      {
       "output_type": "stream",
       "stream": "stdout",
       "text": [
        "\n",
        "Score: 0.0000 for 26 and 23 (certainty: 0.00)\n",
        "Score: 0.0000 for 26 and 31 (certainty: 0.00)"
       ]
      },
      {
       "output_type": "stream",
       "stream": "stdout",
       "text": [
        "\n",
        "Score: 0.0000 for 26 and 15 (certainty: 0.00)\n",
        "Score: 0.0166 for 26 and 23 (certainty: 0.36)"
       ]
      },
      {
       "output_type": "stream",
       "stream": "stdout",
       "text": [
        "\n",
        "Score: 0.0000 for 26 and 18 (certainty: 0.19)"
       ]
      },
      {
       "output_type": "stream",
       "stream": "stdout",
       "text": [
        "\n",
        "Score: 0.0000 for 26 and 15 (certainty: 0.00)"
       ]
      },
      {
       "output_type": "stream",
       "stream": "stdout",
       "text": [
        "\n",
        "Score: 0.0006 for 26 and 16 (certainty: 0.51)"
       ]
      },
      {
       "output_type": "stream",
       "stream": "stdout",
       "text": [
        "\n",
        "Score: 0.0050 for 26 and 23 (certainty: 0.19)"
       ]
      },
      {
       "output_type": "stream",
       "stream": "stdout",
       "text": [
        "\n",
        "Score: 0.0035 for 26 and 23 (certainty: 0.19)"
       ]
      },
      {
       "output_type": "stream",
       "stream": "stdout",
       "text": [
        "\n",
        "Score: 0.0000 for 26 and 32 (certainty: 0.00)"
       ]
      },
      {
       "output_type": "stream",
       "stream": "stdout",
       "text": [
        "\n",
        "Score: 0.0000 for 26 and 15 (certainty: 0.19)"
       ]
      },
      {
       "output_type": "stream",
       "stream": "stdout",
       "text": [
        "\n",
        "Score: 0.0032 for 26 and 24 (certainty: 0.36)"
       ]
      },
      {
       "output_type": "stream",
       "stream": "stdout",
       "text": [
        "\n",
        "Score: 0.0020 for 26 and 25 (certainty: 0.36)"
       ]
      },
      {
       "output_type": "stream",
       "stream": "stdout",
       "text": [
        "\n",
        "Score: 0.0054 for 26 and 30 (certainty: 0.36)"
       ]
      },
      {
       "output_type": "stream",
       "stream": "stdout",
       "text": [
        "\n",
        "Score: 0.0000 for 26 and 32 (certainty: 0.00)"
       ]
      },
      {
       "output_type": "stream",
       "stream": "stdout",
       "text": [
        "\n",
        "['../../images/testsets/Gallagher_small_unresized/26_535.jpg', '../../images/testsets/Gallagher_small_unresized/29_538.jpg']\n",
        "No descriptors found. Returning score 0\n",
        "Score: 0.0000 for 26 and 21 (certainty: 0.19)"
       ]
      },
      {
       "output_type": "stream",
       "stream": "stdout",
       "text": [
        "\n",
        "Score: 0.0053 for 26 and 20 (certainty: 0.19)"
       ]
      },
      {
       "output_type": "stream",
       "stream": "stdout",
       "text": [
        "\n",
        "Score: 0.0057 for 26 and 15 (certainty: 0.19)"
       ]
      },
      {
       "output_type": "stream",
       "stream": "stdout",
       "text": [
        "\n",
        "Score: 0.0075 for 26 and 15 (certainty: 0.19)"
       ]
      },
      {
       "output_type": "stream",
       "stream": "stdout",
       "text": [
        "\n",
        "Score: 0.0000 for 26 and 19 (certainty: 0.00)"
       ]
      },
      {
       "output_type": "stream",
       "stream": "stdout",
       "text": [
        "\n",
        "Score: 0.0036 for 26 and 19 (certainty: 0.19)"
       ]
      },
      {
       "output_type": "stream",
       "stream": "stdout",
       "text": [
        "\n",
        "Score: 0.0070 for 26 and 21 (certainty: 0.19)"
       ]
      },
      {
       "output_type": "stream",
       "stream": "stdout",
       "text": [
        "\n",
        "Score: 0.0154 for 26 and 26 (certainty: 0.36)"
       ]
      },
      {
       "output_type": "stream",
       "stream": "stdout",
       "text": [
        "\n",
        "Score: 0.0101 for 26 and 27 (certainty: 0.19)"
       ]
      },
      {
       "output_type": "stream",
       "stream": "stdout",
       "text": [
        "\n",
        "Score: 0.0000 for 26 and 15 (certainty: 0.00)"
       ]
      },
      {
       "output_type": "stream",
       "stream": "stdout",
       "text": [
        "\n",
        "Score: 0.0125 for 26 and 15 (certainty: 0.51)"
       ]
      },
      {
       "output_type": "stream",
       "stream": "stdout",
       "text": [
        "\n",
        "Score: 0.0000 for 26 and 21 (certainty: 0.19)\n",
        "Score: 0.0050 for 26 and 15 (certainty: 0.19)"
       ]
      },
      {
       "output_type": "stream",
       "stream": "stdout",
       "text": [
        "\n",
        "Score: 0.0080 for 26 and 16 (certainty: 0.19)"
       ]
      },
      {
       "output_type": "stream",
       "stream": "stdout",
       "text": [
        "\n",
        "Score: 0.0000 for 26 and 17 (certainty: 0.19)\n",
        "Score: 0.0088 for 26 and 28 (certainty: 0.36)"
       ]
      },
      {
       "output_type": "stream",
       "stream": "stdout",
       "text": [
        "\n",
        "Score: 0.0089 for 26 and 27 (certainty: 0.19)"
       ]
      },
      {
       "output_type": "stream",
       "stream": "stdout",
       "text": [
        "\n",
        "Score: 0.0000 for 26 and 13 (certainty: 0.00)\n",
        "Score: 0.0000 for 26 and 23 (certainty: 0.19)"
       ]
      },
      {
       "output_type": "stream",
       "stream": "stdout",
       "text": [
        "\n",
        "Score: 0.0041 for 22 and 29 (certainty: 0.36)"
       ]
      },
      {
       "output_type": "stream",
       "stream": "stdout",
       "text": [
        "\n",
        "Score: 0.0032 for 22 and 13 (certainty: 0.64)"
       ]
      },
      {
       "output_type": "stream",
       "stream": "stdout",
       "text": [
        "\n",
        "Score: 0.0047 for 22 and 28 (certainty: 0.51)"
       ]
      },
      {
       "output_type": "stream",
       "stream": "stdout",
       "text": [
        "\n",
        "Score: 0.0025 for 22 and 13 (certainty: 0.19)\n",
        "Score: 0.0000 for 22 and 14 (certainty: 0.19)"
       ]
      },
      {
       "output_type": "stream",
       "stream": "stdout",
       "text": [
        "\n",
        "Score: 0.0164 for 22 and 14 (certainty: 0.51)"
       ]
      },
      {
       "output_type": "stream",
       "stream": "stdout",
       "text": [
        "\n",
        "Score: 0.0101 for 22 and 27 (certainty: 0.36)"
       ]
      },
      {
       "output_type": "stream",
       "stream": "stdout",
       "text": [
        "\n",
        "Score: 0.0000 for 22 and 17 (certainty: 0.36)"
       ]
      },
      {
       "output_type": "stream",
       "stream": "stdout",
       "text": [
        "\n",
        "Score: 0.0080 for 22 and 19 (certainty: 0.51)\n",
        "Score: 0.0103 for 22 and 31 (certainty: 0.36)"
       ]
      },
      {
       "output_type": "stream",
       "stream": "stdout",
       "text": [
        "\n",
        "Score: 0.0000 for 22 and 21 (certainty: 0.19)"
       ]
      },
      {
       "output_type": "stream",
       "stream": "stdout",
       "text": [
        "\n",
        "Score: 0.0232 for 22 and 23 (certainty: 0.64)"
       ]
      },
      {
       "output_type": "stream",
       "stream": "stdout",
       "text": [
        "\n",
        "Score: 0.0156 for 22 and 25 (certainty: 0.75)"
       ]
      },
      {
       "output_type": "stream",
       "stream": "stdout",
       "text": [
        "\n",
        "Score: 0.0034 for 22 and 23 (certainty: 0.19)\n",
        "Score: 0.0082 for 22 and 31 (certainty: 0.36)"
       ]
      },
      {
       "output_type": "stream",
       "stream": "stdout",
       "text": [
        "\n",
        "Score: 0.0012 for 22 and 15 (certainty: 0.19)\n",
        "Score: 0.0192 for 22 and 23 (certainty: 0.64)"
       ]
      },
      {
       "output_type": "stream",
       "stream": "stdout",
       "text": [
        "\n",
        "Score: 0.0100 for 22 and 18 (certainty: 0.36)"
       ]
      },
      {
       "output_type": "stream",
       "stream": "stdout",
       "text": [
        "\n",
        "Score: 0.0097 for 22 and 15 (certainty: 0.19)"
       ]
      },
      {
       "output_type": "stream",
       "stream": "stdout",
       "text": [
        "\n",
        "Score: 0.0198 for 22 and 16 (certainty: 0.64)"
       ]
      },
      {
       "output_type": "stream",
       "stream": "stdout",
       "text": [
        "\n",
        "Score: 0.0144 for 22 and 23 (certainty: 0.64)"
       ]
      },
      {
       "output_type": "stream",
       "stream": "stdout",
       "text": [
        "\n",
        "Score: 0.0054 for 22 and 23 (certainty: 0.36)"
       ]
      },
      {
       "output_type": "stream",
       "stream": "stdout",
       "text": [
        "\n",
        "Score: 0.0150 for 22 and 32 (certainty: 0.51)"
       ]
      },
      {
       "output_type": "stream",
       "stream": "stdout",
       "text": [
        "\n",
        "Score: 0.0225 for 22 and 15 (certainty: 0.84)"
       ]
      },
      {
       "output_type": "stream",
       "stream": "stdout",
       "text": [
        "\n",
        "Score: 0.0042 for 22 and 24 (certainty: 0.36)"
       ]
      },
      {
       "output_type": "stream",
       "stream": "stdout",
       "text": [
        "\n",
        "Score: 0.0208 for 22 and 25 (certainty: 0.84)"
       ]
      },
      {
       "output_type": "stream",
       "stream": "stdout",
       "text": [
        "\n",
        "Score: 0.0163 for 22 and 30 (certainty: 0.36)"
       ]
      },
      {
       "output_type": "stream",
       "stream": "stdout",
       "text": [
        "\n",
        "Score: 0.0197 for 22 and 32 (certainty: 0.36)"
       ]
      },
      {
       "output_type": "stream",
       "stream": "stdout",
       "text": [
        "\n",
        "['../../images/testsets/Gallagher_small_unresized/22_255.jpg', '../../images/testsets/Gallagher_small_unresized/29_538.jpg']\n",
        "No descriptors found. Returning score 0\n",
        "Score: 0.0009 for 22 and 21 (certainty: 0.51)"
       ]
      },
      {
       "output_type": "stream",
       "stream": "stdout",
       "text": [
        "\n",
        "Score: 0.0387 for 22 and 20 (certainty: 0.75)"
       ]
      },
      {
       "output_type": "stream",
       "stream": "stdout",
       "text": [
        "\n",
        "Score: 0.0028 for 22 and 15 (certainty: 0.51)"
       ]
      },
      {
       "output_type": "stream",
       "stream": "stdout",
       "text": [
        "\n",
        "Score: 0.0160 for 22 and 15 (certainty: 0.51)"
       ]
      },
      {
       "output_type": "stream",
       "stream": "stdout",
       "text": [
        "\n",
        "Score: 0.0433 for 22 and 19 (certainty: 0.84)"
       ]
      },
      {
       "output_type": "stream",
       "stream": "stdout",
       "text": [
        "\n",
        "Score: 0.0115 for 22 and 19 (certainty: 0.51)"
       ]
      },
      {
       "output_type": "stream",
       "stream": "stdout",
       "text": [
        "\n",
        "Score: 0.0115 for 22 and 21 (certainty: 0.36)"
       ]
      },
      {
       "output_type": "stream",
       "stream": "stdout",
       "text": [
        "\n",
        "Score: 0.0014 for 22 and 26 (certainty: 0.64)"
       ]
      },
      {
       "output_type": "stream",
       "stream": "stdout",
       "text": [
        "\n",
        "Score: 0.0268 for 22 and 27 (certainty: 0.75)"
       ]
      },
      {
       "output_type": "stream",
       "stream": "stdout",
       "text": [
        "\n",
        "Score: 0.0048 for 22 and 15 (certainty: 0.19)"
       ]
      },
      {
       "output_type": "stream",
       "stream": "stdout",
       "text": [
        "\n",
        "Score: 0.0170 for 22 and 15 (certainty: 0.36)"
       ]
      },
      {
       "output_type": "stream",
       "stream": "stdout",
       "text": [
        "\n",
        "Score: 0.0010 for 22 and 21 (certainty: 0.36)\n",
        "Score: 0.0064 for 22 and 15 (certainty: 0.19)"
       ]
      },
      {
       "output_type": "stream",
       "stream": "stdout",
       "text": [
        "\n",
        "Score: 0.0106 for 22 and 16 (certainty: 0.36)\n",
        "Score: 0.0031 for 22 and 17 (certainty: 0.19)"
       ]
      },
      {
       "output_type": "stream",
       "stream": "stdout",
       "text": [
        "\n",
        "Score: 0.0125 for 22 and 28 (certainty: 0.36)\n",
        "Score: 0.0000 for 22 and 27 (certainty: 0.19)"
       ]
      },
      {
       "output_type": "stream",
       "stream": "stdout",
       "text": [
        "\n",
        "Score: 0.0000 for 22 and 13 (certainty: 0.36)\n",
        "Score: 0.0133 for 22 and 23 (certainty: 0.64)"
       ]
      },
      {
       "output_type": "stream",
       "stream": "stdout",
       "text": [
        "\n",
        "Score: 0.0096 for 29 and 13 (certainty: 0.96)"
       ]
      },
      {
       "output_type": "stream",
       "stream": "stdout",
       "text": [
        "\n",
        "Score: 0.0078 for 29 and 28 (certainty: 0.84)"
       ]
      },
      {
       "output_type": "stream",
       "stream": "stdout",
       "text": [
        "\n",
        "Score: 0.0012 for 29 and 13 (certainty: 0.36)"
       ]
      },
      {
       "output_type": "stream",
       "stream": "stdout",
       "text": [
        "\n",
        "Score: 0.0016 for 29 and 14 (certainty: 0.36)"
       ]
      },
      {
       "output_type": "stream",
       "stream": "stdout",
       "text": [
        "\n",
        "Score: 0.0026 for 29 and 14 (certainty: 0.75)"
       ]
      },
      {
       "output_type": "stream",
       "stream": "stdout",
       "text": [
        "\n",
        "Score: 0.0138 for 29 and 27 (certainty: 0.64)"
       ]
      },
      {
       "output_type": "stream",
       "stream": "stdout",
       "text": [
        "\n",
        "Score: 0.0040 for 29 and 17 (certainty: 0.75)"
       ]
      },
      {
       "output_type": "stream",
       "stream": "stdout",
       "text": [
        "\n",
        "Score: 0.0042 for 29 and 19 (certainty: 0.64)"
       ]
      },
      {
       "output_type": "stream",
       "stream": "stdout",
       "text": [
        "\n",
        "Score: 0.0134 for 29 and 31 (certainty: 0.84)"
       ]
      },
      {
       "output_type": "stream",
       "stream": "stdout",
       "text": [
        "\n",
        "Score: 0.0065 for 29 and 21 (certainty: 0.84)"
       ]
      },
      {
       "output_type": "stream",
       "stream": "stdout",
       "text": [
        "\n",
        "Score: 0.0096 for 29 and 23 (certainty: 0.84)"
       ]
      },
      {
       "output_type": "stream",
       "stream": "stdout",
       "text": [
        "\n",
        "Score: 0.0173 for 29 and 25 (certainty: 0.84)"
       ]
      },
      {
       "output_type": "stream",
       "stream": "stdout",
       "text": [
        "\n",
        "Score: 0.0061 for 29 and 23 (certainty: 0.19)"
       ]
      },
      {
       "output_type": "stream",
       "stream": "stdout",
       "text": [
        "\n",
        "Score: 0.0049 for 29 and 31 (certainty: 0.75)"
       ]
      },
      {
       "output_type": "stream",
       "stream": "stdout",
       "text": [
        "\n",
        "Score: 0.0124 for 29 and 15 (certainty: 0.36)"
       ]
      },
      {
       "output_type": "stream",
       "stream": "stdout",
       "text": [
        "\n",
        "Score: 0.0100 for 29 and 23 (certainty: 0.75)"
       ]
      },
      {
       "output_type": "stream",
       "stream": "stdout",
       "text": [
        "\n",
        "Score: 0.0126 for 29 and 18 (certainty: 0.91)"
       ]
      },
      {
       "output_type": "stream",
       "stream": "stdout",
       "text": [
        "\n",
        "Score: 0.0106 for 29 and 15 (certainty: 0.64)"
       ]
      },
      {
       "output_type": "stream",
       "stream": "stdout",
       "text": [
        "\n",
        "Score: 0.0000 for 29 and 16 (certainty: 0.19)"
       ]
      },
      {
       "output_type": "stream",
       "stream": "stdout",
       "text": [
        "\n",
        "Score: 0.0087 for 29 and 23 (certainty: 0.96)"
       ]
      },
      {
       "output_type": "stream",
       "stream": "stdout",
       "text": [
        "\n",
        "Score: 0.0107 for 29 and 23 (certainty: 0.75)"
       ]
      },
      {
       "output_type": "stream",
       "stream": "stdout",
       "text": [
        "\n",
        "Score: 0.0071 for 29 and 32 (certainty: 0.51)"
       ]
      },
      {
       "output_type": "stream",
       "stream": "stdout",
       "text": [
        "\n",
        "Score: 0.0226 for 29 and 15 (certainty: 0.84)"
       ]
      },
      {
       "output_type": "stream",
       "stream": "stdout",
       "text": [
        "\n",
        "Score: 0.0115 for 29 and 24 (certainty: 0.64)"
       ]
      },
      {
       "output_type": "stream",
       "stream": "stdout",
       "text": [
        "\n",
        "Score: 0.0132 for 29 and 25 (certainty: 0.91)"
       ]
      },
      {
       "output_type": "stream",
       "stream": "stdout",
       "text": [
        "\n",
        "Score: 0.0080 for 29 and 30 (certainty: 0.91)"
       ]
      },
      {
       "output_type": "stream",
       "stream": "stdout",
       "text": [
        "\n",
        "Score: 0.0092 for 29 and 32 (certainty: 0.51)"
       ]
      },
      {
       "output_type": "stream",
       "stream": "stdout",
       "text": [
        "\n",
        "['../../images/testsets/Gallagher_small_unresized/29_553.jpg', '../../images/testsets/Gallagher_small_unresized/29_538.jpg']\n",
        "No descriptors found. Returning score 0\n",
        "Score: 0.0122 for 29 and 21 (certainty: 0.64)"
       ]
      },
      {
       "output_type": "stream",
       "stream": "stdout",
       "text": [
        "\n",
        "Score: 0.0268 for 29 and 20 (certainty: 0.99)"
       ]
      },
      {
       "output_type": "stream",
       "stream": "stdout",
       "text": [
        "\n",
        "Score: 0.0076 for 29 and 15 (certainty: 0.51)"
       ]
      },
      {
       "output_type": "stream",
       "stream": "stdout",
       "text": [
        "\n",
        "Score: 0.0112 for 29 and 15 (certainty: 0.75)"
       ]
      },
      {
       "output_type": "stream",
       "stream": "stdout",
       "text": [
        "\n",
        "Score: 0.0012 for 29 and 19 (certainty: 0.64)"
       ]
      },
      {
       "output_type": "stream",
       "stream": "stdout",
       "text": [
        "\n",
        "Score: 0.0091 for 29 and 19 (certainty: 0.75)"
       ]
      },
      {
       "output_type": "stream",
       "stream": "stdout",
       "text": [
        "\n",
        "Score: 0.0274 for 29 and 21 (certainty: 0.64)"
       ]
      },
      {
       "output_type": "stream",
       "stream": "stdout",
       "text": [
        "\n",
        "Score: 0.0108 for 29 and 26 (certainty: 0.91)"
       ]
      },
      {
       "output_type": "stream",
       "stream": "stdout",
       "text": [
        "\n",
        "Score: 0.0063 for 29 and 27 (certainty: 0.84)"
       ]
      },
      {
       "output_type": "stream",
       "stream": "stdout",
       "text": [
        "\n",
        "Score: 0.0052 for 29 and 15 (certainty: 0.51)"
       ]
      },
      {
       "output_type": "stream",
       "stream": "stdout",
       "text": [
        "\n",
        "Score: 0.0089 for 29 and 15 (certainty: 0.75)"
       ]
      },
      {
       "output_type": "stream",
       "stream": "stdout",
       "text": [
        "\n",
        "Score: 0.0022 for 29 and 21 (certainty: 0.64)"
       ]
      },
      {
       "output_type": "stream",
       "stream": "stdout",
       "text": [
        "\n",
        "Score: 0.0016 for 29 and 15 (certainty: 0.19)\n",
        "Score: 0.0142 for 29 and 16 (certainty: 0.84)"
       ]
      },
      {
       "output_type": "stream",
       "stream": "stdout",
       "text": [
        "\n",
        "Score: 0.0266 for 29 and 17 (certainty: 0.51)"
       ]
      },
      {
       "output_type": "stream",
       "stream": "stdout",
       "text": [
        "\n",
        "Score: 0.0059 for 29 and 28 (certainty: 0.36)\n",
        "Score: 0.0187 for 29 and 27 (certainty: 0.84)"
       ]
      },
      {
       "output_type": "stream",
       "stream": "stdout",
       "text": [
        "\n",
        "Score: 0.0106 for 29 and 13 (certainty: 0.75)"
       ]
      },
      {
       "output_type": "stream",
       "stream": "stdout",
       "text": [
        "\n",
        "Score: 0.0216 for 29 and 23 (certainty: 1.00)"
       ]
      },
      {
       "output_type": "stream",
       "stream": "stdout",
       "text": [
        "\n",
        "Score: 0.0018 for 13 and 28 (certainty: 0.64)"
       ]
      },
      {
       "output_type": "stream",
       "stream": "stdout",
       "text": [
        "\n",
        "Score: 0.0045 for 13 and 13 (certainty: 0.75)"
       ]
      },
      {
       "output_type": "stream",
       "stream": "stdout",
       "text": [
        "\n",
        "Score: 0.0056 for 13 and 14 (certainty: 0.84)"
       ]
      },
      {
       "output_type": "stream",
       "stream": "stdout",
       "text": [
        "\n",
        "Score: 0.0241 for 13 and 14 (certainty: 0.75)"
       ]
      },
      {
       "output_type": "stream",
       "stream": "stdout",
       "text": [
        "\n",
        "Score: 0.0108 for 13 and 27 (certainty: 1.00)"
       ]
      },
      {
       "output_type": "stream",
       "stream": "stdout",
       "text": [
        "\n",
        "Score: 0.0012 for 13 and 17 (certainty: 0.99)"
       ]
      },
      {
       "output_type": "stream",
       "stream": "stdout",
       "text": [
        "\n",
        "Score: 0.0128 for 13 and 19 (certainty: 0.64)"
       ]
      },
      {
       "output_type": "stream",
       "stream": "stdout",
       "text": [
        "\n",
        "Score: 0.0056 for 13 and 31 (certainty: 0.75)"
       ]
      },
      {
       "output_type": "stream",
       "stream": "stdout",
       "text": [
        "\n",
        "Score: 0.0033 for 13 and 21 (certainty: 0.64)"
       ]
      },
      {
       "output_type": "stream",
       "stream": "stdout",
       "text": [
        "\n",
        "Score: 0.0124 for 13 and 23 (certainty: 1.00)"
       ]
      },
      {
       "output_type": "stream",
       "stream": "stdout",
       "text": [
        "\n",
        "Score: 0.0083 for 13 and 25 (certainty: 0.84)"
       ]
      },
      {
       "output_type": "stream",
       "stream": "stdout",
       "text": [
        "\n",
        "Score: 0.0016 for 13 and 23 (certainty: 0.19)"
       ]
      },
      {
       "output_type": "stream",
       "stream": "stdout",
       "text": [
        "\n",
        "Score: 0.0000 for 13 and 31 (certainty: 0.51)"
       ]
      },
      {
       "output_type": "stream",
       "stream": "stdout",
       "text": [
        "\n",
        "Score: 0.0020 for 13 and 15 (certainty: 0.84)"
       ]
      },
      {
       "output_type": "stream",
       "stream": "stdout",
       "text": [
        "\n",
        "Score: 0.0135 for 13 and 23 (certainty: 0.84)"
       ]
      },
      {
       "output_type": "stream",
       "stream": "stdout",
       "text": [
        "\n",
        "Score: 0.0066 for 13 and 18 (certainty: 0.91)"
       ]
      },
      {
       "output_type": "stream",
       "stream": "stdout",
       "text": [
        "\n",
        "Score: 0.0146 for 13 and 15 (certainty: 0.84)"
       ]
      },
      {
       "output_type": "stream",
       "stream": "stdout",
       "text": [
        "\n",
        "Score: 0.0071 for 13 and 16 (certainty: 0.99)"
       ]
      },
      {
       "output_type": "stream",
       "stream": "stdout",
       "text": [
        "\n",
        "Score: 0.0048 for 13 and 23 (certainty: 0.64)"
       ]
      },
      {
       "output_type": "stream",
       "stream": "stdout",
       "text": [
        "\n",
        "Score: 0.0021 for 13 and 23 (certainty: 0.51)"
       ]
      },
      {
       "output_type": "stream",
       "stream": "stdout",
       "text": [
        "\n",
        "Score: 0.0004 for 13 and 32 (certainty: 0.36)"
       ]
      },
      {
       "output_type": "stream",
       "stream": "stdout",
       "text": [
        "\n",
        "Score: 0.0021 for 13 and 15 (certainty: 0.64)"
       ]
      },
      {
       "output_type": "stream",
       "stream": "stdout",
       "text": [
        "\n",
        "Score: 0.0118 for 13 and 24 (certainty: 0.84)"
       ]
      },
      {
       "output_type": "stream",
       "stream": "stdout",
       "text": [
        "\n",
        "Score: 0.0026 for 13 and 25 (certainty: 0.75)"
       ]
      },
      {
       "output_type": "stream",
       "stream": "stdout",
       "text": [
        "\n",
        "Score: 0.0030 for 13 and 30 (certainty: 0.51)"
       ]
      },
      {
       "output_type": "stream",
       "stream": "stdout",
       "text": [
        "\n",
        "Score: 0.0185 for 13 and 32 (certainty: 0.36)"
       ]
      },
      {
       "output_type": "stream",
       "stream": "stdout",
       "text": [
        "\n",
        "['../../images/testsets/Gallagher_small_unresized/13_168.jpg', '../../images/testsets/Gallagher_small_unresized/29_538.jpg']\n",
        "No descriptors found. Returning score 0\n",
        "Score: 0.0084 for 13 and 21 (certainty: 0.96)"
       ]
      },
      {
       "output_type": "stream",
       "stream": "stdout",
       "text": [
        "\n",
        "Score: 0.0045 for 13 and 20 (certainty: 0.75)"
       ]
      },
      {
       "output_type": "stream",
       "stream": "stdout",
       "text": [
        "\n",
        "Score: 0.0220 for 13 and 15 (certainty: 0.64)"
       ]
      },
      {
       "output_type": "stream",
       "stream": "stdout",
       "text": [
        "\n",
        "Score: 0.0098 for 13 and 15 (certainty: 0.84)"
       ]
      },
      {
       "output_type": "stream",
       "stream": "stdout",
       "text": [
        "\n",
        "Score: 0.0109 for 13 and 19 (certainty: 0.75)"
       ]
      },
      {
       "output_type": "stream",
       "stream": "stdout",
       "text": [
        "\n",
        "Score: 0.0014 for 13 and 19 (certainty: 0.36)"
       ]
      },
      {
       "output_type": "stream",
       "stream": "stdout",
       "text": [
        "\n",
        "Score: 0.0054 for 13 and 21 (certainty: 0.64)"
       ]
      },
      {
       "output_type": "stream",
       "stream": "stdout",
       "text": [
        "\n",
        "Score: 0.0150 for 13 and 26 (certainty: 0.91)"
       ]
      },
      {
       "output_type": "stream",
       "stream": "stdout",
       "text": [
        "\n",
        "Score: 0.0057 for 13 and 27 (certainty: 0.64)"
       ]
      },
      {
       "output_type": "stream",
       "stream": "stdout",
       "text": [
        "\n",
        "Score: 0.0147 for 13 and 15 (certainty: 0.75)"
       ]
      },
      {
       "output_type": "stream",
       "stream": "stdout",
       "text": [
        "\n",
        "Score: 0.0152 for 13 and 15 (certainty: 0.96)"
       ]
      },
      {
       "output_type": "stream",
       "stream": "stdout",
       "text": [
        "\n",
        "Score: 0.0091 for 13 and 21 (certainty: 0.64)"
       ]
      },
      {
       "output_type": "stream",
       "stream": "stdout",
       "text": [
        "\n",
        "Score: 0.0019 for 13 and 15 (certainty: 0.19)"
       ]
      },
      {
       "output_type": "stream",
       "stream": "stdout",
       "text": [
        "\n",
        "Score: 0.0200 for 13 and 16 (certainty: 0.96)"
       ]
      },
      {
       "output_type": "stream",
       "stream": "stdout",
       "text": [
        "\n",
        "Score: 0.0050 for 13 and 17 (certainty: 0.36)"
       ]
      },
      {
       "output_type": "stream",
       "stream": "stdout",
       "text": [
        "\n",
        "Score: 0.0024 for 13 and 28 (certainty: 0.36)"
       ]
      },
      {
       "output_type": "stream",
       "stream": "stdout",
       "text": [
        "\n",
        "Score: 0.0203 for 13 and 27 (certainty: 0.64)"
       ]
      },
      {
       "output_type": "stream",
       "stream": "stdout",
       "text": [
        "\n",
        "Score: 0.0180 for 13 and 13 (certainty: 0.96)"
       ]
      },
      {
       "output_type": "stream",
       "stream": "stdout",
       "text": [
        "\n",
        "Score: 0.0138 for 13 and 23 (certainty: 1.00)"
       ]
      },
      {
       "output_type": "stream",
       "stream": "stdout",
       "text": [
        "\n",
        "Score: 0.0040 for 28 and 13 (certainty: 0.75)"
       ]
      },
      {
       "output_type": "stream",
       "stream": "stdout",
       "text": [
        "\n",
        "Score: 0.0042 for 28 and 14 (certainty: 0.75)"
       ]
      },
      {
       "output_type": "stream",
       "stream": "stdout",
       "text": [
        "\n",
        "Score: 0.0131 for 28 and 14 (certainty: 0.91)"
       ]
      },
      {
       "output_type": "stream",
       "stream": "stdout",
       "text": [
        "\n",
        "Score: 0.0110 for 28 and 27 (certainty: 0.96)"
       ]
      },
      {
       "output_type": "stream",
       "stream": "stdout",
       "text": [
        "\n",
        "Score: 0.0046 for 28 and 17 (certainty: 1.00)"
       ]
      },
      {
       "output_type": "stream",
       "stream": "stdout",
       "text": [
        "\n",
        "Score: 0.0013 for 28 and 19 (certainty: 0.51)"
       ]
      },
      {
       "output_type": "stream",
       "stream": "stdout",
       "text": [
        "\n",
        "Score: 0.0107 for 28 and 31 (certainty: 0.84)"
       ]
      },
      {
       "output_type": "stream",
       "stream": "stdout",
       "text": [
        "\n",
        "Score: 0.0019 for 28 and 21 (certainty: 0.75)"
       ]
      },
      {
       "output_type": "stream",
       "stream": "stdout",
       "text": [
        "\n",
        "Score: 0.0043 for 28 and 23 (certainty: 0.84)"
       ]
      },
      {
       "output_type": "stream",
       "stream": "stdout",
       "text": [
        "\n",
        "Score: 0.0329 for 28 and 25 (certainty: 0.99)"
       ]
      },
      {
       "output_type": "stream",
       "stream": "stdout",
       "text": [
        "\n",
        "Score: 0.0031 for 28 and 23 (certainty: 0.19)"
       ]
      },
      {
       "output_type": "stream",
       "stream": "stdout",
       "text": [
        "\n",
        "Score: 0.0012 for 28 and 31 (certainty: 0.84)"
       ]
      },
      {
       "output_type": "stream",
       "stream": "stdout",
       "text": [
        "\n",
        "Score: 0.0085 for 28 and 15 (certainty: 0.51)"
       ]
      },
      {
       "output_type": "stream",
       "stream": "stdout",
       "text": [
        "\n",
        "Score: 0.0168 for 28 and 23 (certainty: 1.00)"
       ]
      },
      {
       "output_type": "stream",
       "stream": "stdout",
       "text": [
        "\n",
        "Score: 0.0055 for 28 and 18 (certainty: 0.75)"
       ]
      },
      {
       "output_type": "stream",
       "stream": "stdout",
       "text": [
        "\n",
        "Score: 0.0005 for 28 and 15 (certainty: 0.75)"
       ]
      },
      {
       "output_type": "stream",
       "stream": "stdout",
       "text": [
        "\n",
        "Score: 0.0047 for 28 and 16 (certainty: 1.00)"
       ]
      },
      {
       "output_type": "stream",
       "stream": "stdout",
       "text": [
        "\n",
        "Score: 0.0279 for 28 and 23 (certainty: 1.00)"
       ]
      },
      {
       "output_type": "stream",
       "stream": "stdout",
       "text": [
        "\n",
        "Score: 0.0128 for 28 and 23 (certainty: 0.91)"
       ]
      },
      {
       "output_type": "stream",
       "stream": "stdout",
       "text": [
        "\n",
        "Score: 0.0196 for 28 and 32 (certainty: 0.64)"
       ]
      },
      {
       "output_type": "stream",
       "stream": "stdout",
       "text": [
        "\n",
        "Score: 0.0025 for 28 and 15 (certainty: 0.84)"
       ]
      },
      {
       "output_type": "stream",
       "stream": "stdout",
       "text": [
        "\n",
        "Score: 0.0000 for 28 and 24 (certainty: 0.51)"
       ]
      },
      {
       "output_type": "stream",
       "stream": "stdout",
       "text": [
        "\n",
        "Score: 0.0273 for 28 and 25 (certainty: 1.00)"
       ]
      },
      {
       "output_type": "stream",
       "stream": "stdout",
       "text": [
        "\n",
        "Score: 0.0236 for 28 and 30 (certainty: 1.00)"
       ]
      },
      {
       "output_type": "stream",
       "stream": "stdout",
       "text": [
        "\n",
        "Score: 0.0090 for 28 and 32 (certainty: 0.51)"
       ]
      },
      {
       "output_type": "stream",
       "stream": "stdout",
       "text": [
        "\n",
        "['../../images/testsets/Gallagher_small_unresized/28_552.jpg', '../../images/testsets/Gallagher_small_unresized/29_538.jpg']\n",
        "No descriptors found. Returning score 0\n",
        "Score: 0.0085 for 28 and 21 (certainty: 0.99)"
       ]
      },
      {
       "output_type": "stream",
       "stream": "stdout",
       "text": [
        "\n",
        "Score: 0.0015 for 28 and 20 (certainty: 0.91)"
       ]
      },
      {
       "output_type": "stream",
       "stream": "stdout",
       "text": [
        "\n",
        "Score: 0.0052 for 28 and 15 (certainty: 0.84)"
       ]
      },
      {
       "output_type": "stream",
       "stream": "stdout",
       "text": [
        "\n",
        "Score: 0.0000 for 28 and 15 (certainty: 0.75)"
       ]
      },
      {
       "output_type": "stream",
       "stream": "stdout",
       "text": [
        "\n",
        "Score: 0.0018 for 28 and 19 (certainty: 0.75)"
       ]
      },
      {
       "output_type": "stream",
       "stream": "stdout",
       "text": [
        "\n",
        "Score: 0.0230 for 28 and 19 (certainty: 0.84)"
       ]
      },
      {
       "output_type": "stream",
       "stream": "stdout",
       "text": [
        "\n",
        "Score: 0.0068 for 28 and 21 (certainty: 0.75)"
       ]
      },
      {
       "output_type": "stream",
       "stream": "stdout",
       "text": [
        "\n",
        "Score: 0.0095 for 28 and 26 (certainty: 0.96)"
       ]
      },
      {
       "output_type": "stream",
       "stream": "stdout",
       "text": [
        "\n",
        "Score: 0.0072 for 28 and 27 (certainty: 0.96)"
       ]
      },
      {
       "output_type": "stream",
       "stream": "stdout",
       "text": [
        "\n",
        "Score: 0.0058 for 28 and 15 (certainty: 1.00)"
       ]
      },
      {
       "output_type": "stream",
       "stream": "stdout",
       "text": [
        "\n",
        "Score: 0.0106 for 28 and 15 (certainty: 0.84)"
       ]
      },
      {
       "output_type": "stream",
       "stream": "stdout",
       "text": [
        "\n",
        "Score: 0.0129 for 28 and 21 (certainty: 0.91)"
       ]
      },
      {
       "output_type": "stream",
       "stream": "stdout",
       "text": [
        "\n",
        "Score: 0.0016 for 28 and 15 (certainty: 0.19)"
       ]
      },
      {
       "output_type": "stream",
       "stream": "stdout",
       "text": [
        "\n",
        "Score: 0.0000 for 28 and 16 (certainty: 0.36)"
       ]
      },
      {
       "output_type": "stream",
       "stream": "stdout",
       "text": [
        "\n",
        "Score: 0.0153 for 28 and 17 (certainty: 0.91)"
       ]
      },
      {
       "output_type": "stream",
       "stream": "stdout",
       "text": [
        "\n",
        "Score: 0.0189 for 28 and 28 (certainty: 0.51)"
       ]
      },
      {
       "output_type": "stream",
       "stream": "stdout",
       "text": [
        "\n",
        "Score: 0.0147 for 28 and 27 (certainty: 0.91)"
       ]
      },
      {
       "output_type": "stream",
       "stream": "stdout",
       "text": [
        "\n",
        "Score: 0.0163 for 28 and 13 (certainty: 0.84)"
       ]
      },
      {
       "output_type": "stream",
       "stream": "stdout",
       "text": [
        "\n",
        "Score: 0.0059 for 28 and 23 (certainty: 0.96)"
       ]
      },
      {
       "output_type": "stream",
       "stream": "stdout",
       "text": [
        "\n",
        "Score: 0.0058 for 13 and 14 (certainty: 0.75)"
       ]
      },
      {
       "output_type": "stream",
       "stream": "stdout",
       "text": [
        "\n",
        "Score: 0.0132 for 13 and 14 (certainty: 0.64)"
       ]
      },
      {
       "output_type": "stream",
       "stream": "stdout",
       "text": [
        "\n",
        "Score: 0.0074 for 13 and 27 (certainty: 0.51)"
       ]
      },
      {
       "output_type": "stream",
       "stream": "stdout",
       "text": [
        "\n",
        "Score: 0.0032 for 13 and 17 (certainty: 0.51)"
       ]
      },
      {
       "output_type": "stream",
       "stream": "stdout",
       "text": [
        "\n",
        "Score: 0.0040 for 13 and 19 (certainty: 0.36)\n",
        "Score: 0.0173 for 13 and 31 (certainty: 0.75)"
       ]
      },
      {
       "output_type": "stream",
       "stream": "stdout",
       "text": [
        "\n",
        "Score: 0.0118 for 13 and 21 (certainty: 0.51)"
       ]
      },
      {
       "output_type": "stream",
       "stream": "stdout",
       "text": [
        "\n",
        "Score: 0.0073 for 13 and 23 (certainty: 0.51)"
       ]
      },
      {
       "output_type": "stream",
       "stream": "stdout",
       "text": [
        "\n",
        "Score: 0.0100 for 13 and 25 (certainty: 0.64)"
       ]
      },
      {
       "output_type": "stream",
       "stream": "stdout",
       "text": [
        "\n",
        "Score: 0.0032 for 13 and 23 (certainty: 0.19)\n",
        "Score: 0.0068 for 13 and 31 (certainty: 0.36)"
       ]
      },
      {
       "output_type": "stream",
       "stream": "stdout",
       "text": [
        "\n",
        "Score: 0.0036 for 13 and 15 (certainty: 0.19)"
       ]
      },
      {
       "output_type": "stream",
       "stream": "stdout",
       "text": [
        "\n",
        "Score: 0.0030 for 13 and 23 (certainty: 0.19)"
       ]
      },
      {
       "output_type": "stream",
       "stream": "stdout",
       "text": [
        "\n",
        "Score: 0.0071 for 13 and 18 (certainty: 0.51)"
       ]
      },
      {
       "output_type": "stream",
       "stream": "stdout",
       "text": [
        "\n",
        "Score: 0.0061 for 13 and 15 (certainty: 0.64)"
       ]
      },
      {
       "output_type": "stream",
       "stream": "stdout",
       "text": [
        "\n",
        "Score: 0.0065 for 13 and 16 (certainty: 0.75)"
       ]
      },
      {
       "output_type": "stream",
       "stream": "stdout",
       "text": [
        "\n",
        "Score: 0.0017 for 13 and 23 (certainty: 0.19)"
       ]
      },
      {
       "output_type": "stream",
       "stream": "stdout",
       "text": [
        "\n",
        "Score: 0.0125 for 13 and 23 (certainty: 0.36)"
       ]
      },
      {
       "output_type": "stream",
       "stream": "stdout",
       "text": [
        "\n",
        "Score: 0.0167 for 13 and 32 (certainty: 0.36)"
       ]
      },
      {
       "output_type": "stream",
       "stream": "stdout",
       "text": [
        "\n",
        "Score: 0.0368 for 13 and 15 (certainty: 0.84)"
       ]
      },
      {
       "output_type": "stream",
       "stream": "stdout",
       "text": [
        "\n",
        "Score: 0.0003 for 13 and 24 (certainty: 0.36)"
       ]
      },
      {
       "output_type": "stream",
       "stream": "stdout",
       "text": [
        "\n",
        "Score: 0.0073 for 13 and 25 (certainty: 0.51)"
       ]
      },
      {
       "output_type": "stream",
       "stream": "stdout",
       "text": [
        "\n",
        "Score: 0.0041 for 13 and 30 (certainty: 0.36)"
       ]
      },
      {
       "output_type": "stream",
       "stream": "stdout",
       "text": [
        "\n",
        "Score: 0.0101 for 13 and 32 (certainty: 0.75)"
       ]
      },
      {
       "output_type": "stream",
       "stream": "stdout",
       "text": [
        "\n",
        "['../../images/testsets/Gallagher_small_unresized/13_145.jpg', '../../images/testsets/Gallagher_small_unresized/29_538.jpg']\n",
        "No descriptors found. Returning score 0\n",
        "Score: 0.0059 for 13 and 21 (certainty: 0.64)"
       ]
      },
      {
       "output_type": "stream",
       "stream": "stdout",
       "text": [
        "\n",
        "Score: 0.0086 for 13 and 20 (certainty: 0.64)"
       ]
      },
      {
       "output_type": "stream",
       "stream": "stdout",
       "text": [
        "\n",
        "Score: 0.0050 for 13 and 15 (certainty: 0.51)"
       ]
      },
      {
       "output_type": "stream",
       "stream": "stdout",
       "text": [
        "\n",
        "Score: 0.0062 for 13 and 15 (certainty: 0.51)"
       ]
      },
      {
       "output_type": "stream",
       "stream": "stdout",
       "text": [
        "\n",
        "Score: 0.0031 for 13 and 19 (certainty: 0.51)"
       ]
      },
      {
       "output_type": "stream",
       "stream": "stdout",
       "text": [
        "\n",
        "Score: 0.0034 for 13 and 19 (certainty: 0.36)"
       ]
      },
      {
       "output_type": "stream",
       "stream": "stdout",
       "text": [
        "\n",
        "Score: 0.0097 for 13 and 21 (certainty: 0.64)"
       ]
      },
      {
       "output_type": "stream",
       "stream": "stdout",
       "text": [
        "\n",
        "Score: 0.0036 for 13 and 26 (certainty: 0.36)"
       ]
      },
      {
       "output_type": "stream",
       "stream": "stdout",
       "text": [
        "\n",
        "Score: 0.0097 for 13 and 27 (certainty: 0.36)"
       ]
      },
      {
       "output_type": "stream",
       "stream": "stdout",
       "text": [
        "\n",
        "Score: 0.0009 for 13 and 15 (certainty: 0.51)"
       ]
      },
      {
       "output_type": "stream",
       "stream": "stdout",
       "text": [
        "\n",
        "Score: 0.0064 for 13 and 15 (certainty: 0.51)"
       ]
      },
      {
       "output_type": "stream",
       "stream": "stdout",
       "text": [
        "\n",
        "Score: 0.0042 for 13 and 21 (certainty: 0.64)\n",
        "Score: 0.0030 for 13 and 15 (certainty: 0.19)"
       ]
      },
      {
       "output_type": "stream",
       "stream": "stdout",
       "text": [
        "\n",
        "Score: 0.0273 for 13 and 16 (certainty: 0.75)"
       ]
      },
      {
       "output_type": "stream",
       "stream": "stdout",
       "text": [
        "\n",
        "Score: 0.0120 for 13 and 17 (certainty: 0.19)\n",
        "Score: 0.0051 for 13 and 28 (certainty: 0.36)"
       ]
      },
      {
       "output_type": "stream",
       "stream": "stdout",
       "text": [
        "\n",
        "Score: 0.0014 for 13 and 27 (certainty: 0.51)"
       ]
      },
      {
       "output_type": "stream",
       "stream": "stdout",
       "text": [
        "\n",
        "Score: 0.0015 for 13 and 13 (certainty: 0.51)"
       ]
      },
      {
       "output_type": "stream",
       "stream": "stdout",
       "text": [
        "\n",
        "Score: 0.0260 for 13 and 23 (certainty: 0.91)"
       ]
      },
      {
       "output_type": "stream",
       "stream": "stdout",
       "text": [
        "\n",
        "Score: 0.0089 for 14 and 14 (certainty: 0.84)"
       ]
      },
      {
       "output_type": "stream",
       "stream": "stdout",
       "text": [
        "\n",
        "Score: 0.0106 for 14 and 27 (certainty: 0.75)"
       ]
      },
      {
       "output_type": "stream",
       "stream": "stdout",
       "text": [
        "\n",
        "Score: 0.0081 for 14 and 17 (certainty: 0.64)"
       ]
      },
      {
       "output_type": "stream",
       "stream": "stdout",
       "text": [
        "\n",
        "Score: 0.0040 for 14 and 19 (certainty: 0.75)"
       ]
      },
      {
       "output_type": "stream",
       "stream": "stdout",
       "text": [
        "\n",
        "Score: 0.0306 for 14 and 31 (certainty: 0.84)"
       ]
      },
      {
       "output_type": "stream",
       "stream": "stdout",
       "text": [
        "\n",
        "Score: 0.0136 for 14 and 21 (certainty: 0.84)"
       ]
      },
      {
       "output_type": "stream",
       "stream": "stdout",
       "text": [
        "\n",
        "Score: 0.0179 for 14 and 23 (certainty: 0.84)"
       ]
      },
      {
       "output_type": "stream",
       "stream": "stdout",
       "text": [
        "\n",
        "Score: 0.0184 for 14 and 25 (certainty: 0.84)"
       ]
      },
      {
       "output_type": "stream",
       "stream": "stdout",
       "text": [
        "\n",
        "Score: 0.0010 for 14 and 23 (certainty: 0.19)"
       ]
      },
      {
       "output_type": "stream",
       "stream": "stdout",
       "text": [
        "\n",
        "Score: 0.0016 for 14 and 31 (certainty: 0.36)"
       ]
      },
      {
       "output_type": "stream",
       "stream": "stdout",
       "text": [
        "\n",
        "Score: 0.0099 for 14 and 15 (certainty: 0.51)"
       ]
      },
      {
       "output_type": "stream",
       "stream": "stdout",
       "text": [
        "\n",
        "Score: 0.0305 for 14 and 23 (certainty: 0.84)"
       ]
      },
      {
       "output_type": "stream",
       "stream": "stdout",
       "text": [
        "\n",
        "Score: 0.0156 for 14 and 18 (certainty: 0.84)"
       ]
      },
      {
       "output_type": "stream",
       "stream": "stdout",
       "text": [
        "\n",
        "Score: 0.0307 for 14 and 15 (certainty: 1.00)"
       ]
      },
      {
       "output_type": "stream",
       "stream": "stdout",
       "text": [
        "\n",
        "Score: 0.0076 for 14 and 16 (certainty: 0.75)"
       ]
      },
      {
       "output_type": "stream",
       "stream": "stdout",
       "text": [
        "\n",
        "Score: 0.0122 for 14 and 23 (certainty: 0.64)"
       ]
      },
      {
       "output_type": "stream",
       "stream": "stdout",
       "text": [
        "\n",
        "Score: 0.0178 for 14 and 23 (certainty: 0.64)"
       ]
      },
      {
       "output_type": "stream",
       "stream": "stdout",
       "text": [
        "\n",
        "Score: 0.0024 for 14 and 32 (certainty: 0.36)"
       ]
      },
      {
       "output_type": "stream",
       "stream": "stdout",
       "text": [
        "\n",
        "Score: 0.0166 for 14 and 15 (certainty: 0.75)"
       ]
      },
      {
       "output_type": "stream",
       "stream": "stdout",
       "text": [
        "\n",
        "Score: 0.0049 for 14 and 24 (certainty: 0.75)"
       ]
      },
      {
       "output_type": "stream",
       "stream": "stdout",
       "text": [
        "\n",
        "Score: 0.0064 for 14 and 25 (certainty: 0.84)"
       ]
      },
      {
       "output_type": "stream",
       "stream": "stdout",
       "text": [
        "\n",
        "Score: 0.0159 for 14 and 30 (certainty: 0.75)"
       ]
      },
      {
       "output_type": "stream",
       "stream": "stdout",
       "text": [
        "\n",
        "Score: 0.0098 for 14 and 32 (certainty: 0.75)"
       ]
      },
      {
       "output_type": "stream",
       "stream": "stdout",
       "text": [
        "\n",
        "['../../images/testsets/Gallagher_small_unresized/14_207.jpg', '../../images/testsets/Gallagher_small_unresized/29_538.jpg']\n",
        "No descriptors found. Returning score 0\n",
        "Score: 0.0047 for 14 and 21 (certainty: 0.75)"
       ]
      },
      {
       "output_type": "stream",
       "stream": "stdout",
       "text": [
        "\n",
        "Score: 0.0258 for 14 and 20 (certainty: 0.84)"
       ]
      },
      {
       "output_type": "stream",
       "stream": "stdout",
       "text": [
        "\n",
        "Score: 0.0020 for 14 and 15 (certainty: 0.64)"
       ]
      },
      {
       "output_type": "stream",
       "stream": "stdout",
       "text": [
        "\n",
        "Score: 0.0240 for 14 and 15 (certainty: 0.99)"
       ]
      },
      {
       "output_type": "stream",
       "stream": "stdout",
       "text": [
        "\n",
        "Score: 0.0037 for 14 and 19 (certainty: 0.51)"
       ]
      },
      {
       "output_type": "stream",
       "stream": "stdout",
       "text": [
        "\n",
        "Score: 0.0138 for 14 and 19 (certainty: 0.75)"
       ]
      },
      {
       "output_type": "stream",
       "stream": "stdout",
       "text": [
        "\n",
        "Score: 0.0031 for 14 and 21 (certainty: 0.36)"
       ]
      },
      {
       "output_type": "stream",
       "stream": "stdout",
       "text": [
        "\n",
        "Score: 0.0011 for 14 and 26 (certainty: 0.51)"
       ]
      },
      {
       "output_type": "stream",
       "stream": "stdout",
       "text": [
        "\n",
        "Score: 0.0176 for 14 and 27 (certainty: 0.64)"
       ]
      },
      {
       "output_type": "stream",
       "stream": "stdout",
       "text": [
        "\n",
        "Score: 0.0119 for 14 and 15 (certainty: 0.91)"
       ]
      },
      {
       "output_type": "stream",
       "stream": "stdout",
       "text": [
        "\n",
        "Score: 0.0180 for 14 and 15 (certainty: 0.75)"
       ]
      },
      {
       "output_type": "stream",
       "stream": "stdout",
       "text": [
        "\n",
        "Score: 0.0072 for 14 and 21 (certainty: 0.36)"
       ]
      },
      {
       "output_type": "stream",
       "stream": "stdout",
       "text": [
        "\n",
        "Score: 0.0033 for 14 and 15 (certainty: 0.19)"
       ]
      },
      {
       "output_type": "stream",
       "stream": "stdout",
       "text": [
        "\n",
        "Score: 0.0278 for 14 and 16 (certainty: 0.75)"
       ]
      },
      {
       "output_type": "stream",
       "stream": "stdout",
       "text": [
        "\n",
        "Score: 0.0006 for 14 and 17 (certainty: 0.36)"
       ]
      },
      {
       "output_type": "stream",
       "stream": "stdout",
       "text": [
        "\n",
        "Score: 0.0051 for 14 and 28 (certainty: 0.36)"
       ]
      },
      {
       "output_type": "stream",
       "stream": "stdout",
       "text": [
        "\n",
        "Score: 0.0043 for 14 and 27 (certainty: 0.36)"
       ]
      },
      {
       "output_type": "stream",
       "stream": "stdout",
       "text": [
        "\n",
        "Score: 0.0200 for 14 and 13 (certainty: 0.75)"
       ]
      },
      {
       "output_type": "stream",
       "stream": "stdout",
       "text": [
        "\n",
        "Score: 0.0209 for 14 and 23 (certainty: 1.00)"
       ]
      },
      {
       "output_type": "stream",
       "stream": "stdout",
       "text": [
        "\n",
        "Score: 0.0070 for 14 and 27 (certainty: 0.64)"
       ]
      },
      {
       "output_type": "stream",
       "stream": "stdout",
       "text": [
        "\n",
        "Score: 0.0050 for 14 and 17 (certainty: 0.84)"
       ]
      },
      {
       "output_type": "stream",
       "stream": "stdout",
       "text": [
        "\n",
        "Score: 0.0000 for 14 and 19 (certainty: 0.19)"
       ]
      },
      {
       "output_type": "stream",
       "stream": "stdout",
       "text": [
        "\n",
        "Score: 0.0112 for 14 and 31 (certainty: 0.75)"
       ]
      },
      {
       "output_type": "stream",
       "stream": "stdout",
       "text": [
        "\n",
        "Score: 0.0000 for 14 and 21 (certainty: 0.00)"
       ]
      },
      {
       "output_type": "stream",
       "stream": "stdout",
       "text": [
        "\n",
        "Score: 0.0046 for 14 and 23 (certainty: 0.75)"
       ]
      },
      {
       "output_type": "stream",
       "stream": "stdout",
       "text": [
        "\n",
        "Score: 0.0207 for 14 and 25 (certainty: 0.84)"
       ]
      },
      {
       "output_type": "stream",
       "stream": "stdout",
       "text": [
        "\n",
        "Score: 0.0069 for 14 and 23 (certainty: 0.19)\n",
        "Score: 0.0188 for 14 and 31 (certainty: 0.84)"
       ]
      },
      {
       "output_type": "stream",
       "stream": "stdout",
       "text": [
        "\n",
        "Score: 0.0006 for 14 and 15 (certainty: 0.36)"
       ]
      },
      {
       "output_type": "stream",
       "stream": "stdout",
       "text": [
        "\n",
        "Score: 0.0159 for 14 and 23 (certainty: 0.75)"
       ]
      },
      {
       "output_type": "stream",
       "stream": "stdout",
       "text": [
        "\n",
        "Score: 0.0088 for 14 and 18 (certainty: 0.64)"
       ]
      },
      {
       "output_type": "stream",
       "stream": "stdout",
       "text": [
        "\n",
        "Score: 0.0162 for 14 and 15 (certainty: 0.75)"
       ]
      },
      {
       "output_type": "stream",
       "stream": "stdout",
       "text": [
        "\n",
        "Score: 0.0053 for 14 and 16 (certainty: 0.96)"
       ]
      },
      {
       "output_type": "stream",
       "stream": "stdout",
       "text": [
        "\n",
        "Score: 0.0107 for 14 and 23 (certainty: 0.51)"
       ]
      },
      {
       "output_type": "stream",
       "stream": "stdout",
       "text": [
        "\n",
        "Score: 0.0012 for 14 and 23 (certainty: 0.36)"
       ]
      },
      {
       "output_type": "stream",
       "stream": "stdout",
       "text": [
        "\n",
        "Score: 0.0260 for 14 and 32 (certainty: 0.51)"
       ]
      },
      {
       "output_type": "stream",
       "stream": "stdout",
       "text": [
        "\n",
        "Score: 0.0077 for 14 and 15 (certainty: 0.51)"
       ]
      },
      {
       "output_type": "stream",
       "stream": "stdout",
       "text": [
        "\n",
        "Score: 0.0053 for 14 and 24 (certainty: 0.36)"
       ]
      },
      {
       "output_type": "stream",
       "stream": "stdout",
       "text": [
        "\n",
        "Score: 0.0103 for 14 and 25 (certainty: 0.51)"
       ]
      },
      {
       "output_type": "stream",
       "stream": "stdout",
       "text": [
        "\n",
        "Score: 0.0065 for 14 and 30 (certainty: 0.36)"
       ]
      },
      {
       "output_type": "stream",
       "stream": "stdout",
       "text": [
        "\n",
        "Score: 0.0000 for 14 and 32 (certainty: 0.19)"
       ]
      },
      {
       "output_type": "stream",
       "stream": "stdout",
       "text": [
        "\n",
        "['../../images/testsets/Gallagher_small_unresized/14_150.jpg', '../../images/testsets/Gallagher_small_unresized/29_538.jpg']\n",
        "No descriptors found. Returning score 0\n",
        "Score: 0.0217 for 14 and 21 (certainty: 0.99)"
       ]
      },
      {
       "output_type": "stream",
       "stream": "stdout",
       "text": [
        "\n",
        "Score: 0.0162 for 14 and 20 (certainty: 0.75)"
       ]
      },
      {
       "output_type": "stream",
       "stream": "stdout",
       "text": [
        "\n",
        "Score: 0.0274 for 14 and 15 (certainty: 1.00)"
       ]
      },
      {
       "output_type": "stream",
       "stream": "stdout",
       "text": [
        "\n",
        "Score: 0.0122 for 14 and 15 (certainty: 0.64)"
       ]
      },
      {
       "output_type": "stream",
       "stream": "stdout",
       "text": [
        "\n",
        "Score: 0.0133 for 14 and 19 (certainty: 0.84)"
       ]
      },
      {
       "output_type": "stream",
       "stream": "stdout",
       "text": [
        "\n",
        "Score: 0.0041 for 14 and 19 (certainty: 0.64)"
       ]
      },
      {
       "output_type": "stream",
       "stream": "stdout",
       "text": [
        "\n",
        "Score: 0.0084 for 14 and 21 (certainty: 0.64)"
       ]
      },
      {
       "output_type": "stream",
       "stream": "stdout",
       "text": [
        "\n",
        "Score: 0.0053 for 14 and 26 (certainty: 0.64)"
       ]
      },
      {
       "output_type": "stream",
       "stream": "stdout",
       "text": [
        "\n",
        "Score: 0.0238 for 14 and 27 (certainty: 0.84)"
       ]
      },
      {
       "output_type": "stream",
       "stream": "stdout",
       "text": [
        "\n",
        "Score: 0.0107 for 14 and 15 (certainty: 0.75)"
       ]
      },
      {
       "output_type": "stream",
       "stream": "stdout",
       "text": [
        "\n",
        "Score: 0.0082 for 14 and 15 (certainty: 0.51)"
       ]
      },
      {
       "output_type": "stream",
       "stream": "stdout",
       "text": [
        "\n",
        "Score: 0.0031 for 14 and 21 (certainty: 0.51)"
       ]
      },
      {
       "output_type": "stream",
       "stream": "stdout",
       "text": [
        "\n",
        "Score: 0.0020 for 14 and 15 (certainty: 0.19)\n",
        "Score: 0.0198 for 14 and 16 (certainty: 0.51)"
       ]
      },
      {
       "output_type": "stream",
       "stream": "stdout",
       "text": [
        "\n",
        "Score: 0.0000 for 14 and 17 (certainty: 0.19)"
       ]
      },
      {
       "output_type": "stream",
       "stream": "stdout",
       "text": [
        "\n",
        "Score: 0.0091 for 14 and 28 (certainty: 0.51)"
       ]
      },
      {
       "output_type": "stream",
       "stream": "stdout",
       "text": [
        "\n",
        "Score: 0.0127 for 14 and 27 (certainty: 0.84)"
       ]
      },
      {
       "output_type": "stream",
       "stream": "stdout",
       "text": [
        "\n",
        "Score: 0.0044 for 14 and 13 (certainty: 0.64)"
       ]
      },
      {
       "output_type": "stream",
       "stream": "stdout",
       "text": [
        "\n",
        "Score: 0.0025 for 14 and 23 (certainty: 0.51)"
       ]
      },
      {
       "output_type": "stream",
       "stream": "stdout",
       "text": [
        "\n",
        "Score: 0.0088 for 27 and 17 (certainty: 1.00)"
       ]
      },
      {
       "output_type": "stream",
       "stream": "stdout",
       "text": [
        "\n",
        "Score: 0.0022 for 27 and 19 (certainty: 0.64)"
       ]
      },
      {
       "output_type": "stream",
       "stream": "stdout",
       "text": [
        "\n",
        "Score: 0.0131 for 27 and 31 (certainty: 0.91)"
       ]
      },
      {
       "output_type": "stream",
       "stream": "stdout",
       "text": [
        "\n",
        "Score: 0.0070 for 27 and 21 (certainty: 0.51)"
       ]
      },
      {
       "output_type": "stream",
       "stream": "stdout",
       "text": [
        "\n",
        "Score: 0.0181 for 27 and 23 (certainty: 1.00)"
       ]
      },
      {
       "output_type": "stream",
       "stream": "stdout",
       "text": [
        "\n",
        "Score: 0.0141 for 27 and 25 (certainty: 0.84)"
       ]
      },
      {
       "output_type": "stream",
       "stream": "stdout",
       "text": [
        "\n",
        "Score: 0.0011 for 27 and 23 (certainty: 0.19)"
       ]
      },
      {
       "output_type": "stream",
       "stream": "stdout",
       "text": [
        "\n",
        "Score: 0.0322 for 27 and 31 (certainty: 0.96)"
       ]
      },
      {
       "output_type": "stream",
       "stream": "stdout",
       "text": [
        "\n",
        "Score: 0.0083 for 27 and 15 (certainty: 0.64)"
       ]
      },
      {
       "output_type": "stream",
       "stream": "stdout",
       "text": [
        "\n",
        "Score: 0.0095 for 27 and 23 (certainty: 0.84)"
       ]
      },
      {
       "output_type": "stream",
       "stream": "stdout",
       "text": [
        "\n",
        "Score: 0.0034 for 27 and 18 (certainty: 0.64)"
       ]
      },
      {
       "output_type": "stream",
       "stream": "stdout",
       "text": [
        "\n",
        "Score: 0.0112 for 27 and 15 (certainty: 0.96)"
       ]
      },
      {
       "output_type": "stream",
       "stream": "stdout",
       "text": [
        "\n",
        "Score: 0.0104 for 27 and 16 (certainty: 0.96)"
       ]
      },
      {
       "output_type": "stream",
       "stream": "stdout",
       "text": [
        "\n",
        "Score: 0.0098 for 27 and 23 (certainty: 0.91)"
       ]
      },
      {
       "output_type": "stream",
       "stream": "stdout",
       "text": [
        "\n",
        "Score: 0.0067 for 27 and 23 (certainty: 0.64)"
       ]
      },
      {
       "output_type": "stream",
       "stream": "stdout",
       "text": [
        "\n",
        "Score: 0.0175 for 27 and 32 (certainty: 0.51)"
       ]
      },
      {
       "output_type": "stream",
       "stream": "stdout",
       "text": [
        "\n",
        "Score: 0.0063 for 27 and 15 (certainty: 0.75)"
       ]
      },
      {
       "output_type": "stream",
       "stream": "stdout",
       "text": [
        "\n",
        "Score: 0.0095 for 27 and 24 (certainty: 0.64)"
       ]
      },
      {
       "output_type": "stream",
       "stream": "stdout",
       "text": [
        "\n",
        "Score: 0.0150 for 27 and 25 (certainty: 0.96)"
       ]
      },
      {
       "output_type": "stream",
       "stream": "stdout",
       "text": [
        "\n",
        "Score: 0.0111 for 27 and 30 (certainty: 0.91)"
       ]
      },
      {
       "output_type": "stream",
       "stream": "stdout",
       "text": [
        "\n",
        "Score: 0.0078 for 27 and 32 (certainty: 0.51)"
       ]
      },
      {
       "output_type": "stream",
       "stream": "stdout",
       "text": [
        "\n",
        "['../../images/testsets/Gallagher_small_unresized/27_566.jpg', '../../images/testsets/Gallagher_small_unresized/29_538.jpg']\n",
        "No descriptors found. Returning score 0\n",
        "Score: 0.0210 for 27 and 21 (certainty: 1.00)"
       ]
      },
      {
       "output_type": "stream",
       "stream": "stdout",
       "text": [
        "\n",
        "Score: 0.0034 for 27 and 20 (certainty: 0.75)"
       ]
      },
      {
       "output_type": "stream",
       "stream": "stdout",
       "text": [
        "\n",
        "Score: 0.0138 for 27 and 15 (certainty: 0.84)"
       ]
      },
      {
       "output_type": "stream",
       "stream": "stdout",
       "text": [
        "\n",
        "Score: 0.0117 for 27 and 15 (certainty: 0.91)"
       ]
      },
      {
       "output_type": "stream",
       "stream": "stdout",
       "text": [
        "\n",
        "Score: 0.0032 for 27 and 19 (certainty: 0.75)"
       ]
      },
      {
       "output_type": "stream",
       "stream": "stdout",
       "text": [
        "\n",
        "Score: 0.0024 for 27 and 19 (certainty: 0.75)"
       ]
      },
      {
       "output_type": "stream",
       "stream": "stdout",
       "text": [
        "\n",
        "Score: 0.0055 for 27 and 21 (certainty: 0.64)"
       ]
      },
      {
       "output_type": "stream",
       "stream": "stdout",
       "text": [
        "\n",
        "Score: 0.0052 for 27 and 26 (certainty: 0.84)"
       ]
      },
      {
       "output_type": "stream",
       "stream": "stdout",
       "text": [
        "\n",
        "Score: 0.0361 for 27 and 27 (certainty: 1.00)"
       ]
      },
      {
       "output_type": "stream",
       "stream": "stdout",
       "text": [
        "\n",
        "Score: 0.0207 for 27 and 15 (certainty: 1.00)"
       ]
      },
      {
       "output_type": "stream",
       "stream": "stdout",
       "text": [
        "\n",
        "Score: 0.0029 for 27 and 15 (certainty: 0.64)"
       ]
      },
      {
       "output_type": "stream",
       "stream": "stdout",
       "text": [
        "\n",
        "Score: 0.0047 for 27 and 21 (certainty: 0.51)"
       ]
      },
      {
       "output_type": "stream",
       "stream": "stdout",
       "text": [
        "\n",
        "Score: 0.0074 for 27 and 15 (certainty: 0.19)"
       ]
      },
      {
       "output_type": "stream",
       "stream": "stdout",
       "text": [
        "\n",
        "Score: 0.0022 for 27 and 16 (certainty: 0.51)"
       ]
      },
      {
       "output_type": "stream",
       "stream": "stdout",
       "text": [
        "\n",
        "Score: 0.0087 for 27 and 17 (certainty: 0.36)"
       ]
      },
      {
       "output_type": "stream",
       "stream": "stdout",
       "text": [
        "\n",
        "Score: 0.0057 for 27 and 28 (certainty: 0.36)"
       ]
      },
      {
       "output_type": "stream",
       "stream": "stdout",
       "text": [
        "\n",
        "Score: 0.0205 for 27 and 27 (certainty: 1.00)"
       ]
      },
      {
       "output_type": "stream",
       "stream": "stdout",
       "text": [
        "\n",
        "Score: 0.0092 for 27 and 13 (certainty: 0.75)"
       ]
      },
      {
       "output_type": "stream",
       "stream": "stdout",
       "text": [
        "\n",
        "Score: 0.0115 for 27 and 23 (certainty: 0.84)"
       ]
      },
      {
       "output_type": "stream",
       "stream": "stdout",
       "text": [
        "\n",
        "Score: 0.0082 for 17 and 19 (certainty: 0.91)"
       ]
      },
      {
       "output_type": "stream",
       "stream": "stdout",
       "text": [
        "\n",
        "Score: 0.0081 for 17 and 31 (certainty: 0.64)"
       ]
      },
      {
       "output_type": "stream",
       "stream": "stdout",
       "text": [
        "\n",
        "Score: 0.0152 for 17 and 21 (certainty: 1.00)"
       ]
      },
      {
       "output_type": "stream",
       "stream": "stdout",
       "text": [
        "\n",
        "Score: 0.0071 for 17 and 23 (certainty: 1.00)"
       ]
      },
      {
       "output_type": "stream",
       "stream": "stdout",
       "text": [
        "\n",
        "Score: 0.0107 for 17 and 25 (certainty: 0.91)"
       ]
      },
      {
       "output_type": "stream",
       "stream": "stdout",
       "text": [
        "\n",
        "Score: 0.0030 for 17 and 23 (certainty: 0.19)"
       ]
      },
      {
       "output_type": "stream",
       "stream": "stdout",
       "text": [
        "\n",
        "Score: 0.0031 for 17 and 31 (certainty: 0.91)"
       ]
      },
      {
       "output_type": "stream",
       "stream": "stdout",
       "text": [
        "\n",
        "Score: 0.0027 for 17 and 15 (certainty: 0.84)"
       ]
      },
      {
       "output_type": "stream",
       "stream": "stdout",
       "text": [
        "\n",
        "Score: 0.0070 for 17 and 23 (certainty: 0.96)"
       ]
      },
      {
       "output_type": "stream",
       "stream": "stdout",
       "text": [
        "\n",
        "Score: 0.0049 for 17 and 18 (certainty: 0.84)"
       ]
      },
      {
       "output_type": "stream",
       "stream": "stdout",
       "text": [
        "\n",
        "Score: 0.0090 for 17 and 15 (certainty: 0.84)"
       ]
      },
      {
       "output_type": "stream",
       "stream": "stdout",
       "text": [
        "\n",
        "Score: 0.0134 for 17 and 16 (certainty: 1.00)"
       ]
      },
      {
       "output_type": "stream",
       "stream": "stdout",
       "text": [
        "\n",
        "Score: 0.0009 for 17 and 23 (certainty: 0.64)"
       ]
      },
      {
       "output_type": "stream",
       "stream": "stdout",
       "text": [
        "\n",
        "Score: 0.0014 for 17 and 23 (certainty: 0.84)"
       ]
      },
      {
       "output_type": "stream",
       "stream": "stdout",
       "text": [
        "\n",
        "Score: 0.0124 for 17 and 32 (certainty: 0.75)"
       ]
      },
      {
       "output_type": "stream",
       "stream": "stdout",
       "text": [
        "\n",
        "Score: 0.0133 for 17 and 15 (certainty: 1.00)"
       ]
      },
      {
       "output_type": "stream",
       "stream": "stdout",
       "text": [
        "\n",
        "Score: 0.0052 for 17 and 24 (certainty: 0.75)"
       ]
      },
      {
       "output_type": "stream",
       "stream": "stdout",
       "text": [
        "\n",
        "Score: 0.0035 for 17 and 25 (certainty: 0.64)"
       ]
      },
      {
       "output_type": "stream",
       "stream": "stdout",
       "text": [
        "\n",
        "Score: 0.0106 for 17 and 30 (certainty: 0.99)"
       ]
      },
      {
       "output_type": "stream",
       "stream": "stdout",
       "text": [
        "\n",
        "Score: 0.0040 for 17 and 32 (certainty: 0.75)"
       ]
      },
      {
       "output_type": "stream",
       "stream": "stdout",
       "text": [
        "\n",
        "['../../images/testsets/Gallagher_small_unresized/17_183.jpg', '../../images/testsets/Gallagher_small_unresized/29_538.jpg']\n",
        "No descriptors found. Returning score 0\n",
        "Score: 0.0081 for 17 and 21 (certainty: 1.00)"
       ]
      },
      {
       "output_type": "stream",
       "stream": "stdout",
       "text": [
        "\n",
        "Score: 0.0122 for 17 and 20 (certainty: 0.96)"
       ]
      },
      {
       "output_type": "stream",
       "stream": "stdout",
       "text": [
        "\n",
        "Score: 0.0026 for 17 and 15 (certainty: 0.84)"
       ]
      },
      {
       "output_type": "stream",
       "stream": "stdout",
       "text": [
        "\n",
        "Score: 0.0046 for 17 and 15 (certainty: 0.84)"
       ]
      },
      {
       "output_type": "stream",
       "stream": "stdout",
       "text": [
        "\n",
        "Score: 0.0031 for 17 and 19 (certainty: 0.96)"
       ]
      },
      {
       "output_type": "stream",
       "stream": "stdout",
       "text": [
        "\n",
        "Score: 0.0079 for 17 and 19 (certainty: 0.64)"
       ]
      },
      {
       "output_type": "stream",
       "stream": "stdout",
       "text": [
        "\n",
        "Score: 0.0093 for 17 and 21 (certainty: 0.96)"
       ]
      },
      {
       "output_type": "stream",
       "stream": "stdout",
       "text": [
        "\n",
        "Score: 0.0060 for 17 and 26 (certainty: 0.99)"
       ]
      },
      {
       "output_type": "stream",
       "stream": "stdout",
       "text": [
        "\n",
        "Score: 0.0122 for 17 and 27 (certainty: 0.96)"
       ]
      },
      {
       "output_type": "stream",
       "stream": "stdout",
       "text": [
        "\n",
        "Score: 0.0128 for 17 and 15 (certainty: 1.00)"
       ]
      },
      {
       "output_type": "stream",
       "stream": "stdout",
       "text": [
        "\n",
        "Score: 0.0028 for 17 and 15 (certainty: 0.84)"
       ]
      },
      {
       "output_type": "stream",
       "stream": "stdout",
       "text": [
        "\n",
        "Score: 0.0034 for 17 and 21 (certainty: 0.36)"
       ]
      },
      {
       "output_type": "stream",
       "stream": "stdout",
       "text": [
        "\n",
        "Score: 0.0040 for 17 and 15 (certainty: 0.19)"
       ]
      },
      {
       "output_type": "stream",
       "stream": "stdout",
       "text": [
        "\n",
        "Score: 0.0028 for 17 and 16 (certainty: 0.96)"
       ]
      },
      {
       "output_type": "stream",
       "stream": "stdout",
       "text": [
        "\n",
        "Score: 0.0020 for 17 and 17 (certainty: 0.19)"
       ]
      },
      {
       "output_type": "stream",
       "stream": "stdout",
       "text": [
        "\n",
        "Score: 0.0041 for 17 and 28 (certainty: 0.51)"
       ]
      },
      {
       "output_type": "stream",
       "stream": "stdout",
       "text": [
        "\n",
        "Score: 0.0101 for 17 and 27 (certainty: 0.84)"
       ]
      },
      {
       "output_type": "stream",
       "stream": "stdout",
       "text": [
        "\n",
        "Score: 0.0076 for 17 and 13 (certainty: 0.75)"
       ]
      },
      {
       "output_type": "stream",
       "stream": "stdout",
       "text": [
        "\n",
        "Score: 0.0123 for 17 and 23 (certainty: 1.00)"
       ]
      },
      {
       "output_type": "stream",
       "stream": "stdout",
       "text": [
        "\n",
        "Score: 0.0141 for 19 and 31 (certainty: 0.84)"
       ]
      },
      {
       "output_type": "stream",
       "stream": "stdout",
       "text": [
        "\n",
        "Score: 0.0304 for 19 and 21 (certainty: 0.91)"
       ]
      },
      {
       "output_type": "stream",
       "stream": "stdout",
       "text": [
        "\n",
        "Score: 0.0036 for 19 and 23 (certainty: 0.75)"
       ]
      },
      {
       "output_type": "stream",
       "stream": "stdout",
       "text": [
        "\n",
        "Score: 0.0022 for 19 and 25 (certainty: 0.19)"
       ]
      },
      {
       "output_type": "stream",
       "stream": "stdout",
       "text": [
        "\n",
        "Score: 0.0103 for 19 and 23 (certainty: 0.19)\n",
        "Score: 0.0077 for 19 and 31 (certainty: 0.36)"
       ]
      },
      {
       "output_type": "stream",
       "stream": "stdout",
       "text": [
        "\n",
        "Score: 0.0000 for 19 and 15 (certainty: 0.00)\n",
        "Score: 0.0038 for 19 and 23 (certainty: 0.51)"
       ]
      },
      {
       "output_type": "stream",
       "stream": "stdout",
       "text": [
        "\n",
        "Score: 0.0124 for 19 and 18 (certainty: 0.64)"
       ]
      },
      {
       "output_type": "stream",
       "stream": "stdout",
       "text": [
        "\n",
        "Score: 0.0103 for 19 and 15 (certainty: 0.91)"
       ]
      },
      {
       "output_type": "stream",
       "stream": "stdout",
       "text": [
        "\n",
        "Score: 0.0057 for 19 and 16 (certainty: 0.75)"
       ]
      },
      {
       "output_type": "stream",
       "stream": "stdout",
       "text": [
        "\n",
        "Score: 0.0101 for 19 and 23 (certainty: 0.36)"
       ]
      },
      {
       "output_type": "stream",
       "stream": "stdout",
       "text": [
        "\n",
        "Score: 0.0002 for 19 and 23 (certainty: 0.36)"
       ]
      },
      {
       "output_type": "stream",
       "stream": "stdout",
       "text": [
        "\n",
        "Score: 0.0026 for 19 and 32 (certainty: 0.51)\n",
        "Score: 0.0427 for 19 and 15 (certainty: 0.91)"
       ]
      },
      {
       "output_type": "stream",
       "stream": "stdout",
       "text": [
        "\n",
        "Score: 0.0067 for 19 and 24 (certainty: 0.36)"
       ]
      },
      {
       "output_type": "stream",
       "stream": "stdout",
       "text": [
        "\n",
        "Score: 0.0114 for 19 and 25 (certainty: 0.51)"
       ]
      },
      {
       "output_type": "stream",
       "stream": "stdout",
       "text": [
        "\n",
        "Score: 0.0198 for 19 and 30 (certainty: 0.51)"
       ]
      },
      {
       "output_type": "stream",
       "stream": "stdout",
       "text": [
        "\n",
        "Score: 0.0202 for 19 and 32 (certainty: 0.84)"
       ]
      },
      {
       "output_type": "stream",
       "stream": "stdout",
       "text": [
        "\n",
        "['../../images/testsets/Gallagher_small_unresized/19_187.jpg', '../../images/testsets/Gallagher_small_unresized/29_538.jpg']\n",
        "No descriptors found. Returning score 0\n",
        "Score: 0.0006 for 19 and 21 (certainty: 0.51)"
       ]
      },
      {
       "output_type": "stream",
       "stream": "stdout",
       "text": [
        "\n",
        "Score: 0.0249 for 19 and 20 (certainty: 0.91)"
       ]
      },
      {
       "output_type": "stream",
       "stream": "stdout",
       "text": [
        "\n",
        "Score: 0.0125 for 19 and 15 (certainty: 0.36)"
       ]
      },
      {
       "output_type": "stream",
       "stream": "stdout",
       "text": [
        "\n",
        "Score: 0.0056 for 19 and 15 (certainty: 0.64)"
       ]
      },
      {
       "output_type": "stream",
       "stream": "stdout",
       "text": [
        "\n",
        "Score: 0.0238 for 19 and 19 (certainty: 0.96)"
       ]
      },
      {
       "output_type": "stream",
       "stream": "stdout",
       "text": [
        "\n",
        "Score: 0.0038 for 19 and 19 (certainty: 0.51)"
       ]
      },
      {
       "output_type": "stream",
       "stream": "stdout",
       "text": [
        "\n",
        "Score: 0.0034 for 19 and 21 (certainty: 0.51)"
       ]
      },
      {
       "output_type": "stream",
       "stream": "stdout",
       "text": [
        "\n",
        "Score: 0.0113 for 19 and 26 (certainty: 0.84)"
       ]
      },
      {
       "output_type": "stream",
       "stream": "stdout",
       "text": [
        "\n",
        "Score: 0.0262 for 19 and 27 (certainty: 0.75)"
       ]
      },
      {
       "output_type": "stream",
       "stream": "stdout",
       "text": [
        "\n",
        "Score: 0.0047 for 19 and 15 (certainty: 0.36)"
       ]
      },
      {
       "output_type": "stream",
       "stream": "stdout",
       "text": [
        "\n",
        "Score: 0.0058 for 19 and 15 (certainty: 0.64)"
       ]
      },
      {
       "output_type": "stream",
       "stream": "stdout",
       "text": [
        "\n",
        "Score: 0.0124 for 19 and 21 (certainty: 0.36)\n",
        "Score: 0.0059 for 19 and 15 (certainty: 0.19)"
       ]
      },
      {
       "output_type": "stream",
       "stream": "stdout",
       "text": [
        "\n",
        "Score: 0.0127 for 19 and 16 (certainty: 0.75)"
       ]
      },
      {
       "output_type": "stream",
       "stream": "stdout",
       "text": [
        "\n",
        "Score: 0.0038 for 19 and 17 (certainty: 0.51)\n",
        "Score: 0.0169 for 19 and 28 (certainty: 0.51)"
       ]
      },
      {
       "output_type": "stream",
       "stream": "stdout",
       "text": [
        "\n",
        "Score: 0.0058 for 19 and 27 (certainty: 0.51)"
       ]
      },
      {
       "output_type": "stream",
       "stream": "stdout",
       "text": [
        "\n",
        "Score: 0.0053 for 19 and 13 (certainty: 0.51)"
       ]
      },
      {
       "output_type": "stream",
       "stream": "stdout",
       "text": [
        "\n",
        "Score: 0.0148 for 19 and 23 (certainty: 0.64)"
       ]
      },
      {
       "output_type": "stream",
       "stream": "stdout",
       "text": [
        "\n",
        "Score: 0.0160 for 31 and 21 (certainty: 0.84)"
       ]
      },
      {
       "output_type": "stream",
       "stream": "stdout",
       "text": [
        "\n",
        "Score: 0.0107 for 31 and 23 (certainty: 0.96)"
       ]
      },
      {
       "output_type": "stream",
       "stream": "stdout",
       "text": [
        "\n",
        "Score: 0.0021 for 31 and 25 (certainty: 0.36)"
       ]
      },
      {
       "output_type": "stream",
       "stream": "stdout",
       "text": [
        "\n",
        "Score: 0.0043 for 31 and 23 (certainty: 0.19)"
       ]
      },
      {
       "output_type": "stream",
       "stream": "stdout",
       "text": [
        "\n",
        "Score: 0.0100 for 31 and 31 (certainty: 0.64)"
       ]
      },
      {
       "output_type": "stream",
       "stream": "stdout",
       "text": [
        "\n",
        "Score: 0.0071 for 31 and 15 (certainty: 0.51)"
       ]
      },
      {
       "output_type": "stream",
       "stream": "stdout",
       "text": [
        "\n",
        "Score: 0.0201 for 31 and 23 (certainty: 0.84)"
       ]
      },
      {
       "output_type": "stream",
       "stream": "stdout",
       "text": [
        "\n",
        "Score: 0.0124 for 31 and 18 (certainty: 0.91)"
       ]
      },
      {
       "output_type": "stream",
       "stream": "stdout",
       "text": [
        "\n",
        "Score: 0.0099 for 31 and 15 (certainty: 0.64)"
       ]
      },
      {
       "output_type": "stream",
       "stream": "stdout",
       "text": [
        "\n",
        "Score: 0.0140 for 31 and 16 (certainty: 0.75)"
       ]
      },
      {
       "output_type": "stream",
       "stream": "stdout",
       "text": [
        "\n",
        "Score: 0.0150 for 31 and 23 (certainty: 0.64)"
       ]
      },
      {
       "output_type": "stream",
       "stream": "stdout",
       "text": [
        "\n",
        "Score: 0.0106 for 31 and 23 (certainty: 0.75)"
       ]
      },
      {
       "output_type": "stream",
       "stream": "stdout",
       "text": [
        "\n",
        "Score: 0.0008 for 31 and 32 (certainty: 0.19)"
       ]
      },
      {
       "output_type": "stream",
       "stream": "stdout",
       "text": [
        "\n",
        "Score: 0.0218 for 31 and 15 (certainty: 0.75)"
       ]
      },
      {
       "output_type": "stream",
       "stream": "stdout",
       "text": [
        "\n",
        "Score: 0.0144 for 31 and 24 (certainty: 0.84)"
       ]
      },
      {
       "output_type": "stream",
       "stream": "stdout",
       "text": [
        "\n",
        "Score: 0.0063 for 31 and 25 (certainty: 0.51)"
       ]
      },
      {
       "output_type": "stream",
       "stream": "stdout",
       "text": [
        "\n",
        "Score: 0.0063 for 31 and 30 (certainty: 0.84)"
       ]
      },
      {
       "output_type": "stream",
       "stream": "stdout",
       "text": [
        "\n",
        "Score: 0.0137 for 31 and 32 (certainty: 0.75)"
       ]
      },
      {
       "output_type": "stream",
       "stream": "stdout",
       "text": [
        "\n",
        "['../../images/testsets/Gallagher_small_unresized/31_580.jpg', '../../images/testsets/Gallagher_small_unresized/29_538.jpg']\n",
        "No descriptors found. Returning score 0\n",
        "Score: 0.0171 for 31 and 21 (certainty: 0.96)"
       ]
      },
      {
       "output_type": "stream",
       "stream": "stdout",
       "text": [
        "\n",
        "Score: 0.0258 for 31 and 20 (certainty: 0.91)"
       ]
      },
      {
       "output_type": "stream",
       "stream": "stdout",
       "text": [
        "\n",
        "Score: 0.0201 for 31 and 15 (certainty: 0.96)"
       ]
      },
      {
       "output_type": "stream",
       "stream": "stdout",
       "text": [
        "\n",
        "Score: 0.0266 for 31 and 15 (certainty: 0.91)"
       ]
      },
      {
       "output_type": "stream",
       "stream": "stdout",
       "text": [
        "\n",
        "Score: 0.0090 for 31 and 19 (certainty: 0.84)"
       ]
      },
      {
       "output_type": "stream",
       "stream": "stdout",
       "text": [
        "\n",
        "Score: 0.0196 for 31 and 19 (certainty: 0.64)"
       ]
      },
      {
       "output_type": "stream",
       "stream": "stdout",
       "text": [
        "\n",
        "Score: 0.0152 for 31 and 21 (certainty: 0.91)"
       ]
      },
      {
       "output_type": "stream",
       "stream": "stdout",
       "text": [
        "\n",
        "Score: 0.0109 for 31 and 26 (certainty: 0.91)"
       ]
      },
      {
       "output_type": "stream",
       "stream": "stdout",
       "text": [
        "\n",
        "Score: 0.0240 for 31 and 27 (certainty: 0.75)"
       ]
      },
      {
       "output_type": "stream",
       "stream": "stdout",
       "text": [
        "\n",
        "Score: 0.0175 for 31 and 15 (certainty: 0.75)"
       ]
      },
      {
       "output_type": "stream",
       "stream": "stdout",
       "text": [
        "\n",
        "Score: 0.0169 for 31 and 15 (certainty: 0.84)"
       ]
      },
      {
       "output_type": "stream",
       "stream": "stdout",
       "text": [
        "\n",
        "Score: 0.0046 for 31 and 21 (certainty: 0.19)"
       ]
      },
      {
       "output_type": "stream",
       "stream": "stdout",
       "text": [
        "\n",
        "Score: 0.0031 for 31 and 15 (certainty: 0.19)"
       ]
      },
      {
       "output_type": "stream",
       "stream": "stdout",
       "text": [
        "\n",
        "Score: 0.0180 for 31 and 16 (certainty: 0.75)"
       ]
      },
      {
       "output_type": "stream",
       "stream": "stdout",
       "text": [
        "\n",
        "Score: 0.0124 for 31 and 17 (certainty: 0.51)"
       ]
      },
      {
       "output_type": "stream",
       "stream": "stdout",
       "text": [
        "\n",
        "Score: 0.0150 for 31 and 28 (certainty: 0.51)"
       ]
      },
      {
       "output_type": "stream",
       "stream": "stdout",
       "text": [
        "\n",
        "Score: 0.0089 for 31 and 27 (certainty: 0.75)"
       ]
      },
      {
       "output_type": "stream",
       "stream": "stdout",
       "text": [
        "\n",
        "Score: 0.0068 for 31 and 13 (certainty: 0.84)"
       ]
      },
      {
       "output_type": "stream",
       "stream": "stdout",
       "text": [
        "\n",
        "Score: 0.0087 for 31 and 23 (certainty: 0.84)"
       ]
      },
      {
       "output_type": "stream",
       "stream": "stdout",
       "text": [
        "\n",
        "Score: 0.0156 for 21 and 23 (certainty: 0.75)"
       ]
      },
      {
       "output_type": "stream",
       "stream": "stdout",
       "text": [
        "\n",
        "Score: 0.0031 for 21 and 25 (certainty: 0.36)"
       ]
      },
      {
       "output_type": "stream",
       "stream": "stdout",
       "text": [
        "\n",
        "Score: 0.0201 for 21 and 23 (certainty: 0.19)"
       ]
      },
      {
       "output_type": "stream",
       "stream": "stdout",
       "text": [
        "\n",
        "Score: 0.0045 for 21 and 31 (certainty: 0.19)"
       ]
      },
      {
       "output_type": "stream",
       "stream": "stdout",
       "text": [
        "\n",
        "Score: 0.0103 for 21 and 15 (certainty: 0.64)"
       ]
      },
      {
       "output_type": "stream",
       "stream": "stdout",
       "text": [
        "\n",
        "Score: 0.0094 for 21 and 23 (certainty: 0.64)"
       ]
      },
      {
       "output_type": "stream",
       "stream": "stdout",
       "text": [
        "\n",
        "Score: 0.0108 for 21 and 18 (certainty: 0.64)"
       ]
      },
      {
       "output_type": "stream",
       "stream": "stdout",
       "text": [
        "\n",
        "Score: 0.0078 for 21 and 15 (certainty: 0.84)"
       ]
      },
      {
       "output_type": "stream",
       "stream": "stdout",
       "text": [
        "\n",
        "Score: 0.0009 for 21 and 16 (certainty: 0.36)"
       ]
      },
      {
       "output_type": "stream",
       "stream": "stdout",
       "text": [
        "\n",
        "Score: 0.0063 for 21 and 23 (certainty: 0.19)"
       ]
      },
      {
       "output_type": "stream",
       "stream": "stdout",
       "text": [
        "\n",
        "Score: 0.0085 for 21 and 23 (certainty: 0.84)"
       ]
      },
      {
       "output_type": "stream",
       "stream": "stdout",
       "text": [
        "\n",
        "Score: 0.0024 for 21 and 32 (certainty: 0.51)"
       ]
      },
      {
       "output_type": "stream",
       "stream": "stdout",
       "text": [
        "\n",
        "Score: 0.0165 for 21 and 15 (certainty: 0.99)"
       ]
      },
      {
       "output_type": "stream",
       "stream": "stdout",
       "text": [
        "\n",
        "Score: 0.0038 for 21 and 24 (certainty: 0.75)"
       ]
      },
      {
       "output_type": "stream",
       "stream": "stdout",
       "text": [
        "\n",
        "Score: 0.0181 for 21 and 25 (certainty: 0.75)"
       ]
      },
      {
       "output_type": "stream",
       "stream": "stdout",
       "text": [
        "\n",
        "Score: 0.0021 for 21 and 30 (certainty: 0.64)"
       ]
      },
      {
       "output_type": "stream",
       "stream": "stdout",
       "text": [
        "\n",
        "Score: 0.0092 for 21 and 32 (certainty: 0.96)"
       ]
      },
      {
       "output_type": "stream",
       "stream": "stdout",
       "text": [
        "\n",
        "['../../images/testsets/Gallagher_small_unresized/21_872.jpg', '../../images/testsets/Gallagher_small_unresized/29_538.jpg']\n",
        "No descriptors found. Returning score 0\n",
        "Score: 0.0034 for 21 and 21 (certainty: 0.51)"
       ]
      },
      {
       "output_type": "stream",
       "stream": "stdout",
       "text": [
        "\n",
        "Score: 0.0017 for 21 and 20 (certainty: 0.51)"
       ]
      },
      {
       "output_type": "stream",
       "stream": "stdout",
       "text": [
        "\n",
        "Score: 0.0083 for 21 and 15 (certainty: 0.64)"
       ]
      },
      {
       "output_type": "stream",
       "stream": "stdout",
       "text": [
        "\n",
        "Score: 0.0036 for 21 and 15 (certainty: 0.51)"
       ]
      },
      {
       "output_type": "stream",
       "stream": "stdout",
       "text": [
        "\n",
        "Score: 0.0028 for 21 and 19 (certainty: 0.75)"
       ]
      },
      {
       "output_type": "stream",
       "stream": "stdout",
       "text": [
        "\n",
        "Score: 0.0074 for 21 and 19 (certainty: 0.51)"
       ]
      },
      {
       "output_type": "stream",
       "stream": "stdout",
       "text": [
        "\n",
        "Score: 0.0096 for 21 and 21 (certainty: 0.64)"
       ]
      },
      {
       "output_type": "stream",
       "stream": "stdout",
       "text": [
        "\n",
        "Score: 0.0024 for 21 and 26 (certainty: 0.84)"
       ]
      },
      {
       "output_type": "stream",
       "stream": "stdout",
       "text": [
        "\n",
        "Score: 0.0092 for 21 and 27 (certainty: 0.36)"
       ]
      },
      {
       "output_type": "stream",
       "stream": "stdout",
       "text": [
        "\n",
        "Score: 0.0363 for 21 and 15 (certainty: 0.75)"
       ]
      },
      {
       "output_type": "stream",
       "stream": "stdout",
       "text": [
        "\n",
        "Score: 0.0090 for 21 and 15 (certainty: 0.75)"
       ]
      },
      {
       "output_type": "stream",
       "stream": "stdout",
       "text": [
        "\n",
        "Score: 0.0161 for 21 and 21 (certainty: 0.75)"
       ]
      },
      {
       "output_type": "stream",
       "stream": "stdout",
       "text": [
        "\n",
        "Score: 0.0027 for 21 and 15 (certainty: 0.19)"
       ]
      },
      {
       "output_type": "stream",
       "stream": "stdout",
       "text": [
        "\n",
        "Score: 0.0145 for 21 and 16 (certainty: 0.64)"
       ]
      },
      {
       "output_type": "stream",
       "stream": "stdout",
       "text": [
        "\n",
        "Score: 0.0025 for 21 and 17 (certainty: 0.36)"
       ]
      },
      {
       "output_type": "stream",
       "stream": "stdout",
       "text": [
        "\n",
        "Score: 0.0164 for 21 and 28 (certainty: 0.51)"
       ]
      },
      {
       "output_type": "stream",
       "stream": "stdout",
       "text": [
        "\n",
        "Score: 0.0123 for 21 and 27 (certainty: 0.64)"
       ]
      },
      {
       "output_type": "stream",
       "stream": "stdout",
       "text": [
        "\n",
        "Score: 0.0053 for 21 and 13 (certainty: 0.64)"
       ]
      },
      {
       "output_type": "stream",
       "stream": "stdout",
       "text": [
        "\n",
        "Score: 0.0139 for 21 and 23 (certainty: 0.91)"
       ]
      },
      {
       "output_type": "stream",
       "stream": "stdout",
       "text": [
        "\n",
        "Score: 0.0104 for 23 and 25 (certainty: 0.75)"
       ]
      },
      {
       "output_type": "stream",
       "stream": "stdout",
       "text": [
        "\n",
        "Score: 0.0003 for 23 and 23 (certainty: 0.19)"
       ]
      },
      {
       "output_type": "stream",
       "stream": "stdout",
       "text": [
        "\n",
        "Score: 0.0113 for 23 and 31 (certainty: 0.64)"
       ]
      },
      {
       "output_type": "stream",
       "stream": "stdout",
       "text": [
        "\n",
        "Score: 0.0099 for 23 and 15 (certainty: 0.75)"
       ]
      },
      {
       "output_type": "stream",
       "stream": "stdout",
       "text": [
        "\n",
        "Score: 0.0025 for 23 and 23 (certainty: 0.84)"
       ]
      },
      {
       "output_type": "stream",
       "stream": "stdout",
       "text": [
        "\n",
        "Score: 0.0180 for 23 and 18 (certainty: 0.96)"
       ]
      },
      {
       "output_type": "stream",
       "stream": "stdout",
       "text": [
        "\n",
        "Score: 0.0120 for 23 and 15 (certainty: 1.00)"
       ]
      },
      {
       "output_type": "stream",
       "stream": "stdout",
       "text": [
        "\n",
        "Score: 0.0090 for 23 and 16 (certainty: 1.00)"
       ]
      },
      {
       "output_type": "stream",
       "stream": "stdout",
       "text": [
        "\n",
        "Score: 0.0031 for 23 and 23 (certainty: 0.36)"
       ]
      },
      {
       "output_type": "stream",
       "stream": "stdout",
       "text": [
        "\n",
        "Score: 0.0056 for 23 and 23 (certainty: 0.64)"
       ]
      },
      {
       "output_type": "stream",
       "stream": "stdout",
       "text": [
        "\n",
        "Score: 0.0131 for 23 and 32 (certainty: 0.75)"
       ]
      },
      {
       "output_type": "stream",
       "stream": "stdout",
       "text": [
        "\n",
        "Score: 0.0136 for 23 and 15 (certainty: 0.99)"
       ]
      },
      {
       "output_type": "stream",
       "stream": "stdout",
       "text": [
        "\n",
        "Score: 0.0037 for 23 and 24 (certainty: 0.75)"
       ]
      },
      {
       "output_type": "stream",
       "stream": "stdout",
       "text": [
        "\n",
        "Score: 0.0091 for 23 and 25 (certainty: 0.75)"
       ]
      },
      {
       "output_type": "stream",
       "stream": "stdout",
       "text": [
        "\n",
        "Score: 0.0045 for 23 and 30 (certainty: 0.91)"
       ]
      },
      {
       "output_type": "stream",
       "stream": "stdout",
       "text": [
        "\n",
        "Score: 0.0018 for 23 and 32 (certainty: 0.75)"
       ]
      },
      {
       "output_type": "stream",
       "stream": "stdout",
       "text": [
        "\n",
        "['../../images/testsets/Gallagher_small_unresized/23_307.jpg', '../../images/testsets/Gallagher_small_unresized/29_538.jpg']\n",
        "No descriptors found. Returning score 0\n",
        "Score: 0.0087 for 23 and 21 (certainty: 0.96)"
       ]
      },
      {
       "output_type": "stream",
       "stream": "stdout",
       "text": [
        "\n",
        "Score: 0.0060 for 23 and 20 (certainty: 0.91)"
       ]
      },
      {
       "output_type": "stream",
       "stream": "stdout",
       "text": [
        "\n",
        "Score: 0.0102 for 23 and 15 (certainty: 0.84)"
       ]
      },
      {
       "output_type": "stream",
       "stream": "stdout",
       "text": [
        "\n",
        "Score: 0.0090 for 23 and 15 (certainty: 0.84)"
       ]
      },
      {
       "output_type": "stream",
       "stream": "stdout",
       "text": [
        "\n",
        "Score: 0.0096 for 23 and 19 (certainty: 0.99)"
       ]
      },
      {
       "output_type": "stream",
       "stream": "stdout",
       "text": [
        "\n",
        "Score: 0.0033 for 23 and 19 (certainty: 0.64)"
       ]
      },
      {
       "output_type": "stream",
       "stream": "stdout",
       "text": [
        "\n",
        "Score: 0.0101 for 23 and 21 (certainty: 0.84)"
       ]
      },
      {
       "output_type": "stream",
       "stream": "stdout",
       "text": [
        "\n",
        "Score: 0.0082 for 23 and 26 (certainty: 0.91)"
       ]
      },
      {
       "output_type": "stream",
       "stream": "stdout",
       "text": [
        "\n",
        "Score: 0.0066 for 23 and 27 (certainty: 0.75)"
       ]
      },
      {
       "output_type": "stream",
       "stream": "stdout",
       "text": [
        "\n",
        "Score: 0.0026 for 23 and 15 (certainty: 0.64)"
       ]
      },
      {
       "output_type": "stream",
       "stream": "stdout",
       "text": [
        "\n",
        "Score: 0.0121 for 23 and 15 (certainty: 0.96)"
       ]
      },
      {
       "output_type": "stream",
       "stream": "stdout",
       "text": [
        "\n",
        "Score: 0.0029 for 23 and 21 (certainty: 0.51)"
       ]
      },
      {
       "output_type": "stream",
       "stream": "stdout",
       "text": [
        "\n",
        "Score: 0.0024 for 23 and 15 (certainty: 0.19)"
       ]
      },
      {
       "output_type": "stream",
       "stream": "stdout",
       "text": [
        "\n",
        "Score: 0.0191 for 23 and 16 (certainty: 0.99)"
       ]
      },
      {
       "output_type": "stream",
       "stream": "stdout",
       "text": [
        "\n",
        "Score: 0.0020 for 23 and 17 (certainty: 0.36)"
       ]
      },
      {
       "output_type": "stream",
       "stream": "stdout",
       "text": [
        "\n",
        "Score: 0.0073 for 23 and 28 (certainty: 0.36)"
       ]
      },
      {
       "output_type": "stream",
       "stream": "stdout",
       "text": [
        "\n",
        "Score: 0.0093 for 23 and 27 (certainty: 0.84)"
       ]
      },
      {
       "output_type": "stream",
       "stream": "stdout",
       "text": [
        "\n",
        "Score: 0.0040 for 23 and 13 (certainty: 0.75)"
       ]
      },
      {
       "output_type": "stream",
       "stream": "stdout",
       "text": [
        "\n",
        "Score: 0.0247 for 23 and 23 (certainty: 1.00)"
       ]
      },
      {
       "output_type": "stream",
       "stream": "stdout",
       "text": [
        "\n",
        "Score: 0.0023 for 25 and 23 (certainty: 0.19)\n",
        "Score: 0.0081 for 25 and 31 (certainty: 0.84)"
       ]
      },
      {
       "output_type": "stream",
       "stream": "stdout",
       "text": [
        "\n",
        "Score: 0.0115 for 25 and 15 (certainty: 0.75)"
       ]
      },
      {
       "output_type": "stream",
       "stream": "stdout",
       "text": [
        "\n",
        "Score: 0.0189 for 25 and 23 (certainty: 0.99)"
       ]
      },
      {
       "output_type": "stream",
       "stream": "stdout",
       "text": [
        "\n",
        "Score: 0.0067 for 25 and 18 (certainty: 0.84)"
       ]
      },
      {
       "output_type": "stream",
       "stream": "stdout",
       "text": [
        "\n",
        "Score: 0.0000 for 25 and 15 (certainty: 0.36)"
       ]
      },
      {
       "output_type": "stream",
       "stream": "stdout",
       "text": [
        "\n",
        "Score: 0.0043 for 25 and 16 (certainty: 0.75)"
       ]
      },
      {
       "output_type": "stream",
       "stream": "stdout",
       "text": [
        "\n",
        "Score: 0.0381 for 25 and 23 (certainty: 0.96)"
       ]
      },
      {
       "output_type": "stream",
       "stream": "stdout",
       "text": [
        "\n",
        "Score: 0.0162 for 25 and 23 (certainty: 0.84)"
       ]
      },
      {
       "output_type": "stream",
       "stream": "stdout",
       "text": [
        "\n",
        "Score: 0.0413 for 25 and 32 (certainty: 0.75)"
       ]
      },
      {
       "output_type": "stream",
       "stream": "stdout",
       "text": [
        "\n",
        "Score: 0.0269 for 25 and 15 (certainty: 0.84)"
       ]
      },
      {
       "output_type": "stream",
       "stream": "stdout",
       "text": [
        "\n",
        "Score: 0.0097 for 25 and 24 (certainty: 0.75)"
       ]
      },
      {
       "output_type": "stream",
       "stream": "stdout",
       "text": [
        "\n",
        "Score: 0.1004 for 25 and 25 (certainty: 1.00)"
       ]
      },
      {
       "output_type": "stream",
       "stream": "stdout",
       "text": [
        "\n",
        "Score: 0.0149 for 25 and 30 (certainty: 1.00)"
       ]
      },
      {
       "output_type": "stream",
       "stream": "stdout",
       "text": [
        "\n",
        "Score: 0.0008 for 25 and 32 (certainty: 0.36)"
       ]
      },
      {
       "output_type": "stream",
       "stream": "stdout",
       "text": [
        "\n",
        "['../../images/testsets/Gallagher_small_unresized/25_462.jpg', '../../images/testsets/Gallagher_small_unresized/29_538.jpg']\n",
        "No descriptors found. Returning score 0\n",
        "Score: 0.0164 for 25 and 21 (certainty: 0.84)"
       ]
      },
      {
       "output_type": "stream",
       "stream": "stdout",
       "text": [
        "\n",
        "Score: 0.0303 for 25 and 20 (certainty: 0.96)"
       ]
      },
      {
       "output_type": "stream",
       "stream": "stdout",
       "text": [
        "\n",
        "Score: 0.0065 for 25 and 15 (certainty: 0.75)"
       ]
      },
      {
       "output_type": "stream",
       "stream": "stdout",
       "text": [
        "\n",
        "Score: 0.0257 for 25 and 15 (certainty: 0.75)"
       ]
      },
      {
       "output_type": "stream",
       "stream": "stdout",
       "text": [
        "\n",
        "Score: 0.0123 for 25 and 19 (certainty: 0.64)"
       ]
      },
      {
       "output_type": "stream",
       "stream": "stdout",
       "text": [
        "\n",
        "Score: 0.0413 for 25 and 19 (certainty: 0.91)"
       ]
      },
      {
       "output_type": "stream",
       "stream": "stdout",
       "text": [
        "\n",
        "Score: 0.0090 for 25 and 21 (certainty: 0.75)"
       ]
      },
      {
       "output_type": "stream",
       "stream": "stdout",
       "text": [
        "\n",
        "Score: 0.0144 for 25 and 26 (certainty: 0.91)"
       ]
      },
      {
       "output_type": "stream",
       "stream": "stdout",
       "text": [
        "\n",
        "Score: 0.0219 for 25 and 27 (certainty: 0.91)"
       ]
      },
      {
       "output_type": "stream",
       "stream": "stdout",
       "text": [
        "\n",
        "Score: 0.0401 for 25 and 15 (certainty: 0.84)"
       ]
      },
      {
       "output_type": "stream",
       "stream": "stdout",
       "text": [
        "\n",
        "Score: 0.0113 for 25 and 15 (certainty: 0.64)"
       ]
      },
      {
       "output_type": "stream",
       "stream": "stdout",
       "text": [
        "\n",
        "Score: 0.0095 for 25 and 21 (certainty: 0.36)"
       ]
      },
      {
       "output_type": "stream",
       "stream": "stdout",
       "text": [
        "\n",
        "Score: 0.0024 for 25 and 15 (certainty: 0.19)\n",
        "Score: 0.0101 for 25 and 16 (certainty: 0.84)"
       ]
      },
      {
       "output_type": "stream",
       "stream": "stdout",
       "text": [
        "\n",
        "Score: 0.0117 for 25 and 17 (certainty: 0.64)"
       ]
      },
      {
       "output_type": "stream",
       "stream": "stdout",
       "text": [
        "\n",
        "Score: 0.0075 for 25 and 28 (certainty: 0.51)\n",
        "Score: 0.0107 for 25 and 27 (certainty: 0.64)"
       ]
      },
      {
       "output_type": "stream",
       "stream": "stdout",
       "text": [
        "\n",
        "Score: 0.0064 for 25 and 13 (certainty: 0.75)"
       ]
      },
      {
       "output_type": "stream",
       "stream": "stdout",
       "text": [
        "\n",
        "Score: 0.0242 for 25 and 23 (certainty: 0.91)"
       ]
      },
      {
       "output_type": "stream",
       "stream": "stdout",
       "text": [
        "\n",
        "Score: 0.0011 for 23 and 31 (certainty: 0.19)\n",
        "Score: 0.0023 for 23 and 15 (certainty: 0.19)"
       ]
      },
      {
       "output_type": "stream",
       "stream": "stdout",
       "text": [
        "\n",
        "Score: 0.0057 for 23 and 23 (certainty: 0.19)"
       ]
      },
      {
       "output_type": "stream",
       "stream": "stdout",
       "text": [
        "\n",
        "Score: 0.0149 for 23 and 18 (certainty: 0.19)"
       ]
      },
      {
       "output_type": "stream",
       "stream": "stdout",
       "text": [
        "\n",
        "Score: 0.0013 for 23 and 15 (certainty: 0.19)"
       ]
      },
      {
       "output_type": "stream",
       "stream": "stdout",
       "text": [
        "\n",
        "Score: 0.0009 for 23 and 16 (certainty: 0.19)"
       ]
      },
      {
       "output_type": "stream",
       "stream": "stdout",
       "text": [
        "\n",
        "Score: 0.0154 for 23 and 23 (certainty: 0.19)\n",
        "Score: 0.0018 for 23 and 23 (certainty: 0.19)"
       ]
      },
      {
       "output_type": "stream",
       "stream": "stdout",
       "text": [
        "\n",
        "Score: 0.0029 for 23 and 32 (certainty: 0.19)\n",
        "Score: 0.0125 for 23 and 15 (certainty: 0.19)"
       ]
      },
      {
       "output_type": "stream",
       "stream": "stdout",
       "text": [
        "\n",
        "Score: 0.0035 for 23 and 24 (certainty: 0.19)\n",
        "Score: 0.0011 for 23 and 25 (certainty: 0.19)"
       ]
      },
      {
       "output_type": "stream",
       "stream": "stdout",
       "text": [
        "\n",
        "Score: 0.0013 for 23 and 30 (certainty: 0.19)"
       ]
      },
      {
       "output_type": "stream",
       "stream": "stdout",
       "text": [
        "\n",
        "Score: 0.0082 for 23 and 32 (certainty: 0.19)\n",
        "['../../images/testsets/Gallagher_small_unresized/23_534.jpg', '../../images/testsets/Gallagher_small_unresized/29_538.jpg']\n",
        "No descriptors found. Returning score 0\n",
        "Score: 0.0017 for 23 and 21 (certainty: 0.19)"
       ]
      },
      {
       "output_type": "stream",
       "stream": "stdout",
       "text": [
        "\n",
        "Score: 0.0045 for 23 and 20 (certainty: 0.19)"
       ]
      },
      {
       "output_type": "stream",
       "stream": "stdout",
       "text": [
        "\n",
        "Score: 0.0012 for 23 and 15 (certainty: 0.19)"
       ]
      },
      {
       "output_type": "stream",
       "stream": "stdout",
       "text": [
        "\n",
        "Score: 0.0162 for 23 and 15 (certainty: 0.19)\n",
        "Score: 0.0036 for 23 and 19 (certainty: 0.19)"
       ]
      },
      {
       "output_type": "stream",
       "stream": "stdout",
       "text": [
        "\n",
        "Score: 0.0094 for 23 and 19 (certainty: 0.19)\n",
        "Score: 0.0089 for 23 and 21 (certainty: 0.19)"
       ]
      },
      {
       "output_type": "stream",
       "stream": "stdout",
       "text": [
        "\n",
        "Score: 0.0016 for 23 and 26 (certainty: 0.19)"
       ]
      },
      {
       "output_type": "stream",
       "stream": "stdout",
       "text": [
        "\n",
        "Score: 0.0094 for 23 and 27 (certainty: 0.19)\n",
        "Score: 0.0016 for 23 and 15 (certainty: 0.19)"
       ]
      },
      {
       "output_type": "stream",
       "stream": "stdout",
       "text": [
        "\n",
        "Score: 0.0024 for 23 and 15 (certainty: 0.19)\n",
        "Score: 0.0061 for 23 and 21 (certainty: 0.19)"
       ]
      },
      {
       "output_type": "stream",
       "stream": "stdout",
       "text": [
        "\n",
        "Score: 0.0000 for 23 and 15 (certainty: 0.00)\n",
        "Score: 0.0026 for 23 and 16 (certainty: 0.19)\n",
        "Score: 0.0028 for 23 and 17 (certainty: 0.19)\n",
        "Score: nan for 23 and 28 (certainty: 0.19)"
       ]
      },
      {
       "output_type": "stream",
       "stream": "stdout",
       "text": [
        "\n",
        "Score: 0.0060 for 23 and 27 (certainty: 0.19)\n",
        "Score: 0.0020 for 23 and 13 (certainty: 0.19)"
       ]
      },
      {
       "output_type": "stream",
       "stream": "stdout",
       "text": [
        "\n",
        "Score: 0.0073 for 23 and 23 (certainty: 0.19)"
       ]
      },
      {
       "output_type": "stream",
       "stream": "stdout",
       "text": [
        "\n",
        "Score: 0.0157 for 31 and 15 (certainty: 0.64)"
       ]
      },
      {
       "output_type": "stream",
       "stream": "stdout",
       "text": [
        "\n",
        "Score: 0.0143 for 31 and 23 (certainty: 0.84)"
       ]
      },
      {
       "output_type": "stream",
       "stream": "stdout",
       "text": [
        "\n",
        "Score: 0.0126 for 31 and 18 (certainty: 0.51)"
       ]
      },
      {
       "output_type": "stream",
       "stream": "stdout",
       "text": [
        "\n",
        "Score: 0.0246 for 31 and 15 (certainty: 0.91)"
       ]
      },
      {
       "output_type": "stream",
       "stream": "stdout",
       "text": [
        "\n",
        "Score: 0.0079 for 31 and 16 (certainty: 0.51)"
       ]
      },
      {
       "output_type": "stream",
       "stream": "stdout",
       "text": [
        "\n",
        "Score: 0.0121 for 31 and 23 (certainty: 0.91)"
       ]
      },
      {
       "output_type": "stream",
       "stream": "stdout",
       "text": [
        "\n",
        "Score: 0.0067 for 31 and 23 (certainty: 0.75)"
       ]
      },
      {
       "output_type": "stream",
       "stream": "stdout",
       "text": [
        "\n",
        "Score: 0.0082 for 31 and 32 (certainty: 0.51)"
       ]
      },
      {
       "output_type": "stream",
       "stream": "stdout",
       "text": [
        "\n",
        "Score: 0.0126 for 31 and 15 (certainty: 0.64)"
       ]
      },
      {
       "output_type": "stream",
       "stream": "stdout",
       "text": [
        "\n",
        "Score: 0.0080 for 31 and 24 (certainty: 0.64)"
       ]
      },
      {
       "output_type": "stream",
       "stream": "stdout",
       "text": [
        "\n",
        "Score: 0.0124 for 31 and 25 (certainty: 0.64)"
       ]
      },
      {
       "output_type": "stream",
       "stream": "stdout",
       "text": [
        "\n",
        "Score: 0.0183 for 31 and 30 (certainty: 0.84)"
       ]
      },
      {
       "output_type": "stream",
       "stream": "stdout",
       "text": [
        "\n",
        "Score: 0.0110 for 31 and 32 (certainty: 0.64)"
       ]
      },
      {
       "output_type": "stream",
       "stream": "stdout",
       "text": [
        "\n",
        "['../../images/testsets/Gallagher_small_unresized/31_582.jpg', '../../images/testsets/Gallagher_small_unresized/29_538.jpg']\n",
        "No descriptors found. Returning score 0\n",
        "Score: 0.0058 for 31 and 21 (certainty: 0.91)"
       ]
      },
      {
       "output_type": "stream",
       "stream": "stdout",
       "text": [
        "\n",
        "Score: 0.0169 for 31 and 20 (certainty: 0.84)"
       ]
      },
      {
       "output_type": "stream",
       "stream": "stdout",
       "text": [
        "\n",
        "Score: 0.0050 for 31 and 15 (certainty: 0.84)"
       ]
      },
      {
       "output_type": "stream",
       "stream": "stdout",
       "text": [
        "\n",
        "Score: 0.0132 for 31 and 15 (certainty: 0.64)"
       ]
      },
      {
       "output_type": "stream",
       "stream": "stdout",
       "text": [
        "\n",
        "Score: 0.0078 for 31 and 19 (certainty: 0.75)"
       ]
      },
      {
       "output_type": "stream",
       "stream": "stdout",
       "text": [
        "\n",
        "Score: 0.0205 for 31 and 19 (certainty: 0.75)"
       ]
      },
      {
       "output_type": "stream",
       "stream": "stdout",
       "text": [
        "\n",
        "Score: 0.0247 for 31 and 21 (certainty: 0.75)"
       ]
      },
      {
       "output_type": "stream",
       "stream": "stdout",
       "text": [
        "\n",
        "Score: 0.0013 for 31 and 26 (certainty: 0.64)"
       ]
      },
      {
       "output_type": "stream",
       "stream": "stdout",
       "text": [
        "\n",
        "Score: 0.0208 for 31 and 27 (certainty: 0.91)"
       ]
      },
      {
       "output_type": "stream",
       "stream": "stdout",
       "text": [
        "\n",
        "Score: 0.0111 for 31 and 15 (certainty: 0.96)"
       ]
      },
      {
       "output_type": "stream",
       "stream": "stdout",
       "text": [
        "\n",
        "Score: 0.0110 for 31 and 15 (certainty: 0.51)"
       ]
      },
      {
       "output_type": "stream",
       "stream": "stdout",
       "text": [
        "\n",
        "Score: 0.0174 for 31 and 21 (certainty: 0.51)"
       ]
      },
      {
       "output_type": "stream",
       "stream": "stdout",
       "text": [
        "\n",
        "Score: 0.0287 for 31 and 15 (certainty: 0.19)\n",
        "Score: 0.0040 for 31 and 16 (certainty: 0.19)"
       ]
      },
      {
       "output_type": "stream",
       "stream": "stdout",
       "text": [
        "\n",
        "Score: 0.0242 for 31 and 17 (certainty: 0.51)"
       ]
      },
      {
       "output_type": "stream",
       "stream": "stdout",
       "text": [
        "\n",
        "Score: 0.0084 for 31 and 28 (certainty: 0.36)\n",
        "Score: 0.0098 for 31 and 27 (certainty: 0.75)"
       ]
      },
      {
       "output_type": "stream",
       "stream": "stdout",
       "text": [
        "\n",
        "Score: 0.0059 for 31 and 13 (certainty: 0.75)"
       ]
      },
      {
       "output_type": "stream",
       "stream": "stdout",
       "text": [
        "\n",
        "Score: 0.0148 for 31 and 23 (certainty: 0.75)"
       ]
      },
      {
       "output_type": "stream",
       "stream": "stdout",
       "text": [
        "\n",
        "Score: 0.0106 for 15 and 23 (certainty: 0.64)"
       ]
      },
      {
       "output_type": "stream",
       "stream": "stdout",
       "text": [
        "\n",
        "Score: 0.0091 for 15 and 18 (certainty: 0.51)"
       ]
      },
      {
       "output_type": "stream",
       "stream": "stdout",
       "text": [
        "\n",
        "Score: 0.0098 for 15 and 15 (certainty: 0.75)"
       ]
      },
      {
       "output_type": "stream",
       "stream": "stdout",
       "text": [
        "\n",
        "Score: 0.0152 for 15 and 16 (certainty: 0.64)"
       ]
      },
      {
       "output_type": "stream",
       "stream": "stdout",
       "text": [
        "\n",
        "Score: 0.0114 for 15 and 23 (certainty: 0.51)"
       ]
      },
      {
       "output_type": "stream",
       "stream": "stdout",
       "text": [
        "\n",
        "Score: 0.0128 for 15 and 23 (certainty: 0.51)"
       ]
      },
      {
       "output_type": "stream",
       "stream": "stdout",
       "text": [
        "\n",
        "Score: 0.0172 for 15 and 32 (certainty: 0.64)\n",
        "Score: 0.0199 for 15 and 15 (certainty: 0.64)"
       ]
      },
      {
       "output_type": "stream",
       "stream": "stdout",
       "text": [
        "\n",
        "Score: 0.0224 for 15 and 24 (certainty: 0.75)\n",
        "Score: 0.0047 for 15 and 25 (certainty: 0.36)"
       ]
      },
      {
       "output_type": "stream",
       "stream": "stdout",
       "text": [
        "\n",
        "Score: 0.0076 for 15 and 30 (certainty: 0.75)"
       ]
      },
      {
       "output_type": "stream",
       "stream": "stdout",
       "text": [
        "\n",
        "Score: 0.0052 for 15 and 32 (certainty: 0.51)"
       ]
      },
      {
       "output_type": "stream",
       "stream": "stdout",
       "text": [
        "\n",
        "['../../images/testsets/Gallagher_small_unresized/15_224.jpg', '../../images/testsets/Gallagher_small_unresized/29_538.jpg']\n",
        "No descriptors found. Returning score 0\n",
        "Score: 0.0166 for 15 and 21 (certainty: 0.84)"
       ]
      },
      {
       "output_type": "stream",
       "stream": "stdout",
       "text": [
        "\n",
        "Score: 0.0159 for 15 and 20 (certainty: 0.64)"
       ]
      },
      {
       "output_type": "stream",
       "stream": "stdout",
       "text": [
        "\n",
        "Score: 0.0127 for 15 and 15 (certainty: 0.64)"
       ]
      },
      {
       "output_type": "stream",
       "stream": "stdout",
       "text": [
        "\n",
        "Score: 0.0144 for 15 and 15 (certainty: 0.75)"
       ]
      },
      {
       "output_type": "stream",
       "stream": "stdout",
       "text": [
        "\n",
        "Score: 0.0092 for 15 and 19 (certainty: 0.64)"
       ]
      },
      {
       "output_type": "stream",
       "stream": "stdout",
       "text": [
        "\n",
        "Score: 0.0192 for 15 and 19 (certainty: 0.75)"
       ]
      },
      {
       "output_type": "stream",
       "stream": "stdout",
       "text": [
        "\n",
        "Score: 0.0063 for 15 and 21 (certainty: 0.51)"
       ]
      },
      {
       "output_type": "stream",
       "stream": "stdout",
       "text": [
        "\n",
        "Score: 0.0130 for 15 and 26 (certainty: 0.84)"
       ]
      },
      {
       "output_type": "stream",
       "stream": "stdout",
       "text": [
        "\n",
        "Score: 0.0211 for 15 and 27 (certainty: 0.75)"
       ]
      },
      {
       "output_type": "stream",
       "stream": "stdout",
       "text": [
        "\n",
        "Score: 0.0069 for 15 and 15 (certainty: 0.75)"
       ]
      },
      {
       "output_type": "stream",
       "stream": "stdout",
       "text": [
        "\n",
        "Score: 0.0128 for 15 and 15 (certainty: 0.75)"
       ]
      },
      {
       "output_type": "stream",
       "stream": "stdout",
       "text": [
        "\n",
        "Score: 0.0099 for 15 and 21 (certainty: 0.36)\n",
        "Score: 0.0014 for 15 and 15 (certainty: 0.19)"
       ]
      },
      {
       "output_type": "stream",
       "stream": "stdout",
       "text": [
        "\n",
        "Score: 0.0047 for 15 and 16 (certainty: 0.36)\n",
        "Score: 0.0133 for 15 and 17 (certainty: 0.36)"
       ]
      },
      {
       "output_type": "stream",
       "stream": "stdout",
       "text": [
        "\n",
        "Score: 0.0134 for 15 and 28 (certainty: 0.36)\n",
        "Score: 0.0088 for 15 and 27 (certainty: 0.84)"
       ]
      },
      {
       "output_type": "stream",
       "stream": "stdout",
       "text": [
        "\n",
        "Score: 0.0025 for 15 and 13 (certainty: 0.51)\n",
        "Score: 0.0182 for 15 and 23 (certainty: 0.64)"
       ]
      },
      {
       "output_type": "stream",
       "stream": "stdout",
       "text": [
        "\n",
        "Score: 0.0290 for 23 and 18 (certainty: 0.91)"
       ]
      },
      {
       "output_type": "stream",
       "stream": "stdout",
       "text": [
        "\n",
        "Score: 0.0060 for 23 and 15 (certainty: 0.91)"
       ]
      },
      {
       "output_type": "stream",
       "stream": "stdout",
       "text": [
        "\n",
        "Score: 0.0089 for 23 and 16 (certainty: 0.96)"
       ]
      },
      {
       "output_type": "stream",
       "stream": "stdout",
       "text": [
        "\n",
        "Score: 0.0426 for 23 and 23 (certainty: 1.00)"
       ]
      },
      {
       "output_type": "stream",
       "stream": "stdout",
       "text": [
        "\n",
        "Score: 0.0225 for 23 and 23 (certainty: 0.96)"
       ]
      },
      {
       "output_type": "stream",
       "stream": "stdout",
       "text": [
        "\n",
        "Score: 0.0095 for 23 and 32 (certainty: 0.75)"
       ]
      },
      {
       "output_type": "stream",
       "stream": "stdout",
       "text": [
        "\n",
        "Score: 0.0169 for 23 and 15 (certainty: 0.84)"
       ]
      },
      {
       "output_type": "stream",
       "stream": "stdout",
       "text": [
        "\n",
        "Score: 0.0146 for 23 and 24 (certainty: 0.99)"
       ]
      },
      {
       "output_type": "stream",
       "stream": "stdout",
       "text": [
        "\n",
        "Score: 0.0209 for 23 and 25 (certainty: 1.00)"
       ]
      },
      {
       "output_type": "stream",
       "stream": "stdout",
       "text": [
        "\n",
        "Score: 0.0060 for 23 and 30 (certainty: 1.00)"
       ]
      },
      {
       "output_type": "stream",
       "stream": "stdout",
       "text": [
        "\n",
        "Score: 0.0051 for 23 and 32 (certainty: 0.51)"
       ]
      },
      {
       "output_type": "stream",
       "stream": "stdout",
       "text": [
        "\n",
        "['../../images/testsets/Gallagher_small_unresized/23_508.jpg', '../../images/testsets/Gallagher_small_unresized/29_538.jpg']\n",
        "No descriptors found. Returning score 0\n",
        "Score: 0.0105 for 23 and 21 (certainty: 1.00)"
       ]
      },
      {
       "output_type": "stream",
       "stream": "stdout",
       "text": [
        "\n",
        "Score: 0.0245 for 23 and 20 (certainty: 1.00)"
       ]
      },
      {
       "output_type": "stream",
       "stream": "stdout",
       "text": [
        "\n",
        "Score: 0.0153 for 23 and 15 (certainty: 1.00)"
       ]
      },
      {
       "output_type": "stream",
       "stream": "stdout",
       "text": [
        "\n",
        "Score: 0.0180 for 23 and 15 (certainty: 1.00)"
       ]
      },
      {
       "output_type": "stream",
       "stream": "stdout",
       "text": [
        "\n",
        "Score: 0.0186 for 23 and 19 (certainty: 0.96)"
       ]
      },
      {
       "output_type": "stream",
       "stream": "stdout",
       "text": [
        "\n",
        "Score: 0.0095 for 23 and 19 (certainty: 0.96)"
       ]
      },
      {
       "output_type": "stream",
       "stream": "stdout",
       "text": [
        "\n",
        "Score: 0.0268 for 23 and 21 (certainty: 1.00)"
       ]
      },
      {
       "output_type": "stream",
       "stream": "stdout",
       "text": [
        "\n",
        "Score: 0.0123 for 23 and 26 (certainty: 0.84)"
       ]
      },
      {
       "output_type": "stream",
       "stream": "stdout",
       "text": [
        "\n",
        "Score: 0.0061 for 23 and 27 (certainty: 0.84)"
       ]
      },
      {
       "output_type": "stream",
       "stream": "stdout",
       "text": [
        "\n",
        "Score: 0.0256 for 23 and 15 (certainty: 1.00)"
       ]
      },
      {
       "output_type": "stream",
       "stream": "stdout",
       "text": [
        "\n",
        "Score: 0.0212 for 23 and 15 (certainty: 0.96)"
       ]
      },
      {
       "output_type": "stream",
       "stream": "stdout",
       "text": [
        "\n",
        "Score: 0.0165 for 23 and 21 (certainty: 0.64)"
       ]
      },
      {
       "output_type": "stream",
       "stream": "stdout",
       "text": [
        "\n",
        "Score: 0.0026 for 23 and 15 (certainty: 0.19)"
       ]
      },
      {
       "output_type": "stream",
       "stream": "stdout",
       "text": [
        "\n",
        "Score: 0.0000 for 23 and 16 (certainty: 0.64)"
       ]
      },
      {
       "output_type": "stream",
       "stream": "stdout",
       "text": [
        "\n",
        "Score: 0.0024 for 23 and 17 (certainty: 0.36)"
       ]
      },
      {
       "output_type": "stream",
       "stream": "stdout",
       "text": [
        "\n",
        "Score: 0.0048 for 23 and 28 (certainty: 0.36)"
       ]
      },
      {
       "output_type": "stream",
       "stream": "stdout",
       "text": [
        "\n",
        "Score: 0.0138 for 23 and 27 (certainty: 0.96)"
       ]
      },
      {
       "output_type": "stream",
       "stream": "stdout",
       "text": [
        "\n",
        "Score: 0.0027 for 23 and 13 (certainty: 0.64)"
       ]
      },
      {
       "output_type": "stream",
       "stream": "stdout",
       "text": [
        "\n",
        "Score: 0.0150 for 23 and 23 (certainty: 1.00)"
       ]
      },
      {
       "output_type": "stream",
       "stream": "stdout",
       "text": [
        "\n",
        "Score: 0.0024 for 18 and 15 (certainty: 0.75)"
       ]
      },
      {
       "output_type": "stream",
       "stream": "stdout",
       "text": [
        "\n",
        "Score: 0.0164 for 18 and 16 (certainty: 0.84)"
       ]
      },
      {
       "output_type": "stream",
       "stream": "stdout",
       "text": [
        "\n",
        "Score: 0.0108 for 18 and 23 (certainty: 0.51)"
       ]
      },
      {
       "output_type": "stream",
       "stream": "stdout",
       "text": [
        "\n",
        "Score: 0.0023 for 18 and 23 (certainty: 0.36)"
       ]
      },
      {
       "output_type": "stream",
       "stream": "stdout",
       "text": [
        "\n",
        "Score: 0.0126 for 18 and 32 (certainty: 0.36)"
       ]
      },
      {
       "output_type": "stream",
       "stream": "stdout",
       "text": [
        "\n",
        "Score: 0.0261 for 18 and 15 (certainty: 0.84)"
       ]
      },
      {
       "output_type": "stream",
       "stream": "stdout",
       "text": [
        "\n",
        "Score: 0.0016 for 18 and 24 (certainty: 0.64)"
       ]
      },
      {
       "output_type": "stream",
       "stream": "stdout",
       "text": [
        "\n",
        "Score: 0.0009 for 18 and 25 (certainty: 0.36)"
       ]
      },
      {
       "output_type": "stream",
       "stream": "stdout",
       "text": [
        "\n",
        "Score: 0.0198 for 18 and 30 (certainty: 0.64)"
       ]
      },
      {
       "output_type": "stream",
       "stream": "stdout",
       "text": [
        "\n",
        "Score: 0.0075 for 18 and 32 (certainty: 0.64)"
       ]
      },
      {
       "output_type": "stream",
       "stream": "stdout",
       "text": [
        "\n",
        "['../../images/testsets/Gallagher_small_unresized/18_220.jpg', '../../images/testsets/Gallagher_small_unresized/29_538.jpg']\n",
        "No descriptors found. Returning score 0\n",
        "Score: 0.0070 for 18 and 21 (certainty: 0.91)"
       ]
      },
      {
       "output_type": "stream",
       "stream": "stdout",
       "text": [
        "\n",
        "Score: 0.0150 for 18 and 20 (certainty: 0.84)"
       ]
      },
      {
       "output_type": "stream",
       "stream": "stdout",
       "text": [
        "\n",
        "Score: 0.0130 for 18 and 15 (certainty: 0.91)"
       ]
      },
      {
       "output_type": "stream",
       "stream": "stdout",
       "text": [
        "\n",
        "Score: 0.0075 for 18 and 15 (certainty: 0.64)"
       ]
      },
      {
       "output_type": "stream",
       "stream": "stdout",
       "text": [
        "\n",
        "Score: 0.0125 for 18 and 19 (certainty: 0.75)"
       ]
      },
      {
       "output_type": "stream",
       "stream": "stdout",
       "text": [
        "\n",
        "Score: 0.0034 for 18 and 19 (certainty: 0.51)"
       ]
      },
      {
       "output_type": "stream",
       "stream": "stdout",
       "text": [
        "\n",
        "Score: 0.0057 for 18 and 21 (certainty: 0.75)"
       ]
      },
      {
       "output_type": "stream",
       "stream": "stdout",
       "text": [
        "\n",
        "Score: 0.0023 for 18 and 26 (certainty: 0.51)"
       ]
      },
      {
       "output_type": "stream",
       "stream": "stdout",
       "text": [
        "\n",
        "Score: 0.0168 for 18 and 27 (certainty: 0.64)"
       ]
      },
      {
       "output_type": "stream",
       "stream": "stdout",
       "text": [
        "\n",
        "Score: 0.0057 for 18 and 15 (certainty: 0.51)"
       ]
      },
      {
       "output_type": "stream",
       "stream": "stdout",
       "text": [
        "\n",
        "Score: 0.0213 for 18 and 15 (certainty: 0.96)"
       ]
      },
      {
       "output_type": "stream",
       "stream": "stdout",
       "text": [
        "\n",
        "Score: 0.0313 for 18 and 21 (certainty: 0.64)"
       ]
      },
      {
       "output_type": "stream",
       "stream": "stdout",
       "text": [
        "\n",
        "Score: 0.0027 for 18 and 15 (certainty: 0.19)"
       ]
      },
      {
       "output_type": "stream",
       "stream": "stdout",
       "text": [
        "\n",
        "Score: 0.0229 for 18 and 16 (certainty: 0.75)"
       ]
      },
      {
       "output_type": "stream",
       "stream": "stdout",
       "text": [
        "\n",
        "Score: 0.0014 for 18 and 17 (certainty: 0.19)"
       ]
      },
      {
       "output_type": "stream",
       "stream": "stdout",
       "text": [
        "\n",
        "Score: 0.0107 for 18 and 28 (certainty: 0.36)"
       ]
      },
      {
       "output_type": "stream",
       "stream": "stdout",
       "text": [
        "\n",
        "Score: 0.0049 for 18 and 27 (certainty: 0.75)"
       ]
      },
      {
       "output_type": "stream",
       "stream": "stdout",
       "text": [
        "\n",
        "Score: 0.0008 for 18 and 13 (certainty: 0.51)"
       ]
      },
      {
       "output_type": "stream",
       "stream": "stdout",
       "text": [
        "\n",
        "Score: 0.0101 for 18 and 23 (certainty: 0.64)"
       ]
      },
      {
       "output_type": "stream",
       "stream": "stdout",
       "text": [
        "\n",
        "Score: 0.0000 for 15 and 16 (certainty: 0.36)"
       ]
      },
      {
       "output_type": "stream",
       "stream": "stdout",
       "text": [
        "\n",
        "Score: 0.0007 for 15 and 23 (certainty: 0.19)"
       ]
      },
      {
       "output_type": "stream",
       "stream": "stdout",
       "text": [
        "\n",
        "Score: 0.0035 for 15 and 23 (certainty: 0.64)"
       ]
      },
      {
       "output_type": "stream",
       "stream": "stdout",
       "text": [
        "\n",
        "Score: 0.0043 for 15 and 32 (certainty: 0.19)"
       ]
      },
      {
       "output_type": "stream",
       "stream": "stdout",
       "text": [
        "\n",
        "Score: 0.0031 for 15 and 15 (certainty: 0.51)"
       ]
      },
      {
       "output_type": "stream",
       "stream": "stdout",
       "text": [
        "\n",
        "Score: 0.0002 for 15 and 24 (certainty: 0.51)"
       ]
      },
      {
       "output_type": "stream",
       "stream": "stdout",
       "text": [
        "\n",
        "Score: 0.0105 for 15 and 25 (certainty: 0.36)"
       ]
      },
      {
       "output_type": "stream",
       "stream": "stdout",
       "text": [
        "\n",
        "Score: 0.0082 for 15 and 30 (certainty: 0.36)"
       ]
      },
      {
       "output_type": "stream",
       "stream": "stdout",
       "text": [
        "\n",
        "Score: 0.0169 for 15 and 32 (certainty: 0.75)"
       ]
      },
      {
       "output_type": "stream",
       "stream": "stdout",
       "text": [
        "\n",
        "['../../images/testsets/Gallagher_small_unresized/15_151.jpg', '../../images/testsets/Gallagher_small_unresized/29_538.jpg']\n",
        "No descriptors found. Returning score 0\n",
        "Score: 0.0031 for 15 and 21 (certainty: 0.36)"
       ]
      },
      {
       "output_type": "stream",
       "stream": "stdout",
       "text": [
        "\n",
        "Score: 0.0042 for 15 and 20 (certainty: 0.75)"
       ]
      },
      {
       "output_type": "stream",
       "stream": "stdout",
       "text": [
        "\n",
        "Score: 0.0021 for 15 and 15 (certainty: 0.36)"
       ]
      },
      {
       "output_type": "stream",
       "stream": "stdout",
       "text": [
        "\n",
        "Score: 0.0122 for 15 and 15 (certainty: 0.91)"
       ]
      },
      {
       "output_type": "stream",
       "stream": "stdout",
       "text": [
        "\n",
        "Score: 0.0005 for 15 and 19 (certainty: 0.51)"
       ]
      },
      {
       "output_type": "stream",
       "stream": "stdout",
       "text": [
        "\n",
        "Score: 0.0000 for 15 and 19 (certainty: 0.19)"
       ]
      },
      {
       "output_type": "stream",
       "stream": "stdout",
       "text": [
        "\n",
        "Score: 0.0102 for 15 and 21 (certainty: 0.51)"
       ]
      },
      {
       "output_type": "stream",
       "stream": "stdout",
       "text": [
        "\n",
        "Score: 0.0059 for 15 and 26 (certainty: 0.51)"
       ]
      },
      {
       "output_type": "stream",
       "stream": "stdout",
       "text": [
        "\n",
        "Score: 0.0113 for 15 and 27 (certainty: 0.36)"
       ]
      },
      {
       "output_type": "stream",
       "stream": "stdout",
       "text": [
        "\n",
        "Score: 0.0249 for 15 and 15 (certainty: 0.84)"
       ]
      },
      {
       "output_type": "stream",
       "stream": "stdout",
       "text": [
        "\n",
        "Score: 0.0105 for 15 and 15 (certainty: 0.64)"
       ]
      },
      {
       "output_type": "stream",
       "stream": "stdout",
       "text": [
        "\n",
        "Score: 0.0122 for 15 and 21 (certainty: 0.51)"
       ]
      },
      {
       "output_type": "stream",
       "stream": "stdout",
       "text": [
        "\n",
        "Score: 0.0008 for 15 and 15 (certainty: 0.19)"
       ]
      },
      {
       "output_type": "stream",
       "stream": "stdout",
       "text": [
        "\n",
        "Score: 0.0031 for 15 and 16 (certainty: 0.64)"
       ]
      },
      {
       "output_type": "stream",
       "stream": "stdout",
       "text": [
        "\n",
        "Score: 0.0054 for 15 and 17 (certainty: 0.51)"
       ]
      },
      {
       "output_type": "stream",
       "stream": "stdout",
       "text": [
        "\n",
        "Score: 0.0115 for 15 and 28 (certainty: 0.36)"
       ]
      },
      {
       "output_type": "stream",
       "stream": "stdout",
       "text": [
        "\n",
        "Score: 0.0278 for 15 and 27 (certainty: 0.84)"
       ]
      },
      {
       "output_type": "stream",
       "stream": "stdout",
       "text": [
        "\n",
        "Score: 0.0042 for 15 and 13 (certainty: 0.64)"
       ]
      },
      {
       "output_type": "stream",
       "stream": "stdout",
       "text": [
        "\n",
        "Score: 0.0130 for 15 and 23 (certainty: 0.51)"
       ]
      },
      {
       "output_type": "stream",
       "stream": "stdout",
       "text": [
        "\n",
        "Score: 0.0000 for 16 and 23 (certainty: 0.36)"
       ]
      },
      {
       "output_type": "stream",
       "stream": "stdout",
       "text": [
        "\n",
        "Score: 0.0009 for 16 and 23 (certainty: 0.36)"
       ]
      },
      {
       "output_type": "stream",
       "stream": "stdout",
       "text": [
        "\n",
        "Score: 0.0096 for 16 and 32 (certainty: 0.51)"
       ]
      },
      {
       "output_type": "stream",
       "stream": "stdout",
       "text": [
        "\n",
        "Score: 0.0042 for 16 and 15 (certainty: 0.64)"
       ]
      },
      {
       "output_type": "stream",
       "stream": "stdout",
       "text": [
        "\n",
        "Score: 0.0024 for 16 and 24 (certainty: 0.36)"
       ]
      },
      {
       "output_type": "stream",
       "stream": "stdout",
       "text": [
        "\n",
        "Score: 0.0037 for 16 and 25 (certainty: 0.64)"
       ]
      },
      {
       "output_type": "stream",
       "stream": "stdout",
       "text": [
        "\n",
        "Score: 0.0011 for 16 and 30 (certainty: 0.51)"
       ]
      },
      {
       "output_type": "stream",
       "stream": "stdout",
       "text": [
        "\n",
        "Score: 0.0149 for 16 and 32 (certainty: 0.51)"
       ]
      },
      {
       "output_type": "stream",
       "stream": "stdout",
       "text": [
        "\n",
        "['../../images/testsets/Gallagher_small_unresized/16_182.jpg', '../../images/testsets/Gallagher_small_unresized/29_538.jpg']\n",
        "No descriptors found. Returning score 0\n",
        "Score: 0.0100 for 16 and 21 (certainty: 0.99)"
       ]
      },
      {
       "output_type": "stream",
       "stream": "stdout",
       "text": [
        "\n",
        "Score: 0.0158 for 16 and 20 (certainty: 0.64)"
       ]
      },
      {
       "output_type": "stream",
       "stream": "stdout",
       "text": [
        "\n",
        "Score: 0.0060 for 16 and 15 (certainty: 0.96)"
       ]
      },
      {
       "output_type": "stream",
       "stream": "stdout",
       "text": [
        "\n",
        "Score: 0.0213 for 16 and 15 (certainty: 0.84)"
       ]
      },
      {
       "output_type": "stream",
       "stream": "stdout",
       "text": [
        "\n",
        "Score: 0.0121 for 16 and 19 (certainty: 0.84)"
       ]
      },
      {
       "output_type": "stream",
       "stream": "stdout",
       "text": [
        "\n",
        "Score: 0.0064 for 16 and 19 (certainty: 0.51)"
       ]
      },
      {
       "output_type": "stream",
       "stream": "stdout",
       "text": [
        "\n",
        "Score: 0.0182 for 16 and 21 (certainty: 0.91)"
       ]
      },
      {
       "output_type": "stream",
       "stream": "stdout",
       "text": [
        "\n",
        "Score: 0.0014 for 16 and 26 (certainty: 0.64)"
       ]
      },
      {
       "output_type": "stream",
       "stream": "stdout",
       "text": [
        "\n",
        "Score: 0.0053 for 16 and 27 (certainty: 0.84)"
       ]
      },
      {
       "output_type": "stream",
       "stream": "stdout",
       "text": [
        "\n",
        "Score: 0.0042 for 16 and 15 (certainty: 0.75)"
       ]
      },
      {
       "output_type": "stream",
       "stream": "stdout",
       "text": [
        "\n",
        "Score: 0.0138 for 16 and 15 (certainty: 0.75)"
       ]
      },
      {
       "output_type": "stream",
       "stream": "stdout",
       "text": [
        "\n",
        "Score: 0.0032 for 16 and 21 (certainty: 0.51)"
       ]
      },
      {
       "output_type": "stream",
       "stream": "stdout",
       "text": [
        "\n",
        "Score: 0.0000 for 16 and 15 (certainty: 0.00)"
       ]
      },
      {
       "output_type": "stream",
       "stream": "stdout",
       "text": [
        "\n",
        "Score: 0.0044 for 16 and 16 (certainty: 0.84)"
       ]
      },
      {
       "output_type": "stream",
       "stream": "stdout",
       "text": [
        "\n",
        "Score: 0.0000 for 16 and 17 (certainty: 0.00)"
       ]
      },
      {
       "output_type": "stream",
       "stream": "stdout",
       "text": [
        "\n",
        "Score: 0.0016 for 16 and 28 (certainty: 0.36)"
       ]
      },
      {
       "output_type": "stream",
       "stream": "stdout",
       "text": [
        "\n",
        "Score: 0.0049 for 16 and 27 (certainty: 0.84)"
       ]
      },
      {
       "output_type": "stream",
       "stream": "stdout",
       "text": [
        "\n",
        "Score: 0.0023 for 16 and 13 (certainty: 0.84)"
       ]
      },
      {
       "output_type": "stream",
       "stream": "stdout",
       "text": [
        "\n",
        "Score: 0.0021 for 16 and 23 (certainty: 0.75)"
       ]
      },
      {
       "output_type": "stream",
       "stream": "stdout",
       "text": [
        "\n",
        "Score: 0.0404 for 23 and 23 (certainty: 1.00)"
       ]
      },
      {
       "output_type": "stream",
       "stream": "stdout",
       "text": [
        "\n",
        "Score: 0.0305 for 23 and 32 (certainty: 0.75)"
       ]
      },
      {
       "output_type": "stream",
       "stream": "stdout",
       "text": [
        "\n",
        "Score: 0.0148 for 23 and 15 (certainty: 0.75)"
       ]
      },
      {
       "output_type": "stream",
       "stream": "stdout",
       "text": [
        "\n",
        "Score: 0.0158 for 23 and 24 (certainty: 0.96)"
       ]
      },
      {
       "output_type": "stream",
       "stream": "stdout",
       "text": [
        "\n",
        "Score: 0.0231 for 23 and 25 (certainty: 0.91)"
       ]
      },
      {
       "output_type": "stream",
       "stream": "stdout",
       "text": [
        "\n",
        "Score: 0.0273 for 23 and 30 (certainty: 1.00)"
       ]
      },
      {
       "output_type": "stream",
       "stream": "stdout",
       "text": [
        "\n",
        "Score: 0.0034 for 23 and 32 (certainty: 0.51)"
       ]
      },
      {
       "output_type": "stream",
       "stream": "stdout",
       "text": [
        "\n",
        "['../../images/testsets/Gallagher_small_unresized/23_875.jpg', '../../images/testsets/Gallagher_small_unresized/29_538.jpg']\n",
        "No descriptors found. Returning score 0\n",
        "Score: 0.0145 for 23 and 21 (certainty: 1.00)"
       ]
      },
      {
       "output_type": "stream",
       "stream": "stdout",
       "text": [
        "\n",
        "Score: 0.0295 for 23 and 20 (certainty: 0.96)"
       ]
      },
      {
       "output_type": "stream",
       "stream": "stdout",
       "text": [
        "\n",
        "Score: 0.0136 for 23 and 15 (certainty: 0.84)"
       ]
      },
      {
       "output_type": "stream",
       "stream": "stdout",
       "text": [
        "\n",
        "Score: 0.0036 for 23 and 15 (certainty: 0.75)"
       ]
      },
      {
       "output_type": "stream",
       "stream": "stdout",
       "text": [
        "\n",
        "Score: 0.0133 for 23 and 19 (certainty: 0.64)"
       ]
      },
      {
       "output_type": "stream",
       "stream": "stdout",
       "text": [
        "\n",
        "Score: 0.0453 for 23 and 19 (certainty: 0.99)"
       ]
      },
      {
       "output_type": "stream",
       "stream": "stdout",
       "text": [
        "\n",
        "Score: 0.0125 for 23 and 21 (certainty: 0.64)"
       ]
      },
      {
       "output_type": "stream",
       "stream": "stdout",
       "text": [
        "\n",
        "Score: 0.0043 for 23 and 26 (certainty: 0.96)"
       ]
      },
      {
       "output_type": "stream",
       "stream": "stdout",
       "text": [
        "\n",
        "Score: 0.0292 for 23 and 27 (certainty: 0.84)"
       ]
      },
      {
       "output_type": "stream",
       "stream": "stdout",
       "text": [
        "\n",
        "Score: 0.0175 for 23 and 15 (certainty: 1.00)"
       ]
      },
      {
       "output_type": "stream",
       "stream": "stdout",
       "text": [
        "\n",
        "Score: 0.0025 for 23 and 15 (certainty: 0.64)"
       ]
      },
      {
       "output_type": "stream",
       "stream": "stdout",
       "text": [
        "\n",
        "Score: 0.0186 for 23 and 21 (certainty: 0.64)"
       ]
      },
      {
       "output_type": "stream",
       "stream": "stdout",
       "text": [
        "\n",
        "Score: 0.0021 for 23 and 15 (certainty: 0.19)\n",
        "Score: 0.0168 for 23 and 16 (certainty: 0.64)"
       ]
      },
      {
       "output_type": "stream",
       "stream": "stdout",
       "text": [
        "\n",
        "Score: 0.0225 for 23 and 17 (certainty: 0.51)\n",
        "Score: 0.0084 for 23 and 28 (certainty: 0.36)"
       ]
      },
      {
       "output_type": "stream",
       "stream": "stdout",
       "text": [
        "\n",
        "Score: 0.0129 for 23 and 27 (certainty: 0.91)"
       ]
      },
      {
       "output_type": "stream",
       "stream": "stdout",
       "text": [
        "\n",
        "Score: 0.0025 for 23 and 13 (certainty: 0.64)"
       ]
      },
      {
       "output_type": "stream",
       "stream": "stdout",
       "text": [
        "\n",
        "Score: 0.0146 for 23 and 23 (certainty: 0.96)"
       ]
      },
      {
       "output_type": "stream",
       "stream": "stdout",
       "text": [
        "\n",
        "Score: 0.0244 for 23 and 32 (certainty: 0.75)\n",
        "Score: 0.0042 for 23 and 15 (certainty: 0.75)"
       ]
      },
      {
       "output_type": "stream",
       "stream": "stdout",
       "text": [
        "\n",
        "Score: 0.0045 for 23 and 24 (certainty: 0.75)"
       ]
      },
      {
       "output_type": "stream",
       "stream": "stdout",
       "text": [
        "\n",
        "Score: 0.0312 for 23 and 25 (certainty: 0.84)"
       ]
      },
      {
       "output_type": "stream",
       "stream": "stdout",
       "text": [
        "\n",
        "Score: 0.0083 for 23 and 30 (certainty: 0.96)"
       ]
      },
      {
       "output_type": "stream",
       "stream": "stdout",
       "text": [
        "\n",
        "Score: 0.0030 for 23 and 32 (certainty: 0.64)"
       ]
      },
      {
       "output_type": "stream",
       "stream": "stdout",
       "text": [
        "\n",
        "['../../images/testsets/Gallagher_small_unresized/23_549.jpg', '../../images/testsets/Gallagher_small_unresized/29_538.jpg']\n",
        "No descriptors found. Returning score 0\n",
        "Score: 0.0074 for 23 and 21 (certainty: 0.91)"
       ]
      },
      {
       "output_type": "stream",
       "stream": "stdout",
       "text": [
        "\n",
        "Score: 0.0119 for 23 and 20 (certainty: 0.75)"
       ]
      },
      {
       "output_type": "stream",
       "stream": "stdout",
       "text": [
        "\n",
        "Score: 0.0078 for 23 and 15 (certainty: 0.91)"
       ]
      },
      {
       "output_type": "stream",
       "stream": "stdout",
       "text": [
        "\n",
        "Score: 0.0054 for 23 and 15 (certainty: 0.91)"
       ]
      },
      {
       "output_type": "stream",
       "stream": "stdout",
       "text": [
        "\n",
        "Score: 0.0073 for 23 and 19 (certainty: 0.75)"
       ]
      },
      {
       "output_type": "stream",
       "stream": "stdout",
       "text": [
        "\n",
        "Score: 0.0166 for 23 and 19 (certainty: 0.75)"
       ]
      },
      {
       "output_type": "stream",
       "stream": "stdout",
       "text": [
        "\n",
        "Score: 0.0045 for 23 and 21 (certainty: 0.75)"
       ]
      },
      {
       "output_type": "stream",
       "stream": "stdout",
       "text": [
        "\n",
        "Score: 0.0177 for 23 and 26 (certainty: 1.00)"
       ]
      },
      {
       "output_type": "stream",
       "stream": "stdout",
       "text": [
        "\n",
        "Score: 0.0061 for 23 and 27 (certainty: 0.91)"
       ]
      },
      {
       "output_type": "stream",
       "stream": "stdout",
       "text": [
        "\n",
        "Score: 0.0139 for 23 and 15 (certainty: 0.99)"
       ]
      },
      {
       "output_type": "stream",
       "stream": "stdout",
       "text": [
        "\n",
        "Score: 0.0155 for 23 and 15 (certainty: 0.75)"
       ]
      },
      {
       "output_type": "stream",
       "stream": "stdout",
       "text": [
        "\n",
        "Score: 0.0079 for 23 and 21 (certainty: 0.64)"
       ]
      },
      {
       "output_type": "stream",
       "stream": "stdout",
       "text": [
        "\n",
        "Score: 0.0016 for 23 and 15 (certainty: 0.19)\n",
        "Score: 0.0144 for 23 and 16 (certainty: 0.64)"
       ]
      },
      {
       "output_type": "stream",
       "stream": "stdout",
       "text": [
        "\n",
        "Score: 0.0020 for 23 and 17 (certainty: 0.51)"
       ]
      },
      {
       "output_type": "stream",
       "stream": "stdout",
       "text": [
        "\n",
        "Score: 0.0149 for 23 and 28 (certainty: 0.51)\n",
        "Score: 0.0188 for 23 and 27 (certainty: 0.84)"
       ]
      },
      {
       "output_type": "stream",
       "stream": "stdout",
       "text": [
        "\n",
        "Score: 0.0036 for 23 and 13 (certainty: 0.64)"
       ]
      },
      {
       "output_type": "stream",
       "stream": "stdout",
       "text": [
        "\n",
        "Score: 0.0209 for 23 and 23 (certainty: 0.99)"
       ]
      },
      {
       "output_type": "stream",
       "stream": "stdout",
       "text": [
        "\n",
        "Score: 0.0653 for 32 and 15 (certainty: 0.84)"
       ]
      },
      {
       "output_type": "stream",
       "stream": "stdout",
       "text": [
        "\n",
        "Score: 0.0316 for 32 and 24 (certainty: 0.75)\n",
        "Score: 0.0470 for 32 and 25 (certainty: 0.64)"
       ]
      },
      {
       "output_type": "stream",
       "stream": "stdout",
       "text": [
        "\n",
        "Score: 0.0146 for 32 and 30 (certainty: 0.75)"
       ]
      },
      {
       "output_type": "stream",
       "stream": "stdout",
       "text": [
        "\n",
        "Score: 0.0166 for 32 and 32 (certainty: 0.75)"
       ]
      },
      {
       "output_type": "stream",
       "stream": "stdout",
       "text": [
        "\n",
        "['../../images/testsets/Gallagher_small_unresized/32_648.jpg', '../../images/testsets/Gallagher_small_unresized/29_538.jpg']\n",
        "No descriptors found. Returning score 0\n",
        "Score: 0.0194 for 32 and 21 (certainty: 0.64)"
       ]
      },
      {
       "output_type": "stream",
       "stream": "stdout",
       "text": [
        "\n",
        "Score: 0.0405 for 32 and 20 (certainty: 0.91)"
       ]
      },
      {
       "output_type": "stream",
       "stream": "stdout",
       "text": [
        "\n",
        "Score: 0.0091 for 32 and 15 (certainty: 0.75)"
       ]
      },
      {
       "output_type": "stream",
       "stream": "stdout",
       "text": [
        "\n",
        "Score: 0.0153 for 32 and 15 (certainty: 0.64)"
       ]
      },
      {
       "output_type": "stream",
       "stream": "stdout",
       "text": [
        "\n",
        "Score: 0.0121 for 32 and 19 (certainty: 0.64)"
       ]
      },
      {
       "output_type": "stream",
       "stream": "stdout",
       "text": [
        "\n",
        "Score: 0.0317 for 32 and 19 (certainty: 0.64)\n",
        "Score: 0.0207 for 32 and 21 (certainty: 0.75)"
       ]
      },
      {
       "output_type": "stream",
       "stream": "stdout",
       "text": [
        "\n",
        "Score: 0.0097 for 32 and 26 (certainty: 0.64)"
       ]
      },
      {
       "output_type": "stream",
       "stream": "stdout",
       "text": [
        "\n",
        "Score: 0.0372 for 32 and 27 (certainty: 0.84)\n",
        "Score: 0.0052 for 32 and 15 (certainty: 0.51)"
       ]
      },
      {
       "output_type": "stream",
       "stream": "stdout",
       "text": [
        "\n",
        "Score: 0.0127 for 32 and 15 (certainty: 0.75)"
       ]
      },
      {
       "output_type": "stream",
       "stream": "stdout",
       "text": [
        "\n",
        "Score: 0.0067 for 32 and 21 (certainty: 0.51)\n",
        "Score: 0.0036 for 32 and 15 (certainty: 0.19)\n",
        "Score: 0.0102 for 32 and 16 (certainty: 0.51)"
       ]
      },
      {
       "output_type": "stream",
       "stream": "stdout",
       "text": [
        "\n",
        "Score: 0.0148 for 32 and 17 (certainty: 0.51)\n",
        "Score: 0.0192 for 32 and 28 (certainty: 0.36)\n",
        "Score: 0.0135 for 32 and 27 (certainty: 0.75)"
       ]
      },
      {
       "output_type": "stream",
       "stream": "stdout",
       "text": [
        "\n",
        "Score: 0.0044 for 32 and 13 (certainty: 0.64)\n",
        "Score: 0.0389 for 32 and 23 (certainty: 0.75)"
       ]
      },
      {
       "output_type": "stream",
       "stream": "stdout",
       "text": [
        "\n",
        "Score: 0.0089 for 15 and 24 (certainty: 0.36)"
       ]
      },
      {
       "output_type": "stream",
       "stream": "stdout",
       "text": [
        "\n",
        "Score: 0.0310 for 15 and 25 (certainty: 0.75)"
       ]
      },
      {
       "output_type": "stream",
       "stream": "stdout",
       "text": [
        "\n",
        "Score: 0.0000 for 15 and 30 (certainty: 0.00)"
       ]
      },
      {
       "output_type": "stream",
       "stream": "stdout",
       "text": [
        "\n",
        "Score: 0.0223 for 15 and 32 (certainty: 0.91)"
       ]
      },
      {
       "output_type": "stream",
       "stream": "stdout",
       "text": [
        "\n",
        "['../../images/testsets/Gallagher_small_unresized/15_171.jpg', '../../images/testsets/Gallagher_small_unresized/29_538.jpg']\n",
        "No descriptors found. Returning score 0\n",
        "Score: 0.0013 for 15 and 21 (certainty: 0.51)"
       ]
      },
      {
       "output_type": "stream",
       "stream": "stdout",
       "text": [
        "\n",
        "Score: 0.0134 for 15 and 20 (certainty: 0.96)"
       ]
      },
      {
       "output_type": "stream",
       "stream": "stdout",
       "text": [
        "\n",
        "Score: 0.0096 for 15 and 15 (certainty: 0.91)"
       ]
      },
      {
       "output_type": "stream",
       "stream": "stdout",
       "text": [
        "\n",
        "Score: 0.0212 for 15 and 15 (certainty: 0.84)"
       ]
      },
      {
       "output_type": "stream",
       "stream": "stdout",
       "text": [
        "\n",
        "Score: 0.0070 for 15 and 19 (certainty: 0.96)"
       ]
      },
      {
       "output_type": "stream",
       "stream": "stdout",
       "text": [
        "\n",
        "Score: 0.0086 for 15 and 19 (certainty: 0.51)"
       ]
      },
      {
       "output_type": "stream",
       "stream": "stdout",
       "text": [
        "\n",
        "Score: 0.0035 for 15 and 21 (certainty: 0.64)"
       ]
      },
      {
       "output_type": "stream",
       "stream": "stdout",
       "text": [
        "\n",
        "Score: 0.0130 for 15 and 26 (certainty: 0.51)"
       ]
      },
      {
       "output_type": "stream",
       "stream": "stdout",
       "text": [
        "\n",
        "Score: 0.0222 for 15 and 27 (certainty: 0.84)"
       ]
      },
      {
       "output_type": "stream",
       "stream": "stdout",
       "text": [
        "\n",
        "Score: 0.0147 for 15 and 15 (certainty: 0.51)"
       ]
      },
      {
       "output_type": "stream",
       "stream": "stdout",
       "text": [
        "\n",
        "Score: 0.0011 for 15 and 15 (certainty: 0.75)"
       ]
      },
      {
       "output_type": "stream",
       "stream": "stdout",
       "text": [
        "\n",
        "Score: 0.0057 for 15 and 21 (certainty: 0.51)"
       ]
      },
      {
       "output_type": "stream",
       "stream": "stdout",
       "text": [
        "\n",
        "Score: 0.0134 for 15 and 15 (certainty: 0.19)"
       ]
      },
      {
       "output_type": "stream",
       "stream": "stdout",
       "text": [
        "\n",
        "Score: 0.0041 for 15 and 16 (certainty: 0.96)"
       ]
      },
      {
       "output_type": "stream",
       "stream": "stdout",
       "text": [
        "\n",
        "Score: 0.0127 for 15 and 17 (certainty: 0.36)"
       ]
      },
      {
       "output_type": "stream",
       "stream": "stdout",
       "text": [
        "\n",
        "Score: 0.0064 for 15 and 28 (certainty: 0.36)"
       ]
      },
      {
       "output_type": "stream",
       "stream": "stdout",
       "text": [
        "\n",
        "Score: 0.0135 for 15 and 27 (certainty: 0.75)"
       ]
      },
      {
       "output_type": "stream",
       "stream": "stdout",
       "text": [
        "\n",
        "Score: 0.0034 for 15 and 13 (certainty: 0.75)"
       ]
      },
      {
       "output_type": "stream",
       "stream": "stdout",
       "text": [
        "\n",
        "Score: 0.0067 for 15 and 23 (certainty: 0.64)"
       ]
      },
      {
       "output_type": "stream",
       "stream": "stdout",
       "text": [
        "\n",
        "Score: 0.0194 for 24 and 25 (certainty: 0.36)"
       ]
      },
      {
       "output_type": "stream",
       "stream": "stdout",
       "text": [
        "\n",
        "Score: 0.0075 for 24 and 30 (certainty: 0.64)"
       ]
      },
      {
       "output_type": "stream",
       "stream": "stdout",
       "text": [
        "\n",
        "Score: 0.0039 for 24 and 32 (certainty: 0.64)"
       ]
      },
      {
       "output_type": "stream",
       "stream": "stdout",
       "text": [
        "\n",
        "['../../images/testsets/Gallagher_small_unresized/24_358.jpg', '../../images/testsets/Gallagher_small_unresized/29_538.jpg']\n",
        "No descriptors found. Returning score 0\n",
        "Score: 0.0097 for 24 and 21 (certainty: 0.75)"
       ]
      },
      {
       "output_type": "stream",
       "stream": "stdout",
       "text": [
        "\n",
        "Score: 0.0033 for 24 and 20 (certainty: 0.75)"
       ]
      },
      {
       "output_type": "stream",
       "stream": "stdout",
       "text": [
        "\n",
        "Score: 0.0142 for 24 and 15 (certainty: 0.84)"
       ]
      },
      {
       "output_type": "stream",
       "stream": "stdout",
       "text": [
        "\n",
        "Score: 0.0163 for 24 and 15 (certainty: 0.84)"
       ]
      },
      {
       "output_type": "stream",
       "stream": "stdout",
       "text": [
        "\n",
        "Score: 0.0061 for 24 and 19 (certainty: 0.75)"
       ]
      },
      {
       "output_type": "stream",
       "stream": "stdout",
       "text": [
        "\n",
        "Score: 0.0000 for 24 and 19 (certainty: 0.19)"
       ]
      },
      {
       "output_type": "stream",
       "stream": "stdout",
       "text": [
        "\n",
        "Score: 0.0424 for 24 and 21 (certainty: 0.84)"
       ]
      },
      {
       "output_type": "stream",
       "stream": "stdout",
       "text": [
        "\n",
        "Score: 0.0109 for 24 and 26 (certainty: 0.75)"
       ]
      },
      {
       "output_type": "stream",
       "stream": "stdout",
       "text": [
        "\n",
        "Score: 0.0186 for 24 and 27 (certainty: 0.51)"
       ]
      },
      {
       "output_type": "stream",
       "stream": "stdout",
       "text": [
        "\n",
        "Score: 0.0000 for 24 and 15 (certainty: 0.51)"
       ]
      },
      {
       "output_type": "stream",
       "stream": "stdout",
       "text": [
        "\n",
        "Score: 0.0125 for 24 and 15 (certainty: 0.75)"
       ]
      },
      {
       "output_type": "stream",
       "stream": "stdout",
       "text": [
        "\n",
        "Score: 0.0158 for 24 and 21 (certainty: 0.51)"
       ]
      },
      {
       "output_type": "stream",
       "stream": "stdout",
       "text": [
        "\n",
        "Score: 0.0115 for 24 and 15 (certainty: 0.19)\n",
        "Score: 0.0090 for 24 and 16 (certainty: 0.64)"
       ]
      },
      {
       "output_type": "stream",
       "stream": "stdout",
       "text": [
        "\n",
        "Score: 0.0115 for 24 and 17 (certainty: 0.36)\n",
        "Score: 0.0046 for 24 and 28 (certainty: 0.36)"
       ]
      },
      {
       "output_type": "stream",
       "stream": "stdout",
       "text": [
        "\n",
        "Score: 0.0062 for 24 and 27 (certainty: 0.64)"
       ]
      },
      {
       "output_type": "stream",
       "stream": "stdout",
       "text": [
        "\n",
        "Score: 0.0103 for 24 and 13 (certainty: 0.36)"
       ]
      },
      {
       "output_type": "stream",
       "stream": "stdout",
       "text": [
        "\n",
        "Score: 0.0078 for 24 and 23 (certainty: 0.51)"
       ]
      },
      {
       "output_type": "stream",
       "stream": "stdout",
       "text": [
        "\n",
        "Score: 0.0222 for 25 and 30 (certainty: 0.84)"
       ]
      },
      {
       "output_type": "stream",
       "stream": "stdout",
       "text": [
        "\n",
        "Score: 0.0162 for 25 and 32 (certainty: 0.64)"
       ]
      },
      {
       "output_type": "stream",
       "stream": "stdout",
       "text": [
        "\n",
        "['../../images/testsets/Gallagher_small_unresized/25_458.jpg', '../../images/testsets/Gallagher_small_unresized/29_538.jpg']\n",
        "No descriptors found. Returning score 0\n",
        "Score: 0.0204 for 25 and 21 (certainty: 0.91)"
       ]
      },
      {
       "output_type": "stream",
       "stream": "stdout",
       "text": [
        "\n",
        "Score: 0.0335 for 25 and 20 (certainty: 0.75)"
       ]
      },
      {
       "output_type": "stream",
       "stream": "stdout",
       "text": [
        "\n",
        "Score: 0.0044 for 25 and 15 (certainty: 0.64)"
       ]
      },
      {
       "output_type": "stream",
       "stream": "stdout",
       "text": [
        "\n",
        "Score: 0.0277 for 25 and 15 (certainty: 0.96)"
       ]
      },
      {
       "output_type": "stream",
       "stream": "stdout",
       "text": [
        "\n",
        "Score: 0.0127 for 25 and 19 (certainty: 0.64)"
       ]
      },
      {
       "output_type": "stream",
       "stream": "stdout",
       "text": [
        "\n",
        "Score: 0.0273 for 25 and 19 (certainty: 0.96)"
       ]
      },
      {
       "output_type": "stream",
       "stream": "stdout",
       "text": [
        "\n",
        "Score: 0.0201 for 25 and 21 (certainty: 0.84)"
       ]
      },
      {
       "output_type": "stream",
       "stream": "stdout",
       "text": [
        "\n",
        "Score: 0.0051 for 25 and 26 (certainty: 0.91)"
       ]
      },
      {
       "output_type": "stream",
       "stream": "stdout",
       "text": [
        "\n",
        "Score: 0.0146 for 25 and 27 (certainty: 0.64)"
       ]
      },
      {
       "output_type": "stream",
       "stream": "stdout",
       "text": [
        "\n",
        "Score: 0.0334 for 25 and 15 (certainty: 0.96)"
       ]
      },
      {
       "output_type": "stream",
       "stream": "stdout",
       "text": [
        "\n",
        "Score: 0.0127 for 25 and 15 (certainty: 0.91)"
       ]
      },
      {
       "output_type": "stream",
       "stream": "stdout",
       "text": [
        "\n",
        "Score: 0.0188 for 25 and 21 (certainty: 0.84)"
       ]
      },
      {
       "output_type": "stream",
       "stream": "stdout",
       "text": [
        "\n",
        "Score: 0.0016 for 25 and 15 (certainty: 0.19)"
       ]
      },
      {
       "output_type": "stream",
       "stream": "stdout",
       "text": [
        "\n",
        "Score: 0.0064 for 25 and 16 (certainty: 0.75)"
       ]
      },
      {
       "output_type": "stream",
       "stream": "stdout",
       "text": [
        "\n",
        "Score: 0.0087 for 25 and 17 (certainty: 0.51)"
       ]
      },
      {
       "output_type": "stream",
       "stream": "stdout",
       "text": [
        "\n",
        "Score: 0.0179 for 25 and 28 (certainty: 0.51)\n",
        "Score: 0.0268 for 25 and 27 (certainty: 0.84)"
       ]
      },
      {
       "output_type": "stream",
       "stream": "stdout",
       "text": [
        "\n",
        "Score: 0.0014 for 25 and 13 (certainty: 0.64)"
       ]
      },
      {
       "output_type": "stream",
       "stream": "stdout",
       "text": [
        "\n",
        "Score: 0.0111 for 25 and 23 (certainty: 0.84)"
       ]
      },
      {
       "output_type": "stream",
       "stream": "stdout",
       "text": [
        "\n",
        "Score: 0.0042 for 30 and 32 (certainty: 0.84)"
       ]
      },
      {
       "output_type": "stream",
       "stream": "stdout",
       "text": [
        "\n",
        "['../../images/testsets/Gallagher_small_unresized/30_569.jpg', '../../images/testsets/Gallagher_small_unresized/29_538.jpg']\n",
        "No descriptors found. Returning score 0\n",
        "Score: 0.0161 for 30 and 21 (certainty: 1.00)"
       ]
      },
      {
       "output_type": "stream",
       "stream": "stdout",
       "text": [
        "\n",
        "Score: 0.0088 for 30 and 20 (certainty: 0.96)"
       ]
      },
      {
       "output_type": "stream",
       "stream": "stdout",
       "text": [
        "\n",
        "Score: 0.0268 for 30 and 15 (certainty: 1.00)"
       ]
      },
      {
       "output_type": "stream",
       "stream": "stdout",
       "text": [
        "\n",
        "Score: 0.0073 for 30 and 15 (certainty: 0.99)"
       ]
      },
      {
       "output_type": "stream",
       "stream": "stdout",
       "text": [
        "\n",
        "Score: 0.0169 for 30 and 19 (certainty: 0.99)"
       ]
      },
      {
       "output_type": "stream",
       "stream": "stdout",
       "text": [
        "\n",
        "Score: 0.0379 for 30 and 19 (certainty: 0.96)"
       ]
      },
      {
       "output_type": "stream",
       "stream": "stdout",
       "text": [
        "\n",
        "Score: 0.0087 for 30 and 21 (certainty: 0.84)"
       ]
      },
      {
       "output_type": "stream",
       "stream": "stdout",
       "text": [
        "\n",
        "Score: 0.0145 for 30 and 26 (certainty: 1.00)"
       ]
      },
      {
       "output_type": "stream",
       "stream": "stdout",
       "text": [
        "\n",
        "Score: 0.0167 for 30 and 27 (certainty: 0.99)"
       ]
      },
      {
       "output_type": "stream",
       "stream": "stdout",
       "text": [
        "\n",
        "Score: 0.0188 for 30 and 15 (certainty: 1.00)"
       ]
      },
      {
       "output_type": "stream",
       "stream": "stdout",
       "text": [
        "\n",
        "Score: 0.0137 for 30 and 15 (certainty: 0.75)"
       ]
      },
      {
       "output_type": "stream",
       "stream": "stdout",
       "text": [
        "\n",
        "Score: 0.0206 for 30 and 21 (certainty: 0.64)"
       ]
      },
      {
       "output_type": "stream",
       "stream": "stdout",
       "text": [
        "\n",
        "Score: 0.0013 for 30 and 15 (certainty: 0.19)"
       ]
      },
      {
       "output_type": "stream",
       "stream": "stdout",
       "text": [
        "\n",
        "Score: 0.0210 for 30 and 16 (certainty: 0.91)"
       ]
      },
      {
       "output_type": "stream",
       "stream": "stdout",
       "text": [
        "\n",
        "Score: 0.0232 for 30 and 17 (certainty: 0.51)"
       ]
      },
      {
       "output_type": "stream",
       "stream": "stdout",
       "text": [
        "\n",
        "Score: 0.0132 for 30 and 28 (certainty: 0.51)"
       ]
      },
      {
       "output_type": "stream",
       "stream": "stdout",
       "text": [
        "\n",
        "Score: 0.0214 for 30 and 27 (certainty: 1.00)"
       ]
      },
      {
       "output_type": "stream",
       "stream": "stdout",
       "text": [
        "\n",
        "Score: 0.0253 for 30 and 13 (certainty: 0.91)"
       ]
      },
      {
       "output_type": "stream",
       "stream": "stdout",
       "text": [
        "\n",
        "Score: 0.0164 for 30 and 23 (certainty: 1.00)"
       ]
      },
      {
       "output_type": "stream",
       "stream": "stdout",
       "text": [
        "\n",
        "['../../images/testsets/Gallagher_small_unresized/32_645.jpg', '../../images/testsets/Gallagher_small_unresized/29_538.jpg']\n",
        "No descriptors found. Returning score 0\n",
        "Score: 0.0028 for 32 and 21 (certainty: 0.19)"
       ]
      },
      {
       "output_type": "stream",
       "stream": "stdout",
       "text": [
        "\n",
        "Score: 0.0142 for 32 and 20 (certainty: 0.51)"
       ]
      },
      {
       "output_type": "stream",
       "stream": "stdout",
       "text": [
        "\n",
        "Score: 0.0038 for 32 and 15 (certainty: 0.36)"
       ]
      },
      {
       "output_type": "stream",
       "stream": "stdout",
       "text": [
        "\n",
        "Score: 0.0049 for 32 and 15 (certainty: 0.36)"
       ]
      },
      {
       "output_type": "stream",
       "stream": "stdout",
       "text": [
        "\n",
        "Score: 0.0283 for 32 and 19 (certainty: 0.84)"
       ]
      },
      {
       "output_type": "stream",
       "stream": "stdout",
       "text": [
        "\n",
        "Score: 0.0094 for 32 and 19 (certainty: 0.36)"
       ]
      },
      {
       "output_type": "stream",
       "stream": "stdout",
       "text": [
        "\n",
        "Score: 0.0048 for 32 and 21 (certainty: 0.36)"
       ]
      },
      {
       "output_type": "stream",
       "stream": "stdout",
       "text": [
        "\n",
        "Score: 0.0033 for 32 and 26 (certainty: 0.36)"
       ]
      },
      {
       "output_type": "stream",
       "stream": "stdout",
       "text": [
        "\n",
        "Score: 0.0000 for 32 and 27 (certainty: 0.19)"
       ]
      },
      {
       "output_type": "stream",
       "stream": "stdout",
       "text": [
        "\n",
        "Score: 0.0005 for 32 and 15 (certainty: 0.36)"
       ]
      },
      {
       "output_type": "stream",
       "stream": "stdout",
       "text": [
        "\n",
        "Score: 0.0041 for 32 and 15 (certainty: 0.51)"
       ]
      },
      {
       "output_type": "stream",
       "stream": "stdout",
       "text": [
        "\n",
        "Score: 0.0141 for 32 and 21 (certainty: 0.51)"
       ]
      },
      {
       "output_type": "stream",
       "stream": "stdout",
       "text": [
        "\n",
        "Score: 0.0048 for 32 and 15 (certainty: 0.19)\n",
        "Score: 0.0086 for 32 and 16 (certainty: 0.51)"
       ]
      },
      {
       "output_type": "stream",
       "stream": "stdout",
       "text": [
        "\n",
        "Score: 0.0007 for 32 and 17 (certainty: 0.36)"
       ]
      },
      {
       "output_type": "stream",
       "stream": "stdout",
       "text": [
        "\n",
        "Score: 0.0044 for 32 and 28 (certainty: 0.36)\n",
        "Score: 0.0036 for 32 and 27 (certainty: 0.36)"
       ]
      },
      {
       "output_type": "stream",
       "stream": "stdout",
       "text": [
        "\n",
        "Score: 0.0040 for 32 and 13 (certainty: 0.36)"
       ]
      },
      {
       "output_type": "stream",
       "stream": "stdout",
       "text": [
        "\n",
        "Score: 0.0030 for 32 and 23 (certainty: 0.36)"
       ]
      },
      {
       "output_type": "stream",
       "stream": "stdout",
       "text": [
        "\n",
        "['../../images/testsets/Gallagher_small_unresized/29_538.jpg', '../../images/testsets/Gallagher_small_unresized/21_251.jpg']\n",
        "No descriptors found. Returning score 0\n",
        "['../../images/testsets/Gallagher_small_unresized/29_538.jpg', '../../images/testsets/Gallagher_small_unresized/20_249.jpg']\n",
        "No descriptors found. Returning score 0\n",
        "['../../images/testsets/Gallagher_small_unresized/29_538.jpg', '../../images/testsets/Gallagher_small_unresized/15_181.jpg']\n",
        "No descriptors found. Returning score 0\n",
        "['../../images/testsets/Gallagher_small_unresized/29_538.jpg', '../../images/testsets/Gallagher_small_unresized/15_158.jpg']\n",
        "No descriptors found. Returning score 0\n",
        "['../../images/testsets/Gallagher_small_unresized/29_538.jpg', '../../images/testsets/Gallagher_small_unresized/19_195.jpg']\n",
        "No descriptors found. Returning score 0\n",
        "['../../images/testsets/Gallagher_small_unresized/29_538.jpg', '../../images/testsets/Gallagher_small_unresized/19_193.jpg']\n",
        "No descriptors found. Returning score 0\n",
        "['../../images/testsets/Gallagher_small_unresized/29_538.jpg', '../../images/testsets/Gallagher_small_unresized/21_287.jpg']\n",
        "No descriptors found. Returning score 0\n",
        "['../../images/testsets/Gallagher_small_unresized/29_538.jpg', '../../images/testsets/Gallagher_small_unresized/26_565.jpg']\n",
        "No descriptors found. Returning score 0\n",
        "['../../images/testsets/Gallagher_small_unresized/29_538.jpg', '../../images/testsets/Gallagher_small_unresized/27_509.jpg']\n",
        "No descriptors found. Returning score 0\n",
        "['../../images/testsets/Gallagher_small_unresized/29_538.jpg', '../../images/testsets/Gallagher_small_unresized/15_169.jpg']\n",
        "No descriptors found. Returning score 0\n",
        "['../../images/testsets/Gallagher_small_unresized/29_538.jpg', '../../images/testsets/Gallagher_small_unresized/15_167.jpg']\n",
        "No descriptors found. Returning score 0\n",
        "['../../images/testsets/Gallagher_small_unresized/29_538.jpg', '../../images/testsets/Gallagher_small_unresized/21_587.jpg']\n",
        "No descriptors found. Returning score 0\n",
        "['../../images/testsets/Gallagher_small_unresized/29_538.jpg', '../../images/testsets/Gallagher_small_unresized/15_222.jpg']\n",
        "No descriptors found. Returning score 0\n",
        "['../../images/testsets/Gallagher_small_unresized/29_538.jpg', '../../images/testsets/Gallagher_small_unresized/16_178.jpg']\n",
        "No descriptors found. Returning score 0\n",
        "['../../images/testsets/Gallagher_small_unresized/29_538.jpg', '../../images/testsets/Gallagher_small_unresized/17_165.jpg']\n",
        "No descriptors found. Returning score 0\n",
        "['../../images/testsets/Gallagher_small_unresized/29_538.jpg', '../../images/testsets/Gallagher_small_unresized/28_537.jpg']\n",
        "No descriptors found. Returning score 0\n",
        "['../../images/testsets/Gallagher_small_unresized/29_538.jpg', '../../images/testsets/Gallagher_small_unresized/27_524.jpg']\n",
        "No descriptors found. Returning score 0\n",
        "['../../images/testsets/Gallagher_small_unresized/29_538.jpg', '../../images/testsets/Gallagher_small_unresized/13_163.jpg']\n",
        "No descriptors found. Returning score 0\n",
        "['../../images/testsets/Gallagher_small_unresized/29_538.jpg', '../../images/testsets/Gallagher_small_unresized/23_302.jpg']"
       ]
      },
      {
       "output_type": "stream",
       "stream": "stdout",
       "text": [
        "\n",
        "No descriptors found. Returning score 0\n",
        "Score: 0.0080 for 21 and 20 (certainty: 0.96)"
       ]
      },
      {
       "output_type": "stream",
       "stream": "stdout",
       "text": [
        "\n",
        "Score: 0.0240 for 21 and 15 (certainty: 1.00)"
       ]
      },
      {
       "output_type": "stream",
       "stream": "stdout",
       "text": [
        "\n",
        "Score: 0.0010 for 21 and 15 (certainty: 0.75)"
       ]
      },
      {
       "output_type": "stream",
       "stream": "stdout",
       "text": [
        "\n",
        "Score: 0.0091 for 21 and 19 (certainty: 0.84)"
       ]
      },
      {
       "output_type": "stream",
       "stream": "stdout",
       "text": [
        "\n",
        "Score: 0.0154 for 21 and 19 (certainty: 0.91)"
       ]
      },
      {
       "output_type": "stream",
       "stream": "stdout",
       "text": [
        "\n",
        "Score: 0.0022 for 21 and 21 (certainty: 0.84)"
       ]
      },
      {
       "output_type": "stream",
       "stream": "stdout",
       "text": [
        "\n",
        "Score: 0.0069 for 21 and 26 (certainty: 0.91)"
       ]
      },
      {
       "output_type": "stream",
       "stream": "stdout",
       "text": [
        "\n",
        "Score: 0.0160 for 21 and 27 (certainty: 0.91)"
       ]
      },
      {
       "output_type": "stream",
       "stream": "stdout",
       "text": [
        "\n",
        "Score: 0.0119 for 21 and 15 (certainty: 1.00)"
       ]
      },
      {
       "output_type": "stream",
       "stream": "stdout",
       "text": [
        "\n",
        "Score: 0.0060 for 21 and 15 (certainty: 0.64)"
       ]
      },
      {
       "output_type": "stream",
       "stream": "stdout",
       "text": [
        "\n",
        "Score: 0.0115 for 21 and 21 (certainty: 0.64)"
       ]
      },
      {
       "output_type": "stream",
       "stream": "stdout",
       "text": [
        "\n",
        "Score: 0.0050 for 21 and 15 (certainty: 0.19)"
       ]
      },
      {
       "output_type": "stream",
       "stream": "stdout",
       "text": [
        "\n",
        "Score: 0.0028 for 21 and 16 (certainty: 0.64)"
       ]
      },
      {
       "output_type": "stream",
       "stream": "stdout",
       "text": [
        "\n",
        "Score: 0.0023 for 21 and 17 (certainty: 0.36)"
       ]
      },
      {
       "output_type": "stream",
       "stream": "stdout",
       "text": [
        "\n",
        "Score: 0.0063 for 21 and 28 (certainty: 0.51)"
       ]
      },
      {
       "output_type": "stream",
       "stream": "stdout",
       "text": [
        "\n",
        "Score: 0.0123 for 21 and 27 (certainty: 0.96)"
       ]
      },
      {
       "output_type": "stream",
       "stream": "stdout",
       "text": [
        "\n",
        "Score: 0.0030 for 21 and 13 (certainty: 0.84)"
       ]
      },
      {
       "output_type": "stream",
       "stream": "stdout",
       "text": [
        "\n",
        "Score: 0.0031 for 21 and 23 (certainty: 0.84)"
       ]
      },
      {
       "output_type": "stream",
       "stream": "stdout",
       "text": [
        "\n",
        "Score: 0.0199 for 20 and 15 (certainty: 0.96)"
       ]
      },
      {
       "output_type": "stream",
       "stream": "stdout",
       "text": [
        "\n",
        "Score: 0.0221 for 20 and 15 (certainty: 0.99)"
       ]
      },
      {
       "output_type": "stream",
       "stream": "stdout",
       "text": [
        "\n",
        "Score: 0.0337 for 20 and 19 (certainty: 0.99)"
       ]
      },
      {
       "output_type": "stream",
       "stream": "stdout",
       "text": [
        "\n",
        "Score: 0.0270 for 20 and 19 (certainty: 0.96)"
       ]
      },
      {
       "output_type": "stream",
       "stream": "stdout",
       "text": [
        "\n",
        "Score: 0.0126 for 20 and 21 (certainty: 0.96)"
       ]
      },
      {
       "output_type": "stream",
       "stream": "stdout",
       "text": [
        "\n",
        "Score: 0.0162 for 20 and 26 (certainty: 0.99)"
       ]
      },
      {
       "output_type": "stream",
       "stream": "stdout",
       "text": [
        "\n",
        "Score: 0.0216 for 20 and 27 (certainty: 0.91)"
       ]
      },
      {
       "output_type": "stream",
       "stream": "stdout",
       "text": [
        "\n",
        "Score: 0.0056 for 20 and 15 (certainty: 0.99)"
       ]
      },
      {
       "output_type": "stream",
       "stream": "stdout",
       "text": [
        "\n",
        "Score: 0.0180 for 20 and 15 (certainty: 0.96)"
       ]
      },
      {
       "output_type": "stream",
       "stream": "stdout",
       "text": [
        "\n",
        "Score: 0.0046 for 20 and 21 (certainty: 0.75)"
       ]
      },
      {
       "output_type": "stream",
       "stream": "stdout",
       "text": [
        "\n",
        "Score: 0.0020 for 20 and 15 (certainty: 0.19)"
       ]
      },
      {
       "output_type": "stream",
       "stream": "stdout",
       "text": [
        "\n",
        "Score: 0.0107 for 20 and 16 (certainty: 0.84)"
       ]
      },
      {
       "output_type": "stream",
       "stream": "stdout",
       "text": [
        "\n",
        "Score: 0.0082 for 20 and 17 (certainty: 0.51)"
       ]
      },
      {
       "output_type": "stream",
       "stream": "stdout",
       "text": [
        "\n",
        "Score: 0.0084 for 20 and 28 (certainty: 0.36)"
       ]
      },
      {
       "output_type": "stream",
       "stream": "stdout",
       "text": [
        "\n",
        "Score: 0.0033 for 20 and 27 (certainty: 0.91)"
       ]
      },
      {
       "output_type": "stream",
       "stream": "stdout",
       "text": [
        "\n",
        "Score: 0.0162 for 20 and 13 (certainty: 0.84)"
       ]
      },
      {
       "output_type": "stream",
       "stream": "stdout",
       "text": [
        "\n",
        "Score: 0.0151 for 20 and 23 (certainty: 1.00)"
       ]
      },
      {
       "output_type": "stream",
       "stream": "stdout",
       "text": [
        "\n",
        "Score: 0.0195 for 15 and 15 (certainty: 0.64)"
       ]
      },
      {
       "output_type": "stream",
       "stream": "stdout",
       "text": [
        "\n",
        "Score: 0.0169 for 15 and 19 (certainty: 0.99)"
       ]
      },
      {
       "output_type": "stream",
       "stream": "stdout",
       "text": [
        "\n",
        "Score: 0.0117 for 15 and 19 (certainty: 0.36)"
       ]
      },
      {
       "output_type": "stream",
       "stream": "stdout",
       "text": [
        "\n",
        "Score: 0.0318 for 15 and 21 (certainty: 0.75)"
       ]
      },
      {
       "output_type": "stream",
       "stream": "stdout",
       "text": [
        "\n",
        "Score: 0.0097 for 15 and 26 (certainty: 0.91)"
       ]
      },
      {
       "output_type": "stream",
       "stream": "stdout",
       "text": [
        "\n",
        "Score: 0.0122 for 15 and 27 (certainty: 0.75)"
       ]
      },
      {
       "output_type": "stream",
       "stream": "stdout",
       "text": [
        "\n",
        "Score: 0.0087 for 15 and 15 (certainty: 0.64)"
       ]
      },
      {
       "output_type": "stream",
       "stream": "stdout",
       "text": [
        "\n",
        "Score: 0.0094 for 15 and 15 (certainty: 0.75)"
       ]
      },
      {
       "output_type": "stream",
       "stream": "stdout",
       "text": [
        "\n",
        "Score: 0.0039 for 15 and 21 (certainty: 0.36)"
       ]
      },
      {
       "output_type": "stream",
       "stream": "stdout",
       "text": [
        "\n",
        "Score: 0.0019 for 15 and 15 (certainty: 0.19)"
       ]
      },
      {
       "output_type": "stream",
       "stream": "stdout",
       "text": [
        "\n",
        "Score: 0.0049 for 15 and 16 (certainty: 0.64)"
       ]
      },
      {
       "output_type": "stream",
       "stream": "stdout",
       "text": [
        "\n",
        "Score: 0.0000 for 15 and 17 (certainty: 0.19)"
       ]
      },
      {
       "output_type": "stream",
       "stream": "stdout",
       "text": [
        "\n",
        "Score: 0.0038 for 15 and 28 (certainty: 0.36)"
       ]
      },
      {
       "output_type": "stream",
       "stream": "stdout",
       "text": [
        "\n",
        "Score: 0.0071 for 15 and 27 (certainty: 0.84)"
       ]
      },
      {
       "output_type": "stream",
       "stream": "stdout",
       "text": [
        "\n",
        "Score: 0.0032 for 15 and 13 (certainty: 0.64)"
       ]
      },
      {
       "output_type": "stream",
       "stream": "stdout",
       "text": [
        "\n",
        "Score: 0.0136 for 15 and 23 (certainty: 0.84)"
       ]
      },
      {
       "output_type": "stream",
       "stream": "stdout",
       "text": [
        "\n",
        "Score: 0.0167 for 15 and 19 (certainty: 0.75)"
       ]
      },
      {
       "output_type": "stream",
       "stream": "stdout",
       "text": [
        "\n",
        "Score: 0.0140 for 15 and 19 (certainty: 0.75)"
       ]
      },
      {
       "output_type": "stream",
       "stream": "stdout",
       "text": [
        "\n",
        "Score: 0.0031 for 15 and 21 (certainty: 0.64)"
       ]
      },
      {
       "output_type": "stream",
       "stream": "stdout",
       "text": [
        "\n",
        "Score: 0.0063 for 15 and 26 (certainty: 0.19)"
       ]
      },
      {
       "output_type": "stream",
       "stream": "stdout",
       "text": [
        "\n",
        "Score: 0.0037 for 15 and 27 (certainty: 0.64)"
       ]
      },
      {
       "output_type": "stream",
       "stream": "stdout",
       "text": [
        "\n",
        "Score: 0.0043 for 15 and 15 (certainty: 0.64)"
       ]
      },
      {
       "output_type": "stream",
       "stream": "stdout",
       "text": [
        "\n",
        "Score: 0.0095 for 15 and 15 (certainty: 0.64)"
       ]
      },
      {
       "output_type": "stream",
       "stream": "stdout",
       "text": [
        "\n",
        "Score: 0.0083 for 15 and 21 (certainty: 0.51)"
       ]
      },
      {
       "output_type": "stream",
       "stream": "stdout",
       "text": [
        "\n",
        "Score: 0.0951 for 15 and 15 (certainty: 0.19)"
       ]
      },
      {
       "output_type": "stream",
       "stream": "stdout",
       "text": [
        "\n",
        "Score: 0.0164 for 15 and 16 (certainty: 0.51)"
       ]
      },
      {
       "output_type": "stream",
       "stream": "stdout",
       "text": [
        "\n",
        "Score: 0.0106 for 15 and 17 (certainty: 0.36)"
       ]
      },
      {
       "output_type": "stream",
       "stream": "stdout",
       "text": [
        "\n",
        "Score: 0.0090 for 15 and 28 (certainty: 0.36)"
       ]
      },
      {
       "output_type": "stream",
       "stream": "stdout",
       "text": [
        "\n",
        "Score: 0.0040 for 15 and 27 (certainty: 0.36)"
       ]
      },
      {
       "output_type": "stream",
       "stream": "stdout",
       "text": [
        "\n",
        "Score: 0.0004 for 15 and 13 (certainty: 0.51)"
       ]
      },
      {
       "output_type": "stream",
       "stream": "stdout",
       "text": [
        "\n",
        "Score: 0.0079 for 15 and 23 (certainty: 0.64)"
       ]
      },
      {
       "output_type": "stream",
       "stream": "stdout",
       "text": [
        "\n",
        "Score: 0.0163 for 19 and 19 (certainty: 0.91)"
       ]
      },
      {
       "output_type": "stream",
       "stream": "stdout",
       "text": [
        "\n",
        "Score: 0.0058 for 19 and 21 (certainty: 0.75)"
       ]
      },
      {
       "output_type": "stream",
       "stream": "stdout",
       "text": [
        "\n",
        "Score: 0.0073 for 19 and 26 (certainty: 0.84)"
       ]
      },
      {
       "output_type": "stream",
       "stream": "stdout",
       "text": [
        "\n",
        "Score: 0.0103 for 19 and 27 (certainty: 0.84)"
       ]
      },
      {
       "output_type": "stream",
       "stream": "stdout",
       "text": [
        "\n",
        "Score: 0.0035 for 19 and 15 (certainty: 0.51)"
       ]
      },
      {
       "output_type": "stream",
       "stream": "stdout",
       "text": [
        "\n",
        "Score: 0.0098 for 19 and 15 (certainty: 0.75)"
       ]
      },
      {
       "output_type": "stream",
       "stream": "stdout",
       "text": [
        "\n",
        "Score: 0.0021 for 19 and 21 (certainty: 0.36)"
       ]
      },
      {
       "output_type": "stream",
       "stream": "stdout",
       "text": [
        "\n",
        "Score: 0.0023 for 19 and 15 (certainty: 0.19)\n",
        "Score: 0.0101 for 19 and 16 (certainty: 0.64)"
       ]
      },
      {
       "output_type": "stream",
       "stream": "stdout",
       "text": [
        "\n",
        "Score: 0.0099 for 19 and 17 (certainty: 0.19)"
       ]
      },
      {
       "output_type": "stream",
       "stream": "stdout",
       "text": [
        "\n",
        "Score: 0.0045 for 19 and 28 (certainty: 0.36)\n",
        "Score: 0.0082 for 19 and 27 (certainty: 0.64)"
       ]
      },
      {
       "output_type": "stream",
       "stream": "stdout",
       "text": [
        "\n",
        "Score: 0.0021 for 19 and 13 (certainty: 0.51)"
       ]
      },
      {
       "output_type": "stream",
       "stream": "stdout",
       "text": [
        "\n",
        "Score: 0.0113 for 19 and 23 (certainty: 0.91)"
       ]
      },
      {
       "output_type": "stream",
       "stream": "stdout",
       "text": [
        "\n",
        "Score: 0.0165 for 19 and 21 (certainty: 0.84)"
       ]
      },
      {
       "output_type": "stream",
       "stream": "stdout",
       "text": [
        "\n",
        "Score: 0.0046 for 19 and 26 (certainty: 0.64)"
       ]
      },
      {
       "output_type": "stream",
       "stream": "stdout",
       "text": [
        "\n",
        "Score: 0.0169 for 19 and 27 (certainty: 0.96)"
       ]
      },
      {
       "output_type": "stream",
       "stream": "stdout",
       "text": [
        "\n",
        "Score: 0.0265 for 19 and 15 (certainty: 1.00)"
       ]
      },
      {
       "output_type": "stream",
       "stream": "stdout",
       "text": [
        "\n",
        "Score: 0.0169 for 19 and 15 (certainty: 0.64)"
       ]
      },
      {
       "output_type": "stream",
       "stream": "stdout",
       "text": [
        "\n",
        "Score: 0.0167 for 19 and 21 (certainty: 0.64)"
       ]
      },
      {
       "output_type": "stream",
       "stream": "stdout",
       "text": [
        "\n",
        "Score: 0.0951 for 19 and 15 (certainty: 0.19)\n",
        "Score: 0.0143 for 19 and 16 (certainty: 0.51)"
       ]
      },
      {
       "output_type": "stream",
       "stream": "stdout",
       "text": [
        "\n",
        "Score: 0.0430 for 19 and 17 (certainty: 0.19)"
       ]
      },
      {
       "output_type": "stream",
       "stream": "stdout",
       "text": [
        "\n",
        "Score: 0.0119 for 19 and 28 (certainty: 0.51)\n",
        "Score: 0.0210 for 19 and 27 (certainty: 0.84)"
       ]
      },
      {
       "output_type": "stream",
       "stream": "stdout",
       "text": [
        "\n",
        "Score: 0.0100 for 19 and 13 (certainty: 0.75)"
       ]
      },
      {
       "output_type": "stream",
       "stream": "stdout",
       "text": [
        "\n",
        "Score: 0.0000 for 19 and 23 (certainty: 0.36)"
       ]
      },
      {
       "output_type": "stream",
       "stream": "stdout",
       "text": [
        "\n",
        "Score: 0.0049 for 21 and 26 (certainty: 0.84)"
       ]
      },
      {
       "output_type": "stream",
       "stream": "stdout",
       "text": [
        "\n",
        "Score: 0.0102 for 21 and 27 (certainty: 0.64)"
       ]
      },
      {
       "output_type": "stream",
       "stream": "stdout",
       "text": [
        "\n",
        "Score: 0.0112 for 21 and 15 (certainty: 0.84)"
       ]
      },
      {
       "output_type": "stream",
       "stream": "stdout",
       "text": [
        "\n",
        "Score: 0.0051 for 21 and 15 (certainty: 0.64)"
       ]
      },
      {
       "output_type": "stream",
       "stream": "stdout",
       "text": [
        "\n",
        "Score: 0.0170 for 21 and 21 (certainty: 0.51)"
       ]
      },
      {
       "output_type": "stream",
       "stream": "stdout",
       "text": [
        "\n",
        "Score: 0.0343 for 21 and 15 (certainty: 0.19)\n",
        "Score: 0.0254 for 21 and 16 (certainty: 0.75)"
       ]
      },
      {
       "output_type": "stream",
       "stream": "stdout",
       "text": [
        "\n",
        "Score: 0.0341 for 21 and 17 (certainty: 0.64)"
       ]
      },
      {
       "output_type": "stream",
       "stream": "stdout",
       "text": [
        "\n",
        "Score: 0.0097 for 21 and 28 (certainty: 0.36)\n",
        "Score: 0.0096 for 21 and 27 (certainty: 0.64)"
       ]
      },
      {
       "output_type": "stream",
       "stream": "stdout",
       "text": [
        "\n",
        "Score: 0.0161 for 21 and 13 (certainty: 0.75)"
       ]
      },
      {
       "output_type": "stream",
       "stream": "stdout",
       "text": [
        "\n",
        "Score: 0.0058 for 21 and 23 (certainty: 1.00)"
       ]
      },
      {
       "output_type": "stream",
       "stream": "stdout",
       "text": [
        "\n",
        "Score: 0.0085 for 26 and 27 (certainty: 0.96)"
       ]
      },
      {
       "output_type": "stream",
       "stream": "stdout",
       "text": [
        "\n",
        "Score: 0.0234 for 26 and 15 (certainty: 1.00)"
       ]
      },
      {
       "output_type": "stream",
       "stream": "stdout",
       "text": [
        "\n",
        "Score: 0.0115 for 26 and 15 (certainty: 0.96)"
       ]
      },
      {
       "output_type": "stream",
       "stream": "stdout",
       "text": [
        "\n",
        "Score: 0.0131 for 26 and 21 (certainty: 0.75)"
       ]
      },
      {
       "output_type": "stream",
       "stream": "stdout",
       "text": [
        "\n",
        "Score: 0.0016 for 26 and 15 (certainty: 0.19)"
       ]
      },
      {
       "output_type": "stream",
       "stream": "stdout",
       "text": [
        "\n",
        "Score: 0.0073 for 26 and 16 (certainty: 0.96)"
       ]
      },
      {
       "output_type": "stream",
       "stream": "stdout",
       "text": [
        "\n",
        "Score: 0.0031 for 26 and 17 (certainty: 0.36)"
       ]
      },
      {
       "output_type": "stream",
       "stream": "stdout",
       "text": [
        "\n",
        "Score: 0.0034 for 26 and 28 (certainty: 0.36)"
       ]
      },
      {
       "output_type": "stream",
       "stream": "stdout",
       "text": [
        "\n",
        "Score: 0.0126 for 26 and 27 (certainty: 1.00)"
       ]
      },
      {
       "output_type": "stream",
       "stream": "stdout",
       "text": [
        "\n",
        "Score: 0.0129 for 26 and 13 (certainty: 0.96)"
       ]
      },
      {
       "output_type": "stream",
       "stream": "stdout",
       "text": [
        "\n",
        "Score: 0.0195 for 26 and 23 (certainty: 1.00)"
       ]
      },
      {
       "output_type": "stream",
       "stream": "stdout",
       "text": [
        "\n",
        "Score: 0.0144 for 27 and 15 (certainty: 0.96)"
       ]
      },
      {
       "output_type": "stream",
       "stream": "stdout",
       "text": [
        "\n",
        "Score: 0.0209 for 27 and 15 (certainty: 0.64)"
       ]
      },
      {
       "output_type": "stream",
       "stream": "stdout",
       "text": [
        "\n",
        "Score: 0.0194 for 27 and 21 (certainty: 0.51)"
       ]
      },
      {
       "output_type": "stream",
       "stream": "stdout",
       "text": [
        "\n",
        "Score: 0.0062 for 27 and 15 (certainty: 0.19)\n",
        "Score: 0.0156 for 27 and 16 (certainty: 0.64)"
       ]
      },
      {
       "output_type": "stream",
       "stream": "stdout",
       "text": [
        "\n",
        "Score: 0.0000 for 27 and 17 (certainty: 0.19)"
       ]
      },
      {
       "output_type": "stream",
       "stream": "stdout",
       "text": [
        "\n",
        "Score: 0.0111 for 27 and 28 (certainty: 0.51)\n",
        "Score: 0.0302 for 27 and 27 (certainty: 0.99)"
       ]
      },
      {
       "output_type": "stream",
       "stream": "stdout",
       "text": [
        "\n",
        "Score: 0.0021 for 27 and 13 (certainty: 0.64)"
       ]
      },
      {
       "output_type": "stream",
       "stream": "stdout",
       "text": [
        "\n",
        "Score: 0.0039 for 27 and 23 (certainty: 0.51)"
       ]
      },
      {
       "output_type": "stream",
       "stream": "stdout",
       "text": [
        "\n",
        "Score: 0.0472 for 15 and 15 (certainty: 0.75)"
       ]
      },
      {
       "output_type": "stream",
       "stream": "stdout",
       "text": [
        "\n",
        "Score: 0.0045 for 15 and 21 (certainty: 0.36)"
       ]
      },
      {
       "output_type": "stream",
       "stream": "stdout",
       "text": [
        "\n",
        "Score: 0.0032 for 15 and 15 (certainty: 0.19)"
       ]
      },
      {
       "output_type": "stream",
       "stream": "stdout",
       "text": [
        "\n",
        "Score: 0.0022 for 15 and 16 (certainty: 0.51)"
       ]
      },
      {
       "output_type": "stream",
       "stream": "stdout",
       "text": [
        "\n",
        "Score: 0.0000 for 15 and 17 (certainty: 0.36)"
       ]
      },
      {
       "output_type": "stream",
       "stream": "stdout",
       "text": [
        "\n",
        "Score: 0.0265 for 15 and 28 (certainty: 0.51)"
       ]
      },
      {
       "output_type": "stream",
       "stream": "stdout",
       "text": [
        "\n",
        "Score: 0.0037 for 15 and 27 (certainty: 0.91)"
       ]
      },
      {
       "output_type": "stream",
       "stream": "stdout",
       "text": [
        "\n",
        "Score: 0.0100 for 15 and 13 (certainty: 0.51)"
       ]
      },
      {
       "output_type": "stream",
       "stream": "stdout",
       "text": [
        "\n",
        "Score: 0.0132 for 15 and 23 (certainty: 0.84)"
       ]
      },
      {
       "output_type": "stream",
       "stream": "stdout",
       "text": [
        "\n",
        "Score: 0.0038 for 15 and 21 (certainty: 0.64)"
       ]
      },
      {
       "output_type": "stream",
       "stream": "stdout",
       "text": [
        "\n",
        "Score: 0.0013 for 15 and 15 (certainty: 0.19)\n",
        "Score: 0.0309 for 15 and 16 (certainty: 0.91)"
       ]
      },
      {
       "output_type": "stream",
       "stream": "stdout",
       "text": [
        "\n",
        "Score: 0.0018 for 15 and 17 (certainty: 0.51)"
       ]
      },
      {
       "output_type": "stream",
       "stream": "stdout",
       "text": [
        "\n",
        "Score: 0.0122 for 15 and 28 (certainty: 0.51)"
       ]
      },
      {
       "output_type": "stream",
       "stream": "stdout",
       "text": [
        "\n",
        "Score: 0.0127 for 15 and 27 (certainty: 0.75)"
       ]
      },
      {
       "output_type": "stream",
       "stream": "stdout",
       "text": [
        "\n",
        "Score: 0.0093 for 15 and 13 (certainty: 0.75)"
       ]
      },
      {
       "output_type": "stream",
       "stream": "stdout",
       "text": [
        "\n",
        "Score: 0.0170 for 15 and 23 (certainty: 0.75)"
       ]
      },
      {
       "output_type": "stream",
       "stream": "stdout",
       "text": [
        "\n",
        "Score: 0.0189 for 21 and 15 (certainty: 0.19)\n",
        "Score: 0.0330 for 21 and 16 (certainty: 0.51)"
       ]
      },
      {
       "output_type": "stream",
       "stream": "stdout",
       "text": [
        "\n",
        "Score: 0.0439 for 21 and 17 (certainty: 0.51)\n",
        "Score: 0.0044 for 21 and 28 (certainty: 0.36)"
       ]
      },
      {
       "output_type": "stream",
       "stream": "stdout",
       "text": [
        "\n",
        "Score: 0.0130 for 21 and 27 (certainty: 0.51)"
       ]
      },
      {
       "output_type": "stream",
       "stream": "stdout",
       "text": [
        "\n",
        "Score: 0.0078 for 21 and 13 (certainty: 0.51)"
       ]
      },
      {
       "output_type": "stream",
       "stream": "stdout",
       "text": [
        "\n",
        "Score: 0.0057 for 21 and 23 (certainty: 0.36)"
       ]
      },
      {
       "output_type": "stream",
       "stream": "stdout",
       "text": [
        "\n",
        "Score: 0.0190 for 15 and 16 (certainty: 0.19)\n",
        "Score: 0.0056 for 15 and 17 (certainty: 0.19)\n",
        "Score: 0.1163 for 15 and 28 (certainty: 0.19)\n",
        "Score: 0.0037 for 15 and 27 (certainty: 0.19)"
       ]
      },
      {
       "output_type": "stream",
       "stream": "stdout",
       "text": [
        "\n",
        "Score: 0.0021 for 15 and 13 (certainty: 0.19)\n",
        "Score: 0.0018 for 15 and 23 (certainty: 0.19)"
       ]
      },
      {
       "output_type": "stream",
       "stream": "stdout",
       "text": [
        "\n",
        "Score: 0.0119 for 16 and 17 (certainty: 0.36)\n",
        "Score: 0.0045 for 16 and 28 (certainty: 0.19)"
       ]
      },
      {
       "output_type": "stream",
       "stream": "stdout",
       "text": [
        "\n",
        "Score: 0.0267 for 16 and 27 (certainty: 0.64)"
       ]
      },
      {
       "output_type": "stream",
       "stream": "stdout",
       "text": [
        "\n",
        "Score: 0.0026 for 16 and 13 (certainty: 0.19)"
       ]
      },
      {
       "output_type": "stream",
       "stream": "stdout",
       "text": [
        "\n",
        "Score: 0.0208 for 16 and 23 (certainty: 0.84)"
       ]
      },
      {
       "output_type": "stream",
       "stream": "stdout",
       "text": [
        "\n",
        "Score: 0.0087 for 17 and 28 (certainty: 0.36)\n",
        "Score: 0.0146 for 17 and 27 (certainty: 0.64)"
       ]
      },
      {
       "output_type": "stream",
       "stream": "stdout",
       "text": [
        "\n",
        "Score: 0.0066 for 17 and 13 (certainty: 0.51)\n",
        "Score: 0.0020 for 17 and 23 (certainty: 0.64)"
       ]
      },
      {
       "output_type": "stream",
       "stream": "stdout",
       "text": [
        "\n",
        "Score: 0.0061 for 28 and 27 (certainty: 0.36)\n",
        "Score: 0.0100 for 28 and 13 (certainty: 0.36)"
       ]
      },
      {
       "output_type": "stream",
       "stream": "stdout",
       "text": [
        "\n",
        "Score: 0.0055 for 28 and 23 (certainty: 0.51)"
       ]
      },
      {
       "output_type": "stream",
       "stream": "stdout",
       "text": [
        "\n",
        "Score: 0.0018 for 27 and 13 (certainty: 0.64)"
       ]
      },
      {
       "output_type": "stream",
       "stream": "stdout",
       "text": [
        "\n",
        "Score: 0.0134 for 27 and 23 (certainty: 0.96)"
       ]
      },
      {
       "output_type": "stream",
       "stream": "stdout",
       "text": [
        "\n",
        "Score: 0.0045 for 13 and 23 (certainty: 0.64)"
       ]
      },
      {
       "output_type": "stream",
       "stream": "stdout",
       "text": [
        "\n"
       ]
      },
      {
       "output_type": "stream",
       "stream": "stderr",
       "text": [
        "/home/arnfred/Thesis/code/louvain.py:63: RuntimeWarning: divide by zero encountered in double_scalars\n",
        "  return 1.0/K * (v_weight - (k_v * k_neighbours) / K)\n",
        "/home/arnfred/Thesis/code/louvain.py:63: RuntimeWarning: invalid value encountered in double_scalars\n",
        "  return 1.0/K * (v_weight - (k_v * k_neighbours) / K)\n",
        "/home/arnfred/Thesis/code/scoring.py:113: RuntimeWarning: invalid value encountered in double_scalars\n",
        "  data_norm = [(i, m/mods_sum, p, im) for i, m, p, im in data]\n"
       ]
      }
     ],
     "prompt_number": 3
    },
    {
     "cell_type": "code",
     "collapsed": false,
     "input": [
      "display.scoreHist(result)"
     ],
     "language": "python",
     "metadata": {},
     "outputs": [
      {
       "output_type": "stream",
       "stream": "stdout",
       "text": [
        "Mean(same):\t\t0.019\n",
        "Mean(diff):\t\t0.010\n",
        "Diff of means:\t\t0.008\n",
        "Standard deviation:\t0.014\n",
        "# of sd's:\t\t0.598\n"
       ]
      },
      {
       "output_type": "display_data",
       "png": "[encoded data removed]"
      }
     ],
     "prompt_number": 4
    },
    {
     "cell_type": "code",
     "collapsed": false,
     "input": [
      "display.farPlot(result)"
     ],
     "language": "python",
     "metadata": {},
     "outputs": [
      {
       "output_type": "display_data",
       "png": "[encoded data removed]"
      }
     ],
     "prompt_number": 5
    },
    {
     "cell_type": "code",
     "collapsed": false,
     "input": [
      "import weightMatrix\n",
      "resultMat = weightMatrix.resultMatrix(all_paths, result)\n",
      "labels = numpy.array(map(features.getLabel, all_paths))\n",
      "display.scoreRatioHist(resultMat, labels)"
     ],
     "language": "python",
     "metadata": {},
     "outputs": [
      {
       "output_type": "display_data",
       "png": "[encoded data removed]"
      }
     ],
     "prompt_number": 11
    },
    {
     "cell_type": "code",
     "collapsed": false,
     "input": [
      "import featureGraph\n",
      "import graph_tool.all as gt\n",
      "\n",
      "# cluster resultMat\n",
      "pruned_weights = weightMatrix.pruneTreshold(resultMat, 2, n=500, start=0.0)\n",
      "partitions = louvain.cluster(pruned_weights)\n",
      "graph = featureGraph.init(pruned_weights)\n",
      "display.faceGraph(graph, partitions, all_paths)\n",
      "print(pruned_weights.sum())"
     ],
     "language": "python",
     "metadata": {},
     "outputs": [
      {
       "output_type": "stream",
       "stream": "stdout",
       "text": [
        "123.92967843\n"
       ]
      }
     ],
     "prompt_number": 7
    },
    {
     "cell_type": "code",
     "collapsed": false,
     "input": [
      "from sklearn import metrics\n",
      "xs = numpy.linspace(0.001,8,100)\n",
      "\n",
      "def getRandScore(l) :\n",
      "    pruned_w = weightMatrix.pruneTreshold(resultMat, l, n=500, start=0.0)\n",
      "    p = louvain.cluster(pruned_w)\n",
      "    ars = metrics.adjusted_rand_score(labels, p)\n",
      "    amis = metrics.adjusted_mutual_info_score(labels,p)\n",
      "    return amis\n",
      "\n",
      "ys = [getRandScore(x) for x in xs]\n",
      "pylab.plot(xs,ys)\n",
      "pylab.ylim(0,0.4)\n",
      "display.removeDecoration()"
     ],
     "language": "python",
     "metadata": {},
     "outputs": [
      {
       "output_type": "display_data",
       "png": "[encoded data removed]"
      }
     ],
     "prompt_number": 8
    }
   ],
   "metadata": {}
  }
 ]
}
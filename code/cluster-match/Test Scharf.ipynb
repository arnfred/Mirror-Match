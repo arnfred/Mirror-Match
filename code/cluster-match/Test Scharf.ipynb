{
 "metadata": {
  "name": "Test Scharf"
 },
 "nbformat": 3,
 "nbformat_minor": 0,
 "worksheets": [
  {
   "cells": [
    {
     "cell_type": "code",
     "collapsed": false,
     "input": [
      "#Stupid hack to load files from sibling dir\n",
      "import sys; import os\n",
      "sys.path.insert(0, os.path.abspath('..'))\n",
      "\n",
      "%load_ext autoreload\n",
      "%autoreload 2"
     ],
     "language": "python",
     "metadata": {},
     "outputs": [],
     "prompt_number": 1
    },
    {
     "cell_type": "code",
     "collapsed": false,
     "input": [
      "import fnmatch\n",
      "import os\n",
      "import matching\n",
      "import weightMatrix\n",
      "import display\n",
      "import itertools"
     ],
     "language": "python",
     "metadata": {},
     "outputs": [],
     "prompt_number": 2
    },
    {
     "cell_type": "code",
     "collapsed": false,
     "input": [
      "dt = 5\n",
      "nb_thresholds = 50\n",
      "thresholds_cluster = numpy.linspace(0.8,1.0, nb_thresholds)\n",
      "thresholds_nocluster = numpy.linspace(0.3,0.8, nb_thresholds)\n",
      "thresholds_iso = numpy.linspace(0.4,0.9, nb_thresholds)\n",
      "#tresholds_cluster = numpy.linspace(0.92,1.0, 1)\n",
      "#tresholds_nocluster = numpy.linspace(0.6,0.8, 1)\n",
      "directory = \"Scharf\"\n",
      "keypoint = \"SIFT\"\n",
      "descriptor = \"SIFT\"\n",
      "verbose = True"
     ],
     "language": "python",
     "metadata": {},
     "outputs": [],
     "prompt_number": 3
    },
    {
     "cell_type": "code",
     "collapsed": false,
     "input": [
      "correct_us, total_us = matching.folderMatch(directory, dt, matching.siftMatch, thresholds_nocluster, keypoint, descriptor)"
     ],
     "language": "python",
     "metadata": {},
     "outputs": [],
     "prompt_number": 4
    },
    {
     "cell_type": "code",
     "collapsed": false,
     "input": [
      "correct_ms, total_ms = matching.folderMatch(directory, dt, matching.mirrorMatch, thresholds_nocluster, keypoint, descriptor)"
     ],
     "language": "python",
     "metadata": {},
     "outputs": [],
     "prompt_number": 5
    },
    {
     "cell_type": "code",
     "collapsed": false,
     "input": [
      "correct_cs, total_cs = matching.folderMatch(directory, dt, matching.clusterMatch, thresholds_cluster, keypoint, descriptor)"
     ],
     "language": "python",
     "metadata": {},
     "outputs": [],
     "prompt_number": 6
    },
    {
     "cell_type": "code",
     "collapsed": false,
     "input": [
      "correct_is, total_is = matching.folderMatch(directory, dt, matching.isoMatch, thresholds_iso, keypoint, descriptor)"
     ],
     "language": "python",
     "metadata": {},
     "outputs": [
      {
       "output_type": "stream",
       "stream": "stderr",
       "text": [
        "/usr/lib/python2.7/dist-packages/numpy/core/_methods.py:57: RuntimeWarning: invalid value encountered in double_scalars\n",
        "  ret = ret / float(rcount)\n",
        "/usr/lib/python2.7/dist-packages/numpy/core/_methods.py:72: RuntimeWarning: invalid value encountered in true_divide\n",
        "  out=arrmean, casting='unsafe', subok=False)\n",
        "/usr/lib/python2.7/dist-packages/numpy/core/_methods.py:96: RuntimeWarning: invalid value encountered in double_scalars\n",
        "  ret = ret / float(rcount)\n"
       ]
      }
     ],
     "prompt_number": 7
    },
    {
     "cell_type": "code",
     "collapsed": false,
     "input": [
      "#display.accuDetail([correct_us, correct_ms, correct_cs, correct_is], [total_us, total_ms, total_cs, total_is], [\"SIFT\", \"MM\", \"MMC\", \"Isodata\"], treshold = 200)"
     ],
     "language": "python",
     "metadata": {},
     "outputs": [],
     "prompt_number": 8
    },
    {
     "cell_type": "code",
     "collapsed": false,
     "input": [
      "display.accuPlot([correct_us, correct_ms, correct_cs, correct_is], [total_us, total_ms, total_cs, total_is], [\"SIFT\", \"MM\", \"MMC\", \"Isodata\"], ylim=(0.0,0.63), xlim=1000)"
     ],
     "language": "python",
     "metadata": {},
     "outputs": [
      {
       "output_type": "display_data",
       "png": "[encoded data removed]"
      }
     ],
     "prompt_number": 13
    }
   ],
   "metadata": {}
  }
 ]
}
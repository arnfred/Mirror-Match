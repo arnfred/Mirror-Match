{
 "metadata": {
  "name": "Louvain-Evaluate-Gallagher-Scorefun4"
 },
 "nbformat": 3,
 "nbformat_minor": 0,
 "worksheets": [
  {
   "cells": [
    {
     "cell_type": "code",
     "collapsed": false,
     "input": [
      "#Stupid hack to load files from sibling dir\n",
      "import sys; import os\n",
      "sys.path.insert(0, os.path.abspath('..'))\n",
      "\n",
      "%load_ext autoreload\n",
      "%autoreload 2"
     ],
     "language": "python",
     "metadata": {},
     "outputs": [],
     "prompt_number": 1
    },
    {
     "cell_type": "code",
     "collapsed": false,
     "input": [
      "import os\n",
      "import fnmatch\n",
      "import features\n",
      "import cluster\n",
      "import display\n",
      "import louvain\n",
      "from itertools import combinations\n",
      "from itertools import izip\n",
      "from itertools import imap\n",
      "\n",
      "# testset = \"../../images/testsets/WC818C/\"\n",
      "testset = \"../../images/testsets/Gallagher_small_unresized/\"\n",
      "\n",
      "# Define scoring functions\n",
      "scoring_fun1 = lambda m,c : 1*m+3*c if 1*m+3*c > 0 else 0\n",
      "scoring_fun2 = lambda m,c : 1*m+3*c\n",
      "scoring_fun3 = lambda m,c : 1*m+1*c if 1*m+3*c > 0 else 0\n",
      "scoring_fun4 = lambda m,c : 1*m+1*c if c > 0 else 0\n",
      "\n",
      "# Get a list of all image pairs\n",
      "all_paths = [testset + f for (_,_,filenames) in os.walk(testset) for f in fnmatch.filter(filenames, \"*.jpg\")]\n",
      "path_pairs = combinations(all_paths, 2)\n",
      "label_pairs = combinations(imap(features.getLabel,all_paths), 2)"
     ],
     "language": "python",
     "metadata": {},
     "outputs": [],
     "prompt_number": 2
    },
    {
     "cell_type": "code",
     "collapsed": false,
     "input": [
      "#cluster.scoreImagePair(pairs.next())\n",
      "result = [((l1 == l2), cluster.scoreImagePair(paths=[p1, p2], scoring=scoring_fun4, default_val=0), (p1, p2))\n",
      "        for ((p1, p2), (l1, l2)) \n",
      "        in izip(path_pairs, label_pairs)]"
     ],
     "language": "python",
     "metadata": {},
     "outputs": [
      {
       "output_type": "stream",
       "stream": "stdout",
       "text": [
        "Score: 0.0000 for 32 and 27 (Less than four matches)\n",
        "Score: 0.0361 for 32 and 23"
       ]
      },
      {
       "output_type": "stream",
       "stream": "stdout",
       "text": [
        "\n",
        "Score: 0.0633 for 32 and 21"
       ]
      },
      {
       "output_type": "stream",
       "stream": "stdout",
       "text": [
        "\n",
        "Score: 0.0230 for 32 and 25"
       ]
      },
      {
       "output_type": "stream",
       "stream": "stdout",
       "text": [
        "\n",
        "Score: 0.0260 for 32 and 23"
       ]
      },
      {
       "output_type": "stream",
       "stream": "stdout",
       "text": [
        "\n",
        "Score: 0.0000 for 32 and 25 (Less than four matches)"
       ]
      },
      {
       "output_type": "stream",
       "stream": "stdout",
       "text": [
        "\n",
        "Score: 0.0292 for 32 and 26"
       ]
      },
      {
       "output_type": "stream",
       "stream": "stdout",
       "text": [
        "\n",
        "Score: 0.0000 for 32 and 18 (Less than four matches)"
       ]
      },
      {
       "output_type": "stream",
       "stream": "stdout",
       "text": [
        "\n",
        "['../../images/testsets/Gallagher_small_unresized/32_842.jpg', '../../images/testsets/Gallagher_small_unresized/19_190.jpg']\n",
        "No descriptors found. Returning score 0\n",
        "Score: 0.0202 for 32 and 15"
       ]
      },
      {
       "output_type": "stream",
       "stream": "stdout",
       "text": [
        "\n",
        "Score: 0.0000 for 32 and 14 (Less than four matches)"
       ]
      },
      {
       "output_type": "stream",
       "stream": "stdout",
       "text": [
        "\n",
        "Score: 0.0288 for 32 and 25"
       ]
      },
      {
       "output_type": "stream",
       "stream": "stdout",
       "text": [
        "\n",
        "Score: 0.0298 for 32 and 25"
       ]
      },
      {
       "output_type": "stream",
       "stream": "stdout",
       "text": [
        "\n",
        "Score: 0.0498 for 32 and 32"
       ]
      },
      {
       "output_type": "stream",
       "stream": "stdout",
       "text": [
        "\n",
        "Score: 0.0000 for 32 and 30 (Less than four matches)"
       ]
      },
      {
       "output_type": "stream",
       "stream": "stdout",
       "text": [
        "\n",
        "Score: 0.0000 for 32 and 28 (Less than four matches)"
       ]
      },
      {
       "output_type": "stream",
       "stream": "stdout",
       "text": [
        "\n",
        "Score: 0.0000 for 32 and 30 (Less than four matches)"
       ]
      },
      {
       "output_type": "stream",
       "stream": "stdout",
       "text": [
        "\n",
        "Score: 0.0552 for 32 and 26"
       ]
      },
      {
       "output_type": "stream",
       "stream": "stdout",
       "text": [
        "\n",
        "Score: 0.0190 for 32 and 15"
       ]
      },
      {
       "output_type": "stream",
       "stream": "stdout",
       "text": [
        "\n",
        "Score: 0.0506 for 32 and 21"
       ]
      },
      {
       "output_type": "stream",
       "stream": "stdout",
       "text": [
        "\n",
        "Score: 0.0510 for 32 and 24"
       ]
      },
      {
       "output_type": "stream",
       "stream": "stdout",
       "text": [
        "\n",
        "Score: 0.0000 for 32 and 17 (Less than four matches)"
       ]
      },
      {
       "output_type": "stream",
       "stream": "stdout",
       "text": [
        "\n",
        "Score: 0.0000 for 32 and 14 (Less than four matches)"
       ]
      },
      {
       "output_type": "stream",
       "stream": "stdout",
       "text": [
        "\n",
        "Score: 0.0000 for 32 and 28 (Less than four matches)"
       ]
      },
      {
       "output_type": "stream",
       "stream": "stdout",
       "text": [
        "\n",
        "Score: 0.0000 for 32 and 27 (Less than four matches)"
       ]
      },
      {
       "output_type": "stream",
       "stream": "stdout",
       "text": [
        "\n",
        "Score: 0.0000 for 32 and 22 (Less than four matches)"
       ]
      },
      {
       "output_type": "stream",
       "stream": "stdout",
       "text": [
        "\n",
        "Score: 0.0181 for 32 and 29"
       ]
      },
      {
       "output_type": "stream",
       "stream": "stdout",
       "text": [
        "\n",
        "Score: 0.0000 for 32 and 15 (Less than four matches)"
       ]
      },
      {
       "output_type": "stream",
       "stream": "stdout",
       "text": [
        "\n",
        "Score: 0.0292 for 32 and 25"
       ]
      },
      {
       "output_type": "stream",
       "stream": "stdout",
       "text": [
        "\n",
        "Score: 0.0307 for 32 and 23"
       ]
      },
      {
       "output_type": "stream",
       "stream": "stdout",
       "text": [
        "\n",
        "Score: 0.0000 for 32 and 16 (Less than four matches)"
       ]
      },
      {
       "output_type": "stream",
       "stream": "stdout",
       "text": [
        "\n",
        "Score: 0.0000 for 32 and 18 (Less than four matches)"
       ]
      },
      {
       "output_type": "stream",
       "stream": "stdout",
       "text": [
        "\n",
        "Score: 0.0148 for 32 and 25"
       ]
      },
      {
       "output_type": "stream",
       "stream": "stdout",
       "text": [
        "\n",
        "Score: 0.0170 for 32 and 32"
       ]
      },
      {
       "output_type": "stream",
       "stream": "stdout",
       "text": [
        "\n",
        "Score: 0.0000 for 32 and 19 (Less than four matches)"
       ]
      },
      {
       "output_type": "stream",
       "stream": "stdout",
       "text": [
        "\n",
        "Score: 0.0490 for 32 and 21"
       ]
      },
      {
       "output_type": "stream",
       "stream": "stdout",
       "text": [
        "\n",
        "Score: 0.0501 for 32 and 14"
       ]
      },
      {
       "output_type": "stream",
       "stream": "stdout",
       "text": [
        "\n",
        "Score: 0.0000 for 32 and 26 (Less than four matches)"
       ]
      },
      {
       "output_type": "stream",
       "stream": "stdout",
       "text": [
        "\n",
        "Score: 0.0000 for 32 and 22 (Less than four matches)"
       ]
      },
      {
       "output_type": "stream",
       "stream": "stdout",
       "text": [
        "\n",
        "Score: 0.0000 for 32 and 29 (Less than four matches)"
       ]
      },
      {
       "output_type": "stream",
       "stream": "stdout",
       "text": [
        "\n",
        "Score: 0.0316 for 32 and 13"
       ]
      },
      {
       "output_type": "stream",
       "stream": "stdout",
       "text": [
        "\n",
        "Score: 0.0000 for 32 and 28 (Less than four matches)"
       ]
      },
      {
       "output_type": "stream",
       "stream": "stdout",
       "text": [
        "\n",
        "Score: 0.0000 for 32 and 13 (Less than four matches)"
       ]
      },
      {
       "output_type": "stream",
       "stream": "stdout",
       "text": [
        "\n",
        "Score: 0.0476 for 32 and 14"
       ]
      },
      {
       "output_type": "stream",
       "stream": "stdout",
       "text": [
        "\n",
        "Score: 0.0000 for 32 and 14 (Less than four matches)"
       ]
      },
      {
       "output_type": "stream",
       "stream": "stdout",
       "text": [
        "\n",
        "Score: 0.0302 for 32 and 27"
       ]
      },
      {
       "output_type": "stream",
       "stream": "stdout",
       "text": [
        "\n",
        "Score: 0.0238 for 32 and 17"
       ]
      },
      {
       "output_type": "stream",
       "stream": "stdout",
       "text": [
        "\n",
        "Score: 0.0000 for 32 and 19 (Less than four matches)"
       ]
      },
      {
       "output_type": "stream",
       "stream": "stdout",
       "text": [
        "\n",
        "Score: 0.0318 for 32 and 31"
       ]
      },
      {
       "output_type": "stream",
       "stream": "stdout",
       "text": [
        "\n",
        "Score: 0.0130 for 32 and 21"
       ]
      },
      {
       "output_type": "stream",
       "stream": "stdout",
       "text": [
        "\n",
        "Score: 0.0278 for 32 and 23"
       ]
      },
      {
       "output_type": "stream",
       "stream": "stdout",
       "text": [
        "\n",
        "Score: 0.0000 for 32 and 25 (Less than four matches)"
       ]
      },
      {
       "output_type": "stream",
       "stream": "stdout",
       "text": [
        "\n",
        "Score: 0.0000 for 32 and 23 (Less than four matches)"
       ]
      },
      {
       "output_type": "stream",
       "stream": "stdout",
       "text": [
        "\n",
        "Score: 0.0000 for 32 and 31 (Less than four matches)"
       ]
      },
      {
       "output_type": "stream",
       "stream": "stdout",
       "text": [
        "\n",
        "Score: 0.0210 for 32 and 15"
       ]
      },
      {
       "output_type": "stream",
       "stream": "stdout",
       "text": [
        "\n",
        "Score: 0.0000 for 32 and 23 (Less than four matches)"
       ]
      },
      {
       "output_type": "stream",
       "stream": "stdout",
       "text": [
        "\n",
        "Score: 0.0000 for 32 and 18 (Less than four matches)"
       ]
      },
      {
       "output_type": "stream",
       "stream": "stdout",
       "text": [
        "\n",
        "Score: 0.0512 for 32 and 15"
       ]
      },
      {
       "output_type": "stream",
       "stream": "stdout",
       "text": [
        "\n",
        "Score: 0.0246 for 32 and 16"
       ]
      },
      {
       "output_type": "stream",
       "stream": "stdout",
       "text": [
        "\n",
        "Score: 0.0000 for 32 and 23 (Less than four matches)"
       ]
      },
      {
       "output_type": "stream",
       "stream": "stdout",
       "text": [
        "\n",
        "Score: 0.0000 for 32 and 23 (Less than four matches)"
       ]
      },
      {
       "output_type": "stream",
       "stream": "stdout",
       "text": [
        "\n",
        "Score: 0.0000 for 32 and 32 (Less than four matches)"
       ]
      },
      {
       "output_type": "stream",
       "stream": "stdout",
       "text": [
        "\n",
        "Score: 0.0055 for 32 and 15"
       ]
      },
      {
       "output_type": "stream",
       "stream": "stdout",
       "text": [
        "\n",
        "Score: 0.0263 for 32 and 24"
       ]
      },
      {
       "output_type": "stream",
       "stream": "stdout",
       "text": [
        "\n",
        "Score: 0.0416 for 32 and 25"
       ]
      },
      {
       "output_type": "stream",
       "stream": "stdout",
       "text": [
        "\n",
        "Score: 0.0000 for 32 and 30 (Less than four matches)"
       ]
      },
      {
       "output_type": "stream",
       "stream": "stdout",
       "text": [
        "\n",
        "Score: 0.0000 for 32 and 32 (Less than four matches)"
       ]
      },
      {
       "output_type": "stream",
       "stream": "stdout",
       "text": [
        "\n",
        "['../../images/testsets/Gallagher_small_unresized/32_842.jpg', '../../images/testsets/Gallagher_small_unresized/29_538.jpg']\n",
        "No descriptors found. Returning score 0\n",
        "Score: 0.0051 for 32 and 21"
       ]
      },
      {
       "output_type": "stream",
       "stream": "stdout",
       "text": [
        "\n",
        "Score: 0.0189 for 32 and 20"
       ]
      },
      {
       "output_type": "stream",
       "stream": "stdout",
       "text": [
        "\n",
        "Score: 0.0172 for 32 and 15"
       ]
      },
      {
       "output_type": "stream",
       "stream": "stdout",
       "text": [
        "\n",
        "Score: 0.0200 for 32 and 15"
       ]
      },
      {
       "output_type": "stream",
       "stream": "stdout",
       "text": [
        "\n",
        "Score: 0.0443 for 32 and 19"
       ]
      },
      {
       "output_type": "stream",
       "stream": "stdout",
       "text": [
        "\n",
        "Score: 0.0000 for 32 and 19 (Less than four matches)"
       ]
      },
      {
       "output_type": "stream",
       "stream": "stdout",
       "text": [
        "\n",
        "Score: 0.0290 for 32 and 21"
       ]
      },
      {
       "output_type": "stream",
       "stream": "stdout",
       "text": [
        "\n",
        "Score: 0.0351 for 32 and 26"
       ]
      },
      {
       "output_type": "stream",
       "stream": "stdout",
       "text": [
        "\n",
        "Score: 0.0000 for 32 and 27 (Less than four matches)"
       ]
      },
      {
       "output_type": "stream",
       "stream": "stdout",
       "text": [
        "\n",
        "Score: 0.0000 for 32 and 15 (Less than four matches)"
       ]
      },
      {
       "output_type": "stream",
       "stream": "stdout",
       "text": [
        "\n",
        "Score: 0.0365 for 32 and 15"
       ]
      },
      {
       "output_type": "stream",
       "stream": "stdout",
       "text": [
        "\n",
        "Score: 0.0505 for 32 and 21"
       ]
      },
      {
       "output_type": "stream",
       "stream": "stdout",
       "text": [
        "\n",
        "Score: 0.0000 for 32 and 15 (Less than four matches)"
       ]
      },
      {
       "output_type": "stream",
       "stream": "stdout",
       "text": [
        "\n",
        "Score: 0.0298 for 32 and 16"
       ]
      },
      {
       "output_type": "stream",
       "stream": "stdout",
       "text": [
        "\n",
        "Score: 0.0000 for 32 and 17 (Less than four matches)"
       ]
      },
      {
       "output_type": "stream",
       "stream": "stdout",
       "text": [
        "\n",
        "['../../images/testsets/Gallagher_small_unresized/32_842.jpg', '../../images/testsets/Gallagher_small_unresized/28_537.jpg']\n",
        "No descriptors found. Returning score 0\n",
        "Score: 0.0220 for 32 and 27"
       ]
      },
      {
       "output_type": "stream",
       "stream": "stdout",
       "text": [
        "\n",
        "Score: 0.0439 for 32 and 13"
       ]
      },
      {
       "output_type": "stream",
       "stream": "stdout",
       "text": [
        "\n",
        "Score: 0.0281 for 32 and 23"
       ]
      },
      {
       "output_type": "stream",
       "stream": "stdout",
       "text": [
        "\n",
        "Score: 0.0000 for 27 and 23 (Less than four matches)"
       ]
      },
      {
       "output_type": "stream",
       "stream": "stdout",
       "text": [
        "\n",
        "Score: 0.0000 for 27 and 21 (Less than four matches)"
       ]
      },
      {
       "output_type": "stream",
       "stream": "stdout",
       "text": [
        "\n",
        "Score: 0.0000 for 27 and 25 (Less than four matches)"
       ]
      },
      {
       "output_type": "stream",
       "stream": "stdout",
       "text": [
        "\n",
        "Score: 0.0000 for 27 and 23 (Less than four matches)"
       ]
      },
      {
       "output_type": "stream",
       "stream": "stdout",
       "text": [
        "\n",
        "Score: 0.0000 for 27 and 25 (Less than four matches)"
       ]
      },
      {
       "output_type": "stream",
       "stream": "stdout",
       "text": [
        "\n",
        "Score: 0.0405 for 27 and 26"
       ]
      },
      {
       "output_type": "stream",
       "stream": "stdout",
       "text": [
        "\n",
        "Score: 0.0000 for 27 and 18 (Less than four matches)"
       ]
      },
      {
       "output_type": "stream",
       "stream": "stdout",
       "text": [
        "\n",
        "['../../images/testsets/Gallagher_small_unresized/27_536.jpg', '../../images/testsets/Gallagher_small_unresized/19_190.jpg']\n",
        "No descriptors found. Returning score 0\n",
        "Score: 0.0000 for 27 and 15 (Less than four matches)"
       ]
      },
      {
       "output_type": "stream",
       "stream": "stdout",
       "text": [
        "\n",
        "Score: 0.0000 for 27 and 14 (Less than four matches)"
       ]
      },
      {
       "output_type": "stream",
       "stream": "stdout",
       "text": [
        "\n",
        "Score: 0.0000 for 27 and 25 (Less than four matches)"
       ]
      },
      {
       "output_type": "stream",
       "stream": "stdout",
       "text": [
        "\n",
        "Score: 0.0000 for 27 and 25 (Less than four matches)"
       ]
      },
      {
       "output_type": "stream",
       "stream": "stdout",
       "text": [
        "\n",
        "Score: 0.0000 for 27 and 32 (Less than four matches)"
       ]
      },
      {
       "output_type": "stream",
       "stream": "stdout",
       "text": [
        "\n",
        "Score: 0.0000 for 27 and 30 (Less than four matches)"
       ]
      },
      {
       "output_type": "stream",
       "stream": "stdout",
       "text": [
        "\n",
        "Score: 0.0000 for 27 and 28 (Less than four matches)"
       ]
      },
      {
       "output_type": "stream",
       "stream": "stdout",
       "text": [
        "\n",
        "Score: 0.0000 for 27 and 30 (Less than four matches)"
       ]
      },
      {
       "output_type": "stream",
       "stream": "stdout",
       "text": [
        "\n",
        "Score: 0.0000 for 27 and 26 (Less than four matches)"
       ]
      },
      {
       "output_type": "stream",
       "stream": "stdout",
       "text": [
        "\n",
        "Score: 0.0407 for 27 and 15"
       ]
      },
      {
       "output_type": "stream",
       "stream": "stdout",
       "text": [
        "\n",
        "Score: 0.0000 for 27 and 21 (Less than four matches)"
       ]
      },
      {
       "output_type": "stream",
       "stream": "stdout",
       "text": [
        "\n",
        "Score: 0.0000 for 27 and 24 (Less than four matches)"
       ]
      },
      {
       "output_type": "stream",
       "stream": "stdout",
       "text": [
        "\n",
        "Score: 0.0000 for 27 and 17 (Less than four matches)"
       ]
      },
      {
       "output_type": "stream",
       "stream": "stdout",
       "text": [
        "\n",
        "Score: 0.0000 for 27 and 14 (Less than four matches)"
       ]
      },
      {
       "output_type": "stream",
       "stream": "stdout",
       "text": [
        "\n",
        "Score: 0.0000 for 27 and 28 (Less than four matches)"
       ]
      },
      {
       "output_type": "stream",
       "stream": "stdout",
       "text": [
        "\n",
        "Score: 0.0743 for 27 and 27"
       ]
      },
      {
       "output_type": "stream",
       "stream": "stdout",
       "text": [
        "\n",
        "Score: 0.0000 for 27 and 22 (Less than four matches)"
       ]
      },
      {
       "output_type": "stream",
       "stream": "stdout",
       "text": [
        "\n",
        "Score: 0.0000 for 27 and 29 (Less than four matches)"
       ]
      },
      {
       "output_type": "stream",
       "stream": "stdout",
       "text": [
        "\n",
        "Score: 0.0000 for 27 and 15 (Less than four matches)"
       ]
      },
      {
       "output_type": "stream",
       "stream": "stdout",
       "text": [
        "\n",
        "Score: 0.0000 for 27 and 25 (Less than four matches)"
       ]
      },
      {
       "output_type": "stream",
       "stream": "stdout",
       "text": [
        "\n",
        "Score: 0.0000 for 27 and 23 (Less than four matches)"
       ]
      },
      {
       "output_type": "stream",
       "stream": "stdout",
       "text": [
        "\n",
        "Score: 0.0000 for 27 and 16 (Less than four matches)"
       ]
      },
      {
       "output_type": "stream",
       "stream": "stdout",
       "text": [
        "\n",
        "Score: 0.0000 for 27 and 18 (Less than four matches)"
       ]
      },
      {
       "output_type": "stream",
       "stream": "stdout",
       "text": [
        "\n",
        "Score: 0.0000 for 27 and 25 (Less than four matches)"
       ]
      },
      {
       "output_type": "stream",
       "stream": "stdout",
       "text": [
        "\n",
        "Score: 0.0000 for 27 and 32 (Less than four matches)"
       ]
      },
      {
       "output_type": "stream",
       "stream": "stdout",
       "text": [
        "\n",
        "Score: 0.0000 for 27 and 19 (Less than four matches)"
       ]
      },
      {
       "output_type": "stream",
       "stream": "stdout",
       "text": [
        "\n",
        "Score: 0.0000 for 27 and 21 (Less than four matches)"
       ]
      },
      {
       "output_type": "stream",
       "stream": "stdout",
       "text": [
        "\n",
        "Score: 0.0000 for 27 and 14 (Less than four matches)"
       ]
      },
      {
       "output_type": "stream",
       "stream": "stdout",
       "text": [
        "\n",
        "Score: 0.0000 for 27 and 26 (Less than four matches)"
       ]
      },
      {
       "output_type": "stream",
       "stream": "stdout",
       "text": [
        "\n",
        "Score: 0.0000 for 27 and 22 (Less than four matches)"
       ]
      },
      {
       "output_type": "stream",
       "stream": "stdout",
       "text": [
        "\n",
        "Score: 0.0000 for 27 and 29 (Less than four matches)"
       ]
      },
      {
       "output_type": "stream",
       "stream": "stdout",
       "text": [
        "\n",
        "Score: 0.0000 for 27 and 13 (Less than four matches)"
       ]
      },
      {
       "output_type": "stream",
       "stream": "stdout",
       "text": [
        "\n",
        "Score: 0.0000 for 27 and 28 (Less than four matches)"
       ]
      },
      {
       "output_type": "stream",
       "stream": "stdout",
       "text": [
        "\n",
        "Score: 0.0000 for 27 and 13 (Less than four matches)"
       ]
      },
      {
       "output_type": "stream",
       "stream": "stdout",
       "text": [
        "\n",
        "Score: 0.0000 for 27 and 14 (Less than four matches)"
       ]
      },
      {
       "output_type": "stream",
       "stream": "stdout",
       "text": [
        "\n",
        "Score: 0.0000 for 27 and 14 (Less than four matches)"
       ]
      },
      {
       "output_type": "stream",
       "stream": "stdout",
       "text": [
        "\n",
        "Score: 0.0330 for 27 and 27"
       ]
      },
      {
       "output_type": "stream",
       "stream": "stdout",
       "text": [
        "\n",
        "Score: 0.0000 for 27 and 17 (Less than four matches)"
       ]
      },
      {
       "output_type": "stream",
       "stream": "stdout",
       "text": [
        "\n",
        "Score: 0.0000 for 27 and 19 (Less than four matches)"
       ]
      },
      {
       "output_type": "stream",
       "stream": "stdout",
       "text": [
        "\n",
        "Score: 0.0000 for 27 and 31 (Less than four matches)"
       ]
      },
      {
       "output_type": "stream",
       "stream": "stdout",
       "text": [
        "\n",
        "Score: 0.0000 for 27 and 21 (Less than four matches)"
       ]
      },
      {
       "output_type": "stream",
       "stream": "stdout",
       "text": [
        "\n",
        "Score: 0.0000 for 27 and 23 (Less than four matches)"
       ]
      },
      {
       "output_type": "stream",
       "stream": "stdout",
       "text": [
        "\n",
        "Score: 0.0000 for 27 and 25 (Less than four matches)"
       ]
      },
      {
       "output_type": "stream",
       "stream": "stdout",
       "text": [
        "\n",
        "Score: 0.0000 for 27 and 23 (Less than four matches)"
       ]
      },
      {
       "output_type": "stream",
       "stream": "stdout",
       "text": [
        "\n",
        "Score: 0.0000 for 27 and 31 (Less than four matches)"
       ]
      },
      {
       "output_type": "stream",
       "stream": "stdout",
       "text": [
        "\n",
        "Score: 0.0000 for 27 and 15 (Less than four matches)"
       ]
      },
      {
       "output_type": "stream",
       "stream": "stdout",
       "text": [
        "\n",
        "Score: 0.0000 for 27 and 23 (Less than four matches)"
       ]
      },
      {
       "output_type": "stream",
       "stream": "stdout",
       "text": [
        "\n",
        "Score: 0.0000 for 27 and 18 (Less than four matches)"
       ]
      },
      {
       "output_type": "stream",
       "stream": "stdout",
       "text": [
        "\n",
        "Score: 0.0000 for 27 and 15 (Less than four matches)"
       ]
      },
      {
       "output_type": "stream",
       "stream": "stdout",
       "text": [
        "\n",
        "Score: 0.0000 for 27 and 16 (Less than four matches)"
       ]
      },
      {
       "output_type": "stream",
       "stream": "stdout",
       "text": [
        "\n",
        "Score: 0.0000 for 27 and 23 (Less than four matches)"
       ]
      },
      {
       "output_type": "stream",
       "stream": "stdout",
       "text": [
        "\n",
        "Score: 0.0000 for 27 and 23 (Less than four matches)"
       ]
      },
      {
       "output_type": "stream",
       "stream": "stdout",
       "text": [
        "\n",
        "Score: 0.0000 for 27 and 32 (Less than four matches)"
       ]
      },
      {
       "output_type": "stream",
       "stream": "stdout",
       "text": [
        "\n",
        "Score: 0.0000 for 27 and 15 (Less than four matches)"
       ]
      },
      {
       "output_type": "stream",
       "stream": "stdout",
       "text": [
        "\n",
        "Score: 0.0000 for 27 and 24 (Less than four matches)"
       ]
      },
      {
       "output_type": "stream",
       "stream": "stdout",
       "text": [
        "\n",
        "Score: 0.0000 for 27 and 25 (Less than four matches)"
       ]
      },
      {
       "output_type": "stream",
       "stream": "stdout",
       "text": [
        "\n",
        "Score: 0.0000 for 27 and 30 (Less than four matches)"
       ]
      },
      {
       "output_type": "stream",
       "stream": "stdout",
       "text": [
        "\n",
        "Score: 0.0000 for 27 and 32 (Less than four matches)"
       ]
      },
      {
       "output_type": "stream",
       "stream": "stdout",
       "text": [
        "\n",
        "['../../images/testsets/Gallagher_small_unresized/27_536.jpg', '../../images/testsets/Gallagher_small_unresized/29_538.jpg']\n",
        "No descriptors found. Returning score 0\n",
        "Score: 0.0000 for 27 and 21 (Less than four matches)"
       ]
      },
      {
       "output_type": "stream",
       "stream": "stdout",
       "text": [
        "\n",
        "Score: 0.0000 for 27 and 20 (Less than four matches)"
       ]
      },
      {
       "output_type": "stream",
       "stream": "stdout",
       "text": [
        "\n",
        "Score: 0.0000 for 27 and 15 (Less than four matches)"
       ]
      },
      {
       "output_type": "stream",
       "stream": "stdout",
       "text": [
        "\n",
        "Score: 0.0000 for 27 and 15 (Less than four matches)"
       ]
      },
      {
       "output_type": "stream",
       "stream": "stdout",
       "text": [
        "\n",
        "Score: 0.0000 for 27 and 19 (Less than four matches)"
       ]
      },
      {
       "output_type": "stream",
       "stream": "stdout",
       "text": [
        "\n",
        "Score: 0.0000 for 27 and 19 (Less than four matches)"
       ]
      },
      {
       "output_type": "stream",
       "stream": "stdout",
       "text": [
        "\n",
        "Score: 0.0000 for 27 and 21 (Less than four matches)"
       ]
      },
      {
       "output_type": "stream",
       "stream": "stdout",
       "text": [
        "\n",
        "Score: 0.0000 for 27 and 26 (Less than four matches)"
       ]
      },
      {
       "output_type": "stream",
       "stream": "stdout",
       "text": [
        "\n",
        "Score: 0.0000 for 27 and 27 (Less than four matches)"
       ]
      },
      {
       "output_type": "stream",
       "stream": "stdout",
       "text": [
        "\n",
        "Score: 0.0000 for 27 and 15 (Less than four matches)"
       ]
      },
      {
       "output_type": "stream",
       "stream": "stdout",
       "text": [
        "\n",
        "Score: 0.0000 for 27 and 15 (Less than four matches)"
       ]
      },
      {
       "output_type": "stream",
       "stream": "stdout",
       "text": [
        "\n",
        "Score: 0.0000 for 27 and 21 (Less than four matches)"
       ]
      },
      {
       "output_type": "stream",
       "stream": "stdout",
       "text": [
        "\n",
        "Score: 0.0000 for 27 and 15 (Less than four matches)"
       ]
      },
      {
       "output_type": "stream",
       "stream": "stdout",
       "text": [
        "\n",
        "Score: 0.0000 for 27 and 16 (Less than four matches)"
       ]
      },
      {
       "output_type": "stream",
       "stream": "stdout",
       "text": [
        "\n",
        "Score: 0.0000 for 27 and 17 (Less than four matches)"
       ]
      },
      {
       "output_type": "stream",
       "stream": "stdout",
       "text": [
        "\n",
        "['../../images/testsets/Gallagher_small_unresized/27_536.jpg', '../../images/testsets/Gallagher_small_unresized/28_537.jpg']\n",
        "No descriptors found. Returning score 0\n",
        "Score: 0.0000 for 27 and 27 (Less than four matches)"
       ]
      },
      {
       "output_type": "stream",
       "stream": "stdout",
       "text": [
        "\n",
        "Score: 0.0000 for 27 and 13 (Less than four matches)"
       ]
      },
      {
       "output_type": "stream",
       "stream": "stdout",
       "text": [
        "\n",
        "Score: 0.0000 for 27 and 23 (Less than four matches)"
       ]
      },
      {
       "output_type": "stream",
       "stream": "stdout",
       "text": [
        "\n",
        "Score: 0.0115 for 23 and 21"
       ]
      },
      {
       "output_type": "stream",
       "stream": "stdout",
       "text": [
        "\n",
        "Score: 0.0326 for 23 and 25"
       ]
      },
      {
       "output_type": "stream",
       "stream": "stdout",
       "text": [
        "\n",
        "Score: 0.0454 for 23 and 23"
       ]
      },
      {
       "output_type": "stream",
       "stream": "stdout",
       "text": [
        "\n",
        "Score: 0.0222 for 23 and 25"
       ]
      },
      {
       "output_type": "stream",
       "stream": "stdout",
       "text": [
        "\n",
        "Score: 0.0438 for 23 and 26"
       ]
      },
      {
       "output_type": "stream",
       "stream": "stdout",
       "text": [
        "\n",
        "Score: 0.0000 for 23 and 18 (Less than four matches)"
       ]
      },
      {
       "output_type": "stream",
       "stream": "stdout",
       "text": [
        "\n",
        "['../../images/testsets/Gallagher_small_unresized/23_523.jpg', '../../images/testsets/Gallagher_small_unresized/19_190.jpg']\n",
        "No descriptors found. Returning score 0\n",
        "Score: 0.0305 for 23 and 15"
       ]
      },
      {
       "output_type": "stream",
       "stream": "stdout",
       "text": [
        "\n",
        "Score: 0.0199 for 23 and 14"
       ]
      },
      {
       "output_type": "stream",
       "stream": "stdout",
       "text": [
        "\n",
        "Score: 0.0307 for 23 and 25"
       ]
      },
      {
       "output_type": "stream",
       "stream": "stdout",
       "text": [
        "\n",
        "Score: 0.0128 for 23 and 25"
       ]
      },
      {
       "output_type": "stream",
       "stream": "stdout",
       "text": [
        "\n",
        "Score: 0.0186 for 23 and 32"
       ]
      },
      {
       "output_type": "stream",
       "stream": "stdout",
       "text": [
        "\n",
        "Score: 0.0184 for 23 and 30"
       ]
      },
      {
       "output_type": "stream",
       "stream": "stdout",
       "text": [
        "\n",
        "Score: 0.0122 for 23 and 28"
       ]
      },
      {
       "output_type": "stream",
       "stream": "stdout",
       "text": [
        "\n",
        "Score: 0.0000 for 23 and 30 (Less than four matches)"
       ]
      },
      {
       "output_type": "stream",
       "stream": "stdout",
       "text": [
        "\n",
        "Score: 0.0137 for 23 and 26"
       ]
      },
      {
       "output_type": "stream",
       "stream": "stdout",
       "text": [
        "\n",
        "Score: 0.0160 for 23 and 15"
       ]
      },
      {
       "output_type": "stream",
       "stream": "stdout",
       "text": [
        "\n",
        "Score: 0.0102 for 23 and 21"
       ]
      },
      {
       "output_type": "stream",
       "stream": "stdout",
       "text": [
        "\n",
        "Score: 0.0267 for 23 and 24"
       ]
      },
      {
       "output_type": "stream",
       "stream": "stdout",
       "text": [
        "\n",
        "Score: 0.0267 for 23 and 17"
       ]
      },
      {
       "output_type": "stream",
       "stream": "stdout",
       "text": [
        "\n",
        "Score: 0.0000 for 23 and 14 (Less than four matches)"
       ]
      },
      {
       "output_type": "stream",
       "stream": "stdout",
       "text": [
        "\n",
        "Score: 0.0118 for 23 and 28"
       ]
      },
      {
       "output_type": "stream",
       "stream": "stdout",
       "text": [
        "\n",
        "Score: 0.0000 for 23 and 27 (Less than four matches)"
       ]
      },
      {
       "output_type": "stream",
       "stream": "stdout",
       "text": [
        "\n",
        "Score: 0.0000 for 23 and 22 (Less than four matches)"
       ]
      },
      {
       "output_type": "stream",
       "stream": "stdout",
       "text": [
        "\n",
        "Score: 0.0166 for 23 and 29"
       ]
      },
      {
       "output_type": "stream",
       "stream": "stdout",
       "text": [
        "\n",
        "Score: 0.0278 for 23 and 15"
       ]
      },
      {
       "output_type": "stream",
       "stream": "stdout",
       "text": [
        "\n",
        "Score: 0.0180 for 23 and 25"
       ]
      },
      {
       "output_type": "stream",
       "stream": "stdout",
       "text": [
        "\n",
        "Score: 0.0316 for 23 and 23"
       ]
      },
      {
       "output_type": "stream",
       "stream": "stdout",
       "text": [
        "\n",
        "Score: 0.0376 for 23 and 16"
       ]
      },
      {
       "output_type": "stream",
       "stream": "stdout",
       "text": [
        "\n",
        "Score: 0.0000 for 23 and 18 (Less than four matches)"
       ]
      },
      {
       "output_type": "stream",
       "stream": "stdout",
       "text": [
        "\n",
        "Score: 0.0164 for 23 and 25"
       ]
      },
      {
       "output_type": "stream",
       "stream": "stdout",
       "text": [
        "\n",
        "Score: 0.0402 for 23 and 32"
       ]
      },
      {
       "output_type": "stream",
       "stream": "stdout",
       "text": [
        "\n",
        "Score: 0.0061 for 23 and 19"
       ]
      },
      {
       "output_type": "stream",
       "stream": "stdout",
       "text": [
        "\n",
        "Score: 0.0245 for 23 and 21"
       ]
      },
      {
       "output_type": "stream",
       "stream": "stdout",
       "text": [
        "\n",
        "Score: 0.0227 for 23 and 14"
       ]
      },
      {
       "output_type": "stream",
       "stream": "stdout",
       "text": [
        "\n",
        "Score: 0.0000 for 23 and 26 (Less than four matches)"
       ]
      },
      {
       "output_type": "stream",
       "stream": "stdout",
       "text": [
        "\n",
        "Score: 0.0000 for 23 and 22 (Less than four matches)"
       ]
      },
      {
       "output_type": "stream",
       "stream": "stdout",
       "text": [
        "\n",
        "Score: 0.0085 for 23 and 29"
       ]
      },
      {
       "output_type": "stream",
       "stream": "stdout",
       "text": [
        "\n",
        "Score: 0.0209 for 23 and 13"
       ]
      },
      {
       "output_type": "stream",
       "stream": "stdout",
       "text": [
        "\n",
        "Score: 0.0023 for 23 and 28"
       ]
      },
      {
       "output_type": "stream",
       "stream": "stdout",
       "text": [
        "\n",
        "Score: 0.0000 for 23 and 13 (Less than four matches)"
       ]
      },
      {
       "output_type": "stream",
       "stream": "stdout",
       "text": [
        "\n",
        "Score: 0.0392 for 23 and 14"
       ]
      },
      {
       "output_type": "stream",
       "stream": "stdout",
       "text": [
        "\n",
        "Score: 0.0152 for 23 and 14"
       ]
      },
      {
       "output_type": "stream",
       "stream": "stdout",
       "text": [
        "\n",
        "Score: 0.0000 for 23 and 27 (Less than four matches)"
       ]
      },
      {
       "output_type": "stream",
       "stream": "stdout",
       "text": [
        "\n",
        "Score: 0.0108 for 23 and 17"
       ]
      },
      {
       "output_type": "stream",
       "stream": "stdout",
       "text": [
        "\n",
        "Score: 0.0140 for 23 and 19"
       ]
      },
      {
       "output_type": "stream",
       "stream": "stdout",
       "text": [
        "\n",
        "Score: 0.0339 for 23 and 31"
       ]
      },
      {
       "output_type": "stream",
       "stream": "stdout",
       "text": [
        "\n",
        "Score: 0.0273 for 23 and 21"
       ]
      },
      {
       "output_type": "stream",
       "stream": "stdout",
       "text": [
        "\n",
        "Score: 0.0404 for 23 and 23"
       ]
      },
      {
       "output_type": "stream",
       "stream": "stdout",
       "text": [
        "\n",
        "Score: 0.0254 for 23 and 25"
       ]
      },
      {
       "output_type": "stream",
       "stream": "stdout",
       "text": [
        "\n",
        "Score: 0.0000 for 23 and 23 (Less than four matches)"
       ]
      },
      {
       "output_type": "stream",
       "stream": "stdout",
       "text": [
        "\n",
        "Score: 0.0221 for 23 and 31"
       ]
      },
      {
       "output_type": "stream",
       "stream": "stdout",
       "text": [
        "\n",
        "Score: 0.0315 for 23 and 15"
       ]
      },
      {
       "output_type": "stream",
       "stream": "stdout",
       "text": [
        "\n",
        "Score: 0.0491 for 23 and 23"
       ]
      },
      {
       "output_type": "stream",
       "stream": "stdout",
       "text": [
        "\n",
        "Score: 0.0150 for 23 and 18"
       ]
      },
      {
       "output_type": "stream",
       "stream": "stdout",
       "text": [
        "\n",
        "Score: 0.0374 for 23 and 15"
       ]
      },
      {
       "output_type": "stream",
       "stream": "stdout",
       "text": [
        "\n",
        "Score: 0.0113 for 23 and 16"
       ]
      },
      {
       "output_type": "stream",
       "stream": "stdout",
       "text": [
        "\n",
        "Score: 0.0235 for 23 and 23"
       ]
      },
      {
       "output_type": "stream",
       "stream": "stdout",
       "text": [
        "\n",
        "Score: 0.0250 for 23 and 23"
       ]
      },
      {
       "output_type": "stream",
       "stream": "stdout",
       "text": [
        "\n",
        "Score: 0.0000 for 23 and 32 (Less than four matches)"
       ]
      },
      {
       "output_type": "stream",
       "stream": "stdout",
       "text": [
        "\n",
        "Score: 0.0379 for 23 and 15"
       ]
      },
      {
       "output_type": "stream",
       "stream": "stdout",
       "text": [
        "\n",
        "Score: 0.0137 for 23 and 24"
       ]
      },
      {
       "output_type": "stream",
       "stream": "stdout",
       "text": [
        "\n",
        "Score: 0.0285 for 23 and 25"
       ]
      },
      {
       "output_type": "stream",
       "stream": "stdout",
       "text": [
        "\n",
        "Score: 0.0530 for 23 and 30"
       ]
      },
      {
       "output_type": "stream",
       "stream": "stdout",
       "text": [
        "\n",
        "Score: 0.0286 for 23 and 32"
       ]
      },
      {
       "output_type": "stream",
       "stream": "stdout",
       "text": [
        "\n",
        "['../../images/testsets/Gallagher_small_unresized/23_523.jpg', '../../images/testsets/Gallagher_small_unresized/29_538.jpg']\n",
        "No descriptors found. Returning score 0\n",
        "Score: 0.0218 for 23 and 21"
       ]
      },
      {
       "output_type": "stream",
       "stream": "stdout",
       "text": [
        "\n",
        "Score: 0.0462 for 23 and 20"
       ]
      },
      {
       "output_type": "stream",
       "stream": "stdout",
       "text": [
        "\n",
        "Score: 0.0278 for 23 and 15"
       ]
      },
      {
       "output_type": "stream",
       "stream": "stdout",
       "text": [
        "\n",
        "Score: 0.0202 for 23 and 15"
       ]
      },
      {
       "output_type": "stream",
       "stream": "stdout",
       "text": [
        "\n",
        "Score: 0.0255 for 23 and 19"
       ]
      },
      {
       "output_type": "stream",
       "stream": "stdout",
       "text": [
        "\n",
        "Score: 0.0150 for 23 and 19"
       ]
      },
      {
       "output_type": "stream",
       "stream": "stdout",
       "text": [
        "\n",
        "Score: 0.0148 for 23 and 21"
       ]
      },
      {
       "output_type": "stream",
       "stream": "stdout",
       "text": [
        "\n",
        "Score: 0.0124 for 23 and 26"
       ]
      },
      {
       "output_type": "stream",
       "stream": "stdout",
       "text": [
        "\n",
        "Score: 0.0416 for 23 and 27"
       ]
      },
      {
       "output_type": "stream",
       "stream": "stdout",
       "text": [
        "\n",
        "Score: 0.0402 for 23 and 15"
       ]
      },
      {
       "output_type": "stream",
       "stream": "stdout",
       "text": [
        "\n",
        "Score: 0.0197 for 23 and 15"
       ]
      },
      {
       "output_type": "stream",
       "stream": "stdout",
       "text": [
        "\n",
        "Score: 0.0000 for 23 and 21 (Less than four matches)"
       ]
      },
      {
       "output_type": "stream",
       "stream": "stdout",
       "text": [
        "\n",
        "Score: 0.0000 for 23 and 15 (Less than four matches)"
       ]
      },
      {
       "output_type": "stream",
       "stream": "stdout",
       "text": [
        "\n",
        "Score: 0.0199 for 23 and 16"
       ]
      },
      {
       "output_type": "stream",
       "stream": "stdout",
       "text": [
        "\n",
        "Score: 0.0000 for 23 and 17 (Less than four matches)"
       ]
      },
      {
       "output_type": "stream",
       "stream": "stdout",
       "text": [
        "\n",
        "['../../images/testsets/Gallagher_small_unresized/23_523.jpg', '../../images/testsets/Gallagher_small_unresized/28_537.jpg']\n",
        "No descriptors found. Returning score 0\n",
        "Score: 0.0000 for 23 and 27 (Less than four matches)"
       ]
      },
      {
       "output_type": "stream",
       "stream": "stdout",
       "text": [
        "\n",
        "Score: 0.0000 for 23 and 13 (Less than four matches)"
       ]
      },
      {
       "output_type": "stream",
       "stream": "stdout",
       "text": [
        "\n",
        "Score: 0.0081 for 23 and 23"
       ]
      },
      {
       "output_type": "stream",
       "stream": "stdout",
       "text": [
        "\n",
        "Score: 0.0434 for 21 and 25"
       ]
      },
      {
       "output_type": "stream",
       "stream": "stdout",
       "text": [
        "\n",
        "Score: 0.0183 for 21 and 23"
       ]
      },
      {
       "output_type": "stream",
       "stream": "stdout",
       "text": [
        "\n",
        "Score: 0.0380 for 21 and 25"
       ]
      },
      {
       "output_type": "stream",
       "stream": "stdout",
       "text": [
        "\n",
        "Score: 0.0304 for 21 and 26"
       ]
      },
      {
       "output_type": "stream",
       "stream": "stdout",
       "text": [
        "\n",
        "Score: 0.0000 for 21 and 18 (Less than four matches)"
       ]
      },
      {
       "output_type": "stream",
       "stream": "stdout",
       "text": [
        "\n",
        "['../../images/testsets/Gallagher_small_unresized/21_585.jpg', '../../images/testsets/Gallagher_small_unresized/19_190.jpg']\n",
        "No descriptors found. Returning score 0\n",
        "Score: 0.0487 for 21 and 15"
       ]
      },
      {
       "output_type": "stream",
       "stream": "stdout",
       "text": [
        "\n",
        "Score: 0.0345 for 21 and 14"
       ]
      },
      {
       "output_type": "stream",
       "stream": "stdout",
       "text": [
        "\n",
        "Score: 0.0550 for 21 and 25"
       ]
      },
      {
       "output_type": "stream",
       "stream": "stdout",
       "text": [
        "\n",
        "Score: 0.0000 for 21 and 25 (Less than four matches)"
       ]
      },
      {
       "output_type": "stream",
       "stream": "stdout",
       "text": [
        "\n",
        "Score: 0.0297 for 21 and 32"
       ]
      },
      {
       "output_type": "stream",
       "stream": "stdout",
       "text": [
        "\n",
        "Score: 0.0110 for 21 and 30"
       ]
      },
      {
       "output_type": "stream",
       "stream": "stdout",
       "text": [
        "\n",
        "Score: 0.0000 for 21 and 28 (Less than four matches)"
       ]
      },
      {
       "output_type": "stream",
       "stream": "stdout",
       "text": [
        "\n",
        "Score: 0.0000 for 21 and 30 (Less than four matches)"
       ]
      },
      {
       "output_type": "stream",
       "stream": "stdout",
       "text": [
        "\n",
        "Score: 0.0000 for 21 and 26 (Less than four matches)"
       ]
      },
      {
       "output_type": "stream",
       "stream": "stdout",
       "text": [
        "\n",
        "Score: 0.0346 for 21 and 15"
       ]
      },
      {
       "output_type": "stream",
       "stream": "stdout",
       "text": [
        "\n",
        "Score: 0.0378 for 21 and 21"
       ]
      },
      {
       "output_type": "stream",
       "stream": "stdout",
       "text": [
        "\n",
        "Score: 0.0353 for 21 and 24"
       ]
      },
      {
       "output_type": "stream",
       "stream": "stdout",
       "text": [
        "\n",
        "Score: 0.0260 for 21 and 17"
       ]
      },
      {
       "output_type": "stream",
       "stream": "stdout",
       "text": [
        "\n",
        "Score: 0.0000 for 21 and 14 (Less than four matches)"
       ]
      },
      {
       "output_type": "stream",
       "stream": "stdout",
       "text": [
        "\n",
        "Score: 0.0606 for 21 and 28"
       ]
      },
      {
       "output_type": "stream",
       "stream": "stdout",
       "text": [
        "\n",
        "Score: 0.0000 for 21 and 27 (Less than four matches)"
       ]
      },
      {
       "output_type": "stream",
       "stream": "stdout",
       "text": [
        "\n",
        "Score: 0.0000 for 21 and 22 (Less than four matches)"
       ]
      },
      {
       "output_type": "stream",
       "stream": "stdout",
       "text": [
        "\n",
        "Score: 0.0000 for 21 and 29 (Less than four matches)"
       ]
      },
      {
       "output_type": "stream",
       "stream": "stdout",
       "text": [
        "\n",
        "Score: 0.0391 for 21 and 15"
       ]
      },
      {
       "output_type": "stream",
       "stream": "stdout",
       "text": [
        "\n",
        "Score: 0.0158 for 21 and 25"
       ]
      },
      {
       "output_type": "stream",
       "stream": "stdout",
       "text": [
        "\n",
        "Score: 0.0221 for 21 and 23"
       ]
      },
      {
       "output_type": "stream",
       "stream": "stdout",
       "text": [
        "\n",
        "Score: 0.0306 for 21 and 16"
       ]
      },
      {
       "output_type": "stream",
       "stream": "stdout",
       "text": [
        "\n",
        "Score: 0.0000 for 21 and 18 (Less than four matches)"
       ]
      },
      {
       "output_type": "stream",
       "stream": "stdout",
       "text": [
        "\n",
        "Score: 0.0293 for 21 and 25"
       ]
      },
      {
       "output_type": "stream",
       "stream": "stdout",
       "text": [
        "\n",
        "Score: 0.0257 for 21 and 32"
       ]
      },
      {
       "output_type": "stream",
       "stream": "stdout",
       "text": [
        "\n",
        "Score: 0.0429 for 21 and 19"
       ]
      },
      {
       "output_type": "stream",
       "stream": "stdout",
       "text": [
        "\n",
        "Score: 0.0364 for 21 and 21"
       ]
      },
      {
       "output_type": "stream",
       "stream": "stdout",
       "text": [
        "\n",
        "Score: 0.0413 for 21 and 14"
       ]
      },
      {
       "output_type": "stream",
       "stream": "stdout",
       "text": [
        "\n",
        "Score: 0.0000 for 21 and 26 (Less than four matches)"
       ]
      },
      {
       "output_type": "stream",
       "stream": "stdout",
       "text": [
        "\n",
        "Score: 0.0000 for 21 and 22 (Less than four matches)"
       ]
      },
      {
       "output_type": "stream",
       "stream": "stdout",
       "text": [
        "\n",
        "Score: 0.0662 for 21 and 29"
       ]
      },
      {
       "output_type": "stream",
       "stream": "stdout",
       "text": [
        "\n",
        "Score: 0.0117 for 21 and 13"
       ]
      },
      {
       "output_type": "stream",
       "stream": "stdout",
       "text": [
        "\n",
        "Score: 0.0112 for 21 and 28"
       ]
      },
      {
       "output_type": "stream",
       "stream": "stdout",
       "text": [
        "\n",
        "Score: 0.0247 for 21 and 13"
       ]
      },
      {
       "output_type": "stream",
       "stream": "stdout",
       "text": [
        "\n",
        "Score: 0.0305 for 21 and 14"
       ]
      },
      {
       "output_type": "stream",
       "stream": "stdout",
       "text": [
        "\n",
        "Score: 0.0000 for 21 and 14 (Less than four matches)"
       ]
      },
      {
       "output_type": "stream",
       "stream": "stdout",
       "text": [
        "\n",
        "Score: 0.0090 for 21 and 27"
       ]
      },
      {
       "output_type": "stream",
       "stream": "stdout",
       "text": [
        "\n",
        "Score: 0.0205 for 21 and 17"
       ]
      },
      {
       "output_type": "stream",
       "stream": "stdout",
       "text": [
        "\n",
        "Score: 0.0000 for 21 and 19 (Less than four matches)"
       ]
      },
      {
       "output_type": "stream",
       "stream": "stdout",
       "text": [
        "\n",
        "Score: 0.0166 for 21 and 31"
       ]
      },
      {
       "output_type": "stream",
       "stream": "stdout",
       "text": [
        "\n",
        "Score: 0.0233 for 21 and 21"
       ]
      },
      {
       "output_type": "stream",
       "stream": "stdout",
       "text": [
        "\n",
        "Score: 0.0200 for 21 and 23"
       ]
      },
      {
       "output_type": "stream",
       "stream": "stdout",
       "text": [
        "\n",
        "Score: 0.0000 for 21 and 25 (Less than four matches)"
       ]
      },
      {
       "output_type": "stream",
       "stream": "stdout",
       "text": [
        "\n",
        "Score: 0.0000 for 21 and 23 (Less than four matches)"
       ]
      },
      {
       "output_type": "stream",
       "stream": "stdout",
       "text": [
        "\n",
        "Score: 0.0580 for 21 and 31"
       ]
      },
      {
       "output_type": "stream",
       "stream": "stdout",
       "text": [
        "\n",
        "Score: 0.0505 for 21 and 15"
       ]
      },
      {
       "output_type": "stream",
       "stream": "stdout",
       "text": [
        "\n",
        "Score: 0.0264 for 21 and 23"
       ]
      },
      {
       "output_type": "stream",
       "stream": "stdout",
       "text": [
        "\n",
        "Score: 0.0000 for 21 and 18 (Less than four matches)"
       ]
      },
      {
       "output_type": "stream",
       "stream": "stdout",
       "text": [
        "\n",
        "Score: 0.0238 for 21 and 15"
       ]
      },
      {
       "output_type": "stream",
       "stream": "stdout",
       "text": [
        "\n",
        "Score: 0.0285 for 21 and 16"
       ]
      },
      {
       "output_type": "stream",
       "stream": "stdout",
       "text": [
        "\n",
        "Score: 0.0255 for 21 and 23"
       ]
      },
      {
       "output_type": "stream",
       "stream": "stdout",
       "text": [
        "\n",
        "Score: 0.0000 for 21 and 23 (Less than four matches)"
       ]
      },
      {
       "output_type": "stream",
       "stream": "stdout",
       "text": [
        "\n",
        "Score: 0.0471 for 21 and 32"
       ]
      },
      {
       "output_type": "stream",
       "stream": "stdout",
       "text": [
        "\n",
        "Score: 0.0183 for 21 and 15"
       ]
      },
      {
       "output_type": "stream",
       "stream": "stdout",
       "text": [
        "\n",
        "Score: 0.0219 for 21 and 24"
       ]
      },
      {
       "output_type": "stream",
       "stream": "stdout",
       "text": [
        "\n",
        "Score: 0.0296 for 21 and 25"
       ]
      },
      {
       "output_type": "stream",
       "stream": "stdout",
       "text": [
        "\n",
        "Score: 0.0160 for 21 and 30"
       ]
      },
      {
       "output_type": "stream",
       "stream": "stdout",
       "text": [
        "\n",
        "Score: 0.0000 for 21 and 32 (Less than four matches)"
       ]
      },
      {
       "output_type": "stream",
       "stream": "stdout",
       "text": [
        "\n",
        "['../../images/testsets/Gallagher_small_unresized/21_585.jpg', '../../images/testsets/Gallagher_small_unresized/29_538.jpg']\n",
        "No descriptors found. Returning score 0\n",
        "Score: 0.0197 for 21 and 21"
       ]
      },
      {
       "output_type": "stream",
       "stream": "stdout",
       "text": [
        "\n",
        "Score: 0.0276 for 21 and 20"
       ]
      },
      {
       "output_type": "stream",
       "stream": "stdout",
       "text": [
        "\n",
        "Score: 0.0302 for 21 and 15"
       ]
      },
      {
       "output_type": "stream",
       "stream": "stdout",
       "text": [
        "\n",
        "Score: 0.0299 for 21 and 15"
       ]
      },
      {
       "output_type": "stream",
       "stream": "stdout",
       "text": [
        "\n",
        "Score: 0.0220 for 21 and 19"
       ]
      },
      {
       "output_type": "stream",
       "stream": "stdout",
       "text": [
        "\n",
        "Score: 0.0291 for 21 and 19"
       ]
      },
      {
       "output_type": "stream",
       "stream": "stdout",
       "text": [
        "\n",
        "Score: 0.0191 for 21 and 21"
       ]
      },
      {
       "output_type": "stream",
       "stream": "stdout",
       "text": [
        "\n",
        "Score: 0.0100 for 21 and 26"
       ]
      },
      {
       "output_type": "stream",
       "stream": "stdout",
       "text": [
        "\n",
        "Score: 0.0064 for 21 and 27"
       ]
      },
      {
       "output_type": "stream",
       "stream": "stdout",
       "text": [
        "\n",
        "Score: 0.0203 for 21 and 15"
       ]
      },
      {
       "output_type": "stream",
       "stream": "stdout",
       "text": [
        "\n",
        "Score: 0.0275 for 21 and 15"
       ]
      },
      {
       "output_type": "stream",
       "stream": "stdout",
       "text": [
        "\n",
        "Score: 0.0148 for 21 and 21"
       ]
      },
      {
       "output_type": "stream",
       "stream": "stdout",
       "text": [
        "\n",
        "Score: 0.0000 for 21 and 15 (Less than four matches)"
       ]
      },
      {
       "output_type": "stream",
       "stream": "stdout",
       "text": [
        "\n",
        "Score: 0.0064 for 21 and 16"
       ]
      },
      {
       "output_type": "stream",
       "stream": "stdout",
       "text": [
        "\n",
        "Score: 0.0000 for 21 and 17 (Less than four matches)"
       ]
      },
      {
       "output_type": "stream",
       "stream": "stdout",
       "text": [
        "\n",
        "['../../images/testsets/Gallagher_small_unresized/21_585.jpg', '../../images/testsets/Gallagher_small_unresized/28_537.jpg']\n",
        "No descriptors found. Returning score 0\n",
        "Score: 0.0219 for 21 and 27"
       ]
      },
      {
       "output_type": "stream",
       "stream": "stdout",
       "text": [
        "\n",
        "Score: 0.0520 for 21 and 13"
       ]
      },
      {
       "output_type": "stream",
       "stream": "stdout",
       "text": [
        "\n",
        "Score: 0.0119 for 21 and 23"
       ]
      },
      {
       "output_type": "stream",
       "stream": "stdout",
       "text": [
        "\n",
        "Score: 0.0365 for 25 and 23"
       ]
      },
      {
       "output_type": "stream",
       "stream": "stdout",
       "text": [
        "\n",
        "Score: 0.0209 for 25 and 25"
       ]
      },
      {
       "output_type": "stream",
       "stream": "stdout",
       "text": [
        "\n",
        "Score: 0.0062 for 25 and 26"
       ]
      },
      {
       "output_type": "stream",
       "stream": "stdout",
       "text": [
        "\n",
        "Score: 0.0000 for 25 and 18 (Less than four matches)"
       ]
      },
      {
       "output_type": "stream",
       "stream": "stdout",
       "text": [
        "\n",
        "['../../images/testsets/Gallagher_small_unresized/25_924.jpg', '../../images/testsets/Gallagher_small_unresized/19_190.jpg']\n",
        "No descriptors found. Returning score 0\n",
        "Score: 0.0000 for 25 and 15 (Less than four matches)"
       ]
      },
      {
       "output_type": "stream",
       "stream": "stdout",
       "text": [
        "\n",
        "Score: 0.0000 for 25 and 14 (Less than four matches)"
       ]
      },
      {
       "output_type": "stream",
       "stream": "stdout",
       "text": [
        "\n",
        "Score: 0.0000 for 25 and 25 (Less than four matches)"
       ]
      },
      {
       "output_type": "stream",
       "stream": "stdout",
       "text": [
        "\n",
        "Score: 0.0000 for 25 and 25 (Less than four matches)"
       ]
      },
      {
       "output_type": "stream",
       "stream": "stdout",
       "text": [
        "\n",
        "Score: 0.0000 for 25 and 32 (Less than four matches)"
       ]
      },
      {
       "output_type": "stream",
       "stream": "stdout",
       "text": [
        "\n",
        "Score: 0.0294 for 25 and 30"
       ]
      },
      {
       "output_type": "stream",
       "stream": "stdout",
       "text": [
        "\n",
        "Score: 0.0140 for 25 and 28"
       ]
      },
      {
       "output_type": "stream",
       "stream": "stdout",
       "text": [
        "\n",
        "Score: 0.0000 for 25 and 30 (Less than four matches)"
       ]
      },
      {
       "output_type": "stream",
       "stream": "stdout",
       "text": [
        "\n",
        "Score: 0.0242 for 25 and 26"
       ]
      },
      {
       "output_type": "stream",
       "stream": "stdout",
       "text": [
        "\n",
        "Score: 0.0311 for 25 and 15"
       ]
      },
      {
       "output_type": "stream",
       "stream": "stdout",
       "text": [
        "\n",
        "Score: 0.0000 for 25 and 21 (Less than four matches)"
       ]
      },
      {
       "output_type": "stream",
       "stream": "stdout",
       "text": [
        "\n",
        "Score: 0.0000 for 25 and 24 (Less than four matches)"
       ]
      },
      {
       "output_type": "stream",
       "stream": "stdout",
       "text": [
        "\n",
        "Score: 0.0000 for 25 and 17 (Less than four matches)"
       ]
      },
      {
       "output_type": "stream",
       "stream": "stdout",
       "text": [
        "\n",
        "Score: 0.0000 for 25 and 14 (Less than four matches)"
       ]
      },
      {
       "output_type": "stream",
       "stream": "stdout",
       "text": [
        "\n",
        "Score: 0.0401 for 25 and 28"
       ]
      },
      {
       "output_type": "stream",
       "stream": "stdout",
       "text": [
        "\n",
        "Score: 0.0000 for 25 and 27 (Less than four matches)"
       ]
      },
      {
       "output_type": "stream",
       "stream": "stdout",
       "text": [
        "\n",
        "Score: 0.0000 for 25 and 22 (Less than four matches)"
       ]
      },
      {
       "output_type": "stream",
       "stream": "stdout",
       "text": [
        "\n",
        "Score: 0.0272 for 25 and 29"
       ]
      },
      {
       "output_type": "stream",
       "stream": "stdout",
       "text": [
        "\n",
        "Score: 0.0000 for 25 and 15 (Less than four matches)"
       ]
      },
      {
       "output_type": "stream",
       "stream": "stdout",
       "text": [
        "\n",
        "Score: 0.0000 for 25 and 25 (Less than four matches)"
       ]
      },
      {
       "output_type": "stream",
       "stream": "stdout",
       "text": [
        "\n",
        "Score: 0.0000 for 25 and 23 (Less than four matches)"
       ]
      },
      {
       "output_type": "stream",
       "stream": "stdout",
       "text": [
        "\n",
        "Score: 0.0000 for 25 and 16 (Less than four matches)"
       ]
      },
      {
       "output_type": "stream",
       "stream": "stdout",
       "text": [
        "\n",
        "Score: 0.0291 for 25 and 18"
       ]
      },
      {
       "output_type": "stream",
       "stream": "stdout",
       "text": [
        "\n",
        "Score: 0.0148 for 25 and 25"
       ]
      },
      {
       "output_type": "stream",
       "stream": "stdout",
       "text": [
        "\n",
        "Score: 0.0000 for 25 and 32 (Less than four matches)"
       ]
      },
      {
       "output_type": "stream",
       "stream": "stdout",
       "text": [
        "\n",
        "Score: 0.0000 for 25 and 19 (Less than four matches)"
       ]
      },
      {
       "output_type": "stream",
       "stream": "stdout",
       "text": [
        "\n",
        "Score: 0.0309 for 25 and 21"
       ]
      },
      {
       "output_type": "stream",
       "stream": "stdout",
       "text": [
        "\n",
        "Score: 0.0229 for 25 and 14"
       ]
      },
      {
       "output_type": "stream",
       "stream": "stdout",
       "text": [
        "\n",
        "Score: 0.0000 for 25 and 26 (Less than four matches)"
       ]
      },
      {
       "output_type": "stream",
       "stream": "stdout",
       "text": [
        "\n",
        "Score: 0.0000 for 25 and 22 (Less than four matches)"
       ]
      },
      {
       "output_type": "stream",
       "stream": "stdout",
       "text": [
        "\n",
        "Score: 0.0000 for 25 and 29 (Less than four matches)"
       ]
      },
      {
       "output_type": "stream",
       "stream": "stdout",
       "text": [
        "\n",
        "Score: 0.0000 for 25 and 13 (Less than four matches)"
       ]
      },
      {
       "output_type": "stream",
       "stream": "stdout",
       "text": [
        "\n",
        "Score: 0.0368 for 25 and 28"
       ]
      },
      {
       "output_type": "stream",
       "stream": "stdout",
       "text": [
        "\n",
        "Score: 0.0000 for 25 and 13 (Less than four matches)"
       ]
      },
      {
       "output_type": "stream",
       "stream": "stdout",
       "text": [
        "\n",
        "Score: 0.0000 for 25 and 14 (Less than four matches)"
       ]
      },
      {
       "output_type": "stream",
       "stream": "stdout",
       "text": [
        "\n",
        "Score: 0.0000 for 25 and 14 (Less than four matches)"
       ]
      },
      {
       "output_type": "stream",
       "stream": "stdout",
       "text": [
        "\n",
        "Score: 0.0156 for 25 and 27"
       ]
      },
      {
       "output_type": "stream",
       "stream": "stdout",
       "text": [
        "\n",
        "Score: 0.0000 for 25 and 17 (Less than four matches)"
       ]
      },
      {
       "output_type": "stream",
       "stream": "stdout",
       "text": [
        "\n",
        "Score: 0.0000 for 25 and 19 (Less than four matches)"
       ]
      },
      {
       "output_type": "stream",
       "stream": "stdout",
       "text": [
        "\n",
        "Score: 0.0000 for 25 and 31 (Less than four matches)"
       ]
      },
      {
       "output_type": "stream",
       "stream": "stdout",
       "text": [
        "\n",
        "Score: 0.0000 for 25 and 21 (Less than four matches)"
       ]
      },
      {
       "output_type": "stream",
       "stream": "stdout",
       "text": [
        "\n",
        "Score: 0.0000 for 25 and 23 (Less than four matches)"
       ]
      },
      {
       "output_type": "stream",
       "stream": "stdout",
       "text": [
        "\n",
        "Score: 0.0730 for 25 and 25"
       ]
      },
      {
       "output_type": "stream",
       "stream": "stdout",
       "text": [
        "\n",
        "Score: 0.0000 for 25 and 23 (Less than four matches)"
       ]
      },
      {
       "output_type": "stream",
       "stream": "stdout",
       "text": [
        "\n",
        "Score: 0.0167 for 25 and 31"
       ]
      },
      {
       "output_type": "stream",
       "stream": "stdout",
       "text": [
        "\n",
        "Score: 0.0137 for 25 and 15"
       ]
      },
      {
       "output_type": "stream",
       "stream": "stdout",
       "text": [
        "\n",
        "Score: 0.0415 for 25 and 23"
       ]
      },
      {
       "output_type": "stream",
       "stream": "stdout",
       "text": [
        "\n",
        "Score: 0.0000 for 25 and 18 (Less than four matches)"
       ]
      },
      {
       "output_type": "stream",
       "stream": "stdout",
       "text": [
        "\n",
        "Score: 0.0000 for 25 and 15 (Less than four matches)"
       ]
      },
      {
       "output_type": "stream",
       "stream": "stdout",
       "text": [
        "\n",
        "Score: 0.0000 for 25 and 16 (Less than four matches)"
       ]
      },
      {
       "output_type": "stream",
       "stream": "stdout",
       "text": [
        "\n",
        "Score: 0.0375 for 25 and 23"
       ]
      },
      {
       "output_type": "stream",
       "stream": "stdout",
       "text": [
        "\n",
        "Score: 0.0000 for 25 and 23 (Less than four matches)"
       ]
      },
      {
       "output_type": "stream",
       "stream": "stdout",
       "text": [
        "\n",
        "Score: 0.0000 for 25 and 32 (Less than four matches)"
       ]
      },
      {
       "output_type": "stream",
       "stream": "stdout",
       "text": [
        "\n",
        "Score: 0.0000 for 25 and 15 (Less than four matches)"
       ]
      },
      {
       "output_type": "stream",
       "stream": "stdout",
       "text": [
        "\n",
        "Score: 0.0000 for 25 and 24 (Less than four matches)"
       ]
      },
      {
       "output_type": "stream",
       "stream": "stdout",
       "text": [
        "\n",
        "Score: 0.0376 for 25 and 25"
       ]
      },
      {
       "output_type": "stream",
       "stream": "stdout",
       "text": [
        "\n",
        "Score: 0.0204 for 25 and 30"
       ]
      },
      {
       "output_type": "stream",
       "stream": "stdout",
       "text": [
        "\n",
        "Score: 0.0000 for 25 and 32 (Less than four matches)"
       ]
      },
      {
       "output_type": "stream",
       "stream": "stdout",
       "text": [
        "\n",
        "['../../images/testsets/Gallagher_small_unresized/25_924.jpg', '../../images/testsets/Gallagher_small_unresized/29_538.jpg']\n",
        "No descriptors found. Returning score 0\n",
        "Score: 0.0000 for 25 and 21 (Less than four matches)"
       ]
      },
      {
       "output_type": "stream",
       "stream": "stdout",
       "text": [
        "\n",
        "Score: 0.0000 for 25 and 20 (Less than four matches)"
       ]
      },
      {
       "output_type": "stream",
       "stream": "stdout",
       "text": [
        "\n",
        "Score: 0.0000 for 25 and 15 (Less than four matches)"
       ]
      },
      {
       "output_type": "stream",
       "stream": "stdout",
       "text": [
        "\n",
        "Score: 0.0000 for 25 and 15 (Less than four matches)"
       ]
      },
      {
       "output_type": "stream",
       "stream": "stdout",
       "text": [
        "\n",
        "Score: 0.0000 for 25 and 19 (Less than four matches)"
       ]
      },
      {
       "output_type": "stream",
       "stream": "stdout",
       "text": [
        "\n",
        "Score: 0.0000 for 25 and 19 (Less than four matches)"
       ]
      },
      {
       "output_type": "stream",
       "stream": "stdout",
       "text": [
        "\n",
        "Score: 0.0000 for 25 and 21 (Less than four matches)"
       ]
      },
      {
       "output_type": "stream",
       "stream": "stdout",
       "text": [
        "\n",
        "Score: 0.0192 for 25 and 26"
       ]
      },
      {
       "output_type": "stream",
       "stream": "stdout",
       "text": [
        "\n",
        "Score: 0.0000 for 25 and 27 (Less than four matches)"
       ]
      },
      {
       "output_type": "stream",
       "stream": "stdout",
       "text": [
        "\n",
        "Score: 0.0000 for 25 and 15 (Less than four matches)"
       ]
      },
      {
       "output_type": "stream",
       "stream": "stdout",
       "text": [
        "\n",
        "Score: 0.0000 for 25 and 15 (Less than four matches)"
       ]
      },
      {
       "output_type": "stream",
       "stream": "stdout",
       "text": [
        "\n",
        "Score: 0.0317 for 25 and 21"
       ]
      },
      {
       "output_type": "stream",
       "stream": "stdout",
       "text": [
        "\n",
        "Score: 0.0000 for 25 and 15 (Less than four matches)"
       ]
      },
      {
       "output_type": "stream",
       "stream": "stdout",
       "text": [
        "\n",
        "Score: 0.0000 for 25 and 16 (Less than four matches)"
       ]
      },
      {
       "output_type": "stream",
       "stream": "stdout",
       "text": [
        "\n",
        "Score: 0.0000 for 25 and 17 (Less than four matches)"
       ]
      },
      {
       "output_type": "stream",
       "stream": "stdout",
       "text": [
        "\n",
        "['../../images/testsets/Gallagher_small_unresized/25_924.jpg', '../../images/testsets/Gallagher_small_unresized/28_537.jpg']\n",
        "No descriptors found. Returning score 0\n",
        "Score: 0.0000 for 25 and 27 (Less than four matches)"
       ]
      },
      {
       "output_type": "stream",
       "stream": "stdout",
       "text": [
        "\n",
        "Score: 0.0278 for 25 and 13"
       ]
      },
      {
       "output_type": "stream",
       "stream": "stdout",
       "text": [
        "\n",
        "Score: 0.0000 for 25 and 23 (Less than four matches)"
       ]
      },
      {
       "output_type": "stream",
       "stream": "stdout",
       "text": [
        "\n",
        "Score: 0.0233 for 23 and 25"
       ]
      },
      {
       "output_type": "stream",
       "stream": "stdout",
       "text": [
        "\n",
        "Score: 0.0350 for 23 and 26"
       ]
      },
      {
       "output_type": "stream",
       "stream": "stdout",
       "text": [
        "\n",
        "Score: 0.0000 for 23 and 18 (Less than four matches)"
       ]
      },
      {
       "output_type": "stream",
       "stream": "stdout",
       "text": [
        "\n",
        "['../../images/testsets/Gallagher_small_unresized/23_564.jpg', '../../images/testsets/Gallagher_small_unresized/19_190.jpg']\n",
        "No descriptors found. Returning score 0\n",
        "Score: 0.0231 for 23 and 15"
       ]
      },
      {
       "output_type": "stream",
       "stream": "stdout",
       "text": [
        "\n",
        "Score: 0.0000 for 23 and 14 (Less than four matches)"
       ]
      },
      {
       "output_type": "stream",
       "stream": "stdout",
       "text": [
        "\n",
        "Score: 0.0334 for 23 and 25"
       ]
      },
      {
       "output_type": "stream",
       "stream": "stdout",
       "text": [
        "\n",
        "Score: 0.0230 for 23 and 25"
       ]
      },
      {
       "output_type": "stream",
       "stream": "stdout",
       "text": [
        "\n",
        "Score: 0.0325 for 23 and 32"
       ]
      },
      {
       "output_type": "stream",
       "stream": "stdout",
       "text": [
        "\n",
        "Score: 0.0150 for 23 and 30"
       ]
      },
      {
       "output_type": "stream",
       "stream": "stdout",
       "text": [
        "\n",
        "Score: 0.0298 for 23 and 28"
       ]
      },
      {
       "output_type": "stream",
       "stream": "stdout",
       "text": [
        "\n",
        "Score: 0.0000 for 23 and 30 (Less than four matches)"
       ]
      },
      {
       "output_type": "stream",
       "stream": "stdout",
       "text": [
        "\n",
        "Score: 0.0289 for 23 and 26"
       ]
      },
      {
       "output_type": "stream",
       "stream": "stdout",
       "text": [
        "\n",
        "Score: 0.0300 for 23 and 15"
       ]
      },
      {
       "output_type": "stream",
       "stream": "stdout",
       "text": [
        "\n",
        "Score: 0.0189 for 23 and 21"
       ]
      },
      {
       "output_type": "stream",
       "stream": "stdout",
       "text": [
        "\n",
        "Score: 0.0355 for 23 and 24"
       ]
      },
      {
       "output_type": "stream",
       "stream": "stdout",
       "text": [
        "\n",
        "Score: 0.0000 for 23 and 17 (Less than four matches)"
       ]
      },
      {
       "output_type": "stream",
       "stream": "stdout",
       "text": [
        "\n",
        "Score: 0.0000 for 23 and 14 (Less than four matches)"
       ]
      },
      {
       "output_type": "stream",
       "stream": "stdout",
       "text": [
        "\n",
        "Score: 0.0352 for 23 and 28"
       ]
      },
      {
       "output_type": "stream",
       "stream": "stdout",
       "text": [
        "\n",
        "Score: 0.0259 for 23 and 27"
       ]
      },
      {
       "output_type": "stream",
       "stream": "stdout",
       "text": [
        "\n",
        "Score: 0.0000 for 23 and 22 (Less than four matches)"
       ]
      },
      {
       "output_type": "stream",
       "stream": "stdout",
       "text": [
        "\n",
        "Score: 0.0174 for 23 and 29"
       ]
      },
      {
       "output_type": "stream",
       "stream": "stdout",
       "text": [
        "\n",
        "Score: 0.0308 for 23 and 15"
       ]
      },
      {
       "output_type": "stream",
       "stream": "stdout",
       "text": [
        "\n",
        "Score: 0.0249 for 23 and 25"
       ]
      },
      {
       "output_type": "stream",
       "stream": "stdout",
       "text": [
        "\n",
        "Score: 0.0510 for 23 and 23"
       ]
      },
      {
       "output_type": "stream",
       "stream": "stdout",
       "text": [
        "\n",
        "Score: 0.0000 for 23 and 16 (Less than four matches)"
       ]
      },
      {
       "output_type": "stream",
       "stream": "stdout",
       "text": [
        "\n",
        "Score: 0.0000 for 23 and 18 (Less than four matches)"
       ]
      },
      {
       "output_type": "stream",
       "stream": "stdout",
       "text": [
        "\n",
        "Score: 0.0178 for 23 and 25"
       ]
      },
      {
       "output_type": "stream",
       "stream": "stdout",
       "text": [
        "\n",
        "Score: 0.0105 for 23 and 32"
       ]
      },
      {
       "output_type": "stream",
       "stream": "stdout",
       "text": [
        "\n",
        "Score: 0.0315 for 23 and 19"
       ]
      },
      {
       "output_type": "stream",
       "stream": "stdout",
       "text": [
        "\n",
        "Score: 0.0079 for 23 and 21"
       ]
      },
      {
       "output_type": "stream",
       "stream": "stdout",
       "text": [
        "\n",
        "Score: 0.0173 for 23 and 14"
       ]
      },
      {
       "output_type": "stream",
       "stream": "stdout",
       "text": [
        "\n",
        "Score: 0.0000 for 23 and 26 (Less than four matches)"
       ]
      },
      {
       "output_type": "stream",
       "stream": "stdout",
       "text": [
        "\n",
        "Score: 0.0000 for 23 and 22 (Less than four matches)"
       ]
      },
      {
       "output_type": "stream",
       "stream": "stdout",
       "text": [
        "\n",
        "Score: 0.0095 for 23 and 29"
       ]
      },
      {
       "output_type": "stream",
       "stream": "stdout",
       "text": [
        "\n",
        "Score: 0.0201 for 23 and 13"
       ]
      },
      {
       "output_type": "stream",
       "stream": "stdout",
       "text": [
        "\n",
        "Score: 0.0407 for 23 and 28"
       ]
      },
      {
       "output_type": "stream",
       "stream": "stdout",
       "text": [
        "\n",
        "Score: 0.0000 for 23 and 13 (Less than four matches)"
       ]
      },
      {
       "output_type": "stream",
       "stream": "stdout",
       "text": [
        "\n",
        "Score: 0.0267 for 23 and 14"
       ]
      },
      {
       "output_type": "stream",
       "stream": "stdout",
       "text": [
        "\n",
        "Score: 0.0338 for 23 and 14"
       ]
      },
      {
       "output_type": "stream",
       "stream": "stdout",
       "text": [
        "\n",
        "Score: 0.0195 for 23 and 27"
       ]
      },
      {
       "output_type": "stream",
       "stream": "stdout",
       "text": [
        "\n",
        "Score: 0.0082 for 23 and 17"
       ]
      },
      {
       "output_type": "stream",
       "stream": "stdout",
       "text": [
        "\n",
        "Score: 0.0000 for 23 and 19 (Less than four matches)"
       ]
      },
      {
       "output_type": "stream",
       "stream": "stdout",
       "text": [
        "\n",
        "Score: 0.0327 for 23 and 31"
       ]
      },
      {
       "output_type": "stream",
       "stream": "stdout",
       "text": [
        "\n",
        "Score: 0.0393 for 23 and 21"
       ]
      },
      {
       "output_type": "stream",
       "stream": "stdout",
       "text": [
        "\n",
        "Score: 0.0330 for 23 and 23"
       ]
      },
      {
       "output_type": "stream",
       "stream": "stdout",
       "text": [
        "\n",
        "Score: 0.0480 for 23 and 25"
       ]
      },
      {
       "output_type": "stream",
       "stream": "stdout",
       "text": [
        "\n",
        "Score: 0.0000 for 23 and 23 (Less than four matches)"
       ]
      },
      {
       "output_type": "stream",
       "stream": "stdout",
       "text": [
        "\n",
        "Score: 0.0346 for 23 and 31"
       ]
      },
      {
       "output_type": "stream",
       "stream": "stdout",
       "text": [
        "\n",
        "Score: 0.0576 for 23 and 15"
       ]
      },
      {
       "output_type": "stream",
       "stream": "stdout",
       "text": [
        "\n",
        "Score: 0.0571 for 23 and 23"
       ]
      },
      {
       "output_type": "stream",
       "stream": "stdout",
       "text": [
        "\n",
        "Score: 0.0000 for 23 and 18 (Less than four matches)"
       ]
      },
      {
       "output_type": "stream",
       "stream": "stdout",
       "text": [
        "\n",
        "Score: 0.0239 for 23 and 15"
       ]
      },
      {
       "output_type": "stream",
       "stream": "stdout",
       "text": [
        "\n",
        "Score: 0.0050 for 23 and 16"
       ]
      },
      {
       "output_type": "stream",
       "stream": "stdout",
       "text": [
        "\n",
        "Score: 0.0632 for 23 and 23"
       ]
      },
      {
       "output_type": "stream",
       "stream": "stdout",
       "text": [
        "\n",
        "Score: 0.0647 for 23 and 23"
       ]
      },
      {
       "output_type": "stream",
       "stream": "stdout",
       "text": [
        "\n",
        "Score: 0.0000 for 23 and 32 (Less than four matches)"
       ]
      },
      {
       "output_type": "stream",
       "stream": "stdout",
       "text": [
        "\n",
        "Score: 0.0207 for 23 and 15"
       ]
      },
      {
       "output_type": "stream",
       "stream": "stdout",
       "text": [
        "\n",
        "Score: 0.0274 for 23 and 24"
       ]
      },
      {
       "output_type": "stream",
       "stream": "stdout",
       "text": [
        "\n",
        "Score: 0.0833 for 23 and 25"
       ]
      },
      {
       "output_type": "stream",
       "stream": "stdout",
       "text": [
        "\n",
        "Score: 0.0394 for 23 and 30"
       ]
      },
      {
       "output_type": "stream",
       "stream": "stdout",
       "text": [
        "\n",
        "Score: 0.0237 for 23 and 32"
       ]
      },
      {
       "output_type": "stream",
       "stream": "stdout",
       "text": [
        "\n",
        "['../../images/testsets/Gallagher_small_unresized/23_564.jpg', '../../images/testsets/Gallagher_small_unresized/29_538.jpg']\n",
        "No descriptors found. Returning score 0\n",
        "Score: 0.0109 for 23 and 21"
       ]
      },
      {
       "output_type": "stream",
       "stream": "stdout",
       "text": [
        "\n",
        "Score: 0.0196 for 23 and 20"
       ]
      },
      {
       "output_type": "stream",
       "stream": "stdout",
       "text": [
        "\n",
        "Score: 0.0681 for 23 and 15"
       ]
      },
      {
       "output_type": "stream",
       "stream": "stdout",
       "text": [
        "\n",
        "Score: 0.0273 for 23 and 15"
       ]
      },
      {
       "output_type": "stream",
       "stream": "stdout",
       "text": [
        "\n",
        "Score: 0.0155 for 23 and 19"
       ]
      },
      {
       "output_type": "stream",
       "stream": "stdout",
       "text": [
        "\n",
        "Score: 0.0495 for 23 and 19"
       ]
      },
      {
       "output_type": "stream",
       "stream": "stdout",
       "text": [
        "\n",
        "Score: 0.0197 for 23 and 21"
       ]
      },
      {
       "output_type": "stream",
       "stream": "stdout",
       "text": [
        "\n",
        "Score: 0.0220 for 23 and 26"
       ]
      },
      {
       "output_type": "stream",
       "stream": "stdout",
       "text": [
        "\n",
        "Score: 0.0255 for 23 and 27"
       ]
      },
      {
       "output_type": "stream",
       "stream": "stdout",
       "text": [
        "\n",
        "Score: 0.0106 for 23 and 15"
       ]
      },
      {
       "output_type": "stream",
       "stream": "stdout",
       "text": [
        "\n",
        "Score: 0.0434 for 23 and 15"
       ]
      },
      {
       "output_type": "stream",
       "stream": "stdout",
       "text": [
        "\n",
        "Score: 0.0000 for 23 and 21 (Less than four matches)"
       ]
      },
      {
       "output_type": "stream",
       "stream": "stdout",
       "text": [
        "\n",
        "Score: 0.0000 for 23 and 15 (Less than four matches)"
       ]
      },
      {
       "output_type": "stream",
       "stream": "stdout",
       "text": [
        "\n",
        "Score: 0.0000 for 23 and 16 (Less than four matches)"
       ]
      },
      {
       "output_type": "stream",
       "stream": "stdout",
       "text": [
        "\n",
        "Score: 0.0000 for 23 and 17 (Less than four matches)"
       ]
      },
      {
       "output_type": "stream",
       "stream": "stdout",
       "text": [
        "\n",
        "['../../images/testsets/Gallagher_small_unresized/23_564.jpg', '../../images/testsets/Gallagher_small_unresized/28_537.jpg']\n",
        "No descriptors found. Returning score 0\n",
        "Score: 0.0235 for 23 and 27"
       ]
      },
      {
       "output_type": "stream",
       "stream": "stdout",
       "text": [
        "\n",
        "Score: 0.0303 for 23 and 13"
       ]
      },
      {
       "output_type": "stream",
       "stream": "stdout",
       "text": [
        "\n",
        "Score: 0.0249 for 23 and 23"
       ]
      },
      {
       "output_type": "stream",
       "stream": "stdout",
       "text": [
        "\n",
        "Score: 0.0434 for 25 and 26"
       ]
      },
      {
       "output_type": "stream",
       "stream": "stdout",
       "text": [
        "\n",
        "Score: 0.0000 for 25 and 18 (Less than four matches)"
       ]
      },
      {
       "output_type": "stream",
       "stream": "stdout",
       "text": [
        "\n",
        "['../../images/testsets/Gallagher_small_unresized/25_757.jpg', '../../images/testsets/Gallagher_small_unresized/19_190.jpg']\n",
        "No descriptors found. Returning score 0\n",
        "Score: 0.0517 for 25 and 15"
       ]
      },
      {
       "output_type": "stream",
       "stream": "stdout",
       "text": [
        "\n",
        "Score: 0.0180 for 25 and 14"
       ]
      },
      {
       "output_type": "stream",
       "stream": "stdout",
       "text": [
        "\n",
        "Score: 0.0639 for 25 and 25"
       ]
      },
      {
       "output_type": "stream",
       "stream": "stdout",
       "text": [
        "\n",
        "Score: 0.0386 for 25 and 25"
       ]
      },
      {
       "output_type": "stream",
       "stream": "stdout",
       "text": [
        "\n",
        "Score: 0.0393 for 25 and 32"
       ]
      },
      {
       "output_type": "stream",
       "stream": "stdout",
       "text": [
        "\n",
        "Score: 0.0386 for 25 and 30"
       ]
      },
      {
       "output_type": "stream",
       "stream": "stdout",
       "text": [
        "\n",
        "Score: 0.0280 for 25 and 28"
       ]
      },
      {
       "output_type": "stream",
       "stream": "stdout",
       "text": [
        "\n",
        "Score: 0.0000 for 25 and 30 (Less than four matches)"
       ]
      },
      {
       "output_type": "stream",
       "stream": "stdout",
       "text": [
        "\n",
        "Score: 0.0149 for 25 and 26"
       ]
      },
      {
       "output_type": "stream",
       "stream": "stdout",
       "text": [
        "\n",
        "Score: 0.0473 for 25 and 15"
       ]
      },
      {
       "output_type": "stream",
       "stream": "stdout",
       "text": [
        "\n",
        "Score: 0.0417 for 25 and 21"
       ]
      },
      {
       "output_type": "stream",
       "stream": "stdout",
       "text": [
        "\n",
        "Score: 0.0188 for 25 and 24"
       ]
      },
      {
       "output_type": "stream",
       "stream": "stdout",
       "text": [
        "\n",
        "Score: 0.0000 for 25 and 17 (Less than four matches)"
       ]
      },
      {
       "output_type": "stream",
       "stream": "stdout",
       "text": [
        "\n",
        "Score: 0.0000 for 25 and 14 (Less than four matches)"
       ]
      },
      {
       "output_type": "stream",
       "stream": "stdout",
       "text": [
        "\n",
        "Score: 0.0406 for 25 and 28"
       ]
      },
      {
       "output_type": "stream",
       "stream": "stdout",
       "text": [
        "\n",
        "Score: 0.0000 for 25 and 27 (Less than four matches)"
       ]
      },
      {
       "output_type": "stream",
       "stream": "stdout",
       "text": [
        "\n",
        "Score: 0.0190 for 25 and 22"
       ]
      },
      {
       "output_type": "stream",
       "stream": "stdout",
       "text": [
        "\n",
        "Score: 0.0416 for 25 and 29"
       ]
      },
      {
       "output_type": "stream",
       "stream": "stdout",
       "text": [
        "\n",
        "Score: 0.0366 for 25 and 15"
       ]
      },
      {
       "output_type": "stream",
       "stream": "stdout",
       "text": [
        "\n",
        "Score: 0.0293 for 25 and 25"
       ]
      },
      {
       "output_type": "stream",
       "stream": "stdout",
       "text": [
        "\n",
        "Score: 0.0220 for 25 and 23"
       ]
      },
      {
       "output_type": "stream",
       "stream": "stdout",
       "text": [
        "\n",
        "Score: 0.0000 for 25 and 16 (Less than four matches)"
       ]
      },
      {
       "output_type": "stream",
       "stream": "stdout",
       "text": [
        "\n",
        "Score: 0.0000 for 25 and 18 (Less than four matches)"
       ]
      },
      {
       "output_type": "stream",
       "stream": "stdout",
       "text": [
        "\n",
        "Score: 0.0097 for 25 and 25"
       ]
      },
      {
       "output_type": "stream",
       "stream": "stdout",
       "text": [
        "\n",
        "Score: 0.0535 for 25 and 32"
       ]
      },
      {
       "output_type": "stream",
       "stream": "stdout",
       "text": [
        "\n",
        "Score: 0.0457 for 25 and 19"
       ]
      },
      {
       "output_type": "stream",
       "stream": "stdout",
       "text": [
        "\n",
        "Score: 0.0000 for 25 and 21 (Less than four matches)"
       ]
      },
      {
       "output_type": "stream",
       "stream": "stdout",
       "text": [
        "\n",
        "Score: 0.0322 for 25 and 14"
       ]
      },
      {
       "output_type": "stream",
       "stream": "stdout",
       "text": [
        "\n",
        "Score: 0.0000 for 25 and 26 (Less than four matches)"
       ]
      },
      {
       "output_type": "stream",
       "stream": "stdout",
       "text": [
        "\n",
        "Score: 0.0000 for 25 and 22 (Less than four matches)"
       ]
      },
      {
       "output_type": "stream",
       "stream": "stdout",
       "text": [
        "\n",
        "Score: 0.0509 for 25 and 29"
       ]
      },
      {
       "output_type": "stream",
       "stream": "stdout",
       "text": [
        "\n",
        "Score: 0.0066 for 25 and 13"
       ]
      },
      {
       "output_type": "stream",
       "stream": "stdout",
       "text": [
        "\n",
        "Score: 0.0308 for 25 and 28"
       ]
      },
      {
       "output_type": "stream",
       "stream": "stdout",
       "text": [
        "\n",
        "Score: 0.0369 for 25 and 13"
       ]
      },
      {
       "output_type": "stream",
       "stream": "stdout",
       "text": [
        "\n",
        "Score: 0.0314 for 25 and 14"
       ]
      },
      {
       "output_type": "stream",
       "stream": "stdout",
       "text": [
        "\n",
        "Score: 0.0000 for 25 and 14 (Less than four matches)"
       ]
      },
      {
       "output_type": "stream",
       "stream": "stdout",
       "text": [
        "\n",
        "Score: 0.0201 for 25 and 27"
       ]
      },
      {
       "output_type": "stream",
       "stream": "stdout",
       "text": [
        "\n",
        "Score: 0.0000 for 25 and 17 (Less than four matches)"
       ]
      },
      {
       "output_type": "stream",
       "stream": "stdout",
       "text": [
        "\n",
        "Score: 0.0401 for 25 and 19"
       ]
      },
      {
       "output_type": "stream",
       "stream": "stdout",
       "text": [
        "\n",
        "Score: 0.0463 for 25 and 31"
       ]
      },
      {
       "output_type": "stream",
       "stream": "stdout",
       "text": [
        "\n",
        "Score: 0.0335 for 25 and 21"
       ]
      },
      {
       "output_type": "stream",
       "stream": "stdout",
       "text": [
        "\n",
        "Score: 0.0432 for 25 and 23"
       ]
      },
      {
       "output_type": "stream",
       "stream": "stdout",
       "text": [
        "\n",
        "Score: 0.0605 for 25 and 25"
       ]
      },
      {
       "output_type": "stream",
       "stream": "stdout",
       "text": [
        "\n",
        "Score: 0.0000 for 25 and 23 (Less than four matches)"
       ]
      },
      {
       "output_type": "stream",
       "stream": "stdout",
       "text": [
        "\n",
        "Score: 0.0243 for 25 and 31"
       ]
      },
      {
       "output_type": "stream",
       "stream": "stdout",
       "text": [
        "\n",
        "Score: 0.0196 for 25 and 15"
       ]
      },
      {
       "output_type": "stream",
       "stream": "stdout",
       "text": [
        "\n",
        "Score: 0.0368 for 25 and 23"
       ]
      },
      {
       "output_type": "stream",
       "stream": "stdout",
       "text": [
        "\n",
        "Score: 0.0334 for 25 and 18"
       ]
      },
      {
       "output_type": "stream",
       "stream": "stdout",
       "text": [
        "\n",
        "Score: 0.0293 for 25 and 15"
       ]
      },
      {
       "output_type": "stream",
       "stream": "stdout",
       "text": [
        "\n",
        "Score: 0.0222 for 25 and 16"
       ]
      },
      {
       "output_type": "stream",
       "stream": "stdout",
       "text": [
        "\n",
        "Score: 0.0482 for 25 and 23"
       ]
      },
      {
       "output_type": "stream",
       "stream": "stdout",
       "text": [
        "\n",
        "Score: 0.0270 for 25 and 23"
       ]
      },
      {
       "output_type": "stream",
       "stream": "stdout",
       "text": [
        "\n",
        "Score: 0.0284 for 25 and 32"
       ]
      },
      {
       "output_type": "stream",
       "stream": "stdout",
       "text": [
        "\n",
        "Score: 0.0427 for 25 and 15"
       ]
      },
      {
       "output_type": "stream",
       "stream": "stdout",
       "text": [
        "\n",
        "Score: 0.0000 for 25 and 24 (Less than four matches)"
       ]
      },
      {
       "output_type": "stream",
       "stream": "stdout",
       "text": [
        "\n",
        "Score: 0.0657 for 25 and 25"
       ]
      },
      {
       "output_type": "stream",
       "stream": "stdout",
       "text": [
        "\n",
        "Score: 0.0263 for 25 and 30"
       ]
      },
      {
       "output_type": "stream",
       "stream": "stdout",
       "text": [
        "\n",
        "Score: 0.0164 for 25 and 32"
       ]
      },
      {
       "output_type": "stream",
       "stream": "stdout",
       "text": [
        "\n",
        "['../../images/testsets/Gallagher_small_unresized/25_757.jpg', '../../images/testsets/Gallagher_small_unresized/29_538.jpg']\n",
        "No descriptors found. Returning score 0\n",
        "Score: 0.0199 for 25 and 21"
       ]
      },
      {
       "output_type": "stream",
       "stream": "stdout",
       "text": [
        "\n",
        "Score: 0.0528 for 25 and 20"
       ]
      },
      {
       "output_type": "stream",
       "stream": "stdout",
       "text": [
        "\n",
        "Score: 0.0391 for 25 and 15"
       ]
      },
      {
       "output_type": "stream",
       "stream": "stdout",
       "text": [
        "\n",
        "Score: 0.0433 for 25 and 15"
       ]
      },
      {
       "output_type": "stream",
       "stream": "stdout",
       "text": [
        "\n",
        "Score: 0.0594 for 25 and 19"
       ]
      },
      {
       "output_type": "stream",
       "stream": "stdout",
       "text": [
        "\n",
        "Score: 0.0376 for 25 and 19"
       ]
      },
      {
       "output_type": "stream",
       "stream": "stdout",
       "text": [
        "\n",
        "Score: 0.0453 for 25 and 21"
       ]
      },
      {
       "output_type": "stream",
       "stream": "stdout",
       "text": [
        "\n",
        "Score: 0.0165 for 25 and 26"
       ]
      },
      {
       "output_type": "stream",
       "stream": "stdout",
       "text": [
        "\n",
        "Score: 0.0659 for 25 and 27"
       ]
      },
      {
       "output_type": "stream",
       "stream": "stdout",
       "text": [
        "\n",
        "Score: 0.0211 for 25 and 15"
       ]
      },
      {
       "output_type": "stream",
       "stream": "stdout",
       "text": [
        "\n",
        "Score: 0.0164 for 25 and 15"
       ]
      },
      {
       "output_type": "stream",
       "stream": "stdout",
       "text": [
        "\n",
        "Score: 0.0000 for 25 and 21 (Less than four matches)"
       ]
      },
      {
       "output_type": "stream",
       "stream": "stdout",
       "text": [
        "\n",
        "Score: 0.0000 for 25 and 15 (Less than four matches)"
       ]
      },
      {
       "output_type": "stream",
       "stream": "stdout",
       "text": [
        "\n",
        "Score: 0.0377 for 25 and 16"
       ]
      },
      {
       "output_type": "stream",
       "stream": "stdout",
       "text": [
        "\n",
        "Score: 0.0000 for 25 and 17 (Less than four matches)"
       ]
      },
      {
       "output_type": "stream",
       "stream": "stdout",
       "text": [
        "\n",
        "['../../images/testsets/Gallagher_small_unresized/25_757.jpg', '../../images/testsets/Gallagher_small_unresized/28_537.jpg']\n",
        "No descriptors found. Returning score 0\n",
        "Score: 0.0254 for 25 and 27"
       ]
      },
      {
       "output_type": "stream",
       "stream": "stdout",
       "text": [
        "\n",
        "Score: 0.0537 for 25 and 13"
       ]
      },
      {
       "output_type": "stream",
       "stream": "stdout",
       "text": [
        "\n",
        "Score: 0.0345 for 25 and 23"
       ]
      },
      {
       "output_type": "stream",
       "stream": "stdout",
       "text": [
        "\n",
        "Score: 0.0057 for 26 and 18"
       ]
      },
      {
       "output_type": "stream",
       "stream": "stdout",
       "text": [
        "\n",
        "['../../images/testsets/Gallagher_small_unresized/26_878.jpg', '../../images/testsets/Gallagher_small_unresized/19_190.jpg']\n",
        "No descriptors found. Returning score 0\n",
        "Score: 0.0000 for 26 and 15 (Less than four matches)"
       ]
      },
      {
       "output_type": "stream",
       "stream": "stdout",
       "text": [
        "\n",
        "Score: 0.0000 for 26 and 14 (Less than four matches)"
       ]
      },
      {
       "output_type": "stream",
       "stream": "stdout",
       "text": [
        "\n",
        "Score: 0.0361 for 26 and 25"
       ]
      },
      {
       "output_type": "stream",
       "stream": "stdout",
       "text": [
        "\n",
        "Score: 0.0169 for 26 and 25"
       ]
      },
      {
       "output_type": "stream",
       "stream": "stdout",
       "text": [
        "\n",
        "Score: 0.0190 for 26 and 32"
       ]
      },
      {
       "output_type": "stream",
       "stream": "stdout",
       "text": [
        "\n",
        "Score: 0.0156 for 26 and 30"
       ]
      },
      {
       "output_type": "stream",
       "stream": "stdout",
       "text": [
        "\n",
        "Score: 0.0098 for 26 and 28"
       ]
      },
      {
       "output_type": "stream",
       "stream": "stdout",
       "text": [
        "\n",
        "Score: 0.0000 for 26 and 30 (Less than four matches)"
       ]
      },
      {
       "output_type": "stream",
       "stream": "stdout",
       "text": [
        "\n",
        "Score: 0.0289 for 26 and 26"
       ]
      },
      {
       "output_type": "stream",
       "stream": "stdout",
       "text": [
        "\n",
        "Score: 0.0439 for 26 and 15"
       ]
      },
      {
       "output_type": "stream",
       "stream": "stdout",
       "text": [
        "\n",
        "Score: 0.0435 for 26 and 21"
       ]
      },
      {
       "output_type": "stream",
       "stream": "stdout",
       "text": [
        "\n",
        "Score: 0.0256 for 26 and 24"
       ]
      },
      {
       "output_type": "stream",
       "stream": "stdout",
       "text": [
        "\n",
        "Score: 0.0292 for 26 and 17"
       ]
      },
      {
       "output_type": "stream",
       "stream": "stdout",
       "text": [
        "\n",
        "Score: 0.0000 for 26 and 14 (Less than four matches)"
       ]
      },
      {
       "output_type": "stream",
       "stream": "stdout",
       "text": [
        "\n",
        "Score: 0.0180 for 26 and 28"
       ]
      },
      {
       "output_type": "stream",
       "stream": "stdout",
       "text": [
        "\n",
        "Score: 0.0419 for 26 and 27"
       ]
      },
      {
       "output_type": "stream",
       "stream": "stdout",
       "text": [
        "\n",
        "Score: 0.0328 for 26 and 22"
       ]
      },
      {
       "output_type": "stream",
       "stream": "stdout",
       "text": [
        "\n",
        "Score: 0.0124 for 26 and 29"
       ]
      },
      {
       "output_type": "stream",
       "stream": "stdout",
       "text": [
        "\n",
        "Score: 0.0305 for 26 and 15"
       ]
      },
      {
       "output_type": "stream",
       "stream": "stdout",
       "text": [
        "\n",
        "Score: 0.0309 for 26 and 25"
       ]
      },
      {
       "output_type": "stream",
       "stream": "stdout",
       "text": [
        "\n",
        "Score: 0.0000 for 26 and 23 (Less than four matches)"
       ]
      },
      {
       "output_type": "stream",
       "stream": "stdout",
       "text": [
        "\n",
        "Score: 0.0000 for 26 and 16 (Less than four matches)"
       ]
      },
      {
       "output_type": "stream",
       "stream": "stdout",
       "text": [
        "\n",
        "Score: 0.0323 for 26 and 18"
       ]
      },
      {
       "output_type": "stream",
       "stream": "stdout",
       "text": [
        "\n",
        "Score: 0.0241 for 26 and 25"
       ]
      },
      {
       "output_type": "stream",
       "stream": "stdout",
       "text": [
        "\n",
        "Score: 0.0191 for 26 and 32"
       ]
      },
      {
       "output_type": "stream",
       "stream": "stdout",
       "text": [
        "\n",
        "Score: 0.0409 for 26 and 19"
       ]
      },
      {
       "output_type": "stream",
       "stream": "stdout",
       "text": [
        "\n",
        "Score: 0.0302 for 26 and 21"
       ]
      },
      {
       "output_type": "stream",
       "stream": "stdout",
       "text": [
        "\n",
        "Score: 0.0011 for 26 and 14"
       ]
      },
      {
       "output_type": "stream",
       "stream": "stdout",
       "text": [
        "\n",
        "Score: 0.0000 for 26 and 26 (Less than four matches)"
       ]
      },
      {
       "output_type": "stream",
       "stream": "stdout",
       "text": [
        "\n",
        "Score: 0.0145 for 26 and 22"
       ]
      },
      {
       "output_type": "stream",
       "stream": "stdout",
       "text": [
        "\n",
        "Score: 0.0089 for 26 and 29"
       ]
      },
      {
       "output_type": "stream",
       "stream": "stdout",
       "text": [
        "\n",
        "Score: 0.0324 for 26 and 13"
       ]
      },
      {
       "output_type": "stream",
       "stream": "stdout",
       "text": [
        "\n",
        "Score: 0.0135 for 26 and 28"
       ]
      },
      {
       "output_type": "stream",
       "stream": "stdout",
       "text": [
        "\n",
        "Score: 0.0223 for 26 and 13"
       ]
      },
      {
       "output_type": "stream",
       "stream": "stdout",
       "text": [
        "\n",
        "Score: 0.0500 for 26 and 14"
       ]
      },
      {
       "output_type": "stream",
       "stream": "stdout",
       "text": [
        "\n",
        "Score: 0.0411 for 26 and 14"
       ]
      },
      {
       "output_type": "stream",
       "stream": "stdout",
       "text": [
        "\n",
        "Score: 0.0192 for 26 and 27"
       ]
      },
      {
       "output_type": "stream",
       "stream": "stdout",
       "text": [
        "\n",
        "Score: 0.0208 for 26 and 17"
       ]
      },
      {
       "output_type": "stream",
       "stream": "stdout",
       "text": [
        "\n",
        "Score: 0.0200 for 26 and 19"
       ]
      },
      {
       "output_type": "stream",
       "stream": "stdout",
       "text": [
        "\n",
        "Score: 0.0000 for 26 and 31 (Less than four matches)"
       ]
      },
      {
       "output_type": "stream",
       "stream": "stdout",
       "text": [
        "\n",
        "Score: 0.0316 for 26 and 21"
       ]
      },
      {
       "output_type": "stream",
       "stream": "stdout",
       "text": [
        "\n",
        "Score: 0.0085 for 26 and 23"
       ]
      },
      {
       "output_type": "stream",
       "stream": "stdout",
       "text": [
        "\n",
        "Score: 0.0350 for 26 and 25"
       ]
      },
      {
       "output_type": "stream",
       "stream": "stdout",
       "text": [
        "\n",
        "Score: 0.0000 for 26 and 23 (Less than four matches)"
       ]
      },
      {
       "output_type": "stream",
       "stream": "stdout",
       "text": [
        "\n",
        "Score: 0.0275 for 26 and 31"
       ]
      },
      {
       "output_type": "stream",
       "stream": "stdout",
       "text": [
        "\n",
        "Score: 0.0000 for 26 and 15 (Less than four matches)"
       ]
      },
      {
       "output_type": "stream",
       "stream": "stdout",
       "text": [
        "\n",
        "Score: 0.0383 for 26 and 23"
       ]
      },
      {
       "output_type": "stream",
       "stream": "stdout",
       "text": [
        "\n",
        "Score: 0.0367 for 26 and 18"
       ]
      },
      {
       "output_type": "stream",
       "stream": "stdout",
       "text": [
        "\n",
        "Score: 0.0324 for 26 and 15"
       ]
      },
      {
       "output_type": "stream",
       "stream": "stdout",
       "text": [
        "\n",
        "Score: 0.0075 for 26 and 16"
       ]
      },
      {
       "output_type": "stream",
       "stream": "stdout",
       "text": [
        "\n",
        "Score: 0.0169 for 26 and 23"
       ]
      },
      {
       "output_type": "stream",
       "stream": "stdout",
       "text": [
        "\n",
        "Score: 0.0167 for 26 and 23"
       ]
      },
      {
       "output_type": "stream",
       "stream": "stdout",
       "text": [
        "\n",
        "Score: 0.0127 for 26 and 32"
       ]
      },
      {
       "output_type": "stream",
       "stream": "stdout",
       "text": [
        "\n",
        "Score: 0.0636 for 26 and 15"
       ]
      },
      {
       "output_type": "stream",
       "stream": "stdout",
       "text": [
        "\n",
        "Score: 0.0000 for 26 and 24 (Less than four matches)"
       ]
      },
      {
       "output_type": "stream",
       "stream": "stdout",
       "text": [
        "\n",
        "Score: 0.0360 for 26 and 25"
       ]
      },
      {
       "output_type": "stream",
       "stream": "stdout",
       "text": [
        "\n",
        "Score: 0.0137 for 26 and 30"
       ]
      },
      {
       "output_type": "stream",
       "stream": "stdout",
       "text": [
        "\n",
        "Score: 0.0260 for 26 and 32"
       ]
      },
      {
       "output_type": "stream",
       "stream": "stdout",
       "text": [
        "\n",
        "['../../images/testsets/Gallagher_small_unresized/26_878.jpg', '../../images/testsets/Gallagher_small_unresized/29_538.jpg']\n",
        "No descriptors found. Returning score 0\n",
        "Score: 0.0266 for 26 and 21"
       ]
      },
      {
       "output_type": "stream",
       "stream": "stdout",
       "text": [
        "\n",
        "Score: 0.0285 for 26 and 20"
       ]
      },
      {
       "output_type": "stream",
       "stream": "stdout",
       "text": [
        "\n",
        "Score: 0.0303 for 26 and 15"
       ]
      },
      {
       "output_type": "stream",
       "stream": "stdout",
       "text": [
        "\n",
        "Score: 0.0299 for 26 and 15"
       ]
      },
      {
       "output_type": "stream",
       "stream": "stdout",
       "text": [
        "\n",
        "Score: 0.0174 for 26 and 19"
       ]
      },
      {
       "output_type": "stream",
       "stream": "stdout",
       "text": [
        "\n",
        "Score: 0.0123 for 26 and 19"
       ]
      },
      {
       "output_type": "stream",
       "stream": "stdout",
       "text": [
        "\n",
        "Score: 0.0114 for 26 and 21"
       ]
      },
      {
       "output_type": "stream",
       "stream": "stdout",
       "text": [
        "\n",
        "Score: 0.0164 for 26 and 26"
       ]
      },
      {
       "output_type": "stream",
       "stream": "stdout",
       "text": [
        "\n",
        "Score: 0.0413 for 26 and 27"
       ]
      },
      {
       "output_type": "stream",
       "stream": "stdout",
       "text": [
        "\n",
        "Score: 0.0416 for 26 and 15"
       ]
      },
      {
       "output_type": "stream",
       "stream": "stdout",
       "text": [
        "\n",
        "Score: 0.0213 for 26 and 15"
       ]
      },
      {
       "output_type": "stream",
       "stream": "stdout",
       "text": [
        "\n",
        "Score: 0.0163 for 26 and 21"
       ]
      },
      {
       "output_type": "stream",
       "stream": "stdout",
       "text": [
        "\n",
        "Score: 0.0000 for 26 and 15 (Less than four matches)"
       ]
      },
      {
       "output_type": "stream",
       "stream": "stdout",
       "text": [
        "\n",
        "Score: 0.0266 for 26 and 16"
       ]
      },
      {
       "output_type": "stream",
       "stream": "stdout",
       "text": [
        "\n",
        "Score: 0.0000 for 26 and 17 (Less than four matches)"
       ]
      },
      {
       "output_type": "stream",
       "stream": "stdout",
       "text": [
        "\n",
        "['../../images/testsets/Gallagher_small_unresized/26_878.jpg', '../../images/testsets/Gallagher_small_unresized/28_537.jpg']\n",
        "No descriptors found. Returning score 0\n",
        "Score: 0.0381 for 26 and 27"
       ]
      },
      {
       "output_type": "stream",
       "stream": "stdout",
       "text": [
        "\n",
        "Score: 0.0107 for 26 and 13"
       ]
      },
      {
       "output_type": "stream",
       "stream": "stdout",
       "text": [
        "\n",
        "Score: 0.0214 for 26 and 23"
       ]
      },
      {
       "output_type": "stream",
       "stream": "stdout",
       "text": [
        "\n",
        "['../../images/testsets/Gallagher_small_unresized/18_216.jpg', '../../images/testsets/Gallagher_small_unresized/19_190.jpg']\n",
        "No descriptors found. Returning score 0\n",
        "Score: 0.0000 for 18 and 15 (Less than four matches)"
       ]
      },
      {
       "output_type": "stream",
       "stream": "stdout",
       "text": [
        "\n",
        "Score: 0.0000 for 18 and 14 (Less than four matches)"
       ]
      },
      {
       "output_type": "stream",
       "stream": "stdout",
       "text": [
        "\n",
        "Score: 0.0000 for 18 and 25 (Less than four matches)"
       ]
      },
      {
       "output_type": "stream",
       "stream": "stdout",
       "text": [
        "\n",
        "Score: 0.0000 for 18 and 25 (Less than four matches)"
       ]
      },
      {
       "output_type": "stream",
       "stream": "stdout",
       "text": [
        "\n",
        "Score: 0.0000 for 18 and 32 (Less than four matches)"
       ]
      },
      {
       "output_type": "stream",
       "stream": "stdout",
       "text": [
        "\n",
        "Score: 0.0000 for 18 and 30 (Less than four matches)"
       ]
      },
      {
       "output_type": "stream",
       "stream": "stdout",
       "text": [
        "\n",
        "Score: 0.0000 for 18 and 28 (Less than four matches)"
       ]
      },
      {
       "output_type": "stream",
       "stream": "stdout",
       "text": [
        "\n",
        "Score: 0.0000 for 18 and 30 (Less than four matches)"
       ]
      },
      {
       "output_type": "stream",
       "stream": "stdout",
       "text": [
        "\n",
        "Score: 0.0000 for 18 and 26 (Less than four matches)"
       ]
      },
      {
       "output_type": "stream",
       "stream": "stdout",
       "text": [
        "\n",
        "Score: 0.0000 for 18 and 15 (Less than four matches)"
       ]
      },
      {
       "output_type": "stream",
       "stream": "stdout",
       "text": [
        "\n",
        "Score: 0.0000 for 18 and 21 (Less than four matches)"
       ]
      },
      {
       "output_type": "stream",
       "stream": "stdout",
       "text": [
        "\n",
        "Score: 0.0000 for 18 and 24 (Less than four matches)"
       ]
      },
      {
       "output_type": "stream",
       "stream": "stdout",
       "text": [
        "\n",
        "Score: 0.0000 for 18 and 17 (Less than four matches)"
       ]
      },
      {
       "output_type": "stream",
       "stream": "stdout",
       "text": [
        "\n",
        "Score: 0.0000 for 18 and 14 (Less than four matches)"
       ]
      },
      {
       "output_type": "stream",
       "stream": "stdout",
       "text": [
        "\n",
        "Score: 0.0000 for 18 and 28 (Less than four matches)"
       ]
      },
      {
       "output_type": "stream",
       "stream": "stdout",
       "text": [
        "\n",
        "Score: 0.0000 for 18 and 27 (Less than four matches)"
       ]
      },
      {
       "output_type": "stream",
       "stream": "stdout",
       "text": [
        "\n",
        "Score: 0.0000 for 18 and 22 (Less than four matches)"
       ]
      },
      {
       "output_type": "stream",
       "stream": "stdout",
       "text": [
        "\n",
        "Score: 0.0000 for 18 and 29 (Less than four matches)"
       ]
      },
      {
       "output_type": "stream",
       "stream": "stdout",
       "text": [
        "\n",
        "Score: 0.0000 for 18 and 15 (Less than four matches)"
       ]
      },
      {
       "output_type": "stream",
       "stream": "stdout",
       "text": [
        "\n",
        "Score: 0.0000 for 18 and 25 (Less than four matches)"
       ]
      },
      {
       "output_type": "stream",
       "stream": "stdout",
       "text": [
        "\n",
        "Score: 0.0000 for 18 and 23 (Less than four matches)"
       ]
      },
      {
       "output_type": "stream",
       "stream": "stdout",
       "text": [
        "\n",
        "Score: 0.0000 for 18 and 16 (Less than four matches)"
       ]
      },
      {
       "output_type": "stream",
       "stream": "stdout",
       "text": [
        "\n",
        "Score: 0.0000 for 18 and 18 (Less than four matches)"
       ]
      },
      {
       "output_type": "stream",
       "stream": "stdout",
       "text": [
        "\n",
        "Score: 0.0000 for 18 and 25 (Less than four matches)"
       ]
      },
      {
       "output_type": "stream",
       "stream": "stdout",
       "text": [
        "\n",
        "Score: 0.0000 for 18 and 32 (Less than four matches)"
       ]
      },
      {
       "output_type": "stream",
       "stream": "stdout",
       "text": [
        "\n",
        "Score: 0.0000 for 18 and 19 (Less than four matches)"
       ]
      },
      {
       "output_type": "stream",
       "stream": "stdout",
       "text": [
        "\n",
        "Score: 0.0000 for 18 and 21 (Less than four matches)"
       ]
      },
      {
       "output_type": "stream",
       "stream": "stdout",
       "text": [
        "\n",
        "Score: 0.0000 for 18 and 14 (Less than four matches)"
       ]
      },
      {
       "output_type": "stream",
       "stream": "stdout",
       "text": [
        "\n",
        "Score: 0.0000 for 18 and 26 (Less than four matches)"
       ]
      },
      {
       "output_type": "stream",
       "stream": "stdout",
       "text": [
        "\n",
        "Score: 0.0000 for 18 and 22 (Less than four matches)"
       ]
      },
      {
       "output_type": "stream",
       "stream": "stdout",
       "text": [
        "\n",
        "Score: 0.0000 for 18 and 29 (Less than four matches)"
       ]
      },
      {
       "output_type": "stream",
       "stream": "stdout",
       "text": [
        "\n",
        "Score: 0.0000 for 18 and 13 (Less than four matches)"
       ]
      },
      {
       "output_type": "stream",
       "stream": "stdout",
       "text": [
        "\n",
        "Score: 0.0000 for 18 and 28 (Less than four matches)"
       ]
      },
      {
       "output_type": "stream",
       "stream": "stdout",
       "text": [
        "\n",
        "Score: 0.0000 for 18 and 13 (Less than four matches)"
       ]
      },
      {
       "output_type": "stream",
       "stream": "stdout",
       "text": [
        "\n",
        "Score: 0.0000 for 18 and 14 (Less than four matches)"
       ]
      },
      {
       "output_type": "stream",
       "stream": "stdout",
       "text": [
        "\n",
        "Score: 0.0000 for 18 and 14 (Less than four matches)"
       ]
      },
      {
       "output_type": "stream",
       "stream": "stdout",
       "text": [
        "\n",
        "Score: 0.0000 for 18 and 27 (Less than four matches)"
       ]
      },
      {
       "output_type": "stream",
       "stream": "stdout",
       "text": [
        "\n",
        "Score: 0.0000 for 18 and 17 (Less than four matches)"
       ]
      },
      {
       "output_type": "stream",
       "stream": "stdout",
       "text": [
        "\n",
        "Score: 0.0000 for 18 and 19 (Less than four matches)"
       ]
      },
      {
       "output_type": "stream",
       "stream": "stdout",
       "text": [
        "\n",
        "Score: 0.0000 for 18 and 31 (Less than four matches)"
       ]
      },
      {
       "output_type": "stream",
       "stream": "stdout",
       "text": [
        "\n",
        "Score: 0.0000 for 18 and 21 (Less than four matches)"
       ]
      },
      {
       "output_type": "stream",
       "stream": "stdout",
       "text": [
        "\n",
        "Score: 0.0000 for 18 and 23 (Less than four matches)"
       ]
      },
      {
       "output_type": "stream",
       "stream": "stdout",
       "text": [
        "\n",
        "Score: 0.0000 for 18 and 25 (Less than four matches)"
       ]
      },
      {
       "output_type": "stream",
       "stream": "stdout",
       "text": [
        "\n",
        "Score: 0.0000 for 18 and 23 (Less than four matches)"
       ]
      },
      {
       "output_type": "stream",
       "stream": "stdout",
       "text": [
        "\n",
        "Score: 0.0000 for 18 and 31 (Less than four matches)"
       ]
      },
      {
       "output_type": "stream",
       "stream": "stdout",
       "text": [
        "\n",
        "Score: 0.0000 for 18 and 15 (Less than four matches)"
       ]
      },
      {
       "output_type": "stream",
       "stream": "stdout",
       "text": [
        "\n",
        "Score: 0.0000 for 18 and 23 (Less than four matches)"
       ]
      },
      {
       "output_type": "stream",
       "stream": "stdout",
       "text": [
        "\n",
        "Score: 0.0000 for 18 and 18 (Less than four matches)"
       ]
      },
      {
       "output_type": "stream",
       "stream": "stdout",
       "text": [
        "\n",
        "Score: 0.0000 for 18 and 15 (Less than four matches)"
       ]
      },
      {
       "output_type": "stream",
       "stream": "stdout",
       "text": [
        "\n",
        "Score: 0.0000 for 18 and 16 (Less than four matches)"
       ]
      },
      {
       "output_type": "stream",
       "stream": "stdout",
       "text": [
        "\n",
        "Score: 0.0000 for 18 and 23 (Less than four matches)"
       ]
      },
      {
       "output_type": "stream",
       "stream": "stdout",
       "text": [
        "\n",
        "Score: 0.0000 for 18 and 23 (Less than four matches)"
       ]
      },
      {
       "output_type": "stream",
       "stream": "stdout",
       "text": [
        "\n",
        "Score: 0.0000 for 18 and 32 (Less than four matches)"
       ]
      },
      {
       "output_type": "stream",
       "stream": "stdout",
       "text": [
        "\n",
        "Score: 0.0000 for 18 and 15 (Less than four matches)"
       ]
      },
      {
       "output_type": "stream",
       "stream": "stdout",
       "text": [
        "\n",
        "Score: 0.0000 for 18 and 24 (Less than four matches)"
       ]
      },
      {
       "output_type": "stream",
       "stream": "stdout",
       "text": [
        "\n",
        "Score: 0.0000 for 18 and 25 (Less than four matches)"
       ]
      },
      {
       "output_type": "stream",
       "stream": "stdout",
       "text": [
        "\n",
        "Score: 0.0000 for 18 and 30 (Less than four matches)"
       ]
      },
      {
       "output_type": "stream",
       "stream": "stdout",
       "text": [
        "\n",
        "Score: 0.0000 for 18 and 32 (Less than four matches)"
       ]
      },
      {
       "output_type": "stream",
       "stream": "stdout",
       "text": [
        "\n",
        "['../../images/testsets/Gallagher_small_unresized/18_216.jpg', '../../images/testsets/Gallagher_small_unresized/29_538.jpg']\n",
        "No descriptors found. Returning score 0\n",
        "Score: 0.0000 for 18 and 21 (Less than four matches)"
       ]
      },
      {
       "output_type": "stream",
       "stream": "stdout",
       "text": [
        "\n",
        "Score: 0.0000 for 18 and 20 (Less than four matches)"
       ]
      },
      {
       "output_type": "stream",
       "stream": "stdout",
       "text": [
        "\n",
        "Score: 0.0000 for 18 and 15 (Less than four matches)"
       ]
      },
      {
       "output_type": "stream",
       "stream": "stdout",
       "text": [
        "\n",
        "Score: 0.0000 for 18 and 15 (Less than four matches)"
       ]
      },
      {
       "output_type": "stream",
       "stream": "stdout",
       "text": [
        "\n",
        "Score: 0.0000 for 18 and 19 (Less than four matches)"
       ]
      },
      {
       "output_type": "stream",
       "stream": "stdout",
       "text": [
        "\n",
        "Score: 0.0000 for 18 and 19 (Less than four matches)"
       ]
      },
      {
       "output_type": "stream",
       "stream": "stdout",
       "text": [
        "\n",
        "Score: 0.0000 for 18 and 21 (Less than four matches)"
       ]
      },
      {
       "output_type": "stream",
       "stream": "stdout",
       "text": [
        "\n",
        "Score: 0.0000 for 18 and 26 (Less than four matches)"
       ]
      },
      {
       "output_type": "stream",
       "stream": "stdout",
       "text": [
        "\n",
        "Score: 0.0000 for 18 and 27 (Less than four matches)"
       ]
      },
      {
       "output_type": "stream",
       "stream": "stdout",
       "text": [
        "\n",
        "Score: 0.0000 for 18 and 15 (Less than four matches)"
       ]
      },
      {
       "output_type": "stream",
       "stream": "stdout",
       "text": [
        "\n",
        "Score: 0.0000 for 18 and 15 (Less than four matches)"
       ]
      },
      {
       "output_type": "stream",
       "stream": "stdout",
       "text": [
        "\n",
        "Score: 0.0000 for 18 and 21 (Less than four matches)"
       ]
      },
      {
       "output_type": "stream",
       "stream": "stdout",
       "text": [
        "\n",
        "Score: 0.0000 for 18 and 15 (Less than four matches)"
       ]
      },
      {
       "output_type": "stream",
       "stream": "stdout",
       "text": [
        "\n",
        "Score: 0.0000 for 18 and 16 (Less than four matches)"
       ]
      },
      {
       "output_type": "stream",
       "stream": "stdout",
       "text": [
        "\n",
        "Score: 0.0000 for 18 and 17 (Less than four matches)"
       ]
      },
      {
       "output_type": "stream",
       "stream": "stdout",
       "text": [
        "\n",
        "['../../images/testsets/Gallagher_small_unresized/18_216.jpg', '../../images/testsets/Gallagher_small_unresized/28_537.jpg']\n",
        "No descriptors found. Returning score 0\n",
        "Score: 0.0000 for 18 and 27 (Less than four matches)"
       ]
      },
      {
       "output_type": "stream",
       "stream": "stdout",
       "text": [
        "\n",
        "Score: 0.0000 for 18 and 13 (Less than four matches)"
       ]
      },
      {
       "output_type": "stream",
       "stream": "stdout",
       "text": [
        "\n",
        "Score: 0.0000 for 18 and 23 (Less than four matches)"
       ]
      },
      {
       "output_type": "stream",
       "stream": "stdout",
       "text": [
        "\n",
        "['../../images/testsets/Gallagher_small_unresized/19_190.jpg', '../../images/testsets/Gallagher_small_unresized/15_160.jpg']\n",
        "No descriptors found. Returning score 0\n",
        "['../../images/testsets/Gallagher_small_unresized/19_190.jpg', '../../images/testsets/Gallagher_small_unresized/14_180.jpg']\n",
        "No descriptors found. Returning score 0\n",
        "['../../images/testsets/Gallagher_small_unresized/19_190.jpg', '../../images/testsets/Gallagher_small_unresized/25_694.jpg']\n",
        "No descriptors found. Returning score 0\n",
        "['../../images/testsets/Gallagher_small_unresized/19_190.jpg', '../../images/testsets/Gallagher_small_unresized/25_696.jpg']\n",
        "No descriptors found. Returning score 0\n",
        "['../../images/testsets/Gallagher_small_unresized/19_190.jpg', '../../images/testsets/Gallagher_small_unresized/32_639.jpg']\n",
        "No descriptors found. Returning score 0\n",
        "['../../images/testsets/Gallagher_small_unresized/19_190.jpg', '../../images/testsets/Gallagher_small_unresized/30_554.jpg']\n",
        "No descriptors found. Returning score 0\n",
        "['../../images/testsets/Gallagher_small_unresized/19_190.jpg', '../../images/testsets/Gallagher_small_unresized/28_525.jpg']"
       ]
      },
      {
       "output_type": "stream",
       "stream": "stdout",
       "text": [
        "\n",
        "No descriptors found. Returning score 0\n",
        "['../../images/testsets/Gallagher_small_unresized/19_190.jpg', '../../images/testsets/Gallagher_small_unresized/30_539.jpg']\n",
        "No descriptors found. Returning score 0\n",
        "['../../images/testsets/Gallagher_small_unresized/19_190.jpg', '../../images/testsets/Gallagher_small_unresized/26_550.jpg']\n",
        "No descriptors found. Returning score 0\n",
        "['../../images/testsets/Gallagher_small_unresized/19_190.jpg', '../../images/testsets/Gallagher_small_unresized/15_170.jpg']\n",
        "No descriptors found. Returning score 0\n",
        "['../../images/testsets/Gallagher_small_unresized/19_190.jpg', '../../images/testsets/Gallagher_small_unresized/21_293.jpg']\n",
        "No descriptors found. Returning score 0\n",
        "['../../images/testsets/Gallagher_small_unresized/19_190.jpg', '../../images/testsets/Gallagher_small_unresized/24_379.jpg']\n",
        "No descriptors found. Returning score 0\n",
        "['../../images/testsets/Gallagher_small_unresized/19_190.jpg', '../../images/testsets/Gallagher_small_unresized/17_212.jpg']\n",
        "No descriptors found. Returning score 0\n",
        "['../../images/testsets/Gallagher_small_unresized/19_190.jpg', '../../images/testsets/Gallagher_small_unresized/14_699.jpg']\n",
        "No descriptors found. Returning score 0\n",
        "['../../images/testsets/Gallagher_small_unresized/19_190.jpg', '../../images/testsets/Gallagher_small_unresized/28_567.jpg']"
       ]
      },
      {
       "output_type": "stream",
       "stream": "stdout",
       "text": [
        "\n",
        "No descriptors found. Returning score 0\n",
        "['../../images/testsets/Gallagher_small_unresized/19_190.jpg', '../../images/testsets/Gallagher_small_unresized/27_551.jpg']\n",
        "No descriptors found. Returning score 0\n",
        "['../../images/testsets/Gallagher_small_unresized/19_190.jpg', '../../images/testsets/Gallagher_small_unresized/22_254.jpg']\n",
        "No descriptors found. Returning score 0\n",
        "['../../images/testsets/Gallagher_small_unresized/19_190.jpg', '../../images/testsets/Gallagher_small_unresized/29_568.jpg']\n",
        "No descriptors found. Returning score 0\n",
        "['../../images/testsets/Gallagher_small_unresized/19_190.jpg', '../../images/testsets/Gallagher_small_unresized/15_154.jpg']\n",
        "No descriptors found. Returning score 0\n",
        "['../../images/testsets/Gallagher_small_unresized/19_190.jpg', '../../images/testsets/Gallagher_small_unresized/25_431.jpg']\n",
        "No descriptors found. Returning score 0\n",
        "['../../images/testsets/Gallagher_small_unresized/19_190.jpg', '../../images/testsets/Gallagher_small_unresized/23_305.jpg']\n",
        "No descriptors found. Returning score 0\n",
        "['../../images/testsets/Gallagher_small_unresized/19_190.jpg', '../../images/testsets/Gallagher_small_unresized/16_164.jpg']\n",
        "No descriptors found. Returning score 0\n",
        "['../../images/testsets/Gallagher_small_unresized/19_190.jpg', '../../images/testsets/Gallagher_small_unresized/18_166.jpg']"
       ]
      },
      {
       "output_type": "stream",
       "stream": "stdout",
       "text": [
        "\n",
        "No descriptors found. Returning score 0\n",
        "['../../images/testsets/Gallagher_small_unresized/19_190.jpg', '../../images/testsets/Gallagher_small_unresized/25_770.jpg']\n",
        "No descriptors found. Returning score 0\n",
        "['../../images/testsets/Gallagher_small_unresized/19_190.jpg', '../../images/testsets/Gallagher_small_unresized/32_642.jpg']\n",
        "No descriptors found. Returning score 0\n",
        "['../../images/testsets/Gallagher_small_unresized/19_190.jpg', '../../images/testsets/Gallagher_small_unresized/19_198.jpg']\n",
        "No descriptors found. Returning score 0\n",
        "['../../images/testsets/Gallagher_small_unresized/19_190.jpg', '../../images/testsets/Gallagher_small_unresized/21_294.jpg']\n",
        "No descriptors found. Returning score 0\n",
        "['../../images/testsets/Gallagher_small_unresized/19_190.jpg', '../../images/testsets/Gallagher_small_unresized/14_206.jpg']\n",
        "No descriptors found. Returning score 0\n",
        "['../../images/testsets/Gallagher_small_unresized/19_190.jpg', '../../images/testsets/Gallagher_small_unresized/26_535.jpg']\n",
        "No descriptors found. Returning score 0\n",
        "['../../images/testsets/Gallagher_small_unresized/19_190.jpg', '../../images/testsets/Gallagher_small_unresized/22_255.jpg']"
       ]
      },
      {
       "output_type": "stream",
       "stream": "stdout",
       "text": [
        "\n",
        "No descriptors found. Returning score 0\n",
        "['../../images/testsets/Gallagher_small_unresized/19_190.jpg', '../../images/testsets/Gallagher_small_unresized/29_553.jpg']\n",
        "No descriptors found. Returning score 0\n",
        "['../../images/testsets/Gallagher_small_unresized/19_190.jpg', '../../images/testsets/Gallagher_small_unresized/13_168.jpg']\n",
        "No descriptors found. Returning score 0\n",
        "['../../images/testsets/Gallagher_small_unresized/19_190.jpg', '../../images/testsets/Gallagher_small_unresized/28_552.jpg']\n",
        "No descriptors found. Returning score 0\n",
        "['../../images/testsets/Gallagher_small_unresized/19_190.jpg', '../../images/testsets/Gallagher_small_unresized/13_145.jpg']\n",
        "No descriptors found. Returning score 0\n",
        "['../../images/testsets/Gallagher_small_unresized/19_190.jpg', '../../images/testsets/Gallagher_small_unresized/14_207.jpg']"
       ]
      },
      {
       "output_type": "stream",
       "stream": "stdout",
       "text": [
        "\n",
        "No descriptors found. Returning score 0\n",
        "['../../images/testsets/Gallagher_small_unresized/19_190.jpg', '../../images/testsets/Gallagher_small_unresized/14_150.jpg']\n",
        "No descriptors found. Returning score 0\n",
        "['../../images/testsets/Gallagher_small_unresized/19_190.jpg', '../../images/testsets/Gallagher_small_unresized/27_566.jpg']\n",
        "No descriptors found. Returning score 0\n",
        "['../../images/testsets/Gallagher_small_unresized/19_190.jpg', '../../images/testsets/Gallagher_small_unresized/17_183.jpg']\n",
        "No descriptors found. Returning score 0\n",
        "['../../images/testsets/Gallagher_small_unresized/19_190.jpg', '../../images/testsets/Gallagher_small_unresized/19_187.jpg']\n",
        "No descriptors found. Returning score 0\n",
        "['../../images/testsets/Gallagher_small_unresized/19_190.jpg', '../../images/testsets/Gallagher_small_unresized/31_580.jpg']"
       ]
      },
      {
       "output_type": "stream",
       "stream": "stdout",
       "text": [
        "\n",
        "No descriptors found. Returning score 0\n",
        "['../../images/testsets/Gallagher_small_unresized/19_190.jpg', '../../images/testsets/Gallagher_small_unresized/21_872.jpg']\n",
        "No descriptors found. Returning score 0\n",
        "['../../images/testsets/Gallagher_small_unresized/19_190.jpg', '../../images/testsets/Gallagher_small_unresized/23_307.jpg']\n",
        "No descriptors found. Returning score 0\n",
        "['../../images/testsets/Gallagher_small_unresized/19_190.jpg', '../../images/testsets/Gallagher_small_unresized/25_462.jpg']\n",
        "No descriptors found. Returning score 0\n",
        "['../../images/testsets/Gallagher_small_unresized/19_190.jpg', '../../images/testsets/Gallagher_small_unresized/23_534.jpg']\n",
        "No descriptors found. Returning score 0\n",
        "['../../images/testsets/Gallagher_small_unresized/19_190.jpg', '../../images/testsets/Gallagher_small_unresized/31_582.jpg']"
       ]
      },
      {
       "output_type": "stream",
       "stream": "stdout",
       "text": [
        "\n",
        "No descriptors found. Returning score 0\n",
        "['../../images/testsets/Gallagher_small_unresized/19_190.jpg', '../../images/testsets/Gallagher_small_unresized/15_224.jpg']\n",
        "No descriptors found. Returning score 0\n",
        "['../../images/testsets/Gallagher_small_unresized/19_190.jpg', '../../images/testsets/Gallagher_small_unresized/23_508.jpg']\n",
        "No descriptors found. Returning score 0\n",
        "['../../images/testsets/Gallagher_small_unresized/19_190.jpg', '../../images/testsets/Gallagher_small_unresized/18_220.jpg']\n",
        "No descriptors found. Returning score 0\n",
        "['../../images/testsets/Gallagher_small_unresized/19_190.jpg', '../../images/testsets/Gallagher_small_unresized/15_151.jpg']"
       ]
      },
      {
       "output_type": "stream",
       "stream": "stdout",
       "text": [
        "\n",
        "No descriptors found. Returning score 0\n",
        "['../../images/testsets/Gallagher_small_unresized/19_190.jpg', '../../images/testsets/Gallagher_small_unresized/16_182.jpg']\n",
        "No descriptors found. Returning score 0\n",
        "['../../images/testsets/Gallagher_small_unresized/19_190.jpg', '../../images/testsets/Gallagher_small_unresized/23_875.jpg']\n",
        "No descriptors found. Returning score 0\n",
        "['../../images/testsets/Gallagher_small_unresized/19_190.jpg', '../../images/testsets/Gallagher_small_unresized/23_549.jpg']\n",
        "No descriptors found. Returning score 0\n",
        "['../../images/testsets/Gallagher_small_unresized/19_190.jpg', '../../images/testsets/Gallagher_small_unresized/32_648.jpg']\n",
        "No descriptors found. Returning score 0\n",
        "['../../images/testsets/Gallagher_small_unresized/19_190.jpg', '../../images/testsets/Gallagher_small_unresized/15_171.jpg']"
       ]
      },
      {
       "output_type": "stream",
       "stream": "stdout",
       "text": [
        "\n",
        "No descriptors found. Returning score 0\n",
        "['../../images/testsets/Gallagher_small_unresized/19_190.jpg', '../../images/testsets/Gallagher_small_unresized/24_358.jpg']\n",
        "No descriptors found. Returning score 0\n",
        "['../../images/testsets/Gallagher_small_unresized/19_190.jpg', '../../images/testsets/Gallagher_small_unresized/25_458.jpg']\n",
        "No descriptors found. Returning score 0\n",
        "['../../images/testsets/Gallagher_small_unresized/19_190.jpg', '../../images/testsets/Gallagher_small_unresized/30_569.jpg']\n",
        "No descriptors found. Returning score 0\n",
        "['../../images/testsets/Gallagher_small_unresized/19_190.jpg', '../../images/testsets/Gallagher_small_unresized/32_645.jpg']\n",
        "No descriptors found. Returning score 0\n",
        "['../../images/testsets/Gallagher_small_unresized/19_190.jpg', '../../images/testsets/Gallagher_small_unresized/29_538.jpg']\n",
        "No descriptors found. Returning score 0\n",
        "['../../images/testsets/Gallagher_small_unresized/19_190.jpg', '../../images/testsets/Gallagher_small_unresized/21_251.jpg']\n",
        "No descriptors found. Returning score 0\n",
        "['../../images/testsets/Gallagher_small_unresized/19_190.jpg', '../../images/testsets/Gallagher_small_unresized/20_249.jpg']"
       ]
      },
      {
       "output_type": "stream",
       "stream": "stdout",
       "text": [
        "\n",
        "No descriptors found. Returning score 0\n",
        "['../../images/testsets/Gallagher_small_unresized/19_190.jpg', '../../images/testsets/Gallagher_small_unresized/15_181.jpg']\n",
        "No descriptors found. Returning score 0\n",
        "['../../images/testsets/Gallagher_small_unresized/19_190.jpg', '../../images/testsets/Gallagher_small_unresized/15_158.jpg']\n",
        "No descriptors found. Returning score 0\n",
        "['../../images/testsets/Gallagher_small_unresized/19_190.jpg', '../../images/testsets/Gallagher_small_unresized/19_195.jpg']\n",
        "No descriptors found. Returning score 0\n",
        "['../../images/testsets/Gallagher_small_unresized/19_190.jpg', '../../images/testsets/Gallagher_small_unresized/19_193.jpg']\n",
        "No descriptors found. Returning score 0\n",
        "['../../images/testsets/Gallagher_small_unresized/19_190.jpg', '../../images/testsets/Gallagher_small_unresized/21_287.jpg']\n",
        "No descriptors found. Returning score 0\n",
        "['../../images/testsets/Gallagher_small_unresized/19_190.jpg', '../../images/testsets/Gallagher_small_unresized/26_565.jpg']\n",
        "No descriptors found. Returning score 0\n",
        "['../../images/testsets/Gallagher_small_unresized/19_190.jpg', '../../images/testsets/Gallagher_small_unresized/27_509.jpg']"
       ]
      },
      {
       "output_type": "stream",
       "stream": "stdout",
       "text": [
        "\n",
        "No descriptors found. Returning score 0\n",
        "['../../images/testsets/Gallagher_small_unresized/19_190.jpg', '../../images/testsets/Gallagher_small_unresized/15_169.jpg']\n",
        "No descriptors found. Returning score 0\n",
        "['../../images/testsets/Gallagher_small_unresized/19_190.jpg', '../../images/testsets/Gallagher_small_unresized/15_167.jpg']\n",
        "No descriptors found. Returning score 0\n",
        "['../../images/testsets/Gallagher_small_unresized/19_190.jpg', '../../images/testsets/Gallagher_small_unresized/21_587.jpg']\n",
        "No descriptors found. Returning score 0\n",
        "['../../images/testsets/Gallagher_small_unresized/19_190.jpg', '../../images/testsets/Gallagher_small_unresized/15_222.jpg']\n",
        "No descriptors found. Returning score 0\n",
        "['../../images/testsets/Gallagher_small_unresized/19_190.jpg', '../../images/testsets/Gallagher_small_unresized/16_178.jpg']\n",
        "No descriptors found. Returning score 0\n",
        "['../../images/testsets/Gallagher_small_unresized/19_190.jpg', '../../images/testsets/Gallagher_small_unresized/17_165.jpg']"
       ]
      },
      {
       "output_type": "stream",
       "stream": "stdout",
       "text": [
        "\n",
        "No descriptors found. Returning score 0\n",
        "['../../images/testsets/Gallagher_small_unresized/19_190.jpg', '../../images/testsets/Gallagher_small_unresized/28_537.jpg']\n",
        "No descriptors found. Returning score 0\n",
        "['../../images/testsets/Gallagher_small_unresized/19_190.jpg', '../../images/testsets/Gallagher_small_unresized/27_524.jpg']\n",
        "No descriptors found. Returning score 0\n",
        "['../../images/testsets/Gallagher_small_unresized/19_190.jpg', '../../images/testsets/Gallagher_small_unresized/13_163.jpg']\n",
        "No descriptors found. Returning score 0\n",
        "['../../images/testsets/Gallagher_small_unresized/19_190.jpg', '../../images/testsets/Gallagher_small_unresized/23_302.jpg']"
       ]
      },
      {
       "output_type": "stream",
       "stream": "stdout",
       "text": [
        "\n",
        "No descriptors found. Returning score 0\n",
        "Score: 0.0389 for 15 and 14"
       ]
      },
      {
       "output_type": "stream",
       "stream": "stdout",
       "text": [
        "\n",
        "Score: 0.0144 for 15 and 25"
       ]
      },
      {
       "output_type": "stream",
       "stream": "stdout",
       "text": [
        "\n",
        "Score: 0.0250 for 15 and 25"
       ]
      },
      {
       "output_type": "stream",
       "stream": "stdout",
       "text": [
        "\n",
        "Score: 0.0248 for 15 and 32"
       ]
      },
      {
       "output_type": "stream",
       "stream": "stdout",
       "text": [
        "\n",
        "Score: 0.0000 for 15 and 30 (Less than four matches)"
       ]
      },
      {
       "output_type": "stream",
       "stream": "stdout",
       "text": [
        "\n",
        "Score: 0.0000 for 15 and 28 (Less than four matches)"
       ]
      },
      {
       "output_type": "stream",
       "stream": "stdout",
       "text": [
        "\n",
        "Score: 0.0000 for 15 and 30 (Less than four matches)"
       ]
      },
      {
       "output_type": "stream",
       "stream": "stdout",
       "text": [
        "\n",
        "Score: 0.0000 for 15 and 26 (Less than four matches)"
       ]
      },
      {
       "output_type": "stream",
       "stream": "stdout",
       "text": [
        "\n",
        "Score: 0.0000 for 15 and 15 (Less than four matches)"
       ]
      },
      {
       "output_type": "stream",
       "stream": "stdout",
       "text": [
        "\n",
        "Score: 0.0214 for 15 and 21"
       ]
      },
      {
       "output_type": "stream",
       "stream": "stdout",
       "text": [
        "\n",
        "Score: 0.0000 for 15 and 24 (Less than four matches)"
       ]
      },
      {
       "output_type": "stream",
       "stream": "stdout",
       "text": [
        "\n",
        "Score: 0.0000 for 15 and 17 (Less than four matches)"
       ]
      },
      {
       "output_type": "stream",
       "stream": "stdout",
       "text": [
        "\n",
        "Score: 0.0000 for 15 and 14 (Less than four matches)"
       ]
      },
      {
       "output_type": "stream",
       "stream": "stdout",
       "text": [
        "\n",
        "Score: 0.0000 for 15 and 28 (Less than four matches)"
       ]
      },
      {
       "output_type": "stream",
       "stream": "stdout",
       "text": [
        "\n",
        "Score: 0.0247 for 15 and 27"
       ]
      },
      {
       "output_type": "stream",
       "stream": "stdout",
       "text": [
        "\n",
        "Score: 0.0000 for 15 and 22 (Less than four matches)"
       ]
      },
      {
       "output_type": "stream",
       "stream": "stdout",
       "text": [
        "\n",
        "Score: 0.0000 for 15 and 29 (Less than four matches)"
       ]
      },
      {
       "output_type": "stream",
       "stream": "stdout",
       "text": [
        "\n",
        "Score: 0.0000 for 15 and 15 (Less than four matches)"
       ]
      },
      {
       "output_type": "stream",
       "stream": "stdout",
       "text": [
        "\n",
        "Score: 0.0432 for 15 and 25"
       ]
      },
      {
       "output_type": "stream",
       "stream": "stdout",
       "text": [
        "\n",
        "Score: 0.0385 for 15 and 23"
       ]
      },
      {
       "output_type": "stream",
       "stream": "stdout",
       "text": [
        "\n",
        "Score: 0.0000 for 15 and 16 (Less than four matches)"
       ]
      },
      {
       "output_type": "stream",
       "stream": "stdout",
       "text": [
        "\n",
        "Score: 0.0000 for 15 and 18 (Less than four matches)"
       ]
      },
      {
       "output_type": "stream",
       "stream": "stdout",
       "text": [
        "\n",
        "Score: 0.0000 for 15 and 25 (Less than four matches)"
       ]
      },
      {
       "output_type": "stream",
       "stream": "stdout",
       "text": [
        "\n",
        "Score: 0.0000 for 15 and 32 (Less than four matches)"
       ]
      },
      {
       "output_type": "stream",
       "stream": "stdout",
       "text": [
        "\n",
        "Score: 0.0000 for 15 and 19 (Less than four matches)"
       ]
      },
      {
       "output_type": "stream",
       "stream": "stdout",
       "text": [
        "\n",
        "Score: 0.0000 for 15 and 21 (Less than four matches)"
       ]
      },
      {
       "output_type": "stream",
       "stream": "stdout",
       "text": [
        "\n",
        "Score: 0.0000 for 15 and 14 (Less than four matches)"
       ]
      },
      {
       "output_type": "stream",
       "stream": "stdout",
       "text": [
        "\n",
        "Score: 0.0000 for 15 and 26 (Less than four matches)"
       ]
      },
      {
       "output_type": "stream",
       "stream": "stdout",
       "text": [
        "\n",
        "Score: 0.0000 for 15 and 22 (Less than four matches)"
       ]
      },
      {
       "output_type": "stream",
       "stream": "stdout",
       "text": [
        "\n",
        "Score: 0.0246 for 15 and 29"
       ]
      },
      {
       "output_type": "stream",
       "stream": "stdout",
       "text": [
        "\n",
        "Score: 0.0000 for 15 and 13 (Less than four matches)"
       ]
      },
      {
       "output_type": "stream",
       "stream": "stdout",
       "text": [
        "\n",
        "Score: 0.0000 for 15 and 28 (Less than four matches)"
       ]
      },
      {
       "output_type": "stream",
       "stream": "stdout",
       "text": [
        "\n",
        "Score: 0.0000 for 15 and 13 (Less than four matches)"
       ]
      },
      {
       "output_type": "stream",
       "stream": "stdout",
       "text": [
        "\n",
        "Score: 0.0317 for 15 and 14"
       ]
      },
      {
       "output_type": "stream",
       "stream": "stdout",
       "text": [
        "\n",
        "Score: 0.0496 for 15 and 14"
       ]
      },
      {
       "output_type": "stream",
       "stream": "stdout",
       "text": [
        "\n",
        "Score: 0.0000 for 15 and 27 (Less than four matches)"
       ]
      },
      {
       "output_type": "stream",
       "stream": "stdout",
       "text": [
        "\n",
        "Score: 0.0000 for 15 and 17 (Less than four matches)"
       ]
      },
      {
       "output_type": "stream",
       "stream": "stdout",
       "text": [
        "\n",
        "Score: 0.0000 for 15 and 19 (Less than four matches)"
       ]
      },
      {
       "output_type": "stream",
       "stream": "stdout",
       "text": [
        "\n",
        "Score: 0.0000 for 15 and 31 (Less than four matches)"
       ]
      },
      {
       "output_type": "stream",
       "stream": "stdout",
       "text": [
        "\n",
        "Score: 0.0000 for 15 and 21 (Less than four matches)"
       ]
      },
      {
       "output_type": "stream",
       "stream": "stdout",
       "text": [
        "\n",
        "Score: 0.0616 for 15 and 23"
       ]
      },
      {
       "output_type": "stream",
       "stream": "stdout",
       "text": [
        "\n",
        "Score: 0.0000 for 15 and 25 (Less than four matches)"
       ]
      },
      {
       "output_type": "stream",
       "stream": "stdout",
       "text": [
        "\n",
        "Score: 0.0000 for 15 and 23 (Less than four matches)"
       ]
      },
      {
       "output_type": "stream",
       "stream": "stdout",
       "text": [
        "\n",
        "Score: 0.0464 for 15 and 31"
       ]
      },
      {
       "output_type": "stream",
       "stream": "stdout",
       "text": [
        "\n",
        "Score: 0.0000 for 15 and 15 (Less than four matches)"
       ]
      },
      {
       "output_type": "stream",
       "stream": "stdout",
       "text": [
        "\n",
        "Score: 0.0000 for 15 and 23 (Less than four matches)"
       ]
      },
      {
       "output_type": "stream",
       "stream": "stdout",
       "text": [
        "\n",
        "Score: 0.0000 for 15 and 18 (Less than four matches)"
       ]
      },
      {
       "output_type": "stream",
       "stream": "stdout",
       "text": [
        "\n",
        "Score: 0.0000 for 15 and 15 (Less than four matches)"
       ]
      },
      {
       "output_type": "stream",
       "stream": "stdout",
       "text": [
        "\n",
        "Score: 0.0000 for 15 and 16 (Less than four matches)"
       ]
      },
      {
       "output_type": "stream",
       "stream": "stdout",
       "text": [
        "\n",
        "Score: 0.0000 for 15 and 23 (Less than four matches)"
       ]
      },
      {
       "output_type": "stream",
       "stream": "stdout",
       "text": [
        "\n",
        "Score: 0.0000 for 15 and 23 (Less than four matches)"
       ]
      },
      {
       "output_type": "stream",
       "stream": "stdout",
       "text": [
        "\n",
        "Score: 0.0000 for 15 and 32 (Less than four matches)"
       ]
      },
      {
       "output_type": "stream",
       "stream": "stdout",
       "text": [
        "\n",
        "Score: 0.0000 for 15 and 15 (Less than four matches)"
       ]
      },
      {
       "output_type": "stream",
       "stream": "stdout",
       "text": [
        "\n",
        "Score: 0.0000 for 15 and 24 (Less than four matches)"
       ]
      },
      {
       "output_type": "stream",
       "stream": "stdout",
       "text": [
        "\n",
        "Score: 0.0000 for 15 and 25 (Less than four matches)"
       ]
      },
      {
       "output_type": "stream",
       "stream": "stdout",
       "text": [
        "\n",
        "Score: 0.0309 for 15 and 30"
       ]
      },
      {
       "output_type": "stream",
       "stream": "stdout",
       "text": [
        "\n",
        "Score: 0.0000 for 15 and 32 (Less than four matches)"
       ]
      },
      {
       "output_type": "stream",
       "stream": "stdout",
       "text": [
        "\n",
        "['../../images/testsets/Gallagher_small_unresized/15_160.jpg', '../../images/testsets/Gallagher_small_unresized/29_538.jpg']\n",
        "No descriptors found. Returning score 0\n",
        "Score: 0.0292 for 15 and 21"
       ]
      },
      {
       "output_type": "stream",
       "stream": "stdout",
       "text": [
        "\n",
        "Score: 0.0177 for 15 and 20"
       ]
      },
      {
       "output_type": "stream",
       "stream": "stdout",
       "text": [
        "\n",
        "Score: 0.0000 for 15 and 15 (Less than four matches)"
       ]
      },
      {
       "output_type": "stream",
       "stream": "stdout",
       "text": [
        "\n",
        "Score: 0.0397 for 15 and 15"
       ]
      },
      {
       "output_type": "stream",
       "stream": "stdout",
       "text": [
        "\n",
        "Score: 0.0452 for 15 and 19"
       ]
      },
      {
       "output_type": "stream",
       "stream": "stdout",
       "text": [
        "\n",
        "Score: 0.0000 for 15 and 19 (Less than four matches)"
       ]
      },
      {
       "output_type": "stream",
       "stream": "stdout",
       "text": [
        "\n",
        "Score: 0.0000 for 15 and 21 (Less than four matches)"
       ]
      },
      {
       "output_type": "stream",
       "stream": "stdout",
       "text": [
        "\n",
        "Score: 0.0000 for 15 and 26 (Less than four matches)"
       ]
      },
      {
       "output_type": "stream",
       "stream": "stdout",
       "text": [
        "\n",
        "Score: 0.0000 for 15 and 27 (Less than four matches)"
       ]
      },
      {
       "output_type": "stream",
       "stream": "stdout",
       "text": [
        "\n",
        "Score: 0.0433 for 15 and 15"
       ]
      },
      {
       "output_type": "stream",
       "stream": "stdout",
       "text": [
        "\n",
        "Score: 0.0000 for 15 and 15 (Less than four matches)"
       ]
      },
      {
       "output_type": "stream",
       "stream": "stdout",
       "text": [
        "\n",
        "Score: 0.0000 for 15 and 21 (Less than four matches)"
       ]
      },
      {
       "output_type": "stream",
       "stream": "stdout",
       "text": [
        "\n",
        "Score: 0.0000 for 15 and 15 (Less than four matches)"
       ]
      },
      {
       "output_type": "stream",
       "stream": "stdout",
       "text": [
        "\n",
        "Score: 0.0000 for 15 and 16 (Less than four matches)"
       ]
      },
      {
       "output_type": "stream",
       "stream": "stdout",
       "text": [
        "\n",
        "Score: 0.0000 for 15 and 17 (Less than four matches)"
       ]
      },
      {
       "output_type": "stream",
       "stream": "stdout",
       "text": [
        "\n",
        "['../../images/testsets/Gallagher_small_unresized/15_160.jpg', '../../images/testsets/Gallagher_small_unresized/28_537.jpg']\n",
        "No descriptors found. Returning score 0\n",
        "Score: 0.0000 for 15 and 27 (Less than four matches)"
       ]
      },
      {
       "output_type": "stream",
       "stream": "stdout",
       "text": [
        "\n",
        "Score: 0.0335 for 15 and 13"
       ]
      },
      {
       "output_type": "stream",
       "stream": "stdout",
       "text": [
        "\n",
        "Score: 0.0000 for 15 and 23 (Less than four matches)"
       ]
      },
      {
       "output_type": "stream",
       "stream": "stdout",
       "text": [
        "\n",
        "Score: 0.0363 for 14 and 25"
       ]
      },
      {
       "output_type": "stream",
       "stream": "stdout",
       "text": [
        "\n",
        "Score: 0.0000 for 14 and 25 (Less than four matches)"
       ]
      },
      {
       "output_type": "stream",
       "stream": "stdout",
       "text": [
        "\n",
        "Score: 0.0299 for 14 and 32"
       ]
      },
      {
       "output_type": "stream",
       "stream": "stdout",
       "text": [
        "\n",
        "Score: 0.0000 for 14 and 30 (Less than four matches)"
       ]
      },
      {
       "output_type": "stream",
       "stream": "stdout",
       "text": [
        "\n",
        "Score: 0.0000 for 14 and 28 (Less than four matches)"
       ]
      },
      {
       "output_type": "stream",
       "stream": "stdout",
       "text": [
        "\n",
        "Score: 0.0000 for 14 and 30 (Less than four matches)"
       ]
      },
      {
       "output_type": "stream",
       "stream": "stdout",
       "text": [
        "\n",
        "Score: 0.0153 for 14 and 26"
       ]
      },
      {
       "output_type": "stream",
       "stream": "stdout",
       "text": [
        "\n",
        "Score: 0.0090 for 14 and 15"
       ]
      },
      {
       "output_type": "stream",
       "stream": "stdout",
       "text": [
        "\n",
        "Score: 0.0531 for 14 and 21"
       ]
      },
      {
       "output_type": "stream",
       "stream": "stdout",
       "text": [
        "\n",
        "Score: 0.0417 for 14 and 24"
       ]
      },
      {
       "output_type": "stream",
       "stream": "stdout",
       "text": [
        "\n",
        "Score: 0.0247 for 14 and 17"
       ]
      },
      {
       "output_type": "stream",
       "stream": "stdout",
       "text": [
        "\n",
        "Score: 0.0374 for 14 and 14"
       ]
      },
      {
       "output_type": "stream",
       "stream": "stdout",
       "text": [
        "\n",
        "Score: 0.0000 for 14 and 28 (Less than four matches)"
       ]
      },
      {
       "output_type": "stream",
       "stream": "stdout",
       "text": [
        "\n",
        "Score: 0.0000 for 14 and 27 (Less than four matches)"
       ]
      },
      {
       "output_type": "stream",
       "stream": "stdout",
       "text": [
        "\n",
        "Score: 0.0565 for 14 and 22"
       ]
      },
      {
       "output_type": "stream",
       "stream": "stdout",
       "text": [
        "\n",
        "Score: 0.0000 for 14 and 29 (Less than four matches)"
       ]
      },
      {
       "output_type": "stream",
       "stream": "stdout",
       "text": [
        "\n",
        "Score: 0.0160 for 14 and 15"
       ]
      },
      {
       "output_type": "stream",
       "stream": "stdout",
       "text": [
        "\n",
        "Score: 0.0000 for 14 and 25 (Less than four matches)"
       ]
      },
      {
       "output_type": "stream",
       "stream": "stdout",
       "text": [
        "\n",
        "Score: 0.0000 for 14 and 23 (Less than four matches)"
       ]
      },
      {
       "output_type": "stream",
       "stream": "stdout",
       "text": [
        "\n",
        "Score: 0.0000 for 14 and 16 (Less than four matches)"
       ]
      },
      {
       "output_type": "stream",
       "stream": "stdout",
       "text": [
        "\n",
        "Score: 0.0000 for 14 and 18 (Less than four matches)"
       ]
      },
      {
       "output_type": "stream",
       "stream": "stdout",
       "text": [
        "\n",
        "Score: 0.0111 for 14 and 25"
       ]
      },
      {
       "output_type": "stream",
       "stream": "stdout",
       "text": [
        "\n",
        "Score: 0.0110 for 14 and 32"
       ]
      },
      {
       "output_type": "stream",
       "stream": "stdout",
       "text": [
        "\n",
        "Score: 0.0000 for 14 and 19 (Less than four matches)"
       ]
      },
      {
       "output_type": "stream",
       "stream": "stdout",
       "text": [
        "\n",
        "Score: 0.0386 for 14 and 21"
       ]
      },
      {
       "output_type": "stream",
       "stream": "stdout",
       "text": [
        "\n",
        "Score: 0.0499 for 14 and 14"
       ]
      },
      {
       "output_type": "stream",
       "stream": "stdout",
       "text": [
        "\n",
        "Score: 0.0000 for 14 and 26 (Less than four matches)"
       ]
      },
      {
       "output_type": "stream",
       "stream": "stdout",
       "text": [
        "\n",
        "Score: 0.0202 for 14 and 22"
       ]
      },
      {
       "output_type": "stream",
       "stream": "stdout",
       "text": [
        "\n",
        "Score: 0.0000 for 14 and 29 (Less than four matches)"
       ]
      },
      {
       "output_type": "stream",
       "stream": "stdout",
       "text": [
        "\n",
        "Score: 0.0124 for 14 and 13"
       ]
      },
      {
       "output_type": "stream",
       "stream": "stdout",
       "text": [
        "\n",
        "Score: 0.0000 for 14 and 28 (Less than four matches)"
       ]
      },
      {
       "output_type": "stream",
       "stream": "stdout",
       "text": [
        "\n",
        "Score: 0.0000 for 14 and 13 (Less than four matches)"
       ]
      },
      {
       "output_type": "stream",
       "stream": "stdout",
       "text": [
        "\n",
        "Score: 0.0000 for 14 and 14 (Less than four matches)"
       ]
      },
      {
       "output_type": "stream",
       "stream": "stdout",
       "text": [
        "\n",
        "Score: 0.0382 for 14 and 14"
       ]
      },
      {
       "output_type": "stream",
       "stream": "stdout",
       "text": [
        "\n",
        "Score: 0.0223 for 14 and 27"
       ]
      },
      {
       "output_type": "stream",
       "stream": "stdout",
       "text": [
        "\n",
        "Score: 0.0000 for 14 and 17 (Less than four matches)"
       ]
      },
      {
       "output_type": "stream",
       "stream": "stdout",
       "text": [
        "\n",
        "Score: 0.0000 for 14 and 19 (Less than four matches)"
       ]
      },
      {
       "output_type": "stream",
       "stream": "stdout",
       "text": [
        "\n",
        "Score: 0.0312 for 14 and 31"
       ]
      },
      {
       "output_type": "stream",
       "stream": "stdout",
       "text": [
        "\n",
        "Score: 0.0000 for 14 and 21 (Less than four matches)"
       ]
      },
      {
       "output_type": "stream",
       "stream": "stdout",
       "text": [
        "\n",
        "Score: 0.0000 for 14 and 23 (Less than four matches)"
       ]
      },
      {
       "output_type": "stream",
       "stream": "stdout",
       "text": [
        "\n",
        "Score: 0.0000 for 14 and 25 (Less than four matches)"
       ]
      },
      {
       "output_type": "stream",
       "stream": "stdout",
       "text": [
        "\n",
        "Score: 0.0000 for 14 and 23 (Less than four matches)"
       ]
      },
      {
       "output_type": "stream",
       "stream": "stdout",
       "text": [
        "\n",
        "Score: 0.0000 for 14 and 31 (Less than four matches)"
       ]
      },
      {
       "output_type": "stream",
       "stream": "stdout",
       "text": [
        "\n",
        "Score: 0.0000 for 14 and 15 (Less than four matches)"
       ]
      },
      {
       "output_type": "stream",
       "stream": "stdout",
       "text": [
        "\n",
        "Score: 0.0187 for 14 and 23"
       ]
      },
      {
       "output_type": "stream",
       "stream": "stdout",
       "text": [
        "\n",
        "Score: 0.0000 for 14 and 18 (Less than four matches)"
       ]
      },
      {
       "output_type": "stream",
       "stream": "stdout",
       "text": [
        "\n",
        "Score: 0.0204 for 14 and 15"
       ]
      },
      {
       "output_type": "stream",
       "stream": "stdout",
       "text": [
        "\n",
        "Score: 0.0256 for 14 and 16"
       ]
      },
      {
       "output_type": "stream",
       "stream": "stdout",
       "text": [
        "\n",
        "Score: 0.0000 for 14 and 23 (Less than four matches)"
       ]
      },
      {
       "output_type": "stream",
       "stream": "stdout",
       "text": [
        "\n",
        "Score: 0.0000 for 14 and 23 (Less than four matches)"
       ]
      },
      {
       "output_type": "stream",
       "stream": "stdout",
       "text": [
        "\n",
        "Score: 0.0000 for 14 and 32 (Less than four matches)"
       ]
      },
      {
       "output_type": "stream",
       "stream": "stdout",
       "text": [
        "\n",
        "Score: 0.0330 for 14 and 15"
       ]
      },
      {
       "output_type": "stream",
       "stream": "stdout",
       "text": [
        "\n",
        "Score: 0.0000 for 14 and 24 (Less than four matches)"
       ]
      },
      {
       "output_type": "stream",
       "stream": "stdout",
       "text": [
        "\n",
        "Score: 0.0042 for 14 and 25"
       ]
      },
      {
       "output_type": "stream",
       "stream": "stdout",
       "text": [
        "\n",
        "Score: 0.0174 for 14 and 30"
       ]
      },
      {
       "output_type": "stream",
       "stream": "stdout",
       "text": [
        "\n",
        "Score: 0.0000 for 14 and 32 (Less than four matches)"
       ]
      },
      {
       "output_type": "stream",
       "stream": "stdout",
       "text": [
        "\n",
        "['../../images/testsets/Gallagher_small_unresized/14_180.jpg', '../../images/testsets/Gallagher_small_unresized/29_538.jpg']\n",
        "No descriptors found. Returning score 0\n",
        "Score: 0.0449 for 14 and 21"
       ]
      },
      {
       "output_type": "stream",
       "stream": "stdout",
       "text": [
        "\n",
        "Score: 0.0238 for 14 and 20"
       ]
      },
      {
       "output_type": "stream",
       "stream": "stdout",
       "text": [
        "\n",
        "Score: 0.0329 for 14 and 15"
       ]
      },
      {
       "output_type": "stream",
       "stream": "stdout",
       "text": [
        "\n",
        "Score: 0.0087 for 14 and 15"
       ]
      },
      {
       "output_type": "stream",
       "stream": "stdout",
       "text": [
        "\n",
        "Score: 0.0197 for 14 and 19"
       ]
      },
      {
       "output_type": "stream",
       "stream": "stdout",
       "text": [
        "\n",
        "Score: 0.0000 for 14 and 19 (Less than four matches)"
       ]
      },
      {
       "output_type": "stream",
       "stream": "stdout",
       "text": [
        "\n",
        "Score: 0.0437 for 14 and 21"
       ]
      },
      {
       "output_type": "stream",
       "stream": "stdout",
       "text": [
        "\n",
        "Score: 0.0000 for 14 and 26 (Less than four matches)"
       ]
      },
      {
       "output_type": "stream",
       "stream": "stdout",
       "text": [
        "\n",
        "Score: 0.0085 for 14 and 27"
       ]
      },
      {
       "output_type": "stream",
       "stream": "stdout",
       "text": [
        "\n",
        "Score: 0.0115 for 14 and 15"
       ]
      },
      {
       "output_type": "stream",
       "stream": "stdout",
       "text": [
        "\n",
        "Score: 0.0000 for 14 and 15 (Less than four matches)"
       ]
      },
      {
       "output_type": "stream",
       "stream": "stdout",
       "text": [
        "\n",
        "Score: 0.0000 for 14 and 21 (Less than four matches)"
       ]
      },
      {
       "output_type": "stream",
       "stream": "stdout",
       "text": [
        "\n",
        "Score: 0.0000 for 14 and 15 (Less than four matches)"
       ]
      },
      {
       "output_type": "stream",
       "stream": "stdout",
       "text": [
        "\n",
        "Score: 0.0000 for 14 and 16 (Less than four matches)"
       ]
      },
      {
       "output_type": "stream",
       "stream": "stdout",
       "text": [
        "\n",
        "Score: 0.0000 for 14 and 17 (Less than four matches)"
       ]
      },
      {
       "output_type": "stream",
       "stream": "stdout",
       "text": [
        "\n",
        "['../../images/testsets/Gallagher_small_unresized/14_180.jpg', '../../images/testsets/Gallagher_small_unresized/28_537.jpg']\n",
        "No descriptors found. Returning score 0\n",
        "Score: 0.0000 for 14 and 27 (Less than four matches)"
       ]
      },
      {
       "output_type": "stream",
       "stream": "stdout",
       "text": [
        "\n",
        "Score: 0.0409 for 14 and 13"
       ]
      },
      {
       "output_type": "stream",
       "stream": "stdout",
       "text": [
        "\n",
        "Score: 0.0000 for 14 and 23 (Less than four matches)"
       ]
      },
      {
       "output_type": "stream",
       "stream": "stdout",
       "text": [
        "\n",
        "Score: 0.0319 for 25 and 25"
       ]
      },
      {
       "output_type": "stream",
       "stream": "stdout",
       "text": [
        "\n",
        "Score: 0.0205 for 25 and 32"
       ]
      },
      {
       "output_type": "stream",
       "stream": "stdout",
       "text": [
        "\n",
        "Score: 0.0000 for 25 and 30 (Less than four matches)"
       ]
      },
      {
       "output_type": "stream",
       "stream": "stdout",
       "text": [
        "\n",
        "Score: 0.0404 for 25 and 28"
       ]
      },
      {
       "output_type": "stream",
       "stream": "stdout",
       "text": [
        "\n",
        "Score: 0.0000 for 25 and 30 (Less than four matches)"
       ]
      },
      {
       "output_type": "stream",
       "stream": "stdout",
       "text": [
        "\n",
        "Score: 0.0000 for 25 and 26 (Less than four matches)"
       ]
      },
      {
       "output_type": "stream",
       "stream": "stdout",
       "text": [
        "\n",
        "Score: 0.0456 for 25 and 15"
       ]
      },
      {
       "output_type": "stream",
       "stream": "stdout",
       "text": [
        "\n",
        "Score: 0.0000 for 25 and 21 (Less than four matches)"
       ]
      },
      {
       "output_type": "stream",
       "stream": "stdout",
       "text": [
        "\n",
        "Score: 0.0386 for 25 and 24"
       ]
      },
      {
       "output_type": "stream",
       "stream": "stdout",
       "text": [
        "\n",
        "Score: 0.0000 for 25 and 17 (Less than four matches)"
       ]
      },
      {
       "output_type": "stream",
       "stream": "stdout",
       "text": [
        "\n",
        "Score: 0.0000 for 25 and 14 (Less than four matches)"
       ]
      },
      {
       "output_type": "stream",
       "stream": "stdout",
       "text": [
        "\n",
        "Score: 0.0000 for 25 and 28 (Less than four matches)"
       ]
      },
      {
       "output_type": "stream",
       "stream": "stdout",
       "text": [
        "\n",
        "Score: 0.0000 for 25 and 27 (Less than four matches)"
       ]
      },
      {
       "output_type": "stream",
       "stream": "stdout",
       "text": [
        "\n",
        "Score: 0.0000 for 25 and 22 (Less than four matches)"
       ]
      },
      {
       "output_type": "stream",
       "stream": "stdout",
       "text": [
        "\n",
        "Score: 0.0307 for 25 and 29"
       ]
      },
      {
       "output_type": "stream",
       "stream": "stdout",
       "text": [
        "\n",
        "Score: 0.0000 for 25 and 15 (Less than four matches)"
       ]
      },
      {
       "output_type": "stream",
       "stream": "stdout",
       "text": [
        "\n",
        "Score: 0.0221 for 25 and 25"
       ]
      },
      {
       "output_type": "stream",
       "stream": "stdout",
       "text": [
        "\n",
        "Score: 0.0273 for 25 and 23"
       ]
      },
      {
       "output_type": "stream",
       "stream": "stdout",
       "text": [
        "\n",
        "Score: 0.0344 for 25 and 16"
       ]
      },
      {
       "output_type": "stream",
       "stream": "stdout",
       "text": [
        "\n",
        "Score: 0.0000 for 25 and 18 (Less than four matches)"
       ]
      },
      {
       "output_type": "stream",
       "stream": "stdout",
       "text": [
        "\n",
        "Score: 0.0279 for 25 and 25"
       ]
      },
      {
       "output_type": "stream",
       "stream": "stdout",
       "text": [
        "\n",
        "Score: 0.0262 for 25 and 32"
       ]
      },
      {
       "output_type": "stream",
       "stream": "stdout",
       "text": [
        "\n",
        "Score: 0.0921 for 25 and 19"
       ]
      },
      {
       "output_type": "stream",
       "stream": "stdout",
       "text": [
        "\n",
        "Score: 0.0000 for 25 and 21 (Less than four matches)"
       ]
      },
      {
       "output_type": "stream",
       "stream": "stdout",
       "text": [
        "\n",
        "Score: 0.0477 for 25 and 14"
       ]
      },
      {
       "output_type": "stream",
       "stream": "stdout",
       "text": [
        "\n",
        "Score: 0.0000 for 25 and 26 (Less than four matches)"
       ]
      },
      {
       "output_type": "stream",
       "stream": "stdout",
       "text": [
        "\n",
        "Score: 0.0000 for 25 and 22 (Less than four matches)"
       ]
      },
      {
       "output_type": "stream",
       "stream": "stdout",
       "text": [
        "\n",
        "Score: 0.0179 for 25 and 29"
       ]
      },
      {
       "output_type": "stream",
       "stream": "stdout",
       "text": [
        "\n",
        "Score: 0.0441 for 25 and 13"
       ]
      },
      {
       "output_type": "stream",
       "stream": "stdout",
       "text": [
        "\n",
        "Score: 0.0000 for 25 and 28 (Less than four matches)"
       ]
      },
      {
       "output_type": "stream",
       "stream": "stdout",
       "text": [
        "\n",
        "Score: 0.0392 for 25 and 13"
       ]
      },
      {
       "output_type": "stream",
       "stream": "stdout",
       "text": [
        "\n",
        "Score: 0.0376 for 25 and 14"
       ]
      },
      {
       "output_type": "stream",
       "stream": "stdout",
       "text": [
        "\n",
        "Score: 0.0000 for 25 and 14 (Less than four matches)"
       ]
      },
      {
       "output_type": "stream",
       "stream": "stdout",
       "text": [
        "\n",
        "Score: 0.0407 for 25 and 27"
       ]
      },
      {
       "output_type": "stream",
       "stream": "stdout",
       "text": [
        "\n",
        "Score: 0.0110 for 25 and 17"
       ]
      },
      {
       "output_type": "stream",
       "stream": "stdout",
       "text": [
        "\n",
        "Score: 0.0556 for 25 and 19"
       ]
      },
      {
       "output_type": "stream",
       "stream": "stdout",
       "text": [
        "\n",
        "Score: 0.0734 for 25 and 31"
       ]
      },
      {
       "output_type": "stream",
       "stream": "stdout",
       "text": [
        "\n",
        "Score: 0.0461 for 25 and 21"
       ]
      },
      {
       "output_type": "stream",
       "stream": "stdout",
       "text": [
        "\n",
        "Score: 0.0474 for 25 and 23"
       ]
      },
      {
       "output_type": "stream",
       "stream": "stdout",
       "text": [
        "\n",
        "Score: 0.0000 for 25 and 25 (Less than four matches)"
       ]
      },
      {
       "output_type": "stream",
       "stream": "stdout",
       "text": [
        "\n",
        "Score: 0.0000 for 25 and 23 (Less than four matches)"
       ]
      },
      {
       "output_type": "stream",
       "stream": "stdout",
       "text": [
        "\n",
        "Score: 0.0730 for 25 and 31"
       ]
      },
      {
       "output_type": "stream",
       "stream": "stdout",
       "text": [
        "\n",
        "Score: 0.0192 for 25 and 15"
       ]
      },
      {
       "output_type": "stream",
       "stream": "stdout",
       "text": [
        "\n",
        "Score: 0.0000 for 25 and 23 (Less than four matches)"
       ]
      },
      {
       "output_type": "stream",
       "stream": "stdout",
       "text": [
        "\n",
        "Score: 0.0000 for 25 and 18 (Less than four matches)"
       ]
      },
      {
       "output_type": "stream",
       "stream": "stdout",
       "text": [
        "\n",
        "Score: 0.0231 for 25 and 15"
       ]
      },
      {
       "output_type": "stream",
       "stream": "stdout",
       "text": [
        "\n",
        "Score: 0.0000 for 25 and 16 (Less than four matches)"
       ]
      },
      {
       "output_type": "stream",
       "stream": "stdout",
       "text": [
        "\n",
        "Score: 0.0182 for 25 and 23"
       ]
      },
      {
       "output_type": "stream",
       "stream": "stdout",
       "text": [
        "\n",
        "Score: 0.0191 for 25 and 23"
       ]
      },
      {
       "output_type": "stream",
       "stream": "stdout",
       "text": [
        "\n",
        "Score: 0.0668 for 25 and 32"
       ]
      },
      {
       "output_type": "stream",
       "stream": "stdout",
       "text": [
        "\n",
        "Score: 0.0515 for 25 and 15"
       ]
      },
      {
       "output_type": "stream",
       "stream": "stdout",
       "text": [
        "\n",
        "Score: 0.0000 for 25 and 24 (Less than four matches)"
       ]
      },
      {
       "output_type": "stream",
       "stream": "stdout",
       "text": [
        "\n",
        "Score: 0.0157 for 25 and 25"
       ]
      },
      {
       "output_type": "stream",
       "stream": "stdout",
       "text": [
        "\n",
        "Score: 0.0000 for 25 and 30 (Less than four matches)"
       ]
      },
      {
       "output_type": "stream",
       "stream": "stdout",
       "text": [
        "\n",
        "Score: 0.0656 for 25 and 32"
       ]
      },
      {
       "output_type": "stream",
       "stream": "stdout",
       "text": [
        "\n",
        "['../../images/testsets/Gallagher_small_unresized/25_694.jpg', '../../images/testsets/Gallagher_small_unresized/29_538.jpg']\n",
        "No descriptors found. Returning score 0\n",
        "Score: 0.0256 for 25 and 21"
       ]
      },
      {
       "output_type": "stream",
       "stream": "stdout",
       "text": [
        "\n",
        "Score: 0.0432 for 25 and 20"
       ]
      },
      {
       "output_type": "stream",
       "stream": "stdout",
       "text": [
        "\n",
        "Score: 0.0432 for 25 and 15"
       ]
      },
      {
       "output_type": "stream",
       "stream": "stdout",
       "text": [
        "\n",
        "Score: 0.0256 for 25 and 15"
       ]
      },
      {
       "output_type": "stream",
       "stream": "stdout",
       "text": [
        "\n",
        "Score: 0.0701 for 25 and 19"
       ]
      },
      {
       "output_type": "stream",
       "stream": "stdout",
       "text": [
        "\n",
        "Score: 0.0000 for 25 and 19 (Less than four matches)"
       ]
      },
      {
       "output_type": "stream",
       "stream": "stdout",
       "text": [
        "\n",
        "Score: 0.0000 for 25 and 21 (Less than four matches)"
       ]
      },
      {
       "output_type": "stream",
       "stream": "stdout",
       "text": [
        "\n",
        "Score: 0.0140 for 25 and 26"
       ]
      },
      {
       "output_type": "stream",
       "stream": "stdout",
       "text": [
        "\n",
        "Score: 0.0000 for 25 and 27 (Less than four matches)"
       ]
      },
      {
       "output_type": "stream",
       "stream": "stdout",
       "text": [
        "\n",
        "Score: 0.0149 for 25 and 15"
       ]
      },
      {
       "output_type": "stream",
       "stream": "stdout",
       "text": [
        "\n",
        "Score: 0.0179 for 25 and 15"
       ]
      },
      {
       "output_type": "stream",
       "stream": "stdout",
       "text": [
        "\n",
        "Score: 0.0000 for 25 and 21 (Less than four matches)"
       ]
      },
      {
       "output_type": "stream",
       "stream": "stdout",
       "text": [
        "\n",
        "Score: 0.0000 for 25 and 15 (Less than four matches)"
       ]
      },
      {
       "output_type": "stream",
       "stream": "stdout",
       "text": [
        "\n",
        "Score: 0.0166 for 25 and 16"
       ]
      },
      {
       "output_type": "stream",
       "stream": "stdout",
       "text": [
        "\n",
        "Score: 0.0000 for 25 and 17 (Less than four matches)"
       ]
      },
      {
       "output_type": "stream",
       "stream": "stdout",
       "text": [
        "\n",
        "['../../images/testsets/Gallagher_small_unresized/25_694.jpg', '../../images/testsets/Gallagher_small_unresized/28_537.jpg']\n",
        "No descriptors found. Returning score 0\n",
        "Score: 0.0207 for 25 and 27"
       ]
      },
      {
       "output_type": "stream",
       "stream": "stdout",
       "text": [
        "\n",
        "Score: 0.0000 for 25 and 13 (Less than four matches)"
       ]
      },
      {
       "output_type": "stream",
       "stream": "stdout",
       "text": [
        "\n",
        "Score: 0.0237 for 25 and 23"
       ]
      },
      {
       "output_type": "stream",
       "stream": "stdout",
       "text": [
        "\n",
        "Score: 0.0208 for 25 and 32"
       ]
      },
      {
       "output_type": "stream",
       "stream": "stdout",
       "text": [
        "\n",
        "Score: 0.0107 for 25 and 30"
       ]
      },
      {
       "output_type": "stream",
       "stream": "stdout",
       "text": [
        "\n",
        "Score: 0.0000 for 25 and 28 (Less than four matches)"
       ]
      },
      {
       "output_type": "stream",
       "stream": "stdout",
       "text": [
        "\n",
        "Score: 0.0000 for 25 and 30 (Less than four matches)"
       ]
      },
      {
       "output_type": "stream",
       "stream": "stdout",
       "text": [
        "\n",
        "Score: 0.0000 for 25 and 26 (Less than four matches)"
       ]
      },
      {
       "output_type": "stream",
       "stream": "stdout",
       "text": [
        "\n",
        "Score: 0.0559 for 25 and 15"
       ]
      },
      {
       "output_type": "stream",
       "stream": "stdout",
       "text": [
        "\n",
        "Score: 0.0000 for 25 and 21 (Less than four matches)"
       ]
      },
      {
       "output_type": "stream",
       "stream": "stdout",
       "text": [
        "\n",
        "Score: 0.0000 for 25 and 24 (Less than four matches)"
       ]
      },
      {
       "output_type": "stream",
       "stream": "stdout",
       "text": [
        "\n",
        "Score: 0.0000 for 25 and 17 (Less than four matches)"
       ]
      },
      {
       "output_type": "stream",
       "stream": "stdout",
       "text": [
        "\n",
        "Score: 0.0000 for 25 and 14 (Less than four matches)"
       ]
      },
      {
       "output_type": "stream",
       "stream": "stdout",
       "text": [
        "\n",
        "Score: 0.0000 for 25 and 28 (Less than four matches)"
       ]
      },
      {
       "output_type": "stream",
       "stream": "stdout",
       "text": [
        "\n",
        "Score: 0.0000 for 25 and 27 (Less than four matches)"
       ]
      },
      {
       "output_type": "stream",
       "stream": "stdout",
       "text": [
        "\n",
        "Score: 0.0000 for 25 and 22 (Less than four matches)"
       ]
      },
      {
       "output_type": "stream",
       "stream": "stdout",
       "text": [
        "\n",
        "Score: 0.0000 for 25 and 29 (Less than four matches)"
       ]
      },
      {
       "output_type": "stream",
       "stream": "stdout",
       "text": [
        "\n",
        "Score: 0.0000 for 25 and 15 (Less than four matches)"
       ]
      },
      {
       "output_type": "stream",
       "stream": "stdout",
       "text": [
        "\n",
        "Score: 0.0342 for 25 and 25"
       ]
      },
      {
       "output_type": "stream",
       "stream": "stdout",
       "text": [
        "\n",
        "Score: 0.0104 for 25 and 23"
       ]
      },
      {
       "output_type": "stream",
       "stream": "stdout",
       "text": [
        "\n",
        "Score: 0.0000 for 25 and 16 (Less than four matches)"
       ]
      },
      {
       "output_type": "stream",
       "stream": "stdout",
       "text": [
        "\n",
        "Score: 0.0000 for 25 and 18 (Less than four matches)"
       ]
      },
      {
       "output_type": "stream",
       "stream": "stdout",
       "text": [
        "\n",
        "Score: 0.0000 for 25 and 25 (Less than four matches)"
       ]
      },
      {
       "output_type": "stream",
       "stream": "stdout",
       "text": [
        "\n",
        "Score: 0.0118 for 25 and 32"
       ]
      },
      {
       "output_type": "stream",
       "stream": "stdout",
       "text": [
        "\n",
        "Score: 0.0169 for 25 and 19"
       ]
      },
      {
       "output_type": "stream",
       "stream": "stdout",
       "text": [
        "\n",
        "Score: 0.0071 for 25 and 21"
       ]
      },
      {
       "output_type": "stream",
       "stream": "stdout",
       "text": [
        "\n",
        "Score: 0.0295 for 25 and 14"
       ]
      },
      {
       "output_type": "stream",
       "stream": "stdout",
       "text": [
        "\n",
        "Score: 0.0000 for 25 and 26 (Less than four matches)"
       ]
      },
      {
       "output_type": "stream",
       "stream": "stdout",
       "text": [
        "\n",
        "Score: 0.0000 for 25 and 22 (Less than four matches)"
       ]
      },
      {
       "output_type": "stream",
       "stream": "stdout",
       "text": [
        "\n",
        "Score: 0.0000 for 25 and 29 (Less than four matches)"
       ]
      },
      {
       "output_type": "stream",
       "stream": "stdout",
       "text": [
        "\n",
        "Score: 0.0000 for 25 and 13 (Less than four matches)"
       ]
      },
      {
       "output_type": "stream",
       "stream": "stdout",
       "text": [
        "\n",
        "Score: 0.0066 for 25 and 28"
       ]
      },
      {
       "output_type": "stream",
       "stream": "stdout",
       "text": [
        "\n",
        "Score: 0.0000 for 25 and 13 (Less than four matches)"
       ]
      },
      {
       "output_type": "stream",
       "stream": "stdout",
       "text": [
        "\n",
        "Score: 0.0000 for 25 and 14 (Less than four matches)"
       ]
      },
      {
       "output_type": "stream",
       "stream": "stdout",
       "text": [
        "\n",
        "Score: 0.0000 for 25 and 14 (Less than four matches)"
       ]
      },
      {
       "output_type": "stream",
       "stream": "stdout",
       "text": [
        "\n",
        "Score: 0.0000 for 25 and 27 (Less than four matches)"
       ]
      },
      {
       "output_type": "stream",
       "stream": "stdout",
       "text": [
        "\n",
        "Score: 0.0345 for 25 and 17"
       ]
      },
      {
       "output_type": "stream",
       "stream": "stdout",
       "text": [
        "\n",
        "Score: 0.0000 for 25 and 19 (Less than four matches)"
       ]
      },
      {
       "output_type": "stream",
       "stream": "stdout",
       "text": [
        "\n",
        "Score: 0.0272 for 25 and 31"
       ]
      },
      {
       "output_type": "stream",
       "stream": "stdout",
       "text": [
        "\n",
        "Score: 0.0000 for 25 and 21 (Less than four matches)"
       ]
      },
      {
       "output_type": "stream",
       "stream": "stdout",
       "text": [
        "\n",
        "Score: 0.0196 for 25 and 23"
       ]
      },
      {
       "output_type": "stream",
       "stream": "stdout",
       "text": [
        "\n",
        "Score: 0.0000 for 25 and 25 (Less than four matches)"
       ]
      },
      {
       "output_type": "stream",
       "stream": "stdout",
       "text": [
        "\n",
        "Score: 0.0000 for 25 and 23 (Less than four matches)"
       ]
      },
      {
       "output_type": "stream",
       "stream": "stdout",
       "text": [
        "\n",
        "Score: 0.0395 for 25 and 31"
       ]
      },
      {
       "output_type": "stream",
       "stream": "stdout",
       "text": [
        "\n",
        "Score: 0.0000 for 25 and 15 (Less than four matches)"
       ]
      },
      {
       "output_type": "stream",
       "stream": "stdout",
       "text": [
        "\n",
        "Score: 0.0000 for 25 and 23 (Less than four matches)"
       ]
      },
      {
       "output_type": "stream",
       "stream": "stdout",
       "text": [
        "\n",
        "Score: 0.0209 for 25 and 18"
       ]
      },
      {
       "output_type": "stream",
       "stream": "stdout",
       "text": [
        "\n",
        "Score: 0.0189 for 25 and 15"
       ]
      },
      {
       "output_type": "stream",
       "stream": "stdout",
       "text": [
        "\n",
        "Score: 0.0000 for 25 and 16 (Less than four matches)"
       ]
      },
      {
       "output_type": "stream",
       "stream": "stdout",
       "text": [
        "\n",
        "Score: 0.0324 for 25 and 23"
       ]
      },
      {
       "output_type": "stream",
       "stream": "stdout",
       "text": [
        "\n",
        "Score: 0.0250 for 25 and 23"
       ]
      },
      {
       "output_type": "stream",
       "stream": "stdout",
       "text": [
        "\n",
        "Score: 0.0000 for 25 and 32 (Less than four matches)"
       ]
      },
      {
       "output_type": "stream",
       "stream": "stdout",
       "text": [
        "\n",
        "Score: 0.0504 for 25 and 15"
       ]
      },
      {
       "output_type": "stream",
       "stream": "stdout",
       "text": [
        "\n",
        "Score: 0.0000 for 25 and 24 (Less than four matches)"
       ]
      },
      {
       "output_type": "stream",
       "stream": "stdout",
       "text": [
        "\n",
        "Score: 0.0000 for 25 and 25 (Less than four matches)"
       ]
      },
      {
       "output_type": "stream",
       "stream": "stdout",
       "text": [
        "\n",
        "Score: 0.0000 for 25 and 30 (Less than four matches)"
       ]
      },
      {
       "output_type": "stream",
       "stream": "stdout",
       "text": [
        "\n",
        "Score: 0.0219 for 25 and 32"
       ]
      },
      {
       "output_type": "stream",
       "stream": "stdout",
       "text": [
        "\n",
        "['../../images/testsets/Gallagher_small_unresized/25_696.jpg', '../../images/testsets/Gallagher_small_unresized/29_538.jpg']\n",
        "No descriptors found. Returning score 0\n",
        "Score: 0.0198 for 25 and 21"
       ]
      },
      {
       "output_type": "stream",
       "stream": "stdout",
       "text": [
        "\n",
        "Score: 0.0459 for 25 and 20"
       ]
      },
      {
       "output_type": "stream",
       "stream": "stdout",
       "text": [
        "\n",
        "Score: 0.0544 for 25 and 15"
       ]
      },
      {
       "output_type": "stream",
       "stream": "stdout",
       "text": [
        "\n",
        "Score: 0.0000 for 25 and 15 (Less than four matches)"
       ]
      },
      {
       "output_type": "stream",
       "stream": "stdout",
       "text": [
        "\n",
        "Score: 0.0328 for 25 and 19"
       ]
      },
      {
       "output_type": "stream",
       "stream": "stdout",
       "text": [
        "\n",
        "Score: 0.0000 for 25 and 19 (Less than four matches)"
       ]
      },
      {
       "output_type": "stream",
       "stream": "stdout",
       "text": [
        "\n",
        "Score: 0.0000 for 25 and 21 (Less than four matches)"
       ]
      },
      {
       "output_type": "stream",
       "stream": "stdout",
       "text": [
        "\n",
        "Score: 0.0000 for 25 and 26 (Less than four matches)"
       ]
      },
      {
       "output_type": "stream",
       "stream": "stdout",
       "text": [
        "\n",
        "Score: 0.0428 for 25 and 27"
       ]
      },
      {
       "output_type": "stream",
       "stream": "stdout",
       "text": [
        "\n",
        "Score: 0.0228 for 25 and 15"
       ]
      },
      {
       "output_type": "stream",
       "stream": "stdout",
       "text": [
        "\n",
        "Score: 0.0000 for 25 and 15 (Less than four matches)"
       ]
      },
      {
       "output_type": "stream",
       "stream": "stdout",
       "text": [
        "\n",
        "Score: 0.0000 for 25 and 21 (Less than four matches)"
       ]
      },
      {
       "output_type": "stream",
       "stream": "stdout",
       "text": [
        "\n",
        "Score: 0.0000 for 25 and 15 (Less than four matches)"
       ]
      },
      {
       "output_type": "stream",
       "stream": "stdout",
       "text": [
        "\n",
        "Score: 0.0000 for 25 and 16 (Less than four matches)"
       ]
      },
      {
       "output_type": "stream",
       "stream": "stdout",
       "text": [
        "\n",
        "Score: 0.0000 for 25 and 17 (Less than four matches)"
       ]
      },
      {
       "output_type": "stream",
       "stream": "stdout",
       "text": [
        "\n",
        "['../../images/testsets/Gallagher_small_unresized/25_696.jpg', '../../images/testsets/Gallagher_small_unresized/28_537.jpg']\n",
        "No descriptors found. Returning score 0\n",
        "Score: 0.0000 for 25 and 27 (Less than four matches)"
       ]
      },
      {
       "output_type": "stream",
       "stream": "stdout",
       "text": [
        "\n",
        "Score: 0.0815 for 25 and 13"
       ]
      },
      {
       "output_type": "stream",
       "stream": "stdout",
       "text": [
        "\n",
        "Score: 0.0233 for 25 and 23"
       ]
      },
      {
       "output_type": "stream",
       "stream": "stdout",
       "text": [
        "\n",
        "Score: 0.0000 for 32 and 30 (Less than four matches)"
       ]
      },
      {
       "output_type": "stream",
       "stream": "stdout",
       "text": [
        "\n",
        "Score: 0.0000 for 32 and 28 (Less than four matches)"
       ]
      },
      {
       "output_type": "stream",
       "stream": "stdout",
       "text": [
        "\n",
        "Score: 0.0000 for 32 and 30 (Less than four matches)"
       ]
      },
      {
       "output_type": "stream",
       "stream": "stdout",
       "text": [
        "\n",
        "Score: 0.0000 for 32 and 26 (Less than four matches)"
       ]
      },
      {
       "output_type": "stream",
       "stream": "stdout",
       "text": [
        "\n",
        "Score: 0.0487 for 32 and 15"
       ]
      },
      {
       "output_type": "stream",
       "stream": "stdout",
       "text": [
        "\n",
        "Score: 0.0000 for 32 and 21 (Less than four matches)"
       ]
      },
      {
       "output_type": "stream",
       "stream": "stdout",
       "text": [
        "\n",
        "Score: 0.0483 for 32 and 24"
       ]
      },
      {
       "output_type": "stream",
       "stream": "stdout",
       "text": [
        "\n",
        "Score: 0.0000 for 32 and 17 (Less than four matches)"
       ]
      },
      {
       "output_type": "stream",
       "stream": "stdout",
       "text": [
        "\n",
        "Score: 0.0231 for 32 and 14"
       ]
      },
      {
       "output_type": "stream",
       "stream": "stdout",
       "text": [
        "\n",
        "Score: 0.0000 for 32 and 28 (Less than four matches)"
       ]
      },
      {
       "output_type": "stream",
       "stream": "stdout",
       "text": [
        "\n",
        "Score: 0.0000 for 32 and 27 (Less than four matches)"
       ]
      },
      {
       "output_type": "stream",
       "stream": "stdout",
       "text": [
        "\n",
        "Score: 0.0000 for 32 and 22 (Less than four matches)"
       ]
      },
      {
       "output_type": "stream",
       "stream": "stdout",
       "text": [
        "\n",
        "Score: 0.0320 for 32 and 29"
       ]
      },
      {
       "output_type": "stream",
       "stream": "stdout",
       "text": [
        "\n",
        "Score: 0.0084 for 32 and 15"
       ]
      },
      {
       "output_type": "stream",
       "stream": "stdout",
       "text": [
        "\n",
        "Score: 0.0722 for 32 and 25"
       ]
      },
      {
       "output_type": "stream",
       "stream": "stdout",
       "text": [
        "\n",
        "Score: 0.0268 for 32 and 23"
       ]
      },
      {
       "output_type": "stream",
       "stream": "stdout",
       "text": [
        "\n",
        "Score: 0.0000 for 32 and 16 (Less than four matches)"
       ]
      },
      {
       "output_type": "stream",
       "stream": "stdout",
       "text": [
        "\n",
        "Score: 0.0000 for 32 and 18 (Less than four matches)"
       ]
      },
      {
       "output_type": "stream",
       "stream": "stdout",
       "text": [
        "\n",
        "Score: 0.0520 for 32 and 25"
       ]
      },
      {
       "output_type": "stream",
       "stream": "stdout",
       "text": [
        "\n",
        "Score: 0.0647 for 32 and 32"
       ]
      },
      {
       "output_type": "stream",
       "stream": "stdout",
       "text": [
        "\n",
        "Score: 0.0359 for 32 and 19"
       ]
      },
      {
       "output_type": "stream",
       "stream": "stdout",
       "text": [
        "\n",
        "Score: 0.0290 for 32 and 21"
       ]
      },
      {
       "output_type": "stream",
       "stream": "stdout",
       "text": [
        "\n",
        "Score: 0.0496 for 32 and 14"
       ]
      },
      {
       "output_type": "stream",
       "stream": "stdout",
       "text": [
        "\n",
        "Score: 0.0000 for 32 and 26 (Less than four matches)"
       ]
      },
      {
       "output_type": "stream",
       "stream": "stdout",
       "text": [
        "\n",
        "Score: 0.0000 for 32 and 22 (Less than four matches)"
       ]
      },
      {
       "output_type": "stream",
       "stream": "stdout",
       "text": [
        "\n",
        "Score: 0.0000 for 32 and 29 (Less than four matches)"
       ]
      },
      {
       "output_type": "stream",
       "stream": "stdout",
       "text": [
        "\n",
        "Score: 0.0169 for 32 and 13"
       ]
      },
      {
       "output_type": "stream",
       "stream": "stdout",
       "text": [
        "\n",
        "Score: 0.0000 for 32 and 28 (Less than four matches)"
       ]
      },
      {
       "output_type": "stream",
       "stream": "stdout",
       "text": [
        "\n",
        "Score: 0.0423 for 32 and 13"
       ]
      },
      {
       "output_type": "stream",
       "stream": "stdout",
       "text": [
        "\n",
        "Score: 0.0060 for 32 and 14"
       ]
      },
      {
       "output_type": "stream",
       "stream": "stdout",
       "text": [
        "\n",
        "Score: 0.0345 for 32 and 14"
       ]
      },
      {
       "output_type": "stream",
       "stream": "stdout",
       "text": [
        "\n",
        "Score: 0.0103 for 32 and 27"
       ]
      },
      {
       "output_type": "stream",
       "stream": "stdout",
       "text": [
        "\n",
        "Score: 0.0500 for 32 and 17"
       ]
      },
      {
       "output_type": "stream",
       "stream": "stdout",
       "text": [
        "\n",
        "Score: 0.0304 for 32 and 19"
       ]
      },
      {
       "output_type": "stream",
       "stream": "stdout",
       "text": [
        "\n",
        "Score: 0.0352 for 32 and 31"
       ]
      },
      {
       "output_type": "stream",
       "stream": "stdout",
       "text": [
        "\n",
        "Score: 0.0261 for 32 and 21"
       ]
      },
      {
       "output_type": "stream",
       "stream": "stdout",
       "text": [
        "\n",
        "Score: 0.0499 for 32 and 23"
       ]
      },
      {
       "output_type": "stream",
       "stream": "stdout",
       "text": [
        "\n",
        "Score: 0.0000 for 32 and 25 (Less than four matches)"
       ]
      },
      {
       "output_type": "stream",
       "stream": "stdout",
       "text": [
        "\n",
        "Score: 0.0000 for 32 and 23 (Less than four matches)"
       ]
      },
      {
       "output_type": "stream",
       "stream": "stdout",
       "text": [
        "\n",
        "Score: 0.0118 for 32 and 31"
       ]
      },
      {
       "output_type": "stream",
       "stream": "stdout",
       "text": [
        "\n",
        "Score: 0.0000 for 32 and 15 (Less than four matches)"
       ]
      },
      {
       "output_type": "stream",
       "stream": "stdout",
       "text": [
        "\n",
        "Score: 0.0000 for 32 and 23 (Less than four matches)"
       ]
      },
      {
       "output_type": "stream",
       "stream": "stdout",
       "text": [
        "\n",
        "Score: 0.0161 for 32 and 18"
       ]
      },
      {
       "output_type": "stream",
       "stream": "stdout",
       "text": [
        "\n",
        "Score: 0.0240 for 32 and 15"
       ]
      },
      {
       "output_type": "stream",
       "stream": "stdout",
       "text": [
        "\n",
        "Score: 0.0699 for 32 and 16"
       ]
      },
      {
       "output_type": "stream",
       "stream": "stdout",
       "text": [
        "\n",
        "Score: 0.0000 for 32 and 23 (Less than four matches)"
       ]
      },
      {
       "output_type": "stream",
       "stream": "stdout",
       "text": [
        "\n",
        "Score: 0.0000 for 32 and 23 (Less than four matches)"
       ]
      },
      {
       "output_type": "stream",
       "stream": "stdout",
       "text": [
        "\n",
        "Score: 0.0000 for 32 and 32 (Less than four matches)"
       ]
      },
      {
       "output_type": "stream",
       "stream": "stdout",
       "text": [
        "\n",
        "Score: 0.0183 for 32 and 15"
       ]
      },
      {
       "output_type": "stream",
       "stream": "stdout",
       "text": [
        "\n",
        "Score: 0.0173 for 32 and 24"
       ]
      },
      {
       "output_type": "stream",
       "stream": "stdout",
       "text": [
        "\n",
        "Score: 0.0000 for 32 and 25 (Less than four matches)"
       ]
      },
      {
       "output_type": "stream",
       "stream": "stdout",
       "text": [
        "\n",
        "Score: 0.0000 for 32 and 30 (Less than four matches)"
       ]
      },
      {
       "output_type": "stream",
       "stream": "stdout",
       "text": [
        "\n",
        "Score: 0.0344 for 32 and 32"
       ]
      },
      {
       "output_type": "stream",
       "stream": "stdout",
       "text": [
        "\n",
        "['../../images/testsets/Gallagher_small_unresized/32_639.jpg', '../../images/testsets/Gallagher_small_unresized/29_538.jpg']\n",
        "No descriptors found. Returning score 0\n",
        "Score: 0.0196 for 32 and 21"
       ]
      },
      {
       "output_type": "stream",
       "stream": "stdout",
       "text": [
        "\n",
        "Score: 0.0278 for 32 and 20"
       ]
      },
      {
       "output_type": "stream",
       "stream": "stdout",
       "text": [
        "\n",
        "Score: 0.0689 for 32 and 15"
       ]
      },
      {
       "output_type": "stream",
       "stream": "stdout",
       "text": [
        "\n",
        "Score: 0.0473 for 32 and 15"
       ]
      },
      {
       "output_type": "stream",
       "stream": "stdout",
       "text": [
        "\n",
        "Score: 0.1055 for 32 and 19"
       ]
      },
      {
       "output_type": "stream",
       "stream": "stdout",
       "text": [
        "\n",
        "Score: 0.0298 for 32 and 19"
       ]
      },
      {
       "output_type": "stream",
       "stream": "stdout",
       "text": [
        "\n",
        "Score: 0.0000 for 32 and 21 (Less than four matches)"
       ]
      },
      {
       "output_type": "stream",
       "stream": "stdout",
       "text": [
        "\n",
        "Score: 0.0000 for 32 and 26 (Less than four matches)"
       ]
      },
      {
       "output_type": "stream",
       "stream": "stdout",
       "text": [
        "\n",
        "Score: 0.0262 for 32 and 27"
       ]
      },
      {
       "output_type": "stream",
       "stream": "stdout",
       "text": [
        "\n",
        "Score: 0.0000 for 32 and 15 (Less than four matches)"
       ]
      },
      {
       "output_type": "stream",
       "stream": "stdout",
       "text": [
        "\n",
        "Score: 0.0000 for 32 and 15 (Less than four matches)"
       ]
      },
      {
       "output_type": "stream",
       "stream": "stdout",
       "text": [
        "\n",
        "Score: 0.0000 for 32 and 21 (Less than four matches)"
       ]
      },
      {
       "output_type": "stream",
       "stream": "stdout",
       "text": [
        "\n",
        "Score: 0.0000 for 32 and 15 (Less than four matches)"
       ]
      },
      {
       "output_type": "stream",
       "stream": "stdout",
       "text": [
        "\n",
        "Score: 0.0491 for 32 and 16"
       ]
      },
      {
       "output_type": "stream",
       "stream": "stdout",
       "text": [
        "\n",
        "Score: 0.0000 for 32 and 17 (Less than four matches)"
       ]
      },
      {
       "output_type": "stream",
       "stream": "stdout",
       "text": [
        "\n",
        "['../../images/testsets/Gallagher_small_unresized/32_639.jpg', '../../images/testsets/Gallagher_small_unresized/28_537.jpg']\n",
        "No descriptors found. Returning score 0\n",
        "Score: 0.0000 for 32 and 27 (Less than four matches)"
       ]
      },
      {
       "output_type": "stream",
       "stream": "stdout",
       "text": [
        "\n",
        "Score: 0.0000 for 32 and 13 (Less than four matches)"
       ]
      },
      {
       "output_type": "stream",
       "stream": "stdout",
       "text": [
        "\n",
        "Score: 0.0226 for 32 and 23"
       ]
      },
      {
       "output_type": "stream",
       "stream": "stdout",
       "text": [
        "\n",
        "Score: 0.0302 for 30 and 28"
       ]
      },
      {
       "output_type": "stream",
       "stream": "stdout",
       "text": [
        "\n",
        "Score: 0.0000 for 30 and 30 (Less than four matches)"
       ]
      },
      {
       "output_type": "stream",
       "stream": "stdout",
       "text": [
        "\n",
        "Score: 0.0485 for 30 and 26"
       ]
      },
      {
       "output_type": "stream",
       "stream": "stdout",
       "text": [
        "\n",
        "Score: 0.0263 for 30 and 15"
       ]
      },
      {
       "output_type": "stream",
       "stream": "stdout",
       "text": [
        "\n",
        "Score: 0.0198 for 30 and 21"
       ]
      },
      {
       "output_type": "stream",
       "stream": "stdout",
       "text": [
        "\n",
        "Score: 0.0103 for 30 and 24"
       ]
      },
      {
       "output_type": "stream",
       "stream": "stdout",
       "text": [
        "\n",
        "Score: 0.0378 for 30 and 17"
       ]
      },
      {
       "output_type": "stream",
       "stream": "stdout",
       "text": [
        "\n",
        "Score: 0.0108 for 30 and 14"
       ]
      },
      {
       "output_type": "stream",
       "stream": "stdout",
       "text": [
        "\n",
        "Score: 0.0284 for 30 and 28"
       ]
      },
      {
       "output_type": "stream",
       "stream": "stdout",
       "text": [
        "\n",
        "Score: 0.0427 for 30 and 27"
       ]
      },
      {
       "output_type": "stream",
       "stream": "stdout",
       "text": [
        "\n",
        "Score: 0.0000 for 30 and 22 (Less than four matches)"
       ]
      },
      {
       "output_type": "stream",
       "stream": "stdout",
       "text": [
        "\n",
        "Score: 0.0239 for 30 and 29"
       ]
      },
      {
       "output_type": "stream",
       "stream": "stdout",
       "text": [
        "\n",
        "Score: 0.0138 for 30 and 15"
       ]
      },
      {
       "output_type": "stream",
       "stream": "stdout",
       "text": [
        "\n",
        "Score: 0.0127 for 30 and 25"
       ]
      },
      {
       "output_type": "stream",
       "stream": "stdout",
       "text": [
        "\n",
        "Score: 0.0145 for 30 and 23"
       ]
      },
      {
       "output_type": "stream",
       "stream": "stdout",
       "text": [
        "\n",
        "Score: 0.0000 for 30 and 16 (Less than four matches)"
       ]
      },
      {
       "output_type": "stream",
       "stream": "stdout",
       "text": [
        "\n",
        "Score: 0.0000 for 30 and 18 (Less than four matches)"
       ]
      },
      {
       "output_type": "stream",
       "stream": "stdout",
       "text": [
        "\n",
        "Score: 0.0293 for 30 and 25"
       ]
      },
      {
       "output_type": "stream",
       "stream": "stdout",
       "text": [
        "\n",
        "Score: 0.0382 for 30 and 32"
       ]
      },
      {
       "output_type": "stream",
       "stream": "stdout",
       "text": [
        "\n",
        "Score: 0.0026 for 30 and 19"
       ]
      },
      {
       "output_type": "stream",
       "stream": "stdout",
       "text": [
        "\n",
        "Score: 0.0349 for 30 and 21"
       ]
      },
      {
       "output_type": "stream",
       "stream": "stdout",
       "text": [
        "\n",
        "Score: 0.0000 for 30 and 14 (Less than four matches)"
       ]
      },
      {
       "output_type": "stream",
       "stream": "stdout",
       "text": [
        "\n",
        "Score: 0.0000 for 30 and 26 (Less than four matches)"
       ]
      },
      {
       "output_type": "stream",
       "stream": "stdout",
       "text": [
        "\n",
        "Score: 0.0000 for 30 and 22 (Less than four matches)"
       ]
      },
      {
       "output_type": "stream",
       "stream": "stdout",
       "text": [
        "\n",
        "Score: 0.0351 for 30 and 29"
       ]
      },
      {
       "output_type": "stream",
       "stream": "stdout",
       "text": [
        "\n",
        "Score: 0.0030 for 30 and 13"
       ]
      },
      {
       "output_type": "stream",
       "stream": "stdout",
       "text": [
        "\n",
        "Score: 0.0306 for 30 and 28"
       ]
      },
      {
       "output_type": "stream",
       "stream": "stdout",
       "text": [
        "\n",
        "Score: 0.0000 for 30 and 13 (Less than four matches)"
       ]
      },
      {
       "output_type": "stream",
       "stream": "stdout",
       "text": [
        "\n",
        "Score: 0.0000 for 30 and 14 (Less than four matches)"
       ]
      },
      {
       "output_type": "stream",
       "stream": "stdout",
       "text": [
        "\n",
        "Score: 0.0000 for 30 and 14 (Less than four matches)"
       ]
      },
      {
       "output_type": "stream",
       "stream": "stdout",
       "text": [
        "\n",
        "Score: 0.0374 for 30 and 27"
       ]
      },
      {
       "output_type": "stream",
       "stream": "stdout",
       "text": [
        "\n",
        "Score: 0.0231 for 30 and 17"
       ]
      },
      {
       "output_type": "stream",
       "stream": "stdout",
       "text": [
        "\n",
        "Score: 0.0000 for 30 and 19 (Less than four matches)"
       ]
      },
      {
       "output_type": "stream",
       "stream": "stdout",
       "text": [
        "\n",
        "Score: 0.0321 for 30 and 31"
       ]
      },
      {
       "output_type": "stream",
       "stream": "stdout",
       "text": [
        "\n",
        "Score: 0.0333 for 30 and 21"
       ]
      },
      {
       "output_type": "stream",
       "stream": "stdout",
       "text": [
        "\n",
        "Score: 0.0000 for 30 and 23 (Less than four matches)"
       ]
      },
      {
       "output_type": "stream",
       "stream": "stdout",
       "text": [
        "\n",
        "Score: 0.0230 for 30 and 25"
       ]
      },
      {
       "output_type": "stream",
       "stream": "stdout",
       "text": [
        "\n",
        "Score: 0.0000 for 30 and 23 (Less than four matches)"
       ]
      },
      {
       "output_type": "stream",
       "stream": "stdout",
       "text": [
        "\n",
        "Score: 0.0247 for 30 and 31"
       ]
      },
      {
       "output_type": "stream",
       "stream": "stdout",
       "text": [
        "\n",
        "Score: 0.0245 for 30 and 15"
       ]
      },
      {
       "output_type": "stream",
       "stream": "stdout",
       "text": [
        "\n",
        "Score: 0.0227 for 30 and 23"
       ]
      },
      {
       "output_type": "stream",
       "stream": "stdout",
       "text": [
        "\n",
        "Score: 0.0000 for 30 and 18 (Less than four matches)"
       ]
      },
      {
       "output_type": "stream",
       "stream": "stdout",
       "text": [
        "\n",
        "Score: 0.0000 for 30 and 15 (Less than four matches)"
       ]
      },
      {
       "output_type": "stream",
       "stream": "stdout",
       "text": [
        "\n",
        "Score: 0.0116 for 30 and 16"
       ]
      },
      {
       "output_type": "stream",
       "stream": "stdout",
       "text": [
        "\n",
        "Score: 0.0223 for 30 and 23"
       ]
      },
      {
       "output_type": "stream",
       "stream": "stdout",
       "text": [
        "\n",
        "Score: 0.0438 for 30 and 23"
       ]
      },
      {
       "output_type": "stream",
       "stream": "stdout",
       "text": [
        "\n",
        "Score: 0.0000 for 30 and 32 (Less than four matches)"
       ]
      },
      {
       "output_type": "stream",
       "stream": "stdout",
       "text": [
        "\n",
        "Score: 0.0150 for 30 and 15"
       ]
      },
      {
       "output_type": "stream",
       "stream": "stdout",
       "text": [
        "\n",
        "Score: 0.0000 for 30 and 24 (Less than four matches)"
       ]
      },
      {
       "output_type": "stream",
       "stream": "stdout",
       "text": [
        "\n",
        "Score: 0.0261 for 30 and 25"
       ]
      },
      {
       "output_type": "stream",
       "stream": "stdout",
       "text": [
        "\n",
        "Score: 0.0728 for 30 and 30"
       ]
      },
      {
       "output_type": "stream",
       "stream": "stdout",
       "text": [
        "\n",
        "Score: 0.0000 for 30 and 32 (Less than four matches)"
       ]
      },
      {
       "output_type": "stream",
       "stream": "stdout",
       "text": [
        "\n",
        "['../../images/testsets/Gallagher_small_unresized/30_554.jpg', '../../images/testsets/Gallagher_small_unresized/29_538.jpg']\n",
        "No descriptors found. Returning score 0\n",
        "Score: 0.0231 for 30 and 21"
       ]
      },
      {
       "output_type": "stream",
       "stream": "stdout",
       "text": [
        "\n",
        "Score: 0.0188 for 30 and 20"
       ]
      },
      {
       "output_type": "stream",
       "stream": "stdout",
       "text": [
        "\n",
        "Score: 0.0174 for 30 and 15"
       ]
      },
      {
       "output_type": "stream",
       "stream": "stdout",
       "text": [
        "\n",
        "Score: 0.0269 for 30 and 15"
       ]
      },
      {
       "output_type": "stream",
       "stream": "stdout",
       "text": [
        "\n",
        "Score: 0.0000 for 30 and 19 (Less than four matches)"
       ]
      },
      {
       "output_type": "stream",
       "stream": "stdout",
       "text": [
        "\n",
        "Score: 0.0111 for 30 and 19"
       ]
      },
      {
       "output_type": "stream",
       "stream": "stdout",
       "text": [
        "\n",
        "Score: 0.0079 for 30 and 21"
       ]
      },
      {
       "output_type": "stream",
       "stream": "stdout",
       "text": [
        "\n",
        "Score: 0.0121 for 30 and 26"
       ]
      },
      {
       "output_type": "stream",
       "stream": "stdout",
       "text": [
        "\n",
        "Score: 0.0750 for 30 and 27"
       ]
      },
      {
       "output_type": "stream",
       "stream": "stdout",
       "text": [
        "\n",
        "Score: 0.0226 for 30 and 15"
       ]
      },
      {
       "output_type": "stream",
       "stream": "stdout",
       "text": [
        "\n",
        "Score: 0.0218 for 30 and 15"
       ]
      },
      {
       "output_type": "stream",
       "stream": "stdout",
       "text": [
        "\n",
        "Score: 0.0356 for 30 and 21"
       ]
      },
      {
       "output_type": "stream",
       "stream": "stdout",
       "text": [
        "\n",
        "Score: 0.0000 for 30 and 15 (Less than four matches)"
       ]
      },
      {
       "output_type": "stream",
       "stream": "stdout",
       "text": [
        "\n",
        "Score: 0.0000 for 30 and 16 (Less than four matches)"
       ]
      },
      {
       "output_type": "stream",
       "stream": "stdout",
       "text": [
        "\n",
        "Score: 0.0215 for 30 and 17"
       ]
      },
      {
       "output_type": "stream",
       "stream": "stdout",
       "text": [
        "\n",
        "['../../images/testsets/Gallagher_small_unresized/30_554.jpg', '../../images/testsets/Gallagher_small_unresized/28_537.jpg']\n",
        "No descriptors found. Returning score 0\n",
        "Score: 0.0314 for 30 and 27"
       ]
      },
      {
       "output_type": "stream",
       "stream": "stdout",
       "text": [
        "\n",
        "Score: 0.0057 for 30 and 13"
       ]
      },
      {
       "output_type": "stream",
       "stream": "stdout",
       "text": [
        "\n",
        "Score: 0.0147 for 30 and 23"
       ]
      },
      {
       "output_type": "stream",
       "stream": "stdout",
       "text": [
        "\n",
        "Score: 0.0000 for 28 and 30 (Less than four matches)"
       ]
      },
      {
       "output_type": "stream",
       "stream": "stdout",
       "text": [
        "\n",
        "Score: 0.0076 for 28 and 26"
       ]
      },
      {
       "output_type": "stream",
       "stream": "stdout",
       "text": [
        "\n",
        "Score: 0.0089 for 28 and 15"
       ]
      },
      {
       "output_type": "stream",
       "stream": "stdout",
       "text": [
        "\n",
        "Score: 0.0248 for 28 and 21"
       ]
      },
      {
       "output_type": "stream",
       "stream": "stdout",
       "text": [
        "\n",
        "Score: 0.0000 for 28 and 24 (Less than four matches)"
       ]
      },
      {
       "output_type": "stream",
       "stream": "stdout",
       "text": [
        "\n",
        "Score: 0.0000 for 28 and 17 (Less than four matches)"
       ]
      },
      {
       "output_type": "stream",
       "stream": "stdout",
       "text": [
        "\n",
        "Score: 0.0000 for 28 and 14 (Less than four matches)"
       ]
      },
      {
       "output_type": "stream",
       "stream": "stdout",
       "text": [
        "\n",
        "Score: 0.0735 for 28 and 28"
       ]
      },
      {
       "output_type": "stream",
       "stream": "stdout",
       "text": [
        "\n",
        "Score: 0.0000 for 28 and 27 (Less than four matches)"
       ]
      },
      {
       "output_type": "stream",
       "stream": "stdout",
       "text": [
        "\n",
        "Score: 0.0000 for 28 and 22 (Less than four matches)"
       ]
      },
      {
       "output_type": "stream",
       "stream": "stdout",
       "text": [
        "\n",
        "Score: 0.0366 for 28 and 29"
       ]
      },
      {
       "output_type": "stream",
       "stream": "stdout",
       "text": [
        "\n",
        "Score: 0.0000 for 28 and 15 (Less than four matches)"
       ]
      },
      {
       "output_type": "stream",
       "stream": "stdout",
       "text": [
        "\n",
        "Score: 0.0000 for 28 and 25 (Less than four matches)"
       ]
      },
      {
       "output_type": "stream",
       "stream": "stdout",
       "text": [
        "\n",
        "Score: 0.0000 for 28 and 23 (Less than four matches)"
       ]
      },
      {
       "output_type": "stream",
       "stream": "stdout",
       "text": [
        "\n",
        "Score: 0.0000 for 28 and 16 (Less than four matches)"
       ]
      },
      {
       "output_type": "stream",
       "stream": "stdout",
       "text": [
        "\n",
        "Score: 0.0000 for 28 and 18 (Less than four matches)"
       ]
      },
      {
       "output_type": "stream",
       "stream": "stdout",
       "text": [
        "\n",
        "Score: 0.0000 for 28 and 25 (Less than four matches)"
       ]
      },
      {
       "output_type": "stream",
       "stream": "stdout",
       "text": [
        "\n",
        "Score: 0.0000 for 28 and 32 (Less than four matches)"
       ]
      },
      {
       "output_type": "stream",
       "stream": "stdout",
       "text": [
        "\n",
        "Score: 0.0000 for 28 and 19"
       ]
      },
      {
       "output_type": "stream",
       "stream": "stdout",
       "text": [
        "\n",
        "Score: 0.0100 for 28 and 21"
       ]
      },
      {
       "output_type": "stream",
       "stream": "stdout",
       "text": [
        "\n",
        "Score: 0.0000 for 28 and 14 (Less than four matches)"
       ]
      },
      {
       "output_type": "stream",
       "stream": "stdout",
       "text": [
        "\n",
        "Score: 0.0000 for 28 and 26 (Less than four matches)"
       ]
      },
      {
       "output_type": "stream",
       "stream": "stdout",
       "text": [
        "\n",
        "Score: 0.0000 for 28 and 22 (Less than four matches)"
       ]
      },
      {
       "output_type": "stream",
       "stream": "stdout",
       "text": [
        "\n",
        "Score: 0.0320 for 28 and 29"
       ]
      },
      {
       "output_type": "stream",
       "stream": "stdout",
       "text": [
        "\n",
        "Score: 0.0000 for 28 and 13 (Less than four matches)"
       ]
      },
      {
       "output_type": "stream",
       "stream": "stdout",
       "text": [
        "\n",
        "Score: 0.0465 for 28 and 28"
       ]
      },
      {
       "output_type": "stream",
       "stream": "stdout",
       "text": [
        "\n",
        "Score: 0.0000 for 28 and 13 (Less than four matches)"
       ]
      },
      {
       "output_type": "stream",
       "stream": "stdout",
       "text": [
        "\n",
        "Score: 0.0000 for 28 and 14 (Less than four matches)"
       ]
      },
      {
       "output_type": "stream",
       "stream": "stdout",
       "text": [
        "\n",
        "Score: 0.0000 for 28 and 14 (Less than four matches)"
       ]
      },
      {
       "output_type": "stream",
       "stream": "stdout",
       "text": [
        "\n",
        "Score: 0.0000 for 28 and 27 (Less than four matches)"
       ]
      },
      {
       "output_type": "stream",
       "stream": "stdout",
       "text": [
        "\n",
        "Score: 0.0000 for 28 and 17 (Less than four matches)"
       ]
      },
      {
       "output_type": "stream",
       "stream": "stdout",
       "text": [
        "\n",
        "Score: 0.0000 for 28 and 19 (Less than four matches)"
       ]
      },
      {
       "output_type": "stream",
       "stream": "stdout",
       "text": [
        "\n",
        "Score: 0.0000 for 28 and 31 (Less than four matches)"
       ]
      },
      {
       "output_type": "stream",
       "stream": "stdout",
       "text": [
        "\n",
        "Score: 0.0000 for 28 and 21 (Less than four matches)"
       ]
      },
      {
       "output_type": "stream",
       "stream": "stdout",
       "text": [
        "\n",
        "Score: 0.0000 for 28 and 23 (Less than four matches)"
       ]
      },
      {
       "output_type": "stream",
       "stream": "stdout",
       "text": [
        "\n",
        "Score: 0.0313 for 28 and 25"
       ]
      },
      {
       "output_type": "stream",
       "stream": "stdout",
       "text": [
        "\n",
        "Score: 0.0000 for 28 and 23 (Less than four matches)"
       ]
      },
      {
       "output_type": "stream",
       "stream": "stdout",
       "text": [
        "\n",
        "Score: 0.0000 for 28 and 31 (Less than four matches)"
       ]
      },
      {
       "output_type": "stream",
       "stream": "stdout",
       "text": [
        "\n",
        "Score: 0.0000 for 28 and 15 (Less than four matches)"
       ]
      },
      {
       "output_type": "stream",
       "stream": "stdout",
       "text": [
        "\n",
        "Score: 0.0000 for 28 and 23 (Less than four matches)"
       ]
      },
      {
       "output_type": "stream",
       "stream": "stdout",
       "text": [
        "\n",
        "Score: 0.0085 for 28 and 18"
       ]
      },
      {
       "output_type": "stream",
       "stream": "stdout",
       "text": [
        "\n",
        "Score: 0.0000 for 28 and 15 (Less than four matches)"
       ]
      },
      {
       "output_type": "stream",
       "stream": "stdout",
       "text": [
        "\n",
        "Score: 0.0000 for 28 and 16 (Less than four matches)"
       ]
      },
      {
       "output_type": "stream",
       "stream": "stdout",
       "text": [
        "\n",
        "Score: 0.0158 for 28 and 23"
       ]
      },
      {
       "output_type": "stream",
       "stream": "stdout",
       "text": [
        "\n",
        "Score: 0.0173 for 28 and 23"
       ]
      },
      {
       "output_type": "stream",
       "stream": "stdout",
       "text": [
        "\n",
        "Score: 0.0000 for 28 and 32 (Less than four matches)"
       ]
      },
      {
       "output_type": "stream",
       "stream": "stdout",
       "text": [
        "\n",
        "Score: 0.0000 for 28 and 15 (Less than four matches)"
       ]
      },
      {
       "output_type": "stream",
       "stream": "stdout",
       "text": [
        "\n",
        "Score: 0.0000 for 28 and 24"
       ]
      },
      {
       "output_type": "stream",
       "stream": "stdout",
       "text": [
        "\n",
        "Score: 0.0299 for 28 and 25"
       ]
      },
      {
       "output_type": "stream",
       "stream": "stdout",
       "text": [
        "\n",
        "Score: 0.0128 for 28 and 30"
       ]
      },
      {
       "output_type": "stream",
       "stream": "stdout",
       "text": [
        "\n",
        "Score: 0.0000 for 28 and 32 (Less than four matches)"
       ]
      },
      {
       "output_type": "stream",
       "stream": "stdout",
       "text": [
        "\n",
        "['../../images/testsets/Gallagher_small_unresized/28_525.jpg', '../../images/testsets/Gallagher_small_unresized/29_538.jpg']\n",
        "No descriptors found. Returning score 0\n",
        "Score: 0.0286 for 28 and 21"
       ]
      },
      {
       "output_type": "stream",
       "stream": "stdout",
       "text": [
        "\n",
        "Score: 0.0169 for 28 and 20"
       ]
      },
      {
       "output_type": "stream",
       "stream": "stdout",
       "text": [
        "\n",
        "Score: 0.0000 for 28 and 15"
       ]
      },
      {
       "output_type": "stream",
       "stream": "stdout",
       "text": [
        "\n",
        "Score: 0.0000 for 28 and 15 (Less than four matches)"
       ]
      },
      {
       "output_type": "stream",
       "stream": "stdout",
       "text": [
        "\n",
        "Score: 0.0000 for 28 and 19 (Less than four matches)"
       ]
      },
      {
       "output_type": "stream",
       "stream": "stdout",
       "text": [
        "\n",
        "Score: 0.0000 for 28 and 19 (Less than four matches)"
       ]
      },
      {
       "output_type": "stream",
       "stream": "stdout",
       "text": [
        "\n",
        "Score: 0.0087 for 28 and 21"
       ]
      },
      {
       "output_type": "stream",
       "stream": "stdout",
       "text": [
        "\n",
        "Score: 0.0000 for 28 and 26 (Less than four matches)"
       ]
      },
      {
       "output_type": "stream",
       "stream": "stdout",
       "text": [
        "\n",
        "Score: 0.0000 for 28 and 27 (Less than four matches)"
       ]
      },
      {
       "output_type": "stream",
       "stream": "stdout",
       "text": [
        "\n",
        "Score: 0.0000 for 28 and 15 (Less than four matches)"
       ]
      },
      {
       "output_type": "stream",
       "stream": "stdout",
       "text": [
        "\n",
        "Score: 0.0000 for 28 and 15 (Less than four matches)"
       ]
      },
      {
       "output_type": "stream",
       "stream": "stdout",
       "text": [
        "\n",
        "Score: 0.0438 for 28 and 21"
       ]
      },
      {
       "output_type": "stream",
       "stream": "stdout",
       "text": [
        "\n",
        "Score: 0.0000 for 28 and 15 (Less than four matches)"
       ]
      },
      {
       "output_type": "stream",
       "stream": "stdout",
       "text": [
        "\n",
        "Score: 0.0000 for 28 and 16 (Less than four matches)"
       ]
      },
      {
       "output_type": "stream",
       "stream": "stdout",
       "text": [
        "\n",
        "Score: 0.0000 for 28 and 17 (Less than four matches)"
       ]
      },
      {
       "output_type": "stream",
       "stream": "stdout",
       "text": [
        "\n",
        "['../../images/testsets/Gallagher_small_unresized/28_525.jpg', '../../images/testsets/Gallagher_small_unresized/28_537.jpg']\n",
        "No descriptors found. Returning score 0\n",
        "Score: 0.0000 for 28 and 27 (Less than four matches)"
       ]
      },
      {
       "output_type": "stream",
       "stream": "stdout",
       "text": [
        "\n",
        "Score: 0.0000 for 28 and 13 (Less than four matches)"
       ]
      },
      {
       "output_type": "stream",
       "stream": "stdout",
       "text": [
        "\n",
        "Score: 0.0000 for 28 and 23 (Less than four matches)"
       ]
      },
      {
       "output_type": "stream",
       "stream": "stdout",
       "text": [
        "\n",
        "Score: 0.0000 for 30 and 26 (Less than four matches)"
       ]
      },
      {
       "output_type": "stream",
       "stream": "stdout",
       "text": [
        "\n",
        "Score: 0.0000 for 30 and 15 (Less than four matches)"
       ]
      },
      {
       "output_type": "stream",
       "stream": "stdout",
       "text": [
        "\n",
        "Score: 0.0000 for 30 and 21 (Less than four matches)"
       ]
      },
      {
       "output_type": "stream",
       "stream": "stdout",
       "text": [
        "\n",
        "Score: 0.0000 for 30 and 24 (Less than four matches)"
       ]
      },
      {
       "output_type": "stream",
       "stream": "stdout",
       "text": [
        "\n",
        "Score: 0.0000 for 30 and 17 (Less than four matches)"
       ]
      },
      {
       "output_type": "stream",
       "stream": "stdout",
       "text": [
        "\n",
        "Score: 0.0000 for 30 and 14 (Less than four matches)"
       ]
      },
      {
       "output_type": "stream",
       "stream": "stdout",
       "text": [
        "\n",
        "Score: 0.0000 for 30 and 28 (Less than four matches)"
       ]
      },
      {
       "output_type": "stream",
       "stream": "stdout",
       "text": [
        "\n",
        "Score: 0.0000 for 30 and 27 (Less than four matches)"
       ]
      },
      {
       "output_type": "stream",
       "stream": "stdout",
       "text": [
        "\n",
        "Score: 0.0000 for 30 and 22 (Less than four matches)"
       ]
      },
      {
       "output_type": "stream",
       "stream": "stdout",
       "text": [
        "\n",
        "Score: 0.0000 for 30 and 29 (Less than four matches)"
       ]
      },
      {
       "output_type": "stream",
       "stream": "stdout",
       "text": [
        "\n",
        "Score: 0.0000 for 30 and 15 (Less than four matches)"
       ]
      },
      {
       "output_type": "stream",
       "stream": "stdout",
       "text": [
        "\n",
        "Score: 0.0000 for 30 and 25 (Less than four matches)"
       ]
      },
      {
       "output_type": "stream",
       "stream": "stdout",
       "text": [
        "\n",
        "Score: 0.0000 for 30 and 23 (Less than four matches)"
       ]
      },
      {
       "output_type": "stream",
       "stream": "stdout",
       "text": [
        "\n",
        "Score: 0.0000 for 30 and 16 (Less than four matches)"
       ]
      },
      {
       "output_type": "stream",
       "stream": "stdout",
       "text": [
        "\n",
        "Score: 0.0000 for 30 and 18 (Less than four matches)"
       ]
      },
      {
       "output_type": "stream",
       "stream": "stdout",
       "text": [
        "\n",
        "Score: 0.0000 for 30 and 25 (Less than four matches)"
       ]
      },
      {
       "output_type": "stream",
       "stream": "stdout",
       "text": [
        "\n",
        "Score: 0.0000 for 30 and 32 (Less than four matches)"
       ]
      },
      {
       "output_type": "stream",
       "stream": "stdout",
       "text": [
        "\n",
        "Score: 0.0000 for 30 and 19 (Less than four matches)"
       ]
      },
      {
       "output_type": "stream",
       "stream": "stdout",
       "text": [
        "\n",
        "Score: 0.0000 for 30 and 21 (Less than four matches)"
       ]
      },
      {
       "output_type": "stream",
       "stream": "stdout",
       "text": [
        "\n",
        "Score: 0.0000 for 30 and 14 (Less than four matches)"
       ]
      },
      {
       "output_type": "stream",
       "stream": "stdout",
       "text": [
        "\n",
        "Score: 0.0000 for 30 and 26 (Less than four matches)"
       ]
      },
      {
       "output_type": "stream",
       "stream": "stdout",
       "text": [
        "\n",
        "Score: 0.0000 for 30 and 22 (Less than four matches)"
       ]
      },
      {
       "output_type": "stream",
       "stream": "stdout",
       "text": [
        "\n",
        "Score: 0.0000 for 30 and 29 (Less than four matches)"
       ]
      },
      {
       "output_type": "stream",
       "stream": "stdout",
       "text": [
        "\n",
        "Score: 0.0000 for 30 and 13 (Less than four matches)"
       ]
      },
      {
       "output_type": "stream",
       "stream": "stdout",
       "text": [
        "\n",
        "Score: 0.0000 for 30 and 28 (Less than four matches)"
       ]
      },
      {
       "output_type": "stream",
       "stream": "stdout",
       "text": [
        "\n",
        "Score: 0.0000 for 30 and 13 (Less than four matches)"
       ]
      },
      {
       "output_type": "stream",
       "stream": "stdout",
       "text": [
        "\n",
        "Score: 0.0000 for 30 and 14 (Less than four matches)"
       ]
      },
      {
       "output_type": "stream",
       "stream": "stdout",
       "text": [
        "\n",
        "Score: 0.0000 for 30 and 14 (Less than four matches)"
       ]
      },
      {
       "output_type": "stream",
       "stream": "stdout",
       "text": [
        "\n",
        "Score: 0.0000 for 30 and 27 (Less than four matches)"
       ]
      },
      {
       "output_type": "stream",
       "stream": "stdout",
       "text": [
        "\n",
        "Score: 0.0000 for 30 and 17 (Less than four matches)"
       ]
      },
      {
       "output_type": "stream",
       "stream": "stdout",
       "text": [
        "\n",
        "Score: 0.0000 for 30 and 19 (Less than four matches)"
       ]
      },
      {
       "output_type": "stream",
       "stream": "stdout",
       "text": [
        "\n",
        "Score: 0.0000 for 30 and 31 (Less than four matches)"
       ]
      },
      {
       "output_type": "stream",
       "stream": "stdout",
       "text": [
        "\n",
        "Score: 0.0000 for 30 and 21 (Less than four matches)"
       ]
      },
      {
       "output_type": "stream",
       "stream": "stdout",
       "text": [
        "\n",
        "Score: 0.0000 for 30 and 23 (Less than four matches)"
       ]
      },
      {
       "output_type": "stream",
       "stream": "stdout",
       "text": [
        "\n",
        "Score: 0.0000 for 30 and 25 (Less than four matches)"
       ]
      },
      {
       "output_type": "stream",
       "stream": "stdout",
       "text": [
        "\n",
        "Score: 0.0000 for 30 and 23 (Less than four matches)"
       ]
      },
      {
       "output_type": "stream",
       "stream": "stdout",
       "text": [
        "\n",
        "Score: 0.0000 for 30 and 31 (Less than four matches)"
       ]
      },
      {
       "output_type": "stream",
       "stream": "stdout",
       "text": [
        "\n",
        "Score: 0.0000 for 30 and 15 (Less than four matches)"
       ]
      },
      {
       "output_type": "stream",
       "stream": "stdout",
       "text": [
        "\n",
        "Score: 0.0000 for 30 and 23 (Less than four matches)"
       ]
      },
      {
       "output_type": "stream",
       "stream": "stdout",
       "text": [
        "\n",
        "Score: 0.0000 for 30 and 18 (Less than four matches)"
       ]
      },
      {
       "output_type": "stream",
       "stream": "stdout",
       "text": [
        "\n",
        "Score: 0.0000 for 30 and 15 (Less than four matches)"
       ]
      },
      {
       "output_type": "stream",
       "stream": "stdout",
       "text": [
        "\n",
        "Score: 0.0000 for 30 and 16 (Less than four matches)"
       ]
      },
      {
       "output_type": "stream",
       "stream": "stdout",
       "text": [
        "\n",
        "Score: 0.0000 for 30 and 23 (Less than four matches)"
       ]
      },
      {
       "output_type": "stream",
       "stream": "stdout",
       "text": [
        "\n",
        "Score: 0.0000 for 30 and 23 (Less than four matches)"
       ]
      },
      {
       "output_type": "stream",
       "stream": "stdout",
       "text": [
        "\n",
        "Score: 0.0000 for 30 and 32 (Less than four matches)"
       ]
      },
      {
       "output_type": "stream",
       "stream": "stdout",
       "text": [
        "\n",
        "Score: 0.0000 for 30 and 15 (Less than four matches)"
       ]
      },
      {
       "output_type": "stream",
       "stream": "stdout",
       "text": [
        "\n",
        "Score: 0.0000 for 30 and 24 (Less than four matches)"
       ]
      },
      {
       "output_type": "stream",
       "stream": "stdout",
       "text": [
        "\n",
        "Score: 0.0000 for 30 and 25 (Less than four matches)"
       ]
      },
      {
       "output_type": "stream",
       "stream": "stdout",
       "text": [
        "\n",
        "Score: 0.0000 for 30 and 30 (Less than four matches)"
       ]
      },
      {
       "output_type": "stream",
       "stream": "stdout",
       "text": [
        "\n",
        "Score: 0.0000 for 30 and 32 (Less than four matches)"
       ]
      },
      {
       "output_type": "stream",
       "stream": "stdout",
       "text": [
        "\n",
        "['../../images/testsets/Gallagher_small_unresized/30_539.jpg', '../../images/testsets/Gallagher_small_unresized/29_538.jpg']\n",
        "No descriptors found. Returning score 0\n",
        "Score: 0.0000 for 30 and 21 (Less than four matches)"
       ]
      },
      {
       "output_type": "stream",
       "stream": "stdout",
       "text": [
        "\n",
        "Score: 0.0000 for 30 and 20 (Less than four matches)"
       ]
      },
      {
       "output_type": "stream",
       "stream": "stdout",
       "text": [
        "\n",
        "Score: 0.0000 for 30 and 15 (Less than four matches)"
       ]
      },
      {
       "output_type": "stream",
       "stream": "stdout",
       "text": [
        "\n",
        "Score: 0.0000 for 30 and 15 (Less than four matches)"
       ]
      },
      {
       "output_type": "stream",
       "stream": "stdout",
       "text": [
        "\n",
        "Score: 0.0000 for 30 and 19 (Less than four matches)"
       ]
      },
      {
       "output_type": "stream",
       "stream": "stdout",
       "text": [
        "\n",
        "Score: 0.0000 for 30 and 19 (Less than four matches)"
       ]
      },
      {
       "output_type": "stream",
       "stream": "stdout",
       "text": [
        "\n",
        "Score: 0.0000 for 30 and 21 (Less than four matches)"
       ]
      },
      {
       "output_type": "stream",
       "stream": "stdout",
       "text": [
        "\n",
        "Score: 0.0000 for 30 and 26 (Less than four matches)"
       ]
      },
      {
       "output_type": "stream",
       "stream": "stdout",
       "text": [
        "\n",
        "Score: 0.0000 for 30 and 27 (Less than four matches)"
       ]
      },
      {
       "output_type": "stream",
       "stream": "stdout",
       "text": [
        "\n",
        "Score: 0.0000 for 30 and 15 (Less than four matches)"
       ]
      },
      {
       "output_type": "stream",
       "stream": "stdout",
       "text": [
        "\n",
        "Score: 0.0000 for 30 and 15 (Less than four matches)"
       ]
      },
      {
       "output_type": "stream",
       "stream": "stdout",
       "text": [
        "\n",
        "Score: 0.0000 for 30 and 21 (Less than four matches)"
       ]
      },
      {
       "output_type": "stream",
       "stream": "stdout",
       "text": [
        "\n",
        "Score: 0.0000 for 30 and 15 (Less than four matches)"
       ]
      },
      {
       "output_type": "stream",
       "stream": "stdout",
       "text": [
        "\n",
        "Score: 0.0000 for 30 and 16 (Less than four matches)"
       ]
      },
      {
       "output_type": "stream",
       "stream": "stdout",
       "text": [
        "\n",
        "Score: 0.0000 for 30 and 17 (Less than four matches)"
       ]
      },
      {
       "output_type": "stream",
       "stream": "stdout",
       "text": [
        "\n",
        "['../../images/testsets/Gallagher_small_unresized/30_539.jpg', '../../images/testsets/Gallagher_small_unresized/28_537.jpg']\n",
        "No descriptors found. Returning score 0\n",
        "Score: 0.0000 for 30 and 27 (Less than four matches)"
       ]
      },
      {
       "output_type": "stream",
       "stream": "stdout",
       "text": [
        "\n",
        "Score: 0.0000 for 30 and 13 (Less than four matches)"
       ]
      },
      {
       "output_type": "stream",
       "stream": "stdout",
       "text": [
        "\n",
        "Score: 0.0000 for 30 and 23 (Less than four matches)"
       ]
      },
      {
       "output_type": "stream",
       "stream": "stdout",
       "text": [
        "\n",
        "Score: 0.0158 for 26 and 15"
       ]
      },
      {
       "output_type": "stream",
       "stream": "stdout",
       "text": [
        "\n",
        "Score: 0.0365 for 26 and 21"
       ]
      },
      {
       "output_type": "stream",
       "stream": "stdout",
       "text": [
        "\n",
        "Score: 0.0274 for 26 and 24"
       ]
      },
      {
       "output_type": "stream",
       "stream": "stdout",
       "text": [
        "\n",
        "Score: 0.0197 for 26 and 17"
       ]
      },
      {
       "output_type": "stream",
       "stream": "stdout",
       "text": [
        "\n",
        "Score: 0.0307 for 26 and 14"
       ]
      },
      {
       "output_type": "stream",
       "stream": "stdout",
       "text": [
        "\n",
        "Score: 0.0086 for 26 and 28"
       ]
      },
      {
       "output_type": "stream",
       "stream": "stdout",
       "text": [
        "\n",
        "Score: 0.0158 for 26 and 27"
       ]
      },
      {
       "output_type": "stream",
       "stream": "stdout",
       "text": [
        "\n",
        "Score: 0.0852 for 26 and 22"
       ]
      },
      {
       "output_type": "stream",
       "stream": "stdout",
       "text": [
        "\n",
        "Score: 0.0245 for 26 and 29"
       ]
      },
      {
       "output_type": "stream",
       "stream": "stdout",
       "text": [
        "\n",
        "Score: 0.0141 for 26 and 15"
       ]
      },
      {
       "output_type": "stream",
       "stream": "stdout",
       "text": [
        "\n",
        "Score: 0.0391 for 26 and 25"
       ]
      },
      {
       "output_type": "stream",
       "stream": "stdout",
       "text": [
        "\n",
        "Score: 0.0166 for 26 and 23"
       ]
      },
      {
       "output_type": "stream",
       "stream": "stdout",
       "text": [
        "\n",
        "Score: 0.0180 for 26 and 16"
       ]
      },
      {
       "output_type": "stream",
       "stream": "stdout",
       "text": [
        "\n",
        "Score: 0.0223 for 26 and 18"
       ]
      },
      {
       "output_type": "stream",
       "stream": "stdout",
       "text": [
        "\n",
        "Score: 0.0324 for 26 and 25"
       ]
      },
      {
       "output_type": "stream",
       "stream": "stdout",
       "text": [
        "\n",
        "Score: 0.0061 for 26 and 32"
       ]
      },
      {
       "output_type": "stream",
       "stream": "stdout",
       "text": [
        "\n",
        "Score: 0.0343 for 26 and 19"
       ]
      },
      {
       "output_type": "stream",
       "stream": "stdout",
       "text": [
        "\n",
        "Score: 0.0204 for 26 and 21"
       ]
      },
      {
       "output_type": "stream",
       "stream": "stdout",
       "text": [
        "\n",
        "Score: 0.0259 for 26 and 14"
       ]
      },
      {
       "output_type": "stream",
       "stream": "stdout",
       "text": [
        "\n",
        "Score: 0.0000 for 26 and 26 (Less than four matches)"
       ]
      },
      {
       "output_type": "stream",
       "stream": "stdout",
       "text": [
        "\n",
        "Score: 0.0000 for 26 and 22 (Less than four matches)"
       ]
      },
      {
       "output_type": "stream",
       "stream": "stdout",
       "text": [
        "\n",
        "Score: 0.0242 for 26 and 29"
       ]
      },
      {
       "output_type": "stream",
       "stream": "stdout",
       "text": [
        "\n",
        "Score: 0.0178 for 26 and 13"
       ]
      },
      {
       "output_type": "stream",
       "stream": "stdout",
       "text": [
        "\n",
        "Score: 0.0170 for 26 and 28"
       ]
      },
      {
       "output_type": "stream",
       "stream": "stdout",
       "text": [
        "\n",
        "Score: 0.0128 for 26 and 13"
       ]
      },
      {
       "output_type": "stream",
       "stream": "stdout",
       "text": [
        "\n",
        "Score: 0.0000 for 26 and 14 (Less than four matches)"
       ]
      },
      {
       "output_type": "stream",
       "stream": "stdout",
       "text": [
        "\n",
        "Score: 0.0383 for 26 and 14"
       ]
      },
      {
       "output_type": "stream",
       "stream": "stdout",
       "text": [
        "\n",
        "Score: 0.0263 for 26 and 27"
       ]
      },
      {
       "output_type": "stream",
       "stream": "stdout",
       "text": [
        "\n",
        "Score: 0.0059 for 26 and 17"
       ]
      },
      {
       "output_type": "stream",
       "stream": "stdout",
       "text": [
        "\n",
        "Score: 0.0286 for 26 and 19"
       ]
      },
      {
       "output_type": "stream",
       "stream": "stdout",
       "text": [
        "\n",
        "Score: 0.0297 for 26 and 31"
       ]
      },
      {
       "output_type": "stream",
       "stream": "stdout",
       "text": [
        "\n",
        "Score: 0.0493 for 26 and 21"
       ]
      },
      {
       "output_type": "stream",
       "stream": "stdout",
       "text": [
        "\n",
        "Score: 0.0141 for 26 and 23"
       ]
      },
      {
       "output_type": "stream",
       "stream": "stdout",
       "text": [
        "\n",
        "Score: 0.0579 for 26 and 25"
       ]
      },
      {
       "output_type": "stream",
       "stream": "stdout",
       "text": [
        "\n",
        "Score: 0.0000 for 26 and 23 (Less than four matches)"
       ]
      },
      {
       "output_type": "stream",
       "stream": "stdout",
       "text": [
        "\n",
        "Score: 0.0422 for 26 and 31"
       ]
      },
      {
       "output_type": "stream",
       "stream": "stdout",
       "text": [
        "\n",
        "Score: 0.0610 for 26 and 15"
       ]
      },
      {
       "output_type": "stream",
       "stream": "stdout",
       "text": [
        "\n",
        "Score: 0.0346 for 26 and 23"
       ]
      },
      {
       "output_type": "stream",
       "stream": "stdout",
       "text": [
        "\n",
        "Score: 0.0210 for 26 and 18"
       ]
      },
      {
       "output_type": "stream",
       "stream": "stdout",
       "text": [
        "\n",
        "Score: 0.0328 for 26 and 15"
       ]
      },
      {
       "output_type": "stream",
       "stream": "stdout",
       "text": [
        "\n",
        "Score: 0.0078 for 26 and 16"
       ]
      },
      {
       "output_type": "stream",
       "stream": "stdout",
       "text": [
        "\n",
        "Score: 0.0370 for 26 and 23"
       ]
      },
      {
       "output_type": "stream",
       "stream": "stdout",
       "text": [
        "\n",
        "Score: 0.0318 for 26 and 23"
       ]
      },
      {
       "output_type": "stream",
       "stream": "stdout",
       "text": [
        "\n",
        "Score: 0.0000 for 26 and 32 (Less than four matches)"
       ]
      },
      {
       "output_type": "stream",
       "stream": "stdout",
       "text": [
        "\n",
        "Score: 0.0140 for 26 and 15"
       ]
      },
      {
       "output_type": "stream",
       "stream": "stdout",
       "text": [
        "\n",
        "Score: 0.0576 for 26 and 24"
       ]
      },
      {
       "output_type": "stream",
       "stream": "stdout",
       "text": [
        "\n",
        "Score: 0.0439 for 26 and 25"
       ]
      },
      {
       "output_type": "stream",
       "stream": "stdout",
       "text": [
        "\n",
        "Score: 0.0291 for 26 and 30"
       ]
      },
      {
       "output_type": "stream",
       "stream": "stdout",
       "text": [
        "\n",
        "Score: 0.0151 for 26 and 32"
       ]
      },
      {
       "output_type": "stream",
       "stream": "stdout",
       "text": [
        "\n",
        "['../../images/testsets/Gallagher_small_unresized/26_550.jpg', '../../images/testsets/Gallagher_small_unresized/29_538.jpg']\n",
        "No descriptors found. Returning score 0\n",
        "Score: 0.0104 for 26 and 21"
       ]
      },
      {
       "output_type": "stream",
       "stream": "stdout",
       "text": [
        "\n",
        "Score: 0.0207 for 26 and 20"
       ]
      },
      {
       "output_type": "stream",
       "stream": "stdout",
       "text": [
        "\n",
        "Score: 0.0164 for 26 and 15"
       ]
      },
      {
       "output_type": "stream",
       "stream": "stdout",
       "text": [
        "\n",
        "Score: 0.0140 for 26 and 15"
       ]
      },
      {
       "output_type": "stream",
       "stream": "stdout",
       "text": [
        "\n",
        "Score: 0.0157 for 26 and 19"
       ]
      },
      {
       "output_type": "stream",
       "stream": "stdout",
       "text": [
        "\n",
        "Score: 0.0123 for 26 and 19"
       ]
      },
      {
       "output_type": "stream",
       "stream": "stdout",
       "text": [
        "\n",
        "Score: 0.0563 for 26 and 21"
       ]
      },
      {
       "output_type": "stream",
       "stream": "stdout",
       "text": [
        "\n",
        "Score: 0.0548 for 26 and 26"
       ]
      },
      {
       "output_type": "stream",
       "stream": "stdout",
       "text": [
        "\n",
        "Score: 0.0311 for 26 and 27"
       ]
      },
      {
       "output_type": "stream",
       "stream": "stdout",
       "text": [
        "\n",
        "Score: 0.0362 for 26 and 15"
       ]
      },
      {
       "output_type": "stream",
       "stream": "stdout",
       "text": [
        "\n",
        "Score: 0.0293 for 26 and 15"
       ]
      },
      {
       "output_type": "stream",
       "stream": "stdout",
       "text": [
        "\n",
        "Score: 0.0264 for 26 and 21"
       ]
      },
      {
       "output_type": "stream",
       "stream": "stdout",
       "text": [
        "\n",
        "Score: 0.0000 for 26 and 15 (Less than four matches)"
       ]
      },
      {
       "output_type": "stream",
       "stream": "stdout",
       "text": [
        "\n",
        "Score: 0.0227 for 26 and 16"
       ]
      },
      {
       "output_type": "stream",
       "stream": "stdout",
       "text": [
        "\n",
        "Score: 0.0497 for 26 and 17"
       ]
      },
      {
       "output_type": "stream",
       "stream": "stdout",
       "text": [
        "\n",
        "['../../images/testsets/Gallagher_small_unresized/26_550.jpg', '../../images/testsets/Gallagher_small_unresized/28_537.jpg']\n",
        "No descriptors found. Returning score 0\n",
        "Score: 0.0121 for 26 and 27"
       ]
      },
      {
       "output_type": "stream",
       "stream": "stdout",
       "text": [
        "\n",
        "Score: 0.0223 for 26 and 13"
       ]
      },
      {
       "output_type": "stream",
       "stream": "stdout",
       "text": [
        "\n",
        "Score: 0.0128 for 26 and 23"
       ]
      },
      {
       "output_type": "stream",
       "stream": "stdout",
       "text": [
        "\n",
        "Score: 0.0320 for 15 and 21"
       ]
      },
      {
       "output_type": "stream",
       "stream": "stdout",
       "text": [
        "\n",
        "Score: 0.0290 for 15 and 24"
       ]
      },
      {
       "output_type": "stream",
       "stream": "stdout",
       "text": [
        "\n",
        "Score: 0.0000 for 15 and 17 (Less than four matches)"
       ]
      },
      {
       "output_type": "stream",
       "stream": "stdout",
       "text": [
        "\n",
        "Score: 0.0000 for 15 and 14 (Less than four matches)"
       ]
      },
      {
       "output_type": "stream",
       "stream": "stdout",
       "text": [
        "\n",
        "Score: 0.0000 for 15 and 28 (Less than four matches)"
       ]
      },
      {
       "output_type": "stream",
       "stream": "stdout",
       "text": [
        "\n",
        "Score: 0.0000 for 15 and 27 (Less than four matches)"
       ]
      },
      {
       "output_type": "stream",
       "stream": "stdout",
       "text": [
        "\n",
        "Score: 0.0000 for 15 and 22 (Less than four matches)"
       ]
      },
      {
       "output_type": "stream",
       "stream": "stdout",
       "text": [
        "\n",
        "Score: 0.0000 for 15 and 29 (Less than four matches)"
       ]
      },
      {
       "output_type": "stream",
       "stream": "stdout",
       "text": [
        "\n",
        "Score: 0.0948 for 15 and 15"
       ]
      },
      {
       "output_type": "stream",
       "stream": "stdout",
       "text": [
        "\n",
        "Score: 0.0775 for 15 and 25"
       ]
      },
      {
       "output_type": "stream",
       "stream": "stdout",
       "text": [
        "\n",
        "Score: 0.0392 for 15 and 23"
       ]
      },
      {
       "output_type": "stream",
       "stream": "stdout",
       "text": [
        "\n",
        "Score: 0.0000 for 15 and 16 (Less than four matches)"
       ]
      },
      {
       "output_type": "stream",
       "stream": "stdout",
       "text": [
        "\n",
        "Score: 0.0000 for 15 and 18 (Less than four matches)"
       ]
      },
      {
       "output_type": "stream",
       "stream": "stdout",
       "text": [
        "\n",
        "Score: 0.0202 for 15 and 25"
       ]
      },
      {
       "output_type": "stream",
       "stream": "stdout",
       "text": [
        "\n",
        "Score: 0.0610 for 15 and 32"
       ]
      },
      {
       "output_type": "stream",
       "stream": "stdout",
       "text": [
        "\n",
        "Score: 0.0434 for 15 and 19"
       ]
      },
      {
       "output_type": "stream",
       "stream": "stdout",
       "text": [
        "\n",
        "Score: 0.0235 for 15 and 21"
       ]
      },
      {
       "output_type": "stream",
       "stream": "stdout",
       "text": [
        "\n",
        "Score: 0.0560 for 15 and 14"
       ]
      },
      {
       "output_type": "stream",
       "stream": "stdout",
       "text": [
        "\n",
        "Score: 0.0000 for 15 and 26 (Less than four matches)"
       ]
      },
      {
       "output_type": "stream",
       "stream": "stdout",
       "text": [
        "\n",
        "Score: 0.0000 for 15 and 22 (Less than four matches)"
       ]
      },
      {
       "output_type": "stream",
       "stream": "stdout",
       "text": [
        "\n",
        "Score: 0.0000 for 15 and 29 (Less than four matches)"
       ]
      },
      {
       "output_type": "stream",
       "stream": "stdout",
       "text": [
        "\n",
        "Score: 0.0310 for 15 and 13"
       ]
      },
      {
       "output_type": "stream",
       "stream": "stdout",
       "text": [
        "\n",
        "Score: 0.0000 for 15 and 28 (Less than four matches)"
       ]
      },
      {
       "output_type": "stream",
       "stream": "stdout",
       "text": [
        "\n",
        "Score: 0.0000 for 15 and 13 (Less than four matches)"
       ]
      },
      {
       "output_type": "stream",
       "stream": "stdout",
       "text": [
        "\n",
        "Score: 0.0000 for 15 and 14 (Less than four matches)"
       ]
      },
      {
       "output_type": "stream",
       "stream": "stdout",
       "text": [
        "\n",
        "Score: 0.0296 for 15 and 14"
       ]
      },
      {
       "output_type": "stream",
       "stream": "stdout",
       "text": [
        "\n",
        "Score: 0.0400 for 15 and 27"
       ]
      },
      {
       "output_type": "stream",
       "stream": "stdout",
       "text": [
        "\n",
        "Score: 0.0286 for 15 and 17"
       ]
      },
      {
       "output_type": "stream",
       "stream": "stdout",
       "text": [
        "\n",
        "Score: 0.0555 for 15 and 19"
       ]
      },
      {
       "output_type": "stream",
       "stream": "stdout",
       "text": [
        "\n",
        "Score: 0.0000 for 15 and 31 (Less than four matches)"
       ]
      },
      {
       "output_type": "stream",
       "stream": "stdout",
       "text": [
        "\n",
        "Score: 0.0578 for 15 and 21"
       ]
      },
      {
       "output_type": "stream",
       "stream": "stdout",
       "text": [
        "\n",
        "Score: 0.0248 for 15 and 23"
       ]
      },
      {
       "output_type": "stream",
       "stream": "stdout",
       "text": [
        "\n",
        "Score: 0.0670 for 15 and 25"
       ]
      },
      {
       "output_type": "stream",
       "stream": "stdout",
       "text": [
        "\n",
        "Score: 0.0000 for 15 and 23 (Less than four matches)"
       ]
      },
      {
       "output_type": "stream",
       "stream": "stdout",
       "text": [
        "\n",
        "Score: 0.0100 for 15 and 31"
       ]
      },
      {
       "output_type": "stream",
       "stream": "stdout",
       "text": [
        "\n",
        "Score: 0.0382 for 15 and 15"
       ]
      },
      {
       "output_type": "stream",
       "stream": "stdout",
       "text": [
        "\n",
        "Score: 0.0497 for 15 and 23"
       ]
      },
      {
       "output_type": "stream",
       "stream": "stdout",
       "text": [
        "\n",
        "Score: 0.0000 for 15 and 18 (Less than four matches)"
       ]
      },
      {
       "output_type": "stream",
       "stream": "stdout",
       "text": [
        "\n",
        "Score: 0.0137 for 15 and 15"
       ]
      },
      {
       "output_type": "stream",
       "stream": "stdout",
       "text": [
        "\n",
        "Score: 0.0404 for 15 and 16"
       ]
      },
      {
       "output_type": "stream",
       "stream": "stdout",
       "text": [
        "\n",
        "Score: 0.0512 for 15 and 23"
       ]
      },
      {
       "output_type": "stream",
       "stream": "stdout",
       "text": [
        "\n",
        "Score: 0.0352 for 15 and 23"
       ]
      },
      {
       "output_type": "stream",
       "stream": "stdout",
       "text": [
        "\n",
        "Score: 0.0645 for 15 and 32"
       ]
      },
      {
       "output_type": "stream",
       "stream": "stdout",
       "text": [
        "\n",
        "Score: 0.0411 for 15 and 15"
       ]
      },
      {
       "output_type": "stream",
       "stream": "stdout",
       "text": [
        "\n",
        "Score: 0.0000 for 15 and 24 (Less than four matches)"
       ]
      },
      {
       "output_type": "stream",
       "stream": "stdout",
       "text": [
        "\n",
        "Score: 0.0678 for 15 and 25"
       ]
      },
      {
       "output_type": "stream",
       "stream": "stdout",
       "text": [
        "\n",
        "Score: 0.0072 for 15 and 30"
       ]
      },
      {
       "output_type": "stream",
       "stream": "stdout",
       "text": [
        "\n",
        "Score: 0.0443 for 15 and 32"
       ]
      },
      {
       "output_type": "stream",
       "stream": "stdout",
       "text": [
        "\n",
        "['../../images/testsets/Gallagher_small_unresized/15_170.jpg', '../../images/testsets/Gallagher_small_unresized/29_538.jpg']\n",
        "No descriptors found. Returning score 0\n",
        "Score: 0.0222 for 15 and 21"
       ]
      },
      {
       "output_type": "stream",
       "stream": "stdout",
       "text": [
        "\n",
        "Score: 0.0484 for 15 and 20"
       ]
      },
      {
       "output_type": "stream",
       "stream": "stdout",
       "text": [
        "\n",
        "Score: 0.0000 for 15 and 15 (Less than four matches)"
       ]
      },
      {
       "output_type": "stream",
       "stream": "stdout",
       "text": [
        "\n",
        "Score: 0.0327 for 15 and 15"
       ]
      },
      {
       "output_type": "stream",
       "stream": "stdout",
       "text": [
        "\n",
        "Score: 0.0392 for 15 and 19"
       ]
      },
      {
       "output_type": "stream",
       "stream": "stdout",
       "text": [
        "\n",
        "Score: 0.0469 for 15 and 19"
       ]
      },
      {
       "output_type": "stream",
       "stream": "stdout",
       "text": [
        "\n",
        "Score: 0.0760 for 15 and 21"
       ]
      },
      {
       "output_type": "stream",
       "stream": "stdout",
       "text": [
        "\n",
        "Score: 0.0173 for 15 and 26"
       ]
      },
      {
       "output_type": "stream",
       "stream": "stdout",
       "text": [
        "\n",
        "Score: 0.0263 for 15 and 27"
       ]
      },
      {
       "output_type": "stream",
       "stream": "stdout",
       "text": [
        "\n",
        "Score: 0.0303 for 15 and 15"
       ]
      },
      {
       "output_type": "stream",
       "stream": "stdout",
       "text": [
        "\n",
        "Score: 0.0148 for 15 and 15"
       ]
      },
      {
       "output_type": "stream",
       "stream": "stdout",
       "text": [
        "\n",
        "Score: 0.0000 for 15 and 21 (Less than four matches)"
       ]
      },
      {
       "output_type": "stream",
       "stream": "stdout",
       "text": [
        "\n",
        "Score: 0.0000 for 15 and 15 (Less than four matches)"
       ]
      },
      {
       "output_type": "stream",
       "stream": "stdout",
       "text": [
        "\n",
        "Score: 0.0406 for 15 and 16"
       ]
      },
      {
       "output_type": "stream",
       "stream": "stdout",
       "text": [
        "\n",
        "Score: 0.0000 for 15 and 17 (Less than four matches)"
       ]
      },
      {
       "output_type": "stream",
       "stream": "stdout",
       "text": [
        "\n",
        "['../../images/testsets/Gallagher_small_unresized/15_170.jpg', '../../images/testsets/Gallagher_small_unresized/28_537.jpg']\n",
        "No descriptors found. Returning score 0\n",
        "Score: 0.0213 for 15 and 27"
       ]
      },
      {
       "output_type": "stream",
       "stream": "stdout",
       "text": [
        "\n",
        "Score: 0.0593 for 15 and 13"
       ]
      },
      {
       "output_type": "stream",
       "stream": "stdout",
       "text": [
        "\n",
        "Score: 0.0298 for 15 and 23"
       ]
      },
      {
       "output_type": "stream",
       "stream": "stdout",
       "text": [
        "\n",
        "Score: 0.0184 for 21 and 24"
       ]
      },
      {
       "output_type": "stream",
       "stream": "stdout",
       "text": [
        "\n",
        "Score: 0.0000 for 21 and 17 (Less than four matches)"
       ]
      },
      {
       "output_type": "stream",
       "stream": "stdout",
       "text": [
        "\n",
        "Score: 0.0000 for 21 and 14 (Less than four matches)"
       ]
      },
      {
       "output_type": "stream",
       "stream": "stdout",
       "text": [
        "\n",
        "Score: 0.0000 for 21 and 28 (Less than four matches)"
       ]
      },
      {
       "output_type": "stream",
       "stream": "stdout",
       "text": [
        "\n",
        "Score: 0.0000 for 21 and 27 (Less than four matches)"
       ]
      },
      {
       "output_type": "stream",
       "stream": "stdout",
       "text": [
        "\n",
        "Score: 0.0000 for 21 and 22 (Less than four matches)"
       ]
      },
      {
       "output_type": "stream",
       "stream": "stdout",
       "text": [
        "\n",
        "Score: 0.0000 for 21 and 29 (Less than four matches)"
       ]
      },
      {
       "output_type": "stream",
       "stream": "stdout",
       "text": [
        "\n",
        "Score: 0.0000 for 21 and 15 (Less than four matches)"
       ]
      },
      {
       "output_type": "stream",
       "stream": "stdout",
       "text": [
        "\n",
        "Score: 0.0000 for 21 and 25 (Less than four matches)"
       ]
      },
      {
       "output_type": "stream",
       "stream": "stdout",
       "text": [
        "\n",
        "Score: 0.0154 for 21 and 23"
       ]
      },
      {
       "output_type": "stream",
       "stream": "stdout",
       "text": [
        "\n",
        "Score: 0.0456 for 21 and 16"
       ]
      },
      {
       "output_type": "stream",
       "stream": "stdout",
       "text": [
        "\n",
        "Score: 0.0000 for 21 and 18 (Less than four matches)"
       ]
      },
      {
       "output_type": "stream",
       "stream": "stdout",
       "text": [
        "\n",
        "Score: 0.0081 for 21 and 25"
       ]
      },
      {
       "output_type": "stream",
       "stream": "stdout",
       "text": [
        "\n",
        "Score: 0.0120 for 21 and 32"
       ]
      },
      {
       "output_type": "stream",
       "stream": "stdout",
       "text": [
        "\n",
        "Score: 0.0000 for 21 and 19 (Less than four matches)"
       ]
      },
      {
       "output_type": "stream",
       "stream": "stdout",
       "text": [
        "\n",
        "Score: 0.0684 for 21 and 21"
       ]
      },
      {
       "output_type": "stream",
       "stream": "stdout",
       "text": [
        "\n",
        "Score: 0.0278 for 21 and 14"
       ]
      },
      {
       "output_type": "stream",
       "stream": "stdout",
       "text": [
        "\n",
        "Score: 0.0000 for 21 and 26 (Less than four matches)"
       ]
      },
      {
       "output_type": "stream",
       "stream": "stdout",
       "text": [
        "\n",
        "Score: 0.0000 for 21 and 22 (Less than four matches)"
       ]
      },
      {
       "output_type": "stream",
       "stream": "stdout",
       "text": [
        "\n",
        "Score: 0.0000 for 21 and 29 (Less than four matches)"
       ]
      },
      {
       "output_type": "stream",
       "stream": "stdout",
       "text": [
        "\n",
        "Score: 0.0110 for 21 and 13"
       ]
      },
      {
       "output_type": "stream",
       "stream": "stdout",
       "text": [
        "\n",
        "Score: 0.0283 for 21 and 28"
       ]
      },
      {
       "output_type": "stream",
       "stream": "stdout",
       "text": [
        "\n",
        "Score: 0.0000 for 21 and 13 (Less than four matches)"
       ]
      },
      {
       "output_type": "stream",
       "stream": "stdout",
       "text": [
        "\n",
        "Score: 0.0000 for 21 and 14 (Less than four matches)"
       ]
      },
      {
       "output_type": "stream",
       "stream": "stdout",
       "text": [
        "\n",
        "Score: 0.0092 for 21 and 14"
       ]
      },
      {
       "output_type": "stream",
       "stream": "stdout",
       "text": [
        "\n",
        "Score: 0.0359 for 21 and 27"
       ]
      },
      {
       "output_type": "stream",
       "stream": "stdout",
       "text": [
        "\n",
        "Score: 0.0000 for 21 and 17 (Less than four matches)"
       ]
      },
      {
       "output_type": "stream",
       "stream": "stdout",
       "text": [
        "\n",
        "Score: 0.0000 for 21 and 19 (Less than four matches)"
       ]
      },
      {
       "output_type": "stream",
       "stream": "stdout",
       "text": [
        "\n",
        "Score: 0.0308 for 21 and 31"
       ]
      },
      {
       "output_type": "stream",
       "stream": "stdout",
       "text": [
        "\n",
        "Score: 0.0000 for 21 and 21 (Less than four matches)"
       ]
      },
      {
       "output_type": "stream",
       "stream": "stdout",
       "text": [
        "\n",
        "Score: 0.0000 for 21 and 23 (Less than four matches)"
       ]
      },
      {
       "output_type": "stream",
       "stream": "stdout",
       "text": [
        "\n",
        "Score: 0.0000 for 21 and 25 (Less than four matches)"
       ]
      },
      {
       "output_type": "stream",
       "stream": "stdout",
       "text": [
        "\n",
        "Score: 0.0000 for 21 and 23 (Less than four matches)"
       ]
      },
      {
       "output_type": "stream",
       "stream": "stdout",
       "text": [
        "\n",
        "Score: 0.0000 for 21 and 31 (Less than four matches)"
       ]
      },
      {
       "output_type": "stream",
       "stream": "stdout",
       "text": [
        "\n",
        "Score: 0.0235 for 21 and 15"
       ]
      },
      {
       "output_type": "stream",
       "stream": "stdout",
       "text": [
        "\n",
        "Score: 0.0000 for 21 and 23 (Less than four matches)"
       ]
      },
      {
       "output_type": "stream",
       "stream": "stdout",
       "text": [
        "\n",
        "Score: 0.0177 for 21 and 18"
       ]
      },
      {
       "output_type": "stream",
       "stream": "stdout",
       "text": [
        "\n",
        "Score: 0.0000 for 21 and 15 (Less than four matches)"
       ]
      },
      {
       "output_type": "stream",
       "stream": "stdout",
       "text": [
        "\n",
        "Score: 0.0000 for 21 and 16 (Less than four matches)"
       ]
      },
      {
       "output_type": "stream",
       "stream": "stdout",
       "text": [
        "\n",
        "Score: 0.0000 for 21 and 23 (Less than four matches)"
       ]
      },
      {
       "output_type": "stream",
       "stream": "stdout",
       "text": [
        "\n",
        "Score: 0.0000 for 21 and 23 (Less than four matches)"
       ]
      },
      {
       "output_type": "stream",
       "stream": "stdout",
       "text": [
        "\n",
        "Score: 0.0000 for 21 and 32 (Less than four matches)"
       ]
      },
      {
       "output_type": "stream",
       "stream": "stdout",
       "text": [
        "\n",
        "Score: 0.0240 for 21 and 15"
       ]
      },
      {
       "output_type": "stream",
       "stream": "stdout",
       "text": [
        "\n",
        "Score: 0.0571 for 21 and 24"
       ]
      },
      {
       "output_type": "stream",
       "stream": "stdout",
       "text": [
        "\n",
        "Score: 0.0000 for 21 and 25 (Less than four matches)"
       ]
      },
      {
       "output_type": "stream",
       "stream": "stdout",
       "text": [
        "\n",
        "Score: 0.0000 for 21 and 30 (Less than four matches)"
       ]
      },
      {
       "output_type": "stream",
       "stream": "stdout",
       "text": [
        "\n",
        "Score: 0.0000 for 21 and 32 (Less than four matches)"
       ]
      },
      {
       "output_type": "stream",
       "stream": "stdout",
       "text": [
        "\n",
        "['../../images/testsets/Gallagher_small_unresized/21_293.jpg', '../../images/testsets/Gallagher_small_unresized/29_538.jpg']\n",
        "No descriptors found. Returning score 0\n",
        "Score: 0.0092 for 21 and 21"
       ]
      },
      {
       "output_type": "stream",
       "stream": "stdout",
       "text": [
        "\n",
        "Score: 0.0200 for 21 and 20"
       ]
      },
      {
       "output_type": "stream",
       "stream": "stdout",
       "text": [
        "\n",
        "Score: 0.0273 for 21 and 15"
       ]
      },
      {
       "output_type": "stream",
       "stream": "stdout",
       "text": [
        "\n",
        "Score: 0.0000 for 21 and 15 (Less than four matches)"
       ]
      },
      {
       "output_type": "stream",
       "stream": "stdout",
       "text": [
        "\n",
        "Score: 0.0000 for 21 and 19 (Less than four matches)"
       ]
      },
      {
       "output_type": "stream",
       "stream": "stdout",
       "text": [
        "\n",
        "Score: 0.0000 for 21 and 19 (Less than four matches)"
       ]
      },
      {
       "output_type": "stream",
       "stream": "stdout",
       "text": [
        "\n",
        "Score: 0.0346 for 21 and 21"
       ]
      },
      {
       "output_type": "stream",
       "stream": "stdout",
       "text": [
        "\n",
        "Score: 0.0284 for 21 and 26"
       ]
      },
      {
       "output_type": "stream",
       "stream": "stdout",
       "text": [
        "\n",
        "Score: 0.0000 for 21 and 27 (Less than four matches)"
       ]
      },
      {
       "output_type": "stream",
       "stream": "stdout",
       "text": [
        "\n",
        "Score: 0.0000 for 21 and 15 (Less than four matches)"
       ]
      },
      {
       "output_type": "stream",
       "stream": "stdout",
       "text": [
        "\n",
        "Score: 0.0384 for 21 and 15"
       ]
      },
      {
       "output_type": "stream",
       "stream": "stdout",
       "text": [
        "\n",
        "Score: 0.0558 for 21 and 21"
       ]
      },
      {
       "output_type": "stream",
       "stream": "stdout",
       "text": [
        "\n",
        "Score: 0.0000 for 21 and 15 (Less than four matches)"
       ]
      },
      {
       "output_type": "stream",
       "stream": "stdout",
       "text": [
        "\n",
        "Score: 0.0000 for 21 and 16 (Less than four matches)"
       ]
      },
      {
       "output_type": "stream",
       "stream": "stdout",
       "text": [
        "\n",
        "Score: 0.0000 for 21 and 17 (Less than four matches)"
       ]
      },
      {
       "output_type": "stream",
       "stream": "stdout",
       "text": [
        "\n",
        "['../../images/testsets/Gallagher_small_unresized/21_293.jpg', '../../images/testsets/Gallagher_small_unresized/28_537.jpg']\n",
        "No descriptors found. Returning score 0\n",
        "Score: 0.0000 for 21 and 27 (Less than four matches)"
       ]
      },
      {
       "output_type": "stream",
       "stream": "stdout",
       "text": [
        "\n",
        "Score: 0.0000 for 21 and 13 (Less than four matches)"
       ]
      },
      {
       "output_type": "stream",
       "stream": "stdout",
       "text": [
        "\n",
        "Score: 0.0085 for 21 and 23"
       ]
      },
      {
       "output_type": "stream",
       "stream": "stdout",
       "text": [
        "\n",
        "Score: 0.0000 for 24 and 17 (Less than four matches)"
       ]
      },
      {
       "output_type": "stream",
       "stream": "stdout",
       "text": [
        "\n",
        "Score: 0.0000 for 24 and 14 (Less than four matches)"
       ]
      },
      {
       "output_type": "stream",
       "stream": "stdout",
       "text": [
        "\n",
        "Score: 0.0311 for 24 and 28"
       ]
      },
      {
       "output_type": "stream",
       "stream": "stdout",
       "text": [
        "\n",
        "Score: 0.0000 for 24 and 27 (Less than four matches)"
       ]
      },
      {
       "output_type": "stream",
       "stream": "stdout",
       "text": [
        "\n",
        "Score: 0.0369 for 24 and 22"
       ]
      },
      {
       "output_type": "stream",
       "stream": "stdout",
       "text": [
        "\n",
        "Score: 0.0213 for 24 and 29"
       ]
      },
      {
       "output_type": "stream",
       "stream": "stdout",
       "text": [
        "\n",
        "Score: 0.0154 for 24 and 15"
       ]
      },
      {
       "output_type": "stream",
       "stream": "stdout",
       "text": [
        "\n",
        "Score: 0.0269 for 24 and 25"
       ]
      },
      {
       "output_type": "stream",
       "stream": "stdout",
       "text": [
        "\n",
        "Score: 0.0326 for 24 and 23"
       ]
      },
      {
       "output_type": "stream",
       "stream": "stdout",
       "text": [
        "\n",
        "Score: 0.0000 for 24 and 16 (Less than four matches)"
       ]
      },
      {
       "output_type": "stream",
       "stream": "stdout",
       "text": [
        "\n",
        "Score: 0.0000 for 24 and 18 (Less than four matches)"
       ]
      },
      {
       "output_type": "stream",
       "stream": "stdout",
       "text": [
        "\n",
        "Score: 0.0391 for 24 and 25"
       ]
      },
      {
       "output_type": "stream",
       "stream": "stdout",
       "text": [
        "\n",
        "Score: 0.0531 for 24 and 32"
       ]
      },
      {
       "output_type": "stream",
       "stream": "stdout",
       "text": [
        "\n",
        "Score: 0.0251 for 24 and 19"
       ]
      },
      {
       "output_type": "stream",
       "stream": "stdout",
       "text": [
        "\n",
        "Score: 0.0336 for 24 and 21"
       ]
      },
      {
       "output_type": "stream",
       "stream": "stdout",
       "text": [
        "\n",
        "Score: 0.0181 for 24 and 14"
       ]
      },
      {
       "output_type": "stream",
       "stream": "stdout",
       "text": [
        "\n",
        "Score: 0.0000 for 24 and 26 (Less than four matches)"
       ]
      },
      {
       "output_type": "stream",
       "stream": "stdout",
       "text": [
        "\n",
        "Score: 0.0000 for 24 and 22 (Less than four matches)"
       ]
      },
      {
       "output_type": "stream",
       "stream": "stdout",
       "text": [
        "\n",
        "Score: 0.0000 for 24 and 29 (Less than four matches)"
       ]
      },
      {
       "output_type": "stream",
       "stream": "stdout",
       "text": [
        "\n",
        "Score: 0.0021 for 24 and 13"
       ]
      },
      {
       "output_type": "stream",
       "stream": "stdout",
       "text": [
        "\n",
        "Score: 0.0237 for 24 and 28"
       ]
      },
      {
       "output_type": "stream",
       "stream": "stdout",
       "text": [
        "\n",
        "Score: 0.0000 for 24 and 13 (Less than four matches)"
       ]
      },
      {
       "output_type": "stream",
       "stream": "stdout",
       "text": [
        "\n",
        "Score: 0.0000 for 24 and 14 (Less than four matches)"
       ]
      },
      {
       "output_type": "stream",
       "stream": "stdout",
       "text": [
        "\n",
        "Score: 0.0384 for 24 and 14"
       ]
      },
      {
       "output_type": "stream",
       "stream": "stdout",
       "text": [
        "\n",
        "Score: 0.0000 for 24 and 27 (Less than four matches)"
       ]
      },
      {
       "output_type": "stream",
       "stream": "stdout",
       "text": [
        "\n",
        "Score: 0.0484 for 24 and 17"
       ]
      },
      {
       "output_type": "stream",
       "stream": "stdout",
       "text": [
        "\n",
        "Score: 0.0000 for 24 and 19 (Less than four matches)"
       ]
      },
      {
       "output_type": "stream",
       "stream": "stdout",
       "text": [
        "\n",
        "Score: 0.0176 for 24 and 31"
       ]
      },
      {
       "output_type": "stream",
       "stream": "stdout",
       "text": [
        "\n",
        "Score: 0.0000 for 24 and 21 (Less than four matches)"
       ]
      },
      {
       "output_type": "stream",
       "stream": "stdout",
       "text": [
        "\n",
        "Score: 0.0382 for 24 and 23"
       ]
      },
      {
       "output_type": "stream",
       "stream": "stdout",
       "text": [
        "\n",
        "Score: 0.0000 for 24 and 25 (Less than four matches)"
       ]
      },
      {
       "output_type": "stream",
       "stream": "stdout",
       "text": [
        "\n",
        "Score: 0.0000 for 24 and 23 (Less than four matches)"
       ]
      },
      {
       "output_type": "stream",
       "stream": "stdout",
       "text": [
        "\n",
        "Score: 0.0148 for 24 and 31"
       ]
      },
      {
       "output_type": "stream",
       "stream": "stdout",
       "text": [
        "\n",
        "Score: 0.0000 for 24 and 15 (Less than four matches)"
       ]
      },
      {
       "output_type": "stream",
       "stream": "stdout",
       "text": [
        "\n",
        "Score: 0.0241 for 24 and 23"
       ]
      },
      {
       "output_type": "stream",
       "stream": "stdout",
       "text": [
        "\n",
        "Score: 0.0000 for 24 and 18 (Less than four matches)"
       ]
      },
      {
       "output_type": "stream",
       "stream": "stdout",
       "text": [
        "\n",
        "Score: 0.0000 for 24 and 15 (Less than four matches)"
       ]
      },
      {
       "output_type": "stream",
       "stream": "stdout",
       "text": [
        "\n",
        "Score: 0.0284 for 24 and 16"
       ]
      },
      {
       "output_type": "stream",
       "stream": "stdout",
       "text": [
        "\n",
        "Score: 0.0000 for 24 and 23 (Less than four matches)"
       ]
      },
      {
       "output_type": "stream",
       "stream": "stdout",
       "text": [
        "\n",
        "Score: 0.0000 for 24 and 23 (Less than four matches)"
       ]
      },
      {
       "output_type": "stream",
       "stream": "stdout",
       "text": [
        "\n",
        "Score: 0.0000 for 24 and 32 (Less than four matches)"
       ]
      },
      {
       "output_type": "stream",
       "stream": "stdout",
       "text": [
        "\n",
        "Score: 0.0436 for 24 and 15"
       ]
      },
      {
       "output_type": "stream",
       "stream": "stdout",
       "text": [
        "\n",
        "Score: 0.0109 for 24 and 24"
       ]
      },
      {
       "output_type": "stream",
       "stream": "stdout",
       "text": [
        "\n",
        "Score: 0.0000 for 24 and 25 (Less than four matches)"
       ]
      },
      {
       "output_type": "stream",
       "stream": "stdout",
       "text": [
        "\n",
        "Score: 0.0272 for 24 and 30"
       ]
      },
      {
       "output_type": "stream",
       "stream": "stdout",
       "text": [
        "\n",
        "Score: 0.0000 for 24 and 32 (Less than four matches)"
       ]
      },
      {
       "output_type": "stream",
       "stream": "stdout",
       "text": [
        "\n",
        "['../../images/testsets/Gallagher_small_unresized/24_379.jpg', '../../images/testsets/Gallagher_small_unresized/29_538.jpg']\n",
        "No descriptors found. Returning score 0\n",
        "Score: 0.0389 for 24 and 21"
       ]
      },
      {
       "output_type": "stream",
       "stream": "stdout",
       "text": [
        "\n",
        "Score: 0.0263 for 24 and 20"
       ]
      },
      {
       "output_type": "stream",
       "stream": "stdout",
       "text": [
        "\n",
        "Score: 0.0554 for 24 and 15"
       ]
      },
      {
       "output_type": "stream",
       "stream": "stdout",
       "text": [
        "\n",
        "Score: 0.0000 for 24 and 15 (Less than four matches)"
       ]
      },
      {
       "output_type": "stream",
       "stream": "stdout",
       "text": [
        "\n",
        "Score: 0.0479 for 24 and 19"
       ]
      },
      {
       "output_type": "stream",
       "stream": "stdout",
       "text": [
        "\n",
        "Score: 0.0000 for 24 and 19 (Less than four matches)"
       ]
      },
      {
       "output_type": "stream",
       "stream": "stdout",
       "text": [
        "\n",
        "Score: 0.0138 for 24 and 21"
       ]
      },
      {
       "output_type": "stream",
       "stream": "stdout",
       "text": [
        "\n",
        "Score: 0.0370 for 24 and 26"
       ]
      },
      {
       "output_type": "stream",
       "stream": "stdout",
       "text": [
        "\n",
        "Score: 0.0000 for 24 and 27 (Less than four matches)"
       ]
      },
      {
       "output_type": "stream",
       "stream": "stdout",
       "text": [
        "\n",
        "Score: 0.0000 for 24 and 15 (Less than four matches)"
       ]
      },
      {
       "output_type": "stream",
       "stream": "stdout",
       "text": [
        "\n",
        "Score: 0.0068 for 24 and 15"
       ]
      },
      {
       "output_type": "stream",
       "stream": "stdout",
       "text": [
        "\n",
        "Score: 0.0000 for 24 and 21 (Less than four matches)"
       ]
      },
      {
       "output_type": "stream",
       "stream": "stdout",
       "text": [
        "\n",
        "Score: 0.0000 for 24 and 15 (Less than four matches)"
       ]
      },
      {
       "output_type": "stream",
       "stream": "stdout",
       "text": [
        "\n",
        "Score: 0.0000 for 24 and 16 (Less than four matches)"
       ]
      },
      {
       "output_type": "stream",
       "stream": "stdout",
       "text": [
        "\n",
        "Score: 0.0000 for 24 and 17 (Less than four matches)"
       ]
      },
      {
       "output_type": "stream",
       "stream": "stdout",
       "text": [
        "\n",
        "['../../images/testsets/Gallagher_small_unresized/24_379.jpg', '../../images/testsets/Gallagher_small_unresized/28_537.jpg']\n",
        "No descriptors found. Returning score 0\n",
        "Score: 0.0000 for 24 and 27 (Less than four matches)"
       ]
      },
      {
       "output_type": "stream",
       "stream": "stdout",
       "text": [
        "\n",
        "Score: 0.0299 for 24 and 13"
       ]
      },
      {
       "output_type": "stream",
       "stream": "stdout",
       "text": [
        "\n",
        "Score: 0.0557 for 24 and 23"
       ]
      },
      {
       "output_type": "stream",
       "stream": "stdout",
       "text": [
        "\n",
        "Score: 0.0000 for 17 and 14 (Less than four matches)"
       ]
      },
      {
       "output_type": "stream",
       "stream": "stdout",
       "text": [
        "\n",
        "Score: 0.0037 for 17 and 28"
       ]
      },
      {
       "output_type": "stream",
       "stream": "stdout",
       "text": [
        "\n",
        "Score: 0.0000 for 17 and 27 (Less than four matches)"
       ]
      },
      {
       "output_type": "stream",
       "stream": "stdout",
       "text": [
        "\n",
        "Score: 0.0000 for 17 and 22 (Less than four matches)"
       ]
      },
      {
       "output_type": "stream",
       "stream": "stdout",
       "text": [
        "\n",
        "Score: 0.0000 for 17 and 29 (Less than four matches)"
       ]
      },
      {
       "output_type": "stream",
       "stream": "stdout",
       "text": [
        "\n",
        "Score: 0.0000 for 17 and 15 (Less than four matches)"
       ]
      },
      {
       "output_type": "stream",
       "stream": "stdout",
       "text": [
        "\n",
        "Score: 0.0000 for 17 and 25 (Less than four matches)"
       ]
      },
      {
       "output_type": "stream",
       "stream": "stdout",
       "text": [
        "\n",
        "Score: 0.0000 for 17 and 23 (Less than four matches)"
       ]
      },
      {
       "output_type": "stream",
       "stream": "stdout",
       "text": [
        "\n",
        "Score: 0.0000 for 17 and 16 (Less than four matches)"
       ]
      },
      {
       "output_type": "stream",
       "stream": "stdout",
       "text": [
        "\n",
        "Score: 0.0000 for 17 and 18 (Less than four matches)"
       ]
      },
      {
       "output_type": "stream",
       "stream": "stdout",
       "text": [
        "\n",
        "Score: 0.0295 for 17 and 25"
       ]
      },
      {
       "output_type": "stream",
       "stream": "stdout",
       "text": [
        "\n",
        "Score: 0.0000 for 17 and 32 (Less than four matches)"
       ]
      },
      {
       "output_type": "stream",
       "stream": "stdout",
       "text": [
        "\n",
        "Score: 0.0000 for 17 and 19 (Less than four matches)"
       ]
      },
      {
       "output_type": "stream",
       "stream": "stdout",
       "text": [
        "\n",
        "Score: 0.0000 for 17 and 21 (Less than four matches)"
       ]
      },
      {
       "output_type": "stream",
       "stream": "stdout",
       "text": [
        "\n",
        "Score: 0.0000 for 17 and 14 (Less than four matches)"
       ]
      },
      {
       "output_type": "stream",
       "stream": "stdout",
       "text": [
        "\n",
        "Score: 0.0000 for 17 and 26 (Less than four matches)"
       ]
      },
      {
       "output_type": "stream",
       "stream": "stdout",
       "text": [
        "\n",
        "Score: 0.0000 for 17 and 22 (Less than four matches)"
       ]
      },
      {
       "output_type": "stream",
       "stream": "stdout",
       "text": [
        "\n",
        "Score: 0.0000 for 17 and 29 (Less than four matches)"
       ]
      },
      {
       "output_type": "stream",
       "stream": "stdout",
       "text": [
        "\n",
        "Score: 0.0000 for 17 and 13 (Less than four matches)"
       ]
      },
      {
       "output_type": "stream",
       "stream": "stdout",
       "text": [
        "\n",
        "Score: 0.0000 for 17 and 28 (Less than four matches)"
       ]
      },
      {
       "output_type": "stream",
       "stream": "stdout",
       "text": [
        "\n",
        "Score: 0.0000 for 17 and 13 (Less than four matches)"
       ]
      },
      {
       "output_type": "stream",
       "stream": "stdout",
       "text": [
        "\n",
        "Score: 0.0338 for 17 and 14"
       ]
      },
      {
       "output_type": "stream",
       "stream": "stdout",
       "text": [
        "\n",
        "Score: 0.0342 for 17 and 14"
       ]
      },
      {
       "output_type": "stream",
       "stream": "stdout",
       "text": [
        "\n",
        "Score: 0.0175 for 17 and 27"
       ]
      },
      {
       "output_type": "stream",
       "stream": "stdout",
       "text": [
        "\n",
        "Score: 0.0000 for 17 and 17 (Less than four matches)"
       ]
      },
      {
       "output_type": "stream",
       "stream": "stdout",
       "text": [
        "\n",
        "Score: 0.0000 for 17 and 19 (Less than four matches)"
       ]
      },
      {
       "output_type": "stream",
       "stream": "stdout",
       "text": [
        "\n",
        "Score: 0.0000 for 17 and 31 (Less than four matches)"
       ]
      },
      {
       "output_type": "stream",
       "stream": "stdout",
       "text": [
        "\n",
        "Score: 0.0000 for 17 and 21 (Less than four matches)"
       ]
      },
      {
       "output_type": "stream",
       "stream": "stdout",
       "text": [
        "\n",
        "Score: 0.0485 for 17 and 23"
       ]
      },
      {
       "output_type": "stream",
       "stream": "stdout",
       "text": [
        "\n",
        "Score: 0.0000 for 17 and 25 (Less than four matches)"
       ]
      },
      {
       "output_type": "stream",
       "stream": "stdout",
       "text": [
        "\n",
        "Score: 0.0000 for 17 and 23 (Less than four matches)"
       ]
      },
      {
       "output_type": "stream",
       "stream": "stdout",
       "text": [
        "\n",
        "Score: 0.0000 for 17 and 31 (Less than four matches)"
       ]
      },
      {
       "output_type": "stream",
       "stream": "stdout",
       "text": [
        "\n",
        "Score: 0.0000 for 17 and 15 (Less than four matches)"
       ]
      },
      {
       "output_type": "stream",
       "stream": "stdout",
       "text": [
        "\n",
        "Score: 0.0000 for 17 and 23 (Less than four matches)"
       ]
      },
      {
       "output_type": "stream",
       "stream": "stdout",
       "text": [
        "\n",
        "Score: 0.0000 for 17 and 18 (Less than four matches)"
       ]
      },
      {
       "output_type": "stream",
       "stream": "stdout",
       "text": [
        "\n",
        "Score: 0.0000 for 17 and 15 (Less than four matches)"
       ]
      },
      {
       "output_type": "stream",
       "stream": "stdout",
       "text": [
        "\n",
        "Score: 0.0000 for 17 and 16 (Less than four matches)"
       ]
      },
      {
       "output_type": "stream",
       "stream": "stdout",
       "text": [
        "\n",
        "Score: 0.0000 for 17 and 23 (Less than four matches)"
       ]
      },
      {
       "output_type": "stream",
       "stream": "stdout",
       "text": [
        "\n",
        "Score: 0.0000 for 17 and 23 (Less than four matches)"
       ]
      },
      {
       "output_type": "stream",
       "stream": "stdout",
       "text": [
        "\n",
        "Score: 0.0000 for 17 and 32 (Less than four matches)"
       ]
      },
      {
       "output_type": "stream",
       "stream": "stdout",
       "text": [
        "\n",
        "Score: 0.0355 for 17 and 15"
       ]
      },
      {
       "output_type": "stream",
       "stream": "stdout",
       "text": [
        "\n",
        "Score: 0.0000 for 17 and 24 (Less than four matches)"
       ]
      },
      {
       "output_type": "stream",
       "stream": "stdout",
       "text": [
        "\n",
        "Score: 0.0000 for 17 and 25 (Less than four matches)"
       ]
      },
      {
       "output_type": "stream",
       "stream": "stdout",
       "text": [
        "\n",
        "Score: 0.0000 for 17 and 30 (Less than four matches)"
       ]
      },
      {
       "output_type": "stream",
       "stream": "stdout",
       "text": [
        "\n",
        "Score: 0.0000 for 17 and 32 (Less than four matches)"
       ]
      },
      {
       "output_type": "stream",
       "stream": "stdout",
       "text": [
        "\n",
        "['../../images/testsets/Gallagher_small_unresized/17_212.jpg', '../../images/testsets/Gallagher_small_unresized/29_538.jpg']\n",
        "No descriptors found. Returning score 0\n",
        "Score: 0.0000 for 17 and 21 (Less than four matches)"
       ]
      },
      {
       "output_type": "stream",
       "stream": "stdout",
       "text": [
        "\n",
        "Score: 0.0000 for 17 and 20 (Less than four matches)"
       ]
      },
      {
       "output_type": "stream",
       "stream": "stdout",
       "text": [
        "\n",
        "Score: 0.0000 for 17 and 15 (Less than four matches)"
       ]
      },
      {
       "output_type": "stream",
       "stream": "stdout",
       "text": [
        "\n",
        "Score: 0.0256 for 17 and 15"
       ]
      },
      {
       "output_type": "stream",
       "stream": "stdout",
       "text": [
        "\n",
        "Score: 0.0354 for 17 and 19"
       ]
      },
      {
       "output_type": "stream",
       "stream": "stdout",
       "text": [
        "\n",
        "Score: 0.0000 for 17 and 19 (Less than four matches)"
       ]
      },
      {
       "output_type": "stream",
       "stream": "stdout",
       "text": [
        "\n",
        "Score: 0.0204 for 17 and 21"
       ]
      },
      {
       "output_type": "stream",
       "stream": "stdout",
       "text": [
        "\n",
        "Score: 0.0140 for 17 and 26"
       ]
      },
      {
       "output_type": "stream",
       "stream": "stdout",
       "text": [
        "\n",
        "Score: 0.0000 for 17 and 27 (Less than four matches)"
       ]
      },
      {
       "output_type": "stream",
       "stream": "stdout",
       "text": [
        "\n",
        "Score: 0.0000 for 17 and 15 (Less than four matches)"
       ]
      },
      {
       "output_type": "stream",
       "stream": "stdout",
       "text": [
        "\n",
        "Score: 0.0000 for 17 and 15 (Less than four matches)"
       ]
      },
      {
       "output_type": "stream",
       "stream": "stdout",
       "text": [
        "\n",
        "Score: 0.0000 for 17 and 21 (Less than four matches)"
       ]
      },
      {
       "output_type": "stream",
       "stream": "stdout",
       "text": [
        "\n",
        "Score: 0.0000 for 17 and 15 (Less than four matches)"
       ]
      },
      {
       "output_type": "stream",
       "stream": "stdout",
       "text": [
        "\n",
        "Score: 0.0000 for 17 and 16 (Less than four matches)"
       ]
      },
      {
       "output_type": "stream",
       "stream": "stdout",
       "text": [
        "\n",
        "Score: 0.0000 for 17 and 17 (Less than four matches)"
       ]
      },
      {
       "output_type": "stream",
       "stream": "stdout",
       "text": [
        "\n",
        "['../../images/testsets/Gallagher_small_unresized/17_212.jpg', '../../images/testsets/Gallagher_small_unresized/28_537.jpg']\n",
        "No descriptors found. Returning score 0\n",
        "Score: 0.0000 for 17 and 27 (Less than four matches)"
       ]
      },
      {
       "output_type": "stream",
       "stream": "stdout",
       "text": [
        "\n",
        "Score: 0.0000 for 17 and 13 (Less than four matches)"
       ]
      },
      {
       "output_type": "stream",
       "stream": "stdout",
       "text": [
        "\n",
        "Score: 0.0000 for 17 and 23 (Less than four matches)"
       ]
      },
      {
       "output_type": "stream",
       "stream": "stdout",
       "text": [
        "\n",
        "Score: 0.0000 for 14 and 28 (Less than four matches)"
       ]
      },
      {
       "output_type": "stream",
       "stream": "stdout",
       "text": [
        "\n",
        "Score: 0.0000 for 14 and 27 (Less than four matches)"
       ]
      },
      {
       "output_type": "stream",
       "stream": "stdout",
       "text": [
        "\n",
        "Score: 0.0000 for 14 and 22 (Less than four matches)"
       ]
      },
      {
       "output_type": "stream",
       "stream": "stdout",
       "text": [
        "\n",
        "Score: 0.0000 for 14 and 29 (Less than four matches)"
       ]
      },
      {
       "output_type": "stream",
       "stream": "stdout",
       "text": [
        "\n",
        "Score: 0.0000 for 14 and 15 (Less than four matches)"
       ]
      },
      {
       "output_type": "stream",
       "stream": "stdout",
       "text": [
        "\n",
        "Score: 0.0000 for 14 and 25 (Less than four matches)"
       ]
      },
      {
       "output_type": "stream",
       "stream": "stdout",
       "text": [
        "\n",
        "Score: 0.0000 for 14 and 23 (Less than four matches)"
       ]
      },
      {
       "output_type": "stream",
       "stream": "stdout",
       "text": [
        "\n",
        "Score: 0.0000 for 14 and 16 (Less than four matches)"
       ]
      },
      {
       "output_type": "stream",
       "stream": "stdout",
       "text": [
        "\n",
        "Score: 0.0000 for 14 and 18 (Less than four matches)"
       ]
      },
      {
       "output_type": "stream",
       "stream": "stdout",
       "text": [
        "\n",
        "Score: 0.0386 for 14 and 25"
       ]
      },
      {
       "output_type": "stream",
       "stream": "stdout",
       "text": [
        "\n",
        "Score: 0.0000 for 14 and 32 (Less than four matches)"
       ]
      },
      {
       "output_type": "stream",
       "stream": "stdout",
       "text": [
        "\n",
        "Score: 0.0380 for 14 and 19"
       ]
      },
      {
       "output_type": "stream",
       "stream": "stdout",
       "text": [
        "\n",
        "Score: 0.0000 for 14 and 21 (Less than four matches)"
       ]
      },
      {
       "output_type": "stream",
       "stream": "stdout",
       "text": [
        "\n",
        "Score: 0.0000 for 14 and 14 (Less than four matches)"
       ]
      },
      {
       "output_type": "stream",
       "stream": "stdout",
       "text": [
        "\n",
        "Score: 0.0000 for 14 and 26 (Less than four matches)"
       ]
      },
      {
       "output_type": "stream",
       "stream": "stdout",
       "text": [
        "\n",
        "Score: 0.0000 for 14 and 22 (Less than four matches)"
       ]
      },
      {
       "output_type": "stream",
       "stream": "stdout",
       "text": [
        "\n",
        "Score: 0.0000 for 14 and 29 (Less than four matches)"
       ]
      },
      {
       "output_type": "stream",
       "stream": "stdout",
       "text": [
        "\n",
        "Score: 0.0000 for 14 and 13 (Less than four matches)"
       ]
      },
      {
       "output_type": "stream",
       "stream": "stdout",
       "text": [
        "\n",
        "Score: 0.0000 for 14 and 28 (Less than four matches)"
       ]
      },
      {
       "output_type": "stream",
       "stream": "stdout",
       "text": [
        "\n",
        "Score: 0.0000 for 14 and 13 (Less than four matches)"
       ]
      },
      {
       "output_type": "stream",
       "stream": "stdout",
       "text": [
        "\n",
        "Score: 0.0000 for 14 and 14 (Less than four matches)"
       ]
      },
      {
       "output_type": "stream",
       "stream": "stdout",
       "text": [
        "\n",
        "Score: 0.0582 for 14 and 14"
       ]
      },
      {
       "output_type": "stream",
       "stream": "stdout",
       "text": [
        "\n",
        "Score: 0.0000 for 14 and 27 (Less than four matches)"
       ]
      },
      {
       "output_type": "stream",
       "stream": "stdout",
       "text": [
        "\n",
        "Score: 0.0000 for 14 and 17 (Less than four matches)"
       ]
      },
      {
       "output_type": "stream",
       "stream": "stdout",
       "text": [
        "\n",
        "Score: 0.0000 for 14 and 19 (Less than four matches)"
       ]
      },
      {
       "output_type": "stream",
       "stream": "stdout",
       "text": [
        "\n",
        "Score: 0.0430 for 14 and 31"
       ]
      },
      {
       "output_type": "stream",
       "stream": "stdout",
       "text": [
        "\n",
        "Score: 0.0000 for 14 and 21 (Less than four matches)"
       ]
      },
      {
       "output_type": "stream",
       "stream": "stdout",
       "text": [
        "\n",
        "Score: 0.0000 for 14 and 23 (Less than four matches)"
       ]
      },
      {
       "output_type": "stream",
       "stream": "stdout",
       "text": [
        "\n",
        "Score: 0.0000 for 14 and 25 (Less than four matches)"
       ]
      },
      {
       "output_type": "stream",
       "stream": "stdout",
       "text": [
        "\n",
        "Score: 0.0000 for 14 and 23 (Less than four matches)"
       ]
      },
      {
       "output_type": "stream",
       "stream": "stdout",
       "text": [
        "\n",
        "Score: 0.0000 for 14 and 31 (Less than four matches)"
       ]
      },
      {
       "output_type": "stream",
       "stream": "stdout",
       "text": [
        "\n",
        "Score: 0.0000 for 14 and 15 (Less than four matches)"
       ]
      },
      {
       "output_type": "stream",
       "stream": "stdout",
       "text": [
        "\n",
        "Score: 0.0000 for 14 and 23 (Less than four matches)"
       ]
      },
      {
       "output_type": "stream",
       "stream": "stdout",
       "text": [
        "\n",
        "Score: 0.0000 for 14 and 18 (Less than four matches)"
       ]
      },
      {
       "output_type": "stream",
       "stream": "stdout",
       "text": [
        "\n",
        "Score: 0.0628 for 14 and 15"
       ]
      },
      {
       "output_type": "stream",
       "stream": "stdout",
       "text": [
        "\n",
        "Score: 0.0000 for 14 and 16 (Less than four matches)"
       ]
      },
      {
       "output_type": "stream",
       "stream": "stdout",
       "text": [
        "\n",
        "Score: 0.0000 for 14 and 23 (Less than four matches)"
       ]
      },
      {
       "output_type": "stream",
       "stream": "stdout",
       "text": [
        "\n",
        "Score: 0.0000 for 14 and 23 (Less than four matches)"
       ]
      },
      {
       "output_type": "stream",
       "stream": "stdout",
       "text": [
        "\n",
        "Score: 0.0000 for 14 and 32 (Less than four matches)"
       ]
      },
      {
       "output_type": "stream",
       "stream": "stdout",
       "text": [
        "\n",
        "Score: 0.0000 for 14 and 15 (Less than four matches)"
       ]
      },
      {
       "output_type": "stream",
       "stream": "stdout",
       "text": [
        "\n",
        "Score: 0.0465 for 14 and 24"
       ]
      },
      {
       "output_type": "stream",
       "stream": "stdout",
       "text": [
        "\n",
        "Score: 0.0000 for 14 and 25 (Less than four matches)"
       ]
      },
      {
       "output_type": "stream",
       "stream": "stdout",
       "text": [
        "\n",
        "Score: 0.0000 for 14 and 30 (Less than four matches)"
       ]
      },
      {
       "output_type": "stream",
       "stream": "stdout",
       "text": [
        "\n",
        "Score: 0.0000 for 14 and 32 (Less than four matches)"
       ]
      },
      {
       "output_type": "stream",
       "stream": "stdout",
       "text": [
        "\n",
        "['../../images/testsets/Gallagher_small_unresized/14_699.jpg', '../../images/testsets/Gallagher_small_unresized/29_538.jpg']\n",
        "No descriptors found. Returning score 0\n",
        "Score: 0.0586 for 14 and 21"
       ]
      },
      {
       "output_type": "stream",
       "stream": "stdout",
       "text": [
        "\n",
        "Score: 0.0000 for 14 and 20 (Less than four matches)"
       ]
      },
      {
       "output_type": "stream",
       "stream": "stdout",
       "text": [
        "\n",
        "Score: 0.0631 for 14 and 15"
       ]
      },
      {
       "output_type": "stream",
       "stream": "stdout",
       "text": [
        "\n",
        "Score: 0.0000 for 14 and 15 (Less than four matches)"
       ]
      },
      {
       "output_type": "stream",
       "stream": "stdout",
       "text": [
        "\n",
        "Score: 0.0778 for 14 and 19"
       ]
      },
      {
       "output_type": "stream",
       "stream": "stdout",
       "text": [
        "\n",
        "Score: 0.0363 for 14 and 19"
       ]
      },
      {
       "output_type": "stream",
       "stream": "stdout",
       "text": [
        "\n",
        "Score: 0.0000 for 14 and 21 (Less than four matches)"
       ]
      },
      {
       "output_type": "stream",
       "stream": "stdout",
       "text": [
        "\n",
        "Score: 0.0261 for 14 and 26"
       ]
      },
      {
       "output_type": "stream",
       "stream": "stdout",
       "text": [
        "\n",
        "Score: 0.0358 for 14 and 27"
       ]
      },
      {
       "output_type": "stream",
       "stream": "stdout",
       "text": [
        "\n",
        "Score: 0.0000 for 14 and 15 (Less than four matches)"
       ]
      },
      {
       "output_type": "stream",
       "stream": "stdout",
       "text": [
        "\n",
        "Score: 0.0000 for 14 and 15 (Less than four matches)"
       ]
      },
      {
       "output_type": "stream",
       "stream": "stdout",
       "text": [
        "\n",
        "Score: 0.0000 for 14 and 21 (Less than four matches)"
       ]
      },
      {
       "output_type": "stream",
       "stream": "stdout",
       "text": [
        "\n",
        "Score: 0.0000 for 14 and 15 (Less than four matches)"
       ]
      },
      {
       "output_type": "stream",
       "stream": "stdout",
       "text": [
        "\n",
        "Score: 0.0000 for 14 and 16 (Less than four matches)"
       ]
      },
      {
       "output_type": "stream",
       "stream": "stdout",
       "text": [
        "\n",
        "Score: 0.0000 for 14 and 17 (Less than four matches)"
       ]
      },
      {
       "output_type": "stream",
       "stream": "stdout",
       "text": [
        "\n",
        "['../../images/testsets/Gallagher_small_unresized/14_699.jpg', '../../images/testsets/Gallagher_small_unresized/28_537.jpg']\n",
        "No descriptors found. Returning score 0\n",
        "Score: 0.0000 for 14 and 27 (Less than four matches)"
       ]
      },
      {
       "output_type": "stream",
       "stream": "stdout",
       "text": [
        "\n",
        "Score: 0.0000 for 14 and 13 (Less than four matches)"
       ]
      },
      {
       "output_type": "stream",
       "stream": "stdout",
       "text": [
        "\n",
        "Score: 0.0000 for 14 and 23 (Less than four matches)"
       ]
      },
      {
       "output_type": "stream",
       "stream": "stdout",
       "text": [
        "\n",
        "Score: 0.0000 for 28 and 27 (Less than four matches)"
       ]
      },
      {
       "output_type": "stream",
       "stream": "stdout",
       "text": [
        "\n",
        "Score: 0.0000 for 28 and 22 (Less than four matches)"
       ]
      },
      {
       "output_type": "stream",
       "stream": "stdout",
       "text": [
        "\n",
        "Score: 0.0728 for 28 and 29"
       ]
      },
      {
       "output_type": "stream",
       "stream": "stdout",
       "text": [
        "\n",
        "Score: 0.0000 for 28 and 15 (Less than four matches)"
       ]
      },
      {
       "output_type": "stream",
       "stream": "stdout",
       "text": [
        "\n",
        "Score: 0.0000 for 28 and 25 (Less than four matches)"
       ]
      },
      {
       "output_type": "stream",
       "stream": "stdout",
       "text": [
        "\n",
        "Score: 0.0000 for 28 and 23 (Less than four matches)"
       ]
      },
      {
       "output_type": "stream",
       "stream": "stdout",
       "text": [
        "\n",
        "Score: 0.0000 for 28 and 16 (Less than four matches)"
       ]
      },
      {
       "output_type": "stream",
       "stream": "stdout",
       "text": [
        "\n",
        "Score: 0.0326 for 28 and 18"
       ]
      },
      {
       "output_type": "stream",
       "stream": "stdout",
       "text": [
        "\n",
        "Score: 0.0269 for 28 and 25"
       ]
      },
      {
       "output_type": "stream",
       "stream": "stdout",
       "text": [
        "\n",
        "Score: 0.0088 for 28 and 32"
       ]
      },
      {
       "output_type": "stream",
       "stream": "stdout",
       "text": [
        "\n",
        "Score: 0.0000 for 28 and 19 (Less than four matches)"
       ]
      },
      {
       "output_type": "stream",
       "stream": "stdout",
       "text": [
        "\n",
        "Score: 0.0270 for 28 and 21"
       ]
      },
      {
       "output_type": "stream",
       "stream": "stdout",
       "text": [
        "\n",
        "Score: 0.0000 for 28 and 14 (Less than four matches)"
       ]
      },
      {
       "output_type": "stream",
       "stream": "stdout",
       "text": [
        "\n",
        "Score: 0.0000 for 28 and 26 (Less than four matches)"
       ]
      },
      {
       "output_type": "stream",
       "stream": "stdout",
       "text": [
        "\n",
        "Score: 0.0000 for 28 and 22 (Less than four matches)"
       ]
      },
      {
       "output_type": "stream",
       "stream": "stdout",
       "text": [
        "\n",
        "Score: 0.0239 for 28 and 29"
       ]
      },
      {
       "output_type": "stream",
       "stream": "stdout",
       "text": [
        "\n",
        "Score: 0.0046 for 28 and 13"
       ]
      },
      {
       "output_type": "stream",
       "stream": "stdout",
       "text": [
        "\n",
        "Score: 0.0768 for 28 and 28"
       ]
      },
      {
       "output_type": "stream",
       "stream": "stdout",
       "text": [
        "\n",
        "Score: 0.0000 for 28 and 13 (Less than four matches)"
       ]
      },
      {
       "output_type": "stream",
       "stream": "stdout",
       "text": [
        "\n",
        "Score: 0.0000 for 28 and 14 (Less than four matches)"
       ]
      },
      {
       "output_type": "stream",
       "stream": "stdout",
       "text": [
        "\n",
        "Score: 0.0000 for 28 and 14 (Less than four matches)"
       ]
      },
      {
       "output_type": "stream",
       "stream": "stdout",
       "text": [
        "\n",
        "Score: 0.0199 for 28 and 27"
       ]
      },
      {
       "output_type": "stream",
       "stream": "stdout",
       "text": [
        "\n",
        "Score: 0.0038 for 28 and 17"
       ]
      },
      {
       "output_type": "stream",
       "stream": "stdout",
       "text": [
        "\n",
        "Score: 0.0000 for 28 and 19 (Less than four matches)"
       ]
      },
      {
       "output_type": "stream",
       "stream": "stdout",
       "text": [
        "\n",
        "Score: 0.0000 for 28 and 31 (Less than four matches)"
       ]
      },
      {
       "output_type": "stream",
       "stream": "stdout",
       "text": [
        "\n",
        "Score: 0.0000 for 28 and 21 (Less than four matches)"
       ]
      },
      {
       "output_type": "stream",
       "stream": "stdout",
       "text": [
        "\n",
        "Score: 0.0065 for 28 and 23"
       ]
      },
      {
       "output_type": "stream",
       "stream": "stdout",
       "text": [
        "\n",
        "Score: 0.0235 for 28 and 25"
       ]
      },
      {
       "output_type": "stream",
       "stream": "stdout",
       "text": [
        "\n",
        "Score: 0.0000 for 28 and 23 (Less than four matches)"
       ]
      },
      {
       "output_type": "stream",
       "stream": "stdout",
       "text": [
        "\n",
        "Score: 0.0000 for 28 and 31 (Less than four matches)"
       ]
      },
      {
       "output_type": "stream",
       "stream": "stdout",
       "text": [
        "\n",
        "Score: 0.0118 for 28 and 15"
       ]
      },
      {
       "output_type": "stream",
       "stream": "stdout",
       "text": [
        "\n",
        "Score: 0.0125 for 28 and 23"
       ]
      },
      {
       "output_type": "stream",
       "stream": "stdout",
       "text": [
        "\n",
        "Score: 0.0203 for 28 and 18"
       ]
      },
      {
       "output_type": "stream",
       "stream": "stdout",
       "text": [
        "\n",
        "Score: 0.0000 for 28 and 15 (Less than four matches)"
       ]
      },
      {
       "output_type": "stream",
       "stream": "stdout",
       "text": [
        "\n",
        "Score: 0.0000 for 28 and 16 (Less than four matches)"
       ]
      },
      {
       "output_type": "stream",
       "stream": "stdout",
       "text": [
        "\n",
        "Score: 0.0270 for 28 and 23"
       ]
      },
      {
       "output_type": "stream",
       "stream": "stdout",
       "text": [
        "\n",
        "Score: 0.0377 for 28 and 23"
       ]
      },
      {
       "output_type": "stream",
       "stream": "stdout",
       "text": [
        "\n",
        "Score: 0.0246 for 28 and 32"
       ]
      },
      {
       "output_type": "stream",
       "stream": "stdout",
       "text": [
        "\n",
        "Score: 0.0156 for 28 and 15"
       ]
      },
      {
       "output_type": "stream",
       "stream": "stdout",
       "text": [
        "\n",
        "Score: 0.0000 for 28 and 24 (Less than four matches)"
       ]
      },
      {
       "output_type": "stream",
       "stream": "stdout",
       "text": [
        "\n",
        "Score: 0.0480 for 28 and 25"
       ]
      },
      {
       "output_type": "stream",
       "stream": "stdout",
       "text": [
        "\n",
        "Score: 0.0371 for 28 and 30"
       ]
      },
      {
       "output_type": "stream",
       "stream": "stdout",
       "text": [
        "\n",
        "Score: 0.0000 for 28 and 32 (Less than four matches)"
       ]
      },
      {
       "output_type": "stream",
       "stream": "stdout",
       "text": [
        "\n",
        "['../../images/testsets/Gallagher_small_unresized/28_567.jpg', '../../images/testsets/Gallagher_small_unresized/29_538.jpg']\n",
        "No descriptors found. Returning score 0\n",
        "Score: 0.0289 for 28 and 21"
       ]
      },
      {
       "output_type": "stream",
       "stream": "stdout",
       "text": [
        "\n",
        "Score: 0.0264 for 28 and 20"
       ]
      },
      {
       "output_type": "stream",
       "stream": "stdout",
       "text": [
        "\n",
        "Score: 0.0197 for 28 and 15"
       ]
      },
      {
       "output_type": "stream",
       "stream": "stdout",
       "text": [
        "\n",
        "Score: 0.0000 for 28 and 15 (Less than four matches)"
       ]
      },
      {
       "output_type": "stream",
       "stream": "stdout",
       "text": [
        "\n",
        "Score: 0.0000 for 28 and 19 (Less than four matches)"
       ]
      },
      {
       "output_type": "stream",
       "stream": "stdout",
       "text": [
        "\n",
        "Score: 0.0204 for 28 and 19"
       ]
      },
      {
       "output_type": "stream",
       "stream": "stdout",
       "text": [
        "\n",
        "Score: 0.0172 for 28 and 21"
       ]
      },
      {
       "output_type": "stream",
       "stream": "stdout",
       "text": [
        "\n",
        "Score: 0.0111 for 28 and 26"
       ]
      },
      {
       "output_type": "stream",
       "stream": "stdout",
       "text": [
        "\n",
        "Score: 0.0084 for 28 and 27"
       ]
      },
      {
       "output_type": "stream",
       "stream": "stdout",
       "text": [
        "\n",
        "Score: 0.0206 for 28 and 15"
       ]
      },
      {
       "output_type": "stream",
       "stream": "stdout",
       "text": [
        "\n",
        "Score: 0.0116 for 28 and 15"
       ]
      },
      {
       "output_type": "stream",
       "stream": "stdout",
       "text": [
        "\n",
        "Score: 0.0241 for 28 and 21"
       ]
      },
      {
       "output_type": "stream",
       "stream": "stdout",
       "text": [
        "\n",
        "Score: 0.0000 for 28 and 15 (Less than four matches)"
       ]
      },
      {
       "output_type": "stream",
       "stream": "stdout",
       "text": [
        "\n",
        "Score: 0.0034 for 28 and 16"
       ]
      },
      {
       "output_type": "stream",
       "stream": "stdout",
       "text": [
        "\n",
        "Score: 0.0000 for 28 and 17 (Less than four matches)"
       ]
      },
      {
       "output_type": "stream",
       "stream": "stdout",
       "text": [
        "\n",
        "['../../images/testsets/Gallagher_small_unresized/28_567.jpg', '../../images/testsets/Gallagher_small_unresized/28_537.jpg']\n",
        "No descriptors found. Returning score 0\n",
        "Score: 0.0202 for 28 and 27"
       ]
      },
      {
       "output_type": "stream",
       "stream": "stdout",
       "text": [
        "\n",
        "Score: 0.0133 for 28 and 13"
       ]
      },
      {
       "output_type": "stream",
       "stream": "stdout",
       "text": [
        "\n",
        "Score: 0.0000 for 28 and 23 (Less than four matches)"
       ]
      },
      {
       "output_type": "stream",
       "stream": "stdout",
       "text": [
        "\n",
        "Score: 0.0000 for 27 and 22 (Less than four matches)"
       ]
      },
      {
       "output_type": "stream",
       "stream": "stdout",
       "text": [
        "\n",
        "Score: 0.0000 for 27 and 29 (Less than four matches)"
       ]
      },
      {
       "output_type": "stream",
       "stream": "stdout",
       "text": [
        "\n",
        "Score: 0.0464 for 27 and 15"
       ]
      },
      {
       "output_type": "stream",
       "stream": "stdout",
       "text": [
        "\n",
        "Score: 0.0000 for 27 and 25 (Less than four matches)"
       ]
      },
      {
       "output_type": "stream",
       "stream": "stdout",
       "text": [
        "\n",
        "Score: 0.0000 for 27 and 23 (Less than four matches)"
       ]
      },
      {
       "output_type": "stream",
       "stream": "stdout",
       "text": [
        "\n",
        "Score: 0.0000 for 27 and 16 (Less than four matches)"
       ]
      },
      {
       "output_type": "stream",
       "stream": "stdout",
       "text": [
        "\n",
        "Score: 0.0000 for 27 and 18 (Less than four matches)"
       ]
      },
      {
       "output_type": "stream",
       "stream": "stdout",
       "text": [
        "\n",
        "Score: 0.0261 for 27 and 25"
       ]
      },
      {
       "output_type": "stream",
       "stream": "stdout",
       "text": [
        "\n",
        "Score: 0.0000 for 27 and 32 (Less than four matches)"
       ]
      },
      {
       "output_type": "stream",
       "stream": "stdout",
       "text": [
        "\n",
        "Score: 0.0000 for 27 and 19 (Less than four matches)"
       ]
      },
      {
       "output_type": "stream",
       "stream": "stdout",
       "text": [
        "\n",
        "Score: 0.0163 for 27 and 21"
       ]
      },
      {
       "output_type": "stream",
       "stream": "stdout",
       "text": [
        "\n",
        "Score: 0.0086 for 27 and 14"
       ]
      },
      {
       "output_type": "stream",
       "stream": "stdout",
       "text": [
        "\n",
        "Score: 0.0000 for 27 and 26 (Less than four matches)"
       ]
      },
      {
       "output_type": "stream",
       "stream": "stdout",
       "text": [
        "\n",
        "Score: 0.0000 for 27 and 22 (Less than four matches)"
       ]
      },
      {
       "output_type": "stream",
       "stream": "stdout",
       "text": [
        "\n",
        "Score: 0.0000 for 27 and 29 (Less than four matches)"
       ]
      },
      {
       "output_type": "stream",
       "stream": "stdout",
       "text": [
        "\n",
        "Score: 0.0218 for 27 and 13"
       ]
      },
      {
       "output_type": "stream",
       "stream": "stdout",
       "text": [
        "\n",
        "Score: 0.0000 for 27 and 28 (Less than four matches)"
       ]
      },
      {
       "output_type": "stream",
       "stream": "stdout",
       "text": [
        "\n",
        "Score: 0.0000 for 27 and 13 (Less than four matches)"
       ]
      },
      {
       "output_type": "stream",
       "stream": "stdout",
       "text": [
        "\n",
        "Score: 0.0000 for 27 and 14 (Less than four matches)"
       ]
      },
      {
       "output_type": "stream",
       "stream": "stdout",
       "text": [
        "\n",
        "Score: 0.0000 for 27 and 14 (Less than four matches)"
       ]
      },
      {
       "output_type": "stream",
       "stream": "stdout",
       "text": [
        "\n",
        "Score: 0.0776 for 27 and 27"
       ]
      },
      {
       "output_type": "stream",
       "stream": "stdout",
       "text": [
        "\n",
        "Score: 0.0334 for 27 and 17"
       ]
      },
      {
       "output_type": "stream",
       "stream": "stdout",
       "text": [
        "\n",
        "Score: 0.0000 for 27 and 19 (Less than four matches)"
       ]
      },
      {
       "output_type": "stream",
       "stream": "stdout",
       "text": [
        "\n",
        "Score: 0.0000 for 27 and 31 (Less than four matches)"
       ]
      },
      {
       "output_type": "stream",
       "stream": "stdout",
       "text": [
        "\n",
        "Score: 0.0000 for 27 and 21 (Less than four matches)"
       ]
      },
      {
       "output_type": "stream",
       "stream": "stdout",
       "text": [
        "\n",
        "Score: 0.0000 for 27 and 23 (Less than four matches)"
       ]
      },
      {
       "output_type": "stream",
       "stream": "stdout",
       "text": [
        "\n",
        "Score: 0.0000 for 27 and 25 (Less than four matches)"
       ]
      },
      {
       "output_type": "stream",
       "stream": "stdout",
       "text": [
        "\n",
        "Score: 0.0000 for 27 and 23 (Less than four matches)"
       ]
      },
      {
       "output_type": "stream",
       "stream": "stdout",
       "text": [
        "\n",
        "Score: 0.0416 for 27 and 31"
       ]
      },
      {
       "output_type": "stream",
       "stream": "stdout",
       "text": [
        "\n",
        "Score: 0.0000 for 27 and 15 (Less than four matches)"
       ]
      },
      {
       "output_type": "stream",
       "stream": "stdout",
       "text": [
        "\n",
        "Score: 0.0000 for 27 and 23 (Less than four matches)"
       ]
      },
      {
       "output_type": "stream",
       "stream": "stdout",
       "text": [
        "\n",
        "Score: 0.0000 for 27 and 18 (Less than four matches)"
       ]
      },
      {
       "output_type": "stream",
       "stream": "stdout",
       "text": [
        "\n",
        "Score: 0.0000 for 27 and 15 (Less than four matches)"
       ]
      },
      {
       "output_type": "stream",
       "stream": "stdout",
       "text": [
        "\n",
        "Score: 0.0436 for 27 and 16"
       ]
      },
      {
       "output_type": "stream",
       "stream": "stdout",
       "text": [
        "\n",
        "Score: 0.0000 for 27 and 23 (Less than four matches)"
       ]
      },
      {
       "output_type": "stream",
       "stream": "stdout",
       "text": [
        "\n",
        "Score: 0.0000 for 27 and 23 (Less than four matches)"
       ]
      },
      {
       "output_type": "stream",
       "stream": "stdout",
       "text": [
        "\n",
        "Score: 0.0000 for 27 and 32 (Less than four matches)"
       ]
      },
      {
       "output_type": "stream",
       "stream": "stdout",
       "text": [
        "\n",
        "Score: 0.0311 for 27 and 15"
       ]
      },
      {
       "output_type": "stream",
       "stream": "stdout",
       "text": [
        "\n",
        "Score: 0.0214 for 27 and 24"
       ]
      },
      {
       "output_type": "stream",
       "stream": "stdout",
       "text": [
        "\n",
        "Score: 0.0000 for 27 and 25 (Less than four matches)"
       ]
      },
      {
       "output_type": "stream",
       "stream": "stdout",
       "text": [
        "\n",
        "Score: 0.0354 for 27 and 30"
       ]
      },
      {
       "output_type": "stream",
       "stream": "stdout",
       "text": [
        "\n",
        "Score: 0.0000 for 27 and 32 (Less than four matches)"
       ]
      },
      {
       "output_type": "stream",
       "stream": "stdout",
       "text": [
        "\n",
        "['../../images/testsets/Gallagher_small_unresized/27_551.jpg', '../../images/testsets/Gallagher_small_unresized/29_538.jpg']\n",
        "No descriptors found. Returning score 0\n",
        "Score: 0.0316 for 27 and 21"
       ]
      },
      {
       "output_type": "stream",
       "stream": "stdout",
       "text": [
        "\n",
        "Score: 0.0000 for 27 and 20 (Less than four matches)"
       ]
      },
      {
       "output_type": "stream",
       "stream": "stdout",
       "text": [
        "\n",
        "Score: 0.0380 for 27 and 15"
       ]
      },
      {
       "output_type": "stream",
       "stream": "stdout",
       "text": [
        "\n",
        "Score: 0.0506 for 27 and 15"
       ]
      },
      {
       "output_type": "stream",
       "stream": "stdout",
       "text": [
        "\n",
        "Score: 0.0181 for 27 and 19"
       ]
      },
      {
       "output_type": "stream",
       "stream": "stdout",
       "text": [
        "\n",
        "Score: 0.0307 for 27 and 19"
       ]
      },
      {
       "output_type": "stream",
       "stream": "stdout",
       "text": [
        "\n",
        "Score: 0.0000 for 27 and 21 (Less than four matches)"
       ]
      },
      {
       "output_type": "stream",
       "stream": "stdout",
       "text": [
        "\n",
        "Score: 0.0000 for 27 and 26 (Less than four matches)"
       ]
      },
      {
       "output_type": "stream",
       "stream": "stdout",
       "text": [
        "\n",
        "Score: 0.0000 for 27 and 27 (Less than four matches)"
       ]
      },
      {
       "output_type": "stream",
       "stream": "stdout",
       "text": [
        "\n",
        "Score: 0.0323 for 27 and 15"
       ]
      },
      {
       "output_type": "stream",
       "stream": "stdout",
       "text": [
        "\n",
        "Score: 0.0000 for 27 and 15 (Less than four matches)"
       ]
      },
      {
       "output_type": "stream",
       "stream": "stdout",
       "text": [
        "\n",
        "Score: 0.0000 for 27 and 21 (Less than four matches)"
       ]
      },
      {
       "output_type": "stream",
       "stream": "stdout",
       "text": [
        "\n",
        "Score: 0.0000 for 27 and 15 (Less than four matches)"
       ]
      },
      {
       "output_type": "stream",
       "stream": "stdout",
       "text": [
        "\n",
        "Score: 0.0000 for 27 and 16 (Less than four matches)"
       ]
      },
      {
       "output_type": "stream",
       "stream": "stdout",
       "text": [
        "\n",
        "Score: 0.0000 for 27 and 17 (Less than four matches)"
       ]
      },
      {
       "output_type": "stream",
       "stream": "stdout",
       "text": [
        "\n",
        "['../../images/testsets/Gallagher_small_unresized/27_551.jpg', '../../images/testsets/Gallagher_small_unresized/28_537.jpg']\n",
        "No descriptors found. Returning score 0\n",
        "Score: 0.0591 for 27 and 27"
       ]
      },
      {
       "output_type": "stream",
       "stream": "stdout",
       "text": [
        "\n",
        "Score: 0.0560 for 27 and 13"
       ]
      },
      {
       "output_type": "stream",
       "stream": "stdout",
       "text": [
        "\n",
        "Score: 0.0000 for 27 and 23 (Less than four matches)"
       ]
      },
      {
       "output_type": "stream",
       "stream": "stdout",
       "text": [
        "\n",
        "Score: 0.0317 for 22 and 29"
       ]
      },
      {
       "output_type": "stream",
       "stream": "stdout",
       "text": [
        "\n",
        "Score: 0.0000 for 22 and 15 (Less than four matches)"
       ]
      },
      {
       "output_type": "stream",
       "stream": "stdout",
       "text": [
        "\n",
        "Score: 0.0127 for 22 and 25"
       ]
      },
      {
       "output_type": "stream",
       "stream": "stdout",
       "text": [
        "\n",
        "Score: 0.0000 for 22 and 23 (Less than four matches)"
       ]
      },
      {
       "output_type": "stream",
       "stream": "stdout",
       "text": [
        "\n",
        "Score: 0.0000 for 22 and 16 (Less than four matches)"
       ]
      },
      {
       "output_type": "stream",
       "stream": "stdout",
       "text": [
        "\n",
        "Score: 0.0000 for 22 and 18 (Less than four matches)"
       ]
      },
      {
       "output_type": "stream",
       "stream": "stdout",
       "text": [
        "\n",
        "Score: 0.0257 for 22 and 25"
       ]
      },
      {
       "output_type": "stream",
       "stream": "stdout",
       "text": [
        "\n",
        "Score: 0.0329 for 22 and 32"
       ]
      },
      {
       "output_type": "stream",
       "stream": "stdout",
       "text": [
        "\n",
        "Score: 0.0120 for 22 and 19"
       ]
      },
      {
       "output_type": "stream",
       "stream": "stdout",
       "text": [
        "\n",
        "Score: 0.0000 for 22 and 21 (Less than four matches)"
       ]
      },
      {
       "output_type": "stream",
       "stream": "stdout",
       "text": [
        "\n",
        "Score: 0.0405 for 22 and 14"
       ]
      },
      {
       "output_type": "stream",
       "stream": "stdout",
       "text": [
        "\n",
        "Score: 0.0000 for 22 and 26 (Less than four matches)"
       ]
      },
      {
       "output_type": "stream",
       "stream": "stdout",
       "text": [
        "\n",
        "Score: 0.0576 for 22 and 22"
       ]
      },
      {
       "output_type": "stream",
       "stream": "stdout",
       "text": [
        "\n",
        "Score: 0.0239 for 22 and 29"
       ]
      },
      {
       "output_type": "stream",
       "stream": "stdout",
       "text": [
        "\n",
        "Score: 0.0000 for 22 and 13 (Less than four matches)"
       ]
      },
      {
       "output_type": "stream",
       "stream": "stdout",
       "text": [
        "\n",
        "Score: 0.0154 for 22 and 28"
       ]
      },
      {
       "output_type": "stream",
       "stream": "stdout",
       "text": [
        "\n",
        "Score: 0.0000 for 22 and 13 (Less than four matches)"
       ]
      },
      {
       "output_type": "stream",
       "stream": "stdout",
       "text": [
        "\n",
        "Score: 0.0000 for 22 and 14 (Less than four matches)"
       ]
      },
      {
       "output_type": "stream",
       "stream": "stdout",
       "text": [
        "\n",
        "Score: 0.0505 for 22 and 14"
       ]
      },
      {
       "output_type": "stream",
       "stream": "stdout",
       "text": [
        "\n",
        "Score: 0.0000 for 22 and 27 (Less than four matches)"
       ]
      },
      {
       "output_type": "stream",
       "stream": "stdout",
       "text": [
        "\n",
        "Score: 0.0000 for 22 and 17 (Less than four matches)"
       ]
      },
      {
       "output_type": "stream",
       "stream": "stdout",
       "text": [
        "\n",
        "Score: 0.0000 for 22 and 19 (Less than four matches)"
       ]
      },
      {
       "output_type": "stream",
       "stream": "stdout",
       "text": [
        "\n",
        "Score: 0.0348 for 22 and 31"
       ]
      },
      {
       "output_type": "stream",
       "stream": "stdout",
       "text": [
        "\n",
        "Score: 0.0000 for 22 and 21 (Less than four matches)"
       ]
      },
      {
       "output_type": "stream",
       "stream": "stdout",
       "text": [
        "\n",
        "Score: 0.0822 for 22 and 23"
       ]
      },
      {
       "output_type": "stream",
       "stream": "stdout",
       "text": [
        "\n",
        "Score: 0.0479 for 22 and 25"
       ]
      },
      {
       "output_type": "stream",
       "stream": "stdout",
       "text": [
        "\n",
        "Score: 0.0000 for 22 and 23 (Less than four matches)"
       ]
      },
      {
       "output_type": "stream",
       "stream": "stdout",
       "text": [
        "\n",
        "Score: 0.0422 for 22 and 31"
       ]
      },
      {
       "output_type": "stream",
       "stream": "stdout",
       "text": [
        "\n",
        "Score: 0.0000 for 22 and 15 (Less than four matches)"
       ]
      },
      {
       "output_type": "stream",
       "stream": "stdout",
       "text": [
        "\n",
        "Score: 0.0358 for 22 and 23"
       ]
      },
      {
       "output_type": "stream",
       "stream": "stdout",
       "text": [
        "\n",
        "Score: 0.0000 for 22 and 18 (Less than four matches)"
       ]
      },
      {
       "output_type": "stream",
       "stream": "stdout",
       "text": [
        "\n",
        "Score: 0.1261 for 22 and 15"
       ]
      },
      {
       "output_type": "stream",
       "stream": "stdout",
       "text": [
        "\n",
        "Score: 0.0000 for 22 and 16 (Less than four matches)"
       ]
      },
      {
       "output_type": "stream",
       "stream": "stdout",
       "text": [
        "\n",
        "Score: 0.0000 for 22 and 23 (Less than four matches)"
       ]
      },
      {
       "output_type": "stream",
       "stream": "stdout",
       "text": [
        "\n",
        "Score: 0.0000 for 22 and 23 (Less than four matches)"
       ]
      },
      {
       "output_type": "stream",
       "stream": "stdout",
       "text": [
        "\n",
        "Score: 0.0152 for 22 and 32"
       ]
      },
      {
       "output_type": "stream",
       "stream": "stdout",
       "text": [
        "\n",
        "Score: 0.0000 for 22 and 15 (Less than four matches)"
       ]
      },
      {
       "output_type": "stream",
       "stream": "stdout",
       "text": [
        "\n",
        "Score: 0.0062 for 22 and 24"
       ]
      },
      {
       "output_type": "stream",
       "stream": "stdout",
       "text": [
        "\n",
        "Score: 0.0624 for 22 and 25"
       ]
      },
      {
       "output_type": "stream",
       "stream": "stdout",
       "text": [
        "\n",
        "Score: 0.0000 for 22 and 30 (Less than four matches)"
       ]
      },
      {
       "output_type": "stream",
       "stream": "stdout",
       "text": [
        "\n",
        "Score: 0.0000 for 22 and 32 (Less than four matches)"
       ]
      },
      {
       "output_type": "stream",
       "stream": "stdout",
       "text": [
        "\n",
        "['../../images/testsets/Gallagher_small_unresized/22_254.jpg', '../../images/testsets/Gallagher_small_unresized/29_538.jpg']\n",
        "No descriptors found. Returning score 0\n",
        "Score: 0.0511 for 22 and 21"
       ]
      },
      {
       "output_type": "stream",
       "stream": "stdout",
       "text": [
        "\n",
        "Score: 0.0720 for 22 and 20"
       ]
      },
      {
       "output_type": "stream",
       "stream": "stdout",
       "text": [
        "\n",
        "Score: 0.0000 for 22 and 15 (Less than four matches)"
       ]
      },
      {
       "output_type": "stream",
       "stream": "stdout",
       "text": [
        "\n",
        "Score: 0.0000 for 22 and 15 (Less than four matches)"
       ]
      },
      {
       "output_type": "stream",
       "stream": "stdout",
       "text": [
        "\n",
        "Score: 0.0000 for 22 and 19 (Less than four matches)"
       ]
      },
      {
       "output_type": "stream",
       "stream": "stdout",
       "text": [
        "\n",
        "Score: 0.0959 for 22 and 19"
       ]
      },
      {
       "output_type": "stream",
       "stream": "stdout",
       "text": [
        "\n",
        "Score: 0.0000 for 22 and 21 (Less than four matches)"
       ]
      },
      {
       "output_type": "stream",
       "stream": "stdout",
       "text": [
        "\n",
        "Score: 0.0294 for 22 and 26"
       ]
      },
      {
       "output_type": "stream",
       "stream": "stdout",
       "text": [
        "\n",
        "Score: 0.0000 for 22 and 27 (Less than four matches)"
       ]
      },
      {
       "output_type": "stream",
       "stream": "stdout",
       "text": [
        "\n",
        "Score: 0.0000 for 22 and 15 (Less than four matches)"
       ]
      },
      {
       "output_type": "stream",
       "stream": "stdout",
       "text": [
        "\n",
        "Score: 0.0100 for 22 and 15"
       ]
      },
      {
       "output_type": "stream",
       "stream": "stdout",
       "text": [
        "\n",
        "Score: 0.0000 for 22 and 21 (Less than four matches)"
       ]
      },
      {
       "output_type": "stream",
       "stream": "stdout",
       "text": [
        "\n",
        "Score: 0.0000 for 22 and 15 (Less than four matches)"
       ]
      },
      {
       "output_type": "stream",
       "stream": "stdout",
       "text": [
        "\n",
        "Score: 0.0000 for 22 and 16 (Less than four matches)"
       ]
      },
      {
       "output_type": "stream",
       "stream": "stdout",
       "text": [
        "\n",
        "Score: 0.0000 for 22 and 17 (Less than four matches)"
       ]
      },
      {
       "output_type": "stream",
       "stream": "stdout",
       "text": [
        "\n",
        "['../../images/testsets/Gallagher_small_unresized/22_254.jpg', '../../images/testsets/Gallagher_small_unresized/28_537.jpg']\n",
        "No descriptors found. Returning score 0\n",
        "Score: 0.0000 for 22 and 27 (Less than four matches)"
       ]
      },
      {
       "output_type": "stream",
       "stream": "stdout",
       "text": [
        "\n",
        "Score: 0.0000 for 22 and 13 (Less than four matches)"
       ]
      },
      {
       "output_type": "stream",
       "stream": "stdout",
       "text": [
        "\n",
        "Score: 0.0000 for 22 and 23 (Less than four matches)"
       ]
      },
      {
       "output_type": "stream",
       "stream": "stdout",
       "text": [
        "\n",
        "Score: 0.0000 for 29 and 15 (Less than four matches)"
       ]
      },
      {
       "output_type": "stream",
       "stream": "stdout",
       "text": [
        "\n",
        "Score: 0.0144 for 29 and 25"
       ]
      },
      {
       "output_type": "stream",
       "stream": "stdout",
       "text": [
        "\n",
        "Score: 0.0099 for 29 and 23"
       ]
      },
      {
       "output_type": "stream",
       "stream": "stdout",
       "text": [
        "\n",
        "Score: 0.0000 for 29 and 16 (Less than four matches)"
       ]
      },
      {
       "output_type": "stream",
       "stream": "stdout",
       "text": [
        "\n",
        "Score: 0.0372 for 29 and 18"
       ]
      },
      {
       "output_type": "stream",
       "stream": "stdout",
       "text": [
        "\n",
        "Score: 0.0000 for 29 and 25 (Less than four matches)"
       ]
      },
      {
       "output_type": "stream",
       "stream": "stdout",
       "text": [
        "\n",
        "Score: 0.0000 for 29 and 32 (Less than four matches)"
       ]
      },
      {
       "output_type": "stream",
       "stream": "stdout",
       "text": [
        "\n",
        "Score: 0.0000 for 29 and 19 (Less than four matches)"
       ]
      },
      {
       "output_type": "stream",
       "stream": "stdout",
       "text": [
        "\n",
        "Score: 0.0163 for 29 and 21"
       ]
      },
      {
       "output_type": "stream",
       "stream": "stdout",
       "text": [
        "\n",
        "Score: 0.0000 for 29 and 14 (Less than four matches)"
       ]
      },
      {
       "output_type": "stream",
       "stream": "stdout",
       "text": [
        "\n",
        "Score: 0.0000 for 29 and 26 (Less than four matches)"
       ]
      },
      {
       "output_type": "stream",
       "stream": "stdout",
       "text": [
        "\n",
        "Score: 0.0000 for 29 and 22 (Less than four matches)"
       ]
      },
      {
       "output_type": "stream",
       "stream": "stdout",
       "text": [
        "\n",
        "Score: 0.0921 for 29 and 29"
       ]
      },
      {
       "output_type": "stream",
       "stream": "stdout",
       "text": [
        "\n",
        "Score: 0.0228 for 29 and 13"
       ]
      },
      {
       "output_type": "stream",
       "stream": "stdout",
       "text": [
        "\n",
        "Score: 0.0247 for 29 and 28"
       ]
      },
      {
       "output_type": "stream",
       "stream": "stdout",
       "text": [
        "\n",
        "Score: 0.0000 for 29 and 13 (Less than four matches)"
       ]
      },
      {
       "output_type": "stream",
       "stream": "stdout",
       "text": [
        "\n",
        "Score: 0.0000 for 29 and 14 (Less than four matches)"
       ]
      },
      {
       "output_type": "stream",
       "stream": "stdout",
       "text": [
        "\n",
        "Score: 0.0000 for 29 and 14 (Less than four matches)"
       ]
      },
      {
       "output_type": "stream",
       "stream": "stdout",
       "text": [
        "\n",
        "Score: 0.0000 for 29 and 27 (Less than four matches)"
       ]
      },
      {
       "output_type": "stream",
       "stream": "stdout",
       "text": [
        "\n",
        "Score: 0.0084 for 29 and 17"
       ]
      },
      {
       "output_type": "stream",
       "stream": "stdout",
       "text": [
        "\n",
        "Score: 0.0000 for 29 and 19 (Less than four matches)"
       ]
      },
      {
       "output_type": "stream",
       "stream": "stdout",
       "text": [
        "\n",
        "Score: 0.0000 for 29 and 31 (Less than four matches)"
       ]
      },
      {
       "output_type": "stream",
       "stream": "stdout",
       "text": [
        "\n",
        "Score: 0.0114 for 29 and 21"
       ]
      },
      {
       "output_type": "stream",
       "stream": "stdout",
       "text": [
        "\n",
        "Score: 0.0163 for 29 and 23"
       ]
      },
      {
       "output_type": "stream",
       "stream": "stdout",
       "text": [
        "\n",
        "Score: 0.0414 for 29 and 25"
       ]
      },
      {
       "output_type": "stream",
       "stream": "stdout",
       "text": [
        "\n",
        "Score: 0.0000 for 29 and 23 (Less than four matches)"
       ]
      },
      {
       "output_type": "stream",
       "stream": "stdout",
       "text": [
        "\n",
        "Score: 0.0148 for 29 and 31"
       ]
      },
      {
       "output_type": "stream",
       "stream": "stdout",
       "text": [
        "\n",
        "Score: 0.0000 for 29 and 15 (Less than four matches)"
       ]
      },
      {
       "output_type": "stream",
       "stream": "stdout",
       "text": [
        "\n",
        "Score: 0.0013 for 29 and 23"
       ]
      },
      {
       "output_type": "stream",
       "stream": "stdout",
       "text": [
        "\n",
        "Score: 0.0254 for 29 and 18"
       ]
      },
      {
       "output_type": "stream",
       "stream": "stdout",
       "text": [
        "\n",
        "Score: 0.0137 for 29 and 15"
       ]
      },
      {
       "output_type": "stream",
       "stream": "stdout",
       "text": [
        "\n",
        "Score: 0.0000 for 29 and 16 (Less than four matches)"
       ]
      },
      {
       "output_type": "stream",
       "stream": "stdout",
       "text": [
        "\n",
        "Score: 0.0221 for 29 and 23"
       ]
      },
      {
       "output_type": "stream",
       "stream": "stdout",
       "text": [
        "\n",
        "Score: 0.0127 for 29 and 23"
       ]
      },
      {
       "output_type": "stream",
       "stream": "stdout",
       "text": [
        "\n",
        "Score: 0.0000 for 29 and 32 (Less than four matches)"
       ]
      },
      {
       "output_type": "stream",
       "stream": "stdout",
       "text": [
        "\n",
        "Score: 0.0118 for 29 and 15"
       ]
      },
      {
       "output_type": "stream",
       "stream": "stdout",
       "text": [
        "\n",
        "Score: 0.0000 for 29 and 24 (Less than four matches)"
       ]
      },
      {
       "output_type": "stream",
       "stream": "stdout",
       "text": [
        "\n",
        "Score: 0.0272 for 29 and 25"
       ]
      },
      {
       "output_type": "stream",
       "stream": "stdout",
       "text": [
        "\n",
        "Score: 0.0290 for 29 and 30"
       ]
      },
      {
       "output_type": "stream",
       "stream": "stdout",
       "text": [
        "\n",
        "Score: 0.0000 for 29 and 32 (Less than four matches)"
       ]
      },
      {
       "output_type": "stream",
       "stream": "stdout",
       "text": [
        "\n",
        "['../../images/testsets/Gallagher_small_unresized/29_568.jpg', '../../images/testsets/Gallagher_small_unresized/29_538.jpg']\n",
        "No descriptors found. Returning score 0\n",
        "Score: 0.0000 for 29 and 21 (Less than four matches)"
       ]
      },
      {
       "output_type": "stream",
       "stream": "stdout",
       "text": [
        "\n",
        "Score: 0.0338 for 29 and 20"
       ]
      },
      {
       "output_type": "stream",
       "stream": "stdout",
       "text": [
        "\n",
        "Score: 0.0000 for 29 and 15 (Less than four matches)"
       ]
      },
      {
       "output_type": "stream",
       "stream": "stdout",
       "text": [
        "\n",
        "Score: 0.0102 for 29 and 15"
       ]
      },
      {
       "output_type": "stream",
       "stream": "stdout",
       "text": [
        "\n",
        "Score: 0.0111 for 29 and 19"
       ]
      },
      {
       "output_type": "stream",
       "stream": "stdout",
       "text": [
        "\n",
        "Score: 0.0000 for 29 and 19 (Less than four matches)"
       ]
      },
      {
       "output_type": "stream",
       "stream": "stdout",
       "text": [
        "\n",
        "Score: 0.0241 for 29 and 21"
       ]
      },
      {
       "output_type": "stream",
       "stream": "stdout",
       "text": [
        "\n",
        "Score: 0.0000 for 29 and 26 (Less than four matches)"
       ]
      },
      {
       "output_type": "stream",
       "stream": "stdout",
       "text": [
        "\n",
        "Score: 0.0352 for 29 and 27"
       ]
      },
      {
       "output_type": "stream",
       "stream": "stdout",
       "text": [
        "\n",
        "Score: 0.0117 for 29 and 15"
       ]
      },
      {
       "output_type": "stream",
       "stream": "stdout",
       "text": [
        "\n",
        "Score: 0.0162 for 29 and 15"
       ]
      },
      {
       "output_type": "stream",
       "stream": "stdout",
       "text": [
        "\n",
        "Score: 0.0211 for 29 and 21"
       ]
      },
      {
       "output_type": "stream",
       "stream": "stdout",
       "text": [
        "\n",
        "Score: 0.0000 for 29 and 15 (Less than four matches)"
       ]
      },
      {
       "output_type": "stream",
       "stream": "stdout",
       "text": [
        "\n",
        "Score: 0.0169 for 29 and 16"
       ]
      },
      {
       "output_type": "stream",
       "stream": "stdout",
       "text": [
        "\n",
        "Score: 0.0000 for 29 and 17 (Less than four matches)"
       ]
      },
      {
       "output_type": "stream",
       "stream": "stdout",
       "text": [
        "\n",
        "['../../images/testsets/Gallagher_small_unresized/29_568.jpg', '../../images/testsets/Gallagher_small_unresized/28_537.jpg']\n",
        "No descriptors found. Returning score 0\n",
        "Score: 0.0000 for 29 and 27 (Less than four matches)"
       ]
      },
      {
       "output_type": "stream",
       "stream": "stdout",
       "text": [
        "\n",
        "Score: 0.0250 for 29 and 13"
       ]
      },
      {
       "output_type": "stream",
       "stream": "stdout",
       "text": [
        "\n",
        "Score: 0.0290 for 29 and 23"
       ]
      },
      {
       "output_type": "stream",
       "stream": "stdout",
       "text": [
        "\n",
        "Score: 0.0000 for 15 and 25 (Less than four matches)"
       ]
      },
      {
       "output_type": "stream",
       "stream": "stdout",
       "text": [
        "\n",
        "Score: 0.0000 for 15 and 23 (Less than four matches)"
       ]
      },
      {
       "output_type": "stream",
       "stream": "stdout",
       "text": [
        "\n",
        "Score: 0.0000 for 15 and 16 (Less than four matches)"
       ]
      },
      {
       "output_type": "stream",
       "stream": "stdout",
       "text": [
        "\n",
        "Score: 0.0000 for 15 and 18 (Less than four matches)"
       ]
      },
      {
       "output_type": "stream",
       "stream": "stdout",
       "text": [
        "\n",
        "Score: 0.0000 for 15 and 25 (Less than four matches)"
       ]
      },
      {
       "output_type": "stream",
       "stream": "stdout",
       "text": [
        "\n",
        "Score: 0.0000 for 15 and 32 (Less than four matches)"
       ]
      },
      {
       "output_type": "stream",
       "stream": "stdout",
       "text": [
        "\n",
        "Score: 0.0294 for 15 and 19"
       ]
      },
      {
       "output_type": "stream",
       "stream": "stdout",
       "text": [
        "\n",
        "Score: 0.0000 for 15 and 21 (Less than four matches)"
       ]
      },
      {
       "output_type": "stream",
       "stream": "stdout",
       "text": [
        "\n",
        "Score: 0.0000 for 15 and 14 (Less than four matches)"
       ]
      },
      {
       "output_type": "stream",
       "stream": "stdout",
       "text": [
        "\n",
        "Score: 0.0000 for 15 and 26 (Less than four matches)"
       ]
      },
      {
       "output_type": "stream",
       "stream": "stdout",
       "text": [
        "\n",
        "Score: 0.0000 for 15 and 22 (Less than four matches)"
       ]
      },
      {
       "output_type": "stream",
       "stream": "stdout",
       "text": [
        "\n",
        "Score: 0.0000 for 15 and 29 (Less than four matches)"
       ]
      },
      {
       "output_type": "stream",
       "stream": "stdout",
       "text": [
        "\n",
        "Score: 0.0324 for 15 and 13"
       ]
      },
      {
       "output_type": "stream",
       "stream": "stdout",
       "text": [
        "\n",
        "Score: 0.0000 for 15 and 28 (Less than four matches)"
       ]
      },
      {
       "output_type": "stream",
       "stream": "stdout",
       "text": [
        "\n",
        "Score: 0.0000 for 15 and 13 (Less than four matches)"
       ]
      },
      {
       "output_type": "stream",
       "stream": "stdout",
       "text": [
        "\n",
        "Score: 0.0000 for 15 and 14 (Less than four matches)"
       ]
      },
      {
       "output_type": "stream",
       "stream": "stdout",
       "text": [
        "\n",
        "Score: 0.0721 for 15 and 14"
       ]
      },
      {
       "output_type": "stream",
       "stream": "stdout",
       "text": [
        "\n",
        "Score: 0.0512 for 15 and 27"
       ]
      },
      {
       "output_type": "stream",
       "stream": "stdout",
       "text": [
        "\n",
        "Score: 0.0000 for 15 and 17 (Less than four matches)"
       ]
      },
      {
       "output_type": "stream",
       "stream": "stdout",
       "text": [
        "\n",
        "Score: 0.0697 for 15 and 19"
       ]
      },
      {
       "output_type": "stream",
       "stream": "stdout",
       "text": [
        "\n",
        "Score: 0.0000 for 15 and 31 (Less than four matches)"
       ]
      },
      {
       "output_type": "stream",
       "stream": "stdout",
       "text": [
        "\n",
        "Score: 0.0000 for 15 and 21 (Less than four matches)"
       ]
      },
      {
       "output_type": "stream",
       "stream": "stdout",
       "text": [
        "\n",
        "Score: 0.0316 for 15 and 23"
       ]
      },
      {
       "output_type": "stream",
       "stream": "stdout",
       "text": [
        "\n",
        "Score: 0.0000 for 15 and 25 (Less than four matches)"
       ]
      },
      {
       "output_type": "stream",
       "stream": "stdout",
       "text": [
        "\n",
        "Score: 0.0000 for 15 and 23 (Less than four matches)"
       ]
      },
      {
       "output_type": "stream",
       "stream": "stdout",
       "text": [
        "\n",
        "Score: 0.0000 for 15 and 31 (Less than four matches)"
       ]
      },
      {
       "output_type": "stream",
       "stream": "stdout",
       "text": [
        "\n",
        "Score: 0.0000 for 15 and 15 (Less than four matches)"
       ]
      },
      {
       "output_type": "stream",
       "stream": "stdout",
       "text": [
        "\n",
        "Score: 0.0000 for 15 and 23 (Less than four matches)"
       ]
      },
      {
       "output_type": "stream",
       "stream": "stdout",
       "text": [
        "\n",
        "Score: 0.0000 for 15 and 18 (Less than four matches)"
       ]
      },
      {
       "output_type": "stream",
       "stream": "stdout",
       "text": [
        "\n",
        "Score: 0.0000 for 15 and 15 (Less than four matches)"
       ]
      },
      {
       "output_type": "stream",
       "stream": "stdout",
       "text": [
        "\n",
        "Score: 0.0000 for 15 and 16 (Less than four matches)"
       ]
      },
      {
       "output_type": "stream",
       "stream": "stdout",
       "text": [
        "\n",
        "Score: 0.0000 for 15 and 23 (Less than four matches)"
       ]
      },
      {
       "output_type": "stream",
       "stream": "stdout",
       "text": [
        "\n",
        "Score: 0.0000 for 15 and 23 (Less than four matches)"
       ]
      },
      {
       "output_type": "stream",
       "stream": "stdout",
       "text": [
        "\n",
        "Score: 0.0000 for 15 and 32 (Less than four matches)"
       ]
      },
      {
       "output_type": "stream",
       "stream": "stdout",
       "text": [
        "\n",
        "Score: 0.0285 for 15 and 15"
       ]
      },
      {
       "output_type": "stream",
       "stream": "stdout",
       "text": [
        "\n",
        "Score: 0.0000 for 15 and 24 (Less than four matches)"
       ]
      },
      {
       "output_type": "stream",
       "stream": "stdout",
       "text": [
        "\n",
        "Score: 0.0000 for 15 and 25 (Less than four matches)"
       ]
      },
      {
       "output_type": "stream",
       "stream": "stdout",
       "text": [
        "\n",
        "Score: 0.0000 for 15 and 30 (Less than four matches)"
       ]
      },
      {
       "output_type": "stream",
       "stream": "stdout",
       "text": [
        "\n",
        "Score: 0.0000 for 15 and 32 (Less than four matches)"
       ]
      },
      {
       "output_type": "stream",
       "stream": "stdout",
       "text": [
        "\n",
        "['../../images/testsets/Gallagher_small_unresized/15_154.jpg', '../../images/testsets/Gallagher_small_unresized/29_538.jpg']\n",
        "No descriptors found. Returning score 0\n",
        "Score: 0.0000 for 15 and 21 (Less than four matches)"
       ]
      },
      {
       "output_type": "stream",
       "stream": "stdout",
       "text": [
        "\n",
        "Score: 0.0000 for 15 and 20 (Less than four matches)"
       ]
      },
      {
       "output_type": "stream",
       "stream": "stdout",
       "text": [
        "\n",
        "Score: 0.0222 for 15 and 15"
       ]
      },
      {
       "output_type": "stream",
       "stream": "stdout",
       "text": [
        "\n",
        "Score: 0.0754 for 15 and 15"
       ]
      },
      {
       "output_type": "stream",
       "stream": "stdout",
       "text": [
        "\n",
        "Score: 0.0382 for 15 and 19"
       ]
      },
      {
       "output_type": "stream",
       "stream": "stdout",
       "text": [
        "\n",
        "Score: 0.0000 for 15 and 19 (Less than four matches)"
       ]
      },
      {
       "output_type": "stream",
       "stream": "stdout",
       "text": [
        "\n",
        "Score: 0.0273 for 15 and 21"
       ]
      },
      {
       "output_type": "stream",
       "stream": "stdout",
       "text": [
        "\n",
        "Score: 0.0300 for 15 and 26"
       ]
      },
      {
       "output_type": "stream",
       "stream": "stdout",
       "text": [
        "\n",
        "Score: 0.0000 for 15 and 27 (Less than four matches)"
       ]
      },
      {
       "output_type": "stream",
       "stream": "stdout",
       "text": [
        "\n",
        "Score: 0.0000 for 15 and 15 (Less than four matches)"
       ]
      },
      {
       "output_type": "stream",
       "stream": "stdout",
       "text": [
        "\n",
        "Score: 0.0000 for 15 and 15 (Less than four matches)"
       ]
      },
      {
       "output_type": "stream",
       "stream": "stdout",
       "text": [
        "\n",
        "Score: 0.0000 for 15 and 21 (Less than four matches)"
       ]
      },
      {
       "output_type": "stream",
       "stream": "stdout",
       "text": [
        "\n",
        "Score: 0.0000 for 15 and 15 (Less than four matches)"
       ]
      },
      {
       "output_type": "stream",
       "stream": "stdout",
       "text": [
        "\n",
        "Score: 0.0000 for 15 and 16 (Less than four matches)"
       ]
      },
      {
       "output_type": "stream",
       "stream": "stdout",
       "text": [
        "\n",
        "Score: 0.0000 for 15 and 17 (Less than four matches)"
       ]
      },
      {
       "output_type": "stream",
       "stream": "stdout",
       "text": [
        "\n",
        "['../../images/testsets/Gallagher_small_unresized/15_154.jpg', '../../images/testsets/Gallagher_small_unresized/28_537.jpg']\n",
        "No descriptors found. Returning score 0\n",
        "Score: 0.0000 for 15 and 27 (Less than four matches)"
       ]
      },
      {
       "output_type": "stream",
       "stream": "stdout",
       "text": [
        "\n",
        "Score: 0.0000 for 15 and 13 (Less than four matches)"
       ]
      },
      {
       "output_type": "stream",
       "stream": "stdout",
       "text": [
        "\n",
        "Score: 0.0000 for 15 and 23 (Less than four matches)"
       ]
      },
      {
       "output_type": "stream",
       "stream": "stdout",
       "text": [
        "\n",
        "Score: 0.0331 for 25 and 23"
       ]
      },
      {
       "output_type": "stream",
       "stream": "stdout",
       "text": [
        "\n",
        "Score: 0.0585 for 25 and 16"
       ]
      },
      {
       "output_type": "stream",
       "stream": "stdout",
       "text": [
        "\n",
        "Score: 0.0000 for 25 and 18 (Less than four matches)"
       ]
      },
      {
       "output_type": "stream",
       "stream": "stdout",
       "text": [
        "\n",
        "Score: 0.0466 for 25 and 25"
       ]
      },
      {
       "output_type": "stream",
       "stream": "stdout",
       "text": [
        "\n",
        "Score: 0.0494 for 25 and 32"
       ]
      },
      {
       "output_type": "stream",
       "stream": "stdout",
       "text": [
        "\n",
        "Score: 0.0240 for 25 and 19"
       ]
      },
      {
       "output_type": "stream",
       "stream": "stdout",
       "text": [
        "\n",
        "Score: 0.0168 for 25 and 21"
       ]
      },
      {
       "output_type": "stream",
       "stream": "stdout",
       "text": [
        "\n",
        "Score: 0.0000 for 25 and 14 (Less than four matches)"
       ]
      },
      {
       "output_type": "stream",
       "stream": "stdout",
       "text": [
        "\n",
        "Score: 0.0000 for 25 and 26 (Less than four matches)"
       ]
      },
      {
       "output_type": "stream",
       "stream": "stdout",
       "text": [
        "\n",
        "Score: 0.0000 for 25 and 22 (Less than four matches)"
       ]
      },
      {
       "output_type": "stream",
       "stream": "stdout",
       "text": [
        "\n",
        "Score: 0.0000 for 25 and 29 (Less than four matches)"
       ]
      },
      {
       "output_type": "stream",
       "stream": "stdout",
       "text": [
        "\n",
        "Score: 0.0201 for 25 and 13"
       ]
      },
      {
       "output_type": "stream",
       "stream": "stdout",
       "text": [
        "\n",
        "Score: 0.0000 for 25 and 28 (Less than four matches)"
       ]
      },
      {
       "output_type": "stream",
       "stream": "stdout",
       "text": [
        "\n",
        "Score: 0.0341 for 25 and 13"
       ]
      },
      {
       "output_type": "stream",
       "stream": "stdout",
       "text": [
        "\n",
        "Score: 0.0172 for 25 and 14"
       ]
      },
      {
       "output_type": "stream",
       "stream": "stdout",
       "text": [
        "\n",
        "Score: 0.0423 for 25 and 14"
       ]
      },
      {
       "output_type": "stream",
       "stream": "stdout",
       "text": [
        "\n",
        "Score: 0.0341 for 25 and 27"
       ]
      },
      {
       "output_type": "stream",
       "stream": "stdout",
       "text": [
        "\n",
        "Score: 0.0337 for 25 and 17"
       ]
      },
      {
       "output_type": "stream",
       "stream": "stdout",
       "text": [
        "\n",
        "Score: 0.0706 for 25 and 19"
       ]
      },
      {
       "output_type": "stream",
       "stream": "stdout",
       "text": [
        "\n",
        "Score: 0.0662 for 25 and 31"
       ]
      },
      {
       "output_type": "stream",
       "stream": "stdout",
       "text": [
        "\n",
        "Score: 0.0468 for 25 and 21"
       ]
      },
      {
       "output_type": "stream",
       "stream": "stdout",
       "text": [
        "\n",
        "Score: 0.0328 for 25 and 23"
       ]
      },
      {
       "output_type": "stream",
       "stream": "stdout",
       "text": [
        "\n",
        "Score: 0.0323 for 25 and 25"
       ]
      },
      {
       "output_type": "stream",
       "stream": "stdout",
       "text": [
        "\n",
        "Score: 0.0000 for 25 and 23 (Less than four matches)"
       ]
      },
      {
       "output_type": "stream",
       "stream": "stdout",
       "text": [
        "\n",
        "Score: 0.0445 for 25 and 31"
       ]
      },
      {
       "output_type": "stream",
       "stream": "stdout",
       "text": [
        "\n",
        "Score: 0.0275 for 25 and 15"
       ]
      },
      {
       "output_type": "stream",
       "stream": "stdout",
       "text": [
        "\n",
        "Score: 0.0132 for 25 and 23"
       ]
      },
      {
       "output_type": "stream",
       "stream": "stdout",
       "text": [
        "\n",
        "Score: 0.0000 for 25 and 18 (Less than four matches)"
       ]
      },
      {
       "output_type": "stream",
       "stream": "stdout",
       "text": [
        "\n",
        "Score: 0.0087 for 25 and 15"
       ]
      },
      {
       "output_type": "stream",
       "stream": "stdout",
       "text": [
        "\n",
        "Score: 0.0000 for 25 and 16 (Less than four matches)"
       ]
      },
      {
       "output_type": "stream",
       "stream": "stdout",
       "text": [
        "\n",
        "Score: 0.0000 for 25 and 23 (Less than four matches)"
       ]
      },
      {
       "output_type": "stream",
       "stream": "stdout",
       "text": [
        "\n",
        "Score: 0.0000 for 25 and 23 (Less than four matches)"
       ]
      },
      {
       "output_type": "stream",
       "stream": "stdout",
       "text": [
        "\n",
        "Score: 0.0391 for 25 and 32"
       ]
      },
      {
       "output_type": "stream",
       "stream": "stdout",
       "text": [
        "\n",
        "Score: 0.0286 for 25 and 15"
       ]
      },
      {
       "output_type": "stream",
       "stream": "stdout",
       "text": [
        "\n",
        "Score: 0.0189 for 25 and 24"
       ]
      },
      {
       "output_type": "stream",
       "stream": "stdout",
       "text": [
        "\n",
        "Score: 0.0194 for 25 and 25"
       ]
      },
      {
       "output_type": "stream",
       "stream": "stdout",
       "text": [
        "\n",
        "Score: 0.0536 for 25 and 30"
       ]
      },
      {
       "output_type": "stream",
       "stream": "stdout",
       "text": [
        "\n",
        "Score: 0.0325 for 25 and 32"
       ]
      },
      {
       "output_type": "stream",
       "stream": "stdout",
       "text": [
        "\n",
        "['../../images/testsets/Gallagher_small_unresized/25_431.jpg', '../../images/testsets/Gallagher_small_unresized/29_538.jpg']\n",
        "No descriptors found. Returning score 0\n",
        "Score: 0.0160 for 25 and 21"
       ]
      },
      {
       "output_type": "stream",
       "stream": "stdout",
       "text": [
        "\n",
        "Score: 0.0392 for 25 and 20"
       ]
      },
      {
       "output_type": "stream",
       "stream": "stdout",
       "text": [
        "\n",
        "Score: 0.0000 for 25 and 15 (Less than four matches)"
       ]
      },
      {
       "output_type": "stream",
       "stream": "stdout",
       "text": [
        "\n",
        "Score: 0.0052 for 25 and 15"
       ]
      },
      {
       "output_type": "stream",
       "stream": "stdout",
       "text": [
        "\n",
        "Score: 0.0554 for 25 and 19"
       ]
      },
      {
       "output_type": "stream",
       "stream": "stdout",
       "text": [
        "\n",
        "Score: 0.0438 for 25 and 19"
       ]
      },
      {
       "output_type": "stream",
       "stream": "stdout",
       "text": [
        "\n",
        "Score: 0.0432 for 25 and 21"
       ]
      },
      {
       "output_type": "stream",
       "stream": "stdout",
       "text": [
        "\n",
        "Score: 0.0317 for 25 and 26"
       ]
      },
      {
       "output_type": "stream",
       "stream": "stdout",
       "text": [
        "\n",
        "Score: 0.0314 for 25 and 27"
       ]
      },
      {
       "output_type": "stream",
       "stream": "stdout",
       "text": [
        "\n",
        "Score: 0.0312 for 25 and 15"
       ]
      },
      {
       "output_type": "stream",
       "stream": "stdout",
       "text": [
        "\n",
        "Score: 0.0000 for 25 and 15 (Less than four matches)"
       ]
      },
      {
       "output_type": "stream",
       "stream": "stdout",
       "text": [
        "\n",
        "Score: 0.0000 for 25 and 21 (Less than four matches)"
       ]
      },
      {
       "output_type": "stream",
       "stream": "stdout",
       "text": [
        "\n",
        "Score: 0.0000 for 25 and 15 (Less than four matches)"
       ]
      },
      {
       "output_type": "stream",
       "stream": "stdout",
       "text": [
        "\n",
        "Score: 0.0197 for 25 and 16"
       ]
      },
      {
       "output_type": "stream",
       "stream": "stdout",
       "text": [
        "\n",
        "Score: 0.0000 for 25 and 17 (Less than four matches)"
       ]
      },
      {
       "output_type": "stream",
       "stream": "stdout",
       "text": [
        "\n",
        "['../../images/testsets/Gallagher_small_unresized/25_431.jpg', '../../images/testsets/Gallagher_small_unresized/28_537.jpg']\n",
        "No descriptors found. Returning score 0\n",
        "Score: 0.0000 for 25 and 27 (Less than four matches)"
       ]
      },
      {
       "output_type": "stream",
       "stream": "stdout",
       "text": [
        "\n",
        "Score: 0.0396 for 25 and 13"
       ]
      },
      {
       "output_type": "stream",
       "stream": "stdout",
       "text": [
        "\n",
        "Score: 0.0263 for 25 and 23"
       ]
      },
      {
       "output_type": "stream",
       "stream": "stdout",
       "text": [
        "\n",
        "Score: 0.0629 for 23 and 16"
       ]
      },
      {
       "output_type": "stream",
       "stream": "stdout",
       "text": [
        "\n",
        "Score: 0.0000 for 23 and 18 (Less than four matches)"
       ]
      },
      {
       "output_type": "stream",
       "stream": "stdout",
       "text": [
        "\n",
        "Score: 0.0319 for 23 and 25"
       ]
      },
      {
       "output_type": "stream",
       "stream": "stdout",
       "text": [
        "\n",
        "Score: 0.0193 for 23 and 32"
       ]
      },
      {
       "output_type": "stream",
       "stream": "stdout",
       "text": [
        "\n",
        "Score: 0.0000 for 23 and 19 (Less than four matches)"
       ]
      },
      {
       "output_type": "stream",
       "stream": "stdout",
       "text": [
        "\n",
        "Score: 0.0184 for 23 and 21"
       ]
      },
      {
       "output_type": "stream",
       "stream": "stdout",
       "text": [
        "\n",
        "Score: 0.0000 for 23 and 14 (Less than four matches)"
       ]
      },
      {
       "output_type": "stream",
       "stream": "stdout",
       "text": [
        "\n",
        "Score: 0.0000 for 23 and 26 (Less than four matches)"
       ]
      },
      {
       "output_type": "stream",
       "stream": "stdout",
       "text": [
        "\n",
        "Score: 0.0000 for 23 and 22 (Less than four matches)"
       ]
      },
      {
       "output_type": "stream",
       "stream": "stdout",
       "text": [
        "\n",
        "Score: 0.0000 for 23 and 29 (Less than four matches)"
       ]
      },
      {
       "output_type": "stream",
       "stream": "stdout",
       "text": [
        "\n",
        "Score: 0.0263 for 23 and 13"
       ]
      },
      {
       "output_type": "stream",
       "stream": "stdout",
       "text": [
        "\n",
        "Score: 0.0000 for 23 and 28 (Less than four matches)"
       ]
      },
      {
       "output_type": "stream",
       "stream": "stdout",
       "text": [
        "\n",
        "Score: 0.0000 for 23 and 13 (Less than four matches)"
       ]
      },
      {
       "output_type": "stream",
       "stream": "stdout",
       "text": [
        "\n",
        "Score: 0.0382 for 23 and 14"
       ]
      },
      {
       "output_type": "stream",
       "stream": "stdout",
       "text": [
        "\n",
        "Score: 0.0170 for 23 and 14"
       ]
      },
      {
       "output_type": "stream",
       "stream": "stdout",
       "text": [
        "\n",
        "Score: 0.0489 for 23 and 27"
       ]
      },
      {
       "output_type": "stream",
       "stream": "stdout",
       "text": [
        "\n",
        "Score: 0.0189 for 23 and 17"
       ]
      },
      {
       "output_type": "stream",
       "stream": "stdout",
       "text": [
        "\n",
        "Score: 0.0000 for 23 and 19 (Less than four matches)"
       ]
      },
      {
       "output_type": "stream",
       "stream": "stdout",
       "text": [
        "\n",
        "Score: 0.0138 for 23 and 31"
       ]
      },
      {
       "output_type": "stream",
       "stream": "stdout",
       "text": [
        "\n",
        "Score: 0.0099 for 23 and 21"
       ]
      },
      {
       "output_type": "stream",
       "stream": "stdout",
       "text": [
        "\n",
        "Score: 0.0720 for 23 and 23"
       ]
      },
      {
       "output_type": "stream",
       "stream": "stdout",
       "text": [
        "\n",
        "Score: 0.0000 for 23 and 25 (Less than four matches)"
       ]
      },
      {
       "output_type": "stream",
       "stream": "stdout",
       "text": [
        "\n",
        "Score: 0.0000 for 23 and 23 (Less than four matches)"
       ]
      },
      {
       "output_type": "stream",
       "stream": "stdout",
       "text": [
        "\n",
        "Score: 0.0037 for 23 and 31"
       ]
      },
      {
       "output_type": "stream",
       "stream": "stdout",
       "text": [
        "\n",
        "Score: 0.0000 for 23 and 15 (Less than four matches)"
       ]
      },
      {
       "output_type": "stream",
       "stream": "stdout",
       "text": [
        "\n",
        "Score: 0.0266 for 23 and 23"
       ]
      },
      {
       "output_type": "stream",
       "stream": "stdout",
       "text": [
        "\n",
        "Score: 0.0085 for 23 and 18"
       ]
      },
      {
       "output_type": "stream",
       "stream": "stdout",
       "text": [
        "\n",
        "Score: 0.0299 for 23 and 15"
       ]
      },
      {
       "output_type": "stream",
       "stream": "stdout",
       "text": [
        "\n",
        "Score: 0.0281 for 23 and 16"
       ]
      },
      {
       "output_type": "stream",
       "stream": "stdout",
       "text": [
        "\n",
        "Score: 0.0000 for 23 and 23 (Less than four matches)"
       ]
      },
      {
       "output_type": "stream",
       "stream": "stdout",
       "text": [
        "\n",
        "Score: 0.0000 for 23 and 23 (Less than four matches)"
       ]
      },
      {
       "output_type": "stream",
       "stream": "stdout",
       "text": [
        "\n",
        "Score: 0.0000 for 23 and 32 (Less than four matches)"
       ]
      },
      {
       "output_type": "stream",
       "stream": "stdout",
       "text": [
        "\n",
        "Score: 0.0077 for 23 and 15"
       ]
      },
      {
       "output_type": "stream",
       "stream": "stdout",
       "text": [
        "\n",
        "Score: 0.0122 for 23 and 24"
       ]
      },
      {
       "output_type": "stream",
       "stream": "stdout",
       "text": [
        "\n",
        "Score: 0.0000 for 23 and 25 (Less than four matches)"
       ]
      },
      {
       "output_type": "stream",
       "stream": "stdout",
       "text": [
        "\n",
        "Score: 0.0162 for 23 and 30"
       ]
      },
      {
       "output_type": "stream",
       "stream": "stdout",
       "text": [
        "\n",
        "Score: 0.0146 for 23 and 32"
       ]
      },
      {
       "output_type": "stream",
       "stream": "stdout",
       "text": [
        "\n",
        "['../../images/testsets/Gallagher_small_unresized/23_305.jpg', '../../images/testsets/Gallagher_small_unresized/29_538.jpg']\n",
        "No descriptors found. Returning score 0\n",
        "Score: 0.0224 for 23 and 21"
       ]
      },
      {
       "output_type": "stream",
       "stream": "stdout",
       "text": [
        "\n",
        "Score: 0.0229 for 23 and 20"
       ]
      },
      {
       "output_type": "stream",
       "stream": "stdout",
       "text": [
        "\n",
        "Score: 0.0229 for 23 and 15"
       ]
      },
      {
       "output_type": "stream",
       "stream": "stdout",
       "text": [
        "\n",
        "Score: 0.0553 for 23 and 15"
       ]
      },
      {
       "output_type": "stream",
       "stream": "stdout",
       "text": [
        "\n",
        "Score: 0.0346 for 23 and 19"
       ]
      },
      {
       "output_type": "stream",
       "stream": "stdout",
       "text": [
        "\n",
        "Score: 0.0536 for 23 and 19"
       ]
      },
      {
       "output_type": "stream",
       "stream": "stdout",
       "text": [
        "\n",
        "Score: 0.0232 for 23 and 21"
       ]
      },
      {
       "output_type": "stream",
       "stream": "stdout",
       "text": [
        "\n",
        "Score: 0.0141 for 23 and 26"
       ]
      },
      {
       "output_type": "stream",
       "stream": "stdout",
       "text": [
        "\n",
        "Score: 0.0258 for 23 and 27"
       ]
      },
      {
       "output_type": "stream",
       "stream": "stdout",
       "text": [
        "\n",
        "Score: 0.0000 for 23 and 15 (Less than four matches)"
       ]
      },
      {
       "output_type": "stream",
       "stream": "stdout",
       "text": [
        "\n",
        "Score: 0.0102 for 23 and 15"
       ]
      },
      {
       "output_type": "stream",
       "stream": "stdout",
       "text": [
        "\n",
        "Score: 0.0000 for 23 and 21 (Less than four matches)"
       ]
      },
      {
       "output_type": "stream",
       "stream": "stdout",
       "text": [
        "\n",
        "Score: 0.0000 for 23 and 15 (Less than four matches)"
       ]
      },
      {
       "output_type": "stream",
       "stream": "stdout",
       "text": [
        "\n",
        "Score: 0.0097 for 23 and 16"
       ]
      },
      {
       "output_type": "stream",
       "stream": "stdout",
       "text": [
        "\n",
        "Score: 0.0000 for 23 and 17 (Less than four matches)"
       ]
      },
      {
       "output_type": "stream",
       "stream": "stdout",
       "text": [
        "\n",
        "['../../images/testsets/Gallagher_small_unresized/23_305.jpg', '../../images/testsets/Gallagher_small_unresized/28_537.jpg']\n",
        "No descriptors found. Returning score 0\n",
        "Score: 0.0172 for 23 and 27"
       ]
      },
      {
       "output_type": "stream",
       "stream": "stdout",
       "text": [
        "\n",
        "Score: 0.0273 for 23 and 13"
       ]
      },
      {
       "output_type": "stream",
       "stream": "stdout",
       "text": [
        "\n",
        "Score: 0.0203 for 23 and 23"
       ]
      },
      {
       "output_type": "stream",
       "stream": "stdout",
       "text": [
        "\n",
        "Score: 0.0000 for 16 and 18 (Less than four matches)"
       ]
      },
      {
       "output_type": "stream",
       "stream": "stdout",
       "text": [
        "\n",
        "Score: 0.0793 for 16 and 25"
       ]
      },
      {
       "output_type": "stream",
       "stream": "stdout",
       "text": [
        "\n",
        "Score: 0.0601 for 16 and 32"
       ]
      },
      {
       "output_type": "stream",
       "stream": "stdout",
       "text": [
        "\n",
        "Score: 0.0000 for 16 and 19 (Less than four matches)"
       ]
      },
      {
       "output_type": "stream",
       "stream": "stdout",
       "text": [
        "\n",
        "Score: 0.0548 for 16 and 21"
       ]
      },
      {
       "output_type": "stream",
       "stream": "stdout",
       "text": [
        "\n",
        "Score: 0.0000 for 16 and 14 (Less than four matches)"
       ]
      },
      {
       "output_type": "stream",
       "stream": "stdout",
       "text": [
        "\n",
        "Score: 0.0000 for 16 and 26 (Less than four matches)"
       ]
      },
      {
       "output_type": "stream",
       "stream": "stdout",
       "text": [
        "\n",
        "Score: 0.0000 for 16 and 22 (Less than four matches)"
       ]
      },
      {
       "output_type": "stream",
       "stream": "stdout",
       "text": [
        "\n",
        "Score: 0.0000 for 16 and 29 (Less than four matches)"
       ]
      },
      {
       "output_type": "stream",
       "stream": "stdout",
       "text": [
        "\n",
        "Score: 0.0461 for 16 and 13"
       ]
      },
      {
       "output_type": "stream",
       "stream": "stdout",
       "text": [
        "\n",
        "Score: 0.0000 for 16 and 28 (Less than four matches)"
       ]
      },
      {
       "output_type": "stream",
       "stream": "stdout",
       "text": [
        "\n",
        "Score: 0.0000 for 16 and 13 (Less than four matches)"
       ]
      },
      {
       "output_type": "stream",
       "stream": "stdout",
       "text": [
        "\n",
        "Score: 0.0000 for 16 and 14 (Less than four matches)"
       ]
      },
      {
       "output_type": "stream",
       "stream": "stdout",
       "text": [
        "\n",
        "Score: 0.0482 for 16 and 14"
       ]
      },
      {
       "output_type": "stream",
       "stream": "stdout",
       "text": [
        "\n",
        "Score: 0.0326 for 16 and 27"
       ]
      },
      {
       "output_type": "stream",
       "stream": "stdout",
       "text": [
        "\n",
        "Score: 0.0307 for 16 and 17"
       ]
      },
      {
       "output_type": "stream",
       "stream": "stdout",
       "text": [
        "\n",
        "Score: 0.0000 for 16 and 19 (Less than four matches)"
       ]
      },
      {
       "output_type": "stream",
       "stream": "stdout",
       "text": [
        "\n",
        "Score: 0.0938 for 16 and 31"
       ]
      },
      {
       "output_type": "stream",
       "stream": "stdout",
       "text": [
        "\n",
        "Score: 0.0000 for 16 and 21 (Less than four matches)"
       ]
      },
      {
       "output_type": "stream",
       "stream": "stdout",
       "text": [
        "\n",
        "Score: 0.0383 for 16 and 23"
       ]
      },
      {
       "output_type": "stream",
       "stream": "stdout",
       "text": [
        "\n",
        "Score: 0.0000 for 16 and 25 (Less than four matches)"
       ]
      },
      {
       "output_type": "stream",
       "stream": "stdout",
       "text": [
        "\n",
        "Score: 0.0000 for 16 and 23 (Less than four matches)"
       ]
      },
      {
       "output_type": "stream",
       "stream": "stdout",
       "text": [
        "\n",
        "Score: 0.0000 for 16 and 31 (Less than four matches)"
       ]
      },
      {
       "output_type": "stream",
       "stream": "stdout",
       "text": [
        "\n",
        "Score: 0.0588 for 16 and 15"
       ]
      },
      {
       "output_type": "stream",
       "stream": "stdout",
       "text": [
        "\n",
        "Score: 0.0000 for 16 and 23 (Less than four matches)"
       ]
      },
      {
       "output_type": "stream",
       "stream": "stdout",
       "text": [
        "\n",
        "Score: 0.0281 for 16 and 18"
       ]
      },
      {
       "output_type": "stream",
       "stream": "stdout",
       "text": [
        "\n",
        "Score: 0.0000 for 16 and 15 (Less than four matches)"
       ]
      },
      {
       "output_type": "stream",
       "stream": "stdout",
       "text": [
        "\n",
        "Score: 0.0379 for 16 and 16"
       ]
      },
      {
       "output_type": "stream",
       "stream": "stdout",
       "text": [
        "\n",
        "Score: 0.0000 for 16 and 23 (Less than four matches)"
       ]
      },
      {
       "output_type": "stream",
       "stream": "stdout",
       "text": [
        "\n",
        "Score: 0.0000 for 16 and 23 (Less than four matches)"
       ]
      },
      {
       "output_type": "stream",
       "stream": "stdout",
       "text": [
        "\n",
        "Score: 0.0000 for 16 and 32 (Less than four matches)"
       ]
      },
      {
       "output_type": "stream",
       "stream": "stdout",
       "text": [
        "\n",
        "Score: 0.0323 for 16 and 15"
       ]
      },
      {
       "output_type": "stream",
       "stream": "stdout",
       "text": [
        "\n",
        "Score: 0.0440 for 16 and 24"
       ]
      },
      {
       "output_type": "stream",
       "stream": "stdout",
       "text": [
        "\n",
        "Score: 0.0000 for 16 and 25 (Less than four matches)"
       ]
      },
      {
       "output_type": "stream",
       "stream": "stdout",
       "text": [
        "\n",
        "Score: 0.0331 for 16 and 30"
       ]
      },
      {
       "output_type": "stream",
       "stream": "stdout",
       "text": [
        "\n",
        "Score: 0.0000 for 16 and 32 (Less than four matches)"
       ]
      },
      {
       "output_type": "stream",
       "stream": "stdout",
       "text": [
        "\n",
        "['../../images/testsets/Gallagher_small_unresized/16_164.jpg', '../../images/testsets/Gallagher_small_unresized/29_538.jpg']\n",
        "No descriptors found. Returning score 0\n",
        "Score: 0.0144 for 16 and 21"
       ]
      },
      {
       "output_type": "stream",
       "stream": "stdout",
       "text": [
        "\n",
        "Score: 0.0464 for 16 and 20"
       ]
      },
      {
       "output_type": "stream",
       "stream": "stdout",
       "text": [
        "\n",
        "Score: 0.0447 for 16 and 15"
       ]
      },
      {
       "output_type": "stream",
       "stream": "stdout",
       "text": [
        "\n",
        "Score: 0.0407 for 16 and 15"
       ]
      },
      {
       "output_type": "stream",
       "stream": "stdout",
       "text": [
        "\n",
        "Score: 0.0000 for 16 and 19 (Less than four matches)"
       ]
      },
      {
       "output_type": "stream",
       "stream": "stdout",
       "text": [
        "\n",
        "Score: 0.0000 for 16 and 19 (Less than four matches)"
       ]
      },
      {
       "output_type": "stream",
       "stream": "stdout",
       "text": [
        "\n",
        "Score: 0.0591 for 16 and 21"
       ]
      },
      {
       "output_type": "stream",
       "stream": "stdout",
       "text": [
        "\n",
        "Score: 0.0269 for 16 and 26"
       ]
      },
      {
       "output_type": "stream",
       "stream": "stdout",
       "text": [
        "\n",
        "Score: 0.0491 for 16 and 27"
       ]
      },
      {
       "output_type": "stream",
       "stream": "stdout",
       "text": [
        "\n",
        "Score: 0.0000 for 16 and 15 (Less than four matches)"
       ]
      },
      {
       "output_type": "stream",
       "stream": "stdout",
       "text": [
        "\n",
        "Score: 0.0528 for 16 and 15"
       ]
      },
      {
       "output_type": "stream",
       "stream": "stdout",
       "text": [
        "\n",
        "Score: 0.0000 for 16 and 21 (Less than four matches)"
       ]
      },
      {
       "output_type": "stream",
       "stream": "stdout",
       "text": [
        "\n",
        "Score: 0.0000 for 16 and 15 (Less than four matches)"
       ]
      },
      {
       "output_type": "stream",
       "stream": "stdout",
       "text": [
        "\n",
        "Score: 0.0512 for 16 and 16"
       ]
      },
      {
       "output_type": "stream",
       "stream": "stdout",
       "text": [
        "\n",
        "Score: 0.0000 for 16 and 17 (Less than four matches)"
       ]
      },
      {
       "output_type": "stream",
       "stream": "stdout",
       "text": [
        "\n",
        "['../../images/testsets/Gallagher_small_unresized/16_164.jpg', '../../images/testsets/Gallagher_small_unresized/28_537.jpg']\n",
        "No descriptors found. Returning score 0\n",
        "Score: 0.0199 for 16 and 27"
       ]
      },
      {
       "output_type": "stream",
       "stream": "stdout",
       "text": [
        "\n",
        "Score: 0.0000 for 16 and 13 (Less than four matches)"
       ]
      },
      {
       "output_type": "stream",
       "stream": "stdout",
       "text": [
        "\n",
        "Score: 0.0483 for 16 and 23"
       ]
      },
      {
       "output_type": "stream",
       "stream": "stdout",
       "text": [
        "\n",
        "Score: 0.0000 for 18 and 25 (Less than four matches)"
       ]
      },
      {
       "output_type": "stream",
       "stream": "stdout",
       "text": [
        "\n",
        "Score: 0.0000 for 18 and 32 (Less than four matches)"
       ]
      },
      {
       "output_type": "stream",
       "stream": "stdout",
       "text": [
        "\n",
        "Score: 0.0000 for 18 and 19 (Less than four matches)"
       ]
      },
      {
       "output_type": "stream",
       "stream": "stdout",
       "text": [
        "\n",
        "Score: 0.0416 for 18 and 21"
       ]
      },
      {
       "output_type": "stream",
       "stream": "stdout",
       "text": [
        "\n",
        "Score: 0.0000 for 18 and 14 (Less than four matches)"
       ]
      },
      {
       "output_type": "stream",
       "stream": "stdout",
       "text": [
        "\n",
        "Score: 0.0000 for 18 and 26 (Less than four matches)"
       ]
      },
      {
       "output_type": "stream",
       "stream": "stdout",
       "text": [
        "\n",
        "Score: 0.0000 for 18 and 22 (Less than four matches)"
       ]
      },
      {
       "output_type": "stream",
       "stream": "stdout",
       "text": [
        "\n",
        "Score: 0.0389 for 18 and 29"
       ]
      },
      {
       "output_type": "stream",
       "stream": "stdout",
       "text": [
        "\n",
        "Score: 0.0000 for 18 and 13 (Less than four matches)"
       ]
      },
      {
       "output_type": "stream",
       "stream": "stdout",
       "text": [
        "\n",
        "Score: 0.0531 for 18 and 28"
       ]
      },
      {
       "output_type": "stream",
       "stream": "stdout",
       "text": [
        "\n",
        "Score: 0.0000 for 18 and 13 (Less than four matches)"
       ]
      },
      {
       "output_type": "stream",
       "stream": "stdout",
       "text": [
        "\n",
        "Score: 0.0000 for 18 and 14 (Less than four matches)"
       ]
      },
      {
       "output_type": "stream",
       "stream": "stdout",
       "text": [
        "\n",
        "Score: 0.0000 for 18 and 14 (Less than four matches)"
       ]
      },
      {
       "output_type": "stream",
       "stream": "stdout",
       "text": [
        "\n",
        "Score: 0.0000 for 18 and 27 (Less than four matches)"
       ]
      },
      {
       "output_type": "stream",
       "stream": "stdout",
       "text": [
        "\n",
        "Score: 0.0000 for 18 and 17 (Less than four matches)"
       ]
      },
      {
       "output_type": "stream",
       "stream": "stdout",
       "text": [
        "\n",
        "Score: 0.0000 for 18 and 19 (Less than four matches)"
       ]
      },
      {
       "output_type": "stream",
       "stream": "stdout",
       "text": [
        "\n",
        "Score: 0.0051 for 18 and 31"
       ]
      },
      {
       "output_type": "stream",
       "stream": "stdout",
       "text": [
        "\n",
        "Score: 0.0000 for 18 and 21 (Less than four matches)"
       ]
      },
      {
       "output_type": "stream",
       "stream": "stdout",
       "text": [
        "\n",
        "Score: 0.0000 for 18 and 23 (Less than four matches)"
       ]
      },
      {
       "output_type": "stream",
       "stream": "stdout",
       "text": [
        "\n",
        "Score: 0.0000 for 18 and 25 (Less than four matches)"
       ]
      },
      {
       "output_type": "stream",
       "stream": "stdout",
       "text": [
        "\n",
        "Score: 0.0000 for 18 and 23 (Less than four matches)"
       ]
      },
      {
       "output_type": "stream",
       "stream": "stdout",
       "text": [
        "\n",
        "Score: 0.0000 for 18 and 31 (Less than four matches)"
       ]
      },
      {
       "output_type": "stream",
       "stream": "stdout",
       "text": [
        "\n",
        "Score: 0.0000 for 18 and 15 (Less than four matches)"
       ]
      },
      {
       "output_type": "stream",
       "stream": "stdout",
       "text": [
        "\n",
        "Score: 0.0000 for 18 and 23 (Less than four matches)"
       ]
      },
      {
       "output_type": "stream",
       "stream": "stdout",
       "text": [
        "\n",
        "Score: 0.0303 for 18 and 18"
       ]
      },
      {
       "output_type": "stream",
       "stream": "stdout",
       "text": [
        "\n",
        "Score: 0.0000 for 18 and 15 (Less than four matches)"
       ]
      },
      {
       "output_type": "stream",
       "stream": "stdout",
       "text": [
        "\n",
        "Score: 0.0000 for 18 and 16 (Less than four matches)"
       ]
      },
      {
       "output_type": "stream",
       "stream": "stdout",
       "text": [
        "\n",
        "Score: 0.0214 for 18 and 23"
       ]
      },
      {
       "output_type": "stream",
       "stream": "stdout",
       "text": [
        "\n",
        "Score: 0.0000 for 18 and 23 (Less than four matches)"
       ]
      },
      {
       "output_type": "stream",
       "stream": "stdout",
       "text": [
        "\n",
        "Score: 0.0000 for 18 and 32 (Less than four matches)"
       ]
      },
      {
       "output_type": "stream",
       "stream": "stdout",
       "text": [
        "\n",
        "Score: 0.0000 for 18 and 15 (Less than four matches)"
       ]
      },
      {
       "output_type": "stream",
       "stream": "stdout",
       "text": [
        "\n",
        "Score: 0.0075 for 18 and 24"
       ]
      },
      {
       "output_type": "stream",
       "stream": "stdout",
       "text": [
        "\n",
        "Score: 0.0000 for 18 and 25 (Less than four matches)"
       ]
      },
      {
       "output_type": "stream",
       "stream": "stdout",
       "text": [
        "\n",
        "Score: 0.0000 for 18 and 30 (Less than four matches)"
       ]
      },
      {
       "output_type": "stream",
       "stream": "stdout",
       "text": [
        "\n",
        "Score: 0.0000 for 18 and 32 (Less than four matches)"
       ]
      },
      {
       "output_type": "stream",
       "stream": "stdout",
       "text": [
        "\n",
        "['../../images/testsets/Gallagher_small_unresized/18_166.jpg', '../../images/testsets/Gallagher_small_unresized/29_538.jpg']\n",
        "No descriptors found. Returning score 0\n",
        "Score: 0.0215 for 18 and 21"
       ]
      },
      {
       "output_type": "stream",
       "stream": "stdout",
       "text": [
        "\n",
        "Score: 0.0000 for 18 and 20 (Less than four matches)"
       ]
      },
      {
       "output_type": "stream",
       "stream": "stdout",
       "text": [
        "\n",
        "Score: 0.0000 for 18 and 15 (Less than four matches)"
       ]
      },
      {
       "output_type": "stream",
       "stream": "stdout",
       "text": [
        "\n",
        "Score: 0.0000 for 18 and 15 (Less than four matches)"
       ]
      },
      {
       "output_type": "stream",
       "stream": "stdout",
       "text": [
        "\n",
        "Score: 0.0000 for 18 and 19 (Less than four matches)"
       ]
      },
      {
       "output_type": "stream",
       "stream": "stdout",
       "text": [
        "\n",
        "Score: 0.0000 for 18 and 19 (Less than four matches)"
       ]
      },
      {
       "output_type": "stream",
       "stream": "stdout",
       "text": [
        "\n",
        "Score: 0.0000 for 18 and 21 (Less than four matches)"
       ]
      },
      {
       "output_type": "stream",
       "stream": "stdout",
       "text": [
        "\n",
        "Score: 0.0000 for 18 and 26 (Less than four matches)"
       ]
      },
      {
       "output_type": "stream",
       "stream": "stdout",
       "text": [
        "\n",
        "Score: 0.0000 for 18 and 27 (Less than four matches)"
       ]
      },
      {
       "output_type": "stream",
       "stream": "stdout",
       "text": [
        "\n",
        "Score: 0.0000 for 18 and 15 (Less than four matches)"
       ]
      },
      {
       "output_type": "stream",
       "stream": "stdout",
       "text": [
        "\n",
        "Score: 0.0000 for 18 and 15 (Less than four matches)"
       ]
      },
      {
       "output_type": "stream",
       "stream": "stdout",
       "text": [
        "\n",
        "Score: 0.0719 for 18 and 21"
       ]
      },
      {
       "output_type": "stream",
       "stream": "stdout",
       "text": [
        "\n",
        "Score: 0.0000 for 18 and 15 (Less than four matches)"
       ]
      },
      {
       "output_type": "stream",
       "stream": "stdout",
       "text": [
        "\n",
        "Score: 0.0000 for 18 and 16 (Less than four matches)"
       ]
      },
      {
       "output_type": "stream",
       "stream": "stdout",
       "text": [
        "\n",
        "Score: 0.0000 for 18 and 17 (Less than four matches)"
       ]
      },
      {
       "output_type": "stream",
       "stream": "stdout",
       "text": [
        "\n",
        "['../../images/testsets/Gallagher_small_unresized/18_166.jpg', '../../images/testsets/Gallagher_small_unresized/28_537.jpg']\n",
        "No descriptors found. Returning score 0\n",
        "Score: 0.0000 for 18 and 27 (Less than four matches)"
       ]
      },
      {
       "output_type": "stream",
       "stream": "stdout",
       "text": [
        "\n",
        "Score: 0.0549 for 18 and 13"
       ]
      },
      {
       "output_type": "stream",
       "stream": "stdout",
       "text": [
        "\n",
        "Score: 0.0000 for 18 and 23 (Less than four matches)"
       ]
      },
      {
       "output_type": "stream",
       "stream": "stdout",
       "text": [
        "\n",
        "Score: 0.0284 for 25 and 32"
       ]
      },
      {
       "output_type": "stream",
       "stream": "stdout",
       "text": [
        "\n",
        "Score: 0.0226 for 25 and 19"
       ]
      },
      {
       "output_type": "stream",
       "stream": "stdout",
       "text": [
        "\n",
        "Score: 0.0155 for 25 and 21"
       ]
      },
      {
       "output_type": "stream",
       "stream": "stdout",
       "text": [
        "\n",
        "Score: 0.0436 for 25 and 14"
       ]
      },
      {
       "output_type": "stream",
       "stream": "stdout",
       "text": [
        "\n",
        "Score: 0.0149 for 25 and 26"
       ]
      },
      {
       "output_type": "stream",
       "stream": "stdout",
       "text": [
        "\n",
        "Score: 0.0000 for 25 and 22 (Less than four matches)"
       ]
      },
      {
       "output_type": "stream",
       "stream": "stdout",
       "text": [
        "\n",
        "Score: 0.0000 for 25 and 29 (Less than four matches)"
       ]
      },
      {
       "output_type": "stream",
       "stream": "stdout",
       "text": [
        "\n",
        "Score: 0.0210 for 25 and 13"
       ]
      },
      {
       "output_type": "stream",
       "stream": "stdout",
       "text": [
        "\n",
        "Score: 0.0000 for 25 and 28 (Less than four matches)"
       ]
      },
      {
       "output_type": "stream",
       "stream": "stdout",
       "text": [
        "\n",
        "Score: 0.0149 for 25 and 13"
       ]
      },
      {
       "output_type": "stream",
       "stream": "stdout",
       "text": [
        "\n",
        "Score: 0.0100 for 25 and 14"
       ]
      },
      {
       "output_type": "stream",
       "stream": "stdout",
       "text": [
        "\n",
        "Score: 0.0000 for 25 and 14 (Less than four matches)"
       ]
      },
      {
       "output_type": "stream",
       "stream": "stdout",
       "text": [
        "\n",
        "Score: 0.0221 for 25 and 27"
       ]
      },
      {
       "output_type": "stream",
       "stream": "stdout",
       "text": [
        "\n",
        "Score: 0.0240 for 25 and 17"
       ]
      },
      {
       "output_type": "stream",
       "stream": "stdout",
       "text": [
        "\n",
        "Score: 0.0227 for 25 and 19"
       ]
      },
      {
       "output_type": "stream",
       "stream": "stdout",
       "text": [
        "\n",
        "Score: 0.0252 for 25 and 31"
       ]
      },
      {
       "output_type": "stream",
       "stream": "stdout",
       "text": [
        "\n",
        "Score: 0.0193 for 25 and 21"
       ]
      },
      {
       "output_type": "stream",
       "stream": "stdout",
       "text": [
        "\n",
        "Score: 0.0146 for 25 and 23"
       ]
      },
      {
       "output_type": "stream",
       "stream": "stdout",
       "text": [
        "\n",
        "Score: 0.0155 for 25 and 25"
       ]
      },
      {
       "output_type": "stream",
       "stream": "stdout",
       "text": [
        "\n",
        "Score: 0.0000 for 25 and 23 (Less than four matches)"
       ]
      },
      {
       "output_type": "stream",
       "stream": "stdout",
       "text": [
        "\n",
        "Score: 0.0314 for 25 and 31"
       ]
      },
      {
       "output_type": "stream",
       "stream": "stdout",
       "text": [
        "\n",
        "Score: 0.0213 for 25 and 15"
       ]
      },
      {
       "output_type": "stream",
       "stream": "stdout",
       "text": [
        "\n",
        "Score: 0.0056 for 25 and 23"
       ]
      },
      {
       "output_type": "stream",
       "stream": "stdout",
       "text": [
        "\n",
        "Score: 0.0000 for 25 and 18 (Less than four matches)"
       ]
      },
      {
       "output_type": "stream",
       "stream": "stdout",
       "text": [
        "\n",
        "Score: 0.0000 for 25 and 15 (Less than four matches)"
       ]
      },
      {
       "output_type": "stream",
       "stream": "stdout",
       "text": [
        "\n",
        "Score: 0.0177 for 25 and 16"
       ]
      },
      {
       "output_type": "stream",
       "stream": "stdout",
       "text": [
        "\n",
        "Score: 0.0229 for 25 and 23"
       ]
      },
      {
       "output_type": "stream",
       "stream": "stdout",
       "text": [
        "\n",
        "Score: 0.0375 for 25 and 23"
       ]
      },
      {
       "output_type": "stream",
       "stream": "stdout",
       "text": [
        "\n",
        "Score: 0.0000 for 25 and 32 (Less than four matches)"
       ]
      },
      {
       "output_type": "stream",
       "stream": "stdout",
       "text": [
        "\n",
        "Score: 0.0216 for 25 and 15"
       ]
      },
      {
       "output_type": "stream",
       "stream": "stdout",
       "text": [
        "\n",
        "Score: 0.0172 for 25 and 24"
       ]
      },
      {
       "output_type": "stream",
       "stream": "stdout",
       "text": [
        "\n",
        "Score: 0.0149 for 25 and 25"
       ]
      },
      {
       "output_type": "stream",
       "stream": "stdout",
       "text": [
        "\n",
        "Score: 0.0136 for 25 and 30"
       ]
      },
      {
       "output_type": "stream",
       "stream": "stdout",
       "text": [
        "\n",
        "Score: 0.0125 for 25 and 32"
       ]
      },
      {
       "output_type": "stream",
       "stream": "stdout",
       "text": [
        "\n",
        "['../../images/testsets/Gallagher_small_unresized/25_770.jpg', '../../images/testsets/Gallagher_small_unresized/29_538.jpg']\n",
        "No descriptors found. Returning score 0\n",
        "Score: 0.0218 for 25 and 21"
       ]
      },
      {
       "output_type": "stream",
       "stream": "stdout",
       "text": [
        "\n",
        "Score: 0.0327 for 25 and 20"
       ]
      },
      {
       "output_type": "stream",
       "stream": "stdout",
       "text": [
        "\n",
        "Score: 0.0510 for 25 and 15"
       ]
      },
      {
       "output_type": "stream",
       "stream": "stdout",
       "text": [
        "\n",
        "Score: 0.0191 for 25 and 15"
       ]
      },
      {
       "output_type": "stream",
       "stream": "stdout",
       "text": [
        "\n",
        "Score: 0.0000 for 25 and 19 (Less than four matches)"
       ]
      },
      {
       "output_type": "stream",
       "stream": "stdout",
       "text": [
        "\n",
        "Score: 0.0241 for 25 and 19"
       ]
      },
      {
       "output_type": "stream",
       "stream": "stdout",
       "text": [
        "\n",
        "Score: 0.0102 for 25 and 21"
       ]
      },
      {
       "output_type": "stream",
       "stream": "stdout",
       "text": [
        "\n",
        "Score: 0.0227 for 25 and 26"
       ]
      },
      {
       "output_type": "stream",
       "stream": "stdout",
       "text": [
        "\n",
        "Score: 0.0269 for 25 and 27"
       ]
      },
      {
       "output_type": "stream",
       "stream": "stdout",
       "text": [
        "\n",
        "Score: 0.0112 for 25 and 15"
       ]
      },
      {
       "output_type": "stream",
       "stream": "stdout",
       "text": [
        "\n",
        "Score: 0.0129 for 25 and 15"
       ]
      },
      {
       "output_type": "stream",
       "stream": "stdout",
       "text": [
        "\n",
        "Score: 0.0173 for 25 and 21"
       ]
      },
      {
       "output_type": "stream",
       "stream": "stdout",
       "text": [
        "\n",
        "Score: 0.0000 for 25 and 15 (Less than four matches)"
       ]
      },
      {
       "output_type": "stream",
       "stream": "stdout",
       "text": [
        "\n",
        "Score: 0.0266 for 25 and 16"
       ]
      },
      {
       "output_type": "stream",
       "stream": "stdout",
       "text": [
        "\n",
        "Score: 0.0000 for 25 and 17 (Less than four matches)"
       ]
      },
      {
       "output_type": "stream",
       "stream": "stdout",
       "text": [
        "\n",
        "['../../images/testsets/Gallagher_small_unresized/25_770.jpg', '../../images/testsets/Gallagher_small_unresized/28_537.jpg']\n",
        "No descriptors found. Returning score 0\n",
        "Score: 0.0165 for 25 and 27"
       ]
      },
      {
       "output_type": "stream",
       "stream": "stdout",
       "text": [
        "\n",
        "Score: 0.0464 for 25 and 13"
       ]
      },
      {
       "output_type": "stream",
       "stream": "stdout",
       "text": [
        "\n",
        "Score: 0.0124 for 25 and 23"
       ]
      },
      {
       "output_type": "stream",
       "stream": "stdout",
       "text": [
        "\n",
        "Score: 0.0574 for 32 and 19"
       ]
      },
      {
       "output_type": "stream",
       "stream": "stdout",
       "text": [
        "\n",
        "Score: 0.0225 for 32 and 21"
       ]
      },
      {
       "output_type": "stream",
       "stream": "stdout",
       "text": [
        "\n",
        "Score: 0.0300 for 32 and 14"
       ]
      },
      {
       "output_type": "stream",
       "stream": "stdout",
       "text": [
        "\n",
        "Score: 0.0000 for 32 and 26 (Less than four matches)"
       ]
      },
      {
       "output_type": "stream",
       "stream": "stdout",
       "text": [
        "\n",
        "Score: 0.0352 for 32 and 22"
       ]
      },
      {
       "output_type": "stream",
       "stream": "stdout",
       "text": [
        "\n",
        "Score: 0.0000 for 32 and 29 (Less than four matches)"
       ]
      },
      {
       "output_type": "stream",
       "stream": "stdout",
       "text": [
        "\n",
        "Score: 0.0226 for 32 and 13"
       ]
      },
      {
       "output_type": "stream",
       "stream": "stdout",
       "text": [
        "\n",
        "Score: 0.0000 for 32 and 28 (Less than four matches)"
       ]
      },
      {
       "output_type": "stream",
       "stream": "stdout",
       "text": [
        "\n",
        "Score: 0.0000 for 32 and 13 (Less than four matches)"
       ]
      },
      {
       "output_type": "stream",
       "stream": "stdout",
       "text": [
        "\n",
        "Score: 0.0535 for 32 and 14"
       ]
      },
      {
       "output_type": "stream",
       "stream": "stdout",
       "text": [
        "\n",
        "Score: 0.0387 for 32 and 14"
       ]
      },
      {
       "output_type": "stream",
       "stream": "stdout",
       "text": [
        "\n",
        "Score: 0.0167 for 32 and 27"
       ]
      },
      {
       "output_type": "stream",
       "stream": "stdout",
       "text": [
        "\n",
        "Score: 0.0443 for 32 and 17"
       ]
      },
      {
       "output_type": "stream",
       "stream": "stdout",
       "text": [
        "\n",
        "Score: 0.0000 for 32 and 19 (Less than four matches)"
       ]
      },
      {
       "output_type": "stream",
       "stream": "stdout",
       "text": [
        "\n",
        "Score: 0.0364 for 32 and 31"
       ]
      },
      {
       "output_type": "stream",
       "stream": "stdout",
       "text": [
        "\n",
        "Score: 0.0237 for 32 and 21"
       ]
      },
      {
       "output_type": "stream",
       "stream": "stdout",
       "text": [
        "\n",
        "Score: 0.0357 for 32 and 23"
       ]
      },
      {
       "output_type": "stream",
       "stream": "stdout",
       "text": [
        "\n",
        "Score: 0.0625 for 32 and 25"
       ]
      },
      {
       "output_type": "stream",
       "stream": "stdout",
       "text": [
        "\n",
        "Score: 0.0000 for 32 and 23 (Less than four matches)"
       ]
      },
      {
       "output_type": "stream",
       "stream": "stdout",
       "text": [
        "\n",
        "Score: 0.0000 for 32 and 31 (Less than four matches)"
       ]
      },
      {
       "output_type": "stream",
       "stream": "stdout",
       "text": [
        "\n",
        "Score: 0.0000 for 32 and 15 (Less than four matches)"
       ]
      },
      {
       "output_type": "stream",
       "stream": "stdout",
       "text": [
        "\n",
        "Score: 0.0000 for 32 and 23 (Less than four matches)"
       ]
      },
      {
       "output_type": "stream",
       "stream": "stdout",
       "text": [
        "\n",
        "Score: 0.0091 for 32 and 18"
       ]
      },
      {
       "output_type": "stream",
       "stream": "stdout",
       "text": [
        "\n",
        "Score: 0.0527 for 32 and 15"
       ]
      },
      {
       "output_type": "stream",
       "stream": "stdout",
       "text": [
        "\n",
        "Score: 0.0472 for 32 and 16"
       ]
      },
      {
       "output_type": "stream",
       "stream": "stdout",
       "text": [
        "\n",
        "Score: 0.0104 for 32 and 23"
       ]
      },
      {
       "output_type": "stream",
       "stream": "stdout",
       "text": [
        "\n",
        "Score: 0.0000 for 32 and 23 (Less than four matches)"
       ]
      },
      {
       "output_type": "stream",
       "stream": "stdout",
       "text": [
        "\n",
        "Score: 0.0311 for 32 and 32"
       ]
      },
      {
       "output_type": "stream",
       "stream": "stdout",
       "text": [
        "\n",
        "Score: 0.0229 for 32 and 15"
       ]
      },
      {
       "output_type": "stream",
       "stream": "stdout",
       "text": [
        "\n",
        "Score: 0.0156 for 32 and 24"
       ]
      },
      {
       "output_type": "stream",
       "stream": "stdout",
       "text": [
        "\n",
        "Score: 0.0189 for 32 and 25"
       ]
      },
      {
       "output_type": "stream",
       "stream": "stdout",
       "text": [
        "\n",
        "Score: 0.0205 for 32 and 30"
       ]
      },
      {
       "output_type": "stream",
       "stream": "stdout",
       "text": [
        "\n",
        "Score: 0.0199 for 32 and 32"
       ]
      },
      {
       "output_type": "stream",
       "stream": "stdout",
       "text": [
        "\n",
        "['../../images/testsets/Gallagher_small_unresized/32_642.jpg', '../../images/testsets/Gallagher_small_unresized/29_538.jpg']\n",
        "No descriptors found. Returning score 0\n",
        "Score: 0.0303 for 32 and 21"
       ]
      },
      {
       "output_type": "stream",
       "stream": "stdout",
       "text": [
        "\n",
        "Score: 0.0316 for 32 and 20"
       ]
      },
      {
       "output_type": "stream",
       "stream": "stdout",
       "text": [
        "\n",
        "Score: 0.0556 for 32 and 15"
       ]
      },
      {
       "output_type": "stream",
       "stream": "stdout",
       "text": [
        "\n",
        "Score: 0.0156 for 32 and 15"
       ]
      },
      {
       "output_type": "stream",
       "stream": "stdout",
       "text": [
        "\n",
        "Score: 0.0302 for 32 and 19"
       ]
      },
      {
       "output_type": "stream",
       "stream": "stdout",
       "text": [
        "\n",
        "Score: 0.0352 for 32 and 19"
       ]
      },
      {
       "output_type": "stream",
       "stream": "stdout",
       "text": [
        "\n",
        "Score: 0.0241 for 32 and 21"
       ]
      },
      {
       "output_type": "stream",
       "stream": "stdout",
       "text": [
        "\n",
        "Score: 0.0301 for 32 and 26"
       ]
      },
      {
       "output_type": "stream",
       "stream": "stdout",
       "text": [
        "\n",
        "Score: 0.0100 for 32 and 27"
       ]
      },
      {
       "output_type": "stream",
       "stream": "stdout",
       "text": [
        "\n",
        "Score: 0.0236 for 32 and 15"
       ]
      },
      {
       "output_type": "stream",
       "stream": "stdout",
       "text": [
        "\n",
        "Score: 0.0155 for 32 and 15"
       ]
      },
      {
       "output_type": "stream",
       "stream": "stdout",
       "text": [
        "\n",
        "Score: 0.0000 for 32 and 21 (Less than four matches)"
       ]
      },
      {
       "output_type": "stream",
       "stream": "stdout",
       "text": [
        "\n",
        "Score: 0.0000 for 32 and 15 (Less than four matches)"
       ]
      },
      {
       "output_type": "stream",
       "stream": "stdout",
       "text": [
        "\n",
        "Score: 0.0000 for 32 and 16 (Less than four matches)"
       ]
      },
      {
       "output_type": "stream",
       "stream": "stdout",
       "text": [
        "\n",
        "Score: 0.0000 for 32 and 17 (Less than four matches)"
       ]
      },
      {
       "output_type": "stream",
       "stream": "stdout",
       "text": [
        "\n",
        "['../../images/testsets/Gallagher_small_unresized/32_642.jpg', '../../images/testsets/Gallagher_small_unresized/28_537.jpg']\n",
        "No descriptors found. Returning score 0\n",
        "Score: 0.0071 for 32 and 27"
       ]
      },
      {
       "output_type": "stream",
       "stream": "stdout",
       "text": [
        "\n",
        "Score: 0.0283 for 32 and 13"
       ]
      },
      {
       "output_type": "stream",
       "stream": "stdout",
       "text": [
        "\n",
        "Score: 0.0390 for 32 and 23"
       ]
      },
      {
       "output_type": "stream",
       "stream": "stdout",
       "text": [
        "\n",
        "Score: 0.0000 for 19 and 21 (Less than four matches)"
       ]
      },
      {
       "output_type": "stream",
       "stream": "stdout",
       "text": [
        "\n",
        "Score: 0.0000 for 19 and 14 (Less than four matches)"
       ]
      },
      {
       "output_type": "stream",
       "stream": "stdout",
       "text": [
        "\n",
        "Score: 0.0000 for 19 and 26 (Less than four matches)"
       ]
      },
      {
       "output_type": "stream",
       "stream": "stdout",
       "text": [
        "\n",
        "Score: 0.0000 for 19 and 22 (Less than four matches)"
       ]
      },
      {
       "output_type": "stream",
       "stream": "stdout",
       "text": [
        "\n",
        "Score: 0.0000 for 19 and 29 (Less than four matches)"
       ]
      },
      {
       "output_type": "stream",
       "stream": "stdout",
       "text": [
        "\n",
        "Score: 0.0000 for 19 and 13 (Less than four matches)"
       ]
      },
      {
       "output_type": "stream",
       "stream": "stdout",
       "text": [
        "\n",
        "Score: 0.0000 for 19 and 28 (Less than four matches)"
       ]
      },
      {
       "output_type": "stream",
       "stream": "stdout",
       "text": [
        "\n",
        "Score: 0.0000 for 19 and 13 (Less than four matches)"
       ]
      },
      {
       "output_type": "stream",
       "stream": "stdout",
       "text": [
        "\n",
        "Score: 0.0247 for 19 and 14"
       ]
      },
      {
       "output_type": "stream",
       "stream": "stdout",
       "text": [
        "\n",
        "Score: 0.0000 for 19 and 14 (Less than four matches)"
       ]
      },
      {
       "output_type": "stream",
       "stream": "stdout",
       "text": [
        "\n",
        "Score: 0.0000 for 19 and 27 (Less than four matches)"
       ]
      },
      {
       "output_type": "stream",
       "stream": "stdout",
       "text": [
        "\n",
        "Score: 0.0229 for 19 and 17"
       ]
      },
      {
       "output_type": "stream",
       "stream": "stdout",
       "text": [
        "\n",
        "Score: 0.0000 for 19 and 19 (Less than four matches)"
       ]
      },
      {
       "output_type": "stream",
       "stream": "stdout",
       "text": [
        "\n",
        "Score: 0.0000 for 19 and 31 (Less than four matches)"
       ]
      },
      {
       "output_type": "stream",
       "stream": "stdout",
       "text": [
        "\n",
        "Score: 0.0000 for 19 and 21 (Less than four matches)"
       ]
      },
      {
       "output_type": "stream",
       "stream": "stdout",
       "text": [
        "\n",
        "Score: 0.0061 for 19 and 23"
       ]
      },
      {
       "output_type": "stream",
       "stream": "stdout",
       "text": [
        "\n",
        "Score: 0.0000 for 19 and 25 (Less than four matches)"
       ]
      },
      {
       "output_type": "stream",
       "stream": "stdout",
       "text": [
        "\n",
        "Score: 0.0000 for 19 and 23 (Less than four matches)"
       ]
      },
      {
       "output_type": "stream",
       "stream": "stdout",
       "text": [
        "\n",
        "Score: 0.0000 for 19 and 31 (Less than four matches)"
       ]
      },
      {
       "output_type": "stream",
       "stream": "stdout",
       "text": [
        "\n",
        "Score: 0.0000 for 19 and 15 (Less than four matches)"
       ]
      },
      {
       "output_type": "stream",
       "stream": "stdout",
       "text": [
        "\n",
        "Score: 0.0000 for 19 and 23 (Less than four matches)"
       ]
      },
      {
       "output_type": "stream",
       "stream": "stdout",
       "text": [
        "\n",
        "Score: 0.0000 for 19 and 18 (Less than four matches)"
       ]
      },
      {
       "output_type": "stream",
       "stream": "stdout",
       "text": [
        "\n",
        "Score: 0.0000 for 19 and 15 (Less than four matches)"
       ]
      },
      {
       "output_type": "stream",
       "stream": "stdout",
       "text": [
        "\n",
        "Score: 0.0000 for 19 and 16 (Less than four matches)"
       ]
      },
      {
       "output_type": "stream",
       "stream": "stdout",
       "text": [
        "\n",
        "Score: 0.0337 for 19 and 23"
       ]
      },
      {
       "output_type": "stream",
       "stream": "stdout",
       "text": [
        "\n",
        "Score: 0.0000 for 19 and 23 (Less than four matches)"
       ]
      },
      {
       "output_type": "stream",
       "stream": "stdout",
       "text": [
        "\n",
        "Score: 0.0000 for 19 and 32 (Less than four matches)"
       ]
      },
      {
       "output_type": "stream",
       "stream": "stdout",
       "text": [
        "\n",
        "Score: 0.0000 for 19 and 15 (Less than four matches)"
       ]
      },
      {
       "output_type": "stream",
       "stream": "stdout",
       "text": [
        "\n",
        "Score: 0.0000 for 19 and 24 (Less than four matches)"
       ]
      },
      {
       "output_type": "stream",
       "stream": "stdout",
       "text": [
        "\n",
        "Score: 0.0338 for 19 and 25"
       ]
      },
      {
       "output_type": "stream",
       "stream": "stdout",
       "text": [
        "\n",
        "Score: 0.0000 for 19 and 30 (Less than four matches)"
       ]
      },
      {
       "output_type": "stream",
       "stream": "stdout",
       "text": [
        "\n",
        "Score: 0.0000 for 19 and 32 (Less than four matches)"
       ]
      },
      {
       "output_type": "stream",
       "stream": "stdout",
       "text": [
        "\n",
        "['../../images/testsets/Gallagher_small_unresized/19_198.jpg', '../../images/testsets/Gallagher_small_unresized/29_538.jpg']\n",
        "No descriptors found. Returning score 0\n",
        "Score: 0.0000 for 19 and 21 (Less than four matches)"
       ]
      },
      {
       "output_type": "stream",
       "stream": "stdout",
       "text": [
        "\n",
        "Score: 0.0370 for 19 and 20"
       ]
      },
      {
       "output_type": "stream",
       "stream": "stdout",
       "text": [
        "\n",
        "Score: 0.0000 for 19 and 15 (Less than four matches)"
       ]
      },
      {
       "output_type": "stream",
       "stream": "stdout",
       "text": [
        "\n",
        "Score: 0.0110 for 19 and 15"
       ]
      },
      {
       "output_type": "stream",
       "stream": "stdout",
       "text": [
        "\n",
        "Score: 0.0523 for 19 and 19"
       ]
      },
      {
       "output_type": "stream",
       "stream": "stdout",
       "text": [
        "\n",
        "Score: 0.0657 for 19 and 19"
       ]
      },
      {
       "output_type": "stream",
       "stream": "stdout",
       "text": [
        "\n",
        "Score: 0.0000 for 19 and 21 (Less than four matches)"
       ]
      },
      {
       "output_type": "stream",
       "stream": "stdout",
       "text": [
        "\n",
        "Score: 0.0367 for 19 and 26"
       ]
      },
      {
       "output_type": "stream",
       "stream": "stdout",
       "text": [
        "\n",
        "Score: 0.0000 for 19 and 27 (Less than four matches)"
       ]
      },
      {
       "output_type": "stream",
       "stream": "stdout",
       "text": [
        "\n",
        "Score: 0.0000 for 19 and 15 (Less than four matches)"
       ]
      },
      {
       "output_type": "stream",
       "stream": "stdout",
       "text": [
        "\n",
        "Score: 0.0000 for 19 and 15 (Less than four matches)"
       ]
      },
      {
       "output_type": "stream",
       "stream": "stdout",
       "text": [
        "\n",
        "Score: 0.0000 for 19 and 21 (Less than four matches)"
       ]
      },
      {
       "output_type": "stream",
       "stream": "stdout",
       "text": [
        "\n",
        "Score: 0.0000 for 19 and 15 (Less than four matches)"
       ]
      },
      {
       "output_type": "stream",
       "stream": "stdout",
       "text": [
        "\n",
        "Score: 0.0000 for 19 and 16 (Less than four matches)"
       ]
      },
      {
       "output_type": "stream",
       "stream": "stdout",
       "text": [
        "\n",
        "Score: 0.0000 for 19 and 17 (Less than four matches)"
       ]
      },
      {
       "output_type": "stream",
       "stream": "stdout",
       "text": [
        "\n",
        "['../../images/testsets/Gallagher_small_unresized/19_198.jpg', '../../images/testsets/Gallagher_small_unresized/28_537.jpg']\n",
        "No descriptors found. Returning score 0\n",
        "Score: 0.0000 for 19 and 27 (Less than four matches)"
       ]
      },
      {
       "output_type": "stream",
       "stream": "stdout",
       "text": [
        "\n",
        "Score: 0.0000 for 19 and 13 (Less than four matches)"
       ]
      },
      {
       "output_type": "stream",
       "stream": "stdout",
       "text": [
        "\n",
        "Score: 0.0162 for 19 and 23"
       ]
      },
      {
       "output_type": "stream",
       "stream": "stdout",
       "text": [
        "\n",
        "Score: 0.0000 for 21 and 14 (Less than four matches)"
       ]
      },
      {
       "output_type": "stream",
       "stream": "stdout",
       "text": [
        "\n",
        "Score: 0.0000 for 21 and 26 (Less than four matches)"
       ]
      },
      {
       "output_type": "stream",
       "stream": "stdout",
       "text": [
        "\n",
        "Score: 0.0000 for 21 and 22 (Less than four matches)"
       ]
      },
      {
       "output_type": "stream",
       "stream": "stdout",
       "text": [
        "\n",
        "Score: 0.0148 for 21 and 29"
       ]
      },
      {
       "output_type": "stream",
       "stream": "stdout",
       "text": [
        "\n",
        "Score: 0.0164 for 21 and 13"
       ]
      },
      {
       "output_type": "stream",
       "stream": "stdout",
       "text": [
        "\n",
        "Score: 0.0163 for 21 and 28"
       ]
      },
      {
       "output_type": "stream",
       "stream": "stdout",
       "text": [
        "\n",
        "Score: 0.0000 for 21 and 13 (Less than four matches)"
       ]
      },
      {
       "output_type": "stream",
       "stream": "stdout",
       "text": [
        "\n",
        "Score: 0.0000 for 21 and 14 (Less than four matches)"
       ]
      },
      {
       "output_type": "stream",
       "stream": "stdout",
       "text": [
        "\n",
        "Score: 0.0475 for 21 and 14"
       ]
      },
      {
       "output_type": "stream",
       "stream": "stdout",
       "text": [
        "\n",
        "Score: 0.0319 for 21 and 27"
       ]
      },
      {
       "output_type": "stream",
       "stream": "stdout",
       "text": [
        "\n",
        "Score: 0.0000 for 21 and 17 (Less than four matches)"
       ]
      },
      {
       "output_type": "stream",
       "stream": "stdout",
       "text": [
        "\n",
        "Score: 0.0419 for 21 and 19"
       ]
      },
      {
       "output_type": "stream",
       "stream": "stdout",
       "text": [
        "\n",
        "Score: 0.0235 for 21 and 31"
       ]
      },
      {
       "output_type": "stream",
       "stream": "stdout",
       "text": [
        "\n",
        "Score: 0.0000 for 21 and 21 (Less than four matches)"
       ]
      },
      {
       "output_type": "stream",
       "stream": "stdout",
       "text": [
        "\n",
        "Score: 0.0000 for 21 and 23 (Less than four matches)"
       ]
      },
      {
       "output_type": "stream",
       "stream": "stdout",
       "text": [
        "\n",
        "Score: 0.0000 for 21 and 25 (Less than four matches)"
       ]
      },
      {
       "output_type": "stream",
       "stream": "stdout",
       "text": [
        "\n",
        "Score: 0.0000 for 21 and 23 (Less than four matches)"
       ]
      },
      {
       "output_type": "stream",
       "stream": "stdout",
       "text": [
        "\n",
        "Score: 0.0248 for 21 and 31"
       ]
      },
      {
       "output_type": "stream",
       "stream": "stdout",
       "text": [
        "\n",
        "Score: 0.0267 for 21 and 15"
       ]
      },
      {
       "output_type": "stream",
       "stream": "stdout",
       "text": [
        "\n",
        "Score: 0.0129 for 21 and 23"
       ]
      },
      {
       "output_type": "stream",
       "stream": "stdout",
       "text": [
        "\n",
        "Score: 0.0000 for 21 and 18 (Less than four matches)"
       ]
      },
      {
       "output_type": "stream",
       "stream": "stdout",
       "text": [
        "\n",
        "Score: 0.0000 for 21 and 15 (Less than four matches)"
       ]
      },
      {
       "output_type": "stream",
       "stream": "stdout",
       "text": [
        "\n",
        "Score: 0.0000 for 21 and 16 (Less than four matches)"
       ]
      },
      {
       "output_type": "stream",
       "stream": "stdout",
       "text": [
        "\n",
        "Score: 0.0000 for 21 and 23 (Less than four matches)"
       ]
      },
      {
       "output_type": "stream",
       "stream": "stdout",
       "text": [
        "\n",
        "Score: 0.0000 for 21 and 23 (Less than four matches)"
       ]
      },
      {
       "output_type": "stream",
       "stream": "stdout",
       "text": [
        "\n",
        "Score: 0.0000 for 21 and 32 (Less than four matches)"
       ]
      },
      {
       "output_type": "stream",
       "stream": "stdout",
       "text": [
        "\n",
        "Score: 0.0000 for 21 and 15 (Less than four matches)"
       ]
      },
      {
       "output_type": "stream",
       "stream": "stdout",
       "text": [
        "\n",
        "Score: 0.0000 for 21 and 24 (Less than four matches)"
       ]
      },
      {
       "output_type": "stream",
       "stream": "stdout",
       "text": [
        "\n",
        "Score: 0.0223 for 21 and 25"
       ]
      },
      {
       "output_type": "stream",
       "stream": "stdout",
       "text": [
        "\n",
        "Score: 0.0234 for 21 and 30"
       ]
      },
      {
       "output_type": "stream",
       "stream": "stdout",
       "text": [
        "\n",
        "Score: 0.0000 for 21 and 32 (Less than four matches)"
       ]
      },
      {
       "output_type": "stream",
       "stream": "stdout",
       "text": [
        "\n",
        "['../../images/testsets/Gallagher_small_unresized/21_294.jpg', '../../images/testsets/Gallagher_small_unresized/29_538.jpg']\n",
        "No descriptors found. Returning score 0\n",
        "Score: 0.0580 for 21 and 21"
       ]
      },
      {
       "output_type": "stream",
       "stream": "stdout",
       "text": [
        "\n",
        "Score: 0.0211 for 21 and 20"
       ]
      },
      {
       "output_type": "stream",
       "stream": "stdout",
       "text": [
        "\n",
        "Score: 0.0000 for 21 and 15 (Less than four matches)"
       ]
      },
      {
       "output_type": "stream",
       "stream": "stdout",
       "text": [
        "\n",
        "Score: 0.0000 for 21 and 15 (Less than four matches)"
       ]
      },
      {
       "output_type": "stream",
       "stream": "stdout",
       "text": [
        "\n",
        "Score: 0.0000 for 21 and 19 (Less than four matches)"
       ]
      },
      {
       "output_type": "stream",
       "stream": "stdout",
       "text": [
        "\n",
        "Score: 0.0000 for 21 and 19 (Less than four matches)"
       ]
      },
      {
       "output_type": "stream",
       "stream": "stdout",
       "text": [
        "\n",
        "Score: 0.0327 for 21 and 21"
       ]
      },
      {
       "output_type": "stream",
       "stream": "stdout",
       "text": [
        "\n",
        "Score: 0.0454 for 21 and 26"
       ]
      },
      {
       "output_type": "stream",
       "stream": "stdout",
       "text": [
        "\n",
        "Score: 0.0000 for 21 and 27 (Less than four matches)"
       ]
      },
      {
       "output_type": "stream",
       "stream": "stdout",
       "text": [
        "\n",
        "Score: 0.0000 for 21 and 15 (Less than four matches)"
       ]
      },
      {
       "output_type": "stream",
       "stream": "stdout",
       "text": [
        "\n",
        "Score: 0.0000 for 21 and 15 (Less than four matches)"
       ]
      },
      {
       "output_type": "stream",
       "stream": "stdout",
       "text": [
        "\n",
        "Score: 0.0373 for 21 and 21"
       ]
      },
      {
       "output_type": "stream",
       "stream": "stdout",
       "text": [
        "\n",
        "Score: 0.0000 for 21 and 15 (Less than four matches)"
       ]
      },
      {
       "output_type": "stream",
       "stream": "stdout",
       "text": [
        "\n",
        "Score: 0.0000 for 21 and 16 (Less than four matches)"
       ]
      },
      {
       "output_type": "stream",
       "stream": "stdout",
       "text": [
        "\n",
        "Score: 0.0000 for 21 and 17 (Less than four matches)"
       ]
      },
      {
       "output_type": "stream",
       "stream": "stdout",
       "text": [
        "\n",
        "['../../images/testsets/Gallagher_small_unresized/21_294.jpg', '../../images/testsets/Gallagher_small_unresized/28_537.jpg']\n",
        "No descriptors found. Returning score 0\n",
        "Score: 0.0085 for 21 and 27"
       ]
      },
      {
       "output_type": "stream",
       "stream": "stdout",
       "text": [
        "\n",
        "Score: 0.0383 for 21 and 13"
       ]
      },
      {
       "output_type": "stream",
       "stream": "stdout",
       "text": [
        "\n",
        "Score: 0.0000 for 21 and 23 (Less than four matches)"
       ]
      },
      {
       "output_type": "stream",
       "stream": "stdout",
       "text": [
        "\n",
        "Score: 0.0000 for 14 and 26 (Less than four matches)"
       ]
      },
      {
       "output_type": "stream",
       "stream": "stdout",
       "text": [
        "\n",
        "Score: 0.0000 for 14 and 22 (Less than four matches)"
       ]
      },
      {
       "output_type": "stream",
       "stream": "stdout",
       "text": [
        "\n",
        "Score: 0.0000 for 14 and 29 (Less than four matches)"
       ]
      },
      {
       "output_type": "stream",
       "stream": "stdout",
       "text": [
        "\n",
        "Score: 0.0337 for 14 and 13"
       ]
      },
      {
       "output_type": "stream",
       "stream": "stdout",
       "text": [
        "\n",
        "Score: 0.0000 for 14 and 28 (Less than four matches)"
       ]
      },
      {
       "output_type": "stream",
       "stream": "stdout",
       "text": [
        "\n",
        "Score: 0.0000 for 14 and 13 (Less than four matches)"
       ]
      },
      {
       "output_type": "stream",
       "stream": "stdout",
       "text": [
        "\n",
        "Score: 0.0598 for 14 and 14"
       ]
      },
      {
       "output_type": "stream",
       "stream": "stdout",
       "text": [
        "\n",
        "Score: 0.0000 for 14 and 14 (Less than four matches)"
       ]
      },
      {
       "output_type": "stream",
       "stream": "stdout",
       "text": [
        "\n",
        "Score: 0.0000 for 14 and 27 (Less than four matches)"
       ]
      },
      {
       "output_type": "stream",
       "stream": "stdout",
       "text": [
        "\n",
        "Score: 0.0000 for 14 and 17 (Less than four matches)"
       ]
      },
      {
       "output_type": "stream",
       "stream": "stdout",
       "text": [
        "\n",
        "Score: 0.0525 for 14 and 19"
       ]
      },
      {
       "output_type": "stream",
       "stream": "stdout",
       "text": [
        "\n",
        "Score: 0.0230 for 14 and 31"
       ]
      },
      {
       "output_type": "stream",
       "stream": "stdout",
       "text": [
        "\n",
        "Score: 0.0000 for 14 and 21 (Less than four matches)"
       ]
      },
      {
       "output_type": "stream",
       "stream": "stdout",
       "text": [
        "\n",
        "Score: 0.0060 for 14 and 23"
       ]
      },
      {
       "output_type": "stream",
       "stream": "stdout",
       "text": [
        "\n",
        "Score: 0.0000 for 14 and 25 (Less than four matches)"
       ]
      },
      {
       "output_type": "stream",
       "stream": "stdout",
       "text": [
        "\n",
        "Score: 0.0000 for 14 and 23 (Less than four matches)"
       ]
      },
      {
       "output_type": "stream",
       "stream": "stdout",
       "text": [
        "\n",
        "Score: 0.0000 for 14 and 31 (Less than four matches)"
       ]
      },
      {
       "output_type": "stream",
       "stream": "stdout",
       "text": [
        "\n",
        "Score: 0.0439 for 14 and 15"
       ]
      },
      {
       "output_type": "stream",
       "stream": "stdout",
       "text": [
        "\n",
        "Score: 0.0000 for 14 and 23 (Less than four matches)"
       ]
      },
      {
       "output_type": "stream",
       "stream": "stdout",
       "text": [
        "\n",
        "Score: 0.0000 for 14 and 18 (Less than four matches)"
       ]
      },
      {
       "output_type": "stream",
       "stream": "stdout",
       "text": [
        "\n",
        "Score: 0.0000 for 14 and 15 (Less than four matches)"
       ]
      },
      {
       "output_type": "stream",
       "stream": "stdout",
       "text": [
        "\n",
        "Score: 0.0000 for 14 and 16 (Less than four matches)"
       ]
      },
      {
       "output_type": "stream",
       "stream": "stdout",
       "text": [
        "\n",
        "Score: 0.0000 for 14 and 23 (Less than four matches)"
       ]
      },
      {
       "output_type": "stream",
       "stream": "stdout",
       "text": [
        "\n",
        "Score: 0.0186 for 14 and 23"
       ]
      },
      {
       "output_type": "stream",
       "stream": "stdout",
       "text": [
        "\n",
        "Score: 0.0000 for 14 and 32 (Less than four matches)"
       ]
      },
      {
       "output_type": "stream",
       "stream": "stdout",
       "text": [
        "\n",
        "Score: 0.0460 for 14 and 15"
       ]
      },
      {
       "output_type": "stream",
       "stream": "stdout",
       "text": [
        "\n",
        "Score: 0.0000 for 14 and 24 (Less than four matches)"
       ]
      },
      {
       "output_type": "stream",
       "stream": "stdout",
       "text": [
        "\n",
        "Score: 0.0000 for 14 and 25 (Less than four matches)"
       ]
      },
      {
       "output_type": "stream",
       "stream": "stdout",
       "text": [
        "\n",
        "Score: 0.0000 for 14 and 30 (Less than four matches)"
       ]
      },
      {
       "output_type": "stream",
       "stream": "stdout",
       "text": [
        "\n",
        "Score: 0.0587 for 14 and 32"
       ]
      },
      {
       "output_type": "stream",
       "stream": "stdout",
       "text": [
        "\n",
        "['../../images/testsets/Gallagher_small_unresized/14_206.jpg', '../../images/testsets/Gallagher_small_unresized/29_538.jpg']\n",
        "No descriptors found. Returning score 0\n",
        "Score: 0.0000 for 14 and 21 (Less than four matches)"
       ]
      },
      {
       "output_type": "stream",
       "stream": "stdout",
       "text": [
        "\n",
        "Score: 0.0400 for 14 and 20"
       ]
      },
      {
       "output_type": "stream",
       "stream": "stdout",
       "text": [
        "\n",
        "Score: 0.0000 for 14 and 15 (Less than four matches)"
       ]
      },
      {
       "output_type": "stream",
       "stream": "stdout",
       "text": [
        "\n",
        "Score: 0.0244 for 14 and 15"
       ]
      },
      {
       "output_type": "stream",
       "stream": "stdout",
       "text": [
        "\n",
        "Score: 0.0495 for 14 and 19"
       ]
      },
      {
       "output_type": "stream",
       "stream": "stdout",
       "text": [
        "\n",
        "Score: 0.0000 for 14 and 19 (Less than four matches)"
       ]
      },
      {
       "output_type": "stream",
       "stream": "stdout",
       "text": [
        "\n",
        "Score: 0.0475 for 14 and 21"
       ]
      },
      {
       "output_type": "stream",
       "stream": "stdout",
       "text": [
        "\n",
        "Score: 0.0254 for 14 and 26"
       ]
      },
      {
       "output_type": "stream",
       "stream": "stdout",
       "text": [
        "\n",
        "Score: 0.0000 for 14 and 27 (Less than four matches)"
       ]
      },
      {
       "output_type": "stream",
       "stream": "stdout",
       "text": [
        "\n",
        "Score: 0.0000 for 14 and 15 (Less than four matches)"
       ]
      },
      {
       "output_type": "stream",
       "stream": "stdout",
       "text": [
        "\n",
        "Score: 0.0328 for 14 and 15"
       ]
      },
      {
       "output_type": "stream",
       "stream": "stdout",
       "text": [
        "\n",
        "Score: 0.0179 for 14 and 21"
       ]
      },
      {
       "output_type": "stream",
       "stream": "stdout",
       "text": [
        "\n",
        "Score: 0.0000 for 14 and 15 (Less than four matches)"
       ]
      },
      {
       "output_type": "stream",
       "stream": "stdout",
       "text": [
        "\n",
        "Score: 0.0165 for 14 and 16"
       ]
      },
      {
       "output_type": "stream",
       "stream": "stdout",
       "text": [
        "\n",
        "Score: 0.0000 for 14 and 17 (Less than four matches)"
       ]
      },
      {
       "output_type": "stream",
       "stream": "stdout",
       "text": [
        "\n",
        "['../../images/testsets/Gallagher_small_unresized/14_206.jpg', '../../images/testsets/Gallagher_small_unresized/28_537.jpg']\n",
        "No descriptors found. Returning score 0\n",
        "Score: 0.0000 for 14 and 27 (Less than four matches)"
       ]
      },
      {
       "output_type": "stream",
       "stream": "stdout",
       "text": [
        "\n",
        "Score: 0.0000 for 14 and 13 (Less than four matches)"
       ]
      },
      {
       "output_type": "stream",
       "stream": "stdout",
       "text": [
        "\n",
        "Score: 0.0233 for 14 and 23"
       ]
      },
      {
       "output_type": "stream",
       "stream": "stdout",
       "text": [
        "\n",
        "Score: 0.0000 for 26 and 22 (Less than four matches)"
       ]
      },
      {
       "output_type": "stream",
       "stream": "stdout",
       "text": [
        "\n",
        "Score: 0.0000 for 26 and 29 (Less than four matches)"
       ]
      },
      {
       "output_type": "stream",
       "stream": "stdout",
       "text": [
        "\n",
        "Score: 0.0000 for 26 and 13 (Less than four matches)"
       ]
      },
      {
       "output_type": "stream",
       "stream": "stdout",
       "text": [
        "\n",
        "Score: 0.0000 for 26 and 28 (Less than four matches)"
       ]
      },
      {
       "output_type": "stream",
       "stream": "stdout",
       "text": [
        "\n",
        "Score: 0.0000 for 26 and 13 (Less than four matches)"
       ]
      },
      {
       "output_type": "stream",
       "stream": "stdout",
       "text": [
        "\n",
        "Score: 0.0000 for 26 and 14 (Less than four matches)"
       ]
      },
      {
       "output_type": "stream",
       "stream": "stdout",
       "text": [
        "\n",
        "Score: 0.0000 for 26 and 14 (Less than four matches)"
       ]
      },
      {
       "output_type": "stream",
       "stream": "stdout",
       "text": [
        "\n",
        "Score: 0.0000 for 26 and 27 (Less than four matches)"
       ]
      },
      {
       "output_type": "stream",
       "stream": "stdout",
       "text": [
        "\n",
        "Score: 0.0000 for 26 and 17 (Less than four matches)"
       ]
      },
      {
       "output_type": "stream",
       "stream": "stdout",
       "text": [
        "\n",
        "Score: 0.0000 for 26 and 19 (Less than four matches)"
       ]
      },
      {
       "output_type": "stream",
       "stream": "stdout",
       "text": [
        "\n",
        "Score: 0.0000 for 26 and 31 (Less than four matches)"
       ]
      },
      {
       "output_type": "stream",
       "stream": "stdout",
       "text": [
        "\n",
        "Score: 0.0000 for 26 and 21 (Less than four matches)"
       ]
      },
      {
       "output_type": "stream",
       "stream": "stdout",
       "text": [
        "\n",
        "Score: 0.0000 for 26 and 23 (Less than four matches)"
       ]
      },
      {
       "output_type": "stream",
       "stream": "stdout",
       "text": [
        "\n",
        "Score: 0.0000 for 26 and 25 (Less than four matches)"
       ]
      },
      {
       "output_type": "stream",
       "stream": "stdout",
       "text": [
        "\n",
        "Score: 0.0000 for 26 and 23 (Less than four matches)"
       ]
      },
      {
       "output_type": "stream",
       "stream": "stdout",
       "text": [
        "\n",
        "Score: 0.0000 for 26 and 31 (Less than four matches)"
       ]
      },
      {
       "output_type": "stream",
       "stream": "stdout",
       "text": [
        "\n",
        "Score: 0.0000 for 26 and 15 (Less than four matches)"
       ]
      },
      {
       "output_type": "stream",
       "stream": "stdout",
       "text": [
        "\n",
        "Score: 0.0000 for 26 and 23 (Less than four matches)"
       ]
      },
      {
       "output_type": "stream",
       "stream": "stdout",
       "text": [
        "\n",
        "Score: 0.0000 for 26 and 18 (Less than four matches)"
       ]
      },
      {
       "output_type": "stream",
       "stream": "stdout",
       "text": [
        "\n",
        "Score: 0.0000 for 26 and 15 (Less than four matches)"
       ]
      },
      {
       "output_type": "stream",
       "stream": "stdout",
       "text": [
        "\n",
        "Score: 0.0000 for 26 and 16 (Less than four matches)"
       ]
      },
      {
       "output_type": "stream",
       "stream": "stdout",
       "text": [
        "\n",
        "Score: 0.0000 for 26 and 23 (Less than four matches)"
       ]
      },
      {
       "output_type": "stream",
       "stream": "stdout",
       "text": [
        "\n",
        "Score: 0.0000 for 26 and 23 (Less than four matches)"
       ]
      },
      {
       "output_type": "stream",
       "stream": "stdout",
       "text": [
        "\n",
        "Score: 0.0000 for 26 and 32 (Less than four matches)"
       ]
      },
      {
       "output_type": "stream",
       "stream": "stdout",
       "text": [
        "\n",
        "Score: 0.0000 for 26 and 15 (Less than four matches)"
       ]
      },
      {
       "output_type": "stream",
       "stream": "stdout",
       "text": [
        "\n",
        "Score: 0.0000 for 26 and 24 (Less than four matches)"
       ]
      },
      {
       "output_type": "stream",
       "stream": "stdout",
       "text": [
        "\n",
        "Score: 0.0000 for 26 and 25 (Less than four matches)"
       ]
      },
      {
       "output_type": "stream",
       "stream": "stdout",
       "text": [
        "\n",
        "Score: 0.0000 for 26 and 30 (Less than four matches)"
       ]
      },
      {
       "output_type": "stream",
       "stream": "stdout",
       "text": [
        "\n",
        "Score: 0.0000 for 26 and 32 (Less than four matches)"
       ]
      },
      {
       "output_type": "stream",
       "stream": "stdout",
       "text": [
        "\n",
        "['../../images/testsets/Gallagher_small_unresized/26_535.jpg', '../../images/testsets/Gallagher_small_unresized/29_538.jpg']\n",
        "No descriptors found. Returning score 0\n",
        "Score: 0.0000 for 26 and 21 (Less than four matches)"
       ]
      },
      {
       "output_type": "stream",
       "stream": "stdout",
       "text": [
        "\n",
        "Score: 0.0000 for 26 and 20 (Less than four matches)"
       ]
      },
      {
       "output_type": "stream",
       "stream": "stdout",
       "text": [
        "\n",
        "Score: 0.0000 for 26 and 15 (Less than four matches)"
       ]
      },
      {
       "output_type": "stream",
       "stream": "stdout",
       "text": [
        "\n",
        "Score: 0.0000 for 26 and 15 (Less than four matches)"
       ]
      },
      {
       "output_type": "stream",
       "stream": "stdout",
       "text": [
        "\n",
        "Score: 0.0000 for 26 and 19 (Less than four matches)"
       ]
      },
      {
       "output_type": "stream",
       "stream": "stdout",
       "text": [
        "\n",
        "Score: 0.0000 for 26 and 19 (Less than four matches)"
       ]
      },
      {
       "output_type": "stream",
       "stream": "stdout",
       "text": [
        "\n",
        "Score: 0.0000 for 26 and 21 (Less than four matches)"
       ]
      },
      {
       "output_type": "stream",
       "stream": "stdout",
       "text": [
        "\n",
        "Score: 0.0250 for 26 and 26"
       ]
      },
      {
       "output_type": "stream",
       "stream": "stdout",
       "text": [
        "\n",
        "Score: 0.0000 for 26 and 27 (Less than four matches)"
       ]
      },
      {
       "output_type": "stream",
       "stream": "stdout",
       "text": [
        "\n",
        "Score: 0.0000 for 26 and 15 (Less than four matches)"
       ]
      },
      {
       "output_type": "stream",
       "stream": "stdout",
       "text": [
        "\n",
        "Score: 0.0000 for 26 and 15 (Less than four matches)"
       ]
      },
      {
       "output_type": "stream",
       "stream": "stdout",
       "text": [
        "\n",
        "Score: 0.0000 for 26 and 21 (Less than four matches)"
       ]
      },
      {
       "output_type": "stream",
       "stream": "stdout",
       "text": [
        "\n",
        "Score: 0.0000 for 26 and 15 (Less than four matches)"
       ]
      },
      {
       "output_type": "stream",
       "stream": "stdout",
       "text": [
        "\n",
        "Score: 0.0000 for 26 and 16 (Less than four matches)"
       ]
      },
      {
       "output_type": "stream",
       "stream": "stdout",
       "text": [
        "\n",
        "Score: 0.0000 for 26 and 17 (Less than four matches)"
       ]
      },
      {
       "output_type": "stream",
       "stream": "stdout",
       "text": [
        "\n",
        "['../../images/testsets/Gallagher_small_unresized/26_535.jpg', '../../images/testsets/Gallagher_small_unresized/28_537.jpg']\n",
        "No descriptors found. Returning score 0\n",
        "Score: 0.0000 for 26 and 27 (Less than four matches)"
       ]
      },
      {
       "output_type": "stream",
       "stream": "stdout",
       "text": [
        "\n",
        "Score: 0.0000 for 26 and 13 (Less than four matches)"
       ]
      },
      {
       "output_type": "stream",
       "stream": "stdout",
       "text": [
        "\n",
        "Score: 0.0000 for 26 and 23 (Less than four matches)"
       ]
      },
      {
       "output_type": "stream",
       "stream": "stdout",
       "text": [
        "\n",
        "Score: 0.0000 for 22 and 29 (Less than four matches)"
       ]
      },
      {
       "output_type": "stream",
       "stream": "stdout",
       "text": [
        "\n",
        "Score: 0.0000 for 22 and 13 (Less than four matches)"
       ]
      },
      {
       "output_type": "stream",
       "stream": "stdout",
       "text": [
        "\n",
        "Score: 0.0000 for 22 and 28 (Less than four matches)"
       ]
      },
      {
       "output_type": "stream",
       "stream": "stdout",
       "text": [
        "\n",
        "Score: 0.0000 for 22 and 13 (Less than four matches)"
       ]
      },
      {
       "output_type": "stream",
       "stream": "stdout",
       "text": [
        "\n",
        "Score: 0.0000 for 22 and 14 (Less than four matches)"
       ]
      },
      {
       "output_type": "stream",
       "stream": "stdout",
       "text": [
        "\n",
        "Score: 0.0000 for 22 and 14 (Less than four matches)"
       ]
      },
      {
       "output_type": "stream",
       "stream": "stdout",
       "text": [
        "\n",
        "Score: 0.0000 for 22 and 27 (Less than four matches)"
       ]
      },
      {
       "output_type": "stream",
       "stream": "stdout",
       "text": [
        "\n",
        "Score: 0.0000 for 22 and 17 (Less than four matches)"
       ]
      },
      {
       "output_type": "stream",
       "stream": "stdout",
       "text": [
        "\n",
        "Score: 0.0000 for 22 and 19 (Less than four matches)"
       ]
      },
      {
       "output_type": "stream",
       "stream": "stdout",
       "text": [
        "\n",
        "Score: 0.0000 for 22 and 31 (Less than four matches)"
       ]
      },
      {
       "output_type": "stream",
       "stream": "stdout",
       "text": [
        "\n",
        "Score: 0.0000 for 22 and 21 (Less than four matches)"
       ]
      },
      {
       "output_type": "stream",
       "stream": "stdout",
       "text": [
        "\n",
        "Score: 0.0197 for 22 and 23"
       ]
      },
      {
       "output_type": "stream",
       "stream": "stdout",
       "text": [
        "\n",
        "Score: 0.0000 for 22 and 25 (Less than four matches)"
       ]
      },
      {
       "output_type": "stream",
       "stream": "stdout",
       "text": [
        "\n",
        "Score: 0.0000 for 22 and 23 (Less than four matches)"
       ]
      },
      {
       "output_type": "stream",
       "stream": "stdout",
       "text": [
        "\n",
        "Score: 0.0000 for 22 and 31 (Less than four matches)"
       ]
      },
      {
       "output_type": "stream",
       "stream": "stdout",
       "text": [
        "\n",
        "Score: 0.0000 for 22 and 15 (Less than four matches)"
       ]
      },
      {
       "output_type": "stream",
       "stream": "stdout",
       "text": [
        "\n",
        "Score: 0.0000 for 22 and 23 (Less than four matches)"
       ]
      },
      {
       "output_type": "stream",
       "stream": "stdout",
       "text": [
        "\n",
        "Score: 0.0000 for 22 and 18 (Less than four matches)"
       ]
      },
      {
       "output_type": "stream",
       "stream": "stdout",
       "text": [
        "\n",
        "Score: 0.0000 for 22 and 15 (Less than four matches)"
       ]
      },
      {
       "output_type": "stream",
       "stream": "stdout",
       "text": [
        "\n",
        "Score: 0.0000 for 22 and 16 (Less than four matches)"
       ]
      },
      {
       "output_type": "stream",
       "stream": "stdout",
       "text": [
        "\n",
        "Score: 0.0000 for 22 and 23 (Less than four matches)"
       ]
      },
      {
       "output_type": "stream",
       "stream": "stdout",
       "text": [
        "\n",
        "Score: 0.0000 for 22 and 23 (Less than four matches)"
       ]
      },
      {
       "output_type": "stream",
       "stream": "stdout",
       "text": [
        "\n",
        "Score: 0.0000 for 22 and 32 (Less than four matches)"
       ]
      },
      {
       "output_type": "stream",
       "stream": "stdout",
       "text": [
        "\n",
        "Score: 0.0000 for 22 and 15 (Less than four matches)"
       ]
      },
      {
       "output_type": "stream",
       "stream": "stdout",
       "text": [
        "\n",
        "Score: 0.0000 for 22 and 24 (Less than four matches)"
       ]
      },
      {
       "output_type": "stream",
       "stream": "stdout",
       "text": [
        "\n",
        "Score: 0.0000 for 22 and 25 (Less than four matches)"
       ]
      },
      {
       "output_type": "stream",
       "stream": "stdout",
       "text": [
        "\n",
        "Score: 0.0000 for 22 and 30 (Less than four matches)"
       ]
      },
      {
       "output_type": "stream",
       "stream": "stdout",
       "text": [
        "\n",
        "Score: 0.0000 for 22 and 32 (Less than four matches)"
       ]
      },
      {
       "output_type": "stream",
       "stream": "stdout",
       "text": [
        "\n",
        "['../../images/testsets/Gallagher_small_unresized/22_255.jpg', '../../images/testsets/Gallagher_small_unresized/29_538.jpg']\n",
        "No descriptors found. Returning score 0\n",
        "Score: 0.0000 for 22 and 21 (Less than four matches)"
       ]
      },
      {
       "output_type": "stream",
       "stream": "stdout",
       "text": [
        "\n",
        "Score: 0.0000 for 22 and 20 (Less than four matches)"
       ]
      },
      {
       "output_type": "stream",
       "stream": "stdout",
       "text": [
        "\n",
        "Score: 0.0000 for 22 and 15 (Less than four matches)"
       ]
      },
      {
       "output_type": "stream",
       "stream": "stdout",
       "text": [
        "\n",
        "Score: 0.0000 for 22 and 15 (Less than four matches)"
       ]
      },
      {
       "output_type": "stream",
       "stream": "stdout",
       "text": [
        "\n",
        "Score: 0.0000 for 22 and 19 (Less than four matches)"
       ]
      },
      {
       "output_type": "stream",
       "stream": "stdout",
       "text": [
        "\n",
        "Score: 0.0000 for 22 and 19 (Less than four matches)"
       ]
      },
      {
       "output_type": "stream",
       "stream": "stdout",
       "text": [
        "\n",
        "Score: 0.0000 for 22 and 21 (Less than four matches)"
       ]
      },
      {
       "output_type": "stream",
       "stream": "stdout",
       "text": [
        "\n",
        "Score: 0.0000 for 22 and 26 (Less than four matches)"
       ]
      },
      {
       "output_type": "stream",
       "stream": "stdout",
       "text": [
        "\n",
        "Score: 0.0000 for 22 and 27 (Less than four matches)"
       ]
      },
      {
       "output_type": "stream",
       "stream": "stdout",
       "text": [
        "\n",
        "Score: 0.0000 for 22 and 15 (Less than four matches)"
       ]
      },
      {
       "output_type": "stream",
       "stream": "stdout",
       "text": [
        "\n",
        "Score: 0.0000 for 22 and 15 (Less than four matches)"
       ]
      },
      {
       "output_type": "stream",
       "stream": "stdout",
       "text": [
        "\n",
        "Score: 0.0000 for 22 and 21 (Less than four matches)"
       ]
      },
      {
       "output_type": "stream",
       "stream": "stdout",
       "text": [
        "\n",
        "Score: 0.0000 for 22 and 15 (Less than four matches)"
       ]
      },
      {
       "output_type": "stream",
       "stream": "stdout",
       "text": [
        "\n",
        "Score: 0.0000 for 22 and 16 (Less than four matches)"
       ]
      },
      {
       "output_type": "stream",
       "stream": "stdout",
       "text": [
        "\n",
        "Score: 0.0000 for 22 and 17 (Less than four matches)"
       ]
      },
      {
       "output_type": "stream",
       "stream": "stdout",
       "text": [
        "\n",
        "['../../images/testsets/Gallagher_small_unresized/22_255.jpg', '../../images/testsets/Gallagher_small_unresized/28_537.jpg']\n",
        "No descriptors found. Returning score 0\n",
        "Score: 0.0000 for 22 and 27 (Less than four matches)"
       ]
      },
      {
       "output_type": "stream",
       "stream": "stdout",
       "text": [
        "\n",
        "Score: 0.0000 for 22 and 13 (Less than four matches)"
       ]
      },
      {
       "output_type": "stream",
       "stream": "stdout",
       "text": [
        "\n",
        "Score: 0.0000 for 22 and 23 (Less than four matches)"
       ]
      },
      {
       "output_type": "stream",
       "stream": "stdout",
       "text": [
        "\n",
        "Score: 0.0113 for 29 and 13"
       ]
      },
      {
       "output_type": "stream",
       "stream": "stdout",
       "text": [
        "\n",
        "Score: 0.0390 for 29 and 28"
       ]
      },
      {
       "output_type": "stream",
       "stream": "stdout",
       "text": [
        "\n",
        "Score: 0.0150 for 29 and 13"
       ]
      },
      {
       "output_type": "stream",
       "stream": "stdout",
       "text": [
        "\n",
        "Score: 0.0000 for 29 and 14 (Less than four matches)"
       ]
      },
      {
       "output_type": "stream",
       "stream": "stdout",
       "text": [
        "\n",
        "Score: 0.0000 for 29 and 14 (Less than four matches)"
       ]
      },
      {
       "output_type": "stream",
       "stream": "stdout",
       "text": [
        "\n",
        "Score: 0.0000 for 29 and 27 (Less than four matches)"
       ]
      },
      {
       "output_type": "stream",
       "stream": "stdout",
       "text": [
        "\n",
        "Score: 0.0000 for 29 and 17 (Less than four matches)"
       ]
      },
      {
       "output_type": "stream",
       "stream": "stdout",
       "text": [
        "\n",
        "Score: 0.0000 for 29 and 19 (Less than four matches)"
       ]
      },
      {
       "output_type": "stream",
       "stream": "stdout",
       "text": [
        "\n",
        "Score: 0.0000 for 29 and 31 (Less than four matches)"
       ]
      },
      {
       "output_type": "stream",
       "stream": "stdout",
       "text": [
        "\n",
        "Score: 0.0000 for 29 and 21 (Less than four matches)"
       ]
      },
      {
       "output_type": "stream",
       "stream": "stdout",
       "text": [
        "\n",
        "Score: 0.0000 for 29 and 23 (Less than four matches)"
       ]
      },
      {
       "output_type": "stream",
       "stream": "stdout",
       "text": [
        "\n",
        "Score: 0.0198 for 29 and 25"
       ]
      },
      {
       "output_type": "stream",
       "stream": "stdout",
       "text": [
        "\n",
        "Score: 0.0000 for 29 and 23 (Less than four matches)"
       ]
      },
      {
       "output_type": "stream",
       "stream": "stdout",
       "text": [
        "\n",
        "Score: 0.0000 for 29 and 31 (Less than four matches)"
       ]
      },
      {
       "output_type": "stream",
       "stream": "stdout",
       "text": [
        "\n",
        "Score: 0.0000 for 29 and 15 (Less than four matches)"
       ]
      },
      {
       "output_type": "stream",
       "stream": "stdout",
       "text": [
        "\n",
        "Score: 0.0144 for 29 and 23"
       ]
      },
      {
       "output_type": "stream",
       "stream": "stdout",
       "text": [
        "\n",
        "Score: 0.0290 for 29 and 18"
       ]
      },
      {
       "output_type": "stream",
       "stream": "stdout",
       "text": [
        "\n",
        "Score: 0.0000 for 29 and 15 (Less than four matches)"
       ]
      },
      {
       "output_type": "stream",
       "stream": "stdout",
       "text": [
        "\n",
        "Score: 0.0000 for 29 and 16 (Less than four matches)"
       ]
      },
      {
       "output_type": "stream",
       "stream": "stdout",
       "text": [
        "\n",
        "Score: 0.0275 for 29 and 23"
       ]
      },
      {
       "output_type": "stream",
       "stream": "stdout",
       "text": [
        "\n",
        "Score: 0.0000 for 29 and 23 (Less than four matches)"
       ]
      },
      {
       "output_type": "stream",
       "stream": "stdout",
       "text": [
        "\n",
        "Score: 0.0000 for 29 and 32 (Less than four matches)"
       ]
      },
      {
       "output_type": "stream",
       "stream": "stdout",
       "text": [
        "\n",
        "Score: 0.0000 for 29 and 15 (Less than four matches)"
       ]
      },
      {
       "output_type": "stream",
       "stream": "stdout",
       "text": [
        "\n",
        "Score: 0.0000 for 29 and 24 (Less than four matches)"
       ]
      },
      {
       "output_type": "stream",
       "stream": "stdout",
       "text": [
        "\n",
        "Score: 0.0418 for 29 and 25"
       ]
      },
      {
       "output_type": "stream",
       "stream": "stdout",
       "text": [
        "\n",
        "Score: 0.0000 for 29 and 30 (Less than four matches)"
       ]
      },
      {
       "output_type": "stream",
       "stream": "stdout",
       "text": [
        "\n",
        "Score: 0.0156 for 29 and 32"
       ]
      },
      {
       "output_type": "stream",
       "stream": "stdout",
       "text": [
        "\n",
        "['../../images/testsets/Gallagher_small_unresized/29_553.jpg', '../../images/testsets/Gallagher_small_unresized/29_538.jpg']\n",
        "No descriptors found. Returning score 0\n",
        "Score: 0.0000 for 29 and 21 (Less than four matches)"
       ]
      },
      {
       "output_type": "stream",
       "stream": "stdout",
       "text": [
        "\n",
        "Score: 0.0535 for 29 and 20"
       ]
      },
      {
       "output_type": "stream",
       "stream": "stdout",
       "text": [
        "\n",
        "Score: 0.0000 for 29 and 15 (Less than four matches)"
       ]
      },
      {
       "output_type": "stream",
       "stream": "stdout",
       "text": [
        "\n",
        "Score: 0.0000 for 29 and 15 (Less than four matches)"
       ]
      },
      {
       "output_type": "stream",
       "stream": "stdout",
       "text": [
        "\n",
        "Score: 0.0000 for 29 and 19 (Less than four matches)"
       ]
      },
      {
       "output_type": "stream",
       "stream": "stdout",
       "text": [
        "\n",
        "Score: 0.0000 for 29 and 19 (Less than four matches)"
       ]
      },
      {
       "output_type": "stream",
       "stream": "stdout",
       "text": [
        "\n",
        "Score: 0.0176 for 29 and 21"
       ]
      },
      {
       "output_type": "stream",
       "stream": "stdout",
       "text": [
        "\n",
        "Score: 0.0000 for 29 and 26 (Less than four matches)"
       ]
      },
      {
       "output_type": "stream",
       "stream": "stdout",
       "text": [
        "\n",
        "Score: 0.0000 for 29 and 27 (Less than four matches)"
       ]
      },
      {
       "output_type": "stream",
       "stream": "stdout",
       "text": [
        "\n",
        "Score: 0.0000 for 29 and 15 (Less than four matches)"
       ]
      },
      {
       "output_type": "stream",
       "stream": "stdout",
       "text": [
        "\n",
        "Score: 0.0000 for 29 and 15 (Less than four matches)"
       ]
      },
      {
       "output_type": "stream",
       "stream": "stdout",
       "text": [
        "\n",
        "Score: 0.0000 for 29 and 21 (Less than four matches)"
       ]
      },
      {
       "output_type": "stream",
       "stream": "stdout",
       "text": [
        "\n",
        "Score: 0.0000 for 29 and 15 (Less than four matches)"
       ]
      },
      {
       "output_type": "stream",
       "stream": "stdout",
       "text": [
        "\n",
        "Score: 0.0212 for 29 and 16"
       ]
      },
      {
       "output_type": "stream",
       "stream": "stdout",
       "text": [
        "\n",
        "Score: 0.0000 for 29 and 17 (Less than four matches)"
       ]
      },
      {
       "output_type": "stream",
       "stream": "stdout",
       "text": [
        "\n",
        "['../../images/testsets/Gallagher_small_unresized/29_553.jpg', '../../images/testsets/Gallagher_small_unresized/28_537.jpg']\n",
        "No descriptors found. Returning score 0\n",
        "Score: 0.0000 for 29 and 27 (Less than four matches)"
       ]
      },
      {
       "output_type": "stream",
       "stream": "stdout",
       "text": [
        "\n",
        "Score: 0.0000 for 29 and 13 (Less than four matches)"
       ]
      },
      {
       "output_type": "stream",
       "stream": "stdout",
       "text": [
        "\n",
        "Score: 0.0245 for 29 and 23"
       ]
      },
      {
       "output_type": "stream",
       "stream": "stdout",
       "text": [
        "\n",
        "Score: 0.0000 for 13 and 28 (Less than four matches)"
       ]
      },
      {
       "output_type": "stream",
       "stream": "stdout",
       "text": [
        "\n",
        "Score: 0.0402 for 13 and 13"
       ]
      },
      {
       "output_type": "stream",
       "stream": "stdout",
       "text": [
        "\n",
        "Score: 0.0413 for 13 and 14"
       ]
      },
      {
       "output_type": "stream",
       "stream": "stdout",
       "text": [
        "\n",
        "Score: 0.0000 for 13 and 14 (Less than four matches)"
       ]
      },
      {
       "output_type": "stream",
       "stream": "stdout",
       "text": [
        "\n",
        "Score: 0.0547 for 13 and 27"
       ]
      },
      {
       "output_type": "stream",
       "stream": "stdout",
       "text": [
        "\n",
        "Score: 0.0090 for 13 and 17"
       ]
      },
      {
       "output_type": "stream",
       "stream": "stdout",
       "text": [
        "\n",
        "Score: 0.0172 for 13 and 19"
       ]
      },
      {
       "output_type": "stream",
       "stream": "stdout",
       "text": [
        "\n",
        "Score: 0.0000 for 13 and 31 (Less than four matches)"
       ]
      },
      {
       "output_type": "stream",
       "stream": "stdout",
       "text": [
        "\n",
        "Score: 0.0207 for 13 and 21"
       ]
      },
      {
       "output_type": "stream",
       "stream": "stdout",
       "text": [
        "\n",
        "Score: 0.0395 for 13 and 23"
       ]
      },
      {
       "output_type": "stream",
       "stream": "stdout",
       "text": [
        "\n",
        "Score: 0.0256 for 13 and 25"
       ]
      },
      {
       "output_type": "stream",
       "stream": "stdout",
       "text": [
        "\n",
        "Score: 0.0000 for 13 and 23 (Less than four matches)"
       ]
      },
      {
       "output_type": "stream",
       "stream": "stdout",
       "text": [
        "\n",
        "Score: 0.0000 for 13 and 31 (Less than four matches)"
       ]
      },
      {
       "output_type": "stream",
       "stream": "stdout",
       "text": [
        "\n",
        "Score: 0.0000 for 13 and 15 (Less than four matches)"
       ]
      },
      {
       "output_type": "stream",
       "stream": "stdout",
       "text": [
        "\n",
        "Score: 0.0027 for 13 and 23"
       ]
      },
      {
       "output_type": "stream",
       "stream": "stdout",
       "text": [
        "\n",
        "Score: 0.0363 for 13 and 18"
       ]
      },
      {
       "output_type": "stream",
       "stream": "stdout",
       "text": [
        "\n",
        "Score: 0.0167 for 13 and 15"
       ]
      },
      {
       "output_type": "stream",
       "stream": "stdout",
       "text": [
        "\n",
        "Score: 0.0223 for 13 and 16"
       ]
      },
      {
       "output_type": "stream",
       "stream": "stdout",
       "text": [
        "\n",
        "Score: 0.0067 for 13 and 23"
       ]
      },
      {
       "output_type": "stream",
       "stream": "stdout",
       "text": [
        "\n",
        "Score: 0.0177 for 13 and 23"
       ]
      },
      {
       "output_type": "stream",
       "stream": "stdout",
       "text": [
        "\n",
        "Score: 0.0000 for 13 and 32 (Less than four matches)"
       ]
      },
      {
       "output_type": "stream",
       "stream": "stdout",
       "text": [
        "\n",
        "Score: 0.0010 for 13 and 15"
       ]
      },
      {
       "output_type": "stream",
       "stream": "stdout",
       "text": [
        "\n",
        "Score: 0.0113 for 13 and 24"
       ]
      },
      {
       "output_type": "stream",
       "stream": "stdout",
       "text": [
        "\n",
        "Score: 0.0204 for 13 and 25"
       ]
      },
      {
       "output_type": "stream",
       "stream": "stdout",
       "text": [
        "\n",
        "Score: 0.0209 for 13 and 30"
       ]
      },
      {
       "output_type": "stream",
       "stream": "stdout",
       "text": [
        "\n",
        "Score: 0.0116 for 13 and 32"
       ]
      },
      {
       "output_type": "stream",
       "stream": "stdout",
       "text": [
        "\n",
        "['../../images/testsets/Gallagher_small_unresized/13_168.jpg', '../../images/testsets/Gallagher_small_unresized/29_538.jpg']\n",
        "No descriptors found. Returning score 0\n",
        "Score: 0.0307 for 13 and 21"
       ]
      },
      {
       "output_type": "stream",
       "stream": "stdout",
       "text": [
        "\n",
        "Score: 0.0482 for 13 and 20"
       ]
      },
      {
       "output_type": "stream",
       "stream": "stdout",
       "text": [
        "\n",
        "Score: 0.0138 for 13 and 15"
       ]
      },
      {
       "output_type": "stream",
       "stream": "stdout",
       "text": [
        "\n",
        "Score: 0.0204 for 13 and 15"
       ]
      },
      {
       "output_type": "stream",
       "stream": "stdout",
       "text": [
        "\n",
        "Score: 0.0000 for 13 and 19 (Less than four matches)"
       ]
      },
      {
       "output_type": "stream",
       "stream": "stdout",
       "text": [
        "\n",
        "Score: 0.0000 for 13 and 19 (Less than four matches)"
       ]
      },
      {
       "output_type": "stream",
       "stream": "stdout",
       "text": [
        "\n",
        "Score: 0.0000 for 13 and 21 (Less than four matches)"
       ]
      },
      {
       "output_type": "stream",
       "stream": "stdout",
       "text": [
        "\n",
        "Score: 0.0246 for 13 and 26"
       ]
      },
      {
       "output_type": "stream",
       "stream": "stdout",
       "text": [
        "\n",
        "Score: 0.0200 for 13 and 27"
       ]
      },
      {
       "output_type": "stream",
       "stream": "stdout",
       "text": [
        "\n",
        "Score: 0.0143 for 13 and 15"
       ]
      },
      {
       "output_type": "stream",
       "stream": "stdout",
       "text": [
        "\n",
        "Score: 0.0208 for 13 and 15"
       ]
      },
      {
       "output_type": "stream",
       "stream": "stdout",
       "text": [
        "\n",
        "Score: 0.0000 for 13 and 21 (Less than four matches)"
       ]
      },
      {
       "output_type": "stream",
       "stream": "stdout",
       "text": [
        "\n",
        "Score: 0.0000 for 13 and 15 (Less than four matches)"
       ]
      },
      {
       "output_type": "stream",
       "stream": "stdout",
       "text": [
        "\n",
        "Score: 0.0199 for 13 and 16"
       ]
      },
      {
       "output_type": "stream",
       "stream": "stdout",
       "text": [
        "\n",
        "Score: 0.0000 for 13 and 17 (Less than four matches)"
       ]
      },
      {
       "output_type": "stream",
       "stream": "stdout",
       "text": [
        "\n",
        "['../../images/testsets/Gallagher_small_unresized/13_168.jpg', '../../images/testsets/Gallagher_small_unresized/28_537.jpg']\n",
        "No descriptors found. Returning score 0\n",
        "Score: 0.0278 for 13 and 27"
       ]
      },
      {
       "output_type": "stream",
       "stream": "stdout",
       "text": [
        "\n",
        "Score: 0.0000 for 13 and 13 (Less than four matches)"
       ]
      },
      {
       "output_type": "stream",
       "stream": "stdout",
       "text": [
        "\n",
        "Score: 0.0201 for 13 and 23"
       ]
      },
      {
       "output_type": "stream",
       "stream": "stdout",
       "text": [
        "\n",
        "Score: 0.0000 for 28 and 13 (Less than four matches)"
       ]
      },
      {
       "output_type": "stream",
       "stream": "stdout",
       "text": [
        "\n",
        "Score: 0.0000 for 28 and 14 (Less than four matches)"
       ]
      },
      {
       "output_type": "stream",
       "stream": "stdout",
       "text": [
        "\n",
        "Score: 0.0000 for 28 and 14 (Less than four matches)"
       ]
      },
      {
       "output_type": "stream",
       "stream": "stdout",
       "text": [
        "\n",
        "Score: 0.0227 for 28 and 27"
       ]
      },
      {
       "output_type": "stream",
       "stream": "stdout",
       "text": [
        "\n",
        "Score: 0.0019 for 28 and 17"
       ]
      },
      {
       "output_type": "stream",
       "stream": "stdout",
       "text": [
        "\n",
        "Score: 0.0000 for 28 and 19 (Less than four matches)"
       ]
      },
      {
       "output_type": "stream",
       "stream": "stdout",
       "text": [
        "\n",
        "Score: 0.0102 for 28 and 31"
       ]
      },
      {
       "output_type": "stream",
       "stream": "stdout",
       "text": [
        "\n",
        "Score: 0.0000 for 28 and 21 (Less than four matches)"
       ]
      },
      {
       "output_type": "stream",
       "stream": "stdout",
       "text": [
        "\n",
        "Score: 0.0000 for 28 and 23 (Less than four matches)"
       ]
      },
      {
       "output_type": "stream",
       "stream": "stdout",
       "text": [
        "\n",
        "Score: 0.0425 for 28 and 25"
       ]
      },
      {
       "output_type": "stream",
       "stream": "stdout",
       "text": [
        "\n",
        "Score: 0.0000 for 28 and 23 (Less than four matches)"
       ]
      },
      {
       "output_type": "stream",
       "stream": "stdout",
       "text": [
        "\n",
        "Score: 0.0000 for 28 and 31 (Less than four matches)"
       ]
      },
      {
       "output_type": "stream",
       "stream": "stdout",
       "text": [
        "\n",
        "Score: 0.0000 for 28 and 15 (Less than four matches)"
       ]
      },
      {
       "output_type": "stream",
       "stream": "stdout",
       "text": [
        "\n",
        "Score: 0.0389 for 28 and 23"
       ]
      },
      {
       "output_type": "stream",
       "stream": "stdout",
       "text": [
        "\n",
        "Score: 0.0144 for 28 and 18"
       ]
      },
      {
       "output_type": "stream",
       "stream": "stdout",
       "text": [
        "\n",
        "Score: 0.0000 for 28 and 15 (Less than four matches)"
       ]
      },
      {
       "output_type": "stream",
       "stream": "stdout",
       "text": [
        "\n",
        "Score: 0.0132 for 28 and 16"
       ]
      },
      {
       "output_type": "stream",
       "stream": "stdout",
       "text": [
        "\n",
        "Score: 0.0275 for 28 and 23"
       ]
      },
      {
       "output_type": "stream",
       "stream": "stdout",
       "text": [
        "\n",
        "Score: 0.0288 for 28 and 23"
       ]
      },
      {
       "output_type": "stream",
       "stream": "stdout",
       "text": [
        "\n",
        "Score: 0.0055 for 28 and 32"
       ]
      },
      {
       "output_type": "stream",
       "stream": "stdout",
       "text": [
        "\n",
        "Score: 0.0221 for 28 and 15"
       ]
      },
      {
       "output_type": "stream",
       "stream": "stdout",
       "text": [
        "\n",
        "Score: 0.0000 for 28 and 24 (Less than four matches)"
       ]
      },
      {
       "output_type": "stream",
       "stream": "stdout",
       "text": [
        "\n",
        "Score: 0.0560 for 28 and 25"
       ]
      },
      {
       "output_type": "stream",
       "stream": "stdout",
       "text": [
        "\n",
        "Score: 0.0407 for 28 and 30"
       ]
      },
      {
       "output_type": "stream",
       "stream": "stdout",
       "text": [
        "\n",
        "Score: 0.0000 for 28 and 32 (Less than four matches)"
       ]
      },
      {
       "output_type": "stream",
       "stream": "stdout",
       "text": [
        "\n",
        "['../../images/testsets/Gallagher_small_unresized/28_552.jpg', '../../images/testsets/Gallagher_small_unresized/29_538.jpg']\n",
        "No descriptors found. Returning score 0\n",
        "Score: 0.0329 for 28 and 21"
       ]
      },
      {
       "output_type": "stream",
       "stream": "stdout",
       "text": [
        "\n",
        "Score: 0.0377 for 28 and 20"
       ]
      },
      {
       "output_type": "stream",
       "stream": "stdout",
       "text": [
        "\n",
        "Score: 0.0021 for 28 and 15"
       ]
      },
      {
       "output_type": "stream",
       "stream": "stdout",
       "text": [
        "\n",
        "Score: 0.0023 for 28 and 15"
       ]
      },
      {
       "output_type": "stream",
       "stream": "stdout",
       "text": [
        "\n",
        "Score: 0.0068 for 28 and 19"
       ]
      },
      {
       "output_type": "stream",
       "stream": "stdout",
       "text": [
        "\n",
        "Score: 0.0305 for 28 and 19"
       ]
      },
      {
       "output_type": "stream",
       "stream": "stdout",
       "text": [
        "\n",
        "Score: 0.0141 for 28 and 21"
       ]
      },
      {
       "output_type": "stream",
       "stream": "stdout",
       "text": [
        "\n",
        "Score: 0.0184 for 28 and 26"
       ]
      },
      {
       "output_type": "stream",
       "stream": "stdout",
       "text": [
        "\n",
        "Score: 0.0129 for 28 and 27"
       ]
      },
      {
       "output_type": "stream",
       "stream": "stdout",
       "text": [
        "\n",
        "Score: 0.0102 for 28 and 15"
       ]
      },
      {
       "output_type": "stream",
       "stream": "stdout",
       "text": [
        "\n",
        "Score: 0.0000 for 28 and 15 (Less than four matches)"
       ]
      },
      {
       "output_type": "stream",
       "stream": "stdout",
       "text": [
        "\n",
        "Score: 0.0371 for 28 and 21"
       ]
      },
      {
       "output_type": "stream",
       "stream": "stdout",
       "text": [
        "\n",
        "Score: 0.0000 for 28 and 15 (Less than four matches)"
       ]
      },
      {
       "output_type": "stream",
       "stream": "stdout",
       "text": [
        "\n",
        "Score: 0.0000 for 28 and 16 (Less than four matches)"
       ]
      },
      {
       "output_type": "stream",
       "stream": "stdout",
       "text": [
        "\n",
        "Score: 0.0000 for 28 and 17 (Less than four matches)"
       ]
      },
      {
       "output_type": "stream",
       "stream": "stdout",
       "text": [
        "\n",
        "['../../images/testsets/Gallagher_small_unresized/28_552.jpg', '../../images/testsets/Gallagher_small_unresized/28_537.jpg']\n",
        "No descriptors found. Returning score 0\n",
        "Score: 0.0116 for 28 and 27"
       ]
      },
      {
       "output_type": "stream",
       "stream": "stdout",
       "text": [
        "\n",
        "Score: 0.0000 for 28 and 13 (Less than four matches)"
       ]
      },
      {
       "output_type": "stream",
       "stream": "stdout",
       "text": [
        "\n",
        "Score: 0.0153 for 28 and 23"
       ]
      },
      {
       "output_type": "stream",
       "stream": "stdout",
       "text": [
        "\n",
        "Score: 0.0000 for 13 and 14 (Less than four matches)"
       ]
      },
      {
       "output_type": "stream",
       "stream": "stdout",
       "text": [
        "\n",
        "Score: 0.0000 for 13 and 14 (Less than four matches)"
       ]
      },
      {
       "output_type": "stream",
       "stream": "stdout",
       "text": [
        "\n",
        "Score: 0.0000 for 13 and 27 (Less than four matches)"
       ]
      },
      {
       "output_type": "stream",
       "stream": "stdout",
       "text": [
        "\n",
        "Score: 0.0000 for 13 and 17 (Less than four matches)"
       ]
      },
      {
       "output_type": "stream",
       "stream": "stdout",
       "text": [
        "\n",
        "Score: 0.0000 for 13 and 19 (Less than four matches)"
       ]
      },
      {
       "output_type": "stream",
       "stream": "stdout",
       "text": [
        "\n",
        "Score: 0.0000 for 13 and 31 (Less than four matches)"
       ]
      },
      {
       "output_type": "stream",
       "stream": "stdout",
       "text": [
        "\n",
        "Score: 0.0530 for 13 and 21"
       ]
      },
      {
       "output_type": "stream",
       "stream": "stdout",
       "text": [
        "\n",
        "Score: 0.0000 for 13 and 23 (Less than four matches)"
       ]
      },
      {
       "output_type": "stream",
       "stream": "stdout",
       "text": [
        "\n",
        "Score: 0.0000 for 13 and 25 (Less than four matches)"
       ]
      },
      {
       "output_type": "stream",
       "stream": "stdout",
       "text": [
        "\n",
        "Score: 0.0000 for 13 and 23 (Less than four matches)"
       ]
      },
      {
       "output_type": "stream",
       "stream": "stdout",
       "text": [
        "\n",
        "Score: 0.0000 for 13 and 31 (Less than four matches)"
       ]
      },
      {
       "output_type": "stream",
       "stream": "stdout",
       "text": [
        "\n",
        "Score: 0.0000 for 13 and 15 (Less than four matches)"
       ]
      },
      {
       "output_type": "stream",
       "stream": "stdout",
       "text": [
        "\n",
        "Score: 0.0000 for 13 and 23 (Less than four matches)"
       ]
      },
      {
       "output_type": "stream",
       "stream": "stdout",
       "text": [
        "\n",
        "Score: 0.0000 for 13 and 18 (Less than four matches)"
       ]
      },
      {
       "output_type": "stream",
       "stream": "stdout",
       "text": [
        "\n",
        "Score: 0.0000 for 13 and 15 (Less than four matches)"
       ]
      },
      {
       "output_type": "stream",
       "stream": "stdout",
       "text": [
        "\n",
        "Score: 0.0000 for 13 and 16 (Less than four matches)"
       ]
      },
      {
       "output_type": "stream",
       "stream": "stdout",
       "text": [
        "\n",
        "Score: 0.0000 for 13 and 23 (Less than four matches)"
       ]
      },
      {
       "output_type": "stream",
       "stream": "stdout",
       "text": [
        "\n",
        "Score: 0.0000 for 13 and 23 (Less than four matches)"
       ]
      },
      {
       "output_type": "stream",
       "stream": "stdout",
       "text": [
        "\n",
        "Score: 0.0000 for 13 and 32 (Less than four matches)"
       ]
      },
      {
       "output_type": "stream",
       "stream": "stdout",
       "text": [
        "\n",
        "Score: 0.0286 for 13 and 15"
       ]
      },
      {
       "output_type": "stream",
       "stream": "stdout",
       "text": [
        "\n",
        "Score: 0.0000 for 13 and 24 (Less than four matches)"
       ]
      },
      {
       "output_type": "stream",
       "stream": "stdout",
       "text": [
        "\n",
        "Score: 0.0000 for 13 and 25 (Less than four matches)"
       ]
      },
      {
       "output_type": "stream",
       "stream": "stdout",
       "text": [
        "\n",
        "Score: 0.0000 for 13 and 30 (Less than four matches)"
       ]
      },
      {
       "output_type": "stream",
       "stream": "stdout",
       "text": [
        "\n",
        "Score: 0.0457 for 13 and 32"
       ]
      },
      {
       "output_type": "stream",
       "stream": "stdout",
       "text": [
        "\n",
        "['../../images/testsets/Gallagher_small_unresized/13_145.jpg', '../../images/testsets/Gallagher_small_unresized/29_538.jpg']\n",
        "No descriptors found. Returning score 0\n",
        "Score: 0.0000 for 13 and 21 (Less than four matches)"
       ]
      },
      {
       "output_type": "stream",
       "stream": "stdout",
       "text": [
        "\n",
        "Score: 0.0000 for 13 and 20 (Less than four matches)"
       ]
      },
      {
       "output_type": "stream",
       "stream": "stdout",
       "text": [
        "\n",
        "Score: 0.0000 for 13 and 15 (Less than four matches)"
       ]
      },
      {
       "output_type": "stream",
       "stream": "stdout",
       "text": [
        "\n",
        "Score: 0.0000 for 13 and 15 (Less than four matches)"
       ]
      },
      {
       "output_type": "stream",
       "stream": "stdout",
       "text": [
        "\n",
        "Score: 0.0014 for 13 and 19"
       ]
      },
      {
       "output_type": "stream",
       "stream": "stdout",
       "text": [
        "\n",
        "Score: 0.0000 for 13 and 19 (Less than four matches)"
       ]
      },
      {
       "output_type": "stream",
       "stream": "stdout",
       "text": [
        "\n",
        "Score: 0.0000 for 13 and 21 (Less than four matches)"
       ]
      },
      {
       "output_type": "stream",
       "stream": "stdout",
       "text": [
        "\n",
        "Score: 0.0000 for 13 and 26 (Less than four matches)"
       ]
      },
      {
       "output_type": "stream",
       "stream": "stdout",
       "text": [
        "\n",
        "Score: 0.0000 for 13 and 27 (Less than four matches)"
       ]
      },
      {
       "output_type": "stream",
       "stream": "stdout",
       "text": [
        "\n",
        "Score: 0.0000 for 13 and 15 (Less than four matches)"
       ]
      },
      {
       "output_type": "stream",
       "stream": "stdout",
       "text": [
        "\n",
        "Score: 0.0000 for 13 and 15 (Less than four matches)"
       ]
      },
      {
       "output_type": "stream",
       "stream": "stdout",
       "text": [
        "\n",
        "Score: 0.0000 for 13 and 21 (Less than four matches)"
       ]
      },
      {
       "output_type": "stream",
       "stream": "stdout",
       "text": [
        "\n",
        "Score: 0.0000 for 13 and 15 (Less than four matches)"
       ]
      },
      {
       "output_type": "stream",
       "stream": "stdout",
       "text": [
        "\n",
        "Score: 0.0534 for 13 and 16"
       ]
      },
      {
       "output_type": "stream",
       "stream": "stdout",
       "text": [
        "\n",
        "Score: 0.0000 for 13 and 17 (Less than four matches)"
       ]
      },
      {
       "output_type": "stream",
       "stream": "stdout",
       "text": [
        "\n",
        "['../../images/testsets/Gallagher_small_unresized/13_145.jpg', '../../images/testsets/Gallagher_small_unresized/28_537.jpg']\n",
        "No descriptors found. Returning score 0\n",
        "Score: 0.0000 for 13 and 27 (Less than four matches)"
       ]
      },
      {
       "output_type": "stream",
       "stream": "stdout",
       "text": [
        "\n",
        "Score: 0.0000 for 13 and 13 (Less than four matches)"
       ]
      },
      {
       "output_type": "stream",
       "stream": "stdout",
       "text": [
        "\n",
        "Score: 0.0143 for 13 and 23"
       ]
      },
      {
       "output_type": "stream",
       "stream": "stdout",
       "text": [
        "\n",
        "Score: 0.0718 for 14 and 14"
       ]
      },
      {
       "output_type": "stream",
       "stream": "stdout",
       "text": [
        "\n",
        "Score: 0.0000 for 14 and 27 (Less than four matches)"
       ]
      },
      {
       "output_type": "stream",
       "stream": "stdout",
       "text": [
        "\n",
        "Score: 0.0000 for 14 and 17 (Less than four matches)"
       ]
      },
      {
       "output_type": "stream",
       "stream": "stdout",
       "text": [
        "\n",
        "Score: 0.0000 for 14 and 19 (Less than four matches)"
       ]
      },
      {
       "output_type": "stream",
       "stream": "stdout",
       "text": [
        "\n",
        "Score: 0.0000 for 14 and 31 (Less than four matches)"
       ]
      },
      {
       "output_type": "stream",
       "stream": "stdout",
       "text": [
        "\n",
        "Score: 0.0319 for 14 and 21"
       ]
      },
      {
       "output_type": "stream",
       "stream": "stdout",
       "text": [
        "\n",
        "Score: 0.0555 for 14 and 23"
       ]
      },
      {
       "output_type": "stream",
       "stream": "stdout",
       "text": [
        "\n",
        "Score: 0.0522 for 14 and 25"
       ]
      },
      {
       "output_type": "stream",
       "stream": "stdout",
       "text": [
        "\n",
        "Score: 0.0000 for 14 and 23 (Less than four matches)"
       ]
      },
      {
       "output_type": "stream",
       "stream": "stdout",
       "text": [
        "\n",
        "Score: 0.0000 for 14 and 31 (Less than four matches)"
       ]
      },
      {
       "output_type": "stream",
       "stream": "stdout",
       "text": [
        "\n",
        "Score: 0.0000 for 14 and 15 (Less than four matches)"
       ]
      },
      {
       "output_type": "stream",
       "stream": "stdout",
       "text": [
        "\n",
        "Score: 0.0000 for 14 and 23 (Less than four matches)"
       ]
      },
      {
       "output_type": "stream",
       "stream": "stdout",
       "text": [
        "\n",
        "Score: 0.0000 for 14 and 18 (Less than four matches)"
       ]
      },
      {
       "output_type": "stream",
       "stream": "stdout",
       "text": [
        "\n",
        "Score: 0.0714 for 14 and 15"
       ]
      },
      {
       "output_type": "stream",
       "stream": "stdout",
       "text": [
        "\n",
        "Score: 0.0000 for 14 and 16 (Less than four matches)"
       ]
      },
      {
       "output_type": "stream",
       "stream": "stdout",
       "text": [
        "\n",
        "Score: 0.0000 for 14 and 23 (Less than four matches)"
       ]
      },
      {
       "output_type": "stream",
       "stream": "stdout",
       "text": [
        "\n",
        "Score: 0.0000 for 14 and 23 (Less than four matches)"
       ]
      },
      {
       "output_type": "stream",
       "stream": "stdout",
       "text": [
        "\n",
        "Score: 0.0000 for 14 and 32 (Less than four matches)"
       ]
      },
      {
       "output_type": "stream",
       "stream": "stdout",
       "text": [
        "\n",
        "Score: 0.0000 for 14 and 15 (Less than four matches)"
       ]
      },
      {
       "output_type": "stream",
       "stream": "stdout",
       "text": [
        "\n",
        "Score: 0.0000 for 14 and 24 (Less than four matches)"
       ]
      },
      {
       "output_type": "stream",
       "stream": "stdout",
       "text": [
        "\n",
        "Score: 0.0000 for 14 and 25 (Less than four matches)"
       ]
      },
      {
       "output_type": "stream",
       "stream": "stdout",
       "text": [
        "\n",
        "Score: 0.0221 for 14 and 30"
       ]
      },
      {
       "output_type": "stream",
       "stream": "stdout",
       "text": [
        "\n",
        "Score: 0.0000 for 14 and 32 (Less than four matches)"
       ]
      },
      {
       "output_type": "stream",
       "stream": "stdout",
       "text": [
        "\n",
        "['../../images/testsets/Gallagher_small_unresized/14_207.jpg', '../../images/testsets/Gallagher_small_unresized/29_538.jpg']\n",
        "No descriptors found. Returning score 0\n",
        "Score: 0.0122 for 14 and 21"
       ]
      },
      {
       "output_type": "stream",
       "stream": "stdout",
       "text": [
        "\n",
        "Score: 0.0000 for 14 and 20 (Less than four matches)"
       ]
      },
      {
       "output_type": "stream",
       "stream": "stdout",
       "text": [
        "\n",
        "Score: 0.0000 for 14 and 15 (Less than four matches)"
       ]
      },
      {
       "output_type": "stream",
       "stream": "stdout",
       "text": [
        "\n",
        "Score: 0.0381 for 14 and 15"
       ]
      },
      {
       "output_type": "stream",
       "stream": "stdout",
       "text": [
        "\n",
        "Score: 0.0000 for 14 and 19 (Less than four matches)"
       ]
      },
      {
       "output_type": "stream",
       "stream": "stdout",
       "text": [
        "\n",
        "Score: 0.0000 for 14 and 19 (Less than four matches)"
       ]
      },
      {
       "output_type": "stream",
       "stream": "stdout",
       "text": [
        "\n",
        "Score: 0.0000 for 14 and 21 (Less than four matches)"
       ]
      },
      {
       "output_type": "stream",
       "stream": "stdout",
       "text": [
        "\n",
        "Score: 0.0000 for 14 and 26 (Less than four matches)"
       ]
      },
      {
       "output_type": "stream",
       "stream": "stdout",
       "text": [
        "\n",
        "Score: 0.0000 for 14 and 27 (Less than four matches)"
       ]
      },
      {
       "output_type": "stream",
       "stream": "stdout",
       "text": [
        "\n",
        "Score: 0.0317 for 14 and 15"
       ]
      },
      {
       "output_type": "stream",
       "stream": "stdout",
       "text": [
        "\n",
        "Score: 0.0000 for 14 and 15 (Less than four matches)"
       ]
      },
      {
       "output_type": "stream",
       "stream": "stdout",
       "text": [
        "\n",
        "Score: 0.0000 for 14 and 21 (Less than four matches)"
       ]
      },
      {
       "output_type": "stream",
       "stream": "stdout",
       "text": [
        "\n",
        "Score: 0.0000 for 14 and 15 (Less than four matches)"
       ]
      },
      {
       "output_type": "stream",
       "stream": "stdout",
       "text": [
        "\n",
        "Score: 0.0000 for 14 and 16 (Less than four matches)"
       ]
      },
      {
       "output_type": "stream",
       "stream": "stdout",
       "text": [
        "\n",
        "Score: 0.0000 for 14 and 17 (Less than four matches)"
       ]
      },
      {
       "output_type": "stream",
       "stream": "stdout",
       "text": [
        "\n",
        "['../../images/testsets/Gallagher_small_unresized/14_207.jpg', '../../images/testsets/Gallagher_small_unresized/28_537.jpg']\n",
        "No descriptors found. Returning score 0\n",
        "Score: 0.0000 for 14 and 27 (Less than four matches)"
       ]
      },
      {
       "output_type": "stream",
       "stream": "stdout",
       "text": [
        "\n",
        "Score: 0.0000 for 14 and 13 (Less than four matches)"
       ]
      },
      {
       "output_type": "stream",
       "stream": "stdout",
       "text": [
        "\n",
        "Score: 0.0000 for 14 and 23 (Less than four matches)"
       ]
      },
      {
       "output_type": "stream",
       "stream": "stdout",
       "text": [
        "\n",
        "Score: 0.0000 for 14 and 27 (Less than four matches)"
       ]
      },
      {
       "output_type": "stream",
       "stream": "stdout",
       "text": [
        "\n",
        "Score: 0.0000 for 14 and 17 (Less than four matches)"
       ]
      },
      {
       "output_type": "stream",
       "stream": "stdout",
       "text": [
        "\n",
        "Score: 0.0000 for 14 and 19 (Less than four matches)"
       ]
      },
      {
       "output_type": "stream",
       "stream": "stdout",
       "text": [
        "\n",
        "Score: 0.0000 for 14 and 31 (Less than four matches)"
       ]
      },
      {
       "output_type": "stream",
       "stream": "stdout",
       "text": [
        "\n",
        "Score: 0.0000 for 14 and 21 (Less than four matches)"
       ]
      },
      {
       "output_type": "stream",
       "stream": "stdout",
       "text": [
        "\n",
        "Score: 0.0000 for 14 and 23 (Less than four matches)"
       ]
      },
      {
       "output_type": "stream",
       "stream": "stdout",
       "text": [
        "\n",
        "Score: 0.0365 for 14 and 25"
       ]
      },
      {
       "output_type": "stream",
       "stream": "stdout",
       "text": [
        "\n",
        "Score: 0.0000 for 14 and 23 (Less than four matches)"
       ]
      },
      {
       "output_type": "stream",
       "stream": "stdout",
       "text": [
        "\n",
        "Score: 0.0349 for 14 and 31"
       ]
      },
      {
       "output_type": "stream",
       "stream": "stdout",
       "text": [
        "\n",
        "Score: 0.0000 for 14 and 15 (Less than four matches)"
       ]
      },
      {
       "output_type": "stream",
       "stream": "stdout",
       "text": [
        "\n",
        "Score: 0.0000 for 14 and 23 (Less than four matches)"
       ]
      },
      {
       "output_type": "stream",
       "stream": "stdout",
       "text": [
        "\n",
        "Score: 0.0000 for 14 and 18 (Less than four matches)"
       ]
      },
      {
       "output_type": "stream",
       "stream": "stdout",
       "text": [
        "\n",
        "Score: 0.0614 for 14 and 15"
       ]
      },
      {
       "output_type": "stream",
       "stream": "stdout",
       "text": [
        "\n",
        "Score: 0.0000 for 14 and 16 (Less than four matches)"
       ]
      },
      {
       "output_type": "stream",
       "stream": "stdout",
       "text": [
        "\n",
        "Score: 0.0000 for 14 and 23 (Less than four matches)"
       ]
      },
      {
       "output_type": "stream",
       "stream": "stdout",
       "text": [
        "\n",
        "Score: 0.0000 for 14 and 23 (Less than four matches)"
       ]
      },
      {
       "output_type": "stream",
       "stream": "stdout",
       "text": [
        "\n",
        "Score: 0.0000 for 14 and 32 (Less than four matches)"
       ]
      },
      {
       "output_type": "stream",
       "stream": "stdout",
       "text": [
        "\n",
        "Score: 0.0311 for 14 and 15"
       ]
      },
      {
       "output_type": "stream",
       "stream": "stdout",
       "text": [
        "\n",
        "Score: 0.0000 for 14 and 24 (Less than four matches)"
       ]
      },
      {
       "output_type": "stream",
       "stream": "stdout",
       "text": [
        "\n",
        "Score: 0.0000 for 14 and 25 (Less than four matches)"
       ]
      },
      {
       "output_type": "stream",
       "stream": "stdout",
       "text": [
        "\n",
        "Score: 0.0000 for 14 and 30 (Less than four matches)"
       ]
      },
      {
       "output_type": "stream",
       "stream": "stdout",
       "text": [
        "\n",
        "Score: 0.0000 for 14 and 32 (Less than four matches)"
       ]
      },
      {
       "output_type": "stream",
       "stream": "stdout",
       "text": [
        "\n",
        "['../../images/testsets/Gallagher_small_unresized/14_150.jpg', '../../images/testsets/Gallagher_small_unresized/29_538.jpg']\n",
        "No descriptors found. Returning score 0\n",
        "Score: 0.0392 for 14 and 21"
       ]
      },
      {
       "output_type": "stream",
       "stream": "stdout",
       "text": [
        "\n",
        "Score: 0.0000 for 14 and 20 (Less than four matches)"
       ]
      },
      {
       "output_type": "stream",
       "stream": "stdout",
       "text": [
        "\n",
        "Score: 0.0318 for 14 and 15"
       ]
      },
      {
       "output_type": "stream",
       "stream": "stdout",
       "text": [
        "\n",
        "Score: 0.0000 for 14 and 15 (Less than four matches)"
       ]
      },
      {
       "output_type": "stream",
       "stream": "stdout",
       "text": [
        "\n",
        "Score: 0.0000 for 14 and 19 (Less than four matches)"
       ]
      },
      {
       "output_type": "stream",
       "stream": "stdout",
       "text": [
        "\n",
        "Score: 0.0000 for 14 and 19 (Less than four matches)"
       ]
      },
      {
       "output_type": "stream",
       "stream": "stdout",
       "text": [
        "\n",
        "Score: 0.0262 for 14 and 21"
       ]
      },
      {
       "output_type": "stream",
       "stream": "stdout",
       "text": [
        "\n",
        "Score: 0.0000 for 14 and 26 (Less than four matches)"
       ]
      },
      {
       "output_type": "stream",
       "stream": "stdout",
       "text": [
        "\n",
        "Score: 0.0000 for 14 and 27 (Less than four matches)"
       ]
      },
      {
       "output_type": "stream",
       "stream": "stdout",
       "text": [
        "\n",
        "Score: 0.0000 for 14 and 15 (Less than four matches)"
       ]
      },
      {
       "output_type": "stream",
       "stream": "stdout",
       "text": [
        "\n",
        "Score: 0.0000 for 14 and 15 (Less than four matches)"
       ]
      },
      {
       "output_type": "stream",
       "stream": "stdout",
       "text": [
        "\n",
        "Score: 0.0000 for 14 and 21 (Less than four matches)"
       ]
      },
      {
       "output_type": "stream",
       "stream": "stdout",
       "text": [
        "\n",
        "Score: 0.0000 for 14 and 15 (Less than four matches)"
       ]
      },
      {
       "output_type": "stream",
       "stream": "stdout",
       "text": [
        "\n",
        "Score: 0.0000 for 14 and 16 (Less than four matches)"
       ]
      },
      {
       "output_type": "stream",
       "stream": "stdout",
       "text": [
        "\n",
        "Score: 0.0000 for 14 and 17 (Less than four matches)"
       ]
      },
      {
       "output_type": "stream",
       "stream": "stdout",
       "text": [
        "\n",
        "['../../images/testsets/Gallagher_small_unresized/14_150.jpg', '../../images/testsets/Gallagher_small_unresized/28_537.jpg']\n",
        "No descriptors found. Returning score 0\n",
        "Score: 0.0000 for 14 and 27 (Less than four matches)"
       ]
      },
      {
       "output_type": "stream",
       "stream": "stdout",
       "text": [
        "\n",
        "Score: 0.0000 for 14 and 13 (Less than four matches)"
       ]
      },
      {
       "output_type": "stream",
       "stream": "stdout",
       "text": [
        "\n",
        "Score: 0.0000 for 14 and 23 (Less than four matches)"
       ]
      },
      {
       "output_type": "stream",
       "stream": "stdout",
       "text": [
        "\n",
        "Score: 0.0000 for 27 and 17 (Less than four matches)"
       ]
      },
      {
       "output_type": "stream",
       "stream": "stdout",
       "text": [
        "\n",
        "Score: 0.0000 for 27 and 19 (Less than four matches)"
       ]
      },
      {
       "output_type": "stream",
       "stream": "stdout",
       "text": [
        "\n",
        "Score: 0.0228 for 27 and 31"
       ]
      },
      {
       "output_type": "stream",
       "stream": "stdout",
       "text": [
        "\n",
        "Score: 0.0469 for 27 and 21"
       ]
      },
      {
       "output_type": "stream",
       "stream": "stdout",
       "text": [
        "\n",
        "Score: 0.0364 for 27 and 23"
       ]
      },
      {
       "output_type": "stream",
       "stream": "stdout",
       "text": [
        "\n",
        "Score: 0.0293 for 27 and 25"
       ]
      },
      {
       "output_type": "stream",
       "stream": "stdout",
       "text": [
        "\n",
        "Score: 0.0000 for 27 and 23 (Less than four matches)"
       ]
      },
      {
       "output_type": "stream",
       "stream": "stdout",
       "text": [
        "\n",
        "Score: 0.0000 for 27 and 31 (Less than four matches)"
       ]
      },
      {
       "output_type": "stream",
       "stream": "stdout",
       "text": [
        "\n",
        "Score: 0.0553 for 27 and 15"
       ]
      },
      {
       "output_type": "stream",
       "stream": "stdout",
       "text": [
        "\n",
        "Score: 0.0000 for 27 and 23 (Less than four matches)"
       ]
      },
      {
       "output_type": "stream",
       "stream": "stdout",
       "text": [
        "\n",
        "Score: 0.0000 for 27 and 18 (Less than four matches)"
       ]
      },
      {
       "output_type": "stream",
       "stream": "stdout",
       "text": [
        "\n",
        "Score: 0.0226 for 27 and 15"
       ]
      },
      {
       "output_type": "stream",
       "stream": "stdout",
       "text": [
        "\n",
        "Score: 0.0206 for 27 and 16"
       ]
      },
      {
       "output_type": "stream",
       "stream": "stdout",
       "text": [
        "\n",
        "Score: 0.0000 for 27 and 23 (Less than four matches)"
       ]
      },
      {
       "output_type": "stream",
       "stream": "stdout",
       "text": [
        "\n",
        "Score: 0.0000 for 27 and 23 (Less than four matches)"
       ]
      },
      {
       "output_type": "stream",
       "stream": "stdout",
       "text": [
        "\n",
        "Score: 0.0000 for 27 and 32 (Less than four matches)"
       ]
      },
      {
       "output_type": "stream",
       "stream": "stdout",
       "text": [
        "\n",
        "Score: 0.0277 for 27 and 15"
       ]
      },
      {
       "output_type": "stream",
       "stream": "stdout",
       "text": [
        "\n",
        "Score: 0.0184 for 27 and 24"
       ]
      },
      {
       "output_type": "stream",
       "stream": "stdout",
       "text": [
        "\n",
        "Score: 0.0504 for 27 and 25"
       ]
      },
      {
       "output_type": "stream",
       "stream": "stdout",
       "text": [
        "\n",
        "Score: 0.0000 for 27 and 30 (Less than four matches)"
       ]
      },
      {
       "output_type": "stream",
       "stream": "stdout",
       "text": [
        "\n",
        "Score: 0.0490 for 27 and 32"
       ]
      },
      {
       "output_type": "stream",
       "stream": "stdout",
       "text": [
        "\n",
        "['../../images/testsets/Gallagher_small_unresized/27_566.jpg', '../../images/testsets/Gallagher_small_unresized/29_538.jpg']\n",
        "No descriptors found. Returning score 0\n",
        "Score: 0.0197 for 27 and 21"
       ]
      },
      {
       "output_type": "stream",
       "stream": "stdout",
       "text": [
        "\n",
        "Score: 0.0284 for 27 and 20"
       ]
      },
      {
       "output_type": "stream",
       "stream": "stdout",
       "text": [
        "\n",
        "Score: 0.0176 for 27 and 15"
       ]
      },
      {
       "output_type": "stream",
       "stream": "stdout",
       "text": [
        "\n",
        "Score: 0.0572 for 27 and 15"
       ]
      },
      {
       "output_type": "stream",
       "stream": "stdout",
       "text": [
        "\n",
        "Score: 0.0199 for 27 and 19"
       ]
      },
      {
       "output_type": "stream",
       "stream": "stdout",
       "text": [
        "\n",
        "Score: 0.0000 for 27 and 19 (Less than four matches)"
       ]
      },
      {
       "output_type": "stream",
       "stream": "stdout",
       "text": [
        "\n",
        "Score: 0.0000 for 27 and 21 (Less than four matches)"
       ]
      },
      {
       "output_type": "stream",
       "stream": "stdout",
       "text": [
        "\n",
        "Score: 0.0156 for 27 and 26"
       ]
      },
      {
       "output_type": "stream",
       "stream": "stdout",
       "text": [
        "\n",
        "Score: 0.0226 for 27 and 27"
       ]
      },
      {
       "output_type": "stream",
       "stream": "stdout",
       "text": [
        "\n",
        "Score: 0.0281 for 27 and 15"
       ]
      },
      {
       "output_type": "stream",
       "stream": "stdout",
       "text": [
        "\n",
        "Score: 0.0381 for 27 and 15"
       ]
      },
      {
       "output_type": "stream",
       "stream": "stdout",
       "text": [
        "\n",
        "Score: 0.0443 for 27 and 21"
       ]
      },
      {
       "output_type": "stream",
       "stream": "stdout",
       "text": [
        "\n",
        "Score: 0.0000 for 27 and 15 (Less than four matches)"
       ]
      },
      {
       "output_type": "stream",
       "stream": "stdout",
       "text": [
        "\n",
        "Score: 0.0000 for 27 and 16 (Less than four matches)"
       ]
      },
      {
       "output_type": "stream",
       "stream": "stdout",
       "text": [
        "\n",
        "Score: 0.0000 for 27 and 17 (Less than four matches)"
       ]
      },
      {
       "output_type": "stream",
       "stream": "stdout",
       "text": [
        "\n",
        "['../../images/testsets/Gallagher_small_unresized/27_566.jpg', '../../images/testsets/Gallagher_small_unresized/28_537.jpg']\n",
        "No descriptors found. Returning score 0\n",
        "Score: 0.0530 for 27 and 27"
       ]
      },
      {
       "output_type": "stream",
       "stream": "stdout",
       "text": [
        "\n",
        "Score: 0.0441 for 27 and 13"
       ]
      },
      {
       "output_type": "stream",
       "stream": "stdout",
       "text": [
        "\n",
        "Score: 0.0344 for 27 and 23"
       ]
      },
      {
       "output_type": "stream",
       "stream": "stdout",
       "text": [
        "\n",
        "Score: 0.0000 for 17 and 19 (Less than four matches)"
       ]
      },
      {
       "output_type": "stream",
       "stream": "stdout",
       "text": [
        "\n",
        "Score: 0.0000 for 17 and 31 (Less than four matches)"
       ]
      },
      {
       "output_type": "stream",
       "stream": "stdout",
       "text": [
        "\n",
        "Score: 0.0188 for 17 and 21"
       ]
      },
      {
       "output_type": "stream",
       "stream": "stdout",
       "text": [
        "\n",
        "Score: 0.0116 for 17 and 23"
       ]
      },
      {
       "output_type": "stream",
       "stream": "stdout",
       "text": [
        "\n",
        "Score: 0.0295 for 17 and 25"
       ]
      },
      {
       "output_type": "stream",
       "stream": "stdout",
       "text": [
        "\n",
        "Score: 0.0000 for 17 and 23 (Less than four matches)"
       ]
      },
      {
       "output_type": "stream",
       "stream": "stdout",
       "text": [
        "\n",
        "Score: 0.0000 for 17 and 31 (Less than four matches)"
       ]
      },
      {
       "output_type": "stream",
       "stream": "stdout",
       "text": [
        "\n",
        "Score: 0.0000 for 17 and 15 (Less than four matches)"
       ]
      },
      {
       "output_type": "stream",
       "stream": "stdout",
       "text": [
        "\n",
        "Score: 0.0233 for 17 and 23"
       ]
      },
      {
       "output_type": "stream",
       "stream": "stdout",
       "text": [
        "\n",
        "Score: 0.0000 for 17 and 18 (Less than four matches)"
       ]
      },
      {
       "output_type": "stream",
       "stream": "stdout",
       "text": [
        "\n",
        "Score: 0.0000 for 17 and 15 (Less than four matches)"
       ]
      },
      {
       "output_type": "stream",
       "stream": "stdout",
       "text": [
        "\n",
        "Score: 0.0161 for 17 and 16"
       ]
      },
      {
       "output_type": "stream",
       "stream": "stdout",
       "text": [
        "\n",
        "Score: 0.0000 for 17 and 23 (Less than four matches)"
       ]
      },
      {
       "output_type": "stream",
       "stream": "stdout",
       "text": [
        "\n",
        "Score: 0.0000 for 17 and 23 (Less than four matches)"
       ]
      },
      {
       "output_type": "stream",
       "stream": "stdout",
       "text": [
        "\n",
        "Score: 0.0000 for 17 and 32 (Less than four matches)"
       ]
      },
      {
       "output_type": "stream",
       "stream": "stdout",
       "text": [
        "\n",
        "Score: 0.0117 for 17 and 15"
       ]
      },
      {
       "output_type": "stream",
       "stream": "stdout",
       "text": [
        "\n",
        "Score: 0.0208 for 17 and 24"
       ]
      },
      {
       "output_type": "stream",
       "stream": "stdout",
       "text": [
        "\n",
        "Score: 0.0177 for 17 and 25"
       ]
      },
      {
       "output_type": "stream",
       "stream": "stdout",
       "text": [
        "\n",
        "Score: 0.0275 for 17 and 30"
       ]
      },
      {
       "output_type": "stream",
       "stream": "stdout",
       "text": [
        "\n",
        "Score: 0.0000 for 17 and 32 (Less than four matches)"
       ]
      },
      {
       "output_type": "stream",
       "stream": "stdout",
       "text": [
        "\n",
        "['../../images/testsets/Gallagher_small_unresized/17_183.jpg', '../../images/testsets/Gallagher_small_unresized/29_538.jpg']\n",
        "No descriptors found. Returning score 0\n",
        "Score: 0.0298 for 17 and 21"
       ]
      },
      {
       "output_type": "stream",
       "stream": "stdout",
       "text": [
        "\n",
        "Score: 0.0390 for 17 and 20"
       ]
      },
      {
       "output_type": "stream",
       "stream": "stdout",
       "text": [
        "\n",
        "Score: 0.0126 for 17 and 15"
       ]
      },
      {
       "output_type": "stream",
       "stream": "stdout",
       "text": [
        "\n",
        "Score: 0.0000 for 17 and 15 (Less than four matches)"
       ]
      },
      {
       "output_type": "stream",
       "stream": "stdout",
       "text": [
        "\n",
        "Score: 0.0302 for 17 and 19"
       ]
      },
      {
       "output_type": "stream",
       "stream": "stdout",
       "text": [
        "\n",
        "Score: 0.0000 for 17 and 19 (Less than four matches)"
       ]
      },
      {
       "output_type": "stream",
       "stream": "stdout",
       "text": [
        "\n",
        "Score: 0.0115 for 17 and 21"
       ]
      },
      {
       "output_type": "stream",
       "stream": "stdout",
       "text": [
        "\n",
        "Score: 0.0070 for 17 and 26"
       ]
      },
      {
       "output_type": "stream",
       "stream": "stdout",
       "text": [
        "\n",
        "Score: 0.0209 for 17 and 27"
       ]
      },
      {
       "output_type": "stream",
       "stream": "stdout",
       "text": [
        "\n",
        "Score: 0.0069 for 17 and 15"
       ]
      },
      {
       "output_type": "stream",
       "stream": "stdout",
       "text": [
        "\n",
        "Score: 0.0094 for 17 and 15"
       ]
      },
      {
       "output_type": "stream",
       "stream": "stdout",
       "text": [
        "\n",
        "Score: 0.0000 for 17 and 21 (Less than four matches)"
       ]
      },
      {
       "output_type": "stream",
       "stream": "stdout",
       "text": [
        "\n",
        "Score: 0.0000 for 17 and 15 (Less than four matches)"
       ]
      },
      {
       "output_type": "stream",
       "stream": "stdout",
       "text": [
        "\n",
        "Score: 0.0101 for 17 and 16"
       ]
      },
      {
       "output_type": "stream",
       "stream": "stdout",
       "text": [
        "\n",
        "Score: 0.0000 for 17 and 17 (Less than four matches)"
       ]
      },
      {
       "output_type": "stream",
       "stream": "stdout",
       "text": [
        "\n",
        "['../../images/testsets/Gallagher_small_unresized/17_183.jpg', '../../images/testsets/Gallagher_small_unresized/28_537.jpg']\n",
        "No descriptors found. Returning score 0\n",
        "Score: 0.0000 for 17 and 27 (Less than four matches)"
       ]
      },
      {
       "output_type": "stream",
       "stream": "stdout",
       "text": [
        "\n",
        "Score: 0.0000 for 17 and 13 (Less than four matches)"
       ]
      },
      {
       "output_type": "stream",
       "stream": "stdout",
       "text": [
        "\n",
        "Score: 0.0395 for 17 and 23"
       ]
      },
      {
       "output_type": "stream",
       "stream": "stdout",
       "text": [
        "\n",
        "Score: 0.0209 for 19 and 31"
       ]
      },
      {
       "output_type": "stream",
       "stream": "stdout",
       "text": [
        "\n",
        "Score: 0.0373 for 19 and 21"
       ]
      },
      {
       "output_type": "stream",
       "stream": "stdout",
       "text": [
        "\n",
        "Score: 0.0000 for 19 and 23 (Less than four matches)"
       ]
      },
      {
       "output_type": "stream",
       "stream": "stdout",
       "text": [
        "\n",
        "Score: 0.0000 for 19 and 25 (Less than four matches)"
       ]
      },
      {
       "output_type": "stream",
       "stream": "stdout",
       "text": [
        "\n",
        "Score: 0.0000 for 19 and 23 (Less than four matches)"
       ]
      },
      {
       "output_type": "stream",
       "stream": "stdout",
       "text": [
        "\n",
        "Score: 0.0000 for 19 and 31 (Less than four matches)"
       ]
      },
      {
       "output_type": "stream",
       "stream": "stdout",
       "text": [
        "\n",
        "Score: 0.0000 for 19 and 15 (Less than four matches)"
       ]
      },
      {
       "output_type": "stream",
       "stream": "stdout",
       "text": [
        "\n",
        "Score: 0.0000 for 19 and 23 (Less than four matches)"
       ]
      },
      {
       "output_type": "stream",
       "stream": "stdout",
       "text": [
        "\n",
        "Score: 0.0000 for 19 and 18 (Less than four matches)"
       ]
      },
      {
       "output_type": "stream",
       "stream": "stdout",
       "text": [
        "\n",
        "Score: 0.0000 for 19 and 15 (Less than four matches)"
       ]
      },
      {
       "output_type": "stream",
       "stream": "stdout",
       "text": [
        "\n",
        "Score: 0.0000 for 19 and 16 (Less than four matches)"
       ]
      },
      {
       "output_type": "stream",
       "stream": "stdout",
       "text": [
        "\n",
        "Score: 0.0000 for 19 and 23 (Less than four matches)"
       ]
      },
      {
       "output_type": "stream",
       "stream": "stdout",
       "text": [
        "\n",
        "Score: 0.0000 for 19 and 23 (Less than four matches)"
       ]
      },
      {
       "output_type": "stream",
       "stream": "stdout",
       "text": [
        "\n",
        "Score: 0.0000 for 19 and 32 (Less than four matches)"
       ]
      },
      {
       "output_type": "stream",
       "stream": "stdout",
       "text": [
        "\n",
        "Score: 0.0259 for 19 and 15"
       ]
      },
      {
       "output_type": "stream",
       "stream": "stdout",
       "text": [
        "\n",
        "Score: 0.0000 for 19 and 24 (Less than four matches)"
       ]
      },
      {
       "output_type": "stream",
       "stream": "stdout",
       "text": [
        "\n",
        "Score: 0.0388 for 19 and 25"
       ]
      },
      {
       "output_type": "stream",
       "stream": "stdout",
       "text": [
        "\n",
        "Score: 0.0000 for 19 and 30 (Less than four matches)"
       ]
      },
      {
       "output_type": "stream",
       "stream": "stdout",
       "text": [
        "\n",
        "Score: 0.0525 for 19 and 32"
       ]
      },
      {
       "output_type": "stream",
       "stream": "stdout",
       "text": [
        "\n",
        "['../../images/testsets/Gallagher_small_unresized/19_187.jpg', '../../images/testsets/Gallagher_small_unresized/29_538.jpg']\n",
        "No descriptors found. Returning score 0\n",
        "Score: 0.0000 for 19 and 21 (Less than four matches)"
       ]
      },
      {
       "output_type": "stream",
       "stream": "stdout",
       "text": [
        "\n",
        "Score: 0.0000 for 19 and 20 (Less than four matches)"
       ]
      },
      {
       "output_type": "stream",
       "stream": "stdout",
       "text": [
        "\n",
        "Score: 0.0480 for 19 and 15"
       ]
      },
      {
       "output_type": "stream",
       "stream": "stdout",
       "text": [
        "\n",
        "Score: 0.0837 for 19 and 15"
       ]
      },
      {
       "output_type": "stream",
       "stream": "stdout",
       "text": [
        "\n",
        "Score: 0.0783 for 19 and 19"
       ]
      },
      {
       "output_type": "stream",
       "stream": "stdout",
       "text": [
        "\n",
        "Score: 0.0000 for 19 and 19 (Less than four matches)"
       ]
      },
      {
       "output_type": "stream",
       "stream": "stdout",
       "text": [
        "\n",
        "Score: 0.0073 for 19 and 21"
       ]
      },
      {
       "output_type": "stream",
       "stream": "stdout",
       "text": [
        "\n",
        "Score: 0.0000 for 19 and 26 (Less than four matches)"
       ]
      },
      {
       "output_type": "stream",
       "stream": "stdout",
       "text": [
        "\n",
        "Score: 0.0000 for 19 and 27 (Less than four matches)"
       ]
      },
      {
       "output_type": "stream",
       "stream": "stdout",
       "text": [
        "\n",
        "Score: 0.0000 for 19 and 15 (Less than four matches)"
       ]
      },
      {
       "output_type": "stream",
       "stream": "stdout",
       "text": [
        "\n",
        "Score: 0.0000 for 19 and 15 (Less than four matches)"
       ]
      },
      {
       "output_type": "stream",
       "stream": "stdout",
       "text": [
        "\n",
        "Score: 0.0000 for 19 and 21 (Less than four matches)"
       ]
      },
      {
       "output_type": "stream",
       "stream": "stdout",
       "text": [
        "\n",
        "Score: 0.0000 for 19 and 15 (Less than four matches)"
       ]
      },
      {
       "output_type": "stream",
       "stream": "stdout",
       "text": [
        "\n",
        "Score: 0.0000 for 19 and 16 (Less than four matches)"
       ]
      },
      {
       "output_type": "stream",
       "stream": "stdout",
       "text": [
        "\n",
        "Score: 0.0000 for 19 and 17 (Less than four matches)"
       ]
      },
      {
       "output_type": "stream",
       "stream": "stdout",
       "text": [
        "\n",
        "['../../images/testsets/Gallagher_small_unresized/19_187.jpg', '../../images/testsets/Gallagher_small_unresized/28_537.jpg']\n",
        "No descriptors found. Returning score 0\n",
        "Score: 0.0000 for 19 and 27 (Less than four matches)"
       ]
      },
      {
       "output_type": "stream",
       "stream": "stdout",
       "text": [
        "\n",
        "Score: 0.0000 for 19 and 13 (Less than four matches)"
       ]
      },
      {
       "output_type": "stream",
       "stream": "stdout",
       "text": [
        "\n",
        "Score: 0.0000 for 19 and 23 (Less than four matches)"
       ]
      },
      {
       "output_type": "stream",
       "stream": "stdout",
       "text": [
        "\n",
        "Score: 0.0177 for 31 and 21"
       ]
      },
      {
       "output_type": "stream",
       "stream": "stdout",
       "text": [
        "\n",
        "Score: 0.0269 for 31 and 23"
       ]
      },
      {
       "output_type": "stream",
       "stream": "stdout",
       "text": [
        "\n",
        "Score: 0.0000 for 31 and 25 (Less than four matches)"
       ]
      },
      {
       "output_type": "stream",
       "stream": "stdout",
       "text": [
        "\n",
        "Score: 0.0000 for 31 and 23 (Less than four matches)"
       ]
      },
      {
       "output_type": "stream",
       "stream": "stdout",
       "text": [
        "\n",
        "Score: 0.0000 for 31 and 31 (Less than four matches)"
       ]
      },
      {
       "output_type": "stream",
       "stream": "stdout",
       "text": [
        "\n",
        "Score: 0.0439 for 31 and 15"
       ]
      },
      {
       "output_type": "stream",
       "stream": "stdout",
       "text": [
        "\n",
        "Score: 0.0437 for 31 and 23"
       ]
      },
      {
       "output_type": "stream",
       "stream": "stdout",
       "text": [
        "\n",
        "Score: 0.0179 for 31 and 18"
       ]
      },
      {
       "output_type": "stream",
       "stream": "stdout",
       "text": [
        "\n",
        "Score: 0.0267 for 31 and 15"
       ]
      },
      {
       "output_type": "stream",
       "stream": "stdout",
       "text": [
        "\n",
        "Score: 0.0000 for 31 and 16 (Less than four matches)"
       ]
      },
      {
       "output_type": "stream",
       "stream": "stdout",
       "text": [
        "\n",
        "Score: 0.0254 for 31 and 23"
       ]
      },
      {
       "output_type": "stream",
       "stream": "stdout",
       "text": [
        "\n",
        "Score: 0.0396 for 31 and 23"
       ]
      },
      {
       "output_type": "stream",
       "stream": "stdout",
       "text": [
        "\n",
        "Score: 0.0000 for 31 and 32 (Less than four matches)"
       ]
      },
      {
       "output_type": "stream",
       "stream": "stdout",
       "text": [
        "\n",
        "Score: 0.0000 for 31 and 15 (Less than four matches)"
       ]
      },
      {
       "output_type": "stream",
       "stream": "stdout",
       "text": [
        "\n",
        "Score: 0.0000 for 31 and 24 (Less than four matches)"
       ]
      },
      {
       "output_type": "stream",
       "stream": "stdout",
       "text": [
        "\n",
        "Score: 0.0000 for 31 and 25 (Less than four matches)"
       ]
      },
      {
       "output_type": "stream",
       "stream": "stdout",
       "text": [
        "\n",
        "Score: 0.0192 for 31 and 30"
       ]
      },
      {
       "output_type": "stream",
       "stream": "stdout",
       "text": [
        "\n",
        "Score: 0.0127 for 31 and 32"
       ]
      },
      {
       "output_type": "stream",
       "stream": "stdout",
       "text": [
        "\n",
        "['../../images/testsets/Gallagher_small_unresized/31_580.jpg', '../../images/testsets/Gallagher_small_unresized/29_538.jpg']\n",
        "No descriptors found. Returning score 0\n",
        "Score: 0.0390 for 31 and 21"
       ]
      },
      {
       "output_type": "stream",
       "stream": "stdout",
       "text": [
        "\n",
        "Score: 0.0570 for 31 and 20"
       ]
      },
      {
       "output_type": "stream",
       "stream": "stdout",
       "text": [
        "\n",
        "Score: 0.0179 for 31 and 15"
       ]
      },
      {
       "output_type": "stream",
       "stream": "stdout",
       "text": [
        "\n",
        "Score: 0.0155 for 31 and 15"
       ]
      },
      {
       "output_type": "stream",
       "stream": "stdout",
       "text": [
        "\n",
        "Score: 0.0572 for 31 and 19"
       ]
      },
      {
       "output_type": "stream",
       "stream": "stdout",
       "text": [
        "\n",
        "Score: 0.0000 for 31 and 19 (Less than four matches)"
       ]
      },
      {
       "output_type": "stream",
       "stream": "stdout",
       "text": [
        "\n",
        "Score: 0.0355 for 31 and 21"
       ]
      },
      {
       "output_type": "stream",
       "stream": "stdout",
       "text": [
        "\n",
        "Score: 0.0000 for 31 and 26 (Less than four matches)"
       ]
      },
      {
       "output_type": "stream",
       "stream": "stdout",
       "text": [
        "\n",
        "Score: 0.0000 for 31 and 27 (Less than four matches)"
       ]
      },
      {
       "output_type": "stream",
       "stream": "stdout",
       "text": [
        "\n",
        "Score: 0.0000 for 31 and 15 (Less than four matches)"
       ]
      },
      {
       "output_type": "stream",
       "stream": "stdout",
       "text": [
        "\n",
        "Score: 0.0170 for 31 and 15"
       ]
      },
      {
       "output_type": "stream",
       "stream": "stdout",
       "text": [
        "\n",
        "Score: 0.0000 for 31 and 21 (Less than four matches)"
       ]
      },
      {
       "output_type": "stream",
       "stream": "stdout",
       "text": [
        "\n",
        "Score: 0.0000 for 31 and 15 (Less than four matches)"
       ]
      },
      {
       "output_type": "stream",
       "stream": "stdout",
       "text": [
        "\n",
        "Score: 0.0000 for 31 and 16 (Less than four matches)"
       ]
      },
      {
       "output_type": "stream",
       "stream": "stdout",
       "text": [
        "\n",
        "Score: 0.0000 for 31 and 17 (Less than four matches)"
       ]
      },
      {
       "output_type": "stream",
       "stream": "stdout",
       "text": [
        "\n",
        "['../../images/testsets/Gallagher_small_unresized/31_580.jpg', '../../images/testsets/Gallagher_small_unresized/28_537.jpg']\n",
        "No descriptors found. Returning score 0\n",
        "Score: 0.0000 for 31 and 27 (Less than four matches)"
       ]
      },
      {
       "output_type": "stream",
       "stream": "stdout",
       "text": [
        "\n",
        "Score: 0.0401 for 31 and 13"
       ]
      },
      {
       "output_type": "stream",
       "stream": "stdout",
       "text": [
        "\n",
        "Score: 0.0000 for 31 and 23 (Less than four matches)"
       ]
      },
      {
       "output_type": "stream",
       "stream": "stdout",
       "text": [
        "\n",
        "Score: 0.0106 for 21 and 23"
       ]
      },
      {
       "output_type": "stream",
       "stream": "stdout",
       "text": [
        "\n",
        "Score: 0.0000 for 21 and 25 (Less than four matches)"
       ]
      },
      {
       "output_type": "stream",
       "stream": "stdout",
       "text": [
        "\n",
        "Score: 0.0000 for 21 and 23 (Less than four matches)"
       ]
      },
      {
       "output_type": "stream",
       "stream": "stdout",
       "text": [
        "\n",
        "Score: 0.0000 for 21 and 31 (Less than four matches)"
       ]
      },
      {
       "output_type": "stream",
       "stream": "stdout",
       "text": [
        "\n",
        "Score: 0.0000 for 21 and 15 (Less than four matches)"
       ]
      },
      {
       "output_type": "stream",
       "stream": "stdout",
       "text": [
        "\n",
        "Score: 0.0000 for 21 and 23 (Less than four matches)"
       ]
      },
      {
       "output_type": "stream",
       "stream": "stdout",
       "text": [
        "\n",
        "Score: 0.0269 for 21 and 18"
       ]
      },
      {
       "output_type": "stream",
       "stream": "stdout",
       "text": [
        "\n",
        "Score: 0.0204 for 21 and 15"
       ]
      },
      {
       "output_type": "stream",
       "stream": "stdout",
       "text": [
        "\n",
        "Score: 0.0000 for 21 and 16 (Less than four matches)"
       ]
      },
      {
       "output_type": "stream",
       "stream": "stdout",
       "text": [
        "\n",
        "Score: 0.0000 for 21 and 23 (Less than four matches)"
       ]
      },
      {
       "output_type": "stream",
       "stream": "stdout",
       "text": [
        "\n",
        "Score: 0.0000 for 21 and 23 (Less than four matches)"
       ]
      },
      {
       "output_type": "stream",
       "stream": "stdout",
       "text": [
        "\n",
        "Score: 0.0000 for 21 and 32 (Less than four matches)"
       ]
      },
      {
       "output_type": "stream",
       "stream": "stdout",
       "text": [
        "\n",
        "Score: 0.0342 for 21 and 15"
       ]
      },
      {
       "output_type": "stream",
       "stream": "stdout",
       "text": [
        "\n",
        "Score: 0.0000 for 21 and 24 (Less than four matches)"
       ]
      },
      {
       "output_type": "stream",
       "stream": "stdout",
       "text": [
        "\n",
        "Score: 0.0000 for 21 and 25 (Less than four matches)"
       ]
      },
      {
       "output_type": "stream",
       "stream": "stdout",
       "text": [
        "\n",
        "Score: 0.0000 for 21 and 30 (Less than four matches)"
       ]
      },
      {
       "output_type": "stream",
       "stream": "stdout",
       "text": [
        "\n",
        "Score: 0.0539 for 21 and 32"
       ]
      },
      {
       "output_type": "stream",
       "stream": "stdout",
       "text": [
        "\n",
        "['../../images/testsets/Gallagher_small_unresized/21_872.jpg', '../../images/testsets/Gallagher_small_unresized/29_538.jpg']\n",
        "No descriptors found. Returning score 0\n",
        "Score: 0.0000 for 21 and 21 (Less than four matches)"
       ]
      },
      {
       "output_type": "stream",
       "stream": "stdout",
       "text": [
        "\n",
        "Score: 0.0000 for 21 and 20 (Less than four matches)"
       ]
      },
      {
       "output_type": "stream",
       "stream": "stdout",
       "text": [
        "\n",
        "Score: 0.0000 for 21 and 15 (Less than four matches)"
       ]
      },
      {
       "output_type": "stream",
       "stream": "stdout",
       "text": [
        "\n",
        "Score: 0.0000 for 21 and 15 (Less than four matches)"
       ]
      },
      {
       "output_type": "stream",
       "stream": "stdout",
       "text": [
        "\n",
        "Score: 0.0000 for 21 and 19 (Less than four matches)"
       ]
      },
      {
       "output_type": "stream",
       "stream": "stdout",
       "text": [
        "\n",
        "Score: 0.0000 for 21 and 19 (Less than four matches)"
       ]
      },
      {
       "output_type": "stream",
       "stream": "stdout",
       "text": [
        "\n",
        "Score: 0.0000 for 21 and 21 (Less than four matches)"
       ]
      },
      {
       "output_type": "stream",
       "stream": "stdout",
       "text": [
        "\n",
        "Score: 0.0000 for 21 and 26 (Less than four matches)"
       ]
      },
      {
       "output_type": "stream",
       "stream": "stdout",
       "text": [
        "\n",
        "Score: 0.0000 for 21 and 27 (Less than four matches)"
       ]
      },
      {
       "output_type": "stream",
       "stream": "stdout",
       "text": [
        "\n",
        "Score: 0.0000 for 21 and 15 (Less than four matches)"
       ]
      },
      {
       "output_type": "stream",
       "stream": "stdout",
       "text": [
        "\n",
        "Score: 0.0000 for 21 and 15 (Less than four matches)"
       ]
      },
      {
       "output_type": "stream",
       "stream": "stdout",
       "text": [
        "\n",
        "Score: 0.0256 for 21 and 21"
       ]
      },
      {
       "output_type": "stream",
       "stream": "stdout",
       "text": [
        "\n",
        "Score: 0.0000 for 21 and 15 (Less than four matches)"
       ]
      },
      {
       "output_type": "stream",
       "stream": "stdout",
       "text": [
        "\n",
        "Score: 0.0000 for 21 and 16 (Less than four matches)"
       ]
      },
      {
       "output_type": "stream",
       "stream": "stdout",
       "text": [
        "\n",
        "Score: 0.0000 for 21 and 17 (Less than four matches)"
       ]
      },
      {
       "output_type": "stream",
       "stream": "stdout",
       "text": [
        "\n",
        "['../../images/testsets/Gallagher_small_unresized/21_872.jpg', '../../images/testsets/Gallagher_small_unresized/28_537.jpg']\n",
        "No descriptors found. Returning score 0\n",
        "Score: 0.0000 for 21 and 27 (Less than four matches)"
       ]
      },
      {
       "output_type": "stream",
       "stream": "stdout",
       "text": [
        "\n",
        "Score: 0.0000 for 21 and 13 (Less than four matches)"
       ]
      },
      {
       "output_type": "stream",
       "stream": "stdout",
       "text": [
        "\n",
        "Score: 0.0340 for 21 and 23"
       ]
      },
      {
       "output_type": "stream",
       "stream": "stdout",
       "text": [
        "\n",
        "Score: 0.0318 for 23 and 25"
       ]
      },
      {
       "output_type": "stream",
       "stream": "stdout",
       "text": [
        "\n",
        "Score: 0.0000 for 23 and 23 (Less than four matches)"
       ]
      },
      {
       "output_type": "stream",
       "stream": "stdout",
       "text": [
        "\n",
        "Score: 0.0194 for 23 and 31"
       ]
      },
      {
       "output_type": "stream",
       "stream": "stdout",
       "text": [
        "\n",
        "Score: 0.0000 for 23 and 15 (Less than four matches)"
       ]
      },
      {
       "output_type": "stream",
       "stream": "stdout",
       "text": [
        "\n",
        "Score: 0.0210 for 23 and 23"
       ]
      },
      {
       "output_type": "stream",
       "stream": "stdout",
       "text": [
        "\n",
        "Score: 0.0210 for 23 and 18"
       ]
      },
      {
       "output_type": "stream",
       "stream": "stdout",
       "text": [
        "\n",
        "Score: 0.0046 for 23 and 15"
       ]
      },
      {
       "output_type": "stream",
       "stream": "stdout",
       "text": [
        "\n",
        "Score: 0.0213 for 23 and 16"
       ]
      },
      {
       "output_type": "stream",
       "stream": "stdout",
       "text": [
        "\n",
        "Score: 0.0000 for 23 and 23 (Less than four matches)"
       ]
      },
      {
       "output_type": "stream",
       "stream": "stdout",
       "text": [
        "\n",
        "Score: 0.0000 for 23 and 23 (Less than four matches)"
       ]
      },
      {
       "output_type": "stream",
       "stream": "stdout",
       "text": [
        "\n",
        "Score: 0.0000 for 23 and 32 (Less than four matches)"
       ]
      },
      {
       "output_type": "stream",
       "stream": "stdout",
       "text": [
        "\n",
        "Score: 0.0412 for 23 and 15"
       ]
      },
      {
       "output_type": "stream",
       "stream": "stdout",
       "text": [
        "\n",
        "Score: 0.0068 for 23 and 24"
       ]
      },
      {
       "output_type": "stream",
       "stream": "stdout",
       "text": [
        "\n",
        "Score: 0.0307 for 23 and 25"
       ]
      },
      {
       "output_type": "stream",
       "stream": "stdout",
       "text": [
        "\n",
        "Score: 0.0427 for 23 and 30"
       ]
      },
      {
       "output_type": "stream",
       "stream": "stdout",
       "text": [
        "\n",
        "Score: 0.0110 for 23 and 32"
       ]
      },
      {
       "output_type": "stream",
       "stream": "stdout",
       "text": [
        "\n",
        "['../../images/testsets/Gallagher_small_unresized/23_307.jpg', '../../images/testsets/Gallagher_small_unresized/29_538.jpg']\n",
        "No descriptors found. Returning score 0\n",
        "Score: 0.0022 for 23 and 21"
       ]
      },
      {
       "output_type": "stream",
       "stream": "stdout",
       "text": [
        "\n",
        "Score: 0.0340 for 23 and 20"
       ]
      },
      {
       "output_type": "stream",
       "stream": "stdout",
       "text": [
        "\n",
        "Score: 0.0331 for 23 and 15"
       ]
      },
      {
       "output_type": "stream",
       "stream": "stdout",
       "text": [
        "\n",
        "Score: 0.0379 for 23 and 15"
       ]
      },
      {
       "output_type": "stream",
       "stream": "stdout",
       "text": [
        "\n",
        "Score: 0.0347 for 23 and 19"
       ]
      },
      {
       "output_type": "stream",
       "stream": "stdout",
       "text": [
        "\n",
        "Score: 0.0334 for 23 and 19"
       ]
      },
      {
       "output_type": "stream",
       "stream": "stdout",
       "text": [
        "\n",
        "Score: 0.0224 for 23 and 21"
       ]
      },
      {
       "output_type": "stream",
       "stream": "stdout",
       "text": [
        "\n",
        "Score: 0.0274 for 23 and 26"
       ]
      },
      {
       "output_type": "stream",
       "stream": "stdout",
       "text": [
        "\n",
        "Score: 0.0210 for 23 and 27"
       ]
      },
      {
       "output_type": "stream",
       "stream": "stdout",
       "text": [
        "\n",
        "Score: 0.0188 for 23 and 15"
       ]
      },
      {
       "output_type": "stream",
       "stream": "stdout",
       "text": [
        "\n",
        "Score: 0.0319 for 23 and 15"
       ]
      },
      {
       "output_type": "stream",
       "stream": "stdout",
       "text": [
        "\n",
        "Score: 0.0000 for 23 and 21 (Less than four matches)"
       ]
      },
      {
       "output_type": "stream",
       "stream": "stdout",
       "text": [
        "\n",
        "Score: 0.0000 for 23 and 15 (Less than four matches)"
       ]
      },
      {
       "output_type": "stream",
       "stream": "stdout",
       "text": [
        "\n",
        "Score: 0.0110 for 23 and 16"
       ]
      },
      {
       "output_type": "stream",
       "stream": "stdout",
       "text": [
        "\n",
        "Score: 0.0000 for 23 and 17 (Less than four matches)"
       ]
      },
      {
       "output_type": "stream",
       "stream": "stdout",
       "text": [
        "\n",
        "['../../images/testsets/Gallagher_small_unresized/23_307.jpg', '../../images/testsets/Gallagher_small_unresized/28_537.jpg']\n",
        "No descriptors found. Returning score 0\n",
        "Score: 0.0000 for 23 and 27 (Less than four matches)"
       ]
      },
      {
       "output_type": "stream",
       "stream": "stdout",
       "text": [
        "\n",
        "Score: 0.0364 for 23 and 13"
       ]
      },
      {
       "output_type": "stream",
       "stream": "stdout",
       "text": [
        "\n",
        "Score: 0.0368 for 23 and 23"
       ]
      },
      {
       "output_type": "stream",
       "stream": "stdout",
       "text": [
        "\n",
        "Score: 0.0000 for 25 and 23 (Less than four matches)"
       ]
      },
      {
       "output_type": "stream",
       "stream": "stdout",
       "text": [
        "\n",
        "Score: 0.0000 for 25 and 31 (Less than four matches)"
       ]
      },
      {
       "output_type": "stream",
       "stream": "stdout",
       "text": [
        "\n",
        "Score: 0.0000 for 25 and 15 (Less than four matches)"
       ]
      },
      {
       "output_type": "stream",
       "stream": "stdout",
       "text": [
        "\n",
        "Score: 0.0136 for 25 and 23"
       ]
      },
      {
       "output_type": "stream",
       "stream": "stdout",
       "text": [
        "\n",
        "Score: 0.0000 for 25 and 18 (Less than four matches)"
       ]
      },
      {
       "output_type": "stream",
       "stream": "stdout",
       "text": [
        "\n",
        "Score: 0.0000 for 25 and 15 (Less than four matches)"
       ]
      },
      {
       "output_type": "stream",
       "stream": "stdout",
       "text": [
        "\n",
        "Score: 0.0168 for 25 and 16"
       ]
      },
      {
       "output_type": "stream",
       "stream": "stdout",
       "text": [
        "\n",
        "Score: 0.0309 for 25 and 23"
       ]
      },
      {
       "output_type": "stream",
       "stream": "stdout",
       "text": [
        "\n",
        "Score: 0.0256 for 25 and 23"
       ]
      },
      {
       "output_type": "stream",
       "stream": "stdout",
       "text": [
        "\n",
        "Score: 0.0839 for 25 and 32"
       ]
      },
      {
       "output_type": "stream",
       "stream": "stdout",
       "text": [
        "\n",
        "Score: 0.0408 for 25 and 15"
       ]
      },
      {
       "output_type": "stream",
       "stream": "stdout",
       "text": [
        "\n",
        "Score: 0.0000 for 25 and 24 (Less than four matches)"
       ]
      },
      {
       "output_type": "stream",
       "stream": "stdout",
       "text": [
        "\n",
        "Score: 0.1145 for 25 and 25"
       ]
      },
      {
       "output_type": "stream",
       "stream": "stdout",
       "text": [
        "\n",
        "Score: 0.0294 for 25 and 30"
       ]
      },
      {
       "output_type": "stream",
       "stream": "stdout",
       "text": [
        "\n",
        "Score: 0.0227 for 25 and 32"
       ]
      },
      {
       "output_type": "stream",
       "stream": "stdout",
       "text": [
        "\n",
        "['../../images/testsets/Gallagher_small_unresized/25_462.jpg', '../../images/testsets/Gallagher_small_unresized/29_538.jpg']\n",
        "No descriptors found. Returning score 0\n",
        "Score: 0.0877 for 25 and 21"
       ]
      },
      {
       "output_type": "stream",
       "stream": "stdout",
       "text": [
        "\n",
        "Score: 0.0616 for 25 and 20"
       ]
      },
      {
       "output_type": "stream",
       "stream": "stdout",
       "text": [
        "\n",
        "Score: 0.0000 for 25 and 15 (Less than four matches)"
       ]
      },
      {
       "output_type": "stream",
       "stream": "stdout",
       "text": [
        "\n",
        "Score: 0.0000 for 25 and 15 (Less than four matches)"
       ]
      },
      {
       "output_type": "stream",
       "stream": "stdout",
       "text": [
        "\n",
        "Score: 0.0368 for 25 and 19"
       ]
      },
      {
       "output_type": "stream",
       "stream": "stdout",
       "text": [
        "\n",
        "Score: 0.0716 for 25 and 19"
       ]
      },
      {
       "output_type": "stream",
       "stream": "stdout",
       "text": [
        "\n",
        "Score: 0.0000 for 25 and 21 (Less than four matches)"
       ]
      },
      {
       "output_type": "stream",
       "stream": "stdout",
       "text": [
        "\n",
        "Score: 0.0117 for 25 and 26"
       ]
      },
      {
       "output_type": "stream",
       "stream": "stdout",
       "text": [
        "\n",
        "Score: 0.0716 for 25 and 27"
       ]
      },
      {
       "output_type": "stream",
       "stream": "stdout",
       "text": [
        "\n",
        "Score: 0.0443 for 25 and 15"
       ]
      },
      {
       "output_type": "stream",
       "stream": "stdout",
       "text": [
        "\n",
        "Score: 0.0147 for 25 and 15"
       ]
      },
      {
       "output_type": "stream",
       "stream": "stdout",
       "text": [
        "\n",
        "Score: 0.0000 for 25 and 21 (Less than four matches)"
       ]
      },
      {
       "output_type": "stream",
       "stream": "stdout",
       "text": [
        "\n",
        "Score: 0.0000 for 25 and 15 (Less than four matches)"
       ]
      },
      {
       "output_type": "stream",
       "stream": "stdout",
       "text": [
        "\n",
        "Score: 0.0000 for 25 and 16 (Less than four matches)"
       ]
      },
      {
       "output_type": "stream",
       "stream": "stdout",
       "text": [
        "\n",
        "Score: 0.0000 for 25 and 17 (Less than four matches)"
       ]
      },
      {
       "output_type": "stream",
       "stream": "stdout",
       "text": [
        "\n",
        "['../../images/testsets/Gallagher_small_unresized/25_462.jpg', '../../images/testsets/Gallagher_small_unresized/28_537.jpg']\n",
        "No descriptors found. Returning score 0\n",
        "Score: 0.0621 for 25 and 27"
       ]
      },
      {
       "output_type": "stream",
       "stream": "stdout",
       "text": [
        "\n",
        "Score: 0.0142 for 25 and 13"
       ]
      },
      {
       "output_type": "stream",
       "stream": "stdout",
       "text": [
        "\n",
        "Score: 0.0079 for 25 and 23"
       ]
      },
      {
       "output_type": "stream",
       "stream": "stdout",
       "text": [
        "\n",
        "Score: 0.0000 for 23 and 31 (Less than four matches)"
       ]
      },
      {
       "output_type": "stream",
       "stream": "stdout",
       "text": [
        "\n",
        "Score: 0.0000 for 23 and 15 (Less than four matches)"
       ]
      },
      {
       "output_type": "stream",
       "stream": "stdout",
       "text": [
        "\n",
        "Score: 0.0000 for 23 and 23 (Less than four matches)"
       ]
      },
      {
       "output_type": "stream",
       "stream": "stdout",
       "text": [
        "\n",
        "Score: 0.0000 for 23 and 18 (Less than four matches)"
       ]
      },
      {
       "output_type": "stream",
       "stream": "stdout",
       "text": [
        "\n",
        "Score: 0.0000 for 23 and 15 (Less than four matches)"
       ]
      },
      {
       "output_type": "stream",
       "stream": "stdout",
       "text": [
        "\n",
        "Score: 0.0000 for 23 and 16 (Less than four matches)"
       ]
      },
      {
       "output_type": "stream",
       "stream": "stdout",
       "text": [
        "\n",
        "Score: 0.0000 for 23 and 23 (Less than four matches)"
       ]
      },
      {
       "output_type": "stream",
       "stream": "stdout",
       "text": [
        "\n",
        "Score: 0.0000 for 23 and 23 (Less than four matches)"
       ]
      },
      {
       "output_type": "stream",
       "stream": "stdout",
       "text": [
        "\n",
        "Score: 0.0000 for 23 and 32 (Less than four matches)"
       ]
      },
      {
       "output_type": "stream",
       "stream": "stdout",
       "text": [
        "\n",
        "Score: 0.0000 for 23 and 15 (Less than four matches)"
       ]
      },
      {
       "output_type": "stream",
       "stream": "stdout",
       "text": [
        "\n",
        "Score: 0.0000 for 23 and 24 (Less than four matches)"
       ]
      },
      {
       "output_type": "stream",
       "stream": "stdout",
       "text": [
        "\n",
        "Score: 0.0000 for 23 and 25 (Less than four matches)"
       ]
      },
      {
       "output_type": "stream",
       "stream": "stdout",
       "text": [
        "\n",
        "Score: 0.0000 for 23 and 30 (Less than four matches)"
       ]
      },
      {
       "output_type": "stream",
       "stream": "stdout",
       "text": [
        "\n",
        "Score: 0.0000 for 23 and 32 (Less than four matches)"
       ]
      },
      {
       "output_type": "stream",
       "stream": "stdout",
       "text": [
        "\n",
        "['../../images/testsets/Gallagher_small_unresized/23_534.jpg', '../../images/testsets/Gallagher_small_unresized/29_538.jpg']\n",
        "No descriptors found. Returning score 0\n",
        "Score: 0.0000 for 23 and 21 (Less than four matches)"
       ]
      },
      {
       "output_type": "stream",
       "stream": "stdout",
       "text": [
        "\n",
        "Score: 0.0000 for 23 and 20 (Less than four matches)"
       ]
      },
      {
       "output_type": "stream",
       "stream": "stdout",
       "text": [
        "\n",
        "Score: 0.0000 for 23 and 15 (Less than four matches)"
       ]
      },
      {
       "output_type": "stream",
       "stream": "stdout",
       "text": [
        "\n",
        "Score: 0.0000 for 23 and 15 (Less than four matches)"
       ]
      },
      {
       "output_type": "stream",
       "stream": "stdout",
       "text": [
        "\n",
        "Score: 0.0000 for 23 and 19 (Less than four matches)"
       ]
      },
      {
       "output_type": "stream",
       "stream": "stdout",
       "text": [
        "\n",
        "Score: 0.0000 for 23 and 19 (Less than four matches)"
       ]
      },
      {
       "output_type": "stream",
       "stream": "stdout",
       "text": [
        "\n",
        "Score: 0.0000 for 23 and 21 (Less than four matches)"
       ]
      },
      {
       "output_type": "stream",
       "stream": "stdout",
       "text": [
        "\n",
        "Score: 0.0000 for 23 and 26 (Less than four matches)"
       ]
      },
      {
       "output_type": "stream",
       "stream": "stdout",
       "text": [
        "\n",
        "Score: 0.0000 for 23 and 27 (Less than four matches)"
       ]
      },
      {
       "output_type": "stream",
       "stream": "stdout",
       "text": [
        "\n",
        "Score: 0.0000 for 23 and 15 (Less than four matches)"
       ]
      },
      {
       "output_type": "stream",
       "stream": "stdout",
       "text": [
        "\n",
        "Score: 0.0000 for 23 and 15 (Less than four matches)"
       ]
      },
      {
       "output_type": "stream",
       "stream": "stdout",
       "text": [
        "\n",
        "Score: 0.0000 for 23 and 21 (Less than four matches)"
       ]
      },
      {
       "output_type": "stream",
       "stream": "stdout",
       "text": [
        "\n",
        "Score: 0.0000 for 23 and 15 (Less than four matches)"
       ]
      },
      {
       "output_type": "stream",
       "stream": "stdout",
       "text": [
        "\n",
        "Score: 0.0000 for 23 and 16 (Less than four matches)"
       ]
      },
      {
       "output_type": "stream",
       "stream": "stdout",
       "text": [
        "\n",
        "Score: 0.0000 for 23 and 17 (Less than four matches)"
       ]
      },
      {
       "output_type": "stream",
       "stream": "stdout",
       "text": [
        "\n",
        "['../../images/testsets/Gallagher_small_unresized/23_534.jpg', '../../images/testsets/Gallagher_small_unresized/28_537.jpg']\n",
        "No descriptors found. Returning score 0\n",
        "Score: 0.0000 for 23 and 27 (Less than four matches)"
       ]
      },
      {
       "output_type": "stream",
       "stream": "stdout",
       "text": [
        "\n",
        "Score: 0.0000 for 23 and 13 (Less than four matches)"
       ]
      },
      {
       "output_type": "stream",
       "stream": "stdout",
       "text": [
        "\n",
        "Score: 0.0000 for 23 and 23 (Less than four matches)"
       ]
      },
      {
       "output_type": "stream",
       "stream": "stdout",
       "text": [
        "\n",
        "Score: 0.0000 for 31 and 15 (Less than four matches)"
       ]
      },
      {
       "output_type": "stream",
       "stream": "stdout",
       "text": [
        "\n",
        "Score: 0.0071 for 31 and 23"
       ]
      },
      {
       "output_type": "stream",
       "stream": "stdout",
       "text": [
        "\n",
        "Score: 0.0000 for 31 and 18 (Less than four matches)"
       ]
      },
      {
       "output_type": "stream",
       "stream": "stdout",
       "text": [
        "\n",
        "Score: 0.0000 for 31 and 15 (Less than four matches)"
       ]
      },
      {
       "output_type": "stream",
       "stream": "stdout",
       "text": [
        "\n",
        "Score: 0.0000 for 31 and 16 (Less than four matches)"
       ]
      },
      {
       "output_type": "stream",
       "stream": "stdout",
       "text": [
        "\n",
        "Score: 0.0000 for 31 and 23 (Less than four matches)"
       ]
      },
      {
       "output_type": "stream",
       "stream": "stdout",
       "text": [
        "\n",
        "Score: 0.0000 for 31 and 23 (Less than four matches)"
       ]
      },
      {
       "output_type": "stream",
       "stream": "stdout",
       "text": [
        "\n",
        "Score: 0.0000 for 31 and 32 (Less than four matches)"
       ]
      },
      {
       "output_type": "stream",
       "stream": "stdout",
       "text": [
        "\n",
        "Score: 0.0302 for 31 and 15"
       ]
      },
      {
       "output_type": "stream",
       "stream": "stdout",
       "text": [
        "\n",
        "Score: 0.0000 for 31 and 24 (Less than four matches)"
       ]
      },
      {
       "output_type": "stream",
       "stream": "stdout",
       "text": [
        "\n",
        "Score: 0.0000 for 31 and 25 (Less than four matches)"
       ]
      },
      {
       "output_type": "stream",
       "stream": "stdout",
       "text": [
        "\n",
        "Score: 0.0000 for 31 and 30 (Less than four matches)"
       ]
      },
      {
       "output_type": "stream",
       "stream": "stdout",
       "text": [
        "\n",
        "Score: 0.0127 for 31 and 32"
       ]
      },
      {
       "output_type": "stream",
       "stream": "stdout",
       "text": [
        "\n",
        "['../../images/testsets/Gallagher_small_unresized/31_582.jpg', '../../images/testsets/Gallagher_small_unresized/29_538.jpg']\n",
        "No descriptors found. Returning score 0\n",
        "Score: 0.0186 for 31 and 21"
       ]
      },
      {
       "output_type": "stream",
       "stream": "stdout",
       "text": [
        "\n",
        "Score: 0.0311 for 31 and 20"
       ]
      },
      {
       "output_type": "stream",
       "stream": "stdout",
       "text": [
        "\n",
        "Score: 0.0080 for 31 and 15"
       ]
      },
      {
       "output_type": "stream",
       "stream": "stdout",
       "text": [
        "\n",
        "Score: 0.0056 for 31 and 15"
       ]
      },
      {
       "output_type": "stream",
       "stream": "stdout",
       "text": [
        "\n",
        "Score: 0.0106 for 31 and 19"
       ]
      },
      {
       "output_type": "stream",
       "stream": "stdout",
       "text": [
        "\n",
        "Score: 0.0000 for 31 and 19 (Less than four matches)"
       ]
      },
      {
       "output_type": "stream",
       "stream": "stdout",
       "text": [
        "\n",
        "Score: 0.0190 for 31 and 21"
       ]
      },
      {
       "output_type": "stream",
       "stream": "stdout",
       "text": [
        "\n",
        "Score: 0.0454 for 31 and 26"
       ]
      },
      {
       "output_type": "stream",
       "stream": "stdout",
       "text": [
        "\n",
        "Score: 0.0490 for 31 and 27"
       ]
      },
      {
       "output_type": "stream",
       "stream": "stdout",
       "text": [
        "\n",
        "Score: 0.0211 for 31 and 15"
       ]
      },
      {
       "output_type": "stream",
       "stream": "stdout",
       "text": [
        "\n",
        "Score: 0.0000 for 31 and 15 (Less than four matches)"
       ]
      },
      {
       "output_type": "stream",
       "stream": "stdout",
       "text": [
        "\n",
        "Score: 0.0000 for 31 and 21 (Less than four matches)"
       ]
      },
      {
       "output_type": "stream",
       "stream": "stdout",
       "text": [
        "\n",
        "Score: 0.0000 for 31 and 15 (Less than four matches)"
       ]
      },
      {
       "output_type": "stream",
       "stream": "stdout",
       "text": [
        "\n",
        "Score: 0.0000 for 31 and 16 (Less than four matches)"
       ]
      },
      {
       "output_type": "stream",
       "stream": "stdout",
       "text": [
        "\n",
        "Score: 0.0000 for 31 and 17 (Less than four matches)"
       ]
      },
      {
       "output_type": "stream",
       "stream": "stdout",
       "text": [
        "\n",
        "['../../images/testsets/Gallagher_small_unresized/31_582.jpg', '../../images/testsets/Gallagher_small_unresized/28_537.jpg']\n",
        "No descriptors found. Returning score 0\n",
        "Score: 0.0213 for 31 and 27"
       ]
      },
      {
       "output_type": "stream",
       "stream": "stdout",
       "text": [
        "\n",
        "Score: 0.0000 for 31 and 13 (Less than four matches)"
       ]
      },
      {
       "output_type": "stream",
       "stream": "stdout",
       "text": [
        "\n",
        "Score: 0.0105 for 31 and 23"
       ]
      },
      {
       "output_type": "stream",
       "stream": "stdout",
       "text": [
        "\n",
        "Score: 0.0000 for 15 and 23 (Less than four matches)"
       ]
      },
      {
       "output_type": "stream",
       "stream": "stdout",
       "text": [
        "\n",
        "Score: 0.0000 for 15 and 18 (Less than four matches)"
       ]
      },
      {
       "output_type": "stream",
       "stream": "stdout",
       "text": [
        "\n",
        "Score: 0.0000 for 15 and 15 (Less than four matches)"
       ]
      },
      {
       "output_type": "stream",
       "stream": "stdout",
       "text": [
        "\n",
        "Score: 0.0000 for 15 and 16 (Less than four matches)"
       ]
      },
      {
       "output_type": "stream",
       "stream": "stdout",
       "text": [
        "\n",
        "Score: 0.0000 for 15 and 23 (Less than four matches)"
       ]
      },
      {
       "output_type": "stream",
       "stream": "stdout",
       "text": [
        "\n",
        "Score: 0.0408 for 15 and 23"
       ]
      },
      {
       "output_type": "stream",
       "stream": "stdout",
       "text": [
        "\n",
        "Score: 0.0000 for 15 and 32 (Less than four matches)"
       ]
      },
      {
       "output_type": "stream",
       "stream": "stdout",
       "text": [
        "\n",
        "Score: 0.0178 for 15 and 15"
       ]
      },
      {
       "output_type": "stream",
       "stream": "stdout",
       "text": [
        "\n",
        "Score: 0.0557 for 15 and 24"
       ]
      },
      {
       "output_type": "stream",
       "stream": "stdout",
       "text": [
        "\n",
        "Score: 0.0575 for 15 and 25"
       ]
      },
      {
       "output_type": "stream",
       "stream": "stdout",
       "text": [
        "\n",
        "Score: 0.0000 for 15 and 30 (Less than four matches)"
       ]
      },
      {
       "output_type": "stream",
       "stream": "stdout",
       "text": [
        "\n",
        "Score: 0.0000 for 15 and 32 (Less than four matches)"
       ]
      },
      {
       "output_type": "stream",
       "stream": "stdout",
       "text": [
        "\n",
        "['../../images/testsets/Gallagher_small_unresized/15_224.jpg', '../../images/testsets/Gallagher_small_unresized/29_538.jpg']\n",
        "No descriptors found. Returning score 0\n",
        "Score: 0.0068 for 15 and 21"
       ]
      },
      {
       "output_type": "stream",
       "stream": "stdout",
       "text": [
        "\n",
        "Score: 0.0544 for 15 and 20"
       ]
      },
      {
       "output_type": "stream",
       "stream": "stdout",
       "text": [
        "\n",
        "Score: 0.0630 for 15 and 15"
       ]
      },
      {
       "output_type": "stream",
       "stream": "stdout",
       "text": [
        "\n",
        "Score: 0.0342 for 15 and 15"
       ]
      },
      {
       "output_type": "stream",
       "stream": "stdout",
       "text": [
        "\n",
        "Score: 0.0000 for 15 and 19 (Less than four matches)"
       ]
      },
      {
       "output_type": "stream",
       "stream": "stdout",
       "text": [
        "\n",
        "Score: 0.0000 for 15 and 19 (Less than four matches)"
       ]
      },
      {
       "output_type": "stream",
       "stream": "stdout",
       "text": [
        "\n",
        "Score: 0.0540 for 15 and 21"
       ]
      },
      {
       "output_type": "stream",
       "stream": "stdout",
       "text": [
        "\n",
        "Score: 0.0422 for 15 and 26"
       ]
      },
      {
       "output_type": "stream",
       "stream": "stdout",
       "text": [
        "\n",
        "Score: 0.0000 for 15 and 27 (Less than four matches)"
       ]
      },
      {
       "output_type": "stream",
       "stream": "stdout",
       "text": [
        "\n",
        "Score: 0.0181 for 15 and 15"
       ]
      },
      {
       "output_type": "stream",
       "stream": "stdout",
       "text": [
        "\n",
        "Score: 0.0474 for 15 and 15"
       ]
      },
      {
       "output_type": "stream",
       "stream": "stdout",
       "text": [
        "\n",
        "Score: 0.0000 for 15 and 21 (Less than four matches)"
       ]
      },
      {
       "output_type": "stream",
       "stream": "stdout",
       "text": [
        "\n",
        "Score: 0.0000 for 15 and 15 (Less than four matches)"
       ]
      },
      {
       "output_type": "stream",
       "stream": "stdout",
       "text": [
        "\n",
        "Score: 0.0000 for 15 and 16 (Less than four matches)"
       ]
      },
      {
       "output_type": "stream",
       "stream": "stdout",
       "text": [
        "\n",
        "Score: 0.0000 for 15 and 17 (Less than four matches)"
       ]
      },
      {
       "output_type": "stream",
       "stream": "stdout",
       "text": [
        "\n",
        "['../../images/testsets/Gallagher_small_unresized/15_224.jpg', '../../images/testsets/Gallagher_small_unresized/28_537.jpg']\n",
        "No descriptors found. Returning score 0\n",
        "Score: 0.0000 for 15 and 27 (Less than four matches)"
       ]
      },
      {
       "output_type": "stream",
       "stream": "stdout",
       "text": [
        "\n",
        "Score: 0.0000 for 15 and 13 (Less than four matches)"
       ]
      },
      {
       "output_type": "stream",
       "stream": "stdout",
       "text": [
        "\n",
        "Score: 0.0000 for 15 and 23 (Less than four matches)"
       ]
      },
      {
       "output_type": "stream",
       "stream": "stdout",
       "text": [
        "\n",
        "Score: 0.0177 for 23 and 18"
       ]
      },
      {
       "output_type": "stream",
       "stream": "stdout",
       "text": [
        "\n",
        "Score: 0.0162 for 23 and 15"
       ]
      },
      {
       "output_type": "stream",
       "stream": "stdout",
       "text": [
        "\n",
        "Score: 0.0152 for 23 and 16"
       ]
      },
      {
       "output_type": "stream",
       "stream": "stdout",
       "text": [
        "\n",
        "Score: 0.0453 for 23 and 23"
       ]
      },
      {
       "output_type": "stream",
       "stream": "stdout",
       "text": [
        "\n",
        "Score: 0.0319 for 23 and 23"
       ]
      },
      {
       "output_type": "stream",
       "stream": "stdout",
       "text": [
        "\n",
        "Score: 0.0000 for 23 and 32 (Less than four matches)"
       ]
      },
      {
       "output_type": "stream",
       "stream": "stdout",
       "text": [
        "\n",
        "Score: 0.0299 for 23 and 15"
       ]
      },
      {
       "output_type": "stream",
       "stream": "stdout",
       "text": [
        "\n",
        "Score: 0.0257 for 23 and 24"
       ]
      },
      {
       "output_type": "stream",
       "stream": "stdout",
       "text": [
        "\n",
        "Score: 0.0301 for 23 and 25"
       ]
      },
      {
       "output_type": "stream",
       "stream": "stdout",
       "text": [
        "\n",
        "Score: 0.0407 for 23 and 30"
       ]
      },
      {
       "output_type": "stream",
       "stream": "stdout",
       "text": [
        "\n",
        "Score: 0.0000 for 23 and 32 (Less than four matches)"
       ]
      },
      {
       "output_type": "stream",
       "stream": "stdout",
       "text": [
        "\n",
        "['../../images/testsets/Gallagher_small_unresized/23_508.jpg', '../../images/testsets/Gallagher_small_unresized/29_538.jpg']\n",
        "No descriptors found. Returning score 0\n",
        "Score: 0.0197 for 23 and 21"
       ]
      },
      {
       "output_type": "stream",
       "stream": "stdout",
       "text": [
        "\n",
        "Score: 0.0355 for 23 and 20"
       ]
      },
      {
       "output_type": "stream",
       "stream": "stdout",
       "text": [
        "\n",
        "Score: 0.0248 for 23 and 15"
       ]
      },
      {
       "output_type": "stream",
       "stream": "stdout",
       "text": [
        "\n",
        "Score: 0.0130 for 23 and 15"
       ]
      },
      {
       "output_type": "stream",
       "stream": "stdout",
       "text": [
        "\n",
        "Score: 0.0225 for 23 and 19"
       ]
      },
      {
       "output_type": "stream",
       "stream": "stdout",
       "text": [
        "\n",
        "Score: 0.0187 for 23 and 19"
       ]
      },
      {
       "output_type": "stream",
       "stream": "stdout",
       "text": [
        "\n",
        "Score: 0.0075 for 23 and 21"
       ]
      },
      {
       "output_type": "stream",
       "stream": "stdout",
       "text": [
        "\n",
        "Score: 0.0236 for 23 and 26"
       ]
      },
      {
       "output_type": "stream",
       "stream": "stdout",
       "text": [
        "\n",
        "Score: 0.0379 for 23 and 27"
       ]
      },
      {
       "output_type": "stream",
       "stream": "stdout",
       "text": [
        "\n",
        "Score: 0.0112 for 23 and 15"
       ]
      },
      {
       "output_type": "stream",
       "stream": "stdout",
       "text": [
        "\n",
        "Score: 0.0184 for 23 and 15"
       ]
      },
      {
       "output_type": "stream",
       "stream": "stdout",
       "text": [
        "\n",
        "Score: 0.0000 for 23 and 21 (Less than four matches)"
       ]
      },
      {
       "output_type": "stream",
       "stream": "stdout",
       "text": [
        "\n",
        "Score: 0.0000 for 23 and 15 (Less than four matches)"
       ]
      },
      {
       "output_type": "stream",
       "stream": "stdout",
       "text": [
        "\n",
        "Score: 0.0169 for 23 and 16"
       ]
      },
      {
       "output_type": "stream",
       "stream": "stdout",
       "text": [
        "\n",
        "Score: 0.0000 for 23 and 17 (Less than four matches)"
       ]
      },
      {
       "output_type": "stream",
       "stream": "stdout",
       "text": [
        "\n",
        "['../../images/testsets/Gallagher_small_unresized/23_508.jpg', '../../images/testsets/Gallagher_small_unresized/28_537.jpg']\n",
        "No descriptors found. Returning score 0\n",
        "Score: 0.0167 for 23 and 27"
       ]
      },
      {
       "output_type": "stream",
       "stream": "stdout",
       "text": [
        "\n",
        "Score: 0.0198 for 23 and 13"
       ]
      },
      {
       "output_type": "stream",
       "stream": "stdout",
       "text": [
        "\n",
        "Score: 0.0260 for 23 and 23"
       ]
      },
      {
       "output_type": "stream",
       "stream": "stdout",
       "text": [
        "\n",
        "Score: 0.0000 for 18 and 15 (Less than four matches)"
       ]
      },
      {
       "output_type": "stream",
       "stream": "stdout",
       "text": [
        "\n",
        "Score: 0.0000 for 18 and 16 (Less than four matches)"
       ]
      },
      {
       "output_type": "stream",
       "stream": "stdout",
       "text": [
        "\n",
        "Score: 0.0000 for 18 and 23 (Less than four matches)"
       ]
      },
      {
       "output_type": "stream",
       "stream": "stdout",
       "text": [
        "\n",
        "Score: 0.0000 for 18 and 23 (Less than four matches)"
       ]
      },
      {
       "output_type": "stream",
       "stream": "stdout",
       "text": [
        "\n",
        "Score: 0.0000 for 18 and 32 (Less than four matches)"
       ]
      },
      {
       "output_type": "stream",
       "stream": "stdout",
       "text": [
        "\n",
        "Score: 0.0318 for 18 and 15"
       ]
      },
      {
       "output_type": "stream",
       "stream": "stdout",
       "text": [
        "\n",
        "Score: 0.0000 for 18 and 24 (Less than four matches)"
       ]
      },
      {
       "output_type": "stream",
       "stream": "stdout",
       "text": [
        "\n",
        "Score: 0.0000 for 18 and 25 (Less than four matches)"
       ]
      },
      {
       "output_type": "stream",
       "stream": "stdout",
       "text": [
        "\n",
        "Score: 0.0034 for 18 and 30"
       ]
      },
      {
       "output_type": "stream",
       "stream": "stdout",
       "text": [
        "\n",
        "Score: 0.0371 for 18 and 32"
       ]
      },
      {
       "output_type": "stream",
       "stream": "stdout",
       "text": [
        "\n",
        "['../../images/testsets/Gallagher_small_unresized/18_220.jpg', '../../images/testsets/Gallagher_small_unresized/29_538.jpg']\n",
        "No descriptors found. Returning score 0\n",
        "Score: 0.0157 for 18 and 21"
       ]
      },
      {
       "output_type": "stream",
       "stream": "stdout",
       "text": [
        "\n",
        "Score: 0.0000 for 18 and 20 (Less than four matches)"
       ]
      },
      {
       "output_type": "stream",
       "stream": "stdout",
       "text": [
        "\n",
        "Score: 0.0000 for 18 and 15 (Less than four matches)"
       ]
      },
      {
       "output_type": "stream",
       "stream": "stdout",
       "text": [
        "\n",
        "Score: 0.0000 for 18 and 15 (Less than four matches)"
       ]
      },
      {
       "output_type": "stream",
       "stream": "stdout",
       "text": [
        "\n",
        "Score: 0.0000 for 18 and 19 (Less than four matches)"
       ]
      },
      {
       "output_type": "stream",
       "stream": "stdout",
       "text": [
        "\n",
        "Score: 0.0000 for 18 and 19 (Less than four matches)"
       ]
      },
      {
       "output_type": "stream",
       "stream": "stdout",
       "text": [
        "\n",
        "Score: 0.0000 for 18 and 21 (Less than four matches)"
       ]
      },
      {
       "output_type": "stream",
       "stream": "stdout",
       "text": [
        "\n",
        "Score: 0.0000 for 18 and 26 (Less than four matches)"
       ]
      },
      {
       "output_type": "stream",
       "stream": "stdout",
       "text": [
        "\n",
        "Score: 0.0000 for 18 and 27 (Less than four matches)"
       ]
      },
      {
       "output_type": "stream",
       "stream": "stdout",
       "text": [
        "\n",
        "Score: 0.0000 for 18 and 15 (Less than four matches)"
       ]
      },
      {
       "output_type": "stream",
       "stream": "stdout",
       "text": [
        "\n",
        "Score: 0.0291 for 18 and 15"
       ]
      },
      {
       "output_type": "stream",
       "stream": "stdout",
       "text": [
        "\n",
        "Score: 0.0443 for 18 and 21"
       ]
      },
      {
       "output_type": "stream",
       "stream": "stdout",
       "text": [
        "\n",
        "Score: 0.0000 for 18 and 15 (Less than four matches)"
       ]
      },
      {
       "output_type": "stream",
       "stream": "stdout",
       "text": [
        "\n",
        "Score: 0.0000 for 18 and 16 (Less than four matches)"
       ]
      },
      {
       "output_type": "stream",
       "stream": "stdout",
       "text": [
        "\n",
        "Score: 0.0000 for 18 and 17 (Less than four matches)"
       ]
      },
      {
       "output_type": "stream",
       "stream": "stdout",
       "text": [
        "\n",
        "['../../images/testsets/Gallagher_small_unresized/18_220.jpg', '../../images/testsets/Gallagher_small_unresized/28_537.jpg']\n",
        "No descriptors found. Returning score 0\n",
        "Score: 0.0000 for 18 and 27 (Less than four matches)"
       ]
      },
      {
       "output_type": "stream",
       "stream": "stdout",
       "text": [
        "\n",
        "Score: 0.0000 for 18 and 13 (Less than four matches)"
       ]
      },
      {
       "output_type": "stream",
       "stream": "stdout",
       "text": [
        "\n",
        "Score: 0.0242 for 18 and 23"
       ]
      },
      {
       "output_type": "stream",
       "stream": "stdout",
       "text": [
        "\n",
        "Score: 0.0000 for 15 and 16 (Less than four matches)"
       ]
      },
      {
       "output_type": "stream",
       "stream": "stdout",
       "text": [
        "\n",
        "Score: 0.0000 for 15 and 23 (Less than four matches)"
       ]
      },
      {
       "output_type": "stream",
       "stream": "stdout",
       "text": [
        "\n",
        "Score: 0.0000 for 15 and 23 (Less than four matches)"
       ]
      },
      {
       "output_type": "stream",
       "stream": "stdout",
       "text": [
        "\n",
        "Score: 0.0000 for 15 and 32 (Less than four matches)"
       ]
      },
      {
       "output_type": "stream",
       "stream": "stdout",
       "text": [
        "\n",
        "Score: 0.0000 for 15 and 15 (Less than four matches)"
       ]
      },
      {
       "output_type": "stream",
       "stream": "stdout",
       "text": [
        "\n",
        "Score: 0.0163 for 15 and 24"
       ]
      },
      {
       "output_type": "stream",
       "stream": "stdout",
       "text": [
        "\n",
        "Score: 0.0000 for 15 and 25 (Less than four matches)"
       ]
      },
      {
       "output_type": "stream",
       "stream": "stdout",
       "text": [
        "\n",
        "Score: 0.0000 for 15 and 30 (Less than four matches)"
       ]
      },
      {
       "output_type": "stream",
       "stream": "stdout",
       "text": [
        "\n",
        "Score: 0.0099 for 15 and 32"
       ]
      },
      {
       "output_type": "stream",
       "stream": "stdout",
       "text": [
        "\n",
        "['../../images/testsets/Gallagher_small_unresized/15_151.jpg', '../../images/testsets/Gallagher_small_unresized/29_538.jpg']\n",
        "No descriptors found. Returning score 0\n",
        "Score: 0.0103 for 15 and 21"
       ]
      },
      {
       "output_type": "stream",
       "stream": "stdout",
       "text": [
        "\n",
        "Score: 0.0000 for 15 and 20 (Less than four matches)"
       ]
      },
      {
       "output_type": "stream",
       "stream": "stdout",
       "text": [
        "\n",
        "Score: 0.0000 for 15 and 15 (Less than four matches)"
       ]
      },
      {
       "output_type": "stream",
       "stream": "stdout",
       "text": [
        "\n",
        "Score: 0.0368 for 15 and 15"
       ]
      },
      {
       "output_type": "stream",
       "stream": "stdout",
       "text": [
        "\n",
        "Score: 0.0000 for 15 and 19 (Less than four matches)"
       ]
      },
      {
       "output_type": "stream",
       "stream": "stdout",
       "text": [
        "\n",
        "Score: 0.0000 for 15 and 19 (Less than four matches)"
       ]
      },
      {
       "output_type": "stream",
       "stream": "stdout",
       "text": [
        "\n",
        "Score: 0.0000 for 15 and 21 (Less than four matches)"
       ]
      },
      {
       "output_type": "stream",
       "stream": "stdout",
       "text": [
        "\n",
        "Score: 0.0000 for 15 and 26 (Less than four matches)"
       ]
      },
      {
       "output_type": "stream",
       "stream": "stdout",
       "text": [
        "\n",
        "Score: 0.0000 for 15 and 27 (Less than four matches)"
       ]
      },
      {
       "output_type": "stream",
       "stream": "stdout",
       "text": [
        "\n",
        "Score: 0.0507 for 15 and 15"
       ]
      },
      {
       "output_type": "stream",
       "stream": "stdout",
       "text": [
        "\n",
        "Score: 0.0160 for 15 and 15"
       ]
      },
      {
       "output_type": "stream",
       "stream": "stdout",
       "text": [
        "\n",
        "Score: 0.0000 for 15 and 21 (Less than four matches)"
       ]
      },
      {
       "output_type": "stream",
       "stream": "stdout",
       "text": [
        "\n",
        "Score: 0.0000 for 15 and 15 (Less than four matches)"
       ]
      },
      {
       "output_type": "stream",
       "stream": "stdout",
       "text": [
        "\n",
        "Score: 0.0000 for 15 and 16 (Less than four matches)"
       ]
      },
      {
       "output_type": "stream",
       "stream": "stdout",
       "text": [
        "\n",
        "Score: 0.0000 for 15 and 17 (Less than four matches)"
       ]
      },
      {
       "output_type": "stream",
       "stream": "stdout",
       "text": [
        "\n",
        "['../../images/testsets/Gallagher_small_unresized/15_151.jpg', '../../images/testsets/Gallagher_small_unresized/28_537.jpg']\n",
        "No descriptors found. Returning score 0\n",
        "Score: 0.0000 for 15 and 27 (Less than four matches)"
       ]
      },
      {
       "output_type": "stream",
       "stream": "stdout",
       "text": [
        "\n",
        "Score: 0.0000 for 15 and 13 (Less than four matches)"
       ]
      },
      {
       "output_type": "stream",
       "stream": "stdout",
       "text": [
        "\n",
        "Score: 0.0000 for 15 and 23"
       ]
      },
      {
       "output_type": "stream",
       "stream": "stdout",
       "text": [
        "\n",
        "Score: 0.0000 for 16 and 23 (Less than four matches)"
       ]
      },
      {
       "output_type": "stream",
       "stream": "stdout",
       "text": [
        "\n",
        "Score: 0.0000 for 16 and 23 (Less than four matches)"
       ]
      },
      {
       "output_type": "stream",
       "stream": "stdout",
       "text": [
        "\n",
        "Score: 0.0000 for 16 and 32 (Less than four matches)"
       ]
      },
      {
       "output_type": "stream",
       "stream": "stdout",
       "text": [
        "\n",
        "Score: 0.0000 for 16 and 15 (Less than four matches)"
       ]
      },
      {
       "output_type": "stream",
       "stream": "stdout",
       "text": [
        "\n",
        "Score: 0.0000 for 16 and 24 (Less than four matches)"
       ]
      },
      {
       "output_type": "stream",
       "stream": "stdout",
       "text": [
        "\n",
        "Score: 0.0000 for 16 and 25 (Less than four matches)"
       ]
      },
      {
       "output_type": "stream",
       "stream": "stdout",
       "text": [
        "\n",
        "Score: 0.0072 for 16 and 30"
       ]
      },
      {
       "output_type": "stream",
       "stream": "stdout",
       "text": [
        "\n",
        "Score: 0.0000 for 16 and 32 (Less than four matches)"
       ]
      },
      {
       "output_type": "stream",
       "stream": "stdout",
       "text": [
        "\n",
        "['../../images/testsets/Gallagher_small_unresized/16_182.jpg', '../../images/testsets/Gallagher_small_unresized/29_538.jpg']\n",
        "No descriptors found. Returning score 0\n",
        "Score: 0.0157 for 16 and 21"
       ]
      },
      {
       "output_type": "stream",
       "stream": "stdout",
       "text": [
        "\n",
        "Score: 0.0228 for 16 and 20"
       ]
      },
      {
       "output_type": "stream",
       "stream": "stdout",
       "text": [
        "\n",
        "Score: 0.0327 for 16 and 15"
       ]
      },
      {
       "output_type": "stream",
       "stream": "stdout",
       "text": [
        "\n",
        "Score: 0.0296 for 16 and 15"
       ]
      },
      {
       "output_type": "stream",
       "stream": "stdout",
       "text": [
        "\n",
        "Score: 0.0000 for 16 and 19 (Less than four matches)"
       ]
      },
      {
       "output_type": "stream",
       "stream": "stdout",
       "text": [
        "\n",
        "Score: 0.0000 for 16 and 19 (Less than four matches)"
       ]
      },
      {
       "output_type": "stream",
       "stream": "stdout",
       "text": [
        "\n",
        "Score: 0.0228 for 16 and 21"
       ]
      },
      {
       "output_type": "stream",
       "stream": "stdout",
       "text": [
        "\n",
        "Score: 0.0000 for 16 and 26 (Less than four matches)"
       ]
      },
      {
       "output_type": "stream",
       "stream": "stdout",
       "text": [
        "\n",
        "Score: 0.0000 for 16 and 27 (Less than four matches)"
       ]
      },
      {
       "output_type": "stream",
       "stream": "stdout",
       "text": [
        "\n",
        "Score: 0.0000 for 16 and 15 (Less than four matches)"
       ]
      },
      {
       "output_type": "stream",
       "stream": "stdout",
       "text": [
        "\n",
        "Score: 0.0000 for 16 and 15 (Less than four matches)"
       ]
      },
      {
       "output_type": "stream",
       "stream": "stdout",
       "text": [
        "\n",
        "Score: 0.0000 for 16 and 21 (Less than four matches)"
       ]
      },
      {
       "output_type": "stream",
       "stream": "stdout",
       "text": [
        "\n",
        "Score: 0.0000 for 16 and 15 (Less than four matches)"
       ]
      },
      {
       "output_type": "stream",
       "stream": "stdout",
       "text": [
        "\n",
        "Score: 0.0000 for 16 and 16 (Less than four matches)"
       ]
      },
      {
       "output_type": "stream",
       "stream": "stdout",
       "text": [
        "\n",
        "Score: 0.0000 for 16 and 17 (Less than four matches)"
       ]
      },
      {
       "output_type": "stream",
       "stream": "stdout",
       "text": [
        "\n",
        "['../../images/testsets/Gallagher_small_unresized/16_182.jpg', '../../images/testsets/Gallagher_small_unresized/28_537.jpg']\n",
        "No descriptors found. Returning score 0\n",
        "Score: 0.0000 for 16 and 27 (Less than four matches)"
       ]
      },
      {
       "output_type": "stream",
       "stream": "stdout",
       "text": [
        "\n",
        "Score: 0.0000 for 16 and 13 (Less than four matches)"
       ]
      },
      {
       "output_type": "stream",
       "stream": "stdout",
       "text": [
        "\n",
        "Score: 0.0000 for 16 and 23 (Less than four matches)"
       ]
      },
      {
       "output_type": "stream",
       "stream": "stdout",
       "text": [
        "\n",
        "Score: 0.0547 for 23 and 23"
       ]
      },
      {
       "output_type": "stream",
       "stream": "stdout",
       "text": [
        "\n",
        "Score: 0.0700 for 23 and 32"
       ]
      },
      {
       "output_type": "stream",
       "stream": "stdout",
       "text": [
        "\n",
        "Score: 0.0264 for 23 and 15"
       ]
      },
      {
       "output_type": "stream",
       "stream": "stdout",
       "text": [
        "\n",
        "Score: 0.0257 for 23 and 24"
       ]
      },
      {
       "output_type": "stream",
       "stream": "stdout",
       "text": [
        "\n",
        "Score: 0.0615 for 23 and 25"
       ]
      },
      {
       "output_type": "stream",
       "stream": "stdout",
       "text": [
        "\n",
        "Score: 0.0117 for 23 and 30"
       ]
      },
      {
       "output_type": "stream",
       "stream": "stdout",
       "text": [
        "\n",
        "Score: 0.0000 for 23 and 32 (Less than four matches)"
       ]
      },
      {
       "output_type": "stream",
       "stream": "stdout",
       "text": [
        "\n",
        "['../../images/testsets/Gallagher_small_unresized/23_875.jpg', '../../images/testsets/Gallagher_small_unresized/29_538.jpg']\n",
        "No descriptors found. Returning score 0\n",
        "Score: 0.0099 for 23 and 21"
       ]
      },
      {
       "output_type": "stream",
       "stream": "stdout",
       "text": [
        "\n",
        "Score: 0.0261 for 23 and 20"
       ]
      },
      {
       "output_type": "stream",
       "stream": "stdout",
       "text": [
        "\n",
        "Score: 0.0248 for 23 and 15"
       ]
      },
      {
       "output_type": "stream",
       "stream": "stdout",
       "text": [
        "\n",
        "Score: 0.0150 for 23 and 15"
       ]
      },
      {
       "output_type": "stream",
       "stream": "stdout",
       "text": [
        "\n",
        "Score: 0.0318 for 23 and 19"
       ]
      },
      {
       "output_type": "stream",
       "stream": "stdout",
       "text": [
        "\n",
        "Score: 0.0353 for 23 and 19"
       ]
      },
      {
       "output_type": "stream",
       "stream": "stdout",
       "text": [
        "\n",
        "Score: 0.0084 for 23 and 21"
       ]
      },
      {
       "output_type": "stream",
       "stream": "stdout",
       "text": [
        "\n",
        "Score: 0.0284 for 23 and 26"
       ]
      },
      {
       "output_type": "stream",
       "stream": "stdout",
       "text": [
        "\n",
        "Score: 0.0336 for 23 and 27"
       ]
      },
      {
       "output_type": "stream",
       "stream": "stdout",
       "text": [
        "\n",
        "Score: 0.0151 for 23 and 15"
       ]
      },
      {
       "output_type": "stream",
       "stream": "stdout",
       "text": [
        "\n",
        "Score: 0.0247 for 23 and 15"
       ]
      },
      {
       "output_type": "stream",
       "stream": "stdout",
       "text": [
        "\n",
        "Score: 0.0000 for 23 and 21 (Less than four matches)"
       ]
      },
      {
       "output_type": "stream",
       "stream": "stdout",
       "text": [
        "\n",
        "Score: 0.0000 for 23 and 15 (Less than four matches)"
       ]
      },
      {
       "output_type": "stream",
       "stream": "stdout",
       "text": [
        "\n",
        "Score: 0.0328 for 23 and 16"
       ]
      },
      {
       "output_type": "stream",
       "stream": "stdout",
       "text": [
        "\n",
        "Score: 0.0000 for 23 and 17 (Less than four matches)"
       ]
      },
      {
       "output_type": "stream",
       "stream": "stdout",
       "text": [
        "\n",
        "['../../images/testsets/Gallagher_small_unresized/23_875.jpg', '../../images/testsets/Gallagher_small_unresized/28_537.jpg']\n",
        "No descriptors found. Returning score 0\n",
        "Score: 0.0352 for 23 and 27"
       ]
      },
      {
       "output_type": "stream",
       "stream": "stdout",
       "text": [
        "\n",
        "Score: 0.0152 for 23 and 13"
       ]
      },
      {
       "output_type": "stream",
       "stream": "stdout",
       "text": [
        "\n",
        "Score: 0.0272 for 23 and 23"
       ]
      },
      {
       "output_type": "stream",
       "stream": "stdout",
       "text": [
        "\n",
        "Score: 0.0000 for 23 and 32 (Less than four matches)"
       ]
      },
      {
       "output_type": "stream",
       "stream": "stdout",
       "text": [
        "\n",
        "Score: 0.0221 for 23 and 15"
       ]
      },
      {
       "output_type": "stream",
       "stream": "stdout",
       "text": [
        "\n",
        "Score: 0.0407 for 23 and 24"
       ]
      },
      {
       "output_type": "stream",
       "stream": "stdout",
       "text": [
        "\n",
        "Score: 0.0301 for 23 and 25"
       ]
      },
      {
       "output_type": "stream",
       "stream": "stdout",
       "text": [
        "\n",
        "Score: 0.0329 for 23 and 30"
       ]
      },
      {
       "output_type": "stream",
       "stream": "stdout",
       "text": [
        "\n",
        "Score: 0.0207 for 23 and 32"
       ]
      },
      {
       "output_type": "stream",
       "stream": "stdout",
       "text": [
        "\n",
        "['../../images/testsets/Gallagher_small_unresized/23_549.jpg', '../../images/testsets/Gallagher_small_unresized/29_538.jpg']\n",
        "No descriptors found. Returning score 0\n",
        "Score: 0.0066 for 23 and 21"
       ]
      },
      {
       "output_type": "stream",
       "stream": "stdout",
       "text": [
        "\n",
        "Score: 0.0389 for 23 and 20"
       ]
      },
      {
       "output_type": "stream",
       "stream": "stdout",
       "text": [
        "\n",
        "Score: 0.0251 for 23 and 15"
       ]
      },
      {
       "output_type": "stream",
       "stream": "stdout",
       "text": [
        "\n",
        "Score: 0.0132 for 23 and 15"
       ]
      },
      {
       "output_type": "stream",
       "stream": "stdout",
       "text": [
        "\n",
        "Score: 0.0076 for 23 and 19"
       ]
      },
      {
       "output_type": "stream",
       "stream": "stdout",
       "text": [
        "\n",
        "Score: 0.0454 for 23 and 19"
       ]
      },
      {
       "output_type": "stream",
       "stream": "stdout",
       "text": [
        "\n",
        "Score: 0.0269 for 23 and 21"
       ]
      },
      {
       "output_type": "stream",
       "stream": "stdout",
       "text": [
        "\n",
        "Score: 0.0356 for 23 and 26"
       ]
      },
      {
       "output_type": "stream",
       "stream": "stdout",
       "text": [
        "\n",
        "Score: 0.0418 for 23 and 27"
       ]
      },
      {
       "output_type": "stream",
       "stream": "stdout",
       "text": [
        "\n",
        "Score: 0.0260 for 23 and 15"
       ]
      },
      {
       "output_type": "stream",
       "stream": "stdout",
       "text": [
        "\n",
        "Score: 0.0503 for 23 and 15"
       ]
      },
      {
       "output_type": "stream",
       "stream": "stdout",
       "text": [
        "\n",
        "Score: 0.0000 for 23 and 21 (Less than four matches)"
       ]
      },
      {
       "output_type": "stream",
       "stream": "stdout",
       "text": [
        "\n",
        "Score: 0.0000 for 23 and 15 (Less than four matches)"
       ]
      },
      {
       "output_type": "stream",
       "stream": "stdout",
       "text": [
        "\n",
        "Score: 0.0368 for 23 and 16"
       ]
      },
      {
       "output_type": "stream",
       "stream": "stdout",
       "text": [
        "\n",
        "Score: 0.0172 for 23 and 17"
       ]
      },
      {
       "output_type": "stream",
       "stream": "stdout",
       "text": [
        "\n",
        "['../../images/testsets/Gallagher_small_unresized/23_549.jpg', '../../images/testsets/Gallagher_small_unresized/28_537.jpg']\n",
        "No descriptors found. Returning score 0\n",
        "Score: 0.0380 for 23 and 27"
       ]
      },
      {
       "output_type": "stream",
       "stream": "stdout",
       "text": [
        "\n",
        "Score: 0.0507 for 23 and 13"
       ]
      },
      {
       "output_type": "stream",
       "stream": "stdout",
       "text": [
        "\n",
        "Score: 0.0166 for 23 and 23"
       ]
      },
      {
       "output_type": "stream",
       "stream": "stdout",
       "text": [
        "\n",
        "Score: 0.0000 for 32 and 15 (Less than four matches)"
       ]
      },
      {
       "output_type": "stream",
       "stream": "stdout",
       "text": [
        "\n",
        "Score: 0.0000 for 32 and 24 (Less than four matches)"
       ]
      },
      {
       "output_type": "stream",
       "stream": "stdout",
       "text": [
        "\n",
        "Score: 0.0394 for 32 and 25"
       ]
      },
      {
       "output_type": "stream",
       "stream": "stdout",
       "text": [
        "\n",
        "Score: 0.0000 for 32 and 30 (Less than four matches)"
       ]
      },
      {
       "output_type": "stream",
       "stream": "stdout",
       "text": [
        "\n",
        "Score: 0.0000 for 32 and 32 (Less than four matches)"
       ]
      },
      {
       "output_type": "stream",
       "stream": "stdout",
       "text": [
        "\n",
        "['../../images/testsets/Gallagher_small_unresized/32_648.jpg', '../../images/testsets/Gallagher_small_unresized/29_538.jpg']\n",
        "No descriptors found. Returning score 0\n",
        "Score: 0.0000 for 32 and 21 (Less than four matches)"
       ]
      },
      {
       "output_type": "stream",
       "stream": "stdout",
       "text": [
        "\n",
        "Score: 0.0360 for 32 and 20"
       ]
      },
      {
       "output_type": "stream",
       "stream": "stdout",
       "text": [
        "\n",
        "Score: 0.0000 for 32 and 15 (Less than four matches)"
       ]
      },
      {
       "output_type": "stream",
       "stream": "stdout",
       "text": [
        "\n",
        "Score: 0.0000 for 32 and 15 (Less than four matches)"
       ]
      },
      {
       "output_type": "stream",
       "stream": "stdout",
       "text": [
        "\n",
        "Score: 0.0000 for 32 and 19 (Less than four matches)"
       ]
      },
      {
       "output_type": "stream",
       "stream": "stdout",
       "text": [
        "\n",
        "Score: 0.0000 for 32 and 19 (Less than four matches)"
       ]
      },
      {
       "output_type": "stream",
       "stream": "stdout",
       "text": [
        "\n",
        "Score: 0.0000 for 32 and 21 (Less than four matches)"
       ]
      },
      {
       "output_type": "stream",
       "stream": "stdout",
       "text": [
        "\n",
        "Score: 0.0476 for 32 and 26"
       ]
      },
      {
       "output_type": "stream",
       "stream": "stdout",
       "text": [
        "\n",
        "Score: 0.0000 for 32 and 27 (Less than four matches)"
       ]
      },
      {
       "output_type": "stream",
       "stream": "stdout",
       "text": [
        "\n",
        "Score: 0.0000 for 32 and 15 (Less than four matches)"
       ]
      },
      {
       "output_type": "stream",
       "stream": "stdout",
       "text": [
        "\n",
        "Score: 0.0000 for 32 and 15 (Less than four matches)"
       ]
      },
      {
       "output_type": "stream",
       "stream": "stdout",
       "text": [
        "\n",
        "Score: 0.0000 for 32 and 21 (Less than four matches)"
       ]
      },
      {
       "output_type": "stream",
       "stream": "stdout",
       "text": [
        "\n",
        "Score: 0.0000 for 32 and 15 (Less than four matches)"
       ]
      },
      {
       "output_type": "stream",
       "stream": "stdout",
       "text": [
        "\n",
        "Score: 0.0000 for 32 and 16 (Less than four matches)"
       ]
      },
      {
       "output_type": "stream",
       "stream": "stdout",
       "text": [
        "\n",
        "Score: 0.0000 for 32 and 17 (Less than four matches)"
       ]
      },
      {
       "output_type": "stream",
       "stream": "stdout",
       "text": [
        "\n",
        "['../../images/testsets/Gallagher_small_unresized/32_648.jpg', '../../images/testsets/Gallagher_small_unresized/28_537.jpg']\n",
        "No descriptors found. Returning score 0\n",
        "Score: 0.0000 for 32 and 27 (Less than four matches)"
       ]
      },
      {
       "output_type": "stream",
       "stream": "stdout",
       "text": [
        "\n",
        "Score: 0.0000 for 32 and 13 (Less than four matches)"
       ]
      },
      {
       "output_type": "stream",
       "stream": "stdout",
       "text": [
        "\n",
        "Score: 0.0000 for 32 and 23 (Less than four matches)"
       ]
      },
      {
       "output_type": "stream",
       "stream": "stdout",
       "text": [
        "\n",
        "Score: 0.0000 for 15 and 24 (Less than four matches)"
       ]
      },
      {
       "output_type": "stream",
       "stream": "stdout",
       "text": [
        "\n",
        "Score: 0.0355 for 15 and 25"
       ]
      },
      {
       "output_type": "stream",
       "stream": "stdout",
       "text": [
        "\n",
        "Score: 0.0000 for 15 and 30 (Less than four matches)"
       ]
      },
      {
       "output_type": "stream",
       "stream": "stdout",
       "text": [
        "\n",
        "Score: 0.0614 for 15 and 32"
       ]
      },
      {
       "output_type": "stream",
       "stream": "stdout",
       "text": [
        "\n",
        "['../../images/testsets/Gallagher_small_unresized/15_171.jpg', '../../images/testsets/Gallagher_small_unresized/29_538.jpg']\n",
        "No descriptors found. Returning score 0\n",
        "Score: 0.0000 for 15 and 21 (Less than four matches)"
       ]
      },
      {
       "output_type": "stream",
       "stream": "stdout",
       "text": [
        "\n",
        "Score: 0.0668 for 15 and 20"
       ]
      },
      {
       "output_type": "stream",
       "stream": "stdout",
       "text": [
        "\n",
        "Score: 0.0263 for 15 and 15"
       ]
      },
      {
       "output_type": "stream",
       "stream": "stdout",
       "text": [
        "\n",
        "Score: 0.0000 for 15 and 15 (Less than four matches)"
       ]
      },
      {
       "output_type": "stream",
       "stream": "stdout",
       "text": [
        "\n",
        "Score: 0.0226 for 15 and 19"
       ]
      },
      {
       "output_type": "stream",
       "stream": "stdout",
       "text": [
        "\n",
        "Score: 0.0509 for 15 and 19"
       ]
      },
      {
       "output_type": "stream",
       "stream": "stdout",
       "text": [
        "\n",
        "Score: 0.0000 for 15 and 21 (Less than four matches)"
       ]
      },
      {
       "output_type": "stream",
       "stream": "stdout",
       "text": [
        "\n",
        "Score: 0.0193 for 15 and 26"
       ]
      },
      {
       "output_type": "stream",
       "stream": "stdout",
       "text": [
        "\n",
        "Score: 0.0248 for 15 and 27"
       ]
      },
      {
       "output_type": "stream",
       "stream": "stdout",
       "text": [
        "\n",
        "Score: 0.0580 for 15 and 15"
       ]
      },
      {
       "output_type": "stream",
       "stream": "stdout",
       "text": [
        "\n",
        "Score: 0.0000 for 15 and 15 (Less than four matches)"
       ]
      },
      {
       "output_type": "stream",
       "stream": "stdout",
       "text": [
        "\n",
        "Score: 0.0000 for 15 and 21 (Less than four matches)"
       ]
      },
      {
       "output_type": "stream",
       "stream": "stdout",
       "text": [
        "\n",
        "Score: 0.0000 for 15 and 15 (Less than four matches)"
       ]
      },
      {
       "output_type": "stream",
       "stream": "stdout",
       "text": [
        "\n",
        "Score: 0.0000 for 15 and 16 (Less than four matches)"
       ]
      },
      {
       "output_type": "stream",
       "stream": "stdout",
       "text": [
        "\n",
        "Score: 0.0000 for 15 and 17 (Less than four matches)"
       ]
      },
      {
       "output_type": "stream",
       "stream": "stdout",
       "text": [
        "\n",
        "['../../images/testsets/Gallagher_small_unresized/15_171.jpg', '../../images/testsets/Gallagher_small_unresized/28_537.jpg']\n",
        "No descriptors found. Returning score 0\n",
        "Score: 0.0000 for 15 and 27 (Less than four matches)"
       ]
      },
      {
       "output_type": "stream",
       "stream": "stdout",
       "text": [
        "\n",
        "Score: 0.0000 for 15 and 13 (Less than four matches)"
       ]
      },
      {
       "output_type": "stream",
       "stream": "stdout",
       "text": [
        "\n",
        "Score: 0.0000 for 15 and 23 (Less than four matches)"
       ]
      },
      {
       "output_type": "stream",
       "stream": "stdout",
       "text": [
        "\n",
        "Score: 0.0000 for 24 and 25 (Less than four matches)"
       ]
      },
      {
       "output_type": "stream",
       "stream": "stdout",
       "text": [
        "\n",
        "Score: 0.0000 for 24 and 30 (Less than four matches)"
       ]
      },
      {
       "output_type": "stream",
       "stream": "stdout",
       "text": [
        "\n",
        "Score: 0.0332 for 24 and 32"
       ]
      },
      {
       "output_type": "stream",
       "stream": "stdout",
       "text": [
        "\n",
        "['../../images/testsets/Gallagher_small_unresized/24_358.jpg', '../../images/testsets/Gallagher_small_unresized/29_538.jpg']\n",
        "No descriptors found. Returning score 0\n",
        "Score: 0.0185 for 24 and 21"
       ]
      },
      {
       "output_type": "stream",
       "stream": "stdout",
       "text": [
        "\n",
        "Score: 0.0249 for 24 and 20"
       ]
      },
      {
       "output_type": "stream",
       "stream": "stdout",
       "text": [
        "\n",
        "Score: 0.0000 for 24 and 15 (Less than four matches)"
       ]
      },
      {
       "output_type": "stream",
       "stream": "stdout",
       "text": [
        "\n",
        "Score: 0.0569 for 24 and 15"
       ]
      },
      {
       "output_type": "stream",
       "stream": "stdout",
       "text": [
        "\n",
        "Score: 0.0572 for 24 and 19"
       ]
      },
      {
       "output_type": "stream",
       "stream": "stdout",
       "text": [
        "\n",
        "Score: 0.0000 for 24 and 19 (Less than four matches)"
       ]
      },
      {
       "output_type": "stream",
       "stream": "stdout",
       "text": [
        "\n",
        "Score: 0.0497 for 24 and 21"
       ]
      },
      {
       "output_type": "stream",
       "stream": "stdout",
       "text": [
        "\n",
        "Score: 0.0000 for 24 and 26 (Less than four matches)"
       ]
      },
      {
       "output_type": "stream",
       "stream": "stdout",
       "text": [
        "\n",
        "Score: 0.0000 for 24 and 27 (Less than four matches)"
       ]
      },
      {
       "output_type": "stream",
       "stream": "stdout",
       "text": [
        "\n",
        "Score: 0.0000 for 24 and 15 (Less than four matches)"
       ]
      },
      {
       "output_type": "stream",
       "stream": "stdout",
       "text": [
        "\n",
        "Score: 0.0258 for 24 and 15"
       ]
      },
      {
       "output_type": "stream",
       "stream": "stdout",
       "text": [
        "\n",
        "Score: 0.0000 for 24 and 21 (Less than four matches)"
       ]
      },
      {
       "output_type": "stream",
       "stream": "stdout",
       "text": [
        "\n",
        "Score: 0.0000 for 24 and 15 (Less than four matches)"
       ]
      },
      {
       "output_type": "stream",
       "stream": "stdout",
       "text": [
        "\n",
        "Score: 0.0000 for 24 and 16 (Less than four matches)"
       ]
      },
      {
       "output_type": "stream",
       "stream": "stdout",
       "text": [
        "\n",
        "Score: 0.0000 for 24 and 17 (Less than four matches)"
       ]
      },
      {
       "output_type": "stream",
       "stream": "stdout",
       "text": [
        "\n",
        "['../../images/testsets/Gallagher_small_unresized/24_358.jpg', '../../images/testsets/Gallagher_small_unresized/28_537.jpg']\n",
        "No descriptors found. Returning score 0\n",
        "Score: 0.0000 for 24 and 27 (Less than four matches)"
       ]
      },
      {
       "output_type": "stream",
       "stream": "stdout",
       "text": [
        "\n",
        "Score: 0.0501 for 24 and 13"
       ]
      },
      {
       "output_type": "stream",
       "stream": "stdout",
       "text": [
        "\n",
        "Score: 0.0000 for 24 and 23 (Less than four matches)"
       ]
      },
      {
       "output_type": "stream",
       "stream": "stdout",
       "text": [
        "\n",
        "Score: 0.0310 for 25 and 30"
       ]
      },
      {
       "output_type": "stream",
       "stream": "stdout",
       "text": [
        "\n",
        "Score: 0.0000 for 25 and 32 (Less than four matches)"
       ]
      },
      {
       "output_type": "stream",
       "stream": "stdout",
       "text": [
        "\n",
        "['../../images/testsets/Gallagher_small_unresized/25_458.jpg', '../../images/testsets/Gallagher_small_unresized/29_538.jpg']\n",
        "No descriptors found. Returning score 0\n",
        "Score: 0.0518 for 25 and 21"
       ]
      },
      {
       "output_type": "stream",
       "stream": "stdout",
       "text": [
        "\n",
        "Score: 0.0377 for 25 and 20"
       ]
      },
      {
       "output_type": "stream",
       "stream": "stdout",
       "text": [
        "\n",
        "Score: 0.0506 for 25 and 15"
       ]
      },
      {
       "output_type": "stream",
       "stream": "stdout",
       "text": [
        "\n",
        "Score: 0.0343 for 25 and 15"
       ]
      },
      {
       "output_type": "stream",
       "stream": "stdout",
       "text": [
        "\n",
        "Score: 0.0525 for 25 and 19"
       ]
      },
      {
       "output_type": "stream",
       "stream": "stdout",
       "text": [
        "\n",
        "Score: 0.1126 for 25 and 19"
       ]
      },
      {
       "output_type": "stream",
       "stream": "stdout",
       "text": [
        "\n",
        "Score: 0.0576 for 25 and 21"
       ]
      },
      {
       "output_type": "stream",
       "stream": "stdout",
       "text": [
        "\n",
        "Score: 0.0283 for 25 and 26"
       ]
      },
      {
       "output_type": "stream",
       "stream": "stdout",
       "text": [
        "\n",
        "Score: 0.0428 for 25 and 27"
       ]
      },
      {
       "output_type": "stream",
       "stream": "stdout",
       "text": [
        "\n",
        "Score: 0.0000 for 25 and 15 (Less than four matches)"
       ]
      },
      {
       "output_type": "stream",
       "stream": "stdout",
       "text": [
        "\n",
        "Score: 0.0000 for 25 and 15 (Less than four matches)"
       ]
      },
      {
       "output_type": "stream",
       "stream": "stdout",
       "text": [
        "\n",
        "Score: 0.0000 for 25 and 21 (Less than four matches)"
       ]
      },
      {
       "output_type": "stream",
       "stream": "stdout",
       "text": [
        "\n",
        "Score: 0.0000 for 25 and 15 (Less than four matches)"
       ]
      },
      {
       "output_type": "stream",
       "stream": "stdout",
       "text": [
        "\n",
        "Score: 0.0314 for 25 and 16"
       ]
      },
      {
       "output_type": "stream",
       "stream": "stdout",
       "text": [
        "\n",
        "Score: 0.0000 for 25 and 17 (Less than four matches)"
       ]
      },
      {
       "output_type": "stream",
       "stream": "stdout",
       "text": [
        "\n",
        "['../../images/testsets/Gallagher_small_unresized/25_458.jpg', '../../images/testsets/Gallagher_small_unresized/28_537.jpg']\n",
        "No descriptors found. Returning score 0\n",
        "Score: 0.0250 for 25 and 27"
       ]
      },
      {
       "output_type": "stream",
       "stream": "stdout",
       "text": [
        "\n",
        "Score: 0.0000 for 25 and 13 (Less than four matches)"
       ]
      },
      {
       "output_type": "stream",
       "stream": "stdout",
       "text": [
        "\n",
        "Score: 0.0421 for 25 and 23"
       ]
      },
      {
       "output_type": "stream",
       "stream": "stdout",
       "text": [
        "\n",
        "Score: 0.0268 for 30 and 32"
       ]
      },
      {
       "output_type": "stream",
       "stream": "stdout",
       "text": [
        "\n",
        "['../../images/testsets/Gallagher_small_unresized/30_569.jpg', '../../images/testsets/Gallagher_small_unresized/29_538.jpg']\n",
        "No descriptors found. Returning score 0\n",
        "Score: 0.0354 for 30 and 21"
       ]
      },
      {
       "output_type": "stream",
       "stream": "stdout",
       "text": [
        "\n",
        "Score: 0.0395 for 30 and 20"
       ]
      },
      {
       "output_type": "stream",
       "stream": "stdout",
       "text": [
        "\n",
        "Score: 0.0284 for 30 and 15"
       ]
      },
      {
       "output_type": "stream",
       "stream": "stdout",
       "text": [
        "\n",
        "Score: 0.0376 for 30 and 15"
       ]
      },
      {
       "output_type": "stream",
       "stream": "stdout",
       "text": [
        "\n",
        "Score: 0.0148 for 30 and 19"
       ]
      },
      {
       "output_type": "stream",
       "stream": "stdout",
       "text": [
        "\n",
        "Score: 0.0256 for 30 and 19"
       ]
      },
      {
       "output_type": "stream",
       "stream": "stdout",
       "text": [
        "\n",
        "Score: 0.0338 for 30 and 21"
       ]
      },
      {
       "output_type": "stream",
       "stream": "stdout",
       "text": [
        "\n",
        "Score: 0.0387 for 30 and 26"
       ]
      },
      {
       "output_type": "stream",
       "stream": "stdout",
       "text": [
        "\n",
        "Score: 0.0389 for 30 and 27"
       ]
      },
      {
       "output_type": "stream",
       "stream": "stdout",
       "text": [
        "\n",
        "Score: 0.0160 for 30 and 15"
       ]
      },
      {
       "output_type": "stream",
       "stream": "stdout",
       "text": [
        "\n",
        "Score: 0.0294 for 30 and 15"
       ]
      },
      {
       "output_type": "stream",
       "stream": "stdout",
       "text": [
        "\n",
        "Score: 0.0000 for 30 and 21 (Less than four matches)"
       ]
      },
      {
       "output_type": "stream",
       "stream": "stdout",
       "text": [
        "\n",
        "Score: 0.0000 for 30 and 15 (Less than four matches)"
       ]
      },
      {
       "output_type": "stream",
       "stream": "stdout",
       "text": [
        "\n",
        "Score: 0.0213 for 30 and 16"
       ]
      },
      {
       "output_type": "stream",
       "stream": "stdout",
       "text": [
        "\n",
        "Score: 0.0000 for 30 and 17 (Less than four matches)"
       ]
      },
      {
       "output_type": "stream",
       "stream": "stdout",
       "text": [
        "\n",
        "['../../images/testsets/Gallagher_small_unresized/30_569.jpg', '../../images/testsets/Gallagher_small_unresized/28_537.jpg']\n",
        "No descriptors found. Returning score 0\n",
        "Score: 0.0328 for 30 and 27"
       ]
      },
      {
       "output_type": "stream",
       "stream": "stdout",
       "text": [
        "\n",
        "Score: 0.0441 for 30 and 13"
       ]
      },
      {
       "output_type": "stream",
       "stream": "stdout",
       "text": [
        "\n",
        "Score: 0.0267 for 30 and 23"
       ]
      },
      {
       "output_type": "stream",
       "stream": "stdout",
       "text": [
        "\n",
        "['../../images/testsets/Gallagher_small_unresized/32_645.jpg', '../../images/testsets/Gallagher_small_unresized/29_538.jpg']\n",
        "No descriptors found. Returning score 0\n",
        "Score: 0.0250 for 32 and 21"
       ]
      },
      {
       "output_type": "stream",
       "stream": "stdout",
       "text": [
        "\n",
        "Score: 0.0000 for 32 and 20 (Less than four matches)"
       ]
      },
      {
       "output_type": "stream",
       "stream": "stdout",
       "text": [
        "\n",
        "Score: 0.0135 for 32 and 15"
       ]
      },
      {
       "output_type": "stream",
       "stream": "stdout",
       "text": [
        "\n",
        "Score: 0.0000 for 32 and 15 (Less than four matches)"
       ]
      },
      {
       "output_type": "stream",
       "stream": "stdout",
       "text": [
        "\n",
        "Score: 0.0000 for 32 and 19 (Less than four matches)"
       ]
      },
      {
       "output_type": "stream",
       "stream": "stdout",
       "text": [
        "\n",
        "Score: 0.0000 for 32 and 19 (Less than four matches)"
       ]
      },
      {
       "output_type": "stream",
       "stream": "stdout",
       "text": [
        "\n",
        "Score: 0.0000 for 32 and 21 (Less than four matches)"
       ]
      },
      {
       "output_type": "stream",
       "stream": "stdout",
       "text": [
        "\n",
        "Score: 0.0000 for 32 and 26 (Less than four matches)"
       ]
      },
      {
       "output_type": "stream",
       "stream": "stdout",
       "text": [
        "\n",
        "Score: 0.0000 for 32 and 27 (Less than four matches)"
       ]
      },
      {
       "output_type": "stream",
       "stream": "stdout",
       "text": [
        "\n",
        "Score: 0.0000 for 32 and 15 (Less than four matches)"
       ]
      },
      {
       "output_type": "stream",
       "stream": "stdout",
       "text": [
        "\n",
        "Score: 0.0000 for 32 and 15 (Less than four matches)"
       ]
      },
      {
       "output_type": "stream",
       "stream": "stdout",
       "text": [
        "\n",
        "Score: 0.0000 for 32 and 21 (Less than four matches)"
       ]
      },
      {
       "output_type": "stream",
       "stream": "stdout",
       "text": [
        "\n",
        "Score: 0.0000 for 32 and 15 (Less than four matches)"
       ]
      },
      {
       "output_type": "stream",
       "stream": "stdout",
       "text": [
        "\n",
        "Score: 0.0000 for 32 and 16 (Less than four matches)"
       ]
      },
      {
       "output_type": "stream",
       "stream": "stdout",
       "text": [
        "\n",
        "Score: 0.0000 for 32 and 17 (Less than four matches)"
       ]
      },
      {
       "output_type": "stream",
       "stream": "stdout",
       "text": [
        "\n",
        "['../../images/testsets/Gallagher_small_unresized/32_645.jpg', '../../images/testsets/Gallagher_small_unresized/28_537.jpg']\n",
        "No descriptors found. Returning score 0\n",
        "Score: 0.0000 for 32 and 27 (Less than four matches)"
       ]
      },
      {
       "output_type": "stream",
       "stream": "stdout",
       "text": [
        "\n",
        "Score: 0.0000 for 32 and 13 (Less than four matches)"
       ]
      },
      {
       "output_type": "stream",
       "stream": "stdout",
       "text": [
        "\n",
        "Score: 0.0000 for 32 and 23 (Less than four matches)"
       ]
      },
      {
       "output_type": "stream",
       "stream": "stdout",
       "text": [
        "\n",
        "['../../images/testsets/Gallagher_small_unresized/29_538.jpg', '../../images/testsets/Gallagher_small_unresized/21_251.jpg']\n",
        "No descriptors found. Returning score 0\n",
        "['../../images/testsets/Gallagher_small_unresized/29_538.jpg', '../../images/testsets/Gallagher_small_unresized/20_249.jpg']\n",
        "No descriptors found. Returning score 0\n",
        "['../../images/testsets/Gallagher_small_unresized/29_538.jpg', '../../images/testsets/Gallagher_small_unresized/15_181.jpg']\n",
        "No descriptors found. Returning score 0\n",
        "['../../images/testsets/Gallagher_small_unresized/29_538.jpg', '../../images/testsets/Gallagher_small_unresized/15_158.jpg']\n",
        "No descriptors found. Returning score 0\n",
        "['../../images/testsets/Gallagher_small_unresized/29_538.jpg', '../../images/testsets/Gallagher_small_unresized/19_195.jpg']\n",
        "No descriptors found. Returning score 0\n",
        "['../../images/testsets/Gallagher_small_unresized/29_538.jpg', '../../images/testsets/Gallagher_small_unresized/19_193.jpg']\n",
        "No descriptors found. Returning score 0\n",
        "['../../images/testsets/Gallagher_small_unresized/29_538.jpg', '../../images/testsets/Gallagher_small_unresized/21_287.jpg']\n",
        "No descriptors found. Returning score 0\n",
        "['../../images/testsets/Gallagher_small_unresized/29_538.jpg', '../../images/testsets/Gallagher_small_unresized/26_565.jpg']\n",
        "No descriptors found. Returning score 0\n",
        "['../../images/testsets/Gallagher_small_unresized/29_538.jpg', '../../images/testsets/Gallagher_small_unresized/27_509.jpg']\n",
        "No descriptors found. Returning score 0\n",
        "['../../images/testsets/Gallagher_small_unresized/29_538.jpg', '../../images/testsets/Gallagher_small_unresized/15_169.jpg']\n",
        "No descriptors found. Returning score 0\n",
        "['../../images/testsets/Gallagher_small_unresized/29_538.jpg', '../../images/testsets/Gallagher_small_unresized/15_167.jpg']\n",
        "No descriptors found. Returning score 0\n",
        "['../../images/testsets/Gallagher_small_unresized/29_538.jpg', '../../images/testsets/Gallagher_small_unresized/21_587.jpg']\n",
        "No descriptors found. Returning score 0\n",
        "['../../images/testsets/Gallagher_small_unresized/29_538.jpg', '../../images/testsets/Gallagher_small_unresized/15_222.jpg']\n",
        "No descriptors found. Returning score 0\n",
        "['../../images/testsets/Gallagher_small_unresized/29_538.jpg', '../../images/testsets/Gallagher_small_unresized/16_178.jpg']\n",
        "No descriptors found. Returning score 0\n",
        "['../../images/testsets/Gallagher_small_unresized/29_538.jpg', '../../images/testsets/Gallagher_small_unresized/17_165.jpg']"
       ]
      },
      {
       "output_type": "stream",
       "stream": "stdout",
       "text": [
        "\n",
        "No descriptors found. Returning score 0\n",
        "['../../images/testsets/Gallagher_small_unresized/29_538.jpg', '../../images/testsets/Gallagher_small_unresized/28_537.jpg']\n",
        "No descriptors found. Returning score 0\n",
        "['../../images/testsets/Gallagher_small_unresized/29_538.jpg', '../../images/testsets/Gallagher_small_unresized/27_524.jpg']\n",
        "No descriptors found. Returning score 0\n",
        "['../../images/testsets/Gallagher_small_unresized/29_538.jpg', '../../images/testsets/Gallagher_small_unresized/13_163.jpg']\n",
        "No descriptors found. Returning score 0\n",
        "['../../images/testsets/Gallagher_small_unresized/29_538.jpg', '../../images/testsets/Gallagher_small_unresized/23_302.jpg']\n",
        "No descriptors found. Returning score 0\n",
        "Score: 0.0207 for 21 and 20"
       ]
      },
      {
       "output_type": "stream",
       "stream": "stdout",
       "text": [
        "\n",
        "Score: 0.0752 for 21 and 15"
       ]
      },
      {
       "output_type": "stream",
       "stream": "stdout",
       "text": [
        "\n",
        "Score: 0.0241 for 21 and 15"
       ]
      },
      {
       "output_type": "stream",
       "stream": "stdout",
       "text": [
        "\n",
        "Score: 0.0755 for 21 and 19"
       ]
      },
      {
       "output_type": "stream",
       "stream": "stdout",
       "text": [
        "\n",
        "Score: 0.0327 for 21 and 19"
       ]
      },
      {
       "output_type": "stream",
       "stream": "stdout",
       "text": [
        "\n",
        "Score: 0.0507 for 21 and 21"
       ]
      },
      {
       "output_type": "stream",
       "stream": "stdout",
       "text": [
        "\n",
        "Score: 0.0085 for 21 and 26"
       ]
      },
      {
       "output_type": "stream",
       "stream": "stdout",
       "text": [
        "\n",
        "Score: 0.0584 for 21 and 27"
       ]
      },
      {
       "output_type": "stream",
       "stream": "stdout",
       "text": [
        "\n",
        "Score: 0.0306 for 21 and 15"
       ]
      },
      {
       "output_type": "stream",
       "stream": "stdout",
       "text": [
        "\n",
        "Score: 0.0000 for 21 and 15 (Less than four matches)"
       ]
      },
      {
       "output_type": "stream",
       "stream": "stdout",
       "text": [
        "\n",
        "Score: 0.0000 for 21 and 21 (Less than four matches)"
       ]
      },
      {
       "output_type": "stream",
       "stream": "stdout",
       "text": [
        "\n",
        "Score: 0.0000 for 21 and 15 (Less than four matches)"
       ]
      },
      {
       "output_type": "stream",
       "stream": "stdout",
       "text": [
        "\n",
        "Score: 0.0000 for 21 and 16 (Less than four matches)"
       ]
      },
      {
       "output_type": "stream",
       "stream": "stdout",
       "text": [
        "\n",
        "Score: 0.0000 for 21 and 17 (Less than four matches)"
       ]
      },
      {
       "output_type": "stream",
       "stream": "stdout",
       "text": [
        "\n",
        "['../../images/testsets/Gallagher_small_unresized/21_251.jpg', '../../images/testsets/Gallagher_small_unresized/28_537.jpg']\n",
        "No descriptors found. Returning score 0\n",
        "Score: 0.0259 for 21 and 27"
       ]
      },
      {
       "output_type": "stream",
       "stream": "stdout",
       "text": [
        "\n",
        "Score: 0.0365 for 21 and 13"
       ]
      },
      {
       "output_type": "stream",
       "stream": "stdout",
       "text": [
        "\n",
        "Score: 0.0253 for 21 and 23"
       ]
      },
      {
       "output_type": "stream",
       "stream": "stdout",
       "text": [
        "\n",
        "Score: 0.0539 for 20 and 15"
       ]
      },
      {
       "output_type": "stream",
       "stream": "stdout",
       "text": [
        "\n",
        "Score: 0.0169 for 20 and 15"
       ]
      },
      {
       "output_type": "stream",
       "stream": "stdout",
       "text": [
        "\n",
        "Score: 0.0577 for 20 and 19"
       ]
      },
      {
       "output_type": "stream",
       "stream": "stdout",
       "text": [
        "\n",
        "Score: 0.0000 for 20 and 19 (Less than four matches)"
       ]
      },
      {
       "output_type": "stream",
       "stream": "stdout",
       "text": [
        "\n",
        "Score: 0.0534 for 20 and 21"
       ]
      },
      {
       "output_type": "stream",
       "stream": "stdout",
       "text": [
        "\n",
        "Score: 0.0385 for 20 and 26"
       ]
      },
      {
       "output_type": "stream",
       "stream": "stdout",
       "text": [
        "\n",
        "Score: 0.0000 for 20 and 27 (Less than four matches)"
       ]
      },
      {
       "output_type": "stream",
       "stream": "stdout",
       "text": [
        "\n",
        "Score: 0.0257 for 20 and 15"
       ]
      },
      {
       "output_type": "stream",
       "stream": "stdout",
       "text": [
        "\n",
        "Score: 0.0490 for 20 and 15"
       ]
      },
      {
       "output_type": "stream",
       "stream": "stdout",
       "text": [
        "\n",
        "Score: 0.0000 for 20 and 21 (Less than four matches)"
       ]
      },
      {
       "output_type": "stream",
       "stream": "stdout",
       "text": [
        "\n",
        "Score: 0.0000 for 20 and 15 (Less than four matches)"
       ]
      },
      {
       "output_type": "stream",
       "stream": "stdout",
       "text": [
        "\n",
        "Score: 0.0419 for 20 and 16"
       ]
      },
      {
       "output_type": "stream",
       "stream": "stdout",
       "text": [
        "\n",
        "Score: 0.0000 for 20 and 17 (Less than four matches)"
       ]
      },
      {
       "output_type": "stream",
       "stream": "stdout",
       "text": [
        "\n",
        "['../../images/testsets/Gallagher_small_unresized/20_249.jpg', '../../images/testsets/Gallagher_small_unresized/28_537.jpg']\n",
        "No descriptors found. Returning score 0\n",
        "Score: 0.0234 for 20 and 27"
       ]
      },
      {
       "output_type": "stream",
       "stream": "stdout",
       "text": [
        "\n",
        "Score: 0.0803 for 20 and 13"
       ]
      },
      {
       "output_type": "stream",
       "stream": "stdout",
       "text": [
        "\n",
        "Score: 0.0359 for 20 and 23"
       ]
      },
      {
       "output_type": "stream",
       "stream": "stdout",
       "text": [
        "\n",
        "Score: 0.0139 for 15 and 15"
       ]
      },
      {
       "output_type": "stream",
       "stream": "stdout",
       "text": [
        "\n",
        "Score: 0.0398 for 15 and 19"
       ]
      },
      {
       "output_type": "stream",
       "stream": "stdout",
       "text": [
        "\n",
        "Score: 0.0070 for 15 and 19"
       ]
      },
      {
       "output_type": "stream",
       "stream": "stdout",
       "text": [
        "\n",
        "Score: 0.0411 for 15 and 21"
       ]
      },
      {
       "output_type": "stream",
       "stream": "stdout",
       "text": [
        "\n",
        "Score: 0.0000 for 15 and 26 (Less than four matches)"
       ]
      },
      {
       "output_type": "stream",
       "stream": "stdout",
       "text": [
        "\n",
        "Score: 0.0000 for 15 and 27 (Less than four matches)"
       ]
      },
      {
       "output_type": "stream",
       "stream": "stdout",
       "text": [
        "\n",
        "Score: 0.0000 for 15 and 15 (Less than four matches)"
       ]
      },
      {
       "output_type": "stream",
       "stream": "stdout",
       "text": [
        "\n",
        "Score: 0.0000 for 15 and 15 (Less than four matches)"
       ]
      },
      {
       "output_type": "stream",
       "stream": "stdout",
       "text": [
        "\n",
        "Score: 0.0000 for 15 and 21 (Less than four matches)"
       ]
      },
      {
       "output_type": "stream",
       "stream": "stdout",
       "text": [
        "\n",
        "Score: 0.0000 for 15 and 15 (Less than four matches)"
       ]
      },
      {
       "output_type": "stream",
       "stream": "stdout",
       "text": [
        "\n",
        "Score: 0.0000 for 15 and 16 (Less than four matches)"
       ]
      },
      {
       "output_type": "stream",
       "stream": "stdout",
       "text": [
        "\n",
        "Score: 0.0000 for 15 and 17 (Less than four matches)"
       ]
      },
      {
       "output_type": "stream",
       "stream": "stdout",
       "text": [
        "\n",
        "['../../images/testsets/Gallagher_small_unresized/15_181.jpg', '../../images/testsets/Gallagher_small_unresized/28_537.jpg']\n",
        "No descriptors found. Returning score 0\n",
        "Score: 0.0000 for 15 and 27 (Less than four matches)"
       ]
      },
      {
       "output_type": "stream",
       "stream": "stdout",
       "text": [
        "\n",
        "Score: 0.0252 for 15 and 13"
       ]
      },
      {
       "output_type": "stream",
       "stream": "stdout",
       "text": [
        "\n",
        "Score: 0.0335 for 15 and 23"
       ]
      },
      {
       "output_type": "stream",
       "stream": "stdout",
       "text": [
        "\n",
        "Score: 0.0000 for 15 and 19 (Less than four matches)"
       ]
      },
      {
       "output_type": "stream",
       "stream": "stdout",
       "text": [
        "\n",
        "Score: 0.0000 for 15 and 19 (Less than four matches)"
       ]
      },
      {
       "output_type": "stream",
       "stream": "stdout",
       "text": [
        "\n",
        "Score: 0.0000 for 15 and 21 (Less than four matches)"
       ]
      },
      {
       "output_type": "stream",
       "stream": "stdout",
       "text": [
        "\n",
        "Score: 0.0000 for 15 and 26 (Less than four matches)"
       ]
      },
      {
       "output_type": "stream",
       "stream": "stdout",
       "text": [
        "\n",
        "Score: 0.0000 for 15 and 27 (Less than four matches)"
       ]
      },
      {
       "output_type": "stream",
       "stream": "stdout",
       "text": [
        "\n",
        "Score: 0.0000 for 15 and 15 (Less than four matches)"
       ]
      },
      {
       "output_type": "stream",
       "stream": "stdout",
       "text": [
        "\n",
        "Score: 0.0410 for 15 and 15"
       ]
      },
      {
       "output_type": "stream",
       "stream": "stdout",
       "text": [
        "\n",
        "Score: 0.0000 for 15 and 21 (Less than four matches)"
       ]
      },
      {
       "output_type": "stream",
       "stream": "stdout",
       "text": [
        "\n",
        "Score: 0.0000 for 15 and 15 (Less than four matches)"
       ]
      },
      {
       "output_type": "stream",
       "stream": "stdout",
       "text": [
        "\n",
        "Score: 0.0386 for 15 and 16"
       ]
      },
      {
       "output_type": "stream",
       "stream": "stdout",
       "text": [
        "\n",
        "Score: 0.0000 for 15 and 17 (Less than four matches)"
       ]
      },
      {
       "output_type": "stream",
       "stream": "stdout",
       "text": [
        "\n",
        "['../../images/testsets/Gallagher_small_unresized/15_158.jpg', '../../images/testsets/Gallagher_small_unresized/28_537.jpg']\n",
        "No descriptors found. Returning score 0\n",
        "Score: 0.0000 for 15 and 27 (Less than four matches)"
       ]
      },
      {
       "output_type": "stream",
       "stream": "stdout",
       "text": [
        "\n",
        "Score: 0.0000 for 15 and 13 (Less than four matches)"
       ]
      },
      {
       "output_type": "stream",
       "stream": "stdout",
       "text": [
        "\n",
        "Score: 0.0000 for 15 and 23 (Less than four matches)"
       ]
      },
      {
       "output_type": "stream",
       "stream": "stdout",
       "text": [
        "\n",
        "Score: 0.0451 for 19 and 19"
       ]
      },
      {
       "output_type": "stream",
       "stream": "stdout",
       "text": [
        "\n",
        "Score: 0.0071 for 19 and 21"
       ]
      },
      {
       "output_type": "stream",
       "stream": "stdout",
       "text": [
        "\n",
        "Score: 0.0127 for 19 and 26"
       ]
      },
      {
       "output_type": "stream",
       "stream": "stdout",
       "text": [
        "\n",
        "Score: 0.0428 for 19 and 27"
       ]
      },
      {
       "output_type": "stream",
       "stream": "stdout",
       "text": [
        "\n",
        "Score: 0.0000 for 19 and 15 (Less than four matches)"
       ]
      },
      {
       "output_type": "stream",
       "stream": "stdout",
       "text": [
        "\n",
        "Score: 0.0303 for 19 and 15"
       ]
      },
      {
       "output_type": "stream",
       "stream": "stdout",
       "text": [
        "\n",
        "Score: 0.0000 for 19 and 21 (Less than four matches)"
       ]
      },
      {
       "output_type": "stream",
       "stream": "stdout",
       "text": [
        "\n",
        "Score: 0.0000 for 19 and 15 (Less than four matches)"
       ]
      },
      {
       "output_type": "stream",
       "stream": "stdout",
       "text": [
        "\n",
        "Score: 0.0000 for 19 and 16 (Less than four matches)"
       ]
      },
      {
       "output_type": "stream",
       "stream": "stdout",
       "text": [
        "\n",
        "Score: 0.0000 for 19 and 17 (Less than four matches)"
       ]
      },
      {
       "output_type": "stream",
       "stream": "stdout",
       "text": [
        "\n",
        "['../../images/testsets/Gallagher_small_unresized/19_195.jpg', '../../images/testsets/Gallagher_small_unresized/28_537.jpg']\n",
        "No descriptors found. Returning score 0\n",
        "Score: 0.0094 for 19 and 27"
       ]
      },
      {
       "output_type": "stream",
       "stream": "stdout",
       "text": [
        "\n",
        "Score: 0.0000 for 19 and 13 (Less than four matches)"
       ]
      },
      {
       "output_type": "stream",
       "stream": "stdout",
       "text": [
        "\n",
        "Score: 0.0000 for 19 and 23 (Less than four matches)"
       ]
      },
      {
       "output_type": "stream",
       "stream": "stdout",
       "text": [
        "\n",
        "Score: 0.0494 for 19 and 21"
       ]
      },
      {
       "output_type": "stream",
       "stream": "stdout",
       "text": [
        "\n",
        "Score: 0.0096 for 19 and 26"
       ]
      },
      {
       "output_type": "stream",
       "stream": "stdout",
       "text": [
        "\n",
        "Score: 0.0552 for 19 and 27"
       ]
      },
      {
       "output_type": "stream",
       "stream": "stdout",
       "text": [
        "\n",
        "Score: 0.0115 for 19 and 15"
       ]
      },
      {
       "output_type": "stream",
       "stream": "stdout",
       "text": [
        "\n",
        "Score: 0.0000 for 19 and 15 (Less than four matches)"
       ]
      },
      {
       "output_type": "stream",
       "stream": "stdout",
       "text": [
        "\n",
        "Score: 0.0000 for 19 and 21 (Less than four matches)"
       ]
      },
      {
       "output_type": "stream",
       "stream": "stdout",
       "text": [
        "\n",
        "Score: 0.0000 for 19 and 15 (Less than four matches)"
       ]
      },
      {
       "output_type": "stream",
       "stream": "stdout",
       "text": [
        "\n",
        "Score: 0.0261 for 19 and 16"
       ]
      },
      {
       "output_type": "stream",
       "stream": "stdout",
       "text": [
        "\n",
        "Score: 0.0000 for 19 and 17 (Less than four matches)"
       ]
      },
      {
       "output_type": "stream",
       "stream": "stdout",
       "text": [
        "\n",
        "['../../images/testsets/Gallagher_small_unresized/19_193.jpg', '../../images/testsets/Gallagher_small_unresized/28_537.jpg']\n",
        "No descriptors found. Returning score 0\n",
        "Score: 0.0190 for 19 and 27"
       ]
      },
      {
       "output_type": "stream",
       "stream": "stdout",
       "text": [
        "\n",
        "Score: 0.0000 for 19 and 13 (Less than four matches)"
       ]
      },
      {
       "output_type": "stream",
       "stream": "stdout",
       "text": [
        "\n",
        "Score: 0.0000 for 19 and 23 (Less than four matches)"
       ]
      },
      {
       "output_type": "stream",
       "stream": "stdout",
       "text": [
        "\n",
        "Score: 0.0173 for 21 and 26"
       ]
      },
      {
       "output_type": "stream",
       "stream": "stdout",
       "text": [
        "\n",
        "Score: 0.0000 for 21 and 27 (Less than four matches)"
       ]
      },
      {
       "output_type": "stream",
       "stream": "stdout",
       "text": [
        "\n",
        "Score: 0.0458 for 21 and 15"
       ]
      },
      {
       "output_type": "stream",
       "stream": "stdout",
       "text": [
        "\n",
        "Score: 0.0240 for 21 and 15"
       ]
      },
      {
       "output_type": "stream",
       "stream": "stdout",
       "text": [
        "\n",
        "Score: 0.0726 for 21 and 21"
       ]
      },
      {
       "output_type": "stream",
       "stream": "stdout",
       "text": [
        "\n",
        "Score: 0.0000 for 21 and 15 (Less than four matches)"
       ]
      },
      {
       "output_type": "stream",
       "stream": "stdout",
       "text": [
        "\n",
        "Score: 0.0210 for 21 and 16"
       ]
      },
      {
       "output_type": "stream",
       "stream": "stdout",
       "text": [
        "\n",
        "Score: 0.0000 for 21 and 17 (Less than four matches)"
       ]
      },
      {
       "output_type": "stream",
       "stream": "stdout",
       "text": [
        "\n",
        "['../../images/testsets/Gallagher_small_unresized/21_287.jpg', '../../images/testsets/Gallagher_small_unresized/28_537.jpg']\n",
        "No descriptors found. Returning score 0\n",
        "Score: 0.0212 for 21 and 27"
       ]
      },
      {
       "output_type": "stream",
       "stream": "stdout",
       "text": [
        "\n",
        "Score: 0.0437 for 21 and 13"
       ]
      },
      {
       "output_type": "stream",
       "stream": "stdout",
       "text": [
        "\n",
        "Score: 0.0148 for 21 and 23"
       ]
      },
      {
       "output_type": "stream",
       "stream": "stdout",
       "text": [
        "\n",
        "Score: 0.0179 for 26 and 27"
       ]
      },
      {
       "output_type": "stream",
       "stream": "stdout",
       "text": [
        "\n",
        "Score: 0.0276 for 26 and 15"
       ]
      },
      {
       "output_type": "stream",
       "stream": "stdout",
       "text": [
        "\n",
        "Score: 0.0234 for 26 and 15"
       ]
      },
      {
       "output_type": "stream",
       "stream": "stdout",
       "text": [
        "\n",
        "Score: 0.0235 for 26 and 21"
       ]
      },
      {
       "output_type": "stream",
       "stream": "stdout",
       "text": [
        "\n",
        "Score: 0.0000 for 26 and 15 (Less than four matches)"
       ]
      },
      {
       "output_type": "stream",
       "stream": "stdout",
       "text": [
        "\n",
        "Score: 0.0000 for 26 and 16 (Less than four matches)"
       ]
      },
      {
       "output_type": "stream",
       "stream": "stdout",
       "text": [
        "\n",
        "Score: 0.0000 for 26 and 17 (Less than four matches)"
       ]
      },
      {
       "output_type": "stream",
       "stream": "stdout",
       "text": [
        "\n",
        "['../../images/testsets/Gallagher_small_unresized/26_565.jpg', '../../images/testsets/Gallagher_small_unresized/28_537.jpg']\n",
        "No descriptors found. Returning score 0\n",
        "Score: 0.0156 for 26 and 27"
       ]
      },
      {
       "output_type": "stream",
       "stream": "stdout",
       "text": [
        "\n",
        "Score: 0.0142 for 26 and 13"
       ]
      },
      {
       "output_type": "stream",
       "stream": "stdout",
       "text": [
        "\n",
        "Score: 0.0116 for 26 and 23"
       ]
      },
      {
       "output_type": "stream",
       "stream": "stdout",
       "text": [
        "\n",
        "Score: 0.0460 for 27 and 15"
       ]
      },
      {
       "output_type": "stream",
       "stream": "stdout",
       "text": [
        "\n",
        "Score: 0.0152 for 27 and 15"
       ]
      },
      {
       "output_type": "stream",
       "stream": "stdout",
       "text": [
        "\n",
        "Score: 0.0496 for 27 and 21"
       ]
      },
      {
       "output_type": "stream",
       "stream": "stdout",
       "text": [
        "\n",
        "Score: 0.0000 for 27 and 15 (Less than four matches)"
       ]
      },
      {
       "output_type": "stream",
       "stream": "stdout",
       "text": [
        "\n",
        "Score: 0.0000 for 27 and 16 (Less than four matches)"
       ]
      },
      {
       "output_type": "stream",
       "stream": "stdout",
       "text": [
        "\n",
        "Score: 0.0000 for 27 and 17 (Less than four matches)"
       ]
      },
      {
       "output_type": "stream",
       "stream": "stdout",
       "text": [
        "\n",
        "['../../images/testsets/Gallagher_small_unresized/27_509.jpg', '../../images/testsets/Gallagher_small_unresized/28_537.jpg']\n",
        "No descriptors found. Returning score 0\n",
        "Score: 0.0000 for 27 and 27 (Less than four matches)"
       ]
      },
      {
       "output_type": "stream",
       "stream": "stdout",
       "text": [
        "\n",
        "Score: 0.0000 for 27 and 13 (Less than four matches)"
       ]
      },
      {
       "output_type": "stream",
       "stream": "stdout",
       "text": [
        "\n",
        "Score: 0.0000 for 27 and 23 (Less than four matches)"
       ]
      },
      {
       "output_type": "stream",
       "stream": "stdout",
       "text": [
        "\n",
        "Score: 0.0000 for 15 and 15 (Less than four matches)"
       ]
      },
      {
       "output_type": "stream",
       "stream": "stdout",
       "text": [
        "\n",
        "Score: 0.0000 for 15 and 21 (Less than four matches)"
       ]
      },
      {
       "output_type": "stream",
       "stream": "stdout",
       "text": [
        "\n",
        "Score: 0.0000 for 15 and 15 (Less than four matches)"
       ]
      },
      {
       "output_type": "stream",
       "stream": "stdout",
       "text": [
        "\n",
        "Score: 0.0000 for 15 and 16 (Less than four matches)"
       ]
      },
      {
       "output_type": "stream",
       "stream": "stdout",
       "text": [
        "\n",
        "Score: 0.0000 for 15 and 17 (Less than four matches)"
       ]
      },
      {
       "output_type": "stream",
       "stream": "stdout",
       "text": [
        "\n",
        "['../../images/testsets/Gallagher_small_unresized/15_169.jpg', '../../images/testsets/Gallagher_small_unresized/28_537.jpg']\n",
        "No descriptors found. Returning score 0\n",
        "Score: 0.0296 for 15 and 27"
       ]
      },
      {
       "output_type": "stream",
       "stream": "stdout",
       "text": [
        "\n",
        "Score: 0.0168 for 15 and 13"
       ]
      },
      {
       "output_type": "stream",
       "stream": "stdout",
       "text": [
        "\n",
        "Score: 0.0000 for 15 and 23 (Less than four matches)"
       ]
      },
      {
       "output_type": "stream",
       "stream": "stdout",
       "text": [
        "\n",
        "Score: 0.0000 for 15 and 21 (Less than four matches)"
       ]
      },
      {
       "output_type": "stream",
       "stream": "stdout",
       "text": [
        "\n",
        "Score: 0.0000 for 15 and 15 (Less than four matches)"
       ]
      },
      {
       "output_type": "stream",
       "stream": "stdout",
       "text": [
        "\n",
        "Score: 0.0246 for 15 and 16"
       ]
      },
      {
       "output_type": "stream",
       "stream": "stdout",
       "text": [
        "\n",
        "Score: 0.0000 for 15 and 17 (Less than four matches)"
       ]
      },
      {
       "output_type": "stream",
       "stream": "stdout",
       "text": [
        "\n",
        "['../../images/testsets/Gallagher_small_unresized/15_167.jpg', '../../images/testsets/Gallagher_small_unresized/28_537.jpg']\n",
        "No descriptors found. Returning score 0\n",
        "Score: 0.0000 for 15 and 27 (Less than four matches)"
       ]
      },
      {
       "output_type": "stream",
       "stream": "stdout",
       "text": [
        "\n",
        "Score: 0.0417 for 15 and 13"
       ]
      },
      {
       "output_type": "stream",
       "stream": "stdout",
       "text": [
        "\n",
        "Score: 0.0191 for 15 and 23"
       ]
      },
      {
       "output_type": "stream",
       "stream": "stdout",
       "text": [
        "\n",
        "Score: 0.0000 for 21 and 15 (Less than four matches)"
       ]
      },
      {
       "output_type": "stream",
       "stream": "stdout",
       "text": [
        "\n",
        "Score: 0.0379 for 21 and 16"
       ]
      },
      {
       "output_type": "stream",
       "stream": "stdout",
       "text": [
        "\n",
        "Score: 0.0000 for 21 and 17 (Less than four matches)"
       ]
      },
      {
       "output_type": "stream",
       "stream": "stdout",
       "text": [
        "\n",
        "['../../images/testsets/Gallagher_small_unresized/21_587.jpg', '../../images/testsets/Gallagher_small_unresized/28_537.jpg']\n",
        "No descriptors found. Returning score 0\n",
        "Score: 0.0576 for 21 and 27"
       ]
      },
      {
       "output_type": "stream",
       "stream": "stdout",
       "text": [
        "\n",
        "Score: 0.0000 for 21 and 13 (Less than four matches)"
       ]
      },
      {
       "output_type": "stream",
       "stream": "stdout",
       "text": [
        "\n",
        "Score: 0.0000 for 21 and 23 (Less than four matches)"
       ]
      },
      {
       "output_type": "stream",
       "stream": "stdout",
       "text": [
        "\n",
        "Score: 0.0000 for 15 and 16 (Less than four matches)"
       ]
      },
      {
       "output_type": "stream",
       "stream": "stdout",
       "text": [
        "\n",
        "Score: 0.0000 for 15 and 17 (Less than four matches)"
       ]
      },
      {
       "output_type": "stream",
       "stream": "stdout",
       "text": [
        "\n",
        "['../../images/testsets/Gallagher_small_unresized/15_222.jpg', '../../images/testsets/Gallagher_small_unresized/28_537.jpg']\n",
        "No descriptors found. Returning score 0\n",
        "Score: 0.0000 for 15 and 27 (Less than four matches)"
       ]
      },
      {
       "output_type": "stream",
       "stream": "stdout",
       "text": [
        "\n",
        "Score: 0.0000 for 15 and 13 (Less than four matches)"
       ]
      },
      {
       "output_type": "stream",
       "stream": "stdout",
       "text": [
        "\n",
        "Score: 0.0000 for 15 and 23 (Less than four matches)"
       ]
      },
      {
       "output_type": "stream",
       "stream": "stdout",
       "text": [
        "\n",
        "Score: 0.0000 for 16 and 17 (Less than four matches)"
       ]
      },
      {
       "output_type": "stream",
       "stream": "stdout",
       "text": [
        "\n",
        "['../../images/testsets/Gallagher_small_unresized/16_178.jpg', '../../images/testsets/Gallagher_small_unresized/28_537.jpg']\n",
        "No descriptors found. Returning score 0\n",
        "Score: 0.0000 for 16 and 27 (Less than four matches)"
       ]
      },
      {
       "output_type": "stream",
       "stream": "stdout",
       "text": [
        "\n",
        "Score: 0.0000 for 16 and 13 (Less than four matches)"
       ]
      },
      {
       "output_type": "stream",
       "stream": "stdout",
       "text": [
        "\n",
        "Score: 0.0371 for 16 and 23"
       ]
      },
      {
       "output_type": "stream",
       "stream": "stdout",
       "text": [
        "\n",
        "['../../images/testsets/Gallagher_small_unresized/17_165.jpg', '../../images/testsets/Gallagher_small_unresized/28_537.jpg']\n",
        "No descriptors found. Returning score 0\n",
        "Score: 0.0000 for 17 and 27 (Less than four matches)"
       ]
      },
      {
       "output_type": "stream",
       "stream": "stdout",
       "text": [
        "\n",
        "Score: 0.0000 for 17 and 13 (Less than four matches)"
       ]
      },
      {
       "output_type": "stream",
       "stream": "stdout",
       "text": [
        "\n",
        "Score: 0.0000 for 17 and 23 (Less than four matches)"
       ]
      },
      {
       "output_type": "stream",
       "stream": "stdout",
       "text": [
        "\n",
        "['../../images/testsets/Gallagher_small_unresized/28_537.jpg', '../../images/testsets/Gallagher_small_unresized/27_524.jpg']\n",
        "No descriptors found. Returning score 0\n",
        "['../../images/testsets/Gallagher_small_unresized/28_537.jpg', '../../images/testsets/Gallagher_small_unresized/13_163.jpg']\n",
        "No descriptors found. Returning score 0\n",
        "['../../images/testsets/Gallagher_small_unresized/28_537.jpg', '../../images/testsets/Gallagher_small_unresized/23_302.jpg']\n",
        "No descriptors found. Returning score 0\n",
        "Score: 0.0256 for 27 and 13"
       ]
      },
      {
       "output_type": "stream",
       "stream": "stdout",
       "text": [
        "\n",
        "Score: 0.0069 for 27 and 23"
       ]
      },
      {
       "output_type": "stream",
       "stream": "stdout",
       "text": [
        "\n",
        "Score: 0.0262 for 13 and 23"
       ]
      },
      {
       "output_type": "stream",
       "stream": "stdout",
       "text": [
        "\n"
       ]
      }
     ],
     "prompt_number": 3
    },
    {
     "cell_type": "code",
     "collapsed": false,
     "input": [
      "print(result[0][2])\n",
      "print(result[1][2])\n",
      "\n",
      "r = [(b,s) for b,s,p in result]\n",
      "display.scoreHist(r)\n"
     ],
     "language": "python",
     "metadata": {},
     "outputs": [
      {
       "output_type": "stream",
       "stream": "stdout",
       "text": [
        "('../../images/testsets/Gallagher_small_unresized/32_842.jpg', '../../images/testsets/Gallagher_small_unresized/27_536.jpg')\n",
        "('../../images/testsets/Gallagher_small_unresized/32_842.jpg', '../../images/testsets/Gallagher_small_unresized/23_523.jpg')\n",
        "Mean(same):\t\t0.023\n",
        "Mean(diff):\t\t0.012\n",
        "Diff of means:\t\t0.011\n",
        "Standard deviation:\t0.022\n",
        "# of sd's:\t\t0.511\n"
       ]
      },
      {
       "output_type": "display_data",
       "png": "[encoded data removed]"
      }
     ],
     "prompt_number": 4
    },
    {
     "cell_type": "code",
     "collapsed": false,
     "input": [
      "import weightMatrix\n",
      "rm = weightMatrix.resultMatrix(all_paths, result)\n",
      "labels = numpy.array(map(features.getLabel, all_paths))\n",
      "display.scoreRatioHist(rm, labels)"
     ],
     "language": "python",
     "metadata": {},
     "outputs": [
      {
       "ename": "AttributeError",
       "evalue": "'module' object has no attribute 'scoreRatioHist'",
       "output_type": "pyerr",
       "traceback": [
        "\u001b[0;31m---------------------------------------------------------------------------\u001b[0m\n\u001b[0;31mAttributeError\u001b[0m                            Traceback (most recent call last)",
        "\u001b[0;32m<ipython-input-5-c8b54bfbbc4e>\u001b[0m in \u001b[0;36m<module>\u001b[0;34m()\u001b[0m\n\u001b[1;32m      2\u001b[0m \u001b[0mrm\u001b[0m \u001b[0;34m=\u001b[0m \u001b[0mweightMatrix\u001b[0m\u001b[0;34m.\u001b[0m\u001b[0mresultMatrix\u001b[0m\u001b[0;34m(\u001b[0m\u001b[0mall_paths\u001b[0m\u001b[0;34m,\u001b[0m \u001b[0mresult\u001b[0m\u001b[0;34m)\u001b[0m\u001b[0;34m\u001b[0m\u001b[0m\n\u001b[1;32m      3\u001b[0m \u001b[0mlabels\u001b[0m \u001b[0;34m=\u001b[0m \u001b[0mnumpy\u001b[0m\u001b[0;34m.\u001b[0m\u001b[0marray\u001b[0m\u001b[0;34m(\u001b[0m\u001b[0mmap\u001b[0m\u001b[0;34m(\u001b[0m\u001b[0mfeatures\u001b[0m\u001b[0;34m.\u001b[0m\u001b[0mgetLabel\u001b[0m\u001b[0;34m,\u001b[0m \u001b[0mall_paths\u001b[0m\u001b[0;34m)\u001b[0m\u001b[0;34m)\u001b[0m\u001b[0;34m\u001b[0m\u001b[0m\n\u001b[0;32m----> 4\u001b[0;31m \u001b[0mdisplay\u001b[0m\u001b[0;34m.\u001b[0m\u001b[0mscoreRatioHist\u001b[0m\u001b[0;34m(\u001b[0m\u001b[0mrm\u001b[0m\u001b[0;34m,\u001b[0m \u001b[0mlabels\u001b[0m\u001b[0;34m)\u001b[0m\u001b[0;34m\u001b[0m\u001b[0m\n\u001b[0m",
        "\u001b[0;31mAttributeError\u001b[0m: 'module' object has no attribute 'scoreRatioHist'"
       ]
      }
     ],
     "prompt_number": 5
    }
   ],
   "metadata": {}
  }
 ]
}
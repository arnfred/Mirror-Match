{
 "metadata": {
  "name": "Cluster-Test"
 },
 "nbformat": 3,
 "nbformat_minor": 0,
 "worksheets": [
  {
   "cells": [
    {
     "cell_type": "code",
     "collapsed": false,
     "input": [
      "#Stupid hack to load files from sibling dir\n",
      "import sys; import os\n",
      "sys.path.insert(0, os.path.abspath('..'))"
     ],
     "language": "python",
     "metadata": {},
     "outputs": [],
     "prompt_number": 203
    },
    {
     "cell_type": "code",
     "collapsed": false,
     "input": [
      "import os\n",
      "import fnmatch\n",
      "import features\n",
      "import cluster\n",
      "from random import sample\n",
      "\n",
      "# testset = \"../../images/testsets/WC818C/\"\n",
      "testset = \"../../images/testsets/small_test/\"\n",
      "\n",
      "# Get a list of all images\n",
      "all_paths = [testset + f for (_,_,filenames) in os.walk(testset) for f in fnmatch.filter(filenames, \"*.png\")]\n",
      "paths = sample(all_paths, 2)"
     ],
     "language": "python",
     "metadata": {},
     "outputs": [],
     "prompt_number": 204
    },
    {
     "cell_type": "code",
     "collapsed": false,
     "input": [
      "indices, keypoints, descriptors = cluster.getDescriptors(paths)\n",
      "images = map(features.loadImage, paths)\n",
      "labels = map(features.getLabel, paths)\n",
      "print(labels)"
     ],
     "language": "python",
     "metadata": {},
     "outputs": [
      {
       "output_type": "stream",
       "stream": "stdout",
       "text": [
        "['Anna Kournikova', 'Bill Gates']\n"
       ]
      }
     ],
     "prompt_number": 205
    },
    {
     "cell_type": "code",
     "collapsed": false,
     "input": [
      "# Trim graph and add edges\n",
      "graph = cluster.initGraph(descriptors, indices)"
     ],
     "language": "python",
     "metadata": {},
     "outputs": [],
     "prompt_number": 206
    },
    {
     "cell_type": "code",
     "collapsed": false,
     "input": [
      "cluster.setPositions(graph, keypoints)"
     ],
     "language": "python",
     "metadata": {},
     "outputs": [
      {
       "output_type": "pyout",
       "prompt_number": 207,
       "text": [
        "<Graph object, undirected, with 318 vertices and 50403 edges at 0x4f96a10>"
       ]
      }
     ],
     "prompt_number": 207
    },
    {
     "cell_type": "code",
     "collapsed": false,
     "input": [
      "# Prune graph for links\n",
      "graph_pruned = cluster.prune(graph, 2)"
     ],
     "language": "python",
     "metadata": {},
     "outputs": [
      {
       "output_type": "stream",
       "stream": "stdout",
       "text": [
        "7 nodes pruned\n"
       ]
      }
     ],
     "prompt_number": 208
    },
    {
     "cell_type": "code",
     "collapsed": false,
     "input": [
      "# Cluster graph\n",
      "clusters = cluster.cluster(graph_pruned)"
     ],
     "language": "python",
     "metadata": {},
     "outputs": [],
     "prompt_number": 209
    },
    {
     "cell_type": "code",
     "collapsed": false,
     "input": [
      "# Show result of clustering\n",
      "cluster.show(graph_pruned, clusters)"
     ],
     "language": "python",
     "metadata": {},
     "outputs": [
      {
       "output_type": "stream",
       "stream": "stdout",
       "text": [
        "array([-32.86584935,  68.85116125])\n"
       ]
      }
     ],
     "prompt_number": 210
    },
    {
     "cell_type": "code",
     "collapsed": false,
     "input": [
      "cluster.showClusters(graph_pruned, clusters)"
     ],
     "language": "python",
     "metadata": {},
     "outputs": [
      {
       "output_type": "stream",
       "stream": "stdout",
       "text": [
        "array([ 34.52892149, -95.91010297])\n"
       ]
      }
     ],
     "prompt_number": 211
    },
    {
     "cell_type": "code",
     "collapsed": false,
     "input": [
      "kPart = cluster.partitionKeypoints(graph_pruned, keypoints, clusters)\n",
      "print(kPart[0][0])"
     ],
     "language": "python",
     "metadata": {},
     "outputs": [
      {
       "output_type": "stream",
       "stream": "stdout",
       "text": [
        "[(<Vertex object with index '1' at 0x3781150>, <KeyPoint 0x4fb65a0>), (<Vertex object with index '5' at 0x4f92350>, <KeyPoint 0x4fb6660>), (<Vertex object with index '8' at 0x4f923d0>, <KeyPoint 0x4fb66f0>), (<Vertex object with index '31' at 0x4f9c550>, <KeyPoint 0x4fb6b40>), (<Vertex object with index '32' at 0x4f9c5d0>, <KeyPoint 0x4fb6b70>), (<Vertex object with index '36' at 0x4f9c7d0>, <KeyPoint 0x4fb6c30>), (<Vertex object with index '37' at 0x4f9c850>, <KeyPoint 0x4fb6c60>)]\n"
       ]
      }
     ],
     "prompt_number": 212
    },
    {
     "cell_type": "code",
     "collapsed": false,
     "input": [
      "import display\n",
      "from itertools import groupby\n",
      "print(labels)\n",
      "#print(sorted(kPart, lambda  l,k=None : len(l)))\n",
      "c = kPart[0]\n",
      "pos_prop = graph_pruned.vertex_properties[\"positions\"]\n",
      "ind_prop = graph_pruned.vertex_properties[\"indices\"]\n",
      "positions_all = [(ind_prop[v],pos_prop[v]) for v in graph_pruned.vertices()]\n",
      "positions_grouped = [[pos for (index,pos) in g] for k,g in groupby(sorted(positions_all), lambda e : e[0])]\n",
      "print(positions_grouped)\n",
      "\n",
      "v,k = zip(*c[0])\n",
      "\n",
      "\n",
      "\n",
      "\n",
      "#positions1 = ([numpy.array(pos_prop[v]) for v in graph_pruned.vertices() if ind_prop[v] == 1])\n",
      "\n",
      "#display.compareKeypoints(images[0], images[1], positions0, positions1) # c[0] = (vertex, keypoint)"
     ],
     "language": "python",
     "metadata": {},
     "outputs": [
      {
       "output_type": "stream",
       "stream": "stdout",
       "text": [
        "['Anna Kournikova', 'Bill Gates']\n",
        "[[array([ 53.28000259,  48.9600029 ]), array([ 56.16000366,  56.16000366]), array([ 61.92000198,  57.60000229]), array([ 89.28000641,  59.04000092]), array([ 87.84000397,  77.76000214]), array([ 86.40000153,  83.52000427]), array([ 63.36000061,  87.84000397]), array([ 84.96000671,  90.72000122]), array([ 80.63999939,  96.48000336]), array([ 72.        ,  99.36000061]), array([  82.08000183,  100.80000305]), array([  69.12000275,  103.68000793]), array([ 63.93600464,  58.75200653]), array([ 89.85601044,  58.75200653]), array([ 88.12800598,  77.76000977]), array([ 86.40000916,  84.6720047 ]), array([ 63.93600464,  88.12800598]), array([ 77.76000977,  88.12800598]), array([ 84.6720047 ,  91.58400726]), array([ 65.66400909,  95.04000854]), array([ 98.,  46.]), array([ 46.,  42.]), array([ 63.,  48.]), array([ 38.,  50.]), array([ 56.,  50.]), array([ 34.,  53.]), array([ 38.,  53.]), array([ 57.,  53.]), array([ 100.,   53.]), array([ 64.,  55.]), array([ 56.,  56.]), array([ 53.,  57.]), array([ 63.,  58.]), array([ 115.,   58.]), array([ 89.,  60.]), array([ 87.,  84.]), array([ 64.,  88.]), array([ 86.,  92.]), array([ 89.,  93.]), array([ 85.,  94.]), array([ 82.,  96.]), array([ 53.,  49.]), array([  70.,  106.]), array([  60.,  107.]), array([  77.,  108.]), array([  83.,  110.]), array([  60.,  116.]), array([ 46.80000305,  42.        ]), array([ 97.20000458,  45.60000229]), array([ 62.40000153,  48.        ]), array([ 52.80000305,  49.20000076]), array([ 39.60000229,  50.40000153]), array([ 38.40000153,  52.80000305]), array([ 57.60000229,  52.80000305]), array([ 100.80000305,   52.80000305]), array([ 63.60000229,  54.00000381]), array([ 56.40000153,  56.40000153]), array([ 63.60000229,  58.80000305]), array([ 88.80000305,  60.00000381]), array([ 64.80000305,  87.6000061 ]), array([ 75.6000061,  87.6000061]), array([ 88.80000305,  87.6000061 ]), array([ 64.80000305,  94.80000305]), array([ 80.40000153,  96.        ]), array([ 72.       ,  99.6000061]), array([ 78.       ,  99.6000061]), array([  81.6000061 ,  100.80000305]), array([  68.40000153,  103.20000458]), array([  69.6000061,  105.6000061]), array([  60.00000381,  106.80000305]), array([  76.80000305,  108.00000763]), array([  82.80000305,  110.40000153]), array([ 96.48000336,  44.6400032 ]), array([ 61.92000198,  47.52000046]), array([ 80.,  97.]), array([ 70.,  99.]), array([  78.,  100.]), array([  69.,  104.])], [array([ 67.,  32.]), array([ 60.,  64.]), array([ 66.,  64.]), array([ 52.,  65.]), array([ 64.,  65.]), array([ 84.,  65.]), array([ 69.,  66.]), array([ 79.,  66.]), array([ 37.,  68.]), array([ 55.,  68.]), array([ 58.,  68.]), array([ 61.,  68.]), array([ 85.,  68.]), array([ 51.,  71.]), array([ 60.,  71.]), array([ 93.,  71.]), array([ 36.,  72.]), array([ 38.,  79.]), array([ 46.,  79.]), array([ 61.,  79.]), array([ 47.,  82.]), array([ 84.,  83.]), array([ 39.,  84.]), array([ 51.,  84.]), array([ 66.,  85.]), array([ 67.,  87.]), array([ 85.,  88.]), array([ 71.,  89.]), array([ 81.,  89.]), array([ 92.,  89.]), array([ 39.,  90.]), array([ 68.,  91.]), array([ 41.,  92.]), array([ 84.,  92.]), array([ 64.,  93.]), array([ 71.,  94.]), array([ 76.,  94.]), array([ 57.02400589,  67.39200592]), array([ 70.8480072 ,  69.12001038]), array([ 74.30400848,  69.12001038]), array([ 60.48000717,  70.8480072 ]), array([ 93.31201172,  70.8480072 ]), array([ 60.48000717,  79.48800659]), array([ 76.03200531,  81.21601105]), array([ 70.8480072,  84.6720047]), array([ 53.56800461,  88.12800598]), array([ 63.93600464,  88.12800598]), array([ 82.94400787,  88.12800598]), array([ 69.12001038,  91.58400726]), array([ 93.31201172,  91.58400726]), array([ 76.03200531,  93.31201172]), array([ 63.93600464,  95.04000854]), array([ 70.50241089,  82.9440155 ]), array([ 39.60000229,  90.        ]), array([ 92.40000153,  90.        ]), array([ 68.40000153,  91.20000458]), array([ 63.60000229,  93.6000061 ]), array([ 94.80000305,  96.        ]), array([ 100.80000305,   96.        ]), array([ 97.20000458,  98.40000153]), array([  88.80000305,  102.00000763]), array([  98.40000153,  103.20000458]), array([  94.80000305,  105.6000061 ]), array([  64.80000305,  106.80000305]), array([  72.        ,  106.80000305]), array([  85.20000458,  106.80000305]), array([  43.20000076,  109.20000458]), array([  86.40000153,  109.20000458]), array([  90.        ,  109.20000458]), array([  66.        ,  110.40000153]), array([  69.6000061,  111.6000061]), array([  74.40000153,  111.6000061 ]), array([  96.       ,  111.6000061]), array([ 54.72000122,  48.9600029 ]), array([ 90.72000122,  50.40000153]), array([ 79.20000458,  54.72000122]), array([ 64.80000305,  56.16000366]), array([ 86.40000153,  56.16000366]), array([ 61.92000198,  57.60000229]), array([ 56.16000366,  59.04000092]), array([ 84.96000671,  59.04000092]), array([ 72.        ,  60.48000336]), array([ 82.08000183,  60.48000336]), array([ 93.6000061 ,  60.48000336]), array([ 48.9600029 ,  61.92000198]), array([ 99.36000061,  61.92000198]), array([ 66.24000549,  63.36000061]), array([ 86.40000153,  63.36000061]), array([ 69.12000275,  64.80000305]), array([ 77.76000214,  66.24000549]), array([ 84.96000671,  66.24000549]), array([ 53.28000259,  67.68000031]), array([ 57.60000229,  67.68000031]), array([ 61.92000198,  67.68000031]), array([ 72.        ,  67.68000031]), array([ 47.52000046,  69.12000275]), array([ 50.40000153,  70.56000519]), array([ 60.48000336,  70.56000519]), array([ 92.16000366,  70.56000519]), array([ 46.08000183,  72.        ]), array([ 44.6400032 ,  77.76000214]), array([ 60.48000336,  79.20000458]), array([ 76.31999969,  82.08000183]), array([ 83.52000427,  83.52000427]), array([ 64.80000305,  84.96000671]), array([ 70.56000519,  84.96000671]), array([ 53.28000259,  87.84000397]), array([ 83.52000427,  87.84000397]), array([ 69.12000275,  90.72000122]), array([ 64.80000305,  93.6000061 ]), array([ 76.31999969,  93.6000061 ]), array([ 95.04000092,  96.48000336]), array([ 97.9200058,  97.9200058]), array([  86.40000153,  100.80000305]), array([  82.08000183,  102.24000549]), array([ 62.20800781,  57.02400589]), array([ 55.29600525,  58.75200653]), array([ 63.93600464,  60.48000717]), array([ 72.57600403,  60.48000717]), array([ 77.76000977,  60.48000717]), array([ 84.6720047 ,  60.48000717]), array([ 93.31201172,  60.48000717]), array([ 65.66400909,  63.93600464]), array([ 62.20800781,  65.66400909]), array([ 77.76000977,  65.66400909]), array([ 45.,  33.]), array([ 62.,  33.]), array([ 39.,  35.]), array([ 52.,  35.]), array([ 68.,  35.]), array([ 85.,  35.]), array([ 45.,  38.]), array([ 53.,  38.]), array([ 57.,  39.]), array([ 42.,  41.]), array([ 40.,  46.]), array([ 93.,  50.]), array([ 97.,  50.]), array([ 66.,  55.]), array([ 79.,  55.]), array([ 84.,  55.]), array([ 87.,  56.]), array([ 92.,  56.]), array([ 100.,   56.]), array([ 105.,   57.]), array([ 62.,  58.]), array([ 94.,  58.]), array([ 56.,  59.]), array([ 80.,  59.]), array([ 86.,  59.]), array([ 101.,   59.]), array([ 111.,   59.]), array([ 63.,  60.]), array([ 92.,  60.]), array([ 82.,  61.]), array([ 94.,  61.]), array([ 111.,   61.]), array([ 85.,  62.]), array([ 100.,   62.]), array([ 87.,  63.]), array([ 90.,  63.]), array([ 101.,   96.]), array([  57.,  102.]), array([  89.,  102.]), array([  59.,  104.]), array([  95.,  106.]), array([  65.,  107.]), array([  72.,  107.]), array([  84.,  107.]), array([  72.,  109.]), array([  43.,  110.]), array([  67.,  110.]), array([  82.,  110.]), array([  86.,  110.]), array([  89.,  110.]), array([  64.,  111.]), array([  70.,  111.]), array([  75.,  111.]), array([  46.,  113.]), array([  96.,  113.]), array([  74.,  114.]), array([ 44.40000153,  38.40000153]), array([ 52.80000305,  38.40000153]), array([ 56.40000153,  38.40000153]), array([ 42.        ,  40.80000305]), array([ 55.20000076,  43.20000076]), array([ 39.60000229,  45.60000229]), array([ 55.20000076,  49.20000076]), array([ 91.20000458,  50.40000153]), array([ 97.20000458,  52.80000305]), array([ 66.        ,  55.20000076]), array([ 79.20000458,  55.20000076]), array([ 86.40000153,  56.40000153]), array([ 62.40000153,  57.60000229]), array([ 94.80000305,  57.60000229]), array([ 50.40000153,  58.80000305]), array([ 56.40000153,  58.80000305]), array([ 100.80000305,   58.80000305]), array([ 110.40000153,   58.80000305]), array([ 93.6000061 ,  60.00000381]), array([ 72.        ,  61.20000076]), array([ 76.80000305,  61.20000076]), array([ 82.80000305,  61.20000076]), array([ 50.40000153,  62.40000153]), array([ 90.        ,  62.40000153]), array([ 99.6000061 ,  62.40000153]), array([ 106.80000305,   62.40000153]), array([ 66.        ,  63.60000229]), array([ 86.40000153,  63.60000229]), array([ 69.6000061 ,  64.80000305]), array([ 84.        ,  64.80000305]), array([ 50.40000153,  66.        ]), array([ 79.20000458,  66.        ]), array([ 61.20000076,  67.20000458]), array([ 74.40000153,  67.20000458]), array([ 37.20000076,  68.40000153]), array([ 49.20000076,  68.40000153]), array([ 54.00000381,  68.40000153]), array([ 57.60000229,  68.40000153]), array([ 70.80000305,  68.40000153]), array([ 63.60000229,  69.6000061 ]), array([ 50.40000153,  70.80000305]), array([ 92.40000153,  70.80000305]), array([ 46.80000305,  73.20000458]), array([ 37.20000076,  75.6000061 ]), array([ 45.60000229,  78.        ]), array([ 38.40000153,  79.20000458]), array([ 60.00000381,  79.20000458]), array([ 38.40000153,  84.        ]), array([ 84.,  84.]), array([ 38.40000153,  86.40000153]), array([ 70.80000305,  88.80000305]), array([ 84.        ,  88.80000305])]]"
       ]
      },
      {
       "output_type": "stream",
       "stream": "stdout",
       "text": [
        "\n"
       ]
      }
     ],
     "prompt_number": 258
    },
    {
     "cell_type": "code",
     "collapsed": false,
     "input": [
      "%load_ext autoreload\n",
      "%autoreload 2"
     ],
     "language": "python",
     "metadata": {},
     "outputs": [],
     "prompt_number": 214
    },
    {
     "cell_type": "code",
     "collapsed": false,
     "input": [
      "import graph_tool.all as gt\n",
      "from itertools import tee\n",
      "from itertools import chain\n",
      "\n",
      "\n",
      "def showOnImages(graph, images) :\n",
      "    \n",
      "    # Create background image\n",
      "    bg = numpy.concatenate(images, axis=1)\n",
      "    imsave('__graph_background__.png', bg)\n",
      "\n",
      "    # Calculate offsets\n",
      "    offsets = map(sum, [list(t) for t in tails(map(lambda i : i.shape[1], images))])[::-1]\n",
      "    \n",
      "    # Get positions\n",
      "    pos_prop = graph_pruned.vertex_properties[\"positions\"]\n",
      "    ind_prop = graph_pruned.vertex_properties[\"indices\"]\n",
      "    positions_all = [(ind_prop[v],pos_prop[v]) for v in graph.vertices()]\n",
      "    positions_grouped = [[pos for (index,pos) in g] \n",
      "                              for k,g in groupby(sorted(positions_all), lambda e : e[0])]\n",
      "    \n",
      "    \n",
      "\n",
      "    # Extract vertices and keypoints\n",
      "    #clustered_points[cluster_index]\n",
      "    #print(zip(*chain(*clustered_points[cluster_index][::])))\n",
      "    \n",
      "    \n",
      "    \n",
      "\n",
      "\n",
      "def tails(it):\n",
      "    \"\"\" tails([1,2,3,4,5]) --> [[1,2,3,4,5], [2,3,4,5], [3,4,5], [4,5], [5], []] \"\"\"\n",
      "    while True:\n",
      "        tail, it = tee(it)\n",
      "        yield tail\n",
      "        next(it)\n",
      "    \n",
      "#map(sum, [[e for e in s] for s in ])\n",
      "graph_cluster = cluster.getCluster(graph, clusters, 0)\n",
      "showOnImages(graph_cluster, images)"
     ],
     "language": "python",
     "metadata": {},
     "outputs": [
      {
       "output_type": "stream",
       "stream": "stdout",
       "text": [
        "[0.0, 150, 300]\n"
       ]
      }
     ],
     "prompt_number": 253
    }
   ],
   "metadata": {}
  }
 ]
}
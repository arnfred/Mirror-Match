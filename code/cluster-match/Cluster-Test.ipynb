{
 "metadata": {
  "name": "Cluster-Test"
 },
 "nbformat": 3,
 "nbformat_minor": 0,
 "worksheets": [
  {
   "cells": [
    {
     "cell_type": "code",
     "collapsed": false,
     "input": [
      "#Stupid hack to load files from sibling dir\n",
      "import sys; import os\n",
      "sys.path.insert(0, os.path.abspath('..'))"
     ],
     "language": "python",
     "metadata": {},
     "outputs": [],
     "prompt_number": "*"
    },
    {
     "cell_type": "code",
     "collapsed": false,
     "input": [
      "import os\n",
      "import fnmatch\n",
      "\n",
      "# testset = \"../../images/testsets/WC818C/\"\n",
      "testset = \"../../images/testsets/small_test/\"\n",
      "\n",
      "# Get a list of all images\n",
      "paths = [testset + f for (_,_,filenames) in os.walk(testset) for f in fnmatch.filter(filenames, \"*.png\")]"
     ],
     "language": "python",
     "metadata": {},
     "outputs": [],
     "prompt_number": "*"
    },
    {
     "cell_type": "code",
     "collapsed": false,
     "input": [
      "import features\n",
      "from random import sample\n",
      "\n",
      "# Get all images and labels\n",
      "labels = map(features.getLabel, paths)\n",
      "images = map(features.loadImage, paths)\n",
      "\n",
      "# Pick n images\n",
      "n = 2\n",
      "indices = sample(range(len(labels)),n)\n",
      "images = [images[i] for i in indices]\n",
      "labels = [labels[i] for i in indices]"
     ],
     "language": "python",
     "metadata": {},
     "outputs": [],
     "prompt_number": "*"
    },
    {
     "cell_type": "code",
     "collapsed": false,
     "input": [
      "# Get feature descriptors\n",
      "keypoints = [features.getKeypoints(\"ORB\", im) for im in images]\n",
      "data = [features.getDescriptors(\"BRIEF\", im, k) for (im, k) in zip(images, keypoints)]\n",
      "keypoints, descriptors = zip(*data)"
     ],
     "language": "python",
     "metadata": {},
     "outputs": [],
     "prompt_number": "*"
    },
    {
     "cell_type": "code",
     "collapsed": false,
     "input": [
      "import graph_tool.all as gt\n",
      "import numpy\n",
      "\n",
      "# Create graph\n",
      "g = gt.Graph()\n",
      "descriptor_map = g.new_vertex_property(\"vector<bool>\")\n",
      "index_map = g.new_vertex_property(\"int\")\n",
      "color_map = g.new_vertex_property(\"string\")\n",
      "\n",
      "colors = [\"green\", \"maroon\", \"blue\", \"cyan\", \"orange\", \"violet\"]\n",
      "\n",
      "# Fill graph vertices\n",
      "for (index, ds) in enumerate(descriptors) :\n",
      "    for d in ds :\n",
      "        v = g.add_vertex()\n",
      "        descriptor_map[v] = array(numpy.unpackbits(d), dtype=bool)\n",
      "        index_map[v] = index\n",
      "        color_map[v] = colors[index]"
     ],
     "language": "python",
     "metadata": {},
     "outputs": [],
     "prompt_number": "*"
    },
    {
     "cell_type": "code",
     "collapsed": false,
     "input": [
      "def hamming_mat(rows) :\n",
      "    \"\"\" Returns a matrix of size n x m where n and m is the amount of rows in \n",
      "        ds1 and ds2 respectively\n",
      "        output[0][1] is equal to the hamming distance between ds1[0] and ds2[1]\n",
      "        where output is the matrix returned from this function\n",
      "    \"\"\"\n",
      "    # rearrange inputs\n",
      "    binary = array(numpy.unpackbits(rows), dtype=numpy.bool)\n",
      "    binary.shape = (rows.shape[0], rows.shape[1] * 8)\n",
      "    \n",
      "    # Initialize return matrix\n",
      "    result = numpy.zeros([rows.shape[0], rows.shape[0]], dtype=numpy.uint8)\n",
      "\n",
      "    # Fill result matrix and return\n",
      "    for (i, bin_row) in enumerate(binary) :\n",
      "        result[i] = numpy.sum(numpy.bitwise_xor(binary, bin_row), 1)\n",
      "    return result\n",
      "\n",
      "ds = numpy.concatenate(descriptors)\n",
      "hamDist = hamming_mat(ds)\n",
      "u = numpy.mean(hamDist)\n",
      "sd = numpy.sqrt(numpy.var(hamDist))"
     ],
     "language": "python",
     "metadata": {},
     "outputs": [],
     "prompt_number": "*"
    },
    {
     "cell_type": "markdown",
     "metadata": {},
     "source": [
      "## Add all edges to graph ##"
     ]
    },
    {
     "cell_type": "code",
     "collapsed": false,
     "input": [
      "from itertools import combinations\n",
      "\n",
      "# Create edges\n",
      "\n",
      "n = ds.shape[0]\n",
      "k = 0\n",
      "\n",
      "# Get all combinations of vertices\n",
      "def addEdges() :\n",
      "    for (v1,v2) in combinations(g.vertices(), 2) :\n",
      "        #i = g.vertex_index(v1)\n",
      "        #j = g.vertex_index(v2)\n",
      "        e = g.add_edge(v1,v2)\n",
      "        #weight_map[e] = 1.0 / (hamDist[i,j] + 1.0)\n",
      "        \n",
      "def addEdges2() :\n",
      "    for (i,j) in combinations(range(n), 2) :\n",
      "        v1 = g.vertex(i)\n",
      "        v2 = g.vertex(j)\n",
      "        e = g.add_edge(v1,v2)\n",
      "        #weight_map[e] = 1.0 / (hamDist[i,j] + 1.0)        \n",
      "\n",
      "def addEdges3() :\n",
      "    for i in range(n) :\n",
      "        for j in range(n) :\n",
      "            #d = hamDist[i,j]\n",
      "            #if (i != j and d < (u - 1.5*sd)) :\n",
      "                #k += 1 \n",
      "            v1 = g.vertex(i)\n",
      "            v2 = g.vertex(j)\n",
      "            e = g.add_edge(v1,v2)\n",
      "                #weight_map[e] = 1.0 / (hamDist[i,j] + 1.0)\n",
      "\n",
      "def addEdges4() : [g.add_edge(v1,v2) for (v1,v2) in combinations(g.vertices(),2)]\n",
      "def getHamDist(v1,v2) : \"blah\"\n",
      "    \n",
      "    # Get all combinations of vertices\n",
      "def addEdges5() :\n",
      "    for (v1,v2) in combinations(g.vertices(), 2) :\n",
      "        e = g.add_edge(v1,v2)\n",
      "        #weight_map[e] = 1.0 / (hamDist[i,j] + 1.0)\n",
      " \n",
      "print(g.list_properties())\n",
      "#%timeit addEdges()\n",
      "#%time addEdges2()\n",
      "#%time addEdges3()\n",
      "#%timeit addEdges4()\n",
      "addEdges5()\n",
      "#%time addEdges()\n",
      "\n",
      "\n",
      "# print(str(k) + \" edges added\")"
     ],
     "language": "python",
     "metadata": {},
     "outputs": [],
     "prompt_number": "*"
    },
    {
     "cell_type": "markdown",
     "metadata": {},
     "source": [
      "## Create weight map ##"
     ]
    },
    {
     "cell_type": "code",
     "collapsed": false,
     "input": [
      "s = sum([1 for e in g.edges()])\n",
      "print(s)\n",
      "weight_map = g.new_edge_property(\"int\")\n",
      "print(weight_map.a)\n",
      "print(weight_map.a.shape)\n",
      "e = g.edges().next()\n",
      "print(g.vertex_index[e.target()])\n",
      "%time weight_map.a = [(hamDist[g.vertex_index[e.target()], g.vertex_index[e.source()]] + 1) for e in g.edges()]\n",
      "\n",
      "print(weight_map.a)"
     ],
     "language": "python",
     "metadata": {},
     "outputs": [],
     "prompt_number": "*"
    },
    {
     "cell_type": "code",
     "collapsed": false,
     "input": [
      "v = g.vertex(1)\n",
      "g.vertex_index[v]"
     ],
     "language": "python",
     "metadata": {},
     "outputs": [],
     "prompt_number": "*"
    },
    {
     "cell_type": "code",
     "collapsed": false,
     "input": [
      "# Prune edges beyond the treshold of 1/64\n",
      "above_treshold = g.new_edge_property(\"bool\")\n",
      "above_treshold.a = weight_map.a < u - 1.0*sd\n",
      "\n",
      "print(weight_map.a)\n",
      "print(above_treshold.a)\n",
      "\n",
      "# Create graph with less edges\n",
      "g_sparse = gt.GraphView(g, efilt=above_treshold, directed=False)\n",
      "\n",
      "# Prune vertixes that have no outgoing edges\n",
      "connected = g.new_vertex_property(\"bool\")\n",
      "connected.a = [v.in_degree() + v.out_degree() > 0 for v in g_sparse.vertices()]\n",
      "\n",
      "# Create graph with less vertices\n",
      "g_pruned = gt.GraphView(g_sparse, vfilt=connected, directed=False)\n",
      "\n",
      "print(\"pruned \" + str(sum(1 - connected.a)) + \" vertices\")"
     ],
     "language": "python",
     "metadata": {},
     "outputs": [],
     "prompt_number": "*"
    },
    {
     "cell_type": "code",
     "collapsed": false,
     "input": [
      "# Normalize weight map\n",
      "norm_weight_map = g.new_edge_property(\"float\")\n",
      "norm_hamming = numpy.array(weight_map.a - numpy.min(weight_map.a), dtype=numpy.float) / numpy.array(numpy.max(weight_map.a) - numpy.min(weight_map.a), dtype=numpy.float)\n",
      "print(norm_hamming)\n",
      "norm_weight_map.a = (1 - norm_hamming)\n",
      "print(norm_weight_map.a)"
     ],
     "language": "python",
     "metadata": {},
     "outputs": [],
     "prompt_number": "*"
    },
    {
     "cell_type": "code",
     "collapsed": false,
     "input": [
      "b, mdl, b_cache = gt.minimize_blockmodel_dl(g_pruned)"
     ],
     "language": "python",
     "metadata": {},
     "outputs": [],
     "prompt_number": "*"
    },
    {
     "cell_type": "code",
     "collapsed": false,
     "input": [
      "pos = gt.sfdp_layout(g_pruned, eweight=norm_weight_map)\n",
      "#pos = gt.fruchterman_reingold_layout(g_pruned, weight=norm_weight_map, r=2.0,  a=10, circular=True, grid=False)\n",
      "#pos = gt.arf_layout(g_pruned, weight=norm_weight_map, d=0.5, a=10)\n",
      "\n",
      "gt.graph_draw(g_pruned, pos=pos, output_size=(1000, 1000), vertex_color=[0.2, 0.2, 0.2, 0.9],\n",
      "           vertex_fill_color=b, vertex_size=10, edge_pen_width=norm_weight_map, output=\"test.png\")"
     ],
     "language": "python",
     "metadata": {},
     "outputs": [],
     "prompt_number": "*"
    },
    {
     "cell_type": "code",
     "collapsed": false,
     "input": [
      "for (c,l) in zip(labels, colors) : print(l + \":\\t\" + c)"
     ],
     "language": "python",
     "metadata": {},
     "outputs": [],
     "prompt_number": "*"
    },
    {
     "cell_type": "code",
     "collapsed": false,
     "input": [
      "sum([1 for _ in g.edges()"
     ],
     "language": "python",
     "metadata": {},
     "outputs": [],
     "prompt_number": "*"
    }
   ],
   "metadata": {}
  }
 ]
}
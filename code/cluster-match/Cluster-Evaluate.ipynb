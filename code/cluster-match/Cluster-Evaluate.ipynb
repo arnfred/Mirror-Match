{
 "metadata": {
  "name": "Cluster-Evaluate"
 },
 "nbformat": 3,
 "nbformat_minor": 0,
 "worksheets": [
  {
   "cells": [
    {
     "cell_type": "code",
     "collapsed": false,
     "input": [
      "#Stupid hack to load files from sibling dir\n",
      "import sys; import os\n",
      "sys.path.insert(0, os.path.abspath('..'))"
     ],
     "language": "python",
     "metadata": {},
     "outputs": [],
     "prompt_number": 5
    },
    {
     "cell_type": "code",
     "collapsed": false,
     "input": [
      "import os\n",
      "import fnmatch\n",
      "import features\n",
      "import cluster\n",
      "import display\n",
      "from itertools import combinations\n",
      "\n",
      "# testset = \"../../images/testsets/WC818C/\"\n",
      "testset = \"../../images/testsets/small_test/\"\n",
      "\n",
      "# Get a list of all image pairs\n",
      "all_paths = [testset + f for (_,_,filenames) in os.walk(testset) for f in fnmatch.filter(filenames, \"*.png\")]\n",
      "path_pairs = list(combinations(all_paths, 2))\n",
      "label_pairs = list(combinations(map(features.getLabel,all_paths), 2))"
     ],
     "language": "python",
     "metadata": {},
     "outputs": [],
     "prompt_number": "*"
    },
    {
     "cell_type": "code",
     "collapsed": false,
     "input": [
      "#cluster.scoreImagePair(pairs.next())\n",
      "result = [((l1 == l2), cluster.scoreImagePair([p1, p2]))\n",
      "        for ((p1, p2), (l1, l2), i) \n",
      "        in zip(path_pairs, label_pairs, range(len(list(label_pairs))) )]\n",
      "\n",
      "display.scoreHist(result)\n"
     ],
     "language": "python",
     "metadata": {},
     "outputs": [
      {
       "output_type": "stream",
       "stream": "stdout",
       "text": [
        "[1]\tm: +0.0386, c: -0.0845, u_s: -0.2149, s: -0.0381, w: 0.18\n",
        "[2]\tm: +0.0026, c: -0.2277, u_s: -0.6807, s: -0.0080, w: 0.01\n",
        "[3]\tm: +0.0281, c: +0.0129, u_s: +0.0667, s: +0.0086, w: 0.13"
       ]
      },
      {
       "output_type": "stream",
       "stream": "stdout",
       "text": [
        "\n",
        "[4]\tm: +0.0005, c: -0.0377, u_s: -0.1127, s: -0.0003, w: 0.00\n",
        "[5]\tm: +0.0058, c: -0.2396, u_s: -0.7131, s: -0.0190, w: 0.03"
       ]
      },
      {
       "output_type": "stream",
       "stream": "stdout",
       "text": [
        "\n",
        "[6]\tm: +0.0139, c: +0.0121, u_s: +0.0501, s: +0.0032, w: 0.06\n",
        "[8]\tm: +0.0543, c: +0.0144, u_s: +0.0974, s: +0.0243, w: 0.25"
       ]
      },
      {
       "output_type": "stream",
       "stream": "stdout",
       "text": [
        "\n",
        "[9]\tm: +0.0140, c: -0.0454, u_s: -0.1223, s: -0.0079, w: 0.06\n",
        "[10]\tm: +0.0334, c: -0.0306, u_s: -0.0584, s: -0.0090, w: 0.15"
       ]
      },
      {
       "output_type": "stream",
       "stream": "stdout",
       "text": [
        "\n",
        "[11]\tm: +0.0015, c: -0.3779, u_s: -1.1323, s: -0.0080, w: 0.01\n",
        "[12]\tm: +0.0076, c: -0.3656, u_s: -1.0893, s: -0.0381, w: 0.03"
       ]
      },
      {
       "output_type": "stream",
       "stream": "stdout",
       "text": [
        "\n",
        "[13]\tm: +0.0022, c: -0.2818, u_s: -0.8431, s: -0.0084, w: 0.01\n",
        "[14]\tm: +0.0011, c: -0.2189, u_s: -0.6556, s: -0.0034, w: 0.01"
       ]
      },
      {
       "output_type": "stream",
       "stream": "stdout",
       "text": [
        "\n",
        "[15]\tm: +0.0064, c: -0.4992, u_s: -1.4911, s: -0.0437, w: 0.03\n",
        "[16]\tm: +0.0066, c: -0.0453, u_s: -0.1292, s: -0.0039, w: 0.03"
       ]
      },
      {
       "output_type": "stream",
       "stream": "stdout",
       "text": [
        "\n",
        "[17]\tm: +0.0009, c: +0.0943, u_s: +0.2837, s: +0.0012, w: 0.00\n",
        "Score: -0.1505\n",
        "[0]\tm: +0.0063, c: -0.1789, u_s: -0.5302, s: -0.0207, w: 0.04"
       ]
      },
      {
       "output_type": "stream",
       "stream": "stdout",
       "text": [
        "\n",
        "[1]\tm: +0.0530, c: +0.0193, u_s: +0.1108, s: +0.0361, w: 0.33\n",
        "[2]\tm: +0.0128, c: +0.0097, u_s: +0.0419, s: +0.0033, w: 0.08"
       ]
      },
      {
       "output_type": "stream",
       "stream": "stdout",
       "text": [
        "\n",
        "[3]\tm: +0.0023, c: -0.3908, u_s: -1.1700, s: -0.0166, w: 0.01\n",
        "[5]\tm: +0.0039, c: -0.1494, u_s: -0.4441, s: -0.0108, w: 0.02"
       ]
      },
      {
       "output_type": "stream",
       "stream": "stdout",
       "text": [
        "\n",
        "[6]\tm: +0.0064, c: -0.2212, u_s: -0.6573, s: -0.0259, w: 0.04\n",
        "[8]\tm: +0.0280, c: -0.4112, u_s: -1.2055, s: -0.2077, w: 0.17"
       ]
      },
      {
       "output_type": "stream",
       "stream": "stdout",
       "text": [
        "\n",
        "[10]\tm: +0.0041, c: -0.0759, u_s: -0.2235, s: -0.0057, w: 0.03\n",
        "[11]\tm: +0.0233, c: -0.0706, u_s: -0.1884, s: -0.0270, w: 0.14"
       ]
      },
      {
       "output_type": "stream",
       "stream": "stdout",
       "text": [
        "\n",
        "[13]\tm: +0.0044, c: -0.1899, u_s: -0.5654, s: -0.0151, w: 0.03\n",
        "[14]\tm: +0.0113, c: -0.0345, u_s: -0.0922, s: -0.0064, w: 0.07"
       ]
      },
      {
       "output_type": "stream",
       "stream": "stdout",
       "text": [
        "\n",
        "[16]\tm: +0.0016, c: -0.2612, u_s: -0.7820, s: -0.0079, w: 0.01\n",
        "[17]\tm: +0.0036, c: -0.4802, u_s: -1.4369, s: -0.0320, w: 0.02"
       ]
      },
      {
       "output_type": "stream",
       "stream": "stdout",
       "text": [
        "\n",
        "[18]\tm: +0.0015, c: +0.0169, u_s: +0.0523, s: +0.0005, w: 0.01\n",
        "Score: -0.3358\n",
        "[0]\tm: +0.0198, c: -0.0625, u_s: -0.1677, s: -0.0245, w: 0.15"
       ]
      },
      {
       "output_type": "stream",
       "stream": "stdout",
       "text": [
        "\n",
        "[1]\tm: +0.0417, c: -0.0887, u_s: -0.2244, s: -0.0692, w: 0.31\n",
        "[2]\tm: +0.0038, c: -0.4995, u_s: -1.4946, s: -0.0423, w: 0.03"
       ]
      },
      {
       "output_type": "stream",
       "stream": "stdout",
       "text": [
        "\n",
        "[4]\tm: +0.0024, c: -0.1456, u_s: -0.4343, s: -0.0079, w: 0.02\n",
        "[7]\tm: +0.0019, c: +0.0992, u_s: +0.2996, s: +0.0043, w: 0.01\n",
        "[8]\tm: +0.0432, c: -0.1588, u_s: -0.4331, s: -0.1382, w: 0.32"
       ]
      },
      {
       "output_type": "stream",
       "stream": "stdout",
       "text": [
        "\n",
        "[9]\tm: +0.0022, c: -0.4119, u_s: -1.2336, s: -0.0201, w: 0.02\n",
        "[11]\tm: +0.0098, c: -0.4507, u_s: -1.3424, s: -0.0968, w: 0.07\n",
        "[14]\tm: +0.0013, c: +0.0000, u_s: +0.0013, s: +0.0000, w: 0.01"
       ]
      },
      {
       "output_type": "stream",
       "stream": "stdout",
       "text": [
        "\n",
        "[17]\tm: +0.0083, c: -0.0824, u_s: -0.2388, s: -0.0147, w: 0.06\n",
        "[18]\tm: +0.0008, c: -0.0000, u_s: +0.0008, s: +0.0000, w: 0.01\n",
        "Score: -0.4094\n",
        "[0]\tm: +0.1027, c: +0.0109, u_s: +0.1355, s: +0.0708, w: 0.52"
       ]
      },
      {
       "output_type": "stream",
       "stream": "stdout",
       "text": [
        "\n",
        "[1]\tm: +0.0252, c: -0.0366, u_s: -0.0847, s: -0.0109, w: 0.13"
       ]
      },
      {
       "output_type": "stream",
       "stream": "stdout",
       "text": [
        "\n",
        "[2]\tm: +0.0043, c: -0.4159, u_s: -1.2434, s: -0.0272, w: 0.02\n",
        "[3]\tm: +0.0009, c: -0.4204, u_s: -1.2603, s: -0.0059, w: 0.00"
       ]
      },
      {
       "output_type": "stream",
       "stream": "stdout",
       "text": [
        "\n",
        "[5]\tm: +0.0028, c: -0.2819, u_s: -0.8431, s: -0.0119, w: 0.01\n",
        "[6]\tm: +0.0006, c: -0.2327, u_s: -0.6977, s: -0.0021, w: 0.00"
       ]
      },
      {
       "output_type": "stream",
       "stream": "stdout",
       "text": [
        "\n",
        "[7]\tm: +0.0059, c: -0.4993, u_s: -1.4921, s: -0.0447, w: 0.03"
       ]
      },
      {
       "output_type": "stream",
       "stream": "stdout",
       "text": [
        "\n",
        "[8]\tm: +0.0059, c: -0.0000, u_s: +0.0059, s: +0.0002, w: 0.03\n",
        "[9]\tm: +0.0018, c: -0.1789, u_s: -0.5349, s: -0.0049, w: 0.01"
       ]
      },
      {
       "output_type": "stream",
       "stream": "stdout",
       "text": [
        "\n",
        "[10]\tm: +0.0224, c: -0.3244, u_s: -0.9509, s: -0.1084, w: 0.11"
       ]
      },
      {
       "output_type": "stream",
       "stream": "stdout",
       "text": [
        "\n",
        "[11]\tm: +0.0016, c: -0.3745, u_s: -1.1219, s: -0.0091, w: 0.01\n",
        "[13]\tm: +0.0064, c: -0.2665, u_s: -0.7931, s: -0.0257, w: 0.03"
       ]
      },
      {
       "output_type": "stream",
       "stream": "stdout",
       "text": [
        "\n",
        "[14]\tm: +0.0016, c: -0.2794, u_s: -0.8365, s: -0.0068, w: 0.01\n",
        "[15]\tm: +0.0040, c: -0.4376, u_s: -1.3088, s: -0.0266, w: 0.02"
       ]
      },
      {
       "output_type": "stream",
       "stream": "stdout",
       "text": [
        "\n",
        "[16]\tm: +0.0049, c: -0.3977, u_s: -1.1882, s: -0.0297, w: 0.03\n",
        "[17]\tm: +0.0055, c: -0.2007, u_s: -0.5965, s: -0.0168, w: 0.03"
       ]
      }
     ],
     "prompt_number": "*"
    },
    {
     "cell_type": "code",
     "collapsed": false,
     "input": [
      "%load_ext autoreload\n",
      "%autoreload 2"
     ],
     "language": "python",
     "metadata": {},
     "outputs": [],
     "prompt_number": "*"
    }
   ],
   "metadata": {}
  }
 ]
}
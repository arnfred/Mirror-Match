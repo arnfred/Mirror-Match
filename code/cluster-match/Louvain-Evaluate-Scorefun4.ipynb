{
 "metadata": {
  "name": "Louvain-Evaluate-Scorefun4"
 },
 "nbformat": 3,
 "nbformat_minor": 0,
 "worksheets": [
  {
   "cells": [
    {
     "cell_type": "code",
     "collapsed": false,
     "input": [
      "#Stupid hack to load files from sibling dir\n",
      "import sys; import os\n",
      "sys.path.insert(0, os.path.abspath('..'))\n",
      "\n",
      "%load_ext autoreload\n",
      "%autoreload 2"
     ],
     "language": "python",
     "metadata": {},
     "outputs": [],
     "prompt_number": 1
    },
    {
     "cell_type": "code",
     "collapsed": false,
     "input": [
      "import os\n",
      "import fnmatch\n",
      "import features\n",
      "import scoring\n",
      "import display\n",
      "import louvain\n",
      "from itertools import combinations\n",
      "from itertools import izip\n",
      "from itertools import imap\n",
      "\n",
      "# testset = \"../../images/testsets/WC818C/\"\n",
      "testset = \"../../images/testsets/small_test/\"\n",
      "\n",
      "# Define scoring functions\n",
      "scoring_fun1 = lambda m,c : 1*m+3*c if 1*m+3*c > 0 else 0\n",
      "scoring_fun2 = lambda m,c : 1*m+3*c\n",
      "scoring_fun3 = lambda m,c : 1*m+1*c if 1*m+3*c > 0 else 0\n",
      "scoring_fun4 = lambda m,c : 1*m+1*c if c > 0 else 0\n",
      "\n",
      "# Get a list of all image pairs\n",
      "all_paths = [testset + f for (_,_,filenames) in os.walk(testset) for f in fnmatch.filter(filenames, \"*.png\")]\n",
      "path_pairs = combinations(all_paths, 2)\n",
      "label_pairs = combinations(imap(features.getLabel,all_paths), 2)"
     ],
     "language": "python",
     "metadata": {},
     "outputs": [],
     "prompt_number": 49
    },
    {
     "cell_type": "code",
     "collapsed": false,
     "input": [
      "#cluster.scoreImagePair(pairs.next())\n",
      "result = [((l1 == l2), scoring.scoreImages(paths=[p1, p2], scoring=scoring_fun4, default_val=0), (p1, p2))\n",
      "        for ((p1, p2), (l1, l2)) \n",
      "        in izip(path_pairs, label_pairs)]"
     ],
     "language": "python",
     "metadata": {},
     "outputs": [
      {
       "output_type": "stream",
       "stream": "stdout",
       "text": [
        "Score: 0.0180 for Anna Kournikova and Bill Gates\n",
        "Score: 0.0258 for Anna Kournikova and Anna Kournikova"
       ]
      },
      {
       "output_type": "stream",
       "stream": "stdout",
       "text": [
        "\n",
        "Score: 0.0000 for Anna Kournikova and Ann Veneman (Less than four matches)"
       ]
      },
      {
       "output_type": "stream",
       "stream": "stdout",
       "text": [
        "\n",
        "Score: 0.0270 for Anna Kournikova and Bill Gates"
       ]
      },
      {
       "output_type": "stream",
       "stream": "stdout",
       "text": [
        "\n",
        "Score: 0.0251 for Anna Kournikova and Bill Gates"
       ]
      },
      {
       "output_type": "stream",
       "stream": "stdout",
       "text": [
        "\n",
        "Score: 0.0151 for Anna Kournikova and Ann Veneman"
       ]
      },
      {
       "output_type": "stream",
       "stream": "stdout",
       "text": [
        "\n",
        "Score: 0.0225 for Anna Kournikova and Bill Gates"
       ]
      },
      {
       "output_type": "stream",
       "stream": "stdout",
       "text": [
        "\n",
        "Score: 0.0197 for Anna Kournikova and Ann Veneman"
       ]
      },
      {
       "output_type": "stream",
       "stream": "stdout",
       "text": [
        "\n",
        "Score: 0.0051 for Anna Kournikova and Bill Gates"
       ]
      },
      {
       "output_type": "stream",
       "stream": "stdout",
       "text": [
        "\n",
        "Score: 0.0221 for Anna Kournikova and Bill Gates"
       ]
      },
      {
       "output_type": "stream",
       "stream": "stdout",
       "text": [
        "\n",
        "Score: 0.0254 for Anna Kournikova and Bill Gates"
       ]
      },
      {
       "output_type": "stream",
       "stream": "stdout",
       "text": [
        "\n",
        "Score: 0.0266 for Anna Kournikova and Anna Kournikova"
       ]
      },
      {
       "output_type": "stream",
       "stream": "stdout",
       "text": [
        "\n",
        "Score: 0.0345 for Anna Kournikova and Bill Gates"
       ]
      },
      {
       "output_type": "stream",
       "stream": "stdout",
       "text": [
        "\n",
        "Score: 0.0126 for Anna Kournikova and Anna Kournikova"
       ]
      },
      {
       "output_type": "stream",
       "stream": "stdout",
       "text": [
        "\n",
        "Score: 0.0169 for Anna Kournikova and Ann Veneman"
       ]
      },
      {
       "output_type": "stream",
       "stream": "stdout",
       "text": [
        "\n",
        "Score: 0.0000 for Anna Kournikova and Ann Veneman (Less than four matches)"
       ]
      },
      {
       "output_type": "stream",
       "stream": "stdout",
       "text": [
        "\n",
        "Score: 0.0244 for Anna Kournikova and Anna Kournikova"
       ]
      },
      {
       "output_type": "stream",
       "stream": "stdout",
       "text": [
        "\n",
        "Score: 0.0398 for Anna Kournikova and Ann Veneman"
       ]
      },
      {
       "output_type": "stream",
       "stream": "stdout",
       "text": [
        "\n",
        "Score: 0.0335 for Anna Kournikova and Anna Kournikova"
       ]
      },
      {
       "output_type": "stream",
       "stream": "stdout",
       "text": [
        "\n",
        "Score: 0.0291 for Anna Kournikova and Ann Veneman"
       ]
      },
      {
       "output_type": "stream",
       "stream": "stdout",
       "text": [
        "\n",
        "Score: 0.0009 for Anna Kournikova and Anna Kournikova"
       ]
      },
      {
       "output_type": "stream",
       "stream": "stdout",
       "text": [
        "\n",
        "Score: 0.0171 for Anna Kournikova and Bill Gates"
       ]
      },
      {
       "output_type": "stream",
       "stream": "stdout",
       "text": [
        "\n",
        "Score: 0.0369 for Anna Kournikova and Anna Kournikova"
       ]
      },
      {
       "output_type": "stream",
       "stream": "stdout",
       "text": [
        "\n",
        "Score: 0.0307 for Anna Kournikova and Anna Kournikova"
       ]
      },
      {
       "output_type": "stream",
       "stream": "stdout",
       "text": [
        "\n",
        "Score: 0.0180 for Anna Kournikova and Anna Kournikova"
       ]
      },
      {
       "output_type": "stream",
       "stream": "stdout",
       "text": [
        "\n",
        "Score: 0.0221 for Anna Kournikova and Bill Gates"
       ]
      },
      {
       "output_type": "stream",
       "stream": "stdout",
       "text": [
        "\n",
        "Score: 0.0163 for Anna Kournikova and Ann Veneman"
       ]
      },
      {
       "output_type": "stream",
       "stream": "stdout",
       "text": [
        "\n",
        "Score: 0.0173 for Anna Kournikova and Ann Veneman"
       ]
      },
      {
       "output_type": "stream",
       "stream": "stdout",
       "text": [
        "\n",
        "Score: 0.0294 for Anna Kournikova and Ann Veneman"
       ]
      },
      {
       "output_type": "stream",
       "stream": "stdout",
       "text": [
        "\n",
        "Score: 0.0207 for Bill Gates and Anna Kournikova"
       ]
      },
      {
       "output_type": "stream",
       "stream": "stdout",
       "text": [
        "\n",
        "Score: 0.0153 for Bill Gates and Ann Veneman"
       ]
      },
      {
       "output_type": "stream",
       "stream": "stdout",
       "text": [
        "\n",
        "Score: 0.0141 for Bill Gates and Bill Gates"
       ]
      },
      {
       "output_type": "stream",
       "stream": "stdout",
       "text": [
        "\n",
        "Score: 0.0139 for Bill Gates and Bill Gates"
       ]
      },
      {
       "output_type": "stream",
       "stream": "stdout",
       "text": [
        "\n",
        "Score: 0.0400 for Bill Gates and Ann Veneman"
       ]
      },
      {
       "output_type": "stream",
       "stream": "stdout",
       "text": [
        "\n",
        "Score: 0.0120 for Bill Gates and Bill Gates"
       ]
      },
      {
       "output_type": "stream",
       "stream": "stdout",
       "text": [
        "\n",
        "Score: 0.0272 for Bill Gates and Ann Veneman"
       ]
      },
      {
       "output_type": "stream",
       "stream": "stdout",
       "text": [
        "\n",
        "Score: 0.0510 for Bill Gates and Bill Gates"
       ]
      },
      {
       "output_type": "stream",
       "stream": "stdout",
       "text": [
        "\n",
        "Score: 0.0217 for Bill Gates and Bill Gates"
       ]
      },
      {
       "output_type": "stream",
       "stream": "stdout",
       "text": [
        "\n",
        "Score: 0.0384 for Bill Gates and Bill Gates"
       ]
      },
      {
       "output_type": "stream",
       "stream": "stdout",
       "text": [
        "\n",
        "Score: 0.0277 for Bill Gates and Anna Kournikova"
       ]
      },
      {
       "output_type": "stream",
       "stream": "stdout",
       "text": [
        "\n",
        "Score: 0.0382 for Bill Gates and Bill Gates"
       ]
      },
      {
       "output_type": "stream",
       "stream": "stdout",
       "text": [
        "\n",
        "Score: 0.0305 for Bill Gates and Anna Kournikova"
       ]
      },
      {
       "output_type": "stream",
       "stream": "stdout",
       "text": [
        "\n",
        "Score: 0.0169 for Bill Gates and Ann Veneman"
       ]
      },
      {
       "output_type": "stream",
       "stream": "stdout",
       "text": [
        "\n",
        "Score: 0.0262 for Bill Gates and Ann Veneman"
       ]
      },
      {
       "output_type": "stream",
       "stream": "stdout",
       "text": [
        "\n",
        "Score: 0.0344 for Bill Gates and Anna Kournikova"
       ]
      },
      {
       "output_type": "stream",
       "stream": "stdout",
       "text": [
        "\n",
        "Score: 0.0192 for Bill Gates and Ann Veneman"
       ]
      },
      {
       "output_type": "stream",
       "stream": "stdout",
       "text": [
        "\n",
        "Score: 0.0279 for Bill Gates and Anna Kournikova"
       ]
      },
      {
       "output_type": "stream",
       "stream": "stdout",
       "text": [
        "\n",
        "Score: 0.0239 for Bill Gates and Ann Veneman"
       ]
      },
      {
       "output_type": "stream",
       "stream": "stdout",
       "text": [
        "\n",
        "Score: 0.0159 for Bill Gates and Anna Kournikova"
       ]
      },
      {
       "output_type": "stream",
       "stream": "stdout",
       "text": [
        "\n",
        "Score: 0.0596 for Bill Gates and Bill Gates"
       ]
      },
      {
       "output_type": "stream",
       "stream": "stdout",
       "text": [
        "\n",
        "Score: 0.0429 for Bill Gates and Anna Kournikova"
       ]
      },
      {
       "output_type": "stream",
       "stream": "stdout",
       "text": [
        "\n",
        "Score: 0.0256 for Bill Gates and Anna Kournikova"
       ]
      },
      {
       "output_type": "stream",
       "stream": "stdout",
       "text": [
        "\n",
        "Score: 0.0282 for Bill Gates and Anna Kournikova"
       ]
      },
      {
       "output_type": "stream",
       "stream": "stdout",
       "text": [
        "\n",
        "Score: 0.0267 for Bill Gates and Bill Gates"
       ]
      },
      {
       "output_type": "stream",
       "stream": "stdout",
       "text": [
        "\n",
        "Score: 0.0137 for Bill Gates and Ann Veneman"
       ]
      },
      {
       "output_type": "stream",
       "stream": "stdout",
       "text": [
        "\n",
        "Score: 0.0392 for Bill Gates and Ann Veneman"
       ]
      },
      {
       "output_type": "stream",
       "stream": "stdout",
       "text": [
        "\n",
        "Score: 0.0241 for Bill Gates and Ann Veneman"
       ]
      },
      {
       "output_type": "stream",
       "stream": "stdout",
       "text": [
        "\n",
        "Score: 0.0473 for Anna Kournikova and Ann Veneman"
       ]
      },
      {
       "output_type": "stream",
       "stream": "stdout",
       "text": [
        "\n",
        "Score: 0.0185 for Anna Kournikova and Bill Gates"
       ]
      },
      {
       "output_type": "stream",
       "stream": "stdout",
       "text": [
        "\n",
        "Score: 0.0179 for Anna Kournikova and Bill Gates"
       ]
      },
      {
       "output_type": "stream",
       "stream": "stdout",
       "text": [
        "\n",
        "Score: 0.0191 for Anna Kournikova and Ann Veneman"
       ]
      },
      {
       "output_type": "stream",
       "stream": "stdout",
       "text": [
        "\n",
        "Score: 0.0177 for Anna Kournikova and Bill Gates"
       ]
      },
      {
       "output_type": "stream",
       "stream": "stdout",
       "text": [
        "\n",
        "Score: 0.0429 for Anna Kournikova and Ann Veneman"
       ]
      },
      {
       "output_type": "stream",
       "stream": "stdout",
       "text": [
        "\n",
        "Score: 0.0074 for Anna Kournikova and Bill Gates"
       ]
      },
      {
       "output_type": "stream",
       "stream": "stdout",
       "text": [
        "\n",
        "Score: 0.0088 for Anna Kournikova and Bill Gates"
       ]
      },
      {
       "output_type": "stream",
       "stream": "stdout",
       "text": [
        "\n",
        "Score: 0.0298 for Anna Kournikova and Bill Gates"
       ]
      },
      {
       "output_type": "stream",
       "stream": "stdout",
       "text": [
        "\n",
        "Score: 0.0377 for Anna Kournikova and Anna Kournikova"
       ]
      },
      {
       "output_type": "stream",
       "stream": "stdout",
       "text": [
        "\n",
        "Score: 0.0171 for Anna Kournikova and Bill Gates"
       ]
      },
      {
       "output_type": "stream",
       "stream": "stdout",
       "text": [
        "\n",
        "Score: 0.0321 for Anna Kournikova and Anna Kournikova"
       ]
      },
      {
       "output_type": "stream",
       "stream": "stdout",
       "text": [
        "\n",
        "Score: 0.0129 for Anna Kournikova and Ann Veneman"
       ]
      },
      {
       "output_type": "stream",
       "stream": "stdout",
       "text": [
        "\n",
        "Score: 0.0266 for Anna Kournikova and Ann Veneman"
       ]
      },
      {
       "output_type": "stream",
       "stream": "stdout",
       "text": [
        "\n",
        "Score: 0.0451 for Anna Kournikova and Anna Kournikova"
       ]
      },
      {
       "output_type": "stream",
       "stream": "stdout",
       "text": [
        "\n",
        "Score: 0.0045 for Anna Kournikova and Ann Veneman"
       ]
      },
      {
       "output_type": "stream",
       "stream": "stdout",
       "text": [
        "\n",
        "Score: 0.0586 for Anna Kournikova and Anna Kournikova"
       ]
      },
      {
       "output_type": "stream",
       "stream": "stdout",
       "text": [
        "\n",
        "Score: 0.0259 for Anna Kournikova and Ann Veneman"
       ]
      },
      {
       "output_type": "stream",
       "stream": "stdout",
       "text": [
        "\n",
        "Score: 0.0320 for Anna Kournikova and Anna Kournikova"
       ]
      },
      {
       "output_type": "stream",
       "stream": "stdout",
       "text": [
        "\n",
        "Score: 0.0210 for Anna Kournikova and Bill Gates"
       ]
      },
      {
       "output_type": "stream",
       "stream": "stdout",
       "text": [
        "\n",
        "Score: 0.0586 for Anna Kournikova and Anna Kournikova"
       ]
      },
      {
       "output_type": "stream",
       "stream": "stdout",
       "text": [
        "\n",
        "Score: 0.0196 for Anna Kournikova and Anna Kournikova"
       ]
      },
      {
       "output_type": "stream",
       "stream": "stdout",
       "text": [
        "\n",
        "Score: 0.0397 for Anna Kournikova and Anna Kournikova"
       ]
      },
      {
       "output_type": "stream",
       "stream": "stdout",
       "text": [
        "\n",
        "Score: 0.0000 for Anna Kournikova and Bill Gates (Less than four matches)"
       ]
      },
      {
       "output_type": "stream",
       "stream": "stdout",
       "text": [
        "\n",
        "Score: 0.0270 for Anna Kournikova and Ann Veneman"
       ]
      },
      {
       "output_type": "stream",
       "stream": "stdout",
       "text": [
        "\n",
        "Score: 0.0252 for Anna Kournikova and Ann Veneman"
       ]
      },
      {
       "output_type": "stream",
       "stream": "stdout",
       "text": [
        "\n",
        "Score: 0.0000 for Anna Kournikova and Ann Veneman (Less than four matches)"
       ]
      },
      {
       "output_type": "stream",
       "stream": "stdout",
       "text": [
        "\n",
        "Score: 0.0249 for Ann Veneman and Bill Gates"
       ]
      },
      {
       "output_type": "stream",
       "stream": "stdout",
       "text": [
        "\n",
        "Score: 0.0440 for Ann Veneman and Bill Gates"
       ]
      },
      {
       "output_type": "stream",
       "stream": "stdout",
       "text": [
        "\n",
        "Score: 0.0462 for Ann Veneman and Ann Veneman"
       ]
      },
      {
       "output_type": "stream",
       "stream": "stdout",
       "text": [
        "\n",
        "Score: 0.0505 for Ann Veneman and Bill Gates"
       ]
      },
      {
       "output_type": "stream",
       "stream": "stdout",
       "text": [
        "\n",
        "Score: 0.0559 for Ann Veneman and Ann Veneman"
       ]
      },
      {
       "output_type": "stream",
       "stream": "stdout",
       "text": [
        "\n",
        "Score: 0.0203 for Ann Veneman and Bill Gates"
       ]
      },
      {
       "output_type": "stream",
       "stream": "stdout",
       "text": [
        "\n",
        "Score: 0.0197 for Ann Veneman and Bill Gates"
       ]
      },
      {
       "output_type": "stream",
       "stream": "stdout",
       "text": [
        "\n",
        "Score: 0.0512 for Ann Veneman and Bill Gates"
       ]
      },
      {
       "output_type": "stream",
       "stream": "stdout",
       "text": [
        "\n",
        "Score: 0.0484 for Ann Veneman and Anna Kournikova"
       ]
      },
      {
       "output_type": "stream",
       "stream": "stdout",
       "text": [
        "\n",
        "Score: 0.0390 for Ann Veneman and Bill Gates"
       ]
      },
      {
       "output_type": "stream",
       "stream": "stdout",
       "text": [
        "\n",
        "Score: 0.0387 for Ann Veneman and Anna Kournikova"
       ]
      },
      {
       "output_type": "stream",
       "stream": "stdout",
       "text": [
        "\n",
        "Score: 0.0555 for Ann Veneman and Ann Veneman"
       ]
      },
      {
       "output_type": "stream",
       "stream": "stdout",
       "text": [
        "\n",
        "Score: 0.0237 for Ann Veneman and Ann Veneman"
       ]
      },
      {
       "output_type": "stream",
       "stream": "stdout",
       "text": [
        "\n",
        "Score: 0.0418 for Ann Veneman and Anna Kournikova"
       ]
      },
      {
       "output_type": "stream",
       "stream": "stdout",
       "text": [
        "\n",
        "Score: 0.0441 for Ann Veneman and Ann Veneman"
       ]
      },
      {
       "output_type": "stream",
       "stream": "stdout",
       "text": [
        "\n",
        "Score: 0.0266 for Ann Veneman and Anna Kournikova"
       ]
      },
      {
       "output_type": "stream",
       "stream": "stdout",
       "text": [
        "\n",
        "Score: 0.0418 for Ann Veneman and Ann Veneman"
       ]
      },
      {
       "output_type": "stream",
       "stream": "stdout",
       "text": [
        "\n",
        "Score: 0.0470 for Ann Veneman and Anna Kournikova"
       ]
      },
      {
       "output_type": "stream",
       "stream": "stdout",
       "text": [
        "\n",
        "Score: 0.0390 for Ann Veneman and Bill Gates"
       ]
      },
      {
       "output_type": "stream",
       "stream": "stdout",
       "text": [
        "\n",
        "Score: 0.0432 for Ann Veneman and Anna Kournikova"
       ]
      },
      {
       "output_type": "stream",
       "stream": "stdout",
       "text": [
        "\n",
        "Score: 0.0000 for Ann Veneman and Anna Kournikova (Less than four matches)"
       ]
      },
      {
       "output_type": "stream",
       "stream": "stdout",
       "text": [
        "\n",
        "Score: 0.0697 for Ann Veneman and Anna Kournikova"
       ]
      },
      {
       "output_type": "stream",
       "stream": "stdout",
       "text": [
        "\n",
        "Score: 0.0324 for Ann Veneman and Bill Gates"
       ]
      },
      {
       "output_type": "stream",
       "stream": "stdout",
       "text": [
        "\n",
        "Score: 0.0548 for Ann Veneman and Ann Veneman"
       ]
      },
      {
       "output_type": "stream",
       "stream": "stdout",
       "text": [
        "\n",
        "Score: 0.0292 for Ann Veneman and Ann Veneman"
       ]
      },
      {
       "output_type": "stream",
       "stream": "stdout",
       "text": [
        "\n",
        "Score: 0.0567 for Ann Veneman and Ann Veneman"
       ]
      },
      {
       "output_type": "stream",
       "stream": "stdout",
       "text": [
        "\n",
        "Score: 0.0208 for Bill Gates and Bill Gates"
       ]
      },
      {
       "output_type": "stream",
       "stream": "stdout",
       "text": [
        "\n",
        "Score: 0.0143 for Bill Gates and Ann Veneman"
       ]
      },
      {
       "output_type": "stream",
       "stream": "stdout",
       "text": [
        "\n",
        "Score: 0.0045 for Bill Gates and Bill Gates"
       ]
      },
      {
       "output_type": "stream",
       "stream": "stdout",
       "text": [
        "\n",
        "Score: 0.0237 for Bill Gates and Ann Veneman"
       ]
      },
      {
       "output_type": "stream",
       "stream": "stdout",
       "text": [
        "\n",
        "Score: 0.0173 for Bill Gates and Bill Gates"
       ]
      },
      {
       "output_type": "stream",
       "stream": "stdout",
       "text": [
        "\n",
        "Score: 0.0313 for Bill Gates and Bill Gates"
       ]
      },
      {
       "output_type": "stream",
       "stream": "stdout",
       "text": [
        "\n",
        "Score: 0.0177 for Bill Gates and Bill Gates"
       ]
      },
      {
       "output_type": "stream",
       "stream": "stdout",
       "text": [
        "\n",
        "Score: 0.0232 for Bill Gates and Anna Kournikova"
       ]
      },
      {
       "output_type": "stream",
       "stream": "stdout",
       "text": [
        "\n",
        "Score: 0.0295 for Bill Gates and Bill Gates"
       ]
      },
      {
       "output_type": "stream",
       "stream": "stdout",
       "text": [
        "\n",
        "Score: 0.0117 for Bill Gates and Anna Kournikova"
       ]
      },
      {
       "output_type": "stream",
       "stream": "stdout",
       "text": [
        "\n",
        "Score: 0.0081 for Bill Gates and Ann Veneman"
       ]
      },
      {
       "output_type": "stream",
       "stream": "stdout",
       "text": [
        "\n",
        "Score: 0.0018 for Bill Gates and Ann Veneman"
       ]
      },
      {
       "output_type": "stream",
       "stream": "stdout",
       "text": [
        "\n",
        "Score: 0.0000 for Bill Gates and Anna Kournikova (Less than four matches)"
       ]
      },
      {
       "output_type": "stream",
       "stream": "stdout",
       "text": [
        "\n",
        "Score: 0.0000 for Bill Gates and Ann Veneman (Less than four matches)"
       ]
      },
      {
       "output_type": "stream",
       "stream": "stdout",
       "text": [
        "\n",
        "Score: 0.0121 for Bill Gates and Anna Kournikova"
       ]
      },
      {
       "output_type": "stream",
       "stream": "stdout",
       "text": [
        "\n",
        "Score: 0.0112 for Bill Gates and Ann Veneman"
       ]
      },
      {
       "output_type": "stream",
       "stream": "stdout",
       "text": [
        "\n",
        "Score: 0.0109 for Bill Gates and Anna Kournikova"
       ]
      },
      {
       "output_type": "stream",
       "stream": "stdout",
       "text": [
        "\n",
        "Score: 0.0159 for Bill Gates and Bill Gates"
       ]
      },
      {
       "output_type": "stream",
       "stream": "stdout",
       "text": [
        "\n",
        "Score: 0.0115 for Bill Gates and Anna Kournikova"
       ]
      },
      {
       "output_type": "stream",
       "stream": "stdout",
       "text": [
        "\n",
        "Score: 0.0035 for Bill Gates and Anna Kournikova"
       ]
      },
      {
       "output_type": "stream",
       "stream": "stdout",
       "text": [
        "\n",
        "Score: 0.0096 for Bill Gates and Anna Kournikova"
       ]
      },
      {
       "output_type": "stream",
       "stream": "stdout",
       "text": [
        "\n",
        "Score: 0.0191 for Bill Gates and Bill Gates"
       ]
      },
      {
       "output_type": "stream",
       "stream": "stdout",
       "text": [
        "\n",
        "Score: 0.0152 for Bill Gates and Ann Veneman"
       ]
      },
      {
       "output_type": "stream",
       "stream": "stdout",
       "text": [
        "\n",
        "Score: 0.0000 for Bill Gates and Ann Veneman (Less than four matches)"
       ]
      },
      {
       "output_type": "stream",
       "stream": "stdout",
       "text": [
        "\n",
        "Score: 0.0000 for Bill Gates and Ann Veneman (Less than four matches)"
       ]
      },
      {
       "output_type": "stream",
       "stream": "stdout",
       "text": [
        "\n",
        "Score: 0.0053 for Bill Gates and Ann Veneman"
       ]
      },
      {
       "output_type": "stream",
       "stream": "stdout",
       "text": [
        "\n",
        "Score: 0.0066 for Bill Gates and Bill Gates"
       ]
      },
      {
       "output_type": "stream",
       "stream": "stdout",
       "text": [
        "\n",
        "Score: 0.0225 for Bill Gates and Ann Veneman"
       ]
      },
      {
       "output_type": "stream",
       "stream": "stdout",
       "text": [
        "\n",
        "Score: 0.0264 for Bill Gates and Bill Gates"
       ]
      },
      {
       "output_type": "stream",
       "stream": "stdout",
       "text": [
        "\n",
        "Score: 0.0082 for Bill Gates and Bill Gates"
       ]
      },
      {
       "output_type": "stream",
       "stream": "stdout",
       "text": [
        "\n",
        "Score: 0.0099 for Bill Gates and Bill Gates"
       ]
      },
      {
       "output_type": "stream",
       "stream": "stdout",
       "text": [
        "\n",
        "Score: 0.0243 for Bill Gates and Anna Kournikova"
       ]
      },
      {
       "output_type": "stream",
       "stream": "stdout",
       "text": [
        "\n",
        "Score: 0.0193 for Bill Gates and Bill Gates"
       ]
      },
      {
       "output_type": "stream",
       "stream": "stdout",
       "text": [
        "\n",
        "Score: 0.0203 for Bill Gates and Anna Kournikova"
       ]
      },
      {
       "output_type": "stream",
       "stream": "stdout",
       "text": [
        "\n",
        "Score: 0.0039 for Bill Gates and Ann Veneman"
       ]
      },
      {
       "output_type": "stream",
       "stream": "stdout",
       "text": [
        "\n",
        "Score: 0.0186 for Bill Gates and Ann Veneman"
       ]
      },
      {
       "output_type": "stream",
       "stream": "stdout",
       "text": [
        "\n",
        "Score: 0.0000 for Bill Gates and Anna Kournikova (Less than four matches)"
       ]
      },
      {
       "output_type": "stream",
       "stream": "stdout",
       "text": [
        "\n",
        "Score: 0.0000 for Bill Gates and Ann Veneman (Less than four matches)"
       ]
      },
      {
       "output_type": "stream",
       "stream": "stdout",
       "text": [
        "\n",
        "Score: 0.0270 for Bill Gates and Anna Kournikova"
       ]
      },
      {
       "output_type": "stream",
       "stream": "stdout",
       "text": [
        "\n",
        "Score: 0.0061 for Bill Gates and Ann Veneman"
       ]
      },
      {
       "output_type": "stream",
       "stream": "stdout",
       "text": [
        "\n",
        "Score: 0.0031 for Bill Gates and Anna Kournikova"
       ]
      },
      {
       "output_type": "stream",
       "stream": "stdout",
       "text": [
        "\n",
        "Score: 0.0176 for Bill Gates and Bill Gates"
       ]
      },
      {
       "output_type": "stream",
       "stream": "stdout",
       "text": [
        "\n",
        "Score: 0.0304 for Bill Gates and Anna Kournikova"
       ]
      },
      {
       "output_type": "stream",
       "stream": "stdout",
       "text": [
        "\n",
        "Score: 0.0000 for Bill Gates and Anna Kournikova (Less than four matches)"
       ]
      },
      {
       "output_type": "stream",
       "stream": "stdout",
       "text": [
        "\n",
        "Score: 0.0074 for Bill Gates and Anna Kournikova"
       ]
      },
      {
       "output_type": "stream",
       "stream": "stdout",
       "text": [
        "\n",
        "Score: 0.0110 for Bill Gates and Bill Gates"
       ]
      },
      {
       "output_type": "stream",
       "stream": "stdout",
       "text": [
        "\n",
        "Score: 0.0197 for Bill Gates and Ann Veneman"
       ]
      },
      {
       "output_type": "stream",
       "stream": "stdout",
       "text": [
        "\n",
        "Score: 0.0131 for Bill Gates and Ann Veneman"
       ]
      },
      {
       "output_type": "stream",
       "stream": "stdout",
       "text": [
        "\n",
        "Score: 0.0204 for Bill Gates and Ann Veneman"
       ]
      },
      {
       "output_type": "stream",
       "stream": "stdout",
       "text": [
        "\n",
        "Score: 0.0173 for Ann Veneman and Bill Gates"
       ]
      },
      {
       "output_type": "stream",
       "stream": "stdout",
       "text": [
        "\n",
        "Score: 0.0266 for Ann Veneman and Ann Veneman"
       ]
      },
      {
       "output_type": "stream",
       "stream": "stdout",
       "text": [
        "\n",
        "Score: 0.0288 for Ann Veneman and Bill Gates"
       ]
      },
      {
       "output_type": "stream",
       "stream": "stdout",
       "text": [
        "\n",
        "Score: 0.0198 for Ann Veneman and Bill Gates"
       ]
      },
      {
       "output_type": "stream",
       "stream": "stdout",
       "text": [
        "\n",
        "Score: 0.0185 for Ann Veneman and Bill Gates"
       ]
      },
      {
       "output_type": "stream",
       "stream": "stdout",
       "text": [
        "\n",
        "Score: 0.0176 for Ann Veneman and Anna Kournikova"
       ]
      },
      {
       "output_type": "stream",
       "stream": "stdout",
       "text": [
        "\n",
        "Score: 0.0244 for Ann Veneman and Bill Gates"
       ]
      },
      {
       "output_type": "stream",
       "stream": "stdout",
       "text": [
        "\n",
        "Score: 0.0344 for Ann Veneman and Anna Kournikova"
       ]
      },
      {
       "output_type": "stream",
       "stream": "stdout",
       "text": [
        "\n",
        "Score: 0.0152 for Ann Veneman and Ann Veneman"
       ]
      },
      {
       "output_type": "stream",
       "stream": "stdout",
       "text": [
        "\n",
        "Score: 0.0133 for Ann Veneman and Ann Veneman"
       ]
      },
      {
       "output_type": "stream",
       "stream": "stdout",
       "text": [
        "\n",
        "Score: 0.0242 for Ann Veneman and Anna Kournikova"
       ]
      },
      {
       "output_type": "stream",
       "stream": "stdout",
       "text": [
        "\n",
        "Score: 0.0214 for Ann Veneman and Ann Veneman"
       ]
      },
      {
       "output_type": "stream",
       "stream": "stdout",
       "text": [
        "\n",
        "Score: 0.0251 for Ann Veneman and Anna Kournikova"
       ]
      },
      {
       "output_type": "stream",
       "stream": "stdout",
       "text": [
        "\n",
        "Score: 0.0397 for Ann Veneman and Ann Veneman"
       ]
      },
      {
       "output_type": "stream",
       "stream": "stdout",
       "text": [
        "\n",
        "Score: 0.0047 for Ann Veneman and Anna Kournikova"
       ]
      },
      {
       "output_type": "stream",
       "stream": "stdout",
       "text": [
        "\n",
        "Score: 0.0250 for Ann Veneman and Bill Gates"
       ]
      },
      {
       "output_type": "stream",
       "stream": "stdout",
       "text": [
        "\n",
        "Score: 0.0100 for Ann Veneman and Anna Kournikova"
       ]
      },
      {
       "output_type": "stream",
       "stream": "stdout",
       "text": [
        "\n",
        "Score: 0.0168 for Ann Veneman and Anna Kournikova"
       ]
      },
      {
       "output_type": "stream",
       "stream": "stdout",
       "text": [
        "\n",
        "Score: 0.0102 for Ann Veneman and Anna Kournikova"
       ]
      },
      {
       "output_type": "stream",
       "stream": "stdout",
       "text": [
        "\n",
        "Score: 0.0000 for Ann Veneman and Bill Gates (Less than four matches)"
       ]
      },
      {
       "output_type": "stream",
       "stream": "stdout",
       "text": [
        "\n",
        "Score: 0.0253 for Ann Veneman and Ann Veneman"
       ]
      },
      {
       "output_type": "stream",
       "stream": "stdout",
       "text": [
        "\n",
        "Score: 0.0208 for Ann Veneman and Ann Veneman"
       ]
      },
      {
       "output_type": "stream",
       "stream": "stdout",
       "text": [
        "\n",
        "Score: 0.0303 for Ann Veneman and Ann Veneman"
       ]
      },
      {
       "output_type": "stream",
       "stream": "stdout",
       "text": [
        "\n",
        "Score: 0.0277 for Bill Gates and Ann Veneman"
       ]
      },
      {
       "output_type": "stream",
       "stream": "stdout",
       "text": [
        "\n",
        "Score: 0.0265 for Bill Gates and Bill Gates"
       ]
      },
      {
       "output_type": "stream",
       "stream": "stdout",
       "text": [
        "\n",
        "Score: 0.0511 for Bill Gates and Bill Gates"
       ]
      },
      {
       "output_type": "stream",
       "stream": "stdout",
       "text": [
        "\n",
        "Score: 0.0191 for Bill Gates and Bill Gates"
       ]
      },
      {
       "output_type": "stream",
       "stream": "stdout",
       "text": [
        "\n",
        "Score: 0.0063 for Bill Gates and Anna Kournikova"
       ]
      },
      {
       "output_type": "stream",
       "stream": "stdout",
       "text": [
        "\n",
        "Score: 0.0152 for Bill Gates and Bill Gates"
       ]
      },
      {
       "output_type": "stream",
       "stream": "stdout",
       "text": [
        "\n",
        "Score: 0.0183 for Bill Gates and Anna Kournikova"
       ]
      },
      {
       "output_type": "stream",
       "stream": "stdout",
       "text": [
        "\n",
        "Score: 0.0201 for Bill Gates and Ann Veneman"
       ]
      },
      {
       "output_type": "stream",
       "stream": "stdout",
       "text": [
        "\n",
        "Score: 0.0164 for Bill Gates and Ann Veneman"
       ]
      },
      {
       "output_type": "stream",
       "stream": "stdout",
       "text": [
        "\n",
        "Score: 0.0168 for Bill Gates and Anna Kournikova"
       ]
      },
      {
       "output_type": "stream",
       "stream": "stdout",
       "text": [
        "\n",
        "Score: 0.0101 for Bill Gates and Ann Veneman"
       ]
      },
      {
       "output_type": "stream",
       "stream": "stdout",
       "text": [
        "\n",
        "Score: 0.0248 for Bill Gates and Anna Kournikova"
       ]
      },
      {
       "output_type": "stream",
       "stream": "stdout",
       "text": [
        "\n",
        "Score: 0.0123 for Bill Gates and Ann Veneman"
       ]
      },
      {
       "output_type": "stream",
       "stream": "stdout",
       "text": [
        "\n",
        "Score: 0.0242 for Bill Gates and Anna Kournikova"
       ]
      },
      {
       "output_type": "stream",
       "stream": "stdout",
       "text": [
        "\n",
        "Score: 0.0326 for Bill Gates and Bill Gates"
       ]
      },
      {
       "output_type": "stream",
       "stream": "stdout",
       "text": [
        "\n",
        "Score: 0.0135 for Bill Gates and Anna Kournikova"
       ]
      },
      {
       "output_type": "stream",
       "stream": "stdout",
       "text": [
        "\n",
        "Score: 0.0304 for Bill Gates and Anna Kournikova"
       ]
      },
      {
       "output_type": "stream",
       "stream": "stdout",
       "text": [
        "\n",
        "Score: 0.0000 for Bill Gates and Anna Kournikova (Less than four matches)"
       ]
      },
      {
       "output_type": "stream",
       "stream": "stdout",
       "text": [
        "\n",
        "Score: 0.0212 for Bill Gates and Bill Gates"
       ]
      },
      {
       "output_type": "stream",
       "stream": "stdout",
       "text": [
        "\n",
        "Score: 0.0050 for Bill Gates and Ann Veneman"
       ]
      },
      {
       "output_type": "stream",
       "stream": "stdout",
       "text": [
        "\n",
        "Score: 0.0210 for Bill Gates and Ann Veneman"
       ]
      },
      {
       "output_type": "stream",
       "stream": "stdout",
       "text": [
        "\n",
        "Score: 0.0260 for Bill Gates and Ann Veneman"
       ]
      },
      {
       "output_type": "stream",
       "stream": "stdout",
       "text": [
        "\n",
        "Score: 0.0359 for Ann Veneman and Bill Gates"
       ]
      },
      {
       "output_type": "stream",
       "stream": "stdout",
       "text": [
        "\n",
        "Score: 0.0166 for Ann Veneman and Bill Gates"
       ]
      },
      {
       "output_type": "stream",
       "stream": "stdout",
       "text": [
        "\n",
        "Score: 0.0203 for Ann Veneman and Bill Gates"
       ]
      },
      {
       "output_type": "stream",
       "stream": "stdout",
       "text": [
        "\n",
        "Score: 0.0215 for Ann Veneman and Anna Kournikova"
       ]
      },
      {
       "output_type": "stream",
       "stream": "stdout",
       "text": [
        "\n",
        "Score: 0.0284 for Ann Veneman and Bill Gates"
       ]
      },
      {
       "output_type": "stream",
       "stream": "stdout",
       "text": [
        "\n",
        "Score: 0.0474 for Ann Veneman and Anna Kournikova"
       ]
      },
      {
       "output_type": "stream",
       "stream": "stdout",
       "text": [
        "\n",
        "Score: 0.0260 for Ann Veneman and Ann Veneman"
       ]
      },
      {
       "output_type": "stream",
       "stream": "stdout",
       "text": [
        "\n",
        "Score: 0.0145 for Ann Veneman and Ann Veneman"
       ]
      },
      {
       "output_type": "stream",
       "stream": "stdout",
       "text": [
        "\n",
        "Score: 0.0224 for Ann Veneman and Anna Kournikova"
       ]
      },
      {
       "output_type": "stream",
       "stream": "stdout",
       "text": [
        "\n",
        "Score: 0.0228 for Ann Veneman and Ann Veneman"
       ]
      },
      {
       "output_type": "stream",
       "stream": "stdout",
       "text": [
        "\n",
        "Score: 0.0250 for Ann Veneman and Anna Kournikova"
       ]
      },
      {
       "output_type": "stream",
       "stream": "stdout",
       "text": [
        "\n",
        "Score: 0.0463 for Ann Veneman and Ann Veneman"
       ]
      },
      {
       "output_type": "stream",
       "stream": "stdout",
       "text": [
        "\n",
        "Score: 0.0250 for Ann Veneman and Anna Kournikova"
       ]
      },
      {
       "output_type": "stream",
       "stream": "stdout",
       "text": [
        "\n",
        "Score: 0.0369 for Ann Veneman and Bill Gates"
       ]
      },
      {
       "output_type": "stream",
       "stream": "stdout",
       "text": [
        "\n",
        "Score: 0.0212 for Ann Veneman and Anna Kournikova"
       ]
      },
      {
       "output_type": "stream",
       "stream": "stdout",
       "text": [
        "\n",
        "Score: 0.0273 for Ann Veneman and Anna Kournikova"
       ]
      },
      {
       "output_type": "stream",
       "stream": "stdout",
       "text": [
        "\n",
        "Score: 0.0332 for Ann Veneman and Anna Kournikova"
       ]
      },
      {
       "output_type": "stream",
       "stream": "stdout",
       "text": [
        "\n",
        "Score: 0.0246 for Ann Veneman and Bill Gates"
       ]
      },
      {
       "output_type": "stream",
       "stream": "stdout",
       "text": [
        "\n",
        "Score: 0.0251 for Ann Veneman and Ann Veneman"
       ]
      },
      {
       "output_type": "stream",
       "stream": "stdout",
       "text": [
        "\n",
        "Score: 0.0372 for Ann Veneman and Ann Veneman"
       ]
      },
      {
       "output_type": "stream",
       "stream": "stdout",
       "text": [
        "\n",
        "Score: 0.0385 for Ann Veneman and Ann Veneman"
       ]
      },
      {
       "output_type": "stream",
       "stream": "stdout",
       "text": [
        "\n",
        "Score: 0.0469 for Bill Gates and Bill Gates"
       ]
      },
      {
       "output_type": "stream",
       "stream": "stdout",
       "text": [
        "\n",
        "Score: 0.0405 for Bill Gates and Bill Gates"
       ]
      },
      {
       "output_type": "stream",
       "stream": "stdout",
       "text": [
        "\n",
        "Score: 0.0139 for Bill Gates and Anna Kournikova"
       ]
      },
      {
       "output_type": "stream",
       "stream": "stdout",
       "text": [
        "\n",
        "Score: 0.0318 for Bill Gates and Bill Gates"
       ]
      },
      {
       "output_type": "stream",
       "stream": "stdout",
       "text": [
        "\n",
        "Score: 0.0368 for Bill Gates and Anna Kournikova"
       ]
      },
      {
       "output_type": "stream",
       "stream": "stdout",
       "text": [
        "\n",
        "Score: 0.0257 for Bill Gates and Ann Veneman"
       ]
      },
      {
       "output_type": "stream",
       "stream": "stdout",
       "text": [
        "\n",
        "Score: 0.0224 for Bill Gates and Ann Veneman"
       ]
      },
      {
       "output_type": "stream",
       "stream": "stdout",
       "text": [
        "\n",
        "Score: 0.0199 for Bill Gates and Anna Kournikova"
       ]
      },
      {
       "output_type": "stream",
       "stream": "stdout",
       "text": [
        "\n",
        "Score: 0.0356 for Bill Gates and Ann Veneman"
       ]
      },
      {
       "output_type": "stream",
       "stream": "stdout",
       "text": [
        "\n",
        "Score: 0.0322 for Bill Gates and Anna Kournikova"
       ]
      },
      {
       "output_type": "stream",
       "stream": "stdout",
       "text": [
        "\n",
        "Score: 0.0198 for Bill Gates and Ann Veneman"
       ]
      },
      {
       "output_type": "stream",
       "stream": "stdout",
       "text": [
        "\n",
        "Score: 0.0180 for Bill Gates and Anna Kournikova"
       ]
      },
      {
       "output_type": "stream",
       "stream": "stdout",
       "text": [
        "\n",
        "Score: 0.0634 for Bill Gates and Bill Gates"
       ]
      },
      {
       "output_type": "stream",
       "stream": "stdout",
       "text": [
        "\n",
        "Score: 0.0192 for Bill Gates and Anna Kournikova"
       ]
      },
      {
       "output_type": "stream",
       "stream": "stdout",
       "text": [
        "\n",
        "Score: 0.0193 for Bill Gates and Anna Kournikova"
       ]
      },
      {
       "output_type": "stream",
       "stream": "stdout",
       "text": [
        "\n",
        "Score: 0.0325 for Bill Gates and Anna Kournikova"
       ]
      },
      {
       "output_type": "stream",
       "stream": "stdout",
       "text": [
        "\n",
        "Score: 0.0246 for Bill Gates and Bill Gates"
       ]
      },
      {
       "output_type": "stream",
       "stream": "stdout",
       "text": [
        "\n",
        "Score: 0.0273 for Bill Gates and Ann Veneman"
       ]
      },
      {
       "output_type": "stream",
       "stream": "stdout",
       "text": [
        "\n",
        "Score: 0.0239 for Bill Gates and Ann Veneman"
       ]
      },
      {
       "output_type": "stream",
       "stream": "stdout",
       "text": [
        "\n",
        "Score: 0.0156 for Bill Gates and Ann Veneman"
       ]
      },
      {
       "output_type": "stream",
       "stream": "stdout",
       "text": [
        "\n",
        "Score: 0.0102 for Bill Gates and Bill Gates"
       ]
      },
      {
       "output_type": "stream",
       "stream": "stdout",
       "text": [
        "\n",
        "Score: 0.0180 for Bill Gates and Anna Kournikova"
       ]
      },
      {
       "output_type": "stream",
       "stream": "stdout",
       "text": [
        "\n",
        "Score: 0.0247 for Bill Gates and Bill Gates"
       ]
      },
      {
       "output_type": "stream",
       "stream": "stdout",
       "text": [
        "\n",
        "Score: 0.0000 for Bill Gates and Anna Kournikova (Less than four matches)"
       ]
      },
      {
       "output_type": "stream",
       "stream": "stdout",
       "text": [
        "\n",
        "Score: 0.0189 for Bill Gates and Ann Veneman"
       ]
      },
      {
       "output_type": "stream",
       "stream": "stdout",
       "text": [
        "\n",
        "Score: 0.0195 for Bill Gates and Ann Veneman"
       ]
      },
      {
       "output_type": "stream",
       "stream": "stdout",
       "text": [
        "\n",
        "Score: 0.0483 for Bill Gates and Anna Kournikova"
       ]
      },
      {
       "output_type": "stream",
       "stream": "stdout",
       "text": [
        "\n",
        "Score: 0.0183 for Bill Gates and Ann Veneman"
       ]
      },
      {
       "output_type": "stream",
       "stream": "stdout",
       "text": [
        "\n",
        "Score: 0.0232 for Bill Gates and Anna Kournikova"
       ]
      },
      {
       "output_type": "stream",
       "stream": "stdout",
       "text": [
        "\n",
        "Score: 0.0261 for Bill Gates and Ann Veneman"
       ]
      },
      {
       "output_type": "stream",
       "stream": "stdout",
       "text": [
        "\n",
        "Score: 0.0228 for Bill Gates and Anna Kournikova"
       ]
      },
      {
       "output_type": "stream",
       "stream": "stdout",
       "text": [
        "\n",
        "Score: 0.0071 for Bill Gates and Bill Gates"
       ]
      },
      {
       "output_type": "stream",
       "stream": "stdout",
       "text": [
        "\n",
        "Score: 0.0208 for Bill Gates and Anna Kournikova"
       ]
      },
      {
       "output_type": "stream",
       "stream": "stdout",
       "text": [
        "\n",
        "Score: 0.0154 for Bill Gates and Anna Kournikova"
       ]
      },
      {
       "output_type": "stream",
       "stream": "stdout",
       "text": [
        "\n",
        "Score: 0.0452 for Bill Gates and Anna Kournikova"
       ]
      },
      {
       "output_type": "stream",
       "stream": "stdout",
       "text": [
        "\n",
        "Score: 0.0337 for Bill Gates and Bill Gates"
       ]
      },
      {
       "output_type": "stream",
       "stream": "stdout",
       "text": [
        "\n",
        "Score: 0.0170 for Bill Gates and Ann Veneman"
       ]
      },
      {
       "output_type": "stream",
       "stream": "stdout",
       "text": [
        "\n",
        "Score: 0.0291 for Bill Gates and Ann Veneman"
       ]
      },
      {
       "output_type": "stream",
       "stream": "stdout",
       "text": [
        "\n",
        "Score: 0.0112 for Bill Gates and Ann Veneman"
       ]
      },
      {
       "output_type": "stream",
       "stream": "stdout",
       "text": [
        "\n",
        "Score: 0.0150 for Bill Gates and Anna Kournikova"
       ]
      },
      {
       "output_type": "stream",
       "stream": "stdout",
       "text": [
        "\n",
        "Score: 0.0267 for Bill Gates and Bill Gates"
       ]
      },
      {
       "output_type": "stream",
       "stream": "stdout",
       "text": [
        "\n",
        "Score: 0.0195 for Bill Gates and Anna Kournikova"
       ]
      },
      {
       "output_type": "stream",
       "stream": "stdout",
       "text": [
        "\n",
        "Score: 0.0245 for Bill Gates and Ann Veneman"
       ]
      },
      {
       "output_type": "stream",
       "stream": "stdout",
       "text": [
        "\n",
        "Score: 0.0257 for Bill Gates and Ann Veneman"
       ]
      },
      {
       "output_type": "stream",
       "stream": "stdout",
       "text": [
        "\n",
        "Score: 0.0158 for Bill Gates and Anna Kournikova"
       ]
      },
      {
       "output_type": "stream",
       "stream": "stdout",
       "text": [
        "\n",
        "Score: 0.0178 for Bill Gates and Ann Veneman"
       ]
      },
      {
       "output_type": "stream",
       "stream": "stdout",
       "text": [
        "\n",
        "Score: 0.0110 for Bill Gates and Anna Kournikova"
       ]
      },
      {
       "output_type": "stream",
       "stream": "stdout",
       "text": [
        "\n",
        "Score: 0.0278 for Bill Gates and Ann Veneman"
       ]
      },
      {
       "output_type": "stream",
       "stream": "stdout",
       "text": [
        "\n",
        "Score: 0.0139 for Bill Gates and Anna Kournikova"
       ]
      },
      {
       "output_type": "stream",
       "stream": "stdout",
       "text": [
        "\n",
        "Score: 0.0314 for Bill Gates and Bill Gates"
       ]
      },
      {
       "output_type": "stream",
       "stream": "stdout",
       "text": [
        "\n",
        "Score: 0.0320 for Bill Gates and Anna Kournikova"
       ]
      },
      {
       "output_type": "stream",
       "stream": "stdout",
       "text": [
        "\n",
        "Score: 0.0115 for Bill Gates and Anna Kournikova"
       ]
      },
      {
       "output_type": "stream",
       "stream": "stdout",
       "text": [
        "\n",
        "Score: 0.0322 for Bill Gates and Anna Kournikova"
       ]
      },
      {
       "output_type": "stream",
       "stream": "stdout",
       "text": [
        "\n",
        "Score: 0.0408 for Bill Gates and Bill Gates"
       ]
      },
      {
       "output_type": "stream",
       "stream": "stdout",
       "text": [
        "\n",
        "Score: 0.0135 for Bill Gates and Ann Veneman"
       ]
      },
      {
       "output_type": "stream",
       "stream": "stdout",
       "text": [
        "\n",
        "Score: 0.0251 for Bill Gates and Ann Veneman"
       ]
      },
      {
       "output_type": "stream",
       "stream": "stdout",
       "text": [
        "\n",
        "Score: 0.0252 for Bill Gates and Ann Veneman"
       ]
      },
      {
       "output_type": "stream",
       "stream": "stdout",
       "text": [
        "\n",
        "Score: 0.0000 for Anna Kournikova and Bill Gates (Less than four matches)"
       ]
      },
      {
       "output_type": "stream",
       "stream": "stdout",
       "text": [
        "\n",
        "Score: 0.0431 for Anna Kournikova and Anna Kournikova"
       ]
      },
      {
       "output_type": "stream",
       "stream": "stdout",
       "text": [
        "\n",
        "Score: 0.0169 for Anna Kournikova and Ann Veneman"
       ]
      },
      {
       "output_type": "stream",
       "stream": "stdout",
       "text": [
        "\n",
        "Score: 0.0000 for Anna Kournikova and Ann Veneman (Less than four matches)"
       ]
      },
      {
       "output_type": "stream",
       "stream": "stdout",
       "text": [
        "\n",
        "Score: 0.0488 for Anna Kournikova and Anna Kournikova"
       ]
      },
      {
       "output_type": "stream",
       "stream": "stdout",
       "text": [
        "\n",
        "Score: 0.0230 for Anna Kournikova and Ann Veneman"
       ]
      },
      {
       "output_type": "stream",
       "stream": "stdout",
       "text": [
        "\n",
        "Score: 0.0458 for Anna Kournikova and Anna Kournikova"
       ]
      },
      {
       "output_type": "stream",
       "stream": "stdout",
       "text": [
        "\n",
        "Score: 0.0053 for Anna Kournikova and Ann Veneman"
       ]
      },
      {
       "output_type": "stream",
       "stream": "stdout",
       "text": [
        "\n",
        "Score: 0.0102 for Anna Kournikova and Anna Kournikova"
       ]
      },
      {
       "output_type": "stream",
       "stream": "stdout",
       "text": [
        "\n",
        "Score: 0.0137 for Anna Kournikova and Bill Gates"
       ]
      },
      {
       "output_type": "stream",
       "stream": "stdout",
       "text": [
        "\n",
        "Score: 0.0347 for Anna Kournikova and Anna Kournikova"
       ]
      },
      {
       "output_type": "stream",
       "stream": "stdout",
       "text": [
        "\n",
        "Score: 0.0000 for Anna Kournikova and Anna Kournikova (Less than four matches)"
       ]
      },
      {
       "output_type": "stream",
       "stream": "stdout",
       "text": [
        "\n",
        "Score: 0.0327 for Anna Kournikova and Anna Kournikova"
       ]
      },
      {
       "output_type": "stream",
       "stream": "stdout",
       "text": [
        "\n",
        "Score: 0.0000 for Anna Kournikova and Bill Gates (Less than four matches)"
       ]
      },
      {
       "output_type": "stream",
       "stream": "stdout",
       "text": [
        "\n",
        "Score: 0.0000 for Anna Kournikova and Ann Veneman (Less than four matches)"
       ]
      },
      {
       "output_type": "stream",
       "stream": "stdout",
       "text": [
        "\n",
        "Score: 0.0000 for Anna Kournikova and Ann Veneman (Less than four matches)"
       ]
      },
      {
       "output_type": "stream",
       "stream": "stdout",
       "text": [
        "\n",
        "Score: 0.0138 for Anna Kournikova and Ann Veneman"
       ]
      },
      {
       "output_type": "stream",
       "stream": "stdout",
       "text": [
        "\n",
        "Score: 0.0192 for Bill Gates and Anna Kournikova"
       ]
      },
      {
       "output_type": "stream",
       "stream": "stdout",
       "text": [
        "\n",
        "Score: 0.0287 for Bill Gates and Ann Veneman"
       ]
      },
      {
       "output_type": "stream",
       "stream": "stdout",
       "text": [
        "\n",
        "Score: 0.0198 for Bill Gates and Ann Veneman"
       ]
      },
      {
       "output_type": "stream",
       "stream": "stdout",
       "text": [
        "\n",
        "Score: 0.0349 for Bill Gates and Anna Kournikova"
       ]
      },
      {
       "output_type": "stream",
       "stream": "stdout",
       "text": [
        "\n",
        "Score: 0.0329 for Bill Gates and Ann Veneman"
       ]
      },
      {
       "output_type": "stream",
       "stream": "stdout",
       "text": [
        "\n",
        "Score: 0.0169 for Bill Gates and Anna Kournikova"
       ]
      },
      {
       "output_type": "stream",
       "stream": "stdout",
       "text": [
        "\n",
        "Score: 0.0258 for Bill Gates and Ann Veneman"
       ]
      },
      {
       "output_type": "stream",
       "stream": "stdout",
       "text": [
        "\n",
        "Score: 0.0334 for Bill Gates and Anna Kournikova"
       ]
      },
      {
       "output_type": "stream",
       "stream": "stdout",
       "text": [
        "\n",
        "Score: 0.0181 for Bill Gates and Bill Gates"
       ]
      },
      {
       "output_type": "stream",
       "stream": "stdout",
       "text": [
        "\n",
        "Score: 0.0124 for Bill Gates and Anna Kournikova"
       ]
      },
      {
       "output_type": "stream",
       "stream": "stdout",
       "text": [
        "\n",
        "Score: 0.0190 for Bill Gates and Anna Kournikova"
       ]
      },
      {
       "output_type": "stream",
       "stream": "stdout",
       "text": [
        "\n",
        "Score: 0.0220 for Bill Gates and Anna Kournikova"
       ]
      },
      {
       "output_type": "stream",
       "stream": "stdout",
       "text": [
        "\n",
        "Score: 0.0307 for Bill Gates and Bill Gates"
       ]
      },
      {
       "output_type": "stream",
       "stream": "stdout",
       "text": [
        "\n",
        "Score: 0.0310 for Bill Gates and Ann Veneman"
       ]
      },
      {
       "output_type": "stream",
       "stream": "stdout",
       "text": [
        "\n",
        "Score: 0.0417 for Bill Gates and Ann Veneman"
       ]
      },
      {
       "output_type": "stream",
       "stream": "stdout",
       "text": [
        "\n",
        "Score: 0.0238 for Bill Gates and Ann Veneman"
       ]
      },
      {
       "output_type": "stream",
       "stream": "stdout",
       "text": [
        "\n",
        "Score: 0.0109 for Anna Kournikova and Ann Veneman"
       ]
      },
      {
       "output_type": "stream",
       "stream": "stdout",
       "text": [
        "\n",
        "Score: 0.0073 for Anna Kournikova and Ann Veneman"
       ]
      },
      {
       "output_type": "stream",
       "stream": "stdout",
       "text": [
        "\n",
        "Score: 0.0230 for Anna Kournikova and Anna Kournikova"
       ]
      },
      {
       "output_type": "stream",
       "stream": "stdout",
       "text": [
        "\n",
        "Score: 0.0270 for Anna Kournikova and Ann Veneman"
       ]
      },
      {
       "output_type": "stream",
       "stream": "stdout",
       "text": [
        "\n",
        "Score: 0.0117 for Anna Kournikova and Anna Kournikova"
       ]
      },
      {
       "output_type": "stream",
       "stream": "stdout",
       "text": [
        "\n",
        "Score: 0.0121 for Anna Kournikova and Ann Veneman"
       ]
      },
      {
       "output_type": "stream",
       "stream": "stdout",
       "text": [
        "\n",
        "Score: 0.0165 for Anna Kournikova and Anna Kournikova"
       ]
      },
      {
       "output_type": "stream",
       "stream": "stdout",
       "text": [
        "\n",
        "Score: 0.0080 for Anna Kournikova and Bill Gates"
       ]
      },
      {
       "output_type": "stream",
       "stream": "stdout",
       "text": [
        "\n",
        "Score: 0.0254 for Anna Kournikova and Anna Kournikova"
       ]
      },
      {
       "output_type": "stream",
       "stream": "stdout",
       "text": [
        "\n",
        "Score: 0.0000 for Anna Kournikova and Anna Kournikova (Less than four matches)"
       ]
      },
      {
       "output_type": "stream",
       "stream": "stdout",
       "text": [
        "\n",
        "Score: 0.0136 for Anna Kournikova and Anna Kournikova"
       ]
      },
      {
       "output_type": "stream",
       "stream": "stdout",
       "text": [
        "\n",
        "Score: 0.0047 for Anna Kournikova and Bill Gates"
       ]
      },
      {
       "output_type": "stream",
       "stream": "stdout",
       "text": [
        "\n",
        "Score: 0.0330 for Anna Kournikova and Ann Veneman"
       ]
      },
      {
       "output_type": "stream",
       "stream": "stdout",
       "text": [
        "\n",
        "Score: 0.0234 for Anna Kournikova and Ann Veneman"
       ]
      },
      {
       "output_type": "stream",
       "stream": "stdout",
       "text": [
        "\n",
        "Score: 0.0155 for Anna Kournikova and Ann Veneman"
       ]
      },
      {
       "output_type": "stream",
       "stream": "stdout",
       "text": [
        "\n",
        "Score: 0.0196 for Ann Veneman and Ann Veneman"
       ]
      },
      {
       "output_type": "stream",
       "stream": "stdout",
       "text": [
        "\n",
        "Score: 0.0203 for Ann Veneman and Anna Kournikova"
       ]
      },
      {
       "output_type": "stream",
       "stream": "stdout",
       "text": [
        "\n",
        "Score: 0.0261 for Ann Veneman and Ann Veneman"
       ]
      },
      {
       "output_type": "stream",
       "stream": "stdout",
       "text": [
        "\n",
        "Score: 0.0229 for Ann Veneman and Anna Kournikova"
       ]
      },
      {
       "output_type": "stream",
       "stream": "stdout",
       "text": [
        "\n",
        "Score: 0.0223 for Ann Veneman and Ann Veneman"
       ]
      },
      {
       "output_type": "stream",
       "stream": "stdout",
       "text": [
        "\n",
        "Score: 0.0032 for Ann Veneman and Anna Kournikova"
       ]
      },
      {
       "output_type": "stream",
       "stream": "stdout",
       "text": [
        "\n",
        "Score: 0.0143 for Ann Veneman and Bill Gates"
       ]
      },
      {
       "output_type": "stream",
       "stream": "stdout",
       "text": [
        "\n",
        "Score: 0.0212 for Ann Veneman and Anna Kournikova"
       ]
      },
      {
       "output_type": "stream",
       "stream": "stdout",
       "text": [
        "\n",
        "Score: 0.0311 for Ann Veneman and Anna Kournikova"
       ]
      },
      {
       "output_type": "stream",
       "stream": "stdout",
       "text": [
        "\n",
        "Score: 0.0267 for Ann Veneman and Anna Kournikova"
       ]
      },
      {
       "output_type": "stream",
       "stream": "stdout",
       "text": [
        "\n",
        "Score: 0.0165 for Ann Veneman and Bill Gates"
       ]
      },
      {
       "output_type": "stream",
       "stream": "stdout",
       "text": [
        "\n",
        "Score: 0.0262 for Ann Veneman and Ann Veneman"
       ]
      },
      {
       "output_type": "stream",
       "stream": "stdout",
       "text": [
        "\n",
        "Score: 0.0056 for Ann Veneman and Ann Veneman"
       ]
      },
      {
       "output_type": "stream",
       "stream": "stdout",
       "text": [
        "\n",
        "Score: 0.0124 for Ann Veneman and Ann Veneman"
       ]
      },
      {
       "output_type": "stream",
       "stream": "stdout",
       "text": [
        "\n",
        "Score: 0.0164 for Ann Veneman and Anna Kournikova"
       ]
      },
      {
       "output_type": "stream",
       "stream": "stdout",
       "text": [
        "\n",
        "Score: 0.0170 for Ann Veneman and Ann Veneman"
       ]
      },
      {
       "output_type": "stream",
       "stream": "stdout",
       "text": [
        "\n",
        "Score: 0.0090 for Ann Veneman and Anna Kournikova"
       ]
      },
      {
       "output_type": "stream",
       "stream": "stdout",
       "text": [
        "\n",
        "Score: 0.0156 for Ann Veneman and Ann Veneman"
       ]
      },
      {
       "output_type": "stream",
       "stream": "stdout",
       "text": [
        "\n",
        "Score: 0.0100 for Ann Veneman and Anna Kournikova"
       ]
      },
      {
       "output_type": "stream",
       "stream": "stdout",
       "text": [
        "\n",
        "Score: 0.0152 for Ann Veneman and Bill Gates"
       ]
      },
      {
       "output_type": "stream",
       "stream": "stdout",
       "text": [
        "\n",
        "Score: 0.0193 for Ann Veneman and Anna Kournikova"
       ]
      },
      {
       "output_type": "stream",
       "stream": "stdout",
       "text": [
        "\n",
        "Score: 0.0358 for Ann Veneman and Anna Kournikova"
       ]
      },
      {
       "output_type": "stream",
       "stream": "stdout",
       "text": [
        "\n",
        "Score: 0.0076 for Ann Veneman and Anna Kournikova"
       ]
      },
      {
       "output_type": "stream",
       "stream": "stdout",
       "text": [
        "\n",
        "Score: 0.0215 for Ann Veneman and Bill Gates"
       ]
      },
      {
       "output_type": "stream",
       "stream": "stdout",
       "text": [
        "\n",
        "Score: 0.0224 for Ann Veneman and Ann Veneman"
       ]
      },
      {
       "output_type": "stream",
       "stream": "stdout",
       "text": [
        "\n",
        "Score: 0.0283 for Ann Veneman and Ann Veneman"
       ]
      },
      {
       "output_type": "stream",
       "stream": "stdout",
       "text": [
        "\n",
        "Score: 0.0162 for Ann Veneman and Ann Veneman"
       ]
      },
      {
       "output_type": "stream",
       "stream": "stdout",
       "text": [
        "\n",
        "Score: 0.0363 for Anna Kournikova and Ann Veneman"
       ]
      },
      {
       "output_type": "stream",
       "stream": "stdout",
       "text": [
        "\n",
        "Score: 0.0309 for Anna Kournikova and Anna Kournikova"
       ]
      },
      {
       "output_type": "stream",
       "stream": "stdout",
       "text": [
        "\n",
        "Score: 0.0002 for Anna Kournikova and Ann Veneman"
       ]
      },
      {
       "output_type": "stream",
       "stream": "stdout",
       "text": [
        "\n",
        "Score: 0.0380 for Anna Kournikova and Anna Kournikova"
       ]
      },
      {
       "output_type": "stream",
       "stream": "stdout",
       "text": [
        "\n",
        "Score: 0.0094 for Anna Kournikova and Bill Gates"
       ]
      },
      {
       "output_type": "stream",
       "stream": "stdout",
       "text": [
        "\n",
        "Score: 0.0190 for Anna Kournikova and Anna Kournikova"
       ]
      },
      {
       "output_type": "stream",
       "stream": "stdout",
       "text": [
        "\n",
        "Score: 0.0067 for Anna Kournikova and Anna Kournikova"
       ]
      },
      {
       "output_type": "stream",
       "stream": "stdout",
       "text": [
        "\n",
        "Score: 0.0444 for Anna Kournikova and Anna Kournikova"
       ]
      },
      {
       "output_type": "stream",
       "stream": "stdout",
       "text": [
        "\n",
        "Score: 0.0266 for Anna Kournikova and Bill Gates"
       ]
      },
      {
       "output_type": "stream",
       "stream": "stdout",
       "text": [
        "\n",
        "Score: 0.0000 for Anna Kournikova and Ann Veneman (Less than four matches)"
       ]
      },
      {
       "output_type": "stream",
       "stream": "stdout",
       "text": [
        "\n",
        "Score: 0.0247 for Anna Kournikova and Ann Veneman"
       ]
      },
      {
       "output_type": "stream",
       "stream": "stdout",
       "text": [
        "\n",
        "Score: 0.0320 for Anna Kournikova and Ann Veneman"
       ]
      },
      {
       "output_type": "stream",
       "stream": "stdout",
       "text": [
        "\n",
        "Score: 0.0586 for Ann Veneman and Anna Kournikova"
       ]
      },
      {
       "output_type": "stream",
       "stream": "stdout",
       "text": [
        "\n",
        "Score: 0.0357 for Ann Veneman and Ann Veneman"
       ]
      },
      {
       "output_type": "stream",
       "stream": "stdout",
       "text": [
        "\n",
        "Score: 0.0165 for Ann Veneman and Anna Kournikova"
       ]
      },
      {
       "output_type": "stream",
       "stream": "stdout",
       "text": [
        "\n",
        "Score: 0.0259 for Ann Veneman and Bill Gates"
       ]
      },
      {
       "output_type": "stream",
       "stream": "stdout",
       "text": [
        "\n",
        "Score: 0.0000 for Ann Veneman and Anna Kournikova (Less than four matches)"
       ]
      },
      {
       "output_type": "stream",
       "stream": "stdout",
       "text": [
        "\n",
        "Score: 0.0270 for Ann Veneman and Anna Kournikova"
       ]
      },
      {
       "output_type": "stream",
       "stream": "stdout",
       "text": [
        "\n",
        "Score: 0.0182 for Ann Veneman and Anna Kournikova"
       ]
      },
      {
       "output_type": "stream",
       "stream": "stdout",
       "text": [
        "\n",
        "Score: 0.0058 for Ann Veneman and Bill Gates"
       ]
      },
      {
       "output_type": "stream",
       "stream": "stdout",
       "text": [
        "\n",
        "Score: 0.0195 for Ann Veneman and Ann Veneman"
       ]
      },
      {
       "output_type": "stream",
       "stream": "stdout",
       "text": [
        "\n",
        "Score: 0.0432 for Ann Veneman and Ann Veneman"
       ]
      },
      {
       "output_type": "stream",
       "stream": "stdout",
       "text": [
        "\n",
        "Score: 0.0194 for Ann Veneman and Ann Veneman"
       ]
      },
      {
       "output_type": "stream",
       "stream": "stdout",
       "text": [
        "\n",
        "Score: 0.0161 for Anna Kournikova and Ann Veneman"
       ]
      },
      {
       "output_type": "stream",
       "stream": "stdout",
       "text": [
        "\n",
        "Score: 0.0000 for Anna Kournikova and Anna Kournikova (Less than four matches)"
       ]
      },
      {
       "output_type": "stream",
       "stream": "stdout",
       "text": [
        "\n",
        "Score: 0.0289 for Anna Kournikova and Bill Gates"
       ]
      },
      {
       "output_type": "stream",
       "stream": "stdout",
       "text": [
        "\n",
        "Score: 0.0366 for Anna Kournikova and Anna Kournikova"
       ]
      },
      {
       "output_type": "stream",
       "stream": "stdout",
       "text": [
        "\n",
        "Score: 0.0144 for Anna Kournikova and Anna Kournikova"
       ]
      },
      {
       "output_type": "stream",
       "stream": "stdout",
       "text": [
        "\n",
        "Score: 0.0352 for Anna Kournikova and Anna Kournikova"
       ]
      },
      {
       "output_type": "stream",
       "stream": "stdout",
       "text": [
        "\n",
        "Score: 0.0293 for Anna Kournikova and Bill Gates"
       ]
      },
      {
       "output_type": "stream",
       "stream": "stdout",
       "text": [
        "\n",
        "Score: 0.0098 for Anna Kournikova and Ann Veneman"
       ]
      },
      {
       "output_type": "stream",
       "stream": "stdout",
       "text": [
        "\n",
        "Score: 0.0069 for Anna Kournikova and Ann Veneman"
       ]
      },
      {
       "output_type": "stream",
       "stream": "stdout",
       "text": [
        "\n",
        "Score: 0.0187 for Anna Kournikova and Ann Veneman"
       ]
      },
      {
       "output_type": "stream",
       "stream": "stdout",
       "text": [
        "\n",
        "Score: 0.0175 for Ann Veneman and Anna Kournikova"
       ]
      },
      {
       "output_type": "stream",
       "stream": "stdout",
       "text": [
        "\n",
        "Score: 0.0277 for Ann Veneman and Bill Gates"
       ]
      },
      {
       "output_type": "stream",
       "stream": "stdout",
       "text": [
        "\n",
        "Score: 0.0209 for Ann Veneman and Anna Kournikova"
       ]
      },
      {
       "output_type": "stream",
       "stream": "stdout",
       "text": [
        "\n",
        "Score: 0.0116 for Ann Veneman and Anna Kournikova"
       ]
      },
      {
       "output_type": "stream",
       "stream": "stdout",
       "text": [
        "\n",
        "Score: 0.0159 for Ann Veneman and Anna Kournikova"
       ]
      },
      {
       "output_type": "stream",
       "stream": "stdout",
       "text": [
        "\n",
        "Score: 0.0171 for Ann Veneman and Bill Gates"
       ]
      },
      {
       "output_type": "stream",
       "stream": "stdout",
       "text": [
        "\n",
        "Score: 0.0269 for Ann Veneman and Ann Veneman"
       ]
      },
      {
       "output_type": "stream",
       "stream": "stdout",
       "text": [
        "\n",
        "Score: 0.0194 for Ann Veneman and Ann Veneman"
       ]
      },
      {
       "output_type": "stream",
       "stream": "stdout",
       "text": [
        "\n",
        "Score: 0.0228 for Ann Veneman and Ann Veneman"
       ]
      },
      {
       "output_type": "stream",
       "stream": "stdout",
       "text": [
        "\n",
        "Score: 0.0267 for Anna Kournikova and Bill Gates"
       ]
      },
      {
       "output_type": "stream",
       "stream": "stdout",
       "text": [
        "\n",
        "Score: 0.0108 for Anna Kournikova and Anna Kournikova"
       ]
      },
      {
       "output_type": "stream",
       "stream": "stdout",
       "text": [
        "\n",
        "Score: 0.0120 for Anna Kournikova and Anna Kournikova"
       ]
      },
      {
       "output_type": "stream",
       "stream": "stdout",
       "text": [
        "\n",
        "Score: 0.0236 for Anna Kournikova and Anna Kournikova"
       ]
      },
      {
       "output_type": "stream",
       "stream": "stdout",
       "text": [
        "\n",
        "Score: 0.0123 for Anna Kournikova and Bill Gates"
       ]
      },
      {
       "output_type": "stream",
       "stream": "stdout",
       "text": [
        "\n",
        "Score: 0.0076 for Anna Kournikova and Ann Veneman"
       ]
      },
      {
       "output_type": "stream",
       "stream": "stdout",
       "text": [
        "\n",
        "Score: 0.0152 for Anna Kournikova and Ann Veneman"
       ]
      },
      {
       "output_type": "stream",
       "stream": "stdout",
       "text": [
        "\n",
        "Score: 0.0164 for Anna Kournikova and Ann Veneman"
       ]
      },
      {
       "output_type": "stream",
       "stream": "stdout",
       "text": [
        "\n",
        "Score: 0.0143 for Bill Gates and Anna Kournikova"
       ]
      },
      {
       "output_type": "stream",
       "stream": "stdout",
       "text": [
        "\n",
        "Score: 0.0244 for Bill Gates and Anna Kournikova"
       ]
      },
      {
       "output_type": "stream",
       "stream": "stdout",
       "text": [
        "\n",
        "Score: 0.0373 for Bill Gates and Anna Kournikova"
       ]
      },
      {
       "output_type": "stream",
       "stream": "stdout",
       "text": [
        "\n",
        "Score: 0.0302 for Bill Gates and Bill Gates"
       ]
      },
      {
       "output_type": "stream",
       "stream": "stdout",
       "text": [
        "\n",
        "Score: 0.0159 for Bill Gates and Ann Veneman"
       ]
      },
      {
       "output_type": "stream",
       "stream": "stdout",
       "text": [
        "\n",
        "Score: 0.0346 for Bill Gates and Ann Veneman"
       ]
      },
      {
       "output_type": "stream",
       "stream": "stdout",
       "text": [
        "\n",
        "Score: 0.0338 for Bill Gates and Ann Veneman"
       ]
      },
      {
       "output_type": "stream",
       "stream": "stdout",
       "text": [
        "\n",
        "Score: 0.0179 for Anna Kournikova and Anna Kournikova"
       ]
      },
      {
       "output_type": "stream",
       "stream": "stdout",
       "text": [
        "\n",
        "Score: 0.0229 for Anna Kournikova and Anna Kournikova"
       ]
      },
      {
       "output_type": "stream",
       "stream": "stdout",
       "text": [
        "\n",
        "Score: 0.0377 for Anna Kournikova and Bill Gates"
       ]
      },
      {
       "output_type": "stream",
       "stream": "stdout",
       "text": [
        "\n",
        "Score: 0.0184 for Anna Kournikova and Ann Veneman"
       ]
      },
      {
       "output_type": "stream",
       "stream": "stdout",
       "text": [
        "\n",
        "Score: 0.0125 for Anna Kournikova and Ann Veneman"
       ]
      },
      {
       "output_type": "stream",
       "stream": "stdout",
       "text": [
        "\n",
        "Score: 0.0107 for Anna Kournikova and Ann Veneman"
       ]
      },
      {
       "output_type": "stream",
       "stream": "stdout",
       "text": [
        "\n",
        "Score: 0.0030 for Anna Kournikova and Anna Kournikova"
       ]
      },
      {
       "output_type": "stream",
       "stream": "stdout",
       "text": [
        "\n",
        "Score: 0.0000 for Anna Kournikova and Bill Gates (Less than four matches)"
       ]
      },
      {
       "output_type": "stream",
       "stream": "stdout",
       "text": [
        "\n",
        "Score: 0.0415 for Anna Kournikova and Ann Veneman"
       ]
      },
      {
       "output_type": "stream",
       "stream": "stdout",
       "text": [
        "\n",
        "Score: 0.0151 for Anna Kournikova and Ann Veneman"
       ]
      },
      {
       "output_type": "stream",
       "stream": "stdout",
       "text": [
        "\n",
        "Score: 0.0000 for Anna Kournikova and Ann Veneman (Less than four matches)"
       ]
      },
      {
       "output_type": "stream",
       "stream": "stdout",
       "text": [
        "\n",
        "Score: 0.0160 for Anna Kournikova and Bill Gates"
       ]
      },
      {
       "output_type": "stream",
       "stream": "stdout",
       "text": [
        "\n",
        "Score: 0.0191 for Anna Kournikova and Ann Veneman"
       ]
      },
      {
       "output_type": "stream",
       "stream": "stdout",
       "text": [
        "\n",
        "Score: 0.0000 for Anna Kournikova and Ann Veneman (Less than four matches)"
       ]
      },
      {
       "output_type": "stream",
       "stream": "stdout",
       "text": [
        "\n",
        "Score: 0.0253 for Anna Kournikova and Ann Veneman"
       ]
      },
      {
       "output_type": "stream",
       "stream": "stdout",
       "text": [
        "\n",
        "Score: 0.0220 for Bill Gates and Ann Veneman"
       ]
      },
      {
       "output_type": "stream",
       "stream": "stdout",
       "text": [
        "\n",
        "Score: 0.0227 for Bill Gates and Ann Veneman"
       ]
      },
      {
       "output_type": "stream",
       "stream": "stdout",
       "text": [
        "\n",
        "Score: 0.0255 for Bill Gates and Ann Veneman"
       ]
      },
      {
       "output_type": "stream",
       "stream": "stdout",
       "text": [
        "\n",
        "Score: 0.0133 for Ann Veneman and Ann Veneman"
       ]
      },
      {
       "output_type": "stream",
       "stream": "stdout",
       "text": [
        "\n",
        "Score: 0.0359 for Ann Veneman and Ann Veneman"
       ]
      },
      {
       "output_type": "stream",
       "stream": "stdout",
       "text": [
        "\n",
        "Score: 0.0311 for Ann Veneman and Ann Veneman"
       ]
      },
      {
       "output_type": "stream",
       "stream": "stdout",
       "text": [
        "\n"
       ]
      }
     ],
     "prompt_number": 50
    },
    {
     "cell_type": "code",
     "collapsed": false,
     "input": [
      "display.scoreHist(result)"
     ],
     "language": "python",
     "metadata": {},
     "outputs": [
      {
       "output_type": "stream",
       "stream": "stdout",
       "text": [
        "Mean(same):\t\t0.027\n",
        "Mean(diff):\t\t0.020\n",
        "Diff of means:\t\t0.006\n",
        "Standard deviation:\t0.013\n",
        "# of sd's:\t\t0.486\n"
       ]
      },
      {
       "output_type": "pyout",
       "prompt_number": 53,
       "text": [
        "435"
       ]
      },
      {
       "output_type": "display_data",
       "png": "[encoded data removed]"
      }
     ],
     "prompt_number": 53
    },
    {
     "cell_type": "code",
     "collapsed": false,
     "input": [
      "display.farPlot(result)"
     ],
     "language": "python",
     "metadata": {},
     "outputs": [
      {
       "output_type": "pyout",
       "prompt_number": 54,
       "text": [
        "435"
       ]
      },
      {
       "output_type": "display_data",
       "png": "[encoded data removed]"
      }
     ],
     "prompt_number": 54
    },
    {
     "cell_type": "code",
     "collapsed": false,
     "input": [
      "p1 = '../../images/testsets/small_test/Anna_Kournikova_0005.png'\n",
      "p2 = '../../images/testsets/small_test/Bill_Gates_0003.png'\n",
      "#scoring.scoreImages(paths=[p1, p2], scoring=scoring_fun4, default_val=0)\n",
      "path_pairs = combinations(all_paths, 2)\n",
      "label_pairs = combinations(imap(features.getLabel,all_paths), 2)\n",
      "print(len(result))\n",
      "print(len(list(izip(path_pairs,label_pairs))))"
     ],
     "language": "python",
     "metadata": {},
     "outputs": [
      {
       "output_type": "stream",
       "stream": "stdout",
       "text": [
        "435\n",
        "435\n"
       ]
      }
     ],
     "prompt_number": 55
    },
    {
     "cell_type": "code",
     "collapsed": false,
     "input": [
      "import weightMatrix\n",
      "rm = weightMatrix.resultMatrix(all_paths, result)\n",
      "labels = numpy.array(map(features.getLabel, all_paths))\n",
      "display.scoreRatioHist(rm, labels)"
     ],
     "language": "python",
     "metadata": {},
     "outputs": [
      {
       "output_type": "stream",
       "stream": "stdout",
       "text": [
        "{('../../images/testsets/small_test/Anna_Kournikova_0003.png', '../../images/testsets/small_test/Anna_Kournikova_0008.png'): 0.032675378670137513, ('../../images/testsets/small_test/Anna_Kournikova_0008.png', '../../images/testsets/small_test/Anna_Kournikova_0010.png'): 0.044446906234516179, ('../../images/testsets/small_test/Ann_Veneman_0009.png', '../../images/testsets/small_test/Ann_Veneman_0002.png'): 0.026558978367468351, ('../../images/testsets/small_test/Ann_Veneman_0002.png', '../../images/testsets/small_test/Anna_Kournikova_0008.png'): 0.010187398266687143, ('../../images/testsets/small_test/Anna_Kournikova_0004.png', '../../images/testsets/small_test/Bill_Gates_0007.png'): 0.032032166173246147, ('../../images/testsets/small_test/Anna_Kournikova_0008.png', '../../images/testsets/small_test/Ann_Veneman_0002.png'): 0.010187398266687143, ('../../images/testsets/small_test/Ann_Veneman_0011.png', '../../images/testsets/small_test/Bill_Gates_0013.png'): 0.032875863979190956, ('../../images/testsets/small_test/Ann_Veneman_0002.png', '../../images/testsets/small_test/Bill_Gates_0007.png'): 0.018532036394990594, ('../../images/testsets/small_test/Anna_Kournikova_0006.png', '../../images/testsets/small_test/Bill_Gates_0006.png'): 0.018343745345559142, ('../../images/testsets/small_test/Bill_Gates_0008.png', '../../images/testsets/small_test/Ann_Veneman_0006.png'): 0.026090657002588835, ('../../images/testsets/small_test/Anna_Kournikova_0004.png', '../../images/testsets/small_test/Anna_Kournikova_0010.png'): 0.018953732495993521, ('../../images/testsets/small_test/Ann_Veneman_0001.png', '../../images/testsets/small_test/Ann_Veneman_0011.png'): 0.019495153286196134, ('../../images/testsets/small_test/Bill_Gates_0006.png', '../../images/testsets/small_test/Anna_Kournikova_0004.png'): 0.013496824356019923, ('../../images/testsets/small_test/Ann_Veneman_0003.png', '../../images/testsets/small_test/Ann_Veneman_0009.png'): 0.038471554023235849, ('../../images/testsets/small_test/Bill_Gates_0006.png', '../../images/testsets/small_test/Anna_Kournikova_0008.png'): 0, ('../../images/testsets/small_test/Ann_Veneman_0006.png', '../../images/testsets/small_test/Ann_Veneman_0010.png'): 0.022259358354361509, ('../../images/testsets/small_test/Ann_Veneman_0009.png', '../../images/testsets/small_test/Bill_Gates_0015.png'): 0.036865357306586292, ('../../images/testsets/small_test/Bill_Gates_0007.png', '../../images/testsets/small_test/Ann_Veneman_0004.png'): 0.025691422803664783, ('../../images/testsets/small_test/Bill_Gates_0002.png', '../../images/testsets/small_test/Anna_Kournikova_0009.png'): 0.018547719398137395, ('../../images/testsets/small_test/Bill_Gates_0003.png', '../../images/testsets/small_test/Bill_Gates_0015.png'): 0.059627770720616015, ('../../images/testsets/small_test/Anna_Kournikova_0005.png', '../../images/testsets/small_test/Anna_Kournikova_0004.png'): 0.036877187282855835, ('../../images/testsets/small_test/Bill_Gates_0002.png', '../../images/testsets/small_test/Ann_Veneman_0006.png'): 0.011212454693031412, ('../../images/testsets/small_test/Ann_Veneman_0003.png', '../../images/testsets/small_test/Bill_Gates_0008.png'): 0.011222707471788745, ('../../images/testsets/small_test/Anna_Kournikova_0012.png', '../../images/testsets/small_test/Anna_Kournikova_0003.png'): 0.01022929387988253, ('../../images/testsets/small_test/Anna_Kournikova_0004.png', '../../images/testsets/small_test/Bill_Gates_0002.png'): 0.011465487823478088, ('../../images/testsets/small_test/Anna_Kournikova_0010.png', '../../images/testsets/small_test/Anna_Kournikova_0003.png'): 0.048802764274107041, ('../../images/testsets/small_test/Ann_Veneman_0010.png', '../../images/testsets/small_test/Anna_Kournikova_0001.png'): 0.022944881964344604, ('../../images/testsets/small_test/Ann_Veneman_0005.png', '../../images/testsets/small_test/Anna_Kournikova_0001.png'): 0.026602070678721987, ('../../images/testsets/small_test/Ann_Veneman_0006.png', '../../images/testsets/small_test/Anna_Kournikova_0012.png'): 0.017513032156901035, ('../../images/testsets/small_test/Bill_Gates_0002.png', '../../images/testsets/small_test/Bill_Gates_0005.png'): 0.019148292697261433, ('../../images/testsets/small_test/Ann_Veneman_0006.png', '../../images/testsets/small_test/Ann_Veneman_0004.png'): 0.015635562944307589, ('../../images/testsets/small_test/Bill_Gates_0013.png', '../../images/testsets/small_test/Bill_Gates_0002.png'): 0.029464931504814242, ('../../images/testsets/small_test/Ann_Veneman_0004.png', '../../images/testsets/small_test/Ann_Veneman_0001.png'): 0.022396621491956935, ('../../images/testsets/small_test/Anna_Kournikova_0005.png', '../../images/testsets/small_test/Ann_Veneman_0008.png'): 0.017279393560041108, ('../../images/testsets/small_test/Bill_Gates_0003.png', '../../images/testsets/small_test/Anna_Kournikova_0009.png'): 0.020744105814652945, ('../../images/testsets/small_test/Bill_Gates_0015.png', '../../images/testsets/small_test/Bill_Gates_0013.png'): 0.01806939978881536, ('../../images/testsets/small_test/Anna_Kournikova_0010.png', '../../images/testsets/small_test/Ann_Veneman_0008.png'): 0.024690294331247302, ('../../images/testsets/small_test/Bill_Gates_0005.png', '../../images/testsets/small_test/Bill_Gates_0003.png'): 0.026679157060986582, ('../../images/testsets/small_test/Bill_Gates_0013.png', '../../images/testsets/small_test/Bill_Gates_0015.png'): 0.01806939978881536, ('../../images/testsets/small_test/Bill_Gates_0007.png', '../../images/testsets/small_test/Bill_Gates_0005.png'): 0.040774849282566111, ('../../images/testsets/small_test/Ann_Veneman_0011.png', '../../images/testsets/small_test/Ann_Veneman_0001.png'): 0.019495153286196134, ('../../images/testsets/small_test/Anna_Kournikova_0011.png', '../../images/testsets/small_test/Bill_Gates_0013.png'): 0.019049132152136671, ('../../images/testsets/small_test/Anna_Kournikova_0011.png', '../../images/testsets/small_test/Anna_Kournikova_0008.png'): 0.0030114797060432326, ('../../images/testsets/small_test/Ann_Veneman_0008.png', '../../images/testsets/small_test/Ann_Veneman_0006.png'): 0.019411788697290912, ('../../images/testsets/small_test/Anna_Kournikova_0001.png', '../../images/testsets/small_test/Anna_Kournikova_0006.png'): 0.01172677602883182, ('../../images/testsets/small_test/Ann_Veneman_0005.png', '../../images/testsets/small_test/Ann_Veneman_0006.png'): 0.041817548313711865, ('../../images/testsets/small_test/Ann_Veneman_0002.png', '../../images/testsets/small_test/Bill_Gates_0016.png'): 0.028755271344801981, ('../../images/testsets/small_test/Anna_Kournikova_0001.png', '../../images/testsets/small_test/Ann_Veneman_0005.png'): 0.026602070678721987, ('../../images/testsets/small_test/Anna_Kournikova_0005.png', '../../images/testsets/small_test/Bill_Gates_0016.png'): 0.0051020371885027614, ('../../images/testsets/small_test/Ann_Veneman_0011.png', '../../images/testsets/small_test/Bill_Gates_0003.png'): 0.019158705805220774, ('../../images/testsets/small_test/Bill_Gates_0005.png', '../../images/testsets/small_test/Ann_Veneman_0011.png'): 0.0057923155015164492, ('../../images/testsets/small_test/Ann_Veneman_0006.png', '../../images/testsets/small_test/Anna_Kournikova_0006.png'): 0.012082017005506495, ('../../images/testsets/small_test/Bill_Gates_0016.png', '../../images/testsets/small_test/Ann_Veneman_0003.png'): 0.015614462882987599, ('../../images/testsets/small_test/Bill_Gates_0006.png', '../../images/testsets/small_test/Bill_Gates_0016.png'): 0.026470153521352881, ('../../images/testsets/small_test/Anna_Kournikova_0011.png', '../../images/testsets/small_test/Anna_Kournikova_0004.png'): 0.017915851901410849, ('../../images/testsets/small_test/Bill_Gates_0002.png', '../../images/testsets/small_test/Anna_Kournikova_0003.png'): 0.023226153194345345, ('../../images/testsets/small_test/Anna_Kournikova_0004.png', '../../images/testsets/small_test/Bill_Gates_0016.png'): 0.019241138285061271, ('../../images/testsets/small_test/Ann_Veneman_0002.png', '../../images/testsets/small_test/Ann_Veneman_0004.png'): 0.013282548580250787, ('../../images/testsets/small_test/Ann_Veneman_0010.png', '../../images/testsets/small_test/Anna_Kournikova_0003.png'): 0.016927320689850443, ('../../images/testsets/small_test/Bill_Gates_0016.png', '../../images/testsets/small_test/Ann_Veneman_0005.png'): 0.020342821350770264, ('../../images/testsets/small_test/Ann_Veneman_0004.png', '../../images/testsets/small_test/Bill_Gates_0013.png'): 0.019769860027506986, ('../../images/testsets/small_test/Bill_Gates_0008.png', '../../images/testsets/small_test/Anna_Kournikova_0006.png'): 0, ('../../images/testsets/small_test/Ann_Veneman_0011.png', '../../images/testsets/small_test/Bill_Gates_0015.png'): 0.025911704433997422, ('../../images/testsets/small_test/Ann_Veneman_0003.png', '../../images/testsets/small_test/Anna_Kournikova_0008.png'): 0.025315582224138957, ('../../images/testsets/small_test/Bill_Gates_0008.png', '../../images/testsets/small_test/Bill_Gates_0007.png'): 0.010205453306323496, ('../../images/testsets/small_test/Anna_Kournikova_0003.png', '../../images/testsets/small_test/Anna_Kournikova_0010.png'): 0.048802764274107041, ('../../images/testsets/small_test/Anna_Kournikova_0004.png', '../../images/testsets/small_test/Ann_Veneman_0008.png'): 0.012513571995102144, ('../../images/testsets/small_test/Bill_Gates_0007.png', '../../images/testsets/small_test/Anna_Kournikova_0012.png'): 0.013892055675784141, ('../../images/testsets/small_test/Anna_Kournikova_0011.png', '../../images/testsets/small_test/Ann_Veneman_0008.png'): 0.015145019938730967, ('../../images/testsets/small_test/Anna_Kournikova_0010.png', '../../images/testsets/small_test/Bill_Gates_0007.png'): 0.0157561115670171, ('../../images/testsets/small_test/Ann_Veneman_0003.png', '../../images/testsets/small_test/Bill_Gates_0007.png'): 0.025174635167730285, ('../../images/testsets/small_test/Ann_Veneman_0003.png', '../../images/testsets/small_test/Bill_Gates_0002.png'): 0, ('../../images/testsets/small_test/Bill_Gates_0004.png', '../../images/testsets/small_test/Ann_Veneman_0004.png'): 0.018579201972390991, ('../../images/testsets/small_test/Bill_Gates_0013.png', '../../images/testsets/small_test/Ann_Veneman_0006.png'): 0.025787334998019149, ('../../images/testsets/small_test/Anna_Kournikova_0010.png', '../../images/testsets/small_test/Bill_Gates_0008.png'): 0.048288936426345332, ('../../images/testsets/small_test/Ann_Veneman_0001.png', '../../images/testsets/small_test/Ann_Veneman_0008.png'): 0.01328178057792634, ('../../images/testsets/small_test/Bill_Gates_0015.png', '../../images/testsets/small_test/Anna_Kournikova_0010.png'): 0.0093668434975383193, ('../../images/testsets/small_test/Anna_Kournikova_0003.png', '../../images/testsets/small_test/Ann_Veneman_0008.png'): 0, ('../../images/testsets/small_test/Anna_Kournikova_0005.png', '../../images/testsets/small_test/Anna_Kournikova_0001.png'): 0.033529847354983704, ('../../images/testsets/small_test/Bill_Gates_0007.png', '../../images/testsets/small_test/Bill_Gates_0004.png'): 0.0098728984220715355, ('../../images/testsets/small_test/Anna_Kournikova_0010.png', '../../images/testsets/small_test/Anna_Kournikova_0009.png'): 0.045134653167935426, ('../../images/testsets/small_test/Bill_Gates_0007.png', '../../images/testsets/small_test/Ann_Veneman_0010.png'): 0.024492106017611252, ('../../images/testsets/small_test/Anna_Kournikova_0010.png', '../../images/testsets/small_test/Bill_Gates_0002.png'): 0, ('../../images/testsets/small_test/Bill_Gates_0002.png', '../../images/testsets/small_test/Anna_Kournikova_0005.png'): 0.027028601324338628, ('../../images/testsets/small_test/Ann_Veneman_0002.png', '../../images/testsets/small_test/Ann_Veneman_0008.png'): 0.020842065334016908, ('../../images/testsets/small_test/Ann_Veneman_0011.png', '../../images/testsets/small_test/Ann_Veneman_0006.png'): 0.035663403248066633, ('../../images/testsets/small_test/Ann_Veneman_0001.png', '../../images/testsets/small_test/Ann_Veneman_0004.png'): 0.022396621491956935, ('../../images/testsets/small_test/Bill_Gates_0006.png', '../../images/testsets/small_test/Ann_Veneman_0001.png'): 0.0049786274613057482, ('../../images/testsets/small_test/Anna_Kournikova_0008.png', '../../images/testsets/small_test/Bill_Gates_0002.png'): 0.0095519923625255829, ('../../images/testsets/small_test/Bill_Gates_0008.png', '../../images/testsets/small_test/Ann_Veneman_0004.png'): 0.019518342078742788, ('../../images/testsets/small_test/Ann_Veneman_0008.png', '../../images/testsets/small_test/Ann_Veneman_0005.png'): 0.029182962709298054, ('../../images/testsets/small_test/Bill_Gates_0004.png', '../../images/testsets/small_test/Bill_Gates_0007.png'): 0.0098728984220715355, ('../../images/testsets/small_test/Bill_Gates_0016.png', '../../images/testsets/small_test/Bill_Gates_0005.png'): 0.024565531476397798, ('../../images/testsets/small_test/Bill_Gates_0015.png', '../../images/testsets/small_test/Anna_Kournikova_0012.png'): 0.026705657545638611, ('../../images/testsets/small_test/Bill_Gates_0006.png', '../../images/testsets/small_test/Ann_Veneman_0008.png'): 0.021038859574802192, ('../../images/testsets/small_test/Ann_Veneman_0002.png', '../../images/testsets/small_test/Anna_Kournikova_0003.png'): 0.017553679086383618, ('../../images/testsets/small_test/Ann_Veneman_0005.png', '../../images/testsets/small_test/Anna_Kournikova_0006.png'): 0.038686906180971793, ('../../images/testsets/small_test/Ann_Veneman_0003.png', '../../images/testsets/small_test/Bill_Gates_0015.png'): 0.033783881641145014, ('../../images/testsets/small_test/Ann_Veneman_0005.png', '../../images/testsets/small_test/Anna_Kournikova_0012.png'): 0.046980548168471706, ('../../images/testsets/small_test/Ann_Veneman_0003.png', '../../images/testsets/small_test/Ann_Veneman_0011.png'): 0.019394175360169623, ('../../images/testsets/small_test/Anna_Kournikova_0009.png', '../../images/testsets/small_test/Bill_Gates_0002.png'): 0.018547719398137395, ('../../images/testsets/small_test/Bill_Gates_0002.png', '../../images/testsets/small_test/Anna_Kournikova_0004.png'): 0.011465487823478088, ('../../images/testsets/small_test/Bill_Gates_0005.png', '../../images/testsets/small_test/Bill_Gates_0004.png'): 0.010950787699978188, ('../../images/testsets/small_test/Bill_Gates_0016.png', '../../images/testsets/small_test/Bill_Gates_0006.png'): 0.026470153521352881, ('../../images/testsets/small_test/Bill_Gates_0007.png', '../../images/testsets/small_test/Ann_Veneman_0011.png'): 0.01784201000728769, ('../../images/testsets/small_test/Ann_Veneman_0005.png', '../../images/testsets/small_test/Bill_Gates_0013.png'): 0.038964547378620137, ('../../images/testsets/small_test/Bill_Gates_0002.png', '../../images/testsets/small_test/Ann_Veneman_0002.png'): 0.014252007524957505, ('../../images/testsets/small_test/Ann_Veneman_0004.png', '../../images/testsets/small_test/Bill_Gates_0007.png'): 0.025691422803664783, ('../../images/testsets/small_test/Ann_Veneman_0011.png', '../../images/testsets/small_test/Anna_Kournikova_0005.png'): 0.039772456635193, ('../../images/testsets/small_test/Anna_Kournikova_0005.png', '../../images/testsets/small_test/Anna_Kournikova_0010.png'): 0.024404844538212827, ('../../images/testsets/small_test/Ann_Veneman_0011.png', '../../images/testsets/small_test/Ann_Veneman_0004.png'): 0.016953435369894364, ('../../images/testsets/small_test/Ann_Veneman_0009.png', '../../images/testsets/small_test/Anna_Kournikova_0010.png'): 0.022372856250392575, ('../../images/testsets/small_test/Bill_Gates_0002.png', '../../images/testsets/small_test/Bill_Gates_0008.png'): 0.031309156072040448, ('../../images/testsets/small_test/Anna_Kournikova_0010.png', '../../images/testsets/small_test/Bill_Gates_0016.png'): 0.019902304438177296, ('../../images/testsets/small_test/Ann_Veneman_0003.png', '../../images/testsets/small_test/Bill_Gates_0003.png'): 0.024128168299680293, ('../../images/testsets/small_test/Bill_Gates_0016.png', '../../images/testsets/small_test/Ann_Veneman_0004.png'): 0.022428060384774975, ('../../images/testsets/small_test/Bill_Gates_0005.png', '../../images/testsets/small_test/Bill_Gates_0002.png'): 0.019148292697261433, ('../../images/testsets/small_test/Anna_Kournikova_0010.png', '../../images/testsets/small_test/Anna_Kournikova_0008.png'): 0.044446906234516179, ('../../images/testsets/small_test/Bill_Gates_0015.png', '../../images/testsets/small_test/Anna_Kournikova_0005.png'): 0.017138102067105504, ('../../images/testsets/small_test/Bill_Gates_0005.png', '../../images/testsets/small_test/Ann_Veneman_0002.png'): 0, ('../../images/testsets/small_test/Anna_Kournikova_0006.png', '../../images/testsets/small_test/Bill_Gates_0003.png'): 0.030468513311886252, ('../../images/testsets/small_test/Bill_Gates_0008.png', '../../images/testsets/small_test/Bill_Gates_0004.png'): 0.0082375259399316697, ('../../images/testsets/small_test/Ann_Veneman_0010.png', '../../images/testsets/small_test/Anna_Kournikova_0010.png'): 0.020259924451535169, ('../../images/testsets/small_test/Anna_Kournikova_0005.png', '../../images/testsets/small_test/Ann_Veneman_0004.png'): 0, ('../../images/testsets/small_test/Ann_Veneman_0006.png', '../../images/testsets/small_test/Bill_Gates_0016.png'): 0.01982101155458206, ('../../images/testsets/small_test/Ann_Veneman_0009.png', '../../images/testsets/small_test/Anna_Kournikova_0009.png'): 0.042882850426723407, ('../../images/testsets/small_test/Ann_Veneman_0004.png', '../../images/testsets/small_test/Anna_Kournikova_0012.png'): 0.0099880788647265396, ('../../images/testsets/small_test/Ann_Veneman_0009.png', '../../images/testsets/small_test/Anna_Kournikova_0012.png'): 0.02502536438481694, ('../../images/testsets/small_test/Ann_Veneman_0009.png', '../../images/testsets/small_test/Bill_Gates_0003.png'): 0.027196382588715151, ('../../images/testsets/small_test/Bill_Gates_0008.png', '../../images/testsets/small_test/Anna_Kournikova_0010.png'): 0.048288936426345332, ('../../images/testsets/small_test/Ann_Veneman_0002.png', '../../images/testsets/small_test/Ann_Veneman_0006.png'): 0.039720707343929566, ('../../images/testsets/small_test/Anna_Kournikova_0003.png', '../../images/testsets/small_test/Anna_Kournikova_0011.png'): 0, ('../../images/testsets/small_test/Anna_Kournikova_0009.png', '../../images/testsets/small_test/Ann_Veneman_0002.png'): 0.019111597715439427, ('../../images/testsets/small_test/Ann_Veneman_0011.png', '../../images/testsets/small_test/Ann_Veneman_0002.png'): 0.021384950746229422, ('../../images/testsets/small_test/Bill_Gates_0005.png', '../../images/testsets/small_test/Bill_Gates_0006.png'): 0.021241045041903411, ('../../images/testsets/small_test/Ann_Veneman_0010.png', '../../images/testsets/small_test/Anna_Kournikova_0004.png'): 0.021192039924050055, ('../../images/testsets/small_test/Bill_Gates_0016.png', '../../images/testsets/small_test/Bill_Gates_0007.png'): 0.040478687799597714, ('../../images/testsets/small_test/Bill_Gates_0003.png', '../../images/testsets/small_test/Bill_Gates_0008.png'): 0.021729011768278947, ('../../images/testsets/small_test/Anna_Kournikova_0009.png', '../../images/testsets/small_test/Anna_Kournikova_0010.png'): 0.045134653167935426, ('../../images/testsets/small_test/Ann_Veneman_0004.png', '../../images/testsets/small_test/Ann_Veneman_0010.png'): 0.019619310148023324, ('../../images/testsets/small_test/Bill_Gates_0005.png', '../../images/testsets/small_test/Ann_Veneman_0004.png'): 0.021518934054676357, ('../../images/testsets/small_test/Anna_Kournikova_0005.png', '../../images/testsets/small_test/Anna_Kournikova_0003.png'): 0.026613158690633913, ('../../images/testsets/small_test/Bill_Gates_0015.png', '../../images/testsets/small_test/Anna_Kournikova_0011.png'): 0.02441001466079919, ('../../images/testsets/small_test/Ann_Veneman_0003.png', '../../images/testsets/small_test/Anna_Kournikova_0009.png'): 0, ('../../images/testsets/small_test/Ann_Veneman_0008.png', '../../images/testsets/small_test/Ann_Veneman_0009.png'): 0.037204459994063632, ('../../images/testsets/small_test/Anna_Kournikova_0010.png', '../../images/testsets/small_test/Anna_Kournikova_0012.png'): 0.038009715623604244, ('../../images/testsets/small_test/Anna_Kournikova_0003.png', '../../images/testsets/small_test/Bill_Gates_0015.png'): 0.013667757637968094, ('../../images/testsets/small_test/Bill_Gates_0016.png', '../../images/testsets/small_test/Ann_Veneman_0002.png'): 0.028755271344801981, ('../../images/testsets/small_test/Anna_Kournikova_0003.png', '../../images/testsets/small_test/Ann_Veneman_0001.png'): 0, ('../../images/testsets/small_test/Anna_Kournikova_0005.png', '../../images/testsets/small_test/Anna_Kournikova_0006.png'): 0.012575697119544852, ('../../images/testsets/small_test/Ann_Veneman_0009.png', '../../images/testsets/small_test/Ann_Veneman_0006.png'): 0.046270956491674842, ('../../images/testsets/small_test/Ann_Veneman_0001.png', '../../images/testsets/small_test/Anna_Kournikova_0012.png'): 0.0076097877255683578, ('../../images/testsets/small_test/Anna_Kournikova_0008.png', '../../images/testsets/small_test/Bill_Gates_0004.png'): 0.0073861042182185727, ('../../images/testsets/small_test/Bill_Gates_0004.png', '../../images/testsets/small_test/Anna_Kournikova_0005.png'): 0.025078173405074906, ('../../images/testsets/small_test/Ann_Veneman_0010.png', '../../images/testsets/small_test/Anna_Kournikova_0008.png'): 0.026727875285635343, ('../../images/testsets/small_test/Anna_Kournikova_0009.png', '../../images/testsets/small_test/Ann_Veneman_0004.png'): 0.026637510883095863, ('../../images/testsets/small_test/Anna_Kournikova_0009.png', '../../images/testsets/small_test/Bill_Gates_0013.png'): 0.017067969532481075, ('../../images/testsets/small_test/Bill_Gates_0007.png', '../../images/testsets/small_test/Bill_Gates_0006.png'): 0.019064571499519498, ('../../images/testsets/small_test/Ann_Veneman_0001.png', '../../images/testsets/small_test/Anna_Kournikova_0008.png'): 0.0191121695264868, ('../../images/testsets/small_test/Anna_Kournikova_0012.png', '../../images/testsets/small_test/Anna_Kournikova_0001.png'): 0, ('../../images/testsets/small_test/Ann_Veneman_0011.png', '../../images/testsets/small_test/Anna_Kournikova_0001.png'): 0.058555432702245405, ('../../images/testsets/small_test/Anna_Kournikova_0006.png', '../../images/testsets/small_test/Ann_Veneman_0008.png'): 0.023447974870098153, ('../../images/testsets/small_test/Ann_Veneman_0006.png', '../../images/testsets/small_test/Anna_Kournikova_0005.png'): 0.029113117867514367, ('../../images/testsets/small_test/Anna_Kournikova_0011.png', '../../images/testsets/small_test/Bill_Gates_0002.png'): 0.0034556469937475406, ('../../images/testsets/small_test/Bill_Gates_0005.png', '../../images/testsets/small_test/Bill_Gates_0007.png'): 0.040774849282566111, ('../../images/testsets/small_test/Bill_Gates_0016.png', '../../images/testsets/small_test/Anna_Kournikova_0001.png'): 0.032151435009630497, ('../../images/testsets/small_test/Ann_Veneman_0010.png', '../../images/testsets/small_test/Anna_Kournikova_0006.png'): 0.010892361173068511, ('../../images/testsets/small_test/Ann_Veneman_0005.png', '../../images/testsets/small_test/Anna_Kournikova_0010.png'): 0.041773631217913887, ('../../images/testsets/small_test/Ann_Veneman_0004.png', '../../images/testsets/small_test/Ann_Veneman_0006.png'): 0.015635562944307589, ('../../images/testsets/small_test/Bill_Gates_0005.png', '../../images/testsets/small_test/Anna_Kournikova_0009.png'): 0, ('../../images/testsets/small_test/Bill_Gates_0005.png', '../../images/testsets/small_test/Anna_Kournikova_0006.png'): 0.0046918923315279462, ('../../images/testsets/small_test/Anna_Kournikova_0008.png', '../../images/testsets/small_test/Bill_Gates_0005.png'): 0.016040118855296284, ('../../images/testsets/small_test/Anna_Kournikova_0011.png', '../../images/testsets/small_test/Bill_Gates_0003.png'): 0.025612281648862745, ('../../images/testsets/small_test/Anna_Kournikova_0006.png', '../../images/testsets/small_test/Ann_Veneman_0001.png'): 0.033035766421735176, ('../../images/testsets/small_test/Anna_Kournikova_0010.png', '../../images/testsets/small_test/Ann_Veneman_0003.png'): 0.031994767280134687, ('../../images/testsets/small_test/Ann_Veneman_0011.png', '../../images/testsets/small_test/Bill_Gates_0007.png'): 0.01784201000728769, ('../../images/testsets/small_test/Anna_Kournikova_0010.png', '../../images/testsets/small_test/Anna_Kournikova_0005.png'): 0.024404844538212827, ('../../images/testsets/small_test/Ann_Veneman_0001.png', '../../images/testsets/small_test/Bill_Gates_0013.png'): 0.031002755708464495, ('../../images/testsets/small_test/Anna_Kournikova_0004.png', '../../images/testsets/small_test/Bill_Gates_0015.png'): 0.014294283196642646, ('../../images/testsets/small_test/Bill_Gates_0004.png', '../../images/testsets/small_test/Ann_Veneman_0008.png'): 0.013080371740760002, ('../../images/testsets/small_test/Bill_Gates_0006.png', '../../images/testsets/small_test/Anna_Kournikova_0009.png'): 0.017664214518665677, ('../../images/testsets/small_test/Ann_Veneman_0009.png', '../../images/testsets/small_test/Anna_Kournikova_0011.png'): 0.027303537056054469, ('../../images/testsets/small_test/Bill_Gates_0003.png', '../../images/testsets/small_test/Ann_Veneman_0011.png'): 0.019158705805220774, ('../../images/testsets/small_test/Bill_Gates_0016.png', '../../images/testsets/small_test/Ann_Veneman_0010.png'): 0.025689093024571792, ('../../images/testsets/small_test/Anna_Kournikova_0012.png', '../../images/testsets/small_test/Anna_Kournikova_0009.png'): 0.031957969093715524, ('../../images/testsets/small_test/Ann_Veneman_0001.png', '../../images/testsets/small_test/Ann_Veneman_0009.png'): 0.025058360430403583, ('../../images/testsets/small_test/Anna_Kournikova_0001.png', '../../images/testsets/small_test/Bill_Gates_0007.png'): 0.010958672558080716, ('../../images/testsets/small_test/Ann_Veneman_0002.png', '../../images/testsets/small_test/Anna_Kournikova_0006.png'): 0.03438685198524901, ('../../images/testsets/small_test/Anna_Kournikova_0004.png', '../../images/testsets/small_test/Ann_Veneman_0006.png'): 0.020858621076290981, ('../../images/testsets/small_test/Ann_Veneman_0003.png', '../../images/testsets/small_test/Anna_Kournikova_0012.png'): 0.016419423072657952, ('../../images/testsets/small_test/Bill_Gates_0015.png', '../../images/testsets/small_test/Bill_Gates_0006.png'): 0.032625994819715488, ('../../images/testsets/small_test/Ann_Veneman_0008.png', '../../images/testsets/small_test/Anna_Kournikova_0009.png'): 0.025159494399183458, ('../../images/testsets/small_test/Anna_Kournikova_0004.png', '../../images/testsets/small_test/Ann_Veneman_0001.png'): 0.018436836198302789, ('../../images/testsets/small_test/Ann_Veneman_0010.png', '../../images/testsets/small_test/Anna_Kournikova_0011.png'): 0.031122475563231382, ('../../images/testsets/small_test/Bill_Gates_0004.png', '../../images/testsets/small_test/Ann_Veneman_0006.png'): 0.0060782899417116572, ('../../images/testsets/small_test/Bill_Gates_0006.png', '../../images/testsets/small_test/Bill_Gates_0002.png'): 0.0045317630385895164, ('../../images/testsets/small_test/Bill_Gates_0015.png', '../../images/testsets/small_test/Bill_Gates_0016.png'): 0.063436703343651271, ('../../images/testsets/small_test/Anna_Kournikova_0011.png', '../../images/testsets/small_test/Anna_Kournikova_0003.png'): 0, ('../../images/testsets/small_test/Bill_Gates_0007.png', '../../images/testsets/small_test/Anna_Kournikova_0008.png'): 0.032165452978742709, ('../../images/testsets/small_test/Bill_Gates_0005.png', '../../images/testsets/small_test/Anna_Kournikova_0004.png'): 0.037703016637419033, ('../../images/testsets/small_test/Bill_Gates_0008.png', '../../images/testsets/small_test/Anna_Kournikova_0011.png'): 0.015430406560113435, ('../../images/testsets/small_test/Bill_Gates_0002.png', '../../images/testsets/small_test/Anna_Kournikova_0010.png'): 0, ('../../images/testsets/small_test/Bill_Gates_0013.png', '../../images/testsets/small_test/Bill_Gates_0007.png'): 0.026690531125766928, ('../../images/testsets/small_test/Ann_Veneman_0001.png', '../../images/testsets/small_test/Ann_Veneman_0010.png'): 0.026210421586406518, ('../../images/testsets/small_test/Anna_Kournikova_0001.png', '../../images/testsets/small_test/Ann_Veneman_0003.png'): 0.018654206557837533, ('../../images/testsets/small_test/Ann_Veneman_0004.png', '../../images/testsets/small_test/Anna_Kournikova_0009.png'): 0.026637510883095863, ('../../images/testsets/small_test/Bill_Gates_0015.png', '../../images/testsets/small_test/Anna_Kournikova_0004.png'): 0.014294283196642646, ('../../images/testsets/small_test/Anna_Kournikova_0012.png', '../../images/testsets/small_test/Anna_Kournikova_0010.png'): 0.038009715623604244, ('../../images/testsets/small_test/Ann_Veneman_0009.png', '../../images/testsets/small_test/Ann_Veneman_0003.png'): 0.038471554023235849, ('../../images/testsets/small_test/Bill_Gates_0015.png', '../../images/testsets/small_test/Ann_Veneman_0005.png'): 0.039034326134646129, ('../../images/testsets/small_test/Bill_Gates_0002.png', '../../images/testsets/small_test/Bill_Gates_0004.png'): 0.020824228242228078, ('../../images/testsets/small_test/Ann_Veneman_0002.png', '../../images/testsets/small_test/Ann_Veneman_0001.png'): 0.025317494866802424, ('../../images/testsets/small_test/Bill_Gates_0002.png', '../../images/testsets/small_test/Ann_Veneman_0003.png'): 0, ('../../images/testsets/small_test/Ann_Veneman_0009.png', '../../images/testsets/small_test/Anna_Kournikova_0006.png'): 0.047378329344555124, ('../../images/testsets/small_test/Anna_Kournikova_0012.png', '../../images/testsets/small_test/Ann_Veneman_0004.png'): 0.0099880788647265396, ('../../images/testsets/small_test/Bill_Gates_0015.png', '../../images/testsets/small_test/Bill_Gates_0008.png'): 0.007098706056372351, ('../../images/testsets/small_test/Bill_Gates_0005.png', '../../images/testsets/small_test/Ann_Veneman_0010.png'): 0.016482525461964891, ('../../images/testsets/small_test/Ann_Veneman_0011.png', '../../images/testsets/small_test/Bill_Gates_0016.png'): 0.035562285927359674, ('../../images/testsets/small_test/Ann_Veneman_0002.png', '../../images/testsets/small_test/Bill_Gates_0003.png'): 0.039972546693607794, ('../../images/testsets/small_test/Bill_Gates_0008.png', '../../images/testsets/small_test/Ann_Veneman_0001.png'): 0.017043630232004146, ('../../images/testsets/small_test/Ann_Veneman_0005.png', '../../images/testsets/small_test/Ann_Veneman_0011.png'): 0.044102226434322156, ('../../images/testsets/small_test/Ann_Veneman_0002.png', '../../images/testsets/small_test/Anna_Kournikova_0004.png'): 0.0099873862269632147, ('../../images/testsets/small_test/Ann_Veneman_0010.png', '../../images/testsets/small_test/Ann_Veneman_0006.png'): 0.022259358354361509, ('../../images/testsets/small_test/Bill_Gates_0015.png', '../../images/testsets/small_test/Ann_Veneman_0006.png'): 0.027746591729025227, ('../../images/testsets/small_test/Anna_Kournikova_0005.png', '../../images/testsets/small_test/Anna_Kournikova_0011.png'): 0.030696316513334893, ('../../images/testsets/small_test/Anna_Kournikova_0010.png', '../../images/testsets/small_test/Anna_Kournikova_0001.png'): 0.030938600254440739, ('../../images/testsets/small_test/Ann_Veneman_0006.png', '../../images/testsets/small_test/Ann_Veneman_0001.png'): 0.026854921238560044, ('../../images/testsets/small_test/Bill_Gates_0006.png', '../../images/testsets/small_test/Bill_Gates_0013.png'): 0.015206511635568404, ('../../images/testsets/small_test/Bill_Gates_0013.png', '../../images/testsets/small_test/Bill_Gates_0006.png'): 0.015206511635568404, ('../../images/testsets/small_test/Ann_Veneman_0005.png', '../../images/testsets/small_test/Bill_Gates_0007.png'): 0.051162300178329026, ('../../images/testsets/small_test/Ann_Veneman_0004.png', '../../images/testsets/small_test/Ann_Veneman_0009.png'): 0.014482190626612042, ('../../images/testsets/small_test/Anna_Kournikova_0010.png', '../../images/testsets/small_test/Anna_Kournikova_0011.png'): 0.0067340262864933921, ('../../images/testsets/small_test/Anna_Kournikova_0009.png', '../../images/testsets/small_test/Ann_Veneman_0003.png'): 0, ('../../images/testsets/small_test/Bill_Gates_0015.png', '../../images/testsets/small_test/Anna_Kournikova_0009.png'): 0.021016445147812909, ('../../images/testsets/small_test/Anna_Kournikova_0009.png', '../../images/testsets/small_test/Anna_Kournikova_0006.png'): 0.032112962007926772, ('../../images/testsets/small_test/Ann_Veneman_0005.png', '../../images/testsets/small_test/Anna_Kournikova_0011.png'): 0, ('../../images/testsets/small_test/Ann_Veneman_0006.png', '../../images/testsets/small_test/Bill_Gates_0003.png'): 0.023866715113759322, ('../../images/testsets/small_test/Ann_Veneman_0011.png', '../../images/testsets/small_test/Bill_Gates_0006.png'): 0.010127837109925507, ('../../images/testsets/small_test/Ann_Veneman_0001.png', '../../images/testsets/small_test/Ann_Veneman_0002.png'): 0.025317494866802424, ('../../images/testsets/small_test/Ann_Veneman_0010.png', '../../images/testsets/small_test/Ann_Veneman_0008.png'): 0.0056282041851009636, ('../../images/testsets/small_test/Ann_Veneman_0009.png', '../../images/testsets/small_test/Anna_Kournikova_0004.png'): 0.021155116296204104, ('../../images/testsets/small_test/Ann_Veneman_0008.png', '../../images/testsets/small_test/Bill_Gates_0004.png'): 0.013080371740760002, ('../../images/testsets/small_test/Bill_Gates_0003.png', '../../images/testsets/small_test/Bill_Gates_0004.png'): 0.013890584820971198, ('../../images/testsets/small_test/Bill_Gates_0016.png', '../../images/testsets/small_test/Ann_Veneman_0011.png'): 0.035562285927359674, ('../../images/testsets/small_test/Bill_Gates_0004.png', '../../images/testsets/small_test/Bill_Gates_0013.png'): 0.019284763000106359, ('../../images/testsets/small_test/Bill_Gates_0013.png', '../../images/testsets/small_test/Bill_Gates_0005.png'): 0.030739888679264041, ('../../images/testsets/small_test/Ann_Veneman_0006.png', '../../images/testsets/small_test/Anna_Kournikova_0011.png'): 0.011551830677524523, ('../../images/testsets/small_test/Bill_Gates_0005.png', '../../images/testsets/small_test/Ann_Veneman_0003.png'): 0.025502081069469152, ('../../images/testsets/small_test/Anna_Kournikova_0006.png', '../../images/testsets/small_test/Anna_Kournikova_0008.png'): 0.013630450662360183, ('../../images/testsets/small_test/Anna_Kournikova_0005.png', '../../images/testsets/small_test/Ann_Veneman_0005.png'): 0, ('../../images/testsets/small_test/Anna_Kournikova_0001.png', '../../images/testsets/small_test/Ann_Veneman_0004.png'): 0.0089833832828413399, ('../../images/testsets/small_test/Bill_Gates_0007.png', '../../images/testsets/small_test/Ann_Veneman_0009.png'): 0.020258701169761459, ('../../images/testsets/small_test/Ann_Veneman_0010.png', '../../images/testsets/small_test/Ann_Veneman_0002.png'): 0.015231638476134932, ('../../images/testsets/small_test/Ann_Veneman_0001.png', '../../images/testsets/small_test/Bill_Gates_0016.png'): 0.027270010132747814, ('../../images/testsets/small_test/Anna_Kournikova_0012.png', '../../images/testsets/small_test/Bill_Gates_0008.png'): 0.022811416447065979, ('../../images/testsets/small_test/Ann_Veneman_0003.png', '../../images/testsets/small_test/Ann_Veneman_0005.png'): 0.056704554254727042, ('../../images/testsets/small_test/Bill_Gates_0015.png', '../../images/testsets/small_test/Ann_Veneman_0004.png'): 0.015210675816288464, ('../../images/testsets/small_test/Bill_Gates_0008.png', '../../images/testsets/small_test/Anna_Kournikova_0001.png'): 0.023238436181516588, ('../../images/testsets/small_test/Anna_Kournikova_0012.png', '../../images/testsets/small_test/Bill_Gates_0015.png'): 0.026705657545638611, ('../../images/testsets/small_test/Bill_Gates_0008.png', '../../images/testsets/small_test/Anna_Kournikova_0008.png'): 0.04521484529758743, ('../../images/testsets/small_test/Bill_Gates_0013.png', '../../images/testsets/small_test/Anna_Kournikova_0005.png'): 0.034469813720825873, ('../../images/testsets/small_test/Anna_Kournikova_0012.png', '../../images/testsets/small_test/Bill_Gates_0013.png'): 0.033435056396081353, ('../../images/testsets/small_test/Anna_Kournikova_0010.png', '../../images/testsets/small_test/Bill_Gates_0015.png'): 0.0093668434975383193, ('../../images/testsets/small_test/Anna_Kournikova_0012.png', '../../images/testsets/small_test/Ann_Veneman_0005.png'): 0.046980548168471706, ('../../images/testsets/small_test/Bill_Gates_0002.png', '../../images/testsets/small_test/Anna_Kournikova_0011.png'): 0.0034556469937475406, ('../../images/testsets/small_test/Anna_Kournikova_0005.png', '../../images/testsets/small_test/Anna_Kournikova_0009.png'): 0.025786620181568271, ('../../images/testsets/small_test/Anna_Kournikova_0003.png', '../../images/testsets/small_test/Anna_Kournikova_0012.png'): 0.01022929387988253, ('../../images/testsets/small_test/Anna_Kournikova_0005.png', '../../images/testsets/small_test/Ann_Veneman_0011.png'): 0.039772456635193, ('../../images/testsets/small_test/Anna_Kournikova_0006.png', '../../images/testsets/small_test/Ann_Veneman_0005.png'): 0.038686906180971793, ('../../images/testsets/small_test/Ann_Veneman_0008.png', '../../images/testsets/small_test/Ann_Veneman_0001.png'): 0.01328178057792634, ('../../images/testsets/small_test/Bill_Gates_0015.png', '../../images/testsets/small_test/Anna_Kournikova_0003.png'): 0.013667757637968094, ('../../images/testsets/small_test/Ann_Veneman_0010.png', '../../images/testsets/small_test/Bill_Gates_0008.png'): 0.018871038907269887, ('../../images/testsets/small_test/Bill_Gates_0007.png', '../../images/testsets/small_test/Bill_Gates_0013.png'): 0.026690531125766928, ('../../images/testsets/small_test/Ann_Veneman_0004.png', '../../images/testsets/small_test/Anna_Kournikova_0001.png'): 0.0089833832828413399, ('../../images/testsets/small_test/Ann_Veneman_0006.png', '../../images/testsets/small_test/Anna_Kournikova_0003.png'): 0.005308914368419051, ('../../images/testsets/small_test/Ann_Veneman_0008.png', '../../images/testsets/small_test/Bill_Gates_0016.png'): 0.023880063833662583, ('../../images/testsets/small_test/Bill_Gates_0007.png', '../../images/testsets/small_test/Ann_Veneman_0008.png'): 0.02505099918909591, ('../../images/testsets/small_test/Ann_Veneman_0008.png', '../../images/testsets/small_test/Bill_Gates_0002.png'): 0, ('../../images/testsets/small_test/Ann_Veneman_0008.png', '../../images/testsets/small_test/Bill_Gates_0003.png'): 0.039170967373978904, ('../../images/testsets/small_test/Anna_Kournikova_0003.png', '../../images/testsets/small_test/Ann_Veneman_0010.png'): 0.016927320689850443, ('../../images/testsets/small_test/Bill_Gates_0004.png', '../../images/testsets/small_test/Ann_Veneman_0010.png'): 0.003929278947316801, ('../../images/testsets/small_test/Bill_Gates_0006.png', '../../images/testsets/small_test/Ann_Veneman_0004.png'): 0.016370277300530693, ('../../images/testsets/small_test/Bill_Gates_0004.png', '../../images/testsets/small_test/Bill_Gates_0015.png'): 0.017603202012824642, ('../../images/testsets/small_test/Anna_Kournikova_0008.png', '../../images/testsets/small_test/Anna_Kournikova_0001.png'): 0.035221803773671165, ('../../images/testsets/small_test/Ann_Veneman_0001.png', '../../images/testsets/small_test/Bill_Gates_0003.png'): 0.013717178208501562, ('../../images/testsets/small_test/Anna_Kournikova_0008.png', '../../images/testsets/small_test/Anna_Kournikova_0005.png'): 0.017996857170504029, ('../../images/testsets/small_test/Anna_Kournikova_0003.png', '../../images/testsets/small_test/Bill_Gates_0008.png'): 0.018003799283818317, ('../../images/testsets/small_test/Anna_Kournikova_0004.png', '../../images/testsets/small_test/Anna_Kournikova_0012.png'): 0.010843556032811558, ('../../images/testsets/small_test/Ann_Veneman_0005.png', '../../images/testsets/small_test/Ann_Veneman_0009.png'): 0.055924550721904234, ('../../images/testsets/small_test/Anna_Kournikova_0003.png', '../../images/testsets/small_test/Anna_Kournikova_0004.png'): 0.034667321763721656, ('../../images/testsets/small_test/Anna_Kournikova_0011.png', '../../images/testsets/small_test/Bill_Gates_0016.png'): 0.019285008575973303, ('../../images/testsets/small_test/Anna_Kournikova_0006.png', '../../images/testsets/small_test/Ann_Veneman_0009.png'): 0.047378329344555124, ('../../images/testsets/small_test/Ann_Veneman_0006.png', '../../images/testsets/small_test/Anna_Kournikova_0008.png'): 0.015899380923672147, ('../../images/testsets/small_test/Bill_Gates_0016.png', '../../images/testsets/small_test/Bill_Gates_0015.png'): 0.063436703343651271, ('../../images/testsets/small_test/Ann_Veneman_0001.png', '../../images/testsets/small_test/Anna_Kournikova_0011.png'): 0.041453604284700254, ('../../images/testsets/small_test/Bill_Gates_0006.png', '../../images/testsets/small_test/Anna_Kournikova_0003.png'): 0.0063102345446691965, ('../../images/testsets/small_test/Bill_Gates_0003.png', '../../images/testsets/small_test/Anna_Kournikova_0006.png'): 0.030468513311886252, ('../../images/testsets/small_test/Anna_Kournikova_0008.png', '../../images/testsets/small_test/Anna_Kournikova_0003.png'): 0.032675378670137513, ('../../images/testsets/small_test/Anna_Kournikova_0006.png', '../../images/testsets/small_test/Bill_Gates_0004.png'): 0.020289477923411511, ('../../images/testsets/small_test/Ann_Veneman_0001.png', '../../images/testsets/small_test/Anna_Kournikova_0005.png'): 0.016324867975250203, ('../../images/testsets/small_test/Anna_Kournikova_0004.png', '../../images/testsets/small_test/Ann_Veneman_0010.png'): 0.021192039924050055, ('../../images/testsets/small_test/Ann_Veneman_0002.png', '../../images/testsets/small_test/Ann_Veneman_0011.png'): 0.021384950746229422, ('../../images/testsets/small_test/Ann_Veneman_0005.png', '../../images/testsets/small_test/Ann_Veneman_0002.png'): 0.046199718045069421, ('../../images/testsets/small_test/Anna_Kournikova_0011.png', '../../images/testsets/small_test/Ann_Veneman_0001.png'): 0.041453604284700254, ('../../images/testsets/small_test/Bill_Gates_0006.png', '../../images/testsets/small_test/Anna_Kournikova_0012.png'): 0.024230595584918233, ('../../images/testsets/small_test/Bill_Gates_0006.png', '../../images/testsets/small_test/Anna_Kournikova_0006.png'): 0.018343745345559142, ('../../images/testsets/small_test/Ann_Veneman_0010.png', '../../images/testsets/small_test/Ann_Veneman_0001.png'): 0.026210421586406518, ('../../images/testsets/small_test/Ann_Veneman_0006.png', '../../images/testsets/small_test/Anna_Kournikova_0010.png'): 0.00024024543693147615, ('../../images/testsets/small_test/Bill_Gates_0016.png', '../../images/testsets/small_test/Bill_Gates_0008.png'): 0.04686267861582194, ('../../images/testsets/small_test/Anna_Kournikova_0008.png', '../../images/testsets/small_test/Ann_Veneman_0008.png'): 0, ('../../images/testsets/small_test/Bill_Gates_0003.png', '../../images/testsets/small_test/Bill_Gates_0013.png'): 0.038188826515122246, ('../../images/testsets/small_test/Anna_Kournikova_0008.png', '../../images/testsets/small_test/Ann_Veneman_0006.png'): 0.015899380923672147, ('../../images/testsets/small_test/Bill_Gates_0016.png', '../../images/testsets/small_test/Ann_Veneman_0001.png'): 0.027270010132747814, ('../../images/testsets/small_test/Bill_Gates_0004.png', '../../images/testsets/small_test/Ann_Veneman_0003.png'): 0.020403668166592826, ('../../images/testsets/small_test/Ann_Veneman_0010.png', '../../images/testsets/small_test/Bill_Gates_0002.png'): 0.0080980300086416282, ('../../images/testsets/small_test/Bill_Gates_0006.png', '../../images/testsets/small_test/Anna_Kournikova_0001.png'): 0.024768390922545507, ('../../images/testsets/small_test/Bill_Gates_0015.png', '../../images/testsets/small_test/Bill_Gates_0007.png'): 0.031438049267287035, ('../../images/testsets/small_test/Ann_Veneman_0004.png', '../../images/testsets/small_test/Ann_Veneman_0008.png'): 0.028267486495511362, ('../../images/testsets/small_test/Ann_Veneman_0005.png', '../../images/testsets/small_test/Anna_Kournikova_0009.png'): 0.047308462125606777, ('../../images/testsets/small_test/Ann_Veneman_0004.png', '../../images/testsets/small_test/Bill_Gates_0015.png'): 0.015210675816288464, ('../../images/testsets/small_test/Ann_Veneman_0002.png', '../../images/testsets/small_test/Anna_Kournikova_0011.png'): 0.016766544871862014, ('../../images/testsets/small_test/Anna_Kournikova_0009.png', '../../images/testsets/small_test/Bill_Gates_0016.png'): 0.0073785062278971421, ('../../images/testsets/small_test/Anna_Kournikova_0003.png', '../../images/testsets/small_test/Anna_Kournikova_0006.png'): 0.043063593427866816, ('../../images/testsets/small_test/Ann_Veneman_0003.png', '../../images/testsets/small_test/Anna_Kournikova_0010.png'): 0.031994767280134687, ('../../images/testsets/small_test/Anna_Kournikova_0005.png', '../../images/testsets/small_test/Ann_Veneman_0010.png'): 0.016933935522718574, ('../../images/testsets/small_test/Ann_Veneman_0001.png', '../../images/testsets/small_test/Anna_Kournikova_0006.png'): 0.033035766421735176, ('../../images/testsets/small_test/Anna_Kournikova_0003.png', '../../images/testsets/small_test/Bill_Gates_0007.png'): 0.014970334987867831, ('../../images/testsets/small_test/Ann_Veneman_0002.png', '../../images/testsets/small_test/Anna_Kournikova_0001.png'): 0.025087895021480022, ('../../images/testsets/small_test/Anna_Kournikova_0005.png', '../../images/testsets/small_test/Bill_Gates_0002.png'): 0.027028601324338628, ('../../images/testsets/small_test/Bill_Gates_0016.png', '../../images/testsets/small_test/Anna_Kournikova_0011.png'): 0.019285008575973303, ('../../images/testsets/small_test/Bill_Gates_0008.png', '../../images/testsets/small_test/Anna_Kournikova_0012.png'): 0.022811416447065979, ('../../images/testsets/small_test/Anna_Kournikova_0001.png', '../../images/testsets/small_test/Bill_Gates_0016.png'): 0.032151435009630497, ('../../images/testsets/small_test/Bill_Gates_0006.png', '../../images/testsets/small_test/Anna_Kournikova_0011.png'): 0.030448670189932105, ('../../images/testsets/small_test/Anna_Kournikova_0010.png', '../../images/testsets/small_test/Anna_Kournikova_0004.png'): 0.018953732495993521, ('../../images/testsets/small_test/Bill_Gates_0013.png', '../../images/testsets/small_test/Ann_Veneman_0009.png'): 0.028440816015431088, ('../../images/testsets/small_test/Anna_Kournikova_0005.png', '../../images/testsets/small_test/Bill_Gates_0015.png'): 0.017138102067105504, ('../../images/testsets/small_test/Bill_Gates_0008.png', '../../images/testsets/small_test/Ann_Veneman_0008.png'): 0.029137902949065087, ('../../images/testsets/small_test/Bill_Gates_0005.png', '../../images/testsets/small_test/Bill_Gates_0015.png'): 0.030184169373203708, ('../../images/testsets/small_test/Bill_Gates_0013.png', '../../images/testsets/small_test/Anna_Kournikova_0008.png'): 0.022029900296961412, ('../../images/testsets/small_test/Bill_Gates_0003.png', '../../images/testsets/small_test/Ann_Veneman_0010.png'): 0.016894653535104203, ('../../images/testsets/small_test/Anna_Kournikova_0008.png', '../../images/testsets/small_test/Anna_Kournikova_0012.png'): 0.023617582235741598, ('../../images/testsets/small_test/Bill_Gates_0006.png', '../../images/testsets/small_test/Bill_Gates_0007.png'): 0.019064571499519498, ('../../images/testsets/small_test/Ann_Veneman_0011.png', '../../images/testsets/small_test/Ann_Veneman_0009.png'): 0.022766075827683852, ('../../images/testsets/small_test/Anna_Kournikova_0003.png', '../../images/testsets/small_test/Ann_Veneman_0004.png'): 0, ('../../images/testsets/small_test/Anna_Kournikova_0011.png', '../../images/testsets/small_test/Ann_Veneman_0006.png'): 0.011551830677524523, ('../../images/testsets/small_test/Ann_Veneman_0011.png', '../../images/testsets/small_test/Bill_Gates_0008.png'): 0.018265364803540986, ('../../images/testsets/small_test/Ann_Veneman_0001.png', '../../images/testsets/small_test/Anna_Kournikova_0003.png'): 0, ('../../images/testsets/small_test/Ann_Veneman_0011.png', '../../images/testsets/small_test/Anna_Kournikova_0006.png'): 0.027039817020879372, ('../../images/testsets/small_test/Ann_Veneman_0001.png', '../../images/testsets/small_test/Anna_Kournikova_0004.png'): 0.018436836198302789, ('../../images/testsets/small_test/Anna_Kournikova_0003.png', '../../images/testsets/small_test/Bill_Gates_0006.png'): 0.0063102345446691965, ('../../images/testsets/small_test/Bill_Gates_0008.png', '../../images/testsets/small_test/Bill_Gates_0003.png'): 0.021729011768278947, ('../../images/testsets/small_test/Ann_Veneman_0010.png', '../../images/testsets/small_test/Anna_Kournikova_0012.png'): 0.0031878946447737792, ('../../images/testsets/small_test/Bill_Gates_0016.png', '../../images/testsets/small_test/Anna_Kournikova_0006.png'): 0.036768417249438884, ('../../images/testsets/small_test/Bill_Gates_0008.png', '../../images/testsets/small_test/Anna_Kournikova_0004.png'): 0.020786155219844043, ('../../images/testsets/small_test/Anna_Kournikova_0010.png', '../../images/testsets/small_test/Ann_Veneman_0001.png'): 0, ('../../images/testsets/small_test/Bill_Gates_0005.png', '../../images/testsets/small_test/Anna_Kournikova_0005.png'): 0.022091880380431264, ('../../images/testsets/small_test/Anna_Kournikova_0005.png', '../../images/testsets/small_test/Ann_Veneman_0002.png'): 0.015054485144320409, ('../../images/testsets/small_test/Anna_Kournikova_0011.png', '../../images/testsets/small_test/Bill_Gates_0007.png'): 0.011523412640653315, ('../../images/testsets/small_test/Bill_Gates_0003.png', '../../images/testsets/small_test/Anna_Kournikova_0008.png'): 0.028190824460299593, ('../../images/testsets/small_test/Anna_Kournikova_0012.png', '../../images/testsets/small_test/Bill_Gates_0002.png'): 0.010857420468020244, ('../../images/testsets/small_test/Bill_Gates_0005.png', '../../images/testsets/small_test/Bill_Gates_0016.png'): 0.024565531476397798, ('../../images/testsets/small_test/Bill_Gates_0015.png', '../../images/testsets/small_test/Bill_Gates_0003.png'): 0.059627770720616015, ('../../images/testsets/small_test/Ann_Veneman_0011.png', '../../images/testsets/small_test/Ann_Veneman_0005.png'): 0.044102226434322156, ('../../images/testsets/small_test/Bill_Gates_0015.png', '../../images/testsets/small_test/Bill_Gates_0002.png'): 0.015914379262546859, ('../../images/testsets/small_test/Bill_Gates_0016.png', '../../images/testsets/small_test/Bill_Gates_0002.png'): 0.017342381262690554, ('../../images/testsets/small_test/Bill_Gates_0016.png', '../../images/testsets/small_test/Anna_Kournikova_0003.png'): 0.013896678739347832, ('../../images/testsets/small_test/Anna_Kournikova_0010.png', '../../images/testsets/small_test/Anna_Kournikova_0006.png'): 0.023001445878348188, ('../../images/testsets/small_test/Anna_Kournikova_0009.png', '../../images/testsets/small_test/Bill_Gates_0015.png'): 0.021016445147812909, ('../../images/testsets/small_test/Bill_Gates_0004.png', '../../images/testsets/small_test/Ann_Veneman_0009.png'): 0.022499874273966162, ('../../images/testsets/small_test/Bill_Gates_0003.png', '../../images/testsets/small_test/Ann_Veneman_0001.png'): 0.013717178208501562, ('../../images/testsets/small_test/Anna_Kournikova_0003.png', '../../images/testsets/small_test/Bill_Gates_0005.png'): 0, ('../../images/testsets/small_test/Ann_Veneman_0005.png', '../../images/testsets/small_test/Bill_Gates_0016.png'): 0.020342821350770264, ('../../images/testsets/small_test/Ann_Veneman_0004.png', '../../images/testsets/small_test/Bill_Gates_0016.png'): 0.022428060384774975, ('../../images/testsets/small_test/Anna_Kournikova_0001.png', '../../images/testsets/small_test/Bill_Gates_0003.png'): 0.027915299572568001, ('../../images/testsets/small_test/Ann_Veneman_0003.png', '../../images/testsets/small_test/Ann_Veneman_0010.png'): 0.012400974284990667, ('../../images/testsets/small_test/Anna_Kournikova_0008.png', '../../images/testsets/small_test/Ann_Veneman_0010.png'): 0.026727875285635343, ('../../images/testsets/small_test/Anna_Kournikova_0012.png', '../../images/testsets/small_test/Ann_Veneman_0003.png'): 0.016419423072657952, ('../../images/testsets/small_test/Anna_Kournikova_0012.png', '../../images/testsets/small_test/Bill_Gates_0016.png'): 0.017991378128594387, ('../../images/testsets/small_test/Bill_Gates_0002.png', '../../images/testsets/small_test/Ann_Veneman_0004.png'): 0.0017643804046661308, ('../../images/testsets/small_test/Ann_Veneman_0010.png', '../../images/testsets/small_test/Bill_Gates_0004.png'): 0.003929278947316801, ('../../images/testsets/small_test/Anna_Kournikova_0001.png', '../../images/testsets/small_test/Bill_Gates_0015.png'): 0.028851327037880448, ('../../images/testsets/small_test/Bill_Gates_0008.png', '../../images/testsets/small_test/Ann_Veneman_0011.png'): 0.018265364803540986, ('../../images/testsets/small_test/Anna_Kournikova_0010.png', '../../images/testsets/small_test/Bill_Gates_0003.png'): 0.034444537505219926, ('../../images/testsets/small_test/Ann_Veneman_0005.png', '../../images/testsets/small_test/Ann_Veneman_0010.png'): 0.055499659980350509, ('../../images/testsets/small_test/Anna_Kournikova_0005.png', '../../images/testsets/small_test/Bill_Gates_0013.png'): 0.034469813720825873, ('../../images/testsets/small_test/Bill_Gates_0015.png', '../../images/testsets/small_test/Bill_Gates_0005.png'): 0.030184169373203708, ('../../images/testsets/small_test/Anna_Kournikova_0011.png', '../../images/testsets/small_test/Bill_Gates_0004.png'): 0, ('../../images/testsets/small_test/Ann_Veneman_0011.png', '../../images/testsets/small_test/Anna_Kournikova_0004.png'): 0, ('../../images/testsets/small_test/Anna_Kournikova_0008.png', '../../images/testsets/small_test/Bill_Gates_0015.png'): 0.037303546439009072, ('../../images/testsets/small_test/Bill_Gates_0016.png', '../../images/testsets/small_test/Ann_Veneman_0008.png'): 0.023880063833662583, ('../../images/testsets/small_test/Bill_Gates_0005.png', '../../images/testsets/small_test/Anna_Kournikova_0012.png'): 0.012290534803304633, ('../../images/testsets/small_test/Bill_Gates_0016.png', '../../images/testsets/small_test/Anna_Kournikova_0004.png'): 0.019241138285061271, ('../../images/testsets/small_test/Anna_Kournikova_0001.png', '../../images/testsets/small_test/Anna_Kournikova_0008.png'): 0.035221803773671165, ('../../images/testsets/small_test/Ann_Veneman_0001.png', '../../images/testsets/small_test/Bill_Gates_0004.png'): 0.019713646185670879, ('../../images/testsets/small_test/Ann_Veneman_0002.png', '../../images/testsets/small_test/Anna_Kournikova_0010.png'): 0.024211056115471322, ('../../images/testsets/small_test/Anna_Kournikova_0003.png', '../../images/testsets/small_test/Ann_Veneman_0009.png'): 0.021454011924541432, ('../../images/testsets/small_test/Anna_Kournikova_0011.png', '../../images/testsets/small_test/Anna_Kournikova_0010.png'): 0.0067340262864933921, ('../../images/testsets/small_test/Ann_Veneman_0003.png', '../../images/testsets/small_test/Bill_Gates_0013.png'): 0.023760445116522935, ('../../images/testsets/small_test/Ann_Veneman_0003.png', '../../images/testsets/small_test/Anna_Kournikova_0011.png'): 0, ('../../images/testsets/small_test/Anna_Kournikova_0012.png', '../../images/testsets/small_test/Ann_Veneman_0011.png'): 0.016452591914212059, ('../../images/testsets/small_test/Bill_Gates_0005.png', '../../images/testsets/small_test/Anna_Kournikova_0003.png'): 0, ('../../images/testsets/small_test/Anna_Kournikova_0006.png', '../../images/testsets/small_test/Ann_Veneman_0010.png'): 0.010892361173068511, ('../../images/testsets/small_test/Ann_Veneman_0006.png', '../../images/testsets/small_test/Bill_Gates_0002.png'): 0.011212454693031412, ('../../images/testsets/small_test/Anna_Kournikova_0009.png', '../../images/testsets/small_test/Anna_Kournikova_0011.png'): 0.019632451189176302, ('../../images/testsets/small_test/Ann_Veneman_0008.png', '../../images/testsets/small_test/Bill_Gates_0015.png'): 0.034581220135758463, ('../../images/testsets/small_test/Anna_Kournikova_0003.png', '../../images/testsets/small_test/Anna_Kournikova_0005.png'): 0.026613158690633913, ('../../images/testsets/small_test/Anna_Kournikova_0004.png', '../../images/testsets/small_test/Bill_Gates_0004.png'): 0.03035574869887657, ('../../images/testsets/small_test/Bill_Gates_0013.png', '../../images/testsets/small_test/Anna_Kournikova_0012.png'): 0.033435056396081353, ('../../images/testsets/small_test/Bill_Gates_0016.png', '../../images/testsets/small_test/Anna_Kournikova_0010.png'): 0.019902304438177296, ('../../images/testsets/small_test/Bill_Gates_0006.png', '../../images/testsets/small_test/Bill_Gates_0008.png'): 0.051094015177902158, ('../../images/testsets/small_test/Bill_Gates_0002.png', '../../images/testsets/small_test/Anna_Kournikova_0006.png'): 0.011657326720490795, ('../../images/testsets/small_test/Bill_Gates_0004.png', '../../images/testsets/small_test/Ann_Veneman_0005.png'): 0.04399789692232086, ('../../images/testsets/small_test/Ann_Veneman_0002.png', '../../images/testsets/small_test/Anna_Kournikova_0012.png'): 0.0046616873373600343, ('../../images/testsets/small_test/Ann_Veneman_0008.png', '../../images/testsets/small_test/Anna_Kournikova_0004.png'): 0.012513571995102144, ('../../images/testsets/small_test/Anna_Kournikova_0012.png', '../../images/testsets/small_test/Ann_Veneman_0010.png'): 0.0031878946447737792, ('../../images/testsets/small_test/Ann_Veneman_0010.png', '../../images/testsets/small_test/Ann_Veneman_0004.png'): 0.019619310148023324, ('../../images/testsets/small_test/Bill_Gates_0006.png', '../../images/testsets/small_test/Anna_Kournikova_0005.png'): 0.022504802616193802, ('../../images/testsets/small_test/Ann_Veneman_0010.png', '../../images/testsets/small_test/Anna_Kournikova_0005.png'): 0.016933935522718574, ('../../images/testsets/small_test/Anna_Kournikova_0012.png', '../../images/testsets/small_test/Ann_Veneman_0008.png'): 0.015159478846326378, ('../../images/testsets/small_test/Anna_Kournikova_0003.png', '../../images/testsets/small_test/Ann_Veneman_0003.png'): 0.013759691183614262, ('../../images/testsets/small_test/Ann_Veneman_0002.png', '../../images/testsets/small_test/Bill_Gates_0006.png'): 0.017263801944826355, ('../../images/testsets/small_test/Bill_Gates_0013.png', '../../images/testsets/small_test/Anna_Kournikova_0010.png'): 0.034885633924568601, ('../../images/testsets/small_test/Bill_Gates_0016.png', '../../images/testsets/small_test/Anna_Kournikova_0012.png'): 0.017991378128594387, ('../../images/testsets/small_test/Ann_Veneman_0010.png', '../../images/testsets/small_test/Bill_Gates_0006.png'): 0.020136847774563912, ('../../images/testsets/small_test/Bill_Gates_0003.png', '../../images/testsets/small_test/Bill_Gates_0005.png'): 0.026679157060986582, ('../../images/testsets/small_test/Anna_Kournikova_0010.png', '../../images/testsets/small_test/Bill_Gates_0004.png'): 0, ('../../images/testsets/small_test/Ann_Veneman_0003.png', '../../images/testsets/small_test/Anna_Kournikova_0006.png'): 0.015543537402978749, ('../../images/testsets/small_test/Anna_Kournikova_0004.png', '../../images/testsets/small_test/Ann_Veneman_0009.png'): 0.021155116296204104, ('../../images/testsets/small_test/Anna_Kournikova_0012.png', '../../images/testsets/small_test/Bill_Gates_0004.png'): 0.0030607697522544103, ('../../images/testsets/small_test/Ann_Veneman_0009.png', '../../images/testsets/small_test/Bill_Gates_0007.png'): 0.020258701169761459, ('../../images/testsets/small_test/Bill_Gates_0008.png', '../../images/testsets/small_test/Bill_Gates_0006.png'): 0.051094015177902158, ('../../images/testsets/small_test/Bill_Gates_0007.png', '../../images/testsets/small_test/Ann_Veneman_0005.png'): 0.051162300178329026, ('../../images/testsets/small_test/Ann_Veneman_0005.png', '../../images/testsets/small_test/Bill_Gates_0015.png'): 0.039034326134646129, ('../../images/testsets/small_test/Anna_Kournikova_0006.png', '../../images/testsets/small_test/Ann_Veneman_0011.png'): 0.027039817020879372, ('../../images/testsets/small_test/Bill_Gates_0013.png', '../../images/testsets/small_test/Anna_Kournikova_0004.png'): 0.012355545455464578, ('../../images/testsets/small_test/Bill_Gates_0013.png', '../../images/testsets/small_test/Ann_Veneman_0008.png'): 0.041662448917066032, ('../../images/testsets/small_test/Bill_Gates_0002.png', '../../images/testsets/small_test/Bill_Gates_0015.png'): 0.015914379262546859, ('../../images/testsets/small_test/Bill_Gates_0006.png', '../../images/testsets/small_test/Ann_Veneman_0011.png'): 0.010127837109925507, ('../../images/testsets/small_test/Ann_Veneman_0004.png', '../../images/testsets/small_test/Anna_Kournikova_0005.png'): 0, ('../../images/testsets/small_test/Anna_Kournikova_0004.png', '../../images/testsets/small_test/Ann_Veneman_0011.png'): 0, ('../../images/testsets/small_test/Ann_Veneman_0010.png', '../../images/testsets/small_test/Bill_Gates_0005.png'): 0.016482525461964891, ('../../images/testsets/small_test/Anna_Kournikova_0008.png', '../../images/testsets/small_test/Anna_Kournikova_0009.png'): 0.039747714009648827, ('../../images/testsets/small_test/Bill_Gates_0002.png', '../../images/testsets/small_test/Ann_Veneman_0005.png'): 0.024917788403478695, ('../../images/testsets/small_test/Bill_Gates_0007.png', '../../images/testsets/small_test/Anna_Kournikova_0003.png'): 0.014970334987867831, ('../../images/testsets/small_test/Ann_Veneman_0008.png', '../../images/testsets/small_test/Bill_Gates_0005.png'): 0.022684742044576874, ('../../images/testsets/small_test/Bill_Gates_0008.png', '../../images/testsets/small_test/Bill_Gates_0005.png'): 0.033717553523891157, ('../../images/testsets/small_test/Bill_Gates_0008.png', '../../images/testsets/small_test/Bill_Gates_0002.png'): 0.031309156072040448, ('../../images/testsets/small_test/Bill_Gates_0003.png', '../../images/testsets/small_test/Ann_Veneman_0009.png'): 0.027196382588715151, ('../../images/testsets/small_test/Ann_Veneman_0006.png', '../../images/testsets/small_test/Bill_Gates_0007.png'): 0.027773496199286971, ('../../images/testsets/small_test/Anna_Kournikova_0003.png', '../../images/testsets/small_test/Ann_Veneman_0011.png'): 0.023009096500609755, ('../../images/testsets/small_test/Bill_Gates_0003.png', '../../images/testsets/small_test/Ann_Veneman_0008.png'): 0.039170967373978904, ('../../images/testsets/small_test/Ann_Veneman_0003.png', '../../images/testsets/small_test/Ann_Veneman_0004.png'): 0.016201829099264549, ('../../images/testsets/small_test/Ann_Veneman_0008.png', '../../images/testsets/small_test/Ann_Veneman_0004.png'): 0.028267486495511362, ('../../images/testsets/small_test/Bill_Gates_0013.png', '../../images/testsets/small_test/Anna_Kournikova_0003.png'): 0, ('../../images/testsets/small_test/Anna_Kournikova_0010.png', '../../images/testsets/small_test/Ann_Veneman_0009.png'): 0.022372856250392575, ('../../images/testsets/small_test/Ann_Veneman_0006.png', '../../images/testsets/small_test/Ann_Veneman_0008.png'): 0.019411788697290912, ('../../images/testsets/small_test/Bill_Gates_0007.png', '../../images/testsets/small_test/Bill_Gates_0008.png'): 0.010205453306323496, ('../../images/testsets/small_test/Anna_Kournikova_0008.png', '../../images/testsets/small_test/Bill_Gates_0006.png'): 0, ('../../images/testsets/small_test/Anna_Kournikova_0012.png', '../../images/testsets/small_test/Anna_Kournikova_0011.png'): 0.012015259981774986, ('../../images/testsets/small_test/Bill_Gates_0013.png', '../../images/testsets/small_test/Anna_Kournikova_0006.png'): 0.019151776030618017, ('../../images/testsets/small_test/Ann_Veneman_0011.png', '../../images/testsets/small_test/Anna_Kournikova_0003.png'): 0.023009096500609755, ('../../images/testsets/small_test/Anna_Kournikova_0009.png', '../../images/testsets/small_test/Ann_Veneman_0009.png'): 0.042882850426723407, ('../../images/testsets/small_test/Bill_Gates_0004.png', '../../images/testsets/small_test/Bill_Gates_0002.png'): 0.020824228242228078, ('../../images/testsets/small_test/Anna_Kournikova_0001.png', '../../images/testsets/small_test/Anna_Kournikova_0009.png'): 0.058610574386607786, ('../../images/testsets/small_test/Anna_Kournikova_0005.png', '../../images/testsets/small_test/Ann_Veneman_0003.png'): 0.029436412276563913, ('../../images/testsets/small_test/Ann_Veneman_0009.png', '../../images/testsets/small_test/Bill_Gates_0002.png'): 0.023727425918876527, ('../../images/testsets/small_test/Ann_Veneman_0009.png', '../../images/testsets/small_test/Bill_Gates_0016.png'): 0.035865819719548955, ('../../images/testsets/small_test/Ann_Veneman_0006.png', '../../images/testsets/small_test/Ann_Veneman_0009.png'): 0.046270956491674842, ('../../images/testsets/small_test/Anna_Kournikova_0012.png', '../../images/testsets/small_test/Bill_Gates_0006.png'): 0.024230595584918233, ('../../images/testsets/small_test/Anna_Kournikova_0001.png', '../../images/testsets/small_test/Ann_Veneman_0001.png'): 0.0098017647933226482, ('../../images/testsets/small_test/Anna_Kournikova_0011.png', '../../images/testsets/small_test/Ann_Veneman_0005.png'): 0, ('../../images/testsets/small_test/Ann_Veneman_0010.png', '../../images/testsets/small_test/Ann_Veneman_0005.png'): 0.055499659980350509, ('../../images/testsets/small_test/Ann_Veneman_0009.png', '../../images/testsets/small_test/Ann_Veneman_0001.png'): 0.025058360430403583, ('../../images/testsets/small_test/Ann_Veneman_0006.png', '../../images/testsets/small_test/Bill_Gates_0004.png'): 0.0060782899417116572, ('../../images/testsets/small_test/Bill_Gates_0016.png', '../../images/testsets/small_test/Anna_Kournikova_0008.png'): 0.032469762920736868, ('../../images/testsets/small_test/Anna_Kournikova_0010.png', '../../images/testsets/small_test/Bill_Gates_0005.png'): 0.026566023343000456, ('../../images/testsets/small_test/Anna_Kournikova_0001.png', '../../images/testsets/small_test/Ann_Veneman_0008.png'): 0.0069327360931950213, ('../../images/testsets/small_test/Bill_Gates_0004.png', '../../images/testsets/small_test/Bill_Gates_0006.png'): 0.00662580804838038, ('../../images/testsets/small_test/Anna_Kournikova_0010.png', '../../images/testsets/small_test/Ann_Veneman_0002.png'): 0.024211056115471322, ('../../images/testsets/small_test/Bill_Gates_0008.png', '../../images/testsets/small_test/Ann_Veneman_0003.png'): 0.011222707471788745, ('../../images/testsets/small_test/Bill_Gates_0002.png', '../../images/testsets/small_test/Ann_Veneman_0008.png'): 0, ('../../images/testsets/small_test/Bill_Gates_0002.png', '../../images/testsets/small_test/Ann_Veneman_0009.png'): 0.023727425918876527, ('../../images/testsets/small_test/Bill_Gates_0007.png', '../../images/testsets/small_test/Ann_Veneman_0006.png'): 0.027773496199286971, ('../../images/testsets/small_test/Bill_Gates_0013.png', '../../images/testsets/small_test/Anna_Kournikova_0011.png'): 0.019049132152136671, ('../../images/testsets/small_test/Ann_Veneman_0006.png', '../../images/testsets/small_test/Bill_Gates_0005.png'): 0.017071501715246261, ('../../images/testsets/small_test/Ann_Veneman_0003.png', '../../images/testsets/small_test/Bill_Gates_0004.png'): 0.020403668166592826, ('../../images/testsets/small_test/Anna_Kournikova_0008.png', '../../images/testsets/small_test/Bill_Gates_0008.png'): 0.04521484529758743, ('../../images/testsets/small_test/Ann_Veneman_0004.png', '../../images/testsets/small_test/Ann_Veneman_0005.png'): 0.023665256006142797, ('../../images/testsets/small_test/Anna_Kournikova_0009.png', '../../images/testsets/small_test/Bill_Gates_0003.png'): 0.020744105814652945, ('../../images/testsets/small_test/Bill_Gates_0007.png', '../../images/testsets/small_test/Anna_Kournikova_0005.png'): 0.025379594990478174, ('../../images/testsets/small_test/Bill_Gates_0007.png', '../../images/testsets/small_test/Ann_Veneman_0001.png'): 0.013504034173534085, ('../../images/testsets/small_test/Ann_Veneman_0001.png', '../../images/testsets/small_test/Anna_Kournikova_0009.png'): 0.02697396692286861, ('../../images/testsets/small_test/Anna_Kournikova_0001.png', '../../images/testsets/small_test/Ann_Veneman_0011.png'): 0.058555432702245405, ('../../images/testsets/small_test/Anna_Kournikova_0003.png', '../../images/testsets/small_test/Anna_Kournikova_0009.png'): 0.037667021788643749, ('../../images/testsets/small_test/Bill_Gates_0004.png', '../../images/testsets/small_test/Bill_Gates_0005.png'): 0.010950787699978188, ('../../images/testsets/small_test/Bill_Gates_0013.png', '../../images/testsets/small_test/Bill_Gates_0003.png'): 0.038188826515122246, ('../../images/testsets/small_test/Ann_Veneman_0011.png', '../../images/testsets/small_test/Anna_Kournikova_0011.png'): 0.026952313722178618, ('../../images/testsets/small_test/Anna_Kournikova_0009.png', '../../images/testsets/small_test/Ann_Veneman_0001.png'): 0.02697396692286861, ('../../images/testsets/small_test/Anna_Kournikova_0011.png', '../../images/testsets/small_test/Anna_Kournikova_0006.png'): 0, ('../../images/testsets/small_test/Bill_Gates_0005.png', '../../images/testsets/small_test/Anna_Kournikova_0008.png'): 0.016040118855296284, ('../../images/testsets/small_test/Ann_Veneman_0006.png', '../../images/testsets/small_test/Bill_Gates_0006.png'): 0.012298544717960019, ('../../images/testsets/small_test/Ann_Veneman_0010.png', '../../images/testsets/small_test/Ann_Veneman_0009.png'): 0.025959919903434471, ('../../images/testsets/small_test/Anna_Kournikova_0009.png', '../../images/testsets/small_test/Ann_Veneman_0011.png'): 0.0044966273472066137, ('../../images/testsets/small_test/Bill_Gates_0013.png', '../../images/testsets/small_test/Ann_Veneman_0001.png'): 0.031002755708464495, ('../../images/testsets/small_test/Bill_Gates_0015.png', '../../images/testsets/small_test/Anna_Kournikova_0006.png'): 0.0079729896099583336, ('../../images/testsets/small_test/Ann_Veneman_0001.png', '../../images/testsets/small_test/Bill_Gates_0007.png'): 0.013504034173534085, ('../../images/testsets/small_test/Ann_Veneman_0009.png', '../../images/testsets/small_test/Bill_Gates_0008.png'): 0.01664259714917412, ('../../images/testsets/small_test/Anna_Kournikova_0005.png', '../../images/testsets/small_test/Bill_Gates_0007.png'): 0.025379594990478174, ('../../images/testsets/small_test/Bill_Gates_0005.png', '../../images/testsets/small_test/Ann_Veneman_0001.png'): 0.021989364330717461, ('../../images/testsets/small_test/Bill_Gates_0015.png', '../../images/testsets/small_test/Ann_Veneman_0003.png'): 0.033783881641145014, ('../../images/testsets/small_test/Ann_Veneman_0010.png', '../../images/testsets/small_test/Bill_Gates_0015.png'): 0.014265337043927864, ('../../images/testsets/small_test/Anna_Kournikova_0001.png', '../../images/testsets/small_test/Anna_Kournikova_0004.png'): 0.036626159638236747, ('../../images/testsets/small_test/Anna_Kournikova_0011.png', '../../images/testsets/small_test/Anna_Kournikova_0005.png'): 0.030696316513334893, ('../../images/testsets/small_test/Bill_Gates_0015.png', '../../images/testsets/small_test/Anna_Kournikova_0001.png'): 0.028851327037880448, ('../../images/testsets/small_test/Anna_Kournikova_0006.png', '../../images/testsets/small_test/Bill_Gates_0016.png'): 0.036768417249438884, ('../../images/testsets/small_test/Ann_Veneman_0005.png', '../../images/testsets/small_test/Anna_Kournikova_0005.png'): 0, ('../../images/testsets/small_test/Ann_Veneman_0004.png', '../../images/testsets/small_test/Ann_Veneman_0003.png'): 0.016201829099264549, ('../../images/testsets/small_test/Ann_Veneman_0005.png', '../../images/testsets/small_test/Ann_Veneman_0003.png'): 0.056704554254727042, ('../../images/testsets/small_test/Anna_Kournikova_0008.png', '../../images/testsets/small_test/Ann_Veneman_0011.png'): 0.018211333480949776, ('../../images/testsets/small_test/Ann_Veneman_0002.png', '../../images/testsets/small_test/Bill_Gates_0002.png'): 0.014252007524957505, ('../../images/testsets/small_test/Ann_Veneman_0006.png', '../../images/testsets/small_test/Anna_Kournikova_0004.png'): 0.020858621076290981, ('../../images/testsets/small_test/Ann_Veneman_0002.png', '../../images/testsets/small_test/Ann_Veneman_0009.png'): 0.026558978367468351, ('../../images/testsets/small_test/Ann_Veneman_0009.png', '../../images/testsets/small_test/Anna_Kournikova_0003.png'): 0.021454011924541432, ('../../images/testsets/small_test/Anna_Kournikova_0008.png', '../../images/testsets/small_test/Ann_Veneman_0001.png'): 0.0191121695264868, ('../../images/testsets/small_test/Anna_Kournikova_0003.png', '../../images/testsets/small_test/Anna_Kournikova_0001.png'): 0.045761024206231439, ('../../images/testsets/small_test/Bill_Gates_0013.png', '../../images/testsets/small_test/Bill_Gates_0008.png'): 0.024749130087029905, ('../../images/testsets/small_test/Ann_Veneman_0005.png', '../../images/testsets/small_test/Bill_Gates_0003.png'): 0.015281111298966662, ('../../images/testsets/small_test/Bill_Gates_0002.png', '../../images/testsets/small_test/Ann_Veneman_0011.png'): 0, ('../../images/testsets/small_test/Bill_Gates_0005.png', '../../images/testsets/small_test/Anna_Kournikova_0011.png'): 0, ('../../images/testsets/small_test/Bill_Gates_0016.png', '../../images/testsets/small_test/Bill_Gates_0013.png'): 0.031766065001827139, ('../../images/testsets/small_test/Anna_Kournikova_0006.png', '../../images/testsets/small_test/Bill_Gates_0015.png'): 0.0079729896099583336, ('../../images/testsets/small_test/Ann_Veneman_0009.png', '../../images/testsets/small_test/Ann_Veneman_0011.png'): 0.022766075827683852, ('../../images/testsets/small_test/Ann_Veneman_0004.png', '../../images/testsets/small_test/Ann_Veneman_0011.png'): 0.016953435369894364, ('../../images/testsets/small_test/Anna_Kournikova_0008.png', '../../images/testsets/small_test/Bill_Gates_0003.png'): 0.028190824460299593, ('../../images/testsets/small_test/Anna_Kournikova_0010.png', '../../images/testsets/small_test/Ann_Veneman_0005.png'): 0.041773631217913887, ('../../images/testsets/small_test/Anna_Kournikova_0009.png', '../../images/testsets/small_test/Bill_Gates_0008.png'): 0.0087585097865479945, ('../../images/testsets/small_test/Ann_Veneman_0011.png', '../../images/testsets/small_test/Ann_Veneman_0010.png'): 0.026094195126080959, ('../../images/testsets/small_test/Anna_Kournikova_0006.png', '../../images/testsets/small_test/Bill_Gates_0013.png'): 0.019151776030618017, ('../../images/testsets/small_test/Anna_Kournikova_0004.png', '../../images/testsets/small_test/Anna_Kournikova_0009.png'): 0.058582196149718595, ('../../images/testsets/small_test/Anna_Kournikova_0005.png', '../../images/testsets/small_test/Bill_Gates_0006.png'): 0.022504802616193802, ('../../images/testsets/small_test/Ann_Veneman_0011.png', '../../images/testsets/small_test/Anna_Kournikova_0009.png'): 0.0044966273472066137, ('../../images/testsets/small_test/Ann_Veneman_0004.png', '../../images/testsets/small_test/Bill_Gates_0006.png'): 0.016370277300530693, ('../../images/testsets/small_test/Ann_Veneman_0002.png', '../../images/testsets/small_test/Bill_Gates_0008.png'): 0.019779082286593506, ('../../images/testsets/small_test/Anna_Kournikova_0003.png', '../../images/testsets/small_test/Bill_Gates_0002.png'): 0.023226153194345345, ('../../images/testsets/small_test/Ann_Veneman_0008.png', '../../images/testsets/small_test/Ann_Veneman_0003.png'): 0.031072879807593948, ('../../images/testsets/small_test/Anna_Kournikova_0004.png', '../../images/testsets/small_test/Ann_Veneman_0003.png'): 0.010652256677795008, ('../../images/testsets/small_test/Bill_Gates_0003.png', '../../images/testsets/small_test/Bill_Gates_0006.png'): 0.012037625405424551, ('../../images/testsets/small_test/Ann_Veneman_0001.png', '../../images/testsets/small_test/Bill_Gates_0002.png'): 0.015220965426131387, ('../../images/testsets/small_test/Bill_Gates_0015.png', '../../images/testsets/small_test/Ann_Veneman_0010.png'): 0.014265337043927864, ('../../images/testsets/small_test/Ann_Veneman_0001.png', '../../images/testsets/small_test/Bill_Gates_0005.png'): 0.021989364330717461, ('../../images/testsets/small_test/Bill_Gates_0005.png', '../../images/testsets/small_test/Bill_Gates_0008.png'): 0.033717553523891157, ('../../images/testsets/small_test/Bill_Gates_0002.png', '../../images/testsets/small_test/Bill_Gates_0003.png'): 0.014078114922487915, ('../../images/testsets/small_test/Bill_Gates_0008.png', '../../images/testsets/small_test/Ann_Veneman_0010.png'): 0.018871038907269887, ('../../images/testsets/small_test/Bill_Gates_0016.png', '../../images/testsets/small_test/Bill_Gates_0004.png'): 0.026402250804850414, ('../../images/testsets/small_test/Bill_Gates_0003.png', '../../images/testsets/small_test/Ann_Veneman_0004.png'): 0.026219434904547024, ('../../images/testsets/small_test/Bill_Gates_0002.png', '../../images/testsets/small_test/Bill_Gates_0016.png'): 0.017342381262690554, ('../../images/testsets/small_test/Anna_Kournikova_0001.png', '../../images/testsets/small_test/Anna_Kournikova_0010.png'): 0.030938600254440739, ('../../images/testsets/small_test/Ann_Veneman_0001.png', '../../images/testsets/small_test/Anna_Kournikova_0010.png'): 0, ('../../images/testsets/small_test/Ann_Veneman_0003.png', '../../images/testsets/small_test/Ann_Veneman_0002.png'): 0.030267227150631289, ('../../images/testsets/small_test/Anna_Kournikova_0004.png', '../../images/testsets/small_test/Anna_Kournikova_0011.png'): 0.017915851901410849, ('../../images/testsets/small_test/Bill_Gates_0016.png', '../../images/testsets/small_test/Ann_Veneman_0009.png'): 0.035865819719548955, ('../../images/testsets/small_test/Anna_Kournikova_0012.png', '../../images/testsets/small_test/Anna_Kournikova_0006.png'): 0.016501600782618302, ('../../images/testsets/small_test/Anna_Kournikova_0006.png', '../../images/testsets/small_test/Anna_Kournikova_0003.png'): 0.043063593427866816, ('../../images/testsets/small_test/Bill_Gates_0002.png', '../../images/testsets/small_test/Ann_Veneman_0001.png'): 0.015220965426131387, ('../../images/testsets/small_test/Bill_Gates_0016.png', '../../images/testsets/small_test/Anna_Kournikova_0005.png'): 0.0051020371885027614, ('../../images/testsets/small_test/Anna_Kournikova_0011.png', '../../images/testsets/small_test/Ann_Veneman_0009.png'): 0.027303537056054469, ('../../images/testsets/small_test/Ann_Veneman_0011.png', '../../images/testsets/small_test/Bill_Gates_0004.png'): 0, ('../../images/testsets/small_test/Bill_Gates_0008.png', '../../images/testsets/small_test/Bill_Gates_0013.png'): 0.024749130087029905, ('../../images/testsets/small_test/Anna_Kournikova_0012.png', '../../images/testsets/small_test/Ann_Veneman_0009.png'): 0.02502536438481694, ('../../images/testsets/small_test/Bill_Gates_0006.png', '../../images/testsets/small_test/Bill_Gates_0003.png'): 0.012037625405424551, ('../../images/testsets/small_test/Ann_Veneman_0005.png', '../../images/testsets/small_test/Bill_Gates_0004.png'): 0.04399789692232086, ('../../images/testsets/small_test/Anna_Kournikova_0008.png', '../../images/testsets/small_test/Ann_Veneman_0009.png'): 0.033244516181674975, ('../../images/testsets/small_test/Anna_Kournikova_0005.png', '../../images/testsets/small_test/Bill_Gates_0008.png'): 0.022134256724919289, ('../../images/testsets/small_test/Ann_Veneman_0008.png', '../../images/testsets/small_test/Anna_Kournikova_0011.png'): 0.015145019938730967, ('../../images/testsets/small_test/Ann_Veneman_0011.png', '../../images/testsets/small_test/Anna_Kournikova_0010.png'): 0.036299651694169349, ('../../images/testsets/small_test/Anna_Kournikova_0009.png', '../../images/testsets/small_test/Bill_Gates_0006.png'): 0.017664214518665677, ('../../images/testsets/small_test/Bill_Gates_0002.png', '../../images/testsets/small_test/Anna_Kournikova_0008.png'): 0.0095519923625255829, ('../../images/testsets/small_test/Bill_Gates_0004.png', '../../images/testsets/small_test/Anna_Kournikova_0004.png'): 0.03035574869887657, ('../../images/testsets/small_test/Ann_Veneman_0004.png', '../../images/testsets/small_test/Bill_Gates_0008.png'): 0.019518342078742788, ('../../images/testsets/small_test/Ann_Veneman_0002.png', '../../images/testsets/small_test/Bill_Gates_0005.png'): 0, ('../../images/testsets/small_test/Anna_Kournikova_0001.png', '../../images/testsets/small_test/Anna_Kournikova_0012.png'): 0, ('../../images/testsets/small_test/Anna_Kournikova_0011.png', '../../images/testsets/small_test/Bill_Gates_0005.png'): 0, ('../../images/testsets/small_test/Ann_Veneman_0001.png', '../../images/testsets/small_test/Bill_Gates_0008.png'): 0.017043630232004146, ('../../images/testsets/small_test/Bill_Gates_0006.png', '../../images/testsets/small_test/Ann_Veneman_0010.png'): 0.020136847774563912, ('../../images/testsets/small_test/Anna_Kournikova_0005.png', '../../images/testsets/small_test/Ann_Veneman_0009.png'): 0.019687569791031881, ('../../images/testsets/small_test/Anna_Kournikova_0011.png', '../../images/testsets/small_test/Anna_Kournikova_0001.png'): 0.014383314436645415, ('../../images/testsets/small_test/Ann_Veneman_0003.png', '../../images/testsets/small_test/Bill_Gates_0006.png'): 0.026047582686172924, ('../../images/testsets/small_test/Anna_Kournikova_0001.png', '../../images/testsets/small_test/Bill_Gates_0006.png'): 0.024768390922545507, ('../../images/testsets/small_test/Ann_Veneman_0010.png', '../../images/testsets/small_test/Ann_Veneman_0003.png'): 0.012400974284990667, ('../../images/testsets/small_test/Bill_Gates_0013.png', '../../images/testsets/small_test/Ann_Veneman_0011.png'): 0.032875863979190956, ('../../images/testsets/small_test/Bill_Gates_0006.png', '../../images/testsets/small_test/Bill_Gates_0005.png'): 0.021241045041903411, ('../../images/testsets/small_test/Anna_Kournikova_0010.png', '../../images/testsets/small_test/Bill_Gates_0013.png'): 0.034885633924568601, ('../../images/testsets/small_test/Ann_Veneman_0011.png', '../../images/testsets/small_test/Anna_Kournikova_0012.png'): 0.016452591914212059, ('../../images/testsets/small_test/Ann_Veneman_0008.png', '../../images/testsets/small_test/Bill_Gates_0008.png'): 0.029137902949065087, ('../../images/testsets/small_test/Anna_Kournikova_0004.png', '../../images/testsets/small_test/Bill_Gates_0005.png'): 0.037703016637419033, ('../../images/testsets/small_test/Bill_Gates_0005.png', '../../images/testsets/small_test/Ann_Veneman_0009.png'): 0.024631915198319983, ('../../images/testsets/small_test/Bill_Gates_0002.png', '../../images/testsets/small_test/Ann_Veneman_0010.png'): 0.0080980300086416282, ('../../images/testsets/small_test/Bill_Gates_0005.png', '../../images/testsets/small_test/Ann_Veneman_0008.png'): 0.022684742044576874, ('../../images/testsets/small_test/Ann_Veneman_0008.png', '../../images/testsets/small_test/Anna_Kournikova_0005.png'): 0.017279393560041108, ('../../images/testsets/small_test/Bill_Gates_0004.png', '../../images/testsets/small_test/Ann_Veneman_0011.png'): 0, ('../../images/testsets/small_test/Anna_Kournikova_0012.png', '../../images/testsets/small_test/Bill_Gates_0007.png'): 0.013892055675784141, ('../../images/testsets/small_test/Ann_Veneman_0005.png', '../../images/testsets/small_test/Bill_Gates_0006.png'): 0.050541248006658809, ('../../images/testsets/small_test/Ann_Veneman_0003.png', '../../images/testsets/small_test/Anna_Kournikova_0003.png'): 0.013759691183614262, ('../../images/testsets/small_test/Bill_Gates_0006.png', '../../images/testsets/small_test/Bill_Gates_0004.png'): 0.00662580804838038, ('../../images/testsets/small_test/Bill_Gates_0005.png', '../../images/testsets/small_test/Anna_Kournikova_0010.png'): 0.026566023343000456, ('../../images/testsets/small_test/Ann_Veneman_0002.png', '../../images/testsets/small_test/Anna_Kournikova_0005.png'): 0.015054485144320409, ('../../images/testsets/small_test/Bill_Gates_0003.png', '../../images/testsets/small_test/Ann_Veneman_0002.png'): 0.039972546693607794, ('../../images/testsets/small_test/Ann_Veneman_0008.png', '../../images/testsets/small_test/Anna_Kournikova_0001.png'): 0.0069327360931950213, ('../../images/testsets/small_test/Anna_Kournikova_0004.png', '../../images/testsets/small_test/Bill_Gates_0003.png'): 0.042855827537421419, ('../../images/testsets/small_test/Bill_Gates_0013.png', '../../images/testsets/small_test/Bill_Gates_0016.png'): 0.031766065001827139, ('../../images/testsets/small_test/Anna_Kournikova_0006.png', '../../images/testsets/small_test/Ann_Veneman_0006.png'): 0.012082017005506495, ('../../images/testsets/small_test/Anna_Kournikova_0001.png', '../../images/testsets/small_test/Anna_Kournikova_0003.png'): 0.045761024206231439, ('../../images/testsets/small_test/Bill_Gates_0003.png', '../../images/testsets/small_test/Anna_Kournikova_0004.png'): 0.042855827537421419, ('../../images/testsets/small_test/Bill_Gates_0006.png', '../../images/testsets/small_test/Ann_Veneman_0002.png'): 0.017263801944826355, ('../../images/testsets/small_test/Anna_Kournikova_0003.png', '../../images/testsets/small_test/Bill_Gates_0004.png'): 0.024330346615996437, ('../../images/testsets/small_test/Anna_Kournikova_0006.png', '../../images/testsets/small_test/Bill_Gates_0008.png'): 0, ('../../images/testsets/small_test/Anna_Kournikova_0001.png', '../../images/testsets/small_test/Bill_Gates_0013.png'): 0.016896737167745889, ('../../images/testsets/small_test/Ann_Veneman_0005.png', '../../images/testsets/small_test/Bill_Gates_0002.png'): 0.024917788403478695, ('../../images/testsets/small_test/Bill_Gates_0004.png', '../../images/testsets/small_test/Anna_Kournikova_0008.png'): 0.0073861042182185727, ('../../images/testsets/small_test/Ann_Veneman_0008.png', '../../images/testsets/small_test/Anna_Kournikova_0012.png'): 0.015159478846326378, ('../../images/testsets/small_test/Ann_Veneman_0008.png', '../../images/testsets/small_test/Bill_Gates_0013.png'): 0.041662448917066032, ('../../images/testsets/small_test/Anna_Kournikova_0003.png', '../../images/testsets/small_test/Ann_Veneman_0002.png'): 0.017553679086383618, ('../../images/testsets/small_test/Anna_Kournikova_0010.png', '../../images/testsets/small_test/Ann_Veneman_0004.png'): 0.016391820831952203, ('../../images/testsets/small_test/Ann_Veneman_0001.png', '../../images/testsets/small_test/Bill_Gates_0015.png'): 0.01585098661411059, ('../../images/testsets/small_test/Bill_Gates_0005.png', '../../images/testsets/small_test/Ann_Veneman_0006.png'): 0.017071501715246261, ('../../images/testsets/small_test/Ann_Veneman_0005.png', '../../images/testsets/small_test/Bill_Gates_0008.png'): 0.019696597224768748, ('../../images/testsets/small_test/Bill_Gates_0004.png', '../../images/testsets/small_test/Bill_Gates_0008.png'): 0.0082375259399316697, ('../../images/testsets/small_test/Anna_Kournikova_0009.png', '../../images/testsets/small_test/Bill_Gates_0007.png'): 0.029750189852296438, ('../../images/testsets/small_test/Anna_Kournikova_0001.png', '../../images/testsets/small_test/Anna_Kournikova_0011.png'): 0.014383314436645415, ('../../images/testsets/small_test/Anna_Kournikova_0009.png', '../../images/testsets/small_test/Anna_Kournikova_0008.png'): 0.039747714009648827, ('../../images/testsets/small_test/Anna_Kournikova_0010.png', '../../images/testsets/small_test/Bill_Gates_0006.png'): 0.01676021934132044, ('../../images/testsets/small_test/Bill_Gates_0015.png', '../../images/testsets/small_test/Ann_Veneman_0011.png'): 0.025911704433997422, ('../../images/testsets/small_test/Anna_Kournikova_0003.png', '../../images/testsets/small_test/Bill_Gates_0003.png'): 0.027722632300927936, ('../../images/testsets/small_test/Anna_Kournikova_0003.png', '../../images/testsets/small_test/Ann_Veneman_0005.png'): 0.048387157447856578, ('../../images/testsets/small_test/Ann_Veneman_0008.png', '../../images/testsets/small_test/Anna_Kournikova_0010.png'): 0.024690294331247302, ('../../images/testsets/small_test/Anna_Kournikova_0006.png', '../../images/testsets/small_test/Anna_Kournikova_0011.png'): 0, ('../../images/testsets/small_test/Anna_Kournikova_0006.png', '../../images/testsets/small_test/Anna_Kournikova_0012.png'): 0.016501600782618302, ('../../images/testsets/small_test/Bill_Gates_0015.png', '../../images/testsets/small_test/Ann_Veneman_0002.png'): 0.024967436095556638, ('../../images/testsets/small_test/Bill_Gates_0006.png', '../../images/testsets/small_test/Bill_Gates_0015.png'): 0.032625994819715488, ('../../images/testsets/small_test/Bill_Gates_0013.png', '../../images/testsets/small_test/Ann_Veneman_0010.png'): 0.028687565577880027, ('../../images/testsets/small_test/Bill_Gates_0007.png', '../../images/testsets/small_test/Bill_Gates_0016.png'): 0.040478687799597714, ('../../images/testsets/small_test/Ann_Veneman_0003.png', '../../images/testsets/small_test/Bill_Gates_0005.png'): 0.025502081069469152, ('../../images/testsets/small_test/Anna_Kournikova_0004.png', '../../images/testsets/small_test/Ann_Veneman_0002.png'): 0.0099873862269632147, ('../../images/testsets/small_test/Ann_Veneman_0006.png', '../../images/testsets/small_test/Ann_Veneman_0002.png'): 0.039720707343929566, ('../../images/testsets/small_test/Anna_Kournikova_0004.png', '../../images/testsets/small_test/Bill_Gates_0008.png'): 0.020786155219844043, ('../../images/testsets/small_test/Anna_Kournikova_0009.png', '../../images/testsets/small_test/Ann_Veneman_0010.png'): 0.012924607764921018, ('../../images/testsets/small_test/Ann_Veneman_0008.png', '../../images/testsets/small_test/Ann_Veneman_0002.png'): 0.020842065334016908, ('../../images/testsets/small_test/Anna_Kournikova_0004.png', '../../images/testsets/small_test/Anna_Kournikova_0005.png'): 0.036877187282855835, ('../../images/testsets/small_test/Bill_Gates_0004.png', '../../images/testsets/small_test/Anna_Kournikova_0001.png'): 0.027009832226557368, ('../../images/testsets/small_test/Anna_Kournikova_0008.png', '../../images/testsets/small_test/Anna_Kournikova_0006.png'): 0.013630450662360183, ('../../images/testsets/small_test/Anna_Kournikova_0005.png', '../../images/testsets/small_test/Ann_Veneman_0006.png'): 0.029113117867514367, ('../../images/testsets/small_test/Ann_Veneman_0004.png', '../../images/testsets/small_test/Ann_Veneman_0002.png'): 0.013282548580250787, ('../../images/testsets/small_test/Anna_Kournikova_0012.png', '../../images/testsets/small_test/Anna_Kournikova_0005.png'): 0.00089004374082316852, ('../../images/testsets/small_test/Anna_Kournikova_0005.png', '../../images/testsets/small_test/Anna_Kournikova_0008.png'): 0.017996857170504029, ('../../images/testsets/small_test/Ann_Veneman_0010.png', '../../images/testsets/small_test/Anna_Kournikova_0009.png'): 0.012924607764921018, ('../../images/testsets/small_test/Anna_Kournikova_0004.png', '../../images/testsets/small_test/Ann_Veneman_0005.png'): 0.043170193399247811, ('../../images/testsets/small_test/Ann_Veneman_0009.png', '../../images/testsets/small_test/Ann_Veneman_0005.png'): 0.055924550721904234, ('../../images/testsets/small_test/Ann_Veneman_0006.png', '../../images/testsets/small_test/Anna_Kournikova_0001.png'): 0.016130099357725108, ('../../images/testsets/small_test/Bill_Gates_0013.png', '../../images/testsets/small_test/Anna_Kournikova_0001.png'): 0.016896737167745889, ('../../images/testsets/small_test/Ann_Veneman_0011.png', '../../images/testsets/small_test/Ann_Veneman_0003.png'): 0.019394175360169623, ('../../images/testsets/small_test/Ann_Veneman_0004.png', '../../images/testsets/small_test/Bill_Gates_0002.png'): 0.0017643804046661308, ('../../images/testsets/small_test/Ann_Veneman_0004.png', '../../images/testsets/small_test/Anna_Kournikova_0011.png'): 0.03584072146408792, ('../../images/testsets/small_test/Anna_Kournikova_0006.png', '../../images/testsets/small_test/Anna_Kournikova_0005.png'): 0.012575697119544852, ('../../images/testsets/small_test/Bill_Gates_0004.png', '../../images/testsets/small_test/Ann_Veneman_0002.png'): 0.0053382130816419767, ('../../images/testsets/small_test/Anna_Kournikova_0001.png', '../../images/testsets/small_test/Bill_Gates_0008.png'): 0.023238436181516588, ('../../images/testsets/small_test/Ann_Veneman_0006.png', '../../images/testsets/small_test/Bill_Gates_0008.png'): 0.026090657002588835, ('../../images/testsets/small_test/Bill_Gates_0003.png', '../../images/testsets/small_test/Anna_Kournikova_0011.png'): 0.025612281648862745, ('../../images/testsets/small_test/Anna_Kournikova_0006.png', '../../images/testsets/small_test/Ann_Veneman_0002.png'): 0.03438685198524901, ('../../images/testsets/small_test/Bill_Gates_0004.png', '../../images/testsets/small_test/Anna_Kournikova_0010.png'): 0, ('../../images/testsets/small_test/Anna_Kournikova_0001.png', '../../images/testsets/small_test/Ann_Veneman_0009.png'): 0.024958227206860563, ('../../images/testsets/small_test/Bill_Gates_0013.png', '../../images/testsets/small_test/Ann_Veneman_0002.png'): 0.024365543833285042, ('../../images/testsets/small_test/Ann_Veneman_0009.png', '../../images/testsets/small_test/Bill_Gates_0004.png'): 0.022499874273966162, ('../../images/testsets/small_test/Anna_Kournikova_0008.png', '../../images/testsets/small_test/Bill_Gates_0007.png'): 0.032165452978742709, ('../../images/testsets/small_test/Bill_Gates_0004.png', '../../images/testsets/small_test/Anna_Kournikova_0009.png'): 0.017935327930047842, ('../../images/testsets/small_test/Ann_Veneman_0008.png', '../../images/testsets/small_test/Bill_Gates_0006.png'): 0.021038859574802192, ('../../images/testsets/small_test/Anna_Kournikova_0011.png', '../../images/testsets/small_test/Anna_Kournikova_0012.png'): 0.012015259981774986, ('../../images/testsets/small_test/Anna_Kournikova_0009.png', '../../images/testsets/small_test/Ann_Veneman_0006.png'): 0.025919013037133835, ('../../images/testsets/small_test/Bill_Gates_0007.png', '../../images/testsets/small_test/Anna_Kournikova_0011.png'): 0.011523412640653315, ('../../images/testsets/small_test/Ann_Veneman_0009.png', '../../images/testsets/small_test/Ann_Veneman_0008.png'): 0.037204459994063632, ('../../images/testsets/small_test/Ann_Veneman_0009.png', '../../images/testsets/small_test/Bill_Gates_0013.png'): 0.028440816015431088, ('../../images/testsets/small_test/Anna_Kournikova_0009.png', '../../images/testsets/small_test/Anna_Kournikova_0005.png'): 0.025786620181568271, ('../../images/testsets/small_test/Ann_Veneman_0001.png', '../../images/testsets/small_test/Ann_Veneman_0003.png'): 0.035865345157886204, ('../../images/testsets/small_test/Anna_Kournikova_0004.png', '../../images/testsets/small_test/Anna_Kournikova_0006.png'): 0.025399363852594694, ('../../images/testsets/small_test/Bill_Gates_0004.png', '../../images/testsets/small_test/Bill_Gates_0003.png'): 0.013890584820971198, ('../../images/testsets/small_test/Anna_Kournikova_0008.png', '../../images/testsets/small_test/Anna_Kournikova_0004.png'): 0.022904045090269678, ('../../images/testsets/small_test/Anna_Kournikova_0006.png', '../../images/testsets/small_test/Anna_Kournikova_0004.png'): 0.025399363852594694, ('../../images/testsets/small_test/Bill_Gates_0003.png', '../../images/testsets/small_test/Ann_Veneman_0006.png'): 0.023866715113759322, ('../../images/testsets/small_test/Anna_Kournikova_0010.png', '../../images/testsets/small_test/Ann_Veneman_0011.png'): 0.036299651694169349, ('../../images/testsets/small_test/Ann_Veneman_0001.png', '../../images/testsets/small_test/Ann_Veneman_0005.png'): 0.054806169812753193, ('../../images/testsets/small_test/Anna_Kournikova_0004.png', '../../images/testsets/small_test/Anna_Kournikova_0003.png'): 0.034667321763721656, ('../../images/testsets/small_test/Ann_Veneman_0002.png', '../../images/testsets/small_test/Ann_Veneman_0010.png'): 0.015231638476134932, ('../../images/testsets/small_test/Anna_Kournikova_0008.png', '../../images/testsets/small_test/Bill_Gates_0016.png'): 0.032469762920736868, ('../../images/testsets/small_test/Ann_Veneman_0006.png', '../../images/testsets/small_test/Bill_Gates_0015.png'): 0.027746591729025227, ('../../images/testsets/small_test/Bill_Gates_0008.png', '../../images/testsets/small_test/Ann_Veneman_0005.png'): 0.019696597224768748, ('../../images/testsets/small_test/Anna_Kournikova_0006.png', '../../images/testsets/small_test/Anna_Kournikova_0010.png'): 0.023001445878348188, ('../../images/testsets/small_test/Ann_Veneman_0004.png', '../../images/testsets/small_test/Anna_Kournikova_0008.png'): 0.007612104502089637, ('../../images/testsets/small_test/Anna_Kournikova_0004.png', '../../images/testsets/small_test/Bill_Gates_0006.png'): 0.013496824356019923, ('../../images/testsets/small_test/Bill_Gates_0013.png', '../../images/testsets/small_test/Bill_Gates_0004.png'): 0.019284763000106359, ('../../images/testsets/small_test/Bill_Gates_0006.png', '../../images/testsets/small_test/Ann_Veneman_0003.png'): 0.026047582686172924, ('../../images/testsets/small_test/Bill_Gates_0013.png', '../../images/testsets/small_test/Ann_Veneman_0004.png'): 0.019769860027506986, ('../../images/testsets/small_test/Anna_Kournikova_0009.png', '../../images/testsets/small_test/Ann_Veneman_0008.png'): 0.025159494399183458, ('../../images/testsets/small_test/Anna_Kournikova_0006.png', '../../images/testsets/small_test/Ann_Veneman_0003.png'): 0.015543537402978749, ('../../images/testsets/small_test/Anna_Kournikova_0005.png', '../../images/testsets/small_test/Anna_Kournikova_0012.png'): 0.00089004374082316852, ('../../images/testsets/small_test/Ann_Veneman_0005.png', '../../images/testsets/small_test/Anna_Kournikova_0008.png'): 0.069681509324349578, ('../../images/testsets/small_test/Ann_Veneman_0009.png', '../../images/testsets/small_test/Anna_Kournikova_0005.png'): 0.019687569791031881, ('../../images/testsets/small_test/Anna_Kournikova_0006.png', '../../images/testsets/small_test/Anna_Kournikova_0001.png'): 0.01172677602883182, ('../../images/testsets/small_test/Anna_Kournikova_0004.png', '../../images/testsets/small_test/Ann_Veneman_0004.png'): 0.019291257259916865, ('../../images/testsets/small_test/Ann_Veneman_0011.png', '../../images/testsets/small_test/Anna_Kournikova_0008.png'): 0.018211333480949776, ('../../images/testsets/small_test/Ann_Veneman_0009.png', '../../images/testsets/small_test/Bill_Gates_0006.png'): 0.027735430516467215, ('../../images/testsets/small_test/Anna_Kournikova_0006.png', '../../images/testsets/small_test/Anna_Kournikova_0009.png'): 0.032112962007926772, ('../../images/testsets/small_test/Anna_Kournikova_0009.png', '../../images/testsets/small_test/Anna_Kournikova_0003.png'): 0.037667021788643749, ('../../images/testsets/small_test/Ann_Veneman_0001.png', '../../images/testsets/small_test/Ann_Veneman_0006.png'): 0.026854921238560044, ('../../images/testsets/small_test/Bill_Gates_0008.png', '../../images/testsets/small_test/Anna_Kournikova_0003.png'): 0.018003799283818317, ('../../images/testsets/small_test/Bill_Gates_0007.png', '../../images/testsets/small_test/Bill_Gates_0002.png'): 0.017668277991725406, ('../../images/testsets/small_test/Ann_Veneman_0003.png', '../../images/testsets/small_test/Anna_Kournikova_0001.png'): 0.018654206557837533, ('../../images/testsets/small_test/Anna_Kournikova_0012.png', '../../images/testsets/small_test/Bill_Gates_0003.png'): 0.015887326327658519, ('../../images/testsets/small_test/Bill_Gates_0003.png', '../../images/testsets/small_test/Anna_Kournikova_0001.png'): 0.027915299572568001, ('../../images/testsets/small_test/Ann_Veneman_0002.png', '../../images/testsets/small_test/Bill_Gates_0013.png'): 0.024365543833285042, ('../../images/testsets/small_test/Bill_Gates_0005.png', '../../images/testsets/small_test/Bill_Gates_0013.png'): 0.030739888679264041, ('../../images/testsets/small_test/Bill_Gates_0003.png', '../../images/testsets/small_test/Ann_Veneman_0003.png'): 0.024128168299680293, ('../../images/testsets/small_test/Anna_Kournikova_0011.png', '../../images/testsets/small_test/Ann_Veneman_0002.png'): 0.016766544871862014, ('../../images/testsets/small_test/Anna_Kournikova_0006.png', '../../images/testsets/small_test/Bill_Gates_0007.png'): 0.019495226043464018, ('../../images/testsets/small_test/Anna_Kournikova_0008.png', '../../images/testsets/small_test/Ann_Veneman_0005.png'): 0.069681509324349578, ('../../images/testsets/small_test/Bill_Gates_0016.png', '../../images/testsets/small_test/Bill_Gates_0003.png'): 0.051029928684979083, ('../../images/testsets/small_test/Ann_Veneman_0004.png', '../../images/testsets/small_test/Anna_Kournikova_0010.png'): 0.016391820831952203, ('../../images/testsets/small_test/Anna_Kournikova_0012.png', '../../images/testsets/small_test/Ann_Veneman_0001.png'): 0.0076097877255683578, ('../../images/testsets/small_test/Ann_Veneman_0010.png', '../../images/testsets/small_test/Ann_Veneman_0011.png'): 0.026094195126080959, ('../../images/testsets/small_test/Bill_Gates_0006.png', '../../images/testsets/small_test/Ann_Veneman_0009.png'): 0.027735430516467215, ('../../images/testsets/small_test/Bill_Gates_0003.png', '../../images/testsets/small_test/Anna_Kournikova_0010.png'): 0.034444537505219926, ('../../images/testsets/small_test/Bill_Gates_0008.png', '../../images/testsets/small_test/Ann_Veneman_0009.png'): 0.01664259714917412, ('../../images/testsets/small_test/Anna_Kournikova_0012.png', '../../images/testsets/small_test/Ann_Veneman_0006.png'): 0.017513032156901035, ('../../images/testsets/small_test/Anna_Kournikova_0009.png', '../../images/testsets/small_test/Anna_Kournikova_0001.png'): 0.058610574386607786, ('../../images/testsets/small_test/Ann_Veneman_0005.png', '../../images/testsets/small_test/Ann_Veneman_0004.png'): 0.023665256006142797, ('../../images/testsets/small_test/Bill_Gates_0004.png', '../../images/testsets/small_test/Anna_Kournikova_0012.png'): 0.0030607697522544103, ('../../images/testsets/small_test/Ann_Veneman_0011.png', '../../images/testsets/small_test/Bill_Gates_0002.png'): 0, ('../../images/testsets/small_test/Bill_Gates_0004.png', '../../images/testsets/small_test/Anna_Kournikova_0011.png'): 0, ('../../images/testsets/small_test/Ann_Veneman_0011.png', '../../images/testsets/small_test/Bill_Gates_0005.png'): 0.0057923155015164492, ('../../images/testsets/small_test/Anna_Kournikova_0012.png', '../../images/testsets/small_test/Bill_Gates_0005.png'): 0.012290534803304633, ('../../images/testsets/small_test/Ann_Veneman_0010.png', '../../images/testsets/small_test/Bill_Gates_0013.png'): 0.028687565577880027, ('../../images/testsets/small_test/Ann_Veneman_0002.png', '../../images/testsets/small_test/Bill_Gates_0004.png'): 0.0053382130816419767, ('../../images/testsets/small_test/Bill_Gates_0007.png', '../../images/testsets/small_test/Ann_Veneman_0002.png'): 0.018532036394990594, ('../../images/testsets/small_test/Anna_Kournikova_0006.png', '../../images/testsets/small_test/Ann_Veneman_0004.png'): 0.0073035976091533478, ('../../images/testsets/small_test/Anna_Kournikova_0011.png', '../../images/testsets/small_test/Bill_Gates_0008.png'): 0.015430406560113435, ('../../images/testsets/small_test/Bill_Gates_0007.png', '../../images/testsets/small_test/Anna_Kournikova_0010.png'): 0.0157561115670171, ('../../images/testsets/small_test/Bill_Gates_0004.png', '../../images/testsets/small_test/Anna_Kournikova_0006.png'): 0.020289477923411511, ('../../images/testsets/small_test/Anna_Kournikova_0010.png', '../../images/testsets/small_test/Ann_Veneman_0010.png'): 0.020259924451535169, ('../../images/testsets/small_test/Bill_Gates_0016.png', '../../images/testsets/small_test/Ann_Veneman_0006.png'): 0.01982101155458206, ('../../images/testsets/small_test/Bill_Gates_0005.png', '../../images/testsets/small_test/Ann_Veneman_0005.png'): 0.032360908278360065, ('../../images/testsets/small_test/Bill_Gates_0008.png', '../../images/testsets/small_test/Anna_Kournikova_0005.png'): 0.022134256724919289, ('../../images/testsets/small_test/Ann_Veneman_0005.png', '../../images/testsets/small_test/Anna_Kournikova_0003.png'): 0.048387157447856578, ('../../images/testsets/small_test/Ann_Veneman_0002.png', '../../images/testsets/small_test/Anna_Kournikova_0009.png'): 0.019111597715439427, ('../../images/testsets/small_test/Ann_Veneman_0003.png', '../../images/testsets/small_test/Anna_Kournikova_0005.png'): 0.029436412276563913, ('../../images/testsets/small_test/Bill_Gates_0007.png', '../../images/testsets/small_test/Ann_Veneman_0003.png'): 0.025174635167730285, ('../../images/testsets/small_test/Bill_Gates_0008.png', '../../images/testsets/small_test/Anna_Kournikova_0009.png'): 0.0087585097865479945, ('../../images/testsets/small_test/Anna_Kournikova_0004.png', '../../images/testsets/small_test/Anna_Kournikova_0001.png'): 0.036626159638236747, ('../../images/testsets/small_test/Ann_Veneman_0009.png', '../../images/testsets/small_test/Anna_Kournikova_0001.png'): 0.024958227206860563, ('../../images/testsets/small_test/Bill_Gates_0002.png', '../../images/testsets/small_test/Bill_Gates_0007.png'): 0.017668277991725406, ('../../images/testsets/small_test/Bill_Gates_0013.png', '../../images/testsets/small_test/Ann_Veneman_0005.png'): 0.038964547378620137, ('../../images/testsets/small_test/Ann_Veneman_0004.png', '../../images/testsets/small_test/Bill_Gates_0005.png'): 0.021518934054676357, ('../../images/testsets/small_test/Ann_Veneman_0009.png', '../../images/testsets/small_test/Anna_Kournikova_0008.png'): 0.033244516181674975, ('../../images/testsets/small_test/Ann_Veneman_0006.png', '../../images/testsets/small_test/Ann_Veneman_0003.png'): 0.02278487966784748, ('../../images/testsets/small_test/Anna_Kournikova_0009.png', '../../images/testsets/small_test/Anna_Kournikova_0004.png'): 0.058582196149718595, ('../../images/testsets/small_test/Ann_Veneman_0004.png', '../../images/testsets/small_test/Anna_Kournikova_0003.png'): 0, ('../../images/testsets/small_test/Anna_Kournikova_0001.png', '../../images/testsets/small_test/Ann_Veneman_0002.png'): 0.025087895021480022, ('../../images/testsets/small_test/Ann_Veneman_0008.png', '../../images/testsets/small_test/Ann_Veneman_0011.png'): 0.043187379548134716, ('../../images/testsets/small_test/Ann_Veneman_0004.png', '../../images/testsets/small_test/Bill_Gates_0003.png'): 0.026219434904547024, ('../../images/testsets/small_test/Bill_Gates_0013.png', '../../images/testsets/small_test/Ann_Veneman_0003.png'): 0.023760445116522935, ('../../images/testsets/small_test/Ann_Veneman_0002.png', '../../images/testsets/small_test/Ann_Veneman_0005.png'): 0.046199718045069421, ('../../images/testsets/small_test/Bill_Gates_0003.png', '../../images/testsets/small_test/Anna_Kournikova_0005.png'): 0.017955321411486081, ('../../images/testsets/small_test/Bill_Gates_0006.png', '../../images/testsets/small_test/Anna_Kournikova_0010.png'): 0.01676021934132044, ('../../images/testsets/small_test/Anna_Kournikova_0006.png', '../../images/testsets/small_test/Bill_Gates_0002.png'): 0.011657326720490795, ('../../images/testsets/small_test/Ann_Veneman_0008.png', '../../images/testsets/small_test/Anna_Kournikova_0003.png'): 0, ('../../images/testsets/small_test/Anna_Kournikova_0011.png', '../../images/testsets/small_test/Bill_Gates_0006.png'): 0.030448670189932105, ('../../images/testsets/small_test/Bill_Gates_0015.png', '../../images/testsets/small_test/Ann_Veneman_0001.png'): 0.01585098661411059, ('../../images/testsets/small_test/Ann_Veneman_0002.png', '../../images/testsets/small_test/Bill_Gates_0015.png'): 0.024967436095556638, ('../../images/testsets/small_test/Anna_Kournikova_0001.png', '../../images/testsets/small_test/Bill_Gates_0002.png'): 0.012134097117431495, ('../../images/testsets/small_test/Anna_Kournikova_0011.png', '../../images/testsets/small_test/Bill_Gates_0015.png'): 0.02441001466079919, ('../../images/testsets/small_test/Ann_Veneman_0009.png', '../../images/testsets/small_test/Ann_Veneman_0010.png'): 0.025959919903434471, ('../../images/testsets/small_test/Ann_Veneman_0006.png', '../../images/testsets/small_test/Ann_Veneman_0005.png'): 0.041817548313711865, ('../../images/testsets/small_test/Bill_Gates_0003.png', '../../images/testsets/small_test/Bill_Gates_0016.png'): 0.051029928684979083, ('../../images/testsets/small_test/Ann_Veneman_0004.png', '../../images/testsets/small_test/Bill_Gates_0004.png'): 0.018579201972390991, ('../../images/testsets/small_test/Bill_Gates_0003.png', '../../images/testsets/small_test/Ann_Veneman_0005.png'): 0.015281111298966662, ('../../images/testsets/small_test/Bill_Gates_0015.png', '../../images/testsets/small_test/Bill_Gates_0004.png'): 0.017603202012824642, ('../../images/testsets/small_test/Bill_Gates_0015.png', '../../images/testsets/small_test/Ann_Veneman_0008.png'): 0.034581220135758463, ('../../images/testsets/small_test/Bill_Gates_0008.png', '../../images/testsets/small_test/Bill_Gates_0015.png'): 0.007098706056372351, ('../../images/testsets/small_test/Ann_Veneman_0010.png', '../../images/testsets/small_test/Bill_Gates_0003.png'): 0.016894653535104203, ('../../images/testsets/small_test/Anna_Kournikova_0008.png', '../../images/testsets/small_test/Ann_Veneman_0003.png'): 0.025315582224138957, ('../../images/testsets/small_test/Bill_Gates_0008.png', '../../images/testsets/small_test/Ann_Veneman_0002.png'): 0.019779082286593506, ('../../images/testsets/small_test/Bill_Gates_0002.png', '../../images/testsets/small_test/Bill_Gates_0006.png'): 0.0045317630385895164, ('../../images/testsets/small_test/Ann_Veneman_0005.png', '../../images/testsets/small_test/Ann_Veneman_0008.png'): 0.029182962709298054, ('../../images/testsets/small_test/Ann_Veneman_0005.png', '../../images/testsets/small_test/Anna_Kournikova_0004.png'): 0.043170193399247811, ('../../images/testsets/small_test/Ann_Veneman_0011.png', '../../images/testsets/small_test/Ann_Veneman_0008.png'): 0.043187379548134716, ('../../images/testsets/small_test/Ann_Veneman_0010.png', '../../images/testsets/small_test/Bill_Gates_0016.png'): 0.025689093024571792, ('../../images/testsets/small_test/Bill_Gates_0002.png', '../../images/testsets/small_test/Anna_Kournikova_0012.png'): 0.010857420468020244, ('../../images/testsets/small_test/Anna_Kournikova_0009.png', '../../images/testsets/small_test/Ann_Veneman_0005.png'): 0.047308462125606777, ('../../images/testsets/small_test/Bill_Gates_0003.png', '../../images/testsets/small_test/Anna_Kournikova_0012.png'): 0.015887326327658519, ('../../images/testsets/small_test/Ann_Veneman_0001.png', '../../images/testsets/small_test/Anna_Kournikova_0001.png'): 0.0098017647933226482, ('../../images/testsets/small_test/Anna_Kournikova_0012.png', '../../images/testsets/small_test/Anna_Kournikova_0008.png'): 0.023617582235741598, ('../../images/testsets/small_test/Bill_Gates_0008.png', '../../images/testsets/small_test/Bill_Gates_0016.png'): 0.04686267861582194, ('../../images/testsets/small_test/Ann_Veneman_0003.png', '../../images/testsets/small_test/Ann_Veneman_0008.png'): 0.031072879807593948, ('../../images/testsets/small_test/Bill_Gates_0004.png', '../../images/testsets/small_test/Anna_Kournikova_0003.png'): 0.024330346615996437, ('../../images/testsets/small_test/Anna_Kournikova_0005.png', '../../images/testsets/small_test/Bill_Gates_0003.png'): 0.017955321411486081, ('../../images/testsets/small_test/Ann_Veneman_0001.png', '../../images/testsets/small_test/Bill_Gates_0006.png'): 0.0049786274613057482, ('../../images/testsets/small_test/Bill_Gates_0003.png', '../../images/testsets/small_test/Bill_Gates_0007.png'): 0.03840133168948915, ('../../images/testsets/small_test/Bill_Gates_0006.png', '../../images/testsets/small_test/Ann_Veneman_0006.png'): 0.012298544717960019, ('../../images/testsets/small_test/Ann_Veneman_0008.png', '../../images/testsets/small_test/Anna_Kournikova_0008.png'): 0, ('../../images/testsets/small_test/Anna_Kournikova_0005.png', '../../images/testsets/small_test/Ann_Veneman_0001.png'): 0.016324867975250203, ('../../images/testsets/small_test/Ann_Veneman_0003.png', '../../images/testsets/small_test/Ann_Veneman_0006.png'): 0.02278487966784748, ('../../images/testsets/small_test/Anna_Kournikova_0008.png', '../../images/testsets/small_test/Anna_Kournikova_0011.png'): 0.0030114797060432326, ('../../images/testsets/small_test/Anna_Kournikova_0011.png', '../../images/testsets/small_test/Ann_Veneman_0010.png'): 0.031122475563231382, ('../../images/testsets/small_test/Bill_Gates_0006.png', '../../images/testsets/small_test/Ann_Veneman_0005.png'): 0.050541248006658809, ('../../images/testsets/small_test/Ann_Veneman_0006.png', '../../images/testsets/small_test/Ann_Veneman_0011.png'): 0.035663403248066633, ('../../images/testsets/small_test/Anna_Kournikova_0011.png', '../../images/testsets/small_test/Ann_Veneman_0011.png'): 0.026952313722178618, ('../../images/testsets/small_test/Bill_Gates_0015.png', '../../images/testsets/small_test/Anna_Kournikova_0008.png'): 0.037303546439009072, ('../../images/testsets/small_test/Anna_Kournikova_0012.png', '../../images/testsets/small_test/Anna_Kournikova_0004.png'): 0.010843556032811558, ('../../images/testsets/small_test/Ann_Veneman_0003.png', '../../images/testsets/small_test/Bill_Gates_0016.png'): 0.015614462882987599, ('../../images/testsets/small_test/Anna_Kournikova_0009.png', '../../images/testsets/small_test/Anna_Kournikova_0012.png'): 0.031957969093715524, ('../../images/testsets/small_test/Ann_Veneman_0004.png', '../../images/testsets/small_test/Anna_Kournikova_0004.png'): 0.019291257259916865, ('../../images/testsets/small_test/Anna_Kournikova_0005.png', '../../images/testsets/small_test/Bill_Gates_0005.png'): 0.022091880380431264, ('../../images/testsets/small_test/Ann_Veneman_0009.png', '../../images/testsets/small_test/Bill_Gates_0005.png'): 0.024631915198319983, ('../../images/testsets/small_test/Anna_Kournikova_0003.png', '../../images/testsets/small_test/Bill_Gates_0013.png'): 0, ('../../images/testsets/small_test/Anna_Kournikova_0003.png', '../../images/testsets/small_test/Ann_Veneman_0006.png'): 0.005308914368419051, ('../../images/testsets/small_test/Bill_Gates_0002.png', '../../images/testsets/small_test/Bill_Gates_0013.png'): 0.029464931504814242, ('../../images/testsets/small_test/Ann_Veneman_0002.png', '../../images/testsets/small_test/Ann_Veneman_0003.png'): 0.030267227150631289, ('../../images/testsets/small_test/Anna_Kournikova_0011.png', '../../images/testsets/small_test/Ann_Veneman_0004.png'): 0.03584072146408792, ('../../images/testsets/small_test/Anna_Kournikova_0003.png', '../../images/testsets/small_test/Bill_Gates_0016.png'): 0.013896678739347832, ('../../images/testsets/small_test/Bill_Gates_0007.png', '../../images/testsets/small_test/Bill_Gates_0003.png'): 0.03840133168948915, ('../../images/testsets/small_test/Bill_Gates_0007.png', '../../images/testsets/small_test/Anna_Kournikova_0009.png'): 0.029750189852296438, ('../../images/testsets/small_test/Anna_Kournikova_0004.png', '../../images/testsets/small_test/Bill_Gates_0013.png'): 0.012355545455464578, ('../../images/testsets/small_test/Ann_Veneman_0010.png', '../../images/testsets/small_test/Bill_Gates_0007.png'): 0.024492106017611252, ('../../images/testsets/small_test/Anna_Kournikova_0012.png', '../../images/testsets/small_test/Ann_Veneman_0002.png'): 0.0046616873373600343, ('../../images/testsets/small_test/Anna_Kournikova_0005.png', '../../images/testsets/small_test/Bill_Gates_0004.png'): 0.025078173405074906, ('../../images/testsets/small_test/Ann_Veneman_0006.png', '../../images/testsets/small_test/Bill_Gates_0013.png'): 0.025787334998019149, ('../../images/testsets/small_test/Ann_Veneman_0008.png', '../../images/testsets/small_test/Anna_Kournikova_0006.png'): 0.023447974870098153, ('../../images/testsets/small_test/Bill_Gates_0007.png', '../../images/testsets/small_test/Anna_Kournikova_0004.png'): 0.032032166173246147, ('../../images/testsets/small_test/Anna_Kournikova_0001.png', '../../images/testsets/small_test/Anna_Kournikova_0005.png'): 0.033529847354983704, ('../../images/testsets/small_test/Bill_Gates_0013.png', '../../images/testsets/small_test/Anna_Kournikova_0009.png'): 0.017067969532481075, ('../../images/testsets/small_test/Anna_Kournikova_0011.png', '../../images/testsets/small_test/Ann_Veneman_0003.png'): 0, ('../../images/testsets/small_test/Ann_Veneman_0009.png', '../../images/testsets/small_test/Ann_Veneman_0004.png'): 0.014482190626612042, ('../../images/testsets/small_test/Bill_Gates_0007.png', '../../images/testsets/small_test/Bill_Gates_0015.png'): 0.031438049267287035, ('../../images/testsets/small_test/Ann_Veneman_0008.png', '../../images/testsets/small_test/Ann_Veneman_0010.png'): 0.0056282041851009636, ('../../images/testsets/small_test/Ann_Veneman_0003.png', '../../images/testsets/small_test/Anna_Kournikova_0004.png'): 0.010652256677795008, ('../../images/testsets/small_test/Anna_Kournikova_0009.png', '../../images/testsets/small_test/Bill_Gates_0005.png'): 0, ('../../images/testsets/small_test/Ann_Veneman_0004.png', '../../images/testsets/small_test/Anna_Kournikova_0006.png'): 0.0073035976091533478, ('../../images/testsets/small_test/Anna_Kournikova_0011.png', '../../images/testsets/small_test/Anna_Kournikova_0009.png'): 0.019632451189176302, ('../../images/testsets/small_test/Anna_Kournikova_0001.png', '../../images/testsets/small_test/Ann_Veneman_0010.png'): 0.022944881964344604, ('../../images/testsets/small_test/Bill_Gates_0004.png', '../../images/testsets/small_test/Bill_Gates_0016.png'): 0.026402250804850414, ('../../images/testsets/small_test/Bill_Gates_0004.png', '../../images/testsets/small_test/Ann_Veneman_0001.png'): 0.019713646185670879, ('../../images/testsets/small_test/Bill_Gates_0005.png', '../../images/testsets/small_test/Anna_Kournikova_0001.png'): 0.029280556729122002, ('../../images/testsets/small_test/Ann_Veneman_0003.png', '../../images/testsets/small_test/Ann_Veneman_0001.png'): 0.035865345157886204, ('../../images/testsets/small_test/Bill_Gates_0016.png', '../../images/testsets/small_test/Anna_Kournikova_0009.png'): 0.0073785062278971421, ('../../images/testsets/small_test/Anna_Kournikova_0001.png', '../../images/testsets/small_test/Bill_Gates_0005.png'): 0.029280556729122002, ('../../images/testsets/small_test/Bill_Gates_0007.png', '../../images/testsets/small_test/Anna_Kournikova_0001.png'): 0.010958672558080716, ('../../images/testsets/small_test/Anna_Kournikova_0008.png', '../../images/testsets/small_test/Bill_Gates_0013.png'): 0.022029900296961412, ('../../images/testsets/small_test/Anna_Kournikova_0008.png', '../../images/testsets/small_test/Ann_Veneman_0004.png'): 0.007612104502089637, ('../../images/testsets/small_test/Bill_Gates_0003.png', '../../images/testsets/small_test/Bill_Gates_0002.png'): 0.014078114922487915, ('../../images/testsets/small_test/Ann_Veneman_0005.png', '../../images/testsets/small_test/Ann_Veneman_0001.png'): 0.054806169812753193, ('../../images/testsets/small_test/Anna_Kournikova_0009.png', '../../images/testsets/small_test/Bill_Gates_0004.png'): 0.017935327930047842, ('../../images/testsets/small_test/Anna_Kournikova_0010.png', '../../images/testsets/small_test/Ann_Veneman_0006.png'): 0.00024024543693147615, ('../../images/testsets/small_test/Anna_Kournikova_0004.png', '../../images/testsets/small_test/Anna_Kournikova_0008.png'): 0.022904045090269678, ('../../images/testsets/small_test/Anna_Kournikova_0001.png', '../../images/testsets/small_test/Ann_Veneman_0006.png'): 0.016130099357725108, ('../../images/testsets/small_test/Bill_Gates_0015.png', '../../images/testsets/small_test/Ann_Veneman_0009.png'): 0.036865357306586292, ('../../images/testsets/small_test/Ann_Veneman_0008.png', '../../images/testsets/small_test/Bill_Gates_0007.png'): 0.02505099918909591, ('../../images/testsets/small_test/Bill_Gates_0007.png', '../../images/testsets/small_test/Anna_Kournikova_0006.png'): 0.019495226043464018, ('../../images/testsets/small_test/Anna_Kournikova_0006.png', '../../images/testsets/small_test/Bill_Gates_0005.png'): 0.0046918923315279462, ('../../images/testsets/small_test/Ann_Veneman_0006.png', '../../images/testsets/small_test/Anna_Kournikova_0009.png'): 0.025919013037133835, ('../../images/testsets/small_test/Bill_Gates_0002.png', '../../images/testsets/small_test/Anna_Kournikova_0001.png'): 0.012134097117431495, ('../../images/testsets/small_test/Bill_Gates_0003.png', '../../images/testsets/small_test/Anna_Kournikova_0003.png'): 0.027722632300927936, ('../../images/testsets/small_test/Anna_Kournikova_0001.png', '../../images/testsets/small_test/Bill_Gates_0004.png'): 0.027009832226557368, ('../../images/testsets/small_test/Ann_Veneman_0005.png', '../../images/testsets/small_test/Bill_Gates_0005.png'): 0.032360908278360065}\n",
        "['Anna Kournikova' 'Anna Kournikova' 'Anna Kournikova' 'Anna Kournikova'\n",
        " 'Anna Kournikova' 'Anna Kournikova' 'Anna Kournikova' 'Anna Kournikova'\n",
        " 'Anna Kournikova' 'Anna Kournikova']\n",
        "[ 0.          0.37006403  0.38192569  0.18047395  0.35023416  0.48118716\n",
        "  0.01277303  0.52922486  0.44052313  0.25827307]\n",
        "[ 0.25767699  0.          0.38788771  0.3598971   0.21604706  0.32296664\n",
        "  0.2825365   0.07321938  0.31764893  0.36422281  0.49467662  0.24301907\n",
        "  0.          0.5707749   0.41780263  0.24594907  0.31704078  0.23427833\n",
        "  0.24797674  0.42244223]\n",
        "['Bill Gates' 'Bill Gates' 'Bill Gates' 'Bill Gates' 'Bill Gates'\n",
        " 'Bill Gates' 'Bill Gates' 'Bill Gates' 'Bill Gates' 'Bill Gates']\n",
        "[ 0.          0.20203516  0.19934391  0.17275208  0.73233099  0.31183325\n",
        "  0.55109787  0.54804821  0.8557187   0.38287284]\n",
        "[ 0.25767699  0.29769886  0.21929937  0.5736464   0.39029554  0.39784776\n",
        "  0.43725392  0.24245533  0.37627536  0.49431388  0.27494677  0.40061273\n",
        "  0.34251145  0.22799917  0.61502439  0.3675621   0.40456679  0.19685535\n",
        "  0.56214292  0.34626357]\n",
        "['Anna Kournikova' 'Anna Kournikova' 'Anna Kournikova' 'Anna Kournikova'\n",
        " 'Anna Kournikova' 'Anna Kournikova' 'Anna Kournikova' 'Anna Kournikova'\n",
        " 'Anna Kournikova' 'Anna Kournikova']\n",
        "[ 0.37006403  0.          0.54055979  0.46085342  0.64772783  0.84112091\n",
        "  0.45862912  0.84071365  0.28174549  0.57041982]\n",
        "[ 0.29769886  0.67892419  0.2661785   0.25739006  0.27427072  0.25349931\n",
        "  0.61541219  0.10588901  0.12569346  0.42694526  0.24494259  0.18548117\n",
        "  0.38227517  0.06453114  0.371964    0.3016072   0.          0.38710365\n",
        "  0.36106414  0.        ]\n",
        "['Ann Veneman' 'Ann Veneman' 'Ann Veneman' 'Ann Veneman' 'Ann Veneman'\n",
        " 'Ann Veneman' 'Ann Veneman' 'Ann Veneman' 'Ann Veneman' 'Ann Veneman']\n",
        "[ 0.          0.66301259  0.80257376  0.79647615  0.33962031  0.63291147\n",
        "  0.60012403  0.78652386  0.41880497  0.81376759]\n",
        "[ 0.          0.21929937  0.67892419  0.35759542  0.63141424  0.72531793\n",
        "  0.29194002  0.28266605  0.73423065  0.69440455  0.55918059  0.55519616\n",
        "  0.59949378  0.38176657  0.67421829  0.56018198  0.61953585  0.          1.\n",
        "  0.4644117 ]\n",
        "['Bill Gates' 'Bill Gates' 'Bill Gates' 'Bill Gates' 'Bill Gates'\n",
        " 'Bill Gates' 'Bill Gates' 'Bill Gates' 'Bill Gates' 'Bill Gates']\n",
        "[ 0.20203516  0.          0.2988487   0.06503537  0.24888068  0.449318\n",
        "  0.25355762  0.42285151  0.22838741  0.27479733]\n",
        "[ 0.38788771  0.2661785   0.35759542  0.20453069  0.34051251  0.33331874\n",
        "  0.16729441  0.11621491  0.02532064  0.          0.          0.17413654\n",
        "  0.16091004  0.15581494  0.16454132  0.04959202  0.13708073  0.21843622\n",
        "  0.          0.        ]\n",
        "['Bill Gates' 'Bill Gates' 'Bill Gates' 'Bill Gates' 'Bill Gates'\n",
        " 'Bill Gates' 'Bill Gates' 'Bill Gates' 'Bill Gates' 'Bill Gates']\n",
        "[ 0.19934391  0.2988487   0.          0.09508703  0.37889895  0.11821681\n",
        "  0.14168606  0.27675582  0.25262372  0.15715486]\n",
        "[ 0.3598971   0.25739006  0.63141424  0.07660875  0.32289591  0.34916503\n",
        "  0.29117449  0.05638912  0.2666303   0.          0.          0.38761836\n",
        "  0.0872296   0.04392514  0.43563564  0.          0.10599805  0.28291072\n",
        "  0.18771654  0.29281324]\n",
        "['Ann Veneman' 'Ann Veneman' 'Ann Veneman' 'Ann Veneman' 'Ann Veneman'\n",
        " 'Ann Veneman' 'Ann Veneman' 'Ann Veneman' 'Ann Veneman' 'Ann Veneman']\n",
        "[ 0.66301259  0.          0.38114815  0.21858939  0.19061798  0.30689563\n",
        "  0.57003225  0.36333161  0.29910468  0.43436526]\n",
        "[ 0.21604706  0.5736464   0.27427072  0.20453069  0.07660875  0.24775299\n",
        "  0.41266717  0.2838498   0.26595343  0.25191301  0.34967015  0.49348604\n",
        "  0.3474531   0.36003662  0.06689992  0.35830791  0.14332907  0.24061684\n",
        "  0.14619945  0.        ]\n",
        "['Bill Gates' 'Bill Gates' 'Bill Gates' 'Bill Gates' 'Bill Gates'\n",
        " 'Bill Gates' 'Bill Gates' 'Bill Gates' 'Bill Gates' 'Bill Gates']\n",
        "[ 0.17275208  0.06503537  0.09508703  0.          0.37987342  0.7332507\n",
        "  0.27359585  0.21822879  0.46821596  0.30483044]\n",
        "[ 0.32296664  0.25349931  0.72531793  0.24775299  0.39803143  0.09055824\n",
        "  0.26325126  0.28898409  0.23493     0.24052607  0.14534469  0.35545141\n",
        "  0.17649653  0.34773351  0.19369305  0.43696915  0.          0.07144833\n",
        "  0.30192887  0.37380911]\n",
        "['Ann Veneman' 'Ann Veneman' 'Ann Veneman' 'Ann Veneman' 'Ann Veneman'\n",
        " 'Ann Veneman' 'Ann Veneman' 'Ann Veneman' 'Ann Veneman' 'Ann Veneman']\n",
        "[ 0.80257376  0.38114815  0.          0.37255106  0.20783405  0.32671617\n",
        "  0.66403493  0.35961277  0.53392156  0.55210564]\n",
        "[ 0.2825365   0.39029554  0.61541219  0.34051251  0.32289591  0.39803143\n",
        "  0.51471072  0.23883807  0.29073281  0.30788673  0.40815442  0.67992685\n",
        "  0.32107307  0.35817575  0.35913924  0.52905509  0.30359727  0.39183332\n",
        "  0.47709237  0.35349285]\n",
        "['Bill Gates' 'Bill Gates' 'Bill Gates' 'Bill Gates' 'Bill Gates'\n",
        " 'Bill Gates' 'Bill Gates' 'Bill Gates' 'Bill Gates' 'Bill Gates']\n",
        "[ 0.73233099  0.24888068  0.37889895  0.37987342  0.          0.67252674\n",
        "  0.58091003  0.4558751   0.91038073  0.35254017]\n",
        "[ 0.07321938  0.10588901  0.29194002  0.41266717  0.51471072  0.19943137\n",
        "  0.5276639   0.36866442  0.32186531  0.28561816  0.5103547   0.46140555\n",
        "  0.28445152  0.25819444  0.27612976  0.27675934  0.46597388  0.39135217\n",
        "  0.34270302  0.2240833 ]\n",
        "['Bill Gates' 'Bill Gates' 'Bill Gates' 'Bill Gates' 'Bill Gates'\n",
        " 'Bill Gates' 'Bill Gates' 'Bill Gates' 'Bill Gates' 'Bill Gates']\n",
        "[ 0.31183325  0.449318    0.11821681  0.7332507   0.67252674  0.\n",
        "  0.14645856  0.355175    0.1018736   0.48388093]\n",
        "[ 0.31764893  0.12569346  0.28266605  0.2838498   0.23883807  0.25837269\n",
        "  0.          0.27081846  0.28010791  0.69299498  0.26212642  0.33349502\n",
        "  0.37442727  0.32736685  0.29830231  0.22144191  0.64887867  0.2445933\n",
        "  0.41815832  0.16105718]\n",
        "['Bill Gates' 'Bill Gates' 'Bill Gates' 'Bill Gates' 'Bill Gates'\n",
        " 'Bill Gates' 'Bill Gates' 'Bill Gates' 'Bill Gates' 'Bill Gates']\n",
        "[ 0.55109787  0.25355762  0.14168606  0.27359585  0.58091003  0.14645856\n",
        "  0.          0.38303606  0.45116774  0.58516025]\n",
        "[ 0.36422281  0.42694526  0.73423065  0.26595343  0.29073281  0.21483942\n",
        "  0.27977617  0.35148645  0.36869785  0.22611611  0.25605085  0.15726801\n",
        "  0.39857771  0.19936502  0.45969392  0.1653726   0.46160672  0.19379652\n",
        "  0.35950713  0.36128143]\n",
        "['Anna Kournikova' 'Anna Kournikova' 'Anna Kournikova' 'Anna Kournikova'\n",
        " 'Anna Kournikova' 'Anna Kournikova' 'Anna Kournikova' 'Anna Kournikova'\n",
        " 'Anna Kournikova' 'Anna Kournikova']\n",
        "[ 0.38192569  0.54055979  0.          0.61800604  0.70036893  0.65671689\n",
        "  0.14680069  0.49751106  0.          0.46892467]\n",
        "[ 0.39784776  0.69440455  0.33331874  0.34916503  0.25191301  0.09055824\n",
        "  0.30788673  0.19943137  0.25837269  0.21483942  0.          0.24292414\n",
        "  0.          0.33020376  0.07618828  0.19614612  0.          0.          0.\n",
        "  0.19746546]\n",
        "['Bill Gates' 'Bill Gates' 'Bill Gates' 'Bill Gates' 'Bill Gates'\n",
        " 'Bill Gates' 'Bill Gates' 'Bill Gates' 'Bill Gates' 'Bill Gates']\n",
        "[ 0.54804821  0.42285151  0.27675582  0.21822879  0.4558751   0.355175\n",
        "  0.38303606  0.          0.25931413  0.44114843]\n",
        "[ 0.49467662  0.24494259  0.55918059  0.34967015  0.40815442  0.\n",
        "  0.27484732  0.41169553  0.28371745  0.50064406  0.47180184  0.24248524\n",
        "  0.37007429  0.47982681  0.17731455  0.27337428  0.31615131  0.44492084\n",
        "  0.5978982   0.34098637]\n",
        "['Anna Kournikova' 'Anna Kournikova' 'Anna Kournikova' 'Anna Kournikova'\n",
        " 'Anna Kournikova' 'Anna Kournikova' 'Anna Kournikova' 'Anna Kournikova'\n",
        " 'Anna Kournikova' 'Anna Kournikova']\n",
        "[ 0.18047395  0.46085342  0.61800604  0.          0.33009397  0.16829107\n",
        "  0.23681463  0.36450651  0.          0.19561073]\n",
        "[ 0.43725392  0.55519616  0.16729441  0.29117449  0.49348604  0.26325126\n",
        "  0.67992685  0.5276639   0.          0.27977617  0.27484732  0.15631638\n",
        "  0.104814    0.38804867  0.17338914  0.11442045  0.06733339  0.4740966\n",
        "  0.33650211  0.22306545]\n",
        "['Ann Veneman' 'Ann Veneman' 'Ann Veneman' 'Ann Veneman' 'Ann Veneman'\n",
        " 'Ann Veneman' 'Ann Veneman' 'Ann Veneman' 'Ann Veneman' 'Ann Veneman']\n",
        "[ 0.79647615  0.21858939  0.37255106  0.          0.28155691  0.37447804\n",
        "  0.31944426  0.37614601  0.08077041  0.1779665 ]\n",
        "[ 0.24301907  0.24245533  0.18548117  0.11621491  0.05638912  0.28898409\n",
        "  0.36866442  0.27081846  0.35148645  0.24292414  0.41169553  0.15631638\n",
        "  0.29075037  0.32928222  0.04574951  0.20472199  0.30412717  0.44663894\n",
        "  0.38357199  0.23654088]\n",
        "['Ann Veneman' 'Ann Veneman' 'Ann Veneman' 'Ann Veneman' 'Ann Veneman'\n",
        " 'Ann Veneman' 'Ann Veneman' 'Ann Veneman' 'Ann Veneman' 'Ann Veneman']\n",
        "[ 0.33962031  0.19061798  0.20783405  0.28155691  0.          0.24329891\n",
        "  0.22438611  0.32141413  0.40566697  0.2325126 ]\n",
        "[ 0.          0.37627536  0.38227517  0.02532064  0.2666303   0.23493\n",
        "  0.32186531  0.28010791  0.36869785  0.          0.28371745  0.104814\n",
        "  0.23523918  0.12892062  0.14333901  0.21828855  0.27684902  0.51435053\n",
        "  0.10924138  0.30881843]\n",
        "['Anna Kournikova' 'Anna Kournikova' 'Anna Kournikova' 'Anna Kournikova'\n",
        " 'Anna Kournikova' 'Anna Kournikova' 'Anna Kournikova' 'Anna Kournikova'\n",
        " 'Anna Kournikova' 'Anna Kournikova']\n",
        "[ 0.35023416  0.64772783  0.70036893  0.33009397  0.          0.44400015\n",
        "  0.54547779  0.27200519  0.09664007  0.63785797]\n",
        "[ 0.49431388  0.59949378  0.          0.          0.3474531   0.24052607\n",
        "  0.32107307  0.28561816  0.69299498  0.22611611  0.50064406  0.29075037\n",
        "  0.23523918  0.52093665  0.00344776  0.13442366  0.38124925  0.\n",
        "  0.35433065  0.45915721]\n",
        "['Ann Veneman' 'Ann Veneman' 'Ann Veneman' 'Ann Veneman' 'Ann Veneman'\n",
        " 'Ann Veneman' 'Ann Veneman' 'Ann Veneman' 'Ann Veneman' 'Ann Veneman']\n",
        "[ 0.63291147  0.30689563  0.32671617  0.37447804  0.24329891  0.\n",
        "  0.51180584  0.27977513  0.61978249  0.27832599]\n",
        "[ 0.5707749   0.27494677  0.06453114  0.          0.          0.14534469\n",
        "  0.5103547   0.26212642  0.25605085  0.33020376  0.47180184  0.38804867\n",
        "  0.52093665  0.84032957  0.2361113   0.37185912  0.          0.38679291\n",
        "  0.26135102  0.08312557]\n",
        "['Anna Kournikova' 'Anna Kournikova' 'Anna Kournikova' 'Anna Kournikova'\n",
        " 'Anna Kournikova' 'Anna Kournikova' 'Anna Kournikova' 'Anna Kournikova'\n",
        " 'Anna Kournikova' 'Anna Kournikova']\n",
        "[ 0.48118716  0.84112091  0.65671689  0.16829107  0.44400015  0.          0.\n",
        "  0.52562236  0.20641508  0.50546844]\n",
        "[ 0.40061273  0.38176657  0.17413654  0.38761836  0.36003662  0.35545141\n",
        "  0.35817575  0.46140555  0.33349502  0.15726801  0.24248524  0.32928222\n",
        "  0.12892062  0.84032957  0.23148321  0.41404567  0.42020555  0.14066522\n",
        "  0.09949176  0.26770669]\n",
        "['Ann Veneman' 'Ann Veneman' 'Ann Veneman' 'Ann Veneman' 'Ann Veneman'\n",
        " 'Ann Veneman' 'Ann Veneman' 'Ann Veneman' 'Ann Veneman' 'Ann Veneman']\n",
        "[ 0.60012403  0.57003225  0.66403493  0.31944426  0.22438611  0.51180584\n",
        "  0.          0.38539523  0.27857876  0.32698602]\n",
        "[ 0.41780263  0.34251145  0.371964    0.16091004  0.0872296   0.17649653\n",
        "  0.28445152  0.37442727  0.39857771  0.07618828  0.37007429  0.17338914\n",
        "  0.00344776  0.23148321  0.25132969  0.3981916   0.29934227  0.16578043\n",
        "  0.22817217  0.24499328]\n",
        "['Anna Kournikova' 'Anna Kournikova' 'Anna Kournikova' 'Anna Kournikova'\n",
        " 'Anna Kournikova' 'Anna Kournikova' 'Anna Kournikova' 'Anna Kournikova'\n",
        " 'Anna Kournikova' 'Anna Kournikova']\n",
        "[ 0.01277303  0.45862912  0.14680069  0.23681463  0.54547779  0.          0.\n",
        "  0.15561598  0.17243111  0.33893615]\n",
        "[ 0.22799917  0.67421829  0.15581494  0.04392514  0.06689992  0.34773351\n",
        "  0.35913924  0.25819444  0.32736685  0.19936502  0.47982681  0.04574951\n",
        "  0.14333901  0.2361113   0.25132969  0.38325314  0.17638158  0.10920814\n",
        "  0.21755382  0.2356353 ]\n",
        "['Bill Gates' 'Bill Gates' 'Bill Gates' 'Bill Gates' 'Bill Gates'\n",
        " 'Bill Gates' 'Bill Gates' 'Bill Gates' 'Bill Gates' 'Bill Gates']\n",
        "[ 0.8557187   0.22838741  0.25262372  0.46821596  0.91038073  0.1018736\n",
        "  0.45116774  0.25931413  0.          0.4331733 ]\n",
        "[ 0.24594907  0.3016072   0.56018198  0.35830791  0.52905509  0.19614612\n",
        "  0.11442045  0.20472199  0.21828855  0.13442366  0.37185912  0.41404567\n",
        "  0.3981916   0.38325314  0.20513739  0.35030835  0.53534355  0.22747766\n",
        "  0.49627542  0.48483281]\n",
        "['Anna Kournikova' 'Anna Kournikova' 'Anna Kournikova' 'Anna Kournikova'\n",
        " 'Anna Kournikova' 'Anna Kournikova' 'Anna Kournikova' 'Anna Kournikova'\n",
        " 'Anna Kournikova' 'Anna Kournikova']\n",
        "[ 0.52922486  0.84071365  0.49751106  0.36450651  0.27200519  0.52562236\n",
        "  0.15561598  0.          0.25711056  0.32869617]\n",
        "[ 0.61502439  0.61953585  0.16454132  0.43563564  0.14332907  0.19369305\n",
        "  0.30359727  0.27612976  0.29830231  0.45969392  0.17731455  0.30412717\n",
        "  0.27684902  0.          0.29934227  0.20513739  0.54107635  0.26458721\n",
        "  0.17958239  0.15287064]\n",
        "['Anna Kournikova' 'Anna Kournikova' 'Anna Kournikova' 'Anna Kournikova'\n",
        " 'Anna Kournikova' 'Anna Kournikova' 'Anna Kournikova' 'Anna Kournikova'\n",
        " 'Anna Kournikova' 'Anna Kournikova']\n",
        "[ 0.44052313  0.28174549  0.          0.          0.09664007  0.20641508\n",
        "  0.17243111  0.25711056  0.          0.04321777]\n",
        "[ 0.3675621   0.          0.04959202  0.          0.24061684  0.43696915\n",
        "  0.39183332  0.27675934  0.22144191  0.1653726   0.27337428  0.44663894\n",
        "  0.51435053  0.38679291  0.16578043  0.35030835  0.          0.59490107\n",
        "  0.21734632  0.        ]\n",
        "['Anna Kournikova' 'Anna Kournikova' 'Anna Kournikova' 'Anna Kournikova'\n",
        " 'Anna Kournikova' 'Anna Kournikova' 'Anna Kournikova' 'Anna Kournikova'\n",
        " 'Anna Kournikova' 'Anna Kournikova']\n",
        "[ 0.25827307  0.57041982  0.46892467  0.19561073  0.63785797  0.50546844\n",
        "  0.33893615  0.32869617  0.04321777  0.        ]\n",
        "[ 0.40456679  1.          0.13708073  0.10599805  0.14619945  0.\n",
        "  0.47709237  0.46597388  0.64887867  0.46160672  0.31615131  0.38357199\n",
        "  0.10924138  0.26135102  0.22817217  0.53534355  0.2301919   0.27427893\n",
        "  0.          0.36330416]\n",
        "['Bill Gates' 'Bill Gates' 'Bill Gates' 'Bill Gates' 'Bill Gates'\n",
        " 'Bill Gates' 'Bill Gates' 'Bill Gates' 'Bill Gates' 'Bill Gates']\n",
        "[ 0.38287284  0.27479733  0.15715486  0.30483044  0.35254017  0.48388093\n",
        "  0.58516025  0.44114843  0.4331733   0.        ]\n",
        "[ 0.31704078  0.          0.4644117   0.          0.35349285  0.\n",
        "  0.06733339  0.23654088  0.30881843  0.38124925  0.08312557  0.42020555\n",
        "  0.24499328  0.17638158  0.54107635  0.          0.2301919   0.31556958\n",
        "  0.32554895  0.36598061]\n",
        "['Ann Veneman' 'Ann Veneman' 'Ann Veneman' 'Ann Veneman' 'Ann Veneman'\n",
        " 'Ann Veneman' 'Ann Veneman' 'Ann Veneman' 'Ann Veneman' 'Ann Veneman']\n",
        "[ 0.78652386  0.36333161  0.35961277  0.37614601  0.32141413  0.27977513\n",
        "  0.38539523  0.          0.19060696  0.51470391]\n",
        "[ 0.23427833  0.19685535  0.38710365  0.21843622  0.28291072  0.07144833\n",
        "  0.39135217  0.2445933   0.19379652  0.          0.44492084  0.4740966   0.\n",
        "  0.14066522  0.10920814  0.22747766  0.26458721  0.59490107  0.27427893\n",
        "  0.31556958]\n",
        "['Ann Veneman' 'Ann Veneman' 'Ann Veneman' 'Ann Veneman' 'Ann Veneman'\n",
        " 'Ann Veneman' 'Ann Veneman' 'Ann Veneman' 'Ann Veneman' 'Ann Veneman']\n",
        "[ 0.41880497  0.29910468  0.53392156  0.08077041  0.40566697  0.61978249\n",
        "  0.27857876  0.19060696  0.          0.44592719]\n",
        "[ 0.24797674  0.56214292  0.36106414  0.          0.18771654  0.30192887\n",
        "  0.34270302  0.41815832  0.35950713  0.          0.5978982   0.33650211\n",
        "  0.35433065  0.09949176  0.21755382  0.49627542  0.17958239  0.21734632\n",
        "  0.          0.32554895]\n",
        "['Ann Veneman' 'Ann Veneman' 'Ann Veneman' 'Ann Veneman' 'Ann Veneman'\n",
        " 'Ann Veneman' 'Ann Veneman' 'Ann Veneman' 'Ann Veneman' 'Ann Veneman']\n",
        "[ 0.81376759  0.43436526  0.55210564  0.1779665   0.2325126   0.27832599\n",
        "  0.32698602  0.51470391  0.44592719  0.        ]\n",
        "[ 0.42244223  0.34626357  0.          0.          0.29281324  0.37380911\n",
        "  0.2240833   0.16105718  0.36128143  0.19746546  0.34098637  0.22306545\n",
        "  0.45915721  0.26770669  0.2356353   0.48483281  0.15287064  0.\n",
        "  0.36330416  0.36598061]\n",
        "[ 1.0403885   1.06556067  1.7896343   1.16728374  1.49947095  0.86514138\n",
        "  1.29001103  0.99141447  1.06565579  1.42943083  1.11657427  1.03026739\n",
        "  1.93723459  0.9279956   0.85044148  1.15844672  1.06859026  1.32211802\n",
        "  1.19637006  1.18089456  1.53486887  0.83720429  1.17709942  1.27605514\n",
        "  0.58754125  1.02226324  1.41371895  1.41221064  1.16778681  1.43250261]\n"
       ]
      },
      {
       "output_type": "stream",
       "stream": "stderr",
       "text": [
        "/usr/lib/pymodules/python2.7/matplotlib/axes.py:7661: UserWarning: 2D hist input should be nsamples x nvariables;\n",
        " this looks transposed (shape is 0 x 1)\n",
        "  'this looks transposed (shape is %d x %d)' % x.shape[::-1])\n"
       ]
      },
      {
       "output_type": "display_data",
       "png": "[encoded data removed]"
      }
     ],
     "prompt_number": 56
    }
   ],
   "metadata": {}
  }
 ]
}
{
 "metadata": {
  "name": "ClusterMatch_debug"
 },
 "nbformat": 3,
 "nbformat_minor": 0,
 "worksheets": [
  {
   "cells": [
    {
     "cell_type": "code",
     "collapsed": false,
     "input": [
      "#Stupid hack to load files from sibling dir\n",
      "import sys; import os\n",
      "sys.path.insert(0, os.path.abspath('..'))\n",
      "\n",
      "%load_ext autoreload\n",
      "%autoreload 2"
     ],
     "language": "python",
     "metadata": {},
     "outputs": [],
     "prompt_number": 25
    },
    {
     "cell_type": "code",
     "collapsed": false,
     "input": [
      "import fnmatch\n",
      "import os\n",
      "import matching\n",
      "import weightMatrix\n",
      "import display\n",
      "import itertools"
     ],
     "language": "python",
     "metadata": {},
     "outputs": [],
     "prompt_number": 26
    },
    {
     "cell_type": "code",
     "collapsed": false,
     "input": [
      "dt = 5\n",
      "nb_thresholds = 50\n",
      "thresholds_cluster = numpy.linspace(0.8,1.0, nb_thresholds)\n",
      "thresholds_nocluster = numpy.linspace(0.3,0.8, nb_thresholds)\n",
      "thresholds_iso = numpy.linspace(0.4,0.9, nb_thresholds)\n",
      "thresholds_spectral = numpy.linspace(0.7,1.0, nb_thresholds)\n",
      "thresholds_spectralMMC = numpy.linspace(0.3,1.0, nb_thresholds)\n",
      "\n",
      "#tresholds_cluster = numpy.linspace(0.92,1.0, 1)\n",
      "#tresholds_nocluster = numpy.linspace(0.6,0.8, 1)\n",
      "directory = \"Graf\"\n",
      "keypoint = \"SIFT\"\n",
      "descriptor = \"SIFT\"\n",
      "verbose = True\n",
      "\n",
      "path = \"../../images/testsets/%s/%s\" % (directory, \"PTY26L\")\n",
      "paths = (path + \"_1.jpg\", path + \"_2.jpg\")\n",
      "homography = matching.getHomography(path)\n",
      "homography"
     ],
     "language": "python",
     "metadata": {},
     "outputs": [
      {
       "output_type": "pyout",
       "prompt_number": 27,
       "text": [
        "array([[  5.23755689e-01,  -2.63809910e-01,  -2.57146672e+01],\n",
        "       [  2.40967391e-01,   8.98618470e-01,  -1.62029723e+01],\n",
        "       [  4.11684718e-04,   9.96172668e-06,   1.00000000e+00]])"
       ]
      }
     ],
     "prompt_number": 27
    },
    {
     "cell_type": "code",
     "collapsed": false,
     "input": [
      "matching.getCorrespondences(paths, homography, keypoint, descriptor)"
     ],
     "language": "python",
     "metadata": {},
     "outputs": [
      {
       "output_type": "pyout",
       "prompt_number": 36,
       "text": [
        "65"
       ]
      }
     ],
     "prompt_number": 36
    },
    {
     "cell_type": "code",
     "collapsed": false,
     "input": [
      "matches_cm = matching.clusterMatch(dt, paths, homography, thresholds_spectralMMC, keypoint, descriptor)"
     ],
     "language": "python",
     "metadata": {},
     "outputs": [
      {
       "output_type": "stream",
       "stream": "stdout",
       "text": [
        "Moved 309 vertices (modularity now: 0.474161, change of 0.474161 (0.530521))\n",
        "Moved 72 vertices (modularity now: 0.605421, change of 0.131261 (0.159376))"
       ]
      },
      {
       "output_type": "stream",
       "stream": "stdout",
       "text": [
        "\n",
        "Moved 21 vertices (modularity now: 0.615458, change of 0.010037 (0.016408))"
       ]
      },
      {
       "output_type": "stream",
       "stream": "stdout",
       "text": [
        "\n",
        "Moved 8 vertices (modularity now: 0.611816, change of -0.003642 (0.004539))"
       ]
      },
      {
       "output_type": "stream",
       "stream": "stdout",
       "text": [
        "\n",
        "Moved 0 vertices (modularity now: 0.611816, change of 0.000000 (0.000000))"
       ]
      },
      {
       "output_type": "stream",
       "stream": "stdout",
       "text": [
        "\n",
        "529 partitions"
       ]
      },
      {
       "output_type": "stream",
       "stream": "stdout",
       "text": [
        "\n"
       ]
      }
     ],
     "prompt_number": 28
    },
    {
     "cell_type": "code",
     "collapsed": false,
     "input": [
      "matches_cm"
     ],
     "language": "python",
     "metadata": {},
     "outputs": [
      {
       "output_type": "pyout",
       "prompt_number": 29,
       "text": [
        "[[],\n",
        " [],\n",
        " [],\n",
        " [],\n",
        " [],\n",
        " [],\n",
        " [],\n",
        " [],\n",
        " [],\n",
        " [],\n",
        " [],\n",
        " [],\n",
        " [],\n",
        " [],\n",
        " [],\n",
        " [],\n",
        " [],\n",
        " [],\n",
        " [],\n",
        " [],\n",
        " [],\n",
        " [],\n",
        " [],\n",
        " [],\n",
        " [],\n",
        " [],\n",
        " [],\n",
        " [],\n",
        " [],\n",
        " [],\n",
        " [],\n",
        " [],\n",
        " [],\n",
        " [],\n",
        " [],\n",
        " [],\n",
        " [],\n",
        " [],\n",
        " [],\n",
        " [],\n",
        " [0.7214557337664691],\n",
        " [0.7214557337664691, 6.4625459276600372],\n",
        " [0.7214557337664691, 6.4625459276600372, 3.5433165135903604],\n",
        " [0.7214557337664691,\n",
        "  547.36837979672259,\n",
        "  6.4625459276600372,\n",
        "  6.4625459276600372,\n",
        "  3.5433165135903604],\n",
        " [0.7214557337664691,\n",
        "  547.36837979672259,\n",
        "  6.4625459276600372,\n",
        "  6.4625459276600372,\n",
        "  3.5433165135903604],\n",
        " [0.59539428696642882,\n",
        "  0.7214557337664691,\n",
        "  547.36837979672259,\n",
        "  6.4625459276600372,\n",
        "  6.4625459276600372,\n",
        "  296.55377479743254,\n",
        "  296.55377479743254,\n",
        "  37.872837495094714,\n",
        "  3.5433165135903604,\n",
        "  664.05679500207236],\n",
        " [3.6711148846488006,\n",
        "  4.8642209810781543,\n",
        "  355.57491788601891,\n",
        "  0.59539428696642882,\n",
        "  0.7214557337664691,\n",
        "  547.36837979672259,\n",
        "  6.4625459276600372,\n",
        "  6.4625459276600372,\n",
        "  3.8196431738648102,\n",
        "  296.55377479743254,\n",
        "  296.55377479743254,\n",
        "  37.872837495094714,\n",
        "  3.8525761274061603,\n",
        "  3.5433165135903604,\n",
        "  664.05679500207236,\n",
        "  8.6759312049067834],\n",
        " [3.6711148846488006,\n",
        "  4.8642209810781543,\n",
        "  355.57491788601891,\n",
        "  0.59539428696642882,\n",
        "  0.7214557337664691,\n",
        "  547.36837979672259,\n",
        "  410.89412966770089,\n",
        "  6.4625459276600372,\n",
        "  6.4625459276600372,\n",
        "  3.8196431738648102,\n",
        "  296.55377479743254,\n",
        "  296.55377479743254,\n",
        "  37.872837495094714,\n",
        "  3.9545084994814657,\n",
        "  3.8525761274061603,\n",
        "  3.5433165135903604,\n",
        "  664.05679500207236,\n",
        "  8.6759312049067834],\n",
        " [686.77091611612457,\n",
        "  3.6711148846488006,\n",
        "  4.8642209810781543,\n",
        "  7.3624103397790721,\n",
        "  4.0716655974807514,\n",
        "  355.57491788601891,\n",
        "  0.59539428696642882,\n",
        "  0.7214557337664691,\n",
        "  252.41170289553421,\n",
        "  209.462080002432,\n",
        "  547.36837979672259,\n",
        "  410.89412966770089,\n",
        "  6.4625459276600372,\n",
        "  6.4625459276600372,\n",
        "  3.8196431738648102,\n",
        "  6.7448786567413173,\n",
        "  8.7460771854927977,\n",
        "  296.55377479743254,\n",
        "  296.55377479743254,\n",
        "  37.872837495094714,\n",
        "  3.9545084994814657,\n",
        "  3.8525761274061603,\n",
        "  3.5433165135903604,\n",
        "  664.05679500207236,\n",
        "  8.6759312049067834],\n",
        " [137.96287574564948,\n",
        "  686.77091611612457,\n",
        "  3.6711148846488006,\n",
        "  4.8642209810781543,\n",
        "  7.3624103397790721,\n",
        "  471.51717493955942,\n",
        "  439.4040542551727,\n",
        "  4.0716655974807514,\n",
        "  0.56336941277724173,\n",
        "  355.57491788601891,\n",
        "  99.67086036492708,\n",
        "  0.59539428696642882,\n",
        "  0.7214557337664691,\n",
        "  252.41170289553421,\n",
        "  209.462080002432,\n",
        "  547.36837979672259,\n",
        "  410.89412966770089,\n",
        "  6.4625459276600372,\n",
        "  6.4625459276600372,\n",
        "  3.8196431738648102,\n",
        "  6.7448786567413173,\n",
        "  423.80806013816266,\n",
        "  8.7460771854927977,\n",
        "  296.55377479743254,\n",
        "  296.55377479743254,\n",
        "  37.872837495094714,\n",
        "  3.9545084994814657,\n",
        "  694.09071995167108,\n",
        "  3.8525761274061603,\n",
        "  3.5433165135903604,\n",
        "  664.05679500207236,\n",
        "  576.48878300185231,\n",
        "  6.7683039127033506,\n",
        "  8.6759312049067834]]"
       ]
      }
     ],
     "prompt_number": 29
    },
    {
     "cell_type": "code",
     "collapsed": false,
     "input": [
      "matches_sm = matching.spectralMatchMMC(dt, paths, homography, thresholds_spectralMMC, keypoint, descriptor)"
     ],
     "language": "python",
     "metadata": {},
     "outputs": [
      {
       "output_type": "stream",
       "stream": "stdout",
       "text": [
        "Moved 309 vertices (modularity now: 0.474161, change of 0.474161 (0.530521))\n",
        "Moved 72 vertices (modularity now: 0.605421, change of 0.131261 (0.159376))"
       ]
      },
      {
       "output_type": "stream",
       "stream": "stdout",
       "text": [
        "\n",
        "Moved 21 vertices (modularity now: 0.615458, change of 0.010037 (0.016408))"
       ]
      },
      {
       "output_type": "stream",
       "stream": "stdout",
       "text": [
        "\n",
        "Moved 8 vertices (modularity now: 0.611816, change of -0.003642 (0.004539))"
       ]
      },
      {
       "output_type": "stream",
       "stream": "stdout",
       "text": [
        "\n",
        "Moved 26 vertices (modularity now: 0.278885, change of 0.278885 (0.424442))\n",
        "Moved 8 vertices (modularity now: 0.339457, change of 0.060572 (0.110035))\n",
        "Moved 5 vertices (modularity now: 0.356673, change of 0.017216 (0.133766))"
       ]
      },
      {
       "output_type": "stream",
       "stream": "stdout",
       "text": [
        "\n",
        "Moved 3 vertices (modularity now: 0.329901, change of -0.026772 (0.006888))\n",
        "Moved 28 vertices (modularity now: 0.295071, change of 0.295071 (0.512816))"
       ]
      },
      {
       "output_type": "stream",
       "stream": "stdout",
       "text": [
        "\n",
        "Moved 6 vertices (modularity now: 0.427638, change of 0.132567 (0.228327))\n",
        "Moved 1 vertices (modularity now: 0.428258, change of 0.000620 (0.001237))\n",
        "Moved 0 vertices (modularity now: 0.428258, change of 0.000000 (0.000000))\n",
        "Moved 29 vertices (modularity now: 0.262093, change of 0.262093 (0.459185))"
       ]
      },
      {
       "output_type": "stream",
       "stream": "stdout",
       "text": [
        "\n",
        "Moved 7 vertices (modularity now: 0.344741, change of 0.082649 (0.122699))\n",
        "Moved 3 vertices (modularity now: 0.339764, change of -0.004977 (0.020939))\n",
        "646 partitions"
       ]
      },
      {
       "output_type": "stream",
       "stream": "stdout",
       "text": [
        "\n"
       ]
      }
     ],
     "prompt_number": 35
    },
    {
     "cell_type": "code",
     "collapsed": false,
     "input": [
      "matches"
     ],
     "language": "python",
     "metadata": {},
     "outputs": []
    }
   ],
   "metadata": {}
  }
 ]
}
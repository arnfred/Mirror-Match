{
 "metadata": {
  "name": "get-inria-files"
 },
 "nbformat": 3,
 "nbformat_minor": 0,
 "worksheets": [
  {
   "cells": [
    {
     "cell_type": "code",
     "collapsed": false,
     "input": [
      "#Stupid hack to load files from sibling dir\n",
      "import sys; import os\n",
      "sys.path.insert(0, os.path.abspath('..'))\n",
      "\n",
      "%load_ext autoreload\n",
      "%autoreload 2"
     ],
     "language": "python",
     "metadata": {},
     "outputs": [],
     "prompt_number": 1
    },
    {
     "cell_type": "code",
     "collapsed": false,
     "input": [
      "import os\n",
      "import fnmatch"
     ],
     "language": "python",
     "metadata": {},
     "outputs": [],
     "prompt_number": 5
    },
    {
     "cell_type": "code",
     "collapsed": false,
     "input": [
      "fnmatch.filter([\"H1to2\",\"monkey\"], \"H[0-9]to[0-9]\")[0][1]"
     ],
     "language": "python",
     "metadata": {},
     "outputs": [
      {
       "output_type": "pyout",
       "prompt_number": 8,
       "text": [
        "'1'"
       ]
      }
     ],
     "prompt_number": 8
    },
    {
     "cell_type": "code",
     "collapsed": false,
     "input": [
      "all_paths = [for f in fnmatch.filter(filenames, \"*.jpg\")]"
     ],
     "language": "python",
     "metadata": {},
     "outputs": []
    },
    {
     "cell_type": "code",
     "collapsed": false,
     "input": [
      "def getInriaPaths(orig_id = None, compare_id = 2, img_type = \"graf\", folder = \"inria\") :\n",
      "    \n",
      "    # Dictionary to load the files\n",
      "    file_endings = {\n",
      "        \"GRAFFITI6\" : \"ppm\",\n",
      "    }\n",
      "    \n",
      "    # Get File ending\n",
      "    img_ending = file_endings.get(img_type,\"pgm\")\n",
      "    \n",
      "    # Get directory\n",
      "    dir_path = \"../../images/%s/%s/\" % (folder, img_type)\n",
      "    \n",
      "    # Get id of first image in series\n",
      "    i_first = int(fnmatch.filter(os.listdir(dir_path), \"H[0-9]to[0-9]\")[0][1])\n",
      "    \n",
      "    # let i1 be original id if specified, else we'll set it to i_first\n",
      "    i1 = i_first if orig_id == None else orig_id\n",
      "    \n",
      "    # Get image basename\n",
      "    basename = fnmatch.filter(os.listdir(dir_path), \"*%s.%s\" % (i1,img_ending))[0].split(str(i1))[0]\n",
      "    print(basename)\n",
      "    i2 = compare_id\n",
      "    p1 = \"%s%s%i.%s\" % (dir_path, basename, i1, img_ending)\n",
      "    p2 = \"%s%s%i.%s\" % (dir_path, basename, i2, img_ending)\n",
      "    paths = [p1, p2]\n",
      "    \n",
      "    if i_first == i1 :\n",
      "        hom_path = \"%s/H%ito%i\" % (dir_path,i_first,i2)\n",
      "        hom = numpy.array([map(lambda s : float(s.strip()), line.strip().split()) for i,line in enumerate(open(hom_path)) if i < 3])\n",
      "    else :\n",
      "        # Load and parse homography\n",
      "        hom_path_1 = \"%s/H%ito%i\" % (dir_path,i_first,i1)\n",
      "        hom_path_2 = \"%s/H%ito%i\" % (dir_path,i_first,i2)\n",
      "        hom_1 = numpy.array([map(lambda s : float(s.strip()), line.strip().split()) for i,line in enumerate(open(hom_path_1)) if i < 3])\n",
      "        hom_2 = numpy.array([map(lambda s : float(s.strip()), line.strip().split()) for i,line in enumerate(open(hom_path_2)) if i < 3])\n",
      "        \n",
      "        hom = numpy.linalg.inv(hom_1).dot(hom_2)\n",
      "    \n",
      "    return paths, hom\n",
      "\n",
      "getInriaPaths(1, 3, \"GRAFFITI6\")"
     ],
     "language": "python",
     "metadata": {},
     "outputs": [
      {
       "output_type": "stream",
       "stream": "stdout",
       "text": [
        "img\n"
       ]
      },
      {
       "output_type": "pyout",
       "prompt_number": 27,
       "text": [
        "(['../../images/inria/GRAFFITI6/img1.ppm',\n",
        "  '../../images/inria/GRAFFITI6/img3.ppm'],\n",
        " array([[  7.69423070e-01,  -2.98111869e-01,   2.26056523e+02],\n",
        "       [  3.35113343e-01,   1.03085575e+00,  -7.87405105e+01],\n",
        "       [  3.53708894e-04,   8.55885869e-06,   1.00000000e+00]]))"
       ]
      }
     ],
     "prompt_number": 27
    }
   ],
   "metadata": {}
  }
 ]
}
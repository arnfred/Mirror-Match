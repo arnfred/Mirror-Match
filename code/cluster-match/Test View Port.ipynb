{
 "metadata": {
  "name": "Test View Port"
 },
 "nbformat": 3,
 "nbformat_minor": 0,
 "worksheets": [
  {
   "cells": [
    {
     "cell_type": "code",
     "collapsed": false,
     "input": [
      "#Stupid hack to load files from sibling dir\n",
      "import sys; import os\n",
      "sys.path.insert(0, os.path.abspath('..'))\n",
      "\n",
      "%load_ext autoreload\n",
      "%autoreload 2"
     ],
     "language": "python",
     "metadata": {},
     "outputs": [
      {
       "output_type": "stream",
       "stream": "stdout",
       "text": [
        "\n"
       ]
      }
     ],
     "prompt_number": 6
    },
    {
     "cell_type": "code",
     "collapsed": false,
     "input": [
      "import fnmatch\n",
      "import os\n",
      "import matching\n",
      "import weightMatrix\n",
      "import display\n",
      "import itertools"
     ],
     "language": "python",
     "metadata": {},
     "outputs": [],
     "prompt_number": 7
    },
    {
     "cell_type": "code",
     "collapsed": false,
     "input": [
      "dt = 5\n",
      "nb_thresholds = 50\n",
      "thresholds_cluster = numpy.linspace(0.8,1.0, nb_thresholds)\n",
      "thresholds_nocluster = numpy.linspace(0.3,0.8, nb_thresholds)\n",
      "#tresholds_cluster = numpy.linspace(0.92,1.0, 1)\n",
      "#tresholds_nocluster = numpy.linspace(0.6,0.8, 1)\n",
      "keypoint = \"SIFT\"\n",
      "descriptor = \"SIFT\"\n",
      "verbose = True"
     ],
     "language": "python",
     "metadata": {},
     "outputs": [],
     "prompt_number": 8
    },
    {
     "cell_type": "code",
     "collapsed": false,
     "input": [
      "correspondences_12 = matching.folderCorrespondences(\"Graf12\", dt, keypoint, descriptor)\n",
      "nb_correspondences_12 = sum(correspondences_12)"
     ],
     "language": "python",
     "metadata": {},
     "outputs": [
      {
       "output_type": "stream",
       "stream": "stdout",
       "text": [
        "OCHHK9  "
       ]
      },
      {
       "output_type": "stream",
       "stream": "stdout",
       "text": [
        "7XC1K5  "
       ]
      },
      {
       "output_type": "stream",
       "stream": "stdout",
       "text": [
        "2AN1HI  "
       ]
      },
      {
       "output_type": "stream",
       "stream": "stdout",
       "text": [
        "MWQS1Z  "
       ]
      },
      {
       "output_type": "stream",
       "stream": "stdout",
       "text": [
        "PK5SZO  "
       ]
      },
      {
       "output_type": "stream",
       "stream": "stdout",
       "text": [
        "4O4L5W  "
       ]
      },
      {
       "output_type": "stream",
       "stream": "stdout",
       "text": [
        "LQ74U1  "
       ]
      },
      {
       "output_type": "stream",
       "stream": "stdout",
       "text": [
        "KYIXBY  "
       ]
      },
      {
       "output_type": "stream",
       "stream": "stdout",
       "text": [
        "F6422S  "
       ]
      },
      {
       "output_type": "stream",
       "stream": "stdout",
       "text": [
        "JG63PZ  "
       ]
      },
      {
       "output_type": "stream",
       "stream": "stdout",
       "text": [
        "FXRJZO  "
       ]
      },
      {
       "output_type": "stream",
       "stream": "stdout",
       "text": [
        "TA8MO0  "
       ]
      },
      {
       "output_type": "stream",
       "stream": "stdout",
       "text": [
        "2TZMDE  "
       ]
      },
      {
       "output_type": "stream",
       "stream": "stdout",
       "text": [
        "5SH7O6  "
       ]
      },
      {
       "output_type": "stream",
       "stream": "stdout",
       "text": [
        "8TAXBI  "
       ]
      },
      {
       "output_type": "stream",
       "stream": "stdout",
       "text": [
        "JBDL4Z  "
       ]
      },
      {
       "output_type": "stream",
       "stream": "stdout",
       "text": [
        "QU3N93  "
       ]
      },
      {
       "output_type": "stream",
       "stream": "stdout",
       "text": [
        "ELE5MX  "
       ]
      },
      {
       "output_type": "stream",
       "stream": "stdout",
       "text": [
        "DRKLX6  "
       ]
      },
      {
       "output_type": "stream",
       "stream": "stdout",
       "text": [
        "4ZQ6YT  "
       ]
      },
      {
       "output_type": "stream",
       "stream": "stdout",
       "text": [
        "XLO9U9  "
       ]
      },
      {
       "output_type": "stream",
       "stream": "stdout",
       "text": [
        "3EIXQM  "
       ]
      },
      {
       "output_type": "stream",
       "stream": "stdout",
       "text": [
        "NTLAX8  "
       ]
      },
      {
       "output_type": "stream",
       "stream": "stdout",
       "text": [
        "Z99XUY  "
       ]
      },
      {
       "output_type": "stream",
       "stream": "stdout",
       "text": [
        "DFP8SZ  "
       ]
      },
      {
       "output_type": "stream",
       "stream": "stdout",
       "text": [
        "Z93NOF  "
       ]
      },
      {
       "output_type": "stream",
       "stream": "stdout",
       "text": [
        "GFQNNZ  "
       ]
      },
      {
       "output_type": "stream",
       "stream": "stdout",
       "text": [
        "FHACY1  "
       ]
      },
      {
       "output_type": "stream",
       "stream": "stdout",
       "text": [
        "T6LNYY  "
       ]
      },
      {
       "output_type": "stream",
       "stream": "stdout",
       "text": [
        "Z83IKT  "
       ]
      },
      {
       "output_type": "stream",
       "stream": "stdout",
       "text": [
        "HDPLFB  "
       ]
      },
      {
       "output_type": "stream",
       "stream": "stdout",
       "text": [
        "2VMQFM  "
       ]
      },
      {
       "output_type": "stream",
       "stream": "stdout",
       "text": [
        "OPXAGW  "
       ]
      },
      {
       "output_type": "stream",
       "stream": "stdout",
       "text": [
        "CQW8XB  "
       ]
      },
      {
       "output_type": "stream",
       "stream": "stdout",
       "text": [
        "KIS46N  "
       ]
      },
      {
       "output_type": "stream",
       "stream": "stdout",
       "text": [
        "VVR37N  "
       ]
      },
      {
       "output_type": "stream",
       "stream": "stdout",
       "text": [
        "X2MCKJ  "
       ]
      },
      {
       "output_type": "stream",
       "stream": "stdout",
       "text": [
        "G10HNZ  "
       ]
      },
      {
       "output_type": "stream",
       "stream": "stdout",
       "text": [
        "U1U6GS  "
       ]
      },
      {
       "output_type": "stream",
       "stream": "stdout",
       "text": [
        "L68J33  "
       ]
      },
      {
       "output_type": "stream",
       "stream": "stdout",
       "text": [
        "VWQ8MV  "
       ]
      },
      {
       "output_type": "stream",
       "stream": "stdout",
       "text": [
        "Q0VUH2  "
       ]
      },
      {
       "output_type": "stream",
       "stream": "stdout",
       "text": [
        "IMCCMI  "
       ]
      },
      {
       "output_type": "stream",
       "stream": "stdout",
       "text": [
        "E33YPU  "
       ]
      },
      {
       "output_type": "stream",
       "stream": "stdout",
       "text": [
        "96VMT6  "
       ]
      },
      {
       "output_type": "stream",
       "stream": "stdout",
       "text": [
        "YSNSTZ  "
       ]
      },
      {
       "output_type": "stream",
       "stream": "stdout",
       "text": [
        "QD92AU  "
       ]
      },
      {
       "output_type": "stream",
       "stream": "stdout",
       "text": [
        "OKS1XB  "
       ]
      },
      {
       "output_type": "stream",
       "stream": "stdout",
       "text": [
        "VTDHU5  "
       ]
      },
      {
       "output_type": "stream",
       "stream": "stdout",
       "text": [
        "3Z7S3I  "
       ]
      },
      {
       "output_type": "stream",
       "stream": "stdout",
       "text": [
        "76E40X  "
       ]
      },
      {
       "output_type": "stream",
       "stream": "stdout",
       "text": [
        "70FF02  "
       ]
      },
      {
       "output_type": "stream",
       "stream": "stdout",
       "text": [
        "PP6WEG  "
       ]
      },
      {
       "output_type": "stream",
       "stream": "stdout",
       "text": [
        "CIGOTD  "
       ]
      },
      {
       "output_type": "stream",
       "stream": "stdout",
       "text": [
        "QNB106  "
       ]
      },
      {
       "output_type": "stream",
       "stream": "stdout",
       "text": [
        "UEZA9D  "
       ]
      },
      {
       "output_type": "stream",
       "stream": "stdout",
       "text": [
        "TWZ0GQ  "
       ]
      },
      {
       "output_type": "stream",
       "stream": "stdout",
       "text": [
        "W9AG4D  "
       ]
      },
      {
       "output_type": "stream",
       "stream": "stdout",
       "text": [
        "4B6MLJ  "
       ]
      },
      {
       "output_type": "stream",
       "stream": "stdout",
       "text": [
        "DAIBGB  "
       ]
      },
      {
       "output_type": "stream",
       "stream": "stdout",
       "text": [
        "X0UHFC  "
       ]
      },
      {
       "output_type": "stream",
       "stream": "stdout",
       "text": [
        "W5SOWO  "
       ]
      },
      {
       "output_type": "stream",
       "stream": "stdout",
       "text": [
        "VVRL7E  "
       ]
      },
      {
       "output_type": "stream",
       "stream": "stdout",
       "text": [
        "R0MMOF  "
       ]
      },
      {
       "output_type": "stream",
       "stream": "stdout",
       "text": [
        "383WI6  "
       ]
      },
      {
       "output_type": "stream",
       "stream": "stdout",
       "text": [
        "4SEFPT  "
       ]
      },
      {
       "output_type": "stream",
       "stream": "stdout",
       "text": [
        "2SYOBL  "
       ]
      },
      {
       "output_type": "stream",
       "stream": "stdout",
       "text": [
        "TML58Y  "
       ]
      },
      {
       "output_type": "stream",
       "stream": "stdout",
       "text": [
        "D49HB2  "
       ]
      },
      {
       "output_type": "stream",
       "stream": "stdout",
       "text": [
        "K5YE1J  "
       ]
      },
      {
       "output_type": "stream",
       "stream": "stdout",
       "text": [
        "OPJCCQ  "
       ]
      },
      {
       "output_type": "stream",
       "stream": "stdout",
       "text": [
        "91EXN0  "
       ]
      },
      {
       "output_type": "stream",
       "stream": "stdout",
       "text": [
        "QDP3J9  "
       ]
      },
      {
       "output_type": "stream",
       "stream": "stdout",
       "text": [
        "LSKJDE  "
       ]
      },
      {
       "output_type": "stream",
       "stream": "stdout",
       "text": [
        "7KEYEG  "
       ]
      },
      {
       "output_type": "stream",
       "stream": "stdout",
       "text": [
        "FU7DMT  "
       ]
      },
      {
       "output_type": "stream",
       "stream": "stdout",
       "text": [
        "ZGLOLD  "
       ]
      },
      {
       "output_type": "stream",
       "stream": "stdout",
       "text": [
        "GZSAJ0  "
       ]
      },
      {
       "output_type": "stream",
       "stream": "stdout",
       "text": [
        "GDDC0F  "
       ]
      },
      {
       "output_type": "stream",
       "stream": "stdout",
       "text": [
        "U2Y9UQ  "
       ]
      },
      {
       "output_type": "stream",
       "stream": "stdout",
       "text": [
        "VR4WNG  "
       ]
      },
      {
       "output_type": "stream",
       "stream": "stdout",
       "text": [
        "ZIV93Y  "
       ]
      },
      {
       "output_type": "stream",
       "stream": "stdout",
       "text": [
        "RYOOPY  "
       ]
      },
      {
       "output_type": "stream",
       "stream": "stdout",
       "text": [
        "4ORCO2  "
       ]
      },
      {
       "output_type": "stream",
       "stream": "stdout",
       "text": [
        "YLQE6L  "
       ]
      },
      {
       "output_type": "stream",
       "stream": "stdout",
       "text": [
        "1RYU4Y  "
       ]
      },
      {
       "output_type": "stream",
       "stream": "stdout",
       "text": [
        "DC9N99  "
       ]
      },
      {
       "output_type": "stream",
       "stream": "stdout",
       "text": [
        "WO3WXP  "
       ]
      },
      {
       "output_type": "stream",
       "stream": "stdout",
       "text": [
        "X3D77A  "
       ]
      },
      {
       "output_type": "stream",
       "stream": "stdout",
       "text": [
        "ADQIFN  "
       ]
      },
      {
       "output_type": "stream",
       "stream": "stdout",
       "text": [
        "UM6Z7W  "
       ]
      },
      {
       "output_type": "stream",
       "stream": "stdout",
       "text": [
        "FQ8U3R  "
       ]
      },
      {
       "output_type": "stream",
       "stream": "stdout",
       "text": [
        "R2VP7H  "
       ]
      },
      {
       "output_type": "stream",
       "stream": "stdout",
       "text": [
        "CVYUVZ  "
       ]
      },
      {
       "output_type": "stream",
       "stream": "stdout",
       "text": [
        "7385JJ  "
       ]
      },
      {
       "output_type": "stream",
       "stream": "stdout",
       "text": [
        "K0YKI0  "
       ]
      },
      {
       "output_type": "stream",
       "stream": "stdout",
       "text": [
        "O2Y41X  "
       ]
      },
      {
       "output_type": "stream",
       "stream": "stdout",
       "text": [
        "EWUMMJ  "
       ]
      },
      {
       "output_type": "stream",
       "stream": "stdout",
       "text": [
        "M3T49D  "
       ]
      },
      {
       "output_type": "stream",
       "stream": "stdout",
       "text": [
        "XGQUPY \n"
       ]
      }
     ],
     "prompt_number": 9
    },
    {
     "cell_type": "code",
     "collapsed": false,
     "input": [
      "correspondences_13 = matching.folderCorrespondences(\"Graf\", dt, keypoint, descriptor)\n",
      "nb_correspondences_13 = sum(correspondences_13)"
     ],
     "language": "python",
     "metadata": {},
     "outputs": [
      {
       "output_type": "stream",
       "stream": "stdout",
       "text": [
        "3A4O9O  "
       ]
      },
      {
       "output_type": "stream",
       "stream": "stdout",
       "text": [
        "PTY26L  "
       ]
      },
      {
       "output_type": "stream",
       "stream": "stdout",
       "text": [
        "9GR9LR  "
       ]
      },
      {
       "output_type": "stream",
       "stream": "stdout",
       "text": [
        "RVN6CE  "
       ]
      },
      {
       "output_type": "stream",
       "stream": "stdout",
       "text": [
        "562WAS  "
       ]
      },
      {
       "output_type": "stream",
       "stream": "stdout",
       "text": [
        "EWNOIH  "
       ]
      },
      {
       "output_type": "stream",
       "stream": "stdout",
       "text": [
        "NR22QM  "
       ]
      },
      {
       "output_type": "stream",
       "stream": "stdout",
       "text": [
        "S82EMR  "
       ]
      },
      {
       "output_type": "stream",
       "stream": "stdout",
       "text": [
        "O9CB81  "
       ]
      },
      {
       "output_type": "stream",
       "stream": "stdout",
       "text": [
        "TSWGO2  "
       ]
      },
      {
       "output_type": "stream",
       "stream": "stdout",
       "text": [
        "VKRCBU  "
       ]
      },
      {
       "output_type": "stream",
       "stream": "stdout",
       "text": [
        "ZCC15V  "
       ]
      },
      {
       "output_type": "stream",
       "stream": "stdout",
       "text": [
        "RFJ848  "
       ]
      },
      {
       "output_type": "stream",
       "stream": "stdout",
       "text": [
        "DUMA3G  "
       ]
      },
      {
       "output_type": "stream",
       "stream": "stdout",
       "text": [
        "1MQKGP  "
       ]
      },
      {
       "output_type": "stream",
       "stream": "stdout",
       "text": [
        "IY3Y5O  "
       ]
      },
      {
       "output_type": "stream",
       "stream": "stdout",
       "text": [
        "XCX2CD  "
       ]
      },
      {
       "output_type": "stream",
       "stream": "stdout",
       "text": [
        "3IDQXO  "
       ]
      },
      {
       "output_type": "stream",
       "stream": "stdout",
       "text": [
        "RQOWCQ  "
       ]
      },
      {
       "output_type": "stream",
       "stream": "stdout",
       "text": [
        "O15TRA  "
       ]
      },
      {
       "output_type": "stream",
       "stream": "stdout",
       "text": [
        "XJ9KKK  "
       ]
      },
      {
       "output_type": "stream",
       "stream": "stdout",
       "text": [
        "542PL1  "
       ]
      },
      {
       "output_type": "stream",
       "stream": "stdout",
       "text": [
        "CZCLEF  "
       ]
      },
      {
       "output_type": "stream",
       "stream": "stdout",
       "text": [
        "TDYH87  "
       ]
      },
      {
       "output_type": "stream",
       "stream": "stdout",
       "text": [
        "WQJPMT  "
       ]
      },
      {
       "output_type": "stream",
       "stream": "stdout",
       "text": [
        "WCDJ2D  "
       ]
      },
      {
       "output_type": "stream",
       "stream": "stdout",
       "text": [
        "IHYDF1  "
       ]
      },
      {
       "output_type": "stream",
       "stream": "stdout",
       "text": [
        "FUVQJP  "
       ]
      },
      {
       "output_type": "stream",
       "stream": "stdout",
       "text": [
        "0DLYOG  "
       ]
      },
      {
       "output_type": "stream",
       "stream": "stdout",
       "text": [
        "MW3K3B  "
       ]
      },
      {
       "output_type": "stream",
       "stream": "stdout",
       "text": [
        "PJCFDH  "
       ]
      },
      {
       "output_type": "stream",
       "stream": "stdout",
       "text": [
        "C2EQ15  "
       ]
      },
      {
       "output_type": "stream",
       "stream": "stdout",
       "text": [
        "HUZXMQ  "
       ]
      },
      {
       "output_type": "stream",
       "stream": "stdout",
       "text": [
        "D4RXRZ  "
       ]
      },
      {
       "output_type": "stream",
       "stream": "stdout",
       "text": [
        "PIRGK5  "
       ]
      },
      {
       "output_type": "stream",
       "stream": "stdout",
       "text": [
        "FYWEX9  "
       ]
      },
      {
       "output_type": "stream",
       "stream": "stdout",
       "text": [
        "UBCWF5  "
       ]
      },
      {
       "output_type": "stream",
       "stream": "stdout",
       "text": [
        "HYEW9W  "
       ]
      },
      {
       "output_type": "stream",
       "stream": "stdout",
       "text": [
        "XGN2ML  "
       ]
      },
      {
       "output_type": "stream",
       "stream": "stdout",
       "text": [
        "H3HEUH  "
       ]
      },
      {
       "output_type": "stream",
       "stream": "stdout",
       "text": [
        "35X2IT  "
       ]
      },
      {
       "output_type": "stream",
       "stream": "stdout",
       "text": [
        "HAUVGX  "
       ]
      },
      {
       "output_type": "stream",
       "stream": "stdout",
       "text": [
        "ISHKAX  "
       ]
      },
      {
       "output_type": "stream",
       "stream": "stdout",
       "text": [
        "BZOK6R  "
       ]
      },
      {
       "output_type": "stream",
       "stream": "stdout",
       "text": [
        "UB3L9X  "
       ]
      },
      {
       "output_type": "stream",
       "stream": "stdout",
       "text": [
        "XNVCCY  "
       ]
      },
      {
       "output_type": "stream",
       "stream": "stdout",
       "text": [
        "KVXL5M  "
       ]
      },
      {
       "output_type": "stream",
       "stream": "stdout",
       "text": [
        "XUDLLH  "
       ]
      },
      {
       "output_type": "stream",
       "stream": "stdout",
       "text": [
        "TPD3LK  "
       ]
      },
      {
       "output_type": "stream",
       "stream": "stdout",
       "text": [
        "H1TCS2  "
       ]
      },
      {
       "output_type": "stream",
       "stream": "stdout",
       "text": [
        "E1XXB8  "
       ]
      },
      {
       "output_type": "stream",
       "stream": "stdout",
       "text": [
        "OOA3ZR  "
       ]
      },
      {
       "output_type": "stream",
       "stream": "stdout",
       "text": [
        "F8U6CT  "
       ]
      },
      {
       "output_type": "stream",
       "stream": "stdout",
       "text": [
        "2J97FA  "
       ]
      },
      {
       "output_type": "stream",
       "stream": "stdout",
       "text": [
        "6R1RXH  "
       ]
      },
      {
       "output_type": "stream",
       "stream": "stdout",
       "text": [
        "EDJ1KC  "
       ]
      },
      {
       "output_type": "stream",
       "stream": "stdout",
       "text": [
        "T92T7T  "
       ]
      },
      {
       "output_type": "stream",
       "stream": "stdout",
       "text": [
        "MZFLCH  "
       ]
      },
      {
       "output_type": "stream",
       "stream": "stdout",
       "text": [
        "38QOT5  "
       ]
      },
      {
       "output_type": "stream",
       "stream": "stdout",
       "text": [
        "JZZN5K  "
       ]
      },
      {
       "output_type": "stream",
       "stream": "stdout",
       "text": [
        "PYYI23  "
       ]
      },
      {
       "output_type": "stream",
       "stream": "stdout",
       "text": [
        "O6HAJN  "
       ]
      },
      {
       "output_type": "stream",
       "stream": "stdout",
       "text": [
        "T8L1EG  "
       ]
      },
      {
       "output_type": "stream",
       "stream": "stdout",
       "text": [
        "U3CJNX  "
       ]
      },
      {
       "output_type": "stream",
       "stream": "stdout",
       "text": [
        "MXV0X5  "
       ]
      },
      {
       "output_type": "stream",
       "stream": "stdout",
       "text": [
        "BAY8G4  "
       ]
      },
      {
       "output_type": "stream",
       "stream": "stdout",
       "text": [
        "UAM75G  "
       ]
      },
      {
       "output_type": "stream",
       "stream": "stdout",
       "text": [
        "FWAFM1  "
       ]
      },
      {
       "output_type": "stream",
       "stream": "stdout",
       "text": [
        "V8TX9L  "
       ]
      },
      {
       "output_type": "stream",
       "stream": "stdout",
       "text": [
        "5PEZPU  "
       ]
      },
      {
       "output_type": "stream",
       "stream": "stdout",
       "text": [
        "41YD65  "
       ]
      },
      {
       "output_type": "stream",
       "stream": "stdout",
       "text": [
        "8XLLJQ  "
       ]
      },
      {
       "output_type": "stream",
       "stream": "stdout",
       "text": [
        "XHUH5A  "
       ]
      },
      {
       "output_type": "stream",
       "stream": "stdout",
       "text": [
        "X8I9KB  "
       ]
      },
      {
       "output_type": "stream",
       "stream": "stdout",
       "text": [
        "HKF38K  "
       ]
      },
      {
       "output_type": "stream",
       "stream": "stdout",
       "text": [
        "LQQ2HZ  "
       ]
      },
      {
       "output_type": "stream",
       "stream": "stdout",
       "text": [
        "1YEYQ6  "
       ]
      },
      {
       "output_type": "stream",
       "stream": "stdout",
       "text": [
        "72P2UE  "
       ]
      },
      {
       "output_type": "stream",
       "stream": "stdout",
       "text": [
        "78OF3Q  "
       ]
      },
      {
       "output_type": "stream",
       "stream": "stdout",
       "text": [
        "0VSXRN  "
       ]
      },
      {
       "output_type": "stream",
       "stream": "stdout",
       "text": [
        "VS0EZC  "
       ]
      },
      {
       "output_type": "stream",
       "stream": "stdout",
       "text": [
        "KB3CO0  "
       ]
      },
      {
       "output_type": "stream",
       "stream": "stdout",
       "text": [
        "4J7TD2  "
       ]
      },
      {
       "output_type": "stream",
       "stream": "stdout",
       "text": [
        "UD8N1D  "
       ]
      },
      {
       "output_type": "stream",
       "stream": "stdout",
       "text": [
        "UNFA2M  "
       ]
      },
      {
       "output_type": "stream",
       "stream": "stdout",
       "text": [
        "R9FV94  "
       ]
      },
      {
       "output_type": "stream",
       "stream": "stdout",
       "text": [
        "UPB0Q8  "
       ]
      },
      {
       "output_type": "stream",
       "stream": "stdout",
       "text": [
        "6GV7M7  "
       ]
      },
      {
       "output_type": "stream",
       "stream": "stdout",
       "text": [
        "MZUM0G  "
       ]
      },
      {
       "output_type": "stream",
       "stream": "stdout",
       "text": [
        "79KPO8  "
       ]
      },
      {
       "output_type": "stream",
       "stream": "stdout",
       "text": [
        "SJP2Z0  "
       ]
      },
      {
       "output_type": "stream",
       "stream": "stdout",
       "text": [
        "SURPHD  "
       ]
      },
      {
       "output_type": "stream",
       "stream": "stdout",
       "text": [
        "1L7BYR  "
       ]
      },
      {
       "output_type": "stream",
       "stream": "stdout",
       "text": [
        "IYHO8Q  "
       ]
      },
      {
       "output_type": "stream",
       "stream": "stdout",
       "text": [
        "WDWYD5  "
       ]
      },
      {
       "output_type": "stream",
       "stream": "stdout",
       "text": [
        "3DSYC4  "
       ]
      },
      {
       "output_type": "stream",
       "stream": "stdout",
       "text": [
        "VVOQP5  "
       ]
      },
      {
       "output_type": "stream",
       "stream": "stdout",
       "text": [
        "K3WHRE  "
       ]
      },
      {
       "output_type": "stream",
       "stream": "stdout",
       "text": [
        "DWNJKF  "
       ]
      },
      {
       "output_type": "stream",
       "stream": "stdout",
       "text": [
        "GSHL1A \n"
       ]
      }
     ],
     "prompt_number": 10
    },
    {
     "cell_type": "code",
     "collapsed": false,
     "input": [
      "correspondences_14 = matching.folderCorrespondences(\"Graf14\", dt, keypoint, descriptor)\n",
      "nb_correspondences_14 = sum(correspondences_14)"
     ],
     "language": "python",
     "metadata": {},
     "outputs": [
      {
       "output_type": "stream",
       "stream": "stdout",
       "text": [
        "SW7I21  "
       ]
      },
      {
       "output_type": "stream",
       "stream": "stdout",
       "text": [
        "RCWNS3  "
       ]
      },
      {
       "output_type": "stream",
       "stream": "stdout",
       "text": [
        "0W55CC  "
       ]
      },
      {
       "output_type": "stream",
       "stream": "stdout",
       "text": [
        "DI3KD0  "
       ]
      },
      {
       "output_type": "stream",
       "stream": "stdout",
       "text": [
        "H12W3V  "
       ]
      },
      {
       "output_type": "stream",
       "stream": "stdout",
       "text": [
        "MBIPZU  "
       ]
      },
      {
       "output_type": "stream",
       "stream": "stdout",
       "text": [
        "8JSR5T  "
       ]
      },
      {
       "output_type": "stream",
       "stream": "stdout",
       "text": [
        "9KBEX2  "
       ]
      },
      {
       "output_type": "stream",
       "stream": "stdout",
       "text": [
        "LS281K  "
       ]
      },
      {
       "output_type": "stream",
       "stream": "stdout",
       "text": [
        "RWBC6Z  "
       ]
      },
      {
       "output_type": "stream",
       "stream": "stdout",
       "text": [
        "T0SH6N  "
       ]
      },
      {
       "output_type": "stream",
       "stream": "stdout",
       "text": [
        "9BI5XD  "
       ]
      },
      {
       "output_type": "stream",
       "stream": "stdout",
       "text": [
        "S6YS5Z  "
       ]
      },
      {
       "output_type": "stream",
       "stream": "stdout",
       "text": [
        "YNPHGE  "
       ]
      },
      {
       "output_type": "stream",
       "stream": "stdout",
       "text": [
        "6U3NU8  "
       ]
      },
      {
       "output_type": "stream",
       "stream": "stdout",
       "text": [
        "B8JI3H  "
       ]
      },
      {
       "output_type": "stream",
       "stream": "stdout",
       "text": [
        "ESOTZD  "
       ]
      },
      {
       "output_type": "stream",
       "stream": "stdout",
       "text": [
        "OASSXD  "
       ]
      },
      {
       "output_type": "stream",
       "stream": "stdout",
       "text": [
        "60UD54  "
       ]
      },
      {
       "output_type": "stream",
       "stream": "stdout",
       "text": [
        "3G22Z0  "
       ]
      },
      {
       "output_type": "stream",
       "stream": "stdout",
       "text": [
        "T2J8JB  "
       ]
      },
      {
       "output_type": "stream",
       "stream": "stdout",
       "text": [
        "MSVG85  "
       ]
      },
      {
       "output_type": "stream",
       "stream": "stdout",
       "text": [
        "ABXTUY  "
       ]
      },
      {
       "output_type": "stream",
       "stream": "stdout",
       "text": [
        "QP6Y2O  "
       ]
      },
      {
       "output_type": "stream",
       "stream": "stdout",
       "text": [
        "2FGUS5  "
       ]
      },
      {
       "output_type": "stream",
       "stream": "stdout",
       "text": [
        "ITV49O  "
       ]
      },
      {
       "output_type": "stream",
       "stream": "stdout",
       "text": [
        "K238M9  "
       ]
      },
      {
       "output_type": "stream",
       "stream": "stdout",
       "text": [
        "VBNKTR  "
       ]
      },
      {
       "output_type": "stream",
       "stream": "stdout",
       "text": [
        "GGAY1C  "
       ]
      },
      {
       "output_type": "stream",
       "stream": "stdout",
       "text": [
        "E2JLEB  "
       ]
      },
      {
       "output_type": "stream",
       "stream": "stdout",
       "text": [
        "DOHCC7  "
       ]
      },
      {
       "output_type": "stream",
       "stream": "stdout",
       "text": [
        "87OWO5  "
       ]
      },
      {
       "output_type": "stream",
       "stream": "stdout",
       "text": [
        "9MIOUA  "
       ]
      },
      {
       "output_type": "stream",
       "stream": "stdout",
       "text": [
        "XP20F7  "
       ]
      },
      {
       "output_type": "stream",
       "stream": "stdout",
       "text": [
        "WB5VHH  "
       ]
      },
      {
       "output_type": "stream",
       "stream": "stdout",
       "text": [
        "Z0ZAMK  "
       ]
      },
      {
       "output_type": "stream",
       "stream": "stdout",
       "text": [
        "1V1M5F  "
       ]
      },
      {
       "output_type": "stream",
       "stream": "stdout",
       "text": [
        "0545GS  "
       ]
      },
      {
       "output_type": "stream",
       "stream": "stdout",
       "text": [
        "YKYKEY  "
       ]
      },
      {
       "output_type": "stream",
       "stream": "stdout",
       "text": [
        "K84OGK  "
       ]
      },
      {
       "output_type": "stream",
       "stream": "stdout",
       "text": [
        "PQXGZ5  "
       ]
      },
      {
       "output_type": "stream",
       "stream": "stdout",
       "text": [
        "2TDJE9  "
       ]
      },
      {
       "output_type": "stream",
       "stream": "stdout",
       "text": [
        "DYQMBW  "
       ]
      },
      {
       "output_type": "stream",
       "stream": "stdout",
       "text": [
        "Y27N3K  "
       ]
      },
      {
       "output_type": "stream",
       "stream": "stdout",
       "text": [
        "HEA74J  "
       ]
      },
      {
       "output_type": "stream",
       "stream": "stdout",
       "text": [
        "BNFCG1  "
       ]
      },
      {
       "output_type": "stream",
       "stream": "stdout",
       "text": [
        "FNMTO6  "
       ]
      },
      {
       "output_type": "stream",
       "stream": "stdout",
       "text": [
        "DKTH7Z  "
       ]
      },
      {
       "output_type": "stream",
       "stream": "stdout",
       "text": [
        "B4WY06  "
       ]
      },
      {
       "output_type": "stream",
       "stream": "stdout",
       "text": [
        "C2SPXZ  "
       ]
      },
      {
       "output_type": "stream",
       "stream": "stdout",
       "text": [
        "EM8TXJ  "
       ]
      },
      {
       "output_type": "stream",
       "stream": "stdout",
       "text": [
        "0QN1PE  "
       ]
      },
      {
       "output_type": "stream",
       "stream": "stdout",
       "text": [
        "0KJPTG  "
       ]
      },
      {
       "output_type": "stream",
       "stream": "stdout",
       "text": [
        "XH9G70  "
       ]
      },
      {
       "output_type": "stream",
       "stream": "stdout",
       "text": [
        "NCMKCS  "
       ]
      },
      {
       "output_type": "stream",
       "stream": "stdout",
       "text": [
        "D9MB5H  "
       ]
      },
      {
       "output_type": "stream",
       "stream": "stdout",
       "text": [
        "619KYN  "
       ]
      },
      {
       "output_type": "stream",
       "stream": "stdout",
       "text": [
        "2LD1SM  "
       ]
      },
      {
       "output_type": "stream",
       "stream": "stdout",
       "text": [
        "8J3XM0  "
       ]
      },
      {
       "output_type": "stream",
       "stream": "stdout",
       "text": [
        "K2I0XW  "
       ]
      },
      {
       "output_type": "stream",
       "stream": "stdout",
       "text": [
        "UE0PTQ  "
       ]
      },
      {
       "output_type": "stream",
       "stream": "stdout",
       "text": [
        "V8A1QQ  "
       ]
      },
      {
       "output_type": "stream",
       "stream": "stdout",
       "text": [
        "Q6W94A  "
       ]
      },
      {
       "output_type": "stream",
       "stream": "stdout",
       "text": [
        "7UTEGW  "
       ]
      },
      {
       "output_type": "stream",
       "stream": "stdout",
       "text": [
        "TR8UAI  "
       ]
      },
      {
       "output_type": "stream",
       "stream": "stdout",
       "text": [
        "G89JT4  "
       ]
      },
      {
       "output_type": "stream",
       "stream": "stdout",
       "text": [
        "IPIGM6  "
       ]
      },
      {
       "output_type": "stream",
       "stream": "stdout",
       "text": [
        "36S40D  "
       ]
      },
      {
       "output_type": "stream",
       "stream": "stdout",
       "text": [
        "GOF229  "
       ]
      },
      {
       "output_type": "stream",
       "stream": "stdout",
       "text": [
        "C9URW9  "
       ]
      },
      {
       "output_type": "stream",
       "stream": "stdout",
       "text": [
        "PHP9XS  "
       ]
      },
      {
       "output_type": "stream",
       "stream": "stdout",
       "text": [
        "PQ0DE2  "
       ]
      },
      {
       "output_type": "stream",
       "stream": "stdout",
       "text": [
        "DAAD3G  "
       ]
      },
      {
       "output_type": "stream",
       "stream": "stdout",
       "text": [
        "4D51MW  "
       ]
      },
      {
       "output_type": "stream",
       "stream": "stdout",
       "text": [
        "W127O3  "
       ]
      },
      {
       "output_type": "stream",
       "stream": "stdout",
       "text": [
        "EGL0YW  "
       ]
      },
      {
       "output_type": "stream",
       "stream": "stdout",
       "text": [
        "GZ0QO2  "
       ]
      },
      {
       "output_type": "stream",
       "stream": "stdout",
       "text": [
        "8HEZM4  "
       ]
      },
      {
       "output_type": "stream",
       "stream": "stdout",
       "text": [
        "UU3BRG  "
       ]
      },
      {
       "output_type": "stream",
       "stream": "stdout",
       "text": [
        "LILHQ4  "
       ]
      },
      {
       "output_type": "stream",
       "stream": "stdout",
       "text": [
        "Q8SNSY  "
       ]
      },
      {
       "output_type": "stream",
       "stream": "stdout",
       "text": [
        "YF2F06  "
       ]
      },
      {
       "output_type": "stream",
       "stream": "stdout",
       "text": [
        "TRXLED  "
       ]
      },
      {
       "output_type": "stream",
       "stream": "stdout",
       "text": [
        "TJXY14  "
       ]
      },
      {
       "output_type": "stream",
       "stream": "stdout",
       "text": [
        "RXMB4Q  "
       ]
      },
      {
       "output_type": "stream",
       "stream": "stdout",
       "text": [
        "HPWPT8  "
       ]
      },
      {
       "output_type": "stream",
       "stream": "stdout",
       "text": [
        "38YOSU  "
       ]
      },
      {
       "output_type": "stream",
       "stream": "stdout",
       "text": [
        "U3DSM7  "
       ]
      },
      {
       "output_type": "stream",
       "stream": "stdout",
       "text": [
        "TZYHYQ  "
       ]
      },
      {
       "output_type": "stream",
       "stream": "stdout",
       "text": [
        "16CL8H  "
       ]
      },
      {
       "output_type": "stream",
       "stream": "stdout",
       "text": [
        "88DEIV  "
       ]
      },
      {
       "output_type": "stream",
       "stream": "stdout",
       "text": [
        "LQ6TF4  "
       ]
      },
      {
       "output_type": "stream",
       "stream": "stdout",
       "text": [
        "7Y1I1W  "
       ]
      },
      {
       "output_type": "stream",
       "stream": "stdout",
       "text": [
        "IVEW6Z  "
       ]
      },
      {
       "output_type": "stream",
       "stream": "stdout",
       "text": [
        "65OZX8  "
       ]
      },
      {
       "output_type": "stream",
       "stream": "stdout",
       "text": [
        "KK3I52  "
       ]
      },
      {
       "output_type": "stream",
       "stream": "stdout",
       "text": [
        "KRBPHS  "
       ]
      },
      {
       "output_type": "stream",
       "stream": "stdout",
       "text": [
        "HX2Q03  "
       ]
      },
      {
       "output_type": "stream",
       "stream": "stdout",
       "text": [
        "A40ZYE  "
       ]
      },
      {
       "output_type": "stream",
       "stream": "stdout",
       "text": [
        "AOXG9Q \n"
       ]
      }
     ],
     "prompt_number": 11
    },
    {
     "cell_type": "code",
     "collapsed": false,
     "input": [
      "correspondences_15 = matching.folderCorrespondences(\"Graf15\", dt, keypoint, descriptor)\n",
      "nb_correspondences_15 = sum(correspondences_15)"
     ],
     "language": "python",
     "metadata": {},
     "outputs": [
      {
       "output_type": "stream",
       "stream": "stdout",
       "text": [
        "KTQXF9  "
       ]
      },
      {
       "output_type": "stream",
       "stream": "stdout",
       "text": [
        "0HZWFA  "
       ]
      },
      {
       "output_type": "stream",
       "stream": "stdout",
       "text": [
        "5LJDE1  "
       ]
      },
      {
       "output_type": "stream",
       "stream": "stdout",
       "text": [
        "W39D6N  "
       ]
      },
      {
       "output_type": "stream",
       "stream": "stdout",
       "text": [
        "N4VVH5  "
       ]
      },
      {
       "output_type": "stream",
       "stream": "stdout",
       "text": [
        "1Q34B3  "
       ]
      },
      {
       "output_type": "stream",
       "stream": "stdout",
       "text": [
        "OQASXJ  "
       ]
      },
      {
       "output_type": "stream",
       "stream": "stdout",
       "text": [
        "0OKJI8  "
       ]
      },
      {
       "output_type": "stream",
       "stream": "stdout",
       "text": [
        "IUNHV3  "
       ]
      },
      {
       "output_type": "stream",
       "stream": "stdout",
       "text": [
        "MMQTO4  "
       ]
      },
      {
       "output_type": "stream",
       "stream": "stdout",
       "text": [
        "812G2J  "
       ]
      },
      {
       "output_type": "stream",
       "stream": "stdout",
       "text": [
        "UNYRZM  "
       ]
      },
      {
       "output_type": "stream",
       "stream": "stdout",
       "text": [
        "1JVGMW  "
       ]
      },
      {
       "output_type": "stream",
       "stream": "stdout",
       "text": [
        "QX5DMF  "
       ]
      },
      {
       "output_type": "stream",
       "stream": "stdout",
       "text": [
        "GH0WCQ  "
       ]
      },
      {
       "output_type": "stream",
       "stream": "stdout",
       "text": [
        "QMT5RJ  "
       ]
      },
      {
       "output_type": "stream",
       "stream": "stdout",
       "text": [
        "HBBV0A  "
       ]
      },
      {
       "output_type": "stream",
       "stream": "stdout",
       "text": [
        "G06QPT  "
       ]
      },
      {
       "output_type": "stream",
       "stream": "stdout",
       "text": [
        "32PLN6  "
       ]
      },
      {
       "output_type": "stream",
       "stream": "stdout",
       "text": [
        "E0UE3L  "
       ]
      },
      {
       "output_type": "stream",
       "stream": "stdout",
       "text": [
        "2FDRO5  "
       ]
      },
      {
       "output_type": "stream",
       "stream": "stdout",
       "text": [
        "HN97LS  "
       ]
      },
      {
       "output_type": "stream",
       "stream": "stdout",
       "text": [
        "CYXPXN  "
       ]
      },
      {
       "output_type": "stream",
       "stream": "stdout",
       "text": [
        "W8EPAX  "
       ]
      },
      {
       "output_type": "stream",
       "stream": "stdout",
       "text": [
        "FMJEN7  "
       ]
      },
      {
       "output_type": "stream",
       "stream": "stdout",
       "text": [
        "ABWRQ1  "
       ]
      },
      {
       "output_type": "stream",
       "stream": "stdout",
       "text": [
        "7UF7NS  "
       ]
      },
      {
       "output_type": "stream",
       "stream": "stdout",
       "text": [
        "TV1YZR  "
       ]
      },
      {
       "output_type": "stream",
       "stream": "stdout",
       "text": [
        "BZRE8R  "
       ]
      },
      {
       "output_type": "stream",
       "stream": "stdout",
       "text": [
        "9VRGJE  "
       ]
      },
      {
       "output_type": "stream",
       "stream": "stdout",
       "text": [
        "2CFYB5  "
       ]
      },
      {
       "output_type": "stream",
       "stream": "stdout",
       "text": [
        "CJ7DLZ  "
       ]
      },
      {
       "output_type": "stream",
       "stream": "stdout",
       "text": [
        "7PETXZ  "
       ]
      },
      {
       "output_type": "stream",
       "stream": "stdout",
       "text": [
        "I4TQDB  "
       ]
      },
      {
       "output_type": "stream",
       "stream": "stdout",
       "text": [
        "JMJ1HC  "
       ]
      },
      {
       "output_type": "stream",
       "stream": "stdout",
       "text": [
        "7TZ9IK  "
       ]
      },
      {
       "output_type": "stream",
       "stream": "stdout",
       "text": [
        "X948YO  "
       ]
      },
      {
       "output_type": "stream",
       "stream": "stdout",
       "text": [
        "E15P9J  "
       ]
      },
      {
       "output_type": "stream",
       "stream": "stdout",
       "text": [
        "XFMIF8  "
       ]
      },
      {
       "output_type": "stream",
       "stream": "stdout",
       "text": [
        "PFNJUE  "
       ]
      },
      {
       "output_type": "stream",
       "stream": "stdout",
       "text": [
        "DJ88KL  "
       ]
      },
      {
       "output_type": "stream",
       "stream": "stdout",
       "text": [
        "1YYFSU  "
       ]
      },
      {
       "output_type": "stream",
       "stream": "stdout",
       "text": [
        "RNPJAD  "
       ]
      },
      {
       "output_type": "stream",
       "stream": "stdout",
       "text": [
        "LE9OUW  "
       ]
      },
      {
       "output_type": "stream",
       "stream": "stdout",
       "text": [
        "AQ2QNO  "
       ]
      },
      {
       "output_type": "stream",
       "stream": "stdout",
       "text": [
        "7WV7AF  "
       ]
      },
      {
       "output_type": "stream",
       "stream": "stdout",
       "text": [
        "Q8R3N4  "
       ]
      },
      {
       "output_type": "stream",
       "stream": "stdout",
       "text": [
        "ZTZ11J  "
       ]
      },
      {
       "output_type": "stream",
       "stream": "stdout",
       "text": [
        "ZFYBKM  "
       ]
      },
      {
       "output_type": "stream",
       "stream": "stdout",
       "text": [
        "V00PXG  "
       ]
      },
      {
       "output_type": "stream",
       "stream": "stdout",
       "text": [
        "397WNK  "
       ]
      },
      {
       "output_type": "stream",
       "stream": "stdout",
       "text": [
        "V20AGE  "
       ]
      },
      {
       "output_type": "stream",
       "stream": "stdout",
       "text": [
        "XQBH4K  "
       ]
      },
      {
       "output_type": "stream",
       "stream": "stdout",
       "text": [
        "3CUY8O  "
       ]
      },
      {
       "output_type": "stream",
       "stream": "stdout",
       "text": [
        "470NTM  "
       ]
      },
      {
       "output_type": "stream",
       "stream": "stdout",
       "text": [
        "02PYC5  "
       ]
      },
      {
       "output_type": "stream",
       "stream": "stdout",
       "text": [
        "W4NXET  "
       ]
      },
      {
       "output_type": "stream",
       "stream": "stdout",
       "text": [
        "3UPM94  "
       ]
      },
      {
       "output_type": "stream",
       "stream": "stdout",
       "text": [
        "ED2AOU  "
       ]
      },
      {
       "output_type": "stream",
       "stream": "stdout",
       "text": [
        "EHETYQ  "
       ]
      },
      {
       "output_type": "stream",
       "stream": "stdout",
       "text": [
        "E6SIYL  "
       ]
      },
      {
       "output_type": "stream",
       "stream": "stdout",
       "text": [
        "BX65KH  "
       ]
      },
      {
       "output_type": "stream",
       "stream": "stdout",
       "text": [
        "S8OZ3F  "
       ]
      },
      {
       "output_type": "stream",
       "stream": "stdout",
       "text": [
        "W6HXYP  "
       ]
      },
      {
       "output_type": "stream",
       "stream": "stdout",
       "text": [
        "1B2CTD  "
       ]
      },
      {
       "output_type": "stream",
       "stream": "stdout",
       "text": [
        "LVB9ML  "
       ]
      },
      {
       "output_type": "stream",
       "stream": "stdout",
       "text": [
        "5H0NU3  "
       ]
      },
      {
       "output_type": "stream",
       "stream": "stdout",
       "text": [
        "T40Z4T  "
       ]
      },
      {
       "output_type": "stream",
       "stream": "stdout",
       "text": [
        "76DT1Y  "
       ]
      },
      {
       "output_type": "stream",
       "stream": "stdout",
       "text": [
        "8PELRW  "
       ]
      },
      {
       "output_type": "stream",
       "stream": "stdout",
       "text": [
        "KPX7RF  "
       ]
      },
      {
       "output_type": "stream",
       "stream": "stdout",
       "text": [
        "DUJ60F  "
       ]
      },
      {
       "output_type": "stream",
       "stream": "stdout",
       "text": [
        "Y2HXOX  "
       ]
      },
      {
       "output_type": "stream",
       "stream": "stdout",
       "text": [
        "5356VC  "
       ]
      },
      {
       "output_type": "stream",
       "stream": "stdout",
       "text": [
        "D069BI  "
       ]
      },
      {
       "output_type": "stream",
       "stream": "stdout",
       "text": [
        "4UL1II  "
       ]
      },
      {
       "output_type": "stream",
       "stream": "stdout",
       "text": [
        "YDFNOR  "
       ]
      },
      {
       "output_type": "stream",
       "stream": "stdout",
       "text": [
        "N7DJ6Z  "
       ]
      },
      {
       "output_type": "stream",
       "stream": "stdout",
       "text": [
        "TCNPAG  "
       ]
      },
      {
       "output_type": "stream",
       "stream": "stdout",
       "text": [
        "PQ24IS  "
       ]
      },
      {
       "output_type": "stream",
       "stream": "stdout",
       "text": [
        "EL45H0  "
       ]
      },
      {
       "output_type": "stream",
       "stream": "stdout",
       "text": [
        "FY7PXL  "
       ]
      },
      {
       "output_type": "stream",
       "stream": "stdout",
       "text": [
        "KD3TI6  "
       ]
      },
      {
       "output_type": "stream",
       "stream": "stdout",
       "text": [
        "XNAOJ6  "
       ]
      },
      {
       "output_type": "stream",
       "stream": "stdout",
       "text": [
        "85DGA8  "
       ]
      },
      {
       "output_type": "stream",
       "stream": "stdout",
       "text": [
        "5ITHCY  "
       ]
      },
      {
       "output_type": "stream",
       "stream": "stdout",
       "text": [
        "YLBPS6  "
       ]
      },
      {
       "output_type": "stream",
       "stream": "stdout",
       "text": [
        "XTHJSU  "
       ]
      },
      {
       "output_type": "stream",
       "stream": "stdout",
       "text": [
        "U63JEM  "
       ]
      },
      {
       "output_type": "stream",
       "stream": "stdout",
       "text": [
        "2L1I7H  "
       ]
      },
      {
       "output_type": "stream",
       "stream": "stdout",
       "text": [
        "UW00X4  "
       ]
      },
      {
       "output_type": "stream",
       "stream": "stdout",
       "text": [
        "9X771W  "
       ]
      },
      {
       "output_type": "stream",
       "stream": "stdout",
       "text": [
        "YYMRP9  "
       ]
      },
      {
       "output_type": "stream",
       "stream": "stdout",
       "text": [
        "7VN910  "
       ]
      },
      {
       "output_type": "stream",
       "stream": "stdout",
       "text": [
        "3YDIT1  "
       ]
      },
      {
       "output_type": "stream",
       "stream": "stdout",
       "text": [
        "27JJQ5  "
       ]
      },
      {
       "output_type": "stream",
       "stream": "stdout",
       "text": [
        "QLFWJI  "
       ]
      },
      {
       "output_type": "stream",
       "stream": "stdout",
       "text": [
        "QS4HQD  "
       ]
      },
      {
       "output_type": "stream",
       "stream": "stdout",
       "text": [
        "RQUAID  "
       ]
      },
      {
       "output_type": "stream",
       "stream": "stdout",
       "text": [
        "IT8B0W \n"
       ]
      }
     ],
     "prompt_number": 12
    },
    {
     "cell_type": "code",
     "collapsed": false,
     "input": [
      "correct_12, total_12 = matching.folderMatch(\"Graf12\", dt, matching.clusterMatch, thresholds_cluster, keypoint, descriptor)"
     ],
     "language": "python",
     "metadata": {},
     "outputs": [
      {
       "output_type": "stream",
       "stream": "stdout",
       "text": [
        "OCHHK9  "
       ]
      },
      {
       "output_type": "stream",
       "stream": "stdout",
       "text": [
        "7XC1K5  "
       ]
      },
      {
       "output_type": "stream",
       "stream": "stdout",
       "text": [
        "2AN1HI  "
       ]
      },
      {
       "output_type": "stream",
       "stream": "stdout",
       "text": [
        "MWQS1Z  "
       ]
      },
      {
       "output_type": "stream",
       "stream": "stdout",
       "text": [
        "PK5SZO  "
       ]
      },
      {
       "output_type": "stream",
       "stream": "stdout",
       "text": [
        "4O4L5W  "
       ]
      },
      {
       "output_type": "stream",
       "stream": "stdout",
       "text": [
        "LQ74U1  "
       ]
      },
      {
       "output_type": "stream",
       "stream": "stdout",
       "text": [
        "KYIXBY  "
       ]
      },
      {
       "output_type": "stream",
       "stream": "stdout",
       "text": [
        "F6422S  "
       ]
      },
      {
       "output_type": "stream",
       "stream": "stdout",
       "text": [
        "JG63PZ  "
       ]
      },
      {
       "output_type": "stream",
       "stream": "stdout",
       "text": [
        "FXRJZO  "
       ]
      },
      {
       "output_type": "stream",
       "stream": "stdout",
       "text": [
        "TA8MO0  "
       ]
      },
      {
       "output_type": "stream",
       "stream": "stdout",
       "text": [
        "2TZMDE  "
       ]
      },
      {
       "output_type": "stream",
       "stream": "stdout",
       "text": [
        "5SH7O6  "
       ]
      },
      {
       "output_type": "stream",
       "stream": "stdout",
       "text": [
        "8TAXBI  "
       ]
      },
      {
       "output_type": "stream",
       "stream": "stdout",
       "text": [
        "JBDL4Z  "
       ]
      },
      {
       "output_type": "stream",
       "stream": "stdout",
       "text": [
        "QU3N93  "
       ]
      },
      {
       "output_type": "stream",
       "stream": "stdout",
       "text": [
        "ELE5MX  "
       ]
      },
      {
       "output_type": "stream",
       "stream": "stdout",
       "text": [
        "DRKLX6  "
       ]
      },
      {
       "output_type": "stream",
       "stream": "stdout",
       "text": [
        "4ZQ6YT  "
       ]
      },
      {
       "output_type": "stream",
       "stream": "stdout",
       "text": [
        "XLO9U9  "
       ]
      },
      {
       "output_type": "stream",
       "stream": "stdout",
       "text": [
        "3EIXQM  "
       ]
      },
      {
       "output_type": "stream",
       "stream": "stdout",
       "text": [
        "NTLAX8  "
       ]
      },
      {
       "output_type": "stream",
       "stream": "stdout",
       "text": [
        "Z99XUY  "
       ]
      },
      {
       "output_type": "stream",
       "stream": "stdout",
       "text": [
        "DFP8SZ  "
       ]
      },
      {
       "output_type": "stream",
       "stream": "stdout",
       "text": [
        "Z93NOF  "
       ]
      },
      {
       "output_type": "stream",
       "stream": "stdout",
       "text": [
        "GFQNNZ  "
       ]
      },
      {
       "output_type": "stream",
       "stream": "stdout",
       "text": [
        "FHACY1  "
       ]
      },
      {
       "output_type": "stream",
       "stream": "stdout",
       "text": [
        "T6LNYY  "
       ]
      },
      {
       "output_type": "stream",
       "stream": "stdout",
       "text": [
        "Z83IKT  "
       ]
      },
      {
       "output_type": "stream",
       "stream": "stdout",
       "text": [
        "HDPLFB  "
       ]
      },
      {
       "output_type": "stream",
       "stream": "stdout",
       "text": [
        "2VMQFM  "
       ]
      },
      {
       "output_type": "stream",
       "stream": "stdout",
       "text": [
        "OPXAGW  "
       ]
      },
      {
       "output_type": "stream",
       "stream": "stdout",
       "text": [
        "CQW8XB  "
       ]
      },
      {
       "output_type": "stream",
       "stream": "stdout",
       "text": [
        "KIS46N  "
       ]
      },
      {
       "output_type": "stream",
       "stream": "stdout",
       "text": [
        "VVR37N  "
       ]
      },
      {
       "output_type": "stream",
       "stream": "stdout",
       "text": [
        "X2MCKJ  "
       ]
      },
      {
       "output_type": "stream",
       "stream": "stdout",
       "text": [
        "G10HNZ  "
       ]
      },
      {
       "output_type": "stream",
       "stream": "stdout",
       "text": [
        "U1U6GS  "
       ]
      },
      {
       "output_type": "stream",
       "stream": "stdout",
       "text": [
        "L68J33  "
       ]
      },
      {
       "output_type": "stream",
       "stream": "stdout",
       "text": [
        "VWQ8MV  "
       ]
      },
      {
       "output_type": "stream",
       "stream": "stdout",
       "text": [
        "Q0VUH2  "
       ]
      },
      {
       "output_type": "stream",
       "stream": "stdout",
       "text": [
        "IMCCMI  "
       ]
      },
      {
       "output_type": "stream",
       "stream": "stdout",
       "text": [
        "E33YPU  "
       ]
      },
      {
       "output_type": "stream",
       "stream": "stdout",
       "text": [
        "96VMT6  "
       ]
      },
      {
       "output_type": "stream",
       "stream": "stdout",
       "text": [
        "YSNSTZ  "
       ]
      },
      {
       "output_type": "stream",
       "stream": "stdout",
       "text": [
        "QD92AU  "
       ]
      },
      {
       "output_type": "stream",
       "stream": "stdout",
       "text": [
        "OKS1XB  "
       ]
      },
      {
       "output_type": "stream",
       "stream": "stdout",
       "text": [
        "VTDHU5  "
       ]
      },
      {
       "output_type": "stream",
       "stream": "stdout",
       "text": [
        "3Z7S3I  "
       ]
      },
      {
       "output_type": "stream",
       "stream": "stdout",
       "text": [
        "76E40X  "
       ]
      },
      {
       "output_type": "stream",
       "stream": "stdout",
       "text": [
        "70FF02  "
       ]
      },
      {
       "output_type": "stream",
       "stream": "stdout",
       "text": [
        "PP6WEG  "
       ]
      },
      {
       "output_type": "stream",
       "stream": "stdout",
       "text": [
        "CIGOTD  "
       ]
      },
      {
       "output_type": "stream",
       "stream": "stdout",
       "text": [
        "QNB106  "
       ]
      },
      {
       "output_type": "stream",
       "stream": "stdout",
       "text": [
        "UEZA9D  "
       ]
      },
      {
       "output_type": "stream",
       "stream": "stdout",
       "text": [
        "TWZ0GQ  "
       ]
      },
      {
       "output_type": "stream",
       "stream": "stdout",
       "text": [
        "W9AG4D  "
       ]
      },
      {
       "output_type": "stream",
       "stream": "stdout",
       "text": [
        "4B6MLJ  "
       ]
      },
      {
       "output_type": "stream",
       "stream": "stdout",
       "text": [
        "DAIBGB  "
       ]
      },
      {
       "output_type": "stream",
       "stream": "stdout",
       "text": [
        "X0UHFC  "
       ]
      },
      {
       "output_type": "stream",
       "stream": "stdout",
       "text": [
        "W5SOWO  "
       ]
      },
      {
       "output_type": "stream",
       "stream": "stdout",
       "text": [
        "VVRL7E  "
       ]
      },
      {
       "output_type": "stream",
       "stream": "stdout",
       "text": [
        "R0MMOF  "
       ]
      },
      {
       "output_type": "stream",
       "stream": "stdout",
       "text": [
        "383WI6  "
       ]
      },
      {
       "output_type": "stream",
       "stream": "stdout",
       "text": [
        "4SEFPT  "
       ]
      },
      {
       "output_type": "stream",
       "stream": "stdout",
       "text": [
        "2SYOBL  "
       ]
      },
      {
       "output_type": "stream",
       "stream": "stdout",
       "text": [
        "TML58Y  "
       ]
      },
      {
       "output_type": "stream",
       "stream": "stdout",
       "text": [
        "D49HB2  "
       ]
      },
      {
       "output_type": "stream",
       "stream": "stdout",
       "text": [
        "K5YE1J  "
       ]
      },
      {
       "output_type": "stream",
       "stream": "stdout",
       "text": [
        "OPJCCQ  "
       ]
      },
      {
       "output_type": "stream",
       "stream": "stdout",
       "text": [
        "91EXN0  "
       ]
      },
      {
       "output_type": "stream",
       "stream": "stdout",
       "text": [
        "QDP3J9  "
       ]
      },
      {
       "output_type": "stream",
       "stream": "stdout",
       "text": [
        "LSKJDE  "
       ]
      },
      {
       "output_type": "stream",
       "stream": "stdout",
       "text": [
        "7KEYEG  "
       ]
      },
      {
       "output_type": "stream",
       "stream": "stdout",
       "text": [
        "FU7DMT  "
       ]
      },
      {
       "output_type": "stream",
       "stream": "stdout",
       "text": [
        "ZGLOLD  "
       ]
      },
      {
       "output_type": "stream",
       "stream": "stdout",
       "text": [
        "GZSAJ0  "
       ]
      },
      {
       "output_type": "stream",
       "stream": "stdout",
       "text": [
        "GDDC0F  "
       ]
      },
      {
       "output_type": "stream",
       "stream": "stdout",
       "text": [
        "U2Y9UQ  "
       ]
      },
      {
       "output_type": "stream",
       "stream": "stdout",
       "text": [
        "VR4WNG  "
       ]
      },
      {
       "output_type": "stream",
       "stream": "stdout",
       "text": [
        "ZIV93Y  "
       ]
      },
      {
       "output_type": "stream",
       "stream": "stdout",
       "text": [
        "RYOOPY  "
       ]
      },
      {
       "output_type": "stream",
       "stream": "stdout",
       "text": [
        "4ORCO2  "
       ]
      },
      {
       "output_type": "stream",
       "stream": "stdout",
       "text": [
        "YLQE6L  "
       ]
      },
      {
       "output_type": "stream",
       "stream": "stdout",
       "text": [
        "1RYU4Y  "
       ]
      },
      {
       "output_type": "stream",
       "stream": "stdout",
       "text": [
        "DC9N99  "
       ]
      },
      {
       "output_type": "stream",
       "stream": "stdout",
       "text": [
        "WO3WXP  "
       ]
      },
      {
       "output_type": "stream",
       "stream": "stdout",
       "text": [
        "X3D77A  "
       ]
      },
      {
       "output_type": "stream",
       "stream": "stdout",
       "text": [
        "ADQIFN  "
       ]
      },
      {
       "output_type": "stream",
       "stream": "stdout",
       "text": [
        "UM6Z7W  "
       ]
      },
      {
       "output_type": "stream",
       "stream": "stdout",
       "text": [
        "FQ8U3R  "
       ]
      },
      {
       "output_type": "stream",
       "stream": "stdout",
       "text": [
        "R2VP7H  "
       ]
      },
      {
       "output_type": "stream",
       "stream": "stdout",
       "text": [
        "CVYUVZ  "
       ]
      },
      {
       "output_type": "stream",
       "stream": "stdout",
       "text": [
        "7385JJ  "
       ]
      },
      {
       "output_type": "stream",
       "stream": "stdout",
       "text": [
        "K0YKI0  "
       ]
      },
      {
       "output_type": "stream",
       "stream": "stdout",
       "text": [
        "O2Y41X  "
       ]
      },
      {
       "output_type": "stream",
       "stream": "stdout",
       "text": [
        "EWUMMJ  "
       ]
      },
      {
       "output_type": "stream",
       "stream": "stdout",
       "text": [
        "M3T49D  "
       ]
      },
      {
       "output_type": "stream",
       "stream": "stdout",
       "text": [
        "XGQUPY \n"
       ]
      },
      {
       "output_type": "stream",
       "stream": "stderr",
       "text": [
        "/home/arnfred/Thesis/code/clustermatch.py:81: RuntimeWarning: invalid value encountered in divide\n",
        "  u = row[s[-2]] / float(row[s[-1]])\n"
       ]
      }
     ],
     "prompt_number": 13
    },
    {
     "cell_type": "code",
     "collapsed": false,
     "input": [
      "correct_13, total_13 = matching.folderMatch(\"Graf\", dt, matching.clusterMatch, thresholds_cluster, keypoint, descriptor)"
     ],
     "language": "python",
     "metadata": {},
     "outputs": [
      {
       "output_type": "stream",
       "stream": "stdout",
       "text": [
        "3A4O9O  "
       ]
      },
      {
       "output_type": "stream",
       "stream": "stdout",
       "text": [
        "PTY26L  "
       ]
      },
      {
       "output_type": "stream",
       "stream": "stdout",
       "text": [
        "9GR9LR  "
       ]
      },
      {
       "output_type": "stream",
       "stream": "stdout",
       "text": [
        "RVN6CE  "
       ]
      },
      {
       "output_type": "stream",
       "stream": "stdout",
       "text": [
        "562WAS  "
       ]
      },
      {
       "output_type": "stream",
       "stream": "stdout",
       "text": [
        "EWNOIH  "
       ]
      },
      {
       "output_type": "stream",
       "stream": "stdout",
       "text": [
        "NR22QM  "
       ]
      },
      {
       "output_type": "stream",
       "stream": "stdout",
       "text": [
        "S82EMR  "
       ]
      },
      {
       "output_type": "stream",
       "stream": "stdout",
       "text": [
        "O9CB81  "
       ]
      },
      {
       "output_type": "stream",
       "stream": "stdout",
       "text": [
        "TSWGO2  "
       ]
      },
      {
       "output_type": "stream",
       "stream": "stdout",
       "text": [
        "VKRCBU  "
       ]
      },
      {
       "output_type": "stream",
       "stream": "stdout",
       "text": [
        "ZCC15V  "
       ]
      },
      {
       "output_type": "stream",
       "stream": "stdout",
       "text": [
        "RFJ848  "
       ]
      },
      {
       "output_type": "stream",
       "stream": "stdout",
       "text": [
        "DUMA3G  "
       ]
      },
      {
       "output_type": "stream",
       "stream": "stdout",
       "text": [
        "1MQKGP  "
       ]
      },
      {
       "output_type": "stream",
       "stream": "stdout",
       "text": [
        "IY3Y5O  "
       ]
      },
      {
       "output_type": "stream",
       "stream": "stdout",
       "text": [
        "XCX2CD  "
       ]
      },
      {
       "output_type": "stream",
       "stream": "stdout",
       "text": [
        "3IDQXO  "
       ]
      },
      {
       "output_type": "stream",
       "stream": "stdout",
       "text": [
        "RQOWCQ  "
       ]
      },
      {
       "output_type": "stream",
       "stream": "stdout",
       "text": [
        "O15TRA  "
       ]
      },
      {
       "output_type": "stream",
       "stream": "stdout",
       "text": [
        "XJ9KKK  "
       ]
      },
      {
       "output_type": "stream",
       "stream": "stdout",
       "text": [
        "542PL1  "
       ]
      },
      {
       "output_type": "stream",
       "stream": "stdout",
       "text": [
        "CZCLEF  "
       ]
      },
      {
       "output_type": "stream",
       "stream": "stdout",
       "text": [
        "TDYH87  "
       ]
      },
      {
       "output_type": "stream",
       "stream": "stdout",
       "text": [
        "WQJPMT  "
       ]
      },
      {
       "output_type": "stream",
       "stream": "stdout",
       "text": [
        "WCDJ2D  "
       ]
      },
      {
       "output_type": "stream",
       "stream": "stdout",
       "text": [
        "IHYDF1  "
       ]
      },
      {
       "output_type": "stream",
       "stream": "stdout",
       "text": [
        "FUVQJP  "
       ]
      },
      {
       "output_type": "stream",
       "stream": "stdout",
       "text": [
        "0DLYOG  "
       ]
      },
      {
       "output_type": "stream",
       "stream": "stdout",
       "text": [
        "MW3K3B  "
       ]
      },
      {
       "output_type": "stream",
       "stream": "stdout",
       "text": [
        "PJCFDH  "
       ]
      },
      {
       "output_type": "stream",
       "stream": "stdout",
       "text": [
        "C2EQ15  "
       ]
      },
      {
       "output_type": "stream",
       "stream": "stdout",
       "text": [
        "HUZXMQ  "
       ]
      },
      {
       "output_type": "stream",
       "stream": "stdout",
       "text": [
        "D4RXRZ  "
       ]
      },
      {
       "output_type": "stream",
       "stream": "stdout",
       "text": [
        "PIRGK5  "
       ]
      },
      {
       "output_type": "stream",
       "stream": "stdout",
       "text": [
        "FYWEX9  "
       ]
      },
      {
       "output_type": "stream",
       "stream": "stdout",
       "text": [
        "UBCWF5  "
       ]
      },
      {
       "output_type": "stream",
       "stream": "stdout",
       "text": [
        "HYEW9W  "
       ]
      },
      {
       "output_type": "stream",
       "stream": "stdout",
       "text": [
        "XGN2ML  "
       ]
      },
      {
       "output_type": "stream",
       "stream": "stdout",
       "text": [
        "H3HEUH  "
       ]
      },
      {
       "output_type": "stream",
       "stream": "stdout",
       "text": [
        "35X2IT  "
       ]
      },
      {
       "output_type": "stream",
       "stream": "stdout",
       "text": [
        "HAUVGX  "
       ]
      },
      {
       "output_type": "stream",
       "stream": "stdout",
       "text": [
        "ISHKAX  "
       ]
      },
      {
       "output_type": "stream",
       "stream": "stdout",
       "text": [
        "BZOK6R  "
       ]
      },
      {
       "output_type": "stream",
       "stream": "stdout",
       "text": [
        "UB3L9X  "
       ]
      },
      {
       "output_type": "stream",
       "stream": "stdout",
       "text": [
        "XNVCCY  "
       ]
      },
      {
       "output_type": "stream",
       "stream": "stdout",
       "text": [
        "KVXL5M  "
       ]
      },
      {
       "output_type": "stream",
       "stream": "stdout",
       "text": [
        "XUDLLH  "
       ]
      },
      {
       "output_type": "stream",
       "stream": "stdout",
       "text": [
        "TPD3LK  "
       ]
      },
      {
       "output_type": "stream",
       "stream": "stdout",
       "text": [
        "H1TCS2  "
       ]
      },
      {
       "output_type": "stream",
       "stream": "stdout",
       "text": [
        "E1XXB8  "
       ]
      },
      {
       "output_type": "stream",
       "stream": "stdout",
       "text": [
        "OOA3ZR  "
       ]
      },
      {
       "output_type": "stream",
       "stream": "stdout",
       "text": [
        "F8U6CT  "
       ]
      },
      {
       "output_type": "stream",
       "stream": "stdout",
       "text": [
        "2J97FA  "
       ]
      },
      {
       "output_type": "stream",
       "stream": "stdout",
       "text": [
        "6R1RXH  "
       ]
      },
      {
       "output_type": "stream",
       "stream": "stdout",
       "text": [
        "EDJ1KC  "
       ]
      },
      {
       "output_type": "stream",
       "stream": "stdout",
       "text": [
        "T92T7T  "
       ]
      },
      {
       "output_type": "stream",
       "stream": "stdout",
       "text": [
        "MZFLCH  "
       ]
      },
      {
       "output_type": "stream",
       "stream": "stdout",
       "text": [
        "38QOT5  "
       ]
      },
      {
       "output_type": "stream",
       "stream": "stdout",
       "text": [
        "JZZN5K  "
       ]
      },
      {
       "output_type": "stream",
       "stream": "stdout",
       "text": [
        "PYYI23  "
       ]
      },
      {
       "output_type": "stream",
       "stream": "stdout",
       "text": [
        "O6HAJN  "
       ]
      },
      {
       "output_type": "stream",
       "stream": "stdout",
       "text": [
        "T8L1EG  "
       ]
      },
      {
       "output_type": "stream",
       "stream": "stdout",
       "text": [
        "U3CJNX  "
       ]
      },
      {
       "output_type": "stream",
       "stream": "stdout",
       "text": [
        "MXV0X5  "
       ]
      },
      {
       "output_type": "stream",
       "stream": "stdout",
       "text": [
        "BAY8G4  "
       ]
      },
      {
       "output_type": "stream",
       "stream": "stdout",
       "text": [
        "UAM75G  "
       ]
      },
      {
       "output_type": "stream",
       "stream": "stdout",
       "text": [
        "FWAFM1  "
       ]
      },
      {
       "output_type": "stream",
       "stream": "stdout",
       "text": [
        "V8TX9L  "
       ]
      },
      {
       "output_type": "stream",
       "stream": "stdout",
       "text": [
        "5PEZPU  "
       ]
      },
      {
       "output_type": "stream",
       "stream": "stdout",
       "text": [
        "41YD65  "
       ]
      },
      {
       "output_type": "stream",
       "stream": "stdout",
       "text": [
        "8XLLJQ  "
       ]
      },
      {
       "output_type": "stream",
       "stream": "stdout",
       "text": [
        "XHUH5A  "
       ]
      },
      {
       "output_type": "stream",
       "stream": "stdout",
       "text": [
        "X8I9KB  "
       ]
      },
      {
       "output_type": "stream",
       "stream": "stdout",
       "text": [
        "HKF38K  "
       ]
      },
      {
       "output_type": "stream",
       "stream": "stdout",
       "text": [
        "LQQ2HZ  "
       ]
      },
      {
       "output_type": "stream",
       "stream": "stdout",
       "text": [
        "1YEYQ6  "
       ]
      },
      {
       "output_type": "stream",
       "stream": "stdout",
       "text": [
        "72P2UE  "
       ]
      },
      {
       "output_type": "stream",
       "stream": "stdout",
       "text": [
        "78OF3Q  "
       ]
      },
      {
       "output_type": "stream",
       "stream": "stdout",
       "text": [
        "0VSXRN  "
       ]
      },
      {
       "output_type": "stream",
       "stream": "stdout",
       "text": [
        "VS0EZC  "
       ]
      },
      {
       "output_type": "stream",
       "stream": "stdout",
       "text": [
        "KB3CO0  "
       ]
      },
      {
       "output_type": "stream",
       "stream": "stdout",
       "text": [
        "4J7TD2  "
       ]
      },
      {
       "output_type": "stream",
       "stream": "stdout",
       "text": [
        "UD8N1D  "
       ]
      },
      {
       "output_type": "stream",
       "stream": "stdout",
       "text": [
        "UNFA2M  "
       ]
      },
      {
       "output_type": "stream",
       "stream": "stdout",
       "text": [
        "R9FV94  "
       ]
      },
      {
       "output_type": "stream",
       "stream": "stdout",
       "text": [
        "UPB0Q8  "
       ]
      },
      {
       "output_type": "stream",
       "stream": "stdout",
       "text": [
        "6GV7M7  "
       ]
      },
      {
       "output_type": "stream",
       "stream": "stdout",
       "text": [
        "MZUM0G  "
       ]
      },
      {
       "output_type": "stream",
       "stream": "stdout",
       "text": [
        "79KPO8  "
       ]
      },
      {
       "output_type": "stream",
       "stream": "stdout",
       "text": [
        "SJP2Z0  "
       ]
      },
      {
       "output_type": "stream",
       "stream": "stdout",
       "text": [
        "SURPHD  "
       ]
      },
      {
       "output_type": "stream",
       "stream": "stdout",
       "text": [
        "1L7BYR  "
       ]
      },
      {
       "output_type": "stream",
       "stream": "stdout",
       "text": [
        "IYHO8Q  "
       ]
      },
      {
       "output_type": "stream",
       "stream": "stdout",
       "text": [
        "WDWYD5  "
       ]
      },
      {
       "output_type": "stream",
       "stream": "stdout",
       "text": [
        "3DSYC4  "
       ]
      },
      {
       "output_type": "stream",
       "stream": "stdout",
       "text": [
        "VVOQP5  "
       ]
      },
      {
       "output_type": "stream",
       "stream": "stdout",
       "text": [
        "K3WHRE  "
       ]
      },
      {
       "output_type": "stream",
       "stream": "stdout",
       "text": [
        "DWNJKF  "
       ]
      },
      {
       "output_type": "stream",
       "stream": "stdout",
       "text": [
        "GSHL1A \n"
       ]
      }
     ],
     "prompt_number": 14
    },
    {
     "cell_type": "code",
     "collapsed": false,
     "input": [
      "correct_14, total_14 = matching.folderMatch(\"Graf14\", dt, matching.clusterMatch, thresholds_cluster, keypoint, descriptor)"
     ],
     "language": "python",
     "metadata": {},
     "outputs": [
      {
       "output_type": "stream",
       "stream": "stdout",
       "text": [
        "SW7I21  "
       ]
      },
      {
       "output_type": "stream",
       "stream": "stdout",
       "text": [
        "RCWNS3  "
       ]
      },
      {
       "output_type": "stream",
       "stream": "stdout",
       "text": [
        "0W55CC  "
       ]
      },
      {
       "output_type": "stream",
       "stream": "stdout",
       "text": [
        "DI3KD0  "
       ]
      },
      {
       "output_type": "stream",
       "stream": "stdout",
       "text": [
        "H12W3V  "
       ]
      },
      {
       "output_type": "stream",
       "stream": "stdout",
       "text": [
        "MBIPZU  "
       ]
      },
      {
       "output_type": "stream",
       "stream": "stdout",
       "text": [
        "8JSR5T  "
       ]
      },
      {
       "output_type": "stream",
       "stream": "stdout",
       "text": [
        "9KBEX2  "
       ]
      },
      {
       "output_type": "stream",
       "stream": "stdout",
       "text": [
        "LS281K  "
       ]
      },
      {
       "output_type": "stream",
       "stream": "stdout",
       "text": [
        "RWBC6Z  "
       ]
      },
      {
       "output_type": "stream",
       "stream": "stdout",
       "text": [
        "T0SH6N  "
       ]
      },
      {
       "output_type": "stream",
       "stream": "stdout",
       "text": [
        "9BI5XD  "
       ]
      },
      {
       "output_type": "stream",
       "stream": "stdout",
       "text": [
        "S6YS5Z  "
       ]
      },
      {
       "output_type": "stream",
       "stream": "stdout",
       "text": [
        "YNPHGE  "
       ]
      },
      {
       "output_type": "stream",
       "stream": "stdout",
       "text": [
        "6U3NU8  "
       ]
      },
      {
       "output_type": "stream",
       "stream": "stdout",
       "text": [
        "B8JI3H  "
       ]
      },
      {
       "output_type": "stream",
       "stream": "stdout",
       "text": [
        "ESOTZD  "
       ]
      },
      {
       "output_type": "stream",
       "stream": "stdout",
       "text": [
        "OASSXD  "
       ]
      },
      {
       "output_type": "stream",
       "stream": "stdout",
       "text": [
        "60UD54  "
       ]
      },
      {
       "output_type": "stream",
       "stream": "stdout",
       "text": [
        "3G22Z0  "
       ]
      },
      {
       "output_type": "stream",
       "stream": "stdout",
       "text": [
        "T2J8JB  "
       ]
      },
      {
       "output_type": "stream",
       "stream": "stdout",
       "text": [
        "MSVG85  "
       ]
      },
      {
       "output_type": "stream",
       "stream": "stdout",
       "text": [
        "ABXTUY  "
       ]
      },
      {
       "output_type": "stream",
       "stream": "stdout",
       "text": [
        "QP6Y2O  "
       ]
      },
      {
       "output_type": "stream",
       "stream": "stdout",
       "text": [
        "2FGUS5  "
       ]
      },
      {
       "output_type": "stream",
       "stream": "stdout",
       "text": [
        "ITV49O  "
       ]
      },
      {
       "output_type": "stream",
       "stream": "stdout",
       "text": [
        "K238M9  "
       ]
      },
      {
       "output_type": "stream",
       "stream": "stdout",
       "text": [
        "VBNKTR  "
       ]
      },
      {
       "output_type": "stream",
       "stream": "stdout",
       "text": [
        "GGAY1C  "
       ]
      },
      {
       "output_type": "stream",
       "stream": "stdout",
       "text": [
        "E2JLEB  "
       ]
      },
      {
       "output_type": "stream",
       "stream": "stdout",
       "text": [
        "DOHCC7  "
       ]
      },
      {
       "output_type": "stream",
       "stream": "stdout",
       "text": [
        "87OWO5  "
       ]
      },
      {
       "output_type": "stream",
       "stream": "stdout",
       "text": [
        "9MIOUA  "
       ]
      },
      {
       "output_type": "stream",
       "stream": "stdout",
       "text": [
        "XP20F7  "
       ]
      },
      {
       "output_type": "stream",
       "stream": "stdout",
       "text": [
        "WB5VHH  "
       ]
      },
      {
       "output_type": "stream",
       "stream": "stdout",
       "text": [
        "Z0ZAMK  "
       ]
      },
      {
       "output_type": "stream",
       "stream": "stdout",
       "text": [
        "1V1M5F  "
       ]
      },
      {
       "output_type": "stream",
       "stream": "stdout",
       "text": [
        "0545GS  "
       ]
      },
      {
       "output_type": "stream",
       "stream": "stdout",
       "text": [
        "YKYKEY  "
       ]
      },
      {
       "output_type": "stream",
       "stream": "stdout",
       "text": [
        "K84OGK  "
       ]
      },
      {
       "output_type": "stream",
       "stream": "stdout",
       "text": [
        "PQXGZ5  "
       ]
      },
      {
       "output_type": "stream",
       "stream": "stdout",
       "text": [
        "2TDJE9  "
       ]
      },
      {
       "output_type": "stream",
       "stream": "stdout",
       "text": [
        "DYQMBW  "
       ]
      },
      {
       "output_type": "stream",
       "stream": "stdout",
       "text": [
        "Y27N3K  "
       ]
      },
      {
       "output_type": "stream",
       "stream": "stdout",
       "text": [
        "HEA74J  "
       ]
      },
      {
       "output_type": "stream",
       "stream": "stdout",
       "text": [
        "BNFCG1  "
       ]
      },
      {
       "output_type": "stream",
       "stream": "stdout",
       "text": [
        "FNMTO6  "
       ]
      },
      {
       "output_type": "stream",
       "stream": "stdout",
       "text": [
        "DKTH7Z  "
       ]
      },
      {
       "output_type": "stream",
       "stream": "stdout",
       "text": [
        "B4WY06  "
       ]
      },
      {
       "output_type": "stream",
       "stream": "stdout",
       "text": [
        "C2SPXZ  "
       ]
      },
      {
       "output_type": "stream",
       "stream": "stdout",
       "text": [
        "EM8TXJ  "
       ]
      },
      {
       "output_type": "stream",
       "stream": "stdout",
       "text": [
        "0QN1PE  "
       ]
      },
      {
       "output_type": "stream",
       "stream": "stdout",
       "text": [
        "0KJPTG  "
       ]
      },
      {
       "output_type": "stream",
       "stream": "stdout",
       "text": [
        "XH9G70  "
       ]
      },
      {
       "output_type": "stream",
       "stream": "stdout",
       "text": [
        "NCMKCS  "
       ]
      },
      {
       "output_type": "stream",
       "stream": "stdout",
       "text": [
        "D9MB5H  "
       ]
      },
      {
       "output_type": "stream",
       "stream": "stdout",
       "text": [
        "619KYN  "
       ]
      },
      {
       "output_type": "stream",
       "stream": "stdout",
       "text": [
        "2LD1SM  "
       ]
      },
      {
       "output_type": "stream",
       "stream": "stdout",
       "text": [
        "8J3XM0  "
       ]
      },
      {
       "output_type": "stream",
       "stream": "stdout",
       "text": [
        "K2I0XW  "
       ]
      },
      {
       "output_type": "stream",
       "stream": "stdout",
       "text": [
        "UE0PTQ  "
       ]
      },
      {
       "output_type": "stream",
       "stream": "stdout",
       "text": [
        "V8A1QQ  "
       ]
      },
      {
       "output_type": "stream",
       "stream": "stdout",
       "text": [
        "Q6W94A  "
       ]
      },
      {
       "output_type": "stream",
       "stream": "stdout",
       "text": [
        "7UTEGW  "
       ]
      },
      {
       "output_type": "stream",
       "stream": "stdout",
       "text": [
        "TR8UAI  "
       ]
      },
      {
       "output_type": "stream",
       "stream": "stdout",
       "text": [
        "G89JT4  "
       ]
      },
      {
       "output_type": "stream",
       "stream": "stdout",
       "text": [
        "IPIGM6  "
       ]
      },
      {
       "output_type": "stream",
       "stream": "stdout",
       "text": [
        "36S40D  "
       ]
      },
      {
       "output_type": "stream",
       "stream": "stdout",
       "text": [
        "GOF229  "
       ]
      },
      {
       "output_type": "stream",
       "stream": "stdout",
       "text": [
        "C9URW9  "
       ]
      },
      {
       "output_type": "stream",
       "stream": "stdout",
       "text": [
        "PHP9XS  "
       ]
      },
      {
       "output_type": "stream",
       "stream": "stdout",
       "text": [
        "PQ0DE2  "
       ]
      },
      {
       "output_type": "stream",
       "stream": "stdout",
       "text": [
        "DAAD3G  "
       ]
      },
      {
       "output_type": "stream",
       "stream": "stdout",
       "text": [
        "4D51MW  "
       ]
      },
      {
       "output_type": "stream",
       "stream": "stdout",
       "text": [
        "W127O3  "
       ]
      },
      {
       "output_type": "stream",
       "stream": "stdout",
       "text": [
        "EGL0YW  "
       ]
      },
      {
       "output_type": "stream",
       "stream": "stdout",
       "text": [
        "GZ0QO2  "
       ]
      },
      {
       "output_type": "stream",
       "stream": "stdout",
       "text": [
        "8HEZM4  "
       ]
      },
      {
       "output_type": "stream",
       "stream": "stdout",
       "text": [
        "UU3BRG  "
       ]
      },
      {
       "output_type": "stream",
       "stream": "stdout",
       "text": [
        "LILHQ4  "
       ]
      },
      {
       "output_type": "stream",
       "stream": "stdout",
       "text": [
        "Q8SNSY  "
       ]
      },
      {
       "output_type": "stream",
       "stream": "stdout",
       "text": [
        "YF2F06  "
       ]
      },
      {
       "output_type": "stream",
       "stream": "stdout",
       "text": [
        "TRXLED  "
       ]
      },
      {
       "output_type": "stream",
       "stream": "stdout",
       "text": [
        "TJXY14  "
       ]
      },
      {
       "output_type": "stream",
       "stream": "stdout",
       "text": [
        "RXMB4Q  "
       ]
      },
      {
       "output_type": "stream",
       "stream": "stdout",
       "text": [
        "HPWPT8  "
       ]
      },
      {
       "output_type": "stream",
       "stream": "stdout",
       "text": [
        "38YOSU  "
       ]
      },
      {
       "output_type": "stream",
       "stream": "stdout",
       "text": [
        "U3DSM7  "
       ]
      },
      {
       "output_type": "stream",
       "stream": "stdout",
       "text": [
        "TZYHYQ  "
       ]
      },
      {
       "output_type": "stream",
       "stream": "stdout",
       "text": [
        "16CL8H  "
       ]
      },
      {
       "output_type": "stream",
       "stream": "stdout",
       "text": [
        "88DEIV  "
       ]
      },
      {
       "output_type": "stream",
       "stream": "stdout",
       "text": [
        "LQ6TF4  "
       ]
      },
      {
       "output_type": "stream",
       "stream": "stdout",
       "text": [
        "7Y1I1W  "
       ]
      },
      {
       "output_type": "stream",
       "stream": "stdout",
       "text": [
        "IVEW6Z  "
       ]
      },
      {
       "output_type": "stream",
       "stream": "stdout",
       "text": [
        "65OZX8  "
       ]
      },
      {
       "output_type": "stream",
       "stream": "stdout",
       "text": [
        "KK3I52  "
       ]
      },
      {
       "output_type": "stream",
       "stream": "stdout",
       "text": [
        "KRBPHS  "
       ]
      },
      {
       "output_type": "stream",
       "stream": "stdout",
       "text": [
        "HX2Q03  "
       ]
      },
      {
       "output_type": "stream",
       "stream": "stdout",
       "text": [
        "A40ZYE  "
       ]
      },
      {
       "output_type": "stream",
       "stream": "stdout",
       "text": [
        "AOXG9Q \n"
       ]
      }
     ],
     "prompt_number": 15
    },
    {
     "cell_type": "code",
     "collapsed": false,
     "input": [
      "correct_15, total_15 = matching.folderMatch(\"Graf15\", dt, matching.clusterMatch, thresholds_cluster, keypoint, descriptor)"
     ],
     "language": "python",
     "metadata": {},
     "outputs": [
      {
       "output_type": "stream",
       "stream": "stdout",
       "text": [
        "KTQXF9  "
       ]
      },
      {
       "output_type": "stream",
       "stream": "stdout",
       "text": [
        "0HZWFA  "
       ]
      },
      {
       "output_type": "stream",
       "stream": "stdout",
       "text": [
        "5LJDE1  "
       ]
      },
      {
       "output_type": "stream",
       "stream": "stdout",
       "text": [
        "W39D6N  "
       ]
      },
      {
       "output_type": "stream",
       "stream": "stdout",
       "text": [
        "N4VVH5  "
       ]
      },
      {
       "output_type": "stream",
       "stream": "stdout",
       "text": [
        "1Q34B3  "
       ]
      },
      {
       "output_type": "stream",
       "stream": "stdout",
       "text": [
        "OQASXJ  "
       ]
      },
      {
       "output_type": "stream",
       "stream": "stdout",
       "text": [
        "0OKJI8  "
       ]
      },
      {
       "output_type": "stream",
       "stream": "stdout",
       "text": [
        "IUNHV3  "
       ]
      },
      {
       "output_type": "stream",
       "stream": "stdout",
       "text": [
        "MMQTO4  "
       ]
      },
      {
       "output_type": "stream",
       "stream": "stdout",
       "text": [
        "812G2J  "
       ]
      },
      {
       "output_type": "stream",
       "stream": "stdout",
       "text": [
        "UNYRZM  "
       ]
      },
      {
       "output_type": "stream",
       "stream": "stdout",
       "text": [
        "1JVGMW  "
       ]
      },
      {
       "output_type": "stream",
       "stream": "stdout",
       "text": [
        "QX5DMF  "
       ]
      },
      {
       "output_type": "stream",
       "stream": "stdout",
       "text": [
        "GH0WCQ  "
       ]
      },
      {
       "output_type": "stream",
       "stream": "stdout",
       "text": [
        "QMT5RJ  "
       ]
      },
      {
       "output_type": "stream",
       "stream": "stdout",
       "text": [
        "HBBV0A  "
       ]
      },
      {
       "output_type": "stream",
       "stream": "stdout",
       "text": [
        "G06QPT  "
       ]
      },
      {
       "output_type": "stream",
       "stream": "stdout",
       "text": [
        "32PLN6  "
       ]
      },
      {
       "output_type": "stream",
       "stream": "stdout",
       "text": [
        "E0UE3L  "
       ]
      },
      {
       "output_type": "stream",
       "stream": "stdout",
       "text": [
        "2FDRO5  "
       ]
      },
      {
       "output_type": "stream",
       "stream": "stdout",
       "text": [
        "HN97LS  "
       ]
      },
      {
       "output_type": "stream",
       "stream": "stdout",
       "text": [
        "CYXPXN  "
       ]
      },
      {
       "output_type": "stream",
       "stream": "stdout",
       "text": [
        "W8EPAX  "
       ]
      },
      {
       "output_type": "stream",
       "stream": "stdout",
       "text": [
        "FMJEN7  "
       ]
      },
      {
       "output_type": "stream",
       "stream": "stdout",
       "text": [
        "ABWRQ1  "
       ]
      },
      {
       "output_type": "stream",
       "stream": "stdout",
       "text": [
        "7UF7NS  "
       ]
      },
      {
       "output_type": "stream",
       "stream": "stdout",
       "text": [
        "TV1YZR  "
       ]
      },
      {
       "output_type": "stream",
       "stream": "stdout",
       "text": [
        "BZRE8R  "
       ]
      },
      {
       "output_type": "stream",
       "stream": "stdout",
       "text": [
        "9VRGJE  "
       ]
      },
      {
       "output_type": "stream",
       "stream": "stdout",
       "text": [
        "2CFYB5  "
       ]
      },
      {
       "output_type": "stream",
       "stream": "stdout",
       "text": [
        "CJ7DLZ  "
       ]
      },
      {
       "output_type": "stream",
       "stream": "stdout",
       "text": [
        "7PETXZ  "
       ]
      },
      {
       "output_type": "stream",
       "stream": "stdout",
       "text": [
        "I4TQDB  "
       ]
      },
      {
       "output_type": "stream",
       "stream": "stdout",
       "text": [
        "JMJ1HC  "
       ]
      },
      {
       "output_type": "stream",
       "stream": "stdout",
       "text": [
        "7TZ9IK  "
       ]
      },
      {
       "output_type": "stream",
       "stream": "stdout",
       "text": [
        "X948YO  "
       ]
      },
      {
       "output_type": "stream",
       "stream": "stdout",
       "text": [
        "E15P9J  "
       ]
      },
      {
       "output_type": "stream",
       "stream": "stdout",
       "text": [
        "XFMIF8  "
       ]
      },
      {
       "output_type": "stream",
       "stream": "stdout",
       "text": [
        "PFNJUE  "
       ]
      },
      {
       "output_type": "stream",
       "stream": "stdout",
       "text": [
        "DJ88KL  "
       ]
      },
      {
       "output_type": "stream",
       "stream": "stdout",
       "text": [
        "1YYFSU  "
       ]
      },
      {
       "output_type": "stream",
       "stream": "stdout",
       "text": [
        "RNPJAD  "
       ]
      },
      {
       "output_type": "stream",
       "stream": "stdout",
       "text": [
        "LE9OUW  "
       ]
      },
      {
       "output_type": "stream",
       "stream": "stdout",
       "text": [
        "AQ2QNO  "
       ]
      },
      {
       "output_type": "stream",
       "stream": "stdout",
       "text": [
        "7WV7AF  "
       ]
      },
      {
       "output_type": "stream",
       "stream": "stdout",
       "text": [
        "Q8R3N4  "
       ]
      },
      {
       "output_type": "stream",
       "stream": "stdout",
       "text": [
        "ZTZ11J  "
       ]
      },
      {
       "output_type": "stream",
       "stream": "stdout",
       "text": [
        "ZFYBKM  "
       ]
      },
      {
       "output_type": "stream",
       "stream": "stdout",
       "text": [
        "V00PXG  "
       ]
      },
      {
       "output_type": "stream",
       "stream": "stdout",
       "text": [
        "397WNK  "
       ]
      },
      {
       "output_type": "stream",
       "stream": "stdout",
       "text": [
        "V20AGE  "
       ]
      },
      {
       "output_type": "stream",
       "stream": "stdout",
       "text": [
        "XQBH4K  "
       ]
      },
      {
       "output_type": "stream",
       "stream": "stdout",
       "text": [
        "3CUY8O  "
       ]
      },
      {
       "output_type": "stream",
       "stream": "stdout",
       "text": [
        "470NTM  "
       ]
      },
      {
       "output_type": "stream",
       "stream": "stdout",
       "text": [
        "02PYC5  "
       ]
      },
      {
       "output_type": "stream",
       "stream": "stdout",
       "text": [
        "W4NXET  "
       ]
      },
      {
       "output_type": "stream",
       "stream": "stdout",
       "text": [
        "3UPM94  "
       ]
      },
      {
       "output_type": "stream",
       "stream": "stdout",
       "text": [
        "ED2AOU  "
       ]
      },
      {
       "output_type": "stream",
       "stream": "stdout",
       "text": [
        "EHETYQ  "
       ]
      },
      {
       "output_type": "stream",
       "stream": "stdout",
       "text": [
        "E6SIYL  "
       ]
      },
      {
       "output_type": "stream",
       "stream": "stdout",
       "text": [
        "BX65KH  "
       ]
      },
      {
       "output_type": "stream",
       "stream": "stdout",
       "text": [
        "S8OZ3F  "
       ]
      },
      {
       "output_type": "stream",
       "stream": "stdout",
       "text": [
        "W6HXYP  "
       ]
      },
      {
       "output_type": "stream",
       "stream": "stdout",
       "text": [
        "1B2CTD  "
       ]
      },
      {
       "output_type": "stream",
       "stream": "stdout",
       "text": [
        "LVB9ML  "
       ]
      },
      {
       "output_type": "stream",
       "stream": "stdout",
       "text": [
        "5H0NU3  "
       ]
      },
      {
       "output_type": "stream",
       "stream": "stdout",
       "text": [
        "T40Z4T  "
       ]
      },
      {
       "output_type": "stream",
       "stream": "stdout",
       "text": [
        "76DT1Y  "
       ]
      },
      {
       "output_type": "stream",
       "stream": "stdout",
       "text": [
        "8PELRW  "
       ]
      },
      {
       "output_type": "stream",
       "stream": "stdout",
       "text": [
        "KPX7RF  "
       ]
      },
      {
       "output_type": "stream",
       "stream": "stdout",
       "text": [
        "DUJ60F  "
       ]
      },
      {
       "output_type": "stream",
       "stream": "stdout",
       "text": [
        "Y2HXOX  "
       ]
      },
      {
       "output_type": "stream",
       "stream": "stdout",
       "text": [
        "5356VC  "
       ]
      },
      {
       "output_type": "stream",
       "stream": "stdout",
       "text": [
        "D069BI  "
       ]
      },
      {
       "output_type": "stream",
       "stream": "stdout",
       "text": [
        "4UL1II  "
       ]
      },
      {
       "output_type": "stream",
       "stream": "stdout",
       "text": [
        "YDFNOR  "
       ]
      },
      {
       "output_type": "stream",
       "stream": "stdout",
       "text": [
        "N7DJ6Z  "
       ]
      },
      {
       "output_type": "stream",
       "stream": "stdout",
       "text": [
        "TCNPAG  "
       ]
      },
      {
       "output_type": "stream",
       "stream": "stdout",
       "text": [
        "PQ24IS  "
       ]
      },
      {
       "output_type": "stream",
       "stream": "stdout",
       "text": [
        "EL45H0  "
       ]
      },
      {
       "output_type": "stream",
       "stream": "stdout",
       "text": [
        "FY7PXL  "
       ]
      },
      {
       "output_type": "stream",
       "stream": "stdout",
       "text": [
        "KD3TI6  "
       ]
      },
      {
       "output_type": "stream",
       "stream": "stdout",
       "text": [
        "XNAOJ6  "
       ]
      },
      {
       "output_type": "stream",
       "stream": "stdout",
       "text": [
        "85DGA8  "
       ]
      },
      {
       "output_type": "stream",
       "stream": "stdout",
       "text": [
        "5ITHCY  "
       ]
      },
      {
       "output_type": "stream",
       "stream": "stdout",
       "text": [
        "YLBPS6  "
       ]
      },
      {
       "output_type": "stream",
       "stream": "stdout",
       "text": [
        "XTHJSU  "
       ]
      },
      {
       "output_type": "stream",
       "stream": "stdout",
       "text": [
        "U63JEM  "
       ]
      },
      {
       "output_type": "stream",
       "stream": "stdout",
       "text": [
        "2L1I7H  "
       ]
      },
      {
       "output_type": "stream",
       "stream": "stdout",
       "text": [
        "UW00X4  "
       ]
      },
      {
       "output_type": "stream",
       "stream": "stdout",
       "text": [
        "9X771W  "
       ]
      },
      {
       "output_type": "stream",
       "stream": "stdout",
       "text": [
        "YYMRP9  "
       ]
      },
      {
       "output_type": "stream",
       "stream": "stdout",
       "text": [
        "7VN910  "
       ]
      },
      {
       "output_type": "stream",
       "stream": "stdout",
       "text": [
        "3YDIT1  "
       ]
      },
      {
       "output_type": "stream",
       "stream": "stdout",
       "text": [
        "27JJQ5  "
       ]
      },
      {
       "output_type": "stream",
       "stream": "stdout",
       "text": [
        "QLFWJI  "
       ]
      },
      {
       "output_type": "stream",
       "stream": "stdout",
       "text": [
        "QS4HQD  "
       ]
      },
      {
       "output_type": "stream",
       "stream": "stdout",
       "text": [
        "RQUAID  "
       ]
      },
      {
       "output_type": "stream",
       "stream": "stdout",
       "text": [
        "IT8B0W \n"
       ]
      }
     ],
     "prompt_number": 16
    },
    {
     "cell_type": "code",
     "collapsed": false,
     "input": [
      "correct_12s, total_12s = matching.folderMatch(\"Graf12\", dt, matching.ratioMatch, thresholds_nocluster, keypoint, descriptor)"
     ],
     "language": "python",
     "metadata": {},
     "outputs": [
      {
       "output_type": "stream",
       "stream": "stdout",
       "text": [
        "OCHHK9  "
       ]
      },
      {
       "output_type": "stream",
       "stream": "stdout",
       "text": [
        "7XC1K5  "
       ]
      },
      {
       "output_type": "stream",
       "stream": "stdout",
       "text": [
        "2AN1HI  "
       ]
      },
      {
       "output_type": "stream",
       "stream": "stdout",
       "text": [
        "MWQS1Z  "
       ]
      },
      {
       "output_type": "stream",
       "stream": "stdout",
       "text": [
        "PK5SZO  "
       ]
      },
      {
       "output_type": "stream",
       "stream": "stdout",
       "text": [
        "4O4L5W  "
       ]
      },
      {
       "output_type": "stream",
       "stream": "stdout",
       "text": [
        "LQ74U1  "
       ]
      },
      {
       "output_type": "stream",
       "stream": "stdout",
       "text": [
        "KYIXBY  "
       ]
      },
      {
       "output_type": "stream",
       "stream": "stdout",
       "text": [
        "F6422S  "
       ]
      },
      {
       "output_type": "stream",
       "stream": "stdout",
       "text": [
        "JG63PZ  "
       ]
      },
      {
       "output_type": "stream",
       "stream": "stdout",
       "text": [
        "FXRJZO  "
       ]
      },
      {
       "output_type": "stream",
       "stream": "stdout",
       "text": [
        "TA8MO0  "
       ]
      },
      {
       "output_type": "stream",
       "stream": "stdout",
       "text": [
        "2TZMDE  "
       ]
      },
      {
       "output_type": "stream",
       "stream": "stdout",
       "text": [
        "5SH7O6  "
       ]
      },
      {
       "output_type": "stream",
       "stream": "stdout",
       "text": [
        "8TAXBI  "
       ]
      },
      {
       "output_type": "stream",
       "stream": "stdout",
       "text": [
        "JBDL4Z  "
       ]
      },
      {
       "output_type": "stream",
       "stream": "stdout",
       "text": [
        "QU3N93  "
       ]
      },
      {
       "output_type": "stream",
       "stream": "stdout",
       "text": [
        "ELE5MX  "
       ]
      },
      {
       "output_type": "stream",
       "stream": "stdout",
       "text": [
        "DRKLX6  "
       ]
      },
      {
       "output_type": "stream",
       "stream": "stdout",
       "text": [
        "4ZQ6YT  "
       ]
      },
      {
       "output_type": "stream",
       "stream": "stdout",
       "text": [
        "XLO9U9  "
       ]
      },
      {
       "output_type": "stream",
       "stream": "stdout",
       "text": [
        "3EIXQM  "
       ]
      },
      {
       "output_type": "stream",
       "stream": "stdout",
       "text": [
        "NTLAX8  "
       ]
      },
      {
       "output_type": "stream",
       "stream": "stdout",
       "text": [
        "Z99XUY  "
       ]
      },
      {
       "output_type": "stream",
       "stream": "stdout",
       "text": [
        "DFP8SZ  "
       ]
      },
      {
       "output_type": "stream",
       "stream": "stdout",
       "text": [
        "Z93NOF  "
       ]
      },
      {
       "output_type": "stream",
       "stream": "stdout",
       "text": [
        "GFQNNZ  "
       ]
      },
      {
       "output_type": "stream",
       "stream": "stdout",
       "text": [
        "FHACY1  "
       ]
      },
      {
       "output_type": "stream",
       "stream": "stdout",
       "text": [
        "T6LNYY  "
       ]
      },
      {
       "output_type": "stream",
       "stream": "stdout",
       "text": [
        "Z83IKT  "
       ]
      },
      {
       "output_type": "stream",
       "stream": "stdout",
       "text": [
        "HDPLFB  "
       ]
      },
      {
       "output_type": "stream",
       "stream": "stdout",
       "text": [
        "2VMQFM  "
       ]
      },
      {
       "output_type": "stream",
       "stream": "stdout",
       "text": [
        "OPXAGW  "
       ]
      },
      {
       "output_type": "stream",
       "stream": "stdout",
       "text": [
        "CQW8XB  "
       ]
      },
      {
       "output_type": "stream",
       "stream": "stdout",
       "text": [
        "KIS46N  "
       ]
      },
      {
       "output_type": "stream",
       "stream": "stdout",
       "text": [
        "VVR37N  "
       ]
      },
      {
       "output_type": "stream",
       "stream": "stdout",
       "text": [
        "X2MCKJ  "
       ]
      },
      {
       "output_type": "stream",
       "stream": "stdout",
       "text": [
        "G10HNZ  "
       ]
      },
      {
       "output_type": "stream",
       "stream": "stdout",
       "text": [
        "U1U6GS  "
       ]
      },
      {
       "output_type": "stream",
       "stream": "stdout",
       "text": [
        "L68J33  "
       ]
      },
      {
       "output_type": "stream",
       "stream": "stdout",
       "text": [
        "VWQ8MV  "
       ]
      },
      {
       "output_type": "stream",
       "stream": "stdout",
       "text": [
        "Q0VUH2  "
       ]
      },
      {
       "output_type": "stream",
       "stream": "stdout",
       "text": [
        "IMCCMI  "
       ]
      },
      {
       "output_type": "stream",
       "stream": "stdout",
       "text": [
        "E33YPU  "
       ]
      },
      {
       "output_type": "stream",
       "stream": "stdout",
       "text": [
        "96VMT6  "
       ]
      },
      {
       "output_type": "stream",
       "stream": "stdout",
       "text": [
        "YSNSTZ  "
       ]
      },
      {
       "output_type": "stream",
       "stream": "stdout",
       "text": [
        "QD92AU  "
       ]
      },
      {
       "output_type": "stream",
       "stream": "stdout",
       "text": [
        "OKS1XB  "
       ]
      },
      {
       "output_type": "stream",
       "stream": "stdout",
       "text": [
        "VTDHU5  "
       ]
      },
      {
       "output_type": "stream",
       "stream": "stdout",
       "text": [
        "3Z7S3I  "
       ]
      },
      {
       "output_type": "stream",
       "stream": "stdout",
       "text": [
        "76E40X  "
       ]
      },
      {
       "output_type": "stream",
       "stream": "stdout",
       "text": [
        "70FF02  "
       ]
      },
      {
       "output_type": "stream",
       "stream": "stdout",
       "text": [
        "PP6WEG  "
       ]
      },
      {
       "output_type": "stream",
       "stream": "stdout",
       "text": [
        "CIGOTD  "
       ]
      },
      {
       "output_type": "stream",
       "stream": "stdout",
       "text": [
        "QNB106  "
       ]
      },
      {
       "output_type": "stream",
       "stream": "stdout",
       "text": [
        "UEZA9D  "
       ]
      },
      {
       "output_type": "stream",
       "stream": "stdout",
       "text": [
        "TWZ0GQ  "
       ]
      },
      {
       "output_type": "stream",
       "stream": "stdout",
       "text": [
        "W9AG4D  "
       ]
      },
      {
       "output_type": "stream",
       "stream": "stdout",
       "text": [
        "4B6MLJ  "
       ]
      },
      {
       "output_type": "stream",
       "stream": "stdout",
       "text": [
        "DAIBGB  "
       ]
      },
      {
       "output_type": "stream",
       "stream": "stdout",
       "text": [
        "X0UHFC  "
       ]
      },
      {
       "output_type": "stream",
       "stream": "stdout",
       "text": [
        "W5SOWO  "
       ]
      },
      {
       "output_type": "stream",
       "stream": "stdout",
       "text": [
        "VVRL7E  "
       ]
      },
      {
       "output_type": "stream",
       "stream": "stdout",
       "text": [
        "R0MMOF  "
       ]
      },
      {
       "output_type": "stream",
       "stream": "stdout",
       "text": [
        "383WI6  "
       ]
      },
      {
       "output_type": "stream",
       "stream": "stdout",
       "text": [
        "4SEFPT  "
       ]
      },
      {
       "output_type": "stream",
       "stream": "stdout",
       "text": [
        "2SYOBL  "
       ]
      },
      {
       "output_type": "stream",
       "stream": "stdout",
       "text": [
        "TML58Y  "
       ]
      },
      {
       "output_type": "stream",
       "stream": "stdout",
       "text": [
        "D49HB2  "
       ]
      },
      {
       "output_type": "stream",
       "stream": "stdout",
       "text": [
        "K5YE1J  "
       ]
      },
      {
       "output_type": "stream",
       "stream": "stdout",
       "text": [
        "OPJCCQ  "
       ]
      },
      {
       "output_type": "stream",
       "stream": "stdout",
       "text": [
        "91EXN0  "
       ]
      },
      {
       "output_type": "stream",
       "stream": "stdout",
       "text": [
        "QDP3J9  "
       ]
      },
      {
       "output_type": "stream",
       "stream": "stdout",
       "text": [
        "LSKJDE  "
       ]
      },
      {
       "output_type": "stream",
       "stream": "stdout",
       "text": [
        "7KEYEG  "
       ]
      },
      {
       "output_type": "stream",
       "stream": "stdout",
       "text": [
        "FU7DMT  "
       ]
      },
      {
       "output_type": "stream",
       "stream": "stdout",
       "text": [
        "ZGLOLD  "
       ]
      },
      {
       "output_type": "stream",
       "stream": "stdout",
       "text": [
        "GZSAJ0  "
       ]
      },
      {
       "output_type": "stream",
       "stream": "stdout",
       "text": [
        "GDDC0F  "
       ]
      },
      {
       "output_type": "stream",
       "stream": "stdout",
       "text": [
        "U2Y9UQ  "
       ]
      },
      {
       "output_type": "stream",
       "stream": "stdout",
       "text": [
        "VR4WNG  "
       ]
      },
      {
       "output_type": "stream",
       "stream": "stdout",
       "text": [
        "ZIV93Y  "
       ]
      },
      {
       "output_type": "stream",
       "stream": "stdout",
       "text": [
        "RYOOPY  "
       ]
      },
      {
       "output_type": "stream",
       "stream": "stdout",
       "text": [
        "4ORCO2  "
       ]
      },
      {
       "output_type": "stream",
       "stream": "stdout",
       "text": [
        "YLQE6L  "
       ]
      },
      {
       "output_type": "stream",
       "stream": "stdout",
       "text": [
        "1RYU4Y  "
       ]
      },
      {
       "output_type": "stream",
       "stream": "stdout",
       "text": [
        "DC9N99  "
       ]
      },
      {
       "output_type": "stream",
       "stream": "stdout",
       "text": [
        "WO3WXP  "
       ]
      },
      {
       "output_type": "stream",
       "stream": "stdout",
       "text": [
        "X3D77A  "
       ]
      },
      {
       "output_type": "stream",
       "stream": "stdout",
       "text": [
        "ADQIFN  "
       ]
      },
      {
       "output_type": "stream",
       "stream": "stdout",
       "text": [
        "UM6Z7W  "
       ]
      },
      {
       "output_type": "stream",
       "stream": "stdout",
       "text": [
        "FQ8U3R  "
       ]
      },
      {
       "output_type": "stream",
       "stream": "stdout",
       "text": [
        "R2VP7H  "
       ]
      },
      {
       "output_type": "stream",
       "stream": "stdout",
       "text": [
        "CVYUVZ  "
       ]
      },
      {
       "output_type": "stream",
       "stream": "stdout",
       "text": [
        "7385JJ  "
       ]
      },
      {
       "output_type": "stream",
       "stream": "stdout",
       "text": [
        "K0YKI0  "
       ]
      },
      {
       "output_type": "stream",
       "stream": "stdout",
       "text": [
        "O2Y41X  "
       ]
      },
      {
       "output_type": "stream",
       "stream": "stdout",
       "text": [
        "EWUMMJ  "
       ]
      },
      {
       "output_type": "stream",
       "stream": "stdout",
       "text": [
        "M3T49D  "
       ]
      },
      {
       "output_type": "stream",
       "stream": "stdout",
       "text": [
        "XGQUPY \n"
       ]
      }
     ],
     "prompt_number": 17
    },
    {
     "cell_type": "code",
     "collapsed": false,
     "input": [
      "correct_13s, total_13s = matching.folderMatch(\"Graf\", dt, matching.ratioMatch, thresholds_nocluster, keypoint, descriptor)"
     ],
     "language": "python",
     "metadata": {},
     "outputs": [
      {
       "output_type": "stream",
       "stream": "stdout",
       "text": [
        "3A4O9O  "
       ]
      },
      {
       "output_type": "stream",
       "stream": "stdout",
       "text": [
        "PTY26L  "
       ]
      },
      {
       "output_type": "stream",
       "stream": "stdout",
       "text": [
        "9GR9LR  "
       ]
      },
      {
       "output_type": "stream",
       "stream": "stdout",
       "text": [
        "RVN6CE  "
       ]
      },
      {
       "output_type": "stream",
       "stream": "stdout",
       "text": [
        "562WAS  "
       ]
      },
      {
       "output_type": "stream",
       "stream": "stdout",
       "text": [
        "EWNOIH  "
       ]
      },
      {
       "output_type": "stream",
       "stream": "stdout",
       "text": [
        "NR22QM  "
       ]
      },
      {
       "output_type": "stream",
       "stream": "stdout",
       "text": [
        "S82EMR  "
       ]
      },
      {
       "output_type": "stream",
       "stream": "stdout",
       "text": [
        "O9CB81  "
       ]
      },
      {
       "output_type": "stream",
       "stream": "stdout",
       "text": [
        "TSWGO2  "
       ]
      },
      {
       "output_type": "stream",
       "stream": "stdout",
       "text": [
        "VKRCBU  "
       ]
      },
      {
       "output_type": "stream",
       "stream": "stdout",
       "text": [
        "ZCC15V  "
       ]
      },
      {
       "output_type": "stream",
       "stream": "stdout",
       "text": [
        "RFJ848  "
       ]
      },
      {
       "output_type": "stream",
       "stream": "stdout",
       "text": [
        "DUMA3G  "
       ]
      },
      {
       "output_type": "stream",
       "stream": "stdout",
       "text": [
        "1MQKGP  "
       ]
      },
      {
       "output_type": "stream",
       "stream": "stdout",
       "text": [
        "IY3Y5O  "
       ]
      },
      {
       "output_type": "stream",
       "stream": "stdout",
       "text": [
        "XCX2CD  "
       ]
      },
      {
       "output_type": "stream",
       "stream": "stdout",
       "text": [
        "3IDQXO  "
       ]
      },
      {
       "output_type": "stream",
       "stream": "stdout",
       "text": [
        "RQOWCQ  "
       ]
      },
      {
       "output_type": "stream",
       "stream": "stdout",
       "text": [
        "O15TRA  "
       ]
      },
      {
       "output_type": "stream",
       "stream": "stdout",
       "text": [
        "XJ9KKK  "
       ]
      },
      {
       "output_type": "stream",
       "stream": "stdout",
       "text": [
        "542PL1  "
       ]
      },
      {
       "output_type": "stream",
       "stream": "stdout",
       "text": [
        "CZCLEF  "
       ]
      },
      {
       "output_type": "stream",
       "stream": "stdout",
       "text": [
        "TDYH87  "
       ]
      },
      {
       "output_type": "stream",
       "stream": "stdout",
       "text": [
        "WQJPMT  "
       ]
      },
      {
       "output_type": "stream",
       "stream": "stdout",
       "text": [
        "WCDJ2D  "
       ]
      },
      {
       "output_type": "stream",
       "stream": "stdout",
       "text": [
        "IHYDF1  "
       ]
      },
      {
       "output_type": "stream",
       "stream": "stdout",
       "text": [
        "FUVQJP  "
       ]
      },
      {
       "output_type": "stream",
       "stream": "stdout",
       "text": [
        "0DLYOG  "
       ]
      },
      {
       "output_type": "stream",
       "stream": "stdout",
       "text": [
        "MW3K3B  "
       ]
      },
      {
       "output_type": "stream",
       "stream": "stdout",
       "text": [
        "PJCFDH  "
       ]
      },
      {
       "output_type": "stream",
       "stream": "stdout",
       "text": [
        "C2EQ15  "
       ]
      },
      {
       "output_type": "stream",
       "stream": "stdout",
       "text": [
        "HUZXMQ  "
       ]
      },
      {
       "output_type": "stream",
       "stream": "stdout",
       "text": [
        "D4RXRZ  "
       ]
      },
      {
       "output_type": "stream",
       "stream": "stdout",
       "text": [
        "PIRGK5  "
       ]
      },
      {
       "output_type": "stream",
       "stream": "stdout",
       "text": [
        "FYWEX9  "
       ]
      },
      {
       "output_type": "stream",
       "stream": "stdout",
       "text": [
        "UBCWF5  "
       ]
      },
      {
       "output_type": "stream",
       "stream": "stdout",
       "text": [
        "HYEW9W  "
       ]
      },
      {
       "output_type": "stream",
       "stream": "stdout",
       "text": [
        "XGN2ML  "
       ]
      },
      {
       "output_type": "stream",
       "stream": "stdout",
       "text": [
        "H3HEUH  "
       ]
      },
      {
       "output_type": "stream",
       "stream": "stdout",
       "text": [
        "35X2IT  "
       ]
      },
      {
       "output_type": "stream",
       "stream": "stdout",
       "text": [
        "HAUVGX  "
       ]
      },
      {
       "output_type": "stream",
       "stream": "stdout",
       "text": [
        "ISHKAX  "
       ]
      },
      {
       "output_type": "stream",
       "stream": "stdout",
       "text": [
        "BZOK6R  "
       ]
      },
      {
       "output_type": "stream",
       "stream": "stdout",
       "text": [
        "UB3L9X  "
       ]
      },
      {
       "output_type": "stream",
       "stream": "stdout",
       "text": [
        "XNVCCY  "
       ]
      },
      {
       "output_type": "stream",
       "stream": "stdout",
       "text": [
        "KVXL5M  "
       ]
      },
      {
       "output_type": "stream",
       "stream": "stdout",
       "text": [
        "XUDLLH  "
       ]
      },
      {
       "output_type": "stream",
       "stream": "stdout",
       "text": [
        "TPD3LK  "
       ]
      },
      {
       "output_type": "stream",
       "stream": "stdout",
       "text": [
        "H1TCS2  "
       ]
      },
      {
       "output_type": "stream",
       "stream": "stdout",
       "text": [
        "E1XXB8  "
       ]
      },
      {
       "output_type": "stream",
       "stream": "stdout",
       "text": [
        "OOA3ZR  "
       ]
      },
      {
       "output_type": "stream",
       "stream": "stdout",
       "text": [
        "F8U6CT  "
       ]
      },
      {
       "output_type": "stream",
       "stream": "stdout",
       "text": [
        "2J97FA  "
       ]
      },
      {
       "output_type": "stream",
       "stream": "stdout",
       "text": [
        "6R1RXH  "
       ]
      },
      {
       "output_type": "stream",
       "stream": "stdout",
       "text": [
        "EDJ1KC  "
       ]
      },
      {
       "output_type": "stream",
       "stream": "stdout",
       "text": [
        "T92T7T  "
       ]
      },
      {
       "output_type": "stream",
       "stream": "stdout",
       "text": [
        "MZFLCH  "
       ]
      },
      {
       "output_type": "stream",
       "stream": "stdout",
       "text": [
        "38QOT5  "
       ]
      },
      {
       "output_type": "stream",
       "stream": "stdout",
       "text": [
        "JZZN5K  "
       ]
      },
      {
       "output_type": "stream",
       "stream": "stdout",
       "text": [
        "PYYI23  "
       ]
      },
      {
       "output_type": "stream",
       "stream": "stdout",
       "text": [
        "O6HAJN  "
       ]
      },
      {
       "output_type": "stream",
       "stream": "stdout",
       "text": [
        "T8L1EG  "
       ]
      },
      {
       "output_type": "stream",
       "stream": "stdout",
       "text": [
        "U3CJNX  "
       ]
      },
      {
       "output_type": "stream",
       "stream": "stdout",
       "text": [
        "MXV0X5  "
       ]
      },
      {
       "output_type": "stream",
       "stream": "stdout",
       "text": [
        "BAY8G4  "
       ]
      },
      {
       "output_type": "stream",
       "stream": "stdout",
       "text": [
        "UAM75G  "
       ]
      },
      {
       "output_type": "stream",
       "stream": "stdout",
       "text": [
        "FWAFM1  "
       ]
      },
      {
       "output_type": "stream",
       "stream": "stdout",
       "text": [
        "V8TX9L  "
       ]
      },
      {
       "output_type": "stream",
       "stream": "stdout",
       "text": [
        "5PEZPU  "
       ]
      },
      {
       "output_type": "stream",
       "stream": "stdout",
       "text": [
        "41YD65  "
       ]
      },
      {
       "output_type": "stream",
       "stream": "stdout",
       "text": [
        "8XLLJQ  "
       ]
      },
      {
       "output_type": "stream",
       "stream": "stdout",
       "text": [
        "XHUH5A  "
       ]
      },
      {
       "output_type": "stream",
       "stream": "stdout",
       "text": [
        "X8I9KB  "
       ]
      },
      {
       "output_type": "stream",
       "stream": "stdout",
       "text": [
        "HKF38K  "
       ]
      },
      {
       "output_type": "stream",
       "stream": "stdout",
       "text": [
        "LQQ2HZ  "
       ]
      },
      {
       "output_type": "stream",
       "stream": "stdout",
       "text": [
        "1YEYQ6  "
       ]
      },
      {
       "output_type": "stream",
       "stream": "stdout",
       "text": [
        "72P2UE  "
       ]
      },
      {
       "output_type": "stream",
       "stream": "stdout",
       "text": [
        "78OF3Q  "
       ]
      },
      {
       "output_type": "stream",
       "stream": "stdout",
       "text": [
        "0VSXRN  "
       ]
      },
      {
       "output_type": "stream",
       "stream": "stdout",
       "text": [
        "VS0EZC  "
       ]
      },
      {
       "output_type": "stream",
       "stream": "stdout",
       "text": [
        "KB3CO0  "
       ]
      },
      {
       "output_type": "stream",
       "stream": "stdout",
       "text": [
        "4J7TD2  "
       ]
      },
      {
       "output_type": "stream",
       "stream": "stdout",
       "text": [
        "UD8N1D  "
       ]
      },
      {
       "output_type": "stream",
       "stream": "stdout",
       "text": [
        "UNFA2M  "
       ]
      },
      {
       "output_type": "stream",
       "stream": "stdout",
       "text": [
        "R9FV94  "
       ]
      },
      {
       "output_type": "stream",
       "stream": "stdout",
       "text": [
        "UPB0Q8  "
       ]
      },
      {
       "output_type": "stream",
       "stream": "stdout",
       "text": [
        "6GV7M7  "
       ]
      },
      {
       "output_type": "stream",
       "stream": "stdout",
       "text": [
        "MZUM0G  "
       ]
      },
      {
       "output_type": "stream",
       "stream": "stdout",
       "text": [
        "79KPO8  "
       ]
      },
      {
       "output_type": "stream",
       "stream": "stdout",
       "text": [
        "SJP2Z0  "
       ]
      },
      {
       "output_type": "stream",
       "stream": "stdout",
       "text": [
        "SURPHD  "
       ]
      },
      {
       "output_type": "stream",
       "stream": "stdout",
       "text": [
        "1L7BYR  "
       ]
      },
      {
       "output_type": "stream",
       "stream": "stdout",
       "text": [
        "IYHO8Q  "
       ]
      },
      {
       "output_type": "stream",
       "stream": "stdout",
       "text": [
        "WDWYD5  "
       ]
      },
      {
       "output_type": "stream",
       "stream": "stdout",
       "text": [
        "3DSYC4  "
       ]
      },
      {
       "output_type": "stream",
       "stream": "stdout",
       "text": [
        "VVOQP5  "
       ]
      },
      {
       "output_type": "stream",
       "stream": "stdout",
       "text": [
        "K3WHRE  "
       ]
      },
      {
       "output_type": "stream",
       "stream": "stdout",
       "text": [
        "DWNJKF  "
       ]
      },
      {
       "output_type": "stream",
       "stream": "stdout",
       "text": [
        "GSHL1A \n"
       ]
      }
     ],
     "prompt_number": 18
    },
    {
     "cell_type": "code",
     "collapsed": false,
     "input": [
      "correct_14s, total_14s = matching.folderMatch(\"Graf14\", dt, matching.ratioMatch, thresholds_nocluster, keypoint, descriptor)"
     ],
     "language": "python",
     "metadata": {},
     "outputs": [
      {
       "output_type": "stream",
       "stream": "stdout",
       "text": [
        "SW7I21  "
       ]
      },
      {
       "output_type": "stream",
       "stream": "stdout",
       "text": [
        "RCWNS3  "
       ]
      },
      {
       "output_type": "stream",
       "stream": "stdout",
       "text": [
        "0W55CC  "
       ]
      },
      {
       "output_type": "stream",
       "stream": "stdout",
       "text": [
        "DI3KD0  "
       ]
      },
      {
       "output_type": "stream",
       "stream": "stdout",
       "text": [
        "H12W3V  "
       ]
      },
      {
       "output_type": "stream",
       "stream": "stdout",
       "text": [
        "MBIPZU  "
       ]
      },
      {
       "output_type": "stream",
       "stream": "stdout",
       "text": [
        "8JSR5T  "
       ]
      },
      {
       "output_type": "stream",
       "stream": "stdout",
       "text": [
        "9KBEX2  "
       ]
      },
      {
       "output_type": "stream",
       "stream": "stdout",
       "text": [
        "LS281K  "
       ]
      },
      {
       "output_type": "stream",
       "stream": "stdout",
       "text": [
        "RWBC6Z  "
       ]
      },
      {
       "output_type": "stream",
       "stream": "stdout",
       "text": [
        "T0SH6N  "
       ]
      },
      {
       "output_type": "stream",
       "stream": "stdout",
       "text": [
        "9BI5XD  "
       ]
      },
      {
       "output_type": "stream",
       "stream": "stdout",
       "text": [
        "S6YS5Z  "
       ]
      },
      {
       "output_type": "stream",
       "stream": "stdout",
       "text": [
        "YNPHGE  "
       ]
      },
      {
       "output_type": "stream",
       "stream": "stdout",
       "text": [
        "6U3NU8  "
       ]
      },
      {
       "output_type": "stream",
       "stream": "stdout",
       "text": [
        "B8JI3H  "
       ]
      },
      {
       "output_type": "stream",
       "stream": "stdout",
       "text": [
        "ESOTZD  "
       ]
      },
      {
       "output_type": "stream",
       "stream": "stdout",
       "text": [
        "OASSXD  "
       ]
      },
      {
       "output_type": "stream",
       "stream": "stdout",
       "text": [
        "60UD54  "
       ]
      },
      {
       "output_type": "stream",
       "stream": "stdout",
       "text": [
        "3G22Z0  "
       ]
      },
      {
       "output_type": "stream",
       "stream": "stdout",
       "text": [
        "T2J8JB  "
       ]
      },
      {
       "output_type": "stream",
       "stream": "stdout",
       "text": [
        "MSVG85  "
       ]
      },
      {
       "output_type": "stream",
       "stream": "stdout",
       "text": [
        "ABXTUY  "
       ]
      },
      {
       "output_type": "stream",
       "stream": "stdout",
       "text": [
        "QP6Y2O  "
       ]
      },
      {
       "output_type": "stream",
       "stream": "stdout",
       "text": [
        "2FGUS5  "
       ]
      },
      {
       "output_type": "stream",
       "stream": "stdout",
       "text": [
        "ITV49O  "
       ]
      },
      {
       "output_type": "stream",
       "stream": "stdout",
       "text": [
        "K238M9  "
       ]
      },
      {
       "output_type": "stream",
       "stream": "stdout",
       "text": [
        "VBNKTR  "
       ]
      },
      {
       "output_type": "stream",
       "stream": "stdout",
       "text": [
        "GGAY1C  "
       ]
      },
      {
       "output_type": "stream",
       "stream": "stdout",
       "text": [
        "E2JLEB  "
       ]
      },
      {
       "output_type": "stream",
       "stream": "stdout",
       "text": [
        "DOHCC7  "
       ]
      },
      {
       "output_type": "stream",
       "stream": "stdout",
       "text": [
        "87OWO5  "
       ]
      },
      {
       "output_type": "stream",
       "stream": "stdout",
       "text": [
        "9MIOUA  "
       ]
      },
      {
       "output_type": "stream",
       "stream": "stdout",
       "text": [
        "XP20F7  "
       ]
      },
      {
       "output_type": "stream",
       "stream": "stdout",
       "text": [
        "WB5VHH  "
       ]
      },
      {
       "output_type": "stream",
       "stream": "stdout",
       "text": [
        "Z0ZAMK  "
       ]
      },
      {
       "output_type": "stream",
       "stream": "stdout",
       "text": [
        "1V1M5F  "
       ]
      },
      {
       "output_type": "stream",
       "stream": "stdout",
       "text": [
        "0545GS  "
       ]
      },
      {
       "output_type": "stream",
       "stream": "stdout",
       "text": [
        "YKYKEY  "
       ]
      },
      {
       "output_type": "stream",
       "stream": "stdout",
       "text": [
        "K84OGK  "
       ]
      },
      {
       "output_type": "stream",
       "stream": "stdout",
       "text": [
        "PQXGZ5  "
       ]
      },
      {
       "output_type": "stream",
       "stream": "stdout",
       "text": [
        "2TDJE9  "
       ]
      },
      {
       "output_type": "stream",
       "stream": "stdout",
       "text": [
        "DYQMBW  "
       ]
      },
      {
       "output_type": "stream",
       "stream": "stdout",
       "text": [
        "Y27N3K  "
       ]
      },
      {
       "output_type": "stream",
       "stream": "stdout",
       "text": [
        "HEA74J  "
       ]
      },
      {
       "output_type": "stream",
       "stream": "stdout",
       "text": [
        "BNFCG1  "
       ]
      },
      {
       "output_type": "stream",
       "stream": "stdout",
       "text": [
        "FNMTO6  "
       ]
      },
      {
       "output_type": "stream",
       "stream": "stdout",
       "text": [
        "DKTH7Z  "
       ]
      },
      {
       "output_type": "stream",
       "stream": "stdout",
       "text": [
        "B4WY06  "
       ]
      },
      {
       "output_type": "stream",
       "stream": "stdout",
       "text": [
        "C2SPXZ  "
       ]
      },
      {
       "output_type": "stream",
       "stream": "stdout",
       "text": [
        "EM8TXJ  "
       ]
      },
      {
       "output_type": "stream",
       "stream": "stdout",
       "text": [
        "0QN1PE  "
       ]
      },
      {
       "output_type": "stream",
       "stream": "stdout",
       "text": [
        "0KJPTG  "
       ]
      },
      {
       "output_type": "stream",
       "stream": "stdout",
       "text": [
        "XH9G70  "
       ]
      },
      {
       "output_type": "stream",
       "stream": "stdout",
       "text": [
        "NCMKCS  "
       ]
      },
      {
       "output_type": "stream",
       "stream": "stdout",
       "text": [
        "D9MB5H  "
       ]
      },
      {
       "output_type": "stream",
       "stream": "stdout",
       "text": [
        "619KYN  "
       ]
      },
      {
       "output_type": "stream",
       "stream": "stdout",
       "text": [
        "2LD1SM  "
       ]
      },
      {
       "output_type": "stream",
       "stream": "stdout",
       "text": [
        "8J3XM0  "
       ]
      },
      {
       "output_type": "stream",
       "stream": "stdout",
       "text": [
        "K2I0XW  "
       ]
      },
      {
       "output_type": "stream",
       "stream": "stdout",
       "text": [
        "UE0PTQ  "
       ]
      },
      {
       "output_type": "stream",
       "stream": "stdout",
       "text": [
        "V8A1QQ  "
       ]
      },
      {
       "output_type": "stream",
       "stream": "stdout",
       "text": [
        "Q6W94A  "
       ]
      },
      {
       "output_type": "stream",
       "stream": "stdout",
       "text": [
        "7UTEGW  "
       ]
      },
      {
       "output_type": "stream",
       "stream": "stdout",
       "text": [
        "TR8UAI  "
       ]
      },
      {
       "output_type": "stream",
       "stream": "stdout",
       "text": [
        "G89JT4  "
       ]
      },
      {
       "output_type": "stream",
       "stream": "stdout",
       "text": [
        "IPIGM6  "
       ]
      },
      {
       "output_type": "stream",
       "stream": "stdout",
       "text": [
        "36S40D  "
       ]
      },
      {
       "output_type": "stream",
       "stream": "stdout",
       "text": [
        "GOF229  "
       ]
      },
      {
       "output_type": "stream",
       "stream": "stdout",
       "text": [
        "C9URW9  "
       ]
      },
      {
       "output_type": "stream",
       "stream": "stdout",
       "text": [
        "PHP9XS  "
       ]
      },
      {
       "output_type": "stream",
       "stream": "stdout",
       "text": [
        "PQ0DE2  "
       ]
      },
      {
       "output_type": "stream",
       "stream": "stdout",
       "text": [
        "DAAD3G  "
       ]
      },
      {
       "output_type": "stream",
       "stream": "stdout",
       "text": [
        "4D51MW  "
       ]
      },
      {
       "output_type": "stream",
       "stream": "stdout",
       "text": [
        "W127O3  "
       ]
      },
      {
       "output_type": "stream",
       "stream": "stdout",
       "text": [
        "EGL0YW  "
       ]
      },
      {
       "output_type": "stream",
       "stream": "stdout",
       "text": [
        "GZ0QO2  "
       ]
      },
      {
       "output_type": "stream",
       "stream": "stdout",
       "text": [
        "8HEZM4  "
       ]
      },
      {
       "output_type": "stream",
       "stream": "stdout",
       "text": [
        "UU3BRG  "
       ]
      },
      {
       "output_type": "stream",
       "stream": "stdout",
       "text": [
        "LILHQ4  "
       ]
      },
      {
       "output_type": "stream",
       "stream": "stdout",
       "text": [
        "Q8SNSY  "
       ]
      },
      {
       "output_type": "stream",
       "stream": "stdout",
       "text": [
        "YF2F06  "
       ]
      },
      {
       "output_type": "stream",
       "stream": "stdout",
       "text": [
        "TRXLED  "
       ]
      },
      {
       "output_type": "stream",
       "stream": "stdout",
       "text": [
        "TJXY14  "
       ]
      },
      {
       "output_type": "stream",
       "stream": "stdout",
       "text": [
        "RXMB4Q  "
       ]
      },
      {
       "output_type": "stream",
       "stream": "stdout",
       "text": [
        "HPWPT8  "
       ]
      },
      {
       "output_type": "stream",
       "stream": "stdout",
       "text": [
        "38YOSU  "
       ]
      },
      {
       "output_type": "stream",
       "stream": "stdout",
       "text": [
        "U3DSM7  "
       ]
      },
      {
       "output_type": "stream",
       "stream": "stdout",
       "text": [
        "TZYHYQ  "
       ]
      },
      {
       "output_type": "stream",
       "stream": "stdout",
       "text": [
        "16CL8H  "
       ]
      },
      {
       "output_type": "stream",
       "stream": "stdout",
       "text": [
        "88DEIV  "
       ]
      },
      {
       "output_type": "stream",
       "stream": "stdout",
       "text": [
        "LQ6TF4  "
       ]
      },
      {
       "output_type": "stream",
       "stream": "stdout",
       "text": [
        "7Y1I1W  "
       ]
      },
      {
       "output_type": "stream",
       "stream": "stdout",
       "text": [
        "IVEW6Z  "
       ]
      },
      {
       "output_type": "stream",
       "stream": "stdout",
       "text": [
        "65OZX8  "
       ]
      },
      {
       "output_type": "stream",
       "stream": "stdout",
       "text": [
        "KK3I52  "
       ]
      },
      {
       "output_type": "stream",
       "stream": "stdout",
       "text": [
        "KRBPHS  "
       ]
      },
      {
       "output_type": "stream",
       "stream": "stdout",
       "text": [
        "HX2Q03  "
       ]
      },
      {
       "output_type": "stream",
       "stream": "stdout",
       "text": [
        "A40ZYE  "
       ]
      },
      {
       "output_type": "stream",
       "stream": "stdout",
       "text": [
        "AOXG9Q \n"
       ]
      }
     ],
     "prompt_number": 19
    },
    {
     "cell_type": "code",
     "collapsed": false,
     "input": [
      "correct_15s, total_15s = matching.folderMatch(\"Graf15\", dt, matching.ratioMatch, thresholds_nocluster, keypoint, descriptor)"
     ],
     "language": "python",
     "metadata": {},
     "outputs": [
      {
       "output_type": "stream",
       "stream": "stdout",
       "text": [
        "KTQXF9  "
       ]
      },
      {
       "output_type": "stream",
       "stream": "stdout",
       "text": [
        "0HZWFA  "
       ]
      },
      {
       "output_type": "stream",
       "stream": "stdout",
       "text": [
        "5LJDE1  "
       ]
      },
      {
       "output_type": "stream",
       "stream": "stdout",
       "text": [
        "W39D6N  "
       ]
      },
      {
       "output_type": "stream",
       "stream": "stdout",
       "text": [
        "N4VVH5  "
       ]
      },
      {
       "output_type": "stream",
       "stream": "stdout",
       "text": [
        "1Q34B3  "
       ]
      },
      {
       "output_type": "stream",
       "stream": "stdout",
       "text": [
        "OQASXJ  "
       ]
      },
      {
       "output_type": "stream",
       "stream": "stdout",
       "text": [
        "0OKJI8  "
       ]
      },
      {
       "output_type": "stream",
       "stream": "stdout",
       "text": [
        "IUNHV3  "
       ]
      },
      {
       "output_type": "stream",
       "stream": "stdout",
       "text": [
        "MMQTO4  "
       ]
      },
      {
       "output_type": "stream",
       "stream": "stdout",
       "text": [
        "812G2J  "
       ]
      },
      {
       "output_type": "stream",
       "stream": "stdout",
       "text": [
        "UNYRZM  "
       ]
      },
      {
       "output_type": "stream",
       "stream": "stdout",
       "text": [
        "1JVGMW  "
       ]
      },
      {
       "output_type": "stream",
       "stream": "stdout",
       "text": [
        "QX5DMF  "
       ]
      },
      {
       "output_type": "stream",
       "stream": "stdout",
       "text": [
        "GH0WCQ  "
       ]
      },
      {
       "output_type": "stream",
       "stream": "stdout",
       "text": [
        "QMT5RJ  "
       ]
      },
      {
       "output_type": "stream",
       "stream": "stdout",
       "text": [
        "HBBV0A  "
       ]
      },
      {
       "output_type": "stream",
       "stream": "stdout",
       "text": [
        "G06QPT  "
       ]
      },
      {
       "output_type": "stream",
       "stream": "stdout",
       "text": [
        "32PLN6  "
       ]
      },
      {
       "output_type": "stream",
       "stream": "stdout",
       "text": [
        "E0UE3L  "
       ]
      },
      {
       "output_type": "stream",
       "stream": "stdout",
       "text": [
        "2FDRO5  "
       ]
      },
      {
       "output_type": "stream",
       "stream": "stdout",
       "text": [
        "HN97LS  "
       ]
      },
      {
       "output_type": "stream",
       "stream": "stdout",
       "text": [
        "CYXPXN  "
       ]
      },
      {
       "output_type": "stream",
       "stream": "stdout",
       "text": [
        "W8EPAX  "
       ]
      },
      {
       "output_type": "stream",
       "stream": "stdout",
       "text": [
        "FMJEN7  "
       ]
      },
      {
       "output_type": "stream",
       "stream": "stdout",
       "text": [
        "ABWRQ1  "
       ]
      },
      {
       "output_type": "stream",
       "stream": "stdout",
       "text": [
        "7UF7NS  "
       ]
      },
      {
       "output_type": "stream",
       "stream": "stdout",
       "text": [
        "TV1YZR  "
       ]
      },
      {
       "output_type": "stream",
       "stream": "stdout",
       "text": [
        "BZRE8R  "
       ]
      },
      {
       "output_type": "stream",
       "stream": "stdout",
       "text": [
        "9VRGJE  "
       ]
      },
      {
       "output_type": "stream",
       "stream": "stdout",
       "text": [
        "2CFYB5  "
       ]
      },
      {
       "output_type": "stream",
       "stream": "stdout",
       "text": [
        "CJ7DLZ  "
       ]
      },
      {
       "output_type": "stream",
       "stream": "stdout",
       "text": [
        "7PETXZ  "
       ]
      },
      {
       "output_type": "stream",
       "stream": "stdout",
       "text": [
        "I4TQDB  "
       ]
      },
      {
       "output_type": "stream",
       "stream": "stdout",
       "text": [
        "JMJ1HC  "
       ]
      },
      {
       "output_type": "stream",
       "stream": "stdout",
       "text": [
        "7TZ9IK  "
       ]
      },
      {
       "output_type": "stream",
       "stream": "stdout",
       "text": [
        "X948YO  "
       ]
      },
      {
       "output_type": "stream",
       "stream": "stdout",
       "text": [
        "E15P9J  "
       ]
      },
      {
       "output_type": "stream",
       "stream": "stdout",
       "text": [
        "XFMIF8  "
       ]
      },
      {
       "output_type": "stream",
       "stream": "stdout",
       "text": [
        "PFNJUE  "
       ]
      },
      {
       "output_type": "stream",
       "stream": "stdout",
       "text": [
        "DJ88KL  "
       ]
      },
      {
       "output_type": "stream",
       "stream": "stdout",
       "text": [
        "1YYFSU  "
       ]
      },
      {
       "output_type": "stream",
       "stream": "stdout",
       "text": [
        "RNPJAD  "
       ]
      },
      {
       "output_type": "stream",
       "stream": "stdout",
       "text": [
        "LE9OUW  "
       ]
      },
      {
       "output_type": "stream",
       "stream": "stdout",
       "text": [
        "AQ2QNO  "
       ]
      },
      {
       "output_type": "stream",
       "stream": "stdout",
       "text": [
        "7WV7AF  "
       ]
      },
      {
       "output_type": "stream",
       "stream": "stdout",
       "text": [
        "Q8R3N4  "
       ]
      },
      {
       "output_type": "stream",
       "stream": "stdout",
       "text": [
        "ZTZ11J  "
       ]
      },
      {
       "output_type": "stream",
       "stream": "stdout",
       "text": [
        "ZFYBKM  "
       ]
      },
      {
       "output_type": "stream",
       "stream": "stdout",
       "text": [
        "V00PXG  "
       ]
      },
      {
       "output_type": "stream",
       "stream": "stdout",
       "text": [
        "397WNK  "
       ]
      },
      {
       "output_type": "stream",
       "stream": "stdout",
       "text": [
        "V20AGE  "
       ]
      },
      {
       "output_type": "stream",
       "stream": "stdout",
       "text": [
        "XQBH4K  "
       ]
      },
      {
       "output_type": "stream",
       "stream": "stdout",
       "text": [
        "3CUY8O  "
       ]
      },
      {
       "output_type": "stream",
       "stream": "stdout",
       "text": [
        "470NTM  "
       ]
      },
      {
       "output_type": "stream",
       "stream": "stdout",
       "text": [
        "02PYC5  "
       ]
      },
      {
       "output_type": "stream",
       "stream": "stdout",
       "text": [
        "W4NXET  "
       ]
      },
      {
       "output_type": "stream",
       "stream": "stdout",
       "text": [
        "3UPM94  "
       ]
      },
      {
       "output_type": "stream",
       "stream": "stdout",
       "text": [
        "ED2AOU  "
       ]
      },
      {
       "output_type": "stream",
       "stream": "stdout",
       "text": [
        "EHETYQ  "
       ]
      },
      {
       "output_type": "stream",
       "stream": "stdout",
       "text": [
        "E6SIYL  "
       ]
      },
      {
       "output_type": "stream",
       "stream": "stdout",
       "text": [
        "BX65KH  "
       ]
      },
      {
       "output_type": "stream",
       "stream": "stdout",
       "text": [
        "S8OZ3F  "
       ]
      },
      {
       "output_type": "stream",
       "stream": "stdout",
       "text": [
        "W6HXYP  "
       ]
      },
      {
       "output_type": "stream",
       "stream": "stdout",
       "text": [
        "1B2CTD  "
       ]
      },
      {
       "output_type": "stream",
       "stream": "stdout",
       "text": [
        "LVB9ML  "
       ]
      },
      {
       "output_type": "stream",
       "stream": "stdout",
       "text": [
        "5H0NU3  "
       ]
      },
      {
       "output_type": "stream",
       "stream": "stdout",
       "text": [
        "T40Z4T  "
       ]
      },
      {
       "output_type": "stream",
       "stream": "stdout",
       "text": [
        "76DT1Y  "
       ]
      },
      {
       "output_type": "stream",
       "stream": "stdout",
       "text": [
        "8PELRW  "
       ]
      },
      {
       "output_type": "stream",
       "stream": "stdout",
       "text": [
        "KPX7RF  "
       ]
      },
      {
       "output_type": "stream",
       "stream": "stdout",
       "text": [
        "DUJ60F  "
       ]
      },
      {
       "output_type": "stream",
       "stream": "stdout",
       "text": [
        "Y2HXOX  "
       ]
      },
      {
       "output_type": "stream",
       "stream": "stdout",
       "text": [
        "5356VC  "
       ]
      },
      {
       "output_type": "stream",
       "stream": "stdout",
       "text": [
        "D069BI  "
       ]
      },
      {
       "output_type": "stream",
       "stream": "stdout",
       "text": [
        "4UL1II  "
       ]
      },
      {
       "output_type": "stream",
       "stream": "stdout",
       "text": [
        "YDFNOR  "
       ]
      },
      {
       "output_type": "stream",
       "stream": "stdout",
       "text": [
        "N7DJ6Z  "
       ]
      },
      {
       "output_type": "stream",
       "stream": "stdout",
       "text": [
        "TCNPAG  "
       ]
      },
      {
       "output_type": "stream",
       "stream": "stdout",
       "text": [
        "PQ24IS  "
       ]
      },
      {
       "output_type": "stream",
       "stream": "stdout",
       "text": [
        "EL45H0  "
       ]
      },
      {
       "output_type": "stream",
       "stream": "stdout",
       "text": [
        "FY7PXL  "
       ]
      },
      {
       "output_type": "stream",
       "stream": "stdout",
       "text": [
        "KD3TI6  "
       ]
      },
      {
       "output_type": "stream",
       "stream": "stdout",
       "text": [
        "XNAOJ6  "
       ]
      },
      {
       "output_type": "stream",
       "stream": "stdout",
       "text": [
        "85DGA8  "
       ]
      },
      {
       "output_type": "stream",
       "stream": "stdout",
       "text": [
        "5ITHCY  "
       ]
      },
      {
       "output_type": "stream",
       "stream": "stdout",
       "text": [
        "YLBPS6  "
       ]
      },
      {
       "output_type": "stream",
       "stream": "stdout",
       "text": [
        "XTHJSU  "
       ]
      },
      {
       "output_type": "stream",
       "stream": "stdout",
       "text": [
        "U63JEM  "
       ]
      },
      {
       "output_type": "stream",
       "stream": "stdout",
       "text": [
        "2L1I7H  "
       ]
      },
      {
       "output_type": "stream",
       "stream": "stdout",
       "text": [
        "UW00X4  "
       ]
      },
      {
       "output_type": "stream",
       "stream": "stdout",
       "text": [
        "9X771W  "
       ]
      },
      {
       "output_type": "stream",
       "stream": "stdout",
       "text": [
        "YYMRP9  "
       ]
      },
      {
       "output_type": "stream",
       "stream": "stdout",
       "text": [
        "7VN910  "
       ]
      },
      {
       "output_type": "stream",
       "stream": "stdout",
       "text": [
        "3YDIT1  "
       ]
      },
      {
       "output_type": "stream",
       "stream": "stdout",
       "text": [
        "27JJQ5  "
       ]
      },
      {
       "output_type": "stream",
       "stream": "stdout",
       "text": [
        "QLFWJI  "
       ]
      },
      {
       "output_type": "stream",
       "stream": "stdout",
       "text": [
        "QS4HQD  "
       ]
      },
      {
       "output_type": "stream",
       "stream": "stdout",
       "text": [
        "RQUAID  "
       ]
      },
      {
       "output_type": "stream",
       "stream": "stdout",
       "text": [
        "IT8B0W \n"
       ]
      }
     ],
     "prompt_number": 20
    },
    {
     "cell_type": "code",
     "collapsed": false,
     "input": [
      "# Save data\n",
      "numpy.savez(\"vievportchangedata\", \n",
      "            Ratio_12 = (correct_12s, total_12s), \n",
      "            Ratio_13 = (correct_13s, total_13s), \n",
      "            Ratio_14 = (correct_14s, total_14s), \n",
      "            Ratio_15 = (correct_15s, total_15s), \n",
      "            MMC_12 = (correct_12, total_12), \n",
      "            MMC_13 = (correct_13, total_13), \n",
      "            MMC_14 = (correct_14, total_14), \n",
      "            MMC_15 = (correct_15, total_15), \n",
      "            nb_correspondences_12 = nb_correspondences_12,\n",
      "            nb_correspondences_13 = nb_correspondences_13,\n",
      "            nb_correspondences_14 = nb_correspondences_14,\n",
      "            nb_correspondences_15 = nb_correspondences_15,\n",
      ")"
     ],
     "language": "python",
     "metadata": {},
     "outputs": [],
     "prompt_number": 62
    },
    {
     "cell_type": "code",
     "collapsed": false,
     "input": [
      "# Load data\n",
      "data = numpy.load(\"vievportchangedata.npz\")\n",
      "correct_12s, total_12s = data['Ratio_12']\n",
      "correct_13s, total_13s = data['Ratio_13']\n",
      "correct_14s, total_14s = data['Ratio_14']\n",
      "correct_15s, total_15s = data['Ratio_15']\n",
      "correct_12, total_12 = data['MMC_12']\n",
      "correct_13, total_13 = data['MMC_13']\n",
      "correct_14, total_14 = data['MMC_14']\n",
      "correct_15, total_15 = data['MMC_15']\n",
      "nb_correspondences_12 = data['nb_correspondences_12']\n",
      "nb_correspondences_13 = data['nb_correspondences_13']\n",
      "nb_correspondences_14 = data['nb_correspondences_14']\n",
      "nb_correspondences_15 = data['nb_correspondences_15']"
     ],
     "language": "python",
     "metadata": {},
     "outputs": [],
     "prompt_number": 23
    },
    {
     "cell_type": "code",
     "collapsed": false,
     "input": [
      "#display.accuDetail([correct_12, correct_13, correct_14, correct_15, correct_16], [total_12, total_13, total_14, total_15, total_16], [\"Graf12\", \"Graf13\", \"Graf14\", \"Graf15\", \"Graf16\"], treshold = 50)"
     ],
     "language": "python",
     "metadata": {},
     "outputs": []
    },
    {
     "cell_type": "code",
     "collapsed": false,
     "input": [
      "display.comparePlot(\n",
      "    [correct_12, correct_13, correct_14, correct_15],\n",
      "    [correct_12s, correct_13s, correct_14s, correct_15s],\n",
      "    [total_12, total_13, total_14, total_15],\n",
      "    [total_12s, total_13s, total_14s, total_15s],\n",
      "    [\"S - MMC\", \"M - MMC\", \"L - MMC\", \"XL - MMC\"],\n",
      "    [\"S - Ratio\", \"M - Ratio\", \"L - Ratio\", \"XL - Ratio\"],\n",
      "    nb_correspondences = [nb_correspondences_12, nb_correspondences_13, nb_correspondences_14, nb_correspondences_15],\n",
      "    size = (10,3.5), ylim=(0.0,1.01), xlim=(0.0,0.3), outside = True,\n",
      "    output=\"result_viewpoint.pdf\"\n",
      ")"
     ],
     "language": "python",
     "metadata": {},
     "outputs": [
      {
       "output_type": "display_data",
       "png": "[encoded data removed]"
      }
     ],
     "prompt_number": 61
    },
    {
     "cell_type": "code",
     "collapsed": false,
     "input": [],
     "language": "python",
     "metadata": {},
     "outputs": []
    }
   ],
   "metadata": {}
  }
 ]
}
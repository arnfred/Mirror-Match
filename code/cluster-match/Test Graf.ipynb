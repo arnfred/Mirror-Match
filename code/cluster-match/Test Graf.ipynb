{
 "metadata": {
  "name": "Test Graf"
 },
 "nbformat": 3,
 "nbformat_minor": 0,
 "worksheets": [
  {
   "cells": [
    {
     "cell_type": "code",
     "collapsed": false,
     "input": [
      "#Stupid hack to load files from sibling dir\n",
      "import sys; import os\n",
      "sys.path.insert(0, os.path.abspath('..'))\n",
      "\n",
      "%load_ext autoreload\n",
      "%autoreload 2"
     ],
     "language": "python",
     "metadata": {},
     "outputs": [],
     "prompt_number": 6
    },
    {
     "cell_type": "code",
     "collapsed": false,
     "input": [
      "import fnmatch\n",
      "import os\n",
      "import matching\n",
      "import weightMatrix\n",
      "import display\n",
      "import itertools"
     ],
     "language": "python",
     "metadata": {},
     "outputs": [],
     "prompt_number": 7
    },
    {
     "cell_type": "code",
     "collapsed": false,
     "input": [
      "dt = 5\n",
      "nb_thresholds = 50\n",
      "thresholds_cluster = numpy.linspace(0.8,1.0, nb_thresholds)\n",
      "thresholds_nocluster = numpy.linspace(0.3,0.8, nb_thresholds)\n",
      "thresholds_iso = numpy.linspace(0.4,0.9, nb_thresholds)\n",
      "#thresholds_spectral = numpy.linspace(0.3, 0.8, nb_thresholds)\n",
      "thresholds_spectral = numpy.linspace(0.0, 1.0, nb_thresholds)\n",
      "thresholds_spectralMMC = numpy.linspace(0.3,1.0, nb_thresholds)\n",
      "thresholds_balltree = numpy.linspace(0.3,1.0, nb_thresholds)\n",
      "\n",
      "#tresholds_cluster = numpy.linspace(0.92,1.0, 1)\n",
      "#tresholds_nocluster = numpy.linspace(0.6,0.8, 1)\n",
      "directory = \"Graf\"\n",
      "keypoint = \"SIFT\"\n",
      "descriptor = \"SIFT\"\n",
      "verbose = True"
     ],
     "language": "python",
     "metadata": {},
     "outputs": [],
     "prompt_number": 8
    },
    {
     "cell_type": "code",
     "collapsed": false,
     "input": [
      "correspondences = matching.folderCorrespondences(directory, dt, keypoint, descriptor)\n",
      "nb_correspondences = sum(correspondences)"
     ],
     "language": "python",
     "metadata": {},
     "outputs": [
      {
       "output_type": "stream",
       "stream": "stdout",
       "text": [
        "3A4O9O  "
       ]
      },
      {
       "output_type": "stream",
       "stream": "stdout",
       "text": [
        "PTY26L  "
       ]
      },
      {
       "output_type": "stream",
       "stream": "stdout",
       "text": [
        "9GR9LR  "
       ]
      },
      {
       "output_type": "stream",
       "stream": "stdout",
       "text": [
        "RVN6CE  "
       ]
      },
      {
       "output_type": "stream",
       "stream": "stdout",
       "text": [
        "562WAS  "
       ]
      },
      {
       "output_type": "stream",
       "stream": "stdout",
       "text": [
        "EWNOIH  "
       ]
      },
      {
       "output_type": "stream",
       "stream": "stdout",
       "text": [
        "NR22QM  "
       ]
      },
      {
       "output_type": "stream",
       "stream": "stdout",
       "text": [
        "S82EMR  "
       ]
      },
      {
       "output_type": "stream",
       "stream": "stdout",
       "text": [
        "O9CB81  "
       ]
      },
      {
       "output_type": "stream",
       "stream": "stdout",
       "text": [
        "TSWGO2  "
       ]
      },
      {
       "output_type": "stream",
       "stream": "stdout",
       "text": [
        "VKRCBU  "
       ]
      },
      {
       "output_type": "stream",
       "stream": "stdout",
       "text": [
        "ZCC15V  "
       ]
      },
      {
       "output_type": "stream",
       "stream": "stdout",
       "text": [
        "RFJ848  "
       ]
      },
      {
       "output_type": "stream",
       "stream": "stdout",
       "text": [
        "DUMA3G  "
       ]
      },
      {
       "output_type": "stream",
       "stream": "stdout",
       "text": [
        "1MQKGP  "
       ]
      },
      {
       "output_type": "stream",
       "stream": "stdout",
       "text": [
        "IY3Y5O  "
       ]
      },
      {
       "output_type": "stream",
       "stream": "stdout",
       "text": [
        "XCX2CD  "
       ]
      },
      {
       "output_type": "stream",
       "stream": "stdout",
       "text": [
        "3IDQXO  "
       ]
      },
      {
       "output_type": "stream",
       "stream": "stdout",
       "text": [
        "RQOWCQ  "
       ]
      },
      {
       "output_type": "stream",
       "stream": "stdout",
       "text": [
        "O15TRA  "
       ]
      },
      {
       "output_type": "stream",
       "stream": "stdout",
       "text": [
        "XJ9KKK  "
       ]
      },
      {
       "output_type": "stream",
       "stream": "stdout",
       "text": [
        "542PL1  "
       ]
      },
      {
       "output_type": "stream",
       "stream": "stdout",
       "text": [
        "CZCLEF  "
       ]
      },
      {
       "output_type": "stream",
       "stream": "stdout",
       "text": [
        "TDYH87  "
       ]
      },
      {
       "output_type": "stream",
       "stream": "stdout",
       "text": [
        "WQJPMT  "
       ]
      },
      {
       "output_type": "stream",
       "stream": "stdout",
       "text": [
        "WCDJ2D  "
       ]
      },
      {
       "output_type": "stream",
       "stream": "stdout",
       "text": [
        "IHYDF1  "
       ]
      },
      {
       "output_type": "stream",
       "stream": "stdout",
       "text": [
        "FUVQJP  "
       ]
      },
      {
       "output_type": "stream",
       "stream": "stdout",
       "text": [
        "0DLYOG  "
       ]
      },
      {
       "output_type": "stream",
       "stream": "stdout",
       "text": [
        "MW3K3B  "
       ]
      },
      {
       "output_type": "stream",
       "stream": "stdout",
       "text": [
        "PJCFDH  "
       ]
      },
      {
       "output_type": "stream",
       "stream": "stdout",
       "text": [
        "C2EQ15  "
       ]
      },
      {
       "output_type": "stream",
       "stream": "stdout",
       "text": [
        "HUZXMQ  "
       ]
      },
      {
       "output_type": "stream",
       "stream": "stdout",
       "text": [
        "D4RXRZ  "
       ]
      },
      {
       "output_type": "stream",
       "stream": "stdout",
       "text": [
        "PIRGK5  "
       ]
      },
      {
       "output_type": "stream",
       "stream": "stdout",
       "text": [
        "FYWEX9  "
       ]
      },
      {
       "output_type": "stream",
       "stream": "stdout",
       "text": [
        "UBCWF5  "
       ]
      },
      {
       "output_type": "stream",
       "stream": "stdout",
       "text": [
        "HYEW9W  "
       ]
      },
      {
       "output_type": "stream",
       "stream": "stdout",
       "text": [
        "XGN2ML  "
       ]
      },
      {
       "output_type": "stream",
       "stream": "stdout",
       "text": [
        "H3HEUH  "
       ]
      },
      {
       "output_type": "stream",
       "stream": "stdout",
       "text": [
        "35X2IT  "
       ]
      },
      {
       "output_type": "stream",
       "stream": "stdout",
       "text": [
        "HAUVGX  "
       ]
      },
      {
       "output_type": "stream",
       "stream": "stdout",
       "text": [
        "ISHKAX  "
       ]
      },
      {
       "output_type": "stream",
       "stream": "stdout",
       "text": [
        "BZOK6R  "
       ]
      },
      {
       "output_type": "stream",
       "stream": "stdout",
       "text": [
        "UB3L9X  "
       ]
      },
      {
       "output_type": "stream",
       "stream": "stdout",
       "text": [
        "XNVCCY  "
       ]
      },
      {
       "output_type": "stream",
       "stream": "stdout",
       "text": [
        "KVXL5M  "
       ]
      },
      {
       "output_type": "stream",
       "stream": "stdout",
       "text": [
        "XUDLLH  "
       ]
      },
      {
       "output_type": "stream",
       "stream": "stdout",
       "text": [
        "TPD3LK  "
       ]
      },
      {
       "output_type": "stream",
       "stream": "stdout",
       "text": [
        "H1TCS2  "
       ]
      },
      {
       "output_type": "stream",
       "stream": "stdout",
       "text": [
        "E1XXB8  "
       ]
      },
      {
       "output_type": "stream",
       "stream": "stdout",
       "text": [
        "OOA3ZR  "
       ]
      },
      {
       "output_type": "stream",
       "stream": "stdout",
       "text": [
        "F8U6CT  "
       ]
      },
      {
       "output_type": "stream",
       "stream": "stdout",
       "text": [
        "2J97FA  "
       ]
      },
      {
       "output_type": "stream",
       "stream": "stdout",
       "text": [
        "6R1RXH  "
       ]
      },
      {
       "output_type": "stream",
       "stream": "stdout",
       "text": [
        "EDJ1KC  "
       ]
      },
      {
       "output_type": "stream",
       "stream": "stdout",
       "text": [
        "T92T7T  "
       ]
      },
      {
       "output_type": "stream",
       "stream": "stdout",
       "text": [
        "MZFLCH  "
       ]
      },
      {
       "output_type": "stream",
       "stream": "stdout",
       "text": [
        "38QOT5  "
       ]
      },
      {
       "output_type": "stream",
       "stream": "stdout",
       "text": [
        "JZZN5K  "
       ]
      },
      {
       "output_type": "stream",
       "stream": "stdout",
       "text": [
        "PYYI23  "
       ]
      },
      {
       "output_type": "stream",
       "stream": "stdout",
       "text": [
        "O6HAJN  "
       ]
      },
      {
       "output_type": "stream",
       "stream": "stdout",
       "text": [
        "T8L1EG  "
       ]
      },
      {
       "output_type": "stream",
       "stream": "stdout",
       "text": [
        "U3CJNX  "
       ]
      },
      {
       "output_type": "stream",
       "stream": "stdout",
       "text": [
        "MXV0X5  "
       ]
      },
      {
       "output_type": "stream",
       "stream": "stdout",
       "text": [
        "BAY8G4  "
       ]
      },
      {
       "output_type": "stream",
       "stream": "stdout",
       "text": [
        "UAM75G  "
       ]
      },
      {
       "output_type": "stream",
       "stream": "stdout",
       "text": [
        "FWAFM1  "
       ]
      },
      {
       "output_type": "stream",
       "stream": "stdout",
       "text": [
        "V8TX9L  "
       ]
      },
      {
       "output_type": "stream",
       "stream": "stdout",
       "text": [
        "5PEZPU  "
       ]
      },
      {
       "output_type": "stream",
       "stream": "stdout",
       "text": [
        "41YD65  "
       ]
      },
      {
       "output_type": "stream",
       "stream": "stdout",
       "text": [
        "8XLLJQ  "
       ]
      },
      {
       "output_type": "stream",
       "stream": "stdout",
       "text": [
        "XHUH5A  "
       ]
      },
      {
       "output_type": "stream",
       "stream": "stdout",
       "text": [
        "X8I9KB  "
       ]
      },
      {
       "output_type": "stream",
       "stream": "stdout",
       "text": [
        "HKF38K  "
       ]
      },
      {
       "output_type": "stream",
       "stream": "stdout",
       "text": [
        "LQQ2HZ  "
       ]
      },
      {
       "output_type": "stream",
       "stream": "stdout",
       "text": [
        "1YEYQ6  "
       ]
      },
      {
       "output_type": "stream",
       "stream": "stdout",
       "text": [
        "72P2UE  "
       ]
      },
      {
       "output_type": "stream",
       "stream": "stdout",
       "text": [
        "78OF3Q  "
       ]
      },
      {
       "output_type": "stream",
       "stream": "stdout",
       "text": [
        "0VSXRN  "
       ]
      },
      {
       "output_type": "stream",
       "stream": "stdout",
       "text": [
        "VS0EZC  "
       ]
      },
      {
       "output_type": "stream",
       "stream": "stdout",
       "text": [
        "KB3CO0  "
       ]
      },
      {
       "output_type": "stream",
       "stream": "stdout",
       "text": [
        "4J7TD2  "
       ]
      },
      {
       "output_type": "stream",
       "stream": "stdout",
       "text": [
        "UD8N1D  "
       ]
      },
      {
       "output_type": "stream",
       "stream": "stdout",
       "text": [
        "UNFA2M  "
       ]
      },
      {
       "output_type": "stream",
       "stream": "stdout",
       "text": [
        "R9FV94  "
       ]
      },
      {
       "output_type": "stream",
       "stream": "stdout",
       "text": [
        "UPB0Q8  "
       ]
      },
      {
       "output_type": "stream",
       "stream": "stdout",
       "text": [
        "6GV7M7  "
       ]
      },
      {
       "output_type": "stream",
       "stream": "stdout",
       "text": [
        "MZUM0G  "
       ]
      },
      {
       "output_type": "stream",
       "stream": "stdout",
       "text": [
        "79KPO8  "
       ]
      },
      {
       "output_type": "stream",
       "stream": "stdout",
       "text": [
        "SJP2Z0  "
       ]
      },
      {
       "output_type": "stream",
       "stream": "stdout",
       "text": [
        "SURPHD  "
       ]
      },
      {
       "output_type": "stream",
       "stream": "stdout",
       "text": [
        "1L7BYR  "
       ]
      },
      {
       "output_type": "stream",
       "stream": "stdout",
       "text": [
        "IYHO8Q  "
       ]
      },
      {
       "output_type": "stream",
       "stream": "stdout",
       "text": [
        "WDWYD5  "
       ]
      },
      {
       "output_type": "stream",
       "stream": "stdout",
       "text": [
        "3DSYC4  "
       ]
      },
      {
       "output_type": "stream",
       "stream": "stdout",
       "text": [
        "VVOQP5  "
       ]
      },
      {
       "output_type": "stream",
       "stream": "stdout",
       "text": [
        "K3WHRE  "
       ]
      },
      {
       "output_type": "stream",
       "stream": "stdout",
       "text": [
        "DWNJKF  "
       ]
      },
      {
       "output_type": "stream",
       "stream": "stdout",
       "text": [
        "GSHL1A \n"
       ]
      }
     ],
     "prompt_number": 25
    },
    {
     "cell_type": "code",
     "collapsed": false,
     "input": [
      "nb_correspondences"
     ],
     "language": "python",
     "metadata": {},
     "outputs": [
      {
       "output_type": "pyout",
       "prompt_number": 26,
       "text": [
        "9506"
       ]
      }
     ],
     "prompt_number": 26
    },
    {
     "cell_type": "code",
     "collapsed": false,
     "input": [
      "correct_us, total_us = matching.folderMatch(directory, dt, matching.ratioMatch, thresholds_nocluster, keypoint, descriptor)"
     ],
     "language": "python",
     "metadata": {},
     "outputs": [
      {
       "output_type": "stream",
       "stream": "stdout",
       "text": [
        " 3A4O9O  "
       ]
      },
      {
       "output_type": "stream",
       "stream": "stdout",
       "text": [
        "PTY26L  "
       ]
      },
      {
       "output_type": "stream",
       "stream": "stdout",
       "text": [
        "9GR9LR  "
       ]
      },
      {
       "output_type": "stream",
       "stream": "stdout",
       "text": [
        "RVN6CE  "
       ]
      },
      {
       "output_type": "stream",
       "stream": "stdout",
       "text": [
        "562WAS  "
       ]
      },
      {
       "output_type": "stream",
       "stream": "stdout",
       "text": [
        "EWNOIH  "
       ]
      },
      {
       "output_type": "stream",
       "stream": "stdout",
       "text": [
        "NR22QM  "
       ]
      },
      {
       "output_type": "stream",
       "stream": "stdout",
       "text": [
        "S82EMR  "
       ]
      },
      {
       "output_type": "stream",
       "stream": "stdout",
       "text": [
        "O9CB81  "
       ]
      },
      {
       "output_type": "stream",
       "stream": "stdout",
       "text": [
        "TSWGO2  "
       ]
      },
      {
       "output_type": "stream",
       "stream": "stdout",
       "text": [
        "VKRCBU  "
       ]
      },
      {
       "output_type": "stream",
       "stream": "stdout",
       "text": [
        "ZCC15V  "
       ]
      },
      {
       "output_type": "stream",
       "stream": "stdout",
       "text": [
        "RFJ848  "
       ]
      },
      {
       "output_type": "stream",
       "stream": "stdout",
       "text": [
        "DUMA3G  "
       ]
      },
      {
       "output_type": "stream",
       "stream": "stdout",
       "text": [
        "1MQKGP  "
       ]
      },
      {
       "output_type": "stream",
       "stream": "stdout",
       "text": [
        "IY3Y5O  "
       ]
      },
      {
       "output_type": "stream",
       "stream": "stdout",
       "text": [
        "XCX2CD  "
       ]
      },
      {
       "output_type": "stream",
       "stream": "stdout",
       "text": [
        "3IDQXO  "
       ]
      },
      {
       "output_type": "stream",
       "stream": "stdout",
       "text": [
        "RQOWCQ  "
       ]
      },
      {
       "output_type": "stream",
       "stream": "stdout",
       "text": [
        "O15TRA  "
       ]
      },
      {
       "output_type": "stream",
       "stream": "stdout",
       "text": [
        "XJ9KKK  "
       ]
      },
      {
       "output_type": "stream",
       "stream": "stdout",
       "text": [
        "542PL1  "
       ]
      },
      {
       "output_type": "stream",
       "stream": "stdout",
       "text": [
        "CZCLEF  "
       ]
      },
      {
       "output_type": "stream",
       "stream": "stdout",
       "text": [
        "TDYH87  "
       ]
      },
      {
       "output_type": "stream",
       "stream": "stdout",
       "text": [
        "WQJPMT  "
       ]
      },
      {
       "output_type": "stream",
       "stream": "stdout",
       "text": [
        "WCDJ2D  "
       ]
      },
      {
       "output_type": "stream",
       "stream": "stdout",
       "text": [
        "IHYDF1  "
       ]
      },
      {
       "output_type": "stream",
       "stream": "stdout",
       "text": [
        "FUVQJP  "
       ]
      },
      {
       "output_type": "stream",
       "stream": "stdout",
       "text": [
        "0DLYOG  "
       ]
      },
      {
       "output_type": "stream",
       "stream": "stdout",
       "text": [
        "MW3K3B  "
       ]
      },
      {
       "output_type": "stream",
       "stream": "stdout",
       "text": [
        "PJCFDH  "
       ]
      },
      {
       "output_type": "stream",
       "stream": "stdout",
       "text": [
        "C2EQ15  "
       ]
      },
      {
       "output_type": "stream",
       "stream": "stdout",
       "text": [
        "HUZXMQ  "
       ]
      },
      {
       "output_type": "stream",
       "stream": "stdout",
       "text": [
        "D4RXRZ  "
       ]
      },
      {
       "output_type": "stream",
       "stream": "stdout",
       "text": [
        "PIRGK5  "
       ]
      },
      {
       "output_type": "stream",
       "stream": "stdout",
       "text": [
        "FYWEX9  "
       ]
      },
      {
       "output_type": "stream",
       "stream": "stdout",
       "text": [
        "UBCWF5  "
       ]
      },
      {
       "output_type": "stream",
       "stream": "stdout",
       "text": [
        "HYEW9W  "
       ]
      },
      {
       "output_type": "stream",
       "stream": "stdout",
       "text": [
        "XGN2ML  "
       ]
      },
      {
       "output_type": "stream",
       "stream": "stdout",
       "text": [
        "H3HEUH  "
       ]
      },
      {
       "output_type": "stream",
       "stream": "stdout",
       "text": [
        "35X2IT  "
       ]
      },
      {
       "output_type": "stream",
       "stream": "stdout",
       "text": [
        "HAUVGX  "
       ]
      },
      {
       "output_type": "stream",
       "stream": "stdout",
       "text": [
        "ISHKAX  "
       ]
      },
      {
       "output_type": "stream",
       "stream": "stdout",
       "text": [
        "BZOK6R  "
       ]
      },
      {
       "output_type": "stream",
       "stream": "stdout",
       "text": [
        "UB3L9X  "
       ]
      },
      {
       "output_type": "stream",
       "stream": "stdout",
       "text": [
        "XNVCCY  "
       ]
      },
      {
       "output_type": "stream",
       "stream": "stdout",
       "text": [
        "KVXL5M  "
       ]
      },
      {
       "output_type": "stream",
       "stream": "stdout",
       "text": [
        "XUDLLH  "
       ]
      },
      {
       "output_type": "stream",
       "stream": "stdout",
       "text": [
        "TPD3LK  "
       ]
      },
      {
       "output_type": "stream",
       "stream": "stdout",
       "text": [
        "H1TCS2  "
       ]
      },
      {
       "output_type": "stream",
       "stream": "stdout",
       "text": [
        "E1XXB8  "
       ]
      },
      {
       "output_type": "stream",
       "stream": "stdout",
       "text": [
        "OOA3ZR  "
       ]
      },
      {
       "output_type": "stream",
       "stream": "stdout",
       "text": [
        "F8U6CT  "
       ]
      },
      {
       "output_type": "stream",
       "stream": "stdout",
       "text": [
        "2J97FA  "
       ]
      },
      {
       "output_type": "stream",
       "stream": "stdout",
       "text": [
        "6R1RXH  "
       ]
      },
      {
       "output_type": "stream",
       "stream": "stdout",
       "text": [
        "EDJ1KC  "
       ]
      },
      {
       "output_type": "stream",
       "stream": "stdout",
       "text": [
        "T92T7T  "
       ]
      },
      {
       "output_type": "stream",
       "stream": "stdout",
       "text": [
        "MZFLCH  "
       ]
      },
      {
       "output_type": "stream",
       "stream": "stdout",
       "text": [
        "38QOT5  "
       ]
      },
      {
       "output_type": "stream",
       "stream": "stdout",
       "text": [
        "JZZN5K  "
       ]
      },
      {
       "output_type": "stream",
       "stream": "stdout",
       "text": [
        "PYYI23  "
       ]
      },
      {
       "output_type": "stream",
       "stream": "stdout",
       "text": [
        "O6HAJN  "
       ]
      },
      {
       "output_type": "stream",
       "stream": "stdout",
       "text": [
        "T8L1EG  "
       ]
      },
      {
       "output_type": "stream",
       "stream": "stdout",
       "text": [
        "U3CJNX  "
       ]
      },
      {
       "output_type": "stream",
       "stream": "stdout",
       "text": [
        "MXV0X5  "
       ]
      },
      {
       "output_type": "stream",
       "stream": "stdout",
       "text": [
        "BAY8G4  "
       ]
      },
      {
       "output_type": "stream",
       "stream": "stdout",
       "text": [
        "UAM75G  "
       ]
      },
      {
       "output_type": "stream",
       "stream": "stdout",
       "text": [
        "FWAFM1  "
       ]
      },
      {
       "output_type": "stream",
       "stream": "stdout",
       "text": [
        "V8TX9L  "
       ]
      },
      {
       "output_type": "stream",
       "stream": "stdout",
       "text": [
        "5PEZPU  "
       ]
      },
      {
       "output_type": "stream",
       "stream": "stdout",
       "text": [
        "41YD65  "
       ]
      },
      {
       "output_type": "stream",
       "stream": "stdout",
       "text": [
        "8XLLJQ  "
       ]
      },
      {
       "output_type": "stream",
       "stream": "stdout",
       "text": [
        "XHUH5A  "
       ]
      },
      {
       "output_type": "stream",
       "stream": "stdout",
       "text": [
        "X8I9KB  "
       ]
      },
      {
       "output_type": "stream",
       "stream": "stdout",
       "text": [
        "HKF38K  "
       ]
      },
      {
       "output_type": "stream",
       "stream": "stdout",
       "text": [
        "LQQ2HZ  "
       ]
      },
      {
       "output_type": "stream",
       "stream": "stdout",
       "text": [
        "1YEYQ6  "
       ]
      },
      {
       "output_type": "stream",
       "stream": "stdout",
       "text": [
        "72P2UE  "
       ]
      },
      {
       "output_type": "stream",
       "stream": "stdout",
       "text": [
        "78OF3Q  "
       ]
      },
      {
       "output_type": "stream",
       "stream": "stdout",
       "text": [
        "0VSXRN  "
       ]
      },
      {
       "output_type": "stream",
       "stream": "stdout",
       "text": [
        "VS0EZC  "
       ]
      },
      {
       "output_type": "stream",
       "stream": "stdout",
       "text": [
        "KB3CO0  "
       ]
      },
      {
       "output_type": "stream",
       "stream": "stdout",
       "text": [
        "4J7TD2  "
       ]
      },
      {
       "output_type": "stream",
       "stream": "stdout",
       "text": [
        "UD8N1D  "
       ]
      },
      {
       "output_type": "stream",
       "stream": "stdout",
       "text": [
        "UNFA2M  "
       ]
      },
      {
       "output_type": "stream",
       "stream": "stdout",
       "text": [
        "R9FV94  "
       ]
      },
      {
       "output_type": "stream",
       "stream": "stdout",
       "text": [
        "UPB0Q8  "
       ]
      },
      {
       "output_type": "stream",
       "stream": "stdout",
       "text": [
        "6GV7M7  "
       ]
      },
      {
       "output_type": "stream",
       "stream": "stdout",
       "text": [
        "MZUM0G  "
       ]
      },
      {
       "output_type": "stream",
       "stream": "stdout",
       "text": [
        "79KPO8  "
       ]
      },
      {
       "output_type": "stream",
       "stream": "stdout",
       "text": [
        "SJP2Z0  "
       ]
      },
      {
       "output_type": "stream",
       "stream": "stdout",
       "text": [
        "SURPHD  "
       ]
      },
      {
       "output_type": "stream",
       "stream": "stdout",
       "text": [
        "1L7BYR  "
       ]
      },
      {
       "output_type": "stream",
       "stream": "stdout",
       "text": [
        "IYHO8Q  "
       ]
      },
      {
       "output_type": "stream",
       "stream": "stdout",
       "text": [
        "WDWYD5  "
       ]
      },
      {
       "output_type": "stream",
       "stream": "stdout",
       "text": [
        "3DSYC4  "
       ]
      },
      {
       "output_type": "stream",
       "stream": "stdout",
       "text": [
        "VVOQP5  "
       ]
      },
      {
       "output_type": "stream",
       "stream": "stdout",
       "text": [
        "K3WHRE  "
       ]
      },
      {
       "output_type": "stream",
       "stream": "stdout",
       "text": [
        "DWNJKF  "
       ]
      },
      {
       "output_type": "stream",
       "stream": "stdout",
       "text": [
        "GSHL1A \n"
       ]
      }
     ],
     "prompt_number": 26
    },
    {
     "cell_type": "code",
     "collapsed": false,
     "input": [
      "correct_ms, total_ms = matching.folderMatch(directory, dt, matching.mirrorMatch, thresholds_nocluster, keypoint, descriptor)"
     ],
     "language": "python",
     "metadata": {},
     "outputs": [
      {
       "output_type": "stream",
       "stream": "stdout",
       "text": [
        "3A4O9O  "
       ]
      },
      {
       "output_type": "stream",
       "stream": "stdout",
       "text": [
        "PTY26L  "
       ]
      },
      {
       "output_type": "stream",
       "stream": "stdout",
       "text": [
        "9GR9LR  "
       ]
      },
      {
       "output_type": "stream",
       "stream": "stdout",
       "text": [
        "RVN6CE  "
       ]
      },
      {
       "output_type": "stream",
       "stream": "stdout",
       "text": [
        "562WAS  "
       ]
      },
      {
       "output_type": "stream",
       "stream": "stdout",
       "text": [
        "EWNOIH  "
       ]
      },
      {
       "output_type": "stream",
       "stream": "stdout",
       "text": [
        "NR22QM  "
       ]
      },
      {
       "output_type": "stream",
       "stream": "stdout",
       "text": [
        "S82EMR  "
       ]
      },
      {
       "output_type": "stream",
       "stream": "stdout",
       "text": [
        "O9CB81  "
       ]
      },
      {
       "output_type": "stream",
       "stream": "stdout",
       "text": [
        "TSWGO2  "
       ]
      },
      {
       "output_type": "stream",
       "stream": "stdout",
       "text": [
        "VKRCBU  "
       ]
      },
      {
       "output_type": "stream",
       "stream": "stdout",
       "text": [
        "ZCC15V  "
       ]
      },
      {
       "output_type": "stream",
       "stream": "stdout",
       "text": [
        "RFJ848  "
       ]
      },
      {
       "output_type": "stream",
       "stream": "stdout",
       "text": [
        "DUMA3G  "
       ]
      },
      {
       "output_type": "stream",
       "stream": "stdout",
       "text": [
        "1MQKGP  "
       ]
      },
      {
       "output_type": "stream",
       "stream": "stdout",
       "text": [
        "IY3Y5O  "
       ]
      },
      {
       "output_type": "stream",
       "stream": "stdout",
       "text": [
        "XCX2CD  "
       ]
      },
      {
       "output_type": "stream",
       "stream": "stdout",
       "text": [
        "3IDQXO  "
       ]
      },
      {
       "output_type": "stream",
       "stream": "stdout",
       "text": [
        "RQOWCQ  "
       ]
      },
      {
       "output_type": "stream",
       "stream": "stdout",
       "text": [
        "O15TRA  "
       ]
      },
      {
       "output_type": "stream",
       "stream": "stdout",
       "text": [
        "XJ9KKK  "
       ]
      },
      {
       "output_type": "stream",
       "stream": "stdout",
       "text": [
        "542PL1  "
       ]
      },
      {
       "output_type": "stream",
       "stream": "stdout",
       "text": [
        "CZCLEF  "
       ]
      },
      {
       "output_type": "stream",
       "stream": "stdout",
       "text": [
        "TDYH87  "
       ]
      },
      {
       "output_type": "stream",
       "stream": "stdout",
       "text": [
        "WQJPMT  "
       ]
      },
      {
       "output_type": "stream",
       "stream": "stdout",
       "text": [
        "WCDJ2D  "
       ]
      },
      {
       "output_type": "stream",
       "stream": "stdout",
       "text": [
        "IHYDF1  "
       ]
      },
      {
       "output_type": "stream",
       "stream": "stdout",
       "text": [
        "FUVQJP  "
       ]
      },
      {
       "output_type": "stream",
       "stream": "stdout",
       "text": [
        "0DLYOG  "
       ]
      },
      {
       "output_type": "stream",
       "stream": "stdout",
       "text": [
        "MW3K3B  "
       ]
      },
      {
       "output_type": "stream",
       "stream": "stdout",
       "text": [
        "PJCFDH  "
       ]
      },
      {
       "output_type": "stream",
       "stream": "stdout",
       "text": [
        "C2EQ15  "
       ]
      },
      {
       "output_type": "stream",
       "stream": "stdout",
       "text": [
        "HUZXMQ  "
       ]
      },
      {
       "output_type": "stream",
       "stream": "stdout",
       "text": [
        "D4RXRZ  "
       ]
      },
      {
       "output_type": "stream",
       "stream": "stdout",
       "text": [
        "PIRGK5  "
       ]
      },
      {
       "output_type": "stream",
       "stream": "stdout",
       "text": [
        "FYWEX9  "
       ]
      },
      {
       "output_type": "stream",
       "stream": "stdout",
       "text": [
        "UBCWF5  "
       ]
      },
      {
       "output_type": "stream",
       "stream": "stdout",
       "text": [
        "HYEW9W  "
       ]
      },
      {
       "output_type": "stream",
       "stream": "stdout",
       "text": [
        "XGN2ML  "
       ]
      },
      {
       "output_type": "stream",
       "stream": "stdout",
       "text": [
        "H3HEUH  "
       ]
      },
      {
       "output_type": "stream",
       "stream": "stdout",
       "text": [
        "35X2IT  "
       ]
      },
      {
       "output_type": "stream",
       "stream": "stdout",
       "text": [
        "HAUVGX  "
       ]
      },
      {
       "output_type": "stream",
       "stream": "stdout",
       "text": [
        "ISHKAX  "
       ]
      },
      {
       "output_type": "stream",
       "stream": "stdout",
       "text": [
        "BZOK6R  "
       ]
      },
      {
       "output_type": "stream",
       "stream": "stdout",
       "text": [
        "UB3L9X  "
       ]
      },
      {
       "output_type": "stream",
       "stream": "stdout",
       "text": [
        "XNVCCY  "
       ]
      },
      {
       "output_type": "stream",
       "stream": "stdout",
       "text": [
        "KVXL5M  "
       ]
      },
      {
       "output_type": "stream",
       "stream": "stdout",
       "text": [
        "XUDLLH  "
       ]
      },
      {
       "output_type": "stream",
       "stream": "stdout",
       "text": [
        "TPD3LK  "
       ]
      },
      {
       "output_type": "stream",
       "stream": "stdout",
       "text": [
        "H1TCS2  "
       ]
      },
      {
       "output_type": "stream",
       "stream": "stdout",
       "text": [
        "E1XXB8  "
       ]
      },
      {
       "output_type": "stream",
       "stream": "stdout",
       "text": [
        "OOA3ZR  "
       ]
      },
      {
       "output_type": "stream",
       "stream": "stdout",
       "text": [
        "F8U6CT  "
       ]
      },
      {
       "output_type": "stream",
       "stream": "stdout",
       "text": [
        "2J97FA  "
       ]
      },
      {
       "output_type": "stream",
       "stream": "stdout",
       "text": [
        "6R1RXH  "
       ]
      },
      {
       "output_type": "stream",
       "stream": "stdout",
       "text": [
        "EDJ1KC  "
       ]
      },
      {
       "output_type": "stream",
       "stream": "stdout",
       "text": [
        "T92T7T  "
       ]
      },
      {
       "output_type": "stream",
       "stream": "stdout",
       "text": [
        "MZFLCH  "
       ]
      },
      {
       "output_type": "stream",
       "stream": "stdout",
       "text": [
        "38QOT5  "
       ]
      },
      {
       "output_type": "stream",
       "stream": "stdout",
       "text": [
        "JZZN5K  "
       ]
      },
      {
       "output_type": "stream",
       "stream": "stdout",
       "text": [
        "PYYI23  "
       ]
      },
      {
       "output_type": "stream",
       "stream": "stdout",
       "text": [
        "O6HAJN  "
       ]
      },
      {
       "output_type": "stream",
       "stream": "stdout",
       "text": [
        "T8L1EG  "
       ]
      },
      {
       "output_type": "stream",
       "stream": "stdout",
       "text": [
        "U3CJNX  "
       ]
      },
      {
       "output_type": "stream",
       "stream": "stdout",
       "text": [
        "MXV0X5  "
       ]
      },
      {
       "output_type": "stream",
       "stream": "stdout",
       "text": [
        "BAY8G4  "
       ]
      },
      {
       "output_type": "stream",
       "stream": "stdout",
       "text": [
        "UAM75G  "
       ]
      },
      {
       "output_type": "stream",
       "stream": "stdout",
       "text": [
        "FWAFM1  "
       ]
      },
      {
       "output_type": "stream",
       "stream": "stdout",
       "text": [
        "V8TX9L  "
       ]
      },
      {
       "output_type": "stream",
       "stream": "stdout",
       "text": [
        "5PEZPU  "
       ]
      },
      {
       "output_type": "stream",
       "stream": "stdout",
       "text": [
        "41YD65  "
       ]
      },
      {
       "output_type": "stream",
       "stream": "stdout",
       "text": [
        "8XLLJQ  "
       ]
      },
      {
       "output_type": "stream",
       "stream": "stdout",
       "text": [
        "XHUH5A  "
       ]
      },
      {
       "output_type": "stream",
       "stream": "stdout",
       "text": [
        "X8I9KB  "
       ]
      },
      {
       "output_type": "stream",
       "stream": "stdout",
       "text": [
        "HKF38K  "
       ]
      },
      {
       "output_type": "stream",
       "stream": "stdout",
       "text": [
        "LQQ2HZ  "
       ]
      },
      {
       "output_type": "stream",
       "stream": "stdout",
       "text": [
        "1YEYQ6  "
       ]
      },
      {
       "output_type": "stream",
       "stream": "stdout",
       "text": [
        "72P2UE  "
       ]
      },
      {
       "output_type": "stream",
       "stream": "stdout",
       "text": [
        "78OF3Q  "
       ]
      },
      {
       "output_type": "stream",
       "stream": "stdout",
       "text": [
        "0VSXRN  "
       ]
      },
      {
       "output_type": "stream",
       "stream": "stdout",
       "text": [
        "VS0EZC  "
       ]
      },
      {
       "output_type": "stream",
       "stream": "stdout",
       "text": [
        "KB3CO0  "
       ]
      },
      {
       "output_type": "stream",
       "stream": "stdout",
       "text": [
        "4J7TD2  "
       ]
      },
      {
       "output_type": "stream",
       "stream": "stdout",
       "text": [
        "UD8N1D  "
       ]
      },
      {
       "output_type": "stream",
       "stream": "stdout",
       "text": [
        "UNFA2M  "
       ]
      },
      {
       "output_type": "stream",
       "stream": "stdout",
       "text": [
        "R9FV94  "
       ]
      },
      {
       "output_type": "stream",
       "stream": "stdout",
       "text": [
        "UPB0Q8  "
       ]
      },
      {
       "output_type": "stream",
       "stream": "stdout",
       "text": [
        "6GV7M7  "
       ]
      },
      {
       "output_type": "stream",
       "stream": "stdout",
       "text": [
        "MZUM0G  "
       ]
      },
      {
       "output_type": "stream",
       "stream": "stdout",
       "text": [
        "79KPO8  "
       ]
      },
      {
       "output_type": "stream",
       "stream": "stdout",
       "text": [
        "SJP2Z0  "
       ]
      },
      {
       "output_type": "stream",
       "stream": "stdout",
       "text": [
        "SURPHD  "
       ]
      },
      {
       "output_type": "stream",
       "stream": "stdout",
       "text": [
        "1L7BYR  "
       ]
      },
      {
       "output_type": "stream",
       "stream": "stdout",
       "text": [
        "IYHO8Q  "
       ]
      },
      {
       "output_type": "stream",
       "stream": "stdout",
       "text": [
        "WDWYD5  "
       ]
      },
      {
       "output_type": "stream",
       "stream": "stdout",
       "text": [
        "3DSYC4  "
       ]
      },
      {
       "output_type": "stream",
       "stream": "stdout",
       "text": [
        "VVOQP5  "
       ]
      },
      {
       "output_type": "stream",
       "stream": "stdout",
       "text": [
        "K3WHRE  "
       ]
      },
      {
       "output_type": "stream",
       "stream": "stdout",
       "text": [
        "DWNJKF  "
       ]
      },
      {
       "output_type": "stream",
       "stream": "stdout",
       "text": [
        "GSHL1A \n"
       ]
      }
     ],
     "prompt_number": 10
    },
    {
     "cell_type": "code",
     "collapsed": false,
     "input": [
      "correct_mos, total_mos = matching.folderMatch(directory, dt, matching.mirrorOnlyMatch, thresholds_nocluster, keypoint, descriptor)"
     ],
     "language": "python",
     "metadata": {},
     "outputs": [
      {
       "output_type": "stream",
       "stream": "stdout",
       "text": [
        " 3A4O9O  "
       ]
      },
      {
       "output_type": "stream",
       "stream": "stdout",
       "text": [
        "PTY26L  "
       ]
      },
      {
       "output_type": "stream",
       "stream": "stdout",
       "text": [
        "9GR9LR  "
       ]
      },
      {
       "output_type": "stream",
       "stream": "stdout",
       "text": [
        "RVN6CE  "
       ]
      },
      {
       "output_type": "stream",
       "stream": "stdout",
       "text": [
        "562WAS  "
       ]
      },
      {
       "output_type": "stream",
       "stream": "stdout",
       "text": [
        "EWNOIH  "
       ]
      },
      {
       "output_type": "stream",
       "stream": "stdout",
       "text": [
        "NR22QM  "
       ]
      },
      {
       "output_type": "stream",
       "stream": "stdout",
       "text": [
        "S82EMR  "
       ]
      },
      {
       "output_type": "stream",
       "stream": "stdout",
       "text": [
        "O9CB81  "
       ]
      },
      {
       "output_type": "stream",
       "stream": "stdout",
       "text": [
        "TSWGO2  "
       ]
      },
      {
       "output_type": "stream",
       "stream": "stdout",
       "text": [
        "VKRCBU  "
       ]
      },
      {
       "output_type": "stream",
       "stream": "stdout",
       "text": [
        "ZCC15V  "
       ]
      },
      {
       "output_type": "stream",
       "stream": "stdout",
       "text": [
        "RFJ848  "
       ]
      },
      {
       "output_type": "stream",
       "stream": "stdout",
       "text": [
        "DUMA3G  "
       ]
      },
      {
       "output_type": "stream",
       "stream": "stdout",
       "text": [
        "1MQKGP  "
       ]
      },
      {
       "output_type": "stream",
       "stream": "stdout",
       "text": [
        "IY3Y5O  "
       ]
      },
      {
       "output_type": "stream",
       "stream": "stdout",
       "text": [
        "XCX2CD  "
       ]
      },
      {
       "output_type": "stream",
       "stream": "stdout",
       "text": [
        "3IDQXO  "
       ]
      },
      {
       "output_type": "stream",
       "stream": "stdout",
       "text": [
        "RQOWCQ  "
       ]
      },
      {
       "output_type": "stream",
       "stream": "stdout",
       "text": [
        "O15TRA  "
       ]
      },
      {
       "output_type": "stream",
       "stream": "stdout",
       "text": [
        "XJ9KKK  "
       ]
      },
      {
       "output_type": "stream",
       "stream": "stdout",
       "text": [
        "542PL1  "
       ]
      },
      {
       "output_type": "stream",
       "stream": "stdout",
       "text": [
        "CZCLEF  "
       ]
      },
      {
       "output_type": "stream",
       "stream": "stdout",
       "text": [
        "TDYH87  "
       ]
      },
      {
       "output_type": "stream",
       "stream": "stdout",
       "text": [
        "WQJPMT  "
       ]
      },
      {
       "output_type": "stream",
       "stream": "stdout",
       "text": [
        "WCDJ2D  "
       ]
      },
      {
       "output_type": "stream",
       "stream": "stdout",
       "text": [
        "IHYDF1  "
       ]
      },
      {
       "output_type": "stream",
       "stream": "stdout",
       "text": [
        "FUVQJP  "
       ]
      },
      {
       "output_type": "stream",
       "stream": "stdout",
       "text": [
        "0DLYOG  "
       ]
      },
      {
       "output_type": "stream",
       "stream": "stdout",
       "text": [
        "MW3K3B  "
       ]
      },
      {
       "output_type": "stream",
       "stream": "stdout",
       "text": [
        "PJCFDH  "
       ]
      },
      {
       "output_type": "stream",
       "stream": "stdout",
       "text": [
        "C2EQ15  "
       ]
      },
      {
       "output_type": "stream",
       "stream": "stdout",
       "text": [
        "HUZXMQ  "
       ]
      },
      {
       "output_type": "stream",
       "stream": "stdout",
       "text": [
        "D4RXRZ  "
       ]
      },
      {
       "output_type": "stream",
       "stream": "stdout",
       "text": [
        "PIRGK5  "
       ]
      },
      {
       "output_type": "stream",
       "stream": "stdout",
       "text": [
        "FYWEX9  "
       ]
      },
      {
       "output_type": "stream",
       "stream": "stdout",
       "text": [
        "UBCWF5  "
       ]
      },
      {
       "output_type": "stream",
       "stream": "stdout",
       "text": [
        "HYEW9W  "
       ]
      },
      {
       "output_type": "stream",
       "stream": "stdout",
       "text": [
        "XGN2ML  "
       ]
      },
      {
       "output_type": "stream",
       "stream": "stdout",
       "text": [
        "H3HEUH  "
       ]
      },
      {
       "output_type": "stream",
       "stream": "stdout",
       "text": [
        "35X2IT  "
       ]
      },
      {
       "output_type": "stream",
       "stream": "stdout",
       "text": [
        "HAUVGX  "
       ]
      },
      {
       "output_type": "stream",
       "stream": "stdout",
       "text": [
        "ISHKAX  "
       ]
      },
      {
       "output_type": "stream",
       "stream": "stdout",
       "text": [
        "BZOK6R  "
       ]
      },
      {
       "output_type": "stream",
       "stream": "stdout",
       "text": [
        "UB3L9X  "
       ]
      },
      {
       "output_type": "stream",
       "stream": "stdout",
       "text": [
        "XNVCCY  "
       ]
      },
      {
       "output_type": "stream",
       "stream": "stdout",
       "text": [
        "KVXL5M  "
       ]
      },
      {
       "output_type": "stream",
       "stream": "stdout",
       "text": [
        "XUDLLH  "
       ]
      },
      {
       "output_type": "stream",
       "stream": "stdout",
       "text": [
        "TPD3LK  "
       ]
      },
      {
       "output_type": "stream",
       "stream": "stdout",
       "text": [
        "H1TCS2  "
       ]
      },
      {
       "output_type": "stream",
       "stream": "stdout",
       "text": [
        "E1XXB8  "
       ]
      },
      {
       "output_type": "stream",
       "stream": "stdout",
       "text": [
        "OOA3ZR  "
       ]
      },
      {
       "output_type": "stream",
       "stream": "stdout",
       "text": [
        "F8U6CT  "
       ]
      },
      {
       "output_type": "stream",
       "stream": "stdout",
       "text": [
        "2J97FA  "
       ]
      },
      {
       "output_type": "stream",
       "stream": "stdout",
       "text": [
        "6R1RXH  "
       ]
      },
      {
       "output_type": "stream",
       "stream": "stdout",
       "text": [
        "EDJ1KC  "
       ]
      },
      {
       "output_type": "stream",
       "stream": "stdout",
       "text": [
        "T92T7T  "
       ]
      },
      {
       "output_type": "stream",
       "stream": "stdout",
       "text": [
        "MZFLCH  "
       ]
      },
      {
       "output_type": "stream",
       "stream": "stdout",
       "text": [
        "38QOT5  "
       ]
      },
      {
       "output_type": "stream",
       "stream": "stdout",
       "text": [
        "JZZN5K  "
       ]
      },
      {
       "output_type": "stream",
       "stream": "stdout",
       "text": [
        "PYYI23  "
       ]
      },
      {
       "output_type": "stream",
       "stream": "stdout",
       "text": [
        "O6HAJN  "
       ]
      },
      {
       "output_type": "stream",
       "stream": "stdout",
       "text": [
        "T8L1EG  "
       ]
      },
      {
       "output_type": "stream",
       "stream": "stdout",
       "text": [
        "U3CJNX  "
       ]
      },
      {
       "output_type": "stream",
       "stream": "stdout",
       "text": [
        "MXV0X5  "
       ]
      },
      {
       "output_type": "stream",
       "stream": "stdout",
       "text": [
        "BAY8G4  "
       ]
      },
      {
       "output_type": "stream",
       "stream": "stdout",
       "text": [
        "UAM75G  "
       ]
      },
      {
       "output_type": "stream",
       "stream": "stdout",
       "text": [
        "FWAFM1  "
       ]
      },
      {
       "output_type": "stream",
       "stream": "stdout",
       "text": [
        "V8TX9L  "
       ]
      },
      {
       "output_type": "stream",
       "stream": "stdout",
       "text": [
        "5PEZPU  "
       ]
      },
      {
       "output_type": "stream",
       "stream": "stdout",
       "text": [
        "41YD65  "
       ]
      },
      {
       "output_type": "stream",
       "stream": "stdout",
       "text": [
        "8XLLJQ  "
       ]
      },
      {
       "output_type": "stream",
       "stream": "stdout",
       "text": [
        "XHUH5A  "
       ]
      },
      {
       "output_type": "stream",
       "stream": "stdout",
       "text": [
        "X8I9KB  "
       ]
      },
      {
       "output_type": "stream",
       "stream": "stdout",
       "text": [
        "HKF38K  "
       ]
      },
      {
       "output_type": "stream",
       "stream": "stdout",
       "text": [
        "LQQ2HZ  "
       ]
      },
      {
       "output_type": "stream",
       "stream": "stdout",
       "text": [
        "1YEYQ6  "
       ]
      },
      {
       "output_type": "stream",
       "stream": "stdout",
       "text": [
        "72P2UE  "
       ]
      },
      {
       "output_type": "stream",
       "stream": "stdout",
       "text": [
        "78OF3Q  "
       ]
      },
      {
       "output_type": "stream",
       "stream": "stdout",
       "text": [
        "0VSXRN  "
       ]
      },
      {
       "output_type": "stream",
       "stream": "stdout",
       "text": [
        "VS0EZC  "
       ]
      },
      {
       "output_type": "stream",
       "stream": "stdout",
       "text": [
        "KB3CO0  "
       ]
      },
      {
       "output_type": "stream",
       "stream": "stdout",
       "text": [
        "4J7TD2  "
       ]
      },
      {
       "output_type": "stream",
       "stream": "stdout",
       "text": [
        "UD8N1D  "
       ]
      },
      {
       "output_type": "stream",
       "stream": "stdout",
       "text": [
        "UNFA2M  "
       ]
      },
      {
       "output_type": "stream",
       "stream": "stdout",
       "text": [
        "R9FV94  "
       ]
      },
      {
       "output_type": "stream",
       "stream": "stdout",
       "text": [
        "UPB0Q8  "
       ]
      },
      {
       "output_type": "stream",
       "stream": "stdout",
       "text": [
        "6GV7M7  "
       ]
      },
      {
       "output_type": "stream",
       "stream": "stdout",
       "text": [
        "MZUM0G  "
       ]
      },
      {
       "output_type": "stream",
       "stream": "stdout",
       "text": [
        "79KPO8  "
       ]
      },
      {
       "output_type": "stream",
       "stream": "stdout",
       "text": [
        "SJP2Z0  "
       ]
      },
      {
       "output_type": "stream",
       "stream": "stdout",
       "text": [
        "SURPHD  "
       ]
      },
      {
       "output_type": "stream",
       "stream": "stdout",
       "text": [
        "1L7BYR  "
       ]
      },
      {
       "output_type": "stream",
       "stream": "stdout",
       "text": [
        "IYHO8Q  "
       ]
      },
      {
       "output_type": "stream",
       "stream": "stdout",
       "text": [
        "WDWYD5  "
       ]
      },
      {
       "output_type": "stream",
       "stream": "stdout",
       "text": [
        "3DSYC4  "
       ]
      },
      {
       "output_type": "stream",
       "stream": "stdout",
       "text": [
        "VVOQP5  "
       ]
      },
      {
       "output_type": "stream",
       "stream": "stdout",
       "text": [
        "K3WHRE  "
       ]
      },
      {
       "output_type": "stream",
       "stream": "stdout",
       "text": [
        "DWNJKF  "
       ]
      },
      {
       "output_type": "stream",
       "stream": "stdout",
       "text": [
        "GSHL1A \n"
       ]
      }
     ],
     "prompt_number": 15
    },
    {
     "cell_type": "code",
     "collapsed": false,
     "input": [
      "correct_cs, total_cs = matching.folderMatch(directory, dt, matching.clusterMatch, thresholds_cluster, keypoint, descriptor)"
     ],
     "language": "python",
     "metadata": {},
     "outputs": [
      {
       "output_type": "stream",
       "stream": "stdout",
       "text": [
        "3A4O9O  "
       ]
      },
      {
       "output_type": "stream",
       "stream": "stdout",
       "text": [
        "PTY26L  "
       ]
      },
      {
       "output_type": "stream",
       "stream": "stdout",
       "text": [
        "9GR9LR  "
       ]
      },
      {
       "output_type": "stream",
       "stream": "stdout",
       "text": [
        "RVN6CE  "
       ]
      },
      {
       "output_type": "stream",
       "stream": "stdout",
       "text": [
        "562WAS  "
       ]
      },
      {
       "output_type": "stream",
       "stream": "stdout",
       "text": [
        "EWNOIH  "
       ]
      },
      {
       "output_type": "stream",
       "stream": "stdout",
       "text": [
        "NR22QM  "
       ]
      },
      {
       "output_type": "stream",
       "stream": "stdout",
       "text": [
        "S82EMR  "
       ]
      },
      {
       "output_type": "stream",
       "stream": "stdout",
       "text": [
        "O9CB81  "
       ]
      },
      {
       "output_type": "stream",
       "stream": "stdout",
       "text": [
        "TSWGO2  "
       ]
      },
      {
       "output_type": "stream",
       "stream": "stdout",
       "text": [
        "VKRCBU  "
       ]
      },
      {
       "output_type": "stream",
       "stream": "stdout",
       "text": [
        "ZCC15V  "
       ]
      },
      {
       "output_type": "stream",
       "stream": "stdout",
       "text": [
        "RFJ848  "
       ]
      },
      {
       "output_type": "stream",
       "stream": "stdout",
       "text": [
        "DUMA3G  "
       ]
      },
      {
       "output_type": "stream",
       "stream": "stdout",
       "text": [
        "1MQKGP  "
       ]
      },
      {
       "output_type": "stream",
       "stream": "stdout",
       "text": [
        "IY3Y5O  "
       ]
      },
      {
       "output_type": "stream",
       "stream": "stdout",
       "text": [
        "XCX2CD  "
       ]
      },
      {
       "output_type": "stream",
       "stream": "stdout",
       "text": [
        "3IDQXO  "
       ]
      },
      {
       "output_type": "stream",
       "stream": "stdout",
       "text": [
        "RQOWCQ  "
       ]
      },
      {
       "output_type": "stream",
       "stream": "stdout",
       "text": [
        "O15TRA  "
       ]
      },
      {
       "output_type": "stream",
       "stream": "stdout",
       "text": [
        "XJ9KKK  "
       ]
      },
      {
       "output_type": "stream",
       "stream": "stdout",
       "text": [
        "542PL1  "
       ]
      },
      {
       "output_type": "stream",
       "stream": "stdout",
       "text": [
        "CZCLEF  "
       ]
      },
      {
       "output_type": "stream",
       "stream": "stdout",
       "text": [
        "TDYH87  "
       ]
      },
      {
       "output_type": "stream",
       "stream": "stdout",
       "text": [
        "WQJPMT  "
       ]
      },
      {
       "output_type": "stream",
       "stream": "stdout",
       "text": [
        "WCDJ2D  "
       ]
      },
      {
       "output_type": "stream",
       "stream": "stdout",
       "text": [
        "IHYDF1  "
       ]
      },
      {
       "output_type": "stream",
       "stream": "stdout",
       "text": [
        "FUVQJP  "
       ]
      },
      {
       "output_type": "stream",
       "stream": "stdout",
       "text": [
        "0DLYOG  "
       ]
      },
      {
       "output_type": "stream",
       "stream": "stdout",
       "text": [
        "MW3K3B  "
       ]
      },
      {
       "output_type": "stream",
       "stream": "stdout",
       "text": [
        "PJCFDH  "
       ]
      },
      {
       "output_type": "stream",
       "stream": "stdout",
       "text": [
        "C2EQ15  "
       ]
      },
      {
       "output_type": "stream",
       "stream": "stdout",
       "text": [
        "HUZXMQ  "
       ]
      },
      {
       "output_type": "stream",
       "stream": "stdout",
       "text": [
        "D4RXRZ  "
       ]
      },
      {
       "output_type": "stream",
       "stream": "stdout",
       "text": [
        "PIRGK5  "
       ]
      },
      {
       "output_type": "stream",
       "stream": "stdout",
       "text": [
        "FYWEX9  "
       ]
      },
      {
       "output_type": "stream",
       "stream": "stdout",
       "text": [
        "UBCWF5  "
       ]
      },
      {
       "output_type": "stream",
       "stream": "stdout",
       "text": [
        "HYEW9W  "
       ]
      },
      {
       "output_type": "stream",
       "stream": "stdout",
       "text": [
        "XGN2ML  "
       ]
      },
      {
       "output_type": "stream",
       "stream": "stdout",
       "text": [
        "H3HEUH  "
       ]
      },
      {
       "output_type": "stream",
       "stream": "stdout",
       "text": [
        "35X2IT  "
       ]
      },
      {
       "output_type": "stream",
       "stream": "stdout",
       "text": [
        "HAUVGX  "
       ]
      },
      {
       "output_type": "stream",
       "stream": "stdout",
       "text": [
        "ISHKAX  "
       ]
      },
      {
       "output_type": "stream",
       "stream": "stdout",
       "text": [
        "BZOK6R  "
       ]
      },
      {
       "output_type": "stream",
       "stream": "stdout",
       "text": [
        "UB3L9X  "
       ]
      },
      {
       "output_type": "stream",
       "stream": "stdout",
       "text": [
        "XNVCCY  "
       ]
      },
      {
       "output_type": "stream",
       "stream": "stdout",
       "text": [
        "KVXL5M  "
       ]
      },
      {
       "output_type": "stream",
       "stream": "stdout",
       "text": [
        "XUDLLH  "
       ]
      },
      {
       "output_type": "stream",
       "stream": "stdout",
       "text": [
        "TPD3LK  "
       ]
      },
      {
       "output_type": "stream",
       "stream": "stdout",
       "text": [
        "H1TCS2  "
       ]
      },
      {
       "output_type": "stream",
       "stream": "stdout",
       "text": [
        "E1XXB8  "
       ]
      },
      {
       "output_type": "stream",
       "stream": "stdout",
       "text": [
        "OOA3ZR  "
       ]
      },
      {
       "output_type": "stream",
       "stream": "stdout",
       "text": [
        "F8U6CT  "
       ]
      },
      {
       "output_type": "stream",
       "stream": "stdout",
       "text": [
        "2J97FA  "
       ]
      },
      {
       "output_type": "stream",
       "stream": "stdout",
       "text": [
        "6R1RXH  "
       ]
      },
      {
       "output_type": "stream",
       "stream": "stdout",
       "text": [
        "EDJ1KC  "
       ]
      },
      {
       "output_type": "stream",
       "stream": "stdout",
       "text": [
        "T92T7T  "
       ]
      },
      {
       "output_type": "stream",
       "stream": "stdout",
       "text": [
        "MZFLCH  "
       ]
      },
      {
       "output_type": "stream",
       "stream": "stdout",
       "text": [
        "38QOT5  "
       ]
      },
      {
       "output_type": "stream",
       "stream": "stdout",
       "text": [
        "JZZN5K  "
       ]
      },
      {
       "output_type": "stream",
       "stream": "stdout",
       "text": [
        "PYYI23  "
       ]
      },
      {
       "output_type": "stream",
       "stream": "stdout",
       "text": [
        "O6HAJN  "
       ]
      },
      {
       "output_type": "stream",
       "stream": "stdout",
       "text": [
        "T8L1EG  "
       ]
      },
      {
       "output_type": "stream",
       "stream": "stdout",
       "text": [
        "U3CJNX  "
       ]
      },
      {
       "output_type": "stream",
       "stream": "stdout",
       "text": [
        "MXV0X5  "
       ]
      },
      {
       "output_type": "stream",
       "stream": "stdout",
       "text": [
        "BAY8G4  "
       ]
      },
      {
       "output_type": "stream",
       "stream": "stdout",
       "text": [
        "UAM75G  "
       ]
      },
      {
       "output_type": "stream",
       "stream": "stdout",
       "text": [
        "FWAFM1  "
       ]
      },
      {
       "output_type": "stream",
       "stream": "stdout",
       "text": [
        "V8TX9L  "
       ]
      },
      {
       "output_type": "stream",
       "stream": "stdout",
       "text": [
        "5PEZPU  "
       ]
      },
      {
       "output_type": "stream",
       "stream": "stdout",
       "text": [
        "41YD65  "
       ]
      },
      {
       "output_type": "stream",
       "stream": "stdout",
       "text": [
        "8XLLJQ  "
       ]
      },
      {
       "output_type": "stream",
       "stream": "stdout",
       "text": [
        "XHUH5A  "
       ]
      },
      {
       "output_type": "stream",
       "stream": "stdout",
       "text": [
        "X8I9KB  "
       ]
      },
      {
       "output_type": "stream",
       "stream": "stdout",
       "text": [
        "HKF38K  "
       ]
      },
      {
       "output_type": "stream",
       "stream": "stdout",
       "text": [
        "LQQ2HZ  "
       ]
      },
      {
       "output_type": "stream",
       "stream": "stdout",
       "text": [
        "1YEYQ6  "
       ]
      },
      {
       "output_type": "stream",
       "stream": "stdout",
       "text": [
        "72P2UE  "
       ]
      },
      {
       "output_type": "stream",
       "stream": "stdout",
       "text": [
        "78OF3Q  "
       ]
      },
      {
       "output_type": "stream",
       "stream": "stdout",
       "text": [
        "0VSXRN  "
       ]
      },
      {
       "output_type": "stream",
       "stream": "stdout",
       "text": [
        "VS0EZC  "
       ]
      },
      {
       "output_type": "stream",
       "stream": "stdout",
       "text": [
        "KB3CO0  "
       ]
      },
      {
       "output_type": "stream",
       "stream": "stdout",
       "text": [
        "4J7TD2  "
       ]
      },
      {
       "output_type": "stream",
       "stream": "stdout",
       "text": [
        "UD8N1D  "
       ]
      },
      {
       "output_type": "stream",
       "stream": "stdout",
       "text": [
        "UNFA2M  "
       ]
      },
      {
       "output_type": "stream",
       "stream": "stdout",
       "text": [
        "R9FV94  "
       ]
      },
      {
       "output_type": "stream",
       "stream": "stdout",
       "text": [
        "UPB0Q8  "
       ]
      },
      {
       "output_type": "stream",
       "stream": "stdout",
       "text": [
        "6GV7M7  "
       ]
      },
      {
       "output_type": "stream",
       "stream": "stdout",
       "text": [
        "MZUM0G  "
       ]
      },
      {
       "output_type": "stream",
       "stream": "stdout",
       "text": [
        "79KPO8  "
       ]
      },
      {
       "output_type": "stream",
       "stream": "stdout",
       "text": [
        "SJP2Z0  "
       ]
      },
      {
       "output_type": "stream",
       "stream": "stdout",
       "text": [
        "SURPHD  "
       ]
      },
      {
       "output_type": "stream",
       "stream": "stdout",
       "text": [
        "1L7BYR  "
       ]
      },
      {
       "output_type": "stream",
       "stream": "stdout",
       "text": [
        "IYHO8Q  "
       ]
      },
      {
       "output_type": "stream",
       "stream": "stdout",
       "text": [
        "WDWYD5  "
       ]
      },
      {
       "output_type": "stream",
       "stream": "stdout",
       "text": [
        "3DSYC4  "
       ]
      },
      {
       "output_type": "stream",
       "stream": "stdout",
       "text": [
        "VVOQP5  "
       ]
      },
      {
       "output_type": "stream",
       "stream": "stdout",
       "text": [
        "K3WHRE  "
       ]
      },
      {
       "output_type": "stream",
       "stream": "stdout",
       "text": [
        "DWNJKF  "
       ]
      },
      {
       "output_type": "stream",
       "stream": "stdout",
       "text": [
        "GSHL1A \n"
       ]
      }
     ],
     "prompt_number": 4
    },
    {
     "cell_type": "code",
     "collapsed": false,
     "input": [
      "correct_is, total_is = matching.folderMatch(directory, dt, matching.isoMatch, thresholds_iso, keypoint, descriptor)"
     ],
     "language": "python",
     "metadata": {},
     "outputs": [
      {
       "output_type": "stream",
       "stream": "stdout",
       "text": [
        "3A4O9O  "
       ]
      },
      {
       "output_type": "stream",
       "stream": "stdout",
       "text": [
        "PTY26L  "
       ]
      },
      {
       "output_type": "stream",
       "stream": "stdout",
       "text": [
        "9GR9LR  "
       ]
      },
      {
       "output_type": "stream",
       "stream": "stdout",
       "text": [
        "RVN6CE  "
       ]
      },
      {
       "output_type": "stream",
       "stream": "stdout",
       "text": [
        "562WAS  "
       ]
      },
      {
       "output_type": "stream",
       "stream": "stdout",
       "text": [
        "EWNOIH  "
       ]
      },
      {
       "output_type": "stream",
       "stream": "stdout",
       "text": [
        "NR22QM  "
       ]
      },
      {
       "output_type": "stream",
       "stream": "stdout",
       "text": [
        "S82EMR  "
       ]
      },
      {
       "output_type": "stream",
       "stream": "stdout",
       "text": [
        "O9CB81  "
       ]
      },
      {
       "output_type": "stream",
       "stream": "stdout",
       "text": [
        "TSWGO2  "
       ]
      },
      {
       "output_type": "stream",
       "stream": "stdout",
       "text": [
        "VKRCBU  "
       ]
      },
      {
       "output_type": "stream",
       "stream": "stdout",
       "text": [
        "ZCC15V  "
       ]
      },
      {
       "output_type": "stream",
       "stream": "stdout",
       "text": [
        "RFJ848  "
       ]
      },
      {
       "output_type": "stream",
       "stream": "stdout",
       "text": [
        "DUMA3G  "
       ]
      },
      {
       "output_type": "stream",
       "stream": "stdout",
       "text": [
        "1MQKGP  "
       ]
      },
      {
       "output_type": "stream",
       "stream": "stdout",
       "text": [
        "IY3Y5O  "
       ]
      },
      {
       "output_type": "stream",
       "stream": "stdout",
       "text": [
        "XCX2CD  "
       ]
      },
      {
       "output_type": "stream",
       "stream": "stdout",
       "text": [
        "3IDQXO  "
       ]
      },
      {
       "output_type": "stream",
       "stream": "stdout",
       "text": [
        "RQOWCQ  "
       ]
      },
      {
       "output_type": "stream",
       "stream": "stdout",
       "text": [
        "O15TRA  "
       ]
      },
      {
       "output_type": "stream",
       "stream": "stdout",
       "text": [
        "XJ9KKK  "
       ]
      },
      {
       "output_type": "stream",
       "stream": "stdout",
       "text": [
        "542PL1  "
       ]
      },
      {
       "output_type": "stream",
       "stream": "stdout",
       "text": [
        "CZCLEF  "
       ]
      },
      {
       "output_type": "stream",
       "stream": "stdout",
       "text": [
        "TDYH87  "
       ]
      },
      {
       "output_type": "stream",
       "stream": "stdout",
       "text": [
        "WQJPMT  "
       ]
      },
      {
       "output_type": "stream",
       "stream": "stdout",
       "text": [
        "WCDJ2D  "
       ]
      },
      {
       "output_type": "stream",
       "stream": "stdout",
       "text": [
        "IHYDF1  "
       ]
      },
      {
       "output_type": "stream",
       "stream": "stdout",
       "text": [
        "FUVQJP  "
       ]
      },
      {
       "output_type": "stream",
       "stream": "stdout",
       "text": [
        "0DLYOG  "
       ]
      },
      {
       "output_type": "stream",
       "stream": "stdout",
       "text": [
        "MW3K3B  "
       ]
      },
      {
       "output_type": "stream",
       "stream": "stdout",
       "text": [
        "PJCFDH  "
       ]
      },
      {
       "output_type": "stream",
       "stream": "stdout",
       "text": [
        "C2EQ15  "
       ]
      },
      {
       "output_type": "stream",
       "stream": "stdout",
       "text": [
        "HUZXMQ  "
       ]
      },
      {
       "output_type": "stream",
       "stream": "stdout",
       "text": [
        "D4RXRZ  "
       ]
      },
      {
       "output_type": "stream",
       "stream": "stdout",
       "text": [
        "PIRGK5  "
       ]
      },
      {
       "output_type": "stream",
       "stream": "stdout",
       "text": [
        "FYWEX9  "
       ]
      },
      {
       "output_type": "stream",
       "stream": "stdout",
       "text": [
        "UBCWF5  "
       ]
      },
      {
       "output_type": "stream",
       "stream": "stdout",
       "text": [
        "HYEW9W  "
       ]
      },
      {
       "output_type": "stream",
       "stream": "stdout",
       "text": [
        "XGN2ML  "
       ]
      },
      {
       "output_type": "stream",
       "stream": "stdout",
       "text": [
        "H3HEUH  "
       ]
      },
      {
       "output_type": "stream",
       "stream": "stdout",
       "text": [
        "35X2IT  "
       ]
      },
      {
       "output_type": "stream",
       "stream": "stdout",
       "text": [
        "HAUVGX  "
       ]
      },
      {
       "output_type": "stream",
       "stream": "stdout",
       "text": [
        "ISHKAX  "
       ]
      },
      {
       "output_type": "stream",
       "stream": "stdout",
       "text": [
        "BZOK6R  "
       ]
      },
      {
       "output_type": "stream",
       "stream": "stdout",
       "text": [
        "UB3L9X  "
       ]
      },
      {
       "output_type": "stream",
       "stream": "stdout",
       "text": [
        "XNVCCY  "
       ]
      },
      {
       "output_type": "stream",
       "stream": "stdout",
       "text": [
        "KVXL5M  "
       ]
      },
      {
       "output_type": "stream",
       "stream": "stdout",
       "text": [
        "XUDLLH  "
       ]
      },
      {
       "output_type": "stream",
       "stream": "stdout",
       "text": [
        "TPD3LK  "
       ]
      },
      {
       "output_type": "stream",
       "stream": "stdout",
       "text": [
        "H1TCS2  "
       ]
      },
      {
       "output_type": "stream",
       "stream": "stdout",
       "text": [
        "E1XXB8  "
       ]
      },
      {
       "output_type": "stream",
       "stream": "stdout",
       "text": [
        "OOA3ZR  "
       ]
      },
      {
       "output_type": "stream",
       "stream": "stdout",
       "text": [
        "F8U6CT  "
       ]
      },
      {
       "output_type": "stream",
       "stream": "stdout",
       "text": [
        "2J97FA  "
       ]
      },
      {
       "output_type": "stream",
       "stream": "stdout",
       "text": [
        "6R1RXH  "
       ]
      },
      {
       "output_type": "stream",
       "stream": "stdout",
       "text": [
        "EDJ1KC  "
       ]
      },
      {
       "output_type": "stream",
       "stream": "stdout",
       "text": [
        "T92T7T  "
       ]
      },
      {
       "output_type": "stream",
       "stream": "stdout",
       "text": [
        "MZFLCH  "
       ]
      },
      {
       "output_type": "stream",
       "stream": "stdout",
       "text": [
        "38QOT5  "
       ]
      },
      {
       "output_type": "stream",
       "stream": "stdout",
       "text": [
        "JZZN5K  "
       ]
      },
      {
       "output_type": "stream",
       "stream": "stdout",
       "text": [
        "PYYI23  "
       ]
      },
      {
       "output_type": "stream",
       "stream": "stdout",
       "text": [
        "O6HAJN  "
       ]
      },
      {
       "output_type": "stream",
       "stream": "stdout",
       "text": [
        "T8L1EG  "
       ]
      },
      {
       "output_type": "stream",
       "stream": "stdout",
       "text": [
        "U3CJNX  "
       ]
      },
      {
       "output_type": "stream",
       "stream": "stdout",
       "text": [
        "MXV0X5  "
       ]
      },
      {
       "output_type": "stream",
       "stream": "stdout",
       "text": [
        "BAY8G4  "
       ]
      },
      {
       "output_type": "stream",
       "stream": "stdout",
       "text": [
        "UAM75G  "
       ]
      },
      {
       "output_type": "stream",
       "stream": "stdout",
       "text": [
        "FWAFM1  "
       ]
      },
      {
       "output_type": "stream",
       "stream": "stdout",
       "text": [
        "V8TX9L  "
       ]
      },
      {
       "output_type": "stream",
       "stream": "stdout",
       "text": [
        "5PEZPU  "
       ]
      },
      {
       "output_type": "stream",
       "stream": "stdout",
       "text": [
        "41YD65  "
       ]
      },
      {
       "output_type": "stream",
       "stream": "stdout",
       "text": [
        "8XLLJQ  "
       ]
      },
      {
       "output_type": "stream",
       "stream": "stdout",
       "text": [
        "XHUH5A  "
       ]
      },
      {
       "output_type": "stream",
       "stream": "stdout",
       "text": [
        "X8I9KB  "
       ]
      },
      {
       "output_type": "stream",
       "stream": "stdout",
       "text": [
        "HKF38K  "
       ]
      },
      {
       "output_type": "stream",
       "stream": "stdout",
       "text": [
        "LQQ2HZ  "
       ]
      },
      {
       "output_type": "stream",
       "stream": "stdout",
       "text": [
        "1YEYQ6  "
       ]
      },
      {
       "output_type": "stream",
       "stream": "stdout",
       "text": [
        "72P2UE  "
       ]
      },
      {
       "output_type": "stream",
       "stream": "stdout",
       "text": [
        "78OF3Q  "
       ]
      },
      {
       "output_type": "stream",
       "stream": "stdout",
       "text": [
        "0VSXRN  "
       ]
      },
      {
       "output_type": "stream",
       "stream": "stdout",
       "text": [
        "VS0EZC  "
       ]
      },
      {
       "output_type": "stream",
       "stream": "stdout",
       "text": [
        "KB3CO0  "
       ]
      },
      {
       "output_type": "stream",
       "stream": "stdout",
       "text": [
        "4J7TD2  "
       ]
      },
      {
       "output_type": "stream",
       "stream": "stdout",
       "text": [
        "UD8N1D  "
       ]
      },
      {
       "output_type": "stream",
       "stream": "stdout",
       "text": [
        "UNFA2M  "
       ]
      },
      {
       "output_type": "stream",
       "stream": "stdout",
       "text": [
        "R9FV94  "
       ]
      },
      {
       "output_type": "stream",
       "stream": "stdout",
       "text": [
        "UPB0Q8  "
       ]
      },
      {
       "output_type": "stream",
       "stream": "stdout",
       "text": [
        "6GV7M7  "
       ]
      },
      {
       "output_type": "stream",
       "stream": "stdout",
       "text": [
        "MZUM0G  "
       ]
      },
      {
       "output_type": "stream",
       "stream": "stdout",
       "text": [
        "79KPO8  "
       ]
      },
      {
       "output_type": "stream",
       "stream": "stdout",
       "text": [
        "SJP2Z0  "
       ]
      },
      {
       "output_type": "stream",
       "stream": "stdout",
       "text": [
        "SURPHD  "
       ]
      },
      {
       "output_type": "stream",
       "stream": "stdout",
       "text": [
        "1L7BYR  "
       ]
      },
      {
       "output_type": "stream",
       "stream": "stdout",
       "text": [
        "IYHO8Q  "
       ]
      },
      {
       "output_type": "stream",
       "stream": "stdout",
       "text": [
        "WDWYD5  "
       ]
      },
      {
       "output_type": "stream",
       "stream": "stdout",
       "text": [
        "3DSYC4  "
       ]
      },
      {
       "output_type": "stream",
       "stream": "stdout",
       "text": [
        "VVOQP5  "
       ]
      },
      {
       "output_type": "stream",
       "stream": "stdout",
       "text": [
        "K3WHRE  "
       ]
      },
      {
       "output_type": "stream",
       "stream": "stdout",
       "text": [
        "DWNJKF  "
       ]
      },
      {
       "output_type": "stream",
       "stream": "stdout",
       "text": [
        "GSHL1A \n"
       ]
      }
     ],
     "prompt_number": 20
    },
    {
     "cell_type": "code",
     "collapsed": false,
     "input": [
      "correct_ss, total_ss = matching.folderMatch(directory, dt, matching.spectralMatch, thresholds_spectral, keypoint, descriptor)"
     ],
     "language": "python",
     "metadata": {},
     "outputs": [
      {
       "output_type": "stream",
       "stream": "stdout",
       "text": [
        "3A4O9O  "
       ]
      },
      {
       "output_type": "stream",
       "stream": "stdout",
       "text": [
        "PTY26L  "
       ]
      },
      {
       "output_type": "stream",
       "stream": "stdout",
       "text": [
        "9GR9LR  "
       ]
      },
      {
       "output_type": "stream",
       "stream": "stdout",
       "text": [
        "RVN6CE  "
       ]
      },
      {
       "output_type": "stream",
       "stream": "stdout",
       "text": [
        "562WAS  "
       ]
      },
      {
       "output_type": "stream",
       "stream": "stdout",
       "text": [
        "EWNOIH  "
       ]
      },
      {
       "output_type": "stream",
       "stream": "stdout",
       "text": [
        "NR22QM  "
       ]
      },
      {
       "output_type": "stream",
       "stream": "stdout",
       "text": [
        "S82EMR  "
       ]
      },
      {
       "output_type": "stream",
       "stream": "stdout",
       "text": [
        "O9CB81  "
       ]
      },
      {
       "output_type": "stream",
       "stream": "stdout",
       "text": [
        "TSWGO2  "
       ]
      },
      {
       "output_type": "stream",
       "stream": "stdout",
       "text": [
        "VKRCBU  "
       ]
      },
      {
       "output_type": "stream",
       "stream": "stdout",
       "text": [
        "ZCC15V  "
       ]
      },
      {
       "output_type": "stream",
       "stream": "stdout",
       "text": [
        "RFJ848  "
       ]
      },
      {
       "output_type": "stream",
       "stream": "stdout",
       "text": [
        "DUMA3G  "
       ]
      },
      {
       "output_type": "stream",
       "stream": "stdout",
       "text": [
        "1MQKGP  "
       ]
      },
      {
       "output_type": "stream",
       "stream": "stdout",
       "text": [
        "IY3Y5O  "
       ]
      },
      {
       "output_type": "stream",
       "stream": "stdout",
       "text": [
        "XCX2CD  "
       ]
      },
      {
       "output_type": "stream",
       "stream": "stdout",
       "text": [
        "3IDQXO  "
       ]
      },
      {
       "output_type": "stream",
       "stream": "stdout",
       "text": [
        "RQOWCQ  "
       ]
      },
      {
       "output_type": "stream",
       "stream": "stdout",
       "text": [
        "O15TRA  "
       ]
      },
      {
       "output_type": "stream",
       "stream": "stdout",
       "text": [
        "XJ9KKK  "
       ]
      },
      {
       "output_type": "stream",
       "stream": "stdout",
       "text": [
        "542PL1  "
       ]
      },
      {
       "output_type": "stream",
       "stream": "stdout",
       "text": [
        "CZCLEF  "
       ]
      },
      {
       "output_type": "stream",
       "stream": "stdout",
       "text": [
        "TDYH87  "
       ]
      },
      {
       "output_type": "stream",
       "stream": "stdout",
       "text": [
        "WQJPMT  "
       ]
      },
      {
       "output_type": "stream",
       "stream": "stdout",
       "text": [
        "WCDJ2D  "
       ]
      },
      {
       "output_type": "stream",
       "stream": "stdout",
       "text": [
        "IHYDF1  "
       ]
      },
      {
       "output_type": "stream",
       "stream": "stdout",
       "text": [
        "FUVQJP  "
       ]
      },
      {
       "output_type": "stream",
       "stream": "stdout",
       "text": [
        "0DLYOG  "
       ]
      },
      {
       "output_type": "stream",
       "stream": "stdout",
       "text": [
        "MW3K3B  "
       ]
      },
      {
       "output_type": "stream",
       "stream": "stdout",
       "text": [
        "PJCFDH  "
       ]
      },
      {
       "output_type": "stream",
       "stream": "stdout",
       "text": [
        "C2EQ15  "
       ]
      },
      {
       "output_type": "stream",
       "stream": "stdout",
       "text": [
        "HUZXMQ  "
       ]
      },
      {
       "output_type": "stream",
       "stream": "stdout",
       "text": [
        "D4RXRZ  "
       ]
      },
      {
       "output_type": "stream",
       "stream": "stdout",
       "text": [
        "PIRGK5  "
       ]
      },
      {
       "output_type": "stream",
       "stream": "stdout",
       "text": [
        "FYWEX9  "
       ]
      },
      {
       "output_type": "stream",
       "stream": "stdout",
       "text": [
        "UBCWF5  "
       ]
      },
      {
       "output_type": "stream",
       "stream": "stdout",
       "text": [
        "HYEW9W  "
       ]
      },
      {
       "output_type": "stream",
       "stream": "stdout",
       "text": [
        "XGN2ML  "
       ]
      },
      {
       "output_type": "stream",
       "stream": "stdout",
       "text": [
        "H3HEUH  "
       ]
      },
      {
       "output_type": "stream",
       "stream": "stdout",
       "text": [
        "35X2IT  "
       ]
      },
      {
       "output_type": "stream",
       "stream": "stdout",
       "text": [
        "HAUVGX  "
       ]
      },
      {
       "output_type": "stream",
       "stream": "stdout",
       "text": [
        "ISHKAX  "
       ]
      },
      {
       "output_type": "stream",
       "stream": "stdout",
       "text": [
        "BZOK6R  "
       ]
      },
      {
       "output_type": "stream",
       "stream": "stdout",
       "text": [
        "UB3L9X  "
       ]
      },
      {
       "output_type": "stream",
       "stream": "stdout",
       "text": [
        "XNVCCY  "
       ]
      },
      {
       "output_type": "stream",
       "stream": "stdout",
       "text": [
        "KVXL5M  "
       ]
      },
      {
       "output_type": "stream",
       "stream": "stdout",
       "text": [
        "XUDLLH  "
       ]
      },
      {
       "output_type": "stream",
       "stream": "stdout",
       "text": [
        "TPD3LK  "
       ]
      },
      {
       "output_type": "stream",
       "stream": "stdout",
       "text": [
        "H1TCS2  "
       ]
      },
      {
       "output_type": "stream",
       "stream": "stdout",
       "text": [
        "E1XXB8  "
       ]
      },
      {
       "output_type": "stream",
       "stream": "stdout",
       "text": [
        "OOA3ZR  "
       ]
      },
      {
       "output_type": "stream",
       "stream": "stdout",
       "text": [
        "F8U6CT  "
       ]
      },
      {
       "output_type": "stream",
       "stream": "stdout",
       "text": [
        "2J97FA  "
       ]
      },
      {
       "output_type": "stream",
       "stream": "stdout",
       "text": [
        "6R1RXH  "
       ]
      },
      {
       "output_type": "stream",
       "stream": "stdout",
       "text": [
        "EDJ1KC  "
       ]
      },
      {
       "output_type": "stream",
       "stream": "stdout",
       "text": [
        "T92T7T  "
       ]
      },
      {
       "output_type": "stream",
       "stream": "stdout",
       "text": [
        "MZFLCH  "
       ]
      },
      {
       "output_type": "stream",
       "stream": "stdout",
       "text": [
        "38QOT5  "
       ]
      },
      {
       "output_type": "stream",
       "stream": "stdout",
       "text": [
        "JZZN5K  "
       ]
      },
      {
       "output_type": "stream",
       "stream": "stdout",
       "text": [
        "PYYI23  "
       ]
      },
      {
       "output_type": "stream",
       "stream": "stdout",
       "text": [
        "O6HAJN  "
       ]
      },
      {
       "output_type": "stream",
       "stream": "stdout",
       "text": [
        "T8L1EG  "
       ]
      },
      {
       "output_type": "stream",
       "stream": "stdout",
       "text": [
        "U3CJNX  "
       ]
      },
      {
       "output_type": "stream",
       "stream": "stdout",
       "text": [
        "MXV0X5  "
       ]
      },
      {
       "output_type": "stream",
       "stream": "stdout",
       "text": [
        "BAY8G4  "
       ]
      },
      {
       "output_type": "stream",
       "stream": "stdout",
       "text": [
        "UAM75G  "
       ]
      },
      {
       "output_type": "stream",
       "stream": "stdout",
       "text": [
        "FWAFM1  "
       ]
      },
      {
       "output_type": "stream",
       "stream": "stdout",
       "text": [
        "V8TX9L  "
       ]
      },
      {
       "output_type": "stream",
       "stream": "stdout",
       "text": [
        "5PEZPU  "
       ]
      },
      {
       "output_type": "stream",
       "stream": "stdout",
       "text": [
        "41YD65  "
       ]
      },
      {
       "output_type": "stream",
       "stream": "stdout",
       "text": [
        "8XLLJQ  "
       ]
      },
      {
       "output_type": "stream",
       "stream": "stdout",
       "text": [
        "XHUH5A  "
       ]
      },
      {
       "output_type": "stream",
       "stream": "stdout",
       "text": [
        "X8I9KB  "
       ]
      },
      {
       "output_type": "stream",
       "stream": "stdout",
       "text": [
        "HKF38K  "
       ]
      },
      {
       "output_type": "stream",
       "stream": "stdout",
       "text": [
        "LQQ2HZ  "
       ]
      },
      {
       "output_type": "stream",
       "stream": "stdout",
       "text": [
        "1YEYQ6  "
       ]
      },
      {
       "output_type": "stream",
       "stream": "stdout",
       "text": [
        "72P2UE  "
       ]
      },
      {
       "output_type": "stream",
       "stream": "stdout",
       "text": [
        "78OF3Q  "
       ]
      },
      {
       "output_type": "stream",
       "stream": "stdout",
       "text": [
        "0VSXRN  "
       ]
      },
      {
       "output_type": "stream",
       "stream": "stdout",
       "text": [
        "VS0EZC  "
       ]
      },
      {
       "output_type": "stream",
       "stream": "stdout",
       "text": [
        "KB3CO0  "
       ]
      },
      {
       "output_type": "stream",
       "stream": "stdout",
       "text": [
        "4J7TD2  "
       ]
      },
      {
       "output_type": "stream",
       "stream": "stdout",
       "text": [
        "UD8N1D  "
       ]
      },
      {
       "output_type": "stream",
       "stream": "stdout",
       "text": [
        "UNFA2M  "
       ]
      },
      {
       "output_type": "stream",
       "stream": "stdout",
       "text": [
        "R9FV94  "
       ]
      },
      {
       "output_type": "stream",
       "stream": "stdout",
       "text": [
        "UPB0Q8  "
       ]
      },
      {
       "output_type": "stream",
       "stream": "stdout",
       "text": [
        "6GV7M7  "
       ]
      },
      {
       "output_type": "stream",
       "stream": "stdout",
       "text": [
        "MZUM0G  "
       ]
      },
      {
       "output_type": "stream",
       "stream": "stdout",
       "text": [
        "79KPO8  "
       ]
      },
      {
       "output_type": "stream",
       "stream": "stdout",
       "text": [
        "SJP2Z0  "
       ]
      },
      {
       "output_type": "stream",
       "stream": "stdout",
       "text": [
        "SURPHD  "
       ]
      },
      {
       "output_type": "stream",
       "stream": "stdout",
       "text": [
        "1L7BYR  "
       ]
      },
      {
       "output_type": "stream",
       "stream": "stdout",
       "text": [
        "IYHO8Q  "
       ]
      },
      {
       "output_type": "stream",
       "stream": "stdout",
       "text": [
        "WDWYD5  "
       ]
      },
      {
       "output_type": "stream",
       "stream": "stdout",
       "text": [
        "3DSYC4  "
       ]
      },
      {
       "output_type": "stream",
       "stream": "stdout",
       "text": [
        "VVOQP5  "
       ]
      },
      {
       "output_type": "stream",
       "stream": "stdout",
       "text": [
        "K3WHRE  "
       ]
      },
      {
       "output_type": "stream",
       "stream": "stdout",
       "text": [
        "DWNJKF  "
       ]
      },
      {
       "output_type": "stream",
       "stream": "stdout",
       "text": [
        "GSHL1A \n"
       ]
      }
     ],
     "prompt_number": 19
    },
    {
     "cell_type": "code",
     "collapsed": false,
     "input": [
      "correct_ssm, total_ssm = matching.folderMatch(directory, dt, matching.spectralMatchMMC, thresholds_spectralMMC, keypoint, descriptor)"
     ],
     "language": "python",
     "metadata": {},
     "outputs": [
      {
       "output_type": "stream",
       "stream": "stdout",
       "text": [
        " 3A4O9O  "
       ]
      },
      {
       "output_type": "stream",
       "stream": "stdout",
       "text": [
        "PTY26L  "
       ]
      },
      {
       "output_type": "stream",
       "stream": "stdout",
       "text": [
        "9GR9LR  "
       ]
      },
      {
       "output_type": "stream",
       "stream": "stdout",
       "text": [
        "RVN6CE  "
       ]
      },
      {
       "output_type": "stream",
       "stream": "stdout",
       "text": [
        "562WAS  "
       ]
      },
      {
       "output_type": "stream",
       "stream": "stdout",
       "text": [
        "EWNOIH  "
       ]
      },
      {
       "output_type": "stream",
       "stream": "stdout",
       "text": [
        "NR22QM  "
       ]
      },
      {
       "output_type": "stream",
       "stream": "stdout",
       "text": [
        "S82EMR  "
       ]
      },
      {
       "output_type": "stream",
       "stream": "stdout",
       "text": [
        "O9CB81  "
       ]
      },
      {
       "output_type": "stream",
       "stream": "stdout",
       "text": [
        "TSWGO2  "
       ]
      },
      {
       "output_type": "stream",
       "stream": "stdout",
       "text": [
        "VKRCBU  "
       ]
      },
      {
       "output_type": "stream",
       "stream": "stdout",
       "text": [
        "ZCC15V  "
       ]
      },
      {
       "output_type": "stream",
       "stream": "stdout",
       "text": [
        "RFJ848  "
       ]
      },
      {
       "output_type": "stream",
       "stream": "stdout",
       "text": [
        "DUMA3G  "
       ]
      },
      {
       "output_type": "stream",
       "stream": "stdout",
       "text": [
        "1MQKGP  "
       ]
      },
      {
       "output_type": "stream",
       "stream": "stdout",
       "text": [
        "IY3Y5O  "
       ]
      },
      {
       "output_type": "stream",
       "stream": "stdout",
       "text": [
        "XCX2CD  "
       ]
      },
      {
       "output_type": "stream",
       "stream": "stdout",
       "text": [
        "3IDQXO  "
       ]
      },
      {
       "output_type": "stream",
       "stream": "stdout",
       "text": [
        "RQOWCQ  "
       ]
      },
      {
       "output_type": "stream",
       "stream": "stdout",
       "text": [
        "O15TRA  "
       ]
      },
      {
       "output_type": "stream",
       "stream": "stdout",
       "text": [
        "XJ9KKK  "
       ]
      },
      {
       "output_type": "stream",
       "stream": "stdout",
       "text": [
        "542PL1  "
       ]
      },
      {
       "output_type": "stream",
       "stream": "stdout",
       "text": [
        "CZCLEF  "
       ]
      },
      {
       "output_type": "stream",
       "stream": "stdout",
       "text": [
        "TDYH87  "
       ]
      },
      {
       "output_type": "stream",
       "stream": "stdout",
       "text": [
        "WQJPMT  "
       ]
      },
      {
       "output_type": "stream",
       "stream": "stdout",
       "text": [
        "WCDJ2D  "
       ]
      },
      {
       "output_type": "stream",
       "stream": "stdout",
       "text": [
        "IHYDF1  "
       ]
      },
      {
       "output_type": "stream",
       "stream": "stdout",
       "text": [
        "FUVQJP  "
       ]
      },
      {
       "output_type": "stream",
       "stream": "stdout",
       "text": [
        "0DLYOG  "
       ]
      },
      {
       "output_type": "stream",
       "stream": "stdout",
       "text": [
        "MW3K3B  "
       ]
      },
      {
       "output_type": "stream",
       "stream": "stdout",
       "text": [
        "PJCFDH  "
       ]
      },
      {
       "output_type": "stream",
       "stream": "stdout",
       "text": [
        "C2EQ15  "
       ]
      },
      {
       "output_type": "stream",
       "stream": "stdout",
       "text": [
        "HUZXMQ  "
       ]
      },
      {
       "output_type": "stream",
       "stream": "stdout",
       "text": [
        "D4RXRZ  "
       ]
      },
      {
       "output_type": "stream",
       "stream": "stdout",
       "text": [
        "PIRGK5  "
       ]
      },
      {
       "output_type": "stream",
       "stream": "stdout",
       "text": [
        "FYWEX9  "
       ]
      },
      {
       "output_type": "stream",
       "stream": "stdout",
       "text": [
        "UBCWF5  "
       ]
      },
      {
       "output_type": "stream",
       "stream": "stdout",
       "text": [
        "HYEW9W  "
       ]
      },
      {
       "output_type": "stream",
       "stream": "stdout",
       "text": [
        "XGN2ML  "
       ]
      },
      {
       "output_type": "stream",
       "stream": "stdout",
       "text": [
        "H3HEUH  "
       ]
      },
      {
       "output_type": "stream",
       "stream": "stdout",
       "text": [
        "35X2IT  "
       ]
      },
      {
       "output_type": "stream",
       "stream": "stdout",
       "text": [
        "HAUVGX  "
       ]
      },
      {
       "output_type": "stream",
       "stream": "stdout",
       "text": [
        "ISHKAX  "
       ]
      },
      {
       "output_type": "stream",
       "stream": "stdout",
       "text": [
        "BZOK6R  "
       ]
      },
      {
       "output_type": "stream",
       "stream": "stdout",
       "text": [
        "UB3L9X  "
       ]
      },
      {
       "output_type": "stream",
       "stream": "stdout",
       "text": [
        "XNVCCY  "
       ]
      },
      {
       "output_type": "stream",
       "stream": "stdout",
       "text": [
        "KVXL5M  "
       ]
      },
      {
       "output_type": "stream",
       "stream": "stdout",
       "text": [
        "XUDLLH  "
       ]
      },
      {
       "output_type": "stream",
       "stream": "stdout",
       "text": [
        "TPD3LK  "
       ]
      },
      {
       "output_type": "stream",
       "stream": "stdout",
       "text": [
        "H1TCS2  "
       ]
      },
      {
       "output_type": "stream",
       "stream": "stdout",
       "text": [
        "E1XXB8  "
       ]
      },
      {
       "output_type": "stream",
       "stream": "stdout",
       "text": [
        "OOA3ZR  "
       ]
      },
      {
       "output_type": "stream",
       "stream": "stdout",
       "text": [
        "F8U6CT  "
       ]
      },
      {
       "output_type": "stream",
       "stream": "stdout",
       "text": [
        "2J97FA  "
       ]
      },
      {
       "output_type": "stream",
       "stream": "stdout",
       "text": [
        "6R1RXH  "
       ]
      },
      {
       "output_type": "stream",
       "stream": "stdout",
       "text": [
        "EDJ1KC  "
       ]
      },
      {
       "output_type": "stream",
       "stream": "stdout",
       "text": [
        "T92T7T  "
       ]
      },
      {
       "output_type": "stream",
       "stream": "stdout",
       "text": [
        "MZFLCH  "
       ]
      },
      {
       "output_type": "stream",
       "stream": "stdout",
       "text": [
        "38QOT5  "
       ]
      },
      {
       "output_type": "stream",
       "stream": "stdout",
       "text": [
        "JZZN5K  "
       ]
      },
      {
       "output_type": "stream",
       "stream": "stdout",
       "text": [
        "PYYI23  "
       ]
      },
      {
       "output_type": "stream",
       "stream": "stdout",
       "text": [
        "O6HAJN  "
       ]
      },
      {
       "output_type": "stream",
       "stream": "stdout",
       "text": [
        "T8L1EG  "
       ]
      },
      {
       "output_type": "stream",
       "stream": "stdout",
       "text": [
        "U3CJNX  "
       ]
      },
      {
       "output_type": "stream",
       "stream": "stdout",
       "text": [
        "MXV0X5  "
       ]
      },
      {
       "output_type": "stream",
       "stream": "stdout",
       "text": [
        "BAY8G4  "
       ]
      },
      {
       "output_type": "stream",
       "stream": "stdout",
       "text": [
        "UAM75G  "
       ]
      },
      {
       "output_type": "stream",
       "stream": "stdout",
       "text": [
        "FWAFM1  "
       ]
      },
      {
       "output_type": "stream",
       "stream": "stdout",
       "text": [
        "V8TX9L  "
       ]
      },
      {
       "output_type": "stream",
       "stream": "stdout",
       "text": [
        "5PEZPU  "
       ]
      },
      {
       "output_type": "stream",
       "stream": "stdout",
       "text": [
        "41YD65  "
       ]
      },
      {
       "output_type": "stream",
       "stream": "stdout",
       "text": [
        "8XLLJQ  "
       ]
      },
      {
       "output_type": "stream",
       "stream": "stdout",
       "text": [
        "XHUH5A  "
       ]
      },
      {
       "output_type": "stream",
       "stream": "stdout",
       "text": [
        "X8I9KB  "
       ]
      },
      {
       "output_type": "stream",
       "stream": "stdout",
       "text": [
        "HKF38K  "
       ]
      },
      {
       "output_type": "stream",
       "stream": "stdout",
       "text": [
        "LQQ2HZ  "
       ]
      },
      {
       "output_type": "stream",
       "stream": "stdout",
       "text": [
        "1YEYQ6  "
       ]
      },
      {
       "output_type": "stream",
       "stream": "stdout",
       "text": [
        "72P2UE  "
       ]
      },
      {
       "output_type": "stream",
       "stream": "stdout",
       "text": [
        "78OF3Q  "
       ]
      },
      {
       "output_type": "stream",
       "stream": "stdout",
       "text": [
        "0VSXRN  "
       ]
      },
      {
       "output_type": "stream",
       "stream": "stdout",
       "text": [
        "VS0EZC  "
       ]
      },
      {
       "output_type": "stream",
       "stream": "stdout",
       "text": [
        "KB3CO0  "
       ]
      },
      {
       "output_type": "stream",
       "stream": "stdout",
       "text": [
        "4J7TD2  "
       ]
      },
      {
       "output_type": "stream",
       "stream": "stdout",
       "text": [
        "UD8N1D  "
       ]
      },
      {
       "output_type": "stream",
       "stream": "stdout",
       "text": [
        "UNFA2M  "
       ]
      },
      {
       "output_type": "stream",
       "stream": "stdout",
       "text": [
        "R9FV94  "
       ]
      },
      {
       "output_type": "stream",
       "stream": "stdout",
       "text": [
        "UPB0Q8  "
       ]
      },
      {
       "output_type": "stream",
       "stream": "stdout",
       "text": [
        "6GV7M7  "
       ]
      },
      {
       "output_type": "stream",
       "stream": "stdout",
       "text": [
        "MZUM0G  "
       ]
      },
      {
       "output_type": "stream",
       "stream": "stdout",
       "text": [
        "79KPO8  "
       ]
      },
      {
       "output_type": "stream",
       "stream": "stdout",
       "text": [
        "SJP2Z0  "
       ]
      },
      {
       "output_type": "stream",
       "stream": "stdout",
       "text": [
        "SURPHD  "
       ]
      },
      {
       "output_type": "stream",
       "stream": "stdout",
       "text": [
        "1L7BYR  "
       ]
      },
      {
       "output_type": "stream",
       "stream": "stdout",
       "text": [
        "IYHO8Q  "
       ]
      },
      {
       "output_type": "stream",
       "stream": "stdout",
       "text": [
        "WDWYD5  "
       ]
      },
      {
       "output_type": "stream",
       "stream": "stdout",
       "text": [
        "3DSYC4  "
       ]
      },
      {
       "output_type": "stream",
       "stream": "stdout",
       "text": [
        "VVOQP5  "
       ]
      },
      {
       "output_type": "stream",
       "stream": "stdout",
       "text": [
        "K3WHRE  "
       ]
      },
      {
       "output_type": "stream",
       "stream": "stdout",
       "text": [
        "DWNJKF  "
       ]
      },
      {
       "output_type": "stream",
       "stream": "stdout",
       "text": [
        "GSHL1A \n"
       ]
      },
      {
       "output_type": "stream",
       "stream": "stderr",
       "text": [
        "/home/arnfred/Thesis/code/clustermatch.py:81: RuntimeWarning: invalid value encountered in divide\n",
        "  u = row[s[-2]] / float(row[s[-1]])\n"
       ]
      }
     ],
     "prompt_number": 9
    },
    {
     "cell_type": "code",
     "collapsed": false,
     "input": [
      "correct_bs, total_bs = matching.folderMatch(directory, dt, matching.ballMatch, thresholds_balltree, keypoint, descriptor)"
     ],
     "language": "python",
     "metadata": {},
     "outputs": [
      {
       "output_type": "stream",
       "stream": "stdout",
       "text": [
        " 3A4O9O  "
       ]
      },
      {
       "output_type": "stream",
       "stream": "stdout",
       "text": [
        "PTY26L  "
       ]
      },
      {
       "output_type": "stream",
       "stream": "stdout",
       "text": [
        "9GR9LR  "
       ]
      },
      {
       "output_type": "stream",
       "stream": "stdout",
       "text": [
        "RVN6CE  "
       ]
      },
      {
       "output_type": "stream",
       "stream": "stdout",
       "text": [
        "562WAS  "
       ]
      },
      {
       "output_type": "stream",
       "stream": "stdout",
       "text": [
        "EWNOIH  "
       ]
      },
      {
       "output_type": "stream",
       "stream": "stdout",
       "text": [
        "NR22QM  "
       ]
      },
      {
       "output_type": "stream",
       "stream": "stdout",
       "text": [
        "S82EMR  "
       ]
      },
      {
       "output_type": "stream",
       "stream": "stdout",
       "text": [
        "O9CB81  "
       ]
      },
      {
       "output_type": "stream",
       "stream": "stdout",
       "text": [
        "TSWGO2  "
       ]
      },
      {
       "output_type": "stream",
       "stream": "stdout",
       "text": [
        "VKRCBU  "
       ]
      },
      {
       "output_type": "stream",
       "stream": "stdout",
       "text": [
        "ZCC15V  "
       ]
      },
      {
       "output_type": "stream",
       "stream": "stdout",
       "text": [
        "RFJ848  "
       ]
      },
      {
       "output_type": "stream",
       "stream": "stdout",
       "text": [
        "DUMA3G  "
       ]
      },
      {
       "output_type": "stream",
       "stream": "stdout",
       "text": [
        "1MQKGP  "
       ]
      },
      {
       "output_type": "stream",
       "stream": "stdout",
       "text": [
        "IY3Y5O  "
       ]
      },
      {
       "output_type": "stream",
       "stream": "stdout",
       "text": [
        "XCX2CD  "
       ]
      },
      {
       "output_type": "stream",
       "stream": "stdout",
       "text": [
        "3IDQXO  "
       ]
      },
      {
       "output_type": "stream",
       "stream": "stdout",
       "text": [
        "RQOWCQ  "
       ]
      },
      {
       "output_type": "stream",
       "stream": "stdout",
       "text": [
        "O15TRA  "
       ]
      },
      {
       "output_type": "stream",
       "stream": "stdout",
       "text": [
        "XJ9KKK  "
       ]
      },
      {
       "output_type": "stream",
       "stream": "stdout",
       "text": [
        "542PL1  "
       ]
      },
      {
       "output_type": "stream",
       "stream": "stdout",
       "text": [
        "CZCLEF  "
       ]
      },
      {
       "output_type": "stream",
       "stream": "stdout",
       "text": [
        "TDYH87  "
       ]
      },
      {
       "output_type": "stream",
       "stream": "stdout",
       "text": [
        "WQJPMT  "
       ]
      },
      {
       "output_type": "stream",
       "stream": "stdout",
       "text": [
        "WCDJ2D  "
       ]
      },
      {
       "output_type": "stream",
       "stream": "stdout",
       "text": [
        "IHYDF1  "
       ]
      },
      {
       "output_type": "stream",
       "stream": "stdout",
       "text": [
        "FUVQJP  "
       ]
      },
      {
       "output_type": "stream",
       "stream": "stdout",
       "text": [
        "0DLYOG  "
       ]
      },
      {
       "output_type": "stream",
       "stream": "stdout",
       "text": [
        "MW3K3B  "
       ]
      },
      {
       "output_type": "stream",
       "stream": "stdout",
       "text": [
        "PJCFDH  "
       ]
      },
      {
       "output_type": "stream",
       "stream": "stdout",
       "text": [
        "C2EQ15  "
       ]
      },
      {
       "output_type": "stream",
       "stream": "stdout",
       "text": [
        "HUZXMQ  "
       ]
      },
      {
       "output_type": "stream",
       "stream": "stdout",
       "text": [
        "D4RXRZ  "
       ]
      },
      {
       "output_type": "stream",
       "stream": "stdout",
       "text": [
        "PIRGK5  "
       ]
      },
      {
       "output_type": "stream",
       "stream": "stdout",
       "text": [
        "FYWEX9  "
       ]
      },
      {
       "output_type": "stream",
       "stream": "stdout",
       "text": [
        "UBCWF5  "
       ]
      },
      {
       "output_type": "stream",
       "stream": "stdout",
       "text": [
        "HYEW9W  "
       ]
      },
      {
       "output_type": "stream",
       "stream": "stdout",
       "text": [
        "XGN2ML  "
       ]
      },
      {
       "output_type": "stream",
       "stream": "stdout",
       "text": [
        "H3HEUH  "
       ]
      },
      {
       "output_type": "stream",
       "stream": "stdout",
       "text": [
        "35X2IT  "
       ]
      },
      {
       "output_type": "stream",
       "stream": "stdout",
       "text": [
        "HAUVGX  "
       ]
      },
      {
       "output_type": "stream",
       "stream": "stdout",
       "text": [
        "ISHKAX  "
       ]
      },
      {
       "output_type": "stream",
       "stream": "stdout",
       "text": [
        "BZOK6R  "
       ]
      },
      {
       "output_type": "stream",
       "stream": "stdout",
       "text": [
        "UB3L9X  "
       ]
      },
      {
       "output_type": "stream",
       "stream": "stdout",
       "text": [
        "XNVCCY  "
       ]
      },
      {
       "output_type": "stream",
       "stream": "stdout",
       "text": [
        "KVXL5M  "
       ]
      },
      {
       "output_type": "stream",
       "stream": "stdout",
       "text": [
        "XUDLLH  "
       ]
      },
      {
       "output_type": "stream",
       "stream": "stdout",
       "text": [
        "TPD3LK  "
       ]
      },
      {
       "output_type": "stream",
       "stream": "stdout",
       "text": [
        "H1TCS2  "
       ]
      },
      {
       "output_type": "stream",
       "stream": "stdout",
       "text": [
        "E1XXB8  "
       ]
      },
      {
       "output_type": "stream",
       "stream": "stdout",
       "text": [
        "OOA3ZR  "
       ]
      },
      {
       "output_type": "stream",
       "stream": "stdout",
       "text": [
        "F8U6CT  "
       ]
      },
      {
       "output_type": "stream",
       "stream": "stdout",
       "text": [
        "2J97FA  "
       ]
      },
      {
       "output_type": "stream",
       "stream": "stdout",
       "text": [
        "6R1RXH  "
       ]
      },
      {
       "output_type": "stream",
       "stream": "stdout",
       "text": [
        "EDJ1KC  "
       ]
      },
      {
       "output_type": "stream",
       "stream": "stdout",
       "text": [
        "T92T7T  "
       ]
      },
      {
       "output_type": "stream",
       "stream": "stdout",
       "text": [
        "MZFLCH  "
       ]
      },
      {
       "output_type": "stream",
       "stream": "stdout",
       "text": [
        "38QOT5  "
       ]
      },
      {
       "output_type": "stream",
       "stream": "stdout",
       "text": [
        "JZZN5K  "
       ]
      },
      {
       "output_type": "stream",
       "stream": "stdout",
       "text": [
        "PYYI23  "
       ]
      },
      {
       "output_type": "stream",
       "stream": "stdout",
       "text": [
        "O6HAJN  "
       ]
      },
      {
       "output_type": "stream",
       "stream": "stdout",
       "text": [
        "T8L1EG  "
       ]
      },
      {
       "output_type": "stream",
       "stream": "stdout",
       "text": [
        "U3CJNX  "
       ]
      },
      {
       "output_type": "stream",
       "stream": "stdout",
       "text": [
        "MXV0X5  "
       ]
      },
      {
       "output_type": "stream",
       "stream": "stdout",
       "text": [
        "BAY8G4  "
       ]
      },
      {
       "output_type": "stream",
       "stream": "stdout",
       "text": [
        "UAM75G  "
       ]
      },
      {
       "output_type": "stream",
       "stream": "stdout",
       "text": [
        "FWAFM1  "
       ]
      },
      {
       "output_type": "stream",
       "stream": "stdout",
       "text": [
        "V8TX9L  "
       ]
      },
      {
       "output_type": "stream",
       "stream": "stdout",
       "text": [
        "5PEZPU  "
       ]
      },
      {
       "output_type": "stream",
       "stream": "stdout",
       "text": [
        "41YD65  "
       ]
      },
      {
       "output_type": "stream",
       "stream": "stdout",
       "text": [
        "8XLLJQ  "
       ]
      },
      {
       "output_type": "stream",
       "stream": "stdout",
       "text": [
        "XHUH5A  "
       ]
      },
      {
       "output_type": "stream",
       "stream": "stdout",
       "text": [
        "X8I9KB  "
       ]
      },
      {
       "output_type": "stream",
       "stream": "stdout",
       "text": [
        "HKF38K  "
       ]
      },
      {
       "output_type": "stream",
       "stream": "stdout",
       "text": [
        "LQQ2HZ  "
       ]
      },
      {
       "output_type": "stream",
       "stream": "stdout",
       "text": [
        "1YEYQ6  "
       ]
      },
      {
       "output_type": "stream",
       "stream": "stdout",
       "text": [
        "72P2UE  "
       ]
      },
      {
       "output_type": "stream",
       "stream": "stdout",
       "text": [
        "78OF3Q  "
       ]
      },
      {
       "output_type": "stream",
       "stream": "stdout",
       "text": [
        "0VSXRN  "
       ]
      },
      {
       "output_type": "stream",
       "stream": "stdout",
       "text": [
        "VS0EZC  "
       ]
      },
      {
       "output_type": "stream",
       "stream": "stdout",
       "text": [
        "KB3CO0  "
       ]
      },
      {
       "output_type": "stream",
       "stream": "stdout",
       "text": [
        "4J7TD2  "
       ]
      },
      {
       "output_type": "stream",
       "stream": "stdout",
       "text": [
        "UD8N1D  "
       ]
      },
      {
       "output_type": "stream",
       "stream": "stdout",
       "text": [
        "UNFA2M  "
       ]
      },
      {
       "output_type": "stream",
       "stream": "stdout",
       "text": [
        "R9FV94  "
       ]
      },
      {
       "output_type": "stream",
       "stream": "stdout",
       "text": [
        "UPB0Q8  "
       ]
      },
      {
       "output_type": "stream",
       "stream": "stdout",
       "text": [
        "6GV7M7  "
       ]
      },
      {
       "output_type": "stream",
       "stream": "stdout",
       "text": [
        "MZUM0G  "
       ]
      },
      {
       "output_type": "stream",
       "stream": "stdout",
       "text": [
        "79KPO8  "
       ]
      },
      {
       "output_type": "stream",
       "stream": "stdout",
       "text": [
        "SJP2Z0  "
       ]
      },
      {
       "output_type": "stream",
       "stream": "stdout",
       "text": [
        "SURPHD  "
       ]
      },
      {
       "output_type": "stream",
       "stream": "stdout",
       "text": [
        "1L7BYR  "
       ]
      },
      {
       "output_type": "stream",
       "stream": "stdout",
       "text": [
        "IYHO8Q  "
       ]
      },
      {
       "output_type": "stream",
       "stream": "stdout",
       "text": [
        "WDWYD5  "
       ]
      },
      {
       "output_type": "stream",
       "stream": "stdout",
       "text": [
        "3DSYC4  "
       ]
      },
      {
       "output_type": "stream",
       "stream": "stdout",
       "text": [
        "VVOQP5  "
       ]
      },
      {
       "output_type": "stream",
       "stream": "stdout",
       "text": [
        "K3WHRE  "
       ]
      },
      {
       "output_type": "stream",
       "stream": "stdout",
       "text": [
        "DWNJKF  "
       ]
      },
      {
       "output_type": "stream",
       "stream": "stdout",
       "text": [
        "GSHL1A \n"
       ]
      }
     ],
     "prompt_number": 8
    },
    {
     "cell_type": "code",
     "collapsed": false,
     "input": [
      "# Save data\n",
      "numpy.savez(directory + \"data\", \n",
      "            NN_Ratio = (correct_us, total_us), \n",
      "            MM = (correct_ms, total_ms), \n",
      "            MMC = (correct_cs, total_cs), \n",
      "            Isodata = (correct_is, total_is), \n",
      "            Spectral = (correct_ss, total_ss), \n",
      "            SpectralMMC = (correct_ssm, total_ssm),\n",
      "            BallMatch = (correct_bs, total_bs),\n",
      "            nb_correspondences = nb_correspondences)"
     ],
     "language": "python",
     "metadata": {},
     "outputs": [],
     "prompt_number": 9
    },
    {
     "cell_type": "code",
     "collapsed": false,
     "input": [
      "# Load data\n",
      "data = numpy.load(directory + \"data.npz\")\n",
      "correct_us, total_us = data['NN_Ratio']\n",
      "correct_ms, total_ms = data['MM']\n",
      "correct_cs, total_cs = data['MMC']\n",
      "correct_is, total_is = data['Isodata']\n",
      "correct_ss, total_ss = data['Spectral']\n",
      "correct_ssm, total_ssm = data['SpectralMMC']\n",
      "correct_bs, total_bs = data['BallMatch']\n",
      "nb_correspondences = data['nb_correspondences']"
     ],
     "language": "python",
     "metadata": {},
     "outputs": [],
     "prompt_number": 9
    },
    {
     "cell_type": "code",
     "collapsed": false,
     "input": [
      "#figure(figsize = (10,7))\n",
      "display.accuPlot(\n",
      "    [correct_cs, correct_ms, correct_is, correct_mos, correct_us], \n",
      "    [total_cs, total_ms, total_is, total_mos, total_us], \n",
      "    [\"MMC\", \"MM\", \"Isodata\", \"Spectral\", \"NN-Ratio\"],\n",
      "    colors = [\"green\", \"red\", \"orange\" ,\"maroon\", \"blue\"],\n",
      "    nb_correspondences = nb_correspondences, \n",
      "    size=(7,3), ylim=(0.5,1.01), xlim=0.3,\n",
      "    output = \"result_graf.pdf\")"
     ],
     "language": "python",
     "metadata": {},
     "outputs": [
      {
       "output_type": "display_data",
       "png": "[encoded data removed]"
      }
     ],
     "prompt_number": 19
    },
    {
     "cell_type": "code",
     "collapsed": false,
     "input": [
      "display.accuPlot(\n",
      "    [correct_ss, correct_ssm, correct_cs], \n",
      "    [total_ss, total_ssm, total_cs],  \n",
      "    [\"Spectral\", \"Spectral MMC\", \"MMC\"], \n",
      "    colors = [\"blue\", \"red\", \"green\", \"orange\", \"purple\"], \n",
      "    size=(5,4), ylim=(0.5,1.01), xlim=3000,\n",
      "    output = \"result_graf_spectral-mmc.pdf\")\n",
      "savefig(\"test.pdf\", dpi=500, pad_inches=0.0)"
     ],
     "language": "python",
     "metadata": {},
     "outputs": [
      {
       "output_type": "display_data",
       "png": "[encoded data removed]"
      }
     ],
     "prompt_number": 18
    },
    {
     "cell_type": "code",
     "collapsed": false,
     "input": [
      "display.recallInvPlot(\n",
      "    [correct_us, correct_ms, correct_cs, correct_is, correct_ss], \n",
      "    [total_us, total_ms, total_cs, total_is, total_ss], \n",
      "    nb_correspondences,\n",
      "    [\"NN-Ratio\", \"MM\", \"MMC\", \"Isodata\",\"Spectral\"], \n",
      "    colors = [\"blue\", \"red\", \"green\", \"orange\", \"purple\"], \n",
      "    size=(5,4), ylim=(0.4,1.01), xlim=0.251)"
     ],
     "language": "python",
     "metadata": {},
     "outputs": [
      {
       "output_type": "display_data",
       "png": "[encoded data removed]"
      }
     ],
     "prompt_number": 56
    },
    {
     "cell_type": "code",
     "collapsed": false,
     "input": [
      "display.recallInvPlot(\n",
      "    [correct_ss, correct_ssm, correct_cs], \n",
      "    [total_ss, total_ssm, total_cs], \n",
      "    nb_correspondences,\n",
      "    [\"Spectral\", \"Spectral MMC\", \"MMC\"], \n",
      "    colors = [\"blue\", \"red\", \"green\", \"orange\", \"purple\"], \n",
      "    size=(5,4), ylim=(0.4,1.01), xlim=0.251,\n",
      "    output=\"result_graf_spectral-mmc.pdf\")"
     ],
     "language": "python",
     "metadata": {},
     "outputs": [
      {
       "ename": "NameError",
       "evalue": "name 'correct_ss' is not defined",
       "output_type": "pyerr",
       "traceback": [
        "\u001b[0;31m---------------------------------------------------------------------------\u001b[0m\n\u001b[0;31mNameError\u001b[0m                                 Traceback (most recent call last)",
        "\u001b[0;32m<ipython-input-5-64f6391b72fa>\u001b[0m in \u001b[0;36m<module>\u001b[0;34m()\u001b[0m\n\u001b[1;32m      1\u001b[0m display.recallInvPlot(\n\u001b[0;32m----> 2\u001b[0;31m     \u001b[0;34m[\u001b[0m\u001b[0mcorrect_ss\u001b[0m\u001b[0;34m,\u001b[0m \u001b[0mcorrect_ssm\u001b[0m\u001b[0;34m,\u001b[0m \u001b[0mcorrect_cs\u001b[0m\u001b[0;34m]\u001b[0m\u001b[0;34m,\u001b[0m\u001b[0;34m\u001b[0m\u001b[0m\n\u001b[0m\u001b[1;32m      3\u001b[0m     \u001b[0;34m[\u001b[0m\u001b[0mtotal_ss\u001b[0m\u001b[0;34m,\u001b[0m \u001b[0mtotal_ssm\u001b[0m\u001b[0;34m,\u001b[0m \u001b[0mtotal_cs\u001b[0m\u001b[0;34m]\u001b[0m\u001b[0;34m,\u001b[0m\u001b[0;34m\u001b[0m\u001b[0m\n\u001b[1;32m      4\u001b[0m     \u001b[0mnb_correspondences\u001b[0m\u001b[0;34m,\u001b[0m\u001b[0;34m\u001b[0m\u001b[0m\n\u001b[1;32m      5\u001b[0m     \u001b[0;34m[\u001b[0m\u001b[0;34m\"Spectral\"\u001b[0m\u001b[0;34m,\u001b[0m \u001b[0;34m\"Spectral MMC\"\u001b[0m\u001b[0;34m,\u001b[0m \u001b[0;34m\"MMC\"\u001b[0m\u001b[0;34m]\u001b[0m\u001b[0;34m,\u001b[0m\u001b[0;34m\u001b[0m\u001b[0m\n",
        "\u001b[0;31mNameError\u001b[0m: name 'correct_ss' is not defined"
       ]
      }
     ],
     "prompt_number": 5
    },
    {
     "cell_type": "code",
     "collapsed": false,
     "input": [],
     "language": "python",
     "metadata": {},
     "outputs": []
    }
   ],
   "metadata": {}
  }
 ]
}
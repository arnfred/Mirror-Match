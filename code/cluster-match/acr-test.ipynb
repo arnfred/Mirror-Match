{
 "metadata": {
  "name": "acr-test"
 },
 "nbformat": 3,
 "nbformat_minor": 0,
 "worksheets": [
  {
   "cells": [
    {
     "cell_type": "code",
     "collapsed": false,
     "input": [
      "#Stupid hack to load files from sibling dir\n",
      "import sys; import os\n",
      "sys.path.insert(0, os.path.abspath('..'))\n",
      "\n",
      "%load_ext autoreload\n",
      "%autoreload 2"
     ],
     "language": "python",
     "metadata": {},
     "outputs": [],
     "prompt_number": 147
    },
    {
     "cell_type": "code",
     "collapsed": false,
     "input": [
      "import features\n",
      "import display\n",
      "import weightMatrix\n",
      "import matching"
     ],
     "language": "python",
     "metadata": {},
     "outputs": [],
     "prompt_number": 148
    },
    {
     "cell_type": "code",
     "collapsed": false,
     "input": [
      "paths, homography = matching.getACRPaths(3,5,\"wall\")\n",
      "images = map(features.loadImage, paths)\n",
      "dt = 20\n",
      "descriptor_type = \"SIFT\"\n",
      "keypoint_type = \"SIFT\"\n",
      "paths"
     ],
     "language": "python",
     "metadata": {},
     "outputs": [
      {
       "output_type": "pyout",
       "prompt_number": 149,
       "text": [
        "['../../images/acr/wall/img3.ppm', '../../images/acr/wall/img5.ppm']"
       ]
      }
     ],
     "prompt_number": "*"
    },
    {
     "cell_type": "code",
     "collapsed": false,
     "input": [
      "matches_4, dist_4, dd = matching.testMatch(paths, \n",
      "                             homography, \n",
      "                             matching.standardMatch,\n",
      "                             options = {\n",
      "                                 \"match_limit\" : 4000,\n",
      "                                 \"unique_treshold\": 0.6,\n",
      "                                 \"prune\" : False,\n",
      "                                 \"distance_treshold\" : dt,\n",
      "                                 \"descriptor_type\" : descriptor_type,\n",
      "                                 \"keypoint_type\" : keypoint_type,\n",
      "                                 #\"verbose\" : True\n",
      "                             })"
     ],
     "language": "python",
     "metadata": {},
     "outputs": [],
     "prompt_number": "*"
    },
    {
     "cell_type": "code",
     "collapsed": false,
     "input": [
      "display.matchPoints(images[0], images[1], matches_4, dist_4, filename=\"isodata-matching.png\")"
     ],
     "language": "python",
     "metadata": {},
     "outputs": [],
     "prompt_number": "*"
    },
    {
     "cell_type": "code",
     "collapsed": false,
     "input": [
      "matches_5, dist_5, dd = matching.testMatch(paths, \n",
      "                             homography, \n",
      "                             matching.bothMatch,\n",
      "                             options = {\n",
      "                                 \"match_limit\" : 4000,\n",
      "                                 \"unique_treshold\": 0.6,\n",
      "                                 \"prune\" : False,\n",
      "                                 #\"verbose\" : True,\n",
      "                                 \"distance_treshold\" : dt,\n",
      "                                 \"descriptor_type\" : descriptor_type,\n",
      "                                 \"keypoint_type\" : keypoint_type,\n",
      "                             })"
     ],
     "language": "python",
     "metadata": {},
     "outputs": [],
     "prompt_number": "*"
    },
    {
     "cell_type": "code",
     "collapsed": false,
     "input": [
      "display.matchPoints(images[0], images[1], matches_5, dist_5, filename=\"standard-matching.png\")"
     ],
     "language": "python",
     "metadata": {},
     "outputs": [],
     "prompt_number": "*"
    },
    {
     "cell_type": "code",
     "collapsed": false,
     "input": [
      "def cm() :\n",
      "    return matching.testMatch(\n",
      "                            paths, \n",
      "                            homography, \n",
      "                            matching.clusterMatch,\n",
      "                            options = {\n",
      "                                \"prune_fun\" : weightMatrix.pruneRows, \n",
      "                                \"prune_limit\" : 0.15,\n",
      "                                \"min_edges\": 1,\n",
      "                                \"min_coherence\" : 0.3,\n",
      "                                \"verbose\" : False,\n",
      "                                \"prune\" : False,\n",
      "                                \"split_limit\" : 10000,\n",
      "                                \"cluster_prune_limit\" : 1.5,\n",
      "                                \"distance_treshold\" : dt,\n",
      "                                \"descriptor_type\" : \"SIFT\",\n",
      "                                \"keypoint_type\" : \"SIFT\",\n",
      "                            })\n",
      "#matches_1, dist_1, dd = cm()"
     ],
     "language": "python",
     "metadata": {},
     "outputs": [],
     "prompt_number": "*"
    },
    {
     "cell_type": "code",
     "collapsed": false,
     "input": [
      "#display.matchPoints(images[0], images[1], matches_1, dist_1, filename=\"unique-matching.png\")"
     ],
     "language": "python",
     "metadata": {},
     "outputs": [],
     "prompt_number": "*"
    },
    {
     "cell_type": "code",
     "collapsed": false,
     "input": [],
     "language": "python",
     "metadata": {},
     "outputs": [],
     "prompt_number": "*"
    }
   ],
   "metadata": {}
  }
 ]
}
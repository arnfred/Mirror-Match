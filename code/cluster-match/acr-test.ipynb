{
 "metadata": {
  "name": "acr-test"
 },
 "nbformat": 3,
 "nbformat_minor": 0,
 "worksheets": [
  {
   "cells": [
    {
     "cell_type": "code",
     "collapsed": false,
     "input": [
      "#Stupid hack to load files from sibling dir\n",
      "import sys; import os\n",
      "sys.path.insert(0, os.path.abspath('..'))\n",
      "\n",
      "%load_ext autoreload\n",
      "%autoreload 2"
     ],
     "language": "python",
     "metadata": {},
     "outputs": [],
     "prompt_number": 10
    },
    {
     "cell_type": "code",
     "collapsed": false,
     "input": [
      "import features\n",
      "import display\n",
      "import weightMatrix\n",
      "import matching"
     ],
     "language": "python",
     "metadata": {},
     "outputs": [],
     "prompt_number": 11
    },
    {
     "cell_type": "code",
     "collapsed": false,
     "input": [
      "paths, homography = matching.getACRPaths(2,\"leuven\")\n",
      "paths"
     ],
     "language": "python",
     "metadata": {},
     "outputs": [
      {
       "output_type": "pyout",
       "prompt_number": 12,
       "text": [
        "['../../images/acr/leuven/img1.ppm', '../../images/acr/leuven/img2.ppm']"
       ]
      }
     ],
     "prompt_number": 12
    },
    {
     "cell_type": "code",
     "collapsed": false,
     "input": [
      "pf = weightMatrix.pruneHighest\n",
      "matches_0 = matching.testMatch(paths, \n",
      "                             homography, \n",
      "                             matching.clusterMatch,\n",
      "                             options = {\n",
      "                                 \"prune_fun\" : pf, \n",
      "                                 \"prune_limit\" : 5.0\n",
      "                             })"
     ],
     "language": "python",
     "metadata": {},
     "outputs": [
      {
       "output_type": "stream",
       "stream": "stdout",
       "text": [
        "\n",
        "Median distance: 0.58"
       ]
      },
      {
       "output_type": "stream",
       "stream": "stdout",
       "text": [
        "\n",
        "Number of matches: 101\n"
       ]
      },
      {
       "output_type": "display_data",
       "png": "[encoded data removed]"
      }
     ],
     "prompt_number": "*"
    },
    {
     "cell_type": "code",
     "collapsed": false,
     "input": [
      "pf = weightMatrix.pruneTreshold\n",
      "matches_1 = matching.testMatch(paths, \n",
      "                             homography, \n",
      "                             matching.clusterMatch,\n",
      "                             options = {\n",
      "                                 \"prune_fun\" : pf, \n",
      "                                 \"prune_limit\" : 4.5\n",
      "                             })"
     ],
     "language": "python",
     "metadata": {},
     "outputs": [],
     "prompt_number": "*"
    },
    {
     "cell_type": "code",
     "collapsed": false,
     "input": [
      "matches_2 = matching.testMatch(paths, \n",
      "                             homography, \n",
      "                             matching.isodataMatch,\n",
      "                             options = {\n",
      "                                 \"k_init\" : 30,\n",
      "                                 \"max_iterations\" : 20,\n",
      "                                 \"min_partition_size\" : 10,\n",
      "                                 \"max_sd\" : 40,\n",
      "                                 \"min_distance\" : 25,\n",
      "                                 #\"verbose\" : True\n",
      "                             })"
     ],
     "language": "python",
     "metadata": {},
     "outputs": [],
     "prompt_number": "*"
    },
    {
     "cell_type": "code",
     "collapsed": false,
     "input": [
      "matches_3 = matching.testMatch(paths, \n",
      "                             homography, \n",
      "                             matching.standardMatch,\n",
      "                             options = {\n",
      "                                 \"match_limit\" : 500\n",
      "                                 #\"verbose\" : True\n",
      "                             })"
     ],
     "language": "python",
     "metadata": {},
     "outputs": [],
     "prompt_number": "*"
    },
    {
     "cell_type": "code",
     "collapsed": false,
     "input": [
      "images = map(features.loadImage, paths)\n",
      "display.matches(images[0], images[1], matches_1, filename=\"louvain-matching.png\")"
     ],
     "language": "python",
     "metadata": {},
     "outputs": [],
     "prompt_number": "*"
    },
    {
     "cell_type": "code",
     "collapsed": false,
     "input": [
      "display.matches(images[0], images[1], matches_2, filename=\"isodata-matching.png\")"
     ],
     "language": "python",
     "metadata": {},
     "outputs": [],
     "prompt_number": "*"
    },
    {
     "cell_type": "code",
     "collapsed": false,
     "input": [
      "display.matches(images[0], images[1], matches_3, filename=\"standard-matching.png\")"
     ],
     "language": "python",
     "metadata": {},
     "outputs": [],
     "prompt_number": "*"
    }
   ],
   "metadata": {}
  }
 ]
}
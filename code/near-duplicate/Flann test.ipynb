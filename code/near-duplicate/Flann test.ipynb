{
 "metadata": {
  "name": "Flann test"
 },
 "nbformat": 3,
 "nbformat_minor": 0,
 "worksheets": [
  {
   "cells": [
    {
     "cell_type": "code",
     "collapsed": false,
     "input": [
      "#Stupid hack to load files from sibling dir\n",
      "import sys; import os\n",
      "sys.path.insert(0, os.path.abspath('..'))\n",
      "\n",
      "%load_ext autoreload\n",
      "%autoreload 2"
     ],
     "language": "python",
     "metadata": {},
     "outputs": [],
     "prompt_number": 2
    },
    {
     "cell_type": "code",
     "collapsed": false,
     "input": [
      "import pyflann\n",
      "import display\n",
      "import matching\n",
      "from sklearn.neighbors.ball_tree import BallTree\n",
      "import ballmatch\n",
      "import features\n",
      "import numpy\n",
      "import louvain\n",
      "import mirrormatch\n",
      "import scipy\n",
      "import sklearn\n",
      "import scoring\n",
      "from itertools import combinations\n",
      "import os\n",
      "import duplicates"
     ],
     "language": "python",
     "metadata": {},
     "outputs": [],
     "prompt_number": 6
    },
    {
     "cell_type": "code",
     "collapsed": false,
     "input": [
      "folder = '../../images/near-duplicate samples/'\n",
      "files, paths = duplicates.get_files(folder, verbose = True)"
     ],
     "language": "python",
     "metadata": {},
     "outputs": [
      {
       "output_type": "stream",
       "stream": "stdout",
       "text": [
        " 0: 604.jpg\n",
        " 1: 312.jpg\n",
        " 2: 668.jpg\n",
        " 3: 648.jpg\n",
        " 4: 689.jpg\n",
        " 5: 311.jpg\n",
        " 6: 572.jpg\n",
        " 7: 584.jpg\n",
        " 8: 688.jpg\n",
        " 9: 314.jpg\n",
        "10: 313.jpg\n",
        "11: 568.jpg\n",
        "12: 067.jpg\n",
        "13: 656.jpg\n",
        "14: 647.jpg\n",
        "15: 588.jpg\n",
        "16: 593.jpg\n",
        "17: 686.jpg\n",
        "18: 658.jpg\n",
        "19: 310.jpg\n"
       ]
      }
     ],
     "prompt_number": 7
    },
    {
     "cell_type": "code",
     "collapsed": false,
     "input": [
      "indices, ks, ds = features.getFeatures(paths)"
     ],
     "language": "python",
     "metadata": {},
     "outputs": [],
     "prompt_number": 9
    },
    {
     "cell_type": "code",
     "collapsed": false,
     "input": [
      "flann = pyflann.FLANN()\n",
      "params = flann.build_index(ds, algorithm=\"autotuned\", target_precision=0.9, log_level = \"info\")"
     ],
     "language": "python",
     "metadata": {},
     "outputs": [],
     "prompt_number": 12
    },
    {
     "cell_type": "code",
     "collapsed": false,
     "input": [
      "result, dists = flann.nn_index(ds[1:10], 5, checks=params[\"checks\"]);"
     ],
     "language": "python",
     "metadata": {},
     "outputs": [],
     "prompt_number": 14
    },
    {
     "cell_type": "code",
     "collapsed": false,
     "input": [
      "result"
     ],
     "language": "python",
     "metadata": {},
     "outputs": [
      {
       "output_type": "pyout",
       "prompt_number": 15,
       "text": [
        "array([[   1, 5604, 5057, 5494, 4638],\n",
        "       [   2,   95, 4930, 2276, 4714],\n",
        "       [   3, 3397, 3465, 1965,  157],\n",
        "       [   4, 2531, 5120, 4939,  118],\n",
        "       [   5, 4841,  605,  160, 4940],\n",
        "       [   6, 2222,   18, 1872, 4644],\n",
        "       [   7, 4630,  679,    9,   13],\n",
        "       [   8, 4367,  280, 4045, 2199],\n",
        "       [   9, 1365, 5428, 5142, 3859]], dtype=int32)"
       ]
      }
     ],
     "prompt_number": 15
    },
    {
     "cell_type": "code",
     "collapsed": false,
     "input": [
      "dists[0]"
     ],
     "language": "python",
     "metadata": {},
     "outputs": [
      {
       "output_type": "pyout",
       "prompt_number": 18,
       "text": [
        "array([     0.,  62291.,  77933.,  80036.,  80840.], dtype=float32)"
       ]
      }
     ],
     "prompt_number": 18
    }
   ],
   "metadata": {}
  }
 ]
}
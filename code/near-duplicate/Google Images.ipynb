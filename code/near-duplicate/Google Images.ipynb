{
 "metadata": {
  "name": "Google Images"
 },
 "nbformat": 3,
 "nbformat_minor": 0,
 "worksheets": [
  {
   "cells": [
    {
     "cell_type": "code",
     "collapsed": false,
     "input": [
      "#Stupid hack to load files from sibling dir\n",
      "import sys; import os\n",
      "sys.path.insert(0, os.path.abspath('..'))\n",
      "\n",
      "%load_ext autoreload\n",
      "%autoreload 2"
     ],
     "language": "python",
     "metadata": {},
     "outputs": [],
     "prompt_number": 11
    },
    {
     "cell_type": "code",
     "collapsed": false,
     "input": [
      "import os\n",
      "import sys\n",
      "import time\n",
      "from urllib import FancyURLopener\n",
      "import json\n",
      "#import urllib\n",
      "import urllib2\n",
      "import simplejson\n",
      "import Image\n",
      "import string\n",
      "import re\n",
      "import time\n",
      "import display\n",
      "import matching\n",
      "from sklearn.neighbors.ball_tree import BallTree\n",
      "import ballmatch\n",
      "import features\n",
      "import numpy\n",
      "import louvain\n",
      "import mirrormatch\n",
      "import scipy\n",
      "import sklearn\n",
      "import scoring\n",
      "from itertools import combinations, takewhile\n",
      "import os\n",
      "import duplicates"
     ],
     "language": "python",
     "metadata": {},
     "outputs": [],
     "prompt_number": 12
    },
    {
     "cell_type": "code",
     "collapsed": false,
     "input": [
      "def getImagesFromPage(city, engine = \"google\") :\n",
      "    \n",
      "    url = \"%s_%s.html\" % (engine, city)\n",
      "    directory = 'gimages/%s' % city\n",
      "    filename_length = 20\n",
      "    filename_charset = string.ascii_letters + string.digits\n",
      "    \n",
      "    if not os.path.exists(directory):\n",
      "        os.makedirs(directory)\n",
      "    \n",
      "    class MyOpener(FancyURLopener): \n",
      "        version = 'Mozilla/5.0 (Windows; U; Windows NT 5.1; it; rv:1.8.1.11) Gecko/20071127 Firefox/2.0.0.11'\n",
      "    myopener = MyOpener()\n",
      "     \n",
      "    linestring = open(url).read()\n",
      "    for i, match in enumerate(re.findall(r'imgurl=(.*?(?:&|\\.(?:jpg|gif|png|jpeg)))', linestring, re.I)) :\n",
      "        print match\n",
      "        try:\n",
      "            file_name = \"%s/%s.jpg\" % (directory, str(i))\n",
      "            myopener.retrieve(match,file_name)\n",
      "        except:\n",
      "            print \"unable to open url \" + match\n",
      "        time.sleep(0.1)"
     ],
     "language": "python",
     "metadata": {},
     "outputs": [],
     "prompt_number": 13
    },
    {
     "cell_type": "code",
     "collapsed": false,
     "input": [
      "getImagesFromPage(\"paris\")"
     ],
     "language": "python",
     "metadata": {},
     "outputs": [
      {
       "output_type": "stream",
       "stream": "stdout",
       "text": [
        "http://dev.globaltraveler.com/wp-content/uploads/2013/06/Eiffel-Tower-Paris-France.jpg\n",
        "unable to open url http://dev.globaltraveler.com/wp-content/uploads/2013/06/Eiffel-Tower-Paris-France.jpg"
       ]
      },
      {
       "output_type": "stream",
       "stream": "stdout",
       "text": [
        "\n",
        "http://studentadventures.co.uk/static/uploads/large/1349104111.jpg"
       ]
      },
      {
       "output_type": "stream",
       "stream": "stdout",
       "text": [
        "\n",
        "http://writeshootcut.files.wordpress.com/2013/01/eiffel_tour_0.jpg"
       ]
      },
      {
       "output_type": "stream",
       "stream": "stdout",
       "text": [
        "\n",
        "http://www.outreachmoldova.org/upload/images/Static%252520Pages/Events/FOTO-PARIS.jpg"
       ]
      },
      {
       "output_type": "stream",
       "stream": "stdout",
       "text": [
        "\n",
        "http://upload.wikimedia.org/wikipedia/commons/6/6e/Paris_-_Eiffelturm_und_Marsfeld2.jpg"
       ]
      },
      {
       "output_type": "stream",
       "stream": "stdout",
       "text": [
        "\n",
        "http://www.home-hunts.net/wp-content/uploads/2013/05/Eiffel-Tower-Paris-France-Autumn.jpg"
       ]
      },
      {
       "output_type": "stream",
       "stream": "stdout",
       "text": [
        "\n",
        "http://images3.wikia.nocookie.net/__cb20111116023055/disney/images/8/88/Disneyland_paris.jpg"
       ]
      },
      {
       "output_type": "stream",
       "stream": "stdout",
       "text": [
        "\n",
        "http://blogs.iesabroad.org/wp-content/uploads/2013/05/Paris-1-1.jpg"
       ]
      },
      {
       "output_type": "stream",
       "stream": "stdout",
       "text": [
        "\n",
        "http://www.glsvlsi.org/paris_pic.jpg"
       ]
      },
      {
       "output_type": "stream",
       "stream": "stdout",
       "text": [
        "\n",
        "http://www.airpano.com/files/Eiffel-Tower-Paris-France/image6a.jpg"
       ]
      },
      {
       "output_type": "stream",
       "stream": "stdout",
       "text": [
        "\n",
        "http://www.afn.org/~alplatt/paris.gif"
       ]
      },
      {
       "output_type": "stream",
       "stream": "stdout",
       "text": [
        "\n",
        "http://templatizer.gsappcloud.org/sites/default/files/imagecache/primary500/paris-lr_1.jpg"
       ]
      },
      {
       "output_type": "stream",
       "stream": "stdout",
       "text": [
        "\n",
        "http://upload.wikimedia.org/wikipedia/commons/0/01/Notre_dame_de_paris_.jpg"
       ]
      },
      {
       "output_type": "stream",
       "stream": "stdout",
       "text": [
        "\n",
        "http://images.catholic.org/travel/destinations/2011012529_paris_night1.jpg"
       ]
      },
      {
       "output_type": "stream",
       "stream": "stdout",
       "text": [
        "\n",
        "http://s3.amazonaws.com/rapgenius/eiffel_tower_at_night_paris_france-normal.jpg"
       ]
      },
      {
       "output_type": "stream",
       "stream": "stdout",
       "text": [
        "\n",
        "http://shemagazine.ca/wp-content/uploads/2013/09/eiffel-tower-paris-2.jpg"
       ]
      },
      {
       "output_type": "stream",
       "stream": "stdout",
       "text": [
        "\n",
        "https://www.wannado.com/uploads/1005/2013131954213_paris-noche-eiffel_42_33_913_687.jpg"
       ]
      },
      {
       "output_type": "stream",
       "stream": "stdout",
       "text": [
        "\n",
        "http://toptravellists.net/wp-content/uploads/2013/01/Blue-Eiffel-Tower-Paris-France.jpg"
       ]
      },
      {
       "output_type": "stream",
       "stream": "stdout",
       "text": [
        "\n",
        "http://www.puretravel.com/blog/wp-content/uploads/2012/11/Arc-de-Triomphe-at-night-in-Paris-France.jpg"
       ]
      },
      {
       "output_type": "stream",
       "stream": "stdout",
       "text": [
        "\n",
        "unable to open url http://www.puretravel.com/blog/wp-content/uploads/2012/11/Arc-de-Triomphe-at-night-in-Paris-France.jpg"
       ]
      },
      {
       "output_type": "stream",
       "stream": "stdout",
       "text": [
        "\n",
        "http://media-cdn.tripadvisor.com/media/photo-s/02/6f/4d/c4/filename-tour-eiffel.jpg"
       ]
      },
      {
       "output_type": "stream",
       "stream": "stdout",
       "text": [
        "\n",
        "\",d);(d=J.xb(\"imgrefurl\"))&"
       ]
      },
      {
       "output_type": "stream",
       "stream": "stdout",
       "text": [
        "\n",
        "unable to open url \",d);(d=J.xb(\"imgrefurl\"))&\n",
        "https?:\\/\\/([^&"
       ]
      },
      {
       "output_type": "stream",
       "stream": "stdout",
       "text": [
        "\n",
        "unable to open url https?:\\/\\/([^&\n",
        "http://www.airpano.ru/files/eiffel_tower_big.jpg"
       ]
      },
      {
       "output_type": "stream",
       "stream": "stdout",
       "text": [
        "\n",
        "http://www.airpano.ru/files/paris_01_big.jpg"
       ]
      },
      {
       "output_type": "stream",
       "stream": "stdout",
       "text": [
        "\n",
        "http://upload.wikimedia.org/wikipedia/commons/0/0b/Eiffel_tower-Paris.jpg"
       ]
      },
      {
       "output_type": "stream",
       "stream": "stdout",
       "text": [
        "\n",
        "http://photosandspace.files.wordpress.com/2012/09/paris_1_bw.jpg"
       ]
      },
      {
       "output_type": "stream",
       "stream": "stdout",
       "text": [
        "\n",
        "http://www.komar.de/fileadmin/media/Fototapeten_Bilder/1-613_Cite_de_Paris_hd.jpg"
       ]
      },
      {
       "output_type": "stream",
       "stream": "stdout",
       "text": [
        "\n",
        "http://wallpaperose.com/wp-content/uploads/2013/06/Paris-At-Night-Pictures.jpg"
       ]
      },
      {
       "output_type": "stream",
       "stream": "stdout",
       "text": [
        "\n",
        "http://wallpapersus.com/wp-content/uploads/2012/03/eiffel-tower-paris-monochrome.jpg"
       ]
      },
      {
       "output_type": "stream",
       "stream": "stdout",
       "text": [
        "\n",
        "http://www.dentons.com/~/media/Images/Background%252520Images/Offices/Paris/Paris%252520Option%2525203.ashx&"
       ]
      },
      {
       "output_type": "stream",
       "stream": "stdout",
       "text": [
        "\n",
        "http://www.travelinggreener.com/wp-content/uploads/ParisFranceTourismDevelopmentAgency220097-2.jpg"
       ]
      },
      {
       "output_type": "stream",
       "stream": "stdout",
       "text": [
        "\n",
        "http://www.bespoke-bride.com/wp-content/uploads/2013/05/PAris-1.jpg"
       ]
      },
      {
       "output_type": "stream",
       "stream": "stdout",
       "text": [
        "\n",
        "http://edge.lovingapartments.com/images/slider/Paris/Great-Value-Accommodation-in-Paris.jpg"
       ]
      },
      {
       "output_type": "stream",
       "stream": "stdout",
       "text": [
        "\n",
        "http://blog.aspinaloflondon.com/wp-content/uploads/2013/08/paris-aerial-view-eiffel-tower.jpg"
       ]
      },
      {
       "output_type": "stream",
       "stream": "stdout",
       "text": [
        "\n",
        "http://upload.wikimedia.org/wikipedia/commons/e/e2/Enrique_Simonet_-_El_Juicio_de_Paris_-_1904.jpg"
       ]
      },
      {
       "output_type": "stream",
       "stream": "stdout",
       "text": [
        "\n",
        "http://dyzm7paggtda1.cloudfront.net/sites/default/files/styles/carousel_homepage/public/675x395_paris2.jpg"
       ]
      },
      {
       "output_type": "stream",
       "stream": "stdout",
       "text": [
        "\n",
        "http://a2.cdn-hotels.com/landing/images/9d3b82c4-f5bf-4fd9-8a71-17d136eb0c38_20130318102900.jpg"
       ]
      },
      {
       "output_type": "stream",
       "stream": "stdout",
       "text": [
        "\n",
        "http://www.etravelblog.com/wp-content/uploads/2013/04/First-Time-Paris-Eiffel-Tower.jpg"
       ]
      },
      {
       "output_type": "stream",
       "stream": "stdout",
       "text": [
        "\n",
        "http://johncavacas.com/wp-content/uploads/2012/10/Paris-The-Eiffel-Tower-Tour-Eiffel-I.jpg"
       ]
      },
      {
       "output_type": "stream",
       "stream": "stdout",
       "text": [
        "\n",
        "http://blog.krisatomic.com/wp-content/uploads/2012/11/krisatomic_paris12_IMG_7736.jpg"
       ]
      },
      {
       "output_type": "stream",
       "stream": "stdout",
       "text": [
        "\n",
        "http://cdn.theatlantic.com/static/infocus/paris071813/s_p01_RTX11MWH.jpg"
       ]
      },
      {
       "output_type": "stream",
       "stream": "stdout",
       "text": [
        "\n",
        "http://mastertravelphoto.com/wp-content/uploads/2012/10/Paris-France-Eiffel-Tower-6102.jpg"
       ]
      },
      {
       "output_type": "stream",
       "stream": "stdout",
       "text": [
        "\n",
        "http://us.123rf.com/400wm/400/400/jabbaphoto/jabbaphoto1206/jabbaphoto120600001/14151741-the-eiffel-tower-paris-bw.jpg"
       ]
      },
      {
       "output_type": "stream",
       "stream": "stdout",
       "text": [
        "\n",
        "http://www.hdwallpapersinn.com/wp-content/uploads/2013/04/HOTEL-DE-VILLE-paris-wallpaper.jpg"
       ]
      },
      {
       "output_type": "stream",
       "stream": "stdout",
       "text": [
        "\n",
        "http://upload.wikimedia.org/wikipedia/commons/3/3b/Eiffel_Tower_Paris_01.JPG"
       ]
      },
      {
       "output_type": "stream",
       "stream": "stdout",
       "text": [
        "\n",
        "http://wallapik.com/wp-content/uploads/2013/07/Paris-at-Night-Wallpaper-HD.jpg"
       ]
      },
      {
       "output_type": "stream",
       "stream": "stdout",
       "text": [
        "\n",
        "http://media-cdn.tripadvisor.com/media/photo-s/02/3a/db/66/vip-paris-diner-croisiere.jpg"
       ]
      },
      {
       "output_type": "stream",
       "stream": "stdout",
       "text": [
        "\n",
        "http://www.apartmentdistrict.com/blog/wp-content/uploads/2012/02/Paris_at_sunset_with_the_Eiffel_Tower.jpg"
       ]
      },
      {
       "output_type": "stream",
       "stream": "stdout",
       "text": [
        "\n",
        "http://www.hdwpapers.com/download/paris_at_night_wallpaper-1024x768.jpg"
       ]
      },
      {
       "output_type": "stream",
       "stream": "stdout",
       "text": [
        "\n",
        "http://cdn.enjoyourholiday.com/wp-content/uploads/2011/10/The-religious-hot-spot-of-Paris-La-Notre-Dame-10.jpg"
       ]
      },
      {
       "output_type": "stream",
       "stream": "stdout",
       "text": [
        "\n",
        "http://wallpaperswide.com/download/paris_cityscape-wallpaper-1920x1080.jpg"
       ]
      },
      {
       "output_type": "stream",
       "stream": "stdout",
       "text": [
        "\n",
        "http://i.telegraph.co.uk/multimedia/archive/02469/paris-woman_2469661b.jpg"
       ]
      },
      {
       "output_type": "stream",
       "stream": "stdout",
       "text": [
        "\n",
        "http://2.bp.blogspot.com/-I6i7-YQwXso/UQI1SUQcp5I/AAAAAAAAEAo/1NG1LNtPP5s/s1600/eiffel-tower-paris.jpg"
       ]
      },
      {
       "output_type": "stream",
       "stream": "stdout",
       "text": [
        "\n",
        "http://wallapik.com/wp-content/uploads/2013/05/eiffel-tower-beauty-hd-wallpapers.jpg"
       ]
      },
      {
       "output_type": "stream",
       "stream": "stdout",
       "text": [
        "\n",
        "http://upload.wikimedia.org/wikipedia/commons/1/11/Paris_Exposition_Champ_de_Mars_and_Eiffel_Tower,_Paris,_France,_1900_n1.jpg"
       ]
      },
      {
       "output_type": "stream",
       "stream": "stdout",
       "text": [
        "\n",
        "http://static4.businessinsider.com/image/51fbac9eeab8eaa375000003-1200/tianducheng-a-paris-replica-began-to-be-developed-in-china-in-2007.jpg"
       ]
      },
      {
       "output_type": "stream",
       "stream": "stdout",
       "text": [
        "\n",
        "http://www.parisavous.com/_uploads//images/Melle%252520Eiffel.jpg"
       ]
      },
      {
       "output_type": "stream",
       "stream": "stdout",
       "text": [
        "\n",
        "http://www.cristinamello.com.br/wp-content/uploads/2013/02/paris-france-aerial-city-view-eiffel-tower.jpg"
       ]
      },
      {
       "output_type": "stream",
       "stream": "stdout",
       "text": [
        "\n",
        "http://1.bp.blogspot.com/-rvt5Wyb1Q8k/UNBBungWTII/AAAAAAAAEhw/X_xuySsU-PU/s1600/Eiffel-tower-paris-black-and-white-photos-17.jpg"
       ]
      },
      {
       "output_type": "stream",
       "stream": "stdout",
       "text": [
        "\n",
        "http://britishstudiesprogram.org/wp-content/uploads/2013/01/no-trip-to-paris-is-complete-without-a-stop-at-the-galeries-lafayette-pariss-iconic-department-store-the-main-outpost-is-located-on-boulevard-haussmann-in-the-19th-arrondissement-in-a-stunning-art-nouveau-building-with-a-gorgeous-glass-dome.jpg"
       ]
      },
      {
       "output_type": "stream",
       "stream": "stdout",
       "text": [
        "\n",
        "http://eftm.com.au/wp-content/uploads/2012/07/Paris-048.jpg"
       ]
      },
      {
       "output_type": "stream",
       "stream": "stdout",
       "text": [
        "\n",
        "http://upload.wikimedia.org/wikipedia/commons/5/5a/Grand_entrance,_Exposition_Universal,_1900,_Paris,_France.jpg"
       ]
      },
      {
       "output_type": "stream",
       "stream": "stdout",
       "text": [
        "\n",
        "http://a57.foxnews.com/global.fncstatic.com/static/managed/img/660/371/eiffel%252520tower%252520paris.jpg"
       ]
      },
      {
       "output_type": "stream",
       "stream": "stdout",
       "text": [
        "\n",
        "http://harold.wpengine.netdna-cdn.com/wp-content/uploads/2013/06/Les-Lumieres-de-Paris.jpg"
       ]
      },
      {
       "output_type": "stream",
       "stream": "stdout",
       "text": [
        "\n",
        "http://also.kottke.org/misc/images/paris-color-photos-03.jpg"
       ]
      },
      {
       "output_type": "stream",
       "stream": "stdout",
       "text": [
        "\n",
        "http://paris.parsons.edu/wp-content/uploads/2013/02/FRANCE-PARIS-Directional-Signs-copy1_50.jpg"
       ]
      },
      {
       "output_type": "stream",
       "stream": "stdout",
       "text": [
        "\n",
        "http://media-cdn.tripadvisor.com/media/photo-s/03/9b/2d/f6/paris.jpg"
       ]
      },
      {
       "output_type": "stream",
       "stream": "stdout",
       "text": [
        "\n",
        "http://www.campingchampigny.fr/wp-content/uploads/2012/11/plan_paris.png"
       ]
      },
      {
       "output_type": "stream",
       "stream": "stdout",
       "text": [
        "\n",
        "http://upload.wikimedia.org/wikipedia/commons/6/66/Paris-0792.jpg"
       ]
      },
      {
       "output_type": "stream",
       "stream": "stdout",
       "text": [
        "\n",
        "http://www.nyhabitat.com/blog/wp-content/uploads/2012/09/eiffel-tower-construction-paris.jpg"
       ]
      },
      {
       "output_type": "stream",
       "stream": "stdout",
       "text": [
        "\n",
        "http://www.ciee.org/study-abroad/images/programs/0034/headers/desktop/paris-france-summer-language-and-culture-studying-abroad-l-enclos-218.jpg"
       ]
      },
      {
       "output_type": "stream",
       "stream": "stdout",
       "text": [
        "\n",
        "http://crispme.com/wp-content/uploads/24115.jpg"
       ]
      },
      {
       "output_type": "stream",
       "stream": "stdout",
       "text": [
        "\n",
        "http://msnbcmedia.msn.com/j/MSNBC/Components/Slideshows/_production/ss-090722-paris-NEW/ss-090722-paris-26.ss_full.jpg"
       ]
      },
      {
       "output_type": "stream",
       "stream": "stdout",
       "text": [
        "\n",
        "http://img.timeinc.net/time/photoessays/2009/travel_guide_paris/paris_intro.jpg"
       ]
      },
      {
       "output_type": "stream",
       "stream": "stdout",
       "text": [
        "\n",
        "http://upload.wikimedia.org/wikipedia/commons/7/74/Observatoire_Paris_20030404.jpg"
       ]
      },
      {
       "output_type": "stream",
       "stream": "stdout",
       "text": [
        "\n",
        "http://toptravellists.net/wallpapers/2013/01/City-Landscape-Eiffel-Tower-Paris-France-1024x1280.jpg"
       ]
      },
      {
       "output_type": "stream",
       "stream": "stdout",
       "text": [
        "\n",
        "http://farm9.staticflickr.com/8191/8387596350_b769a7fb20_c.jpg"
       ]
      },
      {
       "output_type": "stream",
       "stream": "stdout",
       "text": [
        "\n",
        "http://wallpup.com/wp-content/uploads/2013/03/Wallpapers-Tower-Eiffel-Paris.jpg"
       ]
      },
      {
       "output_type": "stream",
       "stream": "stdout",
       "text": [
        "\n",
        "http://blog.lib.umn.edu/vanm0049/psy1001section08spring2012/paris.jpeg"
       ]
      },
      {
       "output_type": "stream",
       "stream": "stdout",
       "text": [
        "\n",
        "http://www.martinloyer.fr/wp-content/uploads/2010/11/Vue-sur-Paris.jpg"
       ]
      },
      {
       "output_type": "stream",
       "stream": "stdout",
       "text": [
        "\n",
        "http://us.123rf.com/400wm/400/400/rumko/rumko1107/rumko110700026/9967448-word-paris-on-the-night-background.jpg"
       ]
      },
      {
       "output_type": "stream",
       "stream": "stdout",
       "text": [
        "\n",
        "http://upload.wikimedia.org/wikipedia/commons/9/9d/France_Paris_Notre-Dame_02.jpg"
       ]
      },
      {
       "output_type": "stream",
       "stream": "stdout",
       "text": [
        "\n",
        "http://www.planetware.com/i/map/F/paris-map.jpg"
       ]
      },
      {
       "output_type": "stream",
       "stream": "stdout",
       "text": [
        "\n",
        "http://scarlettlondon.com/wp-content/uploads/2013/03/Paris_Arc_de_Triomphe.jpg"
       ]
      },
      {
       "output_type": "stream",
       "stream": "stdout",
       "text": [
        "\n",
        "http://wallpaperstock.net/foggy-day-in-paris_wallpapers_34954_1920x1200.jpg"
       ]
      },
      {
       "output_type": "stream",
       "stream": "stdout",
       "text": [
        "\n",
        "http://us.123rf.com/400wm/400/400/moleskostudio/moleskostudio1208/moleskostudio120800075/15383669-pattern-with-paris-symbols.jpg"
       ]
      },
      {
       "output_type": "stream",
       "stream": "stdout",
       "text": [
        "\n",
        "http://www.osomeweb.com/wp-content/uploads/2013/07/paris.jpg"
       ]
      },
      {
       "output_type": "stream",
       "stream": "stdout",
       "text": [
        "\n",
        "http://upload.wikimedia.org/wikipedia/commons/2/26/Concerto_de_Tito_Paris.jpg"
       ]
      },
      {
       "output_type": "stream",
       "stream": "stdout",
       "text": [
        "\n",
        "http://eugene.kaspersky.com/files/2013/04/paris-april-place-concorde-france.jpg"
       ]
      },
      {
       "output_type": "stream",
       "stream": "stdout",
       "text": [
        "\n",
        "http://www.travelmodule.co.uk/data/landing_images/paris_077_jpg.jpg"
       ]
      },
      {
       "output_type": "stream",
       "stream": "stdout",
       "text": [
        "\n",
        "http://fashionweekdates.com/paris-fashion-week.jpg"
       ]
      },
      {
       "output_type": "stream",
       "stream": "stdout",
       "text": [
        "\n",
        "http://upload.wikimedia.org/wikipedia/commons/e/e0/Panorama_Paris_December_2007.jpg"
       ]
      },
      {
       "output_type": "stream",
       "stream": "stdout",
       "text": [
        "\n",
        "http://2.bp.blogspot.com/-MujGKjeAAIU/UTodWEap4iI/AAAAAAAAN2s/JlaraaHUelc/s1600/Disneyland%252BParis%252BHolidays.jpg"
       ]
      },
      {
       "output_type": "stream",
       "stream": "stdout",
       "text": [
        "\n",
        "http://3.bp.blogspot.com/-hJhBf4p1m44/UNBBVjPP12I/AAAAAAAAEf4/KT0GC28uqFU/s1600/Eiffel-tower-paris-black-and-white-photos-01.jpg"
       ]
      },
      {
       "output_type": "stream",
       "stream": "stdout",
       "text": [
        "\n",
        "http://www.thefashionandstyle.com/wp-content/uploads/2013/09/Paris-louvre.jpg"
       ]
      },
      {
       "output_type": "stream",
       "stream": "stdout",
       "text": [
        "\n",
        "http://2.bp.blogspot.com/-C0lZ5jH3ATE/UNBBtJ9I8mI/AAAAAAAAEhk/S37xvKTz-Pc/s1600/Eiffel-tower-paris-black-and-white-photos-16.jpg"
       ]
      },
      {
       "output_type": "stream",
       "stream": "stdout",
       "text": [
        "\n",
        "http://toptravellists.net/wallpapers/2013/01/Blue-Eiffel-Tower-Paris-France-1024x1280.jpg"
       ]
      },
      {
       "output_type": "stream",
       "stream": "stdout",
       "text": [
        "\n",
        "http://upload.wikimedia.org/wikipedia/commons/e/e6/Paris_Night.jpg"
       ]
      },
      {
       "output_type": "stream",
       "stream": "stdout",
       "text": [
        "\n",
        "http://www.maxweberstiftung.de/uploads/pics/Paris_DFK_01.jpg"
       ]
      },
      {
       "output_type": "stream",
       "stream": "stdout",
       "text": [
        "\n",
        "http://sequoiahamilton.files.wordpress.com/2012/10/paris_pic.jpg"
       ]
      },
      {
       "output_type": "stream",
       "stream": "stdout",
       "text": [
        "\n",
        "http://www.themorningnews.org/images/content/articles/our-french-connection-paris-texas.jpg"
       ]
      },
      {
       "output_type": "stream",
       "stream": "stdout",
       "text": [
        "\n",
        "http://www.ciee.org/study-abroad/images/cities/0021/headers/desktop/paris-france-summer-contemporary-music-creation-critique-studying-main.jpg"
       ]
      },
      {
       "output_type": "stream",
       "stream": "stdout",
       "text": [
        "\n"
       ]
      }
     ],
     "prompt_number": 14
    },
    {
     "cell_type": "code",
     "collapsed": false,
     "input": [
      "folder = 'gimages/paris'\n",
      "files = [path for path in os.listdir(folder) if path[-3:] in [\"jpg\", \"png\"]]\n",
      "paths = [folder + p for p in files]\n",
      "for i,f in enumerate(files) :\n",
      "    print(\"%2i: %s\" % (i,f))"
     ],
     "language": "python",
     "metadata": {},
     "outputs": [
      {
       "output_type": "stream",
       "stream": "stdout",
       "text": [
        " 0: 25.jpg\n",
        " 1: 74.jpg\n",
        " 2: 54.jpg\n",
        " 3: 12.jpg\n",
        " 4: 53.jpg\n",
        " 5: 83.jpg\n",
        " 6: 42.jpg\n",
        " 7: 5.jpg\n",
        " 8: 92.jpg\n",
        " 9: 9.jpg\n",
        "10: 4.jpg\n",
        "11: 33.jpg\n",
        "12: 27.jpg\n",
        "13: 71.jpg\n",
        "14: 95.jpg\n",
        "15: 72.jpg\n",
        "16: 40.jpg\n",
        "17: 50.jpg\n",
        "18: 93.jpg\n",
        "19: 34.jpg\n",
        "20: 94.jpg\n",
        "21: 48.jpg\n",
        "22: 57.jpg\n",
        "23: 15.jpg\n",
        "24: 2.jpg\n",
        "25: 8.jpg\n",
        "26: 55.jpg\n",
        "27: 23.jpg\n",
        "28: 81.jpg\n",
        "29: 16.jpg\n",
        "30: 87.jpg\n",
        "31: 32.jpg\n",
        "32: 86.jpg\n",
        "33: 6.jpg\n",
        "34: 59.jpg\n",
        "35: 24.jpg\n",
        "36: 84.jpg\n",
        "37: 65.jpg\n",
        "38: 7.jpg\n",
        "39: 63.jpg\n",
        "40: 88.jpg\n",
        "41: 79.jpg\n",
        "42: 37.jpg\n",
        "43: 43.jpg\n",
        "44: 13.jpg\n",
        "45: 99.jpg\n",
        "46: 22.jpg\n",
        "47: 49.jpg\n",
        "48: 60.jpg\n",
        "49: 68.jpg\n",
        "50: 52.jpg\n",
        "51: 26.jpg\n",
        "52: 1.jpg\n",
        "53: 82.jpg\n",
        "54: 41.jpg\n",
        "55: 91.jpg\n",
        "56: 61.jpg\n",
        "57: 39.jpg\n",
        "58: 38.jpg\n",
        "59: 89.jpg\n",
        "60: 76.jpg\n",
        "61: 85.jpg\n",
        "62: 97.jpg\n",
        "63: 44.jpg\n"
       ]
      }
     ],
     "prompt_number": 18
    },
    {
     "cell_type": "code",
     "collapsed": false,
     "input": [
      "dt = 5\n",
      "max_kp = 50\n",
      "keypoint_type = \"SIFT\"\n",
      "descriptor_type = \"SIFT\"\n",
      "nb_thresholds = 50\n",
      "thresholds = numpy.linspace(0.3,0.8, nb_thresholds)"
     ],
     "language": "python",
     "metadata": {},
     "outputs": [],
     "prompt_number": 19
    },
    {
     "cell_type": "code",
     "collapsed": false,
     "input": [
      "options = {\n",
      "       \"verbose\" : True,\n",
      "       \"kp_threshold\" : (0.05, 0.3),\n",
      "       \"neighbors\" : 10,\n",
      "       \"tree_type\" : \"flann\",\n",
      "       \"max_kp\" : 1000,\n",
      "       \"precision\" : 0.9,\n",
      "}\n",
      "mm_fun  = duplicates.get_matches(paths, options)"
     ],
     "language": "python",
     "metadata": {},
     "outputs": [
      {
       "ename": "NonExistantPath",
       "evalue": "",
       "output_type": "pyerr",
       "traceback": [
        "\u001b[0;31m---------------------------------------------------------------------------\u001b[0m\n\u001b[0;31mNonExistantPath\u001b[0m                           Traceback (most recent call last)",
        "\u001b[0;32m<ipython-input-21-b27646cb23ba>\u001b[0m in \u001b[0;36m<module>\u001b[0;34m()\u001b[0m\n\u001b[1;32m      7\u001b[0m        \u001b[0;34m\"precision\"\u001b[0m \u001b[0;34m:\u001b[0m \u001b[0;36m0.9\u001b[0m\u001b[0;34m,\u001b[0m\u001b[0;34m\u001b[0m\u001b[0m\n\u001b[1;32m      8\u001b[0m }\n\u001b[0;32m----> 9\u001b[0;31m \u001b[0mmm_fun\u001b[0m  \u001b[0;34m=\u001b[0m \u001b[0mduplicates\u001b[0m\u001b[0;34m.\u001b[0m\u001b[0mget_matches\u001b[0m\u001b[0;34m(\u001b[0m\u001b[0mpaths\u001b[0m\u001b[0;34m,\u001b[0m \u001b[0moptions\u001b[0m\u001b[0;34m)\u001b[0m\u001b[0;34m\u001b[0m\u001b[0m\n\u001b[0m",
        "\u001b[0;32m/home/arnfred/Projects/code/duplicates.pyc\u001b[0m in \u001b[0;36mget_matches\u001b[0;34m(paths, options)\u001b[0m\n\u001b[1;32m     50\u001b[0m     \u001b[0mdefaults\u001b[0m\u001b[0;34m.\u001b[0m\u001b[0mupdate\u001b[0m\u001b[0;34m(\u001b[0m\u001b[0moptions\u001b[0m\u001b[0;34m)\u001b[0m\u001b[0;34m\u001b[0m\u001b[0m\n\u001b[1;32m     51\u001b[0m \u001b[0;34m\u001b[0m\u001b[0m\n\u001b[0;32m---> 52\u001b[0;31m     \u001b[0;32mreturn\u001b[0m \u001b[0mmirrormatch\u001b[0m\u001b[0;34m.\u001b[0m\u001b[0mmatch\u001b[0m\u001b[0;34m(\u001b[0m\u001b[0mpaths\u001b[0m\u001b[0;34m,\u001b[0m \u001b[0mdefaults\u001b[0m\u001b[0;34m)\u001b[0m\u001b[0;34m\u001b[0m\u001b[0m\n\u001b[0m\u001b[1;32m     53\u001b[0m \u001b[0;34m\u001b[0m\u001b[0m\n\u001b[1;32m     54\u001b[0m \u001b[0;34m\u001b[0m\u001b[0m\n",
        "\u001b[0;32m/home/arnfred/Projects/code/mirrormatch.pyc\u001b[0m in \u001b[0;36mmatch\u001b[0;34m(paths, options)\u001b[0m\n\u001b[1;32m     34\u001b[0m \u001b[0;34m\u001b[0m\u001b[0m\n\u001b[1;32m     35\u001b[0m     \u001b[0;31m# Get all feature points\u001b[0m\u001b[0;34m\u001b[0m\u001b[0;34m\u001b[0m\u001b[0m\n\u001b[0;32m---> 36\u001b[0;31m     \u001b[0mindices\u001b[0m\u001b[0;34m,\u001b[0m \u001b[0mks\u001b[0m\u001b[0;34m,\u001b[0m \u001b[0mds\u001b[0m \u001b[0;34m=\u001b[0m \u001b[0mfeatures\u001b[0m\u001b[0;34m.\u001b[0m\u001b[0mgetFeatures\u001b[0m\u001b[0;34m(\u001b[0m\u001b[0mpaths\u001b[0m\u001b[0;34m,\u001b[0m \u001b[0moptions\u001b[0m\u001b[0;34m)\u001b[0m\u001b[0;34m\u001b[0m\u001b[0m\n\u001b[0m\u001b[1;32m     37\u001b[0m \u001b[0;34m\u001b[0m\u001b[0m\n\u001b[1;32m     38\u001b[0m     \u001b[0;31m# Match\u001b[0m\u001b[0;34m\u001b[0m\u001b[0;34m\u001b[0m\u001b[0m\n",
        "\u001b[0;32m/home/arnfred/Projects/code/features.pyc\u001b[0m in \u001b[0;36mgetFeatures\u001b[0;34m(paths, options)\u001b[0m\n\u001b[1;32m     55\u001b[0m \u001b[0;34m\u001b[0m\u001b[0m\n\u001b[1;32m     56\u001b[0m     \u001b[0;31m# Get all images\u001b[0m\u001b[0;34m\u001b[0m\u001b[0;34m\u001b[0m\u001b[0m\n\u001b[0;32m---> 57\u001b[0;31m     \u001b[0mimages\u001b[0m \u001b[0;34m=\u001b[0m \u001b[0mmap\u001b[0m\u001b[0;34m(\u001b[0m\u001b[0;32mlambda\u001b[0m \u001b[0mi\u001b[0m \u001b[0;34m:\u001b[0m \u001b[0mloadImage\u001b[0m\u001b[0;34m(\u001b[0m\u001b[0mi\u001b[0m\u001b[0;34m,\u001b[0m \u001b[0mfeature_type\u001b[0m\u001b[0;34m)\u001b[0m\u001b[0;34m,\u001b[0m \u001b[0mpaths\u001b[0m\u001b[0;34m)\u001b[0m\u001b[0;34m\u001b[0m\u001b[0m\n\u001b[0m\u001b[1;32m     58\u001b[0m \u001b[0;34m\u001b[0m\u001b[0m\n\u001b[1;32m     59\u001b[0m     \u001b[0;31m# Find feature points\u001b[0m\u001b[0;34m\u001b[0m\u001b[0;34m\u001b[0m\u001b[0m\n",
        "\u001b[0;32m/home/arnfred/Projects/code/features.pyc\u001b[0m in \u001b[0;36m<lambda>\u001b[0;34m(i)\u001b[0m\n\u001b[1;32m     55\u001b[0m \u001b[0;34m\u001b[0m\u001b[0m\n\u001b[1;32m     56\u001b[0m     \u001b[0;31m# Get all images\u001b[0m\u001b[0;34m\u001b[0m\u001b[0;34m\u001b[0m\u001b[0m\n\u001b[0;32m---> 57\u001b[0;31m     \u001b[0mimages\u001b[0m \u001b[0;34m=\u001b[0m \u001b[0mmap\u001b[0m\u001b[0;34m(\u001b[0m\u001b[0;32mlambda\u001b[0m \u001b[0mi\u001b[0m \u001b[0;34m:\u001b[0m \u001b[0mloadImage\u001b[0m\u001b[0;34m(\u001b[0m\u001b[0mi\u001b[0m\u001b[0;34m,\u001b[0m \u001b[0mfeature_type\u001b[0m\u001b[0;34m)\u001b[0m\u001b[0;34m,\u001b[0m \u001b[0mpaths\u001b[0m\u001b[0;34m)\u001b[0m\u001b[0;34m\u001b[0m\u001b[0m\n\u001b[0m\u001b[1;32m     58\u001b[0m \u001b[0;34m\u001b[0m\u001b[0m\n\u001b[1;32m     59\u001b[0m     \u001b[0;31m# Find feature points\u001b[0m\u001b[0;34m\u001b[0m\u001b[0;34m\u001b[0m\u001b[0m\n",
        "\u001b[0;32m/home/arnfred/Projects/code/features.pyc\u001b[0m in \u001b[0;36mloadImage\u001b[0;34m(path, feature_type)\u001b[0m\n\u001b[1;32m    349\u001b[0m     \u001b[0;31m# Try to read image, and if doesn't exist, throw exception\u001b[0m\u001b[0;34m\u001b[0m\u001b[0;34m\u001b[0m\u001b[0m\n\u001b[1;32m    350\u001b[0m     \u001b[0mimg\u001b[0m \u001b[0;34m=\u001b[0m \u001b[0mcv2\u001b[0m\u001b[0;34m.\u001b[0m\u001b[0mimread\u001b[0m\u001b[0;34m(\u001b[0m\u001b[0mpath\u001b[0m\u001b[0;34m)\u001b[0m\u001b[0;34m\u001b[0m\u001b[0m\n\u001b[0;32m--> 351\u001b[0;31m     \u001b[0;32mif\u001b[0m \u001b[0;34m(\u001b[0m\u001b[0mimg\u001b[0m \u001b[0;34m==\u001b[0m \u001b[0mNone\u001b[0m\u001b[0;34m)\u001b[0m \u001b[0;34m:\u001b[0m \u001b[0;32mraise\u001b[0m \u001b[0mNonExistantPath\u001b[0m\u001b[0;34m(\u001b[0m\u001b[0mpath\u001b[0m\u001b[0;34m,\u001b[0m \u001b[0;34m\"Image doesn't exist\"\u001b[0m\u001b[0;34m)\u001b[0m\u001b[0;34m\u001b[0m\u001b[0m\n\u001b[0m\u001b[1;32m    352\u001b[0m \u001b[0;34m\u001b[0m\u001b[0m\n\u001b[1;32m    353\u001b[0m     \u001b[0;31m# Convert to grayscale: First we convert the image to the L*u*v color space\u001b[0m\u001b[0;34m\u001b[0m\u001b[0;34m\u001b[0m\u001b[0m\n",
        "\u001b[0;31mNonExistantPath\u001b[0m: "
       ]
      }
     ],
     "prompt_number": 21
    },
    {
     "cell_type": "code",
     "collapsed": false,
     "input": [
      "matches = mm_fun(0.99)\n",
      "numpy.savez(\"paris\", matches = matches)"
     ],
     "language": "python",
     "metadata": {},
     "outputs": []
    },
    {
     "cell_type": "code",
     "collapsed": false,
     "input": [
      "scores, counts, labels = duplicates.get_scores(mm_fun, files, threshold = 0.8)\n",
      "numpy.savez(\"paris\", scores = scores, counts = counts, labels = labels)"
     ],
     "language": "python",
     "metadata": {},
     "outputs": []
    },
    {
     "cell_type": "code",
     "collapsed": false,
     "input": [
      "data = numpy.load(\"paris.npz\")\n",
      "scores = data['scores']\n",
      "counts = data['counts']\n",
      "labels = data['labels']\n",
      "duplicates.heatmap(scores, labels, cmap=cm.jet)"
     ],
     "language": "python",
     "metadata": {},
     "outputs": []
    },
    {
     "cell_type": "code",
     "collapsed": false,
     "input": [
      "scores_norm_count = duplicates.norm_counts(scores, modifier = 1000)\n",
      "duplicates.heatmap(scores_norm_count, labels, cmap=cm.jet)"
     ],
     "language": "python",
     "metadata": {},
     "outputs": []
    },
    {
     "cell_type": "code",
     "collapsed": false,
     "input": [
      "scores_capped = duplicates.cap(scores_norm_count)\n",
      "duplicates.heatmap(scores_capped, labels, cmap=cm.jet)"
     ],
     "language": "python",
     "metadata": {},
     "outputs": []
    },
    {
     "cell_type": "code",
     "collapsed": false,
     "input": [
      "scores_trimmed = duplicates.trim(scores_capped, margins = (0.3, 0.7), verbose = True)\n",
      "duplicates.heatmap(scores_trimmed, labels, cmap=cm.jet)"
     ],
     "language": "python",
     "metadata": {},
     "outputs": []
    },
    {
     "cell_type": "code",
     "collapsed": false,
     "input": [
      "s = scores_trimmed.copy()\n",
      "for i in range(s.shape[0]) :\n",
      "    s[i,i] = 1\n",
      "scores_squared = (s).dot(s)\n",
      "duplicates.heatmap(scores_squared, labels, cmap=cm.jet)"
     ],
     "language": "python",
     "metadata": {},
     "outputs": []
    },
    {
     "cell_type": "code",
     "collapsed": false,
     "input": [],
     "language": "python",
     "metadata": {},
     "outputs": []
    },
    {
     "cell_type": "code",
     "collapsed": false,
     "input": [],
     "language": "python",
     "metadata": {},
     "outputs": []
    }
   ],
   "metadata": {}
  }
 ]
}
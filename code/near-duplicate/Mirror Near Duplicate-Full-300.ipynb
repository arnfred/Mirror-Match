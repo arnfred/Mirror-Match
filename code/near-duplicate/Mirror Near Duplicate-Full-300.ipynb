{
 "metadata": {
  "name": "Mirror Near Duplicate-Full-300"
 },
 "nbformat": 3,
 "nbformat_minor": 0,
 "worksheets": [
  {
   "cells": [
    {
     "cell_type": "code",
     "collapsed": false,
     "input": [
      "#Stupid hack to load files from sibling dir\n",
      "import sys; import os\n",
      "sys.path.insert(0, os.path.abspath('..'))\n",
      "\n",
      "%load_ext autoreload\n",
      "%autoreload 2"
     ],
     "language": "python",
     "metadata": {},
     "outputs": [],
     "prompt_number": 1
    },
    {
     "cell_type": "code",
     "collapsed": false,
     "input": [
      "import display\n",
      "import matching\n",
      "from sklearn.neighbors.ball_tree import BallTree\n",
      "import ballmatch\n",
      "import features\n",
      "import numpy\n",
      "import louvain\n",
      "import mirrormatch\n",
      "import scipy\n",
      "import sklearn\n",
      "import scoring\n",
      "from itertools import combinations\n",
      "import os"
     ],
     "language": "python",
     "metadata": {},
     "outputs": [],
     "prompt_number": 2
    },
    {
     "cell_type": "code",
     "collapsed": false,
     "input": [
      "folder = '../near-duplicate/resources/california3/'\n",
      "files = [path for path in os.listdir(folder) if path[-3:] in [\"jpg\", \"png\"]]\n",
      "paths = [folder + p for p in files]\n",
      "for i,f in enumerate(files) :\n",
      "    print(\"%2i: %s\" % (i,f))"
     ],
     "language": "python",
     "metadata": {},
     "outputs": [
      {
       "output_type": "stream",
       "stream": "stdout",
       "text": [
        " 0: 443.jpg\n",
        " 1: 641.jpg\n",
        " 2: 136.jpg\n",
        " 3: 203.jpg\n",
        " 4: 075.jpg\n",
        " 5: 133.jpg\n",
        " 6: 068.jpg\n",
        " 7: 157.jpg\n",
        " 8: 595.jpg\n",
        " 9: 034.jpg\n",
        "10: 349.jpg\n",
        "11: 145.jpg\n",
        "12: 106.jpg\n",
        "13: 296.jpg\n",
        "14: 604.jpg\n",
        "15: 556.jpg\n",
        "16: 642.jpg\n",
        "17: 289.jpg\n",
        "18: 054.jpg\n",
        "19: 622.jpg\n",
        "20: 165.jpg\n",
        "21: 529.jpg\n",
        "22: 172.jpg\n",
        "23: 134.jpg\n",
        "24: 049.jpg\n",
        "25: 685.jpg\n",
        "26: 206.jpg\n",
        "27: 148.jpg\n",
        "28: 256.jpg\n",
        "29: 664.jpg\n",
        "30: 268.jpg\n",
        "31: 678.jpg\n",
        "32: 230.jpg\n",
        "33: 592.jpg\n",
        "34: 402.jpg\n",
        "35: 508.jpg\n",
        "36: 546.jpg\n",
        "37: 654.jpg\n",
        "38: 694.jpg\n",
        "39: 122.jpg\n",
        "40: 323.jpg\n",
        "41: 351.jpg\n",
        "42: 258.jpg\n",
        "43: 063.jpg\n",
        "44: 535.jpg\n",
        "45: 646.jpg\n",
        "46: 061.jpg\n",
        "47: 056.jpg\n",
        "48: 550.jpg\n",
        "49: 312.jpg\n",
        "50: 315.jpg\n",
        "51: 497.jpg\n",
        "52: 237.jpg\n",
        "53: 126.jpg\n",
        "54: 120.jpg\n",
        "55: 459.jpg\n",
        "56: 341.jpg\n",
        "57: 170.jpg\n",
        "58: 209.jpg\n",
        "59: 036.jpg\n",
        "60: 668.jpg\n",
        "61: 683.jpg\n",
        "62: 007.jpg\n",
        "63: 090.jpg\n",
        "64: 648.jpg\n",
        "65: 596.jpg\n",
        "66: 445.jpg\n",
        "67: 633.jpg\n",
        "68: 436.jpg\n",
        "69: 149.jpg\n",
        "70: 333.jpg\n",
        "71: 644.jpg\n",
        "72: 538.jpg\n",
        "73: 345.jpg\n",
        "74: 299.jpg\n",
        "75: 360.jpg\n",
        "76: 458.jpg\n",
        "77: 330.jpg\n",
        "78: 123.jpg\n",
        "79: 243.jpg\n",
        "80: 267.jpg\n",
        "81: 673.jpg\n",
        "82: 066.jpg\n",
        "83: 109.jpg\n",
        "84: 407.jpg\n",
        "85: 298.jpg\n",
        "86: 689.jpg\n",
        "87: 576.jpg\n",
        "88: 041.jpg\n",
        "89: 164.jpg\n",
        "90: 659.jpg\n",
        "91: 506.jpg\n",
        "92: 118.jpg\n",
        "93: 020.jpg\n",
        "94: 279.jpg\n",
        "95: 045.jpg\n",
        "96: 677.jpg\n",
        "97: 514.jpg\n",
        "98: 681.jpg\n",
        "99: 541.jpg\n",
        "100: 624.jpg\n",
        "101: 620.jpg\n",
        "102: 571.jpg\n",
        "103: 657.jpg\n",
        "104: 553.jpg\n",
        "105: 152.jpg\n",
        "106: 499.jpg\n",
        "107: 587.jpg\n",
        "108: 253.jpg\n",
        "109: 552.jpg\n",
        "110: 156.jpg\n",
        "111: 356.jpg\n",
        "112: 306.jpg\n",
        "113: 503.jpg\n",
        "114: 132.jpg\n",
        "115: 174.jpg\n",
        "116: 526.jpg\n",
        "117: 129.jpg\n",
        "118: 700.jpg\n",
        "119: 691.jpg\n",
        "120: 607.jpg\n",
        "121: 449.jpg\n",
        "122: 286.jpg\n",
        "123: 264.jpg\n",
        "124: 532.jpg\n",
        "125: 432.jpg\n",
        "126: 621.jpg\n",
        "127: 131.jpg\n",
        "128: 140.jpg\n",
        "129: 662.jpg\n",
        "130: 589.jpg\n",
        "131: 548.jpg\n",
        "132: 338.jpg\n",
        "133: 531.jpg\n",
        "134: 400.jpg\n",
        "135: 019.jpg\n",
        "136: 434.jpg\n",
        "137: 096.jpg\n",
        "138: 086.jpg\n",
        "139: 280.jpg\n",
        "140: 617.jpg\n",
        "141: 166.jpg\n",
        "142: 128.jpg\n",
        "143: 630.jpg\n",
        "144: 631.jpg\n",
        "145: 523.jpg\n",
        "146: 433.jpg\n",
        "147: 288.jpg\n",
        "148: 489.jpg\n",
        "149: 693.jpg\n",
        "150: 189.jpg\n",
        "151: 483.jpg\n",
        "152: 377.jpg\n",
        "153: 115.jpg\n",
        "154: 193.jpg\n",
        "155: 010.jpg\n",
        "156: 672.jpg\n",
        "157: 695.jpg\n",
        "158: 309.jpg\n",
        "159: 023.jpg\n",
        "160: 522.jpg\n",
        "161: 311.jpg\n",
        "162: 110.jpg\n",
        "163: 379.jpg\n",
        "164: 636.jpg\n",
        "165: 583.jpg\n",
        "166: 586.jpg\n",
        "167: 198.jpg\n",
        "168: 246.jpg\n",
        "169: 216.jpg\n",
        "170: 104.jpg\n",
        "171: 395.jpg\n",
        "172: 397.jpg\n",
        "173: 561.jpg\n",
        "174: 394.jpg\n",
        "175: 697.jpg\n",
        "176: 317.jpg\n",
        "177: 186.jpg\n",
        "178: 488.jpg\n",
        "179: 197.jpg\n",
        "180: 645.jpg\n",
        "181: 160.jpg\n",
        "182: 143.jpg\n",
        "183: 305.jpg\n",
        "184: 147.jpg\n",
        "185: 241.jpg\n",
        "186: 232.jpg\n",
        "187: 214.jpg\n",
        "188: 572.jpg\n",
        "189: 516.jpg\n",
        "190: 222.jpg\n",
        "191: 384.jpg\n",
        "192: 422.jpg\n",
        "193: 290.jpg\n",
        "194: 192.jpg\n",
        "195: 569.jpg\n",
        "196: 512.jpg\n",
        "197: 275.jpg\n",
        "198: 634.jpg\n",
        "199: 177.jpg\n",
        "200: 251.jpg\n",
        "201: 271.jpg\n",
        "202: 671.jpg\n",
        "203: 470.jpg\n",
        "204: 438.jpg\n",
        "205: 465.jpg\n",
        "206: 474.jpg\n",
        "207: 584.jpg\n",
        "208: 093.jpg\n",
        "209: 091.jpg\n",
        "210: 602.jpg\n",
        "211: 046.jpg\n",
        "212: 601.jpg\n",
        "213: 425.jpg\n",
        "214: 231.jpg\n",
        "215: 087.jpg\n",
        "216: 354.jpg\n",
        "217: 103.jpg\n",
        "218: 050.jpg\n",
        "219: 211.jpg\n",
        "220: 513.jpg\n",
        "221: 498.jpg\n",
        "222: 543.jpg\n",
        "223: 381.jpg\n",
        "224: 342.jpg\n",
        "225: 467.jpg\n",
        "226: 196.jpg\n",
        "227: 179.jpg\n",
        "228: 457.jpg\n",
        "229: 412.jpg\n",
        "230: 324.jpg\n",
        "231: 098.jpg\n",
        "232: 260.jpg\n",
        "233: 599.jpg\n",
        "234: 221.jpg\n",
        "235: 435.jpg\n",
        "236: 293.jpg\n",
        "237: 182.jpg\n",
        "238: 492.jpg\n",
        "239: 281.jpg\n",
        "240: 153.jpg\n",
        "241: 127.jpg\n",
        "242: 473.jpg\n",
        "243: 070.jpg\n",
        "244: 696.jpg\n",
        "245: 332.jpg\n",
        "246: 089.jpg\n",
        "247: 352.jpg\n",
        "248: 405.jpg\n",
        "249: 321.jpg\n",
        "250: 411.jpg\n",
        "251: 418.jpg\n",
        "252: 173.jpg\n",
        "253: 420.jpg\n",
        "254: 619.jpg\n",
        "255: 682.jpg\n",
        "256: 051.jpg\n",
        "257: 374.jpg\n",
        "258: 476.jpg\n",
        "259: 525.jpg\n",
        "260: 447.jpg\n",
        "261: 570.jpg\n",
        "262: 464.jpg\n",
        "263: 429.jpg\n",
        "264: 026.jpg\n",
        "265: 504.jpg\n",
        "266: 562.jpg\n",
        "267: 207.jpg\n",
        "268: 097.jpg\n",
        "269: 326.jpg\n",
        "270: 250.jpg\n",
        "271: 138.jpg\n",
        "272: 220.jpg\n",
        "273: 409.jpg\n",
        "274: 575.jpg\n",
        "275: 235.jpg\n",
        "276: 018.jpg\n",
        "277: 353.jpg\n",
        "278: 191.jpg\n",
        "279: 557.jpg\n",
        "280: 690.jpg\n",
        "281: 339.jpg\n",
        "282: 539.jpg\n",
        "283: 625.jpg\n",
        "284: 358.jpg\n",
        "285: 389.jpg\n",
        "286: 406.jpg\n",
        "287: 545.jpg\n",
        "288: 475.jpg\n",
        "289: 481.jpg\n",
        "290: 187.jpg\n",
        "291: 297.jpg\n",
        "292: 632.jpg\n",
        "293: 208.jpg\n",
        "294: 494.jpg\n",
        "295: 092.jpg\n",
        "296: 188.jpg\n",
        "297: 649.jpg\n",
        "298: 144.jpg\n",
        "299: 439.jpg\n",
        "300: 195.jpg\n",
        "301: 071.jpg\n",
        "302: 471.jpg\n",
        "303: 337.jpg\n",
        "304: 393.jpg\n",
        "305: 064.jpg\n",
        "306: 199.jpg\n",
        "307: 236.jpg\n",
        "308: 528.jpg\n",
        "309: 079.jpg\n",
        "310: 441.jpg\n",
        "311: 544.jpg\n",
        "312: 542.jpg\n",
        "313: 375.jpg\n",
        "314: 661.jpg\n",
        "315: 030.jpg\n",
        "316: 580.jpg\n",
        "317: 212.jpg\n",
        "318: 521.jpg\n",
        "319: 336.jpg\n",
        "320: 391.jpg\n",
        "321: 364.jpg\n",
        "322: 472.jpg\n",
        "323: 460.jpg\n",
        "324: 263.jpg\n",
        "325: 005.jpg\n",
        "326: 190.jpg\n",
        "327: 510.jpg\n",
        "328: 266.jpg\n",
        "329: 515.jpg\n",
        "330: 363.jpg\n",
        "331: 448.jpg\n",
        "332: 069.jpg\n",
        "333: 413.jpg\n",
        "334: 454.jpg\n",
        "335: 361.jpg\n",
        "336: 629.jpg\n",
        "337: 031.jpg\n",
        "338: 378.jpg\n",
        "339: 688.jpg\n",
        "340: 015.jpg\n",
        "341: 204.jpg\n",
        "342: 415.jpg\n",
        "343: 419.jpg\n",
        "344: 314.jpg\n",
        "345: 082.jpg\n",
        "346: 496.jpg\n",
        "347: 427.jpg\n",
        "348: 150.jpg\n",
        "349: 540.jpg\n",
        "350: 044.jpg\n",
        "351: 334.jpg\n",
        "352: 567.jpg\n",
        "353: 287.jpg\n",
        "354: 609.jpg\n",
        "355: 135.jpg\n",
        "356: 313.jpg\n",
        "357: 085.jpg\n",
        "358: 047.jpg\n",
        "359: 180.jpg\n",
        "360: 511.jpg\n",
        "361: 343.jpg\n",
        "362: 027.jpg\n",
        "363: 519.jpg\n",
        "364: 028.jpg\n",
        "365: 563.jpg\n",
        "366: 367.jpg\n",
        "367: 423.jpg\n",
        "368: 396.jpg\n",
        "369: 650.jpg\n",
        "370: 223.jpg\n",
        "371: 536.jpg\n",
        "372: 255.jpg\n",
        "373: 653.jpg\n",
        "374: 331.jpg\n",
        "375: 366.jpg\n",
        "376: 217.jpg\n",
        "377: 171.jpg\n",
        "378: 626.jpg\n",
        "379: 638.jpg\n",
        "380: 564.jpg\n",
        "381: 505.jpg\n",
        "382: 159.jpg\n",
        "383: 242.jpg\n",
        "384: 162.jpg\n",
        "385: 116.jpg\n",
        "386: 003.jpg\n",
        "387: 568.jpg\n",
        "388: 205.jpg\n",
        "389: 676.jpg\n",
        "390: 080.jpg\n",
        "391: 469.jpg\n",
        "392: 105.jpg\n",
        "393: 614.jpg\n",
        "394: 665.jpg\n",
        "395: 346.jpg\n",
        "396: 463.jpg\n",
        "397: 226.jpg\n",
        "398: 611.jpg\n",
        "399: 225.jpg\n",
        "400: 442.jpg\n",
        "401: 302.jpg\n",
        "402: 291.jpg\n",
        "403: 141.jpg\n",
        "404: 169.jpg\n",
        "405: 012.jpg\n",
        "406: 600.jpg\n",
        "407: 579.jpg\n",
        "408: 509.jpg\n",
        "409: 426.jpg\n",
        "410: 013.jpg\n",
        "411: 507.jpg\n",
        "412: 022.jpg\n",
        "413: 158.jpg\n",
        "414: 643.jpg\n",
        "415: 549.jpg\n",
        "416: 518.jpg\n",
        "417: 125.jpg\n",
        "418: 067.jpg\n",
        "419: 680.jpg\n",
        "420: 491.jpg\n",
        "421: 038.jpg\n",
        "422: 282.jpg\n",
        "423: 637.jpg\n",
        "424: 176.jpg\n",
        "425: 117.jpg\n",
        "426: 285.jpg\n",
        "427: 652.jpg\n",
        "428: 072.jpg\n",
        "429: 502.jpg\n",
        "430: 001.jpg\n",
        "431: 376.jpg\n",
        "432: 628.jpg\n",
        "433: 238.jpg\n",
        "434: 014.jpg\n",
        "435: 273.jpg\n",
        "436: 414.jpg\n",
        "437: 328.jpg\n",
        "438: 074.jpg\n",
        "439: 482.jpg\n",
        "440: 316.jpg\n",
        "441: 084.jpg\n",
        "442: 656.jpg\n",
        "443: 398.jpg\n",
        "444: 062.jpg\n",
        "445: 006.jpg\n",
        "446: 554.jpg\n",
        "447: 219.jpg\n",
        "448: 233.jpg\n",
        "449: 368.jpg\n",
        "450: 111.jpg\n",
        "451: 011.jpg\n",
        "452: 392.jpg\n",
        "453: 618.jpg\n",
        "454: 440.jpg\n",
        "455: 278.jpg\n",
        "456: 329.jpg\n",
        "457: 272.jpg\n",
        "458: 004.jpg\n",
        "459: 257.jpg\n",
        "460: 124.jpg\n",
        "461: 527.jpg\n",
        "462: 202.jpg\n",
        "463: 201.jpg\n",
        "464: 701.jpg\n",
        "465: 094.jpg\n",
        "466: 493.jpg\n",
        "467: 461.jpg\n",
        "468: 598.jpg\n",
        "469: 224.jpg\n",
        "470: 254.jpg\n",
        "471: 318.jpg\n",
        "472: 185.jpg\n",
        "473: 647.jpg\n",
        "474: 651.jpg\n",
        "475: 229.jpg\n",
        "476: 137.jpg\n",
        "477: 479.jpg\n",
        "478: 608.jpg\n",
        "479: 490.jpg\n",
        "480: 613.jpg\n",
        "481: 308.jpg\n",
        "482: 088.jpg\n",
        "483: 588.jpg\n",
        "484: 591.jpg\n",
        "485: 585.jpg\n",
        "486: 270.jpg\n",
        "487: 484.jpg\n",
        "488: 146.jpg\n",
        "489: 605.jpg\n",
        "490: 059.jpg\n",
        "491: 520.jpg\n",
        "492: 100.jpg\n",
        "493: 042.jpg\n",
        "494: 039.jpg\n",
        "495: 121.jpg\n",
        "496: 032.jpg\n",
        "497: 073.jpg\n",
        "498: 099.jpg\n",
        "499: 184.jpg\n",
        "500: 593.jpg\n",
        "501: 446.jpg\n",
        "502: 033.jpg\n",
        "503: 265.jpg\n",
        "504: 029.jpg\n",
        "505: 357.jpg\n",
        "506: 385.jpg\n",
        "507: 517.jpg\n",
        "508: 210.jpg\n",
        "509: 035.jpg\n",
        "510: 430.jpg\n",
        "511: 390.jpg\n",
        "512: 371.jpg\n",
        "513: 667.jpg\n",
        "514: 200.jpg\n",
        "515: 555.jpg\n",
        "516: 359.jpg\n",
        "517: 495.jpg\n",
        "518: 040.jpg\n",
        "519: 252.jpg\n",
        "520: 259.jpg\n",
        "521: 218.jpg\n",
        "522: 365.jpg\n",
        "523: 577.jpg\n",
        "524: 340.jpg\n",
        "525: 081.jpg\n",
        "526: 016.jpg\n",
        "527: 655.jpg\n",
        "528: 307.jpg\n",
        "529: 388.jpg\n",
        "530: 452.jpg\n",
        "531: 500.jpg\n",
        "532: 151.jpg\n",
        "533: 387.jpg\n",
        "534: 262.jpg\n",
        "535: 615.jpg\n",
        "536: 077.jpg\n",
        "537: 348.jpg\n",
        "538: 304.jpg\n",
        "539: 468.jpg\n",
        "540: 076.jpg\n",
        "541: 524.jpg\n",
        "542: 566.jpg\n",
        "543: 325.jpg\n",
        "544: 606.jpg\n",
        "545: 102.jpg\n",
        "546: 686.jpg\n",
        "547: 139.jpg\n",
        "548: 239.jpg\n",
        "549: 078.jpg\n",
        "550: 052.jpg\n",
        "551: 213.jpg\n",
        "552: 167.jpg\n",
        "553: 455.jpg\n",
        "554: 274.jpg\n",
        "555: 303.jpg\n",
        "556: 350.jpg\n",
        "557: 227.jpg\n",
        "558: 698.jpg\n",
        "559: 370.jpg\n",
        "560: 501.jpg\n",
        "561: 276.jpg\n",
        "562: 083.jpg\n",
        "563: 547.jpg\n",
        "564: 245.jpg\n",
        "565: 450.jpg\n",
        "566: 037.jpg\n",
        "567: 294.jpg\n",
        "568: 669.jpg\n",
        "569: 283.jpg\n",
        "570: 108.jpg\n",
        "571: 369.jpg\n",
        "572: 215.jpg\n",
        "573: 612.jpg\n",
        "574: 403.jpg\n",
        "575: 480.jpg\n",
        "576: 322.jpg\n",
        "577: 573.jpg\n",
        "578: 560.jpg\n",
        "579: 451.jpg\n",
        "580: 163.jpg\n",
        "581: 663.jpg\n",
        "582: 373.jpg\n",
        "583: 466.jpg\n",
        "584: 175.jpg\n",
        "585: 301.jpg\n",
        "586: 060.jpg\n",
        "587: 444.jpg\n",
        "588: 025.jpg\n",
        "589: 327.jpg\n",
        "590: 261.jpg\n",
        "591: 319.jpg\n",
        "592: 168.jpg\n",
        "593: 590.jpg\n",
        "594: 284.jpg\n",
        "595: 687.jpg\n",
        "596: 581.jpg\n",
        "597: 658.jpg\n",
        "598: 017.jpg\n",
        "599: 183.jpg\n",
        "600: 142.jpg\n",
        "601: 101.jpg\n",
        "602: 244.jpg\n",
        "603: 372.jpg\n",
        "604: 597.jpg\n",
        "605: 699.jpg\n",
        "606: 477.jpg\n",
        "607: 277.jpg\n",
        "608: 347.jpg\n",
        "609: 295.jpg\n",
        "610: 594.jpg\n",
        "611: 380.jpg\n",
        "612: 344.jpg\n",
        "613: 437.jpg\n",
        "614: 021.jpg\n",
        "615: 161.jpg\n",
        "616: 247.jpg\n",
        "617: 478.jpg\n",
        "618: 002.jpg\n",
        "619: 574.jpg\n",
        "620: 057.jpg\n",
        "621: 234.jpg\n",
        "622: 603.jpg\n",
        "623: 055.jpg\n",
        "624: 248.jpg\n",
        "625: 382.jpg\n",
        "626: 107.jpg\n",
        "627: 692.jpg\n",
        "628: 130.jpg\n",
        "629: 533.jpg\n",
        "630: 300.jpg\n",
        "631: 181.jpg\n",
        "632: 404.jpg\n",
        "633: 240.jpg\n",
        "634: 114.jpg\n",
        "635: 417.jpg\n",
        "636: 666.jpg\n",
        "637: 399.jpg\n",
        "638: 674.jpg\n",
        "639: 684.jpg\n",
        "640: 053.jpg\n",
        "641: 058.jpg\n",
        "642: 537.jpg\n",
        "643: 578.jpg\n",
        "644: 456.jpg\n",
        "645: 362.jpg\n",
        "646: 310.jpg\n",
        "647: 486.jpg\n",
        "648: 249.jpg\n",
        "649: 530.jpg\n",
        "650: 065.jpg\n",
        "651: 401.jpg\n",
        "652: 635.jpg\n",
        "653: 355.jpg\n",
        "654: 154.jpg\n",
        "655: 155.jpg\n",
        "656: 485.jpg\n",
        "657: 228.jpg\n",
        "658: 048.jpg\n",
        "659: 009.jpg\n",
        "660: 623.jpg\n",
        "661: 610.jpg\n",
        "662: 194.jpg\n",
        "663: 410.jpg\n",
        "664: 292.jpg\n",
        "665: 565.jpg\n",
        "666: 178.jpg\n",
        "667: 383.jpg\n",
        "668: 559.jpg\n",
        "669: 558.jpg\n",
        "670: 670.jpg\n",
        "671: 551.jpg\n",
        "672: 660.jpg\n",
        "673: 582.jpg\n",
        "674: 428.jpg\n",
        "675: 269.jpg\n",
        "676: 627.jpg\n",
        "677: 421.jpg\n",
        "678: 008.jpg\n",
        "679: 487.jpg\n",
        "680: 320.jpg\n",
        "681: 416.jpg\n",
        "682: 112.jpg\n",
        "683: 024.jpg\n",
        "684: 335.jpg\n",
        "685: 462.jpg\n",
        "686: 640.jpg\n",
        "687: 424.jpg\n",
        "688: 431.jpg\n",
        "689: 386.jpg\n",
        "690: 639.jpg\n",
        "691: 679.jpg\n",
        "692: 043.jpg\n",
        "693: 534.jpg\n",
        "694: 113.jpg\n",
        "695: 095.jpg\n",
        "696: 408.jpg\n",
        "697: 675.jpg\n",
        "698: 119.jpg\n",
        "699: 453.jpg\n",
        "700: 616.jpg\n"
       ]
      }
     ],
     "prompt_number": 3
    },
    {
     "cell_type": "code",
     "collapsed": false,
     "input": [
      "dt = 5\n",
      "keypoint_type = \"SIFT\"\n",
      "descriptor_type = \"SIFT\"\n",
      "nb_thresholds = 50\n",
      "thresholds = numpy.linspace(0.3,0.8, nb_thresholds)"
     ],
     "language": "python",
     "metadata": {},
     "outputs": [],
     "prompt_number": 4
    },
    {
     "cell_type": "code",
     "collapsed": false,
     "input": [
      "options = {\n",
      "       \"leaf_size\": 10,\n",
      "       \"keypoint_type\" : keypoint_type,\n",
      "       \"descriptor_type\" : descriptor_type,\n",
      "       \"only_mirror\" : True,\n",
      "       \"verbose\" : True,\n",
      "       \"max_kp\" : 300,\n",
      "}\n",
      "mm_fun  = mirrormatch.match(paths, options)"
     ],
     "language": "python",
     "metadata": {},
     "outputs": [
      {
       "output_type": "stream",
       "stream": "stdout",
       "text": [
        ": "
       ]
      },
      {
       "output_type": "stream",
       "stream": "stdout",
       "text": [
        ": "
       ]
      },
      {
       "output_type": "stream",
       "stream": "stdout",
       "text": [
        ": "
       ]
      },
      {
       "output_type": "stream",
       "stream": "stdout",
       "text": [
        ": "
       ]
      },
      {
       "output_type": "stream",
       "stream": "stdout",
       "text": [
        ": "
       ]
      },
      {
       "output_type": "stream",
       "stream": "stdout",
       "text": [
        ": "
       ]
      },
      {
       "output_type": "stream",
       "stream": "stdout",
       "text": [
        ": "
       ]
      },
      {
       "output_type": "stream",
       "stream": "stdout",
       "text": [
        ": "
       ]
      },
      {
       "output_type": "stream",
       "stream": "stdout",
       "text": [
        ": "
       ]
      },
      {
       "output_type": "stream",
       "stream": "stdout",
       "text": [
        ": "
       ]
      },
      {
       "output_type": "stream",
       "stream": "stdout",
       "text": [
        ": "
       ]
      },
      {
       "output_type": "stream",
       "stream": "stdout",
       "text": [
        ": "
       ]
      },
      {
       "output_type": "stream",
       "stream": "stdout",
       "text": [
        ": "
       ]
      },
      {
       "output_type": "stream",
       "stream": "stdout",
       "text": [
        ": "
       ]
      },
      {
       "output_type": "stream",
       "stream": "stdout",
       "text": [
        ": "
       ]
      },
      {
       "output_type": "stream",
       "stream": "stdout",
       "text": [
        ": "
       ]
      },
      {
       "output_type": "stream",
       "stream": "stdout",
       "text": [
        ": "
       ]
      },
      {
       "output_type": "stream",
       "stream": "stdout",
       "text": [
        ": "
       ]
      },
      {
       "output_type": "stream",
       "stream": "stdout",
       "text": [
        ": "
       ]
      },
      {
       "output_type": "stream",
       "stream": "stdout",
       "text": [
        ": "
       ]
      },
      {
       "output_type": "stream",
       "stream": "stdout",
       "text": [
        ": "
       ]
      },
      {
       "output_type": "stream",
       "stream": "stdout",
       "text": [
        ": "
       ]
      },
      {
       "output_type": "stream",
       "stream": "stdout",
       "text": [
        ": "
       ]
      },
      {
       "output_type": "stream",
       "stream": "stdout",
       "text": [
        ": "
       ]
      },
      {
       "output_type": "stream",
       "stream": "stdout",
       "text": [
        ": "
       ]
      },
      {
       "output_type": "stream",
       "stream": "stdout",
       "text": [
        ": "
       ]
      },
      {
       "output_type": "stream",
       "stream": "stdout",
       "text": [
        ": "
       ]
      },
      {
       "output_type": "stream",
       "stream": "stdout",
       "text": [
        ": "
       ]
      },
      {
       "output_type": "stream",
       "stream": "stdout",
       "text": [
        ": "
       ]
      },
      {
       "output_type": "stream",
       "stream": "stdout",
       "text": [
        ": "
       ]
      },
      {
       "output_type": "stream",
       "stream": "stdout",
       "text": [
        ": "
       ]
      },
      {
       "output_type": "stream",
       "stream": "stdout",
       "text": [
        ": "
       ]
      },
      {
       "output_type": "stream",
       "stream": "stdout",
       "text": [
        ": "
       ]
      },
      {
       "output_type": "stream",
       "stream": "stdout",
       "text": [
        ": "
       ]
      },
      {
       "output_type": "stream",
       "stream": "stdout",
       "text": [
        ": "
       ]
      },
      {
       "output_type": "stream",
       "stream": "stdout",
       "text": [
        ": "
       ]
      },
      {
       "output_type": "stream",
       "stream": "stdout",
       "text": [
        ": "
       ]
      },
      {
       "output_type": "stream",
       "stream": "stdout",
       "text": [
        ": "
       ]
      },
      {
       "output_type": "stream",
       "stream": "stdout",
       "text": [
        ": "
       ]
      },
      {
       "output_type": "stream",
       "stream": "stdout",
       "text": [
        ": "
       ]
      },
      {
       "output_type": "stream",
       "stream": "stdout",
       "text": [
        ": "
       ]
      },
      {
       "output_type": "stream",
       "stream": "stdout",
       "text": [
        ": "
       ]
      },
      {
       "output_type": "stream",
       "stream": "stdout",
       "text": [
        ": "
       ]
      },
      {
       "output_type": "stream",
       "stream": "stdout",
       "text": [
        ": "
       ]
      },
      {
       "output_type": "stream",
       "stream": "stdout",
       "text": [
        ": "
       ]
      },
      {
       "output_type": "stream",
       "stream": "stdout",
       "text": [
        ": "
       ]
      },
      {
       "output_type": "stream",
       "stream": "stdout",
       "text": [
        ": "
       ]
      },
      {
       "output_type": "stream",
       "stream": "stdout",
       "text": [
        ": "
       ]
      },
      {
       "output_type": "stream",
       "stream": "stdout",
       "text": [
        ": "
       ]
      },
      {
       "output_type": "stream",
       "stream": "stdout",
       "text": [
        ": "
       ]
      },
      {
       "output_type": "stream",
       "stream": "stdout",
       "text": [
        ": "
       ]
      },
      {
       "output_type": "stream",
       "stream": "stdout",
       "text": [
        ": "
       ]
      },
      {
       "output_type": "stream",
       "stream": "stdout",
       "text": [
        ": "
       ]
      },
      {
       "output_type": "stream",
       "stream": "stdout",
       "text": [
        ": "
       ]
      },
      {
       "output_type": "stream",
       "stream": "stdout",
       "text": [
        ": "
       ]
      },
      {
       "output_type": "stream",
       "stream": "stdout",
       "text": [
        ": "
       ]
      },
      {
       "output_type": "stream",
       "stream": "stdout",
       "text": [
        ": "
       ]
      },
      {
       "output_type": "stream",
       "stream": "stdout",
       "text": [
        ": "
       ]
      },
      {
       "output_type": "stream",
       "stream": "stdout",
       "text": [
        ": "
       ]
      },
      {
       "output_type": "stream",
       "stream": "stdout",
       "text": [
        ": "
       ]
      },
      {
       "output_type": "stream",
       "stream": "stdout",
       "text": [
        ": "
       ]
      },
      {
       "output_type": "stream",
       "stream": "stdout",
       "text": [
        ": "
       ]
      },
      {
       "output_type": "stream",
       "stream": "stdout",
       "text": [
        ": "
       ]
      },
      {
       "output_type": "stream",
       "stream": "stdout",
       "text": [
        ": "
       ]
      },
      {
       "output_type": "stream",
       "stream": "stdout",
       "text": [
        ": "
       ]
      },
      {
       "output_type": "stream",
       "stream": "stdout",
       "text": [
        ": "
       ]
      },
      {
       "output_type": "stream",
       "stream": "stdout",
       "text": [
        ": "
       ]
      },
      {
       "output_type": "stream",
       "stream": "stdout",
       "text": [
        ": "
       ]
      },
      {
       "output_type": "stream",
       "stream": "stdout",
       "text": [
        ": "
       ]
      },
      {
       "output_type": "stream",
       "stream": "stdout",
       "text": [
        ": "
       ]
      },
      {
       "output_type": "stream",
       "stream": "stdout",
       "text": [
        ": "
       ]
      },
      {
       "output_type": "stream",
       "stream": "stdout",
       "text": [
        ": "
       ]
      },
      {
       "output_type": "stream",
       "stream": "stdout",
       "text": [
        ": "
       ]
      },
      {
       "output_type": "stream",
       "stream": "stdout",
       "text": [
        ": "
       ]
      },
      {
       "output_type": "stream",
       "stream": "stdout",
       "text": [
        ": "
       ]
      },
      {
       "output_type": "stream",
       "stream": "stdout",
       "text": [
        ": "
       ]
      },
      {
       "output_type": "stream",
       "stream": "stdout",
       "text": [
        ": "
       ]
      },
      {
       "output_type": "stream",
       "stream": "stdout",
       "text": [
        ": "
       ]
      },
      {
       "output_type": "stream",
       "stream": "stdout",
       "text": [
        ": "
       ]
      },
      {
       "output_type": "stream",
       "stream": "stdout",
       "text": [
        ": "
       ]
      },
      {
       "output_type": "stream",
       "stream": "stdout",
       "text": [
        ": "
       ]
      },
      {
       "output_type": "stream",
       "stream": "stdout",
       "text": [
        ": "
       ]
      },
      {
       "output_type": "stream",
       "stream": "stdout",
       "text": [
        ": "
       ]
      },
      {
       "output_type": "stream",
       "stream": "stdout",
       "text": [
        ": "
       ]
      },
      {
       "output_type": "stream",
       "stream": "stdout",
       "text": [
        ": "
       ]
      },
      {
       "output_type": "stream",
       "stream": "stdout",
       "text": [
        ": "
       ]
      },
      {
       "output_type": "stream",
       "stream": "stdout",
       "text": [
        ": "
       ]
      },
      {
       "output_type": "stream",
       "stream": "stdout",
       "text": [
        ": "
       ]
      },
      {
       "output_type": "stream",
       "stream": "stdout",
       "text": [
        ": "
       ]
      },
      {
       "output_type": "stream",
       "stream": "stdout",
       "text": [
        ": "
       ]
      },
      {
       "output_type": "stream",
       "stream": "stdout",
       "text": [
        ": "
       ]
      },
      {
       "output_type": "stream",
       "stream": "stdout",
       "text": [
        ": "
       ]
      },
      {
       "output_type": "stream",
       "stream": "stdout",
       "text": [
        ": "
       ]
      },
      {
       "output_type": "stream",
       "stream": "stdout",
       "text": [
        ": "
       ]
      },
      {
       "output_type": "stream",
       "stream": "stdout",
       "text": [
        ": "
       ]
      },
      {
       "output_type": "stream",
       "stream": "stdout",
       "text": [
        ": "
       ]
      },
      {
       "output_type": "stream",
       "stream": "stdout",
       "text": [
        ": "
       ]
      },
      {
       "output_type": "stream",
       "stream": "stdout",
       "text": [
        ": "
       ]
      },
      {
       "output_type": "stream",
       "stream": "stdout",
       "text": [
        ": "
       ]
      },
      {
       "output_type": "stream",
       "stream": "stdout",
       "text": [
        ": "
       ]
      },
      {
       "output_type": "stream",
       "stream": "stdout",
       "text": [
        ": "
       ]
      },
      {
       "output_type": "stream",
       "stream": "stdout",
       "text": [
        ": "
       ]
      },
      {
       "output_type": "stream",
       "stream": "stdout",
       "text": [
        ": "
       ]
      },
      {
       "output_type": "stream",
       "stream": "stdout",
       "text": [
        ": "
       ]
      },
      {
       "output_type": "stream",
       "stream": "stdout",
       "text": [
        ": "
       ]
      },
      {
       "output_type": "stream",
       "stream": "stdout",
       "text": [
        ": "
       ]
      },
      {
       "output_type": "stream",
       "stream": "stdout",
       "text": [
        ": "
       ]
      },
      {
       "output_type": "stream",
       "stream": "stdout",
       "text": [
        ": "
       ]
      },
      {
       "output_type": "stream",
       "stream": "stdout",
       "text": [
        ": "
       ]
      },
      {
       "output_type": "stream",
       "stream": "stdout",
       "text": [
        ": "
       ]
      },
      {
       "output_type": "stream",
       "stream": "stdout",
       "text": [
        ": "
       ]
      },
      {
       "output_type": "stream",
       "stream": "stdout",
       "text": [
        ": "
       ]
      },
      {
       "output_type": "stream",
       "stream": "stdout",
       "text": [
        ": "
       ]
      },
      {
       "output_type": "stream",
       "stream": "stdout",
       "text": [
        ": "
       ]
      },
      {
       "output_type": "stream",
       "stream": "stdout",
       "text": [
        ": "
       ]
      },
      {
       "output_type": "stream",
       "stream": "stdout",
       "text": [
        ": "
       ]
      },
      {
       "output_type": "stream",
       "stream": "stdout",
       "text": [
        ": "
       ]
      },
      {
       "output_type": "stream",
       "stream": "stdout",
       "text": [
        ": "
       ]
      },
      {
       "output_type": "stream",
       "stream": "stdout",
       "text": [
        ": "
       ]
      },
      {
       "output_type": "stream",
       "stream": "stdout",
       "text": [
        ": "
       ]
      },
      {
       "output_type": "stream",
       "stream": "stdout",
       "text": [
        ": "
       ]
      },
      {
       "output_type": "stream",
       "stream": "stdout",
       "text": [
        ": "
       ]
      },
      {
       "output_type": "stream",
       "stream": "stdout",
       "text": [
        ": "
       ]
      },
      {
       "output_type": "stream",
       "stream": "stdout",
       "text": [
        ": "
       ]
      },
      {
       "output_type": "stream",
       "stream": "stdout",
       "text": [
        ": "
       ]
      },
      {
       "output_type": "stream",
       "stream": "stdout",
       "text": [
        ": "
       ]
      },
      {
       "output_type": "stream",
       "stream": "stdout",
       "text": [
        ": "
       ]
      },
      {
       "output_type": "stream",
       "stream": "stdout",
       "text": [
        ": "
       ]
      },
      {
       "output_type": "stream",
       "stream": "stdout",
       "text": [
        ": "
       ]
      },
      {
       "output_type": "stream",
       "stream": "stdout",
       "text": [
        ": "
       ]
      },
      {
       "output_type": "stream",
       "stream": "stdout",
       "text": [
        ": "
       ]
      },
      {
       "output_type": "stream",
       "stream": "stdout",
       "text": [
        ": "
       ]
      },
      {
       "output_type": "stream",
       "stream": "stdout",
       "text": [
        ": "
       ]
      },
      {
       "output_type": "stream",
       "stream": "stdout",
       "text": [
        ": "
       ]
      },
      {
       "output_type": "stream",
       "stream": "stdout",
       "text": [
        ": "
       ]
      },
      {
       "output_type": "stream",
       "stream": "stdout",
       "text": [
        ": "
       ]
      },
      {
       "output_type": "stream",
       "stream": "stdout",
       "text": [
        ": "
       ]
      },
      {
       "output_type": "stream",
       "stream": "stdout",
       "text": [
        ": "
       ]
      },
      {
       "output_type": "stream",
       "stream": "stdout",
       "text": [
        ": "
       ]
      },
      {
       "output_type": "stream",
       "stream": "stdout",
       "text": [
        ": "
       ]
      },
      {
       "output_type": "stream",
       "stream": "stdout",
       "text": [
        ": "
       ]
      },
      {
       "output_type": "stream",
       "stream": "stdout",
       "text": [
        ": "
       ]
      },
      {
       "output_type": "stream",
       "stream": "stdout",
       "text": [
        ": "
       ]
      },
      {
       "output_type": "stream",
       "stream": "stdout",
       "text": [
        ": "
       ]
      },
      {
       "output_type": "stream",
       "stream": "stdout",
       "text": [
        ": "
       ]
      },
      {
       "output_type": "stream",
       "stream": "stdout",
       "text": [
        ": "
       ]
      },
      {
       "output_type": "stream",
       "stream": "stdout",
       "text": [
        ": "
       ]
      },
      {
       "output_type": "stream",
       "stream": "stdout",
       "text": [
        ": "
       ]
      },
      {
       "output_type": "stream",
       "stream": "stdout",
       "text": [
        ": "
       ]
      },
      {
       "output_type": "stream",
       "stream": "stdout",
       "text": [
        ": "
       ]
      },
      {
       "output_type": "stream",
       "stream": "stdout",
       "text": [
        ": "
       ]
      },
      {
       "output_type": "stream",
       "stream": "stdout",
       "text": [
        ": "
       ]
      },
      {
       "output_type": "stream",
       "stream": "stdout",
       "text": [
        ": "
       ]
      },
      {
       "output_type": "stream",
       "stream": "stdout",
       "text": [
        ": "
       ]
      },
      {
       "output_type": "stream",
       "stream": "stdout",
       "text": [
        ": "
       ]
      },
      {
       "output_type": "stream",
       "stream": "stdout",
       "text": [
        ": "
       ]
      },
      {
       "output_type": "stream",
       "stream": "stdout",
       "text": [
        ": "
       ]
      },
      {
       "output_type": "stream",
       "stream": "stdout",
       "text": [
        ": "
       ]
      },
      {
       "output_type": "stream",
       "stream": "stdout",
       "text": [
        ": "
       ]
      },
      {
       "output_type": "stream",
       "stream": "stdout",
       "text": [
        ": "
       ]
      },
      {
       "output_type": "stream",
       "stream": "stdout",
       "text": [
        ": "
       ]
      },
      {
       "output_type": "stream",
       "stream": "stdout",
       "text": [
        ": "
       ]
      },
      {
       "output_type": "stream",
       "stream": "stdout",
       "text": [
        ": "
       ]
      },
      {
       "output_type": "stream",
       "stream": "stdout",
       "text": [
        ": "
       ]
      },
      {
       "output_type": "stream",
       "stream": "stdout",
       "text": [
        ": "
       ]
      },
      {
       "output_type": "stream",
       "stream": "stdout",
       "text": [
        ": "
       ]
      },
      {
       "output_type": "stream",
       "stream": "stdout",
       "text": [
        ": "
       ]
      },
      {
       "output_type": "stream",
       "stream": "stdout",
       "text": [
        ": "
       ]
      },
      {
       "output_type": "stream",
       "stream": "stdout",
       "text": [
        ": "
       ]
      },
      {
       "output_type": "stream",
       "stream": "stdout",
       "text": [
        ": "
       ]
      },
      {
       "output_type": "stream",
       "stream": "stdout",
       "text": [
        ": "
       ]
      },
      {
       "output_type": "stream",
       "stream": "stdout",
       "text": [
        ": "
       ]
      },
      {
       "output_type": "stream",
       "stream": "stdout",
       "text": [
        ": "
       ]
      },
      {
       "output_type": "stream",
       "stream": "stdout",
       "text": [
        ": "
       ]
      },
      {
       "output_type": "stream",
       "stream": "stdout",
       "text": [
        ": "
       ]
      },
      {
       "output_type": "stream",
       "stream": "stdout",
       "text": [
        ": "
       ]
      },
      {
       "output_type": "stream",
       "stream": "stdout",
       "text": [
        ": "
       ]
      },
      {
       "output_type": "stream",
       "stream": "stdout",
       "text": [
        ": "
       ]
      },
      {
       "output_type": "stream",
       "stream": "stdout",
       "text": [
        ": "
       ]
      },
      {
       "output_type": "stream",
       "stream": "stdout",
       "text": [
        ": "
       ]
      },
      {
       "output_type": "stream",
       "stream": "stdout",
       "text": [
        ": "
       ]
      },
      {
       "output_type": "stream",
       "stream": "stdout",
       "text": [
        ": "
       ]
      },
      {
       "output_type": "stream",
       "stream": "stdout",
       "text": [
        ": "
       ]
      },
      {
       "output_type": "stream",
       "stream": "stdout",
       "text": [
        ": "
       ]
      },
      {
       "output_type": "stream",
       "stream": "stdout",
       "text": [
        ": "
       ]
      },
      {
       "output_type": "stream",
       "stream": "stdout",
       "text": [
        ": "
       ]
      },
      {
       "output_type": "stream",
       "stream": "stdout",
       "text": [
        ": "
       ]
      },
      {
       "output_type": "stream",
       "stream": "stdout",
       "text": [
        ": "
       ]
      },
      {
       "output_type": "stream",
       "stream": "stdout",
       "text": [
        ": "
       ]
      },
      {
       "output_type": "stream",
       "stream": "stdout",
       "text": [
        ": "
       ]
      },
      {
       "output_type": "stream",
       "stream": "stdout",
       "text": [
        ": "
       ]
      },
      {
       "output_type": "stream",
       "stream": "stdout",
       "text": [
        ": "
       ]
      },
      {
       "output_type": "stream",
       "stream": "stdout",
       "text": [
        ": "
       ]
      },
      {
       "output_type": "stream",
       "stream": "stdout",
       "text": [
        ": "
       ]
      },
      {
       "output_type": "stream",
       "stream": "stdout",
       "text": [
        ": "
       ]
      },
      {
       "output_type": "stream",
       "stream": "stdout",
       "text": [
        ": "
       ]
      },
      {
       "output_type": "stream",
       "stream": "stdout",
       "text": [
        ": "
       ]
      },
      {
       "output_type": "stream",
       "stream": "stdout",
       "text": [
        ": "
       ]
      },
      {
       "output_type": "stream",
       "stream": "stdout",
       "text": [
        ": "
       ]
      },
      {
       "output_type": "stream",
       "stream": "stdout",
       "text": [
        ": "
       ]
      },
      {
       "output_type": "stream",
       "stream": "stdout",
       "text": [
        ": "
       ]
      },
      {
       "output_type": "stream",
       "stream": "stdout",
       "text": [
        ": "
       ]
      },
      {
       "output_type": "stream",
       "stream": "stdout",
       "text": [
        ": "
       ]
      },
      {
       "output_type": "stream",
       "stream": "stdout",
       "text": [
        ": "
       ]
      },
      {
       "output_type": "stream",
       "stream": "stdout",
       "text": [
        ": "
       ]
      },
      {
       "output_type": "stream",
       "stream": "stdout",
       "text": [
        ": "
       ]
      },
      {
       "output_type": "stream",
       "stream": "stdout",
       "text": [
        ": "
       ]
      },
      {
       "output_type": "stream",
       "stream": "stdout",
       "text": [
        ": "
       ]
      },
      {
       "output_type": "stream",
       "stream": "stdout",
       "text": [
        ": "
       ]
      },
      {
       "output_type": "stream",
       "stream": "stdout",
       "text": [
        ": "
       ]
      },
      {
       "output_type": "stream",
       "stream": "stdout",
       "text": [
        ": "
       ]
      },
      {
       "output_type": "stream",
       "stream": "stdout",
       "text": [
        ": "
       ]
      },
      {
       "output_type": "stream",
       "stream": "stdout",
       "text": [
        ": "
       ]
      },
      {
       "output_type": "stream",
       "stream": "stdout",
       "text": [
        ": "
       ]
      },
      {
       "output_type": "stream",
       "stream": "stdout",
       "text": [
        ": "
       ]
      },
      {
       "output_type": "stream",
       "stream": "stdout",
       "text": [
        ": "
       ]
      },
      {
       "output_type": "stream",
       "stream": "stdout",
       "text": [
        ": "
       ]
      },
      {
       "output_type": "stream",
       "stream": "stdout",
       "text": [
        ": "
       ]
      },
      {
       "output_type": "stream",
       "stream": "stdout",
       "text": [
        ": "
       ]
      },
      {
       "output_type": "stream",
       "stream": "stdout",
       "text": [
        ": "
       ]
      },
      {
       "output_type": "stream",
       "stream": "stdout",
       "text": [
        ": "
       ]
      },
      {
       "output_type": "stream",
       "stream": "stdout",
       "text": [
        ": "
       ]
      },
      {
       "output_type": "stream",
       "stream": "stdout",
       "text": [
        ": "
       ]
      },
      {
       "output_type": "stream",
       "stream": "stdout",
       "text": [
        ": "
       ]
      },
      {
       "output_type": "stream",
       "stream": "stdout",
       "text": [
        ": "
       ]
      },
      {
       "output_type": "stream",
       "stream": "stdout",
       "text": [
        ": "
       ]
      },
      {
       "output_type": "stream",
       "stream": "stdout",
       "text": [
        ": "
       ]
      },
      {
       "output_type": "stream",
       "stream": "stdout",
       "text": [
        ": "
       ]
      },
      {
       "output_type": "stream",
       "stream": "stdout",
       "text": [
        ": "
       ]
      },
      {
       "output_type": "stream",
       "stream": "stdout",
       "text": [
        ": "
       ]
      },
      {
       "output_type": "stream",
       "stream": "stdout",
       "text": [
        ": "
       ]
      },
      {
       "output_type": "stream",
       "stream": "stdout",
       "text": [
        ": "
       ]
      },
      {
       "output_type": "stream",
       "stream": "stdout",
       "text": [
        ": "
       ]
      },
      {
       "output_type": "stream",
       "stream": "stdout",
       "text": [
        ": "
       ]
      },
      {
       "output_type": "stream",
       "stream": "stdout",
       "text": [
        ": "
       ]
      },
      {
       "output_type": "stream",
       "stream": "stdout",
       "text": [
        ": "
       ]
      },
      {
       "output_type": "stream",
       "stream": "stdout",
       "text": [
        ": "
       ]
      },
      {
       "output_type": "stream",
       "stream": "stdout",
       "text": [
        ": "
       ]
      },
      {
       "output_type": "stream",
       "stream": "stdout",
       "text": [
        ": "
       ]
      },
      {
       "output_type": "stream",
       "stream": "stdout",
       "text": [
        ": "
       ]
      },
      {
       "output_type": "stream",
       "stream": "stdout",
       "text": [
        ": "
       ]
      },
      {
       "output_type": "stream",
       "stream": "stdout",
       "text": [
        ": "
       ]
      },
      {
       "output_type": "stream",
       "stream": "stdout",
       "text": [
        ": "
       ]
      },
      {
       "output_type": "stream",
       "stream": "stdout",
       "text": [
        ": "
       ]
      },
      {
       "output_type": "stream",
       "stream": "stdout",
       "text": [
        ": "
       ]
      },
      {
       "output_type": "stream",
       "stream": "stdout",
       "text": [
        ": "
       ]
      },
      {
       "output_type": "stream",
       "stream": "stdout",
       "text": [
        ": "
       ]
      },
      {
       "output_type": "stream",
       "stream": "stdout",
       "text": [
        ": "
       ]
      },
      {
       "output_type": "stream",
       "stream": "stdout",
       "text": [
        ": "
       ]
      },
      {
       "output_type": "stream",
       "stream": "stdout",
       "text": [
        ": "
       ]
      },
      {
       "output_type": "stream",
       "stream": "stdout",
       "text": [
        ": "
       ]
      },
      {
       "output_type": "stream",
       "stream": "stdout",
       "text": [
        ": "
       ]
      },
      {
       "output_type": "stream",
       "stream": "stdout",
       "text": [
        ": "
       ]
      },
      {
       "output_type": "stream",
       "stream": "stdout",
       "text": [
        ": "
       ]
      },
      {
       "output_type": "stream",
       "stream": "stdout",
       "text": [
        ": "
       ]
      },
      {
       "output_type": "stream",
       "stream": "stdout",
       "text": [
        ": "
       ]
      },
      {
       "output_type": "stream",
       "stream": "stdout",
       "text": [
        ": "
       ]
      },
      {
       "output_type": "stream",
       "stream": "stdout",
       "text": [
        ": "
       ]
      },
      {
       "output_type": "stream",
       "stream": "stdout",
       "text": [
        ": "
       ]
      },
      {
       "output_type": "stream",
       "stream": "stdout",
       "text": [
        ": "
       ]
      },
      {
       "output_type": "stream",
       "stream": "stdout",
       "text": [
        ": "
       ]
      },
      {
       "output_type": "stream",
       "stream": "stdout",
       "text": [
        ": "
       ]
      },
      {
       "output_type": "stream",
       "stream": "stdout",
       "text": [
        ": "
       ]
      },
      {
       "output_type": "stream",
       "stream": "stdout",
       "text": [
        ": "
       ]
      },
      {
       "output_type": "stream",
       "stream": "stdout",
       "text": [
        ": "
       ]
      },
      {
       "output_type": "stream",
       "stream": "stdout",
       "text": [
        ": "
       ]
      },
      {
       "output_type": "stream",
       "stream": "stdout",
       "text": [
        ": "
       ]
      },
      {
       "output_type": "stream",
       "stream": "stdout",
       "text": [
        ": "
       ]
      },
      {
       "output_type": "stream",
       "stream": "stdout",
       "text": [
        ": "
       ]
      },
      {
       "output_type": "stream",
       "stream": "stdout",
       "text": [
        ": "
       ]
      },
      {
       "output_type": "stream",
       "stream": "stdout",
       "text": [
        ": "
       ]
      },
      {
       "output_type": "stream",
       "stream": "stdout",
       "text": [
        ": "
       ]
      },
      {
       "output_type": "stream",
       "stream": "stdout",
       "text": [
        ": "
       ]
      },
      {
       "output_type": "stream",
       "stream": "stdout",
       "text": [
        ": "
       ]
      },
      {
       "output_type": "stream",
       "stream": "stdout",
       "text": [
        ": "
       ]
      },
      {
       "output_type": "stream",
       "stream": "stdout",
       "text": [
        ": "
       ]
      },
      {
       "output_type": "stream",
       "stream": "stdout",
       "text": [
        ": "
       ]
      },
      {
       "output_type": "stream",
       "stream": "stdout",
       "text": [
        ": "
       ]
      },
      {
       "output_type": "stream",
       "stream": "stdout",
       "text": [
        ": "
       ]
      },
      {
       "output_type": "stream",
       "stream": "stdout",
       "text": [
        ": "
       ]
      },
      {
       "output_type": "stream",
       "stream": "stdout",
       "text": [
        ": "
       ]
      },
      {
       "output_type": "stream",
       "stream": "stdout",
       "text": [
        ": "
       ]
      },
      {
       "output_type": "stream",
       "stream": "stdout",
       "text": [
        ": "
       ]
      },
      {
       "output_type": "stream",
       "stream": "stdout",
       "text": [
        ": "
       ]
      },
      {
       "output_type": "stream",
       "stream": "stdout",
       "text": [
        ": "
       ]
      },
      {
       "output_type": "stream",
       "stream": "stdout",
       "text": [
        ": "
       ]
      },
      {
       "output_type": "stream",
       "stream": "stdout",
       "text": [
        ": "
       ]
      },
      {
       "output_type": "stream",
       "stream": "stdout",
       "text": [
        ": "
       ]
      },
      {
       "output_type": "stream",
       "stream": "stdout",
       "text": [
        ": "
       ]
      },
      {
       "output_type": "stream",
       "stream": "stdout",
       "text": [
        ": "
       ]
      },
      {
       "output_type": "stream",
       "stream": "stdout",
       "text": [
        ": "
       ]
      },
      {
       "output_type": "stream",
       "stream": "stdout",
       "text": [
        ": "
       ]
      },
      {
       "output_type": "stream",
       "stream": "stdout",
       "text": [
        ": "
       ]
      },
      {
       "output_type": "stream",
       "stream": "stdout",
       "text": [
        ": "
       ]
      },
      {
       "output_type": "stream",
       "stream": "stdout",
       "text": [
        ": "
       ]
      },
      {
       "output_type": "stream",
       "stream": "stdout",
       "text": [
        ": "
       ]
      },
      {
       "output_type": "stream",
       "stream": "stdout",
       "text": [
        ": "
       ]
      },
      {
       "output_type": "stream",
       "stream": "stdout",
       "text": [
        ": "
       ]
      },
      {
       "output_type": "stream",
       "stream": "stdout",
       "text": [
        ": "
       ]
      },
      {
       "output_type": "stream",
       "stream": "stdout",
       "text": [
        ": "
       ]
      },
      {
       "output_type": "stream",
       "stream": "stdout",
       "text": [
        ": "
       ]
      },
      {
       "output_type": "stream",
       "stream": "stdout",
       "text": [
        ": "
       ]
      },
      {
       "output_type": "stream",
       "stream": "stdout",
       "text": [
        ": "
       ]
      },
      {
       "output_type": "stream",
       "stream": "stdout",
       "text": [
        ": "
       ]
      },
      {
       "output_type": "stream",
       "stream": "stdout",
       "text": [
        ": "
       ]
      },
      {
       "output_type": "stream",
       "stream": "stdout",
       "text": [
        ": "
       ]
      },
      {
       "output_type": "stream",
       "stream": "stdout",
       "text": [
        ": "
       ]
      },
      {
       "output_type": "stream",
       "stream": "stdout",
       "text": [
        ": "
       ]
      },
      {
       "output_type": "stream",
       "stream": "stdout",
       "text": [
        ": "
       ]
      },
      {
       "output_type": "stream",
       "stream": "stdout",
       "text": [
        ": "
       ]
      },
      {
       "output_type": "stream",
       "stream": "stdout",
       "text": [
        ": "
       ]
      },
      {
       "output_type": "stream",
       "stream": "stdout",
       "text": [
        ": "
       ]
      },
      {
       "output_type": "stream",
       "stream": "stdout",
       "text": [
        ": "
       ]
      },
      {
       "output_type": "stream",
       "stream": "stdout",
       "text": [
        ": "
       ]
      },
      {
       "output_type": "stream",
       "stream": "stdout",
       "text": [
        ": "
       ]
      },
      {
       "output_type": "stream",
       "stream": "stdout",
       "text": [
        ": "
       ]
      },
      {
       "output_type": "stream",
       "stream": "stdout",
       "text": [
        ": "
       ]
      },
      {
       "output_type": "stream",
       "stream": "stdout",
       "text": [
        ": "
       ]
      },
      {
       "output_type": "stream",
       "stream": "stdout",
       "text": [
        ": "
       ]
      },
      {
       "output_type": "stream",
       "stream": "stdout",
       "text": [
        ": "
       ]
      },
      {
       "output_type": "stream",
       "stream": "stdout",
       "text": [
        ": "
       ]
      },
      {
       "output_type": "stream",
       "stream": "stdout",
       "text": [
        ": "
       ]
      },
      {
       "output_type": "stream",
       "stream": "stdout",
       "text": [
        ": "
       ]
      },
      {
       "output_type": "stream",
       "stream": "stdout",
       "text": [
        ": "
       ]
      },
      {
       "output_type": "stream",
       "stream": "stdout",
       "text": [
        ": "
       ]
      },
      {
       "output_type": "stream",
       "stream": "stdout",
       "text": [
        ": "
       ]
      },
      {
       "output_type": "stream",
       "stream": "stdout",
       "text": [
        ": "
       ]
      },
      {
       "output_type": "stream",
       "stream": "stdout",
       "text": [
        ": "
       ]
      },
      {
       "output_type": "stream",
       "stream": "stdout",
       "text": [
        ": "
       ]
      },
      {
       "output_type": "stream",
       "stream": "stdout",
       "text": [
        ": "
       ]
      },
      {
       "output_type": "stream",
       "stream": "stdout",
       "text": [
        ": "
       ]
      },
      {
       "output_type": "stream",
       "stream": "stdout",
       "text": [
        ": "
       ]
      },
      {
       "output_type": "stream",
       "stream": "stdout",
       "text": [
        ": "
       ]
      },
      {
       "output_type": "stream",
       "stream": "stdout",
       "text": [
        ": "
       ]
      },
      {
       "output_type": "stream",
       "stream": "stdout",
       "text": [
        ": "
       ]
      },
      {
       "output_type": "stream",
       "stream": "stdout",
       "text": [
        ": "
       ]
      },
      {
       "output_type": "stream",
       "stream": "stdout",
       "text": [
        ": "
       ]
      },
      {
       "output_type": "stream",
       "stream": "stdout",
       "text": [
        ": "
       ]
      },
      {
       "output_type": "stream",
       "stream": "stdout",
       "text": [
        ": "
       ]
      },
      {
       "output_type": "stream",
       "stream": "stdout",
       "text": [
        ": "
       ]
      },
      {
       "output_type": "stream",
       "stream": "stdout",
       "text": [
        ": "
       ]
      },
      {
       "output_type": "stream",
       "stream": "stdout",
       "text": [
        ": "
       ]
      },
      {
       "output_type": "stream",
       "stream": "stdout",
       "text": [
        ": "
       ]
      },
      {
       "output_type": "stream",
       "stream": "stdout",
       "text": [
        ": "
       ]
      },
      {
       "output_type": "stream",
       "stream": "stdout",
       "text": [
        ": "
       ]
      },
      {
       "output_type": "stream",
       "stream": "stdout",
       "text": [
        ": "
       ]
      },
      {
       "output_type": "stream",
       "stream": "stdout",
       "text": [
        ": "
       ]
      },
      {
       "output_type": "stream",
       "stream": "stdout",
       "text": [
        ": "
       ]
      },
      {
       "output_type": "stream",
       "stream": "stdout",
       "text": [
        ": "
       ]
      },
      {
       "output_type": "stream",
       "stream": "stdout",
       "text": [
        ": "
       ]
      },
      {
       "output_type": "stream",
       "stream": "stdout",
       "text": [
        ": "
       ]
      },
      {
       "output_type": "stream",
       "stream": "stdout",
       "text": [
        ": "
       ]
      },
      {
       "output_type": "stream",
       "stream": "stdout",
       "text": [
        ": "
       ]
      },
      {
       "output_type": "stream",
       "stream": "stdout",
       "text": [
        ": "
       ]
      },
      {
       "output_type": "stream",
       "stream": "stdout",
       "text": [
        ": "
       ]
      },
      {
       "output_type": "stream",
       "stream": "stdout",
       "text": [
        ": "
       ]
      },
      {
       "output_type": "stream",
       "stream": "stdout",
       "text": [
        ": "
       ]
      },
      {
       "output_type": "stream",
       "stream": "stdout",
       "text": [
        ": "
       ]
      },
      {
       "output_type": "stream",
       "stream": "stdout",
       "text": [
        ": "
       ]
      },
      {
       "output_type": "stream",
       "stream": "stdout",
       "text": [
        ": "
       ]
      },
      {
       "output_type": "stream",
       "stream": "stdout",
       "text": [
        ": "
       ]
      },
      {
       "output_type": "stream",
       "stream": "stdout",
       "text": [
        ": "
       ]
      },
      {
       "output_type": "stream",
       "stream": "stdout",
       "text": [
        ": "
       ]
      },
      {
       "output_type": "stream",
       "stream": "stdout",
       "text": [
        ": "
       ]
      },
      {
       "output_type": "stream",
       "stream": "stdout",
       "text": [
        ": "
       ]
      },
      {
       "output_type": "stream",
       "stream": "stdout",
       "text": [
        ": "
       ]
      },
      {
       "output_type": "stream",
       "stream": "stdout",
       "text": [
        ": "
       ]
      },
      {
       "output_type": "stream",
       "stream": "stdout",
       "text": [
        ": "
       ]
      },
      {
       "output_type": "stream",
       "stream": "stdout",
       "text": [
        ": "
       ]
      },
      {
       "output_type": "stream",
       "stream": "stdout",
       "text": [
        ": "
       ]
      },
      {
       "output_type": "stream",
       "stream": "stdout",
       "text": [
        ": "
       ]
      },
      {
       "output_type": "stream",
       "stream": "stdout",
       "text": [
        ": "
       ]
      },
      {
       "output_type": "stream",
       "stream": "stdout",
       "text": [
        ": "
       ]
      },
      {
       "output_type": "stream",
       "stream": "stdout",
       "text": [
        ": "
       ]
      },
      {
       "output_type": "stream",
       "stream": "stdout",
       "text": [
        ": "
       ]
      },
      {
       "output_type": "stream",
       "stream": "stdout",
       "text": [
        ": "
       ]
      },
      {
       "output_type": "stream",
       "stream": "stdout",
       "text": [
        ": "
       ]
      },
      {
       "output_type": "stream",
       "stream": "stdout",
       "text": [
        ": "
       ]
      },
      {
       "output_type": "stream",
       "stream": "stdout",
       "text": [
        ": "
       ]
      },
      {
       "output_type": "stream",
       "stream": "stdout",
       "text": [
        ": "
       ]
      },
      {
       "output_type": "stream",
       "stream": "stdout",
       "text": [
        ": "
       ]
      },
      {
       "output_type": "stream",
       "stream": "stdout",
       "text": [
        ": "
       ]
      },
      {
       "output_type": "stream",
       "stream": "stdout",
       "text": [
        ": "
       ]
      },
      {
       "output_type": "stream",
       "stream": "stdout",
       "text": [
        ": "
       ]
      },
      {
       "output_type": "stream",
       "stream": "stdout",
       "text": [
        ": "
       ]
      },
      {
       "output_type": "stream",
       "stream": "stdout",
       "text": [
        ": "
       ]
      },
      {
       "output_type": "stream",
       "stream": "stdout",
       "text": [
        ": "
       ]
      },
      {
       "output_type": "stream",
       "stream": "stdout",
       "text": [
        ": "
       ]
      },
      {
       "output_type": "stream",
       "stream": "stdout",
       "text": [
        ": "
       ]
      },
      {
       "output_type": "stream",
       "stream": "stdout",
       "text": [
        ": "
       ]
      },
      {
       "output_type": "stream",
       "stream": "stdout",
       "text": [
        ": "
       ]
      },
      {
       "output_type": "stream",
       "stream": "stdout",
       "text": [
        ": "
       ]
      },
      {
       "output_type": "stream",
       "stream": "stdout",
       "text": [
        ": "
       ]
      },
      {
       "output_type": "stream",
       "stream": "stdout",
       "text": [
        ": "
       ]
      },
      {
       "output_type": "stream",
       "stream": "stdout",
       "text": [
        ": "
       ]
      },
      {
       "output_type": "stream",
       "stream": "stdout",
       "text": [
        ": "
       ]
      },
      {
       "output_type": "stream",
       "stream": "stdout",
       "text": [
        ": "
       ]
      },
      {
       "output_type": "stream",
       "stream": "stdout",
       "text": [
        ": "
       ]
      },
      {
       "output_type": "stream",
       "stream": "stdout",
       "text": [
        ": "
       ]
      },
      {
       "output_type": "stream",
       "stream": "stdout",
       "text": [
        ": "
       ]
      },
      {
       "output_type": "stream",
       "stream": "stdout",
       "text": [
        ": "
       ]
      },
      {
       "output_type": "stream",
       "stream": "stdout",
       "text": [
        ": "
       ]
      },
      {
       "output_type": "stream",
       "stream": "stdout",
       "text": [
        ": "
       ]
      },
      {
       "output_type": "stream",
       "stream": "stdout",
       "text": [
        ": "
       ]
      },
      {
       "output_type": "stream",
       "stream": "stdout",
       "text": [
        ": "
       ]
      },
      {
       "output_type": "stream",
       "stream": "stdout",
       "text": [
        ": "
       ]
      },
      {
       "output_type": "stream",
       "stream": "stdout",
       "text": [
        ": "
       ]
      },
      {
       "output_type": "stream",
       "stream": "stdout",
       "text": [
        ": "
       ]
      },
      {
       "output_type": "stream",
       "stream": "stdout",
       "text": [
        ": "
       ]
      },
      {
       "output_type": "stream",
       "stream": "stdout",
       "text": [
        ": "
       ]
      },
      {
       "output_type": "stream",
       "stream": "stdout",
       "text": [
        ": "
       ]
      },
      {
       "output_type": "stream",
       "stream": "stdout",
       "text": [
        ": "
       ]
      },
      {
       "output_type": "stream",
       "stream": "stdout",
       "text": [
        ": "
       ]
      },
      {
       "output_type": "stream",
       "stream": "stdout",
       "text": [
        ": "
       ]
      },
      {
       "output_type": "stream",
       "stream": "stdout",
       "text": [
        ": "
       ]
      },
      {
       "output_type": "stream",
       "stream": "stdout",
       "text": [
        ": "
       ]
      },
      {
       "output_type": "stream",
       "stream": "stdout",
       "text": [
        ": "
       ]
      },
      {
       "output_type": "stream",
       "stream": "stdout",
       "text": [
        ": "
       ]
      },
      {
       "output_type": "stream",
       "stream": "stdout",
       "text": [
        ": "
       ]
      },
      {
       "output_type": "stream",
       "stream": "stdout",
       "text": [
        ": "
       ]
      },
      {
       "output_type": "stream",
       "stream": "stdout",
       "text": [
        ": "
       ]
      },
      {
       "output_type": "stream",
       "stream": "stdout",
       "text": [
        ": "
       ]
      },
      {
       "output_type": "stream",
       "stream": "stdout",
       "text": [
        ": "
       ]
      },
      {
       "output_type": "stream",
       "stream": "stdout",
       "text": [
        ": "
       ]
      },
      {
       "output_type": "stream",
       "stream": "stdout",
       "text": [
        ": "
       ]
      },
      {
       "output_type": "stream",
       "stream": "stdout",
       "text": [
        ": "
       ]
      },
      {
       "output_type": "stream",
       "stream": "stdout",
       "text": [
        ": "
       ]
      },
      {
       "output_type": "stream",
       "stream": "stdout",
       "text": [
        ": "
       ]
      },
      {
       "output_type": "stream",
       "stream": "stdout",
       "text": [
        ": "
       ]
      },
      {
       "output_type": "stream",
       "stream": "stdout",
       "text": [
        ": "
       ]
      },
      {
       "output_type": "stream",
       "stream": "stdout",
       "text": [
        ": "
       ]
      },
      {
       "output_type": "stream",
       "stream": "stdout",
       "text": [
        ": "
       ]
      },
      {
       "output_type": "stream",
       "stream": "stdout",
       "text": [
        ": "
       ]
      },
      {
       "output_type": "stream",
       "stream": "stdout",
       "text": [
        ": "
       ]
      },
      {
       "output_type": "stream",
       "stream": "stdout",
       "text": [
        ": "
       ]
      },
      {
       "output_type": "stream",
       "stream": "stdout",
       "text": [
        ": "
       ]
      },
      {
       "output_type": "stream",
       "stream": "stdout",
       "text": [
        ": "
       ]
      },
      {
       "output_type": "stream",
       "stream": "stdout",
       "text": [
        ": "
       ]
      },
      {
       "output_type": "stream",
       "stream": "stdout",
       "text": [
        ": "
       ]
      },
      {
       "output_type": "stream",
       "stream": "stdout",
       "text": [
        ": "
       ]
      },
      {
       "output_type": "stream",
       "stream": "stdout",
       "text": [
        ": "
       ]
      },
      {
       "output_type": "stream",
       "stream": "stdout",
       "text": [
        ": "
       ]
      },
      {
       "output_type": "stream",
       "stream": "stdout",
       "text": [
        ": "
       ]
      },
      {
       "output_type": "stream",
       "stream": "stdout",
       "text": [
        ": "
       ]
      },
      {
       "output_type": "stream",
       "stream": "stdout",
       "text": [
        ": "
       ]
      },
      {
       "output_type": "stream",
       "stream": "stdout",
       "text": [
        ": "
       ]
      },
      {
       "output_type": "stream",
       "stream": "stdout",
       "text": [
        ": "
       ]
      },
      {
       "output_type": "stream",
       "stream": "stdout",
       "text": [
        ": "
       ]
      },
      {
       "output_type": "stream",
       "stream": "stdout",
       "text": [
        ": "
       ]
      },
      {
       "output_type": "stream",
       "stream": "stdout",
       "text": [
        ": "
       ]
      },
      {
       "output_type": "stream",
       "stream": "stdout",
       "text": [
        ": "
       ]
      },
      {
       "output_type": "stream",
       "stream": "stdout",
       "text": [
        ": "
       ]
      },
      {
       "output_type": "stream",
       "stream": "stdout",
       "text": [
        ": "
       ]
      },
      {
       "output_type": "stream",
       "stream": "stdout",
       "text": [
        ": "
       ]
      },
      {
       "output_type": "stream",
       "stream": "stdout",
       "text": [
        ": "
       ]
      },
      {
       "output_type": "stream",
       "stream": "stdout",
       "text": [
        ": "
       ]
      },
      {
       "output_type": "stream",
       "stream": "stdout",
       "text": [
        ": "
       ]
      },
      {
       "output_type": "stream",
       "stream": "stdout",
       "text": [
        ": "
       ]
      },
      {
       "output_type": "stream",
       "stream": "stdout",
       "text": [
        ": "
       ]
      },
      {
       "output_type": "stream",
       "stream": "stdout",
       "text": [
        ": "
       ]
      },
      {
       "output_type": "stream",
       "stream": "stdout",
       "text": [
        ": "
       ]
      },
      {
       "output_type": "stream",
       "stream": "stdout",
       "text": [
        ": "
       ]
      },
      {
       "output_type": "stream",
       "stream": "stdout",
       "text": [
        ": "
       ]
      },
      {
       "output_type": "stream",
       "stream": "stdout",
       "text": [
        ": "
       ]
      },
      {
       "output_type": "stream",
       "stream": "stdout",
       "text": [
        ": "
       ]
      },
      {
       "output_type": "stream",
       "stream": "stdout",
       "text": [
        ": "
       ]
      },
      {
       "output_type": "stream",
       "stream": "stdout",
       "text": [
        ": "
       ]
      },
      {
       "output_type": "stream",
       "stream": "stdout",
       "text": [
        ": "
       ]
      },
      {
       "output_type": "stream",
       "stream": "stdout",
       "text": [
        ": "
       ]
      },
      {
       "output_type": "stream",
       "stream": "stdout",
       "text": [
        ": "
       ]
      },
      {
       "output_type": "stream",
       "stream": "stdout",
       "text": [
        ": "
       ]
      },
      {
       "output_type": "stream",
       "stream": "stdout",
       "text": [
        ": "
       ]
      },
      {
       "output_type": "stream",
       "stream": "stdout",
       "text": [
        ": "
       ]
      },
      {
       "output_type": "stream",
       "stream": "stdout",
       "text": [
        ": "
       ]
      },
      {
       "output_type": "stream",
       "stream": "stdout",
       "text": [
        ": "
       ]
      },
      {
       "output_type": "stream",
       "stream": "stdout",
       "text": [
        ": "
       ]
      },
      {
       "output_type": "stream",
       "stream": "stdout",
       "text": [
        ": "
       ]
      },
      {
       "output_type": "stream",
       "stream": "stdout",
       "text": [
        ": "
       ]
      },
      {
       "output_type": "stream",
       "stream": "stdout",
       "text": [
        ": "
       ]
      },
      {
       "output_type": "stream",
       "stream": "stdout",
       "text": [
        ": "
       ]
      },
      {
       "output_type": "stream",
       "stream": "stdout",
       "text": [
        ": "
       ]
      },
      {
       "output_type": "stream",
       "stream": "stdout",
       "text": [
        ": "
       ]
      },
      {
       "output_type": "stream",
       "stream": "stdout",
       "text": [
        ": "
       ]
      },
      {
       "output_type": "stream",
       "stream": "stdout",
       "text": [
        ": "
       ]
      },
      {
       "output_type": "stream",
       "stream": "stdout",
       "text": [
        ": "
       ]
      },
      {
       "output_type": "stream",
       "stream": "stdout",
       "text": [
        ": "
       ]
      },
      {
       "output_type": "stream",
       "stream": "stdout",
       "text": [
        ": "
       ]
      },
      {
       "output_type": "stream",
       "stream": "stdout",
       "text": [
        ": "
       ]
      },
      {
       "output_type": "stream",
       "stream": "stdout",
       "text": [
        ": "
       ]
      },
      {
       "output_type": "stream",
       "stream": "stdout",
       "text": [
        ": "
       ]
      },
      {
       "output_type": "stream",
       "stream": "stdout",
       "text": [
        ": "
       ]
      },
      {
       "output_type": "stream",
       "stream": "stdout",
       "text": [
        ": "
       ]
      },
      {
       "output_type": "stream",
       "stream": "stdout",
       "text": [
        ": "
       ]
      },
      {
       "output_type": "stream",
       "stream": "stdout",
       "text": [
        ": "
       ]
      },
      {
       "output_type": "stream",
       "stream": "stdout",
       "text": [
        ": "
       ]
      },
      {
       "output_type": "stream",
       "stream": "stdout",
       "text": [
        ": "
       ]
      },
      {
       "output_type": "stream",
       "stream": "stdout",
       "text": [
        ": "
       ]
      },
      {
       "output_type": "stream",
       "stream": "stdout",
       "text": [
        ": "
       ]
      },
      {
       "output_type": "stream",
       "stream": "stdout",
       "text": [
        ": "
       ]
      },
      {
       "output_type": "stream",
       "stream": "stdout",
       "text": [
        ": "
       ]
      },
      {
       "output_type": "stream",
       "stream": "stdout",
       "text": [
        ": "
       ]
      },
      {
       "output_type": "stream",
       "stream": "stdout",
       "text": [
        ": "
       ]
      },
      {
       "output_type": "stream",
       "stream": "stdout",
       "text": [
        ": "
       ]
      },
      {
       "output_type": "stream",
       "stream": "stdout",
       "text": [
        ": "
       ]
      },
      {
       "output_type": "stream",
       "stream": "stdout",
       "text": [
        ": "
       ]
      },
      {
       "output_type": "stream",
       "stream": "stdout",
       "text": [
        ": "
       ]
      },
      {
       "output_type": "stream",
       "stream": "stdout",
       "text": [
        ": "
       ]
      },
      {
       "output_type": "stream",
       "stream": "stdout",
       "text": [
        ": "
       ]
      },
      {
       "output_type": "stream",
       "stream": "stdout",
       "text": [
        ": "
       ]
      },
      {
       "output_type": "stream",
       "stream": "stdout",
       "text": [
        ": "
       ]
      },
      {
       "output_type": "stream",
       "stream": "stdout",
       "text": [
        ": "
       ]
      },
      {
       "output_type": "stream",
       "stream": "stdout",
       "text": [
        ": "
       ]
      },
      {
       "output_type": "stream",
       "stream": "stdout",
       "text": [
        ": "
       ]
      },
      {
       "output_type": "stream",
       "stream": "stdout",
       "text": [
        ": "
       ]
      },
      {
       "output_type": "stream",
       "stream": "stdout",
       "text": [
        ": "
       ]
      },
      {
       "output_type": "stream",
       "stream": "stdout",
       "text": [
        ": "
       ]
      },
      {
       "output_type": "stream",
       "stream": "stdout",
       "text": [
        ": "
       ]
      },
      {
       "output_type": "stream",
       "stream": "stdout",
       "text": [
        ": "
       ]
      },
      {
       "output_type": "stream",
       "stream": "stdout",
       "text": [
        ": "
       ]
      },
      {
       "output_type": "stream",
       "stream": "stdout",
       "text": [
        ": "
       ]
      },
      {
       "output_type": "stream",
       "stream": "stdout",
       "text": [
        ": "
       ]
      },
      {
       "output_type": "stream",
       "stream": "stdout",
       "text": [
        ": "
       ]
      },
      {
       "output_type": "stream",
       "stream": "stdout",
       "text": [
        ": "
       ]
      },
      {
       "output_type": "stream",
       "stream": "stdout",
       "text": [
        ": "
       ]
      },
      {
       "output_type": "stream",
       "stream": "stdout",
       "text": [
        ": "
       ]
      },
      {
       "output_type": "stream",
       "stream": "stdout",
       "text": [
        ": "
       ]
      },
      {
       "output_type": "stream",
       "stream": "stdout",
       "text": [
        ": "
       ]
      },
      {
       "output_type": "stream",
       "stream": "stdout",
       "text": [
        ": "
       ]
      },
      {
       "output_type": "stream",
       "stream": "stdout",
       "text": [
        ": "
       ]
      },
      {
       "output_type": "stream",
       "stream": "stdout",
       "text": [
        ": "
       ]
      },
      {
       "output_type": "stream",
       "stream": "stdout",
       "text": [
        ": "
       ]
      },
      {
       "output_type": "stream",
       "stream": "stdout",
       "text": [
        ": "
       ]
      },
      {
       "output_type": "stream",
       "stream": "stdout",
       "text": [
        ": "
       ]
      },
      {
       "output_type": "stream",
       "stream": "stdout",
       "text": [
        ": "
       ]
      },
      {
       "output_type": "stream",
       "stream": "stdout",
       "text": [
        ": "
       ]
      },
      {
       "output_type": "stream",
       "stream": "stdout",
       "text": [
        ": "
       ]
      },
      {
       "output_type": "stream",
       "stream": "stdout",
       "text": [
        ": "
       ]
      },
      {
       "output_type": "stream",
       "stream": "stdout",
       "text": [
        ": "
       ]
      },
      {
       "output_type": "stream",
       "stream": "stdout",
       "text": [
        ": "
       ]
      },
      {
       "output_type": "stream",
       "stream": "stdout",
       "text": [
        ": "
       ]
      },
      {
       "output_type": "stream",
       "stream": "stdout",
       "text": [
        ": "
       ]
      },
      {
       "output_type": "stream",
       "stream": "stdout",
       "text": [
        ": "
       ]
      },
      {
       "output_type": "stream",
       "stream": "stdout",
       "text": [
        ": "
       ]
      },
      {
       "output_type": "stream",
       "stream": "stdout",
       "text": [
        ": "
       ]
      },
      {
       "output_type": "stream",
       "stream": "stdout",
       "text": [
        ": "
       ]
      },
      {
       "output_type": "stream",
       "stream": "stdout",
       "text": [
        ": "
       ]
      },
      {
       "output_type": "stream",
       "stream": "stdout",
       "text": [
        ": "
       ]
      },
      {
       "output_type": "stream",
       "stream": "stdout",
       "text": [
        ": "
       ]
      },
      {
       "output_type": "stream",
       "stream": "stdout",
       "text": [
        ": "
       ]
      },
      {
       "output_type": "stream",
       "stream": "stdout",
       "text": [
        ": "
       ]
      },
      {
       "output_type": "stream",
       "stream": "stdout",
       "text": [
        ": "
       ]
      },
      {
       "output_type": "stream",
       "stream": "stdout",
       "text": [
        ": "
       ]
      },
      {
       "output_type": "stream",
       "stream": "stdout",
       "text": [
        ": "
       ]
      },
      {
       "output_type": "stream",
       "stream": "stdout",
       "text": [
        ": "
       ]
      },
      {
       "output_type": "stream",
       "stream": "stdout",
       "text": [
        ": "
       ]
      },
      {
       "output_type": "stream",
       "stream": "stdout",
       "text": [
        ": "
       ]
      },
      {
       "output_type": "stream",
       "stream": "stdout",
       "text": [
        ": "
       ]
      },
      {
       "output_type": "stream",
       "stream": "stdout",
       "text": [
        ": "
       ]
      },
      {
       "output_type": "stream",
       "stream": "stdout",
       "text": [
        ": "
       ]
      },
      {
       "output_type": "stream",
       "stream": "stdout",
       "text": [
        ": "
       ]
      },
      {
       "output_type": "stream",
       "stream": "stdout",
       "text": [
        ": "
       ]
      },
      {
       "output_type": "stream",
       "stream": "stdout",
       "text": [
        ": "
       ]
      },
      {
       "output_type": "stream",
       "stream": "stdout",
       "text": [
        ": "
       ]
      },
      {
       "output_type": "stream",
       "stream": "stdout",
       "text": [
        ": "
       ]
      },
      {
       "output_type": "stream",
       "stream": "stdout",
       "text": [
        ": "
       ]
      },
      {
       "output_type": "stream",
       "stream": "stdout",
       "text": [
        ": "
       ]
      },
      {
       "output_type": "stream",
       "stream": "stdout",
       "text": [
        ": "
       ]
      },
      {
       "output_type": "stream",
       "stream": "stdout",
       "text": [
        ": "
       ]
      },
      {
       "output_type": "stream",
       "stream": "stdout",
       "text": [
        ": "
       ]
      },
      {
       "output_type": "stream",
       "stream": "stdout",
       "text": [
        ": "
       ]
      },
      {
       "output_type": "stream",
       "stream": "stdout",
       "text": [
        ": "
       ]
      },
      {
       "output_type": "stream",
       "stream": "stdout",
       "text": [
        ": "
       ]
      },
      {
       "output_type": "stream",
       "stream": "stdout",
       "text": [
        ": "
       ]
      },
      {
       "output_type": "stream",
       "stream": "stdout",
       "text": [
        ": "
       ]
      },
      {
       "output_type": "stream",
       "stream": "stdout",
       "text": [
        ": "
       ]
      },
      {
       "output_type": "stream",
       "stream": "stdout",
       "text": [
        ": "
       ]
      },
      {
       "output_type": "stream",
       "stream": "stdout",
       "text": [
        ": "
       ]
      },
      {
       "output_type": "stream",
       "stream": "stdout",
       "text": [
        ": "
       ]
      },
      {
       "output_type": "stream",
       "stream": "stdout",
       "text": [
        ": "
       ]
      },
      {
       "output_type": "stream",
       "stream": "stdout",
       "text": [
        ": "
       ]
      },
      {
       "output_type": "stream",
       "stream": "stdout",
       "text": [
        ": "
       ]
      },
      {
       "output_type": "stream",
       "stream": "stdout",
       "text": [
        ": "
       ]
      },
      {
       "output_type": "stream",
       "stream": "stdout",
       "text": [
        ": "
       ]
      },
      {
       "output_type": "stream",
       "stream": "stdout",
       "text": [
        ": "
       ]
      },
      {
       "output_type": "stream",
       "stream": "stdout",
       "text": [
        ": "
       ]
      },
      {
       "output_type": "stream",
       "stream": "stdout",
       "text": [
        ": "
       ]
      },
      {
       "output_type": "stream",
       "stream": "stdout",
       "text": [
        ": "
       ]
      },
      {
       "output_type": "stream",
       "stream": "stdout",
       "text": [
        ": "
       ]
      },
      {
       "output_type": "stream",
       "stream": "stdout",
       "text": [
        ": "
       ]
      },
      {
       "output_type": "stream",
       "stream": "stdout",
       "text": [
        ": "
       ]
      },
      {
       "output_type": "stream",
       "stream": "stdout",
       "text": [
        ": "
       ]
      },
      {
       "output_type": "stream",
       "stream": "stdout",
       "text": [
        ": "
       ]
      },
      {
       "output_type": "stream",
       "stream": "stdout",
       "text": [
        ": "
       ]
      },
      {
       "output_type": "stream",
       "stream": "stdout",
       "text": [
        ": "
       ]
      },
      {
       "output_type": "stream",
       "stream": "stdout",
       "text": [
        ": "
       ]
      },
      {
       "output_type": "stream",
       "stream": "stdout",
       "text": [
        ": "
       ]
      },
      {
       "output_type": "stream",
       "stream": "stdout",
       "text": [
        ": "
       ]
      },
      {
       "output_type": "stream",
       "stream": "stdout",
       "text": [
        ": "
       ]
      },
      {
       "output_type": "stream",
       "stream": "stdout",
       "text": [
        ": "
       ]
      },
      {
       "output_type": "stream",
       "stream": "stdout",
       "text": [
        ": "
       ]
      },
      {
       "output_type": "stream",
       "stream": "stdout",
       "text": [
        ": "
       ]
      },
      {
       "output_type": "stream",
       "stream": "stdout",
       "text": [
        ": "
       ]
      },
      {
       "output_type": "stream",
       "stream": "stdout",
       "text": [
        ": "
       ]
      },
      {
       "output_type": "stream",
       "stream": "stdout",
       "text": [
        ": "
       ]
      },
      {
       "output_type": "stream",
       "stream": "stdout",
       "text": [
        ": "
       ]
      },
      {
       "output_type": "stream",
       "stream": "stdout",
       "text": [
        ": "
       ]
      },
      {
       "output_type": "stream",
       "stream": "stdout",
       "text": [
        ": "
       ]
      },
      {
       "output_type": "stream",
       "stream": "stdout",
       "text": [
        ": "
       ]
      },
      {
       "output_type": "stream",
       "stream": "stdout",
       "text": [
        ": "
       ]
      },
      {
       "output_type": "stream",
       "stream": "stdout",
       "text": [
        ": "
       ]
      },
      {
       "output_type": "stream",
       "stream": "stdout",
       "text": [
        ": "
       ]
      },
      {
       "output_type": "stream",
       "stream": "stdout",
       "text": [
        ": "
       ]
      },
      {
       "output_type": "stream",
       "stream": "stdout",
       "text": [
        ": "
       ]
      },
      {
       "output_type": "stream",
       "stream": "stdout",
       "text": [
        ": "
       ]
      },
      {
       "output_type": "stream",
       "stream": "stdout",
       "text": [
        ": "
       ]
      },
      {
       "output_type": "stream",
       "stream": "stdout",
       "text": [
        ": "
       ]
      },
      {
       "output_type": "stream",
       "stream": "stdout",
       "text": [
        ": "
       ]
      },
      {
       "output_type": "stream",
       "stream": "stdout",
       "text": [
        ": "
       ]
      },
      {
       "output_type": "stream",
       "stream": "stdout",
       "text": [
        ": "
       ]
      },
      {
       "output_type": "stream",
       "stream": "stdout",
       "text": [
        ": "
       ]
      },
      {
       "output_type": "stream",
       "stream": "stdout",
       "text": [
        ": "
       ]
      },
      {
       "output_type": "stream",
       "stream": "stdout",
       "text": [
        ": "
       ]
      },
      {
       "output_type": "stream",
       "stream": "stdout",
       "text": [
        ": "
       ]
      },
      {
       "output_type": "stream",
       "stream": "stdout",
       "text": [
        ": "
       ]
      },
      {
       "output_type": "stream",
       "stream": "stdout",
       "text": [
        ": "
       ]
      },
      {
       "output_type": "stream",
       "stream": "stdout",
       "text": [
        ": "
       ]
      },
      {
       "output_type": "stream",
       "stream": "stdout",
       "text": [
        ": "
       ]
      },
      {
       "output_type": "stream",
       "stream": "stdout",
       "text": [
        ": "
       ]
      },
      {
       "output_type": "stream",
       "stream": "stdout",
       "text": [
        ": "
       ]
      },
      {
       "output_type": "stream",
       "stream": "stdout",
       "text": [
        ": "
       ]
      },
      {
       "output_type": "stream",
       "stream": "stdout",
       "text": [
        ": "
       ]
      },
      {
       "output_type": "stream",
       "stream": "stdout",
       "text": [
        ": "
       ]
      },
      {
       "output_type": "stream",
       "stream": "stdout",
       "text": [
        ": "
       ]
      },
      {
       "output_type": "stream",
       "stream": "stdout",
       "text": [
        ": "
       ]
      },
      {
       "output_type": "stream",
       "stream": "stdout",
       "text": [
        ": "
       ]
      },
      {
       "output_type": "stream",
       "stream": "stdout",
       "text": [
        ": "
       ]
      },
      {
       "output_type": "stream",
       "stream": "stdout",
       "text": [
        ": "
       ]
      },
      {
       "output_type": "stream",
       "stream": "stdout",
       "text": [
        ": "
       ]
      },
      {
       "output_type": "stream",
       "stream": "stdout",
       "text": [
        ": "
       ]
      },
      {
       "output_type": "stream",
       "stream": "stdout",
       "text": [
        ": "
       ]
      },
      {
       "output_type": "stream",
       "stream": "stdout",
       "text": [
        ": "
       ]
      },
      {
       "output_type": "stream",
       "stream": "stdout",
       "text": [
        ": "
       ]
      },
      {
       "output_type": "stream",
       "stream": "stdout",
       "text": [
        ": "
       ]
      },
      {
       "output_type": "stream",
       "stream": "stdout",
       "text": [
        ": "
       ]
      },
      {
       "output_type": "stream",
       "stream": "stdout",
       "text": [
        ": "
       ]
      },
      {
       "output_type": "stream",
       "stream": "stdout",
       "text": [
        ": "
       ]
      },
      {
       "output_type": "stream",
       "stream": "stdout",
       "text": [
        ": "
       ]
      },
      {
       "output_type": "stream",
       "stream": "stdout",
       "text": [
        ": "
       ]
      },
      {
       "output_type": "stream",
       "stream": "stdout",
       "text": [
        ": "
       ]
      },
      {
       "output_type": "stream",
       "stream": "stdout",
       "text": [
        ": "
       ]
      },
      {
       "output_type": "stream",
       "stream": "stdout",
       "text": [
        ": "
       ]
      },
      {
       "output_type": "stream",
       "stream": "stdout",
       "text": [
        ": "
       ]
      },
      {
       "output_type": "stream",
       "stream": "stdout",
       "text": [
        ": "
       ]
      },
      {
       "output_type": "stream",
       "stream": "stdout",
       "text": [
        ": "
       ]
      },
      {
       "output_type": "stream",
       "stream": "stdout",
       "text": [
        ": "
       ]
      },
      {
       "output_type": "stream",
       "stream": "stdout",
       "text": [
        ": "
       ]
      },
      {
       "output_type": "stream",
       "stream": "stdout",
       "text": [
        ": "
       ]
      },
      {
       "output_type": "stream",
       "stream": "stdout",
       "text": [
        ": "
       ]
      },
      {
       "output_type": "stream",
       "stream": "stdout",
       "text": [
        ": "
       ]
      },
      {
       "output_type": "stream",
       "stream": "stdout",
       "text": [
        ": "
       ]
      },
      {
       "output_type": "stream",
       "stream": "stdout",
       "text": [
        ": "
       ]
      },
      {
       "output_type": "stream",
       "stream": "stdout",
       "text": [
        ": "
       ]
      },
      {
       "output_type": "stream",
       "stream": "stdout",
       "text": [
        ": "
       ]
      },
      {
       "output_type": "stream",
       "stream": "stdout",
       "text": [
        ": "
       ]
      },
      {
       "output_type": "stream",
       "stream": "stdout",
       "text": [
        ": "
       ]
      },
      {
       "output_type": "stream",
       "stream": "stdout",
       "text": [
        ": "
       ]
      },
      {
       "output_type": "stream",
       "stream": "stdout",
       "text": [
        ": "
       ]
      },
      {
       "output_type": "stream",
       "stream": "stdout",
       "text": [
        ": "
       ]
      },
      {
       "output_type": "stream",
       "stream": "stdout",
       "text": [
        ": "
       ]
      },
      {
       "output_type": "stream",
       "stream": "stdout",
       "text": [
        ": "
       ]
      },
      {
       "output_type": "stream",
       "stream": "stdout",
       "text": [
        ": "
       ]
      },
      {
       "output_type": "stream",
       "stream": "stdout",
       "text": [
        ": "
       ]
      },
      {
       "output_type": "stream",
       "stream": "stdout",
       "text": [
        ": "
       ]
      },
      {
       "output_type": "stream",
       "stream": "stdout",
       "text": [
        ": "
       ]
      },
      {
       "output_type": "stream",
       "stream": "stdout",
       "text": [
        ": "
       ]
      },
      {
       "output_type": "stream",
       "stream": "stdout",
       "text": [
        ": "
       ]
      },
      {
       "output_type": "stream",
       "stream": "stdout",
       "text": [
        ": "
       ]
      },
      {
       "output_type": "stream",
       "stream": "stdout",
       "text": [
        ": "
       ]
      },
      {
       "output_type": "stream",
       "stream": "stdout",
       "text": [
        ": "
       ]
      },
      {
       "output_type": "stream",
       "stream": "stdout",
       "text": [
        ": "
       ]
      },
      {
       "output_type": "stream",
       "stream": "stdout",
       "text": [
        ": "
       ]
      },
      {
       "output_type": "stream",
       "stream": "stdout",
       "text": [
        ": "
       ]
      },
      {
       "output_type": "stream",
       "stream": "stdout",
       "text": [
        ": "
       ]
      },
      {
       "output_type": "stream",
       "stream": "stdout",
       "text": [
        ": "
       ]
      },
      {
       "output_type": "stream",
       "stream": "stdout",
       "text": [
        ": "
       ]
      },
      {
       "output_type": "stream",
       "stream": "stdout",
       "text": [
        ": "
       ]
      },
      {
       "output_type": "stream",
       "stream": "stdout",
       "text": [
        ": "
       ]
      },
      {
       "output_type": "stream",
       "stream": "stdout",
       "text": [
        ": "
       ]
      },
      {
       "output_type": "stream",
       "stream": "stdout",
       "text": [
        ": "
       ]
      },
      {
       "output_type": "stream",
       "stream": "stdout",
       "text": [
        ": "
       ]
      },
      {
       "output_type": "stream",
       "stream": "stdout",
       "text": [
        ": "
       ]
      },
      {
       "output_type": "stream",
       "stream": "stdout",
       "text": [
        ": "
       ]
      },
      {
       "output_type": "stream",
       "stream": "stdout",
       "text": [
        ": "
       ]
      },
      {
       "output_type": "stream",
       "stream": "stdout",
       "text": [
        ": "
       ]
      },
      {
       "output_type": "stream",
       "stream": "stdout",
       "text": [
        ": "
       ]
      },
      {
       "output_type": "stream",
       "stream": "stdout",
       "text": [
        ": "
       ]
      },
      {
       "output_type": "stream",
       "stream": "stdout",
       "text": [
        ": "
       ]
      },
      {
       "output_type": "stream",
       "stream": "stdout",
       "text": [
        ": "
       ]
      },
      {
       "output_type": "stream",
       "stream": "stdout",
       "text": [
        ": "
       ]
      },
      {
       "output_type": "stream",
       "stream": "stdout",
       "text": [
        ": "
       ]
      },
      {
       "output_type": "stream",
       "stream": "stdout",
       "text": [
        ": "
       ]
      },
      {
       "output_type": "stream",
       "stream": "stdout",
       "text": [
        "\n",
        "Keypoints collected\n",
        "; "
       ]
      },
      {
       "output_type": "stream",
       "stream": "stdout",
       "text": [
        "; "
       ]
      },
      {
       "output_type": "stream",
       "stream": "stdout",
       "text": [
        "; "
       ]
      },
      {
       "output_type": "stream",
       "stream": "stdout",
       "text": [
        "; "
       ]
      },
      {
       "output_type": "stream",
       "stream": "stdout",
       "text": [
        "; "
       ]
      },
      {
       "output_type": "stream",
       "stream": "stdout",
       "text": [
        "; "
       ]
      },
      {
       "output_type": "stream",
       "stream": "stdout",
       "text": [
        "; "
       ]
      },
      {
       "output_type": "stream",
       "stream": "stdout",
       "text": [
        "; "
       ]
      },
      {
       "output_type": "stream",
       "stream": "stdout",
       "text": [
        "; "
       ]
      },
      {
       "output_type": "stream",
       "stream": "stdout",
       "text": [
        "; "
       ]
      },
      {
       "output_type": "stream",
       "stream": "stdout",
       "text": [
        "; "
       ]
      },
      {
       "output_type": "stream",
       "stream": "stdout",
       "text": [
        "; "
       ]
      },
      {
       "output_type": "stream",
       "stream": "stdout",
       "text": [
        "; "
       ]
      },
      {
       "output_type": "stream",
       "stream": "stdout",
       "text": [
        "; "
       ]
      },
      {
       "output_type": "stream",
       "stream": "stdout",
       "text": [
        "; "
       ]
      },
      {
       "output_type": "stream",
       "stream": "stdout",
       "text": [
        "; "
       ]
      },
      {
       "output_type": "stream",
       "stream": "stdout",
       "text": [
        "; "
       ]
      },
      {
       "output_type": "stream",
       "stream": "stdout",
       "text": [
        "; "
       ]
      },
      {
       "output_type": "stream",
       "stream": "stdout",
       "text": [
        "; "
       ]
      },
      {
       "output_type": "stream",
       "stream": "stdout",
       "text": [
        "; "
       ]
      },
      {
       "output_type": "stream",
       "stream": "stdout",
       "text": [
        "; "
       ]
      },
      {
       "output_type": "stream",
       "stream": "stdout",
       "text": [
        "; "
       ]
      },
      {
       "output_type": "stream",
       "stream": "stdout",
       "text": [
        "; "
       ]
      },
      {
       "output_type": "stream",
       "stream": "stdout",
       "text": [
        "; "
       ]
      },
      {
       "output_type": "stream",
       "stream": "stdout",
       "text": [
        "; "
       ]
      },
      {
       "output_type": "stream",
       "stream": "stdout",
       "text": [
        "; "
       ]
      },
      {
       "output_type": "stream",
       "stream": "stdout",
       "text": [
        "; "
       ]
      },
      {
       "output_type": "stream",
       "stream": "stdout",
       "text": [
        "; "
       ]
      },
      {
       "output_type": "stream",
       "stream": "stdout",
       "text": [
        "; "
       ]
      },
      {
       "output_type": "stream",
       "stream": "stdout",
       "text": [
        "; "
       ]
      },
      {
       "output_type": "stream",
       "stream": "stdout",
       "text": [
        "; "
       ]
      },
      {
       "output_type": "stream",
       "stream": "stdout",
       "text": [
        "; "
       ]
      },
      {
       "output_type": "stream",
       "stream": "stdout",
       "text": [
        "; "
       ]
      },
      {
       "output_type": "stream",
       "stream": "stdout",
       "text": [
        "; "
       ]
      },
      {
       "output_type": "stream",
       "stream": "stdout",
       "text": [
        "; "
       ]
      },
      {
       "output_type": "stream",
       "stream": "stdout",
       "text": [
        "; "
       ]
      },
      {
       "output_type": "stream",
       "stream": "stdout",
       "text": [
        "; "
       ]
      },
      {
       "output_type": "stream",
       "stream": "stdout",
       "text": [
        "; "
       ]
      },
      {
       "output_type": "stream",
       "stream": "stdout",
       "text": [
        "; "
       ]
      },
      {
       "output_type": "stream",
       "stream": "stdout",
       "text": [
        "; "
       ]
      },
      {
       "output_type": "stream",
       "stream": "stdout",
       "text": [
        "; "
       ]
      },
      {
       "output_type": "stream",
       "stream": "stdout",
       "text": [
        "; "
       ]
      },
      {
       "output_type": "stream",
       "stream": "stdout",
       "text": [
        "; "
       ]
      },
      {
       "output_type": "stream",
       "stream": "stdout",
       "text": [
        "; "
       ]
      },
      {
       "output_type": "stream",
       "stream": "stdout",
       "text": [
        "; "
       ]
      },
      {
       "output_type": "stream",
       "stream": "stdout",
       "text": [
        "; "
       ]
      },
      {
       "output_type": "stream",
       "stream": "stdout",
       "text": [
        "; "
       ]
      },
      {
       "output_type": "stream",
       "stream": "stdout",
       "text": [
        "; "
       ]
      },
      {
       "output_type": "stream",
       "stream": "stdout",
       "text": [
        "; "
       ]
      },
      {
       "output_type": "stream",
       "stream": "stdout",
       "text": [
        "; "
       ]
      },
      {
       "output_type": "stream",
       "stream": "stdout",
       "text": [
        "; "
       ]
      },
      {
       "output_type": "stream",
       "stream": "stdout",
       "text": [
        "; "
       ]
      },
      {
       "output_type": "stream",
       "stream": "stdout",
       "text": [
        "; "
       ]
      },
      {
       "output_type": "stream",
       "stream": "stdout",
       "text": [
        "; "
       ]
      },
      {
       "output_type": "stream",
       "stream": "stdout",
       "text": [
        "; "
       ]
      },
      {
       "output_type": "stream",
       "stream": "stdout",
       "text": [
        "; "
       ]
      },
      {
       "output_type": "stream",
       "stream": "stdout",
       "text": [
        "; "
       ]
      },
      {
       "output_type": "stream",
       "stream": "stdout",
       "text": [
        "; "
       ]
      },
      {
       "output_type": "stream",
       "stream": "stdout",
       "text": [
        "; "
       ]
      },
      {
       "output_type": "stream",
       "stream": "stdout",
       "text": [
        "; "
       ]
      },
      {
       "output_type": "stream",
       "stream": "stdout",
       "text": [
        "; "
       ]
      },
      {
       "output_type": "stream",
       "stream": "stdout",
       "text": [
        "; "
       ]
      },
      {
       "output_type": "stream",
       "stream": "stdout",
       "text": [
        "; "
       ]
      },
      {
       "output_type": "stream",
       "stream": "stdout",
       "text": [
        "; "
       ]
      },
      {
       "output_type": "stream",
       "stream": "stdout",
       "text": [
        "; "
       ]
      },
      {
       "output_type": "stream",
       "stream": "stdout",
       "text": [
        "; "
       ]
      },
      {
       "output_type": "stream",
       "stream": "stdout",
       "text": [
        "; "
       ]
      },
      {
       "output_type": "stream",
       "stream": "stdout",
       "text": [
        "; "
       ]
      },
      {
       "output_type": "stream",
       "stream": "stdout",
       "text": [
        "; "
       ]
      },
      {
       "output_type": "stream",
       "stream": "stdout",
       "text": [
        "; "
       ]
      },
      {
       "output_type": "stream",
       "stream": "stdout",
       "text": [
        "; "
       ]
      },
      {
       "output_type": "stream",
       "stream": "stdout",
       "text": [
        "; "
       ]
      },
      {
       "output_type": "stream",
       "stream": "stdout",
       "text": [
        "; "
       ]
      },
      {
       "output_type": "stream",
       "stream": "stdout",
       "text": [
        "; "
       ]
      },
      {
       "output_type": "stream",
       "stream": "stdout",
       "text": [
        "; "
       ]
      },
      {
       "output_type": "stream",
       "stream": "stdout",
       "text": [
        "; "
       ]
      },
      {
       "output_type": "stream",
       "stream": "stdout",
       "text": [
        "; "
       ]
      },
      {
       "output_type": "stream",
       "stream": "stdout",
       "text": [
        "; "
       ]
      },
      {
       "output_type": "stream",
       "stream": "stdout",
       "text": [
        "; "
       ]
      },
      {
       "output_type": "stream",
       "stream": "stdout",
       "text": [
        "; "
       ]
      },
      {
       "output_type": "stream",
       "stream": "stdout",
       "text": [
        "; "
       ]
      },
      {
       "output_type": "stream",
       "stream": "stdout",
       "text": [
        "; "
       ]
      },
      {
       "output_type": "stream",
       "stream": "stdout",
       "text": [
        "; "
       ]
      },
      {
       "output_type": "stream",
       "stream": "stdout",
       "text": [
        "; "
       ]
      },
      {
       "output_type": "stream",
       "stream": "stdout",
       "text": [
        "; "
       ]
      },
      {
       "output_type": "stream",
       "stream": "stdout",
       "text": [
        "; "
       ]
      },
      {
       "output_type": "stream",
       "stream": "stdout",
       "text": [
        "; "
       ]
      },
      {
       "output_type": "stream",
       "stream": "stdout",
       "text": [
        "; "
       ]
      },
      {
       "output_type": "stream",
       "stream": "stdout",
       "text": [
        "; "
       ]
      },
      {
       "output_type": "stream",
       "stream": "stdout",
       "text": [
        "; "
       ]
      },
      {
       "output_type": "stream",
       "stream": "stdout",
       "text": [
        "; "
       ]
      },
      {
       "output_type": "stream",
       "stream": "stdout",
       "text": [
        "; "
       ]
      },
      {
       "output_type": "stream",
       "stream": "stdout",
       "text": [
        "; "
       ]
      },
      {
       "output_type": "stream",
       "stream": "stdout",
       "text": [
        "; "
       ]
      },
      {
       "output_type": "stream",
       "stream": "stdout",
       "text": [
        "; "
       ]
      },
      {
       "output_type": "stream",
       "stream": "stdout",
       "text": [
        "; "
       ]
      },
      {
       "output_type": "stream",
       "stream": "stdout",
       "text": [
        "; "
       ]
      },
      {
       "output_type": "stream",
       "stream": "stdout",
       "text": [
        "; "
       ]
      },
      {
       "output_type": "stream",
       "stream": "stdout",
       "text": [
        "; "
       ]
      },
      {
       "output_type": "stream",
       "stream": "stdout",
       "text": [
        "; "
       ]
      },
      {
       "output_type": "stream",
       "stream": "stdout",
       "text": [
        "; "
       ]
      },
      {
       "output_type": "stream",
       "stream": "stdout",
       "text": [
        "; "
       ]
      },
      {
       "output_type": "stream",
       "stream": "stdout",
       "text": [
        "; "
       ]
      },
      {
       "output_type": "stream",
       "stream": "stdout",
       "text": [
        "; "
       ]
      },
      {
       "output_type": "stream",
       "stream": "stdout",
       "text": [
        "; "
       ]
      },
      {
       "output_type": "stream",
       "stream": "stdout",
       "text": [
        "; "
       ]
      },
      {
       "output_type": "stream",
       "stream": "stdout",
       "text": [
        "; "
       ]
      },
      {
       "output_type": "stream",
       "stream": "stdout",
       "text": [
        "; "
       ]
      },
      {
       "output_type": "stream",
       "stream": "stdout",
       "text": [
        "; "
       ]
      },
      {
       "output_type": "stream",
       "stream": "stdout",
       "text": [
        "; "
       ]
      },
      {
       "output_type": "stream",
       "stream": "stdout",
       "text": [
        "; "
       ]
      },
      {
       "output_type": "stream",
       "stream": "stdout",
       "text": [
        "; "
       ]
      },
      {
       "output_type": "stream",
       "stream": "stdout",
       "text": [
        "; "
       ]
      },
      {
       "output_type": "stream",
       "stream": "stdout",
       "text": [
        "; "
       ]
      },
      {
       "output_type": "stream",
       "stream": "stdout",
       "text": [
        "; "
       ]
      },
      {
       "output_type": "stream",
       "stream": "stdout",
       "text": [
        "; "
       ]
      },
      {
       "output_type": "stream",
       "stream": "stdout",
       "text": [
        "; "
       ]
      },
      {
       "output_type": "stream",
       "stream": "stdout",
       "text": [
        "; "
       ]
      },
      {
       "output_type": "stream",
       "stream": "stdout",
       "text": [
        "; "
       ]
      },
      {
       "output_type": "stream",
       "stream": "stdout",
       "text": [
        "; "
       ]
      },
      {
       "output_type": "stream",
       "stream": "stdout",
       "text": [
        "; "
       ]
      },
      {
       "output_type": "stream",
       "stream": "stdout",
       "text": [
        "; "
       ]
      },
      {
       "output_type": "stream",
       "stream": "stdout",
       "text": [
        "; "
       ]
      },
      {
       "output_type": "stream",
       "stream": "stdout",
       "text": [
        "; "
       ]
      },
      {
       "output_type": "stream",
       "stream": "stdout",
       "text": [
        "; "
       ]
      },
      {
       "output_type": "stream",
       "stream": "stdout",
       "text": [
        "; "
       ]
      },
      {
       "output_type": "stream",
       "stream": "stdout",
       "text": [
        "; "
       ]
      },
      {
       "output_type": "stream",
       "stream": "stdout",
       "text": [
        "; "
       ]
      },
      {
       "output_type": "stream",
       "stream": "stdout",
       "text": [
        "; "
       ]
      },
      {
       "output_type": "stream",
       "stream": "stdout",
       "text": [
        "; "
       ]
      },
      {
       "output_type": "stream",
       "stream": "stdout",
       "text": [
        "; "
       ]
      },
      {
       "output_type": "stream",
       "stream": "stdout",
       "text": [
        "; "
       ]
      },
      {
       "output_type": "stream",
       "stream": "stdout",
       "text": [
        "; "
       ]
      },
      {
       "output_type": "stream",
       "stream": "stdout",
       "text": [
        "; "
       ]
      },
      {
       "output_type": "stream",
       "stream": "stdout",
       "text": [
        "; "
       ]
      },
      {
       "output_type": "stream",
       "stream": "stdout",
       "text": [
        "; "
       ]
      },
      {
       "output_type": "stream",
       "stream": "stdout",
       "text": [
        "; "
       ]
      },
      {
       "output_type": "stream",
       "stream": "stdout",
       "text": [
        "; "
       ]
      },
      {
       "output_type": "stream",
       "stream": "stdout",
       "text": [
        "; "
       ]
      },
      {
       "output_type": "stream",
       "stream": "stdout",
       "text": [
        "; "
       ]
      },
      {
       "output_type": "stream",
       "stream": "stdout",
       "text": [
        "; "
       ]
      },
      {
       "output_type": "stream",
       "stream": "stdout",
       "text": [
        "; "
       ]
      },
      {
       "output_type": "stream",
       "stream": "stdout",
       "text": [
        "; "
       ]
      },
      {
       "output_type": "stream",
       "stream": "stdout",
       "text": [
        "; "
       ]
      },
      {
       "output_type": "stream",
       "stream": "stdout",
       "text": [
        "; "
       ]
      },
      {
       "output_type": "stream",
       "stream": "stdout",
       "text": [
        "; "
       ]
      },
      {
       "output_type": "stream",
       "stream": "stdout",
       "text": [
        "; "
       ]
      },
      {
       "output_type": "stream",
       "stream": "stdout",
       "text": [
        "; "
       ]
      },
      {
       "output_type": "stream",
       "stream": "stdout",
       "text": [
        "; "
       ]
      },
      {
       "output_type": "stream",
       "stream": "stdout",
       "text": [
        "; "
       ]
      },
      {
       "output_type": "stream",
       "stream": "stdout",
       "text": [
        "; "
       ]
      },
      {
       "output_type": "stream",
       "stream": "stdout",
       "text": [
        "; "
       ]
      },
      {
       "output_type": "stream",
       "stream": "stdout",
       "text": [
        "; "
       ]
      },
      {
       "output_type": "stream",
       "stream": "stdout",
       "text": [
        "; "
       ]
      },
      {
       "output_type": "stream",
       "stream": "stdout",
       "text": [
        "; "
       ]
      },
      {
       "output_type": "stream",
       "stream": "stdout",
       "text": [
        "; "
       ]
      },
      {
       "output_type": "stream",
       "stream": "stdout",
       "text": [
        "; "
       ]
      },
      {
       "output_type": "stream",
       "stream": "stdout",
       "text": [
        "; "
       ]
      },
      {
       "output_type": "stream",
       "stream": "stdout",
       "text": [
        "; "
       ]
      },
      {
       "output_type": "stream",
       "stream": "stdout",
       "text": [
        "; "
       ]
      },
      {
       "output_type": "stream",
       "stream": "stdout",
       "text": [
        "; "
       ]
      },
      {
       "output_type": "stream",
       "stream": "stdout",
       "text": [
        "; "
       ]
      },
      {
       "output_type": "stream",
       "stream": "stdout",
       "text": [
        "; "
       ]
      },
      {
       "output_type": "stream",
       "stream": "stdout",
       "text": [
        "; "
       ]
      },
      {
       "output_type": "stream",
       "stream": "stdout",
       "text": [
        "; "
       ]
      },
      {
       "output_type": "stream",
       "stream": "stdout",
       "text": [
        "; "
       ]
      },
      {
       "output_type": "stream",
       "stream": "stdout",
       "text": [
        "; "
       ]
      },
      {
       "output_type": "stream",
       "stream": "stdout",
       "text": [
        "; "
       ]
      },
      {
       "output_type": "stream",
       "stream": "stdout",
       "text": [
        "; "
       ]
      },
      {
       "output_type": "stream",
       "stream": "stdout",
       "text": [
        "; "
       ]
      },
      {
       "output_type": "stream",
       "stream": "stdout",
       "text": [
        "; "
       ]
      },
      {
       "output_type": "stream",
       "stream": "stdout",
       "text": [
        "; "
       ]
      },
      {
       "output_type": "stream",
       "stream": "stdout",
       "text": [
        "; "
       ]
      },
      {
       "output_type": "stream",
       "stream": "stdout",
       "text": [
        "; "
       ]
      },
      {
       "output_type": "stream",
       "stream": "stdout",
       "text": [
        "; "
       ]
      },
      {
       "output_type": "stream",
       "stream": "stdout",
       "text": [
        "; "
       ]
      },
      {
       "output_type": "stream",
       "stream": "stdout",
       "text": [
        "; "
       ]
      },
      {
       "output_type": "stream",
       "stream": "stdout",
       "text": [
        "; "
       ]
      },
      {
       "output_type": "stream",
       "stream": "stdout",
       "text": [
        "; "
       ]
      },
      {
       "output_type": "stream",
       "stream": "stdout",
       "text": [
        "; "
       ]
      },
      {
       "output_type": "stream",
       "stream": "stdout",
       "text": [
        "; "
       ]
      },
      {
       "output_type": "stream",
       "stream": "stdout",
       "text": [
        "; "
       ]
      },
      {
       "output_type": "stream",
       "stream": "stdout",
       "text": [
        "; "
       ]
      },
      {
       "output_type": "stream",
       "stream": "stdout",
       "text": [
        "; "
       ]
      },
      {
       "output_type": "stream",
       "stream": "stdout",
       "text": [
        "; "
       ]
      },
      {
       "output_type": "stream",
       "stream": "stdout",
       "text": [
        "; "
       ]
      },
      {
       "output_type": "stream",
       "stream": "stdout",
       "text": [
        "; "
       ]
      },
      {
       "output_type": "stream",
       "stream": "stdout",
       "text": [
        "; "
       ]
      },
      {
       "output_type": "stream",
       "stream": "stdout",
       "text": [
        "; "
       ]
      },
      {
       "output_type": "stream",
       "stream": "stdout",
       "text": [
        "; "
       ]
      },
      {
       "output_type": "stream",
       "stream": "stdout",
       "text": [
        "; "
       ]
      },
      {
       "output_type": "stream",
       "stream": "stdout",
       "text": [
        "; "
       ]
      },
      {
       "output_type": "stream",
       "stream": "stdout",
       "text": [
        "; "
       ]
      },
      {
       "output_type": "stream",
       "stream": "stdout",
       "text": [
        "; "
       ]
      },
      {
       "output_type": "stream",
       "stream": "stdout",
       "text": [
        "; "
       ]
      },
      {
       "output_type": "stream",
       "stream": "stdout",
       "text": [
        "; "
       ]
      },
      {
       "output_type": "stream",
       "stream": "stdout",
       "text": [
        "; "
       ]
      },
      {
       "output_type": "stream",
       "stream": "stdout",
       "text": [
        "; "
       ]
      },
      {
       "output_type": "stream",
       "stream": "stdout",
       "text": [
        "; "
       ]
      },
      {
       "output_type": "stream",
       "stream": "stdout",
       "text": [
        "; "
       ]
      },
      {
       "output_type": "stream",
       "stream": "stdout",
       "text": [
        "; "
       ]
      },
      {
       "output_type": "stream",
       "stream": "stdout",
       "text": [
        "; "
       ]
      },
      {
       "output_type": "stream",
       "stream": "stdout",
       "text": [
        "; "
       ]
      },
      {
       "output_type": "stream",
       "stream": "stdout",
       "text": [
        "; "
       ]
      },
      {
       "output_type": "stream",
       "stream": "stdout",
       "text": [
        "; "
       ]
      },
      {
       "output_type": "stream",
       "stream": "stdout",
       "text": [
        "; "
       ]
      },
      {
       "output_type": "stream",
       "stream": "stdout",
       "text": [
        "; "
       ]
      },
      {
       "output_type": "stream",
       "stream": "stdout",
       "text": [
        "; "
       ]
      },
      {
       "output_type": "stream",
       "stream": "stdout",
       "text": [
        "; "
       ]
      },
      {
       "output_type": "stream",
       "stream": "stdout",
       "text": [
        "; "
       ]
      },
      {
       "output_type": "stream",
       "stream": "stdout",
       "text": [
        "; "
       ]
      },
      {
       "output_type": "stream",
       "stream": "stdout",
       "text": [
        "; "
       ]
      },
      {
       "output_type": "stream",
       "stream": "stdout",
       "text": [
        "; "
       ]
      },
      {
       "output_type": "stream",
       "stream": "stdout",
       "text": [
        "; "
       ]
      },
      {
       "output_type": "stream",
       "stream": "stdout",
       "text": [
        "; "
       ]
      },
      {
       "output_type": "stream",
       "stream": "stdout",
       "text": [
        "; "
       ]
      },
      {
       "output_type": "stream",
       "stream": "stdout",
       "text": [
        "; "
       ]
      },
      {
       "output_type": "stream",
       "stream": "stdout",
       "text": [
        "; "
       ]
      },
      {
       "output_type": "stream",
       "stream": "stdout",
       "text": [
        "; "
       ]
      },
      {
       "output_type": "stream",
       "stream": "stdout",
       "text": [
        "; "
       ]
      },
      {
       "output_type": "stream",
       "stream": "stdout",
       "text": [
        "; "
       ]
      },
      {
       "output_type": "stream",
       "stream": "stdout",
       "text": [
        "; "
       ]
      },
      {
       "output_type": "stream",
       "stream": "stdout",
       "text": [
        "; "
       ]
      },
      {
       "output_type": "stream",
       "stream": "stdout",
       "text": [
        "; "
       ]
      },
      {
       "output_type": "stream",
       "stream": "stdout",
       "text": [
        "; "
       ]
      },
      {
       "output_type": "stream",
       "stream": "stdout",
       "text": [
        "; "
       ]
      },
      {
       "output_type": "stream",
       "stream": "stdout",
       "text": [
        "; "
       ]
      },
      {
       "output_type": "stream",
       "stream": "stdout",
       "text": [
        "; "
       ]
      },
      {
       "output_type": "stream",
       "stream": "stdout",
       "text": [
        "; "
       ]
      },
      {
       "output_type": "stream",
       "stream": "stdout",
       "text": [
        "; "
       ]
      },
      {
       "output_type": "stream",
       "stream": "stdout",
       "text": [
        "; "
       ]
      },
      {
       "output_type": "stream",
       "stream": "stdout",
       "text": [
        "; "
       ]
      },
      {
       "output_type": "stream",
       "stream": "stdout",
       "text": [
        "; "
       ]
      },
      {
       "output_type": "stream",
       "stream": "stdout",
       "text": [
        "; "
       ]
      },
      {
       "output_type": "stream",
       "stream": "stdout",
       "text": [
        "; "
       ]
      },
      {
       "output_type": "stream",
       "stream": "stdout",
       "text": [
        "; "
       ]
      },
      {
       "output_type": "stream",
       "stream": "stdout",
       "text": [
        "; "
       ]
      },
      {
       "output_type": "stream",
       "stream": "stdout",
       "text": [
        "; "
       ]
      },
      {
       "output_type": "stream",
       "stream": "stdout",
       "text": [
        "; "
       ]
      },
      {
       "output_type": "stream",
       "stream": "stdout",
       "text": [
        "; "
       ]
      },
      {
       "output_type": "stream",
       "stream": "stdout",
       "text": [
        "; "
       ]
      },
      {
       "output_type": "stream",
       "stream": "stdout",
       "text": [
        "; "
       ]
      },
      {
       "output_type": "stream",
       "stream": "stdout",
       "text": [
        "; "
       ]
      },
      {
       "output_type": "stream",
       "stream": "stdout",
       "text": [
        "; "
       ]
      },
      {
       "output_type": "stream",
       "stream": "stdout",
       "text": [
        "; "
       ]
      },
      {
       "output_type": "stream",
       "stream": "stdout",
       "text": [
        "; "
       ]
      },
      {
       "output_type": "stream",
       "stream": "stdout",
       "text": [
        "; "
       ]
      },
      {
       "output_type": "stream",
       "stream": "stdout",
       "text": [
        "; "
       ]
      },
      {
       "output_type": "stream",
       "stream": "stdout",
       "text": [
        "; "
       ]
      },
      {
       "output_type": "stream",
       "stream": "stdout",
       "text": [
        "; "
       ]
      },
      {
       "output_type": "stream",
       "stream": "stdout",
       "text": [
        "; "
       ]
      },
      {
       "output_type": "stream",
       "stream": "stdout",
       "text": [
        "; "
       ]
      },
      {
       "output_type": "stream",
       "stream": "stdout",
       "text": [
        "; "
       ]
      },
      {
       "output_type": "stream",
       "stream": "stdout",
       "text": [
        "; "
       ]
      },
      {
       "output_type": "stream",
       "stream": "stdout",
       "text": [
        "; "
       ]
      },
      {
       "output_type": "stream",
       "stream": "stdout",
       "text": [
        "; "
       ]
      },
      {
       "output_type": "stream",
       "stream": "stdout",
       "text": [
        "; "
       ]
      },
      {
       "output_type": "stream",
       "stream": "stdout",
       "text": [
        "; "
       ]
      },
      {
       "output_type": "stream",
       "stream": "stdout",
       "text": [
        "; "
       ]
      },
      {
       "output_type": "stream",
       "stream": "stdout",
       "text": [
        "; "
       ]
      },
      {
       "output_type": "stream",
       "stream": "stdout",
       "text": [
        "; "
       ]
      },
      {
       "output_type": "stream",
       "stream": "stdout",
       "text": [
        "; "
       ]
      },
      {
       "output_type": "stream",
       "stream": "stdout",
       "text": [
        "; "
       ]
      },
      {
       "output_type": "stream",
       "stream": "stdout",
       "text": [
        "; "
       ]
      },
      {
       "output_type": "stream",
       "stream": "stdout",
       "text": [
        "; "
       ]
      },
      {
       "output_type": "stream",
       "stream": "stdout",
       "text": [
        "; "
       ]
      },
      {
       "output_type": "stream",
       "stream": "stdout",
       "text": [
        "; "
       ]
      },
      {
       "output_type": "stream",
       "stream": "stdout",
       "text": [
        "; "
       ]
      },
      {
       "output_type": "stream",
       "stream": "stdout",
       "text": [
        "; "
       ]
      },
      {
       "output_type": "stream",
       "stream": "stdout",
       "text": [
        "; "
       ]
      },
      {
       "output_type": "stream",
       "stream": "stdout",
       "text": [
        "; "
       ]
      },
      {
       "output_type": "stream",
       "stream": "stdout",
       "text": [
        "; "
       ]
      },
      {
       "output_type": "stream",
       "stream": "stdout",
       "text": [
        "; "
       ]
      },
      {
       "output_type": "stream",
       "stream": "stdout",
       "text": [
        "; "
       ]
      },
      {
       "output_type": "stream",
       "stream": "stdout",
       "text": [
        "; "
       ]
      },
      {
       "output_type": "stream",
       "stream": "stdout",
       "text": [
        "; "
       ]
      },
      {
       "output_type": "stream",
       "stream": "stdout",
       "text": [
        "; "
       ]
      },
      {
       "output_type": "stream",
       "stream": "stdout",
       "text": [
        "; "
       ]
      },
      {
       "output_type": "stream",
       "stream": "stdout",
       "text": [
        "; "
       ]
      },
      {
       "output_type": "stream",
       "stream": "stdout",
       "text": [
        "; "
       ]
      },
      {
       "output_type": "stream",
       "stream": "stdout",
       "text": [
        "; "
       ]
      },
      {
       "output_type": "stream",
       "stream": "stdout",
       "text": [
        "; "
       ]
      },
      {
       "output_type": "stream",
       "stream": "stdout",
       "text": [
        "; "
       ]
      },
      {
       "output_type": "stream",
       "stream": "stdout",
       "text": [
        "; "
       ]
      },
      {
       "output_type": "stream",
       "stream": "stdout",
       "text": [
        "; "
       ]
      },
      {
       "output_type": "stream",
       "stream": "stdout",
       "text": [
        "; "
       ]
      },
      {
       "output_type": "stream",
       "stream": "stdout",
       "text": [
        "; "
       ]
      },
      {
       "output_type": "stream",
       "stream": "stdout",
       "text": [
        "; "
       ]
      },
      {
       "output_type": "stream",
       "stream": "stdout",
       "text": [
        "; "
       ]
      },
      {
       "output_type": "stream",
       "stream": "stdout",
       "text": [
        "; "
       ]
      },
      {
       "output_type": "stream",
       "stream": "stdout",
       "text": [
        "; "
       ]
      },
      {
       "output_type": "stream",
       "stream": "stdout",
       "text": [
        "; "
       ]
      },
      {
       "output_type": "stream",
       "stream": "stdout",
       "text": [
        "; "
       ]
      },
      {
       "output_type": "stream",
       "stream": "stdout",
       "text": [
        "; "
       ]
      },
      {
       "output_type": "stream",
       "stream": "stdout",
       "text": [
        "; "
       ]
      },
      {
       "output_type": "stream",
       "stream": "stdout",
       "text": [
        "; "
       ]
      },
      {
       "output_type": "stream",
       "stream": "stdout",
       "text": [
        "; "
       ]
      },
      {
       "output_type": "stream",
       "stream": "stdout",
       "text": [
        "; "
       ]
      },
      {
       "output_type": "stream",
       "stream": "stdout",
       "text": [
        "; "
       ]
      },
      {
       "output_type": "stream",
       "stream": "stdout",
       "text": [
        "; "
       ]
      },
      {
       "output_type": "stream",
       "stream": "stdout",
       "text": [
        "; "
       ]
      },
      {
       "output_type": "stream",
       "stream": "stdout",
       "text": [
        "; "
       ]
      },
      {
       "output_type": "stream",
       "stream": "stdout",
       "text": [
        "; "
       ]
      },
      {
       "output_type": "stream",
       "stream": "stdout",
       "text": [
        "; "
       ]
      },
      {
       "output_type": "stream",
       "stream": "stdout",
       "text": [
        "; "
       ]
      },
      {
       "output_type": "stream",
       "stream": "stdout",
       "text": [
        "; "
       ]
      },
      {
       "output_type": "stream",
       "stream": "stdout",
       "text": [
        "; "
       ]
      },
      {
       "output_type": "stream",
       "stream": "stdout",
       "text": [
        "; "
       ]
      },
      {
       "output_type": "stream",
       "stream": "stdout",
       "text": [
        "; "
       ]
      },
      {
       "output_type": "stream",
       "stream": "stdout",
       "text": [
        "; "
       ]
      },
      {
       "output_type": "stream",
       "stream": "stdout",
       "text": [
        "; "
       ]
      },
      {
       "output_type": "stream",
       "stream": "stdout",
       "text": [
        "; "
       ]
      },
      {
       "output_type": "stream",
       "stream": "stdout",
       "text": [
        "; "
       ]
      },
      {
       "output_type": "stream",
       "stream": "stdout",
       "text": [
        "; "
       ]
      },
      {
       "output_type": "stream",
       "stream": "stdout",
       "text": [
        "; "
       ]
      },
      {
       "output_type": "stream",
       "stream": "stdout",
       "text": [
        "; "
       ]
      },
      {
       "output_type": "stream",
       "stream": "stdout",
       "text": [
        "; "
       ]
      },
      {
       "output_type": "stream",
       "stream": "stdout",
       "text": [
        "; "
       ]
      },
      {
       "output_type": "stream",
       "stream": "stdout",
       "text": [
        "; "
       ]
      },
      {
       "output_type": "stream",
       "stream": "stdout",
       "text": [
        "; "
       ]
      },
      {
       "output_type": "stream",
       "stream": "stdout",
       "text": [
        "; "
       ]
      },
      {
       "output_type": "stream",
       "stream": "stdout",
       "text": [
        "; "
       ]
      },
      {
       "output_type": "stream",
       "stream": "stdout",
       "text": [
        "; "
       ]
      },
      {
       "output_type": "stream",
       "stream": "stdout",
       "text": [
        "; "
       ]
      },
      {
       "output_type": "stream",
       "stream": "stdout",
       "text": [
        "; "
       ]
      },
      {
       "output_type": "stream",
       "stream": "stdout",
       "text": [
        "; "
       ]
      },
      {
       "output_type": "stream",
       "stream": "stdout",
       "text": [
        "; "
       ]
      },
      {
       "output_type": "stream",
       "stream": "stdout",
       "text": [
        "; "
       ]
      },
      {
       "output_type": "stream",
       "stream": "stdout",
       "text": [
        "; "
       ]
      },
      {
       "output_type": "stream",
       "stream": "stdout",
       "text": [
        "; "
       ]
      },
      {
       "output_type": "stream",
       "stream": "stdout",
       "text": [
        "; "
       ]
      },
      {
       "output_type": "stream",
       "stream": "stdout",
       "text": [
        "; "
       ]
      },
      {
       "output_type": "stream",
       "stream": "stdout",
       "text": [
        "; "
       ]
      },
      {
       "output_type": "stream",
       "stream": "stdout",
       "text": [
        "; "
       ]
      },
      {
       "output_type": "stream",
       "stream": "stdout",
       "text": [
        "; "
       ]
      },
      {
       "output_type": "stream",
       "stream": "stdout",
       "text": [
        "; "
       ]
      },
      {
       "output_type": "stream",
       "stream": "stdout",
       "text": [
        "; "
       ]
      },
      {
       "output_type": "stream",
       "stream": "stdout",
       "text": [
        "; "
       ]
      },
      {
       "output_type": "stream",
       "stream": "stdout",
       "text": [
        "; "
       ]
      },
      {
       "output_type": "stream",
       "stream": "stdout",
       "text": [
        "; "
       ]
      },
      {
       "output_type": "stream",
       "stream": "stdout",
       "text": [
        "; "
       ]
      },
      {
       "output_type": "stream",
       "stream": "stdout",
       "text": [
        "; "
       ]
      },
      {
       "output_type": "stream",
       "stream": "stdout",
       "text": [
        "; "
       ]
      },
      {
       "output_type": "stream",
       "stream": "stdout",
       "text": [
        "; "
       ]
      },
      {
       "output_type": "stream",
       "stream": "stdout",
       "text": [
        "; "
       ]
      },
      {
       "output_type": "stream",
       "stream": "stdout",
       "text": [
        "; "
       ]
      },
      {
       "output_type": "stream",
       "stream": "stdout",
       "text": [
        "; "
       ]
      },
      {
       "output_type": "stream",
       "stream": "stdout",
       "text": [
        "; "
       ]
      },
      {
       "output_type": "stream",
       "stream": "stdout",
       "text": [
        "; "
       ]
      },
      {
       "output_type": "stream",
       "stream": "stdout",
       "text": [
        "; "
       ]
      },
      {
       "output_type": "stream",
       "stream": "stdout",
       "text": [
        "; "
       ]
      },
      {
       "output_type": "stream",
       "stream": "stdout",
       "text": [
        "; "
       ]
      },
      {
       "output_type": "stream",
       "stream": "stdout",
       "text": [
        "; "
       ]
      },
      {
       "output_type": "stream",
       "stream": "stdout",
       "text": [
        "; "
       ]
      },
      {
       "output_type": "stream",
       "stream": "stdout",
       "text": [
        "; "
       ]
      },
      {
       "output_type": "stream",
       "stream": "stdout",
       "text": [
        "; "
       ]
      },
      {
       "output_type": "stream",
       "stream": "stdout",
       "text": [
        "; "
       ]
      },
      {
       "output_type": "stream",
       "stream": "stdout",
       "text": [
        "; "
       ]
      },
      {
       "output_type": "stream",
       "stream": "stdout",
       "text": [
        "; "
       ]
      },
      {
       "output_type": "stream",
       "stream": "stdout",
       "text": [
        "; "
       ]
      },
      {
       "output_type": "stream",
       "stream": "stdout",
       "text": [
        "; "
       ]
      },
      {
       "output_type": "stream",
       "stream": "stdout",
       "text": [
        "; "
       ]
      },
      {
       "output_type": "stream",
       "stream": "stdout",
       "text": [
        "; "
       ]
      },
      {
       "output_type": "stream",
       "stream": "stdout",
       "text": [
        "; "
       ]
      },
      {
       "output_type": "stream",
       "stream": "stdout",
       "text": [
        "; "
       ]
      },
      {
       "output_type": "stream",
       "stream": "stdout",
       "text": [
        "; "
       ]
      },
      {
       "output_type": "stream",
       "stream": "stdout",
       "text": [
        "; "
       ]
      },
      {
       "output_type": "stream",
       "stream": "stdout",
       "text": [
        "; "
       ]
      },
      {
       "output_type": "stream",
       "stream": "stdout",
       "text": [
        "; "
       ]
      },
      {
       "output_type": "stream",
       "stream": "stdout",
       "text": [
        "; "
       ]
      },
      {
       "output_type": "stream",
       "stream": "stdout",
       "text": [
        "; "
       ]
      },
      {
       "output_type": "stream",
       "stream": "stdout",
       "text": [
        "; "
       ]
      },
      {
       "output_type": "stream",
       "stream": "stdout",
       "text": [
        "; "
       ]
      },
      {
       "output_type": "stream",
       "stream": "stdout",
       "text": [
        "; "
       ]
      },
      {
       "output_type": "stream",
       "stream": "stdout",
       "text": [
        "; "
       ]
      },
      {
       "output_type": "stream",
       "stream": "stdout",
       "text": [
        "; "
       ]
      },
      {
       "output_type": "stream",
       "stream": "stdout",
       "text": [
        "; "
       ]
      },
      {
       "output_type": "stream",
       "stream": "stdout",
       "text": [
        "; "
       ]
      },
      {
       "output_type": "stream",
       "stream": "stdout",
       "text": [
        "; "
       ]
      },
      {
       "output_type": "stream",
       "stream": "stdout",
       "text": [
        "; "
       ]
      },
      {
       "output_type": "stream",
       "stream": "stdout",
       "text": [
        "; "
       ]
      },
      {
       "output_type": "stream",
       "stream": "stdout",
       "text": [
        "; "
       ]
      },
      {
       "output_type": "stream",
       "stream": "stdout",
       "text": [
        "; "
       ]
      },
      {
       "output_type": "stream",
       "stream": "stdout",
       "text": [
        "; "
       ]
      },
      {
       "output_type": "stream",
       "stream": "stdout",
       "text": [
        "; "
       ]
      },
      {
       "output_type": "stream",
       "stream": "stdout",
       "text": [
        "; "
       ]
      },
      {
       "output_type": "stream",
       "stream": "stdout",
       "text": [
        "; "
       ]
      },
      {
       "output_type": "stream",
       "stream": "stdout",
       "text": [
        "; "
       ]
      },
      {
       "output_type": "stream",
       "stream": "stdout",
       "text": [
        "; "
       ]
      },
      {
       "output_type": "stream",
       "stream": "stdout",
       "text": [
        "; "
       ]
      },
      {
       "output_type": "stream",
       "stream": "stdout",
       "text": [
        "; "
       ]
      },
      {
       "output_type": "stream",
       "stream": "stdout",
       "text": [
        "; "
       ]
      },
      {
       "output_type": "stream",
       "stream": "stdout",
       "text": [
        "; "
       ]
      },
      {
       "output_type": "stream",
       "stream": "stdout",
       "text": [
        "; "
       ]
      },
      {
       "output_type": "stream",
       "stream": "stdout",
       "text": [
        "; "
       ]
      },
      {
       "output_type": "stream",
       "stream": "stdout",
       "text": [
        "; "
       ]
      },
      {
       "output_type": "stream",
       "stream": "stdout",
       "text": [
        "; "
       ]
      },
      {
       "output_type": "stream",
       "stream": "stdout",
       "text": [
        "; "
       ]
      },
      {
       "output_type": "stream",
       "stream": "stdout",
       "text": [
        "; "
       ]
      },
      {
       "output_type": "stream",
       "stream": "stdout",
       "text": [
        "; "
       ]
      },
      {
       "output_type": "stream",
       "stream": "stdout",
       "text": [
        "; "
       ]
      },
      {
       "output_type": "stream",
       "stream": "stdout",
       "text": [
        "; "
       ]
      },
      {
       "output_type": "stream",
       "stream": "stdout",
       "text": [
        "; "
       ]
      },
      {
       "output_type": "stream",
       "stream": "stdout",
       "text": [
        "; "
       ]
      },
      {
       "output_type": "stream",
       "stream": "stdout",
       "text": [
        "; "
       ]
      },
      {
       "output_type": "stream",
       "stream": "stdout",
       "text": [
        "; "
       ]
      },
      {
       "output_type": "stream",
       "stream": "stdout",
       "text": [
        "; "
       ]
      },
      {
       "output_type": "stream",
       "stream": "stdout",
       "text": [
        "; "
       ]
      },
      {
       "output_type": "stream",
       "stream": "stdout",
       "text": [
        "; "
       ]
      },
      {
       "output_type": "stream",
       "stream": "stdout",
       "text": [
        "; "
       ]
      },
      {
       "output_type": "stream",
       "stream": "stdout",
       "text": [
        "; "
       ]
      },
      {
       "output_type": "stream",
       "stream": "stdout",
       "text": [
        "; "
       ]
      },
      {
       "output_type": "stream",
       "stream": "stdout",
       "text": [
        "; "
       ]
      },
      {
       "output_type": "stream",
       "stream": "stdout",
       "text": [
        "; "
       ]
      },
      {
       "output_type": "stream",
       "stream": "stdout",
       "text": [
        "; "
       ]
      },
      {
       "output_type": "stream",
       "stream": "stdout",
       "text": [
        "; "
       ]
      },
      {
       "output_type": "stream",
       "stream": "stdout",
       "text": [
        "; "
       ]
      },
      {
       "output_type": "stream",
       "stream": "stdout",
       "text": [
        "; "
       ]
      },
      {
       "output_type": "stream",
       "stream": "stdout",
       "text": [
        "; "
       ]
      },
      {
       "output_type": "stream",
       "stream": "stdout",
       "text": [
        "; "
       ]
      },
      {
       "output_type": "stream",
       "stream": "stdout",
       "text": [
        "; "
       ]
      },
      {
       "output_type": "stream",
       "stream": "stdout",
       "text": [
        "; "
       ]
      },
      {
       "output_type": "stream",
       "stream": "stdout",
       "text": [
        "; "
       ]
      },
      {
       "output_type": "stream",
       "stream": "stdout",
       "text": [
        "; "
       ]
      },
      {
       "output_type": "stream",
       "stream": "stdout",
       "text": [
        "; "
       ]
      },
      {
       "output_type": "stream",
       "stream": "stdout",
       "text": [
        "; "
       ]
      },
      {
       "output_type": "stream",
       "stream": "stdout",
       "text": [
        "; "
       ]
      },
      {
       "output_type": "stream",
       "stream": "stdout",
       "text": [
        "; "
       ]
      },
      {
       "output_type": "stream",
       "stream": "stdout",
       "text": [
        "; "
       ]
      },
      {
       "output_type": "stream",
       "stream": "stdout",
       "text": [
        "; "
       ]
      },
      {
       "output_type": "stream",
       "stream": "stdout",
       "text": [
        "; "
       ]
      },
      {
       "output_type": "stream",
       "stream": "stdout",
       "text": [
        "; "
       ]
      },
      {
       "output_type": "stream",
       "stream": "stdout",
       "text": [
        "; "
       ]
      },
      {
       "output_type": "stream",
       "stream": "stdout",
       "text": [
        "; "
       ]
      },
      {
       "output_type": "stream",
       "stream": "stdout",
       "text": [
        "; "
       ]
      },
      {
       "output_type": "stream",
       "stream": "stdout",
       "text": [
        "; "
       ]
      },
      {
       "output_type": "stream",
       "stream": "stdout",
       "text": [
        "; "
       ]
      },
      {
       "output_type": "stream",
       "stream": "stdout",
       "text": [
        "; "
       ]
      },
      {
       "output_type": "stream",
       "stream": "stdout",
       "text": [
        "; "
       ]
      },
      {
       "output_type": "stream",
       "stream": "stdout",
       "text": [
        "; "
       ]
      },
      {
       "output_type": "stream",
       "stream": "stdout",
       "text": [
        "; "
       ]
      },
      {
       "output_type": "stream",
       "stream": "stdout",
       "text": [
        "; "
       ]
      },
      {
       "output_type": "stream",
       "stream": "stdout",
       "text": [
        "; "
       ]
      },
      {
       "output_type": "stream",
       "stream": "stdout",
       "text": [
        "; "
       ]
      },
      {
       "output_type": "stream",
       "stream": "stdout",
       "text": [
        "; "
       ]
      },
      {
       "output_type": "stream",
       "stream": "stdout",
       "text": [
        "; "
       ]
      },
      {
       "output_type": "stream",
       "stream": "stdout",
       "text": [
        "; "
       ]
      },
      {
       "output_type": "stream",
       "stream": "stdout",
       "text": [
        "; "
       ]
      },
      {
       "output_type": "stream",
       "stream": "stdout",
       "text": [
        "; "
       ]
      },
      {
       "output_type": "stream",
       "stream": "stdout",
       "text": [
        "; "
       ]
      },
      {
       "output_type": "stream",
       "stream": "stdout",
       "text": [
        "; "
       ]
      },
      {
       "output_type": "stream",
       "stream": "stdout",
       "text": [
        "; "
       ]
      },
      {
       "output_type": "stream",
       "stream": "stdout",
       "text": [
        "; "
       ]
      },
      {
       "output_type": "stream",
       "stream": "stdout",
       "text": [
        "; "
       ]
      },
      {
       "output_type": "stream",
       "stream": "stdout",
       "text": [
        "; "
       ]
      },
      {
       "output_type": "stream",
       "stream": "stdout",
       "text": [
        "; "
       ]
      },
      {
       "output_type": "stream",
       "stream": "stdout",
       "text": [
        "; "
       ]
      },
      {
       "output_type": "stream",
       "stream": "stdout",
       "text": [
        "; "
       ]
      },
      {
       "output_type": "stream",
       "stream": "stdout",
       "text": [
        "; "
       ]
      },
      {
       "output_type": "stream",
       "stream": "stdout",
       "text": [
        "; "
       ]
      },
      {
       "output_type": "stream",
       "stream": "stdout",
       "text": [
        "; "
       ]
      },
      {
       "output_type": "stream",
       "stream": "stdout",
       "text": [
        "; "
       ]
      },
      {
       "output_type": "stream",
       "stream": "stdout",
       "text": [
        "; "
       ]
      },
      {
       "output_type": "stream",
       "stream": "stdout",
       "text": [
        "; "
       ]
      },
      {
       "output_type": "stream",
       "stream": "stdout",
       "text": [
        "; "
       ]
      },
      {
       "output_type": "stream",
       "stream": "stdout",
       "text": [
        "; "
       ]
      },
      {
       "output_type": "stream",
       "stream": "stdout",
       "text": [
        "; "
       ]
      },
      {
       "output_type": "stream",
       "stream": "stdout",
       "text": [
        "; "
       ]
      },
      {
       "output_type": "stream",
       "stream": "stdout",
       "text": [
        "; "
       ]
      },
      {
       "output_type": "stream",
       "stream": "stdout",
       "text": [
        "; "
       ]
      },
      {
       "output_type": "stream",
       "stream": "stdout",
       "text": [
        "; "
       ]
      },
      {
       "output_type": "stream",
       "stream": "stdout",
       "text": [
        "; "
       ]
      },
      {
       "output_type": "stream",
       "stream": "stdout",
       "text": [
        "; "
       ]
      },
      {
       "output_type": "stream",
       "stream": "stdout",
       "text": [
        "; "
       ]
      },
      {
       "output_type": "stream",
       "stream": "stdout",
       "text": [
        "; "
       ]
      },
      {
       "output_type": "stream",
       "stream": "stdout",
       "text": [
        "; "
       ]
      },
      {
       "output_type": "stream",
       "stream": "stdout",
       "text": [
        "; "
       ]
      },
      {
       "output_type": "stream",
       "stream": "stdout",
       "text": [
        "; "
       ]
      },
      {
       "output_type": "stream",
       "stream": "stdout",
       "text": [
        "; "
       ]
      },
      {
       "output_type": "stream",
       "stream": "stdout",
       "text": [
        "; "
       ]
      },
      {
       "output_type": "stream",
       "stream": "stdout",
       "text": [
        "; "
       ]
      },
      {
       "output_type": "stream",
       "stream": "stdout",
       "text": [
        "; "
       ]
      },
      {
       "output_type": "stream",
       "stream": "stdout",
       "text": [
        "; "
       ]
      },
      {
       "output_type": "stream",
       "stream": "stdout",
       "text": [
        "; "
       ]
      },
      {
       "output_type": "stream",
       "stream": "stdout",
       "text": [
        "; "
       ]
      },
      {
       "output_type": "stream",
       "stream": "stdout",
       "text": [
        "; "
       ]
      },
      {
       "output_type": "stream",
       "stream": "stdout",
       "text": [
        "; "
       ]
      },
      {
       "output_type": "stream",
       "stream": "stdout",
       "text": [
        "; "
       ]
      },
      {
       "output_type": "stream",
       "stream": "stdout",
       "text": [
        "; "
       ]
      },
      {
       "output_type": "stream",
       "stream": "stdout",
       "text": [
        "; "
       ]
      },
      {
       "output_type": "stream",
       "stream": "stdout",
       "text": [
        "; "
       ]
      },
      {
       "output_type": "stream",
       "stream": "stdout",
       "text": [
        "; "
       ]
      },
      {
       "output_type": "stream",
       "stream": "stdout",
       "text": [
        "; "
       ]
      },
      {
       "output_type": "stream",
       "stream": "stdout",
       "text": [
        "; "
       ]
      },
      {
       "output_type": "stream",
       "stream": "stdout",
       "text": [
        "; "
       ]
      },
      {
       "output_type": "stream",
       "stream": "stdout",
       "text": [
        "; "
       ]
      },
      {
       "output_type": "stream",
       "stream": "stdout",
       "text": [
        "; "
       ]
      },
      {
       "output_type": "stream",
       "stream": "stdout",
       "text": [
        "; "
       ]
      },
      {
       "output_type": "stream",
       "stream": "stdout",
       "text": [
        "; "
       ]
      },
      {
       "output_type": "stream",
       "stream": "stdout",
       "text": [
        "; "
       ]
      },
      {
       "output_type": "stream",
       "stream": "stdout",
       "text": [
        "; "
       ]
      },
      {
       "output_type": "stream",
       "stream": "stdout",
       "text": [
        "; "
       ]
      },
      {
       "output_type": "stream",
       "stream": "stdout",
       "text": [
        "; "
       ]
      },
      {
       "output_type": "stream",
       "stream": "stdout",
       "text": [
        "; "
       ]
      },
      {
       "output_type": "stream",
       "stream": "stdout",
       "text": [
        "; "
       ]
      },
      {
       "output_type": "stream",
       "stream": "stdout",
       "text": [
        "; "
       ]
      },
      {
       "output_type": "stream",
       "stream": "stdout",
       "text": [
        "; "
       ]
      },
      {
       "output_type": "stream",
       "stream": "stdout",
       "text": [
        "; "
       ]
      },
      {
       "output_type": "stream",
       "stream": "stdout",
       "text": [
        "; "
       ]
      },
      {
       "output_type": "stream",
       "stream": "stdout",
       "text": [
        "; "
       ]
      },
      {
       "output_type": "stream",
       "stream": "stdout",
       "text": [
        "; "
       ]
      },
      {
       "output_type": "stream",
       "stream": "stdout",
       "text": [
        "; "
       ]
      },
      {
       "output_type": "stream",
       "stream": "stdout",
       "text": [
        "; "
       ]
      },
      {
       "output_type": "stream",
       "stream": "stdout",
       "text": [
        "; "
       ]
      },
      {
       "output_type": "stream",
       "stream": "stdout",
       "text": [
        "; "
       ]
      },
      {
       "output_type": "stream",
       "stream": "stdout",
       "text": [
        "; "
       ]
      },
      {
       "output_type": "stream",
       "stream": "stdout",
       "text": [
        "; "
       ]
      },
      {
       "output_type": "stream",
       "stream": "stdout",
       "text": [
        "; "
       ]
      },
      {
       "output_type": "stream",
       "stream": "stdout",
       "text": [
        "; "
       ]
      },
      {
       "output_type": "stream",
       "stream": "stdout",
       "text": [
        "; "
       ]
      },
      {
       "output_type": "stream",
       "stream": "stdout",
       "text": [
        "; "
       ]
      },
      {
       "output_type": "stream",
       "stream": "stdout",
       "text": [
        "; "
       ]
      },
      {
       "output_type": "stream",
       "stream": "stdout",
       "text": [
        "; "
       ]
      },
      {
       "output_type": "stream",
       "stream": "stdout",
       "text": [
        "; "
       ]
      },
      {
       "output_type": "stream",
       "stream": "stdout",
       "text": [
        "; "
       ]
      },
      {
       "output_type": "stream",
       "stream": "stdout",
       "text": [
        "; "
       ]
      },
      {
       "output_type": "stream",
       "stream": "stdout",
       "text": [
        "; "
       ]
      },
      {
       "output_type": "stream",
       "stream": "stdout",
       "text": [
        "; "
       ]
      },
      {
       "output_type": "stream",
       "stream": "stdout",
       "text": [
        "; "
       ]
      },
      {
       "output_type": "stream",
       "stream": "stdout",
       "text": [
        "; "
       ]
      },
      {
       "output_type": "stream",
       "stream": "stdout",
       "text": [
        "; "
       ]
      },
      {
       "output_type": "stream",
       "stream": "stdout",
       "text": [
        "; "
       ]
      },
      {
       "output_type": "stream",
       "stream": "stdout",
       "text": [
        "; "
       ]
      },
      {
       "output_type": "stream",
       "stream": "stdout",
       "text": [
        "; "
       ]
      },
      {
       "output_type": "stream",
       "stream": "stdout",
       "text": [
        "; "
       ]
      },
      {
       "output_type": "stream",
       "stream": "stdout",
       "text": [
        "; "
       ]
      },
      {
       "output_type": "stream",
       "stream": "stdout",
       "text": [
        "; "
       ]
      },
      {
       "output_type": "stream",
       "stream": "stdout",
       "text": [
        "; "
       ]
      },
      {
       "output_type": "stream",
       "stream": "stdout",
       "text": [
        "; "
       ]
      },
      {
       "output_type": "stream",
       "stream": "stdout",
       "text": [
        "; "
       ]
      },
      {
       "output_type": "stream",
       "stream": "stdout",
       "text": [
        "; "
       ]
      },
      {
       "output_type": "stream",
       "stream": "stdout",
       "text": [
        "; "
       ]
      },
      {
       "output_type": "stream",
       "stream": "stdout",
       "text": [
        "; "
       ]
      },
      {
       "output_type": "stream",
       "stream": "stdout",
       "text": [
        "; "
       ]
      },
      {
       "output_type": "stream",
       "stream": "stdout",
       "text": [
        "; "
       ]
      },
      {
       "output_type": "stream",
       "stream": "stdout",
       "text": [
        "; "
       ]
      },
      {
       "output_type": "stream",
       "stream": "stdout",
       "text": [
        "; "
       ]
      },
      {
       "output_type": "stream",
       "stream": "stdout",
       "text": [
        "; "
       ]
      },
      {
       "output_type": "stream",
       "stream": "stdout",
       "text": [
        "; "
       ]
      },
      {
       "output_type": "stream",
       "stream": "stdout",
       "text": [
        "; "
       ]
      },
      {
       "output_type": "stream",
       "stream": "stdout",
       "text": [
        "; "
       ]
      },
      {
       "output_type": "stream",
       "stream": "stdout",
       "text": [
        "; "
       ]
      },
      {
       "output_type": "stream",
       "stream": "stdout",
       "text": [
        "; "
       ]
      },
      {
       "output_type": "stream",
       "stream": "stdout",
       "text": [
        "; "
       ]
      },
      {
       "output_type": "stream",
       "stream": "stdout",
       "text": [
        "; "
       ]
      },
      {
       "output_type": "stream",
       "stream": "stdout",
       "text": [
        "; "
       ]
      },
      {
       "output_type": "stream",
       "stream": "stdout",
       "text": [
        "; "
       ]
      },
      {
       "output_type": "stream",
       "stream": "stdout",
       "text": [
        "; "
       ]
      },
      {
       "output_type": "stream",
       "stream": "stdout",
       "text": [
        "; "
       ]
      },
      {
       "output_type": "stream",
       "stream": "stdout",
       "text": [
        "; "
       ]
      },
      {
       "output_type": "stream",
       "stream": "stdout",
       "text": [
        "; "
       ]
      },
      {
       "output_type": "stream",
       "stream": "stdout",
       "text": [
        "; "
       ]
      },
      {
       "output_type": "stream",
       "stream": "stdout",
       "text": [
        "; "
       ]
      },
      {
       "output_type": "stream",
       "stream": "stdout",
       "text": [
        "; "
       ]
      },
      {
       "output_type": "stream",
       "stream": "stdout",
       "text": [
        "; "
       ]
      },
      {
       "output_type": "stream",
       "stream": "stdout",
       "text": [
        "; "
       ]
      },
      {
       "output_type": "stream",
       "stream": "stdout",
       "text": [
        "; "
       ]
      },
      {
       "output_type": "stream",
       "stream": "stdout",
       "text": [
        "; "
       ]
      },
      {
       "output_type": "stream",
       "stream": "stdout",
       "text": [
        "; "
       ]
      },
      {
       "output_type": "stream",
       "stream": "stdout",
       "text": [
        "; "
       ]
      },
      {
       "output_type": "stream",
       "stream": "stdout",
       "text": [
        "; "
       ]
      },
      {
       "output_type": "stream",
       "stream": "stdout",
       "text": [
        "; "
       ]
      },
      {
       "output_type": "stream",
       "stream": "stdout",
       "text": [
        "; "
       ]
      },
      {
       "output_type": "stream",
       "stream": "stdout",
       "text": [
        "; "
       ]
      },
      {
       "output_type": "stream",
       "stream": "stdout",
       "text": [
        "; "
       ]
      },
      {
       "output_type": "stream",
       "stream": "stdout",
       "text": [
        "; "
       ]
      },
      {
       "output_type": "stream",
       "stream": "stdout",
       "text": [
        "; "
       ]
      },
      {
       "output_type": "stream",
       "stream": "stdout",
       "text": [
        "; "
       ]
      },
      {
       "output_type": "stream",
       "stream": "stdout",
       "text": [
        "; "
       ]
      },
      {
       "output_type": "stream",
       "stream": "stdout",
       "text": [
        "; "
       ]
      },
      {
       "output_type": "stream",
       "stream": "stdout",
       "text": [
        "; "
       ]
      },
      {
       "output_type": "stream",
       "stream": "stdout",
       "text": [
        "; "
       ]
      },
      {
       "output_type": "stream",
       "stream": "stdout",
       "text": [
        "; "
       ]
      },
      {
       "output_type": "stream",
       "stream": "stdout",
       "text": [
        "; "
       ]
      },
      {
       "output_type": "stream",
       "stream": "stdout",
       "text": [
        "; "
       ]
      },
      {
       "output_type": "stream",
       "stream": "stdout",
       "text": [
        "; "
       ]
      },
      {
       "output_type": "stream",
       "stream": "stdout",
       "text": [
        "; "
       ]
      },
      {
       "output_type": "stream",
       "stream": "stdout",
       "text": [
        "; "
       ]
      },
      {
       "output_type": "stream",
       "stream": "stdout",
       "text": [
        "; "
       ]
      },
      {
       "output_type": "stream",
       "stream": "stdout",
       "text": [
        "; "
       ]
      },
      {
       "output_type": "stream",
       "stream": "stdout",
       "text": [
        "; "
       ]
      },
      {
       "output_type": "stream",
       "stream": "stdout",
       "text": [
        "; "
       ]
      },
      {
       "output_type": "stream",
       "stream": "stdout",
       "text": [
        "; "
       ]
      },
      {
       "output_type": "stream",
       "stream": "stdout",
       "text": [
        "; "
       ]
      },
      {
       "output_type": "stream",
       "stream": "stdout",
       "text": [
        "; "
       ]
      },
      {
       "output_type": "stream",
       "stream": "stdout",
       "text": [
        "; "
       ]
      },
      {
       "output_type": "stream",
       "stream": "stdout",
       "text": [
        "; "
       ]
      },
      {
       "output_type": "stream",
       "stream": "stdout",
       "text": [
        "; "
       ]
      },
      {
       "output_type": "stream",
       "stream": "stdout",
       "text": [
        "; "
       ]
      },
      {
       "output_type": "stream",
       "stream": "stdout",
       "text": [
        "; "
       ]
      },
      {
       "output_type": "stream",
       "stream": "stdout",
       "text": [
        "; "
       ]
      },
      {
       "output_type": "stream",
       "stream": "stdout",
       "text": [
        "; "
       ]
      },
      {
       "output_type": "stream",
       "stream": "stdout",
       "text": [
        "; "
       ]
      },
      {
       "output_type": "stream",
       "stream": "stdout",
       "text": [
        "; "
       ]
      },
      {
       "output_type": "stream",
       "stream": "stdout",
       "text": [
        "; "
       ]
      },
      {
       "output_type": "stream",
       "stream": "stdout",
       "text": [
        "; "
       ]
      },
      {
       "output_type": "stream",
       "stream": "stdout",
       "text": [
        "; "
       ]
      },
      {
       "output_type": "stream",
       "stream": "stdout",
       "text": [
        "; "
       ]
      },
      {
       "output_type": "stream",
       "stream": "stdout",
       "text": [
        "; "
       ]
      },
      {
       "output_type": "stream",
       "stream": "stdout",
       "text": [
        "; "
       ]
      },
      {
       "output_type": "stream",
       "stream": "stdout",
       "text": [
        "; "
       ]
      },
      {
       "output_type": "stream",
       "stream": "stdout",
       "text": [
        "; "
       ]
      },
      {
       "output_type": "stream",
       "stream": "stdout",
       "text": [
        "; "
       ]
      },
      {
       "output_type": "stream",
       "stream": "stdout",
       "text": [
        "; "
       ]
      },
      {
       "output_type": "stream",
       "stream": "stdout",
       "text": [
        "; "
       ]
      },
      {
       "output_type": "stream",
       "stream": "stdout",
       "text": [
        "; "
       ]
      },
      {
       "output_type": "stream",
       "stream": "stdout",
       "text": [
        "; "
       ]
      },
      {
       "output_type": "stream",
       "stream": "stdout",
       "text": [
        "; "
       ]
      },
      {
       "output_type": "stream",
       "stream": "stdout",
       "text": [
        "; "
       ]
      },
      {
       "output_type": "stream",
       "stream": "stdout",
       "text": [
        "; "
       ]
      },
      {
       "output_type": "stream",
       "stream": "stdout",
       "text": [
        "; "
       ]
      },
      {
       "output_type": "stream",
       "stream": "stdout",
       "text": [
        "; "
       ]
      },
      {
       "output_type": "stream",
       "stream": "stdout",
       "text": [
        "; "
       ]
      },
      {
       "output_type": "stream",
       "stream": "stdout",
       "text": [
        "; "
       ]
      },
      {
       "output_type": "stream",
       "stream": "stdout",
       "text": [
        "; "
       ]
      },
      {
       "output_type": "stream",
       "stream": "stdout",
       "text": [
        "; "
       ]
      },
      {
       "output_type": "stream",
       "stream": "stdout",
       "text": [
        "; "
       ]
      },
      {
       "output_type": "stream",
       "stream": "stdout",
       "text": [
        "; "
       ]
      },
      {
       "output_type": "stream",
       "stream": "stdout",
       "text": [
        "; "
       ]
      },
      {
       "output_type": "stream",
       "stream": "stdout",
       "text": [
        "; "
       ]
      },
      {
       "output_type": "stream",
       "stream": "stdout",
       "text": [
        "; "
       ]
      },
      {
       "output_type": "stream",
       "stream": "stdout",
       "text": [
        "; "
       ]
      },
      {
       "output_type": "stream",
       "stream": "stdout",
       "text": [
        "; "
       ]
      },
      {
       "output_type": "stream",
       "stream": "stdout",
       "text": [
        "; "
       ]
      },
      {
       "output_type": "stream",
       "stream": "stdout",
       "text": [
        "; "
       ]
      },
      {
       "output_type": "stream",
       "stream": "stdout",
       "text": [
        "; "
       ]
      },
      {
       "output_type": "stream",
       "stream": "stdout",
       "text": [
        "; "
       ]
      },
      {
       "output_type": "stream",
       "stream": "stdout",
       "text": [
        "; "
       ]
      },
      {
       "output_type": "stream",
       "stream": "stdout",
       "text": [
        "; "
       ]
      },
      {
       "output_type": "stream",
       "stream": "stdout",
       "text": [
        "; "
       ]
      },
      {
       "output_type": "stream",
       "stream": "stdout",
       "text": [
        "; "
       ]
      },
      {
       "output_type": "stream",
       "stream": "stdout",
       "text": [
        "; "
       ]
      },
      {
       "output_type": "stream",
       "stream": "stdout",
       "text": [
        "; "
       ]
      },
      {
       "output_type": "stream",
       "stream": "stdout",
       "text": [
        "; "
       ]
      },
      {
       "output_type": "stream",
       "stream": "stdout",
       "text": [
        "; "
       ]
      },
      {
       "output_type": "stream",
       "stream": "stdout",
       "text": [
        "; "
       ]
      },
      {
       "output_type": "stream",
       "stream": "stdout",
       "text": [
        "; "
       ]
      },
      {
       "output_type": "stream",
       "stream": "stdout",
       "text": [
        "; "
       ]
      },
      {
       "output_type": "stream",
       "stream": "stdout",
       "text": [
        "; "
       ]
      },
      {
       "output_type": "stream",
       "stream": "stdout",
       "text": [
        "; "
       ]
      },
      {
       "output_type": "stream",
       "stream": "stdout",
       "text": [
        "; "
       ]
      },
      {
       "output_type": "stream",
       "stream": "stdout",
       "text": [
        "; "
       ]
      },
      {
       "output_type": "stream",
       "stream": "stdout",
       "text": [
        "; "
       ]
      },
      {
       "output_type": "stream",
       "stream": "stdout",
       "text": [
        "; "
       ]
      },
      {
       "output_type": "stream",
       "stream": "stdout",
       "text": [
        "; "
       ]
      },
      {
       "output_type": "stream",
       "stream": "stdout",
       "text": [
        "; "
       ]
      },
      {
       "output_type": "stream",
       "stream": "stdout",
       "text": [
        "; "
       ]
      },
      {
       "output_type": "stream",
       "stream": "stdout",
       "text": [
        "; "
       ]
      },
      {
       "output_type": "stream",
       "stream": "stdout",
       "text": [
        "; "
       ]
      },
      {
       "output_type": "stream",
       "stream": "stdout",
       "text": [
        "; "
       ]
      },
      {
       "output_type": "stream",
       "stream": "stdout",
       "text": [
        "; "
       ]
      },
      {
       "output_type": "stream",
       "stream": "stdout",
       "text": [
        "; "
       ]
      },
      {
       "output_type": "stream",
       "stream": "stdout",
       "text": [
        "; "
       ]
      },
      {
       "output_type": "stream",
       "stream": "stdout",
       "text": [
        "; "
       ]
      },
      {
       "output_type": "stream",
       "stream": "stdout",
       "text": [
        "; "
       ]
      },
      {
       "output_type": "stream",
       "stream": "stdout",
       "text": [
        "; "
       ]
      },
      {
       "output_type": "stream",
       "stream": "stdout",
       "text": [
        "; "
       ]
      },
      {
       "output_type": "stream",
       "stream": "stdout",
       "text": [
        "; "
       ]
      },
      {
       "output_type": "stream",
       "stream": "stdout",
       "text": [
        "; "
       ]
      },
      {
       "output_type": "stream",
       "stream": "stdout",
       "text": [
        "; "
       ]
      },
      {
       "output_type": "stream",
       "stream": "stdout",
       "text": [
        "; "
       ]
      },
      {
       "output_type": "stream",
       "stream": "stdout",
       "text": [
        "; "
       ]
      },
      {
       "output_type": "stream",
       "stream": "stdout",
       "text": [
        "; "
       ]
      },
      {
       "output_type": "stream",
       "stream": "stdout",
       "text": [
        "; "
       ]
      },
      {
       "output_type": "stream",
       "stream": "stdout",
       "text": [
        "; "
       ]
      },
      {
       "output_type": "stream",
       "stream": "stdout",
       "text": [
        "; "
       ]
      },
      {
       "output_type": "stream",
       "stream": "stdout",
       "text": [
        "; "
       ]
      },
      {
       "output_type": "stream",
       "stream": "stdout",
       "text": [
        "; "
       ]
      },
      {
       "output_type": "stream",
       "stream": "stdout",
       "text": [
        "; "
       ]
      },
      {
       "output_type": "stream",
       "stream": "stdout",
       "text": [
        "; "
       ]
      },
      {
       "output_type": "stream",
       "stream": "stdout",
       "text": [
        "; "
       ]
      },
      {
       "output_type": "stream",
       "stream": "stdout",
       "text": [
        "; "
       ]
      },
      {
       "output_type": "stream",
       "stream": "stdout",
       "text": [
        "; "
       ]
      },
      {
       "output_type": "stream",
       "stream": "stdout",
       "text": [
        "; "
       ]
      },
      {
       "output_type": "stream",
       "stream": "stdout",
       "text": [
        "; "
       ]
      },
      {
       "output_type": "stream",
       "stream": "stdout",
       "text": [
        "; "
       ]
      },
      {
       "output_type": "stream",
       "stream": "stdout",
       "text": [
        "; "
       ]
      },
      {
       "output_type": "stream",
       "stream": "stdout",
       "text": [
        "; "
       ]
      },
      {
       "output_type": "stream",
       "stream": "stdout",
       "text": [
        "; "
       ]
      },
      {
       "output_type": "stream",
       "stream": "stdout",
       "text": [
        "; "
       ]
      },
      {
       "output_type": "stream",
       "stream": "stdout",
       "text": [
        "; "
       ]
      },
      {
       "output_type": "stream",
       "stream": "stdout",
       "text": [
        "; "
       ]
      },
      {
       "output_type": "stream",
       "stream": "stdout",
       "text": [
        "; "
       ]
      },
      {
       "output_type": "stream",
       "stream": "stdout",
       "text": [
        "; "
       ]
      },
      {
       "output_type": "stream",
       "stream": "stdout",
       "text": [
        "; "
       ]
      },
      {
       "output_type": "stream",
       "stream": "stdout",
       "text": [
        "; "
       ]
      },
      {
       "output_type": "stream",
       "stream": "stdout",
       "text": [
        "; "
       ]
      },
      {
       "output_type": "stream",
       "stream": "stdout",
       "text": [
        "; "
       ]
      },
      {
       "output_type": "stream",
       "stream": "stdout",
       "text": [
        "; "
       ]
      },
      {
       "output_type": "stream",
       "stream": "stdout",
       "text": [
        "; "
       ]
      },
      {
       "output_type": "stream",
       "stream": "stdout",
       "text": [
        "; "
       ]
      },
      {
       "output_type": "stream",
       "stream": "stdout",
       "text": [
        "\n",
        "Descriptors calculated\n",
        "."
       ]
      },
      {
       "output_type": "stream",
       "stream": "stdout",
       "text": [
        " . "
       ]
      },
      {
       "output_type": "stream",
       "stream": "stdout",
       "text": [
        ". "
       ]
      },
      {
       "output_type": "stream",
       "stream": "stdout",
       "text": [
        ". "
       ]
      },
      {
       "output_type": "stream",
       "stream": "stdout",
       "text": [
        ". "
       ]
      },
      {
       "output_type": "stream",
       "stream": "stdout",
       "text": [
        ". "
       ]
      },
      {
       "output_type": "stream",
       "stream": "stdout",
       "text": [
        ". "
       ]
      },
      {
       "output_type": "stream",
       "stream": "stdout",
       "text": [
        ". "
       ]
      },
      {
       "output_type": "stream",
       "stream": "stdout",
       "text": [
        ". "
       ]
      },
      {
       "output_type": "stream",
       "stream": "stdout",
       "text": [
        ". "
       ]
      },
      {
       "output_type": "stream",
       "stream": "stdout",
       "text": [
        ". "
       ]
      }
     ],
     "prompt_number": "*"
    },
    {
     "cell_type": "code",
     "collapsed": false,
     "input": [
      "matches = mm_fun(0.99)\n",
      "numpy.savez(\"califoniaND-300kp\", matches = matches)"
     ],
     "language": "python",
     "metadata": {},
     "outputs": [],
     "prompt_number": "*"
    },
    {
     "cell_type": "code",
     "collapsed": false,
     "input": [
      "data = numpy.load(\"califoniaND-try1.npz\")\n",
      "matches = data['matches']"
     ],
     "language": "python",
     "metadata": {},
     "outputs": [],
     "prompt_number": 31
    },
    {
     "cell_type": "code",
     "collapsed": false,
     "input": [
      "def print_scores(scores, files) : \n",
      "    \n",
      "    # Get labels\n",
      "    labels = [f[:3] for f in files]\n",
      "    rows = sorted(enumerate(labels), key=lambda e : e[1])\n",
      "    \n",
      "    # Top row\n",
      "    print(\"      \"),\n",
      "    for i,f in rows :\n",
      "        print(\"%s \" % f),\n",
      "    print(\"\\n    +%s-\" % (\"-----\" * scores.shape[1]))\n",
      "    \n",
      "    \n",
      "    # Fields\n",
      "    for i,f in rows :\n",
      "        print(\"%s |\" % f),\n",
      "        for j,_ in rows :\n",
      "            print(\"%4.0f\" % scores[i,j]),\n",
      "        print(\"\")"
     ],
     "language": "python",
     "metadata": {},
     "outputs": [],
     "prompt_number": 11
    },
    {
     "cell_type": "code",
     "collapsed": false,
     "input": [
      "def print_clusters(p, files) :\n",
      "    labels = [f[:3] for f in files]\n",
      "    for i,k in enumerate(set(p)) :\n",
      "        members = [labels[j] for j in numpy.array(range(len(p)))[p == k]]\n",
      "        print(\"Cluster %i:  %s\" % (i+1, \", \".join(members)))"
     ],
     "language": "python",
     "metadata": {},
     "outputs": [],
     "prompt_number": 12
    },
    {
     "cell_type": "code",
     "collapsed": false,
     "input": [
      "calif_ground_truth = numpy.load(\"../near-duplicate/resources/california3_non_binary10_groundtruth.npy\")\n",
      "for i in range(calif_ground_truth.shape[0]) :\n",
      "    calif_ground_truth[i,i] = 0\n",
      "labels = [f[:3] for f in files]\n",
      "def duplicates_finder(ground_truth, files) :\n",
      "    \"\"\"Given a label, we want to return all the other labels judged as duplicates\"\"\"\n",
      "    \n",
      "    labels = sorted([f[:3] for f in files])\n",
      "    indexMap = dict([(l,i) for i,l in enumerate(labels)])\n",
      "    \n",
      "    def dup_fun(label) :\n",
      "        # First find the correct index for label\n",
      "        index = indexMap[label]\n",
      "        \n",
      "        # Now get the row of ground_truth corresponding to this label\n",
      "        row = ground_truth[index]\n",
      "        \n",
      "        # For each non-zero index, find the label it corresponds to\n",
      "        dup = [(labels[i], nz) for i,nz in enumerate(row) if nz > 0]\n",
      "    \n",
      "        return dup\n",
      "    \n",
      "    return dup_fun\n",
      "\n",
      "duplicates = duplicates_finder(calif_ground_truth, files)"
     ],
     "language": "python",
     "metadata": {},
     "outputs": [],
     "prompt_number": 232
    },
    {
     "cell_type": "code",
     "collapsed": false,
     "input": [
      "def normalize_scores(scores, score_bar = 10, cut_norm = (0.3, 0.7), order = 0.01, max_dist = 20, diagonal = 1.0) :\n",
      "    \n",
      "    scores_norm = numpy.zeros(scores.shape)\n",
      "    statistic = -1*ceil(scores.shape[0]*2*order) - 1\n",
      "    \n",
      "    # normalize according to row and col\n",
      "    for i in range(scores.shape[0]) :\n",
      "        for j in range(scores.shape[1]) :\n",
      "            if abs(i - j) > max_dist :\n",
      "                scores_norm[i,j] = 0\n",
      "            elif i == j :\n",
      "                scores_norm[i,j] = diagonal\n",
      "            elif scores[i,j] < score_bar :\n",
      "                scores_norm[i,j] = 0\n",
      "            else :\n",
      "                # Get all values from cols and rows\n",
      "                n1, n2 = (scores[i], scores.T[j])\n",
      "                n1[i] = 0\n",
      "                n2[j] = 0\n",
      "                neighbors = numpy.sort(numpy.concatenate((n1,n2)))\n",
      "                #neighbors = numpy.sort(numpy.concatenate((scores[i], scores.T[j])))\n",
      "                #N[i,j] = neighbors[-1*order]\n",
      "                \n",
      "                # Calculate normalized value according to cut\n",
      "                s = scores[i,j] / neighbors[statistic]\n",
      "                s_norm = (s - cut_norm[0]) / (cut_norm[1] - cut_norm[0])\n",
      "                if s_norm <= 0 :\n",
      "                    scores_norm[i,j] = 0\n",
      "                elif s_norm >= 1 :\n",
      "                    scores_norm[i,j] = 1\n",
      "                else :\n",
      "                    scores_norm[i,j] = s_norm\n",
      "                    \n",
      "    return scores_norm"
     ],
     "language": "python",
     "metadata": {},
     "outputs": [],
     "prompt_number": 234
    },
    {
     "cell_type": "code",
     "collapsed": false,
     "input": [
      "#def sort_scores(scores, files) :\n",
      "    # Get labels\n",
      "    fname = [f[:3] for f in files]\n",
      "    rows = sorted(enumerate(fname), key=lambda e : e[1])\n",
      "    indices, labels = zip(*rows)\n",
      "    idx = numpy.array(indices)\n",
      "    \n",
      "    return scores[idx][:,idx], labels"
     ],
     "language": "python",
     "metadata": {},
     "outputs": [],
     "prompt_number": 15
    },
    {
     "cell_type": "code",
     "collapsed": false,
     "input": [
      "def heatmap(scores, labels = None, size = (12,12)) :\n",
      "    \n",
      "    fig, ax = plt.subplots(figsize=size)\n",
      "    \n",
      "    # For colormap: http://wiki.scipy.org/Cookbook/Matplotlib/Show_colormaps\n",
      "    #heatmap = ax.pcolor(scores_sorted, cmap=cm.Blues)\n",
      "    heatmap = ax.pcolor(scores, cmap=cm.jet)\n",
      "\n",
      "    # put the major ticks at the middle of each cell\n",
      "    if labels != None and scores.shape[0] < size[0]*3 : \n",
      "        ax.set_xticks(numpy.arange(scores.shape[0])+0.5, minor=False)\n",
      "        ax.set_yticks(numpy.arange(scores.shape[1])+0.5, minor=False)\n",
      "        ax.set_xticklabels(labels, minor=False)\n",
      "        ax.set_yticklabels(labels, minor=False)\n",
      "\n",
      "    xlim(0,scores.shape[0])\n",
      "    ylim(scores.shape[0],0)"
     ],
     "language": "python",
     "metadata": {},
     "outputs": [],
     "prompt_number": 16
    },
    {
     "cell_type": "code",
     "collapsed": false,
     "input": [
      "nb_images = len(paths)\n",
      "scores = numpy.zeros((nb_images, nb_images))\n",
      "for p,s,u,(i,j) in zip(*matches) :\n",
      "    scores[i,j] = scores[i,j] + (1/u) - 1\n",
      "    scores[j,i] = scores[j,i] + (1/u) - 1"
     ],
     "language": "python",
     "metadata": {},
     "outputs": [],
     "prompt_number": 34
    },
    {
     "cell_type": "code",
     "collapsed": false,
     "input": [
      "n_start = 0\n",
      "n_end = len(scores)\n",
      "scores_sorted, labels = sort_scores(scores, files)\n",
      "scores_p, labels_p = scores_sorted[n_start:n_end][:,n_start:n_end], labels[n_start:n_end]\n",
      "ground_truth_p = calif_ground_truth[n_start:n_end][:,n_start:n_end]"
     ],
     "language": "python",
     "metadata": {},
     "outputs": [],
     "prompt_number": 35
    },
    {
     "cell_type": "code",
     "collapsed": false,
     "input": [
      "numpy.sum(scores_p) / (scores_p.shape[0]**2)"
     ],
     "language": "python",
     "metadata": {},
     "outputs": [
      {
       "output_type": "pyout",
       "prompt_number": 88,
       "text": [
        "1.4667711488902992"
       ]
      }
     ],
     "prompt_number": 88
    },
    {
     "cell_type": "code",
     "collapsed": false,
     "input": [
      "scores_norm = normalize_scores(scores_sorted, score_bar = 2, cut_norm = (0.0, 1.0), order = 0.05, max_dist = 999)\n",
      "heatmap(scores_norm, labels, size=(12,12))"
     ],
     "language": "python",
     "metadata": {},
     "outputs": [
      {
       "output_type": "display_data",
       "png": "[encoded data removed]"
      }
     ],
     "prompt_number": 237
    },
    {
     "cell_type": "code",
     "collapsed": false,
     "input": [
      "scores_squared = normalize_scores(scores_norm.dot(scores_norm), score_bar = 1, cut_norm = (0.6, 0.7), order = 0, max_dist = 55, diagonal = 0)\n",
      "heatmap(scores_squared, labels, size=(12,12))"
     ],
     "language": "python",
     "metadata": {},
     "outputs": [
      {
       "output_type": "display_data",
       "png": "[encoded data removed]"
      }
     ],
     "prompt_number": 240
    },
    {
     "cell_type": "code",
     "collapsed": false,
     "input": [
      "heatmap(calif_ground_truth, labels)"
     ],
     "language": "python",
     "metadata": {},
     "outputs": [
      {
       "output_type": "display_data",
       "png": "[encoded data removed]"
      }
     ],
     "prompt_number": 239
    },
    {
     "cell_type": "code",
     "collapsed": false,
     "input": [
      "l = numpy.array([[1,3],[5,2]])\n",
      "m = numpy.array([[2,2],[2,2]])\n",
      "numpy.min((l,m), axis=0)"
     ],
     "language": "python",
     "metadata": {},
     "outputs": [
      {
       "output_type": "pyout",
       "prompt_number": 22,
       "text": [
        "array([[1, 2],\n",
        "       [2, 2]])"
       ]
      }
     ],
     "prompt_number": 22
    },
    {
     "cell_type": "code",
     "collapsed": false,
     "input": [
      "scores_norm = normalize_scores(scores_sorted, score_bar = 2, cut_norm = (0.0, 1.0), order = 0.04, max_dist = 999)\n",
      "scores_squared = normalize_scores(scores_norm.dot(scores_norm), score_bar = 1, cut_norm = (0.6, 0.7), order = 0.0, max_dist = 555, diagonal = 0)"
     ],
     "language": "python",
     "metadata": {},
     "outputs": [],
     "prompt_number": 241
    },
    {
     "cell_type": "code",
     "collapsed": false,
     "input": [
      "result = scores_squared\n",
      "sTP = numpy.sum(numpy.min((calif_ground_truth, result), axis = 0))\n",
      "sTN = numpy.sum(numpy.min((1 - calif_ground_truth, 1- result), axis = 0))\n",
      "sFP = numpy.sum(numpy.max((result - calif_ground_truth,  numpy.zeros(result.shape)), axis = 0))\n",
      "sFN = numpy.sum(numpy.max((calif_ground_truth - result,  numpy.zeros(result.shape)), axis = 0))\n",
      "sPrecision = sTP / (sTP + sFP)\n",
      "sRecall = sTP / (sTP + sFN)\n",
      "sF1 = 2 * sPrecision * sRecall / (sPrecision + sRecall)\n",
      "print(\"Precision: %.4f\" % sPrecision)\n",
      "print(\"Recall: %.4f\" % sRecall)\n",
      "print(\"F1: %.4f\" % sF1)"
     ],
     "language": "python",
     "metadata": {},
     "outputs": [
      {
       "output_type": "stream",
       "stream": "stdout",
       "text": [
        "Precision: 0.7146\n",
        "Recall: 0.6673\n",
        "F1: 0.6902\n"
       ]
      }
     ],
     "prompt_number": 242
    },
    {
     "cell_type": "code",
     "collapsed": false,
     "input": [
      "# Try to cluster with Louvain\n",
      "p = louvain.cluster(scores, verbose = True)\n",
      "print_clusters(p, files)"
     ],
     "language": "python",
     "metadata": {},
     "outputs": [
      {
       "output_type": "stream",
       "stream": "stdout",
       "text": [
        "Moved 523 vertices (modularity now: 0.591766, change of 0.591766 (0.600567))\n",
        "Moved 128 vertices (modularity now: 0.692162, change of 0.100397 (0.101881))"
       ]
      },
      {
       "output_type": "stream",
       "stream": "stdout",
       "text": [
        "\n",
        "Moved 16 vertices (modularity now: 0.703915, change of 0.011752 (0.011887))"
       ]
      },
      {
       "output_type": "stream",
       "stream": "stdout",
       "text": [
        "\n",
        "Moved 5 vertices (modularity now: 0.704720, change of 0.000805 (0.000825))"
       ]
      },
      {
       "output_type": "stream",
       "stream": "stdout",
       "text": [
        "\n",
        "Moved 1 vertices (modularity now: 0.705667, change of 0.000947 (0.000955))"
       ]
      },
      {
       "output_type": "stream",
       "stream": "stdout",
       "text": [
        "\n",
        "Moved 0 vertices (modularity now: 0.705667, change of 0.000000 (0.000000))"
       ]
      },
      {
       "output_type": "stream",
       "stream": "stdout",
       "text": [
        "\n",
        "Cluster 1:  075, 133, 068, 034, 556, 134, 049, 685, 546, 063, 535, 056, 120, 090, 123, 041, 164, 020, 045, 541, 553, 552, 691, 607, 019, 096, 086, 523, 193, 010, 561, 197, 143, 192, 091, 046, 087, 050, 543, 196, 089, 051, 562, 018, 557, 481, 071, 064, 079, 441, 542, 005, 413, 015, 082, 044, 047, 180, 003, 080, 012, 013, 038, 001, 014, 414, 482, 554, 111, 011, 004, 124, 608, 088, 042, 039, 035, 555, 040, 081, 016, 052, 083, 037, 560, 373, 444, 017, 002, 057, 055, 533, 053, 048, 009, 559, 558, 551, 008, 640, 639, 043, 534, 113\n",
        "Cluster 2:  360, 358, 359\n",
        "Cluster 3:  576, 575, 577, 573, 574\n",
        "Cluster 4:  641, 642\n",
        "Cluster 5:  499, 503, 504, 502, 500, 501\n",
        "Cluster 6:  077, 076, 078\n",
        "Cluster 7:  526, 525, 524\n",
        "Cluster 8:  605, 606\n",
        "Cluster 9:  104, 103, 102\n",
        "Cluster 10:  140, 138, 139\n",
        "Cluster 11:  211, 212, 213\n",
        "Cluster 12:  351, 352, 357, 350\n",
        "Cluster 13:  548, 547\n",
        "Cluster 14:  445, 449, 447, 448, 446, 450, 451\n",
        "Cluster 15:  368, 371, 370, 369\n",
        "Cluster 16:  609, 614, 611, 613, 615, 612, 610\n",
        "Cluster 17:  402, 412, 411, 403, 410\n",
        "Cluster 18:  479, 480\n",
        "Cluster 19:  148, 149, 150, 151\n",
        "Cluster 20:  465, 464, 466\n",
        "Cluster 21:  174, 175\n",
        "Cluster 22:  688, 686, 687\n",
        "Cluster 23:  664, 668, 659, 657, 662, 661, 665, 067, 656, 667, 655, 663, 658, 666, 660\n",
        "Cluster 24:  182, 183, 181\n",
        "Cluster 25:  141, 142\n",
        "Cluster 26:  100, 099, 101\n",
        "Cluster 27:  245, 244\n",
        "Cluster 28:  596, 599, 598, 597\n",
        "Cluster 29:  700, 697, 701, 698, 699\n",
        "Cluster 30:  276, 277\n",
        "Cluster 31:  349, 348, 347\n",
        "Cluster 32:  436, 438, 437\n",
        "Cluster 33:  022, 021\n",
        "Cluster 34:  160, 162, 161\n",
        "Cluster 35:  604, 602, 601, 600, 603\n",
        "Cluster 36:  377, 379, 381, 374, 375, 378, 376, 372, 380, 382, 383\n",
        "Cluster 37:  109, 108, 107\n",
        "Cluster 38:  694, 693, 692\n",
        "Cluster 39:  405, 404\n",
        "Cluster 40:  115, 114\n",
        "Cluster 41:  418, 415, 419, 417, 416\n",
        "Cluster 42:  622, 620, 621, 619\n",
        "Cluster 43:  132, 131\n",
        "Cluster 44:  059, 058\n",
        "Cluster 45:  538, 536, 537\n",
        "Cluster 46:  455, 456\n",
        "Cluster 47:  532, 531\n",
        "Cluster 48:  246, 250, 247, 248, 249\n",
        "Cluster 49:  529, 530\n",
        "Cluster 50:  066, 065\n",
        "Cluster 51:  279, 280, 281, 282, 278\n",
        "Cluster 52:  633, 630, 631, 636, 634, 632, 629, 638, 637, 635\n",
        "Cluster 53:  129, 128, 130\n",
        "Cluster 54:  223, 226, 227, 228\n",
        "Cluster 55:  434, 433, 435\n",
        "Cluster 56:  203, 296, 289, 054, 206, 268, 323, 258, 312, 315, 237, 036, 333, 299, 330, 243, 267, 298, 306, 286, 264, 288, 309, 311, 317, 305, 241, 290, 275, 271, 324, 260, 293, 332, 321, 207, 326, 235, 297, 337, 236, 336, 263, 266, 031, 204, 314, 334, 287, 313, 331, 242, 205, 302, 291, 285, 238, 273, 328, 316, 329, 272, 257, 202, 201, 318, 308, 270, 265, 200, 259, 307, 262, 304, 325, 239, 274, 303, 294, 283, 322, 301, 327, 261, 319, 284, 295, 300, 240, 310, 292, 269, 320, 335\n",
        "Cluster 57:  624, 623\n",
        "Cluster 58:  157, 165, 156, 159, 158, 163, 154, 155\n",
        "Cluster 59:  195, 194\n",
        "Cluster 60:  567, 563, 564, 566, 565\n",
        "Cluster 61:  177, 179, 176, 178\n",
        "Cluster 62:  429, 427, 428\n",
        "Cluster 63:  628, 627\n",
        "Cluster 64:  422, 420, 421\n",
        "Cluster 65:  110, 112\n",
        "Cluster 66:  023, 024\n",
        "Cluster 67:  463, 462\n",
        "Cluster 68:  425, 423, 426, 424\n",
        "Cluster 69:  432, 430, 431\n",
        "Cluster 70:  387, 386\n",
        "Cluster 71:  678, 680, 679\n",
        "Cluster 72:  094, 095\n",
        "Cluster 73:  407, 409, 406, 408\n",
        "Cluster 74:  677, 676, 675\n",
        "Cluster 75:  118, 116, 117, 119\n",
        "Cluster 76:  454, 452, 453\n",
        "Cluster 77:  571, 572, 569, 570, 568\n",
        "Cluster 78:  673, 672, 671, 670\n",
        "Cluster 79:  230, 232, 231, 233, 229, 234\n",
        "Cluster 80:  356, 354, 353, 355\n",
        "Cluster 81:  514, 513\n",
        "Cluster 82:  497, 498\n",
        "Cluster 83:  459, 458, 457, 460, 461\n",
        "Cluster 84:  222, 221\n",
        "Cluster 85:  152, 153\n",
        "Cluster 86:  695, 696\n",
        "Cluster 87:  669, 674\n",
        "Cluster 88:  683, 681, 682, 684\n",
        "Cluster 89:  098, 097\n",
        "Cluster 90:  689, 690\n",
        "Cluster 91:  338, 339, 340\n",
        "Cluster 92:  364, 363, 361, 362\n",
        "Cluster 93:  474, 473, 476, 475, 472, 477, 478\n",
        "Cluster 94:  093, 092\n",
        "Cluster 95:  145, 144\n",
        "Cluster 96:  470, 467, 471, 469, 468\n",
        "Cluster 97:  394, 393\n",
        "Cluster 98:  198, 199\n",
        "Cluster 99:  545, 544\n",
        "Cluster 100:  522, 521\n",
        "Cluster 101:  189, 191, 187, 188, 190\n",
        "Cluster 102:  516, 515\n",
        "Cluster 103:  070, 069\n",
        "Cluster 104:  539, 540\n",
        "Cluster 105:  127, 135\n",
        "Cluster 106:  512, 510, 511\n",
        "Cluster 107:  026, 027, 028, 025\n",
        "Cluster 108:  400, 395, 397, 396, 398, 399, 401\n",
        "Cluster 109:  256, 255\n",
        "Cluster 110:  654, 653, 652\n",
        "Cluster 111:  367, 366, 365\n",
        "Cluster 112:  216, 214, 217, 218, 215\n",
        "Cluster 113:  172, 170, 166, 173, 171, 169, 167, 168\n",
        "Cluster 114:  625, 626\n",
        "Cluster 115:  506, 505\n",
        "Cluster 116:  106, 105\n",
        "Cluster 117:  341, 345, 342, 343, 346, 344\n",
        "Cluster 118:  443, 442\n",
        "Cluster 119:  583, 584, 580, 579, 581, 578, 582\n",
        "Cluster 120:  508, 509, 507\n",
        "Cluster 121:  550, 549\n",
        "Cluster 122:  126, 125\n",
        "Cluster 123:  085, 084\n",
        "Cluster 124:  061, 062, 060\n",
        "Cluster 125:  007, 006\n",
        "Cluster 126:  220, 219\n",
        "Cluster 127:  391, 392\n",
        "Cluster 128:  617, 618, 616\n",
        "Cluster 129:  439, 440\n",
        "Cluster 130:  528, 527\n",
        "Cluster 131:  492, 494, 496, 491, 493, 495\n",
        "Cluster 132:  225, 224\n",
        "Cluster 133:  253, 251, 254, 252\n",
        "Cluster 134:  186, 185, 184\n",
        "Cluster 135:  646, 648, 644, 645, 643, 647\n",
        "Cluster 136:  649, 650, 651\n",
        "Cluster 137:  136, 137\n",
        "Cluster 138:  489, 488, 490, 486, 487\n",
        "Cluster 139:  587, 589, 586, 588, 585\n",
        "Cluster 140:  483, 484, 485\n",
        "Cluster 141:  147, 146\n",
        "Cluster 142:  519, 518, 520, 517\n",
        "Cluster 143:  122, 121\n",
        "Cluster 144:  072, 074, 073\n",
        "Cluster 145:  595, 592, 591, 593, 590, 594\n",
        "Cluster 146:  032, 033\n",
        "Cluster 147:  030, 029\n",
        "Cluster 148:  384, 385\n",
        "Cluster 149:  209, 208, 210\n",
        "Cluster 150:  389, 390, 388\n"
       ]
      }
     ],
     "prompt_number": 25
    },
    {
     "cell_type": "code",
     "collapsed": false,
     "input": [
      "duplicates(\"387\")"
     ],
     "language": "python",
     "metadata": {},
     "outputs": [
      {
       "output_type": "pyout",
       "prompt_number": 26,
       "text": [
        "[('386', 1.0),\n",
        " ('387', 1.0),\n",
        " ('388', 0.90000000000000002),\n",
        " ('389', 0.90000000000000002),\n",
        " ('390', 0.90000000000000002)]"
       ]
      }
     ],
     "prompt_number": 26
    },
    {
     "cell_type": "code",
     "collapsed": false,
     "input": [
      "#from sklearn.cluster import AffinityPropagation\n",
      "#p_af = AffinityPropagation(affinity = 'precomputed').fit(scores).labels_\n",
      "#print_clusters(p_af, files)"
     ],
     "language": "python",
     "metadata": {},
     "outputs": [],
     "prompt_number": 27
    },
    {
     "cell_type": "code",
     "collapsed": false,
     "input": [
      "#from sklearn.cluster import spectral_clustering\n",
      "#p_sp = spectral_clustering(scores, n_clusters=100, assign_labels='kmeans')\n",
      "#print_clusters(p_sp, files)"
     ],
     "language": "python",
     "metadata": {},
     "outputs": [],
     "prompt_number": 28
    },
    {
     "cell_type": "code",
     "collapsed": false,
     "input": [],
     "language": "python",
     "metadata": {},
     "outputs": [],
     "prompt_number": 28
    }
   ],
   "metadata": {}
  }
 ]
}
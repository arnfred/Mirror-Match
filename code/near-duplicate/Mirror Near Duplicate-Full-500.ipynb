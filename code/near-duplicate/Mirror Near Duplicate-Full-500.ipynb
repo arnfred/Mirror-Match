{
 "metadata": {
  "name": "Mirror Near Duplicate-Full-500"
 },
 "nbformat": 3,
 "nbformat_minor": 0,
 "worksheets": [
  {
   "cells": [
    {
     "cell_type": "code",
     "collapsed": false,
     "input": [
      "#Stupid hack to load files from sibling dir\n",
      "import sys; import os\n",
      "sys.path.insert(0, os.path.abspath('..'))\n",
      "\n",
      "%load_ext autoreload\n",
      "%autoreload 2"
     ],
     "language": "python",
     "metadata": {},
     "outputs": [],
     "prompt_number": 6
    },
    {
     "cell_type": "code",
     "collapsed": false,
     "input": [
      "import display\n",
      "import matching\n",
      "from sklearn.neighbors.ball_tree import BallTree\n",
      "import ballmatch\n",
      "import features\n",
      "import numpy\n",
      "import louvain\n",
      "import mirrormatch\n",
      "import scipy\n",
      "import sklearn\n",
      "import scoring\n",
      "from itertools import combinations\n",
      "import os"
     ],
     "language": "python",
     "metadata": {},
     "outputs": [],
     "prompt_number": 7
    },
    {
     "cell_type": "code",
     "collapsed": false,
     "input": [
      "folder = '../near-duplicate/resources/california3/'\n",
      "files = [path for path in os.listdir(folder) if path[-3:] in [\"jpg\", \"png\"]]\n",
      "paths = [folder + p for p in files]\n",
      "for i,f in enumerate(files) :\n",
      "    print(\"%2i: %s\" % (i,f))"
     ],
     "language": "python",
     "metadata": {},
     "outputs": [
      {
       "output_type": "stream",
       "stream": "stdout",
       "text": [
        " 0: 443.jpg\n",
        " 1: 641.jpg\n",
        " 2: 136.jpg\n",
        " 3: 203.jpg\n",
        " 4: 075.jpg\n",
        " 5: 133.jpg\n",
        " 6: 068.jpg\n",
        " 7: 157.jpg\n",
        " 8: 595.jpg\n",
        " 9: 034.jpg\n",
        "10: 349.jpg\n",
        "11: 145.jpg\n",
        "12: 106.jpg\n",
        "13: 296.jpg\n",
        "14: 604.jpg\n",
        "15: 556.jpg\n",
        "16: 642.jpg\n",
        "17: 289.jpg\n",
        "18: 054.jpg\n",
        "19: 622.jpg\n",
        "20: 165.jpg\n",
        "21: 529.jpg\n",
        "22: 172.jpg\n",
        "23: 134.jpg\n",
        "24: 049.jpg\n",
        "25: 685.jpg\n",
        "26: 206.jpg\n",
        "27: 148.jpg\n",
        "28: 256.jpg\n",
        "29: 664.jpg\n",
        "30: 268.jpg\n",
        "31: 678.jpg\n",
        "32: 230.jpg\n",
        "33: 592.jpg\n",
        "34: 402.jpg\n",
        "35: 508.jpg\n",
        "36: 546.jpg\n",
        "37: 654.jpg\n",
        "38: 694.jpg\n",
        "39: 122.jpg\n",
        "40: 323.jpg\n",
        "41: 351.jpg\n",
        "42: 258.jpg\n",
        "43: 063.jpg\n",
        "44: 535.jpg\n",
        "45: 646.jpg\n",
        "46: 061.jpg\n",
        "47: 056.jpg\n",
        "48: 550.jpg\n",
        "49: 312.jpg\n",
        "50: 315.jpg\n",
        "51: 497.jpg\n",
        "52: 237.jpg\n",
        "53: 126.jpg\n",
        "54: 120.jpg\n",
        "55: 459.jpg\n",
        "56: 341.jpg\n",
        "57: 170.jpg\n",
        "58: 209.jpg\n",
        "59: 036.jpg\n",
        "60: 668.jpg\n",
        "61: 683.jpg\n",
        "62: 007.jpg\n",
        "63: 090.jpg\n",
        "64: 648.jpg\n",
        "65: 596.jpg\n",
        "66: 445.jpg\n",
        "67: 633.jpg\n",
        "68: 436.jpg\n",
        "69: 149.jpg\n",
        "70: 333.jpg\n",
        "71: 644.jpg\n",
        "72: 538.jpg\n",
        "73: 345.jpg\n",
        "74: 299.jpg\n",
        "75: 360.jpg\n",
        "76: 458.jpg\n",
        "77: 330.jpg\n",
        "78: 123.jpg\n",
        "79: 243.jpg\n",
        "80: 267.jpg\n",
        "81: 673.jpg\n",
        "82: 066.jpg\n",
        "83: 109.jpg\n",
        "84: 407.jpg\n",
        "85: 298.jpg\n",
        "86: 689.jpg\n",
        "87: 576.jpg\n",
        "88: 041.jpg\n",
        "89: 164.jpg\n",
        "90: 659.jpg\n",
        "91: 506.jpg\n",
        "92: 118.jpg\n",
        "93: 020.jpg\n",
        "94: 279.jpg\n",
        "95: 045.jpg\n",
        "96: 677.jpg\n",
        "97: 514.jpg\n",
        "98: 681.jpg\n",
        "99: 541.jpg\n",
        "100: 624.jpg\n",
        "101: 620.jpg\n",
        "102: 571.jpg\n",
        "103: 657.jpg\n",
        "104: 553.jpg\n",
        "105: 152.jpg\n",
        "106: 499.jpg\n",
        "107: 587.jpg\n",
        "108: 253.jpg\n",
        "109: 552.jpg\n",
        "110: 156.jpg\n",
        "111: 356.jpg\n",
        "112: 306.jpg\n",
        "113: 503.jpg\n",
        "114: 132.jpg\n",
        "115: 174.jpg\n",
        "116: 526.jpg\n",
        "117: 129.jpg\n",
        "118: 700.jpg\n",
        "119: 691.jpg\n",
        "120: 607.jpg\n",
        "121: 449.jpg\n",
        "122: 286.jpg\n",
        "123: 264.jpg\n",
        "124: 532.jpg\n",
        "125: 432.jpg\n",
        "126: 621.jpg\n",
        "127: 131.jpg\n",
        "128: 140.jpg\n",
        "129: 662.jpg\n",
        "130: 589.jpg\n",
        "131: 548.jpg\n",
        "132: 338.jpg\n",
        "133: 531.jpg\n",
        "134: 400.jpg\n",
        "135: 019.jpg\n",
        "136: 434.jpg\n",
        "137: 096.jpg\n",
        "138: 086.jpg\n",
        "139: 280.jpg\n",
        "140: 617.jpg\n",
        "141: 166.jpg\n",
        "142: 128.jpg\n",
        "143: 630.jpg\n",
        "144: 631.jpg\n",
        "145: 523.jpg\n",
        "146: 433.jpg\n",
        "147: 288.jpg\n",
        "148: 489.jpg\n",
        "149: 693.jpg\n",
        "150: 189.jpg\n",
        "151: 483.jpg\n",
        "152: 377.jpg\n",
        "153: 115.jpg\n",
        "154: 193.jpg\n",
        "155: 010.jpg\n",
        "156: 672.jpg\n",
        "157: 695.jpg\n",
        "158: 309.jpg\n",
        "159: 023.jpg\n",
        "160: 522.jpg\n",
        "161: 311.jpg\n",
        "162: 110.jpg\n",
        "163: 379.jpg\n",
        "164: 636.jpg\n",
        "165: 583.jpg\n",
        "166: 586.jpg\n",
        "167: 198.jpg\n",
        "168: 246.jpg\n",
        "169: 216.jpg\n",
        "170: 104.jpg\n",
        "171: 395.jpg\n",
        "172: 397.jpg\n",
        "173: 561.jpg\n",
        "174: 394.jpg\n",
        "175: 697.jpg\n",
        "176: 317.jpg\n",
        "177: 186.jpg\n",
        "178: 488.jpg\n",
        "179: 197.jpg\n",
        "180: 645.jpg\n",
        "181: 160.jpg\n",
        "182: 143.jpg\n",
        "183: 305.jpg\n",
        "184: 147.jpg\n",
        "185: 241.jpg\n",
        "186: 232.jpg\n",
        "187: 214.jpg\n",
        "188: 572.jpg\n",
        "189: 516.jpg\n",
        "190: 222.jpg\n",
        "191: 384.jpg\n",
        "192: 422.jpg\n",
        "193: 290.jpg\n",
        "194: 192.jpg\n",
        "195: 569.jpg\n",
        "196: 512.jpg\n",
        "197: 275.jpg\n",
        "198: 634.jpg\n",
        "199: 177.jpg\n",
        "200: 251.jpg\n",
        "201: 271.jpg\n",
        "202: 671.jpg\n",
        "203: 470.jpg\n",
        "204: 438.jpg\n",
        "205: 465.jpg\n",
        "206: 474.jpg\n",
        "207: 584.jpg\n",
        "208: 093.jpg\n",
        "209: 091.jpg\n",
        "210: 602.jpg\n",
        "211: 046.jpg\n",
        "212: 601.jpg\n",
        "213: 425.jpg\n",
        "214: 231.jpg\n",
        "215: 087.jpg\n",
        "216: 354.jpg\n",
        "217: 103.jpg\n",
        "218: 050.jpg\n",
        "219: 211.jpg\n",
        "220: 513.jpg\n",
        "221: 498.jpg\n",
        "222: 543.jpg\n",
        "223: 381.jpg\n",
        "224: 342.jpg\n",
        "225: 467.jpg\n",
        "226: 196.jpg\n",
        "227: 179.jpg\n",
        "228: 457.jpg\n",
        "229: 412.jpg\n",
        "230: 324.jpg\n",
        "231: 098.jpg\n",
        "232: 260.jpg\n",
        "233: 599.jpg\n",
        "234: 221.jpg\n",
        "235: 435.jpg\n",
        "236: 293.jpg\n",
        "237: 182.jpg\n",
        "238: 492.jpg\n",
        "239: 281.jpg\n",
        "240: 153.jpg\n",
        "241: 127.jpg\n",
        "242: 473.jpg\n",
        "243: 070.jpg\n",
        "244: 696.jpg\n",
        "245: 332.jpg\n",
        "246: 089.jpg\n",
        "247: 352.jpg\n",
        "248: 405.jpg\n",
        "249: 321.jpg\n",
        "250: 411.jpg\n",
        "251: 418.jpg\n",
        "252: 173.jpg\n",
        "253: 420.jpg\n",
        "254: 619.jpg\n",
        "255: 682.jpg\n",
        "256: 051.jpg\n",
        "257: 374.jpg\n",
        "258: 476.jpg\n",
        "259: 525.jpg\n",
        "260: 447.jpg\n",
        "261: 570.jpg\n",
        "262: 464.jpg\n",
        "263: 429.jpg\n",
        "264: 026.jpg\n",
        "265: 504.jpg\n",
        "266: 562.jpg\n",
        "267: 207.jpg\n",
        "268: 097.jpg\n",
        "269: 326.jpg\n",
        "270: 250.jpg\n",
        "271: 138.jpg\n",
        "272: 220.jpg\n",
        "273: 409.jpg\n",
        "274: 575.jpg\n",
        "275: 235.jpg\n",
        "276: 018.jpg\n",
        "277: 353.jpg\n",
        "278: 191.jpg\n",
        "279: 557.jpg\n",
        "280: 690.jpg\n",
        "281: 339.jpg\n",
        "282: 539.jpg\n",
        "283: 625.jpg\n",
        "284: 358.jpg\n",
        "285: 389.jpg\n",
        "286: 406.jpg\n",
        "287: 545.jpg\n",
        "288: 475.jpg\n",
        "289: 481.jpg\n",
        "290: 187.jpg\n",
        "291: 297.jpg\n",
        "292: 632.jpg\n",
        "293: 208.jpg\n",
        "294: 494.jpg\n",
        "295: 092.jpg\n",
        "296: 188.jpg\n",
        "297: 649.jpg\n",
        "298: 144.jpg\n",
        "299: 439.jpg\n",
        "300: 195.jpg\n",
        "301: 071.jpg\n",
        "302: 471.jpg\n",
        "303: 337.jpg\n",
        "304: 393.jpg\n",
        "305: 064.jpg\n",
        "306: 199.jpg\n",
        "307: 236.jpg\n",
        "308: 528.jpg\n",
        "309: 079.jpg\n",
        "310: 441.jpg\n",
        "311: 544.jpg\n",
        "312: 542.jpg\n",
        "313: 375.jpg\n",
        "314: 661.jpg\n",
        "315: 030.jpg\n",
        "316: 580.jpg\n",
        "317: 212.jpg\n",
        "318: 521.jpg\n",
        "319: 336.jpg\n",
        "320: 391.jpg\n",
        "321: 364.jpg\n",
        "322: 472.jpg\n",
        "323: 460.jpg\n",
        "324: 263.jpg\n",
        "325: 005.jpg\n",
        "326: 190.jpg\n",
        "327: 510.jpg\n",
        "328: 266.jpg\n",
        "329: 515.jpg\n",
        "330: 363.jpg\n",
        "331: 448.jpg\n",
        "332: 069.jpg\n",
        "333: 413.jpg\n",
        "334: 454.jpg\n",
        "335: 361.jpg\n",
        "336: 629.jpg\n",
        "337: 031.jpg\n",
        "338: 378.jpg\n",
        "339: 688.jpg\n",
        "340: 015.jpg\n",
        "341: 204.jpg\n",
        "342: 415.jpg\n",
        "343: 419.jpg\n",
        "344: 314.jpg\n",
        "345: 082.jpg\n",
        "346: 496.jpg\n",
        "347: 427.jpg\n",
        "348: 150.jpg\n",
        "349: 540.jpg\n",
        "350: 044.jpg\n",
        "351: 334.jpg\n",
        "352: 567.jpg\n",
        "353: 287.jpg\n",
        "354: 609.jpg\n",
        "355: 135.jpg\n",
        "356: 313.jpg\n",
        "357: 085.jpg\n",
        "358: 047.jpg\n",
        "359: 180.jpg\n",
        "360: 511.jpg\n",
        "361: 343.jpg\n",
        "362: 027.jpg\n",
        "363: 519.jpg\n",
        "364: 028.jpg\n",
        "365: 563.jpg\n",
        "366: 367.jpg\n",
        "367: 423.jpg\n",
        "368: 396.jpg\n",
        "369: 650.jpg\n",
        "370: 223.jpg\n",
        "371: 536.jpg\n",
        "372: 255.jpg\n",
        "373: 653.jpg\n",
        "374: 331.jpg\n",
        "375: 366.jpg\n",
        "376: 217.jpg\n",
        "377: 171.jpg\n",
        "378: 626.jpg\n",
        "379: 638.jpg\n",
        "380: 564.jpg\n",
        "381: 505.jpg\n",
        "382: 159.jpg\n",
        "383: 242.jpg\n",
        "384: 162.jpg\n",
        "385: 116.jpg\n",
        "386: 003.jpg\n",
        "387: 568.jpg\n",
        "388: 205.jpg\n",
        "389: 676.jpg\n",
        "390: 080.jpg\n",
        "391: 469.jpg\n",
        "392: 105.jpg\n",
        "393: 614.jpg\n",
        "394: 665.jpg\n",
        "395: 346.jpg\n",
        "396: 463.jpg\n",
        "397: 226.jpg\n",
        "398: 611.jpg\n",
        "399: 225.jpg\n",
        "400: 442.jpg\n",
        "401: 302.jpg\n",
        "402: 291.jpg\n",
        "403: 141.jpg\n",
        "404: 169.jpg\n",
        "405: 012.jpg\n",
        "406: 600.jpg\n",
        "407: 579.jpg\n",
        "408: 509.jpg\n",
        "409: 426.jpg\n",
        "410: 013.jpg\n",
        "411: 507.jpg\n",
        "412: 022.jpg\n",
        "413: 158.jpg\n",
        "414: 643.jpg\n",
        "415: 549.jpg\n",
        "416: 518.jpg\n",
        "417: 125.jpg\n",
        "418: 067.jpg\n",
        "419: 680.jpg\n",
        "420: 491.jpg\n",
        "421: 038.jpg\n",
        "422: 282.jpg\n",
        "423: 637.jpg\n",
        "424: 176.jpg\n",
        "425: 117.jpg\n",
        "426: 285.jpg\n",
        "427: 652.jpg\n",
        "428: 072.jpg\n",
        "429: 502.jpg\n",
        "430: 001.jpg\n",
        "431: 376.jpg\n",
        "432: 628.jpg\n",
        "433: 238.jpg\n",
        "434: 014.jpg\n",
        "435: 273.jpg\n",
        "436: 414.jpg\n",
        "437: 328.jpg\n",
        "438: 074.jpg\n",
        "439: 482.jpg\n",
        "440: 316.jpg\n",
        "441: 084.jpg\n",
        "442: 656.jpg\n",
        "443: 398.jpg\n",
        "444: 062.jpg\n",
        "445: 006.jpg\n",
        "446: 554.jpg\n",
        "447: 219.jpg\n",
        "448: 233.jpg\n",
        "449: 368.jpg\n",
        "450: 111.jpg\n",
        "451: 011.jpg\n",
        "452: 392.jpg\n",
        "453: 618.jpg\n",
        "454: 440.jpg\n",
        "455: 278.jpg\n",
        "456: 329.jpg\n",
        "457: 272.jpg\n",
        "458: 004.jpg\n",
        "459: 257.jpg\n",
        "460: 124.jpg\n",
        "461: 527.jpg\n",
        "462: 202.jpg\n",
        "463: 201.jpg\n",
        "464: 701.jpg\n",
        "465: 094.jpg\n",
        "466: 493.jpg\n",
        "467: 461.jpg\n",
        "468: 598.jpg\n",
        "469: 224.jpg\n",
        "470: 254.jpg\n",
        "471: 318.jpg\n",
        "472: 185.jpg\n",
        "473: 647.jpg\n",
        "474: 651.jpg\n",
        "475: 229.jpg\n",
        "476: 137.jpg\n",
        "477: 479.jpg\n",
        "478: 608.jpg\n",
        "479: 490.jpg\n",
        "480: 613.jpg\n",
        "481: 308.jpg\n",
        "482: 088.jpg\n",
        "483: 588.jpg\n",
        "484: 591.jpg\n",
        "485: 585.jpg\n",
        "486: 270.jpg\n",
        "487: 484.jpg\n",
        "488: 146.jpg\n",
        "489: 605.jpg\n",
        "490: 059.jpg\n",
        "491: 520.jpg\n",
        "492: 100.jpg\n",
        "493: 042.jpg\n",
        "494: 039.jpg\n",
        "495: 121.jpg\n",
        "496: 032.jpg\n",
        "497: 073.jpg\n",
        "498: 099.jpg\n",
        "499: 184.jpg\n",
        "500: 593.jpg\n",
        "501: 446.jpg\n",
        "502: 033.jpg\n",
        "503: 265.jpg\n",
        "504: 029.jpg\n",
        "505: 357.jpg\n",
        "506: 385.jpg\n",
        "507: 517.jpg\n",
        "508: 210.jpg\n",
        "509: 035.jpg\n",
        "510: 430.jpg\n",
        "511: 390.jpg\n",
        "512: 371.jpg\n",
        "513: 667.jpg\n",
        "514: 200.jpg\n",
        "515: 555.jpg\n",
        "516: 359.jpg\n",
        "517: 495.jpg\n",
        "518: 040.jpg\n",
        "519: 252.jpg\n",
        "520: 259.jpg\n",
        "521: 218.jpg\n",
        "522: 365.jpg\n",
        "523: 577.jpg\n",
        "524: 340.jpg\n",
        "525: 081.jpg\n",
        "526: 016.jpg\n",
        "527: 655.jpg\n",
        "528: 307.jpg\n",
        "529: 388.jpg\n",
        "530: 452.jpg\n",
        "531: 500.jpg\n",
        "532: 151.jpg\n",
        "533: 387.jpg\n",
        "534: 262.jpg\n",
        "535: 615.jpg\n",
        "536: 077.jpg\n",
        "537: 348.jpg\n",
        "538: 304.jpg\n",
        "539: 468.jpg\n",
        "540: 076.jpg\n",
        "541: 524.jpg\n",
        "542: 566.jpg\n",
        "543: 325.jpg\n",
        "544: 606.jpg\n",
        "545: 102.jpg\n",
        "546: 686.jpg\n",
        "547: 139.jpg\n",
        "548: 239.jpg\n",
        "549: 078.jpg\n",
        "550: 052.jpg\n",
        "551: 213.jpg\n",
        "552: 167.jpg\n",
        "553: 455.jpg\n",
        "554: 274.jpg\n",
        "555: 303.jpg\n",
        "556: 350.jpg\n",
        "557: 227.jpg\n",
        "558: 698.jpg\n",
        "559: 370.jpg\n",
        "560: 501.jpg\n",
        "561: 276.jpg\n",
        "562: 083.jpg\n",
        "563: 547.jpg\n",
        "564: 245.jpg\n",
        "565: 450.jpg\n",
        "566: 037.jpg\n",
        "567: 294.jpg\n",
        "568: 669.jpg\n",
        "569: 283.jpg\n",
        "570: 108.jpg\n",
        "571: 369.jpg\n",
        "572: 215.jpg\n",
        "573: 612.jpg\n",
        "574: 403.jpg\n",
        "575: 480.jpg\n",
        "576: 322.jpg\n",
        "577: 573.jpg\n",
        "578: 560.jpg\n",
        "579: 451.jpg\n",
        "580: 163.jpg\n",
        "581: 663.jpg\n",
        "582: 373.jpg\n",
        "583: 466.jpg\n",
        "584: 175.jpg\n",
        "585: 301.jpg\n",
        "586: 060.jpg\n",
        "587: 444.jpg\n",
        "588: 025.jpg\n",
        "589: 327.jpg\n",
        "590: 261.jpg\n",
        "591: 319.jpg\n",
        "592: 168.jpg\n",
        "593: 590.jpg\n",
        "594: 284.jpg\n",
        "595: 687.jpg\n",
        "596: 581.jpg\n",
        "597: 658.jpg\n",
        "598: 017.jpg\n",
        "599: 183.jpg\n",
        "600: 142.jpg\n",
        "601: 101.jpg\n",
        "602: 244.jpg\n",
        "603: 372.jpg\n",
        "604: 597.jpg\n",
        "605: 699.jpg\n",
        "606: 477.jpg\n",
        "607: 277.jpg\n",
        "608: 347.jpg\n",
        "609: 295.jpg\n",
        "610: 594.jpg\n",
        "611: 380.jpg\n",
        "612: 344.jpg\n",
        "613: 437.jpg\n",
        "614: 021.jpg\n",
        "615: 161.jpg\n",
        "616: 247.jpg\n",
        "617: 478.jpg\n",
        "618: 002.jpg\n",
        "619: 574.jpg\n",
        "620: 057.jpg\n",
        "621: 234.jpg\n",
        "622: 603.jpg\n",
        "623: 055.jpg\n",
        "624: 248.jpg\n",
        "625: 382.jpg\n",
        "626: 107.jpg\n",
        "627: 692.jpg\n",
        "628: 130.jpg\n",
        "629: 533.jpg\n",
        "630: 300.jpg\n",
        "631: 181.jpg\n",
        "632: 404.jpg\n",
        "633: 240.jpg\n",
        "634: 114.jpg\n",
        "635: 417.jpg\n",
        "636: 666.jpg\n",
        "637: 399.jpg\n",
        "638: 674.jpg\n",
        "639: 684.jpg\n",
        "640: 053.jpg\n",
        "641: 058.jpg\n",
        "642: 537.jpg\n",
        "643: 578.jpg\n",
        "644: 456.jpg\n",
        "645: 362.jpg\n",
        "646: 310.jpg\n",
        "647: 486.jpg\n",
        "648: 249.jpg\n",
        "649: 530.jpg\n",
        "650: 065.jpg\n",
        "651: 401.jpg\n",
        "652: 635.jpg\n",
        "653: 355.jpg\n",
        "654: 154.jpg\n",
        "655: 155.jpg\n",
        "656: 485.jpg\n",
        "657: 228.jpg\n",
        "658: 048.jpg\n",
        "659: 009.jpg\n",
        "660: 623.jpg\n",
        "661: 610.jpg\n",
        "662: 194.jpg\n",
        "663: 410.jpg\n",
        "664: 292.jpg\n",
        "665: 565.jpg\n",
        "666: 178.jpg\n",
        "667: 383.jpg\n",
        "668: 559.jpg\n",
        "669: 558.jpg\n",
        "670: 670.jpg\n",
        "671: 551.jpg\n",
        "672: 660.jpg\n",
        "673: 582.jpg\n",
        "674: 428.jpg\n",
        "675: 269.jpg\n",
        "676: 627.jpg\n",
        "677: 421.jpg\n",
        "678: 008.jpg\n",
        "679: 487.jpg\n",
        "680: 320.jpg\n",
        "681: 416.jpg\n",
        "682: 112.jpg\n",
        "683: 024.jpg\n",
        "684: 335.jpg\n",
        "685: 462.jpg\n",
        "686: 640.jpg\n",
        "687: 424.jpg\n",
        "688: 431.jpg\n",
        "689: 386.jpg\n",
        "690: 639.jpg\n",
        "691: 679.jpg\n",
        "692: 043.jpg\n",
        "693: 534.jpg\n",
        "694: 113.jpg\n",
        "695: 095.jpg\n",
        "696: 408.jpg\n",
        "697: 675.jpg\n",
        "698: 119.jpg\n",
        "699: 453.jpg\n",
        "700: 616.jpg\n"
       ]
      }
     ],
     "prompt_number": 8
    },
    {
     "cell_type": "code",
     "collapsed": false,
     "input": [
      "dt = 5\n",
      "keypoint_type = \"SIFT\"\n",
      "descriptor_type = \"SIFT\"\n",
      "nb_thresholds = 50\n",
      "thresholds = numpy.linspace(0.3,0.8, nb_thresholds)"
     ],
     "language": "python",
     "metadata": {},
     "outputs": [],
     "prompt_number": "*"
    },
    {
     "cell_type": "code",
     "collapsed": false,
     "input": [
      "options = {\n",
      "       \"leaf_size\": 10,\n",
      "       \"keypoint_type\" : keypoint_type,\n",
      "       \"descriptor_type\" : descriptor_type,\n",
      "       \"only_mirror\" : True,\n",
      "       \"verbose\" : True,\n",
      "       \"max_kp\" : 500,\n",
      "}\n",
      "mm_fun  = mirrormatch.match(paths, options)"
     ],
     "language": "python",
     "metadata": {},
     "outputs": [
      {
       "output_type": "stream",
       "stream": "stdout",
       "text": [
        ": "
       ]
      },
      {
       "output_type": "stream",
       "stream": "stdout",
       "text": [
        ": "
       ]
      },
      {
       "output_type": "stream",
       "stream": "stdout",
       "text": [
        ": "
       ]
      },
      {
       "output_type": "stream",
       "stream": "stdout",
       "text": [
        ": "
       ]
      },
      {
       "output_type": "stream",
       "stream": "stdout",
       "text": [
        ": "
       ]
      },
      {
       "output_type": "stream",
       "stream": "stdout",
       "text": [
        ": "
       ]
      },
      {
       "output_type": "stream",
       "stream": "stdout",
       "text": [
        ": "
       ]
      },
      {
       "output_type": "stream",
       "stream": "stdout",
       "text": [
        ": "
       ]
      },
      {
       "output_type": "stream",
       "stream": "stdout",
       "text": [
        ": "
       ]
      },
      {
       "output_type": "stream",
       "stream": "stdout",
       "text": [
        ": "
       ]
      },
      {
       "output_type": "stream",
       "stream": "stdout",
       "text": [
        ": "
       ]
      },
      {
       "output_type": "stream",
       "stream": "stdout",
       "text": [
        ": "
       ]
      },
      {
       "output_type": "stream",
       "stream": "stdout",
       "text": [
        ": "
       ]
      },
      {
       "output_type": "stream",
       "stream": "stdout",
       "text": [
        ": "
       ]
      },
      {
       "output_type": "stream",
       "stream": "stdout",
       "text": [
        ": "
       ]
      },
      {
       "output_type": "stream",
       "stream": "stdout",
       "text": [
        ": "
       ]
      },
      {
       "output_type": "stream",
       "stream": "stdout",
       "text": [
        ": "
       ]
      },
      {
       "output_type": "stream",
       "stream": "stdout",
       "text": [
        ": "
       ]
      },
      {
       "output_type": "stream",
       "stream": "stdout",
       "text": [
        ": "
       ]
      },
      {
       "output_type": "stream",
       "stream": "stdout",
       "text": [
        ": "
       ]
      },
      {
       "output_type": "stream",
       "stream": "stdout",
       "text": [
        ": "
       ]
      },
      {
       "output_type": "stream",
       "stream": "stdout",
       "text": [
        ": "
       ]
      },
      {
       "output_type": "stream",
       "stream": "stdout",
       "text": [
        ": "
       ]
      },
      {
       "output_type": "stream",
       "stream": "stdout",
       "text": [
        ": "
       ]
      },
      {
       "output_type": "stream",
       "stream": "stdout",
       "text": [
        ": "
       ]
      },
      {
       "output_type": "stream",
       "stream": "stdout",
       "text": [
        ": "
       ]
      },
      {
       "output_type": "stream",
       "stream": "stdout",
       "text": [
        ": "
       ]
      },
      {
       "output_type": "stream",
       "stream": "stdout",
       "text": [
        ": "
       ]
      },
      {
       "output_type": "stream",
       "stream": "stdout",
       "text": [
        ": "
       ]
      },
      {
       "output_type": "stream",
       "stream": "stdout",
       "text": [
        ": "
       ]
      },
      {
       "output_type": "stream",
       "stream": "stdout",
       "text": [
        ": "
       ]
      },
      {
       "output_type": "stream",
       "stream": "stdout",
       "text": [
        ": "
       ]
      },
      {
       "output_type": "stream",
       "stream": "stdout",
       "text": [
        ": "
       ]
      },
      {
       "output_type": "stream",
       "stream": "stdout",
       "text": [
        ": "
       ]
      },
      {
       "output_type": "stream",
       "stream": "stdout",
       "text": [
        ": "
       ]
      },
      {
       "output_type": "stream",
       "stream": "stdout",
       "text": [
        ": "
       ]
      },
      {
       "output_type": "stream",
       "stream": "stdout",
       "text": [
        ": "
       ]
      },
      {
       "output_type": "stream",
       "stream": "stdout",
       "text": [
        ": "
       ]
      },
      {
       "output_type": "stream",
       "stream": "stdout",
       "text": [
        ": "
       ]
      },
      {
       "output_type": "stream",
       "stream": "stdout",
       "text": [
        ": "
       ]
      },
      {
       "output_type": "stream",
       "stream": "stdout",
       "text": [
        ": "
       ]
      },
      {
       "output_type": "stream",
       "stream": "stdout",
       "text": [
        ": "
       ]
      },
      {
       "output_type": "stream",
       "stream": "stdout",
       "text": [
        ": "
       ]
      },
      {
       "output_type": "stream",
       "stream": "stdout",
       "text": [
        ": "
       ]
      },
      {
       "output_type": "stream",
       "stream": "stdout",
       "text": [
        ": "
       ]
      },
      {
       "output_type": "stream",
       "stream": "stdout",
       "text": [
        ": "
       ]
      },
      {
       "output_type": "stream",
       "stream": "stdout",
       "text": [
        ": "
       ]
      },
      {
       "output_type": "stream",
       "stream": "stdout",
       "text": [
        ": "
       ]
      },
      {
       "output_type": "stream",
       "stream": "stdout",
       "text": [
        ": "
       ]
      },
      {
       "output_type": "stream",
       "stream": "stdout",
       "text": [
        ": "
       ]
      },
      {
       "output_type": "stream",
       "stream": "stdout",
       "text": [
        ": "
       ]
      },
      {
       "output_type": "stream",
       "stream": "stdout",
       "text": [
        ": "
       ]
      }
     ],
     "prompt_number": "*"
    },
    {
     "cell_type": "code",
     "collapsed": false,
     "input": [
      "matches = mm_fun(0.99)\n",
      "numpy.savez(\"califoniaND-500kp\", matches = matches)"
     ],
     "language": "python",
     "metadata": {},
     "outputs": [],
     "prompt_number": "*"
    },
    {
     "cell_type": "code",
     "collapsed": false,
     "input": [
      "data = numpy.load(\"califoniaND-500kp.npz\")\n",
      "matches = data['matches']"
     ],
     "language": "python",
     "metadata": {},
     "outputs": [],
     "prompt_number": "*"
    },
    {
     "cell_type": "code",
     "collapsed": false,
     "input": [
      "def print_scores(scores, files) : \n",
      "    \n",
      "    # Get labels\n",
      "    labels = [f[:3] for f in files]\n",
      "    rows = sorted(enumerate(labels), key=lambda e : e[1])\n",
      "    \n",
      "    # Top row\n",
      "    print(\"      \"),\n",
      "    for i,f in rows :\n",
      "        print(\"%s \" % f),\n",
      "    print(\"\\n    +%s-\" % (\"-----\" * scores.shape[1]))\n",
      "    \n",
      "    \n",
      "    # Fields\n",
      "    for i,f in rows :\n",
      "        print(\"%s |\" % f),\n",
      "        for j,_ in rows :\n",
      "            print(\"%4.0f\" % scores[i,j]),\n",
      "        print(\"\")"
     ],
     "language": "python",
     "metadata": {},
     "outputs": [],
     "prompt_number": "*"
    },
    {
     "cell_type": "code",
     "collapsed": false,
     "input": [
      "def print_clusters(p, files) :\n",
      "    labels = [f[:3] for f in files]\n",
      "    for i,k in enumerate(set(p)) :\n",
      "        members = [labels[j] for j in numpy.array(range(len(p)))[p == k]]\n",
      "        print(\"Cluster %i:  %s\" % (i+1, \", \".join(members)))"
     ],
     "language": "python",
     "metadata": {},
     "outputs": [],
     "prompt_number": "*"
    },
    {
     "cell_type": "code",
     "collapsed": false,
     "input": [
      "calif_ground_truth = numpy.load(\"../near-duplicate/resources/california3_non_binary10_groundtruth.npy\")\n",
      "for i in range(calif_ground_truth.shape[0]) :\n",
      "    calif_ground_truth[i,i] = 0\n",
      "labels = [f[:3] for f in files]\n",
      "def duplicates_finder(ground_truth, files) :\n",
      "    \"\"\"Given a label, we want to return all the other labels judged as duplicates\"\"\"\n",
      "    \n",
      "    labels = sorted([f[:3] for f in files])\n",
      "    indexMap = dict([(l,i) for i,l in enumerate(labels)])\n",
      "    \n",
      "    def dup_fun(label) :\n",
      "        # First find the correct index for label\n",
      "        index = indexMap[label]\n",
      "        \n",
      "        # Now get the row of ground_truth corresponding to this label\n",
      "        row = ground_truth[index]\n",
      "        \n",
      "        # For each non-zero index, find the label it corresponds to\n",
      "        dup = [(labels[i], nz) for i,nz in enumerate(row) if nz > 0]\n",
      "    \n",
      "        return dup\n",
      "    \n",
      "    return dup_fun\n",
      "\n",
      "duplicates = duplicates_finder(calif_ground_truth, files)"
     ],
     "language": "python",
     "metadata": {},
     "outputs": [],
     "prompt_number": "*"
    },
    {
     "cell_type": "code",
     "collapsed": false,
     "input": [
      "def normalize_scores(scores, score_bar = 10, cut_norm = (0.3, 0.7), order = 0.01, max_dist = 20, diagonal = 1.0) :\n",
      "    \n",
      "    scores_norm = numpy.zeros(scores.shape)\n",
      "    statistic = -1*ceil(scores.shape[0]*2*order) - 1\n",
      "    \n",
      "    # normalize according to row and col\n",
      "    for i in range(scores.shape[0]) :\n",
      "        for j in range(scores.shape[1]) :\n",
      "            if abs(i - j) > max_dist :\n",
      "                scores_norm[i,j] = 0\n",
      "            elif i == j :\n",
      "                scores_norm[i,j] = diagonal\n",
      "            elif scores[i,j] < score_bar :\n",
      "                scores_norm[i,j] = 0\n",
      "            else :\n",
      "                # Get all values from cols and rows\n",
      "                n1, n2 = (scores[i], scores.T[j])\n",
      "                n1[i] = 0\n",
      "                n2[j] = 0\n",
      "                neighbors = numpy.sort(numpy.concatenate((n1,n2)))\n",
      "                #neighbors = numpy.sort(numpy.concatenate((scores[i], scores.T[j])))\n",
      "                #N[i,j] = neighbors[-1*order]\n",
      "                \n",
      "                # Calculate normalized value according to cut\n",
      "                s = scores[i,j] / neighbors[statistic]\n",
      "                s_norm = (s - cut_norm[0]) / (cut_norm[1] - cut_norm[0])\n",
      "                if s_norm <= 0 :\n",
      "                    scores_norm[i,j] = 0\n",
      "                elif s_norm >= 1 :\n",
      "                    scores_norm[i,j] = 1\n",
      "                else :\n",
      "                    scores_norm[i,j] = s_norm\n",
      "                    \n",
      "    return scores_norm"
     ],
     "language": "python",
     "metadata": {},
     "outputs": [],
     "prompt_number": "*"
    },
    {
     "cell_type": "code",
     "collapsed": false,
     "input": [
      "#def sort_scores(scores, files) :\n",
      "    # Get labels\n",
      "    fname = [f[:3] for f in files]\n",
      "    rows = sorted(enumerate(fname), key=lambda e : e[1])\n",
      "    indices, labels = zip(*rows)\n",
      "    idx = numpy.array(indices)\n",
      "    \n",
      "    return scores[idx][:,idx], labels"
     ],
     "language": "python",
     "metadata": {},
     "outputs": [],
     "prompt_number": "*"
    },
    {
     "cell_type": "code",
     "collapsed": false,
     "input": [
      "def heatmap(scores, labels = None, size = (12,12)) :\n",
      "    \n",
      "    fig, ax = plt.subplots(figsize=size)\n",
      "    \n",
      "    # For colormap: http://wiki.scipy.org/Cookbook/Matplotlib/Show_colormaps\n",
      "    #heatmap = ax.pcolor(scores_sorted, cmap=cm.Blues)\n",
      "    heatmap = ax.pcolor(scores, cmap=cm.jet)\n",
      "\n",
      "    # put the major ticks at the middle of each cell\n",
      "    if labels != None and scores.shape[0] < size[0]*3 : \n",
      "        ax.set_xticks(numpy.arange(scores.shape[0])+0.5, minor=False)\n",
      "        ax.set_yticks(numpy.arange(scores.shape[1])+0.5, minor=False)\n",
      "        ax.set_xticklabels(labels, minor=False)\n",
      "        ax.set_yticklabels(labels, minor=False)\n",
      "\n",
      "    xlim(0,scores.shape[0])\n",
      "    ylim(scores.shape[0],0)"
     ],
     "language": "python",
     "metadata": {},
     "outputs": [],
     "prompt_number": "*"
    },
    {
     "cell_type": "code",
     "collapsed": false,
     "input": [
      "nb_images = len(paths)\n",
      "scores = numpy.zeros((nb_images, nb_images))\n",
      "for p,s,u,(i,j) in zip(*matches) :\n",
      "    scores[i,j] = scores[i,j] + (1/u) - 1\n",
      "    scores[j,i] = scores[j,i] + (1/u) - 1"
     ],
     "language": "python",
     "metadata": {},
     "outputs": [],
     "prompt_number": "*"
    },
    {
     "cell_type": "code",
     "collapsed": false,
     "input": [
      "n_start = 0\n",
      "n_end = len(scores)\n",
      "scores_sorted, labels = sort_scores(scores, files)\n",
      "scores_p, labels_p = scores_sorted[n_start:n_end][:,n_start:n_end], labels[n_start:n_end]\n",
      "ground_truth_p = calif_ground_truth[n_start:n_end][:,n_start:n_end]"
     ],
     "language": "python",
     "metadata": {},
     "outputs": [],
     "prompt_number": "*"
    },
    {
     "cell_type": "code",
     "collapsed": false,
     "input": [
      "numpy.sum(scores_p) / (scores_p.shape[0]**2)"
     ],
     "language": "python",
     "metadata": {},
     "outputs": [],
     "prompt_number": "*"
    },
    {
     "cell_type": "code",
     "collapsed": false,
     "input": [
      "scores_norm = normalize_scores(scores_sorted, score_bar = 2, cut_norm = (0.0, 1.0), order = 0.05, max_dist = 999)\n",
      "heatmap(scores_norm, labels, size=(12,12))"
     ],
     "language": "python",
     "metadata": {},
     "outputs": [],
     "prompt_number": "*"
    },
    {
     "cell_type": "code",
     "collapsed": false,
     "input": [
      "scores_squared = normalize_scores(scores_norm.dot(scores_norm), score_bar = 1, cut_norm = (0.6, 0.7), order = 0, max_dist = 55, diagonal = 0)\n",
      "heatmap(scores_squared, labels, size=(12,12))"
     ],
     "language": "python",
     "metadata": {},
     "outputs": [],
     "prompt_number": "*"
    },
    {
     "cell_type": "code",
     "collapsed": false,
     "input": [
      "heatmap(calif_ground_truth, labels)"
     ],
     "language": "python",
     "metadata": {},
     "outputs": [],
     "prompt_number": "*"
    },
    {
     "cell_type": "code",
     "collapsed": false,
     "input": [
      "l = numpy.array([[1,3],[5,2]])\n",
      "m = numpy.array([[2,2],[2,2]])\n",
      "numpy.min((l,m), axis=0)"
     ],
     "language": "python",
     "metadata": {},
     "outputs": [],
     "prompt_number": "*"
    },
    {
     "cell_type": "code",
     "collapsed": false,
     "input": [
      "scores_norm = normalize_scores(scores_sorted, score_bar = 2, cut_norm = (0.0, 1.0), order = 0.04, max_dist = 999)\n",
      "scores_squared = normalize_scores(scores_norm.dot(scores_norm), score_bar = 1, cut_norm = (0.6, 0.7), order = 0.0, max_dist = 555, diagonal = 0)"
     ],
     "language": "python",
     "metadata": {},
     "outputs": [],
     "prompt_number": "*"
    },
    {
     "cell_type": "code",
     "collapsed": false,
     "input": [
      "result = scores_squared\n",
      "sTP = numpy.sum(numpy.min((calif_ground_truth, result), axis = 0))\n",
      "sTN = numpy.sum(numpy.min((1 - calif_ground_truth, 1- result), axis = 0))\n",
      "sFP = numpy.sum(numpy.max((result - calif_ground_truth,  numpy.zeros(result.shape)), axis = 0))\n",
      "sFN = numpy.sum(numpy.max((calif_ground_truth - result,  numpy.zeros(result.shape)), axis = 0))\n",
      "sPrecision = sTP / (sTP + sFP)\n",
      "sRecall = sTP / (sTP + sFN)\n",
      "sF1 = 2 * sPrecision * sRecall / (sPrecision + sRecall)\n",
      "print(\"Precision: %.4f\" % sPrecision)\n",
      "print(\"Recall: %.4f\" % sRecall)\n",
      "print(\"F1: %.4f\" % sF1)"
     ],
     "language": "python",
     "metadata": {},
     "outputs": [],
     "prompt_number": "*"
    },
    {
     "cell_type": "code",
     "collapsed": false,
     "input": [
      "# Try to cluster with Louvain\n",
      "p = louvain.cluster(scores, verbose = True)\n",
      "print_clusters(p, files)"
     ],
     "language": "python",
     "metadata": {},
     "outputs": [],
     "prompt_number": "*"
    },
    {
     "cell_type": "code",
     "collapsed": false,
     "input": [
      "duplicates(\"387\")"
     ],
     "language": "python",
     "metadata": {},
     "outputs": [],
     "prompt_number": "*"
    },
    {
     "cell_type": "code",
     "collapsed": false,
     "input": [
      "#from sklearn.cluster import AffinityPropagation\n",
      "#p_af = AffinityPropagation(affinity = 'precomputed').fit(scores).labels_\n",
      "#print_clusters(p_af, files)"
     ],
     "language": "python",
     "metadata": {},
     "outputs": [],
     "prompt_number": "*"
    },
    {
     "cell_type": "code",
     "collapsed": false,
     "input": [
      "#from sklearn.cluster import spectral_clustering\n",
      "#p_sp = spectral_clustering(scores, n_clusters=100, assign_labels='kmeans')\n",
      "#print_clusters(p_sp, files)"
     ],
     "language": "python",
     "metadata": {},
     "outputs": [],
     "prompt_number": "*"
    },
    {
     "cell_type": "code",
     "collapsed": false,
     "input": [],
     "language": "python",
     "metadata": {},
     "outputs": [],
     "prompt_number": "*"
    }
   ],
   "metadata": {}
  }
 ]
}
{
 "metadata": {
  "name": "Mirror Near Duplicate-Copy0"
 },
 "nbformat": 3,
 "nbformat_minor": 0,
 "worksheets": [
  {
   "cells": [
    {
     "cell_type": "code",
     "collapsed": false,
     "input": [
      "#Stupid hack to load files from sibling dir\n",
      "import sys; import os\n",
      "sys.path.insert(0, os.path.abspath('..'))\n",
      "\n",
      "%load_ext autoreload\n",
      "%autoreload 2"
     ],
     "language": "python",
     "metadata": {},
     "outputs": [],
     "prompt_number": 1
    },
    {
     "cell_type": "code",
     "collapsed": false,
     "input": [
      "import display\n",
      "import matching\n",
      "from sklearn.neighbors.ball_tree import BallTree\n",
      "import ballmatch\n",
      "import features\n",
      "import numpy\n",
      "import louvain\n",
      "import mirrormatch\n",
      "import scipy\n",
      "import sklearn\n",
      "import scoring\n",
      "from itertools import combinations\n",
      "import os\n",
      "import duplicates"
     ],
     "language": "python",
     "metadata": {},
     "outputs": [],
     "prompt_number": 2
    },
    {
     "cell_type": "code",
     "collapsed": false,
     "input": [
      "folder = '../../images/near-duplicate samples/'\n",
      "files, paths = duplicates.get_files(folder, verbose = True)"
     ],
     "language": "python",
     "metadata": {},
     "outputs": [
      {
       "output_type": "stream",
       "stream": "stdout",
       "text": [
        " 0: 604.jpg\n",
        " 1: 312.jpg\n",
        " 2: 668.jpg\n",
        " 3: 648.jpg\n",
        " 4: 689.jpg\n",
        " 5: 311.jpg\n",
        " 6: 572.jpg\n",
        " 7: 584.jpg\n",
        " 8: 688.jpg\n",
        " 9: 314.jpg\n",
        "10: 313.jpg\n",
        "11: 568.jpg\n",
        "12: 067.jpg\n",
        "13: 656.jpg\n",
        "14: 647.jpg\n",
        "15: 588.jpg\n",
        "16: 593.jpg\n",
        "17: 686.jpg\n",
        "18: 658.jpg\n",
        "19: 310.jpg\n"
       ]
      }
     ],
     "prompt_number": "*"
    },
    {
     "cell_type": "code",
     "collapsed": false,
     "input": [
      "options = {\n",
      "       \"verbose\" : True,\n",
      "       \"kp_threshold\" : (0.05, 0.3),\n",
      "       \"neighbors\" : 5,\n",
      "}\n",
      "matches = duplicates.get_matches(paths, options)"
     ],
     "language": "python",
     "metadata": {},
     "outputs": [
      {
       "output_type": "stream",
       "stream": "stdout",
       "text": [
        ": "
       ]
      },
      {
       "output_type": "stream",
       "stream": "stdout",
       "text": [
        ": "
       ]
      },
      {
       "output_type": "stream",
       "stream": "stdout",
       "text": [
        ": "
       ]
      },
      {
       "output_type": "stream",
       "stream": "stdout",
       "text": [
        ": "
       ]
      },
      {
       "output_type": "stream",
       "stream": "stdout",
       "text": [
        ": "
       ]
      },
      {
       "output_type": "stream",
       "stream": "stdout",
       "text": [
        ": "
       ]
      },
      {
       "output_type": "stream",
       "stream": "stdout",
       "text": [
        ": "
       ]
      },
      {
       "output_type": "stream",
       "stream": "stdout",
       "text": [
        ": "
       ]
      },
      {
       "output_type": "stream",
       "stream": "stdout",
       "text": [
        ": "
       ]
      },
      {
       "output_type": "stream",
       "stream": "stdout",
       "text": [
        ": "
       ]
      },
      {
       "output_type": "stream",
       "stream": "stdout",
       "text": [
        ": "
       ]
      },
      {
       "output_type": "stream",
       "stream": "stdout",
       "text": [
        ": "
       ]
      },
      {
       "output_type": "stream",
       "stream": "stdout",
       "text": [
        ": "
       ]
      },
      {
       "output_type": "stream",
       "stream": "stdout",
       "text": [
        ": "
       ]
      },
      {
       "output_type": "stream",
       "stream": "stdout",
       "text": [
        ": "
       ]
      },
      {
       "output_type": "stream",
       "stream": "stdout",
       "text": [
        ": "
       ]
      },
      {
       "output_type": "stream",
       "stream": "stdout",
       "text": [
        ": "
       ]
      },
      {
       "output_type": "stream",
       "stream": "stdout",
       "text": [
        ": "
       ]
      },
      {
       "output_type": "stream",
       "stream": "stdout",
       "text": [
        ": "
       ]
      },
      {
       "output_type": "stream",
       "stream": "stdout",
       "text": [
        ": "
       ]
      },
      {
       "output_type": "stream",
       "stream": "stdout",
       "text": [
        "\n",
        "Keypoints collected: [1001, 513, 1000, 504, 1000, 1000, 1000, 1000, 1000, 988, 855, 1000, 1000, 1000, 1000, 1000, 1000, 921, 1000, 1000]\n",
        "; "
       ]
      },
      {
       "output_type": "stream",
       "stream": "stdout",
       "text": [
        "; "
       ]
      },
      {
       "output_type": "stream",
       "stream": "stdout",
       "text": [
        "; "
       ]
      },
      {
       "output_type": "stream",
       "stream": "stdout",
       "text": [
        "; "
       ]
      },
      {
       "output_type": "stream",
       "stream": "stdout",
       "text": [
        "; "
       ]
      },
      {
       "output_type": "stream",
       "stream": "stdout",
       "text": [
        "; "
       ]
      },
      {
       "output_type": "stream",
       "stream": "stdout",
       "text": [
        "; "
       ]
      },
      {
       "output_type": "stream",
       "stream": "stdout",
       "text": [
        "; "
       ]
      },
      {
       "output_type": "stream",
       "stream": "stdout",
       "text": [
        "; "
       ]
      },
      {
       "output_type": "stream",
       "stream": "stdout",
       "text": [
        "; "
       ]
      },
      {
       "output_type": "stream",
       "stream": "stdout",
       "text": [
        "; "
       ]
      },
      {
       "output_type": "stream",
       "stream": "stdout",
       "text": [
        "; "
       ]
      },
      {
       "output_type": "stream",
       "stream": "stdout",
       "text": [
        "; "
       ]
      },
      {
       "output_type": "stream",
       "stream": "stdout",
       "text": [
        "; "
       ]
      },
      {
       "output_type": "stream",
       "stream": "stdout",
       "text": [
        "; "
       ]
      },
      {
       "output_type": "stream",
       "stream": "stdout",
       "text": [
        "; "
       ]
      },
      {
       "output_type": "stream",
       "stream": "stdout",
       "text": [
        "; "
       ]
      },
      {
       "output_type": "stream",
       "stream": "stdout",
       "text": [
        "; "
       ]
      },
      {
       "output_type": "stream",
       "stream": "stdout",
       "text": [
        "; "
       ]
      },
      {
       "output_type": "stream",
       "stream": "stdout",
       "text": [
        "; "
       ]
      },
      {
       "output_type": "stream",
       "stream": "stdout",
       "text": [
        "\n",
        "Descriptors calculated: [1001, 513, 1000, 504, 1000, 1000, 1000, 1000, 1000, 988, 855, 1000, 1000, 1000, 1000, 1000, 1000, 921, 1000, 1000]\n",
        "."
       ]
      },
      {
       "output_type": "stream",
       "stream": "stdout",
       "text": [
        " . "
       ]
      },
      {
       "output_type": "stream",
       "stream": "stdout",
       "text": [
        ". "
       ]
      },
      {
       "output_type": "stream",
       "stream": "stdout",
       "text": [
        ". "
       ]
      },
      {
       "output_type": "stream",
       "stream": "stdout",
       "text": [
        ". "
       ]
      },
      {
       "output_type": "stream",
       "stream": "stdout",
       "text": [
        ". "
       ]
      },
      {
       "output_type": "stream",
       "stream": "stdout",
       "text": [
        ". "
       ]
      },
      {
       "output_type": "stream",
       "stream": "stdout",
       "text": [
        ". "
       ]
      },
      {
       "output_type": "stream",
       "stream": "stdout",
       "text": [
        ". "
       ]
      },
      {
       "output_type": "stream",
       "stream": "stdout",
       "text": [
        ". "
       ]
      },
      {
       "output_type": "stream",
       "stream": "stdout",
       "text": [
        ". "
       ]
      },
      {
       "output_type": "stream",
       "stream": "stdout",
       "text": [
        ". "
       ]
      },
      {
       "output_type": "stream",
       "stream": "stdout",
       "text": [
        ". "
       ]
      },
      {
       "output_type": "stream",
       "stream": "stdout",
       "text": [
        ". "
       ]
      },
      {
       "output_type": "stream",
       "stream": "stdout",
       "text": [
        ". "
       ]
      },
      {
       "output_type": "stream",
       "stream": "stdout",
       "text": [
        ". "
       ]
      }
     ],
     "prompt_number": "*"
    },
    {
     "cell_type": "code",
     "collapsed": false,
     "input": [
      "scores, labels = duplicates.get_scores(matches, files)\n",
      "duplicates.print_scores(scores, files)"
     ],
     "language": "python",
     "metadata": {},
     "outputs": [
      {
       "output_type": "stream",
       "stream": "stdout",
       "text": [
        "       067  310  311  312  313  314  568  572  584  588  593  604  647  648  656  658  668  686  688  689  \n",
        "    +-----------------------------------------------------------------------------------------------------\n",
        "067 |    0   11   14   12   12    9   10   11    9   18   14   14   13    7   68   12   12   10   11   12 \n",
        "310 |   11    0    9   13   12   13   11   10    8   14   15   13   13    7    8   26   12   23    9   10 \n",
        "311 |   14    9    0   26    6    5    5    6    6    9   11   11    6   18    5   11   31   10    5   31 \n",
        "312 |   12   13   26    0    6    6    7    4    6    9   11   12   10   16    6   11   27   10    6   24 \n",
        "313 |   12   12    6    6    0  123  103   46   42   13   12   11   14    2    6    8    6   10   78    5 \n",
        "314 |    9   13    5    6  123    0   55   57   63   12   11   11   12    4    5    9    6    8  172    5 \n",
        "568 |   10   11    5    7  103   55    0   30   28    9   12   12   11    5    6   13    8    7  147    9 \n",
        "572 |   11   10    6    4   46   57   30    0 1445   11   10   11   10    2    5    8    6    6   43    5 \n",
        "584 |    9    8    6    6   42   63   28 1445    0    9   10   10    7    6    4    8    5    5   41    5 \n",
        "588 |   18   14    9    9   13   12    9   11    9    0   58   71   84    5    8   12   10   15   13    8 \n",
        "593 |   14   15   11   11   12   11   12   10   10   58    0   53  105    5    8   12   12   15   10   11 \n",
        "604 |   14   13   11   12   11   11   12   11   10   71   53    0   39    5    8   10    7   16    9    7 \n",
        "647 |   13   13    6   10   14   12   11   10    7   84  105   39    0    4    7    9   10   10   14    6 \n",
        "648 |    7    7   18   16    2    4    5    2    6    5    5    5    4    0    4    5   20    6    6   20 \n",
        "656 |   68    8    5    6    6    5    6    5    4    8    8    8    7    4    0    8    7    6    5    7 \n",
        "658 |   12   26   11   11    8    9   13    8    8   12   12   10    9    5    8    0    9  251   11    8 \n",
        "668 |   12   12   31   27    6    6    8    6    5   10   12    7   10   20    7    9    0   11    6   23 \n",
        "686 |   10   23   10   10   10    8    7    6    5   15   15   16   10    6    6  251   11    0    9   10 \n",
        "688 |   11    9    5    6   78  172  147   43   41   13   10    9   14    6    5   11    6    9    0    6 \n",
        "689 |   12   10   31   24    5    5    9    5    5    8   11    7    6   20    7    8   23   10    6    0 \n"
       ]
      }
     ],
     "prompt_number": 227
    },
    {
     "cell_type": "code",
     "collapsed": false,
     "input": [
      "scores_norm, scores_squared = duplicates.fit_scores(scores, bar = 15, cut = (0.0, 1.0), order = 0.04, diagonal = 1)\n",
      "duplicates.heatmap(scores_norm, labels, cmap=cm.gray_r)"
     ],
     "language": "python",
     "metadata": {},
     "outputs": [
      {
       "output_type": "display_data",
       "png": "[encoded data removed]"
      }
     ],
     "prompt_number": 215
    },
    {
     "cell_type": "code",
     "collapsed": false,
     "input": [
      "duplicates.heatmap(scores_squared, labels, cmap = cm.gray_r)"
     ],
     "language": "python",
     "metadata": {},
     "outputs": [
      {
       "output_type": "display_data",
       "png": "[encoded data removed]"
      }
     ],
     "prompt_number": 216
    },
    {
     "cell_type": "code",
     "collapsed": false,
     "input": [
      "# Try to cluster with Louvain\n",
      "#p = louvain.cluster(scores_squared, verbose = True)\n",
      "#print_clusters(p, labels)"
     ],
     "language": "python",
     "metadata": {},
     "outputs": [],
     "prompt_number": 225
    },
    {
     "cell_type": "code",
     "collapsed": false,
     "input": [
      "#from sklearn.cluster import AffinityPropagation\n",
      "#p_af = AffinityPropagation(affinity = 'precomputed').fit(scores_squared).labels_\n",
      "#print_clusters(p_af, files)"
     ],
     "language": "python",
     "metadata": {},
     "outputs": [],
     "prompt_number": 224
    },
    {
     "cell_type": "code",
     "collapsed": false,
     "input": [
      "#from sklearn.cluster import spectral_clustering\n",
      "#p_sp = spectral_clustering(scores_squared, n_clusters=5, assign_labels='kmeans')\n",
      "#print_clusters(p_sp, files)"
     ],
     "language": "python",
     "metadata": {},
     "outputs": [],
     "prompt_number": 223
    }
   ],
   "metadata": {}
  }
 ]
}
{
 "metadata": {
  "name": "Mirror Near Duplicate Small"
 },
 "nbformat": 3,
 "nbformat_minor": 0,
 "worksheets": [
  {
   "cells": [
    {
     "cell_type": "code",
     "collapsed": false,
     "input": [
      "#Stupid hack to load files from sibling dir\n",
      "import sys; import os\n",
      "sys.path.insert(0, os.path.abspath('..'))\n",
      "\n",
      "%load_ext autoreload\n",
      "%autoreload 2"
     ],
     "language": "python",
     "metadata": {},
     "outputs": [],
     "prompt_number": 2
    },
    {
     "cell_type": "code",
     "collapsed": false,
     "input": [
      "import display\n",
      "import matching\n",
      "from sklearn.neighbors.ball_tree import BallTree\n",
      "import ballmatch\n",
      "import features\n",
      "import numpy\n",
      "import louvain\n",
      "import mirrormatch\n",
      "import scipy\n",
      "import sklearn\n",
      "import scoring\n",
      "from itertools import combinations\n",
      "import os\n",
      "import duplicates\n",
      "import math"
     ],
     "language": "python",
     "metadata": {},
     "outputs": [],
     "prompt_number": 3
    },
    {
     "cell_type": "code",
     "collapsed": false,
     "input": [
      "folder = '../../images/near-duplicate samples small/'\n",
      "files, paths = duplicates.get_files(folder, verbose = True)"
     ],
     "language": "python",
     "metadata": {},
     "outputs": [
      {
       "output_type": "stream",
       "stream": "stdout",
       "text": [
        " 0: 604.jpg\n",
        " 1: 312.jpg\n",
        " 2: 668.jpg\n",
        " 3: 648.jpg\n",
        " 4: 689.jpg\n",
        " 5: 311.jpg\n",
        " 6: 572.jpg\n",
        " 7: 584.jpg\n",
        " 8: 688.jpg\n",
        " 9: 314.jpg\n",
        "10: 313.jpg\n",
        "11: 568.jpg\n",
        "12: 067.jpg\n",
        "13: 656.jpg\n",
        "14: 647.jpg\n",
        "15: 588.jpg\n",
        "16: 593.jpg\n",
        "17: 686.jpg\n",
        "18: 658.jpg\n",
        "19: 310.jpg\n"
       ]
      }
     ],
     "prompt_number": 4
    },
    {
     "cell_type": "code",
     "collapsed": false,
     "input": [
      "options = {\n",
      "       \"verbose\" : True,\n",
      "       \"kp_threshold\" : (0.05, 0.3),\n",
      "       \"neighbors\" : 10,\n",
      "       \"tree_type\" : \"flann\",\n",
      "}\n",
      "match_fun = duplicates.get_matches(paths, options)"
     ],
     "language": "python",
     "metadata": {},
     "outputs": [
      {
       "output_type": "stream",
       "stream": "stdout",
       "text": [
        ": : : "
       ]
      },
      {
       "output_type": "stream",
       "stream": "stdout",
       "text": [
        ": : : : "
       ]
      },
      {
       "output_type": "stream",
       "stream": "stdout",
       "text": [
        ": : : "
       ]
      },
      {
       "output_type": "stream",
       "stream": "stdout",
       "text": [
        ": : : "
       ]
      },
      {
       "output_type": "stream",
       "stream": "stdout",
       "text": [
        ": : : "
       ]
      },
      {
       "output_type": "stream",
       "stream": "stdout",
       "text": [
        ": : : "
       ]
      },
      {
       "output_type": "stream",
       "stream": "stdout",
       "text": [
        ": \n",
        "Keypoints collected: [479, 77, 319, 221, 225, 92, 467, 455, 185, 71, 92, 467, 205, 401, 212, 367, 511, 175, 294, 78]\n",
        "; ; "
       ]
      },
      {
       "output_type": "stream",
       "stream": "stdout",
       "text": [
        "; ; ; "
       ]
      },
      {
       "output_type": "stream",
       "stream": "stdout",
       "text": [
        "; ; ; "
       ]
      },
      {
       "output_type": "stream",
       "stream": "stdout",
       "text": [
        "; ; ; ; "
       ]
      },
      {
       "output_type": "stream",
       "stream": "stdout",
       "text": [
        "; ; ; "
       ]
      },
      {
       "output_type": "stream",
       "stream": "stdout",
       "text": [
        "; ; "
       ]
      },
      {
       "output_type": "stream",
       "stream": "stdout",
       "text": [
        "; ; ; \n",
        "Descriptors calculated: [479, 77, 319, 221, 225, 92, 467, 455, 185, 71, 92, 467, 205, 401, 212, 367, 511, 175, 294, 78]\n",
        "."
       ]
      },
      {
       "output_type": "stream",
       "stream": "stdout",
       "text": [
        " . . . . . . . "
       ]
      },
      {
       "output_type": "stream",
       "stream": "stdout",
       "text": [
        ". . . . . . . "
       ]
      },
      {
       "output_type": "stream",
       "stream": "stdout",
       "text": [
        ". . . . . \n",
        "\n",
        ". "
       ]
      },
      {
       "output_type": "stream",
       "stream": "stdout",
       "text": [
        ". . . . . . . "
       ]
      },
      {
       "output_type": "stream",
       "stream": "stdout",
       "text": [
        ". . . . . . . . "
       ]
      },
      {
       "output_type": "stream",
       "stream": "stdout",
       "text": [
        ". . . . "
       ]
      },
      {
       "output_type": "stream",
       "stream": "stdout",
       "text": [
        "\n",
        "48537 Matches found\n"
       ]
      }
     ],
     "prompt_number": 6
    },
    {
     "cell_type": "code",
     "collapsed": false,
     "input": [
      "scores, counts, labels = duplicates.get_scores(match_fun, files, threshold = 0.85)\n",
      "numpy.savez(\"califoniaND-small-flann\", scores = scores, counts = counts, labels = labels)\n",
      "data = numpy.load(\"califoniaND-small-flann.npz\")\n",
      "scores = data['scores']\n",
      "counts = data['counts']\n",
      "labels = data['labels']\n",
      "duplicates.print_scores(scores, labels)"
     ],
     "language": "python",
     "metadata": {},
     "outputs": [
      {
       "output_type": "stream",
       "stream": "stdout",
       "text": [
        "       067  310  311  312  313  314  568  572  584  588  593  604  647  648  656  658  668  686  688  689  \n",
        "    +-----------------------------------------------------------------------------------------------------\n",
        "067 |         2    5    2    4    1    9   13    9    8   10    6    9    7   44   65   40    5    6    5 \n",
        "310 |    2        11    8    4    6    6    4    2    4    3    3    3    4    1    3    2    5    3    1 \n",
        "311 |    5   11        15   14    9    6    7    4    5    6    4    3    5    5    4    5    4    5    5 \n",
        "312 |    2    8   15        15    9    4    3    4    3    4    6    3    2    3    4    5    3    4    2 \n",
        "313 |    4    4   14   15        27    9    8    8    8    4    3    6    5    5    4    6    4    6    5 \n",
        "314 |    1    6    9    9   27         4    3    4    5    5    2    4    5    3    3    5    1    3    3 \n",
        "568 |    9    6    6    4    9    4      5011  232  165  242  103    8   12   14   12   15    9   10   11 \n",
        "572 |   13    4    7    3    8    3 5011       106  138  158   46    7   12   13   12   12   10   11   12 \n",
        "584 |    9    2    4    4    8    4  232  106       411  586  499    8   11   13    9   10    6    5   10 \n",
        "588 |    8    4    5    3    8    5  165  138  411       520  215   10   12    9   10    9    7   11   10 \n",
        "593 |   10    3    6    4    4    5  242  158  586  520       433   15   16   14   10    8    8   12    8 \n",
        "604 |    6    3    4    6    3    2  103   46  499  215  433        11    9   10    9    7    6    8    9 \n",
        "647 |    9    3    3    3    6    4    8    7    8   10   15   11       229   13   10   11    5    9    7 \n",
        "648 |    7    4    5    2    5    5   12   12   11   12   16    9  229        10   10   11    6    7    8 \n",
        "656 |   44    1    5    3    5    3   14   13   13    9   14   10   13   10        29  179    8   10   11 \n",
        "658 |   65    3    4    4    4    3   12   12    9   10   10    9   10   10   29        16    9    7    8 \n",
        "668 |   40    2    5    5    6    5   15   12   10    9    8    7   11   11  179   16        10   11    7 \n",
        "686 |    5    5    4    3    4    1    9   10    6    7    8    6    5    6    8    9   10       181   11 \n",
        "688 |    6    3    5    4    6    3   10   11    5   11   12    8    9    7   10    7   11  181        12 \n",
        "689 |    5    1    5    2    5    3   11   12   10   10    8    9    7    8   11    8    7   11   12      \n"
       ]
      }
     ],
     "prompt_number": 12
    },
    {
     "cell_type": "code",
     "collapsed": false,
     "input": [
      "scores_norm_count = duplicates.norm_counts(scores, counts, modifier = 10000)\n",
      "duplicates.print_scores(scores_norm_count, labels)#, use_float=True)"
     ],
     "language": "python",
     "metadata": {},
     "outputs": [
      {
       "output_type": "stream",
       "stream": "stdout",
       "text": [
        "       067  310  311  312  313  314  568  572  584  588  593  604  647  648  656  658  668  686  688  689  \n",
        "    +-----------------------------------------------------------------------------------------------------\n",
        "067 |         7   20    9   16    4   16   24   16   17   18   11   24   19   95  159   95   15   17   15 \n",
        "310 |    7        71   56   27   48   14    9    5   11    6    8   10   13    3    9    7   21   11    5 \n",
        "311 |   20   71        97   78   59   14   15    8   11   11    9   11   17   14   11   15   17   18   16 \n",
        "312 |    9   56   97        87   61   10    6    8    7    8   13   12    8    8   11   15   13   15    9 \n",
        "313 |   16   27   78   87       167   18   17   17   18    8    7   23   18   12   12   18   14   23   17 \n",
        "314 |    4   48   59   61  167         8    7   10   13   10    5   17   18    9   11   15    6   14   13 \n",
        "568 |   16   14   14   10   18    8      6429  303  227  300  136   14   21   20   19   23   16   17   19 \n",
        "572 |   24    9   15    6   17    7 6429       140  191  196   61   13   20   19   19   19   18   20   21 \n",
        "584 |   16    5    8    8   17   10  303  140       580  742  674   14   20   19   15   15   11    9   17 \n",
        "588 |   17   11   11    7   18   13  227  191  580       692  306   20   22   14   17   16   14   21   18 \n",
        "593 |   18    6   11    8    8   10  300  196  742  692       553   25   26   20   15   13   13   21   13 \n",
        "604 |   11    8    9   13    7    5  136   61  674  306  553        19   17   14   15   11   12   15   15 \n",
        "647 |   24   10   11   12   23   17   14   13   14   20   25   19       589   27   22   25   15   26   18 \n",
        "648 |   19   13   17    8   18   18   21   20   20   22   26   17  589        21   22   24   18   18   20 \n",
        "656 |   95    3   14    8   12    9   20   19   19   14   20   14   27   21        54  325   17   22   22 \n",
        "658 |  159    9   11   11   12   11   19   19   15   17   15   15   22   22   54        33   22   18   17 \n",
        "668 |   95    7   15   15   18   15   23   19   15   16   13   11   25   24  325   33        25   26   15 \n",
        "686 |   15   21   17   13   14    6   16   18   11   14   13   12   15   18   17   22   25       557   31 \n",
        "688 |   17   11   18   15   23   14   17   20    9   21   21   15   26   18   22   18   26  557        32 \n",
        "689 |   15    5   16    9   17   13   19   21   17   18   13   15   18   20   22   17   15   31   32      \n"
       ]
      }
     ],
     "prompt_number": 8
    },
    {
     "cell_type": "code",
     "collapsed": false,
     "input": [
      "scores_capped = duplicates.cap(scores_norm_count, nb_sd = 0.2, multiplier = 100)\n",
      "duplicates.print_scores(scores_capped, labels) #,use_float=True)"
     ],
     "language": "python",
     "metadata": {},
     "outputs": [
      {
       "ename": "TypeError",
       "evalue": "cap() got an unexpected keyword argument 'multiplier'",
       "output_type": "pyerr",
       "traceback": [
        "\u001b[0;31m---------------------------------------------------------------------------\u001b[0m\n\u001b[0;31mTypeError\u001b[0m                                 Traceback (most recent call last)",
        "\u001b[0;32m<ipython-input-11-ff0b50bab9bf>\u001b[0m in \u001b[0;36m<module>\u001b[0;34m()\u001b[0m\n\u001b[0;32m----> 1\u001b[0;31m \u001b[0mscores_capped\u001b[0m \u001b[0;34m=\u001b[0m \u001b[0mduplicates\u001b[0m\u001b[0;34m.\u001b[0m\u001b[0mcap\u001b[0m\u001b[0;34m(\u001b[0m\u001b[0mscores_norm_count\u001b[0m\u001b[0;34m,\u001b[0m \u001b[0mnb_sd\u001b[0m \u001b[0;34m=\u001b[0m \u001b[0;36m0.2\u001b[0m\u001b[0;34m,\u001b[0m \u001b[0mmultiplier\u001b[0m \u001b[0;34m=\u001b[0m \u001b[0;36m100\u001b[0m\u001b[0;34m)\u001b[0m\u001b[0;34m\u001b[0m\u001b[0m\n\u001b[0m\u001b[1;32m      2\u001b[0m \u001b[0mduplicates\u001b[0m\u001b[0;34m.\u001b[0m\u001b[0mprint_scores\u001b[0m\u001b[0;34m(\u001b[0m\u001b[0mscores_capped\u001b[0m\u001b[0;34m,\u001b[0m \u001b[0mlabels\u001b[0m\u001b[0;34m)\u001b[0m \u001b[0;31m#,use_float=True)\u001b[0m\u001b[0;34m\u001b[0m\u001b[0m\n",
        "\u001b[0;31mTypeError\u001b[0m: cap() got an unexpected keyword argument 'multiplier'"
       ]
      }
     ],
     "prompt_number": 11
    },
    {
     "cell_type": "code",
     "collapsed": false,
     "input": [
      "min_cap = (numpy.mean(scores_capped) / numpy.max(scores_capped))\n",
      "max_cap = (numpy.mean(scores_capped)+ 2.0*numpy.std(scores_capped)) / numpy.max(scores_capped)\n",
      "scores_norm = duplicates.normalize_scores(scores_capped, score_bar = 0.00, cut_norm = (min_cap, max_cap), order = 0.01)\n",
      "duplicates.print_scores(scores_norm, labels, use_float= True)\n",
      "duplicates.heatmap(scores_norm, labels, cmap=cm.jet)"
     ],
     "language": "python",
     "metadata": {},
     "outputs": [
      {
       "output_type": "stream",
       "stream": "stdout",
       "text": [
        "       067  310  311  312  313  314  568  572  584  588  593  604  647  648  656  658  668  686  688  689  \n",
        "    +-----------------------------------------------------------------------------------------------------\n",
        "067 | 1.00      0.10                                              0.07      1.00 1.00 1.00           0.05 \n",
        "310 |      1.00 1.00 0.95 0.37 1.00                                    0.10                0.30 0.04      \n",
        "311 | 0.10 1.00 1.00 1.00 1.00 1.00                                    0.05                0.06 0.12      \n",
        "312 |      0.95 1.00 1.00 1.00 1.00                                                   0.04      0.03      \n",
        "313 |      0.37 1.00 1.00 1.00 1.00                                                                  0.02 \n",
        "314 |      1.00 1.00 1.00 1.00 1.00                                                                  0.03 \n",
        "568 |                               1.00 1.00 1.00 1.00 1.00 0.91                                         \n",
        "572 |                               1.00 1.00 0.91 1.00 1.00 0.27                                         \n",
        "584 |                               1.00 0.91 1.00 1.00 1.00 1.00                                         \n",
        "588 |                               1.00 1.00 1.00 1.00 1.00 1.00                                         \n",
        "593 |                               1.00 1.00 1.00 1.00 1.00 1.00                                         \n",
        "604 |                               0.91 0.27 1.00 1.00 1.00 1.00                                         \n",
        "647 | 0.07                                                        1.00 1.00      0.04                0.64 \n",
        "648 |      0.10 0.05                                              1.00 1.00                          0.69 \n",
        "656 | 1.00                                                                  1.00 0.50 1.00           0.17 \n",
        "658 | 1.00                                                        0.04      0.50 1.00 0.14           0.34 \n",
        "668 | 1.00           0.04                                                   1.00 0.14 1.00           0.02 \n",
        "686 |      0.30 0.06                                                                       1.00 1.00 1.00 \n",
        "688 |      0.04 0.12 0.03                                                                  1.00 1.00 1.00 \n",
        "689 | 0.05                0.02 0.03                               0.64 0.69 0.17 0.34 0.02 1.00 1.00 1.00 \n"
       ]
      },
      {
       "output_type": "display_data",
       "png": "[encoded data removed]"
      }
     ],
     "prompt_number": 20
    },
    {
     "cell_type": "code",
     "collapsed": false,
     "input": [
      "h = hist(scores[scores < 100], bins = numpy.concatenate((numpy.linspace(0,10,40),[1000])), range = (0,9.5) )\n",
      "xlim(0,10.25)"
     ],
     "language": "python",
     "metadata": {},
     "outputs": [
      {
       "output_type": "pyout",
       "prompt_number": 147,
       "text": [
        "(0, 10.25)"
       ]
      },
      {
       "output_type": "display_data",
       "png": "[encoded data removed]"
      }
     ],
     "prompt_number": 147
    },
    {
     "cell_type": "code",
     "collapsed": false,
     "input": [
      "for i in range(scores_test_norm.shape[0]) :\n",
      "    scores_test_norm[i,i] = 1\n",
      "scores_squared = duplicates.normalize_scores(scores_norm.dot(scores_norm), score_bar = 1, cut_norm = (0.4, 0.8), order = 0, max_dist = 999, diagonal = 1)\n",
      "duplicates.heatmap(scores_squared, labels, cmap = cm.jet)"
     ],
     "language": "python",
     "metadata": {},
     "outputs": [
      {
       "output_type": "display_data",
       "png": "[encoded data removed]"
      }
     ],
     "prompt_number": 585
    },
    {
     "cell_type": "code",
     "collapsed": false,
     "input": [
      "# Try to cluster with Louvain\n",
      "#p = louvain.cluster(scores_squared, verbose = True)\n",
      "#print_clusters(p, labels)"
     ],
     "language": "python",
     "metadata": {},
     "outputs": [],
     "prompt_number": 225
    },
    {
     "cell_type": "code",
     "collapsed": false,
     "input": [
      "#from sklearn.cluster import AffinityPropagation\n",
      "#p_af = AffinityPropagation(affinity = 'precomputed').fit(scores_squared).labels_\n",
      "#print_clusters(p_af, files)"
     ],
     "language": "python",
     "metadata": {},
     "outputs": [],
     "prompt_number": 224
    },
    {
     "cell_type": "code",
     "collapsed": false,
     "input": [
      "#from sklearn.cluster import spectral_clustering\n",
      "#p_sp = spectral_clustering(scores_squared, n_clusters=5, assign_labels='kmeans')\n",
      "#print_clusters(p_sp, files)"
     ],
     "language": "python",
     "metadata": {},
     "outputs": [],
     "prompt_number": 223
    }
   ],
   "metadata": {}
  }
 ]
}
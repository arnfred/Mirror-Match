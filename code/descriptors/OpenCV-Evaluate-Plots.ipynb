{
 "metadata": {
  "name": "OpenCV-Evaluate-Plots"
 },
 "nbformat": 3,
 "nbformat_minor": 0,
 "worksheets": [
  {
   "cells": [
    {
     "cell_type": "code",
     "collapsed": false,
     "input": [
      "import sys; import os\n",
      "sys.path.insert(0, os.path.abspath('..'))"
     ],
     "language": "python",
     "metadata": {},
     "outputs": [],
     "prompt_number": 1
    },
    {
     "cell_type": "code",
     "collapsed": false,
     "input": [
      "import evaluate\n",
      "import os\n",
      "import fnmatch\n",
      "import display\n",
      "import numpy\n",
      "import cv2\n",
      "import features\n",
      "\n",
      "# testset = \"../../images/testsets/WC818C/\"\n",
      "testset = \"../../images/testsets/small_test/\"\n",
      "\n",
      "# Get a list of all images\n",
      "paths = [testset + f for (_,_,filenames) in os.walk(testset) for f in fnmatch.filter(filenames, \"*.png\")]\n",
      "images = [cv2.imread(path) for path in paths]\n",
      "labels = map(features.getLabel, paths)"
     ],
     "language": "python",
     "metadata": {},
     "outputs": [],
     "prompt_number": 2
    },
    {
     "cell_type": "code",
     "collapsed": false,
     "input": [
      "# Create a function for comparing ratios for use in comparisons\n",
      "def comp(i, s, u) :\n",
      "    n = len(i)/2\n",
      "    treshold_dist = sorted(s)[n]\n",
      "    treshold_ratio = sorted(u)[n]\n",
      "    dist = [s_i for (s_i,u_i) in zip(s,u) if (s_i <= treshold_dist and u_i <= treshold_ratio)]\n",
      "\n",
      "    return numpy.mean(sorted(dist)[:10])"
     ],
     "language": "python",
     "metadata": {},
     "outputs": [],
     "prompt_number": 3
    },
    {
     "cell_type": "code",
     "collapsed": false,
     "input": [
      "%time result = evaluate.imageToImage(images, paths, \"ORB\", \"BRIEF\", comp)\n",
      "print\n",
      "display.scoreHist(result)\n"
     ],
     "language": "python",
     "metadata": {},
     "outputs": [
      {
       "output_type": "stream",
       "stream": "stdout",
       "text": [
        "here\n",
        "=====\n",
        "##"
       ]
      },
      {
       "output_type": "stream",
       "stream": "stdout",
       "text": [
        "##"
       ]
      },
      {
       "output_type": "stream",
       "stream": "stdout",
       "text": [
        "#\n",
        "CPU times: user 0.43 s, sys: 0.05 s, total: 0.48 s\n",
        "Wall time: 0.58 s\n",
        "\n",
        "Mean(same):\t\t39.460\n",
        "Mean(diff):\t\t44.693\n",
        "Diff of means:\t\t5.233\n",
        "Standard deviation:\t7.441\n",
        "# of sd's:\t\t0.703\n"
       ]
      },
      {
       "output_type": "display_data",
       "png": "[encoded data removed]"
      }
     ],
     "prompt_number": 19
    },
    {
     "cell_type": "code",
     "collapsed": false,
     "input": [
      "import featureGraph\n",
      "import louvain\n",
      "    \n",
      "g = featureGraph.makeFaceGraph(paths, result, 2.7)\n",
      "cluster, nb_clusters = louvain.cluster(g)\n",
      "display.faceGraph(g, cluster, \"evaluate-facegraph.png\")"
     ],
     "language": "python",
     "metadata": {},
     "outputs": [],
     "prompt_number": 21
    },
    {
     "cell_type": "code",
     "collapsed": false,
     "input": [
      "min_val = numpy.min(map(lambda r : r[1],result))\n",
      "max_val = numpy.max(map(lambda r : r[1],result))\n",
      "n = 500\n",
      "tresholds = numpy.linspace(min_val,max_val,n)\n",
      "same = [s for b,s,p in result if b]\n",
      "diff = [s for b,s,p in result if not b]\n",
      "sum_same = float(len(same))\n",
      "sum_diff = float(len(diff))\n",
      "false_positive_rate = [(len([s for s in diff if s < t]) / sum_diff)*100 for t in tresholds]\n",
      "true_positive_rate = [len([s for s in same if s < t]) / sum_same for t in tresholds]\n",
      "import pylab\n",
      "fig = pylab.figure()\n",
      "ax = fig.add_subplot(1,1,1)\n",
      "ax.plot(false_positive_rate, true_positive_rate)\n",
      "ax.set_xscale('log')"
     ],
     "language": "python",
     "metadata": {},
     "outputs": [
      {
       "output_type": "display_data",
       "png": "[encoded data removed]"
      }
     ],
     "prompt_number": 37
    },
    {
     "cell_type": "code",
     "collapsed": false,
     "input": [
      "%load_ext autoreload\n",
      "%autoreload 2"
     ],
     "language": "python",
     "metadata": {},
     "outputs": []
    },
    {
     "cell_type": "code",
     "collapsed": false,
     "input": [
      "len((1,2,3))"
     ],
     "language": "python",
     "metadata": {},
     "outputs": [
      {
       "output_type": "pyout",
       "prompt_number": 18,
       "text": [
        "3"
       ]
      }
     ],
     "prompt_number": 18
    }
   ],
   "metadata": {}
  }
 ]
}
{
 "metadata": {
  "name": "OpenCV-Evaluate"
 },
 "nbformat": 3,
 "nbformat_minor": 0,
 "worksheets": [
  {
   "cells": [
    {
     "cell_type": "code",
     "collapsed": false,
     "input": [
      "import evaluate\n",
      "import os\n",
      "import fnmatch\n",
      "import display\n",
      "\n",
      "# testset = \"../../images/testsets/WC818C/\"\n",
      "testset = \"../../images/testsets/small_test/\"\n",
      "\n",
      "# Get a list of all images\n",
      "paths = [testset + f for (_,_,filenames) in os.walk(testset) for f in fnmatch.filter(filenames, \"*.png\")]\n",
      "\n",
      "print(paths)"
     ],
     "language": "python",
     "metadata": {},
     "outputs": [
      {
       "output_type": "stream",
       "stream": "stdout",
       "text": [
        "['../../images/testsets/small_test/Anna_Kournikova_0005.png', '../../images/testsets/small_test/Bill_Gates_0003.png', '../../images/testsets/small_test/Anna_Kournikova_0009.png', '../../images/testsets/small_test/Ann_Veneman_0005.png', '../../images/testsets/small_test/Bill_Gates_0002.png', '../../images/testsets/small_test/Bill_Gates_0004.png', '../../images/testsets/small_test/Ann_Veneman_0002.png', '../../images/testsets/small_test/Bill_Gates_0006.png', '../../images/testsets/small_test/Ann_Veneman_0009.png', '../../images/testsets/small_test/Bill_Gates_0016.png', '../../images/testsets/small_test/Bill_Gates_0008.png', '../../images/testsets/small_test/Bill_Gates_0007.png', '../../images/testsets/small_test/Anna_Kournikova_0003.png', '../../images/testsets/small_test/Bill_Gates_0013.png', '../../images/testsets/small_test/Anna_Kournikova_0006.png', '../../images/testsets/small_test/Ann_Veneman_0010.png', '../../images/testsets/small_test/Ann_Veneman_0004.png', '../../images/testsets/small_test/Anna_Kournikova_0010.png', '../../images/testsets/small_test/Ann_Veneman_0011.png', '../../images/testsets/small_test/Anna_Kournikova_0001.png', '../../images/testsets/small_test/Ann_Veneman_0006.png', '../../images/testsets/small_test/Anna_Kournikova_0012.png', '../../images/testsets/small_test/Bill_Gates_0015.png', '../../images/testsets/small_test/Anna_Kournikova_0004.png', '../../images/testsets/small_test/Anna_Kournikova_0011.png', '../../images/testsets/small_test/Anna_Kournikova_0008.png', '../../images/testsets/small_test/Bill_Gates_0005.png', '../../images/testsets/small_test/Ann_Veneman_0001.png', '../../images/testsets/small_test/Ann_Veneman_0008.png', '../../images/testsets/small_test/Ann_Veneman_0003.png']\n"
       ]
      }
     ],
     "prompt_number": "*"
    },
    {
     "cell_type": "code",
     "collapsed": false,
     "input": [
      "# First test with default scoring:\n",
      "result = evaluate.imageToImage(paths, \"ORB\", \"ORB\")\n",
      "print(\"here\")\n",
      "display.scoreHist(result)\n",
      "[1,2,3]"
     ],
     "language": "python",
     "metadata": {},
     "outputs": [],
     "prompt_number": "*"
    },
    {
     "cell_type": "code",
     "collapsed": false,
     "input": [
      "%load_ext autoreload\n",
      "%autoreload 2"
     ],
     "language": "python",
     "metadata": {},
     "outputs": [],
     "prompt_number": "*"
    }
   ],
   "metadata": {}
  }
 ]
}
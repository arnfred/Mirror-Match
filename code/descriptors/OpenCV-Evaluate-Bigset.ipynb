{
 "metadata": {
  "name": "OpenCV-Evaluate-Bigset"
 },
 "nbformat": 3,
 "nbformat_minor": 0,
 "worksheets": [
  {
   "cells": [
    {
     "cell_type": "code",
     "collapsed": false,
     "input": [
      "import evaluate\n",
      "import os\n",
      "import fnmatch\n",
      "import display\n",
      "import numpy\n",
      "\n",
      "testset = \"../../images/testsets/WC818C/\"\n",
      "# testset = \"../../images/testsets/small_test/\"\n",
      "\n",
      "# Get a list of all images\n",
      "paths = [testset + f for (_,_,filenames) in os.walk(testset) for f in fnmatch.filter(filenames, \"*.png\")]"
     ],
     "language": "python",
     "metadata": {},
     "outputs": [],
     "prompt_number": "*"
    },
    {
     "cell_type": "markdown",
     "metadata": {},
     "source": [
      "# FAST BRIEF #"
     ]
    },
    {
     "cell_type": "code",
     "collapsed": false,
     "input": [
      "# Create a function for comparing ratios for use in comparisons\n",
      "def comp(i, s, u) :\n",
      "    n = len(i)/2\n",
      "    treshold_dist = sorted(s)[n]\n",
      "    treshold_ratio = sorted(u)[n]\n",
      "    dist = [s_i for (s_i,u_i) in zip(s,u) if (s_i <= treshold_dist and u_i <= treshold_ratio)]\n",
      "\n",
      "    return numpy.mean(dist[:10])\n",
      "\n",
      "%time result = evaluate.imageToImage(paths, \"FAST\", \"BRIEF\", comp)\n",
      "print\n",
      "display.scoreHist(result)\n"
     ],
     "language": "python",
     "metadata": {},
     "outputs": [
      {
       "output_type": "stream",
       "stream": "stdout",
       "text": [
        "======================================================================================================================================================================================================================================================================================================================================================================================================================================================================================================================================================================================================================================================================================================================================================================================================================================================================================================================================================================================================================================================================================================================================================================================================================================================================================================================================================================================================================================================================================================================================================================================================================================================================================================================================================================================================================================================================\n",
        "##"
       ]
      },
      {
       "output_type": "stream",
       "stream": "stdout",
       "text": [
        "##"
       ]
      },
      {
       "output_type": "stream",
       "stream": "stdout",
       "text": [
        "##"
       ]
      },
      {
       "output_type": "stream",
       "stream": "stdout",
       "text": [
        "##"
       ]
      },
      {
       "output_type": "stream",
       "stream": "stdout",
       "text": [
        "##"
       ]
      },
      {
       "output_type": "stream",
       "stream": "stdout",
       "text": [
        "##"
       ]
      },
      {
       "output_type": "stream",
       "stream": "stdout",
       "text": [
        "##"
       ]
      },
      {
       "output_type": "stream",
       "stream": "stdout",
       "text": [
        "##"
       ]
      },
      {
       "output_type": "stream",
       "stream": "stdout",
       "text": [
        "##"
       ]
      },
      {
       "output_type": "stream",
       "stream": "stdout",
       "text": [
        "##"
       ]
      },
      {
       "output_type": "stream",
       "stream": "stdout",
       "text": [
        "##"
       ]
      },
      {
       "output_type": "stream",
       "stream": "stdout",
       "text": [
        "###"
       ]
      },
      {
       "output_type": "stream",
       "stream": "stdout",
       "text": [
        "###"
       ]
      },
      {
       "output_type": "stream",
       "stream": "stdout",
       "text": [
        "###"
       ]
      },
      {
       "output_type": "stream",
       "stream": "stdout",
       "text": [
        "###"
       ]
      },
      {
       "output_type": "stream",
       "stream": "stdout",
       "text": [
        "###"
       ]
      },
      {
       "output_type": "stream",
       "stream": "stdout",
       "text": [
        "##"
       ]
      },
      {
       "output_type": "stream",
       "stream": "stdout",
       "text": [
        "###"
       ]
      },
      {
       "output_type": "stream",
       "stream": "stdout",
       "text": [
        "##"
       ]
      },
      {
       "output_type": "stream",
       "stream": "stdout",
       "text": [
        "##"
       ]
      },
      {
       "output_type": "stream",
       "stream": "stdout",
       "text": [
        "##"
       ]
      },
      {
       "output_type": "stream",
       "stream": "stdout",
       "text": [
        "###"
       ]
      },
      {
       "output_type": "stream",
       "stream": "stdout",
       "text": [
        "###"
       ]
      },
      {
       "output_type": "stream",
       "stream": "stdout",
       "text": [
        "###"
       ]
      },
      {
       "output_type": "stream",
       "stream": "stdout",
       "text": [
        "###"
       ]
      },
      {
       "output_type": "stream",
       "stream": "stdout",
       "text": [
        "##"
       ]
      },
      {
       "output_type": "stream",
       "stream": "stdout",
       "text": [
        "##"
       ]
      },
      {
       "output_type": "stream",
       "stream": "stdout",
       "text": [
        "##"
       ]
      },
      {
       "output_type": "stream",
       "stream": "stdout",
       "text": [
        "##"
       ]
      },
      {
       "output_type": "stream",
       "stream": "stdout",
       "text": [
        "##"
       ]
      },
      {
       "output_type": "stream",
       "stream": "stdout",
       "text": [
        "##"
       ]
      },
      {
       "output_type": "stream",
       "stream": "stdout",
       "text": [
        "##"
       ]
      },
      {
       "output_type": "stream",
       "stream": "stdout",
       "text": [
        "##"
       ]
      },
      {
       "output_type": "stream",
       "stream": "stdout",
       "text": [
        "##"
       ]
      },
      {
       "output_type": "stream",
       "stream": "stdout",
       "text": [
        "###"
       ]
      },
      {
       "output_type": "stream",
       "stream": "stdout",
       "text": [
        "###"
       ]
      },
      {
       "output_type": "stream",
       "stream": "stdout",
       "text": [
        "##"
       ]
      },
      {
       "output_type": "stream",
       "stream": "stdout",
       "text": [
        "###"
       ]
      },
      {
       "output_type": "stream",
       "stream": "stdout",
       "text": [
        "##"
       ]
      },
      {
       "output_type": "stream",
       "stream": "stdout",
       "text": [
        "##"
       ]
      },
      {
       "output_type": "stream",
       "stream": "stdout",
       "text": [
        "##"
       ]
      },
      {
       "output_type": "stream",
       "stream": "stdout",
       "text": [
        "###"
       ]
      },
      {
       "output_type": "stream",
       "stream": "stdout",
       "text": [
        "###"
       ]
      },
      {
       "output_type": "stream",
       "stream": "stdout",
       "text": [
        "##"
       ]
      },
      {
       "output_type": "stream",
       "stream": "stdout",
       "text": [
        "##"
       ]
      },
      {
       "output_type": "stream",
       "stream": "stdout",
       "text": [
        "##"
       ]
      },
      {
       "output_type": "stream",
       "stream": "stdout",
       "text": [
        "##"
       ]
      },
      {
       "output_type": "stream",
       "stream": "stdout",
       "text": [
        "##"
       ]
      },
      {
       "output_type": "stream",
       "stream": "stdout",
       "text": [
        "##"
       ]
      },
      {
       "output_type": "stream",
       "stream": "stdout",
       "text": [
        "###"
       ]
      },
      {
       "output_type": "stream",
       "stream": "stdout",
       "text": [
        "###"
       ]
      },
      {
       "output_type": "stream",
       "stream": "stdout",
       "text": [
        "##"
       ]
      },
      {
       "output_type": "stream",
       "stream": "stdout",
       "text": [
        "##"
       ]
      },
      {
       "output_type": "stream",
       "stream": "stdout",
       "text": [
        "##"
       ]
      },
      {
       "output_type": "stream",
       "stream": "stdout",
       "text": [
        "##"
       ]
      },
      {
       "output_type": "stream",
       "stream": "stdout",
       "text": [
        "##"
       ]
      },
      {
       "output_type": "stream",
       "stream": "stdout",
       "text": [
        "###"
       ]
      },
      {
       "output_type": "stream",
       "stream": "stdout",
       "text": [
        "###"
       ]
      },
      {
       "output_type": "stream",
       "stream": "stdout",
       "text": [
        "###"
       ]
      },
      {
       "output_type": "stream",
       "stream": "stdout",
       "text": [
        "###"
       ]
      },
      {
       "output_type": "stream",
       "stream": "stdout",
       "text": [
        "###"
       ]
      },
      {
       "output_type": "stream",
       "stream": "stdout",
       "text": [
        "###"
       ]
      },
      {
       "output_type": "stream",
       "stream": "stdout",
       "text": [
        "###"
       ]
      },
      {
       "output_type": "stream",
       "stream": "stdout",
       "text": [
        "###"
       ]
      },
      {
       "output_type": "stream",
       "stream": "stdout",
       "text": [
        "###"
       ]
      },
      {
       "output_type": "stream",
       "stream": "stdout",
       "text": [
        "###"
       ]
      },
      {
       "output_type": "stream",
       "stream": "stdout",
       "text": [
        "##"
       ]
      },
      {
       "output_type": "stream",
       "stream": "stdout",
       "text": [
        "###"
       ]
      },
      {
       "output_type": "stream",
       "stream": "stdout",
       "text": [
        "###"
       ]
      },
      {
       "output_type": "stream",
       "stream": "stdout",
       "text": [
        "###"
       ]
      },
      {
       "output_type": "stream",
       "stream": "stdout",
       "text": [
        "###"
       ]
      },
      {
       "output_type": "stream",
       "stream": "stdout",
       "text": [
        "###"
       ]
      },
      {
       "output_type": "stream",
       "stream": "stdout",
       "text": [
        "###"
       ]
      },
      {
       "output_type": "stream",
       "stream": "stdout",
       "text": [
        "###"
       ]
      },
      {
       "output_type": "stream",
       "stream": "stdout",
       "text": [
        "####"
       ]
      },
      {
       "output_type": "stream",
       "stream": "stdout",
       "text": [
        "###"
       ]
      },
      {
       "output_type": "stream",
       "stream": "stdout",
       "text": [
        "##"
       ]
      },
      {
       "output_type": "stream",
       "stream": "stdout",
       "text": [
        "##"
       ]
      },
      {
       "output_type": "stream",
       "stream": "stdout",
       "text": [
        "##"
       ]
      },
      {
       "output_type": "stream",
       "stream": "stdout",
       "text": [
        "##"
       ]
      },
      {
       "output_type": "stream",
       "stream": "stdout",
       "text": [
        "##"
       ]
      },
      {
       "output_type": "stream",
       "stream": "stdout",
       "text": [
        "##"
       ]
      },
      {
       "output_type": "stream",
       "stream": "stdout",
       "text": [
        "##"
       ]
      },
      {
       "output_type": "stream",
       "stream": "stdout",
       "text": [
        "##"
       ]
      },
      {
       "output_type": "stream",
       "stream": "stdout",
       "text": [
        "##"
       ]
      },
      {
       "output_type": "stream",
       "stream": "stdout",
       "text": [
        "###"
       ]
      },
      {
       "output_type": "stream",
       "stream": "stdout",
       "text": [
        "###"
       ]
      },
      {
       "output_type": "stream",
       "stream": "stdout",
       "text": [
        "###"
       ]
      },
      {
       "output_type": "stream",
       "stream": "stdout",
       "text": [
        "##"
       ]
      },
      {
       "output_type": "stream",
       "stream": "stdout",
       "text": [
        "##"
       ]
      },
      {
       "output_type": "stream",
       "stream": "stdout",
       "text": [
        "##"
       ]
      },
      {
       "output_type": "stream",
       "stream": "stdout",
       "text": [
        "##"
       ]
      },
      {
       "output_type": "stream",
       "stream": "stdout",
       "text": [
        "##"
       ]
      },
      {
       "output_type": "stream",
       "stream": "stdout",
       "text": [
        "##"
       ]
      },
      {
       "output_type": "stream",
       "stream": "stdout",
       "text": [
        "##"
       ]
      },
      {
       "output_type": "stream",
       "stream": "stdout",
       "text": [
        "##"
       ]
      },
      {
       "output_type": "stream",
       "stream": "stdout",
       "text": [
        "###"
       ]
      },
      {
       "output_type": "stream",
       "stream": "stdout",
       "text": [
        "###"
       ]
      },
      {
       "output_type": "stream",
       "stream": "stdout",
       "text": [
        "###"
       ]
      }
     ],
     "prompt_number": "*"
    },
    {
     "cell_type": "code",
     "collapsed": false,
     "input": [
      "# Create a function for comparing ratios for use in comparisons\n",
      "def comp(i, s, u) :\n",
      "    n = len(i)/2\n",
      "    treshold_dist = sorted(s)[n]\n",
      "    treshold_ratio = sorted(u)[n]\n",
      "    dist = [s_i for (s_i,u_i) in zip(s,u) if (s_i <= treshold_dist and u_i <= treshold_ratio)]\n",
      "\n",
      "    return numpy.mean(dist)\n",
      "\n",
      "%time result = evaluate.imageToImage(paths, \"FAST\", \"BRIEF\", comp)\n",
      "print\n",
      "display.scoreHist(result)\n"
     ],
     "language": "python",
     "metadata": {},
     "outputs": [],
     "prompt_number": "*"
    },
    {
     "cell_type": "code",
     "collapsed": false,
     "input": [
      "# Create a function for comparing ratios for use in comparisons\n",
      "def comp(i, s, u) :\n",
      "    n = len(i)/2\n",
      "\n",
      "    return numpy.mean(sorted(s)[:n])\n",
      "\n",
      "%time result = evaluate.imageToImage(paths, \"FAST\", \"BRIEF\", comp)\n",
      "print\n",
      "display.scoreHist(result)"
     ],
     "language": "python",
     "metadata": {},
     "outputs": [],
     "prompt_number": "*"
    },
    {
     "cell_type": "code",
     "collapsed": false,
     "input": [
      "# Create a function for comparing ratios for use in comparisons\n",
      "def comp(i, s, u) :\n",
      "\n",
      "    return numpy.mean(s)\n",
      "\n",
      "%time result = evaluate.imageToImage(paths, \"FAST\", \"BRIEF\", comp)\n",
      "print\n",
      "display.scoreHist(result)"
     ],
     "language": "python",
     "metadata": {},
     "outputs": [],
     "prompt_number": "*"
    },
    {
     "cell_type": "markdown",
     "metadata": {},
     "source": [
      "# ORB BRIEF #"
     ]
    },
    {
     "cell_type": "code",
     "collapsed": false,
     "input": [
      "# Create a function for comparing ratios for use in comparisons\n",
      "def comp(i, s, u) :\n",
      "    n = len(i)/2\n",
      "    treshold_dist = sorted(s)[n]\n",
      "    treshold_ratio = sorted(u)[n]\n",
      "    dist = [s_i for (s_i,u_i) in zip(s,u) if (s_i <= treshold_dist and u_i <= treshold_ratio)]\n",
      "\n",
      "    return numpy.mean(dist[:10])\n",
      "\n",
      "%time result = evaluate.imageToImage(paths, \"ORB\", \"BRIEF\", comp)\n",
      "print\n",
      "display.scoreHist(result)\n"
     ],
     "language": "python",
     "metadata": {},
     "outputs": [],
     "prompt_number": "*"
    },
    {
     "cell_type": "code",
     "collapsed": false,
     "input": [
      "# Create a function for comparing ratios for use in comparisons\n",
      "def comp(i, s, u) :\n",
      "    n = len(i)/2\n",
      "    treshold_dist = sorted(s)[n]\n",
      "    treshold_ratio = sorted(u)[n]\n",
      "    dist = [s_i for (s_i,u_i) in zip(s,u) if (s_i <= treshold_dist and u_i <= treshold_ratio)]\n",
      "\n",
      "    return numpy.mean(dist)\n",
      "\n",
      "%time result = evaluate.imageToImage(paths, \"ORB\", \"BRIEF\", comp)\n",
      "print\n",
      "display.scoreHist(result)\n"
     ],
     "language": "python",
     "metadata": {},
     "outputs": [],
     "prompt_number": "*"
    },
    {
     "cell_type": "code",
     "collapsed": false,
     "input": [
      "# Create a function for comparing ratios for use in comparisons\n",
      "def comp(i, s, u) :\n",
      "    n = len(i)/2\n",
      "\n",
      "    return numpy.mean(sorted(s)[:n])\n",
      "\n",
      "%time result = evaluate.imageToImage(paths, \"ORB\", \"BRIEF\", comp)\n",
      "print\n",
      "display.scoreHist(result)"
     ],
     "language": "python",
     "metadata": {},
     "outputs": [],
     "prompt_number": "*"
    },
    {
     "cell_type": "code",
     "collapsed": false,
     "input": [
      "# Create a function for comparing ratios for use in comparisons\n",
      "def comp(i, s, u) :\n",
      "\n",
      "    return numpy.mean(s)\n",
      "\n",
      "%time result = evaluate.imageToImage(paths, \"ORB\", \"BRIEF\", comp)\n",
      "print\n",
      "display.scoreHist(result)"
     ],
     "language": "python",
     "metadata": {},
     "outputs": [],
     "prompt_number": "*"
    },
    {
     "cell_type": "markdown",
     "metadata": {},
     "source": [
      "# FAST ORB #"
     ]
    },
    {
     "cell_type": "code",
     "collapsed": false,
     "input": [
      "# Create a function for comparing ratios for use in comparisons\n",
      "def comp(i, s, u) :\n",
      "    n = len(i)/2\n",
      "    treshold_dist = sorted(s)[n]\n",
      "    treshold_ratio = sorted(u)[n]\n",
      "    dist = [s_i for (s_i,u_i) in zip(s,u) if (s_i <= treshold_dist and u_i <= treshold_ratio)]\n",
      "\n",
      "    return numpy.mean(dist[:10])\n",
      "\n",
      "%time result = evaluate.imageToImage(paths, \"FAST\", \"ORB\", comp)\n",
      "print\n",
      "display.scoreHist(result)\n"
     ],
     "language": "python",
     "metadata": {},
     "outputs": [],
     "prompt_number": "*"
    },
    {
     "cell_type": "code",
     "collapsed": false,
     "input": [
      "# Create a function for comparing ratios for use in comparisons\n",
      "def comp(i, s, u) :\n",
      "    n = len(i)/2\n",
      "    treshold_dist = sorted(s)[n]\n",
      "    treshold_ratio = sorted(u)[n]\n",
      "    dist = [s_i for (s_i,u_i) in zip(s,u) if (s_i <= treshold_dist and u_i <= treshold_ratio)]\n",
      "\n",
      "    return numpy.mean(dist)\n",
      "\n",
      "%time result = evaluate.imageToImage(paths, \"FAST\", \"ORB\", comp)\n",
      "print\n",
      "display.scoreHist(result)\n"
     ],
     "language": "python",
     "metadata": {},
     "outputs": [],
     "prompt_number": "*"
    },
    {
     "cell_type": "code",
     "collapsed": false,
     "input": [
      "# Create a function for comparing ratios for use in comparisons\n",
      "def comp(i, s, u) :\n",
      "    n = len(i)/2\n",
      "    return numpy.mean(sorted(s)[:n])\n",
      "\n",
      "%time result = evaluate.imageToImage(paths, \"FAST\", \"ORB\", comp)\n",
      "print\n",
      "display.scoreHist(result)\n"
     ],
     "language": "python",
     "metadata": {},
     "outputs": [],
     "prompt_number": "*"
    },
    {
     "cell_type": "code",
     "collapsed": false,
     "input": [
      "# Create a function for comparing ratios for use in comparisons\n",
      "def comp(i, s, u) :\n",
      "    return numpy.mean(s)\n",
      "\n",
      "%time result = evaluate.imageToImage(paths, \"FAST\", \"ORB\", comp)\n",
      "print\n",
      "display.scoreHist(result)\n"
     ],
     "language": "python",
     "metadata": {},
     "outputs": [],
     "prompt_number": "*"
    },
    {
     "cell_type": "markdown",
     "metadata": {},
     "source": [
      "# ORB ORB #"
     ]
    },
    {
     "cell_type": "code",
     "collapsed": false,
     "input": [
      "# Create a function for comparing ratios for use in comparisons\n",
      "def comp(i, s, u) :\n",
      "    n = len(i)/2\n",
      "    treshold_dist = sorted(s)[n]\n",
      "    treshold_ratio = sorted(u)[n]\n",
      "    dist = [s_i for (s_i,u_i) in zip(s,u) if (s_i <= treshold_dist and u_i <= treshold_ratio)]\n",
      "\n",
      "    return numpy.mean(dist[:10])\n",
      "\n",
      "%time result = evaluate.imageToImage(paths, \"ORB\", \"ORB\", comp)\n",
      "print\n",
      "display.scoreHist(result)\n"
     ],
     "language": "python",
     "metadata": {},
     "outputs": [],
     "prompt_number": "*"
    },
    {
     "cell_type": "code",
     "collapsed": false,
     "input": [
      "# Create a function for comparing ratios for use in comparisons\n",
      "def comp(i, s, u) :\n",
      "    n = len(i)/2\n",
      "    treshold_dist = sorted(s)[n]\n",
      "    treshold_ratio = sorted(u)[n]\n",
      "    dist = [s_i for (s_i,u_i) in zip(s,u) if (s_i <= treshold_dist and u_i <= treshold_ratio)]\n",
      "\n",
      "    return numpy.mean(dist)\n",
      "\n",
      "%time result = evaluate.imageToImage(paths, \"ORB\", \"ORB\", comp)\n",
      "print\n",
      "display.scoreHist(result)\n"
     ],
     "language": "python",
     "metadata": {},
     "outputs": [],
     "prompt_number": "*"
    },
    {
     "cell_type": "code",
     "collapsed": false,
     "input": [
      "# Create a function for comparing ratios for use in comparisons\n",
      "def comp(i, s, u) :\n",
      "    n = len(i)/2\n",
      "    return numpy.mean(sorted(s)[:n])\n",
      "\n",
      "%time result = evaluate.imageToImage(paths, \"ORB\", \"ORB\", comp)\n",
      "print\n",
      "display.scoreHist(result)\n"
     ],
     "language": "python",
     "metadata": {},
     "outputs": [],
     "prompt_number": "*"
    },
    {
     "cell_type": "code",
     "collapsed": false,
     "input": [
      "# Create a function for comparing ratios for use in comparisons\n",
      "def comp(i, s, u) :\n",
      "    n = len(i)/2\n",
      "    return numpy.mean(s)\n",
      "\n",
      "%time result = evaluate.imageToImage(paths, \"ORB\", \"ORB\", comp)\n",
      "print\n",
      "display.scoreHist(result)\n"
     ],
     "language": "python",
     "metadata": {},
     "outputs": [],
     "prompt_number": "*"
    },
    {
     "cell_type": "code",
     "collapsed": false,
     "input": [],
     "language": "python",
     "metadata": {},
     "outputs": [],
     "prompt_number": "*"
    }
   ],
   "metadata": {}
  }
 ]
}
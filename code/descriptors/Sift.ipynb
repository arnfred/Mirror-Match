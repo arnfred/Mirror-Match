{
 "metadata": {
  "name": "Sift"
 },
 "nbformat": 3,
 "nbformat_minor": 0,
 "worksheets": [
  {
   "cells": [
    {
     "cell_type": "markdown",
     "metadata": {},
     "source": [
      "# Sift #\n",
      "\n",
      "Finding image features using the sift wrapper found at [www.janeriksolem.net](http://www.janeriksolem.net/2009/02/sift-python-implementation.html)"
     ]
    },
    {
     "cell_type": "code",
     "collapsed": false,
     "input": [
      "from lib import sift\n",
      "import os\n",
      "import fnmatch\n",
      "from random import choice\n",
      "\n",
      "# image folder:\n",
      "testset = \"../../images/testsets/G1M65J/\"\n",
      "\n",
      "# Get a list of all images\n",
      "images = [testset + f for (_,_,filenames) in os.walk(testset) for f in fnmatch.filter(filenames, \"*.pgm\")]\n",
      "\n",
      "# Get sift descriptors for an image\n",
      "def get_descriptor(image) :\n",
      "    keyfile = os.path.splitext(image)[0] + \".key\"\n",
      "    sift.process_image(image, keyfile)\n",
      "    \n",
      "\n",
      "# Process all images\n",
      "for image in images : get_descriptor(image)"
     ],
     "language": "python",
     "metadata": {},
     "outputs": [
      {
       "output_type": "stream",
       "stream": "stdout",
       "text": [
        "('processed', '../../images/testsets/G1M65J/John_Paul_II_0001.pgm')\n",
        "('processed', '../../images/testsets/G1M65J/Recep_Tayyip_Erdogan_0027.pgm')"
       ]
      },
      {
       "output_type": "stream",
       "stream": "stdout",
       "text": [
        "\n",
        "('processed', '../../images/testsets/G1M65J/Javier_Solana_0008.pgm')"
       ]
      },
      {
       "output_type": "stream",
       "stream": "stdout",
       "text": [
        "\n",
        "('processed', '../../images/testsets/G1M65J/Roh_Moo-hyun_0031.pgm')"
       ]
      },
      {
       "output_type": "stream",
       "stream": "stdout",
       "text": [
        "\n",
        "('processed', '../../images/testsets/G1M65J/Jiri_Novak_0004.pgm')"
       ]
      },
      {
       "output_type": "stream",
       "stream": "stdout",
       "text": [
        "\n",
        "('processed', '../../images/testsets/G1M65J/Rubens_Barrichello_0007.pgm')"
       ]
      },
      {
       "output_type": "stream",
       "stream": "stdout",
       "text": [
        "\n",
        "('processed', '../../images/testsets/G1M65J/Edmund_Stoiber_0001.pgm')"
       ]
      },
      {
       "output_type": "stream",
       "stream": "stdout",
       "text": [
        "\n",
        "('processed', '../../images/testsets/G1M65J/Richard_Myers_0002.pgm')\n"
       ]
      },
      {
       "output_type": "stream",
       "stream": "stdout",
       "text": [
        "('processed', '../../images/testsets/G1M65J/Jason_Kidd_0010.pgm')\n",
        "('processed', '../../images/testsets/G1M65J/Jackie_Chan_0006.pgm')"
       ]
      },
      {
       "output_type": "stream",
       "stream": "stdout",
       "text": [
        "\n",
        "('processed', '../../images/testsets/G1M65J/Eduardo_Duhalde_0008.pgm')"
       ]
      },
      {
       "output_type": "stream",
       "stream": "stdout",
       "text": [
        "\n",
        "('processed', '../../images/testsets/G1M65J/Halle_Berry_0003.pgm')"
       ]
      },
      {
       "output_type": "stream",
       "stream": "stdout",
       "text": [
        "\n",
        "('processed', '../../images/testsets/G1M65J/John_Howard_0008.pgm')"
       ]
      },
      {
       "output_type": "stream",
       "stream": "stdout",
       "text": [
        "\n",
        "('processed', '../../images/testsets/G1M65J/Recep_Tayyip_Erdogan_0009.pgm')"
       ]
      },
      {
       "output_type": "stream",
       "stream": "stdout",
       "text": [
        "\n",
        "('processed', '../../images/testsets/G1M65J/Luiz_Inacio_Lula_da_Silva_0042.pgm')"
       ]
      },
      {
       "output_type": "stream",
       "stream": "stdout",
       "text": [
        "\n",
        "('processed', '../../images/testsets/G1M65J/Jason_Kidd_0006.pgm')"
       ]
      },
      {
       "output_type": "stream",
       "stream": "stdout",
       "text": [
        "\n",
        "('processed', '../../images/testsets/G1M65J/Alejandro_Toledo_0027.pgm')"
       ]
      },
      {
       "output_type": "stream",
       "stream": "stdout",
       "text": [
        "\n",
        "('processed', '../../images/testsets/G1M65J/Javier_Solana_0006.pgm')"
       ]
      },
      {
       "output_type": "stream",
       "stream": "stdout",
       "text": [
        "\n",
        "('processed', '../../images/testsets/G1M65J/Ann_Veneman_0001.pgm')"
       ]
      },
      {
       "output_type": "stream",
       "stream": "stdout",
       "text": [
        "\n",
        "('processed', '../../images/testsets/G1M65J/Recep_Tayyip_Erdogan_0010.pgm')"
       ]
      },
      {
       "output_type": "stream",
       "stream": "stdout",
       "text": [
        "\n",
        "('processed', '../../images/testsets/G1M65J/Nancy_Pelosi_0009.pgm')"
       ]
      },
      {
       "output_type": "stream",
       "stream": "stdout",
       "text": [
        "\n",
        "('processed', '../../images/testsets/G1M65J/Ian_Thorpe_0001.pgm')"
       ]
      },
      {
       "output_type": "stream",
       "stream": "stdout",
       "text": [
        "\n",
        "('processed', '../../images/testsets/G1M65J/Halle_Berry_0007.pgm')"
       ]
      },
      {
       "output_type": "stream",
       "stream": "stdout",
       "text": [
        "\n",
        "('processed', '../../images/testsets/G1M65J/Luiz_Inacio_Lula_da_Silva_0040.pgm')"
       ]
      },
      {
       "output_type": "stream",
       "stream": "stdout",
       "text": [
        "\n",
        "('processed', '../../images/testsets/G1M65J/Luiz_Inacio_Lula_da_Silva_0024.pgm')"
       ]
      },
      {
       "output_type": "stream",
       "stream": "stdout",
       "text": [
        "\n",
        "('processed', '../../images/testsets/G1M65J/Mohammad_Khatami_0005.pgm')"
       ]
      },
      {
       "output_type": "stream",
       "stream": "stdout",
       "text": [
        "\n",
        "('processed', '../../images/testsets/G1M65J/Jiri_Novak_0001.pgm')"
       ]
      },
      {
       "output_type": "stream",
       "stream": "stdout",
       "text": [
        "\n",
        "('processed', '../../images/testsets/G1M65J/John_Paul_II_0007.pgm')"
       ]
      },
      {
       "output_type": "stream",
       "stream": "stdout",
       "text": [
        "\n",
        "('processed', '../../images/testsets/G1M65J/Jennifer_Aniston_0008.pgm')"
       ]
      },
      {
       "output_type": "stream",
       "stream": "stdout",
       "text": [
        "\n",
        "('processed', '../../images/testsets/G1M65J/Jacques_Rogge_0007.pgm')"
       ]
      },
      {
       "output_type": "stream",
       "stream": "stdout",
       "text": [
        "\n",
        "('processed', '../../images/testsets/G1M65J/Kim_Ryong-sung_0007.pgm')"
       ]
      },
      {
       "output_type": "stream",
       "stream": "stdout",
       "text": [
        "\n",
        "('processed', '../../images/testsets/G1M65J/Tom_Ridge_0003.pgm')"
       ]
      },
      {
       "output_type": "stream",
       "stream": "stdout",
       "text": [
        "\n",
        "('processed', '../../images/testsets/G1M65J/Eduardo_Duhalde_0003.pgm')"
       ]
      },
      {
       "output_type": "stream",
       "stream": "stdout",
       "text": [
        "\n",
        "('processed', '../../images/testsets/G1M65J/Alejandro_Toledo_0015.pgm')"
       ]
      },
      {
       "output_type": "stream",
       "stream": "stdout",
       "text": [
        "\n",
        "('processed', '../../images/testsets/G1M65J/Jackie_Chan_0007.pgm')"
       ]
      },
      {
       "output_type": "stream",
       "stream": "stdout",
       "text": [
        "\n",
        "('processed', '../../images/testsets/G1M65J/Alejandro_Toledo_0035.pgm')"
       ]
      },
      {
       "output_type": "stream",
       "stream": "stdout",
       "text": [
        "\n",
        "('processed', '../../images/testsets/G1M65J/Halle_Berry_0002.pgm')"
       ]
      },
      {
       "output_type": "stream",
       "stream": "stdout",
       "text": [
        "\n",
        "('processed', '../../images/testsets/G1M65J/Winona_Ryder_0018.pgm')"
       ]
      },
      {
       "output_type": "stream",
       "stream": "stdout",
       "text": [
        "\n",
        "('processed', '../../images/testsets/G1M65J/Tom_Ridge_0032.pgm')"
       ]
      },
      {
       "output_type": "stream",
       "stream": "stdout",
       "text": [
        "\n",
        "('processed', '../../images/testsets/G1M65J/Gloria_Macapagal_Arroyo_0015.pgm')"
       ]
      },
      {
       "output_type": "stream",
       "stream": "stdout",
       "text": [
        "\n",
        "('processed', '../../images/testsets/G1M65J/Jiri_Novak_0011.pgm')"
       ]
      },
      {
       "output_type": "stream",
       "stream": "stdout",
       "text": [
        "\n",
        "('processed', '../../images/testsets/G1M65J/Naomi_Watts_0015.pgm')"
       ]
      },
      {
       "output_type": "stream",
       "stream": "stdout",
       "text": [
        "\n",
        "('processed', '../../images/testsets/G1M65J/Wen_Jiabao_0012.pgm')"
       ]
      },
      {
       "output_type": "stream",
       "stream": "stdout",
       "text": [
        "\n",
        "('processed', '../../images/testsets/G1M65J/Rubens_Barrichello_0012.pgm')"
       ]
      },
      {
       "output_type": "stream",
       "stream": "stdout",
       "text": [
        "\n",
        "('processed', '../../images/testsets/G1M65J/Recep_Tayyip_Erdogan_0021.pgm')"
       ]
      },
      {
       "output_type": "stream",
       "stream": "stdout",
       "text": [
        "\n",
        "('processed', '../../images/testsets/G1M65J/Michael_Jackson_0012.pgm')"
       ]
      },
      {
       "output_type": "stream",
       "stream": "stdout",
       "text": [
        "\n",
        "('processed', '../../images/testsets/G1M65J/Jose_Maria_Aznar_0022.pgm')"
       ]
      },
      {
       "output_type": "stream",
       "stream": "stdout",
       "text": [
        "\n",
        "('processed', '../../images/testsets/G1M65J/Michael_Jackson_0007.pgm')\n",
        "('processed', '../../images/testsets/G1M65J/Tiger_Woods_0010.pgm')"
       ]
      },
      {
       "output_type": "stream",
       "stream": "stdout",
       "text": [
        "\n",
        "('processed', '../../images/testsets/G1M65J/Sergey_Lavrov_0006.pgm')"
       ]
      },
      {
       "output_type": "stream",
       "stream": "stdout",
       "text": [
        "\n",
        "('processed', '../../images/testsets/G1M65J/Queen_Elizabeth_II_0007.pgm')\n",
        "('processed', '../../images/testsets/G1M65J/Gloria_Macapagal_Arroyo_0036.pgm')"
       ]
      },
      {
       "output_type": "stream",
       "stream": "stdout",
       "text": [
        "\n",
        "('processed', '../../images/testsets/G1M65J/Jennifer_Aniston_0005.pgm')"
       ]
      },
      {
       "output_type": "stream",
       "stream": "stdout",
       "text": [
        "\n",
        "('processed', '../../images/testsets/G1M65J/Michael_Jackson_0003.pgm')\n",
        "('processed', '../../images/testsets/G1M65J/Bill_Simon_0006.pgm')"
       ]
      },
      {
       "output_type": "stream",
       "stream": "stdout",
       "text": [
        "\n",
        "('processed', '../../images/testsets/G1M65J/Naomi_Watts_0005.pgm')\n",
        "('processed', '../../images/testsets/G1M65J/Ian_Thorpe_0010.pgm')"
       ]
      },
      {
       "output_type": "stream",
       "stream": "stdout",
       "text": [
        "\n",
        "('processed', '../../images/testsets/G1M65J/Kim_Ryong-sung_0008.pgm')"
       ]
      },
      {
       "output_type": "stream",
       "stream": "stdout",
       "text": [
        "\n",
        "('processed', '../../images/testsets/G1M65J/Tom_Ridge_0017.pgm')"
       ]
      },
      {
       "output_type": "stream",
       "stream": "stdout",
       "text": [
        "\n",
        "('processed', '../../images/testsets/G1M65J/Renee_Zellweger_0014.pgm')"
       ]
      },
      {
       "output_type": "stream",
       "stream": "stdout",
       "text": [
        "\n",
        "('processed', '../../images/testsets/G1M65J/Rubens_Barrichello_0001.pgm')"
       ]
      },
      {
       "output_type": "stream",
       "stream": "stdout",
       "text": [
        "\n",
        "('processed', '../../images/testsets/G1M65J/Wen_Jiabao_0008.pgm')"
       ]
      },
      {
       "output_type": "stream",
       "stream": "stdout",
       "text": [
        "\n",
        "('processed', '../../images/testsets/G1M65J/Bill_Simon_0002.pgm')"
       ]
      },
      {
       "output_type": "stream",
       "stream": "stdout",
       "text": [
        "\n",
        "('processed', '../../images/testsets/G1M65J/Saddam_Hussein_0010.pgm')"
       ]
      },
      {
       "output_type": "stream",
       "stream": "stdout",
       "text": [
        "\n",
        "('processed', '../../images/testsets/G1M65J/John_Howard_0019.pgm')"
       ]
      },
      {
       "output_type": "stream",
       "stream": "stdout",
       "text": [
        "\n",
        "('processed', '../../images/testsets/G1M65J/Charles_Moose_0012.pgm')"
       ]
      },
      {
       "output_type": "stream",
       "stream": "stdout",
       "text": [
        "\n",
        "('processed', '../../images/testsets/G1M65J/Sergey_Lavrov_0001.pgm')"
       ]
      },
      {
       "output_type": "stream",
       "stream": "stdout",
       "text": [
        "\n",
        "('processed', '../../images/testsets/G1M65J/Silvio_Berlusconi_0026.pgm')\n",
        "('processed', '../../images/testsets/G1M65J/Mohammad_Khatami_0007.pgm')"
       ]
      },
      {
       "output_type": "stream",
       "stream": "stdout",
       "text": [
        "\n",
        "('processed', '../../images/testsets/G1M65J/Ian_Thorpe_0009.pgm')"
       ]
      },
      {
       "output_type": "stream",
       "stream": "stdout",
       "text": [
        "\n",
        "('processed', '../../images/testsets/G1M65J/Saddam_Hussein_0001.pgm')"
       ]
      },
      {
       "output_type": "stream",
       "stream": "stdout",
       "text": [
        "\n",
        "('processed', '../../images/testsets/G1M65J/John_Howard_0012.pgm')"
       ]
      },
      {
       "output_type": "stream",
       "stream": "stdout",
       "text": [
        "\n",
        "('processed', '../../images/testsets/G1M65J/Tom_Ridge_0031.pgm')"
       ]
      },
      {
       "output_type": "stream",
       "stream": "stdout",
       "text": [
        "\n",
        "('processed', '../../images/testsets/G1M65J/Carlos_Moya_0017.pgm')\n",
        "('processed', '../../images/testsets/G1M65J/Jason_Kidd_0003.pgm')"
       ]
      },
      {
       "output_type": "stream",
       "stream": "stdout",
       "text": [
        "\n",
        "('processed', '../../images/testsets/G1M65J/Richard_Myers_0008.pgm')"
       ]
      },
      {
       "output_type": "stream",
       "stream": "stdout",
       "text": [
        "\n",
        "('processed', '../../images/testsets/G1M65J/Rubens_Barrichello_0005.pgm')"
       ]
      },
      {
       "output_type": "stream",
       "stream": "stdout",
       "text": [
        "\n",
        "('processed', '../../images/testsets/G1M65J/Jose_Maria_Aznar_0018.pgm')"
       ]
      },
      {
       "output_type": "stream",
       "stream": "stdout",
       "text": [
        "\n",
        "('processed', '../../images/testsets/G1M65J/Nancy_Pelosi_0001.pgm')\n",
        "('processed', '../../images/testsets/G1M65J/Rubens_Barrichello_0002.pgm')"
       ]
      },
      {
       "output_type": "stream",
       "stream": "stdout",
       "text": [
        "\n",
        "('processed', '../../images/testsets/G1M65J/Jose_Maria_Aznar_0011.pgm')\n",
        "('processed', '../../images/testsets/G1M65J/Lleyton_Hewitt_0005.pgm')"
       ]
      },
      {
       "output_type": "stream",
       "stream": "stdout",
       "text": [
        "\n",
        "('processed', '../../images/testsets/G1M65J/Jacques_Chirac_0033.pgm')"
       ]
      },
      {
       "output_type": "stream",
       "stream": "stdout",
       "text": [
        "\n",
        "('processed', '../../images/testsets/G1M65J/Jennifer_Aniston_0003.pgm')"
       ]
      },
      {
       "output_type": "stream",
       "stream": "stdout",
       "text": [
        "\n",
        "('processed', '../../images/testsets/G1M65J/Charles_Moose_0005.pgm')"
       ]
      },
      {
       "output_type": "stream",
       "stream": "stdout",
       "text": [
        "\n",
        "('processed', '../../images/testsets/G1M65J/John_Snow_0005.pgm')\n",
        "('processed', '../../images/testsets/G1M65J/Carlos_Moya_0003.pgm')"
       ]
      },
      {
       "output_type": "stream",
       "stream": "stdout",
       "text": [
        "\n",
        "('processed', '../../images/testsets/G1M65J/Halle_Berry_0014.pgm')"
       ]
      },
      {
       "output_type": "stream",
       "stream": "stdout",
       "text": [
        "\n",
        "('processed', '../../images/testsets/G1M65J/Gloria_Macapagal_Arroyo_0021.pgm')"
       ]
      },
      {
       "output_type": "stream",
       "stream": "stdout",
       "text": [
        "\n",
        "('processed', '../../images/testsets/G1M65J/Kim_Ryong-sung_0009.pgm')"
       ]
      },
      {
       "output_type": "stream",
       "stream": "stdout",
       "text": [
        "\n",
        "('processed', '../../images/testsets/G1M65J/Luiz_Inacio_Lula_da_Silva_0004.pgm')"
       ]
      },
      {
       "output_type": "stream",
       "stream": "stdout",
       "text": [
        "\n",
        "('processed', '../../images/testsets/G1M65J/Mohammad_Khatami_0010.pgm')"
       ]
      },
      {
       "output_type": "stream",
       "stream": "stdout",
       "text": [
        "\n",
        "('processed', '../../images/testsets/G1M65J/Jennifer_Aniston_0019.pgm')"
       ]
      },
      {
       "output_type": "stream",
       "stream": "stdout",
       "text": [
        "\n",
        "('processed', '../../images/testsets/G1M65J/John_Paul_II_0006.pgm')"
       ]
      },
      {
       "output_type": "stream",
       "stream": "stdout",
       "text": [
        "\n",
        "('processed', '../../images/testsets/G1M65J/Lleyton_Hewitt_0036.pgm')"
       ]
      },
      {
       "output_type": "stream",
       "stream": "stdout",
       "text": [
        "\n",
        "('processed', '../../images/testsets/G1M65J/Recep_Tayyip_Erdogan_0016.pgm')"
       ]
      },
      {
       "output_type": "stream",
       "stream": "stdout",
       "text": [
        "\n",
        "('processed', '../../images/testsets/G1M65J/Recep_Tayyip_Erdogan_0007.pgm')"
       ]
      },
      {
       "output_type": "stream",
       "stream": "stdout",
       "text": [
        "\n",
        "('processed', '../../images/testsets/G1M65J/Mohammed_Al-Douri_0003.pgm')"
       ]
      },
      {
       "output_type": "stream",
       "stream": "stdout",
       "text": [
        "\n",
        "('processed', '../../images/testsets/G1M65J/Luiz_Inacio_Lula_da_Silva_0022.pgm')"
       ]
      },
      {
       "output_type": "stream",
       "stream": "stdout",
       "text": [
        "\n",
        "('processed', '../../images/testsets/G1M65J/Michael_Schumacher_0015.pgm')"
       ]
      },
      {
       "output_type": "stream",
       "stream": "stdout",
       "text": [
        "\n",
        "('processed', '../../images/testsets/G1M65J/Luiz_Inacio_Lula_da_Silva_0012.pgm')"
       ]
      },
      {
       "output_type": "stream",
       "stream": "stdout",
       "text": [
        "\n",
        "('processed', '../../images/testsets/G1M65J/Gloria_Macapagal_Arroyo_0038.pgm')"
       ]
      },
      {
       "output_type": "stream",
       "stream": "stdout",
       "text": [
        "\n",
        "('processed', '../../images/testsets/G1M65J/Britney_Spears_0002.pgm')"
       ]
      },
      {
       "output_type": "stream",
       "stream": "stdout",
       "text": [
        "\n",
        "('processed', '../../images/testsets/G1M65J/Michael_Schumacher_0008.pgm')"
       ]
      },
      {
       "output_type": "stream",
       "stream": "stdout",
       "text": [
        "\n",
        "('processed', '../../images/testsets/G1M65J/Alejandro_Toledo_0022.pgm')"
       ]
      },
      {
       "output_type": "stream",
       "stream": "stdout",
       "text": [
        "\n",
        "('processed', '../../images/testsets/G1M65J/Winona_Ryder_0010.pgm')"
       ]
      },
      {
       "output_type": "stream",
       "stream": "stdout",
       "text": [
        "\n",
        "('processed', '../../images/testsets/G1M65J/Gloria_Macapagal_Arroyo_0033.pgm')\n",
        "('processed', '../../images/testsets/G1M65J/Nicanor_Duarte_Frutos_0007.pgm')"
       ]
      },
      {
       "output_type": "stream",
       "stream": "stdout",
       "text": [
        "\n",
        "('processed', '../../images/testsets/G1M65J/Kim_Ryong-sung_0003.pgm')"
       ]
      },
      {
       "output_type": "stream",
       "stream": "stdout",
       "text": [
        "\n",
        "('processed', '../../images/testsets/G1M65J/John_Howard_0001.pgm')"
       ]
      },
      {
       "output_type": "stream",
       "stream": "stdout",
       "text": [
        "\n",
        "('processed', '../../images/testsets/G1M65J/Paul_Burrell_0008.pgm')"
       ]
      },
      {
       "output_type": "stream",
       "stream": "stdout",
       "text": [
        "\n",
        "('processed', '../../images/testsets/G1M65J/James_Kelly_0011.pgm')"
       ]
      },
      {
       "output_type": "stream",
       "stream": "stdout",
       "text": [
        "\n",
        "('processed', '../../images/testsets/G1M65J/Rubens_Barrichello_0011.pgm')"
       ]
      },
      {
       "output_type": "stream",
       "stream": "stdout",
       "text": [
        "\n",
        "('processed', '../../images/testsets/G1M65J/Queen_Elizabeth_II_0006.pgm')"
       ]
      },
      {
       "output_type": "stream",
       "stream": "stdout",
       "text": [
        "\n",
        "('processed', '../../images/testsets/G1M65J/Michael_Schumacher_0012.pgm')"
       ]
      },
      {
       "output_type": "stream",
       "stream": "stdout",
       "text": [
        "\n",
        "('processed', '../../images/testsets/G1M65J/Bill_Simon_0003.pgm')"
       ]
      },
      {
       "output_type": "stream",
       "stream": "stdout",
       "text": [
        "\n",
        "('processed', '../../images/testsets/G1M65J/Jean_Charest_0003.pgm')"
       ]
      },
      {
       "output_type": "stream",
       "stream": "stdout",
       "text": [
        "\n",
        "('processed', '../../images/testsets/G1M65J/Michael_Jackson_0001.pgm')"
       ]
      },
      {
       "output_type": "stream",
       "stream": "stdout",
       "text": [
        "\n",
        "('processed', '../../images/testsets/G1M65J/Lleyton_Hewitt_0041.pgm')"
       ]
      },
      {
       "output_type": "stream",
       "stream": "stdout",
       "text": [
        "\n",
        "('processed', '../../images/testsets/G1M65J/Tom_Daschle_0013.pgm')"
       ]
      },
      {
       "output_type": "stream",
       "stream": "stdout",
       "text": [
        "\n",
        "('processed', '../../images/testsets/G1M65J/Saddam_Hussein_0020.pgm')"
       ]
      },
      {
       "output_type": "stream",
       "stream": "stdout",
       "text": [
        "\n",
        "('processed', '../../images/testsets/G1M65J/Tiger_Woods_0012.pgm')\n",
        "('processed', '../../images/testsets/G1M65J/Ann_Veneman_0003.pgm')"
       ]
      },
      {
       "output_type": "stream",
       "stream": "stdout",
       "text": [
        "\n",
        "('processed', '../../images/testsets/G1M65J/Mohammad_Khatami_0004.pgm')"
       ]
      },
      {
       "output_type": "stream",
       "stream": "stdout",
       "text": [
        "\n",
        "('processed', '../../images/testsets/G1M65J/Saddam_Hussein_0015.pgm')"
       ]
      },
      {
       "output_type": "stream",
       "stream": "stdout",
       "text": [
        "\n",
        "('processed', '../../images/testsets/G1M65J/Edmund_Stoiber_0002.pgm')"
       ]
      },
      {
       "output_type": "stream",
       "stream": "stdout",
       "text": [
        "\n",
        "('processed', '../../images/testsets/G1M65J/Eduardo_Duhalde_0005.pgm')\n",
        "('processed', '../../images/testsets/G1M65J/Mohammad_Khatami_0008.pgm')"
       ]
      },
      {
       "output_type": "stream",
       "stream": "stdout",
       "text": [
        "\n",
        "('processed', '../../images/testsets/G1M65J/Michael_Schumacher_0010.pgm')"
       ]
      },
      {
       "output_type": "stream",
       "stream": "stdout",
       "text": [
        "\n",
        "('processed', '../../images/testsets/G1M65J/Jackie_Chan_0009.pgm')"
       ]
      },
      {
       "output_type": "stream",
       "stream": "stdout",
       "text": [
        "\n",
        "('processed', '../../images/testsets/G1M65J/Luiz_Inacio_Lula_da_Silva_0017.pgm')"
       ]
      },
      {
       "output_type": "stream",
       "stream": "stdout",
       "text": [
        "\n",
        "('processed', '../../images/testsets/G1M65J/Saddam_Hussein_0012.pgm')"
       ]
      },
      {
       "output_type": "stream",
       "stream": "stdout",
       "text": [
        "\n",
        "('processed', '../../images/testsets/G1M65J/Queen_Elizabeth_II_0011.pgm')"
       ]
      },
      {
       "output_type": "stream",
       "stream": "stdout",
       "text": [
        "\n",
        "('processed', '../../images/testsets/G1M65J/Recep_Tayyip_Erdogan_0008.pgm')"
       ]
      },
      {
       "output_type": "stream",
       "stream": "stdout",
       "text": [
        "\n",
        "('processed', '../../images/testsets/G1M65J/Taha_Yassin_Ramadan_0001.pgm')"
       ]
      },
      {
       "output_type": "stream",
       "stream": "stdout",
       "text": [
        "\n",
        "('processed', '../../images/testsets/G1M65J/Britney_Spears_0014.pgm')"
       ]
      },
      {
       "output_type": "stream",
       "stream": "stdout",
       "text": [
        "\n",
        "('processed', '../../images/testsets/G1M65J/Jose_Maria_Aznar_0023.pgm')"
       ]
      },
      {
       "output_type": "stream",
       "stream": "stdout",
       "text": [
        "\n",
        "('processed', '../../images/testsets/G1M65J/John_Kerry_0005.pgm')"
       ]
      },
      {
       "output_type": "stream",
       "stream": "stdout",
       "text": [
        "\n",
        "('processed', '../../images/testsets/G1M65J/John_Howard_0005.pgm')"
       ]
      },
      {
       "output_type": "stream",
       "stream": "stdout",
       "text": [
        "\n",
        "('processed', '../../images/testsets/G1M65J/Jason_Kidd_0004.pgm')"
       ]
      },
      {
       "output_type": "stream",
       "stream": "stdout",
       "text": [
        "\n",
        "('processed', '../../images/testsets/G1M65J/Kim_Ryong-sung_0010.pgm')\n",
        "('processed', '../../images/testsets/G1M65J/Ian_Thorpe_0007.pgm')"
       ]
      },
      {
       "output_type": "stream",
       "stream": "stdout",
       "text": [
        "\n",
        "('processed', '../../images/testsets/G1M65J/Jason_Kidd_0007.pgm')"
       ]
      },
      {
       "output_type": "stream",
       "stream": "stdout",
       "text": [
        "\n",
        "('processed', '../../images/testsets/G1M65J/Wen_Jiabao_0011.pgm')"
       ]
      },
      {
       "output_type": "stream",
       "stream": "stdout",
       "text": [
        "\n",
        "('processed', '../../images/testsets/G1M65J/Sergey_Lavrov_0007.pgm')"
       ]
      },
      {
       "output_type": "stream",
       "stream": "stdout",
       "text": [
        "\n",
        "('processed', '../../images/testsets/G1M65J/Alejandro_Toledo_0021.pgm')"
       ]
      },
      {
       "output_type": "stream",
       "stream": "stdout",
       "text": [
        "\n",
        "('processed', '../../images/testsets/G1M65J/Carlos_Moya_0001.pgm')"
       ]
      },
      {
       "output_type": "stream",
       "stream": "stdout",
       "text": [
        "\n",
        "('processed', '../../images/testsets/G1M65J/Lleyton_Hewitt_0002.pgm')"
       ]
      },
      {
       "output_type": "stream",
       "stream": "stdout",
       "text": [
        "\n",
        "('processed', '../../images/testsets/G1M65J/Jennifer_Aniston_0016.pgm')"
       ]
      },
      {
       "output_type": "stream",
       "stream": "stdout",
       "text": [
        "\n",
        "('processed', '../../images/testsets/G1M65J/Bill_Simon_0005.pgm')"
       ]
      },
      {
       "output_type": "stream",
       "stream": "stdout",
       "text": [
        "\n",
        "('processed', '../../images/testsets/G1M65J/Queen_Elizabeth_II_0003.pgm')"
       ]
      },
      {
       "output_type": "stream",
       "stream": "stdout",
       "text": [
        "\n",
        "('processed', '../../images/testsets/G1M65J/Tom_Ridge_0019.pgm')"
       ]
      },
      {
       "output_type": "stream",
       "stream": "stdout",
       "text": [
        "\n",
        "('processed', '../../images/testsets/G1M65J/John_Ashcroft_0006.pgm')"
       ]
      },
      {
       "output_type": "stream",
       "stream": "stdout",
       "text": [
        "\n",
        "('processed', '../../images/testsets/G1M65J/Rubens_Barrichello_0006.pgm')"
       ]
      },
      {
       "output_type": "stream",
       "stream": "stdout",
       "text": [
        "\n",
        "('processed', '../../images/testsets/G1M65J/Luiz_Inacio_Lula_da_Silva_0034.pgm')"
       ]
      },
      {
       "output_type": "stream",
       "stream": "stdout",
       "text": [
        "\n",
        "('processed', '../../images/testsets/G1M65J/Roh_Moo-hyun_0007.pgm')"
       ]
      },
      {
       "output_type": "stream",
       "stream": "stdout",
       "text": [
        "\n",
        "('processed', '../../images/testsets/G1M65J/Jackie_Chan_0005.pgm')"
       ]
      },
      {
       "output_type": "stream",
       "stream": "stdout",
       "text": [
        "\n",
        "('processed', '../../images/testsets/G1M65J/Mahmoud_Abbas_0012.pgm')"
       ]
      },
      {
       "output_type": "stream",
       "stream": "stdout",
       "text": [
        "\n",
        "('processed', '../../images/testsets/G1M65J/Nicanor_Duarte_Frutos_0006.pgm')"
       ]
      },
      {
       "output_type": "stream",
       "stream": "stdout",
       "text": [
        "\n",
        "('processed', '../../images/testsets/G1M65J/Edmund_Stoiber_0005.pgm')"
       ]
      },
      {
       "output_type": "stream",
       "stream": "stdout",
       "text": [
        "\n",
        "('processed', '../../images/testsets/G1M65J/John_Howard_0003.pgm')"
       ]
      },
      {
       "output_type": "stream",
       "stream": "stdout",
       "text": [
        "\n",
        "('processed', '../../images/testsets/G1M65J/Alejandro_Toledo_0006.pgm')\n",
        "('processed', '../../images/testsets/G1M65J/John_Ashcroft_0005.pgm')"
       ]
      },
      {
       "output_type": "stream",
       "stream": "stdout",
       "text": [
        "\n",
        "('processed', '../../images/testsets/G1M65J/Tony_Blair_0101.pgm')"
       ]
      },
      {
       "output_type": "stream",
       "stream": "stdout",
       "text": [
        "\n",
        "('processed', '../../images/testsets/G1M65J/Yoriko_Kawaguchi_0014.pgm')"
       ]
      },
      {
       "output_type": "stream",
       "stream": "stdout",
       "text": [
        "\n",
        "('processed', '../../images/testsets/G1M65J/Andy_Roddick_0001.pgm')"
       ]
      },
      {
       "output_type": "stream",
       "stream": "stdout",
       "text": [
        "\n",
        "('processed', '../../images/testsets/G1M65J/Fidel_Castro_0005.pgm')\n",
        "('processed', '../../images/testsets/G1M65J/Jackie_Chan_0001.pgm')"
       ]
      },
      {
       "output_type": "stream",
       "stream": "stdout",
       "text": [
        "\n",
        "('processed', '../../images/testsets/G1M65J/Carlos_Moya_0009.pgm')"
       ]
      },
      {
       "output_type": "stream",
       "stream": "stdout",
       "text": [
        "\n",
        "('processed', '../../images/testsets/G1M65J/Tom_Ridge_0004.pgm')"
       ]
      },
      {
       "output_type": "stream",
       "stream": "stdout",
       "text": [
        "\n",
        "('processed', '../../images/testsets/G1M65J/Mahmoud_Abbas_0025.pgm')"
       ]
      },
      {
       "output_type": "stream",
       "stream": "stdout",
       "text": [
        "\n",
        "('processed', '../../images/testsets/G1M65J/Mohammad_Khatami_0003.pgm')"
       ]
      },
      {
       "output_type": "stream",
       "stream": "stdout",
       "text": [
        "\n",
        "('processed', '../../images/testsets/G1M65J/Jose_Maria_Aznar_0006.pgm')"
       ]
      },
      {
       "output_type": "stream",
       "stream": "stdout",
       "text": [
        "\n",
        "('processed', '../../images/testsets/G1M65J/Halle_Berry_0016.pgm')"
       ]
      },
      {
       "output_type": "stream",
       "stream": "stdout",
       "text": [
        "\n",
        "('processed', '../../images/testsets/G1M65J/John_Paul_II_0003.pgm')"
       ]
      },
      {
       "output_type": "stream",
       "stream": "stdout",
       "text": [
        "\n",
        "('processed', '../../images/testsets/G1M65J/Jackie_Chan_0008.pgm')"
       ]
      },
      {
       "output_type": "stream",
       "stream": "stdout",
       "text": [
        "\n",
        "('processed', '../../images/testsets/G1M65J/Jennifer_Aniston_0021.pgm')"
       ]
      },
      {
       "output_type": "stream",
       "stream": "stdout",
       "text": [
        "\n",
        "('processed', '../../images/testsets/G1M65J/Naomi_Watts_0013.pgm')"
       ]
      },
      {
       "output_type": "stream",
       "stream": "stdout",
       "text": [
        "\n",
        "('processed', '../../images/testsets/G1M65J/Halle_Berry_0001.pgm')"
       ]
      },
      {
       "output_type": "stream",
       "stream": "stdout",
       "text": [
        "\n",
        "('processed', '../../images/testsets/G1M65J/John_Howard_0010.pgm')"
       ]
      },
      {
       "output_type": "stream",
       "stream": "stdout",
       "text": [
        "\n",
        "('processed', '../../images/testsets/G1M65J/James_Kelly_0009.pgm')"
       ]
      },
      {
       "output_type": "stream",
       "stream": "stdout",
       "text": [
        "\n",
        "('processed', '../../images/testsets/G1M65J/Jacques_Rogge_0005.pgm')"
       ]
      },
      {
       "output_type": "stream",
       "stream": "stdout",
       "text": [
        "\n",
        "('processed', '../../images/testsets/G1M65J/Silvio_Berlusconi_0008.pgm')"
       ]
      },
      {
       "output_type": "stream",
       "stream": "stdout",
       "text": [
        "\n",
        "('processed', '../../images/testsets/G1M65J/Rubens_Barrichello_0003.pgm')"
       ]
      },
      {
       "output_type": "stream",
       "stream": "stdout",
       "text": [
        "\n",
        "('processed', '../../images/testsets/G1M65J/Renee_Zellweger_0005.pgm')"
       ]
      },
      {
       "output_type": "stream",
       "stream": "stdout",
       "text": [
        "\n",
        "('processed', '../../images/testsets/G1M65J/James_Kelly_0005.pgm')"
       ]
      },
      {
       "output_type": "stream",
       "stream": "stdout",
       "text": [
        "\n",
        "('processed', '../../images/testsets/G1M65J/Eduardo_Duhalde_0013.pgm')"
       ]
      },
      {
       "output_type": "stream",
       "stream": "stdout",
       "text": [
        "\n",
        "('processed', '../../images/testsets/G1M65J/Roh_Moo-hyun_0032.pgm')"
       ]
      },
      {
       "output_type": "stream",
       "stream": "stdout",
       "text": [
        "\n",
        "('processed', '../../images/testsets/G1M65J/Tiger_Woods_0014.pgm')\n",
        "('processed', '../../images/testsets/G1M65J/Nicanor_Duarte_Frutos_0001.pgm')"
       ]
      },
      {
       "output_type": "stream",
       "stream": "stdout",
       "text": [
        "\n",
        "('processed', '../../images/testsets/G1M65J/Queen_Elizabeth_II_0001.pgm')"
       ]
      },
      {
       "output_type": "stream",
       "stream": "stdout",
       "text": [
        "\n",
        "('processed', '../../images/testsets/G1M65J/Ann_Veneman_0005.pgm')"
       ]
      },
      {
       "output_type": "stream",
       "stream": "stdout",
       "text": [
        "\n",
        "('processed', '../../images/testsets/G1M65J/Yoriko_Kawaguchi_0013.pgm')"
       ]
      },
      {
       "output_type": "stream",
       "stream": "stdout",
       "text": [
        "\n",
        "('processed', '../../images/testsets/G1M65J/Naomi_Watts_0012.pgm')"
       ]
      },
      {
       "output_type": "stream",
       "stream": "stdout",
       "text": [
        "\n",
        "('processed', '../../images/testsets/G1M65J/Nicanor_Duarte_Frutos_0008.pgm')"
       ]
      },
      {
       "output_type": "stream",
       "stream": "stdout",
       "text": [
        "\n",
        "('processed', '../../images/testsets/G1M65J/Paul_Burrell_0006.pgm')"
       ]
      },
      {
       "output_type": "stream",
       "stream": "stdout",
       "text": [
        "\n",
        "('processed', '../../images/testsets/G1M65J/Queen_Elizabeth_II_0004.pgm')"
       ]
      },
      {
       "output_type": "stream",
       "stream": "stdout",
       "text": [
        "\n",
        "('processed', '../../images/testsets/G1M65J/James_Kelly_0001.pgm')"
       ]
      },
      {
       "output_type": "stream",
       "stream": "stdout",
       "text": [
        "\n",
        "('processed', '../../images/testsets/G1M65J/Saddam_Hussein_0019.pgm')"
       ]
      },
      {
       "output_type": "stream",
       "stream": "stdout",
       "text": [
        "\n",
        "('processed', '../../images/testsets/G1M65J/Gloria_Macapagal_Arroyo_0020.pgm')"
       ]
      },
      {
       "output_type": "stream",
       "stream": "stdout",
       "text": [
        "\n",
        "('processed', '../../images/testsets/G1M65J/Jason_Kidd_0001.pgm')"
       ]
      },
      {
       "output_type": "stream",
       "stream": "stdout",
       "text": [
        "\n",
        "('processed', '../../images/testsets/G1M65J/John_Kerry_0003.pgm')"
       ]
      },
      {
       "output_type": "stream",
       "stream": "stdout",
       "text": [
        "\n",
        "('processed', '../../images/testsets/G1M65J/Alejandro_Toledo_0031.pgm')"
       ]
      },
      {
       "output_type": "stream",
       "stream": "stdout",
       "text": [
        "\n",
        "('processed', '../../images/testsets/G1M65J/Roger_Federer_0011.pgm')\n",
        "('processed', '../../images/testsets/G1M65J/Richard_Myers_0014.pgm')"
       ]
      },
      {
       "output_type": "stream",
       "stream": "stdout",
       "text": [
        "\n",
        "('processed', '../../images/testsets/G1M65J/Carlos_Moya_0016.pgm')"
       ]
      },
      {
       "output_type": "stream",
       "stream": "stdout",
       "text": [
        "\n",
        "('processed', '../../images/testsets/G1M65J/Halle_Berry_0015.pgm')"
       ]
      },
      {
       "output_type": "stream",
       "stream": "stdout",
       "text": [
        "\n",
        "('processed', '../../images/testsets/G1M65J/Alejandro_Toledo_0011.pgm')"
       ]
      },
      {
       "output_type": "stream",
       "stream": "stdout",
       "text": [
        "\n",
        "('processed', '../../images/testsets/G1M65J/Bill_Simon_0010.pgm')"
       ]
      },
      {
       "output_type": "stream",
       "stream": "stdout",
       "text": [
        "\n",
        "('processed', '../../images/testsets/G1M65J/Kim_Ryong-sung_0011.pgm')"
       ]
      },
      {
       "output_type": "stream",
       "stream": "stdout",
       "text": [
        "\n",
        "('processed', '../../images/testsets/G1M65J/Mahmoud_Abbas_0020.pgm')"
       ]
      },
      {
       "output_type": "stream",
       "stream": "stdout",
       "text": [
        "\n",
        "('processed', '../../images/testsets/G1M65J/Gloria_Macapagal_Arroyo_0040.pgm')"
       ]
      },
      {
       "output_type": "stream",
       "stream": "stdout",
       "text": [
        "\n",
        "('processed', '../../images/testsets/G1M65J/Kim_Ryong-sung_0001.pgm')"
       ]
      },
      {
       "output_type": "stream",
       "stream": "stdout",
       "text": [
        "\n",
        "('processed', '../../images/testsets/G1M65J/Gloria_Macapagal_Arroyo_0044.pgm')"
       ]
      },
      {
       "output_type": "stream",
       "stream": "stdout",
       "text": [
        "\n",
        "('processed', '../../images/testsets/G1M65J/Charles_Moose_0008.pgm')\n",
        "('processed', '../../images/testsets/G1M65J/Saddam_Hussein_0009.pgm')"
       ]
      },
      {
       "output_type": "stream",
       "stream": "stdout",
       "text": [
        "\n",
        "('processed', '../../images/testsets/G1M65J/Silvio_Berlusconi_0018.pgm')"
       ]
      },
      {
       "output_type": "stream",
       "stream": "stdout",
       "text": [
        "\n",
        "('processed', '../../images/testsets/G1M65J/Wen_Jiabao_0001.pgm')"
       ]
      },
      {
       "output_type": "stream",
       "stream": "stdout",
       "text": [
        "\n",
        "('processed', '../../images/testsets/G1M65J/Ian_Thorpe_0006.pgm')"
       ]
      },
      {
       "output_type": "stream",
       "stream": "stdout",
       "text": [
        "\n",
        "('processed', '../../images/testsets/G1M65J/Jose_Maria_Aznar_0008.pgm')\n",
        "('processed', '../../images/testsets/G1M65J/Jennifer_Aniston_0011.pgm')"
       ]
      },
      {
       "output_type": "stream",
       "stream": "stdout",
       "text": [
        "\n",
        "('processed', '../../images/testsets/G1M65J/Renee_Zellweger_0013.pgm')"
       ]
      },
      {
       "output_type": "stream",
       "stream": "stdout",
       "text": [
        "\n",
        "('processed', '../../images/testsets/G1M65J/Renee_Zellweger_0006.pgm')"
       ]
      },
      {
       "output_type": "stream",
       "stream": "stdout",
       "text": [
        "\n",
        "('processed', '../../images/testsets/G1M65J/Tom_Daschle_0023.pgm')"
       ]
      },
      {
       "output_type": "stream",
       "stream": "stdout",
       "text": [
        "\n",
        "('processed', '../../images/testsets/G1M65J/Nancy_Pelosi_0007.pgm')"
       ]
      },
      {
       "output_type": "stream",
       "stream": "stdout",
       "text": [
        "\n",
        "('processed', '../../images/testsets/G1M65J/Gloria_Macapagal_Arroyo_0005.pgm')"
       ]
      },
      {
       "output_type": "stream",
       "stream": "stdout",
       "text": [
        "\n",
        "('processed', '../../images/testsets/G1M65J/Jason_Kidd_0005.pgm')"
       ]
      },
      {
       "output_type": "stream",
       "stream": "stdout",
       "text": [
        "\n",
        "('processed', '../../images/testsets/G1M65J/John_Howard_0002.pgm')"
       ]
      },
      {
       "output_type": "stream",
       "stream": "stdout",
       "text": [
        "\n",
        "('processed', '../../images/testsets/G1M65J/Tiger_Woods_0009.pgm')"
       ]
      },
      {
       "output_type": "stream",
       "stream": "stdout",
       "text": [
        "\n",
        "('processed', '../../images/testsets/G1M65J/Michael_Schumacher_0005.pgm')\n",
        "('processed', '../../images/testsets/G1M65J/James_Kelly_0007.pgm')"
       ]
      },
      {
       "output_type": "stream",
       "stream": "stdout",
       "text": [
        "\n",
        "('processed', '../../images/testsets/G1M65J/Lleyton_Hewitt_0007.pgm')\n",
        "('processed', '../../images/testsets/G1M65J/Jennifer_Aniston_0013.pgm')"
       ]
      },
      {
       "output_type": "stream",
       "stream": "stdout",
       "text": [
        "\n",
        "('processed', '../../images/testsets/G1M65J/Jacques_Rogge_0004.pgm')"
       ]
      },
      {
       "output_type": "stream",
       "stream": "stdout",
       "text": [
        "\n",
        "('processed', '../../images/testsets/G1M65J/Nicanor_Duarte_Frutos_0009.pgm')"
       ]
      },
      {
       "output_type": "stream",
       "stream": "stdout",
       "text": [
        "\n",
        "('processed', '../../images/testsets/G1M65J/Renee_Zellweger_0007.pgm')"
       ]
      },
      {
       "output_type": "stream",
       "stream": "stdout",
       "text": [
        "\n",
        "('processed', '../../images/testsets/G1M65J/John_Howard_0017.pgm')"
       ]
      },
      {
       "output_type": "stream",
       "stream": "stdout",
       "text": [
        "\n",
        "('processed', '../../images/testsets/G1M65J/Silvio_Berlusconi_0022.pgm')"
       ]
      },
      {
       "output_type": "stream",
       "stream": "stdout",
       "text": [
        "\n",
        "('processed', '../../images/testsets/G1M65J/Jason_Kidd_0008.pgm')"
       ]
      },
      {
       "output_type": "stream",
       "stream": "stdout",
       "text": [
        "\n",
        "('processed', '../../images/testsets/G1M65J/Saddam_Hussein_0016.pgm')"
       ]
      },
      {
       "output_type": "stream",
       "stream": "stdout",
       "text": [
        "\n",
        "('processed', '../../images/testsets/G1M65J/Luiz_Inacio_Lula_da_Silva_0013.pgm')"
       ]
      },
      {
       "output_type": "stream",
       "stream": "stdout",
       "text": [
        "\n",
        "('processed', '../../images/testsets/G1M65J/Wen_Jiabao_0006.pgm')"
       ]
      },
      {
       "output_type": "stream",
       "stream": "stdout",
       "text": [
        "\n",
        "('processed', '../../images/testsets/G1M65J/Rubens_Barrichello_0004.pgm')"
       ]
      },
      {
       "output_type": "stream",
       "stream": "stdout",
       "text": [
        "\n",
        "('processed', '../../images/testsets/G1M65J/Tony_Blair_0086.pgm')"
       ]
      },
      {
       "output_type": "stream",
       "stream": "stdout",
       "text": [
        "\n",
        "('processed', '../../images/testsets/G1M65J/John_Ashcroft_0039.pgm')"
       ]
      },
      {
       "output_type": "stream",
       "stream": "stdout",
       "text": [
        "\n",
        "('processed', '../../images/testsets/G1M65J/Alejandro_Toledo_0004.pgm')"
       ]
      },
      {
       "output_type": "stream",
       "stream": "stdout",
       "text": [
        "\n",
        "('processed', '../../images/testsets/G1M65J/Halle_Berry_0006.pgm')"
       ]
      },
      {
       "output_type": "stream",
       "stream": "stdout",
       "text": [
        "\n",
        "('processed', '../../images/testsets/G1M65J/Roh_Moo-hyun_0025.pgm')"
       ]
      },
      {
       "output_type": "stream",
       "stream": "stdout",
       "text": [
        "\n",
        "('processed', '../../images/testsets/G1M65J/Paul_Burrell_0002.pgm')"
       ]
      },
      {
       "output_type": "stream",
       "stream": "stdout",
       "text": [
        "\n",
        "('processed', '../../images/testsets/G1M65J/Jason_Kidd_0002.pgm')"
       ]
      },
      {
       "output_type": "stream",
       "stream": "stdout",
       "text": [
        "\n",
        "('processed', '../../images/testsets/G1M65J/Eduardo_Duhalde_0002.pgm')"
       ]
      },
      {
       "output_type": "stream",
       "stream": "stdout",
       "text": [
        "\n",
        "('processed', '../../images/testsets/G1M65J/Paul_Burrell_0010.pgm')"
       ]
      },
      {
       "output_type": "stream",
       "stream": "stdout",
       "text": [
        "\n",
        "('processed', '../../images/testsets/G1M65J/Tom_Ridge_0006.pgm')"
       ]
      },
      {
       "output_type": "stream",
       "stream": "stdout",
       "text": [
        "\n",
        "('processed', '../../images/testsets/G1M65J/Wen_Jiabao_0003.pgm')"
       ]
      },
      {
       "output_type": "stream",
       "stream": "stdout",
       "text": [
        "\n",
        "('processed', '../../images/testsets/G1M65J/Jose_Maria_Aznar_0017.pgm')"
       ]
      },
      {
       "output_type": "stream",
       "stream": "stdout",
       "text": [
        "\n",
        "('processed', '../../images/testsets/G1M65J/Naomi_Watts_0011.pgm')"
       ]
      },
      {
       "output_type": "stream",
       "stream": "stdout",
       "text": [
        "\n",
        "('processed', '../../images/testsets/G1M65J/John_Kerry_0007.pgm')"
       ]
      },
      {
       "output_type": "stream",
       "stream": "stdout",
       "text": [
        "\n",
        "('processed', '../../images/testsets/G1M65J/Jacques_Rogge_0003.pgm')"
       ]
      },
      {
       "output_type": "stream",
       "stream": "stdout",
       "text": [
        "\n",
        "('processed', '../../images/testsets/G1M65J/James_Kelly_0003.pgm')"
       ]
      },
      {
       "output_type": "stream",
       "stream": "stdout",
       "text": [
        "\n",
        "('processed', '../../images/testsets/G1M65J/Taha_Yassin_Ramadan_0011.pgm')"
       ]
      },
      {
       "output_type": "stream",
       "stream": "stdout",
       "text": [
        "\n",
        "('processed', '../../images/testsets/G1M65J/Wen_Jiabao_0009.pgm')"
       ]
      },
      {
       "output_type": "stream",
       "stream": "stdout",
       "text": [
        "\n",
        "('processed', '../../images/testsets/G1M65J/Roh_Moo-hyun_0011.pgm')"
       ]
      },
      {
       "output_type": "stream",
       "stream": "stdout",
       "text": [
        "\n",
        "('processed', '../../images/testsets/G1M65J/Muhammad_Ali_0009.pgm')"
       ]
      },
      {
       "output_type": "stream",
       "stream": "stdout",
       "text": [
        "\n",
        "('processed', '../../images/testsets/G1M65J/Silvio_Berlusconi_0028.pgm')"
       ]
      },
      {
       "output_type": "stream",
       "stream": "stdout",
       "text": [
        "\n",
        "('processed', '../../images/testsets/G1M65J/Saddam_Hussein_0007.pgm')"
       ]
      },
      {
       "output_type": "stream",
       "stream": "stdout",
       "text": [
        "\n",
        "('processed', '../../images/testsets/G1M65J/Norah_Jones_0006.pgm')"
       ]
      },
      {
       "output_type": "stream",
       "stream": "stdout",
       "text": [
        "\n",
        "('processed', '../../images/testsets/G1M65J/Jacques_Rogge_0001.pgm')"
       ]
      },
      {
       "output_type": "stream",
       "stream": "stdout",
       "text": [
        "\n",
        "('processed', '../../images/testsets/G1M65J/Roh_Moo-hyun_0023.pgm')"
       ]
      },
      {
       "output_type": "stream",
       "stream": "stdout",
       "text": [
        "\n",
        "('processed', '../../images/testsets/G1M65J/Javier_Solana_0003.pgm')"
       ]
      },
      {
       "output_type": "stream",
       "stream": "stdout",
       "text": [
        "\n",
        "('processed', '../../images/testsets/G1M65J/Yoriko_Kawaguchi_0006.pgm')"
       ]
      },
      {
       "output_type": "stream",
       "stream": "stdout",
       "text": [
        "\n",
        "('processed', '../../images/testsets/G1M65J/John_Kerry_0015.pgm')"
       ]
      },
      {
       "output_type": "stream",
       "stream": "stdout",
       "text": [
        "\n",
        "('processed', '../../images/testsets/G1M65J/Mohammad_Khatami_0009.pgm')"
       ]
      },
      {
       "output_type": "stream",
       "stream": "stdout",
       "text": [
        "\n",
        "('processed', '../../images/testsets/G1M65J/Roh_Moo-hyun_0029.pgm')"
       ]
      },
      {
       "output_type": "stream",
       "stream": "stdout",
       "text": [
        "\n",
        "('processed', '../../images/testsets/G1M65J/Jacques_Rogge_0002.pgm')"
       ]
      },
      {
       "output_type": "stream",
       "stream": "stdout",
       "text": [
        "\n",
        "('processed', '../../images/testsets/G1M65J/Nancy_Pelosi_0011.pgm')"
       ]
      },
      {
       "output_type": "stream",
       "stream": "stdout",
       "text": [
        "\n",
        "('processed', '../../images/testsets/G1M65J/Luiz_Inacio_Lula_da_Silva_0014.pgm')"
       ]
      },
      {
       "output_type": "stream",
       "stream": "stdout",
       "text": [
        "\n",
        "('processed', '../../images/testsets/G1M65J/Mohammad_Khatami_0001.pgm')"
       ]
      },
      {
       "output_type": "stream",
       "stream": "stdout",
       "text": [
        "\n",
        "('processed', '../../images/testsets/G1M65J/Halle_Berry_0012.pgm')"
       ]
      },
      {
       "output_type": "stream",
       "stream": "stdout",
       "text": [
        "\n",
        "('processed', '../../images/testsets/G1M65J/Queen_Elizabeth_II_0009.pgm')"
       ]
      },
      {
       "output_type": "stream",
       "stream": "stdout",
       "text": [
        "\n",
        "('processed', '../../images/testsets/G1M65J/Yoriko_Kawaguchi_0010.pgm')"
       ]
      },
      {
       "output_type": "stream",
       "stream": "stdout",
       "text": [
        "\n",
        "('processed', '../../images/testsets/G1M65J/Jennifer_Aniston_0004.pgm')"
       ]
      },
      {
       "output_type": "stream",
       "stream": "stdout",
       "text": [
        "\n",
        "('processed', '../../images/testsets/G1M65J/Sergey_Lavrov_0011.pgm')"
       ]
      },
      {
       "output_type": "stream",
       "stream": "stdout",
       "text": [
        "\n",
        "('processed', '../../images/testsets/G1M65J/Britney_Spears_0006.pgm')"
       ]
      },
      {
       "output_type": "stream",
       "stream": "stdout",
       "text": [
        "\n",
        "('processed', '../../images/testsets/G1M65J/Naomi_Watts_0018.pgm')"
       ]
      },
      {
       "output_type": "stream",
       "stream": "stdout",
       "text": [
        "\n",
        "('processed', '../../images/testsets/G1M65J/Winona_Ryder_0015.pgm')"
       ]
      },
      {
       "output_type": "stream",
       "stream": "stdout",
       "text": [
        "\n",
        "('processed', '../../images/testsets/G1M65J/Gloria_Macapagal_Arroyo_0018.pgm')"
       ]
      },
      {
       "output_type": "stream",
       "stream": "stdout",
       "text": [
        "\n",
        "('processed', '../../images/testsets/G1M65J/Saddam_Hussein_0005.pgm')"
       ]
      },
      {
       "output_type": "stream",
       "stream": "stdout",
       "text": [
        "\n",
        "('processed', '../../images/testsets/G1M65J/Nancy_Pelosi_0006.pgm')"
       ]
      },
      {
       "output_type": "stream",
       "stream": "stdout",
       "text": [
        "\n",
        "('processed', '../../images/testsets/G1M65J/Halle_Berry_0005.pgm')"
       ]
      },
      {
       "output_type": "stream",
       "stream": "stdout",
       "text": [
        "\n",
        "('processed', '../../images/testsets/G1M65J/Javier_Solana_0001.pgm')"
       ]
      },
      {
       "output_type": "stream",
       "stream": "stdout",
       "text": [
        "\n",
        "('processed', '../../images/testsets/G1M65J/James_Kelly_0004.pgm')"
       ]
      },
      {
       "output_type": "stream",
       "stream": "stdout",
       "text": [
        "\n",
        "('processed', '../../images/testsets/G1M65J/Mohammad_Khatami_0006.pgm')"
       ]
      },
      {
       "output_type": "stream",
       "stream": "stdout",
       "text": [
        "\n",
        "('processed', '../../images/testsets/G1M65J/Lleyton_Hewitt_0011.pgm')"
       ]
      },
      {
       "output_type": "stream",
       "stream": "stdout",
       "text": [
        "\n",
        "('processed', '../../images/testsets/G1M65J/John_Howard_0016.pgm')"
       ]
      },
      {
       "output_type": "stream",
       "stream": "stdout",
       "text": [
        "\n",
        "('processed', '../../images/testsets/G1M65J/Jackie_Chan_0010.pgm')"
       ]
      },
      {
       "output_type": "stream",
       "stream": "stdout",
       "text": [
        "\n",
        "('processed', '../../images/testsets/G1M65J/Tony_Blair_0056.pgm')"
       ]
      },
      {
       "output_type": "stream",
       "stream": "stdout",
       "text": [
        "\n",
        "('processed', '../../images/testsets/G1M65J/James_Kelly_0002.pgm')"
       ]
      },
      {
       "output_type": "stream",
       "stream": "stdout",
       "text": [
        "\n",
        "('processed', '../../images/testsets/G1M65J/Fidel_Castro_0017.pgm')"
       ]
      },
      {
       "output_type": "stream",
       "stream": "stdout",
       "text": [
        "\n",
        "('processed', '../../images/testsets/G1M65J/John_Kerry_0009.pgm')"
       ]
      },
      {
       "output_type": "stream",
       "stream": "stdout",
       "text": [
        "\n",
        "('processed', '../../images/testsets/G1M65J/Nancy_Pelosi_0010.pgm')"
       ]
      },
      {
       "output_type": "stream",
       "stream": "stdout",
       "text": [
        "\n",
        "('processed', '../../images/testsets/G1M65J/Jason_Kidd_0009.pgm')"
       ]
      },
      {
       "output_type": "stream",
       "stream": "stdout",
       "text": [
        "\n"
       ]
      }
     ],
     "prompt_number": 14
    },
    {
     "cell_type": "markdown",
     "metadata": {},
     "source": [
      "## Matching images ##\n",
      "\n",
      "Here is a simple function that shows the matching points of two images.\n",
      "First we load the keyfiles of both images, then we find the matchscores of descriptors of the two images and in turn plot the matches"
     ]
    },
    {
     "cell_type": "code",
     "collapsed": false,
     "input": [
      "import string\n",
      "import pdb\n",
      "from random import sample\n",
      "\n",
      "# Pick out all the photos of |Halle Berry (Just to have somebody to test with)\n",
      "berries = [image for image in images if \"Berry\" in image]\n",
      "\n",
      "# Now pick out two photos at random\n",
      "[m1, m2] = sample(berries,2)\n",
      "[k1, k2] = [os.path.splitext(image)[0] + \".key\" for image in [m1, m2]]\n",
      "[p1, p2] = [os.path.splitext(image)[0] + \".png\" for image in [m1, m2]]\n",
      "[im1, im2] = [imread(image) for image in [m1, m2]]\n",
      "\n",
      "# Get feature vector from keyfile\n",
      "(locs1, desc1) = sift.read_features_from_file(k1)\n",
      "(locs2, desc2) = sift.read_features_from_file(k2)\n",
      "\n",
      "# Match the two files\n",
      "matchscores = sift.match(desc1, desc2)\n",
      "\n",
      "# Plot matches\n",
      "sift.plot_matches(im1, im2, locs1, locs2, matchscores)"
     ],
     "language": "python",
     "metadata": {},
     "outputs": [
      {
       "output_type": "stream",
       "stream": "stdout",
       "text": [
        "(150, 150)\n",
        "(150, 150)\n"
       ]
      },
      {
       "output_type": "display_data",
       "png": "[encoded data removed]"
      }
     ],
     "prompt_number": 36
    },
    {
     "cell_type": "code",
     "collapsed": false,
     "input": [],
     "language": "python",
     "metadata": {},
     "outputs": [],
     "prompt_number": 96
    },
    {
     "cell_type": "code",
     "collapsed": false,
     "input": [],
     "language": "python",
     "metadata": {},
     "outputs": []
    }
   ],
   "metadata": {}
  }
 ]
}
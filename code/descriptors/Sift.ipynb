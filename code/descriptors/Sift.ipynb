{
 "metadata": {
  "name": "Sift"
 },
 "nbformat": 3,
 "nbformat_minor": 0,
 "worksheets": [
  {
   "cells": [
    {
     "cell_type": "markdown",
     "metadata": {},
     "source": [
      "# Sift #\n",
      "\n",
      "Finding image features using the sift wrapper found at [www.janeriksolem.net](http://www.janeriksolem.net/2009/02/sift-python-implementation.html)"
     ]
    },
    {
     "cell_type": "code",
     "collapsed": false,
     "input": [
      "from lib import sift\n",
      "import os\n",
      "import fnmatch\n",
      "from random import choice\n",
      "\n",
      "# image folder:\n",
      "testset = \"../../images/testsets/WW4D68/\"\n",
      "\n",
      "# Get a list of all images\n",
      "images = [testset + f for (_,_,filenames) in os.walk(testset) for f in fnmatch.filter(filenames, \"*.pgm\")]\n",
      "\n",
      "# Get sift descriptors for an image\n",
      "def get_descriptor(image) :\n",
      "    keyfile = os.path.splitext(image)[0] + \".key\"\n",
      "    sift.process_image(image, keyfile)\n",
      "    \n",
      "\n",
      "# Process all images\n",
      "for image in images : get_descriptor(image)"
     ],
     "language": "python",
     "metadata": {},
     "outputs": [
      {
       "output_type": "stream",
       "stream": "stdout",
       "text": [
        "processed ../../images/testsets/WW4D68/Condoleezza_Rice_0010.pgm\n",
        "processed"
       ]
      },
      {
       "output_type": "stream",
       "stream": "stdout",
       "text": [
        " ../../images/testsets/WW4D68/Pervez_Musharraf_0006.pgm\n",
        "processed"
       ]
      },
      {
       "output_type": "stream",
       "stream": "stdout",
       "text": [
        " ../../images/testsets/WW4D68/John_Paul_II_0001.pgm\n",
        "processed"
       ]
      },
      {
       "output_type": "stream",
       "stream": "stdout",
       "text": [
        " ../../images/testsets/WW4D68/Julianne_Moore_0007.pgm\n",
        "processed"
       ]
      },
      {
       "output_type": "stream",
       "stream": "stdout",
       "text": [
        " ../../images/testsets/WW4D68/Vicente_Fox_0014.pgm\n",
        "processed ../../images/testsets/WW4D68/Bill_Clinton_0007.pgm\n",
        "processed"
       ]
      },
      {
       "output_type": "stream",
       "stream": "stdout",
       "text": [
        " ../../images/testsets/WW4D68/Jennifer_Lopez_0021.pgm\n",
        "processed"
       ]
      },
      {
       "output_type": "stream",
       "stream": "stdout",
       "text": [
        " ../../images/testsets/WW4D68/Hu_Jintao_0009.pgm\n",
        "processed"
       ]
      },
      {
       "output_type": "stream",
       "stream": "stdout",
       "text": [
        " ../../images/testsets/WW4D68/Sergey_Lavrov_0002.pgm\n",
        "processed"
       ]
      },
      {
       "output_type": "stream",
       "stream": "stdout",
       "text": [
        " ../../images/testsets/WW4D68/Salma_Hayek_0002.pgm\n",
        "processed ../../images/testsets/WW4D68/John_Paul_II_0008.pgm\n",
        "processed"
       ]
      },
      {
       "output_type": "stream",
       "stream": "stdout",
       "text": [
        " ../../images/testsets/WW4D68/Edmund_Stoiber_0012.pgm\n",
        "processed"
       ]
      },
      {
       "output_type": "stream",
       "stream": "stdout",
       "text": [
        " ../../images/testsets/WW4D68/Hu_Jintao_0012.pgm\n",
        "processed"
       ]
      },
      {
       "output_type": "stream",
       "stream": "stdout",
       "text": [
        " ../../images/testsets/WW4D68/Spencer_Abraham_0001.pgm\n",
        "processed"
       ]
      },
      {
       "output_type": "stream",
       "stream": "stdout",
       "text": [
        " ../../images/testsets/WW4D68/Jean_Charest_0016.pgm\n",
        "processed"
       ]
      },
      {
       "output_type": "stream",
       "stream": "stdout",
       "text": [
        " ../../images/testsets/WW4D68/Hugo_Chavez_0023.pgm\n",
        "processed"
       ]
      },
      {
       "output_type": "stream",
       "stream": "stdout",
       "text": [
        " ../../images/testsets/WW4D68/Richard_Gere_0004.pgm\n",
        "processed"
       ]
      },
      {
       "output_type": "stream",
       "stream": "stdout",
       "text": [
        " ../../images/testsets/WW4D68/Andre_Agassi_0009.pgm\n",
        "processed"
       ]
      },
      {
       "output_type": "stream",
       "stream": "stdout",
       "text": [
        " ../../images/testsets/WW4D68/Richard_Gere_0002.pgm\n",
        "processed"
       ]
      },
      {
       "output_type": "stream",
       "stream": "stdout",
       "text": [
        " ../../images/testsets/WW4D68/Edmund_Stoiber_0001.pgm\n",
        "processed"
       ]
      },
      {
       "output_type": "stream",
       "stream": "stdout",
       "text": [
        " ../../images/testsets/WW4D68/Condoleezza_Rice_0006.pgm\n",
        "processed"
       ]
      },
      {
       "output_type": "stream",
       "stream": "stdout",
       "text": [
        " ../../images/testsets/WW4D68/Guillermo_Coria_0019.pgm\n",
        "processed"
       ]
      },
      {
       "output_type": "stream",
       "stream": "stdout",
       "text": [
        " ../../images/testsets/WW4D68/Dick_Cheney_0004.pgm\n",
        "processed"
       ]
      },
      {
       "output_type": "stream",
       "stream": "stdout",
       "text": [
        " ../../images/testsets/WW4D68/Jason_Kidd_0010.pgm\n",
        "processed"
       ]
      },
      {
       "output_type": "stream",
       "stream": "stdout",
       "text": [
        " ../../images/testsets/WW4D68/Recep_Tayyip_Erdogan_0017.pgm\n",
        "processed"
       ]
      },
      {
       "output_type": "stream",
       "stream": "stdout",
       "text": [
        " ../../images/testsets/WW4D68/Paul_Wolfowitz_0009.pgm\n",
        "processed"
       ]
      },
      {
       "output_type": "stream",
       "stream": "stdout",
       "text": [
        " ../../images/testsets/WW4D68/Spencer_Abraham_0006.pgm\n",
        "processed"
       ]
      },
      {
       "output_type": "stream",
       "stream": "stdout",
       "text": [
        " ../../images/testsets/WW4D68/Andre_Agassi_0002.pgm\n",
        "processed"
       ]
      },
      {
       "output_type": "stream",
       "stream": "stdout",
       "text": [
        " ../../images/testsets/WW4D68/Andre_Agassi_0013.pgm\n",
        "processed"
       ]
      },
      {
       "output_type": "stream",
       "stream": "stdout",
       "text": [
        " ../../images/testsets/WW4D68/Pervez_Musharraf_0012.pgm\n",
        "processed"
       ]
      },
      {
       "output_type": "stream",
       "stream": "stdout",
       "text": [
        " ../../images/testsets/WW4D68/Recep_Tayyip_Erdogan_0010.pgm\n",
        "processed"
       ]
      },
      {
       "output_type": "stream",
       "stream": "stdout",
       "text": [
        " ../../images/testsets/WW4D68/Winona_Ryder_0011.pgm\n",
        "processed"
       ]
      },
      {
       "output_type": "stream",
       "stream": "stdout",
       "text": [
        " ../../images/testsets/WW4D68/Nancy_Pelosi_0009.pgm\n",
        "processed"
       ]
      },
      {
       "output_type": "stream",
       "stream": "stdout",
       "text": [
        " ../../images/testsets/WW4D68/Hu_Jintao_0003.pgm\n",
        "processed"
       ]
      },
      {
       "output_type": "stream",
       "stream": "stdout",
       "text": [
        " ../../images/testsets/WW4D68/Jeb_Bush_0008.pgm\n",
        "processed"
       ]
      },
      {
       "output_type": "stream",
       "stream": "stdout",
       "text": [
        " ../../images/testsets/WW4D68/Jackie_Chan_0002.pgm\n",
        "processed"
       ]
      },
      {
       "output_type": "stream",
       "stream": "stdout",
       "text": [
        " ../../images/testsets/WW4D68/Nancy_Pelosi_0014.pgm\n",
        "processed"
       ]
      },
      {
       "output_type": "stream",
       "stream": "stdout",
       "text": [
        " ../../images/testsets/WW4D68/Recep_Tayyip_Erdogan_0013.pgm\n",
        "processed ../../images/testsets/WW4D68/Guillermo_Coria_0029.pgm\n",
        "processed"
       ]
      },
      {
       "output_type": "stream",
       "stream": "stdout",
       "text": [
        " ../../images/testsets/WW4D68/Tom_Daschle_0006.pgm\n",
        "processed"
       ]
      },
      {
       "output_type": "stream",
       "stream": "stdout",
       "text": [
        " ../../images/testsets/WW4D68/Fidel_Castro_0006.pgm\n",
        "processed"
       ]
      },
      {
       "output_type": "stream",
       "stream": "stdout",
       "text": [
        " ../../images/testsets/WW4D68/Tommy_Franks_0008.pgm\n",
        "processed ../../images/testsets/WW4D68/Salma_Hayek_0012.pgm\n",
        "processed"
       ]
      },
      {
       "output_type": "stream",
       "stream": "stdout",
       "text": [
        " ../../images/testsets/WW4D68/Hu_Jintao_0010.pgm\n",
        "processed"
       ]
      },
      {
       "output_type": "stream",
       "stream": "stdout",
       "text": [
        " ../../images/testsets/WW4D68/Jennifer_Lopez_0018.pgm\n",
        "processed"
       ]
      },
      {
       "output_type": "stream",
       "stream": "stdout",
       "text": [
        " ../../images/testsets/WW4D68/Tiger_Woods_0005.pgm\n",
        "processed ../../images/testsets/WW4D68/Julianne_Moore_0015.pgm\n",
        "processed"
       ]
      },
      {
       "output_type": "stream",
       "stream": "stdout",
       "text": [
        " ../../images/testsets/WW4D68/Winona_Ryder_0019.pgm\n",
        "processed"
       ]
      },
      {
       "output_type": "stream",
       "stream": "stdout",
       "text": [
        " ../../images/testsets/WW4D68/Jackie_Chan_0007.pgm\n",
        "processed"
       ]
      },
      {
       "output_type": "stream",
       "stream": "stdout",
       "text": [
        " ../../images/testsets/WW4D68/Ricardo_Lagos_0010.pgm\n",
        "processed"
       ]
      },
      {
       "output_type": "stream",
       "stream": "stdout",
       "text": [
        " ../../images/testsets/WW4D68/Halle_Berry_0002.pgm\n",
        "processed"
       ]
      },
      {
       "output_type": "stream",
       "stream": "stdout",
       "text": [
        " ../../images/testsets/WW4D68/Bill_Clinton_0008.pgm\n",
        "processed ../../images/testsets/WW4D68/Tiger_Woods_0020.pgm\n",
        "processed"
       ]
      },
      {
       "output_type": "stream",
       "stream": "stdout",
       "text": [
        " ../../images/testsets/WW4D68/Jeb_Bush_0007.pgm\n",
        "processed"
       ]
      },
      {
       "output_type": "stream",
       "stream": "stdout",
       "text": [
        " ../../images/testsets/WW4D68/Jiri_Novak_0011.pgm\n",
        "processed"
       ]
      },
      {
       "output_type": "stream",
       "stream": "stdout",
       "text": [
        " ../../images/testsets/WW4D68/Salma_Hayek_0013.pgm\n",
        "processed"
       ]
      },
      {
       "output_type": "stream",
       "stream": "stdout",
       "text": [
        " ../../images/testsets/WW4D68/Dick_Cheney_0012.pgm\n",
        "processed"
       ]
      },
      {
       "output_type": "stream",
       "stream": "stdout",
       "text": [
        " ../../images/testsets/WW4D68/Ricardo_Lagos_0003.pgm\n",
        "processed"
       ]
      },
      {
       "output_type": "stream",
       "stream": "stdout",
       "text": [
        " ../../images/testsets/WW4D68/Wen_Jiabao_0012.pgm\n",
        "processed"
       ]
      },
      {
       "output_type": "stream",
       "stream": "stdout",
       "text": [
        " ../../images/testsets/WW4D68/Tom_Daschle_0007.pgm\n",
        "processed"
       ]
      },
      {
       "output_type": "stream",
       "stream": "stdout",
       "text": [
        " ../../images/testsets/WW4D68/John_Kerry_0014.pgm\n",
        "processed"
       ]
      },
      {
       "output_type": "stream",
       "stream": "stdout",
       "text": [
        " ../../images/testsets/WW4D68/Tom_Daschle_0009.pgm\n",
        "processed"
       ]
      },
      {
       "output_type": "stream",
       "stream": "stdout",
       "text": [
        " ../../images/testsets/WW4D68/Edmund_Stoiber_0008.pgm\n",
        "processed"
       ]
      },
      {
       "output_type": "stream",
       "stream": "stdout",
       "text": [
        " ../../images/testsets/WW4D68/Recep_Tayyip_Erdogan_0006.pgm\n",
        "processed"
       ]
      },
      {
       "output_type": "stream",
       "stream": "stdout",
       "text": [
        " ../../images/testsets/WW4D68/Dick_Cheney_0003.pgm\n",
        "processed"
       ]
      },
      {
       "output_type": "stream",
       "stream": "stdout",
       "text": [
        " ../../images/testsets/WW4D68/David_Nalbandian_0011.pgm\n",
        "processed"
       ]
      },
      {
       "output_type": "stream",
       "stream": "stdout",
       "text": [
        " ../../images/testsets/WW4D68/Michael_Jackson_0007.pgm\n",
        "processed"
       ]
      },
      {
       "output_type": "stream",
       "stream": "stdout",
       "text": [
        " ../../images/testsets/WW4D68/Bill_McBride_0010.pgm\n",
        "processed"
       ]
      },
      {
       "output_type": "stream",
       "stream": "stdout",
       "text": [
        " ../../images/testsets/WW4D68/Fidel_Castro_0018.pgm\n",
        "processed"
       ]
      },
      {
       "output_type": "stream",
       "stream": "stdout",
       "text": [
        " ../../images/testsets/WW4D68/Lleyton_Hewitt_0009.pgm\n",
        "processed"
       ]
      },
      {
       "output_type": "stream",
       "stream": "stdout",
       "text": [
        " ../../images/testsets/WW4D68/John_Kerry_0016.pgm\n",
        "processed"
       ]
      },
      {
       "output_type": "stream",
       "stream": "stdout",
       "text": [
        " ../../images/testsets/WW4D68/Wen_Jiabao_0004.pgm\n",
        "processed"
       ]
      },
      {
       "output_type": "stream",
       "stream": "stdout",
       "text": [
        " ../../images/testsets/WW4D68/Winona_Ryder_0021.pgm\n",
        "processed ../../images/testsets/WW4D68/Ricardo_Lagos_0008.pgm\n",
        "processed"
       ]
      },
      {
       "output_type": "stream",
       "stream": "stdout",
       "text": [
        " ../../images/testsets/WW4D68/Catherine_Zeta-Jones_0009.pgm\n",
        "processed"
       ]
      },
      {
       "output_type": "stream",
       "stream": "stdout",
       "text": [
        " ../../images/testsets/WW4D68/Richard_Gere_0008.pgm\n",
        "processed"
       ]
      },
      {
       "output_type": "stream",
       "stream": "stdout",
       "text": [
        " ../../images/testsets/WW4D68/Jackie_Chan_0004.pgm\n",
        "processed"
       ]
      },
      {
       "output_type": "stream",
       "stream": "stdout",
       "text": [
        " ../../images/testsets/WW4D68/Pervez_Musharraf_0003.pgm\n",
        "processed"
       ]
      },
      {
       "output_type": "stream",
       "stream": "stdout",
       "text": [
        " ../../images/testsets/WW4D68/Tom_Ridge_0017.pgm\n",
        "processed"
       ]
      },
      {
       "output_type": "stream",
       "stream": "stdout",
       "text": [
        " ../../images/testsets/WW4D68/Wen_Jiabao_0008.pgm\n",
        "processed"
       ]
      },
      {
       "output_type": "stream",
       "stream": "stdout",
       "text": [
        " ../../images/testsets/WW4D68/Tiger_Woods_0006.pgm\n",
        "processed ../../images/testsets/WW4D68/Silvio_Berlusconi_0026.pgm\n",
        "processed"
       ]
      },
      {
       "output_type": "stream",
       "stream": "stdout",
       "text": [
        " ../../images/testsets/WW4D68/John_Bolton_0013.pgm\n",
        "processed"
       ]
      },
      {
       "output_type": "stream",
       "stream": "stdout",
       "text": [
        " ../../images/testsets/WW4D68/Hu_Jintao_0015.pgm\n",
        "processed"
       ]
      },
      {
       "output_type": "stream",
       "stream": "stdout",
       "text": [
        " ../../images/testsets/WW4D68/Tom_Daschle_0005.pgm\n",
        "processed"
       ]
      },
      {
       "output_type": "stream",
       "stream": "stdout",
       "text": [
        " ../../images/testsets/WW4D68/Jean_Charest_0014.pgm\n",
        "processed"
       ]
      },
      {
       "output_type": "stream",
       "stream": "stdout",
       "text": [
        " ../../images/testsets/WW4D68/Catherine_Zeta-Jones_0002.pgm\n",
        "processed ../../images/testsets/WW4D68/Nancy_Pelosi_0001.pgm\n",
        "processed"
       ]
      },
      {
       "output_type": "stream",
       "stream": "stdout",
       "text": [
        " ../../images/testsets/WW4D68/Richard_Gere_0001.pgm\n",
        "processed"
       ]
      },
      {
       "output_type": "stream",
       "stream": "stdout",
       "text": [
        " ../../images/testsets/WW4D68/Fidel_Castro_0015.pgm\n",
        "processed"
       ]
      },
      {
       "output_type": "stream",
       "stream": "stdout",
       "text": [
        " ../../images/testsets/WW4D68/John_Bolton_0001.pgm\n",
        "processed"
       ]
      },
      {
       "output_type": "stream",
       "stream": "stdout",
       "text": [
        " ../../images/testsets/WW4D68/Vicente_Fox_0006.pgm\n",
        "processed"
       ]
      },
      {
       "output_type": "stream",
       "stream": "stdout",
       "text": [
        " ../../images/testsets/WW4D68/Jennifer_Aniston_0003.pgm\n",
        "processed ../../images/testsets/WW4D68/Tiger_Woods_0023.pgm\n",
        "processed"
       ]
      },
      {
       "output_type": "stream",
       "stream": "stdout",
       "text": [
        " ../../images/testsets/WW4D68/Mike_Weir_0007.pgm\n",
        "processed ../../images/testsets/WW4D68/Jeb_Bush_0004.pgm\n",
        "processed"
       ]
      },
      {
       "output_type": "stream",
       "stream": "stdout",
       "text": [
        " ../../images/testsets/WW4D68/Catherine_Zeta-Jones_0003.pgm\n",
        "processed"
       ]
      },
      {
       "output_type": "stream",
       "stream": "stdout",
       "text": [
        " ../../images/testsets/WW4D68/Carlos_Moya_0003.pgm\n",
        "processed"
       ]
      },
      {
       "output_type": "stream",
       "stream": "stdout",
       "text": [
        " ../../images/testsets/WW4D68/John_Allen_Muhammad_0010.pgm\n",
        "processed"
       ]
      },
      {
       "output_type": "stream",
       "stream": "stdout",
       "text": [
        " ../../images/testsets/WW4D68/Roger_Federer_0012.pgm\n",
        "processed"
       ]
      },
      {
       "output_type": "stream",
       "stream": "stdout",
       "text": [
        " ../../images/testsets/WW4D68/Nicole_Kidman_0006.pgm\n",
        "processed ../../images/testsets/WW4D68/Winona_Ryder_0023.pgm\n",
        "processed"
       ]
      },
      {
       "output_type": "stream",
       "stream": "stdout",
       "text": [
        " ../../images/testsets/WW4D68/Pervez_Musharraf_0010.pgm\n",
        "processed ../../images/testsets/WW4D68/John_Paul_II_0009.pgm\n",
        "processed"
       ]
      },
      {
       "output_type": "stream",
       "stream": "stdout",
       "text": [
        " ../../images/testsets/WW4D68/Recep_Tayyip_Erdogan_0026.pgm\n",
        "processed"
       ]
      },
      {
       "output_type": "stream",
       "stream": "stdout",
       "text": [
        " ../../images/testsets/WW4D68/Nicanor_Duarte_Frutos_0003.pgm\n",
        "processed"
       ]
      },
      {
       "output_type": "stream",
       "stream": "stdout",
       "text": [
        " ../../images/testsets/WW4D68/Nicanor_Duarte_Frutos_0002.pgm\n",
        "processed"
       ]
      },
      {
       "output_type": "stream",
       "stream": "stdout",
       "text": [
        " ../../images/testsets/WW4D68/Recep_Tayyip_Erdogan_0016.pgm\n",
        "processed"
       ]
      },
      {
       "output_type": "stream",
       "stream": "stdout",
       "text": [
        " ../../images/testsets/WW4D68/Kim_Clijsters_0005.pgm\n",
        "processed"
       ]
      },
      {
       "output_type": "stream",
       "stream": "stdout",
       "text": [
        " ../../images/testsets/WW4D68/Abdullah_Gul_0016.pgm\n",
        "processed"
       ]
      },
      {
       "output_type": "stream",
       "stream": "stdout",
       "text": [
        " ../../images/testsets/WW4D68/Britney_Spears_0002.pgm\n",
        "processed"
       ]
      },
      {
       "output_type": "stream",
       "stream": "stdout",
       "text": [
        " ../../images/testsets/WW4D68/Abdullah_Gul_0002.pgm\n",
        "processed"
       ]
      },
      {
       "output_type": "stream",
       "stream": "stdout",
       "text": [
        " ../../images/testsets/WW4D68/Winona_Ryder_0010.pgm\n",
        "processed"
       ]
      },
      {
       "output_type": "stream",
       "stream": "stdout",
       "text": [
        " ../../images/testsets/WW4D68/Fidel_Castro_0007.pgm\n",
        "processed"
       ]
      },
      {
       "output_type": "stream",
       "stream": "stdout",
       "text": [
        " ../../images/testsets/WW4D68/Nancy_Pelosi_0012.pgm\n",
        "processed"
       ]
      },
      {
       "output_type": "stream",
       "stream": "stdout",
       "text": [
        " ../../images/testsets/WW4D68/Queen_Elizabeth_II_0006.pgm\n",
        "processed"
       ]
      },
      {
       "output_type": "stream",
       "stream": "stdout",
       "text": [
        " ../../images/testsets/WW4D68/Julianne_Moore_0005.pgm\n",
        "processed"
       ]
      },
      {
       "output_type": "stream",
       "stream": "stdout",
       "text": [
        " ../../images/testsets/WW4D68/Bill_McBride_0004.pgm\n",
        "processed"
       ]
      },
      {
       "output_type": "stream",
       "stream": "stdout",
       "text": [
        " ../../images/testsets/WW4D68/Richard_Gere_0007.pgm\n",
        "processed"
       ]
      },
      {
       "output_type": "stream",
       "stream": "stdout",
       "text": [
        " ../../images/testsets/WW4D68/Mohammed_Al-Douri_0009.pgm\n",
        "processed"
       ]
      },
      {
       "output_type": "stream",
       "stream": "stdout",
       "text": [
        " ../../images/testsets/WW4D68/Roger_Federer_0003.pgm\n",
        "processed"
       ]
      },
      {
       "output_type": "stream",
       "stream": "stdout",
       "text": [
        " ../../images/testsets/WW4D68/Bill_McBride_0005.pgm\n",
        "processed"
       ]
      },
      {
       "output_type": "stream",
       "stream": "stdout",
       "text": [
        " ../../images/testsets/WW4D68/Jackie_Chan_0013.pgm\n",
        "processed"
       ]
      },
      {
       "output_type": "stream",
       "stream": "stdout",
       "text": [
        " ../../images/testsets/WW4D68/David_Nalbandian_0009.pgm\n",
        "processed"
       ]
      },
      {
       "output_type": "stream",
       "stream": "stdout",
       "text": [
        " ../../images/testsets/WW4D68/Salma_Hayek_0009.pgm\n",
        "processed"
       ]
      },
      {
       "output_type": "stream",
       "stream": "stdout",
       "text": [
        " ../../images/testsets/WW4D68/Winona_Ryder_0024.pgm\n",
        "processed ../../images/testsets/WW4D68/Condoleezza_Rice_0009.pgm\n",
        "processed"
       ]
      },
      {
       "output_type": "stream",
       "stream": "stdout",
       "text": [
        " ../../images/testsets/WW4D68/Tiger_Woods_0012.pgm\n",
        "processed"
       ]
      },
      {
       "output_type": "stream",
       "stream": "stdout",
       "text": [
        " ../../images/testsets/WW4D68/Condoleezza_Rice_0007.pgm\n",
        "processed"
       ]
      },
      {
       "output_type": "stream",
       "stream": "stdout",
       "text": [
        " ../../images/testsets/WW4D68/Andre_Agassi_0007.pgm\n",
        "processed"
       ]
      },
      {
       "output_type": "stream",
       "stream": "stdout",
       "text": [
        " ../../images/testsets/WW4D68/Winona_Ryder_0017.pgm\n",
        "processed"
       ]
      },
      {
       "output_type": "stream",
       "stream": "stdout",
       "text": [
        " ../../images/testsets/WW4D68/Pervez_Musharraf_0009.pgm\n",
        "processed"
       ]
      },
      {
       "output_type": "stream",
       "stream": "stdout",
       "text": [
        " ../../images/testsets/WW4D68/Kim_Clijsters_0013.pgm\n",
        "processed"
       ]
      },
      {
       "output_type": "stream",
       "stream": "stdout",
       "text": [
        " ../../images/testsets/WW4D68/Mike_Weir_0005.pgm\n",
        "processed"
       ]
      },
      {
       "output_type": "stream",
       "stream": "stdout",
       "text": [
        " ../../images/testsets/WW4D68/Guillermo_Coria_0024.pgm\n",
        "processed"
       ]
      },
      {
       "output_type": "stream",
       "stream": "stdout",
       "text": [
        " ../../images/testsets/WW4D68/Silvio_Berlusconi_0029.pgm\n",
        "processed"
       ]
      },
      {
       "output_type": "stream",
       "stream": "stdout",
       "text": [
        " ../../images/testsets/WW4D68/Tom_Daschle_0010.pgm\n",
        "processed"
       ]
      },
      {
       "output_type": "stream",
       "stream": "stdout",
       "text": [
        " ../../images/testsets/WW4D68/John_Kerry_0013.pgm\n",
        "processed"
       ]
      },
      {
       "output_type": "stream",
       "stream": "stdout",
       "text": [
        " ../../images/testsets/WW4D68/Catherine_Zeta-Jones_0005.pgm\n",
        "processed"
       ]
      },
      {
       "output_type": "stream",
       "stream": "stdout",
       "text": [
        " ../../images/testsets/WW4D68/Britney_Spears_0014.pgm\n",
        "processed ../../images/testsets/WW4D68/Ricardo_Lagos_0023.pgm\n",
        "processed"
       ]
      },
      {
       "output_type": "stream",
       "stream": "stdout",
       "text": [
        " ../../images/testsets/WW4D68/Jean_Charest_0010.pgm\n",
        "processed"
       ]
      },
      {
       "output_type": "stream",
       "stream": "stdout",
       "text": [
        " ../../images/testsets/WW4D68/Richard_Gere_0006.pgm\n",
        "processed"
       ]
      },
      {
       "output_type": "stream",
       "stream": "stdout",
       "text": [
        " ../../images/testsets/WW4D68/Wen_Jiabao_0011.pgm\n",
        "processed"
       ]
      },
      {
       "output_type": "stream",
       "stream": "stdout",
       "text": [
        " ../../images/testsets/WW4D68/Carlos_Moya_0001.pgm\n",
        "processed"
       ]
      },
      {
       "output_type": "stream",
       "stream": "stdout",
       "text": [
        " ../../images/testsets/WW4D68/Jennifer_Aniston_0016.pgm\n",
        "processed"
       ]
      },
      {
       "output_type": "stream",
       "stream": "stdout",
       "text": [
        " ../../images/testsets/WW4D68/Tommy_Franks_0002.pgm\n",
        "processed"
       ]
      },
      {
       "output_type": "stream",
       "stream": "stdout",
       "text": [
        " ../../images/testsets/WW4D68/John_Allen_Muhammad_0003.pgm\n",
        "processed"
       ]
      },
      {
       "output_type": "stream",
       "stream": "stdout",
       "text": [
        " ../../images/testsets/WW4D68/Andre_Agassi_0029.pgm\n",
        "processed"
       ]
      },
      {
       "output_type": "stream",
       "stream": "stdout",
       "text": [
        " ../../images/testsets/WW4D68/Nicole_Kidman_0004.pgm\n",
        "processed"
       ]
      },
      {
       "output_type": "stream",
       "stream": "stdout",
       "text": [
        " ../../images/testsets/WW4D68/Yoriko_Kawaguchi_0007.pgm\n",
        "processed"
       ]
      },
      {
       "output_type": "stream",
       "stream": "stdout",
       "text": [
        " ../../images/testsets/WW4D68/Jeb_Bush_0010.pgm\n",
        "processed"
       ]
      },
      {
       "output_type": "stream",
       "stream": "stdout",
       "text": [
        " ../../images/testsets/WW4D68/Atal_Bihari_Vajpayee_0004.pgm\n",
        "processed"
       ]
      },
      {
       "output_type": "stream",
       "stream": "stdout",
       "text": [
        " ../../images/testsets/WW4D68/Jennifer_Lopez_0004.pgm\n",
        "processed"
       ]
      },
      {
       "output_type": "stream",
       "stream": "stdout",
       "text": [
        " ../../images/testsets/WW4D68/Silvio_Berlusconi_0021.pgm\n",
        "processed"
       ]
      },
      {
       "output_type": "stream",
       "stream": "stdout",
       "text": [
        " ../../images/testsets/WW4D68/Kim_Clijsters_0008.pgm\n",
        "processed"
       ]
      },
      {
       "output_type": "stream",
       "stream": "stdout",
       "text": [
        " ../../images/testsets/WW4D68/Silvio_Berlusconi_0009.pgm\n",
        "processed"
       ]
      },
      {
       "output_type": "stream",
       "stream": "stdout",
       "text": [
        " ../../images/testsets/WW4D68/Julianne_Moore_0017.pgm\n",
        "processed"
       ]
      },
      {
       "output_type": "stream",
       "stream": "stdout",
       "text": [
        " ../../images/testsets/WW4D68/Julianne_Moore_0006.pgm\n",
        "processed"
       ]
      },
      {
       "output_type": "stream",
       "stream": "stdout",
       "text": [
        " ../../images/testsets/WW4D68/Jackie_Chan_0005.pgm\n",
        "processed"
       ]
      },
      {
       "output_type": "stream",
       "stream": "stdout",
       "text": [
        " ../../images/testsets/WW4D68/Roger_Federer_0013.pgm\n",
        "processed"
       ]
      },
      {
       "output_type": "stream",
       "stream": "stdout",
       "text": [
        " ../../images/testsets/WW4D68/Catherine_Zeta-Jones_0001.pgm\n",
        "processed"
       ]
      },
      {
       "output_type": "stream",
       "stream": "stdout",
       "text": [
        " ../../images/testsets/WW4D68/Condoleezza_Rice_0001.pgm\n",
        "processed"
       ]
      },
      {
       "output_type": "stream",
       "stream": "stdout",
       "text": [
        " ../../images/testsets/WW4D68/Tiger_Woods_0015.pgm\n",
        "processed ../../images/testsets/WW4D68/Fidel_Castro_0005.pgm\n",
        "processed"
       ]
      },
      {
       "output_type": "stream",
       "stream": "stdout",
       "text": [
        " ../../images/testsets/WW4D68/Jackie_Chan_0001.pgm\n",
        "processed"
       ]
      },
      {
       "output_type": "stream",
       "stream": "stdout",
       "text": [
        " ../../images/testsets/WW4D68/Bill_McBride_0002.pgm\n",
        "processed"
       ]
      },
      {
       "output_type": "stream",
       "stream": "stdout",
       "text": [
        " ../../images/testsets/WW4D68/Tom_Ridge_0004.pgm\n",
        "processed"
       ]
      },
      {
       "output_type": "stream",
       "stream": "stdout",
       "text": [
        " ../../images/testsets/WW4D68/Hu_Jintao_0014.pgm\n",
        "processed"
       ]
      },
      {
       "output_type": "stream",
       "stream": "stdout",
       "text": [
        " ../../images/testsets/WW4D68/Jackie_Chan_0008.pgm\n",
        "processed"
       ]
      },
      {
       "output_type": "stream",
       "stream": "stdout",
       "text": [
        " ../../images/testsets/WW4D68/Jennifer_Aniston_0021.pgm\n",
        "processed"
       ]
      },
      {
       "output_type": "stream",
       "stream": "stdout",
       "text": [
        " ../../images/testsets/WW4D68/Condoleezza_Rice_0008.pgm\n",
        "processed"
       ]
      },
      {
       "output_type": "stream",
       "stream": "stdout",
       "text": [
        " ../../images/testsets/WW4D68/Jeb_Bush_0009.pgm\n",
        "processed"
       ]
      },
      {
       "output_type": "stream",
       "stream": "stdout",
       "text": [
        " ../../images/testsets/WW4D68/Richard_Gere_0010.pgm\n",
        "processed"
       ]
      },
      {
       "output_type": "stream",
       "stream": "stdout",
       "text": [
        " ../../images/testsets/WW4D68/Carlos_Moya_0005.pgm\n",
        "processed"
       ]
      },
      {
       "output_type": "stream",
       "stream": "stdout",
       "text": [
        " ../../images/testsets/WW4D68/Naomi_Watts_0013.pgm\n",
        "processed"
       ]
      },
      {
       "output_type": "stream",
       "stream": "stdout",
       "text": [
        " ../../images/testsets/WW4D68/Jennifer_Aniston_0020.pgm\n",
        "processed"
       ]
      },
      {
       "output_type": "stream",
       "stream": "stdout",
       "text": [
        " ../../images/testsets/WW4D68/Nicole_Kidman_0018.pgm\n",
        "processed"
       ]
      },
      {
       "output_type": "stream",
       "stream": "stdout",
       "text": [
        " ../../images/testsets/WW4D68/Richard_Gere_0003.pgm\n",
        "processed"
       ]
      },
      {
       "output_type": "stream",
       "stream": "stdout",
       "text": [
        " ../../images/testsets/WW4D68/Britney_Spears_0012.pgm\n",
        "processed"
       ]
      },
      {
       "output_type": "stream",
       "stream": "stdout",
       "text": [
        " ../../images/testsets/WW4D68/Catherine_Zeta-Jones_0008.pgm\n",
        "processed"
       ]
      },
      {
       "output_type": "stream",
       "stream": "stdout",
       "text": [
        " ../../images/testsets/WW4D68/Edmund_Stoiber_0010.pgm\n",
        "processed"
       ]
      },
      {
       "output_type": "stream",
       "stream": "stdout",
       "text": [
        " ../../images/testsets/WW4D68/Queen_Elizabeth_II_0005.pgm\n",
        "processed"
       ]
      },
      {
       "output_type": "stream",
       "stream": "stdout",
       "text": [
        " ../../images/testsets/WW4D68/Jackie_Chan_0012.pgm\n",
        "processed"
       ]
      },
      {
       "output_type": "stream",
       "stream": "stdout",
       "text": [
        " ../../images/testsets/WW4D68/Winona_Ryder_0003.pgm\n",
        "processed"
       ]
      },
      {
       "output_type": "stream",
       "stream": "stdout",
       "text": [
        " ../../images/testsets/WW4D68/Roger_Federer_0001.pgm\n",
        "processed"
       ]
      },
      {
       "output_type": "stream",
       "stream": "stdout",
       "text": [
        " ../../images/testsets/WW4D68/Halle_Berry_0008.pgm\n",
        "processed"
       ]
      },
      {
       "output_type": "stream",
       "stream": "stdout",
       "text": [
        " ../../images/testsets/WW4D68/Winona_Ryder_0012.pgm\n",
        "processed"
       ]
      },
      {
       "output_type": "stream",
       "stream": "stdout",
       "text": [
        " ../../images/testsets/WW4D68/Jeb_Bush_0005.pgm\n",
        "processed"
       ]
      },
      {
       "output_type": "stream",
       "stream": "stdout",
       "text": [
        " ../../images/testsets/WW4D68/David_Nalbandian_0013.pgm\n",
        "processed"
       ]
      },
      {
       "output_type": "stream",
       "stream": "stdout",
       "text": [
        " ../../images/testsets/WW4D68/Nicanor_Duarte_Frutos_0001.pgm\n",
        "processed"
       ]
      },
      {
       "output_type": "stream",
       "stream": "stdout",
       "text": [
        " ../../images/testsets/WW4D68/Queen_Elizabeth_II_0001.pgm\n",
        "processed"
       ]
      },
      {
       "output_type": "stream",
       "stream": "stdout",
       "text": [
        " ../../images/testsets/WW4D68/Nancy_Pelosi_0013.pgm\n",
        "processed"
       ]
      },
      {
       "output_type": "stream",
       "stream": "stdout",
       "text": [
        " ../../images/testsets/WW4D68/Julianne_Moore_0018.pgm\n",
        "processed"
       ]
      },
      {
       "output_type": "stream",
       "stream": "stdout",
       "text": [
        " ../../images/testsets/WW4D68/Jennifer_Lopez_0006.pgm\n",
        "processed"
       ]
      },
      {
       "output_type": "stream",
       "stream": "stdout",
       "text": [
        " ../../images/testsets/WW4D68/Andre_Agassi_0011.pgm\n",
        "processed"
       ]
      },
      {
       "output_type": "stream",
       "stream": "stdout",
       "text": [
        " ../../images/testsets/WW4D68/Recep_Tayyip_Erdogan_0014.pgm\n",
        "processed"
       ]
      },
      {
       "output_type": "stream",
       "stream": "stdout",
       "text": [
        " ../../images/testsets/WW4D68/Britney_Spears_0011.pgm\n",
        "processed"
       ]
      },
      {
       "output_type": "stream",
       "stream": "stdout",
       "text": [
        " ../../images/testsets/WW4D68/Pervez_Musharraf_0004.pgm\n",
        "processed"
       ]
      },
      {
       "output_type": "stream",
       "stream": "stdout",
       "text": [
        " ../../images/testsets/WW4D68/Ricardo_Lagos_0006.pgm\n",
        "processed"
       ]
      },
      {
       "output_type": "stream",
       "stream": "stdout",
       "text": [
        " ../../images/testsets/WW4D68/Wen_Jiabao_0002.pgm\n",
        "processed"
       ]
      },
      {
       "output_type": "stream",
       "stream": "stdout",
       "text": [
        " ../../images/testsets/WW4D68/Bill_Clinton_0017.pgm\n",
        "processed"
       ]
      },
      {
       "output_type": "stream",
       "stream": "stdout",
       "text": [
        " ../../images/testsets/WW4D68/Jean_Charest_0002.pgm\n",
        "processed"
       ]
      },
      {
       "output_type": "stream",
       "stream": "stdout",
       "text": [
        " ../../images/testsets/WW4D68/Hu_Jintao_0004.pgm\n",
        "processed"
       ]
      },
      {
       "output_type": "stream",
       "stream": "stdout",
       "text": [
        " ../../images/testsets/WW4D68/Roger_Federer_0011.pgm\n",
        "processed"
       ]
      },
      {
       "output_type": "stream",
       "stream": "stdout",
       "text": [
        " ../../images/testsets/WW4D68/Hugo_Chavez_0014.pgm\n",
        "processed"
       ]
      },
      {
       "output_type": "stream",
       "stream": "stdout",
       "text": [
        " ../../images/testsets/WW4D68/Meryl_Streep_0009.pgm\n",
        "processed"
       ]
      },
      {
       "output_type": "stream",
       "stream": "stdout",
       "text": [
        " ../../images/testsets/WW4D68/John_Kerry_0008.pgm\n",
        "processed"
       ]
      },
      {
       "output_type": "stream",
       "stream": "stdout",
       "text": [
        " ../../images/testsets/WW4D68/Lleyton_Hewitt_0032.pgm\n",
        "processed"
       ]
      },
      {
       "output_type": "stream",
       "stream": "stdout",
       "text": [
        " ../../images/testsets/WW4D68/Meryl_Streep_0006.pgm\n",
        "processed"
       ]
      },
      {
       "output_type": "stream",
       "stream": "stdout",
       "text": [
        " ../../images/testsets/WW4D68/Jacques_Rogge_0008.pgm\n",
        "processed"
       ]
      },
      {
       "output_type": "stream",
       "stream": "stdout",
       "text": [
        " ../../images/testsets/WW4D68/Fidel_Castro_0014.pgm\n",
        "processed"
       ]
      },
      {
       "output_type": "stream",
       "stream": "stdout",
       "text": [
        " ../../images/testsets/WW4D68/Recep_Tayyip_Erdogan_0011.pgm\n",
        "processed"
       ]
      },
      {
       "output_type": "stream",
       "stream": "stdout",
       "text": [
        " ../../images/testsets/WW4D68/Britney_Spears_0001.pgm\n",
        "processed"
       ]
      },
      {
       "output_type": "stream",
       "stream": "stdout",
       "text": [
        " ../../images/testsets/WW4D68/Tiger_Woods_0011.pgm\n",
        "processed"
       ]
      },
      {
       "output_type": "stream",
       "stream": "stdout",
       "text": [
        " ../../images/testsets/WW4D68/Tiger_Woods_0013.pgm\n",
        "processed"
       ]
      },
      {
       "output_type": "stream",
       "stream": "stdout",
       "text": [
        " ../../images/testsets/WW4D68/Jean_Charest_0015.pgm\n",
        "processed"
       ]
      },
      {
       "output_type": "stream",
       "stream": "stdout",
       "text": [
        " ../../images/testsets/WW4D68/Saddam_Hussein_0009.pgm\n",
        "processed"
       ]
      },
      {
       "output_type": "stream",
       "stream": "stdout",
       "text": [
        " ../../images/testsets/WW4D68/Hu_Jintao_0001.pgm\n",
        "processed"
       ]
      },
      {
       "output_type": "stream",
       "stream": "stdout",
       "text": [
        " ../../images/testsets/WW4D68/Wen_Jiabao_0001.pgm\n",
        "processed"
       ]
      },
      {
       "output_type": "stream",
       "stream": "stdout",
       "text": [
        " ../../images/testsets/WW4D68/Dick_Cheney_0008.pgm\n",
        "processed"
       ]
      },
      {
       "output_type": "stream",
       "stream": "stdout",
       "text": [
        " ../../images/testsets/WW4D68/Meryl_Streep_0011.pgm\n",
        "processed"
       ]
      },
      {
       "output_type": "stream",
       "stream": "stdout",
       "text": [
        " ../../images/testsets/WW4D68/Tom_Daschle_0002.pgm\n",
        "processed"
       ]
      },
      {
       "output_type": "stream",
       "stream": "stdout",
       "text": [
        " ../../images/testsets/WW4D68/Fidel_Castro_0004.pgm\n",
        "processed"
       ]
      },
      {
       "output_type": "stream",
       "stream": "stdout",
       "text": [
        " ../../images/testsets/WW4D68/Condoleezza_Rice_0011.pgm\n",
        "processed"
       ]
      },
      {
       "output_type": "stream",
       "stream": "stdout",
       "text": [
        " ../../images/testsets/WW4D68/Yoriko_Kawaguchi_0008.pgm\n",
        "processed"
       ]
      },
      {
       "output_type": "stream",
       "stream": "stdout",
       "text": [
        " ../../images/testsets/WW4D68/Vicente_Fox_0011.pgm\n",
        "processed"
       ]
      },
      {
       "output_type": "stream",
       "stream": "stdout",
       "text": [
        " ../../images/testsets/WW4D68/Bill_Clinton_0018.pgm\n",
        "processed"
       ]
      },
      {
       "output_type": "stream",
       "stream": "stdout",
       "text": [
        " ../../images/testsets/WW4D68/Nancy_Pelosi_0007.pgm\n",
        "processed"
       ]
      },
      {
       "output_type": "stream",
       "stream": "stdout",
       "text": [
        " ../../images/testsets/WW4D68/Michael_Jackson_0004.pgm\n",
        "processed"
       ]
      },
      {
       "output_type": "stream",
       "stream": "stdout",
       "text": [
        " ../../images/testsets/WW4D68/Jason_Kidd_0005.pgm\n",
        "processed"
       ]
      },
      {
       "output_type": "stream",
       "stream": "stdout",
       "text": [
        " ../../images/testsets/WW4D68/Jean_Charest_0013.pgm\n",
        "processed"
       ]
      },
      {
       "output_type": "stream",
       "stream": "stdout",
       "text": [
        " ../../images/testsets/WW4D68/Recep_Tayyip_Erdogan_0001.pgm\n",
        "processed"
       ]
      },
      {
       "output_type": "stream",
       "stream": "stdout",
       "text": [
        " ../../images/testsets/WW4D68/Naomi_Watts_0019.pgm\n",
        "processed"
       ]
      },
      {
       "output_type": "stream",
       "stream": "stdout",
       "text": [
        " ../../images/testsets/WW4D68/John_Bolton_0007.pgm\n",
        "processed"
       ]
      },
      {
       "output_type": "stream",
       "stream": "stdout",
       "text": [
        " ../../images/testsets/WW4D68/Andre_Agassi_0005.pgm\n",
        "processed ../../images/testsets/WW4D68/Lleyton_Hewitt_0007.pgm\n",
        "processed"
       ]
      },
      {
       "output_type": "stream",
       "stream": "stdout",
       "text": [
        " ../../images/testsets/WW4D68/Jacques_Rogge_0004.pgm\n",
        "processed"
       ]
      },
      {
       "output_type": "stream",
       "stream": "stdout",
       "text": [
        " ../../images/testsets/WW4D68/Meryl_Streep_0001.pgm\n",
        "processed"
       ]
      },
      {
       "output_type": "stream",
       "stream": "stdout",
       "text": [
        " ../../images/testsets/WW4D68/Richard_Gere_0005.pgm\n",
        "processed"
       ]
      },
      {
       "output_type": "stream",
       "stream": "stdout",
       "text": [
        " ../../images/testsets/WW4D68/Julianne_Moore_0010.pgm\n",
        "processed"
       ]
      },
      {
       "output_type": "stream",
       "stream": "stdout",
       "text": [
        " ../../images/testsets/WW4D68/Edmund_Stoiber_0007.pgm\n",
        "processed"
       ]
      },
      {
       "output_type": "stream",
       "stream": "stdout",
       "text": [
        " ../../images/testsets/WW4D68/Meryl_Streep_0004.pgm\n",
        "processed ../../images/testsets/WW4D68/Michael_Jackson_0006.pgm\n",
        "processed"
       ]
      },
      {
       "output_type": "stream",
       "stream": "stdout",
       "text": [
        " ../../images/testsets/WW4D68/Tom_Ridge_0011.pgm\n",
        "processed"
       ]
      },
      {
       "output_type": "stream",
       "stream": "stdout",
       "text": [
        " ../../images/testsets/WW4D68/Saddam_Hussein_0016.pgm\n",
        "processed"
       ]
      },
      {
       "output_type": "stream",
       "stream": "stdout",
       "text": [
        " ../../images/testsets/WW4D68/Dick_Cheney_0006.pgm\n",
        "processed"
       ]
      },
      {
       "output_type": "stream",
       "stream": "stdout",
       "text": [
        " ../../images/testsets/WW4D68/Jiri_Novak_0009.pgm\n",
        "processed"
       ]
      },
      {
       "output_type": "stream",
       "stream": "stdout",
       "text": [
        " ../../images/testsets/WW4D68/Wen_Jiabao_0006.pgm\n",
        "processed"
       ]
      },
      {
       "output_type": "stream",
       "stream": "stdout",
       "text": [
        " ../../images/testsets/WW4D68/Andre_Agassi_0030.pgm\n",
        "processed ../../images/testsets/WW4D68/Jennifer_Aniston_0014.pgm\n",
        "processed"
       ]
      },
      {
       "output_type": "stream",
       "stream": "stdout",
       "text": [
        " ../../images/testsets/WW4D68/Ricardo_Lagos_0007.pgm\n",
        "processed"
       ]
      },
      {
       "output_type": "stream",
       "stream": "stdout",
       "text": [
        " ../../images/testsets/WW4D68/Silvio_Berlusconi_0019.pgm\n",
        "processed"
       ]
      },
      {
       "output_type": "stream",
       "stream": "stdout",
       "text": [
        " ../../images/testsets/WW4D68/Meryl_Streep_0010.pgm\n",
        "processed"
       ]
      },
      {
       "output_type": "stream",
       "stream": "stdout",
       "text": [
        " ../../images/testsets/WW4D68/Wen_Jiabao_0010.pgm\n",
        "processed"
       ]
      },
      {
       "output_type": "stream",
       "stream": "stdout",
       "text": [
        " ../../images/testsets/WW4D68/Jason_Kidd_0002.pgm\n",
        "processed"
       ]
      },
      {
       "output_type": "stream",
       "stream": "stdout",
       "text": [
        " ../../images/testsets/WW4D68/Tiger_Woods_0021.pgm\n",
        "processed"
       ]
      },
      {
       "output_type": "stream",
       "stream": "stdout",
       "text": [
        " ../../images/testsets/WW4D68/Tom_Daschle_0015.pgm\n",
        "processed"
       ]
      },
      {
       "output_type": "stream",
       "stream": "stdout",
       "text": [
        " ../../images/testsets/WW4D68/Jean_Charest_0011.pgm\n",
        "processed"
       ]
      },
      {
       "output_type": "stream",
       "stream": "stdout",
       "text": [
        " ../../images/testsets/WW4D68/Kim_Clijsters_0001.pgm\n",
        "processed ../../images/testsets/WW4D68/John_Allen_Muhammad_0007.pgm\n",
        "processed"
       ]
      },
      {
       "output_type": "stream",
       "stream": "stdout",
       "text": [
        " ../../images/testsets/WW4D68/Jacques_Rogge_0003.pgm\n",
        "processed ../../images/testsets/WW4D68/Catherine_Zeta-Jones_0011.pgm\n",
        "processed"
       ]
      },
      {
       "output_type": "stream",
       "stream": "stdout",
       "text": [
        " ../../images/testsets/WW4D68/Jeb_Bush_0002.pgm\n",
        "processed"
       ]
      },
      {
       "output_type": "stream",
       "stream": "stdout",
       "text": [
        " ../../images/testsets/WW4D68/Ricardo_Lagos_0024.pgm\n",
        "processed"
       ]
      },
      {
       "output_type": "stream",
       "stream": "stdout",
       "text": [
        " ../../images/testsets/WW4D68/Silvio_Berlusconi_0005.pgm\n",
        "processed"
       ]
      },
      {
       "output_type": "stream",
       "stream": "stdout",
       "text": [
        " ../../images/testsets/WW4D68/Silvio_Berlusconi_0020.pgm\n",
        "processed"
       ]
      },
      {
       "output_type": "stream",
       "stream": "stdout",
       "text": [
        " ../../images/testsets/WW4D68/Abdullah_Gul_0004.pgm\n",
        "processed"
       ]
      },
      {
       "output_type": "stream",
       "stream": "stdout",
       "text": [
        " ../../images/testsets/WW4D68/Halle_Berry_0009.pgm\n",
        "processed"
       ]
      },
      {
       "output_type": "stream",
       "stream": "stdout",
       "text": [
        " ../../images/testsets/WW4D68/Jennifer_Aniston_0018.pgm\n",
        "processed"
       ]
      },
      {
       "output_type": "stream",
       "stream": "stdout",
       "text": [
        " ../../images/testsets/WW4D68/Dick_Cheney_0007.pgm\n",
        "processed"
       ]
      },
      {
       "output_type": "stream",
       "stream": "stdout",
       "text": [
        " ../../images/testsets/WW4D68/Britney_Spears_0003.pgm\n",
        "processed"
       ]
      },
      {
       "output_type": "stream",
       "stream": "stdout",
       "text": [
        " ../../images/testsets/WW4D68/Condoleezza_Rice_0002.pgm\n",
        "processed"
       ]
      },
      {
       "output_type": "stream",
       "stream": "stdout",
       "text": [
        " ../../images/testsets/WW4D68/Dick_Cheney_0011.pgm\n",
        "processed"
       ]
      },
      {
       "output_type": "stream",
       "stream": "stdout",
       "text": [
        " ../../images/testsets/WW4D68/Tommy_Franks_0012.pgm\n",
        "processed"
       ]
      },
      {
       "output_type": "stream",
       "stream": "stdout",
       "text": [
        " ../../images/testsets/WW4D68/Meryl_Streep_0007.pgm\n",
        "processed"
       ]
      },
      {
       "output_type": "stream",
       "stream": "stdout",
       "text": [
        " ../../images/testsets/WW4D68/Saddam_Hussein_0007.pgm\n",
        "processed"
       ]
      },
      {
       "output_type": "stream",
       "stream": "stdout",
       "text": [
        " ../../images/testsets/WW4D68/Saddam_Hussein_0021.pgm\n",
        "processed"
       ]
      },
      {
       "output_type": "stream",
       "stream": "stdout",
       "text": [
        " ../../images/testsets/WW4D68/Hugo_Chavez_0070.pgm\n",
        "processed"
       ]
      },
      {
       "output_type": "stream",
       "stream": "stdout",
       "text": [
        " ../../images/testsets/WW4D68/Silvio_Berlusconi_0031.pgm\n",
        "processed"
       ]
      },
      {
       "output_type": "stream",
       "stream": "stdout",
       "text": [
        " ../../images/testsets/WW4D68/Jacques_Rogge_0006.pgm\n",
        "processed"
       ]
      },
      {
       "output_type": "stream",
       "stream": "stdout",
       "text": [
        " ../../images/testsets/WW4D68/Wen_Jiabao_0005.pgm\n",
        "processed"
       ]
      },
      {
       "output_type": "stream",
       "stream": "stdout",
       "text": [
        " ../../images/testsets/WW4D68/John_Kerry_0015.pgm\n",
        "processed"
       ]
      },
      {
       "output_type": "stream",
       "stream": "stdout",
       "text": [
        " ../../images/testsets/WW4D68/Jacques_Rogge_0002.pgm\n",
        "processed"
       ]
      },
      {
       "output_type": "stream",
       "stream": "stdout",
       "text": [
        " ../../images/testsets/WW4D68/Nancy_Pelosi_0011.pgm\n",
        "processed"
       ]
      },
      {
       "output_type": "stream",
       "stream": "stdout",
       "text": [
        " ../../images/testsets/WW4D68/Mike_Weir_0004.pgm\n",
        "processed"
       ]
      },
      {
       "output_type": "stream",
       "stream": "stdout",
       "text": [
        " ../../images/testsets/WW4D68/Fidel_Castro_0002.pgm\n",
        "processed"
       ]
      },
      {
       "output_type": "stream",
       "stream": "stdout",
       "text": [
        " ../../images/testsets/WW4D68/Yoriko_Kawaguchi_0010.pgm\n",
        "processed"
       ]
      },
      {
       "output_type": "stream",
       "stream": "stdout",
       "text": [
        " ../../images/testsets/WW4D68/Britney_Spears_0006.pgm\n",
        "processed"
       ]
      },
      {
       "output_type": "stream",
       "stream": "stdout",
       "text": [
        " ../../images/testsets/WW4D68/Fidel_Castro_0001.pgm\n",
        "processed"
       ]
      },
      {
       "output_type": "stream",
       "stream": "stdout",
       "text": [
        " ../../images/testsets/WW4D68/Hu_Jintao_0011.pgm\n",
        "processed"
       ]
      },
      {
       "output_type": "stream",
       "stream": "stdout",
       "text": [
        " ../../images/testsets/WW4D68/Winona_Ryder_0008.pgm\n",
        "processed"
       ]
      },
      {
       "output_type": "stream",
       "stream": "stdout",
       "text": [
        " ../../images/testsets/WW4D68/Nancy_Pelosi_0006.pgm\n",
        "processed ../../images/testsets/WW4D68/Catherine_Zeta-Jones_0004.pgm\n",
        "processed"
       ]
      },
      {
       "output_type": "stream",
       "stream": "stdout",
       "text": [
        " ../../images/testsets/WW4D68/Catherine_Zeta-Jones_0010.pgm\n",
        "processed"
       ]
      },
      {
       "output_type": "stream",
       "stream": "stdout",
       "text": [
        " ../../images/testsets/WW4D68/David_Nalbandian_0010.pgm\n",
        "processed"
       ]
      },
      {
       "output_type": "stream",
       "stream": "stdout",
       "text": [
        " ../../images/testsets/WW4D68/Roger_Federer_0009.pgm\n",
        "processed"
       ]
      },
      {
       "output_type": "stream",
       "stream": "stdout",
       "text": [
        " ../../images/testsets/WW4D68/Richard_Gere_0009.pgm\n",
        "processed"
       ]
      },
      {
       "output_type": "stream",
       "stream": "stdout",
       "text": [
        " ../../images/testsets/WW4D68/Meryl_Streep_0008.pgm\n",
        "processed"
       ]
      },
      {
       "output_type": "stream",
       "stream": "stdout",
       "text": [
        " ../../images/testsets/WW4D68/David_Nalbandian_0003.pgm\n",
        "processed"
       ]
      },
      {
       "output_type": "stream",
       "stream": "stdout",
       "text": [
        " ../../images/testsets/WW4D68/Condoleezza_Rice_0003.pgm\n",
        "processed"
       ]
      },
      {
       "output_type": "stream",
       "stream": "stdout",
       "text": [
        " ../../images/testsets/WW4D68/Jackie_Chan_0010.pgm\n",
        "processed"
       ]
      },
      {
       "output_type": "stream",
       "stream": "stdout",
       "text": [
        " ../../images/testsets/WW4D68/Ricardo_Lagos_0012.pgm\n",
        "processed"
       ]
      },
      {
       "output_type": "stream",
       "stream": "stdout",
       "text": [
        " ../../images/testsets/WW4D68/Hu_Jintao_0013.pgm\n",
        "processed"
       ]
      },
      {
       "output_type": "stream",
       "stream": "stdout",
       "text": [
        " ../../images/testsets/WW4D68/Tom_Ridge_0001.pgm\n",
        "processed"
       ]
      },
      {
       "output_type": "stream",
       "stream": "stdout",
       "text": [
        " ../../images/testsets/WW4D68/Jeb_Bush_0001.pgm\n",
        "processed"
       ]
      },
      {
       "output_type": "stream",
       "stream": "stdout",
       "text": [
        " ../../images/testsets/WW4D68/Jean_Charest_0007.pgm\n",
        "processed"
       ]
      },
      {
       "output_type": "stream",
       "stream": "stdout",
       "text": [
        " ../../images/testsets/WW4D68/Nancy_Pelosi_0010.pgm\n",
        "processed"
       ]
      },
      {
       "output_type": "stream",
       "stream": "stdout",
       "text": [
        " ../../images/testsets/WW4D68/Jason_Kidd_0009.pgm\n",
        "processed"
       ]
      },
      {
       "output_type": "stream",
       "stream": "stdout",
       "text": [
        " ../../images/testsets/WW4D68/Dick_Cheney_0005.pgm\n",
        "processed ../../images/testsets/WW4D68/Condoleezza_Rice_0004.pgm\n",
        "processed"
       ]
      },
      {
       "output_type": "stream",
       "stream": "stdout",
       "text": [
        " ../../images/testsets/WW4D68/Nicole_Kidman_0016.pgm\n"
       ]
      }
     ],
     "prompt_number": 9
    },
    {
     "cell_type": "markdown",
     "metadata": {},
     "source": [
      "## Matching images ##\n",
      "\n",
      "Here is a simple function that shows the matching points of two images.\n",
      "First we load the keyfiles of both images, then we find the matchscores of descriptors of the two images and in turn plot the matches"
     ]
    },
    {
     "cell_type": "code",
     "collapsed": false,
     "input": [
      "import string\n",
      "import pdb\n",
      "from random import sample\n",
      "\n",
      "# Pick out all the photos of Meryl Streep (Just to have somebody to test with)\n",
      "meryls = [image for image in images if \"Meryl\" in image]\n",
      "\n",
      "# Now pick out two photos at random\n",
      "[m1, m2] = sample(meryls,2)\n",
      "[k1, k2] = [os.path.splitext(image)[0] + \".key\" for image in [m1, m2]]\n",
      "[p1, p2] = [os.path.splitext(image)[0] + \".png\" for image in [m1, m2]]\n",
      "[im1, im2] = [imread(image) for image in [p1, p2]]\n",
      "\n",
      "# Get feature vector from keyfile\n",
      "(locs1, desc1) = sift.read_features_from_file(k1)\n",
      "(locs2, desc2) = sift.read_features_from_file(k2)\n",
      "\n",
      "# Match the two files\n",
      "matchscores = sift.match(desc1, desc2)\n",
      "\n",
      "# Plot matches\n",
      "sift.plot_matches(im1, im2, locs1, locs2, matchscores)"
     ],
     "language": "python",
     "metadata": {},
     "outputs": [
      {
       "output_type": "stream",
       "stream": "stdout",
       "text": [
        "(150, 150, 3)\n",
        "(150, 150, 3)\n"
       ]
      },
      {
       "output_type": "display_data",
       "png": "[encoded data removed]"
      }
     ],
     "prompt_number": 116
    },
    {
     "cell_type": "code",
     "collapsed": false,
     "input": [],
     "language": "python",
     "metadata": {},
     "outputs": [],
     "prompt_number": 96
    },
    {
     "cell_type": "code",
     "collapsed": false,
     "input": [],
     "language": "python",
     "metadata": {},
     "outputs": []
    }
   ],
   "metadata": {}
  }
 ]
}
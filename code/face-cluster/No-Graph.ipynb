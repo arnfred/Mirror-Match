{
 "metadata": {
  "name": "No-Graph"
 },
 "nbformat": 3,
 "nbformat_minor": 0,
 "worksheets": [
  {
   "cells": [
    {
     "cell_type": "code",
     "collapsed": false,
     "input": [
      "#Stupid hack to load files from sibling dir\n",
      "import sys; import os\n",
      "sys.path.insert(0, os.path.abspath('..'))"
     ],
     "language": "python",
     "metadata": {},
     "outputs": [],
     "prompt_number": 96
    },
    {
     "cell_type": "code",
     "collapsed": false,
     "input": [
      "import os\n",
      "import fnmatch\n",
      "import features\n",
      "import featureGraph\n",
      "import weightMatrix\n",
      "import scoring\n",
      "import display\n",
      "import numpy\n",
      "import preprocessing\n",
      "from random import sample\n",
      "import graph_tool.all as gt\n",
      "\n",
      "testset = \"../../images/testsets/small_test/\"\n",
      "#testset = \"../../images/testsets/Gallagher_small_unresized/\"\n",
      "\n",
      "# Get a list of all images\n",
      "all_paths = [testset + f for (_,_,filenames) in os.walk(testset) for f in fnmatch.filter(filenames, \"*.png\")]\n",
      "paths = sample(all_paths, 2)\n",
      "#while features.getLabel(paths[0]) != features.getLabel(paths[1]) :\n",
      "#    paths = sample(all_paths, 2)\n",
      "print(paths)"
     ],
     "language": "python",
     "metadata": {},
     "outputs": [
      {
       "output_type": "stream",
       "stream": "stdout",
       "text": [
        "['../../images/testsets/small_test/Bill_Gates_0002.png', '../../images/testsets/small_test/Anna_Kournikova_0008.png']\n"
       ]
      }
     ],
     "prompt_number": 97
    },
    {
     "cell_type": "code",
     "collapsed": false,
     "input": [
      "indices, keypoints, descriptors = featureGraph.getDescriptors(paths)\n",
      "print(\"Number of keypoints: %i\" % (len(keypoints)))\n",
      "images = map(features.loadImage, paths)\n",
      "labels = map(features.getLabel, paths)\n",
      "print(labels)\n",
      "from scipy.sparse import *\n",
      "\n",
      "# Get weights\n",
      "full_weights = weightMatrix.init(descriptors)\n",
      "score_weights = weightMatrix.pruneTreshold(full_weights, 20)\n",
      "cluster_weights = weightMatrix.pruneHighest(score_weights, 3)\n",
      "\n",
      "cluster_graph = featureGraph.init(cluster_weights)"
     ],
     "language": "python",
     "metadata": {},
     "outputs": [
      {
       "output_type": "stream",
       "stream": "stdout",
       "text": [
        "595\n",
        "595\n",
        "Number of keypoints: 595\n",
        "['Bill Gates', 'Anna Kournikova']\n"
       ]
      }
     ],
     "prompt_number": 106
    },
    {
     "cell_type": "code",
     "collapsed": false,
     "input": [
      "def louvain(weights, verbose=False) :\n",
      "    indices = numpy.arange(0, weights.shape[0])\n",
      "    partitions = indices.copy()\n",
      "    K = weights.sum()\n",
      "    moved = 1\n",
      "    while (moved > 0) :\n",
      "        moved = sum([move(weights, i, partitions, K) for i in indices])\n",
      "        if verbose : print(\"Moved %i vertices\" % moved)\n",
      "    return partitions\n",
      "\n",
      "\n",
      "def move(weights, index, partitions, K) :\n",
      "    # Move out of partition\n",
      "    old_partition = partitions[index]\n",
      "    partitions[index] = -1\n",
      "    # See how much we would gain from moving p back to orig_partition\n",
      "    lost_Q = deltaQ(weights, index, (old_partition == partitions), K)\n",
      "    # What is the best gain elsewhere?\n",
      "    prospects = set(partitions[numpy.nonzero(weights[index])])\n",
      "    prospect_Q = [(deltaQ(weights, index, (p == partitions), K), p) for p in prospects]\n",
      "    max_gained_Q = max(prospect_Q) if (len(prospect_Q) > 0) else (-1,-1)\n",
      "    # Is it worth moving?\n",
      "    delta = max_gained_Q[0] - lost_Q\n",
      "    if (delta > 0) : \n",
      "        partitions[index] = max_gained_Q[1]\n",
      "        return 1\n",
      "    else : \n",
      "        partitions[index] = old_partition\n",
      "        return 0\n",
      "\n",
      "def prospect_set(weights, index, partitions) :\n",
      "    return set(partitions[weights[index] != 0])\n",
      "\n",
      "# Gain in Q from moving index to new_partition\n",
      "def deltaQ(weights, index, partition_mask, K) :\n",
      "    v_edges = weights[index]\n",
      "    v_weight = 2.0 * v_edges[partition_mask].sum()\n",
      "    k_neighbours = weights[partition_mask,:].sum()\n",
      "    k_v = v_edges.sum()\n",
      "    return 1.0/K * (v_weight - (k_v * k_neighbours) / K)\n",
      "\n",
      "    \n",
      "    \n",
      "partition = louvain(cluster_weights, verbose=True)\n",
      "#louvain.cluster(cluster_graph, verbose=True)"
     ],
     "language": "python",
     "metadata": {},
     "outputs": [
      {
       "output_type": "stream",
       "stream": "stdout",
       "text": [
        "Moved 492 vertices\n",
        "Moved 180 vertices"
       ]
      },
      {
       "output_type": "stream",
       "stream": "stdout",
       "text": [
        "\n",
        "Moved 47 vertices"
       ]
      },
      {
       "output_type": "stream",
       "stream": "stdout",
       "text": [
        "\n",
        "Moved 12 vertices"
       ]
      },
      {
       "output_type": "stream",
       "stream": "stdout",
       "text": [
        "\n",
        "Moved 2 vertices"
       ]
      },
      {
       "output_type": "stream",
       "stream": "stdout",
       "text": [
        "\n",
        "Moved 0 vertices"
       ]
      },
      {
       "output_type": "stream",
       "stream": "stdout",
       "text": [
        "\n"
       ]
      }
     ],
     "prompt_number": 107
    },
    {
     "cell_type": "code",
     "collapsed": false,
     "input": [
      "def modularity(weights, mask) :\n",
      "    K = weights.sum()\n",
      "    indices = numpy.arange(0,weights.shape[0])\n",
      "    internal_sum = weights[mask][:, mask].sum()\n",
      "    external_sum = weights[mask].sum()\n",
      "    fraction = (internal_sum / (K))\n",
      "    E_fraction = (external_sum / (K)) ** 2\n",
      "    return fraction - E_fraction\n",
      "\n",
      "print(modularity(cluster_weights, partition == 98))"
     ],
     "language": "python",
     "metadata": {},
     "outputs": [
      {
       "output_type": "stream",
       "stream": "stdout",
       "text": [
        "0.0\n",
        "595\n",
        "595\n",
        "595\n",
        "595\n"
       ]
      }
     ],
     "prompt_number": 113
    },
    {
     "cell_type": "code",
     "collapsed": false,
     "input": [
      "def scoreCluster(weights, partition_mask, image_indices, weight, scoring = lambda m,c : m + c if c > 0 else 0.0, verbose=False) : \n",
      "    def s(m,c,w) : return scoring(m,c) * w\n",
      "    \n",
      "    partition_weights = weights[partition_mask][:, partition_mask]\n",
      "    im_mask1 = image_indices[partition_mask] == 1\n",
      "    im_mask0 = image_indices[partition_mask] == 0\n",
      "    \n",
      "    if (im_mask1.sum() == 0 or im_mask0.sum() == 0) : return 0.0\n",
      "    \n",
      "\n",
      "    \n",
      "    if verbose : printResult(m,c,weight)\n",
      "    return scoring(m,c) * weight\n",
      "\n",
      "scoreCluster(cluster_weights, partition == 98, numpy.array(indices), 1.0, verbose=True)"
     ],
     "language": "python",
     "metadata": {},
     "outputs": [
      {
       "output_type": "pyout",
       "prompt_number": 114,
       "text": [
        "0.0"
       ]
      }
     ],
     "prompt_number": 114
    },
    {
     "cell_type": "code",
     "collapsed": false,
     "input": [
      "def scoreWeights(weights, partitions, image_indices, scoring = lambda m,c : m + c if c > 0 else 0.0, verbose=False) :\n",
      "\n",
      "    def printResult(i, m, c, w) : \n",
      "        print(\"[%i]\" % i + \"\\tm: %+0.4f\" % m + \", c: %+0.4f\" % c + \", u_s: %+0.4f\" % scoring(m,c) + \", s: %+0.4f\" % (scoring(m,c) * w) + \", w: %0.2f\" % w)\n",
      "    \n",
      "    def in_range(partition_mask, image_masks) :\n",
      "        return (image_masks[1].sum() != 0 and image_masks[0].sum() != 0)\n",
      "    \n",
      "    def score(index, im_masks, partition_mask, weight) :\n",
      "        \n",
      "        partition_weights = weights[partition_mask][:, partition_mask]\n",
      "        m = modularity(weights, partition_mask)\n",
      "        c = -1 * (modularity(partition_weights, im_masks[1]) + modularity(partition_weights, im_masks[0]))\n",
      "        if verbose : printResult(index, m,c,weight)\n",
      "        return scoring(m,c) * weight\n",
      "    \n",
      "    # Define range and precalculate modularity\n",
      "    partition_set = set(partitions)\n",
      "    \n",
      "    # Define masks\n",
      "    p_masks = [(p, partitions == p) for p in partition_set]\n",
      "    i_masks = [(image_indices[p] == 0,image_indices[p] == 1) for (i,p) in p_masks]\n",
      "    \n",
      "    # Create list of data\n",
      "    data = [(p_index, modularity(weights, p), p, im) for (p_index,p),im in zip(p_masks, i_masks) if in_range(p,im)]\n",
      "    mods_sum = numpy.sum([m for i, m, p, im in data])\n",
      "    data_norm = [(i, m/mods_sum, p, im) for i, m, p, im in data]\n",
      "    scores = [score(i, im, p, m) for i, m, p, im in data_norm]\n",
      "    partition_indices = [i for i, m, p, im in data]\n",
      "    \n",
      "    return scores, partition_indices\n",
      "\n",
      "scoreWeights(cluster_weights, partition, numpy.array(indices), verbose=True)"
     ],
     "language": "python",
     "metadata": {},
     "outputs": [
      {
       "output_type": "stream",
       "stream": "stdout",
       "text": [
        "595\n",
        "595\n",
        "[264]\tm: +0.0153, c: +0.0054, u_s: +0.0207, s: +0.0026, w: 0.13\n",
        "[265]\tm: +0.0142, c: +0.0060, u_s: +0.0202, s: +0.0024, w: 0.12\n",
        "[268]\tm: +0.0289, c: -0.2326, u_s: +0.0000, s: +0.0000, w: 0.24\n",
        "[535]\tm: +0.0223, c: +0.0029, u_s: +0.0252, s: +0.0047, w: 0.19\n",
        "[292]\tm: +0.0345, c: -0.4353, u_s: +0.0000, s: +0.0000, w: 0.29\n",
        "[429]\tm: +0.0046, c: +0.0582, u_s: +0.0628, s: +0.0024, w: 0.04\n"
       ]
      },
      {
       "output_type": "pyout",
       "prompt_number": 115,
       "text": [
        "([0.0026486707178830244,\n",
        "  0.0024032463267997157,\n",
        "  0.0,\n",
        "  0.0046932698042235019,\n",
        "  0.0,\n",
        "  0.0024203818234809068],\n",
        " [264, 265, 268, 535, 292, 429])"
       ]
      }
     ],
     "prompt_number": 115
    },
    {
     "cell_type": "code",
     "collapsed": false,
     "input": [
      "part = cluster_graph.new_vertex_property(\"int\")\n",
      "part.fa = partition\n",
      "featureGraph.setFeatureIndices(cluster_graph, indices)\n",
      "scoring.scoreGraph(cluster_graph, part, max(partition), scoring=lambda m,c : m + c if c > 0 else 0.0, verbose=True)"
     ],
     "language": "python",
     "metadata": {},
     "outputs": [
      {
       "output_type": "stream",
       "stream": "stdout",
       "text": [
        "[264]\tm: +0.0153, c: +0.0054, u_s: +0.0207, s: +0.0026, w: 0.13\n",
        "[265]\tm: +0.0142, c: +0.0060, u_s: +0.0202, s: +0.0024, w: 0.12\n",
        "[268]\tm: +0.0289, c: -0.2326, u_s: +0.0000, s: +0.0000, w: 0.24\n",
        "[292]\tm: +0.0345, c: -0.4353, u_s: +0.0000, s: +0.0000, w: 0.29"
       ]
      },
      {
       "output_type": "stream",
       "stream": "stdout",
       "text": [
        "\n",
        "[429]\tm: +0.0046, c: +0.0582, u_s: +0.0628, s: +0.0024, w: 0.04\n",
        "[535]\tm: +0.0223, c: +0.0029, u_s: +0.0252, s: +0.0047, w: 0.19\n"
       ]
      },
      {
       "output_type": "pyout",
       "prompt_number": 118,
       "text": [
        "([0.0026486707178829901,\n",
        "  0.0024032463267997122,\n",
        "  0.0,\n",
        "  0.0,\n",
        "  0.0024203818234809021,\n",
        "  0.004693269804223436],\n",
        " [264, 265, 268, 292, 429, 535])"
       ]
      }
     ],
     "prompt_number": 118
    },
    {
     "cell_type": "code",
     "collapsed": false,
     "input": [
      "%load_ext autoreload\n",
      "%autoreload 2"
     ],
     "language": "python",
     "metadata": {},
     "outputs": []
    }
   ],
   "metadata": {}
  }
 ]
}
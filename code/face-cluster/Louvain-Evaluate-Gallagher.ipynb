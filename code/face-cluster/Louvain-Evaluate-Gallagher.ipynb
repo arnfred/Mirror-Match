{
 "metadata": {
  "name": "Louvain-Evaluate-Gallagher"
 },
 "nbformat": 3,
 "nbformat_minor": 0,
 "worksheets": [
  {
   "cells": [
    {
     "cell_type": "code",
     "collapsed": false,
     "input": [
      "#Stupid hack to load files from sibling dir\n",
      "import sys; import os\n",
      "sys.path.insert(0, os.path.abspath('..'))"
     ],
     "language": "python",
     "metadata": {},
     "outputs": [],
     "prompt_number": 1
    },
    {
     "cell_type": "code",
     "collapsed": false,
     "input": [
      "import os\n",
      "import fnmatch\n",
      "import features\n",
      "import cluster\n",
      "import display\n",
      "import louvain\n",
      "from itertools import combinations\n",
      "\n",
      "# testset = \"../../images/testsets/WC818C/\"\n",
      "testset = \"../../images/testsets/Gallagher_small/\"\n",
      "\n",
      "# Get a list of all image pairs\n",
      "all_paths = [testset + f for (_,_,filenames) in os.walk(testset) for f in fnmatch.filter(filenames, \"*.jpg\")]\n",
      "path_pairs = list(combinations(all_paths, 2))\n",
      "label_pairs = list(combinations(map(features.getLabel,all_paths), 2))"
     ],
     "language": "python",
     "metadata": {},
     "outputs": [],
     "prompt_number": 2
    },
    {
     "cell_type": "code",
     "collapsed": false,
     "input": [
      "#cluster.scoreImagePair(pairs.next())\n",
      "result = [((l1 == l2), cluster.scoreImagePair([p1, p2], louvain.cluster))\n",
      "        for ((p1, p2), (l1, l2), i) \n",
      "        in zip(path_pairs, label_pairs, range(len(list(label_pairs))) )]\n",
      "\n",
      "display.scoreHist(result)"
     ],
     "language": "python",
     "metadata": {},
     "outputs": [
      {
       "output_type": "stream",
       "stream": "stdout",
       "text": [
        "['../../images/testsets/Gallagher_small/32_842.jpg', '../../images/testsets/Gallagher_small/27_536.jpg']\n",
        "Score: -0.1000 for 32 and 27 (Less than two matches)"
       ]
      },
      {
       "output_type": "stream",
       "stream": "stdout",
       "text": [
        "\n",
        "['../../images/testsets/Gallagher_small/32_842.jpg', '../../images/testsets/Gallagher_small/23_523.jpg']\n",
        "Score: -0.1000 for 32 and 23 (Less than two matches)"
       ]
      },
      {
       "output_type": "stream",
       "stream": "stdout",
       "text": [
        "\n",
        "['../../images/testsets/Gallagher_small/32_842.jpg', '../../images/testsets/Gallagher_small/21_585.jpg']\n",
        "Score: -0.1000 for 32 and 21 (Less than two matches)"
       ]
      },
      {
       "output_type": "stream",
       "stream": "stdout",
       "text": [
        "\n",
        "['../../images/testsets/Gallagher_small/32_842.jpg', '../../images/testsets/Gallagher_small/25_924.jpg']\n",
        "Score: 0.0297 for 32 and 25"
       ]
      },
      {
       "output_type": "stream",
       "stream": "stdout",
       "text": [
        "\n",
        "['../../images/testsets/Gallagher_small/32_842.jpg', '../../images/testsets/Gallagher_small/23_564.jpg']\n",
        "Score: -0.1000 for 32 and 23 (Less than two matches)"
       ]
      },
      {
       "output_type": "stream",
       "stream": "stdout",
       "text": [
        "\n",
        "['../../images/testsets/Gallagher_small/32_842.jpg', '../../images/testsets/Gallagher_small/25_757.jpg']\n",
        "Score: -0.1000 for 32 and 25 (Less than two matches)"
       ]
      },
      {
       "output_type": "stream",
       "stream": "stdout",
       "text": [
        "\n",
        "['../../images/testsets/Gallagher_small/32_842.jpg', '../../images/testsets/Gallagher_small/26_878.jpg']\n",
        "Score: -0.1000 for 32 and 26 (Less than two matches)"
       ]
      },
      {
       "output_type": "stream",
       "stream": "stdout",
       "text": [
        "\n",
        "['../../images/testsets/Gallagher_small/32_842.jpg', '../../images/testsets/Gallagher_small/18_216.jpg']\n",
        "Score: -0.1000 for 32 and 18 (Less than two matches)"
       ]
      },
      {
       "output_type": "stream",
       "stream": "stdout",
       "text": [
        "\n",
        "['../../images/testsets/Gallagher_small/32_842.jpg', '../../images/testsets/Gallagher_small/15_160.jpg']\n",
        "Score: 0.0687 for 32 and 15"
       ]
      },
      {
       "output_type": "stream",
       "stream": "stdout",
       "text": [
        "\n",
        "['../../images/testsets/Gallagher_small/32_842.jpg', '../../images/testsets/Gallagher_small/14_180.jpg']\n",
        "Score: 0.0539 for 32 and 14"
       ]
      },
      {
       "output_type": "stream",
       "stream": "stdout",
       "text": [
        "\n",
        "['../../images/testsets/Gallagher_small/32_842.jpg', '../../images/testsets/Gallagher_small/25_694.jpg']\n",
        "Score: -0.1000 for 32 and 25 (Less than two matches)"
       ]
      },
      {
       "output_type": "stream",
       "stream": "stdout",
       "text": [
        "\n",
        "['../../images/testsets/Gallagher_small/32_842.jpg', '../../images/testsets/Gallagher_small/25_696.jpg']\n",
        "Score: 0.0634 for 32 and 25"
       ]
      },
      {
       "output_type": "stream",
       "stream": "stdout",
       "text": [
        "\n",
        "['../../images/testsets/Gallagher_small/32_842.jpg', '../../images/testsets/Gallagher_small/32_639.jpg']\n",
        "Score: -0.0101 for 32 and 32"
       ]
      },
      {
       "output_type": "stream",
       "stream": "stdout",
       "text": [
        "\n",
        "['../../images/testsets/Gallagher_small/32_842.jpg', '../../images/testsets/Gallagher_small/30_554.jpg']\n",
        "Score: -0.1000 for 32 and 30 (Less than two matches)"
       ]
      },
      {
       "output_type": "stream",
       "stream": "stdout",
       "text": [
        "\n",
        "['../../images/testsets/Gallagher_small/32_842.jpg', '../../images/testsets/Gallagher_small/28_525.jpg']\n",
        "Score: 0.0918 for 32 and 28"
       ]
      },
      {
       "output_type": "stream",
       "stream": "stdout",
       "text": [
        "\n",
        "['../../images/testsets/Gallagher_small/32_842.jpg', '../../images/testsets/Gallagher_small/30_539.jpg']\n",
        "Score: -0.1000 for 32 and 30 (Less than two matches)"
       ]
      },
      {
       "output_type": "stream",
       "stream": "stdout",
       "text": [
        "\n",
        "['../../images/testsets/Gallagher_small/32_842.jpg', '../../images/testsets/Gallagher_small/26_550.jpg']\n",
        "Score: -0.1000 for 32 and 26 (Less than two matches)"
       ]
      },
      {
       "output_type": "stream",
       "stream": "stdout",
       "text": [
        "\n",
        "['../../images/testsets/Gallagher_small/32_842.jpg', '../../images/testsets/Gallagher_small/15_170.jpg']\n",
        "Score: -0.1000 for 32 and 15 (Less than two matches)"
       ]
      },
      {
       "output_type": "stream",
       "stream": "stdout",
       "text": [
        "\n",
        "['../../images/testsets/Gallagher_small/32_842.jpg', '../../images/testsets/Gallagher_small/21_293.jpg']\n",
        "Score: -0.1000 for 32 and 21 (Less than two matches)"
       ]
      },
      {
       "output_type": "stream",
       "stream": "stdout",
       "text": [
        "\n",
        "['../../images/testsets/Gallagher_small/32_842.jpg', '../../images/testsets/Gallagher_small/24_379.jpg']\n",
        "Score: 0.0728 for 32 and 24"
       ]
      },
      {
       "output_type": "stream",
       "stream": "stdout",
       "text": [
        "\n",
        "['../../images/testsets/Gallagher_small/32_842.jpg', '../../images/testsets/Gallagher_small/17_212.jpg']\n",
        "Score: -0.1000 for 32 and 17 (Less than two matches)"
       ]
      },
      {
       "output_type": "stream",
       "stream": "stdout",
       "text": [
        "\n",
        "['../../images/testsets/Gallagher_small/32_842.jpg', '../../images/testsets/Gallagher_small/14_699.jpg']\n",
        "Score: 0.0656 for 32 and 14"
       ]
      },
      {
       "output_type": "stream",
       "stream": "stdout",
       "text": [
        "\n",
        "['../../images/testsets/Gallagher_small/32_842.jpg', '../../images/testsets/Gallagher_small/28_567.jpg']\n",
        "Score: 0.0610 for 32 and 28"
       ]
      },
      {
       "output_type": "stream",
       "stream": "stdout",
       "text": [
        "\n",
        "['../../images/testsets/Gallagher_small/32_842.jpg', '../../images/testsets/Gallagher_small/27_551.jpg']\n",
        "Score: 0.0082 for 32 and 27"
       ]
      },
      {
       "output_type": "stream",
       "stream": "stdout",
       "text": [
        "\n",
        "['../../images/testsets/Gallagher_small/32_842.jpg', '../../images/testsets/Gallagher_small/22_254.jpg']\n",
        "Score: -0.1000 for 32 and 22 (Less than two matches)"
       ]
      },
      {
       "output_type": "stream",
       "stream": "stdout",
       "text": [
        "\n",
        "['../../images/testsets/Gallagher_small/32_842.jpg', '../../images/testsets/Gallagher_small/29_568.jpg']\n",
        "Score: -0.1000 for 32 and 29 (Less than two matches)"
       ]
      },
      {
       "output_type": "stream",
       "stream": "stdout",
       "text": [
        "\n",
        "['../../images/testsets/Gallagher_small/32_842.jpg', '../../images/testsets/Gallagher_small/15_154.jpg']\n",
        "Score: -0.1000 for 32 and 15 (Less than two matches)"
       ]
      },
      {
       "output_type": "stream",
       "stream": "stdout",
       "text": [
        "\n",
        "['../../images/testsets/Gallagher_small/32_842.jpg', '../../images/testsets/Gallagher_small/25_431.jpg']\n",
        "Score: -0.0123 for 32 and 25"
       ]
      },
      {
       "output_type": "stream",
       "stream": "stdout",
       "text": [
        "\n",
        "['../../images/testsets/Gallagher_small/32_842.jpg', '../../images/testsets/Gallagher_small/23_305.jpg']\n",
        "Score: 0.0414 for 32 and 23"
       ]
      },
      {
       "output_type": "stream",
       "stream": "stdout",
       "text": [
        "\n",
        "['../../images/testsets/Gallagher_small/32_842.jpg', '../../images/testsets/Gallagher_small/16_164.jpg']\n",
        "Score: 0.0866 for 32 and 16"
       ]
      },
      {
       "output_type": "stream",
       "stream": "stdout",
       "text": [
        "\n",
        "['../../images/testsets/Gallagher_small/32_842.jpg', '../../images/testsets/Gallagher_small/18_166.jpg']\n",
        "Score: 0.1013 for 32 and 18"
       ]
      },
      {
       "output_type": "stream",
       "stream": "stdout",
       "text": [
        "\n",
        "['../../images/testsets/Gallagher_small/32_842.jpg', '../../images/testsets/Gallagher_small/25_770.jpg']\n",
        "Score: 0.1468 for 32 and 25"
       ]
      },
      {
       "output_type": "stream",
       "stream": "stdout",
       "text": [
        "\n",
        "['../../images/testsets/Gallagher_small/32_842.jpg', '../../images/testsets/Gallagher_small/32_642.jpg']\n",
        "Score: 0.0691 for 32 and 32"
       ]
      },
      {
       "output_type": "stream",
       "stream": "stdout",
       "text": [
        "\n",
        "['../../images/testsets/Gallagher_small/32_842.jpg', '../../images/testsets/Gallagher_small/19_198.jpg']\n",
        "Score: 0.0365 for 32 and 19"
       ]
      },
      {
       "output_type": "stream",
       "stream": "stdout",
       "text": [
        "\n",
        "['../../images/testsets/Gallagher_small/32_842.jpg', '../../images/testsets/Gallagher_small/21_294.jpg']\n",
        "Score: -0.1000 for 32 and 21 (Less than two matches)"
       ]
      },
      {
       "output_type": "stream",
       "stream": "stdout",
       "text": [
        "\n",
        "['../../images/testsets/Gallagher_small/32_842.jpg', '../../images/testsets/Gallagher_small/14_206.jpg']\n",
        "Score: 0.1053 for 32 and 14"
       ]
      },
      {
       "output_type": "stream",
       "stream": "stdout",
       "text": [
        "\n",
        "['../../images/testsets/Gallagher_small/32_842.jpg', '../../images/testsets/Gallagher_small/26_535.jpg']\n",
        "Score: -0.1000 for 32 and 26 (Less than two matches)"
       ]
      },
      {
       "output_type": "stream",
       "stream": "stdout",
       "text": [
        "\n",
        "['../../images/testsets/Gallagher_small/32_842.jpg', '../../images/testsets/Gallagher_small/22_255.jpg']\n",
        "Score: -0.1000 for 32 and 22 (Less than two matches)"
       ]
      },
      {
       "output_type": "stream",
       "stream": "stdout",
       "text": [
        "\n",
        "['../../images/testsets/Gallagher_small/32_842.jpg', '../../images/testsets/Gallagher_small/29_553.jpg']\n",
        "Score: -0.1000 for 32 and 29 (Less than two matches)"
       ]
      },
      {
       "output_type": "stream",
       "stream": "stdout",
       "text": [
        "\n",
        "['../../images/testsets/Gallagher_small/32_842.jpg', '../../images/testsets/Gallagher_small/13_168.jpg']\n",
        "Score: -0.1000 for 32 and 13 (Less than two matches)"
       ]
      },
      {
       "output_type": "stream",
       "stream": "stdout",
       "text": [
        "\n",
        "['../../images/testsets/Gallagher_small/32_842.jpg', '../../images/testsets/Gallagher_small/28_552.jpg']\n",
        "Score: -0.1000 for 32 and 28 (Less than two matches)"
       ]
      },
      {
       "output_type": "stream",
       "stream": "stdout",
       "text": [
        "\n",
        "['../../images/testsets/Gallagher_small/32_842.jpg', '../../images/testsets/Gallagher_small/13_145.jpg']\n",
        "Score: -0.1000 for 32 and 13 (Less than two matches)"
       ]
      },
      {
       "output_type": "stream",
       "stream": "stdout",
       "text": [
        "\n",
        "['../../images/testsets/Gallagher_small/32_842.jpg', '../../images/testsets/Gallagher_small/14_207.jpg']\n",
        "Score: -0.1000 for 32 and 14 (Less than two matches)"
       ]
      },
      {
       "output_type": "stream",
       "stream": "stdout",
       "text": [
        "\n",
        "['../../images/testsets/Gallagher_small/32_842.jpg', '../../images/testsets/Gallagher_small/14_150.jpg']\n",
        "Score: -0.1000 for 32 and 14 (Less than two matches)"
       ]
      },
      {
       "output_type": "stream",
       "stream": "stdout",
       "text": [
        "\n",
        "['../../images/testsets/Gallagher_small/32_842.jpg', '../../images/testsets/Gallagher_small/27_566.jpg']\n",
        "Score: -0.0006 for 32 and 27"
       ]
      },
      {
       "output_type": "stream",
       "stream": "stdout",
       "text": [
        "\n",
        "['../../images/testsets/Gallagher_small/32_842.jpg', '../../images/testsets/Gallagher_small/17_183.jpg']\n",
        "Score: -0.0124 for 32 and 17"
       ]
      },
      {
       "output_type": "stream",
       "stream": "stdout",
       "text": [
        "\n",
        "['../../images/testsets/Gallagher_small/32_842.jpg', '../../images/testsets/Gallagher_small/19_187.jpg']\n",
        "Score: -0.1000 for 32 and 19 (Less than two matches)"
       ]
      },
      {
       "output_type": "stream",
       "stream": "stdout",
       "text": [
        "\n",
        "['../../images/testsets/Gallagher_small/32_842.jpg', '../../images/testsets/Gallagher_small/31_580.jpg']\n",
        "Score: 0.1033 for 32 and 31"
       ]
      },
      {
       "output_type": "stream",
       "stream": "stdout",
       "text": [
        "\n",
        "['../../images/testsets/Gallagher_small/32_842.jpg', '../../images/testsets/Gallagher_small/21_872.jpg']\n",
        "Score: -0.1000 for 32 and 21 (Less than two matches)"
       ]
      },
      {
       "output_type": "stream",
       "stream": "stdout",
       "text": [
        "\n",
        "['../../images/testsets/Gallagher_small/32_842.jpg', '../../images/testsets/Gallagher_small/23_307.jpg']\n",
        "Score: 0.0661 for 32 and 23"
       ]
      },
      {
       "output_type": "stream",
       "stream": "stdout",
       "text": [
        "\n",
        "['../../images/testsets/Gallagher_small/32_842.jpg', '../../images/testsets/Gallagher_small/25_462.jpg']\n",
        "Score: 0.0614 for 32 and 25"
       ]
      },
      {
       "output_type": "stream",
       "stream": "stdout",
       "text": [
        "\n",
        "['../../images/testsets/Gallagher_small/32_842.jpg', '../../images/testsets/Gallagher_small/23_534.jpg']\n",
        "Score: -0.1000 for 32 and 23 (Less than two matches)"
       ]
      },
      {
       "output_type": "stream",
       "stream": "stdout",
       "text": [
        "\n",
        "['../../images/testsets/Gallagher_small/32_842.jpg', '../../images/testsets/Gallagher_small/31_582.jpg']\n",
        "Score: 0.0635 for 32 and 31"
       ]
      },
      {
       "output_type": "stream",
       "stream": "stdout",
       "text": [
        "\n",
        "['../../images/testsets/Gallagher_small/32_842.jpg', '../../images/testsets/Gallagher_small/15_224.jpg']\n",
        "Score: -0.1000 for 32 and 15 (Less than two matches)"
       ]
      },
      {
       "output_type": "stream",
       "stream": "stdout",
       "text": [
        "\n",
        "['../../images/testsets/Gallagher_small/32_842.jpg', '../../images/testsets/Gallagher_small/23_508.jpg']\n",
        "Score: 0.1043 for 32 and 23"
       ]
      },
      {
       "output_type": "stream",
       "stream": "stdout",
       "text": [
        "\n",
        "['../../images/testsets/Gallagher_small/32_842.jpg', '../../images/testsets/Gallagher_small/18_220.jpg']\n",
        "Score: -0.1220 for 32 and 18"
       ]
      },
      {
       "output_type": "stream",
       "stream": "stdout",
       "text": [
        "\n",
        "['../../images/testsets/Gallagher_small/32_842.jpg', '../../images/testsets/Gallagher_small/15_151.jpg']\n",
        "Score: 0.0809 for 32 and 15"
       ]
      },
      {
       "output_type": "stream",
       "stream": "stdout",
       "text": [
        "\n",
        "['../../images/testsets/Gallagher_small/32_842.jpg', '../../images/testsets/Gallagher_small/16_182.jpg']\n",
        "Score: -0.1000 for 32 and 16 (Less than two matches)"
       ]
      },
      {
       "output_type": "stream",
       "stream": "stdout",
       "text": [
        "\n",
        "['../../images/testsets/Gallagher_small/32_842.jpg', '../../images/testsets/Gallagher_small/23_875.jpg']\n",
        "Score: 0.0720 for 32 and 23"
       ]
      },
      {
       "output_type": "stream",
       "stream": "stdout",
       "text": [
        "\n",
        "['../../images/testsets/Gallagher_small/32_842.jpg', '../../images/testsets/Gallagher_small/23_549.jpg']\n",
        "Score: -0.1000 for 32 and 23 (Less than two matches)"
       ]
      },
      {
       "output_type": "stream",
       "stream": "stdout",
       "text": [
        "\n",
        "['../../images/testsets/Gallagher_small/32_842.jpg', '../../images/testsets/Gallagher_small/32_648.jpg']\n",
        "Score: -0.1000 for 32 and 32 (Less than two matches)"
       ]
      },
      {
       "output_type": "stream",
       "stream": "stdout",
       "text": [
        "\n",
        "['../../images/testsets/Gallagher_small/32_842.jpg', '../../images/testsets/Gallagher_small/15_171.jpg']\n",
        "Score: 0.0022 for 32 and 15"
       ]
      },
      {
       "output_type": "stream",
       "stream": "stdout",
       "text": [
        "\n",
        "['../../images/testsets/Gallagher_small/32_842.jpg', '../../images/testsets/Gallagher_small/24_358.jpg']\n",
        "Score: 0.0886 for 32 and 24"
       ]
      },
      {
       "output_type": "stream",
       "stream": "stdout",
       "text": [
        "\n",
        "['../../images/testsets/Gallagher_small/32_842.jpg', '../../images/testsets/Gallagher_small/25_458.jpg']\n",
        "Score: 0.0947 for 32 and 25"
       ]
      },
      {
       "output_type": "stream",
       "stream": "stdout",
       "text": [
        "\n",
        "['../../images/testsets/Gallagher_small/32_842.jpg', '../../images/testsets/Gallagher_small/30_569.jpg']\n",
        "Score: -0.1000 for 32 and 30 (Less than two matches)"
       ]
      },
      {
       "output_type": "stream",
       "stream": "stdout",
       "text": [
        "\n",
        "['../../images/testsets/Gallagher_small/32_842.jpg', '../../images/testsets/Gallagher_small/32_645.jpg']\n",
        "Score: 0.0343 for 32 and 32"
       ]
      },
      {
       "output_type": "stream",
       "stream": "stdout",
       "text": [
        "\n",
        "['../../images/testsets/Gallagher_small/32_842.jpg', '../../images/testsets/Gallagher_small/29_538.jpg']\n",
        "Score: -0.1000 for 32 and 29 (Less than two matches)"
       ]
      },
      {
       "output_type": "stream",
       "stream": "stdout",
       "text": [
        "\n",
        "['../../images/testsets/Gallagher_small/32_842.jpg', '../../images/testsets/Gallagher_small/21_251.jpg']\n",
        "Score: -0.1000 for 32 and 21 (Less than two matches)"
       ]
      },
      {
       "output_type": "stream",
       "stream": "stdout",
       "text": [
        "\n",
        "['../../images/testsets/Gallagher_small/32_842.jpg', '../../images/testsets/Gallagher_small/20_249.jpg']\n",
        "Score: -0.1000 for 32 and 20 (Less than two matches)"
       ]
      },
      {
       "output_type": "stream",
       "stream": "stdout",
       "text": [
        "\n",
        "['../../images/testsets/Gallagher_small/32_842.jpg', '../../images/testsets/Gallagher_small/15_181.jpg']\n",
        "Score: 0.0917 for 32 and 15"
       ]
      },
      {
       "output_type": "stream",
       "stream": "stdout",
       "text": [
        "\n",
        "['../../images/testsets/Gallagher_small/32_842.jpg', '../../images/testsets/Gallagher_small/15_158.jpg']\n",
        "Score: 0.1245 for 32 and 15"
       ]
      },
      {
       "output_type": "stream",
       "stream": "stdout",
       "text": [
        "\n",
        "['../../images/testsets/Gallagher_small/32_842.jpg', '../../images/testsets/Gallagher_small/19_195.jpg']\n",
        "Score: 0.0988 for 32 and 19"
       ]
      },
      {
       "output_type": "stream",
       "stream": "stdout",
       "text": [
        "\n",
        "['../../images/testsets/Gallagher_small/32_842.jpg', '../../images/testsets/Gallagher_small/19_193.jpg']\n",
        "Score: -0.1000 for 32 and 19 (Less than two matches)"
       ]
      },
      {
       "output_type": "stream",
       "stream": "stdout",
       "text": [
        "\n",
        "['../../images/testsets/Gallagher_small/32_842.jpg', '../../images/testsets/Gallagher_small/21_287.jpg']\n",
        "Score: 0.1101 for 32 and 21"
       ]
      },
      {
       "output_type": "stream",
       "stream": "stdout",
       "text": [
        "\n",
        "['../../images/testsets/Gallagher_small/32_842.jpg', '../../images/testsets/Gallagher_small/26_565.jpg']\n",
        "Score: -0.1000 for 32 and 26 (Less than two matches)"
       ]
      },
      {
       "output_type": "stream",
       "stream": "stdout",
       "text": [
        "\n",
        "['../../images/testsets/Gallagher_small/32_842.jpg', '../../images/testsets/Gallagher_small/27_509.jpg']\n",
        "Score: -0.0029 for 32 and 27"
       ]
      },
      {
       "output_type": "stream",
       "stream": "stdout",
       "text": [
        "\n",
        "['../../images/testsets/Gallagher_small/32_842.jpg', '../../images/testsets/Gallagher_small/15_169.jpg']\n",
        "Score: -0.1000 for 32 and 15 (Less than two matches)"
       ]
      },
      {
       "output_type": "stream",
       "stream": "stdout",
       "text": [
        "\n",
        "['../../images/testsets/Gallagher_small/32_842.jpg', '../../images/testsets/Gallagher_small/15_167.jpg']\n",
        "Score: -0.1000 for 32 and 15 (Less than two matches)"
       ]
      },
      {
       "output_type": "stream",
       "stream": "stdout",
       "text": [
        "\n",
        "['../../images/testsets/Gallagher_small/32_842.jpg', '../../images/testsets/Gallagher_small/21_587.jpg']\n",
        "Score: 0.0653 for 32 and 21"
       ]
      },
      {
       "output_type": "stream",
       "stream": "stdout",
       "text": [
        "\n",
        "['../../images/testsets/Gallagher_small/32_842.jpg', '../../images/testsets/Gallagher_small/15_222.jpg']\n",
        "Score: -0.1000 for 32 and 15 (Less than two matches)"
       ]
      },
      {
       "output_type": "stream",
       "stream": "stdout",
       "text": [
        "\n",
        "['../../images/testsets/Gallagher_small/32_842.jpg', '../../images/testsets/Gallagher_small/16_178.jpg']\n",
        "Score: -0.1000 for 32 and 16 (Less than two matches)"
       ]
      },
      {
       "output_type": "stream",
       "stream": "stdout",
       "text": [
        "\n",
        "['../../images/testsets/Gallagher_small/32_842.jpg', '../../images/testsets/Gallagher_small/17_165.jpg']\n",
        "Score: -0.1000 for 32 and 17 (Less than two matches)"
       ]
      },
      {
       "output_type": "stream",
       "stream": "stdout",
       "text": [
        "\n",
        "['../../images/testsets/Gallagher_small/32_842.jpg', '../../images/testsets/Gallagher_small/28_537.jpg']\n",
        "Score: -0.1000 for 32 and 28 (Less than two matches)"
       ]
      },
      {
       "output_type": "stream",
       "stream": "stdout",
       "text": [
        "\n",
        "['../../images/testsets/Gallagher_small/32_842.jpg', '../../images/testsets/Gallagher_small/27_524.jpg']\n",
        "Score: 0.0373 for 32 and 27"
       ]
      },
      {
       "output_type": "stream",
       "stream": "stdout",
       "text": [
        "\n",
        "['../../images/testsets/Gallagher_small/32_842.jpg', '../../images/testsets/Gallagher_small/13_163.jpg']\n",
        "Score: 0.1317 for 32 and 13"
       ]
      },
      {
       "output_type": "stream",
       "stream": "stdout",
       "text": [
        "\n",
        "['../../images/testsets/Gallagher_small/32_842.jpg', '../../images/testsets/Gallagher_small/23_302.jpg']\n",
        "Score: -0.1921 for 32 and 23"
       ]
      },
      {
       "output_type": "stream",
       "stream": "stdout",
       "text": [
        "\n",
        "['../../images/testsets/Gallagher_small/27_536.jpg', '../../images/testsets/Gallagher_small/23_523.jpg']\n",
        "Score: -0.1000 for 27 and 23 (Less than two matches)"
       ]
      },
      {
       "output_type": "stream",
       "stream": "stdout",
       "text": [
        "\n",
        "['../../images/testsets/Gallagher_small/27_536.jpg', '../../images/testsets/Gallagher_small/21_585.jpg']\n",
        "Score: -0.1000 for 27 and 21 (Less than two matches)"
       ]
      },
      {
       "output_type": "stream",
       "stream": "stdout",
       "text": [
        "\n",
        "['../../images/testsets/Gallagher_small/27_536.jpg', '../../images/testsets/Gallagher_small/25_924.jpg']\n",
        "Score: -0.1000 for 27 and 25 (Less than two matches)"
       ]
      },
      {
       "output_type": "stream",
       "stream": "stdout",
       "text": [
        "\n",
        "['../../images/testsets/Gallagher_small/27_536.jpg', '../../images/testsets/Gallagher_small/23_564.jpg']\n",
        "Score: -0.1000 for 27 and 23 (Less than two matches)"
       ]
      },
      {
       "output_type": "stream",
       "stream": "stdout",
       "text": [
        "\n",
        "['../../images/testsets/Gallagher_small/27_536.jpg', '../../images/testsets/Gallagher_small/25_757.jpg']\n",
        "Score: -0.1000 for 27 and 25 (Less than two matches)"
       ]
      },
      {
       "output_type": "stream",
       "stream": "stdout",
       "text": [
        "\n",
        "['../../images/testsets/Gallagher_small/27_536.jpg', '../../images/testsets/Gallagher_small/26_878.jpg']\n",
        "Score: -0.1000 for 27 and 26 (Less than two matches)"
       ]
      },
      {
       "output_type": "stream",
       "stream": "stdout",
       "text": [
        "\n",
        "['../../images/testsets/Gallagher_small/27_536.jpg', '../../images/testsets/Gallagher_small/18_216.jpg']\n",
        "Score: -0.1000 for 27 and 18 (Less than two matches)"
       ]
      },
      {
       "output_type": "stream",
       "stream": "stdout",
       "text": [
        "\n",
        "['../../images/testsets/Gallagher_small/27_536.jpg', '../../images/testsets/Gallagher_small/15_160.jpg']\n",
        "Score: -0.1000 for 27 and 15 (Less than two matches)"
       ]
      },
      {
       "output_type": "stream",
       "stream": "stdout",
       "text": [
        "\n",
        "['../../images/testsets/Gallagher_small/27_536.jpg', '../../images/testsets/Gallagher_small/14_180.jpg']\n",
        "Score: -0.1000 for 27 and 14 (Less than two matches)"
       ]
      },
      {
       "output_type": "stream",
       "stream": "stdout",
       "text": [
        "\n",
        "['../../images/testsets/Gallagher_small/27_536.jpg', '../../images/testsets/Gallagher_small/25_694.jpg']\n",
        "Score: -0.1000 for 27 and 25 (Less than two matches)"
       ]
      },
      {
       "output_type": "stream",
       "stream": "stdout",
       "text": [
        "\n",
        "['../../images/testsets/Gallagher_small/27_536.jpg', '../../images/testsets/Gallagher_small/25_696.jpg']\n",
        "Score: -0.1000 for 27 and 25 (Less than two matches)"
       ]
      },
      {
       "output_type": "stream",
       "stream": "stdout",
       "text": [
        "\n",
        "['../../images/testsets/Gallagher_small/27_536.jpg', '../../images/testsets/Gallagher_small/32_639.jpg']\n",
        "Score: -0.1000 for 27 and 32 (Less than two matches)"
       ]
      },
      {
       "output_type": "stream",
       "stream": "stdout",
       "text": [
        "\n",
        "['../../images/testsets/Gallagher_small/27_536.jpg', '../../images/testsets/Gallagher_small/30_554.jpg']\n",
        "Score: -0.1000 for 27 and 30 (Less than two matches)"
       ]
      },
      {
       "output_type": "stream",
       "stream": "stdout",
       "text": [
        "\n",
        "['../../images/testsets/Gallagher_small/27_536.jpg', '../../images/testsets/Gallagher_small/28_525.jpg']\n",
        "Score: -0.1000 for 27 and 28 (Less than two matches)"
       ]
      },
      {
       "output_type": "stream",
       "stream": "stdout",
       "text": [
        "\n",
        "['../../images/testsets/Gallagher_small/27_536.jpg', '../../images/testsets/Gallagher_small/30_539.jpg']\n",
        "Score: -0.1000 for 27 and 30 (Less than two matches)"
       ]
      },
      {
       "output_type": "stream",
       "stream": "stdout",
       "text": [
        "\n",
        "['../../images/testsets/Gallagher_small/27_536.jpg', '../../images/testsets/Gallagher_small/26_550.jpg']\n",
        "Score: -0.1000 for 27 and 26 (Less than two matches)"
       ]
      },
      {
       "output_type": "stream",
       "stream": "stdout",
       "text": [
        "\n",
        "['../../images/testsets/Gallagher_small/27_536.jpg', '../../images/testsets/Gallagher_small/15_170.jpg']\n",
        "Score: -0.1000 for 27 and 15 (Less than two matches)"
       ]
      },
      {
       "output_type": "stream",
       "stream": "stdout",
       "text": [
        "\n",
        "['../../images/testsets/Gallagher_small/27_536.jpg', '../../images/testsets/Gallagher_small/21_293.jpg']\n",
        "Score: -0.1000 for 27 and 21 (Less than two matches)"
       ]
      },
      {
       "output_type": "stream",
       "stream": "stdout",
       "text": [
        "\n",
        "['../../images/testsets/Gallagher_small/27_536.jpg', '../../images/testsets/Gallagher_small/24_379.jpg']\n",
        "Score: -0.1000 for 27 and 24 (Less than two matches)"
       ]
      },
      {
       "output_type": "stream",
       "stream": "stdout",
       "text": [
        "\n",
        "['../../images/testsets/Gallagher_small/27_536.jpg', '../../images/testsets/Gallagher_small/17_212.jpg']\n",
        "Score: -0.1000 for 27 and 17 (Less than two matches)"
       ]
      },
      {
       "output_type": "stream",
       "stream": "stdout",
       "text": [
        "\n",
        "['../../images/testsets/Gallagher_small/27_536.jpg', '../../images/testsets/Gallagher_small/14_699.jpg']\n",
        "Score: -0.1000 for 27 and 14 (Less than two matches)"
       ]
      },
      {
       "output_type": "stream",
       "stream": "stdout",
       "text": [
        "\n",
        "['../../images/testsets/Gallagher_small/27_536.jpg', '../../images/testsets/Gallagher_small/28_567.jpg']\n",
        "Score: -0.1000 for 27 and 28 (Less than two matches)"
       ]
      },
      {
       "output_type": "stream",
       "stream": "stdout",
       "text": [
        "\n",
        "['../../images/testsets/Gallagher_small/27_536.jpg', '../../images/testsets/Gallagher_small/27_551.jpg']\n",
        "Score: -0.1000 for 27 and 27 (Less than two matches)"
       ]
      },
      {
       "output_type": "stream",
       "stream": "stdout",
       "text": [
        "\n",
        "['../../images/testsets/Gallagher_small/27_536.jpg', '../../images/testsets/Gallagher_small/22_254.jpg']\n",
        "Score: -0.1000 for 27 and 22 (Less than two matches)"
       ]
      },
      {
       "output_type": "stream",
       "stream": "stdout",
       "text": [
        "\n",
        "['../../images/testsets/Gallagher_small/27_536.jpg', '../../images/testsets/Gallagher_small/29_568.jpg']\n",
        "Score: -0.1000 for 27 and 29 (Less than two matches)"
       ]
      },
      {
       "output_type": "stream",
       "stream": "stdout",
       "text": [
        "\n",
        "['../../images/testsets/Gallagher_small/27_536.jpg', '../../images/testsets/Gallagher_small/15_154.jpg']\n",
        "Score: -0.1000 for 27 and 15 (Less than two matches)"
       ]
      },
      {
       "output_type": "stream",
       "stream": "stdout",
       "text": [
        "\n",
        "['../../images/testsets/Gallagher_small/27_536.jpg', '../../images/testsets/Gallagher_small/25_431.jpg']\n",
        "Score: -0.1000 for 27 and 25 (Less than two matches)"
       ]
      },
      {
       "output_type": "stream",
       "stream": "stdout",
       "text": [
        "\n",
        "['../../images/testsets/Gallagher_small/27_536.jpg', '../../images/testsets/Gallagher_small/23_305.jpg']\n",
        "Score: -0.1000 for 27 and 23 (Less than two matches)"
       ]
      },
      {
       "output_type": "stream",
       "stream": "stdout",
       "text": [
        "\n",
        "['../../images/testsets/Gallagher_small/27_536.jpg', '../../images/testsets/Gallagher_small/16_164.jpg']\n",
        "Score: -0.0202 for 27 and 16"
       ]
      },
      {
       "output_type": "stream",
       "stream": "stdout",
       "text": [
        "\n",
        "['../../images/testsets/Gallagher_small/27_536.jpg', '../../images/testsets/Gallagher_small/18_166.jpg']\n",
        "Score: 0.0105 for 27 and 18"
       ]
      },
      {
       "output_type": "stream",
       "stream": "stdout",
       "text": [
        "\n",
        "['../../images/testsets/Gallagher_small/27_536.jpg', '../../images/testsets/Gallagher_small/25_770.jpg']\n",
        "Score: -0.1000 for 27 and 25 (Less than two matches)"
       ]
      },
      {
       "output_type": "stream",
       "stream": "stdout",
       "text": [
        "\n",
        "['../../images/testsets/Gallagher_small/27_536.jpg', '../../images/testsets/Gallagher_small/32_642.jpg']\n",
        "Score: -0.1000 for 27 and 32 (Less than two matches)"
       ]
      },
      {
       "output_type": "stream",
       "stream": "stdout",
       "text": [
        "\n",
        "['../../images/testsets/Gallagher_small/27_536.jpg', '../../images/testsets/Gallagher_small/19_198.jpg']\n",
        "Score: -0.1000 for 27 and 19 (Less than two matches)"
       ]
      },
      {
       "output_type": "stream",
       "stream": "stdout",
       "text": [
        "\n",
        "['../../images/testsets/Gallagher_small/27_536.jpg', '../../images/testsets/Gallagher_small/21_294.jpg']\n",
        "Score: -0.1000 for 27 and 21 (Less than two matches)"
       ]
      },
      {
       "output_type": "stream",
       "stream": "stdout",
       "text": [
        "\n",
        "['../../images/testsets/Gallagher_small/27_536.jpg', '../../images/testsets/Gallagher_small/14_206.jpg']\n",
        "Score: -0.1000 for 27 and 14 (Less than two matches)"
       ]
      },
      {
       "output_type": "stream",
       "stream": "stdout",
       "text": [
        "\n",
        "['../../images/testsets/Gallagher_small/27_536.jpg', '../../images/testsets/Gallagher_small/26_535.jpg']\n",
        "Score: -0.1000 for 27 and 26 (Less than two matches)"
       ]
      },
      {
       "output_type": "stream",
       "stream": "stdout",
       "text": [
        "\n",
        "['../../images/testsets/Gallagher_small/27_536.jpg', '../../images/testsets/Gallagher_small/22_255.jpg']\n",
        "Score: -0.1000 for 27 and 22 (Less than two matches)"
       ]
      },
      {
       "output_type": "stream",
       "stream": "stdout",
       "text": [
        "\n",
        "['../../images/testsets/Gallagher_small/27_536.jpg', '../../images/testsets/Gallagher_small/29_553.jpg']\n",
        "Score: -0.1000 for 27 and 29 (Less than two matches)"
       ]
      },
      {
       "output_type": "stream",
       "stream": "stdout",
       "text": [
        "\n",
        "['../../images/testsets/Gallagher_small/27_536.jpg', '../../images/testsets/Gallagher_small/13_168.jpg']\n",
        "Score: -0.1000 for 27 and 13 (Less than two matches)"
       ]
      },
      {
       "output_type": "stream",
       "stream": "stdout",
       "text": [
        "\n",
        "['../../images/testsets/Gallagher_small/27_536.jpg', '../../images/testsets/Gallagher_small/28_552.jpg']\n",
        "Score: -0.1000 for 27 and 28 (Less than two matches)"
       ]
      },
      {
       "output_type": "stream",
       "stream": "stdout",
       "text": [
        "\n",
        "['../../images/testsets/Gallagher_small/27_536.jpg', '../../images/testsets/Gallagher_small/13_145.jpg']\n",
        "Score: -0.1000 for 27 and 13 (Less than two matches)"
       ]
      },
      {
       "output_type": "stream",
       "stream": "stdout",
       "text": [
        "\n",
        "['../../images/testsets/Gallagher_small/27_536.jpg', '../../images/testsets/Gallagher_small/14_207.jpg']\n",
        "Score: -0.1000 for 27 and 14 (Less than two matches)"
       ]
      },
      {
       "output_type": "stream",
       "stream": "stdout",
       "text": [
        "\n",
        "['../../images/testsets/Gallagher_small/27_536.jpg', '../../images/testsets/Gallagher_small/14_150.jpg']\n",
        "Score: -0.1000 for 27 and 14 (Less than two matches)"
       ]
      },
      {
       "output_type": "stream",
       "stream": "stdout",
       "text": [
        "\n",
        "['../../images/testsets/Gallagher_small/27_536.jpg', '../../images/testsets/Gallagher_small/27_566.jpg']\n",
        "Score: -0.1000 for 27 and 27 (Less than two matches)"
       ]
      },
      {
       "output_type": "stream",
       "stream": "stdout",
       "text": [
        "\n",
        "['../../images/testsets/Gallagher_small/27_536.jpg', '../../images/testsets/Gallagher_small/17_183.jpg']\n",
        "Score: -0.1000 for 27 and 17 (Less than two matches)"
       ]
      },
      {
       "output_type": "stream",
       "stream": "stdout",
       "text": [
        "\n",
        "['../../images/testsets/Gallagher_small/27_536.jpg', '../../images/testsets/Gallagher_small/19_187.jpg']\n",
        "Score: -0.1000 for 27 and 19 (Less than two matches)"
       ]
      },
      {
       "output_type": "stream",
       "stream": "stdout",
       "text": [
        "\n",
        "['../../images/testsets/Gallagher_small/27_536.jpg', '../../images/testsets/Gallagher_small/31_580.jpg']\n",
        "Score: -0.1000 for 27 and 31 (Less than two matches)"
       ]
      },
      {
       "output_type": "stream",
       "stream": "stdout",
       "text": [
        "\n",
        "['../../images/testsets/Gallagher_small/27_536.jpg', '../../images/testsets/Gallagher_small/21_872.jpg']\n",
        "Score: -0.1000 for 27 and 21 (Less than two matches)"
       ]
      },
      {
       "output_type": "stream",
       "stream": "stdout",
       "text": [
        "\n",
        "['../../images/testsets/Gallagher_small/27_536.jpg', '../../images/testsets/Gallagher_small/23_307.jpg']\n",
        "Score: -0.1000 for 27 and 23 (Less than two matches)"
       ]
      },
      {
       "output_type": "stream",
       "stream": "stdout",
       "text": [
        "\n",
        "['../../images/testsets/Gallagher_small/27_536.jpg', '../../images/testsets/Gallagher_small/25_462.jpg']\n",
        "Score: -0.1000 for 27 and 25 (Less than two matches)"
       ]
      },
      {
       "output_type": "stream",
       "stream": "stdout",
       "text": [
        "\n",
        "['../../images/testsets/Gallagher_small/27_536.jpg', '../../images/testsets/Gallagher_small/23_534.jpg']\n",
        "Score: -0.1000 for 27 and 23 (Less than two matches)"
       ]
      },
      {
       "output_type": "stream",
       "stream": "stdout",
       "text": [
        "\n",
        "['../../images/testsets/Gallagher_small/27_536.jpg', '../../images/testsets/Gallagher_small/31_582.jpg']\n",
        "Score: -0.1000 for 27 and 31 (Less than two matches)"
       ]
      },
      {
       "output_type": "stream",
       "stream": "stdout",
       "text": [
        "\n",
        "['../../images/testsets/Gallagher_small/27_536.jpg', '../../images/testsets/Gallagher_small/15_224.jpg']\n",
        "Score: -0.1000 for 27 and 15 (Less than two matches)"
       ]
      },
      {
       "output_type": "stream",
       "stream": "stdout",
       "text": [
        "\n",
        "['../../images/testsets/Gallagher_small/27_536.jpg', '../../images/testsets/Gallagher_small/23_508.jpg']\n",
        "Score: -0.1000 for 27 and 23 (Less than two matches)"
       ]
      },
      {
       "output_type": "stream",
       "stream": "stdout",
       "text": [
        "\n",
        "['../../images/testsets/Gallagher_small/27_536.jpg', '../../images/testsets/Gallagher_small/18_220.jpg']\n",
        "Score: -0.1000 for 27 and 18 (Less than two matches)"
       ]
      },
      {
       "output_type": "stream",
       "stream": "stdout",
       "text": [
        "\n",
        "['../../images/testsets/Gallagher_small/27_536.jpg', '../../images/testsets/Gallagher_small/15_151.jpg']\n",
        "Score: -0.1000 for 27 and 15 (Less than two matches)"
       ]
      },
      {
       "output_type": "stream",
       "stream": "stdout",
       "text": [
        "\n",
        "['../../images/testsets/Gallagher_small/27_536.jpg', '../../images/testsets/Gallagher_small/16_182.jpg']\n",
        "Score: -0.1000 for 27 and 16 (Less than two matches)"
       ]
      },
      {
       "output_type": "stream",
       "stream": "stdout",
       "text": [
        "\n",
        "['../../images/testsets/Gallagher_small/27_536.jpg', '../../images/testsets/Gallagher_small/23_875.jpg']\n",
        "Score: -0.1000 for 27 and 23 (Less than two matches)"
       ]
      },
      {
       "output_type": "stream",
       "stream": "stdout",
       "text": [
        "\n",
        "['../../images/testsets/Gallagher_small/27_536.jpg', '../../images/testsets/Gallagher_small/23_549.jpg']\n",
        "Score: -0.1000 for 27 and 23 (Less than two matches)"
       ]
      },
      {
       "output_type": "stream",
       "stream": "stdout",
       "text": [
        "\n",
        "['../../images/testsets/Gallagher_small/27_536.jpg', '../../images/testsets/Gallagher_small/32_648.jpg']\n",
        "Score: -0.1000 for 27 and 32 (Less than two matches)"
       ]
      },
      {
       "output_type": "stream",
       "stream": "stdout",
       "text": [
        "\n",
        "['../../images/testsets/Gallagher_small/27_536.jpg', '../../images/testsets/Gallagher_small/15_171.jpg']\n",
        "Score: -0.1000 for 27 and 15 (Less than two matches)"
       ]
      },
      {
       "output_type": "stream",
       "stream": "stdout",
       "text": [
        "\n",
        "['../../images/testsets/Gallagher_small/27_536.jpg', '../../images/testsets/Gallagher_small/24_358.jpg']\n",
        "Score: -0.1000 for 27 and 24 (Less than two matches)"
       ]
      },
      {
       "output_type": "stream",
       "stream": "stdout",
       "text": [
        "\n",
        "['../../images/testsets/Gallagher_small/27_536.jpg', '../../images/testsets/Gallagher_small/25_458.jpg']\n",
        "Score: -0.1000 for 27 and 25 (Less than two matches)"
       ]
      },
      {
       "output_type": "stream",
       "stream": "stdout",
       "text": [
        "\n",
        "['../../images/testsets/Gallagher_small/27_536.jpg', '../../images/testsets/Gallagher_small/30_569.jpg']\n",
        "Score: -0.1000 for 27 and 30 (Less than two matches)"
       ]
      },
      {
       "output_type": "stream",
       "stream": "stdout",
       "text": [
        "\n",
        "['../../images/testsets/Gallagher_small/27_536.jpg', '../../images/testsets/Gallagher_small/32_645.jpg']\n",
        "Score: -0.1000 for 27 and 32 (Less than two matches)"
       ]
      },
      {
       "output_type": "stream",
       "stream": "stdout",
       "text": [
        "\n",
        "['../../images/testsets/Gallagher_small/27_536.jpg', '../../images/testsets/Gallagher_small/29_538.jpg']\n",
        "Score: -0.1000 for 27 and 29 (Less than two matches)"
       ]
      },
      {
       "output_type": "stream",
       "stream": "stdout",
       "text": [
        "\n",
        "['../../images/testsets/Gallagher_small/27_536.jpg', '../../images/testsets/Gallagher_small/21_251.jpg']\n",
        "Score: -0.1000 for 27 and 21 (Less than two matches)"
       ]
      },
      {
       "output_type": "stream",
       "stream": "stdout",
       "text": [
        "\n",
        "['../../images/testsets/Gallagher_small/27_536.jpg', '../../images/testsets/Gallagher_small/20_249.jpg']\n",
        "Score: -0.1000 for 27 and 20 (Less than two matches)"
       ]
      },
      {
       "output_type": "stream",
       "stream": "stdout",
       "text": [
        "\n",
        "['../../images/testsets/Gallagher_small/27_536.jpg', '../../images/testsets/Gallagher_small/15_181.jpg']\n",
        "Score: -0.1000 for 27 and 15 (Less than two matches)"
       ]
      },
      {
       "output_type": "stream",
       "stream": "stdout",
       "text": [
        "\n",
        "['../../images/testsets/Gallagher_small/27_536.jpg', '../../images/testsets/Gallagher_small/15_158.jpg']\n",
        "Score: -0.1000 for 27 and 15 (Less than two matches)"
       ]
      },
      {
       "output_type": "stream",
       "stream": "stdout",
       "text": [
        "\n",
        "['../../images/testsets/Gallagher_small/27_536.jpg', '../../images/testsets/Gallagher_small/19_195.jpg']\n",
        "Score: -0.1000 for 27 and 19 (Less than two matches)"
       ]
      },
      {
       "output_type": "stream",
       "stream": "stdout",
       "text": [
        "\n",
        "['../../images/testsets/Gallagher_small/27_536.jpg', '../../images/testsets/Gallagher_small/19_193.jpg']\n",
        "Score: -0.1000 for 27 and 19 (Less than two matches)"
       ]
      },
      {
       "output_type": "stream",
       "stream": "stdout",
       "text": [
        "\n",
        "['../../images/testsets/Gallagher_small/27_536.jpg', '../../images/testsets/Gallagher_small/21_287.jpg']\n",
        "Score: -0.1000 for 27 and 21 (Less than two matches)"
       ]
      },
      {
       "output_type": "stream",
       "stream": "stdout",
       "text": [
        "\n",
        "['../../images/testsets/Gallagher_small/27_536.jpg', '../../images/testsets/Gallagher_small/26_565.jpg']\n",
        "Score: -0.1000 for 27 and 26 (Less than two matches)"
       ]
      },
      {
       "output_type": "stream",
       "stream": "stdout",
       "text": [
        "\n",
        "['../../images/testsets/Gallagher_small/27_536.jpg', '../../images/testsets/Gallagher_small/27_509.jpg']\n",
        "Score: -0.1000 for 27 and 27 (Less than two matches)"
       ]
      },
      {
       "output_type": "stream",
       "stream": "stdout",
       "text": [
        "\n",
        "['../../images/testsets/Gallagher_small/27_536.jpg', '../../images/testsets/Gallagher_small/15_169.jpg']\n",
        "Score: -0.1000 for 27 and 15 (Less than two matches)"
       ]
      },
      {
       "output_type": "stream",
       "stream": "stdout",
       "text": [
        "\n",
        "['../../images/testsets/Gallagher_small/27_536.jpg', '../../images/testsets/Gallagher_small/15_167.jpg']\n",
        "Score: -0.1000 for 27 and 15 (Less than two matches)"
       ]
      },
      {
       "output_type": "stream",
       "stream": "stdout",
       "text": [
        "\n",
        "['../../images/testsets/Gallagher_small/27_536.jpg', '../../images/testsets/Gallagher_small/21_587.jpg']\n",
        "Score: -0.1000 for 27 and 21 (Less than two matches)"
       ]
      },
      {
       "output_type": "stream",
       "stream": "stdout",
       "text": [
        "\n",
        "['../../images/testsets/Gallagher_small/27_536.jpg', '../../images/testsets/Gallagher_small/15_222.jpg']\n",
        "Score: -0.1000 for 27 and 15 (Less than two matches)"
       ]
      },
      {
       "output_type": "stream",
       "stream": "stdout",
       "text": [
        "\n",
        "['../../images/testsets/Gallagher_small/27_536.jpg', '../../images/testsets/Gallagher_small/16_178.jpg']\n",
        "Score: -0.1000 for 27 and 16 (Less than two matches)"
       ]
      },
      {
       "output_type": "stream",
       "stream": "stdout",
       "text": [
        "\n",
        "['../../images/testsets/Gallagher_small/27_536.jpg', '../../images/testsets/Gallagher_small/17_165.jpg']\n",
        "Score: -0.1000 for 27 and 17 (Less than two matches)"
       ]
      },
      {
       "output_type": "stream",
       "stream": "stdout",
       "text": [
        "\n",
        "['../../images/testsets/Gallagher_small/27_536.jpg', '../../images/testsets/Gallagher_small/28_537.jpg']\n",
        "Score: -0.1000 for 27 and 28 (Less than two matches)"
       ]
      },
      {
       "output_type": "stream",
       "stream": "stdout",
       "text": [
        "\n",
        "['../../images/testsets/Gallagher_small/27_536.jpg', '../../images/testsets/Gallagher_small/27_524.jpg']\n",
        "Score: -0.0224 for 27 and 27"
       ]
      },
      {
       "output_type": "stream",
       "stream": "stdout",
       "text": [
        "\n",
        "['../../images/testsets/Gallagher_small/27_536.jpg', '../../images/testsets/Gallagher_small/13_163.jpg']\n",
        "Score: -0.1000 for 27 and 13 (Less than two matches)"
       ]
      },
      {
       "output_type": "stream",
       "stream": "stdout",
       "text": [
        "\n",
        "['../../images/testsets/Gallagher_small/27_536.jpg', '../../images/testsets/Gallagher_small/23_302.jpg']\n",
        "Score: -0.1000 for 27 and 23 (Less than two matches)"
       ]
      },
      {
       "output_type": "stream",
       "stream": "stdout",
       "text": [
        "\n",
        "['../../images/testsets/Gallagher_small/23_523.jpg', '../../images/testsets/Gallagher_small/21_585.jpg']\n",
        "Score: -0.1000 for 23 and 21 (Less than two matches)"
       ]
      },
      {
       "output_type": "stream",
       "stream": "stdout",
       "text": [
        "\n",
        "['../../images/testsets/Gallagher_small/23_523.jpg', '../../images/testsets/Gallagher_small/25_924.jpg']\n",
        "Score: -0.1000 for 23 and 25 (Less than two matches)"
       ]
      },
      {
       "output_type": "stream",
       "stream": "stdout",
       "text": [
        "\n",
        "['../../images/testsets/Gallagher_small/23_523.jpg', '../../images/testsets/Gallagher_small/23_564.jpg']\n",
        "Score: 0.1303 for 23 and 23"
       ]
      },
      {
       "output_type": "stream",
       "stream": "stdout",
       "text": [
        "\n",
        "['../../images/testsets/Gallagher_small/23_523.jpg', '../../images/testsets/Gallagher_small/25_757.jpg']\n",
        "Score: 0.0061 for 23 and 25"
       ]
      },
      {
       "output_type": "stream",
       "stream": "stdout",
       "text": [
        "\n",
        "['../../images/testsets/Gallagher_small/23_523.jpg', '../../images/testsets/Gallagher_small/26_878.jpg']\n",
        "Score: -0.1000 for 23 and 26 (Less than two matches)"
       ]
      },
      {
       "output_type": "stream",
       "stream": "stdout",
       "text": [
        "\n",
        "['../../images/testsets/Gallagher_small/23_523.jpg', '../../images/testsets/Gallagher_small/18_216.jpg']\n",
        "Score: -0.1000 for 23 and 18 (Less than two matches)"
       ]
      },
      {
       "output_type": "stream",
       "stream": "stdout",
       "text": [
        "\n",
        "['../../images/testsets/Gallagher_small/23_523.jpg', '../../images/testsets/Gallagher_small/15_160.jpg']\n",
        "Score: 0.0487 for 23 and 15"
       ]
      },
      {
       "output_type": "stream",
       "stream": "stdout",
       "text": [
        "\n",
        "['../../images/testsets/Gallagher_small/23_523.jpg', '../../images/testsets/Gallagher_small/14_180.jpg']\n",
        "Score: 0.0375 for 23 and 14"
       ]
      },
      {
       "output_type": "stream",
       "stream": "stdout",
       "text": [
        "\n",
        "['../../images/testsets/Gallagher_small/23_523.jpg', '../../images/testsets/Gallagher_small/25_694.jpg']\n",
        "Score: -0.1000 for 23 and 25 (Less than two matches)"
       ]
      },
      {
       "output_type": "stream",
       "stream": "stdout",
       "text": [
        "\n",
        "['../../images/testsets/Gallagher_small/23_523.jpg', '../../images/testsets/Gallagher_small/25_696.jpg']\n",
        "Score: -0.1000 for 23 and 25 (Less than two matches)"
       ]
      },
      {
       "output_type": "stream",
       "stream": "stdout",
       "text": [
        "\n",
        "['../../images/testsets/Gallagher_small/23_523.jpg', '../../images/testsets/Gallagher_small/32_639.jpg']\n",
        "Score: -0.1000 for 23 and 32 (Less than two matches)"
       ]
      },
      {
       "output_type": "stream",
       "stream": "stdout",
       "text": [
        "\n",
        "['../../images/testsets/Gallagher_small/23_523.jpg', '../../images/testsets/Gallagher_small/30_554.jpg']\n",
        "Score: -0.1000 for 23 and 30 (Less than two matches)"
       ]
      },
      {
       "output_type": "stream",
       "stream": "stdout",
       "text": [
        "\n",
        "['../../images/testsets/Gallagher_small/23_523.jpg', '../../images/testsets/Gallagher_small/28_525.jpg']\n",
        "Score: 0.0430 for 23 and 28"
       ]
      },
      {
       "output_type": "stream",
       "stream": "stdout",
       "text": [
        "\n",
        "['../../images/testsets/Gallagher_small/23_523.jpg', '../../images/testsets/Gallagher_small/30_539.jpg']\n",
        "Score: -0.1000 for 23 and 30 (Less than two matches)"
       ]
      },
      {
       "output_type": "stream",
       "stream": "stdout",
       "text": [
        "\n",
        "['../../images/testsets/Gallagher_small/23_523.jpg', '../../images/testsets/Gallagher_small/26_550.jpg']\n",
        "Score: -0.1000 for 23 and 26 (Less than two matches)"
       ]
      },
      {
       "output_type": "stream",
       "stream": "stdout",
       "text": [
        "\n",
        "['../../images/testsets/Gallagher_small/23_523.jpg', '../../images/testsets/Gallagher_small/15_170.jpg']\n",
        "Score: 0.0790 for 23 and 15"
       ]
      },
      {
       "output_type": "stream",
       "stream": "stdout",
       "text": [
        "\n",
        "['../../images/testsets/Gallagher_small/23_523.jpg', '../../images/testsets/Gallagher_small/21_293.jpg']\n",
        "Score: -0.0563 for 23 and 21"
       ]
      },
      {
       "output_type": "stream",
       "stream": "stdout",
       "text": [
        "\n",
        "['../../images/testsets/Gallagher_small/23_523.jpg', '../../images/testsets/Gallagher_small/24_379.jpg']\n",
        "Score: 0.0255 for 23 and 24"
       ]
      },
      {
       "output_type": "stream",
       "stream": "stdout",
       "text": [
        "\n",
        "['../../images/testsets/Gallagher_small/23_523.jpg', '../../images/testsets/Gallagher_small/17_212.jpg']\n",
        "Score: -0.1000 for 23 and 17 (Less than two matches)"
       ]
      },
      {
       "output_type": "stream",
       "stream": "stdout",
       "text": [
        "\n",
        "['../../images/testsets/Gallagher_small/23_523.jpg', '../../images/testsets/Gallagher_small/14_699.jpg']\n",
        "Score: 0.0540 for 23 and 14"
       ]
      },
      {
       "output_type": "stream",
       "stream": "stdout",
       "text": [
        "\n",
        "['../../images/testsets/Gallagher_small/23_523.jpg', '../../images/testsets/Gallagher_small/28_567.jpg']\n",
        "Score: 0.0404 for 23 and 28"
       ]
      },
      {
       "output_type": "stream",
       "stream": "stdout",
       "text": [
        "\n",
        "['../../images/testsets/Gallagher_small/23_523.jpg', '../../images/testsets/Gallagher_small/27_551.jpg']\n",
        "Score: -0.1000 for 23 and 27 (Less than two matches)"
       ]
      },
      {
       "output_type": "stream",
       "stream": "stdout",
       "text": [
        "\n",
        "['../../images/testsets/Gallagher_small/23_523.jpg', '../../images/testsets/Gallagher_small/22_254.jpg']\n",
        "Score: -0.1000 for 23 and 22 (Less than two matches)"
       ]
      },
      {
       "output_type": "stream",
       "stream": "stdout",
       "text": [
        "\n",
        "['../../images/testsets/Gallagher_small/23_523.jpg', '../../images/testsets/Gallagher_small/29_568.jpg']\n",
        "Score: -0.1000 for 23 and 29 (Less than two matches)"
       ]
      },
      {
       "output_type": "stream",
       "stream": "stdout",
       "text": [
        "\n",
        "['../../images/testsets/Gallagher_small/23_523.jpg', '../../images/testsets/Gallagher_small/15_154.jpg']\n",
        "Score: -0.0195 for 23 and 15"
       ]
      },
      {
       "output_type": "stream",
       "stream": "stdout",
       "text": [
        "\n",
        "['../../images/testsets/Gallagher_small/23_523.jpg', '../../images/testsets/Gallagher_small/25_431.jpg']\n",
        "Score: 0.0143 for 23 and 25"
       ]
      },
      {
       "output_type": "stream",
       "stream": "stdout",
       "text": [
        "\n",
        "['../../images/testsets/Gallagher_small/23_523.jpg', '../../images/testsets/Gallagher_small/23_305.jpg']\n",
        "Score: -0.0247 for 23 and 23"
       ]
      },
      {
       "output_type": "stream",
       "stream": "stdout",
       "text": [
        "\n",
        "['../../images/testsets/Gallagher_small/23_523.jpg', '../../images/testsets/Gallagher_small/16_164.jpg']\n",
        "Score: -0.0382 for 23 and 16"
       ]
      },
      {
       "output_type": "stream",
       "stream": "stdout",
       "text": [
        "\n",
        "['../../images/testsets/Gallagher_small/23_523.jpg', '../../images/testsets/Gallagher_small/18_166.jpg']\n",
        "Score: 0.0422 for 23 and 18"
       ]
      },
      {
       "output_type": "stream",
       "stream": "stdout",
       "text": [
        "\n",
        "['../../images/testsets/Gallagher_small/23_523.jpg', '../../images/testsets/Gallagher_small/25_770.jpg']\n",
        "Score: -0.1000 for 23 and 25 (Less than two matches)"
       ]
      },
      {
       "output_type": "stream",
       "stream": "stdout",
       "text": [
        "\n",
        "['../../images/testsets/Gallagher_small/23_523.jpg', '../../images/testsets/Gallagher_small/32_642.jpg']\n",
        "Score: 0.0317 for 23 and 32"
       ]
      },
      {
       "output_type": "stream",
       "stream": "stdout",
       "text": [
        "\n",
        "['../../images/testsets/Gallagher_small/23_523.jpg', '../../images/testsets/Gallagher_small/19_198.jpg']\n",
        "Score: 0.0072 for 23 and 19"
       ]
      },
      {
       "output_type": "stream",
       "stream": "stdout",
       "text": [
        "\n",
        "['../../images/testsets/Gallagher_small/23_523.jpg', '../../images/testsets/Gallagher_small/21_294.jpg']\n",
        "Score: -0.1000 for 23 and 21 (Less than two matches)"
       ]
      },
      {
       "output_type": "stream",
       "stream": "stdout",
       "text": [
        "\n",
        "['../../images/testsets/Gallagher_small/23_523.jpg', '../../images/testsets/Gallagher_small/14_206.jpg']\n",
        "Score: -0.1000 for 23 and 14 (Less than two matches)"
       ]
      },
      {
       "output_type": "stream",
       "stream": "stdout",
       "text": [
        "\n",
        "['../../images/testsets/Gallagher_small/23_523.jpg', '../../images/testsets/Gallagher_small/26_535.jpg']\n",
        "Score: -0.1000 for 23 and 26 (Less than two matches)"
       ]
      },
      {
       "output_type": "stream",
       "stream": "stdout",
       "text": [
        "\n",
        "['../../images/testsets/Gallagher_small/23_523.jpg', '../../images/testsets/Gallagher_small/22_255.jpg']\n",
        "Score: -0.1000 for 23 and 22 (Less than two matches)"
       ]
      },
      {
       "output_type": "stream",
       "stream": "stdout",
       "text": [
        "\n",
        "['../../images/testsets/Gallagher_small/23_523.jpg', '../../images/testsets/Gallagher_small/29_553.jpg']\n",
        "Score: -0.1000 for 23 and 29 (Less than two matches)"
       ]
      },
      {
       "output_type": "stream",
       "stream": "stdout",
       "text": [
        "\n",
        "['../../images/testsets/Gallagher_small/23_523.jpg', '../../images/testsets/Gallagher_small/13_168.jpg']\n",
        "Score: -0.1000 for 23 and 13 (Less than two matches)"
       ]
      },
      {
       "output_type": "stream",
       "stream": "stdout",
       "text": [
        "\n",
        "['../../images/testsets/Gallagher_small/23_523.jpg', '../../images/testsets/Gallagher_small/28_552.jpg']\n",
        "Score: 0.0803 for 23 and 28"
       ]
      },
      {
       "output_type": "stream",
       "stream": "stdout",
       "text": [
        "\n",
        "['../../images/testsets/Gallagher_small/23_523.jpg', '../../images/testsets/Gallagher_small/13_145.jpg']\n",
        "Score: -0.1000 for 23 and 13 (Less than two matches)"
       ]
      },
      {
       "output_type": "stream",
       "stream": "stdout",
       "text": [
        "\n",
        "['../../images/testsets/Gallagher_small/23_523.jpg', '../../images/testsets/Gallagher_small/14_207.jpg']\n",
        "Score: -0.1000 for 23 and 14 (Less than two matches)"
       ]
      },
      {
       "output_type": "stream",
       "stream": "stdout",
       "text": [
        "\n",
        "['../../images/testsets/Gallagher_small/23_523.jpg', '../../images/testsets/Gallagher_small/14_150.jpg']\n",
        "Score: -0.1000 for 23 and 14 (Less than two matches)"
       ]
      },
      {
       "output_type": "stream",
       "stream": "stdout",
       "text": [
        "\n",
        "['../../images/testsets/Gallagher_small/23_523.jpg', '../../images/testsets/Gallagher_small/27_566.jpg']\n",
        "Score: -0.1000 for 23 and 27 (Less than two matches)"
       ]
      },
      {
       "output_type": "stream",
       "stream": "stdout",
       "text": [
        "\n",
        "['../../images/testsets/Gallagher_small/23_523.jpg', '../../images/testsets/Gallagher_small/17_183.jpg']\n",
        "Score: 0.0412 for 23 and 17"
       ]
      },
      {
       "output_type": "stream",
       "stream": "stdout",
       "text": [
        "\n",
        "['../../images/testsets/Gallagher_small/23_523.jpg', '../../images/testsets/Gallagher_small/19_187.jpg']\n",
        "Score: -0.1000 for 23 and 19 (Less than two matches)"
       ]
      },
      {
       "output_type": "stream",
       "stream": "stdout",
       "text": [
        "\n",
        "['../../images/testsets/Gallagher_small/23_523.jpg', '../../images/testsets/Gallagher_small/31_580.jpg']\n",
        "Score: -0.1000 for 23 and 31 (Less than two matches)"
       ]
      },
      {
       "output_type": "stream",
       "stream": "stdout",
       "text": [
        "\n",
        "['../../images/testsets/Gallagher_small/23_523.jpg', '../../images/testsets/Gallagher_small/21_872.jpg']\n",
        "Score: -0.1000 for 23 and 21 (Less than two matches)"
       ]
      },
      {
       "output_type": "stream",
       "stream": "stdout",
       "text": [
        "\n",
        "['../../images/testsets/Gallagher_small/23_523.jpg', '../../images/testsets/Gallagher_small/23_307.jpg']\n",
        "Score: 0.0514 for 23 and 23"
       ]
      },
      {
       "output_type": "stream",
       "stream": "stdout",
       "text": [
        "\n",
        "['../../images/testsets/Gallagher_small/23_523.jpg', '../../images/testsets/Gallagher_small/25_462.jpg']\n",
        "Score: 0.0031 for 23 and 25"
       ]
      },
      {
       "output_type": "stream",
       "stream": "stdout",
       "text": [
        "\n",
        "['../../images/testsets/Gallagher_small/23_523.jpg', '../../images/testsets/Gallagher_small/23_534.jpg']\n",
        "Score: -0.1000 for 23 and 23 (Less than two matches)"
       ]
      },
      {
       "output_type": "stream",
       "stream": "stdout",
       "text": [
        "\n",
        "['../../images/testsets/Gallagher_small/23_523.jpg', '../../images/testsets/Gallagher_small/31_582.jpg']\n",
        "Score: 0.0286 for 23 and 31"
       ]
      },
      {
       "output_type": "stream",
       "stream": "stdout",
       "text": [
        "\n",
        "['../../images/testsets/Gallagher_small/23_523.jpg', '../../images/testsets/Gallagher_small/15_224.jpg']\n",
        "Score: -0.1000 for 23 and 15 (Less than two matches)"
       ]
      },
      {
       "output_type": "stream",
       "stream": "stdout",
       "text": [
        "\n",
        "['../../images/testsets/Gallagher_small/23_523.jpg', '../../images/testsets/Gallagher_small/23_508.jpg']\n",
        "Score: 0.1435 for 23 and 23"
       ]
      },
      {
       "output_type": "stream",
       "stream": "stdout",
       "text": [
        "\n",
        "['../../images/testsets/Gallagher_small/23_523.jpg', '../../images/testsets/Gallagher_small/18_220.jpg']\n",
        "Score: -0.1000 for 23 and 18 (Less than two matches)"
       ]
      },
      {
       "output_type": "stream",
       "stream": "stdout",
       "text": [
        "\n",
        "['../../images/testsets/Gallagher_small/23_523.jpg', '../../images/testsets/Gallagher_small/15_151.jpg']\n",
        "Score: -0.1000 for 23 and 15 (Less than two matches)"
       ]
      },
      {
       "output_type": "stream",
       "stream": "stdout",
       "text": [
        "\n",
        "['../../images/testsets/Gallagher_small/23_523.jpg', '../../images/testsets/Gallagher_small/16_182.jpg']\n",
        "Score: -0.1000 for 23 and 16 (Less than two matches)"
       ]
      },
      {
       "output_type": "stream",
       "stream": "stdout",
       "text": [
        "\n",
        "['../../images/testsets/Gallagher_small/23_523.jpg', '../../images/testsets/Gallagher_small/23_875.jpg']\n",
        "Score: 0.0932 for 23 and 23"
       ]
      },
      {
       "output_type": "stream",
       "stream": "stdout",
       "text": [
        "\n",
        "['../../images/testsets/Gallagher_small/23_523.jpg', '../../images/testsets/Gallagher_small/23_549.jpg']\n",
        "Score: 0.0800 for 23 and 23"
       ]
      },
      {
       "output_type": "stream",
       "stream": "stdout",
       "text": [
        "\n",
        "['../../images/testsets/Gallagher_small/23_523.jpg', '../../images/testsets/Gallagher_small/32_648.jpg']\n",
        "Score: -0.1000 for 23 and 32 (Less than two matches)"
       ]
      },
      {
       "output_type": "stream",
       "stream": "stdout",
       "text": [
        "\n",
        "['../../images/testsets/Gallagher_small/23_523.jpg', '../../images/testsets/Gallagher_small/15_171.jpg']\n",
        "Score: -0.1000 for 23 and 15 (Less than two matches)"
       ]
      },
      {
       "output_type": "stream",
       "stream": "stdout",
       "text": [
        "\n",
        "['../../images/testsets/Gallagher_small/23_523.jpg', '../../images/testsets/Gallagher_small/24_358.jpg']\n",
        "Score: 0.0903 for 23 and 24"
       ]
      },
      {
       "output_type": "stream",
       "stream": "stdout",
       "text": [
        "\n",
        "['../../images/testsets/Gallagher_small/23_523.jpg', '../../images/testsets/Gallagher_small/25_458.jpg']\n",
        "Score: 0.0034 for 23 and 25"
       ]
      },
      {
       "output_type": "stream",
       "stream": "stdout",
       "text": [
        "\n",
        "['../../images/testsets/Gallagher_small/23_523.jpg', '../../images/testsets/Gallagher_small/30_569.jpg']\n",
        "Score: -0.1000 for 23 and 30 (Less than two matches)"
       ]
      },
      {
       "output_type": "stream",
       "stream": "stdout",
       "text": [
        "\n",
        "['../../images/testsets/Gallagher_small/23_523.jpg', '../../images/testsets/Gallagher_small/32_645.jpg']\n",
        "Score: 0.0676 for 23 and 32"
       ]
      },
      {
       "output_type": "stream",
       "stream": "stdout",
       "text": [
        "\n",
        "['../../images/testsets/Gallagher_small/23_523.jpg', '../../images/testsets/Gallagher_small/29_538.jpg']\n",
        "Score: -0.1000 for 23 and 29 (Less than two matches)"
       ]
      },
      {
       "output_type": "stream",
       "stream": "stdout",
       "text": [
        "\n",
        "['../../images/testsets/Gallagher_small/23_523.jpg', '../../images/testsets/Gallagher_small/21_251.jpg']\n",
        "Score: -0.1000 for 23 and 21 (Less than two matches)"
       ]
      },
      {
       "output_type": "stream",
       "stream": "stdout",
       "text": [
        "\n",
        "['../../images/testsets/Gallagher_small/23_523.jpg', '../../images/testsets/Gallagher_small/20_249.jpg']\n",
        "Score: 0.0080 for 23 and 20"
       ]
      },
      {
       "output_type": "stream",
       "stream": "stdout",
       "text": [
        "\n",
        "['../../images/testsets/Gallagher_small/23_523.jpg', '../../images/testsets/Gallagher_small/15_181.jpg']\n",
        "Score: 0.0640 for 23 and 15"
       ]
      },
      {
       "output_type": "stream",
       "stream": "stdout",
       "text": [
        "\n",
        "['../../images/testsets/Gallagher_small/23_523.jpg', '../../images/testsets/Gallagher_small/15_158.jpg']\n",
        "Score: 0.0802 for 23 and 15"
       ]
      },
      {
       "output_type": "stream",
       "stream": "stdout",
       "text": [
        "\n",
        "['../../images/testsets/Gallagher_small/23_523.jpg', '../../images/testsets/Gallagher_small/19_195.jpg']\n",
        "Score: -0.1000 for 23 and 19 (Less than two matches)"
       ]
      },
      {
       "output_type": "stream",
       "stream": "stdout",
       "text": [
        "\n",
        "['../../images/testsets/Gallagher_small/23_523.jpg', '../../images/testsets/Gallagher_small/19_193.jpg']\n",
        "Score: -0.1000 for 23 and 19 (Less than two matches)"
       ]
      },
      {
       "output_type": "stream",
       "stream": "stdout",
       "text": [
        "\n",
        "['../../images/testsets/Gallagher_small/23_523.jpg', '../../images/testsets/Gallagher_small/21_287.jpg']\n",
        "Score: -0.1000 for 23 and 21 (Less than two matches)"
       ]
      },
      {
       "output_type": "stream",
       "stream": "stdout",
       "text": [
        "\n",
        "['../../images/testsets/Gallagher_small/23_523.jpg', '../../images/testsets/Gallagher_small/26_565.jpg']\n",
        "Score: -0.1000 for 23 and 26 (Less than two matches)"
       ]
      },
      {
       "output_type": "stream",
       "stream": "stdout",
       "text": [
        "\n",
        "['../../images/testsets/Gallagher_small/23_523.jpg', '../../images/testsets/Gallagher_small/27_509.jpg']\n",
        "Score: -0.1000 for 23 and 27 (Less than two matches)"
       ]
      },
      {
       "output_type": "stream",
       "stream": "stdout",
       "text": [
        "\n",
        "['../../images/testsets/Gallagher_small/23_523.jpg', '../../images/testsets/Gallagher_small/15_169.jpg']\n",
        "Score: -0.1000 for 23 and 15 (Less than two matches)"
       ]
      },
      {
       "output_type": "stream",
       "stream": "stdout",
       "text": [
        "\n",
        "['../../images/testsets/Gallagher_small/23_523.jpg', '../../images/testsets/Gallagher_small/15_167.jpg']\n",
        "Score: -0.1000 for 23 and 15 (Less than two matches)"
       ]
      },
      {
       "output_type": "stream",
       "stream": "stdout",
       "text": [
        "\n",
        "['../../images/testsets/Gallagher_small/23_523.jpg', '../../images/testsets/Gallagher_small/21_587.jpg']\n",
        "Score: 0.1319 for 23 and 21"
       ]
      },
      {
       "output_type": "stream",
       "stream": "stdout",
       "text": [
        "\n",
        "['../../images/testsets/Gallagher_small/23_523.jpg', '../../images/testsets/Gallagher_small/15_222.jpg']\n",
        "Score: -0.1000 for 23 and 15 (Less than two matches)"
       ]
      },
      {
       "output_type": "stream",
       "stream": "stdout",
       "text": [
        "\n",
        "['../../images/testsets/Gallagher_small/23_523.jpg', '../../images/testsets/Gallagher_small/16_178.jpg']\n",
        "Score: -0.1000 for 23 and 16 (Less than two matches)"
       ]
      },
      {
       "output_type": "stream",
       "stream": "stdout",
       "text": [
        "\n",
        "['../../images/testsets/Gallagher_small/23_523.jpg', '../../images/testsets/Gallagher_small/17_165.jpg']\n",
        "Score: -0.1000 for 23 and 17 (Less than two matches)"
       ]
      },
      {
       "output_type": "stream",
       "stream": "stdout",
       "text": [
        "\n",
        "['../../images/testsets/Gallagher_small/23_523.jpg', '../../images/testsets/Gallagher_small/28_537.jpg']\n",
        "Score: -0.1000 for 23 and 28 (Less than two matches)"
       ]
      },
      {
       "output_type": "stream",
       "stream": "stdout",
       "text": [
        "\n",
        "['../../images/testsets/Gallagher_small/23_523.jpg', '../../images/testsets/Gallagher_small/27_524.jpg']\n",
        "Score: -0.1000 for 23 and 27 (Less than two matches)"
       ]
      },
      {
       "output_type": "stream",
       "stream": "stdout",
       "text": [
        "\n",
        "['../../images/testsets/Gallagher_small/23_523.jpg', '../../images/testsets/Gallagher_small/13_163.jpg']\n",
        "Score: -0.1000 for 23 and 13 (Less than two matches)"
       ]
      },
      {
       "output_type": "stream",
       "stream": "stdout",
       "text": [
        "\n",
        "['../../images/testsets/Gallagher_small/23_523.jpg', '../../images/testsets/Gallagher_small/23_302.jpg']\n",
        "Score: 0.0524 for 23 and 23"
       ]
      },
      {
       "output_type": "stream",
       "stream": "stdout",
       "text": [
        "\n",
        "['../../images/testsets/Gallagher_small/21_585.jpg', '../../images/testsets/Gallagher_small/25_924.jpg']\n",
        "Score: -0.1000 for 21 and 25 (Less than two matches)"
       ]
      },
      {
       "output_type": "stream",
       "stream": "stdout",
       "text": [
        "\n",
        "['../../images/testsets/Gallagher_small/21_585.jpg', '../../images/testsets/Gallagher_small/23_564.jpg']\n",
        "Score: -0.1000 for 21 and 23 (Less than two matches)"
       ]
      },
      {
       "output_type": "stream",
       "stream": "stdout",
       "text": [
        "\n",
        "['../../images/testsets/Gallagher_small/21_585.jpg', '../../images/testsets/Gallagher_small/25_757.jpg']\n",
        "Score: 0.0608 for 21 and 25"
       ]
      },
      {
       "output_type": "stream",
       "stream": "stdout",
       "text": [
        "\n",
        "['../../images/testsets/Gallagher_small/21_585.jpg', '../../images/testsets/Gallagher_small/26_878.jpg']\n",
        "Score: -0.1000 for 21 and 26 (Less than two matches)"
       ]
      },
      {
       "output_type": "stream",
       "stream": "stdout",
       "text": [
        "\n",
        "['../../images/testsets/Gallagher_small/21_585.jpg', '../../images/testsets/Gallagher_small/18_216.jpg']\n",
        "Score: -0.1000 for 21 and 18 (Less than two matches)"
       ]
      },
      {
       "output_type": "stream",
       "stream": "stdout",
       "text": [
        "\n",
        "['../../images/testsets/Gallagher_small/21_585.jpg', '../../images/testsets/Gallagher_small/15_160.jpg']\n",
        "Score: -0.1000 for 21 and 15 (Less than two matches)"
       ]
      },
      {
       "output_type": "stream",
       "stream": "stdout",
       "text": [
        "\n",
        "['../../images/testsets/Gallagher_small/21_585.jpg', '../../images/testsets/Gallagher_small/14_180.jpg']\n",
        "Score: -0.1000 for 21 and 14 (Less than two matches)"
       ]
      },
      {
       "output_type": "stream",
       "stream": "stdout",
       "text": [
        "\n",
        "['../../images/testsets/Gallagher_small/21_585.jpg', '../../images/testsets/Gallagher_small/25_694.jpg']\n",
        "Score: -0.0290 for 21 and 25"
       ]
      },
      {
       "output_type": "stream",
       "stream": "stdout",
       "text": [
        "\n",
        "['../../images/testsets/Gallagher_small/21_585.jpg', '../../images/testsets/Gallagher_small/25_696.jpg']\n",
        "Score: 0.0129 for 21 and 25"
       ]
      },
      {
       "output_type": "stream",
       "stream": "stdout",
       "text": [
        "\n",
        "['../../images/testsets/Gallagher_small/21_585.jpg', '../../images/testsets/Gallagher_small/32_639.jpg']\n",
        "Score: 0.0094 for 21 and 32"
       ]
      },
      {
       "output_type": "stream",
       "stream": "stdout",
       "text": [
        "\n",
        "['../../images/testsets/Gallagher_small/21_585.jpg', '../../images/testsets/Gallagher_small/30_554.jpg']\n",
        "Score: -0.1000 for 21 and 30 (Less than two matches)"
       ]
      },
      {
       "output_type": "stream",
       "stream": "stdout",
       "text": [
        "\n",
        "['../../images/testsets/Gallagher_small/21_585.jpg', '../../images/testsets/Gallagher_small/28_525.jpg']\n",
        "Score: -0.0183 for 21 and 28"
       ]
      },
      {
       "output_type": "stream",
       "stream": "stdout",
       "text": [
        "\n",
        "['../../images/testsets/Gallagher_small/21_585.jpg', '../../images/testsets/Gallagher_small/30_539.jpg']\n",
        "Score: -0.1000 for 21 and 30 (Less than two matches)"
       ]
      },
      {
       "output_type": "stream",
       "stream": "stdout",
       "text": [
        "\n",
        "['../../images/testsets/Gallagher_small/21_585.jpg', '../../images/testsets/Gallagher_small/26_550.jpg']\n",
        "Score: -0.1000 for 21 and 26 (Less than two matches)"
       ]
      },
      {
       "output_type": "stream",
       "stream": "stdout",
       "text": [
        "\n",
        "['../../images/testsets/Gallagher_small/21_585.jpg', '../../images/testsets/Gallagher_small/15_170.jpg']\n",
        "Score: 0.0423 for 21 and 15"
       ]
      },
      {
       "output_type": "stream",
       "stream": "stdout",
       "text": [
        "\n",
        "['../../images/testsets/Gallagher_small/21_585.jpg', '../../images/testsets/Gallagher_small/21_293.jpg']\n",
        "Score: 0.0434 for 21 and 21"
       ]
      },
      {
       "output_type": "stream",
       "stream": "stdout",
       "text": [
        "\n",
        "['../../images/testsets/Gallagher_small/21_585.jpg', '../../images/testsets/Gallagher_small/24_379.jpg']\n",
        "Score: -0.0141 for 21 and 24"
       ]
      },
      {
       "output_type": "stream",
       "stream": "stdout",
       "text": [
        "\n",
        "['../../images/testsets/Gallagher_small/21_585.jpg', '../../images/testsets/Gallagher_small/17_212.jpg']\n",
        "Score: -0.0388 for 21 and 17"
       ]
      },
      {
       "output_type": "stream",
       "stream": "stdout",
       "text": [
        "\n",
        "['../../images/testsets/Gallagher_small/21_585.jpg', '../../images/testsets/Gallagher_small/14_699.jpg']\n",
        "Score: -0.1000 for 21 and 14 (Less than two matches)"
       ]
      },
      {
       "output_type": "stream",
       "stream": "stdout",
       "text": [
        "\n",
        "['../../images/testsets/Gallagher_small/21_585.jpg', '../../images/testsets/Gallagher_small/28_567.jpg']\n",
        "Score: 0.0614 for 21 and 28"
       ]
      },
      {
       "output_type": "stream",
       "stream": "stdout",
       "text": [
        "\n",
        "['../../images/testsets/Gallagher_small/21_585.jpg', '../../images/testsets/Gallagher_small/27_551.jpg']\n",
        "Score: -0.1000 for 21 and 27 (Less than two matches)"
       ]
      },
      {
       "output_type": "stream",
       "stream": "stdout",
       "text": [
        "\n",
        "['../../images/testsets/Gallagher_small/21_585.jpg', '../../images/testsets/Gallagher_small/22_254.jpg']\n",
        "Score: -0.1000 for 21 and 22 (Less than two matches)"
       ]
      },
      {
       "output_type": "stream",
       "stream": "stdout",
       "text": [
        "\n",
        "['../../images/testsets/Gallagher_small/21_585.jpg', '../../images/testsets/Gallagher_small/29_568.jpg']\n",
        "Score: -0.1000 for 21 and 29 (Less than two matches)"
       ]
      },
      {
       "output_type": "stream",
       "stream": "stdout",
       "text": [
        "\n",
        "['../../images/testsets/Gallagher_small/21_585.jpg', '../../images/testsets/Gallagher_small/15_154.jpg']\n",
        "Score: -0.0578 for 21 and 15"
       ]
      },
      {
       "output_type": "stream",
       "stream": "stdout",
       "text": [
        "\n",
        "['../../images/testsets/Gallagher_small/21_585.jpg', '../../images/testsets/Gallagher_small/25_431.jpg']\n",
        "Score: -0.1000 for 21 and 25 (Less than two matches)"
       ]
      },
      {
       "output_type": "stream",
       "stream": "stdout",
       "text": [
        "\n",
        "['../../images/testsets/Gallagher_small/21_585.jpg', '../../images/testsets/Gallagher_small/23_305.jpg']\n",
        "Score: 0.0313 for 21 and 23"
       ]
      },
      {
       "output_type": "stream",
       "stream": "stdout",
       "text": [
        "\n",
        "['../../images/testsets/Gallagher_small/21_585.jpg', '../../images/testsets/Gallagher_small/16_164.jpg']\n",
        "Score: -0.1000 for 21 and 16 (Less than two matches)"
       ]
      },
      {
       "output_type": "stream",
       "stream": "stdout",
       "text": [
        "\n",
        "['../../images/testsets/Gallagher_small/21_585.jpg', '../../images/testsets/Gallagher_small/18_166.jpg']\n",
        "Score: -0.1000 for 21 and 18 (Less than two matches)"
       ]
      },
      {
       "output_type": "stream",
       "stream": "stdout",
       "text": [
        "\n",
        "['../../images/testsets/Gallagher_small/21_585.jpg', '../../images/testsets/Gallagher_small/25_770.jpg']\n",
        "Score: -0.1000 for 21 and 25 (Less than two matches)"
       ]
      },
      {
       "output_type": "stream",
       "stream": "stdout",
       "text": [
        "\n",
        "['../../images/testsets/Gallagher_small/21_585.jpg', '../../images/testsets/Gallagher_small/32_642.jpg']\n",
        "Score: -0.0497 for 21 and 32"
       ]
      },
      {
       "output_type": "stream",
       "stream": "stdout",
       "text": [
        "\n",
        "['../../images/testsets/Gallagher_small/21_585.jpg', '../../images/testsets/Gallagher_small/19_198.jpg']\n",
        "Score: -0.1000 for 21 and 19 (Less than two matches)"
       ]
      },
      {
       "output_type": "stream",
       "stream": "stdout",
       "text": [
        "\n",
        "['../../images/testsets/Gallagher_small/21_585.jpg', '../../images/testsets/Gallagher_small/21_294.jpg']\n",
        "Score: -0.1000 for 21 and 21 (Less than two matches)"
       ]
      },
      {
       "output_type": "stream",
       "stream": "stdout",
       "text": [
        "\n",
        "['../../images/testsets/Gallagher_small/21_585.jpg', '../../images/testsets/Gallagher_small/14_206.jpg']\n",
        "Score: -0.1000 for 21 and 14 (Less than two matches)"
       ]
      },
      {
       "output_type": "stream",
       "stream": "stdout",
       "text": [
        "\n",
        "['../../images/testsets/Gallagher_small/21_585.jpg', '../../images/testsets/Gallagher_small/26_535.jpg']\n",
        "Score: -0.1000 for 21 and 26 (Less than two matches)"
       ]
      },
      {
       "output_type": "stream",
       "stream": "stdout",
       "text": [
        "\n",
        "['../../images/testsets/Gallagher_small/21_585.jpg', '../../images/testsets/Gallagher_small/22_255.jpg']\n",
        "Score: -0.1000 for 21 and 22 (Less than two matches)"
       ]
      },
      {
       "output_type": "stream",
       "stream": "stdout",
       "text": [
        "\n",
        "['../../images/testsets/Gallagher_small/21_585.jpg', '../../images/testsets/Gallagher_small/29_553.jpg']\n",
        "Score: -0.1000 for 21 and 29 (Less than two matches)"
       ]
      },
      {
       "output_type": "stream",
       "stream": "stdout",
       "text": [
        "\n",
        "['../../images/testsets/Gallagher_small/21_585.jpg', '../../images/testsets/Gallagher_small/13_168.jpg']\n",
        "Score: -0.1000 for 21 and 13 (Less than two matches)"
       ]
      },
      {
       "output_type": "stream",
       "stream": "stdout",
       "text": [
        "\n",
        "['../../images/testsets/Gallagher_small/21_585.jpg', '../../images/testsets/Gallagher_small/28_552.jpg']\n",
        "Score: -0.1000 for 21 and 28 (Less than two matches)"
       ]
      },
      {
       "output_type": "stream",
       "stream": "stdout",
       "text": [
        "\n",
        "['../../images/testsets/Gallagher_small/21_585.jpg', '../../images/testsets/Gallagher_small/13_145.jpg']\n",
        "Score: -0.1000 for 21 and 13 (Less than two matches)"
       ]
      },
      {
       "output_type": "stream",
       "stream": "stdout",
       "text": [
        "\n",
        "['../../images/testsets/Gallagher_small/21_585.jpg', '../../images/testsets/Gallagher_small/14_207.jpg']\n",
        "Score: -0.0628 for 21 and 14"
       ]
      },
      {
       "output_type": "stream",
       "stream": "stdout",
       "text": [
        "\n",
        "['../../images/testsets/Gallagher_small/21_585.jpg', '../../images/testsets/Gallagher_small/14_150.jpg']\n",
        "Score: -0.1000 for 21 and 14 (Less than two matches)"
       ]
      },
      {
       "output_type": "stream",
       "stream": "stdout",
       "text": [
        "\n",
        "['../../images/testsets/Gallagher_small/21_585.jpg', '../../images/testsets/Gallagher_small/27_566.jpg']\n",
        "Score: 0.0204 for 21 and 27"
       ]
      },
      {
       "output_type": "stream",
       "stream": "stdout",
       "text": [
        "\n",
        "['../../images/testsets/Gallagher_small/21_585.jpg', '../../images/testsets/Gallagher_small/17_183.jpg']\n",
        "Score: 0.0030 for 21 and 17"
       ]
      },
      {
       "output_type": "stream",
       "stream": "stdout",
       "text": [
        "\n",
        "['../../images/testsets/Gallagher_small/21_585.jpg', '../../images/testsets/Gallagher_small/19_187.jpg']\n",
        "Score: -0.1000 for 21 and 19 (Less than two matches)"
       ]
      },
      {
       "output_type": "stream",
       "stream": "stdout",
       "text": [
        "\n",
        "['../../images/testsets/Gallagher_small/21_585.jpg', '../../images/testsets/Gallagher_small/31_580.jpg']\n",
        "Score: -0.1000 for 21 and 31 (Less than two matches)"
       ]
      },
      {
       "output_type": "stream",
       "stream": "stdout",
       "text": [
        "\n",
        "['../../images/testsets/Gallagher_small/21_585.jpg', '../../images/testsets/Gallagher_small/21_872.jpg']\n",
        "Score: -0.1000 for 21 and 21 (Less than two matches)"
       ]
      },
      {
       "output_type": "stream",
       "stream": "stdout",
       "text": [
        "\n",
        "['../../images/testsets/Gallagher_small/21_585.jpg', '../../images/testsets/Gallagher_small/23_307.jpg']\n",
        "Score: -0.1000 for 21 and 23 (Less than two matches)"
       ]
      },
      {
       "output_type": "stream",
       "stream": "stdout",
       "text": [
        "\n",
        "['../../images/testsets/Gallagher_small/21_585.jpg', '../../images/testsets/Gallagher_small/25_462.jpg']\n",
        "Score: 0.0947 for 21 and 25"
       ]
      },
      {
       "output_type": "stream",
       "stream": "stdout",
       "text": [
        "\n",
        "['../../images/testsets/Gallagher_small/21_585.jpg', '../../images/testsets/Gallagher_small/23_534.jpg']\n",
        "Score: -0.1000 for 21 and 23 (Less than two matches)"
       ]
      },
      {
       "output_type": "stream",
       "stream": "stdout",
       "text": [
        "\n",
        "['../../images/testsets/Gallagher_small/21_585.jpg', '../../images/testsets/Gallagher_small/31_582.jpg']\n",
        "Score: -0.1000 for 21 and 31 (Less than two matches)"
       ]
      },
      {
       "output_type": "stream",
       "stream": "stdout",
       "text": [
        "\n",
        "['../../images/testsets/Gallagher_small/21_585.jpg', '../../images/testsets/Gallagher_small/15_224.jpg']\n",
        "Score: 0.1033 for 21 and 15"
       ]
      },
      {
       "output_type": "stream",
       "stream": "stdout",
       "text": [
        "\n",
        "['../../images/testsets/Gallagher_small/21_585.jpg', '../../images/testsets/Gallagher_small/23_508.jpg']\n",
        "Score: -0.1000 for 21 and 23 (Less than two matches)"
       ]
      },
      {
       "output_type": "stream",
       "stream": "stdout",
       "text": [
        "\n",
        "['../../images/testsets/Gallagher_small/21_585.jpg', '../../images/testsets/Gallagher_small/18_220.jpg']\n",
        "Score: -0.1000 for 21 and 18 (Less than two matches)"
       ]
      },
      {
       "output_type": "stream",
       "stream": "stdout",
       "text": [
        "\n",
        "['../../images/testsets/Gallagher_small/21_585.jpg', '../../images/testsets/Gallagher_small/15_151.jpg']\n",
        "Score: 0.0702 for 21 and 15"
       ]
      },
      {
       "output_type": "stream",
       "stream": "stdout",
       "text": [
        "\n",
        "['../../images/testsets/Gallagher_small/21_585.jpg', '../../images/testsets/Gallagher_small/16_182.jpg']\n",
        "Score: -0.0125 for 21 and 16"
       ]
      },
      {
       "output_type": "stream",
       "stream": "stdout",
       "text": [
        "\n",
        "['../../images/testsets/Gallagher_small/21_585.jpg', '../../images/testsets/Gallagher_small/23_875.jpg']\n",
        "Score: 0.0261 for 21 and 23"
       ]
      },
      {
       "output_type": "stream",
       "stream": "stdout",
       "text": [
        "\n",
        "['../../images/testsets/Gallagher_small/21_585.jpg', '../../images/testsets/Gallagher_small/23_549.jpg']\n",
        "Score: -0.1000 for 21 and 23 (Less than two matches)"
       ]
      },
      {
       "output_type": "stream",
       "stream": "stdout",
       "text": [
        "\n",
        "['../../images/testsets/Gallagher_small/21_585.jpg', '../../images/testsets/Gallagher_small/32_648.jpg']\n",
        "Score: -0.1000 for 21 and 32 (Less than two matches)"
       ]
      },
      {
       "output_type": "stream",
       "stream": "stdout",
       "text": [
        "\n",
        "['../../images/testsets/Gallagher_small/21_585.jpg', '../../images/testsets/Gallagher_small/15_171.jpg']\n",
        "Score: 0.0598 for 21 and 15"
       ]
      },
      {
       "output_type": "stream",
       "stream": "stdout",
       "text": [
        "\n",
        "['../../images/testsets/Gallagher_small/21_585.jpg', '../../images/testsets/Gallagher_small/24_358.jpg']\n",
        "Score: -0.1000 for 21 and 24 (Less than two matches)"
       ]
      },
      {
       "output_type": "stream",
       "stream": "stdout",
       "text": [
        "\n",
        "['../../images/testsets/Gallagher_small/21_585.jpg', '../../images/testsets/Gallagher_small/25_458.jpg']\n",
        "Score: 0.1139 for 21 and 25"
       ]
      },
      {
       "output_type": "stream",
       "stream": "stdout",
       "text": [
        "\n",
        "['../../images/testsets/Gallagher_small/21_585.jpg', '../../images/testsets/Gallagher_small/30_569.jpg']\n",
        "Score: -0.1000 for 21 and 30 (Less than two matches)"
       ]
      },
      {
       "output_type": "stream",
       "stream": "stdout",
       "text": [
        "\n",
        "['../../images/testsets/Gallagher_small/21_585.jpg', '../../images/testsets/Gallagher_small/32_645.jpg']\n",
        "Score: 0.0488 for 21 and 32"
       ]
      },
      {
       "output_type": "stream",
       "stream": "stdout",
       "text": [
        "\n",
        "['../../images/testsets/Gallagher_small/21_585.jpg', '../../images/testsets/Gallagher_small/29_538.jpg']\n",
        "Score: -0.1000 for 21 and 29 (Less than two matches)"
       ]
      },
      {
       "output_type": "stream",
       "stream": "stdout",
       "text": [
        "\n",
        "['../../images/testsets/Gallagher_small/21_585.jpg', '../../images/testsets/Gallagher_small/21_251.jpg']\n",
        "Score: 0.0256 for 21 and 21"
       ]
      },
      {
       "output_type": "stream",
       "stream": "stdout",
       "text": [
        "\n",
        "['../../images/testsets/Gallagher_small/21_585.jpg', '../../images/testsets/Gallagher_small/20_249.jpg']\n",
        "Score: -0.0035 for 21 and 20"
       ]
      },
      {
       "output_type": "stream",
       "stream": "stdout",
       "text": [
        "\n",
        "['../../images/testsets/Gallagher_small/21_585.jpg', '../../images/testsets/Gallagher_small/15_181.jpg']\n",
        "Score: -0.1000 for 21 and 15 (Less than two matches)"
       ]
      },
      {
       "output_type": "stream",
       "stream": "stdout",
       "text": [
        "\n",
        "['../../images/testsets/Gallagher_small/21_585.jpg', '../../images/testsets/Gallagher_small/15_158.jpg']\n",
        "Score: -0.0283 for 21 and 15"
       ]
      },
      {
       "output_type": "stream",
       "stream": "stdout",
       "text": [
        "\n",
        "['../../images/testsets/Gallagher_small/21_585.jpg', '../../images/testsets/Gallagher_small/19_195.jpg']\n",
        "Score: -0.0028 for 21 and 19"
       ]
      },
      {
       "output_type": "stream",
       "stream": "stdout",
       "text": [
        "\n",
        "['../../images/testsets/Gallagher_small/21_585.jpg', '../../images/testsets/Gallagher_small/19_193.jpg']\n",
        "Score: -0.1000 for 21 and 19 (Less than two matches)"
       ]
      },
      {
       "output_type": "stream",
       "stream": "stdout",
       "text": [
        "\n",
        "['../../images/testsets/Gallagher_small/21_585.jpg', '../../images/testsets/Gallagher_small/21_287.jpg']\n",
        "Score: -0.1000 for 21 and 21 (Less than two matches)"
       ]
      },
      {
       "output_type": "stream",
       "stream": "stdout",
       "text": [
        "\n",
        "['../../images/testsets/Gallagher_small/21_585.jpg', '../../images/testsets/Gallagher_small/26_565.jpg']\n",
        "Score: -0.1000 for 21 and 26 (Less than two matches)"
       ]
      },
      {
       "output_type": "stream",
       "stream": "stdout",
       "text": [
        "\n",
        "['../../images/testsets/Gallagher_small/21_585.jpg', '../../images/testsets/Gallagher_small/27_509.jpg']\n",
        "Score: -0.1000 for 21 and 27 (Less than two matches)"
       ]
      },
      {
       "output_type": "stream",
       "stream": "stdout",
       "text": [
        "\n",
        "['../../images/testsets/Gallagher_small/21_585.jpg', '../../images/testsets/Gallagher_small/15_169.jpg']\n",
        "Score: 0.0197 for 21 and 15"
       ]
      },
      {
       "output_type": "stream",
       "stream": "stdout",
       "text": [
        "\n",
        "['../../images/testsets/Gallagher_small/21_585.jpg', '../../images/testsets/Gallagher_small/15_167.jpg']\n",
        "Score: -0.0042 for 21 and 15"
       ]
      },
      {
       "output_type": "stream",
       "stream": "stdout",
       "text": [
        "\n",
        "['../../images/testsets/Gallagher_small/21_585.jpg', '../../images/testsets/Gallagher_small/21_587.jpg']\n",
        "Score: 0.0464 for 21 and 21"
       ]
      },
      {
       "output_type": "stream",
       "stream": "stdout",
       "text": [
        "\n",
        "['../../images/testsets/Gallagher_small/21_585.jpg', '../../images/testsets/Gallagher_small/15_222.jpg']\n",
        "Score: -0.1000 for 21 and 15 (Less than two matches)"
       ]
      },
      {
       "output_type": "stream",
       "stream": "stdout",
       "text": [
        "\n",
        "['../../images/testsets/Gallagher_small/21_585.jpg', '../../images/testsets/Gallagher_small/16_178.jpg']\n",
        "Score: -0.1000 for 21 and 16 (Less than two matches)"
       ]
      },
      {
       "output_type": "stream",
       "stream": "stdout",
       "text": [
        "\n",
        "['../../images/testsets/Gallagher_small/21_585.jpg', '../../images/testsets/Gallagher_small/17_165.jpg']\n",
        "Score: -0.1000 for 21 and 17 (Less than two matches)"
       ]
      },
      {
       "output_type": "stream",
       "stream": "stdout",
       "text": [
        "\n",
        "['../../images/testsets/Gallagher_small/21_585.jpg', '../../images/testsets/Gallagher_small/28_537.jpg']\n",
        "Score: -0.1000 for 21 and 28 (Less than two matches)"
       ]
      },
      {
       "output_type": "stream",
       "stream": "stdout",
       "text": [
        "\n",
        "['../../images/testsets/Gallagher_small/21_585.jpg', '../../images/testsets/Gallagher_small/27_524.jpg']\n",
        "Score: -0.1000 for 21 and 27 (Less than two matches)"
       ]
      },
      {
       "output_type": "stream",
       "stream": "stdout",
       "text": [
        "\n",
        "['../../images/testsets/Gallagher_small/21_585.jpg', '../../images/testsets/Gallagher_small/13_163.jpg']\n",
        "Score: -0.1000 for 21 and 13 (Less than two matches)"
       ]
      },
      {
       "output_type": "stream",
       "stream": "stdout",
       "text": [
        "\n",
        "['../../images/testsets/Gallagher_small/21_585.jpg', '../../images/testsets/Gallagher_small/23_302.jpg']\n",
        "Score: -0.1000 for 21 and 23 (Less than two matches)"
       ]
      },
      {
       "output_type": "stream",
       "stream": "stdout",
       "text": [
        "\n",
        "['../../images/testsets/Gallagher_small/25_924.jpg', '../../images/testsets/Gallagher_small/23_564.jpg']\n",
        "Score: -0.1000 for 25 and 23 (Less than two matches)"
       ]
      },
      {
       "output_type": "stream",
       "stream": "stdout",
       "text": [
        "\n",
        "['../../images/testsets/Gallagher_small/25_924.jpg', '../../images/testsets/Gallagher_small/25_757.jpg']\n",
        "Score: -0.1000 for 25 and 25 (Less than two matches)"
       ]
      },
      {
       "output_type": "stream",
       "stream": "stdout",
       "text": [
        "\n",
        "['../../images/testsets/Gallagher_small/25_924.jpg', '../../images/testsets/Gallagher_small/26_878.jpg']\n",
        "Score: -0.1000 for 25 and 26 (Less than two matches)"
       ]
      },
      {
       "output_type": "stream",
       "stream": "stdout",
       "text": [
        "\n",
        "['../../images/testsets/Gallagher_small/25_924.jpg', '../../images/testsets/Gallagher_small/18_216.jpg']\n",
        "Score: 0.1232 for 25 and 18"
       ]
      },
      {
       "output_type": "stream",
       "stream": "stdout",
       "text": [
        "\n",
        "['../../images/testsets/Gallagher_small/25_924.jpg', '../../images/testsets/Gallagher_small/15_160.jpg']\n",
        "Score: 0.0504 for 25 and 15"
       ]
      },
      {
       "output_type": "stream",
       "stream": "stdout",
       "text": [
        "\n",
        "['../../images/testsets/Gallagher_small/25_924.jpg', '../../images/testsets/Gallagher_small/14_180.jpg']\n",
        "Score: -0.1000 for 25 and 14 (Less than two matches)"
       ]
      },
      {
       "output_type": "stream",
       "stream": "stdout",
       "text": [
        "\n",
        "['../../images/testsets/Gallagher_small/25_924.jpg', '../../images/testsets/Gallagher_small/25_694.jpg']\n",
        "Score: -0.1000 for 25 and 25 (Less than two matches)"
       ]
      },
      {
       "output_type": "stream",
       "stream": "stdout",
       "text": [
        "\n",
        "['../../images/testsets/Gallagher_small/25_924.jpg', '../../images/testsets/Gallagher_small/25_696.jpg']\n",
        "Score: -0.1000 for 25 and 25 (Less than two matches)"
       ]
      },
      {
       "output_type": "stream",
       "stream": "stdout",
       "text": [
        "\n",
        "['../../images/testsets/Gallagher_small/25_924.jpg', '../../images/testsets/Gallagher_small/32_639.jpg']\n",
        "Score: -0.1000 for 25 and 32 (Less than two matches)"
       ]
      },
      {
       "output_type": "stream",
       "stream": "stdout",
       "text": [
        "\n",
        "['../../images/testsets/Gallagher_small/25_924.jpg', '../../images/testsets/Gallagher_small/30_554.jpg']\n",
        "Score: -0.1000 for 25 and 30 (Less than two matches)"
       ]
      },
      {
       "output_type": "stream",
       "stream": "stdout",
       "text": [
        "\n",
        "['../../images/testsets/Gallagher_small/25_924.jpg', '../../images/testsets/Gallagher_small/28_525.jpg']\n",
        "Score: 0.0422 for 25 and 28"
       ]
      },
      {
       "output_type": "stream",
       "stream": "stdout",
       "text": [
        "\n",
        "['../../images/testsets/Gallagher_small/25_924.jpg', '../../images/testsets/Gallagher_small/30_539.jpg']\n",
        "Score: -0.1000 for 25 and 30 (Less than two matches)"
       ]
      },
      {
       "output_type": "stream",
       "stream": "stdout",
       "text": [
        "\n",
        "['../../images/testsets/Gallagher_small/25_924.jpg', '../../images/testsets/Gallagher_small/26_550.jpg']\n",
        "Score: -0.1000 for 25 and 26 (Less than two matches)"
       ]
      },
      {
       "output_type": "stream",
       "stream": "stdout",
       "text": [
        "\n",
        "['../../images/testsets/Gallagher_small/25_924.jpg', '../../images/testsets/Gallagher_small/15_170.jpg']\n",
        "Score: -0.1000 for 25 and 15 (Less than two matches)"
       ]
      },
      {
       "output_type": "stream",
       "stream": "stdout",
       "text": [
        "\n",
        "['../../images/testsets/Gallagher_small/25_924.jpg', '../../images/testsets/Gallagher_small/21_293.jpg']\n",
        "Score: -0.1000 for 25 and 21 (Less than two matches)"
       ]
      },
      {
       "output_type": "stream",
       "stream": "stdout",
       "text": [
        "\n",
        "['../../images/testsets/Gallagher_small/25_924.jpg', '../../images/testsets/Gallagher_small/24_379.jpg']\n",
        "Score: -0.1000 for 25 and 24 (Less than two matches)"
       ]
      },
      {
       "output_type": "stream",
       "stream": "stdout",
       "text": [
        "\n",
        "['../../images/testsets/Gallagher_small/25_924.jpg', '../../images/testsets/Gallagher_small/17_212.jpg']\n",
        "Score: -0.1000 for 25 and 17 (Less than two matches)"
       ]
      },
      {
       "output_type": "stream",
       "stream": "stdout",
       "text": [
        "\n",
        "['../../images/testsets/Gallagher_small/25_924.jpg', '../../images/testsets/Gallagher_small/14_699.jpg']\n",
        "Score: 0.0896 for 25 and 14"
       ]
      },
      {
       "output_type": "stream",
       "stream": "stdout",
       "text": [
        "\n",
        "['../../images/testsets/Gallagher_small/25_924.jpg', '../../images/testsets/Gallagher_small/28_567.jpg']\n",
        "Score: -0.1000 for 25 and 28 (Less than two matches)"
       ]
      },
      {
       "output_type": "stream",
       "stream": "stdout",
       "text": [
        "\n",
        "['../../images/testsets/Gallagher_small/25_924.jpg', '../../images/testsets/Gallagher_small/27_551.jpg']\n",
        "Score: 0.0905 for 25 and 27"
       ]
      },
      {
       "output_type": "stream",
       "stream": "stdout",
       "text": [
        "\n",
        "['../../images/testsets/Gallagher_small/25_924.jpg', '../../images/testsets/Gallagher_small/22_254.jpg']\n",
        "Score: -0.1000 for 25 and 22 (Less than two matches)"
       ]
      },
      {
       "output_type": "stream",
       "stream": "stdout",
       "text": [
        "\n",
        "['../../images/testsets/Gallagher_small/25_924.jpg', '../../images/testsets/Gallagher_small/29_568.jpg']\n",
        "Score: 0.0741 for 25 and 29"
       ]
      },
      {
       "output_type": "stream",
       "stream": "stdout",
       "text": [
        "\n",
        "['../../images/testsets/Gallagher_small/25_924.jpg', '../../images/testsets/Gallagher_small/15_154.jpg']\n",
        "Score: -0.0117 for 25 and 15"
       ]
      },
      {
       "output_type": "stream",
       "stream": "stdout",
       "text": [
        "\n",
        "['../../images/testsets/Gallagher_small/25_924.jpg', '../../images/testsets/Gallagher_small/25_431.jpg']\n",
        "Score: 0.0533 for 25 and 25"
       ]
      },
      {
       "output_type": "stream",
       "stream": "stdout",
       "text": [
        "\n",
        "['../../images/testsets/Gallagher_small/25_924.jpg', '../../images/testsets/Gallagher_small/23_305.jpg']\n",
        "Score: 0.1100 for 25 and 23"
       ]
      },
      {
       "output_type": "stream",
       "stream": "stdout",
       "text": [
        "\n",
        "['../../images/testsets/Gallagher_small/25_924.jpg', '../../images/testsets/Gallagher_small/16_164.jpg']\n",
        "Score: 0.0347 for 25 and 16"
       ]
      },
      {
       "output_type": "stream",
       "stream": "stdout",
       "text": [
        "\n",
        "['../../images/testsets/Gallagher_small/25_924.jpg', '../../images/testsets/Gallagher_small/18_166.jpg']\n",
        "Score: 0.0212 for 25 and 18"
       ]
      },
      {
       "output_type": "stream",
       "stream": "stdout",
       "text": [
        "\n",
        "['../../images/testsets/Gallagher_small/25_924.jpg', '../../images/testsets/Gallagher_small/25_770.jpg']\n",
        "Score: -0.1000 for 25 and 25 (Less than two matches)"
       ]
      },
      {
       "output_type": "stream",
       "stream": "stdout",
       "text": [
        "\n",
        "['../../images/testsets/Gallagher_small/25_924.jpg', '../../images/testsets/Gallagher_small/32_642.jpg']\n",
        "Score: -0.1000 for 25 and 32 (Less than two matches)"
       ]
      },
      {
       "output_type": "stream",
       "stream": "stdout",
       "text": [
        "\n",
        "['../../images/testsets/Gallagher_small/25_924.jpg', '../../images/testsets/Gallagher_small/19_198.jpg']\n",
        "Score: -0.1000 for 25 and 19 (Less than two matches)"
       ]
      },
      {
       "output_type": "stream",
       "stream": "stdout",
       "text": [
        "\n",
        "['../../images/testsets/Gallagher_small/25_924.jpg', '../../images/testsets/Gallagher_small/21_294.jpg']\n",
        "Score: -0.1000 for 25 and 21 (Less than two matches)"
       ]
      },
      {
       "output_type": "stream",
       "stream": "stdout",
       "text": [
        "\n",
        "['../../images/testsets/Gallagher_small/25_924.jpg', '../../images/testsets/Gallagher_small/14_206.jpg']\n",
        "Score: 0.0775 for 25 and 14"
       ]
      },
      {
       "output_type": "stream",
       "stream": "stdout",
       "text": [
        "\n",
        "['../../images/testsets/Gallagher_small/25_924.jpg', '../../images/testsets/Gallagher_small/26_535.jpg']\n",
        "Score: -0.1000 for 25 and 26 (Less than two matches)"
       ]
      },
      {
       "output_type": "stream",
       "stream": "stdout",
       "text": [
        "\n",
        "['../../images/testsets/Gallagher_small/25_924.jpg', '../../images/testsets/Gallagher_small/22_255.jpg']\n",
        "Score: -0.1000 for 25 and 22 (Less than two matches)"
       ]
      },
      {
       "output_type": "stream",
       "stream": "stdout",
       "text": [
        "\n",
        "['../../images/testsets/Gallagher_small/25_924.jpg', '../../images/testsets/Gallagher_small/29_553.jpg']\n",
        "Score: 0.0691 for 25 and 29"
       ]
      },
      {
       "output_type": "stream",
       "stream": "stdout",
       "text": [
        "\n",
        "['../../images/testsets/Gallagher_small/25_924.jpg', '../../images/testsets/Gallagher_small/13_168.jpg']\n",
        "Score: -0.1000 for 25 and 13 (Less than two matches)"
       ]
      },
      {
       "output_type": "stream",
       "stream": "stdout",
       "text": [
        "\n",
        "['../../images/testsets/Gallagher_small/25_924.jpg', '../../images/testsets/Gallagher_small/28_552.jpg']\n",
        "Score: -0.1000 for 25 and 28 (Less than two matches)"
       ]
      },
      {
       "output_type": "stream",
       "stream": "stdout",
       "text": [
        "\n",
        "['../../images/testsets/Gallagher_small/25_924.jpg', '../../images/testsets/Gallagher_small/13_145.jpg']\n",
        "Score: -0.1000 for 25 and 13 (Less than two matches)"
       ]
      },
      {
       "output_type": "stream",
       "stream": "stdout",
       "text": [
        "\n",
        "['../../images/testsets/Gallagher_small/25_924.jpg', '../../images/testsets/Gallagher_small/14_207.jpg']\n",
        "Score: -0.1000 for 25 and 14 (Less than two matches)"
       ]
      },
      {
       "output_type": "stream",
       "stream": "stdout",
       "text": [
        "\n",
        "['../../images/testsets/Gallagher_small/25_924.jpg', '../../images/testsets/Gallagher_small/14_150.jpg']\n",
        "Score: -0.1000 for 25 and 14 (Less than two matches)"
       ]
      },
      {
       "output_type": "stream",
       "stream": "stdout",
       "text": [
        "\n",
        "['../../images/testsets/Gallagher_small/25_924.jpg', '../../images/testsets/Gallagher_small/27_566.jpg']\n",
        "Score: -0.1000 for 25 and 27 (Less than two matches)"
       ]
      },
      {
       "output_type": "stream",
       "stream": "stdout",
       "text": [
        "\n",
        "['../../images/testsets/Gallagher_small/25_924.jpg', '../../images/testsets/Gallagher_small/17_183.jpg']\n",
        "Score: 0.0639 for 25 and 17"
       ]
      },
      {
       "output_type": "stream",
       "stream": "stdout",
       "text": [
        "\n",
        "['../../images/testsets/Gallagher_small/25_924.jpg', '../../images/testsets/Gallagher_small/19_187.jpg']\n",
        "Score: -0.1000 for 25 and 19 (Less than two matches)"
       ]
      },
      {
       "output_type": "stream",
       "stream": "stdout",
       "text": [
        "\n",
        "['../../images/testsets/Gallagher_small/25_924.jpg', '../../images/testsets/Gallagher_small/31_580.jpg']\n",
        "Score: -0.1000 for 25 and 31 (Less than two matches)"
       ]
      },
      {
       "output_type": "stream",
       "stream": "stdout",
       "text": [
        "\n",
        "['../../images/testsets/Gallagher_small/25_924.jpg', '../../images/testsets/Gallagher_small/21_872.jpg']\n",
        "Score: -0.1000 for 25 and 21 (Less than two matches)"
       ]
      },
      {
       "output_type": "stream",
       "stream": "stdout",
       "text": [
        "\n",
        "['../../images/testsets/Gallagher_small/25_924.jpg', '../../images/testsets/Gallagher_small/23_307.jpg']\n",
        "Score: 0.1103 for 25 and 23"
       ]
      },
      {
       "output_type": "stream",
       "stream": "stdout",
       "text": [
        "\n",
        "['../../images/testsets/Gallagher_small/25_924.jpg', '../../images/testsets/Gallagher_small/25_462.jpg']\n",
        "Score: 0.0575 for 25 and 25"
       ]
      },
      {
       "output_type": "stream",
       "stream": "stdout",
       "text": [
        "\n",
        "['../../images/testsets/Gallagher_small/25_924.jpg', '../../images/testsets/Gallagher_small/23_534.jpg']\n",
        "Score: -0.1000 for 25 and 23 (Less than two matches)"
       ]
      },
      {
       "output_type": "stream",
       "stream": "stdout",
       "text": [
        "\n",
        "['../../images/testsets/Gallagher_small/25_924.jpg', '../../images/testsets/Gallagher_small/31_582.jpg']\n",
        "Score: -0.1000 for 25 and 31 (Less than two matches)"
       ]
      },
      {
       "output_type": "stream",
       "stream": "stdout",
       "text": [
        "\n",
        "['../../images/testsets/Gallagher_small/25_924.jpg', '../../images/testsets/Gallagher_small/15_224.jpg']\n",
        "Score: -0.1000 for 25 and 15 (Less than two matches)"
       ]
      },
      {
       "output_type": "stream",
       "stream": "stdout",
       "text": [
        "\n",
        "['../../images/testsets/Gallagher_small/25_924.jpg', '../../images/testsets/Gallagher_small/23_508.jpg']\n",
        "Score: -0.0150 for 25 and 23"
       ]
      },
      {
       "output_type": "stream",
       "stream": "stdout",
       "text": [
        "\n",
        "['../../images/testsets/Gallagher_small/25_924.jpg', '../../images/testsets/Gallagher_small/18_220.jpg']\n",
        "Score: -0.1000 for 25 and 18 (Less than two matches)"
       ]
      },
      {
       "output_type": "stream",
       "stream": "stdout",
       "text": [
        "\n",
        "['../../images/testsets/Gallagher_small/25_924.jpg', '../../images/testsets/Gallagher_small/15_151.jpg']\n",
        "Score: 0.0725 for 25 and 15"
       ]
      },
      {
       "output_type": "stream",
       "stream": "stdout",
       "text": [
        "\n",
        "['../../images/testsets/Gallagher_small/25_924.jpg', '../../images/testsets/Gallagher_small/16_182.jpg']\n",
        "Score: -0.1000 for 25 and 16 (Less than two matches)"
       ]
      },
      {
       "output_type": "stream",
       "stream": "stdout",
       "text": [
        "\n",
        "['../../images/testsets/Gallagher_small/25_924.jpg', '../../images/testsets/Gallagher_small/23_875.jpg']\n",
        "Score: -0.1000 for 25 and 23 (Less than two matches)"
       ]
      },
      {
       "output_type": "stream",
       "stream": "stdout",
       "text": [
        "\n",
        "['../../images/testsets/Gallagher_small/25_924.jpg', '../../images/testsets/Gallagher_small/23_549.jpg']\n",
        "Score: -0.1000 for 25 and 23 (Less than two matches)"
       ]
      },
      {
       "output_type": "stream",
       "stream": "stdout",
       "text": [
        "\n",
        "['../../images/testsets/Gallagher_small/25_924.jpg', '../../images/testsets/Gallagher_small/32_648.jpg']\n",
        "Score: -0.1000 for 25 and 32 (Less than two matches)"
       ]
      },
      {
       "output_type": "stream",
       "stream": "stdout",
       "text": [
        "\n",
        "['../../images/testsets/Gallagher_small/25_924.jpg', '../../images/testsets/Gallagher_small/15_171.jpg']\n",
        "Score: 0.0580 for 25 and 15"
       ]
      },
      {
       "output_type": "stream",
       "stream": "stdout",
       "text": [
        "\n",
        "['../../images/testsets/Gallagher_small/25_924.jpg', '../../images/testsets/Gallagher_small/24_358.jpg']\n",
        "Score: -0.1000 for 25 and 24 (Less than two matches)"
       ]
      },
      {
       "output_type": "stream",
       "stream": "stdout",
       "text": [
        "\n",
        "['../../images/testsets/Gallagher_small/25_924.jpg', '../../images/testsets/Gallagher_small/25_458.jpg']\n",
        "Score: 0.0729 for 25 and 25"
       ]
      },
      {
       "output_type": "stream",
       "stream": "stdout",
       "text": [
        "\n",
        "['../../images/testsets/Gallagher_small/25_924.jpg', '../../images/testsets/Gallagher_small/30_569.jpg']\n",
        "Score: -0.1000 for 25 and 30 (Less than two matches)"
       ]
      },
      {
       "output_type": "stream",
       "stream": "stdout",
       "text": [
        "\n",
        "['../../images/testsets/Gallagher_small/25_924.jpg', '../../images/testsets/Gallagher_small/32_645.jpg']\n",
        "Score: 0.0560 for 25 and 32"
       ]
      },
      {
       "output_type": "stream",
       "stream": "stdout",
       "text": [
        "\n",
        "['../../images/testsets/Gallagher_small/25_924.jpg', '../../images/testsets/Gallagher_small/29_538.jpg']\n",
        "Score: -0.1000 for 25 and 29 (Less than two matches)"
       ]
      },
      {
       "output_type": "stream",
       "stream": "stdout",
       "text": [
        "\n",
        "['../../images/testsets/Gallagher_small/25_924.jpg', '../../images/testsets/Gallagher_small/21_251.jpg']\n",
        "Score: -0.1000 for 25 and 21 (Less than two matches)"
       ]
      },
      {
       "output_type": "stream",
       "stream": "stdout",
       "text": [
        "\n",
        "['../../images/testsets/Gallagher_small/25_924.jpg', '../../images/testsets/Gallagher_small/20_249.jpg']\n",
        "Score: -0.1000 for 25 and 20 (Less than two matches)"
       ]
      },
      {
       "output_type": "stream",
       "stream": "stdout",
       "text": [
        "\n",
        "['../../images/testsets/Gallagher_small/25_924.jpg', '../../images/testsets/Gallagher_small/15_181.jpg']\n",
        "Score: -0.1000 for 25 and 15 (Less than two matches)"
       ]
      },
      {
       "output_type": "stream",
       "stream": "stdout",
       "text": [
        "\n",
        "['../../images/testsets/Gallagher_small/25_924.jpg', '../../images/testsets/Gallagher_small/15_158.jpg']\n",
        "Score: 0.1153 for 25 and 15"
       ]
      },
      {
       "output_type": "stream",
       "stream": "stdout",
       "text": [
        "\n",
        "['../../images/testsets/Gallagher_small/25_924.jpg', '../../images/testsets/Gallagher_small/19_195.jpg']\n",
        "Score: 0.0625 for 25 and 19"
       ]
      },
      {
       "output_type": "stream",
       "stream": "stdout",
       "text": [
        "\n",
        "['../../images/testsets/Gallagher_small/25_924.jpg', '../../images/testsets/Gallagher_small/19_193.jpg']\n",
        "Score: -0.1000 for 25 and 19 (Less than two matches)"
       ]
      },
      {
       "output_type": "stream",
       "stream": "stdout",
       "text": [
        "\n",
        "['../../images/testsets/Gallagher_small/25_924.jpg', '../../images/testsets/Gallagher_small/21_287.jpg']\n",
        "Score: -0.1000 for 25 and 21 (Less than two matches)"
       ]
      },
      {
       "output_type": "stream",
       "stream": "stdout",
       "text": [
        "\n",
        "['../../images/testsets/Gallagher_small/25_924.jpg', '../../images/testsets/Gallagher_small/26_565.jpg']\n",
        "Score: 0.0708 for 25 and 26"
       ]
      },
      {
       "output_type": "stream",
       "stream": "stdout",
       "text": [
        "\n",
        "['../../images/testsets/Gallagher_small/25_924.jpg', '../../images/testsets/Gallagher_small/27_509.jpg']\n",
        "Score: 0.1741 for 25 and 27"
       ]
      },
      {
       "output_type": "stream",
       "stream": "stdout",
       "text": [
        "\n",
        "['../../images/testsets/Gallagher_small/25_924.jpg', '../../images/testsets/Gallagher_small/15_169.jpg']\n",
        "Score: 0.0597 for 25 and 15"
       ]
      },
      {
       "output_type": "stream",
       "stream": "stdout",
       "text": [
        "\n",
        "['../../images/testsets/Gallagher_small/25_924.jpg', '../../images/testsets/Gallagher_small/15_167.jpg']\n",
        "Score: 0.1292 for 25 and 15"
       ]
      },
      {
       "output_type": "stream",
       "stream": "stdout",
       "text": [
        "\n",
        "['../../images/testsets/Gallagher_small/25_924.jpg', '../../images/testsets/Gallagher_small/21_587.jpg']\n",
        "Score: -0.1000 for 25 and 21 (Less than two matches)"
       ]
      },
      {
       "output_type": "stream",
       "stream": "stdout",
       "text": [
        "\n",
        "['../../images/testsets/Gallagher_small/25_924.jpg', '../../images/testsets/Gallagher_small/15_222.jpg']\n",
        "Score: -0.1000 for 25 and 15 (Less than two matches)"
       ]
      },
      {
       "output_type": "stream",
       "stream": "stdout",
       "text": [
        "\n",
        "['../../images/testsets/Gallagher_small/25_924.jpg', '../../images/testsets/Gallagher_small/16_178.jpg']\n",
        "Score: -0.1000 for 25 and 16 (Less than two matches)"
       ]
      },
      {
       "output_type": "stream",
       "stream": "stdout",
       "text": [
        "\n",
        "['../../images/testsets/Gallagher_small/25_924.jpg', '../../images/testsets/Gallagher_small/17_165.jpg']\n",
        "Score: -0.1000 for 25 and 17 (Less than two matches)"
       ]
      },
      {
       "output_type": "stream",
       "stream": "stdout",
       "text": [
        "\n",
        "['../../images/testsets/Gallagher_small/25_924.jpg', '../../images/testsets/Gallagher_small/28_537.jpg']\n",
        "Score: -0.1000 for 25 and 28 (Less than two matches)"
       ]
      },
      {
       "output_type": "stream",
       "stream": "stdout",
       "text": [
        "\n",
        "['../../images/testsets/Gallagher_small/25_924.jpg', '../../images/testsets/Gallagher_small/27_524.jpg']\n",
        "Score: 0.0149 for 25 and 27"
       ]
      },
      {
       "output_type": "stream",
       "stream": "stdout",
       "text": [
        "\n",
        "['../../images/testsets/Gallagher_small/25_924.jpg', '../../images/testsets/Gallagher_small/13_163.jpg']\n",
        "Score: -0.1000 for 25 and 13 (Less than two matches)"
       ]
      },
      {
       "output_type": "stream",
       "stream": "stdout",
       "text": [
        "\n",
        "['../../images/testsets/Gallagher_small/25_924.jpg', '../../images/testsets/Gallagher_small/23_302.jpg']\n",
        "Score: 0.0840 for 25 and 23"
       ]
      },
      {
       "output_type": "stream",
       "stream": "stdout",
       "text": [
        "\n",
        "['../../images/testsets/Gallagher_small/23_564.jpg', '../../images/testsets/Gallagher_small/25_757.jpg']\n",
        "Score: -0.0172 for 23 and 25"
       ]
      },
      {
       "output_type": "stream",
       "stream": "stdout",
       "text": [
        "\n",
        "['../../images/testsets/Gallagher_small/23_564.jpg', '../../images/testsets/Gallagher_small/26_878.jpg']\n",
        "Score: -0.1000 for 23 and 26 (Less than two matches)"
       ]
      },
      {
       "output_type": "stream",
       "stream": "stdout",
       "text": [
        "\n",
        "['../../images/testsets/Gallagher_small/23_564.jpg', '../../images/testsets/Gallagher_small/18_216.jpg']\n",
        "Score: -0.1000 for 23 and 18 (Less than two matches)"
       ]
      },
      {
       "output_type": "stream",
       "stream": "stdout",
       "text": [
        "\n",
        "['../../images/testsets/Gallagher_small/23_564.jpg', '../../images/testsets/Gallagher_small/15_160.jpg']\n",
        "Score: -0.1000 for 23 and 15 (Less than two matches)"
       ]
      },
      {
       "output_type": "stream",
       "stream": "stdout",
       "text": [
        "\n",
        "['../../images/testsets/Gallagher_small/23_564.jpg', '../../images/testsets/Gallagher_small/14_180.jpg']\n",
        "Score: -0.1000 for 23 and 14 (Less than two matches)"
       ]
      },
      {
       "output_type": "stream",
       "stream": "stdout",
       "text": [
        "\n",
        "['../../images/testsets/Gallagher_small/23_564.jpg', '../../images/testsets/Gallagher_small/25_694.jpg']\n",
        "Score: -0.1000 for 23 and 25 (Less than two matches)"
       ]
      },
      {
       "output_type": "stream",
       "stream": "stdout",
       "text": [
        "\n",
        "['../../images/testsets/Gallagher_small/23_564.jpg', '../../images/testsets/Gallagher_small/25_696.jpg']\n",
        "Score: 0.1018 for 23 and 25"
       ]
      },
      {
       "output_type": "stream",
       "stream": "stdout",
       "text": [
        "\n",
        "['../../images/testsets/Gallagher_small/23_564.jpg', '../../images/testsets/Gallagher_small/32_639.jpg']\n",
        "Score: -0.1000 for 23 and 32 (Less than two matches)"
       ]
      },
      {
       "output_type": "stream",
       "stream": "stdout",
       "text": [
        "\n",
        "['../../images/testsets/Gallagher_small/23_564.jpg', '../../images/testsets/Gallagher_small/30_554.jpg']\n",
        "Score: -0.1000 for 23 and 30 (Less than two matches)"
       ]
      },
      {
       "output_type": "stream",
       "stream": "stdout",
       "text": [
        "\n",
        "['../../images/testsets/Gallagher_small/23_564.jpg', '../../images/testsets/Gallagher_small/28_525.jpg']\n",
        "Score: 0.0060 for 23 and 28"
       ]
      },
      {
       "output_type": "stream",
       "stream": "stdout",
       "text": [
        "\n",
        "['../../images/testsets/Gallagher_small/23_564.jpg', '../../images/testsets/Gallagher_small/30_539.jpg']\n",
        "Score: -0.1000 for 23 and 30 (Less than two matches)"
       ]
      },
      {
       "output_type": "stream",
       "stream": "stdout",
       "text": [
        "\n",
        "['../../images/testsets/Gallagher_small/23_564.jpg', '../../images/testsets/Gallagher_small/26_550.jpg']\n",
        "Score: -0.1000 for 23 and 26 (Less than two matches)"
       ]
      },
      {
       "output_type": "stream",
       "stream": "stdout",
       "text": [
        "\n",
        "['../../images/testsets/Gallagher_small/23_564.jpg', '../../images/testsets/Gallagher_small/15_170.jpg']\n",
        "Score: -0.1000 for 23 and 15 (Less than two matches)"
       ]
      },
      {
       "output_type": "stream",
       "stream": "stdout",
       "text": [
        "\n",
        "['../../images/testsets/Gallagher_small/23_564.jpg', '../../images/testsets/Gallagher_small/21_293.jpg']\n",
        "Score: -0.1000 for 23 and 21 (Less than two matches)"
       ]
      },
      {
       "output_type": "stream",
       "stream": "stdout",
       "text": [
        "\n",
        "['../../images/testsets/Gallagher_small/23_564.jpg', '../../images/testsets/Gallagher_small/24_379.jpg']\n",
        "Score: -0.1000 for 23 and 24 (Less than two matches)"
       ]
      },
      {
       "output_type": "stream",
       "stream": "stdout",
       "text": [
        "\n",
        "['../../images/testsets/Gallagher_small/23_564.jpg', '../../images/testsets/Gallagher_small/17_212.jpg']\n",
        "Score: -0.1000 for 23 and 17 (Less than two matches)"
       ]
      },
      {
       "output_type": "stream",
       "stream": "stdout",
       "text": [
        "\n",
        "['../../images/testsets/Gallagher_small/23_564.jpg', '../../images/testsets/Gallagher_small/14_699.jpg']\n",
        "Score: -0.1000 for 23 and 14 (Less than two matches)"
       ]
      },
      {
       "output_type": "stream",
       "stream": "stdout",
       "text": [
        "\n",
        "['../../images/testsets/Gallagher_small/23_564.jpg', '../../images/testsets/Gallagher_small/28_567.jpg']\n",
        "Score: -0.1000 for 23 and 28 (Less than two matches)"
       ]
      },
      {
       "output_type": "stream",
       "stream": "stdout",
       "text": [
        "\n",
        "['../../images/testsets/Gallagher_small/23_564.jpg', '../../images/testsets/Gallagher_small/27_551.jpg']\n",
        "Score: 0.0933 for 23 and 27"
       ]
      },
      {
       "output_type": "stream",
       "stream": "stdout",
       "text": [
        "\n",
        "['../../images/testsets/Gallagher_small/23_564.jpg', '../../images/testsets/Gallagher_small/22_254.jpg']\n",
        "Score: -0.1000 for 23 and 22 (Less than two matches)"
       ]
      },
      {
       "output_type": "stream",
       "stream": "stdout",
       "text": [
        "\n",
        "['../../images/testsets/Gallagher_small/23_564.jpg', '../../images/testsets/Gallagher_small/29_568.jpg']\n",
        "Score: -0.1000 for 23 and 29 (Less than two matches)"
       ]
      },
      {
       "output_type": "stream",
       "stream": "stdout",
       "text": [
        "\n",
        "['../../images/testsets/Gallagher_small/23_564.jpg', '../../images/testsets/Gallagher_small/15_154.jpg']\n",
        "Score: -0.1000 for 23 and 15 (Less than two matches)"
       ]
      },
      {
       "output_type": "stream",
       "stream": "stdout",
       "text": [
        "\n",
        "['../../images/testsets/Gallagher_small/23_564.jpg', '../../images/testsets/Gallagher_small/25_431.jpg']\n",
        "Score: 0.0492 for 23 and 25"
       ]
      },
      {
       "output_type": "stream",
       "stream": "stdout",
       "text": [
        "\n",
        "['../../images/testsets/Gallagher_small/23_564.jpg', '../../images/testsets/Gallagher_small/23_305.jpg']\n",
        "Score: -0.1000 for 23 and 23 (Less than two matches)"
       ]
      },
      {
       "output_type": "stream",
       "stream": "stdout",
       "text": [
        "\n",
        "['../../images/testsets/Gallagher_small/23_564.jpg', '../../images/testsets/Gallagher_small/16_164.jpg']\n",
        "Score: -0.0067 for 23 and 16"
       ]
      },
      {
       "output_type": "stream",
       "stream": "stdout",
       "text": [
        "\n",
        "['../../images/testsets/Gallagher_small/23_564.jpg', '../../images/testsets/Gallagher_small/18_166.jpg']\n",
        "Score: -0.1000 for 23 and 18 (Less than two matches)"
       ]
      },
      {
       "output_type": "stream",
       "stream": "stdout",
       "text": [
        "\n",
        "['../../images/testsets/Gallagher_small/23_564.jpg', '../../images/testsets/Gallagher_small/25_770.jpg']\n",
        "Score: -0.1000 for 23 and 25 (Less than two matches)"
       ]
      },
      {
       "output_type": "stream",
       "stream": "stdout",
       "text": [
        "\n",
        "['../../images/testsets/Gallagher_small/23_564.jpg', '../../images/testsets/Gallagher_small/32_642.jpg']\n",
        "Score: -0.0420 for 23 and 32"
       ]
      },
      {
       "output_type": "stream",
       "stream": "stdout",
       "text": [
        "\n",
        "['../../images/testsets/Gallagher_small/23_564.jpg', '../../images/testsets/Gallagher_small/19_198.jpg']\n",
        "Score: 0.0493 for 23 and 19"
       ]
      },
      {
       "output_type": "stream",
       "stream": "stdout",
       "text": [
        "\n",
        "['../../images/testsets/Gallagher_small/23_564.jpg', '../../images/testsets/Gallagher_small/21_294.jpg']\n",
        "Score: -0.1000 for 23 and 21 (Less than two matches)"
       ]
      },
      {
       "output_type": "stream",
       "stream": "stdout",
       "text": [
        "\n",
        "['../../images/testsets/Gallagher_small/23_564.jpg', '../../images/testsets/Gallagher_small/14_206.jpg']\n",
        "Score: -0.1000 for 23 and 14 (Less than two matches)"
       ]
      },
      {
       "output_type": "stream",
       "stream": "stdout",
       "text": [
        "\n",
        "['../../images/testsets/Gallagher_small/23_564.jpg', '../../images/testsets/Gallagher_small/26_535.jpg']\n",
        "Score: -0.1000 for 23 and 26 (Less than two matches)"
       ]
      },
      {
       "output_type": "stream",
       "stream": "stdout",
       "text": [
        "\n",
        "['../../images/testsets/Gallagher_small/23_564.jpg', '../../images/testsets/Gallagher_small/22_255.jpg']\n",
        "Score: -0.1000 for 23 and 22 (Less than two matches)"
       ]
      },
      {
       "output_type": "stream",
       "stream": "stdout",
       "text": [
        "\n",
        "['../../images/testsets/Gallagher_small/23_564.jpg', '../../images/testsets/Gallagher_small/29_553.jpg']\n",
        "Score: -0.1000 for 23 and 29 (Less than two matches)"
       ]
      },
      {
       "output_type": "stream",
       "stream": "stdout",
       "text": [
        "\n",
        "['../../images/testsets/Gallagher_small/23_564.jpg', '../../images/testsets/Gallagher_small/13_168.jpg']\n",
        "Score: -0.1000 for 23 and 13 (Less than two matches)"
       ]
      },
      {
       "output_type": "stream",
       "stream": "stdout",
       "text": [
        "\n",
        "['../../images/testsets/Gallagher_small/23_564.jpg', '../../images/testsets/Gallagher_small/28_552.jpg']\n",
        "Score: 0.1086 for 23 and 28"
       ]
      },
      {
       "output_type": "stream",
       "stream": "stdout",
       "text": [
        "\n",
        "['../../images/testsets/Gallagher_small/23_564.jpg', '../../images/testsets/Gallagher_small/13_145.jpg']\n",
        "Score: -0.1000 for 23 and 13 (Less than two matches)"
       ]
      },
      {
       "output_type": "stream",
       "stream": "stdout",
       "text": [
        "\n",
        "['../../images/testsets/Gallagher_small/23_564.jpg', '../../images/testsets/Gallagher_small/14_207.jpg']\n",
        "Score: -0.1000 for 23 and 14 (Less than two matches)"
       ]
      },
      {
       "output_type": "stream",
       "stream": "stdout",
       "text": [
        "\n",
        "['../../images/testsets/Gallagher_small/23_564.jpg', '../../images/testsets/Gallagher_small/14_150.jpg']\n",
        "Score: -0.1000 for 23 and 14 (Less than two matches)"
       ]
      },
      {
       "output_type": "stream",
       "stream": "stdout",
       "text": [
        "\n",
        "['../../images/testsets/Gallagher_small/23_564.jpg', '../../images/testsets/Gallagher_small/27_566.jpg']\n",
        "Score: -0.1000 for 23 and 27 (Less than two matches)"
       ]
      },
      {
       "output_type": "stream",
       "stream": "stdout",
       "text": [
        "\n",
        "['../../images/testsets/Gallagher_small/23_564.jpg', '../../images/testsets/Gallagher_small/17_183.jpg']\n",
        "Score: -0.0951 for 23 and 17"
       ]
      },
      {
       "output_type": "stream",
       "stream": "stdout",
       "text": [
        "\n",
        "['../../images/testsets/Gallagher_small/23_564.jpg', '../../images/testsets/Gallagher_small/19_187.jpg']\n",
        "Score: -0.1000 for 23 and 19 (Less than two matches)"
       ]
      },
      {
       "output_type": "stream",
       "stream": "stdout",
       "text": [
        "\n",
        "['../../images/testsets/Gallagher_small/23_564.jpg', '../../images/testsets/Gallagher_small/31_580.jpg']\n",
        "Score: -0.1000 for 23 and 31 (Less than two matches)"
       ]
      },
      {
       "output_type": "stream",
       "stream": "stdout",
       "text": [
        "\n",
        "['../../images/testsets/Gallagher_small/23_564.jpg', '../../images/testsets/Gallagher_small/21_872.jpg']\n",
        "Score: -0.1000 for 23 and 21 (Less than two matches)"
       ]
      },
      {
       "output_type": "stream",
       "stream": "stdout",
       "text": [
        "\n",
        "['../../images/testsets/Gallagher_small/23_564.jpg', '../../images/testsets/Gallagher_small/23_307.jpg']\n",
        "Score: -0.1000 for 23 and 23 (Less than two matches)"
       ]
      },
      {
       "output_type": "stream",
       "stream": "stdout",
       "text": [
        "\n",
        "['../../images/testsets/Gallagher_small/23_564.jpg', '../../images/testsets/Gallagher_small/25_462.jpg']\n",
        "Score: 0.0488 for 23 and 25"
       ]
      },
      {
       "output_type": "stream",
       "stream": "stdout",
       "text": [
        "\n",
        "['../../images/testsets/Gallagher_small/23_564.jpg', '../../images/testsets/Gallagher_small/23_534.jpg']\n",
        "Score: -0.1000 for 23 and 23 (Less than two matches)"
       ]
      },
      {
       "output_type": "stream",
       "stream": "stdout",
       "text": [
        "\n",
        "['../../images/testsets/Gallagher_small/23_564.jpg', '../../images/testsets/Gallagher_small/31_582.jpg']\n",
        "Score: -0.1000 for 23 and 31 (Less than two matches)"
       ]
      },
      {
       "output_type": "stream",
       "stream": "stdout",
       "text": [
        "\n",
        "['../../images/testsets/Gallagher_small/23_564.jpg', '../../images/testsets/Gallagher_small/15_224.jpg']\n",
        "Score: -0.1000 for 23 and 15 (Less than two matches)"
       ]
      },
      {
       "output_type": "stream",
       "stream": "stdout",
       "text": [
        "\n",
        "['../../images/testsets/Gallagher_small/23_564.jpg', '../../images/testsets/Gallagher_small/23_508.jpg']\n",
        "Score: 0.1470 for 23 and 23"
       ]
      },
      {
       "output_type": "stream",
       "stream": "stdout",
       "text": [
        "\n",
        "['../../images/testsets/Gallagher_small/23_564.jpg', '../../images/testsets/Gallagher_small/18_220.jpg']\n",
        "Score: -0.1000 for 23 and 18 (Less than two matches)"
       ]
      },
      {
       "output_type": "stream",
       "stream": "stdout",
       "text": [
        "\n",
        "['../../images/testsets/Gallagher_small/23_564.jpg', '../../images/testsets/Gallagher_small/15_151.jpg']\n",
        "Score: -0.1000 for 23 and 15 (Less than two matches)"
       ]
      },
      {
       "output_type": "stream",
       "stream": "stdout",
       "text": [
        "\n",
        "['../../images/testsets/Gallagher_small/23_564.jpg', '../../images/testsets/Gallagher_small/16_182.jpg']\n",
        "Score: -0.1000 for 23 and 16 (Less than two matches)"
       ]
      },
      {
       "output_type": "stream",
       "stream": "stdout",
       "text": [
        "\n",
        "['../../images/testsets/Gallagher_small/23_564.jpg', '../../images/testsets/Gallagher_small/23_875.jpg']\n",
        "Score: 0.1435 for 23 and 23"
       ]
      },
      {
       "output_type": "stream",
       "stream": "stdout",
       "text": [
        "\n",
        "['../../images/testsets/Gallagher_small/23_564.jpg', '../../images/testsets/Gallagher_small/23_549.jpg']\n",
        "Score: 0.1267 for 23 and 23"
       ]
      },
      {
       "output_type": "stream",
       "stream": "stdout",
       "text": [
        "\n",
        "['../../images/testsets/Gallagher_small/23_564.jpg', '../../images/testsets/Gallagher_small/32_648.jpg']\n",
        "Score: -0.1000 for 23 and 32 (Less than two matches)"
       ]
      },
      {
       "output_type": "stream",
       "stream": "stdout",
       "text": [
        "\n",
        "['../../images/testsets/Gallagher_small/23_564.jpg', '../../images/testsets/Gallagher_small/15_171.jpg']\n",
        "Score: -0.1000 for 23 and 15 (Less than two matches)"
       ]
      },
      {
       "output_type": "stream",
       "stream": "stdout",
       "text": [
        "\n",
        "['../../images/testsets/Gallagher_small/23_564.jpg', '../../images/testsets/Gallagher_small/24_358.jpg']\n",
        "Score: -0.0092 for 23 and 24"
       ]
      },
      {
       "output_type": "stream",
       "stream": "stdout",
       "text": [
        "\n",
        "['../../images/testsets/Gallagher_small/23_564.jpg', '../../images/testsets/Gallagher_small/25_458.jpg']\n",
        "Score: 0.0140 for 23 and 25"
       ]
      },
      {
       "output_type": "stream",
       "stream": "stdout",
       "text": [
        "\n",
        "['../../images/testsets/Gallagher_small/23_564.jpg', '../../images/testsets/Gallagher_small/30_569.jpg']\n",
        "Score: -0.1000 for 23 and 30 (Less than two matches)"
       ]
      },
      {
       "output_type": "stream",
       "stream": "stdout",
       "text": [
        "\n",
        "['../../images/testsets/Gallagher_small/23_564.jpg', '../../images/testsets/Gallagher_small/32_645.jpg']\n",
        "Score: 0.0224 for 23 and 32"
       ]
      },
      {
       "output_type": "stream",
       "stream": "stdout",
       "text": [
        "\n",
        "['../../images/testsets/Gallagher_small/23_564.jpg', '../../images/testsets/Gallagher_small/29_538.jpg']\n",
        "Score: -0.1000 for 23 and 29 (Less than two matches)"
       ]
      },
      {
       "output_type": "stream",
       "stream": "stdout",
       "text": [
        "\n",
        "['../../images/testsets/Gallagher_small/23_564.jpg', '../../images/testsets/Gallagher_small/21_251.jpg']\n",
        "Score: -0.1000 for 23 and 21 (Less than two matches)"
       ]
      },
      {
       "output_type": "stream",
       "stream": "stdout",
       "text": [
        "\n",
        "['../../images/testsets/Gallagher_small/23_564.jpg', '../../images/testsets/Gallagher_small/20_249.jpg']\n",
        "Score: 0.0291 for 23 and 20"
       ]
      },
      {
       "output_type": "stream",
       "stream": "stdout",
       "text": [
        "\n",
        "['../../images/testsets/Gallagher_small/23_564.jpg', '../../images/testsets/Gallagher_small/15_181.jpg']\n",
        "Score: 0.0194 for 23 and 15"
       ]
      },
      {
       "output_type": "stream",
       "stream": "stdout",
       "text": [
        "\n",
        "['../../images/testsets/Gallagher_small/23_564.jpg', '../../images/testsets/Gallagher_small/15_158.jpg']\n",
        "Score: 0.0547 for 23 and 15"
       ]
      },
      {
       "output_type": "stream",
       "stream": "stdout",
       "text": [
        "\n",
        "['../../images/testsets/Gallagher_small/23_564.jpg', '../../images/testsets/Gallagher_small/19_195.jpg']\n",
        "Score: -0.1000 for 23 and 19 (Less than two matches)"
       ]
      },
      {
       "output_type": "stream",
       "stream": "stdout",
       "text": [
        "\n",
        "['../../images/testsets/Gallagher_small/23_564.jpg', '../../images/testsets/Gallagher_small/19_193.jpg']\n",
        "Score: -0.1000 for 23 and 19 (Less than two matches)"
       ]
      },
      {
       "output_type": "stream",
       "stream": "stdout",
       "text": [
        "\n",
        "['../../images/testsets/Gallagher_small/23_564.jpg', '../../images/testsets/Gallagher_small/21_287.jpg']\n",
        "Score: -0.0130 for 23 and 21"
       ]
      },
      {
       "output_type": "stream",
       "stream": "stdout",
       "text": [
        "\n",
        "['../../images/testsets/Gallagher_small/23_564.jpg', '../../images/testsets/Gallagher_small/26_565.jpg']\n",
        "Score: 0.0416 for 23 and 26"
       ]
      },
      {
       "output_type": "stream",
       "stream": "stdout",
       "text": [
        "\n",
        "['../../images/testsets/Gallagher_small/23_564.jpg', '../../images/testsets/Gallagher_small/27_509.jpg']\n",
        "Score: -0.1000 for 23 and 27 (Less than two matches)"
       ]
      },
      {
       "output_type": "stream",
       "stream": "stdout",
       "text": [
        "\n",
        "['../../images/testsets/Gallagher_small/23_564.jpg', '../../images/testsets/Gallagher_small/15_169.jpg']\n",
        "Score: -0.1000 for 23 and 15 (Less than two matches)"
       ]
      },
      {
       "output_type": "stream",
       "stream": "stdout",
       "text": [
        "\n",
        "['../../images/testsets/Gallagher_small/23_564.jpg', '../../images/testsets/Gallagher_small/15_167.jpg']\n",
        "Score: -0.1000 for 23 and 15 (Less than two matches)"
       ]
      },
      {
       "output_type": "stream",
       "stream": "stdout",
       "text": [
        "\n",
        "['../../images/testsets/Gallagher_small/23_564.jpg', '../../images/testsets/Gallagher_small/21_587.jpg']\n",
        "Score: -0.1000 for 23 and 21 (Less than two matches)"
       ]
      },
      {
       "output_type": "stream",
       "stream": "stdout",
       "text": [
        "\n",
        "['../../images/testsets/Gallagher_small/23_564.jpg', '../../images/testsets/Gallagher_small/15_222.jpg']\n",
        "Score: -0.1000 for 23 and 15 (Less than two matches)"
       ]
      },
      {
       "output_type": "stream",
       "stream": "stdout",
       "text": [
        "\n",
        "['../../images/testsets/Gallagher_small/23_564.jpg', '../../images/testsets/Gallagher_small/16_178.jpg']\n",
        "Score: -0.1000 for 23 and 16 (Less than two matches)"
       ]
      },
      {
       "output_type": "stream",
       "stream": "stdout",
       "text": [
        "\n",
        "['../../images/testsets/Gallagher_small/23_564.jpg', '../../images/testsets/Gallagher_small/17_165.jpg']\n",
        "Score: -0.1000 for 23 and 17 (Less than two matches)"
       ]
      },
      {
       "output_type": "stream",
       "stream": "stdout",
       "text": [
        "\n",
        "['../../images/testsets/Gallagher_small/23_564.jpg', '../../images/testsets/Gallagher_small/28_537.jpg']\n",
        "Score: -0.1000 for 23 and 28 (Less than two matches)"
       ]
      },
      {
       "output_type": "stream",
       "stream": "stdout",
       "text": [
        "\n",
        "['../../images/testsets/Gallagher_small/23_564.jpg', '../../images/testsets/Gallagher_small/27_524.jpg']\n",
        "Score: -0.1000 for 23 and 27 (Less than two matches)"
       ]
      },
      {
       "output_type": "stream",
       "stream": "stdout",
       "text": [
        "\n",
        "['../../images/testsets/Gallagher_small/23_564.jpg', '../../images/testsets/Gallagher_small/13_163.jpg']\n",
        "Score: -0.1000 for 23 and 13 (Less than two matches)"
       ]
      },
      {
       "output_type": "stream",
       "stream": "stdout",
       "text": [
        "\n",
        "['../../images/testsets/Gallagher_small/23_564.jpg', '../../images/testsets/Gallagher_small/23_302.jpg']\n",
        "Score: 0.0540 for 23 and 23"
       ]
      },
      {
       "output_type": "stream",
       "stream": "stdout",
       "text": [
        "\n",
        "['../../images/testsets/Gallagher_small/25_757.jpg', '../../images/testsets/Gallagher_small/26_878.jpg']\n",
        "Score: 0.0961 for 25 and 26"
       ]
      },
      {
       "output_type": "stream",
       "stream": "stdout",
       "text": [
        "\n",
        "['../../images/testsets/Gallagher_small/25_757.jpg', '../../images/testsets/Gallagher_small/18_216.jpg']\n",
        "Score: -0.1000 for 25 and 18 (Less than two matches)"
       ]
      },
      {
       "output_type": "stream",
       "stream": "stdout",
       "text": [
        "\n",
        "['../../images/testsets/Gallagher_small/25_757.jpg', '../../images/testsets/Gallagher_small/15_160.jpg']\n",
        "Score: 0.0543 for 25 and 15"
       ]
      },
      {
       "output_type": "stream",
       "stream": "stdout",
       "text": [
        "\n",
        "['../../images/testsets/Gallagher_small/25_757.jpg', '../../images/testsets/Gallagher_small/14_180.jpg']\n",
        "Score: 0.0400 for 25 and 14"
       ]
      },
      {
       "output_type": "stream",
       "stream": "stdout",
       "text": [
        "\n",
        "['../../images/testsets/Gallagher_small/25_757.jpg', '../../images/testsets/Gallagher_small/25_694.jpg']\n",
        "Score: 0.0717 for 25 and 25"
       ]
      },
      {
       "output_type": "stream",
       "stream": "stdout",
       "text": [
        "\n",
        "['../../images/testsets/Gallagher_small/25_757.jpg', '../../images/testsets/Gallagher_small/25_696.jpg']\n",
        "Score: 0.0536 for 25 and 25"
       ]
      },
      {
       "output_type": "stream",
       "stream": "stdout",
       "text": [
        "\n",
        "['../../images/testsets/Gallagher_small/25_757.jpg', '../../images/testsets/Gallagher_small/32_639.jpg']\n",
        "Score: 0.0244 for 25 and 32"
       ]
      },
      {
       "output_type": "stream",
       "stream": "stdout",
       "text": [
        "\n",
        "['../../images/testsets/Gallagher_small/25_757.jpg', '../../images/testsets/Gallagher_small/30_554.jpg']\n",
        "Score: 0.0216 for 25 and 30"
       ]
      },
      {
       "output_type": "stream",
       "stream": "stdout",
       "text": [
        "\n",
        "['../../images/testsets/Gallagher_small/25_757.jpg', '../../images/testsets/Gallagher_small/28_525.jpg']\n",
        "Score: 0.1260 for 25 and 28"
       ]
      },
      {
       "output_type": "stream",
       "stream": "stdout",
       "text": [
        "\n",
        "['../../images/testsets/Gallagher_small/25_757.jpg', '../../images/testsets/Gallagher_small/30_539.jpg']\n",
        "Score: -0.1000 for 25 and 30 (Less than two matches)"
       ]
      },
      {
       "output_type": "stream",
       "stream": "stdout",
       "text": [
        "\n",
        "['../../images/testsets/Gallagher_small/25_757.jpg', '../../images/testsets/Gallagher_small/26_550.jpg']\n",
        "Score: 0.0553 for 25 and 26"
       ]
      },
      {
       "output_type": "stream",
       "stream": "stdout",
       "text": [
        "\n",
        "['../../images/testsets/Gallagher_small/25_757.jpg', '../../images/testsets/Gallagher_small/15_170.jpg']\n",
        "Score: 0.0310 for 25 and 15"
       ]
      },
      {
       "output_type": "stream",
       "stream": "stdout",
       "text": [
        "\n",
        "['../../images/testsets/Gallagher_small/25_757.jpg', '../../images/testsets/Gallagher_small/21_293.jpg']\n",
        "Score: -0.1000 for 25 and 21 (Less than two matches)"
       ]
      },
      {
       "output_type": "stream",
       "stream": "stdout",
       "text": [
        "\n",
        "['../../images/testsets/Gallagher_small/25_757.jpg', '../../images/testsets/Gallagher_small/24_379.jpg']\n",
        "Score: -0.1000 for 25 and 24 (Less than two matches)"
       ]
      },
      {
       "output_type": "stream",
       "stream": "stdout",
       "text": [
        "\n",
        "['../../images/testsets/Gallagher_small/25_757.jpg', '../../images/testsets/Gallagher_small/17_212.jpg']\n",
        "Score: -0.1000 for 25 and 17 (Less than two matches)"
       ]
      },
      {
       "output_type": "stream",
       "stream": "stdout",
       "text": [
        "\n",
        "['../../images/testsets/Gallagher_small/25_757.jpg', '../../images/testsets/Gallagher_small/14_699.jpg']\n",
        "Score: -0.1000 for 25 and 14 (Less than two matches)"
       ]
      },
      {
       "output_type": "stream",
       "stream": "stdout",
       "text": [
        "\n",
        "['../../images/testsets/Gallagher_small/25_757.jpg', '../../images/testsets/Gallagher_small/28_567.jpg']\n",
        "Score: -0.0372 for 25 and 28"
       ]
      },
      {
       "output_type": "stream",
       "stream": "stdout",
       "text": [
        "\n",
        "['../../images/testsets/Gallagher_small/25_757.jpg', '../../images/testsets/Gallagher_small/27_551.jpg']\n",
        "Score: -0.1000 for 25 and 27 (Less than two matches)"
       ]
      },
      {
       "output_type": "stream",
       "stream": "stdout",
       "text": [
        "\n",
        "['../../images/testsets/Gallagher_small/25_757.jpg', '../../images/testsets/Gallagher_small/22_254.jpg']\n",
        "Score: -0.1000 for 25 and 22 (Less than two matches)"
       ]
      },
      {
       "output_type": "stream",
       "stream": "stdout",
       "text": [
        "\n",
        "['../../images/testsets/Gallagher_small/25_757.jpg', '../../images/testsets/Gallagher_small/29_568.jpg']\n",
        "Score: 0.1160 for 25 and 29"
       ]
      },
      {
       "output_type": "stream",
       "stream": "stdout",
       "text": [
        "\n",
        "['../../images/testsets/Gallagher_small/25_757.jpg', '../../images/testsets/Gallagher_small/15_154.jpg']\n",
        "Score: -0.1000 for 25 and 15 (Less than two matches)"
       ]
      },
      {
       "output_type": "stream",
       "stream": "stdout",
       "text": [
        "\n",
        "['../../images/testsets/Gallagher_small/25_757.jpg', '../../images/testsets/Gallagher_small/25_431.jpg']\n",
        "Score: 0.0819 for 25 and 25"
       ]
      },
      {
       "output_type": "stream",
       "stream": "stdout",
       "text": [
        "\n",
        "['../../images/testsets/Gallagher_small/25_757.jpg', '../../images/testsets/Gallagher_small/23_305.jpg']\n",
        "Score: 0.0707 for 25 and 23"
       ]
      },
      {
       "output_type": "stream",
       "stream": "stdout",
       "text": [
        "\n",
        "['../../images/testsets/Gallagher_small/25_757.jpg', '../../images/testsets/Gallagher_small/16_164.jpg']\n",
        "Score: 0.0050 for 25 and 16"
       ]
      },
      {
       "output_type": "stream",
       "stream": "stdout",
       "text": [
        "\n",
        "['../../images/testsets/Gallagher_small/25_757.jpg', '../../images/testsets/Gallagher_small/18_166.jpg']\n",
        "Score: 0.0337 for 25 and 18"
       ]
      },
      {
       "output_type": "stream",
       "stream": "stdout",
       "text": [
        "\n",
        "['../../images/testsets/Gallagher_small/25_757.jpg', '../../images/testsets/Gallagher_small/25_770.jpg']\n",
        "Score: -0.1000 for 25 and 25 (Less than two matches)"
       ]
      },
      {
       "output_type": "stream",
       "stream": "stdout",
       "text": [
        "\n",
        "['../../images/testsets/Gallagher_small/25_757.jpg', '../../images/testsets/Gallagher_small/32_642.jpg']\n",
        "Score: -0.0755 for 25 and 32"
       ]
      },
      {
       "output_type": "stream",
       "stream": "stdout",
       "text": [
        "\n",
        "['../../images/testsets/Gallagher_small/25_757.jpg', '../../images/testsets/Gallagher_small/19_198.jpg']\n",
        "Score: -0.1000 for 25 and 19 (Less than two matches)"
       ]
      },
      {
       "output_type": "stream",
       "stream": "stdout",
       "text": [
        "\n",
        "['../../images/testsets/Gallagher_small/25_757.jpg', '../../images/testsets/Gallagher_small/21_294.jpg']\n",
        "Score: -0.1000 for 25 and 21 (Less than two matches)"
       ]
      },
      {
       "output_type": "stream",
       "stream": "stdout",
       "text": [
        "\n",
        "['../../images/testsets/Gallagher_small/25_757.jpg', '../../images/testsets/Gallagher_small/14_206.jpg']\n",
        "Score: -0.1000 for 25 and 14 (Less than two matches)"
       ]
      },
      {
       "output_type": "stream",
       "stream": "stdout",
       "text": [
        "\n",
        "['../../images/testsets/Gallagher_small/25_757.jpg', '../../images/testsets/Gallagher_small/26_535.jpg']\n",
        "Score: -0.1000 for 25 and 26 (Less than two matches)"
       ]
      },
      {
       "output_type": "stream",
       "stream": "stdout",
       "text": [
        "\n",
        "['../../images/testsets/Gallagher_small/25_757.jpg', '../../images/testsets/Gallagher_small/22_255.jpg']\n",
        "Score: -0.1000 for 25 and 22 (Less than two matches)"
       ]
      },
      {
       "output_type": "stream",
       "stream": "stdout",
       "text": [
        "\n",
        "['../../images/testsets/Gallagher_small/25_757.jpg', '../../images/testsets/Gallagher_small/29_553.jpg']\n",
        "Score: -0.1000 for 25 and 29 (Less than two matches)"
       ]
      },
      {
       "output_type": "stream",
       "stream": "stdout",
       "text": [
        "\n",
        "['../../images/testsets/Gallagher_small/25_757.jpg', '../../images/testsets/Gallagher_small/13_168.jpg']\n",
        "Score: -0.1000 for 25 and 13 (Less than two matches)"
       ]
      },
      {
       "output_type": "stream",
       "stream": "stdout",
       "text": [
        "\n",
        "['../../images/testsets/Gallagher_small/25_757.jpg', '../../images/testsets/Gallagher_small/28_552.jpg']\n",
        "Score: 0.1231 for 25 and 28"
       ]
      },
      {
       "output_type": "stream",
       "stream": "stdout",
       "text": [
        "\n",
        "['../../images/testsets/Gallagher_small/25_757.jpg', '../../images/testsets/Gallagher_small/13_145.jpg']\n",
        "Score: -0.1000 for 25 and 13 (Less than two matches)"
       ]
      },
      {
       "output_type": "stream",
       "stream": "stdout",
       "text": [
        "\n",
        "['../../images/testsets/Gallagher_small/25_757.jpg', '../../images/testsets/Gallagher_small/14_207.jpg']\n",
        "Score: -0.1000 for 25 and 14 (Less than two matches)"
       ]
      },
      {
       "output_type": "stream",
       "stream": "stdout",
       "text": [
        "\n",
        "['../../images/testsets/Gallagher_small/25_757.jpg', '../../images/testsets/Gallagher_small/14_150.jpg']\n",
        "Score: -0.1000 for 25 and 14 (Less than two matches)"
       ]
      },
      {
       "output_type": "stream",
       "stream": "stdout",
       "text": [
        "\n",
        "['../../images/testsets/Gallagher_small/25_757.jpg', '../../images/testsets/Gallagher_small/27_566.jpg']\n",
        "Score: 0.0480 for 25 and 27"
       ]
      },
      {
       "output_type": "stream",
       "stream": "stdout",
       "text": [
        "\n",
        "['../../images/testsets/Gallagher_small/25_757.jpg', '../../images/testsets/Gallagher_small/17_183.jpg']\n",
        "Score: 0.0604 for 25 and 17"
       ]
      },
      {
       "output_type": "stream",
       "stream": "stdout",
       "text": [
        "\n",
        "['../../images/testsets/Gallagher_small/25_757.jpg', '../../images/testsets/Gallagher_small/19_187.jpg']\n",
        "Score: -0.1000 for 25 and 19 (Less than two matches)"
       ]
      },
      {
       "output_type": "stream",
       "stream": "stdout",
       "text": [
        "\n",
        "['../../images/testsets/Gallagher_small/25_757.jpg', '../../images/testsets/Gallagher_small/31_580.jpg']\n",
        "Score: 0.0790 for 25 and 31"
       ]
      },
      {
       "output_type": "stream",
       "stream": "stdout",
       "text": [
        "\n",
        "['../../images/testsets/Gallagher_small/25_757.jpg', '../../images/testsets/Gallagher_small/21_872.jpg']\n",
        "Score: -0.1000 for 25 and 21 (Less than two matches)"
       ]
      },
      {
       "output_type": "stream",
       "stream": "stdout",
       "text": [
        "\n",
        "['../../images/testsets/Gallagher_small/25_757.jpg', '../../images/testsets/Gallagher_small/23_307.jpg']\n",
        "Score: 0.0001 for 25 and 23"
       ]
      },
      {
       "output_type": "stream",
       "stream": "stdout",
       "text": [
        "\n",
        "['../../images/testsets/Gallagher_small/25_757.jpg', '../../images/testsets/Gallagher_small/25_462.jpg']\n",
        "Score: 0.0914 for 25 and 25"
       ]
      },
      {
       "output_type": "stream",
       "stream": "stdout",
       "text": [
        "\n",
        "['../../images/testsets/Gallagher_small/25_757.jpg', '../../images/testsets/Gallagher_small/23_534.jpg']\n",
        "Score: -0.1000 for 25 and 23 (Less than two matches)"
       ]
      },
      {
       "output_type": "stream",
       "stream": "stdout",
       "text": [
        "\n",
        "['../../images/testsets/Gallagher_small/25_757.jpg', '../../images/testsets/Gallagher_small/31_582.jpg']\n",
        "Score: 0.0801 for 25 and 31"
       ]
      },
      {
       "output_type": "stream",
       "stream": "stdout",
       "text": [
        "\n",
        "['../../images/testsets/Gallagher_small/25_757.jpg', '../../images/testsets/Gallagher_small/15_224.jpg']\n",
        "Score: 0.0345 for 25 and 15"
       ]
      },
      {
       "output_type": "stream",
       "stream": "stdout",
       "text": [
        "\n",
        "['../../images/testsets/Gallagher_small/25_757.jpg', '../../images/testsets/Gallagher_small/23_508.jpg']\n",
        "Score: -0.0832 for 25 and 23"
       ]
      },
      {
       "output_type": "stream",
       "stream": "stdout",
       "text": [
        "\n",
        "['../../images/testsets/Gallagher_small/25_757.jpg', '../../images/testsets/Gallagher_small/18_220.jpg']\n",
        "Score: -0.1000 for 25 and 18 (Less than two matches)"
       ]
      },
      {
       "output_type": "stream",
       "stream": "stdout",
       "text": [
        "\n",
        "['../../images/testsets/Gallagher_small/25_757.jpg', '../../images/testsets/Gallagher_small/15_151.jpg']\n",
        "Score: -0.1000 for 25 and 15 (Less than two matches)"
       ]
      },
      {
       "output_type": "stream",
       "stream": "stdout",
       "text": [
        "\n",
        "['../../images/testsets/Gallagher_small/25_757.jpg', '../../images/testsets/Gallagher_small/16_182.jpg']\n",
        "Score: -0.1000 for 25 and 16 (Less than two matches)"
       ]
      },
      {
       "output_type": "stream",
       "stream": "stdout",
       "text": [
        "\n",
        "['../../images/testsets/Gallagher_small/25_757.jpg', '../../images/testsets/Gallagher_small/23_875.jpg']\n",
        "Score: 0.0193 for 25 and 23"
       ]
      },
      {
       "output_type": "stream",
       "stream": "stdout",
       "text": [
        "\n",
        "['../../images/testsets/Gallagher_small/25_757.jpg', '../../images/testsets/Gallagher_small/23_549.jpg']\n",
        "Score: -0.1000 for 25 and 23 (Less than two matches)"
       ]
      },
      {
       "output_type": "stream",
       "stream": "stdout",
       "text": [
        "\n",
        "['../../images/testsets/Gallagher_small/25_757.jpg', '../../images/testsets/Gallagher_small/32_648.jpg']\n",
        "Score: -0.1000 for 25 and 32 (Less than two matches)"
       ]
      },
      {
       "output_type": "stream",
       "stream": "stdout",
       "text": [
        "\n",
        "['../../images/testsets/Gallagher_small/25_757.jpg', '../../images/testsets/Gallagher_small/15_171.jpg']\n",
        "Score: 0.0814 for 25 and 15"
       ]
      },
      {
       "output_type": "stream",
       "stream": "stdout",
       "text": [
        "\n",
        "['../../images/testsets/Gallagher_small/25_757.jpg', '../../images/testsets/Gallagher_small/24_358.jpg']\n",
        "Score: 0.0679 for 25 and 24"
       ]
      },
      {
       "output_type": "stream",
       "stream": "stdout",
       "text": [
        "\n",
        "['../../images/testsets/Gallagher_small/25_757.jpg', '../../images/testsets/Gallagher_small/25_458.jpg']\n",
        "Score: 0.0728 for 25 and 25"
       ]
      },
      {
       "output_type": "stream",
       "stream": "stdout",
       "text": [
        "\n",
        "['../../images/testsets/Gallagher_small/25_757.jpg', '../../images/testsets/Gallagher_small/30_569.jpg']\n",
        "Score: 0.0332 for 25 and 30"
       ]
      },
      {
       "output_type": "stream",
       "stream": "stdout",
       "text": [
        "\n",
        "['../../images/testsets/Gallagher_small/25_757.jpg', '../../images/testsets/Gallagher_small/32_645.jpg']\n",
        "Score: 0.0353 for 25 and 32"
       ]
      },
      {
       "output_type": "stream",
       "stream": "stdout",
       "text": [
        "\n",
        "['../../images/testsets/Gallagher_small/25_757.jpg', '../../images/testsets/Gallagher_small/29_538.jpg']\n",
        "Score: -0.1000 for 25 and 29 (Less than two matches)"
       ]
      },
      {
       "output_type": "stream",
       "stream": "stdout",
       "text": [
        "\n",
        "['../../images/testsets/Gallagher_small/25_757.jpg', '../../images/testsets/Gallagher_small/21_251.jpg']\n",
        "Score: -0.1000 for 25 and 21 (Less than two matches)"
       ]
      },
      {
       "output_type": "stream",
       "stream": "stdout",
       "text": [
        "\n",
        "['../../images/testsets/Gallagher_small/25_757.jpg', '../../images/testsets/Gallagher_small/20_249.jpg']\n",
        "Score: 0.0076 for 25 and 20"
       ]
      },
      {
       "output_type": "stream",
       "stream": "stdout",
       "text": [
        "\n",
        "['../../images/testsets/Gallagher_small/25_757.jpg', '../../images/testsets/Gallagher_small/15_181.jpg']\n",
        "Score: -0.1000 for 25 and 15 (Less than two matches)"
       ]
      },
      {
       "output_type": "stream",
       "stream": "stdout",
       "text": [
        "\n",
        "['../../images/testsets/Gallagher_small/25_757.jpg', '../../images/testsets/Gallagher_small/15_158.jpg']\n",
        "Score: -0.1000 for 25 and 15 (Less than two matches)"
       ]
      },
      {
       "output_type": "stream",
       "stream": "stdout",
       "text": [
        "\n",
        "['../../images/testsets/Gallagher_small/25_757.jpg', '../../images/testsets/Gallagher_small/19_195.jpg']\n",
        "Score: -0.1000 for 25 and 19 (Less than two matches)"
       ]
      },
      {
       "output_type": "stream",
       "stream": "stdout",
       "text": [
        "\n",
        "['../../images/testsets/Gallagher_small/25_757.jpg', '../../images/testsets/Gallagher_small/19_193.jpg']\n",
        "Score: 0.0713 for 25 and 19"
       ]
      },
      {
       "output_type": "stream",
       "stream": "stdout",
       "text": [
        "\n",
        "['../../images/testsets/Gallagher_small/25_757.jpg', '../../images/testsets/Gallagher_small/21_287.jpg']\n",
        "Score: -0.1000 for 25 and 21 (Less than two matches)"
       ]
      },
      {
       "output_type": "stream",
       "stream": "stdout",
       "text": [
        "\n",
        "['../../images/testsets/Gallagher_small/25_757.jpg', '../../images/testsets/Gallagher_small/26_565.jpg']\n",
        "Score: -0.1000 for 25 and 26 (Less than two matches)"
       ]
      },
      {
       "output_type": "stream",
       "stream": "stdout",
       "text": [
        "\n",
        "['../../images/testsets/Gallagher_small/25_757.jpg', '../../images/testsets/Gallagher_small/27_509.jpg']\n",
        "Score: 0.0232 for 25 and 27"
       ]
      },
      {
       "output_type": "stream",
       "stream": "stdout",
       "text": [
        "\n",
        "['../../images/testsets/Gallagher_small/25_757.jpg', '../../images/testsets/Gallagher_small/15_169.jpg']\n",
        "Score: 0.0359 for 25 and 15"
       ]
      },
      {
       "output_type": "stream",
       "stream": "stdout",
       "text": [
        "\n",
        "['../../images/testsets/Gallagher_small/25_757.jpg', '../../images/testsets/Gallagher_small/15_167.jpg']\n",
        "Score: -0.1000 for 25 and 15 (Less than two matches)"
       ]
      },
      {
       "output_type": "stream",
       "stream": "stdout",
       "text": [
        "\n",
        "['../../images/testsets/Gallagher_small/25_757.jpg', '../../images/testsets/Gallagher_small/21_587.jpg']\n",
        "Score: -0.1000 for 25 and 21 (Less than two matches)"
       ]
      },
      {
       "output_type": "stream",
       "stream": "stdout",
       "text": [
        "\n",
        "['../../images/testsets/Gallagher_small/25_757.jpg', '../../images/testsets/Gallagher_small/15_222.jpg']\n",
        "Score: -0.1000 for 25 and 15 (Less than two matches)"
       ]
      },
      {
       "output_type": "stream",
       "stream": "stdout",
       "text": [
        "\n",
        "['../../images/testsets/Gallagher_small/25_757.jpg', '../../images/testsets/Gallagher_small/16_178.jpg']\n",
        "Score: -0.1000 for 25 and 16 (Less than two matches)"
       ]
      },
      {
       "output_type": "stream",
       "stream": "stdout",
       "text": [
        "\n",
        "['../../images/testsets/Gallagher_small/25_757.jpg', '../../images/testsets/Gallagher_small/17_165.jpg']\n",
        "Score: -0.1000 for 25 and 17 (Less than two matches)"
       ]
      },
      {
       "output_type": "stream",
       "stream": "stdout",
       "text": [
        "\n",
        "['../../images/testsets/Gallagher_small/25_757.jpg', '../../images/testsets/Gallagher_small/28_537.jpg']\n",
        "Score: -0.1000 for 25 and 28 (Less than two matches)"
       ]
      },
      {
       "output_type": "stream",
       "stream": "stdout",
       "text": [
        "\n",
        "['../../images/testsets/Gallagher_small/25_757.jpg', '../../images/testsets/Gallagher_small/27_524.jpg']\n",
        "Score: -0.1000 for 25 and 27 (Less than two matches)"
       ]
      },
      {
       "output_type": "stream",
       "stream": "stdout",
       "text": [
        "\n",
        "['../../images/testsets/Gallagher_small/25_757.jpg', '../../images/testsets/Gallagher_small/13_163.jpg']\n",
        "Score: -0.1000 for 25 and 13 (Less than two matches)"
       ]
      },
      {
       "output_type": "stream",
       "stream": "stdout",
       "text": [
        "\n",
        "['../../images/testsets/Gallagher_small/25_757.jpg', '../../images/testsets/Gallagher_small/23_302.jpg']\n",
        "Score: -0.1000 for 25 and 23 (Less than two matches)"
       ]
      },
      {
       "output_type": "stream",
       "stream": "stdout",
       "text": [
        "\n",
        "['../../images/testsets/Gallagher_small/26_878.jpg', '../../images/testsets/Gallagher_small/18_216.jpg']\n",
        "Score: -0.1000 for 26 and 18 (Less than two matches)"
       ]
      },
      {
       "output_type": "stream",
       "stream": "stdout",
       "text": [
        "\n",
        "['../../images/testsets/Gallagher_small/26_878.jpg', '../../images/testsets/Gallagher_small/15_160.jpg']\n",
        "Score: -0.1000 for 26 and 15 (Less than two matches)"
       ]
      },
      {
       "output_type": "stream",
       "stream": "stdout",
       "text": [
        "\n",
        "['../../images/testsets/Gallagher_small/26_878.jpg', '../../images/testsets/Gallagher_small/14_180.jpg']\n",
        "Score: -0.1000 for 26 and 14 (Less than two matches)"
       ]
      },
      {
       "output_type": "stream",
       "stream": "stdout",
       "text": [
        "\n",
        "['../../images/testsets/Gallagher_small/26_878.jpg', '../../images/testsets/Gallagher_small/25_694.jpg']\n",
        "Score: -0.1000 for 26 and 25 (Less than two matches)"
       ]
      },
      {
       "output_type": "stream",
       "stream": "stdout",
       "text": [
        "\n",
        "['../../images/testsets/Gallagher_small/26_878.jpg', '../../images/testsets/Gallagher_small/25_696.jpg']\n",
        "Score: 0.0536 for 26 and 25"
       ]
      },
      {
       "output_type": "stream",
       "stream": "stdout",
       "text": [
        "\n",
        "['../../images/testsets/Gallagher_small/26_878.jpg', '../../images/testsets/Gallagher_small/32_639.jpg']\n",
        "Score: -0.1000 for 26 and 32 (Less than two matches)"
       ]
      },
      {
       "output_type": "stream",
       "stream": "stdout",
       "text": [
        "\n",
        "['../../images/testsets/Gallagher_small/26_878.jpg', '../../images/testsets/Gallagher_small/30_554.jpg']\n",
        "Score: -0.1000 for 26 and 30 (Less than two matches)"
       ]
      },
      {
       "output_type": "stream",
       "stream": "stdout",
       "text": [
        "\n",
        "['../../images/testsets/Gallagher_small/26_878.jpg', '../../images/testsets/Gallagher_small/28_525.jpg']\n",
        "Score: 0.0608 for 26 and 28"
       ]
      },
      {
       "output_type": "stream",
       "stream": "stdout",
       "text": [
        "\n",
        "['../../images/testsets/Gallagher_small/26_878.jpg', '../../images/testsets/Gallagher_small/30_539.jpg']\n",
        "Score: -0.1000 for 26 and 30 (Less than two matches)"
       ]
      },
      {
       "output_type": "stream",
       "stream": "stdout",
       "text": [
        "\n",
        "['../../images/testsets/Gallagher_small/26_878.jpg', '../../images/testsets/Gallagher_small/26_550.jpg']\n",
        "Score: -0.1000 for 26 and 26 (Less than two matches)"
       ]
      },
      {
       "output_type": "stream",
       "stream": "stdout",
       "text": [
        "\n",
        "['../../images/testsets/Gallagher_small/26_878.jpg', '../../images/testsets/Gallagher_small/15_170.jpg']\n",
        "Score: 0.0961 for 26 and 15"
       ]
      },
      {
       "output_type": "stream",
       "stream": "stdout",
       "text": [
        "\n",
        "['../../images/testsets/Gallagher_small/26_878.jpg', '../../images/testsets/Gallagher_small/21_293.jpg']\n",
        "Score: -0.1000 for 26 and 21 (Less than two matches)"
       ]
      },
      {
       "output_type": "stream",
       "stream": "stdout",
       "text": [
        "\n",
        "['../../images/testsets/Gallagher_small/26_878.jpg', '../../images/testsets/Gallagher_small/24_379.jpg']\n",
        "Score: -0.1000 for 26 and 24 (Less than two matches)"
       ]
      },
      {
       "output_type": "stream",
       "stream": "stdout",
       "text": [
        "\n",
        "['../../images/testsets/Gallagher_small/26_878.jpg', '../../images/testsets/Gallagher_small/17_212.jpg']\n",
        "Score: 0.0372 for 26 and 17"
       ]
      },
      {
       "output_type": "stream",
       "stream": "stdout",
       "text": [
        "\n",
        "['../../images/testsets/Gallagher_small/26_878.jpg', '../../images/testsets/Gallagher_small/14_699.jpg']\n",
        "Score: -0.1000 for 26 and 14 (Less than two matches)"
       ]
      },
      {
       "output_type": "stream",
       "stream": "stdout",
       "text": [
        "\n",
        "['../../images/testsets/Gallagher_small/26_878.jpg', '../../images/testsets/Gallagher_small/28_567.jpg']\n",
        "Score: 0.0498 for 26 and 28"
       ]
      },
      {
       "output_type": "stream",
       "stream": "stdout",
       "text": [
        "\n",
        "['../../images/testsets/Gallagher_small/26_878.jpg', '../../images/testsets/Gallagher_small/27_551.jpg']\n",
        "Score: -0.1000 for 26 and 27 (Less than two matches)"
       ]
      },
      {
       "output_type": "stream",
       "stream": "stdout",
       "text": [
        "\n",
        "['../../images/testsets/Gallagher_small/26_878.jpg', '../../images/testsets/Gallagher_small/22_254.jpg']\n",
        "Score: -0.1000 for 26 and 22 (Less than two matches)"
       ]
      },
      {
       "output_type": "stream",
       "stream": "stdout",
       "text": [
        "\n",
        "['../../images/testsets/Gallagher_small/26_878.jpg', '../../images/testsets/Gallagher_small/29_568.jpg']\n",
        "Score: 0.1076 for 26 and 29"
       ]
      },
      {
       "output_type": "stream",
       "stream": "stdout",
       "text": [
        "\n",
        "['../../images/testsets/Gallagher_small/26_878.jpg', '../../images/testsets/Gallagher_small/15_154.jpg']\n",
        "Score: -0.1000 for 26 and 15 (Less than two matches)"
       ]
      },
      {
       "output_type": "stream",
       "stream": "stdout",
       "text": [
        "\n",
        "['../../images/testsets/Gallagher_small/26_878.jpg', '../../images/testsets/Gallagher_small/25_431.jpg']\n",
        "Score: -0.1000 for 26 and 25 (Less than two matches)"
       ]
      },
      {
       "output_type": "stream",
       "stream": "stdout",
       "text": [
        "\n",
        "['../../images/testsets/Gallagher_small/26_878.jpg', '../../images/testsets/Gallagher_small/23_305.jpg']\n",
        "Score: -0.1000 for 26 and 23 (Less than two matches)"
       ]
      },
      {
       "output_type": "stream",
       "stream": "stdout",
       "text": [
        "\n",
        "['../../images/testsets/Gallagher_small/26_878.jpg', '../../images/testsets/Gallagher_small/16_164.jpg']\n",
        "Score: 0.1020 for 26 and 16"
       ]
      },
      {
       "output_type": "stream",
       "stream": "stdout",
       "text": [
        "\n",
        "['../../images/testsets/Gallagher_small/26_878.jpg', '../../images/testsets/Gallagher_small/18_166.jpg']\n",
        "Score: 0.0136 for 26 and 18"
       ]
      },
      {
       "output_type": "stream",
       "stream": "stdout",
       "text": [
        "\n",
        "['../../images/testsets/Gallagher_small/26_878.jpg', '../../images/testsets/Gallagher_small/25_770.jpg']\n",
        "Score: -0.1000 for 26 and 25 (Less than two matches)"
       ]
      },
      {
       "output_type": "stream",
       "stream": "stdout",
       "text": [
        "\n",
        "['../../images/testsets/Gallagher_small/26_878.jpg', '../../images/testsets/Gallagher_small/32_642.jpg']\n",
        "Score: -0.1000 for 26 and 32 (Less than two matches)"
       ]
      },
      {
       "output_type": "stream",
       "stream": "stdout",
       "text": [
        "\n",
        "['../../images/testsets/Gallagher_small/26_878.jpg', '../../images/testsets/Gallagher_small/19_198.jpg']\n",
        "Score: -0.1000 for 26 and 19 (Less than two matches)"
       ]
      },
      {
       "output_type": "stream",
       "stream": "stdout",
       "text": [
        "\n",
        "['../../images/testsets/Gallagher_small/26_878.jpg', '../../images/testsets/Gallagher_small/21_294.jpg']\n",
        "Score: -0.1000 for 26 and 21 (Less than two matches)"
       ]
      },
      {
       "output_type": "stream",
       "stream": "stdout",
       "text": [
        "\n",
        "['../../images/testsets/Gallagher_small/26_878.jpg', '../../images/testsets/Gallagher_small/14_206.jpg']\n",
        "Score: -0.1000 for 26 and 14 (Less than two matches)"
       ]
      },
      {
       "output_type": "stream",
       "stream": "stdout",
       "text": [
        "\n",
        "['../../images/testsets/Gallagher_small/26_878.jpg', '../../images/testsets/Gallagher_small/26_535.jpg']\n",
        "Score: -0.1000 for 26 and 26 (Less than two matches)"
       ]
      },
      {
       "output_type": "stream",
       "stream": "stdout",
       "text": [
        "\n",
        "['../../images/testsets/Gallagher_small/26_878.jpg', '../../images/testsets/Gallagher_small/22_255.jpg']\n",
        "Score: -0.1000 for 26 and 22 (Less than two matches)"
       ]
      },
      {
       "output_type": "stream",
       "stream": "stdout",
       "text": [
        "\n",
        "['../../images/testsets/Gallagher_small/26_878.jpg', '../../images/testsets/Gallagher_small/29_553.jpg']\n",
        "Score: -0.1000 for 26 and 29 (Less than two matches)"
       ]
      },
      {
       "output_type": "stream",
       "stream": "stdout",
       "text": [
        "\n",
        "['../../images/testsets/Gallagher_small/26_878.jpg', '../../images/testsets/Gallagher_small/13_168.jpg']\n",
        "Score: -0.1000 for 26 and 13 (Less than two matches)"
       ]
      },
      {
       "output_type": "stream",
       "stream": "stdout",
       "text": [
        "\n",
        "['../../images/testsets/Gallagher_small/26_878.jpg', '../../images/testsets/Gallagher_small/28_552.jpg']\n",
        "Score: 0.0372 for 26 and 28"
       ]
      },
      {
       "output_type": "stream",
       "stream": "stdout",
       "text": [
        "\n",
        "['../../images/testsets/Gallagher_small/26_878.jpg', '../../images/testsets/Gallagher_small/13_145.jpg']\n",
        "Score: -0.1000 for 26 and 13 (Less than two matches)"
       ]
      },
      {
       "output_type": "stream",
       "stream": "stdout",
       "text": [
        "\n",
        "['../../images/testsets/Gallagher_small/26_878.jpg', '../../images/testsets/Gallagher_small/14_207.jpg']\n",
        "Score: -0.1000 for 26 and 14 (Less than two matches)"
       ]
      },
      {
       "output_type": "stream",
       "stream": "stdout",
       "text": [
        "\n",
        "['../../images/testsets/Gallagher_small/26_878.jpg', '../../images/testsets/Gallagher_small/14_150.jpg']\n",
        "Score: -0.1000 for 26 and 14 (Less than two matches)"
       ]
      },
      {
       "output_type": "stream",
       "stream": "stdout",
       "text": [
        "\n",
        "['../../images/testsets/Gallagher_small/26_878.jpg', '../../images/testsets/Gallagher_small/27_566.jpg']\n",
        "Score: 0.0446 for 26 and 27"
       ]
      },
      {
       "output_type": "stream",
       "stream": "stdout",
       "text": [
        "\n",
        "['../../images/testsets/Gallagher_small/26_878.jpg', '../../images/testsets/Gallagher_small/17_183.jpg']\n",
        "Score: -0.0074 for 26 and 17"
       ]
      },
      {
       "output_type": "stream",
       "stream": "stdout",
       "text": [
        "\n",
        "['../../images/testsets/Gallagher_small/26_878.jpg', '../../images/testsets/Gallagher_small/19_187.jpg']\n",
        "Score: 0.0200 for 26 and 19"
       ]
      },
      {
       "output_type": "stream",
       "stream": "stdout",
       "text": [
        "\n",
        "['../../images/testsets/Gallagher_small/26_878.jpg', '../../images/testsets/Gallagher_small/31_580.jpg']\n",
        "Score: -0.1000 for 26 and 31 (Less than two matches)"
       ]
      },
      {
       "output_type": "stream",
       "stream": "stdout",
       "text": [
        "\n",
        "['../../images/testsets/Gallagher_small/26_878.jpg', '../../images/testsets/Gallagher_small/21_872.jpg']\n",
        "Score: -0.1000 for 26 and 21 (Less than two matches)"
       ]
      },
      {
       "output_type": "stream",
       "stream": "stdout",
       "text": [
        "\n",
        "['../../images/testsets/Gallagher_small/26_878.jpg', '../../images/testsets/Gallagher_small/23_307.jpg']\n",
        "Score: 0.0467 for 26 and 23"
       ]
      },
      {
       "output_type": "stream",
       "stream": "stdout",
       "text": [
        "\n",
        "['../../images/testsets/Gallagher_small/26_878.jpg', '../../images/testsets/Gallagher_small/25_462.jpg']\n",
        "Score: 0.1058 for 26 and 25"
       ]
      },
      {
       "output_type": "stream",
       "stream": "stdout",
       "text": [
        "\n",
        "['../../images/testsets/Gallagher_small/26_878.jpg', '../../images/testsets/Gallagher_small/23_534.jpg']\n",
        "Score: -0.1000 for 26 and 23 (Less than two matches)"
       ]
      },
      {
       "output_type": "stream",
       "stream": "stdout",
       "text": [
        "\n",
        "['../../images/testsets/Gallagher_small/26_878.jpg', '../../images/testsets/Gallagher_small/31_582.jpg']\n",
        "Score: 0.0771 for 26 and 31"
       ]
      },
      {
       "output_type": "stream",
       "stream": "stdout",
       "text": [
        "\n",
        "['../../images/testsets/Gallagher_small/26_878.jpg', '../../images/testsets/Gallagher_small/15_224.jpg']\n",
        "Score: 0.0976 for 26 and 15"
       ]
      },
      {
       "output_type": "stream",
       "stream": "stdout",
       "text": [
        "\n",
        "['../../images/testsets/Gallagher_small/26_878.jpg', '../../images/testsets/Gallagher_small/23_508.jpg']\n",
        "Score: -0.1955 for 26 and 23"
       ]
      },
      {
       "output_type": "stream",
       "stream": "stdout",
       "text": [
        "\n",
        "['../../images/testsets/Gallagher_small/26_878.jpg', '../../images/testsets/Gallagher_small/18_220.jpg']\n",
        "Score: -0.1000 for 26 and 18 (Less than two matches)"
       ]
      },
      {
       "output_type": "stream",
       "stream": "stdout",
       "text": [
        "\n",
        "['../../images/testsets/Gallagher_small/26_878.jpg', '../../images/testsets/Gallagher_small/15_151.jpg']\n",
        "Score: -0.1000 for 26 and 15 (Less than two matches)"
       ]
      },
      {
       "output_type": "stream",
       "stream": "stdout",
       "text": [
        "\n",
        "['../../images/testsets/Gallagher_small/26_878.jpg', '../../images/testsets/Gallagher_small/16_182.jpg']\n",
        "Score: -0.1000 for 26 and 16 (Less than two matches)"
       ]
      },
      {
       "output_type": "stream",
       "stream": "stdout",
       "text": [
        "\n",
        "['../../images/testsets/Gallagher_small/26_878.jpg', '../../images/testsets/Gallagher_small/23_875.jpg']\n",
        "Score: -0.1000 for 26 and 23 (Less than two matches)"
       ]
      },
      {
       "output_type": "stream",
       "stream": "stdout",
       "text": [
        "\n",
        "['../../images/testsets/Gallagher_small/26_878.jpg', '../../images/testsets/Gallagher_small/23_549.jpg']\n",
        "Score: -0.1000 for 26 and 23 (Less than two matches)"
       ]
      },
      {
       "output_type": "stream",
       "stream": "stdout",
       "text": [
        "\n",
        "['../../images/testsets/Gallagher_small/26_878.jpg', '../../images/testsets/Gallagher_small/32_648.jpg']\n",
        "Score: -0.1000 for 26 and 32 (Less than two matches)"
       ]
      },
      {
       "output_type": "stream",
       "stream": "stdout",
       "text": [
        "\n",
        "['../../images/testsets/Gallagher_small/26_878.jpg', '../../images/testsets/Gallagher_small/15_171.jpg']\n",
        "Score: -0.1000 for 26 and 15 (Less than two matches)"
       ]
      },
      {
       "output_type": "stream",
       "stream": "stdout",
       "text": [
        "\n",
        "['../../images/testsets/Gallagher_small/26_878.jpg', '../../images/testsets/Gallagher_small/24_358.jpg']\n",
        "Score: -0.1000 for 26 and 24 (Less than two matches)"
       ]
      },
      {
       "output_type": "stream",
       "stream": "stdout",
       "text": [
        "\n",
        "['../../images/testsets/Gallagher_small/26_878.jpg', '../../images/testsets/Gallagher_small/25_458.jpg']\n",
        "Score: 0.0709 for 26 and 25"
       ]
      },
      {
       "output_type": "stream",
       "stream": "stdout",
       "text": [
        "\n",
        "['../../images/testsets/Gallagher_small/26_878.jpg', '../../images/testsets/Gallagher_small/30_569.jpg']\n",
        "Score: -0.1000 for 26 and 30 (Less than two matches)"
       ]
      },
      {
       "output_type": "stream",
       "stream": "stdout",
       "text": [
        "\n",
        "['../../images/testsets/Gallagher_small/26_878.jpg', '../../images/testsets/Gallagher_small/32_645.jpg']\n",
        "Score: -0.1000 for 26 and 32 (Less than two matches)"
       ]
      },
      {
       "output_type": "stream",
       "stream": "stdout",
       "text": [
        "\n",
        "['../../images/testsets/Gallagher_small/26_878.jpg', '../../images/testsets/Gallagher_small/29_538.jpg']\n",
        "Score: -0.1000 for 26 and 29 (Less than two matches)"
       ]
      },
      {
       "output_type": "stream",
       "stream": "stdout",
       "text": [
        "\n",
        "['../../images/testsets/Gallagher_small/26_878.jpg', '../../images/testsets/Gallagher_small/21_251.jpg']\n",
        "Score: -0.1000 for 26 and 21 (Less than two matches)"
       ]
      },
      {
       "output_type": "stream",
       "stream": "stdout",
       "text": [
        "\n",
        "['../../images/testsets/Gallagher_small/26_878.jpg', '../../images/testsets/Gallagher_small/20_249.jpg']\n",
        "Score: -0.1000 for 26 and 20 (Less than two matches)"
       ]
      },
      {
       "output_type": "stream",
       "stream": "stdout",
       "text": [
        "\n",
        "['../../images/testsets/Gallagher_small/26_878.jpg', '../../images/testsets/Gallagher_small/15_181.jpg']\n",
        "Score: -0.1000 for 26 and 15 (Less than two matches)"
       ]
      },
      {
       "output_type": "stream",
       "stream": "stdout",
       "text": [
        "\n",
        "['../../images/testsets/Gallagher_small/26_878.jpg', '../../images/testsets/Gallagher_small/15_158.jpg']\n",
        "Score: -0.1000 for 26 and 15 (Less than two matches)"
       ]
      },
      {
       "output_type": "stream",
       "stream": "stdout",
       "text": [
        "\n",
        "['../../images/testsets/Gallagher_small/26_878.jpg', '../../images/testsets/Gallagher_small/19_195.jpg']\n",
        "Score: -0.1000 for 26 and 19 (Less than two matches)"
       ]
      },
      {
       "output_type": "stream",
       "stream": "stdout",
       "text": [
        "\n",
        "['../../images/testsets/Gallagher_small/26_878.jpg', '../../images/testsets/Gallagher_small/19_193.jpg']\n",
        "Score: -0.1000 for 26 and 19 (Less than two matches)"
       ]
      },
      {
       "output_type": "stream",
       "stream": "stdout",
       "text": [
        "\n",
        "['../../images/testsets/Gallagher_small/26_878.jpg', '../../images/testsets/Gallagher_small/21_287.jpg']\n",
        "Score: -0.1000 for 26 and 21 (Less than two matches)"
       ]
      },
      {
       "output_type": "stream",
       "stream": "stdout",
       "text": [
        "\n",
        "['../../images/testsets/Gallagher_small/26_878.jpg', '../../images/testsets/Gallagher_small/26_565.jpg']\n",
        "Score: -0.1000 for 26 and 26 (Less than two matches)"
       ]
      },
      {
       "output_type": "stream",
       "stream": "stdout",
       "text": [
        "\n",
        "['../../images/testsets/Gallagher_small/26_878.jpg', '../../images/testsets/Gallagher_small/27_509.jpg']\n",
        "Score: 0.0230 for 26 and 27"
       ]
      },
      {
       "output_type": "stream",
       "stream": "stdout",
       "text": [
        "\n",
        "['../../images/testsets/Gallagher_small/26_878.jpg', '../../images/testsets/Gallagher_small/15_169.jpg']\n",
        "Score: 0.0510 for 26 and 15"
       ]
      },
      {
       "output_type": "stream",
       "stream": "stdout",
       "text": [
        "\n",
        "['../../images/testsets/Gallagher_small/26_878.jpg', '../../images/testsets/Gallagher_small/15_167.jpg']\n",
        "Score: 0.0906 for 26 and 15"
       ]
      },
      {
       "output_type": "stream",
       "stream": "stdout",
       "text": [
        "\n",
        "['../../images/testsets/Gallagher_small/26_878.jpg', '../../images/testsets/Gallagher_small/21_587.jpg']\n",
        "Score: 0.0915 for 26 and 21"
       ]
      },
      {
       "output_type": "stream",
       "stream": "stdout",
       "text": [
        "\n",
        "['../../images/testsets/Gallagher_small/26_878.jpg', '../../images/testsets/Gallagher_small/15_222.jpg']\n",
        "Score: -0.1000 for 26 and 15 (Less than two matches)"
       ]
      },
      {
       "output_type": "stream",
       "stream": "stdout",
       "text": [
        "\n",
        "['../../images/testsets/Gallagher_small/26_878.jpg', '../../images/testsets/Gallagher_small/16_178.jpg']\n",
        "Score: -0.1000 for 26 and 16 (Less than two matches)"
       ]
      },
      {
       "output_type": "stream",
       "stream": "stdout",
       "text": [
        "\n",
        "['../../images/testsets/Gallagher_small/26_878.jpg', '../../images/testsets/Gallagher_small/17_165.jpg']\n",
        "Score: -0.1000 for 26 and 17 (Less than two matches)"
       ]
      },
      {
       "output_type": "stream",
       "stream": "stdout",
       "text": [
        "\n",
        "['../../images/testsets/Gallagher_small/26_878.jpg', '../../images/testsets/Gallagher_small/28_537.jpg']\n",
        "Score: -0.1000 for 26 and 28 (Less than two matches)"
       ]
      },
      {
       "output_type": "stream",
       "stream": "stdout",
       "text": [
        "\n",
        "['../../images/testsets/Gallagher_small/26_878.jpg', '../../images/testsets/Gallagher_small/27_524.jpg']\n",
        "Score: 0.0135 for 26 and 27"
       ]
      },
      {
       "output_type": "stream",
       "stream": "stdout",
       "text": [
        "\n",
        "['../../images/testsets/Gallagher_small/26_878.jpg', '../../images/testsets/Gallagher_small/13_163.jpg']\n",
        "Score: -0.1000 for 26 and 13 (Less than two matches)"
       ]
      },
      {
       "output_type": "stream",
       "stream": "stdout",
       "text": [
        "\n",
        "['../../images/testsets/Gallagher_small/26_878.jpg', '../../images/testsets/Gallagher_small/23_302.jpg']\n",
        "Score: -0.1000 for 26 and 23 (Less than two matches)"
       ]
      },
      {
       "output_type": "stream",
       "stream": "stdout",
       "text": [
        "\n",
        "['../../images/testsets/Gallagher_small/18_216.jpg', '../../images/testsets/Gallagher_small/15_160.jpg']\n",
        "Score: 0.0875 for 18 and 15"
       ]
      },
      {
       "output_type": "stream",
       "stream": "stdout",
       "text": [
        "\n",
        "['../../images/testsets/Gallagher_small/18_216.jpg', '../../images/testsets/Gallagher_small/14_180.jpg']\n",
        "Score: -0.1000 for 18 and 14 (Less than two matches)"
       ]
      },
      {
       "output_type": "stream",
       "stream": "stdout",
       "text": [
        "\n",
        "['../../images/testsets/Gallagher_small/18_216.jpg', '../../images/testsets/Gallagher_small/25_694.jpg']\n",
        "Score: -0.1000 for 18 and 25 (Less than two matches)"
       ]
      },
      {
       "output_type": "stream",
       "stream": "stdout",
       "text": [
        "\n",
        "['../../images/testsets/Gallagher_small/18_216.jpg', '../../images/testsets/Gallagher_small/25_696.jpg']\n",
        "Score: -0.1000 for 18 and 25 (Less than two matches)"
       ]
      },
      {
       "output_type": "stream",
       "stream": "stdout",
       "text": [
        "\n",
        "['../../images/testsets/Gallagher_small/18_216.jpg', '../../images/testsets/Gallagher_small/32_639.jpg']\n",
        "Score: -0.1000 for 18 and 32 (Less than two matches)"
       ]
      },
      {
       "output_type": "stream",
       "stream": "stdout",
       "text": [
        "\n",
        "['../../images/testsets/Gallagher_small/18_216.jpg', '../../images/testsets/Gallagher_small/30_554.jpg']\n",
        "Score: -0.1000 for 18 and 30 (Less than two matches)"
       ]
      },
      {
       "output_type": "stream",
       "stream": "stdout",
       "text": [
        "\n",
        "['../../images/testsets/Gallagher_small/18_216.jpg', '../../images/testsets/Gallagher_small/28_525.jpg']\n",
        "Score: -0.1000 for 18 and 28 (Less than two matches)"
       ]
      },
      {
       "output_type": "stream",
       "stream": "stdout",
       "text": [
        "\n",
        "['../../images/testsets/Gallagher_small/18_216.jpg', '../../images/testsets/Gallagher_small/30_539.jpg']\n",
        "Score: -0.1000 for 18 and 30 (Less than two matches)"
       ]
      },
      {
       "output_type": "stream",
       "stream": "stdout",
       "text": [
        "\n",
        "['../../images/testsets/Gallagher_small/18_216.jpg', '../../images/testsets/Gallagher_small/26_550.jpg']\n",
        "Score: -0.1000 for 18 and 26 (Less than two matches)"
       ]
      },
      {
       "output_type": "stream",
       "stream": "stdout",
       "text": [
        "\n",
        "['../../images/testsets/Gallagher_small/18_216.jpg', '../../images/testsets/Gallagher_small/15_170.jpg']\n",
        "Score: -0.1000 for 18 and 15 (Less than two matches)"
       ]
      },
      {
       "output_type": "stream",
       "stream": "stdout",
       "text": [
        "\n",
        "['../../images/testsets/Gallagher_small/18_216.jpg', '../../images/testsets/Gallagher_small/21_293.jpg']\n",
        "Score: -0.1000 for 18 and 21 (Less than two matches)"
       ]
      },
      {
       "output_type": "stream",
       "stream": "stdout",
       "text": [
        "\n",
        "['../../images/testsets/Gallagher_small/18_216.jpg', '../../images/testsets/Gallagher_small/24_379.jpg']\n",
        "Score: -0.1000 for 18 and 24 (Less than two matches)"
       ]
      },
      {
       "output_type": "stream",
       "stream": "stdout",
       "text": [
        "\n",
        "['../../images/testsets/Gallagher_small/18_216.jpg', '../../images/testsets/Gallagher_small/17_212.jpg']\n",
        "Score: -0.1000 for 18 and 17 (Less than two matches)"
       ]
      },
      {
       "output_type": "stream",
       "stream": "stdout",
       "text": [
        "\n",
        "['../../images/testsets/Gallagher_small/18_216.jpg', '../../images/testsets/Gallagher_small/14_699.jpg']\n",
        "Score: -0.1000 for 18 and 14 (Less than two matches)"
       ]
      },
      {
       "output_type": "stream",
       "stream": "stdout",
       "text": [
        "\n",
        "['../../images/testsets/Gallagher_small/18_216.jpg', '../../images/testsets/Gallagher_small/28_567.jpg']\n",
        "Score: -0.1000 for 18 and 28 (Less than two matches)"
       ]
      },
      {
       "output_type": "stream",
       "stream": "stdout",
       "text": [
        "\n",
        "['../../images/testsets/Gallagher_small/18_216.jpg', '../../images/testsets/Gallagher_small/27_551.jpg']\n",
        "Score: -0.1000 for 18 and 27 (Less than two matches)"
       ]
      },
      {
       "output_type": "stream",
       "stream": "stdout",
       "text": [
        "\n",
        "['../../images/testsets/Gallagher_small/18_216.jpg', '../../images/testsets/Gallagher_small/22_254.jpg']\n",
        "Score: -0.1000 for 18 and 22 (Less than two matches)"
       ]
      },
      {
       "output_type": "stream",
       "stream": "stdout",
       "text": [
        "\n",
        "['../../images/testsets/Gallagher_small/18_216.jpg', '../../images/testsets/Gallagher_small/29_568.jpg']\n",
        "Score: -0.1000 for 18 and 29 (Less than two matches)"
       ]
      },
      {
       "output_type": "stream",
       "stream": "stdout",
       "text": [
        "\n",
        "['../../images/testsets/Gallagher_small/18_216.jpg', '../../images/testsets/Gallagher_small/15_154.jpg']\n",
        "Score: -0.1000 for 18 and 15 (Less than two matches)"
       ]
      },
      {
       "output_type": "stream",
       "stream": "stdout",
       "text": [
        "\n",
        "['../../images/testsets/Gallagher_small/18_216.jpg', '../../images/testsets/Gallagher_small/25_431.jpg']\n",
        "Score: -0.1000 for 18 and 25 (Less than two matches)"
       ]
      },
      {
       "output_type": "stream",
       "stream": "stdout",
       "text": [
        "\n",
        "['../../images/testsets/Gallagher_small/18_216.jpg', '../../images/testsets/Gallagher_small/23_305.jpg']\n",
        "Score: -0.1000 for 18 and 23 (Less than two matches)"
       ]
      },
      {
       "output_type": "stream",
       "stream": "stdout",
       "text": [
        "\n",
        "['../../images/testsets/Gallagher_small/18_216.jpg', '../../images/testsets/Gallagher_small/16_164.jpg']\n",
        "Score: -0.1000 for 18 and 16 (Less than two matches)"
       ]
      },
      {
       "output_type": "stream",
       "stream": "stdout",
       "text": [
        "\n",
        "['../../images/testsets/Gallagher_small/18_216.jpg', '../../images/testsets/Gallagher_small/18_166.jpg']\n",
        "Score: 0.0448 for 18 and 18"
       ]
      },
      {
       "output_type": "stream",
       "stream": "stdout",
       "text": [
        "\n",
        "['../../images/testsets/Gallagher_small/18_216.jpg', '../../images/testsets/Gallagher_small/25_770.jpg']\n",
        "Score: -0.1000 for 18 and 25 (Less than two matches)"
       ]
      },
      {
       "output_type": "stream",
       "stream": "stdout",
       "text": [
        "\n",
        "['../../images/testsets/Gallagher_small/18_216.jpg', '../../images/testsets/Gallagher_small/32_642.jpg']\n",
        "Score: -0.1000 for 18 and 32 (Less than two matches)"
       ]
      },
      {
       "output_type": "stream",
       "stream": "stdout",
       "text": [
        "\n",
        "['../../images/testsets/Gallagher_small/18_216.jpg', '../../images/testsets/Gallagher_small/19_198.jpg']\n",
        "Score: -0.1000 for 18 and 19 (Less than two matches)"
       ]
      },
      {
       "output_type": "stream",
       "stream": "stdout",
       "text": [
        "\n",
        "['../../images/testsets/Gallagher_small/18_216.jpg', '../../images/testsets/Gallagher_small/21_294.jpg']\n",
        "Score: -0.1000 for 18 and 21 (Less than two matches)"
       ]
      },
      {
       "output_type": "stream",
       "stream": "stdout",
       "text": [
        "\n",
        "['../../images/testsets/Gallagher_small/18_216.jpg', '../../images/testsets/Gallagher_small/14_206.jpg']\n",
        "Score: -0.1000 for 18 and 14 (Less than two matches)"
       ]
      },
      {
       "output_type": "stream",
       "stream": "stdout",
       "text": [
        "\n",
        "['../../images/testsets/Gallagher_small/18_216.jpg', '../../images/testsets/Gallagher_small/26_535.jpg']\n",
        "Score: -0.1000 for 18 and 26 (Less than two matches)"
       ]
      },
      {
       "output_type": "stream",
       "stream": "stdout",
       "text": [
        "\n",
        "['../../images/testsets/Gallagher_small/18_216.jpg', '../../images/testsets/Gallagher_small/22_255.jpg']\n",
        "Score: -0.1000 for 18 and 22 (Less than two matches)"
       ]
      },
      {
       "output_type": "stream",
       "stream": "stdout",
       "text": [
        "\n",
        "['../../images/testsets/Gallagher_small/18_216.jpg', '../../images/testsets/Gallagher_small/29_553.jpg']\n",
        "Score: 0.1450 for 18 and 29"
       ]
      },
      {
       "output_type": "stream",
       "stream": "stdout",
       "text": [
        "\n",
        "['../../images/testsets/Gallagher_small/18_216.jpg', '../../images/testsets/Gallagher_small/13_168.jpg']\n",
        "Score: -0.1000 for 18 and 13 (Less than two matches)"
       ]
      },
      {
       "output_type": "stream",
       "stream": "stdout",
       "text": [
        "\n",
        "['../../images/testsets/Gallagher_small/18_216.jpg', '../../images/testsets/Gallagher_small/28_552.jpg']\n",
        "Score: -0.1000 for 18 and 28 (Less than two matches)"
       ]
      },
      {
       "output_type": "stream",
       "stream": "stdout",
       "text": [
        "\n",
        "['../../images/testsets/Gallagher_small/18_216.jpg', '../../images/testsets/Gallagher_small/13_145.jpg']\n",
        "Score: -0.1000 for 18 and 13 (Less than two matches)"
       ]
      },
      {
       "output_type": "stream",
       "stream": "stdout",
       "text": [
        "\n",
        "['../../images/testsets/Gallagher_small/18_216.jpg', '../../images/testsets/Gallagher_small/14_207.jpg']\n",
        "Score: -0.1000 for 18 and 14 (Less than two matches)"
       ]
      },
      {
       "output_type": "stream",
       "stream": "stdout",
       "text": [
        "\n",
        "['../../images/testsets/Gallagher_small/18_216.jpg', '../../images/testsets/Gallagher_small/14_150.jpg']\n",
        "Score: -0.1000 for 18 and 14 (Less than two matches)"
       ]
      },
      {
       "output_type": "stream",
       "stream": "stdout",
       "text": [
        "\n",
        "['../../images/testsets/Gallagher_small/18_216.jpg', '../../images/testsets/Gallagher_small/27_566.jpg']\n",
        "Score: -0.1000 for 18 and 27 (Less than two matches)"
       ]
      },
      {
       "output_type": "stream",
       "stream": "stdout",
       "text": [
        "\n",
        "['../../images/testsets/Gallagher_small/18_216.jpg', '../../images/testsets/Gallagher_small/17_183.jpg']\n",
        "Score: 0.0412 for 18 and 17"
       ]
      },
      {
       "output_type": "stream",
       "stream": "stdout",
       "text": [
        "\n",
        "['../../images/testsets/Gallagher_small/18_216.jpg', '../../images/testsets/Gallagher_small/19_187.jpg']\n",
        "Score: -0.1000 for 18 and 19 (Less than two matches)"
       ]
      },
      {
       "output_type": "stream",
       "stream": "stdout",
       "text": [
        "\n",
        "['../../images/testsets/Gallagher_small/18_216.jpg', '../../images/testsets/Gallagher_small/31_580.jpg']\n",
        "Score: -0.1000 for 18 and 31 (Less than two matches)"
       ]
      },
      {
       "output_type": "stream",
       "stream": "stdout",
       "text": [
        "\n",
        "['../../images/testsets/Gallagher_small/18_216.jpg', '../../images/testsets/Gallagher_small/21_872.jpg']\n",
        "Score: -0.1000 for 18 and 21 (Less than two matches)"
       ]
      },
      {
       "output_type": "stream",
       "stream": "stdout",
       "text": [
        "\n",
        "['../../images/testsets/Gallagher_small/18_216.jpg', '../../images/testsets/Gallagher_small/23_307.jpg']\n",
        "Score: 0.0749 for 18 and 23"
       ]
      },
      {
       "output_type": "stream",
       "stream": "stdout",
       "text": [
        "\n",
        "['../../images/testsets/Gallagher_small/18_216.jpg', '../../images/testsets/Gallagher_small/25_462.jpg']\n",
        "Score: -0.1000 for 18 and 25 (Less than two matches)"
       ]
      },
      {
       "output_type": "stream",
       "stream": "stdout",
       "text": [
        "\n",
        "['../../images/testsets/Gallagher_small/18_216.jpg', '../../images/testsets/Gallagher_small/23_534.jpg']\n",
        "Score: -0.1000 for 18 and 23 (Less than two matches)"
       ]
      },
      {
       "output_type": "stream",
       "stream": "stdout",
       "text": [
        "\n",
        "['../../images/testsets/Gallagher_small/18_216.jpg', '../../images/testsets/Gallagher_small/31_582.jpg']\n",
        "Score: -0.1000 for 18 and 31 (Less than two matches)"
       ]
      },
      {
       "output_type": "stream",
       "stream": "stdout",
       "text": [
        "\n",
        "['../../images/testsets/Gallagher_small/18_216.jpg', '../../images/testsets/Gallagher_small/15_224.jpg']\n",
        "Score: -0.1000 for 18 and 15 (Less than two matches)"
       ]
      },
      {
       "output_type": "stream",
       "stream": "stdout",
       "text": [
        "\n",
        "['../../images/testsets/Gallagher_small/18_216.jpg', '../../images/testsets/Gallagher_small/23_508.jpg']\n",
        "Score: -0.1000 for 18 and 23 (Less than two matches)"
       ]
      },
      {
       "output_type": "stream",
       "stream": "stdout",
       "text": [
        "\n",
        "['../../images/testsets/Gallagher_small/18_216.jpg', '../../images/testsets/Gallagher_small/18_220.jpg']\n",
        "Score: -0.1000 for 18 and 18 (Less than two matches)"
       ]
      },
      {
       "output_type": "stream",
       "stream": "stdout",
       "text": [
        "\n",
        "['../../images/testsets/Gallagher_small/18_216.jpg', '../../images/testsets/Gallagher_small/15_151.jpg']\n",
        "Score: -0.1000 for 18 and 15 (Less than two matches)"
       ]
      },
      {
       "output_type": "stream",
       "stream": "stdout",
       "text": [
        "\n",
        "['../../images/testsets/Gallagher_small/18_216.jpg', '../../images/testsets/Gallagher_small/16_182.jpg']\n",
        "Score: -0.1000 for 18 and 16 (Less than two matches)"
       ]
      },
      {
       "output_type": "stream",
       "stream": "stdout",
       "text": [
        "\n",
        "['../../images/testsets/Gallagher_small/18_216.jpg', '../../images/testsets/Gallagher_small/23_875.jpg']\n",
        "Score: -0.1000 for 18 and 23 (Less than two matches)"
       ]
      },
      {
       "output_type": "stream",
       "stream": "stdout",
       "text": [
        "\n",
        "['../../images/testsets/Gallagher_small/18_216.jpg', '../../images/testsets/Gallagher_small/23_549.jpg']\n",
        "Score: -0.1000 for 18 and 23 (Less than two matches)"
       ]
      },
      {
       "output_type": "stream",
       "stream": "stdout",
       "text": [
        "\n",
        "['../../images/testsets/Gallagher_small/18_216.jpg', '../../images/testsets/Gallagher_small/32_648.jpg']\n",
        "Score: -0.1000 for 18 and 32 (Less than two matches)"
       ]
      },
      {
       "output_type": "stream",
       "stream": "stdout",
       "text": [
        "\n",
        "['../../images/testsets/Gallagher_small/18_216.jpg', '../../images/testsets/Gallagher_small/15_171.jpg']\n",
        "Score: -0.1000 for 18 and 15 (Less than two matches)"
       ]
      },
      {
       "output_type": "stream",
       "stream": "stdout",
       "text": [
        "\n",
        "['../../images/testsets/Gallagher_small/18_216.jpg', '../../images/testsets/Gallagher_small/24_358.jpg']\n",
        "Score: -0.1000 for 18 and 24 (Less than two matches)"
       ]
      },
      {
       "output_type": "stream",
       "stream": "stdout",
       "text": [
        "\n",
        "['../../images/testsets/Gallagher_small/18_216.jpg', '../../images/testsets/Gallagher_small/25_458.jpg']\n",
        "Score: -0.1000 for 18 and 25 (Less than two matches)"
       ]
      },
      {
       "output_type": "stream",
       "stream": "stdout",
       "text": [
        "\n",
        "['../../images/testsets/Gallagher_small/18_216.jpg', '../../images/testsets/Gallagher_small/30_569.jpg']\n",
        "Score: -0.1000 for 18 and 30 (Less than two matches)"
       ]
      },
      {
       "output_type": "stream",
       "stream": "stdout",
       "text": [
        "\n",
        "['../../images/testsets/Gallagher_small/18_216.jpg', '../../images/testsets/Gallagher_small/32_645.jpg']\n",
        "Score: -0.1000 for 18 and 32 (Less than two matches)"
       ]
      },
      {
       "output_type": "stream",
       "stream": "stdout",
       "text": [
        "\n",
        "['../../images/testsets/Gallagher_small/18_216.jpg', '../../images/testsets/Gallagher_small/29_538.jpg']\n",
        "Score: -0.1000 for 18 and 29 (Less than two matches)"
       ]
      },
      {
       "output_type": "stream",
       "stream": "stdout",
       "text": [
        "\n",
        "['../../images/testsets/Gallagher_small/18_216.jpg', '../../images/testsets/Gallagher_small/21_251.jpg']\n",
        "Score: -0.1000 for 18 and 21 (Less than two matches)"
       ]
      },
      {
       "output_type": "stream",
       "stream": "stdout",
       "text": [
        "\n",
        "['../../images/testsets/Gallagher_small/18_216.jpg', '../../images/testsets/Gallagher_small/20_249.jpg']\n",
        "Score: -0.1000 for 18 and 20 (Less than two matches)"
       ]
      },
      {
       "output_type": "stream",
       "stream": "stdout",
       "text": [
        "\n",
        "['../../images/testsets/Gallagher_small/18_216.jpg', '../../images/testsets/Gallagher_small/15_181.jpg']\n",
        "Score: -0.1000 for 18 and 15 (Less than two matches)"
       ]
      },
      {
       "output_type": "stream",
       "stream": "stdout",
       "text": [
        "\n",
        "['../../images/testsets/Gallagher_small/18_216.jpg', '../../images/testsets/Gallagher_small/15_158.jpg']\n",
        "Score: -0.1000 for 18 and 15 (Less than two matches)"
       ]
      },
      {
       "output_type": "stream",
       "stream": "stdout",
       "text": [
        "\n",
        "['../../images/testsets/Gallagher_small/18_216.jpg', '../../images/testsets/Gallagher_small/19_195.jpg']\n",
        "Score: -0.1000 for 18 and 19 (Less than two matches)"
       ]
      },
      {
       "output_type": "stream",
       "stream": "stdout",
       "text": [
        "\n",
        "['../../images/testsets/Gallagher_small/18_216.jpg', '../../images/testsets/Gallagher_small/19_193.jpg']\n",
        "Score: -0.1000 for 18 and 19 (Less than two matches)"
       ]
      },
      {
       "output_type": "stream",
       "stream": "stdout",
       "text": [
        "\n",
        "['../../images/testsets/Gallagher_small/18_216.jpg', '../../images/testsets/Gallagher_small/21_287.jpg']\n",
        "Score: -0.1000 for 18 and 21 (Less than two matches)"
       ]
      },
      {
       "output_type": "stream",
       "stream": "stdout",
       "text": [
        "\n",
        "['../../images/testsets/Gallagher_small/18_216.jpg', '../../images/testsets/Gallagher_small/26_565.jpg']\n",
        "Score: -0.1000 for 18 and 26 (Less than two matches)"
       ]
      },
      {
       "output_type": "stream",
       "stream": "stdout",
       "text": [
        "\n",
        "['../../images/testsets/Gallagher_small/18_216.jpg', '../../images/testsets/Gallagher_small/27_509.jpg']\n",
        "Score: -0.1000 for 18 and 27 (Less than two matches)"
       ]
      },
      {
       "output_type": "stream",
       "stream": "stdout",
       "text": [
        "\n",
        "['../../images/testsets/Gallagher_small/18_216.jpg', '../../images/testsets/Gallagher_small/15_169.jpg']\n",
        "Score: -0.1000 for 18 and 15 (Less than two matches)"
       ]
      },
      {
       "output_type": "stream",
       "stream": "stdout",
       "text": [
        "\n",
        "['../../images/testsets/Gallagher_small/18_216.jpg', '../../images/testsets/Gallagher_small/15_167.jpg']\n",
        "Score: -0.1000 for 18 and 15 (Less than two matches)"
       ]
      },
      {
       "output_type": "stream",
       "stream": "stdout",
       "text": [
        "\n",
        "['../../images/testsets/Gallagher_small/18_216.jpg', '../../images/testsets/Gallagher_small/21_587.jpg']\n",
        "Score: -0.1000 for 18 and 21 (Less than two matches)"
       ]
      },
      {
       "output_type": "stream",
       "stream": "stdout",
       "text": [
        "\n",
        "['../../images/testsets/Gallagher_small/18_216.jpg', '../../images/testsets/Gallagher_small/15_222.jpg']\n",
        "Score: 0.0522 for 18 and 15"
       ]
      },
      {
       "output_type": "stream",
       "stream": "stdout",
       "text": [
        "\n",
        "['../../images/testsets/Gallagher_small/18_216.jpg', '../../images/testsets/Gallagher_small/16_178.jpg']\n",
        "Score: 0.0554 for 18 and 16"
       ]
      },
      {
       "output_type": "stream",
       "stream": "stdout",
       "text": [
        "\n",
        "['../../images/testsets/Gallagher_small/18_216.jpg', '../../images/testsets/Gallagher_small/17_165.jpg']\n",
        "Score: -0.1000 for 18 and 17 (Less than two matches)"
       ]
      },
      {
       "output_type": "stream",
       "stream": "stdout",
       "text": [
        "\n",
        "['../../images/testsets/Gallagher_small/18_216.jpg', '../../images/testsets/Gallagher_small/28_537.jpg']\n",
        "Score: -0.1000 for 18 and 28 (Less than two matches)"
       ]
      },
      {
       "output_type": "stream",
       "stream": "stdout",
       "text": [
        "\n",
        "['../../images/testsets/Gallagher_small/18_216.jpg', '../../images/testsets/Gallagher_small/27_524.jpg']\n",
        "Score: 0.0077 for 18 and 27"
       ]
      },
      {
       "output_type": "stream",
       "stream": "stdout",
       "text": [
        "\n",
        "['../../images/testsets/Gallagher_small/18_216.jpg', '../../images/testsets/Gallagher_small/13_163.jpg']\n",
        "Score: -0.1000 for 18 and 13 (Less than two matches)"
       ]
      },
      {
       "output_type": "stream",
       "stream": "stdout",
       "text": [
        "\n",
        "['../../images/testsets/Gallagher_small/18_216.jpg', '../../images/testsets/Gallagher_small/23_302.jpg']\n",
        "Score: -0.1000 for 18 and 23 (Less than two matches)"
       ]
      },
      {
       "output_type": "stream",
       "stream": "stdout",
       "text": [
        "\n",
        "['../../images/testsets/Gallagher_small/15_160.jpg', '../../images/testsets/Gallagher_small/14_180.jpg']\n",
        "Score: 0.1087 for 15 and 14"
       ]
      },
      {
       "output_type": "stream",
       "stream": "stdout",
       "text": [
        "\n",
        "['../../images/testsets/Gallagher_small/15_160.jpg', '../../images/testsets/Gallagher_small/25_694.jpg']\n",
        "Score: -0.1000 for 15 and 25 (Less than two matches)"
       ]
      },
      {
       "output_type": "stream",
       "stream": "stdout",
       "text": [
        "\n",
        "['../../images/testsets/Gallagher_small/15_160.jpg', '../../images/testsets/Gallagher_small/25_696.jpg']\n",
        "Score: -0.1000 for 15 and 25 (Less than two matches)"
       ]
      },
      {
       "output_type": "stream",
       "stream": "stdout",
       "text": [
        "\n",
        "['../../images/testsets/Gallagher_small/15_160.jpg', '../../images/testsets/Gallagher_small/32_639.jpg']\n",
        "Score: 0.0610 for 15 and 32"
       ]
      },
      {
       "output_type": "stream",
       "stream": "stdout",
       "text": [
        "\n",
        "['../../images/testsets/Gallagher_small/15_160.jpg', '../../images/testsets/Gallagher_small/30_554.jpg']\n",
        "Score: -0.1000 for 15 and 30 (Less than two matches)"
       ]
      },
      {
       "output_type": "stream",
       "stream": "stdout",
       "text": [
        "\n",
        "['../../images/testsets/Gallagher_small/15_160.jpg', '../../images/testsets/Gallagher_small/28_525.jpg']\n",
        "Score: -0.1000 for 15 and 28 (Less than two matches)"
       ]
      },
      {
       "output_type": "stream",
       "stream": "stdout",
       "text": [
        "\n",
        "['../../images/testsets/Gallagher_small/15_160.jpg', '../../images/testsets/Gallagher_small/30_539.jpg']\n",
        "Score: -0.1000 for 15 and 30 (Less than two matches)"
       ]
      },
      {
       "output_type": "stream",
       "stream": "stdout",
       "text": [
        "\n",
        "['../../images/testsets/Gallagher_small/15_160.jpg', '../../images/testsets/Gallagher_small/26_550.jpg']\n",
        "Score: -0.1000 for 15 and 26 (Less than two matches)"
       ]
      },
      {
       "output_type": "stream",
       "stream": "stdout",
       "text": [
        "\n",
        "['../../images/testsets/Gallagher_small/15_160.jpg', '../../images/testsets/Gallagher_small/15_170.jpg']\n",
        "Score: -0.1000 for 15 and 15 (Less than two matches)"
       ]
      },
      {
       "output_type": "stream",
       "stream": "stdout",
       "text": [
        "\n",
        "['../../images/testsets/Gallagher_small/15_160.jpg', '../../images/testsets/Gallagher_small/21_293.jpg']\n",
        "Score: -0.1000 for 15 and 21 (Less than two matches)"
       ]
      },
      {
       "output_type": "stream",
       "stream": "stdout",
       "text": [
        "\n",
        "['../../images/testsets/Gallagher_small/15_160.jpg', '../../images/testsets/Gallagher_small/24_379.jpg']\n",
        "Score: -0.1000 for 15 and 24 (Less than two matches)"
       ]
      },
      {
       "output_type": "stream",
       "stream": "stdout",
       "text": [
        "\n",
        "['../../images/testsets/Gallagher_small/15_160.jpg', '../../images/testsets/Gallagher_small/17_212.jpg']\n",
        "Score: -0.1000 for 15 and 17 (Less than two matches)"
       ]
      },
      {
       "output_type": "stream",
       "stream": "stdout",
       "text": [
        "\n",
        "['../../images/testsets/Gallagher_small/15_160.jpg', '../../images/testsets/Gallagher_small/14_699.jpg']\n",
        "Score: -0.1000 for 15 and 14 (Less than two matches)"
       ]
      },
      {
       "output_type": "stream",
       "stream": "stdout",
       "text": [
        "\n",
        "['../../images/testsets/Gallagher_small/15_160.jpg', '../../images/testsets/Gallagher_small/28_567.jpg']\n",
        "Score: 0.1242 for 15 and 28"
       ]
      },
      {
       "output_type": "stream",
       "stream": "stdout",
       "text": [
        "\n",
        "['../../images/testsets/Gallagher_small/15_160.jpg', '../../images/testsets/Gallagher_small/27_551.jpg']\n",
        "Score: -0.1000 for 15 and 27 (Less than two matches)"
       ]
      },
      {
       "output_type": "stream",
       "stream": "stdout",
       "text": [
        "\n",
        "['../../images/testsets/Gallagher_small/15_160.jpg', '../../images/testsets/Gallagher_small/22_254.jpg']\n",
        "Score: -0.1000 for 15 and 22 (Less than two matches)"
       ]
      },
      {
       "output_type": "stream",
       "stream": "stdout",
       "text": [
        "\n",
        "['../../images/testsets/Gallagher_small/15_160.jpg', '../../images/testsets/Gallagher_small/29_568.jpg']\n",
        "Score: -0.1000 for 15 and 29 (Less than two matches)"
       ]
      },
      {
       "output_type": "stream",
       "stream": "stdout",
       "text": [
        "\n",
        "['../../images/testsets/Gallagher_small/15_160.jpg', '../../images/testsets/Gallagher_small/15_154.jpg']\n",
        "Score: -0.1000 for 15 and 15 (Less than two matches)"
       ]
      },
      {
       "output_type": "stream",
       "stream": "stdout",
       "text": [
        "\n",
        "['../../images/testsets/Gallagher_small/15_160.jpg', '../../images/testsets/Gallagher_small/25_431.jpg']\n",
        "Score: 0.0705 for 15 and 25"
       ]
      },
      {
       "output_type": "stream",
       "stream": "stdout",
       "text": [
        "\n",
        "['../../images/testsets/Gallagher_small/15_160.jpg', '../../images/testsets/Gallagher_small/23_305.jpg']\n",
        "Score: 0.0433 for 15 and 23"
       ]
      },
      {
       "output_type": "stream",
       "stream": "stdout",
       "text": [
        "\n",
        "['../../images/testsets/Gallagher_small/15_160.jpg', '../../images/testsets/Gallagher_small/16_164.jpg']\n",
        "Score: 0.0656 for 15 and 16"
       ]
      },
      {
       "output_type": "stream",
       "stream": "stdout",
       "text": [
        "\n",
        "['../../images/testsets/Gallagher_small/15_160.jpg', '../../images/testsets/Gallagher_small/18_166.jpg']\n",
        "Score: -0.1000 for 15 and 18 (Less than two matches)"
       ]
      },
      {
       "output_type": "stream",
       "stream": "stdout",
       "text": [
        "\n",
        "['../../images/testsets/Gallagher_small/15_160.jpg', '../../images/testsets/Gallagher_small/25_770.jpg']\n",
        "Score: 0.0212 for 15 and 25"
       ]
      },
      {
       "output_type": "stream",
       "stream": "stdout",
       "text": [
        "\n",
        "['../../images/testsets/Gallagher_small/15_160.jpg', '../../images/testsets/Gallagher_small/32_642.jpg']\n",
        "Score: 0.0585 for 15 and 32"
       ]
      },
      {
       "output_type": "stream",
       "stream": "stdout",
       "text": [
        "\n",
        "['../../images/testsets/Gallagher_small/15_160.jpg', '../../images/testsets/Gallagher_small/19_198.jpg']\n",
        "Score: 0.1006 for 15 and 19"
       ]
      },
      {
       "output_type": "stream",
       "stream": "stdout",
       "text": [
        "\n",
        "['../../images/testsets/Gallagher_small/15_160.jpg', '../../images/testsets/Gallagher_small/21_294.jpg']\n",
        "Score: -0.1000 for 15 and 21 (Less than two matches)"
       ]
      },
      {
       "output_type": "stream",
       "stream": "stdout",
       "text": [
        "\n",
        "['../../images/testsets/Gallagher_small/15_160.jpg', '../../images/testsets/Gallagher_small/14_206.jpg']\n",
        "Score: -0.1000 for 15 and 14 (Less than two matches)"
       ]
      },
      {
       "output_type": "stream",
       "stream": "stdout",
       "text": [
        "\n",
        "['../../images/testsets/Gallagher_small/15_160.jpg', '../../images/testsets/Gallagher_small/26_535.jpg']\n",
        "Score: -0.1000 for 15 and 26 (Less than two matches)"
       ]
      },
      {
       "output_type": "stream",
       "stream": "stdout",
       "text": [
        "\n",
        "['../../images/testsets/Gallagher_small/15_160.jpg', '../../images/testsets/Gallagher_small/22_255.jpg']\n",
        "Score: 0.1581 for 15 and 22"
       ]
      },
      {
       "output_type": "stream",
       "stream": "stdout",
       "text": [
        "\n",
        "['../../images/testsets/Gallagher_small/15_160.jpg', '../../images/testsets/Gallagher_small/29_553.jpg']\n",
        "Score: -0.1000 for 15 and 29 (Less than two matches)"
       ]
      },
      {
       "output_type": "stream",
       "stream": "stdout",
       "text": [
        "\n",
        "['../../images/testsets/Gallagher_small/15_160.jpg', '../../images/testsets/Gallagher_small/13_168.jpg']\n",
        "Score: -0.1000 for 15 and 13 (Less than two matches)"
       ]
      },
      {
       "output_type": "stream",
       "stream": "stdout",
       "text": [
        "\n",
        "['../../images/testsets/Gallagher_small/15_160.jpg', '../../images/testsets/Gallagher_small/28_552.jpg']\n",
        "Score: -0.1000 for 15 and 28 (Less than two matches)"
       ]
      },
      {
       "output_type": "stream",
       "stream": "stdout",
       "text": [
        "\n",
        "['../../images/testsets/Gallagher_small/15_160.jpg', '../../images/testsets/Gallagher_small/13_145.jpg']\n",
        "Score: -0.1000 for 15 and 13 (Less than two matches)"
       ]
      },
      {
       "output_type": "stream",
       "stream": "stdout",
       "text": [
        "\n",
        "['../../images/testsets/Gallagher_small/15_160.jpg', '../../images/testsets/Gallagher_small/14_207.jpg']\n",
        "Score: -0.1000 for 15 and 14 (Less than two matches)"
       ]
      },
      {
       "output_type": "stream",
       "stream": "stdout",
       "text": [
        "\n",
        "['../../images/testsets/Gallagher_small/15_160.jpg', '../../images/testsets/Gallagher_small/14_150.jpg']\n",
        "Score: -0.1000 for 15 and 14 (Less than two matches)"
       ]
      },
      {
       "output_type": "stream",
       "stream": "stdout",
       "text": [
        "\n",
        "['../../images/testsets/Gallagher_small/15_160.jpg', '../../images/testsets/Gallagher_small/27_566.jpg']\n",
        "Score: -0.1000 for 15 and 27 (Less than two matches)"
       ]
      },
      {
       "output_type": "stream",
       "stream": "stdout",
       "text": [
        "\n",
        "['../../images/testsets/Gallagher_small/15_160.jpg', '../../images/testsets/Gallagher_small/17_183.jpg']\n",
        "Score: 0.0659 for 15 and 17"
       ]
      },
      {
       "output_type": "stream",
       "stream": "stdout",
       "text": [
        "\n",
        "['../../images/testsets/Gallagher_small/15_160.jpg', '../../images/testsets/Gallagher_small/19_187.jpg']\n",
        "Score: 0.0695 for 15 and 19"
       ]
      },
      {
       "output_type": "stream",
       "stream": "stdout",
       "text": [
        "\n",
        "['../../images/testsets/Gallagher_small/15_160.jpg', '../../images/testsets/Gallagher_small/31_580.jpg']\n",
        "Score: -0.1000 for 15 and 31 (Less than two matches)"
       ]
      },
      {
       "output_type": "stream",
       "stream": "stdout",
       "text": [
        "\n",
        "['../../images/testsets/Gallagher_small/15_160.jpg', '../../images/testsets/Gallagher_small/21_872.jpg']\n",
        "Score: -0.1000 for 15 and 21 (Less than two matches)"
       ]
      },
      {
       "output_type": "stream",
       "stream": "stdout",
       "text": [
        "\n",
        "['../../images/testsets/Gallagher_small/15_160.jpg', '../../images/testsets/Gallagher_small/23_307.jpg']\n",
        "Score: 0.0484 for 15 and 23"
       ]
      },
      {
       "output_type": "stream",
       "stream": "stdout",
       "text": [
        "\n",
        "['../../images/testsets/Gallagher_small/15_160.jpg', '../../images/testsets/Gallagher_small/25_462.jpg']\n",
        "Score: -0.1000 for 15 and 25 (Less than two matches)"
       ]
      },
      {
       "output_type": "stream",
       "stream": "stdout",
       "text": [
        "\n",
        "['../../images/testsets/Gallagher_small/15_160.jpg', '../../images/testsets/Gallagher_small/23_534.jpg']\n",
        "Score: -0.1000 for 15 and 23 (Less than two matches)"
       ]
      },
      {
       "output_type": "stream",
       "stream": "stdout",
       "text": [
        "\n",
        "['../../images/testsets/Gallagher_small/15_160.jpg', '../../images/testsets/Gallagher_small/31_582.jpg']\n",
        "Score: 0.0626 for 15 and 31"
       ]
      },
      {
       "output_type": "stream",
       "stream": "stdout",
       "text": [
        "\n",
        "['../../images/testsets/Gallagher_small/15_160.jpg', '../../images/testsets/Gallagher_small/15_224.jpg']\n",
        "Score: -0.1000 for 15 and 15 (Less than two matches)"
       ]
      },
      {
       "output_type": "stream",
       "stream": "stdout",
       "text": [
        "\n",
        "['../../images/testsets/Gallagher_small/15_160.jpg', '../../images/testsets/Gallagher_small/23_508.jpg']\n",
        "Score: -0.1000 for 15 and 23 (Less than two matches)"
       ]
      },
      {
       "output_type": "stream",
       "stream": "stdout",
       "text": [
        "\n",
        "['../../images/testsets/Gallagher_small/15_160.jpg', '../../images/testsets/Gallagher_small/18_220.jpg']\n",
        "Score: -0.1000 for 15 and 18 (Less than two matches)"
       ]
      },
      {
       "output_type": "stream",
       "stream": "stdout",
       "text": [
        "\n",
        "['../../images/testsets/Gallagher_small/15_160.jpg', '../../images/testsets/Gallagher_small/15_151.jpg']\n",
        "Score: -0.1000 for 15 and 15 (Less than two matches)"
       ]
      },
      {
       "output_type": "stream",
       "stream": "stdout",
       "text": [
        "\n",
        "['../../images/testsets/Gallagher_small/15_160.jpg', '../../images/testsets/Gallagher_small/16_182.jpg']\n",
        "Score: -0.1000 for 15 and 16 (Less than two matches)"
       ]
      },
      {
       "output_type": "stream",
       "stream": "stdout",
       "text": [
        "\n",
        "['../../images/testsets/Gallagher_small/15_160.jpg', '../../images/testsets/Gallagher_small/23_875.jpg']\n",
        "Score: -0.1000 for 15 and 23 (Less than two matches)"
       ]
      },
      {
       "output_type": "stream",
       "stream": "stdout",
       "text": [
        "\n",
        "['../../images/testsets/Gallagher_small/15_160.jpg', '../../images/testsets/Gallagher_small/23_549.jpg']\n",
        "Score: 0.1063 for 15 and 23"
       ]
      },
      {
       "output_type": "stream",
       "stream": "stdout",
       "text": [
        "\n",
        "['../../images/testsets/Gallagher_small/15_160.jpg', '../../images/testsets/Gallagher_small/32_648.jpg']\n",
        "Score: -0.1000 for 15 and 32 (Less than two matches)"
       ]
      },
      {
       "output_type": "stream",
       "stream": "stdout",
       "text": [
        "\n",
        "['../../images/testsets/Gallagher_small/15_160.jpg', '../../images/testsets/Gallagher_small/15_171.jpg']\n",
        "Score: -0.1000 for 15 and 15 (Less than two matches)"
       ]
      },
      {
       "output_type": "stream",
       "stream": "stdout",
       "text": [
        "\n",
        "['../../images/testsets/Gallagher_small/15_160.jpg', '../../images/testsets/Gallagher_small/24_358.jpg']\n",
        "Score: -0.1000 for 15 and 24 (Less than two matches)"
       ]
      },
      {
       "output_type": "stream",
       "stream": "stdout",
       "text": [
        "\n",
        "['../../images/testsets/Gallagher_small/15_160.jpg', '../../images/testsets/Gallagher_small/25_458.jpg']\n",
        "Score: -0.1000 for 15 and 25 (Less than two matches)"
       ]
      },
      {
       "output_type": "stream",
       "stream": "stdout",
       "text": [
        "\n",
        "['../../images/testsets/Gallagher_small/15_160.jpg', '../../images/testsets/Gallagher_small/30_569.jpg']\n",
        "Score: -0.1000 for 15 and 30 (Less than two matches)"
       ]
      },
      {
       "output_type": "stream",
       "stream": "stdout",
       "text": [
        "\n",
        "['../../images/testsets/Gallagher_small/15_160.jpg', '../../images/testsets/Gallagher_small/32_645.jpg']\n",
        "Score: -0.1000 for 15 and 32 (Less than two matches)"
       ]
      },
      {
       "output_type": "stream",
       "stream": "stdout",
       "text": [
        "\n",
        "['../../images/testsets/Gallagher_small/15_160.jpg', '../../images/testsets/Gallagher_small/29_538.jpg']\n",
        "Score: -0.1000 for 15 and 29 (Less than two matches)"
       ]
      },
      {
       "output_type": "stream",
       "stream": "stdout",
       "text": [
        "\n",
        "['../../images/testsets/Gallagher_small/15_160.jpg', '../../images/testsets/Gallagher_small/21_251.jpg']\n",
        "Score: 0.0372 for 15 and 21"
       ]
      },
      {
       "output_type": "stream",
       "stream": "stdout",
       "text": [
        "\n",
        "['../../images/testsets/Gallagher_small/15_160.jpg', '../../images/testsets/Gallagher_small/20_249.jpg']\n",
        "Score: -0.1000 for 15 and 20 (Less than two matches)"
       ]
      },
      {
       "output_type": "stream",
       "stream": "stdout",
       "text": [
        "\n",
        "['../../images/testsets/Gallagher_small/15_160.jpg', '../../images/testsets/Gallagher_small/15_181.jpg']\n",
        "Score: -0.1000 for 15 and 15 (Less than two matches)"
       ]
      },
      {
       "output_type": "stream",
       "stream": "stdout",
       "text": [
        "\n",
        "['../../images/testsets/Gallagher_small/15_160.jpg', '../../images/testsets/Gallagher_small/15_158.jpg']\n",
        "Score: -0.1000 for 15 and 15 (Less than two matches)"
       ]
      },
      {
       "output_type": "stream",
       "stream": "stdout",
       "text": [
        "\n",
        "['../../images/testsets/Gallagher_small/15_160.jpg', '../../images/testsets/Gallagher_small/19_195.jpg']\n",
        "Score: 0.0666 for 15 and 19"
       ]
      },
      {
       "output_type": "stream",
       "stream": "stdout",
       "text": [
        "\n",
        "['../../images/testsets/Gallagher_small/15_160.jpg', '../../images/testsets/Gallagher_small/19_193.jpg']\n",
        "Score: -0.1000 for 15 and 19 (Less than two matches)"
       ]
      },
      {
       "output_type": "stream",
       "stream": "stdout",
       "text": [
        "\n",
        "['../../images/testsets/Gallagher_small/15_160.jpg', '../../images/testsets/Gallagher_small/21_287.jpg']\n",
        "Score: 0.1051 for 15 and 21"
       ]
      },
      {
       "output_type": "stream",
       "stream": "stdout",
       "text": [
        "\n",
        "['../../images/testsets/Gallagher_small/15_160.jpg', '../../images/testsets/Gallagher_small/26_565.jpg']\n",
        "Score: 0.0654 for 15 and 26"
       ]
      },
      {
       "output_type": "stream",
       "stream": "stdout",
       "text": [
        "\n",
        "['../../images/testsets/Gallagher_small/15_160.jpg', '../../images/testsets/Gallagher_small/27_509.jpg']\n",
        "Score: -0.1226 for 15 and 27"
       ]
      },
      {
       "output_type": "stream",
       "stream": "stdout",
       "text": [
        "\n",
        "['../../images/testsets/Gallagher_small/15_160.jpg', '../../images/testsets/Gallagher_small/15_169.jpg']\n",
        "Score: -0.1000 for 15 and 15 (Less than two matches)"
       ]
      },
      {
       "output_type": "stream",
       "stream": "stdout",
       "text": [
        "\n",
        "['../../images/testsets/Gallagher_small/15_160.jpg', '../../images/testsets/Gallagher_small/15_167.jpg']\n",
        "Score: 0.0597 for 15 and 15"
       ]
      },
      {
       "output_type": "stream",
       "stream": "stdout",
       "text": [
        "\n",
        "['../../images/testsets/Gallagher_small/15_160.jpg', '../../images/testsets/Gallagher_small/21_587.jpg']\n",
        "Score: -0.1000 for 15 and 21 (Less than two matches)"
       ]
      },
      {
       "output_type": "stream",
       "stream": "stdout",
       "text": [
        "\n",
        "['../../images/testsets/Gallagher_small/15_160.jpg', '../../images/testsets/Gallagher_small/15_222.jpg']\n",
        "Score: -0.1000 for 15 and 15 (Less than two matches)"
       ]
      },
      {
       "output_type": "stream",
       "stream": "stdout",
       "text": [
        "\n",
        "['../../images/testsets/Gallagher_small/15_160.jpg', '../../images/testsets/Gallagher_small/16_178.jpg']\n",
        "Score: -0.1000 for 15 and 16 (Less than two matches)"
       ]
      },
      {
       "output_type": "stream",
       "stream": "stdout",
       "text": [
        "\n",
        "['../../images/testsets/Gallagher_small/15_160.jpg', '../../images/testsets/Gallagher_small/17_165.jpg']\n",
        "Score: -0.1000 for 15 and 17 (Less than two matches)"
       ]
      },
      {
       "output_type": "stream",
       "stream": "stdout",
       "text": [
        "\n",
        "['../../images/testsets/Gallagher_small/15_160.jpg', '../../images/testsets/Gallagher_small/28_537.jpg']\n",
        "Score: -0.1000 for 15 and 28 (Less than two matches)"
       ]
      },
      {
       "output_type": "stream",
       "stream": "stdout",
       "text": [
        "\n",
        "['../../images/testsets/Gallagher_small/15_160.jpg', '../../images/testsets/Gallagher_small/27_524.jpg']\n",
        "Score: -0.0341 for 15 and 27"
       ]
      },
      {
       "output_type": "stream",
       "stream": "stdout",
       "text": [
        "\n",
        "['../../images/testsets/Gallagher_small/15_160.jpg', '../../images/testsets/Gallagher_small/13_163.jpg']\n",
        "Score: -0.1000 for 15 and 13 (Less than two matches)"
       ]
      },
      {
       "output_type": "stream",
       "stream": "stdout",
       "text": [
        "\n",
        "['../../images/testsets/Gallagher_small/15_160.jpg', '../../images/testsets/Gallagher_small/23_302.jpg']\n",
        "Score: 0.0775 for 15 and 23"
       ]
      },
      {
       "output_type": "stream",
       "stream": "stdout",
       "text": [
        "\n",
        "['../../images/testsets/Gallagher_small/14_180.jpg', '../../images/testsets/Gallagher_small/25_694.jpg']\n",
        "Score: -0.1000 for 14 and 25 (Less than two matches)"
       ]
      },
      {
       "output_type": "stream",
       "stream": "stdout",
       "text": [
        "\n",
        "['../../images/testsets/Gallagher_small/14_180.jpg', '../../images/testsets/Gallagher_small/25_696.jpg']\n",
        "Score: -0.1000 for 14 and 25 (Less than two matches)"
       ]
      },
      {
       "output_type": "stream",
       "stream": "stdout",
       "text": [
        "\n",
        "['../../images/testsets/Gallagher_small/14_180.jpg', '../../images/testsets/Gallagher_small/32_639.jpg']\n",
        "Score: -0.0573 for 14 and 32"
       ]
      },
      {
       "output_type": "stream",
       "stream": "stdout",
       "text": [
        "\n",
        "['../../images/testsets/Gallagher_small/14_180.jpg', '../../images/testsets/Gallagher_small/30_554.jpg']\n",
        "Score: -0.1000 for 14 and 30 (Less than two matches)"
       ]
      },
      {
       "output_type": "stream",
       "stream": "stdout",
       "text": [
        "\n",
        "['../../images/testsets/Gallagher_small/14_180.jpg', '../../images/testsets/Gallagher_small/28_525.jpg']\n",
        "Score: 0.0036 for 14 and 28"
       ]
      },
      {
       "output_type": "stream",
       "stream": "stdout",
       "text": [
        "\n",
        "['../../images/testsets/Gallagher_small/14_180.jpg', '../../images/testsets/Gallagher_small/30_539.jpg']\n",
        "Score: -0.1000 for 14 and 30 (Less than two matches)"
       ]
      },
      {
       "output_type": "stream",
       "stream": "stdout",
       "text": [
        "\n",
        "['../../images/testsets/Gallagher_small/14_180.jpg', '../../images/testsets/Gallagher_small/26_550.jpg']\n",
        "Score: -0.1000 for 14 and 26 (Less than two matches)"
       ]
      },
      {
       "output_type": "stream",
       "stream": "stdout",
       "text": [
        "\n",
        "['../../images/testsets/Gallagher_small/14_180.jpg', '../../images/testsets/Gallagher_small/15_170.jpg']\n",
        "Score: -0.1000 for 14 and 15 (Less than two matches)"
       ]
      },
      {
       "output_type": "stream",
       "stream": "stdout",
       "text": [
        "\n",
        "['../../images/testsets/Gallagher_small/14_180.jpg', '../../images/testsets/Gallagher_small/21_293.jpg']\n",
        "Score: 0.0726 for 14 and 21"
       ]
      },
      {
       "output_type": "stream",
       "stream": "stdout",
       "text": [
        "\n",
        "['../../images/testsets/Gallagher_small/14_180.jpg', '../../images/testsets/Gallagher_small/24_379.jpg']\n",
        "Score: 0.0576 for 14 and 24"
       ]
      },
      {
       "output_type": "stream",
       "stream": "stdout",
       "text": [
        "\n",
        "['../../images/testsets/Gallagher_small/14_180.jpg', '../../images/testsets/Gallagher_small/17_212.jpg']\n",
        "Score: -0.0302 for 14 and 17"
       ]
      },
      {
       "output_type": "stream",
       "stream": "stdout",
       "text": [
        "\n",
        "['../../images/testsets/Gallagher_small/14_180.jpg', '../../images/testsets/Gallagher_small/14_699.jpg']\n",
        "Score: 0.0884 for 14 and 14"
       ]
      },
      {
       "output_type": "stream",
       "stream": "stdout",
       "text": [
        "\n",
        "['../../images/testsets/Gallagher_small/14_180.jpg', '../../images/testsets/Gallagher_small/28_567.jpg']\n",
        "Score: 0.0190 for 14 and 28"
       ]
      },
      {
       "output_type": "stream",
       "stream": "stdout",
       "text": [
        "\n",
        "['../../images/testsets/Gallagher_small/14_180.jpg', '../../images/testsets/Gallagher_small/27_551.jpg']\n",
        "Score: 0.0752 for 14 and 27"
       ]
      },
      {
       "output_type": "stream",
       "stream": "stdout",
       "text": [
        "\n",
        "['../../images/testsets/Gallagher_small/14_180.jpg', '../../images/testsets/Gallagher_small/22_254.jpg']\n",
        "Score: -0.1000 for 14 and 22 (Less than two matches)"
       ]
      },
      {
       "output_type": "stream",
       "stream": "stdout",
       "text": [
        "\n",
        "['../../images/testsets/Gallagher_small/14_180.jpg', '../../images/testsets/Gallagher_small/29_568.jpg']\n",
        "Score: 0.0204 for 14 and 29"
       ]
      },
      {
       "output_type": "stream",
       "stream": "stdout",
       "text": [
        "\n",
        "['../../images/testsets/Gallagher_small/14_180.jpg', '../../images/testsets/Gallagher_small/15_154.jpg']\n",
        "Score: 0.0646 for 14 and 15"
       ]
      },
      {
       "output_type": "stream",
       "stream": "stdout",
       "text": [
        "\n",
        "['../../images/testsets/Gallagher_small/14_180.jpg', '../../images/testsets/Gallagher_small/25_431.jpg']\n",
        "Score: 0.0232 for 14 and 25"
       ]
      },
      {
       "output_type": "stream",
       "stream": "stdout",
       "text": [
        "\n",
        "['../../images/testsets/Gallagher_small/14_180.jpg', '../../images/testsets/Gallagher_small/23_305.jpg']\n",
        "Score: 0.0378 for 14 and 23"
       ]
      },
      {
       "output_type": "stream",
       "stream": "stdout",
       "text": [
        "\n",
        "['../../images/testsets/Gallagher_small/14_180.jpg', '../../images/testsets/Gallagher_small/16_164.jpg']\n",
        "Score: -0.0411 for 14 and 16"
       ]
      },
      {
       "output_type": "stream",
       "stream": "stdout",
       "text": [
        "\n",
        "['../../images/testsets/Gallagher_small/14_180.jpg', '../../images/testsets/Gallagher_small/18_166.jpg']\n",
        "Score: 0.0044 for 14 and 18"
       ]
      },
      {
       "output_type": "stream",
       "stream": "stdout",
       "text": [
        "\n",
        "['../../images/testsets/Gallagher_small/14_180.jpg', '../../images/testsets/Gallagher_small/25_770.jpg']\n",
        "Score: -0.1000 for 14 and 25 (Less than two matches)"
       ]
      },
      {
       "output_type": "stream",
       "stream": "stdout",
       "text": [
        "\n",
        "['../../images/testsets/Gallagher_small/14_180.jpg', '../../images/testsets/Gallagher_small/32_642.jpg']\n",
        "Score: 0.0693 for 14 and 32"
       ]
      },
      {
       "output_type": "stream",
       "stream": "stdout",
       "text": [
        "\n",
        "['../../images/testsets/Gallagher_small/14_180.jpg', '../../images/testsets/Gallagher_small/19_198.jpg']\n",
        "Score: 0.0552 for 14 and 19"
       ]
      },
      {
       "output_type": "stream",
       "stream": "stdout",
       "text": [
        "\n",
        "['../../images/testsets/Gallagher_small/14_180.jpg', '../../images/testsets/Gallagher_small/21_294.jpg']\n",
        "Score: 0.0519 for 14 and 21"
       ]
      },
      {
       "output_type": "stream",
       "stream": "stdout",
       "text": [
        "\n",
        "['../../images/testsets/Gallagher_small/14_180.jpg', '../../images/testsets/Gallagher_small/14_206.jpg']\n",
        "Score: 0.0624 for 14 and 14"
       ]
      },
      {
       "output_type": "stream",
       "stream": "stdout",
       "text": [
        "\n",
        "['../../images/testsets/Gallagher_small/14_180.jpg', '../../images/testsets/Gallagher_small/26_535.jpg']\n",
        "Score: -0.1000 for 14 and 26 (Less than two matches)"
       ]
      },
      {
       "output_type": "stream",
       "stream": "stdout",
       "text": [
        "\n",
        "['../../images/testsets/Gallagher_small/14_180.jpg', '../../images/testsets/Gallagher_small/22_255.jpg']\n",
        "Score: -0.1000 for 14 and 22 (Less than two matches)"
       ]
      },
      {
       "output_type": "stream",
       "stream": "stdout",
       "text": [
        "\n",
        "['../../images/testsets/Gallagher_small/14_180.jpg', '../../images/testsets/Gallagher_small/29_553.jpg']\n",
        "Score: -0.1000 for 14 and 29 (Less than two matches)"
       ]
      },
      {
       "output_type": "stream",
       "stream": "stdout",
       "text": [
        "\n",
        "['../../images/testsets/Gallagher_small/14_180.jpg', '../../images/testsets/Gallagher_small/13_168.jpg']\n",
        "Score: -0.1000 for 14 and 13 (Less than two matches)"
       ]
      },
      {
       "output_type": "stream",
       "stream": "stdout",
       "text": [
        "\n",
        "['../../images/testsets/Gallagher_small/14_180.jpg', '../../images/testsets/Gallagher_small/28_552.jpg']\n",
        "Score: -0.1000 for 14 and 28 (Less than two matches)"
       ]
      },
      {
       "output_type": "stream",
       "stream": "stdout",
       "text": [
        "\n",
        "['../../images/testsets/Gallagher_small/14_180.jpg', '../../images/testsets/Gallagher_small/13_145.jpg']\n",
        "Score: -0.1000 for 14 and 13 (Less than two matches)"
       ]
      },
      {
       "output_type": "stream",
       "stream": "stdout",
       "text": [
        "\n",
        "['../../images/testsets/Gallagher_small/14_180.jpg', '../../images/testsets/Gallagher_small/14_207.jpg']\n",
        "Score: 0.0385 for 14 and 14"
       ]
      },
      {
       "output_type": "stream",
       "stream": "stdout",
       "text": [
        "\n",
        "['../../images/testsets/Gallagher_small/14_180.jpg', '../../images/testsets/Gallagher_small/14_150.jpg']\n",
        "Score: 0.1266 for 14 and 14"
       ]
      },
      {
       "output_type": "stream",
       "stream": "stdout",
       "text": [
        "\n",
        "['../../images/testsets/Gallagher_small/14_180.jpg', '../../images/testsets/Gallagher_small/27_566.jpg']\n",
        "Score: 0.0321 for 14 and 27"
       ]
      },
      {
       "output_type": "stream",
       "stream": "stdout",
       "text": [
        "\n",
        "['../../images/testsets/Gallagher_small/14_180.jpg', '../../images/testsets/Gallagher_small/17_183.jpg']\n",
        "Score: 0.0676 for 14 and 17"
       ]
      },
      {
       "output_type": "stream",
       "stream": "stdout",
       "text": [
        "\n",
        "['../../images/testsets/Gallagher_small/14_180.jpg', '../../images/testsets/Gallagher_small/19_187.jpg']\n",
        "Score: -0.1000 for 14 and 19 (Less than two matches)"
       ]
      },
      {
       "output_type": "stream",
       "stream": "stdout",
       "text": [
        "\n",
        "['../../images/testsets/Gallagher_small/14_180.jpg', '../../images/testsets/Gallagher_small/31_580.jpg']\n",
        "Score: -0.1000 for 14 and 31 (Less than two matches)"
       ]
      },
      {
       "output_type": "stream",
       "stream": "stdout",
       "text": [
        "\n",
        "['../../images/testsets/Gallagher_small/14_180.jpg', '../../images/testsets/Gallagher_small/21_872.jpg']\n",
        "Score: -0.1000 for 14 and 21 (Less than two matches)"
       ]
      },
      {
       "output_type": "stream",
       "stream": "stdout",
       "text": [
        "\n",
        "['../../images/testsets/Gallagher_small/14_180.jpg', '../../images/testsets/Gallagher_small/23_307.jpg']\n",
        "Score: 0.0696 for 14 and 23"
       ]
      },
      {
       "output_type": "stream",
       "stream": "stdout",
       "text": [
        "\n",
        "['../../images/testsets/Gallagher_small/14_180.jpg', '../../images/testsets/Gallagher_small/25_462.jpg']\n",
        "Score: -0.1000 for 14 and 25 (Less than two matches)"
       ]
      },
      {
       "output_type": "stream",
       "stream": "stdout",
       "text": [
        "\n",
        "['../../images/testsets/Gallagher_small/14_180.jpg', '../../images/testsets/Gallagher_small/23_534.jpg']\n",
        "Score: -0.1000 for 14 and 23 (Less than two matches)"
       ]
      },
      {
       "output_type": "stream",
       "stream": "stdout",
       "text": [
        "\n",
        "['../../images/testsets/Gallagher_small/14_180.jpg', '../../images/testsets/Gallagher_small/31_582.jpg']\n",
        "Score: -0.1000 for 14 and 31 (Less than two matches)"
       ]
      },
      {
       "output_type": "stream",
       "stream": "stdout",
       "text": [
        "\n",
        "['../../images/testsets/Gallagher_small/14_180.jpg', '../../images/testsets/Gallagher_small/15_224.jpg']\n",
        "Score: 0.0460 for 14 and 15"
       ]
      },
      {
       "output_type": "stream",
       "stream": "stdout",
       "text": [
        "\n",
        "['../../images/testsets/Gallagher_small/14_180.jpg', '../../images/testsets/Gallagher_small/23_508.jpg']\n",
        "Score: 0.0839 for 14 and 23"
       ]
      },
      {
       "output_type": "stream",
       "stream": "stdout",
       "text": [
        "\n",
        "['../../images/testsets/Gallagher_small/14_180.jpg', '../../images/testsets/Gallagher_small/18_220.jpg']\n",
        "Score: -0.1000 for 14 and 18 (Less than two matches)"
       ]
      },
      {
       "output_type": "stream",
       "stream": "stdout",
       "text": [
        "\n",
        "['../../images/testsets/Gallagher_small/14_180.jpg', '../../images/testsets/Gallagher_small/15_151.jpg']\n",
        "Score: 0.0752 for 14 and 15"
       ]
      },
      {
       "output_type": "stream",
       "stream": "stdout",
       "text": [
        "\n",
        "['../../images/testsets/Gallagher_small/14_180.jpg', '../../images/testsets/Gallagher_small/16_182.jpg']\n",
        "Score: 0.0423 for 14 and 16"
       ]
      },
      {
       "output_type": "stream",
       "stream": "stdout",
       "text": [
        "\n",
        "['../../images/testsets/Gallagher_small/14_180.jpg', '../../images/testsets/Gallagher_small/23_875.jpg']\n",
        "Score: -0.1000 for 14 and 23 (Less than two matches)"
       ]
      },
      {
       "output_type": "stream",
       "stream": "stdout",
       "text": [
        "\n",
        "['../../images/testsets/Gallagher_small/14_180.jpg', '../../images/testsets/Gallagher_small/23_549.jpg']\n",
        "Score: -0.1000 for 14 and 23 (Less than two matches)"
       ]
      },
      {
       "output_type": "stream",
       "stream": "stdout",
       "text": [
        "\n",
        "['../../images/testsets/Gallagher_small/14_180.jpg', '../../images/testsets/Gallagher_small/32_648.jpg']\n",
        "Score: -0.1000 for 14 and 32 (Less than two matches)"
       ]
      },
      {
       "output_type": "stream",
       "stream": "stdout",
       "text": [
        "\n",
        "['../../images/testsets/Gallagher_small/14_180.jpg', '../../images/testsets/Gallagher_small/15_171.jpg']\n",
        "Score: 0.0312 for 14 and 15"
       ]
      },
      {
       "output_type": "stream",
       "stream": "stdout",
       "text": [
        "\n",
        "['../../images/testsets/Gallagher_small/14_180.jpg', '../../images/testsets/Gallagher_small/24_358.jpg']\n",
        "Score: 0.0442 for 14 and 24"
       ]
      },
      {
       "output_type": "stream",
       "stream": "stdout",
       "text": [
        "\n",
        "['../../images/testsets/Gallagher_small/14_180.jpg', '../../images/testsets/Gallagher_small/25_458.jpg']\n",
        "Score: -0.1000 for 14 and 25 (Less than two matches)"
       ]
      },
      {
       "output_type": "stream",
       "stream": "stdout",
       "text": [
        "\n",
        "['../../images/testsets/Gallagher_small/14_180.jpg', '../../images/testsets/Gallagher_small/30_569.jpg']\n",
        "Score: 0.0390 for 14 and 30"
       ]
      },
      {
       "output_type": "stream",
       "stream": "stdout",
       "text": [
        "\n",
        "['../../images/testsets/Gallagher_small/14_180.jpg', '../../images/testsets/Gallagher_small/32_645.jpg']\n",
        "Score: -0.0016 for 14 and 32"
       ]
      },
      {
       "output_type": "stream",
       "stream": "stdout",
       "text": [
        "\n",
        "['../../images/testsets/Gallagher_small/14_180.jpg', '../../images/testsets/Gallagher_small/29_538.jpg']\n",
        "Score: -0.1000 for 14 and 29 (Less than two matches)"
       ]
      },
      {
       "output_type": "stream",
       "stream": "stdout",
       "text": [
        "\n",
        "['../../images/testsets/Gallagher_small/14_180.jpg', '../../images/testsets/Gallagher_small/21_251.jpg']\n",
        "Score: 0.0523 for 14 and 21"
       ]
      },
      {
       "output_type": "stream",
       "stream": "stdout",
       "text": [
        "\n",
        "['../../images/testsets/Gallagher_small/14_180.jpg', '../../images/testsets/Gallagher_small/20_249.jpg']\n",
        "Score: -0.1000 for 14 and 20 (Less than two matches)"
       ]
      },
      {
       "output_type": "stream",
       "stream": "stdout",
       "text": [
        "\n",
        "['../../images/testsets/Gallagher_small/14_180.jpg', '../../images/testsets/Gallagher_small/15_181.jpg']\n",
        "Score: 0.0423 for 14 and 15"
       ]
      },
      {
       "output_type": "stream",
       "stream": "stdout",
       "text": [
        "\n",
        "['../../images/testsets/Gallagher_small/14_180.jpg', '../../images/testsets/Gallagher_small/15_158.jpg']\n",
        "Score: 0.0674 for 14 and 15"
       ]
      },
      {
       "output_type": "stream",
       "stream": "stdout",
       "text": [
        "\n",
        "['../../images/testsets/Gallagher_small/14_180.jpg', '../../images/testsets/Gallagher_small/19_195.jpg']\n",
        "Score: 0.0767 for 14 and 19"
       ]
      },
      {
       "output_type": "stream",
       "stream": "stdout",
       "text": [
        "\n",
        "['../../images/testsets/Gallagher_small/14_180.jpg', '../../images/testsets/Gallagher_small/19_193.jpg']\n",
        "Score: -0.1000 for 14 and 19 (Less than two matches)"
       ]
      },
      {
       "output_type": "stream",
       "stream": "stdout",
       "text": [
        "\n",
        "['../../images/testsets/Gallagher_small/14_180.jpg', '../../images/testsets/Gallagher_small/21_287.jpg']\n",
        "Score: 0.0806 for 14 and 21"
       ]
      },
      {
       "output_type": "stream",
       "stream": "stdout",
       "text": [
        "\n",
        "['../../images/testsets/Gallagher_small/14_180.jpg', '../../images/testsets/Gallagher_small/26_565.jpg']\n",
        "Score: 0.0691 for 14 and 26"
       ]
      },
      {
       "output_type": "stream",
       "stream": "stdout",
       "text": [
        "\n",
        "['../../images/testsets/Gallagher_small/14_180.jpg', '../../images/testsets/Gallagher_small/27_509.jpg']\n",
        "Score: 0.0591 for 14 and 27"
       ]
      },
      {
       "output_type": "stream",
       "stream": "stdout",
       "text": [
        "\n",
        "['../../images/testsets/Gallagher_small/14_180.jpg', '../../images/testsets/Gallagher_small/15_169.jpg']\n",
        "Score: -0.1000 for 14 and 15 (Less than two matches)"
       ]
      },
      {
       "output_type": "stream",
       "stream": "stdout",
       "text": [
        "\n",
        "['../../images/testsets/Gallagher_small/14_180.jpg', '../../images/testsets/Gallagher_small/15_167.jpg']\n",
        "Score: 0.0693 for 14 and 15"
       ]
      },
      {
       "output_type": "stream",
       "stream": "stdout",
       "text": [
        "\n",
        "['../../images/testsets/Gallagher_small/14_180.jpg', '../../images/testsets/Gallagher_small/21_587.jpg']\n",
        "Score: -0.0972 for 14 and 21"
       ]
      },
      {
       "output_type": "stream",
       "stream": "stdout",
       "text": [
        "\n",
        "['../../images/testsets/Gallagher_small/14_180.jpg', '../../images/testsets/Gallagher_small/15_222.jpg']\n",
        "Score: -0.1000 for 14 and 15 (Less than two matches)"
       ]
      },
      {
       "output_type": "stream",
       "stream": "stdout",
       "text": [
        "\n",
        "['../../images/testsets/Gallagher_small/14_180.jpg', '../../images/testsets/Gallagher_small/16_178.jpg']\n",
        "Score: -0.1000 for 14 and 16 (Less than two matches)"
       ]
      },
      {
       "output_type": "stream",
       "stream": "stdout",
       "text": [
        "\n",
        "['../../images/testsets/Gallagher_small/14_180.jpg', '../../images/testsets/Gallagher_small/17_165.jpg']\n",
        "Score: -0.1000 for 14 and 17 (Less than two matches)"
       ]
      },
      {
       "output_type": "stream",
       "stream": "stdout",
       "text": [
        "\n",
        "['../../images/testsets/Gallagher_small/14_180.jpg', '../../images/testsets/Gallagher_small/28_537.jpg']\n",
        "Score: -0.1000 for 14 and 28 (Less than two matches)"
       ]
      },
      {
       "output_type": "stream",
       "stream": "stdout",
       "text": [
        "\n",
        "['../../images/testsets/Gallagher_small/14_180.jpg', '../../images/testsets/Gallagher_small/27_524.jpg']\n",
        "Score: 0.0984 for 14 and 27"
       ]
      },
      {
       "output_type": "stream",
       "stream": "stdout",
       "text": [
        "\n",
        "['../../images/testsets/Gallagher_small/14_180.jpg', '../../images/testsets/Gallagher_small/13_163.jpg']\n",
        "Score: -0.1000 for 14 and 13 (Less than two matches)"
       ]
      },
      {
       "output_type": "stream",
       "stream": "stdout",
       "text": [
        "\n",
        "['../../images/testsets/Gallagher_small/14_180.jpg', '../../images/testsets/Gallagher_small/23_302.jpg']\n",
        "Score: 0.0544 for 14 and 23"
       ]
      },
      {
       "output_type": "stream",
       "stream": "stdout",
       "text": [
        "\n",
        "['../../images/testsets/Gallagher_small/25_694.jpg', '../../images/testsets/Gallagher_small/25_696.jpg']\n",
        "Score: 0.0756 for 25 and 25"
       ]
      },
      {
       "output_type": "stream",
       "stream": "stdout",
       "text": [
        "\n",
        "['../../images/testsets/Gallagher_small/25_694.jpg', '../../images/testsets/Gallagher_small/32_639.jpg']\n",
        "Score: -0.0357 for 25 and 32"
       ]
      },
      {
       "output_type": "stream",
       "stream": "stdout",
       "text": [
        "\n",
        "['../../images/testsets/Gallagher_small/25_694.jpg', '../../images/testsets/Gallagher_small/30_554.jpg']\n",
        "Score: 0.0383 for 25 and 30"
       ]
      },
      {
       "output_type": "stream",
       "stream": "stdout",
       "text": [
        "\n",
        "['../../images/testsets/Gallagher_small/25_694.jpg', '../../images/testsets/Gallagher_small/28_525.jpg']\n",
        "Score: 0.0419 for 25 and 28"
       ]
      },
      {
       "output_type": "stream",
       "stream": "stdout",
       "text": [
        "\n",
        "['../../images/testsets/Gallagher_small/25_694.jpg', '../../images/testsets/Gallagher_small/30_539.jpg']\n",
        "Score: -0.1000 for 25 and 30 (Less than two matches)"
       ]
      },
      {
       "output_type": "stream",
       "stream": "stdout",
       "text": [
        "\n",
        "['../../images/testsets/Gallagher_small/25_694.jpg', '../../images/testsets/Gallagher_small/26_550.jpg']\n",
        "Score: 0.0124 for 25 and 26"
       ]
      },
      {
       "output_type": "stream",
       "stream": "stdout",
       "text": [
        "\n",
        "['../../images/testsets/Gallagher_small/25_694.jpg', '../../images/testsets/Gallagher_small/15_170.jpg']\n",
        "Score: 0.0660 for 25 and 15"
       ]
      },
      {
       "output_type": "stream",
       "stream": "stdout",
       "text": [
        "\n",
        "['../../images/testsets/Gallagher_small/25_694.jpg', '../../images/testsets/Gallagher_small/21_293.jpg']\n",
        "Score: -0.1000 for 25 and 21 (Less than two matches)"
       ]
      },
      {
       "output_type": "stream",
       "stream": "stdout",
       "text": [
        "\n",
        "['../../images/testsets/Gallagher_small/25_694.jpg', '../../images/testsets/Gallagher_small/24_379.jpg']\n",
        "Score: -0.1037 for 25 and 24"
       ]
      },
      {
       "output_type": "stream",
       "stream": "stdout",
       "text": [
        "\n",
        "['../../images/testsets/Gallagher_small/25_694.jpg', '../../images/testsets/Gallagher_small/17_212.jpg']\n",
        "Score: 0.0394 for 25 and 17"
       ]
      },
      {
       "output_type": "stream",
       "stream": "stdout",
       "text": [
        "\n",
        "['../../images/testsets/Gallagher_small/25_694.jpg', '../../images/testsets/Gallagher_small/14_699.jpg']\n",
        "Score: -0.1000 for 25 and 14 (Less than two matches)"
       ]
      },
      {
       "output_type": "stream",
       "stream": "stdout",
       "text": [
        "\n",
        "['../../images/testsets/Gallagher_small/25_694.jpg', '../../images/testsets/Gallagher_small/28_567.jpg']\n",
        "Score: 0.0425 for 25 and 28"
       ]
      },
      {
       "output_type": "stream",
       "stream": "stdout",
       "text": [
        "\n",
        "['../../images/testsets/Gallagher_small/25_694.jpg', '../../images/testsets/Gallagher_small/27_551.jpg']\n",
        "Score: -0.1000 for 25 and 27 (Less than two matches)"
       ]
      },
      {
       "output_type": "stream",
       "stream": "stdout",
       "text": [
        "\n",
        "['../../images/testsets/Gallagher_small/25_694.jpg', '../../images/testsets/Gallagher_small/22_254.jpg']\n",
        "Score: -0.1000 for 25 and 22 (Less than two matches)"
       ]
      },
      {
       "output_type": "stream",
       "stream": "stdout",
       "text": [
        "\n",
        "['../../images/testsets/Gallagher_small/25_694.jpg', '../../images/testsets/Gallagher_small/29_568.jpg']\n",
        "Score: 0.0750 for 25 and 29"
       ]
      },
      {
       "output_type": "stream",
       "stream": "stdout",
       "text": [
        "\n",
        "['../../images/testsets/Gallagher_small/25_694.jpg', '../../images/testsets/Gallagher_small/15_154.jpg']\n",
        "Score: 0.0186 for 25 and 15"
       ]
      },
      {
       "output_type": "stream",
       "stream": "stdout",
       "text": [
        "\n",
        "['../../images/testsets/Gallagher_small/25_694.jpg', '../../images/testsets/Gallagher_small/25_431.jpg']\n",
        "Score: 0.0446 for 25 and 25"
       ]
      },
      {
       "output_type": "stream",
       "stream": "stdout",
       "text": [
        "\n",
        "['../../images/testsets/Gallagher_small/25_694.jpg', '../../images/testsets/Gallagher_small/23_305.jpg']\n",
        "Score: 0.0815 for 25 and 23"
       ]
      },
      {
       "output_type": "stream",
       "stream": "stdout",
       "text": [
        "\n",
        "['../../images/testsets/Gallagher_small/25_694.jpg', '../../images/testsets/Gallagher_small/16_164.jpg']\n",
        "Score: 0.0727 for 25 and 16"
       ]
      },
      {
       "output_type": "stream",
       "stream": "stdout",
       "text": [
        "\n",
        "['../../images/testsets/Gallagher_small/25_694.jpg', '../../images/testsets/Gallagher_small/18_166.jpg']\n",
        "Score: 0.0321 for 25 and 18"
       ]
      },
      {
       "output_type": "stream",
       "stream": "stdout",
       "text": [
        "\n",
        "['../../images/testsets/Gallagher_small/25_694.jpg', '../../images/testsets/Gallagher_small/25_770.jpg']\n",
        "Score: -0.1000 for 25 and 25 (Less than two matches)"
       ]
      },
      {
       "output_type": "stream",
       "stream": "stdout",
       "text": [
        "\n",
        "['../../images/testsets/Gallagher_small/25_694.jpg', '../../images/testsets/Gallagher_small/32_642.jpg']\n",
        "Score: 0.0348 for 25 and 32"
       ]
      },
      {
       "output_type": "stream",
       "stream": "stdout",
       "text": [
        "\n",
        "['../../images/testsets/Gallagher_small/25_694.jpg', '../../images/testsets/Gallagher_small/19_198.jpg']\n",
        "Score: 0.0502 for 25 and 19"
       ]
      },
      {
       "output_type": "stream",
       "stream": "stdout",
       "text": [
        "\n",
        "['../../images/testsets/Gallagher_small/25_694.jpg', '../../images/testsets/Gallagher_small/21_294.jpg']\n",
        "Score: -0.1000 for 25 and 21 (Less than two matches)"
       ]
      },
      {
       "output_type": "stream",
       "stream": "stdout",
       "text": [
        "\n",
        "['../../images/testsets/Gallagher_small/25_694.jpg', '../../images/testsets/Gallagher_small/14_206.jpg']\n",
        "Score: -0.1000 for 25 and 14 (Less than two matches)"
       ]
      },
      {
       "output_type": "stream",
       "stream": "stdout",
       "text": [
        "\n",
        "['../../images/testsets/Gallagher_small/25_694.jpg', '../../images/testsets/Gallagher_small/26_535.jpg']\n",
        "Score: -0.1000 for 25 and 26 (Less than two matches)"
       ]
      },
      {
       "output_type": "stream",
       "stream": "stdout",
       "text": [
        "\n",
        "['../../images/testsets/Gallagher_small/25_694.jpg', '../../images/testsets/Gallagher_small/22_255.jpg']\n",
        "Score: -0.1000 for 25 and 22 (Less than two matches)"
       ]
      },
      {
       "output_type": "stream",
       "stream": "stdout",
       "text": [
        "\n",
        "['../../images/testsets/Gallagher_small/25_694.jpg', '../../images/testsets/Gallagher_small/29_553.jpg']\n",
        "Score: -0.1000 for 25 and 29 (Less than two matches)"
       ]
      },
      {
       "output_type": "stream",
       "stream": "stdout",
       "text": [
        "\n",
        "['../../images/testsets/Gallagher_small/25_694.jpg', '../../images/testsets/Gallagher_small/13_168.jpg']\n",
        "Score: -0.1000 for 25 and 13 (Less than two matches)"
       ]
      },
      {
       "output_type": "stream",
       "stream": "stdout",
       "text": [
        "\n",
        "['../../images/testsets/Gallagher_small/25_694.jpg', '../../images/testsets/Gallagher_small/28_552.jpg']\n",
        "Score: -0.1000 for 25 and 28 (Less than two matches)"
       ]
      },
      {
       "output_type": "stream",
       "stream": "stdout",
       "text": [
        "\n",
        "['../../images/testsets/Gallagher_small/25_694.jpg', '../../images/testsets/Gallagher_small/13_145.jpg']\n",
        "Score: -0.1000 for 25 and 13 (Less than two matches)"
       ]
      },
      {
       "output_type": "stream",
       "stream": "stdout",
       "text": [
        "\n",
        "['../../images/testsets/Gallagher_small/25_694.jpg', '../../images/testsets/Gallagher_small/14_207.jpg']\n",
        "Score: 0.0527 for 25 and 14"
       ]
      },
      {
       "output_type": "stream",
       "stream": "stdout",
       "text": [
        "\n",
        "['../../images/testsets/Gallagher_small/25_694.jpg', '../../images/testsets/Gallagher_small/14_150.jpg']\n",
        "Score: -0.0317 for 25 and 14"
       ]
      },
      {
       "output_type": "stream",
       "stream": "stdout",
       "text": [
        "\n",
        "['../../images/testsets/Gallagher_small/25_694.jpg', '../../images/testsets/Gallagher_small/27_566.jpg']\n",
        "Score: -0.1000 for 25 and 27 (Less than two matches)"
       ]
      },
      {
       "output_type": "stream",
       "stream": "stdout",
       "text": [
        "\n",
        "['../../images/testsets/Gallagher_small/25_694.jpg', '../../images/testsets/Gallagher_small/17_183.jpg']\n",
        "Score: 0.0077 for 25 and 17"
       ]
      },
      {
       "output_type": "stream",
       "stream": "stdout",
       "text": [
        "\n",
        "['../../images/testsets/Gallagher_small/25_694.jpg', '../../images/testsets/Gallagher_small/19_187.jpg']\n",
        "Score: -0.1000 for 25 and 19 (Less than two matches)"
       ]
      },
      {
       "output_type": "stream",
       "stream": "stdout",
       "text": [
        "\n",
        "['../../images/testsets/Gallagher_small/25_694.jpg', '../../images/testsets/Gallagher_small/31_580.jpg']\n",
        "Score: -0.0069 for 25 and 31"
       ]
      },
      {
       "output_type": "stream",
       "stream": "stdout",
       "text": [
        "\n",
        "['../../images/testsets/Gallagher_small/25_694.jpg', '../../images/testsets/Gallagher_small/21_872.jpg']\n",
        "Score: -0.1000 for 25 and 21 (Less than two matches)"
       ]
      },
      {
       "output_type": "stream",
       "stream": "stdout",
       "text": [
        "\n",
        "['../../images/testsets/Gallagher_small/25_694.jpg', '../../images/testsets/Gallagher_small/23_307.jpg']\n",
        "Score: -0.1000 for 25 and 23 (Less than two matches)"
       ]
      },
      {
       "output_type": "stream",
       "stream": "stdout",
       "text": [
        "\n",
        "['../../images/testsets/Gallagher_small/25_694.jpg', '../../images/testsets/Gallagher_small/25_462.jpg']\n",
        "Score: 0.0044 for 25 and 25"
       ]
      },
      {
       "output_type": "stream",
       "stream": "stdout",
       "text": [
        "\n",
        "['../../images/testsets/Gallagher_small/25_694.jpg', '../../images/testsets/Gallagher_small/23_534.jpg']\n",
        "Score: -0.1000 for 25 and 23 (Less than two matches)"
       ]
      },
      {
       "output_type": "stream",
       "stream": "stdout",
       "text": [
        "\n",
        "['../../images/testsets/Gallagher_small/25_694.jpg', '../../images/testsets/Gallagher_small/31_582.jpg']\n",
        "Score: -0.1000 for 25 and 31 (Less than two matches)"
       ]
      },
      {
       "output_type": "stream",
       "stream": "stdout",
       "text": [
        "\n",
        "['../../images/testsets/Gallagher_small/25_694.jpg', '../../images/testsets/Gallagher_small/15_224.jpg']\n",
        "Score: 0.1108 for 25 and 15"
       ]
      },
      {
       "output_type": "stream",
       "stream": "stdout",
       "text": [
        "\n",
        "['../../images/testsets/Gallagher_small/25_694.jpg', '../../images/testsets/Gallagher_small/23_508.jpg']\n",
        "Score: -0.1000 for 25 and 23 (Less than two matches)"
       ]
      },
      {
       "output_type": "stream",
       "stream": "stdout",
       "text": [
        "\n",
        "['../../images/testsets/Gallagher_small/25_694.jpg', '../../images/testsets/Gallagher_small/18_220.jpg']\n",
        "Score: -0.1000 for 25 and 18 (Less than two matches)"
       ]
      },
      {
       "output_type": "stream",
       "stream": "stdout",
       "text": [
        "\n",
        "['../../images/testsets/Gallagher_small/25_694.jpg', '../../images/testsets/Gallagher_small/15_151.jpg']\n",
        "Score: 0.0127 for 25 and 15"
       ]
      },
      {
       "output_type": "stream",
       "stream": "stdout",
       "text": [
        "\n",
        "['../../images/testsets/Gallagher_small/25_694.jpg', '../../images/testsets/Gallagher_small/16_182.jpg']\n",
        "Score: -0.1000 for 25 and 16 (Less than two matches)"
       ]
      },
      {
       "output_type": "stream",
       "stream": "stdout",
       "text": [
        "\n",
        "['../../images/testsets/Gallagher_small/25_694.jpg', '../../images/testsets/Gallagher_small/23_875.jpg']\n",
        "Score: -0.0199 for 25 and 23"
       ]
      },
      {
       "output_type": "stream",
       "stream": "stdout",
       "text": [
        "\n",
        "['../../images/testsets/Gallagher_small/25_694.jpg', '../../images/testsets/Gallagher_small/23_549.jpg']\n",
        "Score: -0.1000 for 25 and 23 (Less than two matches)"
       ]
      },
      {
       "output_type": "stream",
       "stream": "stdout",
       "text": [
        "\n",
        "['../../images/testsets/Gallagher_small/25_694.jpg', '../../images/testsets/Gallagher_small/32_648.jpg']\n",
        "Score: -0.1000 for 25 and 32 (Less than two matches)"
       ]
      },
      {
       "output_type": "stream",
       "stream": "stdout",
       "text": [
        "\n",
        "['../../images/testsets/Gallagher_small/25_694.jpg', '../../images/testsets/Gallagher_small/15_171.jpg']\n",
        "Score: 0.0440 for 25 and 15"
       ]
      },
      {
       "output_type": "stream",
       "stream": "stdout",
       "text": [
        "\n",
        "['../../images/testsets/Gallagher_small/25_694.jpg', '../../images/testsets/Gallagher_small/24_358.jpg']\n",
        "Score: -0.1000 for 25 and 24 (Less than two matches)"
       ]
      },
      {
       "output_type": "stream",
       "stream": "stdout",
       "text": [
        "\n",
        "['../../images/testsets/Gallagher_small/25_694.jpg', '../../images/testsets/Gallagher_small/25_458.jpg']\n",
        "Score: 0.0777 for 25 and 25"
       ]
      },
      {
       "output_type": "stream",
       "stream": "stdout",
       "text": [
        "\n",
        "['../../images/testsets/Gallagher_small/25_694.jpg', '../../images/testsets/Gallagher_small/30_569.jpg']\n",
        "Score: -0.1000 for 25 and 30 (Less than two matches)"
       ]
      },
      {
       "output_type": "stream",
       "stream": "stdout",
       "text": [
        "\n",
        "['../../images/testsets/Gallagher_small/25_694.jpg', '../../images/testsets/Gallagher_small/32_645.jpg']\n",
        "Score: 0.0586 for 25 and 32"
       ]
      },
      {
       "output_type": "stream",
       "stream": "stdout",
       "text": [
        "\n",
        "['../../images/testsets/Gallagher_small/25_694.jpg', '../../images/testsets/Gallagher_small/29_538.jpg']\n",
        "Score: -0.1000 for 25 and 29 (Less than two matches)"
       ]
      },
      {
       "output_type": "stream",
       "stream": "stdout",
       "text": [
        "\n",
        "['../../images/testsets/Gallagher_small/25_694.jpg', '../../images/testsets/Gallagher_small/21_251.jpg']\n",
        "Score: 0.0370 for 25 and 21"
       ]
      },
      {
       "output_type": "stream",
       "stream": "stdout",
       "text": [
        "\n",
        "['../../images/testsets/Gallagher_small/25_694.jpg', '../../images/testsets/Gallagher_small/20_249.jpg']\n",
        "Score: -0.1000 for 25 and 20 (Less than two matches)"
       ]
      },
      {
       "output_type": "stream",
       "stream": "stdout",
       "text": [
        "\n",
        "['../../images/testsets/Gallagher_small/25_694.jpg', '../../images/testsets/Gallagher_small/15_181.jpg']\n",
        "Score: -0.1000 for 25 and 15 (Less than two matches)"
       ]
      },
      {
       "output_type": "stream",
       "stream": "stdout",
       "text": [
        "\n",
        "['../../images/testsets/Gallagher_small/25_694.jpg', '../../images/testsets/Gallagher_small/15_158.jpg']\n",
        "Score: 0.0484 for 25 and 15"
       ]
      },
      {
       "output_type": "stream",
       "stream": "stdout",
       "text": [
        "\n",
        "['../../images/testsets/Gallagher_small/25_694.jpg', '../../images/testsets/Gallagher_small/19_195.jpg']\n",
        "Score: 0.0684 for 25 and 19"
       ]
      },
      {
       "output_type": "stream",
       "stream": "stdout",
       "text": [
        "\n",
        "['../../images/testsets/Gallagher_small/25_694.jpg', '../../images/testsets/Gallagher_small/19_193.jpg']\n",
        "Score: -0.1000 for 25 and 19 (Less than two matches)"
       ]
      },
      {
       "output_type": "stream",
       "stream": "stdout",
       "text": [
        "\n",
        "['../../images/testsets/Gallagher_small/25_694.jpg', '../../images/testsets/Gallagher_small/21_287.jpg']\n",
        "Score: -0.0022 for 25 and 21"
       ]
      },
      {
       "output_type": "stream",
       "stream": "stdout",
       "text": [
        "\n",
        "['../../images/testsets/Gallagher_small/25_694.jpg', '../../images/testsets/Gallagher_small/26_565.jpg']\n",
        "Score: 0.0788 for 25 and 26"
       ]
      },
      {
       "output_type": "stream",
       "stream": "stdout",
       "text": [
        "\n",
        "['../../images/testsets/Gallagher_small/25_694.jpg', '../../images/testsets/Gallagher_small/27_509.jpg']\n",
        "Score: -0.1000 for 25 and 27 (Less than two matches)"
       ]
      },
      {
       "output_type": "stream",
       "stream": "stdout",
       "text": [
        "\n",
        "['../../images/testsets/Gallagher_small/25_694.jpg', '../../images/testsets/Gallagher_small/15_169.jpg']\n",
        "Score: -0.1000 for 25 and 15 (Less than two matches)"
       ]
      },
      {
       "output_type": "stream",
       "stream": "stdout",
       "text": [
        "\n",
        "['../../images/testsets/Gallagher_small/25_694.jpg', '../../images/testsets/Gallagher_small/15_167.jpg']\n",
        "Score: -0.0144 for 25 and 15"
       ]
      },
      {
       "output_type": "stream",
       "stream": "stdout",
       "text": [
        "\n",
        "['../../images/testsets/Gallagher_small/25_694.jpg', '../../images/testsets/Gallagher_small/21_587.jpg']\n",
        "Score: 0.0307 for 25 and 21"
       ]
      },
      {
       "output_type": "stream",
       "stream": "stdout",
       "text": [
        "\n",
        "['../../images/testsets/Gallagher_small/25_694.jpg', '../../images/testsets/Gallagher_small/15_222.jpg']\n",
        "Score: -0.1000 for 25 and 15 (Less than two matches)"
       ]
      },
      {
       "output_type": "stream",
       "stream": "stdout",
       "text": [
        "\n",
        "['../../images/testsets/Gallagher_small/25_694.jpg', '../../images/testsets/Gallagher_small/16_178.jpg']\n",
        "Score: -0.1000 for 25 and 16 (Less than two matches)"
       ]
      },
      {
       "output_type": "stream",
       "stream": "stdout",
       "text": [
        "\n",
        "['../../images/testsets/Gallagher_small/25_694.jpg', '../../images/testsets/Gallagher_small/17_165.jpg']\n",
        "Score: -0.1000 for 25 and 17 (Less than two matches)"
       ]
      },
      {
       "output_type": "stream",
       "stream": "stdout",
       "text": [
        "\n",
        "['../../images/testsets/Gallagher_small/25_694.jpg', '../../images/testsets/Gallagher_small/28_537.jpg']\n",
        "Score: -0.1000 for 25 and 28 (Less than two matches)"
       ]
      },
      {
       "output_type": "stream",
       "stream": "stdout",
       "text": [
        "\n",
        "['../../images/testsets/Gallagher_small/25_694.jpg', '../../images/testsets/Gallagher_small/27_524.jpg']\n",
        "Score: -0.1000 for 25 and 27 (Less than two matches)"
       ]
      },
      {
       "output_type": "stream",
       "stream": "stdout",
       "text": [
        "\n",
        "['../../images/testsets/Gallagher_small/25_694.jpg', '../../images/testsets/Gallagher_small/13_163.jpg']\n",
        "Score: -0.1000 for 25 and 13 (Less than two matches)"
       ]
      },
      {
       "output_type": "stream",
       "stream": "stdout",
       "text": [
        "\n",
        "['../../images/testsets/Gallagher_small/25_694.jpg', '../../images/testsets/Gallagher_small/23_302.jpg']\n",
        "Score: 0.0529 for 25 and 23"
       ]
      },
      {
       "output_type": "stream",
       "stream": "stdout",
       "text": [
        "\n",
        "['../../images/testsets/Gallagher_small/25_696.jpg', '../../images/testsets/Gallagher_small/32_639.jpg']\n",
        "Score: 0.0538 for 25 and 32"
       ]
      },
      {
       "output_type": "stream",
       "stream": "stdout",
       "text": [
        "\n",
        "['../../images/testsets/Gallagher_small/25_696.jpg', '../../images/testsets/Gallagher_small/30_554.jpg']\n",
        "Score: 0.0732 for 25 and 30"
       ]
      },
      {
       "output_type": "stream",
       "stream": "stdout",
       "text": [
        "\n",
        "['../../images/testsets/Gallagher_small/25_696.jpg', '../../images/testsets/Gallagher_small/28_525.jpg']\n",
        "Score: -0.1000 for 25 and 28 (Less than two matches)"
       ]
      },
      {
       "output_type": "stream",
       "stream": "stdout",
       "text": [
        "\n",
        "['../../images/testsets/Gallagher_small/25_696.jpg', '../../images/testsets/Gallagher_small/30_539.jpg']\n",
        "Score: -0.1000 for 25 and 30 (Less than two matches)"
       ]
      },
      {
       "output_type": "stream",
       "stream": "stdout",
       "text": [
        "\n",
        "['../../images/testsets/Gallagher_small/25_696.jpg', '../../images/testsets/Gallagher_small/26_550.jpg']\n",
        "Score: 0.0290 for 25 and 26"
       ]
      },
      {
       "output_type": "stream",
       "stream": "stdout",
       "text": [
        "\n",
        "['../../images/testsets/Gallagher_small/25_696.jpg', '../../images/testsets/Gallagher_small/15_170.jpg']\n",
        "Score: 0.1073 for 25 and 15"
       ]
      },
      {
       "output_type": "stream",
       "stream": "stdout",
       "text": [
        "\n",
        "['../../images/testsets/Gallagher_small/25_696.jpg', '../../images/testsets/Gallagher_small/21_293.jpg']\n",
        "Score: 0.0601 for 25 and 21"
       ]
      },
      {
       "output_type": "stream",
       "stream": "stdout",
       "text": [
        "\n",
        "['../../images/testsets/Gallagher_small/25_696.jpg', '../../images/testsets/Gallagher_small/24_379.jpg']\n",
        "Score: 0.0392 for 25 and 24"
       ]
      },
      {
       "output_type": "stream",
       "stream": "stdout",
       "text": [
        "\n",
        "['../../images/testsets/Gallagher_small/25_696.jpg', '../../images/testsets/Gallagher_small/17_212.jpg']\n",
        "Score: -0.0098 for 25 and 17"
       ]
      },
      {
       "output_type": "stream",
       "stream": "stdout",
       "text": [
        "\n",
        "['../../images/testsets/Gallagher_small/25_696.jpg', '../../images/testsets/Gallagher_small/14_699.jpg']\n",
        "Score: -0.1000 for 25 and 14 (Less than two matches)"
       ]
      },
      {
       "output_type": "stream",
       "stream": "stdout",
       "text": [
        "\n",
        "['../../images/testsets/Gallagher_small/25_696.jpg', '../../images/testsets/Gallagher_small/28_567.jpg']\n",
        "Score: -0.1000 for 25 and 28 (Less than two matches)"
       ]
      },
      {
       "output_type": "stream",
       "stream": "stdout",
       "text": [
        "\n",
        "['../../images/testsets/Gallagher_small/25_696.jpg', '../../images/testsets/Gallagher_small/27_551.jpg']\n",
        "Score: -0.1000 for 25 and 27 (Less than two matches)"
       ]
      },
      {
       "output_type": "stream",
       "stream": "stdout",
       "text": [
        "\n",
        "['../../images/testsets/Gallagher_small/25_696.jpg', '../../images/testsets/Gallagher_small/22_254.jpg']\n",
        "Score: -0.1000 for 25 and 22 (Less than two matches)"
       ]
      },
      {
       "output_type": "stream",
       "stream": "stdout",
       "text": [
        "\n",
        "['../../images/testsets/Gallagher_small/25_696.jpg', '../../images/testsets/Gallagher_small/29_568.jpg']\n",
        "Score: -0.1000 for 25 and 29 (Less than two matches)"
       ]
      },
      {
       "output_type": "stream",
       "stream": "stdout",
       "text": [
        "\n",
        "['../../images/testsets/Gallagher_small/25_696.jpg', '../../images/testsets/Gallagher_small/15_154.jpg']\n",
        "Score: -0.1000 for 25 and 15 (Less than two matches)"
       ]
      },
      {
       "output_type": "stream",
       "stream": "stdout",
       "text": [
        "\n",
        "['../../images/testsets/Gallagher_small/25_696.jpg', '../../images/testsets/Gallagher_small/25_431.jpg']\n",
        "Score: 0.0162 for 25 and 25"
       ]
      },
      {
       "output_type": "stream",
       "stream": "stdout",
       "text": [
        "\n",
        "['../../images/testsets/Gallagher_small/25_696.jpg', '../../images/testsets/Gallagher_small/23_305.jpg']\n",
        "Score: 0.0694 for 25 and 23"
       ]
      },
      {
       "output_type": "stream",
       "stream": "stdout",
       "text": [
        "\n",
        "['../../images/testsets/Gallagher_small/25_696.jpg', '../../images/testsets/Gallagher_small/16_164.jpg']\n",
        "Score: 0.0315 for 25 and 16"
       ]
      },
      {
       "output_type": "stream",
       "stream": "stdout",
       "text": [
        "\n",
        "['../../images/testsets/Gallagher_small/25_696.jpg', '../../images/testsets/Gallagher_small/18_166.jpg']\n",
        "Score: -0.1000 for 25 and 18 (Less than two matches)"
       ]
      },
      {
       "output_type": "stream",
       "stream": "stdout",
       "text": [
        "\n",
        "['../../images/testsets/Gallagher_small/25_696.jpg', '../../images/testsets/Gallagher_small/25_770.jpg']\n",
        "Score: -0.1000 for 25 and 25 (Less than two matches)"
       ]
      },
      {
       "output_type": "stream",
       "stream": "stdout",
       "text": [
        "\n",
        "['../../images/testsets/Gallagher_small/25_696.jpg', '../../images/testsets/Gallagher_small/32_642.jpg']\n",
        "Score: 0.0635 for 25 and 32"
       ]
      },
      {
       "output_type": "stream",
       "stream": "stdout",
       "text": [
        "\n",
        "['../../images/testsets/Gallagher_small/25_696.jpg', '../../images/testsets/Gallagher_small/19_198.jpg']\n",
        "Score: 0.1205 for 25 and 19"
       ]
      },
      {
       "output_type": "stream",
       "stream": "stdout",
       "text": [
        "\n",
        "['../../images/testsets/Gallagher_small/25_696.jpg', '../../images/testsets/Gallagher_small/21_294.jpg']\n",
        "Score: -0.1000 for 25 and 21 (Less than two matches)"
       ]
      },
      {
       "output_type": "stream",
       "stream": "stdout",
       "text": [
        "\n",
        "['../../images/testsets/Gallagher_small/25_696.jpg', '../../images/testsets/Gallagher_small/14_206.jpg']\n",
        "Score: -0.1000 for 25 and 14 (Less than two matches)"
       ]
      },
      {
       "output_type": "stream",
       "stream": "stdout",
       "text": [
        "\n",
        "['../../images/testsets/Gallagher_small/25_696.jpg', '../../images/testsets/Gallagher_small/26_535.jpg']\n",
        "Score: -0.1000 for 25 and 26 (Less than two matches)"
       ]
      },
      {
       "output_type": "stream",
       "stream": "stdout",
       "text": [
        "\n",
        "['../../images/testsets/Gallagher_small/25_696.jpg', '../../images/testsets/Gallagher_small/22_255.jpg']\n",
        "Score: -0.1000 for 25 and 22 (Less than two matches)"
       ]
      },
      {
       "output_type": "stream",
       "stream": "stdout",
       "text": [
        "\n",
        "['../../images/testsets/Gallagher_small/25_696.jpg', '../../images/testsets/Gallagher_small/29_553.jpg']\n",
        "Score: -0.1000 for 25 and 29 (Less than two matches)"
       ]
      },
      {
       "output_type": "stream",
       "stream": "stdout",
       "text": [
        "\n",
        "['../../images/testsets/Gallagher_small/25_696.jpg', '../../images/testsets/Gallagher_small/13_168.jpg']\n",
        "Score: -0.1000 for 25 and 13 (Less than two matches)"
       ]
      },
      {
       "output_type": "stream",
       "stream": "stdout",
       "text": [
        "\n",
        "['../../images/testsets/Gallagher_small/25_696.jpg', '../../images/testsets/Gallagher_small/28_552.jpg']\n",
        "Score: -0.1000 for 25 and 28 (Less than two matches)"
       ]
      },
      {
       "output_type": "stream",
       "stream": "stdout",
       "text": [
        "\n",
        "['../../images/testsets/Gallagher_small/25_696.jpg', '../../images/testsets/Gallagher_small/13_145.jpg']\n",
        "Score: -0.1000 for 25 and 13 (Less than two matches)"
       ]
      },
      {
       "output_type": "stream",
       "stream": "stdout",
       "text": [
        "\n",
        "['../../images/testsets/Gallagher_small/25_696.jpg', '../../images/testsets/Gallagher_small/14_207.jpg']\n",
        "Score: 0.0579 for 25 and 14"
       ]
      },
      {
       "output_type": "stream",
       "stream": "stdout",
       "text": [
        "\n",
        "['../../images/testsets/Gallagher_small/25_696.jpg', '../../images/testsets/Gallagher_small/14_150.jpg']\n",
        "Score: -0.1000 for 25 and 14 (Less than two matches)"
       ]
      },
      {
       "output_type": "stream",
       "stream": "stdout",
       "text": [
        "\n",
        "['../../images/testsets/Gallagher_small/25_696.jpg', '../../images/testsets/Gallagher_small/27_566.jpg']\n",
        "Score: -0.1000 for 25 and 27 (Less than two matches)"
       ]
      },
      {
       "output_type": "stream",
       "stream": "stdout",
       "text": [
        "\n",
        "['../../images/testsets/Gallagher_small/25_696.jpg', '../../images/testsets/Gallagher_small/17_183.jpg']\n",
        "Score: -0.1000 for 25 and 17 (Less than two matches)"
       ]
      },
      {
       "output_type": "stream",
       "stream": "stdout",
       "text": [
        "\n",
        "['../../images/testsets/Gallagher_small/25_696.jpg', '../../images/testsets/Gallagher_small/19_187.jpg']\n",
        "Score: -0.1000 for 25 and 19 (Less than two matches)"
       ]
      },
      {
       "output_type": "stream",
       "stream": "stdout",
       "text": [
        "\n",
        "['../../images/testsets/Gallagher_small/25_696.jpg', '../../images/testsets/Gallagher_small/31_580.jpg']\n",
        "Score: -0.1100 for 25 and 31"
       ]
      },
      {
       "output_type": "stream",
       "stream": "stdout",
       "text": [
        "\n",
        "['../../images/testsets/Gallagher_small/25_696.jpg', '../../images/testsets/Gallagher_small/21_872.jpg']\n",
        "Score: -0.1000 for 25 and 21 (Less than two matches)"
       ]
      },
      {
       "output_type": "stream",
       "stream": "stdout",
       "text": [
        "\n",
        "['../../images/testsets/Gallagher_small/25_696.jpg', '../../images/testsets/Gallagher_small/23_307.jpg']\n",
        "Score: 0.0368 for 25 and 23"
       ]
      },
      {
       "output_type": "stream",
       "stream": "stdout",
       "text": [
        "\n",
        "['../../images/testsets/Gallagher_small/25_696.jpg', '../../images/testsets/Gallagher_small/25_462.jpg']\n",
        "Score: 0.1342 for 25 and 25"
       ]
      },
      {
       "output_type": "stream",
       "stream": "stdout",
       "text": [
        "\n",
        "['../../images/testsets/Gallagher_small/25_696.jpg', '../../images/testsets/Gallagher_small/23_534.jpg']\n",
        "Score: -0.1000 for 25 and 23 (Less than two matches)"
       ]
      },
      {
       "output_type": "stream",
       "stream": "stdout",
       "text": [
        "\n",
        "['../../images/testsets/Gallagher_small/25_696.jpg', '../../images/testsets/Gallagher_small/31_582.jpg']\n",
        "Score: -0.1000 for 25 and 31 (Less than two matches)"
       ]
      },
      {
       "output_type": "stream",
       "stream": "stdout",
       "text": [
        "\n",
        "['../../images/testsets/Gallagher_small/25_696.jpg', '../../images/testsets/Gallagher_small/15_224.jpg']\n",
        "Score: -0.1000 for 25 and 15 (Less than two matches)"
       ]
      },
      {
       "output_type": "stream",
       "stream": "stdout",
       "text": [
        "\n",
        "['../../images/testsets/Gallagher_small/25_696.jpg', '../../images/testsets/Gallagher_small/23_508.jpg']\n",
        "Score: 0.0312 for 25 and 23"
       ]
      },
      {
       "output_type": "stream",
       "stream": "stdout",
       "text": [
        "\n",
        "['../../images/testsets/Gallagher_small/25_696.jpg', '../../images/testsets/Gallagher_small/18_220.jpg']\n",
        "Score: -0.1000 for 25 and 18 (Less than two matches)"
       ]
      },
      {
       "output_type": "stream",
       "stream": "stdout",
       "text": [
        "\n",
        "['../../images/testsets/Gallagher_small/25_696.jpg', '../../images/testsets/Gallagher_small/15_151.jpg']\n",
        "Score: -0.1000 for 25 and 15 (Less than two matches)"
       ]
      },
      {
       "output_type": "stream",
       "stream": "stdout",
       "text": [
        "\n",
        "['../../images/testsets/Gallagher_small/25_696.jpg', '../../images/testsets/Gallagher_small/16_182.jpg']\n",
        "Score: -0.1000 for 25 and 16 (Less than two matches)"
       ]
      },
      {
       "output_type": "stream",
       "stream": "stdout",
       "text": [
        "\n",
        "['../../images/testsets/Gallagher_small/25_696.jpg', '../../images/testsets/Gallagher_small/23_875.jpg']\n",
        "Score: 0.0526 for 25 and 23"
       ]
      },
      {
       "output_type": "stream",
       "stream": "stdout",
       "text": [
        "\n",
        "['../../images/testsets/Gallagher_small/25_696.jpg', '../../images/testsets/Gallagher_small/23_549.jpg']\n",
        "Score: -0.1000 for 25 and 23 (Less than two matches)"
       ]
      },
      {
       "output_type": "stream",
       "stream": "stdout",
       "text": [
        "\n",
        "['../../images/testsets/Gallagher_small/25_696.jpg', '../../images/testsets/Gallagher_small/32_648.jpg']\n",
        "Score: -0.1000 for 25 and 32 (Less than two matches)"
       ]
      },
      {
       "output_type": "stream",
       "stream": "stdout",
       "text": [
        "\n",
        "['../../images/testsets/Gallagher_small/25_696.jpg', '../../images/testsets/Gallagher_small/15_171.jpg']\n",
        "Score: 0.0016 for 25 and 15"
       ]
      },
      {
       "output_type": "stream",
       "stream": "stdout",
       "text": [
        "\n",
        "['../../images/testsets/Gallagher_small/25_696.jpg', '../../images/testsets/Gallagher_small/24_358.jpg']\n",
        "Score: 0.0289 for 25 and 24"
       ]
      },
      {
       "output_type": "stream",
       "stream": "stdout",
       "text": [
        "\n",
        "['../../images/testsets/Gallagher_small/25_696.jpg', '../../images/testsets/Gallagher_small/25_458.jpg']\n",
        "Score: 0.0455 for 25 and 25"
       ]
      },
      {
       "output_type": "stream",
       "stream": "stdout",
       "text": [
        "\n",
        "['../../images/testsets/Gallagher_small/25_696.jpg', '../../images/testsets/Gallagher_small/30_569.jpg']\n",
        "Score: -0.1000 for 25 and 30 (Less than two matches)"
       ]
      },
      {
       "output_type": "stream",
       "stream": "stdout",
       "text": [
        "\n",
        "['../../images/testsets/Gallagher_small/25_696.jpg', '../../images/testsets/Gallagher_small/32_645.jpg']\n",
        "Score: 0.0349 for 25 and 32"
       ]
      },
      {
       "output_type": "stream",
       "stream": "stdout",
       "text": [
        "\n",
        "['../../images/testsets/Gallagher_small/25_696.jpg', '../../images/testsets/Gallagher_small/29_538.jpg']\n",
        "Score: -0.1000 for 25 and 29 (Less than two matches)"
       ]
      },
      {
       "output_type": "stream",
       "stream": "stdout",
       "text": [
        "\n",
        "['../../images/testsets/Gallagher_small/25_696.jpg', '../../images/testsets/Gallagher_small/21_251.jpg']\n",
        "Score: -0.1000 for 25 and 21 (Less than two matches)"
       ]
      },
      {
       "output_type": "stream",
       "stream": "stdout",
       "text": [
        "\n",
        "['../../images/testsets/Gallagher_small/25_696.jpg', '../../images/testsets/Gallagher_small/20_249.jpg']\n",
        "Score: -0.0475 for 25 and 20"
       ]
      },
      {
       "output_type": "stream",
       "stream": "stdout",
       "text": [
        "\n",
        "['../../images/testsets/Gallagher_small/25_696.jpg', '../../images/testsets/Gallagher_small/15_181.jpg']\n",
        "Score: -0.1000 for 25 and 15 (Less than two matches)"
       ]
      },
      {
       "output_type": "stream",
       "stream": "stdout",
       "text": [
        "\n",
        "['../../images/testsets/Gallagher_small/25_696.jpg', '../../images/testsets/Gallagher_small/15_158.jpg']\n",
        "Score: -0.1000 for 25 and 15 (Less than two matches)"
       ]
      },
      {
       "output_type": "stream",
       "stream": "stdout",
       "text": [
        "\n",
        "['../../images/testsets/Gallagher_small/25_696.jpg', '../../images/testsets/Gallagher_small/19_195.jpg']\n",
        "Score: -0.1000 for 25 and 19 (Less than two matches)"
       ]
      },
      {
       "output_type": "stream",
       "stream": "stdout",
       "text": [
        "\n",
        "['../../images/testsets/Gallagher_small/25_696.jpg', '../../images/testsets/Gallagher_small/19_193.jpg']\n",
        "Score: -0.1000 for 25 and 19 (Less than two matches)"
       ]
      },
      {
       "output_type": "stream",
       "stream": "stdout",
       "text": [
        "\n",
        "['../../images/testsets/Gallagher_small/25_696.jpg', '../../images/testsets/Gallagher_small/21_287.jpg']\n",
        "Score: -0.0130 for 25 and 21"
       ]
      },
      {
       "output_type": "stream",
       "stream": "stdout",
       "text": [
        "\n",
        "['../../images/testsets/Gallagher_small/25_696.jpg', '../../images/testsets/Gallagher_small/26_565.jpg']\n",
        "Score: -0.1000 for 25 and 26 (Less than two matches)"
       ]
      },
      {
       "output_type": "stream",
       "stream": "stdout",
       "text": [
        "\n",
        "['../../images/testsets/Gallagher_small/25_696.jpg', '../../images/testsets/Gallagher_small/27_509.jpg']\n",
        "Score: -0.1000 for 25 and 27 (Less than two matches)"
       ]
      },
      {
       "output_type": "stream",
       "stream": "stdout",
       "text": [
        "\n",
        "['../../images/testsets/Gallagher_small/25_696.jpg', '../../images/testsets/Gallagher_small/15_169.jpg']\n",
        "Score: -0.1000 for 25 and 15 (Less than two matches)"
       ]
      },
      {
       "output_type": "stream",
       "stream": "stdout",
       "text": [
        "\n",
        "['../../images/testsets/Gallagher_small/25_696.jpg', '../../images/testsets/Gallagher_small/15_167.jpg']\n",
        "Score: -0.0077 for 25 and 15"
       ]
      },
      {
       "output_type": "stream",
       "stream": "stdout",
       "text": [
        "\n",
        "['../../images/testsets/Gallagher_small/25_696.jpg', '../../images/testsets/Gallagher_small/21_587.jpg']\n",
        "Score: -0.1000 for 25 and 21 (Less than two matches)"
       ]
      },
      {
       "output_type": "stream",
       "stream": "stdout",
       "text": [
        "\n",
        "['../../images/testsets/Gallagher_small/25_696.jpg', '../../images/testsets/Gallagher_small/15_222.jpg']\n",
        "Score: -0.1000 for 25 and 15 (Less than two matches)"
       ]
      },
      {
       "output_type": "stream",
       "stream": "stdout",
       "text": [
        "\n",
        "['../../images/testsets/Gallagher_small/25_696.jpg', '../../images/testsets/Gallagher_small/16_178.jpg']\n",
        "Score: -0.1000 for 25 and 16 (Less than two matches)"
       ]
      },
      {
       "output_type": "stream",
       "stream": "stdout",
       "text": [
        "\n",
        "['../../images/testsets/Gallagher_small/25_696.jpg', '../../images/testsets/Gallagher_small/17_165.jpg']\n",
        "Score: -0.1000 for 25 and 17 (Less than two matches)"
       ]
      },
      {
       "output_type": "stream",
       "stream": "stdout",
       "text": [
        "\n",
        "['../../images/testsets/Gallagher_small/25_696.jpg', '../../images/testsets/Gallagher_small/28_537.jpg']\n",
        "Score: -0.1000 for 25 and 28 (Less than two matches)"
       ]
      },
      {
       "output_type": "stream",
       "stream": "stdout",
       "text": [
        "\n",
        "['../../images/testsets/Gallagher_small/25_696.jpg', '../../images/testsets/Gallagher_small/27_524.jpg']\n",
        "Score: -0.1000 for 25 and 27 (Less than two matches)"
       ]
      },
      {
       "output_type": "stream",
       "stream": "stdout",
       "text": [
        "\n",
        "['../../images/testsets/Gallagher_small/25_696.jpg', '../../images/testsets/Gallagher_small/13_163.jpg']\n",
        "Score: -0.1000 for 25 and 13 (Less than two matches)"
       ]
      },
      {
       "output_type": "stream",
       "stream": "stdout",
       "text": [
        "\n",
        "['../../images/testsets/Gallagher_small/25_696.jpg', '../../images/testsets/Gallagher_small/23_302.jpg']\n",
        "Score: 0.0793 for 25 and 23"
       ]
      },
      {
       "output_type": "stream",
       "stream": "stdout",
       "text": [
        "\n",
        "['../../images/testsets/Gallagher_small/32_639.jpg', '../../images/testsets/Gallagher_small/30_554.jpg']\n",
        "Score: 0.0849 for 32 and 30"
       ]
      },
      {
       "output_type": "stream",
       "stream": "stdout",
       "text": [
        "\n",
        "['../../images/testsets/Gallagher_small/32_639.jpg', '../../images/testsets/Gallagher_small/28_525.jpg']\n",
        "Score: 0.0240 for 32 and 28"
       ]
      },
      {
       "output_type": "stream",
       "stream": "stdout",
       "text": [
        "\n",
        "['../../images/testsets/Gallagher_small/32_639.jpg', '../../images/testsets/Gallagher_small/30_539.jpg']\n",
        "Score: -0.1000 for 32 and 30 (Less than two matches)"
       ]
      },
      {
       "output_type": "stream",
       "stream": "stdout",
       "text": [
        "\n",
        "['../../images/testsets/Gallagher_small/32_639.jpg', '../../images/testsets/Gallagher_small/26_550.jpg']\n",
        "Score: 0.0373 for 32 and 26"
       ]
      },
      {
       "output_type": "stream",
       "stream": "stdout",
       "text": [
        "\n",
        "['../../images/testsets/Gallagher_small/32_639.jpg', '../../images/testsets/Gallagher_small/15_170.jpg']\n",
        "Score: 0.0194 for 32 and 15"
       ]
      },
      {
       "output_type": "stream",
       "stream": "stdout",
       "text": [
        "\n",
        "['../../images/testsets/Gallagher_small/32_639.jpg', '../../images/testsets/Gallagher_small/21_293.jpg']\n",
        "Score: -0.0614 for 32 and 21"
       ]
      },
      {
       "output_type": "stream",
       "stream": "stdout",
       "text": [
        "\n",
        "['../../images/testsets/Gallagher_small/32_639.jpg', '../../images/testsets/Gallagher_small/24_379.jpg']\n",
        "Score: 0.0000 for 32 and 24"
       ]
      },
      {
       "output_type": "stream",
       "stream": "stdout",
       "text": [
        "\n",
        "['../../images/testsets/Gallagher_small/32_639.jpg', '../../images/testsets/Gallagher_small/17_212.jpg']\n",
        "Score: 0.0016 for 32 and 17"
       ]
      },
      {
       "output_type": "stream",
       "stream": "stdout",
       "text": [
        "\n",
        "['../../images/testsets/Gallagher_small/32_639.jpg', '../../images/testsets/Gallagher_small/14_699.jpg']\n",
        "Score: -0.1000 for 32 and 14 (Less than two matches)"
       ]
      },
      {
       "output_type": "stream",
       "stream": "stdout",
       "text": [
        "\n",
        "['../../images/testsets/Gallagher_small/32_639.jpg', '../../images/testsets/Gallagher_small/28_567.jpg']\n",
        "Score: -0.1000 for 32 and 28 (Less than two matches)"
       ]
      },
      {
       "output_type": "stream",
       "stream": "stdout",
       "text": [
        "\n",
        "['../../images/testsets/Gallagher_small/32_639.jpg', '../../images/testsets/Gallagher_small/27_551.jpg']\n",
        "Score: 0.0554 for 32 and 27"
       ]
      },
      {
       "output_type": "stream",
       "stream": "stdout",
       "text": [
        "\n",
        "['../../images/testsets/Gallagher_small/32_639.jpg', '../../images/testsets/Gallagher_small/22_254.jpg']\n",
        "Score: -0.1000 for 32 and 22 (Less than two matches)"
       ]
      },
      {
       "output_type": "stream",
       "stream": "stdout",
       "text": [
        "\n",
        "['../../images/testsets/Gallagher_small/32_639.jpg', '../../images/testsets/Gallagher_small/29_568.jpg']\n",
        "Score: 0.1600 for 32 and 29"
       ]
      },
      {
       "output_type": "stream",
       "stream": "stdout",
       "text": [
        "\n",
        "['../../images/testsets/Gallagher_small/32_639.jpg', '../../images/testsets/Gallagher_small/15_154.jpg']\n",
        "Score: -0.0070 for 32 and 15"
       ]
      },
      {
       "output_type": "stream",
       "stream": "stdout",
       "text": [
        "\n",
        "['../../images/testsets/Gallagher_small/32_639.jpg', '../../images/testsets/Gallagher_small/25_431.jpg']\n",
        "Score: 0.0856 for 32 and 25"
       ]
      },
      {
       "output_type": "stream",
       "stream": "stdout",
       "text": [
        "\n",
        "['../../images/testsets/Gallagher_small/32_639.jpg', '../../images/testsets/Gallagher_small/23_305.jpg']\n",
        "Score: 0.0451 for 32 and 23"
       ]
      },
      {
       "output_type": "stream",
       "stream": "stdout",
       "text": [
        "\n",
        "['../../images/testsets/Gallagher_small/32_639.jpg', '../../images/testsets/Gallagher_small/16_164.jpg']\n",
        "Score: 0.0380 for 32 and 16"
       ]
      },
      {
       "output_type": "stream",
       "stream": "stdout",
       "text": [
        "\n",
        "['../../images/testsets/Gallagher_small/32_639.jpg', '../../images/testsets/Gallagher_small/18_166.jpg']\n",
        "Score: -0.1000 for 32 and 18 (Less than two matches)"
       ]
      },
      {
       "output_type": "stream",
       "stream": "stdout",
       "text": [
        "\n",
        "['../../images/testsets/Gallagher_small/32_639.jpg', '../../images/testsets/Gallagher_small/25_770.jpg']\n",
        "Score: 0.0235 for 32 and 25"
       ]
      },
      {
       "output_type": "stream",
       "stream": "stdout",
       "text": [
        "\n",
        "['../../images/testsets/Gallagher_small/32_639.jpg', '../../images/testsets/Gallagher_small/32_642.jpg']\n",
        "Score: 0.0567 for 32 and 32"
       ]
      },
      {
       "output_type": "stream",
       "stream": "stdout",
       "text": [
        "\n",
        "['../../images/testsets/Gallagher_small/32_639.jpg', '../../images/testsets/Gallagher_small/19_198.jpg']\n",
        "Score: 0.0416 for 32 and 19"
       ]
      },
      {
       "output_type": "stream",
       "stream": "stdout",
       "text": [
        "\n",
        "['../../images/testsets/Gallagher_small/32_639.jpg', '../../images/testsets/Gallagher_small/21_294.jpg']\n",
        "Score: 0.0585 for 32 and 21"
       ]
      },
      {
       "output_type": "stream",
       "stream": "stdout",
       "text": [
        "\n",
        "['../../images/testsets/Gallagher_small/32_639.jpg', '../../images/testsets/Gallagher_small/14_206.jpg']\n",
        "Score: -0.1000 for 32 and 14 (Less than two matches)"
       ]
      },
      {
       "output_type": "stream",
       "stream": "stdout",
       "text": [
        "\n",
        "['../../images/testsets/Gallagher_small/32_639.jpg', '../../images/testsets/Gallagher_small/26_535.jpg']\n",
        "Score: -0.1000 for 32 and 26 (Less than two matches)"
       ]
      },
      {
       "output_type": "stream",
       "stream": "stdout",
       "text": [
        "\n",
        "['../../images/testsets/Gallagher_small/32_639.jpg', '../../images/testsets/Gallagher_small/22_255.jpg']\n",
        "Score: 0.0434 for 32 and 22"
       ]
      },
      {
       "output_type": "stream",
       "stream": "stdout",
       "text": [
        "\n",
        "['../../images/testsets/Gallagher_small/32_639.jpg', '../../images/testsets/Gallagher_small/29_553.jpg']\n",
        "Score: -0.1000 for 32 and 29 (Less than two matches)"
       ]
      },
      {
       "output_type": "stream",
       "stream": "stdout",
       "text": [
        "\n",
        "['../../images/testsets/Gallagher_small/32_639.jpg', '../../images/testsets/Gallagher_small/13_168.jpg']\n",
        "Score: -0.1000 for 32 and 13 (Less than two matches)"
       ]
      },
      {
       "output_type": "stream",
       "stream": "stdout",
       "text": [
        "\n",
        "['../../images/testsets/Gallagher_small/32_639.jpg', '../../images/testsets/Gallagher_small/28_552.jpg']\n",
        "Score: -0.1000 for 32 and 28 (Less than two matches)"
       ]
      },
      {
       "output_type": "stream",
       "stream": "stdout",
       "text": [
        "\n",
        "['../../images/testsets/Gallagher_small/32_639.jpg', '../../images/testsets/Gallagher_small/13_145.jpg']\n",
        "Score: -0.1000 for 32 and 13 (Less than two matches)"
       ]
      },
      {
       "output_type": "stream",
       "stream": "stdout",
       "text": [
        "\n",
        "['../../images/testsets/Gallagher_small/32_639.jpg', '../../images/testsets/Gallagher_small/14_207.jpg']\n",
        "Score: 0.0270 for 32 and 14"
       ]
      },
      {
       "output_type": "stream",
       "stream": "stdout",
       "text": [
        "\n",
        "['../../images/testsets/Gallagher_small/32_639.jpg', '../../images/testsets/Gallagher_small/14_150.jpg']\n",
        "Score: 0.0099 for 32 and 14"
       ]
      },
      {
       "output_type": "stream",
       "stream": "stdout",
       "text": [
        "\n",
        "['../../images/testsets/Gallagher_small/32_639.jpg', '../../images/testsets/Gallagher_small/27_566.jpg']\n",
        "Score: 0.0304 for 32 and 27"
       ]
      },
      {
       "output_type": "stream",
       "stream": "stdout",
       "text": [
        "\n",
        "['../../images/testsets/Gallagher_small/32_639.jpg', '../../images/testsets/Gallagher_small/17_183.jpg']\n",
        "Score: 0.0219 for 32 and 17"
       ]
      },
      {
       "output_type": "stream",
       "stream": "stdout",
       "text": [
        "\n",
        "['../../images/testsets/Gallagher_small/32_639.jpg', '../../images/testsets/Gallagher_small/19_187.jpg']\n",
        "Score: 0.0295 for 32 and 19"
       ]
      },
      {
       "output_type": "stream",
       "stream": "stdout",
       "text": [
        "\n",
        "['../../images/testsets/Gallagher_small/32_639.jpg', '../../images/testsets/Gallagher_small/31_580.jpg']\n",
        "Score: -0.0250 for 32 and 31"
       ]
      },
      {
       "output_type": "stream",
       "stream": "stdout",
       "text": [
        "\n",
        "['../../images/testsets/Gallagher_small/32_639.jpg', '../../images/testsets/Gallagher_small/21_872.jpg']\n",
        "Score: -0.1000 for 32 and 21 (Less than two matches)"
       ]
      },
      {
       "output_type": "stream",
       "stream": "stdout",
       "text": [
        "\n",
        "['../../images/testsets/Gallagher_small/32_639.jpg', '../../images/testsets/Gallagher_small/23_307.jpg']\n",
        "Score: 0.0040 for 32 and 23"
       ]
      },
      {
       "output_type": "stream",
       "stream": "stdout",
       "text": [
        "\n",
        "['../../images/testsets/Gallagher_small/32_639.jpg', '../../images/testsets/Gallagher_small/25_462.jpg']\n",
        "Score: -0.0079 for 32 and 25"
       ]
      },
      {
       "output_type": "stream",
       "stream": "stdout",
       "text": [
        "\n",
        "['../../images/testsets/Gallagher_small/32_639.jpg', '../../images/testsets/Gallagher_small/23_534.jpg']\n",
        "Score: -0.1000 for 32 and 23 (Less than two matches)"
       ]
      },
      {
       "output_type": "stream",
       "stream": "stdout",
       "text": [
        "\n",
        "['../../images/testsets/Gallagher_small/32_639.jpg', '../../images/testsets/Gallagher_small/31_582.jpg']\n",
        "Score: -0.1000 for 32 and 31 (Less than two matches)"
       ]
      },
      {
       "output_type": "stream",
       "stream": "stdout",
       "text": [
        "\n",
        "['../../images/testsets/Gallagher_small/32_639.jpg', '../../images/testsets/Gallagher_small/15_224.jpg']\n",
        "Score: 0.0415 for 32 and 15"
       ]
      },
      {
       "output_type": "stream",
       "stream": "stdout",
       "text": [
        "\n",
        "['../../images/testsets/Gallagher_small/32_639.jpg', '../../images/testsets/Gallagher_small/23_508.jpg']\n",
        "Score: 0.0440 for 32 and 23"
       ]
      },
      {
       "output_type": "stream",
       "stream": "stdout",
       "text": [
        "\n",
        "['../../images/testsets/Gallagher_small/32_639.jpg', '../../images/testsets/Gallagher_small/18_220.jpg']\n",
        "Score: 0.0200 for 32 and 18"
       ]
      },
      {
       "output_type": "stream",
       "stream": "stdout",
       "text": [
        "\n",
        "['../../images/testsets/Gallagher_small/32_639.jpg', '../../images/testsets/Gallagher_small/15_151.jpg']\n",
        "Score: 0.0154 for 32 and 15"
       ]
      },
      {
       "output_type": "stream",
       "stream": "stdout",
       "text": [
        "\n",
        "['../../images/testsets/Gallagher_small/32_639.jpg', '../../images/testsets/Gallagher_small/16_182.jpg']\n",
        "Score: -0.1000 for 32 and 16 (Less than two matches)"
       ]
      },
      {
       "output_type": "stream",
       "stream": "stdout",
       "text": [
        "\n",
        "['../../images/testsets/Gallagher_small/32_639.jpg', '../../images/testsets/Gallagher_small/23_875.jpg']\n",
        "Score: 0.0604 for 32 and 23"
       ]
      },
      {
       "output_type": "stream",
       "stream": "stdout",
       "text": [
        "\n",
        "['../../images/testsets/Gallagher_small/32_639.jpg', '../../images/testsets/Gallagher_small/23_549.jpg']\n",
        "Score: -0.1000 for 32 and 23 (Less than two matches)"
       ]
      },
      {
       "output_type": "stream",
       "stream": "stdout",
       "text": [
        "\n",
        "['../../images/testsets/Gallagher_small/32_639.jpg', '../../images/testsets/Gallagher_small/32_648.jpg']\n",
        "Score: -0.1000 for 32 and 32 (Less than two matches)"
       ]
      },
      {
       "output_type": "stream",
       "stream": "stdout",
       "text": [
        "\n",
        "['../../images/testsets/Gallagher_small/32_639.jpg', '../../images/testsets/Gallagher_small/15_171.jpg']\n",
        "Score: -0.0785 for 32 and 15"
       ]
      },
      {
       "output_type": "stream",
       "stream": "stdout",
       "text": [
        "\n",
        "['../../images/testsets/Gallagher_small/32_639.jpg', '../../images/testsets/Gallagher_small/24_358.jpg']\n",
        "Score: -0.0115 for 32 and 24"
       ]
      },
      {
       "output_type": "stream",
       "stream": "stdout",
       "text": [
        "\n",
        "['../../images/testsets/Gallagher_small/32_639.jpg', '../../images/testsets/Gallagher_small/25_458.jpg']\n",
        "Score: -0.0032 for 32 and 25"
       ]
      },
      {
       "output_type": "stream",
       "stream": "stdout",
       "text": [
        "\n",
        "['../../images/testsets/Gallagher_small/32_639.jpg', '../../images/testsets/Gallagher_small/30_569.jpg']\n",
        "Score: -0.1000 for 32 and 30 (Less than two matches)"
       ]
      },
      {
       "output_type": "stream",
       "stream": "stdout",
       "text": [
        "\n",
        "['../../images/testsets/Gallagher_small/32_639.jpg', '../../images/testsets/Gallagher_small/32_645.jpg']\n",
        "Score: 0.0376 for 32 and 32"
       ]
      },
      {
       "output_type": "stream",
       "stream": "stdout",
       "text": [
        "\n",
        "['../../images/testsets/Gallagher_small/32_639.jpg', '../../images/testsets/Gallagher_small/29_538.jpg']\n",
        "Score: -0.1000 for 32 and 29 (Less than two matches)"
       ]
      },
      {
       "output_type": "stream",
       "stream": "stdout",
       "text": [
        "\n",
        "['../../images/testsets/Gallagher_small/32_639.jpg', '../../images/testsets/Gallagher_small/21_251.jpg']\n",
        "Score: 0.0073 for 32 and 21"
       ]
      },
      {
       "output_type": "stream",
       "stream": "stdout",
       "text": [
        "\n",
        "['../../images/testsets/Gallagher_small/32_639.jpg', '../../images/testsets/Gallagher_small/20_249.jpg']\n",
        "Score: -0.0886 for 32 and 20"
       ]
      },
      {
       "output_type": "stream",
       "stream": "stdout",
       "text": [
        "\n",
        "['../../images/testsets/Gallagher_small/32_639.jpg', '../../images/testsets/Gallagher_small/15_181.jpg']\n",
        "Score: 0.0985 for 32 and 15"
       ]
      },
      {
       "output_type": "stream",
       "stream": "stdout",
       "text": [
        "\n",
        "['../../images/testsets/Gallagher_small/32_639.jpg', '../../images/testsets/Gallagher_small/15_158.jpg']\n",
        "Score: 0.0572 for 32 and 15"
       ]
      },
      {
       "output_type": "stream",
       "stream": "stdout",
       "text": [
        "\n",
        "['../../images/testsets/Gallagher_small/32_639.jpg', '../../images/testsets/Gallagher_small/19_195.jpg']\n",
        "Score: -0.1000 for 32 and 19 (Less than two matches)"
       ]
      },
      {
       "output_type": "stream",
       "stream": "stdout",
       "text": [
        "\n",
        "['../../images/testsets/Gallagher_small/32_639.jpg', '../../images/testsets/Gallagher_small/19_193.jpg']\n",
        "Score: -0.1000 for 32 and 19 (Less than two matches)"
       ]
      },
      {
       "output_type": "stream",
       "stream": "stdout",
       "text": [
        "\n",
        "['../../images/testsets/Gallagher_small/32_639.jpg', '../../images/testsets/Gallagher_small/21_287.jpg']\n",
        "Score: -0.1000 for 32 and 21 (Less than two matches)"
       ]
      },
      {
       "output_type": "stream",
       "stream": "stdout",
       "text": [
        "\n",
        "['../../images/testsets/Gallagher_small/32_639.jpg', '../../images/testsets/Gallagher_small/26_565.jpg']\n",
        "Score: -0.1000 for 32 and 26 (Less than two matches)"
       ]
      },
      {
       "output_type": "stream",
       "stream": "stdout",
       "text": [
        "\n",
        "['../../images/testsets/Gallagher_small/32_639.jpg', '../../images/testsets/Gallagher_small/27_509.jpg']\n",
        "Score: -0.1000 for 32 and 27 (Less than two matches)"
       ]
      },
      {
       "output_type": "stream",
       "stream": "stdout",
       "text": [
        "\n",
        "['../../images/testsets/Gallagher_small/32_639.jpg', '../../images/testsets/Gallagher_small/15_169.jpg']\n",
        "Score: 0.0216 for 32 and 15"
       ]
      },
      {
       "output_type": "stream",
       "stream": "stdout",
       "text": [
        "\n",
        "['../../images/testsets/Gallagher_small/32_639.jpg', '../../images/testsets/Gallagher_small/15_167.jpg']\n",
        "Score: -0.1000 for 32 and 15 (Less than two matches)"
       ]
      },
      {
       "output_type": "stream",
       "stream": "stdout",
       "text": [
        "\n",
        "['../../images/testsets/Gallagher_small/32_639.jpg', '../../images/testsets/Gallagher_small/21_587.jpg']\n",
        "Score: -0.1000 for 32 and 21 (Less than two matches)"
       ]
      },
      {
       "output_type": "stream",
       "stream": "stdout",
       "text": [
        "\n",
        "['../../images/testsets/Gallagher_small/32_639.jpg', '../../images/testsets/Gallagher_small/15_222.jpg']\n",
        "Score: -0.1000 for 32 and 15 (Less than two matches)"
       ]
      },
      {
       "output_type": "stream",
       "stream": "stdout",
       "text": [
        "\n",
        "['../../images/testsets/Gallagher_small/32_639.jpg', '../../images/testsets/Gallagher_small/16_178.jpg']\n",
        "Score: -0.1000 for 32 and 16 (Less than two matches)"
       ]
      },
      {
       "output_type": "stream",
       "stream": "stdout",
       "text": [
        "\n",
        "['../../images/testsets/Gallagher_small/32_639.jpg', '../../images/testsets/Gallagher_small/17_165.jpg']\n",
        "Score: -0.1000 for 32 and 17 (Less than two matches)"
       ]
      },
      {
       "output_type": "stream",
       "stream": "stdout",
       "text": [
        "\n",
        "['../../images/testsets/Gallagher_small/32_639.jpg', '../../images/testsets/Gallagher_small/28_537.jpg']\n",
        "Score: -0.1000 for 32 and 28 (Less than two matches)"
       ]
      },
      {
       "output_type": "stream",
       "stream": "stdout",
       "text": [
        "\n",
        "['../../images/testsets/Gallagher_small/32_639.jpg', '../../images/testsets/Gallagher_small/27_524.jpg']\n",
        "Score: -0.1000 for 32 and 27 (Less than two matches)"
       ]
      },
      {
       "output_type": "stream",
       "stream": "stdout",
       "text": [
        "\n",
        "['../../images/testsets/Gallagher_small/32_639.jpg', '../../images/testsets/Gallagher_small/13_163.jpg']\n",
        "Score: -0.1000 for 32 and 13 (Less than two matches)"
       ]
      },
      {
       "output_type": "stream",
       "stream": "stdout",
       "text": [
        "\n",
        "['../../images/testsets/Gallagher_small/32_639.jpg', '../../images/testsets/Gallagher_small/23_302.jpg']\n",
        "Score: 0.0255 for 32 and 23"
       ]
      },
      {
       "output_type": "stream",
       "stream": "stdout",
       "text": [
        "\n",
        "['../../images/testsets/Gallagher_small/30_554.jpg', '../../images/testsets/Gallagher_small/28_525.jpg']\n",
        "Score: 0.0242 for 30 and 28"
       ]
      },
      {
       "output_type": "stream",
       "stream": "stdout",
       "text": [
        "\n",
        "['../../images/testsets/Gallagher_small/30_554.jpg', '../../images/testsets/Gallagher_small/30_539.jpg']\n",
        "Score: -0.1000 for 30 and 30 (Less than two matches)"
       ]
      },
      {
       "output_type": "stream",
       "stream": "stdout",
       "text": [
        "\n",
        "['../../images/testsets/Gallagher_small/30_554.jpg', '../../images/testsets/Gallagher_small/26_550.jpg']\n",
        "Score: 0.0386 for 30 and 26"
       ]
      },
      {
       "output_type": "stream",
       "stream": "stdout",
       "text": [
        "\n",
        "['../../images/testsets/Gallagher_small/30_554.jpg', '../../images/testsets/Gallagher_small/15_170.jpg']\n",
        "Score: -0.1000 for 30 and 15 (Less than two matches)"
       ]
      },
      {
       "output_type": "stream",
       "stream": "stdout",
       "text": [
        "\n",
        "['../../images/testsets/Gallagher_small/30_554.jpg', '../../images/testsets/Gallagher_small/21_293.jpg']\n",
        "Score: -0.1000 for 30 and 21 (Less than two matches)"
       ]
      },
      {
       "output_type": "stream",
       "stream": "stdout",
       "text": [
        "\n",
        "['../../images/testsets/Gallagher_small/30_554.jpg', '../../images/testsets/Gallagher_small/24_379.jpg']\n",
        "Score: -0.1000 for 30 and 24 (Less than two matches)"
       ]
      },
      {
       "output_type": "stream",
       "stream": "stdout",
       "text": [
        "\n",
        "['../../images/testsets/Gallagher_small/30_554.jpg', '../../images/testsets/Gallagher_small/17_212.jpg']\n",
        "Score: 0.0315 for 30 and 17"
       ]
      },
      {
       "output_type": "stream",
       "stream": "stdout",
       "text": [
        "\n",
        "['../../images/testsets/Gallagher_small/30_554.jpg', '../../images/testsets/Gallagher_small/14_699.jpg']\n",
        "Score: -0.1000 for 30 and 14 (Less than two matches)"
       ]
      },
      {
       "output_type": "stream",
       "stream": "stdout",
       "text": [
        "\n",
        "['../../images/testsets/Gallagher_small/30_554.jpg', '../../images/testsets/Gallagher_small/28_567.jpg']\n",
        "Score: 0.0817 for 30 and 28"
       ]
      },
      {
       "output_type": "stream",
       "stream": "stdout",
       "text": [
        "\n",
        "['../../images/testsets/Gallagher_small/30_554.jpg', '../../images/testsets/Gallagher_small/27_551.jpg']\n",
        "Score: -0.1000 for 30 and 27 (Less than two matches)"
       ]
      },
      {
       "output_type": "stream",
       "stream": "stdout",
       "text": [
        "\n",
        "['../../images/testsets/Gallagher_small/30_554.jpg', '../../images/testsets/Gallagher_small/22_254.jpg']\n",
        "Score: -0.1000 for 30 and 22 (Less than two matches)"
       ]
      },
      {
       "output_type": "stream",
       "stream": "stdout",
       "text": [
        "\n",
        "['../../images/testsets/Gallagher_small/30_554.jpg', '../../images/testsets/Gallagher_small/29_568.jpg']\n",
        "Score: -0.0602 for 30 and 29"
       ]
      },
      {
       "output_type": "stream",
       "stream": "stdout",
       "text": [
        "\n",
        "['../../images/testsets/Gallagher_small/30_554.jpg', '../../images/testsets/Gallagher_small/15_154.jpg']\n",
        "Score: -0.1000 for 30 and 15 (Less than two matches)"
       ]
      },
      {
       "output_type": "stream",
       "stream": "stdout",
       "text": [
        "\n",
        "['../../images/testsets/Gallagher_small/30_554.jpg', '../../images/testsets/Gallagher_small/25_431.jpg']\n",
        "Score: -0.1000 for 30 and 25 (Less than two matches)"
       ]
      },
      {
       "output_type": "stream",
       "stream": "stdout",
       "text": [
        "\n",
        "['../../images/testsets/Gallagher_small/30_554.jpg', '../../images/testsets/Gallagher_small/23_305.jpg']\n",
        "Score: -0.1352 for 30 and 23"
       ]
      },
      {
       "output_type": "stream",
       "stream": "stdout",
       "text": [
        "\n",
        "['../../images/testsets/Gallagher_small/30_554.jpg', '../../images/testsets/Gallagher_small/16_164.jpg']\n",
        "Score: 0.0911 for 30 and 16"
       ]
      },
      {
       "output_type": "stream",
       "stream": "stdout",
       "text": [
        "\n",
        "['../../images/testsets/Gallagher_small/30_554.jpg', '../../images/testsets/Gallagher_small/18_166.jpg']\n",
        "Score: -0.1000 for 30 and 18 (Less than two matches)"
       ]
      },
      {
       "output_type": "stream",
       "stream": "stdout",
       "text": [
        "\n",
        "['../../images/testsets/Gallagher_small/30_554.jpg', '../../images/testsets/Gallagher_small/25_770.jpg']\n",
        "Score: -0.1000 for 30 and 25 (Less than two matches)"
       ]
      },
      {
       "output_type": "stream",
       "stream": "stdout",
       "text": [
        "\n",
        "['../../images/testsets/Gallagher_small/30_554.jpg', '../../images/testsets/Gallagher_small/32_642.jpg']\n",
        "Score: -0.1000 for 30 and 32 (Less than two matches)"
       ]
      },
      {
       "output_type": "stream",
       "stream": "stdout",
       "text": [
        "\n",
        "['../../images/testsets/Gallagher_small/30_554.jpg', '../../images/testsets/Gallagher_small/19_198.jpg']\n",
        "Score: -0.1000 for 30 and 19 (Less than two matches)"
       ]
      },
      {
       "output_type": "stream",
       "stream": "stdout",
       "text": [
        "\n",
        "['../../images/testsets/Gallagher_small/30_554.jpg', '../../images/testsets/Gallagher_small/21_294.jpg']\n",
        "Score: -0.1000 for 30 and 21 (Less than two matches)"
       ]
      },
      {
       "output_type": "stream",
       "stream": "stdout",
       "text": [
        "\n",
        "['../../images/testsets/Gallagher_small/30_554.jpg', '../../images/testsets/Gallagher_small/14_206.jpg']\n",
        "Score: -0.1000 for 30 and 14 (Less than two matches)"
       ]
      },
      {
       "output_type": "stream",
       "stream": "stdout",
       "text": [
        "\n",
        "['../../images/testsets/Gallagher_small/30_554.jpg', '../../images/testsets/Gallagher_small/26_535.jpg']\n",
        "Score: -0.1000 for 30 and 26 (Less than two matches)"
       ]
      },
      {
       "output_type": "stream",
       "stream": "stdout",
       "text": [
        "\n",
        "['../../images/testsets/Gallagher_small/30_554.jpg', '../../images/testsets/Gallagher_small/22_255.jpg']\n",
        "Score: -0.1000 for 30 and 22 (Less than two matches)"
       ]
      },
      {
       "output_type": "stream",
       "stream": "stdout",
       "text": [
        "\n",
        "['../../images/testsets/Gallagher_small/30_554.jpg', '../../images/testsets/Gallagher_small/29_553.jpg']\n",
        "Score: -0.0284 for 30 and 29"
       ]
      },
      {
       "output_type": "stream",
       "stream": "stdout",
       "text": [
        "\n",
        "['../../images/testsets/Gallagher_small/30_554.jpg', '../../images/testsets/Gallagher_small/13_168.jpg']\n",
        "Score: -0.1000 for 30 and 13 (Less than two matches)"
       ]
      },
      {
       "output_type": "stream",
       "stream": "stdout",
       "text": [
        "\n",
        "['../../images/testsets/Gallagher_small/30_554.jpg', '../../images/testsets/Gallagher_small/28_552.jpg']\n",
        "Score: -0.1000 for 30 and 28 (Less than two matches)"
       ]
      },
      {
       "output_type": "stream",
       "stream": "stdout",
       "text": [
        "\n",
        "['../../images/testsets/Gallagher_small/30_554.jpg', '../../images/testsets/Gallagher_small/13_145.jpg']\n",
        "Score: -0.1000 for 30 and 13 (Less than two matches)"
       ]
      },
      {
       "output_type": "stream",
       "stream": "stdout",
       "text": [
        "\n",
        "['../../images/testsets/Gallagher_small/30_554.jpg', '../../images/testsets/Gallagher_small/14_207.jpg']\n",
        "Score: -0.1000 for 30 and 14 (Less than two matches)"
       ]
      },
      {
       "output_type": "stream",
       "stream": "stdout",
       "text": [
        "\n",
        "['../../images/testsets/Gallagher_small/30_554.jpg', '../../images/testsets/Gallagher_small/14_150.jpg']\n",
        "Score: -0.1000 for 30 and 14 (Less than two matches)"
       ]
      },
      {
       "output_type": "stream",
       "stream": "stdout",
       "text": [
        "\n",
        "['../../images/testsets/Gallagher_small/30_554.jpg', '../../images/testsets/Gallagher_small/27_566.jpg']\n",
        "Score: -0.1000 for 30 and 27 (Less than two matches)"
       ]
      },
      {
       "output_type": "stream",
       "stream": "stdout",
       "text": [
        "\n",
        "['../../images/testsets/Gallagher_small/30_554.jpg', '../../images/testsets/Gallagher_small/17_183.jpg']\n",
        "Score: -0.1000 for 30 and 17 (Less than two matches)"
       ]
      },
      {
       "output_type": "stream",
       "stream": "stdout",
       "text": [
        "\n",
        "['../../images/testsets/Gallagher_small/30_554.jpg', '../../images/testsets/Gallagher_small/19_187.jpg']\n",
        "Score: -0.1000 for 30 and 19 (Less than two matches)"
       ]
      },
      {
       "output_type": "stream",
       "stream": "stdout",
       "text": [
        "\n",
        "['../../images/testsets/Gallagher_small/30_554.jpg', '../../images/testsets/Gallagher_small/31_580.jpg']\n",
        "Score: -0.1000 for 30 and 31 (Less than two matches)"
       ]
      },
      {
       "output_type": "stream",
       "stream": "stdout",
       "text": [
        "\n",
        "['../../images/testsets/Gallagher_small/30_554.jpg', '../../images/testsets/Gallagher_small/21_872.jpg']\n",
        "Score: -0.1000 for 30 and 21 (Less than two matches)"
       ]
      },
      {
       "output_type": "stream",
       "stream": "stdout",
       "text": [
        "\n",
        "['../../images/testsets/Gallagher_small/30_554.jpg', '../../images/testsets/Gallagher_small/23_307.jpg']\n",
        "Score: 0.0522 for 30 and 23"
       ]
      },
      {
       "output_type": "stream",
       "stream": "stdout",
       "text": [
        "\n",
        "['../../images/testsets/Gallagher_small/30_554.jpg', '../../images/testsets/Gallagher_small/25_462.jpg']\n",
        "Score: -0.1000 for 30 and 25 (Less than two matches)"
       ]
      },
      {
       "output_type": "stream",
       "stream": "stdout",
       "text": [
        "\n",
        "['../../images/testsets/Gallagher_small/30_554.jpg', '../../images/testsets/Gallagher_small/23_534.jpg']\n",
        "Score: -0.1000 for 30 and 23 (Less than two matches)"
       ]
      },
      {
       "output_type": "stream",
       "stream": "stdout",
       "text": [
        "\n",
        "['../../images/testsets/Gallagher_small/30_554.jpg', '../../images/testsets/Gallagher_small/31_582.jpg']\n",
        "Score: 0.0358 for 30 and 31"
       ]
      },
      {
       "output_type": "stream",
       "stream": "stdout",
       "text": [
        "\n",
        "['../../images/testsets/Gallagher_small/30_554.jpg', '../../images/testsets/Gallagher_small/15_224.jpg']\n",
        "Score: -0.1000 for 30 and 15 (Less than two matches)"
       ]
      },
      {
       "output_type": "stream",
       "stream": "stdout",
       "text": [
        "\n",
        "['../../images/testsets/Gallagher_small/30_554.jpg', '../../images/testsets/Gallagher_small/23_508.jpg']\n",
        "Score: 0.0291 for 30 and 23"
       ]
      },
      {
       "output_type": "stream",
       "stream": "stdout",
       "text": [
        "\n",
        "['../../images/testsets/Gallagher_small/30_554.jpg', '../../images/testsets/Gallagher_small/18_220.jpg']\n",
        "Score: -0.1000 for 30 and 18 (Less than two matches)"
       ]
      },
      {
       "output_type": "stream",
       "stream": "stdout",
       "text": [
        "\n",
        "['../../images/testsets/Gallagher_small/30_554.jpg', '../../images/testsets/Gallagher_small/15_151.jpg']\n",
        "Score: -0.1000 for 30 and 15 (Less than two matches)"
       ]
      },
      {
       "output_type": "stream",
       "stream": "stdout",
       "text": [
        "\n",
        "['../../images/testsets/Gallagher_small/30_554.jpg', '../../images/testsets/Gallagher_small/16_182.jpg']\n",
        "Score: 0.0272 for 30 and 16"
       ]
      },
      {
       "output_type": "stream",
       "stream": "stdout",
       "text": [
        "\n",
        "['../../images/testsets/Gallagher_small/30_554.jpg', '../../images/testsets/Gallagher_small/23_875.jpg']\n",
        "Score: -0.1000 for 30 and 23 (Less than two matches)"
       ]
      },
      {
       "output_type": "stream",
       "stream": "stdout",
       "text": [
        "\n",
        "['../../images/testsets/Gallagher_small/30_554.jpg', '../../images/testsets/Gallagher_small/23_549.jpg']\n",
        "Score: 0.0625 for 30 and 23"
       ]
      },
      {
       "output_type": "stream",
       "stream": "stdout",
       "text": [
        "\n",
        "['../../images/testsets/Gallagher_small/30_554.jpg', '../../images/testsets/Gallagher_small/32_648.jpg']\n",
        "Score: -0.1000 for 30 and 32 (Less than two matches)"
       ]
      },
      {
       "output_type": "stream",
       "stream": "stdout",
       "text": [
        "\n",
        "['../../images/testsets/Gallagher_small/30_554.jpg', '../../images/testsets/Gallagher_small/15_171.jpg']\n",
        "Score: -0.1000 for 30 and 15 (Less than two matches)"
       ]
      },
      {
       "output_type": "stream",
       "stream": "stdout",
       "text": [
        "\n",
        "['../../images/testsets/Gallagher_small/30_554.jpg', '../../images/testsets/Gallagher_small/24_358.jpg']\n",
        "Score: -0.1000 for 30 and 24 (Less than two matches)"
       ]
      },
      {
       "output_type": "stream",
       "stream": "stdout",
       "text": [
        "\n",
        "['../../images/testsets/Gallagher_small/30_554.jpg', '../../images/testsets/Gallagher_small/25_458.jpg']\n",
        "Score: -0.1000 for 30 and 25 (Less than two matches)"
       ]
      },
      {
       "output_type": "stream",
       "stream": "stdout",
       "text": [
        "\n",
        "['../../images/testsets/Gallagher_small/30_554.jpg', '../../images/testsets/Gallagher_small/30_569.jpg']\n",
        "Score: 0.1088 for 30 and 30"
       ]
      },
      {
       "output_type": "stream",
       "stream": "stdout",
       "text": [
        "\n",
        "['../../images/testsets/Gallagher_small/30_554.jpg', '../../images/testsets/Gallagher_small/32_645.jpg']\n",
        "Score: -0.0104 for 30 and 32"
       ]
      },
      {
       "output_type": "stream",
       "stream": "stdout",
       "text": [
        "\n",
        "['../../images/testsets/Gallagher_small/30_554.jpg', '../../images/testsets/Gallagher_small/29_538.jpg']\n",
        "Score: -0.1000 for 30 and 29 (Less than two matches)"
       ]
      },
      {
       "output_type": "stream",
       "stream": "stdout",
       "text": [
        "\n",
        "['../../images/testsets/Gallagher_small/30_554.jpg', '../../images/testsets/Gallagher_small/21_251.jpg']\n",
        "Score: 0.0654 for 30 and 21"
       ]
      },
      {
       "output_type": "stream",
       "stream": "stdout",
       "text": [
        "\n",
        "['../../images/testsets/Gallagher_small/30_554.jpg', '../../images/testsets/Gallagher_small/20_249.jpg']\n",
        "Score: -0.1000 for 30 and 20 (Less than two matches)"
       ]
      },
      {
       "output_type": "stream",
       "stream": "stdout",
       "text": [
        "\n",
        "['../../images/testsets/Gallagher_small/30_554.jpg', '../../images/testsets/Gallagher_small/15_181.jpg']\n",
        "Score: -0.1000 for 30 and 15 (Less than two matches)"
       ]
      },
      {
       "output_type": "stream",
       "stream": "stdout",
       "text": [
        "\n",
        "['../../images/testsets/Gallagher_small/30_554.jpg', '../../images/testsets/Gallagher_small/15_158.jpg']\n",
        "Score: -0.1000 for 30 and 15 (Less than two matches)"
       ]
      },
      {
       "output_type": "stream",
       "stream": "stdout",
       "text": [
        "\n",
        "['../../images/testsets/Gallagher_small/30_554.jpg', '../../images/testsets/Gallagher_small/19_195.jpg']\n",
        "Score: -0.1000 for 30 and 19 (Less than two matches)"
       ]
      },
      {
       "output_type": "stream",
       "stream": "stdout",
       "text": [
        "\n",
        "['../../images/testsets/Gallagher_small/30_554.jpg', '../../images/testsets/Gallagher_small/19_193.jpg']\n",
        "Score: -0.1000 for 30 and 19 (Less than two matches)"
       ]
      },
      {
       "output_type": "stream",
       "stream": "stdout",
       "text": [
        "\n",
        "['../../images/testsets/Gallagher_small/30_554.jpg', '../../images/testsets/Gallagher_small/21_287.jpg']\n",
        "Score: -0.1000 for 30 and 21 (Less than two matches)"
       ]
      },
      {
       "output_type": "stream",
       "stream": "stdout",
       "text": [
        "\n",
        "['../../images/testsets/Gallagher_small/30_554.jpg', '../../images/testsets/Gallagher_small/26_565.jpg']\n",
        "Score: 0.0472 for 30 and 26"
       ]
      },
      {
       "output_type": "stream",
       "stream": "stdout",
       "text": [
        "\n",
        "['../../images/testsets/Gallagher_small/30_554.jpg', '../../images/testsets/Gallagher_small/27_509.jpg']\n",
        "Score: 0.0363 for 30 and 27"
       ]
      },
      {
       "output_type": "stream",
       "stream": "stdout",
       "text": [
        "\n",
        "['../../images/testsets/Gallagher_small/30_554.jpg', '../../images/testsets/Gallagher_small/15_169.jpg']\n",
        "Score: -0.0469 for 30 and 15"
       ]
      },
      {
       "output_type": "stream",
       "stream": "stdout",
       "text": [
        "\n",
        "['../../images/testsets/Gallagher_small/30_554.jpg', '../../images/testsets/Gallagher_small/15_167.jpg']\n",
        "Score: -0.1000 for 30 and 15 (Less than two matches)"
       ]
      },
      {
       "output_type": "stream",
       "stream": "stdout",
       "text": [
        "\n",
        "['../../images/testsets/Gallagher_small/30_554.jpg', '../../images/testsets/Gallagher_small/21_587.jpg']\n",
        "Score: -0.1000 for 30 and 21 (Less than two matches)"
       ]
      },
      {
       "output_type": "stream",
       "stream": "stdout",
       "text": [
        "\n",
        "['../../images/testsets/Gallagher_small/30_554.jpg', '../../images/testsets/Gallagher_small/15_222.jpg']\n",
        "Score: -0.1000 for 30 and 15 (Less than two matches)"
       ]
      },
      {
       "output_type": "stream",
       "stream": "stdout",
       "text": [
        "\n",
        "['../../images/testsets/Gallagher_small/30_554.jpg', '../../images/testsets/Gallagher_small/16_178.jpg']\n",
        "Score: -0.1000 for 30 and 16 (Less than two matches)"
       ]
      },
      {
       "output_type": "stream",
       "stream": "stdout",
       "text": [
        "\n",
        "['../../images/testsets/Gallagher_small/30_554.jpg', '../../images/testsets/Gallagher_small/17_165.jpg']\n",
        "Score: -0.1000 for 30 and 17 (Less than two matches)"
       ]
      },
      {
       "output_type": "stream",
       "stream": "stdout",
       "text": [
        "\n",
        "['../../images/testsets/Gallagher_small/30_554.jpg', '../../images/testsets/Gallagher_small/28_537.jpg']\n",
        "Score: -0.1000 for 30 and 28 (Less than two matches)"
       ]
      },
      {
       "output_type": "stream",
       "stream": "stdout",
       "text": [
        "\n",
        "['../../images/testsets/Gallagher_small/30_554.jpg', '../../images/testsets/Gallagher_small/27_524.jpg']\n",
        "Score: -0.1000 for 30 and 27 (Less than two matches)"
       ]
      },
      {
       "output_type": "stream",
       "stream": "stdout",
       "text": [
        "\n",
        "['../../images/testsets/Gallagher_small/30_554.jpg', '../../images/testsets/Gallagher_small/13_163.jpg']\n",
        "Score: 0.0585 for 30 and 13"
       ]
      },
      {
       "output_type": "stream",
       "stream": "stdout",
       "text": [
        "\n",
        "['../../images/testsets/Gallagher_small/30_554.jpg', '../../images/testsets/Gallagher_small/23_302.jpg']\n",
        "Score: 0.0643 for 30 and 23"
       ]
      },
      {
       "output_type": "stream",
       "stream": "stdout",
       "text": [
        "\n",
        "['../../images/testsets/Gallagher_small/28_525.jpg', '../../images/testsets/Gallagher_small/30_539.jpg']\n",
        "Score: -0.1000 for 28 and 30 (Less than two matches)"
       ]
      },
      {
       "output_type": "stream",
       "stream": "stdout",
       "text": [
        "\n",
        "['../../images/testsets/Gallagher_small/28_525.jpg', '../../images/testsets/Gallagher_small/26_550.jpg']\n",
        "Score: -0.0203 for 28 and 26"
       ]
      },
      {
       "output_type": "stream",
       "stream": "stdout",
       "text": [
        "\n",
        "['../../images/testsets/Gallagher_small/28_525.jpg', '../../images/testsets/Gallagher_small/15_170.jpg']\n",
        "Score: 0.0115 for 28 and 15"
       ]
      },
      {
       "output_type": "stream",
       "stream": "stdout",
       "text": [
        "\n",
        "['../../images/testsets/Gallagher_small/28_525.jpg', '../../images/testsets/Gallagher_small/21_293.jpg']\n",
        "Score: -0.1000 for 28 and 21 (Less than two matches)"
       ]
      },
      {
       "output_type": "stream",
       "stream": "stdout",
       "text": [
        "\n",
        "['../../images/testsets/Gallagher_small/28_525.jpg', '../../images/testsets/Gallagher_small/24_379.jpg']\n",
        "Score: -0.1000 for 28 and 24 (Less than two matches)"
       ]
      },
      {
       "output_type": "stream",
       "stream": "stdout",
       "text": [
        "\n",
        "['../../images/testsets/Gallagher_small/28_525.jpg', '../../images/testsets/Gallagher_small/17_212.jpg']\n",
        "Score: 0.0685 for 28 and 17"
       ]
      },
      {
       "output_type": "stream",
       "stream": "stdout",
       "text": [
        "\n",
        "['../../images/testsets/Gallagher_small/28_525.jpg', '../../images/testsets/Gallagher_small/14_699.jpg']\n",
        "Score: 0.0605 for 28 and 14"
       ]
      },
      {
       "output_type": "stream",
       "stream": "stdout",
       "text": [
        "\n",
        "['../../images/testsets/Gallagher_small/28_525.jpg', '../../images/testsets/Gallagher_small/28_567.jpg']\n",
        "Score: 0.1142 for 28 and 28"
       ]
      },
      {
       "output_type": "stream",
       "stream": "stdout",
       "text": [
        "\n",
        "['../../images/testsets/Gallagher_small/28_525.jpg', '../../images/testsets/Gallagher_small/27_551.jpg']\n",
        "Score: -0.1000 for 28 and 27 (Less than two matches)"
       ]
      },
      {
       "output_type": "stream",
       "stream": "stdout",
       "text": [
        "\n",
        "['../../images/testsets/Gallagher_small/28_525.jpg', '../../images/testsets/Gallagher_small/22_254.jpg']\n",
        "Score: -0.1000 for 28 and 22 (Less than two matches)"
       ]
      },
      {
       "output_type": "stream",
       "stream": "stdout",
       "text": [
        "\n",
        "['../../images/testsets/Gallagher_small/28_525.jpg', '../../images/testsets/Gallagher_small/29_568.jpg']\n",
        "Score: 0.0493 for 28 and 29"
       ]
      },
      {
       "output_type": "stream",
       "stream": "stdout",
       "text": [
        "\n",
        "['../../images/testsets/Gallagher_small/28_525.jpg', '../../images/testsets/Gallagher_small/15_154.jpg']\n",
        "Score: -0.0251 for 28 and 15"
       ]
      },
      {
       "output_type": "stream",
       "stream": "stdout",
       "text": [
        "\n",
        "['../../images/testsets/Gallagher_small/28_525.jpg', '../../images/testsets/Gallagher_small/25_431.jpg']\n",
        "Score: -0.0078 for 28 and 25"
       ]
      },
      {
       "output_type": "stream",
       "stream": "stdout",
       "text": [
        "\n",
        "['../../images/testsets/Gallagher_small/28_525.jpg', '../../images/testsets/Gallagher_small/23_305.jpg']\n",
        "Score: 0.0493 for 28 and 23"
       ]
      },
      {
       "output_type": "stream",
       "stream": "stdout",
       "text": [
        "\n",
        "['../../images/testsets/Gallagher_small/28_525.jpg', '../../images/testsets/Gallagher_small/16_164.jpg']\n",
        "Score: -0.0055 for 28 and 16"
       ]
      },
      {
       "output_type": "stream",
       "stream": "stdout",
       "text": [
        "\n",
        "['../../images/testsets/Gallagher_small/28_525.jpg', '../../images/testsets/Gallagher_small/18_166.jpg']\n",
        "Score: -0.0118 for 28 and 18"
       ]
      },
      {
       "output_type": "stream",
       "stream": "stdout",
       "text": [
        "\n",
        "['../../images/testsets/Gallagher_small/28_525.jpg', '../../images/testsets/Gallagher_small/25_770.jpg']\n",
        "Score: 0.0498 for 28 and 25"
       ]
      },
      {
       "output_type": "stream",
       "stream": "stdout",
       "text": [
        "\n",
        "['../../images/testsets/Gallagher_small/28_525.jpg', '../../images/testsets/Gallagher_small/32_642.jpg']\n",
        "Score: 0.0433 for 28 and 32"
       ]
      },
      {
       "output_type": "stream",
       "stream": "stdout",
       "text": [
        "\n",
        "['../../images/testsets/Gallagher_small/28_525.jpg', '../../images/testsets/Gallagher_small/19_198.jpg']\n",
        "Score: -0.1000 for 28 and 19 (Less than two matches)"
       ]
      },
      {
       "output_type": "stream",
       "stream": "stdout",
       "text": [
        "\n",
        "['../../images/testsets/Gallagher_small/28_525.jpg', '../../images/testsets/Gallagher_small/21_294.jpg']\n",
        "Score: 0.0566 for 28 and 21"
       ]
      },
      {
       "output_type": "stream",
       "stream": "stdout",
       "text": [
        "\n",
        "['../../images/testsets/Gallagher_small/28_525.jpg', '../../images/testsets/Gallagher_small/14_206.jpg']\n",
        "Score: -0.1000 for 28 and 14 (Less than two matches)"
       ]
      },
      {
       "output_type": "stream",
       "stream": "stdout",
       "text": [
        "\n",
        "['../../images/testsets/Gallagher_small/28_525.jpg', '../../images/testsets/Gallagher_small/26_535.jpg']\n",
        "Score: -0.1000 for 28 and 26 (Less than two matches)"
       ]
      },
      {
       "output_type": "stream",
       "stream": "stdout",
       "text": [
        "\n",
        "['../../images/testsets/Gallagher_small/28_525.jpg', '../../images/testsets/Gallagher_small/22_255.jpg']\n",
        "Score: -0.1000 for 28 and 22 (Less than two matches)"
       ]
      },
      {
       "output_type": "stream",
       "stream": "stdout",
       "text": [
        "\n",
        "['../../images/testsets/Gallagher_small/28_525.jpg', '../../images/testsets/Gallagher_small/29_553.jpg']\n",
        "Score: 0.0439 for 28 and 29"
       ]
      },
      {
       "output_type": "stream",
       "stream": "stdout",
       "text": [
        "\n",
        "['../../images/testsets/Gallagher_small/28_525.jpg', '../../images/testsets/Gallagher_small/13_168.jpg']\n",
        "Score: -0.1000 for 28 and 13 (Less than two matches)"
       ]
      },
      {
       "output_type": "stream",
       "stream": "stdout",
       "text": [
        "\n",
        "['../../images/testsets/Gallagher_small/28_525.jpg', '../../images/testsets/Gallagher_small/28_552.jpg']\n",
        "Score: 0.0766 for 28 and 28"
       ]
      },
      {
       "output_type": "stream",
       "stream": "stdout",
       "text": [
        "\n",
        "['../../images/testsets/Gallagher_small/28_525.jpg', '../../images/testsets/Gallagher_small/13_145.jpg']\n",
        "Score: -0.1000 for 28 and 13 (Less than two matches)"
       ]
      },
      {
       "output_type": "stream",
       "stream": "stdout",
       "text": [
        "\n",
        "['../../images/testsets/Gallagher_small/28_525.jpg', '../../images/testsets/Gallagher_small/14_207.jpg']\n",
        "Score: -0.1000 for 28 and 14 (Less than two matches)"
       ]
      },
      {
       "output_type": "stream",
       "stream": "stdout",
       "text": [
        "\n",
        "['../../images/testsets/Gallagher_small/28_525.jpg', '../../images/testsets/Gallagher_small/14_150.jpg']\n",
        "Score: -0.1000 for 28 and 14 (Less than two matches)"
       ]
      },
      {
       "output_type": "stream",
       "stream": "stdout",
       "text": [
        "\n",
        "['../../images/testsets/Gallagher_small/28_525.jpg', '../../images/testsets/Gallagher_small/27_566.jpg']\n",
        "Score: -0.1000 for 28 and 27 (Less than two matches)"
       ]
      },
      {
       "output_type": "stream",
       "stream": "stdout",
       "text": [
        "\n",
        "['../../images/testsets/Gallagher_small/28_525.jpg', '../../images/testsets/Gallagher_small/17_183.jpg']\n",
        "Score: 0.0430 for 28 and 17"
       ]
      },
      {
       "output_type": "stream",
       "stream": "stdout",
       "text": [
        "\n",
        "['../../images/testsets/Gallagher_small/28_525.jpg', '../../images/testsets/Gallagher_small/19_187.jpg']\n",
        "Score: 0.0477 for 28 and 19"
       ]
      },
      {
       "output_type": "stream",
       "stream": "stdout",
       "text": [
        "\n",
        "['../../images/testsets/Gallagher_small/28_525.jpg', '../../images/testsets/Gallagher_small/31_580.jpg']\n",
        "Score: -0.1000 for 28 and 31 (Less than two matches)"
       ]
      },
      {
       "output_type": "stream",
       "stream": "stdout",
       "text": [
        "\n",
        "['../../images/testsets/Gallagher_small/28_525.jpg', '../../images/testsets/Gallagher_small/21_872.jpg']\n",
        "Score: -0.1000 for 28 and 21 (Less than two matches)"
       ]
      },
      {
       "output_type": "stream",
       "stream": "stdout",
       "text": [
        "\n",
        "['../../images/testsets/Gallagher_small/28_525.jpg', '../../images/testsets/Gallagher_small/23_307.jpg']\n",
        "Score: 0.0749 for 28 and 23"
       ]
      },
      {
       "output_type": "stream",
       "stream": "stdout",
       "text": [
        "\n",
        "['../../images/testsets/Gallagher_small/28_525.jpg', '../../images/testsets/Gallagher_small/25_462.jpg']\n",
        "Score: 0.1447 for 28 and 25"
       ]
      },
      {
       "output_type": "stream",
       "stream": "stdout",
       "text": [
        "\n",
        "['../../images/testsets/Gallagher_small/28_525.jpg', '../../images/testsets/Gallagher_small/23_534.jpg']\n",
        "Score: -0.1000 for 28 and 23 (Less than two matches)"
       ]
      },
      {
       "output_type": "stream",
       "stream": "stdout",
       "text": [
        "\n",
        "['../../images/testsets/Gallagher_small/28_525.jpg', '../../images/testsets/Gallagher_small/31_582.jpg']\n",
        "Score: 0.0070 for 28 and 31"
       ]
      },
      {
       "output_type": "stream",
       "stream": "stdout",
       "text": [
        "\n",
        "['../../images/testsets/Gallagher_small/28_525.jpg', '../../images/testsets/Gallagher_small/15_224.jpg']\n",
        "Score: 0.0485 for 28 and 15"
       ]
      },
      {
       "output_type": "stream",
       "stream": "stdout",
       "text": [
        "\n",
        "['../../images/testsets/Gallagher_small/28_525.jpg', '../../images/testsets/Gallagher_small/23_508.jpg']\n",
        "Score: 0.0646 for 28 and 23"
       ]
      },
      {
       "output_type": "stream",
       "stream": "stdout",
       "text": [
        "\n",
        "['../../images/testsets/Gallagher_small/28_525.jpg', '../../images/testsets/Gallagher_small/18_220.jpg']\n",
        "Score: 0.0309 for 28 and 18"
       ]
      },
      {
       "output_type": "stream",
       "stream": "stdout",
       "text": [
        "\n",
        "['../../images/testsets/Gallagher_small/28_525.jpg', '../../images/testsets/Gallagher_small/15_151.jpg']\n",
        "Score: 0.0251 for 28 and 15"
       ]
      },
      {
       "output_type": "stream",
       "stream": "stdout",
       "text": [
        "\n",
        "['../../images/testsets/Gallagher_small/28_525.jpg', '../../images/testsets/Gallagher_small/16_182.jpg']\n",
        "Score: -0.1000 for 28 and 16 (Less than two matches)"
       ]
      },
      {
       "output_type": "stream",
       "stream": "stdout",
       "text": [
        "\n",
        "['../../images/testsets/Gallagher_small/28_525.jpg', '../../images/testsets/Gallagher_small/23_875.jpg']\n",
        "Score: 0.0416 for 28 and 23"
       ]
      },
      {
       "output_type": "stream",
       "stream": "stdout",
       "text": [
        "\n",
        "['../../images/testsets/Gallagher_small/28_525.jpg', '../../images/testsets/Gallagher_small/23_549.jpg']\n",
        "Score: -0.1000 for 28 and 23 (Less than two matches)"
       ]
      },
      {
       "output_type": "stream",
       "stream": "stdout",
       "text": [
        "\n",
        "['../../images/testsets/Gallagher_small/28_525.jpg', '../../images/testsets/Gallagher_small/32_648.jpg']\n",
        "Score: -0.1000 for 28 and 32 (Less than two matches)"
       ]
      },
      {
       "output_type": "stream",
       "stream": "stdout",
       "text": [
        "\n",
        "['../../images/testsets/Gallagher_small/28_525.jpg', '../../images/testsets/Gallagher_small/15_171.jpg']\n",
        "Score: -0.0107 for 28 and 15"
       ]
      },
      {
       "output_type": "stream",
       "stream": "stdout",
       "text": [
        "\n",
        "['../../images/testsets/Gallagher_small/28_525.jpg', '../../images/testsets/Gallagher_small/24_358.jpg']\n",
        "Score: -0.1000 for 28 and 24 (Less than two matches)"
       ]
      },
      {
       "output_type": "stream",
       "stream": "stdout",
       "text": [
        "\n",
        "['../../images/testsets/Gallagher_small/28_525.jpg', '../../images/testsets/Gallagher_small/25_458.jpg']\n",
        "Score: 0.1294 for 28 and 25"
       ]
      },
      {
       "output_type": "stream",
       "stream": "stdout",
       "text": [
        "\n",
        "['../../images/testsets/Gallagher_small/28_525.jpg', '../../images/testsets/Gallagher_small/30_569.jpg']\n",
        "Score: 0.0387 for 28 and 30"
       ]
      },
      {
       "output_type": "stream",
       "stream": "stdout",
       "text": [
        "\n",
        "['../../images/testsets/Gallagher_small/28_525.jpg', '../../images/testsets/Gallagher_small/32_645.jpg']\n",
        "Score: -0.1000 for 28 and 32 (Less than two matches)"
       ]
      },
      {
       "output_type": "stream",
       "stream": "stdout",
       "text": [
        "\n",
        "['../../images/testsets/Gallagher_small/28_525.jpg', '../../images/testsets/Gallagher_small/29_538.jpg']\n",
        "Score: -0.1000 for 28 and 29 (Less than two matches)"
       ]
      },
      {
       "output_type": "stream",
       "stream": "stdout",
       "text": [
        "\n",
        "['../../images/testsets/Gallagher_small/28_525.jpg', '../../images/testsets/Gallagher_small/21_251.jpg']\n",
        "Score: 0.0731 for 28 and 21"
       ]
      },
      {
       "output_type": "stream",
       "stream": "stdout",
       "text": [
        "\n",
        "['../../images/testsets/Gallagher_small/28_525.jpg', '../../images/testsets/Gallagher_small/20_249.jpg']\n",
        "Score: 0.0905 for 28 and 20"
       ]
      },
      {
       "output_type": "stream",
       "stream": "stdout",
       "text": [
        "\n",
        "['../../images/testsets/Gallagher_small/28_525.jpg', '../../images/testsets/Gallagher_small/15_181.jpg']\n",
        "Score: 0.0493 for 28 and 15"
       ]
      },
      {
       "output_type": "stream",
       "stream": "stdout",
       "text": [
        "\n",
        "['../../images/testsets/Gallagher_small/28_525.jpg', '../../images/testsets/Gallagher_small/15_158.jpg']\n",
        "Score: 0.0473 for 28 and 15"
       ]
      },
      {
       "output_type": "stream",
       "stream": "stdout",
       "text": [
        "\n",
        "['../../images/testsets/Gallagher_small/28_525.jpg', '../../images/testsets/Gallagher_small/19_195.jpg']\n",
        "Score: -0.1000 for 28 and 19 (Less than two matches)"
       ]
      },
      {
       "output_type": "stream",
       "stream": "stdout",
       "text": [
        "\n",
        "['../../images/testsets/Gallagher_small/28_525.jpg', '../../images/testsets/Gallagher_small/19_193.jpg']\n",
        "Score: -0.0060 for 28 and 19"
       ]
      },
      {
       "output_type": "stream",
       "stream": "stdout",
       "text": [
        "\n",
        "['../../images/testsets/Gallagher_small/28_525.jpg', '../../images/testsets/Gallagher_small/21_287.jpg']\n",
        "Score: -0.1000 for 28 and 21 (Less than two matches)"
       ]
      },
      {
       "output_type": "stream",
       "stream": "stdout",
       "text": [
        "\n",
        "['../../images/testsets/Gallagher_small/28_525.jpg', '../../images/testsets/Gallagher_small/26_565.jpg']\n",
        "Score: -0.1000 for 28 and 26 (Less than two matches)"
       ]
      },
      {
       "output_type": "stream",
       "stream": "stdout",
       "text": [
        "\n",
        "['../../images/testsets/Gallagher_small/28_525.jpg', '../../images/testsets/Gallagher_small/27_509.jpg']\n",
        "Score: -0.1129 for 28 and 27"
       ]
      },
      {
       "output_type": "stream",
       "stream": "stdout",
       "text": [
        "\n",
        "['../../images/testsets/Gallagher_small/28_525.jpg', '../../images/testsets/Gallagher_small/15_169.jpg']\n",
        "Score: 0.0596 for 28 and 15"
       ]
      },
      {
       "output_type": "stream",
       "stream": "stdout",
       "text": [
        "\n",
        "['../../images/testsets/Gallagher_small/28_525.jpg', '../../images/testsets/Gallagher_small/15_167.jpg']\n",
        "Score: 0.0540 for 28 and 15"
       ]
      },
      {
       "output_type": "stream",
       "stream": "stdout",
       "text": [
        "\n",
        "['../../images/testsets/Gallagher_small/28_525.jpg', '../../images/testsets/Gallagher_small/21_587.jpg']\n",
        "Score: 0.0732 for 28 and 21"
       ]
      },
      {
       "output_type": "stream",
       "stream": "stdout",
       "text": [
        "\n",
        "['../../images/testsets/Gallagher_small/28_525.jpg', '../../images/testsets/Gallagher_small/15_222.jpg']\n",
        "Score: -0.1000 for 28 and 15 (Less than two matches)"
       ]
      },
      {
       "output_type": "stream",
       "stream": "stdout",
       "text": [
        "\n",
        "['../../images/testsets/Gallagher_small/28_525.jpg', '../../images/testsets/Gallagher_small/16_178.jpg']\n",
        "Score: -0.1000 for 28 and 16 (Less than two matches)"
       ]
      },
      {
       "output_type": "stream",
       "stream": "stdout",
       "text": [
        "\n",
        "['../../images/testsets/Gallagher_small/28_525.jpg', '../../images/testsets/Gallagher_small/17_165.jpg']\n",
        "Score: -0.1000 for 28 and 17 (Less than two matches)"
       ]
      },
      {
       "output_type": "stream",
       "stream": "stdout",
       "text": [
        "\n",
        "['../../images/testsets/Gallagher_small/28_525.jpg', '../../images/testsets/Gallagher_small/28_537.jpg']\n",
        "Score: -0.1000 for 28 and 28 (Less than two matches)"
       ]
      },
      {
       "output_type": "stream",
       "stream": "stdout",
       "text": [
        "\n",
        "['../../images/testsets/Gallagher_small/28_525.jpg', '../../images/testsets/Gallagher_small/27_524.jpg']\n",
        "Score: -0.1000 for 28 and 27 (Less than two matches)"
       ]
      },
      {
       "output_type": "stream",
       "stream": "stdout",
       "text": [
        "\n",
        "['../../images/testsets/Gallagher_small/28_525.jpg', '../../images/testsets/Gallagher_small/13_163.jpg']\n",
        "Score: -0.1000 for 28 and 13 (Less than two matches)"
       ]
      },
      {
       "output_type": "stream",
       "stream": "stdout",
       "text": [
        "\n",
        "['../../images/testsets/Gallagher_small/28_525.jpg', '../../images/testsets/Gallagher_small/23_302.jpg']\n",
        "Score: -0.0016 for 28 and 23"
       ]
      },
      {
       "output_type": "stream",
       "stream": "stdout",
       "text": [
        "\n",
        "['../../images/testsets/Gallagher_small/30_539.jpg', '../../images/testsets/Gallagher_small/26_550.jpg']\n",
        "Score: -0.1000 for 30 and 26 (Less than two matches)"
       ]
      },
      {
       "output_type": "stream",
       "stream": "stdout",
       "text": [
        "\n",
        "['../../images/testsets/Gallagher_small/30_539.jpg', '../../images/testsets/Gallagher_small/15_170.jpg']\n",
        "Score: -0.1000 for 30 and 15 (Less than two matches)"
       ]
      },
      {
       "output_type": "stream",
       "stream": "stdout",
       "text": [
        "\n",
        "['../../images/testsets/Gallagher_small/30_539.jpg', '../../images/testsets/Gallagher_small/21_293.jpg']\n",
        "Score: -0.1000 for 30 and 21 (Less than two matches)"
       ]
      },
      {
       "output_type": "stream",
       "stream": "stdout",
       "text": [
        "\n",
        "['../../images/testsets/Gallagher_small/30_539.jpg', '../../images/testsets/Gallagher_small/24_379.jpg']\n",
        "Score: -0.1000 for 30 and 24 (Less than two matches)"
       ]
      },
      {
       "output_type": "stream",
       "stream": "stdout",
       "text": [
        "\n",
        "['../../images/testsets/Gallagher_small/30_539.jpg', '../../images/testsets/Gallagher_small/17_212.jpg']\n",
        "Score: -0.1000 for 30 and 17 (Less than two matches)"
       ]
      },
      {
       "output_type": "stream",
       "stream": "stdout",
       "text": [
        "\n",
        "['../../images/testsets/Gallagher_small/30_539.jpg', '../../images/testsets/Gallagher_small/14_699.jpg']\n",
        "Score: -0.1000 for 30 and 14 (Less than two matches)"
       ]
      },
      {
       "output_type": "stream",
       "stream": "stdout",
       "text": [
        "\n",
        "['../../images/testsets/Gallagher_small/30_539.jpg', '../../images/testsets/Gallagher_small/28_567.jpg']\n",
        "Score: -0.1000 for 30 and 28 (Less than two matches)"
       ]
      },
      {
       "output_type": "stream",
       "stream": "stdout",
       "text": [
        "\n",
        "['../../images/testsets/Gallagher_small/30_539.jpg', '../../images/testsets/Gallagher_small/27_551.jpg']\n",
        "Score: -0.1000 for 30 and 27 (Less than two matches)"
       ]
      },
      {
       "output_type": "stream",
       "stream": "stdout",
       "text": [
        "\n",
        "['../../images/testsets/Gallagher_small/30_539.jpg', '../../images/testsets/Gallagher_small/22_254.jpg']\n",
        "Score: -0.1000 for 30 and 22 (Less than two matches)"
       ]
      },
      {
       "output_type": "stream",
       "stream": "stdout",
       "text": [
        "\n",
        "['../../images/testsets/Gallagher_small/30_539.jpg', '../../images/testsets/Gallagher_small/29_568.jpg']\n",
        "Score: -0.1000 for 30 and 29 (Less than two matches)"
       ]
      },
      {
       "output_type": "stream",
       "stream": "stdout",
       "text": [
        "\n",
        "['../../images/testsets/Gallagher_small/30_539.jpg', '../../images/testsets/Gallagher_small/15_154.jpg']\n",
        "Score: -0.1000 for 30 and 15 (Less than two matches)"
       ]
      },
      {
       "output_type": "stream",
       "stream": "stdout",
       "text": [
        "\n",
        "['../../images/testsets/Gallagher_small/30_539.jpg', '../../images/testsets/Gallagher_small/25_431.jpg']\n",
        "Score: -0.1000 for 30 and 25 (Less than two matches)"
       ]
      },
      {
       "output_type": "stream",
       "stream": "stdout",
       "text": [
        "\n",
        "['../../images/testsets/Gallagher_small/30_539.jpg', '../../images/testsets/Gallagher_small/23_305.jpg']\n",
        "Score: -0.1000 for 30 and 23 (Less than two matches)"
       ]
      },
      {
       "output_type": "stream",
       "stream": "stdout",
       "text": [
        "\n",
        "['../../images/testsets/Gallagher_small/30_539.jpg', '../../images/testsets/Gallagher_small/16_164.jpg']\n",
        "Score: -0.0501 for 30 and 16"
       ]
      },
      {
       "output_type": "stream",
       "stream": "stdout",
       "text": [
        "\n",
        "['../../images/testsets/Gallagher_small/30_539.jpg', '../../images/testsets/Gallagher_small/18_166.jpg']\n",
        "Score: -0.1000 for 30 and 18 (Less than two matches)"
       ]
      },
      {
       "output_type": "stream",
       "stream": "stdout",
       "text": [
        "\n",
        "['../../images/testsets/Gallagher_small/30_539.jpg', '../../images/testsets/Gallagher_small/25_770.jpg']\n",
        "Score: -0.1000 for 30 and 25 (Less than two matches)"
       ]
      },
      {
       "output_type": "stream",
       "stream": "stdout",
       "text": [
        "\n",
        "['../../images/testsets/Gallagher_small/30_539.jpg', '../../images/testsets/Gallagher_small/32_642.jpg']\n",
        "Score: -0.1000 for 30 and 32 (Less than two matches)"
       ]
      },
      {
       "output_type": "stream",
       "stream": "stdout",
       "text": [
        "\n",
        "['../../images/testsets/Gallagher_small/30_539.jpg', '../../images/testsets/Gallagher_small/19_198.jpg']\n",
        "Score: -0.1000 for 30 and 19 (Less than two matches)"
       ]
      },
      {
       "output_type": "stream",
       "stream": "stdout",
       "text": [
        "\n",
        "['../../images/testsets/Gallagher_small/30_539.jpg', '../../images/testsets/Gallagher_small/21_294.jpg']\n",
        "Score: -0.1000 for 30 and 21 (Less than two matches)"
       ]
      },
      {
       "output_type": "stream",
       "stream": "stdout",
       "text": [
        "\n",
        "['../../images/testsets/Gallagher_small/30_539.jpg', '../../images/testsets/Gallagher_small/14_206.jpg']\n",
        "Score: -0.1000 for 30 and 14 (Less than two matches)"
       ]
      },
      {
       "output_type": "stream",
       "stream": "stdout",
       "text": [
        "\n",
        "['../../images/testsets/Gallagher_small/30_539.jpg', '../../images/testsets/Gallagher_small/26_535.jpg']\n",
        "Score: 0.1473 for 30 and 26"
       ]
      },
      {
       "output_type": "stream",
       "stream": "stdout",
       "text": [
        "\n",
        "['../../images/testsets/Gallagher_small/30_539.jpg', '../../images/testsets/Gallagher_small/22_255.jpg']\n",
        "Score: -0.1000 for 30 and 22 (Less than two matches)"
       ]
      },
      {
       "output_type": "stream",
       "stream": "stdout",
       "text": [
        "\n",
        "['../../images/testsets/Gallagher_small/30_539.jpg', '../../images/testsets/Gallagher_small/29_553.jpg']\n",
        "Score: -0.1000 for 30 and 29 (Less than two matches)"
       ]
      },
      {
       "output_type": "stream",
       "stream": "stdout",
       "text": [
        "\n",
        "['../../images/testsets/Gallagher_small/30_539.jpg', '../../images/testsets/Gallagher_small/13_168.jpg']\n",
        "Score: -0.1000 for 30 and 13 (Less than two matches)"
       ]
      },
      {
       "output_type": "stream",
       "stream": "stdout",
       "text": [
        "\n",
        "['../../images/testsets/Gallagher_small/30_539.jpg', '../../images/testsets/Gallagher_small/28_552.jpg']\n",
        "Score: -0.1000 for 30 and 28 (Less than two matches)"
       ]
      },
      {
       "output_type": "stream",
       "stream": "stdout",
       "text": [
        "\n",
        "['../../images/testsets/Gallagher_small/30_539.jpg', '../../images/testsets/Gallagher_small/13_145.jpg']\n",
        "Score: -0.1000 for 30 and 13 (Less than two matches)"
       ]
      },
      {
       "output_type": "stream",
       "stream": "stdout",
       "text": [
        "\n",
        "['../../images/testsets/Gallagher_small/30_539.jpg', '../../images/testsets/Gallagher_small/14_207.jpg']\n",
        "Score: -0.1000 for 30 and 14 (Less than two matches)"
       ]
      },
      {
       "output_type": "stream",
       "stream": "stdout",
       "text": [
        "\n",
        "['../../images/testsets/Gallagher_small/30_539.jpg', '../../images/testsets/Gallagher_small/14_150.jpg']\n",
        "Score: -0.1000 for 30 and 14 (Less than two matches)"
       ]
      },
      {
       "output_type": "stream",
       "stream": "stdout",
       "text": [
        "\n",
        "['../../images/testsets/Gallagher_small/30_539.jpg', '../../images/testsets/Gallagher_small/27_566.jpg']\n",
        "Score: -0.1000 for 30 and 27 (Less than two matches)"
       ]
      },
      {
       "output_type": "stream",
       "stream": "stdout",
       "text": [
        "\n",
        "['../../images/testsets/Gallagher_small/30_539.jpg', '../../images/testsets/Gallagher_small/17_183.jpg']\n",
        "Score: -0.1000 for 30 and 17 (Less than two matches)"
       ]
      },
      {
       "output_type": "stream",
       "stream": "stdout",
       "text": [
        "\n",
        "['../../images/testsets/Gallagher_small/30_539.jpg', '../../images/testsets/Gallagher_small/19_187.jpg']\n",
        "Score: -0.1000 for 30 and 19 (Less than two matches)"
       ]
      },
      {
       "output_type": "stream",
       "stream": "stdout",
       "text": [
        "\n",
        "['../../images/testsets/Gallagher_small/30_539.jpg', '../../images/testsets/Gallagher_small/31_580.jpg']\n",
        "Score: -0.1000 for 30 and 31 (Less than two matches)"
       ]
      },
      {
       "output_type": "stream",
       "stream": "stdout",
       "text": [
        "\n",
        "['../../images/testsets/Gallagher_small/30_539.jpg', '../../images/testsets/Gallagher_small/21_872.jpg']\n",
        "Score: -0.1000 for 30 and 21 (Less than two matches)"
       ]
      },
      {
       "output_type": "stream",
       "stream": "stdout",
       "text": [
        "\n",
        "['../../images/testsets/Gallagher_small/30_539.jpg', '../../images/testsets/Gallagher_small/23_307.jpg']\n",
        "Score: -0.1000 for 30 and 23 (Less than two matches)"
       ]
      },
      {
       "output_type": "stream",
       "stream": "stdout",
       "text": [
        "\n",
        "['../../images/testsets/Gallagher_small/30_539.jpg', '../../images/testsets/Gallagher_small/25_462.jpg']\n",
        "Score: -0.1000 for 30 and 25 (Less than two matches)"
       ]
      },
      {
       "output_type": "stream",
       "stream": "stdout",
       "text": [
        "\n",
        "['../../images/testsets/Gallagher_small/30_539.jpg', '../../images/testsets/Gallagher_small/23_534.jpg']\n",
        "Score: -0.1000 for 30 and 23 (Less than two matches)"
       ]
      },
      {
       "output_type": "stream",
       "stream": "stdout",
       "text": [
        "\n",
        "['../../images/testsets/Gallagher_small/30_539.jpg', '../../images/testsets/Gallagher_small/31_582.jpg']\n",
        "Score: -0.1000 for 30 and 31 (Less than two matches)"
       ]
      },
      {
       "output_type": "stream",
       "stream": "stdout",
       "text": [
        "\n",
        "['../../images/testsets/Gallagher_small/30_539.jpg', '../../images/testsets/Gallagher_small/15_224.jpg']\n",
        "Score: -0.1000 for 30 and 15 (Less than two matches)"
       ]
      },
      {
       "output_type": "stream",
       "stream": "stdout",
       "text": [
        "\n",
        "['../../images/testsets/Gallagher_small/30_539.jpg', '../../images/testsets/Gallagher_small/23_508.jpg']\n",
        "Score: -0.1000 for 30 and 23 (Less than two matches)"
       ]
      },
      {
       "output_type": "stream",
       "stream": "stdout",
       "text": [
        "\n",
        "['../../images/testsets/Gallagher_small/30_539.jpg', '../../images/testsets/Gallagher_small/18_220.jpg']\n",
        "Score: -0.1000 for 30 and 18 (Less than two matches)"
       ]
      },
      {
       "output_type": "stream",
       "stream": "stdout",
       "text": [
        "\n",
        "['../../images/testsets/Gallagher_small/30_539.jpg', '../../images/testsets/Gallagher_small/15_151.jpg']\n",
        "Score: -0.1000 for 30 and 15 (Less than two matches)"
       ]
      },
      {
       "output_type": "stream",
       "stream": "stdout",
       "text": [
        "\n",
        "['../../images/testsets/Gallagher_small/30_539.jpg', '../../images/testsets/Gallagher_small/16_182.jpg']\n",
        "Score: -0.1000 for 30 and 16 (Less than two matches)"
       ]
      },
      {
       "output_type": "stream",
       "stream": "stdout",
       "text": [
        "\n",
        "['../../images/testsets/Gallagher_small/30_539.jpg', '../../images/testsets/Gallagher_small/23_875.jpg']\n",
        "Score: -0.1000 for 30 and 23 (Less than two matches)"
       ]
      },
      {
       "output_type": "stream",
       "stream": "stdout",
       "text": [
        "\n",
        "['../../images/testsets/Gallagher_small/30_539.jpg', '../../images/testsets/Gallagher_small/23_549.jpg']\n",
        "Score: -0.1000 for 30 and 23 (Less than two matches)"
       ]
      },
      {
       "output_type": "stream",
       "stream": "stdout",
       "text": [
        "\n",
        "['../../images/testsets/Gallagher_small/30_539.jpg', '../../images/testsets/Gallagher_small/32_648.jpg']\n",
        "Score: -0.1000 for 30 and 32 (Less than two matches)"
       ]
      },
      {
       "output_type": "stream",
       "stream": "stdout",
       "text": [
        "\n",
        "['../../images/testsets/Gallagher_small/30_539.jpg', '../../images/testsets/Gallagher_small/15_171.jpg']\n",
        "Score: -0.1000 for 30 and 15 (Less than two matches)"
       ]
      },
      {
       "output_type": "stream",
       "stream": "stdout",
       "text": [
        "\n",
        "['../../images/testsets/Gallagher_small/30_539.jpg', '../../images/testsets/Gallagher_small/24_358.jpg']\n",
        "Score: -0.1000 for 30 and 24 (Less than two matches)"
       ]
      },
      {
       "output_type": "stream",
       "stream": "stdout",
       "text": [
        "\n",
        "['../../images/testsets/Gallagher_small/30_539.jpg', '../../images/testsets/Gallagher_small/25_458.jpg']\n",
        "Score: -0.1000 for 30 and 25 (Less than two matches)"
       ]
      },
      {
       "output_type": "stream",
       "stream": "stdout",
       "text": [
        "\n",
        "['../../images/testsets/Gallagher_small/30_539.jpg', '../../images/testsets/Gallagher_small/30_569.jpg']\n",
        "Score: -0.0493 for 30 and 30"
       ]
      },
      {
       "output_type": "stream",
       "stream": "stdout",
       "text": [
        "\n",
        "['../../images/testsets/Gallagher_small/30_539.jpg', '../../images/testsets/Gallagher_small/32_645.jpg']\n",
        "Score: -0.1000 for 30 and 32 (Less than two matches)"
       ]
      },
      {
       "output_type": "stream",
       "stream": "stdout",
       "text": [
        "\n",
        "['../../images/testsets/Gallagher_small/30_539.jpg', '../../images/testsets/Gallagher_small/29_538.jpg']\n",
        "Score: -0.1000 for 30 and 29 (Less than two matches)"
       ]
      },
      {
       "output_type": "stream",
       "stream": "stdout",
       "text": [
        "\n",
        "['../../images/testsets/Gallagher_small/30_539.jpg', '../../images/testsets/Gallagher_small/21_251.jpg']\n",
        "Score: -0.1000 for 30 and 21 (Less than two matches)"
       ]
      },
      {
       "output_type": "stream",
       "stream": "stdout",
       "text": [
        "\n",
        "['../../images/testsets/Gallagher_small/30_539.jpg', '../../images/testsets/Gallagher_small/20_249.jpg']\n",
        "Score: -0.1000 for 30 and 20 (Less than two matches)"
       ]
      },
      {
       "output_type": "stream",
       "stream": "stdout",
       "text": [
        "\n",
        "['../../images/testsets/Gallagher_small/30_539.jpg', '../../images/testsets/Gallagher_small/15_181.jpg']\n",
        "Score: -0.1000 for 30 and 15 (Less than two matches)"
       ]
      },
      {
       "output_type": "stream",
       "stream": "stdout",
       "text": [
        "\n",
        "['../../images/testsets/Gallagher_small/30_539.jpg', '../../images/testsets/Gallagher_small/15_158.jpg']\n",
        "Score: -0.1000 for 30 and 15 (Less than two matches)"
       ]
      },
      {
       "output_type": "stream",
       "stream": "stdout",
       "text": [
        "\n",
        "['../../images/testsets/Gallagher_small/30_539.jpg', '../../images/testsets/Gallagher_small/19_195.jpg']\n",
        "Score: -0.1000 for 30 and 19 (Less than two matches)"
       ]
      },
      {
       "output_type": "stream",
       "stream": "stdout",
       "text": [
        "\n",
        "['../../images/testsets/Gallagher_small/30_539.jpg', '../../images/testsets/Gallagher_small/19_193.jpg']\n",
        "Score: -0.1000 for 30 and 19 (Less than two matches)"
       ]
      },
      {
       "output_type": "stream",
       "stream": "stdout",
       "text": [
        "\n",
        "['../../images/testsets/Gallagher_small/30_539.jpg', '../../images/testsets/Gallagher_small/21_287.jpg']\n",
        "Score: -0.1000 for 30 and 21 (Less than two matches)"
       ]
      },
      {
       "output_type": "stream",
       "stream": "stdout",
       "text": [
        "\n",
        "['../../images/testsets/Gallagher_small/30_539.jpg', '../../images/testsets/Gallagher_small/26_565.jpg']\n",
        "Score: -0.1000 for 30 and 26 (Less than two matches)"
       ]
      },
      {
       "output_type": "stream",
       "stream": "stdout",
       "text": [
        "\n",
        "['../../images/testsets/Gallagher_small/30_539.jpg', '../../images/testsets/Gallagher_small/27_509.jpg']\n",
        "Score: -0.1000 for 30 and 27 (Less than two matches)"
       ]
      },
      {
       "output_type": "stream",
       "stream": "stdout",
       "text": [
        "\n",
        "['../../images/testsets/Gallagher_small/30_539.jpg', '../../images/testsets/Gallagher_small/15_169.jpg']\n",
        "Score: -0.1000 for 30 and 15 (Less than two matches)"
       ]
      },
      {
       "output_type": "stream",
       "stream": "stdout",
       "text": [
        "\n",
        "['../../images/testsets/Gallagher_small/30_539.jpg', '../../images/testsets/Gallagher_small/15_167.jpg']\n",
        "Score: -0.1000 for 30 and 15 (Less than two matches)"
       ]
      },
      {
       "output_type": "stream",
       "stream": "stdout",
       "text": [
        "\n",
        "['../../images/testsets/Gallagher_small/30_539.jpg', '../../images/testsets/Gallagher_small/21_587.jpg']\n",
        "Score: -0.1000 for 30 and 21 (Less than two matches)"
       ]
      },
      {
       "output_type": "stream",
       "stream": "stdout",
       "text": [
        "\n",
        "['../../images/testsets/Gallagher_small/30_539.jpg', '../../images/testsets/Gallagher_small/15_222.jpg']\n",
        "Score: -0.1000 for 30 and 15 (Less than two matches)"
       ]
      },
      {
       "output_type": "stream",
       "stream": "stdout",
       "text": [
        "\n",
        "['../../images/testsets/Gallagher_small/30_539.jpg', '../../images/testsets/Gallagher_small/16_178.jpg']\n",
        "Score: -0.1000 for 30 and 16 (Less than two matches)"
       ]
      },
      {
       "output_type": "stream",
       "stream": "stdout",
       "text": [
        "\n",
        "['../../images/testsets/Gallagher_small/30_539.jpg', '../../images/testsets/Gallagher_small/17_165.jpg']\n",
        "Score: -0.1000 for 30 and 17 (Less than two matches)"
       ]
      },
      {
       "output_type": "stream",
       "stream": "stdout",
       "text": [
        "\n",
        "['../../images/testsets/Gallagher_small/30_539.jpg', '../../images/testsets/Gallagher_small/28_537.jpg']\n",
        "Score: -0.1000 for 30 and 28 (Less than two matches)"
       ]
      },
      {
       "output_type": "stream",
       "stream": "stdout",
       "text": [
        "\n",
        "['../../images/testsets/Gallagher_small/30_539.jpg', '../../images/testsets/Gallagher_small/27_524.jpg']\n",
        "Score: -0.1000 for 30 and 27 (Less than two matches)"
       ]
      },
      {
       "output_type": "stream",
       "stream": "stdout",
       "text": [
        "\n",
        "['../../images/testsets/Gallagher_small/30_539.jpg', '../../images/testsets/Gallagher_small/13_163.jpg']\n",
        "Score: -0.1000 for 30 and 13 (Less than two matches)"
       ]
      },
      {
       "output_type": "stream",
       "stream": "stdout",
       "text": [
        "\n",
        "['../../images/testsets/Gallagher_small/30_539.jpg', '../../images/testsets/Gallagher_small/23_302.jpg']\n",
        "Score: -0.1000 for 30 and 23 (Less than two matches)"
       ]
      },
      {
       "output_type": "stream",
       "stream": "stdout",
       "text": [
        "\n",
        "['../../images/testsets/Gallagher_small/26_550.jpg', '../../images/testsets/Gallagher_small/15_170.jpg']\n",
        "Score: -0.0608 for 26 and 15"
       ]
      },
      {
       "output_type": "stream",
       "stream": "stdout",
       "text": [
        "\n",
        "['../../images/testsets/Gallagher_small/26_550.jpg', '../../images/testsets/Gallagher_small/21_293.jpg']\n",
        "Score: -0.1000 for 26 and 21 (Less than two matches)"
       ]
      },
      {
       "output_type": "stream",
       "stream": "stdout",
       "text": [
        "\n",
        "['../../images/testsets/Gallagher_small/26_550.jpg', '../../images/testsets/Gallagher_small/24_379.jpg']\n",
        "Score: -0.1000 for 26 and 24 (Less than two matches)"
       ]
      },
      {
       "output_type": "stream",
       "stream": "stdout",
       "text": [
        "\n",
        "['../../images/testsets/Gallagher_small/26_550.jpg', '../../images/testsets/Gallagher_small/17_212.jpg']\n",
        "Score: -0.0996 for 26 and 17"
       ]
      },
      {
       "output_type": "stream",
       "stream": "stdout",
       "text": [
        "\n",
        "['../../images/testsets/Gallagher_small/26_550.jpg', '../../images/testsets/Gallagher_small/14_699.jpg']\n",
        "Score: -0.1000 for 26 and 14 (Less than two matches)"
       ]
      },
      {
       "output_type": "stream",
       "stream": "stdout",
       "text": [
        "\n",
        "['../../images/testsets/Gallagher_small/26_550.jpg', '../../images/testsets/Gallagher_small/28_567.jpg']\n",
        "Score: -0.1386 for 26 and 28"
       ]
      },
      {
       "output_type": "stream",
       "stream": "stdout",
       "text": [
        "\n",
        "['../../images/testsets/Gallagher_small/26_550.jpg', '../../images/testsets/Gallagher_small/27_551.jpg']\n",
        "Score: -0.1000 for 26 and 27 (Less than two matches)"
       ]
      },
      {
       "output_type": "stream",
       "stream": "stdout",
       "text": [
        "\n",
        "['../../images/testsets/Gallagher_small/26_550.jpg', '../../images/testsets/Gallagher_small/22_254.jpg']\n",
        "Score: -0.1000 for 26 and 22 (Less than two matches)"
       ]
      },
      {
       "output_type": "stream",
       "stream": "stdout",
       "text": [
        "\n",
        "['../../images/testsets/Gallagher_small/26_550.jpg', '../../images/testsets/Gallagher_small/29_568.jpg']\n",
        "Score: -0.1111 for 26 and 29"
       ]
      },
      {
       "output_type": "stream",
       "stream": "stdout",
       "text": [
        "\n",
        "['../../images/testsets/Gallagher_small/26_550.jpg', '../../images/testsets/Gallagher_small/15_154.jpg']\n",
        "Score: -0.1000 for 26 and 15 (Less than two matches)"
       ]
      },
      {
       "output_type": "stream",
       "stream": "stdout",
       "text": [
        "\n",
        "['../../images/testsets/Gallagher_small/26_550.jpg', '../../images/testsets/Gallagher_small/25_431.jpg']\n",
        "Score: -0.0745 for 26 and 25"
       ]
      },
      {
       "output_type": "stream",
       "stream": "stdout",
       "text": [
        "\n",
        "['../../images/testsets/Gallagher_small/26_550.jpg', '../../images/testsets/Gallagher_small/23_305.jpg']\n",
        "Score: -0.1000 for 26 and 23 (Less than two matches)"
       ]
      },
      {
       "output_type": "stream",
       "stream": "stdout",
       "text": [
        "\n",
        "['../../images/testsets/Gallagher_small/26_550.jpg', '../../images/testsets/Gallagher_small/16_164.jpg']\n",
        "Score: 0.0321 for 26 and 16"
       ]
      },
      {
       "output_type": "stream",
       "stream": "stdout",
       "text": [
        "\n",
        "['../../images/testsets/Gallagher_small/26_550.jpg', '../../images/testsets/Gallagher_small/18_166.jpg']\n",
        "Score: 0.0548 for 26 and 18"
       ]
      },
      {
       "output_type": "stream",
       "stream": "stdout",
       "text": [
        "\n",
        "['../../images/testsets/Gallagher_small/26_550.jpg', '../../images/testsets/Gallagher_small/25_770.jpg']\n",
        "Score: -0.0989 for 26 and 25"
       ]
      },
      {
       "output_type": "stream",
       "stream": "stdout",
       "text": [
        "\n",
        "['../../images/testsets/Gallagher_small/26_550.jpg', '../../images/testsets/Gallagher_small/32_642.jpg']\n",
        "Score: 0.0936 for 26 and 32"
       ]
      },
      {
       "output_type": "stream",
       "stream": "stdout",
       "text": [
        "\n",
        "['../../images/testsets/Gallagher_small/26_550.jpg', '../../images/testsets/Gallagher_small/19_198.jpg']\n",
        "Score: -0.1000 for 26 and 19 (Less than two matches)"
       ]
      },
      {
       "output_type": "stream",
       "stream": "stdout",
       "text": [
        "\n",
        "['../../images/testsets/Gallagher_small/26_550.jpg', '../../images/testsets/Gallagher_small/21_294.jpg']\n",
        "Score: -0.1000 for 26 and 21 (Less than two matches)"
       ]
      },
      {
       "output_type": "stream",
       "stream": "stdout",
       "text": [
        "\n",
        "['../../images/testsets/Gallagher_small/26_550.jpg', '../../images/testsets/Gallagher_small/14_206.jpg']\n",
        "Score: -0.1000 for 26 and 14 (Less than two matches)"
       ]
      },
      {
       "output_type": "stream",
       "stream": "stdout",
       "text": [
        "\n",
        "['../../images/testsets/Gallagher_small/26_550.jpg', '../../images/testsets/Gallagher_small/26_535.jpg']\n",
        "Score: -0.1000 for 26 and 26 (Less than two matches)"
       ]
      },
      {
       "output_type": "stream",
       "stream": "stdout",
       "text": [
        "\n",
        "['../../images/testsets/Gallagher_small/26_550.jpg', '../../images/testsets/Gallagher_small/22_255.jpg']\n",
        "Score: -0.1000 for 26 and 22 (Less than two matches)"
       ]
      },
      {
       "output_type": "stream",
       "stream": "stdout",
       "text": [
        "\n",
        "['../../images/testsets/Gallagher_small/26_550.jpg', '../../images/testsets/Gallagher_small/29_553.jpg']\n",
        "Score: -0.1000 for 26 and 29 (Less than two matches)"
       ]
      },
      {
       "output_type": "stream",
       "stream": "stdout",
       "text": [
        "\n",
        "['../../images/testsets/Gallagher_small/26_550.jpg', '../../images/testsets/Gallagher_small/13_168.jpg']\n",
        "Score: -0.1000 for 26 and 13 (Less than two matches)"
       ]
      },
      {
       "output_type": "stream",
       "stream": "stdout",
       "text": [
        "\n",
        "['../../images/testsets/Gallagher_small/26_550.jpg', '../../images/testsets/Gallagher_small/28_552.jpg']\n",
        "Score: -0.1000 for 26 and 28 (Less than two matches)"
       ]
      },
      {
       "output_type": "stream",
       "stream": "stdout",
       "text": [
        "\n",
        "['../../images/testsets/Gallagher_small/26_550.jpg', '../../images/testsets/Gallagher_small/13_145.jpg']\n",
        "Score: -0.1000 for 26 and 13 (Less than two matches)"
       ]
      },
      {
       "output_type": "stream",
       "stream": "stdout",
       "text": [
        "\n",
        "['../../images/testsets/Gallagher_small/26_550.jpg', '../../images/testsets/Gallagher_small/14_207.jpg']\n",
        "Score: -0.1000 for 26 and 14 (Less than two matches)"
       ]
      },
      {
       "output_type": "stream",
       "stream": "stdout",
       "text": [
        "\n",
        "['../../images/testsets/Gallagher_small/26_550.jpg', '../../images/testsets/Gallagher_small/14_150.jpg']\n",
        "Score: -0.1000 for 26 and 14 (Less than two matches)"
       ]
      },
      {
       "output_type": "stream",
       "stream": "stdout",
       "text": [
        "\n",
        "['../../images/testsets/Gallagher_small/26_550.jpg', '../../images/testsets/Gallagher_small/27_566.jpg']\n",
        "Score: -0.1000 for 26 and 27 (Less than two matches)"
       ]
      },
      {
       "output_type": "stream",
       "stream": "stdout",
       "text": [
        "\n",
        "['../../images/testsets/Gallagher_small/26_550.jpg', '../../images/testsets/Gallagher_small/17_183.jpg']\n",
        "Score: 0.0303 for 26 and 17"
       ]
      },
      {
       "output_type": "stream",
       "stream": "stdout",
       "text": [
        "\n",
        "['../../images/testsets/Gallagher_small/26_550.jpg', '../../images/testsets/Gallagher_small/19_187.jpg']\n",
        "Score: -0.1000 for 26 and 19 (Less than two matches)"
       ]
      },
      {
       "output_type": "stream",
       "stream": "stdout",
       "text": [
        "\n",
        "['../../images/testsets/Gallagher_small/26_550.jpg', '../../images/testsets/Gallagher_small/31_580.jpg']\n",
        "Score: -0.1000 for 26 and 31 (Less than two matches)"
       ]
      },
      {
       "output_type": "stream",
       "stream": "stdout",
       "text": [
        "\n",
        "['../../images/testsets/Gallagher_small/26_550.jpg', '../../images/testsets/Gallagher_small/21_872.jpg']\n",
        "Score: -0.1000 for 26 and 21 (Less than two matches)"
       ]
      },
      {
       "output_type": "stream",
       "stream": "stdout",
       "text": [
        "\n",
        "['../../images/testsets/Gallagher_small/26_550.jpg', '../../images/testsets/Gallagher_small/23_307.jpg']\n",
        "Score: 0.0531 for 26 and 23"
       ]
      },
      {
       "output_type": "stream",
       "stream": "stdout",
       "text": [
        "\n",
        "['../../images/testsets/Gallagher_small/26_550.jpg', '../../images/testsets/Gallagher_small/25_462.jpg']\n",
        "Score: 0.0390 for 26 and 25"
       ]
      },
      {
       "output_type": "stream",
       "stream": "stdout",
       "text": [
        "\n",
        "['../../images/testsets/Gallagher_small/26_550.jpg', '../../images/testsets/Gallagher_small/23_534.jpg']\n",
        "Score: -0.1000 for 26 and 23 (Less than two matches)"
       ]
      },
      {
       "output_type": "stream",
       "stream": "stdout",
       "text": [
        "\n",
        "['../../images/testsets/Gallagher_small/26_550.jpg', '../../images/testsets/Gallagher_small/31_582.jpg']\n",
        "Score: 0.0214 for 26 and 31"
       ]
      },
      {
       "output_type": "stream",
       "stream": "stdout",
       "text": [
        "\n",
        "['../../images/testsets/Gallagher_small/26_550.jpg', '../../images/testsets/Gallagher_small/15_224.jpg']\n",
        "Score: -0.1000 for 26 and 15 (Less than two matches)"
       ]
      },
      {
       "output_type": "stream",
       "stream": "stdout",
       "text": [
        "\n",
        "['../../images/testsets/Gallagher_small/26_550.jpg', '../../images/testsets/Gallagher_small/23_508.jpg']\n",
        "Score: 0.0361 for 26 and 23"
       ]
      },
      {
       "output_type": "stream",
       "stream": "stdout",
       "text": [
        "\n",
        "['../../images/testsets/Gallagher_small/26_550.jpg', '../../images/testsets/Gallagher_small/18_220.jpg']\n",
        "Score: -0.1000 for 26 and 18 (Less than two matches)"
       ]
      },
      {
       "output_type": "stream",
       "stream": "stdout",
       "text": [
        "\n",
        "['../../images/testsets/Gallagher_small/26_550.jpg', '../../images/testsets/Gallagher_small/15_151.jpg']\n",
        "Score: -0.1000 for 26 and 15 (Less than two matches)"
       ]
      },
      {
       "output_type": "stream",
       "stream": "stdout",
       "text": [
        "\n",
        "['../../images/testsets/Gallagher_small/26_550.jpg', '../../images/testsets/Gallagher_small/16_182.jpg']\n",
        "Score: -0.1000 for 26 and 16 (Less than two matches)"
       ]
      },
      {
       "output_type": "stream",
       "stream": "stdout",
       "text": [
        "\n",
        "['../../images/testsets/Gallagher_small/26_550.jpg', '../../images/testsets/Gallagher_small/23_875.jpg']\n",
        "Score: 0.0479 for 26 and 23"
       ]
      },
      {
       "output_type": "stream",
       "stream": "stdout",
       "text": [
        "\n",
        "['../../images/testsets/Gallagher_small/26_550.jpg', '../../images/testsets/Gallagher_small/23_549.jpg']\n",
        "Score: 0.0345 for 26 and 23"
       ]
      },
      {
       "output_type": "stream",
       "stream": "stdout",
       "text": [
        "\n",
        "['../../images/testsets/Gallagher_small/26_550.jpg', '../../images/testsets/Gallagher_small/32_648.jpg']\n",
        "Score: -0.1000 for 26 and 32 (Less than two matches)"
       ]
      },
      {
       "output_type": "stream",
       "stream": "stdout",
       "text": [
        "\n",
        "['../../images/testsets/Gallagher_small/26_550.jpg', '../../images/testsets/Gallagher_small/15_171.jpg']\n",
        "Score: 0.0349 for 26 and 15"
       ]
      },
      {
       "output_type": "stream",
       "stream": "stdout",
       "text": [
        "\n",
        "['../../images/testsets/Gallagher_small/26_550.jpg', '../../images/testsets/Gallagher_small/24_358.jpg']\n",
        "Score: -0.0188 for 26 and 24"
       ]
      },
      {
       "output_type": "stream",
       "stream": "stdout",
       "text": [
        "\n",
        "['../../images/testsets/Gallagher_small/26_550.jpg', '../../images/testsets/Gallagher_small/25_458.jpg']\n",
        "Score: 0.0443 for 26 and 25"
       ]
      },
      {
       "output_type": "stream",
       "stream": "stdout",
       "text": [
        "\n",
        "['../../images/testsets/Gallagher_small/26_550.jpg', '../../images/testsets/Gallagher_small/30_569.jpg']\n",
        "Score: -0.0504 for 26 and 30"
       ]
      },
      {
       "output_type": "stream",
       "stream": "stdout",
       "text": [
        "\n",
        "['../../images/testsets/Gallagher_small/26_550.jpg', '../../images/testsets/Gallagher_small/32_645.jpg']\n",
        "Score: -0.1000 for 26 and 32 (Less than two matches)"
       ]
      },
      {
       "output_type": "stream",
       "stream": "stdout",
       "text": [
        "\n",
        "['../../images/testsets/Gallagher_small/26_550.jpg', '../../images/testsets/Gallagher_small/29_538.jpg']\n",
        "Score: -0.1000 for 26 and 29 (Less than two matches)"
       ]
      },
      {
       "output_type": "stream",
       "stream": "stdout",
       "text": [
        "\n",
        "['../../images/testsets/Gallagher_small/26_550.jpg', '../../images/testsets/Gallagher_small/21_251.jpg']\n",
        "Score: -0.0949 for 26 and 21"
       ]
      },
      {
       "output_type": "stream",
       "stream": "stdout",
       "text": [
        "\n",
        "['../../images/testsets/Gallagher_small/26_550.jpg', '../../images/testsets/Gallagher_small/20_249.jpg']\n",
        "Score: 0.0391 for 26 and 20"
       ]
      },
      {
       "output_type": "stream",
       "stream": "stdout",
       "text": [
        "\n",
        "['../../images/testsets/Gallagher_small/26_550.jpg', '../../images/testsets/Gallagher_small/15_181.jpg']\n",
        "Score: -0.1000 for 26 and 15 (Less than two matches)"
       ]
      },
      {
       "output_type": "stream",
       "stream": "stdout",
       "text": [
        "\n",
        "['../../images/testsets/Gallagher_small/26_550.jpg', '../../images/testsets/Gallagher_small/15_158.jpg']\n",
        "Score: -0.1000 for 26 and 15 (Less than two matches)"
       ]
      },
      {
       "output_type": "stream",
       "stream": "stdout",
       "text": [
        "\n",
        "['../../images/testsets/Gallagher_small/26_550.jpg', '../../images/testsets/Gallagher_small/19_195.jpg']\n",
        "Score: -0.1000 for 26 and 19 (Less than two matches)"
       ]
      },
      {
       "output_type": "stream",
       "stream": "stdout",
       "text": [
        "\n",
        "['../../images/testsets/Gallagher_small/26_550.jpg', '../../images/testsets/Gallagher_small/19_193.jpg']\n",
        "Score: -0.1000 for 26 and 19 (Less than two matches)"
       ]
      },
      {
       "output_type": "stream",
       "stream": "stdout",
       "text": [
        "\n",
        "['../../images/testsets/Gallagher_small/26_550.jpg', '../../images/testsets/Gallagher_small/21_287.jpg']\n",
        "Score: -0.1000 for 26 and 21 (Less than two matches)"
       ]
      },
      {
       "output_type": "stream",
       "stream": "stdout",
       "text": [
        "\n",
        "['../../images/testsets/Gallagher_small/26_550.jpg', '../../images/testsets/Gallagher_small/26_565.jpg']\n",
        "Score: 0.0371 for 26 and 26"
       ]
      },
      {
       "output_type": "stream",
       "stream": "stdout",
       "text": [
        "\n",
        "['../../images/testsets/Gallagher_small/26_550.jpg', '../../images/testsets/Gallagher_small/27_509.jpg']\n",
        "Score: 0.0344 for 26 and 27"
       ]
      },
      {
       "output_type": "stream",
       "stream": "stdout",
       "text": [
        "\n",
        "['../../images/testsets/Gallagher_small/26_550.jpg', '../../images/testsets/Gallagher_small/15_169.jpg']\n",
        "Score: -0.1272 for 26 and 15"
       ]
      },
      {
       "output_type": "stream",
       "stream": "stdout",
       "text": [
        "\n",
        "['../../images/testsets/Gallagher_small/26_550.jpg', '../../images/testsets/Gallagher_small/15_167.jpg']\n",
        "Score: 0.1217 for 26 and 15"
       ]
      },
      {
       "output_type": "stream",
       "stream": "stdout",
       "text": [
        "\n",
        "['../../images/testsets/Gallagher_small/26_550.jpg', '../../images/testsets/Gallagher_small/21_587.jpg']\n",
        "Score: -0.1000 for 26 and 21 (Less than two matches)"
       ]
      },
      {
       "output_type": "stream",
       "stream": "stdout",
       "text": [
        "\n",
        "['../../images/testsets/Gallagher_small/26_550.jpg', '../../images/testsets/Gallagher_small/15_222.jpg']\n",
        "Score: -0.1000 for 26 and 15 (Less than two matches)"
       ]
      },
      {
       "output_type": "stream",
       "stream": "stdout",
       "text": [
        "\n",
        "['../../images/testsets/Gallagher_small/26_550.jpg', '../../images/testsets/Gallagher_small/16_178.jpg']\n",
        "Score: -0.1000 for 26 and 16 (Less than two matches)"
       ]
      },
      {
       "output_type": "stream",
       "stream": "stdout",
       "text": [
        "\n",
        "['../../images/testsets/Gallagher_small/26_550.jpg', '../../images/testsets/Gallagher_small/17_165.jpg']\n",
        "Score: -0.1000 for 26 and 17 (Less than two matches)"
       ]
      },
      {
       "output_type": "stream",
       "stream": "stdout",
       "text": [
        "\n",
        "['../../images/testsets/Gallagher_small/26_550.jpg', '../../images/testsets/Gallagher_small/28_537.jpg']\n",
        "Score: -0.1000 for 26 and 28 (Less than two matches)"
       ]
      },
      {
       "output_type": "stream",
       "stream": "stdout",
       "text": [
        "\n",
        "['../../images/testsets/Gallagher_small/26_550.jpg', '../../images/testsets/Gallagher_small/27_524.jpg']\n",
        "Score: 0.0059 for 26 and 27"
       ]
      },
      {
       "output_type": "stream",
       "stream": "stdout",
       "text": [
        "\n",
        "['../../images/testsets/Gallagher_small/26_550.jpg', '../../images/testsets/Gallagher_small/13_163.jpg']\n",
        "Score: -0.0191 for 26 and 13"
       ]
      },
      {
       "output_type": "stream",
       "stream": "stdout",
       "text": [
        "\n",
        "['../../images/testsets/Gallagher_small/26_550.jpg', '../../images/testsets/Gallagher_small/23_302.jpg']\n",
        "Score: -0.1000 for 26 and 23 (Less than two matches)"
       ]
      },
      {
       "output_type": "stream",
       "stream": "stdout",
       "text": [
        "\n",
        "['../../images/testsets/Gallagher_small/15_170.jpg', '../../images/testsets/Gallagher_small/21_293.jpg']\n",
        "Score: 0.0830 for 15 and 21"
       ]
      },
      {
       "output_type": "stream",
       "stream": "stdout",
       "text": [
        "\n",
        "['../../images/testsets/Gallagher_small/15_170.jpg', '../../images/testsets/Gallagher_small/24_379.jpg']\n",
        "Score: 0.0491 for 15 and 24"
       ]
      },
      {
       "output_type": "stream",
       "stream": "stdout",
       "text": [
        "\n",
        "['../../images/testsets/Gallagher_small/15_170.jpg', '../../images/testsets/Gallagher_small/17_212.jpg']\n",
        "Score: 0.0286 for 15 and 17"
       ]
      },
      {
       "output_type": "stream",
       "stream": "stdout",
       "text": [
        "\n",
        "['../../images/testsets/Gallagher_small/15_170.jpg', '../../images/testsets/Gallagher_small/14_699.jpg']\n",
        "Score: 0.0699 for 15 and 14"
       ]
      },
      {
       "output_type": "stream",
       "stream": "stdout",
       "text": [
        "\n",
        "['../../images/testsets/Gallagher_small/15_170.jpg', '../../images/testsets/Gallagher_small/28_567.jpg']\n",
        "Score: 0.0451 for 15 and 28"
       ]
      },
      {
       "output_type": "stream",
       "stream": "stdout",
       "text": [
        "\n",
        "['../../images/testsets/Gallagher_small/15_170.jpg', '../../images/testsets/Gallagher_small/27_551.jpg']\n",
        "Score: -0.1000 for 15 and 27 (Less than two matches)"
       ]
      },
      {
       "output_type": "stream",
       "stream": "stdout",
       "text": [
        "\n",
        "['../../images/testsets/Gallagher_small/15_170.jpg', '../../images/testsets/Gallagher_small/22_254.jpg']\n",
        "Score: -0.1000 for 15 and 22 (Less than two matches)"
       ]
      },
      {
       "output_type": "stream",
       "stream": "stdout",
       "text": [
        "\n",
        "['../../images/testsets/Gallagher_small/15_170.jpg', '../../images/testsets/Gallagher_small/29_568.jpg']\n",
        "Score: 0.0211 for 15 and 29"
       ]
      },
      {
       "output_type": "stream",
       "stream": "stdout",
       "text": [
        "\n",
        "['../../images/testsets/Gallagher_small/15_170.jpg', '../../images/testsets/Gallagher_small/15_154.jpg']\n",
        "Score: 0.1056 for 15 and 15"
       ]
      },
      {
       "output_type": "stream",
       "stream": "stdout",
       "text": [
        "\n",
        "['../../images/testsets/Gallagher_small/15_170.jpg', '../../images/testsets/Gallagher_small/25_431.jpg']\n",
        "Score: 0.0455 for 15 and 25"
       ]
      },
      {
       "output_type": "stream",
       "stream": "stdout",
       "text": [
        "\n",
        "['../../images/testsets/Gallagher_small/15_170.jpg', '../../images/testsets/Gallagher_small/23_305.jpg']\n",
        "Score: 0.0855 for 15 and 23"
       ]
      },
      {
       "output_type": "stream",
       "stream": "stdout",
       "text": [
        "\n",
        "['../../images/testsets/Gallagher_small/15_170.jpg', '../../images/testsets/Gallagher_small/16_164.jpg']\n",
        "Score: 0.0697 for 15 and 16"
       ]
      },
      {
       "output_type": "stream",
       "stream": "stdout",
       "text": [
        "\n",
        "['../../images/testsets/Gallagher_small/15_170.jpg', '../../images/testsets/Gallagher_small/18_166.jpg']\n",
        "Score: 0.0554 for 15 and 18"
       ]
      },
      {
       "output_type": "stream",
       "stream": "stdout",
       "text": [
        "\n",
        "['../../images/testsets/Gallagher_small/15_170.jpg', '../../images/testsets/Gallagher_small/25_770.jpg']\n",
        "Score: -0.1000 for 15 and 25 (Less than two matches)"
       ]
      },
      {
       "output_type": "stream",
       "stream": "stdout",
       "text": [
        "\n",
        "['../../images/testsets/Gallagher_small/15_170.jpg', '../../images/testsets/Gallagher_small/32_642.jpg']\n",
        "Score: 0.0491 for 15 and 32"
       ]
      },
      {
       "output_type": "stream",
       "stream": "stdout",
       "text": [
        "\n",
        "['../../images/testsets/Gallagher_small/15_170.jpg', '../../images/testsets/Gallagher_small/19_198.jpg']\n",
        "Score: -0.0144 for 15 and 19"
       ]
      },
      {
       "output_type": "stream",
       "stream": "stdout",
       "text": [
        "\n",
        "['../../images/testsets/Gallagher_small/15_170.jpg', '../../images/testsets/Gallagher_small/21_294.jpg']\n",
        "Score: -0.0354 for 15 and 21"
       ]
      },
      {
       "output_type": "stream",
       "stream": "stdout",
       "text": [
        "\n",
        "['../../images/testsets/Gallagher_small/15_170.jpg', '../../images/testsets/Gallagher_small/14_206.jpg']\n",
        "Score: 0.0408 for 15 and 14"
       ]
      },
      {
       "output_type": "stream",
       "stream": "stdout",
       "text": [
        "\n",
        "['../../images/testsets/Gallagher_small/15_170.jpg', '../../images/testsets/Gallagher_small/26_535.jpg']\n",
        "Score: -0.1000 for 15 and 26 (Less than two matches)"
       ]
      },
      {
       "output_type": "stream",
       "stream": "stdout",
       "text": [
        "\n",
        "['../../images/testsets/Gallagher_small/15_170.jpg', '../../images/testsets/Gallagher_small/22_255.jpg']\n",
        "Score: -0.1000 for 15 and 22 (Less than two matches)"
       ]
      },
      {
       "output_type": "stream",
       "stream": "stdout",
       "text": [
        "\n",
        "['../../images/testsets/Gallagher_small/15_170.jpg', '../../images/testsets/Gallagher_small/29_553.jpg']\n",
        "Score: -0.1000 for 15 and 29 (Less than two matches)"
       ]
      },
      {
       "output_type": "stream",
       "stream": "stdout",
       "text": [
        "\n",
        "['../../images/testsets/Gallagher_small/15_170.jpg', '../../images/testsets/Gallagher_small/13_168.jpg']\n",
        "Score: -0.1000 for 15 and 13 (Less than two matches)"
       ]
      },
      {
       "output_type": "stream",
       "stream": "stdout",
       "text": [
        "\n",
        "['../../images/testsets/Gallagher_small/15_170.jpg', '../../images/testsets/Gallagher_small/28_552.jpg']\n",
        "Score: -0.1000 for 15 and 28 (Less than two matches)"
       ]
      },
      {
       "output_type": "stream",
       "stream": "stdout",
       "text": [
        "\n",
        "['../../images/testsets/Gallagher_small/15_170.jpg', '../../images/testsets/Gallagher_small/13_145.jpg']\n",
        "Score: -0.1000 for 15 and 13 (Less than two matches)"
       ]
      },
      {
       "output_type": "stream",
       "stream": "stdout",
       "text": [
        "\n",
        "['../../images/testsets/Gallagher_small/15_170.jpg', '../../images/testsets/Gallagher_small/14_207.jpg']\n",
        "Score: 0.0728 for 15 and 14"
       ]
      },
      {
       "output_type": "stream",
       "stream": "stdout",
       "text": [
        "\n",
        "['../../images/testsets/Gallagher_small/15_170.jpg', '../../images/testsets/Gallagher_small/14_150.jpg']\n",
        "Score: 0.0875 for 15 and 14"
       ]
      },
      {
       "output_type": "stream",
       "stream": "stdout",
       "text": [
        "\n",
        "['../../images/testsets/Gallagher_small/15_170.jpg', '../../images/testsets/Gallagher_small/27_566.jpg']\n",
        "Score: -0.1000 for 15 and 27 (Less than two matches)"
       ]
      },
      {
       "output_type": "stream",
       "stream": "stdout",
       "text": [
        "\n",
        "['../../images/testsets/Gallagher_small/15_170.jpg', '../../images/testsets/Gallagher_small/17_183.jpg']\n",
        "Score: -0.0734 for 15 and 17"
       ]
      },
      {
       "output_type": "stream",
       "stream": "stdout",
       "text": [
        "\n",
        "['../../images/testsets/Gallagher_small/15_170.jpg', '../../images/testsets/Gallagher_small/19_187.jpg']\n",
        "Score: -0.0223 for 15 and 19"
       ]
      },
      {
       "output_type": "stream",
       "stream": "stdout",
       "text": [
        "\n",
        "['../../images/testsets/Gallagher_small/15_170.jpg', '../../images/testsets/Gallagher_small/31_580.jpg']\n",
        "Score: 0.0567 for 15 and 31"
       ]
      },
      {
       "output_type": "stream",
       "stream": "stdout",
       "text": [
        "\n",
        "['../../images/testsets/Gallagher_small/15_170.jpg', '../../images/testsets/Gallagher_small/21_872.jpg']\n",
        "Score: 0.0686 for 15 and 21"
       ]
      },
      {
       "output_type": "stream",
       "stream": "stdout",
       "text": [
        "\n",
        "['../../images/testsets/Gallagher_small/15_170.jpg', '../../images/testsets/Gallagher_small/23_307.jpg']\n",
        "Score: -0.0208 for 15 and 23"
       ]
      },
      {
       "output_type": "stream",
       "stream": "stdout",
       "text": [
        "\n",
        "['../../images/testsets/Gallagher_small/15_170.jpg', '../../images/testsets/Gallagher_small/25_462.jpg']\n",
        "Score: 0.1030 for 15 and 25"
       ]
      },
      {
       "output_type": "stream",
       "stream": "stdout",
       "text": [
        "\n",
        "['../../images/testsets/Gallagher_small/15_170.jpg', '../../images/testsets/Gallagher_small/23_534.jpg']\n",
        "Score: -0.1000 for 15 and 23 (Less than two matches)"
       ]
      },
      {
       "output_type": "stream",
       "stream": "stdout",
       "text": [
        "\n",
        "['../../images/testsets/Gallagher_small/15_170.jpg', '../../images/testsets/Gallagher_small/31_582.jpg']\n",
        "Score: -0.0841 for 15 and 31"
       ]
      },
      {
       "output_type": "stream",
       "stream": "stdout",
       "text": [
        "\n",
        "['../../images/testsets/Gallagher_small/15_170.jpg', '../../images/testsets/Gallagher_small/15_224.jpg']\n",
        "Score: 0.0347 for 15 and 15"
       ]
      },
      {
       "output_type": "stream",
       "stream": "stdout",
       "text": [
        "\n",
        "['../../images/testsets/Gallagher_small/15_170.jpg', '../../images/testsets/Gallagher_small/23_508.jpg']\n",
        "Score: 0.0520 for 15 and 23"
       ]
      },
      {
       "output_type": "stream",
       "stream": "stdout",
       "text": [
        "\n",
        "['../../images/testsets/Gallagher_small/15_170.jpg', '../../images/testsets/Gallagher_small/18_220.jpg']\n",
        "Score: -0.1000 for 15 and 18 (Less than two matches)"
       ]
      },
      {
       "output_type": "stream",
       "stream": "stdout",
       "text": [
        "\n",
        "['../../images/testsets/Gallagher_small/15_170.jpg', '../../images/testsets/Gallagher_small/15_151.jpg']\n",
        "Score: 0.0359 for 15 and 15"
       ]
      },
      {
       "output_type": "stream",
       "stream": "stdout",
       "text": [
        "\n",
        "['../../images/testsets/Gallagher_small/15_170.jpg', '../../images/testsets/Gallagher_small/16_182.jpg']\n",
        "Score: -0.1000 for 15 and 16 (Less than two matches)"
       ]
      },
      {
       "output_type": "stream",
       "stream": "stdout",
       "text": [
        "\n",
        "['../../images/testsets/Gallagher_small/15_170.jpg', '../../images/testsets/Gallagher_small/23_875.jpg']\n",
        "Score: 0.0376 for 15 and 23"
       ]
      },
      {
       "output_type": "stream",
       "stream": "stdout",
       "text": [
        "\n",
        "['../../images/testsets/Gallagher_small/15_170.jpg', '../../images/testsets/Gallagher_small/23_549.jpg']\n",
        "Score: 0.0526 for 15 and 23"
       ]
      },
      {
       "output_type": "stream",
       "stream": "stdout",
       "text": [
        "\n",
        "['../../images/testsets/Gallagher_small/15_170.jpg', '../../images/testsets/Gallagher_small/32_648.jpg']\n",
        "Score: -0.1000 for 15 and 32 (Less than two matches)"
       ]
      },
      {
       "output_type": "stream",
       "stream": "stdout",
       "text": [
        "\n",
        "['../../images/testsets/Gallagher_small/15_170.jpg', '../../images/testsets/Gallagher_small/15_171.jpg']\n",
        "Score: 0.0687 for 15 and 15"
       ]
      },
      {
       "output_type": "stream",
       "stream": "stdout",
       "text": [
        "\n",
        "['../../images/testsets/Gallagher_small/15_170.jpg', '../../images/testsets/Gallagher_small/24_358.jpg']\n",
        "Score: 0.0872 for 15 and 24"
       ]
      },
      {
       "output_type": "stream",
       "stream": "stdout",
       "text": [
        "\n",
        "['../../images/testsets/Gallagher_small/15_170.jpg', '../../images/testsets/Gallagher_small/25_458.jpg']\n",
        "Score: 0.1011 for 15 and 25"
       ]
      },
      {
       "output_type": "stream",
       "stream": "stdout",
       "text": [
        "\n",
        "['../../images/testsets/Gallagher_small/15_170.jpg', '../../images/testsets/Gallagher_small/30_569.jpg']\n",
        "Score: 0.0492 for 15 and 30"
       ]
      },
      {
       "output_type": "stream",
       "stream": "stdout",
       "text": [
        "\n",
        "['../../images/testsets/Gallagher_small/15_170.jpg', '../../images/testsets/Gallagher_small/32_645.jpg']\n",
        "Score: 0.0463 for 15 and 32"
       ]
      },
      {
       "output_type": "stream",
       "stream": "stdout",
       "text": [
        "\n",
        "['../../images/testsets/Gallagher_small/15_170.jpg', '../../images/testsets/Gallagher_small/29_538.jpg']\n",
        "Score: -0.1000 for 15 and 29 (Less than two matches)"
       ]
      },
      {
       "output_type": "stream",
       "stream": "stdout",
       "text": [
        "\n",
        "['../../images/testsets/Gallagher_small/15_170.jpg', '../../images/testsets/Gallagher_small/21_251.jpg']\n",
        "Score: 0.0545 for 15 and 21"
       ]
      },
      {
       "output_type": "stream",
       "stream": "stdout",
       "text": [
        "\n",
        "['../../images/testsets/Gallagher_small/15_170.jpg', '../../images/testsets/Gallagher_small/20_249.jpg']\n",
        "Score: 0.0072 for 15 and 20"
       ]
      },
      {
       "output_type": "stream",
       "stream": "stdout",
       "text": [
        "\n",
        "['../../images/testsets/Gallagher_small/15_170.jpg', '../../images/testsets/Gallagher_small/15_181.jpg']\n",
        "Score: 0.0364 for 15 and 15"
       ]
      },
      {
       "output_type": "stream",
       "stream": "stdout",
       "text": [
        "\n",
        "['../../images/testsets/Gallagher_small/15_170.jpg', '../../images/testsets/Gallagher_small/15_158.jpg']\n",
        "Score: 0.0234 for 15 and 15"
       ]
      },
      {
       "output_type": "stream",
       "stream": "stdout",
       "text": [
        "\n",
        "['../../images/testsets/Gallagher_small/15_170.jpg', '../../images/testsets/Gallagher_small/19_195.jpg']\n",
        "Score: -0.0877 for 15 and 19"
       ]
      },
      {
       "output_type": "stream",
       "stream": "stdout",
       "text": [
        "\n",
        "['../../images/testsets/Gallagher_small/15_170.jpg', '../../images/testsets/Gallagher_small/19_193.jpg']\n",
        "Score: -0.1000 for 15 and 19 (Less than two matches)"
       ]
      },
      {
       "output_type": "stream",
       "stream": "stdout",
       "text": [
        "\n",
        "['../../images/testsets/Gallagher_small/15_170.jpg', '../../images/testsets/Gallagher_small/21_287.jpg']\n",
        "Score: -0.0439 for 15 and 21"
       ]
      },
      {
       "output_type": "stream",
       "stream": "stdout",
       "text": [
        "\n",
        "['../../images/testsets/Gallagher_small/15_170.jpg', '../../images/testsets/Gallagher_small/26_565.jpg']\n",
        "Score: 0.0358 for 15 and 26"
       ]
      },
      {
       "output_type": "stream",
       "stream": "stdout",
       "text": [
        "\n",
        "['../../images/testsets/Gallagher_small/15_170.jpg', '../../images/testsets/Gallagher_small/27_509.jpg']\n",
        "Score: -0.1000 for 15 and 27 (Less than two matches)"
       ]
      },
      {
       "output_type": "stream",
       "stream": "stdout",
       "text": [
        "\n",
        "['../../images/testsets/Gallagher_small/15_170.jpg', '../../images/testsets/Gallagher_small/15_169.jpg']\n",
        "Score: -0.0249 for 15 and 15"
       ]
      },
      {
       "output_type": "stream",
       "stream": "stdout",
       "text": [
        "\n",
        "['../../images/testsets/Gallagher_small/15_170.jpg', '../../images/testsets/Gallagher_small/15_167.jpg']\n",
        "Score: 0.0463 for 15 and 15"
       ]
      },
      {
       "output_type": "stream",
       "stream": "stdout",
       "text": [
        "\n",
        "['../../images/testsets/Gallagher_small/15_170.jpg', '../../images/testsets/Gallagher_small/21_587.jpg']\n",
        "Score: 0.0905 for 15 and 21"
       ]
      },
      {
       "output_type": "stream",
       "stream": "stdout",
       "text": [
        "\n",
        "['../../images/testsets/Gallagher_small/15_170.jpg', '../../images/testsets/Gallagher_small/15_222.jpg']\n",
        "Score: -0.1000 for 15 and 15 (Less than two matches)"
       ]
      },
      {
       "output_type": "stream",
       "stream": "stdout",
       "text": [
        "\n",
        "['../../images/testsets/Gallagher_small/15_170.jpg', '../../images/testsets/Gallagher_small/16_178.jpg']\n",
        "Score: -0.1000 for 15 and 16 (Less than two matches)"
       ]
      },
      {
       "output_type": "stream",
       "stream": "stdout",
       "text": [
        "\n",
        "['../../images/testsets/Gallagher_small/15_170.jpg', '../../images/testsets/Gallagher_small/17_165.jpg']\n",
        "Score: -0.1000 for 15 and 17 (Less than two matches)"
       ]
      },
      {
       "output_type": "stream",
       "stream": "stdout",
       "text": [
        "\n",
        "['../../images/testsets/Gallagher_small/15_170.jpg', '../../images/testsets/Gallagher_small/28_537.jpg']\n",
        "Score: -0.1000 for 15 and 28 (Less than two matches)"
       ]
      },
      {
       "output_type": "stream",
       "stream": "stdout",
       "text": [
        "\n",
        "['../../images/testsets/Gallagher_small/15_170.jpg', '../../images/testsets/Gallagher_small/27_524.jpg']\n",
        "Score: -0.1000 for 15 and 27 (Less than two matches)"
       ]
      },
      {
       "output_type": "stream",
       "stream": "stdout",
       "text": [
        "\n",
        "['../../images/testsets/Gallagher_small/15_170.jpg', '../../images/testsets/Gallagher_small/13_163.jpg']\n",
        "Score: -0.1000 for 15 and 13 (Less than two matches)"
       ]
      },
      {
       "output_type": "stream",
       "stream": "stdout",
       "text": [
        "\n",
        "['../../images/testsets/Gallagher_small/15_170.jpg', '../../images/testsets/Gallagher_small/23_302.jpg']\n",
        "Score: -0.0385 for 15 and 23"
       ]
      },
      {
       "output_type": "stream",
       "stream": "stdout",
       "text": [
        "\n",
        "['../../images/testsets/Gallagher_small/21_293.jpg', '../../images/testsets/Gallagher_small/24_379.jpg']\n",
        "Score: 0.0466 for 21 and 24"
       ]
      },
      {
       "output_type": "stream",
       "stream": "stdout",
       "text": [
        "\n",
        "['../../images/testsets/Gallagher_small/21_293.jpg', '../../images/testsets/Gallagher_small/17_212.jpg']\n",
        "Score: -0.1000 for 21 and 17 (Less than two matches)"
       ]
      },
      {
       "output_type": "stream",
       "stream": "stdout",
       "text": [
        "\n",
        "['../../images/testsets/Gallagher_small/21_293.jpg', '../../images/testsets/Gallagher_small/14_699.jpg']\n",
        "Score: -0.1000 for 21 and 14 (Less than two matches)"
       ]
      },
      {
       "output_type": "stream",
       "stream": "stdout",
       "text": [
        "\n",
        "['../../images/testsets/Gallagher_small/21_293.jpg', '../../images/testsets/Gallagher_small/28_567.jpg']\n",
        "Score: -0.1000 for 21 and 28 (Less than two matches)"
       ]
      },
      {
       "output_type": "stream",
       "stream": "stdout",
       "text": [
        "\n",
        "['../../images/testsets/Gallagher_small/21_293.jpg', '../../images/testsets/Gallagher_small/27_551.jpg']\n",
        "Score: -0.1000 for 21 and 27 (Less than two matches)"
       ]
      },
      {
       "output_type": "stream",
       "stream": "stdout",
       "text": [
        "\n",
        "['../../images/testsets/Gallagher_small/21_293.jpg', '../../images/testsets/Gallagher_small/22_254.jpg']\n",
        "Score: -0.1000 for 21 and 22 (Less than two matches)"
       ]
      },
      {
       "output_type": "stream",
       "stream": "stdout",
       "text": [
        "\n",
        "['../../images/testsets/Gallagher_small/21_293.jpg', '../../images/testsets/Gallagher_small/29_568.jpg']\n",
        "Score: -0.1000 for 21 and 29 (Less than two matches)"
       ]
      },
      {
       "output_type": "stream",
       "stream": "stdout",
       "text": [
        "\n",
        "['../../images/testsets/Gallagher_small/21_293.jpg', '../../images/testsets/Gallagher_small/15_154.jpg']\n",
        "Score: 0.0562 for 21 and 15"
       ]
      },
      {
       "output_type": "stream",
       "stream": "stdout",
       "text": [
        "\n",
        "['../../images/testsets/Gallagher_small/21_293.jpg', '../../images/testsets/Gallagher_small/25_431.jpg']\n",
        "Score: 0.0704 for 21 and 25"
       ]
      },
      {
       "output_type": "stream",
       "stream": "stdout",
       "text": [
        "\n",
        "['../../images/testsets/Gallagher_small/21_293.jpg', '../../images/testsets/Gallagher_small/23_305.jpg']\n",
        "Score: 0.0378 for 21 and 23"
       ]
      },
      {
       "output_type": "stream",
       "stream": "stdout",
       "text": [
        "\n",
        "['../../images/testsets/Gallagher_small/21_293.jpg', '../../images/testsets/Gallagher_small/16_164.jpg']\n",
        "Score: 0.0560 for 21 and 16"
       ]
      },
      {
       "output_type": "stream",
       "stream": "stdout",
       "text": [
        "\n",
        "['../../images/testsets/Gallagher_small/21_293.jpg', '../../images/testsets/Gallagher_small/18_166.jpg']\n",
        "Score: 0.0360 for 21 and 18"
       ]
      },
      {
       "output_type": "stream",
       "stream": "stdout",
       "text": [
        "\n",
        "['../../images/testsets/Gallagher_small/21_293.jpg', '../../images/testsets/Gallagher_small/25_770.jpg']\n",
        "Score: -0.1000 for 21 and 25 (Less than two matches)"
       ]
      },
      {
       "output_type": "stream",
       "stream": "stdout",
       "text": [
        "\n",
        "['../../images/testsets/Gallagher_small/21_293.jpg', '../../images/testsets/Gallagher_small/32_642.jpg']\n",
        "Score: 0.0466 for 21 and 32"
       ]
      },
      {
       "output_type": "stream",
       "stream": "stdout",
       "text": [
        "\n",
        "['../../images/testsets/Gallagher_small/21_293.jpg', '../../images/testsets/Gallagher_small/19_198.jpg']\n",
        "Score: 0.0488 for 21 and 19"
       ]
      },
      {
       "output_type": "stream",
       "stream": "stdout",
       "text": [
        "\n",
        "['../../images/testsets/Gallagher_small/21_293.jpg', '../../images/testsets/Gallagher_small/21_294.jpg']\n",
        "Score: 0.1075 for 21 and 21"
       ]
      },
      {
       "output_type": "stream",
       "stream": "stdout",
       "text": [
        "\n",
        "['../../images/testsets/Gallagher_small/21_293.jpg', '../../images/testsets/Gallagher_small/14_206.jpg']\n",
        "Score: 0.0467 for 21 and 14"
       ]
      },
      {
       "output_type": "stream",
       "stream": "stdout",
       "text": [
        "\n",
        "['../../images/testsets/Gallagher_small/21_293.jpg', '../../images/testsets/Gallagher_small/26_535.jpg']\n",
        "Score: -0.1000 for 21 and 26 (Less than two matches)"
       ]
      },
      {
       "output_type": "stream",
       "stream": "stdout",
       "text": [
        "\n",
        "['../../images/testsets/Gallagher_small/21_293.jpg', '../../images/testsets/Gallagher_small/22_255.jpg']\n",
        "Score: -0.1000 for 21 and 22 (Less than two matches)"
       ]
      },
      {
       "output_type": "stream",
       "stream": "stdout",
       "text": [
        "\n",
        "['../../images/testsets/Gallagher_small/21_293.jpg', '../../images/testsets/Gallagher_small/29_553.jpg']\n",
        "Score: -0.1000 for 21 and 29 (Less than two matches)"
       ]
      },
      {
       "output_type": "stream",
       "stream": "stdout",
       "text": [
        "\n",
        "['../../images/testsets/Gallagher_small/21_293.jpg', '../../images/testsets/Gallagher_small/13_168.jpg']\n",
        "Score: -0.1000 for 21 and 13 (Less than two matches)"
       ]
      },
      {
       "output_type": "stream",
       "stream": "stdout",
       "text": [
        "\n",
        "['../../images/testsets/Gallagher_small/21_293.jpg', '../../images/testsets/Gallagher_small/28_552.jpg']\n",
        "Score: -0.1000 for 21 and 28 (Less than two matches)"
       ]
      },
      {
       "output_type": "stream",
       "stream": "stdout",
       "text": [
        "\n",
        "['../../images/testsets/Gallagher_small/21_293.jpg', '../../images/testsets/Gallagher_small/13_145.jpg']\n",
        "Score: -0.1000 for 21 and 13 (Less than two matches)"
       ]
      },
      {
       "output_type": "stream",
       "stream": "stdout",
       "text": [
        "\n",
        "['../../images/testsets/Gallagher_small/21_293.jpg', '../../images/testsets/Gallagher_small/14_207.jpg']\n",
        "Score: -0.1000 for 21 and 14 (Less than two matches)"
       ]
      },
      {
       "output_type": "stream",
       "stream": "stdout",
       "text": [
        "\n",
        "['../../images/testsets/Gallagher_small/21_293.jpg', '../../images/testsets/Gallagher_small/14_150.jpg']\n",
        "Score: -0.1000 for 21 and 14 (Less than two matches)"
       ]
      },
      {
       "output_type": "stream",
       "stream": "stdout",
       "text": [
        "\n",
        "['../../images/testsets/Gallagher_small/21_293.jpg', '../../images/testsets/Gallagher_small/27_566.jpg']\n",
        "Score: 0.0442 for 21 and 27"
       ]
      },
      {
       "output_type": "stream",
       "stream": "stdout",
       "text": [
        "\n",
        "['../../images/testsets/Gallagher_small/21_293.jpg', '../../images/testsets/Gallagher_small/17_183.jpg']\n",
        "Score: -0.1000 for 21 and 17 (Less than two matches)"
       ]
      },
      {
       "output_type": "stream",
       "stream": "stdout",
       "text": [
        "\n",
        "['../../images/testsets/Gallagher_small/21_293.jpg', '../../images/testsets/Gallagher_small/19_187.jpg']\n",
        "Score: -0.1000 for 21 and 19 (Less than two matches)"
       ]
      },
      {
       "output_type": "stream",
       "stream": "stdout",
       "text": [
        "\n",
        "['../../images/testsets/Gallagher_small/21_293.jpg', '../../images/testsets/Gallagher_small/31_580.jpg']\n",
        "Score: -0.1000 for 21 and 31 (Less than two matches)"
       ]
      },
      {
       "output_type": "stream",
       "stream": "stdout",
       "text": [
        "\n",
        "['../../images/testsets/Gallagher_small/21_293.jpg', '../../images/testsets/Gallagher_small/21_872.jpg']\n",
        "Score: -0.1000 for 21 and 21 (Less than two matches)"
       ]
      },
      {
       "output_type": "stream",
       "stream": "stdout",
       "text": [
        "\n",
        "['../../images/testsets/Gallagher_small/21_293.jpg', '../../images/testsets/Gallagher_small/23_307.jpg']\n",
        "Score: -0.0426 for 21 and 23"
       ]
      },
      {
       "output_type": "stream",
       "stream": "stdout",
       "text": [
        "\n",
        "['../../images/testsets/Gallagher_small/21_293.jpg', '../../images/testsets/Gallagher_small/25_462.jpg']\n",
        "Score: -0.0011 for 21 and 25"
       ]
      },
      {
       "output_type": "stream",
       "stream": "stdout",
       "text": [
        "\n",
        "['../../images/testsets/Gallagher_small/21_293.jpg', '../../images/testsets/Gallagher_small/23_534.jpg']\n",
        "Score: -0.1000 for 21 and 23 (Less than two matches)"
       ]
      },
      {
       "output_type": "stream",
       "stream": "stdout",
       "text": [
        "\n",
        "['../../images/testsets/Gallagher_small/21_293.jpg', '../../images/testsets/Gallagher_small/31_582.jpg']\n",
        "Score: 0.0838 for 21 and 31"
       ]
      },
      {
       "output_type": "stream",
       "stream": "stdout",
       "text": [
        "\n",
        "['../../images/testsets/Gallagher_small/21_293.jpg', '../../images/testsets/Gallagher_small/15_224.jpg']\n",
        "Score: -0.1000 for 21 and 15 (Less than two matches)"
       ]
      },
      {
       "output_type": "stream",
       "stream": "stdout",
       "text": [
        "\n",
        "['../../images/testsets/Gallagher_small/21_293.jpg', '../../images/testsets/Gallagher_small/23_508.jpg']\n",
        "Score: 0.0045 for 21 and 23"
       ]
      },
      {
       "output_type": "stream",
       "stream": "stdout",
       "text": [
        "\n",
        "['../../images/testsets/Gallagher_small/21_293.jpg', '../../images/testsets/Gallagher_small/18_220.jpg']\n",
        "Score: -0.1000 for 21 and 18 (Less than two matches)"
       ]
      },
      {
       "output_type": "stream",
       "stream": "stdout",
       "text": [
        "\n",
        "['../../images/testsets/Gallagher_small/21_293.jpg', '../../images/testsets/Gallagher_small/15_151.jpg']\n",
        "Score: -0.1000 for 21 and 15 (Less than two matches)"
       ]
      },
      {
       "output_type": "stream",
       "stream": "stdout",
       "text": [
        "\n",
        "['../../images/testsets/Gallagher_small/21_293.jpg', '../../images/testsets/Gallagher_small/16_182.jpg']\n",
        "Score: -0.1000 for 21 and 16 (Less than two matches)"
       ]
      },
      {
       "output_type": "stream",
       "stream": "stdout",
       "text": [
        "\n",
        "['../../images/testsets/Gallagher_small/21_293.jpg', '../../images/testsets/Gallagher_small/23_875.jpg']\n",
        "Score: -0.0088 for 21 and 23"
       ]
      },
      {
       "output_type": "stream",
       "stream": "stdout",
       "text": [
        "\n",
        "['../../images/testsets/Gallagher_small/21_293.jpg', '../../images/testsets/Gallagher_small/23_549.jpg']\n",
        "Score: -0.1000 for 21 and 23 (Less than two matches)"
       ]
      },
      {
       "output_type": "stream",
       "stream": "stdout",
       "text": [
        "\n",
        "['../../images/testsets/Gallagher_small/21_293.jpg', '../../images/testsets/Gallagher_small/32_648.jpg']\n",
        "Score: -0.1000 for 21 and 32 (Less than two matches)"
       ]
      },
      {
       "output_type": "stream",
       "stream": "stdout",
       "text": [
        "\n",
        "['../../images/testsets/Gallagher_small/21_293.jpg', '../../images/testsets/Gallagher_small/15_171.jpg']\n",
        "Score: 0.0400 for 21 and 15"
       ]
      },
      {
       "output_type": "stream",
       "stream": "stdout",
       "text": [
        "\n",
        "['../../images/testsets/Gallagher_small/21_293.jpg', '../../images/testsets/Gallagher_small/24_358.jpg']\n",
        "Score: 0.0146 for 21 and 24"
       ]
      },
      {
       "output_type": "stream",
       "stream": "stdout",
       "text": [
        "\n",
        "['../../images/testsets/Gallagher_small/21_293.jpg', '../../images/testsets/Gallagher_small/25_458.jpg']\n",
        "Score: -0.1000 for 21 and 25 (Less than two matches)"
       ]
      },
      {
       "output_type": "stream",
       "stream": "stdout",
       "text": [
        "\n",
        "['../../images/testsets/Gallagher_small/21_293.jpg', '../../images/testsets/Gallagher_small/30_569.jpg']\n",
        "Score: -0.1000 for 21 and 30 (Less than two matches)"
       ]
      },
      {
       "output_type": "stream",
       "stream": "stdout",
       "text": [
        "\n",
        "['../../images/testsets/Gallagher_small/21_293.jpg', '../../images/testsets/Gallagher_small/32_645.jpg']\n",
        "Score: -0.1000 for 21 and 32 (Less than two matches)"
       ]
      },
      {
       "output_type": "stream",
       "stream": "stdout",
       "text": [
        "\n",
        "['../../images/testsets/Gallagher_small/21_293.jpg', '../../images/testsets/Gallagher_small/29_538.jpg']\n",
        "Score: -0.1000 for 21 and 29 (Less than two matches)"
       ]
      },
      {
       "output_type": "stream",
       "stream": "stdout",
       "text": [
        "\n",
        "['../../images/testsets/Gallagher_small/21_293.jpg', '../../images/testsets/Gallagher_small/21_251.jpg']\n",
        "Score: -0.1000 for 21 and 21 (Less than two matches)"
       ]
      },
      {
       "output_type": "stream",
       "stream": "stdout",
       "text": [
        "\n",
        "['../../images/testsets/Gallagher_small/21_293.jpg', '../../images/testsets/Gallagher_small/20_249.jpg']\n",
        "Score: 0.0354 for 21 and 20"
       ]
      },
      {
       "output_type": "stream",
       "stream": "stdout",
       "text": [
        "\n",
        "['../../images/testsets/Gallagher_small/21_293.jpg', '../../images/testsets/Gallagher_small/15_181.jpg']\n",
        "Score: 0.0976 for 21 and 15"
       ]
      },
      {
       "output_type": "stream",
       "stream": "stdout",
       "text": [
        "\n",
        "['../../images/testsets/Gallagher_small/21_293.jpg', '../../images/testsets/Gallagher_small/15_158.jpg']\n",
        "Score: 0.0168 for 21 and 15"
       ]
      },
      {
       "output_type": "stream",
       "stream": "stdout",
       "text": [
        "\n",
        "['../../images/testsets/Gallagher_small/21_293.jpg', '../../images/testsets/Gallagher_small/19_195.jpg']\n",
        "Score: 0.0376 for 21 and 19"
       ]
      },
      {
       "output_type": "stream",
       "stream": "stdout",
       "text": [
        "\n",
        "['../../images/testsets/Gallagher_small/21_293.jpg', '../../images/testsets/Gallagher_small/19_193.jpg']\n",
        "Score: -0.1000 for 21 and 19 (Less than two matches)"
       ]
      },
      {
       "output_type": "stream",
       "stream": "stdout",
       "text": [
        "\n",
        "['../../images/testsets/Gallagher_small/21_293.jpg', '../../images/testsets/Gallagher_small/21_287.jpg']\n",
        "Score: 0.0720 for 21 and 21"
       ]
      },
      {
       "output_type": "stream",
       "stream": "stdout",
       "text": [
        "\n",
        "['../../images/testsets/Gallagher_small/21_293.jpg', '../../images/testsets/Gallagher_small/26_565.jpg']\n",
        "Score: 0.0565 for 21 and 26"
       ]
      },
      {
       "output_type": "stream",
       "stream": "stdout",
       "text": [
        "\n",
        "['../../images/testsets/Gallagher_small/21_293.jpg', '../../images/testsets/Gallagher_small/27_509.jpg']\n",
        "Score: 0.0323 for 21 and 27"
       ]
      },
      {
       "output_type": "stream",
       "stream": "stdout",
       "text": [
        "\n",
        "['../../images/testsets/Gallagher_small/21_293.jpg', '../../images/testsets/Gallagher_small/15_169.jpg']\n",
        "Score: 0.0604 for 21 and 15"
       ]
      },
      {
       "output_type": "stream",
       "stream": "stdout",
       "text": [
        "\n",
        "['../../images/testsets/Gallagher_small/21_293.jpg', '../../images/testsets/Gallagher_small/15_167.jpg']\n",
        "Score: 0.0599 for 21 and 15"
       ]
      },
      {
       "output_type": "stream",
       "stream": "stdout",
       "text": [
        "\n",
        "['../../images/testsets/Gallagher_small/21_293.jpg', '../../images/testsets/Gallagher_small/21_587.jpg']\n",
        "Score: 0.0592 for 21 and 21"
       ]
      },
      {
       "output_type": "stream",
       "stream": "stdout",
       "text": [
        "\n",
        "['../../images/testsets/Gallagher_small/21_293.jpg', '../../images/testsets/Gallagher_small/15_222.jpg']\n",
        "Score: -0.1000 for 21 and 15 (Less than two matches)"
       ]
      },
      {
       "output_type": "stream",
       "stream": "stdout",
       "text": [
        "\n",
        "['../../images/testsets/Gallagher_small/21_293.jpg', '../../images/testsets/Gallagher_small/16_178.jpg']\n",
        "Score: -0.1000 for 21 and 16 (Less than two matches)"
       ]
      },
      {
       "output_type": "stream",
       "stream": "stdout",
       "text": [
        "\n",
        "['../../images/testsets/Gallagher_small/21_293.jpg', '../../images/testsets/Gallagher_small/17_165.jpg']\n",
        "Score: -0.1000 for 21 and 17 (Less than two matches)"
       ]
      },
      {
       "output_type": "stream",
       "stream": "stdout",
       "text": [
        "\n",
        "['../../images/testsets/Gallagher_small/21_293.jpg', '../../images/testsets/Gallagher_small/28_537.jpg']\n",
        "Score: -0.1000 for 21 and 28 (Less than two matches)"
       ]
      },
      {
       "output_type": "stream",
       "stream": "stdout",
       "text": [
        "\n",
        "['../../images/testsets/Gallagher_small/21_293.jpg', '../../images/testsets/Gallagher_small/27_524.jpg']\n",
        "Score: 0.0189 for 21 and 27"
       ]
      },
      {
       "output_type": "stream",
       "stream": "stdout",
       "text": [
        "\n",
        "['../../images/testsets/Gallagher_small/21_293.jpg', '../../images/testsets/Gallagher_small/13_163.jpg']\n",
        "Score: -0.1000 for 21 and 13 (Less than two matches)"
       ]
      },
      {
       "output_type": "stream",
       "stream": "stdout",
       "text": [
        "\n",
        "['../../images/testsets/Gallagher_small/21_293.jpg', '../../images/testsets/Gallagher_small/23_302.jpg']\n",
        "Score: 0.0951 for 21 and 23"
       ]
      },
      {
       "output_type": "stream",
       "stream": "stdout",
       "text": [
        "\n",
        "['../../images/testsets/Gallagher_small/24_379.jpg', '../../images/testsets/Gallagher_small/17_212.jpg']\n",
        "Score: -0.1000 for 24 and 17 (Less than two matches)"
       ]
      },
      {
       "output_type": "stream",
       "stream": "stdout",
       "text": [
        "\n",
        "['../../images/testsets/Gallagher_small/24_379.jpg', '../../images/testsets/Gallagher_small/14_699.jpg']\n",
        "Score: -0.1000 for 24 and 14 (Less than two matches)"
       ]
      },
      {
       "output_type": "stream",
       "stream": "stdout",
       "text": [
        "\n",
        "['../../images/testsets/Gallagher_small/24_379.jpg', '../../images/testsets/Gallagher_small/28_567.jpg']\n",
        "Score: -0.1000 for 24 and 28 (Less than two matches)"
       ]
      },
      {
       "output_type": "stream",
       "stream": "stdout",
       "text": [
        "\n",
        "['../../images/testsets/Gallagher_small/24_379.jpg', '../../images/testsets/Gallagher_small/27_551.jpg']\n",
        "Score: -0.1000 for 24 and 27 (Less than two matches)"
       ]
      },
      {
       "output_type": "stream",
       "stream": "stdout",
       "text": [
        "\n",
        "['../../images/testsets/Gallagher_small/24_379.jpg', '../../images/testsets/Gallagher_small/22_254.jpg']\n",
        "Score: -0.1000 for 24 and 22 (Less than two matches)"
       ]
      },
      {
       "output_type": "stream",
       "stream": "stdout",
       "text": [
        "\n",
        "['../../images/testsets/Gallagher_small/24_379.jpg', '../../images/testsets/Gallagher_small/29_568.jpg']\n",
        "Score: -0.1000 for 24 and 29 (Less than two matches)"
       ]
      },
      {
       "output_type": "stream",
       "stream": "stdout",
       "text": [
        "\n",
        "['../../images/testsets/Gallagher_small/24_379.jpg', '../../images/testsets/Gallagher_small/15_154.jpg']\n",
        "Score: -0.1000 for 24 and 15 (Less than two matches)"
       ]
      },
      {
       "output_type": "stream",
       "stream": "stdout",
       "text": [
        "\n",
        "['../../images/testsets/Gallagher_small/24_379.jpg', '../../images/testsets/Gallagher_small/25_431.jpg']\n",
        "Score: -0.1000 for 24 and 25 (Less than two matches)"
       ]
      },
      {
       "output_type": "stream",
       "stream": "stdout",
       "text": [
        "\n",
        "['../../images/testsets/Gallagher_small/24_379.jpg', '../../images/testsets/Gallagher_small/23_305.jpg']\n",
        "Score: 0.1442 for 24 and 23"
       ]
      },
      {
       "output_type": "stream",
       "stream": "stdout",
       "text": [
        "\n",
        "['../../images/testsets/Gallagher_small/24_379.jpg', '../../images/testsets/Gallagher_small/16_164.jpg']\n",
        "Score: 0.0815 for 24 and 16"
       ]
      },
      {
       "output_type": "stream",
       "stream": "stdout",
       "text": [
        "\n",
        "['../../images/testsets/Gallagher_small/24_379.jpg', '../../images/testsets/Gallagher_small/18_166.jpg']\n",
        "Score: -0.1000 for 24 and 18 (Less than two matches)"
       ]
      },
      {
       "output_type": "stream",
       "stream": "stdout",
       "text": [
        "\n",
        "['../../images/testsets/Gallagher_small/24_379.jpg', '../../images/testsets/Gallagher_small/25_770.jpg']\n",
        "Score: -0.1000 for 24 and 25 (Less than two matches)"
       ]
      },
      {
       "output_type": "stream",
       "stream": "stdout",
       "text": [
        "\n",
        "['../../images/testsets/Gallagher_small/24_379.jpg', '../../images/testsets/Gallagher_small/32_642.jpg']\n",
        "Score: 0.0635 for 24 and 32"
       ]
      },
      {
       "output_type": "stream",
       "stream": "stdout",
       "text": [
        "\n",
        "['../../images/testsets/Gallagher_small/24_379.jpg', '../../images/testsets/Gallagher_small/19_198.jpg']\n",
        "Score: 0.0587 for 24 and 19"
       ]
      },
      {
       "output_type": "stream",
       "stream": "stdout",
       "text": [
        "\n",
        "['../../images/testsets/Gallagher_small/24_379.jpg', '../../images/testsets/Gallagher_small/21_294.jpg']\n",
        "Score: -0.1000 for 24 and 21 (Less than two matches)"
       ]
      },
      {
       "output_type": "stream",
       "stream": "stdout",
       "text": [
        "\n",
        "['../../images/testsets/Gallagher_small/24_379.jpg', '../../images/testsets/Gallagher_small/14_206.jpg']\n",
        "Score: -0.1000 for 24 and 14 (Less than two matches)"
       ]
      },
      {
       "output_type": "stream",
       "stream": "stdout",
       "text": [
        "\n",
        "['../../images/testsets/Gallagher_small/24_379.jpg', '../../images/testsets/Gallagher_small/26_535.jpg']\n",
        "Score: -0.1000 for 24 and 26 (Less than two matches)"
       ]
      },
      {
       "output_type": "stream",
       "stream": "stdout",
       "text": [
        "\n",
        "['../../images/testsets/Gallagher_small/24_379.jpg', '../../images/testsets/Gallagher_small/22_255.jpg']\n",
        "Score: -0.0617 for 24 and 22"
       ]
      },
      {
       "output_type": "stream",
       "stream": "stdout",
       "text": [
        "\n",
        "['../../images/testsets/Gallagher_small/24_379.jpg', '../../images/testsets/Gallagher_small/29_553.jpg']\n",
        "Score: -0.1000 for 24 and 29 (Less than two matches)"
       ]
      },
      {
       "output_type": "stream",
       "stream": "stdout",
       "text": [
        "\n",
        "['../../images/testsets/Gallagher_small/24_379.jpg', '../../images/testsets/Gallagher_small/13_168.jpg']\n",
        "Score: -0.1000 for 24 and 13 (Less than two matches)"
       ]
      },
      {
       "output_type": "stream",
       "stream": "stdout",
       "text": [
        "\n",
        "['../../images/testsets/Gallagher_small/24_379.jpg', '../../images/testsets/Gallagher_small/28_552.jpg']\n",
        "Score: -0.1000 for 24 and 28 (Less than two matches)"
       ]
      },
      {
       "output_type": "stream",
       "stream": "stdout",
       "text": [
        "\n",
        "['../../images/testsets/Gallagher_small/24_379.jpg', '../../images/testsets/Gallagher_small/13_145.jpg']\n",
        "Score: -0.1000 for 24 and 13 (Less than two matches)"
       ]
      },
      {
       "output_type": "stream",
       "stream": "stdout",
       "text": [
        "\n",
        "['../../images/testsets/Gallagher_small/24_379.jpg', '../../images/testsets/Gallagher_small/14_207.jpg']\n",
        "Score: -0.1000 for 24 and 14 (Less than two matches)"
       ]
      },
      {
       "output_type": "stream",
       "stream": "stdout",
       "text": [
        "\n",
        "['../../images/testsets/Gallagher_small/24_379.jpg', '../../images/testsets/Gallagher_small/14_150.jpg']\n",
        "Score: 0.0523 for 24 and 14"
       ]
      },
      {
       "output_type": "stream",
       "stream": "stdout",
       "text": [
        "\n",
        "['../../images/testsets/Gallagher_small/24_379.jpg', '../../images/testsets/Gallagher_small/27_566.jpg']\n",
        "Score: -0.1000 for 24 and 27 (Less than two matches)"
       ]
      },
      {
       "output_type": "stream",
       "stream": "stdout",
       "text": [
        "\n",
        "['../../images/testsets/Gallagher_small/24_379.jpg', '../../images/testsets/Gallagher_small/17_183.jpg']\n",
        "Score: 0.0062 for 24 and 17"
       ]
      },
      {
       "output_type": "stream",
       "stream": "stdout",
       "text": [
        "\n",
        "['../../images/testsets/Gallagher_small/24_379.jpg', '../../images/testsets/Gallagher_small/19_187.jpg']\n",
        "Score: -0.1000 for 24 and 19 (Less than two matches)"
       ]
      },
      {
       "output_type": "stream",
       "stream": "stdout",
       "text": [
        "\n",
        "['../../images/testsets/Gallagher_small/24_379.jpg', '../../images/testsets/Gallagher_small/31_580.jpg']\n",
        "Score: 0.0387 for 24 and 31"
       ]
      },
      {
       "output_type": "stream",
       "stream": "stdout",
       "text": [
        "\n",
        "['../../images/testsets/Gallagher_small/24_379.jpg', '../../images/testsets/Gallagher_small/21_872.jpg']\n",
        "Score: -0.1000 for 24 and 21 (Less than two matches)"
       ]
      },
      {
       "output_type": "stream",
       "stream": "stdout",
       "text": [
        "\n",
        "['../../images/testsets/Gallagher_small/24_379.jpg', '../../images/testsets/Gallagher_small/23_307.jpg']\n",
        "Score: 0.0921 for 24 and 23"
       ]
      },
      {
       "output_type": "stream",
       "stream": "stdout",
       "text": [
        "\n",
        "['../../images/testsets/Gallagher_small/24_379.jpg', '../../images/testsets/Gallagher_small/25_462.jpg']\n",
        "Score: 0.0784 for 24 and 25"
       ]
      },
      {
       "output_type": "stream",
       "stream": "stdout",
       "text": [
        "\n",
        "['../../images/testsets/Gallagher_small/24_379.jpg', '../../images/testsets/Gallagher_small/23_534.jpg']\n",
        "Score: -0.1000 for 24 and 23 (Less than two matches)"
       ]
      },
      {
       "output_type": "stream",
       "stream": "stdout",
       "text": [
        "\n",
        "['../../images/testsets/Gallagher_small/24_379.jpg', '../../images/testsets/Gallagher_small/31_582.jpg']\n",
        "Score: -0.1000 for 24 and 31 (Less than two matches)"
       ]
      },
      {
       "output_type": "stream",
       "stream": "stdout",
       "text": [
        "\n",
        "['../../images/testsets/Gallagher_small/24_379.jpg', '../../images/testsets/Gallagher_small/15_224.jpg']\n",
        "Score: 0.0566 for 24 and 15"
       ]
      },
      {
       "output_type": "stream",
       "stream": "stdout",
       "text": [
        "\n",
        "['../../images/testsets/Gallagher_small/24_379.jpg', '../../images/testsets/Gallagher_small/23_508.jpg']\n",
        "Score: -0.1000 for 24 and 23 (Less than two matches)"
       ]
      },
      {
       "output_type": "stream",
       "stream": "stdout",
       "text": [
        "\n",
        "['../../images/testsets/Gallagher_small/24_379.jpg', '../../images/testsets/Gallagher_small/18_220.jpg']\n",
        "Score: -0.1000 for 24 and 18 (Less than two matches)"
       ]
      },
      {
       "output_type": "stream",
       "stream": "stdout",
       "text": [
        "\n",
        "['../../images/testsets/Gallagher_small/24_379.jpg', '../../images/testsets/Gallagher_small/15_151.jpg']\n",
        "Score: -0.1000 for 24 and 15 (Less than two matches)"
       ]
      },
      {
       "output_type": "stream",
       "stream": "stdout",
       "text": [
        "\n",
        "['../../images/testsets/Gallagher_small/24_379.jpg', '../../images/testsets/Gallagher_small/16_182.jpg']\n",
        "Score: -0.1000 for 24 and 16 (Less than two matches)"
       ]
      },
      {
       "output_type": "stream",
       "stream": "stdout",
       "text": [
        "\n",
        "['../../images/testsets/Gallagher_small/24_379.jpg', '../../images/testsets/Gallagher_small/23_875.jpg']\n",
        "Score: 0.0454 for 24 and 23"
       ]
      },
      {
       "output_type": "stream",
       "stream": "stdout",
       "text": [
        "\n",
        "['../../images/testsets/Gallagher_small/24_379.jpg', '../../images/testsets/Gallagher_small/23_549.jpg']\n",
        "Score: -0.1000 for 24 and 23 (Less than two matches)"
       ]
      },
      {
       "output_type": "stream",
       "stream": "stdout",
       "text": [
        "\n",
        "['../../images/testsets/Gallagher_small/24_379.jpg', '../../images/testsets/Gallagher_small/32_648.jpg']\n",
        "Score: -0.1000 for 24 and 32 (Less than two matches)"
       ]
      },
      {
       "output_type": "stream",
       "stream": "stdout",
       "text": [
        "\n",
        "['../../images/testsets/Gallagher_small/24_379.jpg', '../../images/testsets/Gallagher_small/15_171.jpg']\n",
        "Score: -0.0263 for 24 and 15"
       ]
      },
      {
       "output_type": "stream",
       "stream": "stdout",
       "text": [
        "\n",
        "['../../images/testsets/Gallagher_small/24_379.jpg', '../../images/testsets/Gallagher_small/24_358.jpg']\n",
        "Score: 0.0432 for 24 and 24"
       ]
      },
      {
       "output_type": "stream",
       "stream": "stdout",
       "text": [
        "\n",
        "['../../images/testsets/Gallagher_small/24_379.jpg', '../../images/testsets/Gallagher_small/25_458.jpg']\n",
        "Score: 0.0662 for 24 and 25"
       ]
      },
      {
       "output_type": "stream",
       "stream": "stdout",
       "text": [
        "\n",
        "['../../images/testsets/Gallagher_small/24_379.jpg', '../../images/testsets/Gallagher_small/30_569.jpg']\n",
        "Score: -0.1000 for 24 and 30 (Less than two matches)"
       ]
      },
      {
       "output_type": "stream",
       "stream": "stdout",
       "text": [
        "\n",
        "['../../images/testsets/Gallagher_small/24_379.jpg', '../../images/testsets/Gallagher_small/32_645.jpg']\n",
        "Score: 0.0572 for 24 and 32"
       ]
      },
      {
       "output_type": "stream",
       "stream": "stdout",
       "text": [
        "\n",
        "['../../images/testsets/Gallagher_small/24_379.jpg', '../../images/testsets/Gallagher_small/29_538.jpg']\n",
        "Score: -0.1000 for 24 and 29 (Less than two matches)"
       ]
      },
      {
       "output_type": "stream",
       "stream": "stdout",
       "text": [
        "\n",
        "['../../images/testsets/Gallagher_small/24_379.jpg', '../../images/testsets/Gallagher_small/21_251.jpg']\n",
        "Score: 0.0273 for 24 and 21"
       ]
      },
      {
       "output_type": "stream",
       "stream": "stdout",
       "text": [
        "\n",
        "['../../images/testsets/Gallagher_small/24_379.jpg', '../../images/testsets/Gallagher_small/20_249.jpg']\n",
        "Score: 0.0394 for 24 and 20"
       ]
      },
      {
       "output_type": "stream",
       "stream": "stdout",
       "text": [
        "\n",
        "['../../images/testsets/Gallagher_small/24_379.jpg', '../../images/testsets/Gallagher_small/15_181.jpg']\n",
        "Score: 0.1081 for 24 and 15"
       ]
      },
      {
       "output_type": "stream",
       "stream": "stdout",
       "text": [
        "\n",
        "['../../images/testsets/Gallagher_small/24_379.jpg', '../../images/testsets/Gallagher_small/15_158.jpg']\n",
        "Score: -0.1000 for 24 and 15 (Less than two matches)"
       ]
      },
      {
       "output_type": "stream",
       "stream": "stdout",
       "text": [
        "\n",
        "['../../images/testsets/Gallagher_small/24_379.jpg', '../../images/testsets/Gallagher_small/19_195.jpg']\n",
        "Score: -0.1000 for 24 and 19 (Less than two matches)"
       ]
      },
      {
       "output_type": "stream",
       "stream": "stdout",
       "text": [
        "\n",
        "['../../images/testsets/Gallagher_small/24_379.jpg', '../../images/testsets/Gallagher_small/19_193.jpg']\n",
        "Score: -0.1000 for 24 and 19 (Less than two matches)"
       ]
      },
      {
       "output_type": "stream",
       "stream": "stdout",
       "text": [
        "\n",
        "['../../images/testsets/Gallagher_small/24_379.jpg', '../../images/testsets/Gallagher_small/21_287.jpg']\n",
        "Score: -0.1000 for 24 and 21 (Less than two matches)"
       ]
      },
      {
       "output_type": "stream",
       "stream": "stdout",
       "text": [
        "\n",
        "['../../images/testsets/Gallagher_small/24_379.jpg', '../../images/testsets/Gallagher_small/26_565.jpg']\n",
        "Score: -0.1000 for 24 and 26 (Less than two matches)"
       ]
      },
      {
       "output_type": "stream",
       "stream": "stdout",
       "text": [
        "\n",
        "['../../images/testsets/Gallagher_small/24_379.jpg', '../../images/testsets/Gallagher_small/27_509.jpg']\n",
        "Score: -0.1000 for 24 and 27 (Less than two matches)"
       ]
      },
      {
       "output_type": "stream",
       "stream": "stdout",
       "text": [
        "\n",
        "['../../images/testsets/Gallagher_small/24_379.jpg', '../../images/testsets/Gallagher_small/15_169.jpg']\n",
        "Score: -0.1000 for 24 and 15 (Less than two matches)"
       ]
      },
      {
       "output_type": "stream",
       "stream": "stdout",
       "text": [
        "\n",
        "['../../images/testsets/Gallagher_small/24_379.jpg', '../../images/testsets/Gallagher_small/15_167.jpg']\n",
        "Score: 0.0462 for 24 and 15"
       ]
      },
      {
       "output_type": "stream",
       "stream": "stdout",
       "text": [
        "\n",
        "['../../images/testsets/Gallagher_small/24_379.jpg', '../../images/testsets/Gallagher_small/21_587.jpg']\n",
        "Score: -0.1000 for 24 and 21 (Less than two matches)"
       ]
      },
      {
       "output_type": "stream",
       "stream": "stdout",
       "text": [
        "\n",
        "['../../images/testsets/Gallagher_small/24_379.jpg', '../../images/testsets/Gallagher_small/15_222.jpg']\n",
        "Score: -0.1000 for 24 and 15 (Less than two matches)"
       ]
      },
      {
       "output_type": "stream",
       "stream": "stdout",
       "text": [
        "\n",
        "['../../images/testsets/Gallagher_small/24_379.jpg', '../../images/testsets/Gallagher_small/16_178.jpg']\n",
        "Score: -0.1000 for 24 and 16 (Less than two matches)"
       ]
      },
      {
       "output_type": "stream",
       "stream": "stdout",
       "text": [
        "\n",
        "['../../images/testsets/Gallagher_small/24_379.jpg', '../../images/testsets/Gallagher_small/17_165.jpg']\n",
        "Score: -0.1000 for 24 and 17 (Less than two matches)"
       ]
      },
      {
       "output_type": "stream",
       "stream": "stdout",
       "text": [
        "\n",
        "['../../images/testsets/Gallagher_small/24_379.jpg', '../../images/testsets/Gallagher_small/28_537.jpg']\n",
        "Score: -0.1000 for 24 and 28 (Less than two matches)"
       ]
      },
      {
       "output_type": "stream",
       "stream": "stdout",
       "text": [
        "\n",
        "['../../images/testsets/Gallagher_small/24_379.jpg', '../../images/testsets/Gallagher_small/27_524.jpg']\n",
        "Score: -0.1000 for 24 and 27 (Less than two matches)"
       ]
      },
      {
       "output_type": "stream",
       "stream": "stdout",
       "text": [
        "\n",
        "['../../images/testsets/Gallagher_small/24_379.jpg', '../../images/testsets/Gallagher_small/13_163.jpg']\n",
        "Score: -0.1000 for 24 and 13 (Less than two matches)"
       ]
      },
      {
       "output_type": "stream",
       "stream": "stdout",
       "text": [
        "\n",
        "['../../images/testsets/Gallagher_small/24_379.jpg', '../../images/testsets/Gallagher_small/23_302.jpg']\n",
        "Score: 0.0077 for 24 and 23"
       ]
      },
      {
       "output_type": "stream",
       "stream": "stdout",
       "text": [
        "\n",
        "['../../images/testsets/Gallagher_small/17_212.jpg', '../../images/testsets/Gallagher_small/14_699.jpg']\n",
        "Score: -0.1000 for 17 and 14 (Less than two matches)"
       ]
      },
      {
       "output_type": "stream",
       "stream": "stdout",
       "text": [
        "\n",
        "['../../images/testsets/Gallagher_small/17_212.jpg', '../../images/testsets/Gallagher_small/28_567.jpg']\n",
        "Score: 0.0335 for 17 and 28"
       ]
      },
      {
       "output_type": "stream",
       "stream": "stdout",
       "text": [
        "\n",
        "['../../images/testsets/Gallagher_small/17_212.jpg', '../../images/testsets/Gallagher_small/27_551.jpg']\n",
        "Score: -0.1000 for 17 and 27 (Less than two matches)"
       ]
      },
      {
       "output_type": "stream",
       "stream": "stdout",
       "text": [
        "\n",
        "['../../images/testsets/Gallagher_small/17_212.jpg', '../../images/testsets/Gallagher_small/22_254.jpg']\n",
        "Score: -0.1000 for 17 and 22 (Less than two matches)"
       ]
      },
      {
       "output_type": "stream",
       "stream": "stdout",
       "text": [
        "\n",
        "['../../images/testsets/Gallagher_small/17_212.jpg', '../../images/testsets/Gallagher_small/29_568.jpg']\n",
        "Score: 0.0318 for 17 and 29"
       ]
      },
      {
       "output_type": "stream",
       "stream": "stdout",
       "text": [
        "\n",
        "['../../images/testsets/Gallagher_small/17_212.jpg', '../../images/testsets/Gallagher_small/15_154.jpg']\n",
        "Score: 0.0749 for 17 and 15"
       ]
      },
      {
       "output_type": "stream",
       "stream": "stdout",
       "text": [
        "\n",
        "['../../images/testsets/Gallagher_small/17_212.jpg', '../../images/testsets/Gallagher_small/25_431.jpg']\n",
        "Score: -0.1000 for 17 and 25 (Less than two matches)"
       ]
      },
      {
       "output_type": "stream",
       "stream": "stdout",
       "text": [
        "\n",
        "['../../images/testsets/Gallagher_small/17_212.jpg', '../../images/testsets/Gallagher_small/23_305.jpg']\n",
        "Score: -0.1000 for 17 and 23 (Less than two matches)"
       ]
      },
      {
       "output_type": "stream",
       "stream": "stdout",
       "text": [
        "\n",
        "['../../images/testsets/Gallagher_small/17_212.jpg', '../../images/testsets/Gallagher_small/16_164.jpg']\n",
        "Score: 0.0009 for 17 and 16"
       ]
      },
      {
       "output_type": "stream",
       "stream": "stdout",
       "text": [
        "\n",
        "['../../images/testsets/Gallagher_small/17_212.jpg', '../../images/testsets/Gallagher_small/18_166.jpg']\n",
        "Score: 0.0104 for 17 and 18"
       ]
      },
      {
       "output_type": "stream",
       "stream": "stdout",
       "text": [
        "\n",
        "['../../images/testsets/Gallagher_small/17_212.jpg', '../../images/testsets/Gallagher_small/25_770.jpg']\n",
        "Score: -0.1000 for 17 and 25 (Less than two matches)"
       ]
      },
      {
       "output_type": "stream",
       "stream": "stdout",
       "text": [
        "\n",
        "['../../images/testsets/Gallagher_small/17_212.jpg', '../../images/testsets/Gallagher_small/32_642.jpg']\n",
        "Score: -0.1055 for 17 and 32"
       ]
      },
      {
       "output_type": "stream",
       "stream": "stdout",
       "text": [
        "\n",
        "['../../images/testsets/Gallagher_small/17_212.jpg', '../../images/testsets/Gallagher_small/19_198.jpg']\n",
        "Score: -0.1000 for 17 and 19 (Less than two matches)"
       ]
      },
      {
       "output_type": "stream",
       "stream": "stdout",
       "text": [
        "\n",
        "['../../images/testsets/Gallagher_small/17_212.jpg', '../../images/testsets/Gallagher_small/21_294.jpg']\n",
        "Score: -0.1000 for 17 and 21 (Less than two matches)"
       ]
      },
      {
       "output_type": "stream",
       "stream": "stdout",
       "text": [
        "\n",
        "['../../images/testsets/Gallagher_small/17_212.jpg', '../../images/testsets/Gallagher_small/14_206.jpg']\n",
        "Score: -0.1000 for 17 and 14 (Less than two matches)"
       ]
      },
      {
       "output_type": "stream",
       "stream": "stdout",
       "text": [
        "\n",
        "['../../images/testsets/Gallagher_small/17_212.jpg', '../../images/testsets/Gallagher_small/26_535.jpg']\n",
        "Score: -0.1000 for 17 and 26 (Less than two matches)"
       ]
      },
      {
       "output_type": "stream",
       "stream": "stdout",
       "text": [
        "\n",
        "['../../images/testsets/Gallagher_small/17_212.jpg', '../../images/testsets/Gallagher_small/22_255.jpg']\n",
        "Score: -0.1000 for 17 and 22 (Less than two matches)"
       ]
      },
      {
       "output_type": "stream",
       "stream": "stdout",
       "text": [
        "\n",
        "['../../images/testsets/Gallagher_small/17_212.jpg', '../../images/testsets/Gallagher_small/29_553.jpg']\n",
        "Score: 0.0086 for 17 and 29"
       ]
      },
      {
       "output_type": "stream",
       "stream": "stdout",
       "text": [
        "\n",
        "['../../images/testsets/Gallagher_small/17_212.jpg', '../../images/testsets/Gallagher_small/13_168.jpg']\n",
        "Score: -0.0244 for 17 and 13"
       ]
      },
      {
       "output_type": "stream",
       "stream": "stdout",
       "text": [
        "\n",
        "['../../images/testsets/Gallagher_small/17_212.jpg', '../../images/testsets/Gallagher_small/28_552.jpg']\n",
        "Score: -0.1000 for 17 and 28 (Less than two matches)"
       ]
      },
      {
       "output_type": "stream",
       "stream": "stdout",
       "text": [
        "\n",
        "['../../images/testsets/Gallagher_small/17_212.jpg', '../../images/testsets/Gallagher_small/13_145.jpg']\n",
        "Score: -0.1000 for 17 and 13 (Less than two matches)"
       ]
      },
      {
       "output_type": "stream",
       "stream": "stdout",
       "text": [
        "\n",
        "['../../images/testsets/Gallagher_small/17_212.jpg', '../../images/testsets/Gallagher_small/14_207.jpg']\n",
        "Score: -0.1000 for 17 and 14 (Less than two matches)"
       ]
      },
      {
       "output_type": "stream",
       "stream": "stdout",
       "text": [
        "\n",
        "['../../images/testsets/Gallagher_small/17_212.jpg', '../../images/testsets/Gallagher_small/14_150.jpg']\n",
        "Score: -0.1000 for 17 and 14 (Less than two matches)"
       ]
      },
      {
       "output_type": "stream",
       "stream": "stdout",
       "text": [
        "\n",
        "['../../images/testsets/Gallagher_small/17_212.jpg', '../../images/testsets/Gallagher_small/27_566.jpg']\n",
        "Score: -0.0557 for 17 and 27"
       ]
      },
      {
       "output_type": "stream",
       "stream": "stdout",
       "text": [
        "\n",
        "['../../images/testsets/Gallagher_small/17_212.jpg', '../../images/testsets/Gallagher_small/17_183.jpg']\n",
        "Score: 0.0052 for 17 and 17"
       ]
      },
      {
       "output_type": "stream",
       "stream": "stdout",
       "text": [
        "\n",
        "['../../images/testsets/Gallagher_small/17_212.jpg', '../../images/testsets/Gallagher_small/19_187.jpg']\n",
        "Score: -0.1000 for 17 and 19 (Less than two matches)"
       ]
      },
      {
       "output_type": "stream",
       "stream": "stdout",
       "text": [
        "\n",
        "['../../images/testsets/Gallagher_small/17_212.jpg', '../../images/testsets/Gallagher_small/31_580.jpg']\n",
        "Score: -0.1000 for 17 and 31 (Less than two matches)"
       ]
      },
      {
       "output_type": "stream",
       "stream": "stdout",
       "text": [
        "\n",
        "['../../images/testsets/Gallagher_small/17_212.jpg', '../../images/testsets/Gallagher_small/21_872.jpg']\n",
        "Score: -0.1000 for 17 and 21 (Less than two matches)"
       ]
      },
      {
       "output_type": "stream",
       "stream": "stdout",
       "text": [
        "\n",
        "['../../images/testsets/Gallagher_small/17_212.jpg', '../../images/testsets/Gallagher_small/23_307.jpg']\n",
        "Score: 0.0038 for 17 and 23"
       ]
      },
      {
       "output_type": "stream",
       "stream": "stdout",
       "text": [
        "\n",
        "['../../images/testsets/Gallagher_small/17_212.jpg', '../../images/testsets/Gallagher_small/25_462.jpg']\n",
        "Score: -0.1000 for 17 and 25 (Less than two matches)"
       ]
      },
      {
       "output_type": "stream",
       "stream": "stdout",
       "text": [
        "\n",
        "['../../images/testsets/Gallagher_small/17_212.jpg', '../../images/testsets/Gallagher_small/23_534.jpg']\n",
        "Score: -0.1000 for 17 and 23 (Less than two matches)"
       ]
      },
      {
       "output_type": "stream",
       "stream": "stdout",
       "text": [
        "\n",
        "['../../images/testsets/Gallagher_small/17_212.jpg', '../../images/testsets/Gallagher_small/31_582.jpg']\n",
        "Score: -0.1000 for 17 and 31 (Less than two matches)"
       ]
      },
      {
       "output_type": "stream",
       "stream": "stdout",
       "text": [
        "\n",
        "['../../images/testsets/Gallagher_small/17_212.jpg', '../../images/testsets/Gallagher_small/15_224.jpg']\n",
        "Score: 0.0943 for 17 and 15"
       ]
      },
      {
       "output_type": "stream",
       "stream": "stdout",
       "text": [
        "\n",
        "['../../images/testsets/Gallagher_small/17_212.jpg', '../../images/testsets/Gallagher_small/23_508.jpg']\n",
        "Score: 0.0098 for 17 and 23"
       ]
      },
      {
       "output_type": "stream",
       "stream": "stdout",
       "text": [
        "\n",
        "['../../images/testsets/Gallagher_small/17_212.jpg', '../../images/testsets/Gallagher_small/18_220.jpg']\n",
        "Score: -0.1000 for 17 and 18 (Less than two matches)"
       ]
      },
      {
       "output_type": "stream",
       "stream": "stdout",
       "text": [
        "\n",
        "['../../images/testsets/Gallagher_small/17_212.jpg', '../../images/testsets/Gallagher_small/15_151.jpg']\n",
        "Score: -0.1000 for 17 and 15 (Less than two matches)"
       ]
      },
      {
       "output_type": "stream",
       "stream": "stdout",
       "text": [
        "\n",
        "['../../images/testsets/Gallagher_small/17_212.jpg', '../../images/testsets/Gallagher_small/16_182.jpg']\n",
        "Score: -0.1000 for 17 and 16 (Less than two matches)"
       ]
      },
      {
       "output_type": "stream",
       "stream": "stdout",
       "text": [
        "\n",
        "['../../images/testsets/Gallagher_small/17_212.jpg', '../../images/testsets/Gallagher_small/23_875.jpg']\n",
        "Score: -0.1000 for 17 and 23 (Less than two matches)"
       ]
      },
      {
       "output_type": "stream",
       "stream": "stdout",
       "text": [
        "\n",
        "['../../images/testsets/Gallagher_small/17_212.jpg', '../../images/testsets/Gallagher_small/23_549.jpg']\n",
        "Score: -0.1000 for 17 and 23 (Less than two matches)"
       ]
      },
      {
       "output_type": "stream",
       "stream": "stdout",
       "text": [
        "\n",
        "['../../images/testsets/Gallagher_small/17_212.jpg', '../../images/testsets/Gallagher_small/32_648.jpg']\n",
        "Score: -0.1000 for 17 and 32 (Less than two matches)"
       ]
      },
      {
       "output_type": "stream",
       "stream": "stdout",
       "text": [
        "\n",
        "['../../images/testsets/Gallagher_small/17_212.jpg', '../../images/testsets/Gallagher_small/15_171.jpg']\n",
        "Score: 0.0076 for 17 and 15"
       ]
      },
      {
       "output_type": "stream",
       "stream": "stdout",
       "text": [
        "\n",
        "['../../images/testsets/Gallagher_small/17_212.jpg', '../../images/testsets/Gallagher_small/24_358.jpg']\n",
        "Score: -0.1000 for 17 and 24 (Less than two matches)"
       ]
      },
      {
       "output_type": "stream",
       "stream": "stdout",
       "text": [
        "\n",
        "['../../images/testsets/Gallagher_small/17_212.jpg', '../../images/testsets/Gallagher_small/25_458.jpg']\n",
        "Score: 0.0297 for 17 and 25"
       ]
      },
      {
       "output_type": "stream",
       "stream": "stdout",
       "text": [
        "\n",
        "['../../images/testsets/Gallagher_small/17_212.jpg', '../../images/testsets/Gallagher_small/30_569.jpg']\n",
        "Score: -0.1585 for 17 and 30"
       ]
      },
      {
       "output_type": "stream",
       "stream": "stdout",
       "text": [
        "\n",
        "['../../images/testsets/Gallagher_small/17_212.jpg', '../../images/testsets/Gallagher_small/32_645.jpg']\n",
        "Score: 0.0259 for 17 and 32"
       ]
      },
      {
       "output_type": "stream",
       "stream": "stdout",
       "text": [
        "\n",
        "['../../images/testsets/Gallagher_small/17_212.jpg', '../../images/testsets/Gallagher_small/29_538.jpg']\n",
        "Score: -0.1000 for 17 and 29 (Less than two matches)"
       ]
      },
      {
       "output_type": "stream",
       "stream": "stdout",
       "text": [
        "\n",
        "['../../images/testsets/Gallagher_small/17_212.jpg', '../../images/testsets/Gallagher_small/21_251.jpg']\n",
        "Score: -0.1000 for 17 and 21 (Less than two matches)"
       ]
      },
      {
       "output_type": "stream",
       "stream": "stdout",
       "text": [
        "\n",
        "['../../images/testsets/Gallagher_small/17_212.jpg', '../../images/testsets/Gallagher_small/20_249.jpg']\n",
        "Score: -0.1000 for 17 and 20 (Less than two matches)"
       ]
      },
      {
       "output_type": "stream",
       "stream": "stdout",
       "text": [
        "\n",
        "['../../images/testsets/Gallagher_small/17_212.jpg', '../../images/testsets/Gallagher_small/15_181.jpg']\n",
        "Score: -0.1000 for 17 and 15 (Less than two matches)"
       ]
      },
      {
       "output_type": "stream",
       "stream": "stdout",
       "text": [
        "\n",
        "['../../images/testsets/Gallagher_small/17_212.jpg', '../../images/testsets/Gallagher_small/15_158.jpg']\n",
        "Score: -0.1000 for 17 and 15 (Less than two matches)"
       ]
      },
      {
       "output_type": "stream",
       "stream": "stdout",
       "text": [
        "\n",
        "['../../images/testsets/Gallagher_small/17_212.jpg', '../../images/testsets/Gallagher_small/19_195.jpg']\n",
        "Score: -0.1000 for 17 and 19 (Less than two matches)"
       ]
      },
      {
       "output_type": "stream",
       "stream": "stdout",
       "text": [
        "\n",
        "['../../images/testsets/Gallagher_small/17_212.jpg', '../../images/testsets/Gallagher_small/19_193.jpg']\n",
        "Score: -0.1000 for 17 and 19 (Less than two matches)"
       ]
      },
      {
       "output_type": "stream",
       "stream": "stdout",
       "text": [
        "\n",
        "['../../images/testsets/Gallagher_small/17_212.jpg', '../../images/testsets/Gallagher_small/21_287.jpg']\n",
        "Score: -0.1000 for 17 and 21 (Less than two matches)"
       ]
      },
      {
       "output_type": "stream",
       "stream": "stdout",
       "text": [
        "\n",
        "['../../images/testsets/Gallagher_small/17_212.jpg', '../../images/testsets/Gallagher_small/26_565.jpg']\n",
        "Score: -0.1000 for 17 and 26 (Less than two matches)"
       ]
      },
      {
       "output_type": "stream",
       "stream": "stdout",
       "text": [
        "\n",
        "['../../images/testsets/Gallagher_small/17_212.jpg', '../../images/testsets/Gallagher_small/27_509.jpg']\n",
        "Score: 0.0053 for 17 and 27"
       ]
      },
      {
       "output_type": "stream",
       "stream": "stdout",
       "text": [
        "\n",
        "['../../images/testsets/Gallagher_small/17_212.jpg', '../../images/testsets/Gallagher_small/15_169.jpg']\n",
        "Score: -0.0825 for 17 and 15"
       ]
      },
      {
       "output_type": "stream",
       "stream": "stdout",
       "text": [
        "\n",
        "['../../images/testsets/Gallagher_small/17_212.jpg', '../../images/testsets/Gallagher_small/15_167.jpg']\n",
        "Score: 0.0492 for 17 and 15"
       ]
      },
      {
       "output_type": "stream",
       "stream": "stdout",
       "text": [
        "\n",
        "['../../images/testsets/Gallagher_small/17_212.jpg', '../../images/testsets/Gallagher_small/21_587.jpg']\n",
        "Score: -0.1000 for 17 and 21 (Less than two matches)"
       ]
      },
      {
       "output_type": "stream",
       "stream": "stdout",
       "text": [
        "\n",
        "['../../images/testsets/Gallagher_small/17_212.jpg', '../../images/testsets/Gallagher_small/15_222.jpg']\n",
        "Score: -0.1000 for 17 and 15 (Less than two matches)"
       ]
      },
      {
       "output_type": "stream",
       "stream": "stdout",
       "text": [
        "\n",
        "['../../images/testsets/Gallagher_small/17_212.jpg', '../../images/testsets/Gallagher_small/16_178.jpg']\n",
        "Score: -0.1000 for 17 and 16 (Less than two matches)"
       ]
      },
      {
       "output_type": "stream",
       "stream": "stdout",
       "text": [
        "\n",
        "['../../images/testsets/Gallagher_small/17_212.jpg', '../../images/testsets/Gallagher_small/17_165.jpg']\n",
        "Score: -0.1000 for 17 and 17 (Less than two matches)"
       ]
      },
      {
       "output_type": "stream",
       "stream": "stdout",
       "text": [
        "\n",
        "['../../images/testsets/Gallagher_small/17_212.jpg', '../../images/testsets/Gallagher_small/28_537.jpg']\n",
        "Score: -0.1000 for 17 and 28 (Less than two matches)"
       ]
      },
      {
       "output_type": "stream",
       "stream": "stdout",
       "text": [
        "\n",
        "['../../images/testsets/Gallagher_small/17_212.jpg', '../../images/testsets/Gallagher_small/27_524.jpg']\n",
        "Score: -0.1000 for 17 and 27 (Less than two matches)"
       ]
      },
      {
       "output_type": "stream",
       "stream": "stdout",
       "text": [
        "\n",
        "['../../images/testsets/Gallagher_small/17_212.jpg', '../../images/testsets/Gallagher_small/13_163.jpg']\n",
        "Score: -0.1000 for 17 and 13 (Less than two matches)"
       ]
      },
      {
       "output_type": "stream",
       "stream": "stdout",
       "text": [
        "\n",
        "['../../images/testsets/Gallagher_small/17_212.jpg', '../../images/testsets/Gallagher_small/23_302.jpg']\n",
        "Score: 0.0097 for 17 and 23"
       ]
      },
      {
       "output_type": "stream",
       "stream": "stdout",
       "text": [
        "\n",
        "['../../images/testsets/Gallagher_small/14_699.jpg', '../../images/testsets/Gallagher_small/28_567.jpg']\n",
        "Score: -0.1000 for 14 and 28 (Less than two matches)"
       ]
      },
      {
       "output_type": "stream",
       "stream": "stdout",
       "text": [
        "\n",
        "['../../images/testsets/Gallagher_small/14_699.jpg', '../../images/testsets/Gallagher_small/27_551.jpg']\n",
        "Score: -0.1000 for 14 and 27 (Less than two matches)"
       ]
      },
      {
       "output_type": "stream",
       "stream": "stdout",
       "text": [
        "\n",
        "['../../images/testsets/Gallagher_small/14_699.jpg', '../../images/testsets/Gallagher_small/22_254.jpg']\n",
        "Score: -0.1000 for 14 and 22 (Less than two matches)"
       ]
      },
      {
       "output_type": "stream",
       "stream": "stdout",
       "text": [
        "\n",
        "['../../images/testsets/Gallagher_small/14_699.jpg', '../../images/testsets/Gallagher_small/29_568.jpg']\n",
        "Score: -0.1000 for 14 and 29 (Less than two matches)"
       ]
      },
      {
       "output_type": "stream",
       "stream": "stdout",
       "text": [
        "\n",
        "['../../images/testsets/Gallagher_small/14_699.jpg', '../../images/testsets/Gallagher_small/15_154.jpg']\n",
        "Score: 0.0061 for 14 and 15"
       ]
      },
      {
       "output_type": "stream",
       "stream": "stdout",
       "text": [
        "\n",
        "['../../images/testsets/Gallagher_small/14_699.jpg', '../../images/testsets/Gallagher_small/25_431.jpg']\n",
        "Score: -0.1000 for 14 and 25 (Less than two matches)"
       ]
      },
      {
       "output_type": "stream",
       "stream": "stdout",
       "text": [
        "\n",
        "['../../images/testsets/Gallagher_small/14_699.jpg', '../../images/testsets/Gallagher_small/23_305.jpg']\n",
        "Score: -0.1000 for 14 and 23 (Less than two matches)"
       ]
      },
      {
       "output_type": "stream",
       "stream": "stdout",
       "text": [
        "\n",
        "['../../images/testsets/Gallagher_small/14_699.jpg', '../../images/testsets/Gallagher_small/16_164.jpg']\n",
        "Score: -0.1000 for 14 and 16 (Less than two matches)"
       ]
      },
      {
       "output_type": "stream",
       "stream": "stdout",
       "text": [
        "\n",
        "['../../images/testsets/Gallagher_small/14_699.jpg', '../../images/testsets/Gallagher_small/18_166.jpg']\n",
        "Score: 0.0952 for 14 and 18"
       ]
      },
      {
       "output_type": "stream",
       "stream": "stdout",
       "text": [
        "\n",
        "['../../images/testsets/Gallagher_small/14_699.jpg', '../../images/testsets/Gallagher_small/25_770.jpg']\n",
        "Score: -0.1000 for 14 and 25 (Less than two matches)"
       ]
      },
      {
       "output_type": "stream",
       "stream": "stdout",
       "text": [
        "\n",
        "['../../images/testsets/Gallagher_small/14_699.jpg', '../../images/testsets/Gallagher_small/32_642.jpg']\n",
        "Score: 0.0777 for 14 and 32"
       ]
      },
      {
       "output_type": "stream",
       "stream": "stdout",
       "text": [
        "\n",
        "['../../images/testsets/Gallagher_small/14_699.jpg', '../../images/testsets/Gallagher_small/19_198.jpg']\n",
        "Score: 0.0065 for 14 and 19"
       ]
      },
      {
       "output_type": "stream",
       "stream": "stdout",
       "text": [
        "\n",
        "['../../images/testsets/Gallagher_small/14_699.jpg', '../../images/testsets/Gallagher_small/21_294.jpg']\n",
        "Score: -0.1000 for 14 and 21 (Less than two matches)"
       ]
      },
      {
       "output_type": "stream",
       "stream": "stdout",
       "text": [
        "\n",
        "['../../images/testsets/Gallagher_small/14_699.jpg', '../../images/testsets/Gallagher_small/14_206.jpg']\n",
        "Score: -0.1000 for 14 and 14 (Less than two matches)"
       ]
      },
      {
       "output_type": "stream",
       "stream": "stdout",
       "text": [
        "\n",
        "['../../images/testsets/Gallagher_small/14_699.jpg', '../../images/testsets/Gallagher_small/26_535.jpg']\n",
        "Score: -0.1000 for 14 and 26 (Less than two matches)"
       ]
      },
      {
       "output_type": "stream",
       "stream": "stdout",
       "text": [
        "\n",
        "['../../images/testsets/Gallagher_small/14_699.jpg', '../../images/testsets/Gallagher_small/22_255.jpg']\n",
        "Score: -0.1000 for 14 and 22 (Less than two matches)"
       ]
      },
      {
       "output_type": "stream",
       "stream": "stdout",
       "text": [
        "\n",
        "['../../images/testsets/Gallagher_small/14_699.jpg', '../../images/testsets/Gallagher_small/29_553.jpg']\n",
        "Score: -0.1000 for 14 and 29 (Less than two matches)"
       ]
      },
      {
       "output_type": "stream",
       "stream": "stdout",
       "text": [
        "\n",
        "['../../images/testsets/Gallagher_small/14_699.jpg', '../../images/testsets/Gallagher_small/13_168.jpg']\n",
        "Score: -0.1000 for 14 and 13 (Less than two matches)"
       ]
      },
      {
       "output_type": "stream",
       "stream": "stdout",
       "text": [
        "\n",
        "['../../images/testsets/Gallagher_small/14_699.jpg', '../../images/testsets/Gallagher_small/28_552.jpg']\n",
        "Score: -0.1000 for 14 and 28 (Less than two matches)"
       ]
      },
      {
       "output_type": "stream",
       "stream": "stdout",
       "text": [
        "\n",
        "['../../images/testsets/Gallagher_small/14_699.jpg', '../../images/testsets/Gallagher_small/13_145.jpg']\n",
        "Score: -0.1000 for 14 and 13 (Less than two matches)"
       ]
      },
      {
       "output_type": "stream",
       "stream": "stdout",
       "text": [
        "\n",
        "['../../images/testsets/Gallagher_small/14_699.jpg', '../../images/testsets/Gallagher_small/14_207.jpg']\n",
        "Score: 0.0774 for 14 and 14"
       ]
      },
      {
       "output_type": "stream",
       "stream": "stdout",
       "text": [
        "\n",
        "['../../images/testsets/Gallagher_small/14_699.jpg', '../../images/testsets/Gallagher_small/14_150.jpg']\n",
        "Score: 0.0810 for 14 and 14"
       ]
      },
      {
       "output_type": "stream",
       "stream": "stdout",
       "text": [
        "\n",
        "['../../images/testsets/Gallagher_small/14_699.jpg', '../../images/testsets/Gallagher_small/27_566.jpg']\n",
        "Score: -0.1000 for 14 and 27 (Less than two matches)"
       ]
      },
      {
       "output_type": "stream",
       "stream": "stdout",
       "text": [
        "\n",
        "['../../images/testsets/Gallagher_small/14_699.jpg', '../../images/testsets/Gallagher_small/17_183.jpg']\n",
        "Score: 0.0254 for 14 and 17"
       ]
      },
      {
       "output_type": "stream",
       "stream": "stdout",
       "text": [
        "\n",
        "['../../images/testsets/Gallagher_small/14_699.jpg', '../../images/testsets/Gallagher_small/19_187.jpg']\n",
        "Score: -0.1000 for 14 and 19 (Less than two matches)"
       ]
      },
      {
       "output_type": "stream",
       "stream": "stdout",
       "text": [
        "\n",
        "['../../images/testsets/Gallagher_small/14_699.jpg', '../../images/testsets/Gallagher_small/31_580.jpg']\n",
        "Score: -0.1000 for 14 and 31 (Less than two matches)"
       ]
      },
      {
       "output_type": "stream",
       "stream": "stdout",
       "text": [
        "\n",
        "['../../images/testsets/Gallagher_small/14_699.jpg', '../../images/testsets/Gallagher_small/21_872.jpg']\n",
        "Score: 0.0560 for 14 and 21"
       ]
      },
      {
       "output_type": "stream",
       "stream": "stdout",
       "text": [
        "\n",
        "['../../images/testsets/Gallagher_small/14_699.jpg', '../../images/testsets/Gallagher_small/23_307.jpg']\n",
        "Score: -0.1000 for 14 and 23 (Less than two matches)"
       ]
      },
      {
       "output_type": "stream",
       "stream": "stdout",
       "text": [
        "\n",
        "['../../images/testsets/Gallagher_small/14_699.jpg', '../../images/testsets/Gallagher_small/25_462.jpg']\n",
        "Score: -0.1000 for 14 and 25 (Less than two matches)"
       ]
      },
      {
       "output_type": "stream",
       "stream": "stdout",
       "text": [
        "\n",
        "['../../images/testsets/Gallagher_small/14_699.jpg', '../../images/testsets/Gallagher_small/23_534.jpg']\n",
        "Score: -0.1000 for 14 and 23 (Less than two matches)"
       ]
      },
      {
       "output_type": "stream",
       "stream": "stdout",
       "text": [
        "\n",
        "['../../images/testsets/Gallagher_small/14_699.jpg', '../../images/testsets/Gallagher_small/31_582.jpg']\n",
        "Score: 0.0473 for 14 and 31"
       ]
      },
      {
       "output_type": "stream",
       "stream": "stdout",
       "text": [
        "\n",
        "['../../images/testsets/Gallagher_small/14_699.jpg', '../../images/testsets/Gallagher_small/15_224.jpg']\n",
        "Score: -0.1000 for 14 and 15 (Less than two matches)"
       ]
      },
      {
       "output_type": "stream",
       "stream": "stdout",
       "text": [
        "\n",
        "['../../images/testsets/Gallagher_small/14_699.jpg', '../../images/testsets/Gallagher_small/23_508.jpg']\n",
        "Score: 0.0388 for 14 and 23"
       ]
      },
      {
       "output_type": "stream",
       "stream": "stdout",
       "text": [
        "\n",
        "['../../images/testsets/Gallagher_small/14_699.jpg', '../../images/testsets/Gallagher_small/18_220.jpg']\n",
        "Score: -0.1000 for 14 and 18 (Less than two matches)"
       ]
      },
      {
       "output_type": "stream",
       "stream": "stdout",
       "text": [
        "\n",
        "['../../images/testsets/Gallagher_small/14_699.jpg', '../../images/testsets/Gallagher_small/15_151.jpg']\n",
        "Score: 0.0731 for 14 and 15"
       ]
      },
      {
       "output_type": "stream",
       "stream": "stdout",
       "text": [
        "\n",
        "['../../images/testsets/Gallagher_small/14_699.jpg', '../../images/testsets/Gallagher_small/16_182.jpg']\n",
        "Score: -0.1000 for 14 and 16 (Less than two matches)"
       ]
      },
      {
       "output_type": "stream",
       "stream": "stdout",
       "text": [
        "\n",
        "['../../images/testsets/Gallagher_small/14_699.jpg', '../../images/testsets/Gallagher_small/23_875.jpg']\n",
        "Score: 0.0403 for 14 and 23"
       ]
      },
      {
       "output_type": "stream",
       "stream": "stdout",
       "text": [
        "\n",
        "['../../images/testsets/Gallagher_small/14_699.jpg', '../../images/testsets/Gallagher_small/23_549.jpg']\n",
        "Score: -0.0137 for 14 and 23"
       ]
      },
      {
       "output_type": "stream",
       "stream": "stdout",
       "text": [
        "\n",
        "['../../images/testsets/Gallagher_small/14_699.jpg', '../../images/testsets/Gallagher_small/32_648.jpg']\n",
        "Score: -0.1000 for 14 and 32 (Less than two matches)"
       ]
      },
      {
       "output_type": "stream",
       "stream": "stdout",
       "text": [
        "\n",
        "['../../images/testsets/Gallagher_small/14_699.jpg', '../../images/testsets/Gallagher_small/15_171.jpg']\n",
        "Score: 0.0841 for 14 and 15"
       ]
      },
      {
       "output_type": "stream",
       "stream": "stdout",
       "text": [
        "\n",
        "['../../images/testsets/Gallagher_small/14_699.jpg', '../../images/testsets/Gallagher_small/24_358.jpg']\n",
        "Score: -0.1000 for 14 and 24 (Less than two matches)"
       ]
      },
      {
       "output_type": "stream",
       "stream": "stdout",
       "text": [
        "\n",
        "['../../images/testsets/Gallagher_small/14_699.jpg', '../../images/testsets/Gallagher_small/25_458.jpg']\n",
        "Score: 0.0975 for 14 and 25"
       ]
      },
      {
       "output_type": "stream",
       "stream": "stdout",
       "text": [
        "\n",
        "['../../images/testsets/Gallagher_small/14_699.jpg', '../../images/testsets/Gallagher_small/30_569.jpg']\n",
        "Score: -0.1000 for 14 and 30 (Less than two matches)"
       ]
      },
      {
       "output_type": "stream",
       "stream": "stdout",
       "text": [
        "\n",
        "['../../images/testsets/Gallagher_small/14_699.jpg', '../../images/testsets/Gallagher_small/32_645.jpg']\n",
        "Score: 0.0255 for 14 and 32"
       ]
      },
      {
       "output_type": "stream",
       "stream": "stdout",
       "text": [
        "\n",
        "['../../images/testsets/Gallagher_small/14_699.jpg', '../../images/testsets/Gallagher_small/29_538.jpg']\n",
        "Score: -0.1000 for 14 and 29 (Less than two matches)"
       ]
      },
      {
       "output_type": "stream",
       "stream": "stdout",
       "text": [
        "\n",
        "['../../images/testsets/Gallagher_small/14_699.jpg', '../../images/testsets/Gallagher_small/21_251.jpg']\n",
        "Score: 0.0505 for 14 and 21"
       ]
      },
      {
       "output_type": "stream",
       "stream": "stdout",
       "text": [
        "\n",
        "['../../images/testsets/Gallagher_small/14_699.jpg', '../../images/testsets/Gallagher_small/20_249.jpg']\n",
        "Score: -0.1000 for 14 and 20 (Less than two matches)"
       ]
      },
      {
       "output_type": "stream",
       "stream": "stdout",
       "text": [
        "\n",
        "['../../images/testsets/Gallagher_small/14_699.jpg', '../../images/testsets/Gallagher_small/15_181.jpg']\n",
        "Score: 0.1094 for 14 and 15"
       ]
      },
      {
       "output_type": "stream",
       "stream": "stdout",
       "text": [
        "\n",
        "['../../images/testsets/Gallagher_small/14_699.jpg', '../../images/testsets/Gallagher_small/15_158.jpg']\n",
        "Score: 0.0098 for 14 and 15"
       ]
      },
      {
       "output_type": "stream",
       "stream": "stdout",
       "text": [
        "\n",
        "['../../images/testsets/Gallagher_small/14_699.jpg', '../../images/testsets/Gallagher_small/19_195.jpg']\n",
        "Score: -0.0158 for 14 and 19"
       ]
      },
      {
       "output_type": "stream",
       "stream": "stdout",
       "text": [
        "\n",
        "['../../images/testsets/Gallagher_small/14_699.jpg', '../../images/testsets/Gallagher_small/19_193.jpg']\n",
        "Score: 0.0731 for 14 and 19"
       ]
      },
      {
       "output_type": "stream",
       "stream": "stdout",
       "text": [
        "\n",
        "['../../images/testsets/Gallagher_small/14_699.jpg', '../../images/testsets/Gallagher_small/21_287.jpg']\n",
        "Score: -0.0096 for 14 and 21"
       ]
      },
      {
       "output_type": "stream",
       "stream": "stdout",
       "text": [
        "\n",
        "['../../images/testsets/Gallagher_small/14_699.jpg', '../../images/testsets/Gallagher_small/26_565.jpg']\n",
        "Score: -0.0234 for 14 and 26"
       ]
      },
      {
       "output_type": "stream",
       "stream": "stdout",
       "text": [
        "\n",
        "['../../images/testsets/Gallagher_small/14_699.jpg', '../../images/testsets/Gallagher_small/27_509.jpg']\n",
        "Score: -0.0430 for 14 and 27"
       ]
      },
      {
       "output_type": "stream",
       "stream": "stdout",
       "text": [
        "\n",
        "['../../images/testsets/Gallagher_small/14_699.jpg', '../../images/testsets/Gallagher_small/15_169.jpg']\n",
        "Score: -0.1000 for 14 and 15 (Less than two matches)"
       ]
      },
      {
       "output_type": "stream",
       "stream": "stdout",
       "text": [
        "\n",
        "['../../images/testsets/Gallagher_small/14_699.jpg', '../../images/testsets/Gallagher_small/15_167.jpg']\n",
        "Score: 0.0661 for 14 and 15"
       ]
      },
      {
       "output_type": "stream",
       "stream": "stdout",
       "text": [
        "\n",
        "['../../images/testsets/Gallagher_small/14_699.jpg', '../../images/testsets/Gallagher_small/21_587.jpg']\n",
        "Score: -0.1000 for 14 and 21 (Less than two matches)"
       ]
      },
      {
       "output_type": "stream",
       "stream": "stdout",
       "text": [
        "\n",
        "['../../images/testsets/Gallagher_small/14_699.jpg', '../../images/testsets/Gallagher_small/15_222.jpg']\n",
        "Score: -0.1000 for 14 and 15 (Less than two matches)"
       ]
      },
      {
       "output_type": "stream",
       "stream": "stdout",
       "text": [
        "\n",
        "['../../images/testsets/Gallagher_small/14_699.jpg', '../../images/testsets/Gallagher_small/16_178.jpg']\n",
        "Score: -0.1000 for 14 and 16 (Less than two matches)"
       ]
      },
      {
       "output_type": "stream",
       "stream": "stdout",
       "text": [
        "\n",
        "['../../images/testsets/Gallagher_small/14_699.jpg', '../../images/testsets/Gallagher_small/17_165.jpg']\n",
        "Score: -0.1000 for 14 and 17 (Less than two matches)"
       ]
      },
      {
       "output_type": "stream",
       "stream": "stdout",
       "text": [
        "\n",
        "['../../images/testsets/Gallagher_small/14_699.jpg', '../../images/testsets/Gallagher_small/28_537.jpg']\n",
        "Score: -0.1000 for 14 and 28 (Less than two matches)"
       ]
      },
      {
       "output_type": "stream",
       "stream": "stdout",
       "text": [
        "\n",
        "['../../images/testsets/Gallagher_small/14_699.jpg', '../../images/testsets/Gallagher_small/27_524.jpg']\n",
        "Score: -0.1000 for 14 and 27 (Less than two matches)"
       ]
      },
      {
       "output_type": "stream",
       "stream": "stdout",
       "text": [
        "\n",
        "['../../images/testsets/Gallagher_small/14_699.jpg', '../../images/testsets/Gallagher_small/13_163.jpg']\n",
        "Score: -0.1000 for 14 and 13 (Less than two matches)"
       ]
      },
      {
       "output_type": "stream",
       "stream": "stdout",
       "text": [
        "\n",
        "['../../images/testsets/Gallagher_small/14_699.jpg', '../../images/testsets/Gallagher_small/23_302.jpg']\n",
        "Score: -0.1000 for 14 and 23 (Less than two matches)"
       ]
      },
      {
       "output_type": "stream",
       "stream": "stdout",
       "text": [
        "\n",
        "['../../images/testsets/Gallagher_small/28_567.jpg', '../../images/testsets/Gallagher_small/27_551.jpg']\n",
        "Score: -0.1000 for 28 and 27 (Less than two matches)"
       ]
      },
      {
       "output_type": "stream",
       "stream": "stdout",
       "text": [
        "\n",
        "['../../images/testsets/Gallagher_small/28_567.jpg', '../../images/testsets/Gallagher_small/22_254.jpg']\n",
        "Score: -0.1000 for 28 and 22 (Less than two matches)"
       ]
      },
      {
       "output_type": "stream",
       "stream": "stdout",
       "text": [
        "\n",
        "['../../images/testsets/Gallagher_small/28_567.jpg', '../../images/testsets/Gallagher_small/29_568.jpg']\n",
        "Score: 0.0233 for 28 and 29"
       ]
      },
      {
       "output_type": "stream",
       "stream": "stdout",
       "text": [
        "\n",
        "['../../images/testsets/Gallagher_small/28_567.jpg', '../../images/testsets/Gallagher_small/15_154.jpg']\n",
        "Score: -0.1000 for 28 and 15 (Less than two matches)"
       ]
      },
      {
       "output_type": "stream",
       "stream": "stdout",
       "text": [
        "\n",
        "['../../images/testsets/Gallagher_small/28_567.jpg', '../../images/testsets/Gallagher_small/25_431.jpg']\n",
        "Score: -0.1000 for 28 and 25 (Less than two matches)"
       ]
      },
      {
       "output_type": "stream",
       "stream": "stdout",
       "text": [
        "\n",
        "['../../images/testsets/Gallagher_small/28_567.jpg', '../../images/testsets/Gallagher_small/23_305.jpg']\n",
        "Score: 0.0950 for 28 and 23"
       ]
      },
      {
       "output_type": "stream",
       "stream": "stdout",
       "text": [
        "\n",
        "['../../images/testsets/Gallagher_small/28_567.jpg', '../../images/testsets/Gallagher_small/16_164.jpg']\n",
        "Score: 0.0345 for 28 and 16"
       ]
      },
      {
       "output_type": "stream",
       "stream": "stdout",
       "text": [
        "\n",
        "['../../images/testsets/Gallagher_small/28_567.jpg', '../../images/testsets/Gallagher_small/18_166.jpg']\n",
        "Score: 0.0599 for 28 and 18"
       ]
      },
      {
       "output_type": "stream",
       "stream": "stdout",
       "text": [
        "\n",
        "['../../images/testsets/Gallagher_small/28_567.jpg', '../../images/testsets/Gallagher_small/25_770.jpg']\n",
        "Score: 0.0344 for 28 and 25"
       ]
      },
      {
       "output_type": "stream",
       "stream": "stdout",
       "text": [
        "\n",
        "['../../images/testsets/Gallagher_small/28_567.jpg', '../../images/testsets/Gallagher_small/32_642.jpg']\n",
        "Score: 0.0407 for 28 and 32"
       ]
      },
      {
       "output_type": "stream",
       "stream": "stdout",
       "text": [
        "\n",
        "['../../images/testsets/Gallagher_small/28_567.jpg', '../../images/testsets/Gallagher_small/19_198.jpg']\n",
        "Score: -0.1000 for 28 and 19 (Less than two matches)"
       ]
      },
      {
       "output_type": "stream",
       "stream": "stdout",
       "text": [
        "\n",
        "['../../images/testsets/Gallagher_small/28_567.jpg', '../../images/testsets/Gallagher_small/21_294.jpg']\n",
        "Score: 0.1471 for 28 and 21"
       ]
      },
      {
       "output_type": "stream",
       "stream": "stdout",
       "text": [
        "\n",
        "['../../images/testsets/Gallagher_small/28_567.jpg', '../../images/testsets/Gallagher_small/14_206.jpg']\n",
        "Score: 0.0535 for 28 and 14"
       ]
      },
      {
       "output_type": "stream",
       "stream": "stdout",
       "text": [
        "\n",
        "['../../images/testsets/Gallagher_small/28_567.jpg', '../../images/testsets/Gallagher_small/26_535.jpg']\n",
        "Score: -0.1000 for 28 and 26 (Less than two matches)"
       ]
      },
      {
       "output_type": "stream",
       "stream": "stdout",
       "text": [
        "\n",
        "['../../images/testsets/Gallagher_small/28_567.jpg', '../../images/testsets/Gallagher_small/22_255.jpg']\n",
        "Score: -0.1000 for 28 and 22 (Less than two matches)"
       ]
      },
      {
       "output_type": "stream",
       "stream": "stdout",
       "text": [
        "\n",
        "['../../images/testsets/Gallagher_small/28_567.jpg', '../../images/testsets/Gallagher_small/29_553.jpg']\n",
        "Score: 0.0527 for 28 and 29"
       ]
      },
      {
       "output_type": "stream",
       "stream": "stdout",
       "text": [
        "\n",
        "['../../images/testsets/Gallagher_small/28_567.jpg', '../../images/testsets/Gallagher_small/13_168.jpg']\n",
        "Score: -0.1000 for 28 and 13 (Less than two matches)"
       ]
      },
      {
       "output_type": "stream",
       "stream": "stdout",
       "text": [
        "\n",
        "['../../images/testsets/Gallagher_small/28_567.jpg', '../../images/testsets/Gallagher_small/28_552.jpg']\n",
        "Score: 0.1492 for 28 and 28"
       ]
      },
      {
       "output_type": "stream",
       "stream": "stdout",
       "text": [
        "\n",
        "['../../images/testsets/Gallagher_small/28_567.jpg', '../../images/testsets/Gallagher_small/13_145.jpg']\n",
        "Score: 0.0511 for 28 and 13"
       ]
      },
      {
       "output_type": "stream",
       "stream": "stdout",
       "text": [
        "\n",
        "['../../images/testsets/Gallagher_small/28_567.jpg', '../../images/testsets/Gallagher_small/14_207.jpg']\n",
        "Score: -0.1000 for 28 and 14 (Less than two matches)"
       ]
      },
      {
       "output_type": "stream",
       "stream": "stdout",
       "text": [
        "\n",
        "['../../images/testsets/Gallagher_small/28_567.jpg', '../../images/testsets/Gallagher_small/14_150.jpg']\n",
        "Score: -0.1000 for 28 and 14 (Less than two matches)"
       ]
      },
      {
       "output_type": "stream",
       "stream": "stdout",
       "text": [
        "\n",
        "['../../images/testsets/Gallagher_small/28_567.jpg', '../../images/testsets/Gallagher_small/27_566.jpg']\n",
        "Score: -0.1000 for 28 and 27 (Less than two matches)"
       ]
      },
      {
       "output_type": "stream",
       "stream": "stdout",
       "text": [
        "\n",
        "['../../images/testsets/Gallagher_small/28_567.jpg', '../../images/testsets/Gallagher_small/17_183.jpg']\n",
        "Score: -0.0582 for 28 and 17"
       ]
      },
      {
       "output_type": "stream",
       "stream": "stdout",
       "text": [
        "\n",
        "['../../images/testsets/Gallagher_small/28_567.jpg', '../../images/testsets/Gallagher_small/19_187.jpg']\n",
        "Score: -0.1000 for 28 and 19 (Less than two matches)"
       ]
      },
      {
       "output_type": "stream",
       "stream": "stdout",
       "text": [
        "\n",
        "['../../images/testsets/Gallagher_small/28_567.jpg', '../../images/testsets/Gallagher_small/31_580.jpg']\n",
        "Score: -0.1000 for 28 and 31 (Less than two matches)"
       ]
      },
      {
       "output_type": "stream",
       "stream": "stdout",
       "text": [
        "\n",
        "['../../images/testsets/Gallagher_small/28_567.jpg', '../../images/testsets/Gallagher_small/21_872.jpg']\n",
        "Score: -0.1000 for 28 and 21 (Less than two matches)"
       ]
      },
      {
       "output_type": "stream",
       "stream": "stdout",
       "text": [
        "\n",
        "['../../images/testsets/Gallagher_small/28_567.jpg', '../../images/testsets/Gallagher_small/23_307.jpg']\n",
        "Score: 0.0036 for 28 and 23"
       ]
      },
      {
       "output_type": "stream",
       "stream": "stdout",
       "text": [
        "\n",
        "['../../images/testsets/Gallagher_small/28_567.jpg', '../../images/testsets/Gallagher_small/25_462.jpg']\n",
        "Score: 0.1062 for 28 and 25"
       ]
      },
      {
       "output_type": "stream",
       "stream": "stdout",
       "text": [
        "\n",
        "['../../images/testsets/Gallagher_small/28_567.jpg', '../../images/testsets/Gallagher_small/23_534.jpg']\n",
        "Score: -0.1000 for 28 and 23 (Less than two matches)"
       ]
      },
      {
       "output_type": "stream",
       "stream": "stdout",
       "text": [
        "\n",
        "['../../images/testsets/Gallagher_small/28_567.jpg', '../../images/testsets/Gallagher_small/31_582.jpg']\n",
        "Score: -0.1000 for 28 and 31 (Less than two matches)"
       ]
      },
      {
       "output_type": "stream",
       "stream": "stdout",
       "text": [
        "\n",
        "['../../images/testsets/Gallagher_small/28_567.jpg', '../../images/testsets/Gallagher_small/15_224.jpg']\n",
        "Score: 0.0245 for 28 and 15"
       ]
      },
      {
       "output_type": "stream",
       "stream": "stdout",
       "text": [
        "\n",
        "['../../images/testsets/Gallagher_small/28_567.jpg', '../../images/testsets/Gallagher_small/23_508.jpg']\n",
        "Score: 0.0540 for 28 and 23"
       ]
      },
      {
       "output_type": "stream",
       "stream": "stdout",
       "text": [
        "\n",
        "['../../images/testsets/Gallagher_small/28_567.jpg', '../../images/testsets/Gallagher_small/18_220.jpg']\n",
        "Score: -0.0064 for 28 and 18"
       ]
      },
      {
       "output_type": "stream",
       "stream": "stdout",
       "text": [
        "\n",
        "['../../images/testsets/Gallagher_small/28_567.jpg', '../../images/testsets/Gallagher_small/15_151.jpg']\n",
        "Score: -0.1000 for 28 and 15 (Less than two matches)"
       ]
      },
      {
       "output_type": "stream",
       "stream": "stdout",
       "text": [
        "\n",
        "['../../images/testsets/Gallagher_small/28_567.jpg', '../../images/testsets/Gallagher_small/16_182.jpg']\n",
        "Score: -0.0584 for 28 and 16"
       ]
      },
      {
       "output_type": "stream",
       "stream": "stdout",
       "text": [
        "\n",
        "['../../images/testsets/Gallagher_small/28_567.jpg', '../../images/testsets/Gallagher_small/23_875.jpg']\n",
        "Score: 0.1012 for 28 and 23"
       ]
      },
      {
       "output_type": "stream",
       "stream": "stdout",
       "text": [
        "\n",
        "['../../images/testsets/Gallagher_small/28_567.jpg', '../../images/testsets/Gallagher_small/23_549.jpg']\n",
        "Score: -0.1000 for 28 and 23 (Less than two matches)"
       ]
      },
      {
       "output_type": "stream",
       "stream": "stdout",
       "text": [
        "\n",
        "['../../images/testsets/Gallagher_small/28_567.jpg', '../../images/testsets/Gallagher_small/32_648.jpg']\n",
        "Score: -0.1000 for 28 and 32 (Less than two matches)"
       ]
      },
      {
       "output_type": "stream",
       "stream": "stdout",
       "text": [
        "\n",
        "['../../images/testsets/Gallagher_small/28_567.jpg', '../../images/testsets/Gallagher_small/15_171.jpg']\n",
        "Score: -0.0355 for 28 and 15"
       ]
      },
      {
       "output_type": "stream",
       "stream": "stdout",
       "text": [
        "\n",
        "['../../images/testsets/Gallagher_small/28_567.jpg', '../../images/testsets/Gallagher_small/24_358.jpg']\n",
        "Score: 0.1076 for 28 and 24"
       ]
      },
      {
       "output_type": "stream",
       "stream": "stdout",
       "text": [
        "\n",
        "['../../images/testsets/Gallagher_small/28_567.jpg', '../../images/testsets/Gallagher_small/25_458.jpg']\n",
        "Score: 0.1031 for 28 and 25"
       ]
      },
      {
       "output_type": "stream",
       "stream": "stdout",
       "text": [
        "\n",
        "['../../images/testsets/Gallagher_small/28_567.jpg', '../../images/testsets/Gallagher_small/30_569.jpg']\n",
        "Score: 0.0293 for 28 and 30"
       ]
      },
      {
       "output_type": "stream",
       "stream": "stdout",
       "text": [
        "\n",
        "['../../images/testsets/Gallagher_small/28_567.jpg', '../../images/testsets/Gallagher_small/32_645.jpg']\n",
        "Score: 0.0717 for 28 and 32"
       ]
      },
      {
       "output_type": "stream",
       "stream": "stdout",
       "text": [
        "\n",
        "['../../images/testsets/Gallagher_small/28_567.jpg', '../../images/testsets/Gallagher_small/29_538.jpg']\n",
        "Score: -0.1000 for 28 and 29 (Less than two matches)"
       ]
      },
      {
       "output_type": "stream",
       "stream": "stdout",
       "text": [
        "\n",
        "['../../images/testsets/Gallagher_small/28_567.jpg', '../../images/testsets/Gallagher_small/21_251.jpg']\n",
        "Score: 0.0355 for 28 and 21"
       ]
      },
      {
       "output_type": "stream",
       "stream": "stdout",
       "text": [
        "\n",
        "['../../images/testsets/Gallagher_small/28_567.jpg', '../../images/testsets/Gallagher_small/20_249.jpg']\n",
        "Score: -0.1000 for 28 and 20 (Less than two matches)"
       ]
      },
      {
       "output_type": "stream",
       "stream": "stdout",
       "text": [
        "\n",
        "['../../images/testsets/Gallagher_small/28_567.jpg', '../../images/testsets/Gallagher_small/15_181.jpg']\n",
        "Score: -0.1000 for 28 and 15 (Less than two matches)"
       ]
      },
      {
       "output_type": "stream",
       "stream": "stdout",
       "text": [
        "\n",
        "['../../images/testsets/Gallagher_small/28_567.jpg', '../../images/testsets/Gallagher_small/15_158.jpg']\n",
        "Score: -0.0377 for 28 and 15"
       ]
      },
      {
       "output_type": "stream",
       "stream": "stdout",
       "text": [
        "\n",
        "['../../images/testsets/Gallagher_small/28_567.jpg', '../../images/testsets/Gallagher_small/19_195.jpg']\n",
        "Score: -0.1000 for 28 and 19 (Less than two matches)"
       ]
      },
      {
       "output_type": "stream",
       "stream": "stdout",
       "text": [
        "\n",
        "['../../images/testsets/Gallagher_small/28_567.jpg', '../../images/testsets/Gallagher_small/19_193.jpg']\n",
        "Score: -0.1000 for 28 and 19 (Less than two matches)"
       ]
      },
      {
       "output_type": "stream",
       "stream": "stdout",
       "text": [
        "\n",
        "['../../images/testsets/Gallagher_small/28_567.jpg', '../../images/testsets/Gallagher_small/21_287.jpg']\n",
        "Score: -0.1000 for 28 and 21 (Less than two matches)"
       ]
      },
      {
       "output_type": "stream",
       "stream": "stdout",
       "text": [
        "\n",
        "['../../images/testsets/Gallagher_small/28_567.jpg', '../../images/testsets/Gallagher_small/26_565.jpg']\n",
        "Score: -0.1000 for 28 and 26 (Less than two matches)"
       ]
      },
      {
       "output_type": "stream",
       "stream": "stdout",
       "text": [
        "\n",
        "['../../images/testsets/Gallagher_small/28_567.jpg', '../../images/testsets/Gallagher_small/27_509.jpg']\n",
        "Score: 0.0667 for 28 and 27"
       ]
      },
      {
       "output_type": "stream",
       "stream": "stdout",
       "text": [
        "\n",
        "['../../images/testsets/Gallagher_small/28_567.jpg', '../../images/testsets/Gallagher_small/15_169.jpg']\n",
        "Score: 0.0400 for 28 and 15"
       ]
      },
      {
       "output_type": "stream",
       "stream": "stdout",
       "text": [
        "\n",
        "['../../images/testsets/Gallagher_small/28_567.jpg', '../../images/testsets/Gallagher_small/15_167.jpg']\n",
        "Score: 0.0433 for 28 and 15"
       ]
      },
      {
       "output_type": "stream",
       "stream": "stdout",
       "text": [
        "\n",
        "['../../images/testsets/Gallagher_small/28_567.jpg', '../../images/testsets/Gallagher_small/21_587.jpg']\n",
        "Score: 0.0286 for 28 and 21"
       ]
      },
      {
       "output_type": "stream",
       "stream": "stdout",
       "text": [
        "\n",
        "['../../images/testsets/Gallagher_small/28_567.jpg', '../../images/testsets/Gallagher_small/15_222.jpg']\n",
        "Score: -0.1000 for 28 and 15 (Less than two matches)"
       ]
      },
      {
       "output_type": "stream",
       "stream": "stdout",
       "text": [
        "\n",
        "['../../images/testsets/Gallagher_small/28_567.jpg', '../../images/testsets/Gallagher_small/16_178.jpg']\n",
        "Score: -0.1000 for 28 and 16 (Less than two matches)"
       ]
      },
      {
       "output_type": "stream",
       "stream": "stdout",
       "text": [
        "\n",
        "['../../images/testsets/Gallagher_small/28_567.jpg', '../../images/testsets/Gallagher_small/17_165.jpg']\n",
        "Score: -0.1000 for 28 and 17 (Less than two matches)"
       ]
      },
      {
       "output_type": "stream",
       "stream": "stdout",
       "text": [
        "\n",
        "['../../images/testsets/Gallagher_small/28_567.jpg', '../../images/testsets/Gallagher_small/28_537.jpg']\n",
        "Score: -0.1000 for 28 and 28 (Less than two matches)"
       ]
      },
      {
       "output_type": "stream",
       "stream": "stdout",
       "text": [
        "\n",
        "['../../images/testsets/Gallagher_small/28_567.jpg', '../../images/testsets/Gallagher_small/27_524.jpg']\n",
        "Score: -0.1000 for 28 and 27 (Less than two matches)"
       ]
      },
      {
       "output_type": "stream",
       "stream": "stdout",
       "text": [
        "\n",
        "['../../images/testsets/Gallagher_small/28_567.jpg', '../../images/testsets/Gallagher_small/13_163.jpg']\n",
        "Score: -0.1000 for 28 and 13 (Less than two matches)"
       ]
      },
      {
       "output_type": "stream",
       "stream": "stdout",
       "text": [
        "\n",
        "['../../images/testsets/Gallagher_small/28_567.jpg', '../../images/testsets/Gallagher_small/23_302.jpg']\n",
        "Score: 0.0685 for 28 and 23"
       ]
      },
      {
       "output_type": "stream",
       "stream": "stdout",
       "text": [
        "\n",
        "['../../images/testsets/Gallagher_small/27_551.jpg', '../../images/testsets/Gallagher_small/22_254.jpg']\n",
        "Score: -0.1000 for 27 and 22 (Less than two matches)"
       ]
      },
      {
       "output_type": "stream",
       "stream": "stdout",
       "text": [
        "\n",
        "['../../images/testsets/Gallagher_small/27_551.jpg', '../../images/testsets/Gallagher_small/29_568.jpg']\n",
        "Score: -0.1000 for 27 and 29 (Less than two matches)"
       ]
      },
      {
       "output_type": "stream",
       "stream": "stdout",
       "text": [
        "\n",
        "['../../images/testsets/Gallagher_small/27_551.jpg', '../../images/testsets/Gallagher_small/15_154.jpg']\n",
        "Score: -0.1000 for 27 and 15 (Less than two matches)"
       ]
      },
      {
       "output_type": "stream",
       "stream": "stdout",
       "text": [
        "\n",
        "['../../images/testsets/Gallagher_small/27_551.jpg', '../../images/testsets/Gallagher_small/25_431.jpg']\n",
        "Score: -0.1000 for 27 and 25 (Less than two matches)"
       ]
      },
      {
       "output_type": "stream",
       "stream": "stdout",
       "text": [
        "\n",
        "['../../images/testsets/Gallagher_small/27_551.jpg', '../../images/testsets/Gallagher_small/23_305.jpg']\n",
        "Score: -0.1000 for 27 and 23 (Less than two matches)"
       ]
      },
      {
       "output_type": "stream",
       "stream": "stdout",
       "text": [
        "\n",
        "['../../images/testsets/Gallagher_small/27_551.jpg', '../../images/testsets/Gallagher_small/16_164.jpg']\n",
        "Score: 0.0728 for 27 and 16"
       ]
      },
      {
       "output_type": "stream",
       "stream": "stdout",
       "text": [
        "\n",
        "['../../images/testsets/Gallagher_small/27_551.jpg', '../../images/testsets/Gallagher_small/18_166.jpg']\n",
        "Score: 0.0078 for 27 and 18"
       ]
      },
      {
       "output_type": "stream",
       "stream": "stdout",
       "text": [
        "\n",
        "['../../images/testsets/Gallagher_small/27_551.jpg', '../../images/testsets/Gallagher_small/25_770.jpg']\n",
        "Score: -0.1000 for 27 and 25 (Less than two matches)"
       ]
      },
      {
       "output_type": "stream",
       "stream": "stdout",
       "text": [
        "\n",
        "['../../images/testsets/Gallagher_small/27_551.jpg', '../../images/testsets/Gallagher_small/32_642.jpg']\n",
        "Score: -0.1000 for 27 and 32 (Less than two matches)"
       ]
      },
      {
       "output_type": "stream",
       "stream": "stdout",
       "text": [
        "\n",
        "['../../images/testsets/Gallagher_small/27_551.jpg', '../../images/testsets/Gallagher_small/19_198.jpg']\n",
        "Score: -0.1000 for 27 and 19 (Less than two matches)"
       ]
      },
      {
       "output_type": "stream",
       "stream": "stdout",
       "text": [
        "\n",
        "['../../images/testsets/Gallagher_small/27_551.jpg', '../../images/testsets/Gallagher_small/21_294.jpg']\n",
        "Score: -0.1000 for 27 and 21 (Less than two matches)"
       ]
      },
      {
       "output_type": "stream",
       "stream": "stdout",
       "text": [
        "\n",
        "['../../images/testsets/Gallagher_small/27_551.jpg', '../../images/testsets/Gallagher_small/14_206.jpg']\n",
        "Score: -0.1000 for 27 and 14 (Less than two matches)"
       ]
      },
      {
       "output_type": "stream",
       "stream": "stdout",
       "text": [
        "\n",
        "['../../images/testsets/Gallagher_small/27_551.jpg', '../../images/testsets/Gallagher_small/26_535.jpg']\n",
        "Score: -0.1000 for 27 and 26 (Less than two matches)"
       ]
      },
      {
       "output_type": "stream",
       "stream": "stdout",
       "text": [
        "\n",
        "['../../images/testsets/Gallagher_small/27_551.jpg', '../../images/testsets/Gallagher_small/22_255.jpg']\n",
        "Score: -0.1000 for 27 and 22 (Less than two matches)"
       ]
      },
      {
       "output_type": "stream",
       "stream": "stdout",
       "text": [
        "\n",
        "['../../images/testsets/Gallagher_small/27_551.jpg', '../../images/testsets/Gallagher_small/29_553.jpg']\n",
        "Score: -0.1000 for 27 and 29 (Less than two matches)"
       ]
      },
      {
       "output_type": "stream",
       "stream": "stdout",
       "text": [
        "\n",
        "['../../images/testsets/Gallagher_small/27_551.jpg', '../../images/testsets/Gallagher_small/13_168.jpg']\n",
        "Score: -0.1000 for 27 and 13 (Less than two matches)"
       ]
      },
      {
       "output_type": "stream",
       "stream": "stdout",
       "text": [
        "\n",
        "['../../images/testsets/Gallagher_small/27_551.jpg', '../../images/testsets/Gallagher_small/28_552.jpg']\n",
        "Score: -0.1000 for 27 and 28 (Less than two matches)"
       ]
      },
      {
       "output_type": "stream",
       "stream": "stdout",
       "text": [
        "\n",
        "['../../images/testsets/Gallagher_small/27_551.jpg', '../../images/testsets/Gallagher_small/13_145.jpg']\n",
        "Score: -0.1000 for 27 and 13 (Less than two matches)"
       ]
      },
      {
       "output_type": "stream",
       "stream": "stdout",
       "text": [
        "\n",
        "['../../images/testsets/Gallagher_small/27_551.jpg', '../../images/testsets/Gallagher_small/14_207.jpg']\n",
        "Score: -0.1000 for 27 and 14 (Less than two matches)"
       ]
      },
      {
       "output_type": "stream",
       "stream": "stdout",
       "text": [
        "\n",
        "['../../images/testsets/Gallagher_small/27_551.jpg', '../../images/testsets/Gallagher_small/14_150.jpg']\n",
        "Score: -0.1000 for 27 and 14 (Less than two matches)"
       ]
      },
      {
       "output_type": "stream",
       "stream": "stdout",
       "text": [
        "\n",
        "['../../images/testsets/Gallagher_small/27_551.jpg', '../../images/testsets/Gallagher_small/27_566.jpg']\n",
        "Score: 0.1252 for 27 and 27"
       ]
      },
      {
       "output_type": "stream",
       "stream": "stdout",
       "text": [
        "\n",
        "['../../images/testsets/Gallagher_small/27_551.jpg', '../../images/testsets/Gallagher_small/17_183.jpg']\n",
        "Score: 0.0673 for 27 and 17"
       ]
      },
      {
       "output_type": "stream",
       "stream": "stdout",
       "text": [
        "\n",
        "['../../images/testsets/Gallagher_small/27_551.jpg', '../../images/testsets/Gallagher_small/19_187.jpg']\n",
        "Score: -0.1000 for 27 and 19 (Less than two matches)"
       ]
      },
      {
       "output_type": "stream",
       "stream": "stdout",
       "text": [
        "\n",
        "['../../images/testsets/Gallagher_small/27_551.jpg', '../../images/testsets/Gallagher_small/31_580.jpg']\n",
        "Score: -0.1000 for 27 and 31 (Less than two matches)"
       ]
      },
      {
       "output_type": "stream",
       "stream": "stdout",
       "text": [
        "\n",
        "['../../images/testsets/Gallagher_small/27_551.jpg', '../../images/testsets/Gallagher_small/21_872.jpg']\n",
        "Score: 0.0711 for 27 and 21"
       ]
      },
      {
       "output_type": "stream",
       "stream": "stdout",
       "text": [
        "\n",
        "['../../images/testsets/Gallagher_small/27_551.jpg', '../../images/testsets/Gallagher_small/23_307.jpg']\n",
        "Score: -0.1000 for 27 and 23 (Less than two matches)"
       ]
      },
      {
       "output_type": "stream",
       "stream": "stdout",
       "text": [
        "\n",
        "['../../images/testsets/Gallagher_small/27_551.jpg', '../../images/testsets/Gallagher_small/25_462.jpg']\n",
        "Score: -0.1000 for 27 and 25 (Less than two matches)"
       ]
      },
      {
       "output_type": "stream",
       "stream": "stdout",
       "text": [
        "\n",
        "['../../images/testsets/Gallagher_small/27_551.jpg', '../../images/testsets/Gallagher_small/23_534.jpg']\n",
        "Score: -0.1000 for 27 and 23 (Less than two matches)"
       ]
      },
      {
       "output_type": "stream",
       "stream": "stdout",
       "text": [
        "\n",
        "['../../images/testsets/Gallagher_small/27_551.jpg', '../../images/testsets/Gallagher_small/31_582.jpg']\n",
        "Score: -0.1000 for 27 and 31 (Less than two matches)"
       ]
      },
      {
       "output_type": "stream",
       "stream": "stdout",
       "text": [
        "\n",
        "['../../images/testsets/Gallagher_small/27_551.jpg', '../../images/testsets/Gallagher_small/15_224.jpg']\n",
        "Score: -0.1000 for 27 and 15 (Less than two matches)"
       ]
      },
      {
       "output_type": "stream",
       "stream": "stdout",
       "text": [
        "\n",
        "['../../images/testsets/Gallagher_small/27_551.jpg', '../../images/testsets/Gallagher_small/23_508.jpg']\n",
        "Score: 0.1642 for 27 and 23"
       ]
      },
      {
       "output_type": "stream",
       "stream": "stdout",
       "text": [
        "\n",
        "['../../images/testsets/Gallagher_small/27_551.jpg', '../../images/testsets/Gallagher_small/18_220.jpg']\n",
        "Score: -0.1000 for 27 and 18 (Less than two matches)"
       ]
      },
      {
       "output_type": "stream",
       "stream": "stdout",
       "text": [
        "\n",
        "['../../images/testsets/Gallagher_small/27_551.jpg', '../../images/testsets/Gallagher_small/15_151.jpg']\n",
        "Score: -0.1000 for 27 and 15 (Less than two matches)"
       ]
      },
      {
       "output_type": "stream",
       "stream": "stdout",
       "text": [
        "\n",
        "['../../images/testsets/Gallagher_small/27_551.jpg', '../../images/testsets/Gallagher_small/16_182.jpg']\n",
        "Score: -0.1000 for 27 and 16 (Less than two matches)"
       ]
      },
      {
       "output_type": "stream",
       "stream": "stdout",
       "text": [
        "\n",
        "['../../images/testsets/Gallagher_small/27_551.jpg', '../../images/testsets/Gallagher_small/23_875.jpg']\n",
        "Score: -0.1000 for 27 and 23 (Less than two matches)"
       ]
      },
      {
       "output_type": "stream",
       "stream": "stdout",
       "text": [
        "\n",
        "['../../images/testsets/Gallagher_small/27_551.jpg', '../../images/testsets/Gallagher_small/23_549.jpg']\n",
        "Score: -0.1000 for 27 and 23 (Less than two matches)"
       ]
      },
      {
       "output_type": "stream",
       "stream": "stdout",
       "text": [
        "\n",
        "['../../images/testsets/Gallagher_small/27_551.jpg', '../../images/testsets/Gallagher_small/32_648.jpg']\n",
        "Score: -0.1000 for 27 and 32 (Less than two matches)"
       ]
      },
      {
       "output_type": "stream",
       "stream": "stdout",
       "text": [
        "\n",
        "['../../images/testsets/Gallagher_small/27_551.jpg', '../../images/testsets/Gallagher_small/15_171.jpg']\n",
        "Score: -0.1000 for 27 and 15 (Less than two matches)"
       ]
      },
      {
       "output_type": "stream",
       "stream": "stdout",
       "text": [
        "\n",
        "['../../images/testsets/Gallagher_small/27_551.jpg', '../../images/testsets/Gallagher_small/24_358.jpg']\n",
        "Score: -0.1000 for 27 and 24 (Less than two matches)"
       ]
      },
      {
       "output_type": "stream",
       "stream": "stdout",
       "text": [
        "\n",
        "['../../images/testsets/Gallagher_small/27_551.jpg', '../../images/testsets/Gallagher_small/25_458.jpg']\n",
        "Score: -0.1000 for 27 and 25 (Less than two matches)"
       ]
      },
      {
       "output_type": "stream",
       "stream": "stdout",
       "text": [
        "\n",
        "['../../images/testsets/Gallagher_small/27_551.jpg', '../../images/testsets/Gallagher_small/30_569.jpg']\n",
        "Score: -0.1000 for 27 and 30 (Less than two matches)"
       ]
      },
      {
       "output_type": "stream",
       "stream": "stdout",
       "text": [
        "\n",
        "['../../images/testsets/Gallagher_small/27_551.jpg', '../../images/testsets/Gallagher_small/32_645.jpg']\n",
        "Score: 0.0368 for 27 and 32"
       ]
      },
      {
       "output_type": "stream",
       "stream": "stdout",
       "text": [
        "\n",
        "['../../images/testsets/Gallagher_small/27_551.jpg', '../../images/testsets/Gallagher_small/29_538.jpg']\n",
        "Score: -0.1000 for 27 and 29 (Less than two matches)"
       ]
      },
      {
       "output_type": "stream",
       "stream": "stdout",
       "text": [
        "\n",
        "['../../images/testsets/Gallagher_small/27_551.jpg', '../../images/testsets/Gallagher_small/21_251.jpg']\n",
        "Score: -0.1000 for 27 and 21 (Less than two matches)"
       ]
      },
      {
       "output_type": "stream",
       "stream": "stdout",
       "text": [
        "\n",
        "['../../images/testsets/Gallagher_small/27_551.jpg', '../../images/testsets/Gallagher_small/20_249.jpg']\n",
        "Score: -0.1000 for 27 and 20 (Less than two matches)"
       ]
      },
      {
       "output_type": "stream",
       "stream": "stdout",
       "text": [
        "\n",
        "['../../images/testsets/Gallagher_small/27_551.jpg', '../../images/testsets/Gallagher_small/15_181.jpg']\n",
        "Score: -0.1000 for 27 and 15 (Less than two matches)"
       ]
      },
      {
       "output_type": "stream",
       "stream": "stdout",
       "text": [
        "\n",
        "['../../images/testsets/Gallagher_small/27_551.jpg', '../../images/testsets/Gallagher_small/15_158.jpg']\n",
        "Score: 0.1028 for 27 and 15"
       ]
      },
      {
       "output_type": "stream",
       "stream": "stdout",
       "text": [
        "\n",
        "['../../images/testsets/Gallagher_small/27_551.jpg', '../../images/testsets/Gallagher_small/19_195.jpg']\n",
        "Score: -0.1000 for 27 and 19 (Less than two matches)"
       ]
      },
      {
       "output_type": "stream",
       "stream": "stdout",
       "text": [
        "\n",
        "['../../images/testsets/Gallagher_small/27_551.jpg', '../../images/testsets/Gallagher_small/19_193.jpg']\n",
        "Score: -0.1000 for 27 and 19 (Less than two matches)"
       ]
      },
      {
       "output_type": "stream",
       "stream": "stdout",
       "text": [
        "\n",
        "['../../images/testsets/Gallagher_small/27_551.jpg', '../../images/testsets/Gallagher_small/21_287.jpg']\n",
        "Score: -0.1000 for 27 and 21 (Less than two matches)"
       ]
      },
      {
       "output_type": "stream",
       "stream": "stdout",
       "text": [
        "\n",
        "['../../images/testsets/Gallagher_small/27_551.jpg', '../../images/testsets/Gallagher_small/26_565.jpg']\n",
        "Score: -0.1000 for 27 and 26 (Less than two matches)"
       ]
      },
      {
       "output_type": "stream",
       "stream": "stdout",
       "text": [
        "\n",
        "['../../images/testsets/Gallagher_small/27_551.jpg', '../../images/testsets/Gallagher_small/27_509.jpg']\n",
        "Score: 0.1362 for 27 and 27"
       ]
      },
      {
       "output_type": "stream",
       "stream": "stdout",
       "text": [
        "\n",
        "['../../images/testsets/Gallagher_small/27_551.jpg', '../../images/testsets/Gallagher_small/15_169.jpg']\n",
        "Score: -0.1000 for 27 and 15 (Less than two matches)"
       ]
      },
      {
       "output_type": "stream",
       "stream": "stdout",
       "text": [
        "\n",
        "['../../images/testsets/Gallagher_small/27_551.jpg', '../../images/testsets/Gallagher_small/15_167.jpg']\n",
        "Score: 0.0813 for 27 and 15"
       ]
      },
      {
       "output_type": "stream",
       "stream": "stdout",
       "text": [
        "\n",
        "['../../images/testsets/Gallagher_small/27_551.jpg', '../../images/testsets/Gallagher_small/21_587.jpg']\n",
        "Score: -0.1000 for 27 and 21 (Less than two matches)"
       ]
      },
      {
       "output_type": "stream",
       "stream": "stdout",
       "text": [
        "\n",
        "['../../images/testsets/Gallagher_small/27_551.jpg', '../../images/testsets/Gallagher_small/15_222.jpg']\n",
        "Score: -0.1000 for 27 and 15 (Less than two matches)"
       ]
      },
      {
       "output_type": "stream",
       "stream": "stdout",
       "text": [
        "\n",
        "['../../images/testsets/Gallagher_small/27_551.jpg', '../../images/testsets/Gallagher_small/16_178.jpg']\n",
        "Score: -0.1000 for 27 and 16 (Less than two matches)"
       ]
      },
      {
       "output_type": "stream",
       "stream": "stdout",
       "text": [
        "\n",
        "['../../images/testsets/Gallagher_small/27_551.jpg', '../../images/testsets/Gallagher_small/17_165.jpg']\n",
        "Score: -0.1000 for 27 and 17 (Less than two matches)"
       ]
      },
      {
       "output_type": "stream",
       "stream": "stdout",
       "text": [
        "\n",
        "['../../images/testsets/Gallagher_small/27_551.jpg', '../../images/testsets/Gallagher_small/28_537.jpg']\n",
        "Score: -0.1000 for 27 and 28 (Less than two matches)"
       ]
      },
      {
       "output_type": "stream",
       "stream": "stdout",
       "text": [
        "\n",
        "['../../images/testsets/Gallagher_small/27_551.jpg', '../../images/testsets/Gallagher_small/27_524.jpg']\n",
        "Score: 0.0980 for 27 and 27"
       ]
      },
      {
       "output_type": "stream",
       "stream": "stdout",
       "text": [
        "\n",
        "['../../images/testsets/Gallagher_small/27_551.jpg', '../../images/testsets/Gallagher_small/13_163.jpg']\n",
        "Score: -0.1000 for 27 and 13 (Less than two matches)"
       ]
      },
      {
       "output_type": "stream",
       "stream": "stdout",
       "text": [
        "\n",
        "['../../images/testsets/Gallagher_small/27_551.jpg', '../../images/testsets/Gallagher_small/23_302.jpg']\n",
        "Score: -0.1000 for 27 and 23 (Less than two matches)"
       ]
      },
      {
       "output_type": "stream",
       "stream": "stdout",
       "text": [
        "\n",
        "['../../images/testsets/Gallagher_small/22_254.jpg', '../../images/testsets/Gallagher_small/29_568.jpg']\n",
        "Score: -0.1000 for 22 and 29 (Less than two matches)"
       ]
      },
      {
       "output_type": "stream",
       "stream": "stdout",
       "text": [
        "\n",
        "['../../images/testsets/Gallagher_small/22_254.jpg', '../../images/testsets/Gallagher_small/15_154.jpg']\n",
        "Score: -0.1000 for 22 and 15 (Less than two matches)"
       ]
      },
      {
       "output_type": "stream",
       "stream": "stdout",
       "text": [
        "\n",
        "['../../images/testsets/Gallagher_small/22_254.jpg', '../../images/testsets/Gallagher_small/25_431.jpg']\n",
        "Score: -0.1000 for 22 and 25 (Less than two matches)"
       ]
      },
      {
       "output_type": "stream",
       "stream": "stdout",
       "text": [
        "\n",
        "['../../images/testsets/Gallagher_small/22_254.jpg', '../../images/testsets/Gallagher_small/23_305.jpg']\n",
        "Score: -0.1000 for 22 and 23 (Less than two matches)"
       ]
      },
      {
       "output_type": "stream",
       "stream": "stdout",
       "text": [
        "\n",
        "['../../images/testsets/Gallagher_small/22_254.jpg', '../../images/testsets/Gallagher_small/16_164.jpg']\n",
        "Score: 0.0645 for 22 and 16"
       ]
      },
      {
       "output_type": "stream",
       "stream": "stdout",
       "text": [
        "\n",
        "['../../images/testsets/Gallagher_small/22_254.jpg', '../../images/testsets/Gallagher_small/18_166.jpg']\n",
        "Score: 0.0388 for 22 and 18"
       ]
      },
      {
       "output_type": "stream",
       "stream": "stdout",
       "text": [
        "\n",
        "['../../images/testsets/Gallagher_small/22_254.jpg', '../../images/testsets/Gallagher_small/25_770.jpg']\n",
        "Score: -0.1000 for 22 and 25 (Less than two matches)"
       ]
      },
      {
       "output_type": "stream",
       "stream": "stdout",
       "text": [
        "\n",
        "['../../images/testsets/Gallagher_small/22_254.jpg', '../../images/testsets/Gallagher_small/32_642.jpg']\n",
        "Score: -0.1000 for 22 and 32 (Less than two matches)"
       ]
      },
      {
       "output_type": "stream",
       "stream": "stdout",
       "text": [
        "\n",
        "['../../images/testsets/Gallagher_small/22_254.jpg', '../../images/testsets/Gallagher_small/19_198.jpg']\n",
        "Score: -0.1000 for 22 and 19 (Less than two matches)"
       ]
      },
      {
       "output_type": "stream",
       "stream": "stdout",
       "text": [
        "\n",
        "['../../images/testsets/Gallagher_small/22_254.jpg', '../../images/testsets/Gallagher_small/21_294.jpg']\n",
        "Score: -0.1000 for 22 and 21 (Less than two matches)"
       ]
      },
      {
       "output_type": "stream",
       "stream": "stdout",
       "text": [
        "\n",
        "['../../images/testsets/Gallagher_small/22_254.jpg', '../../images/testsets/Gallagher_small/14_206.jpg']\n",
        "Score: -0.1000 for 22 and 14 (Less than two matches)"
       ]
      },
      {
       "output_type": "stream",
       "stream": "stdout",
       "text": [
        "\n",
        "['../../images/testsets/Gallagher_small/22_254.jpg', '../../images/testsets/Gallagher_small/26_535.jpg']\n",
        "Score: -0.1000 for 22 and 26 (Less than two matches)"
       ]
      },
      {
       "output_type": "stream",
       "stream": "stdout",
       "text": [
        "\n",
        "['../../images/testsets/Gallagher_small/22_254.jpg', '../../images/testsets/Gallagher_small/22_255.jpg']\n",
        "Score: -0.1000 for 22 and 22 (Less than two matches)"
       ]
      },
      {
       "output_type": "stream",
       "stream": "stdout",
       "text": [
        "\n",
        "['../../images/testsets/Gallagher_small/22_254.jpg', '../../images/testsets/Gallagher_small/29_553.jpg']\n",
        "Score: -0.1000 for 22 and 29 (Less than two matches)"
       ]
      },
      {
       "output_type": "stream",
       "stream": "stdout",
       "text": [
        "\n",
        "['../../images/testsets/Gallagher_small/22_254.jpg', '../../images/testsets/Gallagher_small/13_168.jpg']\n",
        "Score: -0.1000 for 22 and 13 (Less than two matches)"
       ]
      },
      {
       "output_type": "stream",
       "stream": "stdout",
       "text": [
        "\n",
        "['../../images/testsets/Gallagher_small/22_254.jpg', '../../images/testsets/Gallagher_small/28_552.jpg']\n",
        "Score: -0.1000 for 22 and 28 (Less than two matches)"
       ]
      },
      {
       "output_type": "stream",
       "stream": "stdout",
       "text": [
        "\n",
        "['../../images/testsets/Gallagher_small/22_254.jpg', '../../images/testsets/Gallagher_small/13_145.jpg']\n",
        "Score: -0.1000 for 22 and 13 (Less than two matches)"
       ]
      },
      {
       "output_type": "stream",
       "stream": "stdout",
       "text": [
        "\n",
        "['../../images/testsets/Gallagher_small/22_254.jpg', '../../images/testsets/Gallagher_small/14_207.jpg']\n",
        "Score: -0.1000 for 22 and 14 (Less than two matches)"
       ]
      },
      {
       "output_type": "stream",
       "stream": "stdout",
       "text": [
        "\n",
        "['../../images/testsets/Gallagher_small/22_254.jpg', '../../images/testsets/Gallagher_small/14_150.jpg']\n",
        "Score: -0.1000 for 22 and 14 (Less than two matches)"
       ]
      },
      {
       "output_type": "stream",
       "stream": "stdout",
       "text": [
        "\n",
        "['../../images/testsets/Gallagher_small/22_254.jpg', '../../images/testsets/Gallagher_small/27_566.jpg']\n",
        "Score: -0.1000 for 22 and 27 (Less than two matches)"
       ]
      },
      {
       "output_type": "stream",
       "stream": "stdout",
       "text": [
        "\n",
        "['../../images/testsets/Gallagher_small/22_254.jpg', '../../images/testsets/Gallagher_small/17_183.jpg']\n",
        "Score: -0.1000 for 22 and 17 (Less than two matches)"
       ]
      },
      {
       "output_type": "stream",
       "stream": "stdout",
       "text": [
        "\n",
        "['../../images/testsets/Gallagher_small/22_254.jpg', '../../images/testsets/Gallagher_small/19_187.jpg']\n",
        "Score: -0.1000 for 22 and 19 (Less than two matches)"
       ]
      },
      {
       "output_type": "stream",
       "stream": "stdout",
       "text": [
        "\n",
        "['../../images/testsets/Gallagher_small/22_254.jpg', '../../images/testsets/Gallagher_small/31_580.jpg']\n",
        "Score: -0.1000 for 22 and 31 (Less than two matches)"
       ]
      },
      {
       "output_type": "stream",
       "stream": "stdout",
       "text": [
        "\n",
        "['../../images/testsets/Gallagher_small/22_254.jpg', '../../images/testsets/Gallagher_small/21_872.jpg']\n",
        "Score: -0.1000 for 22 and 21 (Less than two matches)"
       ]
      },
      {
       "output_type": "stream",
       "stream": "stdout",
       "text": [
        "\n",
        "['../../images/testsets/Gallagher_small/22_254.jpg', '../../images/testsets/Gallagher_small/23_307.jpg']\n",
        "Score: 0.1708 for 22 and 23"
       ]
      },
      {
       "output_type": "stream",
       "stream": "stdout",
       "text": [
        "\n",
        "['../../images/testsets/Gallagher_small/22_254.jpg', '../../images/testsets/Gallagher_small/25_462.jpg']\n",
        "Score: -0.1000 for 22 and 25 (Less than two matches)"
       ]
      },
      {
       "output_type": "stream",
       "stream": "stdout",
       "text": [
        "\n",
        "['../../images/testsets/Gallagher_small/22_254.jpg', '../../images/testsets/Gallagher_small/23_534.jpg']\n",
        "Score: -0.1000 for 22 and 23 (Less than two matches)"
       ]
      },
      {
       "output_type": "stream",
       "stream": "stdout",
       "text": [
        "\n",
        "['../../images/testsets/Gallagher_small/22_254.jpg', '../../images/testsets/Gallagher_small/31_582.jpg']\n",
        "Score: -0.1000 for 22 and 31 (Less than two matches)"
       ]
      },
      {
       "output_type": "stream",
       "stream": "stdout",
       "text": [
        "\n",
        "['../../images/testsets/Gallagher_small/22_254.jpg', '../../images/testsets/Gallagher_small/15_224.jpg']\n",
        "Score: -0.1000 for 22 and 15 (Less than two matches)"
       ]
      },
      {
       "output_type": "stream",
       "stream": "stdout",
       "text": [
        "\n",
        "['../../images/testsets/Gallagher_small/22_254.jpg', '../../images/testsets/Gallagher_small/23_508.jpg']\n",
        "Score: -0.1000 for 22 and 23 (Less than two matches)"
       ]
      },
      {
       "output_type": "stream",
       "stream": "stdout",
       "text": [
        "\n",
        "['../../images/testsets/Gallagher_small/22_254.jpg', '../../images/testsets/Gallagher_small/18_220.jpg']\n",
        "Score: -0.1000 for 22 and 18 (Less than two matches)"
       ]
      },
      {
       "output_type": "stream",
       "stream": "stdout",
       "text": [
        "\n",
        "['../../images/testsets/Gallagher_small/22_254.jpg', '../../images/testsets/Gallagher_small/15_151.jpg']\n",
        "Score: -0.1000 for 22 and 15 (Less than two matches)"
       ]
      },
      {
       "output_type": "stream",
       "stream": "stdout",
       "text": [
        "\n",
        "['../../images/testsets/Gallagher_small/22_254.jpg', '../../images/testsets/Gallagher_small/16_182.jpg']\n",
        "Score: -0.1000 for 22 and 16 (Less than two matches)"
       ]
      },
      {
       "output_type": "stream",
       "stream": "stdout",
       "text": [
        "\n",
        "['../../images/testsets/Gallagher_small/22_254.jpg', '../../images/testsets/Gallagher_small/23_875.jpg']\n",
        "Score: -0.1000 for 22 and 23 (Less than two matches)"
       ]
      },
      {
       "output_type": "stream",
       "stream": "stdout",
       "text": [
        "\n",
        "['../../images/testsets/Gallagher_small/22_254.jpg', '../../images/testsets/Gallagher_small/23_549.jpg']\n",
        "Score: -0.1000 for 22 and 23 (Less than two matches)"
       ]
      },
      {
       "output_type": "stream",
       "stream": "stdout",
       "text": [
        "\n",
        "['../../images/testsets/Gallagher_small/22_254.jpg', '../../images/testsets/Gallagher_small/32_648.jpg']\n",
        "Score: -0.1000 for 22 and 32 (Less than two matches)"
       ]
      },
      {
       "output_type": "stream",
       "stream": "stdout",
       "text": [
        "\n",
        "['../../images/testsets/Gallagher_small/22_254.jpg', '../../images/testsets/Gallagher_small/15_171.jpg']\n",
        "Score: -0.1000 for 22 and 15 (Less than two matches)"
       ]
      },
      {
       "output_type": "stream",
       "stream": "stdout",
       "text": [
        "\n",
        "['../../images/testsets/Gallagher_small/22_254.jpg', '../../images/testsets/Gallagher_small/24_358.jpg']\n",
        "Score: -0.1000 for 22 and 24 (Less than two matches)"
       ]
      },
      {
       "output_type": "stream",
       "stream": "stdout",
       "text": [
        "\n",
        "['../../images/testsets/Gallagher_small/22_254.jpg', '../../images/testsets/Gallagher_small/25_458.jpg']\n",
        "Score: -0.1000 for 22 and 25 (Less than two matches)"
       ]
      },
      {
       "output_type": "stream",
       "stream": "stdout",
       "text": [
        "\n",
        "['../../images/testsets/Gallagher_small/22_254.jpg', '../../images/testsets/Gallagher_small/30_569.jpg']\n",
        "Score: -0.1000 for 22 and 30 (Less than two matches)"
       ]
      },
      {
       "output_type": "stream",
       "stream": "stdout",
       "text": [
        "\n",
        "['../../images/testsets/Gallagher_small/22_254.jpg', '../../images/testsets/Gallagher_small/32_645.jpg']\n",
        "Score: -0.1000 for 22 and 32 (Less than two matches)"
       ]
      },
      {
       "output_type": "stream",
       "stream": "stdout",
       "text": [
        "\n",
        "['../../images/testsets/Gallagher_small/22_254.jpg', '../../images/testsets/Gallagher_small/29_538.jpg']\n",
        "Score: -0.1000 for 22 and 29 (Less than two matches)"
       ]
      },
      {
       "output_type": "stream",
       "stream": "stdout",
       "text": [
        "\n",
        "['../../images/testsets/Gallagher_small/22_254.jpg', '../../images/testsets/Gallagher_small/21_251.jpg']\n",
        "Score: -0.1000 for 22 and 21 (Less than two matches)"
       ]
      },
      {
       "output_type": "stream",
       "stream": "stdout",
       "text": [
        "\n",
        "['../../images/testsets/Gallagher_small/22_254.jpg', '../../images/testsets/Gallagher_small/20_249.jpg']\n",
        "Score: -0.1000 for 22 and 20 (Less than two matches)"
       ]
      },
      {
       "output_type": "stream",
       "stream": "stdout",
       "text": [
        "\n",
        "['../../images/testsets/Gallagher_small/22_254.jpg', '../../images/testsets/Gallagher_small/15_181.jpg']\n",
        "Score: -0.1000 for 22 and 15 (Less than two matches)"
       ]
      },
      {
       "output_type": "stream",
       "stream": "stdout",
       "text": [
        "\n",
        "['../../images/testsets/Gallagher_small/22_254.jpg', '../../images/testsets/Gallagher_small/15_158.jpg']\n",
        "Score: -0.1000 for 22 and 15 (Less than two matches)"
       ]
      },
      {
       "output_type": "stream",
       "stream": "stdout",
       "text": [
        "\n",
        "['../../images/testsets/Gallagher_small/22_254.jpg', '../../images/testsets/Gallagher_small/19_195.jpg']\n",
        "Score: -0.1000 for 22 and 19 (Less than two matches)"
       ]
      },
      {
       "output_type": "stream",
       "stream": "stdout",
       "text": [
        "\n",
        "['../../images/testsets/Gallagher_small/22_254.jpg', '../../images/testsets/Gallagher_small/19_193.jpg']\n",
        "Score: -0.1000 for 22 and 19 (Less than two matches)"
       ]
      },
      {
       "output_type": "stream",
       "stream": "stdout",
       "text": [
        "\n",
        "['../../images/testsets/Gallagher_small/22_254.jpg', '../../images/testsets/Gallagher_small/21_287.jpg']\n",
        "Score: -0.1000 for 22 and 21 (Less than two matches)"
       ]
      },
      {
       "output_type": "stream",
       "stream": "stdout",
       "text": [
        "\n",
        "['../../images/testsets/Gallagher_small/22_254.jpg', '../../images/testsets/Gallagher_small/26_565.jpg']\n",
        "Score: -0.1000 for 22 and 26 (Less than two matches)"
       ]
      },
      {
       "output_type": "stream",
       "stream": "stdout",
       "text": [
        "\n",
        "['../../images/testsets/Gallagher_small/22_254.jpg', '../../images/testsets/Gallagher_small/27_509.jpg']\n",
        "Score: -0.1000 for 22 and 27 (Less than two matches)"
       ]
      },
      {
       "output_type": "stream",
       "stream": "stdout",
       "text": [
        "\n",
        "['../../images/testsets/Gallagher_small/22_254.jpg', '../../images/testsets/Gallagher_small/15_169.jpg']\n",
        "Score: -0.1000 for 22 and 15 (Less than two matches)"
       ]
      },
      {
       "output_type": "stream",
       "stream": "stdout",
       "text": [
        "\n",
        "['../../images/testsets/Gallagher_small/22_254.jpg', '../../images/testsets/Gallagher_small/15_167.jpg']\n",
        "Score: -0.1000 for 22 and 15 (Less than two matches)"
       ]
      },
      {
       "output_type": "stream",
       "stream": "stdout",
       "text": [
        "\n",
        "['../../images/testsets/Gallagher_small/22_254.jpg', '../../images/testsets/Gallagher_small/21_587.jpg']\n",
        "Score: -0.1000 for 22 and 21 (Less than two matches)"
       ]
      },
      {
       "output_type": "stream",
       "stream": "stdout",
       "text": [
        "\n",
        "['../../images/testsets/Gallagher_small/22_254.jpg', '../../images/testsets/Gallagher_small/15_222.jpg']\n",
        "Score: -0.1000 for 22 and 15 (Less than two matches)"
       ]
      },
      {
       "output_type": "stream",
       "stream": "stdout",
       "text": [
        "\n",
        "['../../images/testsets/Gallagher_small/22_254.jpg', '../../images/testsets/Gallagher_small/16_178.jpg']\n",
        "Score: -0.1000 for 22 and 16 (Less than two matches)"
       ]
      },
      {
       "output_type": "stream",
       "stream": "stdout",
       "text": [
        "\n",
        "['../../images/testsets/Gallagher_small/22_254.jpg', '../../images/testsets/Gallagher_small/17_165.jpg']\n",
        "Score: -0.1000 for 22 and 17 (Less than two matches)"
       ]
      },
      {
       "output_type": "stream",
       "stream": "stdout",
       "text": [
        "\n",
        "['../../images/testsets/Gallagher_small/22_254.jpg', '../../images/testsets/Gallagher_small/28_537.jpg']\n",
        "Score: -0.1000 for 22 and 28 (Less than two matches)"
       ]
      },
      {
       "output_type": "stream",
       "stream": "stdout",
       "text": [
        "\n",
        "['../../images/testsets/Gallagher_small/22_254.jpg', '../../images/testsets/Gallagher_small/27_524.jpg']\n",
        "Score: -0.1000 for 22 and 27 (Less than two matches)"
       ]
      },
      {
       "output_type": "stream",
       "stream": "stdout",
       "text": [
        "\n",
        "['../../images/testsets/Gallagher_small/22_254.jpg', '../../images/testsets/Gallagher_small/13_163.jpg']\n",
        "Score: -0.1000 for 22 and 13 (Less than two matches)"
       ]
      },
      {
       "output_type": "stream",
       "stream": "stdout",
       "text": [
        "\n",
        "['../../images/testsets/Gallagher_small/22_254.jpg', '../../images/testsets/Gallagher_small/23_302.jpg']\n",
        "Score: -0.1000 for 22 and 23 (Less than two matches)"
       ]
      },
      {
       "output_type": "stream",
       "stream": "stdout",
       "text": [
        "\n",
        "['../../images/testsets/Gallagher_small/29_568.jpg', '../../images/testsets/Gallagher_small/15_154.jpg']\n",
        "Score: 0.1034 for 29 and 15"
       ]
      },
      {
       "output_type": "stream",
       "stream": "stdout",
       "text": [
        "\n",
        "['../../images/testsets/Gallagher_small/29_568.jpg', '../../images/testsets/Gallagher_small/25_431.jpg']\n",
        "Score: -0.1000 for 29 and 25 (Less than two matches)"
       ]
      },
      {
       "output_type": "stream",
       "stream": "stdout",
       "text": [
        "\n",
        "['../../images/testsets/Gallagher_small/29_568.jpg', '../../images/testsets/Gallagher_small/23_305.jpg']\n",
        "Score: 0.0415 for 29 and 23"
       ]
      },
      {
       "output_type": "stream",
       "stream": "stdout",
       "text": [
        "\n",
        "['../../images/testsets/Gallagher_small/29_568.jpg', '../../images/testsets/Gallagher_small/16_164.jpg']\n",
        "Score: -0.0532 for 29 and 16"
       ]
      },
      {
       "output_type": "stream",
       "stream": "stdout",
       "text": [
        "\n",
        "['../../images/testsets/Gallagher_small/29_568.jpg', '../../images/testsets/Gallagher_small/18_166.jpg']\n",
        "Score: 0.1043 for 29 and 18"
       ]
      },
      {
       "output_type": "stream",
       "stream": "stdout",
       "text": [
        "\n",
        "['../../images/testsets/Gallagher_small/29_568.jpg', '../../images/testsets/Gallagher_small/25_770.jpg']\n",
        "Score: -0.1000 for 29 and 25 (Less than two matches)"
       ]
      },
      {
       "output_type": "stream",
       "stream": "stdout",
       "text": [
        "\n",
        "['../../images/testsets/Gallagher_small/29_568.jpg', '../../images/testsets/Gallagher_small/32_642.jpg']\n",
        "Score: -0.1000 for 29 and 32 (Less than two matches)"
       ]
      },
      {
       "output_type": "stream",
       "stream": "stdout",
       "text": [
        "\n",
        "['../../images/testsets/Gallagher_small/29_568.jpg', '../../images/testsets/Gallagher_small/19_198.jpg']\n",
        "Score: 0.0194 for 29 and 19"
       ]
      },
      {
       "output_type": "stream",
       "stream": "stdout",
       "text": [
        "\n",
        "['../../images/testsets/Gallagher_small/29_568.jpg', '../../images/testsets/Gallagher_small/21_294.jpg']\n",
        "Score: -0.1000 for 29 and 21 (Less than two matches)"
       ]
      },
      {
       "output_type": "stream",
       "stream": "stdout",
       "text": [
        "\n",
        "['../../images/testsets/Gallagher_small/29_568.jpg', '../../images/testsets/Gallagher_small/14_206.jpg']\n",
        "Score: -0.1000 for 29 and 14 (Less than two matches)"
       ]
      },
      {
       "output_type": "stream",
       "stream": "stdout",
       "text": [
        "\n",
        "['../../images/testsets/Gallagher_small/29_568.jpg', '../../images/testsets/Gallagher_small/26_535.jpg']\n",
        "Score: -0.1000 for 29 and 26 (Less than two matches)"
       ]
      },
      {
       "output_type": "stream",
       "stream": "stdout",
       "text": [
        "\n",
        "['../../images/testsets/Gallagher_small/29_568.jpg', '../../images/testsets/Gallagher_small/22_255.jpg']\n",
        "Score: -0.1000 for 29 and 22 (Less than two matches)"
       ]
      },
      {
       "output_type": "stream",
       "stream": "stdout",
       "text": [
        "\n",
        "['../../images/testsets/Gallagher_small/29_568.jpg', '../../images/testsets/Gallagher_small/29_553.jpg']\n",
        "Score: 0.1791 for 29 and 29"
       ]
      },
      {
       "output_type": "stream",
       "stream": "stdout",
       "text": [
        "\n",
        "['../../images/testsets/Gallagher_small/29_568.jpg', '../../images/testsets/Gallagher_small/13_168.jpg']\n",
        "Score: 0.0253 for 29 and 13"
       ]
      },
      {
       "output_type": "stream",
       "stream": "stdout",
       "text": [
        "\n",
        "['../../images/testsets/Gallagher_small/29_568.jpg', '../../images/testsets/Gallagher_small/28_552.jpg']\n",
        "Score: -0.1116 for 29 and 28"
       ]
      },
      {
       "output_type": "stream",
       "stream": "stdout",
       "text": [
        "\n",
        "['../../images/testsets/Gallagher_small/29_568.jpg', '../../images/testsets/Gallagher_small/13_145.jpg']\n",
        "Score: -0.1000 for 29 and 13 (Less than two matches)"
       ]
      },
      {
       "output_type": "stream",
       "stream": "stdout",
       "text": [
        "\n",
        "['../../images/testsets/Gallagher_small/29_568.jpg', '../../images/testsets/Gallagher_small/14_207.jpg']\n",
        "Score: -0.1000 for 29 and 14 (Less than two matches)"
       ]
      },
      {
       "output_type": "stream",
       "stream": "stdout",
       "text": [
        "\n",
        "['../../images/testsets/Gallagher_small/29_568.jpg', '../../images/testsets/Gallagher_small/14_150.jpg']\n",
        "Score: 0.0978 for 29 and 14"
       ]
      },
      {
       "output_type": "stream",
       "stream": "stdout",
       "text": [
        "\n",
        "['../../images/testsets/Gallagher_small/29_568.jpg', '../../images/testsets/Gallagher_small/27_566.jpg']\n",
        "Score: -0.1000 for 29 and 27 (Less than two matches)"
       ]
      },
      {
       "output_type": "stream",
       "stream": "stdout",
       "text": [
        "\n",
        "['../../images/testsets/Gallagher_small/29_568.jpg', '../../images/testsets/Gallagher_small/17_183.jpg']\n",
        "Score: -0.1000 for 29 and 17 (Less than two matches)"
       ]
      },
      {
       "output_type": "stream",
       "stream": "stdout",
       "text": [
        "\n",
        "['../../images/testsets/Gallagher_small/29_568.jpg', '../../images/testsets/Gallagher_small/19_187.jpg']\n",
        "Score: -0.1000 for 29 and 19 (Less than two matches)"
       ]
      },
      {
       "output_type": "stream",
       "stream": "stdout",
       "text": [
        "\n",
        "['../../images/testsets/Gallagher_small/29_568.jpg', '../../images/testsets/Gallagher_small/31_580.jpg']\n",
        "Score: -0.1000 for 29 and 31 (Less than two matches)"
       ]
      },
      {
       "output_type": "stream",
       "stream": "stdout",
       "text": [
        "\n",
        "['../../images/testsets/Gallagher_small/29_568.jpg', '../../images/testsets/Gallagher_small/21_872.jpg']\n",
        "Score: 0.0543 for 29 and 21"
       ]
      },
      {
       "output_type": "stream",
       "stream": "stdout",
       "text": [
        "\n",
        "['../../images/testsets/Gallagher_small/29_568.jpg', '../../images/testsets/Gallagher_small/23_307.jpg']\n",
        "Score: 0.0188 for 29 and 23"
       ]
      },
      {
       "output_type": "stream",
       "stream": "stdout",
       "text": [
        "\n",
        "['../../images/testsets/Gallagher_small/29_568.jpg', '../../images/testsets/Gallagher_small/25_462.jpg']\n",
        "Score: 0.0685 for 29 and 25"
       ]
      },
      {
       "output_type": "stream",
       "stream": "stdout",
       "text": [
        "\n",
        "['../../images/testsets/Gallagher_small/29_568.jpg', '../../images/testsets/Gallagher_small/23_534.jpg']\n",
        "Score: -0.1000 for 29 and 23 (Less than two matches)"
       ]
      },
      {
       "output_type": "stream",
       "stream": "stdout",
       "text": [
        "\n",
        "['../../images/testsets/Gallagher_small/29_568.jpg', '../../images/testsets/Gallagher_small/31_582.jpg']\n",
        "Score: -0.1000 for 29 and 31 (Less than two matches)"
       ]
      },
      {
       "output_type": "stream",
       "stream": "stdout",
       "text": [
        "\n",
        "['../../images/testsets/Gallagher_small/29_568.jpg', '../../images/testsets/Gallagher_small/15_224.jpg']\n",
        "Score: 0.0608 for 29 and 15"
       ]
      },
      {
       "output_type": "stream",
       "stream": "stdout",
       "text": [
        "\n",
        "['../../images/testsets/Gallagher_small/29_568.jpg', '../../images/testsets/Gallagher_small/23_508.jpg']\n",
        "Score: 0.1344 for 29 and 23"
       ]
      },
      {
       "output_type": "stream",
       "stream": "stdout",
       "text": [
        "\n",
        "['../../images/testsets/Gallagher_small/29_568.jpg', '../../images/testsets/Gallagher_small/18_220.jpg']\n",
        "Score: -0.1000 for 29 and 18 (Less than two matches)"
       ]
      },
      {
       "output_type": "stream",
       "stream": "stdout",
       "text": [
        "\n",
        "['../../images/testsets/Gallagher_small/29_568.jpg', '../../images/testsets/Gallagher_small/15_151.jpg']\n",
        "Score: -0.1000 for 29 and 15 (Less than two matches)"
       ]
      },
      {
       "output_type": "stream",
       "stream": "stdout",
       "text": [
        "\n",
        "['../../images/testsets/Gallagher_small/29_568.jpg', '../../images/testsets/Gallagher_small/16_182.jpg']\n",
        "Score: 0.0338 for 29 and 16"
       ]
      },
      {
       "output_type": "stream",
       "stream": "stdout",
       "text": [
        "\n",
        "['../../images/testsets/Gallagher_small/29_568.jpg', '../../images/testsets/Gallagher_small/23_875.jpg']\n",
        "Score: -0.1000 for 29 and 23 (Less than two matches)"
       ]
      },
      {
       "output_type": "stream",
       "stream": "stdout",
       "text": [
        "\n",
        "['../../images/testsets/Gallagher_small/29_568.jpg', '../../images/testsets/Gallagher_small/23_549.jpg']\n",
        "Score: 0.0567 for 29 and 23"
       ]
      },
      {
       "output_type": "stream",
       "stream": "stdout",
       "text": [
        "\n",
        "['../../images/testsets/Gallagher_small/29_568.jpg', '../../images/testsets/Gallagher_small/32_648.jpg']\n",
        "Score: -0.1000 for 29 and 32 (Less than two matches)"
       ]
      },
      {
       "output_type": "stream",
       "stream": "stdout",
       "text": [
        "\n",
        "['../../images/testsets/Gallagher_small/29_568.jpg', '../../images/testsets/Gallagher_small/15_171.jpg']\n",
        "Score: 0.0319 for 29 and 15"
       ]
      },
      {
       "output_type": "stream",
       "stream": "stdout",
       "text": [
        "\n",
        "['../../images/testsets/Gallagher_small/29_568.jpg', '../../images/testsets/Gallagher_small/24_358.jpg']\n",
        "Score: -0.1000 for 29 and 24 (Less than two matches)"
       ]
      },
      {
       "output_type": "stream",
       "stream": "stdout",
       "text": [
        "\n",
        "['../../images/testsets/Gallagher_small/29_568.jpg', '../../images/testsets/Gallagher_small/25_458.jpg']\n",
        "Score: 0.0617 for 29 and 25"
       ]
      },
      {
       "output_type": "stream",
       "stream": "stdout",
       "text": [
        "\n",
        "['../../images/testsets/Gallagher_small/29_568.jpg', '../../images/testsets/Gallagher_small/30_569.jpg']\n",
        "Score: 0.0065 for 29 and 30"
       ]
      },
      {
       "output_type": "stream",
       "stream": "stdout",
       "text": [
        "\n",
        "['../../images/testsets/Gallagher_small/29_568.jpg', '../../images/testsets/Gallagher_small/32_645.jpg']\n",
        "Score: -0.1000 for 29 and 32 (Less than two matches)"
       ]
      },
      {
       "output_type": "stream",
       "stream": "stdout",
       "text": [
        "\n",
        "['../../images/testsets/Gallagher_small/29_568.jpg', '../../images/testsets/Gallagher_small/29_538.jpg']\n",
        "Score: -0.1000 for 29 and 29 (Less than two matches)"
       ]
      },
      {
       "output_type": "stream",
       "stream": "stdout",
       "text": [
        "\n",
        "['../../images/testsets/Gallagher_small/29_568.jpg', '../../images/testsets/Gallagher_small/21_251.jpg']\n",
        "Score: -0.1000 for 29 and 21 (Less than two matches)"
       ]
      },
      {
       "output_type": "stream",
       "stream": "stdout",
       "text": [
        "\n",
        "['../../images/testsets/Gallagher_small/29_568.jpg', '../../images/testsets/Gallagher_small/20_249.jpg']\n",
        "Score: -0.1000 for 29 and 20 (Less than two matches)"
       ]
      },
      {
       "output_type": "stream",
       "stream": "stdout",
       "text": [
        "\n",
        "['../../images/testsets/Gallagher_small/29_568.jpg', '../../images/testsets/Gallagher_small/15_181.jpg']\n",
        "Score: -0.1000 for 29 and 15 (Less than two matches)"
       ]
      },
      {
       "output_type": "stream",
       "stream": "stdout",
       "text": [
        "\n",
        "['../../images/testsets/Gallagher_small/29_568.jpg', '../../images/testsets/Gallagher_small/15_158.jpg']\n",
        "Score: 0.0695 for 29 and 15"
       ]
      },
      {
       "output_type": "stream",
       "stream": "stdout",
       "text": [
        "\n",
        "['../../images/testsets/Gallagher_small/29_568.jpg', '../../images/testsets/Gallagher_small/19_195.jpg']\n",
        "Score: -0.1000 for 29 and 19 (Less than two matches)"
       ]
      },
      {
       "output_type": "stream",
       "stream": "stdout",
       "text": [
        "\n",
        "['../../images/testsets/Gallagher_small/29_568.jpg', '../../images/testsets/Gallagher_small/19_193.jpg']\n",
        "Score: -0.1000 for 29 and 19 (Less than two matches)"
       ]
      },
      {
       "output_type": "stream",
       "stream": "stdout",
       "text": [
        "\n",
        "['../../images/testsets/Gallagher_small/29_568.jpg', '../../images/testsets/Gallagher_small/21_287.jpg']\n",
        "Score: -0.1000 for 29 and 21 (Less than two matches)"
       ]
      },
      {
       "output_type": "stream",
       "stream": "stdout",
       "text": [
        "\n",
        "['../../images/testsets/Gallagher_small/29_568.jpg', '../../images/testsets/Gallagher_small/26_565.jpg']\n",
        "Score: 0.0627 for 29 and 26"
       ]
      },
      {
       "output_type": "stream",
       "stream": "stdout",
       "text": [
        "\n",
        "['../../images/testsets/Gallagher_small/29_568.jpg', '../../images/testsets/Gallagher_small/27_509.jpg']\n",
        "Score: 0.0475 for 29 and 27"
       ]
      },
      {
       "output_type": "stream",
       "stream": "stdout",
       "text": [
        "\n",
        "['../../images/testsets/Gallagher_small/29_568.jpg', '../../images/testsets/Gallagher_small/15_169.jpg']\n",
        "Score: 0.0337 for 29 and 15"
       ]
      },
      {
       "output_type": "stream",
       "stream": "stdout",
       "text": [
        "\n",
        "['../../images/testsets/Gallagher_small/29_568.jpg', '../../images/testsets/Gallagher_small/15_167.jpg']\n",
        "Score: 0.0382 for 29 and 15"
       ]
      },
      {
       "output_type": "stream",
       "stream": "stdout",
       "text": [
        "\n",
        "['../../images/testsets/Gallagher_small/29_568.jpg', '../../images/testsets/Gallagher_small/21_587.jpg']\n",
        "Score: -0.1000 for 29 and 21 (Less than two matches)"
       ]
      },
      {
       "output_type": "stream",
       "stream": "stdout",
       "text": [
        "\n",
        "['../../images/testsets/Gallagher_small/29_568.jpg', '../../images/testsets/Gallagher_small/15_222.jpg']\n",
        "Score: -0.1000 for 29 and 15 (Less than two matches)"
       ]
      },
      {
       "output_type": "stream",
       "stream": "stdout",
       "text": [
        "\n",
        "['../../images/testsets/Gallagher_small/29_568.jpg', '../../images/testsets/Gallagher_small/16_178.jpg']\n",
        "Score: -0.1000 for 29 and 16 (Less than two matches)"
       ]
      },
      {
       "output_type": "stream",
       "stream": "stdout",
       "text": [
        "\n",
        "['../../images/testsets/Gallagher_small/29_568.jpg', '../../images/testsets/Gallagher_small/17_165.jpg']\n",
        "Score: -0.1000 for 29 and 17 (Less than two matches)"
       ]
      },
      {
       "output_type": "stream",
       "stream": "stdout",
       "text": [
        "\n",
        "['../../images/testsets/Gallagher_small/29_568.jpg', '../../images/testsets/Gallagher_small/28_537.jpg']\n",
        "Score: -0.1000 for 29 and 28 (Less than two matches)"
       ]
      },
      {
       "output_type": "stream",
       "stream": "stdout",
       "text": [
        "\n",
        "['../../images/testsets/Gallagher_small/29_568.jpg', '../../images/testsets/Gallagher_small/27_524.jpg']\n",
        "Score: -0.1000 for 29 and 27 (Less than two matches)"
       ]
      },
      {
       "output_type": "stream",
       "stream": "stdout",
       "text": [
        "\n",
        "['../../images/testsets/Gallagher_small/29_568.jpg', '../../images/testsets/Gallagher_small/13_163.jpg']\n",
        "Score: 0.0224 for 29 and 13"
       ]
      },
      {
       "output_type": "stream",
       "stream": "stdout",
       "text": [
        "\n",
        "['../../images/testsets/Gallagher_small/29_568.jpg', '../../images/testsets/Gallagher_small/23_302.jpg']\n",
        "Score: 0.1044 for 29 and 23"
       ]
      },
      {
       "output_type": "stream",
       "stream": "stdout",
       "text": [
        "\n",
        "['../../images/testsets/Gallagher_small/15_154.jpg', '../../images/testsets/Gallagher_small/25_431.jpg']\n",
        "Score: 0.0980 for 15 and 25"
       ]
      },
      {
       "output_type": "stream",
       "stream": "stdout",
       "text": [
        "\n",
        "['../../images/testsets/Gallagher_small/15_154.jpg', '../../images/testsets/Gallagher_small/23_305.jpg']\n",
        "Score: 0.0772 for 15 and 23"
       ]
      },
      {
       "output_type": "stream",
       "stream": "stdout",
       "text": [
        "\n",
        "['../../images/testsets/Gallagher_small/15_154.jpg', '../../images/testsets/Gallagher_small/16_164.jpg']\n",
        "Score: -0.0847 for 15 and 16"
       ]
      },
      {
       "output_type": "stream",
       "stream": "stdout",
       "text": [
        "\n",
        "['../../images/testsets/Gallagher_small/15_154.jpg', '../../images/testsets/Gallagher_small/18_166.jpg']\n",
        "Score: 0.0555 for 15 and 18"
       ]
      },
      {
       "output_type": "stream",
       "stream": "stdout",
       "text": [
        "\n",
        "['../../images/testsets/Gallagher_small/15_154.jpg', '../../images/testsets/Gallagher_small/25_770.jpg']\n",
        "Score: -0.1000 for 15 and 25 (Less than two matches)"
       ]
      },
      {
       "output_type": "stream",
       "stream": "stdout",
       "text": [
        "\n",
        "['../../images/testsets/Gallagher_small/15_154.jpg', '../../images/testsets/Gallagher_small/32_642.jpg']\n",
        "Score: -0.1000 for 15 and 32 (Less than two matches)"
       ]
      },
      {
       "output_type": "stream",
       "stream": "stdout",
       "text": [
        "\n",
        "['../../images/testsets/Gallagher_small/15_154.jpg', '../../images/testsets/Gallagher_small/19_198.jpg']\n",
        "Score: -0.1000 for 15 and 19 (Less than two matches)"
       ]
      },
      {
       "output_type": "stream",
       "stream": "stdout",
       "text": [
        "\n",
        "['../../images/testsets/Gallagher_small/15_154.jpg', '../../images/testsets/Gallagher_small/21_294.jpg']\n",
        "Score: -0.1000 for 15 and 21 (Less than two matches)"
       ]
      },
      {
       "output_type": "stream",
       "stream": "stdout",
       "text": [
        "\n",
        "['../../images/testsets/Gallagher_small/15_154.jpg', '../../images/testsets/Gallagher_small/14_206.jpg']\n",
        "Score: 0.0582 for 15 and 14"
       ]
      },
      {
       "output_type": "stream",
       "stream": "stdout",
       "text": [
        "\n",
        "['../../images/testsets/Gallagher_small/15_154.jpg', '../../images/testsets/Gallagher_small/26_535.jpg']\n",
        "Score: -0.1000 for 15 and 26 (Less than two matches)"
       ]
      },
      {
       "output_type": "stream",
       "stream": "stdout",
       "text": [
        "\n",
        "['../../images/testsets/Gallagher_small/15_154.jpg', '../../images/testsets/Gallagher_small/22_255.jpg']\n",
        "Score: -0.0970 for 15 and 22"
       ]
      },
      {
       "output_type": "stream",
       "stream": "stdout",
       "text": [
        "\n",
        "['../../images/testsets/Gallagher_small/15_154.jpg', '../../images/testsets/Gallagher_small/29_553.jpg']\n",
        "Score: -0.1000 for 15 and 29 (Less than two matches)"
       ]
      },
      {
       "output_type": "stream",
       "stream": "stdout",
       "text": [
        "\n",
        "['../../images/testsets/Gallagher_small/15_154.jpg', '../../images/testsets/Gallagher_small/13_168.jpg']\n",
        "Score: -0.1000 for 15 and 13 (Less than two matches)"
       ]
      },
      {
       "output_type": "stream",
       "stream": "stdout",
       "text": [
        "\n",
        "['../../images/testsets/Gallagher_small/15_154.jpg', '../../images/testsets/Gallagher_small/28_552.jpg']\n",
        "Score: -0.1000 for 15 and 28 (Less than two matches)"
       ]
      },
      {
       "output_type": "stream",
       "stream": "stdout",
       "text": [
        "\n",
        "['../../images/testsets/Gallagher_small/15_154.jpg', '../../images/testsets/Gallagher_small/13_145.jpg']\n",
        "Score: -0.1000 for 15 and 13 (Less than two matches)"
       ]
      },
      {
       "output_type": "stream",
       "stream": "stdout",
       "text": [
        "\n",
        "['../../images/testsets/Gallagher_small/15_154.jpg', '../../images/testsets/Gallagher_small/14_207.jpg']\n",
        "Score: -0.1000 for 15 and 14 (Less than two matches)"
       ]
      },
      {
       "output_type": "stream",
       "stream": "stdout",
       "text": [
        "\n",
        "['../../images/testsets/Gallagher_small/15_154.jpg', '../../images/testsets/Gallagher_small/14_150.jpg']\n",
        "Score: 0.0416 for 15 and 14"
       ]
      },
      {
       "output_type": "stream",
       "stream": "stdout",
       "text": [
        "\n",
        "['../../images/testsets/Gallagher_small/15_154.jpg', '../../images/testsets/Gallagher_small/27_566.jpg']\n",
        "Score: 0.1007 for 15 and 27"
       ]
      },
      {
       "output_type": "stream",
       "stream": "stdout",
       "text": [
        "\n",
        "['../../images/testsets/Gallagher_small/15_154.jpg', '../../images/testsets/Gallagher_small/17_183.jpg']\n",
        "Score: 0.0280 for 15 and 17"
       ]
      },
      {
       "output_type": "stream",
       "stream": "stdout",
       "text": [
        "\n",
        "['../../images/testsets/Gallagher_small/15_154.jpg', '../../images/testsets/Gallagher_small/19_187.jpg']\n",
        "Score: 0.0573 for 15 and 19"
       ]
      },
      {
       "output_type": "stream",
       "stream": "stdout",
       "text": [
        "\n",
        "['../../images/testsets/Gallagher_small/15_154.jpg', '../../images/testsets/Gallagher_small/31_580.jpg']\n",
        "Score: -0.0599 for 15 and 31"
       ]
      },
      {
       "output_type": "stream",
       "stream": "stdout",
       "text": [
        "\n",
        "['../../images/testsets/Gallagher_small/15_154.jpg', '../../images/testsets/Gallagher_small/21_872.jpg']\n",
        "Score: 0.0379 for 15 and 21"
       ]
      },
      {
       "output_type": "stream",
       "stream": "stdout",
       "text": [
        "\n",
        "['../../images/testsets/Gallagher_small/15_154.jpg', '../../images/testsets/Gallagher_small/23_307.jpg']\n",
        "Score: -0.0083 for 15 and 23"
       ]
      },
      {
       "output_type": "stream",
       "stream": "stdout",
       "text": [
        "\n",
        "['../../images/testsets/Gallagher_small/15_154.jpg', '../../images/testsets/Gallagher_small/25_462.jpg']\n",
        "Score: -0.1000 for 15 and 25 (Less than two matches)"
       ]
      },
      {
       "output_type": "stream",
       "stream": "stdout",
       "text": [
        "\n",
        "['../../images/testsets/Gallagher_small/15_154.jpg', '../../images/testsets/Gallagher_small/23_534.jpg']\n",
        "Score: -0.1000 for 15 and 23 (Less than two matches)"
       ]
      },
      {
       "output_type": "stream",
       "stream": "stdout",
       "text": [
        "\n",
        "['../../images/testsets/Gallagher_small/15_154.jpg', '../../images/testsets/Gallagher_small/31_582.jpg']\n",
        "Score: 0.0461 for 15 and 31"
       ]
      },
      {
       "output_type": "stream",
       "stream": "stdout",
       "text": [
        "\n",
        "['../../images/testsets/Gallagher_small/15_154.jpg', '../../images/testsets/Gallagher_small/15_224.jpg']\n",
        "Score: -0.1000 for 15 and 15 (Less than two matches)"
       ]
      },
      {
       "output_type": "stream",
       "stream": "stdout",
       "text": [
        "\n",
        "['../../images/testsets/Gallagher_small/15_154.jpg', '../../images/testsets/Gallagher_small/23_508.jpg']\n",
        "Score: -0.0821 for 15 and 23"
       ]
      },
      {
       "output_type": "stream",
       "stream": "stdout",
       "text": [
        "\n",
        "['../../images/testsets/Gallagher_small/15_154.jpg', '../../images/testsets/Gallagher_small/18_220.jpg']\n",
        "Score: -0.1000 for 15 and 18 (Less than two matches)"
       ]
      },
      {
       "output_type": "stream",
       "stream": "stdout",
       "text": [
        "\n",
        "['../../images/testsets/Gallagher_small/15_154.jpg', '../../images/testsets/Gallagher_small/15_151.jpg']\n",
        "Score: 0.0767 for 15 and 15"
       ]
      },
      {
       "output_type": "stream",
       "stream": "stdout",
       "text": [
        "\n",
        "['../../images/testsets/Gallagher_small/15_154.jpg', '../../images/testsets/Gallagher_small/16_182.jpg']\n",
        "Score: -0.1000 for 15 and 16 (Less than two matches)"
       ]
      },
      {
       "output_type": "stream",
       "stream": "stdout",
       "text": [
        "\n",
        "['../../images/testsets/Gallagher_small/15_154.jpg', '../../images/testsets/Gallagher_small/23_875.jpg']\n",
        "Score: -0.1000 for 15 and 23 (Less than two matches)"
       ]
      },
      {
       "output_type": "stream",
       "stream": "stdout",
       "text": [
        "\n",
        "['../../images/testsets/Gallagher_small/15_154.jpg', '../../images/testsets/Gallagher_small/23_549.jpg']\n",
        "Score: -0.1000 for 15 and 23 (Less than two matches)"
       ]
      },
      {
       "output_type": "stream",
       "stream": "stdout",
       "text": [
        "\n",
        "['../../images/testsets/Gallagher_small/15_154.jpg', '../../images/testsets/Gallagher_small/32_648.jpg']\n",
        "Score: -0.1000 for 15 and 32 (Less than two matches)"
       ]
      },
      {
       "output_type": "stream",
       "stream": "stdout",
       "text": [
        "\n",
        "['../../images/testsets/Gallagher_small/15_154.jpg', '../../images/testsets/Gallagher_small/15_171.jpg']\n",
        "Score: -0.0261 for 15 and 15"
       ]
      },
      {
       "output_type": "stream",
       "stream": "stdout",
       "text": [
        "\n",
        "['../../images/testsets/Gallagher_small/15_154.jpg', '../../images/testsets/Gallagher_small/24_358.jpg']\n",
        "Score: -0.1014 for 15 and 24"
       ]
      },
      {
       "output_type": "stream",
       "stream": "stdout",
       "text": [
        "\n",
        "['../../images/testsets/Gallagher_small/15_154.jpg', '../../images/testsets/Gallagher_small/25_458.jpg']\n",
        "Score: -0.1000 for 15 and 25 (Less than two matches)"
       ]
      },
      {
       "output_type": "stream",
       "stream": "stdout",
       "text": [
        "\n",
        "['../../images/testsets/Gallagher_small/15_154.jpg', '../../images/testsets/Gallagher_small/30_569.jpg']\n",
        "Score: 0.0487 for 15 and 30"
       ]
      },
      {
       "output_type": "stream",
       "stream": "stdout",
       "text": [
        "\n",
        "['../../images/testsets/Gallagher_small/15_154.jpg', '../../images/testsets/Gallagher_small/32_645.jpg']\n",
        "Score: 0.0883 for 15 and 32"
       ]
      },
      {
       "output_type": "stream",
       "stream": "stdout",
       "text": [
        "\n",
        "['../../images/testsets/Gallagher_small/15_154.jpg', '../../images/testsets/Gallagher_small/29_538.jpg']\n",
        "Score: -0.1000 for 15 and 29 (Less than two matches)"
       ]
      },
      {
       "output_type": "stream",
       "stream": "stdout",
       "text": [
        "\n",
        "['../../images/testsets/Gallagher_small/15_154.jpg', '../../images/testsets/Gallagher_small/21_251.jpg']\n",
        "Score: -0.1000 for 15 and 21 (Less than two matches)"
       ]
      },
      {
       "output_type": "stream",
       "stream": "stdout",
       "text": [
        "\n",
        "['../../images/testsets/Gallagher_small/15_154.jpg', '../../images/testsets/Gallagher_small/20_249.jpg']\n",
        "Score: -0.1000 for 15 and 20 (Less than two matches)"
       ]
      },
      {
       "output_type": "stream",
       "stream": "stdout",
       "text": [
        "\n",
        "['../../images/testsets/Gallagher_small/15_154.jpg', '../../images/testsets/Gallagher_small/15_181.jpg']\n",
        "Score: -0.0951 for 15 and 15"
       ]
      },
      {
       "output_type": "stream",
       "stream": "stdout",
       "text": [
        "\n",
        "['../../images/testsets/Gallagher_small/15_154.jpg', '../../images/testsets/Gallagher_small/15_158.jpg']\n",
        "Score: 0.1266 for 15 and 15"
       ]
      },
      {
       "output_type": "stream",
       "stream": "stdout",
       "text": [
        "\n",
        "['../../images/testsets/Gallagher_small/15_154.jpg', '../../images/testsets/Gallagher_small/19_195.jpg']\n",
        "Score: -0.1000 for 15 and 19 (Less than two matches)"
       ]
      },
      {
       "output_type": "stream",
       "stream": "stdout",
       "text": [
        "\n",
        "['../../images/testsets/Gallagher_small/15_154.jpg', '../../images/testsets/Gallagher_small/19_193.jpg']\n",
        "Score: -0.1000 for 15 and 19 (Less than two matches)"
       ]
      },
      {
       "output_type": "stream",
       "stream": "stdout",
       "text": [
        "\n",
        "['../../images/testsets/Gallagher_small/15_154.jpg', '../../images/testsets/Gallagher_small/21_287.jpg']\n",
        "Score: 0.0338 for 15 and 21"
       ]
      },
      {
       "output_type": "stream",
       "stream": "stdout",
       "text": [
        "\n",
        "['../../images/testsets/Gallagher_small/15_154.jpg', '../../images/testsets/Gallagher_small/26_565.jpg']\n",
        "Score: -0.1000 for 15 and 26 (Less than two matches)"
       ]
      },
      {
       "output_type": "stream",
       "stream": "stdout",
       "text": [
        "\n",
        "['../../images/testsets/Gallagher_small/15_154.jpg', '../../images/testsets/Gallagher_small/27_509.jpg']\n",
        "Score: 0.0213 for 15 and 27"
       ]
      },
      {
       "output_type": "stream",
       "stream": "stdout",
       "text": [
        "\n",
        "['../../images/testsets/Gallagher_small/15_154.jpg', '../../images/testsets/Gallagher_small/15_169.jpg']\n",
        "Score: 0.0348 for 15 and 15"
       ]
      },
      {
       "output_type": "stream",
       "stream": "stdout",
       "text": [
        "\n",
        "['../../images/testsets/Gallagher_small/15_154.jpg', '../../images/testsets/Gallagher_small/15_167.jpg']\n",
        "Score: 0.0646 for 15 and 15"
       ]
      },
      {
       "output_type": "stream",
       "stream": "stdout",
       "text": [
        "\n",
        "['../../images/testsets/Gallagher_small/15_154.jpg', '../../images/testsets/Gallagher_small/21_587.jpg']\n",
        "Score: 0.0657 for 15 and 21"
       ]
      },
      {
       "output_type": "stream",
       "stream": "stdout",
       "text": [
        "\n",
        "['../../images/testsets/Gallagher_small/15_154.jpg', '../../images/testsets/Gallagher_small/15_222.jpg']\n",
        "Score: -0.1000 for 15 and 15 (Less than two matches)"
       ]
      },
      {
       "output_type": "stream",
       "stream": "stdout",
       "text": [
        "\n",
        "['../../images/testsets/Gallagher_small/15_154.jpg', '../../images/testsets/Gallagher_small/16_178.jpg']\n",
        "Score: -0.1000 for 15 and 16 (Less than two matches)"
       ]
      },
      {
       "output_type": "stream",
       "stream": "stdout",
       "text": [
        "\n",
        "['../../images/testsets/Gallagher_small/15_154.jpg', '../../images/testsets/Gallagher_small/17_165.jpg']\n",
        "Score: -0.1000 for 15 and 17 (Less than two matches)"
       ]
      },
      {
       "output_type": "stream",
       "stream": "stdout",
       "text": [
        "\n",
        "['../../images/testsets/Gallagher_small/15_154.jpg', '../../images/testsets/Gallagher_small/28_537.jpg']\n",
        "Score: -0.1000 for 15 and 28 (Less than two matches)"
       ]
      },
      {
       "output_type": "stream",
       "stream": "stdout",
       "text": [
        "\n",
        "['../../images/testsets/Gallagher_small/15_154.jpg', '../../images/testsets/Gallagher_small/27_524.jpg']\n",
        "Score: 0.0579 for 15 and 27"
       ]
      },
      {
       "output_type": "stream",
       "stream": "stdout",
       "text": [
        "\n",
        "['../../images/testsets/Gallagher_small/15_154.jpg', '../../images/testsets/Gallagher_small/13_163.jpg']\n",
        "Score: -0.1000 for 15 and 13 (Less than two matches)"
       ]
      },
      {
       "output_type": "stream",
       "stream": "stdout",
       "text": [
        "\n",
        "['../../images/testsets/Gallagher_small/15_154.jpg', '../../images/testsets/Gallagher_small/23_302.jpg']\n",
        "Score: -0.0226 for 15 and 23"
       ]
      },
      {
       "output_type": "stream",
       "stream": "stdout",
       "text": [
        "\n",
        "['../../images/testsets/Gallagher_small/25_431.jpg', '../../images/testsets/Gallagher_small/23_305.jpg']\n",
        "Score: -0.1267 for 25 and 23"
       ]
      },
      {
       "output_type": "stream",
       "stream": "stdout",
       "text": [
        "\n",
        "['../../images/testsets/Gallagher_small/25_431.jpg', '../../images/testsets/Gallagher_small/16_164.jpg']\n",
        "Score: -0.0238 for 25 and 16"
       ]
      },
      {
       "output_type": "stream",
       "stream": "stdout",
       "text": [
        "\n",
        "['../../images/testsets/Gallagher_small/25_431.jpg', '../../images/testsets/Gallagher_small/18_166.jpg']\n",
        "Score: -0.2898 for 25 and 18"
       ]
      },
      {
       "output_type": "stream",
       "stream": "stdout",
       "text": [
        "\n",
        "['../../images/testsets/Gallagher_small/25_431.jpg', '../../images/testsets/Gallagher_small/25_770.jpg']\n",
        "Score: 0.0322 for 25 and 25"
       ]
      },
      {
       "output_type": "stream",
       "stream": "stdout",
       "text": [
        "\n",
        "['../../images/testsets/Gallagher_small/25_431.jpg', '../../images/testsets/Gallagher_small/32_642.jpg']\n",
        "Score: -0.1000 for 25 and 32 (Less than two matches)"
       ]
      },
      {
       "output_type": "stream",
       "stream": "stdout",
       "text": [
        "\n",
        "['../../images/testsets/Gallagher_small/25_431.jpg', '../../images/testsets/Gallagher_small/19_198.jpg']\n",
        "Score: 0.0000 for 25 and 19"
       ]
      },
      {
       "output_type": "stream",
       "stream": "stdout",
       "text": [
        "\n",
        "['../../images/testsets/Gallagher_small/25_431.jpg', '../../images/testsets/Gallagher_small/21_294.jpg']\n",
        "Score: 0.0858 for 25 and 21"
       ]
      },
      {
       "output_type": "stream",
       "stream": "stdout",
       "text": [
        "\n",
        "['../../images/testsets/Gallagher_small/25_431.jpg', '../../images/testsets/Gallagher_small/14_206.jpg']\n",
        "Score: -0.1000 for 25 and 14 (Less than two matches)"
       ]
      },
      {
       "output_type": "stream",
       "stream": "stdout",
       "text": [
        "\n",
        "['../../images/testsets/Gallagher_small/25_431.jpg', '../../images/testsets/Gallagher_small/26_535.jpg']\n",
        "Score: -0.1000 for 25 and 26 (Less than two matches)"
       ]
      },
      {
       "output_type": "stream",
       "stream": "stdout",
       "text": [
        "\n",
        "['../../images/testsets/Gallagher_small/25_431.jpg', '../../images/testsets/Gallagher_small/22_255.jpg']\n",
        "Score: -0.1000 for 25 and 22 (Less than two matches)"
       ]
      },
      {
       "output_type": "stream",
       "stream": "stdout",
       "text": [
        "\n",
        "['../../images/testsets/Gallagher_small/25_431.jpg', '../../images/testsets/Gallagher_small/29_553.jpg']\n",
        "Score: 0.0821 for 25 and 29"
       ]
      },
      {
       "output_type": "stream",
       "stream": "stdout",
       "text": [
        "\n",
        "['../../images/testsets/Gallagher_small/25_431.jpg', '../../images/testsets/Gallagher_small/13_168.jpg']\n",
        "Score: -0.1000 for 25 and 13 (Less than two matches)"
       ]
      },
      {
       "output_type": "stream",
       "stream": "stdout",
       "text": [
        "\n",
        "['../../images/testsets/Gallagher_small/25_431.jpg', '../../images/testsets/Gallagher_small/28_552.jpg']\n",
        "Score: -0.1000 for 25 and 28 (Less than two matches)"
       ]
      },
      {
       "output_type": "stream",
       "stream": "stdout",
       "text": [
        "\n",
        "['../../images/testsets/Gallagher_small/25_431.jpg', '../../images/testsets/Gallagher_small/13_145.jpg']\n",
        "Score: -0.1000 for 25 and 13 (Less than two matches)"
       ]
      },
      {
       "output_type": "stream",
       "stream": "stdout",
       "text": [
        "\n",
        "['../../images/testsets/Gallagher_small/25_431.jpg', '../../images/testsets/Gallagher_small/14_207.jpg']\n",
        "Score: -0.1000 for 25 and 14 (Less than two matches)"
       ]
      },
      {
       "output_type": "stream",
       "stream": "stdout",
       "text": [
        "\n",
        "['../../images/testsets/Gallagher_small/25_431.jpg', '../../images/testsets/Gallagher_small/14_150.jpg']\n",
        "Score: -0.1000 for 25 and 14 (Less than two matches)"
       ]
      },
      {
       "output_type": "stream",
       "stream": "stdout",
       "text": [
        "\n",
        "['../../images/testsets/Gallagher_small/25_431.jpg', '../../images/testsets/Gallagher_small/27_566.jpg']\n",
        "Score: -0.1000 for 25 and 27 (Less than two matches)"
       ]
      },
      {
       "output_type": "stream",
       "stream": "stdout",
       "text": [
        "\n",
        "['../../images/testsets/Gallagher_small/25_431.jpg', '../../images/testsets/Gallagher_small/17_183.jpg']\n",
        "Score: -0.0145 for 25 and 17"
       ]
      },
      {
       "output_type": "stream",
       "stream": "stdout",
       "text": [
        "\n",
        "['../../images/testsets/Gallagher_small/25_431.jpg', '../../images/testsets/Gallagher_small/19_187.jpg']\n",
        "Score: -0.1000 for 25 and 19 (Less than two matches)"
       ]
      },
      {
       "output_type": "stream",
       "stream": "stdout",
       "text": [
        "\n",
        "['../../images/testsets/Gallagher_small/25_431.jpg', '../../images/testsets/Gallagher_small/31_580.jpg']\n",
        "Score: -0.1000 for 25 and 31 (Less than two matches)"
       ]
      },
      {
       "output_type": "stream",
       "stream": "stdout",
       "text": [
        "\n",
        "['../../images/testsets/Gallagher_small/25_431.jpg', '../../images/testsets/Gallagher_small/21_872.jpg']\n",
        "Score: -0.1000 for 25 and 21 (Less than two matches)"
       ]
      },
      {
       "output_type": "stream",
       "stream": "stdout",
       "text": [
        "\n",
        "['../../images/testsets/Gallagher_small/25_431.jpg', '../../images/testsets/Gallagher_small/23_307.jpg']\n",
        "Score: -0.1351 for 25 and 23"
       ]
      },
      {
       "output_type": "stream",
       "stream": "stdout",
       "text": [
        "\n",
        "['../../images/testsets/Gallagher_small/25_431.jpg', '../../images/testsets/Gallagher_small/25_462.jpg']\n",
        "Score: 0.0832 for 25 and 25"
       ]
      },
      {
       "output_type": "stream",
       "stream": "stdout",
       "text": [
        "\n",
        "['../../images/testsets/Gallagher_small/25_431.jpg', '../../images/testsets/Gallagher_small/23_534.jpg']\n",
        "Score: -0.1000 for 25 and 23 (Less than two matches)"
       ]
      },
      {
       "output_type": "stream",
       "stream": "stdout",
       "text": [
        "\n",
        "['../../images/testsets/Gallagher_small/25_431.jpg', '../../images/testsets/Gallagher_small/31_582.jpg']\n",
        "Score: -0.1000 for 25 and 31 (Less than two matches)"
       ]
      },
      {
       "output_type": "stream",
       "stream": "stdout",
       "text": [
        "\n",
        "['../../images/testsets/Gallagher_small/25_431.jpg', '../../images/testsets/Gallagher_small/15_224.jpg']\n",
        "Score: -0.1000 for 25 and 15 (Less than two matches)"
       ]
      },
      {
       "output_type": "stream",
       "stream": "stdout",
       "text": [
        "\n",
        "['../../images/testsets/Gallagher_small/25_431.jpg', '../../images/testsets/Gallagher_small/23_508.jpg']\n",
        "Score: 0.0374 for 25 and 23"
       ]
      },
      {
       "output_type": "stream",
       "stream": "stdout",
       "text": [
        "\n",
        "['../../images/testsets/Gallagher_small/25_431.jpg', '../../images/testsets/Gallagher_small/18_220.jpg']\n",
        "Score: -0.1000 for 25 and 18 (Less than two matches)"
       ]
      },
      {
       "output_type": "stream",
       "stream": "stdout",
       "text": [
        "\n",
        "['../../images/testsets/Gallagher_small/25_431.jpg', '../../images/testsets/Gallagher_small/15_151.jpg']\n",
        "Score: -0.1000 for 25 and 15 (Less than two matches)"
       ]
      },
      {
       "output_type": "stream",
       "stream": "stdout",
       "text": [
        "\n",
        "['../../images/testsets/Gallagher_small/25_431.jpg', '../../images/testsets/Gallagher_small/16_182.jpg']\n",
        "Score: -0.1000 for 25 and 16 (Less than two matches)"
       ]
      },
      {
       "output_type": "stream",
       "stream": "stdout",
       "text": [
        "\n",
        "['../../images/testsets/Gallagher_small/25_431.jpg', '../../images/testsets/Gallagher_small/23_875.jpg']\n",
        "Score: -0.2236 for 25 and 23"
       ]
      },
      {
       "output_type": "stream",
       "stream": "stdout",
       "text": [
        "\n",
        "['../../images/testsets/Gallagher_small/25_431.jpg', '../../images/testsets/Gallagher_small/23_549.jpg']\n",
        "Score: 0.0712 for 25 and 23"
       ]
      },
      {
       "output_type": "stream",
       "stream": "stdout",
       "text": [
        "\n",
        "['../../images/testsets/Gallagher_small/25_431.jpg', '../../images/testsets/Gallagher_small/32_648.jpg']\n",
        "Score: -0.1000 for 25 and 32 (Less than two matches)"
       ]
      },
      {
       "output_type": "stream",
       "stream": "stdout",
       "text": [
        "\n",
        "['../../images/testsets/Gallagher_small/25_431.jpg', '../../images/testsets/Gallagher_small/15_171.jpg']\n",
        "Score: -0.1000 for 25 and 15 (Less than two matches)"
       ]
      },
      {
       "output_type": "stream",
       "stream": "stdout",
       "text": [
        "\n",
        "['../../images/testsets/Gallagher_small/25_431.jpg', '../../images/testsets/Gallagher_small/24_358.jpg']\n",
        "Score: 0.0956 for 25 and 24"
       ]
      },
      {
       "output_type": "stream",
       "stream": "stdout",
       "text": [
        "\n",
        "['../../images/testsets/Gallagher_small/25_431.jpg', '../../images/testsets/Gallagher_small/25_458.jpg']\n",
        "Score: 0.1027 for 25 and 25"
       ]
      },
      {
       "output_type": "stream",
       "stream": "stdout",
       "text": [
        "\n",
        "['../../images/testsets/Gallagher_small/25_431.jpg', '../../images/testsets/Gallagher_small/30_569.jpg']\n",
        "Score: -0.1000 for 25 and 30 (Less than two matches)"
       ]
      },
      {
       "output_type": "stream",
       "stream": "stdout",
       "text": [
        "\n",
        "['../../images/testsets/Gallagher_small/25_431.jpg', '../../images/testsets/Gallagher_small/32_645.jpg']\n",
        "Score: -0.1000 for 25 and 32 (Less than two matches)"
       ]
      },
      {
       "output_type": "stream",
       "stream": "stdout",
       "text": [
        "\n",
        "['../../images/testsets/Gallagher_small/25_431.jpg', '../../images/testsets/Gallagher_small/29_538.jpg']\n",
        "Score: -0.1000 for 25 and 29 (Less than two matches)"
       ]
      },
      {
       "output_type": "stream",
       "stream": "stdout",
       "text": [
        "\n",
        "['../../images/testsets/Gallagher_small/25_431.jpg', '../../images/testsets/Gallagher_small/21_251.jpg']\n",
        "Score: -0.1000 for 25 and 21 (Less than two matches)"
       ]
      },
      {
       "output_type": "stream",
       "stream": "stdout",
       "text": [
        "\n",
        "['../../images/testsets/Gallagher_small/25_431.jpg', '../../images/testsets/Gallagher_small/20_249.jpg']\n",
        "Score: 0.0749 for 25 and 20"
       ]
      },
      {
       "output_type": "stream",
       "stream": "stdout",
       "text": [
        "\n",
        "['../../images/testsets/Gallagher_small/25_431.jpg', '../../images/testsets/Gallagher_small/15_181.jpg']\n",
        "Score: -0.1000 for 25 and 15 (Less than two matches)"
       ]
      },
      {
       "output_type": "stream",
       "stream": "stdout",
       "text": [
        "\n",
        "['../../images/testsets/Gallagher_small/25_431.jpg', '../../images/testsets/Gallagher_small/15_158.jpg']\n",
        "Score: 0.0650 for 25 and 15"
       ]
      },
      {
       "output_type": "stream",
       "stream": "stdout",
       "text": [
        "\n",
        "['../../images/testsets/Gallagher_small/25_431.jpg', '../../images/testsets/Gallagher_small/19_195.jpg']\n",
        "Score: -0.0027 for 25 and 19"
       ]
      },
      {
       "output_type": "stream",
       "stream": "stdout",
       "text": [
        "\n",
        "['../../images/testsets/Gallagher_small/25_431.jpg', '../../images/testsets/Gallagher_small/19_193.jpg']\n",
        "Score: -0.1000 for 25 and 19 (Less than two matches)"
       ]
      },
      {
       "output_type": "stream",
       "stream": "stdout",
       "text": [
        "\n",
        "['../../images/testsets/Gallagher_small/25_431.jpg', '../../images/testsets/Gallagher_small/21_287.jpg']\n",
        "Score: 0.0879 for 25 and 21"
       ]
      },
      {
       "output_type": "stream",
       "stream": "stdout",
       "text": [
        "\n",
        "['../../images/testsets/Gallagher_small/25_431.jpg', '../../images/testsets/Gallagher_small/26_565.jpg']\n",
        "Score: -0.0066 for 25 and 26"
       ]
      },
      {
       "output_type": "stream",
       "stream": "stdout",
       "text": [
        "\n",
        "['../../images/testsets/Gallagher_small/25_431.jpg', '../../images/testsets/Gallagher_small/27_509.jpg']\n",
        "Score: -0.1000 for 25 and 27 (Less than two matches)"
       ]
      },
      {
       "output_type": "stream",
       "stream": "stdout",
       "text": [
        "\n",
        "['../../images/testsets/Gallagher_small/25_431.jpg', '../../images/testsets/Gallagher_small/15_169.jpg']\n",
        "Score: -0.1000 for 25 and 15 (Less than two matches)"
       ]
      },
      {
       "output_type": "stream",
       "stream": "stdout",
       "text": [
        "\n",
        "['../../images/testsets/Gallagher_small/25_431.jpg', '../../images/testsets/Gallagher_small/15_167.jpg']\n",
        "Score: -0.2378 for 25 and 15"
       ]
      },
      {
       "output_type": "stream",
       "stream": "stdout",
       "text": [
        "\n",
        "['../../images/testsets/Gallagher_small/25_431.jpg', '../../images/testsets/Gallagher_small/21_587.jpg']\n",
        "Score: -0.1000 for 25 and 21 (Less than two matches)"
       ]
      },
      {
       "output_type": "stream",
       "stream": "stdout",
       "text": [
        "\n",
        "['../../images/testsets/Gallagher_small/25_431.jpg', '../../images/testsets/Gallagher_small/15_222.jpg']\n",
        "Score: -0.1000 for 25 and 15 (Less than two matches)"
       ]
      },
      {
       "output_type": "stream",
       "stream": "stdout",
       "text": [
        "\n",
        "['../../images/testsets/Gallagher_small/25_431.jpg', '../../images/testsets/Gallagher_small/16_178.jpg']\n",
        "Score: -0.1000 for 25 and 16 (Less than two matches)"
       ]
      },
      {
       "output_type": "stream",
       "stream": "stdout",
       "text": [
        "\n",
        "['../../images/testsets/Gallagher_small/25_431.jpg', '../../images/testsets/Gallagher_small/17_165.jpg']\n",
        "Score: -0.1000 for 25 and 17 (Less than two matches)"
       ]
      },
      {
       "output_type": "stream",
       "stream": "stdout",
       "text": [
        "\n",
        "['../../images/testsets/Gallagher_small/25_431.jpg', '../../images/testsets/Gallagher_small/28_537.jpg']\n",
        "Score: -0.1000 for 25 and 28 (Less than two matches)"
       ]
      },
      {
       "output_type": "stream",
       "stream": "stdout",
       "text": [
        "\n",
        "['../../images/testsets/Gallagher_small/25_431.jpg', '../../images/testsets/Gallagher_small/27_524.jpg']\n",
        "Score: 0.0827 for 25 and 27"
       ]
      },
      {
       "output_type": "stream",
       "stream": "stdout",
       "text": [
        "\n",
        "['../../images/testsets/Gallagher_small/25_431.jpg', '../../images/testsets/Gallagher_small/13_163.jpg']\n",
        "Score: -0.0935 for 25 and 13"
       ]
      },
      {
       "output_type": "stream",
       "stream": "stdout",
       "text": [
        "\n",
        "['../../images/testsets/Gallagher_small/25_431.jpg', '../../images/testsets/Gallagher_small/23_302.jpg']\n",
        "Score: 0.0830 for 25 and 23"
       ]
      },
      {
       "output_type": "stream",
       "stream": "stdout",
       "text": [
        "\n",
        "['../../images/testsets/Gallagher_small/23_305.jpg', '../../images/testsets/Gallagher_small/16_164.jpg']\n",
        "Score: 0.0092 for 23 and 16"
       ]
      },
      {
       "output_type": "stream",
       "stream": "stdout",
       "text": [
        "\n",
        "['../../images/testsets/Gallagher_small/23_305.jpg', '../../images/testsets/Gallagher_small/18_166.jpg']\n",
        "Score: -0.0829 for 23 and 18"
       ]
      },
      {
       "output_type": "stream",
       "stream": "stdout",
       "text": [
        "\n",
        "['../../images/testsets/Gallagher_small/23_305.jpg', '../../images/testsets/Gallagher_small/25_770.jpg']\n",
        "Score: 0.0678 for 23 and 25"
       ]
      },
      {
       "output_type": "stream",
       "stream": "stdout",
       "text": [
        "\n",
        "['../../images/testsets/Gallagher_small/23_305.jpg', '../../images/testsets/Gallagher_small/32_642.jpg']\n",
        "Score: 0.0759 for 23 and 32"
       ]
      },
      {
       "output_type": "stream",
       "stream": "stdout",
       "text": [
        "\n",
        "['../../images/testsets/Gallagher_small/23_305.jpg', '../../images/testsets/Gallagher_small/19_198.jpg']\n",
        "Score: 0.0461 for 23 and 19"
       ]
      },
      {
       "output_type": "stream",
       "stream": "stdout",
       "text": [
        "\n",
        "['../../images/testsets/Gallagher_small/23_305.jpg', '../../images/testsets/Gallagher_small/21_294.jpg']\n",
        "Score: 0.0842 for 23 and 21"
       ]
      },
      {
       "output_type": "stream",
       "stream": "stdout",
       "text": [
        "\n",
        "['../../images/testsets/Gallagher_small/23_305.jpg', '../../images/testsets/Gallagher_small/14_206.jpg']\n",
        "Score: 0.0673 for 23 and 14"
       ]
      },
      {
       "output_type": "stream",
       "stream": "stdout",
       "text": [
        "\n",
        "['../../images/testsets/Gallagher_small/23_305.jpg', '../../images/testsets/Gallagher_small/26_535.jpg']\n",
        "Score: -0.1000 for 23 and 26 (Less than two matches)"
       ]
      },
      {
       "output_type": "stream",
       "stream": "stdout",
       "text": [
        "\n",
        "['../../images/testsets/Gallagher_small/23_305.jpg', '../../images/testsets/Gallagher_small/22_255.jpg']\n",
        "Score: -0.1000 for 23 and 22 (Less than two matches)"
       ]
      },
      {
       "output_type": "stream",
       "stream": "stdout",
       "text": [
        "\n",
        "['../../images/testsets/Gallagher_small/23_305.jpg', '../../images/testsets/Gallagher_small/29_553.jpg']\n",
        "Score: 0.0156 for 23 and 29"
       ]
      },
      {
       "output_type": "stream",
       "stream": "stdout",
       "text": [
        "\n",
        "['../../images/testsets/Gallagher_small/23_305.jpg', '../../images/testsets/Gallagher_small/13_168.jpg']\n",
        "Score: 0.0990 for 23 and 13"
       ]
      },
      {
       "output_type": "stream",
       "stream": "stdout",
       "text": [
        "\n",
        "['../../images/testsets/Gallagher_small/23_305.jpg', '../../images/testsets/Gallagher_small/28_552.jpg']\n",
        "Score: -0.0346 for 23 and 28"
       ]
      },
      {
       "output_type": "stream",
       "stream": "stdout",
       "text": [
        "\n",
        "['../../images/testsets/Gallagher_small/23_305.jpg', '../../images/testsets/Gallagher_small/13_145.jpg']\n",
        "Score: -0.1000 for 23 and 13 (Less than two matches)"
       ]
      },
      {
       "output_type": "stream",
       "stream": "stdout",
       "text": [
        "\n",
        "['../../images/testsets/Gallagher_small/23_305.jpg', '../../images/testsets/Gallagher_small/14_207.jpg']\n",
        "Score: 0.0939 for 23 and 14"
       ]
      },
      {
       "output_type": "stream",
       "stream": "stdout",
       "text": [
        "\n",
        "['../../images/testsets/Gallagher_small/23_305.jpg', '../../images/testsets/Gallagher_small/14_150.jpg']\n",
        "Score: -0.0770 for 23 and 14"
       ]
      },
      {
       "output_type": "stream",
       "stream": "stdout",
       "text": [
        "\n",
        "['../../images/testsets/Gallagher_small/23_305.jpg', '../../images/testsets/Gallagher_small/27_566.jpg']\n",
        "Score: -0.1000 for 23 and 27 (Less than two matches)"
       ]
      },
      {
       "output_type": "stream",
       "stream": "stdout",
       "text": [
        "\n",
        "['../../images/testsets/Gallagher_small/23_305.jpg', '../../images/testsets/Gallagher_small/17_183.jpg']\n",
        "Score: 0.0177 for 23 and 17"
       ]
      },
      {
       "output_type": "stream",
       "stream": "stdout",
       "text": [
        "\n",
        "['../../images/testsets/Gallagher_small/23_305.jpg', '../../images/testsets/Gallagher_small/19_187.jpg']\n",
        "Score: -0.1000 for 23 and 19 (Less than two matches)"
       ]
      },
      {
       "output_type": "stream",
       "stream": "stdout",
       "text": [
        "\n",
        "['../../images/testsets/Gallagher_small/23_305.jpg', '../../images/testsets/Gallagher_small/31_580.jpg']\n",
        "Score: 0.0881 for 23 and 31"
       ]
      },
      {
       "output_type": "stream",
       "stream": "stdout",
       "text": [
        "\n",
        "['../../images/testsets/Gallagher_small/23_305.jpg', '../../images/testsets/Gallagher_small/21_872.jpg']\n",
        "Score: 0.0776 for 23 and 21"
       ]
      },
      {
       "output_type": "stream",
       "stream": "stdout",
       "text": [
        "\n",
        "['../../images/testsets/Gallagher_small/23_305.jpg', '../../images/testsets/Gallagher_small/23_307.jpg']\n",
        "Score: 0.1049 for 23 and 23"
       ]
      },
      {
       "output_type": "stream",
       "stream": "stdout",
       "text": [
        "\n",
        "['../../images/testsets/Gallagher_small/23_305.jpg', '../../images/testsets/Gallagher_small/25_462.jpg']\n",
        "Score: 0.0582 for 23 and 25"
       ]
      },
      {
       "output_type": "stream",
       "stream": "stdout",
       "text": [
        "\n",
        "['../../images/testsets/Gallagher_small/23_305.jpg', '../../images/testsets/Gallagher_small/23_534.jpg']\n",
        "Score: -0.1000 for 23 and 23 (Less than two matches)"
       ]
      },
      {
       "output_type": "stream",
       "stream": "stdout",
       "text": [
        "\n",
        "['../../images/testsets/Gallagher_small/23_305.jpg', '../../images/testsets/Gallagher_small/31_582.jpg']\n",
        "Score: 0.0607 for 23 and 31"
       ]
      },
      {
       "output_type": "stream",
       "stream": "stdout",
       "text": [
        "\n",
        "['../../images/testsets/Gallagher_small/23_305.jpg', '../../images/testsets/Gallagher_small/15_224.jpg']\n",
        "Score: 0.0932 for 23 and 15"
       ]
      },
      {
       "output_type": "stream",
       "stream": "stdout",
       "text": [
        "\n",
        "['../../images/testsets/Gallagher_small/23_305.jpg', '../../images/testsets/Gallagher_small/23_508.jpg']\n",
        "Score: 0.0332 for 23 and 23"
       ]
      },
      {
       "output_type": "stream",
       "stream": "stdout",
       "text": [
        "\n",
        "['../../images/testsets/Gallagher_small/23_305.jpg', '../../images/testsets/Gallagher_small/18_220.jpg']\n",
        "Score: 0.1741 for 23 and 18"
       ]
      },
      {
       "output_type": "stream",
       "stream": "stdout",
       "text": [
        "\n",
        "['../../images/testsets/Gallagher_small/23_305.jpg', '../../images/testsets/Gallagher_small/15_151.jpg']\n",
        "Score: 0.0111 for 23 and 15"
       ]
      },
      {
       "output_type": "stream",
       "stream": "stdout",
       "text": [
        "\n",
        "['../../images/testsets/Gallagher_small/23_305.jpg', '../../images/testsets/Gallagher_small/16_182.jpg']\n",
        "Score: 0.0615 for 23 and 16"
       ]
      },
      {
       "output_type": "stream",
       "stream": "stdout",
       "text": [
        "\n",
        "['../../images/testsets/Gallagher_small/23_305.jpg', '../../images/testsets/Gallagher_small/23_875.jpg']\n",
        "Score: -0.0358 for 23 and 23"
       ]
      },
      {
       "output_type": "stream",
       "stream": "stdout",
       "text": [
        "\n",
        "['../../images/testsets/Gallagher_small/23_305.jpg', '../../images/testsets/Gallagher_small/23_549.jpg']\n",
        "Score: 0.0360 for 23 and 23"
       ]
      },
      {
       "output_type": "stream",
       "stream": "stdout",
       "text": [
        "\n",
        "['../../images/testsets/Gallagher_small/23_305.jpg', '../../images/testsets/Gallagher_small/32_648.jpg']\n",
        "Score: -0.1000 for 23 and 32 (Less than two matches)"
       ]
      },
      {
       "output_type": "stream",
       "stream": "stdout",
       "text": [
        "\n",
        "['../../images/testsets/Gallagher_small/23_305.jpg', '../../images/testsets/Gallagher_small/15_171.jpg']\n",
        "Score: 0.0903 for 23 and 15"
       ]
      },
      {
       "output_type": "stream",
       "stream": "stdout",
       "text": [
        "\n",
        "['../../images/testsets/Gallagher_small/23_305.jpg', '../../images/testsets/Gallagher_small/24_358.jpg']\n",
        "Score: -0.0111 for 23 and 24"
       ]
      },
      {
       "output_type": "stream",
       "stream": "stdout",
       "text": [
        "\n",
        "['../../images/testsets/Gallagher_small/23_305.jpg', '../../images/testsets/Gallagher_small/25_458.jpg']\n",
        "Score: 0.0760 for 23 and 25"
       ]
      },
      {
       "output_type": "stream",
       "stream": "stdout",
       "text": [
        "\n",
        "['../../images/testsets/Gallagher_small/23_305.jpg', '../../images/testsets/Gallagher_small/30_569.jpg']\n",
        "Score: -0.0284 for 23 and 30"
       ]
      },
      {
       "output_type": "stream",
       "stream": "stdout",
       "text": [
        "\n",
        "['../../images/testsets/Gallagher_small/23_305.jpg', '../../images/testsets/Gallagher_small/32_645.jpg']\n",
        "Score: -0.1000 for 23 and 32 (Less than two matches)"
       ]
      },
      {
       "output_type": "stream",
       "stream": "stdout",
       "text": [
        "\n",
        "['../../images/testsets/Gallagher_small/23_305.jpg', '../../images/testsets/Gallagher_small/29_538.jpg']\n",
        "Score: -0.1000 for 23 and 29 (Less than two matches)"
       ]
      },
      {
       "output_type": "stream",
       "stream": "stdout",
       "text": [
        "\n",
        "['../../images/testsets/Gallagher_small/23_305.jpg', '../../images/testsets/Gallagher_small/21_251.jpg']\n",
        "Score: 0.0050 for 23 and 21"
       ]
      },
      {
       "output_type": "stream",
       "stream": "stdout",
       "text": [
        "\n",
        "['../../images/testsets/Gallagher_small/23_305.jpg', '../../images/testsets/Gallagher_small/20_249.jpg']\n",
        "Score: -0.1000 for 23 and 20 (Less than two matches)"
       ]
      },
      {
       "output_type": "stream",
       "stream": "stdout",
       "text": [
        "\n",
        "['../../images/testsets/Gallagher_small/23_305.jpg', '../../images/testsets/Gallagher_small/15_181.jpg']\n",
        "Score: 0.0640 for 23 and 15"
       ]
      },
      {
       "output_type": "stream",
       "stream": "stdout",
       "text": [
        "\n",
        "['../../images/testsets/Gallagher_small/23_305.jpg', '../../images/testsets/Gallagher_small/15_158.jpg']\n",
        "Score: 0.0302 for 23 and 15"
       ]
      },
      {
       "output_type": "stream",
       "stream": "stdout",
       "text": [
        "\n",
        "['../../images/testsets/Gallagher_small/23_305.jpg', '../../images/testsets/Gallagher_small/19_195.jpg']\n",
        "Score: 0.0277 for 23 and 19"
       ]
      },
      {
       "output_type": "stream",
       "stream": "stdout",
       "text": [
        "\n",
        "['../../images/testsets/Gallagher_small/23_305.jpg', '../../images/testsets/Gallagher_small/19_193.jpg']\n",
        "Score: -0.1000 for 23 and 19 (Less than two matches)"
       ]
      },
      {
       "output_type": "stream",
       "stream": "stdout",
       "text": [
        "\n",
        "['../../images/testsets/Gallagher_small/23_305.jpg', '../../images/testsets/Gallagher_small/21_287.jpg']\n",
        "Score: 0.0108 for 23 and 21"
       ]
      },
      {
       "output_type": "stream",
       "stream": "stdout",
       "text": [
        "\n",
        "['../../images/testsets/Gallagher_small/23_305.jpg', '../../images/testsets/Gallagher_small/26_565.jpg']\n",
        "Score: -0.1000 for 23 and 26 (Less than two matches)"
       ]
      },
      {
       "output_type": "stream",
       "stream": "stdout",
       "text": [
        "\n",
        "['../../images/testsets/Gallagher_small/23_305.jpg', '../../images/testsets/Gallagher_small/27_509.jpg']\n",
        "Score: -0.0619 for 23 and 27"
       ]
      },
      {
       "output_type": "stream",
       "stream": "stdout",
       "text": [
        "\n",
        "['../../images/testsets/Gallagher_small/23_305.jpg', '../../images/testsets/Gallagher_small/15_169.jpg']\n",
        "Score: 0.0596 for 23 and 15"
       ]
      },
      {
       "output_type": "stream",
       "stream": "stdout",
       "text": [
        "\n",
        "['../../images/testsets/Gallagher_small/23_305.jpg', '../../images/testsets/Gallagher_small/15_167.jpg']\n",
        "Score: 0.0096 for 23 and 15"
       ]
      },
      {
       "output_type": "stream",
       "stream": "stdout",
       "text": [
        "\n",
        "['../../images/testsets/Gallagher_small/23_305.jpg', '../../images/testsets/Gallagher_small/21_587.jpg']\n",
        "Score: 0.1175 for 23 and 21"
       ]
      },
      {
       "output_type": "stream",
       "stream": "stdout",
       "text": [
        "\n",
        "['../../images/testsets/Gallagher_small/23_305.jpg', '../../images/testsets/Gallagher_small/15_222.jpg']\n",
        "Score: -0.1000 for 23 and 15 (Less than two matches)"
       ]
      },
      {
       "output_type": "stream",
       "stream": "stdout",
       "text": [
        "\n",
        "['../../images/testsets/Gallagher_small/23_305.jpg', '../../images/testsets/Gallagher_small/16_178.jpg']\n",
        "Score: -0.1000 for 23 and 16 (Less than two matches)"
       ]
      },
      {
       "output_type": "stream",
       "stream": "stdout",
       "text": [
        "\n",
        "['../../images/testsets/Gallagher_small/23_305.jpg', '../../images/testsets/Gallagher_small/17_165.jpg']\n",
        "Score: -0.1000 for 23 and 17 (Less than two matches)"
       ]
      },
      {
       "output_type": "stream",
       "stream": "stdout",
       "text": [
        "\n",
        "['../../images/testsets/Gallagher_small/23_305.jpg', '../../images/testsets/Gallagher_small/28_537.jpg']\n",
        "Score: -0.1000 for 23 and 28 (Less than two matches)"
       ]
      },
      {
       "output_type": "stream",
       "stream": "stdout",
       "text": [
        "\n",
        "['../../images/testsets/Gallagher_small/23_305.jpg', '../../images/testsets/Gallagher_small/27_524.jpg']\n",
        "Score: -0.1000 for 23 and 27 (Less than two matches)"
       ]
      },
      {
       "output_type": "stream",
       "stream": "stdout",
       "text": [
        "\n",
        "['../../images/testsets/Gallagher_small/23_305.jpg', '../../images/testsets/Gallagher_small/13_163.jpg']\n",
        "Score: 0.0234 for 23 and 13"
       ]
      },
      {
       "output_type": "stream",
       "stream": "stdout",
       "text": [
        "\n",
        "['../../images/testsets/Gallagher_small/23_305.jpg', '../../images/testsets/Gallagher_small/23_302.jpg']\n",
        "Score: -0.0279 for 23 and 23"
       ]
      },
      {
       "output_type": "stream",
       "stream": "stdout",
       "text": [
        "\n",
        "['../../images/testsets/Gallagher_small/16_164.jpg', '../../images/testsets/Gallagher_small/18_166.jpg']\n",
        "Score: 0.0272 for 16 and 18"
       ]
      },
      {
       "output_type": "stream",
       "stream": "stdout",
       "text": [
        "\n",
        "['../../images/testsets/Gallagher_small/16_164.jpg', '../../images/testsets/Gallagher_small/25_770.jpg']\n",
        "Score: 0.0408 for 16 and 25"
       ]
      },
      {
       "output_type": "stream",
       "stream": "stdout",
       "text": [
        "\n",
        "['../../images/testsets/Gallagher_small/16_164.jpg', '../../images/testsets/Gallagher_small/32_642.jpg']\n",
        "Score: -0.1000 for 16 and 32 (Less than two matches)"
       ]
      },
      {
       "output_type": "stream",
       "stream": "stdout",
       "text": [
        "\n",
        "['../../images/testsets/Gallagher_small/16_164.jpg', '../../images/testsets/Gallagher_small/19_198.jpg']\n",
        "Score: 0.0486 for 16 and 19"
       ]
      },
      {
       "output_type": "stream",
       "stream": "stdout",
       "text": [
        "\n",
        "['../../images/testsets/Gallagher_small/16_164.jpg', '../../images/testsets/Gallagher_small/21_294.jpg']\n",
        "Score: 0.0831 for 16 and 21"
       ]
      },
      {
       "output_type": "stream",
       "stream": "stdout",
       "text": [
        "\n",
        "['../../images/testsets/Gallagher_small/16_164.jpg', '../../images/testsets/Gallagher_small/14_206.jpg']\n",
        "Score: -0.1000 for 16 and 14 (Less than two matches)"
       ]
      },
      {
       "output_type": "stream",
       "stream": "stdout",
       "text": [
        "\n",
        "['../../images/testsets/Gallagher_small/16_164.jpg', '../../images/testsets/Gallagher_small/26_535.jpg']\n",
        "Score: 0.0127 for 16 and 26"
       ]
      },
      {
       "output_type": "stream",
       "stream": "stdout",
       "text": [
        "\n",
        "['../../images/testsets/Gallagher_small/16_164.jpg', '../../images/testsets/Gallagher_small/22_255.jpg']\n",
        "Score: 0.0257 for 16 and 22"
       ]
      },
      {
       "output_type": "stream",
       "stream": "stdout",
       "text": [
        "\n",
        "['../../images/testsets/Gallagher_small/16_164.jpg', '../../images/testsets/Gallagher_small/29_553.jpg']\n",
        "Score: -0.0512 for 16 and 29"
       ]
      },
      {
       "output_type": "stream",
       "stream": "stdout",
       "text": [
        "\n",
        "['../../images/testsets/Gallagher_small/16_164.jpg', '../../images/testsets/Gallagher_small/13_168.jpg']\n",
        "Score: 0.0418 for 16 and 13"
       ]
      },
      {
       "output_type": "stream",
       "stream": "stdout",
       "text": [
        "\n",
        "['../../images/testsets/Gallagher_small/16_164.jpg', '../../images/testsets/Gallagher_small/28_552.jpg']\n",
        "Score: 0.0960 for 16 and 28"
       ]
      },
      {
       "output_type": "stream",
       "stream": "stdout",
       "text": [
        "\n",
        "['../../images/testsets/Gallagher_small/16_164.jpg', '../../images/testsets/Gallagher_small/13_145.jpg']\n",
        "Score: 0.0257 for 16 and 13"
       ]
      },
      {
       "output_type": "stream",
       "stream": "stdout",
       "text": [
        "\n",
        "['../../images/testsets/Gallagher_small/16_164.jpg', '../../images/testsets/Gallagher_small/14_207.jpg']\n",
        "Score: -0.1000 for 16 and 14 (Less than two matches)"
       ]
      },
      {
       "output_type": "stream",
       "stream": "stdout",
       "text": [
        "\n",
        "['../../images/testsets/Gallagher_small/16_164.jpg', '../../images/testsets/Gallagher_small/14_150.jpg']\n",
        "Score: 0.0413 for 16 and 14"
       ]
      },
      {
       "output_type": "stream",
       "stream": "stdout",
       "text": [
        "\n",
        "['../../images/testsets/Gallagher_small/16_164.jpg', '../../images/testsets/Gallagher_small/27_566.jpg']\n",
        "Score: 0.0279 for 16 and 27"
       ]
      },
      {
       "output_type": "stream",
       "stream": "stdout",
       "text": [
        "\n",
        "['../../images/testsets/Gallagher_small/16_164.jpg', '../../images/testsets/Gallagher_small/17_183.jpg']\n",
        "Score: -0.0141 for 16 and 17"
       ]
      },
      {
       "output_type": "stream",
       "stream": "stdout",
       "text": [
        "\n",
        "['../../images/testsets/Gallagher_small/16_164.jpg', '../../images/testsets/Gallagher_small/19_187.jpg']\n",
        "Score: -0.1000 for 16 and 19 (Less than two matches)"
       ]
      },
      {
       "output_type": "stream",
       "stream": "stdout",
       "text": [
        "\n",
        "['../../images/testsets/Gallagher_small/16_164.jpg', '../../images/testsets/Gallagher_small/31_580.jpg']\n",
        "Score: -0.1000 for 16 and 31 (Less than two matches)"
       ]
      },
      {
       "output_type": "stream",
       "stream": "stdout",
       "text": [
        "\n",
        "['../../images/testsets/Gallagher_small/16_164.jpg', '../../images/testsets/Gallagher_small/21_872.jpg']\n",
        "Score: 0.0777 for 16 and 21"
       ]
      },
      {
       "output_type": "stream",
       "stream": "stdout",
       "text": [
        "\n",
        "['../../images/testsets/Gallagher_small/16_164.jpg', '../../images/testsets/Gallagher_small/23_307.jpg']\n",
        "Score: 0.0305 for 16 and 23"
       ]
      },
      {
       "output_type": "stream",
       "stream": "stdout",
       "text": [
        "\n",
        "['../../images/testsets/Gallagher_small/16_164.jpg', '../../images/testsets/Gallagher_small/25_462.jpg']\n",
        "Score: 0.0375 for 16 and 25"
       ]
      },
      {
       "output_type": "stream",
       "stream": "stdout",
       "text": [
        "\n",
        "['../../images/testsets/Gallagher_small/16_164.jpg', '../../images/testsets/Gallagher_small/23_534.jpg']\n",
        "Score: -0.1000 for 16 and 23 (Less than two matches)"
       ]
      },
      {
       "output_type": "stream",
       "stream": "stdout",
       "text": [
        "\n",
        "['../../images/testsets/Gallagher_small/16_164.jpg', '../../images/testsets/Gallagher_small/31_582.jpg']\n",
        "Score: -0.0205 for 16 and 31"
       ]
      },
      {
       "output_type": "stream",
       "stream": "stdout",
       "text": [
        "\n",
        "['../../images/testsets/Gallagher_small/16_164.jpg', '../../images/testsets/Gallagher_small/15_224.jpg']\n",
        "Score: 0.0529 for 16 and 15"
       ]
      },
      {
       "output_type": "stream",
       "stream": "stdout",
       "text": [
        "\n",
        "['../../images/testsets/Gallagher_small/16_164.jpg', '../../images/testsets/Gallagher_small/23_508.jpg']\n",
        "Score: 0.0459 for 16 and 23"
       ]
      },
      {
       "output_type": "stream",
       "stream": "stdout",
       "text": [
        "\n",
        "['../../images/testsets/Gallagher_small/16_164.jpg', '../../images/testsets/Gallagher_small/18_220.jpg']\n",
        "Score: -0.0224 for 16 and 18"
       ]
      },
      {
       "output_type": "stream",
       "stream": "stdout",
       "text": [
        "\n",
        "['../../images/testsets/Gallagher_small/16_164.jpg', '../../images/testsets/Gallagher_small/15_151.jpg']\n",
        "Score: -0.1000 for 16 and 15 (Less than two matches)"
       ]
      },
      {
       "output_type": "stream",
       "stream": "stdout",
       "text": [
        "\n",
        "['../../images/testsets/Gallagher_small/16_164.jpg', '../../images/testsets/Gallagher_small/16_182.jpg']\n",
        "Score: 0.0444 for 16 and 16"
       ]
      },
      {
       "output_type": "stream",
       "stream": "stdout",
       "text": [
        "\n",
        "['../../images/testsets/Gallagher_small/16_164.jpg', '../../images/testsets/Gallagher_small/23_875.jpg']\n",
        "Score: 0.0394 for 16 and 23"
       ]
      },
      {
       "output_type": "stream",
       "stream": "stdout",
       "text": [
        "\n",
        "['../../images/testsets/Gallagher_small/16_164.jpg', '../../images/testsets/Gallagher_small/23_549.jpg']\n",
        "Score: 0.0152 for 16 and 23"
       ]
      },
      {
       "output_type": "stream",
       "stream": "stdout",
       "text": [
        "\n",
        "['../../images/testsets/Gallagher_small/16_164.jpg', '../../images/testsets/Gallagher_small/32_648.jpg']\n",
        "Score: -0.1000 for 16 and 32 (Less than two matches)"
       ]
      },
      {
       "output_type": "stream",
       "stream": "stdout",
       "text": [
        "\n",
        "['../../images/testsets/Gallagher_small/16_164.jpg', '../../images/testsets/Gallagher_small/15_171.jpg']\n",
        "Score: 0.0522 for 16 and 15"
       ]
      },
      {
       "output_type": "stream",
       "stream": "stdout",
       "text": [
        "\n",
        "['../../images/testsets/Gallagher_small/16_164.jpg', '../../images/testsets/Gallagher_small/24_358.jpg']\n",
        "Score: 0.0608 for 16 and 24"
       ]
      },
      {
       "output_type": "stream",
       "stream": "stdout",
       "text": [
        "\n",
        "['../../images/testsets/Gallagher_small/16_164.jpg', '../../images/testsets/Gallagher_small/25_458.jpg']\n",
        "Score: 0.0416 for 16 and 25"
       ]
      },
      {
       "output_type": "stream",
       "stream": "stdout",
       "text": [
        "\n",
        "['../../images/testsets/Gallagher_small/16_164.jpg', '../../images/testsets/Gallagher_small/30_569.jpg']\n",
        "Score: 0.0118 for 16 and 30"
       ]
      },
      {
       "output_type": "stream",
       "stream": "stdout",
       "text": [
        "\n",
        "['../../images/testsets/Gallagher_small/16_164.jpg', '../../images/testsets/Gallagher_small/32_645.jpg']\n",
        "Score: 0.0065 for 16 and 32"
       ]
      },
      {
       "output_type": "stream",
       "stream": "stdout",
       "text": [
        "\n",
        "['../../images/testsets/Gallagher_small/16_164.jpg', '../../images/testsets/Gallagher_small/29_538.jpg']\n",
        "Score: -0.1000 for 16 and 29 (Less than two matches)"
       ]
      },
      {
       "output_type": "stream",
       "stream": "stdout",
       "text": [
        "\n",
        "['../../images/testsets/Gallagher_small/16_164.jpg', '../../images/testsets/Gallagher_small/21_251.jpg']\n",
        "Score: -0.1000 for 16 and 21 (Less than two matches)"
       ]
      },
      {
       "output_type": "stream",
       "stream": "stdout",
       "text": [
        "\n",
        "['../../images/testsets/Gallagher_small/16_164.jpg', '../../images/testsets/Gallagher_small/20_249.jpg']\n",
        "Score: 0.1221 for 16 and 20"
       ]
      },
      {
       "output_type": "stream",
       "stream": "stdout",
       "text": [
        "\n",
        "['../../images/testsets/Gallagher_small/16_164.jpg', '../../images/testsets/Gallagher_small/15_181.jpg']\n",
        "Score: 0.1054 for 16 and 15"
       ]
      },
      {
       "output_type": "stream",
       "stream": "stdout",
       "text": [
        "\n",
        "['../../images/testsets/Gallagher_small/16_164.jpg', '../../images/testsets/Gallagher_small/15_158.jpg']\n",
        "Score: 0.0412 for 16 and 15"
       ]
      },
      {
       "output_type": "stream",
       "stream": "stdout",
       "text": [
        "\n",
        "['../../images/testsets/Gallagher_small/16_164.jpg', '../../images/testsets/Gallagher_small/19_195.jpg']\n",
        "Score: 0.0238 for 16 and 19"
       ]
      },
      {
       "output_type": "stream",
       "stream": "stdout",
       "text": [
        "\n",
        "['../../images/testsets/Gallagher_small/16_164.jpg', '../../images/testsets/Gallagher_small/19_193.jpg']\n",
        "Score: -0.1000 for 16 and 19 (Less than two matches)"
       ]
      },
      {
       "output_type": "stream",
       "stream": "stdout",
       "text": [
        "\n",
        "['../../images/testsets/Gallagher_small/16_164.jpg', '../../images/testsets/Gallagher_small/21_287.jpg']\n",
        "Score: -0.1000 for 16 and 21 (Less than two matches)"
       ]
      },
      {
       "output_type": "stream",
       "stream": "stdout",
       "text": [
        "\n",
        "['../../images/testsets/Gallagher_small/16_164.jpg', '../../images/testsets/Gallagher_small/26_565.jpg']\n",
        "Score: 0.0150 for 16 and 26"
       ]
      },
      {
       "output_type": "stream",
       "stream": "stdout",
       "text": [
        "\n",
        "['../../images/testsets/Gallagher_small/16_164.jpg', '../../images/testsets/Gallagher_small/27_509.jpg']\n",
        "Score: -0.0045 for 16 and 27"
       ]
      },
      {
       "output_type": "stream",
       "stream": "stdout",
       "text": [
        "\n",
        "['../../images/testsets/Gallagher_small/16_164.jpg', '../../images/testsets/Gallagher_small/15_169.jpg']\n",
        "Score: 0.0384 for 16 and 15"
       ]
      },
      {
       "output_type": "stream",
       "stream": "stdout",
       "text": [
        "\n",
        "['../../images/testsets/Gallagher_small/16_164.jpg', '../../images/testsets/Gallagher_small/15_167.jpg']\n",
        "Score: 0.0155 for 16 and 15"
       ]
      },
      {
       "output_type": "stream",
       "stream": "stdout",
       "text": [
        "\n",
        "['../../images/testsets/Gallagher_small/16_164.jpg', '../../images/testsets/Gallagher_small/21_587.jpg']\n",
        "Score: 0.0637 for 16 and 21"
       ]
      },
      {
       "output_type": "stream",
       "stream": "stdout",
       "text": [
        "\n",
        "['../../images/testsets/Gallagher_small/16_164.jpg', '../../images/testsets/Gallagher_small/15_222.jpg']\n",
        "Score: -0.1000 for 16 and 15 (Less than two matches)"
       ]
      },
      {
       "output_type": "stream",
       "stream": "stdout",
       "text": [
        "\n",
        "['../../images/testsets/Gallagher_small/16_164.jpg', '../../images/testsets/Gallagher_small/16_178.jpg']\n",
        "Score: -0.1000 for 16 and 16 (Less than two matches)"
       ]
      },
      {
       "output_type": "stream",
       "stream": "stdout",
       "text": [
        "\n",
        "['../../images/testsets/Gallagher_small/16_164.jpg', '../../images/testsets/Gallagher_small/17_165.jpg']\n",
        "Score: -0.1000 for 16 and 17 (Less than two matches)"
       ]
      },
      {
       "output_type": "stream",
       "stream": "stdout",
       "text": [
        "\n",
        "['../../images/testsets/Gallagher_small/16_164.jpg', '../../images/testsets/Gallagher_small/28_537.jpg']\n",
        "Score: -0.1000 for 16 and 28 (Less than two matches)"
       ]
      },
      {
       "output_type": "stream",
       "stream": "stdout",
       "text": [
        "\n",
        "['../../images/testsets/Gallagher_small/16_164.jpg', '../../images/testsets/Gallagher_small/27_524.jpg']\n",
        "Score: -0.0928 for 16 and 27"
       ]
      },
      {
       "output_type": "stream",
       "stream": "stdout",
       "text": [
        "\n",
        "['../../images/testsets/Gallagher_small/16_164.jpg', '../../images/testsets/Gallagher_small/13_163.jpg']\n",
        "Score: 0.0224 for 16 and 13"
       ]
      },
      {
       "output_type": "stream",
       "stream": "stdout",
       "text": [
        "\n",
        "['../../images/testsets/Gallagher_small/16_164.jpg', '../../images/testsets/Gallagher_small/23_302.jpg']\n",
        "Score: -0.0618 for 16 and 23"
       ]
      },
      {
       "output_type": "stream",
       "stream": "stdout",
       "text": [
        "\n",
        "['../../images/testsets/Gallagher_small/18_166.jpg', '../../images/testsets/Gallagher_small/25_770.jpg']\n",
        "Score: 0.0407 for 18 and 25"
       ]
      },
      {
       "output_type": "stream",
       "stream": "stdout",
       "text": [
        "\n",
        "['../../images/testsets/Gallagher_small/18_166.jpg', '../../images/testsets/Gallagher_small/32_642.jpg']\n",
        "Score: -0.1000 for 18 and 32 (Less than two matches)"
       ]
      },
      {
       "output_type": "stream",
       "stream": "stdout",
       "text": [
        "\n",
        "['../../images/testsets/Gallagher_small/18_166.jpg', '../../images/testsets/Gallagher_small/19_198.jpg']\n",
        "Score: 0.0292 for 18 and 19"
       ]
      },
      {
       "output_type": "stream",
       "stream": "stdout",
       "text": [
        "\n",
        "['../../images/testsets/Gallagher_small/18_166.jpg', '../../images/testsets/Gallagher_small/21_294.jpg']\n",
        "Score: 0.0101 for 18 and 21"
       ]
      },
      {
       "output_type": "stream",
       "stream": "stdout",
       "text": [
        "\n",
        "['../../images/testsets/Gallagher_small/18_166.jpg', '../../images/testsets/Gallagher_small/14_206.jpg']\n",
        "Score: 0.0432 for 18 and 14"
       ]
      },
      {
       "output_type": "stream",
       "stream": "stdout",
       "text": [
        "\n",
        "['../../images/testsets/Gallagher_small/18_166.jpg', '../../images/testsets/Gallagher_small/26_535.jpg']\n",
        "Score: 0.0007 for 18 and 26"
       ]
      },
      {
       "output_type": "stream",
       "stream": "stdout",
       "text": [
        "\n",
        "['../../images/testsets/Gallagher_small/18_166.jpg', '../../images/testsets/Gallagher_small/22_255.jpg']\n",
        "Score: -0.0530 for 18 and 22"
       ]
      },
      {
       "output_type": "stream",
       "stream": "stdout",
       "text": [
        "\n",
        "['../../images/testsets/Gallagher_small/18_166.jpg', '../../images/testsets/Gallagher_small/29_553.jpg']\n",
        "Score: 0.0287 for 18 and 29"
       ]
      },
      {
       "output_type": "stream",
       "stream": "stdout",
       "text": [
        "\n",
        "['../../images/testsets/Gallagher_small/18_166.jpg', '../../images/testsets/Gallagher_small/13_168.jpg']\n",
        "Score: 0.0303 for 18 and 13"
       ]
      },
      {
       "output_type": "stream",
       "stream": "stdout",
       "text": [
        "\n",
        "['../../images/testsets/Gallagher_small/18_166.jpg', '../../images/testsets/Gallagher_small/28_552.jpg']\n",
        "Score: 0.0800 for 18 and 28"
       ]
      },
      {
       "output_type": "stream",
       "stream": "stdout",
       "text": [
        "\n",
        "['../../images/testsets/Gallagher_small/18_166.jpg', '../../images/testsets/Gallagher_small/13_145.jpg']\n",
        "Score: -0.0422 for 18 and 13"
       ]
      },
      {
       "output_type": "stream",
       "stream": "stdout",
       "text": [
        "\n",
        "['../../images/testsets/Gallagher_small/18_166.jpg', '../../images/testsets/Gallagher_small/14_207.jpg']\n",
        "Score: -0.1000 for 18 and 14 (Less than two matches)"
       ]
      },
      {
       "output_type": "stream",
       "stream": "stdout",
       "text": [
        "\n",
        "['../../images/testsets/Gallagher_small/18_166.jpg', '../../images/testsets/Gallagher_small/14_150.jpg']\n",
        "Score: -0.1000 for 18 and 14 (Less than two matches)"
       ]
      },
      {
       "output_type": "stream",
       "stream": "stdout",
       "text": [
        "\n",
        "['../../images/testsets/Gallagher_small/18_166.jpg', '../../images/testsets/Gallagher_small/27_566.jpg']\n",
        "Score: -0.1000 for 18 and 27 (Less than two matches)"
       ]
      },
      {
       "output_type": "stream",
       "stream": "stdout",
       "text": [
        "\n",
        "['../../images/testsets/Gallagher_small/18_166.jpg', '../../images/testsets/Gallagher_small/17_183.jpg']\n",
        "Score: 0.0770 for 18 and 17"
       ]
      },
      {
       "output_type": "stream",
       "stream": "stdout",
       "text": [
        "\n",
        "['../../images/testsets/Gallagher_small/18_166.jpg', '../../images/testsets/Gallagher_small/19_187.jpg']\n",
        "Score: 0.0149 for 18 and 19"
       ]
      },
      {
       "output_type": "stream",
       "stream": "stdout",
       "text": [
        "\n",
        "['../../images/testsets/Gallagher_small/18_166.jpg', '../../images/testsets/Gallagher_small/31_580.jpg']\n",
        "Score: -0.1000 for 18 and 31 (Less than two matches)"
       ]
      },
      {
       "output_type": "stream",
       "stream": "stdout",
       "text": [
        "\n",
        "['../../images/testsets/Gallagher_small/18_166.jpg', '../../images/testsets/Gallagher_small/21_872.jpg']\n",
        "Score: 0.0426 for 18 and 21"
       ]
      },
      {
       "output_type": "stream",
       "stream": "stdout",
       "text": [
        "\n",
        "['../../images/testsets/Gallagher_small/18_166.jpg', '../../images/testsets/Gallagher_small/23_307.jpg']\n",
        "Score: 0.0507 for 18 and 23"
       ]
      },
      {
       "output_type": "stream",
       "stream": "stdout",
       "text": [
        "\n",
        "['../../images/testsets/Gallagher_small/18_166.jpg', '../../images/testsets/Gallagher_small/25_462.jpg']\n",
        "Score: 0.0488 for 18 and 25"
       ]
      },
      {
       "output_type": "stream",
       "stream": "stdout",
       "text": [
        "\n",
        "['../../images/testsets/Gallagher_small/18_166.jpg', '../../images/testsets/Gallagher_small/23_534.jpg']\n",
        "Score: -0.1000 for 18 and 23 (Less than two matches)"
       ]
      },
      {
       "output_type": "stream",
       "stream": "stdout",
       "text": [
        "\n",
        "['../../images/testsets/Gallagher_small/18_166.jpg', '../../images/testsets/Gallagher_small/31_582.jpg']\n",
        "Score: -0.2589 for 18 and 31"
       ]
      },
      {
       "output_type": "stream",
       "stream": "stdout",
       "text": [
        "\n",
        "['../../images/testsets/Gallagher_small/18_166.jpg', '../../images/testsets/Gallagher_small/15_224.jpg']\n",
        "Score: -0.0252 for 18 and 15"
       ]
      },
      {
       "output_type": "stream",
       "stream": "stdout",
       "text": [
        "\n",
        "['../../images/testsets/Gallagher_small/18_166.jpg', '../../images/testsets/Gallagher_small/23_508.jpg']\n",
        "Score: -0.0268 for 18 and 23"
       ]
      },
      {
       "output_type": "stream",
       "stream": "stdout",
       "text": [
        "\n",
        "['../../images/testsets/Gallagher_small/18_166.jpg', '../../images/testsets/Gallagher_small/18_220.jpg']\n",
        "Score: 0.0630 for 18 and 18"
       ]
      },
      {
       "output_type": "stream",
       "stream": "stdout",
       "text": [
        "\n",
        "['../../images/testsets/Gallagher_small/18_166.jpg', '../../images/testsets/Gallagher_small/15_151.jpg']\n",
        "Score: -0.0034 for 18 and 15"
       ]
      },
      {
       "output_type": "stream",
       "stream": "stdout",
       "text": [
        "\n",
        "['../../images/testsets/Gallagher_small/18_166.jpg', '../../images/testsets/Gallagher_small/16_182.jpg']\n",
        "Score: -0.1000 for 18 and 16 (Less than two matches)"
       ]
      },
      {
       "output_type": "stream",
       "stream": "stdout",
       "text": [
        "\n",
        "['../../images/testsets/Gallagher_small/18_166.jpg', '../../images/testsets/Gallagher_small/23_875.jpg']\n",
        "Score: -0.1000 for 18 and 23 (Less than two matches)"
       ]
      },
      {
       "output_type": "stream",
       "stream": "stdout",
       "text": [
        "\n",
        "['../../images/testsets/Gallagher_small/18_166.jpg', '../../images/testsets/Gallagher_small/23_549.jpg']\n",
        "Score: -0.3204 for 18 and 23"
       ]
      },
      {
       "output_type": "stream",
       "stream": "stdout",
       "text": [
        "\n",
        "['../../images/testsets/Gallagher_small/18_166.jpg', '../../images/testsets/Gallagher_small/32_648.jpg']\n",
        "Score: -0.1000 for 18 and 32 (Less than two matches)"
       ]
      },
      {
       "output_type": "stream",
       "stream": "stdout",
       "text": [
        "\n",
        "['../../images/testsets/Gallagher_small/18_166.jpg', '../../images/testsets/Gallagher_small/15_171.jpg']\n",
        "Score: 0.0242 for 18 and 15"
       ]
      },
      {
       "output_type": "stream",
       "stream": "stdout",
       "text": [
        "\n",
        "['../../images/testsets/Gallagher_small/18_166.jpg', '../../images/testsets/Gallagher_small/24_358.jpg']\n",
        "Score: 0.0127 for 18 and 24"
       ]
      },
      {
       "output_type": "stream",
       "stream": "stdout",
       "text": [
        "\n",
        "['../../images/testsets/Gallagher_small/18_166.jpg', '../../images/testsets/Gallagher_small/25_458.jpg']\n",
        "Score: 0.0712 for 18 and 25"
       ]
      },
      {
       "output_type": "stream",
       "stream": "stdout",
       "text": [
        "\n",
        "['../../images/testsets/Gallagher_small/18_166.jpg', '../../images/testsets/Gallagher_small/30_569.jpg']\n",
        "Score: 0.0033 for 18 and 30"
       ]
      },
      {
       "output_type": "stream",
       "stream": "stdout",
       "text": [
        "\n",
        "['../../images/testsets/Gallagher_small/18_166.jpg', '../../images/testsets/Gallagher_small/32_645.jpg']\n",
        "Score: 0.0559 for 18 and 32"
       ]
      },
      {
       "output_type": "stream",
       "stream": "stdout",
       "text": [
        "\n",
        "['../../images/testsets/Gallagher_small/18_166.jpg', '../../images/testsets/Gallagher_small/29_538.jpg']\n",
        "Score: -0.1000 for 18 and 29 (Less than two matches)"
       ]
      },
      {
       "output_type": "stream",
       "stream": "stdout",
       "text": [
        "\n",
        "['../../images/testsets/Gallagher_small/18_166.jpg', '../../images/testsets/Gallagher_small/21_251.jpg']\n",
        "Score: -0.1000 for 18 and 21 (Less than two matches)"
       ]
      },
      {
       "output_type": "stream",
       "stream": "stdout",
       "text": [
        "\n",
        "['../../images/testsets/Gallagher_small/18_166.jpg', '../../images/testsets/Gallagher_small/20_249.jpg']\n",
        "Score: -0.1000 for 18 and 20 (Less than two matches)"
       ]
      },
      {
       "output_type": "stream",
       "stream": "stdout",
       "text": [
        "\n",
        "['../../images/testsets/Gallagher_small/18_166.jpg', '../../images/testsets/Gallagher_small/15_181.jpg']\n",
        "Score: 0.0170 for 18 and 15"
       ]
      },
      {
       "output_type": "stream",
       "stream": "stdout",
       "text": [
        "\n",
        "['../../images/testsets/Gallagher_small/18_166.jpg', '../../images/testsets/Gallagher_small/15_158.jpg']\n",
        "Score: -0.1000 for 18 and 15 (Less than two matches)"
       ]
      },
      {
       "output_type": "stream",
       "stream": "stdout",
       "text": [
        "\n",
        "['../../images/testsets/Gallagher_small/18_166.jpg', '../../images/testsets/Gallagher_small/19_195.jpg']\n",
        "Score: 0.0265 for 18 and 19"
       ]
      },
      {
       "output_type": "stream",
       "stream": "stdout",
       "text": [
        "\n",
        "['../../images/testsets/Gallagher_small/18_166.jpg', '../../images/testsets/Gallagher_small/19_193.jpg']\n",
        "Score: -0.1000 for 18 and 19 (Less than two matches)"
       ]
      },
      {
       "output_type": "stream",
       "stream": "stdout",
       "text": [
        "\n",
        "['../../images/testsets/Gallagher_small/18_166.jpg', '../../images/testsets/Gallagher_small/21_287.jpg']\n",
        "Score: -0.1000 for 18 and 21 (Less than two matches)"
       ]
      },
      {
       "output_type": "stream",
       "stream": "stdout",
       "text": [
        "\n",
        "['../../images/testsets/Gallagher_small/18_166.jpg', '../../images/testsets/Gallagher_small/26_565.jpg']\n",
        "Score: -0.1121 for 18 and 26"
       ]
      },
      {
       "output_type": "stream",
       "stream": "stdout",
       "text": [
        "\n",
        "['../../images/testsets/Gallagher_small/18_166.jpg', '../../images/testsets/Gallagher_small/27_509.jpg']\n",
        "Score: 0.0239 for 18 and 27"
       ]
      },
      {
       "output_type": "stream",
       "stream": "stdout",
       "text": [
        "\n",
        "['../../images/testsets/Gallagher_small/18_166.jpg', '../../images/testsets/Gallagher_small/15_169.jpg']\n",
        "Score: -0.1000 for 18 and 15 (Less than two matches)"
       ]
      },
      {
       "output_type": "stream",
       "stream": "stdout",
       "text": [
        "\n",
        "['../../images/testsets/Gallagher_small/18_166.jpg', '../../images/testsets/Gallagher_small/15_167.jpg']\n",
        "Score: -0.0140 for 18 and 15"
       ]
      },
      {
       "output_type": "stream",
       "stream": "stdout",
       "text": [
        "\n",
        "['../../images/testsets/Gallagher_small/18_166.jpg', '../../images/testsets/Gallagher_small/21_587.jpg']\n",
        "Score: 0.0383 for 18 and 21"
       ]
      },
      {
       "output_type": "stream",
       "stream": "stdout",
       "text": [
        "\n",
        "['../../images/testsets/Gallagher_small/18_166.jpg', '../../images/testsets/Gallagher_small/15_222.jpg']\n",
        "Score: -0.1000 for 18 and 15 (Less than two matches)"
       ]
      },
      {
       "output_type": "stream",
       "stream": "stdout",
       "text": [
        "\n",
        "['../../images/testsets/Gallagher_small/18_166.jpg', '../../images/testsets/Gallagher_small/16_178.jpg']\n",
        "Score: -0.1000 for 18 and 16 (Less than two matches)"
       ]
      },
      {
       "output_type": "stream",
       "stream": "stdout",
       "text": [
        "\n",
        "['../../images/testsets/Gallagher_small/18_166.jpg', '../../images/testsets/Gallagher_small/17_165.jpg']\n",
        "Score: -0.1000 for 18 and 17 (Less than two matches)"
       ]
      },
      {
       "output_type": "stream",
       "stream": "stdout",
       "text": [
        "\n",
        "['../../images/testsets/Gallagher_small/18_166.jpg', '../../images/testsets/Gallagher_small/28_537.jpg']\n",
        "Score: -0.1000 for 18 and 28 (Less than two matches)"
       ]
      },
      {
       "output_type": "stream",
       "stream": "stdout",
       "text": [
        "\n",
        "['../../images/testsets/Gallagher_small/18_166.jpg', '../../images/testsets/Gallagher_small/27_524.jpg']\n",
        "Score: -0.1000 for 18 and 27 (Less than two matches)"
       ]
      },
      {
       "output_type": "stream",
       "stream": "stdout",
       "text": [
        "\n",
        "['../../images/testsets/Gallagher_small/18_166.jpg', '../../images/testsets/Gallagher_small/13_163.jpg']\n",
        "Score: -0.0710 for 18 and 13"
       ]
      },
      {
       "output_type": "stream",
       "stream": "stdout",
       "text": [
        "\n",
        "['../../images/testsets/Gallagher_small/18_166.jpg', '../../images/testsets/Gallagher_small/23_302.jpg']\n",
        "Score: -0.0542 for 18 and 23"
       ]
      },
      {
       "output_type": "stream",
       "stream": "stdout",
       "text": [
        "\n",
        "['../../images/testsets/Gallagher_small/25_770.jpg', '../../images/testsets/Gallagher_small/32_642.jpg']\n",
        "Score: -0.1000 for 25 and 32 (Less than two matches)"
       ]
      },
      {
       "output_type": "stream",
       "stream": "stdout",
       "text": [
        "\n",
        "['../../images/testsets/Gallagher_small/25_770.jpg', '../../images/testsets/Gallagher_small/19_198.jpg']\n",
        "Score: -0.1000 for 25 and 19 (Less than two matches)"
       ]
      },
      {
       "output_type": "stream",
       "stream": "stdout",
       "text": [
        "\n",
        "['../../images/testsets/Gallagher_small/25_770.jpg', '../../images/testsets/Gallagher_small/21_294.jpg']\n",
        "Score: -0.1000 for 25 and 21 (Less than two matches)"
       ]
      },
      {
       "output_type": "stream",
       "stream": "stdout",
       "text": [
        "\n",
        "['../../images/testsets/Gallagher_small/25_770.jpg', '../../images/testsets/Gallagher_small/14_206.jpg']\n",
        "Score: -0.1000 for 25 and 14 (Less than two matches)"
       ]
      },
      {
       "output_type": "stream",
       "stream": "stdout",
       "text": [
        "\n",
        "['../../images/testsets/Gallagher_small/25_770.jpg', '../../images/testsets/Gallagher_small/26_535.jpg']\n",
        "Score: -0.1000 for 25 and 26 (Less than two matches)"
       ]
      },
      {
       "output_type": "stream",
       "stream": "stdout",
       "text": [
        "\n",
        "['../../images/testsets/Gallagher_small/25_770.jpg', '../../images/testsets/Gallagher_small/22_255.jpg']\n",
        "Score: -0.1000 for 25 and 22 (Less than two matches)"
       ]
      },
      {
       "output_type": "stream",
       "stream": "stdout",
       "text": [
        "\n",
        "['../../images/testsets/Gallagher_small/25_770.jpg', '../../images/testsets/Gallagher_small/29_553.jpg']\n",
        "Score: -0.1000 for 25 and 29 (Less than two matches)"
       ]
      },
      {
       "output_type": "stream",
       "stream": "stdout",
       "text": [
        "\n",
        "['../../images/testsets/Gallagher_small/25_770.jpg', '../../images/testsets/Gallagher_small/13_168.jpg']\n",
        "Score: -0.1000 for 25 and 13 (Less than two matches)"
       ]
      },
      {
       "output_type": "stream",
       "stream": "stdout",
       "text": [
        "\n",
        "['../../images/testsets/Gallagher_small/25_770.jpg', '../../images/testsets/Gallagher_small/28_552.jpg']\n",
        "Score: -0.1000 for 25 and 28 (Less than two matches)"
       ]
      },
      {
       "output_type": "stream",
       "stream": "stdout",
       "text": [
        "\n",
        "['../../images/testsets/Gallagher_small/25_770.jpg', '../../images/testsets/Gallagher_small/13_145.jpg']\n",
        "Score: -0.1000 for 25 and 13 (Less than two matches)"
       ]
      },
      {
       "output_type": "stream",
       "stream": "stdout",
       "text": [
        "\n",
        "['../../images/testsets/Gallagher_small/25_770.jpg', '../../images/testsets/Gallagher_small/14_207.jpg']\n",
        "Score: -0.1000 for 25 and 14 (Less than two matches)"
       ]
      },
      {
       "output_type": "stream",
       "stream": "stdout",
       "text": [
        "\n",
        "['../../images/testsets/Gallagher_small/25_770.jpg', '../../images/testsets/Gallagher_small/14_150.jpg']\n",
        "Score: -0.1000 for 25 and 14 (Less than two matches)"
       ]
      },
      {
       "output_type": "stream",
       "stream": "stdout",
       "text": [
        "\n",
        "['../../images/testsets/Gallagher_small/25_770.jpg', '../../images/testsets/Gallagher_small/27_566.jpg']\n",
        "Score: -0.1000 for 25 and 27 (Less than two matches)"
       ]
      },
      {
       "output_type": "stream",
       "stream": "stdout",
       "text": [
        "\n",
        "['../../images/testsets/Gallagher_small/25_770.jpg', '../../images/testsets/Gallagher_small/17_183.jpg']\n",
        "Score: -0.0587 for 25 and 17"
       ]
      },
      {
       "output_type": "stream",
       "stream": "stdout",
       "text": [
        "\n",
        "['../../images/testsets/Gallagher_small/25_770.jpg', '../../images/testsets/Gallagher_small/19_187.jpg']\n",
        "Score: 0.0747 for 25 and 19"
       ]
      },
      {
       "output_type": "stream",
       "stream": "stdout",
       "text": [
        "\n",
        "['../../images/testsets/Gallagher_small/25_770.jpg', '../../images/testsets/Gallagher_small/31_580.jpg']\n",
        "Score: -0.1000 for 25 and 31 (Less than two matches)"
       ]
      },
      {
       "output_type": "stream",
       "stream": "stdout",
       "text": [
        "\n",
        "['../../images/testsets/Gallagher_small/25_770.jpg', '../../images/testsets/Gallagher_small/21_872.jpg']\n",
        "Score: -0.1000 for 25 and 21 (Less than two matches)"
       ]
      },
      {
       "output_type": "stream",
       "stream": "stdout",
       "text": [
        "\n",
        "['../../images/testsets/Gallagher_small/25_770.jpg', '../../images/testsets/Gallagher_small/23_307.jpg']\n",
        "Score: 0.0364 for 25 and 23"
       ]
      },
      {
       "output_type": "stream",
       "stream": "stdout",
       "text": [
        "\n",
        "['../../images/testsets/Gallagher_small/25_770.jpg', '../../images/testsets/Gallagher_small/25_462.jpg']\n",
        "Score: -0.1000 for 25 and 25 (Less than two matches)"
       ]
      },
      {
       "output_type": "stream",
       "stream": "stdout",
       "text": [
        "\n",
        "['../../images/testsets/Gallagher_small/25_770.jpg', '../../images/testsets/Gallagher_small/23_534.jpg']\n",
        "Score: -0.1000 for 25 and 23 (Less than two matches)"
       ]
      },
      {
       "output_type": "stream",
       "stream": "stdout",
       "text": [
        "\n",
        "['../../images/testsets/Gallagher_small/25_770.jpg', '../../images/testsets/Gallagher_small/31_582.jpg']\n",
        "Score: 0.1120 for 25 and 31"
       ]
      },
      {
       "output_type": "stream",
       "stream": "stdout",
       "text": [
        "\n",
        "['../../images/testsets/Gallagher_small/25_770.jpg', '../../images/testsets/Gallagher_small/15_224.jpg']\n",
        "Score: -0.1000 for 25 and 15 (Less than two matches)"
       ]
      },
      {
       "output_type": "stream",
       "stream": "stdout",
       "text": [
        "\n",
        "['../../images/testsets/Gallagher_small/25_770.jpg', '../../images/testsets/Gallagher_small/23_508.jpg']\n",
        "Score: 0.0442 for 25 and 23"
       ]
      },
      {
       "output_type": "stream",
       "stream": "stdout",
       "text": [
        "\n",
        "['../../images/testsets/Gallagher_small/25_770.jpg', '../../images/testsets/Gallagher_small/18_220.jpg']\n",
        "Score: -0.1000 for 25 and 18 (Less than two matches)"
       ]
      },
      {
       "output_type": "stream",
       "stream": "stdout",
       "text": [
        "\n",
        "['../../images/testsets/Gallagher_small/25_770.jpg', '../../images/testsets/Gallagher_small/15_151.jpg']\n",
        "Score: -0.1000 for 25 and 15 (Less than two matches)"
       ]
      },
      {
       "output_type": "stream",
       "stream": "stdout",
       "text": [
        "\n",
        "['../../images/testsets/Gallagher_small/25_770.jpg', '../../images/testsets/Gallagher_small/16_182.jpg']\n",
        "Score: -0.1000 for 25 and 16 (Less than two matches)"
       ]
      },
      {
       "output_type": "stream",
       "stream": "stdout",
       "text": [
        "\n",
        "['../../images/testsets/Gallagher_small/25_770.jpg', '../../images/testsets/Gallagher_small/23_875.jpg']\n",
        "Score: -0.1000 for 25 and 23 (Less than two matches)"
       ]
      },
      {
       "output_type": "stream",
       "stream": "stdout",
       "text": [
        "\n",
        "['../../images/testsets/Gallagher_small/25_770.jpg', '../../images/testsets/Gallagher_small/23_549.jpg']\n",
        "Score: 0.0603 for 25 and 23"
       ]
      },
      {
       "output_type": "stream",
       "stream": "stdout",
       "text": [
        "\n",
        "['../../images/testsets/Gallagher_small/25_770.jpg', '../../images/testsets/Gallagher_small/32_648.jpg']\n",
        "Score: -0.1000 for 25 and 32 (Less than two matches)"
       ]
      },
      {
       "output_type": "stream",
       "stream": "stdout",
       "text": [
        "\n",
        "['../../images/testsets/Gallagher_small/25_770.jpg', '../../images/testsets/Gallagher_small/15_171.jpg']\n",
        "Score: 0.0720 for 25 and 15"
       ]
      },
      {
       "output_type": "stream",
       "stream": "stdout",
       "text": [
        "\n",
        "['../../images/testsets/Gallagher_small/25_770.jpg', '../../images/testsets/Gallagher_small/24_358.jpg']\n",
        "Score: -0.1000 for 25 and 24 (Less than two matches)"
       ]
      },
      {
       "output_type": "stream",
       "stream": "stdout",
       "text": [
        "\n",
        "['../../images/testsets/Gallagher_small/25_770.jpg', '../../images/testsets/Gallagher_small/25_458.jpg']\n",
        "Score: -0.1000 for 25 and 25 (Less than two matches)"
       ]
      },
      {
       "output_type": "stream",
       "stream": "stdout",
       "text": [
        "\n",
        "['../../images/testsets/Gallagher_small/25_770.jpg', '../../images/testsets/Gallagher_small/30_569.jpg']\n",
        "Score: -0.1000 for 25 and 30 (Less than two matches)"
       ]
      },
      {
       "output_type": "stream",
       "stream": "stdout",
       "text": [
        "\n",
        "['../../images/testsets/Gallagher_small/25_770.jpg', '../../images/testsets/Gallagher_small/32_645.jpg']\n",
        "Score: 0.0490 for 25 and 32"
       ]
      },
      {
       "output_type": "stream",
       "stream": "stdout",
       "text": [
        "\n",
        "['../../images/testsets/Gallagher_small/25_770.jpg', '../../images/testsets/Gallagher_small/29_538.jpg']\n",
        "Score: -0.1000 for 25 and 29 (Less than two matches)"
       ]
      },
      {
       "output_type": "stream",
       "stream": "stdout",
       "text": [
        "\n",
        "['../../images/testsets/Gallagher_small/25_770.jpg', '../../images/testsets/Gallagher_small/21_251.jpg']\n",
        "Score: -0.1000 for 25 and 21 (Less than two matches)"
       ]
      },
      {
       "output_type": "stream",
       "stream": "stdout",
       "text": [
        "\n",
        "['../../images/testsets/Gallagher_small/25_770.jpg', '../../images/testsets/Gallagher_small/20_249.jpg']\n",
        "Score: 0.0442 for 25 and 20"
       ]
      },
      {
       "output_type": "stream",
       "stream": "stdout",
       "text": [
        "\n",
        "['../../images/testsets/Gallagher_small/25_770.jpg', '../../images/testsets/Gallagher_small/15_181.jpg']\n",
        "Score: -0.1000 for 25 and 15 (Less than two matches)"
       ]
      },
      {
       "output_type": "stream",
       "stream": "stdout",
       "text": [
        "\n",
        "['../../images/testsets/Gallagher_small/25_770.jpg', '../../images/testsets/Gallagher_small/15_158.jpg']\n",
        "Score: -0.1000 for 25 and 15 (Less than two matches)"
       ]
      },
      {
       "output_type": "stream",
       "stream": "stdout",
       "text": [
        "\n",
        "['../../images/testsets/Gallagher_small/25_770.jpg', '../../images/testsets/Gallagher_small/19_195.jpg']\n",
        "Score: -0.1000 for 25 and 19 (Less than two matches)"
       ]
      },
      {
       "output_type": "stream",
       "stream": "stdout",
       "text": [
        "\n",
        "['../../images/testsets/Gallagher_small/25_770.jpg', '../../images/testsets/Gallagher_small/19_193.jpg']\n",
        "Score: -0.1000 for 25 and 19 (Less than two matches)"
       ]
      },
      {
       "output_type": "stream",
       "stream": "stdout",
       "text": [
        "\n",
        "['../../images/testsets/Gallagher_small/25_770.jpg', '../../images/testsets/Gallagher_small/21_287.jpg']\n",
        "Score: 0.0455 for 25 and 21"
       ]
      },
      {
       "output_type": "stream",
       "stream": "stdout",
       "text": [
        "\n",
        "['../../images/testsets/Gallagher_small/25_770.jpg', '../../images/testsets/Gallagher_small/26_565.jpg']\n",
        "Score: -0.1000 for 25 and 26 (Less than two matches)"
       ]
      },
      {
       "output_type": "stream",
       "stream": "stdout",
       "text": [
        "\n",
        "['../../images/testsets/Gallagher_small/25_770.jpg', '../../images/testsets/Gallagher_small/27_509.jpg']\n",
        "Score: 0.0551 for 25 and 27"
       ]
      },
      {
       "output_type": "stream",
       "stream": "stdout",
       "text": [
        "\n",
        "['../../images/testsets/Gallagher_small/25_770.jpg', '../../images/testsets/Gallagher_small/15_169.jpg']\n",
        "Score: 0.0932 for 25 and 15"
       ]
      },
      {
       "output_type": "stream",
       "stream": "stdout",
       "text": [
        "\n",
        "['../../images/testsets/Gallagher_small/25_770.jpg', '../../images/testsets/Gallagher_small/15_167.jpg']\n",
        "Score: 0.1236 for 25 and 15"
       ]
      },
      {
       "output_type": "stream",
       "stream": "stdout",
       "text": [
        "\n",
        "['../../images/testsets/Gallagher_small/25_770.jpg', '../../images/testsets/Gallagher_small/21_587.jpg']\n",
        "Score: 0.0840 for 25 and 21"
       ]
      },
      {
       "output_type": "stream",
       "stream": "stdout",
       "text": [
        "\n",
        "['../../images/testsets/Gallagher_small/25_770.jpg', '../../images/testsets/Gallagher_small/15_222.jpg']\n",
        "Score: -0.1000 for 25 and 15 (Less than two matches)"
       ]
      },
      {
       "output_type": "stream",
       "stream": "stdout",
       "text": [
        "\n",
        "['../../images/testsets/Gallagher_small/25_770.jpg', '../../images/testsets/Gallagher_small/16_178.jpg']\n",
        "Score: -0.1000 for 25 and 16 (Less than two matches)"
       ]
      },
      {
       "output_type": "stream",
       "stream": "stdout",
       "text": [
        "\n",
        "['../../images/testsets/Gallagher_small/25_770.jpg', '../../images/testsets/Gallagher_small/17_165.jpg']\n",
        "Score: -0.1000 for 25 and 17 (Less than two matches)"
       ]
      },
      {
       "output_type": "stream",
       "stream": "stdout",
       "text": [
        "\n",
        "['../../images/testsets/Gallagher_small/25_770.jpg', '../../images/testsets/Gallagher_small/28_537.jpg']\n",
        "Score: -0.1000 for 25 and 28 (Less than two matches)"
       ]
      },
      {
       "output_type": "stream",
       "stream": "stdout",
       "text": [
        "\n",
        "['../../images/testsets/Gallagher_small/25_770.jpg', '../../images/testsets/Gallagher_small/27_524.jpg']\n",
        "Score: 0.0883 for 25 and 27"
       ]
      },
      {
       "output_type": "stream",
       "stream": "stdout",
       "text": [
        "\n",
        "['../../images/testsets/Gallagher_small/25_770.jpg', '../../images/testsets/Gallagher_small/13_163.jpg']\n",
        "Score: -0.0214 for 25 and 13"
       ]
      },
      {
       "output_type": "stream",
       "stream": "stdout",
       "text": [
        "\n",
        "['../../images/testsets/Gallagher_small/25_770.jpg', '../../images/testsets/Gallagher_small/23_302.jpg']\n",
        "Score: 0.1451 for 25 and 23"
       ]
      },
      {
       "output_type": "stream",
       "stream": "stdout",
       "text": [
        "\n",
        "['../../images/testsets/Gallagher_small/32_642.jpg', '../../images/testsets/Gallagher_small/19_198.jpg']\n",
        "Score: 0.0435 for 32 and 19"
       ]
      },
      {
       "output_type": "stream",
       "stream": "stdout",
       "text": [
        "\n",
        "['../../images/testsets/Gallagher_small/32_642.jpg', '../../images/testsets/Gallagher_small/21_294.jpg']\n",
        "Score: 0.0416 for 32 and 21"
       ]
      },
      {
       "output_type": "stream",
       "stream": "stdout",
       "text": [
        "\n",
        "['../../images/testsets/Gallagher_small/32_642.jpg', '../../images/testsets/Gallagher_small/14_206.jpg']\n",
        "Score: -0.1000 for 32 and 14 (Less than two matches)"
       ]
      },
      {
       "output_type": "stream",
       "stream": "stdout",
       "text": [
        "\n",
        "['../../images/testsets/Gallagher_small/32_642.jpg', '../../images/testsets/Gallagher_small/26_535.jpg']\n",
        "Score: -0.1000 for 32 and 26 (Less than two matches)"
       ]
      },
      {
       "output_type": "stream",
       "stream": "stdout",
       "text": [
        "\n",
        "['../../images/testsets/Gallagher_small/32_642.jpg', '../../images/testsets/Gallagher_small/22_255.jpg']\n",
        "Score: 0.0259 for 32 and 22"
       ]
      },
      {
       "output_type": "stream",
       "stream": "stdout",
       "text": [
        "\n",
        "['../../images/testsets/Gallagher_small/32_642.jpg', '../../images/testsets/Gallagher_small/29_553.jpg']\n",
        "Score: -0.1000 for 32 and 29 (Less than two matches)"
       ]
      },
      {
       "output_type": "stream",
       "stream": "stdout",
       "text": [
        "\n",
        "['../../images/testsets/Gallagher_small/32_642.jpg', '../../images/testsets/Gallagher_small/13_168.jpg']\n",
        "Score: -0.1000 for 32 and 13 (Less than two matches)"
       ]
      },
      {
       "output_type": "stream",
       "stream": "stdout",
       "text": [
        "\n",
        "['../../images/testsets/Gallagher_small/32_642.jpg', '../../images/testsets/Gallagher_small/28_552.jpg']\n",
        "Score: -0.1000 for 32 and 28 (Less than two matches)"
       ]
      },
      {
       "output_type": "stream",
       "stream": "stdout",
       "text": [
        "\n",
        "['../../images/testsets/Gallagher_small/32_642.jpg', '../../images/testsets/Gallagher_small/13_145.jpg']\n",
        "Score: -0.1000 for 32 and 13 (Less than two matches)"
       ]
      },
      {
       "output_type": "stream",
       "stream": "stdout",
       "text": [
        "\n",
        "['../../images/testsets/Gallagher_small/32_642.jpg', '../../images/testsets/Gallagher_small/14_207.jpg']\n",
        "Score: 0.0159 for 32 and 14"
       ]
      },
      {
       "output_type": "stream",
       "stream": "stdout",
       "text": [
        "\n",
        "['../../images/testsets/Gallagher_small/32_642.jpg', '../../images/testsets/Gallagher_small/14_150.jpg']\n",
        "Score: 0.0194 for 32 and 14"
       ]
      },
      {
       "output_type": "stream",
       "stream": "stdout",
       "text": [
        "\n",
        "['../../images/testsets/Gallagher_small/32_642.jpg', '../../images/testsets/Gallagher_small/27_566.jpg']\n",
        "Score: 0.0187 for 32 and 27"
       ]
      },
      {
       "output_type": "stream",
       "stream": "stdout",
       "text": [
        "\n",
        "['../../images/testsets/Gallagher_small/32_642.jpg', '../../images/testsets/Gallagher_small/17_183.jpg']\n",
        "Score: -0.0275 for 32 and 17"
       ]
      },
      {
       "output_type": "stream",
       "stream": "stdout",
       "text": [
        "\n",
        "['../../images/testsets/Gallagher_small/32_642.jpg', '../../images/testsets/Gallagher_small/19_187.jpg']\n",
        "Score: -0.1000 for 32 and 19 (Less than two matches)"
       ]
      },
      {
       "output_type": "stream",
       "stream": "stdout",
       "text": [
        "\n",
        "['../../images/testsets/Gallagher_small/32_642.jpg', '../../images/testsets/Gallagher_small/31_580.jpg']\n",
        "Score: 0.0787 for 32 and 31"
       ]
      },
      {
       "output_type": "stream",
       "stream": "stdout",
       "text": [
        "\n",
        "['../../images/testsets/Gallagher_small/32_642.jpg', '../../images/testsets/Gallagher_small/21_872.jpg']\n",
        "Score: 0.0456 for 32 and 21"
       ]
      },
      {
       "output_type": "stream",
       "stream": "stdout",
       "text": [
        "\n",
        "['../../images/testsets/Gallagher_small/32_642.jpg', '../../images/testsets/Gallagher_small/23_307.jpg']\n",
        "Score: 0.0346 for 32 and 23"
       ]
      },
      {
       "output_type": "stream",
       "stream": "stdout",
       "text": [
        "\n",
        "['../../images/testsets/Gallagher_small/32_642.jpg', '../../images/testsets/Gallagher_small/25_462.jpg']\n",
        "Score: -0.0395 for 32 and 25"
       ]
      },
      {
       "output_type": "stream",
       "stream": "stdout",
       "text": [
        "\n",
        "['../../images/testsets/Gallagher_small/32_642.jpg', '../../images/testsets/Gallagher_small/23_534.jpg']\n",
        "Score: -0.1000 for 32 and 23 (Less than two matches)"
       ]
      },
      {
       "output_type": "stream",
       "stream": "stdout",
       "text": [
        "\n",
        "['../../images/testsets/Gallagher_small/32_642.jpg', '../../images/testsets/Gallagher_small/31_582.jpg']\n",
        "Score: -0.1000 for 32 and 31 (Less than two matches)"
       ]
      },
      {
       "output_type": "stream",
       "stream": "stdout",
       "text": [
        "\n",
        "['../../images/testsets/Gallagher_small/32_642.jpg', '../../images/testsets/Gallagher_small/15_224.jpg']\n",
        "Score: -0.1000 for 32 and 15 (Less than two matches)"
       ]
      },
      {
       "output_type": "stream",
       "stream": "stdout",
       "text": [
        "\n",
        "['../../images/testsets/Gallagher_small/32_642.jpg', '../../images/testsets/Gallagher_small/23_508.jpg']\n",
        "Score: -0.0677 for 32 and 23"
       ]
      },
      {
       "output_type": "stream",
       "stream": "stdout",
       "text": [
        "\n",
        "['../../images/testsets/Gallagher_small/32_642.jpg', '../../images/testsets/Gallagher_small/18_220.jpg']\n",
        "Score: -0.1000 for 32 and 18 (Less than two matches)"
       ]
      },
      {
       "output_type": "stream",
       "stream": "stdout",
       "text": [
        "\n",
        "['../../images/testsets/Gallagher_small/32_642.jpg', '../../images/testsets/Gallagher_small/15_151.jpg']\n",
        "Score: 0.0010 for 32 and 15"
       ]
      },
      {
       "output_type": "stream",
       "stream": "stdout",
       "text": [
        "\n",
        "['../../images/testsets/Gallagher_small/32_642.jpg', '../../images/testsets/Gallagher_small/16_182.jpg']\n",
        "Score: -0.1000 for 32 and 16 (Less than two matches)"
       ]
      },
      {
       "output_type": "stream",
       "stream": "stdout",
       "text": [
        "\n",
        "['../../images/testsets/Gallagher_small/32_642.jpg', '../../images/testsets/Gallagher_small/23_875.jpg']\n",
        "Score: 0.0204 for 32 and 23"
       ]
      },
      {
       "output_type": "stream",
       "stream": "stdout",
       "text": [
        "\n",
        "['../../images/testsets/Gallagher_small/32_642.jpg', '../../images/testsets/Gallagher_small/23_549.jpg']\n",
        "Score: -0.1000 for 32 and 23 (Less than two matches)"
       ]
      },
      {
       "output_type": "stream",
       "stream": "stdout",
       "text": [
        "\n",
        "['../../images/testsets/Gallagher_small/32_642.jpg', '../../images/testsets/Gallagher_small/32_648.jpg']\n",
        "Score: -0.1000 for 32 and 32 (Less than two matches)"
       ]
      },
      {
       "output_type": "stream",
       "stream": "stdout",
       "text": [
        "\n",
        "['../../images/testsets/Gallagher_small/32_642.jpg', '../../images/testsets/Gallagher_small/15_171.jpg']\n",
        "Score: -0.0484 for 32 and 15"
       ]
      },
      {
       "output_type": "stream",
       "stream": "stdout",
       "text": [
        "\n",
        "['../../images/testsets/Gallagher_small/32_642.jpg', '../../images/testsets/Gallagher_small/24_358.jpg']\n",
        "Score: 0.1242 for 32 and 24"
       ]
      },
      {
       "output_type": "stream",
       "stream": "stdout",
       "text": [
        "\n",
        "['../../images/testsets/Gallagher_small/32_642.jpg', '../../images/testsets/Gallagher_small/25_458.jpg']\n",
        "Score: 0.0219 for 32 and 25"
       ]
      },
      {
       "output_type": "stream",
       "stream": "stdout",
       "text": [
        "\n",
        "['../../images/testsets/Gallagher_small/32_642.jpg', '../../images/testsets/Gallagher_small/30_569.jpg']\n",
        "Score: -0.1000 for 32 and 30 (Less than two matches)"
       ]
      },
      {
       "output_type": "stream",
       "stream": "stdout",
       "text": [
        "\n",
        "['../../images/testsets/Gallagher_small/32_642.jpg', '../../images/testsets/Gallagher_small/32_645.jpg']\n",
        "Score: -0.0242 for 32 and 32"
       ]
      },
      {
       "output_type": "stream",
       "stream": "stdout",
       "text": [
        "\n",
        "['../../images/testsets/Gallagher_small/32_642.jpg', '../../images/testsets/Gallagher_small/29_538.jpg']\n",
        "Score: -0.1000 for 32 and 29 (Less than two matches)"
       ]
      },
      {
       "output_type": "stream",
       "stream": "stdout",
       "text": [
        "\n",
        "['../../images/testsets/Gallagher_small/32_642.jpg', '../../images/testsets/Gallagher_small/21_251.jpg']\n",
        "Score: 0.0571 for 32 and 21"
       ]
      },
      {
       "output_type": "stream",
       "stream": "stdout",
       "text": [
        "\n",
        "['../../images/testsets/Gallagher_small/32_642.jpg', '../../images/testsets/Gallagher_small/20_249.jpg']\n",
        "Score: 0.0018 for 32 and 20"
       ]
      },
      {
       "output_type": "stream",
       "stream": "stdout",
       "text": [
        "\n",
        "['../../images/testsets/Gallagher_small/32_642.jpg', '../../images/testsets/Gallagher_small/15_181.jpg']\n",
        "Score: -0.0293 for 32 and 15"
       ]
      },
      {
       "output_type": "stream",
       "stream": "stdout",
       "text": [
        "\n",
        "['../../images/testsets/Gallagher_small/32_642.jpg', '../../images/testsets/Gallagher_small/15_158.jpg']\n",
        "Score: 0.0477 for 32 and 15"
       ]
      },
      {
       "output_type": "stream",
       "stream": "stdout",
       "text": [
        "\n",
        "['../../images/testsets/Gallagher_small/32_642.jpg', '../../images/testsets/Gallagher_small/19_195.jpg']\n",
        "Score: -0.1000 for 32 and 19 (Less than two matches)"
       ]
      },
      {
       "output_type": "stream",
       "stream": "stdout",
       "text": [
        "\n",
        "['../../images/testsets/Gallagher_small/32_642.jpg', '../../images/testsets/Gallagher_small/19_193.jpg']\n",
        "Score: 0.0867 for 32 and 19"
       ]
      },
      {
       "output_type": "stream",
       "stream": "stdout",
       "text": [
        "\n",
        "['../../images/testsets/Gallagher_small/32_642.jpg', '../../images/testsets/Gallagher_small/21_287.jpg']\n",
        "Score: 0.0989 for 32 and 21"
       ]
      },
      {
       "output_type": "stream",
       "stream": "stdout",
       "text": [
        "\n",
        "['../../images/testsets/Gallagher_small/32_642.jpg', '../../images/testsets/Gallagher_small/26_565.jpg']\n",
        "Score: -0.0850 for 32 and 26"
       ]
      },
      {
       "output_type": "stream",
       "stream": "stdout",
       "text": [
        "\n",
        "['../../images/testsets/Gallagher_small/32_642.jpg', '../../images/testsets/Gallagher_small/27_509.jpg']\n",
        "Score: -0.1000 for 32 and 27 (Less than two matches)"
       ]
      },
      {
       "output_type": "stream",
       "stream": "stdout",
       "text": [
        "\n",
        "['../../images/testsets/Gallagher_small/32_642.jpg', '../../images/testsets/Gallagher_small/15_169.jpg']\n",
        "Score: 0.0978 for 32 and 15"
       ]
      },
      {
       "output_type": "stream",
       "stream": "stdout",
       "text": [
        "\n",
        "['../../images/testsets/Gallagher_small/32_642.jpg', '../../images/testsets/Gallagher_small/15_167.jpg']\n",
        "Score: 0.0536 for 32 and 15"
       ]
      },
      {
       "output_type": "stream",
       "stream": "stdout",
       "text": [
        "\n",
        "['../../images/testsets/Gallagher_small/32_642.jpg', '../../images/testsets/Gallagher_small/21_587.jpg']\n",
        "Score: 0.0888 for 32 and 21"
       ]
      },
      {
       "output_type": "stream",
       "stream": "stdout",
       "text": [
        "\n",
        "['../../images/testsets/Gallagher_small/32_642.jpg', '../../images/testsets/Gallagher_small/15_222.jpg']\n",
        "Score: -0.1000 for 32 and 15 (Less than two matches)"
       ]
      },
      {
       "output_type": "stream",
       "stream": "stdout",
       "text": [
        "\n",
        "['../../images/testsets/Gallagher_small/32_642.jpg', '../../images/testsets/Gallagher_small/16_178.jpg']\n",
        "Score: -0.1000 for 32 and 16 (Less than two matches)"
       ]
      },
      {
       "output_type": "stream",
       "stream": "stdout",
       "text": [
        "\n",
        "['../../images/testsets/Gallagher_small/32_642.jpg', '../../images/testsets/Gallagher_small/17_165.jpg']\n",
        "Score: -0.1000 for 32 and 17 (Less than two matches)"
       ]
      },
      {
       "output_type": "stream",
       "stream": "stdout",
       "text": [
        "\n",
        "['../../images/testsets/Gallagher_small/32_642.jpg', '../../images/testsets/Gallagher_small/28_537.jpg']\n",
        "Score: -0.1000 for 32 and 28 (Less than two matches)"
       ]
      },
      {
       "output_type": "stream",
       "stream": "stdout",
       "text": [
        "\n",
        "['../../images/testsets/Gallagher_small/32_642.jpg', '../../images/testsets/Gallagher_small/27_524.jpg']\n",
        "Score: -0.1000 for 32 and 27 (Less than two matches)"
       ]
      },
      {
       "output_type": "stream",
       "stream": "stdout",
       "text": [
        "\n",
        "['../../images/testsets/Gallagher_small/32_642.jpg', '../../images/testsets/Gallagher_small/13_163.jpg']\n",
        "Score: -0.1000 for 32 and 13 (Less than two matches)"
       ]
      },
      {
       "output_type": "stream",
       "stream": "stdout",
       "text": [
        "\n",
        "['../../images/testsets/Gallagher_small/32_642.jpg', '../../images/testsets/Gallagher_small/23_302.jpg']\n",
        "Score: 0.0640 for 32 and 23"
       ]
      },
      {
       "output_type": "stream",
       "stream": "stdout",
       "text": [
        "\n",
        "['../../images/testsets/Gallagher_small/19_198.jpg', '../../images/testsets/Gallagher_small/21_294.jpg']\n",
        "Score: -0.1000 for 19 and 21 (Less than two matches)"
       ]
      },
      {
       "output_type": "stream",
       "stream": "stdout",
       "text": [
        "\n",
        "['../../images/testsets/Gallagher_small/19_198.jpg', '../../images/testsets/Gallagher_small/14_206.jpg']\n",
        "Score: -0.1000 for 19 and 14 (Less than two matches)"
       ]
      },
      {
       "output_type": "stream",
       "stream": "stdout",
       "text": [
        "\n",
        "['../../images/testsets/Gallagher_small/19_198.jpg', '../../images/testsets/Gallagher_small/26_535.jpg']\n",
        "Score: -0.1000 for 19 and 26 (Less than two matches)"
       ]
      },
      {
       "output_type": "stream",
       "stream": "stdout",
       "text": [
        "\n",
        "['../../images/testsets/Gallagher_small/19_198.jpg', '../../images/testsets/Gallagher_small/22_255.jpg']\n",
        "Score: -0.1000 for 19 and 22 (Less than two matches)"
       ]
      },
      {
       "output_type": "stream",
       "stream": "stdout",
       "text": [
        "\n",
        "['../../images/testsets/Gallagher_small/19_198.jpg', '../../images/testsets/Gallagher_small/29_553.jpg']\n",
        "Score: 0.0930 for 19 and 29"
       ]
      },
      {
       "output_type": "stream",
       "stream": "stdout",
       "text": [
        "\n",
        "['../../images/testsets/Gallagher_small/19_198.jpg', '../../images/testsets/Gallagher_small/13_168.jpg']\n",
        "Score: -0.1000 for 19 and 13 (Less than two matches)"
       ]
      },
      {
       "output_type": "stream",
       "stream": "stdout",
       "text": [
        "\n",
        "['../../images/testsets/Gallagher_small/19_198.jpg', '../../images/testsets/Gallagher_small/28_552.jpg']\n",
        "Score: -0.1000 for 19 and 28 (Less than two matches)"
       ]
      },
      {
       "output_type": "stream",
       "stream": "stdout",
       "text": [
        "\n",
        "['../../images/testsets/Gallagher_small/19_198.jpg', '../../images/testsets/Gallagher_small/13_145.jpg']\n",
        "Score: -0.1000 for 19 and 13 (Less than two matches)"
       ]
      },
      {
       "output_type": "stream",
       "stream": "stdout",
       "text": [
        "\n",
        "['../../images/testsets/Gallagher_small/19_198.jpg', '../../images/testsets/Gallagher_small/14_207.jpg']\n",
        "Score: 0.0037 for 19 and 14"
       ]
      },
      {
       "output_type": "stream",
       "stream": "stdout",
       "text": [
        "\n",
        "['../../images/testsets/Gallagher_small/19_198.jpg', '../../images/testsets/Gallagher_small/14_150.jpg']\n",
        "Score: -0.0257 for 19 and 14"
       ]
      },
      {
       "output_type": "stream",
       "stream": "stdout",
       "text": [
        "\n",
        "['../../images/testsets/Gallagher_small/19_198.jpg', '../../images/testsets/Gallagher_small/27_566.jpg']\n",
        "Score: -0.1000 for 19 and 27 (Less than two matches)"
       ]
      },
      {
       "output_type": "stream",
       "stream": "stdout",
       "text": [
        "\n",
        "['../../images/testsets/Gallagher_small/19_198.jpg', '../../images/testsets/Gallagher_small/17_183.jpg']\n",
        "Score: 0.0337 for 19 and 17"
       ]
      },
      {
       "output_type": "stream",
       "stream": "stdout",
       "text": [
        "\n",
        "['../../images/testsets/Gallagher_small/19_198.jpg', '../../images/testsets/Gallagher_small/19_187.jpg']\n",
        "Score: -0.1000 for 19 and 19 (Less than two matches)"
       ]
      },
      {
       "output_type": "stream",
       "stream": "stdout",
       "text": [
        "\n",
        "['../../images/testsets/Gallagher_small/19_198.jpg', '../../images/testsets/Gallagher_small/31_580.jpg']\n",
        "Score: 0.0221 for 19 and 31"
       ]
      },
      {
       "output_type": "stream",
       "stream": "stdout",
       "text": [
        "\n",
        "['../../images/testsets/Gallagher_small/19_198.jpg', '../../images/testsets/Gallagher_small/21_872.jpg']\n",
        "Score: 0.0547 for 19 and 21"
       ]
      },
      {
       "output_type": "stream",
       "stream": "stdout",
       "text": [
        "\n",
        "['../../images/testsets/Gallagher_small/19_198.jpg', '../../images/testsets/Gallagher_small/23_307.jpg']\n",
        "Score: 0.0684 for 19 and 23"
       ]
      },
      {
       "output_type": "stream",
       "stream": "stdout",
       "text": [
        "\n",
        "['../../images/testsets/Gallagher_small/19_198.jpg', '../../images/testsets/Gallagher_small/25_462.jpg']\n",
        "Score: 0.0467 for 19 and 25"
       ]
      },
      {
       "output_type": "stream",
       "stream": "stdout",
       "text": [
        "\n",
        "['../../images/testsets/Gallagher_small/19_198.jpg', '../../images/testsets/Gallagher_small/23_534.jpg']\n",
        "Score: -0.1000 for 19 and 23 (Less than two matches)"
       ]
      },
      {
       "output_type": "stream",
       "stream": "stdout",
       "text": [
        "\n",
        "['../../images/testsets/Gallagher_small/19_198.jpg', '../../images/testsets/Gallagher_small/31_582.jpg']\n",
        "Score: 0.0573 for 19 and 31"
       ]
      },
      {
       "output_type": "stream",
       "stream": "stdout",
       "text": [
        "\n",
        "['../../images/testsets/Gallagher_small/19_198.jpg', '../../images/testsets/Gallagher_small/15_224.jpg']\n",
        "Score: -0.1000 for 19 and 15 (Less than two matches)"
       ]
      },
      {
       "output_type": "stream",
       "stream": "stdout",
       "text": [
        "\n",
        "['../../images/testsets/Gallagher_small/19_198.jpg', '../../images/testsets/Gallagher_small/23_508.jpg']\n",
        "Score: 0.0673 for 19 and 23"
       ]
      },
      {
       "output_type": "stream",
       "stream": "stdout",
       "text": [
        "\n",
        "['../../images/testsets/Gallagher_small/19_198.jpg', '../../images/testsets/Gallagher_small/18_220.jpg']\n",
        "Score: -0.1000 for 19 and 18 (Less than two matches)"
       ]
      },
      {
       "output_type": "stream",
       "stream": "stdout",
       "text": [
        "\n",
        "['../../images/testsets/Gallagher_small/19_198.jpg', '../../images/testsets/Gallagher_small/15_151.jpg']\n",
        "Score: -0.3048 for 19 and 15"
       ]
      },
      {
       "output_type": "stream",
       "stream": "stdout",
       "text": [
        "\n",
        "['../../images/testsets/Gallagher_small/19_198.jpg', '../../images/testsets/Gallagher_small/16_182.jpg']\n",
        "Score: -0.1000 for 19 and 16 (Less than two matches)"
       ]
      },
      {
       "output_type": "stream",
       "stream": "stdout",
       "text": [
        "\n",
        "['../../images/testsets/Gallagher_small/19_198.jpg', '../../images/testsets/Gallagher_small/23_875.jpg']\n",
        "Score: -0.0879 for 19 and 23"
       ]
      },
      {
       "output_type": "stream",
       "stream": "stdout",
       "text": [
        "\n",
        "['../../images/testsets/Gallagher_small/19_198.jpg', '../../images/testsets/Gallagher_small/23_549.jpg']\n",
        "Score: -0.1000 for 19 and 23 (Less than two matches)"
       ]
      },
      {
       "output_type": "stream",
       "stream": "stdout",
       "text": [
        "\n",
        "['../../images/testsets/Gallagher_small/19_198.jpg', '../../images/testsets/Gallagher_small/32_648.jpg']\n",
        "Score: -0.1000 for 19 and 32 (Less than two matches)"
       ]
      },
      {
       "output_type": "stream",
       "stream": "stdout",
       "text": [
        "\n",
        "['../../images/testsets/Gallagher_small/19_198.jpg', '../../images/testsets/Gallagher_small/15_171.jpg']\n",
        "Score: 0.0403 for 19 and 15"
       ]
      },
      {
       "output_type": "stream",
       "stream": "stdout",
       "text": [
        "\n",
        "['../../images/testsets/Gallagher_small/19_198.jpg', '../../images/testsets/Gallagher_small/24_358.jpg']\n",
        "Score: 0.0592 for 19 and 24"
       ]
      },
      {
       "output_type": "stream",
       "stream": "stdout",
       "text": [
        "\n",
        "['../../images/testsets/Gallagher_small/19_198.jpg', '../../images/testsets/Gallagher_small/25_458.jpg']\n",
        "Score: 0.0390 for 19 and 25"
       ]
      },
      {
       "output_type": "stream",
       "stream": "stdout",
       "text": [
        "\n",
        "['../../images/testsets/Gallagher_small/19_198.jpg', '../../images/testsets/Gallagher_small/30_569.jpg']\n",
        "Score: -0.1000 for 19 and 30 (Less than two matches)"
       ]
      },
      {
       "output_type": "stream",
       "stream": "stdout",
       "text": [
        "\n",
        "['../../images/testsets/Gallagher_small/19_198.jpg', '../../images/testsets/Gallagher_small/32_645.jpg']\n",
        "Score: -0.1000 for 19 and 32 (Less than two matches)"
       ]
      },
      {
       "output_type": "stream",
       "stream": "stdout",
       "text": [
        "\n",
        "['../../images/testsets/Gallagher_small/19_198.jpg', '../../images/testsets/Gallagher_small/29_538.jpg']\n",
        "Score: -0.1000 for 19 and 29 (Less than two matches)"
       ]
      },
      {
       "output_type": "stream",
       "stream": "stdout",
       "text": [
        "\n",
        "['../../images/testsets/Gallagher_small/19_198.jpg', '../../images/testsets/Gallagher_small/21_251.jpg']\n",
        "Score: 0.0451 for 19 and 21"
       ]
      },
      {
       "output_type": "stream",
       "stream": "stdout",
       "text": [
        "\n",
        "['../../images/testsets/Gallagher_small/19_198.jpg', '../../images/testsets/Gallagher_small/20_249.jpg']\n",
        "Score: 0.0954 for 19 and 20"
       ]
      },
      {
       "output_type": "stream",
       "stream": "stdout",
       "text": [
        "\n",
        "['../../images/testsets/Gallagher_small/19_198.jpg', '../../images/testsets/Gallagher_small/15_181.jpg']\n",
        "Score: 0.0878 for 19 and 15"
       ]
      },
      {
       "output_type": "stream",
       "stream": "stdout",
       "text": [
        "\n",
        "['../../images/testsets/Gallagher_small/19_198.jpg', '../../images/testsets/Gallagher_small/15_158.jpg']\n",
        "Score: -0.0002 for 19 and 15"
       ]
      },
      {
       "output_type": "stream",
       "stream": "stdout",
       "text": [
        "\n",
        "['../../images/testsets/Gallagher_small/19_198.jpg', '../../images/testsets/Gallagher_small/19_195.jpg']\n",
        "Score: 0.1056 for 19 and 19"
       ]
      },
      {
       "output_type": "stream",
       "stream": "stdout",
       "text": [
        "\n",
        "['../../images/testsets/Gallagher_small/19_198.jpg', '../../images/testsets/Gallagher_small/19_193.jpg']\n",
        "Score: -0.1000 for 19 and 19 (Less than two matches)"
       ]
      },
      {
       "output_type": "stream",
       "stream": "stdout",
       "text": [
        "\n",
        "['../../images/testsets/Gallagher_small/19_198.jpg', '../../images/testsets/Gallagher_small/21_287.jpg']\n",
        "Score: 0.0759 for 19 and 21"
       ]
      },
      {
       "output_type": "stream",
       "stream": "stdout",
       "text": [
        "\n",
        "['../../images/testsets/Gallagher_small/19_198.jpg', '../../images/testsets/Gallagher_small/26_565.jpg']\n",
        "Score: 0.0616 for 19 and 26"
       ]
      },
      {
       "output_type": "stream",
       "stream": "stdout",
       "text": [
        "\n",
        "['../../images/testsets/Gallagher_small/19_198.jpg', '../../images/testsets/Gallagher_small/27_509.jpg']\n",
        "Score: -0.1000 for 19 and 27 (Less than two matches)"
       ]
      },
      {
       "output_type": "stream",
       "stream": "stdout",
       "text": [
        "\n",
        "['../../images/testsets/Gallagher_small/19_198.jpg', '../../images/testsets/Gallagher_small/15_169.jpg']\n",
        "Score: -0.1000 for 19 and 15 (Less than two matches)"
       ]
      },
      {
       "output_type": "stream",
       "stream": "stdout",
       "text": [
        "\n",
        "['../../images/testsets/Gallagher_small/19_198.jpg', '../../images/testsets/Gallagher_small/15_167.jpg']\n",
        "Score: -0.1000 for 19 and 15 (Less than two matches)"
       ]
      },
      {
       "output_type": "stream",
       "stream": "stdout",
       "text": [
        "\n",
        "['../../images/testsets/Gallagher_small/19_198.jpg', '../../images/testsets/Gallagher_small/21_587.jpg']\n",
        "Score: 0.1118 for 19 and 21"
       ]
      },
      {
       "output_type": "stream",
       "stream": "stdout",
       "text": [
        "\n",
        "['../../images/testsets/Gallagher_small/19_198.jpg', '../../images/testsets/Gallagher_small/15_222.jpg']\n",
        "Score: -0.1000 for 19 and 15 (Less than two matches)"
       ]
      },
      {
       "output_type": "stream",
       "stream": "stdout",
       "text": [
        "\n",
        "['../../images/testsets/Gallagher_small/19_198.jpg', '../../images/testsets/Gallagher_small/16_178.jpg']\n",
        "Score: -0.1000 for 19 and 16 (Less than two matches)"
       ]
      },
      {
       "output_type": "stream",
       "stream": "stdout",
       "text": [
        "\n",
        "['../../images/testsets/Gallagher_small/19_198.jpg', '../../images/testsets/Gallagher_small/17_165.jpg']\n",
        "Score: -0.1000 for 19 and 17 (Less than two matches)"
       ]
      },
      {
       "output_type": "stream",
       "stream": "stdout",
       "text": [
        "\n",
        "['../../images/testsets/Gallagher_small/19_198.jpg', '../../images/testsets/Gallagher_small/28_537.jpg']\n",
        "Score: -0.1000 for 19 and 28 (Less than two matches)"
       ]
      },
      {
       "output_type": "stream",
       "stream": "stdout",
       "text": [
        "\n",
        "['../../images/testsets/Gallagher_small/19_198.jpg', '../../images/testsets/Gallagher_small/27_524.jpg']\n",
        "Score: -0.1000 for 19 and 27 (Less than two matches)"
       ]
      },
      {
       "output_type": "stream",
       "stream": "stdout",
       "text": [
        "\n",
        "['../../images/testsets/Gallagher_small/19_198.jpg', '../../images/testsets/Gallagher_small/13_163.jpg']\n",
        "Score: -0.1000 for 19 and 13 (Less than two matches)"
       ]
      },
      {
       "output_type": "stream",
       "stream": "stdout",
       "text": [
        "\n",
        "['../../images/testsets/Gallagher_small/19_198.jpg', '../../images/testsets/Gallagher_small/23_302.jpg']\n",
        "Score: 0.1134 for 19 and 23"
       ]
      },
      {
       "output_type": "stream",
       "stream": "stdout",
       "text": [
        "\n",
        "['../../images/testsets/Gallagher_small/21_294.jpg', '../../images/testsets/Gallagher_small/14_206.jpg']\n",
        "Score: 0.0666 for 21 and 14"
       ]
      },
      {
       "output_type": "stream",
       "stream": "stdout",
       "text": [
        "\n",
        "['../../images/testsets/Gallagher_small/21_294.jpg', '../../images/testsets/Gallagher_small/26_535.jpg']\n",
        "Score: -0.1000 for 21 and 26 (Less than two matches)"
       ]
      },
      {
       "output_type": "stream",
       "stream": "stdout",
       "text": [
        "\n",
        "['../../images/testsets/Gallagher_small/21_294.jpg', '../../images/testsets/Gallagher_small/22_255.jpg']\n",
        "Score: -0.1000 for 21 and 22 (Less than two matches)"
       ]
      },
      {
       "output_type": "stream",
       "stream": "stdout",
       "text": [
        "\n",
        "['../../images/testsets/Gallagher_small/21_294.jpg', '../../images/testsets/Gallagher_small/29_553.jpg']\n",
        "Score: -0.1000 for 21 and 29 (Less than two matches)"
       ]
      },
      {
       "output_type": "stream",
       "stream": "stdout",
       "text": [
        "\n",
        "['../../images/testsets/Gallagher_small/21_294.jpg', '../../images/testsets/Gallagher_small/13_168.jpg']\n",
        "Score: -0.1000 for 21 and 13 (Less than two matches)"
       ]
      },
      {
       "output_type": "stream",
       "stream": "stdout",
       "text": [
        "\n",
        "['../../images/testsets/Gallagher_small/21_294.jpg', '../../images/testsets/Gallagher_small/28_552.jpg']\n",
        "Score: -0.1000 for 21 and 28 (Less than two matches)"
       ]
      },
      {
       "output_type": "stream",
       "stream": "stdout",
       "text": [
        "\n",
        "['../../images/testsets/Gallagher_small/21_294.jpg', '../../images/testsets/Gallagher_small/13_145.jpg']\n",
        "Score: -0.1000 for 21 and 13 (Less than two matches)"
       ]
      },
      {
       "output_type": "stream",
       "stream": "stdout",
       "text": [
        "\n",
        "['../../images/testsets/Gallagher_small/21_294.jpg', '../../images/testsets/Gallagher_small/14_207.jpg']\n",
        "Score: -0.1000 for 21 and 14 (Less than two matches)"
       ]
      },
      {
       "output_type": "stream",
       "stream": "stdout",
       "text": [
        "\n",
        "['../../images/testsets/Gallagher_small/21_294.jpg', '../../images/testsets/Gallagher_small/14_150.jpg']\n",
        "Score: -0.1000 for 21 and 14 (Less than two matches)"
       ]
      },
      {
       "output_type": "stream",
       "stream": "stdout",
       "text": [
        "\n",
        "['../../images/testsets/Gallagher_small/21_294.jpg', '../../images/testsets/Gallagher_small/27_566.jpg']\n",
        "Score: -0.1000 for 21 and 27 (Less than two matches)"
       ]
      },
      {
       "output_type": "stream",
       "stream": "stdout",
       "text": [
        "\n",
        "['../../images/testsets/Gallagher_small/21_294.jpg', '../../images/testsets/Gallagher_small/17_183.jpg']\n",
        "Score: 0.0399 for 21 and 17"
       ]
      },
      {
       "output_type": "stream",
       "stream": "stdout",
       "text": [
        "\n",
        "['../../images/testsets/Gallagher_small/21_294.jpg', '../../images/testsets/Gallagher_small/19_187.jpg']\n",
        "Score: -0.1000 for 21 and 19 (Less than two matches)"
       ]
      },
      {
       "output_type": "stream",
       "stream": "stdout",
       "text": [
        "\n",
        "['../../images/testsets/Gallagher_small/21_294.jpg', '../../images/testsets/Gallagher_small/31_580.jpg']\n",
        "Score: -0.1000 for 21 and 31 (Less than two matches)"
       ]
      },
      {
       "output_type": "stream",
       "stream": "stdout",
       "text": [
        "\n",
        "['../../images/testsets/Gallagher_small/21_294.jpg', '../../images/testsets/Gallagher_small/21_872.jpg']\n",
        "Score: -0.1000 for 21 and 21 (Less than two matches)"
       ]
      },
      {
       "output_type": "stream",
       "stream": "stdout",
       "text": [
        "\n",
        "['../../images/testsets/Gallagher_small/21_294.jpg', '../../images/testsets/Gallagher_small/23_307.jpg']\n",
        "Score: 0.0988 for 21 and 23"
       ]
      },
      {
       "output_type": "stream",
       "stream": "stdout",
       "text": [
        "\n",
        "['../../images/testsets/Gallagher_small/21_294.jpg', '../../images/testsets/Gallagher_small/25_462.jpg']\n",
        "Score: -0.1000 for 21 and 25 (Less than two matches)"
       ]
      },
      {
       "output_type": "stream",
       "stream": "stdout",
       "text": [
        "\n",
        "['../../images/testsets/Gallagher_small/21_294.jpg', '../../images/testsets/Gallagher_small/23_534.jpg']\n",
        "Score: -0.1000 for 21 and 23 (Less than two matches)"
       ]
      },
      {
       "output_type": "stream",
       "stream": "stdout",
       "text": [
        "\n",
        "['../../images/testsets/Gallagher_small/21_294.jpg', '../../images/testsets/Gallagher_small/31_582.jpg']\n",
        "Score: 0.1133 for 21 and 31"
       ]
      },
      {
       "output_type": "stream",
       "stream": "stdout",
       "text": [
        "\n",
        "['../../images/testsets/Gallagher_small/21_294.jpg', '../../images/testsets/Gallagher_small/15_224.jpg']\n",
        "Score: -0.1000 for 21 and 15 (Less than two matches)"
       ]
      },
      {
       "output_type": "stream",
       "stream": "stdout",
       "text": [
        "\n",
        "['../../images/testsets/Gallagher_small/21_294.jpg', '../../images/testsets/Gallagher_small/23_508.jpg']\n",
        "Score: -0.1000 for 21 and 23 (Less than two matches)"
       ]
      },
      {
       "output_type": "stream",
       "stream": "stdout",
       "text": [
        "\n",
        "['../../images/testsets/Gallagher_small/21_294.jpg', '../../images/testsets/Gallagher_small/18_220.jpg']\n",
        "Score: -0.1000 for 21 and 18 (Less than two matches)"
       ]
      },
      {
       "output_type": "stream",
       "stream": "stdout",
       "text": [
        "\n",
        "['../../images/testsets/Gallagher_small/21_294.jpg', '../../images/testsets/Gallagher_small/15_151.jpg']\n",
        "Score: -0.1000 for 21 and 15 (Less than two matches)"
       ]
      },
      {
       "output_type": "stream",
       "stream": "stdout",
       "text": [
        "\n",
        "['../../images/testsets/Gallagher_small/21_294.jpg', '../../images/testsets/Gallagher_small/16_182.jpg']\n",
        "Score: -0.1000 for 21 and 16 (Less than two matches)"
       ]
      },
      {
       "output_type": "stream",
       "stream": "stdout",
       "text": [
        "\n",
        "['../../images/testsets/Gallagher_small/21_294.jpg', '../../images/testsets/Gallagher_small/23_875.jpg']\n",
        "Score: 0.0606 for 21 and 23"
       ]
      },
      {
       "output_type": "stream",
       "stream": "stdout",
       "text": [
        "\n",
        "['../../images/testsets/Gallagher_small/21_294.jpg', '../../images/testsets/Gallagher_small/23_549.jpg']\n",
        "Score: -0.1000 for 21 and 23 (Less than two matches)"
       ]
      },
      {
       "output_type": "stream",
       "stream": "stdout",
       "text": [
        "\n",
        "['../../images/testsets/Gallagher_small/21_294.jpg', '../../images/testsets/Gallagher_small/32_648.jpg']\n",
        "Score: -0.1000 for 21 and 32 (Less than two matches)"
       ]
      },
      {
       "output_type": "stream",
       "stream": "stdout",
       "text": [
        "\n",
        "['../../images/testsets/Gallagher_small/21_294.jpg', '../../images/testsets/Gallagher_small/15_171.jpg']\n",
        "Score: 0.0620 for 21 and 15"
       ]
      },
      {
       "output_type": "stream",
       "stream": "stdout",
       "text": [
        "\n",
        "['../../images/testsets/Gallagher_small/21_294.jpg', '../../images/testsets/Gallagher_small/24_358.jpg']\n",
        "Score: 0.0580 for 21 and 24"
       ]
      },
      {
       "output_type": "stream",
       "stream": "stdout",
       "text": [
        "\n",
        "['../../images/testsets/Gallagher_small/21_294.jpg', '../../images/testsets/Gallagher_small/25_458.jpg']\n",
        "Score: -0.1000 for 21 and 25 (Less than two matches)"
       ]
      },
      {
       "output_type": "stream",
       "stream": "stdout",
       "text": [
        "\n",
        "['../../images/testsets/Gallagher_small/21_294.jpg', '../../images/testsets/Gallagher_small/30_569.jpg']\n",
        "Score: -0.1000 for 21 and 30 (Less than two matches)"
       ]
      },
      {
       "output_type": "stream",
       "stream": "stdout",
       "text": [
        "\n",
        "['../../images/testsets/Gallagher_small/21_294.jpg', '../../images/testsets/Gallagher_small/32_645.jpg']\n",
        "Score: 0.0527 for 21 and 32"
       ]
      },
      {
       "output_type": "stream",
       "stream": "stdout",
       "text": [
        "\n",
        "['../../images/testsets/Gallagher_small/21_294.jpg', '../../images/testsets/Gallagher_small/29_538.jpg']\n",
        "Score: -0.1000 for 21 and 29 (Less than two matches)"
       ]
      },
      {
       "output_type": "stream",
       "stream": "stdout",
       "text": [
        "\n",
        "['../../images/testsets/Gallagher_small/21_294.jpg', '../../images/testsets/Gallagher_small/21_251.jpg']\n",
        "Score: 0.0475 for 21 and 21"
       ]
      },
      {
       "output_type": "stream",
       "stream": "stdout",
       "text": [
        "\n",
        "['../../images/testsets/Gallagher_small/21_294.jpg', '../../images/testsets/Gallagher_small/20_249.jpg']\n",
        "Score: -0.1000 for 21 and 20 (Less than two matches)"
       ]
      },
      {
       "output_type": "stream",
       "stream": "stdout",
       "text": [
        "\n",
        "['../../images/testsets/Gallagher_small/21_294.jpg', '../../images/testsets/Gallagher_small/15_181.jpg']\n",
        "Score: 0.0502 for 21 and 15"
       ]
      },
      {
       "output_type": "stream",
       "stream": "stdout",
       "text": [
        "\n",
        "['../../images/testsets/Gallagher_small/21_294.jpg', '../../images/testsets/Gallagher_small/15_158.jpg']\n",
        "Score: -0.1000 for 21 and 15 (Less than two matches)"
       ]
      },
      {
       "output_type": "stream",
       "stream": "stdout",
       "text": [
        "\n",
        "['../../images/testsets/Gallagher_small/21_294.jpg', '../../images/testsets/Gallagher_small/19_195.jpg']\n",
        "Score: -0.1000 for 21 and 19 (Less than two matches)"
       ]
      },
      {
       "output_type": "stream",
       "stream": "stdout",
       "text": [
        "\n",
        "['../../images/testsets/Gallagher_small/21_294.jpg', '../../images/testsets/Gallagher_small/19_193.jpg']\n",
        "Score: -0.1000 for 21 and 19 (Less than two matches)"
       ]
      },
      {
       "output_type": "stream",
       "stream": "stdout",
       "text": [
        "\n",
        "['../../images/testsets/Gallagher_small/21_294.jpg', '../../images/testsets/Gallagher_small/21_287.jpg']\n",
        "Score: 0.0589 for 21 and 21"
       ]
      },
      {
       "output_type": "stream",
       "stream": "stdout",
       "text": [
        "\n",
        "['../../images/testsets/Gallagher_small/21_294.jpg', '../../images/testsets/Gallagher_small/26_565.jpg']\n",
        "Score: -0.1000 for 21 and 26 (Less than two matches)"
       ]
      },
      {
       "output_type": "stream",
       "stream": "stdout",
       "text": [
        "\n",
        "['../../images/testsets/Gallagher_small/21_294.jpg', '../../images/testsets/Gallagher_small/27_509.jpg']\n",
        "Score: -0.1000 for 21 and 27 (Less than two matches)"
       ]
      },
      {
       "output_type": "stream",
       "stream": "stdout",
       "text": [
        "\n",
        "['../../images/testsets/Gallagher_small/21_294.jpg', '../../images/testsets/Gallagher_small/15_169.jpg']\n",
        "Score: -0.1000 for 21 and 15 (Less than two matches)"
       ]
      },
      {
       "output_type": "stream",
       "stream": "stdout",
       "text": [
        "\n",
        "['../../images/testsets/Gallagher_small/21_294.jpg', '../../images/testsets/Gallagher_small/15_167.jpg']\n",
        "Score: -0.1000 for 21 and 15 (Less than two matches)"
       ]
      },
      {
       "output_type": "stream",
       "stream": "stdout",
       "text": [
        "\n",
        "['../../images/testsets/Gallagher_small/21_294.jpg', '../../images/testsets/Gallagher_small/21_587.jpg']\n",
        "Score: -0.1000 for 21 and 21 (Less than two matches)"
       ]
      },
      {
       "output_type": "stream",
       "stream": "stdout",
       "text": [
        "\n",
        "['../../images/testsets/Gallagher_small/21_294.jpg', '../../images/testsets/Gallagher_small/15_222.jpg']\n",
        "Score: -0.1000 for 21 and 15 (Less than two matches)"
       ]
      },
      {
       "output_type": "stream",
       "stream": "stdout",
       "text": [
        "\n",
        "['../../images/testsets/Gallagher_small/21_294.jpg', '../../images/testsets/Gallagher_small/16_178.jpg']\n",
        "Score: -0.1000 for 21 and 16 (Less than two matches)"
       ]
      },
      {
       "output_type": "stream",
       "stream": "stdout",
       "text": [
        "\n",
        "['../../images/testsets/Gallagher_small/21_294.jpg', '../../images/testsets/Gallagher_small/17_165.jpg']\n",
        "Score: -0.1000 for 21 and 17 (Less than two matches)"
       ]
      },
      {
       "output_type": "stream",
       "stream": "stdout",
       "text": [
        "\n",
        "['../../images/testsets/Gallagher_small/21_294.jpg', '../../images/testsets/Gallagher_small/28_537.jpg']\n",
        "Score: -0.1000 for 21 and 28 (Less than two matches)"
       ]
      },
      {
       "output_type": "stream",
       "stream": "stdout",
       "text": [
        "\n",
        "['../../images/testsets/Gallagher_small/21_294.jpg', '../../images/testsets/Gallagher_small/27_524.jpg']\n",
        "Score: -0.1000 for 21 and 27 (Less than two matches)"
       ]
      },
      {
       "output_type": "stream",
       "stream": "stdout",
       "text": [
        "\n",
        "['../../images/testsets/Gallagher_small/21_294.jpg', '../../images/testsets/Gallagher_small/13_163.jpg']\n",
        "Score: -0.1000 for 21 and 13 (Less than two matches)"
       ]
      },
      {
       "output_type": "stream",
       "stream": "stdout",
       "text": [
        "\n",
        "['../../images/testsets/Gallagher_small/21_294.jpg', '../../images/testsets/Gallagher_small/23_302.jpg']\n",
        "Score: 0.0031 for 21 and 23"
       ]
      },
      {
       "output_type": "stream",
       "stream": "stdout",
       "text": [
        "\n",
        "['../../images/testsets/Gallagher_small/14_206.jpg', '../../images/testsets/Gallagher_small/26_535.jpg']\n",
        "Score: -0.1000 for 14 and 26 (Less than two matches)"
       ]
      },
      {
       "output_type": "stream",
       "stream": "stdout",
       "text": [
        "\n",
        "['../../images/testsets/Gallagher_small/14_206.jpg', '../../images/testsets/Gallagher_small/22_255.jpg']\n",
        "Score: -0.1000 for 14 and 22 (Less than two matches)"
       ]
      },
      {
       "output_type": "stream",
       "stream": "stdout",
       "text": [
        "\n",
        "['../../images/testsets/Gallagher_small/14_206.jpg', '../../images/testsets/Gallagher_small/29_553.jpg']\n",
        "Score: -0.1000 for 14 and 29 (Less than two matches)"
       ]
      },
      {
       "output_type": "stream",
       "stream": "stdout",
       "text": [
        "\n",
        "['../../images/testsets/Gallagher_small/14_206.jpg', '../../images/testsets/Gallagher_small/13_168.jpg']\n",
        "Score: -0.1000 for 14 and 13 (Less than two matches)"
       ]
      },
      {
       "output_type": "stream",
       "stream": "stdout",
       "text": [
        "\n",
        "['../../images/testsets/Gallagher_small/14_206.jpg', '../../images/testsets/Gallagher_small/28_552.jpg']\n",
        "Score: 0.0118 for 14 and 28"
       ]
      },
      {
       "output_type": "stream",
       "stream": "stdout",
       "text": [
        "\n",
        "['../../images/testsets/Gallagher_small/14_206.jpg', '../../images/testsets/Gallagher_small/13_145.jpg']\n",
        "Score: -0.1000 for 14 and 13 (Less than two matches)"
       ]
      },
      {
       "output_type": "stream",
       "stream": "stdout",
       "text": [
        "\n",
        "['../../images/testsets/Gallagher_small/14_206.jpg', '../../images/testsets/Gallagher_small/14_207.jpg']\n",
        "Score: 0.0402 for 14 and 14"
       ]
      },
      {
       "output_type": "stream",
       "stream": "stdout",
       "text": [
        "\n",
        "['../../images/testsets/Gallagher_small/14_206.jpg', '../../images/testsets/Gallagher_small/14_150.jpg']\n",
        "Score: 0.0394 for 14 and 14"
       ]
      },
      {
       "output_type": "stream",
       "stream": "stdout",
       "text": [
        "\n",
        "['../../images/testsets/Gallagher_small/14_206.jpg', '../../images/testsets/Gallagher_small/27_566.jpg']\n",
        "Score: -0.1000 for 14 and 27 (Less than two matches)"
       ]
      },
      {
       "output_type": "stream",
       "stream": "stdout",
       "text": [
        "\n",
        "['../../images/testsets/Gallagher_small/14_206.jpg', '../../images/testsets/Gallagher_small/17_183.jpg']\n",
        "Score: 0.0359 for 14 and 17"
       ]
      },
      {
       "output_type": "stream",
       "stream": "stdout",
       "text": [
        "\n",
        "['../../images/testsets/Gallagher_small/14_206.jpg', '../../images/testsets/Gallagher_small/19_187.jpg']\n",
        "Score: -0.1000 for 14 and 19 (Less than two matches)"
       ]
      },
      {
       "output_type": "stream",
       "stream": "stdout",
       "text": [
        "\n",
        "['../../images/testsets/Gallagher_small/14_206.jpg', '../../images/testsets/Gallagher_small/31_580.jpg']\n",
        "Score: -0.1000 for 14 and 31 (Less than two matches)"
       ]
      },
      {
       "output_type": "stream",
       "stream": "stdout",
       "text": [
        "\n",
        "['../../images/testsets/Gallagher_small/14_206.jpg', '../../images/testsets/Gallagher_small/21_872.jpg']\n",
        "Score: -0.1000 for 14 and 21 (Less than two matches)"
       ]
      },
      {
       "output_type": "stream",
       "stream": "stdout",
       "text": [
        "\n",
        "['../../images/testsets/Gallagher_small/14_206.jpg', '../../images/testsets/Gallagher_small/23_307.jpg']\n",
        "Score: -0.1000 for 14 and 23 (Less than two matches)"
       ]
      },
      {
       "output_type": "stream",
       "stream": "stdout",
       "text": [
        "\n",
        "['../../images/testsets/Gallagher_small/14_206.jpg', '../../images/testsets/Gallagher_small/25_462.jpg']\n",
        "Score: -0.1000 for 14 and 25 (Less than two matches)"
       ]
      },
      {
       "output_type": "stream",
       "stream": "stdout",
       "text": [
        "\n",
        "['../../images/testsets/Gallagher_small/14_206.jpg', '../../images/testsets/Gallagher_small/23_534.jpg']\n",
        "Score: -0.1000 for 14 and 23 (Less than two matches)"
       ]
      },
      {
       "output_type": "stream",
       "stream": "stdout",
       "text": [
        "\n",
        "['../../images/testsets/Gallagher_small/14_206.jpg', '../../images/testsets/Gallagher_small/31_582.jpg']\n",
        "Score: -0.1000 for 14 and 31 (Less than two matches)"
       ]
      },
      {
       "output_type": "stream",
       "stream": "stdout",
       "text": [
        "\n",
        "['../../images/testsets/Gallagher_small/14_206.jpg', '../../images/testsets/Gallagher_small/15_224.jpg']\n",
        "Score: -0.1000 for 14 and 15 (Less than two matches)"
       ]
      },
      {
       "output_type": "stream",
       "stream": "stdout",
       "text": [
        "\n",
        "['../../images/testsets/Gallagher_small/14_206.jpg', '../../images/testsets/Gallagher_small/23_508.jpg']\n",
        "Score: 0.0323 for 14 and 23"
       ]
      },
      {
       "output_type": "stream",
       "stream": "stdout",
       "text": [
        "\n",
        "['../../images/testsets/Gallagher_small/14_206.jpg', '../../images/testsets/Gallagher_small/18_220.jpg']\n",
        "Score: 0.0398 for 14 and 18"
       ]
      },
      {
       "output_type": "stream",
       "stream": "stdout",
       "text": [
        "\n",
        "['../../images/testsets/Gallagher_small/14_206.jpg', '../../images/testsets/Gallagher_small/15_151.jpg']\n",
        "Score: -0.1000 for 14 and 15 (Less than two matches)"
       ]
      },
      {
       "output_type": "stream",
       "stream": "stdout",
       "text": [
        "\n",
        "['../../images/testsets/Gallagher_small/14_206.jpg', '../../images/testsets/Gallagher_small/16_182.jpg']\n",
        "Score: -0.1000 for 14 and 16 (Less than two matches)"
       ]
      },
      {
       "output_type": "stream",
       "stream": "stdout",
       "text": [
        "\n",
        "['../../images/testsets/Gallagher_small/14_206.jpg', '../../images/testsets/Gallagher_small/23_875.jpg']\n",
        "Score: -0.1000 for 14 and 23 (Less than two matches)"
       ]
      },
      {
       "output_type": "stream",
       "stream": "stdout",
       "text": [
        "\n",
        "['../../images/testsets/Gallagher_small/14_206.jpg', '../../images/testsets/Gallagher_small/23_549.jpg']\n",
        "Score: 0.0544 for 14 and 23"
       ]
      },
      {
       "output_type": "stream",
       "stream": "stdout",
       "text": [
        "\n",
        "['../../images/testsets/Gallagher_small/14_206.jpg', '../../images/testsets/Gallagher_small/32_648.jpg']\n",
        "Score: -0.1000 for 14 and 32 (Less than two matches)"
       ]
      },
      {
       "output_type": "stream",
       "stream": "stdout",
       "text": [
        "\n",
        "['../../images/testsets/Gallagher_small/14_206.jpg', '../../images/testsets/Gallagher_small/15_171.jpg']\n",
        "Score: 0.0074 for 14 and 15"
       ]
      },
      {
       "output_type": "stream",
       "stream": "stdout",
       "text": [
        "\n",
        "['../../images/testsets/Gallagher_small/14_206.jpg', '../../images/testsets/Gallagher_small/24_358.jpg']\n",
        "Score: 0.0346 for 14 and 24"
       ]
      },
      {
       "output_type": "stream",
       "stream": "stdout",
       "text": [
        "\n",
        "['../../images/testsets/Gallagher_small/14_206.jpg', '../../images/testsets/Gallagher_small/25_458.jpg']\n",
        "Score: -0.1000 for 14 and 25 (Less than two matches)"
       ]
      },
      {
       "output_type": "stream",
       "stream": "stdout",
       "text": [
        "\n",
        "['../../images/testsets/Gallagher_small/14_206.jpg', '../../images/testsets/Gallagher_small/30_569.jpg']\n",
        "Score: -0.1000 for 14 and 30 (Less than two matches)"
       ]
      },
      {
       "output_type": "stream",
       "stream": "stdout",
       "text": [
        "\n",
        "['../../images/testsets/Gallagher_small/14_206.jpg', '../../images/testsets/Gallagher_small/32_645.jpg']\n",
        "Score: 0.0835 for 14 and 32"
       ]
      },
      {
       "output_type": "stream",
       "stream": "stdout",
       "text": [
        "\n",
        "['../../images/testsets/Gallagher_small/14_206.jpg', '../../images/testsets/Gallagher_small/29_538.jpg']\n",
        "Score: -0.1000 for 14 and 29 (Less than two matches)"
       ]
      },
      {
       "output_type": "stream",
       "stream": "stdout",
       "text": [
        "\n",
        "['../../images/testsets/Gallagher_small/14_206.jpg', '../../images/testsets/Gallagher_small/21_251.jpg']\n",
        "Score: -0.1000 for 14 and 21 (Less than two matches)"
       ]
      },
      {
       "output_type": "stream",
       "stream": "stdout",
       "text": [
        "\n",
        "['../../images/testsets/Gallagher_small/14_206.jpg', '../../images/testsets/Gallagher_small/20_249.jpg']\n",
        "Score: -0.1000 for 14 and 20 (Less than two matches)"
       ]
      },
      {
       "output_type": "stream",
       "stream": "stdout",
       "text": [
        "\n",
        "['../../images/testsets/Gallagher_small/14_206.jpg', '../../images/testsets/Gallagher_small/15_181.jpg']\n",
        "Score: -0.1000 for 14 and 15 (Less than two matches)"
       ]
      },
      {
       "output_type": "stream",
       "stream": "stdout",
       "text": [
        "\n",
        "['../../images/testsets/Gallagher_small/14_206.jpg', '../../images/testsets/Gallagher_small/15_158.jpg']\n",
        "Score: 0.0195 for 14 and 15"
       ]
      },
      {
       "output_type": "stream",
       "stream": "stdout",
       "text": [
        "\n",
        "['../../images/testsets/Gallagher_small/14_206.jpg', '../../images/testsets/Gallagher_small/19_195.jpg']\n",
        "Score: 0.0768 for 14 and 19"
       ]
      },
      {
       "output_type": "stream",
       "stream": "stdout",
       "text": [
        "\n",
        "['../../images/testsets/Gallagher_small/14_206.jpg', '../../images/testsets/Gallagher_small/19_193.jpg']\n",
        "Score: -0.1000 for 14 and 19 (Less than two matches)"
       ]
      },
      {
       "output_type": "stream",
       "stream": "stdout",
       "text": [
        "\n",
        "['../../images/testsets/Gallagher_small/14_206.jpg', '../../images/testsets/Gallagher_small/21_287.jpg']\n",
        "Score: -0.1000 for 14 and 21 (Less than two matches)"
       ]
      },
      {
       "output_type": "stream",
       "stream": "stdout",
       "text": [
        "\n",
        "['../../images/testsets/Gallagher_small/14_206.jpg', '../../images/testsets/Gallagher_small/26_565.jpg']\n",
        "Score: -0.1000 for 14 and 26 (Less than two matches)"
       ]
      },
      {
       "output_type": "stream",
       "stream": "stdout",
       "text": [
        "\n",
        "['../../images/testsets/Gallagher_small/14_206.jpg', '../../images/testsets/Gallagher_small/27_509.jpg']\n",
        "Score: -0.1000 for 14 and 27 (Less than two matches)"
       ]
      },
      {
       "output_type": "stream",
       "stream": "stdout",
       "text": [
        "\n",
        "['../../images/testsets/Gallagher_small/14_206.jpg', '../../images/testsets/Gallagher_small/15_169.jpg']\n",
        "Score: -0.1000 for 14 and 15 (Less than two matches)"
       ]
      },
      {
       "output_type": "stream",
       "stream": "stdout",
       "text": [
        "\n",
        "['../../images/testsets/Gallagher_small/14_206.jpg', '../../images/testsets/Gallagher_small/15_167.jpg']\n",
        "Score: -0.1000 for 14 and 15 (Less than two matches)"
       ]
      },
      {
       "output_type": "stream",
       "stream": "stdout",
       "text": [
        "\n",
        "['../../images/testsets/Gallagher_small/14_206.jpg', '../../images/testsets/Gallagher_small/21_587.jpg']\n",
        "Score: 0.0280 for 14 and 21"
       ]
      },
      {
       "output_type": "stream",
       "stream": "stdout",
       "text": [
        "\n",
        "['../../images/testsets/Gallagher_small/14_206.jpg', '../../images/testsets/Gallagher_small/15_222.jpg']\n",
        "Score: -0.1000 for 14 and 15 (Less than two matches)"
       ]
      },
      {
       "output_type": "stream",
       "stream": "stdout",
       "text": [
        "\n",
        "['../../images/testsets/Gallagher_small/14_206.jpg', '../../images/testsets/Gallagher_small/16_178.jpg']\n",
        "Score: -0.1000 for 14 and 16 (Less than two matches)"
       ]
      },
      {
       "output_type": "stream",
       "stream": "stdout",
       "text": [
        "\n",
        "['../../images/testsets/Gallagher_small/14_206.jpg', '../../images/testsets/Gallagher_small/17_165.jpg']\n",
        "Score: -0.1000 for 14 and 17 (Less than two matches)"
       ]
      },
      {
       "output_type": "stream",
       "stream": "stdout",
       "text": [
        "\n",
        "['../../images/testsets/Gallagher_small/14_206.jpg', '../../images/testsets/Gallagher_small/28_537.jpg']\n",
        "Score: -0.1000 for 14 and 28 (Less than two matches)"
       ]
      },
      {
       "output_type": "stream",
       "stream": "stdout",
       "text": [
        "\n",
        "['../../images/testsets/Gallagher_small/14_206.jpg', '../../images/testsets/Gallagher_small/27_524.jpg']\n",
        "Score: -0.1000 for 14 and 27 (Less than two matches)"
       ]
      },
      {
       "output_type": "stream",
       "stream": "stdout",
       "text": [
        "\n",
        "['../../images/testsets/Gallagher_small/14_206.jpg', '../../images/testsets/Gallagher_small/13_163.jpg']\n",
        "Score: -0.1000 for 14 and 13 (Less than two matches)"
       ]
      },
      {
       "output_type": "stream",
       "stream": "stdout",
       "text": [
        "\n",
        "['../../images/testsets/Gallagher_small/14_206.jpg', '../../images/testsets/Gallagher_small/23_302.jpg']\n",
        "Score: 0.0324 for 14 and 23"
       ]
      },
      {
       "output_type": "stream",
       "stream": "stdout",
       "text": [
        "\n",
        "['../../images/testsets/Gallagher_small/26_535.jpg', '../../images/testsets/Gallagher_small/22_255.jpg']\n",
        "Score: -0.1000 for 26 and 22 (Less than two matches)"
       ]
      },
      {
       "output_type": "stream",
       "stream": "stdout",
       "text": [
        "\n",
        "['../../images/testsets/Gallagher_small/26_535.jpg', '../../images/testsets/Gallagher_small/29_553.jpg']\n",
        "Score: -0.1000 for 26 and 29 (Less than two matches)"
       ]
      },
      {
       "output_type": "stream",
       "stream": "stdout",
       "text": [
        "\n",
        "['../../images/testsets/Gallagher_small/26_535.jpg', '../../images/testsets/Gallagher_small/13_168.jpg']\n",
        "Score: -0.1000 for 26 and 13 (Less than two matches)"
       ]
      },
      {
       "output_type": "stream",
       "stream": "stdout",
       "text": [
        "\n",
        "['../../images/testsets/Gallagher_small/26_535.jpg', '../../images/testsets/Gallagher_small/28_552.jpg']\n",
        "Score: -0.1000 for 26 and 28 (Less than two matches)"
       ]
      },
      {
       "output_type": "stream",
       "stream": "stdout",
       "text": [
        "\n",
        "['../../images/testsets/Gallagher_small/26_535.jpg', '../../images/testsets/Gallagher_small/13_145.jpg']\n",
        "Score: -0.1000 for 26 and 13 (Less than two matches)"
       ]
      },
      {
       "output_type": "stream",
       "stream": "stdout",
       "text": [
        "\n",
        "['../../images/testsets/Gallagher_small/26_535.jpg', '../../images/testsets/Gallagher_small/14_207.jpg']\n",
        "Score: -0.1000 for 26 and 14 (Less than two matches)"
       ]
      },
      {
       "output_type": "stream",
       "stream": "stdout",
       "text": [
        "\n",
        "['../../images/testsets/Gallagher_small/26_535.jpg', '../../images/testsets/Gallagher_small/14_150.jpg']\n",
        "Score: -0.1000 for 26 and 14 (Less than two matches)"
       ]
      },
      {
       "output_type": "stream",
       "stream": "stdout",
       "text": [
        "\n",
        "['../../images/testsets/Gallagher_small/26_535.jpg', '../../images/testsets/Gallagher_small/27_566.jpg']\n",
        "Score: -0.1000 for 26 and 27 (Less than two matches)"
       ]
      },
      {
       "output_type": "stream",
       "stream": "stdout",
       "text": [
        "\n",
        "['../../images/testsets/Gallagher_small/26_535.jpg', '../../images/testsets/Gallagher_small/17_183.jpg']\n",
        "Score: -0.1000 for 26 and 17 (Less than two matches)"
       ]
      },
      {
       "output_type": "stream",
       "stream": "stdout",
       "text": [
        "\n",
        "['../../images/testsets/Gallagher_small/26_535.jpg', '../../images/testsets/Gallagher_small/19_187.jpg']\n",
        "Score: -0.1000 for 26 and 19 (Less than two matches)"
       ]
      },
      {
       "output_type": "stream",
       "stream": "stdout",
       "text": [
        "\n",
        "['../../images/testsets/Gallagher_small/26_535.jpg', '../../images/testsets/Gallagher_small/31_580.jpg']\n",
        "Score: -0.1000 for 26 and 31 (Less than two matches)"
       ]
      },
      {
       "output_type": "stream",
       "stream": "stdout",
       "text": [
        "\n",
        "['../../images/testsets/Gallagher_small/26_535.jpg', '../../images/testsets/Gallagher_small/21_872.jpg']\n",
        "Score: -0.1000 for 26 and 21 (Less than two matches)"
       ]
      },
      {
       "output_type": "stream",
       "stream": "stdout",
       "text": [
        "\n",
        "['../../images/testsets/Gallagher_small/26_535.jpg', '../../images/testsets/Gallagher_small/23_307.jpg']\n",
        "Score: -0.1000 for 26 and 23 (Less than two matches)"
       ]
      },
      {
       "output_type": "stream",
       "stream": "stdout",
       "text": [
        "\n",
        "['../../images/testsets/Gallagher_small/26_535.jpg', '../../images/testsets/Gallagher_small/25_462.jpg']\n",
        "Score: -0.1000 for 26 and 25 (Less than two matches)"
       ]
      },
      {
       "output_type": "stream",
       "stream": "stdout",
       "text": [
        "\n",
        "['../../images/testsets/Gallagher_small/26_535.jpg', '../../images/testsets/Gallagher_small/23_534.jpg']\n",
        "Score: -0.1000 for 26 and 23 (Less than two matches)"
       ]
      },
      {
       "output_type": "stream",
       "stream": "stdout",
       "text": [
        "\n",
        "['../../images/testsets/Gallagher_small/26_535.jpg', '../../images/testsets/Gallagher_small/31_582.jpg']\n",
        "Score: -0.1000 for 26 and 31 (Less than two matches)"
       ]
      },
      {
       "output_type": "stream",
       "stream": "stdout",
       "text": [
        "\n",
        "['../../images/testsets/Gallagher_small/26_535.jpg', '../../images/testsets/Gallagher_small/15_224.jpg']\n",
        "Score: -0.1000 for 26 and 15 (Less than two matches)"
       ]
      },
      {
       "output_type": "stream",
       "stream": "stdout",
       "text": [
        "\n",
        "['../../images/testsets/Gallagher_small/26_535.jpg', '../../images/testsets/Gallagher_small/23_508.jpg']\n",
        "Score: -0.1000 for 26 and 23 (Less than two matches)"
       ]
      },
      {
       "output_type": "stream",
       "stream": "stdout",
       "text": [
        "\n",
        "['../../images/testsets/Gallagher_small/26_535.jpg', '../../images/testsets/Gallagher_small/18_220.jpg']\n",
        "Score: -0.1000 for 26 and 18 (Less than two matches)"
       ]
      },
      {
       "output_type": "stream",
       "stream": "stdout",
       "text": [
        "\n",
        "['../../images/testsets/Gallagher_small/26_535.jpg', '../../images/testsets/Gallagher_small/15_151.jpg']\n",
        "Score: -0.1000 for 26 and 15 (Less than two matches)"
       ]
      },
      {
       "output_type": "stream",
       "stream": "stdout",
       "text": [
        "\n",
        "['../../images/testsets/Gallagher_small/26_535.jpg', '../../images/testsets/Gallagher_small/16_182.jpg']\n",
        "Score: -0.1000 for 26 and 16 (Less than two matches)"
       ]
      },
      {
       "output_type": "stream",
       "stream": "stdout",
       "text": [
        "\n",
        "['../../images/testsets/Gallagher_small/26_535.jpg', '../../images/testsets/Gallagher_small/23_875.jpg']\n",
        "Score: -0.1000 for 26 and 23 (Less than two matches)"
       ]
      },
      {
       "output_type": "stream",
       "stream": "stdout",
       "text": [
        "\n",
        "['../../images/testsets/Gallagher_small/26_535.jpg', '../../images/testsets/Gallagher_small/23_549.jpg']\n",
        "Score: -0.1000 for 26 and 23 (Less than two matches)"
       ]
      },
      {
       "output_type": "stream",
       "stream": "stdout",
       "text": [
        "\n",
        "['../../images/testsets/Gallagher_small/26_535.jpg', '../../images/testsets/Gallagher_small/32_648.jpg']\n",
        "Score: -0.1000 for 26 and 32 (Less than two matches)"
       ]
      },
      {
       "output_type": "stream",
       "stream": "stdout",
       "text": [
        "\n",
        "['../../images/testsets/Gallagher_small/26_535.jpg', '../../images/testsets/Gallagher_small/15_171.jpg']\n",
        "Score: -0.1000 for 26 and 15 (Less than two matches)"
       ]
      },
      {
       "output_type": "stream",
       "stream": "stdout",
       "text": [
        "\n",
        "['../../images/testsets/Gallagher_small/26_535.jpg', '../../images/testsets/Gallagher_small/24_358.jpg']\n",
        "Score: -0.1000 for 26 and 24 (Less than two matches)"
       ]
      },
      {
       "output_type": "stream",
       "stream": "stdout",
       "text": [
        "\n",
        "['../../images/testsets/Gallagher_small/26_535.jpg', '../../images/testsets/Gallagher_small/25_458.jpg']\n",
        "Score: -0.1000 for 26 and 25 (Less than two matches)"
       ]
      },
      {
       "output_type": "stream",
       "stream": "stdout",
       "text": [
        "\n",
        "['../../images/testsets/Gallagher_small/26_535.jpg', '../../images/testsets/Gallagher_small/30_569.jpg']\n",
        "Score: -0.1000 for 26 and 30 (Less than two matches)"
       ]
      },
      {
       "output_type": "stream",
       "stream": "stdout",
       "text": [
        "\n",
        "['../../images/testsets/Gallagher_small/26_535.jpg', '../../images/testsets/Gallagher_small/32_645.jpg']\n",
        "Score: -0.1000 for 26 and 32 (Less than two matches)"
       ]
      },
      {
       "output_type": "stream",
       "stream": "stdout",
       "text": [
        "\n",
        "['../../images/testsets/Gallagher_small/26_535.jpg', '../../images/testsets/Gallagher_small/29_538.jpg']\n",
        "Score: -0.1000 for 26 and 29 (Less than two matches)"
       ]
      },
      {
       "output_type": "stream",
       "stream": "stdout",
       "text": [
        "\n",
        "['../../images/testsets/Gallagher_small/26_535.jpg', '../../images/testsets/Gallagher_small/21_251.jpg']\n",
        "Score: -0.1000 for 26 and 21 (Less than two matches)"
       ]
      },
      {
       "output_type": "stream",
       "stream": "stdout",
       "text": [
        "\n",
        "['../../images/testsets/Gallagher_small/26_535.jpg', '../../images/testsets/Gallagher_small/20_249.jpg']\n",
        "Score: -0.1000 for 26 and 20 (Less than two matches)"
       ]
      },
      {
       "output_type": "stream",
       "stream": "stdout",
       "text": [
        "\n",
        "['../../images/testsets/Gallagher_small/26_535.jpg', '../../images/testsets/Gallagher_small/15_181.jpg']\n",
        "Score: -0.1000 for 26 and 15 (Less than two matches)"
       ]
      },
      {
       "output_type": "stream",
       "stream": "stdout",
       "text": [
        "\n",
        "['../../images/testsets/Gallagher_small/26_535.jpg', '../../images/testsets/Gallagher_small/15_158.jpg']\n",
        "Score: -0.1000 for 26 and 15 (Less than two matches)"
       ]
      },
      {
       "output_type": "stream",
       "stream": "stdout",
       "text": [
        "\n",
        "['../../images/testsets/Gallagher_small/26_535.jpg', '../../images/testsets/Gallagher_small/19_195.jpg']\n",
        "Score: -0.1000 for 26 and 19 (Less than two matches)"
       ]
      },
      {
       "output_type": "stream",
       "stream": "stdout",
       "text": [
        "\n",
        "['../../images/testsets/Gallagher_small/26_535.jpg', '../../images/testsets/Gallagher_small/19_193.jpg']\n",
        "Score: -0.1000 for 26 and 19 (Less than two matches)"
       ]
      },
      {
       "output_type": "stream",
       "stream": "stdout",
       "text": [
        "\n",
        "['../../images/testsets/Gallagher_small/26_535.jpg', '../../images/testsets/Gallagher_small/21_287.jpg']\n",
        "Score: -0.1000 for 26 and 21 (Less than two matches)"
       ]
      },
      {
       "output_type": "stream",
       "stream": "stdout",
       "text": [
        "\n",
        "['../../images/testsets/Gallagher_small/26_535.jpg', '../../images/testsets/Gallagher_small/26_565.jpg']\n",
        "Score: 0.0407 for 26 and 26"
       ]
      },
      {
       "output_type": "stream",
       "stream": "stdout",
       "text": [
        "\n",
        "['../../images/testsets/Gallagher_small/26_535.jpg', '../../images/testsets/Gallagher_small/27_509.jpg']\n",
        "Score: -0.1000 for 26 and 27 (Less than two matches)"
       ]
      },
      {
       "output_type": "stream",
       "stream": "stdout",
       "text": [
        "\n",
        "['../../images/testsets/Gallagher_small/26_535.jpg', '../../images/testsets/Gallagher_small/15_169.jpg']\n",
        "Score: -0.1000 for 26 and 15 (Less than two matches)"
       ]
      },
      {
       "output_type": "stream",
       "stream": "stdout",
       "text": [
        "\n",
        "['../../images/testsets/Gallagher_small/26_535.jpg', '../../images/testsets/Gallagher_small/15_167.jpg']\n",
        "Score: -0.1000 for 26 and 15 (Less than two matches)"
       ]
      },
      {
       "output_type": "stream",
       "stream": "stdout",
       "text": [
        "\n",
        "['../../images/testsets/Gallagher_small/26_535.jpg', '../../images/testsets/Gallagher_small/21_587.jpg']\n",
        "Score: -0.1000 for 26 and 21 (Less than two matches)"
       ]
      },
      {
       "output_type": "stream",
       "stream": "stdout",
       "text": [
        "\n",
        "['../../images/testsets/Gallagher_small/26_535.jpg', '../../images/testsets/Gallagher_small/15_222.jpg']\n",
        "Score: -0.1000 for 26 and 15 (Less than two matches)"
       ]
      },
      {
       "output_type": "stream",
       "stream": "stdout",
       "text": [
        "\n",
        "['../../images/testsets/Gallagher_small/26_535.jpg', '../../images/testsets/Gallagher_small/16_178.jpg']\n",
        "Score: -0.1000 for 26 and 16 (Less than two matches)"
       ]
      },
      {
       "output_type": "stream",
       "stream": "stdout",
       "text": [
        "\n",
        "['../../images/testsets/Gallagher_small/26_535.jpg', '../../images/testsets/Gallagher_small/17_165.jpg']\n",
        "Score: -0.1000 for 26 and 17 (Less than two matches)"
       ]
      },
      {
       "output_type": "stream",
       "stream": "stdout",
       "text": [
        "\n",
        "['../../images/testsets/Gallagher_small/26_535.jpg', '../../images/testsets/Gallagher_small/28_537.jpg']\n",
        "Score: -0.1000 for 26 and 28 (Less than two matches)"
       ]
      },
      {
       "output_type": "stream",
       "stream": "stdout",
       "text": [
        "\n",
        "['../../images/testsets/Gallagher_small/26_535.jpg', '../../images/testsets/Gallagher_small/27_524.jpg']\n",
        "Score: -0.1000 for 26 and 27 (Less than two matches)"
       ]
      },
      {
       "output_type": "stream",
       "stream": "stdout",
       "text": [
        "\n",
        "['../../images/testsets/Gallagher_small/26_535.jpg', '../../images/testsets/Gallagher_small/13_163.jpg']\n",
        "Score: -0.1000 for 26 and 13 (Less than two matches)"
       ]
      },
      {
       "output_type": "stream",
       "stream": "stdout",
       "text": [
        "\n",
        "['../../images/testsets/Gallagher_small/26_535.jpg', '../../images/testsets/Gallagher_small/23_302.jpg']\n",
        "Score: -0.1000 for 26 and 23 (Less than two matches)"
       ]
      },
      {
       "output_type": "stream",
       "stream": "stdout",
       "text": [
        "\n",
        "['../../images/testsets/Gallagher_small/22_255.jpg', '../../images/testsets/Gallagher_small/29_553.jpg']\n",
        "Score: -0.1000 for 22 and 29 (Less than two matches)"
       ]
      },
      {
       "output_type": "stream",
       "stream": "stdout",
       "text": [
        "\n",
        "['../../images/testsets/Gallagher_small/22_255.jpg', '../../images/testsets/Gallagher_small/13_168.jpg']\n",
        "Score: -0.1000 for 22 and 13 (Less than two matches)"
       ]
      },
      {
       "output_type": "stream",
       "stream": "stdout",
       "text": [
        "\n",
        "['../../images/testsets/Gallagher_small/22_255.jpg', '../../images/testsets/Gallagher_small/28_552.jpg']\n",
        "Score: -0.1000 for 22 and 28 (Less than two matches)"
       ]
      },
      {
       "output_type": "stream",
       "stream": "stdout",
       "text": [
        "\n",
        "['../../images/testsets/Gallagher_small/22_255.jpg', '../../images/testsets/Gallagher_small/13_145.jpg']\n",
        "Score: -0.1000 for 22 and 13 (Less than two matches)"
       ]
      },
      {
       "output_type": "stream",
       "stream": "stdout",
       "text": [
        "\n",
        "['../../images/testsets/Gallagher_small/22_255.jpg', '../../images/testsets/Gallagher_small/14_207.jpg']\n",
        "Score: -0.1000 for 22 and 14 (Less than two matches)"
       ]
      },
      {
       "output_type": "stream",
       "stream": "stdout",
       "text": [
        "\n",
        "['../../images/testsets/Gallagher_small/22_255.jpg', '../../images/testsets/Gallagher_small/14_150.jpg']\n",
        "Score: -0.1000 for 22 and 14 (Less than two matches)"
       ]
      },
      {
       "output_type": "stream",
       "stream": "stdout",
       "text": [
        "\n",
        "['../../images/testsets/Gallagher_small/22_255.jpg', '../../images/testsets/Gallagher_small/27_566.jpg']\n",
        "Score: -0.1000 for 22 and 27 (Less than two matches)"
       ]
      },
      {
       "output_type": "stream",
       "stream": "stdout",
       "text": [
        "\n",
        "['../../images/testsets/Gallagher_small/22_255.jpg', '../../images/testsets/Gallagher_small/17_183.jpg']\n",
        "Score: -0.0342 for 22 and 17"
       ]
      },
      {
       "output_type": "stream",
       "stream": "stdout",
       "text": [
        "\n",
        "['../../images/testsets/Gallagher_small/22_255.jpg', '../../images/testsets/Gallagher_small/19_187.jpg']\n",
        "Score: 0.0710 for 22 and 19"
       ]
      },
      {
       "output_type": "stream",
       "stream": "stdout",
       "text": [
        "\n",
        "['../../images/testsets/Gallagher_small/22_255.jpg', '../../images/testsets/Gallagher_small/31_580.jpg']\n",
        "Score: -0.1000 for 22 and 31 (Less than two matches)"
       ]
      },
      {
       "output_type": "stream",
       "stream": "stdout",
       "text": [
        "\n",
        "['../../images/testsets/Gallagher_small/22_255.jpg', '../../images/testsets/Gallagher_small/21_872.jpg']\n",
        "Score: -0.1000 for 22 and 21 (Less than two matches)"
       ]
      },
      {
       "output_type": "stream",
       "stream": "stdout",
       "text": [
        "\n",
        "['../../images/testsets/Gallagher_small/22_255.jpg', '../../images/testsets/Gallagher_small/23_307.jpg']\n",
        "Score: 0.0154 for 22 and 23"
       ]
      },
      {
       "output_type": "stream",
       "stream": "stdout",
       "text": [
        "\n",
        "['../../images/testsets/Gallagher_small/22_255.jpg', '../../images/testsets/Gallagher_small/25_462.jpg']\n",
        "Score: -0.1000 for 22 and 25 (Less than two matches)"
       ]
      },
      {
       "output_type": "stream",
       "stream": "stdout",
       "text": [
        "\n",
        "['../../images/testsets/Gallagher_small/22_255.jpg', '../../images/testsets/Gallagher_small/23_534.jpg']\n",
        "Score: -0.1000 for 22 and 23 (Less than two matches)"
       ]
      },
      {
       "output_type": "stream",
       "stream": "stdout",
       "text": [
        "\n",
        "['../../images/testsets/Gallagher_small/22_255.jpg', '../../images/testsets/Gallagher_small/31_582.jpg']\n",
        "Score: -0.1000 for 22 and 31 (Less than two matches)"
       ]
      },
      {
       "output_type": "stream",
       "stream": "stdout",
       "text": [
        "\n",
        "['../../images/testsets/Gallagher_small/22_255.jpg', '../../images/testsets/Gallagher_small/15_224.jpg']\n",
        "Score: -0.1000 for 22 and 15 (Less than two matches)"
       ]
      },
      {
       "output_type": "stream",
       "stream": "stdout",
       "text": [
        "\n",
        "['../../images/testsets/Gallagher_small/22_255.jpg', '../../images/testsets/Gallagher_small/23_508.jpg']\n",
        "Score: 0.0647 for 22 and 23"
       ]
      },
      {
       "output_type": "stream",
       "stream": "stdout",
       "text": [
        "\n",
        "['../../images/testsets/Gallagher_small/22_255.jpg', '../../images/testsets/Gallagher_small/18_220.jpg']\n",
        "Score: -0.1000 for 22 and 18 (Less than two matches)"
       ]
      },
      {
       "output_type": "stream",
       "stream": "stdout",
       "text": [
        "\n",
        "['../../images/testsets/Gallagher_small/22_255.jpg', '../../images/testsets/Gallagher_small/15_151.jpg']\n",
        "Score: -0.1000 for 22 and 15 (Less than two matches)"
       ]
      },
      {
       "output_type": "stream",
       "stream": "stdout",
       "text": [
        "\n",
        "['../../images/testsets/Gallagher_small/22_255.jpg', '../../images/testsets/Gallagher_small/16_182.jpg']\n",
        "Score: -0.1000 for 22 and 16 (Less than two matches)"
       ]
      },
      {
       "output_type": "stream",
       "stream": "stdout",
       "text": [
        "\n",
        "['../../images/testsets/Gallagher_small/22_255.jpg', '../../images/testsets/Gallagher_small/23_875.jpg']\n",
        "Score: -0.1000 for 22 and 23 (Less than two matches)"
       ]
      },
      {
       "output_type": "stream",
       "stream": "stdout",
       "text": [
        "\n",
        "['../../images/testsets/Gallagher_small/22_255.jpg', '../../images/testsets/Gallagher_small/23_549.jpg']\n",
        "Score: -0.1000 for 22 and 23 (Less than two matches)"
       ]
      },
      {
       "output_type": "stream",
       "stream": "stdout",
       "text": [
        "\n",
        "['../../images/testsets/Gallagher_small/22_255.jpg', '../../images/testsets/Gallagher_small/32_648.jpg']\n",
        "Score: -0.1000 for 22 and 32 (Less than two matches)"
       ]
      },
      {
       "output_type": "stream",
       "stream": "stdout",
       "text": [
        "\n",
        "['../../images/testsets/Gallagher_small/22_255.jpg', '../../images/testsets/Gallagher_small/15_171.jpg']\n",
        "Score: -0.1000 for 22 and 15 (Less than two matches)"
       ]
      },
      {
       "output_type": "stream",
       "stream": "stdout",
       "text": [
        "\n",
        "['../../images/testsets/Gallagher_small/22_255.jpg', '../../images/testsets/Gallagher_small/24_358.jpg']\n",
        "Score: -0.1000 for 22 and 24 (Less than two matches)"
       ]
      },
      {
       "output_type": "stream",
       "stream": "stdout",
       "text": [
        "\n",
        "['../../images/testsets/Gallagher_small/22_255.jpg', '../../images/testsets/Gallagher_small/25_458.jpg']\n",
        "Score: -0.1000 for 22 and 25 (Less than two matches)"
       ]
      },
      {
       "output_type": "stream",
       "stream": "stdout",
       "text": [
        "\n",
        "['../../images/testsets/Gallagher_small/22_255.jpg', '../../images/testsets/Gallagher_small/30_569.jpg']\n",
        "Score: -0.1000 for 22 and 30 (Less than two matches)"
       ]
      },
      {
       "output_type": "stream",
       "stream": "stdout",
       "text": [
        "\n",
        "['../../images/testsets/Gallagher_small/22_255.jpg', '../../images/testsets/Gallagher_small/32_645.jpg']\n",
        "Score: -0.1000 for 22 and 32 (Less than two matches)"
       ]
      },
      {
       "output_type": "stream",
       "stream": "stdout",
       "text": [
        "\n",
        "['../../images/testsets/Gallagher_small/22_255.jpg', '../../images/testsets/Gallagher_small/29_538.jpg']\n",
        "Score: -0.1000 for 22 and 29 (Less than two matches)"
       ]
      },
      {
       "output_type": "stream",
       "stream": "stdout",
       "text": [
        "\n",
        "['../../images/testsets/Gallagher_small/22_255.jpg', '../../images/testsets/Gallagher_small/21_251.jpg']\n",
        "Score: -0.1000 for 22 and 21 (Less than two matches)"
       ]
      },
      {
       "output_type": "stream",
       "stream": "stdout",
       "text": [
        "\n",
        "['../../images/testsets/Gallagher_small/22_255.jpg', '../../images/testsets/Gallagher_small/20_249.jpg']\n",
        "Score: -0.1000 for 22 and 20 (Less than two matches)"
       ]
      },
      {
       "output_type": "stream",
       "stream": "stdout",
       "text": [
        "\n",
        "['../../images/testsets/Gallagher_small/22_255.jpg', '../../images/testsets/Gallagher_small/15_181.jpg']\n",
        "Score: -0.1000 for 22 and 15 (Less than two matches)"
       ]
      },
      {
       "output_type": "stream",
       "stream": "stdout",
       "text": [
        "\n",
        "['../../images/testsets/Gallagher_small/22_255.jpg', '../../images/testsets/Gallagher_small/15_158.jpg']\n",
        "Score: -0.1000 for 22 and 15 (Less than two matches)"
       ]
      },
      {
       "output_type": "stream",
       "stream": "stdout",
       "text": [
        "\n",
        "['../../images/testsets/Gallagher_small/22_255.jpg', '../../images/testsets/Gallagher_small/19_195.jpg']\n",
        "Score: -0.1000 for 22 and 19 (Less than two matches)"
       ]
      },
      {
       "output_type": "stream",
       "stream": "stdout",
       "text": [
        "\n",
        "['../../images/testsets/Gallagher_small/22_255.jpg', '../../images/testsets/Gallagher_small/19_193.jpg']\n",
        "Score: -0.1000 for 22 and 19 (Less than two matches)"
       ]
      },
      {
       "output_type": "stream",
       "stream": "stdout",
       "text": [
        "\n",
        "['../../images/testsets/Gallagher_small/22_255.jpg', '../../images/testsets/Gallagher_small/21_287.jpg']\n",
        "Score: -0.1000 for 22 and 21 (Less than two matches)"
       ]
      },
      {
       "output_type": "stream",
       "stream": "stdout",
       "text": [
        "\n",
        "['../../images/testsets/Gallagher_small/22_255.jpg', '../../images/testsets/Gallagher_small/26_565.jpg']\n",
        "Score: -0.1000 for 22 and 26 (Less than two matches)"
       ]
      },
      {
       "output_type": "stream",
       "stream": "stdout",
       "text": [
        "\n",
        "['../../images/testsets/Gallagher_small/22_255.jpg', '../../images/testsets/Gallagher_small/27_509.jpg']\n",
        "Score: 0.0461 for 22 and 27"
       ]
      },
      {
       "output_type": "stream",
       "stream": "stdout",
       "text": [
        "\n",
        "['../../images/testsets/Gallagher_small/22_255.jpg', '../../images/testsets/Gallagher_small/15_169.jpg']\n",
        "Score: -0.1000 for 22 and 15 (Less than two matches)"
       ]
      },
      {
       "output_type": "stream",
       "stream": "stdout",
       "text": [
        "\n",
        "['../../images/testsets/Gallagher_small/22_255.jpg', '../../images/testsets/Gallagher_small/15_167.jpg']\n",
        "Score: -0.1000 for 22 and 15 (Less than two matches)"
       ]
      },
      {
       "output_type": "stream",
       "stream": "stdout",
       "text": [
        "\n",
        "['../../images/testsets/Gallagher_small/22_255.jpg', '../../images/testsets/Gallagher_small/21_587.jpg']\n",
        "Score: -0.1000 for 22 and 21 (Less than two matches)"
       ]
      },
      {
       "output_type": "stream",
       "stream": "stdout",
       "text": [
        "\n",
        "['../../images/testsets/Gallagher_small/22_255.jpg', '../../images/testsets/Gallagher_small/15_222.jpg']\n",
        "Score: -0.1000 for 22 and 15 (Less than two matches)"
       ]
      },
      {
       "output_type": "stream",
       "stream": "stdout",
       "text": [
        "\n",
        "['../../images/testsets/Gallagher_small/22_255.jpg', '../../images/testsets/Gallagher_small/16_178.jpg']\n",
        "Score: -0.1000 for 22 and 16 (Less than two matches)"
       ]
      },
      {
       "output_type": "stream",
       "stream": "stdout",
       "text": [
        "\n",
        "['../../images/testsets/Gallagher_small/22_255.jpg', '../../images/testsets/Gallagher_small/17_165.jpg']\n",
        "Score: -0.1000 for 22 and 17 (Less than two matches)"
       ]
      },
      {
       "output_type": "stream",
       "stream": "stdout",
       "text": [
        "\n",
        "['../../images/testsets/Gallagher_small/22_255.jpg', '../../images/testsets/Gallagher_small/28_537.jpg']\n",
        "Score: -0.1000 for 22 and 28 (Less than two matches)"
       ]
      },
      {
       "output_type": "stream",
       "stream": "stdout",
       "text": [
        "\n",
        "['../../images/testsets/Gallagher_small/22_255.jpg', '../../images/testsets/Gallagher_small/27_524.jpg']\n",
        "Score: 0.0179 for 22 and 27"
       ]
      },
      {
       "output_type": "stream",
       "stream": "stdout",
       "text": [
        "\n",
        "['../../images/testsets/Gallagher_small/22_255.jpg', '../../images/testsets/Gallagher_small/13_163.jpg']\n",
        "Score: -0.1000 for 22 and 13 (Less than two matches)"
       ]
      },
      {
       "output_type": "stream",
       "stream": "stdout",
       "text": [
        "\n",
        "['../../images/testsets/Gallagher_small/22_255.jpg', '../../images/testsets/Gallagher_small/23_302.jpg']\n",
        "Score: 0.0253 for 22 and 23"
       ]
      },
      {
       "output_type": "stream",
       "stream": "stdout",
       "text": [
        "\n",
        "['../../images/testsets/Gallagher_small/29_553.jpg', '../../images/testsets/Gallagher_small/13_168.jpg']\n",
        "Score: -0.1000 for 29 and 13 (Less than two matches)"
       ]
      },
      {
       "output_type": "stream",
       "stream": "stdout",
       "text": [
        "\n",
        "['../../images/testsets/Gallagher_small/29_553.jpg', '../../images/testsets/Gallagher_small/28_552.jpg']\n",
        "Score: -0.0420 for 29 and 28"
       ]
      },
      {
       "output_type": "stream",
       "stream": "stdout",
       "text": [
        "\n",
        "['../../images/testsets/Gallagher_small/29_553.jpg', '../../images/testsets/Gallagher_small/13_145.jpg']\n",
        "Score: -0.1000 for 29 and 13 (Less than two matches)"
       ]
      },
      {
       "output_type": "stream",
       "stream": "stdout",
       "text": [
        "\n",
        "['../../images/testsets/Gallagher_small/29_553.jpg', '../../images/testsets/Gallagher_small/14_207.jpg']\n",
        "Score: -0.1000 for 29 and 14 (Less than two matches)"
       ]
      },
      {
       "output_type": "stream",
       "stream": "stdout",
       "text": [
        "\n",
        "['../../images/testsets/Gallagher_small/29_553.jpg', '../../images/testsets/Gallagher_small/14_150.jpg']\n",
        "Score: -0.1000 for 29 and 14 (Less than two matches)"
       ]
      },
      {
       "output_type": "stream",
       "stream": "stdout",
       "text": [
        "\n",
        "['../../images/testsets/Gallagher_small/29_553.jpg', '../../images/testsets/Gallagher_small/27_566.jpg']\n",
        "Score: -0.1000 for 29 and 27 (Less than two matches)"
       ]
      },
      {
       "output_type": "stream",
       "stream": "stdout",
       "text": [
        "\n",
        "['../../images/testsets/Gallagher_small/29_553.jpg', '../../images/testsets/Gallagher_small/17_183.jpg']\n",
        "Score: 0.0346 for 29 and 17"
       ]
      },
      {
       "output_type": "stream",
       "stream": "stdout",
       "text": [
        "\n",
        "['../../images/testsets/Gallagher_small/29_553.jpg', '../../images/testsets/Gallagher_small/19_187.jpg']\n",
        "Score: -0.1000 for 29 and 19 (Less than two matches)"
       ]
      },
      {
       "output_type": "stream",
       "stream": "stdout",
       "text": [
        "\n",
        "['../../images/testsets/Gallagher_small/29_553.jpg', '../../images/testsets/Gallagher_small/31_580.jpg']\n",
        "Score: -0.1000 for 29 and 31 (Less than two matches)"
       ]
      },
      {
       "output_type": "stream",
       "stream": "stdout",
       "text": [
        "\n",
        "['../../images/testsets/Gallagher_small/29_553.jpg', '../../images/testsets/Gallagher_small/21_872.jpg']\n",
        "Score: -0.1000 for 29 and 21 (Less than two matches)"
       ]
      },
      {
       "output_type": "stream",
       "stream": "stdout",
       "text": [
        "\n",
        "['../../images/testsets/Gallagher_small/29_553.jpg', '../../images/testsets/Gallagher_small/23_307.jpg']\n",
        "Score: -0.1000 for 29 and 23 (Less than two matches)"
       ]
      },
      {
       "output_type": "stream",
       "stream": "stdout",
       "text": [
        "\n",
        "['../../images/testsets/Gallagher_small/29_553.jpg', '../../images/testsets/Gallagher_small/25_462.jpg']\n",
        "Score: 0.0514 for 29 and 25"
       ]
      },
      {
       "output_type": "stream",
       "stream": "stdout",
       "text": [
        "\n",
        "['../../images/testsets/Gallagher_small/29_553.jpg', '../../images/testsets/Gallagher_small/23_534.jpg']\n",
        "Score: -0.1000 for 29 and 23 (Less than two matches)"
       ]
      },
      {
       "output_type": "stream",
       "stream": "stdout",
       "text": [
        "\n",
        "['../../images/testsets/Gallagher_small/29_553.jpg', '../../images/testsets/Gallagher_small/31_582.jpg']\n",
        "Score: -0.1000 for 29 and 31 (Less than two matches)"
       ]
      },
      {
       "output_type": "stream",
       "stream": "stdout",
       "text": [
        "\n",
        "['../../images/testsets/Gallagher_small/29_553.jpg', '../../images/testsets/Gallagher_small/15_224.jpg']\n",
        "Score: -0.1000 for 29 and 15 (Less than two matches)"
       ]
      },
      {
       "output_type": "stream",
       "stream": "stdout",
       "text": [
        "\n",
        "['../../images/testsets/Gallagher_small/29_553.jpg', '../../images/testsets/Gallagher_small/23_508.jpg']\n",
        "Score: -0.1000 for 29 and 23 (Less than two matches)"
       ]
      },
      {
       "output_type": "stream",
       "stream": "stdout",
       "text": [
        "\n",
        "['../../images/testsets/Gallagher_small/29_553.jpg', '../../images/testsets/Gallagher_small/18_220.jpg']\n",
        "Score: -0.1000 for 29 and 18 (Less than two matches)"
       ]
      },
      {
       "output_type": "stream",
       "stream": "stdout",
       "text": [
        "\n",
        "['../../images/testsets/Gallagher_small/29_553.jpg', '../../images/testsets/Gallagher_small/15_151.jpg']\n",
        "Score: -0.1000 for 29 and 15 (Less than two matches)"
       ]
      },
      {
       "output_type": "stream",
       "stream": "stdout",
       "text": [
        "\n",
        "['../../images/testsets/Gallagher_small/29_553.jpg', '../../images/testsets/Gallagher_small/16_182.jpg']\n",
        "Score: -0.1000 for 29 and 16 (Less than two matches)"
       ]
      },
      {
       "output_type": "stream",
       "stream": "stdout",
       "text": [
        "\n",
        "['../../images/testsets/Gallagher_small/29_553.jpg', '../../images/testsets/Gallagher_small/23_875.jpg']\n",
        "Score: -0.1000 for 29 and 23 (Less than two matches)"
       ]
      },
      {
       "output_type": "stream",
       "stream": "stdout",
       "text": [
        "\n",
        "['../../images/testsets/Gallagher_small/29_553.jpg', '../../images/testsets/Gallagher_small/23_549.jpg']\n",
        "Score: -0.1000 for 29 and 23 (Less than two matches)"
       ]
      },
      {
       "output_type": "stream",
       "stream": "stdout",
       "text": [
        "\n",
        "['../../images/testsets/Gallagher_small/29_553.jpg', '../../images/testsets/Gallagher_small/32_648.jpg']\n",
        "Score: -0.1000 for 29 and 32 (Less than two matches)"
       ]
      },
      {
       "output_type": "stream",
       "stream": "stdout",
       "text": [
        "\n",
        "['../../images/testsets/Gallagher_small/29_553.jpg', '../../images/testsets/Gallagher_small/15_171.jpg']\n",
        "Score: -0.1000 for 29 and 15 (Less than two matches)"
       ]
      },
      {
       "output_type": "stream",
       "stream": "stdout",
       "text": [
        "\n",
        "['../../images/testsets/Gallagher_small/29_553.jpg', '../../images/testsets/Gallagher_small/24_358.jpg']\n",
        "Score: -0.1000 for 29 and 24 (Less than two matches)"
       ]
      },
      {
       "output_type": "stream",
       "stream": "stdout",
       "text": [
        "\n",
        "['../../images/testsets/Gallagher_small/29_553.jpg', '../../images/testsets/Gallagher_small/25_458.jpg']\n",
        "Score: 0.0641 for 29 and 25"
       ]
      },
      {
       "output_type": "stream",
       "stream": "stdout",
       "text": [
        "\n",
        "['../../images/testsets/Gallagher_small/29_553.jpg', '../../images/testsets/Gallagher_small/30_569.jpg']\n",
        "Score: -0.1000 for 29 and 30 (Less than two matches)"
       ]
      },
      {
       "output_type": "stream",
       "stream": "stdout",
       "text": [
        "\n",
        "['../../images/testsets/Gallagher_small/29_553.jpg', '../../images/testsets/Gallagher_small/32_645.jpg']\n",
        "Score: -0.1000 for 29 and 32 (Less than two matches)"
       ]
      },
      {
       "output_type": "stream",
       "stream": "stdout",
       "text": [
        "\n",
        "['../../images/testsets/Gallagher_small/29_553.jpg', '../../images/testsets/Gallagher_small/29_538.jpg']\n",
        "Score: -0.1000 for 29 and 29 (Less than two matches)"
       ]
      },
      {
       "output_type": "stream",
       "stream": "stdout",
       "text": [
        "\n",
        "['../../images/testsets/Gallagher_small/29_553.jpg', '../../images/testsets/Gallagher_small/21_251.jpg']\n",
        "Score: -0.1000 for 29 and 21 (Less than two matches)"
       ]
      },
      {
       "output_type": "stream",
       "stream": "stdout",
       "text": [
        "\n",
        "['../../images/testsets/Gallagher_small/29_553.jpg', '../../images/testsets/Gallagher_small/20_249.jpg']\n",
        "Score: -0.1000 for 29 and 20 (Less than two matches)"
       ]
      },
      {
       "output_type": "stream",
       "stream": "stdout",
       "text": [
        "\n",
        "['../../images/testsets/Gallagher_small/29_553.jpg', '../../images/testsets/Gallagher_small/15_181.jpg']\n",
        "Score: -0.1000 for 29 and 15 (Less than two matches)"
       ]
      },
      {
       "output_type": "stream",
       "stream": "stdout",
       "text": [
        "\n",
        "['../../images/testsets/Gallagher_small/29_553.jpg', '../../images/testsets/Gallagher_small/15_158.jpg']\n",
        "Score: -0.1000 for 29 and 15 (Less than two matches)"
       ]
      },
      {
       "output_type": "stream",
       "stream": "stdout",
       "text": [
        "\n",
        "['../../images/testsets/Gallagher_small/29_553.jpg', '../../images/testsets/Gallagher_small/19_195.jpg']\n",
        "Score: -0.1000 for 29 and 19 (Less than two matches)"
       ]
      },
      {
       "output_type": "stream",
       "stream": "stdout",
       "text": [
        "\n",
        "['../../images/testsets/Gallagher_small/29_553.jpg', '../../images/testsets/Gallagher_small/19_193.jpg']\n",
        "Score: -0.1000 for 29 and 19 (Less than two matches)"
       ]
      },
      {
       "output_type": "stream",
       "stream": "stdout",
       "text": [
        "\n",
        "['../../images/testsets/Gallagher_small/29_553.jpg', '../../images/testsets/Gallagher_small/21_287.jpg']\n",
        "Score: -0.1000 for 29 and 21 (Less than two matches)"
       ]
      },
      {
       "output_type": "stream",
       "stream": "stdout",
       "text": [
        "\n",
        "['../../images/testsets/Gallagher_small/29_553.jpg', '../../images/testsets/Gallagher_small/26_565.jpg']\n",
        "Score: -0.1000 for 29 and 26 (Less than two matches)"
       ]
      },
      {
       "output_type": "stream",
       "stream": "stdout",
       "text": [
        "\n",
        "['../../images/testsets/Gallagher_small/29_553.jpg', '../../images/testsets/Gallagher_small/27_509.jpg']\n",
        "Score: -0.1000 for 29 and 27 (Less than two matches)"
       ]
      },
      {
       "output_type": "stream",
       "stream": "stdout",
       "text": [
        "\n",
        "['../../images/testsets/Gallagher_small/29_553.jpg', '../../images/testsets/Gallagher_small/15_169.jpg']\n",
        "Score: -0.1000 for 29 and 15 (Less than two matches)"
       ]
      },
      {
       "output_type": "stream",
       "stream": "stdout",
       "text": [
        "\n",
        "['../../images/testsets/Gallagher_small/29_553.jpg', '../../images/testsets/Gallagher_small/15_167.jpg']\n",
        "Score: -0.1000 for 29 and 15 (Less than two matches)"
       ]
      },
      {
       "output_type": "stream",
       "stream": "stdout",
       "text": [
        "\n",
        "['../../images/testsets/Gallagher_small/29_553.jpg', '../../images/testsets/Gallagher_small/21_587.jpg']\n",
        "Score: -0.1000 for 29 and 21 (Less than two matches)"
       ]
      },
      {
       "output_type": "stream",
       "stream": "stdout",
       "text": [
        "\n",
        "['../../images/testsets/Gallagher_small/29_553.jpg', '../../images/testsets/Gallagher_small/15_222.jpg']\n",
        "Score: -0.1000 for 29 and 15 (Less than two matches)"
       ]
      },
      {
       "output_type": "stream",
       "stream": "stdout",
       "text": [
        "\n",
        "['../../images/testsets/Gallagher_small/29_553.jpg', '../../images/testsets/Gallagher_small/16_178.jpg']\n",
        "Score: -0.1000 for 29 and 16 (Less than two matches)"
       ]
      },
      {
       "output_type": "stream",
       "stream": "stdout",
       "text": [
        "\n",
        "['../../images/testsets/Gallagher_small/29_553.jpg', '../../images/testsets/Gallagher_small/17_165.jpg']\n",
        "Score: -0.1000 for 29 and 17 (Less than two matches)"
       ]
      },
      {
       "output_type": "stream",
       "stream": "stdout",
       "text": [
        "\n",
        "['../../images/testsets/Gallagher_small/29_553.jpg', '../../images/testsets/Gallagher_small/28_537.jpg']\n",
        "Score: -0.1000 for 29 and 28 (Less than two matches)"
       ]
      },
      {
       "output_type": "stream",
       "stream": "stdout",
       "text": [
        "\n",
        "['../../images/testsets/Gallagher_small/29_553.jpg', '../../images/testsets/Gallagher_small/27_524.jpg']\n",
        "Score: -0.1000 for 29 and 27 (Less than two matches)"
       ]
      },
      {
       "output_type": "stream",
       "stream": "stdout",
       "text": [
        "\n",
        "['../../images/testsets/Gallagher_small/29_553.jpg', '../../images/testsets/Gallagher_small/13_163.jpg']\n",
        "Score: 0.0571 for 29 and 13"
       ]
      },
      {
       "output_type": "stream",
       "stream": "stdout",
       "text": [
        "\n",
        "['../../images/testsets/Gallagher_small/29_553.jpg', '../../images/testsets/Gallagher_small/23_302.jpg']\n",
        "Score: -0.1000 for 29 and 23 (Less than two matches)"
       ]
      },
      {
       "output_type": "stream",
       "stream": "stdout",
       "text": [
        "\n",
        "['../../images/testsets/Gallagher_small/13_168.jpg', '../../images/testsets/Gallagher_small/28_552.jpg']\n",
        "Score: -0.1000 for 13 and 28 (Less than two matches)"
       ]
      },
      {
       "output_type": "stream",
       "stream": "stdout",
       "text": [
        "\n",
        "['../../images/testsets/Gallagher_small/13_168.jpg', '../../images/testsets/Gallagher_small/13_145.jpg']\n",
        "Score: -0.1000 for 13 and 13 (Less than two matches)"
       ]
      },
      {
       "output_type": "stream",
       "stream": "stdout",
       "text": [
        "\n",
        "['../../images/testsets/Gallagher_small/13_168.jpg', '../../images/testsets/Gallagher_small/14_207.jpg']\n",
        "Score: -0.1000 for 13 and 14 (Less than two matches)"
       ]
      },
      {
       "output_type": "stream",
       "stream": "stdout",
       "text": [
        "\n",
        "['../../images/testsets/Gallagher_small/13_168.jpg', '../../images/testsets/Gallagher_small/14_150.jpg']\n",
        "Score: -0.1000 for 13 and 14 (Less than two matches)"
       ]
      },
      {
       "output_type": "stream",
       "stream": "stdout",
       "text": [
        "\n",
        "['../../images/testsets/Gallagher_small/13_168.jpg', '../../images/testsets/Gallagher_small/27_566.jpg']\n",
        "Score: -0.1000 for 13 and 27 (Less than two matches)"
       ]
      },
      {
       "output_type": "stream",
       "stream": "stdout",
       "text": [
        "\n",
        "['../../images/testsets/Gallagher_small/13_168.jpg', '../../images/testsets/Gallagher_small/17_183.jpg']\n",
        "Score: -0.1000 for 13 and 17 (Less than two matches)"
       ]
      },
      {
       "output_type": "stream",
       "stream": "stdout",
       "text": [
        "\n",
        "['../../images/testsets/Gallagher_small/13_168.jpg', '../../images/testsets/Gallagher_small/19_187.jpg']\n",
        "Score: -0.1000 for 13 and 19 (Less than two matches)"
       ]
      },
      {
       "output_type": "stream",
       "stream": "stdout",
       "text": [
        "\n",
        "['../../images/testsets/Gallagher_small/13_168.jpg', '../../images/testsets/Gallagher_small/31_580.jpg']\n",
        "Score: -0.1000 for 13 and 31 (Less than two matches)"
       ]
      },
      {
       "output_type": "stream",
       "stream": "stdout",
       "text": [
        "\n",
        "['../../images/testsets/Gallagher_small/13_168.jpg', '../../images/testsets/Gallagher_small/21_872.jpg']\n",
        "Score: 0.0459 for 13 and 21"
       ]
      },
      {
       "output_type": "stream",
       "stream": "stdout",
       "text": [
        "\n",
        "['../../images/testsets/Gallagher_small/13_168.jpg', '../../images/testsets/Gallagher_small/23_307.jpg']\n",
        "Score: 0.0294 for 13 and 23"
       ]
      },
      {
       "output_type": "stream",
       "stream": "stdout",
       "text": [
        "\n",
        "['../../images/testsets/Gallagher_small/13_168.jpg', '../../images/testsets/Gallagher_small/25_462.jpg']\n",
        "Score: -0.1000 for 13 and 25 (Less than two matches)"
       ]
      },
      {
       "output_type": "stream",
       "stream": "stdout",
       "text": [
        "\n",
        "['../../images/testsets/Gallagher_small/13_168.jpg', '../../images/testsets/Gallagher_small/23_534.jpg']\n",
        "Score: -0.1000 for 13 and 23 (Less than two matches)"
       ]
      },
      {
       "output_type": "stream",
       "stream": "stdout",
       "text": [
        "\n",
        "['../../images/testsets/Gallagher_small/13_168.jpg', '../../images/testsets/Gallagher_small/31_582.jpg']\n",
        "Score: -0.1000 for 13 and 31 (Less than two matches)"
       ]
      },
      {
       "output_type": "stream",
       "stream": "stdout",
       "text": [
        "\n",
        "['../../images/testsets/Gallagher_small/13_168.jpg', '../../images/testsets/Gallagher_small/15_224.jpg']\n",
        "Score: -0.1000 for 13 and 15 (Less than two matches)"
       ]
      },
      {
       "output_type": "stream",
       "stream": "stdout",
       "text": [
        "\n",
        "['../../images/testsets/Gallagher_small/13_168.jpg', '../../images/testsets/Gallagher_small/23_508.jpg']\n",
        "Score: 0.0444 for 13 and 23"
       ]
      },
      {
       "output_type": "stream",
       "stream": "stdout",
       "text": [
        "\n",
        "['../../images/testsets/Gallagher_small/13_168.jpg', '../../images/testsets/Gallagher_small/18_220.jpg']\n",
        "Score: -0.1000 for 13 and 18 (Less than two matches)"
       ]
      },
      {
       "output_type": "stream",
       "stream": "stdout",
       "text": [
        "\n",
        "['../../images/testsets/Gallagher_small/13_168.jpg', '../../images/testsets/Gallagher_small/15_151.jpg']\n",
        "Score: -0.1000 for 13 and 15 (Less than two matches)"
       ]
      },
      {
       "output_type": "stream",
       "stream": "stdout",
       "text": [
        "\n",
        "['../../images/testsets/Gallagher_small/13_168.jpg', '../../images/testsets/Gallagher_small/16_182.jpg']\n",
        "Score: -0.1000 for 13 and 16 (Less than two matches)"
       ]
      },
      {
       "output_type": "stream",
       "stream": "stdout",
       "text": [
        "\n",
        "['../../images/testsets/Gallagher_small/13_168.jpg', '../../images/testsets/Gallagher_small/23_875.jpg']\n",
        "Score: -0.1000 for 13 and 23 (Less than two matches)"
       ]
      },
      {
       "output_type": "stream",
       "stream": "stdout",
       "text": [
        "\n",
        "['../../images/testsets/Gallagher_small/13_168.jpg', '../../images/testsets/Gallagher_small/23_549.jpg']\n",
        "Score: -0.1000 for 13 and 23 (Less than two matches)"
       ]
      },
      {
       "output_type": "stream",
       "stream": "stdout",
       "text": [
        "\n",
        "['../../images/testsets/Gallagher_small/13_168.jpg', '../../images/testsets/Gallagher_small/32_648.jpg']\n",
        "Score: -0.1000 for 13 and 32 (Less than two matches)"
       ]
      },
      {
       "output_type": "stream",
       "stream": "stdout",
       "text": [
        "\n",
        "['../../images/testsets/Gallagher_small/13_168.jpg', '../../images/testsets/Gallagher_small/15_171.jpg']\n",
        "Score: -0.1000 for 13 and 15 (Less than two matches)"
       ]
      },
      {
       "output_type": "stream",
       "stream": "stdout",
       "text": [
        "\n",
        "['../../images/testsets/Gallagher_small/13_168.jpg', '../../images/testsets/Gallagher_small/24_358.jpg']\n",
        "Score: -0.1000 for 13 and 24 (Less than two matches)"
       ]
      },
      {
       "output_type": "stream",
       "stream": "stdout",
       "text": [
        "\n",
        "['../../images/testsets/Gallagher_small/13_168.jpg', '../../images/testsets/Gallagher_small/25_458.jpg']\n",
        "Score: -0.1000 for 13 and 25 (Less than two matches)"
       ]
      },
      {
       "output_type": "stream",
       "stream": "stdout",
       "text": [
        "\n",
        "['../../images/testsets/Gallagher_small/13_168.jpg', '../../images/testsets/Gallagher_small/30_569.jpg']\n",
        "Score: 0.0156 for 13 and 30"
       ]
      },
      {
       "output_type": "stream",
       "stream": "stdout",
       "text": [
        "\n",
        "['../../images/testsets/Gallagher_small/13_168.jpg', '../../images/testsets/Gallagher_small/32_645.jpg']\n",
        "Score: 0.0374 for 13 and 32"
       ]
      },
      {
       "output_type": "stream",
       "stream": "stdout",
       "text": [
        "\n",
        "['../../images/testsets/Gallagher_small/13_168.jpg', '../../images/testsets/Gallagher_small/29_538.jpg']\n",
        "Score: -0.1000 for 13 and 29 (Less than two matches)"
       ]
      },
      {
       "output_type": "stream",
       "stream": "stdout",
       "text": [
        "\n",
        "['../../images/testsets/Gallagher_small/13_168.jpg', '../../images/testsets/Gallagher_small/21_251.jpg']\n",
        "Score: -0.1000 for 13 and 21 (Less than two matches)"
       ]
      },
      {
       "output_type": "stream",
       "stream": "stdout",
       "text": [
        "\n",
        "['../../images/testsets/Gallagher_small/13_168.jpg', '../../images/testsets/Gallagher_small/20_249.jpg']\n",
        "Score: -0.1000 for 13 and 20 (Less than two matches)"
       ]
      },
      {
       "output_type": "stream",
       "stream": "stdout",
       "text": [
        "\n",
        "['../../images/testsets/Gallagher_small/13_168.jpg', '../../images/testsets/Gallagher_small/15_181.jpg']\n",
        "Score: -0.1000 for 13 and 15 (Less than two matches)"
       ]
      },
      {
       "output_type": "stream",
       "stream": "stdout",
       "text": [
        "\n",
        "['../../images/testsets/Gallagher_small/13_168.jpg', '../../images/testsets/Gallagher_small/15_158.jpg']\n",
        "Score: -0.1000 for 13 and 15 (Less than two matches)"
       ]
      },
      {
       "output_type": "stream",
       "stream": "stdout",
       "text": [
        "\n",
        "['../../images/testsets/Gallagher_small/13_168.jpg', '../../images/testsets/Gallagher_small/19_195.jpg']\n",
        "Score: -0.1000 for 13 and 19 (Less than two matches)"
       ]
      },
      {
       "output_type": "stream",
       "stream": "stdout",
       "text": [
        "\n",
        "['../../images/testsets/Gallagher_small/13_168.jpg', '../../images/testsets/Gallagher_small/19_193.jpg']\n",
        "Score: -0.1000 for 13 and 19 (Less than two matches)"
       ]
      },
      {
       "output_type": "stream",
       "stream": "stdout",
       "text": [
        "\n",
        "['../../images/testsets/Gallagher_small/13_168.jpg', '../../images/testsets/Gallagher_small/21_287.jpg']\n",
        "Score: -0.1000 for 13 and 21 (Less than two matches)"
       ]
      },
      {
       "output_type": "stream",
       "stream": "stdout",
       "text": [
        "\n",
        "['../../images/testsets/Gallagher_small/13_168.jpg', '../../images/testsets/Gallagher_small/26_565.jpg']\n",
        "Score: -0.1000 for 13 and 26 (Less than two matches)"
       ]
      },
      {
       "output_type": "stream",
       "stream": "stdout",
       "text": [
        "\n",
        "['../../images/testsets/Gallagher_small/13_168.jpg', '../../images/testsets/Gallagher_small/27_509.jpg']\n",
        "Score: -0.1000 for 13 and 27 (Less than two matches)"
       ]
      },
      {
       "output_type": "stream",
       "stream": "stdout",
       "text": [
        "\n",
        "['../../images/testsets/Gallagher_small/13_168.jpg', '../../images/testsets/Gallagher_small/15_169.jpg']\n",
        "Score: -0.1000 for 13 and 15 (Less than two matches)"
       ]
      },
      {
       "output_type": "stream",
       "stream": "stdout",
       "text": [
        "\n",
        "['../../images/testsets/Gallagher_small/13_168.jpg', '../../images/testsets/Gallagher_small/15_167.jpg']\n",
        "Score: 0.0171 for 13 and 15"
       ]
      },
      {
       "output_type": "stream",
       "stream": "stdout",
       "text": [
        "\n",
        "['../../images/testsets/Gallagher_small/13_168.jpg', '../../images/testsets/Gallagher_small/21_587.jpg']\n",
        "Score: -0.1000 for 13 and 21 (Less than two matches)"
       ]
      },
      {
       "output_type": "stream",
       "stream": "stdout",
       "text": [
        "\n",
        "['../../images/testsets/Gallagher_small/13_168.jpg', '../../images/testsets/Gallagher_small/15_222.jpg']\n",
        "Score: -0.1000 for 13 and 15 (Less than two matches)"
       ]
      },
      {
       "output_type": "stream",
       "stream": "stdout",
       "text": [
        "\n",
        "['../../images/testsets/Gallagher_small/13_168.jpg', '../../images/testsets/Gallagher_small/16_178.jpg']\n",
        "Score: -0.1000 for 13 and 16 (Less than two matches)"
       ]
      },
      {
       "output_type": "stream",
       "stream": "stdout",
       "text": [
        "\n",
        "['../../images/testsets/Gallagher_small/13_168.jpg', '../../images/testsets/Gallagher_small/17_165.jpg']\n",
        "Score: -0.1000 for 13 and 17 (Less than two matches)"
       ]
      },
      {
       "output_type": "stream",
       "stream": "stdout",
       "text": [
        "\n",
        "['../../images/testsets/Gallagher_small/13_168.jpg', '../../images/testsets/Gallagher_small/28_537.jpg']\n",
        "Score: -0.1000 for 13 and 28 (Less than two matches)"
       ]
      },
      {
       "output_type": "stream",
       "stream": "stdout",
       "text": [
        "\n",
        "['../../images/testsets/Gallagher_small/13_168.jpg', '../../images/testsets/Gallagher_small/27_524.jpg']\n",
        "Score: -0.1000 for 13 and 27 (Less than two matches)"
       ]
      },
      {
       "output_type": "stream",
       "stream": "stdout",
       "text": [
        "\n",
        "['../../images/testsets/Gallagher_small/13_168.jpg', '../../images/testsets/Gallagher_small/13_163.jpg']\n",
        "Score: -0.1000 for 13 and 13 (Less than two matches)"
       ]
      },
      {
       "output_type": "stream",
       "stream": "stdout",
       "text": [
        "\n",
        "['../../images/testsets/Gallagher_small/13_168.jpg', '../../images/testsets/Gallagher_small/23_302.jpg']\n",
        "Score: -0.1000 for 13 and 23 (Less than two matches)"
       ]
      },
      {
       "output_type": "stream",
       "stream": "stdout",
       "text": [
        "\n",
        "['../../images/testsets/Gallagher_small/28_552.jpg', '../../images/testsets/Gallagher_small/13_145.jpg']\n",
        "Score: -0.1000 for 28 and 13 (Less than two matches)"
       ]
      },
      {
       "output_type": "stream",
       "stream": "stdout",
       "text": [
        "\n",
        "['../../images/testsets/Gallagher_small/28_552.jpg', '../../images/testsets/Gallagher_small/14_207.jpg']\n",
        "Score: -0.1000 for 28 and 14 (Less than two matches)"
       ]
      },
      {
       "output_type": "stream",
       "stream": "stdout",
       "text": [
        "\n",
        "['../../images/testsets/Gallagher_small/28_552.jpg', '../../images/testsets/Gallagher_small/14_150.jpg']\n",
        "Score: -0.1000 for 28 and 14 (Less than two matches)"
       ]
      },
      {
       "output_type": "stream",
       "stream": "stdout",
       "text": [
        "\n",
        "['../../images/testsets/Gallagher_small/28_552.jpg', '../../images/testsets/Gallagher_small/27_566.jpg']\n",
        "Score: -0.1000 for 28 and 27 (Less than two matches)"
       ]
      },
      {
       "output_type": "stream",
       "stream": "stdout",
       "text": [
        "\n",
        "['../../images/testsets/Gallagher_small/28_552.jpg', '../../images/testsets/Gallagher_small/17_183.jpg']\n",
        "Score: -0.0013 for 28 and 17"
       ]
      },
      {
       "output_type": "stream",
       "stream": "stdout",
       "text": [
        "\n",
        "['../../images/testsets/Gallagher_small/28_552.jpg', '../../images/testsets/Gallagher_small/19_187.jpg']\n",
        "Score: -0.1000 for 28 and 19 (Less than two matches)"
       ]
      },
      {
       "output_type": "stream",
       "stream": "stdout",
       "text": [
        "\n",
        "['../../images/testsets/Gallagher_small/28_552.jpg', '../../images/testsets/Gallagher_small/31_580.jpg']\n",
        "Score: -0.1000 for 28 and 31 (Less than two matches)"
       ]
      },
      {
       "output_type": "stream",
       "stream": "stdout",
       "text": [
        "\n",
        "['../../images/testsets/Gallagher_small/28_552.jpg', '../../images/testsets/Gallagher_small/21_872.jpg']\n",
        "Score: -0.1000 for 28 and 21 (Less than two matches)"
       ]
      },
      {
       "output_type": "stream",
       "stream": "stdout",
       "text": [
        "\n",
        "['../../images/testsets/Gallagher_small/28_552.jpg', '../../images/testsets/Gallagher_small/23_307.jpg']\n",
        "Score: -0.1000 for 28 and 23 (Less than two matches)"
       ]
      },
      {
       "output_type": "stream",
       "stream": "stdout",
       "text": [
        "\n",
        "['../../images/testsets/Gallagher_small/28_552.jpg', '../../images/testsets/Gallagher_small/25_462.jpg']\n",
        "Score: 0.1569 for 28 and 25"
       ]
      },
      {
       "output_type": "stream",
       "stream": "stdout",
       "text": [
        "\n",
        "['../../images/testsets/Gallagher_small/28_552.jpg', '../../images/testsets/Gallagher_small/23_534.jpg']\n",
        "Score: -0.1000 for 28 and 23 (Less than two matches)"
       ]
      },
      {
       "output_type": "stream",
       "stream": "stdout",
       "text": [
        "\n",
        "['../../images/testsets/Gallagher_small/28_552.jpg', '../../images/testsets/Gallagher_small/31_582.jpg']\n",
        "Score: -0.1000 for 28 and 31 (Less than two matches)"
       ]
      },
      {
       "output_type": "stream",
       "stream": "stdout",
       "text": [
        "\n",
        "['../../images/testsets/Gallagher_small/28_552.jpg', '../../images/testsets/Gallagher_small/15_224.jpg']\n",
        "Score: 0.0560 for 28 and 15"
       ]
      },
      {
       "output_type": "stream",
       "stream": "stdout",
       "text": [
        "\n",
        "['../../images/testsets/Gallagher_small/28_552.jpg', '../../images/testsets/Gallagher_small/23_508.jpg']\n",
        "Score: 0.0186 for 28 and 23"
       ]
      },
      {
       "output_type": "stream",
       "stream": "stdout",
       "text": [
        "\n",
        "['../../images/testsets/Gallagher_small/28_552.jpg', '../../images/testsets/Gallagher_small/18_220.jpg']\n",
        "Score: -0.1000 for 28 and 18 (Less than two matches)"
       ]
      },
      {
       "output_type": "stream",
       "stream": "stdout",
       "text": [
        "\n",
        "['../../images/testsets/Gallagher_small/28_552.jpg', '../../images/testsets/Gallagher_small/15_151.jpg']\n",
        "Score: -0.1000 for 28 and 15 (Less than two matches)"
       ]
      },
      {
       "output_type": "stream",
       "stream": "stdout",
       "text": [
        "\n",
        "['../../images/testsets/Gallagher_small/28_552.jpg', '../../images/testsets/Gallagher_small/16_182.jpg']\n",
        "Score: -0.1000 for 28 and 16 (Less than two matches)"
       ]
      },
      {
       "output_type": "stream",
       "stream": "stdout",
       "text": [
        "\n",
        "['../../images/testsets/Gallagher_small/28_552.jpg', '../../images/testsets/Gallagher_small/23_875.jpg']\n",
        "Score: -0.1000 for 28 and 23 (Less than two matches)"
       ]
      },
      {
       "output_type": "stream",
       "stream": "stdout",
       "text": [
        "\n",
        "['../../images/testsets/Gallagher_small/28_552.jpg', '../../images/testsets/Gallagher_small/23_549.jpg']\n",
        "Score: -0.1000 for 28 and 23 (Less than two matches)"
       ]
      },
      {
       "output_type": "stream",
       "stream": "stdout",
       "text": [
        "\n",
        "['../../images/testsets/Gallagher_small/28_552.jpg', '../../images/testsets/Gallagher_small/32_648.jpg']\n",
        "Score: -0.1000 for 28 and 32 (Less than two matches)"
       ]
      },
      {
       "output_type": "stream",
       "stream": "stdout",
       "text": [
        "\n",
        "['../../images/testsets/Gallagher_small/28_552.jpg', '../../images/testsets/Gallagher_small/15_171.jpg']\n",
        "Score: -0.1000 for 28 and 15 (Less than two matches)"
       ]
      },
      {
       "output_type": "stream",
       "stream": "stdout",
       "text": [
        "\n",
        "['../../images/testsets/Gallagher_small/28_552.jpg', '../../images/testsets/Gallagher_small/24_358.jpg']\n",
        "Score: -0.1000 for 28 and 24 (Less than two matches)"
       ]
      },
      {
       "output_type": "stream",
       "stream": "stdout",
       "text": [
        "\n",
        "['../../images/testsets/Gallagher_small/28_552.jpg', '../../images/testsets/Gallagher_small/25_458.jpg']\n",
        "Score: 0.0892 for 28 and 25"
       ]
      },
      {
       "output_type": "stream",
       "stream": "stdout",
       "text": [
        "\n",
        "['../../images/testsets/Gallagher_small/28_552.jpg', '../../images/testsets/Gallagher_small/30_569.jpg']\n",
        "Score: 0.0074 for 28 and 30"
       ]
      },
      {
       "output_type": "stream",
       "stream": "stdout",
       "text": [
        "\n",
        "['../../images/testsets/Gallagher_small/28_552.jpg', '../../images/testsets/Gallagher_small/32_645.jpg']\n",
        "Score: -0.1000 for 28 and 32 (Less than two matches)"
       ]
      },
      {
       "output_type": "stream",
       "stream": "stdout",
       "text": [
        "\n",
        "['../../images/testsets/Gallagher_small/28_552.jpg', '../../images/testsets/Gallagher_small/29_538.jpg']\n",
        "Score: -0.1000 for 28 and 29 (Less than two matches)"
       ]
      },
      {
       "output_type": "stream",
       "stream": "stdout",
       "text": [
        "\n",
        "['../../images/testsets/Gallagher_small/28_552.jpg', '../../images/testsets/Gallagher_small/21_251.jpg']\n",
        "Score: 0.0437 for 28 and 21"
       ]
      },
      {
       "output_type": "stream",
       "stream": "stdout",
       "text": [
        "\n",
        "['../../images/testsets/Gallagher_small/28_552.jpg', '../../images/testsets/Gallagher_small/20_249.jpg']\n",
        "Score: -0.1000 for 28 and 20 (Less than two matches)"
       ]
      },
      {
       "output_type": "stream",
       "stream": "stdout",
       "text": [
        "\n",
        "['../../images/testsets/Gallagher_small/28_552.jpg', '../../images/testsets/Gallagher_small/15_181.jpg']\n",
        "Score: -0.1000 for 28 and 15 (Less than two matches)"
       ]
      },
      {
       "output_type": "stream",
       "stream": "stdout",
       "text": [
        "\n",
        "['../../images/testsets/Gallagher_small/28_552.jpg', '../../images/testsets/Gallagher_small/15_158.jpg']\n",
        "Score: -0.1000 for 28 and 15 (Less than two matches)"
       ]
      },
      {
       "output_type": "stream",
       "stream": "stdout",
       "text": [
        "\n",
        "['../../images/testsets/Gallagher_small/28_552.jpg', '../../images/testsets/Gallagher_small/19_195.jpg']\n",
        "Score: -0.1000 for 28 and 19 (Less than two matches)"
       ]
      },
      {
       "output_type": "stream",
       "stream": "stdout",
       "text": [
        "\n",
        "['../../images/testsets/Gallagher_small/28_552.jpg', '../../images/testsets/Gallagher_small/19_193.jpg']\n",
        "Score: -0.1000 for 28 and 19 (Less than two matches)"
       ]
      },
      {
       "output_type": "stream",
       "stream": "stdout",
       "text": [
        "\n",
        "['../../images/testsets/Gallagher_small/28_552.jpg', '../../images/testsets/Gallagher_small/21_287.jpg']\n",
        "Score: -0.1000 for 28 and 21 (Less than two matches)"
       ]
      },
      {
       "output_type": "stream",
       "stream": "stdout",
       "text": [
        "\n",
        "['../../images/testsets/Gallagher_small/28_552.jpg', '../../images/testsets/Gallagher_small/26_565.jpg']\n",
        "Score: -0.1000 for 28 and 26 (Less than two matches)"
       ]
      },
      {
       "output_type": "stream",
       "stream": "stdout",
       "text": [
        "\n",
        "['../../images/testsets/Gallagher_small/28_552.jpg', '../../images/testsets/Gallagher_small/27_509.jpg']\n",
        "Score: -0.1000 for 28 and 27 (Less than two matches)"
       ]
      },
      {
       "output_type": "stream",
       "stream": "stdout",
       "text": [
        "\n",
        "['../../images/testsets/Gallagher_small/28_552.jpg', '../../images/testsets/Gallagher_small/15_169.jpg']\n",
        "Score: 0.0816 for 28 and 15"
       ]
      },
      {
       "output_type": "stream",
       "stream": "stdout",
       "text": [
        "\n",
        "['../../images/testsets/Gallagher_small/28_552.jpg', '../../images/testsets/Gallagher_small/15_167.jpg']\n",
        "Score: -0.1000 for 28 and 15 (Less than two matches)"
       ]
      },
      {
       "output_type": "stream",
       "stream": "stdout",
       "text": [
        "\n",
        "['../../images/testsets/Gallagher_small/28_552.jpg', '../../images/testsets/Gallagher_small/21_587.jpg']\n",
        "Score: -0.1000 for 28 and 21 (Less than two matches)"
       ]
      },
      {
       "output_type": "stream",
       "stream": "stdout",
       "text": [
        "\n",
        "['../../images/testsets/Gallagher_small/28_552.jpg', '../../images/testsets/Gallagher_small/15_222.jpg']\n",
        "Score: -0.1000 for 28 and 15 (Less than two matches)"
       ]
      },
      {
       "output_type": "stream",
       "stream": "stdout",
       "text": [
        "\n",
        "['../../images/testsets/Gallagher_small/28_552.jpg', '../../images/testsets/Gallagher_small/16_178.jpg']\n",
        "Score: -0.1000 for 28 and 16 (Less than two matches)"
       ]
      },
      {
       "output_type": "stream",
       "stream": "stdout",
       "text": [
        "\n",
        "['../../images/testsets/Gallagher_small/28_552.jpg', '../../images/testsets/Gallagher_small/17_165.jpg']\n",
        "Score: -0.1000 for 28 and 17 (Less than two matches)"
       ]
      },
      {
       "output_type": "stream",
       "stream": "stdout",
       "text": [
        "\n",
        "['../../images/testsets/Gallagher_small/28_552.jpg', '../../images/testsets/Gallagher_small/28_537.jpg']\n",
        "Score: -0.1000 for 28 and 28 (Less than two matches)"
       ]
      },
      {
       "output_type": "stream",
       "stream": "stdout",
       "text": [
        "\n",
        "['../../images/testsets/Gallagher_small/28_552.jpg', '../../images/testsets/Gallagher_small/27_524.jpg']\n",
        "Score: -0.1000 for 28 and 27 (Less than two matches)"
       ]
      },
      {
       "output_type": "stream",
       "stream": "stdout",
       "text": [
        "\n",
        "['../../images/testsets/Gallagher_small/28_552.jpg', '../../images/testsets/Gallagher_small/13_163.jpg']\n",
        "Score: -0.1000 for 28 and 13 (Less than two matches)"
       ]
      },
      {
       "output_type": "stream",
       "stream": "stdout",
       "text": [
        "\n",
        "['../../images/testsets/Gallagher_small/28_552.jpg', '../../images/testsets/Gallagher_small/23_302.jpg']\n",
        "Score: 0.0576 for 28 and 23"
       ]
      },
      {
       "output_type": "stream",
       "stream": "stdout",
       "text": [
        "\n",
        "['../../images/testsets/Gallagher_small/13_145.jpg', '../../images/testsets/Gallagher_small/14_207.jpg']\n",
        "Score: -0.1000 for 13 and 14 (Less than two matches)"
       ]
      },
      {
       "output_type": "stream",
       "stream": "stdout",
       "text": [
        "\n",
        "['../../images/testsets/Gallagher_small/13_145.jpg', '../../images/testsets/Gallagher_small/14_150.jpg']\n",
        "Score: -0.1000 for 13 and 14 (Less than two matches)"
       ]
      },
      {
       "output_type": "stream",
       "stream": "stdout",
       "text": [
        "\n",
        "['../../images/testsets/Gallagher_small/13_145.jpg', '../../images/testsets/Gallagher_small/27_566.jpg']\n",
        "Score: -0.1000 for 13 and 27 (Less than two matches)"
       ]
      },
      {
       "output_type": "stream",
       "stream": "stdout",
       "text": [
        "\n",
        "['../../images/testsets/Gallagher_small/13_145.jpg', '../../images/testsets/Gallagher_small/17_183.jpg']\n",
        "Score: 0.0557 for 13 and 17"
       ]
      },
      {
       "output_type": "stream",
       "stream": "stdout",
       "text": [
        "\n",
        "['../../images/testsets/Gallagher_small/13_145.jpg', '../../images/testsets/Gallagher_small/19_187.jpg']\n",
        "Score: -0.1000 for 13 and 19 (Less than two matches)"
       ]
      },
      {
       "output_type": "stream",
       "stream": "stdout",
       "text": [
        "\n",
        "['../../images/testsets/Gallagher_small/13_145.jpg', '../../images/testsets/Gallagher_small/31_580.jpg']\n",
        "Score: -0.1000 for 13 and 31 (Less than two matches)"
       ]
      },
      {
       "output_type": "stream",
       "stream": "stdout",
       "text": [
        "\n",
        "['../../images/testsets/Gallagher_small/13_145.jpg', '../../images/testsets/Gallagher_small/21_872.jpg']\n",
        "Score: -0.1000 for 13 and 21 (Less than two matches)"
       ]
      },
      {
       "output_type": "stream",
       "stream": "stdout",
       "text": [
        "\n",
        "['../../images/testsets/Gallagher_small/13_145.jpg', '../../images/testsets/Gallagher_small/23_307.jpg']\n",
        "Score: -0.1000 for 13 and 23 (Less than two matches)"
       ]
      },
      {
       "output_type": "stream",
       "stream": "stdout",
       "text": [
        "\n",
        "['../../images/testsets/Gallagher_small/13_145.jpg', '../../images/testsets/Gallagher_small/25_462.jpg']\n",
        "Score: -0.1000 for 13 and 25 (Less than two matches)"
       ]
      },
      {
       "output_type": "stream",
       "stream": "stdout",
       "text": [
        "\n",
        "['../../images/testsets/Gallagher_small/13_145.jpg', '../../images/testsets/Gallagher_small/23_534.jpg']\n",
        "Score: -0.1000 for 13 and 23 (Less than two matches)"
       ]
      },
      {
       "output_type": "stream",
       "stream": "stdout",
       "text": [
        "\n",
        "['../../images/testsets/Gallagher_small/13_145.jpg', '../../images/testsets/Gallagher_small/31_582.jpg']\n",
        "Score: -0.1000 for 13 and 31 (Less than two matches)"
       ]
      },
      {
       "output_type": "stream",
       "stream": "stdout",
       "text": [
        "\n",
        "['../../images/testsets/Gallagher_small/13_145.jpg', '../../images/testsets/Gallagher_small/15_224.jpg']\n",
        "Score: -0.1000 for 13 and 15 (Less than two matches)"
       ]
      },
      {
       "output_type": "stream",
       "stream": "stdout",
       "text": [
        "\n",
        "['../../images/testsets/Gallagher_small/13_145.jpg', '../../images/testsets/Gallagher_small/23_508.jpg']\n",
        "Score: -0.1000 for 13 and 23 (Less than two matches)"
       ]
      },
      {
       "output_type": "stream",
       "stream": "stdout",
       "text": [
        "\n",
        "['../../images/testsets/Gallagher_small/13_145.jpg', '../../images/testsets/Gallagher_small/18_220.jpg']\n",
        "Score: -0.1000 for 13 and 18 (Less than two matches)"
       ]
      },
      {
       "output_type": "stream",
       "stream": "stdout",
       "text": [
        "\n",
        "['../../images/testsets/Gallagher_small/13_145.jpg', '../../images/testsets/Gallagher_small/15_151.jpg']\n",
        "Score: -0.1000 for 13 and 15 (Less than two matches)"
       ]
      },
      {
       "output_type": "stream",
       "stream": "stdout",
       "text": [
        "\n",
        "['../../images/testsets/Gallagher_small/13_145.jpg', '../../images/testsets/Gallagher_small/16_182.jpg']\n",
        "Score: -0.1000 for 13 and 16 (Less than two matches)"
       ]
      },
      {
       "output_type": "stream",
       "stream": "stdout",
       "text": [
        "\n",
        "['../../images/testsets/Gallagher_small/13_145.jpg', '../../images/testsets/Gallagher_small/23_875.jpg']\n",
        "Score: -0.1000 for 13 and 23 (Less than two matches)"
       ]
      },
      {
       "output_type": "stream",
       "stream": "stdout",
       "text": [
        "\n",
        "['../../images/testsets/Gallagher_small/13_145.jpg', '../../images/testsets/Gallagher_small/23_549.jpg']\n",
        "Score: -0.1000 for 13 and 23 (Less than two matches)"
       ]
      },
      {
       "output_type": "stream",
       "stream": "stdout",
       "text": [
        "\n",
        "['../../images/testsets/Gallagher_small/13_145.jpg', '../../images/testsets/Gallagher_small/32_648.jpg']\n",
        "Score: -0.1000 for 13 and 32 (Less than two matches)"
       ]
      },
      {
       "output_type": "stream",
       "stream": "stdout",
       "text": [
        "\n",
        "['../../images/testsets/Gallagher_small/13_145.jpg', '../../images/testsets/Gallagher_small/15_171.jpg']\n",
        "Score: -0.1000 for 13 and 15 (Less than two matches)"
       ]
      },
      {
       "output_type": "stream",
       "stream": "stdout",
       "text": [
        "\n",
        "['../../images/testsets/Gallagher_small/13_145.jpg', '../../images/testsets/Gallagher_small/24_358.jpg']\n",
        "Score: -0.1000 for 13 and 24 (Less than two matches)"
       ]
      },
      {
       "output_type": "stream",
       "stream": "stdout",
       "text": [
        "\n",
        "['../../images/testsets/Gallagher_small/13_145.jpg', '../../images/testsets/Gallagher_small/25_458.jpg']\n",
        "Score: -0.1000 for 13 and 25 (Less than two matches)"
       ]
      },
      {
       "output_type": "stream",
       "stream": "stdout",
       "text": [
        "\n",
        "['../../images/testsets/Gallagher_small/13_145.jpg', '../../images/testsets/Gallagher_small/30_569.jpg']\n",
        "Score: -0.1000 for 13 and 30 (Less than two matches)"
       ]
      },
      {
       "output_type": "stream",
       "stream": "stdout",
       "text": [
        "\n",
        "['../../images/testsets/Gallagher_small/13_145.jpg', '../../images/testsets/Gallagher_small/32_645.jpg']\n",
        "Score: -0.1000 for 13 and 32 (Less than two matches)"
       ]
      },
      {
       "output_type": "stream",
       "stream": "stdout",
       "text": [
        "\n",
        "['../../images/testsets/Gallagher_small/13_145.jpg', '../../images/testsets/Gallagher_small/29_538.jpg']\n",
        "Score: -0.1000 for 13 and 29 (Less than two matches)"
       ]
      },
      {
       "output_type": "stream",
       "stream": "stdout",
       "text": [
        "\n",
        "['../../images/testsets/Gallagher_small/13_145.jpg', '../../images/testsets/Gallagher_small/21_251.jpg']\n",
        "Score: -0.1000 for 13 and 21 (Less than two matches)"
       ]
      },
      {
       "output_type": "stream",
       "stream": "stdout",
       "text": [
        "\n",
        "['../../images/testsets/Gallagher_small/13_145.jpg', '../../images/testsets/Gallagher_small/20_249.jpg']\n",
        "Score: -0.1000 for 13 and 20 (Less than two matches)"
       ]
      },
      {
       "output_type": "stream",
       "stream": "stdout",
       "text": [
        "\n",
        "['../../images/testsets/Gallagher_small/13_145.jpg', '../../images/testsets/Gallagher_small/15_181.jpg']\n",
        "Score: -0.1000 for 13 and 15 (Less than two matches)"
       ]
      },
      {
       "output_type": "stream",
       "stream": "stdout",
       "text": [
        "\n",
        "['../../images/testsets/Gallagher_small/13_145.jpg', '../../images/testsets/Gallagher_small/15_158.jpg']\n",
        "Score: -0.1000 for 13 and 15 (Less than two matches)"
       ]
      },
      {
       "output_type": "stream",
       "stream": "stdout",
       "text": [
        "\n",
        "['../../images/testsets/Gallagher_small/13_145.jpg', '../../images/testsets/Gallagher_small/19_195.jpg']\n",
        "Score: -0.1000 for 13 and 19 (Less than two matches)"
       ]
      },
      {
       "output_type": "stream",
       "stream": "stdout",
       "text": [
        "\n",
        "['../../images/testsets/Gallagher_small/13_145.jpg', '../../images/testsets/Gallagher_small/19_193.jpg']\n",
        "Score: -0.1000 for 13 and 19 (Less than two matches)"
       ]
      },
      {
       "output_type": "stream",
       "stream": "stdout",
       "text": [
        "\n",
        "['../../images/testsets/Gallagher_small/13_145.jpg', '../../images/testsets/Gallagher_small/21_287.jpg']\n",
        "Score: -0.1000 for 13 and 21 (Less than two matches)"
       ]
      },
      {
       "output_type": "stream",
       "stream": "stdout",
       "text": [
        "\n",
        "['../../images/testsets/Gallagher_small/13_145.jpg', '../../images/testsets/Gallagher_small/26_565.jpg']\n",
        "Score: -0.1000 for 13 and 26 (Less than two matches)"
       ]
      },
      {
       "output_type": "stream",
       "stream": "stdout",
       "text": [
        "\n",
        "['../../images/testsets/Gallagher_small/13_145.jpg', '../../images/testsets/Gallagher_small/27_509.jpg']\n",
        "Score: 0.0531 for 13 and 27"
       ]
      },
      {
       "output_type": "stream",
       "stream": "stdout",
       "text": [
        "\n",
        "['../../images/testsets/Gallagher_small/13_145.jpg', '../../images/testsets/Gallagher_small/15_169.jpg']\n",
        "Score: -0.1000 for 13 and 15 (Less than two matches)"
       ]
      },
      {
       "output_type": "stream",
       "stream": "stdout",
       "text": [
        "\n",
        "['../../images/testsets/Gallagher_small/13_145.jpg', '../../images/testsets/Gallagher_small/15_167.jpg']\n",
        "Score: -0.1000 for 13 and 15 (Less than two matches)"
       ]
      },
      {
       "output_type": "stream",
       "stream": "stdout",
       "text": [
        "\n",
        "['../../images/testsets/Gallagher_small/13_145.jpg', '../../images/testsets/Gallagher_small/21_587.jpg']\n",
        "Score: -0.1000 for 13 and 21 (Less than two matches)"
       ]
      },
      {
       "output_type": "stream",
       "stream": "stdout",
       "text": [
        "\n",
        "['../../images/testsets/Gallagher_small/13_145.jpg', '../../images/testsets/Gallagher_small/15_222.jpg']\n",
        "Score: -0.1000 for 13 and 15 (Less than two matches)"
       ]
      },
      {
       "output_type": "stream",
       "stream": "stdout",
       "text": [
        "\n",
        "['../../images/testsets/Gallagher_small/13_145.jpg', '../../images/testsets/Gallagher_small/16_178.jpg']\n",
        "Score: -0.1000 for 13 and 16 (Less than two matches)"
       ]
      },
      {
       "output_type": "stream",
       "stream": "stdout",
       "text": [
        "\n",
        "['../../images/testsets/Gallagher_small/13_145.jpg', '../../images/testsets/Gallagher_small/17_165.jpg']\n",
        "Score: -0.1000 for 13 and 17 (Less than two matches)"
       ]
      },
      {
       "output_type": "stream",
       "stream": "stdout",
       "text": [
        "\n",
        "['../../images/testsets/Gallagher_small/13_145.jpg', '../../images/testsets/Gallagher_small/28_537.jpg']\n",
        "Score: -0.1000 for 13 and 28 (Less than two matches)"
       ]
      },
      {
       "output_type": "stream",
       "stream": "stdout",
       "text": [
        "\n",
        "['../../images/testsets/Gallagher_small/13_145.jpg', '../../images/testsets/Gallagher_small/27_524.jpg']\n",
        "Score: -0.1000 for 13 and 27 (Less than two matches)"
       ]
      },
      {
       "output_type": "stream",
       "stream": "stdout",
       "text": [
        "\n",
        "['../../images/testsets/Gallagher_small/13_145.jpg', '../../images/testsets/Gallagher_small/13_163.jpg']\n",
        "Score: 0.0639 for 13 and 13"
       ]
      },
      {
       "output_type": "stream",
       "stream": "stdout",
       "text": [
        "\n",
        "['../../images/testsets/Gallagher_small/13_145.jpg', '../../images/testsets/Gallagher_small/23_302.jpg']\n",
        "Score: -0.1000 for 13 and 23 (Less than two matches)"
       ]
      },
      {
       "output_type": "stream",
       "stream": "stdout",
       "text": [
        "\n",
        "['../../images/testsets/Gallagher_small/14_207.jpg', '../../images/testsets/Gallagher_small/14_150.jpg']\n",
        "Score: 0.0351 for 14 and 14"
       ]
      },
      {
       "output_type": "stream",
       "stream": "stdout",
       "text": [
        "\n",
        "['../../images/testsets/Gallagher_small/14_207.jpg', '../../images/testsets/Gallagher_small/27_566.jpg']\n",
        "Score: -0.1000 for 14 and 27 (Less than two matches)"
       ]
      },
      {
       "output_type": "stream",
       "stream": "stdout",
       "text": [
        "\n",
        "['../../images/testsets/Gallagher_small/14_207.jpg', '../../images/testsets/Gallagher_small/17_183.jpg']\n",
        "Score: 0.0587 for 14 and 17"
       ]
      },
      {
       "output_type": "stream",
       "stream": "stdout",
       "text": [
        "\n",
        "['../../images/testsets/Gallagher_small/14_207.jpg', '../../images/testsets/Gallagher_small/19_187.jpg']\n",
        "Score: -0.1000 for 14 and 19 (Less than two matches)"
       ]
      },
      {
       "output_type": "stream",
       "stream": "stdout",
       "text": [
        "\n",
        "['../../images/testsets/Gallagher_small/14_207.jpg', '../../images/testsets/Gallagher_small/31_580.jpg']\n",
        "Score: -0.1000 for 14 and 31 (Less than two matches)"
       ]
      },
      {
       "output_type": "stream",
       "stream": "stdout",
       "text": [
        "\n",
        "['../../images/testsets/Gallagher_small/14_207.jpg', '../../images/testsets/Gallagher_small/21_872.jpg']\n",
        "Score: 0.0150 for 14 and 21"
       ]
      },
      {
       "output_type": "stream",
       "stream": "stdout",
       "text": [
        "\n",
        "['../../images/testsets/Gallagher_small/14_207.jpg', '../../images/testsets/Gallagher_small/23_307.jpg']\n",
        "Score: 0.0564 for 14 and 23"
       ]
      },
      {
       "output_type": "stream",
       "stream": "stdout",
       "text": [
        "\n",
        "['../../images/testsets/Gallagher_small/14_207.jpg', '../../images/testsets/Gallagher_small/25_462.jpg']\n",
        "Score: -0.1000 for 14 and 25 (Less than two matches)"
       ]
      },
      {
       "output_type": "stream",
       "stream": "stdout",
       "text": [
        "\n",
        "['../../images/testsets/Gallagher_small/14_207.jpg', '../../images/testsets/Gallagher_small/23_534.jpg']\n",
        "Score: -0.1000 for 14 and 23 (Less than two matches)"
       ]
      },
      {
       "output_type": "stream",
       "stream": "stdout",
       "text": [
        "\n",
        "['../../images/testsets/Gallagher_small/14_207.jpg', '../../images/testsets/Gallagher_small/31_582.jpg']\n",
        "Score: -0.1000 for 14 and 31 (Less than two matches)"
       ]
      },
      {
       "output_type": "stream",
       "stream": "stdout",
       "text": [
        "\n",
        "['../../images/testsets/Gallagher_small/14_207.jpg', '../../images/testsets/Gallagher_small/15_224.jpg']\n",
        "Score: -0.1000 for 14 and 15 (Less than two matches)"
       ]
      },
      {
       "output_type": "stream",
       "stream": "stdout",
       "text": [
        "\n",
        "['../../images/testsets/Gallagher_small/14_207.jpg', '../../images/testsets/Gallagher_small/23_508.jpg']\n",
        "Score: -0.0223 for 14 and 23"
       ]
      },
      {
       "output_type": "stream",
       "stream": "stdout",
       "text": [
        "\n",
        "['../../images/testsets/Gallagher_small/14_207.jpg', '../../images/testsets/Gallagher_small/18_220.jpg']\n",
        "Score: -0.1000 for 14 and 18 (Less than two matches)"
       ]
      },
      {
       "output_type": "stream",
       "stream": "stdout",
       "text": [
        "\n",
        "['../../images/testsets/Gallagher_small/14_207.jpg', '../../images/testsets/Gallagher_small/15_151.jpg']\n",
        "Score: 0.0692 for 14 and 15"
       ]
      },
      {
       "output_type": "stream",
       "stream": "stdout",
       "text": [
        "\n",
        "['../../images/testsets/Gallagher_small/14_207.jpg', '../../images/testsets/Gallagher_small/16_182.jpg']\n",
        "Score: -0.1000 for 14 and 16 (Less than two matches)"
       ]
      },
      {
       "output_type": "stream",
       "stream": "stdout",
       "text": [
        "\n",
        "['../../images/testsets/Gallagher_small/14_207.jpg', '../../images/testsets/Gallagher_small/23_875.jpg']\n",
        "Score: -0.1000 for 14 and 23 (Less than two matches)"
       ]
      },
      {
       "output_type": "stream",
       "stream": "stdout",
       "text": [
        "\n",
        "['../../images/testsets/Gallagher_small/14_207.jpg', '../../images/testsets/Gallagher_small/23_549.jpg']\n",
        "Score: -0.1000 for 14 and 23 (Less than two matches)"
       ]
      },
      {
       "output_type": "stream",
       "stream": "stdout",
       "text": [
        "\n",
        "['../../images/testsets/Gallagher_small/14_207.jpg', '../../images/testsets/Gallagher_small/32_648.jpg']\n",
        "Score: -0.1000 for 14 and 32 (Less than two matches)"
       ]
      },
      {
       "output_type": "stream",
       "stream": "stdout",
       "text": [
        "\n",
        "['../../images/testsets/Gallagher_small/14_207.jpg', '../../images/testsets/Gallagher_small/15_171.jpg']\n",
        "Score: -0.0246 for 14 and 15"
       ]
      },
      {
       "output_type": "stream",
       "stream": "stdout",
       "text": [
        "\n",
        "['../../images/testsets/Gallagher_small/14_207.jpg', '../../images/testsets/Gallagher_small/24_358.jpg']\n",
        "Score: -0.1000 for 14 and 24 (Less than two matches)"
       ]
      },
      {
       "output_type": "stream",
       "stream": "stdout",
       "text": [
        "\n",
        "['../../images/testsets/Gallagher_small/14_207.jpg', '../../images/testsets/Gallagher_small/25_458.jpg']\n",
        "Score: 0.0296 for 14 and 25"
       ]
      },
      {
       "output_type": "stream",
       "stream": "stdout",
       "text": [
        "\n",
        "['../../images/testsets/Gallagher_small/14_207.jpg', '../../images/testsets/Gallagher_small/30_569.jpg']\n",
        "Score: -0.1000 for 14 and 30 (Less than two matches)"
       ]
      },
      {
       "output_type": "stream",
       "stream": "stdout",
       "text": [
        "\n",
        "['../../images/testsets/Gallagher_small/14_207.jpg', '../../images/testsets/Gallagher_small/32_645.jpg']\n",
        "Score: 0.0201 for 14 and 32"
       ]
      },
      {
       "output_type": "stream",
       "stream": "stdout",
       "text": [
        "\n",
        "['../../images/testsets/Gallagher_small/14_207.jpg', '../../images/testsets/Gallagher_small/29_538.jpg']\n",
        "Score: -0.1000 for 14 and 29 (Less than two matches)"
       ]
      },
      {
       "output_type": "stream",
       "stream": "stdout",
       "text": [
        "\n",
        "['../../images/testsets/Gallagher_small/14_207.jpg', '../../images/testsets/Gallagher_small/21_251.jpg']\n",
        "Score: -0.1000 for 14 and 21 (Less than two matches)"
       ]
      },
      {
       "output_type": "stream",
       "stream": "stdout",
       "text": [
        "\n",
        "['../../images/testsets/Gallagher_small/14_207.jpg', '../../images/testsets/Gallagher_small/20_249.jpg']\n",
        "Score: -0.0783 for 14 and 20"
       ]
      },
      {
       "output_type": "stream",
       "stream": "stdout",
       "text": [
        "\n",
        "['../../images/testsets/Gallagher_small/14_207.jpg', '../../images/testsets/Gallagher_small/15_181.jpg']\n",
        "Score: -0.1000 for 14 and 15 (Less than two matches)"
       ]
      },
      {
       "output_type": "stream",
       "stream": "stdout",
       "text": [
        "\n",
        "['../../images/testsets/Gallagher_small/14_207.jpg', '../../images/testsets/Gallagher_small/15_158.jpg']\n",
        "Score: -0.0068 for 14 and 15"
       ]
      },
      {
       "output_type": "stream",
       "stream": "stdout",
       "text": [
        "\n",
        "['../../images/testsets/Gallagher_small/14_207.jpg', '../../images/testsets/Gallagher_small/19_195.jpg']\n",
        "Score: -0.1000 for 14 and 19 (Less than two matches)"
       ]
      },
      {
       "output_type": "stream",
       "stream": "stdout",
       "text": [
        "\n",
        "['../../images/testsets/Gallagher_small/14_207.jpg', '../../images/testsets/Gallagher_small/19_193.jpg']\n",
        "Score: -0.1000 for 14 and 19 (Less than two matches)"
       ]
      },
      {
       "output_type": "stream",
       "stream": "stdout",
       "text": [
        "\n",
        "['../../images/testsets/Gallagher_small/14_207.jpg', '../../images/testsets/Gallagher_small/21_287.jpg']\n",
        "Score: 0.0217 for 14 and 21"
       ]
      },
      {
       "output_type": "stream",
       "stream": "stdout",
       "text": [
        "\n",
        "['../../images/testsets/Gallagher_small/14_207.jpg', '../../images/testsets/Gallagher_small/26_565.jpg']\n",
        "Score: -0.1000 for 14 and 26 (Less than two matches)"
       ]
      },
      {
       "output_type": "stream",
       "stream": "stdout",
       "text": [
        "\n",
        "['../../images/testsets/Gallagher_small/14_207.jpg', '../../images/testsets/Gallagher_small/27_509.jpg']\n",
        "Score: -0.1000 for 14 and 27 (Less than two matches)"
       ]
      },
      {
       "output_type": "stream",
       "stream": "stdout",
       "text": [
        "\n",
        "['../../images/testsets/Gallagher_small/14_207.jpg', '../../images/testsets/Gallagher_small/15_169.jpg']\n",
        "Score: -0.1000 for 14 and 15 (Less than two matches)"
       ]
      },
      {
       "output_type": "stream",
       "stream": "stdout",
       "text": [
        "\n",
        "['../../images/testsets/Gallagher_small/14_207.jpg', '../../images/testsets/Gallagher_small/15_167.jpg']\n",
        "Score: 0.0611 for 14 and 15"
       ]
      },
      {
       "output_type": "stream",
       "stream": "stdout",
       "text": [
        "\n",
        "['../../images/testsets/Gallagher_small/14_207.jpg', '../../images/testsets/Gallagher_small/21_587.jpg']\n",
        "Score: -0.1000 for 14 and 21 (Less than two matches)"
       ]
      },
      {
       "output_type": "stream",
       "stream": "stdout",
       "text": [
        "\n",
        "['../../images/testsets/Gallagher_small/14_207.jpg', '../../images/testsets/Gallagher_small/15_222.jpg']\n",
        "Score: -0.1000 for 14 and 15 (Less than two matches)"
       ]
      },
      {
       "output_type": "stream",
       "stream": "stdout",
       "text": [
        "\n",
        "['../../images/testsets/Gallagher_small/14_207.jpg', '../../images/testsets/Gallagher_small/16_178.jpg']\n",
        "Score: -0.1000 for 14 and 16 (Less than two matches)"
       ]
      },
      {
       "output_type": "stream",
       "stream": "stdout",
       "text": [
        "\n",
        "['../../images/testsets/Gallagher_small/14_207.jpg', '../../images/testsets/Gallagher_small/17_165.jpg']\n",
        "Score: -0.1000 for 14 and 17 (Less than two matches)"
       ]
      },
      {
       "output_type": "stream",
       "stream": "stdout",
       "text": [
        "\n",
        "['../../images/testsets/Gallagher_small/14_207.jpg', '../../images/testsets/Gallagher_small/28_537.jpg']\n",
        "Score: -0.1000 for 14 and 28 (Less than two matches)"
       ]
      },
      {
       "output_type": "stream",
       "stream": "stdout",
       "text": [
        "\n",
        "['../../images/testsets/Gallagher_small/14_207.jpg', '../../images/testsets/Gallagher_small/27_524.jpg']\n",
        "Score: -0.1000 for 14 and 27 (Less than two matches)"
       ]
      },
      {
       "output_type": "stream",
       "stream": "stdout",
       "text": [
        "\n",
        "['../../images/testsets/Gallagher_small/14_207.jpg', '../../images/testsets/Gallagher_small/13_163.jpg']\n",
        "Score: -0.1000 for 14 and 13 (Less than two matches)"
       ]
      },
      {
       "output_type": "stream",
       "stream": "stdout",
       "text": [
        "\n",
        "['../../images/testsets/Gallagher_small/14_207.jpg', '../../images/testsets/Gallagher_small/23_302.jpg']\n",
        "Score: 0.0630 for 14 and 23"
       ]
      },
      {
       "output_type": "stream",
       "stream": "stdout",
       "text": [
        "\n",
        "['../../images/testsets/Gallagher_small/14_150.jpg', '../../images/testsets/Gallagher_small/27_566.jpg']\n",
        "Score: -0.1000 for 14 and 27 (Less than two matches)"
       ]
      },
      {
       "output_type": "stream",
       "stream": "stdout",
       "text": [
        "\n",
        "['../../images/testsets/Gallagher_small/14_150.jpg', '../../images/testsets/Gallagher_small/17_183.jpg']\n",
        "Score: 0.0572 for 14 and 17"
       ]
      },
      {
       "output_type": "stream",
       "stream": "stdout",
       "text": [
        "\n",
        "['../../images/testsets/Gallagher_small/14_150.jpg', '../../images/testsets/Gallagher_small/19_187.jpg']\n",
        "Score: -0.1000 for 14 and 19 (Less than two matches)"
       ]
      },
      {
       "output_type": "stream",
       "stream": "stdout",
       "text": [
        "\n",
        "['../../images/testsets/Gallagher_small/14_150.jpg', '../../images/testsets/Gallagher_small/31_580.jpg']\n",
        "Score: -0.1000 for 14 and 31 (Less than two matches)"
       ]
      },
      {
       "output_type": "stream",
       "stream": "stdout",
       "text": [
        "\n",
        "['../../images/testsets/Gallagher_small/14_150.jpg', '../../images/testsets/Gallagher_small/21_872.jpg']\n",
        "Score: -0.1000 for 14 and 21 (Less than two matches)"
       ]
      },
      {
       "output_type": "stream",
       "stream": "stdout",
       "text": [
        "\n",
        "['../../images/testsets/Gallagher_small/14_150.jpg', '../../images/testsets/Gallagher_small/23_307.jpg']\n",
        "Score: 0.1034 for 14 and 23"
       ]
      },
      {
       "output_type": "stream",
       "stream": "stdout",
       "text": [
        "\n",
        "['../../images/testsets/Gallagher_small/14_150.jpg', '../../images/testsets/Gallagher_small/25_462.jpg']\n",
        "Score: -0.1000 for 14 and 25 (Less than two matches)"
       ]
      },
      {
       "output_type": "stream",
       "stream": "stdout",
       "text": [
        "\n",
        "['../../images/testsets/Gallagher_small/14_150.jpg', '../../images/testsets/Gallagher_small/23_534.jpg']\n",
        "Score: -0.1000 for 14 and 23 (Less than two matches)"
       ]
      },
      {
       "output_type": "stream",
       "stream": "stdout",
       "text": [
        "\n",
        "['../../images/testsets/Gallagher_small/14_150.jpg', '../../images/testsets/Gallagher_small/31_582.jpg']\n",
        "Score: -0.1000 for 14 and 31 (Less than two matches)"
       ]
      },
      {
       "output_type": "stream",
       "stream": "stdout",
       "text": [
        "\n",
        "['../../images/testsets/Gallagher_small/14_150.jpg', '../../images/testsets/Gallagher_small/15_224.jpg']\n",
        "Score: -0.1000 for 14 and 15 (Less than two matches)"
       ]
      },
      {
       "output_type": "stream",
       "stream": "stdout",
       "text": [
        "\n",
        "['../../images/testsets/Gallagher_small/14_150.jpg', '../../images/testsets/Gallagher_small/23_508.jpg']\n",
        "Score: -0.1000 for 14 and 23 (Less than two matches)"
       ]
      },
      {
       "output_type": "stream",
       "stream": "stdout",
       "text": [
        "\n",
        "['../../images/testsets/Gallagher_small/14_150.jpg', '../../images/testsets/Gallagher_small/18_220.jpg']\n",
        "Score: -0.1000 for 14 and 18 (Less than two matches)"
       ]
      },
      {
       "output_type": "stream",
       "stream": "stdout",
       "text": [
        "\n",
        "['../../images/testsets/Gallagher_small/14_150.jpg', '../../images/testsets/Gallagher_small/15_151.jpg']\n",
        "Score: 0.0241 for 14 and 15"
       ]
      },
      {
       "output_type": "stream",
       "stream": "stdout",
       "text": [
        "\n",
        "['../../images/testsets/Gallagher_small/14_150.jpg', '../../images/testsets/Gallagher_small/16_182.jpg']\n",
        "Score: -0.1000 for 14 and 16 (Less than two matches)"
       ]
      },
      {
       "output_type": "stream",
       "stream": "stdout",
       "text": [
        "\n",
        "['../../images/testsets/Gallagher_small/14_150.jpg', '../../images/testsets/Gallagher_small/23_875.jpg']\n",
        "Score: -0.1000 for 14 and 23 (Less than two matches)"
       ]
      },
      {
       "output_type": "stream",
       "stream": "stdout",
       "text": [
        "\n",
        "['../../images/testsets/Gallagher_small/14_150.jpg', '../../images/testsets/Gallagher_small/23_549.jpg']\n",
        "Score: -0.1000 for 14 and 23 (Less than two matches)"
       ]
      },
      {
       "output_type": "stream",
       "stream": "stdout",
       "text": [
        "\n",
        "['../../images/testsets/Gallagher_small/14_150.jpg', '../../images/testsets/Gallagher_small/32_648.jpg']\n",
        "Score: -0.1000 for 14 and 32 (Less than two matches)"
       ]
      },
      {
       "output_type": "stream",
       "stream": "stdout",
       "text": [
        "\n",
        "['../../images/testsets/Gallagher_small/14_150.jpg', '../../images/testsets/Gallagher_small/15_171.jpg']\n",
        "Score: 0.0514 for 14 and 15"
       ]
      },
      {
       "output_type": "stream",
       "stream": "stdout",
       "text": [
        "\n",
        "['../../images/testsets/Gallagher_small/14_150.jpg', '../../images/testsets/Gallagher_small/24_358.jpg']\n",
        "Score: -0.1000 for 14 and 24 (Less than two matches)"
       ]
      },
      {
       "output_type": "stream",
       "stream": "stdout",
       "text": [
        "\n",
        "['../../images/testsets/Gallagher_small/14_150.jpg', '../../images/testsets/Gallagher_small/25_458.jpg']\n",
        "Score: 0.0423 for 14 and 25"
       ]
      },
      {
       "output_type": "stream",
       "stream": "stdout",
       "text": [
        "\n",
        "['../../images/testsets/Gallagher_small/14_150.jpg', '../../images/testsets/Gallagher_small/30_569.jpg']\n",
        "Score: -0.1000 for 14 and 30 (Less than two matches)"
       ]
      },
      {
       "output_type": "stream",
       "stream": "stdout",
       "text": [
        "\n",
        "['../../images/testsets/Gallagher_small/14_150.jpg', '../../images/testsets/Gallagher_small/32_645.jpg']\n",
        "Score: -0.1000 for 14 and 32 (Less than two matches)"
       ]
      },
      {
       "output_type": "stream",
       "stream": "stdout",
       "text": [
        "\n",
        "['../../images/testsets/Gallagher_small/14_150.jpg', '../../images/testsets/Gallagher_small/29_538.jpg']\n",
        "Score: -0.1000 for 14 and 29 (Less than two matches)"
       ]
      },
      {
       "output_type": "stream",
       "stream": "stdout",
       "text": [
        "\n",
        "['../../images/testsets/Gallagher_small/14_150.jpg', '../../images/testsets/Gallagher_small/21_251.jpg']\n",
        "Score: -0.1000 for 14 and 21 (Less than two matches)"
       ]
      },
      {
       "output_type": "stream",
       "stream": "stdout",
       "text": [
        "\n",
        "['../../images/testsets/Gallagher_small/14_150.jpg', '../../images/testsets/Gallagher_small/20_249.jpg']\n",
        "Score: -0.1641 for 14 and 20"
       ]
      },
      {
       "output_type": "stream",
       "stream": "stdout",
       "text": [
        "\n",
        "['../../images/testsets/Gallagher_small/14_150.jpg', '../../images/testsets/Gallagher_small/15_181.jpg']\n",
        "Score: -0.1000 for 14 and 15 (Less than two matches)"
       ]
      },
      {
       "output_type": "stream",
       "stream": "stdout",
       "text": [
        "\n",
        "['../../images/testsets/Gallagher_small/14_150.jpg', '../../images/testsets/Gallagher_small/15_158.jpg']\n",
        "Score: 0.0452 for 14 and 15"
       ]
      },
      {
       "output_type": "stream",
       "stream": "stdout",
       "text": [
        "\n",
        "['../../images/testsets/Gallagher_small/14_150.jpg', '../../images/testsets/Gallagher_small/19_195.jpg']\n",
        "Score: 0.0656 for 14 and 19"
       ]
      },
      {
       "output_type": "stream",
       "stream": "stdout",
       "text": [
        "\n",
        "['../../images/testsets/Gallagher_small/14_150.jpg', '../../images/testsets/Gallagher_small/19_193.jpg']\n",
        "Score: -0.1000 for 14 and 19 (Less than two matches)"
       ]
      },
      {
       "output_type": "stream",
       "stream": "stdout",
       "text": [
        "\n",
        "['../../images/testsets/Gallagher_small/14_150.jpg', '../../images/testsets/Gallagher_small/21_287.jpg']\n",
        "Score: -0.1000 for 14 and 21 (Less than two matches)"
       ]
      },
      {
       "output_type": "stream",
       "stream": "stdout",
       "text": [
        "\n",
        "['../../images/testsets/Gallagher_small/14_150.jpg', '../../images/testsets/Gallagher_small/26_565.jpg']\n",
        "Score: -0.1000 for 14 and 26 (Less than two matches)"
       ]
      },
      {
       "output_type": "stream",
       "stream": "stdout",
       "text": [
        "\n",
        "['../../images/testsets/Gallagher_small/14_150.jpg', '../../images/testsets/Gallagher_small/27_509.jpg']\n",
        "Score: -0.1000 for 14 and 27 (Less than two matches)"
       ]
      },
      {
       "output_type": "stream",
       "stream": "stdout",
       "text": [
        "\n",
        "['../../images/testsets/Gallagher_small/14_150.jpg', '../../images/testsets/Gallagher_small/15_169.jpg']\n",
        "Score: -0.1000 for 14 and 15 (Less than two matches)"
       ]
      },
      {
       "output_type": "stream",
       "stream": "stdout",
       "text": [
        "\n",
        "['../../images/testsets/Gallagher_small/14_150.jpg', '../../images/testsets/Gallagher_small/15_167.jpg']\n",
        "Score: 0.0626 for 14 and 15"
       ]
      },
      {
       "output_type": "stream",
       "stream": "stdout",
       "text": [
        "\n",
        "['../../images/testsets/Gallagher_small/14_150.jpg', '../../images/testsets/Gallagher_small/21_587.jpg']\n",
        "Score: -0.1000 for 14 and 21 (Less than two matches)"
       ]
      },
      {
       "output_type": "stream",
       "stream": "stdout",
       "text": [
        "\n",
        "['../../images/testsets/Gallagher_small/14_150.jpg', '../../images/testsets/Gallagher_small/15_222.jpg']\n",
        "Score: -0.1000 for 14 and 15 (Less than two matches)"
       ]
      },
      {
       "output_type": "stream",
       "stream": "stdout",
       "text": [
        "\n",
        "['../../images/testsets/Gallagher_small/14_150.jpg', '../../images/testsets/Gallagher_small/16_178.jpg']\n",
        "Score: -0.1000 for 14 and 16 (Less than two matches)"
       ]
      },
      {
       "output_type": "stream",
       "stream": "stdout",
       "text": [
        "\n",
        "['../../images/testsets/Gallagher_small/14_150.jpg', '../../images/testsets/Gallagher_small/17_165.jpg']\n",
        "Score: -0.1000 for 14 and 17 (Less than two matches)"
       ]
      },
      {
       "output_type": "stream",
       "stream": "stdout",
       "text": [
        "\n",
        "['../../images/testsets/Gallagher_small/14_150.jpg', '../../images/testsets/Gallagher_small/28_537.jpg']\n",
        "Score: -0.1000 for 14 and 28 (Less than two matches)"
       ]
      },
      {
       "output_type": "stream",
       "stream": "stdout",
       "text": [
        "\n",
        "['../../images/testsets/Gallagher_small/14_150.jpg', '../../images/testsets/Gallagher_small/27_524.jpg']\n",
        "Score: -0.1000 for 14 and 27 (Less than two matches)"
       ]
      },
      {
       "output_type": "stream",
       "stream": "stdout",
       "text": [
        "\n",
        "['../../images/testsets/Gallagher_small/14_150.jpg', '../../images/testsets/Gallagher_small/13_163.jpg']\n",
        "Score: -0.1000 for 14 and 13 (Less than two matches)"
       ]
      },
      {
       "output_type": "stream",
       "stream": "stdout",
       "text": [
        "\n",
        "['../../images/testsets/Gallagher_small/14_150.jpg', '../../images/testsets/Gallagher_small/23_302.jpg']\n",
        "Score: 0.0823 for 14 and 23"
       ]
      },
      {
       "output_type": "stream",
       "stream": "stdout",
       "text": [
        "\n",
        "['../../images/testsets/Gallagher_small/27_566.jpg', '../../images/testsets/Gallagher_small/17_183.jpg']\n",
        "Score: 0.0359 for 27 and 17"
       ]
      },
      {
       "output_type": "stream",
       "stream": "stdout",
       "text": [
        "\n",
        "['../../images/testsets/Gallagher_small/27_566.jpg', '../../images/testsets/Gallagher_small/19_187.jpg']\n",
        "Score: -0.1000 for 27 and 19 (Less than two matches)"
       ]
      },
      {
       "output_type": "stream",
       "stream": "stdout",
       "text": [
        "\n",
        "['../../images/testsets/Gallagher_small/27_566.jpg', '../../images/testsets/Gallagher_small/31_580.jpg']\n",
        "Score: -0.1000 for 27 and 31 (Less than two matches)"
       ]
      },
      {
       "output_type": "stream",
       "stream": "stdout",
       "text": [
        "\n",
        "['../../images/testsets/Gallagher_small/27_566.jpg', '../../images/testsets/Gallagher_small/21_872.jpg']\n",
        "Score: -0.1000 for 27 and 21 (Less than two matches)"
       ]
      },
      {
       "output_type": "stream",
       "stream": "stdout",
       "text": [
        "\n",
        "['../../images/testsets/Gallagher_small/27_566.jpg', '../../images/testsets/Gallagher_small/23_307.jpg']\n",
        "Score: -0.1000 for 27 and 23 (Less than two matches)"
       ]
      },
      {
       "output_type": "stream",
       "stream": "stdout",
       "text": [
        "\n",
        "['../../images/testsets/Gallagher_small/27_566.jpg', '../../images/testsets/Gallagher_small/25_462.jpg']\n",
        "Score: -0.1000 for 27 and 25 (Less than two matches)"
       ]
      },
      {
       "output_type": "stream",
       "stream": "stdout",
       "text": [
        "\n",
        "['../../images/testsets/Gallagher_small/27_566.jpg', '../../images/testsets/Gallagher_small/23_534.jpg']\n",
        "Score: -0.1000 for 27 and 23 (Less than two matches)"
       ]
      },
      {
       "output_type": "stream",
       "stream": "stdout",
       "text": [
        "\n",
        "['../../images/testsets/Gallagher_small/27_566.jpg', '../../images/testsets/Gallagher_small/31_582.jpg']\n",
        "Score: -0.1000 for 27 and 31 (Less than two matches)"
       ]
      },
      {
       "output_type": "stream",
       "stream": "stdout",
       "text": [
        "\n",
        "['../../images/testsets/Gallagher_small/27_566.jpg', '../../images/testsets/Gallagher_small/15_224.jpg']\n",
        "Score: -0.1000 for 27 and 15 (Less than two matches)"
       ]
      },
      {
       "output_type": "stream",
       "stream": "stdout",
       "text": [
        "\n",
        "['../../images/testsets/Gallagher_small/27_566.jpg', '../../images/testsets/Gallagher_small/23_508.jpg']\n",
        "Score: 0.0366 for 27 and 23"
       ]
      },
      {
       "output_type": "stream",
       "stream": "stdout",
       "text": [
        "\n",
        "['../../images/testsets/Gallagher_small/27_566.jpg', '../../images/testsets/Gallagher_small/18_220.jpg']\n",
        "Score: -0.1000 for 27 and 18 (Less than two matches)"
       ]
      },
      {
       "output_type": "stream",
       "stream": "stdout",
       "text": [
        "\n",
        "['../../images/testsets/Gallagher_small/27_566.jpg', '../../images/testsets/Gallagher_small/15_151.jpg']\n",
        "Score: -0.1000 for 27 and 15 (Less than two matches)"
       ]
      },
      {
       "output_type": "stream",
       "stream": "stdout",
       "text": [
        "\n",
        "['../../images/testsets/Gallagher_small/27_566.jpg', '../../images/testsets/Gallagher_small/16_182.jpg']\n",
        "Score: -0.1000 for 27 and 16 (Less than two matches)"
       ]
      },
      {
       "output_type": "stream",
       "stream": "stdout",
       "text": [
        "\n",
        "['../../images/testsets/Gallagher_small/27_566.jpg', '../../images/testsets/Gallagher_small/23_875.jpg']\n",
        "Score: -0.1000 for 27 and 23 (Less than two matches)"
       ]
      },
      {
       "output_type": "stream",
       "stream": "stdout",
       "text": [
        "\n",
        "['../../images/testsets/Gallagher_small/27_566.jpg', '../../images/testsets/Gallagher_small/23_549.jpg']\n",
        "Score: -0.1000 for 27 and 23 (Less than two matches)"
       ]
      },
      {
       "output_type": "stream",
       "stream": "stdout",
       "text": [
        "\n",
        "['../../images/testsets/Gallagher_small/27_566.jpg', '../../images/testsets/Gallagher_small/32_648.jpg']\n",
        "Score: -0.1000 for 27 and 32 (Less than two matches)"
       ]
      },
      {
       "output_type": "stream",
       "stream": "stdout",
       "text": [
        "\n",
        "['../../images/testsets/Gallagher_small/27_566.jpg', '../../images/testsets/Gallagher_small/15_171.jpg']\n",
        "Score: -0.1000 for 27 and 15 (Less than two matches)"
       ]
      },
      {
       "output_type": "stream",
       "stream": "stdout",
       "text": [
        "\n",
        "['../../images/testsets/Gallagher_small/27_566.jpg', '../../images/testsets/Gallagher_small/24_358.jpg']\n",
        "Score: -0.1000 for 27 and 24 (Less than two matches)"
       ]
      },
      {
       "output_type": "stream",
       "stream": "stdout",
       "text": [
        "\n",
        "['../../images/testsets/Gallagher_small/27_566.jpg', '../../images/testsets/Gallagher_small/25_458.jpg']\n",
        "Score: -0.1000 for 27 and 25 (Less than two matches)"
       ]
      },
      {
       "output_type": "stream",
       "stream": "stdout",
       "text": [
        "\n",
        "['../../images/testsets/Gallagher_small/27_566.jpg', '../../images/testsets/Gallagher_small/30_569.jpg']\n",
        "Score: -0.1000 for 27 and 30 (Less than two matches)"
       ]
      },
      {
       "output_type": "stream",
       "stream": "stdout",
       "text": [
        "\n",
        "['../../images/testsets/Gallagher_small/27_566.jpg', '../../images/testsets/Gallagher_small/32_645.jpg']\n",
        "Score: 0.0531 for 27 and 32"
       ]
      },
      {
       "output_type": "stream",
       "stream": "stdout",
       "text": [
        "\n",
        "['../../images/testsets/Gallagher_small/27_566.jpg', '../../images/testsets/Gallagher_small/29_538.jpg']\n",
        "Score: -0.1000 for 27 and 29 (Less than two matches)"
       ]
      },
      {
       "output_type": "stream",
       "stream": "stdout",
       "text": [
        "\n",
        "['../../images/testsets/Gallagher_small/27_566.jpg', '../../images/testsets/Gallagher_small/21_251.jpg']\n",
        "Score: -0.1000 for 27 and 21 (Less than two matches)"
       ]
      },
      {
       "output_type": "stream",
       "stream": "stdout",
       "text": [
        "\n",
        "['../../images/testsets/Gallagher_small/27_566.jpg', '../../images/testsets/Gallagher_small/20_249.jpg']\n",
        "Score: -0.1000 for 27 and 20 (Less than two matches)"
       ]
      },
      {
       "output_type": "stream",
       "stream": "stdout",
       "text": [
        "\n",
        "['../../images/testsets/Gallagher_small/27_566.jpg', '../../images/testsets/Gallagher_small/15_181.jpg']\n",
        "Score: -0.1000 for 27 and 15 (Less than two matches)"
       ]
      },
      {
       "output_type": "stream",
       "stream": "stdout",
       "text": [
        "\n",
        "['../../images/testsets/Gallagher_small/27_566.jpg', '../../images/testsets/Gallagher_small/15_158.jpg']\n",
        "Score: -0.1000 for 27 and 15 (Less than two matches)"
       ]
      },
      {
       "output_type": "stream",
       "stream": "stdout",
       "text": [
        "\n",
        "['../../images/testsets/Gallagher_small/27_566.jpg', '../../images/testsets/Gallagher_small/19_195.jpg']\n",
        "Score: -0.1000 for 27 and 19 (Less than two matches)"
       ]
      },
      {
       "output_type": "stream",
       "stream": "stdout",
       "text": [
        "\n",
        "['../../images/testsets/Gallagher_small/27_566.jpg', '../../images/testsets/Gallagher_small/19_193.jpg']\n",
        "Score: -0.1000 for 27 and 19 (Less than two matches)"
       ]
      },
      {
       "output_type": "stream",
       "stream": "stdout",
       "text": [
        "\n",
        "['../../images/testsets/Gallagher_small/27_566.jpg', '../../images/testsets/Gallagher_small/21_287.jpg']\n",
        "Score: -0.1000 for 27 and 21 (Less than two matches)"
       ]
      },
      {
       "output_type": "stream",
       "stream": "stdout",
       "text": [
        "\n",
        "['../../images/testsets/Gallagher_small/27_566.jpg', '../../images/testsets/Gallagher_small/26_565.jpg']\n",
        "Score: -0.1000 for 27 and 26 (Less than two matches)"
       ]
      },
      {
       "output_type": "stream",
       "stream": "stdout",
       "text": [
        "\n",
        "['../../images/testsets/Gallagher_small/27_566.jpg', '../../images/testsets/Gallagher_small/27_509.jpg']\n",
        "Score: 0.0058 for 27 and 27"
       ]
      },
      {
       "output_type": "stream",
       "stream": "stdout",
       "text": [
        "\n",
        "['../../images/testsets/Gallagher_small/27_566.jpg', '../../images/testsets/Gallagher_small/15_169.jpg']\n",
        "Score: -0.1000 for 27 and 15 (Less than two matches)"
       ]
      },
      {
       "output_type": "stream",
       "stream": "stdout",
       "text": [
        "\n",
        "['../../images/testsets/Gallagher_small/27_566.jpg', '../../images/testsets/Gallagher_small/15_167.jpg']\n",
        "Score: -0.1000 for 27 and 15 (Less than two matches)"
       ]
      },
      {
       "output_type": "stream",
       "stream": "stdout",
       "text": [
        "\n",
        "['../../images/testsets/Gallagher_small/27_566.jpg', '../../images/testsets/Gallagher_small/21_587.jpg']\n",
        "Score: -0.1000 for 27 and 21 (Less than two matches)"
       ]
      },
      {
       "output_type": "stream",
       "stream": "stdout",
       "text": [
        "\n",
        "['../../images/testsets/Gallagher_small/27_566.jpg', '../../images/testsets/Gallagher_small/15_222.jpg']\n",
        "Score: -0.1000 for 27 and 15 (Less than two matches)"
       ]
      },
      {
       "output_type": "stream",
       "stream": "stdout",
       "text": [
        "\n",
        "['../../images/testsets/Gallagher_small/27_566.jpg', '../../images/testsets/Gallagher_small/16_178.jpg']\n",
        "Score: -0.1000 for 27 and 16 (Less than two matches)"
       ]
      },
      {
       "output_type": "stream",
       "stream": "stdout",
       "text": [
        "\n",
        "['../../images/testsets/Gallagher_small/27_566.jpg', '../../images/testsets/Gallagher_small/17_165.jpg']\n",
        "Score: -0.1000 for 27 and 17 (Less than two matches)"
       ]
      },
      {
       "output_type": "stream",
       "stream": "stdout",
       "text": [
        "\n",
        "['../../images/testsets/Gallagher_small/27_566.jpg', '../../images/testsets/Gallagher_small/28_537.jpg']\n",
        "Score: -0.1000 for 27 and 28 (Less than two matches)"
       ]
      },
      {
       "output_type": "stream",
       "stream": "stdout",
       "text": [
        "\n",
        "['../../images/testsets/Gallagher_small/27_566.jpg', '../../images/testsets/Gallagher_small/27_524.jpg']\n",
        "Score: 0.0571 for 27 and 27"
       ]
      },
      {
       "output_type": "stream",
       "stream": "stdout",
       "text": [
        "\n",
        "['../../images/testsets/Gallagher_small/27_566.jpg', '../../images/testsets/Gallagher_small/13_163.jpg']\n",
        "Score: -0.1000 for 27 and 13 (Less than two matches)"
       ]
      },
      {
       "output_type": "stream",
       "stream": "stdout",
       "text": [
        "\n",
        "['../../images/testsets/Gallagher_small/27_566.jpg', '../../images/testsets/Gallagher_small/23_302.jpg']\n",
        "Score: -0.1000 for 27 and 23 (Less than two matches)"
       ]
      },
      {
       "output_type": "stream",
       "stream": "stdout",
       "text": [
        "\n",
        "['../../images/testsets/Gallagher_small/17_183.jpg', '../../images/testsets/Gallagher_small/19_187.jpg']\n",
        "Score: -0.1000 for 17 and 19 (Less than two matches)"
       ]
      },
      {
       "output_type": "stream",
       "stream": "stdout",
       "text": [
        "\n",
        "['../../images/testsets/Gallagher_small/17_183.jpg', '../../images/testsets/Gallagher_small/31_580.jpg']\n",
        "Score: -0.1000 for 17 and 31 (Less than two matches)"
       ]
      },
      {
       "output_type": "stream",
       "stream": "stdout",
       "text": [
        "\n",
        "['../../images/testsets/Gallagher_small/17_183.jpg', '../../images/testsets/Gallagher_small/21_872.jpg']\n",
        "Score: 0.0240 for 17 and 21"
       ]
      },
      {
       "output_type": "stream",
       "stream": "stdout",
       "text": [
        "\n",
        "['../../images/testsets/Gallagher_small/17_183.jpg', '../../images/testsets/Gallagher_small/23_307.jpg']\n",
        "Score: 0.0832 for 17 and 23"
       ]
      },
      {
       "output_type": "stream",
       "stream": "stdout",
       "text": [
        "\n",
        "['../../images/testsets/Gallagher_small/17_183.jpg', '../../images/testsets/Gallagher_small/25_462.jpg']\n",
        "Score: 0.0491 for 17 and 25"
       ]
      },
      {
       "output_type": "stream",
       "stream": "stdout",
       "text": [
        "\n",
        "['../../images/testsets/Gallagher_small/17_183.jpg', '../../images/testsets/Gallagher_small/23_534.jpg']\n",
        "Score: -0.1000 for 17 and 23 (Less than two matches)"
       ]
      },
      {
       "output_type": "stream",
       "stream": "stdout",
       "text": [
        "\n",
        "['../../images/testsets/Gallagher_small/17_183.jpg', '../../images/testsets/Gallagher_small/31_582.jpg']\n",
        "Score: 0.0221 for 17 and 31"
       ]
      },
      {
       "output_type": "stream",
       "stream": "stdout",
       "text": [
        "\n",
        "['../../images/testsets/Gallagher_small/17_183.jpg', '../../images/testsets/Gallagher_small/15_224.jpg']\n",
        "Score: 0.0787 for 17 and 15"
       ]
      },
      {
       "output_type": "stream",
       "stream": "stdout",
       "text": [
        "\n",
        "['../../images/testsets/Gallagher_small/17_183.jpg', '../../images/testsets/Gallagher_small/23_508.jpg']\n",
        "Score: 0.0749 for 17 and 23"
       ]
      },
      {
       "output_type": "stream",
       "stream": "stdout",
       "text": [
        "\n",
        "['../../images/testsets/Gallagher_small/17_183.jpg', '../../images/testsets/Gallagher_small/18_220.jpg']\n",
        "Score: 0.0222 for 17 and 18"
       ]
      },
      {
       "output_type": "stream",
       "stream": "stdout",
       "text": [
        "\n",
        "['../../images/testsets/Gallagher_small/17_183.jpg', '../../images/testsets/Gallagher_small/15_151.jpg']\n",
        "Score: -0.0619 for 17 and 15"
       ]
      },
      {
       "output_type": "stream",
       "stream": "stdout",
       "text": [
        "\n",
        "['../../images/testsets/Gallagher_small/17_183.jpg', '../../images/testsets/Gallagher_small/16_182.jpg']\n",
        "Score: 0.0420 for 17 and 16"
       ]
      },
      {
       "output_type": "stream",
       "stream": "stdout",
       "text": [
        "\n",
        "['../../images/testsets/Gallagher_small/17_183.jpg', '../../images/testsets/Gallagher_small/23_875.jpg']\n",
        "Score: -0.0049 for 17 and 23"
       ]
      },
      {
       "output_type": "stream",
       "stream": "stdout",
       "text": [
        "\n",
        "['../../images/testsets/Gallagher_small/17_183.jpg', '../../images/testsets/Gallagher_small/23_549.jpg']\n",
        "Score: 0.0002 for 17 and 23"
       ]
      },
      {
       "output_type": "stream",
       "stream": "stdout",
       "text": [
        "\n",
        "['../../images/testsets/Gallagher_small/17_183.jpg', '../../images/testsets/Gallagher_small/32_648.jpg']\n",
        "Score: -0.1000 for 17 and 32 (Less than two matches)"
       ]
      },
      {
       "output_type": "stream",
       "stream": "stdout",
       "text": [
        "\n",
        "['../../images/testsets/Gallagher_small/17_183.jpg', '../../images/testsets/Gallagher_small/15_171.jpg']\n",
        "Score: 0.0364 for 17 and 15"
       ]
      },
      {
       "output_type": "stream",
       "stream": "stdout",
       "text": [
        "\n",
        "['../../images/testsets/Gallagher_small/17_183.jpg', '../../images/testsets/Gallagher_small/24_358.jpg']\n",
        "Score: -0.0763 for 17 and 24"
       ]
      },
      {
       "output_type": "stream",
       "stream": "stdout",
       "text": [
        "\n",
        "['../../images/testsets/Gallagher_small/17_183.jpg', '../../images/testsets/Gallagher_small/25_458.jpg']\n",
        "Score: 0.0380 for 17 and 25"
       ]
      },
      {
       "output_type": "stream",
       "stream": "stdout",
       "text": [
        "\n",
        "['../../images/testsets/Gallagher_small/17_183.jpg', '../../images/testsets/Gallagher_small/30_569.jpg']\n",
        "Score: 0.0687 for 17 and 30"
       ]
      },
      {
       "output_type": "stream",
       "stream": "stdout",
       "text": [
        "\n",
        "['../../images/testsets/Gallagher_small/17_183.jpg', '../../images/testsets/Gallagher_small/32_645.jpg']\n",
        "Score: -0.0823 for 17 and 32"
       ]
      },
      {
       "output_type": "stream",
       "stream": "stdout",
       "text": [
        "\n",
        "['../../images/testsets/Gallagher_small/17_183.jpg', '../../images/testsets/Gallagher_small/29_538.jpg']\n",
        "Score: -0.1000 for 17 and 29 (Less than two matches)"
       ]
      },
      {
       "output_type": "stream",
       "stream": "stdout",
       "text": [
        "\n",
        "['../../images/testsets/Gallagher_small/17_183.jpg', '../../images/testsets/Gallagher_small/21_251.jpg']\n",
        "Score: 0.0465 for 17 and 21"
       ]
      },
      {
       "output_type": "stream",
       "stream": "stdout",
       "text": [
        "\n",
        "['../../images/testsets/Gallagher_small/17_183.jpg', '../../images/testsets/Gallagher_small/20_249.jpg']\n",
        "Score: 0.0358 for 17 and 20"
       ]
      },
      {
       "output_type": "stream",
       "stream": "stdout",
       "text": [
        "\n",
        "['../../images/testsets/Gallagher_small/17_183.jpg', '../../images/testsets/Gallagher_small/15_181.jpg']\n",
        "Score: 0.0401 for 17 and 15"
       ]
      },
      {
       "output_type": "stream",
       "stream": "stdout",
       "text": [
        "\n",
        "['../../images/testsets/Gallagher_small/17_183.jpg', '../../images/testsets/Gallagher_small/15_158.jpg']\n",
        "Score: 0.0379 for 17 and 15"
       ]
      },
      {
       "output_type": "stream",
       "stream": "stdout",
       "text": [
        "\n",
        "['../../images/testsets/Gallagher_small/17_183.jpg', '../../images/testsets/Gallagher_small/19_195.jpg']\n",
        "Score: 0.0391 for 17 and 19"
       ]
      },
      {
       "output_type": "stream",
       "stream": "stdout",
       "text": [
        "\n",
        "['../../images/testsets/Gallagher_small/17_183.jpg', '../../images/testsets/Gallagher_small/19_193.jpg']\n",
        "Score: -0.1701 for 17 and 19"
       ]
      },
      {
       "output_type": "stream",
       "stream": "stdout",
       "text": [
        "\n",
        "['../../images/testsets/Gallagher_small/17_183.jpg', '../../images/testsets/Gallagher_small/21_287.jpg']\n",
        "Score: -0.0717 for 17 and 21"
       ]
      },
      {
       "output_type": "stream",
       "stream": "stdout",
       "text": [
        "\n",
        "['../../images/testsets/Gallagher_small/17_183.jpg', '../../images/testsets/Gallagher_small/26_565.jpg']\n",
        "Score: 0.0037 for 17 and 26"
       ]
      },
      {
       "output_type": "stream",
       "stream": "stdout",
       "text": [
        "\n",
        "['../../images/testsets/Gallagher_small/17_183.jpg', '../../images/testsets/Gallagher_small/27_509.jpg']\n",
        "Score: -0.2510 for 17 and 27"
       ]
      },
      {
       "output_type": "stream",
       "stream": "stdout",
       "text": [
        "\n",
        "['../../images/testsets/Gallagher_small/17_183.jpg', '../../images/testsets/Gallagher_small/15_169.jpg']\n",
        "Score: 0.0233 for 17 and 15"
       ]
      },
      {
       "output_type": "stream",
       "stream": "stdout",
       "text": [
        "\n",
        "['../../images/testsets/Gallagher_small/17_183.jpg', '../../images/testsets/Gallagher_small/15_167.jpg']\n",
        "Score: 0.0853 for 17 and 15"
       ]
      },
      {
       "output_type": "stream",
       "stream": "stdout",
       "text": [
        "\n",
        "['../../images/testsets/Gallagher_small/17_183.jpg', '../../images/testsets/Gallagher_small/21_587.jpg']\n",
        "Score: 0.0959 for 17 and 21"
       ]
      },
      {
       "output_type": "stream",
       "stream": "stdout",
       "text": [
        "\n",
        "['../../images/testsets/Gallagher_small/17_183.jpg', '../../images/testsets/Gallagher_small/15_222.jpg']\n",
        "Score: -0.1000 for 17 and 15 (Less than two matches)"
       ]
      },
      {
       "output_type": "stream",
       "stream": "stdout",
       "text": [
        "\n",
        "['../../images/testsets/Gallagher_small/17_183.jpg', '../../images/testsets/Gallagher_small/16_178.jpg']\n",
        "Score: -0.1000 for 17 and 16 (Less than two matches)"
       ]
      },
      {
       "output_type": "stream",
       "stream": "stdout",
       "text": [
        "\n",
        "['../../images/testsets/Gallagher_small/17_183.jpg', '../../images/testsets/Gallagher_small/17_165.jpg']\n",
        "Score: -0.1000 for 17 and 17 (Less than two matches)"
       ]
      },
      {
       "output_type": "stream",
       "stream": "stdout",
       "text": [
        "\n",
        "['../../images/testsets/Gallagher_small/17_183.jpg', '../../images/testsets/Gallagher_small/28_537.jpg']\n",
        "Score: -0.1000 for 17 and 28 (Less than two matches)"
       ]
      },
      {
       "output_type": "stream",
       "stream": "stdout",
       "text": [
        "\n",
        "['../../images/testsets/Gallagher_small/17_183.jpg', '../../images/testsets/Gallagher_small/27_524.jpg']\n",
        "Score: 0.0737 for 17 and 27"
       ]
      },
      {
       "output_type": "stream",
       "stream": "stdout",
       "text": [
        "\n",
        "['../../images/testsets/Gallagher_small/17_183.jpg', '../../images/testsets/Gallagher_small/13_163.jpg']\n",
        "Score: 0.0637 for 17 and 13"
       ]
      },
      {
       "output_type": "stream",
       "stream": "stdout",
       "text": [
        "\n",
        "['../../images/testsets/Gallagher_small/17_183.jpg', '../../images/testsets/Gallagher_small/23_302.jpg']\n",
        "Score: 0.0015 for 17 and 23"
       ]
      },
      {
       "output_type": "stream",
       "stream": "stdout",
       "text": [
        "\n",
        "['../../images/testsets/Gallagher_small/19_187.jpg', '../../images/testsets/Gallagher_small/31_580.jpg']\n",
        "Score: -0.1000 for 19 and 31 (Less than two matches)"
       ]
      },
      {
       "output_type": "stream",
       "stream": "stdout",
       "text": [
        "\n",
        "['../../images/testsets/Gallagher_small/19_187.jpg', '../../images/testsets/Gallagher_small/21_872.jpg']\n",
        "Score: -0.1000 for 19 and 21 (Less than two matches)"
       ]
      },
      {
       "output_type": "stream",
       "stream": "stdout",
       "text": [
        "\n",
        "['../../images/testsets/Gallagher_small/19_187.jpg', '../../images/testsets/Gallagher_small/23_307.jpg']\n",
        "Score: 0.0825 for 19 and 23"
       ]
      },
      {
       "output_type": "stream",
       "stream": "stdout",
       "text": [
        "\n",
        "['../../images/testsets/Gallagher_small/19_187.jpg', '../../images/testsets/Gallagher_small/25_462.jpg']\n",
        "Score: 0.0619 for 19 and 25"
       ]
      },
      {
       "output_type": "stream",
       "stream": "stdout",
       "text": [
        "\n",
        "['../../images/testsets/Gallagher_small/19_187.jpg', '../../images/testsets/Gallagher_small/23_534.jpg']\n",
        "Score: -0.1000 for 19 and 23 (Less than two matches)"
       ]
      },
      {
       "output_type": "stream",
       "stream": "stdout",
       "text": [
        "\n",
        "['../../images/testsets/Gallagher_small/19_187.jpg', '../../images/testsets/Gallagher_small/31_582.jpg']\n",
        "Score: 0.0305 for 19 and 31"
       ]
      },
      {
       "output_type": "stream",
       "stream": "stdout",
       "text": [
        "\n",
        "['../../images/testsets/Gallagher_small/19_187.jpg', '../../images/testsets/Gallagher_small/15_224.jpg']\n",
        "Score: -0.1000 for 19 and 15 (Less than two matches)"
       ]
      },
      {
       "output_type": "stream",
       "stream": "stdout",
       "text": [
        "\n",
        "['../../images/testsets/Gallagher_small/19_187.jpg', '../../images/testsets/Gallagher_small/23_508.jpg']\n",
        "Score: 0.1008 for 19 and 23"
       ]
      },
      {
       "output_type": "stream",
       "stream": "stdout",
       "text": [
        "\n",
        "['../../images/testsets/Gallagher_small/19_187.jpg', '../../images/testsets/Gallagher_small/18_220.jpg']\n",
        "Score: -0.1000 for 19 and 18 (Less than two matches)"
       ]
      },
      {
       "output_type": "stream",
       "stream": "stdout",
       "text": [
        "\n",
        "['../../images/testsets/Gallagher_small/19_187.jpg', '../../images/testsets/Gallagher_small/15_151.jpg']\n",
        "Score: -0.1000 for 19 and 15 (Less than two matches)"
       ]
      },
      {
       "output_type": "stream",
       "stream": "stdout",
       "text": [
        "\n",
        "['../../images/testsets/Gallagher_small/19_187.jpg', '../../images/testsets/Gallagher_small/16_182.jpg']\n",
        "Score: -0.1000 for 19 and 16 (Less than two matches)"
       ]
      },
      {
       "output_type": "stream",
       "stream": "stdout",
       "text": [
        "\n",
        "['../../images/testsets/Gallagher_small/19_187.jpg', '../../images/testsets/Gallagher_small/23_875.jpg']\n",
        "Score: 0.0371 for 19 and 23"
       ]
      },
      {
       "output_type": "stream",
       "stream": "stdout",
       "text": [
        "\n",
        "['../../images/testsets/Gallagher_small/19_187.jpg', '../../images/testsets/Gallagher_small/23_549.jpg']\n",
        "Score: -0.1000 for 19 and 23 (Less than two matches)"
       ]
      },
      {
       "output_type": "stream",
       "stream": "stdout",
       "text": [
        "\n",
        "['../../images/testsets/Gallagher_small/19_187.jpg', '../../images/testsets/Gallagher_small/32_648.jpg']\n",
        "Score: -0.1000 for 19 and 32 (Less than two matches)"
       ]
      },
      {
       "output_type": "stream",
       "stream": "stdout",
       "text": [
        "\n",
        "['../../images/testsets/Gallagher_small/19_187.jpg', '../../images/testsets/Gallagher_small/15_171.jpg']\n",
        "Score: -0.1000 for 19 and 15 (Less than two matches)"
       ]
      },
      {
       "output_type": "stream",
       "stream": "stdout",
       "text": [
        "\n",
        "['../../images/testsets/Gallagher_small/19_187.jpg', '../../images/testsets/Gallagher_small/24_358.jpg']\n",
        "Score: -0.1000 for 19 and 24 (Less than two matches)"
       ]
      },
      {
       "output_type": "stream",
       "stream": "stdout",
       "text": [
        "\n",
        "['../../images/testsets/Gallagher_small/19_187.jpg', '../../images/testsets/Gallagher_small/25_458.jpg']\n",
        "Score: 0.0994 for 19 and 25"
       ]
      },
      {
       "output_type": "stream",
       "stream": "stdout",
       "text": [
        "\n",
        "['../../images/testsets/Gallagher_small/19_187.jpg', '../../images/testsets/Gallagher_small/30_569.jpg']\n",
        "Score: -0.1000 for 19 and 30 (Less than two matches)"
       ]
      },
      {
       "output_type": "stream",
       "stream": "stdout",
       "text": [
        "\n",
        "['../../images/testsets/Gallagher_small/19_187.jpg', '../../images/testsets/Gallagher_small/32_645.jpg']\n",
        "Score: -0.1000 for 19 and 32 (Less than two matches)"
       ]
      },
      {
       "output_type": "stream",
       "stream": "stdout",
       "text": [
        "\n",
        "['../../images/testsets/Gallagher_small/19_187.jpg', '../../images/testsets/Gallagher_small/29_538.jpg']\n",
        "Score: -0.1000 for 19 and 29 (Less than two matches)"
       ]
      },
      {
       "output_type": "stream",
       "stream": "stdout",
       "text": [
        "\n",
        "['../../images/testsets/Gallagher_small/19_187.jpg', '../../images/testsets/Gallagher_small/21_251.jpg']\n",
        "Score: -0.1000 for 19 and 21 (Less than two matches)"
       ]
      },
      {
       "output_type": "stream",
       "stream": "stdout",
       "text": [
        "\n",
        "['../../images/testsets/Gallagher_small/19_187.jpg', '../../images/testsets/Gallagher_small/20_249.jpg']\n",
        "Score: 0.0634 for 19 and 20"
       ]
      },
      {
       "output_type": "stream",
       "stream": "stdout",
       "text": [
        "\n",
        "['../../images/testsets/Gallagher_small/19_187.jpg', '../../images/testsets/Gallagher_small/15_181.jpg']\n",
        "Score: -0.1000 for 19 and 15 (Less than two matches)"
       ]
      },
      {
       "output_type": "stream",
       "stream": "stdout",
       "text": [
        "\n",
        "['../../images/testsets/Gallagher_small/19_187.jpg', '../../images/testsets/Gallagher_small/15_158.jpg']\n",
        "Score: -0.1000 for 19 and 15 (Less than two matches)"
       ]
      },
      {
       "output_type": "stream",
       "stream": "stdout",
       "text": [
        "\n",
        "['../../images/testsets/Gallagher_small/19_187.jpg', '../../images/testsets/Gallagher_small/19_195.jpg']\n",
        "Score: 0.1128 for 19 and 19"
       ]
      },
      {
       "ename": "KeyboardInterrupt",
       "evalue": "",
       "output_type": "pyerr",
       "traceback": [
        "\u001b[0;31m---------------------------------------------------------------------------\u001b[0m\n\u001b[0;31mKeyboardInterrupt\u001b[0m                         Traceback (most recent call last)",
        "\u001b[0;32m<ipython-input-3-5312430ed4d1>\u001b[0m in \u001b[0;36m<module>\u001b[0;34m()\u001b[0m\n\u001b[1;32m      2\u001b[0m result = [((l1 == l2), cluster.scoreImagePair([p1, p2], louvain.cluster))\n\u001b[1;32m      3\u001b[0m         \u001b[0;32mfor\u001b[0m \u001b[0;34m(\u001b[0m\u001b[0;34m(\u001b[0m\u001b[0mp1\u001b[0m\u001b[0;34m,\u001b[0m \u001b[0mp2\u001b[0m\u001b[0;34m)\u001b[0m\u001b[0;34m,\u001b[0m \u001b[0;34m(\u001b[0m\u001b[0ml1\u001b[0m\u001b[0;34m,\u001b[0m \u001b[0ml2\u001b[0m\u001b[0;34m)\u001b[0m\u001b[0;34m,\u001b[0m \u001b[0mi\u001b[0m\u001b[0;34m)\u001b[0m\u001b[0;34m\u001b[0m\u001b[0m\n\u001b[0;32m----> 4\u001b[0;31m         in zip(path_pairs, label_pairs, range(len(list(label_pairs))) )]\n\u001b[0m\u001b[1;32m      5\u001b[0m \u001b[0;34m\u001b[0m\u001b[0m\n\u001b[1;32m      6\u001b[0m \u001b[0mdisplay\u001b[0m\u001b[0;34m.\u001b[0m\u001b[0mscoreHist\u001b[0m\u001b[0;34m(\u001b[0m\u001b[0mresult\u001b[0m\u001b[0;34m)\u001b[0m\u001b[0;34m\u001b[0m\u001b[0m\n",
        "\u001b[0;32m/home/arnfred/Thesis/code/cluster.pyc\u001b[0m in \u001b[0;36mscoreImagePair\u001b[0;34m(paths, clustering, dampening, size)\u001b[0m\n\u001b[1;32m     70\u001b[0m         \u001b[0;31m# Construct graphs\u001b[0m\u001b[0;34m\u001b[0m\u001b[0;34m\u001b[0m\u001b[0m\n\u001b[1;32m     71\u001b[0m         \u001b[0mscore_graph\u001b[0m \u001b[0;34m=\u001b[0m \u001b[0minitGraph\u001b[0m\u001b[0;34m(\u001b[0m\u001b[0mscore_weights\u001b[0m\u001b[0;34m)\u001b[0m\u001b[0;34m\u001b[0m\u001b[0m\n\u001b[0;32m---> 72\u001b[0;31m         \u001b[0mcluster_graph\u001b[0m \u001b[0;34m=\u001b[0m \u001b[0minitGraph\u001b[0m\u001b[0;34m(\u001b[0m\u001b[0mcluster_weights\u001b[0m\u001b[0;34m)\u001b[0m\u001b[0;34m\u001b[0m\u001b[0m\n\u001b[0m\u001b[1;32m     73\u001b[0m         \u001b[0msetColorMap\u001b[0m\u001b[0;34m(\u001b[0m\u001b[0mscore_graph\u001b[0m\u001b[0;34m,\u001b[0m \u001b[0mindices\u001b[0m\u001b[0;34m)\u001b[0m\u001b[0;34m\u001b[0m\u001b[0m\n\u001b[1;32m     74\u001b[0m         \u001b[0msetColorMap\u001b[0m\u001b[0;34m(\u001b[0m\u001b[0mcluster_graph\u001b[0m\u001b[0;34m,\u001b[0m \u001b[0mindices\u001b[0m\u001b[0;34m)\u001b[0m\u001b[0;34m\u001b[0m\u001b[0m\n",
        "\u001b[0;32m/home/arnfred/Thesis/code/louvain.pyc\u001b[0m in \u001b[0;36mcluster\u001b[0;34m(graph, verbose)\u001b[0m\n\u001b[1;32m     32\u001b[0m         \u001b[0mK\u001b[0m \u001b[0;34m=\u001b[0m \u001b[0;36m2\u001b[0m\u001b[0;34m*\u001b[0m\u001b[0mnumpy\u001b[0m\u001b[0;34m.\u001b[0m\u001b[0msum\u001b[0m\u001b[0;34m(\u001b[0m\u001b[0mw\u001b[0m\u001b[0;34m.\u001b[0m\u001b[0mfa\u001b[0m\u001b[0;34m)\u001b[0m\u001b[0;34m\u001b[0m\u001b[0m\n\u001b[1;32m     33\u001b[0m         \u001b[0;32mwhile\u001b[0m \u001b[0;34m(\u001b[0m\u001b[0mmoved\u001b[0m \u001b[0;34m>\u001b[0m \u001b[0;36m0\u001b[0m\u001b[0;34m)\u001b[0m \u001b[0;34m:\u001b[0m\u001b[0;34m\u001b[0m\u001b[0m\n\u001b[0;32m---> 34\u001b[0;31m                 \u001b[0mmoved\u001b[0m \u001b[0;34m=\u001b[0m \u001b[0msum\u001b[0m\u001b[0;34m(\u001b[0m\u001b[0;34m[\u001b[0m\u001b[0mmove\u001b[0m\u001b[0;34m(\u001b[0m\u001b[0mgraph\u001b[0m\u001b[0;34m,\u001b[0m \u001b[0mv\u001b[0m\u001b[0;34m,\u001b[0m \u001b[0mpartitions\u001b[0m\u001b[0;34m,\u001b[0m \u001b[0mK\u001b[0m\u001b[0;34m)\u001b[0m \u001b[0;32mfor\u001b[0m \u001b[0mv\u001b[0m \u001b[0;32min\u001b[0m \u001b[0mgraph\u001b[0m\u001b[0;34m.\u001b[0m\u001b[0mvertices\u001b[0m\u001b[0;34m(\u001b[0m\u001b[0;34m)\u001b[0m\u001b[0;34m]\u001b[0m\u001b[0;34m)\u001b[0m\u001b[0;34m\u001b[0m\u001b[0m\n\u001b[0m\u001b[1;32m     35\u001b[0m                 \u001b[0;32mif\u001b[0m \u001b[0mverbose\u001b[0m \u001b[0;34m:\u001b[0m \u001b[0;32mprint\u001b[0m\u001b[0;34m(\u001b[0m\u001b[0;34m\"Moved %i vertices\"\u001b[0m \u001b[0;34m%\u001b[0m \u001b[0mmoved\u001b[0m\u001b[0;34m)\u001b[0m\u001b[0;34m\u001b[0m\u001b[0m\n\u001b[1;32m     36\u001b[0m         \u001b[0mp\u001b[0m \u001b[0;34m=\u001b[0m \u001b[0mreassign\u001b[0m\u001b[0;34m(\u001b[0m\u001b[0mpartitions\u001b[0m\u001b[0;34m)\u001b[0m\u001b[0;34m\u001b[0m\u001b[0m\n",
        "\u001b[0;32m/home/arnfred/Thesis/code/louvain.pyc\u001b[0m in \u001b[0;36mmove\u001b[0;34m(graph, v, partitions, K)\u001b[0m\n\u001b[1;32m     73\u001b[0m         \u001b[0mold_prospect\u001b[0m \u001b[0;34m=\u001b[0m \u001b[0mdeltaQ\u001b[0m\u001b[0;34m(\u001b[0m\u001b[0mgraph\u001b[0m\u001b[0;34m,\u001b[0m \u001b[0mv\u001b[0m\u001b[0;34m,\u001b[0m \u001b[0morig_partition\u001b[0m\u001b[0;34m,\u001b[0m \u001b[0mpartitions\u001b[0m\u001b[0;34m,\u001b[0m \u001b[0mK\u001b[0m\u001b[0;34m)\u001b[0m\u001b[0;34m\u001b[0m\u001b[0m\n\u001b[1;32m     74\u001b[0m         \u001b[0;31m# What is the best gain elsewhere?\u001b[0m\u001b[0;34m\u001b[0m\u001b[0;34m\u001b[0m\u001b[0m\n\u001b[0;32m---> 75\u001b[0;31m         \u001b[0mnew_prospects\u001b[0m \u001b[0;34m=\u001b[0m \u001b[0mprospect_set\u001b[0m\u001b[0;34m(\u001b[0m\u001b[0mgraph\u001b[0m\u001b[0;34m,\u001b[0m \u001b[0mv\u001b[0m\u001b[0;34m,\u001b[0m \u001b[0morig_partition\u001b[0m\u001b[0;34m,\u001b[0m \u001b[0mpartitions\u001b[0m\u001b[0;34m,\u001b[0m \u001b[0mK\u001b[0m\u001b[0;34m)\u001b[0m\u001b[0;34m\u001b[0m\u001b[0m\n\u001b[0m\u001b[1;32m     76\u001b[0m         \u001b[0mmax_prospect\u001b[0m \u001b[0;34m=\u001b[0m \u001b[0mmax\u001b[0m\u001b[0;34m(\u001b[0m\u001b[0mnew_prospects\u001b[0m\u001b[0;34m)\u001b[0m \u001b[0;32mif\u001b[0m \u001b[0;34m(\u001b[0m\u001b[0mlen\u001b[0m\u001b[0;34m(\u001b[0m\u001b[0mnew_prospects\u001b[0m\u001b[0;34m)\u001b[0m \u001b[0;34m>\u001b[0m \u001b[0;36m0\u001b[0m\u001b[0;34m)\u001b[0m \u001b[0;32melse\u001b[0m \u001b[0;34m(\u001b[0m\u001b[0;34m-\u001b[0m\u001b[0;36m1\u001b[0m\u001b[0;34m,\u001b[0m\u001b[0;34m-\u001b[0m\u001b[0;36m1\u001b[0m\u001b[0;34m)\u001b[0m\u001b[0;34m\u001b[0m\u001b[0m\n\u001b[1;32m     77\u001b[0m         \u001b[0;31m# Is it worth moving?\u001b[0m\u001b[0;34m\u001b[0m\u001b[0;34m\u001b[0m\u001b[0m\n",
        "\u001b[0;32m/home/arnfred/Thesis/code/louvain.pyc\u001b[0m in \u001b[0;36mprospect_set\u001b[0;34m(graph, v, orig_partition, partitions, K)\u001b[0m\n\u001b[1;32m     62\u001b[0m \u001b[0;34m\u001b[0m\u001b[0m\n\u001b[1;32m     63\u001b[0m \u001b[0;32mdef\u001b[0m \u001b[0mprospect_set\u001b[0m\u001b[0;34m(\u001b[0m\u001b[0mgraph\u001b[0m\u001b[0;34m,\u001b[0m \u001b[0mv\u001b[0m\u001b[0;34m,\u001b[0m \u001b[0morig_partition\u001b[0m\u001b[0;34m,\u001b[0m \u001b[0mpartitions\u001b[0m\u001b[0;34m,\u001b[0m \u001b[0mK\u001b[0m\u001b[0;34m)\u001b[0m \u001b[0;34m:\u001b[0m\u001b[0;34m\u001b[0m\u001b[0m\n\u001b[0;32m---> 64\u001b[0;31m         \u001b[0;32mreturn\u001b[0m \u001b[0;34m[\u001b[0m\u001b[0;34m(\u001b[0m\u001b[0mdeltaQ\u001b[0m\u001b[0;34m(\u001b[0m\u001b[0mgraph\u001b[0m\u001b[0;34m,\u001b[0m \u001b[0mv\u001b[0m\u001b[0;34m,\u001b[0m \u001b[0mp\u001b[0m\u001b[0;34m,\u001b[0m \u001b[0mpartitions\u001b[0m\u001b[0;34m,\u001b[0m \u001b[0mK\u001b[0m\u001b[0;34m)\u001b[0m\u001b[0;34m,\u001b[0m\u001b[0mp\u001b[0m\u001b[0;34m)\u001b[0m \u001b[0;32mfor\u001b[0m \u001b[0mp\u001b[0m \u001b[0;32min\u001b[0m \u001b[0mneighbour_partitions\u001b[0m\u001b[0;34m(\u001b[0m\u001b[0mgraph\u001b[0m\u001b[0;34m,\u001b[0m \u001b[0mv\u001b[0m\u001b[0;34m,\u001b[0m \u001b[0mpartitions\u001b[0m\u001b[0;34m)\u001b[0m \u001b[0;32mif\u001b[0m \u001b[0mp\u001b[0m \u001b[0;34m!=\u001b[0m \u001b[0morig_partition\u001b[0m\u001b[0;34m]\u001b[0m\u001b[0;34m\u001b[0m\u001b[0m\n\u001b[0m\u001b[1;32m     65\u001b[0m \u001b[0;34m\u001b[0m\u001b[0m\n\u001b[1;32m     66\u001b[0m \u001b[0;34m\u001b[0m\u001b[0m\n",
        "\u001b[0;32m/home/arnfred/Thesis/code/louvain.pyc\u001b[0m in \u001b[0;36mdeltaQ\u001b[0;34m(graph, v, partition, partitions, K)\u001b[0m\n\u001b[1;32m     51\u001b[0m         \u001b[0mw\u001b[0m \u001b[0;34m=\u001b[0m \u001b[0mgraph\u001b[0m\u001b[0;34m.\u001b[0m\u001b[0mep\u001b[0m\u001b[0;34m[\u001b[0m\u001b[0;34m\"weights\"\u001b[0m\u001b[0;34m]\u001b[0m\u001b[0;34m\u001b[0m\u001b[0m\n\u001b[1;32m     52\u001b[0m         \u001b[0mk\u001b[0m \u001b[0;34m=\u001b[0m \u001b[0mgraph\u001b[0m\u001b[0;34m.\u001b[0m\u001b[0mvp\u001b[0m\u001b[0;34m[\u001b[0m\u001b[0;34m\"degrees\"\u001b[0m\u001b[0;34m]\u001b[0m\u001b[0;34m\u001b[0m\u001b[0m\n\u001b[0;32m---> 53\u001b[0;31m         \u001b[0mv_weight\u001b[0m \u001b[0;34m=\u001b[0m \u001b[0;36m2\u001b[0m \u001b[0;34m*\u001b[0m \u001b[0mnumpy\u001b[0m\u001b[0;34m.\u001b[0m\u001b[0msum\u001b[0m\u001b[0;34m(\u001b[0m\u001b[0;34m[\u001b[0m\u001b[0mw\u001b[0m\u001b[0;34m[\u001b[0m\u001b[0me\u001b[0m\u001b[0;34m]\u001b[0m \u001b[0;32mfor\u001b[0m \u001b[0me\u001b[0m \u001b[0;32min\u001b[0m \u001b[0mv\u001b[0m\u001b[0;34m.\u001b[0m\u001b[0mall_edges\u001b[0m\u001b[0;34m(\u001b[0m\u001b[0;34m)\u001b[0m \u001b[0;32mif\u001b[0m \u001b[0mtoPartition\u001b[0m\u001b[0;34m(\u001b[0m\u001b[0me\u001b[0m\u001b[0;34m)\u001b[0m\u001b[0;34m]\u001b[0m\u001b[0;34m)\u001b[0m\u001b[0;34m\u001b[0m\u001b[0m\n\u001b[0m\u001b[1;32m     54\u001b[0m         \u001b[0mk_neighbours\u001b[0m \u001b[0;34m=\u001b[0m \u001b[0mnumpy\u001b[0m\u001b[0;34m.\u001b[0m\u001b[0msum\u001b[0m\u001b[0;34m(\u001b[0m\u001b[0;34m(\u001b[0m\u001b[0mpartitions\u001b[0m\u001b[0;34m.\u001b[0m\u001b[0mfa\u001b[0m \u001b[0;34m==\u001b[0m \u001b[0mpartition\u001b[0m\u001b[0;34m)\u001b[0m \u001b[0;34m*\u001b[0m \u001b[0mk\u001b[0m\u001b[0;34m.\u001b[0m\u001b[0mfa\u001b[0m\u001b[0;34m)\u001b[0m\u001b[0;34m\u001b[0m\u001b[0m\n\u001b[1;32m     55\u001b[0m         \u001b[0;32mreturn\u001b[0m \u001b[0;36m1.0\u001b[0m\u001b[0;34m/\u001b[0m\u001b[0mK\u001b[0m \u001b[0;34m*\u001b[0m \u001b[0;34m(\u001b[0m\u001b[0mv_weight\u001b[0m \u001b[0;34m-\u001b[0m \u001b[0;34m(\u001b[0m\u001b[0mk\u001b[0m\u001b[0;34m[\u001b[0m\u001b[0mv\u001b[0m\u001b[0;34m]\u001b[0m \u001b[0;34m*\u001b[0m \u001b[0mk_neighbours\u001b[0m\u001b[0;34m)\u001b[0m \u001b[0;34m/\u001b[0m \u001b[0mK\u001b[0m\u001b[0;34m)\u001b[0m\u001b[0;34m\u001b[0m\u001b[0m\n",
        "\u001b[0;32m/home/arnfred/Thesis/code/louvain.pyc\u001b[0m in \u001b[0;36mtoPartition\u001b[0;34m(e)\u001b[0m\n\u001b[1;32m     48\u001b[0m \u001b[0;32mdef\u001b[0m \u001b[0mdeltaQ\u001b[0m\u001b[0;34m(\u001b[0m\u001b[0mgraph\u001b[0m\u001b[0;34m,\u001b[0m \u001b[0mv\u001b[0m\u001b[0;34m,\u001b[0m \u001b[0mpartition\u001b[0m\u001b[0;34m,\u001b[0m \u001b[0mpartitions\u001b[0m\u001b[0;34m,\u001b[0m \u001b[0mK\u001b[0m\u001b[0;34m)\u001b[0m \u001b[0;34m:\u001b[0m\u001b[0;34m\u001b[0m\u001b[0m\n\u001b[1;32m     49\u001b[0m         \u001b[0;32mdef\u001b[0m \u001b[0mtoPartition\u001b[0m\u001b[0;34m(\u001b[0m\u001b[0me\u001b[0m\u001b[0;34m)\u001b[0m \u001b[0;34m:\u001b[0m\u001b[0;34m\u001b[0m\u001b[0m\n\u001b[0;32m---> 50\u001b[0;31m                 \u001b[0;32mreturn\u001b[0m \u001b[0;34m(\u001b[0m\u001b[0mpartitions\u001b[0m\u001b[0;34m[\u001b[0m\u001b[0me\u001b[0m\u001b[0;34m.\u001b[0m\u001b[0mtarget\u001b[0m\u001b[0;34m(\u001b[0m\u001b[0;34m)\u001b[0m\u001b[0;34m]\u001b[0m \u001b[0;34m==\u001b[0m \u001b[0mpartition\u001b[0m\u001b[0;34m)\u001b[0m \u001b[0;32mor\u001b[0m \u001b[0;34m(\u001b[0m\u001b[0mpartitions\u001b[0m\u001b[0;34m[\u001b[0m\u001b[0me\u001b[0m\u001b[0;34m.\u001b[0m\u001b[0msource\u001b[0m\u001b[0;34m(\u001b[0m\u001b[0;34m)\u001b[0m\u001b[0;34m]\u001b[0m \u001b[0;34m==\u001b[0m \u001b[0mpartition\u001b[0m\u001b[0;34m)\u001b[0m\u001b[0;34m\u001b[0m\u001b[0m\n\u001b[0m\u001b[1;32m     51\u001b[0m         \u001b[0mw\u001b[0m \u001b[0;34m=\u001b[0m \u001b[0mgraph\u001b[0m\u001b[0;34m.\u001b[0m\u001b[0mep\u001b[0m\u001b[0;34m[\u001b[0m\u001b[0;34m\"weights\"\u001b[0m\u001b[0;34m]\u001b[0m\u001b[0;34m\u001b[0m\u001b[0m\n\u001b[1;32m     52\u001b[0m         \u001b[0mk\u001b[0m \u001b[0;34m=\u001b[0m \u001b[0mgraph\u001b[0m\u001b[0;34m.\u001b[0m\u001b[0mvp\u001b[0m\u001b[0;34m[\u001b[0m\u001b[0;34m\"degrees\"\u001b[0m\u001b[0;34m]\u001b[0m\u001b[0;34m\u001b[0m\u001b[0m\n",
        "\u001b[0;32m/usr/lib/python2.7/dist-packages/graph_tool/__init__.pyc\u001b[0m in \u001b[0;36m__getitem__\u001b[0;34m(self, k)\u001b[0m\n\u001b[1;32m    416\u001b[0m \u001b[0;34m\u001b[0m\u001b[0m\n\u001b[1;32m    417\u001b[0m     \u001b[0;32mdef\u001b[0m \u001b[0m__getitem__\u001b[0m\u001b[0;34m(\u001b[0m\u001b[0mself\u001b[0m\u001b[0;34m,\u001b[0m \u001b[0mk\u001b[0m\u001b[0;34m)\u001b[0m\u001b[0;34m:\u001b[0m\u001b[0;34m\u001b[0m\u001b[0m\n\u001b[0;32m--> 418\u001b[0;31m         \u001b[0;32mreturn\u001b[0m \u001b[0mself\u001b[0m\u001b[0;34m.\u001b[0m\u001b[0m__map\u001b[0m\u001b[0;34m[\u001b[0m\u001b[0mself\u001b[0m\u001b[0;34m.\u001b[0m\u001b[0m__key_trans\u001b[0m\u001b[0;34m(\u001b[0m\u001b[0mk\u001b[0m\u001b[0;34m)\u001b[0m\u001b[0;34m]\u001b[0m\u001b[0;34m\u001b[0m\u001b[0m\n\u001b[0m\u001b[1;32m    419\u001b[0m \u001b[0;34m\u001b[0m\u001b[0m\n\u001b[1;32m    420\u001b[0m     \u001b[0;32mdef\u001b[0m \u001b[0m__setitem__\u001b[0m\u001b[0;34m(\u001b[0m\u001b[0mself\u001b[0m\u001b[0;34m,\u001b[0m \u001b[0mk\u001b[0m\u001b[0;34m,\u001b[0m \u001b[0mv\u001b[0m\u001b[0;34m)\u001b[0m\u001b[0;34m:\u001b[0m\u001b[0;34m\u001b[0m\u001b[0m\n",
        "\u001b[0;31mKeyboardInterrupt\u001b[0m: "
       ]
      },
      {
       "output_type": "stream",
       "stream": "stdout",
       "text": [
        "\n",
        "['../../images/testsets/Gallagher_small/19_187.jpg', '../../images/testsets/Gallagher_small/19_193.jpg']\n"
       ]
      }
     ],
     "prompt_number": 3
    }
   ],
   "metadata": {}
  }
 ]
}